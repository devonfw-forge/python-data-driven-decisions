{
 "cells": [
  {
   "cell_type": "markdown",
   "metadata": {},
   "source": [
    "# Machine Learning\n",
    "\n",
    "This notebook has to objective to predict the next year value of the GDP. The process is archived by using all the indicators available in the dataset and also the countries which are in the same cluster as the one selected."
   ]
  },
  {
   "cell_type": "code",
   "execution_count": 1,
   "metadata": {},
   "outputs": [],
   "source": [
    "import numpy as np\n",
    "import matplotlib.pyplot as plt\n",
    "from matplotlib.colors import ListedColormap\n",
    "import matplotlib.patches as mpatches\n",
    "import seaborn as sb\n",
    "import pandas as pd\n",
    "import os\n",
    "import ipywidgets as widgets\n",
    "import warnings\n",
    "warnings.filterwarnings(\"ignore\")\n",
    "from turtle import color\n",
    "import matplotlib.pyplot as plt\n",
    "import numpy as np\n",
    "import seaborn as sns\n",
    " \n",
    "%matplotlib inline\n",
    "plt.rcParams['figure.figsize'] = (16, 9)\n",
    "plt.style.use('ggplot')\n",
    " \n",
    "from sklearn.model_selection import train_test_split\n",
    "from sklearn.preprocessing import MinMaxScaler\n",
    "from sklearn.neighbors import KNeighborsClassifier\n",
    "from sklearn.linear_model import ElasticNetCV\n",
    "from sklearn.metrics import mean_squared_error \n",
    "from sklearn.metrics import classification_report\n",
    "from sklearn.metrics import confusion_matrix\n",
    "from sklearn.impute import SimpleImputer\n",
    "from Project.Utils.visualize import  get_zone\n",
    "from sklearn.neighbors import KNeighborsRegressor\n",
    "from Project.Utils.visualize import normalize_by_country\n"
   ]
  },
  {
   "cell_type": "markdown",
   "metadata": {},
   "source": [
    "Set all the needed variables."
   ]
  },
  {
   "cell_type": "code",
   "execution_count": 2,
   "metadata": {},
   "outputs": [],
   "source": [
    "output_path = os.getcwd() + '/Output/'\n",
    "cluster_path = output_path + '/Cluster/'\n",
    "df_gold = pd.read_csv(output_path + 'GoldDataframe.csv', index_col = ['Country', 'Year', 'Region'])\n",
    "df_cluster = pd.read_csv(cluster_path + 'All indicators.csv')\n",
    "country_list = list(np.sort(df_gold.index.get_level_values('Country').unique()))"
   ]
  },
  {
   "cell_type": "markdown",
   "metadata": {},
   "source": [
    "Get a dataframe with all the countries in the same cluster. It uses the dataframes generated in the cluster notebook. Before returning it the dataframe is normalized."
   ]
  },
  {
   "cell_type": "code",
   "execution_count": 3,
   "metadata": {},
   "outputs": [],
   "source": [
    "def get_cluster_countries(country, df_gold, df_cluster):\n",
    "    #Given a country, obatin data from the same countries in the cluster. \n",
    "    country_cluster_target = df_cluster.loc[df_cluster['Country'] == country]['Cluster'].item()\n",
    "    country_cluster_list = df_cluster.loc[df_cluster['Cluster'] == country_cluster_target]['Country'].tolist()\n",
    "\n",
    "    df = df_gold.loc[df_gold.index.get_level_values('Country').isin(country_cluster_list)].sort_index(level = 1)\n",
    "    df = normalize_by_country(df)\n",
    "    df.dropna(axis=1, inplace=True)\n",
    "    df.reset_index(drop = True, inplace=True)\n",
    "    \n",
    "    return df, country_cluster_list"
   ]
  },
  {
   "cell_type": "markdown",
   "metadata": {},
   "source": [
    "Algortihm to generate the model that will predict the gdp value. It uses the ElasticNetCV which adapts really well to our case, allowing us to change this parameters:\n",
    "- max_iter: number of iterations\n",
    "- tol: is the tolerance for the stopping criteria.\n",
    "\n",
    "The score variable represents the precision of the model."
   ]
  },
  {
   "cell_type": "code",
   "execution_count": 4,
   "metadata": {},
   "outputs": [],
   "source": [
    "def machine_algorithm(df, country_cluster_list):\n",
    "      #Separate Features and target\n",
    "      X_Target= df.iloc[len(country_cluster_list):]  ##Original gdp\n",
    "      X_Target = X_Target.loc[:, X_Target.columns == \"GDP\"] \n",
    "      feature_df= df.iloc[:-len(country_cluster_list)]  ##Indicators\n",
    "      feature_df= feature_df.loc[:, feature_df.columns != 'GDP']\n",
    "      #Split the data\n",
    "      X_train, X_test, y_train, y_test = train_test_split(feature_df, X_Target, test_size=0.3, random_state=0)\n",
    "      alphas = [0.0001, 0.001, 0.01, 0.1, 0.3, 0.5, 0.7, 1]\n",
    "      elastic_cv= ElasticNetCV(alphas=alphas, cv=5, max_iter = 100000, tol = 0.001)\n",
    "      model = elastic_cv.fit(X_train, y_train)\n",
    "      ypred = model.predict(X_test)\n",
    "      score = model.score(X_test, y_test)\n",
    "      mse = mean_squared_error(y_test, ypred)\n",
    "      #print(\"R2:{0:.4f}, MSE:{1:.4f}, RMSE:{2:.4f}\"\n",
    "      #      .format(score, mse, np.sqrt(mse)))\n",
    "      return model, score, feature_df"
   ]
  },
  {
   "cell_type": "markdown",
   "metadata": {},
   "source": [
    "In first place, normalize the dataframe target and make a copy. In the variable prediction is stored  the predictions for all the years, we will only read the last one, corresponding to 2021.\n",
    "\n",
    "After all the procedures, plot the data and analyze the prediction."
   ]
  },
  {
   "cell_type": "code",
   "execution_count": 5,
   "metadata": {},
   "outputs": [],
   "source": [
    "def plot_machine(model, score, feature_df, country, df_gold):\n",
    "    df_country = df_gold.loc[df_gold.index.get_level_values('Country') == country]\n",
    "    df_country_original  = df_country.copy()\n",
    "    df_country = normalize_by_country(df_country)\n",
    "\n",
    "    pred_df  = df_country.copy().dropna(axis=1)\n",
    "    pred_df= pred_df.loc[:, pred_df.columns != 'GDP']\n",
    "    pred_df= pred_df.loc[:, pred_df.columns.isin(feature_df.columns)] # You have to use the same indicators as the trained model (all countries must have data for the indicator, if not is dropped)\n",
    "    pred_df.drop(pred_df.head(-1).index,inplace=True) # Save only the last year to be used as input in the model\n",
    "    prediction  = model.predict(pred_df)\n",
    "    next_year_predict = prediction[-1] * df_country_original['GDP'].max()\n",
    "\n",
    "    aux_line = np.array([df_country_original['GDP'][-1], next_year_predict])\n",
    "    std_1 = 1 - score\n",
    "\n",
    "    plt.plot(2021, next_year_predict, 'ro', label='Prediction') ##Dot\n",
    "    plt.fill_between(np.array([2020,2021]), aux_line * (1 - std_1), aux_line * (1 + std_1), color='r', alpha=0.2) ##Fill\n",
    "    plt.plot([2020,2021], aux_line, 'b-', color = 'red', linestyle='--') ##Discontinous line\n",
    "    plt.plot(df_country_original.index.get_level_values('Year').values, df_country_original['GDP'], 'b-', label='Original', color = 'blue') ##Original GDP\n",
    "\n",
    "    plt.legend()\n",
    "    plt.title('Following year GDP prediction')\n",
    "    plt.show()\n"
   ]
  },
  {
   "cell_type": "markdown",
   "metadata": {},
   "source": [
    "Widget to call all the above methods."
   ]
  },
  {
   "cell_type": "code",
   "execution_count": 6,
   "metadata": {},
   "outputs": [
    {
     "data": {
      "application/vnd.jupyter.widget-view+json": {
       "model_id": "38f3b930a23346288bb4efed9c865db7",
       "version_major": 2,
       "version_minor": 0
      },
      "text/plain": [
       "interactive(children=(Dropdown(description='Zone:', options=('Afghanistan', 'Albania', 'Algeria', 'Angola', 'A…"
      ]
     },
     "metadata": {},
     "output_type": "display_data"
    },
    {
     "data": {
      "text/plain": [
       "<function __main__.table_machine(zone)>"
      ]
     },
     "execution_count": 6,
     "metadata": {},
     "output_type": "execute_result"
    }
   ],
   "source": [
    "def table_machine(zone):\n",
    "    df, country_cluster_list = get_cluster_countries(zone, df_gold, df_cluster)\n",
    "    model, score, feature_df = machine_algorithm(df, country_cluster_list)\n",
    "    plot_machine(model, score, feature_df, zone, df_gold)\n",
    "\n",
    "\n",
    "zone_drop_machine = widgets.Dropdown(\n",
    "    options= country_list,\n",
    "    value ='Afghanistan',\n",
    "    description='Zone:',\n",
    ")\n",
    "\n",
    "widgets.interact(table_machine, zone = zone_drop_machine)"
   ]
  },
  {
   "cell_type": "code",
   "execution_count": null,
   "metadata": {},
   "outputs": [],
   "source": []
  }
 ],
 "metadata": {
  "kernelspec": {
   "display_name": "Python 3.10.5 ('.venv': poetry)",
   "language": "python",
   "name": "python3"
  },
  "language_info": {
   "codemirror_mode": {
    "name": "ipython",
    "version": 3
   },
   "file_extension": ".py",
   "mimetype": "text/x-python",
   "name": "python",
   "nbconvert_exporter": "python",
   "pygments_lexer": "ipython3",
   "version": "3.10.5"
  },
  "orig_nbformat": 4,
  "vscode": {
   "interpreter": {
    "hash": "6044c39f3fa8d69f78786198aef61ed0dc3fdd7ddd5a88c111ee27e3b3325eb4"
   }
  }
 },
 "nbformat": 4,
 "nbformat_minor": 2
}
