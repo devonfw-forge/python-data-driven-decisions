{
 "cells": [
  {
   "cell_type": "markdown",
   "metadata": {},
   "source": [
    "# Clustering\n",
    "\n",
    "In this notebook clustering is being applied to the correlation dataframe in order to group countries by similarity. The analysis will be performed for the different dimensions of the indicators: equality, socio-demographic and economic. In the end there is a global analysis  using all the indicators and giving a final conclusion to this notebook."
   ]
  },
  {
   "cell_type": "markdown",
   "metadata": {},
   "source": [
    "### Import\n",
    "\n",
    "Import all the libraries and the correlation dataframe generated in the Notebook-Golden."
   ]
  },
  {
   "cell_type": "code",
   "execution_count": 1,
   "metadata": {},
   "outputs": [],
   "source": [
    "import os\n",
    "import numpy as np\n",
    "import pandas as pd\n",
    "import matplotlib.pyplot as plt\n",
    "import plotly.express as px\n",
    "from numpy import sort\n",
    "from sklearn.manifold import TSNE\n",
    "import ipywidgets as widgets\n",
    "import seaborn as sns\n",
    "import warnings\n",
    "warnings.filterwarnings(\"ignore\")\n",
    "from matplotlib import gridspec\n",
    "from sklearn.cluster import OPTICS, cluster_optics_dbscan\n",
    "from sklearn.preprocessing import normalize, StandardScaler\n",
    "from sklearn.cluster import AffinityPropagation\n",
    "from ipywidgets import interact, interact_manual\n",
    "import matplotlib.pyplot as plt\n",
    "from matplotlib_venn import venn3\n",
    "\n",
    "output_path = os.getcwd() + '/Output/'\n",
    "col_country = 'Country'\n",
    "col_region = 'Region'\n",
    "col_year = 'Year'\n",
    "col_cluster = 'Cluster'\n",
    "col_1comp = '1st_component'\n",
    "col_2comp = '2nd_component'"
   ]
  },
  {
   "cell_type": "markdown",
   "metadata": {},
   "source": [
    "## LOADING THE DATAFRAME\n",
    "We will use the Pearson Correlation Dataframe. We could use Spearman's by simply changing the name of the file to be read."
   ]
  },
  {
   "cell_type": "code",
   "execution_count": 2,
   "metadata": {},
   "outputs": [
    {
     "data": {
      "text/html": [
       "<div>\n",
       "<style scoped>\n",
       "    .dataframe tbody tr th:only-of-type {\n",
       "        vertical-align: middle;\n",
       "    }\n",
       "\n",
       "    .dataframe tbody tr th {\n",
       "        vertical-align: top;\n",
       "    }\n",
       "\n",
       "    .dataframe thead th {\n",
       "        text-align: right;\n",
       "    }\n",
       "</style>\n",
       "<table border=\"1\" class=\"dataframe\">\n",
       "  <thead>\n",
       "    <tr style=\"text-align: right;\">\n",
       "      <th></th>\n",
       "      <th>AgriShareGDP</th>\n",
       "      <th>CreditToAgriFishForest</th>\n",
       "      <th>EmploymentRural</th>\n",
       "      <th>% Soldiers</th>\n",
       "      <th>Employment in industry</th>\n",
       "      <th>Employment in services</th>\n",
       "      <th>Birth Rate</th>\n",
       "      <th>Cost business start-up</th>\n",
       "      <th>Death Rate</th>\n",
       "      <th>Employment in agriculture</th>\n",
       "      <th>...</th>\n",
       "      <th>Researchers in R&amp;D</th>\n",
       "      <th>R&amp;D expenditure %GDP</th>\n",
       "      <th>% Rural Population</th>\n",
       "      <th>Tertiary School Gender Parity</th>\n",
       "      <th>% Vulnerable female employment</th>\n",
       "      <th>% Vulnerable male employment</th>\n",
       "      <th>Civil Liberties</th>\n",
       "      <th>Freedom of Expression</th>\n",
       "      <th>% Healthcare Investment</th>\n",
       "      <th>Population</th>\n",
       "    </tr>\n",
       "    <tr>\n",
       "      <th>Country</th>\n",
       "      <th></th>\n",
       "      <th></th>\n",
       "      <th></th>\n",
       "      <th></th>\n",
       "      <th></th>\n",
       "      <th></th>\n",
       "      <th></th>\n",
       "      <th></th>\n",
       "      <th></th>\n",
       "      <th></th>\n",
       "      <th></th>\n",
       "      <th></th>\n",
       "      <th></th>\n",
       "      <th></th>\n",
       "      <th></th>\n",
       "      <th></th>\n",
       "      <th></th>\n",
       "      <th></th>\n",
       "      <th></th>\n",
       "      <th></th>\n",
       "      <th></th>\n",
       "    </tr>\n",
       "  </thead>\n",
       "  <tbody>\n",
       "    <tr>\n",
       "      <th>Afghanistan</th>\n",
       "      <td>-0.864566</td>\n",
       "      <td>NaN</td>\n",
       "      <td>NaN</td>\n",
       "      <td>NaN</td>\n",
       "      <td>0.910685</td>\n",
       "      <td>0.911984</td>\n",
       "      <td>-0.914286</td>\n",
       "      <td>-0.736206</td>\n",
       "      <td>-0.914286</td>\n",
       "      <td>-0.910685</td>\n",
       "      <td>...</td>\n",
       "      <td>NaN</td>\n",
       "      <td>NaN</td>\n",
       "      <td>-0.914286</td>\n",
       "      <td>NaN</td>\n",
       "      <td>-0.910685</td>\n",
       "      <td>-0.910685</td>\n",
       "      <td>NaN</td>\n",
       "      <td>0.666451</td>\n",
       "      <td>NaN</td>\n",
       "      <td>0.914286</td>\n",
       "    </tr>\n",
       "    <tr>\n",
       "      <th>Albania</th>\n",
       "      <td>-0.486522</td>\n",
       "      <td>NaN</td>\n",
       "      <td>NaN</td>\n",
       "      <td>-0.782836</td>\n",
       "      <td>0.802469</td>\n",
       "      <td>0.766483</td>\n",
       "      <td>-0.854823</td>\n",
       "      <td>-0.767682</td>\n",
       "      <td>0.885714</td>\n",
       "      <td>-0.858720</td>\n",
       "      <td>...</td>\n",
       "      <td>NaN</td>\n",
       "      <td>NaN</td>\n",
       "      <td>-0.889610</td>\n",
       "      <td>NaN</td>\n",
       "      <td>NaN</td>\n",
       "      <td>-0.697629</td>\n",
       "      <td>0.796368</td>\n",
       "      <td>NaN</td>\n",
       "      <td>NaN</td>\n",
       "      <td>-0.888312</td>\n",
       "    </tr>\n",
       "    <tr>\n",
       "      <th>Algeria</th>\n",
       "      <td>NaN</td>\n",
       "      <td>NaN</td>\n",
       "      <td>NaN</td>\n",
       "      <td>-0.755527</td>\n",
       "      <td>0.853152</td>\n",
       "      <td>0.753491</td>\n",
       "      <td>0.874026</td>\n",
       "      <td>-0.725858</td>\n",
       "      <td>NaN</td>\n",
       "      <td>-0.750487</td>\n",
       "      <td>...</td>\n",
       "      <td>NaN</td>\n",
       "      <td>NaN</td>\n",
       "      <td>-0.750649</td>\n",
       "      <td>0.738578</td>\n",
       "      <td>-0.758688</td>\n",
       "      <td>NaN</td>\n",
       "      <td>0.696313</td>\n",
       "      <td>NaN</td>\n",
       "      <td>0.629927</td>\n",
       "      <td>0.750649</td>\n",
       "    </tr>\n",
       "    <tr>\n",
       "      <th>Angola</th>\n",
       "      <td>NaN</td>\n",
       "      <td>NaN</td>\n",
       "      <td>NaN</td>\n",
       "      <td>-0.755527</td>\n",
       "      <td>-0.648912</td>\n",
       "      <td>-0.924326</td>\n",
       "      <td>-0.753247</td>\n",
       "      <td>-0.748783</td>\n",
       "      <td>-0.753247</td>\n",
       "      <td>0.912634</td>\n",
       "      <td>...</td>\n",
       "      <td>NaN</td>\n",
       "      <td>NaN</td>\n",
       "      <td>-0.753247</td>\n",
       "      <td>NaN</td>\n",
       "      <td>0.673595</td>\n",
       "      <td>0.655408</td>\n",
       "      <td>0.744056</td>\n",
       "      <td>0.748459</td>\n",
       "      <td>NaN</td>\n",
       "      <td>0.753247</td>\n",
       "    </tr>\n",
       "    <tr>\n",
       "      <th>Argentina</th>\n",
       "      <td>-0.598246</td>\n",
       "      <td>0.569016</td>\n",
       "      <td>NaN</td>\n",
       "      <td>-0.733421</td>\n",
       "      <td>NaN</td>\n",
       "      <td>NaN</td>\n",
       "      <td>-0.761039</td>\n",
       "      <td>NaN</td>\n",
       "      <td>-0.761039</td>\n",
       "      <td>-0.721302</td>\n",
       "      <td>...</td>\n",
       "      <td>0.791166</td>\n",
       "      <td>0.870413</td>\n",
       "      <td>-0.761039</td>\n",
       "      <td>0.766483</td>\n",
       "      <td>NaN</td>\n",
       "      <td>-0.433907</td>\n",
       "      <td>NaN</td>\n",
       "      <td>-0.705732</td>\n",
       "      <td>NaN</td>\n",
       "      <td>0.761039</td>\n",
       "    </tr>\n",
       "    <tr>\n",
       "      <th>...</th>\n",
       "      <td>...</td>\n",
       "      <td>...</td>\n",
       "      <td>...</td>\n",
       "      <td>...</td>\n",
       "      <td>...</td>\n",
       "      <td>...</td>\n",
       "      <td>...</td>\n",
       "      <td>...</td>\n",
       "      <td>...</td>\n",
       "      <td>...</td>\n",
       "      <td>...</td>\n",
       "      <td>...</td>\n",
       "      <td>...</td>\n",
       "      <td>...</td>\n",
       "      <td>...</td>\n",
       "      <td>...</td>\n",
       "      <td>...</td>\n",
       "      <td>...</td>\n",
       "      <td>...</td>\n",
       "      <td>...</td>\n",
       "      <td>...</td>\n",
       "    </tr>\n",
       "    <tr>\n",
       "      <th>Uruguay</th>\n",
       "      <td>-0.587853</td>\n",
       "      <td>0.886652</td>\n",
       "      <td>NaN</td>\n",
       "      <td>-0.934981</td>\n",
       "      <td>-0.498214</td>\n",
       "      <td>0.764133</td>\n",
       "      <td>-0.901299</td>\n",
       "      <td>-0.896356</td>\n",
       "      <td>0.619481</td>\n",
       "      <td>-0.790516</td>\n",
       "      <td>...</td>\n",
       "      <td>NaN</td>\n",
       "      <td>0.574862</td>\n",
       "      <td>-0.901299</td>\n",
       "      <td>NaN</td>\n",
       "      <td>NaN</td>\n",
       "      <td>-0.503410</td>\n",
       "      <td>NaN</td>\n",
       "      <td>NaN</td>\n",
       "      <td>0.833388</td>\n",
       "      <td>0.902597</td>\n",
       "    </tr>\n",
       "    <tr>\n",
       "      <th>Uzbekistan</th>\n",
       "      <td>-0.714518</td>\n",
       "      <td>NaN</td>\n",
       "      <td>NaN</td>\n",
       "      <td>-0.672302</td>\n",
       "      <td>0.916531</td>\n",
       "      <td>0.743340</td>\n",
       "      <td>0.607537</td>\n",
       "      <td>-0.847464</td>\n",
       "      <td>-0.675026</td>\n",
       "      <td>-0.745047</td>\n",
       "      <td>...</td>\n",
       "      <td>-0.794805</td>\n",
       "      <td>-0.748052</td>\n",
       "      <td>-0.836364</td>\n",
       "      <td>-0.666234</td>\n",
       "      <td>-0.828191</td>\n",
       "      <td>-0.834687</td>\n",
       "      <td>NaN</td>\n",
       "      <td>0.525872</td>\n",
       "      <td>0.925625</td>\n",
       "      <td>0.850649</td>\n",
       "    </tr>\n",
       "    <tr>\n",
       "      <th>Vanuatu</th>\n",
       "      <td>NaN</td>\n",
       "      <td>-0.569106</td>\n",
       "      <td>NaN</td>\n",
       "      <td>NaN</td>\n",
       "      <td>0.967197</td>\n",
       "      <td>-0.632023</td>\n",
       "      <td>-0.971429</td>\n",
       "      <td>-0.838989</td>\n",
       "      <td>-0.944120</td>\n",
       "      <td>-0.939916</td>\n",
       "      <td>...</td>\n",
       "      <td>NaN</td>\n",
       "      <td>NaN</td>\n",
       "      <td>-0.971429</td>\n",
       "      <td>NaN</td>\n",
       "      <td>-0.971095</td>\n",
       "      <td>-0.781423</td>\n",
       "      <td>0.827089</td>\n",
       "      <td>NaN</td>\n",
       "      <td>-0.813901</td>\n",
       "      <td>0.971429</td>\n",
       "    </tr>\n",
       "    <tr>\n",
       "      <th>Zambia</th>\n",
       "      <td>-0.815200</td>\n",
       "      <td>0.728456</td>\n",
       "      <td>NaN</td>\n",
       "      <td>-0.850456</td>\n",
       "      <td>0.863548</td>\n",
       "      <td>0.697629</td>\n",
       "      <td>-0.837662</td>\n",
       "      <td>NaN</td>\n",
       "      <td>-0.837662</td>\n",
       "      <td>-0.723612</td>\n",
       "      <td>...</td>\n",
       "      <td>NaN</td>\n",
       "      <td>NaN</td>\n",
       "      <td>-0.837662</td>\n",
       "      <td>NaN</td>\n",
       "      <td>-0.806755</td>\n",
       "      <td>-0.719714</td>\n",
       "      <td>-0.658414</td>\n",
       "      <td>-0.531383</td>\n",
       "      <td>-0.547724</td>\n",
       "      <td>0.837662</td>\n",
       "    </tr>\n",
       "    <tr>\n",
       "      <th>Zimbabwe</th>\n",
       "      <td>-0.669698</td>\n",
       "      <td>NaN</td>\n",
       "      <td>NaN</td>\n",
       "      <td>-0.841353</td>\n",
       "      <td>-0.782722</td>\n",
       "      <td>NaN</td>\n",
       "      <td>NaN</td>\n",
       "      <td>-0.884333</td>\n",
       "      <td>-0.905195</td>\n",
       "      <td>0.563170</td>\n",
       "      <td>...</td>\n",
       "      <td>NaN</td>\n",
       "      <td>NaN</td>\n",
       "      <td>0.877922</td>\n",
       "      <td>NaN</td>\n",
       "      <td>NaN</td>\n",
       "      <td>0.512504</td>\n",
       "      <td>0.637875</td>\n",
       "      <td>0.913470</td>\n",
       "      <td>NaN</td>\n",
       "      <td>0.832468</td>\n",
       "    </tr>\n",
       "  </tbody>\n",
       "</table>\n",
       "<p>156 rows × 28 columns</p>\n",
       "</div>"
      ],
      "text/plain": [
       "             AgriShareGDP  CreditToAgriFishForest  EmploymentRural  \\\n",
       "Country                                                              \n",
       "Afghanistan     -0.864566                     NaN              NaN   \n",
       "Albania         -0.486522                     NaN              NaN   \n",
       "Algeria               NaN                     NaN              NaN   \n",
       "Angola                NaN                     NaN              NaN   \n",
       "Argentina       -0.598246                0.569016              NaN   \n",
       "...                   ...                     ...              ...   \n",
       "Uruguay         -0.587853                0.886652              NaN   \n",
       "Uzbekistan      -0.714518                     NaN              NaN   \n",
       "Vanuatu               NaN               -0.569106              NaN   \n",
       "Zambia          -0.815200                0.728456              NaN   \n",
       "Zimbabwe        -0.669698                     NaN              NaN   \n",
       "\n",
       "             % Soldiers  Employment in industry  Employment in services  \\\n",
       "Country                                                                   \n",
       "Afghanistan         NaN                0.910685                0.911984   \n",
       "Albania       -0.782836                0.802469                0.766483   \n",
       "Algeria       -0.755527                0.853152                0.753491   \n",
       "Angola        -0.755527               -0.648912               -0.924326   \n",
       "Argentina     -0.733421                     NaN                     NaN   \n",
       "...                 ...                     ...                     ...   \n",
       "Uruguay       -0.934981               -0.498214                0.764133   \n",
       "Uzbekistan    -0.672302                0.916531                0.743340   \n",
       "Vanuatu             NaN                0.967197               -0.632023   \n",
       "Zambia        -0.850456                0.863548                0.697629   \n",
       "Zimbabwe      -0.841353               -0.782722                     NaN   \n",
       "\n",
       "             Birth Rate  Cost business start-up  Death Rate  \\\n",
       "Country                                                       \n",
       "Afghanistan   -0.914286               -0.736206   -0.914286   \n",
       "Albania       -0.854823               -0.767682    0.885714   \n",
       "Algeria        0.874026               -0.725858         NaN   \n",
       "Angola        -0.753247               -0.748783   -0.753247   \n",
       "Argentina     -0.761039                     NaN   -0.761039   \n",
       "...                 ...                     ...         ...   \n",
       "Uruguay       -0.901299               -0.896356    0.619481   \n",
       "Uzbekistan     0.607537               -0.847464   -0.675026   \n",
       "Vanuatu       -0.971429               -0.838989   -0.944120   \n",
       "Zambia        -0.837662                     NaN   -0.837662   \n",
       "Zimbabwe            NaN               -0.884333   -0.905195   \n",
       "\n",
       "             Employment in agriculture  ...  Researchers in R&D  \\\n",
       "Country                                 ...                       \n",
       "Afghanistan                  -0.910685  ...                 NaN   \n",
       "Albania                      -0.858720  ...                 NaN   \n",
       "Algeria                      -0.750487  ...                 NaN   \n",
       "Angola                        0.912634  ...                 NaN   \n",
       "Argentina                    -0.721302  ...            0.791166   \n",
       "...                                ...  ...                 ...   \n",
       "Uruguay                      -0.790516  ...                 NaN   \n",
       "Uzbekistan                   -0.745047  ...           -0.794805   \n",
       "Vanuatu                      -0.939916  ...                 NaN   \n",
       "Zambia                       -0.723612  ...                 NaN   \n",
       "Zimbabwe                      0.563170  ...                 NaN   \n",
       "\n",
       "             R&D expenditure %GDP  % Rural Population  \\\n",
       "Country                                                 \n",
       "Afghanistan                   NaN           -0.914286   \n",
       "Albania                       NaN           -0.889610   \n",
       "Algeria                       NaN           -0.750649   \n",
       "Angola                        NaN           -0.753247   \n",
       "Argentina                0.870413           -0.761039   \n",
       "...                           ...                 ...   \n",
       "Uruguay                  0.574862           -0.901299   \n",
       "Uzbekistan              -0.748052           -0.836364   \n",
       "Vanuatu                       NaN           -0.971429   \n",
       "Zambia                        NaN           -0.837662   \n",
       "Zimbabwe                      NaN            0.877922   \n",
       "\n",
       "             Tertiary School Gender Parity  % Vulnerable female employment  \\\n",
       "Country                                                                      \n",
       "Afghanistan                            NaN                       -0.910685   \n",
       "Albania                                NaN                             NaN   \n",
       "Algeria                           0.738578                       -0.758688   \n",
       "Angola                                 NaN                        0.673595   \n",
       "Argentina                         0.766483                             NaN   \n",
       "...                                    ...                             ...   \n",
       "Uruguay                                NaN                             NaN   \n",
       "Uzbekistan                       -0.666234                       -0.828191   \n",
       "Vanuatu                                NaN                       -0.971095   \n",
       "Zambia                                 NaN                       -0.806755   \n",
       "Zimbabwe                               NaN                             NaN   \n",
       "\n",
       "             % Vulnerable male employment  Civil Liberties  \\\n",
       "Country                                                      \n",
       "Afghanistan                     -0.910685              NaN   \n",
       "Albania                         -0.697629         0.796368   \n",
       "Algeria                               NaN         0.696313   \n",
       "Angola                           0.655408         0.744056   \n",
       "Argentina                       -0.433907              NaN   \n",
       "...                                   ...              ...   \n",
       "Uruguay                         -0.503410              NaN   \n",
       "Uzbekistan                      -0.834687              NaN   \n",
       "Vanuatu                         -0.781423         0.827089   \n",
       "Zambia                          -0.719714        -0.658414   \n",
       "Zimbabwe                         0.512504         0.637875   \n",
       "\n",
       "             Freedom of Expression  % Healthcare Investment  Population  \n",
       "Country                                                                  \n",
       "Afghanistan               0.666451                      NaN    0.914286  \n",
       "Albania                        NaN                      NaN   -0.888312  \n",
       "Algeria                        NaN                 0.629927    0.750649  \n",
       "Angola                    0.748459                      NaN    0.753247  \n",
       "Argentina                -0.705732                      NaN    0.761039  \n",
       "...                            ...                      ...         ...  \n",
       "Uruguay                        NaN                 0.833388    0.902597  \n",
       "Uzbekistan                0.525872                 0.925625    0.850649  \n",
       "Vanuatu                        NaN                -0.813901    0.971429  \n",
       "Zambia                   -0.531383                -0.547724    0.837662  \n",
       "Zimbabwe                  0.913470                      NaN    0.832468  \n",
       "\n",
       "[156 rows x 28 columns]"
      ]
     },
     "execution_count": 2,
     "metadata": {},
     "output_type": "execute_result"
    }
   ],
   "source": [
    "corr_df = pd.read_csv(output_path + 'Corr_DF_spearman.csv', index_col = col_country)\n",
    "corr_df"
   ]
  },
  {
   "cell_type": "markdown",
   "metadata": {},
   "source": [
    "## DEFINING THE GROUPS\n",
    "\n",
    "In order to carry out a more sensitive study, we will not only study the indicators as a whole, but also separate them in the following groups to study them more in-depth."
   ]
  },
  {
   "cell_type": "code",
   "execution_count": 3,
   "metadata": {},
   "outputs": [
    {
     "name": "stdout",
     "output_type": "stream",
     "text": [
      "Economic Indicators\n"
     ]
    },
    {
     "data": {
      "text/html": [
       "<div>\n",
       "<style scoped>\n",
       "    .dataframe tbody tr th:only-of-type {\n",
       "        vertical-align: middle;\n",
       "    }\n",
       "\n",
       "    .dataframe tbody tr th {\n",
       "        vertical-align: top;\n",
       "    }\n",
       "\n",
       "    .dataframe thead th {\n",
       "        text-align: right;\n",
       "    }\n",
       "</style>\n",
       "<table border=\"1\" class=\"dataframe\">\n",
       "  <thead>\n",
       "    <tr style=\"text-align: right;\">\n",
       "      <th></th>\n",
       "      <th>AgriShareGDP</th>\n",
       "      <th>CreditToAgriFishForest</th>\n",
       "      <th>EmploymentRural</th>\n",
       "      <th>% Soldiers</th>\n",
       "      <th>Employment in industry</th>\n",
       "      <th>Employment in services</th>\n",
       "      <th>Cost business start-up</th>\n",
       "      <th>Employment in agriculture</th>\n",
       "      <th>% Education Expenditure</th>\n",
       "      <th>Researchers in R&amp;D</th>\n",
       "      <th>R&amp;D expenditure %GDP</th>\n",
       "      <th>% Healthcare Investment</th>\n",
       "    </tr>\n",
       "    <tr>\n",
       "      <th>Country</th>\n",
       "      <th></th>\n",
       "      <th></th>\n",
       "      <th></th>\n",
       "      <th></th>\n",
       "      <th></th>\n",
       "      <th></th>\n",
       "      <th></th>\n",
       "      <th></th>\n",
       "      <th></th>\n",
       "      <th></th>\n",
       "      <th></th>\n",
       "      <th></th>\n",
       "    </tr>\n",
       "  </thead>\n",
       "  <tbody>\n",
       "    <tr>\n",
       "      <th>Afghanistan</th>\n",
       "      <td>-0.864566</td>\n",
       "      <td>0.000000</td>\n",
       "      <td>0.0</td>\n",
       "      <td>0.000000</td>\n",
       "      <td>0.910685</td>\n",
       "      <td>0.911984</td>\n",
       "      <td>-0.736206</td>\n",
       "      <td>-0.910685</td>\n",
       "      <td>0.000000</td>\n",
       "      <td>0.000000</td>\n",
       "      <td>0.000000</td>\n",
       "      <td>0.000000</td>\n",
       "    </tr>\n",
       "    <tr>\n",
       "      <th>Albania</th>\n",
       "      <td>-0.486522</td>\n",
       "      <td>0.000000</td>\n",
       "      <td>0.0</td>\n",
       "      <td>-0.782836</td>\n",
       "      <td>0.802469</td>\n",
       "      <td>0.766483</td>\n",
       "      <td>-0.767682</td>\n",
       "      <td>-0.858720</td>\n",
       "      <td>0.000000</td>\n",
       "      <td>0.000000</td>\n",
       "      <td>0.000000</td>\n",
       "      <td>0.000000</td>\n",
       "    </tr>\n",
       "    <tr>\n",
       "      <th>Algeria</th>\n",
       "      <td>0.000000</td>\n",
       "      <td>0.000000</td>\n",
       "      <td>0.0</td>\n",
       "      <td>-0.755527</td>\n",
       "      <td>0.853152</td>\n",
       "      <td>0.753491</td>\n",
       "      <td>-0.725858</td>\n",
       "      <td>-0.750487</td>\n",
       "      <td>0.000000</td>\n",
       "      <td>0.000000</td>\n",
       "      <td>0.000000</td>\n",
       "      <td>0.629927</td>\n",
       "    </tr>\n",
       "    <tr>\n",
       "      <th>Angola</th>\n",
       "      <td>0.000000</td>\n",
       "      <td>0.000000</td>\n",
       "      <td>0.0</td>\n",
       "      <td>-0.755527</td>\n",
       "      <td>-0.648912</td>\n",
       "      <td>-0.924326</td>\n",
       "      <td>-0.748783</td>\n",
       "      <td>0.912634</td>\n",
       "      <td>0.493506</td>\n",
       "      <td>0.000000</td>\n",
       "      <td>0.000000</td>\n",
       "      <td>0.000000</td>\n",
       "    </tr>\n",
       "    <tr>\n",
       "      <th>Argentina</th>\n",
       "      <td>-0.598246</td>\n",
       "      <td>0.569016</td>\n",
       "      <td>0.0</td>\n",
       "      <td>-0.733421</td>\n",
       "      <td>0.000000</td>\n",
       "      <td>0.000000</td>\n",
       "      <td>0.000000</td>\n",
       "      <td>-0.721302</td>\n",
       "      <td>0.875609</td>\n",
       "      <td>0.791166</td>\n",
       "      <td>0.870413</td>\n",
       "      <td>0.000000</td>\n",
       "    </tr>\n",
       "    <tr>\n",
       "      <th>...</th>\n",
       "      <td>...</td>\n",
       "      <td>...</td>\n",
       "      <td>...</td>\n",
       "      <td>...</td>\n",
       "      <td>...</td>\n",
       "      <td>...</td>\n",
       "      <td>...</td>\n",
       "      <td>...</td>\n",
       "      <td>...</td>\n",
       "      <td>...</td>\n",
       "      <td>...</td>\n",
       "      <td>...</td>\n",
       "    </tr>\n",
       "    <tr>\n",
       "      <th>Uruguay</th>\n",
       "      <td>-0.587853</td>\n",
       "      <td>0.886652</td>\n",
       "      <td>0.0</td>\n",
       "      <td>-0.934981</td>\n",
       "      <td>-0.498214</td>\n",
       "      <td>0.764133</td>\n",
       "      <td>-0.896356</td>\n",
       "      <td>-0.790516</td>\n",
       "      <td>0.000000</td>\n",
       "      <td>0.000000</td>\n",
       "      <td>0.574862</td>\n",
       "      <td>0.833388</td>\n",
       "    </tr>\n",
       "    <tr>\n",
       "      <th>Uzbekistan</th>\n",
       "      <td>-0.714518</td>\n",
       "      <td>0.000000</td>\n",
       "      <td>0.0</td>\n",
       "      <td>-0.672302</td>\n",
       "      <td>0.916531</td>\n",
       "      <td>0.743340</td>\n",
       "      <td>-0.847464</td>\n",
       "      <td>-0.745047</td>\n",
       "      <td>0.000000</td>\n",
       "      <td>-0.794805</td>\n",
       "      <td>-0.748052</td>\n",
       "      <td>0.925625</td>\n",
       "    </tr>\n",
       "    <tr>\n",
       "      <th>Vanuatu</th>\n",
       "      <td>0.000000</td>\n",
       "      <td>-0.569106</td>\n",
       "      <td>0.0</td>\n",
       "      <td>0.000000</td>\n",
       "      <td>0.967197</td>\n",
       "      <td>-0.632023</td>\n",
       "      <td>-0.838989</td>\n",
       "      <td>-0.939916</td>\n",
       "      <td>0.000000</td>\n",
       "      <td>0.000000</td>\n",
       "      <td>0.000000</td>\n",
       "      <td>-0.813901</td>\n",
       "    </tr>\n",
       "    <tr>\n",
       "      <th>Zambia</th>\n",
       "      <td>-0.815200</td>\n",
       "      <td>0.728456</td>\n",
       "      <td>0.0</td>\n",
       "      <td>-0.850456</td>\n",
       "      <td>0.863548</td>\n",
       "      <td>0.697629</td>\n",
       "      <td>0.000000</td>\n",
       "      <td>-0.723612</td>\n",
       "      <td>0.803896</td>\n",
       "      <td>0.000000</td>\n",
       "      <td>0.000000</td>\n",
       "      <td>-0.547724</td>\n",
       "    </tr>\n",
       "    <tr>\n",
       "      <th>Zimbabwe</th>\n",
       "      <td>-0.669698</td>\n",
       "      <td>0.000000</td>\n",
       "      <td>0.0</td>\n",
       "      <td>-0.841353</td>\n",
       "      <td>-0.782722</td>\n",
       "      <td>0.000000</td>\n",
       "      <td>-0.884333</td>\n",
       "      <td>0.563170</td>\n",
       "      <td>0.000000</td>\n",
       "      <td>0.000000</td>\n",
       "      <td>0.000000</td>\n",
       "      <td>0.000000</td>\n",
       "    </tr>\n",
       "  </tbody>\n",
       "</table>\n",
       "<p>152 rows × 12 columns</p>\n",
       "</div>"
      ],
      "text/plain": [
       "             AgriShareGDP  CreditToAgriFishForest  EmploymentRural  \\\n",
       "Country                                                              \n",
       "Afghanistan     -0.864566                0.000000              0.0   \n",
       "Albania         -0.486522                0.000000              0.0   \n",
       "Algeria          0.000000                0.000000              0.0   \n",
       "Angola           0.000000                0.000000              0.0   \n",
       "Argentina       -0.598246                0.569016              0.0   \n",
       "...                   ...                     ...              ...   \n",
       "Uruguay         -0.587853                0.886652              0.0   \n",
       "Uzbekistan      -0.714518                0.000000              0.0   \n",
       "Vanuatu          0.000000               -0.569106              0.0   \n",
       "Zambia          -0.815200                0.728456              0.0   \n",
       "Zimbabwe        -0.669698                0.000000              0.0   \n",
       "\n",
       "             % Soldiers  Employment in industry  Employment in services  \\\n",
       "Country                                                                   \n",
       "Afghanistan    0.000000                0.910685                0.911984   \n",
       "Albania       -0.782836                0.802469                0.766483   \n",
       "Algeria       -0.755527                0.853152                0.753491   \n",
       "Angola        -0.755527               -0.648912               -0.924326   \n",
       "Argentina     -0.733421                0.000000                0.000000   \n",
       "...                 ...                     ...                     ...   \n",
       "Uruguay       -0.934981               -0.498214                0.764133   \n",
       "Uzbekistan    -0.672302                0.916531                0.743340   \n",
       "Vanuatu        0.000000                0.967197               -0.632023   \n",
       "Zambia        -0.850456                0.863548                0.697629   \n",
       "Zimbabwe      -0.841353               -0.782722                0.000000   \n",
       "\n",
       "             Cost business start-up  Employment in agriculture  \\\n",
       "Country                                                          \n",
       "Afghanistan               -0.736206                  -0.910685   \n",
       "Albania                   -0.767682                  -0.858720   \n",
       "Algeria                   -0.725858                  -0.750487   \n",
       "Angola                    -0.748783                   0.912634   \n",
       "Argentina                  0.000000                  -0.721302   \n",
       "...                             ...                        ...   \n",
       "Uruguay                   -0.896356                  -0.790516   \n",
       "Uzbekistan                -0.847464                  -0.745047   \n",
       "Vanuatu                   -0.838989                  -0.939916   \n",
       "Zambia                     0.000000                  -0.723612   \n",
       "Zimbabwe                  -0.884333                   0.563170   \n",
       "\n",
       "             % Education Expenditure  Researchers in R&D  \\\n",
       "Country                                                    \n",
       "Afghanistan                 0.000000            0.000000   \n",
       "Albania                     0.000000            0.000000   \n",
       "Algeria                     0.000000            0.000000   \n",
       "Angola                      0.493506            0.000000   \n",
       "Argentina                   0.875609            0.791166   \n",
       "...                              ...                 ...   \n",
       "Uruguay                     0.000000            0.000000   \n",
       "Uzbekistan                  0.000000           -0.794805   \n",
       "Vanuatu                     0.000000            0.000000   \n",
       "Zambia                      0.803896            0.000000   \n",
       "Zimbabwe                    0.000000            0.000000   \n",
       "\n",
       "             R&D expenditure %GDP  % Healthcare Investment  \n",
       "Country                                                     \n",
       "Afghanistan              0.000000                 0.000000  \n",
       "Albania                  0.000000                 0.000000  \n",
       "Algeria                  0.000000                 0.629927  \n",
       "Angola                   0.000000                 0.000000  \n",
       "Argentina                0.870413                 0.000000  \n",
       "...                           ...                      ...  \n",
       "Uruguay                  0.574862                 0.833388  \n",
       "Uzbekistan              -0.748052                 0.925625  \n",
       "Vanuatu                  0.000000                -0.813901  \n",
       "Zambia                   0.000000                -0.547724  \n",
       "Zimbabwe                 0.000000                 0.000000  \n",
       "\n",
       "[152 rows x 12 columns]"
      ]
     },
     "metadata": {},
     "output_type": "display_data"
    },
    {
     "name": "stdout",
     "output_type": "stream",
     "text": [
      "Social-demographic Indicators\n"
     ]
    },
    {
     "data": {
      "text/html": [
       "<div>\n",
       "<style scoped>\n",
       "    .dataframe tbody tr th:only-of-type {\n",
       "        vertical-align: middle;\n",
       "    }\n",
       "\n",
       "    .dataframe tbody tr th {\n",
       "        vertical-align: top;\n",
       "    }\n",
       "\n",
       "    .dataframe thead th {\n",
       "        text-align: right;\n",
       "    }\n",
       "</style>\n",
       "<table border=\"1\" class=\"dataframe\">\n",
       "  <thead>\n",
       "    <tr style=\"text-align: right;\">\n",
       "      <th></th>\n",
       "      <th>Birth Rate</th>\n",
       "      <th>Death Rate</th>\n",
       "      <th>Homicides</th>\n",
       "      <th>Life Expectancy</th>\n",
       "      <th>Maternal Death Risk</th>\n",
       "      <th>Infant Mortality</th>\n",
       "      <th>% Population Growth</th>\n",
       "      <th>% Rural Population</th>\n",
       "      <th>Population</th>\n",
       "    </tr>\n",
       "    <tr>\n",
       "      <th>Country</th>\n",
       "      <th></th>\n",
       "      <th></th>\n",
       "      <th></th>\n",
       "      <th></th>\n",
       "      <th></th>\n",
       "      <th></th>\n",
       "      <th></th>\n",
       "      <th></th>\n",
       "      <th></th>\n",
       "    </tr>\n",
       "  </thead>\n",
       "  <tbody>\n",
       "    <tr>\n",
       "      <th>Afghanistan</th>\n",
       "      <td>-0.914286</td>\n",
       "      <td>-0.914286</td>\n",
       "      <td>0.000000</td>\n",
       "      <td>0.914286</td>\n",
       "      <td>-0.905542</td>\n",
       "      <td>-0.914286</td>\n",
       "      <td>0.000000</td>\n",
       "      <td>-0.914286</td>\n",
       "      <td>0.914286</td>\n",
       "    </tr>\n",
       "    <tr>\n",
       "      <th>Albania</th>\n",
       "      <td>-0.854823</td>\n",
       "      <td>0.885714</td>\n",
       "      <td>-0.577374</td>\n",
       "      <td>0.889610</td>\n",
       "      <td>-0.782415</td>\n",
       "      <td>-0.801430</td>\n",
       "      <td>0.000000</td>\n",
       "      <td>-0.889610</td>\n",
       "      <td>-0.888312</td>\n",
       "    </tr>\n",
       "    <tr>\n",
       "      <th>Algeria</th>\n",
       "      <td>0.874026</td>\n",
       "      <td>0.000000</td>\n",
       "      <td>0.000000</td>\n",
       "      <td>0.750649</td>\n",
       "      <td>0.000000</td>\n",
       "      <td>-0.750649</td>\n",
       "      <td>0.797403</td>\n",
       "      <td>-0.750649</td>\n",
       "      <td>0.750649</td>\n",
       "    </tr>\n",
       "    <tr>\n",
       "      <th>Angola</th>\n",
       "      <td>-0.753247</td>\n",
       "      <td>-0.753247</td>\n",
       "      <td>0.000000</td>\n",
       "      <td>0.753247</td>\n",
       "      <td>-0.776551</td>\n",
       "      <td>-0.753247</td>\n",
       "      <td>0.000000</td>\n",
       "      <td>-0.753247</td>\n",
       "      <td>0.753247</td>\n",
       "    </tr>\n",
       "    <tr>\n",
       "      <th>Argentina</th>\n",
       "      <td>-0.761039</td>\n",
       "      <td>-0.761039</td>\n",
       "      <td>0.000000</td>\n",
       "      <td>0.761039</td>\n",
       "      <td>-0.784369</td>\n",
       "      <td>-0.761039</td>\n",
       "      <td>0.000000</td>\n",
       "      <td>-0.761039</td>\n",
       "      <td>0.761039</td>\n",
       "    </tr>\n",
       "    <tr>\n",
       "      <th>...</th>\n",
       "      <td>...</td>\n",
       "      <td>...</td>\n",
       "      <td>...</td>\n",
       "      <td>...</td>\n",
       "      <td>...</td>\n",
       "      <td>...</td>\n",
       "      <td>...</td>\n",
       "      <td>...</td>\n",
       "      <td>...</td>\n",
       "    </tr>\n",
       "    <tr>\n",
       "      <th>Uruguay</th>\n",
       "      <td>-0.901299</td>\n",
       "      <td>0.619481</td>\n",
       "      <td>0.764630</td>\n",
       "      <td>0.901299</td>\n",
       "      <td>-0.848213</td>\n",
       "      <td>-0.901299</td>\n",
       "      <td>0.901299</td>\n",
       "      <td>-0.901299</td>\n",
       "      <td>0.902597</td>\n",
       "    </tr>\n",
       "    <tr>\n",
       "      <th>Uzbekistan</th>\n",
       "      <td>0.607537</td>\n",
       "      <td>-0.675026</td>\n",
       "      <td>0.000000</td>\n",
       "      <td>0.850649</td>\n",
       "      <td>-0.812382</td>\n",
       "      <td>-0.850649</td>\n",
       "      <td>0.759740</td>\n",
       "      <td>-0.836364</td>\n",
       "      <td>0.850649</td>\n",
       "    </tr>\n",
       "    <tr>\n",
       "      <th>Vanuatu</th>\n",
       "      <td>-0.971429</td>\n",
       "      <td>-0.944120</td>\n",
       "      <td>0.000000</td>\n",
       "      <td>0.971429</td>\n",
       "      <td>-0.975901</td>\n",
       "      <td>0.000000</td>\n",
       "      <td>0.000000</td>\n",
       "      <td>-0.971429</td>\n",
       "      <td>0.971429</td>\n",
       "    </tr>\n",
       "    <tr>\n",
       "      <th>Zambia</th>\n",
       "      <td>-0.837662</td>\n",
       "      <td>-0.837662</td>\n",
       "      <td>0.000000</td>\n",
       "      <td>0.837662</td>\n",
       "      <td>-0.856682</td>\n",
       "      <td>-0.856772</td>\n",
       "      <td>0.884416</td>\n",
       "      <td>-0.837662</td>\n",
       "      <td>0.837662</td>\n",
       "    </tr>\n",
       "    <tr>\n",
       "      <th>Zimbabwe</th>\n",
       "      <td>0.000000</td>\n",
       "      <td>-0.905195</td>\n",
       "      <td>0.000000</td>\n",
       "      <td>0.888312</td>\n",
       "      <td>-0.820851</td>\n",
       "      <td>-0.876623</td>\n",
       "      <td>0.683117</td>\n",
       "      <td>0.877922</td>\n",
       "      <td>0.832468</td>\n",
       "    </tr>\n",
       "  </tbody>\n",
       "</table>\n",
       "<p>153 rows × 9 columns</p>\n",
       "</div>"
      ],
      "text/plain": [
       "             Birth Rate  Death Rate  Homicides  Life Expectancy  \\\n",
       "Country                                                           \n",
       "Afghanistan   -0.914286   -0.914286   0.000000         0.914286   \n",
       "Albania       -0.854823    0.885714  -0.577374         0.889610   \n",
       "Algeria        0.874026    0.000000   0.000000         0.750649   \n",
       "Angola        -0.753247   -0.753247   0.000000         0.753247   \n",
       "Argentina     -0.761039   -0.761039   0.000000         0.761039   \n",
       "...                 ...         ...        ...              ...   \n",
       "Uruguay       -0.901299    0.619481   0.764630         0.901299   \n",
       "Uzbekistan     0.607537   -0.675026   0.000000         0.850649   \n",
       "Vanuatu       -0.971429   -0.944120   0.000000         0.971429   \n",
       "Zambia        -0.837662   -0.837662   0.000000         0.837662   \n",
       "Zimbabwe       0.000000   -0.905195   0.000000         0.888312   \n",
       "\n",
       "             Maternal Death Risk  Infant Mortality  % Population Growth  \\\n",
       "Country                                                                   \n",
       "Afghanistan            -0.905542         -0.914286             0.000000   \n",
       "Albania                -0.782415         -0.801430             0.000000   \n",
       "Algeria                 0.000000         -0.750649             0.797403   \n",
       "Angola                 -0.776551         -0.753247             0.000000   \n",
       "Argentina              -0.784369         -0.761039             0.000000   \n",
       "...                          ...               ...                  ...   \n",
       "Uruguay                -0.848213         -0.901299             0.901299   \n",
       "Uzbekistan             -0.812382         -0.850649             0.759740   \n",
       "Vanuatu                -0.975901          0.000000             0.000000   \n",
       "Zambia                 -0.856682         -0.856772             0.884416   \n",
       "Zimbabwe               -0.820851         -0.876623             0.683117   \n",
       "\n",
       "             % Rural Population  Population  \n",
       "Country                                      \n",
       "Afghanistan           -0.914286    0.914286  \n",
       "Albania               -0.889610   -0.888312  \n",
       "Algeria               -0.750649    0.750649  \n",
       "Angola                -0.753247    0.753247  \n",
       "Argentina             -0.761039    0.761039  \n",
       "...                         ...         ...  \n",
       "Uruguay               -0.901299    0.902597  \n",
       "Uzbekistan            -0.836364    0.850649  \n",
       "Vanuatu               -0.971429    0.971429  \n",
       "Zambia                -0.837662    0.837662  \n",
       "Zimbabwe               0.877922    0.832468  \n",
       "\n",
       "[153 rows x 9 columns]"
      ]
     },
     "metadata": {},
     "output_type": "display_data"
    },
    {
     "name": "stdout",
     "output_type": "stream",
     "text": [
      "Equality Indicators\n"
     ]
    },
    {
     "data": {
      "text/html": [
       "<div>\n",
       "<style scoped>\n",
       "    .dataframe tbody tr th:only-of-type {\n",
       "        vertical-align: middle;\n",
       "    }\n",
       "\n",
       "    .dataframe tbody tr th {\n",
       "        vertical-align: top;\n",
       "    }\n",
       "\n",
       "    .dataframe thead th {\n",
       "        text-align: right;\n",
       "    }\n",
       "</style>\n",
       "<table border=\"1\" class=\"dataframe\">\n",
       "  <thead>\n",
       "    <tr style=\"text-align: right;\">\n",
       "      <th></th>\n",
       "      <th>% Female Employment</th>\n",
       "      <th>% Male Employment</th>\n",
       "      <th>Tertiary School Gender Parity</th>\n",
       "      <th>% Vulnerable female employment</th>\n",
       "      <th>% Vulnerable male employment</th>\n",
       "      <th>Civil Liberties</th>\n",
       "      <th>Freedom of Expression</th>\n",
       "    </tr>\n",
       "    <tr>\n",
       "      <th>Country</th>\n",
       "      <th></th>\n",
       "      <th></th>\n",
       "      <th></th>\n",
       "      <th></th>\n",
       "      <th></th>\n",
       "      <th></th>\n",
       "      <th></th>\n",
       "    </tr>\n",
       "  </thead>\n",
       "  <tbody>\n",
       "    <tr>\n",
       "      <th>Afghanistan</th>\n",
       "      <td>0.732468</td>\n",
       "      <td>-0.705653</td>\n",
       "      <td>0.000000</td>\n",
       "      <td>-0.910685</td>\n",
       "      <td>-0.910685</td>\n",
       "      <td>0.000000</td>\n",
       "      <td>0.666451</td>\n",
       "    </tr>\n",
       "    <tr>\n",
       "      <th>Albania</th>\n",
       "      <td>0.000000</td>\n",
       "      <td>0.000000</td>\n",
       "      <td>0.000000</td>\n",
       "      <td>0.000000</td>\n",
       "      <td>-0.697629</td>\n",
       "      <td>0.796368</td>\n",
       "      <td>0.000000</td>\n",
       "    </tr>\n",
       "    <tr>\n",
       "      <th>Algeria</th>\n",
       "      <td>0.814286</td>\n",
       "      <td>0.542857</td>\n",
       "      <td>0.738578</td>\n",
       "      <td>-0.758688</td>\n",
       "      <td>0.000000</td>\n",
       "      <td>0.696313</td>\n",
       "      <td>0.000000</td>\n",
       "    </tr>\n",
       "    <tr>\n",
       "      <th>Angola</th>\n",
       "      <td>-0.514453</td>\n",
       "      <td>-0.659305</td>\n",
       "      <td>0.000000</td>\n",
       "      <td>0.673595</td>\n",
       "      <td>0.655408</td>\n",
       "      <td>0.744056</td>\n",
       "      <td>0.748459</td>\n",
       "    </tr>\n",
       "    <tr>\n",
       "      <th>Argentina</th>\n",
       "      <td>0.477922</td>\n",
       "      <td>0.000000</td>\n",
       "      <td>0.766483</td>\n",
       "      <td>0.000000</td>\n",
       "      <td>-0.433907</td>\n",
       "      <td>0.000000</td>\n",
       "      <td>-0.705732</td>\n",
       "    </tr>\n",
       "    <tr>\n",
       "      <th>...</th>\n",
       "      <td>...</td>\n",
       "      <td>...</td>\n",
       "      <td>...</td>\n",
       "      <td>...</td>\n",
       "      <td>...</td>\n",
       "      <td>...</td>\n",
       "      <td>...</td>\n",
       "    </tr>\n",
       "    <tr>\n",
       "      <th>Uruguay</th>\n",
       "      <td>0.814286</td>\n",
       "      <td>0.496104</td>\n",
       "      <td>0.000000</td>\n",
       "      <td>0.000000</td>\n",
       "      <td>-0.503410</td>\n",
       "      <td>0.000000</td>\n",
       "      <td>0.000000</td>\n",
       "    </tr>\n",
       "    <tr>\n",
       "      <th>Uzbekistan</th>\n",
       "      <td>-0.785714</td>\n",
       "      <td>-0.612987</td>\n",
       "      <td>-0.666234</td>\n",
       "      <td>-0.828191</td>\n",
       "      <td>-0.834687</td>\n",
       "      <td>0.000000</td>\n",
       "      <td>0.525872</td>\n",
       "    </tr>\n",
       "    <tr>\n",
       "      <th>Vanuatu</th>\n",
       "      <td>0.000000</td>\n",
       "      <td>0.000000</td>\n",
       "      <td>0.000000</td>\n",
       "      <td>-0.971095</td>\n",
       "      <td>-0.781423</td>\n",
       "      <td>0.827089</td>\n",
       "      <td>0.000000</td>\n",
       "    </tr>\n",
       "    <tr>\n",
       "      <th>Zambia</th>\n",
       "      <td>-0.642857</td>\n",
       "      <td>0.000000</td>\n",
       "      <td>0.000000</td>\n",
       "      <td>-0.806755</td>\n",
       "      <td>-0.719714</td>\n",
       "      <td>-0.658414</td>\n",
       "      <td>-0.531383</td>\n",
       "    </tr>\n",
       "    <tr>\n",
       "      <th>Zimbabwe</th>\n",
       "      <td>0.677922</td>\n",
       "      <td>0.541558</td>\n",
       "      <td>0.000000</td>\n",
       "      <td>0.000000</td>\n",
       "      <td>0.512504</td>\n",
       "      <td>0.637875</td>\n",
       "      <td>0.913470</td>\n",
       "    </tr>\n",
       "  </tbody>\n",
       "</table>\n",
       "<p>152 rows × 7 columns</p>\n",
       "</div>"
      ],
      "text/plain": [
       "             % Female Employment  % Male Employment  \\\n",
       "Country                                               \n",
       "Afghanistan             0.732468          -0.705653   \n",
       "Albania                 0.000000           0.000000   \n",
       "Algeria                 0.814286           0.542857   \n",
       "Angola                 -0.514453          -0.659305   \n",
       "Argentina               0.477922           0.000000   \n",
       "...                          ...                ...   \n",
       "Uruguay                 0.814286           0.496104   \n",
       "Uzbekistan             -0.785714          -0.612987   \n",
       "Vanuatu                 0.000000           0.000000   \n",
       "Zambia                 -0.642857           0.000000   \n",
       "Zimbabwe                0.677922           0.541558   \n",
       "\n",
       "             Tertiary School Gender Parity  % Vulnerable female employment  \\\n",
       "Country                                                                      \n",
       "Afghanistan                       0.000000                       -0.910685   \n",
       "Albania                           0.000000                        0.000000   \n",
       "Algeria                           0.738578                       -0.758688   \n",
       "Angola                            0.000000                        0.673595   \n",
       "Argentina                         0.766483                        0.000000   \n",
       "...                                    ...                             ...   \n",
       "Uruguay                           0.000000                        0.000000   \n",
       "Uzbekistan                       -0.666234                       -0.828191   \n",
       "Vanuatu                           0.000000                       -0.971095   \n",
       "Zambia                            0.000000                       -0.806755   \n",
       "Zimbabwe                          0.000000                        0.000000   \n",
       "\n",
       "             % Vulnerable male employment  Civil Liberties  \\\n",
       "Country                                                      \n",
       "Afghanistan                     -0.910685         0.000000   \n",
       "Albania                         -0.697629         0.796368   \n",
       "Algeria                          0.000000         0.696313   \n",
       "Angola                           0.655408         0.744056   \n",
       "Argentina                       -0.433907         0.000000   \n",
       "...                                   ...              ...   \n",
       "Uruguay                         -0.503410         0.000000   \n",
       "Uzbekistan                      -0.834687         0.000000   \n",
       "Vanuatu                         -0.781423         0.827089   \n",
       "Zambia                          -0.719714        -0.658414   \n",
       "Zimbabwe                         0.512504         0.637875   \n",
       "\n",
       "             Freedom of Expression  \n",
       "Country                             \n",
       "Afghanistan               0.666451  \n",
       "Albania                   0.000000  \n",
       "Algeria                   0.000000  \n",
       "Angola                    0.748459  \n",
       "Argentina                -0.705732  \n",
       "...                            ...  \n",
       "Uruguay                   0.000000  \n",
       "Uzbekistan                0.525872  \n",
       "Vanuatu                   0.000000  \n",
       "Zambia                   -0.531383  \n",
       "Zimbabwe                  0.913470  \n",
       "\n",
       "[152 rows x 7 columns]"
      ]
     },
     "metadata": {},
     "output_type": "display_data"
    },
    {
     "name": "stdout",
     "output_type": "stream",
     "text": [
      "All indicators\n"
     ]
    },
    {
     "data": {
      "text/html": [
       "<div>\n",
       "<style scoped>\n",
       "    .dataframe tbody tr th:only-of-type {\n",
       "        vertical-align: middle;\n",
       "    }\n",
       "\n",
       "    .dataframe tbody tr th {\n",
       "        vertical-align: top;\n",
       "    }\n",
       "\n",
       "    .dataframe thead th {\n",
       "        text-align: right;\n",
       "    }\n",
       "</style>\n",
       "<table border=\"1\" class=\"dataframe\">\n",
       "  <thead>\n",
       "    <tr style=\"text-align: right;\">\n",
       "      <th></th>\n",
       "      <th>AgriShareGDP</th>\n",
       "      <th>CreditToAgriFishForest</th>\n",
       "      <th>EmploymentRural</th>\n",
       "      <th>% Soldiers</th>\n",
       "      <th>Employment in industry</th>\n",
       "      <th>Employment in services</th>\n",
       "      <th>Birth Rate</th>\n",
       "      <th>Cost business start-up</th>\n",
       "      <th>Death Rate</th>\n",
       "      <th>Employment in agriculture</th>\n",
       "      <th>...</th>\n",
       "      <th>Researchers in R&amp;D</th>\n",
       "      <th>R&amp;D expenditure %GDP</th>\n",
       "      <th>% Rural Population</th>\n",
       "      <th>Tertiary School Gender Parity</th>\n",
       "      <th>% Vulnerable female employment</th>\n",
       "      <th>% Vulnerable male employment</th>\n",
       "      <th>Civil Liberties</th>\n",
       "      <th>Freedom of Expression</th>\n",
       "      <th>% Healthcare Investment</th>\n",
       "      <th>Population</th>\n",
       "    </tr>\n",
       "    <tr>\n",
       "      <th>Country</th>\n",
       "      <th></th>\n",
       "      <th></th>\n",
       "      <th></th>\n",
       "      <th></th>\n",
       "      <th></th>\n",
       "      <th></th>\n",
       "      <th></th>\n",
       "      <th></th>\n",
       "      <th></th>\n",
       "      <th></th>\n",
       "      <th></th>\n",
       "      <th></th>\n",
       "      <th></th>\n",
       "      <th></th>\n",
       "      <th></th>\n",
       "      <th></th>\n",
       "      <th></th>\n",
       "      <th></th>\n",
       "      <th></th>\n",
       "      <th></th>\n",
       "      <th></th>\n",
       "    </tr>\n",
       "  </thead>\n",
       "  <tbody>\n",
       "    <tr>\n",
       "      <th>Afghanistan</th>\n",
       "      <td>-0.864566</td>\n",
       "      <td>0.000000</td>\n",
       "      <td>0.0</td>\n",
       "      <td>0.000000</td>\n",
       "      <td>0.910685</td>\n",
       "      <td>0.911984</td>\n",
       "      <td>-0.914286</td>\n",
       "      <td>-0.736206</td>\n",
       "      <td>-0.914286</td>\n",
       "      <td>-0.910685</td>\n",
       "      <td>...</td>\n",
       "      <td>0.000000</td>\n",
       "      <td>0.000000</td>\n",
       "      <td>-0.914286</td>\n",
       "      <td>0.000000</td>\n",
       "      <td>-0.910685</td>\n",
       "      <td>-0.910685</td>\n",
       "      <td>0.000000</td>\n",
       "      <td>0.666451</td>\n",
       "      <td>0.000000</td>\n",
       "      <td>0.914286</td>\n",
       "    </tr>\n",
       "    <tr>\n",
       "      <th>Albania</th>\n",
       "      <td>-0.486522</td>\n",
       "      <td>0.000000</td>\n",
       "      <td>0.0</td>\n",
       "      <td>-0.782836</td>\n",
       "      <td>0.802469</td>\n",
       "      <td>0.766483</td>\n",
       "      <td>-0.854823</td>\n",
       "      <td>-0.767682</td>\n",
       "      <td>0.885714</td>\n",
       "      <td>-0.858720</td>\n",
       "      <td>...</td>\n",
       "      <td>0.000000</td>\n",
       "      <td>0.000000</td>\n",
       "      <td>-0.889610</td>\n",
       "      <td>0.000000</td>\n",
       "      <td>0.000000</td>\n",
       "      <td>-0.697629</td>\n",
       "      <td>0.796368</td>\n",
       "      <td>0.000000</td>\n",
       "      <td>0.000000</td>\n",
       "      <td>-0.888312</td>\n",
       "    </tr>\n",
       "    <tr>\n",
       "      <th>Algeria</th>\n",
       "      <td>0.000000</td>\n",
       "      <td>0.000000</td>\n",
       "      <td>0.0</td>\n",
       "      <td>-0.755527</td>\n",
       "      <td>0.853152</td>\n",
       "      <td>0.753491</td>\n",
       "      <td>0.874026</td>\n",
       "      <td>-0.725858</td>\n",
       "      <td>0.000000</td>\n",
       "      <td>-0.750487</td>\n",
       "      <td>...</td>\n",
       "      <td>0.000000</td>\n",
       "      <td>0.000000</td>\n",
       "      <td>-0.750649</td>\n",
       "      <td>0.738578</td>\n",
       "      <td>-0.758688</td>\n",
       "      <td>0.000000</td>\n",
       "      <td>0.696313</td>\n",
       "      <td>0.000000</td>\n",
       "      <td>0.629927</td>\n",
       "      <td>0.750649</td>\n",
       "    </tr>\n",
       "    <tr>\n",
       "      <th>Angola</th>\n",
       "      <td>0.000000</td>\n",
       "      <td>0.000000</td>\n",
       "      <td>0.0</td>\n",
       "      <td>-0.755527</td>\n",
       "      <td>-0.648912</td>\n",
       "      <td>-0.924326</td>\n",
       "      <td>-0.753247</td>\n",
       "      <td>-0.748783</td>\n",
       "      <td>-0.753247</td>\n",
       "      <td>0.912634</td>\n",
       "      <td>...</td>\n",
       "      <td>0.000000</td>\n",
       "      <td>0.000000</td>\n",
       "      <td>-0.753247</td>\n",
       "      <td>0.000000</td>\n",
       "      <td>0.673595</td>\n",
       "      <td>0.655408</td>\n",
       "      <td>0.744056</td>\n",
       "      <td>0.748459</td>\n",
       "      <td>0.000000</td>\n",
       "      <td>0.753247</td>\n",
       "    </tr>\n",
       "    <tr>\n",
       "      <th>Argentina</th>\n",
       "      <td>-0.598246</td>\n",
       "      <td>0.569016</td>\n",
       "      <td>0.0</td>\n",
       "      <td>-0.733421</td>\n",
       "      <td>0.000000</td>\n",
       "      <td>0.000000</td>\n",
       "      <td>-0.761039</td>\n",
       "      <td>0.000000</td>\n",
       "      <td>-0.761039</td>\n",
       "      <td>-0.721302</td>\n",
       "      <td>...</td>\n",
       "      <td>0.791166</td>\n",
       "      <td>0.870413</td>\n",
       "      <td>-0.761039</td>\n",
       "      <td>0.766483</td>\n",
       "      <td>0.000000</td>\n",
       "      <td>-0.433907</td>\n",
       "      <td>0.000000</td>\n",
       "      <td>-0.705732</td>\n",
       "      <td>0.000000</td>\n",
       "      <td>0.761039</td>\n",
       "    </tr>\n",
       "    <tr>\n",
       "      <th>...</th>\n",
       "      <td>...</td>\n",
       "      <td>...</td>\n",
       "      <td>...</td>\n",
       "      <td>...</td>\n",
       "      <td>...</td>\n",
       "      <td>...</td>\n",
       "      <td>...</td>\n",
       "      <td>...</td>\n",
       "      <td>...</td>\n",
       "      <td>...</td>\n",
       "      <td>...</td>\n",
       "      <td>...</td>\n",
       "      <td>...</td>\n",
       "      <td>...</td>\n",
       "      <td>...</td>\n",
       "      <td>...</td>\n",
       "      <td>...</td>\n",
       "      <td>...</td>\n",
       "      <td>...</td>\n",
       "      <td>...</td>\n",
       "      <td>...</td>\n",
       "    </tr>\n",
       "    <tr>\n",
       "      <th>Uruguay</th>\n",
       "      <td>-0.587853</td>\n",
       "      <td>0.886652</td>\n",
       "      <td>0.0</td>\n",
       "      <td>-0.934981</td>\n",
       "      <td>-0.498214</td>\n",
       "      <td>0.764133</td>\n",
       "      <td>-0.901299</td>\n",
       "      <td>-0.896356</td>\n",
       "      <td>0.619481</td>\n",
       "      <td>-0.790516</td>\n",
       "      <td>...</td>\n",
       "      <td>0.000000</td>\n",
       "      <td>0.574862</td>\n",
       "      <td>-0.901299</td>\n",
       "      <td>0.000000</td>\n",
       "      <td>0.000000</td>\n",
       "      <td>-0.503410</td>\n",
       "      <td>0.000000</td>\n",
       "      <td>0.000000</td>\n",
       "      <td>0.833388</td>\n",
       "      <td>0.902597</td>\n",
       "    </tr>\n",
       "    <tr>\n",
       "      <th>Uzbekistan</th>\n",
       "      <td>-0.714518</td>\n",
       "      <td>0.000000</td>\n",
       "      <td>0.0</td>\n",
       "      <td>-0.672302</td>\n",
       "      <td>0.916531</td>\n",
       "      <td>0.743340</td>\n",
       "      <td>0.607537</td>\n",
       "      <td>-0.847464</td>\n",
       "      <td>-0.675026</td>\n",
       "      <td>-0.745047</td>\n",
       "      <td>...</td>\n",
       "      <td>-0.794805</td>\n",
       "      <td>-0.748052</td>\n",
       "      <td>-0.836364</td>\n",
       "      <td>-0.666234</td>\n",
       "      <td>-0.828191</td>\n",
       "      <td>-0.834687</td>\n",
       "      <td>0.000000</td>\n",
       "      <td>0.525872</td>\n",
       "      <td>0.925625</td>\n",
       "      <td>0.850649</td>\n",
       "    </tr>\n",
       "    <tr>\n",
       "      <th>Vanuatu</th>\n",
       "      <td>0.000000</td>\n",
       "      <td>-0.569106</td>\n",
       "      <td>0.0</td>\n",
       "      <td>0.000000</td>\n",
       "      <td>0.967197</td>\n",
       "      <td>-0.632023</td>\n",
       "      <td>-0.971429</td>\n",
       "      <td>-0.838989</td>\n",
       "      <td>-0.944120</td>\n",
       "      <td>-0.939916</td>\n",
       "      <td>...</td>\n",
       "      <td>0.000000</td>\n",
       "      <td>0.000000</td>\n",
       "      <td>-0.971429</td>\n",
       "      <td>0.000000</td>\n",
       "      <td>-0.971095</td>\n",
       "      <td>-0.781423</td>\n",
       "      <td>0.827089</td>\n",
       "      <td>0.000000</td>\n",
       "      <td>-0.813901</td>\n",
       "      <td>0.971429</td>\n",
       "    </tr>\n",
       "    <tr>\n",
       "      <th>Zambia</th>\n",
       "      <td>-0.815200</td>\n",
       "      <td>0.728456</td>\n",
       "      <td>0.0</td>\n",
       "      <td>-0.850456</td>\n",
       "      <td>0.863548</td>\n",
       "      <td>0.697629</td>\n",
       "      <td>-0.837662</td>\n",
       "      <td>0.000000</td>\n",
       "      <td>-0.837662</td>\n",
       "      <td>-0.723612</td>\n",
       "      <td>...</td>\n",
       "      <td>0.000000</td>\n",
       "      <td>0.000000</td>\n",
       "      <td>-0.837662</td>\n",
       "      <td>0.000000</td>\n",
       "      <td>-0.806755</td>\n",
       "      <td>-0.719714</td>\n",
       "      <td>-0.658414</td>\n",
       "      <td>-0.531383</td>\n",
       "      <td>-0.547724</td>\n",
       "      <td>0.837662</td>\n",
       "    </tr>\n",
       "    <tr>\n",
       "      <th>Zimbabwe</th>\n",
       "      <td>-0.669698</td>\n",
       "      <td>0.000000</td>\n",
       "      <td>0.0</td>\n",
       "      <td>-0.841353</td>\n",
       "      <td>-0.782722</td>\n",
       "      <td>0.000000</td>\n",
       "      <td>0.000000</td>\n",
       "      <td>-0.884333</td>\n",
       "      <td>-0.905195</td>\n",
       "      <td>0.563170</td>\n",
       "      <td>...</td>\n",
       "      <td>0.000000</td>\n",
       "      <td>0.000000</td>\n",
       "      <td>0.877922</td>\n",
       "      <td>0.000000</td>\n",
       "      <td>0.000000</td>\n",
       "      <td>0.512504</td>\n",
       "      <td>0.637875</td>\n",
       "      <td>0.913470</td>\n",
       "      <td>0.000000</td>\n",
       "      <td>0.832468</td>\n",
       "    </tr>\n",
       "  </tbody>\n",
       "</table>\n",
       "<p>153 rows × 28 columns</p>\n",
       "</div>"
      ],
      "text/plain": [
       "             AgriShareGDP  CreditToAgriFishForest  EmploymentRural  \\\n",
       "Country                                                              \n",
       "Afghanistan     -0.864566                0.000000              0.0   \n",
       "Albania         -0.486522                0.000000              0.0   \n",
       "Algeria          0.000000                0.000000              0.0   \n",
       "Angola           0.000000                0.000000              0.0   \n",
       "Argentina       -0.598246                0.569016              0.0   \n",
       "...                   ...                     ...              ...   \n",
       "Uruguay         -0.587853                0.886652              0.0   \n",
       "Uzbekistan      -0.714518                0.000000              0.0   \n",
       "Vanuatu          0.000000               -0.569106              0.0   \n",
       "Zambia          -0.815200                0.728456              0.0   \n",
       "Zimbabwe        -0.669698                0.000000              0.0   \n",
       "\n",
       "             % Soldiers  Employment in industry  Employment in services  \\\n",
       "Country                                                                   \n",
       "Afghanistan    0.000000                0.910685                0.911984   \n",
       "Albania       -0.782836                0.802469                0.766483   \n",
       "Algeria       -0.755527                0.853152                0.753491   \n",
       "Angola        -0.755527               -0.648912               -0.924326   \n",
       "Argentina     -0.733421                0.000000                0.000000   \n",
       "...                 ...                     ...                     ...   \n",
       "Uruguay       -0.934981               -0.498214                0.764133   \n",
       "Uzbekistan    -0.672302                0.916531                0.743340   \n",
       "Vanuatu        0.000000                0.967197               -0.632023   \n",
       "Zambia        -0.850456                0.863548                0.697629   \n",
       "Zimbabwe      -0.841353               -0.782722                0.000000   \n",
       "\n",
       "             Birth Rate  Cost business start-up  Death Rate  \\\n",
       "Country                                                       \n",
       "Afghanistan   -0.914286               -0.736206   -0.914286   \n",
       "Albania       -0.854823               -0.767682    0.885714   \n",
       "Algeria        0.874026               -0.725858    0.000000   \n",
       "Angola        -0.753247               -0.748783   -0.753247   \n",
       "Argentina     -0.761039                0.000000   -0.761039   \n",
       "...                 ...                     ...         ...   \n",
       "Uruguay       -0.901299               -0.896356    0.619481   \n",
       "Uzbekistan     0.607537               -0.847464   -0.675026   \n",
       "Vanuatu       -0.971429               -0.838989   -0.944120   \n",
       "Zambia        -0.837662                0.000000   -0.837662   \n",
       "Zimbabwe       0.000000               -0.884333   -0.905195   \n",
       "\n",
       "             Employment in agriculture  ...  Researchers in R&D  \\\n",
       "Country                                 ...                       \n",
       "Afghanistan                  -0.910685  ...            0.000000   \n",
       "Albania                      -0.858720  ...            0.000000   \n",
       "Algeria                      -0.750487  ...            0.000000   \n",
       "Angola                        0.912634  ...            0.000000   \n",
       "Argentina                    -0.721302  ...            0.791166   \n",
       "...                                ...  ...                 ...   \n",
       "Uruguay                      -0.790516  ...            0.000000   \n",
       "Uzbekistan                   -0.745047  ...           -0.794805   \n",
       "Vanuatu                      -0.939916  ...            0.000000   \n",
       "Zambia                       -0.723612  ...            0.000000   \n",
       "Zimbabwe                      0.563170  ...            0.000000   \n",
       "\n",
       "             R&D expenditure %GDP  % Rural Population  \\\n",
       "Country                                                 \n",
       "Afghanistan              0.000000           -0.914286   \n",
       "Albania                  0.000000           -0.889610   \n",
       "Algeria                  0.000000           -0.750649   \n",
       "Angola                   0.000000           -0.753247   \n",
       "Argentina                0.870413           -0.761039   \n",
       "...                           ...                 ...   \n",
       "Uruguay                  0.574862           -0.901299   \n",
       "Uzbekistan              -0.748052           -0.836364   \n",
       "Vanuatu                  0.000000           -0.971429   \n",
       "Zambia                   0.000000           -0.837662   \n",
       "Zimbabwe                 0.000000            0.877922   \n",
       "\n",
       "             Tertiary School Gender Parity  % Vulnerable female employment  \\\n",
       "Country                                                                      \n",
       "Afghanistan                       0.000000                       -0.910685   \n",
       "Albania                           0.000000                        0.000000   \n",
       "Algeria                           0.738578                       -0.758688   \n",
       "Angola                            0.000000                        0.673595   \n",
       "Argentina                         0.766483                        0.000000   \n",
       "...                                    ...                             ...   \n",
       "Uruguay                           0.000000                        0.000000   \n",
       "Uzbekistan                       -0.666234                       -0.828191   \n",
       "Vanuatu                           0.000000                       -0.971095   \n",
       "Zambia                            0.000000                       -0.806755   \n",
       "Zimbabwe                          0.000000                        0.000000   \n",
       "\n",
       "             % Vulnerable male employment  Civil Liberties  \\\n",
       "Country                                                      \n",
       "Afghanistan                     -0.910685         0.000000   \n",
       "Albania                         -0.697629         0.796368   \n",
       "Algeria                          0.000000         0.696313   \n",
       "Angola                           0.655408         0.744056   \n",
       "Argentina                       -0.433907         0.000000   \n",
       "...                                   ...              ...   \n",
       "Uruguay                         -0.503410         0.000000   \n",
       "Uzbekistan                      -0.834687         0.000000   \n",
       "Vanuatu                         -0.781423         0.827089   \n",
       "Zambia                          -0.719714        -0.658414   \n",
       "Zimbabwe                         0.512504         0.637875   \n",
       "\n",
       "             Freedom of Expression  % Healthcare Investment  Population  \n",
       "Country                                                                  \n",
       "Afghanistan               0.666451                 0.000000    0.914286  \n",
       "Albania                   0.000000                 0.000000   -0.888312  \n",
       "Algeria                   0.000000                 0.629927    0.750649  \n",
       "Angola                    0.748459                 0.000000    0.753247  \n",
       "Argentina                -0.705732                 0.000000    0.761039  \n",
       "...                            ...                      ...         ...  \n",
       "Uruguay                   0.000000                 0.833388    0.902597  \n",
       "Uzbekistan                0.525872                 0.925625    0.850649  \n",
       "Vanuatu                   0.000000                -0.813901    0.971429  \n",
       "Zambia                   -0.531383                -0.547724    0.837662  \n",
       "Zimbabwe                  0.913470                 0.000000    0.832468  \n",
       "\n",
       "[153 rows x 28 columns]"
      ]
     },
     "metadata": {},
     "output_type": "display_data"
    }
   ],
   "source": [
    "econ_ind = 'Economic Indicators'\n",
    "socdem_ind = 'Social-demographic Indicators'\n",
    "eq_ind = 'Equality Indicators'\n",
    "all_ind = 'All indicators'\n",
    "\n",
    "ind_dict = {\n",
    "    econ_ind: ['CreditToAgriFishForest', 'AgriShareGDP', 'EmploymentRural', '%EmploymentAgriFishForest', 'TotalAgri', '% Soldiers', '% Healthcare Investment', '% Employment Industry', '% Education Expenditure','R&D expenditure %GDP','Researchers in R&D','Employment in agriculture','Employment in industry','Employment in services','Cost business start-up','% Education Expenditure'],\n",
    "    socdem_ind: ['Marriage Rate', 'Birth Rate', 'Death Rate', 'Homicides', 'Life Expectancy', 'Maternal Death Risk', 'Literacy Rate', 'Infant Mortality', '% Population Growth', '% Rural Population', 'Suicide Rate', 'Population'],\n",
    "    eq_ind: ['Gender Equality', 'Gender Inequality','% Men Employment', '% Women Employment', 'Women Schooling Years', 'Men Schooling Years', 'Freedom of Expression', '% Undernourishment', 'Civil Liberties', 'Gini','Tertiary School Gender Parity','% Female Employment','% Male Employment','% Vulnerable male employment','% Vulnerable female employment'],\n",
    "    all_ind: corr_df.columns.tolist()\n",
    "}\n",
    "\n",
    "# Keep only the ones that have been carried on to this point.\n",
    "\n",
    "indicators = set(corr_df.columns)\n",
    "for ind in ind_dict:\n",
    "    ind_dict[ind] = list(set(ind_dict[ind]) & indicators)\n",
    "\n",
    "# Divide the corr_df into slices for each group of indicators, normalize them and store them into a dict.\n",
    "df_dict = {}\n",
    "for ind in ind_dict:\n",
    "    df_norm = corr_df.copy()\n",
    "    df_norm.drop(df_norm.columns.difference(ind_dict[ind]), axis = 'columns', inplace=True)\n",
    "    df_norm = df_norm.dropna(how = 'all').fillna(value = 0)\n",
    "    df_norm.name = ind\n",
    "    df_dict[ind] = df_norm\n",
    "\n",
    "for ind in ind_dict:\n",
    "    print(df_dict[ind].name)\n",
    "    display(df_dict[ind])"
   ]
  },
  {
   "cell_type": "markdown",
   "metadata": {},
   "source": [
    "## t-SNE\n",
    "\n",
    "The algorithm of t-SNE (t-Distributed Stochastic Neighbor Embedding) is used to reduce the dimensionality of all the indicators to only 2 components. It admits a number of parameters to tune the procedure and obtain an optimal output: \n",
    "- N-components: the dimensions to analyze.\n",
    "- Perplexity: measurement of how well a probability distribution or probability model predicts a sample.\n",
    "- N-iter: iterations for the optimization\n",
    "- Learning rate: how fast the algorithm learns. A high value may cause a ball form of the data.\n",
    "- Init: Initialization of embedding. 'pca' is the new default for newer versions.\n",
    "\n",
    "In this cell, we define the different values that will be used for each group of indicators."
   ]
  },
  {
   "cell_type": "code",
   "execution_count": 4,
   "metadata": {},
   "outputs": [],
   "source": [
    "# The TSNE algorithm admits a number of parameters\n",
    "tsne_dict = {\n",
    "    econ_ind: TSNE(n_components = 2, perplexity = 5, n_iter = 50000, learning_rate = 100.0, init = 'pca'),\n",
    "    socdem_ind: TSNE(n_components = 2, perplexity = 5, n_iter = 50000, learning_rate = 100.0, init = 'pca'),\n",
    "    eq_ind: TSNE(n_components = 2, perplexity = 5, n_iter = 50000, learning_rate = 100.0, init = 'pca'),\n",
    "    all_ind: TSNE(n_components = 2, perplexity = 5, n_iter = 50000, learning_rate = 100.0, init = 'pca')\n",
    "}"
   ]
  },
  {
   "cell_type": "markdown",
   "metadata": {},
   "source": [
    "## CLUSTERING\n",
    "\n",
    "### Affinity Propagation\n",
    "\n",
    "The clustering method used in the notebook is Affinity Propagation. The reason behind choosing this one is because it is suited for our data: many clusters with uneven cluster size; also, it can simply be optmized changing 1 parameter, \"damping\". \n",
    "- Damping: is the extent to which the current value is maintained relative to incoming values (weighted 1 - damping).\n",
    "\n",
    "Again, in this cell we will calibrate the clustering algorithm for each indicator group."
   ]
  },
  {
   "cell_type": "code",
   "execution_count": 5,
   "metadata": {},
   "outputs": [],
   "source": [
    "afprop_dict = {\n",
    "    econ_ind: AffinityPropagation(damping=0.5),\n",
    "    socdem_ind: AffinityPropagation(damping=0.5),\n",
    "    eq_ind: AffinityPropagation(damping=0.5),\n",
    "    all_ind: AffinityPropagation(damping=0.5)\n",
    "}"
   ]
  },
  {
   "cell_type": "code",
   "execution_count": 6,
   "metadata": {},
   "outputs": [
    {
     "data": {
      "text/html": [
       "<div>\n",
       "<style scoped>\n",
       "    .dataframe tbody tr th:only-of-type {\n",
       "        vertical-align: middle;\n",
       "    }\n",
       "\n",
       "    .dataframe tbody tr th {\n",
       "        vertical-align: top;\n",
       "    }\n",
       "\n",
       "    .dataframe thead th {\n",
       "        text-align: right;\n",
       "    }\n",
       "</style>\n",
       "<table border=\"1\" class=\"dataframe\">\n",
       "  <thead>\n",
       "    <tr style=\"text-align: right;\">\n",
       "      <th></th>\n",
       "      <th>1st_component</th>\n",
       "      <th>2nd_component</th>\n",
       "      <th>Cluster</th>\n",
       "    </tr>\n",
       "    <tr>\n",
       "      <th>Country</th>\n",
       "      <th></th>\n",
       "      <th></th>\n",
       "      <th></th>\n",
       "    </tr>\n",
       "  </thead>\n",
       "  <tbody>\n",
       "    <tr>\n",
       "      <th>Afghanistan</th>\n",
       "      <td>0.629841</td>\n",
       "      <td>0.578458</td>\n",
       "      <td>1</td>\n",
       "    </tr>\n",
       "    <tr>\n",
       "      <th>Albania</th>\n",
       "      <td>-0.355837</td>\n",
       "      <td>1.358845</td>\n",
       "      <td>6</td>\n",
       "    </tr>\n",
       "    <tr>\n",
       "      <th>Algeria</th>\n",
       "      <td>-0.853196</td>\n",
       "      <td>1.259490</td>\n",
       "      <td>7</td>\n",
       "    </tr>\n",
       "    <tr>\n",
       "      <th>Angola</th>\n",
       "      <td>1.884066</td>\n",
       "      <td>-1.495920</td>\n",
       "      <td>9</td>\n",
       "    </tr>\n",
       "    <tr>\n",
       "      <th>Argentina</th>\n",
       "      <td>-0.256507</td>\n",
       "      <td>-1.325597</td>\n",
       "      <td>0</td>\n",
       "    </tr>\n",
       "    <tr>\n",
       "      <th>...</th>\n",
       "      <td>...</td>\n",
       "      <td>...</td>\n",
       "      <td>...</td>\n",
       "    </tr>\n",
       "    <tr>\n",
       "      <th>Uruguay</th>\n",
       "      <td>-1.392083</td>\n",
       "      <td>-0.290533</td>\n",
       "      <td>4</td>\n",
       "    </tr>\n",
       "    <tr>\n",
       "      <th>Uzbekistan</th>\n",
       "      <td>-0.506289</td>\n",
       "      <td>1.068815</td>\n",
       "      <td>7</td>\n",
       "    </tr>\n",
       "    <tr>\n",
       "      <th>Vanuatu</th>\n",
       "      <td>2.195366</td>\n",
       "      <td>-0.632987</td>\n",
       "      <td>9</td>\n",
       "    </tr>\n",
       "    <tr>\n",
       "      <th>Zambia</th>\n",
       "      <td>-0.257063</td>\n",
       "      <td>1.939882</td>\n",
       "      <td>6</td>\n",
       "    </tr>\n",
       "    <tr>\n",
       "      <th>Zimbabwe</th>\n",
       "      <td>1.868596</td>\n",
       "      <td>-1.580970</td>\n",
       "      <td>9</td>\n",
       "    </tr>\n",
       "  </tbody>\n",
       "</table>\n",
       "<p>152 rows × 3 columns</p>\n",
       "</div>"
      ],
      "text/plain": [
       "             1st_component  2nd_component Cluster\n",
       "Country                                          \n",
       "Afghanistan       0.629841       0.578458       1\n",
       "Albania          -0.355837       1.358845       6\n",
       "Algeria          -0.853196       1.259490       7\n",
       "Angola            1.884066      -1.495920       9\n",
       "Argentina        -0.256507      -1.325597       0\n",
       "...                    ...            ...     ...\n",
       "Uruguay          -1.392083      -0.290533       4\n",
       "Uzbekistan       -0.506289       1.068815       7\n",
       "Vanuatu           2.195366      -0.632987       9\n",
       "Zambia           -0.257063       1.939882       6\n",
       "Zimbabwe          1.868596      -1.580970       9\n",
       "\n",
       "[152 rows x 3 columns]"
      ]
     },
     "metadata": {},
     "output_type": "display_data"
    },
    {
     "data": {
      "application/vnd.plotly.v1+json": {
       "config": {
        "plotlyServerURL": "https://plot.ly"
       },
       "data": [
        {
         "hovertemplate": "Cluster=0<br>1st_component=%{x}<br>2nd_component=%{y}<br>Country=%{text}<extra></extra>",
         "legendgroup": "0",
         "marker": {
          "color": "#636efa",
          "symbol": "circle"
         },
         "mode": "markers+text",
         "name": "0",
         "orientation": "v",
         "showlegend": true,
         "text": [
          "Argentina",
          "Brazil",
          "China",
          "Cyprus",
          "Djibouti",
          "Guinea-Bissau",
          "Latvia",
          "Liberia",
          "Lithuania",
          "Poland",
          "Slovenia",
          "Spain",
          "United Arab Emirates"
         ],
         "textposition": "top center",
         "type": "scatter",
         "x": [
          -0.2565065920352936,
          -0.00716604245826602,
          -0.4571150839328766,
          -0.4495232403278351,
          0.1738608181476593,
          0.3694540858268738,
          -0.6133161187171936,
          0.35198038816452026,
          -0.7176844477653503,
          -0.6609138250350952,
          -0.847664475440979,
          -0.3797890543937683,
          0.11192073673009872
         ],
         "xaxis": "x",
         "y": [
          -1.325596570968628,
          -1.2081962823867798,
          -1.2091799974441528,
          -1.3208755254745483,
          -1.1805840730667114,
          -1.6632543802261353,
          -1.3757516145706177,
          -1.5996898412704468,
          -1.4071913957595825,
          -1.4866160154342651,
          -1.24778151512146,
          -1.3509142398834229,
          -1.161422848701477
         ],
         "yaxis": "y"
        },
        {
         "hovertemplate": "Cluster=1<br>1st_component=%{x}<br>2nd_component=%{y}<br>Country=%{text}<extra></extra>",
         "legendgroup": "1",
         "marker": {
          "color": "#EF553B",
          "symbol": "circle"
         },
         "mode": "markers+text",
         "name": "1",
         "orientation": "v",
         "showlegend": true,
         "text": [
          "Afghanistan",
          "Armenia",
          "Belarus",
          "Bosnia and Herzegovina",
          "Colombia",
          "Dominican Republic",
          "Ghana",
          "Guyana",
          "Iceland",
          "Lesotho",
          "Maldives",
          "Papua New Guinea",
          "Romania",
          "Samoa",
          "Sao Tome and Principe",
          "Serbia"
         ],
         "textposition": "top center",
         "type": "scatter",
         "x": [
          0.6298407912254333,
          0.6103322505950928,
          0.3396535813808441,
          0.041686199605464935,
          0.12726040184497833,
          0.2302958220243454,
          0.471565306186676,
          0.3339635729789734,
          0.4769238233566284,
          0.3714675307273865,
          0.15404066443443298,
          0.49109965562820435,
          -0.052690647542476654,
          0.6132393479347229,
          0.4807232916355133,
          0.00810151919722557
         ],
         "xaxis": "x",
         "y": [
          0.5784579515457153,
          0.48583951592445374,
          0.3551727831363678,
          0.6066303253173828,
          0.687287449836731,
          0.09610319882631302,
          0.3994516134262085,
          0.14691829681396484,
          -0.1389090120792389,
          0.28248971700668335,
          0.10795623809099197,
          0.6140367984771729,
          0.49763160943984985,
          0.6722875833511353,
          0.01106275711208582,
          0.4797738492488861
         ],
         "yaxis": "y"
        },
        {
         "hovertemplate": "Cluster=2<br>1st_component=%{x}<br>2nd_component=%{y}<br>Country=%{text}<extra></extra>",
         "legendgroup": "2",
         "marker": {
          "color": "#00cc96",
          "symbol": "circle"
         },
         "mode": "markers+text",
         "name": "2",
         "orientation": "v",
         "showlegend": true,
         "text": [
          "Austria",
          "Belgium",
          "Bulgaria",
          "Denmark",
          "Estonia",
          "Germany",
          "Ireland",
          "Malta",
          "Singapore",
          "United States"
         ],
         "textposition": "top center",
         "type": "scatter",
         "x": [
          -1.36416757106781,
          -1.427109718322754,
          -1.4662518501281738,
          -1.5252851247787476,
          -1.5673149824142456,
          -1.5697739124298096,
          -1.408851981163025,
          -1.4748425483703613,
          -1.4432553052902222,
          -1.6560555696487427
         ],
         "xaxis": "x",
         "y": [
          -0.9532076120376587,
          -0.9712613821029663,
          -0.7167598009109497,
          -1.3291178941726685,
          -0.7571022510528564,
          -1.2773405313491821,
          -0.653917670249939,
          -1.0746171474456787,
          -0.5545016527175903,
          -1.3258862495422363
         ],
         "yaxis": "y"
        },
        {
         "hovertemplate": "Cluster=3<br>1st_component=%{x}<br>2nd_component=%{y}<br>Country=%{text}<extra></extra>",
         "legendgroup": "3",
         "marker": {
          "color": "#ab63fa",
          "symbol": "circle"
         },
         "mode": "markers+text",
         "name": "3",
         "orientation": "v",
         "showlegend": true,
         "text": [
          "Bhutan",
          "Comoros",
          "Gabon",
          "Georgia",
          "India",
          "Indonesia",
          "Iraq",
          "Myanmar",
          "Nepal",
          "Panama",
          "Sri Lanka",
          "Turkmenistan"
         ],
         "textposition": "top center",
         "type": "scatter",
         "x": [
          0.7569605112075806,
          1.4388110637664795,
          1.3497004508972168,
          0.8090795874595642,
          1.051589846611023,
          1.3698029518127441,
          1.3036415576934814,
          1.2364720106124878,
          0.8827674388885498,
          0.784468948841095,
          0.8623781204223633,
          0.8991112112998962
         ],
         "xaxis": "x",
         "y": [
          0.6081451177597046,
          0.9537749290466309,
          0.7381325960159302,
          0.7086273431777954,
          0.8092017769813538,
          0.974260151386261,
          0.8243309259414673,
          0.8272200226783752,
          0.5910364389419556,
          0.8229906558990479,
          0.49215200543403625,
          0.37673282623291016
         ],
         "yaxis": "y"
        },
        {
         "hovertemplate": "Cluster=4<br>1st_component=%{x}<br>2nd_component=%{y}<br>Country=%{text}<extra></extra>",
         "legendgroup": "4",
         "marker": {
          "color": "#FFA15A",
          "symbol": "circle"
         },
         "mode": "markers+text",
         "name": "4",
         "orientation": "v",
         "showlegend": true,
         "text": [
          "Australia",
          "Botswana",
          "Chile",
          "Costa Rica",
          "Eritrea",
          "Finland",
          "Guatemala",
          "Honduras",
          "Israel",
          "Jamaica",
          "Lebanon",
          "Malaysia",
          "Mauritania",
          "Niger",
          "Puerto Rico",
          "Sweden",
          "Switzerland",
          "Togo",
          "Uruguay"
         ],
         "textposition": "top center",
         "type": "scatter",
         "x": [
          -1.1049575805664062,
          -1.4598724842071533,
          -1.0667630434036255,
          -0.6366952061653137,
          -0.6391459107398987,
          -0.9275950193405151,
          -1.1936678886413574,
          -0.6060773134231567,
          -1.2785112857818604,
          -0.7776037454605103,
          -1.0028184652328491,
          -1.0627855062484741,
          -1.1702826023101807,
          -0.6281865239143372,
          -0.7068399786949158,
          -1.1683498620986938,
          -1.3709145784378052,
          -1.0343900918960571,
          -1.392082929611206
         ],
         "xaxis": "x",
         "y": [
          0.16426900029182434,
          -0.16485737264156342,
          0.5031477212905884,
          0.3505181074142456,
          0.032406508922576904,
          -0.000006897326329635689,
          0.15361745655536652,
          -0.02098635397851467,
          0.05356024578213692,
          -0.15923133492469788,
          0.2027003914117813,
          0.017593560740351677,
          0.08003631234169006,
          0.2862358093261719,
          -0.1520918905735016,
          0.3446461260318756,
          -0.21836671233177185,
          0.5681677460670471,
          -0.2905326783657074
         ],
         "yaxis": "y"
        },
        {
         "hovertemplate": "Cluster=5<br>1st_component=%{x}<br>2nd_component=%{y}<br>Country=%{text}<extra></extra>",
         "legendgroup": "5",
         "marker": {
          "color": "#19d3f3",
          "symbol": "circle"
         },
         "mode": "markers+text",
         "name": "5",
         "orientation": "v",
         "showlegend": true,
         "text": [
          "Barbados",
          "Benin",
          "Central African Republic",
          "El Salvador",
          "Eswatini",
          "Fiji",
          "Haiti",
          "Japan",
          "Luxembourg",
          "Mexico",
          "Montenegro",
          "New Caledonia",
          "Nigeria",
          "Russia",
          "Tajikistan",
          "Trinidad and Tobago"
         ],
         "textposition": "top center",
         "type": "scatter",
         "x": [
          1.0497307777404785,
          0.7329789996147156,
          0.6319677233695984,
          0.6557416319847107,
          0.4999031126499176,
          0.5592457056045532,
          0.6253698468208313,
          0.9765554666519165,
          0.7288807034492493,
          0.9144914746284485,
          0.5679005980491638,
          1.0374398231506348,
          0.6306208372116089,
          0.5039852857589722,
          0.3642648458480835,
          0.6294146776199341
         ],
         "xaxis": "x",
         "y": [
          -0.8726897835731506,
          -0.37053483724594116,
          -0.6031078696250916,
          -0.2565433084964752,
          -0.7615624070167542,
          -0.40409478545188904,
          -0.377393901348114,
          -1.07799232006073,
          -0.6316161155700684,
          -1.1346417665481567,
          -0.8340213298797607,
          -1.0212947130203247,
          -0.8756636381149292,
          -0.9747889637947083,
          -0.7257081866264343,
          -0.9751762747764587
         ],
         "yaxis": "y"
        },
        {
         "hovertemplate": "Cluster=6<br>1st_component=%{x}<br>2nd_component=%{y}<br>Country=%{text}<extra></extra>",
         "legendgroup": "6",
         "marker": {
          "color": "#FF6692",
          "symbol": "circle"
         },
         "mode": "markers+text",
         "name": "6",
         "orientation": "v",
         "showlegend": true,
         "text": [
          "Albania",
          "Azerbaijan",
          "Bangladesh",
          "Cambodia",
          "Cameroon",
          "Chad",
          "Ethiopia",
          "Kazakhstan",
          "Madagascar",
          "Mali",
          "Mongolia",
          "Mozambique",
          "Namibia",
          "Senegal",
          "Sierra Leone",
          "Solomon Islands",
          "Thailand",
          "Tonga",
          "Ukraine",
          "Zambia"
         ],
         "textposition": "top center",
         "type": "scatter",
         "x": [
          -0.35583674907684326,
          -0.06292183697223663,
          0.10700637847185135,
          -0.16751138865947723,
          0.27230104804039,
          0.14339791238307953,
          0.13082650303840637,
          -0.22629618644714355,
          -0.2875782549381256,
          0.24722959101200104,
          -0.09053146094083786,
          0.45399603247642517,
          0.03560955449938774,
          0.3577544689178467,
          0.2250710278749466,
          0.30756330490112305,
          0.2910168468952179,
          0.30064594745635986,
          -0.32076308131217957,
          -0.2570633590221405
         ],
         "xaxis": "x",
         "y": [
          1.3588452339172363,
          1.6646984815597534,
          1.3563488721847534,
          1.254409909248352,
          1.519643783569336,
          1.6770472526550293,
          1.4628041982650757,
          1.4254236221313477,
          1.327370047569275,
          1.9465296268463135,
          1.4668941497802734,
          1.5102778673171997,
          1.6202378273010254,
          1.4605299234390259,
          1.812943935394287,
          1.5972307920455933,
          2.050581932067871,
          1.778619647026062,
          1.9648430347442627,
          1.9398821592330933
         ],
         "yaxis": "y"
        },
        {
         "hovertemplate": "Cluster=7<br>1st_component=%{x}<br>2nd_component=%{y}<br>Country=%{text}<extra></extra>",
         "legendgroup": "7",
         "marker": {
          "color": "#B6E880",
          "symbol": "circle"
         },
         "mode": "markers+text",
         "name": "7",
         "orientation": "v",
         "showlegend": true,
         "text": [
          "Algeria",
          "Burkina Faso",
          "Burundi",
          "Ecuador",
          "Guinea",
          "Jordan",
          "Kenya",
          "Morocco",
          "Nicaragua",
          "Paraguay",
          "Peru",
          "Philippines",
          "Rwanda",
          "Tunisia",
          "Uzbekistan"
         ],
         "textposition": "top center",
         "type": "scatter",
         "x": [
          -0.8531955480575562,
          -0.5172182321548462,
          -0.9527572989463806,
          -0.9864535927772522,
          -0.8286912441253662,
          -1.6510258913040161,
          -1.6799652576446533,
          -0.5767821073532104,
          -1.6909699440002441,
          -0.9280921816825867,
          -1.012686848640442,
          -0.97459876537323,
          -0.48085910081863403,
          -0.7929101586341858,
          -0.5062888860702515
         ],
         "xaxis": "x",
         "y": [
          1.2594903707504272,
          1.1845155954360962,
          1.3378174304962158,
          0.9935709238052368,
          1.3596304655075073,
          0.9122795462608337,
          0.7978852391242981,
          1.2429018020629883,
          0.7285109162330627,
          1.1173245906829834,
          1.4102681875228882,
          0.6729707717895508,
          1.266744613647461,
          1.2255518436431885,
          1.068814992904663
         ],
         "yaxis": "y"
        },
        {
         "hovertemplate": "Cluster=8<br>1st_component=%{x}<br>2nd_component=%{y}<br>Country=%{text}<extra></extra>",
         "legendgroup": "8",
         "marker": {
          "color": "#FF97FF",
          "symbol": "circle"
         },
         "mode": "markers+text",
         "name": "8",
         "orientation": "v",
         "showlegend": true,
         "text": [
          "Belize",
          "Canada",
          "Cuba",
          "France",
          "Hungary",
          "Malawi",
          "Mauritius",
          "Netherlands",
          "New Zealand",
          "North Macedonia",
          "Norway",
          "Portugal",
          "South Africa",
          "United Kingdom"
         ],
         "textposition": "top center",
         "type": "scatter",
         "x": [
          -0.1375918686389923,
          -0.8901705145835876,
          -0.31199753284454346,
          -0.8784029483795166,
          -0.8764505386352539,
          -0.20691578090190887,
          -0.4778864085674286,
          -0.7060373425483704,
          -0.36359870433807373,
          -0.9008136987686157,
          -0.9584218859672546,
          -0.8952252864837646,
          -0.5939161777496338,
          -0.777720034122467
         ],
         "xaxis": "x",
         "y": [
          -0.5277619957923889,
          -0.5821239948272705,
          -0.3367026150226593,
          -0.7297634482383728,
          -1.1732314825057983,
          -0.5744534730911255,
          -0.6748908162117004,
          -0.7059253454208374,
          -0.2968427538871765,
          -0.8960004448890686,
          -0.7072645425796509,
          -1.0745484828948975,
          -0.6935126781463623,
          -0.7059963941574097
         ],
         "yaxis": "y"
        },
        {
         "hovertemplate": "Cluster=9<br>1st_component=%{x}<br>2nd_component=%{y}<br>Country=%{text}<extra></extra>",
         "legendgroup": "9",
         "marker": {
          "color": "#FECB52",
          "symbol": "circle"
         },
         "mode": "markers+text",
         "name": "9",
         "orientation": "v",
         "showlegend": true,
         "text": [
          "Angola",
          "Bahrain",
          "Croatia",
          "Equatorial Guinea",
          "French Polynesia",
          "Greece",
          "Italy",
          "Kuwait",
          "Oman",
          "Pakistan",
          "Qatar",
          "Saudi Arabia",
          "Seychelles",
          "Suriname",
          "Uganda",
          "Vanuatu",
          "Zimbabwe"
         ],
         "textposition": "top center",
         "type": "scatter",
         "x": [
          1.8840662240982056,
          1.949092984199524,
          1.312219262123108,
          1.8145989179611206,
          1.5342267751693726,
          1.4116212129592896,
          1.4482725858688354,
          2.046516180038452,
          2.1124069690704346,
          2.1068241596221924,
          1.8857371807098389,
          1.9073220491409302,
          1.4703476428985596,
          1.8332242965698242,
          1.8554208278656006,
          2.195366144180298,
          1.8685959577560425
         ],
         "xaxis": "x",
         "y": [
          -1.495919942855835,
          -0.5806640386581421,
          -1.0192838907241821,
          -0.7178435921669006,
          -0.9160180687904358,
          -1.0372577905654907,
          -1.1057796478271484,
          -0.6622858643531799,
          -0.691321849822998,
          -0.8306896686553955,
          -0.7473795413970947,
          -0.914257824420929,
          -0.9682921767234802,
          -0.8564410209655762,
          -1.6490566730499268,
          -0.6329872012138367,
          -1.5809704065322876
         ],
         "yaxis": "y"
        }
       ],
       "layout": {
        "legend": {
         "title": {
          "text": "Cluster"
         },
         "tracegroupgap": 0
        },
        "margin": {
         "t": 60
        },
        "template": {
         "data": {
          "bar": [
           {
            "error_x": {
             "color": "#2a3f5f"
            },
            "error_y": {
             "color": "#2a3f5f"
            },
            "marker": {
             "line": {
              "color": "#E5ECF6",
              "width": 0.5
             },
             "pattern": {
              "fillmode": "overlay",
              "size": 10,
              "solidity": 0.2
             }
            },
            "type": "bar"
           }
          ],
          "barpolar": [
           {
            "marker": {
             "line": {
              "color": "#E5ECF6",
              "width": 0.5
             },
             "pattern": {
              "fillmode": "overlay",
              "size": 10,
              "solidity": 0.2
             }
            },
            "type": "barpolar"
           }
          ],
          "carpet": [
           {
            "aaxis": {
             "endlinecolor": "#2a3f5f",
             "gridcolor": "white",
             "linecolor": "white",
             "minorgridcolor": "white",
             "startlinecolor": "#2a3f5f"
            },
            "baxis": {
             "endlinecolor": "#2a3f5f",
             "gridcolor": "white",
             "linecolor": "white",
             "minorgridcolor": "white",
             "startlinecolor": "#2a3f5f"
            },
            "type": "carpet"
           }
          ],
          "choropleth": [
           {
            "colorbar": {
             "outlinewidth": 0,
             "ticks": ""
            },
            "type": "choropleth"
           }
          ],
          "contour": [
           {
            "colorbar": {
             "outlinewidth": 0,
             "ticks": ""
            },
            "colorscale": [
             [
              0,
              "#0d0887"
             ],
             [
              0.1111111111111111,
              "#46039f"
             ],
             [
              0.2222222222222222,
              "#7201a8"
             ],
             [
              0.3333333333333333,
              "#9c179e"
             ],
             [
              0.4444444444444444,
              "#bd3786"
             ],
             [
              0.5555555555555556,
              "#d8576b"
             ],
             [
              0.6666666666666666,
              "#ed7953"
             ],
             [
              0.7777777777777778,
              "#fb9f3a"
             ],
             [
              0.8888888888888888,
              "#fdca26"
             ],
             [
              1,
              "#f0f921"
             ]
            ],
            "type": "contour"
           }
          ],
          "contourcarpet": [
           {
            "colorbar": {
             "outlinewidth": 0,
             "ticks": ""
            },
            "type": "contourcarpet"
           }
          ],
          "heatmap": [
           {
            "colorbar": {
             "outlinewidth": 0,
             "ticks": ""
            },
            "colorscale": [
             [
              0,
              "#0d0887"
             ],
             [
              0.1111111111111111,
              "#46039f"
             ],
             [
              0.2222222222222222,
              "#7201a8"
             ],
             [
              0.3333333333333333,
              "#9c179e"
             ],
             [
              0.4444444444444444,
              "#bd3786"
             ],
             [
              0.5555555555555556,
              "#d8576b"
             ],
             [
              0.6666666666666666,
              "#ed7953"
             ],
             [
              0.7777777777777778,
              "#fb9f3a"
             ],
             [
              0.8888888888888888,
              "#fdca26"
             ],
             [
              1,
              "#f0f921"
             ]
            ],
            "type": "heatmap"
           }
          ],
          "heatmapgl": [
           {
            "colorbar": {
             "outlinewidth": 0,
             "ticks": ""
            },
            "colorscale": [
             [
              0,
              "#0d0887"
             ],
             [
              0.1111111111111111,
              "#46039f"
             ],
             [
              0.2222222222222222,
              "#7201a8"
             ],
             [
              0.3333333333333333,
              "#9c179e"
             ],
             [
              0.4444444444444444,
              "#bd3786"
             ],
             [
              0.5555555555555556,
              "#d8576b"
             ],
             [
              0.6666666666666666,
              "#ed7953"
             ],
             [
              0.7777777777777778,
              "#fb9f3a"
             ],
             [
              0.8888888888888888,
              "#fdca26"
             ],
             [
              1,
              "#f0f921"
             ]
            ],
            "type": "heatmapgl"
           }
          ],
          "histogram": [
           {
            "marker": {
             "pattern": {
              "fillmode": "overlay",
              "size": 10,
              "solidity": 0.2
             }
            },
            "type": "histogram"
           }
          ],
          "histogram2d": [
           {
            "colorbar": {
             "outlinewidth": 0,
             "ticks": ""
            },
            "colorscale": [
             [
              0,
              "#0d0887"
             ],
             [
              0.1111111111111111,
              "#46039f"
             ],
             [
              0.2222222222222222,
              "#7201a8"
             ],
             [
              0.3333333333333333,
              "#9c179e"
             ],
             [
              0.4444444444444444,
              "#bd3786"
             ],
             [
              0.5555555555555556,
              "#d8576b"
             ],
             [
              0.6666666666666666,
              "#ed7953"
             ],
             [
              0.7777777777777778,
              "#fb9f3a"
             ],
             [
              0.8888888888888888,
              "#fdca26"
             ],
             [
              1,
              "#f0f921"
             ]
            ],
            "type": "histogram2d"
           }
          ],
          "histogram2dcontour": [
           {
            "colorbar": {
             "outlinewidth": 0,
             "ticks": ""
            },
            "colorscale": [
             [
              0,
              "#0d0887"
             ],
             [
              0.1111111111111111,
              "#46039f"
             ],
             [
              0.2222222222222222,
              "#7201a8"
             ],
             [
              0.3333333333333333,
              "#9c179e"
             ],
             [
              0.4444444444444444,
              "#bd3786"
             ],
             [
              0.5555555555555556,
              "#d8576b"
             ],
             [
              0.6666666666666666,
              "#ed7953"
             ],
             [
              0.7777777777777778,
              "#fb9f3a"
             ],
             [
              0.8888888888888888,
              "#fdca26"
             ],
             [
              1,
              "#f0f921"
             ]
            ],
            "type": "histogram2dcontour"
           }
          ],
          "mesh3d": [
           {
            "colorbar": {
             "outlinewidth": 0,
             "ticks": ""
            },
            "type": "mesh3d"
           }
          ],
          "parcoords": [
           {
            "line": {
             "colorbar": {
              "outlinewidth": 0,
              "ticks": ""
             }
            },
            "type": "parcoords"
           }
          ],
          "pie": [
           {
            "automargin": true,
            "type": "pie"
           }
          ],
          "scatter": [
           {
            "fillpattern": {
             "fillmode": "overlay",
             "size": 10,
             "solidity": 0.2
            },
            "type": "scatter"
           }
          ],
          "scatter3d": [
           {
            "line": {
             "colorbar": {
              "outlinewidth": 0,
              "ticks": ""
             }
            },
            "marker": {
             "colorbar": {
              "outlinewidth": 0,
              "ticks": ""
             }
            },
            "type": "scatter3d"
           }
          ],
          "scattercarpet": [
           {
            "marker": {
             "colorbar": {
              "outlinewidth": 0,
              "ticks": ""
             }
            },
            "type": "scattercarpet"
           }
          ],
          "scattergeo": [
           {
            "marker": {
             "colorbar": {
              "outlinewidth": 0,
              "ticks": ""
             }
            },
            "type": "scattergeo"
           }
          ],
          "scattergl": [
           {
            "marker": {
             "colorbar": {
              "outlinewidth": 0,
              "ticks": ""
             }
            },
            "type": "scattergl"
           }
          ],
          "scattermapbox": [
           {
            "marker": {
             "colorbar": {
              "outlinewidth": 0,
              "ticks": ""
             }
            },
            "type": "scattermapbox"
           }
          ],
          "scatterpolar": [
           {
            "marker": {
             "colorbar": {
              "outlinewidth": 0,
              "ticks": ""
             }
            },
            "type": "scatterpolar"
           }
          ],
          "scatterpolargl": [
           {
            "marker": {
             "colorbar": {
              "outlinewidth": 0,
              "ticks": ""
             }
            },
            "type": "scatterpolargl"
           }
          ],
          "scatterternary": [
           {
            "marker": {
             "colorbar": {
              "outlinewidth": 0,
              "ticks": ""
             }
            },
            "type": "scatterternary"
           }
          ],
          "surface": [
           {
            "colorbar": {
             "outlinewidth": 0,
             "ticks": ""
            },
            "colorscale": [
             [
              0,
              "#0d0887"
             ],
             [
              0.1111111111111111,
              "#46039f"
             ],
             [
              0.2222222222222222,
              "#7201a8"
             ],
             [
              0.3333333333333333,
              "#9c179e"
             ],
             [
              0.4444444444444444,
              "#bd3786"
             ],
             [
              0.5555555555555556,
              "#d8576b"
             ],
             [
              0.6666666666666666,
              "#ed7953"
             ],
             [
              0.7777777777777778,
              "#fb9f3a"
             ],
             [
              0.8888888888888888,
              "#fdca26"
             ],
             [
              1,
              "#f0f921"
             ]
            ],
            "type": "surface"
           }
          ],
          "table": [
           {
            "cells": {
             "fill": {
              "color": "#EBF0F8"
             },
             "line": {
              "color": "white"
             }
            },
            "header": {
             "fill": {
              "color": "#C8D4E3"
             },
             "line": {
              "color": "white"
             }
            },
            "type": "table"
           }
          ]
         },
         "layout": {
          "annotationdefaults": {
           "arrowcolor": "#2a3f5f",
           "arrowhead": 0,
           "arrowwidth": 1
          },
          "autotypenumbers": "strict",
          "coloraxis": {
           "colorbar": {
            "outlinewidth": 0,
            "ticks": ""
           }
          },
          "colorscale": {
           "diverging": [
            [
             0,
             "#8e0152"
            ],
            [
             0.1,
             "#c51b7d"
            ],
            [
             0.2,
             "#de77ae"
            ],
            [
             0.3,
             "#f1b6da"
            ],
            [
             0.4,
             "#fde0ef"
            ],
            [
             0.5,
             "#f7f7f7"
            ],
            [
             0.6,
             "#e6f5d0"
            ],
            [
             0.7,
             "#b8e186"
            ],
            [
             0.8,
             "#7fbc41"
            ],
            [
             0.9,
             "#4d9221"
            ],
            [
             1,
             "#276419"
            ]
           ],
           "sequential": [
            [
             0,
             "#0d0887"
            ],
            [
             0.1111111111111111,
             "#46039f"
            ],
            [
             0.2222222222222222,
             "#7201a8"
            ],
            [
             0.3333333333333333,
             "#9c179e"
            ],
            [
             0.4444444444444444,
             "#bd3786"
            ],
            [
             0.5555555555555556,
             "#d8576b"
            ],
            [
             0.6666666666666666,
             "#ed7953"
            ],
            [
             0.7777777777777778,
             "#fb9f3a"
            ],
            [
             0.8888888888888888,
             "#fdca26"
            ],
            [
             1,
             "#f0f921"
            ]
           ],
           "sequentialminus": [
            [
             0,
             "#0d0887"
            ],
            [
             0.1111111111111111,
             "#46039f"
            ],
            [
             0.2222222222222222,
             "#7201a8"
            ],
            [
             0.3333333333333333,
             "#9c179e"
            ],
            [
             0.4444444444444444,
             "#bd3786"
            ],
            [
             0.5555555555555556,
             "#d8576b"
            ],
            [
             0.6666666666666666,
             "#ed7953"
            ],
            [
             0.7777777777777778,
             "#fb9f3a"
            ],
            [
             0.8888888888888888,
             "#fdca26"
            ],
            [
             1,
             "#f0f921"
            ]
           ]
          },
          "colorway": [
           "#636efa",
           "#EF553B",
           "#00cc96",
           "#ab63fa",
           "#FFA15A",
           "#19d3f3",
           "#FF6692",
           "#B6E880",
           "#FF97FF",
           "#FECB52"
          ],
          "font": {
           "color": "#2a3f5f"
          },
          "geo": {
           "bgcolor": "white",
           "lakecolor": "white",
           "landcolor": "#E5ECF6",
           "showlakes": true,
           "showland": true,
           "subunitcolor": "white"
          },
          "hoverlabel": {
           "align": "left"
          },
          "hovermode": "closest",
          "mapbox": {
           "style": "light"
          },
          "paper_bgcolor": "white",
          "plot_bgcolor": "#E5ECF6",
          "polar": {
           "angularaxis": {
            "gridcolor": "white",
            "linecolor": "white",
            "ticks": ""
           },
           "bgcolor": "#E5ECF6",
           "radialaxis": {
            "gridcolor": "white",
            "linecolor": "white",
            "ticks": ""
           }
          },
          "scene": {
           "xaxis": {
            "backgroundcolor": "#E5ECF6",
            "gridcolor": "white",
            "gridwidth": 2,
            "linecolor": "white",
            "showbackground": true,
            "ticks": "",
            "zerolinecolor": "white"
           },
           "yaxis": {
            "backgroundcolor": "#E5ECF6",
            "gridcolor": "white",
            "gridwidth": 2,
            "linecolor": "white",
            "showbackground": true,
            "ticks": "",
            "zerolinecolor": "white"
           },
           "zaxis": {
            "backgroundcolor": "#E5ECF6",
            "gridcolor": "white",
            "gridwidth": 2,
            "linecolor": "white",
            "showbackground": true,
            "ticks": "",
            "zerolinecolor": "white"
           }
          },
          "shapedefaults": {
           "line": {
            "color": "#2a3f5f"
           }
          },
          "ternary": {
           "aaxis": {
            "gridcolor": "white",
            "linecolor": "white",
            "ticks": ""
           },
           "baxis": {
            "gridcolor": "white",
            "linecolor": "white",
            "ticks": ""
           },
           "bgcolor": "#E5ECF6",
           "caxis": {
            "gridcolor": "white",
            "linecolor": "white",
            "ticks": ""
           }
          },
          "title": {
           "x": 0.05
          },
          "xaxis": {
           "automargin": true,
           "gridcolor": "white",
           "linecolor": "white",
           "ticks": "",
           "title": {
            "standoff": 15
           },
           "zerolinecolor": "white",
           "zerolinewidth": 2
          },
          "yaxis": {
           "automargin": true,
           "gridcolor": "white",
           "linecolor": "white",
           "ticks": "",
           "title": {
            "standoff": 15
           },
           "zerolinecolor": "white",
           "zerolinewidth": 2
          }
         }
        },
        "title": {
         "text": "Economic Indicators",
         "x": 0.5
        },
        "xaxis": {
         "anchor": "y",
         "domain": [
          0,
          1
         ],
         "title": {
          "text": "1st_component"
         }
        },
        "yaxis": {
         "anchor": "x",
         "domain": [
          0,
          1
         ],
         "title": {
          "text": "2nd_component"
         }
        }
       }
      }
     },
     "metadata": {},
     "output_type": "display_data"
    },
    {
     "data": {
      "text/html": [
       "<div>\n",
       "<style scoped>\n",
       "    .dataframe tbody tr th:only-of-type {\n",
       "        vertical-align: middle;\n",
       "    }\n",
       "\n",
       "    .dataframe tbody tr th {\n",
       "        vertical-align: top;\n",
       "    }\n",
       "\n",
       "    .dataframe thead th {\n",
       "        text-align: right;\n",
       "    }\n",
       "</style>\n",
       "<table border=\"1\" class=\"dataframe\">\n",
       "  <thead>\n",
       "    <tr style=\"text-align: right;\">\n",
       "      <th></th>\n",
       "      <th>1st_component</th>\n",
       "      <th>2nd_component</th>\n",
       "      <th>Cluster</th>\n",
       "    </tr>\n",
       "    <tr>\n",
       "      <th>Country</th>\n",
       "      <th></th>\n",
       "      <th></th>\n",
       "      <th></th>\n",
       "    </tr>\n",
       "  </thead>\n",
       "  <tbody>\n",
       "    <tr>\n",
       "      <th>Afghanistan</th>\n",
       "      <td>-1.128659</td>\n",
       "      <td>-0.412997</td>\n",
       "      <td>5</td>\n",
       "    </tr>\n",
       "    <tr>\n",
       "      <th>Albania</th>\n",
       "      <td>1.751791</td>\n",
       "      <td>0.989291</td>\n",
       "      <td>3</td>\n",
       "    </tr>\n",
       "    <tr>\n",
       "      <th>Algeria</th>\n",
       "      <td>1.341569</td>\n",
       "      <td>-0.344678</td>\n",
       "      <td>9</td>\n",
       "    </tr>\n",
       "    <tr>\n",
       "      <th>Angola</th>\n",
       "      <td>-0.537696</td>\n",
       "      <td>-0.710295</td>\n",
       "      <td>1</td>\n",
       "    </tr>\n",
       "    <tr>\n",
       "      <th>Argentina</th>\n",
       "      <td>-0.589986</td>\n",
       "      <td>-0.709131</td>\n",
       "      <td>1</td>\n",
       "    </tr>\n",
       "    <tr>\n",
       "      <th>...</th>\n",
       "      <td>...</td>\n",
       "      <td>...</td>\n",
       "      <td>...</td>\n",
       "    </tr>\n",
       "    <tr>\n",
       "      <th>Uruguay</th>\n",
       "      <td>-0.748106</td>\n",
       "      <td>-1.391587</td>\n",
       "      <td>6</td>\n",
       "    </tr>\n",
       "    <tr>\n",
       "      <th>Uzbekistan</th>\n",
       "      <td>1.541510</td>\n",
       "      <td>-0.566478</td>\n",
       "      <td>9</td>\n",
       "    </tr>\n",
       "    <tr>\n",
       "      <th>Vanuatu</th>\n",
       "      <td>-1.116235</td>\n",
       "      <td>-0.622212</td>\n",
       "      <td>5</td>\n",
       "    </tr>\n",
       "    <tr>\n",
       "      <th>Zambia</th>\n",
       "      <td>-0.357091</td>\n",
       "      <td>-1.845698</td>\n",
       "      <td>6</td>\n",
       "    </tr>\n",
       "    <tr>\n",
       "      <th>Zimbabwe</th>\n",
       "      <td>-0.135516</td>\n",
       "      <td>-1.009339</td>\n",
       "      <td>8</td>\n",
       "    </tr>\n",
       "  </tbody>\n",
       "</table>\n",
       "<p>153 rows × 3 columns</p>\n",
       "</div>"
      ],
      "text/plain": [
       "             1st_component  2nd_component Cluster\n",
       "Country                                          \n",
       "Afghanistan      -1.128659      -0.412997       5\n",
       "Albania           1.751791       0.989291       3\n",
       "Algeria           1.341569      -0.344678       9\n",
       "Angola           -0.537696      -0.710295       1\n",
       "Argentina        -0.589986      -0.709131       1\n",
       "...                    ...            ...     ...\n",
       "Uruguay          -0.748106      -1.391587       6\n",
       "Uzbekistan        1.541510      -0.566478       9\n",
       "Vanuatu          -1.116235      -0.622212       5\n",
       "Zambia           -0.357091      -1.845698       6\n",
       "Zimbabwe         -0.135516      -1.009339       8\n",
       "\n",
       "[153 rows x 3 columns]"
      ]
     },
     "metadata": {},
     "output_type": "display_data"
    },
    {
     "data": {
      "application/vnd.plotly.v1+json": {
       "config": {
        "plotlyServerURL": "https://plot.ly"
       },
       "data": [
        {
         "hovertemplate": "Cluster=0<br>1st_component=%{x}<br>2nd_component=%{y}<br>Country=%{text}<extra></extra>",
         "legendgroup": "0",
         "marker": {
          "color": "#636efa",
          "symbol": "circle"
         },
         "mode": "markers+text",
         "name": "0",
         "orientation": "v",
         "showlegend": true,
         "text": [
          "Bangladesh",
          "Benin",
          "Guatemala",
          "Haiti",
          "Honduras",
          "India",
          "Madagascar",
          "Nicaragua",
          "Pakistan",
          "Sierra Leone"
         ],
         "textposition": "top center",
         "type": "scatter",
         "x": [
          -1.37183678150177,
          -1.1072722673416138,
          -1.350104570388794,
          -1.0066455602645874,
          -1.0702848434448242,
          -1.4263761043548584,
          -1.0627789497375488,
          -1.4178118705749512,
          -1.0336687564849854,
          -0.9641743898391724
         ],
         "xaxis": "x",
         "y": [
          1.9751237630844116,
          1.8192458152770996,
          2.0176708698272705,
          1.713295578956604,
          1.877543330192566,
          2.1060829162597656,
          1.7528668642044067,
          2.028130292892456,
          1.8102149963378906,
          1.6283143758773804
         ],
         "yaxis": "y"
        },
        {
         "hovertemplate": "Cluster=1<br>1st_component=%{x}<br>2nd_component=%{y}<br>Country=%{text}<extra></extra>",
         "legendgroup": "1",
         "marker": {
          "color": "#EF553B",
          "symbol": "circle"
         },
         "mode": "markers+text",
         "name": "1",
         "orientation": "v",
         "showlegend": true,
         "text": [
          "Angola",
          "Argentina",
          "Denmark",
          "Ecuador",
          "Equatorial Guinea",
          "Eswatini",
          "Iraq",
          "Ireland",
          "Lesotho",
          "Mozambique",
          "Netherlands",
          "New Zealand",
          "Peru",
          "Qatar"
         ],
         "textposition": "top center",
         "type": "scatter",
         "x": [
          -0.5376961827278137,
          -0.5899857878684998,
          -0.56792813539505,
          -0.31370770931243896,
          -0.5013546943664551,
          -0.45633235573768616,
          -0.6306732296943665,
          -0.39765045046806335,
          -0.5016494989395142,
          -0.6743720769882202,
          -0.253570556640625,
          -0.26729559898376465,
          -0.4039986729621887,
          -0.7229775190353394
         ],
         "xaxis": "x",
         "y": [
          -0.7102950215339661,
          -0.7091313004493713,
          -0.634392499923706,
          -0.20464690029621124,
          -0.830295205116272,
          -0.6272565126419067,
          -0.572248101234436,
          -0.562190592288971,
          -0.9230449795722961,
          -0.6684941053390503,
          -0.2923414707183838,
          -0.21599288284778595,
          -0.1869315505027771,
          -0.673780083656311
         ],
         "yaxis": "y"
        },
        {
         "hovertemplate": "Cluster=2<br>1st_component=%{x}<br>2nd_component=%{y}<br>Country=%{text}<extra></extra>",
         "legendgroup": "2",
         "marker": {
          "color": "#00cc96",
          "symbol": "circle"
         },
         "mode": "markers+text",
         "name": "2",
         "orientation": "v",
         "showlegend": true,
         "text": [
          "Australia",
          "Belgium",
          "Canada",
          "Finland",
          "France",
          "Israel",
          "Lebanon",
          "Singapore",
          "Slovenia",
          "South Africa",
          "Spain",
          "Switzerland",
          "United Kingdom",
          "United States"
         ],
         "textposition": "top center",
         "type": "scatter",
         "x": [
          0.726530134677887,
          0.7634595036506653,
          0.7712518572807312,
          0.6838499307632446,
          0.5067569613456726,
          0.7627629637718201,
          0.7589191794395447,
          0.08497218787670135,
          0.6882792115211487,
          0.8143519163131714,
          0.6050307750701904,
          0.7276467084884644,
          0.6948174238204956,
          0.4125403165817261
         ],
         "xaxis": "x",
         "y": [
          0.004481493961066008,
          -0.5177283883094788,
          0.041780948638916016,
          -0.25191444158554077,
          -0.019556697458028793,
          -0.6090376973152161,
          -0.1344028115272522,
          -0.2617989778518677,
          -0.3051970899105072,
          -0.46148112416267395,
          -0.05416835844516754,
          -0.5710500478744507,
          -0.0448283776640892,
          0.0490938276052475
         ],
         "yaxis": "y"
        },
        {
         "hovertemplate": "Cluster=3<br>1st_component=%{x}<br>2nd_component=%{y}<br>Country=%{text}<extra></extra>",
         "legendgroup": "3",
         "marker": {
          "color": "#ab63fa",
          "symbol": "circle"
         },
         "mode": "markers+text",
         "name": "3",
         "orientation": "v",
         "showlegend": true,
         "text": [
          "Albania",
          "Armenia",
          "Belarus",
          "Bosnia and Herzegovina",
          "Bulgaria",
          "Croatia",
          "Estonia",
          "French Polynesia",
          "Georgia",
          "Germany",
          "Greece",
          "Hungary",
          "Italy",
          "Japan",
          "Latvia",
          "Libya",
          "Lithuania",
          "Poland",
          "Portugal",
          "Puerto Rico",
          "Romania",
          "Russia",
          "Serbia",
          "Ukraine"
         ],
         "textposition": "top center",
         "type": "scatter",
         "x": [
          1.751791000366211,
          1.3349642753601074,
          1.7288389205932617,
          1.8093098402023315,
          1.7335797548294067,
          1.4812963008880615,
          1.7486399412155151,
          1.0686696767807007,
          1.6083382368087769,
          1.4431160688400269,
          1.1852129697799683,
          1.6024625301361084,
          1.1009565591812134,
          0.9467893242835999,
          1.5319139957427979,
          1.019153356552124,
          1.7070473432540894,
          1.298751950263977,
          0.9028978943824768,
          1.2332260608673096,
          1.683517575263977,
          1.7245742082595825,
          1.7953990697860718,
          1.5710307359695435
         ],
         "xaxis": "x",
         "y": [
          0.989290714263916,
          0.424157977104187,
          0.1742064505815506,
          1.0240432024002075,
          0.8678690791130066,
          0.6851850748062134,
          0.23961296677589417,
          0.9812049269676208,
          0.5633008480072021,
          0.7102846503257751,
          0.9406003355979919,
          0.8605675101280212,
          0.9338473081588745,
          0.911987841129303,
          0.5831257700920105,
          0.9830971956253052,
          0.7978111505508423,
          0.40162235498428345,
          0.8946106433868408,
          0.35894715785980225,
          0.8710994124412537,
          0.12049992382526398,
          1.0748647451400757,
          0.5215207934379578
         ],
         "yaxis": "y"
        },
        {
         "hovertemplate": "Cluster=4<br>1st_component=%{x}<br>2nd_component=%{y}<br>Country=%{text}<extra></extra>",
         "legendgroup": "4",
         "marker": {
          "color": "#FFA15A",
          "symbol": "circle"
         },
         "mode": "markers+text",
         "name": "4",
         "orientation": "v",
         "showlegend": true,
         "text": [
          "Bahrain",
          "Belize",
          "Bhutan",
          "Brazil",
          "Burkina Faso",
          "Cambodia",
          "Central African Republic",
          "Chad",
          "Comoros",
          "Ethiopia",
          "Ghana",
          "Indonesia",
          "Kenya",
          "Myanmar",
          "Papua New Guinea",
          "Togo",
          "United Arab Emirates"
         ],
         "textposition": "top center",
         "type": "scatter",
         "x": [
          -0.8944143652915955,
          -1.186224102973938,
          -1.1956263780593872,
          -0.6633276343345642,
          -1.3470574617385864,
          -1.2367377281188965,
          -0.7366307973861694,
          -0.7726590037345886,
          -1.1867655515670776,
          -1.070761799812317,
          -1.102497935295105,
          -1.0358548164367676,
          -1.0301525592803955,
          -1.335321307182312,
          -1.1824679374694824,
          -1.1785101890563965,
          -0.9442225694656372
         ],
         "xaxis": "x",
         "y": [
          1.3822811841964722,
          0.9074081182479858,
          1.1977018117904663,
          1.4737579822540283,
          0.618377685546875,
          1.2472965717315674,
          1.5164711475372314,
          1.543054223060608,
          1.0805860757827759,
          1.2695058584213257,
          1.3254406452178955,
          1.3771165609359741,
          1.247918963432312,
          0.6649194955825806,
          0.9839527010917664,
          1.2706125974655151,
          1.417739748954773
         ],
         "yaxis": "y"
        },
        {
         "hovertemplate": "Cluster=5<br>1st_component=%{x}<br>2nd_component=%{y}<br>Country=%{text}<extra></extra>",
         "legendgroup": "5",
         "marker": {
          "color": "#19d3f3",
          "symbol": "circle"
         },
         "mode": "markers+text",
         "name": "5",
         "orientation": "v",
         "showlegend": true,
         "text": [
          "Afghanistan",
          "Botswana",
          "Burundi",
          "Cameroon",
          "Djibouti",
          "Jordan",
          "Liberia",
          "Malawi",
          "Mali",
          "Mauritania",
          "Nepal",
          "Sao Tome and Principe",
          "Saudi Arabia",
          "Solomon Islands",
          "Vanuatu"
         ],
         "textposition": "top center",
         "type": "scatter",
         "x": [
          -1.1286592483520508,
          -1.1466946601867676,
          -1.3176971673965454,
          -1.4145487546920776,
          -1.433964729309082,
          -1.0322961807250977,
          -1.2250324487686157,
          -1.2651255130767822,
          -1.4624451398849487,
          -1.2084119319915771,
          -1.5589457750320435,
          -1.4787383079528809,
          -1.077968716621399,
          -1.393300175666809,
          -1.1162352561950684
         ],
         "xaxis": "x",
         "y": [
          -0.4129970073699951,
          -0.5468782186508179,
          -0.47104930877685547,
          -0.25727853178977966,
          -0.12480772286653519,
          -0.2866205871105194,
          -0.4328107237815857,
          -0.3730546534061432,
          -0.18715934455394745,
          -0.37341389060020447,
          -0.16092698276042938,
          -0.2527671754360199,
          -0.35512790083885193,
          -0.18993784487247467,
          -0.6222124099731445
         ],
         "yaxis": "y"
        },
        {
         "hovertemplate": "Cluster=6<br>1st_component=%{x}<br>2nd_component=%{y}<br>Country=%{text}<extra></extra>",
         "legendgroup": "6",
         "marker": {
          "color": "#FF6692",
          "symbol": "circle"
         },
         "mode": "markers+text",
         "name": "6",
         "orientation": "v",
         "showlegend": true,
         "text": [
          "Guinea",
          "Guinea-Bissau",
          "Iceland",
          "Luxembourg",
          "Maldives",
          "Malta",
          "Morocco",
          "Nigeria",
          "Oman",
          "Rwanda",
          "Senegal",
          "Uganda",
          "Uruguay",
          "Zambia"
         ],
         "textposition": "top center",
         "type": "scatter",
         "x": [
          -0.35848313570022583,
          -0.4855143129825592,
          -0.6521707773208618,
          -0.27012693881988525,
          -0.5588959455490112,
          -0.6756488084793091,
          -0.4988069236278534,
          -0.42081350088119507,
          -0.23774877190589905,
          -0.5219821333885193,
          -0.4100376069545746,
          -0.3803296983242035,
          -0.7481059432029724,
          -0.35709071159362793
         ],
         "xaxis": "x",
         "y": [
          -2.0319430828094482,
          -2.1029279232025146,
          -1.3818035125732422,
          -1.9822739362716675,
          -2.0669713020324707,
          -1.346838116645813,
          -2.0353333950042725,
          -1.862667441368103,
          -1.8892322778701782,
          -2.1512601375579834,
          -2.0683462619781494,
          -1.9724972248077393,
          -1.3915873765945435,
          -1.8456975221633911
         ],
         "yaxis": "y"
        },
        {
         "hovertemplate": "Cluster=7<br>1st_component=%{x}<br>2nd_component=%{y}<br>Country=%{text}<extra></extra>",
         "legendgroup": "7",
         "marker": {
          "color": "#B6E880",
          "symbol": "circle"
         },
         "mode": "markers+text",
         "name": "7",
         "orientation": "v",
         "showlegend": true,
         "text": [
          "Chile",
          "China",
          "Colombia",
          "Costa Rica",
          "Cuba",
          "Dominican Republic",
          "El Salvador",
          "Fiji",
          "Jamaica",
          "Malaysia",
          "Mexico",
          "Montenegro",
          "New Caledonia",
          "North Macedonia",
          "Panama",
          "Paraguay",
          "Philippines",
          "Seychelles",
          "Thailand"
         ],
         "textposition": "top center",
         "type": "scatter",
         "x": [
          -0.12890414893627167,
          -0.05986981838941574,
          0.020067064091563225,
          -0.015655748546123505,
          -0.05851992219686508,
          0.3314421474933624,
          -0.1510917693376541,
          0.26447805762290955,
          -0.2045760452747345,
          0.11087525635957718,
          -0.1816854178905487,
          0.016177339479327202,
          0.38095343112945557,
          0.0866304561495781,
          0.014170216396450996,
          -0.08619892597198486,
          0.03948910906910896,
          0.3262128531932831,
          0.08423160016536713
         ],
         "xaxis": "x",
         "y": [
          0.30956795811653137,
          0.08341024070978165,
          0.0354728177189827,
          0.4994381368160248,
          0.37152761220932007,
          0.04341774061322212,
          0.35210463404655457,
          0.5554856061935425,
          0.5927456021308899,
          0.46277251839637756,
          0.6314465403556824,
          0.0879744440317154,
          0.5501936078071594,
          -0.21450012922286987,
          0.4193298816680908,
          -0.06770734488964081,
          0.373402863740921,
          0.5608648061752319,
          0.03203824535012245
         ],
         "yaxis": "y"
        },
        {
         "hovertemplate": "Cluster=8<br>1st_component=%{x}<br>2nd_component=%{y}<br>Country=%{text}<extra></extra>",
         "legendgroup": "8",
         "marker": {
          "color": "#FF97FF",
          "symbol": "circle"
         },
         "mode": "markers+text",
         "name": "8",
         "orientation": "v",
         "showlegend": true,
         "text": [
          "Austria",
          "Barbados",
          "Cyprus",
          "Eritrea",
          "Guyana",
          "Kuwait",
          "Mauritius",
          "Niger",
          "Samoa",
          "Sri Lanka",
          "Suriname",
          "Tonga",
          "Trinidad and Tobago",
          "Zimbabwe"
         ],
         "textposition": "top center",
         "type": "scatter",
         "x": [
          0.17141953110694885,
          0.16344484686851501,
          0.10095462948083878,
          -0.23291565477848053,
          -0.13101810216903687,
          -0.240507572889328,
          0.20701152086257935,
          -0.24407169222831726,
          -0.03890934959053993,
          0.050684425979852676,
          0.04100838303565979,
          0.08300377428531647,
          0.22441630065441132,
          -0.1355161815881729
         ],
         "xaxis": "x",
         "y": [
          -0.9777403473854065,
          -0.7398638129234314,
          -0.9349588751792908,
          -1.0218216180801392,
          -1.171467661857605,
          -1.076237678527832,
          -0.7264599204063416,
          -1.2060890197753906,
          -0.9961381554603577,
          -0.5847336649894714,
          -0.9543309807777405,
          -0.5604011416435242,
          -1.0007901191711426,
          -1.0093387365341187
         ],
         "yaxis": "y"
        },
        {
         "hovertemplate": "Cluster=9<br>1st_component=%{x}<br>2nd_component=%{y}<br>Country=%{text}<extra></extra>",
         "legendgroup": "9",
         "marker": {
          "color": "#FECB52",
          "symbol": "circle"
         },
         "mode": "markers+text",
         "name": "9",
         "orientation": "v",
         "showlegend": true,
         "text": [
          "Algeria",
          "Azerbaijan",
          "Gabon",
          "Kazakhstan",
          "Mongolia",
          "Namibia",
          "Norway",
          "Sweden",
          "Tajikistan",
          "Tunisia",
          "Turkmenistan",
          "Uzbekistan"
         ],
         "textposition": "top center",
         "type": "scatter",
         "x": [
          1.341569185256958,
          1.3736793994903564,
          1.4594745635986328,
          1.548875331878662,
          1.6597459316253662,
          1.4973164796829224,
          1.401158332824707,
          1.4834524393081665,
          1.5974469184875488,
          1.290931224822998,
          1.5501583814620972,
          1.5415102243423462
         ],
         "xaxis": "x",
         "y": [
          -0.34467795491218567,
          -0.38371121883392334,
          -0.7476019859313965,
          -0.5017927289009094,
          -0.5032424926757812,
          -0.7847216129302979,
          -0.7548768520355225,
          -0.5566374063491821,
          -0.5741268992424011,
          -0.2764873504638672,
          -0.7669783234596252,
          -0.5664775371551514
         ],
         "yaxis": "y"
        }
       ],
       "layout": {
        "legend": {
         "title": {
          "text": "Cluster"
         },
         "tracegroupgap": 0
        },
        "margin": {
         "t": 60
        },
        "template": {
         "data": {
          "bar": [
           {
            "error_x": {
             "color": "#2a3f5f"
            },
            "error_y": {
             "color": "#2a3f5f"
            },
            "marker": {
             "line": {
              "color": "#E5ECF6",
              "width": 0.5
             },
             "pattern": {
              "fillmode": "overlay",
              "size": 10,
              "solidity": 0.2
             }
            },
            "type": "bar"
           }
          ],
          "barpolar": [
           {
            "marker": {
             "line": {
              "color": "#E5ECF6",
              "width": 0.5
             },
             "pattern": {
              "fillmode": "overlay",
              "size": 10,
              "solidity": 0.2
             }
            },
            "type": "barpolar"
           }
          ],
          "carpet": [
           {
            "aaxis": {
             "endlinecolor": "#2a3f5f",
             "gridcolor": "white",
             "linecolor": "white",
             "minorgridcolor": "white",
             "startlinecolor": "#2a3f5f"
            },
            "baxis": {
             "endlinecolor": "#2a3f5f",
             "gridcolor": "white",
             "linecolor": "white",
             "minorgridcolor": "white",
             "startlinecolor": "#2a3f5f"
            },
            "type": "carpet"
           }
          ],
          "choropleth": [
           {
            "colorbar": {
             "outlinewidth": 0,
             "ticks": ""
            },
            "type": "choropleth"
           }
          ],
          "contour": [
           {
            "colorbar": {
             "outlinewidth": 0,
             "ticks": ""
            },
            "colorscale": [
             [
              0,
              "#0d0887"
             ],
             [
              0.1111111111111111,
              "#46039f"
             ],
             [
              0.2222222222222222,
              "#7201a8"
             ],
             [
              0.3333333333333333,
              "#9c179e"
             ],
             [
              0.4444444444444444,
              "#bd3786"
             ],
             [
              0.5555555555555556,
              "#d8576b"
             ],
             [
              0.6666666666666666,
              "#ed7953"
             ],
             [
              0.7777777777777778,
              "#fb9f3a"
             ],
             [
              0.8888888888888888,
              "#fdca26"
             ],
             [
              1,
              "#f0f921"
             ]
            ],
            "type": "contour"
           }
          ],
          "contourcarpet": [
           {
            "colorbar": {
             "outlinewidth": 0,
             "ticks": ""
            },
            "type": "contourcarpet"
           }
          ],
          "heatmap": [
           {
            "colorbar": {
             "outlinewidth": 0,
             "ticks": ""
            },
            "colorscale": [
             [
              0,
              "#0d0887"
             ],
             [
              0.1111111111111111,
              "#46039f"
             ],
             [
              0.2222222222222222,
              "#7201a8"
             ],
             [
              0.3333333333333333,
              "#9c179e"
             ],
             [
              0.4444444444444444,
              "#bd3786"
             ],
             [
              0.5555555555555556,
              "#d8576b"
             ],
             [
              0.6666666666666666,
              "#ed7953"
             ],
             [
              0.7777777777777778,
              "#fb9f3a"
             ],
             [
              0.8888888888888888,
              "#fdca26"
             ],
             [
              1,
              "#f0f921"
             ]
            ],
            "type": "heatmap"
           }
          ],
          "heatmapgl": [
           {
            "colorbar": {
             "outlinewidth": 0,
             "ticks": ""
            },
            "colorscale": [
             [
              0,
              "#0d0887"
             ],
             [
              0.1111111111111111,
              "#46039f"
             ],
             [
              0.2222222222222222,
              "#7201a8"
             ],
             [
              0.3333333333333333,
              "#9c179e"
             ],
             [
              0.4444444444444444,
              "#bd3786"
             ],
             [
              0.5555555555555556,
              "#d8576b"
             ],
             [
              0.6666666666666666,
              "#ed7953"
             ],
             [
              0.7777777777777778,
              "#fb9f3a"
             ],
             [
              0.8888888888888888,
              "#fdca26"
             ],
             [
              1,
              "#f0f921"
             ]
            ],
            "type": "heatmapgl"
           }
          ],
          "histogram": [
           {
            "marker": {
             "pattern": {
              "fillmode": "overlay",
              "size": 10,
              "solidity": 0.2
             }
            },
            "type": "histogram"
           }
          ],
          "histogram2d": [
           {
            "colorbar": {
             "outlinewidth": 0,
             "ticks": ""
            },
            "colorscale": [
             [
              0,
              "#0d0887"
             ],
             [
              0.1111111111111111,
              "#46039f"
             ],
             [
              0.2222222222222222,
              "#7201a8"
             ],
             [
              0.3333333333333333,
              "#9c179e"
             ],
             [
              0.4444444444444444,
              "#bd3786"
             ],
             [
              0.5555555555555556,
              "#d8576b"
             ],
             [
              0.6666666666666666,
              "#ed7953"
             ],
             [
              0.7777777777777778,
              "#fb9f3a"
             ],
             [
              0.8888888888888888,
              "#fdca26"
             ],
             [
              1,
              "#f0f921"
             ]
            ],
            "type": "histogram2d"
           }
          ],
          "histogram2dcontour": [
           {
            "colorbar": {
             "outlinewidth": 0,
             "ticks": ""
            },
            "colorscale": [
             [
              0,
              "#0d0887"
             ],
             [
              0.1111111111111111,
              "#46039f"
             ],
             [
              0.2222222222222222,
              "#7201a8"
             ],
             [
              0.3333333333333333,
              "#9c179e"
             ],
             [
              0.4444444444444444,
              "#bd3786"
             ],
             [
              0.5555555555555556,
              "#d8576b"
             ],
             [
              0.6666666666666666,
              "#ed7953"
             ],
             [
              0.7777777777777778,
              "#fb9f3a"
             ],
             [
              0.8888888888888888,
              "#fdca26"
             ],
             [
              1,
              "#f0f921"
             ]
            ],
            "type": "histogram2dcontour"
           }
          ],
          "mesh3d": [
           {
            "colorbar": {
             "outlinewidth": 0,
             "ticks": ""
            },
            "type": "mesh3d"
           }
          ],
          "parcoords": [
           {
            "line": {
             "colorbar": {
              "outlinewidth": 0,
              "ticks": ""
             }
            },
            "type": "parcoords"
           }
          ],
          "pie": [
           {
            "automargin": true,
            "type": "pie"
           }
          ],
          "scatter": [
           {
            "fillpattern": {
             "fillmode": "overlay",
             "size": 10,
             "solidity": 0.2
            },
            "type": "scatter"
           }
          ],
          "scatter3d": [
           {
            "line": {
             "colorbar": {
              "outlinewidth": 0,
              "ticks": ""
             }
            },
            "marker": {
             "colorbar": {
              "outlinewidth": 0,
              "ticks": ""
             }
            },
            "type": "scatter3d"
           }
          ],
          "scattercarpet": [
           {
            "marker": {
             "colorbar": {
              "outlinewidth": 0,
              "ticks": ""
             }
            },
            "type": "scattercarpet"
           }
          ],
          "scattergeo": [
           {
            "marker": {
             "colorbar": {
              "outlinewidth": 0,
              "ticks": ""
             }
            },
            "type": "scattergeo"
           }
          ],
          "scattergl": [
           {
            "marker": {
             "colorbar": {
              "outlinewidth": 0,
              "ticks": ""
             }
            },
            "type": "scattergl"
           }
          ],
          "scattermapbox": [
           {
            "marker": {
             "colorbar": {
              "outlinewidth": 0,
              "ticks": ""
             }
            },
            "type": "scattermapbox"
           }
          ],
          "scatterpolar": [
           {
            "marker": {
             "colorbar": {
              "outlinewidth": 0,
              "ticks": ""
             }
            },
            "type": "scatterpolar"
           }
          ],
          "scatterpolargl": [
           {
            "marker": {
             "colorbar": {
              "outlinewidth": 0,
              "ticks": ""
             }
            },
            "type": "scatterpolargl"
           }
          ],
          "scatterternary": [
           {
            "marker": {
             "colorbar": {
              "outlinewidth": 0,
              "ticks": ""
             }
            },
            "type": "scatterternary"
           }
          ],
          "surface": [
           {
            "colorbar": {
             "outlinewidth": 0,
             "ticks": ""
            },
            "colorscale": [
             [
              0,
              "#0d0887"
             ],
             [
              0.1111111111111111,
              "#46039f"
             ],
             [
              0.2222222222222222,
              "#7201a8"
             ],
             [
              0.3333333333333333,
              "#9c179e"
             ],
             [
              0.4444444444444444,
              "#bd3786"
             ],
             [
              0.5555555555555556,
              "#d8576b"
             ],
             [
              0.6666666666666666,
              "#ed7953"
             ],
             [
              0.7777777777777778,
              "#fb9f3a"
             ],
             [
              0.8888888888888888,
              "#fdca26"
             ],
             [
              1,
              "#f0f921"
             ]
            ],
            "type": "surface"
           }
          ],
          "table": [
           {
            "cells": {
             "fill": {
              "color": "#EBF0F8"
             },
             "line": {
              "color": "white"
             }
            },
            "header": {
             "fill": {
              "color": "#C8D4E3"
             },
             "line": {
              "color": "white"
             }
            },
            "type": "table"
           }
          ]
         },
         "layout": {
          "annotationdefaults": {
           "arrowcolor": "#2a3f5f",
           "arrowhead": 0,
           "arrowwidth": 1
          },
          "autotypenumbers": "strict",
          "coloraxis": {
           "colorbar": {
            "outlinewidth": 0,
            "ticks": ""
           }
          },
          "colorscale": {
           "diverging": [
            [
             0,
             "#8e0152"
            ],
            [
             0.1,
             "#c51b7d"
            ],
            [
             0.2,
             "#de77ae"
            ],
            [
             0.3,
             "#f1b6da"
            ],
            [
             0.4,
             "#fde0ef"
            ],
            [
             0.5,
             "#f7f7f7"
            ],
            [
             0.6,
             "#e6f5d0"
            ],
            [
             0.7,
             "#b8e186"
            ],
            [
             0.8,
             "#7fbc41"
            ],
            [
             0.9,
             "#4d9221"
            ],
            [
             1,
             "#276419"
            ]
           ],
           "sequential": [
            [
             0,
             "#0d0887"
            ],
            [
             0.1111111111111111,
             "#46039f"
            ],
            [
             0.2222222222222222,
             "#7201a8"
            ],
            [
             0.3333333333333333,
             "#9c179e"
            ],
            [
             0.4444444444444444,
             "#bd3786"
            ],
            [
             0.5555555555555556,
             "#d8576b"
            ],
            [
             0.6666666666666666,
             "#ed7953"
            ],
            [
             0.7777777777777778,
             "#fb9f3a"
            ],
            [
             0.8888888888888888,
             "#fdca26"
            ],
            [
             1,
             "#f0f921"
            ]
           ],
           "sequentialminus": [
            [
             0,
             "#0d0887"
            ],
            [
             0.1111111111111111,
             "#46039f"
            ],
            [
             0.2222222222222222,
             "#7201a8"
            ],
            [
             0.3333333333333333,
             "#9c179e"
            ],
            [
             0.4444444444444444,
             "#bd3786"
            ],
            [
             0.5555555555555556,
             "#d8576b"
            ],
            [
             0.6666666666666666,
             "#ed7953"
            ],
            [
             0.7777777777777778,
             "#fb9f3a"
            ],
            [
             0.8888888888888888,
             "#fdca26"
            ],
            [
             1,
             "#f0f921"
            ]
           ]
          },
          "colorway": [
           "#636efa",
           "#EF553B",
           "#00cc96",
           "#ab63fa",
           "#FFA15A",
           "#19d3f3",
           "#FF6692",
           "#B6E880",
           "#FF97FF",
           "#FECB52"
          ],
          "font": {
           "color": "#2a3f5f"
          },
          "geo": {
           "bgcolor": "white",
           "lakecolor": "white",
           "landcolor": "#E5ECF6",
           "showlakes": true,
           "showland": true,
           "subunitcolor": "white"
          },
          "hoverlabel": {
           "align": "left"
          },
          "hovermode": "closest",
          "mapbox": {
           "style": "light"
          },
          "paper_bgcolor": "white",
          "plot_bgcolor": "#E5ECF6",
          "polar": {
           "angularaxis": {
            "gridcolor": "white",
            "linecolor": "white",
            "ticks": ""
           },
           "bgcolor": "#E5ECF6",
           "radialaxis": {
            "gridcolor": "white",
            "linecolor": "white",
            "ticks": ""
           }
          },
          "scene": {
           "xaxis": {
            "backgroundcolor": "#E5ECF6",
            "gridcolor": "white",
            "gridwidth": 2,
            "linecolor": "white",
            "showbackground": true,
            "ticks": "",
            "zerolinecolor": "white"
           },
           "yaxis": {
            "backgroundcolor": "#E5ECF6",
            "gridcolor": "white",
            "gridwidth": 2,
            "linecolor": "white",
            "showbackground": true,
            "ticks": "",
            "zerolinecolor": "white"
           },
           "zaxis": {
            "backgroundcolor": "#E5ECF6",
            "gridcolor": "white",
            "gridwidth": 2,
            "linecolor": "white",
            "showbackground": true,
            "ticks": "",
            "zerolinecolor": "white"
           }
          },
          "shapedefaults": {
           "line": {
            "color": "#2a3f5f"
           }
          },
          "ternary": {
           "aaxis": {
            "gridcolor": "white",
            "linecolor": "white",
            "ticks": ""
           },
           "baxis": {
            "gridcolor": "white",
            "linecolor": "white",
            "ticks": ""
           },
           "bgcolor": "#E5ECF6",
           "caxis": {
            "gridcolor": "white",
            "linecolor": "white",
            "ticks": ""
           }
          },
          "title": {
           "x": 0.05
          },
          "xaxis": {
           "automargin": true,
           "gridcolor": "white",
           "linecolor": "white",
           "ticks": "",
           "title": {
            "standoff": 15
           },
           "zerolinecolor": "white",
           "zerolinewidth": 2
          },
          "yaxis": {
           "automargin": true,
           "gridcolor": "white",
           "linecolor": "white",
           "ticks": "",
           "title": {
            "standoff": 15
           },
           "zerolinecolor": "white",
           "zerolinewidth": 2
          }
         }
        },
        "title": {
         "text": "Social-demographic Indicators",
         "x": 0.5
        },
        "xaxis": {
         "anchor": "y",
         "domain": [
          0,
          1
         ],
         "title": {
          "text": "1st_component"
         }
        },
        "yaxis": {
         "anchor": "x",
         "domain": [
          0,
          1
         ],
         "title": {
          "text": "2nd_component"
         }
        }
       }
      }
     },
     "metadata": {},
     "output_type": "display_data"
    },
    {
     "data": {
      "text/html": [
       "<div>\n",
       "<style scoped>\n",
       "    .dataframe tbody tr th:only-of-type {\n",
       "        vertical-align: middle;\n",
       "    }\n",
       "\n",
       "    .dataframe tbody tr th {\n",
       "        vertical-align: top;\n",
       "    }\n",
       "\n",
       "    .dataframe thead th {\n",
       "        text-align: right;\n",
       "    }\n",
       "</style>\n",
       "<table border=\"1\" class=\"dataframe\">\n",
       "  <thead>\n",
       "    <tr style=\"text-align: right;\">\n",
       "      <th></th>\n",
       "      <th>1st_component</th>\n",
       "      <th>2nd_component</th>\n",
       "      <th>Cluster</th>\n",
       "    </tr>\n",
       "    <tr>\n",
       "      <th>Country</th>\n",
       "      <th></th>\n",
       "      <th></th>\n",
       "      <th></th>\n",
       "    </tr>\n",
       "  </thead>\n",
       "  <tbody>\n",
       "    <tr>\n",
       "      <th>Afghanistan</th>\n",
       "      <td>-0.365837</td>\n",
       "      <td>1.018055</td>\n",
       "      <td>2</td>\n",
       "    </tr>\n",
       "    <tr>\n",
       "      <th>Albania</th>\n",
       "      <td>1.267641</td>\n",
       "      <td>-0.453542</td>\n",
       "      <td>4</td>\n",
       "    </tr>\n",
       "    <tr>\n",
       "      <th>Algeria</th>\n",
       "      <td>0.299222</td>\n",
       "      <td>-0.295580</td>\n",
       "      <td>6</td>\n",
       "    </tr>\n",
       "    <tr>\n",
       "      <th>Angola</th>\n",
       "      <td>1.718545</td>\n",
       "      <td>-0.877589</td>\n",
       "      <td>4</td>\n",
       "    </tr>\n",
       "    <tr>\n",
       "      <th>Argentina</th>\n",
       "      <td>0.096727</td>\n",
       "      <td>0.181555</td>\n",
       "      <td>6</td>\n",
       "    </tr>\n",
       "    <tr>\n",
       "      <th>...</th>\n",
       "      <td>...</td>\n",
       "      <td>...</td>\n",
       "      <td>...</td>\n",
       "    </tr>\n",
       "    <tr>\n",
       "      <th>Uruguay</th>\n",
       "      <td>0.632472</td>\n",
       "      <td>-0.377986</td>\n",
       "      <td>6</td>\n",
       "    </tr>\n",
       "    <tr>\n",
       "      <th>Uzbekistan</th>\n",
       "      <td>-1.753853</td>\n",
       "      <td>-0.972942</td>\n",
       "      <td>7</td>\n",
       "    </tr>\n",
       "    <tr>\n",
       "      <th>Vanuatu</th>\n",
       "      <td>-0.841780</td>\n",
       "      <td>1.414670</td>\n",
       "      <td>8</td>\n",
       "    </tr>\n",
       "    <tr>\n",
       "      <th>Zambia</th>\n",
       "      <td>-1.182428</td>\n",
       "      <td>-0.286028</td>\n",
       "      <td>1</td>\n",
       "    </tr>\n",
       "    <tr>\n",
       "      <th>Zimbabwe</th>\n",
       "      <td>0.977812</td>\n",
       "      <td>0.124267</td>\n",
       "      <td>3</td>\n",
       "    </tr>\n",
       "  </tbody>\n",
       "</table>\n",
       "<p>152 rows × 3 columns</p>\n",
       "</div>"
      ],
      "text/plain": [
       "             1st_component  2nd_component Cluster\n",
       "Country                                          \n",
       "Afghanistan      -0.365837       1.018055       2\n",
       "Albania           1.267641      -0.453542       4\n",
       "Algeria           0.299222      -0.295580       6\n",
       "Angola            1.718545      -0.877589       4\n",
       "Argentina         0.096727       0.181555       6\n",
       "...                    ...            ...     ...\n",
       "Uruguay           0.632472      -0.377986       6\n",
       "Uzbekistan       -1.753853      -0.972942       7\n",
       "Vanuatu          -0.841780       1.414670       8\n",
       "Zambia           -1.182428      -0.286028       1\n",
       "Zimbabwe          0.977812       0.124267       3\n",
       "\n",
       "[152 rows x 3 columns]"
      ]
     },
     "metadata": {},
     "output_type": "display_data"
    },
    {
     "data": {
      "application/vnd.plotly.v1+json": {
       "config": {
        "plotlyServerURL": "https://plot.ly"
       },
       "data": [
        {
         "hovertemplate": "Cluster=0<br>1st_component=%{x}<br>2nd_component=%{y}<br>Country=%{text}<extra></extra>",
         "legendgroup": "0",
         "marker": {
          "color": "#636efa",
          "symbol": "circle"
         },
         "mode": "markers+text",
         "name": "0",
         "orientation": "v",
         "showlegend": true,
         "text": [
          "Australia",
          "Bahrain",
          "Bosnia and Herzegovina",
          "Bulgaria",
          "Dominican Republic",
          "Germany",
          "Hungary",
          "Israel",
          "Kazakhstan",
          "Malta",
          "Netherlands",
          "New Zealand",
          "Nicaragua",
          "Russia",
          "Suriname",
          "United Kingdom"
         ],
         "textposition": "top center",
         "type": "scatter",
         "x": [
          0.6055191159248352,
          0.8124863505363464,
          0.5103949904441833,
          0.5946335196495056,
          0.976047694683075,
          1.0471429824829102,
          0.5673856139183044,
          1.136682152748108,
          0.5541005730628967,
          1.093025803565979,
          1.1430860757827759,
          0.8724566102027893,
          0.6887280344963074,
          0.5360905528068542,
          0.5042830109596252,
          1.129160761833191
         ],
         "xaxis": "x",
         "y": [
          1.4306060075759888,
          1.4495141506195068,
          1.3733348846435547,
          1.9633759260177612,
          1.3715202808380127,
          1.3999781608581543,
          1.488642930984497,
          1.3597525358200073,
          2.0523464679718018,
          1.2146940231323242,
          1.0220128297805786,
          1.4886391162872314,
          1.4590312242507935,
          1.902839183807373,
          1.9810099601745605,
          1.0893138647079468
         ],
         "yaxis": "y"
        },
        {
         "hovertemplate": "Cluster=1<br>1st_component=%{x}<br>2nd_component=%{y}<br>Country=%{text}<extra></extra>",
         "legendgroup": "1",
         "marker": {
          "color": "#EF553B",
          "symbol": "circle"
         },
         "mode": "markers+text",
         "name": "1",
         "orientation": "v",
         "showlegend": true,
         "text": [
          "Brazil",
          "Cambodia",
          "Comoros",
          "Ghana",
          "Mali",
          "Mongolia",
          "Morocco",
          "Nepal",
          "Philippines",
          "Romania",
          "Zambia"
         ],
         "textposition": "top center",
         "type": "scatter",
         "x": [
          -0.501713752746582,
          -1.2121217250823975,
          -0.9794490933418274,
          -0.9517329335212708,
          -1.1676253080368042,
          -1.2955905199050903,
          -0.6277987957000732,
          -0.5769727826118469,
          -0.53766268491745,
          -0.8909603953361511,
          -1.1824283599853516
         ],
         "xaxis": "x",
         "y": [
          -0.6116369366645813,
          -0.12784966826438904,
          -0.6193931102752686,
          -0.7188460826873779,
          -0.18702231347560883,
          -0.23604035377502441,
          -0.45445680618286133,
          -0.41215312480926514,
          -0.5585011839866638,
          -0.734268844127655,
          -0.28602802753448486
         ],
         "yaxis": "y"
        },
        {
         "hovertemplate": "Cluster=2<br>1st_component=%{x}<br>2nd_component=%{y}<br>Country=%{text}<extra></extra>",
         "legendgroup": "2",
         "marker": {
          "color": "#00cc96",
          "symbol": "circle"
         },
         "mode": "markers+text",
         "name": "2",
         "orientation": "v",
         "showlegend": true,
         "text": [
          "Afghanistan",
          "Bangladesh",
          "Djibouti",
          "Equatorial Guinea",
          "Ethiopia",
          "Haiti",
          "Lesotho",
          "Namibia",
          "Paraguay",
          "Senegal",
          "Singapore",
          "Tajikistan",
          "Uganda"
         ],
         "textposition": "top center",
         "type": "scatter",
         "x": [
          -0.3658365309238434,
          -0.649218738079071,
          -0.43840518593788147,
          -0.28092503547668457,
          -0.3612016439437866,
          -0.14485657215118408,
          0.0007924410747364163,
          0.17365562915802002,
          -0.13591136038303375,
          -0.4091086983680725,
          0.08731583505868912,
          -0.6129538416862488,
          -0.5542253851890564
         ],
         "xaxis": "x",
         "y": [
          1.0180552005767822,
          0.48061150312423706,
          0.7735897302627563,
          0.8107228875160217,
          0.8228835463523865,
          0.6964881420135498,
          0.8158493041992188,
          0.7541964054107666,
          0.790280818939209,
          1.066739559173584,
          0.7962303161621094,
          0.5365768671035767,
          0.6411905288696289
         ],
         "yaxis": "y"
        },
        {
         "hovertemplate": "Cluster=3<br>1st_component=%{x}<br>2nd_component=%{y}<br>Country=%{text}<extra></extra>",
         "legendgroup": "3",
         "marker": {
          "color": "#ab63fa",
          "symbol": "circle"
         },
         "mode": "markers+text",
         "name": "3",
         "orientation": "v",
         "showlegend": true,
         "text": [
          "Austria",
          "Colombia",
          "Cuba",
          "Estonia",
          "Finland",
          "France",
          "Greece",
          "Jamaica",
          "Jordan",
          "Libya",
          "Mauritius",
          "Montenegro",
          "Norway",
          "Seychelles",
          "Slovenia",
          "Trinidad and Tobago",
          "Ukraine",
          "Zimbabwe"
         ],
         "textposition": "top center",
         "type": "scatter",
         "x": [
          0.3092523217201233,
          0.9055284261703491,
          1.0548182725906372,
          0.9862468838691711,
          0.5295013785362244,
          0.7198365330696106,
          0.7040243744850159,
          1.0473750829696655,
          0.522304892539978,
          0.6472554206848145,
          0.7625168561935425,
          0.8334266543388367,
          0.334064245223999,
          1.0915093421936035,
          0.37047725915908813,
          0.4142194986343384,
          0.770557701587677,
          0.9778119921684265
         ],
         "xaxis": "x",
         "y": [
          0.5415686368942261,
          0.023520031943917274,
          0.1803593784570694,
          0.2519407272338867,
          0.3542240262031555,
          0.4792041480541229,
          0.3161882758140564,
          0.011893858201801777,
          0.7464693784713745,
          0.34268757700920105,
          0.5538961291313171,
          0.24291856586933136,
          0.6117421984672546,
          -0.04061013087630272,
          0.20038777589797974,
          0.6628824472427368,
          0.13591091334819794,
          0.12426695972681046
         ],
         "yaxis": "y"
        },
        {
         "hovertemplate": "Cluster=4<br>1st_component=%{x}<br>2nd_component=%{y}<br>Country=%{text}<extra></extra>",
         "legendgroup": "4",
         "marker": {
          "color": "#FFA15A",
          "symbol": "circle"
         },
         "mode": "markers+text",
         "name": "4",
         "orientation": "v",
         "showlegend": true,
         "text": [
          "Albania",
          "Angola",
          "Barbados",
          "Belize",
          "Bhutan",
          "Canada",
          "Ecuador",
          "Eswatini",
          "Fiji",
          "Guinea",
          "Ireland",
          "Liberia",
          "Malawi",
          "Malaysia",
          "New Caledonia",
          "Niger",
          "Pakistan",
          "Puerto Rico",
          "Sri Lanka",
          "United Arab Emirates"
         ],
         "textposition": "top center",
         "type": "scatter",
         "x": [
          1.2676410675048828,
          1.7185447216033936,
          1.8411502838134766,
          0.8004863262176514,
          1.5134812593460083,
          1.8768792152404785,
          1.1655263900756836,
          1.9357658624649048,
          1.7998120784759521,
          1.4438477754592896,
          1.3529731035232544,
          1.3884992599487305,
          1.4030476808547974,
          1.095924973487854,
          1.3444894552230835,
          1.6320698261260986,
          1.3391555547714233,
          1.7548174858093262,
          1.1854151487350464,
          1.3935599327087402
         ],
         "xaxis": "x",
         "y": [
          -0.4535422921180725,
          -0.8775891661643982,
          -0.5810745358467102,
          -0.37876448035240173,
          -0.9246704578399658,
          -0.9299110174179077,
          -0.565796971321106,
          -0.9284600615501404,
          -0.6393428444862366,
          -1.0337806940078735,
          -0.33522480726242065,
          -1.1507030725479126,
          -0.6978660821914673,
          -0.41092485189437866,
          -1.1030381917953491,
          -0.8871792554855347,
          -1.2262910604476929,
          -0.7046447396278381,
          -0.47566288709640503,
          -0.2835661470890045
         ],
         "yaxis": "y"
        },
        {
         "hovertemplate": "Cluster=5<br>1st_component=%{x}<br>2nd_component=%{y}<br>Country=%{text}<extra></extra>",
         "legendgroup": "5",
         "marker": {
          "color": "#19d3f3",
          "symbol": "circle"
         },
         "mode": "markers+text",
         "name": "5",
         "orientation": "v",
         "showlegend": true,
         "text": [
          "Azerbaijan",
          "Belgium",
          "Botswana",
          "Burundi",
          "Central African Republic",
          "Costa Rica",
          "Denmark",
          "Eritrea",
          "Honduras",
          "Iraq",
          "Japan",
          "Luxembourg",
          "Panama",
          "Portugal",
          "Samoa",
          "South Africa",
          "Sweden"
         ],
         "textposition": "top center",
         "type": "scatter",
         "x": [
          0.35396862030029297,
          0.4634115397930145,
          0.6195055842399597,
          0.3227695822715759,
          -0.14882764220237732,
          0.4215059280395508,
          0.04154137894511223,
          -0.12581394612789154,
          0.4682523012161255,
          -0.1222434937953949,
          -0.07762490957975388,
          0.6687697768211365,
          0.6684880256652832,
          -0.13852399587631226,
          0.20159973204135895,
          0.45601069927215576,
          -0.10844337195158005
         ],
         "xaxis": "x",
         "y": [
          -1.5509397983551025,
          -0.900608479976654,
          -1.184531331062317,
          -1.6106311082839966,
          -1.305294156074524,
          -1.1573872566223145,
          -1.1546863317489624,
          -0.7836453318595886,
          -1.21670663356781,
          -0.8867051601409912,
          -0.9439643025398254,
          -1.1350558996200562,
          -1.2956516742706299,
          -1.0275012254714966,
          -1.1846452951431274,
          -1.027234673500061,
          -1.255993366241455
         ],
         "yaxis": "y"
        },
        {
         "hovertemplate": "Cluster=6<br>1st_component=%{x}<br>2nd_component=%{y}<br>Country=%{text}<extra></extra>",
         "legendgroup": "6",
         "marker": {
          "color": "#FF6692",
          "symbol": "circle"
         },
         "mode": "markers+text",
         "name": "6",
         "orientation": "v",
         "showlegend": true,
         "text": [
          "Algeria",
          "Argentina",
          "Belarus",
          "Benin",
          "Chile",
          "Croatia",
          "El Salvador",
          "Iceland",
          "Indonesia",
          "Italy",
          "Kuwait",
          "Madagascar",
          "Mexico",
          "North Macedonia",
          "Oman",
          "Poland",
          "Qatar",
          "Serbia",
          "Spain",
          "Switzerland",
          "Uruguay"
         ],
         "textposition": "top center",
         "type": "scatter",
         "x": [
          0.29922211170196533,
          0.09672717750072479,
          0.11050217598676682,
          -0.43977785110473633,
          -0.0701894536614418,
          0.13085393607616425,
          -0.0008678636513650417,
          -0.019166795536875725,
          -0.24327600002288818,
          0.04931289702653885,
          0.5735663771629333,
          0.3195158541202545,
          -0.3935204744338989,
          0.194656103849411,
          -0.005741237197071314,
          0.08934888243675232,
          0.17760035395622253,
          -0.0817132443189621,
          0.00449353875592351,
          -0.43008148670196533,
          0.63247150182724
         ],
         "xaxis": "x",
         "y": [
          -0.29557985067367554,
          0.18155543506145477,
          -0.4976257383823395,
          0.02595611847937107,
          -0.09997150301933289,
          -0.27495336532592773,
          -0.6300691962242126,
          0.19386884570121765,
          -0.04074302315711975,
          -0.04379410669207573,
          -0.3969038128852844,
          0.15903885662555695,
          -0.043570518493652344,
          -0.530462384223938,
          -0.35734042525291443,
          -0.3712269961833954,
          -0.19242949783802032,
          0.19776654243469238,
          -0.10785946249961853,
          -0.10933507978916168,
          -0.37798574566841125
         ],
         "yaxis": "y"
        },
        {
         "hovertemplate": "Cluster=7<br>1st_component=%{x}<br>2nd_component=%{y}<br>Country=%{text}<extra></extra>",
         "legendgroup": "7",
         "marker": {
          "color": "#B6E880",
          "symbol": "circle"
         },
         "mode": "markers+text",
         "name": "7",
         "orientation": "v",
         "showlegend": true,
         "text": [
          "Burkina Faso",
          "Cameroon",
          "Chad",
          "China",
          "Gabon",
          "Guatemala",
          "India",
          "Mauritania",
          "Mozambique",
          "Myanmar",
          "Nigeria",
          "Papua New Guinea",
          "Rwanda",
          "Sierra Leone",
          "Thailand",
          "Tonga",
          "Turkmenistan",
          "United States",
          "Uzbekistan"
         ],
         "textposition": "top center",
         "type": "scatter",
         "x": [
          -1.4409700632095337,
          -1.4011845588684082,
          -1.7067618370056152,
          -1.329628586769104,
          -2.116900682449341,
          -2.0701088905334473,
          -1.259195327758789,
          -1.299572229385376,
          -1.3994414806365967,
          -2.20780873298645,
          -2.1192800998687744,
          -1.6403313875198364,
          -1.7323229312896729,
          -2.0104758739471436,
          -1.373162865638733,
          -1.6900283098220825,
          -2.192074775695801,
          -1.6226974725723267,
          -1.7538530826568604
         ],
         "xaxis": "x",
         "y": [
          -1.1128817796707153,
          -1.3045237064361572,
          -1.0461220741271973,
          -1.5051590204238892,
          -0.9022777676582336,
          -1.1256588697433472,
          -1.5681207180023193,
          -1.1772044897079468,
          -1.2280445098876953,
          -0.9216832518577576,
          -0.812869668006897,
          -1.335409164428711,
          -1.2084250450134277,
          -1.1162081956863403,
          -1.4456456899642944,
          -1.158144474029541,
          -0.833665668964386,
          -1.235620379447937,
          -0.9729416370391846
         ],
         "yaxis": "y"
        },
        {
         "hovertemplate": "Cluster=8<br>1st_component=%{x}<br>2nd_component=%{y}<br>Country=%{text}<extra></extra>",
         "legendgroup": "8",
         "marker": {
          "color": "#FF97FF",
          "symbol": "circle"
         },
         "mode": "markers+text",
         "name": "8",
         "orientation": "v",
         "showlegend": true,
         "text": [
          "Armenia",
          "Cyprus",
          "Georgia",
          "Guinea-Bissau",
          "Guyana",
          "Kenya",
          "Latvia",
          "Lebanon",
          "Lithuania",
          "Maldives",
          "Peru",
          "Sao Tome and Principe",
          "Saudi Arabia",
          "Solomon Islands",
          "Togo",
          "Tunisia",
          "Vanuatu"
         ],
         "textposition": "top center",
         "type": "scatter",
         "x": [
          -0.5734031796455383,
          -1.0566917657852173,
          -0.6997665166854858,
          -0.5016586780548096,
          -0.2890618145465851,
          -0.9250539541244507,
          -1.209376335144043,
          -0.23263005912303925,
          -1.1635010242462158,
          -0.7356944680213928,
          -0.9407697916030884,
          -1.0252379179000854,
          -1.224066972732544,
          -0.8366061449050903,
          -1.074733853340149,
          -0.6525525450706482,
          -0.8417802453041077
         ],
         "xaxis": "x",
         "y": [
          1.3853155374526978,
          1.289100170135498,
          1.704225778579712,
          1.3237348794937134,
          1.4153542518615723,
          1.4145922660827637,
          1.4606468677520752,
          1.4419865608215332,
          1.2763034105300903,
          1.608620285987854,
          1.3449201583862305,
          1.6149156093597412,
          1.370668888092041,
          1.694165587425232,
          1.5733256340026855,
          1.6556620597839355,
          1.4146701097488403
         ],
         "yaxis": "y"
        }
       ],
       "layout": {
        "legend": {
         "title": {
          "text": "Cluster"
         },
         "tracegroupgap": 0
        },
        "margin": {
         "t": 60
        },
        "template": {
         "data": {
          "bar": [
           {
            "error_x": {
             "color": "#2a3f5f"
            },
            "error_y": {
             "color": "#2a3f5f"
            },
            "marker": {
             "line": {
              "color": "#E5ECF6",
              "width": 0.5
             },
             "pattern": {
              "fillmode": "overlay",
              "size": 10,
              "solidity": 0.2
             }
            },
            "type": "bar"
           }
          ],
          "barpolar": [
           {
            "marker": {
             "line": {
              "color": "#E5ECF6",
              "width": 0.5
             },
             "pattern": {
              "fillmode": "overlay",
              "size": 10,
              "solidity": 0.2
             }
            },
            "type": "barpolar"
           }
          ],
          "carpet": [
           {
            "aaxis": {
             "endlinecolor": "#2a3f5f",
             "gridcolor": "white",
             "linecolor": "white",
             "minorgridcolor": "white",
             "startlinecolor": "#2a3f5f"
            },
            "baxis": {
             "endlinecolor": "#2a3f5f",
             "gridcolor": "white",
             "linecolor": "white",
             "minorgridcolor": "white",
             "startlinecolor": "#2a3f5f"
            },
            "type": "carpet"
           }
          ],
          "choropleth": [
           {
            "colorbar": {
             "outlinewidth": 0,
             "ticks": ""
            },
            "type": "choropleth"
           }
          ],
          "contour": [
           {
            "colorbar": {
             "outlinewidth": 0,
             "ticks": ""
            },
            "colorscale": [
             [
              0,
              "#0d0887"
             ],
             [
              0.1111111111111111,
              "#46039f"
             ],
             [
              0.2222222222222222,
              "#7201a8"
             ],
             [
              0.3333333333333333,
              "#9c179e"
             ],
             [
              0.4444444444444444,
              "#bd3786"
             ],
             [
              0.5555555555555556,
              "#d8576b"
             ],
             [
              0.6666666666666666,
              "#ed7953"
             ],
             [
              0.7777777777777778,
              "#fb9f3a"
             ],
             [
              0.8888888888888888,
              "#fdca26"
             ],
             [
              1,
              "#f0f921"
             ]
            ],
            "type": "contour"
           }
          ],
          "contourcarpet": [
           {
            "colorbar": {
             "outlinewidth": 0,
             "ticks": ""
            },
            "type": "contourcarpet"
           }
          ],
          "heatmap": [
           {
            "colorbar": {
             "outlinewidth": 0,
             "ticks": ""
            },
            "colorscale": [
             [
              0,
              "#0d0887"
             ],
             [
              0.1111111111111111,
              "#46039f"
             ],
             [
              0.2222222222222222,
              "#7201a8"
             ],
             [
              0.3333333333333333,
              "#9c179e"
             ],
             [
              0.4444444444444444,
              "#bd3786"
             ],
             [
              0.5555555555555556,
              "#d8576b"
             ],
             [
              0.6666666666666666,
              "#ed7953"
             ],
             [
              0.7777777777777778,
              "#fb9f3a"
             ],
             [
              0.8888888888888888,
              "#fdca26"
             ],
             [
              1,
              "#f0f921"
             ]
            ],
            "type": "heatmap"
           }
          ],
          "heatmapgl": [
           {
            "colorbar": {
             "outlinewidth": 0,
             "ticks": ""
            },
            "colorscale": [
             [
              0,
              "#0d0887"
             ],
             [
              0.1111111111111111,
              "#46039f"
             ],
             [
              0.2222222222222222,
              "#7201a8"
             ],
             [
              0.3333333333333333,
              "#9c179e"
             ],
             [
              0.4444444444444444,
              "#bd3786"
             ],
             [
              0.5555555555555556,
              "#d8576b"
             ],
             [
              0.6666666666666666,
              "#ed7953"
             ],
             [
              0.7777777777777778,
              "#fb9f3a"
             ],
             [
              0.8888888888888888,
              "#fdca26"
             ],
             [
              1,
              "#f0f921"
             ]
            ],
            "type": "heatmapgl"
           }
          ],
          "histogram": [
           {
            "marker": {
             "pattern": {
              "fillmode": "overlay",
              "size": 10,
              "solidity": 0.2
             }
            },
            "type": "histogram"
           }
          ],
          "histogram2d": [
           {
            "colorbar": {
             "outlinewidth": 0,
             "ticks": ""
            },
            "colorscale": [
             [
              0,
              "#0d0887"
             ],
             [
              0.1111111111111111,
              "#46039f"
             ],
             [
              0.2222222222222222,
              "#7201a8"
             ],
             [
              0.3333333333333333,
              "#9c179e"
             ],
             [
              0.4444444444444444,
              "#bd3786"
             ],
             [
              0.5555555555555556,
              "#d8576b"
             ],
             [
              0.6666666666666666,
              "#ed7953"
             ],
             [
              0.7777777777777778,
              "#fb9f3a"
             ],
             [
              0.8888888888888888,
              "#fdca26"
             ],
             [
              1,
              "#f0f921"
             ]
            ],
            "type": "histogram2d"
           }
          ],
          "histogram2dcontour": [
           {
            "colorbar": {
             "outlinewidth": 0,
             "ticks": ""
            },
            "colorscale": [
             [
              0,
              "#0d0887"
             ],
             [
              0.1111111111111111,
              "#46039f"
             ],
             [
              0.2222222222222222,
              "#7201a8"
             ],
             [
              0.3333333333333333,
              "#9c179e"
             ],
             [
              0.4444444444444444,
              "#bd3786"
             ],
             [
              0.5555555555555556,
              "#d8576b"
             ],
             [
              0.6666666666666666,
              "#ed7953"
             ],
             [
              0.7777777777777778,
              "#fb9f3a"
             ],
             [
              0.8888888888888888,
              "#fdca26"
             ],
             [
              1,
              "#f0f921"
             ]
            ],
            "type": "histogram2dcontour"
           }
          ],
          "mesh3d": [
           {
            "colorbar": {
             "outlinewidth": 0,
             "ticks": ""
            },
            "type": "mesh3d"
           }
          ],
          "parcoords": [
           {
            "line": {
             "colorbar": {
              "outlinewidth": 0,
              "ticks": ""
             }
            },
            "type": "parcoords"
           }
          ],
          "pie": [
           {
            "automargin": true,
            "type": "pie"
           }
          ],
          "scatter": [
           {
            "fillpattern": {
             "fillmode": "overlay",
             "size": 10,
             "solidity": 0.2
            },
            "type": "scatter"
           }
          ],
          "scatter3d": [
           {
            "line": {
             "colorbar": {
              "outlinewidth": 0,
              "ticks": ""
             }
            },
            "marker": {
             "colorbar": {
              "outlinewidth": 0,
              "ticks": ""
             }
            },
            "type": "scatter3d"
           }
          ],
          "scattercarpet": [
           {
            "marker": {
             "colorbar": {
              "outlinewidth": 0,
              "ticks": ""
             }
            },
            "type": "scattercarpet"
           }
          ],
          "scattergeo": [
           {
            "marker": {
             "colorbar": {
              "outlinewidth": 0,
              "ticks": ""
             }
            },
            "type": "scattergeo"
           }
          ],
          "scattergl": [
           {
            "marker": {
             "colorbar": {
              "outlinewidth": 0,
              "ticks": ""
             }
            },
            "type": "scattergl"
           }
          ],
          "scattermapbox": [
           {
            "marker": {
             "colorbar": {
              "outlinewidth": 0,
              "ticks": ""
             }
            },
            "type": "scattermapbox"
           }
          ],
          "scatterpolar": [
           {
            "marker": {
             "colorbar": {
              "outlinewidth": 0,
              "ticks": ""
             }
            },
            "type": "scatterpolar"
           }
          ],
          "scatterpolargl": [
           {
            "marker": {
             "colorbar": {
              "outlinewidth": 0,
              "ticks": ""
             }
            },
            "type": "scatterpolargl"
           }
          ],
          "scatterternary": [
           {
            "marker": {
             "colorbar": {
              "outlinewidth": 0,
              "ticks": ""
             }
            },
            "type": "scatterternary"
           }
          ],
          "surface": [
           {
            "colorbar": {
             "outlinewidth": 0,
             "ticks": ""
            },
            "colorscale": [
             [
              0,
              "#0d0887"
             ],
             [
              0.1111111111111111,
              "#46039f"
             ],
             [
              0.2222222222222222,
              "#7201a8"
             ],
             [
              0.3333333333333333,
              "#9c179e"
             ],
             [
              0.4444444444444444,
              "#bd3786"
             ],
             [
              0.5555555555555556,
              "#d8576b"
             ],
             [
              0.6666666666666666,
              "#ed7953"
             ],
             [
              0.7777777777777778,
              "#fb9f3a"
             ],
             [
              0.8888888888888888,
              "#fdca26"
             ],
             [
              1,
              "#f0f921"
             ]
            ],
            "type": "surface"
           }
          ],
          "table": [
           {
            "cells": {
             "fill": {
              "color": "#EBF0F8"
             },
             "line": {
              "color": "white"
             }
            },
            "header": {
             "fill": {
              "color": "#C8D4E3"
             },
             "line": {
              "color": "white"
             }
            },
            "type": "table"
           }
          ]
         },
         "layout": {
          "annotationdefaults": {
           "arrowcolor": "#2a3f5f",
           "arrowhead": 0,
           "arrowwidth": 1
          },
          "autotypenumbers": "strict",
          "coloraxis": {
           "colorbar": {
            "outlinewidth": 0,
            "ticks": ""
           }
          },
          "colorscale": {
           "diverging": [
            [
             0,
             "#8e0152"
            ],
            [
             0.1,
             "#c51b7d"
            ],
            [
             0.2,
             "#de77ae"
            ],
            [
             0.3,
             "#f1b6da"
            ],
            [
             0.4,
             "#fde0ef"
            ],
            [
             0.5,
             "#f7f7f7"
            ],
            [
             0.6,
             "#e6f5d0"
            ],
            [
             0.7,
             "#b8e186"
            ],
            [
             0.8,
             "#7fbc41"
            ],
            [
             0.9,
             "#4d9221"
            ],
            [
             1,
             "#276419"
            ]
           ],
           "sequential": [
            [
             0,
             "#0d0887"
            ],
            [
             0.1111111111111111,
             "#46039f"
            ],
            [
             0.2222222222222222,
             "#7201a8"
            ],
            [
             0.3333333333333333,
             "#9c179e"
            ],
            [
             0.4444444444444444,
             "#bd3786"
            ],
            [
             0.5555555555555556,
             "#d8576b"
            ],
            [
             0.6666666666666666,
             "#ed7953"
            ],
            [
             0.7777777777777778,
             "#fb9f3a"
            ],
            [
             0.8888888888888888,
             "#fdca26"
            ],
            [
             1,
             "#f0f921"
            ]
           ],
           "sequentialminus": [
            [
             0,
             "#0d0887"
            ],
            [
             0.1111111111111111,
             "#46039f"
            ],
            [
             0.2222222222222222,
             "#7201a8"
            ],
            [
             0.3333333333333333,
             "#9c179e"
            ],
            [
             0.4444444444444444,
             "#bd3786"
            ],
            [
             0.5555555555555556,
             "#d8576b"
            ],
            [
             0.6666666666666666,
             "#ed7953"
            ],
            [
             0.7777777777777778,
             "#fb9f3a"
            ],
            [
             0.8888888888888888,
             "#fdca26"
            ],
            [
             1,
             "#f0f921"
            ]
           ]
          },
          "colorway": [
           "#636efa",
           "#EF553B",
           "#00cc96",
           "#ab63fa",
           "#FFA15A",
           "#19d3f3",
           "#FF6692",
           "#B6E880",
           "#FF97FF",
           "#FECB52"
          ],
          "font": {
           "color": "#2a3f5f"
          },
          "geo": {
           "bgcolor": "white",
           "lakecolor": "white",
           "landcolor": "#E5ECF6",
           "showlakes": true,
           "showland": true,
           "subunitcolor": "white"
          },
          "hoverlabel": {
           "align": "left"
          },
          "hovermode": "closest",
          "mapbox": {
           "style": "light"
          },
          "paper_bgcolor": "white",
          "plot_bgcolor": "#E5ECF6",
          "polar": {
           "angularaxis": {
            "gridcolor": "white",
            "linecolor": "white",
            "ticks": ""
           },
           "bgcolor": "#E5ECF6",
           "radialaxis": {
            "gridcolor": "white",
            "linecolor": "white",
            "ticks": ""
           }
          },
          "scene": {
           "xaxis": {
            "backgroundcolor": "#E5ECF6",
            "gridcolor": "white",
            "gridwidth": 2,
            "linecolor": "white",
            "showbackground": true,
            "ticks": "",
            "zerolinecolor": "white"
           },
           "yaxis": {
            "backgroundcolor": "#E5ECF6",
            "gridcolor": "white",
            "gridwidth": 2,
            "linecolor": "white",
            "showbackground": true,
            "ticks": "",
            "zerolinecolor": "white"
           },
           "zaxis": {
            "backgroundcolor": "#E5ECF6",
            "gridcolor": "white",
            "gridwidth": 2,
            "linecolor": "white",
            "showbackground": true,
            "ticks": "",
            "zerolinecolor": "white"
           }
          },
          "shapedefaults": {
           "line": {
            "color": "#2a3f5f"
           }
          },
          "ternary": {
           "aaxis": {
            "gridcolor": "white",
            "linecolor": "white",
            "ticks": ""
           },
           "baxis": {
            "gridcolor": "white",
            "linecolor": "white",
            "ticks": ""
           },
           "bgcolor": "#E5ECF6",
           "caxis": {
            "gridcolor": "white",
            "linecolor": "white",
            "ticks": ""
           }
          },
          "title": {
           "x": 0.05
          },
          "xaxis": {
           "automargin": true,
           "gridcolor": "white",
           "linecolor": "white",
           "ticks": "",
           "title": {
            "standoff": 15
           },
           "zerolinecolor": "white",
           "zerolinewidth": 2
          },
          "yaxis": {
           "automargin": true,
           "gridcolor": "white",
           "linecolor": "white",
           "ticks": "",
           "title": {
            "standoff": 15
           },
           "zerolinecolor": "white",
           "zerolinewidth": 2
          }
         }
        },
        "title": {
         "text": "Equality Indicators",
         "x": 0.5
        },
        "xaxis": {
         "anchor": "y",
         "domain": [
          0,
          1
         ],
         "title": {
          "text": "1st_component"
         }
        },
        "yaxis": {
         "anchor": "x",
         "domain": [
          0,
          1
         ],
         "title": {
          "text": "2nd_component"
         }
        }
       }
      }
     },
     "metadata": {},
     "output_type": "display_data"
    },
    {
     "data": {
      "text/html": [
       "<div>\n",
       "<style scoped>\n",
       "    .dataframe tbody tr th:only-of-type {\n",
       "        vertical-align: middle;\n",
       "    }\n",
       "\n",
       "    .dataframe tbody tr th {\n",
       "        vertical-align: top;\n",
       "    }\n",
       "\n",
       "    .dataframe thead th {\n",
       "        text-align: right;\n",
       "    }\n",
       "</style>\n",
       "<table border=\"1\" class=\"dataframe\">\n",
       "  <thead>\n",
       "    <tr style=\"text-align: right;\">\n",
       "      <th></th>\n",
       "      <th>1st_component</th>\n",
       "      <th>2nd_component</th>\n",
       "      <th>Cluster</th>\n",
       "    </tr>\n",
       "    <tr>\n",
       "      <th>Country</th>\n",
       "      <th></th>\n",
       "      <th></th>\n",
       "      <th></th>\n",
       "    </tr>\n",
       "  </thead>\n",
       "  <tbody>\n",
       "    <tr>\n",
       "      <th>Afghanistan</th>\n",
       "      <td>0.977056</td>\n",
       "      <td>-0.660187</td>\n",
       "      <td>8</td>\n",
       "    </tr>\n",
       "    <tr>\n",
       "      <th>Albania</th>\n",
       "      <td>0.362002</td>\n",
       "      <td>1.479473</td>\n",
       "      <td>0</td>\n",
       "    </tr>\n",
       "    <tr>\n",
       "      <th>Algeria</th>\n",
       "      <td>0.408015</td>\n",
       "      <td>1.939408</td>\n",
       "      <td>0</td>\n",
       "    </tr>\n",
       "    <tr>\n",
       "      <th>Angola</th>\n",
       "      <td>-0.669721</td>\n",
       "      <td>0.810072</td>\n",
       "      <td>3</td>\n",
       "    </tr>\n",
       "    <tr>\n",
       "      <th>Argentina</th>\n",
       "      <td>-0.816223</td>\n",
       "      <td>0.070181</td>\n",
       "      <td>2</td>\n",
       "    </tr>\n",
       "    <tr>\n",
       "      <th>...</th>\n",
       "      <td>...</td>\n",
       "      <td>...</td>\n",
       "      <td>...</td>\n",
       "    </tr>\n",
       "    <tr>\n",
       "      <th>Uruguay</th>\n",
       "      <td>-1.127414</td>\n",
       "      <td>-0.287463</td>\n",
       "      <td>2</td>\n",
       "    </tr>\n",
       "    <tr>\n",
       "      <th>Uzbekistan</th>\n",
       "      <td>0.602376</td>\n",
       "      <td>-1.864927</td>\n",
       "      <td>10</td>\n",
       "    </tr>\n",
       "    <tr>\n",
       "      <th>Vanuatu</th>\n",
       "      <td>0.611540</td>\n",
       "      <td>-0.838378</td>\n",
       "      <td>9</td>\n",
       "    </tr>\n",
       "    <tr>\n",
       "      <th>Zambia</th>\n",
       "      <td>0.381512</td>\n",
       "      <td>-1.339057</td>\n",
       "      <td>10</td>\n",
       "    </tr>\n",
       "    <tr>\n",
       "      <th>Zimbabwe</th>\n",
       "      <td>-0.564668</td>\n",
       "      <td>0.737382</td>\n",
       "      <td>3</td>\n",
       "    </tr>\n",
       "  </tbody>\n",
       "</table>\n",
       "<p>153 rows × 3 columns</p>\n",
       "</div>"
      ],
      "text/plain": [
       "             1st_component  2nd_component Cluster\n",
       "Country                                          \n",
       "Afghanistan       0.977056      -0.660187       8\n",
       "Albania           0.362002       1.479473       0\n",
       "Algeria           0.408015       1.939408       0\n",
       "Angola           -0.669721       0.810072       3\n",
       "Argentina        -0.816223       0.070181       2\n",
       "...                    ...            ...     ...\n",
       "Uruguay          -1.127414      -0.287463       2\n",
       "Uzbekistan        0.602376      -1.864927      10\n",
       "Vanuatu           0.611540      -0.838378       9\n",
       "Zambia            0.381512      -1.339057      10\n",
       "Zimbabwe         -0.564668       0.737382       3\n",
       "\n",
       "[153 rows x 3 columns]"
      ]
     },
     "metadata": {},
     "output_type": "display_data"
    },
    {
     "data": {
      "application/vnd.plotly.v1+json": {
       "config": {
        "plotlyServerURL": "https://plot.ly"
       },
       "data": [
        {
         "hovertemplate": "Cluster=0<br>1st_component=%{x}<br>2nd_component=%{y}<br>Country=%{text}<extra></extra>",
         "legendgroup": "0",
         "marker": {
          "color": "#636efa",
          "symbol": "circle"
         },
         "mode": "markers+text",
         "name": "0",
         "orientation": "v",
         "showlegend": true,
         "text": [
          "Albania",
          "Algeria",
          "Armenia",
          "Bosnia and Herzegovina",
          "Bulgaria",
          "Georgia",
          "Germany",
          "Hungary",
          "Portugal",
          "Romania",
          "Serbia",
          "Tunisia",
          "Ukraine"
         ],
         "textposition": "top center",
         "type": "scatter",
         "x": [
          0.36200228333473206,
          0.40801459550857544,
          0.31589603424072266,
          0.40486639738082886,
          0.4197632968425751,
          0.26063841581344604,
          0.47464627027511597,
          0.15931454300880432,
          0.08823566883802414,
          0.2439706027507782,
          0.3135937452316284,
          0.3543221950531006,
          0.11030149459838867
         ],
         "xaxis": "x",
         "y": [
          1.4794734716415405,
          1.9394078254699707,
          1.5999611616134644,
          1.3474619388580322,
          1.1555553674697876,
          1.8001292943954468,
          1.0986793041229248,
          1.093368649482727,
          1.0560518503189087,
          1.418447494506836,
          1.3688480854034424,
          1.893827199935913,
          1.7909729480743408
         ],
         "yaxis": "y"
        },
        {
         "hovertemplate": "Cluster=1<br>1st_component=%{x}<br>2nd_component=%{y}<br>Country=%{text}<extra></extra>",
         "legendgroup": "1",
         "marker": {
          "color": "#EF553B",
          "symbol": "circle"
         },
         "mode": "markers+text",
         "name": "1",
         "orientation": "v",
         "showlegend": true,
         "text": [
          "Belarus",
          "Estonia",
          "Kazakhstan",
          "Latvia",
          "Lithuania",
          "Mongolia",
          "Namibia",
          "Poland",
          "Russia"
         ],
         "textposition": "top center",
         "type": "scatter",
         "x": [
          1.0164521932601929,
          1.112691879272461,
          1.110386848449707,
          1.0585616827011108,
          1.09876549243927,
          1.2043027877807617,
          1.0164345502853394,
          0.9354038834571838,
          1.0381332635879517
         ],
         "xaxis": "x",
         "y": [
          0.8939838409423828,
          1.2007668018341064,
          0.6489293575286865,
          1.2920399904251099,
          1.346529245376587,
          0.630293071269989,
          0.48215165734291077,
          1.359796166419983,
          0.8297926783561707
         ],
         "yaxis": "y"
        },
        {
         "hovertemplate": "Cluster=10<br>1st_component=%{x}<br>2nd_component=%{y}<br>Country=%{text}<extra></extra>",
         "legendgroup": "10",
         "marker": {
          "color": "#00cc96",
          "symbol": "circle"
         },
         "mode": "markers+text",
         "name": "10",
         "orientation": "v",
         "showlegend": true,
         "text": [
          "Burkina Faso",
          "Burundi",
          "Cambodia",
          "Gabon",
          "Ghana",
          "Guatemala",
          "Guinea",
          "Mauritania",
          "Morocco",
          "Myanmar",
          "Niger",
          "Nigeria",
          "Papua New Guinea",
          "Rwanda",
          "Samoa",
          "Turkmenistan",
          "Uzbekistan",
          "Zambia"
         ],
         "textposition": "top center",
         "type": "scatter",
         "x": [
          0.6991512775421143,
          1.1223424673080444,
          0.41743379831314087,
          0.49921920895576477,
          0.5626495480537415,
          1.4668461084365845,
          1.087096095085144,
          1.437378168106079,
          0.8688321113586426,
          0.470573365688324,
          1.375278115272522,
          0.41126927733421326,
          0.6990014910697937,
          0.7833946943283081,
          0.8124105334281921,
          0.31752803921699524,
          0.6023762226104736,
          0.3815115988254547
         ],
         "xaxis": "x",
         "y": [
          -1.6025196313858032,
          -1.6961541175842285,
          -1.2601369619369507,
          -1.8059298992156982,
          -1.109738826751709,
          -1.3943850994110107,
          -1.6329340934753418,
          -1.4489315748214722,
          -1.5743701457977295,
          -1.6524529457092285,
          -1.5547391176223755,
          -1.7674962282180786,
          -1.1667717695236206,
          -1.552399754524231,
          -1.2102848291397095,
          -1.807339072227478,
          -1.8649272918701172,
          -1.3390567302703857
         ],
         "yaxis": "y"
        },
        {
         "hovertemplate": "Cluster=11<br>1st_component=%{x}<br>2nd_component=%{y}<br>Country=%{text}<extra></extra>",
         "legendgroup": "11",
         "marker": {
          "color": "#ab63fa",
          "symbol": "circle"
         },
         "mode": "markers+text",
         "name": "11",
         "orientation": "v",
         "showlegend": true,
         "text": [
          "Bhutan",
          "Cameroon",
          "Chad",
          "Malawi",
          "Mali",
          "Mozambique",
          "Panama",
          "Sierra Leone",
          "Sri Lanka",
          "Tonga"
         ],
         "textposition": "top center",
         "type": "scatter",
         "x": [
          -0.20958097279071808,
          0.0553797148168087,
          -0.23506160080432892,
          -0.19123245775699615,
          -0.02819688245654106,
          -0.014100756496191025,
          -0.7706627249717712,
          -0.26618367433547974,
          -0.6106036901473999,
          -0.46803298592567444
         ],
         "xaxis": "x",
         "y": [
          -1.4446384906768799,
          -1.2436293363571167,
          -1.3202598094940186,
          -1.5389795303344727,
          -1.1009563207626343,
          -1.2005940675735474,
          -1.2133830785751343,
          -1.2672882080078125,
          -1.2525087594985962,
          -1.2726068496704102
         ],
         "yaxis": "y"
        },
        {
         "hovertemplate": "Cluster=2<br>1st_component=%{x}<br>2nd_component=%{y}<br>Country=%{text}<extra></extra>",
         "legendgroup": "2",
         "marker": {
          "color": "#FFA15A",
          "symbol": "circle"
         },
         "mode": "markers+text",
         "name": "2",
         "orientation": "v",
         "showlegend": true,
         "text": [
          "Argentina",
          "Brazil",
          "Chile",
          "China",
          "Costa Rica",
          "El Salvador",
          "Iceland",
          "Philippines",
          "Thailand",
          "Uruguay"
         ],
         "textposition": "top center",
         "type": "scatter",
         "x": [
          -0.8162229061126709,
          -0.8724899888038635,
          -1.1013891696929932,
          -0.8002818822860718,
          -1.0791610479354858,
          -1.5426563024520874,
          -1.4496122598648071,
          -1.038151502609253,
          -0.8376994132995605,
          -1.1274142265319824
         ],
         "xaxis": "x",
         "y": [
          0.07018055766820908,
          -0.4778521656990051,
          -0.3713410198688507,
          -0.6073571443557739,
          -0.5392561554908752,
          -0.17394237220287323,
          -0.19554902613162994,
          -0.4346078634262085,
          -0.6877649426460266,
          -0.2874625027179718
         ],
         "yaxis": "y"
        },
        {
         "hovertemplate": "Cluster=3<br>1st_component=%{x}<br>2nd_component=%{y}<br>Country=%{text}<extra></extra>",
         "legendgroup": "3",
         "marker": {
          "color": "#19d3f3",
          "symbol": "circle"
         },
         "mode": "markers+text",
         "name": "3",
         "orientation": "v",
         "showlegend": true,
         "text": [
          "Angola",
          "Australia",
          "Belgium",
          "Botswana",
          "Denmark",
          "Ecuador",
          "Eritrea",
          "Finland",
          "Ireland",
          "Norway",
          "South Africa",
          "Sweden",
          "Switzerland",
          "Tajikistan",
          "United States",
          "Zimbabwe"
         ],
         "textposition": "top center",
         "type": "scatter",
         "x": [
          -0.6697206497192383,
          -0.7559755444526672,
          -0.23958036303520203,
          -0.10713718086481094,
          -0.2553861141204834,
          -0.780463457107544,
          -0.4543762505054474,
          -0.6816250085830688,
          -0.21133697032928467,
          -0.5692155361175537,
          -0.26403993368148804,
          -0.5961943864822388,
          -0.2731193006038666,
          -0.480557918548584,
          -0.14148463308811188,
          -0.5646681189537048
         ],
         "xaxis": "x",
         "y": [
          0.8100721836090088,
          0.28907421231269836,
          0.3022714853286743,
          -0.0057926783338189125,
          0.6394780874252319,
          0.5946487784385681,
          0.49576595425605774,
          0.5272420644760132,
          0.04230683669447899,
          0.49086204171180725,
          0.3935173749923706,
          0.3824506402015686,
          0.23696865141391754,
          0.2544099986553192,
          0.7069982290267944,
          0.7373822331428528
         ],
         "yaxis": "y"
        },
        {
         "hovertemplate": "Cluster=4<br>1st_component=%{x}<br>2nd_component=%{y}<br>Country=%{text}<extra></extra>",
         "legendgroup": "4",
         "marker": {
          "color": "#FF6692",
          "symbol": "circle"
         },
         "mode": "markers+text",
         "name": "4",
         "orientation": "v",
         "showlegend": true,
         "text": [
          "Austria",
          "Canada",
          "Cyprus",
          "Dominican Republic",
          "Eswatini",
          "France",
          "Israel",
          "Lebanon",
          "Malta",
          "Mauritius",
          "Netherlands",
          "New Zealand",
          "Slovenia",
          "Spain",
          "United Kingdom"
         ],
         "textposition": "top center",
         "type": "scatter",
         "x": [
          -1.035865068435669,
          -1.315866231918335,
          -1.1447882652282715,
          -1.5897138118743896,
          -0.9517880082130432,
          -1.1745563745498657,
          -1.4340165853500366,
          -0.9169937968254089,
          -1.223811388015747,
          -1.362689733505249,
          -1.1277720928192139,
          -1.4983981847763062,
          -1.1289381980895996,
          -0.8716105222702026,
          -1.1870962381362915
         ],
         "xaxis": "x",
         "y": [
          0.17492824792861938,
          0.626900851726532,
          0.11265883594751358,
          0.7823987007141113,
          0.7368931770324707,
          0.5843766331672668,
          0.9342354536056519,
          0.5299747586250305,
          0.8422254920005798,
          0.48651570081710815,
          0.6921668648719788,
          0.8861052989959717,
          0.4925095736980438,
          0.16808563470840454,
          0.7358891367912292
         ],
         "yaxis": "y"
        },
        {
         "hovertemplate": "Cluster=5<br>1st_component=%{x}<br>2nd_component=%{y}<br>Country=%{text}<extra></extra>",
         "legendgroup": "5",
         "marker": {
          "color": "#B6E880",
          "symbol": "circle"
         },
         "mode": "markers+text",
         "name": "5",
         "orientation": "v",
         "showlegend": true,
         "text": [
          "Barbados",
          "Croatia",
          "French Polynesia",
          "Greece",
          "Guyana",
          "Italy",
          "Japan",
          "Libya",
          "New Caledonia",
          "Puerto Rico",
          "Seychelles",
          "Trinidad and Tobago"
         ],
         "textposition": "top center",
         "type": "scatter",
         "x": [
          -0.5487369298934937,
          -0.1388390213251114,
          -0.5427685379981995,
          -0.39501190185546875,
          -0.25864458084106445,
          -0.23547668755054474,
          -0.7427613139152527,
          -0.6186302304267883,
          -0.8480738997459412,
          -0.7547557353973389,
          -0.7446504831314087,
          -0.3110973834991455
         ],
         "xaxis": "x",
         "y": [
          1.4139596223831177,
          1.560208797454834,
          1.557510256767273,
          1.6145572662353516,
          1.827107310295105,
          1.5811318159103394,
          1.4926397800445557,
          1.5336984395980835,
          1.5688425302505493,
          1.3629651069641113,
          1.67337965965271,
          1.7185217142105103
         ],
         "yaxis": "y"
        },
        {
         "hovertemplate": "Cluster=6<br>1st_component=%{x}<br>2nd_component=%{y}<br>Country=%{text}<extra></extra>",
         "legendgroup": "6",
         "marker": {
          "color": "#FF97FF",
          "symbol": "circle"
         },
         "mode": "markers+text",
         "name": "6",
         "orientation": "v",
         "showlegend": true,
         "text": [
          "Bahrain",
          "Kuwait",
          "Oman",
          "Qatar",
          "Saudi Arabia",
          "Suriname"
         ],
         "textposition": "top center",
         "type": "scatter",
         "x": [
          1.9414281845092773,
          2.153640031814575,
          2.1575894355773926,
          2.1006593704223633,
          2.291133165359497,
          2.136080265045166
         ],
         "xaxis": "x",
         "y": [
          -0.5194789171218872,
          -0.4923057556152344,
          -0.624384343624115,
          -0.5422726273536682,
          -0.5002585053443909,
          -0.38583987951278687
         ],
         "yaxis": "y"
        },
        {
         "hovertemplate": "Cluster=7<br>1st_component=%{x}<br>2nd_component=%{y}<br>Country=%{text}<extra></extra>",
         "legendgroup": "7",
         "marker": {
          "color": "#FECB52",
          "symbol": "circle"
         },
         "mode": "markers+text",
         "name": "7",
         "orientation": "v",
         "showlegend": true,
         "text": [
          "Colombia",
          "Cuba",
          "Fiji",
          "Jamaica",
          "Malaysia",
          "Mexico",
          "Montenegro",
          "North Macedonia",
          "Singapore"
         ],
         "textposition": "top center",
         "type": "scatter",
         "x": [
          -2.0323362350463867,
          -2.070946455001831,
          -2.163285255432129,
          -2.223559617996216,
          -2.1647791862487793,
          -1.7350404262542725,
          -1.9699835777282715,
          -1.8612895011901855,
          -1.7354824542999268
         ],
         "xaxis": "x",
         "y": [
          0.03746702894568443,
          0.21145972609519958,
          0.42788052558898926,
          0.268204927444458,
          0.32322436571121216,
          -0.4261196255683899,
          0.1295681893825531,
          0.12888576090335846,
          0.1445058137178421
         ],
         "yaxis": "y"
        },
        {
         "hovertemplate": "Cluster=8<br>1st_component=%{x}<br>2nd_component=%{y}<br>Country=%{text}<extra></extra>",
         "legendgroup": "8",
         "marker": {
          "color": "#636efa",
          "symbol": "circle"
         },
         "mode": "markers+text",
         "name": "8",
         "orientation": "v",
         "showlegend": true,
         "text": [
          "Afghanistan",
          "Azerbaijan",
          "Bangladesh",
          "Djibouti",
          "Equatorial Guinea",
          "Ethiopia",
          "Guinea-Bissau",
          "India",
          "Indonesia",
          "Iraq",
          "Liberia",
          "Luxembourg",
          "Madagascar",
          "Nepal",
          "Pakistan",
          "Senegal",
          "Uganda"
         ],
         "textposition": "top center",
         "type": "scatter",
         "x": [
          0.977056086063385,
          0.9262061715126038,
          1.3154308795928955,
          1.2240206003189087,
          0.8592192530632019,
          1.16483473777771,
          1.0064836740493774,
          1.3364229202270508,
          0.7308076620101929,
          0.8784022927284241,
          0.9235315918922424,
          0.887593686580658,
          0.6868742108345032,
          1.2632126808166504,
          1.0239536762237549,
          1.1490330696105957,
          1.2926855087280273
         ],
         "xaxis": "x",
         "y": [
          -0.6601868271827698,
          -0.8904998302459717,
          -0.49045729637145996,
          -0.3844284117221832,
          -0.7712717056274414,
          -0.46884503960609436,
          -0.019967833533883095,
          -0.9327162504196167,
          -0.5798739194869995,
          -0.7028544545173645,
          0.012041312642395496,
          0.10386601090431213,
          -0.30939948558807373,
          -0.8662382364273071,
          -0.41725730895996094,
          -0.6103132367134094,
          -0.291473388671875
         ],
         "yaxis": "y"
        },
        {
         "hovertemplate": "Cluster=9<br>1st_component=%{x}<br>2nd_component=%{y}<br>Country=%{text}<extra></extra>",
         "legendgroup": "9",
         "marker": {
          "color": "#EF553B",
          "symbol": "circle"
         },
         "mode": "markers+text",
         "name": "9",
         "orientation": "v",
         "showlegend": true,
         "text": [
          "Belize",
          "Benin",
          "Central African Republic",
          "Comoros",
          "Haiti",
          "Honduras",
          "Jordan",
          "Kenya",
          "Lesotho",
          "Maldives",
          "Nicaragua",
          "Paraguay",
          "Peru",
          "Sao Tome and Principe",
          "Solomon Islands",
          "Togo",
          "United Arab Emirates",
          "Vanuatu"
         ],
         "textposition": "top center",
         "type": "scatter",
         "x": [
          0.4719809889793396,
          0.2059922069311142,
          0.329704225063324,
          0.5142030119895935,
          0.2604941427707672,
          -0.011831645853817463,
          -0.23737552762031555,
          -0.2307455837726593,
          0.012897203676402569,
          0.14906461536884308,
          -0.2071126252412796,
          0.6191788911819458,
          0.28227049112319946,
          0.3747997283935547,
          0.46192142367362976,
          0.3741206228733063,
          0.5798967480659485,
          0.611539900302887
         ],
         "xaxis": "x",
         "y": [
          -0.1901399791240692,
          0.050390150398015976,
          -0.07721561938524246,
          -1.0539286136627197,
          -0.04324441775679588,
          -0.04921507462859154,
          -0.41153034567832947,
          -0.34546029567718506,
          -0.7606745362281799,
          -0.7667434811592102,
          -0.23380810022354126,
          -0.5466465950012207,
          -0.5548179745674133,
          -0.6859281659126282,
          -0.8151426911354065,
          -0.6154927611351013,
          -0.27683088183403015,
          -0.8383775949478149
         ],
         "yaxis": "y"
        }
       ],
       "layout": {
        "legend": {
         "title": {
          "text": "Cluster"
         },
         "tracegroupgap": 0
        },
        "margin": {
         "t": 60
        },
        "template": {
         "data": {
          "bar": [
           {
            "error_x": {
             "color": "#2a3f5f"
            },
            "error_y": {
             "color": "#2a3f5f"
            },
            "marker": {
             "line": {
              "color": "#E5ECF6",
              "width": 0.5
             },
             "pattern": {
              "fillmode": "overlay",
              "size": 10,
              "solidity": 0.2
             }
            },
            "type": "bar"
           }
          ],
          "barpolar": [
           {
            "marker": {
             "line": {
              "color": "#E5ECF6",
              "width": 0.5
             },
             "pattern": {
              "fillmode": "overlay",
              "size": 10,
              "solidity": 0.2
             }
            },
            "type": "barpolar"
           }
          ],
          "carpet": [
           {
            "aaxis": {
             "endlinecolor": "#2a3f5f",
             "gridcolor": "white",
             "linecolor": "white",
             "minorgridcolor": "white",
             "startlinecolor": "#2a3f5f"
            },
            "baxis": {
             "endlinecolor": "#2a3f5f",
             "gridcolor": "white",
             "linecolor": "white",
             "minorgridcolor": "white",
             "startlinecolor": "#2a3f5f"
            },
            "type": "carpet"
           }
          ],
          "choropleth": [
           {
            "colorbar": {
             "outlinewidth": 0,
             "ticks": ""
            },
            "type": "choropleth"
           }
          ],
          "contour": [
           {
            "colorbar": {
             "outlinewidth": 0,
             "ticks": ""
            },
            "colorscale": [
             [
              0,
              "#0d0887"
             ],
             [
              0.1111111111111111,
              "#46039f"
             ],
             [
              0.2222222222222222,
              "#7201a8"
             ],
             [
              0.3333333333333333,
              "#9c179e"
             ],
             [
              0.4444444444444444,
              "#bd3786"
             ],
             [
              0.5555555555555556,
              "#d8576b"
             ],
             [
              0.6666666666666666,
              "#ed7953"
             ],
             [
              0.7777777777777778,
              "#fb9f3a"
             ],
             [
              0.8888888888888888,
              "#fdca26"
             ],
             [
              1,
              "#f0f921"
             ]
            ],
            "type": "contour"
           }
          ],
          "contourcarpet": [
           {
            "colorbar": {
             "outlinewidth": 0,
             "ticks": ""
            },
            "type": "contourcarpet"
           }
          ],
          "heatmap": [
           {
            "colorbar": {
             "outlinewidth": 0,
             "ticks": ""
            },
            "colorscale": [
             [
              0,
              "#0d0887"
             ],
             [
              0.1111111111111111,
              "#46039f"
             ],
             [
              0.2222222222222222,
              "#7201a8"
             ],
             [
              0.3333333333333333,
              "#9c179e"
             ],
             [
              0.4444444444444444,
              "#bd3786"
             ],
             [
              0.5555555555555556,
              "#d8576b"
             ],
             [
              0.6666666666666666,
              "#ed7953"
             ],
             [
              0.7777777777777778,
              "#fb9f3a"
             ],
             [
              0.8888888888888888,
              "#fdca26"
             ],
             [
              1,
              "#f0f921"
             ]
            ],
            "type": "heatmap"
           }
          ],
          "heatmapgl": [
           {
            "colorbar": {
             "outlinewidth": 0,
             "ticks": ""
            },
            "colorscale": [
             [
              0,
              "#0d0887"
             ],
             [
              0.1111111111111111,
              "#46039f"
             ],
             [
              0.2222222222222222,
              "#7201a8"
             ],
             [
              0.3333333333333333,
              "#9c179e"
             ],
             [
              0.4444444444444444,
              "#bd3786"
             ],
             [
              0.5555555555555556,
              "#d8576b"
             ],
             [
              0.6666666666666666,
              "#ed7953"
             ],
             [
              0.7777777777777778,
              "#fb9f3a"
             ],
             [
              0.8888888888888888,
              "#fdca26"
             ],
             [
              1,
              "#f0f921"
             ]
            ],
            "type": "heatmapgl"
           }
          ],
          "histogram": [
           {
            "marker": {
             "pattern": {
              "fillmode": "overlay",
              "size": 10,
              "solidity": 0.2
             }
            },
            "type": "histogram"
           }
          ],
          "histogram2d": [
           {
            "colorbar": {
             "outlinewidth": 0,
             "ticks": ""
            },
            "colorscale": [
             [
              0,
              "#0d0887"
             ],
             [
              0.1111111111111111,
              "#46039f"
             ],
             [
              0.2222222222222222,
              "#7201a8"
             ],
             [
              0.3333333333333333,
              "#9c179e"
             ],
             [
              0.4444444444444444,
              "#bd3786"
             ],
             [
              0.5555555555555556,
              "#d8576b"
             ],
             [
              0.6666666666666666,
              "#ed7953"
             ],
             [
              0.7777777777777778,
              "#fb9f3a"
             ],
             [
              0.8888888888888888,
              "#fdca26"
             ],
             [
              1,
              "#f0f921"
             ]
            ],
            "type": "histogram2d"
           }
          ],
          "histogram2dcontour": [
           {
            "colorbar": {
             "outlinewidth": 0,
             "ticks": ""
            },
            "colorscale": [
             [
              0,
              "#0d0887"
             ],
             [
              0.1111111111111111,
              "#46039f"
             ],
             [
              0.2222222222222222,
              "#7201a8"
             ],
             [
              0.3333333333333333,
              "#9c179e"
             ],
             [
              0.4444444444444444,
              "#bd3786"
             ],
             [
              0.5555555555555556,
              "#d8576b"
             ],
             [
              0.6666666666666666,
              "#ed7953"
             ],
             [
              0.7777777777777778,
              "#fb9f3a"
             ],
             [
              0.8888888888888888,
              "#fdca26"
             ],
             [
              1,
              "#f0f921"
             ]
            ],
            "type": "histogram2dcontour"
           }
          ],
          "mesh3d": [
           {
            "colorbar": {
             "outlinewidth": 0,
             "ticks": ""
            },
            "type": "mesh3d"
           }
          ],
          "parcoords": [
           {
            "line": {
             "colorbar": {
              "outlinewidth": 0,
              "ticks": ""
             }
            },
            "type": "parcoords"
           }
          ],
          "pie": [
           {
            "automargin": true,
            "type": "pie"
           }
          ],
          "scatter": [
           {
            "fillpattern": {
             "fillmode": "overlay",
             "size": 10,
             "solidity": 0.2
            },
            "type": "scatter"
           }
          ],
          "scatter3d": [
           {
            "line": {
             "colorbar": {
              "outlinewidth": 0,
              "ticks": ""
             }
            },
            "marker": {
             "colorbar": {
              "outlinewidth": 0,
              "ticks": ""
             }
            },
            "type": "scatter3d"
           }
          ],
          "scattercarpet": [
           {
            "marker": {
             "colorbar": {
              "outlinewidth": 0,
              "ticks": ""
             }
            },
            "type": "scattercarpet"
           }
          ],
          "scattergeo": [
           {
            "marker": {
             "colorbar": {
              "outlinewidth": 0,
              "ticks": ""
             }
            },
            "type": "scattergeo"
           }
          ],
          "scattergl": [
           {
            "marker": {
             "colorbar": {
              "outlinewidth": 0,
              "ticks": ""
             }
            },
            "type": "scattergl"
           }
          ],
          "scattermapbox": [
           {
            "marker": {
             "colorbar": {
              "outlinewidth": 0,
              "ticks": ""
             }
            },
            "type": "scattermapbox"
           }
          ],
          "scatterpolar": [
           {
            "marker": {
             "colorbar": {
              "outlinewidth": 0,
              "ticks": ""
             }
            },
            "type": "scatterpolar"
           }
          ],
          "scatterpolargl": [
           {
            "marker": {
             "colorbar": {
              "outlinewidth": 0,
              "ticks": ""
             }
            },
            "type": "scatterpolargl"
           }
          ],
          "scatterternary": [
           {
            "marker": {
             "colorbar": {
              "outlinewidth": 0,
              "ticks": ""
             }
            },
            "type": "scatterternary"
           }
          ],
          "surface": [
           {
            "colorbar": {
             "outlinewidth": 0,
             "ticks": ""
            },
            "colorscale": [
             [
              0,
              "#0d0887"
             ],
             [
              0.1111111111111111,
              "#46039f"
             ],
             [
              0.2222222222222222,
              "#7201a8"
             ],
             [
              0.3333333333333333,
              "#9c179e"
             ],
             [
              0.4444444444444444,
              "#bd3786"
             ],
             [
              0.5555555555555556,
              "#d8576b"
             ],
             [
              0.6666666666666666,
              "#ed7953"
             ],
             [
              0.7777777777777778,
              "#fb9f3a"
             ],
             [
              0.8888888888888888,
              "#fdca26"
             ],
             [
              1,
              "#f0f921"
             ]
            ],
            "type": "surface"
           }
          ],
          "table": [
           {
            "cells": {
             "fill": {
              "color": "#EBF0F8"
             },
             "line": {
              "color": "white"
             }
            },
            "header": {
             "fill": {
              "color": "#C8D4E3"
             },
             "line": {
              "color": "white"
             }
            },
            "type": "table"
           }
          ]
         },
         "layout": {
          "annotationdefaults": {
           "arrowcolor": "#2a3f5f",
           "arrowhead": 0,
           "arrowwidth": 1
          },
          "autotypenumbers": "strict",
          "coloraxis": {
           "colorbar": {
            "outlinewidth": 0,
            "ticks": ""
           }
          },
          "colorscale": {
           "diverging": [
            [
             0,
             "#8e0152"
            ],
            [
             0.1,
             "#c51b7d"
            ],
            [
             0.2,
             "#de77ae"
            ],
            [
             0.3,
             "#f1b6da"
            ],
            [
             0.4,
             "#fde0ef"
            ],
            [
             0.5,
             "#f7f7f7"
            ],
            [
             0.6,
             "#e6f5d0"
            ],
            [
             0.7,
             "#b8e186"
            ],
            [
             0.8,
             "#7fbc41"
            ],
            [
             0.9,
             "#4d9221"
            ],
            [
             1,
             "#276419"
            ]
           ],
           "sequential": [
            [
             0,
             "#0d0887"
            ],
            [
             0.1111111111111111,
             "#46039f"
            ],
            [
             0.2222222222222222,
             "#7201a8"
            ],
            [
             0.3333333333333333,
             "#9c179e"
            ],
            [
             0.4444444444444444,
             "#bd3786"
            ],
            [
             0.5555555555555556,
             "#d8576b"
            ],
            [
             0.6666666666666666,
             "#ed7953"
            ],
            [
             0.7777777777777778,
             "#fb9f3a"
            ],
            [
             0.8888888888888888,
             "#fdca26"
            ],
            [
             1,
             "#f0f921"
            ]
           ],
           "sequentialminus": [
            [
             0,
             "#0d0887"
            ],
            [
             0.1111111111111111,
             "#46039f"
            ],
            [
             0.2222222222222222,
             "#7201a8"
            ],
            [
             0.3333333333333333,
             "#9c179e"
            ],
            [
             0.4444444444444444,
             "#bd3786"
            ],
            [
             0.5555555555555556,
             "#d8576b"
            ],
            [
             0.6666666666666666,
             "#ed7953"
            ],
            [
             0.7777777777777778,
             "#fb9f3a"
            ],
            [
             0.8888888888888888,
             "#fdca26"
            ],
            [
             1,
             "#f0f921"
            ]
           ]
          },
          "colorway": [
           "#636efa",
           "#EF553B",
           "#00cc96",
           "#ab63fa",
           "#FFA15A",
           "#19d3f3",
           "#FF6692",
           "#B6E880",
           "#FF97FF",
           "#FECB52"
          ],
          "font": {
           "color": "#2a3f5f"
          },
          "geo": {
           "bgcolor": "white",
           "lakecolor": "white",
           "landcolor": "#E5ECF6",
           "showlakes": true,
           "showland": true,
           "subunitcolor": "white"
          },
          "hoverlabel": {
           "align": "left"
          },
          "hovermode": "closest",
          "mapbox": {
           "style": "light"
          },
          "paper_bgcolor": "white",
          "plot_bgcolor": "#E5ECF6",
          "polar": {
           "angularaxis": {
            "gridcolor": "white",
            "linecolor": "white",
            "ticks": ""
           },
           "bgcolor": "#E5ECF6",
           "radialaxis": {
            "gridcolor": "white",
            "linecolor": "white",
            "ticks": ""
           }
          },
          "scene": {
           "xaxis": {
            "backgroundcolor": "#E5ECF6",
            "gridcolor": "white",
            "gridwidth": 2,
            "linecolor": "white",
            "showbackground": true,
            "ticks": "",
            "zerolinecolor": "white"
           },
           "yaxis": {
            "backgroundcolor": "#E5ECF6",
            "gridcolor": "white",
            "gridwidth": 2,
            "linecolor": "white",
            "showbackground": true,
            "ticks": "",
            "zerolinecolor": "white"
           },
           "zaxis": {
            "backgroundcolor": "#E5ECF6",
            "gridcolor": "white",
            "gridwidth": 2,
            "linecolor": "white",
            "showbackground": true,
            "ticks": "",
            "zerolinecolor": "white"
           }
          },
          "shapedefaults": {
           "line": {
            "color": "#2a3f5f"
           }
          },
          "ternary": {
           "aaxis": {
            "gridcolor": "white",
            "linecolor": "white",
            "ticks": ""
           },
           "baxis": {
            "gridcolor": "white",
            "linecolor": "white",
            "ticks": ""
           },
           "bgcolor": "#E5ECF6",
           "caxis": {
            "gridcolor": "white",
            "linecolor": "white",
            "ticks": ""
           }
          },
          "title": {
           "x": 0.05
          },
          "xaxis": {
           "automargin": true,
           "gridcolor": "white",
           "linecolor": "white",
           "ticks": "",
           "title": {
            "standoff": 15
           },
           "zerolinecolor": "white",
           "zerolinewidth": 2
          },
          "yaxis": {
           "automargin": true,
           "gridcolor": "white",
           "linecolor": "white",
           "ticks": "",
           "title": {
            "standoff": 15
           },
           "zerolinecolor": "white",
           "zerolinewidth": 2
          }
         }
        },
        "title": {
         "text": "All indicators",
         "x": 0.5
        },
        "xaxis": {
         "anchor": "y",
         "domain": [
          0,
          1
         ],
         "title": {
          "text": "1st_component"
         }
        },
        "yaxis": {
         "anchor": "x",
         "domain": [
          0,
          1
         ],
         "title": {
          "text": "2nd_component"
         }
        }
       }
      }
     },
     "metadata": {},
     "output_type": "display_data"
    }
   ],
   "source": [
    "comp_dict = {}\n",
    "\n",
    "for ind in ind_dict:\n",
    "    df_norm = df_dict[ind]\n",
    "\n",
    "    # Apply the TSNE chosen for that indicator\n",
    "    df_tsne = pd.DataFrame(tsne_dict[ind].fit_transform(df_norm))\n",
    "\n",
    "    # Scale the result\n",
    "    scaled_df = pd.DataFrame(StandardScaler().fit_transform(df_tsne), index = df_norm.index, columns = [col_1comp, col_2comp])\n",
    "    \n",
    "    # Apply Affinity Propagation\n",
    "    affinity = afprop_dict[ind].fit(scaled_df)\n",
    "\n",
    "    # Update the DataFrame with the resulting Cluster labels\n",
    "    labels_affinity = affinity.labels_\n",
    "    df_dict[ind].loc[:, col_cluster] = labels_affinity\n",
    "    scaled_df[col_cluster] = labels_affinity\n",
    "    scaled_df[col_cluster] = scaled_df[col_cluster].astype(str)\n",
    "\n",
    "    display(scaled_df)\n",
    "    comp_dict[ind] = scaled_df\n",
    "\n",
    "    # Show the resulting chart\n",
    "    fig = px.scatter(scaled_df, x = col_1comp, y = col_2comp, text = scaled_df.index, size_max=100, color=col_cluster, category_orders={col_cluster: sort(list(set(scaled_df.loc[:, col_cluster])))})\n",
    "    fig.update_layout(title_text=ind, title_x=0.5)\n",
    "    fig.update_traces(textposition='top center')\n",
    "    fig.show()"
   ]
  },
  {
   "cell_type": "markdown",
   "metadata": {},
   "source": [
    "## Widget Clustering\n",
    "\n",
    "In order to explore the clustering results given a country, we can choose that country and the group of indicators in the table below, to see what other countries are in the same cluster for the selected group of indicators."
   ]
  },
  {
   "cell_type": "code",
   "execution_count": 7,
   "metadata": {},
   "outputs": [
    {
     "data": {
      "application/vnd.jupyter.widget-view+json": {
       "model_id": "451d87b0e0914114904229b56c4d0d92",
       "version_major": 2,
       "version_minor": 0
      },
      "text/plain": [
       "interactive(children=(Dropdown(description='Indicators', options=('Economic Indicators', 'Social-demographic I…"
      ]
     },
     "metadata": {},
     "output_type": "display_data"
    }
   ],
   "source": [
    "def tableCountry(Ind, Country):\n",
    "    try:\n",
    "        # Find the cluster Country belongs to.\n",
    "        cluster_number = df_dict[Ind].loc[df_dict[Ind].index == Country, col_cluster].item()\n",
    "\n",
    "        # Retrieve the Dataframe with the selected indicators, and filter to only show the rows (countries) belonging to the cluster. Drop the cluster number column as it is redundant.\n",
    "        df_ind = df_dict[Ind]\n",
    "        df = df_ind.loc[df_ind[col_cluster] == cluster_number].drop(col_cluster, axis = 'columns')\n",
    "\n",
    "        # Format the Dataframe representation.\n",
    "        df_s = df.style\n",
    "        df_s.apply_index(lambda i: ['background-color: #aadfff; font-weight: 500' if c == Country else '' for c in i], axis = 0)\n",
    "        df_s.apply(lambda row: ['background-color: #ccebff;' if row.name == Country else '' for cell in row], axis = 1)\n",
    "        df_s.set_table_styles([{'selector': 'td:hover', 'props': [('background-color', '#ddfdff')]}])\n",
    "        tt = {}\n",
    "        for col in df.columns:\n",
    "            tt[col] = 'Column median: ' + str(df.loc[:, col].median())\n",
    "        df_s.set_tooltips(pd.DataFrame(tt, index = df.index))\n",
    "\n",
    "        # Display a short descriptive title and the Dataframe.\n",
    "        display(Country + ' belongs to Cluster ' + str(cluster_number) + '. This Cluster contains a total of ' + str(df.shape[0]) + ' countries.')\n",
    "        display(df_s)\n",
    "    except Exception:\n",
    "        return print('No indicators available for this country.')\n",
    "\n",
    "@interact(\n",
    "    Indicators = df_dict.keys(),\n",
    "    Country = sort(corr_df.index.tolist()))\n",
    "\n",
    "def g(Indicators = 'Equality indicators', Country = 'Afghanistan'):\n",
    "    return tableCountry(Indicators, Country)"
   ]
  },
  {
   "cell_type": "markdown",
   "metadata": {},
   "source": [
    "### SAVING CLUSTERING RESULTS\n",
    "\n",
    "We now write a .csv file for each group of indicators and the clusters each countries belongs to. By default, we sort the rows by cluster."
   ]
  },
  {
   "cell_type": "code",
   "execution_count": 8,
   "metadata": {},
   "outputs": [
    {
     "name": "stdout",
     "output_type": "stream",
     "text": [
      "Economic Indicators\n"
     ]
    },
    {
     "data": {
      "text/html": [
       "<div>\n",
       "<style scoped>\n",
       "    .dataframe tbody tr th:only-of-type {\n",
       "        vertical-align: middle;\n",
       "    }\n",
       "\n",
       "    .dataframe tbody tr th {\n",
       "        vertical-align: top;\n",
       "    }\n",
       "\n",
       "    .dataframe thead th {\n",
       "        text-align: right;\n",
       "    }\n",
       "</style>\n",
       "<table border=\"1\" class=\"dataframe\">\n",
       "  <thead>\n",
       "    <tr style=\"text-align: right;\">\n",
       "      <th></th>\n",
       "      <th></th>\n",
       "      <th>AgriShareGDP</th>\n",
       "      <th>CreditToAgriFishForest</th>\n",
       "      <th>EmploymentRural</th>\n",
       "      <th>% Soldiers</th>\n",
       "      <th>Employment in industry</th>\n",
       "      <th>Employment in services</th>\n",
       "      <th>Cost business start-up</th>\n",
       "      <th>Employment in agriculture</th>\n",
       "      <th>% Education Expenditure</th>\n",
       "      <th>Researchers in R&amp;D</th>\n",
       "      <th>R&amp;D expenditure %GDP</th>\n",
       "      <th>% Healthcare Investment</th>\n",
       "    </tr>\n",
       "    <tr>\n",
       "      <th>Cluster</th>\n",
       "      <th>Country</th>\n",
       "      <th></th>\n",
       "      <th></th>\n",
       "      <th></th>\n",
       "      <th></th>\n",
       "      <th></th>\n",
       "      <th></th>\n",
       "      <th></th>\n",
       "      <th></th>\n",
       "      <th></th>\n",
       "      <th></th>\n",
       "      <th></th>\n",
       "      <th></th>\n",
       "    </tr>\n",
       "  </thead>\n",
       "  <tbody>\n",
       "    <tr>\n",
       "      <th rowspan=\"5\" valign=\"top\">0</th>\n",
       "      <th>Argentina</th>\n",
       "      <td>-0.598246</td>\n",
       "      <td>0.569016</td>\n",
       "      <td>0.0</td>\n",
       "      <td>-0.733421</td>\n",
       "      <td>0.000000</td>\n",
       "      <td>0.000000</td>\n",
       "      <td>0.000000</td>\n",
       "      <td>-0.721302</td>\n",
       "      <td>0.875609</td>\n",
       "      <td>0.791166</td>\n",
       "      <td>0.870413</td>\n",
       "      <td>0.000000</td>\n",
       "    </tr>\n",
       "    <tr>\n",
       "      <th>Brazil</th>\n",
       "      <td>-0.716466</td>\n",
       "      <td>0.000000</td>\n",
       "      <td>0.0</td>\n",
       "      <td>-0.681405</td>\n",
       "      <td>0.000000</td>\n",
       "      <td>0.687886</td>\n",
       "      <td>0.000000</td>\n",
       "      <td>-0.691783</td>\n",
       "      <td>0.734721</td>\n",
       "      <td>0.000000</td>\n",
       "      <td>0.676194</td>\n",
       "      <td>0.000000</td>\n",
       "    </tr>\n",
       "    <tr>\n",
       "      <th>China</th>\n",
       "      <td>0.000000</td>\n",
       "      <td>0.000000</td>\n",
       "      <td>0.0</td>\n",
       "      <td>-0.881665</td>\n",
       "      <td>0.710202</td>\n",
       "      <td>0.999675</td>\n",
       "      <td>0.000000</td>\n",
       "      <td>-0.998375</td>\n",
       "      <td>0.680731</td>\n",
       "      <td>0.936364</td>\n",
       "      <td>1.000000</td>\n",
       "      <td>0.860669</td>\n",
       "    </tr>\n",
       "    <tr>\n",
       "      <th>Cyprus</th>\n",
       "      <td>-0.564469</td>\n",
       "      <td>0.000000</td>\n",
       "      <td>0.0</td>\n",
       "      <td>0.000000</td>\n",
       "      <td>0.000000</td>\n",
       "      <td>0.470283</td>\n",
       "      <td>0.000000</td>\n",
       "      <td>-0.691134</td>\n",
       "      <td>0.536811</td>\n",
       "      <td>0.754545</td>\n",
       "      <td>0.601494</td>\n",
       "      <td>0.440039</td>\n",
       "    </tr>\n",
       "    <tr>\n",
       "      <th>Djibouti</th>\n",
       "      <td>-0.716050</td>\n",
       "      <td>0.000000</td>\n",
       "      <td>0.0</td>\n",
       "      <td>-0.964890</td>\n",
       "      <td>0.000000</td>\n",
       "      <td>0.999675</td>\n",
       "      <td>0.000000</td>\n",
       "      <td>-0.999675</td>\n",
       "      <td>0.000000</td>\n",
       "      <td>0.000000</td>\n",
       "      <td>0.000000</td>\n",
       "      <td>0.000000</td>\n",
       "    </tr>\n",
       "    <tr>\n",
       "      <th>...</th>\n",
       "      <th>...</th>\n",
       "      <td>...</td>\n",
       "      <td>...</td>\n",
       "      <td>...</td>\n",
       "      <td>...</td>\n",
       "      <td>...</td>\n",
       "      <td>...</td>\n",
       "      <td>...</td>\n",
       "      <td>...</td>\n",
       "      <td>...</td>\n",
       "      <td>...</td>\n",
       "      <td>...</td>\n",
       "      <td>...</td>\n",
       "    </tr>\n",
       "    <tr>\n",
       "      <th rowspan=\"5\" valign=\"top\">9</th>\n",
       "      <th>Seychelles</th>\n",
       "      <td>-0.789217</td>\n",
       "      <td>0.000000</td>\n",
       "      <td>0.0</td>\n",
       "      <td>0.000000</td>\n",
       "      <td>0.000000</td>\n",
       "      <td>0.000000</td>\n",
       "      <td>0.000000</td>\n",
       "      <td>0.000000</td>\n",
       "      <td>0.000000</td>\n",
       "      <td>0.000000</td>\n",
       "      <td>0.000000</td>\n",
       "      <td>0.681627</td>\n",
       "    </tr>\n",
       "    <tr>\n",
       "      <th>Suriname</th>\n",
       "      <td>-0.894446</td>\n",
       "      <td>0.000000</td>\n",
       "      <td>0.0</td>\n",
       "      <td>-0.526658</td>\n",
       "      <td>0.557868</td>\n",
       "      <td>-0.492528</td>\n",
       "      <td>0.000000</td>\n",
       "      <td>0.000000</td>\n",
       "      <td>0.000000</td>\n",
       "      <td>0.000000</td>\n",
       "      <td>0.000000</td>\n",
       "      <td>0.000000</td>\n",
       "    </tr>\n",
       "    <tr>\n",
       "      <th>Uganda</th>\n",
       "      <td>-0.576161</td>\n",
       "      <td>0.000000</td>\n",
       "      <td>0.0</td>\n",
       "      <td>-0.921977</td>\n",
       "      <td>-0.531687</td>\n",
       "      <td>0.000000</td>\n",
       "      <td>-0.914310</td>\n",
       "      <td>0.000000</td>\n",
       "      <td>-0.650649</td>\n",
       "      <td>0.000000</td>\n",
       "      <td>0.000000</td>\n",
       "      <td>-0.720186</td>\n",
       "    </tr>\n",
       "    <tr>\n",
       "      <th>Vanuatu</th>\n",
       "      <td>0.000000</td>\n",
       "      <td>-0.569106</td>\n",
       "      <td>0.0</td>\n",
       "      <td>0.000000</td>\n",
       "      <td>0.967197</td>\n",
       "      <td>-0.632023</td>\n",
       "      <td>-0.838989</td>\n",
       "      <td>-0.939916</td>\n",
       "      <td>0.000000</td>\n",
       "      <td>0.000000</td>\n",
       "      <td>0.000000</td>\n",
       "      <td>-0.813901</td>\n",
       "    </tr>\n",
       "    <tr>\n",
       "      <th>Zimbabwe</th>\n",
       "      <td>-0.669698</td>\n",
       "      <td>0.000000</td>\n",
       "      <td>0.0</td>\n",
       "      <td>-0.841353</td>\n",
       "      <td>-0.782722</td>\n",
       "      <td>0.000000</td>\n",
       "      <td>-0.884333</td>\n",
       "      <td>0.563170</td>\n",
       "      <td>0.000000</td>\n",
       "      <td>0.000000</td>\n",
       "      <td>0.000000</td>\n",
       "      <td>0.000000</td>\n",
       "    </tr>\n",
       "  </tbody>\n",
       "</table>\n",
       "<p>152 rows × 12 columns</p>\n",
       "</div>"
      ],
      "text/plain": [
       "                    AgriShareGDP  CreditToAgriFishForest  EmploymentRural  \\\n",
       "Cluster Country                                                             \n",
       "0       Argentina      -0.598246                0.569016              0.0   \n",
       "        Brazil         -0.716466                0.000000              0.0   \n",
       "        China           0.000000                0.000000              0.0   \n",
       "        Cyprus         -0.564469                0.000000              0.0   \n",
       "        Djibouti       -0.716050                0.000000              0.0   \n",
       "...                          ...                     ...              ...   \n",
       "9       Seychelles     -0.789217                0.000000              0.0   \n",
       "        Suriname       -0.894446                0.000000              0.0   \n",
       "        Uganda         -0.576161                0.000000              0.0   \n",
       "        Vanuatu         0.000000               -0.569106              0.0   \n",
       "        Zimbabwe       -0.669698                0.000000              0.0   \n",
       "\n",
       "                    % Soldiers  Employment in industry  \\\n",
       "Cluster Country                                          \n",
       "0       Argentina    -0.733421                0.000000   \n",
       "        Brazil       -0.681405                0.000000   \n",
       "        China        -0.881665                0.710202   \n",
       "        Cyprus        0.000000                0.000000   \n",
       "        Djibouti     -0.964890                0.000000   \n",
       "...                        ...                     ...   \n",
       "9       Seychelles    0.000000                0.000000   \n",
       "        Suriname     -0.526658                0.557868   \n",
       "        Uganda       -0.921977               -0.531687   \n",
       "        Vanuatu       0.000000                0.967197   \n",
       "        Zimbabwe     -0.841353               -0.782722   \n",
       "\n",
       "                    Employment in services  Cost business start-up  \\\n",
       "Cluster Country                                                      \n",
       "0       Argentina                 0.000000                0.000000   \n",
       "        Brazil                    0.687886                0.000000   \n",
       "        China                     0.999675                0.000000   \n",
       "        Cyprus                    0.470283                0.000000   \n",
       "        Djibouti                  0.999675                0.000000   \n",
       "...                                    ...                     ...   \n",
       "9       Seychelles                0.000000                0.000000   \n",
       "        Suriname                 -0.492528                0.000000   \n",
       "        Uganda                    0.000000               -0.914310   \n",
       "        Vanuatu                  -0.632023               -0.838989   \n",
       "        Zimbabwe                  0.000000               -0.884333   \n",
       "\n",
       "                    Employment in agriculture  % Education Expenditure  \\\n",
       "Cluster Country                                                          \n",
       "0       Argentina                   -0.721302                 0.875609   \n",
       "        Brazil                      -0.691783                 0.734721   \n",
       "        China                       -0.998375                 0.680731   \n",
       "        Cyprus                      -0.691134                 0.536811   \n",
       "        Djibouti                    -0.999675                 0.000000   \n",
       "...                                       ...                      ...   \n",
       "9       Seychelles                   0.000000                 0.000000   \n",
       "        Suriname                     0.000000                 0.000000   \n",
       "        Uganda                       0.000000                -0.650649   \n",
       "        Vanuatu                     -0.939916                 0.000000   \n",
       "        Zimbabwe                     0.563170                 0.000000   \n",
       "\n",
       "                    Researchers in R&D  R&D expenditure %GDP  \\\n",
       "Cluster Country                                                \n",
       "0       Argentina             0.791166              0.870413   \n",
       "        Brazil                0.000000              0.676194   \n",
       "        China                 0.936364              1.000000   \n",
       "        Cyprus                0.754545              0.601494   \n",
       "        Djibouti              0.000000              0.000000   \n",
       "...                                ...                   ...   \n",
       "9       Seychelles            0.000000              0.000000   \n",
       "        Suriname              0.000000              0.000000   \n",
       "        Uganda                0.000000              0.000000   \n",
       "        Vanuatu               0.000000              0.000000   \n",
       "        Zimbabwe              0.000000              0.000000   \n",
       "\n",
       "                    % Healthcare Investment  \n",
       "Cluster Country                              \n",
       "0       Argentina                  0.000000  \n",
       "        Brazil                     0.000000  \n",
       "        China                      0.860669  \n",
       "        Cyprus                     0.440039  \n",
       "        Djibouti                   0.000000  \n",
       "...                                     ...  \n",
       "9       Seychelles                 0.681627  \n",
       "        Suriname                   0.000000  \n",
       "        Uganda                    -0.720186  \n",
       "        Vanuatu                   -0.813901  \n",
       "        Zimbabwe                   0.000000  \n",
       "\n",
       "[152 rows x 12 columns]"
      ]
     },
     "metadata": {},
     "output_type": "display_data"
    },
    {
     "data": {
      "text/html": [
       "<div>\n",
       "<style scoped>\n",
       "    .dataframe tbody tr th:only-of-type {\n",
       "        vertical-align: middle;\n",
       "    }\n",
       "\n",
       "    .dataframe tbody tr th {\n",
       "        vertical-align: top;\n",
       "    }\n",
       "\n",
       "    .dataframe thead th {\n",
       "        text-align: right;\n",
       "    }\n",
       "</style>\n",
       "<table border=\"1\" class=\"dataframe\">\n",
       "  <thead>\n",
       "    <tr style=\"text-align: right;\">\n",
       "      <th></th>\n",
       "      <th></th>\n",
       "      <th>1st_component</th>\n",
       "      <th>2nd_component</th>\n",
       "    </tr>\n",
       "    <tr>\n",
       "      <th>Cluster</th>\n",
       "      <th>Country</th>\n",
       "      <th></th>\n",
       "      <th></th>\n",
       "    </tr>\n",
       "  </thead>\n",
       "  <tbody>\n",
       "    <tr>\n",
       "      <th rowspan=\"5\" valign=\"top\">0</th>\n",
       "      <th>Argentina</th>\n",
       "      <td>-0.256507</td>\n",
       "      <td>-1.325597</td>\n",
       "    </tr>\n",
       "    <tr>\n",
       "      <th>Brazil</th>\n",
       "      <td>-0.007166</td>\n",
       "      <td>-1.208196</td>\n",
       "    </tr>\n",
       "    <tr>\n",
       "      <th>China</th>\n",
       "      <td>-0.457115</td>\n",
       "      <td>-1.209180</td>\n",
       "    </tr>\n",
       "    <tr>\n",
       "      <th>Cyprus</th>\n",
       "      <td>-0.449523</td>\n",
       "      <td>-1.320876</td>\n",
       "    </tr>\n",
       "    <tr>\n",
       "      <th>Djibouti</th>\n",
       "      <td>0.173861</td>\n",
       "      <td>-1.180584</td>\n",
       "    </tr>\n",
       "    <tr>\n",
       "      <th>...</th>\n",
       "      <th>...</th>\n",
       "      <td>...</td>\n",
       "      <td>...</td>\n",
       "    </tr>\n",
       "    <tr>\n",
       "      <th rowspan=\"5\" valign=\"top\">9</th>\n",
       "      <th>Seychelles</th>\n",
       "      <td>1.470348</td>\n",
       "      <td>-0.968292</td>\n",
       "    </tr>\n",
       "    <tr>\n",
       "      <th>Suriname</th>\n",
       "      <td>1.833224</td>\n",
       "      <td>-0.856441</td>\n",
       "    </tr>\n",
       "    <tr>\n",
       "      <th>Uganda</th>\n",
       "      <td>1.855421</td>\n",
       "      <td>-1.649057</td>\n",
       "    </tr>\n",
       "    <tr>\n",
       "      <th>Vanuatu</th>\n",
       "      <td>2.195366</td>\n",
       "      <td>-0.632987</td>\n",
       "    </tr>\n",
       "    <tr>\n",
       "      <th>Zimbabwe</th>\n",
       "      <td>1.868596</td>\n",
       "      <td>-1.580970</td>\n",
       "    </tr>\n",
       "  </tbody>\n",
       "</table>\n",
       "<p>152 rows × 2 columns</p>\n",
       "</div>"
      ],
      "text/plain": [
       "                    1st_component  2nd_component\n",
       "Cluster Country                                 \n",
       "0       Argentina       -0.256507      -1.325597\n",
       "        Brazil          -0.007166      -1.208196\n",
       "        China           -0.457115      -1.209180\n",
       "        Cyprus          -0.449523      -1.320876\n",
       "        Djibouti         0.173861      -1.180584\n",
       "...                           ...            ...\n",
       "9       Seychelles       1.470348      -0.968292\n",
       "        Suriname         1.833224      -0.856441\n",
       "        Uganda           1.855421      -1.649057\n",
       "        Vanuatu          2.195366      -0.632987\n",
       "        Zimbabwe         1.868596      -1.580970\n",
       "\n",
       "[152 rows x 2 columns]"
      ]
     },
     "metadata": {},
     "output_type": "display_data"
    },
    {
     "name": "stdout",
     "output_type": "stream",
     "text": [
      "Social-demographic Indicators\n"
     ]
    },
    {
     "data": {
      "text/html": [
       "<div>\n",
       "<style scoped>\n",
       "    .dataframe tbody tr th:only-of-type {\n",
       "        vertical-align: middle;\n",
       "    }\n",
       "\n",
       "    .dataframe tbody tr th {\n",
       "        vertical-align: top;\n",
       "    }\n",
       "\n",
       "    .dataframe thead th {\n",
       "        text-align: right;\n",
       "    }\n",
       "</style>\n",
       "<table border=\"1\" class=\"dataframe\">\n",
       "  <thead>\n",
       "    <tr style=\"text-align: right;\">\n",
       "      <th></th>\n",
       "      <th></th>\n",
       "      <th>Birth Rate</th>\n",
       "      <th>Death Rate</th>\n",
       "      <th>Homicides</th>\n",
       "      <th>Life Expectancy</th>\n",
       "      <th>Maternal Death Risk</th>\n",
       "      <th>Infant Mortality</th>\n",
       "      <th>% Population Growth</th>\n",
       "      <th>% Rural Population</th>\n",
       "      <th>Population</th>\n",
       "    </tr>\n",
       "    <tr>\n",
       "      <th>Cluster</th>\n",
       "      <th>Country</th>\n",
       "      <th></th>\n",
       "      <th></th>\n",
       "      <th></th>\n",
       "      <th></th>\n",
       "      <th></th>\n",
       "      <th></th>\n",
       "      <th></th>\n",
       "      <th></th>\n",
       "      <th></th>\n",
       "    </tr>\n",
       "  </thead>\n",
       "  <tbody>\n",
       "    <tr>\n",
       "      <th rowspan=\"5\" valign=\"top\">0</th>\n",
       "      <th>Bangladesh</th>\n",
       "      <td>-0.998701</td>\n",
       "      <td>-0.998701</td>\n",
       "      <td>-0.434331</td>\n",
       "      <td>0.998701</td>\n",
       "      <td>-0.995445</td>\n",
       "      <td>-0.998701</td>\n",
       "      <td>-0.941558</td>\n",
       "      <td>-0.998701</td>\n",
       "      <td>0.998701</td>\n",
       "    </tr>\n",
       "    <tr>\n",
       "      <th>Benin</th>\n",
       "      <td>-0.990909</td>\n",
       "      <td>-0.990909</td>\n",
       "      <td>0.000000</td>\n",
       "      <td>0.990909</td>\n",
       "      <td>-0.987627</td>\n",
       "      <td>-0.990909</td>\n",
       "      <td>-0.974026</td>\n",
       "      <td>-0.990909</td>\n",
       "      <td>0.990909</td>\n",
       "    </tr>\n",
       "    <tr>\n",
       "      <th>Guatemala</th>\n",
       "      <td>-0.998701</td>\n",
       "      <td>-0.998701</td>\n",
       "      <td>-0.435631</td>\n",
       "      <td>0.998701</td>\n",
       "      <td>-0.996748</td>\n",
       "      <td>-0.998701</td>\n",
       "      <td>-0.998701</td>\n",
       "      <td>-0.998701</td>\n",
       "      <td>0.998701</td>\n",
       "    </tr>\n",
       "    <tr>\n",
       "      <th>Haiti</th>\n",
       "      <td>-0.938961</td>\n",
       "      <td>-0.938961</td>\n",
       "      <td>0.000000</td>\n",
       "      <td>0.938961</td>\n",
       "      <td>-0.898376</td>\n",
       "      <td>-0.938961</td>\n",
       "      <td>-0.938961</td>\n",
       "      <td>-0.938961</td>\n",
       "      <td>0.938961</td>\n",
       "    </tr>\n",
       "    <tr>\n",
       "      <th>Honduras</th>\n",
       "      <td>-0.994805</td>\n",
       "      <td>-0.920779</td>\n",
       "      <td>0.000000</td>\n",
       "      <td>0.994805</td>\n",
       "      <td>-0.995445</td>\n",
       "      <td>-0.994805</td>\n",
       "      <td>-0.994805</td>\n",
       "      <td>-0.994805</td>\n",
       "      <td>0.994805</td>\n",
       "    </tr>\n",
       "    <tr>\n",
       "      <th>...</th>\n",
       "      <th>...</th>\n",
       "      <td>...</td>\n",
       "      <td>...</td>\n",
       "      <td>...</td>\n",
       "      <td>...</td>\n",
       "      <td>...</td>\n",
       "      <td>...</td>\n",
       "      <td>...</td>\n",
       "      <td>...</td>\n",
       "      <td>...</td>\n",
       "    </tr>\n",
       "    <tr>\n",
       "      <th rowspan=\"5\" valign=\"top\">9</th>\n",
       "      <th>Sweden</th>\n",
       "      <td>0.526424</td>\n",
       "      <td>-0.814575</td>\n",
       "      <td>0.000000</td>\n",
       "      <td>0.828571</td>\n",
       "      <td>-0.493162</td>\n",
       "      <td>-0.810306</td>\n",
       "      <td>0.677922</td>\n",
       "      <td>-0.815584</td>\n",
       "      <td>0.815584</td>\n",
       "    </tr>\n",
       "    <tr>\n",
       "      <th>Tajikistan</th>\n",
       "      <td>0.572727</td>\n",
       "      <td>-0.909091</td>\n",
       "      <td>0.000000</td>\n",
       "      <td>0.909091</td>\n",
       "      <td>-0.905542</td>\n",
       "      <td>-0.909091</td>\n",
       "      <td>0.889610</td>\n",
       "      <td>-0.909091</td>\n",
       "      <td>0.909091</td>\n",
       "    </tr>\n",
       "    <tr>\n",
       "      <th>Tunisia</th>\n",
       "      <td>0.827273</td>\n",
       "      <td>0.808055</td>\n",
       "      <td>0.000000</td>\n",
       "      <td>0.596104</td>\n",
       "      <td>0.000000</td>\n",
       "      <td>-0.596491</td>\n",
       "      <td>0.000000</td>\n",
       "      <td>-0.596104</td>\n",
       "      <td>0.596104</td>\n",
       "    </tr>\n",
       "    <tr>\n",
       "      <th>Turkmenistan</th>\n",
       "      <td>0.000000</td>\n",
       "      <td>-0.951948</td>\n",
       "      <td>0.000000</td>\n",
       "      <td>0.950649</td>\n",
       "      <td>-0.940722</td>\n",
       "      <td>-0.927435</td>\n",
       "      <td>0.825974</td>\n",
       "      <td>-0.950649</td>\n",
       "      <td>0.950649</td>\n",
       "    </tr>\n",
       "    <tr>\n",
       "      <th>Uzbekistan</th>\n",
       "      <td>0.607537</td>\n",
       "      <td>-0.675026</td>\n",
       "      <td>0.000000</td>\n",
       "      <td>0.850649</td>\n",
       "      <td>-0.812382</td>\n",
       "      <td>-0.850649</td>\n",
       "      <td>0.759740</td>\n",
       "      <td>-0.836364</td>\n",
       "      <td>0.850649</td>\n",
       "    </tr>\n",
       "  </tbody>\n",
       "</table>\n",
       "<p>153 rows × 9 columns</p>\n",
       "</div>"
      ],
      "text/plain": [
       "                      Birth Rate  Death Rate  Homicides  Life Expectancy  \\\n",
       "Cluster Country                                                            \n",
       "0       Bangladesh     -0.998701   -0.998701  -0.434331         0.998701   \n",
       "        Benin          -0.990909   -0.990909   0.000000         0.990909   \n",
       "        Guatemala      -0.998701   -0.998701  -0.435631         0.998701   \n",
       "        Haiti          -0.938961   -0.938961   0.000000         0.938961   \n",
       "        Honduras       -0.994805   -0.920779   0.000000         0.994805   \n",
       "...                          ...         ...        ...              ...   \n",
       "9       Sweden          0.526424   -0.814575   0.000000         0.828571   \n",
       "        Tajikistan      0.572727   -0.909091   0.000000         0.909091   \n",
       "        Tunisia         0.827273    0.808055   0.000000         0.596104   \n",
       "        Turkmenistan    0.000000   -0.951948   0.000000         0.950649   \n",
       "        Uzbekistan      0.607537   -0.675026   0.000000         0.850649   \n",
       "\n",
       "                      Maternal Death Risk  Infant Mortality  \\\n",
       "Cluster Country                                               \n",
       "0       Bangladesh              -0.995445         -0.998701   \n",
       "        Benin                   -0.987627         -0.990909   \n",
       "        Guatemala               -0.996748         -0.998701   \n",
       "        Haiti                   -0.898376         -0.938961   \n",
       "        Honduras                -0.995445         -0.994805   \n",
       "...                                   ...               ...   \n",
       "9       Sweden                  -0.493162         -0.810306   \n",
       "        Tajikistan              -0.905542         -0.909091   \n",
       "        Tunisia                  0.000000         -0.596491   \n",
       "        Turkmenistan            -0.940722         -0.927435   \n",
       "        Uzbekistan              -0.812382         -0.850649   \n",
       "\n",
       "                      % Population Growth  % Rural Population  Population  \n",
       "Cluster Country                                                            \n",
       "0       Bangladesh              -0.941558           -0.998701    0.998701  \n",
       "        Benin                   -0.974026           -0.990909    0.990909  \n",
       "        Guatemala               -0.998701           -0.998701    0.998701  \n",
       "        Haiti                   -0.938961           -0.938961    0.938961  \n",
       "        Honduras                -0.994805           -0.994805    0.994805  \n",
       "...                                   ...                 ...         ...  \n",
       "9       Sweden                   0.677922           -0.815584    0.815584  \n",
       "        Tajikistan               0.889610           -0.909091    0.909091  \n",
       "        Tunisia                  0.000000           -0.596104    0.596104  \n",
       "        Turkmenistan             0.825974           -0.950649    0.950649  \n",
       "        Uzbekistan               0.759740           -0.836364    0.850649  \n",
       "\n",
       "[153 rows x 9 columns]"
      ]
     },
     "metadata": {},
     "output_type": "display_data"
    },
    {
     "data": {
      "text/html": [
       "<div>\n",
       "<style scoped>\n",
       "    .dataframe tbody tr th:only-of-type {\n",
       "        vertical-align: middle;\n",
       "    }\n",
       "\n",
       "    .dataframe tbody tr th {\n",
       "        vertical-align: top;\n",
       "    }\n",
       "\n",
       "    .dataframe thead th {\n",
       "        text-align: right;\n",
       "    }\n",
       "</style>\n",
       "<table border=\"1\" class=\"dataframe\">\n",
       "  <thead>\n",
       "    <tr style=\"text-align: right;\">\n",
       "      <th></th>\n",
       "      <th></th>\n",
       "      <th>1st_component</th>\n",
       "      <th>2nd_component</th>\n",
       "    </tr>\n",
       "    <tr>\n",
       "      <th>Cluster</th>\n",
       "      <th>Country</th>\n",
       "      <th></th>\n",
       "      <th></th>\n",
       "    </tr>\n",
       "  </thead>\n",
       "  <tbody>\n",
       "    <tr>\n",
       "      <th rowspan=\"5\" valign=\"top\">0</th>\n",
       "      <th>Bangladesh</th>\n",
       "      <td>-1.371837</td>\n",
       "      <td>1.975124</td>\n",
       "    </tr>\n",
       "    <tr>\n",
       "      <th>Benin</th>\n",
       "      <td>-1.107272</td>\n",
       "      <td>1.819246</td>\n",
       "    </tr>\n",
       "    <tr>\n",
       "      <th>Guatemala</th>\n",
       "      <td>-1.350105</td>\n",
       "      <td>2.017671</td>\n",
       "    </tr>\n",
       "    <tr>\n",
       "      <th>Haiti</th>\n",
       "      <td>-1.006646</td>\n",
       "      <td>1.713296</td>\n",
       "    </tr>\n",
       "    <tr>\n",
       "      <th>Honduras</th>\n",
       "      <td>-1.070285</td>\n",
       "      <td>1.877543</td>\n",
       "    </tr>\n",
       "    <tr>\n",
       "      <th>...</th>\n",
       "      <th>...</th>\n",
       "      <td>...</td>\n",
       "      <td>...</td>\n",
       "    </tr>\n",
       "    <tr>\n",
       "      <th rowspan=\"5\" valign=\"top\">9</th>\n",
       "      <th>Sweden</th>\n",
       "      <td>1.483452</td>\n",
       "      <td>-0.556637</td>\n",
       "    </tr>\n",
       "    <tr>\n",
       "      <th>Tajikistan</th>\n",
       "      <td>1.597447</td>\n",
       "      <td>-0.574127</td>\n",
       "    </tr>\n",
       "    <tr>\n",
       "      <th>Tunisia</th>\n",
       "      <td>1.290931</td>\n",
       "      <td>-0.276487</td>\n",
       "    </tr>\n",
       "    <tr>\n",
       "      <th>Turkmenistan</th>\n",
       "      <td>1.550158</td>\n",
       "      <td>-0.766978</td>\n",
       "    </tr>\n",
       "    <tr>\n",
       "      <th>Uzbekistan</th>\n",
       "      <td>1.541510</td>\n",
       "      <td>-0.566478</td>\n",
       "    </tr>\n",
       "  </tbody>\n",
       "</table>\n",
       "<p>153 rows × 2 columns</p>\n",
       "</div>"
      ],
      "text/plain": [
       "                      1st_component  2nd_component\n",
       "Cluster Country                                   \n",
       "0       Bangladesh        -1.371837       1.975124\n",
       "        Benin             -1.107272       1.819246\n",
       "        Guatemala         -1.350105       2.017671\n",
       "        Haiti             -1.006646       1.713296\n",
       "        Honduras          -1.070285       1.877543\n",
       "...                             ...            ...\n",
       "9       Sweden             1.483452      -0.556637\n",
       "        Tajikistan         1.597447      -0.574127\n",
       "        Tunisia            1.290931      -0.276487\n",
       "        Turkmenistan       1.550158      -0.766978\n",
       "        Uzbekistan         1.541510      -0.566478\n",
       "\n",
       "[153 rows x 2 columns]"
      ]
     },
     "metadata": {},
     "output_type": "display_data"
    },
    {
     "name": "stdout",
     "output_type": "stream",
     "text": [
      "Equality Indicators\n"
     ]
    },
    {
     "data": {
      "text/html": [
       "<div>\n",
       "<style scoped>\n",
       "    .dataframe tbody tr th:only-of-type {\n",
       "        vertical-align: middle;\n",
       "    }\n",
       "\n",
       "    .dataframe tbody tr th {\n",
       "        vertical-align: top;\n",
       "    }\n",
       "\n",
       "    .dataframe thead th {\n",
       "        text-align: right;\n",
       "    }\n",
       "</style>\n",
       "<table border=\"1\" class=\"dataframe\">\n",
       "  <thead>\n",
       "    <tr style=\"text-align: right;\">\n",
       "      <th></th>\n",
       "      <th></th>\n",
       "      <th>% Female Employment</th>\n",
       "      <th>% Male Employment</th>\n",
       "      <th>Tertiary School Gender Parity</th>\n",
       "      <th>% Vulnerable female employment</th>\n",
       "      <th>% Vulnerable male employment</th>\n",
       "      <th>Civil Liberties</th>\n",
       "      <th>Freedom of Expression</th>\n",
       "    </tr>\n",
       "    <tr>\n",
       "      <th>Cluster</th>\n",
       "      <th>Country</th>\n",
       "      <th></th>\n",
       "      <th></th>\n",
       "      <th></th>\n",
       "      <th></th>\n",
       "      <th></th>\n",
       "      <th></th>\n",
       "      <th></th>\n",
       "    </tr>\n",
       "  </thead>\n",
       "  <tbody>\n",
       "    <tr>\n",
       "      <th rowspan=\"5\" valign=\"top\">0</th>\n",
       "      <th>Australia</th>\n",
       "      <td>0.736364</td>\n",
       "      <td>0.000000</td>\n",
       "      <td>0.000000</td>\n",
       "      <td>-0.806755</td>\n",
       "      <td>-0.852502</td>\n",
       "      <td>-0.745732</td>\n",
       "      <td>-0.661451</td>\n",
       "    </tr>\n",
       "    <tr>\n",
       "      <th>Bahrain</th>\n",
       "      <td>0.897403</td>\n",
       "      <td>0.000000</td>\n",
       "      <td>0.000000</td>\n",
       "      <td>0.000000</td>\n",
       "      <td>-0.769331</td>\n",
       "      <td>-0.828779</td>\n",
       "      <td>-0.752287</td>\n",
       "    </tr>\n",
       "    <tr>\n",
       "      <th>Bosnia and Herzegovina</th>\n",
       "      <td>0.736021</td>\n",
       "      <td>0.000000</td>\n",
       "      <td>0.000000</td>\n",
       "      <td>-0.591101</td>\n",
       "      <td>-0.839234</td>\n",
       "      <td>0.000000</td>\n",
       "      <td>-0.859690</td>\n",
       "    </tr>\n",
       "    <tr>\n",
       "      <th>Bulgaria</th>\n",
       "      <td>0.844156</td>\n",
       "      <td>0.810390</td>\n",
       "      <td>0.000000</td>\n",
       "      <td>-0.877193</td>\n",
       "      <td>-0.847678</td>\n",
       "      <td>-0.692060</td>\n",
       "      <td>-0.867079</td>\n",
       "    </tr>\n",
       "    <tr>\n",
       "      <th>Dominican Republic</th>\n",
       "      <td>0.964935</td>\n",
       "      <td>0.000000</td>\n",
       "      <td>0.000000</td>\n",
       "      <td>0.000000</td>\n",
       "      <td>0.000000</td>\n",
       "      <td>-0.809713</td>\n",
       "      <td>-0.931066</td>\n",
       "    </tr>\n",
       "    <tr>\n",
       "      <th>...</th>\n",
       "      <th>...</th>\n",
       "      <td>...</td>\n",
       "      <td>...</td>\n",
       "      <td>...</td>\n",
       "      <td>...</td>\n",
       "      <td>...</td>\n",
       "      <td>...</td>\n",
       "      <td>...</td>\n",
       "    </tr>\n",
       "    <tr>\n",
       "      <th rowspan=\"5\" valign=\"top\">8</th>\n",
       "      <th>Saudi Arabia</th>\n",
       "      <td>0.838752</td>\n",
       "      <td>0.862338</td>\n",
       "      <td>-0.793506</td>\n",
       "      <td>-0.707373</td>\n",
       "      <td>-0.923027</td>\n",
       "      <td>0.747887</td>\n",
       "      <td>0.000000</td>\n",
       "    </tr>\n",
       "    <tr>\n",
       "      <th>Solomon Islands</th>\n",
       "      <td>0.000000</td>\n",
       "      <td>0.745455</td>\n",
       "      <td>0.000000</td>\n",
       "      <td>-0.978889</td>\n",
       "      <td>-0.978889</td>\n",
       "      <td>0.567749</td>\n",
       "      <td>0.976387</td>\n",
       "    </tr>\n",
       "    <tr>\n",
       "      <th>Togo</th>\n",
       "      <td>0.816883</td>\n",
       "      <td>0.000000</td>\n",
       "      <td>0.000000</td>\n",
       "      <td>-0.819747</td>\n",
       "      <td>-0.987334</td>\n",
       "      <td>0.719680</td>\n",
       "      <td>0.551725</td>\n",
       "    </tr>\n",
       "    <tr>\n",
       "      <th>Tunisia</th>\n",
       "      <td>0.000000</td>\n",
       "      <td>0.000000</td>\n",
       "      <td>0.594805</td>\n",
       "      <td>-0.565768</td>\n",
       "      <td>-0.486522</td>\n",
       "      <td>0.584261</td>\n",
       "      <td>0.572468</td>\n",
       "    </tr>\n",
       "    <tr>\n",
       "      <th>Vanuatu</th>\n",
       "      <td>0.000000</td>\n",
       "      <td>0.000000</td>\n",
       "      <td>0.000000</td>\n",
       "      <td>-0.971095</td>\n",
       "      <td>-0.781423</td>\n",
       "      <td>0.827089</td>\n",
       "      <td>0.000000</td>\n",
       "    </tr>\n",
       "  </tbody>\n",
       "</table>\n",
       "<p>152 rows × 7 columns</p>\n",
       "</div>"
      ],
      "text/plain": [
       "                                % Female Employment  % Male Employment  \\\n",
       "Cluster Country                                                          \n",
       "0       Australia                          0.736364           0.000000   \n",
       "        Bahrain                            0.897403           0.000000   \n",
       "        Bosnia and Herzegovina             0.736021           0.000000   \n",
       "        Bulgaria                           0.844156           0.810390   \n",
       "        Dominican Republic                 0.964935           0.000000   \n",
       "...                                             ...                ...   \n",
       "8       Saudi Arabia                       0.838752           0.862338   \n",
       "        Solomon Islands                    0.000000           0.745455   \n",
       "        Togo                               0.816883           0.000000   \n",
       "        Tunisia                            0.000000           0.000000   \n",
       "        Vanuatu                            0.000000           0.000000   \n",
       "\n",
       "                                Tertiary School Gender Parity  \\\n",
       "Cluster Country                                                 \n",
       "0       Australia                                    0.000000   \n",
       "        Bahrain                                      0.000000   \n",
       "        Bosnia and Herzegovina                       0.000000   \n",
       "        Bulgaria                                     0.000000   \n",
       "        Dominican Republic                           0.000000   \n",
       "...                                                       ...   \n",
       "8       Saudi Arabia                                -0.793506   \n",
       "        Solomon Islands                              0.000000   \n",
       "        Togo                                         0.000000   \n",
       "        Tunisia                                      0.594805   \n",
       "        Vanuatu                                      0.000000   \n",
       "\n",
       "                                % Vulnerable female employment  \\\n",
       "Cluster Country                                                  \n",
       "0       Australia                                    -0.806755   \n",
       "        Bahrain                                       0.000000   \n",
       "        Bosnia and Herzegovina                       -0.591101   \n",
       "        Bulgaria                                     -0.877193   \n",
       "        Dominican Republic                            0.000000   \n",
       "...                                                        ...   \n",
       "8       Saudi Arabia                                 -0.707373   \n",
       "        Solomon Islands                              -0.978889   \n",
       "        Togo                                         -0.819747   \n",
       "        Tunisia                                      -0.565768   \n",
       "        Vanuatu                                      -0.971095   \n",
       "\n",
       "                                % Vulnerable male employment  Civil Liberties  \\\n",
       "Cluster Country                                                                 \n",
       "0       Australia                                  -0.852502        -0.745732   \n",
       "        Bahrain                                    -0.769331        -0.828779   \n",
       "        Bosnia and Herzegovina                     -0.839234         0.000000   \n",
       "        Bulgaria                                   -0.847678        -0.692060   \n",
       "        Dominican Republic                          0.000000        -0.809713   \n",
       "...                                                      ...              ...   \n",
       "8       Saudi Arabia                               -0.923027         0.747887   \n",
       "        Solomon Islands                            -0.978889         0.567749   \n",
       "        Togo                                       -0.987334         0.719680   \n",
       "        Tunisia                                    -0.486522         0.584261   \n",
       "        Vanuatu                                    -0.781423         0.827089   \n",
       "\n",
       "                                Freedom of Expression  \n",
       "Cluster Country                                        \n",
       "0       Australia                           -0.661451  \n",
       "        Bahrain                             -0.752287  \n",
       "        Bosnia and Herzegovina              -0.859690  \n",
       "        Bulgaria                            -0.867079  \n",
       "        Dominican Republic                  -0.931066  \n",
       "...                                               ...  \n",
       "8       Saudi Arabia                         0.000000  \n",
       "        Solomon Islands                      0.976387  \n",
       "        Togo                                 0.551725  \n",
       "        Tunisia                              0.572468  \n",
       "        Vanuatu                              0.000000  \n",
       "\n",
       "[152 rows x 7 columns]"
      ]
     },
     "metadata": {},
     "output_type": "display_data"
    },
    {
     "data": {
      "text/html": [
       "<div>\n",
       "<style scoped>\n",
       "    .dataframe tbody tr th:only-of-type {\n",
       "        vertical-align: middle;\n",
       "    }\n",
       "\n",
       "    .dataframe tbody tr th {\n",
       "        vertical-align: top;\n",
       "    }\n",
       "\n",
       "    .dataframe thead th {\n",
       "        text-align: right;\n",
       "    }\n",
       "</style>\n",
       "<table border=\"1\" class=\"dataframe\">\n",
       "  <thead>\n",
       "    <tr style=\"text-align: right;\">\n",
       "      <th></th>\n",
       "      <th></th>\n",
       "      <th>1st_component</th>\n",
       "      <th>2nd_component</th>\n",
       "    </tr>\n",
       "    <tr>\n",
       "      <th>Cluster</th>\n",
       "      <th>Country</th>\n",
       "      <th></th>\n",
       "      <th></th>\n",
       "    </tr>\n",
       "  </thead>\n",
       "  <tbody>\n",
       "    <tr>\n",
       "      <th rowspan=\"5\" valign=\"top\">0</th>\n",
       "      <th>Australia</th>\n",
       "      <td>0.605519</td>\n",
       "      <td>1.430606</td>\n",
       "    </tr>\n",
       "    <tr>\n",
       "      <th>Bahrain</th>\n",
       "      <td>0.812486</td>\n",
       "      <td>1.449514</td>\n",
       "    </tr>\n",
       "    <tr>\n",
       "      <th>Bosnia and Herzegovina</th>\n",
       "      <td>0.510395</td>\n",
       "      <td>1.373335</td>\n",
       "    </tr>\n",
       "    <tr>\n",
       "      <th>Bulgaria</th>\n",
       "      <td>0.594634</td>\n",
       "      <td>1.963376</td>\n",
       "    </tr>\n",
       "    <tr>\n",
       "      <th>Dominican Republic</th>\n",
       "      <td>0.976048</td>\n",
       "      <td>1.371520</td>\n",
       "    </tr>\n",
       "    <tr>\n",
       "      <th>...</th>\n",
       "      <th>...</th>\n",
       "      <td>...</td>\n",
       "      <td>...</td>\n",
       "    </tr>\n",
       "    <tr>\n",
       "      <th rowspan=\"5\" valign=\"top\">8</th>\n",
       "      <th>Saudi Arabia</th>\n",
       "      <td>-1.224067</td>\n",
       "      <td>1.370669</td>\n",
       "    </tr>\n",
       "    <tr>\n",
       "      <th>Solomon Islands</th>\n",
       "      <td>-0.836606</td>\n",
       "      <td>1.694166</td>\n",
       "    </tr>\n",
       "    <tr>\n",
       "      <th>Togo</th>\n",
       "      <td>-1.074734</td>\n",
       "      <td>1.573326</td>\n",
       "    </tr>\n",
       "    <tr>\n",
       "      <th>Tunisia</th>\n",
       "      <td>-0.652553</td>\n",
       "      <td>1.655662</td>\n",
       "    </tr>\n",
       "    <tr>\n",
       "      <th>Vanuatu</th>\n",
       "      <td>-0.841780</td>\n",
       "      <td>1.414670</td>\n",
       "    </tr>\n",
       "  </tbody>\n",
       "</table>\n",
       "<p>152 rows × 2 columns</p>\n",
       "</div>"
      ],
      "text/plain": [
       "                                1st_component  2nd_component\n",
       "Cluster Country                                             \n",
       "0       Australia                    0.605519       1.430606\n",
       "        Bahrain                      0.812486       1.449514\n",
       "        Bosnia and Herzegovina       0.510395       1.373335\n",
       "        Bulgaria                     0.594634       1.963376\n",
       "        Dominican Republic           0.976048       1.371520\n",
       "...                                       ...            ...\n",
       "8       Saudi Arabia                -1.224067       1.370669\n",
       "        Solomon Islands             -0.836606       1.694166\n",
       "        Togo                        -1.074734       1.573326\n",
       "        Tunisia                     -0.652553       1.655662\n",
       "        Vanuatu                     -0.841780       1.414670\n",
       "\n",
       "[152 rows x 2 columns]"
      ]
     },
     "metadata": {},
     "output_type": "display_data"
    },
    {
     "name": "stdout",
     "output_type": "stream",
     "text": [
      "All indicators\n"
     ]
    },
    {
     "data": {
      "text/html": [
       "<div>\n",
       "<style scoped>\n",
       "    .dataframe tbody tr th:only-of-type {\n",
       "        vertical-align: middle;\n",
       "    }\n",
       "\n",
       "    .dataframe tbody tr th {\n",
       "        vertical-align: top;\n",
       "    }\n",
       "\n",
       "    .dataframe thead th {\n",
       "        text-align: right;\n",
       "    }\n",
       "</style>\n",
       "<table border=\"1\" class=\"dataframe\">\n",
       "  <thead>\n",
       "    <tr style=\"text-align: right;\">\n",
       "      <th></th>\n",
       "      <th></th>\n",
       "      <th>AgriShareGDP</th>\n",
       "      <th>CreditToAgriFishForest</th>\n",
       "      <th>EmploymentRural</th>\n",
       "      <th>% Soldiers</th>\n",
       "      <th>Employment in industry</th>\n",
       "      <th>Employment in services</th>\n",
       "      <th>Birth Rate</th>\n",
       "      <th>Cost business start-up</th>\n",
       "      <th>Death Rate</th>\n",
       "      <th>Employment in agriculture</th>\n",
       "      <th>...</th>\n",
       "      <th>Researchers in R&amp;D</th>\n",
       "      <th>R&amp;D expenditure %GDP</th>\n",
       "      <th>% Rural Population</th>\n",
       "      <th>Tertiary School Gender Parity</th>\n",
       "      <th>% Vulnerable female employment</th>\n",
       "      <th>% Vulnerable male employment</th>\n",
       "      <th>Civil Liberties</th>\n",
       "      <th>Freedom of Expression</th>\n",
       "      <th>% Healthcare Investment</th>\n",
       "      <th>Population</th>\n",
       "    </tr>\n",
       "    <tr>\n",
       "      <th>Cluster</th>\n",
       "      <th>Country</th>\n",
       "      <th></th>\n",
       "      <th></th>\n",
       "      <th></th>\n",
       "      <th></th>\n",
       "      <th></th>\n",
       "      <th></th>\n",
       "      <th></th>\n",
       "      <th></th>\n",
       "      <th></th>\n",
       "      <th></th>\n",
       "      <th></th>\n",
       "      <th></th>\n",
       "      <th></th>\n",
       "      <th></th>\n",
       "      <th></th>\n",
       "      <th></th>\n",
       "      <th></th>\n",
       "      <th></th>\n",
       "      <th></th>\n",
       "      <th></th>\n",
       "      <th></th>\n",
       "    </tr>\n",
       "  </thead>\n",
       "  <tbody>\n",
       "    <tr>\n",
       "      <th rowspan=\"5\" valign=\"top\">0</th>\n",
       "      <th>Albania</th>\n",
       "      <td>-0.486522</td>\n",
       "      <td>0.000000</td>\n",
       "      <td>0.0</td>\n",
       "      <td>-0.782836</td>\n",
       "      <td>0.802469</td>\n",
       "      <td>0.766483</td>\n",
       "      <td>-0.854823</td>\n",
       "      <td>-0.767682</td>\n",
       "      <td>0.885714</td>\n",
       "      <td>-0.858720</td>\n",
       "      <td>...</td>\n",
       "      <td>0.000000</td>\n",
       "      <td>0.000000</td>\n",
       "      <td>-0.889610</td>\n",
       "      <td>0.000000</td>\n",
       "      <td>0.000000</td>\n",
       "      <td>-0.697629</td>\n",
       "      <td>0.796368</td>\n",
       "      <td>0.000000</td>\n",
       "      <td>0.000000</td>\n",
       "      <td>-0.888312</td>\n",
       "    </tr>\n",
       "    <tr>\n",
       "      <th>Algeria</th>\n",
       "      <td>0.000000</td>\n",
       "      <td>0.000000</td>\n",
       "      <td>0.0</td>\n",
       "      <td>-0.755527</td>\n",
       "      <td>0.853152</td>\n",
       "      <td>0.753491</td>\n",
       "      <td>0.874026</td>\n",
       "      <td>-0.725858</td>\n",
       "      <td>0.000000</td>\n",
       "      <td>-0.750487</td>\n",
       "      <td>...</td>\n",
       "      <td>0.000000</td>\n",
       "      <td>0.000000</td>\n",
       "      <td>-0.750649</td>\n",
       "      <td>0.738578</td>\n",
       "      <td>-0.758688</td>\n",
       "      <td>0.000000</td>\n",
       "      <td>0.696313</td>\n",
       "      <td>0.000000</td>\n",
       "      <td>0.629927</td>\n",
       "      <td>0.750649</td>\n",
       "    </tr>\n",
       "    <tr>\n",
       "      <th>Armenia</th>\n",
       "      <td>-0.752842</td>\n",
       "      <td>0.000000</td>\n",
       "      <td>0.0</td>\n",
       "      <td>0.000000</td>\n",
       "      <td>0.506008</td>\n",
       "      <td>0.864566</td>\n",
       "      <td>0.000000</td>\n",
       "      <td>-0.886435</td>\n",
       "      <td>0.846753</td>\n",
       "      <td>-0.856772</td>\n",
       "      <td>...</td>\n",
       "      <td>0.000000</td>\n",
       "      <td>-0.544156</td>\n",
       "      <td>0.768831</td>\n",
       "      <td>0.000000</td>\n",
       "      <td>-0.894446</td>\n",
       "      <td>-0.808704</td>\n",
       "      <td>0.795184</td>\n",
       "      <td>0.462043</td>\n",
       "      <td>0.000000</td>\n",
       "      <td>-0.520779</td>\n",
       "    </tr>\n",
       "    <tr>\n",
       "      <th>Bosnia and Herzegovina</th>\n",
       "      <td>-0.829490</td>\n",
       "      <td>0.000000</td>\n",
       "      <td>0.0</td>\n",
       "      <td>-0.462939</td>\n",
       "      <td>0.507472</td>\n",
       "      <td>0.648262</td>\n",
       "      <td>-0.767231</td>\n",
       "      <td>-0.829863</td>\n",
       "      <td>0.845455</td>\n",
       "      <td>-0.754227</td>\n",
       "      <td>...</td>\n",
       "      <td>0.000000</td>\n",
       "      <td>0.618896</td>\n",
       "      <td>-0.845455</td>\n",
       "      <td>0.000000</td>\n",
       "      <td>-0.591101</td>\n",
       "      <td>-0.839234</td>\n",
       "      <td>0.000000</td>\n",
       "      <td>-0.859690</td>\n",
       "      <td>0.698928</td>\n",
       "      <td>-0.722078</td>\n",
       "    </tr>\n",
       "    <tr>\n",
       "      <th>Bulgaria</th>\n",
       "      <td>-0.811302</td>\n",
       "      <td>0.886652</td>\n",
       "      <td>0.0</td>\n",
       "      <td>-0.898570</td>\n",
       "      <td>-0.534763</td>\n",
       "      <td>0.754141</td>\n",
       "      <td>0.000000</td>\n",
       "      <td>-0.919524</td>\n",
       "      <td>0.762066</td>\n",
       "      <td>-0.845354</td>\n",
       "      <td>...</td>\n",
       "      <td>0.922078</td>\n",
       "      <td>0.676623</td>\n",
       "      <td>-0.923377</td>\n",
       "      <td>0.000000</td>\n",
       "      <td>-0.877193</td>\n",
       "      <td>-0.847678</td>\n",
       "      <td>-0.692060</td>\n",
       "      <td>-0.867079</td>\n",
       "      <td>0.539786</td>\n",
       "      <td>-0.923377</td>\n",
       "    </tr>\n",
       "    <tr>\n",
       "      <th>...</th>\n",
       "      <th>...</th>\n",
       "      <td>...</td>\n",
       "      <td>...</td>\n",
       "      <td>...</td>\n",
       "      <td>...</td>\n",
       "      <td>...</td>\n",
       "      <td>...</td>\n",
       "      <td>...</td>\n",
       "      <td>...</td>\n",
       "      <td>...</td>\n",
       "      <td>...</td>\n",
       "      <td>...</td>\n",
       "      <td>...</td>\n",
       "      <td>...</td>\n",
       "      <td>...</td>\n",
       "      <td>...</td>\n",
       "      <td>...</td>\n",
       "      <td>...</td>\n",
       "      <td>...</td>\n",
       "      <td>...</td>\n",
       "      <td>...</td>\n",
       "      <td>...</td>\n",
       "    </tr>\n",
       "    <tr>\n",
       "      <th rowspan=\"5\" valign=\"top\">11</th>\n",
       "      <th>Mozambique</th>\n",
       "      <td>0.560572</td>\n",
       "      <td>-0.889250</td>\n",
       "      <td>0.0</td>\n",
       "      <td>-0.444734</td>\n",
       "      <td>0.830789</td>\n",
       "      <td>0.830789</td>\n",
       "      <td>-0.828571</td>\n",
       "      <td>-0.597593</td>\n",
       "      <td>-0.828571</td>\n",
       "      <td>-0.830789</td>\n",
       "      <td>...</td>\n",
       "      <td>0.000000</td>\n",
       "      <td>0.000000</td>\n",
       "      <td>-0.828571</td>\n",
       "      <td>0.677504</td>\n",
       "      <td>-0.825593</td>\n",
       "      <td>-0.830789</td>\n",
       "      <td>-0.446875</td>\n",
       "      <td>0.000000</td>\n",
       "      <td>-0.814955</td>\n",
       "      <td>0.828571</td>\n",
       "    </tr>\n",
       "    <tr>\n",
       "      <th>Panama</th>\n",
       "      <td>-0.990581</td>\n",
       "      <td>0.984066</td>\n",
       "      <td>0.0</td>\n",
       "      <td>0.000000</td>\n",
       "      <td>0.500812</td>\n",
       "      <td>0.000000</td>\n",
       "      <td>-0.980519</td>\n",
       "      <td>-0.979478</td>\n",
       "      <td>0.980519</td>\n",
       "      <td>-0.707373</td>\n",
       "      <td>...</td>\n",
       "      <td>0.000000</td>\n",
       "      <td>-0.738766</td>\n",
       "      <td>-0.980519</td>\n",
       "      <td>-0.579097</td>\n",
       "      <td>0.863267</td>\n",
       "      <td>0.000000</td>\n",
       "      <td>0.000000</td>\n",
       "      <td>-0.842040</td>\n",
       "      <td>0.434698</td>\n",
       "      <td>0.980519</td>\n",
       "    </tr>\n",
       "    <tr>\n",
       "      <th>Sierra Leone</th>\n",
       "      <td>0.621630</td>\n",
       "      <td>0.000000</td>\n",
       "      <td>0.0</td>\n",
       "      <td>-0.482445</td>\n",
       "      <td>0.000000</td>\n",
       "      <td>0.893797</td>\n",
       "      <td>-0.889610</td>\n",
       "      <td>-0.892805</td>\n",
       "      <td>-0.889610</td>\n",
       "      <td>-0.893797</td>\n",
       "      <td>...</td>\n",
       "      <td>0.000000</td>\n",
       "      <td>0.000000</td>\n",
       "      <td>-0.889610</td>\n",
       "      <td>0.000000</td>\n",
       "      <td>-0.828841</td>\n",
       "      <td>-0.949659</td>\n",
       "      <td>0.800407</td>\n",
       "      <td>0.000000</td>\n",
       "      <td>-0.628330</td>\n",
       "      <td>0.889610</td>\n",
       "    </tr>\n",
       "    <tr>\n",
       "      <th>Sri Lanka</th>\n",
       "      <td>-0.602144</td>\n",
       "      <td>0.637869</td>\n",
       "      <td>0.0</td>\n",
       "      <td>0.595579</td>\n",
       "      <td>0.966548</td>\n",
       "      <td>0.975641</td>\n",
       "      <td>-0.925974</td>\n",
       "      <td>-0.942333</td>\n",
       "      <td>0.442857</td>\n",
       "      <td>-0.983436</td>\n",
       "      <td>...</td>\n",
       "      <td>0.000000</td>\n",
       "      <td>0.000000</td>\n",
       "      <td>0.000000</td>\n",
       "      <td>0.000000</td>\n",
       "      <td>0.000000</td>\n",
       "      <td>0.000000</td>\n",
       "      <td>0.614086</td>\n",
       "      <td>0.000000</td>\n",
       "      <td>-0.591293</td>\n",
       "      <td>0.981818</td>\n",
       "    </tr>\n",
       "    <tr>\n",
       "      <th>Tonga</th>\n",
       "      <td>0.000000</td>\n",
       "      <td>0.000000</td>\n",
       "      <td>0.0</td>\n",
       "      <td>0.000000</td>\n",
       "      <td>0.000000</td>\n",
       "      <td>0.943813</td>\n",
       "      <td>-0.884416</td>\n",
       "      <td>-0.897954</td>\n",
       "      <td>0.694805</td>\n",
       "      <td>-0.950309</td>\n",
       "      <td>...</td>\n",
       "      <td>0.000000</td>\n",
       "      <td>0.000000</td>\n",
       "      <td>0.000000</td>\n",
       "      <td>0.000000</td>\n",
       "      <td>-0.943813</td>\n",
       "      <td>-0.912634</td>\n",
       "      <td>0.000000</td>\n",
       "      <td>0.000000</td>\n",
       "      <td>-0.799870</td>\n",
       "      <td>0.741558</td>\n",
       "    </tr>\n",
       "  </tbody>\n",
       "</table>\n",
       "<p>153 rows × 28 columns</p>\n",
       "</div>"
      ],
      "text/plain": [
       "                                AgriShareGDP  CreditToAgriFishForest  \\\n",
       "Cluster Country                                                        \n",
       "0       Albania                    -0.486522                0.000000   \n",
       "        Algeria                     0.000000                0.000000   \n",
       "        Armenia                    -0.752842                0.000000   \n",
       "        Bosnia and Herzegovina     -0.829490                0.000000   \n",
       "        Bulgaria                   -0.811302                0.886652   \n",
       "...                                      ...                     ...   \n",
       "11      Mozambique                  0.560572               -0.889250   \n",
       "        Panama                     -0.990581                0.984066   \n",
       "        Sierra Leone                0.621630                0.000000   \n",
       "        Sri Lanka                  -0.602144                0.637869   \n",
       "        Tonga                       0.000000                0.000000   \n",
       "\n",
       "                                EmploymentRural  % Soldiers  \\\n",
       "Cluster Country                                               \n",
       "0       Albania                             0.0   -0.782836   \n",
       "        Algeria                             0.0   -0.755527   \n",
       "        Armenia                             0.0    0.000000   \n",
       "        Bosnia and Herzegovina              0.0   -0.462939   \n",
       "        Bulgaria                            0.0   -0.898570   \n",
       "...                                         ...         ...   \n",
       "11      Mozambique                          0.0   -0.444734   \n",
       "        Panama                              0.0    0.000000   \n",
       "        Sierra Leone                        0.0   -0.482445   \n",
       "        Sri Lanka                           0.0    0.595579   \n",
       "        Tonga                               0.0    0.000000   \n",
       "\n",
       "                                Employment in industry  \\\n",
       "Cluster Country                                          \n",
       "0       Albania                               0.802469   \n",
       "        Algeria                               0.853152   \n",
       "        Armenia                               0.506008   \n",
       "        Bosnia and Herzegovina                0.507472   \n",
       "        Bulgaria                             -0.534763   \n",
       "...                                                ...   \n",
       "11      Mozambique                            0.830789   \n",
       "        Panama                                0.500812   \n",
       "        Sierra Leone                          0.000000   \n",
       "        Sri Lanka                             0.966548   \n",
       "        Tonga                                 0.000000   \n",
       "\n",
       "                                Employment in services  Birth Rate  \\\n",
       "Cluster Country                                                      \n",
       "0       Albania                               0.766483   -0.854823   \n",
       "        Algeria                               0.753491    0.874026   \n",
       "        Armenia                               0.864566    0.000000   \n",
       "        Bosnia and Herzegovina                0.648262   -0.767231   \n",
       "        Bulgaria                              0.754141    0.000000   \n",
       "...                                                ...         ...   \n",
       "11      Mozambique                            0.830789   -0.828571   \n",
       "        Panama                                0.000000   -0.980519   \n",
       "        Sierra Leone                          0.893797   -0.889610   \n",
       "        Sri Lanka                             0.975641   -0.925974   \n",
       "        Tonga                                 0.943813   -0.884416   \n",
       "\n",
       "                                Cost business start-up  Death Rate  \\\n",
       "Cluster Country                                                      \n",
       "0       Albania                              -0.767682    0.885714   \n",
       "        Algeria                              -0.725858    0.000000   \n",
       "        Armenia                              -0.886435    0.846753   \n",
       "        Bosnia and Herzegovina               -0.829863    0.845455   \n",
       "        Bulgaria                             -0.919524    0.762066   \n",
       "...                                                ...         ...   \n",
       "11      Mozambique                           -0.597593   -0.828571   \n",
       "        Panama                               -0.979478    0.980519   \n",
       "        Sierra Leone                         -0.892805   -0.889610   \n",
       "        Sri Lanka                            -0.942333    0.442857   \n",
       "        Tonga                                -0.897954    0.694805   \n",
       "\n",
       "                                Employment in agriculture  ...  \\\n",
       "Cluster Country                                            ...   \n",
       "0       Albania                                 -0.858720  ...   \n",
       "        Algeria                                 -0.750487  ...   \n",
       "        Armenia                                 -0.856772  ...   \n",
       "        Bosnia and Herzegovina                  -0.754227  ...   \n",
       "        Bulgaria                                -0.845354  ...   \n",
       "...                                                   ...  ...   \n",
       "11      Mozambique                              -0.830789  ...   \n",
       "        Panama                                  -0.707373  ...   \n",
       "        Sierra Leone                            -0.893797  ...   \n",
       "        Sri Lanka                               -0.983436  ...   \n",
       "        Tonga                                   -0.950309  ...   \n",
       "\n",
       "                                Researchers in R&D  R&D expenditure %GDP  \\\n",
       "Cluster Country                                                            \n",
       "0       Albania                           0.000000              0.000000   \n",
       "        Algeria                           0.000000              0.000000   \n",
       "        Armenia                           0.000000             -0.544156   \n",
       "        Bosnia and Herzegovina            0.000000              0.618896   \n",
       "        Bulgaria                          0.922078              0.676623   \n",
       "...                                            ...                   ...   \n",
       "11      Mozambique                        0.000000              0.000000   \n",
       "        Panama                            0.000000             -0.738766   \n",
       "        Sierra Leone                      0.000000              0.000000   \n",
       "        Sri Lanka                         0.000000              0.000000   \n",
       "        Tonga                             0.000000              0.000000   \n",
       "\n",
       "                                % Rural Population  \\\n",
       "Cluster Country                                      \n",
       "0       Albania                          -0.889610   \n",
       "        Algeria                          -0.750649   \n",
       "        Armenia                           0.768831   \n",
       "        Bosnia and Herzegovina           -0.845455   \n",
       "        Bulgaria                         -0.923377   \n",
       "...                                            ...   \n",
       "11      Mozambique                       -0.828571   \n",
       "        Panama                           -0.980519   \n",
       "        Sierra Leone                     -0.889610   \n",
       "        Sri Lanka                         0.000000   \n",
       "        Tonga                             0.000000   \n",
       "\n",
       "                                Tertiary School Gender Parity  \\\n",
       "Cluster Country                                                 \n",
       "0       Albania                                      0.000000   \n",
       "        Algeria                                      0.738578   \n",
       "        Armenia                                      0.000000   \n",
       "        Bosnia and Herzegovina                       0.000000   \n",
       "        Bulgaria                                     0.000000   \n",
       "...                                                       ...   \n",
       "11      Mozambique                                   0.677504   \n",
       "        Panama                                      -0.579097   \n",
       "        Sierra Leone                                 0.000000   \n",
       "        Sri Lanka                                    0.000000   \n",
       "        Tonga                                        0.000000   \n",
       "\n",
       "                                % Vulnerable female employment  \\\n",
       "Cluster Country                                                  \n",
       "0       Albania                                       0.000000   \n",
       "        Algeria                                      -0.758688   \n",
       "        Armenia                                      -0.894446   \n",
       "        Bosnia and Herzegovina                       -0.591101   \n",
       "        Bulgaria                                     -0.877193   \n",
       "...                                                        ...   \n",
       "11      Mozambique                                   -0.825593   \n",
       "        Panama                                        0.863267   \n",
       "        Sierra Leone                                 -0.828841   \n",
       "        Sri Lanka                                     0.000000   \n",
       "        Tonga                                        -0.943813   \n",
       "\n",
       "                                % Vulnerable male employment  Civil Liberties  \\\n",
       "Cluster Country                                                                 \n",
       "0       Albania                                    -0.697629         0.796368   \n",
       "        Algeria                                     0.000000         0.696313   \n",
       "        Armenia                                    -0.808704         0.795184   \n",
       "        Bosnia and Herzegovina                     -0.839234         0.000000   \n",
       "        Bulgaria                                   -0.847678        -0.692060   \n",
       "...                                                      ...              ...   \n",
       "11      Mozambique                                 -0.830789        -0.446875   \n",
       "        Panama                                      0.000000         0.000000   \n",
       "        Sierra Leone                               -0.949659         0.800407   \n",
       "        Sri Lanka                                   0.000000         0.614086   \n",
       "        Tonga                                      -0.912634         0.000000   \n",
       "\n",
       "                                Freedom of Expression  \\\n",
       "Cluster Country                                         \n",
       "0       Albania                              0.000000   \n",
       "        Algeria                              0.000000   \n",
       "        Armenia                              0.462043   \n",
       "        Bosnia and Herzegovina              -0.859690   \n",
       "        Bulgaria                            -0.867079   \n",
       "...                                               ...   \n",
       "11      Mozambique                           0.000000   \n",
       "        Panama                              -0.842040   \n",
       "        Sierra Leone                         0.000000   \n",
       "        Sri Lanka                            0.000000   \n",
       "        Tonga                                0.000000   \n",
       "\n",
       "                                % Healthcare Investment  Population  \n",
       "Cluster Country                                                      \n",
       "0       Albania                                0.000000   -0.888312  \n",
       "        Algeria                                0.629927    0.750649  \n",
       "        Armenia                                0.000000   -0.520779  \n",
       "        Bosnia and Herzegovina                 0.698928   -0.722078  \n",
       "        Bulgaria                               0.539786   -0.923377  \n",
       "...                                                 ...         ...  \n",
       "11      Mozambique                            -0.814955    0.828571  \n",
       "        Panama                                 0.434698    0.980519  \n",
       "        Sierra Leone                          -0.628330    0.889610  \n",
       "        Sri Lanka                             -0.591293    0.981818  \n",
       "        Tonga                                 -0.799870    0.741558  \n",
       "\n",
       "[153 rows x 28 columns]"
      ]
     },
     "metadata": {},
     "output_type": "display_data"
    },
    {
     "data": {
      "text/html": [
       "<div>\n",
       "<style scoped>\n",
       "    .dataframe tbody tr th:only-of-type {\n",
       "        vertical-align: middle;\n",
       "    }\n",
       "\n",
       "    .dataframe tbody tr th {\n",
       "        vertical-align: top;\n",
       "    }\n",
       "\n",
       "    .dataframe thead th {\n",
       "        text-align: right;\n",
       "    }\n",
       "</style>\n",
       "<table border=\"1\" class=\"dataframe\">\n",
       "  <thead>\n",
       "    <tr style=\"text-align: right;\">\n",
       "      <th></th>\n",
       "      <th></th>\n",
       "      <th>1st_component</th>\n",
       "      <th>2nd_component</th>\n",
       "    </tr>\n",
       "    <tr>\n",
       "      <th>Cluster</th>\n",
       "      <th>Country</th>\n",
       "      <th></th>\n",
       "      <th></th>\n",
       "    </tr>\n",
       "  </thead>\n",
       "  <tbody>\n",
       "    <tr>\n",
       "      <th rowspan=\"5\" valign=\"top\">0</th>\n",
       "      <th>Albania</th>\n",
       "      <td>0.362002</td>\n",
       "      <td>1.479473</td>\n",
       "    </tr>\n",
       "    <tr>\n",
       "      <th>Algeria</th>\n",
       "      <td>0.408015</td>\n",
       "      <td>1.939408</td>\n",
       "    </tr>\n",
       "    <tr>\n",
       "      <th>Armenia</th>\n",
       "      <td>0.315896</td>\n",
       "      <td>1.599961</td>\n",
       "    </tr>\n",
       "    <tr>\n",
       "      <th>Bosnia and Herzegovina</th>\n",
       "      <td>0.404866</td>\n",
       "      <td>1.347462</td>\n",
       "    </tr>\n",
       "    <tr>\n",
       "      <th>Bulgaria</th>\n",
       "      <td>0.419763</td>\n",
       "      <td>1.155555</td>\n",
       "    </tr>\n",
       "    <tr>\n",
       "      <th>...</th>\n",
       "      <th>...</th>\n",
       "      <td>...</td>\n",
       "      <td>...</td>\n",
       "    </tr>\n",
       "    <tr>\n",
       "      <th rowspan=\"5\" valign=\"top\">9</th>\n",
       "      <th>Sao Tome and Principe</th>\n",
       "      <td>0.374800</td>\n",
       "      <td>-0.685928</td>\n",
       "    </tr>\n",
       "    <tr>\n",
       "      <th>Solomon Islands</th>\n",
       "      <td>0.461921</td>\n",
       "      <td>-0.815143</td>\n",
       "    </tr>\n",
       "    <tr>\n",
       "      <th>Togo</th>\n",
       "      <td>0.374121</td>\n",
       "      <td>-0.615493</td>\n",
       "    </tr>\n",
       "    <tr>\n",
       "      <th>United Arab Emirates</th>\n",
       "      <td>0.579897</td>\n",
       "      <td>-0.276831</td>\n",
       "    </tr>\n",
       "    <tr>\n",
       "      <th>Vanuatu</th>\n",
       "      <td>0.611540</td>\n",
       "      <td>-0.838378</td>\n",
       "    </tr>\n",
       "  </tbody>\n",
       "</table>\n",
       "<p>153 rows × 2 columns</p>\n",
       "</div>"
      ],
      "text/plain": [
       "                                1st_component  2nd_component\n",
       "Cluster Country                                             \n",
       "0       Albania                      0.362002       1.479473\n",
       "        Algeria                      0.408015       1.939408\n",
       "        Armenia                      0.315896       1.599961\n",
       "        Bosnia and Herzegovina       0.404866       1.347462\n",
       "        Bulgaria                     0.419763       1.155555\n",
       "...                                       ...            ...\n",
       "9       Sao Tome and Principe        0.374800      -0.685928\n",
       "        Solomon Islands              0.461921      -0.815143\n",
       "        Togo                         0.374121      -0.615493\n",
       "        United Arab Emirates         0.579897      -0.276831\n",
       "        Vanuatu                      0.611540      -0.838378\n",
       "\n",
       "[153 rows x 2 columns]"
      ]
     },
     "metadata": {},
     "output_type": "display_data"
    }
   ],
   "source": [
    "cluster_folder = os.getcwd() + '/Output/Cluster/'\n",
    "\n",
    "if not os.path.exists(cluster_folder):\n",
    "            os.makedirs(cluster_folder)\n",
    "\n",
    "for ind in ind_dict:\n",
    "    print(ind)\n",
    "    df = df_dict[ind]\n",
    "    df = df.set_index([col_cluster, df.index]).sort_index()\n",
    "    df.to_csv(cluster_folder + ind + '.csv')\n",
    "    display(df)\n",
    "    comp_df = comp_dict[ind]\n",
    "    comp_df = comp_df.set_index([col_cluster, comp_df.index]).sort_index()\n",
    "    display(comp_df)\n",
    "    comp_df.to_csv(cluster_folder + ind + '_Comp.csv')\n"
   ]
  },
  {
   "cell_type": "markdown",
   "metadata": {},
   "source": [
    "## VENN DIAGRAM\n",
    "\n",
    "Finally as a more visual way to represent the clustering, we show a Venn diagram for any given country so we can observe all the countries that are related to it based on the different indicators group.\n",
    "\n",
    "NOTE: the central intersection does not correspond to the all indicators clustering, as they have obtained by different methods. The intersection is more restrictive and contains fewer countries than the all indicators group."
   ]
  },
  {
   "cell_type": "code",
   "execution_count": 9,
   "metadata": {},
   "outputs": [
    {
     "data": {
      "application/vnd.jupyter.widget-view+json": {
       "model_id": "59c9869d51b14b4cbc78d28fdeb70e17",
       "version_major": 2,
       "version_minor": 0
      },
      "text/plain": [
       "interactive(children=(Dropdown(description='Country', index=133, options=('Afghanistan', 'Albania', 'Algeria',…"
      ]
     },
     "metadata": {},
     "output_type": "display_data"
    }
   ],
   "source": [
    "def VennOut(Country, df_dict):\n",
    "    try:\n",
    "        set_econ = set(df_dict[econ_ind].loc[lambda df: df[col_cluster] == df.loc[Country, col_cluster]].index.to_list())\n",
    "        set_socdem = set(df_dict[socdem_ind].loc[lambda df: df[col_cluster] == df.loc[Country, col_cluster]].index.to_list())\n",
    "        set_eq = set(df_dict[eq_ind].loc[lambda df: df[col_cluster] == df.loc[Country, col_cluster]].index.to_list())\n",
    "\n",
    "        venn = venn3([set_econ, set_socdem, set_eq], (econ_ind, socdem_ind, eq_ind))\n",
    "\n",
    "        venn.get_label_by_id('100').set_text('\\n'.join(set_econ - set_socdem - set_eq)) # Only econ\n",
    "        venn.get_label_by_id('010').set_text('\\n'.join(set_socdem - set_econ - set_eq)) # Only socdem\n",
    "        venn.get_label_by_id('001').set_text('\\n'.join(set_eq - set_econ - set_socdem)) # Only eq\n",
    "\n",
    "        # The three pair-intersections is guaranteed only if there is an intersection of the three groups.\n",
    "        if len(set_econ & set_socdem & set_eq):\n",
    "            venn.get_label_by_id('111').set_text('\\n'.join(set_econ & set_socdem & set_eq))\n",
    "            venn.get_label_by_id('110').set_text('\\n'.join(set_econ & set_socdem - set_eq))\n",
    "            venn.get_label_by_id('101').set_text('\\n'.join(set_econ & set_eq - set_socdem))\n",
    "            venn.get_label_by_id('011').set_text('\\n'.join(set_socdem & set_eq - set_econ))\n",
    "        else:\n",
    "            # If no center, check the intersections that do exist.\n",
    "            if len(set_econ & set_socdem - set_eq):\n",
    "                venn.get_label_by_id('110').set_text('\\n'.join(set_econ & set_socdem - set_eq))\n",
    "            if len(set_econ & set_eq - set_socdem):\n",
    "                venn.get_label_by_id('101').set_text('\\n'.join(set_econ & set_eq - set_socdem))\n",
    "            if len(set_socdem & set_eq - set_econ):\n",
    "                venn.get_label_by_id('011').set_text('\\n'.join(set_socdem & set_eq - set_econ))\n",
    "\n",
    "        plt.rcParams[\"figure.figsize\"] = (12, 12)\n",
    "        plt.show()\n",
    "\n",
    "    except:\n",
    "        return print('No indicators available for this country.')\n",
    "\n",
    "\n",
    "@interact(\n",
    "    Country = sort(corr_df.index.tolist()))\n",
    "\n",
    "def g(Country = 'Spain'):\n",
    "    return VennOut(Country, df_dict)"
   ]
  },
  {
   "cell_type": "code",
   "execution_count": 10,
   "metadata": {},
   "outputs": [
    {
     "data": {
      "text/html": [
       "<div>\n",
       "<style scoped>\n",
       "    .dataframe tbody tr th:only-of-type {\n",
       "        vertical-align: middle;\n",
       "    }\n",
       "\n",
       "    .dataframe tbody tr th {\n",
       "        vertical-align: top;\n",
       "    }\n",
       "\n",
       "    .dataframe thead th {\n",
       "        text-align: right;\n",
       "    }\n",
       "</style>\n",
       "<table border=\"1\" class=\"dataframe\">\n",
       "  <thead>\n",
       "    <tr style=\"text-align: right;\">\n",
       "      <th></th>\n",
       "      <th>AgriShareGDP</th>\n",
       "      <th>CreditToAgriFishForest</th>\n",
       "      <th>EmploymentRural</th>\n",
       "      <th>% Soldiers</th>\n",
       "      <th>Employment in industry</th>\n",
       "      <th>Employment in services</th>\n",
       "      <th>Cost business start-up</th>\n",
       "      <th>Employment in agriculture</th>\n",
       "      <th>% Education Expenditure</th>\n",
       "      <th>Researchers in R&amp;D</th>\n",
       "      <th>R&amp;D expenditure %GDP</th>\n",
       "      <th>% Healthcare Investment</th>\n",
       "      <th>Cluster</th>\n",
       "    </tr>\n",
       "    <tr>\n",
       "      <th>Country</th>\n",
       "      <th></th>\n",
       "      <th></th>\n",
       "      <th></th>\n",
       "      <th></th>\n",
       "      <th></th>\n",
       "      <th></th>\n",
       "      <th></th>\n",
       "      <th></th>\n",
       "      <th></th>\n",
       "      <th></th>\n",
       "      <th></th>\n",
       "      <th></th>\n",
       "      <th></th>\n",
       "    </tr>\n",
       "  </thead>\n",
       "  <tbody>\n",
       "    <tr>\n",
       "      <th>Afghanistan</th>\n",
       "      <td>-0.864566</td>\n",
       "      <td>0.000000</td>\n",
       "      <td>0.0</td>\n",
       "      <td>0.000000</td>\n",
       "      <td>0.910685</td>\n",
       "      <td>0.911984</td>\n",
       "      <td>-0.736206</td>\n",
       "      <td>-0.910685</td>\n",
       "      <td>0.000000</td>\n",
       "      <td>0.000000</td>\n",
       "      <td>0.000000</td>\n",
       "      <td>0.000000</td>\n",
       "      <td>1</td>\n",
       "    </tr>\n",
       "    <tr>\n",
       "      <th>Albania</th>\n",
       "      <td>-0.486522</td>\n",
       "      <td>0.000000</td>\n",
       "      <td>0.0</td>\n",
       "      <td>-0.782836</td>\n",
       "      <td>0.802469</td>\n",
       "      <td>0.766483</td>\n",
       "      <td>-0.767682</td>\n",
       "      <td>-0.858720</td>\n",
       "      <td>0.000000</td>\n",
       "      <td>0.000000</td>\n",
       "      <td>0.000000</td>\n",
       "      <td>0.000000</td>\n",
       "      <td>6</td>\n",
       "    </tr>\n",
       "    <tr>\n",
       "      <th>Algeria</th>\n",
       "      <td>0.000000</td>\n",
       "      <td>0.000000</td>\n",
       "      <td>0.0</td>\n",
       "      <td>-0.755527</td>\n",
       "      <td>0.853152</td>\n",
       "      <td>0.753491</td>\n",
       "      <td>-0.725858</td>\n",
       "      <td>-0.750487</td>\n",
       "      <td>0.000000</td>\n",
       "      <td>0.000000</td>\n",
       "      <td>0.000000</td>\n",
       "      <td>0.629927</td>\n",
       "      <td>7</td>\n",
       "    </tr>\n",
       "    <tr>\n",
       "      <th>Angola</th>\n",
       "      <td>0.000000</td>\n",
       "      <td>0.000000</td>\n",
       "      <td>0.0</td>\n",
       "      <td>-0.755527</td>\n",
       "      <td>-0.648912</td>\n",
       "      <td>-0.924326</td>\n",
       "      <td>-0.748783</td>\n",
       "      <td>0.912634</td>\n",
       "      <td>0.493506</td>\n",
       "      <td>0.000000</td>\n",
       "      <td>0.000000</td>\n",
       "      <td>0.000000</td>\n",
       "      <td>9</td>\n",
       "    </tr>\n",
       "    <tr>\n",
       "      <th>Argentina</th>\n",
       "      <td>-0.598246</td>\n",
       "      <td>0.569016</td>\n",
       "      <td>0.0</td>\n",
       "      <td>-0.733421</td>\n",
       "      <td>0.000000</td>\n",
       "      <td>0.000000</td>\n",
       "      <td>0.000000</td>\n",
       "      <td>-0.721302</td>\n",
       "      <td>0.875609</td>\n",
       "      <td>0.791166</td>\n",
       "      <td>0.870413</td>\n",
       "      <td>0.000000</td>\n",
       "      <td>0</td>\n",
       "    </tr>\n",
       "    <tr>\n",
       "      <th>...</th>\n",
       "      <td>...</td>\n",
       "      <td>...</td>\n",
       "      <td>...</td>\n",
       "      <td>...</td>\n",
       "      <td>...</td>\n",
       "      <td>...</td>\n",
       "      <td>...</td>\n",
       "      <td>...</td>\n",
       "      <td>...</td>\n",
       "      <td>...</td>\n",
       "      <td>...</td>\n",
       "      <td>...</td>\n",
       "      <td>...</td>\n",
       "    </tr>\n",
       "    <tr>\n",
       "      <th>Uruguay</th>\n",
       "      <td>-0.587853</td>\n",
       "      <td>0.886652</td>\n",
       "      <td>0.0</td>\n",
       "      <td>-0.934981</td>\n",
       "      <td>-0.498214</td>\n",
       "      <td>0.764133</td>\n",
       "      <td>-0.896356</td>\n",
       "      <td>-0.790516</td>\n",
       "      <td>0.000000</td>\n",
       "      <td>0.000000</td>\n",
       "      <td>0.574862</td>\n",
       "      <td>0.833388</td>\n",
       "      <td>4</td>\n",
       "    </tr>\n",
       "    <tr>\n",
       "      <th>Uzbekistan</th>\n",
       "      <td>-0.714518</td>\n",
       "      <td>0.000000</td>\n",
       "      <td>0.0</td>\n",
       "      <td>-0.672302</td>\n",
       "      <td>0.916531</td>\n",
       "      <td>0.743340</td>\n",
       "      <td>-0.847464</td>\n",
       "      <td>-0.745047</td>\n",
       "      <td>0.000000</td>\n",
       "      <td>-0.794805</td>\n",
       "      <td>-0.748052</td>\n",
       "      <td>0.925625</td>\n",
       "      <td>7</td>\n",
       "    </tr>\n",
       "    <tr>\n",
       "      <th>Vanuatu</th>\n",
       "      <td>0.000000</td>\n",
       "      <td>-0.569106</td>\n",
       "      <td>0.0</td>\n",
       "      <td>0.000000</td>\n",
       "      <td>0.967197</td>\n",
       "      <td>-0.632023</td>\n",
       "      <td>-0.838989</td>\n",
       "      <td>-0.939916</td>\n",
       "      <td>0.000000</td>\n",
       "      <td>0.000000</td>\n",
       "      <td>0.000000</td>\n",
       "      <td>-0.813901</td>\n",
       "      <td>9</td>\n",
       "    </tr>\n",
       "    <tr>\n",
       "      <th>Zambia</th>\n",
       "      <td>-0.815200</td>\n",
       "      <td>0.728456</td>\n",
       "      <td>0.0</td>\n",
       "      <td>-0.850456</td>\n",
       "      <td>0.863548</td>\n",
       "      <td>0.697629</td>\n",
       "      <td>0.000000</td>\n",
       "      <td>-0.723612</td>\n",
       "      <td>0.803896</td>\n",
       "      <td>0.000000</td>\n",
       "      <td>0.000000</td>\n",
       "      <td>-0.547724</td>\n",
       "      <td>6</td>\n",
       "    </tr>\n",
       "    <tr>\n",
       "      <th>Zimbabwe</th>\n",
       "      <td>-0.669698</td>\n",
       "      <td>0.000000</td>\n",
       "      <td>0.0</td>\n",
       "      <td>-0.841353</td>\n",
       "      <td>-0.782722</td>\n",
       "      <td>0.000000</td>\n",
       "      <td>-0.884333</td>\n",
       "      <td>0.563170</td>\n",
       "      <td>0.000000</td>\n",
       "      <td>0.000000</td>\n",
       "      <td>0.000000</td>\n",
       "      <td>0.000000</td>\n",
       "      <td>9</td>\n",
       "    </tr>\n",
       "  </tbody>\n",
       "</table>\n",
       "<p>152 rows × 13 columns</p>\n",
       "</div>"
      ],
      "text/plain": [
       "             AgriShareGDP  CreditToAgriFishForest  EmploymentRural  \\\n",
       "Country                                                              \n",
       "Afghanistan     -0.864566                0.000000              0.0   \n",
       "Albania         -0.486522                0.000000              0.0   \n",
       "Algeria          0.000000                0.000000              0.0   \n",
       "Angola           0.000000                0.000000              0.0   \n",
       "Argentina       -0.598246                0.569016              0.0   \n",
       "...                   ...                     ...              ...   \n",
       "Uruguay         -0.587853                0.886652              0.0   \n",
       "Uzbekistan      -0.714518                0.000000              0.0   \n",
       "Vanuatu          0.000000               -0.569106              0.0   \n",
       "Zambia          -0.815200                0.728456              0.0   \n",
       "Zimbabwe        -0.669698                0.000000              0.0   \n",
       "\n",
       "             % Soldiers  Employment in industry  Employment in services  \\\n",
       "Country                                                                   \n",
       "Afghanistan    0.000000                0.910685                0.911984   \n",
       "Albania       -0.782836                0.802469                0.766483   \n",
       "Algeria       -0.755527                0.853152                0.753491   \n",
       "Angola        -0.755527               -0.648912               -0.924326   \n",
       "Argentina     -0.733421                0.000000                0.000000   \n",
       "...                 ...                     ...                     ...   \n",
       "Uruguay       -0.934981               -0.498214                0.764133   \n",
       "Uzbekistan    -0.672302                0.916531                0.743340   \n",
       "Vanuatu        0.000000                0.967197               -0.632023   \n",
       "Zambia        -0.850456                0.863548                0.697629   \n",
       "Zimbabwe      -0.841353               -0.782722                0.000000   \n",
       "\n",
       "             Cost business start-up  Employment in agriculture  \\\n",
       "Country                                                          \n",
       "Afghanistan               -0.736206                  -0.910685   \n",
       "Albania                   -0.767682                  -0.858720   \n",
       "Algeria                   -0.725858                  -0.750487   \n",
       "Angola                    -0.748783                   0.912634   \n",
       "Argentina                  0.000000                  -0.721302   \n",
       "...                             ...                        ...   \n",
       "Uruguay                   -0.896356                  -0.790516   \n",
       "Uzbekistan                -0.847464                  -0.745047   \n",
       "Vanuatu                   -0.838989                  -0.939916   \n",
       "Zambia                     0.000000                  -0.723612   \n",
       "Zimbabwe                  -0.884333                   0.563170   \n",
       "\n",
       "             % Education Expenditure  Researchers in R&D  \\\n",
       "Country                                                    \n",
       "Afghanistan                 0.000000            0.000000   \n",
       "Albania                     0.000000            0.000000   \n",
       "Algeria                     0.000000            0.000000   \n",
       "Angola                      0.493506            0.000000   \n",
       "Argentina                   0.875609            0.791166   \n",
       "...                              ...                 ...   \n",
       "Uruguay                     0.000000            0.000000   \n",
       "Uzbekistan                  0.000000           -0.794805   \n",
       "Vanuatu                     0.000000            0.000000   \n",
       "Zambia                      0.803896            0.000000   \n",
       "Zimbabwe                    0.000000            0.000000   \n",
       "\n",
       "             R&D expenditure %GDP  % Healthcare Investment  Cluster  \n",
       "Country                                                              \n",
       "Afghanistan              0.000000                 0.000000        1  \n",
       "Albania                  0.000000                 0.000000        6  \n",
       "Algeria                  0.000000                 0.629927        7  \n",
       "Angola                   0.000000                 0.000000        9  \n",
       "Argentina                0.870413                 0.000000        0  \n",
       "...                           ...                      ...      ...  \n",
       "Uruguay                  0.574862                 0.833388        4  \n",
       "Uzbekistan              -0.748052                 0.925625        7  \n",
       "Vanuatu                  0.000000                -0.813901        9  \n",
       "Zambia                   0.000000                -0.547724        6  \n",
       "Zimbabwe                 0.000000                 0.000000        9  \n",
       "\n",
       "[152 rows x 13 columns]"
      ]
     },
     "execution_count": 10,
     "metadata": {},
     "output_type": "execute_result"
    }
   ],
   "source": [
    "set(df_dict[econ_ind].loc[lambda df: df[col_cluster] == df.loc['Spain', col_cluster]].index.to_list())\n",
    "df_dict[econ_ind]"
   ]
  },
  {
   "cell_type": "code",
   "execution_count": 11,
   "metadata": {},
   "outputs": [
    {
     "data": {
      "text/html": [
       "<div>\n",
       "<style scoped>\n",
       "    .dataframe tbody tr th:only-of-type {\n",
       "        vertical-align: middle;\n",
       "    }\n",
       "\n",
       "    .dataframe tbody tr th {\n",
       "        vertical-align: top;\n",
       "    }\n",
       "\n",
       "    .dataframe thead th {\n",
       "        text-align: right;\n",
       "    }\n",
       "</style>\n",
       "<table border=\"1\" class=\"dataframe\">\n",
       "  <thead>\n",
       "    <tr style=\"text-align: right;\">\n",
       "      <th></th>\n",
       "      <th>AgriShareGDP</th>\n",
       "      <th>CreditToAgriFishForest</th>\n",
       "      <th>EmploymentRural</th>\n",
       "      <th>% Soldiers</th>\n",
       "      <th>Employment in industry</th>\n",
       "      <th>Employment in services</th>\n",
       "      <th>Cost business start-up</th>\n",
       "      <th>Employment in agriculture</th>\n",
       "      <th>% Education Expenditure</th>\n",
       "      <th>Researchers in R&amp;D</th>\n",
       "      <th>R&amp;D expenditure %GDP</th>\n",
       "      <th>% Healthcare Investment</th>\n",
       "      <th>Cluster</th>\n",
       "    </tr>\n",
       "    <tr>\n",
       "      <th>Country</th>\n",
       "      <th></th>\n",
       "      <th></th>\n",
       "      <th></th>\n",
       "      <th></th>\n",
       "      <th></th>\n",
       "      <th></th>\n",
       "      <th></th>\n",
       "      <th></th>\n",
       "      <th></th>\n",
       "      <th></th>\n",
       "      <th></th>\n",
       "      <th></th>\n",
       "      <th></th>\n",
       "    </tr>\n",
       "  </thead>\n",
       "  <tbody>\n",
       "    <tr>\n",
       "      <th>Afghanistan</th>\n",
       "      <td>-0.864566</td>\n",
       "      <td>0.000000</td>\n",
       "      <td>0.0</td>\n",
       "      <td>0.000000</td>\n",
       "      <td>0.910685</td>\n",
       "      <td>0.911984</td>\n",
       "      <td>-0.736206</td>\n",
       "      <td>-0.910685</td>\n",
       "      <td>0.000000</td>\n",
       "      <td>0.000000</td>\n",
       "      <td>0.000000</td>\n",
       "      <td>0.000000</td>\n",
       "      <td>1</td>\n",
       "    </tr>\n",
       "    <tr>\n",
       "      <th>Albania</th>\n",
       "      <td>-0.486522</td>\n",
       "      <td>0.000000</td>\n",
       "      <td>0.0</td>\n",
       "      <td>-0.782836</td>\n",
       "      <td>0.802469</td>\n",
       "      <td>0.766483</td>\n",
       "      <td>-0.767682</td>\n",
       "      <td>-0.858720</td>\n",
       "      <td>0.000000</td>\n",
       "      <td>0.000000</td>\n",
       "      <td>0.000000</td>\n",
       "      <td>0.000000</td>\n",
       "      <td>6</td>\n",
       "    </tr>\n",
       "    <tr>\n",
       "      <th>Algeria</th>\n",
       "      <td>0.000000</td>\n",
       "      <td>0.000000</td>\n",
       "      <td>0.0</td>\n",
       "      <td>-0.755527</td>\n",
       "      <td>0.853152</td>\n",
       "      <td>0.753491</td>\n",
       "      <td>-0.725858</td>\n",
       "      <td>-0.750487</td>\n",
       "      <td>0.000000</td>\n",
       "      <td>0.000000</td>\n",
       "      <td>0.000000</td>\n",
       "      <td>0.629927</td>\n",
       "      <td>7</td>\n",
       "    </tr>\n",
       "    <tr>\n",
       "      <th>Angola</th>\n",
       "      <td>0.000000</td>\n",
       "      <td>0.000000</td>\n",
       "      <td>0.0</td>\n",
       "      <td>-0.755527</td>\n",
       "      <td>-0.648912</td>\n",
       "      <td>-0.924326</td>\n",
       "      <td>-0.748783</td>\n",
       "      <td>0.912634</td>\n",
       "      <td>0.493506</td>\n",
       "      <td>0.000000</td>\n",
       "      <td>0.000000</td>\n",
       "      <td>0.000000</td>\n",
       "      <td>9</td>\n",
       "    </tr>\n",
       "    <tr>\n",
       "      <th>Argentina</th>\n",
       "      <td>-0.598246</td>\n",
       "      <td>0.569016</td>\n",
       "      <td>0.0</td>\n",
       "      <td>-0.733421</td>\n",
       "      <td>0.000000</td>\n",
       "      <td>0.000000</td>\n",
       "      <td>0.000000</td>\n",
       "      <td>-0.721302</td>\n",
       "      <td>0.875609</td>\n",
       "      <td>0.791166</td>\n",
       "      <td>0.870413</td>\n",
       "      <td>0.000000</td>\n",
       "      <td>0</td>\n",
       "    </tr>\n",
       "    <tr>\n",
       "      <th>...</th>\n",
       "      <td>...</td>\n",
       "      <td>...</td>\n",
       "      <td>...</td>\n",
       "      <td>...</td>\n",
       "      <td>...</td>\n",
       "      <td>...</td>\n",
       "      <td>...</td>\n",
       "      <td>...</td>\n",
       "      <td>...</td>\n",
       "      <td>...</td>\n",
       "      <td>...</td>\n",
       "      <td>...</td>\n",
       "      <td>...</td>\n",
       "    </tr>\n",
       "    <tr>\n",
       "      <th>Uruguay</th>\n",
       "      <td>-0.587853</td>\n",
       "      <td>0.886652</td>\n",
       "      <td>0.0</td>\n",
       "      <td>-0.934981</td>\n",
       "      <td>-0.498214</td>\n",
       "      <td>0.764133</td>\n",
       "      <td>-0.896356</td>\n",
       "      <td>-0.790516</td>\n",
       "      <td>0.000000</td>\n",
       "      <td>0.000000</td>\n",
       "      <td>0.574862</td>\n",
       "      <td>0.833388</td>\n",
       "      <td>4</td>\n",
       "    </tr>\n",
       "    <tr>\n",
       "      <th>Uzbekistan</th>\n",
       "      <td>-0.714518</td>\n",
       "      <td>0.000000</td>\n",
       "      <td>0.0</td>\n",
       "      <td>-0.672302</td>\n",
       "      <td>0.916531</td>\n",
       "      <td>0.743340</td>\n",
       "      <td>-0.847464</td>\n",
       "      <td>-0.745047</td>\n",
       "      <td>0.000000</td>\n",
       "      <td>-0.794805</td>\n",
       "      <td>-0.748052</td>\n",
       "      <td>0.925625</td>\n",
       "      <td>7</td>\n",
       "    </tr>\n",
       "    <tr>\n",
       "      <th>Vanuatu</th>\n",
       "      <td>0.000000</td>\n",
       "      <td>-0.569106</td>\n",
       "      <td>0.0</td>\n",
       "      <td>0.000000</td>\n",
       "      <td>0.967197</td>\n",
       "      <td>-0.632023</td>\n",
       "      <td>-0.838989</td>\n",
       "      <td>-0.939916</td>\n",
       "      <td>0.000000</td>\n",
       "      <td>0.000000</td>\n",
       "      <td>0.000000</td>\n",
       "      <td>-0.813901</td>\n",
       "      <td>9</td>\n",
       "    </tr>\n",
       "    <tr>\n",
       "      <th>Zambia</th>\n",
       "      <td>-0.815200</td>\n",
       "      <td>0.728456</td>\n",
       "      <td>0.0</td>\n",
       "      <td>-0.850456</td>\n",
       "      <td>0.863548</td>\n",
       "      <td>0.697629</td>\n",
       "      <td>0.000000</td>\n",
       "      <td>-0.723612</td>\n",
       "      <td>0.803896</td>\n",
       "      <td>0.000000</td>\n",
       "      <td>0.000000</td>\n",
       "      <td>-0.547724</td>\n",
       "      <td>6</td>\n",
       "    </tr>\n",
       "    <tr>\n",
       "      <th>Zimbabwe</th>\n",
       "      <td>-0.669698</td>\n",
       "      <td>0.000000</td>\n",
       "      <td>0.0</td>\n",
       "      <td>-0.841353</td>\n",
       "      <td>-0.782722</td>\n",
       "      <td>0.000000</td>\n",
       "      <td>-0.884333</td>\n",
       "      <td>0.563170</td>\n",
       "      <td>0.000000</td>\n",
       "      <td>0.000000</td>\n",
       "      <td>0.000000</td>\n",
       "      <td>0.000000</td>\n",
       "      <td>9</td>\n",
       "    </tr>\n",
       "  </tbody>\n",
       "</table>\n",
       "<p>152 rows × 13 columns</p>\n",
       "</div>"
      ],
      "text/plain": [
       "             AgriShareGDP  CreditToAgriFishForest  EmploymentRural  \\\n",
       "Country                                                              \n",
       "Afghanistan     -0.864566                0.000000              0.0   \n",
       "Albania         -0.486522                0.000000              0.0   \n",
       "Algeria          0.000000                0.000000              0.0   \n",
       "Angola           0.000000                0.000000              0.0   \n",
       "Argentina       -0.598246                0.569016              0.0   \n",
       "...                   ...                     ...              ...   \n",
       "Uruguay         -0.587853                0.886652              0.0   \n",
       "Uzbekistan      -0.714518                0.000000              0.0   \n",
       "Vanuatu          0.000000               -0.569106              0.0   \n",
       "Zambia          -0.815200                0.728456              0.0   \n",
       "Zimbabwe        -0.669698                0.000000              0.0   \n",
       "\n",
       "             % Soldiers  Employment in industry  Employment in services  \\\n",
       "Country                                                                   \n",
       "Afghanistan    0.000000                0.910685                0.911984   \n",
       "Albania       -0.782836                0.802469                0.766483   \n",
       "Algeria       -0.755527                0.853152                0.753491   \n",
       "Angola        -0.755527               -0.648912               -0.924326   \n",
       "Argentina     -0.733421                0.000000                0.000000   \n",
       "...                 ...                     ...                     ...   \n",
       "Uruguay       -0.934981               -0.498214                0.764133   \n",
       "Uzbekistan    -0.672302                0.916531                0.743340   \n",
       "Vanuatu        0.000000                0.967197               -0.632023   \n",
       "Zambia        -0.850456                0.863548                0.697629   \n",
       "Zimbabwe      -0.841353               -0.782722                0.000000   \n",
       "\n",
       "             Cost business start-up  Employment in agriculture  \\\n",
       "Country                                                          \n",
       "Afghanistan               -0.736206                  -0.910685   \n",
       "Albania                   -0.767682                  -0.858720   \n",
       "Algeria                   -0.725858                  -0.750487   \n",
       "Angola                    -0.748783                   0.912634   \n",
       "Argentina                  0.000000                  -0.721302   \n",
       "...                             ...                        ...   \n",
       "Uruguay                   -0.896356                  -0.790516   \n",
       "Uzbekistan                -0.847464                  -0.745047   \n",
       "Vanuatu                   -0.838989                  -0.939916   \n",
       "Zambia                     0.000000                  -0.723612   \n",
       "Zimbabwe                  -0.884333                   0.563170   \n",
       "\n",
       "             % Education Expenditure  Researchers in R&D  \\\n",
       "Country                                                    \n",
       "Afghanistan                 0.000000            0.000000   \n",
       "Albania                     0.000000            0.000000   \n",
       "Algeria                     0.000000            0.000000   \n",
       "Angola                      0.493506            0.000000   \n",
       "Argentina                   0.875609            0.791166   \n",
       "...                              ...                 ...   \n",
       "Uruguay                     0.000000            0.000000   \n",
       "Uzbekistan                  0.000000           -0.794805   \n",
       "Vanuatu                     0.000000            0.000000   \n",
       "Zambia                      0.803896            0.000000   \n",
       "Zimbabwe                    0.000000            0.000000   \n",
       "\n",
       "             R&D expenditure %GDP  % Healthcare Investment  Cluster  \n",
       "Country                                                              \n",
       "Afghanistan              0.000000                 0.000000        1  \n",
       "Albania                  0.000000                 0.000000        6  \n",
       "Algeria                  0.000000                 0.629927        7  \n",
       "Angola                   0.000000                 0.000000        9  \n",
       "Argentina                0.870413                 0.000000        0  \n",
       "...                           ...                      ...      ...  \n",
       "Uruguay                  0.574862                 0.833388        4  \n",
       "Uzbekistan              -0.748052                 0.925625        7  \n",
       "Vanuatu                  0.000000                -0.813901        9  \n",
       "Zambia                   0.000000                -0.547724        6  \n",
       "Zimbabwe                 0.000000                 0.000000        9  \n",
       "\n",
       "[152 rows x 13 columns]"
      ]
     },
     "execution_count": 11,
     "metadata": {},
     "output_type": "execute_result"
    }
   ],
   "source": [
    "df_dict[econ_ind]"
   ]
  },
  {
   "cell_type": "code",
   "execution_count": null,
   "metadata": {},
   "outputs": [],
   "source": []
  },
  {
   "cell_type": "code",
   "execution_count": null,
   "metadata": {},
   "outputs": [],
   "source": []
  },
  {
   "cell_type": "code",
   "execution_count": null,
   "metadata": {},
   "outputs": [],
   "source": []
  },
  {
   "cell_type": "code",
   "execution_count": null,
   "metadata": {},
   "outputs": [],
   "source": []
  },
  {
   "cell_type": "code",
   "execution_count": null,
   "metadata": {},
   "outputs": [],
   "source": []
  },
  {
   "cell_type": "code",
   "execution_count": null,
   "metadata": {},
   "outputs": [],
   "source": []
  },
  {
   "cell_type": "markdown",
   "metadata": {},
   "source": [
    "# Different CLustering Methods\n",
    "\n",
    "We have tried a lot of different clustering methods in order to decide which one fits the best. Below are all the different codeblocks, each one for a different algorithm."
   ]
  },
  {
   "cell_type": "code",
   "execution_count": 12,
   "metadata": {},
   "outputs": [
    {
     "data": {
      "image/png": "[encoded data removed]",
      "text/plain": [
       "<Figure size 576x576 with 1 Axes>"
      ]
     },
     "metadata": {
      "needs_background": "light"
     },
     "output_type": "display_data"
    }
   ],
   "source": [
    "X_optics = pd.DataFrame(StandardScaler().fit_transform(scaled_df))\n",
    "\n",
    "'''Apply AffinityPropagation'''\n",
    "optics = AffinityPropagation(damping=0.9).fit_predict(X_optics)\n",
    "#labels_optics = optics.labels_\n",
    "\n",
    "plt.figure(figsize=(8,8))\n",
    "plt.title('AffinityPropagation',fontsize= 20)\n",
    "plt.xlabel('Feature 1',fontsize= 18)\n",
    "plt.ylabel('Feature 2',fontsize= 18)\n",
    "fig = plt.scatter(X_optics[0], X_optics[1], c= optics)"
   ]
  },
  {
   "cell_type": "code",
   "execution_count": 13,
   "metadata": {},
   "outputs": [
    {
     "data": {
      "image/png": "[encoded data removed]",
      "text/plain": [
       "<Figure size 576x576 with 1 Axes>"
      ]
     },
     "metadata": {
      "needs_background": "light"
     },
     "output_type": "display_data"
    }
   ],
   "source": [
    "\n",
    "X_optics = pd.DataFrame(StandardScaler().fit_transform(scaled_df))\n",
    "\n",
    "'''Apply OPTICS'''\n",
    "optics = OPTICS(xi=.35, min_cluster_size=3, min_samples=5).fit_predict(X_optics)\n",
    "#labels_optics = optics.labels_\n",
    "\n",
    "plt.figure(figsize=(8,8))\n",
    "plt.title('OPTICS',fontsize= 20)\n",
    "plt.xlabel('Feature 1',fontsize= 18)\n",
    "plt.ylabel('Feature 2',fontsize= 18)\n",
    "fig = plt.scatter(X_optics[0], X_optics[1], c= optics)\n"
   ]
  },
  {
   "cell_type": "code",
   "execution_count": 14,
   "metadata": {},
   "outputs": [
    {
     "data": {
      "image/png": "[encoded data removed]",
      "text/plain": [
       "<Figure size 576x576 with 1 Axes>"
      ]
     },
     "metadata": {
      "needs_background": "light"
     },
     "output_type": "display_data"
    }
   ],
   "source": [
    "from sklearn.cluster import *\n",
    "from sklearn.mixture import GaussianMixture\n",
    "\n",
    "X_kmeans = pd.DataFrame(StandardScaler().fit_transform(scaled_df))\n",
    "X_kmeans.index = scaled_df.index\n",
    "'''Apply MiniBatchKMeans'''\n",
    "kmean_clusters =   MiniBatchKMeans(n_clusters=6).fit_predict(X_kmeans)\n",
    "\n",
    "plt.figure(figsize = (8,8))\n",
    "plt.title('MiniBatchKMeans Clustering',fontsize= 20)\n",
    "plt.xlabel('Feature 1', fontsize=18)\n",
    "plt.ylabel('Feature 2', fontsize=18)\n",
    "f = plt.scatter(X_kmeans[0],X_kmeans[1],c=kmean_clusters)"
   ]
  },
  {
   "cell_type": "code",
   "execution_count": 15,
   "metadata": {},
   "outputs": [
    {
     "data": {
      "image/png": "[encoded data removed]",
      "text/plain": [
       "<Figure size 576x576 with 1 Axes>"
      ]
     },
     "metadata": {
      "needs_background": "light"
     },
     "output_type": "display_data"
    }
   ],
   "source": [
    "X_optics = pd.DataFrame(StandardScaler().fit_transform(scaled_df))\n",
    "\n",
    "'''Apply AgglomerativeClustering'''\n",
    "optics = AgglomerativeClustering(n_clusters=4).fit_predict(X_optics)\n",
    "#labels_optics = optics.labels_\n",
    "\n",
    "plt.figure(figsize=(8,8))\n",
    "plt.title('AgglomerativeClustering',fontsize= 20)\n",
    "plt.xlabel('Feature 1',fontsize= 18)\n",
    "plt.ylabel('Feature 2',fontsize= 18)\n",
    "fig = plt.scatter(X_optics[0], X_optics[1], c= optics)"
   ]
  },
  {
   "cell_type": "code",
   "execution_count": 16,
   "metadata": {},
   "outputs": [
    {
     "data": {
      "image/png": "[encoded data removed]",
      "text/plain": [
       "<Figure size 576x576 with 1 Axes>"
      ]
     },
     "metadata": {
      "needs_background": "light"
     },
     "output_type": "display_data"
    }
   ],
   "source": [
    "X_optics = pd.DataFrame(StandardScaler().fit_transform(scaled_df))\n",
    "\n",
    "'''Apply DBSCAN'''\n",
    "optics = DBSCAN(eps=0.9, min_samples=9).fit_predict(X_optics)\n",
    "#labels_optics = optics.labels_\n",
    "\n",
    "plt.figure(figsize=(8,8))\n",
    "plt.title('DBSCAN',fontsize= 20)\n",
    "plt.xlabel('Feature 1',fontsize= 18)\n",
    "plt.ylabel('Feature 2',fontsize= 18)\n",
    "fig = plt.scatter(X_optics[0], X_optics[1], c= optics)"
   ]
  },
  {
   "cell_type": "code",
   "execution_count": 17,
   "metadata": {},
   "outputs": [
    {
     "data": {
      "image/png": "[encoded data removed]",
      "text/plain": [
       "<Figure size 576x576 with 1 Axes>"
      ]
     },
     "metadata": {
      "needs_background": "light"
     },
     "output_type": "display_data"
    }
   ],
   "source": [
    "X_optics = pd.DataFrame(StandardScaler().fit_transform(scaled_df))\n",
    "\n",
    "'''Apply KMeans'''\n",
    "optics = KMeans(n_clusters=6).fit_predict(X_optics)\n",
    "#labels_optics = optics.labels_\n",
    "\n",
    "plt.figure(figsize=(8,8))\n",
    "plt.title('KMeans',fontsize= 20)\n",
    "plt.xlabel('Feature 1',fontsize= 18)\n",
    "plt.ylabel('Feature 2',fontsize= 18)\n",
    "fig = plt.scatter(X_optics[0], X_optics[1], c= optics)"
   ]
  },
  {
   "cell_type": "code",
   "execution_count": 18,
   "metadata": {},
   "outputs": [
    {
     "data": {
      "image/png": "[encoded data removed]",
      "text/plain": [
       "<Figure size 576x576 with 1 Axes>"
      ]
     },
     "metadata": {
      "needs_background": "light"
     },
     "output_type": "display_data"
    }
   ],
   "source": [
    "X_optics = pd.DataFrame(StandardScaler().fit_transform(scaled_df))\n",
    "\n",
    "'''Apply MiniBatchKMeans'''\n",
    "optics = MiniBatchKMeans(n_clusters=7).fit_predict(X_optics)\n",
    "#labels_optics = optics.labels_\n",
    "\n",
    "plt.figure(figsize=(8,8))\n",
    "plt.title('MiniBatchKMeans',fontsize= 20)\n",
    "plt.xlabel('Feature 1',fontsize= 18)\n",
    "plt.ylabel('Feature 2',fontsize= 18)\n",
    "fig = plt.scatter(X_optics[0], X_optics[1], c= optics)\n"
   ]
  },
  {
   "cell_type": "code",
   "execution_count": 19,
   "metadata": {},
   "outputs": [
    {
     "data": {
      "image/png": "[encoded data removed]",
      "text/plain": [
       "<Figure size 576x576 with 1 Axes>"
      ]
     },
     "metadata": {
      "needs_background": "light"
     },
     "output_type": "display_data"
    }
   ],
   "source": [
    "X_optics = pd.DataFrame(StandardScaler().fit_transform(scaled_df))\n",
    "\n",
    "'''Apply MeanShift'''\n",
    "optics = MeanShift().fit_predict(X_optics)\n",
    "#labels_optics = optics.labels_\n",
    "\n",
    "plt.figure(figsize=(8,8))\n",
    "plt.title('MeanShift',fontsize= 20)\n",
    "plt.xlabel('Feature 1',fontsize= 18)\n",
    "plt.ylabel('Feature 2',fontsize= 18)\n",
    "fig = plt.scatter(X_optics[0], X_optics[1], c= optics)\n"
   ]
  },
  {
   "cell_type": "code",
   "execution_count": 20,
   "metadata": {},
   "outputs": [
    {
     "data": {
      "image/png": "[encoded data removed]",
      "text/plain": [
       "<Figure size 576x576 with 1 Axes>"
      ]
     },
     "metadata": {
      "needs_background": "light"
     },
     "output_type": "display_data"
    }
   ],
   "source": [
    "\n",
    "\n",
    "X_optics = pd.DataFrame(StandardScaler().fit_transform(scaled_df))\n",
    "\n",
    "'''Apply SpectralClustering'''\n",
    "optics = SpectralClustering(n_clusters=8).fit_predict(X_optics)\n",
    "#labels_optics = optics.labels_\n",
    "\n",
    "plt.figure(figsize=(8,8))\n",
    "plt.title('SpectralClustering',fontsize= 20)\n",
    "plt.xlabel('Feature 1',fontsize= 18)\n",
    "plt.ylabel('Feature 2',fontsize= 18)\n",
    "fig = plt.scatter(X_optics[0], X_optics[1], c= optics)"
   ]
  },
  {
   "cell_type": "code",
   "execution_count": 21,
   "metadata": {},
   "outputs": [
    {
     "data": {
      "image/png": "[encoded data removed]",
      "text/plain": [
       "<Figure size 576x576 with 1 Axes>"
      ]
     },
     "metadata": {
      "needs_background": "light"
     },
     "output_type": "display_data"
    }
   ],
   "source": [
    "X_optics = pd.DataFrame(StandardScaler().fit_transform(scaled_df))\n",
    "\n",
    "'''Apply GaussianMixture'''\n",
    "optics = GaussianMixture(n_components=7).fit_predict(X_optics)\n",
    "#labels_optics = optics.labels_\n",
    "\n",
    "plt.figure(figsize=(8,8))\n",
    "plt.title('GaussianMixture',fontsize= 20)\n",
    "plt.xlabel('Feature 1',fontsize= 18)\n",
    "plt.ylabel('Feature 2',fontsize= 18)\n",
    "fig = plt.scatter(X_optics[0], X_optics[1], c= optics)"
   ]
  },
  {
   "cell_type": "code",
   "execution_count": null,
   "metadata": {},
   "outputs": [],
   "source": []
  }
 ],
 "metadata": {
  "kernelspec": {
   "display_name": "Python 3.10.5 ('.venv': poetry)",
   "language": "python",
   "name": "python3"
  },
  "language_info": {
   "codemirror_mode": {
    "name": "ipython",
    "version": 3
   },
   "file_extension": ".py",
   "mimetype": "text/x-python",
   "name": "python",
   "nbconvert_exporter": "python",
   "pygments_lexer": "ipython3",
   "version": "3.10.5"
  },
  "vscode": {
   "interpreter": {
    "hash": "6044c39f3fa8d69f78786198aef61ed0dc3fdd7ddd5a88c111ee27e3b3325eb4"
   }
  }
 },
 "nbformat": 4,
 "nbformat_minor": 2
}
