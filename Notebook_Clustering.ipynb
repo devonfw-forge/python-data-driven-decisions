{
 "cells": [
  {
   "cell_type": "code",
   "execution_count": 1,
   "metadata": {},
   "outputs": [],
   "source": [
    "import os\n",
    "import pandas as pd\n",
    "\n",
    "read_path = os.getcwd()\n",
    "df_url = read_path + '/Output/GoldDataframe.csv'"
   ]
  },
  {
   "cell_type": "code",
   "execution_count": 2,
   "metadata": {},
   "outputs": [],
   "source": [
    "#import warnings\n",
    "#warnings.filterwarnings(\"ignore\")"
   ]
  },
  {
   "cell_type": "code",
   "execution_count": 3,
   "metadata": {},
   "outputs": [
    {
     "data": {
      "text/html": [
       "<div>\n",
       "<style scoped>\n",
       "    .dataframe tbody tr th:only-of-type {\n",
       "        vertical-align: middle;\n",
       "    }\n",
       "\n",
       "    .dataframe tbody tr th {\n",
       "        vertical-align: top;\n",
       "    }\n",
       "\n",
       "    .dataframe thead th {\n",
       "        text-align: right;\n",
       "    }\n",
       "</style>\n",
       "<table border=\"1\" class=\"dataframe\">\n",
       "  <thead>\n",
       "    <tr style=\"text-align: right;\">\n",
       "      <th></th>\n",
       "      <th>AgriShareGDP</th>\n",
       "      <th>CreditToAgriFishForest</th>\n",
       "      <th>EmploymentRural</th>\n",
       "      <th>TotalAgri</th>\n",
       "      <th>% Soldiers</th>\n",
       "      <th>Birth Rate</th>\n",
       "      <th>Death Rate</th>\n",
       "      <th>Homicides</th>\n",
       "      <th>Life Expectancy</th>\n",
       "      <th>Maternal Death Risk</th>\n",
       "      <th>...</th>\n",
       "      <th>% Population Growth</th>\n",
       "      <th>% Rural Population</th>\n",
       "      <th>Civil Liberties</th>\n",
       "      <th>Freedom of Expression</th>\n",
       "      <th>% Healthcare Investment</th>\n",
       "      <th>% Employment Industry</th>\n",
       "      <th>% Education Expenditure</th>\n",
       "      <th>% Men Employment</th>\n",
       "      <th>% Women Employment</th>\n",
       "      <th>Population</th>\n",
       "    </tr>\n",
       "  </thead>\n",
       "  <tbody>\n",
       "    <tr>\n",
       "      <th>Saint Lucia</th>\n",
       "      <td>-0.843703</td>\n",
       "      <td>-0.909062</td>\n",
       "      <td>NaN</td>\n",
       "      <td>0.796964</td>\n",
       "      <td>NaN</td>\n",
       "      <td>NaN</td>\n",
       "      <td>NaN</td>\n",
       "      <td>NaN</td>\n",
       "      <td>NaN</td>\n",
       "      <td>NaN</td>\n",
       "      <td>...</td>\n",
       "      <td>NaN</td>\n",
       "      <td>NaN</td>\n",
       "      <td>NaN</td>\n",
       "      <td>NaN</td>\n",
       "      <td>0.522356</td>\n",
       "      <td>-0.545707</td>\n",
       "      <td>NaN</td>\n",
       "      <td>NaN</td>\n",
       "      <td>NaN</td>\n",
       "      <td>0.957435</td>\n",
       "    </tr>\n",
       "    <tr>\n",
       "      <th>Central African Republic</th>\n",
       "      <td>-0.650892</td>\n",
       "      <td>NaN</td>\n",
       "      <td>NaN</td>\n",
       "      <td>NaN</td>\n",
       "      <td>0.363069</td>\n",
       "      <td>-0.718428</td>\n",
       "      <td>-0.729975</td>\n",
       "      <td>NaN</td>\n",
       "      <td>0.706032</td>\n",
       "      <td>-0.840461</td>\n",
       "      <td>...</td>\n",
       "      <td>-0.586808</td>\n",
       "      <td>-0.684527</td>\n",
       "      <td>-0.749410</td>\n",
       "      <td>0.037410</td>\n",
       "      <td>-0.813613</td>\n",
       "      <td>0.195268</td>\n",
       "      <td>NaN</td>\n",
       "      <td>NaN</td>\n",
       "      <td>NaN</td>\n",
       "      <td>0.874887</td>\n",
       "    </tr>\n",
       "    <tr>\n",
       "      <th>Netherlands</th>\n",
       "      <td>-0.927920</td>\n",
       "      <td>NaN</td>\n",
       "      <td>0.431737</td>\n",
       "      <td>0.920992</td>\n",
       "      <td>-0.839269</td>\n",
       "      <td>-0.848647</td>\n",
       "      <td>-0.380434</td>\n",
       "      <td>-0.775874</td>\n",
       "      <td>0.878462</td>\n",
       "      <td>-0.885008</td>\n",
       "      <td>...</td>\n",
       "      <td>-0.350150</td>\n",
       "      <td>-0.866347</td>\n",
       "      <td>-0.446415</td>\n",
       "      <td>-0.274502</td>\n",
       "      <td>0.751672</td>\n",
       "      <td>-0.796055</td>\n",
       "      <td>0.650675</td>\n",
       "      <td>-0.638777</td>\n",
       "      <td>0.621271</td>\n",
       "      <td>0.853087</td>\n",
       "    </tr>\n",
       "    <tr>\n",
       "      <th>Lebanon</th>\n",
       "      <td>-0.503101</td>\n",
       "      <td>NaN</td>\n",
       "      <td>NaN</td>\n",
       "      <td>0.891247</td>\n",
       "      <td>-0.939681</td>\n",
       "      <td>-0.122113</td>\n",
       "      <td>0.062329</td>\n",
       "      <td>NaN</td>\n",
       "      <td>0.888425</td>\n",
       "      <td>0.146781</td>\n",
       "      <td>...</td>\n",
       "      <td>-0.145843</td>\n",
       "      <td>-0.985057</td>\n",
       "      <td>0.890831</td>\n",
       "      <td>0.634427</td>\n",
       "      <td>0.896726</td>\n",
       "      <td>0.899102</td>\n",
       "      <td>NaN</td>\n",
       "      <td>NaN</td>\n",
       "      <td>NaN</td>\n",
       "      <td>0.958025</td>\n",
       "    </tr>\n",
       "    <tr>\n",
       "      <th>Gambia</th>\n",
       "      <td>-0.504079</td>\n",
       "      <td>-0.353336</td>\n",
       "      <td>NaN</td>\n",
       "      <td>0.802629</td>\n",
       "      <td>-0.473571</td>\n",
       "      <td>NaN</td>\n",
       "      <td>NaN</td>\n",
       "      <td>NaN</td>\n",
       "      <td>NaN</td>\n",
       "      <td>NaN</td>\n",
       "      <td>...</td>\n",
       "      <td>NaN</td>\n",
       "      <td>NaN</td>\n",
       "      <td>0.616920</td>\n",
       "      <td>0.633201</td>\n",
       "      <td>-0.530365</td>\n",
       "      <td>0.423461</td>\n",
       "      <td>0.592211</td>\n",
       "      <td>NaN</td>\n",
       "      <td>NaN</td>\n",
       "      <td>0.799523</td>\n",
       "    </tr>\n",
       "    <tr>\n",
       "      <th>...</th>\n",
       "      <td>...</td>\n",
       "      <td>...</td>\n",
       "      <td>...</td>\n",
       "      <td>...</td>\n",
       "      <td>...</td>\n",
       "      <td>...</td>\n",
       "      <td>...</td>\n",
       "      <td>...</td>\n",
       "      <td>...</td>\n",
       "      <td>...</td>\n",
       "      <td>...</td>\n",
       "      <td>...</td>\n",
       "      <td>...</td>\n",
       "      <td>...</td>\n",
       "      <td>...</td>\n",
       "      <td>...</td>\n",
       "      <td>...</td>\n",
       "      <td>...</td>\n",
       "      <td>...</td>\n",
       "      <td>...</td>\n",
       "      <td>...</td>\n",
       "    </tr>\n",
       "    <tr>\n",
       "      <th>China</th>\n",
       "      <td>NaN</td>\n",
       "      <td>NaN</td>\n",
       "      <td>NaN</td>\n",
       "      <td>0.949529</td>\n",
       "      <td>-0.860912</td>\n",
       "      <td>-0.362204</td>\n",
       "      <td>0.776483</td>\n",
       "      <td>-0.927046</td>\n",
       "      <td>0.982323</td>\n",
       "      <td>-0.868190</td>\n",
       "      <td>...</td>\n",
       "      <td>-0.550435</td>\n",
       "      <td>-0.983006</td>\n",
       "      <td>-0.713696</td>\n",
       "      <td>-0.956523</td>\n",
       "      <td>0.825297</td>\n",
       "      <td>0.767233</td>\n",
       "      <td>NaN</td>\n",
       "      <td>NaN</td>\n",
       "      <td>NaN</td>\n",
       "      <td>0.982877</td>\n",
       "    </tr>\n",
       "    <tr>\n",
       "      <th>Papua New Guinea</th>\n",
       "      <td>-0.906233</td>\n",
       "      <td>-0.885916</td>\n",
       "      <td>NaN</td>\n",
       "      <td>NaN</td>\n",
       "      <td>-0.352091</td>\n",
       "      <td>-0.976067</td>\n",
       "      <td>-0.970016</td>\n",
       "      <td>NaN</td>\n",
       "      <td>0.971378</td>\n",
       "      <td>-0.934638</td>\n",
       "      <td>...</td>\n",
       "      <td>-0.555830</td>\n",
       "      <td>0.134850</td>\n",
       "      <td>-0.782727</td>\n",
       "      <td>-0.603665</td>\n",
       "      <td>-0.398776</td>\n",
       "      <td>0.968018</td>\n",
       "      <td>NaN</td>\n",
       "      <td>NaN</td>\n",
       "      <td>NaN</td>\n",
       "      <td>0.968027</td>\n",
       "    </tr>\n",
       "    <tr>\n",
       "      <th>Mauritania</th>\n",
       "      <td>-0.696230</td>\n",
       "      <td>NaN</td>\n",
       "      <td>NaN</td>\n",
       "      <td>NaN</td>\n",
       "      <td>-0.946624</td>\n",
       "      <td>-0.886282</td>\n",
       "      <td>-0.938461</td>\n",
       "      <td>NaN</td>\n",
       "      <td>0.935888</td>\n",
       "      <td>-0.904177</td>\n",
       "      <td>...</td>\n",
       "      <td>0.361595</td>\n",
       "      <td>-0.955581</td>\n",
       "      <td>-0.351195</td>\n",
       "      <td>0.341876</td>\n",
       "      <td>0.896664</td>\n",
       "      <td>0.896081</td>\n",
       "      <td>NaN</td>\n",
       "      <td>NaN</td>\n",
       "      <td>NaN</td>\n",
       "      <td>0.938437</td>\n",
       "    </tr>\n",
       "    <tr>\n",
       "      <th>Pakistan</th>\n",
       "      <td>-0.356437</td>\n",
       "      <td>-0.793540</td>\n",
       "      <td>NaN</td>\n",
       "      <td>0.945026</td>\n",
       "      <td>-0.982538</td>\n",
       "      <td>-0.938940</td>\n",
       "      <td>-0.972257</td>\n",
       "      <td>-0.547593</td>\n",
       "      <td>0.978489</td>\n",
       "      <td>-0.961854</td>\n",
       "      <td>...</td>\n",
       "      <td>-0.937689</td>\n",
       "      <td>-0.964911</td>\n",
       "      <td>0.091345</td>\n",
       "      <td>-0.283386</td>\n",
       "      <td>-0.155086</td>\n",
       "      <td>-0.065887</td>\n",
       "      <td>NaN</td>\n",
       "      <td>NaN</td>\n",
       "      <td>NaN</td>\n",
       "      <td>0.965314</td>\n",
       "    </tr>\n",
       "    <tr>\n",
       "      <th>Kazakhstan</th>\n",
       "      <td>-0.913635</td>\n",
       "      <td>NaN</td>\n",
       "      <td>NaN</td>\n",
       "      <td>0.942417</td>\n",
       "      <td>-0.944020</td>\n",
       "      <td>0.906647</td>\n",
       "      <td>-0.806213</td>\n",
       "      <td>NaN</td>\n",
       "      <td>0.809298</td>\n",
       "      <td>-0.903483</td>\n",
       "      <td>...</td>\n",
       "      <td>0.784347</td>\n",
       "      <td>-0.836288</td>\n",
       "      <td>-0.746940</td>\n",
       "      <td>-0.675194</td>\n",
       "      <td>-0.306911</td>\n",
       "      <td>0.883499</td>\n",
       "      <td>NaN</td>\n",
       "      <td>NaN</td>\n",
       "      <td>NaN</td>\n",
       "      <td>0.794372</td>\n",
       "    </tr>\n",
       "  </tbody>\n",
       "</table>\n",
       "<p>179 rows × 21 columns</p>\n",
       "</div>"
      ],
      "text/plain": [
       "                          AgriShareGDP  CreditToAgriFishForest  \\\n",
       "Saint Lucia                  -0.843703               -0.909062   \n",
       "Central African Republic     -0.650892                     NaN   \n",
       "Netherlands                  -0.927920                     NaN   \n",
       "Lebanon                      -0.503101                     NaN   \n",
       "Gambia                       -0.504079               -0.353336   \n",
       "...                                ...                     ...   \n",
       "China                              NaN                     NaN   \n",
       "Papua New Guinea             -0.906233               -0.885916   \n",
       "Mauritania                   -0.696230                     NaN   \n",
       "Pakistan                     -0.356437               -0.793540   \n",
       "Kazakhstan                   -0.913635                     NaN   \n",
       "\n",
       "                          EmploymentRural  TotalAgri  % Soldiers  Birth Rate  \\\n",
       "Saint Lucia                           NaN   0.796964         NaN         NaN   \n",
       "Central African Republic              NaN        NaN    0.363069   -0.718428   \n",
       "Netherlands                      0.431737   0.920992   -0.839269   -0.848647   \n",
       "Lebanon                               NaN   0.891247   -0.939681   -0.122113   \n",
       "Gambia                                NaN   0.802629   -0.473571         NaN   \n",
       "...                                   ...        ...         ...         ...   \n",
       "China                                 NaN   0.949529   -0.860912   -0.362204   \n",
       "Papua New Guinea                      NaN        NaN   -0.352091   -0.976067   \n",
       "Mauritania                            NaN        NaN   -0.946624   -0.886282   \n",
       "Pakistan                              NaN   0.945026   -0.982538   -0.938940   \n",
       "Kazakhstan                            NaN   0.942417   -0.944020    0.906647   \n",
       "\n",
       "                          Death Rate  Homicides  Life Expectancy  \\\n",
       "Saint Lucia                      NaN        NaN              NaN   \n",
       "Central African Republic   -0.729975        NaN         0.706032   \n",
       "Netherlands                -0.380434  -0.775874         0.878462   \n",
       "Lebanon                     0.062329        NaN         0.888425   \n",
       "Gambia                           NaN        NaN              NaN   \n",
       "...                              ...        ...              ...   \n",
       "China                       0.776483  -0.927046         0.982323   \n",
       "Papua New Guinea           -0.970016        NaN         0.971378   \n",
       "Mauritania                 -0.938461        NaN         0.935888   \n",
       "Pakistan                   -0.972257  -0.547593         0.978489   \n",
       "Kazakhstan                 -0.806213        NaN         0.809298   \n",
       "\n",
       "                          Maternal Death Risk  ...  % Population Growth  \\\n",
       "Saint Lucia                               NaN  ...                  NaN   \n",
       "Central African Republic            -0.840461  ...            -0.586808   \n",
       "Netherlands                         -0.885008  ...            -0.350150   \n",
       "Lebanon                              0.146781  ...            -0.145843   \n",
       "Gambia                                    NaN  ...                  NaN   \n",
       "...                                       ...  ...                  ...   \n",
       "China                               -0.868190  ...            -0.550435   \n",
       "Papua New Guinea                    -0.934638  ...            -0.555830   \n",
       "Mauritania                          -0.904177  ...             0.361595   \n",
       "Pakistan                            -0.961854  ...            -0.937689   \n",
       "Kazakhstan                          -0.903483  ...             0.784347   \n",
       "\n",
       "                          % Rural Population  Civil Liberties  \\\n",
       "Saint Lucia                              NaN              NaN   \n",
       "Central African Republic           -0.684527        -0.749410   \n",
       "Netherlands                        -0.866347        -0.446415   \n",
       "Lebanon                            -0.985057         0.890831   \n",
       "Gambia                                   NaN         0.616920   \n",
       "...                                      ...              ...   \n",
       "China                              -0.983006        -0.713696   \n",
       "Papua New Guinea                    0.134850        -0.782727   \n",
       "Mauritania                         -0.955581        -0.351195   \n",
       "Pakistan                           -0.964911         0.091345   \n",
       "Kazakhstan                         -0.836288        -0.746940   \n",
       "\n",
       "                          Freedom of Expression  % Healthcare Investment  \\\n",
       "Saint Lucia                                 NaN                 0.522356   \n",
       "Central African Republic               0.037410                -0.813613   \n",
       "Netherlands                           -0.274502                 0.751672   \n",
       "Lebanon                                0.634427                 0.896726   \n",
       "Gambia                                 0.633201                -0.530365   \n",
       "...                                         ...                      ...   \n",
       "China                                 -0.956523                 0.825297   \n",
       "Papua New Guinea                      -0.603665                -0.398776   \n",
       "Mauritania                             0.341876                 0.896664   \n",
       "Pakistan                              -0.283386                -0.155086   \n",
       "Kazakhstan                            -0.675194                -0.306911   \n",
       "\n",
       "                          % Employment Industry  % Education Expenditure  \\\n",
       "Saint Lucia                           -0.545707                      NaN   \n",
       "Central African Republic               0.195268                      NaN   \n",
       "Netherlands                           -0.796055                 0.650675   \n",
       "Lebanon                                0.899102                      NaN   \n",
       "Gambia                                 0.423461                 0.592211   \n",
       "...                                         ...                      ...   \n",
       "China                                  0.767233                      NaN   \n",
       "Papua New Guinea                       0.968018                      NaN   \n",
       "Mauritania                             0.896081                      NaN   \n",
       "Pakistan                              -0.065887                      NaN   \n",
       "Kazakhstan                             0.883499                      NaN   \n",
       "\n",
       "                          % Men Employment  % Women Employment  Population  \n",
       "Saint Lucia                            NaN                 NaN    0.957435  \n",
       "Central African Republic               NaN                 NaN    0.874887  \n",
       "Netherlands                      -0.638777            0.621271    0.853087  \n",
       "Lebanon                                NaN                 NaN    0.958025  \n",
       "Gambia                                 NaN                 NaN    0.799523  \n",
       "...                                    ...                 ...         ...  \n",
       "China                                  NaN                 NaN    0.982877  \n",
       "Papua New Guinea                       NaN                 NaN    0.968027  \n",
       "Mauritania                             NaN                 NaN    0.938437  \n",
       "Pakistan                               NaN                 NaN    0.965314  \n",
       "Kazakhstan                             NaN                 NaN    0.794372  \n",
       "\n",
       "[179 rows x 21 columns]"
      ]
     },
     "execution_count": 3,
     "metadata": {},
     "output_type": "execute_result"
    }
   ],
   "source": [
    "#One dataframe per country\n",
    "\n",
    "df = pd.read_csv(df_url)\n",
    "corr_df = pd.DataFrame()\n",
    "corr_df.index.names = ['Country']\n",
    "aux_df = pd.DataFrame()\n",
    "\n",
    "#List all the countries, none repeated\n",
    "countries = set(df['Country'].to_list())\n",
    "\n",
    "country_dict = {}\n",
    "corr_dict = {}\n",
    "\n",
    "for country in countries:\n",
    "\n",
    "    #Get the DataFrame for a given country\n",
    "    country_df = df.loc[df['Country'] == country]\n",
    "\n",
    "    #Correlation matrix for that country\n",
    "    country_corr_df = country_df.corr()\n",
    "\n",
    "    #Trim it into a single row\n",
    "    country_corr_df = country_corr_df.rename(columns = {'GDP': country}).drop(index = ['Year', 'GDP'])\n",
    "\n",
    "    #Add the row to a new DataFrame with the correlations for each country\n",
    "    corr_df = pd.concat([corr_df, country_corr_df[country]], axis = 1)\n",
    "\n",
    "#Transpose the resulting DataFrame to have the desired format and show it\n",
    "corr_df = corr_df.transpose()\n",
    "corr_df\n",
    "\n",
    "#corr_df.to_csv(read_path + '/Output/corr.csv')\n"
   ]
  },
  {
   "cell_type": "code",
   "execution_count": 4,
   "metadata": {},
   "outputs": [
    {
     "name": "stdout",
     "output_type": "stream",
     "text": [
      "set()\n"
     ]
    },
    {
     "data": {
      "text/html": [
       "<div>\n",
       "<style scoped>\n",
       "    .dataframe tbody tr th:only-of-type {\n",
       "        vertical-align: middle;\n",
       "    }\n",
       "\n",
       "    .dataframe tbody tr th {\n",
       "        vertical-align: top;\n",
       "    }\n",
       "\n",
       "    .dataframe thead th {\n",
       "        text-align: right;\n",
       "    }\n",
       "</style>\n",
       "<table border=\"1\" class=\"dataframe\">\n",
       "  <thead>\n",
       "    <tr style=\"text-align: right;\">\n",
       "      <th></th>\n",
       "      <th>AgriShareGDP</th>\n",
       "      <th>CreditToAgriFishForest</th>\n",
       "      <th>EmploymentRural</th>\n",
       "      <th>TotalAgri</th>\n",
       "      <th>% Soldiers</th>\n",
       "      <th>Birth Rate</th>\n",
       "      <th>Death Rate</th>\n",
       "      <th>Homicides</th>\n",
       "      <th>Life Expectancy</th>\n",
       "      <th>Maternal Death Risk</th>\n",
       "      <th>...</th>\n",
       "      <th>% Population Growth</th>\n",
       "      <th>% Rural Population</th>\n",
       "      <th>Civil Liberties</th>\n",
       "      <th>Freedom of Expression</th>\n",
       "      <th>% Healthcare Investment</th>\n",
       "      <th>% Employment Industry</th>\n",
       "      <th>% Education Expenditure</th>\n",
       "      <th>% Men Employment</th>\n",
       "      <th>% Women Employment</th>\n",
       "      <th>Population</th>\n",
       "    </tr>\n",
       "  </thead>\n",
       "  <tbody>\n",
       "    <tr>\n",
       "      <th>Saint Lucia</th>\n",
       "      <td>-0.843703</td>\n",
       "      <td>-0.909062</td>\n",
       "      <td>NaN</td>\n",
       "      <td>0.796964</td>\n",
       "      <td>NaN</td>\n",
       "      <td>NaN</td>\n",
       "      <td>NaN</td>\n",
       "      <td>NaN</td>\n",
       "      <td>NaN</td>\n",
       "      <td>NaN</td>\n",
       "      <td>...</td>\n",
       "      <td>NaN</td>\n",
       "      <td>NaN</td>\n",
       "      <td>NaN</td>\n",
       "      <td>NaN</td>\n",
       "      <td>0.522356</td>\n",
       "      <td>-0.545707</td>\n",
       "      <td>NaN</td>\n",
       "      <td>NaN</td>\n",
       "      <td>NaN</td>\n",
       "      <td>0.957435</td>\n",
       "    </tr>\n",
       "    <tr>\n",
       "      <th>Central African Republic</th>\n",
       "      <td>-0.650892</td>\n",
       "      <td>NaN</td>\n",
       "      <td>NaN</td>\n",
       "      <td>NaN</td>\n",
       "      <td>0.363069</td>\n",
       "      <td>-0.718428</td>\n",
       "      <td>-0.729975</td>\n",
       "      <td>NaN</td>\n",
       "      <td>0.706032</td>\n",
       "      <td>-0.840461</td>\n",
       "      <td>...</td>\n",
       "      <td>-0.586808</td>\n",
       "      <td>-0.684527</td>\n",
       "      <td>-0.749410</td>\n",
       "      <td>0.037410</td>\n",
       "      <td>-0.813613</td>\n",
       "      <td>0.195268</td>\n",
       "      <td>NaN</td>\n",
       "      <td>NaN</td>\n",
       "      <td>NaN</td>\n",
       "      <td>0.874887</td>\n",
       "    </tr>\n",
       "    <tr>\n",
       "      <th>Netherlands</th>\n",
       "      <td>-0.927920</td>\n",
       "      <td>NaN</td>\n",
       "      <td>0.431737</td>\n",
       "      <td>0.920992</td>\n",
       "      <td>-0.839269</td>\n",
       "      <td>-0.848647</td>\n",
       "      <td>-0.380434</td>\n",
       "      <td>-0.775874</td>\n",
       "      <td>0.878462</td>\n",
       "      <td>-0.885008</td>\n",
       "      <td>...</td>\n",
       "      <td>-0.350150</td>\n",
       "      <td>-0.866347</td>\n",
       "      <td>-0.446415</td>\n",
       "      <td>-0.274502</td>\n",
       "      <td>0.751672</td>\n",
       "      <td>-0.796055</td>\n",
       "      <td>0.650675</td>\n",
       "      <td>-0.638777</td>\n",
       "      <td>0.621271</td>\n",
       "      <td>0.853087</td>\n",
       "    </tr>\n",
       "    <tr>\n",
       "      <th>Lebanon</th>\n",
       "      <td>-0.503101</td>\n",
       "      <td>NaN</td>\n",
       "      <td>NaN</td>\n",
       "      <td>0.891247</td>\n",
       "      <td>-0.939681</td>\n",
       "      <td>-0.122113</td>\n",
       "      <td>0.062329</td>\n",
       "      <td>NaN</td>\n",
       "      <td>0.888425</td>\n",
       "      <td>0.146781</td>\n",
       "      <td>...</td>\n",
       "      <td>-0.145843</td>\n",
       "      <td>-0.985057</td>\n",
       "      <td>0.890831</td>\n",
       "      <td>0.634427</td>\n",
       "      <td>0.896726</td>\n",
       "      <td>0.899102</td>\n",
       "      <td>NaN</td>\n",
       "      <td>NaN</td>\n",
       "      <td>NaN</td>\n",
       "      <td>0.958025</td>\n",
       "    </tr>\n",
       "    <tr>\n",
       "      <th>Gambia</th>\n",
       "      <td>-0.504079</td>\n",
       "      <td>-0.353336</td>\n",
       "      <td>NaN</td>\n",
       "      <td>0.802629</td>\n",
       "      <td>-0.473571</td>\n",
       "      <td>NaN</td>\n",
       "      <td>NaN</td>\n",
       "      <td>NaN</td>\n",
       "      <td>NaN</td>\n",
       "      <td>NaN</td>\n",
       "      <td>...</td>\n",
       "      <td>NaN</td>\n",
       "      <td>NaN</td>\n",
       "      <td>0.616920</td>\n",
       "      <td>0.633201</td>\n",
       "      <td>-0.530365</td>\n",
       "      <td>0.423461</td>\n",
       "      <td>0.592211</td>\n",
       "      <td>NaN</td>\n",
       "      <td>NaN</td>\n",
       "      <td>0.799523</td>\n",
       "    </tr>\n",
       "    <tr>\n",
       "      <th>...</th>\n",
       "      <td>...</td>\n",
       "      <td>...</td>\n",
       "      <td>...</td>\n",
       "      <td>...</td>\n",
       "      <td>...</td>\n",
       "      <td>...</td>\n",
       "      <td>...</td>\n",
       "      <td>...</td>\n",
       "      <td>...</td>\n",
       "      <td>...</td>\n",
       "      <td>...</td>\n",
       "      <td>...</td>\n",
       "      <td>...</td>\n",
       "      <td>...</td>\n",
       "      <td>...</td>\n",
       "      <td>...</td>\n",
       "      <td>...</td>\n",
       "      <td>...</td>\n",
       "      <td>...</td>\n",
       "      <td>...</td>\n",
       "      <td>...</td>\n",
       "    </tr>\n",
       "    <tr>\n",
       "      <th>China</th>\n",
       "      <td>NaN</td>\n",
       "      <td>NaN</td>\n",
       "      <td>NaN</td>\n",
       "      <td>0.949529</td>\n",
       "      <td>-0.860912</td>\n",
       "      <td>-0.362204</td>\n",
       "      <td>0.776483</td>\n",
       "      <td>-0.927046</td>\n",
       "      <td>0.982323</td>\n",
       "      <td>-0.868190</td>\n",
       "      <td>...</td>\n",
       "      <td>-0.550435</td>\n",
       "      <td>-0.983006</td>\n",
       "      <td>-0.713696</td>\n",
       "      <td>-0.956523</td>\n",
       "      <td>0.825297</td>\n",
       "      <td>0.767233</td>\n",
       "      <td>NaN</td>\n",
       "      <td>NaN</td>\n",
       "      <td>NaN</td>\n",
       "      <td>0.982877</td>\n",
       "    </tr>\n",
       "    <tr>\n",
       "      <th>Papua New Guinea</th>\n",
       "      <td>-0.906233</td>\n",
       "      <td>-0.885916</td>\n",
       "      <td>NaN</td>\n",
       "      <td>NaN</td>\n",
       "      <td>-0.352091</td>\n",
       "      <td>-0.976067</td>\n",
       "      <td>-0.970016</td>\n",
       "      <td>NaN</td>\n",
       "      <td>0.971378</td>\n",
       "      <td>-0.934638</td>\n",
       "      <td>...</td>\n",
       "      <td>-0.555830</td>\n",
       "      <td>0.134850</td>\n",
       "      <td>-0.782727</td>\n",
       "      <td>-0.603665</td>\n",
       "      <td>-0.398776</td>\n",
       "      <td>0.968018</td>\n",
       "      <td>NaN</td>\n",
       "      <td>NaN</td>\n",
       "      <td>NaN</td>\n",
       "      <td>0.968027</td>\n",
       "    </tr>\n",
       "    <tr>\n",
       "      <th>Mauritania</th>\n",
       "      <td>-0.696230</td>\n",
       "      <td>NaN</td>\n",
       "      <td>NaN</td>\n",
       "      <td>NaN</td>\n",
       "      <td>-0.946624</td>\n",
       "      <td>-0.886282</td>\n",
       "      <td>-0.938461</td>\n",
       "      <td>NaN</td>\n",
       "      <td>0.935888</td>\n",
       "      <td>-0.904177</td>\n",
       "      <td>...</td>\n",
       "      <td>0.361595</td>\n",
       "      <td>-0.955581</td>\n",
       "      <td>-0.351195</td>\n",
       "      <td>0.341876</td>\n",
       "      <td>0.896664</td>\n",
       "      <td>0.896081</td>\n",
       "      <td>NaN</td>\n",
       "      <td>NaN</td>\n",
       "      <td>NaN</td>\n",
       "      <td>0.938437</td>\n",
       "    </tr>\n",
       "    <tr>\n",
       "      <th>Pakistan</th>\n",
       "      <td>-0.356437</td>\n",
       "      <td>-0.793540</td>\n",
       "      <td>NaN</td>\n",
       "      <td>0.945026</td>\n",
       "      <td>-0.982538</td>\n",
       "      <td>-0.938940</td>\n",
       "      <td>-0.972257</td>\n",
       "      <td>-0.547593</td>\n",
       "      <td>0.978489</td>\n",
       "      <td>-0.961854</td>\n",
       "      <td>...</td>\n",
       "      <td>-0.937689</td>\n",
       "      <td>-0.964911</td>\n",
       "      <td>0.091345</td>\n",
       "      <td>-0.283386</td>\n",
       "      <td>-0.155086</td>\n",
       "      <td>-0.065887</td>\n",
       "      <td>NaN</td>\n",
       "      <td>NaN</td>\n",
       "      <td>NaN</td>\n",
       "      <td>0.965314</td>\n",
       "    </tr>\n",
       "    <tr>\n",
       "      <th>Kazakhstan</th>\n",
       "      <td>-0.913635</td>\n",
       "      <td>NaN</td>\n",
       "      <td>NaN</td>\n",
       "      <td>0.942417</td>\n",
       "      <td>-0.944020</td>\n",
       "      <td>0.906647</td>\n",
       "      <td>-0.806213</td>\n",
       "      <td>NaN</td>\n",
       "      <td>0.809298</td>\n",
       "      <td>-0.903483</td>\n",
       "      <td>...</td>\n",
       "      <td>0.784347</td>\n",
       "      <td>-0.836288</td>\n",
       "      <td>-0.746940</td>\n",
       "      <td>-0.675194</td>\n",
       "      <td>-0.306911</td>\n",
       "      <td>0.883499</td>\n",
       "      <td>NaN</td>\n",
       "      <td>NaN</td>\n",
       "      <td>NaN</td>\n",
       "      <td>0.794372</td>\n",
       "    </tr>\n",
       "  </tbody>\n",
       "</table>\n",
       "<p>179 rows × 21 columns</p>\n",
       "</div>"
      ],
      "text/plain": [
       "                          AgriShareGDP  CreditToAgriFishForest  \\\n",
       "Saint Lucia                  -0.843703               -0.909062   \n",
       "Central African Republic     -0.650892                     NaN   \n",
       "Netherlands                  -0.927920                     NaN   \n",
       "Lebanon                      -0.503101                     NaN   \n",
       "Gambia                       -0.504079               -0.353336   \n",
       "...                                ...                     ...   \n",
       "China                              NaN                     NaN   \n",
       "Papua New Guinea             -0.906233               -0.885916   \n",
       "Mauritania                   -0.696230                     NaN   \n",
       "Pakistan                     -0.356437               -0.793540   \n",
       "Kazakhstan                   -0.913635                     NaN   \n",
       "\n",
       "                          EmploymentRural  TotalAgri  % Soldiers  Birth Rate  \\\n",
       "Saint Lucia                           NaN   0.796964         NaN         NaN   \n",
       "Central African Republic              NaN        NaN    0.363069   -0.718428   \n",
       "Netherlands                      0.431737   0.920992   -0.839269   -0.848647   \n",
       "Lebanon                               NaN   0.891247   -0.939681   -0.122113   \n",
       "Gambia                                NaN   0.802629   -0.473571         NaN   \n",
       "...                                   ...        ...         ...         ...   \n",
       "China                                 NaN   0.949529   -0.860912   -0.362204   \n",
       "Papua New Guinea                      NaN        NaN   -0.352091   -0.976067   \n",
       "Mauritania                            NaN        NaN   -0.946624   -0.886282   \n",
       "Pakistan                              NaN   0.945026   -0.982538   -0.938940   \n",
       "Kazakhstan                            NaN   0.942417   -0.944020    0.906647   \n",
       "\n",
       "                          Death Rate  Homicides  Life Expectancy  \\\n",
       "Saint Lucia                      NaN        NaN              NaN   \n",
       "Central African Republic   -0.729975        NaN         0.706032   \n",
       "Netherlands                -0.380434  -0.775874         0.878462   \n",
       "Lebanon                     0.062329        NaN         0.888425   \n",
       "Gambia                           NaN        NaN              NaN   \n",
       "...                              ...        ...              ...   \n",
       "China                       0.776483  -0.927046         0.982323   \n",
       "Papua New Guinea           -0.970016        NaN         0.971378   \n",
       "Mauritania                 -0.938461        NaN         0.935888   \n",
       "Pakistan                   -0.972257  -0.547593         0.978489   \n",
       "Kazakhstan                 -0.806213        NaN         0.809298   \n",
       "\n",
       "                          Maternal Death Risk  ...  % Population Growth  \\\n",
       "Saint Lucia                               NaN  ...                  NaN   \n",
       "Central African Republic            -0.840461  ...            -0.586808   \n",
       "Netherlands                         -0.885008  ...            -0.350150   \n",
       "Lebanon                              0.146781  ...            -0.145843   \n",
       "Gambia                                    NaN  ...                  NaN   \n",
       "...                                       ...  ...                  ...   \n",
       "China                               -0.868190  ...            -0.550435   \n",
       "Papua New Guinea                    -0.934638  ...            -0.555830   \n",
       "Mauritania                          -0.904177  ...             0.361595   \n",
       "Pakistan                            -0.961854  ...            -0.937689   \n",
       "Kazakhstan                          -0.903483  ...             0.784347   \n",
       "\n",
       "                          % Rural Population  Civil Liberties  \\\n",
       "Saint Lucia                              NaN              NaN   \n",
       "Central African Republic           -0.684527        -0.749410   \n",
       "Netherlands                        -0.866347        -0.446415   \n",
       "Lebanon                            -0.985057         0.890831   \n",
       "Gambia                                   NaN         0.616920   \n",
       "...                                      ...              ...   \n",
       "China                              -0.983006        -0.713696   \n",
       "Papua New Guinea                    0.134850        -0.782727   \n",
       "Mauritania                         -0.955581        -0.351195   \n",
       "Pakistan                           -0.964911         0.091345   \n",
       "Kazakhstan                         -0.836288        -0.746940   \n",
       "\n",
       "                          Freedom of Expression  % Healthcare Investment  \\\n",
       "Saint Lucia                                 NaN                 0.522356   \n",
       "Central African Republic               0.037410                -0.813613   \n",
       "Netherlands                           -0.274502                 0.751672   \n",
       "Lebanon                                0.634427                 0.896726   \n",
       "Gambia                                 0.633201                -0.530365   \n",
       "...                                         ...                      ...   \n",
       "China                                 -0.956523                 0.825297   \n",
       "Papua New Guinea                      -0.603665                -0.398776   \n",
       "Mauritania                             0.341876                 0.896664   \n",
       "Pakistan                              -0.283386                -0.155086   \n",
       "Kazakhstan                            -0.675194                -0.306911   \n",
       "\n",
       "                          % Employment Industry  % Education Expenditure  \\\n",
       "Saint Lucia                           -0.545707                      NaN   \n",
       "Central African Republic               0.195268                      NaN   \n",
       "Netherlands                           -0.796055                 0.650675   \n",
       "Lebanon                                0.899102                      NaN   \n",
       "Gambia                                 0.423461                 0.592211   \n",
       "...                                         ...                      ...   \n",
       "China                                  0.767233                      NaN   \n",
       "Papua New Guinea                       0.968018                      NaN   \n",
       "Mauritania                             0.896081                      NaN   \n",
       "Pakistan                              -0.065887                      NaN   \n",
       "Kazakhstan                             0.883499                      NaN   \n",
       "\n",
       "                          % Men Employment  % Women Employment  Population  \n",
       "Saint Lucia                            NaN                 NaN    0.957435  \n",
       "Central African Republic               NaN                 NaN    0.874887  \n",
       "Netherlands                      -0.638777            0.621271    0.853087  \n",
       "Lebanon                                NaN                 NaN    0.958025  \n",
       "Gambia                                 NaN                 NaN    0.799523  \n",
       "...                                    ...                 ...         ...  \n",
       "China                                  NaN                 NaN    0.982877  \n",
       "Papua New Guinea                       NaN                 NaN    0.968027  \n",
       "Mauritania                             NaN                 NaN    0.938437  \n",
       "Pakistan                               NaN                 NaN    0.965314  \n",
       "Kazakhstan                             NaN                 NaN    0.794372  \n",
       "\n",
       "[179 rows x 21 columns]"
      ]
     },
     "execution_count": 4,
     "metadata": {},
     "output_type": "execute_result"
    }
   ],
   "source": [
    "#Clean the data deleting rows or columns with too many missing values\n",
    "clean_corr_df = corr_df\n",
    "\n",
    "#Indicators with no correlations\n",
    "clean_corr_df = corr_df.dropna(axis = 'columns', how = 'all')\n",
    "clean_corr_df\n",
    "\n",
    "#clean_corr_df = clean_corr_df.dropna(axis = 'rows', thresh = 10)\n",
    "\n",
    "cols = set(corr_df.columns) - set(clean_corr_df.columns)\n",
    "print(cols)\n",
    "clean_corr_df"
   ]
  },
  {
   "cell_type": "code",
   "execution_count": 5,
   "metadata": {},
   "outputs": [
    {
     "name": "stdout",
     "output_type": "stream",
     "text": [
      "143.20000000000002\n",
      "14\n",
      "139\n"
     ]
    }
   ],
   "source": [
    "#Countries still with not enough indicators\n",
    "#How many countries would remain depending on the threshold we use for indicators?\n",
    "\n",
    "dict_count = {}\n",
    "\n",
    "n_indicators = len(clean_corr_df.columns)\n",
    "\n",
    "for i in range(0, n_indicators + 1):\n",
    "    dict_count[i] = 0\n",
    "\n",
    "for country in clean_corr_df.index:\n",
    "    count = clean_corr_df.loc[country].count()\n",
    "    dict_count[count] += 1\n",
    "\n",
    "dict_count\n",
    "\n",
    "i = n_indicators - 1\n",
    "while i >= 0:\n",
    "    dict_count[i] += dict_count[i + 1]\n",
    "    i -= 1\n",
    "dict_count\n",
    "\n",
    "min = max(dict_count.values()) * 0.8\n",
    "for i in range(1, len(dict_count)):\n",
    "    if dict_count[i] < min:\n",
    "        threshold = dict_count[i]\n",
    "        break\n",
    "    i += i\n",
    "\n",
    "\n",
    "#print(len(dict_count))\n",
    "print(min)\n",
    "print(i)\n",
    "print(threshold)"
   ]
  },
  {
   "cell_type": "code",
   "execution_count": null,
   "metadata": {},
   "outputs": [],
   "source": []
  },
  {
   "cell_type": "code",
   "execution_count": 6,
   "metadata": {},
   "outputs": [
    {
     "name": "stdout",
     "output_type": "stream",
     "text": [
      "Empty DataFrame\n",
      "Columns: []\n",
      "Index: []\n",
      "                      Country Indicators\n",
      "0                 Saint Lucia          6\n",
      "1    Central African Republic         14\n",
      "2                 Netherlands         20\n",
      "3                     Lebanon         15\n",
      "4                      Gambia         10\n",
      "..                        ...        ...\n",
      "174                     China         15\n",
      "175          Papua New Guinea         15\n",
      "176                Mauritania         14\n",
      "177                  Pakistan         17\n",
      "178                Kazakhstan         15\n",
      "\n",
      "[179 rows x 2 columns]\n",
      "['Saint Lucia', 'Central African Republic', 'Netherlands', 'Lebanon', 'Gambia', 'Uganda', 'Myanmar', 'Denmark', 'Vanuatu', 'Latvia', 'Eritrea', 'South Africa', 'North Macedonia', 'Dominican Republic', 'Palau', 'United Kingdom', 'Andorra', 'Serbia', 'Spain', 'Hungary', 'Sierra Leone', 'Comoros', 'Costa Rica', 'Kenya', 'Canada', 'Malawi', 'Thailand', 'Seychelles', 'Estonia', 'Iceland', 'Philippines', 'Kyrgyzstan', 'Poland', 'Tuvalu', 'Burkina Faso', 'Ecuador', 'India', 'Luxembourg', 'Austria', 'Mozambique', 'Germany', 'Benin', 'Egypt', 'Tajikistan', 'South Sudan', 'Bhutan', 'Uruguay', 'Ethiopia', 'Bermuda', 'Belgium', 'Czechia', 'Italy', 'Cambodia', 'New Zealand', 'Solomon Islands', 'Madagascar', 'Algeria', 'Somalia', 'Nigeria', 'France', 'Guinea-Bissau', 'Aruba', 'Marshall Islands', 'Cuba', 'Montenegro', 'Romania', 'Nicaragua', 'El Salvador', 'Yemen', 'Lesotho', 'Morocco', 'United States', 'Bangladesh', 'Greenland', 'Panama', 'Mauritius', 'Turkmenistan', 'Niger', 'Singapore', 'Bulgaria', 'Lithuania', 'Grenada', 'San Marino', 'Peru', 'Australia', 'Barbados', 'Sao Tome and Principe', 'Tunisia', 'Mongolia', 'Albania', 'Guyana', 'Burundi', 'Eswatini', 'Namibia', 'Guatemala', 'United Arab Emirates', 'Congo', 'French Polynesia', 'Haiti', 'Iraq', 'Argentina', 'Honduras', 'Kiribati', 'Kuwait', 'Russia', 'Tonga', 'Gabon', 'Colombia', 'Malaysia', 'Afghanistan', 'Brazil', 'Botswana', 'Fiji', 'Mexico', 'Saudi Arabia', 'Ghana', 'Senegal', 'Nepal', 'Oman', 'Georgia', 'Greece', 'Equatorial Guinea', 'Finland', 'Cameroon', 'Japan', 'New Caledonia', 'Samoa', 'Guinea', 'Azerbaijan', 'Belarus', 'Djibouti', 'Jordan', 'Rwanda', 'Togo', 'Libya', 'Zambia', 'Sri Lanka', 'Suriname', 'Bahrain', 'Cayman Islands', 'Norway', 'Switzerland', 'Maldives', 'Belize', 'Jamaica', 'Antigua and Barbuda', 'Portugal', 'Sweden', 'Ireland', 'Chad', 'Slovakia', 'Cyprus', 'Uzbekistan', 'Nauru', 'Puerto Rico', 'Trinidad and Tobago', 'Liechtenstein', 'Sudan', 'Paraguay', 'Armenia', 'Dominica', 'Mali', 'Liberia', 'Bosnia and Herzegovina', 'Zimbabwe', 'Angola', 'Slovenia', 'Indonesia', 'Qatar', 'Croatia', 'Ukraine', 'Malta', 'Chile', 'Israel', 'China', 'Papua New Guinea', 'Mauritania', 'Pakistan', 'Kazakhstan']\n"
     ]
    },
    {
     "data": {
      "application/vnd.plotly.v1+json": {
       "config": {
        "plotlyServerURL": "https://plot.ly"
       },
       "data": [
        {
         "colorscale": [
          [
           0,
           "#636efa"
          ],
          [
           1,
           "#636efa"
          ]
         ],
         "geo": "geo",
         "hovertemplate": "<b>%{hovertext}</b><br><br>Indicators=6<br>Country=%{location}<extra></extra>",
         "hovertext": [
          "Saint Lucia",
          "Andorra",
          "Tuvalu",
          "Marshall Islands"
         ],
         "locationmode": "country names",
         "locations": [
          "Saint Lucia",
          "Andorra",
          "Tuvalu",
          "Marshall Islands"
         ],
         "name": "6",
         "showlegend": true,
         "showscale": false,
         "type": "choropleth",
         "z": [
          1,
          1,
          1,
          1
         ]
        },
        {
         "colorscale": [
          [
           0,
           "#EF553B"
          ],
          [
           1,
           "#EF553B"
          ]
         ],
         "geo": "geo",
         "hovertemplate": "<b>%{hovertext}</b><br><br>Indicators=14<br>Country=%{location}<extra></extra>",
         "hovertext": [
          "Central African Republic",
          "Lesotho",
          "Sao Tome and Principe",
          "Eswatini",
          "Gabon",
          "Afghanistan",
          "Djibouti",
          "Chad",
          "Uzbekistan",
          "Angola",
          "Mauritania"
         ],
         "locationmode": "country names",
         "locations": [
          "Central African Republic",
          "Lesotho",
          "Sao Tome and Principe",
          "Eswatini",
          "Gabon",
          "Afghanistan",
          "Djibouti",
          "Chad",
          "Uzbekistan",
          "Angola",
          "Mauritania"
         ],
         "name": "14",
         "showlegend": true,
         "showscale": false,
         "type": "choropleth",
         "z": [
          1,
          1,
          1,
          1,
          1,
          1,
          1,
          1,
          1,
          1,
          1
         ]
        },
        {
         "colorscale": [
          [
           0,
           "#00cc96"
          ],
          [
           1,
           "#00cc96"
          ]
         ],
         "geo": "geo",
         "hovertemplate": "<b>%{hovertext}</b><br><br>Indicators=20<br>Country=%{location}<extra></extra>",
         "hovertext": [
          "Netherlands",
          "Denmark",
          "Latvia",
          "Austria",
          "Germany",
          "Belgium",
          "Italy",
          "New Zealand",
          "United States",
          "Lithuania",
          "Colombia",
          "Greece",
          "Finland",
          "Portugal",
          "Sweden",
          "Cyprus",
          "Slovenia",
          "Israel"
         ],
         "locationmode": "country names",
         "locations": [
          "Netherlands",
          "Denmark",
          "Latvia",
          "Austria",
          "Germany",
          "Belgium",
          "Italy",
          "New Zealand",
          "United States",
          "Lithuania",
          "Colombia",
          "Greece",
          "Finland",
          "Portugal",
          "Sweden",
          "Cyprus",
          "Slovenia",
          "Israel"
         ],
         "name": "20",
         "showlegend": true,
         "showscale": false,
         "type": "choropleth",
         "z": [
          1,
          1,
          1,
          1,
          1,
          1,
          1,
          1,
          1,
          1,
          1,
          1,
          1,
          1,
          1,
          1,
          1,
          1
         ]
        },
        {
         "colorscale": [
          [
           0,
           "#ab63fa"
          ],
          [
           1,
           "#ab63fa"
          ]
         ],
         "geo": "geo",
         "hovertemplate": "<b>%{hovertext}</b><br><br>Indicators=15<br>Country=%{location}<extra></extra>",
         "hovertext": [
          "Lebanon",
          "Uganda",
          "Myanmar",
          "Vanuatu",
          "Serbia",
          "Sierra Leone",
          "Tajikistan",
          "Algeria",
          "Cuba",
          "Turkmenistan",
          "Namibia",
          "United Arab Emirates",
          "Iraq",
          "Fiji",
          "Saudi Arabia",
          "Equatorial Guinea",
          "Suriname",
          "Bahrain",
          "Maldives",
          "Belize",
          "Liberia",
          "Qatar",
          "China",
          "Papua New Guinea",
          "Kazakhstan"
         ],
         "locationmode": "country names",
         "locations": [
          "Lebanon",
          "Uganda",
          "Myanmar",
          "Vanuatu",
          "Serbia",
          "Sierra Leone",
          "Tajikistan",
          "Algeria",
          "Cuba",
          "Turkmenistan",
          "Namibia",
          "United Arab Emirates",
          "Iraq",
          "Fiji",
          "Saudi Arabia",
          "Equatorial Guinea",
          "Suriname",
          "Bahrain",
          "Maldives",
          "Belize",
          "Liberia",
          "Qatar",
          "China",
          "Papua New Guinea",
          "Kazakhstan"
         ],
         "name": "15",
         "showlegend": true,
         "showscale": false,
         "type": "choropleth",
         "z": [
          1,
          1,
          1,
          1,
          1,
          1,
          1,
          1,
          1,
          1,
          1,
          1,
          1,
          1,
          1,
          1,
          1,
          1,
          1,
          1,
          1,
          1,
          1,
          1,
          1
         ]
        },
        {
         "colorscale": [
          [
           0,
           "#FFA15A"
          ],
          [
           1,
           "#FFA15A"
          ]
         ],
         "geo": "geo",
         "hovertemplate": "<b>%{hovertext}</b><br><br>Indicators=10<br>Country=%{location}<extra></extra>",
         "hovertext": [
          "Gambia",
          "Kyrgyzstan",
          "Kiribati",
          "Liechtenstein"
         ],
         "locationmode": "country names",
         "locations": [
          "Gambia",
          "Kyrgyzstan",
          "Kiribati",
          "Liechtenstein"
         ],
         "name": "10",
         "showlegend": true,
         "showscale": false,
         "type": "choropleth",
         "z": [
          1,
          1,
          1,
          1
         ]
        },
        {
         "colorscale": [
          [
           0,
           "#19d3f3"
          ],
          [
           1,
           "#19d3f3"
          ]
         ],
         "geo": "geo",
         "hovertemplate": "<b>%{hovertext}</b><br><br>Indicators=13<br>Country=%{location}<extra></extra>",
         "hovertext": [
          "Eritrea",
          "Comoros",
          "Seychelles",
          "Czechia",
          "Solomon Islands",
          "Montenegro",
          "Haiti",
          "Kuwait",
          "Zimbabwe"
         ],
         "locationmode": "country names",
         "locations": [
          "Eritrea",
          "Comoros",
          "Seychelles",
          "Czechia",
          "Solomon Islands",
          "Montenegro",
          "Haiti",
          "Kuwait",
          "Zimbabwe"
         ],
         "name": "13",
         "showlegend": true,
         "showscale": false,
         "type": "choropleth",
         "z": [
          1,
          1,
          1,
          1,
          1,
          1,
          1,
          1,
          1
         ]
        },
        {
         "colorscale": [
          [
           0,
           "#FF6692"
          ],
          [
           1,
           "#FF6692"
          ]
         ],
         "geo": "geo",
         "hovertemplate": "<b>%{hovertext}</b><br><br>Indicators=18<br>Country=%{location}<extra></extra>",
         "hovertext": [
          "South Africa",
          "Dominican Republic",
          "El Salvador",
          "Guyana",
          "Argentina",
          "Russia",
          "Ghana",
          "Nepal",
          "Jamaica",
          "Chile"
         ],
         "locationmode": "country names",
         "locations": [
          "South Africa",
          "Dominican Republic",
          "El Salvador",
          "Guyana",
          "Argentina",
          "Russia",
          "Ghana",
          "Nepal",
          "Jamaica",
          "Chile"
         ],
         "name": "18",
         "showlegend": true,
         "showscale": false,
         "type": "choropleth",
         "z": [
          1,
          1,
          1,
          1,
          1,
          1,
          1,
          1,
          1,
          1
         ]
        },
        {
         "colorscale": [
          [
           0,
           "#B6E880"
          ],
          [
           1,
           "#B6E880"
          ]
         ],
         "geo": "geo",
         "hovertemplate": "<b>%{hovertext}</b><br><br>Indicators=16<br>Country=%{location}<extra></extra>",
         "hovertext": [
          "North Macedonia",
          "Malawi",
          "Mozambique",
          "Benin",
          "Bhutan",
          "Ethiopia",
          "Cambodia",
          "Madagascar",
          "Nigeria",
          "Guinea-Bissau",
          "Morocco",
          "Singapore",
          "Tunisia",
          "Mongolia",
          "Albania",
          "Burundi",
          "Guatemala",
          "Honduras",
          "Botswana",
          "Oman",
          "Georgia",
          "Cameroon",
          "Guinea",
          "Jordan",
          "Rwanda",
          "Zambia",
          "Sri Lanka",
          "Bosnia and Herzegovina"
         ],
         "locationmode": "country names",
         "locations": [
          "North Macedonia",
          "Malawi",
          "Mozambique",
          "Benin",
          "Bhutan",
          "Ethiopia",
          "Cambodia",
          "Madagascar",
          "Nigeria",
          "Guinea-Bissau",
          "Morocco",
          "Singapore",
          "Tunisia",
          "Mongolia",
          "Albania",
          "Burundi",
          "Guatemala",
          "Honduras",
          "Botswana",
          "Oman",
          "Georgia",
          "Cameroon",
          "Guinea",
          "Jordan",
          "Rwanda",
          "Zambia",
          "Sri Lanka",
          "Bosnia and Herzegovina"
         ],
         "name": "16",
         "showlegend": true,
         "showscale": false,
         "type": "choropleth",
         "z": [
          1,
          1,
          1,
          1,
          1,
          1,
          1,
          1,
          1,
          1,
          1,
          1,
          1,
          1,
          1,
          1,
          1,
          1,
          1,
          1,
          1,
          1,
          1,
          1,
          1,
          1,
          1,
          1
         ]
        },
        {
         "colorscale": [
          [
           0,
           "#FF97FF"
          ],
          [
           1,
           "#FF97FF"
          ]
         ],
         "geo": "geo",
         "hovertemplate": "<b>%{hovertext}</b><br><br>Indicators=8<br>Country=%{location}<extra></extra>",
         "hovertext": [
          "Palau",
          "Aruba",
          "Greenland",
          "San Marino",
          "Congo",
          "French Polynesia",
          "New Caledonia",
          "Dominica"
         ],
         "locationmode": "country names",
         "locations": [
          "Palau",
          "Aruba",
          "Greenland",
          "San Marino",
          "Congo",
          "French Polynesia",
          "New Caledonia",
          "Dominica"
         ],
         "name": "8",
         "showlegend": true,
         "showscale": false,
         "type": "choropleth",
         "z": [
          1,
          1,
          1,
          1,
          1,
          1,
          1,
          1
         ]
        },
        {
         "colorscale": [
          [
           0,
           "#FECB52"
          ],
          [
           1,
           "#FECB52"
          ]
         ],
         "geo": "geo",
         "hovertemplate": "<b>%{hovertext}</b><br><br>Indicators=21<br>Country=%{location}<extra></extra>",
         "hovertext": [
          "United Kingdom",
          "Spain",
          "Hungary",
          "Costa Rica",
          "Estonia",
          "Mexico",
          "Ireland"
         ],
         "locationmode": "country names",
         "locations": [
          "United Kingdom",
          "Spain",
          "Hungary",
          "Costa Rica",
          "Estonia",
          "Mexico",
          "Ireland"
         ],
         "name": "21",
         "showlegend": true,
         "showscale": false,
         "type": "choropleth",
         "z": [
          1,
          1,
          1,
          1,
          1,
          1,
          1
         ]
        },
        {
         "colorscale": [
          [
           0,
           "#636efa"
          ],
          [
           1,
           "#636efa"
          ]
         ],
         "geo": "geo",
         "hovertemplate": "<b>%{hovertext}</b><br><br>Indicators=17<br>Country=%{location}<extra></extra>",
         "hovertext": [
          "Kenya",
          "Burkina Faso",
          "Ecuador",
          "India",
          "Luxembourg",
          "Uruguay",
          "Nicaragua",
          "Bangladesh",
          "Panama",
          "Mauritius",
          "Niger",
          "Peru",
          "Barbados",
          "Malaysia",
          "Brazil",
          "Senegal",
          "Azerbaijan",
          "Belarus",
          "Togo",
          "Trinidad and Tobago",
          "Paraguay",
          "Armenia",
          "Mali",
          "Croatia",
          "Ukraine",
          "Pakistan"
         ],
         "locationmode": "country names",
         "locations": [
          "Kenya",
          "Burkina Faso",
          "Ecuador",
          "India",
          "Luxembourg",
          "Uruguay",
          "Nicaragua",
          "Bangladesh",
          "Panama",
          "Mauritius",
          "Niger",
          "Peru",
          "Barbados",
          "Malaysia",
          "Brazil",
          "Senegal",
          "Azerbaijan",
          "Belarus",
          "Togo",
          "Trinidad and Tobago",
          "Paraguay",
          "Armenia",
          "Mali",
          "Croatia",
          "Ukraine",
          "Pakistan"
         ],
         "name": "17",
         "showlegend": true,
         "showscale": false,
         "type": "choropleth",
         "z": [
          1,
          1,
          1,
          1,
          1,
          1,
          1,
          1,
          1,
          1,
          1,
          1,
          1,
          1,
          1,
          1,
          1,
          1,
          1,
          1,
          1,
          1,
          1,
          1,
          1,
          1
         ]
        },
        {
         "colorscale": [
          [
           0,
           "#EF553B"
          ],
          [
           1,
           "#EF553B"
          ]
         ],
         "geo": "geo",
         "hovertemplate": "<b>%{hovertext}</b><br><br>Indicators=19<br>Country=%{location}<extra></extra>",
         "hovertext": [
          "Canada",
          "Thailand",
          "Iceland",
          "Philippines",
          "Poland",
          "France",
          "Romania",
          "Bulgaria",
          "Australia",
          "Japan",
          "Norway",
          "Switzerland",
          "Indonesia",
          "Malta"
         ],
         "locationmode": "country names",
         "locations": [
          "Canada",
          "Thailand",
          "Iceland",
          "Philippines",
          "Poland",
          "France",
          "Romania",
          "Bulgaria",
          "Australia",
          "Japan",
          "Norway",
          "Switzerland",
          "Indonesia",
          "Malta"
         ],
         "name": "19",
         "showlegend": true,
         "showscale": false,
         "type": "choropleth",
         "z": [
          1,
          1,
          1,
          1,
          1,
          1,
          1,
          1,
          1,
          1,
          1,
          1,
          1,
          1
         ]
        },
        {
         "colorscale": [
          [
           0,
           "#00cc96"
          ],
          [
           1,
           "#00cc96"
          ]
         ],
         "geo": "geo",
         "hovertemplate": "<b>%{hovertext}</b><br><br>Indicators=11<br>Country=%{location}<extra></extra>",
         "hovertext": [
          "Egypt",
          "Tonga",
          "Samoa",
          "Slovakia",
          "Puerto Rico"
         ],
         "locationmode": "country names",
         "locations": [
          "Egypt",
          "Tonga",
          "Samoa",
          "Slovakia",
          "Puerto Rico"
         ],
         "name": "11",
         "showlegend": true,
         "showscale": false,
         "type": "choropleth",
         "z": [
          1,
          1,
          1,
          1,
          1
         ]
        },
        {
         "colorscale": [
          [
           0,
           "#ab63fa"
          ],
          [
           1,
           "#ab63fa"
          ]
         ],
         "geo": "geo",
         "hovertemplate": "<b>%{hovertext}</b><br><br>Indicators=0<br>Country=%{location}<extra></extra>",
         "hovertext": [
          "South Sudan",
          "Sudan"
         ],
         "locationmode": "country names",
         "locations": [
          "South Sudan",
          "Sudan"
         ],
         "name": "0",
         "showlegend": true,
         "showscale": false,
         "type": "choropleth",
         "z": [
          1,
          1
         ]
        },
        {
         "colorscale": [
          [
           0,
           "#FFA15A"
          ],
          [
           1,
           "#FFA15A"
          ]
         ],
         "geo": "geo",
         "hovertemplate": "<b>%{hovertext}</b><br><br>Indicators=7<br>Country=%{location}<extra></extra>",
         "hovertext": [
          "Bermuda"
         ],
         "locationmode": "country names",
         "locations": [
          "Bermuda"
         ],
         "name": "7",
         "showlegend": true,
         "showscale": false,
         "type": "choropleth",
         "z": [
          1
         ]
        },
        {
         "colorscale": [
          [
           0,
           "#19d3f3"
          ],
          [
           1,
           "#19d3f3"
          ]
         ],
         "geo": "geo",
         "hovertemplate": "<b>%{hovertext}</b><br><br>Indicators=12<br>Country=%{location}<extra></extra>",
         "hovertext": [
          "Somalia",
          "Grenada",
          "Libya",
          "Antigua and Barbuda"
         ],
         "locationmode": "country names",
         "locations": [
          "Somalia",
          "Grenada",
          "Libya",
          "Antigua and Barbuda"
         ],
         "name": "12",
         "showlegend": true,
         "showscale": false,
         "type": "choropleth",
         "z": [
          1,
          1,
          1,
          1
         ]
        },
        {
         "colorscale": [
          [
           0,
           "#FF6692"
          ],
          [
           1,
           "#FF6692"
          ]
         ],
         "geo": "geo",
         "hovertemplate": "<b>%{hovertext}</b><br><br>Indicators=9<br>Country=%{location}<extra></extra>",
         "hovertext": [
          "Yemen"
         ],
         "locationmode": "country names",
         "locations": [
          "Yemen"
         ],
         "name": "9",
         "showlegend": true,
         "showscale": false,
         "type": "choropleth",
         "z": [
          1
         ]
        },
        {
         "colorscale": [
          [
           0,
           "#B6E880"
          ],
          [
           1,
           "#B6E880"
          ]
         ],
         "geo": "geo",
         "hovertemplate": "<b>%{hovertext}</b><br><br>Indicators=5<br>Country=%{location}<extra></extra>",
         "hovertext": [
          "Cayman Islands",
          "Nauru"
         ],
         "locationmode": "country names",
         "locations": [
          "Cayman Islands",
          "Nauru"
         ],
         "name": "5",
         "showlegend": true,
         "showscale": false,
         "type": "choropleth",
         "z": [
          1,
          1
         ]
        }
       ],
       "layout": {
        "coloraxis": {
         "showscale": true
        },
        "geo": {
         "center": {},
         "domain": {
          "x": [
           0,
           1
          ],
          "y": [
           0,
           1
          ]
         },
         "projection": {
          "type": "mercator"
         }
        },
        "height": 500,
        "legend": {
         "title": {
          "text": "Indicators"
         },
         "tracegroupgap": 0
        },
        "margin": {
         "t": 60
        },
        "template": {
         "data": {
          "bar": [
           {
            "error_x": {
             "color": "#2a3f5f"
            },
            "error_y": {
             "color": "#2a3f5f"
            },
            "marker": {
             "line": {
              "color": "#E5ECF6",
              "width": 0.5
             },
             "pattern": {
              "fillmode": "overlay",
              "size": 10,
              "solidity": 0.2
             }
            },
            "type": "bar"
           }
          ],
          "barpolar": [
           {
            "marker": {
             "line": {
              "color": "#E5ECF6",
              "width": 0.5
             },
             "pattern": {
              "fillmode": "overlay",
              "size": 10,
              "solidity": 0.2
             }
            },
            "type": "barpolar"
           }
          ],
          "carpet": [
           {
            "aaxis": {
             "endlinecolor": "#2a3f5f",
             "gridcolor": "white",
             "linecolor": "white",
             "minorgridcolor": "white",
             "startlinecolor": "#2a3f5f"
            },
            "baxis": {
             "endlinecolor": "#2a3f5f",
             "gridcolor": "white",
             "linecolor": "white",
             "minorgridcolor": "white",
             "startlinecolor": "#2a3f5f"
            },
            "type": "carpet"
           }
          ],
          "choropleth": [
           {
            "colorbar": {
             "outlinewidth": 0,
             "ticks": ""
            },
            "type": "choropleth"
           }
          ],
          "contour": [
           {
            "colorbar": {
             "outlinewidth": 0,
             "ticks": ""
            },
            "colorscale": [
             [
              0,
              "#0d0887"
             ],
             [
              0.1111111111111111,
              "#46039f"
             ],
             [
              0.2222222222222222,
              "#7201a8"
             ],
             [
              0.3333333333333333,
              "#9c179e"
             ],
             [
              0.4444444444444444,
              "#bd3786"
             ],
             [
              0.5555555555555556,
              "#d8576b"
             ],
             [
              0.6666666666666666,
              "#ed7953"
             ],
             [
              0.7777777777777778,
              "#fb9f3a"
             ],
             [
              0.8888888888888888,
              "#fdca26"
             ],
             [
              1,
              "#f0f921"
             ]
            ],
            "type": "contour"
           }
          ],
          "contourcarpet": [
           {
            "colorbar": {
             "outlinewidth": 0,
             "ticks": ""
            },
            "type": "contourcarpet"
           }
          ],
          "heatmap": [
           {
            "colorbar": {
             "outlinewidth": 0,
             "ticks": ""
            },
            "colorscale": [
             [
              0,
              "#0d0887"
             ],
             [
              0.1111111111111111,
              "#46039f"
             ],
             [
              0.2222222222222222,
              "#7201a8"
             ],
             [
              0.3333333333333333,
              "#9c179e"
             ],
             [
              0.4444444444444444,
              "#bd3786"
             ],
             [
              0.5555555555555556,
              "#d8576b"
             ],
             [
              0.6666666666666666,
              "#ed7953"
             ],
             [
              0.7777777777777778,
              "#fb9f3a"
             ],
             [
              0.8888888888888888,
              "#fdca26"
             ],
             [
              1,
              "#f0f921"
             ]
            ],
            "type": "heatmap"
           }
          ],
          "heatmapgl": [
           {
            "colorbar": {
             "outlinewidth": 0,
             "ticks": ""
            },
            "colorscale": [
             [
              0,
              "#0d0887"
             ],
             [
              0.1111111111111111,
              "#46039f"
             ],
             [
              0.2222222222222222,
              "#7201a8"
             ],
             [
              0.3333333333333333,
              "#9c179e"
             ],
             [
              0.4444444444444444,
              "#bd3786"
             ],
             [
              0.5555555555555556,
              "#d8576b"
             ],
             [
              0.6666666666666666,
              "#ed7953"
             ],
             [
              0.7777777777777778,
              "#fb9f3a"
             ],
             [
              0.8888888888888888,
              "#fdca26"
             ],
             [
              1,
              "#f0f921"
             ]
            ],
            "type": "heatmapgl"
           }
          ],
          "histogram": [
           {
            "marker": {
             "pattern": {
              "fillmode": "overlay",
              "size": 10,
              "solidity": 0.2
             }
            },
            "type": "histogram"
           }
          ],
          "histogram2d": [
           {
            "colorbar": {
             "outlinewidth": 0,
             "ticks": ""
            },
            "colorscale": [
             [
              0,
              "#0d0887"
             ],
             [
              0.1111111111111111,
              "#46039f"
             ],
             [
              0.2222222222222222,
              "#7201a8"
             ],
             [
              0.3333333333333333,
              "#9c179e"
             ],
             [
              0.4444444444444444,
              "#bd3786"
             ],
             [
              0.5555555555555556,
              "#d8576b"
             ],
             [
              0.6666666666666666,
              "#ed7953"
             ],
             [
              0.7777777777777778,
              "#fb9f3a"
             ],
             [
              0.8888888888888888,
              "#fdca26"
             ],
             [
              1,
              "#f0f921"
             ]
            ],
            "type": "histogram2d"
           }
          ],
          "histogram2dcontour": [
           {
            "colorbar": {
             "outlinewidth": 0,
             "ticks": ""
            },
            "colorscale": [
             [
              0,
              "#0d0887"
             ],
             [
              0.1111111111111111,
              "#46039f"
             ],
             [
              0.2222222222222222,
              "#7201a8"
             ],
             [
              0.3333333333333333,
              "#9c179e"
             ],
             [
              0.4444444444444444,
              "#bd3786"
             ],
             [
              0.5555555555555556,
              "#d8576b"
             ],
             [
              0.6666666666666666,
              "#ed7953"
             ],
             [
              0.7777777777777778,
              "#fb9f3a"
             ],
             [
              0.8888888888888888,
              "#fdca26"
             ],
             [
              1,
              "#f0f921"
             ]
            ],
            "type": "histogram2dcontour"
           }
          ],
          "mesh3d": [
           {
            "colorbar": {
             "outlinewidth": 0,
             "ticks": ""
            },
            "type": "mesh3d"
           }
          ],
          "parcoords": [
           {
            "line": {
             "colorbar": {
              "outlinewidth": 0,
              "ticks": ""
             }
            },
            "type": "parcoords"
           }
          ],
          "pie": [
           {
            "automargin": true,
            "type": "pie"
           }
          ],
          "scatter": [
           {
            "fillpattern": {
             "fillmode": "overlay",
             "size": 10,
             "solidity": 0.2
            },
            "type": "scatter"
           }
          ],
          "scatter3d": [
           {
            "line": {
             "colorbar": {
              "outlinewidth": 0,
              "ticks": ""
             }
            },
            "marker": {
             "colorbar": {
              "outlinewidth": 0,
              "ticks": ""
             }
            },
            "type": "scatter3d"
           }
          ],
          "scattercarpet": [
           {
            "marker": {
             "colorbar": {
              "outlinewidth": 0,
              "ticks": ""
             }
            },
            "type": "scattercarpet"
           }
          ],
          "scattergeo": [
           {
            "marker": {
             "colorbar": {
              "outlinewidth": 0,
              "ticks": ""
             }
            },
            "type": "scattergeo"
           }
          ],
          "scattergl": [
           {
            "marker": {
             "colorbar": {
              "outlinewidth": 0,
              "ticks": ""
             }
            },
            "type": "scattergl"
           }
          ],
          "scattermapbox": [
           {
            "marker": {
             "colorbar": {
              "outlinewidth": 0,
              "ticks": ""
             }
            },
            "type": "scattermapbox"
           }
          ],
          "scatterpolar": [
           {
            "marker": {
             "colorbar": {
              "outlinewidth": 0,
              "ticks": ""
             }
            },
            "type": "scatterpolar"
           }
          ],
          "scatterpolargl": [
           {
            "marker": {
             "colorbar": {
              "outlinewidth": 0,
              "ticks": ""
             }
            },
            "type": "scatterpolargl"
           }
          ],
          "scatterternary": [
           {
            "marker": {
             "colorbar": {
              "outlinewidth": 0,
              "ticks": ""
             }
            },
            "type": "scatterternary"
           }
          ],
          "surface": [
           {
            "colorbar": {
             "outlinewidth": 0,
             "ticks": ""
            },
            "colorscale": [
             [
              0,
              "#0d0887"
             ],
             [
              0.1111111111111111,
              "#46039f"
             ],
             [
              0.2222222222222222,
              "#7201a8"
             ],
             [
              0.3333333333333333,
              "#9c179e"
             ],
             [
              0.4444444444444444,
              "#bd3786"
             ],
             [
              0.5555555555555556,
              "#d8576b"
             ],
             [
              0.6666666666666666,
              "#ed7953"
             ],
             [
              0.7777777777777778,
              "#fb9f3a"
             ],
             [
              0.8888888888888888,
              "#fdca26"
             ],
             [
              1,
              "#f0f921"
             ]
            ],
            "type": "surface"
           }
          ],
          "table": [
           {
            "cells": {
             "fill": {
              "color": "#EBF0F8"
             },
             "line": {
              "color": "white"
             }
            },
            "header": {
             "fill": {
              "color": "#C8D4E3"
             },
             "line": {
              "color": "white"
             }
            },
            "type": "table"
           }
          ]
         },
         "layout": {
          "annotationdefaults": {
           "arrowcolor": "#2a3f5f",
           "arrowhead": 0,
           "arrowwidth": 1
          },
          "autotypenumbers": "strict",
          "coloraxis": {
           "colorbar": {
            "outlinewidth": 0,
            "ticks": ""
           }
          },
          "colorscale": {
           "diverging": [
            [
             0,
             "#8e0152"
            ],
            [
             0.1,
             "#c51b7d"
            ],
            [
             0.2,
             "#de77ae"
            ],
            [
             0.3,
             "#f1b6da"
            ],
            [
             0.4,
             "#fde0ef"
            ],
            [
             0.5,
             "#f7f7f7"
            ],
            [
             0.6,
             "#e6f5d0"
            ],
            [
             0.7,
             "#b8e186"
            ],
            [
             0.8,
             "#7fbc41"
            ],
            [
             0.9,
             "#4d9221"
            ],
            [
             1,
             "#276419"
            ]
           ],
           "sequential": [
            [
             0,
             "#0d0887"
            ],
            [
             0.1111111111111111,
             "#46039f"
            ],
            [
             0.2222222222222222,
             "#7201a8"
            ],
            [
             0.3333333333333333,
             "#9c179e"
            ],
            [
             0.4444444444444444,
             "#bd3786"
            ],
            [
             0.5555555555555556,
             "#d8576b"
            ],
            [
             0.6666666666666666,
             "#ed7953"
            ],
            [
             0.7777777777777778,
             "#fb9f3a"
            ],
            [
             0.8888888888888888,
             "#fdca26"
            ],
            [
             1,
             "#f0f921"
            ]
           ],
           "sequentialminus": [
            [
             0,
             "#0d0887"
            ],
            [
             0.1111111111111111,
             "#46039f"
            ],
            [
             0.2222222222222222,
             "#7201a8"
            ],
            [
             0.3333333333333333,
             "#9c179e"
            ],
            [
             0.4444444444444444,
             "#bd3786"
            ],
            [
             0.5555555555555556,
             "#d8576b"
            ],
            [
             0.6666666666666666,
             "#ed7953"
            ],
            [
             0.7777777777777778,
             "#fb9f3a"
            ],
            [
             0.8888888888888888,
             "#fdca26"
            ],
            [
             1,
             "#f0f921"
            ]
           ]
          },
          "colorway": [
           "#636efa",
           "#EF553B",
           "#00cc96",
           "#ab63fa",
           "#FFA15A",
           "#19d3f3",
           "#FF6692",
           "#B6E880",
           "#FF97FF",
           "#FECB52"
          ],
          "font": {
           "color": "#2a3f5f"
          },
          "geo": {
           "bgcolor": "white",
           "lakecolor": "white",
           "landcolor": "#E5ECF6",
           "showlakes": true,
           "showland": true,
           "subunitcolor": "white"
          },
          "hoverlabel": {
           "align": "left"
          },
          "hovermode": "closest",
          "mapbox": {
           "style": "light"
          },
          "paper_bgcolor": "white",
          "plot_bgcolor": "#E5ECF6",
          "polar": {
           "angularaxis": {
            "gridcolor": "white",
            "linecolor": "white",
            "ticks": ""
           },
           "bgcolor": "#E5ECF6",
           "radialaxis": {
            "gridcolor": "white",
            "linecolor": "white",
            "ticks": ""
           }
          },
          "scene": {
           "xaxis": {
            "backgroundcolor": "#E5ECF6",
            "gridcolor": "white",
            "gridwidth": 2,
            "linecolor": "white",
            "showbackground": true,
            "ticks": "",
            "zerolinecolor": "white"
           },
           "yaxis": {
            "backgroundcolor": "#E5ECF6",
            "gridcolor": "white",
            "gridwidth": 2,
            "linecolor": "white",
            "showbackground": true,
            "ticks": "",
            "zerolinecolor": "white"
           },
           "zaxis": {
            "backgroundcolor": "#E5ECF6",
            "gridcolor": "white",
            "gridwidth": 2,
            "linecolor": "white",
            "showbackground": true,
            "ticks": "",
            "zerolinecolor": "white"
           }
          },
          "shapedefaults": {
           "line": {
            "color": "#2a3f5f"
           }
          },
          "ternary": {
           "aaxis": {
            "gridcolor": "white",
            "linecolor": "white",
            "ticks": ""
           },
           "baxis": {
            "gridcolor": "white",
            "linecolor": "white",
            "ticks": ""
           },
           "bgcolor": "#E5ECF6",
           "caxis": {
            "gridcolor": "white",
            "linecolor": "white",
            "ticks": ""
           }
          },
          "title": {
           "x": 0.05
          },
          "xaxis": {
           "automargin": true,
           "gridcolor": "white",
           "linecolor": "white",
           "ticks": "",
           "title": {
            "standoff": 15
           },
           "zerolinecolor": "white",
           "zerolinewidth": 2
          },
          "yaxis": {
           "automargin": true,
           "gridcolor": "white",
           "linecolor": "white",
           "ticks": "",
           "title": {
            "standoff": 15
           },
           "zerolinecolor": "white",
           "zerolinewidth": 2
          }
         }
        },
        "width": 700
       }
      }
     },
     "metadata": {},
     "output_type": "display_data"
    },
    {
     "data": {
      "text/plain": [
       "' \\nfig = px.choropleth(grp, locations=\"Country\", locationmode=\\'country names\\', \\n                     color=\"Confirmed\", hover_name=\"Country/Region\",hover_data = [grp.Recovered,grp.Deaths],projection=\"mercator\",\\n                     color_continuous_scale=\\'Reds\\',\\n                 width=700, height=500)\\nfig.update(layout_coloraxis_showscale=True) '"
      ]
     },
     "execution_count": 6,
     "metadata": {},
     "output_type": "execute_result"
    }
   ],
   "source": [
    "#What countries would be deleted?\n",
    "df_count = pd.DataFrame()\n",
    "print(df_count)\n",
    "for country in corr_df.index:\n",
    "    count = corr_df.loc[country].count()\n",
    "    country_series = pd.Series({'Country': country, 'Indicators': count})\n",
    "    df_count = pd.concat([df_count, country_series], axis = 1, ignore_index = True)\n",
    "    #df_count = df_count.append({'Country': country, 'Indicators': count}, ignore_index = True)\n",
    "\n",
    "df_count = df_count.transpose()\n",
    "print(df_count)\n",
    "\n",
    "print(list(df_count['Country']))\n",
    "\n",
    "import plotly.express as px\n",
    "\n",
    "fig = px.choropleth(df_count, locations=\"Country\", locationmode='country names', \n",
    "                     color=\"Indicators\", hover_name=\"Country\",projection=\"mercator\",\n",
    "                     color_continuous_scale='Reds',\n",
    "                 width=700, height=500)\n",
    "fig.update(layout_coloraxis_showscale=True)\n",
    "\n",
    "fig.show()\n",
    "\n",
    "#grp = cases.groupby(['Country/Region'])[['Confirmed', 'Deaths', 'Recovered']].max()\n",
    "#grp = grp.reset_index()\n",
    "#grp['Country'] = grp['Country/Region']\n",
    "\"\"\" \n",
    "fig = px.choropleth(grp, locations=\"Country\", locationmode='country names', \n",
    "                     color=\"Confirmed\", hover_name=\"Country/Region\",hover_data = [grp.Recovered,grp.Deaths],projection=\"mercator\",\n",
    "                     color_continuous_scale='Reds',\n",
    "                 width=700, height=500)\n",
    "fig.update(layout_coloraxis_showscale=True) \"\"\""
   ]
  },
  {
   "cell_type": "code",
   "execution_count": 7,
   "metadata": {},
   "outputs": [
    {
     "data": {
      "text/plain": [
       "\" #corr_dict = {}\\n\\ncor=country_dict['Spain'].corr()['GDP'].to_list()\\nprint(cor)\\n#Correlations and all \""
      ]
     },
     "execution_count": 7,
     "metadata": {},
     "output_type": "execute_result"
    }
   ],
   "source": [
    "\"\"\" #corr_dict = {}\n",
    "\n",
    "cor=country_dict['Spain'].corr()['GDP'].to_list()\n",
    "print(cor)\n",
    "#Correlations and all \"\"\"\n",
    "\n"
   ]
  },
  {
   "cell_type": "code",
   "execution_count": 8,
   "metadata": {},
   "outputs": [],
   "source": [
    "import numpy as np\n",
    "import pandas as pd\n",
    "import matplotlib.pyplot as plt\n",
    "from matplotlib import gridspec\n",
    "from sklearn.cluster import OPTICS, cluster_optics_dbscan\n",
    "from sklearn.preprocessing import normalize, StandardScaler"
   ]
  },
  {
   "cell_type": "code",
   "execution_count": 9,
   "metadata": {},
   "outputs": [
    {
     "data": {
      "text/plain": [
       "\" print(corr_df)\\ncountry_col = corr_df['Country']\\ncorr_df = df.iloc[:, :-1] \""
      ]
     },
     "execution_count": 9,
     "metadata": {},
     "output_type": "execute_result"
    }
   ],
   "source": [
    "\"\"\" print(corr_df)\n",
    "country_col = corr_df['Country']\n",
    "corr_df = df.iloc[:, :-1] \"\"\""
   ]
  },
  {
   "cell_type": "code",
   "execution_count": 10,
   "metadata": {},
   "outputs": [
    {
     "name": "stdout",
     "output_type": "stream",
     "text": [
      "Index(['Saint Lucia', 'Central African Republic', 'Netherlands', 'Lebanon',\n",
      "       'Gambia', 'Uganda', 'Myanmar', 'Denmark', 'Vanuatu', 'Latvia',\n",
      "       ...\n",
      "       'Croatia', 'Ukraine', 'Malta', 'Chile', 'Israel', 'China',\n",
      "       'Papua New Guinea', 'Mauritania', 'Pakistan', 'Kazakhstan'],\n",
      "      dtype='object', length=179)\n",
      "     AgriShareGDP  CreditToAgriFishForest  EmploymentRural  TotalAgri  \\\n",
      "0       -0.124515               -0.267890         0.050465  -0.031174   \n",
      "1       -0.080309               -0.413174         0.077833  -0.048080   \n",
      "2       -0.263792               -0.452539         0.306302   0.115673   \n",
      "3        0.004248               -0.328998         0.222683   0.054745   \n",
      "4        0.004454               -0.145193         0.261190  -0.038348   \n",
      "..            ...                     ...              ...        ...   \n",
      "174     -0.124751               -0.123234        -0.046174   0.114317   \n",
      "175     -0.174892               -0.308325        -0.043625   0.108004   \n",
      "176     -0.090824               -0.342942        -0.048522   0.120131   \n",
      "177      0.082517               -0.328509        -0.052018   0.123686   \n",
      "178     -0.168610               -0.260709        -0.041282   0.095815   \n",
      "\n",
      "     % Soldiers  Birth Rate  Death Rate  Homicides  Life Expectancy  \\\n",
      "0      0.163436    0.160450    0.053153   0.132899        -0.601721   \n",
      "1      0.447478   -0.095721   -0.190271   0.204973        -0.149808   \n",
      "2     -0.218649   -0.172973   -0.065614  -0.226566         0.044093   \n",
      "3     -0.201991    0.150602    0.083788  -0.164715         0.040800   \n",
      "4     -0.002622    0.176644    0.098277  -0.193197         0.047855   \n",
      "..          ...         ...         ...        ...              ...   \n",
      "174   -0.171329    0.060368    0.301317  -0.232814         0.125482   \n",
      "175    0.047940   -0.167626   -0.214363  -0.219958         0.109310   \n",
      "176   -0.219352   -0.149898   -0.228401  -0.244654         0.088246   \n",
      "177   -0.252810   -0.183674   -0.256368  -0.078278         0.137500   \n",
      "178   -0.185604    0.493406   -0.158560  -0.062123        -0.026086   \n",
      "\n",
      "     Maternal Death Risk  ...  % Population Growth  % Rural Population  \\\n",
      "0               0.380347  ...             0.016210            0.206947   \n",
      "1              -0.068463  ...            -0.235315           -0.019392   \n",
      "2              -0.113015  ...            -0.142747           -0.119737   \n",
      "3               0.558205  ...            -0.031609           -0.133803   \n",
      "4               0.654731  ...            -0.037075           -0.156940   \n",
      "..                   ...  ...                  ...                 ...   \n",
      "174            -0.073044  ...            -0.177736           -0.135441   \n",
      "175            -0.108690  ...            -0.169755            0.295635   \n",
      "176            -0.100660  ...             0.157999           -0.130770   \n",
      "177            -0.148980  ...            -0.357166           -0.144405   \n",
      "178            -0.085248  ...             0.270387           -0.068479   \n",
      "\n",
      "     Civil Liberties  Freedom of Expression  % Healthcare Investment  \\\n",
      "0          -0.011805               0.002684                 0.099742   \n",
      "1          -0.379711               0.021954                -0.450627   \n",
      "2          -0.255802              -0.138645                 0.282130   \n",
      "3           0.327677               0.243872                 0.257369   \n",
      "4           0.260934               0.285497                -0.301176   \n",
      "..               ...                    ...                      ...   \n",
      "174        -0.293943              -0.366030                 0.235896   \n",
      "175        -0.303224              -0.217077                -0.201444   \n",
      "176        -0.159880               0.142266                 0.275409   \n",
      "177         0.023620              -0.119505                -0.139475   \n",
      "178        -0.274425              -0.230116                -0.160492   \n",
      "\n",
      "     % Employment Industry  % Education Expenditure  % Men Employment  \\\n",
      "0                -0.130511                -0.021591          0.065938   \n",
      "1                 0.081021                -0.033301          0.101698   \n",
      "2                -0.324939                 0.303525         -0.234856   \n",
      "3                 0.278044                 0.220665         -0.170742   \n",
      "4                 0.156871                 0.232772         -0.200266   \n",
      "..                     ...                      ...               ...   \n",
      "174               0.242416                 0.334650          0.447585   \n",
      "175               0.287639                 0.316171          0.422870   \n",
      "176               0.296577                 0.351669          0.470347   \n",
      "177              -0.016881                 0.376999          0.504226   \n",
      "178               0.248846                 0.299192          0.400161   \n",
      "\n",
      "     % Women Employment  Population  \n",
      "0             -0.156344    0.091630  \n",
      "1             -0.241133    0.099496  \n",
      "2              0.075060    0.096877  \n",
      "3              0.054569    0.112769  \n",
      "4              0.064005    0.057261  \n",
      "..                  ...         ...  \n",
      "174            0.193120    0.125055  \n",
      "175            0.182456    0.112385  \n",
      "176            0.202941    0.112226  \n",
      "177            0.217559    0.132751  \n",
      "178            0.172658    0.042557  \n",
      "\n",
      "[179 rows x 21 columns]\n"
     ]
    }
   ],
   "source": [
    "#print(corr_df)\n",
    "country_col = corr_df.index\n",
    "print(country_col)\n",
    "scaler = StandardScaler()\n",
    "corr_df = corr_df.fillna(method ='ffill')\n",
    "corr_df = corr_df.fillna(value = 0)\n",
    "#print(corr_df)\n",
    "df_scaled = scaler.fit_transform(corr_df)\n",
    "#print(df_scaled)\n",
    "df_normalized = normalize(df_scaled)\n",
    "df_normalized = pd.DataFrame(df_normalized)\n",
    "df_normalized.index.names = corr_df.index.names\n",
    "df_normalized.columns = corr_df.columns\n",
    "#df_normalized.head()\n",
    "#print(df_scaled)\n",
    "print(df_normalized)"
   ]
  },
  {
   "cell_type": "code",
   "execution_count": 11,
   "metadata": {},
   "outputs": [
    {
     "name": "stderr",
     "output_type": "stream",
     "text": [
      "c:\\Users\\vperezlo\\Documents\\GitHub\\python-data-driven-decisions\\.venv\\lib\\site-packages\\sklearn\\manifold\\_t_sne.py:991: FutureWarning:\n",
      "\n",
      "The PCA initialization in TSNE will change to have the standard deviation of PC1 equal to 1e-4 in 1.2. This will ensure better convergence.\n",
      "\n"
     ]
    },
    {
     "name": "stdout",
     "output_type": "stream",
     "text": [
      "                         1st_component 2nd_component\n",
      "Country                                             \n",
      "Saint Lucia                 -45.157738    -44.918621\n",
      "Central African Republic     43.264389     38.574722\n",
      "Netherlands                  39.312065     23.359251\n",
      "Lebanon                     -28.064421     -17.24407\n",
      "Gambia                       -29.25889    -17.496508\n",
      "...                                ...           ...\n",
      "China                        38.558578     -2.364691\n",
      "Papua New Guinea             16.296537      6.850591\n",
      "Mauritania                   30.920723     -3.159815\n",
      "Pakistan                     18.879086      6.667736\n",
      "Kazakhstan                    3.964804      7.711847\n",
      "\n",
      "[179 rows x 2 columns]\n"
     ]
    }
   ],
   "source": [
    "from sklearn.manifold import TSNE\n",
    "import seaborn as sns\n",
    "tsne = TSNE(n_components = 2, perplexity = 3, n_iter = 1000, learning_rate = 200.0, init = 'pca')\n",
    "tsne_result = tsne.fit_transform(df_normalized)\n",
    "new_df_tsne = pd.DataFrame(np.hstack((np.array(country_col).reshape(-1, 1), tsne_result)), columns = ['Country', '1st_component', '2nd_component'])\n",
    "new_df_tsne.set_index('Country', inplace = True)\n",
    "\n",
    "print(new_df_tsne)\n",
    "\n"
   ]
  },
  {
   "cell_type": "code",
   "execution_count": 12,
   "metadata": {},
   "outputs": [
    {
     "data": {
      "text/html": [
       "<div>\n",
       "<style scoped>\n",
       "    .dataframe tbody tr th:only-of-type {\n",
       "        vertical-align: middle;\n",
       "    }\n",
       "\n",
       "    .dataframe tbody tr th {\n",
       "        vertical-align: top;\n",
       "    }\n",
       "\n",
       "    .dataframe thead th {\n",
       "        text-align: right;\n",
       "    }\n",
       "</style>\n",
       "<table border=\"1\" class=\"dataframe\">\n",
       "  <thead>\n",
       "    <tr style=\"text-align: right;\">\n",
       "      <th></th>\n",
       "      <th>1st_component</th>\n",
       "      <th>2nd_component</th>\n",
       "    </tr>\n",
       "    <tr>\n",
       "      <th>Country</th>\n",
       "      <th></th>\n",
       "      <th></th>\n",
       "    </tr>\n",
       "  </thead>\n",
       "  <tbody>\n",
       "    <tr>\n",
       "      <th>Saint Lucia</th>\n",
       "      <td>-45.157738</td>\n",
       "      <td>-44.918621</td>\n",
       "    </tr>\n",
       "    <tr>\n",
       "      <th>Central African Republic</th>\n",
       "      <td>43.264389</td>\n",
       "      <td>38.574722</td>\n",
       "    </tr>\n",
       "    <tr>\n",
       "      <th>Netherlands</th>\n",
       "      <td>39.312065</td>\n",
       "      <td>23.359251</td>\n",
       "    </tr>\n",
       "    <tr>\n",
       "      <th>Lebanon</th>\n",
       "      <td>-28.064421</td>\n",
       "      <td>-17.24407</td>\n",
       "    </tr>\n",
       "    <tr>\n",
       "      <th>Gambia</th>\n",
       "      <td>-29.25889</td>\n",
       "      <td>-17.496508</td>\n",
       "    </tr>\n",
       "    <tr>\n",
       "      <th>...</th>\n",
       "      <td>...</td>\n",
       "      <td>...</td>\n",
       "    </tr>\n",
       "    <tr>\n",
       "      <th>China</th>\n",
       "      <td>38.558578</td>\n",
       "      <td>-2.364691</td>\n",
       "    </tr>\n",
       "    <tr>\n",
       "      <th>Papua New Guinea</th>\n",
       "      <td>16.296537</td>\n",
       "      <td>6.850591</td>\n",
       "    </tr>\n",
       "    <tr>\n",
       "      <th>Mauritania</th>\n",
       "      <td>30.920723</td>\n",
       "      <td>-3.159815</td>\n",
       "    </tr>\n",
       "    <tr>\n",
       "      <th>Pakistan</th>\n",
       "      <td>18.879086</td>\n",
       "      <td>6.667736</td>\n",
       "    </tr>\n",
       "    <tr>\n",
       "      <th>Kazakhstan</th>\n",
       "      <td>3.964804</td>\n",
       "      <td>7.711847</td>\n",
       "    </tr>\n",
       "  </tbody>\n",
       "</table>\n",
       "<p>179 rows × 2 columns</p>\n",
       "</div>"
      ],
      "text/plain": [
       "                         1st_component 2nd_component\n",
       "Country                                             \n",
       "Saint Lucia                 -45.157738    -44.918621\n",
       "Central African Republic     43.264389     38.574722\n",
       "Netherlands                  39.312065     23.359251\n",
       "Lebanon                     -28.064421     -17.24407\n",
       "Gambia                       -29.25889    -17.496508\n",
       "...                                ...           ...\n",
       "China                        38.558578     -2.364691\n",
       "Papua New Guinea             16.296537      6.850591\n",
       "Mauritania                   30.920723     -3.159815\n",
       "Pakistan                     18.879086      6.667736\n",
       "Kazakhstan                    3.964804      7.711847\n",
       "\n",
       "[179 rows x 2 columns]"
      ]
     },
     "metadata": {},
     "output_type": "display_data"
    },
    {
     "name": "stdout",
     "output_type": "stream",
     "text": [
      "Country\n",
      "Afghanistan    38928341.0\n",
      "Albania         2877800.0\n",
      "Algeria        43851043.0\n",
      "Andorra           77265.0\n",
      "Angola         32866267.0\n",
      "                  ...    \n",
      "Uzbekistan     33469199.0\n",
      "Vanuatu          307150.0\n",
      "Yemen          29825968.0\n",
      "Zambia         18383956.0\n",
      "Zimbabwe       14862927.0\n",
      "Name: Population, Length: 179, dtype: float64\n"
     ]
    },
    {
     "data": {
      "text/html": [
       "<div>\n",
       "<style scoped>\n",
       "    .dataframe tbody tr th:only-of-type {\n",
       "        vertical-align: middle;\n",
       "    }\n",
       "\n",
       "    .dataframe tbody tr th {\n",
       "        vertical-align: top;\n",
       "    }\n",
       "\n",
       "    .dataframe thead th {\n",
       "        text-align: right;\n",
       "    }\n",
       "</style>\n",
       "<table border=\"1\" class=\"dataframe\">\n",
       "  <thead>\n",
       "    <tr style=\"text-align: right;\">\n",
       "      <th></th>\n",
       "      <th></th>\n",
       "      <th>1st_component</th>\n",
       "      <th>2nd_component</th>\n",
       "      <th>Population</th>\n",
       "    </tr>\n",
       "    <tr>\n",
       "      <th>Country</th>\n",
       "      <th>Region</th>\n",
       "      <th></th>\n",
       "      <th></th>\n",
       "      <th></th>\n",
       "    </tr>\n",
       "  </thead>\n",
       "  <tbody>\n",
       "    <tr>\n",
       "      <th>Afghanistan</th>\n",
       "      <th>South Asia</th>\n",
       "      <td>13.720913</td>\n",
       "      <td>33.481293</td>\n",
       "      <td>38928341.0</td>\n",
       "    </tr>\n",
       "    <tr>\n",
       "      <th>Albania</th>\n",
       "      <th>Europe and Central Asia</th>\n",
       "      <td>7.048238</td>\n",
       "      <td>-20.218336</td>\n",
       "      <td>2877800.0</td>\n",
       "    </tr>\n",
       "    <tr>\n",
       "      <th>Algeria</th>\n",
       "      <th>Middle East and North Africa</th>\n",
       "      <td>-26.082878</td>\n",
       "      <td>-16.944063</td>\n",
       "      <td>43851043.0</td>\n",
       "    </tr>\n",
       "    <tr>\n",
       "      <th>Andorra</th>\n",
       "      <th>Europe and Central Asia</th>\n",
       "      <td>-14.247145</td>\n",
       "      <td>-44.178051</td>\n",
       "      <td>77265.0</td>\n",
       "    </tr>\n",
       "    <tr>\n",
       "      <th>Angola</th>\n",
       "      <th>Sub-Saharan Africa</th>\n",
       "      <td>-17.790813</td>\n",
       "      <td>15.737306</td>\n",
       "      <td>32866267.0</td>\n",
       "    </tr>\n",
       "    <tr>\n",
       "      <th>...</th>\n",
       "      <th>...</th>\n",
       "      <td>...</td>\n",
       "      <td>...</td>\n",
       "      <td>...</td>\n",
       "    </tr>\n",
       "    <tr>\n",
       "      <th>Uzbekistan</th>\n",
       "      <th>Europe and Central Asia</th>\n",
       "      <td>-29.112188</td>\n",
       "      <td>52.844772</td>\n",
       "      <td>33469199.0</td>\n",
       "    </tr>\n",
       "    <tr>\n",
       "      <th>Vanuatu</th>\n",
       "      <th>East Asia and Pacific</th>\n",
       "      <td>-33.788872</td>\n",
       "      <td>33.814167</td>\n",
       "      <td>307150.0</td>\n",
       "    </tr>\n",
       "    <tr>\n",
       "      <th>Yemen</th>\n",
       "      <th>Middle East and North Africa</th>\n",
       "      <td>47.354507</td>\n",
       "      <td>17.299389</td>\n",
       "      <td>29825968.0</td>\n",
       "    </tr>\n",
       "    <tr>\n",
       "      <th>Zambia</th>\n",
       "      <th>Sub-Saharan Africa</th>\n",
       "      <td>-16.206104</td>\n",
       "      <td>37.419956</td>\n",
       "      <td>18383956.0</td>\n",
       "    </tr>\n",
       "    <tr>\n",
       "      <th>Zimbabwe</th>\n",
       "      <th>Sub-Saharan Africa</th>\n",
       "      <td>-12.71817</td>\n",
       "      <td>-39.874989</td>\n",
       "      <td>14862927.0</td>\n",
       "    </tr>\n",
       "  </tbody>\n",
       "</table>\n",
       "<p>179 rows × 3 columns</p>\n",
       "</div>"
      ],
      "text/plain": [
       "                                         1st_component 2nd_component  \\\n",
       "Country     Region                                                     \n",
       "Afghanistan South Asia                       13.720913     33.481293   \n",
       "Albania     Europe and Central Asia           7.048238    -20.218336   \n",
       "Algeria     Middle East and North Africa    -26.082878    -16.944063   \n",
       "Andorra     Europe and Central Asia         -14.247145    -44.178051   \n",
       "Angola      Sub-Saharan Africa              -17.790813     15.737306   \n",
       "...                                                ...           ...   \n",
       "Uzbekistan  Europe and Central Asia         -29.112188     52.844772   \n",
       "Vanuatu     East Asia and Pacific           -33.788872     33.814167   \n",
       "Yemen       Middle East and North Africa     47.354507     17.299389   \n",
       "Zambia      Sub-Saharan Africa              -16.206104     37.419956   \n",
       "Zimbabwe    Sub-Saharan Africa               -12.71817    -39.874989   \n",
       "\n",
       "                                          Population  \n",
       "Country     Region                                    \n",
       "Afghanistan South Asia                    38928341.0  \n",
       "Albania     Europe and Central Asia        2877800.0  \n",
       "Algeria     Middle East and North Africa  43851043.0  \n",
       "Andorra     Europe and Central Asia          77265.0  \n",
       "Angola      Sub-Saharan Africa            32866267.0  \n",
       "...                                              ...  \n",
       "Uzbekistan  Europe and Central Asia       33469199.0  \n",
       "Vanuatu     East Asia and Pacific           307150.0  \n",
       "Yemen       Middle East and North Africa  29825968.0  \n",
       "Zambia      Sub-Saharan Africa            18383956.0  \n",
       "Zimbabwe    Sub-Saharan Africa            14862927.0  \n",
       "\n",
       "[179 rows x 3 columns]"
      ]
     },
     "execution_count": 12,
     "metadata": {},
     "output_type": "execute_result"
    }
   ],
   "source": [
    "read_path = os.getcwd()\n",
    "region_url = read_path + '/Databases/AuxiliarData/world-regions.csv'\n",
    "\n",
    "column_region = 'Region'\n",
    "column_country = 'Country'\n",
    "\n",
    "region_df = pd.read_csv(region_url)\n",
    "region_df.drop(columns=['Code', 'Year'], inplace = True)\n",
    "region_df.rename(columns = {'World Region according to the World Bank': column_region, 'Entity': column_country}, inplace = True)\n",
    "region_df.set_index(['Country', 'Region'], inplace = True)\n",
    "\n",
    "display(new_df_tsne)\n",
    "\n",
    "print(df.loc[df['Year'] == 2020].set_index('Country')['Population'])\n",
    "\n",
    "new_df_tsne = pd.concat([new_df_tsne, df.loc[df['Year'] == 2020].set_index('Country')['Population']], axis = 1)\n",
    "new_df_tsne = pd.merge(new_df_tsne, region_df, how = 'inner', left_index = True, right_index = True)\n",
    "\n",
    "new_df_tsne"
   ]
  },
  {
   "cell_type": "code",
   "execution_count": 13,
   "metadata": {},
   "outputs": [
    {
     "data": {
      "image/png": "[encoded data removed]",
      "text/plain": [
       "<Figure size 432x288 with 1 Axes>"
      ]
     },
     "metadata": {
      "needs_background": "light"
     },
     "output_type": "display_data"
    }
   ],
   "source": [
    "sns.set(rc={'figure.figsize':(7.5, 7.5)})\n",
    "\n",
    "sns.scatterplot(data = new_df_tsne, x = '1st_component', y = '2nd_component', markers = 'Region', hue = 'Region', size = 'Population', sizes = (50, 400))\n",
    "\n",
    "plt.legend(bbox_to_anchor=(1, 1), labelspacing = 1, loc=2)\n",
    "plt.title('Correlation Scatterplot')\n",
    "plt.show()"
   ]
  },
  {
   "cell_type": "code",
   "execution_count": 14,
   "metadata": {},
   "outputs": [],
   "source": [
    "def group(row):\n",
    "    list_c = ['Spain', 'China', 'Netherlands']\n",
    "\n",
    "    if row.name in list_c:\n",
    "        return 'Nope'\n",
    "    else:\n",
    "        return 'Yes'"
   ]
  },
  {
   "cell_type": "code",
   "execution_count": 15,
   "metadata": {},
   "outputs": [
    {
     "data": {
      "text/html": [
       "<div>\n",
       "<style scoped>\n",
       "    .dataframe tbody tr th:only-of-type {\n",
       "        vertical-align: middle;\n",
       "    }\n",
       "\n",
       "    .dataframe tbody tr th {\n",
       "        vertical-align: top;\n",
       "    }\n",
       "\n",
       "    .dataframe thead th {\n",
       "        text-align: right;\n",
       "    }\n",
       "</style>\n",
       "<table border=\"1\" class=\"dataframe\">\n",
       "  <thead>\n",
       "    <tr style=\"text-align: right;\">\n",
       "      <th></th>\n",
       "      <th></th>\n",
       "      <th>1st_component</th>\n",
       "      <th>2nd_component</th>\n",
       "      <th>Population</th>\n",
       "      <th>In list?</th>\n",
       "    </tr>\n",
       "    <tr>\n",
       "      <th>Country</th>\n",
       "      <th>Region</th>\n",
       "      <th></th>\n",
       "      <th></th>\n",
       "      <th></th>\n",
       "      <th></th>\n",
       "    </tr>\n",
       "  </thead>\n",
       "  <tbody>\n",
       "    <tr>\n",
       "      <th>Afghanistan</th>\n",
       "      <th>South Asia</th>\n",
       "      <td>13.720913</td>\n",
       "      <td>33.481293</td>\n",
       "      <td>38928341.0</td>\n",
       "      <td>&lt;NA&gt;</td>\n",
       "    </tr>\n",
       "    <tr>\n",
       "      <th>Albania</th>\n",
       "      <th>Europe and Central Asia</th>\n",
       "      <td>7.048238</td>\n",
       "      <td>-20.218336</td>\n",
       "      <td>2877800.0</td>\n",
       "      <td>&lt;NA&gt;</td>\n",
       "    </tr>\n",
       "    <tr>\n",
       "      <th>Algeria</th>\n",
       "      <th>Middle East and North Africa</th>\n",
       "      <td>-26.082878</td>\n",
       "      <td>-16.944063</td>\n",
       "      <td>43851043.0</td>\n",
       "      <td>&lt;NA&gt;</td>\n",
       "    </tr>\n",
       "    <tr>\n",
       "      <th>Andorra</th>\n",
       "      <th>Europe and Central Asia</th>\n",
       "      <td>-14.247145</td>\n",
       "      <td>-44.178051</td>\n",
       "      <td>77265.0</td>\n",
       "      <td>&lt;NA&gt;</td>\n",
       "    </tr>\n",
       "    <tr>\n",
       "      <th>Angola</th>\n",
       "      <th>Sub-Saharan Africa</th>\n",
       "      <td>-17.790813</td>\n",
       "      <td>15.737306</td>\n",
       "      <td>32866267.0</td>\n",
       "      <td>&lt;NA&gt;</td>\n",
       "    </tr>\n",
       "    <tr>\n",
       "      <th>...</th>\n",
       "      <th>...</th>\n",
       "      <td>...</td>\n",
       "      <td>...</td>\n",
       "      <td>...</td>\n",
       "      <td>...</td>\n",
       "    </tr>\n",
       "    <tr>\n",
       "      <th>Uzbekistan</th>\n",
       "      <th>Europe and Central Asia</th>\n",
       "      <td>-29.112188</td>\n",
       "      <td>52.844772</td>\n",
       "      <td>33469199.0</td>\n",
       "      <td>&lt;NA&gt;</td>\n",
       "    </tr>\n",
       "    <tr>\n",
       "      <th>Vanuatu</th>\n",
       "      <th>East Asia and Pacific</th>\n",
       "      <td>-33.788872</td>\n",
       "      <td>33.814167</td>\n",
       "      <td>307150.0</td>\n",
       "      <td>&lt;NA&gt;</td>\n",
       "    </tr>\n",
       "    <tr>\n",
       "      <th>Yemen</th>\n",
       "      <th>Middle East and North Africa</th>\n",
       "      <td>47.354507</td>\n",
       "      <td>17.299389</td>\n",
       "      <td>29825968.0</td>\n",
       "      <td>&lt;NA&gt;</td>\n",
       "    </tr>\n",
       "    <tr>\n",
       "      <th>Zambia</th>\n",
       "      <th>Sub-Saharan Africa</th>\n",
       "      <td>-16.206104</td>\n",
       "      <td>37.419956</td>\n",
       "      <td>18383956.0</td>\n",
       "      <td>&lt;NA&gt;</td>\n",
       "    </tr>\n",
       "    <tr>\n",
       "      <th>Zimbabwe</th>\n",
       "      <th>Sub-Saharan Africa</th>\n",
       "      <td>-12.71817</td>\n",
       "      <td>-39.874989</td>\n",
       "      <td>14862927.0</td>\n",
       "      <td>&lt;NA&gt;</td>\n",
       "    </tr>\n",
       "  </tbody>\n",
       "</table>\n",
       "<p>179 rows × 4 columns</p>\n",
       "</div>"
      ],
      "text/plain": [
       "                                         1st_component 2nd_component  \\\n",
       "Country     Region                                                     \n",
       "Afghanistan South Asia                       13.720913     33.481293   \n",
       "Albania     Europe and Central Asia           7.048238    -20.218336   \n",
       "Algeria     Middle East and North Africa    -26.082878    -16.944063   \n",
       "Andorra     Europe and Central Asia         -14.247145    -44.178051   \n",
       "Angola      Sub-Saharan Africa              -17.790813     15.737306   \n",
       "...                                                ...           ...   \n",
       "Uzbekistan  Europe and Central Asia         -29.112188     52.844772   \n",
       "Vanuatu     East Asia and Pacific           -33.788872     33.814167   \n",
       "Yemen       Middle East and North Africa     47.354507     17.299389   \n",
       "Zambia      Sub-Saharan Africa              -16.206104     37.419956   \n",
       "Zimbabwe    Sub-Saharan Africa               -12.71817    -39.874989   \n",
       "\n",
       "                                          Population In list?  \n",
       "Country     Region                                             \n",
       "Afghanistan South Asia                    38928341.0     <NA>  \n",
       "Albania     Europe and Central Asia        2877800.0     <NA>  \n",
       "Algeria     Middle East and North Africa  43851043.0     <NA>  \n",
       "Andorra     Europe and Central Asia          77265.0     <NA>  \n",
       "Angola      Sub-Saharan Africa            32866267.0     <NA>  \n",
       "...                                              ...      ...  \n",
       "Uzbekistan  Europe and Central Asia       33469199.0     <NA>  \n",
       "Vanuatu     East Asia and Pacific           307150.0     <NA>  \n",
       "Yemen       Middle East and North Africa  29825968.0     <NA>  \n",
       "Zambia      Sub-Saharan Africa            18383956.0     <NA>  \n",
       "Zimbabwe    Sub-Saharan Africa            14862927.0     <NA>  \n",
       "\n",
       "[179 rows x 4 columns]"
      ]
     },
     "execution_count": 15,
     "metadata": {},
     "output_type": "execute_result"
    }
   ],
   "source": [
    "test_df = new_df_tsne.copy()\n",
    "#print(test_df.apply(lambda row: group(row), axis=1))\n",
    "test_df['In list?'] = df.apply(lambda row: group(row), axis=1).convert_dtypes()\n",
    "\n",
    "test_df"
   ]
  },
  {
   "cell_type": "code",
   "execution_count": 16,
   "metadata": {},
   "outputs": [
    {
     "name": "stdout",
     "output_type": "stream",
     "text": [
      "0       Yes\n",
      "1      Nope\n",
      "2      Nope\n",
      "3      Nope\n",
      "4      Nope\n",
      "       ... \n",
      "174    Nope\n",
      "175    Nope\n",
      "176     Yes\n",
      "177    Nope\n",
      "178    Nope\n",
      "Length: 179, dtype: string\n"
     ]
    },
    {
     "data": {
      "text/html": [
       "<div>\n",
       "<style scoped>\n",
       "    .dataframe tbody tr th:only-of-type {\n",
       "        vertical-align: middle;\n",
       "    }\n",
       "\n",
       "    .dataframe tbody tr th {\n",
       "        vertical-align: top;\n",
       "    }\n",
       "\n",
       "    .dataframe thead th {\n",
       "        text-align: right;\n",
       "    }\n",
       "</style>\n",
       "<table border=\"1\" class=\"dataframe\">\n",
       "  <thead>\n",
       "    <tr style=\"text-align: right;\">\n",
       "      <th></th>\n",
       "      <th></th>\n",
       "      <th>1st_component</th>\n",
       "      <th>2nd_component</th>\n",
       "      <th>Population</th>\n",
       "      <th>col</th>\n",
       "    </tr>\n",
       "    <tr>\n",
       "      <th>Country</th>\n",
       "      <th>Region</th>\n",
       "      <th></th>\n",
       "      <th></th>\n",
       "      <th></th>\n",
       "      <th></th>\n",
       "    </tr>\n",
       "  </thead>\n",
       "  <tbody>\n",
       "    <tr>\n",
       "      <th>Afghanistan</th>\n",
       "      <th>South Asia</th>\n",
       "      <td>13.720913</td>\n",
       "      <td>33.481293</td>\n",
       "      <td>38928341.0</td>\n",
       "      <td>&lt;NA&gt;</td>\n",
       "    </tr>\n",
       "    <tr>\n",
       "      <th>Albania</th>\n",
       "      <th>Europe and Central Asia</th>\n",
       "      <td>7.048238</td>\n",
       "      <td>-20.218336</td>\n",
       "      <td>2877800.0</td>\n",
       "      <td>&lt;NA&gt;</td>\n",
       "    </tr>\n",
       "    <tr>\n",
       "      <th>Algeria</th>\n",
       "      <th>Middle East and North Africa</th>\n",
       "      <td>-26.082878</td>\n",
       "      <td>-16.944063</td>\n",
       "      <td>43851043.0</td>\n",
       "      <td>&lt;NA&gt;</td>\n",
       "    </tr>\n",
       "    <tr>\n",
       "      <th>Andorra</th>\n",
       "      <th>Europe and Central Asia</th>\n",
       "      <td>-14.247145</td>\n",
       "      <td>-44.178051</td>\n",
       "      <td>77265.0</td>\n",
       "      <td>&lt;NA&gt;</td>\n",
       "    </tr>\n",
       "    <tr>\n",
       "      <th>Angola</th>\n",
       "      <th>Sub-Saharan Africa</th>\n",
       "      <td>-17.790813</td>\n",
       "      <td>15.737306</td>\n",
       "      <td>32866267.0</td>\n",
       "      <td>&lt;NA&gt;</td>\n",
       "    </tr>\n",
       "    <tr>\n",
       "      <th>...</th>\n",
       "      <th>...</th>\n",
       "      <td>...</td>\n",
       "      <td>...</td>\n",
       "      <td>...</td>\n",
       "      <td>...</td>\n",
       "    </tr>\n",
       "    <tr>\n",
       "      <th>Uzbekistan</th>\n",
       "      <th>Europe and Central Asia</th>\n",
       "      <td>-29.112188</td>\n",
       "      <td>52.844772</td>\n",
       "      <td>33469199.0</td>\n",
       "      <td>&lt;NA&gt;</td>\n",
       "    </tr>\n",
       "    <tr>\n",
       "      <th>Vanuatu</th>\n",
       "      <th>East Asia and Pacific</th>\n",
       "      <td>-33.788872</td>\n",
       "      <td>33.814167</td>\n",
       "      <td>307150.0</td>\n",
       "      <td>&lt;NA&gt;</td>\n",
       "    </tr>\n",
       "    <tr>\n",
       "      <th>Yemen</th>\n",
       "      <th>Middle East and North Africa</th>\n",
       "      <td>47.354507</td>\n",
       "      <td>17.299389</td>\n",
       "      <td>29825968.0</td>\n",
       "      <td>&lt;NA&gt;</td>\n",
       "    </tr>\n",
       "    <tr>\n",
       "      <th>Zambia</th>\n",
       "      <th>Sub-Saharan Africa</th>\n",
       "      <td>-16.206104</td>\n",
       "      <td>37.419956</td>\n",
       "      <td>18383956.0</td>\n",
       "      <td>&lt;NA&gt;</td>\n",
       "    </tr>\n",
       "    <tr>\n",
       "      <th>Zimbabwe</th>\n",
       "      <th>Sub-Saharan Africa</th>\n",
       "      <td>-12.71817</td>\n",
       "      <td>-39.874989</td>\n",
       "      <td>14862927.0</td>\n",
       "      <td>&lt;NA&gt;</td>\n",
       "    </tr>\n",
       "  </tbody>\n",
       "</table>\n",
       "<p>179 rows × 4 columns</p>\n",
       "</div>"
      ],
      "text/plain": [
       "                                         1st_component 2nd_component  \\\n",
       "Country     Region                                                     \n",
       "Afghanistan South Asia                       13.720913     33.481293   \n",
       "Albania     Europe and Central Asia           7.048238    -20.218336   \n",
       "Algeria     Middle East and North Africa    -26.082878    -16.944063   \n",
       "Andorra     Europe and Central Asia         -14.247145    -44.178051   \n",
       "Angola      Sub-Saharan Africa              -17.790813     15.737306   \n",
       "...                                                ...           ...   \n",
       "Uzbekistan  Europe and Central Asia         -29.112188     52.844772   \n",
       "Vanuatu     East Asia and Pacific           -33.788872     33.814167   \n",
       "Yemen       Middle East and North Africa     47.354507     17.299389   \n",
       "Zambia      Sub-Saharan Africa              -16.206104     37.419956   \n",
       "Zimbabwe    Sub-Saharan Africa               -12.71817    -39.874989   \n",
       "\n",
       "                                          Population   col  \n",
       "Country     Region                                          \n",
       "Afghanistan South Asia                    38928341.0  <NA>  \n",
       "Albania     Europe and Central Asia        2877800.0  <NA>  \n",
       "Algeria     Middle East and North Africa  43851043.0  <NA>  \n",
       "Andorra     Europe and Central Asia          77265.0  <NA>  \n",
       "Angola      Sub-Saharan Africa            32866267.0  <NA>  \n",
       "...                                              ...   ...  \n",
       "Uzbekistan  Europe and Central Asia       33469199.0  <NA>  \n",
       "Vanuatu     East Asia and Pacific           307150.0  <NA>  \n",
       "Yemen       Middle East and North Africa  29825968.0  <NA>  \n",
       "Zambia      Sub-Saharan Africa            18383956.0  <NA>  \n",
       "Zimbabwe    Sub-Saharan Africa            14862927.0  <NA>  \n",
       "\n",
       "[179 rows x 4 columns]"
      ]
     },
     "execution_count": 16,
     "metadata": {},
     "output_type": "execute_result"
    }
   ],
   "source": [
    "test_df = new_df_tsne.copy()\n",
    "\n",
    "list_c = ['Spain', 'China', 'Netherlands']\n",
    "\n",
    "conditions = [\n",
    "  np.logical_and(test_df['1st_component'].gt(0), test_df['2nd_component'].gt(0))\n",
    "]\n",
    "\n",
    "outputs = ['Yes']\n",
    "\n",
    "col = pd.Series(np.select(conditions, outputs, 'Nope'), dtype = str, name = 'col')\n",
    "#print(pd.Series(np.select(conditions, outputs, 'Nope'), dtype = str))\n",
    "print(pd.Series(np.select(conditions, outputs, 'Nope'), dtype = str).convert_dtypes())\n",
    "\n",
    "test_df['col'] = (pd.Series(np.select(conditions, outputs, 'Nope'), dtype = str).convert_dtypes())\n",
    "\n",
    "#test_df = pd.concat([test_df, col], axis = 1, ignore_index = True)\n",
    "\n",
    "#test_df['col'] = pd.Series(np.select(conditions, outputs, 'Nope'), dtype = str).convert_dtypes()\n",
    "#test_df.join(col)\n",
    "test_df"
   ]
  },
  {
   "cell_type": "code",
   "execution_count": 17,
   "metadata": {},
   "outputs": [
    {
     "name": "stdout",
     "output_type": "stream",
     "text": [
      "[ 0  0  0  0  0  0  0 -1 -1 -1 -1 -1 -1 -1 -1 -1 -1 -1 -1 -1 -1 -1 -1 -1\n",
      " -1 -1 -1 -1 -1 -1 -1 -1 -1 -1 -1 -1 -1 -1 -1 -1 -1 -1 -1 -1 -1 -1 -1 -1\n",
      " -1 -1 -1 -1 -1 -1 -1 -1 -1 -1 -1 -1 -1 -1 -1 -1 -1 -1 -1 -1 -1 -1 -1 -1\n",
      " -1 -1 -1 -1 -1 -1 -1 -1 -1 -1 -1 -1 -1 -1 -1 -1 -1 -1 -1 -1 -1 -1 -1 -1\n",
      " -1 -1 -1 -1 -1 -1 -1 -1 -1 -1 -1 -1 -1 -1 -1 -1 -1 -1 -1 -1 -1 -1 -1 -1\n",
      " -1 -1 -1 -1 -1 -1 -1 -1 -1 -1 -1 -1 -1 -1 -1 -1 -1 -1 -1 -1 -1 -1 -1 -1\n",
      " -1 -1 -1 -1 -1 -1 -1 -1 -1 -1 -1 -1 -1 -1 -1 -1 -1 -1 -1 -1 -1 -1 -1 -1\n",
      " -1 -1 -1 -1 -1 -1 -1 -1 -1 -1 -1]\n",
      "179\n"
     ]
    },
    {
     "data": {
      "text/plain": [
       "Text(0.5, 1.0, 'OPTICS Clustering')"
      ]
     },
     "execution_count": 17,
     "metadata": {},
     "output_type": "execute_result"
    },
    {
     "data": {
      "image/png": "[encoded data removed]",
      "text/plain": [
       "<Figure size 720x504 with 4 Axes>"
      ]
     },
     "metadata": {
      "needs_background": "light"
     },
     "output_type": "display_data"
    }
   ],
   "source": [
    "\n",
    "\n",
    "optics_model = OPTICS(min_samples = 5, xi = 0.05, min_cluster_size = 5)\n",
    "optics_model.fit(df_normalized)\n",
    "\n",
    "labels1 = cluster_optics_dbscan(reachability = optics_model.reachability_,\n",
    "core_distances = optics_model.core_distances_,\n",
    "ordering = optics_model.ordering_, eps = 0.5)\n",
    "\n",
    "space = np.arange(len(df_normalized))\n",
    "reachability = optics_model.reachability_[optics_model.ordering_]\n",
    "labels = optics_model.labels_[optics_model.ordering_]\n",
    "print(labels)\n",
    "print(len(labels))\n",
    "\n",
    "plt.figure(figsize = (10, 7))\n",
    "G = gridspec.GridSpec(2, 3)\n",
    "ax1 = plt.subplot(G[0, :])\n",
    "ax2 = plt.subplot(G[1, 0])\n",
    "ax3 = plt.subplot(G[1, 1])\n",
    "ax4 = plt.subplot(G[1, 2])\n",
    "\n",
    "# Plotting the Reachability-Distance Plot\n",
    "colors = ['c.', 'b.', 'r.', 'y.', 'g.']\n",
    "for Class, colour in zip(range(0, 5), colors):\n",
    "    Xk = space[labels == Class]\n",
    "    Rk = reachability[labels == Class]\n",
    "    ax1.plot(Xk, Rk, colour, alpha = 0.3)\n",
    "ax1.plot(space[labels == -1], reachability[labels == -1], 'k.', alpha = 0.3)\n",
    "ax1.plot(space, np.full_like(space, 2., dtype = float), 'k-', alpha = 0.5)\n",
    "ax1.plot(space, np.full_like(space, 0.5, dtype = float), 'k-.', alpha = 0.5)\n",
    "ax1.set_ylabel('Reachability Distance')\n",
    "ax1.set_title('Reachability Plot')\n",
    "  \n",
    "# Plotting the OPTICS Clustering\n",
    "colors = ['c.', 'b.', 'r.', 'y.', 'g.']\n",
    "for Class, colour in zip(range(0, 5), colors):\n",
    "    Xk = df_normalized[optics_model.labels_ == Class]\n",
    "    ax2.plot(Xk.iloc[:, 0], Xk.iloc[:, 1], colour, alpha = 0.3)\n",
    "      \n",
    "ax2.plot(df_normalized.iloc[optics_model.labels_ == -1, 0],\n",
    "        df_normalized.iloc[optics_model.labels_ == -1, 1],\n",
    "       'k+', alpha = 0.1)\n",
    "ax2.set_title('OPTICS Clustering')\n",
    "  "
   ]
  },
  {
   "cell_type": "code",
   "execution_count": 18,
   "metadata": {},
   "outputs": [
    {
     "data": {
      "text/plain": [
       "' #MORRALLA\\n\\n# K-MEANS CLUSTERING\\n# Importing Modules\\nfrom sklearn import datasets\\nfrom sklearn.cluster import KMeans\\nimport matplotlib.pyplot as plt\\nfrom sklearn.decomposition import PCA\\n# Loading dataset\\niris_df = datasets.load_iris()\\n\\n# Declaring Model\\nmodel = KMeans(n_clusters=3)\\n\\n# Fitting Model\\nmodel.fit(iris_df.data)\\n\\n# Predicitng a single input\\npredicted_label = model.predict([[7.2, 3.5, 0.8, 1.6]])\\n\\n# Prediction on the entire data\\nall_predictions = model.predict(iris_df.data)\\n\\n# Printing Predictions\\nprint(predicted_label)\\nprint(all_predictions)\\n\\n\\n# import some data to play with\\niris = datasets.load_iris()\\nX = iris.data[:, :3]  # we only take the first two features.\\ny = iris.target\\n\\n\\nfig = plt.figure(figsize=(10,10))\\nplt = fig.add_subplot(111, projection=\\'3d\\')\\nplt.scatter(X[:,0],X[:,1],X[:,2], \\n            c=all_predictions, edgecolor=\\'red\\', s=40, alpha = 0.5)\\nplt.set_title(\"First three PCA directions\")\\nplt.set_xlabel(\"Educational_Degree\")\\nplt.set_ylabel(\"Gross_Monthly_Salary\")\\nplt.set_zlabel(\"Claim_Rate\")\\nplt.dist = 10\\nplt\\n\\nfrom sklearn import datasets\\nfrom sklearn.cluster import KMeans\\nimport matplotlib.pyplot as plt\\nfrom sklearn.decomposition import PCA\\n\\nmodel = KMeans()\\nres = model.fit_predict(df)\\n\\n '"
      ]
     },
     "execution_count": 18,
     "metadata": {},
     "output_type": "execute_result"
    }
   ],
   "source": [
    "\"\"\" #MORRALLA\n",
    "\n",
    "# K-MEANS CLUSTERING\n",
    "# Importing Modules\n",
    "from sklearn import datasets\n",
    "from sklearn.cluster import KMeans\n",
    "import matplotlib.pyplot as plt\n",
    "from sklearn.decomposition import PCA\n",
    "# Loading dataset\n",
    "iris_df = datasets.load_iris()\n",
    "\n",
    "# Declaring Model\n",
    "model = KMeans(n_clusters=3)\n",
    "\n",
    "# Fitting Model\n",
    "model.fit(iris_df.data)\n",
    "\n",
    "# Predicitng a single input\n",
    "predicted_label = model.predict([[7.2, 3.5, 0.8, 1.6]])\n",
    "\n",
    "# Prediction on the entire data\n",
    "all_predictions = model.predict(iris_df.data)\n",
    "\n",
    "# Printing Predictions\n",
    "print(predicted_label)\n",
    "print(all_predictions)\n",
    "\n",
    "\n",
    "# import some data to play with\n",
    "iris = datasets.load_iris()\n",
    "X = iris.data[:, :3]  # we only take the first two features.\n",
    "y = iris.target\n",
    "\n",
    "\n",
    "fig = plt.figure(figsize=(10,10))\n",
    "plt = fig.add_subplot(111, projection='3d')\n",
    "plt.scatter(X[:,0],X[:,1],X[:,2], \n",
    "            c=all_predictions, edgecolor='red', s=40, alpha = 0.5)\n",
    "plt.set_title(\"First three PCA directions\")\n",
    "plt.set_xlabel(\"Educational_Degree\")\n",
    "plt.set_ylabel(\"Gross_Monthly_Salary\")\n",
    "plt.set_zlabel(\"Claim_Rate\")\n",
    "plt.dist = 10\n",
    "plt\n",
    "\n",
    "from sklearn import datasets\n",
    "from sklearn.cluster import KMeans\n",
    "import matplotlib.pyplot as plt\n",
    "from sklearn.decomposition import PCA\n",
    "\n",
    "model = KMeans()\n",
    "res = model.fit_predict(df)\n",
    "\n",
    " \"\"\""
   ]
  }
 ],
 "metadata": {
  "kernelspec": {
   "display_name": "Python 3.10.5 ('.venv': poetry)",
   "language": "python",
   "name": "python3"
  },
  "language_info": {
   "codemirror_mode": {
    "name": "ipython",
    "version": 3
   },
   "file_extension": ".py",
   "mimetype": "text/x-python",
   "name": "python",
   "nbconvert_exporter": "python",
   "pygments_lexer": "ipython3",
   "version": "3.10.5"
  },
  "orig_nbformat": 4,
  "vscode": {
   "interpreter": {
    "hash": "6044c39f3fa8d69f78786198aef61ed0dc3fdd7ddd5a88c111ee27e3b3325eb4"
   }
  }
 },
 "nbformat": 4,
 "nbformat_minor": 2
}
