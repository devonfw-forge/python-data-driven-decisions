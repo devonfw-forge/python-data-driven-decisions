{
 "cells": [
  {
   "cell_type": "code",
   "execution_count": 1,
   "metadata": {},
   "outputs": [],
   "source": [
    "import os\n",
    "import pandas as pd\n",
    "\n",
    "read_path = os.getcwd()\n",
    "df_url = read_path + '/Output/GoldDataframe.csv'"
   ]
  },
  {
   "cell_type": "code",
   "execution_count": 2,
   "metadata": {},
   "outputs": [],
   "source": [
    "#import warnings\n",
    "#warnings.filterwarnings(\"ignore\")"
   ]
  },
  {
   "cell_type": "code",
   "execution_count": 3,
   "metadata": {},
   "outputs": [
    {
     "data": {
      "text/html": [
       "<div>\n",
       "<style scoped>\n",
       "    .dataframe tbody tr th:only-of-type {\n",
       "        vertical-align: middle;\n",
       "    }\n",
       "\n",
       "    .dataframe tbody tr th {\n",
       "        vertical-align: top;\n",
       "    }\n",
       "\n",
       "    .dataframe thead th {\n",
       "        text-align: right;\n",
       "    }\n",
       "</style>\n",
       "<table border=\"1\" class=\"dataframe\">\n",
       "  <thead>\n",
       "    <tr style=\"text-align: right;\">\n",
       "      <th></th>\n",
       "      <th>AgriShareGDP</th>\n",
       "      <th>CreditToAgriFishForest</th>\n",
       "      <th>EmploymentRural</th>\n",
       "      <th>TotalAgri</th>\n",
       "      <th>% Soldiers</th>\n",
       "      <th>Birth Rate</th>\n",
       "      <th>Death Rate</th>\n",
       "      <th>Homicides</th>\n",
       "      <th>Life Expectancy</th>\n",
       "      <th>Maternal Death Risk</th>\n",
       "      <th>...</th>\n",
       "      <th>% Population Growth</th>\n",
       "      <th>% Rural Population</th>\n",
       "      <th>Civil Liberties</th>\n",
       "      <th>Freedom of Expression</th>\n",
       "      <th>% Healthcare Investment</th>\n",
       "      <th>% Employment Industry</th>\n",
       "      <th>% Education Expenditure</th>\n",
       "      <th>% Men Employment</th>\n",
       "      <th>% Women Employment</th>\n",
       "      <th>Population</th>\n",
       "    </tr>\n",
       "  </thead>\n",
       "  <tbody>\n",
       "    <tr>\n",
       "      <th>Kenya</th>\n",
       "      <td>0.929396</td>\n",
       "      <td>-0.920021</td>\n",
       "      <td>NaN</td>\n",
       "      <td>0.982102</td>\n",
       "      <td>-0.968385</td>\n",
       "      <td>-0.990095</td>\n",
       "      <td>-0.925414</td>\n",
       "      <td>NaN</td>\n",
       "      <td>0.951735</td>\n",
       "      <td>-0.929861</td>\n",
       "      <td>...</td>\n",
       "      <td>-0.927153</td>\n",
       "      <td>-0.989902</td>\n",
       "      <td>0.853628</td>\n",
       "      <td>0.384884</td>\n",
       "      <td>0.708707</td>\n",
       "      <td>0.935578</td>\n",
       "      <td>-0.810695</td>\n",
       "      <td>NaN</td>\n",
       "      <td>NaN</td>\n",
       "      <td>0.988922</td>\n",
       "    </tr>\n",
       "    <tr>\n",
       "      <th>Malawi</th>\n",
       "      <td>-0.839805</td>\n",
       "      <td>0.738618</td>\n",
       "      <td>NaN</td>\n",
       "      <td>0.976178</td>\n",
       "      <td>0.426255</td>\n",
       "      <td>-0.932029</td>\n",
       "      <td>-0.915541</td>\n",
       "      <td>NaN</td>\n",
       "      <td>0.928278</td>\n",
       "      <td>-0.895567</td>\n",
       "      <td>...</td>\n",
       "      <td>0.329982</td>\n",
       "      <td>-0.956254</td>\n",
       "      <td>0.853056</td>\n",
       "      <td>0.763209</td>\n",
       "      <td>0.564688</td>\n",
       "      <td>0.850495</td>\n",
       "      <td>NaN</td>\n",
       "      <td>NaN</td>\n",
       "      <td>NaN</td>\n",
       "      <td>0.954178</td>\n",
       "    </tr>\n",
       "    <tr>\n",
       "      <th>Algeria</th>\n",
       "      <td>0.137751</td>\n",
       "      <td>NaN</td>\n",
       "      <td>NaN</td>\n",
       "      <td>0.911970</td>\n",
       "      <td>-0.804748</td>\n",
       "      <td>0.951733</td>\n",
       "      <td>-0.617942</td>\n",
       "      <td>NaN</td>\n",
       "      <td>0.863359</td>\n",
       "      <td>0.045052</td>\n",
       "      <td>...</td>\n",
       "      <td>0.905385</td>\n",
       "      <td>-0.813765</td>\n",
       "      <td>0.808796</td>\n",
       "      <td>-0.178662</td>\n",
       "      <td>0.656106</td>\n",
       "      <td>0.906667</td>\n",
       "      <td>NaN</td>\n",
       "      <td>NaN</td>\n",
       "      <td>NaN</td>\n",
       "      <td>0.716609</td>\n",
       "    </tr>\n",
       "    <tr>\n",
       "      <th>New Zealand</th>\n",
       "      <td>-0.390130</td>\n",
       "      <td>0.142875</td>\n",
       "      <td>NaN</td>\n",
       "      <td>0.906371</td>\n",
       "      <td>-0.934430</td>\n",
       "      <td>-0.724168</td>\n",
       "      <td>-0.375034</td>\n",
       "      <td>-0.810743</td>\n",
       "      <td>0.982542</td>\n",
       "      <td>-0.905752</td>\n",
       "      <td>...</td>\n",
       "      <td>0.399911</td>\n",
       "      <td>-0.658080</td>\n",
       "      <td>-0.445694</td>\n",
       "      <td>-0.761484</td>\n",
       "      <td>0.892840</td>\n",
       "      <td>-0.751467</td>\n",
       "      <td>0.100096</td>\n",
       "      <td>0.201205</td>\n",
       "      <td>0.893163</td>\n",
       "      <td>0.979112</td>\n",
       "    </tr>\n",
       "    <tr>\n",
       "      <th>Gabon</th>\n",
       "      <td>-0.701976</td>\n",
       "      <td>NaN</td>\n",
       "      <td>NaN</td>\n",
       "      <td>NaN</td>\n",
       "      <td>-0.860400</td>\n",
       "      <td>-0.214624</td>\n",
       "      <td>-0.833069</td>\n",
       "      <td>NaN</td>\n",
       "      <td>0.797816</td>\n",
       "      <td>-0.851626</td>\n",
       "      <td>...</td>\n",
       "      <td>0.686265</td>\n",
       "      <td>-0.877655</td>\n",
       "      <td>0.678858</td>\n",
       "      <td>0.780923</td>\n",
       "      <td>0.521275</td>\n",
       "      <td>0.937797</td>\n",
       "      <td>NaN</td>\n",
       "      <td>NaN</td>\n",
       "      <td>NaN</td>\n",
       "      <td>0.792796</td>\n",
       "    </tr>\n",
       "    <tr>\n",
       "      <th>...</th>\n",
       "      <td>...</td>\n",
       "      <td>...</td>\n",
       "      <td>...</td>\n",
       "      <td>...</td>\n",
       "      <td>...</td>\n",
       "      <td>...</td>\n",
       "      <td>...</td>\n",
       "      <td>...</td>\n",
       "      <td>...</td>\n",
       "      <td>...</td>\n",
       "      <td>...</td>\n",
       "      <td>...</td>\n",
       "      <td>...</td>\n",
       "      <td>...</td>\n",
       "      <td>...</td>\n",
       "      <td>...</td>\n",
       "      <td>...</td>\n",
       "      <td>...</td>\n",
       "      <td>...</td>\n",
       "      <td>...</td>\n",
       "      <td>...</td>\n",
       "    </tr>\n",
       "    <tr>\n",
       "      <th>Finland</th>\n",
       "      <td>-0.684490</td>\n",
       "      <td>NaN</td>\n",
       "      <td>-0.445596</td>\n",
       "      <td>0.903604</td>\n",
       "      <td>-0.818225</td>\n",
       "      <td>-0.315917</td>\n",
       "      <td>0.307726</td>\n",
       "      <td>-0.646537</td>\n",
       "      <td>0.811241</td>\n",
       "      <td>-0.672445</td>\n",
       "      <td>...</td>\n",
       "      <td>0.348617</td>\n",
       "      <td>-0.759157</td>\n",
       "      <td>-0.423647</td>\n",
       "      <td>-0.207004</td>\n",
       "      <td>0.933990</td>\n",
       "      <td>-0.817833</td>\n",
       "      <td>-0.551122</td>\n",
       "      <td>-0.611790</td>\n",
       "      <td>-0.252097</td>\n",
       "      <td>0.779245</td>\n",
       "    </tr>\n",
       "    <tr>\n",
       "      <th>India</th>\n",
       "      <td>-0.700650</td>\n",
       "      <td>0.838653</td>\n",
       "      <td>NaN</td>\n",
       "      <td>0.979770</td>\n",
       "      <td>0.338557</td>\n",
       "      <td>-0.984446</td>\n",
       "      <td>-0.922763</td>\n",
       "      <td>-0.945650</td>\n",
       "      <td>0.987074</td>\n",
       "      <td>-0.952978</td>\n",
       "      <td>...</td>\n",
       "      <td>-0.987524</td>\n",
       "      <td>-0.989709</td>\n",
       "      <td>0.514362</td>\n",
       "      <td>-0.814355</td>\n",
       "      <td>0.701925</td>\n",
       "      <td>0.927380</td>\n",
       "      <td>NaN</td>\n",
       "      <td>NaN</td>\n",
       "      <td>NaN</td>\n",
       "      <td>0.987350</td>\n",
       "    </tr>\n",
       "    <tr>\n",
       "      <th>Madagascar</th>\n",
       "      <td>-0.856914</td>\n",
       "      <td>NaN</td>\n",
       "      <td>NaN</td>\n",
       "      <td>0.645772</td>\n",
       "      <td>-0.892131</td>\n",
       "      <td>-0.962947</td>\n",
       "      <td>-0.957361</td>\n",
       "      <td>NaN</td>\n",
       "      <td>0.955664</td>\n",
       "      <td>-0.963204</td>\n",
       "      <td>...</td>\n",
       "      <td>-0.967226</td>\n",
       "      <td>-0.944561</td>\n",
       "      <td>-0.334297</td>\n",
       "      <td>-0.278199</td>\n",
       "      <td>0.012878</td>\n",
       "      <td>0.718184</td>\n",
       "      <td>0.500264</td>\n",
       "      <td>NaN</td>\n",
       "      <td>NaN</td>\n",
       "      <td>0.943587</td>\n",
       "    </tr>\n",
       "    <tr>\n",
       "      <th>Bermuda</th>\n",
       "      <td>-0.852117</td>\n",
       "      <td>NaN</td>\n",
       "      <td>NaN</td>\n",
       "      <td>NaN</td>\n",
       "      <td>NaN</td>\n",
       "      <td>-0.809464</td>\n",
       "      <td>0.453401</td>\n",
       "      <td>0.787960</td>\n",
       "      <td>0.876173</td>\n",
       "      <td>NaN</td>\n",
       "      <td>...</td>\n",
       "      <td>-0.657904</td>\n",
       "      <td>NaN</td>\n",
       "      <td>NaN</td>\n",
       "      <td>NaN</td>\n",
       "      <td>NaN</td>\n",
       "      <td>NaN</td>\n",
       "      <td>NaN</td>\n",
       "      <td>NaN</td>\n",
       "      <td>NaN</td>\n",
       "      <td>-0.673786</td>\n",
       "    </tr>\n",
       "    <tr>\n",
       "      <th>Jamaica</th>\n",
       "      <td>0.393640</td>\n",
       "      <td>-0.439285</td>\n",
       "      <td>NaN</td>\n",
       "      <td>0.283936</td>\n",
       "      <td>0.430967</td>\n",
       "      <td>-0.939990</td>\n",
       "      <td>0.948101</td>\n",
       "      <td>0.082793</td>\n",
       "      <td>0.230569</td>\n",
       "      <td>-0.943984</td>\n",
       "      <td>...</td>\n",
       "      <td>-0.741270</td>\n",
       "      <td>-0.883245</td>\n",
       "      <td>0.650214</td>\n",
       "      <td>0.822789</td>\n",
       "      <td>0.608839</td>\n",
       "      <td>-0.716088</td>\n",
       "      <td>0.480779</td>\n",
       "      <td>NaN</td>\n",
       "      <td>NaN</td>\n",
       "      <td>0.912388</td>\n",
       "    </tr>\n",
       "  </tbody>\n",
       "</table>\n",
       "<p>179 rows × 21 columns</p>\n",
       "</div>"
      ],
      "text/plain": [
       "             AgriShareGDP  CreditToAgriFishForest  EmploymentRural  TotalAgri  \\\n",
       "Kenya            0.929396               -0.920021              NaN   0.982102   \n",
       "Malawi          -0.839805                0.738618              NaN   0.976178   \n",
       "Algeria          0.137751                     NaN              NaN   0.911970   \n",
       "New Zealand     -0.390130                0.142875              NaN   0.906371   \n",
       "Gabon           -0.701976                     NaN              NaN        NaN   \n",
       "...                   ...                     ...              ...        ...   \n",
       "Finland         -0.684490                     NaN        -0.445596   0.903604   \n",
       "India           -0.700650                0.838653              NaN   0.979770   \n",
       "Madagascar      -0.856914                     NaN              NaN   0.645772   \n",
       "Bermuda         -0.852117                     NaN              NaN        NaN   \n",
       "Jamaica          0.393640               -0.439285              NaN   0.283936   \n",
       "\n",
       "             % Soldiers  Birth Rate  Death Rate  Homicides  Life Expectancy  \\\n",
       "Kenya         -0.968385   -0.990095   -0.925414        NaN         0.951735   \n",
       "Malawi         0.426255   -0.932029   -0.915541        NaN         0.928278   \n",
       "Algeria       -0.804748    0.951733   -0.617942        NaN         0.863359   \n",
       "New Zealand   -0.934430   -0.724168   -0.375034  -0.810743         0.982542   \n",
       "Gabon         -0.860400   -0.214624   -0.833069        NaN         0.797816   \n",
       "...                 ...         ...         ...        ...              ...   \n",
       "Finland       -0.818225   -0.315917    0.307726  -0.646537         0.811241   \n",
       "India          0.338557   -0.984446   -0.922763  -0.945650         0.987074   \n",
       "Madagascar    -0.892131   -0.962947   -0.957361        NaN         0.955664   \n",
       "Bermuda             NaN   -0.809464    0.453401   0.787960         0.876173   \n",
       "Jamaica        0.430967   -0.939990    0.948101   0.082793         0.230569   \n",
       "\n",
       "             Maternal Death Risk  ...  % Population Growth  \\\n",
       "Kenya                  -0.929861  ...            -0.927153   \n",
       "Malawi                 -0.895567  ...             0.329982   \n",
       "Algeria                 0.045052  ...             0.905385   \n",
       "New Zealand            -0.905752  ...             0.399911   \n",
       "Gabon                  -0.851626  ...             0.686265   \n",
       "...                          ...  ...                  ...   \n",
       "Finland                -0.672445  ...             0.348617   \n",
       "India                  -0.952978  ...            -0.987524   \n",
       "Madagascar             -0.963204  ...            -0.967226   \n",
       "Bermuda                      NaN  ...            -0.657904   \n",
       "Jamaica                -0.943984  ...            -0.741270   \n",
       "\n",
       "             % Rural Population  Civil Liberties  Freedom of Expression  \\\n",
       "Kenya                 -0.989902         0.853628               0.384884   \n",
       "Malawi                -0.956254         0.853056               0.763209   \n",
       "Algeria               -0.813765         0.808796              -0.178662   \n",
       "New Zealand           -0.658080        -0.445694              -0.761484   \n",
       "Gabon                 -0.877655         0.678858               0.780923   \n",
       "...                         ...              ...                    ...   \n",
       "Finland               -0.759157        -0.423647              -0.207004   \n",
       "India                 -0.989709         0.514362              -0.814355   \n",
       "Madagascar            -0.944561        -0.334297              -0.278199   \n",
       "Bermuda                     NaN              NaN                    NaN   \n",
       "Jamaica               -0.883245         0.650214               0.822789   \n",
       "\n",
       "             % Healthcare Investment  % Employment Industry  \\\n",
       "Kenya                       0.708707               0.935578   \n",
       "Malawi                      0.564688               0.850495   \n",
       "Algeria                     0.656106               0.906667   \n",
       "New Zealand                 0.892840              -0.751467   \n",
       "Gabon                       0.521275               0.937797   \n",
       "...                              ...                    ...   \n",
       "Finland                     0.933990              -0.817833   \n",
       "India                       0.701925               0.927380   \n",
       "Madagascar                  0.012878               0.718184   \n",
       "Bermuda                          NaN                    NaN   \n",
       "Jamaica                     0.608839              -0.716088   \n",
       "\n",
       "             % Education Expenditure  % Men Employment  % Women Employment  \\\n",
       "Kenya                      -0.810695               NaN                 NaN   \n",
       "Malawi                           NaN               NaN                 NaN   \n",
       "Algeria                          NaN               NaN                 NaN   \n",
       "New Zealand                 0.100096          0.201205            0.893163   \n",
       "Gabon                            NaN               NaN                 NaN   \n",
       "...                              ...               ...                 ...   \n",
       "Finland                    -0.551122         -0.611790           -0.252097   \n",
       "India                            NaN               NaN                 NaN   \n",
       "Madagascar                  0.500264               NaN                 NaN   \n",
       "Bermuda                          NaN               NaN                 NaN   \n",
       "Jamaica                     0.480779               NaN                 NaN   \n",
       "\n",
       "             Population  \n",
       "Kenya          0.988922  \n",
       "Malawi         0.954178  \n",
       "Algeria        0.716609  \n",
       "New Zealand    0.979112  \n",
       "Gabon          0.792796  \n",
       "...                 ...  \n",
       "Finland        0.779245  \n",
       "India          0.987350  \n",
       "Madagascar     0.943587  \n",
       "Bermuda       -0.673786  \n",
       "Jamaica        0.912388  \n",
       "\n",
       "[179 rows x 21 columns]"
      ]
     },
     "execution_count": 3,
     "metadata": {},
     "output_type": "execute_result"
    }
   ],
   "source": [
    "#One dataframe per country\n",
    "\n",
    "df = pd.read_csv(df_url)\n",
    "corr_df = pd.DataFrame()\n",
    "corr_df.index.names = ['Country']\n",
    "aux_df = pd.DataFrame()\n",
    "\n",
    "#List all the countries, none repeated\n",
    "countries = set(df['Country'].to_list())\n",
    "\n",
    "country_dict = {}\n",
    "corr_dict = {}\n",
    "\n",
    "for country in countries:\n",
    "\n",
    "    #Get the DataFrame for a given country\n",
    "    country_df = df.loc[df['Country'] == country]\n",
    "\n",
    "    #Correlation matrix for that country\n",
    "    country_corr_df = country_df.corr()\n",
    "\n",
    "    #Trim it into a single row\n",
    "    country_corr_df = country_corr_df.rename(columns = {'GDP': country}).drop(index = ['Year', 'GDP'])\n",
    "\n",
    "    #Add the row to a new DataFrame with the correlations for each country\n",
    "    corr_df = pd.concat([corr_df, country_corr_df[country]], axis = 1)\n",
    "\n",
    "#Transpose the resulting DataFrame to have the desired format and show it\n",
    "corr_df = corr_df.transpose()\n",
    "corr_df\n",
    "\n",
    "#corr_df.to_csv(read_path + '/Output/corr.csv')\n"
   ]
  },
  {
   "cell_type": "code",
   "execution_count": 4,
   "metadata": {},
   "outputs": [
    {
     "name": "stdout",
     "output_type": "stream",
     "text": [
      "set()\n"
     ]
    },
    {
     "data": {
      "text/html": [
       "<div>\n",
       "<style scoped>\n",
       "    .dataframe tbody tr th:only-of-type {\n",
       "        vertical-align: middle;\n",
       "    }\n",
       "\n",
       "    .dataframe tbody tr th {\n",
       "        vertical-align: top;\n",
       "    }\n",
       "\n",
       "    .dataframe thead th {\n",
       "        text-align: right;\n",
       "    }\n",
       "</style>\n",
       "<table border=\"1\" class=\"dataframe\">\n",
       "  <thead>\n",
       "    <tr style=\"text-align: right;\">\n",
       "      <th></th>\n",
       "      <th>AgriShareGDP</th>\n",
       "      <th>CreditToAgriFishForest</th>\n",
       "      <th>EmploymentRural</th>\n",
       "      <th>TotalAgri</th>\n",
       "      <th>% Soldiers</th>\n",
       "      <th>Birth Rate</th>\n",
       "      <th>Death Rate</th>\n",
       "      <th>Homicides</th>\n",
       "      <th>Life Expectancy</th>\n",
       "      <th>Maternal Death Risk</th>\n",
       "      <th>...</th>\n",
       "      <th>% Population Growth</th>\n",
       "      <th>% Rural Population</th>\n",
       "      <th>Civil Liberties</th>\n",
       "      <th>Freedom of Expression</th>\n",
       "      <th>% Healthcare Investment</th>\n",
       "      <th>% Employment Industry</th>\n",
       "      <th>% Education Expenditure</th>\n",
       "      <th>% Men Employment</th>\n",
       "      <th>% Women Employment</th>\n",
       "      <th>Population</th>\n",
       "    </tr>\n",
       "  </thead>\n",
       "  <tbody>\n",
       "    <tr>\n",
       "      <th>Kenya</th>\n",
       "      <td>0.929396</td>\n",
       "      <td>-0.920021</td>\n",
       "      <td>NaN</td>\n",
       "      <td>0.982102</td>\n",
       "      <td>-0.968385</td>\n",
       "      <td>-0.990095</td>\n",
       "      <td>-0.925414</td>\n",
       "      <td>NaN</td>\n",
       "      <td>0.951735</td>\n",
       "      <td>-0.929861</td>\n",
       "      <td>...</td>\n",
       "      <td>-0.927153</td>\n",
       "      <td>-0.989902</td>\n",
       "      <td>0.853628</td>\n",
       "      <td>0.384884</td>\n",
       "      <td>0.708707</td>\n",
       "      <td>0.935578</td>\n",
       "      <td>-0.810695</td>\n",
       "      <td>NaN</td>\n",
       "      <td>NaN</td>\n",
       "      <td>0.988922</td>\n",
       "    </tr>\n",
       "    <tr>\n",
       "      <th>Malawi</th>\n",
       "      <td>-0.839805</td>\n",
       "      <td>0.738618</td>\n",
       "      <td>NaN</td>\n",
       "      <td>0.976178</td>\n",
       "      <td>0.426255</td>\n",
       "      <td>-0.932029</td>\n",
       "      <td>-0.915541</td>\n",
       "      <td>NaN</td>\n",
       "      <td>0.928278</td>\n",
       "      <td>-0.895567</td>\n",
       "      <td>...</td>\n",
       "      <td>0.329982</td>\n",
       "      <td>-0.956254</td>\n",
       "      <td>0.853056</td>\n",
       "      <td>0.763209</td>\n",
       "      <td>0.564688</td>\n",
       "      <td>0.850495</td>\n",
       "      <td>NaN</td>\n",
       "      <td>NaN</td>\n",
       "      <td>NaN</td>\n",
       "      <td>0.954178</td>\n",
       "    </tr>\n",
       "    <tr>\n",
       "      <th>Algeria</th>\n",
       "      <td>0.137751</td>\n",
       "      <td>NaN</td>\n",
       "      <td>NaN</td>\n",
       "      <td>0.911970</td>\n",
       "      <td>-0.804748</td>\n",
       "      <td>0.951733</td>\n",
       "      <td>-0.617942</td>\n",
       "      <td>NaN</td>\n",
       "      <td>0.863359</td>\n",
       "      <td>0.045052</td>\n",
       "      <td>...</td>\n",
       "      <td>0.905385</td>\n",
       "      <td>-0.813765</td>\n",
       "      <td>0.808796</td>\n",
       "      <td>-0.178662</td>\n",
       "      <td>0.656106</td>\n",
       "      <td>0.906667</td>\n",
       "      <td>NaN</td>\n",
       "      <td>NaN</td>\n",
       "      <td>NaN</td>\n",
       "      <td>0.716609</td>\n",
       "    </tr>\n",
       "    <tr>\n",
       "      <th>New Zealand</th>\n",
       "      <td>-0.390130</td>\n",
       "      <td>0.142875</td>\n",
       "      <td>NaN</td>\n",
       "      <td>0.906371</td>\n",
       "      <td>-0.934430</td>\n",
       "      <td>-0.724168</td>\n",
       "      <td>-0.375034</td>\n",
       "      <td>-0.810743</td>\n",
       "      <td>0.982542</td>\n",
       "      <td>-0.905752</td>\n",
       "      <td>...</td>\n",
       "      <td>0.399911</td>\n",
       "      <td>-0.658080</td>\n",
       "      <td>-0.445694</td>\n",
       "      <td>-0.761484</td>\n",
       "      <td>0.892840</td>\n",
       "      <td>-0.751467</td>\n",
       "      <td>0.100096</td>\n",
       "      <td>0.201205</td>\n",
       "      <td>0.893163</td>\n",
       "      <td>0.979112</td>\n",
       "    </tr>\n",
       "    <tr>\n",
       "      <th>Gabon</th>\n",
       "      <td>-0.701976</td>\n",
       "      <td>NaN</td>\n",
       "      <td>NaN</td>\n",
       "      <td>NaN</td>\n",
       "      <td>-0.860400</td>\n",
       "      <td>-0.214624</td>\n",
       "      <td>-0.833069</td>\n",
       "      <td>NaN</td>\n",
       "      <td>0.797816</td>\n",
       "      <td>-0.851626</td>\n",
       "      <td>...</td>\n",
       "      <td>0.686265</td>\n",
       "      <td>-0.877655</td>\n",
       "      <td>0.678858</td>\n",
       "      <td>0.780923</td>\n",
       "      <td>0.521275</td>\n",
       "      <td>0.937797</td>\n",
       "      <td>NaN</td>\n",
       "      <td>NaN</td>\n",
       "      <td>NaN</td>\n",
       "      <td>0.792796</td>\n",
       "    </tr>\n",
       "    <tr>\n",
       "      <th>...</th>\n",
       "      <td>...</td>\n",
       "      <td>...</td>\n",
       "      <td>...</td>\n",
       "      <td>...</td>\n",
       "      <td>...</td>\n",
       "      <td>...</td>\n",
       "      <td>...</td>\n",
       "      <td>...</td>\n",
       "      <td>...</td>\n",
       "      <td>...</td>\n",
       "      <td>...</td>\n",
       "      <td>...</td>\n",
       "      <td>...</td>\n",
       "      <td>...</td>\n",
       "      <td>...</td>\n",
       "      <td>...</td>\n",
       "      <td>...</td>\n",
       "      <td>...</td>\n",
       "      <td>...</td>\n",
       "      <td>...</td>\n",
       "      <td>...</td>\n",
       "    </tr>\n",
       "    <tr>\n",
       "      <th>Finland</th>\n",
       "      <td>-0.684490</td>\n",
       "      <td>NaN</td>\n",
       "      <td>-0.445596</td>\n",
       "      <td>0.903604</td>\n",
       "      <td>-0.818225</td>\n",
       "      <td>-0.315917</td>\n",
       "      <td>0.307726</td>\n",
       "      <td>-0.646537</td>\n",
       "      <td>0.811241</td>\n",
       "      <td>-0.672445</td>\n",
       "      <td>...</td>\n",
       "      <td>0.348617</td>\n",
       "      <td>-0.759157</td>\n",
       "      <td>-0.423647</td>\n",
       "      <td>-0.207004</td>\n",
       "      <td>0.933990</td>\n",
       "      <td>-0.817833</td>\n",
       "      <td>-0.551122</td>\n",
       "      <td>-0.611790</td>\n",
       "      <td>-0.252097</td>\n",
       "      <td>0.779245</td>\n",
       "    </tr>\n",
       "    <tr>\n",
       "      <th>India</th>\n",
       "      <td>-0.700650</td>\n",
       "      <td>0.838653</td>\n",
       "      <td>NaN</td>\n",
       "      <td>0.979770</td>\n",
       "      <td>0.338557</td>\n",
       "      <td>-0.984446</td>\n",
       "      <td>-0.922763</td>\n",
       "      <td>-0.945650</td>\n",
       "      <td>0.987074</td>\n",
       "      <td>-0.952978</td>\n",
       "      <td>...</td>\n",
       "      <td>-0.987524</td>\n",
       "      <td>-0.989709</td>\n",
       "      <td>0.514362</td>\n",
       "      <td>-0.814355</td>\n",
       "      <td>0.701925</td>\n",
       "      <td>0.927380</td>\n",
       "      <td>NaN</td>\n",
       "      <td>NaN</td>\n",
       "      <td>NaN</td>\n",
       "      <td>0.987350</td>\n",
       "    </tr>\n",
       "    <tr>\n",
       "      <th>Madagascar</th>\n",
       "      <td>-0.856914</td>\n",
       "      <td>NaN</td>\n",
       "      <td>NaN</td>\n",
       "      <td>0.645772</td>\n",
       "      <td>-0.892131</td>\n",
       "      <td>-0.962947</td>\n",
       "      <td>-0.957361</td>\n",
       "      <td>NaN</td>\n",
       "      <td>0.955664</td>\n",
       "      <td>-0.963204</td>\n",
       "      <td>...</td>\n",
       "      <td>-0.967226</td>\n",
       "      <td>-0.944561</td>\n",
       "      <td>-0.334297</td>\n",
       "      <td>-0.278199</td>\n",
       "      <td>0.012878</td>\n",
       "      <td>0.718184</td>\n",
       "      <td>0.500264</td>\n",
       "      <td>NaN</td>\n",
       "      <td>NaN</td>\n",
       "      <td>0.943587</td>\n",
       "    </tr>\n",
       "    <tr>\n",
       "      <th>Bermuda</th>\n",
       "      <td>-0.852117</td>\n",
       "      <td>NaN</td>\n",
       "      <td>NaN</td>\n",
       "      <td>NaN</td>\n",
       "      <td>NaN</td>\n",
       "      <td>-0.809464</td>\n",
       "      <td>0.453401</td>\n",
       "      <td>0.787960</td>\n",
       "      <td>0.876173</td>\n",
       "      <td>NaN</td>\n",
       "      <td>...</td>\n",
       "      <td>-0.657904</td>\n",
       "      <td>NaN</td>\n",
       "      <td>NaN</td>\n",
       "      <td>NaN</td>\n",
       "      <td>NaN</td>\n",
       "      <td>NaN</td>\n",
       "      <td>NaN</td>\n",
       "      <td>NaN</td>\n",
       "      <td>NaN</td>\n",
       "      <td>-0.673786</td>\n",
       "    </tr>\n",
       "    <tr>\n",
       "      <th>Jamaica</th>\n",
       "      <td>0.393640</td>\n",
       "      <td>-0.439285</td>\n",
       "      <td>NaN</td>\n",
       "      <td>0.283936</td>\n",
       "      <td>0.430967</td>\n",
       "      <td>-0.939990</td>\n",
       "      <td>0.948101</td>\n",
       "      <td>0.082793</td>\n",
       "      <td>0.230569</td>\n",
       "      <td>-0.943984</td>\n",
       "      <td>...</td>\n",
       "      <td>-0.741270</td>\n",
       "      <td>-0.883245</td>\n",
       "      <td>0.650214</td>\n",
       "      <td>0.822789</td>\n",
       "      <td>0.608839</td>\n",
       "      <td>-0.716088</td>\n",
       "      <td>0.480779</td>\n",
       "      <td>NaN</td>\n",
       "      <td>NaN</td>\n",
       "      <td>0.912388</td>\n",
       "    </tr>\n",
       "  </tbody>\n",
       "</table>\n",
       "<p>179 rows × 21 columns</p>\n",
       "</div>"
      ],
      "text/plain": [
       "             AgriShareGDP  CreditToAgriFishForest  EmploymentRural  TotalAgri  \\\n",
       "Kenya            0.929396               -0.920021              NaN   0.982102   \n",
       "Malawi          -0.839805                0.738618              NaN   0.976178   \n",
       "Algeria          0.137751                     NaN              NaN   0.911970   \n",
       "New Zealand     -0.390130                0.142875              NaN   0.906371   \n",
       "Gabon           -0.701976                     NaN              NaN        NaN   \n",
       "...                   ...                     ...              ...        ...   \n",
       "Finland         -0.684490                     NaN        -0.445596   0.903604   \n",
       "India           -0.700650                0.838653              NaN   0.979770   \n",
       "Madagascar      -0.856914                     NaN              NaN   0.645772   \n",
       "Bermuda         -0.852117                     NaN              NaN        NaN   \n",
       "Jamaica          0.393640               -0.439285              NaN   0.283936   \n",
       "\n",
       "             % Soldiers  Birth Rate  Death Rate  Homicides  Life Expectancy  \\\n",
       "Kenya         -0.968385   -0.990095   -0.925414        NaN         0.951735   \n",
       "Malawi         0.426255   -0.932029   -0.915541        NaN         0.928278   \n",
       "Algeria       -0.804748    0.951733   -0.617942        NaN         0.863359   \n",
       "New Zealand   -0.934430   -0.724168   -0.375034  -0.810743         0.982542   \n",
       "Gabon         -0.860400   -0.214624   -0.833069        NaN         0.797816   \n",
       "...                 ...         ...         ...        ...              ...   \n",
       "Finland       -0.818225   -0.315917    0.307726  -0.646537         0.811241   \n",
       "India          0.338557   -0.984446   -0.922763  -0.945650         0.987074   \n",
       "Madagascar    -0.892131   -0.962947   -0.957361        NaN         0.955664   \n",
       "Bermuda             NaN   -0.809464    0.453401   0.787960         0.876173   \n",
       "Jamaica        0.430967   -0.939990    0.948101   0.082793         0.230569   \n",
       "\n",
       "             Maternal Death Risk  ...  % Population Growth  \\\n",
       "Kenya                  -0.929861  ...            -0.927153   \n",
       "Malawi                 -0.895567  ...             0.329982   \n",
       "Algeria                 0.045052  ...             0.905385   \n",
       "New Zealand            -0.905752  ...             0.399911   \n",
       "Gabon                  -0.851626  ...             0.686265   \n",
       "...                          ...  ...                  ...   \n",
       "Finland                -0.672445  ...             0.348617   \n",
       "India                  -0.952978  ...            -0.987524   \n",
       "Madagascar             -0.963204  ...            -0.967226   \n",
       "Bermuda                      NaN  ...            -0.657904   \n",
       "Jamaica                -0.943984  ...            -0.741270   \n",
       "\n",
       "             % Rural Population  Civil Liberties  Freedom of Expression  \\\n",
       "Kenya                 -0.989902         0.853628               0.384884   \n",
       "Malawi                -0.956254         0.853056               0.763209   \n",
       "Algeria               -0.813765         0.808796              -0.178662   \n",
       "New Zealand           -0.658080        -0.445694              -0.761484   \n",
       "Gabon                 -0.877655         0.678858               0.780923   \n",
       "...                         ...              ...                    ...   \n",
       "Finland               -0.759157        -0.423647              -0.207004   \n",
       "India                 -0.989709         0.514362              -0.814355   \n",
       "Madagascar            -0.944561        -0.334297              -0.278199   \n",
       "Bermuda                     NaN              NaN                    NaN   \n",
       "Jamaica               -0.883245         0.650214               0.822789   \n",
       "\n",
       "             % Healthcare Investment  % Employment Industry  \\\n",
       "Kenya                       0.708707               0.935578   \n",
       "Malawi                      0.564688               0.850495   \n",
       "Algeria                     0.656106               0.906667   \n",
       "New Zealand                 0.892840              -0.751467   \n",
       "Gabon                       0.521275               0.937797   \n",
       "...                              ...                    ...   \n",
       "Finland                     0.933990              -0.817833   \n",
       "India                       0.701925               0.927380   \n",
       "Madagascar                  0.012878               0.718184   \n",
       "Bermuda                          NaN                    NaN   \n",
       "Jamaica                     0.608839              -0.716088   \n",
       "\n",
       "             % Education Expenditure  % Men Employment  % Women Employment  \\\n",
       "Kenya                      -0.810695               NaN                 NaN   \n",
       "Malawi                           NaN               NaN                 NaN   \n",
       "Algeria                          NaN               NaN                 NaN   \n",
       "New Zealand                 0.100096          0.201205            0.893163   \n",
       "Gabon                            NaN               NaN                 NaN   \n",
       "...                              ...               ...                 ...   \n",
       "Finland                    -0.551122         -0.611790           -0.252097   \n",
       "India                            NaN               NaN                 NaN   \n",
       "Madagascar                  0.500264               NaN                 NaN   \n",
       "Bermuda                          NaN               NaN                 NaN   \n",
       "Jamaica                     0.480779               NaN                 NaN   \n",
       "\n",
       "             Population  \n",
       "Kenya          0.988922  \n",
       "Malawi         0.954178  \n",
       "Algeria        0.716609  \n",
       "New Zealand    0.979112  \n",
       "Gabon          0.792796  \n",
       "...                 ...  \n",
       "Finland        0.779245  \n",
       "India          0.987350  \n",
       "Madagascar     0.943587  \n",
       "Bermuda       -0.673786  \n",
       "Jamaica        0.912388  \n",
       "\n",
       "[179 rows x 21 columns]"
      ]
     },
     "execution_count": 4,
     "metadata": {},
     "output_type": "execute_result"
    }
   ],
   "source": [
    "#Clean the data deleting rows or columns with too many missing values\n",
    "clean_corr_df = corr_df\n",
    "\n",
    "#Indicators with no correlations\n",
    "clean_corr_df = corr_df.dropna(axis = 'columns', how = 'all')\n",
    "clean_corr_df\n",
    "\n",
    "#clean_corr_df = clean_corr_df.dropna(axis = 'rows', thresh = 10)\n",
    "\n",
    "cols = set(corr_df.columns) - set(clean_corr_df.columns)\n",
    "print(cols)\n",
    "clean_corr_df"
   ]
  },
  {
   "cell_type": "code",
   "execution_count": 5,
   "metadata": {},
   "outputs": [
    {
     "name": "stdout",
     "output_type": "stream",
     "text": [
      "143.20000000000002\n",
      "14\n",
      "139\n"
     ]
    }
   ],
   "source": [
    "#Countries still with not enough indicators\n",
    "#How many countries would remain depending on the threshold we use for indicators?\n",
    "\n",
    "dict_count = {}\n",
    "\n",
    "n_indicators = len(clean_corr_df.columns)\n",
    "\n",
    "for i in range(0, n_indicators + 1):\n",
    "    dict_count[i] = 0\n",
    "\n",
    "for country in clean_corr_df.index:\n",
    "    count = clean_corr_df.loc[country].count()\n",
    "    dict_count[count] += 1\n",
    "\n",
    "dict_count\n",
    "\n",
    "i = n_indicators - 1\n",
    "while i >= 0:\n",
    "    dict_count[i] += dict_count[i + 1]\n",
    "    i -= 1\n",
    "dict_count\n",
    "\n",
    "min = max(dict_count.values()) * 0.8\n",
    "for i in range(1, len(dict_count)):\n",
    "    if dict_count[i] < min:\n",
    "        threshold = dict_count[i]\n",
    "        break\n",
    "    i += i\n",
    "\n",
    "\n",
    "#print(len(dict_count))\n",
    "print(min)\n",
    "print(i)\n",
    "print(threshold)"
   ]
  },
  {
   "cell_type": "code",
   "execution_count": null,
   "metadata": {},
   "outputs": [],
   "source": []
  },
  {
   "cell_type": "code",
   "execution_count": 6,
   "metadata": {},
   "outputs": [
    {
     "name": "stdout",
     "output_type": "stream",
     "text": [
      "Empty DataFrame\n",
      "Columns: []\n",
      "Index: []\n",
      "         Country Indicators\n",
      "0          Kenya         17\n",
      "1         Malawi         16\n",
      "2        Algeria         15\n",
      "3    New Zealand         20\n",
      "4          Gabon         14\n",
      "..           ...        ...\n",
      "174      Finland         20\n",
      "175        India         17\n",
      "176   Madagascar         16\n",
      "177      Bermuda          7\n",
      "178      Jamaica         18\n",
      "\n",
      "[179 rows x 2 columns]\n",
      "['Kenya', 'Malawi', 'Algeria', 'New Zealand', 'Gabon', 'Eritrea', 'Uruguay', 'Chad', 'Serbia', 'Marshall Islands', 'Palau', 'Tonga', 'Estonia', 'Bosnia and Herzegovina', 'Argentina', 'Equatorial Guinea', 'Dominican Republic', 'Liberia', 'Trinidad and Tobago', 'Denmark', 'Hungary', 'Malaysia', 'Kazakhstan', 'Andorra', 'Bhutan', 'Malta', 'France', 'Morocco', 'Georgia', 'Nepal', 'Cambodia', 'Saudi Arabia', 'Djibouti', 'Oman', 'Rwanda', 'Sierra Leone', 'Belgium', 'Papua New Guinea', 'Singapore', 'Ghana', 'Armenia', 'North Macedonia', 'South Africa', 'Afghanistan', 'Lithuania', 'Russia', 'Sweden', 'Ireland', 'Switzerland', 'Panama', 'Uganda', 'Somalia', 'Belize', 'Central African Republic', 'Dominica', 'Saint Lucia', 'Fiji', 'Slovenia', 'Guatemala', 'Togo', 'Iraq', 'United States', 'Kiribati', 'Costa Rica', 'Portugal', 'Botswana', 'Ukraine', 'Cyprus', 'Honduras', 'Mauritius', 'Niger', 'Colombia', 'Vanuatu', 'Nauru', 'Thailand', 'Comoros', 'Guinea-Bissau', 'Philippines', 'Mauritania', 'Australia', 'Seychelles', 'Eswatini', 'Benin', 'Qatar', 'Yemen', 'Angola', 'Slovakia', 'Cayman Islands', 'Guyana', 'Mexico', 'Egypt', 'Guinea', 'Lebanon', 'Poland', 'Tajikistan', 'Peru', 'Tunisia', 'Solomon Islands', 'Congo', 'Montenegro', 'Burkina Faso', 'Nicaragua', 'Burundi', 'Israel', 'South Sudan', 'Barbados', 'Albania', 'Liechtenstein', 'Bulgaria', 'Cuba', 'Libya', 'Mongolia', 'Cameroon', 'Belarus', 'Namibia', 'Mali', 'New Caledonia', 'China', 'Netherlands', 'Ecuador', 'French Polynesia', 'Spain', 'Gambia', 'Tuvalu', 'San Marino', 'Sri Lanka', 'Ethiopia', 'Samoa', 'Brazil', 'Japan', 'Romania', 'Jordan', 'Luxembourg', 'Suriname', 'Aruba', 'Greenland', 'Maldives', 'Turkmenistan', 'Zambia', 'Lesotho', 'Bangladesh', 'Sao Tome and Principe', 'Kyrgyzstan', 'Nigeria', 'Latvia', 'Zimbabwe', 'Paraguay', 'Bahrain', 'Uzbekistan', 'Germany', 'Senegal', 'Kuwait', 'Grenada', 'United Arab Emirates', 'Azerbaijan', 'Croatia', 'Puerto Rico', 'Iceland', 'Austria', 'Czechia', 'Myanmar', 'Canada', 'Pakistan', 'Italy', 'Indonesia', 'Sudan', 'El Salvador', 'Antigua and Barbuda', 'Chile', 'Greece', 'Haiti', 'United Kingdom', 'Mozambique', 'Norway', 'Finland', 'India', 'Madagascar', 'Bermuda', 'Jamaica']\n"
     ]
    },
    {
     "data": {
      "application/vnd.plotly.v1+json": {
       "config": {
        "plotlyServerURL": "https://plot.ly"
       },
       "data": [
        {
         "colorscale": [
          [
           0,
           "#636efa"
          ],
          [
           1,
           "#636efa"
          ]
         ],
         "geo": "geo",
         "hovertemplate": "<b>%{hovertext}</b><br><br>Indicators=17<br>Country=%{location}<extra></extra>",
         "hovertext": [
          "Kenya",
          "Uruguay",
          "Trinidad and Tobago",
          "Malaysia",
          "Armenia",
          "Panama",
          "Togo",
          "Ukraine",
          "Mauritius",
          "Niger",
          "Peru",
          "Burkina Faso",
          "Nicaragua",
          "Barbados",
          "Belarus",
          "Mali",
          "Ecuador",
          "Brazil",
          "Luxembourg",
          "Bangladesh",
          "Paraguay",
          "Senegal",
          "Azerbaijan",
          "Croatia",
          "Pakistan",
          "India"
         ],
         "locationmode": "country names",
         "locations": [
          "Kenya",
          "Uruguay",
          "Trinidad and Tobago",
          "Malaysia",
          "Armenia",
          "Panama",
          "Togo",
          "Ukraine",
          "Mauritius",
          "Niger",
          "Peru",
          "Burkina Faso",
          "Nicaragua",
          "Barbados",
          "Belarus",
          "Mali",
          "Ecuador",
          "Brazil",
          "Luxembourg",
          "Bangladesh",
          "Paraguay",
          "Senegal",
          "Azerbaijan",
          "Croatia",
          "Pakistan",
          "India"
         ],
         "name": "17",
         "showlegend": true,
         "showscale": false,
         "type": "choropleth",
         "z": [
          1,
          1,
          1,
          1,
          1,
          1,
          1,
          1,
          1,
          1,
          1,
          1,
          1,
          1,
          1,
          1,
          1,
          1,
          1,
          1,
          1,
          1,
          1,
          1,
          1,
          1
         ]
        },
        {
         "colorscale": [
          [
           0,
           "#EF553B"
          ],
          [
           1,
           "#EF553B"
          ]
         ],
         "geo": "geo",
         "hovertemplate": "<b>%{hovertext}</b><br><br>Indicators=16<br>Country=%{location}<extra></extra>",
         "hovertext": [
          "Malawi",
          "Bosnia and Herzegovina",
          "Bhutan",
          "Morocco",
          "Georgia",
          "Cambodia",
          "Oman",
          "Rwanda",
          "Singapore",
          "North Macedonia",
          "Guatemala",
          "Botswana",
          "Honduras",
          "Guinea-Bissau",
          "Benin",
          "Guinea",
          "Tunisia",
          "Burundi",
          "Albania",
          "Mongolia",
          "Cameroon",
          "Sri Lanka",
          "Ethiopia",
          "Jordan",
          "Zambia",
          "Nigeria",
          "Mozambique",
          "Madagascar"
         ],
         "locationmode": "country names",
         "locations": [
          "Malawi",
          "Bosnia and Herzegovina",
          "Bhutan",
          "Morocco",
          "Georgia",
          "Cambodia",
          "Oman",
          "Rwanda",
          "Singapore",
          "North Macedonia",
          "Guatemala",
          "Botswana",
          "Honduras",
          "Guinea-Bissau",
          "Benin",
          "Guinea",
          "Tunisia",
          "Burundi",
          "Albania",
          "Mongolia",
          "Cameroon",
          "Sri Lanka",
          "Ethiopia",
          "Jordan",
          "Zambia",
          "Nigeria",
          "Mozambique",
          "Madagascar"
         ],
         "name": "16",
         "showlegend": true,
         "showscale": false,
         "type": "choropleth",
         "z": [
          1,
          1,
          1,
          1,
          1,
          1,
          1,
          1,
          1,
          1,
          1,
          1,
          1,
          1,
          1,
          1,
          1,
          1,
          1,
          1,
          1,
          1,
          1,
          1,
          1,
          1,
          1,
          1
         ]
        },
        {
         "colorscale": [
          [
           0,
           "#00cc96"
          ],
          [
           1,
           "#00cc96"
          ]
         ],
         "geo": "geo",
         "hovertemplate": "<b>%{hovertext}</b><br><br>Indicators=15<br>Country=%{location}<extra></extra>",
         "hovertext": [
          "Algeria",
          "Serbia",
          "Equatorial Guinea",
          "Liberia",
          "Kazakhstan",
          "Saudi Arabia",
          "Sierra Leone",
          "Papua New Guinea",
          "Uganda",
          "Belize",
          "Fiji",
          "Iraq",
          "Vanuatu",
          "Qatar",
          "Lebanon",
          "Tajikistan",
          "Cuba",
          "Namibia",
          "China",
          "Suriname",
          "Maldives",
          "Turkmenistan",
          "Bahrain",
          "United Arab Emirates",
          "Myanmar"
         ],
         "locationmode": "country names",
         "locations": [
          "Algeria",
          "Serbia",
          "Equatorial Guinea",
          "Liberia",
          "Kazakhstan",
          "Saudi Arabia",
          "Sierra Leone",
          "Papua New Guinea",
          "Uganda",
          "Belize",
          "Fiji",
          "Iraq",
          "Vanuatu",
          "Qatar",
          "Lebanon",
          "Tajikistan",
          "Cuba",
          "Namibia",
          "China",
          "Suriname",
          "Maldives",
          "Turkmenistan",
          "Bahrain",
          "United Arab Emirates",
          "Myanmar"
         ],
         "name": "15",
         "showlegend": true,
         "showscale": false,
         "type": "choropleth",
         "z": [
          1,
          1,
          1,
          1,
          1,
          1,
          1,
          1,
          1,
          1,
          1,
          1,
          1,
          1,
          1,
          1,
          1,
          1,
          1,
          1,
          1,
          1,
          1,
          1,
          1
         ]
        },
        {
         "colorscale": [
          [
           0,
           "#ab63fa"
          ],
          [
           1,
           "#ab63fa"
          ]
         ],
         "geo": "geo",
         "hovertemplate": "<b>%{hovertext}</b><br><br>Indicators=20<br>Country=%{location}<extra></extra>",
         "hovertext": [
          "New Zealand",
          "Denmark",
          "Belgium",
          "Lithuania",
          "Sweden",
          "Slovenia",
          "United States",
          "Portugal",
          "Cyprus",
          "Colombia",
          "Israel",
          "Netherlands",
          "Latvia",
          "Germany",
          "Austria",
          "Italy",
          "Greece",
          "Finland"
         ],
         "locationmode": "country names",
         "locations": [
          "New Zealand",
          "Denmark",
          "Belgium",
          "Lithuania",
          "Sweden",
          "Slovenia",
          "United States",
          "Portugal",
          "Cyprus",
          "Colombia",
          "Israel",
          "Netherlands",
          "Latvia",
          "Germany",
          "Austria",
          "Italy",
          "Greece",
          "Finland"
         ],
         "name": "20",
         "showlegend": true,
         "showscale": false,
         "type": "choropleth",
         "z": [
          1,
          1,
          1,
          1,
          1,
          1,
          1,
          1,
          1,
          1,
          1,
          1,
          1,
          1,
          1,
          1,
          1,
          1
         ]
        },
        {
         "colorscale": [
          [
           0,
           "#FFA15A"
          ],
          [
           1,
           "#FFA15A"
          ]
         ],
         "geo": "geo",
         "hovertemplate": "<b>%{hovertext}</b><br><br>Indicators=14<br>Country=%{location}<extra></extra>",
         "hovertext": [
          "Gabon",
          "Chad",
          "Djibouti",
          "Afghanistan",
          "Central African Republic",
          "Mauritania",
          "Eswatini",
          "Angola",
          "Lesotho",
          "Sao Tome and Principe",
          "Uzbekistan"
         ],
         "locationmode": "country names",
         "locations": [
          "Gabon",
          "Chad",
          "Djibouti",
          "Afghanistan",
          "Central African Republic",
          "Mauritania",
          "Eswatini",
          "Angola",
          "Lesotho",
          "Sao Tome and Principe",
          "Uzbekistan"
         ],
         "name": "14",
         "showlegend": true,
         "showscale": false,
         "type": "choropleth",
         "z": [
          1,
          1,
          1,
          1,
          1,
          1,
          1,
          1,
          1,
          1,
          1
         ]
        },
        {
         "colorscale": [
          [
           0,
           "#19d3f3"
          ],
          [
           1,
           "#19d3f3"
          ]
         ],
         "geo": "geo",
         "hovertemplate": "<b>%{hovertext}</b><br><br>Indicators=13<br>Country=%{location}<extra></extra>",
         "hovertext": [
          "Eritrea",
          "Comoros",
          "Seychelles",
          "Solomon Islands",
          "Montenegro",
          "Zimbabwe",
          "Kuwait",
          "Czechia",
          "Haiti"
         ],
         "locationmode": "country names",
         "locations": [
          "Eritrea",
          "Comoros",
          "Seychelles",
          "Solomon Islands",
          "Montenegro",
          "Zimbabwe",
          "Kuwait",
          "Czechia",
          "Haiti"
         ],
         "name": "13",
         "showlegend": true,
         "showscale": false,
         "type": "choropleth",
         "z": [
          1,
          1,
          1,
          1,
          1,
          1,
          1,
          1,
          1
         ]
        },
        {
         "colorscale": [
          [
           0,
           "#FF6692"
          ],
          [
           1,
           "#FF6692"
          ]
         ],
         "geo": "geo",
         "hovertemplate": "<b>%{hovertext}</b><br><br>Indicators=6<br>Country=%{location}<extra></extra>",
         "hovertext": [
          "Marshall Islands",
          "Andorra",
          "Saint Lucia",
          "Tuvalu"
         ],
         "locationmode": "country names",
         "locations": [
          "Marshall Islands",
          "Andorra",
          "Saint Lucia",
          "Tuvalu"
         ],
         "name": "6",
         "showlegend": true,
         "showscale": false,
         "type": "choropleth",
         "z": [
          1,
          1,
          1,
          1
         ]
        },
        {
         "colorscale": [
          [
           0,
           "#B6E880"
          ],
          [
           1,
           "#B6E880"
          ]
         ],
         "geo": "geo",
         "hovertemplate": "<b>%{hovertext}</b><br><br>Indicators=8<br>Country=%{location}<extra></extra>",
         "hovertext": [
          "Palau",
          "Dominica",
          "Congo",
          "New Caledonia",
          "French Polynesia",
          "San Marino",
          "Aruba",
          "Greenland"
         ],
         "locationmode": "country names",
         "locations": [
          "Palau",
          "Dominica",
          "Congo",
          "New Caledonia",
          "French Polynesia",
          "San Marino",
          "Aruba",
          "Greenland"
         ],
         "name": "8",
         "showlegend": true,
         "showscale": false,
         "type": "choropleth",
         "z": [
          1,
          1,
          1,
          1,
          1,
          1,
          1,
          1
         ]
        },
        {
         "colorscale": [
          [
           0,
           "#FF97FF"
          ],
          [
           1,
           "#FF97FF"
          ]
         ],
         "geo": "geo",
         "hovertemplate": "<b>%{hovertext}</b><br><br>Indicators=11<br>Country=%{location}<extra></extra>",
         "hovertext": [
          "Tonga",
          "Slovakia",
          "Egypt",
          "Samoa",
          "Puerto Rico"
         ],
         "locationmode": "country names",
         "locations": [
          "Tonga",
          "Slovakia",
          "Egypt",
          "Samoa",
          "Puerto Rico"
         ],
         "name": "11",
         "showlegend": true,
         "showscale": false,
         "type": "choropleth",
         "z": [
          1,
          1,
          1,
          1,
          1
         ]
        },
        {
         "colorscale": [
          [
           0,
           "#FECB52"
          ],
          [
           1,
           "#FECB52"
          ]
         ],
         "geo": "geo",
         "hovertemplate": "<b>%{hovertext}</b><br><br>Indicators=21<br>Country=%{location}<extra></extra>",
         "hovertext": [
          "Estonia",
          "Hungary",
          "Ireland",
          "Costa Rica",
          "Mexico",
          "Spain",
          "United Kingdom"
         ],
         "locationmode": "country names",
         "locations": [
          "Estonia",
          "Hungary",
          "Ireland",
          "Costa Rica",
          "Mexico",
          "Spain",
          "United Kingdom"
         ],
         "name": "21",
         "showlegend": true,
         "showscale": false,
         "type": "choropleth",
         "z": [
          1,
          1,
          1,
          1,
          1,
          1,
          1
         ]
        },
        {
         "colorscale": [
          [
           0,
           "#636efa"
          ],
          [
           1,
           "#636efa"
          ]
         ],
         "geo": "geo",
         "hovertemplate": "<b>%{hovertext}</b><br><br>Indicators=18<br>Country=%{location}<extra></extra>",
         "hovertext": [
          "Argentina",
          "Dominican Republic",
          "Nepal",
          "Ghana",
          "South Africa",
          "Russia",
          "Guyana",
          "El Salvador",
          "Chile",
          "Jamaica"
         ],
         "locationmode": "country names",
         "locations": [
          "Argentina",
          "Dominican Republic",
          "Nepal",
          "Ghana",
          "South Africa",
          "Russia",
          "Guyana",
          "El Salvador",
          "Chile",
          "Jamaica"
         ],
         "name": "18",
         "showlegend": true,
         "showscale": false,
         "type": "choropleth",
         "z": [
          1,
          1,
          1,
          1,
          1,
          1,
          1,
          1,
          1,
          1
         ]
        },
        {
         "colorscale": [
          [
           0,
           "#EF553B"
          ],
          [
           1,
           "#EF553B"
          ]
         ],
         "geo": "geo",
         "hovertemplate": "<b>%{hovertext}</b><br><br>Indicators=19<br>Country=%{location}<extra></extra>",
         "hovertext": [
          "Malta",
          "France",
          "Switzerland",
          "Thailand",
          "Philippines",
          "Australia",
          "Poland",
          "Bulgaria",
          "Japan",
          "Romania",
          "Iceland",
          "Canada",
          "Indonesia",
          "Norway"
         ],
         "locationmode": "country names",
         "locations": [
          "Malta",
          "France",
          "Switzerland",
          "Thailand",
          "Philippines",
          "Australia",
          "Poland",
          "Bulgaria",
          "Japan",
          "Romania",
          "Iceland",
          "Canada",
          "Indonesia",
          "Norway"
         ],
         "name": "19",
         "showlegend": true,
         "showscale": false,
         "type": "choropleth",
         "z": [
          1,
          1,
          1,
          1,
          1,
          1,
          1,
          1,
          1,
          1,
          1,
          1,
          1,
          1
         ]
        },
        {
         "colorscale": [
          [
           0,
           "#00cc96"
          ],
          [
           1,
           "#00cc96"
          ]
         ],
         "geo": "geo",
         "hovertemplate": "<b>%{hovertext}</b><br><br>Indicators=12<br>Country=%{location}<extra></extra>",
         "hovertext": [
          "Somalia",
          "Libya",
          "Grenada",
          "Antigua and Barbuda"
         ],
         "locationmode": "country names",
         "locations": [
          "Somalia",
          "Libya",
          "Grenada",
          "Antigua and Barbuda"
         ],
         "name": "12",
         "showlegend": true,
         "showscale": false,
         "type": "choropleth",
         "z": [
          1,
          1,
          1,
          1
         ]
        },
        {
         "colorscale": [
          [
           0,
           "#ab63fa"
          ],
          [
           1,
           "#ab63fa"
          ]
         ],
         "geo": "geo",
         "hovertemplate": "<b>%{hovertext}</b><br><br>Indicators=10<br>Country=%{location}<extra></extra>",
         "hovertext": [
          "Kiribati",
          "Liechtenstein",
          "Gambia",
          "Kyrgyzstan"
         ],
         "locationmode": "country names",
         "locations": [
          "Kiribati",
          "Liechtenstein",
          "Gambia",
          "Kyrgyzstan"
         ],
         "name": "10",
         "showlegend": true,
         "showscale": false,
         "type": "choropleth",
         "z": [
          1,
          1,
          1,
          1
         ]
        },
        {
         "colorscale": [
          [
           0,
           "#FFA15A"
          ],
          [
           1,
           "#FFA15A"
          ]
         ],
         "geo": "geo",
         "hovertemplate": "<b>%{hovertext}</b><br><br>Indicators=5<br>Country=%{location}<extra></extra>",
         "hovertext": [
          "Nauru",
          "Cayman Islands"
         ],
         "locationmode": "country names",
         "locations": [
          "Nauru",
          "Cayman Islands"
         ],
         "name": "5",
         "showlegend": true,
         "showscale": false,
         "type": "choropleth",
         "z": [
          1,
          1
         ]
        },
        {
         "colorscale": [
          [
           0,
           "#19d3f3"
          ],
          [
           1,
           "#19d3f3"
          ]
         ],
         "geo": "geo",
         "hovertemplate": "<b>%{hovertext}</b><br><br>Indicators=9<br>Country=%{location}<extra></extra>",
         "hovertext": [
          "Yemen"
         ],
         "locationmode": "country names",
         "locations": [
          "Yemen"
         ],
         "name": "9",
         "showlegend": true,
         "showscale": false,
         "type": "choropleth",
         "z": [
          1
         ]
        },
        {
         "colorscale": [
          [
           0,
           "#FF6692"
          ],
          [
           1,
           "#FF6692"
          ]
         ],
         "geo": "geo",
         "hovertemplate": "<b>%{hovertext}</b><br><br>Indicators=0<br>Country=%{location}<extra></extra>",
         "hovertext": [
          "South Sudan",
          "Sudan"
         ],
         "locationmode": "country names",
         "locations": [
          "South Sudan",
          "Sudan"
         ],
         "name": "0",
         "showlegend": true,
         "showscale": false,
         "type": "choropleth",
         "z": [
          1,
          1
         ]
        },
        {
         "colorscale": [
          [
           0,
           "#B6E880"
          ],
          [
           1,
           "#B6E880"
          ]
         ],
         "geo": "geo",
         "hovertemplate": "<b>%{hovertext}</b><br><br>Indicators=7<br>Country=%{location}<extra></extra>",
         "hovertext": [
          "Bermuda"
         ],
         "locationmode": "country names",
         "locations": [
          "Bermuda"
         ],
         "name": "7",
         "showlegend": true,
         "showscale": false,
         "type": "choropleth",
         "z": [
          1
         ]
        }
       ],
       "layout": {
        "coloraxis": {
         "showscale": true
        },
        "geo": {
         "center": {},
         "domain": {
          "x": [
           0,
           1
          ],
          "y": [
           0,
           1
          ]
         },
         "projection": {
          "type": "mercator"
         }
        },
        "height": 500,
        "legend": {
         "title": {
          "text": "Indicators"
         },
         "tracegroupgap": 0
        },
        "margin": {
         "t": 60
        },
        "template": {
         "data": {
          "bar": [
           {
            "error_x": {
             "color": "#2a3f5f"
            },
            "error_y": {
             "color": "#2a3f5f"
            },
            "marker": {
             "line": {
              "color": "#E5ECF6",
              "width": 0.5
             },
             "pattern": {
              "fillmode": "overlay",
              "size": 10,
              "solidity": 0.2
             }
            },
            "type": "bar"
           }
          ],
          "barpolar": [
           {
            "marker": {
             "line": {
              "color": "#E5ECF6",
              "width": 0.5
             },
             "pattern": {
              "fillmode": "overlay",
              "size": 10,
              "solidity": 0.2
             }
            },
            "type": "barpolar"
           }
          ],
          "carpet": [
           {
            "aaxis": {
             "endlinecolor": "#2a3f5f",
             "gridcolor": "white",
             "linecolor": "white",
             "minorgridcolor": "white",
             "startlinecolor": "#2a3f5f"
            },
            "baxis": {
             "endlinecolor": "#2a3f5f",
             "gridcolor": "white",
             "linecolor": "white",
             "minorgridcolor": "white",
             "startlinecolor": "#2a3f5f"
            },
            "type": "carpet"
           }
          ],
          "choropleth": [
           {
            "colorbar": {
             "outlinewidth": 0,
             "ticks": ""
            },
            "type": "choropleth"
           }
          ],
          "contour": [
           {
            "colorbar": {
             "outlinewidth": 0,
             "ticks": ""
            },
            "colorscale": [
             [
              0,
              "#0d0887"
             ],
             [
              0.1111111111111111,
              "#46039f"
             ],
             [
              0.2222222222222222,
              "#7201a8"
             ],
             [
              0.3333333333333333,
              "#9c179e"
             ],
             [
              0.4444444444444444,
              "#bd3786"
             ],
             [
              0.5555555555555556,
              "#d8576b"
             ],
             [
              0.6666666666666666,
              "#ed7953"
             ],
             [
              0.7777777777777778,
              "#fb9f3a"
             ],
             [
              0.8888888888888888,
              "#fdca26"
             ],
             [
              1,
              "#f0f921"
             ]
            ],
            "type": "contour"
           }
          ],
          "contourcarpet": [
           {
            "colorbar": {
             "outlinewidth": 0,
             "ticks": ""
            },
            "type": "contourcarpet"
           }
          ],
          "heatmap": [
           {
            "colorbar": {
             "outlinewidth": 0,
             "ticks": ""
            },
            "colorscale": [
             [
              0,
              "#0d0887"
             ],
             [
              0.1111111111111111,
              "#46039f"
             ],
             [
              0.2222222222222222,
              "#7201a8"
             ],
             [
              0.3333333333333333,
              "#9c179e"
             ],
             [
              0.4444444444444444,
              "#bd3786"
             ],
             [
              0.5555555555555556,
              "#d8576b"
             ],
             [
              0.6666666666666666,
              "#ed7953"
             ],
             [
              0.7777777777777778,
              "#fb9f3a"
             ],
             [
              0.8888888888888888,
              "#fdca26"
             ],
             [
              1,
              "#f0f921"
             ]
            ],
            "type": "heatmap"
           }
          ],
          "heatmapgl": [
           {
            "colorbar": {
             "outlinewidth": 0,
             "ticks": ""
            },
            "colorscale": [
             [
              0,
              "#0d0887"
             ],
             [
              0.1111111111111111,
              "#46039f"
             ],
             [
              0.2222222222222222,
              "#7201a8"
             ],
             [
              0.3333333333333333,
              "#9c179e"
             ],
             [
              0.4444444444444444,
              "#bd3786"
             ],
             [
              0.5555555555555556,
              "#d8576b"
             ],
             [
              0.6666666666666666,
              "#ed7953"
             ],
             [
              0.7777777777777778,
              "#fb9f3a"
             ],
             [
              0.8888888888888888,
              "#fdca26"
             ],
             [
              1,
              "#f0f921"
             ]
            ],
            "type": "heatmapgl"
           }
          ],
          "histogram": [
           {
            "marker": {
             "pattern": {
              "fillmode": "overlay",
              "size": 10,
              "solidity": 0.2
             }
            },
            "type": "histogram"
           }
          ],
          "histogram2d": [
           {
            "colorbar": {
             "outlinewidth": 0,
             "ticks": ""
            },
            "colorscale": [
             [
              0,
              "#0d0887"
             ],
             [
              0.1111111111111111,
              "#46039f"
             ],
             [
              0.2222222222222222,
              "#7201a8"
             ],
             [
              0.3333333333333333,
              "#9c179e"
             ],
             [
              0.4444444444444444,
              "#bd3786"
             ],
             [
              0.5555555555555556,
              "#d8576b"
             ],
             [
              0.6666666666666666,
              "#ed7953"
             ],
             [
              0.7777777777777778,
              "#fb9f3a"
             ],
             [
              0.8888888888888888,
              "#fdca26"
             ],
             [
              1,
              "#f0f921"
             ]
            ],
            "type": "histogram2d"
           }
          ],
          "histogram2dcontour": [
           {
            "colorbar": {
             "outlinewidth": 0,
             "ticks": ""
            },
            "colorscale": [
             [
              0,
              "#0d0887"
             ],
             [
              0.1111111111111111,
              "#46039f"
             ],
             [
              0.2222222222222222,
              "#7201a8"
             ],
             [
              0.3333333333333333,
              "#9c179e"
             ],
             [
              0.4444444444444444,
              "#bd3786"
             ],
             [
              0.5555555555555556,
              "#d8576b"
             ],
             [
              0.6666666666666666,
              "#ed7953"
             ],
             [
              0.7777777777777778,
              "#fb9f3a"
             ],
             [
              0.8888888888888888,
              "#fdca26"
             ],
             [
              1,
              "#f0f921"
             ]
            ],
            "type": "histogram2dcontour"
           }
          ],
          "mesh3d": [
           {
            "colorbar": {
             "outlinewidth": 0,
             "ticks": ""
            },
            "type": "mesh3d"
           }
          ],
          "parcoords": [
           {
            "line": {
             "colorbar": {
              "outlinewidth": 0,
              "ticks": ""
             }
            },
            "type": "parcoords"
           }
          ],
          "pie": [
           {
            "automargin": true,
            "type": "pie"
           }
          ],
          "scatter": [
           {
            "fillpattern": {
             "fillmode": "overlay",
             "size": 10,
             "solidity": 0.2
            },
            "type": "scatter"
           }
          ],
          "scatter3d": [
           {
            "line": {
             "colorbar": {
              "outlinewidth": 0,
              "ticks": ""
             }
            },
            "marker": {
             "colorbar": {
              "outlinewidth": 0,
              "ticks": ""
             }
            },
            "type": "scatter3d"
           }
          ],
          "scattercarpet": [
           {
            "marker": {
             "colorbar": {
              "outlinewidth": 0,
              "ticks": ""
             }
            },
            "type": "scattercarpet"
           }
          ],
          "scattergeo": [
           {
            "marker": {
             "colorbar": {
              "outlinewidth": 0,
              "ticks": ""
             }
            },
            "type": "scattergeo"
           }
          ],
          "scattergl": [
           {
            "marker": {
             "colorbar": {
              "outlinewidth": 0,
              "ticks": ""
             }
            },
            "type": "scattergl"
           }
          ],
          "scattermapbox": [
           {
            "marker": {
             "colorbar": {
              "outlinewidth": 0,
              "ticks": ""
             }
            },
            "type": "scattermapbox"
           }
          ],
          "scatterpolar": [
           {
            "marker": {
             "colorbar": {
              "outlinewidth": 0,
              "ticks": ""
             }
            },
            "type": "scatterpolar"
           }
          ],
          "scatterpolargl": [
           {
            "marker": {
             "colorbar": {
              "outlinewidth": 0,
              "ticks": ""
             }
            },
            "type": "scatterpolargl"
           }
          ],
          "scatterternary": [
           {
            "marker": {
             "colorbar": {
              "outlinewidth": 0,
              "ticks": ""
             }
            },
            "type": "scatterternary"
           }
          ],
          "surface": [
           {
            "colorbar": {
             "outlinewidth": 0,
             "ticks": ""
            },
            "colorscale": [
             [
              0,
              "#0d0887"
             ],
             [
              0.1111111111111111,
              "#46039f"
             ],
             [
              0.2222222222222222,
              "#7201a8"
             ],
             [
              0.3333333333333333,
              "#9c179e"
             ],
             [
              0.4444444444444444,
              "#bd3786"
             ],
             [
              0.5555555555555556,
              "#d8576b"
             ],
             [
              0.6666666666666666,
              "#ed7953"
             ],
             [
              0.7777777777777778,
              "#fb9f3a"
             ],
             [
              0.8888888888888888,
              "#fdca26"
             ],
             [
              1,
              "#f0f921"
             ]
            ],
            "type": "surface"
           }
          ],
          "table": [
           {
            "cells": {
             "fill": {
              "color": "#EBF0F8"
             },
             "line": {
              "color": "white"
             }
            },
            "header": {
             "fill": {
              "color": "#C8D4E3"
             },
             "line": {
              "color": "white"
             }
            },
            "type": "table"
           }
          ]
         },
         "layout": {
          "annotationdefaults": {
           "arrowcolor": "#2a3f5f",
           "arrowhead": 0,
           "arrowwidth": 1
          },
          "autotypenumbers": "strict",
          "coloraxis": {
           "colorbar": {
            "outlinewidth": 0,
            "ticks": ""
           }
          },
          "colorscale": {
           "diverging": [
            [
             0,
             "#8e0152"
            ],
            [
             0.1,
             "#c51b7d"
            ],
            [
             0.2,
             "#de77ae"
            ],
            [
             0.3,
             "#f1b6da"
            ],
            [
             0.4,
             "#fde0ef"
            ],
            [
             0.5,
             "#f7f7f7"
            ],
            [
             0.6,
             "#e6f5d0"
            ],
            [
             0.7,
             "#b8e186"
            ],
            [
             0.8,
             "#7fbc41"
            ],
            [
             0.9,
             "#4d9221"
            ],
            [
             1,
             "#276419"
            ]
           ],
           "sequential": [
            [
             0,
             "#0d0887"
            ],
            [
             0.1111111111111111,
             "#46039f"
            ],
            [
             0.2222222222222222,
             "#7201a8"
            ],
            [
             0.3333333333333333,
             "#9c179e"
            ],
            [
             0.4444444444444444,
             "#bd3786"
            ],
            [
             0.5555555555555556,
             "#d8576b"
            ],
            [
             0.6666666666666666,
             "#ed7953"
            ],
            [
             0.7777777777777778,
             "#fb9f3a"
            ],
            [
             0.8888888888888888,
             "#fdca26"
            ],
            [
             1,
             "#f0f921"
            ]
           ],
           "sequentialminus": [
            [
             0,
             "#0d0887"
            ],
            [
             0.1111111111111111,
             "#46039f"
            ],
            [
             0.2222222222222222,
             "#7201a8"
            ],
            [
             0.3333333333333333,
             "#9c179e"
            ],
            [
             0.4444444444444444,
             "#bd3786"
            ],
            [
             0.5555555555555556,
             "#d8576b"
            ],
            [
             0.6666666666666666,
             "#ed7953"
            ],
            [
             0.7777777777777778,
             "#fb9f3a"
            ],
            [
             0.8888888888888888,
             "#fdca26"
            ],
            [
             1,
             "#f0f921"
            ]
           ]
          },
          "colorway": [
           "#636efa",
           "#EF553B",
           "#00cc96",
           "#ab63fa",
           "#FFA15A",
           "#19d3f3",
           "#FF6692",
           "#B6E880",
           "#FF97FF",
           "#FECB52"
          ],
          "font": {
           "color": "#2a3f5f"
          },
          "geo": {
           "bgcolor": "white",
           "lakecolor": "white",
           "landcolor": "#E5ECF6",
           "showlakes": true,
           "showland": true,
           "subunitcolor": "white"
          },
          "hoverlabel": {
           "align": "left"
          },
          "hovermode": "closest",
          "mapbox": {
           "style": "light"
          },
          "paper_bgcolor": "white",
          "plot_bgcolor": "#E5ECF6",
          "polar": {
           "angularaxis": {
            "gridcolor": "white",
            "linecolor": "white",
            "ticks": ""
           },
           "bgcolor": "#E5ECF6",
           "radialaxis": {
            "gridcolor": "white",
            "linecolor": "white",
            "ticks": ""
           }
          },
          "scene": {
           "xaxis": {
            "backgroundcolor": "#E5ECF6",
            "gridcolor": "white",
            "gridwidth": 2,
            "linecolor": "white",
            "showbackground": true,
            "ticks": "",
            "zerolinecolor": "white"
           },
           "yaxis": {
            "backgroundcolor": "#E5ECF6",
            "gridcolor": "white",
            "gridwidth": 2,
            "linecolor": "white",
            "showbackground": true,
            "ticks": "",
            "zerolinecolor": "white"
           },
           "zaxis": {
            "backgroundcolor": "#E5ECF6",
            "gridcolor": "white",
            "gridwidth": 2,
            "linecolor": "white",
            "showbackground": true,
            "ticks": "",
            "zerolinecolor": "white"
           }
          },
          "shapedefaults": {
           "line": {
            "color": "#2a3f5f"
           }
          },
          "ternary": {
           "aaxis": {
            "gridcolor": "white",
            "linecolor": "white",
            "ticks": ""
           },
           "baxis": {
            "gridcolor": "white",
            "linecolor": "white",
            "ticks": ""
           },
           "bgcolor": "#E5ECF6",
           "caxis": {
            "gridcolor": "white",
            "linecolor": "white",
            "ticks": ""
           }
          },
          "title": {
           "x": 0.05
          },
          "xaxis": {
           "automargin": true,
           "gridcolor": "white",
           "linecolor": "white",
           "ticks": "",
           "title": {
            "standoff": 15
           },
           "zerolinecolor": "white",
           "zerolinewidth": 2
          },
          "yaxis": {
           "automargin": true,
           "gridcolor": "white",
           "linecolor": "white",
           "ticks": "",
           "title": {
            "standoff": 15
           },
           "zerolinecolor": "white",
           "zerolinewidth": 2
          }
         }
        },
        "width": 700
       }
      }
     },
     "metadata": {},
     "output_type": "display_data"
    },
    {
     "data": {
      "text/plain": [
       "' \\nfig = px.choropleth(grp, locations=\"Country\", locationmode=\\'country names\\', \\n                     color=\"Confirmed\", hover_name=\"Country/Region\",hover_data = [grp.Recovered,grp.Deaths],projection=\"mercator\",\\n                     color_continuous_scale=\\'Reds\\',\\n                 width=700, height=500)\\nfig.update(layout_coloraxis_showscale=True) '"
      ]
     },
     "execution_count": 6,
     "metadata": {},
     "output_type": "execute_result"
    }
   ],
   "source": [
    "#What countries would be deleted?\n",
    "df_count = pd.DataFrame()\n",
    "print(df_count)\n",
    "for country in corr_df.index:\n",
    "    count = corr_df.loc[country].count()\n",
    "    country_series = pd.Series({'Country': country, 'Indicators': count})\n",
    "    df_count = pd.concat([df_count, country_series], axis = 1, ignore_index = True)\n",
    "    #df_count = df_count.append({'Country': country, 'Indicators': count}, ignore_index = True)\n",
    "\n",
    "df_count = df_count.transpose()\n",
    "print(df_count)\n",
    "\n",
    "print(list(df_count['Country']))\n",
    "\n",
    "import plotly.express as px\n",
    "\n",
    "fig = px.choropleth(df_count, locations=\"Country\", locationmode='country names', \n",
    "                     color=\"Indicators\", hover_name=\"Country\",projection=\"mercator\",\n",
    "                     color_continuous_scale='Reds',\n",
    "                 width=700, height=500)\n",
    "fig.update(layout_coloraxis_showscale=True)\n",
    "\n",
    "fig.show()\n",
    "\n",
    "#grp = cases.groupby(['Country/Region'])[['Confirmed', 'Deaths', 'Recovered']].max()\n",
    "#grp = grp.reset_index()\n",
    "#grp['Country'] = grp['Country/Region']\n",
    "\"\"\" \n",
    "fig = px.choropleth(grp, locations=\"Country\", locationmode='country names', \n",
    "                     color=\"Confirmed\", hover_name=\"Country/Region\",hover_data = [grp.Recovered,grp.Deaths],projection=\"mercator\",\n",
    "                     color_continuous_scale='Reds',\n",
    "                 width=700, height=500)\n",
    "fig.update(layout_coloraxis_showscale=True) \"\"\""
   ]
  },
  {
   "cell_type": "code",
   "execution_count": 7,
   "metadata": {},
   "outputs": [
    {
     "data": {
      "text/plain": [
       "\" #corr_dict = {}\\n\\ncor=country_dict['Spain'].corr()['GDP'].to_list()\\nprint(cor)\\n#Correlations and all \""
      ]
     },
     "execution_count": 7,
     "metadata": {},
     "output_type": "execute_result"
    }
   ],
   "source": [
    "\"\"\" #corr_dict = {}\n",
    "\n",
    "cor=country_dict['Spain'].corr()['GDP'].to_list()\n",
    "print(cor)\n",
    "#Correlations and all \"\"\"\n",
    "\n"
   ]
  },
  {
   "cell_type": "code",
   "execution_count": 8,
   "metadata": {},
   "outputs": [],
   "source": [
    "import numpy as np\n",
    "import pandas as pd\n",
    "import matplotlib.pyplot as plt\n",
    "from matplotlib import gridspec\n",
    "from sklearn.cluster import OPTICS, cluster_optics_dbscan\n",
    "from sklearn.preprocessing import normalize, StandardScaler"
   ]
  },
  {
   "cell_type": "code",
   "execution_count": 9,
   "metadata": {},
   "outputs": [
    {
     "data": {
      "text/plain": [
       "\" print(corr_df)\\ncountry_col = corr_df['Country']\\ncorr_df = df.iloc[:, :-1] \""
      ]
     },
     "execution_count": 9,
     "metadata": {},
     "output_type": "execute_result"
    }
   ],
   "source": [
    "\"\"\" print(corr_df)\n",
    "country_col = corr_df['Country']\n",
    "corr_df = df.iloc[:, :-1] \"\"\""
   ]
  },
  {
   "cell_type": "code",
   "execution_count": 10,
   "metadata": {},
   "outputs": [
    {
     "name": "stdout",
     "output_type": "stream",
     "text": [
      "Index(['Kenya', 'Malawi', 'Algeria', 'New Zealand', 'Gabon', 'Eritrea',\n",
      "       'Uruguay', 'Chad', 'Serbia', 'Marshall Islands',\n",
      "       ...\n",
      "       'Greece', 'Haiti', 'United Kingdom', 'Mozambique', 'Norway', 'Finland',\n",
      "       'India', 'Madagascar', 'Bermuda', 'Jamaica'],\n",
      "      dtype='object', length=179)\n",
      "     AgriShareGDP  CreditToAgriFishForest  EmploymentRural  TotalAgri  \\\n",
      "0        0.578601               -0.262882        -0.004901   0.124575   \n",
      "1       -0.155958                0.292362        -0.005794   0.140891   \n",
      "2        0.253359                0.240374        -0.004764   0.058999   \n",
      "3        0.087549                0.115241        -0.008817   0.100023   \n",
      "4       -0.126687                0.105988        -0.008109   0.091993   \n",
      "..            ...                     ...              ...        ...   \n",
      "174     -0.098240               -0.344217        -0.208689   0.074979   \n",
      "175     -0.081823                0.299232        -0.158981   0.131765   \n",
      "176     -0.172173                0.344951        -0.183271  -0.225447   \n",
      "177     -0.139764                0.283961        -0.150867  -0.185586   \n",
      "178      0.303336               -0.095991        -0.123311  -0.426740   \n",
      "\n",
      "     % Soldiers  Birth Rate  Death Rate  Homicides  Life Expectancy  \\\n",
      "0     -0.178251   -0.152861   -0.175069   0.152277         0.092773   \n",
      "1      0.426648   -0.157305   -0.203884   0.180017         0.085530   \n",
      "2     -0.111766    0.494861   -0.091376   0.148006         0.015385   \n",
      "3     -0.297044   -0.111896   -0.053924  -0.267895         0.215140   \n",
      "4     -0.225846    0.184491   -0.249372  -0.246387        -0.068225   \n",
      "..          ...         ...         ...        ...              ...   \n",
      "174   -0.169786    0.108732    0.211899  -0.124184        -0.041737   \n",
      "175    0.351872   -0.162416   -0.187633  -0.214179         0.132938   \n",
      "176   -0.184548   -0.178139   -0.227615  -0.246903         0.119325   \n",
      "177   -0.151918   -0.093211    0.192403   0.454422         0.027556   \n",
      "178    0.302741   -0.113326    0.266108   0.152767        -0.446617   \n",
      "\n",
      "     Maternal Death Risk  ...  % Population Growth  % Rural Population  \\\n",
      "0              -0.090864  ...            -0.276788           -0.115349   \n",
      "1              -0.084551  ...             0.139020           -0.122720   \n",
      "2               0.446122  ...             0.289750           -0.053401   \n",
      "3              -0.138996  ...             0.251011           -0.002786   \n",
      "4              -0.077329  ...             0.379489           -0.127153   \n",
      "..                   ...  ...                  ...                 ...   \n",
      "174             0.076729  ...             0.174366           -0.051152   \n",
      "175            -0.111806  ...            -0.318221           -0.124052   \n",
      "176            -0.136043  ...            -0.358942           -0.123798   \n",
      "177            -0.111989  ...            -0.196387           -0.101910   \n",
      "178            -0.082486  ...            -0.182345           -0.065744   \n",
      "\n",
      "     Civil Liberties  Freedom of Expression  % Healthcare Investment  \\\n",
      "0           0.276173               0.137889                 0.163548   \n",
      "1           0.326257               0.311179                 0.139040   \n",
      "2           0.253911              -0.047444                 0.142655   \n",
      "3          -0.281836              -0.435158                 0.399855   \n",
      "4           0.360598               0.445214                 0.171683   \n",
      "..               ...                    ...                      ...   \n",
      "174        -0.210925              -0.082213                 0.332507   \n",
      "175         0.175563              -0.279149                 0.173660   \n",
      "176        -0.148312              -0.101458                -0.072422   \n",
      "177        -0.122089              -0.083519                -0.059617   \n",
      "178         0.173945               0.236172                 0.109917   \n",
      "\n",
      "     % Employment Industry  % Education Expenditure  % Men Employment  \\\n",
      "0                 0.252371                -0.309515          0.012681   \n",
      "1                 0.271657                -0.365899          0.014991   \n",
      "2                 0.237837                -0.300835          0.012325   \n",
      "3                -0.351260                 0.022759          0.136790   \n",
      "4                 0.418519                 0.020932          0.125808   \n",
      "..                     ...                      ...               ...   \n",
      "174              -0.300685                -0.307503         -0.254213   \n",
      "175               0.269227                -0.234257         -0.193660   \n",
      "176               0.241506                 0.191281         -0.223249   \n",
      "177               0.198806                 0.157461         -0.183777   \n",
      "178              -0.155137                 0.122948         -0.150210   \n",
      "\n",
      "     % Women Employment  Population  \n",
      "0             -0.261919    0.108791  \n",
      "1             -0.309632    0.114189  \n",
      "2             -0.254573    0.012814  \n",
      "3              0.191604    0.189510  \n",
      "4              0.176221    0.066067  \n",
      "..                  ...         ...  \n",
      "174           -0.516852    0.049685  \n",
      "175           -0.393741    0.116472  \n",
      "176           -0.453900    0.115208  \n",
      "177           -0.373647   -0.485022  \n",
      "178           -0.305399    0.068374  \n",
      "\n",
      "[179 rows x 21 columns]\n"
     ]
    }
   ],
   "source": [
    "#print(corr_df)\n",
    "country_col = corr_df.index\n",
    "print(country_col)\n",
    "scaler = StandardScaler()\n",
    "corr_df = corr_df.fillna(method ='ffill')\n",
    "corr_df = corr_df.fillna(value = 0)\n",
    "#print(corr_df)\n",
    "df_scaled = scaler.fit_transform(corr_df)\n",
    "#print(df_scaled)\n",
    "df_normalized = normalize(df_scaled)\n",
    "df_normalized = pd.DataFrame(df_normalized)\n",
    "df_normalized.index.names = corr_df.index.names\n",
    "df_normalized.columns = corr_df.columns\n",
    "#df_normalized.head()\n",
    "#print(df_scaled)\n",
    "print(df_normalized)"
   ]
  },
  {
   "cell_type": "code",
   "execution_count": 11,
   "metadata": {},
   "outputs": [
    {
     "name": "stderr",
     "output_type": "stream",
     "text": [
      "c:\\Users\\vperezlo\\Documents\\GitHub\\python-data-driven-decisions\\.venv\\lib\\site-packages\\sklearn\\manifold\\_t_sne.py:991: FutureWarning:\n",
      "\n",
      "The PCA initialization in TSNE will change to have the standard deviation of PC1 equal to 1e-4 in 1.2. This will ensure better convergence.\n",
      "\n"
     ]
    },
    {
     "name": "stdout",
     "output_type": "stream",
     "text": [
      "            1st_component 2nd_component\n",
      "Country                                \n",
      "Kenya          -18.593132    -36.445362\n",
      "Malawi         -25.199448     27.364145\n",
      "Algeria          6.426108     46.571262\n",
      "New Zealand    -53.266571    -43.372227\n",
      "Gabon           -4.609756    -18.361216\n",
      "...                   ...           ...\n",
      "Finland         32.876804     28.767248\n",
      "India           -1.491972       4.96068\n",
      "Madagascar          7.267      9.102077\n",
      "Bermuda           13.3921     13.765543\n",
      "Jamaica         28.878912     44.049416\n",
      "\n",
      "[179 rows x 2 columns]\n"
     ]
    }
   ],
   "source": [
    "from sklearn.manifold import TSNE\n",
    "import seaborn as sns\n",
    "tsne = TSNE(n_components = 2, perplexity = 3, n_iter = 1000, learning_rate = 200.0, init = 'pca')\n",
    "tsne_result = tsne.fit_transform(df_normalized)\n",
    "new_df_tsne = pd.DataFrame(np.hstack((np.array(country_col).reshape(-1, 1), tsne_result)), columns = ['Country', '1st_component', '2nd_component'])\n",
    "new_df_tsne.set_index('Country', inplace = True)\n",
    "\n",
    "print(new_df_tsne)\n",
    "\n"
   ]
  },
  {
   "cell_type": "code",
   "execution_count": 12,
   "metadata": {},
   "outputs": [
    {
     "data": {
      "text/html": [
       "<div>\n",
       "<style scoped>\n",
       "    .dataframe tbody tr th:only-of-type {\n",
       "        vertical-align: middle;\n",
       "    }\n",
       "\n",
       "    .dataframe tbody tr th {\n",
       "        vertical-align: top;\n",
       "    }\n",
       "\n",
       "    .dataframe thead th {\n",
       "        text-align: right;\n",
       "    }\n",
       "</style>\n",
       "<table border=\"1\" class=\"dataframe\">\n",
       "  <thead>\n",
       "    <tr style=\"text-align: right;\">\n",
       "      <th></th>\n",
       "      <th>1st_component</th>\n",
       "      <th>2nd_component</th>\n",
       "    </tr>\n",
       "    <tr>\n",
       "      <th>Country</th>\n",
       "      <th></th>\n",
       "      <th></th>\n",
       "    </tr>\n",
       "  </thead>\n",
       "  <tbody>\n",
       "    <tr>\n",
       "      <th>Kenya</th>\n",
       "      <td>-18.593132</td>\n",
       "      <td>-36.445362</td>\n",
       "    </tr>\n",
       "    <tr>\n",
       "      <th>Malawi</th>\n",
       "      <td>-25.199448</td>\n",
       "      <td>27.364145</td>\n",
       "    </tr>\n",
       "    <tr>\n",
       "      <th>Algeria</th>\n",
       "      <td>6.426108</td>\n",
       "      <td>46.571262</td>\n",
       "    </tr>\n",
       "    <tr>\n",
       "      <th>New Zealand</th>\n",
       "      <td>-53.266571</td>\n",
       "      <td>-43.372227</td>\n",
       "    </tr>\n",
       "    <tr>\n",
       "      <th>Gabon</th>\n",
       "      <td>-4.609756</td>\n",
       "      <td>-18.361216</td>\n",
       "    </tr>\n",
       "    <tr>\n",
       "      <th>...</th>\n",
       "      <td>...</td>\n",
       "      <td>...</td>\n",
       "    </tr>\n",
       "    <tr>\n",
       "      <th>Finland</th>\n",
       "      <td>32.876804</td>\n",
       "      <td>28.767248</td>\n",
       "    </tr>\n",
       "    <tr>\n",
       "      <th>India</th>\n",
       "      <td>-1.491972</td>\n",
       "      <td>4.96068</td>\n",
       "    </tr>\n",
       "    <tr>\n",
       "      <th>Madagascar</th>\n",
       "      <td>7.267</td>\n",
       "      <td>9.102077</td>\n",
       "    </tr>\n",
       "    <tr>\n",
       "      <th>Bermuda</th>\n",
       "      <td>13.3921</td>\n",
       "      <td>13.765543</td>\n",
       "    </tr>\n",
       "    <tr>\n",
       "      <th>Jamaica</th>\n",
       "      <td>28.878912</td>\n",
       "      <td>44.049416</td>\n",
       "    </tr>\n",
       "  </tbody>\n",
       "</table>\n",
       "<p>179 rows × 2 columns</p>\n",
       "</div>"
      ],
      "text/plain": [
       "            1st_component 2nd_component\n",
       "Country                                \n",
       "Kenya          -18.593132    -36.445362\n",
       "Malawi         -25.199448     27.364145\n",
       "Algeria          6.426108     46.571262\n",
       "New Zealand    -53.266571    -43.372227\n",
       "Gabon           -4.609756    -18.361216\n",
       "...                   ...           ...\n",
       "Finland         32.876804     28.767248\n",
       "India           -1.491972       4.96068\n",
       "Madagascar          7.267      9.102077\n",
       "Bermuda           13.3921     13.765543\n",
       "Jamaica         28.878912     44.049416\n",
       "\n",
       "[179 rows x 2 columns]"
      ]
     },
     "metadata": {},
     "output_type": "display_data"
    },
    {
     "name": "stdout",
     "output_type": "stream",
     "text": [
      "Country\n",
      "Afghanistan    38928341.0\n",
      "Albania         2877800.0\n",
      "Algeria        43851043.0\n",
      "Andorra           77265.0\n",
      "Angola         32866267.0\n",
      "                  ...    \n",
      "Uzbekistan     33469199.0\n",
      "Vanuatu          307150.0\n",
      "Yemen          29825968.0\n",
      "Zambia         18383956.0\n",
      "Zimbabwe       14862927.0\n",
      "Name: Population, Length: 179, dtype: float64\n"
     ]
    },
    {
     "data": {
      "text/html": [
       "<div>\n",
       "<style scoped>\n",
       "    .dataframe tbody tr th:only-of-type {\n",
       "        vertical-align: middle;\n",
       "    }\n",
       "\n",
       "    .dataframe tbody tr th {\n",
       "        vertical-align: top;\n",
       "    }\n",
       "\n",
       "    .dataframe thead th {\n",
       "        text-align: right;\n",
       "    }\n",
       "</style>\n",
       "<table border=\"1\" class=\"dataframe\">\n",
       "  <thead>\n",
       "    <tr style=\"text-align: right;\">\n",
       "      <th></th>\n",
       "      <th></th>\n",
       "      <th>1st_component</th>\n",
       "      <th>2nd_component</th>\n",
       "      <th>Population</th>\n",
       "    </tr>\n",
       "    <tr>\n",
       "      <th>Country</th>\n",
       "      <th>Region</th>\n",
       "      <th></th>\n",
       "      <th></th>\n",
       "      <th></th>\n",
       "    </tr>\n",
       "  </thead>\n",
       "  <tbody>\n",
       "    <tr>\n",
       "      <th>Afghanistan</th>\n",
       "      <th>South Asia</th>\n",
       "      <td>19.680162</td>\n",
       "      <td>-8.397316</td>\n",
       "      <td>38928341.0</td>\n",
       "    </tr>\n",
       "    <tr>\n",
       "      <th>Albania</th>\n",
       "      <th>Europe and Central Asia</th>\n",
       "      <td>19.956909</td>\n",
       "      <td>-61.330254</td>\n",
       "      <td>2877800.0</td>\n",
       "    </tr>\n",
       "    <tr>\n",
       "      <th>Algeria</th>\n",
       "      <th>Middle East and North Africa</th>\n",
       "      <td>6.426108</td>\n",
       "      <td>46.571262</td>\n",
       "      <td>43851043.0</td>\n",
       "    </tr>\n",
       "    <tr>\n",
       "      <th>Andorra</th>\n",
       "      <th>Europe and Central Asia</th>\n",
       "      <td>5.759078</td>\n",
       "      <td>-47.756416</td>\n",
       "      <td>77265.0</td>\n",
       "    </tr>\n",
       "    <tr>\n",
       "      <th>Angola</th>\n",
       "      <th>Sub-Saharan Africa</th>\n",
       "      <td>-36.89315</td>\n",
       "      <td>-0.449141</td>\n",
       "      <td>32866267.0</td>\n",
       "    </tr>\n",
       "    <tr>\n",
       "      <th>...</th>\n",
       "      <th>...</th>\n",
       "      <td>...</td>\n",
       "      <td>...</td>\n",
       "      <td>...</td>\n",
       "    </tr>\n",
       "    <tr>\n",
       "      <th>Uzbekistan</th>\n",
       "      <th>Europe and Central Asia</th>\n",
       "      <td>-5.201609</td>\n",
       "      <td>-16.963957</td>\n",
       "      <td>33469199.0</td>\n",
       "    </tr>\n",
       "    <tr>\n",
       "      <th>Vanuatu</th>\n",
       "      <th>East Asia and Pacific</th>\n",
       "      <td>-38.698132</td>\n",
       "      <td>16.69499</td>\n",
       "      <td>307150.0</td>\n",
       "    </tr>\n",
       "    <tr>\n",
       "      <th>Yemen</th>\n",
       "      <th>Middle East and North Africa</th>\n",
       "      <td>-42.891441</td>\n",
       "      <td>-15.450199</td>\n",
       "      <td>29825968.0</td>\n",
       "    </tr>\n",
       "    <tr>\n",
       "      <th>Zambia</th>\n",
       "      <th>Sub-Saharan Africa</th>\n",
       "      <td>9.181467</td>\n",
       "      <td>-26.851673</td>\n",
       "      <td>18383956.0</td>\n",
       "    </tr>\n",
       "    <tr>\n",
       "      <th>Zimbabwe</th>\n",
       "      <th>Sub-Saharan Africa</th>\n",
       "      <td>52.726929</td>\n",
       "      <td>-16.511148</td>\n",
       "      <td>14862927.0</td>\n",
       "    </tr>\n",
       "  </tbody>\n",
       "</table>\n",
       "<p>179 rows × 3 columns</p>\n",
       "</div>"
      ],
      "text/plain": [
       "                                         1st_component 2nd_component  \\\n",
       "Country     Region                                                     \n",
       "Afghanistan South Asia                       19.680162     -8.397316   \n",
       "Albania     Europe and Central Asia          19.956909    -61.330254   \n",
       "Algeria     Middle East and North Africa      6.426108     46.571262   \n",
       "Andorra     Europe and Central Asia           5.759078    -47.756416   \n",
       "Angola      Sub-Saharan Africa               -36.89315     -0.449141   \n",
       "...                                                ...           ...   \n",
       "Uzbekistan  Europe and Central Asia          -5.201609    -16.963957   \n",
       "Vanuatu     East Asia and Pacific           -38.698132      16.69499   \n",
       "Yemen       Middle East and North Africa    -42.891441    -15.450199   \n",
       "Zambia      Sub-Saharan Africa                9.181467    -26.851673   \n",
       "Zimbabwe    Sub-Saharan Africa               52.726929    -16.511148   \n",
       "\n",
       "                                          Population  \n",
       "Country     Region                                    \n",
       "Afghanistan South Asia                    38928341.0  \n",
       "Albania     Europe and Central Asia        2877800.0  \n",
       "Algeria     Middle East and North Africa  43851043.0  \n",
       "Andorra     Europe and Central Asia          77265.0  \n",
       "Angola      Sub-Saharan Africa            32866267.0  \n",
       "...                                              ...  \n",
       "Uzbekistan  Europe and Central Asia       33469199.0  \n",
       "Vanuatu     East Asia and Pacific           307150.0  \n",
       "Yemen       Middle East and North Africa  29825968.0  \n",
       "Zambia      Sub-Saharan Africa            18383956.0  \n",
       "Zimbabwe    Sub-Saharan Africa            14862927.0  \n",
       "\n",
       "[179 rows x 3 columns]"
      ]
     },
     "execution_count": 12,
     "metadata": {},
     "output_type": "execute_result"
    }
   ],
   "source": [
    "read_path = os.getcwd()\n",
    "region_url = read_path + '/Databases/AuxiliarData/world-regions.csv'\n",
    "\n",
    "column_region = 'Region'\n",
    "column_country = 'Country'\n",
    "\n",
    "region_df = pd.read_csv(region_url)\n",
    "region_df.drop(columns=['Code', 'Year'], inplace = True)\n",
    "region_df.rename(columns = {'World Region according to the World Bank': column_region, 'Entity': column_country}, inplace = True)\n",
    "region_df.set_index(['Country', 'Region'], inplace = True)\n",
    "\n",
    "display(new_df_tsne)\n",
    "\n",
    "print(df.loc[df['Year'] == 2020].set_index('Country')['Population'])\n",
    "\n",
    "new_df_tsne = pd.concat([new_df_tsne, df.loc[df['Year'] == 2020].set_index('Country')['Population']], axis = 1)\n",
    "new_df_tsne = pd.merge(new_df_tsne, region_df, how = 'inner', left_index = True, right_index = True)\n",
    "\n",
    "new_df_tsne"
   ]
  },
  {
   "cell_type": "code",
   "execution_count": 13,
   "metadata": {},
   "outputs": [
    {
     "data": {
      "image/png": "[encoded data removed]",
      "text/plain": [
       "<Figure size 432x288 with 1 Axes>"
      ]
     },
     "metadata": {
      "needs_background": "light"
     },
     "output_type": "display_data"
    }
   ],
   "source": [
    "sns.set(rc={'figure.figsize':(7.5, 7.5)})\n",
    "\n",
    "sns.scatterplot(data = new_df_tsne, x = '1st_component', y = '2nd_component', markers = 'Region', hue = 'Region', size = 'Population', sizes = (50, 400))\n",
    "\n",
    "plt.legend(bbox_to_anchor=(1, 1), labelspacing = 1, loc=2)\n",
    "plt.title('Correlation Scatterplot')\n",
    "plt.show()"
   ]
  },
  {
   "cell_type": "code",
   "execution_count": 62,
   "metadata": {},
   "outputs": [],
   "source": [
    "def group(row):\n",
    "    list_c = ['Spain', 'China', 'Netherlands']\n",
    "\n",
    "    if row.name in list_c:\n",
    "        return 'Nope'\n",
    "    else:\n",
    "        return 'Yes'"
   ]
  },
  {
   "cell_type": "code",
   "execution_count": 64,
   "metadata": {},
   "outputs": [
    {
     "data": {
      "text/html": [
       "<div>\n",
       "<style scoped>\n",
       "    .dataframe tbody tr th:only-of-type {\n",
       "        vertical-align: middle;\n",
       "    }\n",
       "\n",
       "    .dataframe tbody tr th {\n",
       "        vertical-align: top;\n",
       "    }\n",
       "\n",
       "    .dataframe thead th {\n",
       "        text-align: right;\n",
       "    }\n",
       "</style>\n",
       "<table border=\"1\" class=\"dataframe\">\n",
       "  <thead>\n",
       "    <tr style=\"text-align: right;\">\n",
       "      <th></th>\n",
       "      <th></th>\n",
       "      <th>1st_component</th>\n",
       "      <th>2nd_component</th>\n",
       "      <th>Population</th>\n",
       "      <th>In list?</th>\n",
       "    </tr>\n",
       "    <tr>\n",
       "      <th>Country</th>\n",
       "      <th>Region</th>\n",
       "      <th></th>\n",
       "      <th></th>\n",
       "      <th></th>\n",
       "      <th></th>\n",
       "    </tr>\n",
       "  </thead>\n",
       "  <tbody>\n",
       "    <tr>\n",
       "      <th>Afghanistan</th>\n",
       "      <th>South Asia</th>\n",
       "      <td>19.680162</td>\n",
       "      <td>-8.397316</td>\n",
       "      <td>38928341.0</td>\n",
       "      <td>&lt;NA&gt;</td>\n",
       "    </tr>\n",
       "    <tr>\n",
       "      <th>Albania</th>\n",
       "      <th>Europe and Central Asia</th>\n",
       "      <td>19.956909</td>\n",
       "      <td>-61.330254</td>\n",
       "      <td>2877800.0</td>\n",
       "      <td>&lt;NA&gt;</td>\n",
       "    </tr>\n",
       "    <tr>\n",
       "      <th>Algeria</th>\n",
       "      <th>Middle East and North Africa</th>\n",
       "      <td>6.426108</td>\n",
       "      <td>46.571262</td>\n",
       "      <td>43851043.0</td>\n",
       "      <td>&lt;NA&gt;</td>\n",
       "    </tr>\n",
       "    <tr>\n",
       "      <th>Andorra</th>\n",
       "      <th>Europe and Central Asia</th>\n",
       "      <td>5.759078</td>\n",
       "      <td>-47.756416</td>\n",
       "      <td>77265.0</td>\n",
       "      <td>&lt;NA&gt;</td>\n",
       "    </tr>\n",
       "    <tr>\n",
       "      <th>Angola</th>\n",
       "      <th>Sub-Saharan Africa</th>\n",
       "      <td>-36.89315</td>\n",
       "      <td>-0.449141</td>\n",
       "      <td>32866267.0</td>\n",
       "      <td>&lt;NA&gt;</td>\n",
       "    </tr>\n",
       "    <tr>\n",
       "      <th>...</th>\n",
       "      <th>...</th>\n",
       "      <td>...</td>\n",
       "      <td>...</td>\n",
       "      <td>...</td>\n",
       "      <td>...</td>\n",
       "    </tr>\n",
       "    <tr>\n",
       "      <th>Uzbekistan</th>\n",
       "      <th>Europe and Central Asia</th>\n",
       "      <td>-5.201609</td>\n",
       "      <td>-16.963957</td>\n",
       "      <td>33469199.0</td>\n",
       "      <td>&lt;NA&gt;</td>\n",
       "    </tr>\n",
       "    <tr>\n",
       "      <th>Vanuatu</th>\n",
       "      <th>East Asia and Pacific</th>\n",
       "      <td>-38.698132</td>\n",
       "      <td>16.69499</td>\n",
       "      <td>307150.0</td>\n",
       "      <td>&lt;NA&gt;</td>\n",
       "    </tr>\n",
       "    <tr>\n",
       "      <th>Yemen</th>\n",
       "      <th>Middle East and North Africa</th>\n",
       "      <td>-42.891441</td>\n",
       "      <td>-15.450199</td>\n",
       "      <td>29825968.0</td>\n",
       "      <td>&lt;NA&gt;</td>\n",
       "    </tr>\n",
       "    <tr>\n",
       "      <th>Zambia</th>\n",
       "      <th>Sub-Saharan Africa</th>\n",
       "      <td>9.181467</td>\n",
       "      <td>-26.851673</td>\n",
       "      <td>18383956.0</td>\n",
       "      <td>&lt;NA&gt;</td>\n",
       "    </tr>\n",
       "    <tr>\n",
       "      <th>Zimbabwe</th>\n",
       "      <th>Sub-Saharan Africa</th>\n",
       "      <td>52.726929</td>\n",
       "      <td>-16.511148</td>\n",
       "      <td>14862927.0</td>\n",
       "      <td>&lt;NA&gt;</td>\n",
       "    </tr>\n",
       "  </tbody>\n",
       "</table>\n",
       "<p>179 rows × 4 columns</p>\n",
       "</div>"
      ],
      "text/plain": [
       "                                         1st_component 2nd_component  \\\n",
       "Country     Region                                                     \n",
       "Afghanistan South Asia                       19.680162     -8.397316   \n",
       "Albania     Europe and Central Asia          19.956909    -61.330254   \n",
       "Algeria     Middle East and North Africa      6.426108     46.571262   \n",
       "Andorra     Europe and Central Asia           5.759078    -47.756416   \n",
       "Angola      Sub-Saharan Africa               -36.89315     -0.449141   \n",
       "...                                                ...           ...   \n",
       "Uzbekistan  Europe and Central Asia          -5.201609    -16.963957   \n",
       "Vanuatu     East Asia and Pacific           -38.698132      16.69499   \n",
       "Yemen       Middle East and North Africa    -42.891441    -15.450199   \n",
       "Zambia      Sub-Saharan Africa                9.181467    -26.851673   \n",
       "Zimbabwe    Sub-Saharan Africa               52.726929    -16.511148   \n",
       "\n",
       "                                          Population In list?  \n",
       "Country     Region                                             \n",
       "Afghanistan South Asia                    38928341.0     <NA>  \n",
       "Albania     Europe and Central Asia        2877800.0     <NA>  \n",
       "Algeria     Middle East and North Africa  43851043.0     <NA>  \n",
       "Andorra     Europe and Central Asia          77265.0     <NA>  \n",
       "Angola      Sub-Saharan Africa            32866267.0     <NA>  \n",
       "...                                              ...      ...  \n",
       "Uzbekistan  Europe and Central Asia       33469199.0     <NA>  \n",
       "Vanuatu     East Asia and Pacific           307150.0     <NA>  \n",
       "Yemen       Middle East and North Africa  29825968.0     <NA>  \n",
       "Zambia      Sub-Saharan Africa            18383956.0     <NA>  \n",
       "Zimbabwe    Sub-Saharan Africa            14862927.0     <NA>  \n",
       "\n",
       "[179 rows x 4 columns]"
      ]
     },
     "execution_count": 64,
     "metadata": {},
     "output_type": "execute_result"
    }
   ],
   "source": [
    "test_df = new_df_tsne.copy()\n",
    "#print(test_df.apply(lambda row: group(row), axis=1))\n",
    "test_df['In list?'] = df.apply(lambda row: group(row), axis=1).convert_dtypes()\n",
    "\n",
    "test_df"
   ]
  },
  {
   "cell_type": "code",
   "execution_count": 31,
   "metadata": {},
   "outputs": [
    {
     "name": "stdout",
     "output_type": "stream",
     "text": [
      "0      Nope\n",
      "1      Nope\n",
      "2       Yes\n",
      "3      Nope\n",
      "4      Nope\n",
      "       ... \n",
      "174    Nope\n",
      "175    Nope\n",
      "176    Nope\n",
      "177    Nope\n",
      "178    Nope\n",
      "Length: 179, dtype: string\n"
     ]
    },
    {
     "ename": "NotImplementedError",
     "evalue": "Can only union MultiIndex with MultiIndex or Index of tuples, try mi.to_flat_index().union(other) instead.",
     "output_type": "error",
     "traceback": [
      "\u001b[1;31m---------------------------------------------------------------------------\u001b[0m",
      "\u001b[1;31mNotImplementedError\u001b[0m                       Traceback (most recent call last)",
      "\u001b[1;32mc:\\Users\\vperezlo\\Documents\\GitHub\\python-data-driven-decisions\\Notebook_Clustering.ipynb Cell 17\u001b[0m in \u001b[0;36m<cell line: 17>\u001b[1;34m()\u001b[0m\n\u001b[0;32m     <a href='vscode-notebook-cell:/c%3A/Users/vperezlo/Documents/GitHub/python-data-driven-decisions/Notebook_Clustering.ipynb#ch0000016?line=12'>13</a>\u001b[0m \u001b[39mprint\u001b[39m(pd\u001b[39m.\u001b[39mSeries(np\u001b[39m.\u001b[39mselect(conditions, outputs, \u001b[39m'\u001b[39m\u001b[39mNope\u001b[39m\u001b[39m'\u001b[39m), dtype \u001b[39m=\u001b[39m \u001b[39mstr\u001b[39m)\u001b[39m.\u001b[39mconvert_dtypes())\n\u001b[0;32m     <a href='vscode-notebook-cell:/c%3A/Users/vperezlo/Documents/GitHub/python-data-driven-decisions/Notebook_Clustering.ipynb#ch0000016?line=14'>15</a>\u001b[0m test_df[\u001b[39m'\u001b[39m\u001b[39mcol\u001b[39m\u001b[39m'\u001b[39m] \u001b[39m=\u001b[39m (pd\u001b[39m.\u001b[39mSeries(np\u001b[39m.\u001b[39mselect(conditions, outputs, \u001b[39m'\u001b[39m\u001b[39mNope\u001b[39m\u001b[39m'\u001b[39m), dtype \u001b[39m=\u001b[39m \u001b[39mstr\u001b[39m)\u001b[39m.\u001b[39mconvert_dtypes())\n\u001b[1;32m---> <a href='vscode-notebook-cell:/c%3A/Users/vperezlo/Documents/GitHub/python-data-driven-decisions/Notebook_Clustering.ipynb#ch0000016?line=16'>17</a>\u001b[0m test_df \u001b[39m=\u001b[39m pd\u001b[39m.\u001b[39;49mconcat([test_df, col], axis \u001b[39m=\u001b[39;49m \u001b[39m1\u001b[39;49m, ignore_index \u001b[39m=\u001b[39;49m \u001b[39mTrue\u001b[39;49;00m)\n\u001b[0;32m     <a href='vscode-notebook-cell:/c%3A/Users/vperezlo/Documents/GitHub/python-data-driven-decisions/Notebook_Clustering.ipynb#ch0000016?line=18'>19</a>\u001b[0m \u001b[39m#test_df['col'] = pd.Series(np.select(conditions, outputs, 'Nope'), dtype = str).convert_dtypes()\u001b[39;00m\n\u001b[0;32m     <a href='vscode-notebook-cell:/c%3A/Users/vperezlo/Documents/GitHub/python-data-driven-decisions/Notebook_Clustering.ipynb#ch0000016?line=19'>20</a>\u001b[0m \u001b[39m#test_df.join(col)\u001b[39;00m\n\u001b[0;32m     <a href='vscode-notebook-cell:/c%3A/Users/vperezlo/Documents/GitHub/python-data-driven-decisions/Notebook_Clustering.ipynb#ch0000016?line=20'>21</a>\u001b[0m test_df\n",
      "File \u001b[1;32mc:\\Users\\vperezlo\\Documents\\GitHub\\python-data-driven-decisions\\.venv\\lib\\site-packages\\pandas\\util\\_decorators.py:311\u001b[0m, in \u001b[0;36mdeprecate_nonkeyword_arguments.<locals>.decorate.<locals>.wrapper\u001b[1;34m(*args, **kwargs)\u001b[0m\n\u001b[0;32m    305\u001b[0m \u001b[39mif\u001b[39;00m \u001b[39mlen\u001b[39m(args) \u001b[39m>\u001b[39m num_allow_args:\n\u001b[0;32m    306\u001b[0m     warnings\u001b[39m.\u001b[39mwarn(\n\u001b[0;32m    307\u001b[0m         msg\u001b[39m.\u001b[39mformat(arguments\u001b[39m=\u001b[39marguments),\n\u001b[0;32m    308\u001b[0m         \u001b[39mFutureWarning\u001b[39;00m,\n\u001b[0;32m    309\u001b[0m         stacklevel\u001b[39m=\u001b[39mstacklevel,\n\u001b[0;32m    310\u001b[0m     )\n\u001b[1;32m--> 311\u001b[0m \u001b[39mreturn\u001b[39;00m func(\u001b[39m*\u001b[39margs, \u001b[39m*\u001b[39m\u001b[39m*\u001b[39mkwargs)\n",
      "File \u001b[1;32mc:\\Users\\vperezlo\\Documents\\GitHub\\python-data-driven-decisions\\.venv\\lib\\site-packages\\pandas\\core\\reshape\\concat.py:347\u001b[0m, in \u001b[0;36mconcat\u001b[1;34m(objs, axis, join, ignore_index, keys, levels, names, verify_integrity, sort, copy)\u001b[0m\n\u001b[0;32m    143\u001b[0m \u001b[39m@deprecate_nonkeyword_arguments\u001b[39m(version\u001b[39m=\u001b[39m\u001b[39mNone\u001b[39;00m, allowed_args\u001b[39m=\u001b[39m[\u001b[39m\"\u001b[39m\u001b[39mobjs\u001b[39m\u001b[39m\"\u001b[39m])\n\u001b[0;32m    144\u001b[0m \u001b[39mdef\u001b[39;00m \u001b[39mconcat\u001b[39m(\n\u001b[0;32m    145\u001b[0m     objs: Iterable[NDFrame] \u001b[39m|\u001b[39m Mapping[Hashable, NDFrame],\n\u001b[1;32m   (...)\u001b[0m\n\u001b[0;32m    154\u001b[0m     copy: \u001b[39mbool\u001b[39m \u001b[39m=\u001b[39m \u001b[39mTrue\u001b[39;00m,\n\u001b[0;32m    155\u001b[0m ) \u001b[39m-\u001b[39m\u001b[39m>\u001b[39m DataFrame \u001b[39m|\u001b[39m Series:\n\u001b[0;32m    156\u001b[0m     \u001b[39m\"\"\"\u001b[39;00m\n\u001b[0;32m    157\u001b[0m \u001b[39m    Concatenate pandas objects along a particular axis with optional set logic\u001b[39;00m\n\u001b[0;32m    158\u001b[0m \u001b[39m    along the other axes.\u001b[39;00m\n\u001b[1;32m   (...)\u001b[0m\n\u001b[0;32m    345\u001b[0m \u001b[39m    ValueError: Indexes have overlapping values: ['a']\u001b[39;00m\n\u001b[0;32m    346\u001b[0m \u001b[39m    \"\"\"\u001b[39;00m\n\u001b[1;32m--> 347\u001b[0m     op \u001b[39m=\u001b[39m _Concatenator(\n\u001b[0;32m    348\u001b[0m         objs,\n\u001b[0;32m    349\u001b[0m         axis\u001b[39m=\u001b[39;49maxis,\n\u001b[0;32m    350\u001b[0m         ignore_index\u001b[39m=\u001b[39;49mignore_index,\n\u001b[0;32m    351\u001b[0m         join\u001b[39m=\u001b[39;49mjoin,\n\u001b[0;32m    352\u001b[0m         keys\u001b[39m=\u001b[39;49mkeys,\n\u001b[0;32m    353\u001b[0m         levels\u001b[39m=\u001b[39;49mlevels,\n\u001b[0;32m    354\u001b[0m         names\u001b[39m=\u001b[39;49mnames,\n\u001b[0;32m    355\u001b[0m         verify_integrity\u001b[39m=\u001b[39;49mverify_integrity,\n\u001b[0;32m    356\u001b[0m         copy\u001b[39m=\u001b[39;49mcopy,\n\u001b[0;32m    357\u001b[0m         sort\u001b[39m=\u001b[39;49msort,\n\u001b[0;32m    358\u001b[0m     )\n\u001b[0;32m    360\u001b[0m     \u001b[39mreturn\u001b[39;00m op\u001b[39m.\u001b[39mget_result()\n",
      "File \u001b[1;32mc:\\Users\\vperezlo\\Documents\\GitHub\\python-data-driven-decisions\\.venv\\lib\\site-packages\\pandas\\core\\reshape\\concat.py:542\u001b[0m, in \u001b[0;36m_Concatenator.__init__\u001b[1;34m(self, objs, axis, join, keys, levels, names, ignore_index, verify_integrity, copy, sort)\u001b[0m\n\u001b[0;32m    539\u001b[0m \u001b[39mself\u001b[39m\u001b[39m.\u001b[39mverify_integrity \u001b[39m=\u001b[39m verify_integrity\n\u001b[0;32m    540\u001b[0m \u001b[39mself\u001b[39m\u001b[39m.\u001b[39mcopy \u001b[39m=\u001b[39m copy\n\u001b[1;32m--> 542\u001b[0m \u001b[39mself\u001b[39m\u001b[39m.\u001b[39mnew_axes \u001b[39m=\u001b[39m \u001b[39mself\u001b[39;49m\u001b[39m.\u001b[39;49m_get_new_axes()\n",
      "File \u001b[1;32mc:\\Users\\vperezlo\\Documents\\GitHub\\python-data-driven-decisions\\.venv\\lib\\site-packages\\pandas\\core\\reshape\\concat.py:612\u001b[0m, in \u001b[0;36m_Concatenator._get_new_axes\u001b[1;34m(self)\u001b[0m\n\u001b[0;32m    610\u001b[0m \u001b[39mdef\u001b[39;00m \u001b[39m_get_new_axes\u001b[39m(\u001b[39mself\u001b[39m) \u001b[39m-\u001b[39m\u001b[39m>\u001b[39m \u001b[39mlist\u001b[39m[Index]:\n\u001b[0;32m    611\u001b[0m     ndim \u001b[39m=\u001b[39m \u001b[39mself\u001b[39m\u001b[39m.\u001b[39m_get_result_dim()\n\u001b[1;32m--> 612\u001b[0m     \u001b[39mreturn\u001b[39;00m [\n\u001b[0;32m    613\u001b[0m         \u001b[39mself\u001b[39m\u001b[39m.\u001b[39m_get_concat_axis \u001b[39mif\u001b[39;00m i \u001b[39m==\u001b[39m \u001b[39mself\u001b[39m\u001b[39m.\u001b[39mbm_axis \u001b[39melse\u001b[39;00m \u001b[39mself\u001b[39m\u001b[39m.\u001b[39m_get_comb_axis(i)\n\u001b[0;32m    614\u001b[0m         \u001b[39mfor\u001b[39;00m i \u001b[39min\u001b[39;00m \u001b[39mrange\u001b[39m(ndim)\n\u001b[0;32m    615\u001b[0m     ]\n",
      "File \u001b[1;32mc:\\Users\\vperezlo\\Documents\\GitHub\\python-data-driven-decisions\\.venv\\lib\\site-packages\\pandas\\core\\reshape\\concat.py:613\u001b[0m, in \u001b[0;36m<listcomp>\u001b[1;34m(.0)\u001b[0m\n\u001b[0;32m    610\u001b[0m \u001b[39mdef\u001b[39;00m \u001b[39m_get_new_axes\u001b[39m(\u001b[39mself\u001b[39m) \u001b[39m-\u001b[39m\u001b[39m>\u001b[39m \u001b[39mlist\u001b[39m[Index]:\n\u001b[0;32m    611\u001b[0m     ndim \u001b[39m=\u001b[39m \u001b[39mself\u001b[39m\u001b[39m.\u001b[39m_get_result_dim()\n\u001b[0;32m    612\u001b[0m     \u001b[39mreturn\u001b[39;00m [\n\u001b[1;32m--> 613\u001b[0m         \u001b[39mself\u001b[39m\u001b[39m.\u001b[39m_get_concat_axis \u001b[39mif\u001b[39;00m i \u001b[39m==\u001b[39m \u001b[39mself\u001b[39m\u001b[39m.\u001b[39mbm_axis \u001b[39melse\u001b[39;00m \u001b[39mself\u001b[39;49m\u001b[39m.\u001b[39;49m_get_comb_axis(i)\n\u001b[0;32m    614\u001b[0m         \u001b[39mfor\u001b[39;00m i \u001b[39min\u001b[39;00m \u001b[39mrange\u001b[39m(ndim)\n\u001b[0;32m    615\u001b[0m     ]\n",
      "File \u001b[1;32mc:\\Users\\vperezlo\\Documents\\GitHub\\python-data-driven-decisions\\.venv\\lib\\site-packages\\pandas\\core\\reshape\\concat.py:619\u001b[0m, in \u001b[0;36m_Concatenator._get_comb_axis\u001b[1;34m(self, i)\u001b[0m\n\u001b[0;32m    617\u001b[0m \u001b[39mdef\u001b[39;00m \u001b[39m_get_comb_axis\u001b[39m(\u001b[39mself\u001b[39m, i: \u001b[39mint\u001b[39m) \u001b[39m-\u001b[39m\u001b[39m>\u001b[39m Index:\n\u001b[0;32m    618\u001b[0m     data_axis \u001b[39m=\u001b[39m \u001b[39mself\u001b[39m\u001b[39m.\u001b[39mobjs[\u001b[39m0\u001b[39m]\u001b[39m.\u001b[39m_get_block_manager_axis(i)\n\u001b[1;32m--> 619\u001b[0m     \u001b[39mreturn\u001b[39;00m get_objs_combined_axis(\n\u001b[0;32m    620\u001b[0m         \u001b[39mself\u001b[39;49m\u001b[39m.\u001b[39;49mobjs,\n\u001b[0;32m    621\u001b[0m         axis\u001b[39m=\u001b[39;49mdata_axis,\n\u001b[0;32m    622\u001b[0m         intersect\u001b[39m=\u001b[39;49m\u001b[39mself\u001b[39;49m\u001b[39m.\u001b[39;49mintersect,\n\u001b[0;32m    623\u001b[0m         sort\u001b[39m=\u001b[39;49m\u001b[39mself\u001b[39;49m\u001b[39m.\u001b[39;49msort,\n\u001b[0;32m    624\u001b[0m         copy\u001b[39m=\u001b[39;49m\u001b[39mself\u001b[39;49m\u001b[39m.\u001b[39;49mcopy,\n\u001b[0;32m    625\u001b[0m     )\n",
      "File \u001b[1;32mc:\\Users\\vperezlo\\Documents\\GitHub\\python-data-driven-decisions\\.venv\\lib\\site-packages\\pandas\\core\\indexes\\api.py:103\u001b[0m, in \u001b[0;36mget_objs_combined_axis\u001b[1;34m(objs, intersect, axis, sort, copy)\u001b[0m\n\u001b[0;32m     79\u001b[0m \u001b[39m\"\"\"\u001b[39;00m\n\u001b[0;32m     80\u001b[0m \u001b[39mExtract combined index: return intersection or union (depending on the\u001b[39;00m\n\u001b[0;32m     81\u001b[0m \u001b[39mvalue of \"intersect\") of indexes on given axis, or None if all objects\u001b[39;00m\n\u001b[1;32m   (...)\u001b[0m\n\u001b[0;32m    100\u001b[0m \u001b[39mIndex\u001b[39;00m\n\u001b[0;32m    101\u001b[0m \u001b[39m\"\"\"\u001b[39;00m\n\u001b[0;32m    102\u001b[0m obs_idxes \u001b[39m=\u001b[39m [obj\u001b[39m.\u001b[39m_get_axis(axis) \u001b[39mfor\u001b[39;00m obj \u001b[39min\u001b[39;00m objs]\n\u001b[1;32m--> 103\u001b[0m \u001b[39mreturn\u001b[39;00m _get_combined_index(obs_idxes, intersect\u001b[39m=\u001b[39;49mintersect, sort\u001b[39m=\u001b[39;49msort, copy\u001b[39m=\u001b[39;49mcopy)\n",
      "File \u001b[1;32mc:\\Users\\vperezlo\\Documents\\GitHub\\python-data-driven-decisions\\.venv\\lib\\site-packages\\pandas\\core\\indexes\\api.py:156\u001b[0m, in \u001b[0;36m_get_combined_index\u001b[1;34m(indexes, intersect, sort, copy)\u001b[0m\n\u001b[0;32m    154\u001b[0m         index \u001b[39m=\u001b[39m index\u001b[39m.\u001b[39mintersection(other)\n\u001b[0;32m    155\u001b[0m \u001b[39melse\u001b[39;00m:\n\u001b[1;32m--> 156\u001b[0m     index \u001b[39m=\u001b[39m union_indexes(indexes, sort\u001b[39m=\u001b[39;49m\u001b[39mFalse\u001b[39;49;00m)\n\u001b[0;32m    157\u001b[0m     index \u001b[39m=\u001b[39m ensure_index(index)\n\u001b[0;32m    159\u001b[0m \u001b[39mif\u001b[39;00m sort:\n",
      "File \u001b[1;32mc:\\Users\\vperezlo\\Documents\\GitHub\\python-data-driven-decisions\\.venv\\lib\\site-packages\\pandas\\core\\indexes\\api.py:259\u001b[0m, in \u001b[0;36munion_indexes\u001b[1;34m(indexes, sort)\u001b[0m\n\u001b[0;32m    256\u001b[0m         result \u001b[39m=\u001b[39m indexes[\u001b[39m0\u001b[39m]\n\u001b[0;32m    258\u001b[0m     \u001b[39mfor\u001b[39;00m other \u001b[39min\u001b[39;00m indexes[\u001b[39m1\u001b[39m:]:\n\u001b[1;32m--> 259\u001b[0m         result \u001b[39m=\u001b[39m result\u001b[39m.\u001b[39;49munion(other, sort\u001b[39m=\u001b[39;49m\u001b[39mNone\u001b[39;49;00m \u001b[39mif\u001b[39;49;00m sort \u001b[39melse\u001b[39;49;00m \u001b[39mFalse\u001b[39;49;00m)\n\u001b[0;32m    260\u001b[0m     \u001b[39mreturn\u001b[39;00m result\n\u001b[0;32m    262\u001b[0m \u001b[39melif\u001b[39;00m kind \u001b[39m==\u001b[39m \u001b[39m\"\u001b[39m\u001b[39marray\u001b[39m\u001b[39m\"\u001b[39m:\n",
      "File \u001b[1;32mc:\\Users\\vperezlo\\Documents\\GitHub\\python-data-driven-decisions\\.venv\\lib\\site-packages\\pandas\\core\\indexes\\base.py:3152\u001b[0m, in \u001b[0;36mIndex.union\u001b[1;34m(self, other, sort)\u001b[0m\n\u001b[0;32m   3146\u001b[0m \u001b[39mif\u001b[39;00m \u001b[39mnot\u001b[39;00m is_dtype_equal(\u001b[39mself\u001b[39m\u001b[39m.\u001b[39mdtype, other\u001b[39m.\u001b[39mdtype):\n\u001b[0;32m   3147\u001b[0m     \u001b[39mif\u001b[39;00m (\n\u001b[0;32m   3148\u001b[0m         \u001b[39misinstance\u001b[39m(\u001b[39mself\u001b[39m, ABCMultiIndex)\n\u001b[0;32m   3149\u001b[0m         \u001b[39mand\u001b[39;00m \u001b[39mnot\u001b[39;00m is_object_dtype(unpack_nested_dtype(other))\n\u001b[0;32m   3150\u001b[0m         \u001b[39mand\u001b[39;00m \u001b[39mlen\u001b[39m(other) \u001b[39m>\u001b[39m \u001b[39m0\u001b[39m\n\u001b[0;32m   3151\u001b[0m     ):\n\u001b[1;32m-> 3152\u001b[0m         \u001b[39mraise\u001b[39;00m \u001b[39mNotImplementedError\u001b[39;00m(\n\u001b[0;32m   3153\u001b[0m             \u001b[39m\"\u001b[39m\u001b[39mCan only union MultiIndex with MultiIndex or Index of tuples, \u001b[39m\u001b[39m\"\u001b[39m\n\u001b[0;32m   3154\u001b[0m             \u001b[39m\"\u001b[39m\u001b[39mtry mi.to_flat_index().union(other) instead.\u001b[39m\u001b[39m\"\u001b[39m\n\u001b[0;32m   3155\u001b[0m         )\n\u001b[0;32m   3156\u001b[0m     \u001b[39mif\u001b[39;00m (\n\u001b[0;32m   3157\u001b[0m         \u001b[39misinstance\u001b[39m(\u001b[39mself\u001b[39m, ABCDatetimeIndex)\n\u001b[0;32m   3158\u001b[0m         \u001b[39mand\u001b[39;00m \u001b[39misinstance\u001b[39m(other, ABCDatetimeIndex)\n\u001b[1;32m   (...)\u001b[0m\n\u001b[0;32m   3161\u001b[0m     ):\n\u001b[0;32m   3162\u001b[0m         \u001b[39m# GH#39328\u001b[39;00m\n\u001b[0;32m   3163\u001b[0m         warnings\u001b[39m.\u001b[39mwarn(\n\u001b[0;32m   3164\u001b[0m             \u001b[39m\"\u001b[39m\u001b[39mIn a future version, the union of DatetimeIndex objects \u001b[39m\u001b[39m\"\u001b[39m\n\u001b[0;32m   3165\u001b[0m             \u001b[39m\"\u001b[39m\u001b[39mwith mismatched timezones will cast both to UTC instead of \u001b[39m\u001b[39m\"\u001b[39m\n\u001b[1;32m   (...)\u001b[0m\n\u001b[0;32m   3169\u001b[0m             stacklevel\u001b[39m=\u001b[39mfind_stack_level(),\n\u001b[0;32m   3170\u001b[0m         )\n",
      "\u001b[1;31mNotImplementedError\u001b[0m: Can only union MultiIndex with MultiIndex or Index of tuples, try mi.to_flat_index().union(other) instead."
     ]
    }
   ],
   "source": [
    "test_df = new_df_tsne.copy()\n",
    "\n",
    "list_c = ['Spain', 'China', 'Netherlands']\n",
    "\n",
    "conditions = [\n",
    "  np.logical_and(test_df['1st_component'].gt(0), test_df['2nd_component'].gt(0))\n",
    "]\n",
    "\n",
    "outputs = ['Yes']\n",
    "\n",
    "col = pd.Series(np.select(conditions, outputs, 'Nope'), dtype = str, name = 'col')\n",
    "#print(pd.Series(np.select(conditions, outputs, 'Nope'), dtype = str))\n",
    "print(pd.Series(np.select(conditions, outputs, 'Nope'), dtype = str).convert_dtypes())\n",
    "\n",
    "test_df['col'] = (pd.Series(np.select(conditions, outputs, 'Nope'), dtype = str).convert_dtypes())\n",
    "\n",
    "test_df = pd.concat([test_df, col], axis = 1, ignore_index = True)\n",
    "\n",
    "#test_df['col'] = pd.Series(np.select(conditions, outputs, 'Nope'), dtype = str).convert_dtypes()\n",
    "#test_df.join(col)\n",
    "test_df"
   ]
  },
  {
   "cell_type": "code",
   "execution_count": 17,
   "metadata": {},
   "outputs": [
    {
     "name": "stdout",
     "output_type": "stream",
     "text": [
      "[-1 -1 -1 -1 -1 -1 -1 -1 -1 -1 -1 -1  0  0  0  0  0  0  0 -1 -1 -1 -1 -1\n",
      " -1 -1 -1 -1 -1 -1 -1 -1 -1 -1 -1 -1 -1 -1 -1 -1 -1 -1 -1 -1 -1 -1 -1 -1\n",
      " -1 -1 -1 -1 -1 -1 -1 -1 -1 -1 -1 -1 -1 -1 -1 -1 -1 -1 -1 -1 -1 -1 -1 -1\n",
      " -1 -1 -1 -1 -1 -1 -1 -1 -1 -1 -1 -1 -1 -1 -1 -1 -1 -1 -1 -1 -1 -1 -1 -1\n",
      " -1 -1 -1 -1 -1 -1 -1 -1 -1  1  1  1  1  1  1  1  1  1  1  1  1  1  1  1\n",
      "  1  1  1  1 -1 -1 -1 -1 -1 -1 -1 -1 -1 -1 -1 -1 -1 -1 -1 -1 -1 -1 -1 -1\n",
      " -1 -1 -1 -1 -1 -1 -1 -1 -1 -1 -1 -1 -1 -1 -1 -1 -1 -1 -1 -1 -1 -1 -1 -1\n",
      " -1 -1 -1 -1 -1 -1 -1 -1 -1 -1 -1]\n",
      "179\n"
     ]
    },
    {
     "data": {
      "text/plain": [
       "Text(0.5, 1.0, 'OPTICS Clustering')"
      ]
     },
     "execution_count": 17,
     "metadata": {},
     "output_type": "execute_result"
    },
    {
     "data": {
      "image/png": "[encoded data removed]",
      "text/plain": [
       "<Figure size 720x504 with 4 Axes>"
      ]
     },
     "metadata": {
      "needs_background": "light"
     },
     "output_type": "display_data"
    }
   ],
   "source": [
    "\n",
    "\n",
    "optics_model = OPTICS(min_samples = 5, xi = 0.05, min_cluster_size = 5)\n",
    "optics_model.fit(df_normalized)\n",
    "\n",
    "labels1 = cluster_optics_dbscan(reachability = optics_model.reachability_,\n",
    "core_distances = optics_model.core_distances_,\n",
    "ordering = optics_model.ordering_, eps = 0.5)\n",
    "\n",
    "space = np.arange(len(df_normalized))\n",
    "reachability = optics_model.reachability_[optics_model.ordering_]\n",
    "labels = optics_model.labels_[optics_model.ordering_]\n",
    "print(labels)\n",
    "print(len(labels))\n",
    "\n",
    "plt.figure(figsize = (10, 7))\n",
    "G = gridspec.GridSpec(2, 3)\n",
    "ax1 = plt.subplot(G[0, :])\n",
    "ax2 = plt.subplot(G[1, 0])\n",
    "ax3 = plt.subplot(G[1, 1])\n",
    "ax4 = plt.subplot(G[1, 2])\n",
    "\n",
    "# Plotting the Reachability-Distance Plot\n",
    "colors = ['c.', 'b.', 'r.', 'y.', 'g.']\n",
    "for Class, colour in zip(range(0, 5), colors):\n",
    "    Xk = space[labels == Class]\n",
    "    Rk = reachability[labels == Class]\n",
    "    ax1.plot(Xk, Rk, colour, alpha = 0.3)\n",
    "ax1.plot(space[labels == -1], reachability[labels == -1], 'k.', alpha = 0.3)\n",
    "ax1.plot(space, np.full_like(space, 2., dtype = float), 'k-', alpha = 0.5)\n",
    "ax1.plot(space, np.full_like(space, 0.5, dtype = float), 'k-.', alpha = 0.5)\n",
    "ax1.set_ylabel('Reachability Distance')\n",
    "ax1.set_title('Reachability Plot')\n",
    "  \n",
    "# Plotting the OPTICS Clustering\n",
    "colors = ['c.', 'b.', 'r.', 'y.', 'g.']\n",
    "for Class, colour in zip(range(0, 5), colors):\n",
    "    Xk = df_normalized[optics_model.labels_ == Class]\n",
    "    ax2.plot(Xk.iloc[:, 0], Xk.iloc[:, 1], colour, alpha = 0.3)\n",
    "      \n",
    "ax2.plot(df_normalized.iloc[optics_model.labels_ == -1, 0],\n",
    "        df_normalized.iloc[optics_model.labels_ == -1, 1],\n",
    "       'k+', alpha = 0.1)\n",
    "ax2.set_title('OPTICS Clustering')\n",
    "  "
   ]
  },
  {
   "cell_type": "code",
   "execution_count": 18,
   "metadata": {},
   "outputs": [
    {
     "data": {
      "text/plain": [
       "' #MORRALLA\\n\\n# K-MEANS CLUSTERING\\n# Importing Modules\\nfrom sklearn import datasets\\nfrom sklearn.cluster import KMeans\\nimport matplotlib.pyplot as plt\\nfrom sklearn.decomposition import PCA\\n# Loading dataset\\niris_df = datasets.load_iris()\\n\\n# Declaring Model\\nmodel = KMeans(n_clusters=3)\\n\\n# Fitting Model\\nmodel.fit(iris_df.data)\\n\\n# Predicitng a single input\\npredicted_label = model.predict([[7.2, 3.5, 0.8, 1.6]])\\n\\n# Prediction on the entire data\\nall_predictions = model.predict(iris_df.data)\\n\\n# Printing Predictions\\nprint(predicted_label)\\nprint(all_predictions)\\n\\n\\n# import some data to play with\\niris = datasets.load_iris()\\nX = iris.data[:, :3]  # we only take the first two features.\\ny = iris.target\\n\\n\\nfig = plt.figure(figsize=(10,10))\\nplt = fig.add_subplot(111, projection=\\'3d\\')\\nplt.scatter(X[:,0],X[:,1],X[:,2], \\n            c=all_predictions, edgecolor=\\'red\\', s=40, alpha = 0.5)\\nplt.set_title(\"First three PCA directions\")\\nplt.set_xlabel(\"Educational_Degree\")\\nplt.set_ylabel(\"Gross_Monthly_Salary\")\\nplt.set_zlabel(\"Claim_Rate\")\\nplt.dist = 10\\nplt\\n\\nfrom sklearn import datasets\\nfrom sklearn.cluster import KMeans\\nimport matplotlib.pyplot as plt\\nfrom sklearn.decomposition import PCA\\n\\nmodel = KMeans()\\nres = model.fit_predict(df)\\n\\n '"
      ]
     },
     "execution_count": 18,
     "metadata": {},
     "output_type": "execute_result"
    }
   ],
   "source": [
    "\"\"\" #MORRALLA\n",
    "\n",
    "# K-MEANS CLUSTERING\n",
    "# Importing Modules\n",
    "from sklearn import datasets\n",
    "from sklearn.cluster import KMeans\n",
    "import matplotlib.pyplot as plt\n",
    "from sklearn.decomposition import PCA\n",
    "# Loading dataset\n",
    "iris_df = datasets.load_iris()\n",
    "\n",
    "# Declaring Model\n",
    "model = KMeans(n_clusters=3)\n",
    "\n",
    "# Fitting Model\n",
    "model.fit(iris_df.data)\n",
    "\n",
    "# Predicitng a single input\n",
    "predicted_label = model.predict([[7.2, 3.5, 0.8, 1.6]])\n",
    "\n",
    "# Prediction on the entire data\n",
    "all_predictions = model.predict(iris_df.data)\n",
    "\n",
    "# Printing Predictions\n",
    "print(predicted_label)\n",
    "print(all_predictions)\n",
    "\n",
    "\n",
    "# import some data to play with\n",
    "iris = datasets.load_iris()\n",
    "X = iris.data[:, :3]  # we only take the first two features.\n",
    "y = iris.target\n",
    "\n",
    "\n",
    "fig = plt.figure(figsize=(10,10))\n",
    "plt = fig.add_subplot(111, projection='3d')\n",
    "plt.scatter(X[:,0],X[:,1],X[:,2], \n",
    "            c=all_predictions, edgecolor='red', s=40, alpha = 0.5)\n",
    "plt.set_title(\"First three PCA directions\")\n",
    "plt.set_xlabel(\"Educational_Degree\")\n",
    "plt.set_ylabel(\"Gross_Monthly_Salary\")\n",
    "plt.set_zlabel(\"Claim_Rate\")\n",
    "plt.dist = 10\n",
    "plt\n",
    "\n",
    "from sklearn import datasets\n",
    "from sklearn.cluster import KMeans\n",
    "import matplotlib.pyplot as plt\n",
    "from sklearn.decomposition import PCA\n",
    "\n",
    "model = KMeans()\n",
    "res = model.fit_predict(df)\n",
    "\n",
    " \"\"\""
   ]
  }
 ],
 "metadata": {
  "kernelspec": {
   "display_name": "Python 3.10.5 ('.venv': poetry)",
   "language": "python",
   "name": "python3"
  },
  "language_info": {
   "codemirror_mode": {
    "name": "ipython",
    "version": 3
   },
   "file_extension": ".py",
   "mimetype": "text/x-python",
   "name": "python",
   "nbconvert_exporter": "python",
   "pygments_lexer": "ipython3",
   "version": "3.10.5"
  },
  "orig_nbformat": 4,
  "vscode": {
   "interpreter": {
    "hash": "44718ba4235bc6fc2135f9d8856f170c8312ddd29b08710a5ea28d42169e623e"
   }
  }
 },
 "nbformat": 4,
 "nbformat_minor": 2
}
