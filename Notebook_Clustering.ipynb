{
 "cells": [
  {
   "cell_type": "code",
   "execution_count": 1,
   "metadata": {},
   "outputs": [],
   "source": [
    "import os\n",
    "import pandas as pd\n",
    "\n",
    "read_path = os.getcwd()\n",
    "df_url = read_path + '/Output/SilverDataframe.csv'"
   ]
  },
  {
   "cell_type": "code",
   "execution_count": null,
   "metadata": {},
   "outputs": [],
   "source": [
    "#import warnings\n",
    "#warnings.filterwarnings(\"ignore\")"
   ]
  },
  {
   "cell_type": "code",
   "execution_count": 2,
   "metadata": {},
   "outputs": [
    {
     "data": {
      "text/html": [
       "<div>\n",
       "<style scoped>\n",
       "    .dataframe tbody tr th:only-of-type {\n",
       "        vertical-align: middle;\n",
       "    }\n",
       "\n",
       "    .dataframe tbody tr th {\n",
       "        vertical-align: top;\n",
       "    }\n",
       "\n",
       "    .dataframe thead th {\n",
       "        text-align: right;\n",
       "    }\n",
       "</style>\n",
       "<table border=\"1\" class=\"dataframe\">\n",
       "  <thead>\n",
       "    <tr style=\"text-align: right;\">\n",
       "      <th></th>\n",
       "      <th>AgriShareGDP</th>\n",
       "      <th>CreditToAgriFishForest</th>\n",
       "      <th>EmploymentRural</th>\n",
       "      <th>TotalAgri</th>\n",
       "      <th>% Soldiers</th>\n",
       "      <th>Birth Rate</th>\n",
       "      <th>Death Rate</th>\n",
       "      <th>Homicides</th>\n",
       "      <th>Life Expectancy</th>\n",
       "      <th>Maternal Death Risk</th>\n",
       "      <th>...</th>\n",
       "      <th>% Population Growth</th>\n",
       "      <th>% Rural Population</th>\n",
       "      <th>Civil Liberties</th>\n",
       "      <th>Freedom of Expression</th>\n",
       "      <th>% Healthcare Investment</th>\n",
       "      <th>% Employment Industry</th>\n",
       "      <th>% Education Expenditure</th>\n",
       "      <th>% Men Employment</th>\n",
       "      <th>% Women Employment</th>\n",
       "      <th>Population</th>\n",
       "    </tr>\n",
       "  </thead>\n",
       "  <tbody>\n",
       "    <tr>\n",
       "      <th>Aruba</th>\n",
       "      <td>0.374165</td>\n",
       "      <td>-0.603524</td>\n",
       "      <td>NaN</td>\n",
       "      <td>NaN</td>\n",
       "      <td>NaN</td>\n",
       "      <td>-0.781544</td>\n",
       "      <td>0.830859</td>\n",
       "      <td>NaN</td>\n",
       "      <td>0.854511</td>\n",
       "      <td>NaN</td>\n",
       "      <td>...</td>\n",
       "      <td>-0.802325</td>\n",
       "      <td>0.818422</td>\n",
       "      <td>NaN</td>\n",
       "      <td>NaN</td>\n",
       "      <td>NaN</td>\n",
       "      <td>NaN</td>\n",
       "      <td>NaN</td>\n",
       "      <td>NaN</td>\n",
       "      <td>NaN</td>\n",
       "      <td>0.903113</td>\n",
       "    </tr>\n",
       "    <tr>\n",
       "      <th>Benin</th>\n",
       "      <td>0.558550</td>\n",
       "      <td>-0.286368</td>\n",
       "      <td>NaN</td>\n",
       "      <td>NaN</td>\n",
       "      <td>0.170007</td>\n",
       "      <td>-0.991869</td>\n",
       "      <td>-0.966781</td>\n",
       "      <td>NaN</td>\n",
       "      <td>0.975262</td>\n",
       "      <td>-0.985662</td>\n",
       "      <td>...</td>\n",
       "      <td>-0.920561</td>\n",
       "      <td>-0.991571</td>\n",
       "      <td>0.577200</td>\n",
       "      <td>-0.775903</td>\n",
       "      <td>-0.672851</td>\n",
       "      <td>0.213531</td>\n",
       "      <td>0.295571</td>\n",
       "      <td>NaN</td>\n",
       "      <td>NaN</td>\n",
       "      <td>0.992396</td>\n",
       "    </tr>\n",
       "    <tr>\n",
       "      <th>Turkmenistan</th>\n",
       "      <td>-0.916581</td>\n",
       "      <td>NaN</td>\n",
       "      <td>NaN</td>\n",
       "      <td>-0.346547</td>\n",
       "      <td>0.651004</td>\n",
       "      <td>0.499399</td>\n",
       "      <td>-0.945071</td>\n",
       "      <td>NaN</td>\n",
       "      <td>0.972749</td>\n",
       "      <td>-0.909132</td>\n",
       "      <td>...</td>\n",
       "      <td>0.886601</td>\n",
       "      <td>-0.949027</td>\n",
       "      <td>0.858904</td>\n",
       "      <td>0.688642</td>\n",
       "      <td>-0.827310</td>\n",
       "      <td>0.480286</td>\n",
       "      <td>NaN</td>\n",
       "      <td>NaN</td>\n",
       "      <td>NaN</td>\n",
       "      <td>0.950749</td>\n",
       "    </tr>\n",
       "    <tr>\n",
       "      <th>Jordan</th>\n",
       "      <td>0.929244</td>\n",
       "      <td>-0.828580</td>\n",
       "      <td>NaN</td>\n",
       "      <td>0.979891</td>\n",
       "      <td>-0.925262</td>\n",
       "      <td>-0.969768</td>\n",
       "      <td>-0.750168</td>\n",
       "      <td>NaN</td>\n",
       "      <td>0.987968</td>\n",
       "      <td>-0.989961</td>\n",
       "      <td>...</td>\n",
       "      <td>0.044476</td>\n",
       "      <td>-0.992862</td>\n",
       "      <td>0.573174</td>\n",
       "      <td>0.940235</td>\n",
       "      <td>0.116714</td>\n",
       "      <td>-0.936668</td>\n",
       "      <td>NaN</td>\n",
       "      <td>NaN</td>\n",
       "      <td>NaN</td>\n",
       "      <td>0.994118</td>\n",
       "    </tr>\n",
       "    <tr>\n",
       "      <th>Belgium</th>\n",
       "      <td>-0.929181</td>\n",
       "      <td>0.322773</td>\n",
       "      <td>0.624761</td>\n",
       "      <td>0.740459</td>\n",
       "      <td>-0.792708</td>\n",
       "      <td>-0.133794</td>\n",
       "      <td>-0.812403</td>\n",
       "      <td>-0.803133</td>\n",
       "      <td>0.905131</td>\n",
       "      <td>-0.727397</td>\n",
       "      <td>...</td>\n",
       "      <td>0.486578</td>\n",
       "      <td>-0.876868</td>\n",
       "      <td>-0.389193</td>\n",
       "      <td>0.412971</td>\n",
       "      <td>0.855358</td>\n",
       "      <td>-0.808523</td>\n",
       "      <td>NaN</td>\n",
       "      <td>-0.701513</td>\n",
       "      <td>0.952283</td>\n",
       "      <td>0.850310</td>\n",
       "    </tr>\n",
       "    <tr>\n",
       "      <th>...</th>\n",
       "      <td>...</td>\n",
       "      <td>...</td>\n",
       "      <td>...</td>\n",
       "      <td>...</td>\n",
       "      <td>...</td>\n",
       "      <td>...</td>\n",
       "      <td>...</td>\n",
       "      <td>...</td>\n",
       "      <td>...</td>\n",
       "      <td>...</td>\n",
       "      <td>...</td>\n",
       "      <td>...</td>\n",
       "      <td>...</td>\n",
       "      <td>...</td>\n",
       "      <td>...</td>\n",
       "      <td>...</td>\n",
       "      <td>...</td>\n",
       "      <td>...</td>\n",
       "      <td>...</td>\n",
       "      <td>...</td>\n",
       "      <td>...</td>\n",
       "    </tr>\n",
       "    <tr>\n",
       "      <th>Luxembourg</th>\n",
       "      <td>-0.908405</td>\n",
       "      <td>NaN</td>\n",
       "      <td>0.701596</td>\n",
       "      <td>0.874445</td>\n",
       "      <td>-0.802340</td>\n",
       "      <td>-0.881778</td>\n",
       "      <td>-0.895747</td>\n",
       "      <td>-0.462688</td>\n",
       "      <td>0.947738</td>\n",
       "      <td>-0.930404</td>\n",
       "      <td>...</td>\n",
       "      <td>0.820628</td>\n",
       "      <td>-0.965204</td>\n",
       "      <td>NaN</td>\n",
       "      <td>NaN</td>\n",
       "      <td>-0.703552</td>\n",
       "      <td>-0.961775</td>\n",
       "      <td>NaN</td>\n",
       "      <td>-0.567939</td>\n",
       "      <td>0.944644</td>\n",
       "      <td>0.898705</td>\n",
       "    </tr>\n",
       "    <tr>\n",
       "      <th>Morocco</th>\n",
       "      <td>-0.421513</td>\n",
       "      <td>NaN</td>\n",
       "      <td>NaN</td>\n",
       "      <td>0.864131</td>\n",
       "      <td>-0.984657</td>\n",
       "      <td>-0.778574</td>\n",
       "      <td>-0.977643</td>\n",
       "      <td>-0.418194</td>\n",
       "      <td>0.988583</td>\n",
       "      <td>-0.976531</td>\n",
       "      <td>...</td>\n",
       "      <td>0.696034</td>\n",
       "      <td>-0.946684</td>\n",
       "      <td>0.498563</td>\n",
       "      <td>0.485657</td>\n",
       "      <td>0.843802</td>\n",
       "      <td>0.811457</td>\n",
       "      <td>NaN</td>\n",
       "      <td>NaN</td>\n",
       "      <td>NaN</td>\n",
       "      <td>0.937438</td>\n",
       "    </tr>\n",
       "    <tr>\n",
       "      <th>Portugal</th>\n",
       "      <td>-0.937049</td>\n",
       "      <td>NaN</td>\n",
       "      <td>-0.519219</td>\n",
       "      <td>0.941841</td>\n",
       "      <td>-0.364885</td>\n",
       "      <td>-0.684102</td>\n",
       "      <td>0.024278</td>\n",
       "      <td>-0.087743</td>\n",
       "      <td>0.660173</td>\n",
       "      <td>-0.715156</td>\n",
       "      <td>...</td>\n",
       "      <td>-0.633610</td>\n",
       "      <td>-0.680719</td>\n",
       "      <td>-0.718688</td>\n",
       "      <td>-0.058586</td>\n",
       "      <td>-0.511585</td>\n",
       "      <td>-0.676486</td>\n",
       "      <td>-0.726017</td>\n",
       "      <td>-0.624523</td>\n",
       "      <td>-0.426583</td>\n",
       "      <td>0.303975</td>\n",
       "    </tr>\n",
       "    <tr>\n",
       "      <th>Madagascar</th>\n",
       "      <td>-0.856914</td>\n",
       "      <td>NaN</td>\n",
       "      <td>NaN</td>\n",
       "      <td>0.645772</td>\n",
       "      <td>-0.892131</td>\n",
       "      <td>-0.962947</td>\n",
       "      <td>-0.957361</td>\n",
       "      <td>NaN</td>\n",
       "      <td>0.955664</td>\n",
       "      <td>-0.963204</td>\n",
       "      <td>...</td>\n",
       "      <td>-0.967226</td>\n",
       "      <td>-0.944561</td>\n",
       "      <td>-0.334297</td>\n",
       "      <td>-0.278199</td>\n",
       "      <td>0.012878</td>\n",
       "      <td>0.718184</td>\n",
       "      <td>0.500264</td>\n",
       "      <td>NaN</td>\n",
       "      <td>NaN</td>\n",
       "      <td>0.943587</td>\n",
       "    </tr>\n",
       "    <tr>\n",
       "      <th>Eritrea</th>\n",
       "      <td>0.082339</td>\n",
       "      <td>NaN</td>\n",
       "      <td>NaN</td>\n",
       "      <td>0.851891</td>\n",
       "      <td>-0.776769</td>\n",
       "      <td>-0.523883</td>\n",
       "      <td>-0.885355</td>\n",
       "      <td>NaN</td>\n",
       "      <td>0.888279</td>\n",
       "      <td>-0.807013</td>\n",
       "      <td>...</td>\n",
       "      <td>NaN</td>\n",
       "      <td>NaN</td>\n",
       "      <td>0.152375</td>\n",
       "      <td>-0.104903</td>\n",
       "      <td>0.389283</td>\n",
       "      <td>0.869285</td>\n",
       "      <td>NaN</td>\n",
       "      <td>NaN</td>\n",
       "      <td>NaN</td>\n",
       "      <td>0.864085</td>\n",
       "    </tr>\n",
       "  </tbody>\n",
       "</table>\n",
       "<p>176 rows × 21 columns</p>\n",
       "</div>"
      ],
      "text/plain": [
       "              AgriShareGDP  CreditToAgriFishForest  EmploymentRural  \\\n",
       "Aruba             0.374165               -0.603524              NaN   \n",
       "Benin             0.558550               -0.286368              NaN   \n",
       "Turkmenistan     -0.916581                     NaN              NaN   \n",
       "Jordan            0.929244               -0.828580              NaN   \n",
       "Belgium          -0.929181                0.322773         0.624761   \n",
       "...                    ...                     ...              ...   \n",
       "Luxembourg       -0.908405                     NaN         0.701596   \n",
       "Morocco          -0.421513                     NaN              NaN   \n",
       "Portugal         -0.937049                     NaN        -0.519219   \n",
       "Madagascar       -0.856914                     NaN              NaN   \n",
       "Eritrea           0.082339                     NaN              NaN   \n",
       "\n",
       "              TotalAgri  % Soldiers  Birth Rate  Death Rate  Homicides  \\\n",
       "Aruba               NaN         NaN   -0.781544    0.830859        NaN   \n",
       "Benin               NaN    0.170007   -0.991869   -0.966781        NaN   \n",
       "Turkmenistan  -0.346547    0.651004    0.499399   -0.945071        NaN   \n",
       "Jordan         0.979891   -0.925262   -0.969768   -0.750168        NaN   \n",
       "Belgium        0.740459   -0.792708   -0.133794   -0.812403  -0.803133   \n",
       "...                 ...         ...         ...         ...        ...   \n",
       "Luxembourg     0.874445   -0.802340   -0.881778   -0.895747  -0.462688   \n",
       "Morocco        0.864131   -0.984657   -0.778574   -0.977643  -0.418194   \n",
       "Portugal       0.941841   -0.364885   -0.684102    0.024278  -0.087743   \n",
       "Madagascar     0.645772   -0.892131   -0.962947   -0.957361        NaN   \n",
       "Eritrea        0.851891   -0.776769   -0.523883   -0.885355        NaN   \n",
       "\n",
       "              Life Expectancy  Maternal Death Risk  ...  % Population Growth  \\\n",
       "Aruba                0.854511                  NaN  ...            -0.802325   \n",
       "Benin                0.975262            -0.985662  ...            -0.920561   \n",
       "Turkmenistan         0.972749            -0.909132  ...             0.886601   \n",
       "Jordan               0.987968            -0.989961  ...             0.044476   \n",
       "Belgium              0.905131            -0.727397  ...             0.486578   \n",
       "...                       ...                  ...  ...                  ...   \n",
       "Luxembourg           0.947738            -0.930404  ...             0.820628   \n",
       "Morocco              0.988583            -0.976531  ...             0.696034   \n",
       "Portugal             0.660173            -0.715156  ...            -0.633610   \n",
       "Madagascar           0.955664            -0.963204  ...            -0.967226   \n",
       "Eritrea              0.888279            -0.807013  ...                  NaN   \n",
       "\n",
       "              % Rural Population  Civil Liberties  Freedom of Expression  \\\n",
       "Aruba                   0.818422              NaN                    NaN   \n",
       "Benin                  -0.991571         0.577200              -0.775903   \n",
       "Turkmenistan           -0.949027         0.858904               0.688642   \n",
       "Jordan                 -0.992862         0.573174               0.940235   \n",
       "Belgium                -0.876868        -0.389193               0.412971   \n",
       "...                          ...              ...                    ...   \n",
       "Luxembourg             -0.965204              NaN                    NaN   \n",
       "Morocco                -0.946684         0.498563               0.485657   \n",
       "Portugal               -0.680719        -0.718688              -0.058586   \n",
       "Madagascar             -0.944561        -0.334297              -0.278199   \n",
       "Eritrea                      NaN         0.152375              -0.104903   \n",
       "\n",
       "              % Healthcare Investment  % Employment Industry  \\\n",
       "Aruba                             NaN                    NaN   \n",
       "Benin                       -0.672851               0.213531   \n",
       "Turkmenistan                -0.827310               0.480286   \n",
       "Jordan                       0.116714              -0.936668   \n",
       "Belgium                      0.855358              -0.808523   \n",
       "...                               ...                    ...   \n",
       "Luxembourg                  -0.703552              -0.961775   \n",
       "Morocco                      0.843802               0.811457   \n",
       "Portugal                    -0.511585              -0.676486   \n",
       "Madagascar                   0.012878               0.718184   \n",
       "Eritrea                      0.389283               0.869285   \n",
       "\n",
       "              % Education Expenditure  % Men Employment  % Women Employment  \\\n",
       "Aruba                             NaN               NaN                 NaN   \n",
       "Benin                        0.295571               NaN                 NaN   \n",
       "Turkmenistan                      NaN               NaN                 NaN   \n",
       "Jordan                            NaN               NaN                 NaN   \n",
       "Belgium                           NaN         -0.701513            0.952283   \n",
       "...                               ...               ...                 ...   \n",
       "Luxembourg                        NaN         -0.567939            0.944644   \n",
       "Morocco                           NaN               NaN                 NaN   \n",
       "Portugal                    -0.726017         -0.624523           -0.426583   \n",
       "Madagascar                   0.500264               NaN                 NaN   \n",
       "Eritrea                           NaN               NaN                 NaN   \n",
       "\n",
       "              Population  \n",
       "Aruba           0.903113  \n",
       "Benin           0.992396  \n",
       "Turkmenistan    0.950749  \n",
       "Jordan          0.994118  \n",
       "Belgium         0.850310  \n",
       "...                  ...  \n",
       "Luxembourg      0.898705  \n",
       "Morocco         0.937438  \n",
       "Portugal        0.303975  \n",
       "Madagascar      0.943587  \n",
       "Eritrea         0.864085  \n",
       "\n",
       "[176 rows x 21 columns]"
      ]
     },
     "execution_count": 2,
     "metadata": {},
     "output_type": "execute_result"
    }
   ],
   "source": [
    "#One dataframe per country\n",
    "\n",
    "df = pd.read_csv(df_url)\n",
    "corr_df = pd.DataFrame()\n",
    "corr_df.index.names = ['Country']\n",
    "aux_df = pd.DataFrame()\n",
    "\n",
    "#List all the countries, none repeated\n",
    "countries = set(df['Country'].to_list())\n",
    "\n",
    "country_dict = {}\n",
    "corr_dict = {}\n",
    "\n",
    "for country in countries:\n",
    "\n",
    "    #Get the DataFrame for a given country\n",
    "    country_df = df.loc[df['Country'] == country]\n",
    "\n",
    "    #Correlation matrix for that country\n",
    "    country_corr_df = country_df.corr()\n",
    "\n",
    "    #Trim it into a single row\n",
    "    country_corr_df = country_corr_df.rename(columns = {'GDP': country}).drop(index = ['Year', 'GDP'])\n",
    "\n",
    "    #Add the row to a new DataFrame with the correlations for each country\n",
    "    corr_df = pd.concat([corr_df, country_corr_df[country]], axis = 1)\n",
    "\n",
    "#Transpose the resulting DataFrame to have the desired format and show it\n",
    "corr_df = corr_df.transpose()\n",
    "corr_df\n",
    "\n",
    "#corr_df.to_csv(read_path + '/Output/corr.csv')\n"
   ]
  },
  {
   "cell_type": "code",
   "execution_count": 4,
   "metadata": {},
   "outputs": [
    {
     "name": "stdout",
     "output_type": "stream",
     "text": [
      "set()\n"
     ]
    },
    {
     "data": {
      "text/html": [
       "<div>\n",
       "<style scoped>\n",
       "    .dataframe tbody tr th:only-of-type {\n",
       "        vertical-align: middle;\n",
       "    }\n",
       "\n",
       "    .dataframe tbody tr th {\n",
       "        vertical-align: top;\n",
       "    }\n",
       "\n",
       "    .dataframe thead th {\n",
       "        text-align: right;\n",
       "    }\n",
       "</style>\n",
       "<table border=\"1\" class=\"dataframe\">\n",
       "  <thead>\n",
       "    <tr style=\"text-align: right;\">\n",
       "      <th></th>\n",
       "      <th>AgriShareGDP</th>\n",
       "      <th>CreditToAgriFishForest</th>\n",
       "      <th>EmploymentRural</th>\n",
       "      <th>TotalAgri</th>\n",
       "      <th>% Soldiers</th>\n",
       "      <th>Birth Rate</th>\n",
       "      <th>Death Rate</th>\n",
       "      <th>Homicides</th>\n",
       "      <th>Life Expectancy</th>\n",
       "      <th>Maternal Death Risk</th>\n",
       "      <th>...</th>\n",
       "      <th>% Population Growth</th>\n",
       "      <th>% Rural Population</th>\n",
       "      <th>Civil Liberties</th>\n",
       "      <th>Freedom of Expression</th>\n",
       "      <th>% Healthcare Investment</th>\n",
       "      <th>% Employment Industry</th>\n",
       "      <th>% Education Expenditure</th>\n",
       "      <th>% Men Employment</th>\n",
       "      <th>% Women Employment</th>\n",
       "      <th>Population</th>\n",
       "    </tr>\n",
       "  </thead>\n",
       "  <tbody>\n",
       "    <tr>\n",
       "      <th>Aruba</th>\n",
       "      <td>0.374165</td>\n",
       "      <td>-0.603524</td>\n",
       "      <td>NaN</td>\n",
       "      <td>NaN</td>\n",
       "      <td>NaN</td>\n",
       "      <td>-0.781544</td>\n",
       "      <td>0.830859</td>\n",
       "      <td>NaN</td>\n",
       "      <td>0.854511</td>\n",
       "      <td>NaN</td>\n",
       "      <td>...</td>\n",
       "      <td>-0.802325</td>\n",
       "      <td>0.818422</td>\n",
       "      <td>NaN</td>\n",
       "      <td>NaN</td>\n",
       "      <td>NaN</td>\n",
       "      <td>NaN</td>\n",
       "      <td>NaN</td>\n",
       "      <td>NaN</td>\n",
       "      <td>NaN</td>\n",
       "      <td>0.903113</td>\n",
       "    </tr>\n",
       "    <tr>\n",
       "      <th>Benin</th>\n",
       "      <td>0.558550</td>\n",
       "      <td>-0.286368</td>\n",
       "      <td>NaN</td>\n",
       "      <td>NaN</td>\n",
       "      <td>0.170007</td>\n",
       "      <td>-0.991869</td>\n",
       "      <td>-0.966781</td>\n",
       "      <td>NaN</td>\n",
       "      <td>0.975262</td>\n",
       "      <td>-0.985662</td>\n",
       "      <td>...</td>\n",
       "      <td>-0.920561</td>\n",
       "      <td>-0.991571</td>\n",
       "      <td>0.577200</td>\n",
       "      <td>-0.775903</td>\n",
       "      <td>-0.672851</td>\n",
       "      <td>0.213531</td>\n",
       "      <td>0.295571</td>\n",
       "      <td>NaN</td>\n",
       "      <td>NaN</td>\n",
       "      <td>0.992396</td>\n",
       "    </tr>\n",
       "    <tr>\n",
       "      <th>Turkmenistan</th>\n",
       "      <td>-0.916581</td>\n",
       "      <td>NaN</td>\n",
       "      <td>NaN</td>\n",
       "      <td>-0.346547</td>\n",
       "      <td>0.651004</td>\n",
       "      <td>0.499399</td>\n",
       "      <td>-0.945071</td>\n",
       "      <td>NaN</td>\n",
       "      <td>0.972749</td>\n",
       "      <td>-0.909132</td>\n",
       "      <td>...</td>\n",
       "      <td>0.886601</td>\n",
       "      <td>-0.949027</td>\n",
       "      <td>0.858904</td>\n",
       "      <td>0.688642</td>\n",
       "      <td>-0.827310</td>\n",
       "      <td>0.480286</td>\n",
       "      <td>NaN</td>\n",
       "      <td>NaN</td>\n",
       "      <td>NaN</td>\n",
       "      <td>0.950749</td>\n",
       "    </tr>\n",
       "    <tr>\n",
       "      <th>Jordan</th>\n",
       "      <td>0.929244</td>\n",
       "      <td>-0.828580</td>\n",
       "      <td>NaN</td>\n",
       "      <td>0.979891</td>\n",
       "      <td>-0.925262</td>\n",
       "      <td>-0.969768</td>\n",
       "      <td>-0.750168</td>\n",
       "      <td>NaN</td>\n",
       "      <td>0.987968</td>\n",
       "      <td>-0.989961</td>\n",
       "      <td>...</td>\n",
       "      <td>0.044476</td>\n",
       "      <td>-0.992862</td>\n",
       "      <td>0.573174</td>\n",
       "      <td>0.940235</td>\n",
       "      <td>0.116714</td>\n",
       "      <td>-0.936668</td>\n",
       "      <td>NaN</td>\n",
       "      <td>NaN</td>\n",
       "      <td>NaN</td>\n",
       "      <td>0.994118</td>\n",
       "    </tr>\n",
       "    <tr>\n",
       "      <th>Belgium</th>\n",
       "      <td>-0.929181</td>\n",
       "      <td>0.322773</td>\n",
       "      <td>0.624761</td>\n",
       "      <td>0.740459</td>\n",
       "      <td>-0.792708</td>\n",
       "      <td>-0.133794</td>\n",
       "      <td>-0.812403</td>\n",
       "      <td>-0.803133</td>\n",
       "      <td>0.905131</td>\n",
       "      <td>-0.727397</td>\n",
       "      <td>...</td>\n",
       "      <td>0.486578</td>\n",
       "      <td>-0.876868</td>\n",
       "      <td>-0.389193</td>\n",
       "      <td>0.412971</td>\n",
       "      <td>0.855358</td>\n",
       "      <td>-0.808523</td>\n",
       "      <td>NaN</td>\n",
       "      <td>-0.701513</td>\n",
       "      <td>0.952283</td>\n",
       "      <td>0.850310</td>\n",
       "    </tr>\n",
       "    <tr>\n",
       "      <th>...</th>\n",
       "      <td>...</td>\n",
       "      <td>...</td>\n",
       "      <td>...</td>\n",
       "      <td>...</td>\n",
       "      <td>...</td>\n",
       "      <td>...</td>\n",
       "      <td>...</td>\n",
       "      <td>...</td>\n",
       "      <td>...</td>\n",
       "      <td>...</td>\n",
       "      <td>...</td>\n",
       "      <td>...</td>\n",
       "      <td>...</td>\n",
       "      <td>...</td>\n",
       "      <td>...</td>\n",
       "      <td>...</td>\n",
       "      <td>...</td>\n",
       "      <td>...</td>\n",
       "      <td>...</td>\n",
       "      <td>...</td>\n",
       "      <td>...</td>\n",
       "    </tr>\n",
       "    <tr>\n",
       "      <th>Luxembourg</th>\n",
       "      <td>-0.908405</td>\n",
       "      <td>NaN</td>\n",
       "      <td>0.701596</td>\n",
       "      <td>0.874445</td>\n",
       "      <td>-0.802340</td>\n",
       "      <td>-0.881778</td>\n",
       "      <td>-0.895747</td>\n",
       "      <td>-0.462688</td>\n",
       "      <td>0.947738</td>\n",
       "      <td>-0.930404</td>\n",
       "      <td>...</td>\n",
       "      <td>0.820628</td>\n",
       "      <td>-0.965204</td>\n",
       "      <td>NaN</td>\n",
       "      <td>NaN</td>\n",
       "      <td>-0.703552</td>\n",
       "      <td>-0.961775</td>\n",
       "      <td>NaN</td>\n",
       "      <td>-0.567939</td>\n",
       "      <td>0.944644</td>\n",
       "      <td>0.898705</td>\n",
       "    </tr>\n",
       "    <tr>\n",
       "      <th>Morocco</th>\n",
       "      <td>-0.421513</td>\n",
       "      <td>NaN</td>\n",
       "      <td>NaN</td>\n",
       "      <td>0.864131</td>\n",
       "      <td>-0.984657</td>\n",
       "      <td>-0.778574</td>\n",
       "      <td>-0.977643</td>\n",
       "      <td>-0.418194</td>\n",
       "      <td>0.988583</td>\n",
       "      <td>-0.976531</td>\n",
       "      <td>...</td>\n",
       "      <td>0.696034</td>\n",
       "      <td>-0.946684</td>\n",
       "      <td>0.498563</td>\n",
       "      <td>0.485657</td>\n",
       "      <td>0.843802</td>\n",
       "      <td>0.811457</td>\n",
       "      <td>NaN</td>\n",
       "      <td>NaN</td>\n",
       "      <td>NaN</td>\n",
       "      <td>0.937438</td>\n",
       "    </tr>\n",
       "    <tr>\n",
       "      <th>Portugal</th>\n",
       "      <td>-0.937049</td>\n",
       "      <td>NaN</td>\n",
       "      <td>-0.519219</td>\n",
       "      <td>0.941841</td>\n",
       "      <td>-0.364885</td>\n",
       "      <td>-0.684102</td>\n",
       "      <td>0.024278</td>\n",
       "      <td>-0.087743</td>\n",
       "      <td>0.660173</td>\n",
       "      <td>-0.715156</td>\n",
       "      <td>...</td>\n",
       "      <td>-0.633610</td>\n",
       "      <td>-0.680719</td>\n",
       "      <td>-0.718688</td>\n",
       "      <td>-0.058586</td>\n",
       "      <td>-0.511585</td>\n",
       "      <td>-0.676486</td>\n",
       "      <td>-0.726017</td>\n",
       "      <td>-0.624523</td>\n",
       "      <td>-0.426583</td>\n",
       "      <td>0.303975</td>\n",
       "    </tr>\n",
       "    <tr>\n",
       "      <th>Madagascar</th>\n",
       "      <td>-0.856914</td>\n",
       "      <td>NaN</td>\n",
       "      <td>NaN</td>\n",
       "      <td>0.645772</td>\n",
       "      <td>-0.892131</td>\n",
       "      <td>-0.962947</td>\n",
       "      <td>-0.957361</td>\n",
       "      <td>NaN</td>\n",
       "      <td>0.955664</td>\n",
       "      <td>-0.963204</td>\n",
       "      <td>...</td>\n",
       "      <td>-0.967226</td>\n",
       "      <td>-0.944561</td>\n",
       "      <td>-0.334297</td>\n",
       "      <td>-0.278199</td>\n",
       "      <td>0.012878</td>\n",
       "      <td>0.718184</td>\n",
       "      <td>0.500264</td>\n",
       "      <td>NaN</td>\n",
       "      <td>NaN</td>\n",
       "      <td>0.943587</td>\n",
       "    </tr>\n",
       "    <tr>\n",
       "      <th>Eritrea</th>\n",
       "      <td>0.082339</td>\n",
       "      <td>NaN</td>\n",
       "      <td>NaN</td>\n",
       "      <td>0.851891</td>\n",
       "      <td>-0.776769</td>\n",
       "      <td>-0.523883</td>\n",
       "      <td>-0.885355</td>\n",
       "      <td>NaN</td>\n",
       "      <td>0.888279</td>\n",
       "      <td>-0.807013</td>\n",
       "      <td>...</td>\n",
       "      <td>NaN</td>\n",
       "      <td>NaN</td>\n",
       "      <td>0.152375</td>\n",
       "      <td>-0.104903</td>\n",
       "      <td>0.389283</td>\n",
       "      <td>0.869285</td>\n",
       "      <td>NaN</td>\n",
       "      <td>NaN</td>\n",
       "      <td>NaN</td>\n",
       "      <td>0.864085</td>\n",
       "    </tr>\n",
       "  </tbody>\n",
       "</table>\n",
       "<p>176 rows × 21 columns</p>\n",
       "</div>"
      ],
      "text/plain": [
       "              AgriShareGDP  CreditToAgriFishForest  EmploymentRural  \\\n",
       "Aruba             0.374165               -0.603524              NaN   \n",
       "Benin             0.558550               -0.286368              NaN   \n",
       "Turkmenistan     -0.916581                     NaN              NaN   \n",
       "Jordan            0.929244               -0.828580              NaN   \n",
       "Belgium          -0.929181                0.322773         0.624761   \n",
       "...                    ...                     ...              ...   \n",
       "Luxembourg       -0.908405                     NaN         0.701596   \n",
       "Morocco          -0.421513                     NaN              NaN   \n",
       "Portugal         -0.937049                     NaN        -0.519219   \n",
       "Madagascar       -0.856914                     NaN              NaN   \n",
       "Eritrea           0.082339                     NaN              NaN   \n",
       "\n",
       "              TotalAgri  % Soldiers  Birth Rate  Death Rate  Homicides  \\\n",
       "Aruba               NaN         NaN   -0.781544    0.830859        NaN   \n",
       "Benin               NaN    0.170007   -0.991869   -0.966781        NaN   \n",
       "Turkmenistan  -0.346547    0.651004    0.499399   -0.945071        NaN   \n",
       "Jordan         0.979891   -0.925262   -0.969768   -0.750168        NaN   \n",
       "Belgium        0.740459   -0.792708   -0.133794   -0.812403  -0.803133   \n",
       "...                 ...         ...         ...         ...        ...   \n",
       "Luxembourg     0.874445   -0.802340   -0.881778   -0.895747  -0.462688   \n",
       "Morocco        0.864131   -0.984657   -0.778574   -0.977643  -0.418194   \n",
       "Portugal       0.941841   -0.364885   -0.684102    0.024278  -0.087743   \n",
       "Madagascar     0.645772   -0.892131   -0.962947   -0.957361        NaN   \n",
       "Eritrea        0.851891   -0.776769   -0.523883   -0.885355        NaN   \n",
       "\n",
       "              Life Expectancy  Maternal Death Risk  ...  % Population Growth  \\\n",
       "Aruba                0.854511                  NaN  ...            -0.802325   \n",
       "Benin                0.975262            -0.985662  ...            -0.920561   \n",
       "Turkmenistan         0.972749            -0.909132  ...             0.886601   \n",
       "Jordan               0.987968            -0.989961  ...             0.044476   \n",
       "Belgium              0.905131            -0.727397  ...             0.486578   \n",
       "...                       ...                  ...  ...                  ...   \n",
       "Luxembourg           0.947738            -0.930404  ...             0.820628   \n",
       "Morocco              0.988583            -0.976531  ...             0.696034   \n",
       "Portugal             0.660173            -0.715156  ...            -0.633610   \n",
       "Madagascar           0.955664            -0.963204  ...            -0.967226   \n",
       "Eritrea              0.888279            -0.807013  ...                  NaN   \n",
       "\n",
       "              % Rural Population  Civil Liberties  Freedom of Expression  \\\n",
       "Aruba                   0.818422              NaN                    NaN   \n",
       "Benin                  -0.991571         0.577200              -0.775903   \n",
       "Turkmenistan           -0.949027         0.858904               0.688642   \n",
       "Jordan                 -0.992862         0.573174               0.940235   \n",
       "Belgium                -0.876868        -0.389193               0.412971   \n",
       "...                          ...              ...                    ...   \n",
       "Luxembourg             -0.965204              NaN                    NaN   \n",
       "Morocco                -0.946684         0.498563               0.485657   \n",
       "Portugal               -0.680719        -0.718688              -0.058586   \n",
       "Madagascar             -0.944561        -0.334297              -0.278199   \n",
       "Eritrea                      NaN         0.152375              -0.104903   \n",
       "\n",
       "              % Healthcare Investment  % Employment Industry  \\\n",
       "Aruba                             NaN                    NaN   \n",
       "Benin                       -0.672851               0.213531   \n",
       "Turkmenistan                -0.827310               0.480286   \n",
       "Jordan                       0.116714              -0.936668   \n",
       "Belgium                      0.855358              -0.808523   \n",
       "...                               ...                    ...   \n",
       "Luxembourg                  -0.703552              -0.961775   \n",
       "Morocco                      0.843802               0.811457   \n",
       "Portugal                    -0.511585              -0.676486   \n",
       "Madagascar                   0.012878               0.718184   \n",
       "Eritrea                      0.389283               0.869285   \n",
       "\n",
       "              % Education Expenditure  % Men Employment  % Women Employment  \\\n",
       "Aruba                             NaN               NaN                 NaN   \n",
       "Benin                        0.295571               NaN                 NaN   \n",
       "Turkmenistan                      NaN               NaN                 NaN   \n",
       "Jordan                            NaN               NaN                 NaN   \n",
       "Belgium                           NaN         -0.701513            0.952283   \n",
       "...                               ...               ...                 ...   \n",
       "Luxembourg                        NaN         -0.567939            0.944644   \n",
       "Morocco                           NaN               NaN                 NaN   \n",
       "Portugal                    -0.726017         -0.624523           -0.426583   \n",
       "Madagascar                   0.500264               NaN                 NaN   \n",
       "Eritrea                           NaN               NaN                 NaN   \n",
       "\n",
       "              Population  \n",
       "Aruba           0.903113  \n",
       "Benin           0.992396  \n",
       "Turkmenistan    0.950749  \n",
       "Jordan          0.994118  \n",
       "Belgium         0.850310  \n",
       "...                  ...  \n",
       "Luxembourg      0.898705  \n",
       "Morocco         0.937438  \n",
       "Portugal        0.303975  \n",
       "Madagascar      0.943587  \n",
       "Eritrea         0.864085  \n",
       "\n",
       "[176 rows x 21 columns]"
      ]
     },
     "execution_count": 4,
     "metadata": {},
     "output_type": "execute_result"
    }
   ],
   "source": [
    "#Clean the data deleting rows or columns with too many missing values\n",
    "clean_corr_df = corr_df\n",
    "\n",
    "#Indicators with no correlations\n",
    "clean_corr_df = corr_df.dropna(axis = 'columns', how = 'all')\n",
    "clean_corr_df\n",
    "\n",
    "#clean_corr_df = clean_corr_df.dropna(axis = 'rows', thresh = 10)\n",
    "\n",
    "cols = set(corr_df.columns) - set(clean_corr_df.columns)\n",
    "print(cols)\n",
    "clean_corr_df"
   ]
  },
  {
   "cell_type": "code",
   "execution_count": 4,
   "metadata": {},
   "outputs": [
    {
     "name": "stdout",
     "output_type": "stream",
     "text": [
      "123.2\n",
      "18\n",
      "102\n"
     ]
    }
   ],
   "source": [
    "#Countries still with not enough indicators\n",
    "#How many countries would remain depending on the threshold we use for indicators?\n",
    "\n",
    "dict_count = {}\n",
    "\n",
    "n_indicators = len(clean_corr_df.columns)\n",
    "\n",
    "for i in range(0, n_indicators + 1):\n",
    "    dict_count[i] = 0\n",
    "\n",
    "for country in clean_corr_df.index:\n",
    "    count = clean_corr_df.loc[country].count()\n",
    "    dict_count[count] += 1\n",
    "\n",
    "dict_count\n",
    "\n",
    "i = n_indicators - 1\n",
    "while i >= 0:\n",
    "    dict_count[i] += dict_count[i + 1]\n",
    "    i -= 1\n",
    "dict_count\n",
    "\n",
    "min = max(dict_count.values()) * 0.8\n",
    "for i in range(1, len(dict_count)):\n",
    "    if dict_count[i] < min:\n",
    "        threshold = dict_count[i]\n",
    "        break\n",
    "    i += i\n",
    "\n",
    "\n",
    "#print(len(dict_count))\n",
    "print(min)\n",
    "print(i)\n",
    "print(threshold)"
   ]
  },
  {
   "cell_type": "code",
   "execution_count": null,
   "metadata": {},
   "outputs": [],
   "source": []
  },
  {
   "cell_type": "code",
   "execution_count": 6,
   "metadata": {},
   "outputs": [
    {
     "name": "stdout",
     "output_type": "stream",
     "text": [
      "Empty DataFrame\n",
      "Columns: []\n",
      "Index: []\n",
      "          Country Indicators\n",
      "0           Aruba          8\n",
      "1           Benin         16\n",
      "2    Turkmenistan         15\n",
      "3          Jordan         16\n",
      "4         Belgium         20\n",
      "..            ...        ...\n",
      "171    Luxembourg         17\n",
      "172       Morocco         16\n",
      "173      Portugal         20\n",
      "174    Madagascar         16\n",
      "175       Eritrea         13\n",
      "\n",
      "[176 rows x 2 columns]\n",
      "['Aruba', 'Benin', 'Turkmenistan', 'Jordan', 'Belgium', 'Nepal', 'Jamaica', 'North Macedonia', 'India', 'Norway', 'Cuba', 'Rwanda', 'Sweden', 'Kiribati', 'Belize', 'Tunisia', 'Dominican Republic', 'Switzerland', 'Antigua and Barbuda', 'Zimbabwe', 'Gabon', 'Myanmar', 'Estonia', 'Libya', 'New Caledonia', 'Albania', 'French Polynesia', 'Malta', 'Ecuador', 'Bahrain', 'Tuvalu', 'Suriname', 'Zambia', 'Papua New Guinea', 'Sierra Leone', 'Finland', 'Cambodia', 'Ireland', 'Kenya', 'Indonesia', 'Namibia', 'Puerto Rico', 'Serbia', 'Cyprus', 'Argentina', 'Singapore', 'Mexico', 'Vanuatu', 'Malawi', 'Central African Republic', 'Pakistan', 'Angola', 'Tajikistan', 'Iceland', 'San Marino', 'Nauru', 'Eswatini', 'Somalia', 'China', 'Grenada', 'Samoa', 'Chile', 'Kuwait', 'Mali', 'Nigeria', 'Japan', 'Yemen', 'Netherlands', 'South Africa', 'Bangladesh', 'El Salvador', 'Panama', 'Germany', 'Fiji', 'Solomon Islands', 'Uganda', 'Romania', 'Ukraine', 'Azerbaijan', 'Uzbekistan', 'Uruguay', 'Dominica', 'Lesotho', 'Trinidad and Tobago', 'Lebanon', 'Mauritius', 'Belarus', 'Botswana', 'United Arab Emirates', 'Honduras', 'Egypt', 'Mauritania', 'South Sudan', 'Latvia', 'Gambia', 'Poland', 'Costa Rica', 'Seychelles', 'Palau', 'Canada', 'Oman', 'Cameroon', 'Liechtenstein', 'Equatorial Guinea', 'Australia', 'France', 'Sao Tome and Principe', 'Armenia', 'Ghana', 'Qatar', 'Liberia', 'Czechia', 'Philippines', 'Afghanistan', 'Andorra', 'Tonga', 'Croatia', 'Guinea', 'Georgia', 'Marshall Islands', 'Sri Lanka', 'New Zealand', 'Spain', 'Bulgaria', 'Chad', 'Kyrgyzstan', 'Algeria', 'Saudi Arabia', 'Nicaragua', 'Ethiopia', 'Cayman Islands', 'Niger', 'Slovenia', 'Lithuania', 'Brazil', 'Peru', 'Austria', 'Guinea-Bissau', 'Paraguay', 'Senegal', 'Saint Lucia', 'Comoros', 'Kazakhstan', 'Maldives', 'Bhutan', 'Mozambique', 'Congo', 'Barbados', 'Djibouti', 'Italy', 'Malaysia', 'Colombia', 'Guatemala', 'Montenegro', 'Guyana', 'Haiti', 'Denmark', 'Mongolia', 'Israel', 'Thailand', 'Bosnia and Herzegovina', 'Togo', 'Iraq', 'Bermuda', 'Slovakia', 'Greece', 'Greenland', 'Sudan', 'Hungary', 'Burundi', 'Burkina Faso', 'Luxembourg', 'Morocco', 'Portugal', 'Madagascar', 'Eritrea']\n"
     ]
    },
    {
     "data": {
      "application/vnd.plotly.v1+json": {
       "config": {
        "plotlyServerURL": "https://plot.ly"
       },
       "data": [
        {
         "colorscale": [
          [
           0,
           "#636efa"
          ],
          [
           1,
           "#636efa"
          ]
         ],
         "geo": "geo",
         "hovertemplate": "<b>%{hovertext}</b><br><br>Indicators=8<br>Country=%{location}<extra></extra>",
         "hovertext": [
          "Aruba",
          "New Caledonia",
          "French Polynesia",
          "San Marino",
          "Dominica",
          "Palau",
          "Congo",
          "Greenland"
         ],
         "locationmode": "country names",
         "locations": [
          "Aruba",
          "New Caledonia",
          "French Polynesia",
          "San Marino",
          "Dominica",
          "Palau",
          "Congo",
          "Greenland"
         ],
         "name": "8",
         "showlegend": true,
         "showscale": false,
         "type": "choropleth",
         "z": [
          1,
          1,
          1,
          1,
          1,
          1,
          1,
          1
         ]
        },
        {
         "colorscale": [
          [
           0,
           "#EF553B"
          ],
          [
           1,
           "#EF553B"
          ]
         ],
         "geo": "geo",
         "hovertemplate": "<b>%{hovertext}</b><br><br>Indicators=16<br>Country=%{location}<extra></extra>",
         "hovertext": [
          "Benin",
          "Jordan",
          "North Macedonia",
          "Rwanda",
          "Tunisia",
          "Albania",
          "Zambia",
          "Cambodia",
          "Singapore",
          "Malawi",
          "Nigeria",
          "Botswana",
          "Honduras",
          "Oman",
          "Cameroon",
          "Guinea",
          "Georgia",
          "Sri Lanka",
          "Ethiopia",
          "Guinea-Bissau",
          "Bhutan",
          "Mozambique",
          "Guatemala",
          "Mongolia",
          "Bosnia and Herzegovina",
          "Burundi",
          "Morocco",
          "Madagascar"
         ],
         "locationmode": "country names",
         "locations": [
          "Benin",
          "Jordan",
          "North Macedonia",
          "Rwanda",
          "Tunisia",
          "Albania",
          "Zambia",
          "Cambodia",
          "Singapore",
          "Malawi",
          "Nigeria",
          "Botswana",
          "Honduras",
          "Oman",
          "Cameroon",
          "Guinea",
          "Georgia",
          "Sri Lanka",
          "Ethiopia",
          "Guinea-Bissau",
          "Bhutan",
          "Mozambique",
          "Guatemala",
          "Mongolia",
          "Bosnia and Herzegovina",
          "Burundi",
          "Morocco",
          "Madagascar"
         ],
         "name": "16",
         "showlegend": true,
         "showscale": false,
         "type": "choropleth",
         "z": [
          1,
          1,
          1,
          1,
          1,
          1,
          1,
          1,
          1,
          1,
          1,
          1,
          1,
          1,
          1,
          1,
          1,
          1,
          1,
          1,
          1,
          1,
          1,
          1,
          1,
          1,
          1,
          1
         ]
        },
        {
         "colorscale": [
          [
           0,
           "#00cc96"
          ],
          [
           1,
           "#00cc96"
          ]
         ],
         "geo": "geo",
         "hovertemplate": "<b>%{hovertext}</b><br><br>Indicators=15<br>Country=%{location}<extra></extra>",
         "hovertext": [
          "Turkmenistan",
          "Cuba",
          "Belize",
          "Myanmar",
          "Bahrain",
          "Suriname",
          "Papua New Guinea",
          "Sierra Leone",
          "Namibia",
          "Serbia",
          "Vanuatu",
          "Tajikistan",
          "China",
          "Fiji",
          "Uganda",
          "Lebanon",
          "United Arab Emirates",
          "Equatorial Guinea",
          "Qatar",
          "Liberia",
          "Algeria",
          "Saudi Arabia",
          "Kazakhstan",
          "Maldives",
          "Iraq"
         ],
         "locationmode": "country names",
         "locations": [
          "Turkmenistan",
          "Cuba",
          "Belize",
          "Myanmar",
          "Bahrain",
          "Suriname",
          "Papua New Guinea",
          "Sierra Leone",
          "Namibia",
          "Serbia",
          "Vanuatu",
          "Tajikistan",
          "China",
          "Fiji",
          "Uganda",
          "Lebanon",
          "United Arab Emirates",
          "Equatorial Guinea",
          "Qatar",
          "Liberia",
          "Algeria",
          "Saudi Arabia",
          "Kazakhstan",
          "Maldives",
          "Iraq"
         ],
         "name": "15",
         "showlegend": true,
         "showscale": false,
         "type": "choropleth",
         "z": [
          1,
          1,
          1,
          1,
          1,
          1,
          1,
          1,
          1,
          1,
          1,
          1,
          1,
          1,
          1,
          1,
          1,
          1,
          1,
          1,
          1,
          1,
          1,
          1,
          1
         ]
        },
        {
         "colorscale": [
          [
           0,
           "#ab63fa"
          ],
          [
           1,
           "#ab63fa"
          ]
         ],
         "geo": "geo",
         "hovertemplate": "<b>%{hovertext}</b><br><br>Indicators=20<br>Country=%{location}<extra></extra>",
         "hovertext": [
          "Belgium",
          "Sweden",
          "Finland",
          "Cyprus",
          "Netherlands",
          "Germany",
          "Latvia",
          "New Zealand",
          "Slovenia",
          "Lithuania",
          "Austria",
          "Italy",
          "Colombia",
          "Denmark",
          "Israel",
          "Greece",
          "Portugal"
         ],
         "locationmode": "country names",
         "locations": [
          "Belgium",
          "Sweden",
          "Finland",
          "Cyprus",
          "Netherlands",
          "Germany",
          "Latvia",
          "New Zealand",
          "Slovenia",
          "Lithuania",
          "Austria",
          "Italy",
          "Colombia",
          "Denmark",
          "Israel",
          "Greece",
          "Portugal"
         ],
         "name": "20",
         "showlegend": true,
         "showscale": false,
         "type": "choropleth",
         "z": [
          1,
          1,
          1,
          1,
          1,
          1,
          1,
          1,
          1,
          1,
          1,
          1,
          1,
          1,
          1,
          1,
          1
         ]
        },
        {
         "colorscale": [
          [
           0,
           "#FFA15A"
          ],
          [
           1,
           "#FFA15A"
          ]
         ],
         "geo": "geo",
         "hovertemplate": "<b>%{hovertext}</b><br><br>Indicators=18<br>Country=%{location}<extra></extra>",
         "hovertext": [
          "Nepal",
          "Jamaica",
          "Dominican Republic",
          "Argentina",
          "Chile",
          "South Africa",
          "El Salvador",
          "Ghana",
          "Guyana"
         ],
         "locationmode": "country names",
         "locations": [
          "Nepal",
          "Jamaica",
          "Dominican Republic",
          "Argentina",
          "Chile",
          "South Africa",
          "El Salvador",
          "Ghana",
          "Guyana"
         ],
         "name": "18",
         "showlegend": true,
         "showscale": false,
         "type": "choropleth",
         "z": [
          1,
          1,
          1,
          1,
          1,
          1,
          1,
          1,
          1
         ]
        },
        {
         "colorscale": [
          [
           0,
           "#19d3f3"
          ],
          [
           1,
           "#19d3f3"
          ]
         ],
         "geo": "geo",
         "hovertemplate": "<b>%{hovertext}</b><br><br>Indicators=17<br>Country=%{location}<extra></extra>",
         "hovertext": [
          "India",
          "Ecuador",
          "Kenya",
          "Pakistan",
          "Mali",
          "Bangladesh",
          "Panama",
          "Ukraine",
          "Azerbaijan",
          "Uruguay",
          "Trinidad and Tobago",
          "Mauritius",
          "Belarus",
          "Armenia",
          "Croatia",
          "Nicaragua",
          "Niger",
          "Brazil",
          "Peru",
          "Paraguay",
          "Senegal",
          "Barbados",
          "Malaysia",
          "Togo",
          "Burkina Faso",
          "Luxembourg"
         ],
         "locationmode": "country names",
         "locations": [
          "India",
          "Ecuador",
          "Kenya",
          "Pakistan",
          "Mali",
          "Bangladesh",
          "Panama",
          "Ukraine",
          "Azerbaijan",
          "Uruguay",
          "Trinidad and Tobago",
          "Mauritius",
          "Belarus",
          "Armenia",
          "Croatia",
          "Nicaragua",
          "Niger",
          "Brazil",
          "Peru",
          "Paraguay",
          "Senegal",
          "Barbados",
          "Malaysia",
          "Togo",
          "Burkina Faso",
          "Luxembourg"
         ],
         "name": "17",
         "showlegend": true,
         "showscale": false,
         "type": "choropleth",
         "z": [
          1,
          1,
          1,
          1,
          1,
          1,
          1,
          1,
          1,
          1,
          1,
          1,
          1,
          1,
          1,
          1,
          1,
          1,
          1,
          1,
          1,
          1,
          1,
          1,
          1,
          1
         ]
        },
        {
         "colorscale": [
          [
           0,
           "#FF6692"
          ],
          [
           1,
           "#FF6692"
          ]
         ],
         "geo": "geo",
         "hovertemplate": "<b>%{hovertext}</b><br><br>Indicators=19<br>Country=%{location}<extra></extra>",
         "hovertext": [
          "Norway",
          "Switzerland",
          "Malta",
          "Indonesia",
          "Iceland",
          "Japan",
          "Romania",
          "Poland",
          "Canada",
          "Australia",
          "France",
          "Philippines",
          "Bulgaria",
          "Thailand"
         ],
         "locationmode": "country names",
         "locations": [
          "Norway",
          "Switzerland",
          "Malta",
          "Indonesia",
          "Iceland",
          "Japan",
          "Romania",
          "Poland",
          "Canada",
          "Australia",
          "France",
          "Philippines",
          "Bulgaria",
          "Thailand"
         ],
         "name": "19",
         "showlegend": true,
         "showscale": false,
         "type": "choropleth",
         "z": [
          1,
          1,
          1,
          1,
          1,
          1,
          1,
          1,
          1,
          1,
          1,
          1,
          1,
          1
         ]
        },
        {
         "colorscale": [
          [
           0,
           "#B6E880"
          ],
          [
           1,
           "#B6E880"
          ]
         ],
         "geo": "geo",
         "hovertemplate": "<b>%{hovertext}</b><br><br>Indicators=10<br>Country=%{location}<extra></extra>",
         "hovertext": [
          "Kiribati",
          "Gambia",
          "Liechtenstein",
          "Kyrgyzstan"
         ],
         "locationmode": "country names",
         "locations": [
          "Kiribati",
          "Gambia",
          "Liechtenstein",
          "Kyrgyzstan"
         ],
         "name": "10",
         "showlegend": true,
         "showscale": false,
         "type": "choropleth",
         "z": [
          1,
          1,
          1,
          1
         ]
        },
        {
         "colorscale": [
          [
           0,
           "#FF97FF"
          ],
          [
           1,
           "#FF97FF"
          ]
         ],
         "geo": "geo",
         "hovertemplate": "<b>%{hovertext}</b><br><br>Indicators=12<br>Country=%{location}<extra></extra>",
         "hovertext": [
          "Antigua and Barbuda",
          "Libya",
          "Somalia",
          "Grenada"
         ],
         "locationmode": "country names",
         "locations": [
          "Antigua and Barbuda",
          "Libya",
          "Somalia",
          "Grenada"
         ],
         "name": "12",
         "showlegend": true,
         "showscale": false,
         "type": "choropleth",
         "z": [
          1,
          1,
          1,
          1
         ]
        },
        {
         "colorscale": [
          [
           0,
           "#FECB52"
          ],
          [
           1,
           "#FECB52"
          ]
         ],
         "geo": "geo",
         "hovertemplate": "<b>%{hovertext}</b><br><br>Indicators=13<br>Country=%{location}<extra></extra>",
         "hovertext": [
          "Zimbabwe",
          "Kuwait",
          "Solomon Islands",
          "Seychelles",
          "Czechia",
          "Comoros",
          "Montenegro",
          "Haiti",
          "Eritrea"
         ],
         "locationmode": "country names",
         "locations": [
          "Zimbabwe",
          "Kuwait",
          "Solomon Islands",
          "Seychelles",
          "Czechia",
          "Comoros",
          "Montenegro",
          "Haiti",
          "Eritrea"
         ],
         "name": "13",
         "showlegend": true,
         "showscale": false,
         "type": "choropleth",
         "z": [
          1,
          1,
          1,
          1,
          1,
          1,
          1,
          1,
          1
         ]
        },
        {
         "colorscale": [
          [
           0,
           "#636efa"
          ],
          [
           1,
           "#636efa"
          ]
         ],
         "geo": "geo",
         "hovertemplate": "<b>%{hovertext}</b><br><br>Indicators=14<br>Country=%{location}<extra></extra>",
         "hovertext": [
          "Gabon",
          "Central African Republic",
          "Angola",
          "Eswatini",
          "Uzbekistan",
          "Lesotho",
          "Mauritania",
          "Sao Tome and Principe",
          "Afghanistan",
          "Chad",
          "Djibouti"
         ],
         "locationmode": "country names",
         "locations": [
          "Gabon",
          "Central African Republic",
          "Angola",
          "Eswatini",
          "Uzbekistan",
          "Lesotho",
          "Mauritania",
          "Sao Tome and Principe",
          "Afghanistan",
          "Chad",
          "Djibouti"
         ],
         "name": "14",
         "showlegend": true,
         "showscale": false,
         "type": "choropleth",
         "z": [
          1,
          1,
          1,
          1,
          1,
          1,
          1,
          1,
          1,
          1,
          1
         ]
        },
        {
         "colorscale": [
          [
           0,
           "#EF553B"
          ],
          [
           1,
           "#EF553B"
          ]
         ],
         "geo": "geo",
         "hovertemplate": "<b>%{hovertext}</b><br><br>Indicators=21<br>Country=%{location}<extra></extra>",
         "hovertext": [
          "Estonia",
          "Ireland",
          "Mexico",
          "Costa Rica",
          "Spain",
          "Hungary"
         ],
         "locationmode": "country names",
         "locations": [
          "Estonia",
          "Ireland",
          "Mexico",
          "Costa Rica",
          "Spain",
          "Hungary"
         ],
         "name": "21",
         "showlegend": true,
         "showscale": false,
         "type": "choropleth",
         "z": [
          1,
          1,
          1,
          1,
          1,
          1
         ]
        },
        {
         "colorscale": [
          [
           0,
           "#00cc96"
          ],
          [
           1,
           "#00cc96"
          ]
         ],
         "geo": "geo",
         "hovertemplate": "<b>%{hovertext}</b><br><br>Indicators=6<br>Country=%{location}<extra></extra>",
         "hovertext": [
          "Tuvalu",
          "Andorra",
          "Marshall Islands",
          "Saint Lucia"
         ],
         "locationmode": "country names",
         "locations": [
          "Tuvalu",
          "Andorra",
          "Marshall Islands",
          "Saint Lucia"
         ],
         "name": "6",
         "showlegend": true,
         "showscale": false,
         "type": "choropleth",
         "z": [
          1,
          1,
          1,
          1
         ]
        },
        {
         "colorscale": [
          [
           0,
           "#ab63fa"
          ],
          [
           1,
           "#ab63fa"
          ]
         ],
         "geo": "geo",
         "hovertemplate": "<b>%{hovertext}</b><br><br>Indicators=11<br>Country=%{location}<extra></extra>",
         "hovertext": [
          "Puerto Rico",
          "Samoa",
          "Egypt",
          "Tonga",
          "Slovakia"
         ],
         "locationmode": "country names",
         "locations": [
          "Puerto Rico",
          "Samoa",
          "Egypt",
          "Tonga",
          "Slovakia"
         ],
         "name": "11",
         "showlegend": true,
         "showscale": false,
         "type": "choropleth",
         "z": [
          1,
          1,
          1,
          1,
          1
         ]
        },
        {
         "colorscale": [
          [
           0,
           "#FFA15A"
          ],
          [
           1,
           "#FFA15A"
          ]
         ],
         "geo": "geo",
         "hovertemplate": "<b>%{hovertext}</b><br><br>Indicators=5<br>Country=%{location}<extra></extra>",
         "hovertext": [
          "Nauru",
          "Cayman Islands"
         ],
         "locationmode": "country names",
         "locations": [
          "Nauru",
          "Cayman Islands"
         ],
         "name": "5",
         "showlegend": true,
         "showscale": false,
         "type": "choropleth",
         "z": [
          1,
          1
         ]
        },
        {
         "colorscale": [
          [
           0,
           "#19d3f3"
          ],
          [
           1,
           "#19d3f3"
          ]
         ],
         "geo": "geo",
         "hovertemplate": "<b>%{hovertext}</b><br><br>Indicators=9<br>Country=%{location}<extra></extra>",
         "hovertext": [
          "Yemen"
         ],
         "locationmode": "country names",
         "locations": [
          "Yemen"
         ],
         "name": "9",
         "showlegend": true,
         "showscale": false,
         "type": "choropleth",
         "z": [
          1
         ]
        },
        {
         "colorscale": [
          [
           0,
           "#FF6692"
          ],
          [
           1,
           "#FF6692"
          ]
         ],
         "geo": "geo",
         "hovertemplate": "<b>%{hovertext}</b><br><br>Indicators=0<br>Country=%{location}<extra></extra>",
         "hovertext": [
          "South Sudan",
          "Sudan"
         ],
         "locationmode": "country names",
         "locations": [
          "South Sudan",
          "Sudan"
         ],
         "name": "0",
         "showlegend": true,
         "showscale": false,
         "type": "choropleth",
         "z": [
          1,
          1
         ]
        },
        {
         "colorscale": [
          [
           0,
           "#B6E880"
          ],
          [
           1,
           "#B6E880"
          ]
         ],
         "geo": "geo",
         "hovertemplate": "<b>%{hovertext}</b><br><br>Indicators=7<br>Country=%{location}<extra></extra>",
         "hovertext": [
          "Bermuda"
         ],
         "locationmode": "country names",
         "locations": [
          "Bermuda"
         ],
         "name": "7",
         "showlegend": true,
         "showscale": false,
         "type": "choropleth",
         "z": [
          1
         ]
        }
       ],
       "layout": {
        "coloraxis": {
         "showscale": true
        },
        "geo": {
         "center": {},
         "domain": {
          "x": [
           0,
           1
          ],
          "y": [
           0,
           1
          ]
         },
         "projection": {
          "type": "mercator"
         }
        },
        "height": 500,
        "legend": {
         "title": {
          "text": "Indicators"
         },
         "tracegroupgap": 0
        },
        "margin": {
         "t": 60
        },
        "template": {
         "data": {
          "bar": [
           {
            "error_x": {
             "color": "#2a3f5f"
            },
            "error_y": {
             "color": "#2a3f5f"
            },
            "marker": {
             "line": {
              "color": "#E5ECF6",
              "width": 0.5
             },
             "pattern": {
              "fillmode": "overlay",
              "size": 10,
              "solidity": 0.2
             }
            },
            "type": "bar"
           }
          ],
          "barpolar": [
           {
            "marker": {
             "line": {
              "color": "#E5ECF6",
              "width": 0.5
             },
             "pattern": {
              "fillmode": "overlay",
              "size": 10,
              "solidity": 0.2
             }
            },
            "type": "barpolar"
           }
          ],
          "carpet": [
           {
            "aaxis": {
             "endlinecolor": "#2a3f5f",
             "gridcolor": "white",
             "linecolor": "white",
             "minorgridcolor": "white",
             "startlinecolor": "#2a3f5f"
            },
            "baxis": {
             "endlinecolor": "#2a3f5f",
             "gridcolor": "white",
             "linecolor": "white",
             "minorgridcolor": "white",
             "startlinecolor": "#2a3f5f"
            },
            "type": "carpet"
           }
          ],
          "choropleth": [
           {
            "colorbar": {
             "outlinewidth": 0,
             "ticks": ""
            },
            "type": "choropleth"
           }
          ],
          "contour": [
           {
            "colorbar": {
             "outlinewidth": 0,
             "ticks": ""
            },
            "colorscale": [
             [
              0,
              "#0d0887"
             ],
             [
              0.1111111111111111,
              "#46039f"
             ],
             [
              0.2222222222222222,
              "#7201a8"
             ],
             [
              0.3333333333333333,
              "#9c179e"
             ],
             [
              0.4444444444444444,
              "#bd3786"
             ],
             [
              0.5555555555555556,
              "#d8576b"
             ],
             [
              0.6666666666666666,
              "#ed7953"
             ],
             [
              0.7777777777777778,
              "#fb9f3a"
             ],
             [
              0.8888888888888888,
              "#fdca26"
             ],
             [
              1,
              "#f0f921"
             ]
            ],
            "type": "contour"
           }
          ],
          "contourcarpet": [
           {
            "colorbar": {
             "outlinewidth": 0,
             "ticks": ""
            },
            "type": "contourcarpet"
           }
          ],
          "heatmap": [
           {
            "colorbar": {
             "outlinewidth": 0,
             "ticks": ""
            },
            "colorscale": [
             [
              0,
              "#0d0887"
             ],
             [
              0.1111111111111111,
              "#46039f"
             ],
             [
              0.2222222222222222,
              "#7201a8"
             ],
             [
              0.3333333333333333,
              "#9c179e"
             ],
             [
              0.4444444444444444,
              "#bd3786"
             ],
             [
              0.5555555555555556,
              "#d8576b"
             ],
             [
              0.6666666666666666,
              "#ed7953"
             ],
             [
              0.7777777777777778,
              "#fb9f3a"
             ],
             [
              0.8888888888888888,
              "#fdca26"
             ],
             [
              1,
              "#f0f921"
             ]
            ],
            "type": "heatmap"
           }
          ],
          "heatmapgl": [
           {
            "colorbar": {
             "outlinewidth": 0,
             "ticks": ""
            },
            "colorscale": [
             [
              0,
              "#0d0887"
             ],
             [
              0.1111111111111111,
              "#46039f"
             ],
             [
              0.2222222222222222,
              "#7201a8"
             ],
             [
              0.3333333333333333,
              "#9c179e"
             ],
             [
              0.4444444444444444,
              "#bd3786"
             ],
             [
              0.5555555555555556,
              "#d8576b"
             ],
             [
              0.6666666666666666,
              "#ed7953"
             ],
             [
              0.7777777777777778,
              "#fb9f3a"
             ],
             [
              0.8888888888888888,
              "#fdca26"
             ],
             [
              1,
              "#f0f921"
             ]
            ],
            "type": "heatmapgl"
           }
          ],
          "histogram": [
           {
            "marker": {
             "pattern": {
              "fillmode": "overlay",
              "size": 10,
              "solidity": 0.2
             }
            },
            "type": "histogram"
           }
          ],
          "histogram2d": [
           {
            "colorbar": {
             "outlinewidth": 0,
             "ticks": ""
            },
            "colorscale": [
             [
              0,
              "#0d0887"
             ],
             [
              0.1111111111111111,
              "#46039f"
             ],
             [
              0.2222222222222222,
              "#7201a8"
             ],
             [
              0.3333333333333333,
              "#9c179e"
             ],
             [
              0.4444444444444444,
              "#bd3786"
             ],
             [
              0.5555555555555556,
              "#d8576b"
             ],
             [
              0.6666666666666666,
              "#ed7953"
             ],
             [
              0.7777777777777778,
              "#fb9f3a"
             ],
             [
              0.8888888888888888,
              "#fdca26"
             ],
             [
              1,
              "#f0f921"
             ]
            ],
            "type": "histogram2d"
           }
          ],
          "histogram2dcontour": [
           {
            "colorbar": {
             "outlinewidth": 0,
             "ticks": ""
            },
            "colorscale": [
             [
              0,
              "#0d0887"
             ],
             [
              0.1111111111111111,
              "#46039f"
             ],
             [
              0.2222222222222222,
              "#7201a8"
             ],
             [
              0.3333333333333333,
              "#9c179e"
             ],
             [
              0.4444444444444444,
              "#bd3786"
             ],
             [
              0.5555555555555556,
              "#d8576b"
             ],
             [
              0.6666666666666666,
              "#ed7953"
             ],
             [
              0.7777777777777778,
              "#fb9f3a"
             ],
             [
              0.8888888888888888,
              "#fdca26"
             ],
             [
              1,
              "#f0f921"
             ]
            ],
            "type": "histogram2dcontour"
           }
          ],
          "mesh3d": [
           {
            "colorbar": {
             "outlinewidth": 0,
             "ticks": ""
            },
            "type": "mesh3d"
           }
          ],
          "parcoords": [
           {
            "line": {
             "colorbar": {
              "outlinewidth": 0,
              "ticks": ""
             }
            },
            "type": "parcoords"
           }
          ],
          "pie": [
           {
            "automargin": true,
            "type": "pie"
           }
          ],
          "scatter": [
           {
            "fillpattern": {
             "fillmode": "overlay",
             "size": 10,
             "solidity": 0.2
            },
            "type": "scatter"
           }
          ],
          "scatter3d": [
           {
            "line": {
             "colorbar": {
              "outlinewidth": 0,
              "ticks": ""
             }
            },
            "marker": {
             "colorbar": {
              "outlinewidth": 0,
              "ticks": ""
             }
            },
            "type": "scatter3d"
           }
          ],
          "scattercarpet": [
           {
            "marker": {
             "colorbar": {
              "outlinewidth": 0,
              "ticks": ""
             }
            },
            "type": "scattercarpet"
           }
          ],
          "scattergeo": [
           {
            "marker": {
             "colorbar": {
              "outlinewidth": 0,
              "ticks": ""
             }
            },
            "type": "scattergeo"
           }
          ],
          "scattergl": [
           {
            "marker": {
             "colorbar": {
              "outlinewidth": 0,
              "ticks": ""
             }
            },
            "type": "scattergl"
           }
          ],
          "scattermapbox": [
           {
            "marker": {
             "colorbar": {
              "outlinewidth": 0,
              "ticks": ""
             }
            },
            "type": "scattermapbox"
           }
          ],
          "scatterpolar": [
           {
            "marker": {
             "colorbar": {
              "outlinewidth": 0,
              "ticks": ""
             }
            },
            "type": "scatterpolar"
           }
          ],
          "scatterpolargl": [
           {
            "marker": {
             "colorbar": {
              "outlinewidth": 0,
              "ticks": ""
             }
            },
            "type": "scatterpolargl"
           }
          ],
          "scatterternary": [
           {
            "marker": {
             "colorbar": {
              "outlinewidth": 0,
              "ticks": ""
             }
            },
            "type": "scatterternary"
           }
          ],
          "surface": [
           {
            "colorbar": {
             "outlinewidth": 0,
             "ticks": ""
            },
            "colorscale": [
             [
              0,
              "#0d0887"
             ],
             [
              0.1111111111111111,
              "#46039f"
             ],
             [
              0.2222222222222222,
              "#7201a8"
             ],
             [
              0.3333333333333333,
              "#9c179e"
             ],
             [
              0.4444444444444444,
              "#bd3786"
             ],
             [
              0.5555555555555556,
              "#d8576b"
             ],
             [
              0.6666666666666666,
              "#ed7953"
             ],
             [
              0.7777777777777778,
              "#fb9f3a"
             ],
             [
              0.8888888888888888,
              "#fdca26"
             ],
             [
              1,
              "#f0f921"
             ]
            ],
            "type": "surface"
           }
          ],
          "table": [
           {
            "cells": {
             "fill": {
              "color": "#EBF0F8"
             },
             "line": {
              "color": "white"
             }
            },
            "header": {
             "fill": {
              "color": "#C8D4E3"
             },
             "line": {
              "color": "white"
             }
            },
            "type": "table"
           }
          ]
         },
         "layout": {
          "annotationdefaults": {
           "arrowcolor": "#2a3f5f",
           "arrowhead": 0,
           "arrowwidth": 1
          },
          "autotypenumbers": "strict",
          "coloraxis": {
           "colorbar": {
            "outlinewidth": 0,
            "ticks": ""
           }
          },
          "colorscale": {
           "diverging": [
            [
             0,
             "#8e0152"
            ],
            [
             0.1,
             "#c51b7d"
            ],
            [
             0.2,
             "#de77ae"
            ],
            [
             0.3,
             "#f1b6da"
            ],
            [
             0.4,
             "#fde0ef"
            ],
            [
             0.5,
             "#f7f7f7"
            ],
            [
             0.6,
             "#e6f5d0"
            ],
            [
             0.7,
             "#b8e186"
            ],
            [
             0.8,
             "#7fbc41"
            ],
            [
             0.9,
             "#4d9221"
            ],
            [
             1,
             "#276419"
            ]
           ],
           "sequential": [
            [
             0,
             "#0d0887"
            ],
            [
             0.1111111111111111,
             "#46039f"
            ],
            [
             0.2222222222222222,
             "#7201a8"
            ],
            [
             0.3333333333333333,
             "#9c179e"
            ],
            [
             0.4444444444444444,
             "#bd3786"
            ],
            [
             0.5555555555555556,
             "#d8576b"
            ],
            [
             0.6666666666666666,
             "#ed7953"
            ],
            [
             0.7777777777777778,
             "#fb9f3a"
            ],
            [
             0.8888888888888888,
             "#fdca26"
            ],
            [
             1,
             "#f0f921"
            ]
           ],
           "sequentialminus": [
            [
             0,
             "#0d0887"
            ],
            [
             0.1111111111111111,
             "#46039f"
            ],
            [
             0.2222222222222222,
             "#7201a8"
            ],
            [
             0.3333333333333333,
             "#9c179e"
            ],
            [
             0.4444444444444444,
             "#bd3786"
            ],
            [
             0.5555555555555556,
             "#d8576b"
            ],
            [
             0.6666666666666666,
             "#ed7953"
            ],
            [
             0.7777777777777778,
             "#fb9f3a"
            ],
            [
             0.8888888888888888,
             "#fdca26"
            ],
            [
             1,
             "#f0f921"
            ]
           ]
          },
          "colorway": [
           "#636efa",
           "#EF553B",
           "#00cc96",
           "#ab63fa",
           "#FFA15A",
           "#19d3f3",
           "#FF6692",
           "#B6E880",
           "#FF97FF",
           "#FECB52"
          ],
          "font": {
           "color": "#2a3f5f"
          },
          "geo": {
           "bgcolor": "white",
           "lakecolor": "white",
           "landcolor": "#E5ECF6",
           "showlakes": true,
           "showland": true,
           "subunitcolor": "white"
          },
          "hoverlabel": {
           "align": "left"
          },
          "hovermode": "closest",
          "mapbox": {
           "style": "light"
          },
          "paper_bgcolor": "white",
          "plot_bgcolor": "#E5ECF6",
          "polar": {
           "angularaxis": {
            "gridcolor": "white",
            "linecolor": "white",
            "ticks": ""
           },
           "bgcolor": "#E5ECF6",
           "radialaxis": {
            "gridcolor": "white",
            "linecolor": "white",
            "ticks": ""
           }
          },
          "scene": {
           "xaxis": {
            "backgroundcolor": "#E5ECF6",
            "gridcolor": "white",
            "gridwidth": 2,
            "linecolor": "white",
            "showbackground": true,
            "ticks": "",
            "zerolinecolor": "white"
           },
           "yaxis": {
            "backgroundcolor": "#E5ECF6",
            "gridcolor": "white",
            "gridwidth": 2,
            "linecolor": "white",
            "showbackground": true,
            "ticks": "",
            "zerolinecolor": "white"
           },
           "zaxis": {
            "backgroundcolor": "#E5ECF6",
            "gridcolor": "white",
            "gridwidth": 2,
            "linecolor": "white",
            "showbackground": true,
            "ticks": "",
            "zerolinecolor": "white"
           }
          },
          "shapedefaults": {
           "line": {
            "color": "#2a3f5f"
           }
          },
          "ternary": {
           "aaxis": {
            "gridcolor": "white",
            "linecolor": "white",
            "ticks": ""
           },
           "baxis": {
            "gridcolor": "white",
            "linecolor": "white",
            "ticks": ""
           },
           "bgcolor": "#E5ECF6",
           "caxis": {
            "gridcolor": "white",
            "linecolor": "white",
            "ticks": ""
           }
          },
          "title": {
           "x": 0.05
          },
          "xaxis": {
           "automargin": true,
           "gridcolor": "white",
           "linecolor": "white",
           "ticks": "",
           "title": {
            "standoff": 15
           },
           "zerolinecolor": "white",
           "zerolinewidth": 2
          },
          "yaxis": {
           "automargin": true,
           "gridcolor": "white",
           "linecolor": "white",
           "ticks": "",
           "title": {
            "standoff": 15
           },
           "zerolinecolor": "white",
           "zerolinewidth": 2
          }
         }
        },
        "width": 700
       }
      }
     },
     "metadata": {},
     "output_type": "display_data"
    },
    {
     "data": {
      "text/plain": [
       "' \\nfig = px.choropleth(grp, locations=\"Country\", locationmode=\\'country names\\', \\n                     color=\"Confirmed\", hover_name=\"Country/Region\",hover_data = [grp.Recovered,grp.Deaths],projection=\"mercator\",\\n                     color_continuous_scale=\\'Reds\\',\\n                 width=700, height=500)\\nfig.update(layout_coloraxis_showscale=True) '"
      ]
     },
     "execution_count": 6,
     "metadata": {},
     "output_type": "execute_result"
    }
   ],
   "source": [
    "#What countries would be deleted?\n",
    "df_count = pd.DataFrame()\n",
    "print(df_count)\n",
    "for country in corr_df.index:\n",
    "    count = corr_df.loc[country].count()\n",
    "    country_series = pd.Series({'Country': country, 'Indicators': count})\n",
    "    df_count = pd.concat([df_count, country_series], axis = 1, ignore_index = True)\n",
    "    #df_count = df_count.append({'Country': country, 'Indicators': count}, ignore_index = True)\n",
    "\n",
    "df_count = df_count.transpose()\n",
    "print(df_count)\n",
    "\n",
    "print(list(df_count['Country']))\n",
    "\n",
    "import plotly.express as px\n",
    "\n",
    "fig = px.choropleth(df_count, locations=\"Country\", locationmode='country names', \n",
    "                     color=\"Indicators\", hover_name=\"Country\",projection=\"mercator\",\n",
    "                     color_continuous_scale='Reds',\n",
    "                 width=700, height=500)\n",
    "fig.update(layout_coloraxis_showscale=True)\n",
    "\n",
    "fig.show()\n",
    "\n",
    "#grp = cases.groupby(['Country/Region'])[['Confirmed', 'Deaths', 'Recovered']].max()\n",
    "#grp = grp.reset_index()\n",
    "#grp['Country'] = grp['Country/Region']\n",
    "\"\"\" \n",
    "fig = px.choropleth(grp, locations=\"Country\", locationmode='country names', \n",
    "                     color=\"Confirmed\", hover_name=\"Country/Region\",hover_data = [grp.Recovered,grp.Deaths],projection=\"mercator\",\n",
    "                     color_continuous_scale='Reds',\n",
    "                 width=700, height=500)\n",
    "fig.update(layout_coloraxis_showscale=True) \"\"\""
   ]
  },
  {
   "cell_type": "code",
   "execution_count": 8,
   "metadata": {},
   "outputs": [
    {
     "name": "stdout",
     "output_type": "stream",
     "text": [
      "[0.9460240087961991, nan, nan, -0.9048494574097632, -0.12371854797069115, 0.12270205658937397, 1.0, -0.8917876557640774, 0.9327389988156117, -0.7463321974728991, -0.8632633962853252, -0.8585387041760761, -0.6994868034513462, 0.4611675663625849, -0.7157045451297489, 0.9400522496239347, -0.14643221388473815, 0.8469271128467977, -0.8209052177881189, -0.05348730973793577, -0.8693777236398561, -0.550825088019285, 0.2409357422835047, 0.5494079426157892, 0.48500564715190936, 0.8110401686027279, -0.7196721763643545, 0.9697921444604378, 0.9714183010547782, 0.18554083188868983, 0.004097463156543827, 0.9479860774850387, 0.9719617821351871]\n"
     ]
    }
   ],
   "source": [
    "#corr_dict = {}\n",
    "\n",
    "cor=country_dict['Spain'].corr()['GDP'].to_list()\n",
    "print(cor)\n",
    "#Correlations and all\n",
    "\n"
   ]
  },
  {
   "cell_type": "code",
   "execution_count": 108,
   "metadata": {},
   "outputs": [],
   "source": [
    "import numpy as np\n",
    "import pandas as pd\n",
    "import matplotlib.pyplot as plt\n",
    "from matplotlib import gridspec\n",
    "from sklearn.cluster import OPTICS, cluster_optics_dbscan\n",
    "from sklearn.preprocessing import normalize, StandardScaler"
   ]
  },
  {
   "cell_type": "code",
   "execution_count": 118,
   "metadata": {},
   "outputs": [
    {
     "name": "stdout",
     "output_type": "stream",
     "text": [
      "[-1 -1 -1 -1  0  0  0  0  0  0  0 -1 -1 -1 -1 -1 -1 -1 -1 -1 -1 -1 -1 -1\n",
      " -1 -1 -1 -1 -1 -1 -1 -1 -1 -1  1  1  1  1  1  1  1  1  1 -1 -1 -1 -1 -1\n",
      " -1 -1 -1 -1 -1 -1 -1 -1 -1 -1 -1 -1 -1 -1 -1 -1 -1 -1 -1 -1 -1 -1 -1 -1\n",
      " -1 -1 -1 -1 -1 -1 -1 -1 -1 -1 -1 -1 -1 -1 -1 -1 -1 -1 -1 -1 -1 -1 -1 -1\n",
      " -1 -1 -1 -1 -1 -1 -1 -1 -1 -1 -1 -1 -1 -1 -1 -1 -1 -1 -1 -1  2  2  2  2\n",
      "  2  2  2  2  2  2  2  2  2  2 -1 -1  3  3  3  3  3  3  3 -1 -1  4  4  4\n",
      "  4  4  4  4  4 -1 -1 -1 -1 -1 -1 -1 -1 -1 -1 -1  5  5  5  5  5 -1 -1 -1\n",
      " -1 -1  6  6  6  6  6 -1 -1 -1 -1 -1 -1 -1 -1 -1 -1 -1 -1 -1 -1 -1 -1 -1\n",
      " -1 -1 -1 -1 -1 -1 -1 -1 -1 -1 -1 -1 -1 -1 -1 -1 -1 -1 -1 -1 -1 -1 -1 -1]\n",
      "216\n"
     ]
    },
    {
     "data": {
      "text/plain": [
       "Text(0.5, 1.0, 'OPTICS Clustering')"
      ]
     },
     "execution_count": 118,
     "metadata": {},
     "output_type": "execute_result"
    },
    {
     "data": {
      "image/png": "[encoded data removed]",
      "text/plain": [
       "<Figure size 720x504 with 4 Axes>"
      ]
     },
     "metadata": {
      "needs_background": "light"
     },
     "output_type": "display_data"
    }
   ],
   "source": [
    "scaler = StandardScaler()\n",
    "corr_df = corr_df.fillna(method ='ffill')\n",
    "corr_df = corr_df.fillna(value = 0)\n",
    "#print(corr_df)\n",
    "df_scaled = scaler.fit_transform(corr_df)\n",
    "df_normalized = normalize(df_scaled)\n",
    "df_normalized = pd.DataFrame(df_normalized)\n",
    "df_normalized.columns = corr_df.columns\n",
    "#df_normalized.head()\n",
    "#print(df_scaled)\n",
    "\n",
    "optics_model = OPTICS(min_samples = 5, xi = 0.05, min_cluster_size = 5)\n",
    "optics_model.fit(df_normalized)\n",
    "\n",
    "labels1 = cluster_optics_dbscan(reachability = optics_model.reachability_,\n",
    "core_distances = optics_model.core_distances_,\n",
    "ordering = optics_model.ordering_, eps = 0.5)\n",
    "\n",
    "space = np.arange(len(df_normalized))\n",
    "reachability = optics_model.reachability_[optics_model.ordering_]\n",
    "labels = optics_model.labels_[optics_model.ordering_]\n",
    "print(labels)\n",
    "print(len(labels))\n",
    "\n",
    "plt.figure(figsize = (10, 7))\n",
    "G = gridspec.GridSpec(2, 3)\n",
    "ax1 = plt.subplot(G[0, :])\n",
    "ax2 = plt.subplot(G[1, 0])\n",
    "ax3 = plt.subplot(G[1, 1])\n",
    "ax4 = plt.subplot(G[1, 2])\n",
    "\n",
    "# Plotting the Reachability-Distance Plot\n",
    "colors = ['c.', 'b.', 'r.', 'y.', 'g.']\n",
    "for Class, colour in zip(range(0, 5), colors):\n",
    "    Xk = space[labels == Class]\n",
    "    Rk = reachability[labels == Class]\n",
    "    ax1.plot(Xk, Rk, colour, alpha = 0.3)\n",
    "ax1.plot(space[labels == -1], reachability[labels == -1], 'k.', alpha = 0.3)\n",
    "ax1.plot(space, np.full_like(space, 2., dtype = float), 'k-', alpha = 0.5)\n",
    "ax1.plot(space, np.full_like(space, 0.5, dtype = float), 'k-.', alpha = 0.5)\n",
    "ax1.set_ylabel('Reachability Distance')\n",
    "ax1.set_title('Reachability Plot')\n",
    "  \n",
    "# Plotting the OPTICS Clustering\n",
    "colors = ['c.', 'b.', 'r.', 'y.', 'g.']\n",
    "for Class, colour in zip(range(0, 5), colors):\n",
    "    Xk = df_normalized[optics_model.labels_ == Class]\n",
    "    ax2.plot(Xk.iloc[:, 0], Xk.iloc[:, 1], colour, alpha = 0.3)\n",
    "      \n",
    "ax2.plot(df_normalized.iloc[optics_model.labels_ == -1, 0],\n",
    "        df_normalized.iloc[optics_model.labels_ == -1, 1],\n",
    "       'k+', alpha = 0.1)\n",
    "ax2.set_title('OPTICS Clustering')\n",
    "  "
   ]
  },
  {
   "cell_type": "code",
   "execution_count": null,
   "metadata": {},
   "outputs": [],
   "source": [
    "\"\"\" #MORRALLA\n",
    "\n",
    "# K-MEANS CLUSTERING\n",
    "# Importing Modules\n",
    "from sklearn import datasets\n",
    "from sklearn.cluster import KMeans\n",
    "import matplotlib.pyplot as plt\n",
    "from sklearn.decomposition import PCA\n",
    "# Loading dataset\n",
    "iris_df = datasets.load_iris()\n",
    "\n",
    "# Declaring Model\n",
    "model = KMeans(n_clusters=3)\n",
    "\n",
    "# Fitting Model\n",
    "model.fit(iris_df.data)\n",
    "\n",
    "# Predicitng a single input\n",
    "predicted_label = model.predict([[7.2, 3.5, 0.8, 1.6]])\n",
    "\n",
    "# Prediction on the entire data\n",
    "all_predictions = model.predict(iris_df.data)\n",
    "\n",
    "# Printing Predictions\n",
    "print(predicted_label)\n",
    "print(all_predictions)\n",
    "\n",
    "\n",
    "# import some data to play with\n",
    "iris = datasets.load_iris()\n",
    "X = iris.data[:, :3]  # we only take the first two features.\n",
    "y = iris.target\n",
    "\n",
    "\n",
    "fig = plt.figure(figsize=(10,10))\n",
    "plt = fig.add_subplot(111, projection='3d')\n",
    "plt.scatter(X[:,0],X[:,1],X[:,2], \n",
    "            c=all_predictions, edgecolor='red', s=40, alpha = 0.5)\n",
    "plt.set_title(\"First three PCA directions\")\n",
    "plt.set_xlabel(\"Educational_Degree\")\n",
    "plt.set_ylabel(\"Gross_Monthly_Salary\")\n",
    "plt.set_zlabel(\"Claim_Rate\")\n",
    "plt.dist = 10\n",
    "plt\n",
    "\n",
    "from sklearn import datasets\n",
    "from sklearn.cluster import KMeans\n",
    "import matplotlib.pyplot as plt\n",
    "from sklearn.decomposition import PCA\n",
    "\n",
    "model = KMeans()\n",
    "res = model.fit_predict(df)\n",
    "\n",
    " \"\"\""
   ]
  }
 ],
 "metadata": {
  "kernelspec": {
   "display_name": "Python 3.10.5 ('.venv': poetry)",
   "language": "python",
   "name": "python3"
  },
  "language_info": {
   "codemirror_mode": {
    "name": "ipython",
    "version": 3
   },
   "file_extension": ".py",
   "mimetype": "text/x-python",
   "name": "python",
   "nbconvert_exporter": "python",
   "pygments_lexer": "ipython3",
   "version": "3.10.5"
  },
  "orig_nbformat": 4,
  "vscode": {
   "interpreter": {
    "hash": "44718ba4235bc6fc2135f9d8856f170c8312ddd29b08710a5ea28d42169e623e"
   }
  }
 },
 "nbformat": 4,
 "nbformat_minor": 2
}
