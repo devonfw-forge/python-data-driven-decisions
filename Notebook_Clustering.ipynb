{
 "cells": [
  {
   "cell_type": "code",
   "execution_count": 1,
   "metadata": {},
   "outputs": [],
   "source": [
    "import os\n",
    "import pandas as pd\n",
    "\n",
    "read_path = os.getcwd()\n",
    "df_url = read_path + '/Output/GoldDataframe.csv'"
   ]
  },
  {
   "cell_type": "code",
   "execution_count": 2,
   "metadata": {},
   "outputs": [],
   "source": [
    "#import warnings\n",
    "#warnings.filterwarnings(\"ignore\")"
   ]
  },
  {
   "cell_type": "code",
   "execution_count": 3,
   "metadata": {},
   "outputs": [
    {
     "data": {
      "text/html": [
       "<div>\n",
       "<style scoped>\n",
       "    .dataframe tbody tr th:only-of-type {\n",
       "        vertical-align: middle;\n",
       "    }\n",
       "\n",
       "    .dataframe tbody tr th {\n",
       "        vertical-align: top;\n",
       "    }\n",
       "\n",
       "    .dataframe thead th {\n",
       "        text-align: right;\n",
       "    }\n",
       "</style>\n",
       "<table border=\"1\" class=\"dataframe\">\n",
       "  <thead>\n",
       "    <tr style=\"text-align: right;\">\n",
       "      <th></th>\n",
       "      <th>% Undernourishment</th>\n",
       "      <th>AgriShareGDP</th>\n",
       "      <th>CreditToAgriFishForest</th>\n",
       "      <th>EmploymentRural</th>\n",
       "      <th>%EmploymentAgriFishForest</th>\n",
       "      <th>% Soldiers</th>\n",
       "      <th>Employment in industry</th>\n",
       "      <th>Employment in services</th>\n",
       "      <th>Birth Rate</th>\n",
       "      <th>Cost business start-up</th>\n",
       "      <th>...</th>\n",
       "      <th>% Rural Population</th>\n",
       "      <th>Tertiary School Gender Parity</th>\n",
       "      <th>Suicide Rate</th>\n",
       "      <th>% Vulnerable female employment</th>\n",
       "      <th>% Vulnerable male employment</th>\n",
       "      <th>Gini</th>\n",
       "      <th>Civil Liberties</th>\n",
       "      <th>Freedom of Expression</th>\n",
       "      <th>% Healthcare Investment</th>\n",
       "      <th>Population</th>\n",
       "    </tr>\n",
       "  </thead>\n",
       "  <tbody>\n",
       "    <tr>\n",
       "      <th>Argentina</th>\n",
       "      <td>-0.694641</td>\n",
       "      <td>-0.503461</td>\n",
       "      <td>0.656928</td>\n",
       "      <td>NaN</td>\n",
       "      <td>-0.724813</td>\n",
       "      <td>-0.696227</td>\n",
       "      <td>0.423928</td>\n",
       "      <td>-0.065609</td>\n",
       "      <td>-0.715829</td>\n",
       "      <td>-0.053572</td>\n",
       "      <td>...</td>\n",
       "      <td>-0.780874</td>\n",
       "      <td>0.780915</td>\n",
       "      <td>-0.360028</td>\n",
       "      <td>-0.288908</td>\n",
       "      <td>-0.512770</td>\n",
       "      <td>-0.854086</td>\n",
       "      <td>0.145350</td>\n",
       "      <td>-0.597334</td>\n",
       "      <td>-0.271214</td>\n",
       "      <td>0.763368</td>\n",
       "    </tr>\n",
       "    <tr>\n",
       "      <th>Senegal</th>\n",
       "      <td>-0.967884</td>\n",
       "      <td>-0.064157</td>\n",
       "      <td>-0.749358</td>\n",
       "      <td>NaN</td>\n",
       "      <td>NaN</td>\n",
       "      <td>-0.751124</td>\n",
       "      <td>0.969599</td>\n",
       "      <td>0.961313</td>\n",
       "      <td>-0.828994</td>\n",
       "      <td>-0.961995</td>\n",
       "      <td>...</td>\n",
       "      <td>-0.960345</td>\n",
       "      <td>0.914266</td>\n",
       "      <td>-0.984000</td>\n",
       "      <td>-0.957135</td>\n",
       "      <td>-0.961607</td>\n",
       "      <td>NaN</td>\n",
       "      <td>0.377412</td>\n",
       "      <td>0.737131</td>\n",
       "      <td>-0.946089</td>\n",
       "      <td>0.950633</td>\n",
       "    </tr>\n",
       "    <tr>\n",
       "      <th>Poland</th>\n",
       "      <td>NaN</td>\n",
       "      <td>-0.510488</td>\n",
       "      <td>NaN</td>\n",
       "      <td>-0.363683</td>\n",
       "      <td>-0.952876</td>\n",
       "      <td>-0.424615</td>\n",
       "      <td>0.704549</td>\n",
       "      <td>0.918627</td>\n",
       "      <td>0.491552</td>\n",
       "      <td>-0.899823</td>\n",
       "      <td>...</td>\n",
       "      <td>0.905010</td>\n",
       "      <td>0.727306</td>\n",
       "      <td>-0.447770</td>\n",
       "      <td>-0.944188</td>\n",
       "      <td>-0.966692</td>\n",
       "      <td>-0.938857</td>\n",
       "      <td>-0.507959</td>\n",
       "      <td>-0.510648</td>\n",
       "      <td>0.904175</td>\n",
       "      <td>-0.827611</td>\n",
       "    </tr>\n",
       "    <tr>\n",
       "      <th>Guatemala</th>\n",
       "      <td>-0.789840</td>\n",
       "      <td>-0.910784</td>\n",
       "      <td>-0.330781</td>\n",
       "      <td>NaN</td>\n",
       "      <td>NaN</td>\n",
       "      <td>-0.780193</td>\n",
       "      <td>-0.822930</td>\n",
       "      <td>0.920172</td>\n",
       "      <td>-0.958764</td>\n",
       "      <td>-0.967957</td>\n",
       "      <td>...</td>\n",
       "      <td>-0.993836</td>\n",
       "      <td>NaN</td>\n",
       "      <td>-0.904996</td>\n",
       "      <td>-0.866821</td>\n",
       "      <td>-0.952079</td>\n",
       "      <td>NaN</td>\n",
       "      <td>0.755812</td>\n",
       "      <td>0.093338</td>\n",
       "      <td>0.800016</td>\n",
       "      <td>0.994983</td>\n",
       "    </tr>\n",
       "    <tr>\n",
       "      <th>Montenegro</th>\n",
       "      <td>-0.921434</td>\n",
       "      <td>-0.925047</td>\n",
       "      <td>NaN</td>\n",
       "      <td>NaN</td>\n",
       "      <td>NaN</td>\n",
       "      <td>NaN</td>\n",
       "      <td>-0.809392</td>\n",
       "      <td>0.847853</td>\n",
       "      <td>-0.748720</td>\n",
       "      <td>NaN</td>\n",
       "      <td>...</td>\n",
       "      <td>-0.934981</td>\n",
       "      <td>-0.520704</td>\n",
       "      <td>0.105303</td>\n",
       "      <td>-0.362766</td>\n",
       "      <td>0.037470</td>\n",
       "      <td>NaN</td>\n",
       "      <td>0.558700</td>\n",
       "      <td>0.825413</td>\n",
       "      <td>NaN</td>\n",
       "      <td>0.951388</td>\n",
       "    </tr>\n",
       "    <tr>\n",
       "      <th>...</th>\n",
       "      <td>...</td>\n",
       "      <td>...</td>\n",
       "      <td>...</td>\n",
       "      <td>...</td>\n",
       "      <td>...</td>\n",
       "      <td>...</td>\n",
       "      <td>...</td>\n",
       "      <td>...</td>\n",
       "      <td>...</td>\n",
       "      <td>...</td>\n",
       "      <td>...</td>\n",
       "      <td>...</td>\n",
       "      <td>...</td>\n",
       "      <td>...</td>\n",
       "      <td>...</td>\n",
       "      <td>...</td>\n",
       "      <td>...</td>\n",
       "      <td>...</td>\n",
       "      <td>...</td>\n",
       "      <td>...</td>\n",
       "      <td>...</td>\n",
       "    </tr>\n",
       "    <tr>\n",
       "      <th>Central African Republic</th>\n",
       "      <td>-0.098914</td>\n",
       "      <td>-0.650892</td>\n",
       "      <td>NaN</td>\n",
       "      <td>NaN</td>\n",
       "      <td>NaN</td>\n",
       "      <td>0.363069</td>\n",
       "      <td>-0.690013</td>\n",
       "      <td>0.811221</td>\n",
       "      <td>-0.718428</td>\n",
       "      <td>-0.494454</td>\n",
       "      <td>...</td>\n",
       "      <td>-0.684527</td>\n",
       "      <td>NaN</td>\n",
       "      <td>-0.729916</td>\n",
       "      <td>0.316015</td>\n",
       "      <td>-0.893792</td>\n",
       "      <td>NaN</td>\n",
       "      <td>-0.749410</td>\n",
       "      <td>0.037410</td>\n",
       "      <td>-0.813613</td>\n",
       "      <td>0.874887</td>\n",
       "    </tr>\n",
       "    <tr>\n",
       "      <th>Armenia</th>\n",
       "      <td>-0.945359</td>\n",
       "      <td>-0.859478</td>\n",
       "      <td>-0.708082</td>\n",
       "      <td>NaN</td>\n",
       "      <td>NaN</td>\n",
       "      <td>0.083992</td>\n",
       "      <td>0.510793</td>\n",
       "      <td>0.753895</td>\n",
       "      <td>0.575704</td>\n",
       "      <td>-0.946572</td>\n",
       "      <td>...</td>\n",
       "      <td>0.914839</td>\n",
       "      <td>-0.288110</td>\n",
       "      <td>0.329741</td>\n",
       "      <td>-0.773852</td>\n",
       "      <td>-0.871018</td>\n",
       "      <td>-0.659740</td>\n",
       "      <td>0.781947</td>\n",
       "      <td>0.446507</td>\n",
       "      <td>0.203976</td>\n",
       "      <td>-0.787782</td>\n",
       "    </tr>\n",
       "    <tr>\n",
       "      <th>Bahrain</th>\n",
       "      <td>NaN</td>\n",
       "      <td>-0.780047</td>\n",
       "      <td>-0.702905</td>\n",
       "      <td>NaN</td>\n",
       "      <td>NaN</td>\n",
       "      <td>-0.952605</td>\n",
       "      <td>0.940184</td>\n",
       "      <td>-0.934874</td>\n",
       "      <td>-0.978124</td>\n",
       "      <td>NaN</td>\n",
       "      <td>...</td>\n",
       "      <td>-0.886818</td>\n",
       "      <td>NaN</td>\n",
       "      <td>-0.386867</td>\n",
       "      <td>0.111721</td>\n",
       "      <td>-0.842494</td>\n",
       "      <td>NaN</td>\n",
       "      <td>-0.874272</td>\n",
       "      <td>-0.715059</td>\n",
       "      <td>-0.384559</td>\n",
       "      <td>0.973606</td>\n",
       "    </tr>\n",
       "    <tr>\n",
       "      <th>Botswana</th>\n",
       "      <td>0.623936</td>\n",
       "      <td>-0.524702</td>\n",
       "      <td>0.750977</td>\n",
       "      <td>NaN</td>\n",
       "      <td>NaN</td>\n",
       "      <td>-0.934590</td>\n",
       "      <td>-0.888323</td>\n",
       "      <td>0.752620</td>\n",
       "      <td>-0.867502</td>\n",
       "      <td>-0.862202</td>\n",
       "      <td>...</td>\n",
       "      <td>-0.954849</td>\n",
       "      <td>NaN</td>\n",
       "      <td>-0.940273</td>\n",
       "      <td>-0.130800</td>\n",
       "      <td>0.132985</td>\n",
       "      <td>NaN</td>\n",
       "      <td>0.407461</td>\n",
       "      <td>-0.471993</td>\n",
       "      <td>0.818853</td>\n",
       "      <td>0.950102</td>\n",
       "    </tr>\n",
       "    <tr>\n",
       "      <th>United States</th>\n",
       "      <td>NaN</td>\n",
       "      <td>-0.169931</td>\n",
       "      <td>-0.535419</td>\n",
       "      <td>-0.933213</td>\n",
       "      <td>-0.462722</td>\n",
       "      <td>-0.871861</td>\n",
       "      <td>-0.839982</td>\n",
       "      <td>0.844373</td>\n",
       "      <td>-0.934595</td>\n",
       "      <td>NaN</td>\n",
       "      <td>...</td>\n",
       "      <td>-0.994842</td>\n",
       "      <td>NaN</td>\n",
       "      <td>0.979638</td>\n",
       "      <td>-0.968728</td>\n",
       "      <td>-0.888063</td>\n",
       "      <td>0.716347</td>\n",
       "      <td>-0.654842</td>\n",
       "      <td>-0.687962</td>\n",
       "      <td>0.961246</td>\n",
       "      <td>0.988339</td>\n",
       "    </tr>\n",
       "  </tbody>\n",
       "</table>\n",
       "<p>153 rows × 32 columns</p>\n",
       "</div>"
      ],
      "text/plain": [
       "                          % Undernourishment  AgriShareGDP  \\\n",
       "Argentina                          -0.694641     -0.503461   \n",
       "Senegal                            -0.967884     -0.064157   \n",
       "Poland                                   NaN     -0.510488   \n",
       "Guatemala                          -0.789840     -0.910784   \n",
       "Montenegro                         -0.921434     -0.925047   \n",
       "...                                      ...           ...   \n",
       "Central African Republic           -0.098914     -0.650892   \n",
       "Armenia                            -0.945359     -0.859478   \n",
       "Bahrain                                  NaN     -0.780047   \n",
       "Botswana                            0.623936     -0.524702   \n",
       "United States                            NaN     -0.169931   \n",
       "\n",
       "                          CreditToAgriFishForest  EmploymentRural  \\\n",
       "Argentina                               0.656928              NaN   \n",
       "Senegal                                -0.749358              NaN   \n",
       "Poland                                       NaN        -0.363683   \n",
       "Guatemala                              -0.330781              NaN   \n",
       "Montenegro                                   NaN              NaN   \n",
       "...                                          ...              ...   \n",
       "Central African Republic                     NaN              NaN   \n",
       "Armenia                                -0.708082              NaN   \n",
       "Bahrain                                -0.702905              NaN   \n",
       "Botswana                                0.750977              NaN   \n",
       "United States                          -0.535419        -0.933213   \n",
       "\n",
       "                          %EmploymentAgriFishForest  % Soldiers  \\\n",
       "Argentina                                 -0.724813   -0.696227   \n",
       "Senegal                                         NaN   -0.751124   \n",
       "Poland                                    -0.952876   -0.424615   \n",
       "Guatemala                                       NaN   -0.780193   \n",
       "Montenegro                                      NaN         NaN   \n",
       "...                                             ...         ...   \n",
       "Central African Republic                        NaN    0.363069   \n",
       "Armenia                                         NaN    0.083992   \n",
       "Bahrain                                         NaN   -0.952605   \n",
       "Botswana                                        NaN   -0.934590   \n",
       "United States                             -0.462722   -0.871861   \n",
       "\n",
       "                          Employment in industry  Employment in services  \\\n",
       "Argentina                               0.423928               -0.065609   \n",
       "Senegal                                 0.969599                0.961313   \n",
       "Poland                                  0.704549                0.918627   \n",
       "Guatemala                              -0.822930                0.920172   \n",
       "Montenegro                             -0.809392                0.847853   \n",
       "...                                          ...                     ...   \n",
       "Central African Republic               -0.690013                0.811221   \n",
       "Armenia                                 0.510793                0.753895   \n",
       "Bahrain                                 0.940184               -0.934874   \n",
       "Botswana                               -0.888323                0.752620   \n",
       "United States                          -0.839982                0.844373   \n",
       "\n",
       "                          Birth Rate  Cost business start-up  ...  \\\n",
       "Argentina                  -0.715829               -0.053572  ...   \n",
       "Senegal                    -0.828994               -0.961995  ...   \n",
       "Poland                      0.491552               -0.899823  ...   \n",
       "Guatemala                  -0.958764               -0.967957  ...   \n",
       "Montenegro                 -0.748720                     NaN  ...   \n",
       "...                              ...                     ...  ...   \n",
       "Central African Republic   -0.718428               -0.494454  ...   \n",
       "Armenia                     0.575704               -0.946572  ...   \n",
       "Bahrain                    -0.978124                     NaN  ...   \n",
       "Botswana                   -0.867502               -0.862202  ...   \n",
       "United States              -0.934595                     NaN  ...   \n",
       "\n",
       "                          % Rural Population  Tertiary School Gender Parity  \\\n",
       "Argentina                          -0.780874                       0.780915   \n",
       "Senegal                            -0.960345                       0.914266   \n",
       "Poland                              0.905010                       0.727306   \n",
       "Guatemala                          -0.993836                            NaN   \n",
       "Montenegro                         -0.934981                      -0.520704   \n",
       "...                                      ...                            ...   \n",
       "Central African Republic           -0.684527                            NaN   \n",
       "Armenia                             0.914839                      -0.288110   \n",
       "Bahrain                            -0.886818                            NaN   \n",
       "Botswana                           -0.954849                            NaN   \n",
       "United States                      -0.994842                            NaN   \n",
       "\n",
       "                          Suicide Rate  % Vulnerable female employment  \\\n",
       "Argentina                    -0.360028                       -0.288908   \n",
       "Senegal                      -0.984000                       -0.957135   \n",
       "Poland                       -0.447770                       -0.944188   \n",
       "Guatemala                    -0.904996                       -0.866821   \n",
       "Montenegro                    0.105303                       -0.362766   \n",
       "...                                ...                             ...   \n",
       "Central African Republic     -0.729916                        0.316015   \n",
       "Armenia                       0.329741                       -0.773852   \n",
       "Bahrain                      -0.386867                        0.111721   \n",
       "Botswana                     -0.940273                       -0.130800   \n",
       "United States                 0.979638                       -0.968728   \n",
       "\n",
       "                          % Vulnerable male employment      Gini  \\\n",
       "Argentina                                    -0.512770 -0.854086   \n",
       "Senegal                                      -0.961607       NaN   \n",
       "Poland                                       -0.966692 -0.938857   \n",
       "Guatemala                                    -0.952079       NaN   \n",
       "Montenegro                                    0.037470       NaN   \n",
       "...                                                ...       ...   \n",
       "Central African Republic                     -0.893792       NaN   \n",
       "Armenia                                      -0.871018 -0.659740   \n",
       "Bahrain                                      -0.842494       NaN   \n",
       "Botswana                                      0.132985       NaN   \n",
       "United States                                -0.888063  0.716347   \n",
       "\n",
       "                          Civil Liberties  Freedom of Expression  \\\n",
       "Argentina                        0.145350              -0.597334   \n",
       "Senegal                          0.377412               0.737131   \n",
       "Poland                          -0.507959              -0.510648   \n",
       "Guatemala                        0.755812               0.093338   \n",
       "Montenegro                       0.558700               0.825413   \n",
       "...                                   ...                    ...   \n",
       "Central African Republic        -0.749410               0.037410   \n",
       "Armenia                          0.781947               0.446507   \n",
       "Bahrain                         -0.874272              -0.715059   \n",
       "Botswana                         0.407461              -0.471993   \n",
       "United States                   -0.654842              -0.687962   \n",
       "\n",
       "                          % Healthcare Investment  Population  \n",
       "Argentina                               -0.271214    0.763368  \n",
       "Senegal                                 -0.946089    0.950633  \n",
       "Poland                                   0.904175   -0.827611  \n",
       "Guatemala                                0.800016    0.994983  \n",
       "Montenegro                                    NaN    0.951388  \n",
       "...                                           ...         ...  \n",
       "Central African Republic                -0.813613    0.874887  \n",
       "Armenia                                  0.203976   -0.787782  \n",
       "Bahrain                                 -0.384559    0.973606  \n",
       "Botswana                                 0.818853    0.950102  \n",
       "United States                            0.961246    0.988339  \n",
       "\n",
       "[153 rows x 32 columns]"
      ]
     },
     "execution_count": 3,
     "metadata": {},
     "output_type": "execute_result"
    }
   ],
   "source": [
    "#One dataframe per country\n",
    "\n",
    "df = pd.read_csv(df_url)\n",
    "corr_df = pd.DataFrame()\n",
    "corr_df.index.names = ['Country']\n",
    "aux_df = pd.DataFrame()\n",
    "\n",
    "#List all the countries, none repeated\n",
    "countries = set(df['Country'].to_list())\n",
    "\n",
    "country_dict = {}\n",
    "corr_dict = {}\n",
    "\n",
    "for country in countries:\n",
    "\n",
    "    #Get the DataFrame for a given country\n",
    "    country_df = df.loc[df['Country'] == country]\n",
    "\n",
    "    #Correlation matrix for that country\n",
    "    country_corr_df = country_df.corr()\n",
    "\n",
    "    #Trim it into a single row\n",
    "    country_corr_df = country_corr_df.rename(columns = {'GDP': country}).drop(index = ['Year', 'GDP'])\n",
    "\n",
    "    #Add the row to a new DataFrame with the correlations for each country\n",
    "    corr_df = pd.concat([corr_df, country_corr_df[country]], axis = 1)\n",
    "\n",
    "#Transpose the resulting DataFrame to have the desired format and show it\n",
    "corr_df = corr_df.transpose()\n",
    "corr_df\n",
    "\n",
    "#corr_df.to_csv(read_path + '/Output/corr.csv')\n"
   ]
  },
  {
   "cell_type": "code",
   "execution_count": 4,
   "metadata": {},
   "outputs": [
    {
     "name": "stdout",
     "output_type": "stream",
     "text": [
      "set()\n"
     ]
    },
    {
     "data": {
      "text/html": [
       "<div>\n",
       "<style scoped>\n",
       "    .dataframe tbody tr th:only-of-type {\n",
       "        vertical-align: middle;\n",
       "    }\n",
       "\n",
       "    .dataframe tbody tr th {\n",
       "        vertical-align: top;\n",
       "    }\n",
       "\n",
       "    .dataframe thead th {\n",
       "        text-align: right;\n",
       "    }\n",
       "</style>\n",
       "<table border=\"1\" class=\"dataframe\">\n",
       "  <thead>\n",
       "    <tr style=\"text-align: right;\">\n",
       "      <th></th>\n",
       "      <th>% Undernourishment</th>\n",
       "      <th>AgriShareGDP</th>\n",
       "      <th>CreditToAgriFishForest</th>\n",
       "      <th>EmploymentRural</th>\n",
       "      <th>%EmploymentAgriFishForest</th>\n",
       "      <th>% Soldiers</th>\n",
       "      <th>Employment in industry</th>\n",
       "      <th>Employment in services</th>\n",
       "      <th>Birth Rate</th>\n",
       "      <th>Cost business start-up</th>\n",
       "      <th>...</th>\n",
       "      <th>% Rural Population</th>\n",
       "      <th>Tertiary School Gender Parity</th>\n",
       "      <th>Suicide Rate</th>\n",
       "      <th>% Vulnerable female employment</th>\n",
       "      <th>% Vulnerable male employment</th>\n",
       "      <th>Gini</th>\n",
       "      <th>Civil Liberties</th>\n",
       "      <th>Freedom of Expression</th>\n",
       "      <th>% Healthcare Investment</th>\n",
       "      <th>Population</th>\n",
       "    </tr>\n",
       "  </thead>\n",
       "  <tbody>\n",
       "    <tr>\n",
       "      <th>Argentina</th>\n",
       "      <td>-0.694641</td>\n",
       "      <td>-0.503461</td>\n",
       "      <td>0.656928</td>\n",
       "      <td>NaN</td>\n",
       "      <td>-0.724813</td>\n",
       "      <td>-0.696227</td>\n",
       "      <td>0.423928</td>\n",
       "      <td>-0.065609</td>\n",
       "      <td>-0.715829</td>\n",
       "      <td>-0.053572</td>\n",
       "      <td>...</td>\n",
       "      <td>-0.780874</td>\n",
       "      <td>0.780915</td>\n",
       "      <td>-0.360028</td>\n",
       "      <td>-0.288908</td>\n",
       "      <td>-0.512770</td>\n",
       "      <td>-0.854086</td>\n",
       "      <td>0.145350</td>\n",
       "      <td>-0.597334</td>\n",
       "      <td>-0.271214</td>\n",
       "      <td>0.763368</td>\n",
       "    </tr>\n",
       "    <tr>\n",
       "      <th>Senegal</th>\n",
       "      <td>-0.967884</td>\n",
       "      <td>-0.064157</td>\n",
       "      <td>-0.749358</td>\n",
       "      <td>NaN</td>\n",
       "      <td>NaN</td>\n",
       "      <td>-0.751124</td>\n",
       "      <td>0.969599</td>\n",
       "      <td>0.961313</td>\n",
       "      <td>-0.828994</td>\n",
       "      <td>-0.961995</td>\n",
       "      <td>...</td>\n",
       "      <td>-0.960345</td>\n",
       "      <td>0.914266</td>\n",
       "      <td>-0.984000</td>\n",
       "      <td>-0.957135</td>\n",
       "      <td>-0.961607</td>\n",
       "      <td>NaN</td>\n",
       "      <td>0.377412</td>\n",
       "      <td>0.737131</td>\n",
       "      <td>-0.946089</td>\n",
       "      <td>0.950633</td>\n",
       "    </tr>\n",
       "    <tr>\n",
       "      <th>Poland</th>\n",
       "      <td>NaN</td>\n",
       "      <td>-0.510488</td>\n",
       "      <td>NaN</td>\n",
       "      <td>-0.363683</td>\n",
       "      <td>-0.952876</td>\n",
       "      <td>-0.424615</td>\n",
       "      <td>0.704549</td>\n",
       "      <td>0.918627</td>\n",
       "      <td>0.491552</td>\n",
       "      <td>-0.899823</td>\n",
       "      <td>...</td>\n",
       "      <td>0.905010</td>\n",
       "      <td>0.727306</td>\n",
       "      <td>-0.447770</td>\n",
       "      <td>-0.944188</td>\n",
       "      <td>-0.966692</td>\n",
       "      <td>-0.938857</td>\n",
       "      <td>-0.507959</td>\n",
       "      <td>-0.510648</td>\n",
       "      <td>0.904175</td>\n",
       "      <td>-0.827611</td>\n",
       "    </tr>\n",
       "    <tr>\n",
       "      <th>Guatemala</th>\n",
       "      <td>-0.789840</td>\n",
       "      <td>-0.910784</td>\n",
       "      <td>-0.330781</td>\n",
       "      <td>NaN</td>\n",
       "      <td>NaN</td>\n",
       "      <td>-0.780193</td>\n",
       "      <td>-0.822930</td>\n",
       "      <td>0.920172</td>\n",
       "      <td>-0.958764</td>\n",
       "      <td>-0.967957</td>\n",
       "      <td>...</td>\n",
       "      <td>-0.993836</td>\n",
       "      <td>NaN</td>\n",
       "      <td>-0.904996</td>\n",
       "      <td>-0.866821</td>\n",
       "      <td>-0.952079</td>\n",
       "      <td>NaN</td>\n",
       "      <td>0.755812</td>\n",
       "      <td>0.093338</td>\n",
       "      <td>0.800016</td>\n",
       "      <td>0.994983</td>\n",
       "    </tr>\n",
       "    <tr>\n",
       "      <th>Montenegro</th>\n",
       "      <td>-0.921434</td>\n",
       "      <td>-0.925047</td>\n",
       "      <td>NaN</td>\n",
       "      <td>NaN</td>\n",
       "      <td>NaN</td>\n",
       "      <td>NaN</td>\n",
       "      <td>-0.809392</td>\n",
       "      <td>0.847853</td>\n",
       "      <td>-0.748720</td>\n",
       "      <td>NaN</td>\n",
       "      <td>...</td>\n",
       "      <td>-0.934981</td>\n",
       "      <td>-0.520704</td>\n",
       "      <td>0.105303</td>\n",
       "      <td>-0.362766</td>\n",
       "      <td>0.037470</td>\n",
       "      <td>NaN</td>\n",
       "      <td>0.558700</td>\n",
       "      <td>0.825413</td>\n",
       "      <td>NaN</td>\n",
       "      <td>0.951388</td>\n",
       "    </tr>\n",
       "    <tr>\n",
       "      <th>...</th>\n",
       "      <td>...</td>\n",
       "      <td>...</td>\n",
       "      <td>...</td>\n",
       "      <td>...</td>\n",
       "      <td>...</td>\n",
       "      <td>...</td>\n",
       "      <td>...</td>\n",
       "      <td>...</td>\n",
       "      <td>...</td>\n",
       "      <td>...</td>\n",
       "      <td>...</td>\n",
       "      <td>...</td>\n",
       "      <td>...</td>\n",
       "      <td>...</td>\n",
       "      <td>...</td>\n",
       "      <td>...</td>\n",
       "      <td>...</td>\n",
       "      <td>...</td>\n",
       "      <td>...</td>\n",
       "      <td>...</td>\n",
       "      <td>...</td>\n",
       "    </tr>\n",
       "    <tr>\n",
       "      <th>Central African Republic</th>\n",
       "      <td>-0.098914</td>\n",
       "      <td>-0.650892</td>\n",
       "      <td>NaN</td>\n",
       "      <td>NaN</td>\n",
       "      <td>NaN</td>\n",
       "      <td>0.363069</td>\n",
       "      <td>-0.690013</td>\n",
       "      <td>0.811221</td>\n",
       "      <td>-0.718428</td>\n",
       "      <td>-0.494454</td>\n",
       "      <td>...</td>\n",
       "      <td>-0.684527</td>\n",
       "      <td>NaN</td>\n",
       "      <td>-0.729916</td>\n",
       "      <td>0.316015</td>\n",
       "      <td>-0.893792</td>\n",
       "      <td>NaN</td>\n",
       "      <td>-0.749410</td>\n",
       "      <td>0.037410</td>\n",
       "      <td>-0.813613</td>\n",
       "      <td>0.874887</td>\n",
       "    </tr>\n",
       "    <tr>\n",
       "      <th>Armenia</th>\n",
       "      <td>-0.945359</td>\n",
       "      <td>-0.859478</td>\n",
       "      <td>-0.708082</td>\n",
       "      <td>NaN</td>\n",
       "      <td>NaN</td>\n",
       "      <td>0.083992</td>\n",
       "      <td>0.510793</td>\n",
       "      <td>0.753895</td>\n",
       "      <td>0.575704</td>\n",
       "      <td>-0.946572</td>\n",
       "      <td>...</td>\n",
       "      <td>0.914839</td>\n",
       "      <td>-0.288110</td>\n",
       "      <td>0.329741</td>\n",
       "      <td>-0.773852</td>\n",
       "      <td>-0.871018</td>\n",
       "      <td>-0.659740</td>\n",
       "      <td>0.781947</td>\n",
       "      <td>0.446507</td>\n",
       "      <td>0.203976</td>\n",
       "      <td>-0.787782</td>\n",
       "    </tr>\n",
       "    <tr>\n",
       "      <th>Bahrain</th>\n",
       "      <td>NaN</td>\n",
       "      <td>-0.780047</td>\n",
       "      <td>-0.702905</td>\n",
       "      <td>NaN</td>\n",
       "      <td>NaN</td>\n",
       "      <td>-0.952605</td>\n",
       "      <td>0.940184</td>\n",
       "      <td>-0.934874</td>\n",
       "      <td>-0.978124</td>\n",
       "      <td>NaN</td>\n",
       "      <td>...</td>\n",
       "      <td>-0.886818</td>\n",
       "      <td>NaN</td>\n",
       "      <td>-0.386867</td>\n",
       "      <td>0.111721</td>\n",
       "      <td>-0.842494</td>\n",
       "      <td>NaN</td>\n",
       "      <td>-0.874272</td>\n",
       "      <td>-0.715059</td>\n",
       "      <td>-0.384559</td>\n",
       "      <td>0.973606</td>\n",
       "    </tr>\n",
       "    <tr>\n",
       "      <th>Botswana</th>\n",
       "      <td>0.623936</td>\n",
       "      <td>-0.524702</td>\n",
       "      <td>0.750977</td>\n",
       "      <td>NaN</td>\n",
       "      <td>NaN</td>\n",
       "      <td>-0.934590</td>\n",
       "      <td>-0.888323</td>\n",
       "      <td>0.752620</td>\n",
       "      <td>-0.867502</td>\n",
       "      <td>-0.862202</td>\n",
       "      <td>...</td>\n",
       "      <td>-0.954849</td>\n",
       "      <td>NaN</td>\n",
       "      <td>-0.940273</td>\n",
       "      <td>-0.130800</td>\n",
       "      <td>0.132985</td>\n",
       "      <td>NaN</td>\n",
       "      <td>0.407461</td>\n",
       "      <td>-0.471993</td>\n",
       "      <td>0.818853</td>\n",
       "      <td>0.950102</td>\n",
       "    </tr>\n",
       "    <tr>\n",
       "      <th>United States</th>\n",
       "      <td>NaN</td>\n",
       "      <td>-0.169931</td>\n",
       "      <td>-0.535419</td>\n",
       "      <td>-0.933213</td>\n",
       "      <td>-0.462722</td>\n",
       "      <td>-0.871861</td>\n",
       "      <td>-0.839982</td>\n",
       "      <td>0.844373</td>\n",
       "      <td>-0.934595</td>\n",
       "      <td>NaN</td>\n",
       "      <td>...</td>\n",
       "      <td>-0.994842</td>\n",
       "      <td>NaN</td>\n",
       "      <td>0.979638</td>\n",
       "      <td>-0.968728</td>\n",
       "      <td>-0.888063</td>\n",
       "      <td>0.716347</td>\n",
       "      <td>-0.654842</td>\n",
       "      <td>-0.687962</td>\n",
       "      <td>0.961246</td>\n",
       "      <td>0.988339</td>\n",
       "    </tr>\n",
       "  </tbody>\n",
       "</table>\n",
       "<p>153 rows × 32 columns</p>\n",
       "</div>"
      ],
      "text/plain": [
       "                          % Undernourishment  AgriShareGDP  \\\n",
       "Argentina                          -0.694641     -0.503461   \n",
       "Senegal                            -0.967884     -0.064157   \n",
       "Poland                                   NaN     -0.510488   \n",
       "Guatemala                          -0.789840     -0.910784   \n",
       "Montenegro                         -0.921434     -0.925047   \n",
       "...                                      ...           ...   \n",
       "Central African Republic           -0.098914     -0.650892   \n",
       "Armenia                            -0.945359     -0.859478   \n",
       "Bahrain                                  NaN     -0.780047   \n",
       "Botswana                            0.623936     -0.524702   \n",
       "United States                            NaN     -0.169931   \n",
       "\n",
       "                          CreditToAgriFishForest  EmploymentRural  \\\n",
       "Argentina                               0.656928              NaN   \n",
       "Senegal                                -0.749358              NaN   \n",
       "Poland                                       NaN        -0.363683   \n",
       "Guatemala                              -0.330781              NaN   \n",
       "Montenegro                                   NaN              NaN   \n",
       "...                                          ...              ...   \n",
       "Central African Republic                     NaN              NaN   \n",
       "Armenia                                -0.708082              NaN   \n",
       "Bahrain                                -0.702905              NaN   \n",
       "Botswana                                0.750977              NaN   \n",
       "United States                          -0.535419        -0.933213   \n",
       "\n",
       "                          %EmploymentAgriFishForest  % Soldiers  \\\n",
       "Argentina                                 -0.724813   -0.696227   \n",
       "Senegal                                         NaN   -0.751124   \n",
       "Poland                                    -0.952876   -0.424615   \n",
       "Guatemala                                       NaN   -0.780193   \n",
       "Montenegro                                      NaN         NaN   \n",
       "...                                             ...         ...   \n",
       "Central African Republic                        NaN    0.363069   \n",
       "Armenia                                         NaN    0.083992   \n",
       "Bahrain                                         NaN   -0.952605   \n",
       "Botswana                                        NaN   -0.934590   \n",
       "United States                             -0.462722   -0.871861   \n",
       "\n",
       "                          Employment in industry  Employment in services  \\\n",
       "Argentina                               0.423928               -0.065609   \n",
       "Senegal                                 0.969599                0.961313   \n",
       "Poland                                  0.704549                0.918627   \n",
       "Guatemala                              -0.822930                0.920172   \n",
       "Montenegro                             -0.809392                0.847853   \n",
       "...                                          ...                     ...   \n",
       "Central African Republic               -0.690013                0.811221   \n",
       "Armenia                                 0.510793                0.753895   \n",
       "Bahrain                                 0.940184               -0.934874   \n",
       "Botswana                               -0.888323                0.752620   \n",
       "United States                          -0.839982                0.844373   \n",
       "\n",
       "                          Birth Rate  Cost business start-up  ...  \\\n",
       "Argentina                  -0.715829               -0.053572  ...   \n",
       "Senegal                    -0.828994               -0.961995  ...   \n",
       "Poland                      0.491552               -0.899823  ...   \n",
       "Guatemala                  -0.958764               -0.967957  ...   \n",
       "Montenegro                 -0.748720                     NaN  ...   \n",
       "...                              ...                     ...  ...   \n",
       "Central African Republic   -0.718428               -0.494454  ...   \n",
       "Armenia                     0.575704               -0.946572  ...   \n",
       "Bahrain                    -0.978124                     NaN  ...   \n",
       "Botswana                   -0.867502               -0.862202  ...   \n",
       "United States              -0.934595                     NaN  ...   \n",
       "\n",
       "                          % Rural Population  Tertiary School Gender Parity  \\\n",
       "Argentina                          -0.780874                       0.780915   \n",
       "Senegal                            -0.960345                       0.914266   \n",
       "Poland                              0.905010                       0.727306   \n",
       "Guatemala                          -0.993836                            NaN   \n",
       "Montenegro                         -0.934981                      -0.520704   \n",
       "...                                      ...                            ...   \n",
       "Central African Republic           -0.684527                            NaN   \n",
       "Armenia                             0.914839                      -0.288110   \n",
       "Bahrain                            -0.886818                            NaN   \n",
       "Botswana                           -0.954849                            NaN   \n",
       "United States                      -0.994842                            NaN   \n",
       "\n",
       "                          Suicide Rate  % Vulnerable female employment  \\\n",
       "Argentina                    -0.360028                       -0.288908   \n",
       "Senegal                      -0.984000                       -0.957135   \n",
       "Poland                       -0.447770                       -0.944188   \n",
       "Guatemala                    -0.904996                       -0.866821   \n",
       "Montenegro                    0.105303                       -0.362766   \n",
       "...                                ...                             ...   \n",
       "Central African Republic     -0.729916                        0.316015   \n",
       "Armenia                       0.329741                       -0.773852   \n",
       "Bahrain                      -0.386867                        0.111721   \n",
       "Botswana                     -0.940273                       -0.130800   \n",
       "United States                 0.979638                       -0.968728   \n",
       "\n",
       "                          % Vulnerable male employment      Gini  \\\n",
       "Argentina                                    -0.512770 -0.854086   \n",
       "Senegal                                      -0.961607       NaN   \n",
       "Poland                                       -0.966692 -0.938857   \n",
       "Guatemala                                    -0.952079       NaN   \n",
       "Montenegro                                    0.037470       NaN   \n",
       "...                                                ...       ...   \n",
       "Central African Republic                     -0.893792       NaN   \n",
       "Armenia                                      -0.871018 -0.659740   \n",
       "Bahrain                                      -0.842494       NaN   \n",
       "Botswana                                      0.132985       NaN   \n",
       "United States                                -0.888063  0.716347   \n",
       "\n",
       "                          Civil Liberties  Freedom of Expression  \\\n",
       "Argentina                        0.145350              -0.597334   \n",
       "Senegal                          0.377412               0.737131   \n",
       "Poland                          -0.507959              -0.510648   \n",
       "Guatemala                        0.755812               0.093338   \n",
       "Montenegro                       0.558700               0.825413   \n",
       "...                                   ...                    ...   \n",
       "Central African Republic        -0.749410               0.037410   \n",
       "Armenia                          0.781947               0.446507   \n",
       "Bahrain                         -0.874272              -0.715059   \n",
       "Botswana                         0.407461              -0.471993   \n",
       "United States                   -0.654842              -0.687962   \n",
       "\n",
       "                          % Healthcare Investment  Population  \n",
       "Argentina                               -0.271214    0.763368  \n",
       "Senegal                                 -0.946089    0.950633  \n",
       "Poland                                   0.904175   -0.827611  \n",
       "Guatemala                                0.800016    0.994983  \n",
       "Montenegro                                    NaN    0.951388  \n",
       "...                                           ...         ...  \n",
       "Central African Republic                -0.813613    0.874887  \n",
       "Armenia                                  0.203976   -0.787782  \n",
       "Bahrain                                 -0.384559    0.973606  \n",
       "Botswana                                 0.818853    0.950102  \n",
       "United States                            0.961246    0.988339  \n",
       "\n",
       "[153 rows x 32 columns]"
      ]
     },
     "execution_count": 4,
     "metadata": {},
     "output_type": "execute_result"
    }
   ],
   "source": [
    "#Clean the data deleting rows or columns with too many missing values\n",
    "clean_corr_df = corr_df\n",
    "\n",
    "#Indicators with no correlations\n",
    "clean_corr_df = corr_df.dropna(axis = 'columns', how = 'all')\n",
    "clean_corr_df\n",
    "\n",
    "#clean_corr_df = clean_corr_df.dropna(axis = 'rows', thresh = 10)\n",
    "\n",
    "cols = set(corr_df.columns) - set(clean_corr_df.columns)\n",
    "print(cols)\n",
    "clean_corr_df"
   ]
  },
  {
   "cell_type": "code",
   "execution_count": 5,
   "metadata": {},
   "outputs": [
    {
     "name": "stdout",
     "output_type": "stream",
     "text": [
      "122.4\n",
      "25\n",
      "104\n"
     ]
    }
   ],
   "source": [
    "#Countries still with not enough indicators\n",
    "#How many countries would remain depending on the threshold we use for indicators?\n",
    "\n",
    "dict_count = {}\n",
    "\n",
    "n_indicators = len(clean_corr_df.columns)\n",
    "\n",
    "for i in range(0, n_indicators + 1):\n",
    "    dict_count[i] = 0\n",
    "\n",
    "for country in clean_corr_df.index:\n",
    "    count = clean_corr_df.loc[country].count()\n",
    "    dict_count[count] += 1\n",
    "\n",
    "dict_count\n",
    "\n",
    "i = n_indicators - 1\n",
    "while i >= 0:\n",
    "    dict_count[i] += dict_count[i + 1]\n",
    "    i -= 1\n",
    "dict_count\n",
    "\n",
    "min = max(dict_count.values()) * 0.8\n",
    "for i in range(1, len(dict_count)):\n",
    "    if dict_count[i] < min:\n",
    "        threshold = dict_count[i]\n",
    "        break\n",
    "    i += i\n",
    "\n",
    "\n",
    "#print(len(dict_count))\n",
    "print(min)\n",
    "print(i)\n",
    "print(threshold)"
   ]
  },
  {
   "cell_type": "code",
   "execution_count": null,
   "metadata": {},
   "outputs": [],
   "source": []
  },
  {
   "cell_type": "code",
   "execution_count": 6,
   "metadata": {},
   "outputs": [
    {
     "name": "stdout",
     "output_type": "stream",
     "text": [
      "Empty DataFrame\n",
      "Columns: []\n",
      "Index: []\n",
      "                      Country Indicators\n",
      "0                   Argentina         31\n",
      "1                     Senegal         26\n",
      "2                      Poland         30\n",
      "3                   Guatemala         27\n",
      "4                  Montenegro         22\n",
      "..                        ...        ...\n",
      "148  Central African Republic         24\n",
      "149                   Armenia         29\n",
      "150                   Bahrain         23\n",
      "151                  Botswana         24\n",
      "152             United States         28\n",
      "\n",
      "[153 rows x 2 columns]\n",
      "['Argentina', 'Senegal', 'Poland', 'Guatemala', 'Montenegro', 'Albania', 'Denmark', 'Italy', 'Nepal', 'Romania', 'El Salvador', 'Papua New Guinea', 'Cyprus', 'China', 'Pakistan', 'Iceland', 'Tunisia', 'Australia', 'Costa Rica', 'Lesotho', 'South Sudan', 'Qatar', 'Azerbaijan', 'Hungary', 'Honduras', 'Zimbabwe', 'Fiji', 'Estonia', 'Trinidad and Tobago', 'Benin', 'Algeria', 'Portugal', 'Tajikistan', 'Myanmar', 'Chad', 'Bhutan', 'Ukraine', 'Lebanon', 'Colombia', 'Ethiopia', 'Kazakhstan', 'Vanuatu', 'Oman', 'Indonesia', 'New Zealand', 'North Macedonia', 'Jordan', 'Morocco', 'Sweden', 'Nigeria', 'Panama', 'Greece', 'Sudan', 'Niger', 'Somalia', 'Mauritius', 'Libya', 'Malta', 'Latvia', 'Guinea', 'Barbados', 'Peru', 'Cameroon', 'Guyana', 'Lithuania', 'Norway', 'Kuwait', 'Uzbekistan', 'Sao Tome and Principe', 'Netherlands', 'Paraguay', 'Malaysia', 'South Africa', 'Togo', 'Equatorial Guinea', 'Croatia', 'Singapore', 'Jamaica', 'Mozambique', 'Ecuador', 'Georgia', 'Dominican Republic', 'Philippines', 'United Kingdom', 'Burundi', 'Serbia', 'Suriname', 'Mali', 'Solomon Islands', 'Samoa', 'Bangladesh', 'Puerto Rico', 'Austria', 'Mexico', 'Slovenia', 'Spain', 'Uganda', 'Iraq', 'Liberia', 'Belize', 'United Arab Emirates', 'Cuba', 'Mauritania', 'Rwanda', 'Saudi Arabia', 'France', 'Angola', 'India', 'Russia', 'Sri Lanka', 'Finland', 'Switzerland', 'Djibouti', 'Malawi', 'Mongolia', 'Zambia', 'Kenya', 'Eswatini', 'Maldives', 'Cambodia', 'Ghana', 'Luxembourg', 'Burkina Faso', 'Israel', 'Eritrea', 'Nicaragua', 'Belgium', 'Afghanistan', 'Uruguay', 'Namibia', 'Thailand', 'Sierra Leone', 'Comoros', 'Madagascar', 'Haiti', 'Brazil', 'Bosnia and Herzegovina', 'Chile', 'Gabon', 'Japan', 'Turkmenistan', 'Ireland', 'Bulgaria', 'Belarus', 'Guinea-Bissau', 'Tonga', 'Germany', 'Canada', 'Central African Republic', 'Armenia', 'Bahrain', 'Botswana', 'United States']\n"
     ]
    },
    {
     "data": {
      "application/vnd.plotly.v1+json": {
       "config": {
        "plotlyServerURL": "https://plot.ly"
       },
       "data": [
        {
         "colorscale": [
          [
           0,
           "#636efa"
          ],
          [
           1,
           "#636efa"
          ]
         ],
         "geo": "geo",
         "hovertemplate": "<b>%{hovertext}</b><br><br>Indicators=31<br>Country=%{location}<extra></extra>",
         "hovertext": [
          "Argentina",
          "Hungary",
          "Latvia",
          "United Kingdom",
          "Spain",
          "Uruguay",
          "Ireland"
         ],
         "locationmode": "country names",
         "locations": [
          "Argentina",
          "Hungary",
          "Latvia",
          "United Kingdom",
          "Spain",
          "Uruguay",
          "Ireland"
         ],
         "name": "31",
         "showlegend": true,
         "showscale": false,
         "type": "choropleth",
         "z": [
          1,
          1,
          1,
          1,
          1,
          1,
          1
         ]
        },
        {
         "colorscale": [
          [
           0,
           "#EF553B"
          ],
          [
           1,
           "#EF553B"
          ]
         ],
         "geo": "geo",
         "hovertemplate": "<b>%{hovertext}</b><br><br>Indicators=26<br>Country=%{location}<extra></extra>",
         "hovertext": [
          "Senegal",
          "China",
          "Australia",
          "Honduras",
          "Benin",
          "Oman",
          "Jordan",
          "Morocco",
          "Barbados",
          "Guyana",
          "Uzbekistan",
          "Togo",
          "Singapore",
          "Ecuador",
          "Serbia",
          "Rwanda",
          "Sri Lanka",
          "Kenya",
          "Cambodia",
          "Burkina Faso",
          "Bosnia and Herzegovina"
         ],
         "locationmode": "country names",
         "locations": [
          "Senegal",
          "China",
          "Australia",
          "Honduras",
          "Benin",
          "Oman",
          "Jordan",
          "Morocco",
          "Barbados",
          "Guyana",
          "Uzbekistan",
          "Togo",
          "Singapore",
          "Ecuador",
          "Serbia",
          "Rwanda",
          "Sri Lanka",
          "Kenya",
          "Cambodia",
          "Burkina Faso",
          "Bosnia and Herzegovina"
         ],
         "name": "26",
         "showlegend": true,
         "showscale": false,
         "type": "choropleth",
         "z": [
          1,
          1,
          1,
          1,
          1,
          1,
          1,
          1,
          1,
          1,
          1,
          1,
          1,
          1,
          1,
          1,
          1,
          1,
          1,
          1,
          1
         ]
        },
        {
         "colorscale": [
          [
           0,
           "#00cc96"
          ],
          [
           1,
           "#00cc96"
          ]
         ],
         "geo": "geo",
         "hovertemplate": "<b>%{hovertext}</b><br><br>Indicators=30<br>Country=%{location}<extra></extra>",
         "hovertext": [
          "Poland",
          "Denmark",
          "Italy",
          "Cyprus",
          "Costa Rica",
          "Portugal",
          "Ukraine",
          "Colombia",
          "Sweden",
          "Greece",
          "Lithuania",
          "Netherlands",
          "Mexico",
          "Slovenia",
          "Finland",
          "Belgium",
          "Thailand",
          "Bulgaria"
         ],
         "locationmode": "country names",
         "locations": [
          "Poland",
          "Denmark",
          "Italy",
          "Cyprus",
          "Costa Rica",
          "Portugal",
          "Ukraine",
          "Colombia",
          "Sweden",
          "Greece",
          "Lithuania",
          "Netherlands",
          "Mexico",
          "Slovenia",
          "Finland",
          "Belgium",
          "Thailand",
          "Bulgaria"
         ],
         "name": "30",
         "showlegend": true,
         "showscale": false,
         "type": "choropleth",
         "z": [
          1,
          1,
          1,
          1,
          1,
          1,
          1,
          1,
          1,
          1,
          1,
          1,
          1,
          1,
          1,
          1,
          1,
          1
         ]
        },
        {
         "colorscale": [
          [
           0,
           "#ab63fa"
          ],
          [
           1,
           "#ab63fa"
          ]
         ],
         "geo": "geo",
         "hovertemplate": "<b>%{hovertext}</b><br><br>Indicators=27<br>Country=%{location}<extra></extra>",
         "hovertext": [
          "Guatemala",
          "Albania",
          "Nepal",
          "Pakistan",
          "Tunisia",
          "Trinidad and Tobago",
          "Kazakhstan",
          "Mauritius",
          "Malta",
          "Peru",
          "Malaysia",
          "Jamaica",
          "Georgia",
          "Dominican Republic",
          "India",
          "Switzerland",
          "Ghana",
          "Madagascar",
          "Japan"
         ],
         "locationmode": "country names",
         "locations": [
          "Guatemala",
          "Albania",
          "Nepal",
          "Pakistan",
          "Tunisia",
          "Trinidad and Tobago",
          "Kazakhstan",
          "Mauritius",
          "Malta",
          "Peru",
          "Malaysia",
          "Jamaica",
          "Georgia",
          "Dominican Republic",
          "India",
          "Switzerland",
          "Ghana",
          "Madagascar",
          "Japan"
         ],
         "name": "27",
         "showlegend": true,
         "showscale": false,
         "type": "choropleth",
         "z": [
          1,
          1,
          1,
          1,
          1,
          1,
          1,
          1,
          1,
          1,
          1,
          1,
          1,
          1,
          1,
          1,
          1,
          1,
          1
         ]
        },
        {
         "colorscale": [
          [
           0,
           "#FFA15A"
          ],
          [
           1,
           "#FFA15A"
          ]
         ],
         "geo": "geo",
         "hovertemplate": "<b>%{hovertext}</b><br><br>Indicators=22<br>Country=%{location}<extra></extra>",
         "hovertext": [
          "Montenegro",
          "Equatorial Guinea",
          "Solomon Islands",
          "Haiti",
          "Turkmenistan"
         ],
         "locationmode": "country names",
         "locations": [
          "Montenegro",
          "Equatorial Guinea",
          "Solomon Islands",
          "Haiti",
          "Turkmenistan"
         ],
         "name": "22",
         "showlegend": true,
         "showscale": false,
         "type": "choropleth",
         "z": [
          1,
          1,
          1,
          1,
          1
         ]
        },
        {
         "colorscale": [
          [
           0,
           "#19d3f3"
          ],
          [
           1,
           "#19d3f3"
          ]
         ],
         "geo": "geo",
         "hovertemplate": "<b>%{hovertext}</b><br><br>Indicators=28<br>Country=%{location}<extra></extra>",
         "hovertext": [
          "Romania",
          "Iceland",
          "Indonesia",
          "North Macedonia",
          "Panama",
          "Paraguay",
          "South Africa",
          "Philippines",
          "Mongolia",
          "Israel",
          "Chile",
          "Canada",
          "United States"
         ],
         "locationmode": "country names",
         "locations": [
          "Romania",
          "Iceland",
          "Indonesia",
          "North Macedonia",
          "Panama",
          "Paraguay",
          "South Africa",
          "Philippines",
          "Mongolia",
          "Israel",
          "Chile",
          "Canada",
          "United States"
         ],
         "name": "28",
         "showlegend": true,
         "showscale": false,
         "type": "choropleth",
         "z": [
          1,
          1,
          1,
          1,
          1,
          1,
          1,
          1,
          1,
          1,
          1,
          1,
          1
         ]
        },
        {
         "colorscale": [
          [
           0,
           "#FF6692"
          ],
          [
           1,
           "#FF6692"
          ]
         ],
         "geo": "geo",
         "hovertemplate": "<b>%{hovertext}</b><br><br>Indicators=29<br>Country=%{location}<extra></extra>",
         "hovertext": [
          "El Salvador",
          "Azerbaijan",
          "Norway",
          "Croatia",
          "Austria",
          "France",
          "Russia",
          "Brazil",
          "Belarus",
          "Germany",
          "Armenia"
         ],
         "locationmode": "country names",
         "locations": [
          "El Salvador",
          "Azerbaijan",
          "Norway",
          "Croatia",
          "Austria",
          "France",
          "Russia",
          "Brazil",
          "Belarus",
          "Germany",
          "Armenia"
         ],
         "name": "29",
         "showlegend": true,
         "showscale": false,
         "type": "choropleth",
         "z": [
          1,
          1,
          1,
          1,
          1,
          1,
          1,
          1,
          1,
          1,
          1
         ]
        },
        {
         "colorscale": [
          [
           0,
           "#B6E880"
          ],
          [
           1,
           "#B6E880"
          ]
         ],
         "geo": "geo",
         "hovertemplate": "<b>%{hovertext}</b><br><br>Indicators=24<br>Country=%{location}<extra></extra>",
         "hovertext": [
          "Papua New Guinea",
          "Lesotho",
          "Fiji",
          "Algeria",
          "Chad",
          "Bhutan",
          "Lebanon",
          "United Arab Emirates",
          "Mauritania",
          "Saudi Arabia",
          "Angola",
          "Malawi",
          "Zambia",
          "Eswatini",
          "Afghanistan",
          "Namibia",
          "Sierra Leone",
          "Central African Republic",
          "Botswana"
         ],
         "locationmode": "country names",
         "locations": [
          "Papua New Guinea",
          "Lesotho",
          "Fiji",
          "Algeria",
          "Chad",
          "Bhutan",
          "Lebanon",
          "United Arab Emirates",
          "Mauritania",
          "Saudi Arabia",
          "Angola",
          "Malawi",
          "Zambia",
          "Eswatini",
          "Afghanistan",
          "Namibia",
          "Sierra Leone",
          "Central African Republic",
          "Botswana"
         ],
         "name": "24",
         "showlegend": true,
         "showscale": false,
         "type": "choropleth",
         "z": [
          1,
          1,
          1,
          1,
          1,
          1,
          1,
          1,
          1,
          1,
          1,
          1,
          1,
          1,
          1,
          1,
          1,
          1,
          1
         ]
        },
        {
         "colorscale": [
          [
           0,
           "#FF97FF"
          ],
          [
           1,
           "#FF97FF"
          ]
         ],
         "geo": "geo",
         "hovertemplate": "<b>%{hovertext}</b><br><br>Indicators=0<br>Country=%{location}<extra></extra>",
         "hovertext": [
          "South Sudan",
          "Sudan"
         ],
         "locationmode": "country names",
         "locations": [
          "South Sudan",
          "Sudan"
         ],
         "name": "0",
         "showlegend": true,
         "showscale": false,
         "type": "choropleth",
         "z": [
          1,
          1
         ]
        },
        {
         "colorscale": [
          [
           0,
           "#FECB52"
          ],
          [
           1,
           "#FECB52"
          ]
         ],
         "geo": "geo",
         "hovertemplate": "<b>%{hovertext}</b><br><br>Indicators=23<br>Country=%{location}<extra></extra>",
         "hovertext": [
          "Qatar",
          "Myanmar",
          "Vanuatu",
          "Nigeria",
          "Guinea",
          "Sao Tome and Principe",
          "Burundi",
          "Suriname",
          "Iraq",
          "Liberia",
          "Djibouti",
          "Maldives",
          "Gabon",
          "Guinea-Bissau",
          "Bahrain"
         ],
         "locationmode": "country names",
         "locations": [
          "Qatar",
          "Myanmar",
          "Vanuatu",
          "Nigeria",
          "Guinea",
          "Sao Tome and Principe",
          "Burundi",
          "Suriname",
          "Iraq",
          "Liberia",
          "Djibouti",
          "Maldives",
          "Gabon",
          "Guinea-Bissau",
          "Bahrain"
         ],
         "name": "23",
         "showlegend": true,
         "showscale": false,
         "type": "choropleth",
         "z": [
          1,
          1,
          1,
          1,
          1,
          1,
          1,
          1,
          1,
          1,
          1,
          1,
          1,
          1,
          1
         ]
        },
        {
         "colorscale": [
          [
           0,
           "#636efa"
          ],
          [
           1,
           "#636efa"
          ]
         ],
         "geo": "geo",
         "hovertemplate": "<b>%{hovertext}</b><br><br>Indicators=21<br>Country=%{location}<extra></extra>",
         "hovertext": [
          "Zimbabwe",
          "Samoa",
          "Comoros"
         ],
         "locationmode": "country names",
         "locations": [
          "Zimbabwe",
          "Samoa",
          "Comoros"
         ],
         "name": "21",
         "showlegend": true,
         "showscale": false,
         "type": "choropleth",
         "z": [
          1,
          1,
          1
         ]
        },
        {
         "colorscale": [
          [
           0,
           "#EF553B"
          ],
          [
           1,
           "#EF553B"
          ]
         ],
         "geo": "geo",
         "hovertemplate": "<b>%{hovertext}</b><br><br>Indicators=32<br>Country=%{location}<extra></extra>",
         "hovertext": [
          "Estonia"
         ],
         "locationmode": "country names",
         "locations": [
          "Estonia"
         ],
         "name": "32",
         "showlegend": true,
         "showscale": false,
         "type": "choropleth",
         "z": [
          1
         ]
        },
        {
         "colorscale": [
          [
           0,
           "#00cc96"
          ],
          [
           1,
           "#00cc96"
          ]
         ],
         "geo": "geo",
         "hovertemplate": "<b>%{hovertext}</b><br><br>Indicators=25<br>Country=%{location}<extra></extra>",
         "hovertext": [
          "Tajikistan",
          "Ethiopia",
          "New Zealand",
          "Niger",
          "Cameroon",
          "Kuwait",
          "Mozambique",
          "Mali",
          "Bangladesh",
          "Uganda",
          "Belize",
          "Cuba",
          "Luxembourg",
          "Nicaragua"
         ],
         "locationmode": "country names",
         "locations": [
          "Tajikistan",
          "Ethiopia",
          "New Zealand",
          "Niger",
          "Cameroon",
          "Kuwait",
          "Mozambique",
          "Mali",
          "Bangladesh",
          "Uganda",
          "Belize",
          "Cuba",
          "Luxembourg",
          "Nicaragua"
         ],
         "name": "25",
         "showlegend": true,
         "showscale": false,
         "type": "choropleth",
         "z": [
          1,
          1,
          1,
          1,
          1,
          1,
          1,
          1,
          1,
          1,
          1,
          1,
          1,
          1
         ]
        },
        {
         "colorscale": [
          [
           0,
           "#ab63fa"
          ],
          [
           1,
           "#ab63fa"
          ]
         ],
         "geo": "geo",
         "hovertemplate": "<b>%{hovertext}</b><br><br>Indicators=20<br>Country=%{location}<extra></extra>",
         "hovertext": [
          "Somalia",
          "Eritrea"
         ],
         "locationmode": "country names",
         "locations": [
          "Somalia",
          "Eritrea"
         ],
         "name": "20",
         "showlegend": true,
         "showscale": false,
         "type": "choropleth",
         "z": [
          1,
          1
         ]
        },
        {
         "colorscale": [
          [
           0,
           "#FFA15A"
          ],
          [
           1,
           "#FFA15A"
          ]
         ],
         "geo": "geo",
         "hovertemplate": "<b>%{hovertext}</b><br><br>Indicators=19<br>Country=%{location}<extra></extra>",
         "hovertext": [
          "Libya",
          "Tonga"
         ],
         "locationmode": "country names",
         "locations": [
          "Libya",
          "Tonga"
         ],
         "name": "19",
         "showlegend": true,
         "showscale": false,
         "type": "choropleth",
         "z": [
          1,
          1
         ]
        },
        {
         "colorscale": [
          [
           0,
           "#19d3f3"
          ],
          [
           1,
           "#19d3f3"
          ]
         ],
         "geo": "geo",
         "hovertemplate": "<b>%{hovertext}</b><br><br>Indicators=17<br>Country=%{location}<extra></extra>",
         "hovertext": [
          "Puerto Rico"
         ],
         "locationmode": "country names",
         "locations": [
          "Puerto Rico"
         ],
         "name": "17",
         "showlegend": true,
         "showscale": false,
         "type": "choropleth",
         "z": [
          1
         ]
        }
       ],
       "layout": {
        "coloraxis": {
         "showscale": true
        },
        "geo": {
         "center": {},
         "domain": {
          "x": [
           0,
           1
          ],
          "y": [
           0,
           1
          ]
         },
         "projection": {
          "type": "mercator"
         }
        },
        "height": 500,
        "legend": {
         "title": {
          "text": "Indicators"
         },
         "tracegroupgap": 0
        },
        "margin": {
         "t": 60
        },
        "template": {
         "data": {
          "bar": [
           {
            "error_x": {
             "color": "#2a3f5f"
            },
            "error_y": {
             "color": "#2a3f5f"
            },
            "marker": {
             "line": {
              "color": "#E5ECF6",
              "width": 0.5
             },
             "pattern": {
              "fillmode": "overlay",
              "size": 10,
              "solidity": 0.2
             }
            },
            "type": "bar"
           }
          ],
          "barpolar": [
           {
            "marker": {
             "line": {
              "color": "#E5ECF6",
              "width": 0.5
             },
             "pattern": {
              "fillmode": "overlay",
              "size": 10,
              "solidity": 0.2
             }
            },
            "type": "barpolar"
           }
          ],
          "carpet": [
           {
            "aaxis": {
             "endlinecolor": "#2a3f5f",
             "gridcolor": "white",
             "linecolor": "white",
             "minorgridcolor": "white",
             "startlinecolor": "#2a3f5f"
            },
            "baxis": {
             "endlinecolor": "#2a3f5f",
             "gridcolor": "white",
             "linecolor": "white",
             "minorgridcolor": "white",
             "startlinecolor": "#2a3f5f"
            },
            "type": "carpet"
           }
          ],
          "choropleth": [
           {
            "colorbar": {
             "outlinewidth": 0,
             "ticks": ""
            },
            "type": "choropleth"
           }
          ],
          "contour": [
           {
            "colorbar": {
             "outlinewidth": 0,
             "ticks": ""
            },
            "colorscale": [
             [
              0,
              "#0d0887"
             ],
             [
              0.1111111111111111,
              "#46039f"
             ],
             [
              0.2222222222222222,
              "#7201a8"
             ],
             [
              0.3333333333333333,
              "#9c179e"
             ],
             [
              0.4444444444444444,
              "#bd3786"
             ],
             [
              0.5555555555555556,
              "#d8576b"
             ],
             [
              0.6666666666666666,
              "#ed7953"
             ],
             [
              0.7777777777777778,
              "#fb9f3a"
             ],
             [
              0.8888888888888888,
              "#fdca26"
             ],
             [
              1,
              "#f0f921"
             ]
            ],
            "type": "contour"
           }
          ],
          "contourcarpet": [
           {
            "colorbar": {
             "outlinewidth": 0,
             "ticks": ""
            },
            "type": "contourcarpet"
           }
          ],
          "heatmap": [
           {
            "colorbar": {
             "outlinewidth": 0,
             "ticks": ""
            },
            "colorscale": [
             [
              0,
              "#0d0887"
             ],
             [
              0.1111111111111111,
              "#46039f"
             ],
             [
              0.2222222222222222,
              "#7201a8"
             ],
             [
              0.3333333333333333,
              "#9c179e"
             ],
             [
              0.4444444444444444,
              "#bd3786"
             ],
             [
              0.5555555555555556,
              "#d8576b"
             ],
             [
              0.6666666666666666,
              "#ed7953"
             ],
             [
              0.7777777777777778,
              "#fb9f3a"
             ],
             [
              0.8888888888888888,
              "#fdca26"
             ],
             [
              1,
              "#f0f921"
             ]
            ],
            "type": "heatmap"
           }
          ],
          "heatmapgl": [
           {
            "colorbar": {
             "outlinewidth": 0,
             "ticks": ""
            },
            "colorscale": [
             [
              0,
              "#0d0887"
             ],
             [
              0.1111111111111111,
              "#46039f"
             ],
             [
              0.2222222222222222,
              "#7201a8"
             ],
             [
              0.3333333333333333,
              "#9c179e"
             ],
             [
              0.4444444444444444,
              "#bd3786"
             ],
             [
              0.5555555555555556,
              "#d8576b"
             ],
             [
              0.6666666666666666,
              "#ed7953"
             ],
             [
              0.7777777777777778,
              "#fb9f3a"
             ],
             [
              0.8888888888888888,
              "#fdca26"
             ],
             [
              1,
              "#f0f921"
             ]
            ],
            "type": "heatmapgl"
           }
          ],
          "histogram": [
           {
            "marker": {
             "pattern": {
              "fillmode": "overlay",
              "size": 10,
              "solidity": 0.2
             }
            },
            "type": "histogram"
           }
          ],
          "histogram2d": [
           {
            "colorbar": {
             "outlinewidth": 0,
             "ticks": ""
            },
            "colorscale": [
             [
              0,
              "#0d0887"
             ],
             [
              0.1111111111111111,
              "#46039f"
             ],
             [
              0.2222222222222222,
              "#7201a8"
             ],
             [
              0.3333333333333333,
              "#9c179e"
             ],
             [
              0.4444444444444444,
              "#bd3786"
             ],
             [
              0.5555555555555556,
              "#d8576b"
             ],
             [
              0.6666666666666666,
              "#ed7953"
             ],
             [
              0.7777777777777778,
              "#fb9f3a"
             ],
             [
              0.8888888888888888,
              "#fdca26"
             ],
             [
              1,
              "#f0f921"
             ]
            ],
            "type": "histogram2d"
           }
          ],
          "histogram2dcontour": [
           {
            "colorbar": {
             "outlinewidth": 0,
             "ticks": ""
            },
            "colorscale": [
             [
              0,
              "#0d0887"
             ],
             [
              0.1111111111111111,
              "#46039f"
             ],
             [
              0.2222222222222222,
              "#7201a8"
             ],
             [
              0.3333333333333333,
              "#9c179e"
             ],
             [
              0.4444444444444444,
              "#bd3786"
             ],
             [
              0.5555555555555556,
              "#d8576b"
             ],
             [
              0.6666666666666666,
              "#ed7953"
             ],
             [
              0.7777777777777778,
              "#fb9f3a"
             ],
             [
              0.8888888888888888,
              "#fdca26"
             ],
             [
              1,
              "#f0f921"
             ]
            ],
            "type": "histogram2dcontour"
           }
          ],
          "mesh3d": [
           {
            "colorbar": {
             "outlinewidth": 0,
             "ticks": ""
            },
            "type": "mesh3d"
           }
          ],
          "parcoords": [
           {
            "line": {
             "colorbar": {
              "outlinewidth": 0,
              "ticks": ""
             }
            },
            "type": "parcoords"
           }
          ],
          "pie": [
           {
            "automargin": true,
            "type": "pie"
           }
          ],
          "scatter": [
           {
            "fillpattern": {
             "fillmode": "overlay",
             "size": 10,
             "solidity": 0.2
            },
            "type": "scatter"
           }
          ],
          "scatter3d": [
           {
            "line": {
             "colorbar": {
              "outlinewidth": 0,
              "ticks": ""
             }
            },
            "marker": {
             "colorbar": {
              "outlinewidth": 0,
              "ticks": ""
             }
            },
            "type": "scatter3d"
           }
          ],
          "scattercarpet": [
           {
            "marker": {
             "colorbar": {
              "outlinewidth": 0,
              "ticks": ""
             }
            },
            "type": "scattercarpet"
           }
          ],
          "scattergeo": [
           {
            "marker": {
             "colorbar": {
              "outlinewidth": 0,
              "ticks": ""
             }
            },
            "type": "scattergeo"
           }
          ],
          "scattergl": [
           {
            "marker": {
             "colorbar": {
              "outlinewidth": 0,
              "ticks": ""
             }
            },
            "type": "scattergl"
           }
          ],
          "scattermapbox": [
           {
            "marker": {
             "colorbar": {
              "outlinewidth": 0,
              "ticks": ""
             }
            },
            "type": "scattermapbox"
           }
          ],
          "scatterpolar": [
           {
            "marker": {
             "colorbar": {
              "outlinewidth": 0,
              "ticks": ""
             }
            },
            "type": "scatterpolar"
           }
          ],
          "scatterpolargl": [
           {
            "marker": {
             "colorbar": {
              "outlinewidth": 0,
              "ticks": ""
             }
            },
            "type": "scatterpolargl"
           }
          ],
          "scatterternary": [
           {
            "marker": {
             "colorbar": {
              "outlinewidth": 0,
              "ticks": ""
             }
            },
            "type": "scatterternary"
           }
          ],
          "surface": [
           {
            "colorbar": {
             "outlinewidth": 0,
             "ticks": ""
            },
            "colorscale": [
             [
              0,
              "#0d0887"
             ],
             [
              0.1111111111111111,
              "#46039f"
             ],
             [
              0.2222222222222222,
              "#7201a8"
             ],
             [
              0.3333333333333333,
              "#9c179e"
             ],
             [
              0.4444444444444444,
              "#bd3786"
             ],
             [
              0.5555555555555556,
              "#d8576b"
             ],
             [
              0.6666666666666666,
              "#ed7953"
             ],
             [
              0.7777777777777778,
              "#fb9f3a"
             ],
             [
              0.8888888888888888,
              "#fdca26"
             ],
             [
              1,
              "#f0f921"
             ]
            ],
            "type": "surface"
           }
          ],
          "table": [
           {
            "cells": {
             "fill": {
              "color": "#EBF0F8"
             },
             "line": {
              "color": "white"
             }
            },
            "header": {
             "fill": {
              "color": "#C8D4E3"
             },
             "line": {
              "color": "white"
             }
            },
            "type": "table"
           }
          ]
         },
         "layout": {
          "annotationdefaults": {
           "arrowcolor": "#2a3f5f",
           "arrowhead": 0,
           "arrowwidth": 1
          },
          "autotypenumbers": "strict",
          "coloraxis": {
           "colorbar": {
            "outlinewidth": 0,
            "ticks": ""
           }
          },
          "colorscale": {
           "diverging": [
            [
             0,
             "#8e0152"
            ],
            [
             0.1,
             "#c51b7d"
            ],
            [
             0.2,
             "#de77ae"
            ],
            [
             0.3,
             "#f1b6da"
            ],
            [
             0.4,
             "#fde0ef"
            ],
            [
             0.5,
             "#f7f7f7"
            ],
            [
             0.6,
             "#e6f5d0"
            ],
            [
             0.7,
             "#b8e186"
            ],
            [
             0.8,
             "#7fbc41"
            ],
            [
             0.9,
             "#4d9221"
            ],
            [
             1,
             "#276419"
            ]
           ],
           "sequential": [
            [
             0,
             "#0d0887"
            ],
            [
             0.1111111111111111,
             "#46039f"
            ],
            [
             0.2222222222222222,
             "#7201a8"
            ],
            [
             0.3333333333333333,
             "#9c179e"
            ],
            [
             0.4444444444444444,
             "#bd3786"
            ],
            [
             0.5555555555555556,
             "#d8576b"
            ],
            [
             0.6666666666666666,
             "#ed7953"
            ],
            [
             0.7777777777777778,
             "#fb9f3a"
            ],
            [
             0.8888888888888888,
             "#fdca26"
            ],
            [
             1,
             "#f0f921"
            ]
           ],
           "sequentialminus": [
            [
             0,
             "#0d0887"
            ],
            [
             0.1111111111111111,
             "#46039f"
            ],
            [
             0.2222222222222222,
             "#7201a8"
            ],
            [
             0.3333333333333333,
             "#9c179e"
            ],
            [
             0.4444444444444444,
             "#bd3786"
            ],
            [
             0.5555555555555556,
             "#d8576b"
            ],
            [
             0.6666666666666666,
             "#ed7953"
            ],
            [
             0.7777777777777778,
             "#fb9f3a"
            ],
            [
             0.8888888888888888,
             "#fdca26"
            ],
            [
             1,
             "#f0f921"
            ]
           ]
          },
          "colorway": [
           "#636efa",
           "#EF553B",
           "#00cc96",
           "#ab63fa",
           "#FFA15A",
           "#19d3f3",
           "#FF6692",
           "#B6E880",
           "#FF97FF",
           "#FECB52"
          ],
          "font": {
           "color": "#2a3f5f"
          },
          "geo": {
           "bgcolor": "white",
           "lakecolor": "white",
           "landcolor": "#E5ECF6",
           "showlakes": true,
           "showland": true,
           "subunitcolor": "white"
          },
          "hoverlabel": {
           "align": "left"
          },
          "hovermode": "closest",
          "mapbox": {
           "style": "light"
          },
          "paper_bgcolor": "white",
          "plot_bgcolor": "#E5ECF6",
          "polar": {
           "angularaxis": {
            "gridcolor": "white",
            "linecolor": "white",
            "ticks": ""
           },
           "bgcolor": "#E5ECF6",
           "radialaxis": {
            "gridcolor": "white",
            "linecolor": "white",
            "ticks": ""
           }
          },
          "scene": {
           "xaxis": {
            "backgroundcolor": "#E5ECF6",
            "gridcolor": "white",
            "gridwidth": 2,
            "linecolor": "white",
            "showbackground": true,
            "ticks": "",
            "zerolinecolor": "white"
           },
           "yaxis": {
            "backgroundcolor": "#E5ECF6",
            "gridcolor": "white",
            "gridwidth": 2,
            "linecolor": "white",
            "showbackground": true,
            "ticks": "",
            "zerolinecolor": "white"
           },
           "zaxis": {
            "backgroundcolor": "#E5ECF6",
            "gridcolor": "white",
            "gridwidth": 2,
            "linecolor": "white",
            "showbackground": true,
            "ticks": "",
            "zerolinecolor": "white"
           }
          },
          "shapedefaults": {
           "line": {
            "color": "#2a3f5f"
           }
          },
          "ternary": {
           "aaxis": {
            "gridcolor": "white",
            "linecolor": "white",
            "ticks": ""
           },
           "baxis": {
            "gridcolor": "white",
            "linecolor": "white",
            "ticks": ""
           },
           "bgcolor": "#E5ECF6",
           "caxis": {
            "gridcolor": "white",
            "linecolor": "white",
            "ticks": ""
           }
          },
          "title": {
           "x": 0.05
          },
          "xaxis": {
           "automargin": true,
           "gridcolor": "white",
           "linecolor": "white",
           "ticks": "",
           "title": {
            "standoff": 15
           },
           "zerolinecolor": "white",
           "zerolinewidth": 2
          },
          "yaxis": {
           "automargin": true,
           "gridcolor": "white",
           "linecolor": "white",
           "ticks": "",
           "title": {
            "standoff": 15
           },
           "zerolinecolor": "white",
           "zerolinewidth": 2
          }
         }
        },
        "width": 700
       }
      }
     },
     "metadata": {},
     "output_type": "display_data"
    },
    {
     "data": {
      "text/plain": [
       "' \\nfig = px.choropleth(grp, locations=\"Country\", locationmode=\\'country names\\', \\n                     color=\"Confirmed\", hover_name=\"Country/Region\",hover_data = [grp.Recovered,grp.Deaths],projection=\"mercator\",\\n                     color_continuous_scale=\\'Reds\\',\\n                 width=700, height=500)\\nfig.update(layout_coloraxis_showscale=True) '"
      ]
     },
     "execution_count": 6,
     "metadata": {},
     "output_type": "execute_result"
    }
   ],
   "source": [
    "#What countries would be deleted?\n",
    "df_count = pd.DataFrame()\n",
    "print(df_count)\n",
    "for country in corr_df.index:\n",
    "    count = corr_df.loc[country].count()\n",
    "    country_series = pd.Series({'Country': country, 'Indicators': count})\n",
    "    df_count = pd.concat([df_count, country_series], axis = 1, ignore_index = True)\n",
    "    #df_count = df_count.append({'Country': country, 'Indicators': count}, ignore_index = True)\n",
    "\n",
    "df_count = df_count.transpose()\n",
    "print(df_count)\n",
    "\n",
    "print(list(df_count['Country']))\n",
    "\n",
    "import plotly.express as px\n",
    "\n",
    "fig = px.choropleth(df_count, locations=\"Country\", locationmode='country names', \n",
    "                     color=\"Indicators\", hover_name=\"Country\",projection=\"mercator\",\n",
    "                     color_continuous_scale='Reds',\n",
    "                 width=700, height=500)\n",
    "fig.update(layout_coloraxis_showscale=True)\n",
    "\n",
    "fig.show()\n",
    "\n",
    "#grp = cases.groupby(['Country/Region'])[['Confirmed', 'Deaths', 'Recovered']].max()\n",
    "#grp = grp.reset_index()\n",
    "#grp['Country'] = grp['Country/Region']\n",
    "\"\"\" \n",
    "fig = px.choropleth(grp, locations=\"Country\", locationmode='country names', \n",
    "                     color=\"Confirmed\", hover_name=\"Country/Region\",hover_data = [grp.Recovered,grp.Deaths],projection=\"mercator\",\n",
    "                     color_continuous_scale='Reds',\n",
    "                 width=700, height=500)\n",
    "fig.update(layout_coloraxis_showscale=True) \"\"\""
   ]
  },
  {
   "cell_type": "code",
   "execution_count": 7,
   "metadata": {},
   "outputs": [
    {
     "data": {
      "text/plain": [
       "\" #corr_dict = {}\\n\\ncor=country_dict['Spain'].corr()['GDP'].to_list()\\nprint(cor)\\n#Correlations and all \""
      ]
     },
     "execution_count": 7,
     "metadata": {},
     "output_type": "execute_result"
    }
   ],
   "source": [
    "\"\"\" #corr_dict = {}\n",
    "\n",
    "cor=country_dict['Spain'].corr()['GDP'].to_list()\n",
    "print(cor)\n",
    "#Correlations and all \"\"\"\n",
    "\n"
   ]
  },
  {
   "cell_type": "code",
   "execution_count": 8,
   "metadata": {},
   "outputs": [],
   "source": [
    "import numpy as np\n",
    "import pandas as pd\n",
    "import matplotlib.pyplot as plt\n",
    "from matplotlib import gridspec\n",
    "from sklearn.cluster import OPTICS, cluster_optics_dbscan\n",
    "from sklearn.preprocessing import normalize, StandardScaler"
   ]
  },
  {
   "cell_type": "code",
   "execution_count": 9,
   "metadata": {},
   "outputs": [
    {
     "data": {
      "text/plain": [
       "\" print(corr_df)\\ncountry_col = corr_df['Country']\\ncorr_df = df.iloc[:, :-1] \""
      ]
     },
     "execution_count": 9,
     "metadata": {},
     "output_type": "execute_result"
    }
   ],
   "source": [
    "\"\"\" print(corr_df)\n",
    "country_col = corr_df['Country']\n",
    "corr_df = df.iloc[:, :-1] \"\"\""
   ]
  },
  {
   "cell_type": "code",
   "execution_count": 10,
   "metadata": {},
   "outputs": [
    {
     "name": "stdout",
     "output_type": "stream",
     "text": [
      "Index(['Argentina', 'Senegal', 'Poland', 'Guatemala', 'Montenegro', 'Albania',\n",
      "       'Denmark', 'Italy', 'Nepal', 'Romania',\n",
      "       ...\n",
      "       'Belarus', 'Guinea-Bissau', 'Tonga', 'Germany', 'Canada',\n",
      "       'Central African Republic', 'Armenia', 'Bahrain', 'Botswana',\n",
      "       'United States'],\n",
      "      dtype='object', length=153)\n",
      "     % Undernourishment  AgriShareGDP  CreditToAgriFishForest  \\\n",
      "0             -0.080045      0.034030                0.283666   \n",
      "1             -0.167085      0.230314               -0.208265   \n",
      "2             -0.132453      0.022282               -0.165098   \n",
      "3             -0.104084     -0.150224               -0.067285   \n",
      "4             -0.142466     -0.150484               -0.064675   \n",
      "..                  ...           ...                     ...   \n",
      "148            0.129934     -0.035427               -0.179643   \n",
      "149           -0.133544     -0.108925               -0.162969   \n",
      "150           -0.134806     -0.079518               -0.163049   \n",
      "151            0.359300      0.020625                0.278130   \n",
      "152            0.247080      0.119381               -0.089604   \n",
      "\n",
      "     EmploymentRural  %EmploymentAgriFishForest  % Soldiers  \\\n",
      "0          -0.006353                   0.026653   -0.074621   \n",
      "1          -0.005842                   0.024508   -0.090353   \n",
      "2          -0.107533                  -0.119339    0.030857   \n",
      "3          -0.132979                  -0.147579   -0.099857   \n",
      "4          -0.127820                  -0.141853   -0.095982   \n",
      "..               ...                        ...         ...   \n",
      "148         0.150310                  -0.045284    0.350079   \n",
      "149         0.126203                  -0.038021    0.201349   \n",
      "150         0.127396                  -0.038381   -0.143897   \n",
      "151         0.143358                  -0.043190   -0.155137   \n",
      "152        -0.221837                   0.147711   -0.090427   \n",
      "\n",
      "     Employment in industry  Employment in services  Birth Rate  \\\n",
      "0                  0.124163               -0.378090   -0.068520   \n",
      "1                  0.256866                0.113042   -0.100730   \n",
      "2                  0.148680                0.074431    0.269106   \n",
      "3                 -0.207710                0.092723   -0.141154   \n",
      "4                 -0.196315                0.058553   -0.069701   \n",
      "..                      ...                     ...         ...   \n",
      "148               -0.176761                0.045612   -0.063743   \n",
      "149                0.114698                0.016748    0.307945   \n",
      "150                0.210756               -0.623921   -0.127247   \n",
      "151               -0.217944                0.018480   -0.108093   \n",
      "152               -0.141599                0.039650   -0.088971   \n",
      "\n",
      "     Cost business start-up  ...  % Rural Population  \\\n",
      "0                  0.570906  ...           -0.042976   \n",
      "1                 -0.113655  ...           -0.106295   \n",
      "2                 -0.055449  ...            0.465929   \n",
      "3                 -0.115525  ...           -0.116417   \n",
      "4                 -0.111043  ...           -0.091266   \n",
      "..                      ...  ...                 ...   \n",
      "148                0.214588  ...           -0.003662   \n",
      "149               -0.086146  ...            0.495545   \n",
      "150               -0.086961  ...           -0.066767   \n",
      "151               -0.041403  ...           -0.099224   \n",
      "152               -0.028471  ...           -0.077973   \n",
      "\n",
      "     Tertiary School Gender Parity  Suicide Rate  \\\n",
      "0                         0.137660     -0.024423   \n",
      "1                         0.172820     -0.217305   \n",
      "2                         0.085612     -0.039523   \n",
      "3                         0.105871     -0.188842   \n",
      "4                        -0.305969      0.115758   \n",
      "..                             ...           ...   \n",
      "148                      -0.234796     -0.137680   \n",
      "149                      -0.204505      0.161660   \n",
      "150                      -0.206439     -0.026085   \n",
      "151                      -0.232304     -0.193834   \n",
      "152                      -0.159748      0.259110   \n",
      "\n",
      "     % Vulnerable female employment  % Vulnerable male employment      Gini  \\\n",
      "0                          0.042953                     -0.011913 -0.192744   \n",
      "1                         -0.169114                     -0.160229 -0.177236   \n",
      "2                         -0.130857                     -0.128358 -0.161699   \n",
      "3                         -0.138144                     -0.153967 -0.199962   \n",
      "4                          0.015491                      0.162113 -0.192203   \n",
      "..                              ...                           ...       ...   \n",
      "148                        0.227878                     -0.137393  0.303544   \n",
      "149                       -0.093757                     -0.109011 -0.097136   \n",
      "150                        0.139195                     -0.102018 -0.098054   \n",
      "151                        0.084573                      0.193986 -0.110340   \n",
      "152                       -0.113057                     -0.088864  0.208249   \n",
      "\n",
      "     Civil Liberties  Freedom of Expression  % Healthcare Investment  \\\n",
      "0           0.038476              -0.219300                -0.171158   \n",
      "1           0.113669               0.240264                -0.374704   \n",
      "2          -0.146670              -0.137101                 0.175273   \n",
      "3           0.236574               0.026534                 0.183868   \n",
      "4           0.164736               0.253942                 0.176733   \n",
      "..               ...                    ...                      ...   \n",
      "148        -0.265929               0.008528                -0.331365   \n",
      "149         0.209595               0.120676                -0.003662   \n",
      "150        -0.261019              -0.203539                -0.163992   \n",
      "151         0.117839              -0.152428                 0.184293   \n",
      "152        -0.153532              -0.151631                 0.156744   \n",
      "\n",
      "     Population  \n",
      "0      0.035296  \n",
      "1      0.097934  \n",
      "2     -0.415256  \n",
      "3      0.111207  \n",
      "4      0.092529  \n",
      "..          ...  \n",
      "148    0.071303  \n",
      "149   -0.427250  \n",
      "150    0.089629  \n",
      "151    0.093037  \n",
      "152    0.072729  \n",
      "\n",
      "[153 rows x 32 columns]\n"
     ]
    }
   ],
   "source": [
    "#print(corr_df)\n",
    "country_col = corr_df.index\n",
    "print(country_col)\n",
    "scaler = StandardScaler()\n",
    "corr_df = corr_df.fillna(method ='ffill')\n",
    "corr_df = corr_df.fillna(value = 0)\n",
    "#print(corr_df)\n",
    "df_scaled = scaler.fit_transform(corr_df)\n",
    "#print(df_scaled)\n",
    "df_normalized = normalize(df_scaled)\n",
    "df_normalized = pd.DataFrame(df_normalized)\n",
    "df_normalized.index.names = corr_df.index.names\n",
    "df_normalized.columns = corr_df.columns\n",
    "#df_normalized.head()\n",
    "#print(df_scaled)\n",
    "print(df_normalized)"
   ]
  },
  {
   "cell_type": "code",
   "execution_count": 11,
   "metadata": {},
   "outputs": [
    {
     "name": "stderr",
     "output_type": "stream",
     "text": [
      "c:\\Users\\smanoles\\Documents\\GitHub\\python-data-driven-decisions\\.venv\\lib\\site-packages\\sklearn\\manifold\\_t_sne.py:991: FutureWarning:\n",
      "\n",
      "The PCA initialization in TSNE will change to have the standard deviation of PC1 equal to 1e-4 in 1.2. This will ensure better convergence.\n",
      "\n"
     ]
    },
    {
     "name": "stdout",
     "output_type": "stream",
     "text": [
      "                         1st_component 2nd_component\n",
      "Country                                             \n",
      "Argentina                   -24.361216     55.021935\n",
      "Senegal                     -14.640256      2.880556\n",
      "Poland                       48.545948     43.760151\n",
      "Guatemala                   -33.953712    -50.935986\n",
      "Montenegro                   -6.885118    -52.316471\n",
      "...                                ...           ...\n",
      "Central African Republic      1.128651    -29.726482\n",
      "Armenia                      50.373547     35.580822\n",
      "Bahrain                     -35.694309     48.742725\n",
      "Botswana                    -47.899513      29.08683\n",
      "United States                24.971622      6.211601\n",
      "\n",
      "[153 rows x 2 columns]\n"
     ]
    }
   ],
   "source": [
    "from sklearn.manifold import TSNE\n",
    "import seaborn as sns\n",
    "tsne = TSNE(n_components = 2, perplexity = 3, n_iter = 1000, learning_rate = 200.0, init = 'pca')\n",
    "tsne_result = tsne.fit_transform(df_normalized)\n",
    "new_df_tsne = pd.DataFrame(np.hstack((np.array(country_col).reshape(-1, 1), tsne_result)), columns = ['Country', '1st_component', '2nd_component'])\n",
    "new_df_tsne.set_index('Country', inplace = True)\n",
    "\n",
    "print(new_df_tsne)\n",
    "\n"
   ]
  },
  {
   "cell_type": "code",
   "execution_count": 12,
   "metadata": {},
   "outputs": [
    {
     "data": {
      "text/html": [
       "<div>\n",
       "<style scoped>\n",
       "    .dataframe tbody tr th:only-of-type {\n",
       "        vertical-align: middle;\n",
       "    }\n",
       "\n",
       "    .dataframe tbody tr th {\n",
       "        vertical-align: top;\n",
       "    }\n",
       "\n",
       "    .dataframe thead th {\n",
       "        text-align: right;\n",
       "    }\n",
       "</style>\n",
       "<table border=\"1\" class=\"dataframe\">\n",
       "  <thead>\n",
       "    <tr style=\"text-align: right;\">\n",
       "      <th></th>\n",
       "      <th>1st_component</th>\n",
       "      <th>2nd_component</th>\n",
       "    </tr>\n",
       "    <tr>\n",
       "      <th>Country</th>\n",
       "      <th></th>\n",
       "      <th></th>\n",
       "    </tr>\n",
       "  </thead>\n",
       "  <tbody>\n",
       "    <tr>\n",
       "      <th>Argentina</th>\n",
       "      <td>-24.361216</td>\n",
       "      <td>55.021935</td>\n",
       "    </tr>\n",
       "    <tr>\n",
       "      <th>Senegal</th>\n",
       "      <td>-14.640256</td>\n",
       "      <td>2.880556</td>\n",
       "    </tr>\n",
       "    <tr>\n",
       "      <th>Poland</th>\n",
       "      <td>48.545948</td>\n",
       "      <td>43.760151</td>\n",
       "    </tr>\n",
       "    <tr>\n",
       "      <th>Guatemala</th>\n",
       "      <td>-33.953712</td>\n",
       "      <td>-50.935986</td>\n",
       "    </tr>\n",
       "    <tr>\n",
       "      <th>Montenegro</th>\n",
       "      <td>-6.885118</td>\n",
       "      <td>-52.316471</td>\n",
       "    </tr>\n",
       "    <tr>\n",
       "      <th>...</th>\n",
       "      <td>...</td>\n",
       "      <td>...</td>\n",
       "    </tr>\n",
       "    <tr>\n",
       "      <th>Central African Republic</th>\n",
       "      <td>1.128651</td>\n",
       "      <td>-29.726482</td>\n",
       "    </tr>\n",
       "    <tr>\n",
       "      <th>Armenia</th>\n",
       "      <td>50.373547</td>\n",
       "      <td>35.580822</td>\n",
       "    </tr>\n",
       "    <tr>\n",
       "      <th>Bahrain</th>\n",
       "      <td>-35.694309</td>\n",
       "      <td>48.742725</td>\n",
       "    </tr>\n",
       "    <tr>\n",
       "      <th>Botswana</th>\n",
       "      <td>-47.899513</td>\n",
       "      <td>29.08683</td>\n",
       "    </tr>\n",
       "    <tr>\n",
       "      <th>United States</th>\n",
       "      <td>24.971622</td>\n",
       "      <td>6.211601</td>\n",
       "    </tr>\n",
       "  </tbody>\n",
       "</table>\n",
       "<p>153 rows × 2 columns</p>\n",
       "</div>"
      ],
      "text/plain": [
       "                         1st_component 2nd_component\n",
       "Country                                             \n",
       "Argentina                   -24.361216     55.021935\n",
       "Senegal                     -14.640256      2.880556\n",
       "Poland                       48.545948     43.760151\n",
       "Guatemala                   -33.953712    -50.935986\n",
       "Montenegro                   -6.885118    -52.316471\n",
       "...                                ...           ...\n",
       "Central African Republic      1.128651    -29.726482\n",
       "Armenia                      50.373547     35.580822\n",
       "Bahrain                     -35.694309     48.742725\n",
       "Botswana                    -47.899513      29.08683\n",
       "United States                24.971622      6.211601\n",
       "\n",
       "[153 rows x 2 columns]"
      ]
     },
     "metadata": {},
     "output_type": "display_data"
    },
    {
     "name": "stdout",
     "output_type": "stream",
     "text": [
      "Country\n",
      "Afghanistan    38928341.0\n",
      "Albania         2877800.0\n",
      "Algeria        43851043.0\n",
      "Angola         32866267.0\n",
      "Argentina      45195777.0\n",
      "                  ...    \n",
      "Uruguay         3473727.0\n",
      "Uzbekistan     33469199.0\n",
      "Vanuatu          307150.0\n",
      "Zambia         18383956.0\n",
      "Zimbabwe       14862927.0\n",
      "Name: Population, Length: 153, dtype: float64\n"
     ]
    },
    {
     "data": {
      "text/html": [
       "<div>\n",
       "<style scoped>\n",
       "    .dataframe tbody tr th:only-of-type {\n",
       "        vertical-align: middle;\n",
       "    }\n",
       "\n",
       "    .dataframe tbody tr th {\n",
       "        vertical-align: top;\n",
       "    }\n",
       "\n",
       "    .dataframe thead th {\n",
       "        text-align: right;\n",
       "    }\n",
       "</style>\n",
       "<table border=\"1\" class=\"dataframe\">\n",
       "  <thead>\n",
       "    <tr style=\"text-align: right;\">\n",
       "      <th></th>\n",
       "      <th></th>\n",
       "      <th>1st_component</th>\n",
       "      <th>2nd_component</th>\n",
       "      <th>Population</th>\n",
       "    </tr>\n",
       "    <tr>\n",
       "      <th>Country</th>\n",
       "      <th>Region</th>\n",
       "      <th></th>\n",
       "      <th></th>\n",
       "      <th></th>\n",
       "    </tr>\n",
       "  </thead>\n",
       "  <tbody>\n",
       "    <tr>\n",
       "      <th>Afghanistan</th>\n",
       "      <th>South Asia</th>\n",
       "      <td>-2.353757</td>\n",
       "      <td>-10.345737</td>\n",
       "      <td>38928341.0</td>\n",
       "    </tr>\n",
       "    <tr>\n",
       "      <th>Albania</th>\n",
       "      <th>Europe and Central Asia</th>\n",
       "      <td>42.661842</td>\n",
       "      <td>33.953609</td>\n",
       "      <td>2877800.0</td>\n",
       "    </tr>\n",
       "    <tr>\n",
       "      <th>Algeria</th>\n",
       "      <th>Middle East and North Africa</th>\n",
       "      <td>53.262192</td>\n",
       "      <td>14.711891</td>\n",
       "      <td>43851043.0</td>\n",
       "    </tr>\n",
       "    <tr>\n",
       "      <th>Angola</th>\n",
       "      <th>Sub-Saharan Africa</th>\n",
       "      <td>-44.136028</td>\n",
       "      <td>35.025417</td>\n",
       "      <td>32866267.0</td>\n",
       "    </tr>\n",
       "    <tr>\n",
       "      <th>Argentina</th>\n",
       "      <th>Latin America and Caribbean</th>\n",
       "      <td>-24.361216</td>\n",
       "      <td>55.021935</td>\n",
       "      <td>45195777.0</td>\n",
       "    </tr>\n",
       "    <tr>\n",
       "      <th>...</th>\n",
       "      <th>...</th>\n",
       "      <td>...</td>\n",
       "      <td>...</td>\n",
       "      <td>...</td>\n",
       "    </tr>\n",
       "    <tr>\n",
       "      <th>Uruguay</th>\n",
       "      <th>Latin America and Caribbean</th>\n",
       "      <td>53.681656</td>\n",
       "      <td>-27.157444</td>\n",
       "      <td>3473727.0</td>\n",
       "    </tr>\n",
       "    <tr>\n",
       "      <th>Uzbekistan</th>\n",
       "      <th>Europe and Central Asia</th>\n",
       "      <td>-36.562862</td>\n",
       "      <td>-31.194565</td>\n",
       "      <td>33469199.0</td>\n",
       "    </tr>\n",
       "    <tr>\n",
       "      <th>Vanuatu</th>\n",
       "      <th>East Asia and Pacific</th>\n",
       "      <td>-25.332624</td>\n",
       "      <td>41.642075</td>\n",
       "      <td>307150.0</td>\n",
       "    </tr>\n",
       "    <tr>\n",
       "      <th>Zambia</th>\n",
       "      <th>Sub-Saharan Africa</th>\n",
       "      <td>-34.195057</td>\n",
       "      <td>-34.349861</td>\n",
       "      <td>18383956.0</td>\n",
       "    </tr>\n",
       "    <tr>\n",
       "      <th>Zimbabwe</th>\n",
       "      <th>Sub-Saharan Africa</th>\n",
       "      <td>-43.2575</td>\n",
       "      <td>36.726337</td>\n",
       "      <td>14862927.0</td>\n",
       "    </tr>\n",
       "  </tbody>\n",
       "</table>\n",
       "<p>153 rows × 3 columns</p>\n",
       "</div>"
      ],
      "text/plain": [
       "                                         1st_component 2nd_component  \\\n",
       "Country     Region                                                     \n",
       "Afghanistan South Asia                       -2.353757    -10.345737   \n",
       "Albania     Europe and Central Asia          42.661842     33.953609   \n",
       "Algeria     Middle East and North Africa     53.262192     14.711891   \n",
       "Angola      Sub-Saharan Africa              -44.136028     35.025417   \n",
       "Argentina   Latin America and Caribbean     -24.361216     55.021935   \n",
       "...                                                ...           ...   \n",
       "Uruguay     Latin America and Caribbean      53.681656    -27.157444   \n",
       "Uzbekistan  Europe and Central Asia         -36.562862    -31.194565   \n",
       "Vanuatu     East Asia and Pacific           -25.332624     41.642075   \n",
       "Zambia      Sub-Saharan Africa              -34.195057    -34.349861   \n",
       "Zimbabwe    Sub-Saharan Africa                -43.2575     36.726337   \n",
       "\n",
       "                                          Population  \n",
       "Country     Region                                    \n",
       "Afghanistan South Asia                    38928341.0  \n",
       "Albania     Europe and Central Asia        2877800.0  \n",
       "Algeria     Middle East and North Africa  43851043.0  \n",
       "Angola      Sub-Saharan Africa            32866267.0  \n",
       "Argentina   Latin America and Caribbean   45195777.0  \n",
       "...                                              ...  \n",
       "Uruguay     Latin America and Caribbean    3473727.0  \n",
       "Uzbekistan  Europe and Central Asia       33469199.0  \n",
       "Vanuatu     East Asia and Pacific           307150.0  \n",
       "Zambia      Sub-Saharan Africa            18383956.0  \n",
       "Zimbabwe    Sub-Saharan Africa            14862927.0  \n",
       "\n",
       "[153 rows x 3 columns]"
      ]
     },
     "execution_count": 12,
     "metadata": {},
     "output_type": "execute_result"
    }
   ],
   "source": [
    "read_path = os.getcwd()\n",
    "region_url = read_path + '/Databases/AuxiliarData/world-regions.csv'\n",
    "\n",
    "column_region = 'Region'\n",
    "column_country = 'Country'\n",
    "\n",
    "region_df = pd.read_csv(region_url)\n",
    "region_df.drop(columns=['Code', 'Year'], inplace = True)\n",
    "region_df.rename(columns = {'World Region according to the World Bank': column_region, 'Entity': column_country}, inplace = True)\n",
    "region_df.set_index(['Country', 'Region'], inplace = True)\n",
    "\n",
    "display(new_df_tsne)\n",
    "\n",
    "print(df.loc[df['Year'] == 2020].set_index('Country')['Population'])\n",
    "\n",
    "new_df_tsne = pd.concat([new_df_tsne, df.loc[df['Year'] == 2020].set_index('Country')['Population']], axis = 1)\n",
    "new_df_tsne = pd.merge(new_df_tsne, region_df, how = 'inner', left_index = True, right_index = True)\n",
    "\n",
    "new_df_tsne"
   ]
  },
  {
   "cell_type": "code",
   "execution_count": 13,
   "metadata": {},
   "outputs": [
    {
     "data": {
      "image/png": "[encoded data removed]",
      "text/plain": [
       "<Figure size 432x288 with 1 Axes>"
      ]
     },
     "metadata": {
      "needs_background": "light"
     },
     "output_type": "display_data"
    }
   ],
   "source": [
    "sns.set(rc={'figure.figsize':(7.5, 7.5)})\n",
    "\n",
    "sns.scatterplot(data = new_df_tsne, x = '1st_component', y = '2nd_component', markers = 'Region', hue = 'Region', size = 'Population', sizes = (50, 400))\n",
    "\n",
    "plt.legend(bbox_to_anchor=(1, 1), labelspacing = 1, loc=2)\n",
    "plt.title('Correlation Scatterplot')\n",
    "plt.show()"
   ]
  },
  {
   "cell_type": "code",
   "execution_count": 14,
   "metadata": {},
   "outputs": [],
   "source": [
    "def group(row):\n",
    "    list_c = ['Spain', 'China', 'Netherlands']\n",
    "\n",
    "    if row.name in list_c:\n",
    "        return 'Nope'\n",
    "    else:\n",
    "        return 'Yes'"
   ]
  },
  {
   "cell_type": "code",
   "execution_count": 15,
   "metadata": {},
   "outputs": [
    {
     "data": {
      "text/html": [
       "<div>\n",
       "<style scoped>\n",
       "    .dataframe tbody tr th:only-of-type {\n",
       "        vertical-align: middle;\n",
       "    }\n",
       "\n",
       "    .dataframe tbody tr th {\n",
       "        vertical-align: top;\n",
       "    }\n",
       "\n",
       "    .dataframe thead th {\n",
       "        text-align: right;\n",
       "    }\n",
       "</style>\n",
       "<table border=\"1\" class=\"dataframe\">\n",
       "  <thead>\n",
       "    <tr style=\"text-align: right;\">\n",
       "      <th></th>\n",
       "      <th></th>\n",
       "      <th>1st_component</th>\n",
       "      <th>2nd_component</th>\n",
       "      <th>Population</th>\n",
       "      <th>In list?</th>\n",
       "    </tr>\n",
       "    <tr>\n",
       "      <th>Country</th>\n",
       "      <th>Region</th>\n",
       "      <th></th>\n",
       "      <th></th>\n",
       "      <th></th>\n",
       "      <th></th>\n",
       "    </tr>\n",
       "  </thead>\n",
       "  <tbody>\n",
       "    <tr>\n",
       "      <th>Afghanistan</th>\n",
       "      <th>South Asia</th>\n",
       "      <td>-2.353757</td>\n",
       "      <td>-10.345737</td>\n",
       "      <td>38928341.0</td>\n",
       "      <td>&lt;NA&gt;</td>\n",
       "    </tr>\n",
       "    <tr>\n",
       "      <th>Albania</th>\n",
       "      <th>Europe and Central Asia</th>\n",
       "      <td>42.661842</td>\n",
       "      <td>33.953609</td>\n",
       "      <td>2877800.0</td>\n",
       "      <td>&lt;NA&gt;</td>\n",
       "    </tr>\n",
       "    <tr>\n",
       "      <th>Algeria</th>\n",
       "      <th>Middle East and North Africa</th>\n",
       "      <td>53.262192</td>\n",
       "      <td>14.711891</td>\n",
       "      <td>43851043.0</td>\n",
       "      <td>&lt;NA&gt;</td>\n",
       "    </tr>\n",
       "    <tr>\n",
       "      <th>Angola</th>\n",
       "      <th>Sub-Saharan Africa</th>\n",
       "      <td>-44.136028</td>\n",
       "      <td>35.025417</td>\n",
       "      <td>32866267.0</td>\n",
       "      <td>&lt;NA&gt;</td>\n",
       "    </tr>\n",
       "    <tr>\n",
       "      <th>Argentina</th>\n",
       "      <th>Latin America and Caribbean</th>\n",
       "      <td>-24.361216</td>\n",
       "      <td>55.021935</td>\n",
       "      <td>45195777.0</td>\n",
       "      <td>&lt;NA&gt;</td>\n",
       "    </tr>\n",
       "    <tr>\n",
       "      <th>...</th>\n",
       "      <th>...</th>\n",
       "      <td>...</td>\n",
       "      <td>...</td>\n",
       "      <td>...</td>\n",
       "      <td>...</td>\n",
       "    </tr>\n",
       "    <tr>\n",
       "      <th>Uruguay</th>\n",
       "      <th>Latin America and Caribbean</th>\n",
       "      <td>53.681656</td>\n",
       "      <td>-27.157444</td>\n",
       "      <td>3473727.0</td>\n",
       "      <td>&lt;NA&gt;</td>\n",
       "    </tr>\n",
       "    <tr>\n",
       "      <th>Uzbekistan</th>\n",
       "      <th>Europe and Central Asia</th>\n",
       "      <td>-36.562862</td>\n",
       "      <td>-31.194565</td>\n",
       "      <td>33469199.0</td>\n",
       "      <td>&lt;NA&gt;</td>\n",
       "    </tr>\n",
       "    <tr>\n",
       "      <th>Vanuatu</th>\n",
       "      <th>East Asia and Pacific</th>\n",
       "      <td>-25.332624</td>\n",
       "      <td>41.642075</td>\n",
       "      <td>307150.0</td>\n",
       "      <td>&lt;NA&gt;</td>\n",
       "    </tr>\n",
       "    <tr>\n",
       "      <th>Zambia</th>\n",
       "      <th>Sub-Saharan Africa</th>\n",
       "      <td>-34.195057</td>\n",
       "      <td>-34.349861</td>\n",
       "      <td>18383956.0</td>\n",
       "      <td>&lt;NA&gt;</td>\n",
       "    </tr>\n",
       "    <tr>\n",
       "      <th>Zimbabwe</th>\n",
       "      <th>Sub-Saharan Africa</th>\n",
       "      <td>-43.2575</td>\n",
       "      <td>36.726337</td>\n",
       "      <td>14862927.0</td>\n",
       "      <td>&lt;NA&gt;</td>\n",
       "    </tr>\n",
       "  </tbody>\n",
       "</table>\n",
       "<p>153 rows × 4 columns</p>\n",
       "</div>"
      ],
      "text/plain": [
       "                                         1st_component 2nd_component  \\\n",
       "Country     Region                                                     \n",
       "Afghanistan South Asia                       -2.353757    -10.345737   \n",
       "Albania     Europe and Central Asia          42.661842     33.953609   \n",
       "Algeria     Middle East and North Africa     53.262192     14.711891   \n",
       "Angola      Sub-Saharan Africa              -44.136028     35.025417   \n",
       "Argentina   Latin America and Caribbean     -24.361216     55.021935   \n",
       "...                                                ...           ...   \n",
       "Uruguay     Latin America and Caribbean      53.681656    -27.157444   \n",
       "Uzbekistan  Europe and Central Asia         -36.562862    -31.194565   \n",
       "Vanuatu     East Asia and Pacific           -25.332624     41.642075   \n",
       "Zambia      Sub-Saharan Africa              -34.195057    -34.349861   \n",
       "Zimbabwe    Sub-Saharan Africa                -43.2575     36.726337   \n",
       "\n",
       "                                          Population In list?  \n",
       "Country     Region                                             \n",
       "Afghanistan South Asia                    38928341.0     <NA>  \n",
       "Albania     Europe and Central Asia        2877800.0     <NA>  \n",
       "Algeria     Middle East and North Africa  43851043.0     <NA>  \n",
       "Angola      Sub-Saharan Africa            32866267.0     <NA>  \n",
       "Argentina   Latin America and Caribbean   45195777.0     <NA>  \n",
       "...                                              ...      ...  \n",
       "Uruguay     Latin America and Caribbean    3473727.0     <NA>  \n",
       "Uzbekistan  Europe and Central Asia       33469199.0     <NA>  \n",
       "Vanuatu     East Asia and Pacific           307150.0     <NA>  \n",
       "Zambia      Sub-Saharan Africa            18383956.0     <NA>  \n",
       "Zimbabwe    Sub-Saharan Africa            14862927.0     <NA>  \n",
       "\n",
       "[153 rows x 4 columns]"
      ]
     },
     "execution_count": 15,
     "metadata": {},
     "output_type": "execute_result"
    }
   ],
   "source": [
    "test_df = new_df_tsne.copy()\n",
    "#print(test_df.apply(lambda row: group(row), axis=1))\n",
    "test_df['In list?'] = df.apply(lambda row: group(row), axis=1).convert_dtypes()\n",
    "\n",
    "test_df"
   ]
  },
  {
   "cell_type": "code",
   "execution_count": 16,
   "metadata": {},
   "outputs": [
    {
     "name": "stdout",
     "output_type": "stream",
     "text": [
      "0      Nope\n",
      "1       Yes\n",
      "2       Yes\n",
      "3      Nope\n",
      "4      Nope\n",
      "       ... \n",
      "148    Nope\n",
      "149    Nope\n",
      "150    Nope\n",
      "151    Nope\n",
      "152    Nope\n",
      "Length: 153, dtype: string\n"
     ]
    },
    {
     "data": {
      "text/html": [
       "<div>\n",
       "<style scoped>\n",
       "    .dataframe tbody tr th:only-of-type {\n",
       "        vertical-align: middle;\n",
       "    }\n",
       "\n",
       "    .dataframe tbody tr th {\n",
       "        vertical-align: top;\n",
       "    }\n",
       "\n",
       "    .dataframe thead th {\n",
       "        text-align: right;\n",
       "    }\n",
       "</style>\n",
       "<table border=\"1\" class=\"dataframe\">\n",
       "  <thead>\n",
       "    <tr style=\"text-align: right;\">\n",
       "      <th></th>\n",
       "      <th></th>\n",
       "      <th>1st_component</th>\n",
       "      <th>2nd_component</th>\n",
       "      <th>Population</th>\n",
       "      <th>col</th>\n",
       "    </tr>\n",
       "    <tr>\n",
       "      <th>Country</th>\n",
       "      <th>Region</th>\n",
       "      <th></th>\n",
       "      <th></th>\n",
       "      <th></th>\n",
       "      <th></th>\n",
       "    </tr>\n",
       "  </thead>\n",
       "  <tbody>\n",
       "    <tr>\n",
       "      <th>Afghanistan</th>\n",
       "      <th>South Asia</th>\n",
       "      <td>-2.353757</td>\n",
       "      <td>-10.345737</td>\n",
       "      <td>38928341.0</td>\n",
       "      <td>&lt;NA&gt;</td>\n",
       "    </tr>\n",
       "    <tr>\n",
       "      <th>Albania</th>\n",
       "      <th>Europe and Central Asia</th>\n",
       "      <td>42.661842</td>\n",
       "      <td>33.953609</td>\n",
       "      <td>2877800.0</td>\n",
       "      <td>&lt;NA&gt;</td>\n",
       "    </tr>\n",
       "    <tr>\n",
       "      <th>Algeria</th>\n",
       "      <th>Middle East and North Africa</th>\n",
       "      <td>53.262192</td>\n",
       "      <td>14.711891</td>\n",
       "      <td>43851043.0</td>\n",
       "      <td>&lt;NA&gt;</td>\n",
       "    </tr>\n",
       "    <tr>\n",
       "      <th>Angola</th>\n",
       "      <th>Sub-Saharan Africa</th>\n",
       "      <td>-44.136028</td>\n",
       "      <td>35.025417</td>\n",
       "      <td>32866267.0</td>\n",
       "      <td>&lt;NA&gt;</td>\n",
       "    </tr>\n",
       "    <tr>\n",
       "      <th>Argentina</th>\n",
       "      <th>Latin America and Caribbean</th>\n",
       "      <td>-24.361216</td>\n",
       "      <td>55.021935</td>\n",
       "      <td>45195777.0</td>\n",
       "      <td>&lt;NA&gt;</td>\n",
       "    </tr>\n",
       "    <tr>\n",
       "      <th>...</th>\n",
       "      <th>...</th>\n",
       "      <td>...</td>\n",
       "      <td>...</td>\n",
       "      <td>...</td>\n",
       "      <td>...</td>\n",
       "    </tr>\n",
       "    <tr>\n",
       "      <th>Uruguay</th>\n",
       "      <th>Latin America and Caribbean</th>\n",
       "      <td>53.681656</td>\n",
       "      <td>-27.157444</td>\n",
       "      <td>3473727.0</td>\n",
       "      <td>&lt;NA&gt;</td>\n",
       "    </tr>\n",
       "    <tr>\n",
       "      <th>Uzbekistan</th>\n",
       "      <th>Europe and Central Asia</th>\n",
       "      <td>-36.562862</td>\n",
       "      <td>-31.194565</td>\n",
       "      <td>33469199.0</td>\n",
       "      <td>&lt;NA&gt;</td>\n",
       "    </tr>\n",
       "    <tr>\n",
       "      <th>Vanuatu</th>\n",
       "      <th>East Asia and Pacific</th>\n",
       "      <td>-25.332624</td>\n",
       "      <td>41.642075</td>\n",
       "      <td>307150.0</td>\n",
       "      <td>&lt;NA&gt;</td>\n",
       "    </tr>\n",
       "    <tr>\n",
       "      <th>Zambia</th>\n",
       "      <th>Sub-Saharan Africa</th>\n",
       "      <td>-34.195057</td>\n",
       "      <td>-34.349861</td>\n",
       "      <td>18383956.0</td>\n",
       "      <td>&lt;NA&gt;</td>\n",
       "    </tr>\n",
       "    <tr>\n",
       "      <th>Zimbabwe</th>\n",
       "      <th>Sub-Saharan Africa</th>\n",
       "      <td>-43.2575</td>\n",
       "      <td>36.726337</td>\n",
       "      <td>14862927.0</td>\n",
       "      <td>&lt;NA&gt;</td>\n",
       "    </tr>\n",
       "  </tbody>\n",
       "</table>\n",
       "<p>153 rows × 4 columns</p>\n",
       "</div>"
      ],
      "text/plain": [
       "                                         1st_component 2nd_component  \\\n",
       "Country     Region                                                     \n",
       "Afghanistan South Asia                       -2.353757    -10.345737   \n",
       "Albania     Europe and Central Asia          42.661842     33.953609   \n",
       "Algeria     Middle East and North Africa     53.262192     14.711891   \n",
       "Angola      Sub-Saharan Africa              -44.136028     35.025417   \n",
       "Argentina   Latin America and Caribbean     -24.361216     55.021935   \n",
       "...                                                ...           ...   \n",
       "Uruguay     Latin America and Caribbean      53.681656    -27.157444   \n",
       "Uzbekistan  Europe and Central Asia         -36.562862    -31.194565   \n",
       "Vanuatu     East Asia and Pacific           -25.332624     41.642075   \n",
       "Zambia      Sub-Saharan Africa              -34.195057    -34.349861   \n",
       "Zimbabwe    Sub-Saharan Africa                -43.2575     36.726337   \n",
       "\n",
       "                                          Population   col  \n",
       "Country     Region                                          \n",
       "Afghanistan South Asia                    38928341.0  <NA>  \n",
       "Albania     Europe and Central Asia        2877800.0  <NA>  \n",
       "Algeria     Middle East and North Africa  43851043.0  <NA>  \n",
       "Angola      Sub-Saharan Africa            32866267.0  <NA>  \n",
       "Argentina   Latin America and Caribbean   45195777.0  <NA>  \n",
       "...                                              ...   ...  \n",
       "Uruguay     Latin America and Caribbean    3473727.0  <NA>  \n",
       "Uzbekistan  Europe and Central Asia       33469199.0  <NA>  \n",
       "Vanuatu     East Asia and Pacific           307150.0  <NA>  \n",
       "Zambia      Sub-Saharan Africa            18383956.0  <NA>  \n",
       "Zimbabwe    Sub-Saharan Africa            14862927.0  <NA>  \n",
       "\n",
       "[153 rows x 4 columns]"
      ]
     },
     "execution_count": 16,
     "metadata": {},
     "output_type": "execute_result"
    }
   ],
   "source": [
    "test_df = new_df_tsne.copy()\n",
    "\n",
    "list_c = ['Spain', 'China', 'Netherlands']\n",
    "\n",
    "conditions = [\n",
    "  np.logical_and(test_df['1st_component'].gt(0), test_df['2nd_component'].gt(0))\n",
    "]\n",
    "\n",
    "outputs = ['Yes']\n",
    "\n",
    "col = pd.Series(np.select(conditions, outputs, 'Nope'), dtype = str, name = 'col')\n",
    "#print(pd.Series(np.select(conditions, outputs, 'Nope'), dtype = str))\n",
    "print(pd.Series(np.select(conditions, outputs, 'Nope'), dtype = str).convert_dtypes())\n",
    "\n",
    "test_df['col'] = (pd.Series(np.select(conditions, outputs, 'Nope'), dtype = str).convert_dtypes())\n",
    "\n",
    "#test_df = pd.concat([test_df, col], axis = 1, ignore_index = True)\n",
    "\n",
    "#test_df['col'] = pd.Series(np.select(conditions, outputs, 'Nope'), dtype = str).convert_dtypes()\n",
    "#test_df.join(col)\n",
    "test_df"
   ]
  },
  {
   "cell_type": "code",
   "execution_count": 17,
   "metadata": {},
   "outputs": [
    {
     "name": "stdout",
     "output_type": "stream",
     "text": [
      "[-1 -1 -1 -1 -1 -1 -1 -1 -1 -1 -1 -1 -1 -1 -1 -1 -1 -1 -1 -1 -1 -1 -1  0\n",
      "  0  0  0  0  1  1  1  1  1  1  1 -1 -1 -1 -1 -1 -1 -1 -1 -1 -1 -1 -1 -1\n",
      " -1 -1 -1 -1 -1 -1 -1 -1 -1 -1 -1 -1 -1 -1 -1 -1 -1 -1 -1 -1 -1 -1 -1 -1\n",
      " -1 -1 -1 -1 -1 -1 -1 -1 -1 -1 -1 -1 -1 -1 -1 -1 -1 -1 -1 -1 -1 -1 -1 -1\n",
      " -1 -1 -1 -1 -1 -1 -1 -1 -1 -1 -1 -1 -1 -1 -1 -1 -1 -1 -1 -1 -1 -1 -1 -1\n",
      " -1 -1 -1 -1 -1 -1 -1 -1 -1 -1 -1 -1 -1 -1 -1 -1 -1 -1 -1 -1 -1 -1 -1 -1\n",
      " -1 -1 -1 -1 -1 -1 -1 -1 -1]\n",
      "153\n"
     ]
    },
    {
     "data": {
      "text/plain": [
       "Text(0.5, 1.0, 'OPTICS Clustering')"
      ]
     },
     "execution_count": 17,
     "metadata": {},
     "output_type": "execute_result"
    },
    {
     "data": {
      "image/png": "[encoded data removed]",
      "text/plain": [
       "<Figure size 720x504 with 4 Axes>"
      ]
     },
     "metadata": {
      "needs_background": "light"
     },
     "output_type": "display_data"
    }
   ],
   "source": [
    "\n",
    "\n",
    "optics_model = OPTICS(min_samples = 5, xi = 0.05, min_cluster_size = 5)\n",
    "optics_model.fit(df_normalized)\n",
    "\n",
    "labels1 = cluster_optics_dbscan(reachability = optics_model.reachability_,\n",
    "core_distances = optics_model.core_distances_,\n",
    "ordering = optics_model.ordering_, eps = 0.5)\n",
    "\n",
    "space = np.arange(len(df_normalized))\n",
    "reachability = optics_model.reachability_[optics_model.ordering_]\n",
    "labels = optics_model.labels_[optics_model.ordering_]\n",
    "print(labels)\n",
    "print(len(labels))\n",
    "\n",
    "plt.figure(figsize = (10, 7))\n",
    "G = gridspec.GridSpec(2, 3)\n",
    "ax1 = plt.subplot(G[0, :])\n",
    "ax2 = plt.subplot(G[1, 0])\n",
    "ax3 = plt.subplot(G[1, 1])\n",
    "ax4 = plt.subplot(G[1, 2])\n",
    "\n",
    "# Plotting the Reachability-Distance Plot\n",
    "colors = ['c.', 'b.', 'r.', 'y.', 'g.']\n",
    "for Class, colour in zip(range(0, 5), colors):\n",
    "    Xk = space[labels == Class]\n",
    "    Rk = reachability[labels == Class]\n",
    "    ax1.plot(Xk, Rk, colour, alpha = 0.3)\n",
    "ax1.plot(space[labels == -1], reachability[labels == -1], 'k.', alpha = 0.3)\n",
    "ax1.plot(space, np.full_like(space, 2., dtype = float), 'k-', alpha = 0.5)\n",
    "ax1.plot(space, np.full_like(space, 0.5, dtype = float), 'k-.', alpha = 0.5)\n",
    "ax1.set_ylabel('Reachability Distance')\n",
    "ax1.set_title('Reachability Plot')\n",
    "  \n",
    "# Plotting the OPTICS Clustering\n",
    "colors = ['c.', 'b.', 'r.', 'y.', 'g.']\n",
    "for Class, colour in zip(range(0, 5), colors):\n",
    "    Xk = df_normalized[optics_model.labels_ == Class]\n",
    "    ax2.plot(Xk.iloc[:, 0], Xk.iloc[:, 1], colour, alpha = 0.3)\n",
    "      \n",
    "ax2.plot(df_normalized.iloc[optics_model.labels_ == -1, 0],\n",
    "        df_normalized.iloc[optics_model.labels_ == -1, 1],\n",
    "       'k+', alpha = 0.1)\n",
    "ax2.set_title('OPTICS Clustering')\n",
    "  "
   ]
  },
  {
   "cell_type": "code",
   "execution_count": 18,
   "metadata": {},
   "outputs": [
    {
     "data": {
      "text/plain": [
       "' #MORRALLA\\n\\n# K-MEANS CLUSTERING\\n# Importing Modules\\nfrom sklearn import datasets\\nfrom sklearn.cluster import KMeans\\nimport matplotlib.pyplot as plt\\nfrom sklearn.decomposition import PCA\\n# Loading dataset\\niris_df = datasets.load_iris()\\n\\n# Declaring Model\\nmodel = KMeans(n_clusters=3)\\n\\n# Fitting Model\\nmodel.fit(iris_df.data)\\n\\n# Predicitng a single input\\npredicted_label = model.predict([[7.2, 3.5, 0.8, 1.6]])\\n\\n# Prediction on the entire data\\nall_predictions = model.predict(iris_df.data)\\n\\n# Printing Predictions\\nprint(predicted_label)\\nprint(all_predictions)\\n\\n\\n# import some data to play with\\niris = datasets.load_iris()\\nX = iris.data[:, :3]  # we only take the first two features.\\ny = iris.target\\n\\n\\nfig = plt.figure(figsize=(10,10))\\nplt = fig.add_subplot(111, projection=\\'3d\\')\\nplt.scatter(X[:,0],X[:,1],X[:,2], \\n            c=all_predictions, edgecolor=\\'red\\', s=40, alpha = 0.5)\\nplt.set_title(\"First three PCA directions\")\\nplt.set_xlabel(\"Educational_Degree\")\\nplt.set_ylabel(\"Gross_Monthly_Salary\")\\nplt.set_zlabel(\"Claim_Rate\")\\nplt.dist = 10\\nplt\\n\\nfrom sklearn import datasets\\nfrom sklearn.cluster import KMeans\\nimport matplotlib.pyplot as plt\\nfrom sklearn.decomposition import PCA\\n\\nmodel = KMeans()\\nres = model.fit_predict(df)\\n\\n '"
      ]
     },
     "execution_count": 18,
     "metadata": {},
     "output_type": "execute_result"
    }
   ],
   "source": [
    "\"\"\" #MORRALLA\n",
    "\n",
    "# K-MEANS CLUSTERING\n",
    "# Importing Modules\n",
    "from sklearn import datasets\n",
    "from sklearn.cluster import KMeans\n",
    "import matplotlib.pyplot as plt\n",
    "from sklearn.decomposition import PCA\n",
    "# Loading dataset\n",
    "iris_df = datasets.load_iris()\n",
    "\n",
    "# Declaring Model\n",
    "model = KMeans(n_clusters=3)\n",
    "\n",
    "# Fitting Model\n",
    "model.fit(iris_df.data)\n",
    "\n",
    "# Predicitng a single input\n",
    "predicted_label = model.predict([[7.2, 3.5, 0.8, 1.6]])\n",
    "\n",
    "# Prediction on the entire data\n",
    "all_predictions = model.predict(iris_df.data)\n",
    "\n",
    "# Printing Predictions\n",
    "print(predicted_label)\n",
    "print(all_predictions)\n",
    "\n",
    "\n",
    "# import some data to play with\n",
    "iris = datasets.load_iris()\n",
    "X = iris.data[:, :3]  # we only take the first two features.\n",
    "y = iris.target\n",
    "\n",
    "\n",
    "fig = plt.figure(figsize=(10,10))\n",
    "plt = fig.add_subplot(111, projection='3d')\n",
    "plt.scatter(X[:,0],X[:,1],X[:,2], \n",
    "            c=all_predictions, edgecolor='red', s=40, alpha = 0.5)\n",
    "plt.set_title(\"First three PCA directions\")\n",
    "plt.set_xlabel(\"Educational_Degree\")\n",
    "plt.set_ylabel(\"Gross_Monthly_Salary\")\n",
    "plt.set_zlabel(\"Claim_Rate\")\n",
    "plt.dist = 10\n",
    "plt\n",
    "\n",
    "from sklearn import datasets\n",
    "from sklearn.cluster import KMeans\n",
    "import matplotlib.pyplot as plt\n",
    "from sklearn.decomposition import PCA\n",
    "\n",
    "model = KMeans()\n",
    "res = model.fit_predict(df)\n",
    "\n",
    " \"\"\""
   ]
  }
 ],
 "metadata": {
  "kernelspec": {
   "display_name": "Python 3.10.5 ('.venv': poetry)",
   "language": "python",
   "name": "python3"
  },
  "language_info": {
   "codemirror_mode": {
    "name": "ipython",
    "version": 3
   },
   "file_extension": ".py",
   "mimetype": "text/x-python",
   "name": "python",
   "nbconvert_exporter": "python",
   "pygments_lexer": "ipython3",
   "version": "3.10.5"
  },
  "orig_nbformat": 4,
  "vscode": {
   "interpreter": {
    "hash": "44718ba4235bc6fc2135f9d8856f170c8312ddd29b08710a5ea28d42169e623e"
   }
  }
 },
 "nbformat": 4,
 "nbformat_minor": 2
}
