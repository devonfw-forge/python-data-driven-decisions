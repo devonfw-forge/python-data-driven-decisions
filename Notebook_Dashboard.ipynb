{
 "cells": [
  {
   "cell_type": "code",
   "execution_count": null,
   "metadata": {
    "extensions": {
     "jupyter_dashboards": {
      "version": 1,
      "views": {
       "default_view": {
        "hidden": true
       }
      }
     }
    }
   },
   "outputs": [],
   "source": [
    "import os\n",
    "import pandas as pd\n",
    "import numpy as np\n",
    "from numpy import sort\n",
    "from os import listdir\n",
    "from os.path import isfile, join\n",
    "\n",
    "import ipywidgets as widgets\n",
    "from ipywidgets import interact, interact_manual\n",
    "import matplotlib.pyplot as plt\n",
    "import plotly.express as px\n",
    "\n",
    "from IPython.display import display_html\n",
    "\n",
    "from matplotlib_venn import venn3\n",
    "from Project.Utils.norm import norm\n",
    "from Project.Utils.max_corr import max_corr\n",
    "\n",
    "from Project.Utils.visualize import search, searchTimeSeries, get_years\n",
    "\n",
    "import nbimporter\n",
    "import Notebook_Machine_Learning as Nbook_machine\n",
    "\n",
    "import warnings\n",
    "warnings.filterwarnings(\"ignore\")"
   ]
  },
  {
   "cell_type": "code",
   "execution_count": null,
   "metadata": {
    "extensions": {
     "jupyter_dashboards": {
      "version": 1,
      "views": {
       "default_view": {
        "hidden": true
       }
      }
     }
    }
   },
   "outputs": [],
   "source": [
    "data_path = os.getcwd() + '/Databases/'\n",
    "output_path = os.getcwd() + '/Output/'\n",
    "country_path = output_path + '/Country/'\n",
    "region_path = output_path + '/Region/'\n",
    "cluster_path = output_path + '/Cluster/'"
   ]
  },
  {
   "cell_type": "code",
   "execution_count": null,
   "metadata": {
    "extensions": {
     "jupyter_dashboards": {
      "version": 1,
      "views": {
       "default_view": {
        "hidden": true
       }
      }
     }
    }
   },
   "outputs": [],
   "source": [
    "file_regions = 'AuxiliarData/world-regions-mod.csv'\n",
    "\n",
    "file_gold = 'GoldDataframe.csv'\n",
    "file_corr_pearson = 'Corr_DF_Pearson.csv'\n",
    "file_corr_spearman = 'Corr_DF_Spearman.csv'\n",
    "file_agg_region = 'AggregatedRegion_DataFrame.csv'\n",
    "file_agg_world = 'AggregatedWorld_DataFrame.csv'\n",
    "file_norm_df = 'Norm_DF.csv'\n",
    "file_shifted_corr_country = 'Shifted_Corr_Country.csv'\n",
    "file_shifted_corr_region = 'Shifted_Corr_Region.csv'"
   ]
  },
  {
   "cell_type": "code",
   "execution_count": null,
   "metadata": {
    "extensions": {
     "jupyter_dashboards": {
      "version": 1,
      "views": {
       "default_view": {
        "hidden": true
       }
      }
     }
    }
   },
   "outputs": [],
   "source": [
    "col_country = 'Country'\n",
    "col_year = 'Year'\n",
    "col_region = 'Region'\n",
    "col_gdp = 'GDP'\n",
    "col_cluster = 'Cluster'\n",
    "col_shift = 'Shift'\n",
    "\n",
    "col_1comp = '1st_component'\n",
    "col_2comp = '2nd_component'"
   ]
  },
  {
   "cell_type": "code",
   "execution_count": null,
   "metadata": {
    "extensions": {
     "jupyter_dashboards": {
      "version": 1,
      "views": {
       "default_view": {
        "hidden": true
       }
      }
     }
    }
   },
   "outputs": [],
   "source": [
    "# READ GOLD DATAFRME\n",
    "# Read Golden Dataframe and initialize the variables that depend on it.\n",
    "\n",
    "df_gold = pd.read_csv(output_path + file_gold, on_bad_lines = 'warn', index_col = ['Region', 'Country', 'Year'])\n",
    "\n",
    "# List of countries and list of regions.\n",
    "country_list = list(np.sort(df_gold.index.get_level_values(col_country).unique()))\n",
    "region_list = list(np.sort(df_gold.index.get_level_values(col_region).unique()))\n",
    "\n",
    "mode_dict = {}\n",
    "mode_dict[col_country] = country_list\n",
    "mode_dict[col_region] = region_list\n",
    "mode_list = [col_country, col_region]\n",
    "\n",
    "# Range of years.\n",
    "min_year = df_gold.index.get_level_values(col_year).min()\n",
    "max_year = df_gold.index.get_level_values(col_year).max()\n",
    "\n",
    "# List of all indicators, except for the GDP.\n",
    "indicators_list = df_gold.columns.tolist()\n",
    "indicators_list.remove(col_gdp)\n",
    "indicators_list.sort()"
   ]
  },
  {
   "cell_type": "code",
   "execution_count": null,
   "metadata": {},
   "outputs": [],
   "source": [
    "df_regions = pd.read_csv(data_path + file_regions, index_col = [col_country, col_region])\n",
    "df_corr_pearson = pd.read_csv(output_path + file_corr_pearson, index_col = [col_country])\n",
    "df_corr_spearman = pd.read_csv(output_path + file_corr_spearman, index_col = [col_country])\n",
    "\n",
    "median_corr_df_pearson_region = pd.merge(df_corr_pearson, df_regions, how = 'inner', left_index = True, right_index = True).groupby(level = col_region).median()\n",
    "median_corr_df_spearman_region = pd.merge(df_corr_spearman, df_regions, how = 'inner', left_index = True, right_index = True).groupby(level = col_region).median()\n",
    "median_corr_df_pearson = pd.merge(df_corr_pearson, df_regions, how = 'inner', left_index = True, right_index = True).median().rename('GDP Pearson Corr')\n",
    "median_corr_df_spearman = pd.merge(df_corr_spearman, df_regions, how = 'inner', left_index = True, right_index = True).median().rename('GDP Spearman Corr')\n",
    "\n",
    "median_corr_df = pd.concat([median_corr_df_pearson, median_corr_df_spearman], axis = 1)\n",
    "\n",
    "shift_dict = {}\n",
    "shift_dict[col_country] = pd.read_csv(output_path + file_shifted_corr_country, index_col = [col_country, col_shift])\n",
    "shift_dict[col_region] = pd.read_csv(output_path + file_shifted_corr_region, index_col = [col_region, col_shift])"
   ]
  },
  {
   "cell_type": "code",
   "execution_count": null,
   "metadata": {
    "extensions": {
     "jupyter_dashboards": {
      "version": 1,
      "views": {
       "default_view": {
        "hidden": true
       }
      }
     }
    }
   },
   "outputs": [],
   "source": [
    "# READ CLUSTERS\n",
    "# Read both Dataframes for each indicators group: the one with the indicator values, and the one with the components.\n",
    "\n",
    "ind_dict = {}\n",
    "cluster_dict = {}\n",
    "cluster_list = []\n",
    "comp_dict = {}\n",
    "\n",
    "for element in listdir(cluster_path):\n",
    "    url = join(cluster_path, element)\n",
    "    if isfile(url) and url.endswith('_Comp.csv'):\n",
    "        ind = element.removesuffix('_Comp.csv')\n",
    "        comp_df = pd.read_csv(url, on_bad_lines = 'warn', index_col = [col_cluster, col_country])\n",
    "        comp_dict[ind] = comp_df\n",
    "        cluster_number_df = comp_df.drop(columns = comp_df.columns).reset_index(col_cluster, drop = False).rename({col_cluster: ind}, axis = 1)\n",
    "        cluster_list.append(cluster_number_df)\n",
    "\n",
    "    elif isfile(url) and url.endswith('.csv'):\n",
    "        ind = element.removesuffix('.csv')\n",
    "        ind_df = pd.read_csv(url, on_bad_lines = 'warn', index_col = [col_cluster, col_country])\n",
    "        cluster_dict[ind] = ind_df.reset_index(col_cluster, drop = False)\n",
    "        ind_dict[ind] = np.sort(ind_df.columns)\n",
    "\n",
    "cluster_df = pd.concat(cluster_list, axis = 1)\n",
    "cluster_df = cluster_df.fillna(-1).astype(int)"
   ]
  },
  {
   "cell_type": "code",
   "execution_count": null,
   "metadata": {},
   "outputs": [],
   "source": [
    "plot_time_series_out = widgets.Output(layout={'border': '1px solid black'})\n",
    "plot_cluster_map_out = widgets.Output(layout={'border': '1px solid black'})\n",
    "table_cluster_out = widgets.Output(layout={'border': '1px solid black'})\n",
    "venn_group_out = widgets.Output(layout={'border': '1px solid black'})\n",
    "globe_corr_out = widgets.Output(layout={'border': '1px solid black'})\n",
    "table_time_window_out = widgets.Output(layout={'border': '1px solid black', 'width': '1120px'})\n",
    "table_high_range_out = widgets.Output(layout={'border': '1px solid black', 'width': '750px'})\n",
    "table_corr_country_out = widgets.Output(layout={'border': '1px solid black'})\n",
    "table_corr_med_out = widgets.Output(layout={'border': '1px solid black'})\n",
    "table_max_shift_out = widgets.Output(layout={'border': '1px solid black'})\n",
    "plot_prediction_out = widgets.Output(layout={'border': '1px solid black'})\n",
    "\n",
    "widgets_general_out = widgets.Output(layout={'border': '1px solid black'})\n",
    "widgets_time_out = widgets.Output(layout={'border': '1px solid black'})\n",
    "widgets_cluster_out = widgets.Output(layout={'border': '1px solid black'})\n",
    "\n",
    "widgets_out = widgets.Output(layout={'border': '1px solid black'})"
   ]
  },
  {
   "cell_type": "code",
   "execution_count": null,
   "metadata": {
    "extensions": {
     "jupyter_dashboards": {
      "version": 1,
      "views": {
       "default_view": {
        "hidden": true
       }
      }
     }
    }
   },
   "outputs": [],
   "source": [
    "@plot_cluster_map_out.capture(clear_output=True, wait=True)\n",
    "def plot_cluster_map (df: pd.DataFrame, group_name: str = 'All indicators', *, col_1comp: str = '1st_component', col_2comp: str = '2nd_component'):\n",
    "    if df is None: return None\n",
    "    fig = px.scatter(df, x = col_1comp, y = col_2comp, text = df.index, size_max=100, color=col_cluster, category_orders={col_cluster: np.sort(df.loc[:, col_cluster].unique())})\n",
    "    fig.update_layout(title_text = group_name, title_x=0.5)\n",
    "    fig.update_traces(textposition = 'top center')\n",
    "    fig.show()\n",
    "\n",
    "@table_cluster_out.capture(clear_output=True, wait=True)\n",
    "def table_cluster (df: pd.DataFrame, group_name: str = 'All indicators', country: str = '', cluster_number: int = 0):\n",
    "    if df is None: return None\n",
    "    try:\n",
    "        df_s = df.style\n",
    "        df_s.apply_index(lambda i: ['background-color: #aadfff; font-weight: 500' if c == country else '' for c in i], axis = 0)\n",
    "        df_s.apply(lambda row: ['background-color: #ccebff;' if row.name == country else '' for cell in row], axis = 1)\n",
    "        df_s.set_table_styles([{'selector': 'td:hover', 'props': [('background-color', '#ddfdff')]}])\n",
    "        tt = {}\n",
    "        for col in df.columns:\n",
    "            tt[col] = 'Column median: ' + str(df.loc[:, col].median())\n",
    "        df_s.set_tooltips(pd.DataFrame(tt, index = df.index))\n",
    "\n",
    "        # Display a short descriptive title and the Dataframe.\n",
    "        df_s.set_caption(country + ' belongs to Cluster ' + str(cluster_number) + '. This Cluster contains a total of ' + str(df.shape[0]) + ' countries. The correlation values for these countries are the following:')\n",
    "        #display(country + ' belongs to Cluster ' + str(cluster_number) + '. This Cluster contains a total of ' + str(df.shape[0]) + ' countries.')\n",
    "        display(df_s)\n",
    "    except Exception:\n",
    "        return print('No indicators available for this country.')\n",
    "\n",
    "@venn_group_out.capture(clear_output=True, wait=True)\n",
    "def venn_group(cluster_df, country):\n",
    "    try:\n",
    "        _, econ_ind, eq_ind, socdem_ind = ind_dict.keys()       # NON ROBUST STATEMENT\n",
    "        _, set_econ, set_eq, set_socdem = (set(cluster_df.loc[lambda df: df[ind] == df.loc[country, ind], ind].index.to_list()) for ind in ind_dict.keys())\n",
    "        venn = venn3([set_econ, set_socdem, set_eq], (econ_ind, socdem_ind, eq_ind))\n",
    "        plt.rcParams[\"figure.figsize\"] = (12, 12)\n",
    "        venn.get_label_by_id('100').set_text('\\n'.join(set_econ - set_socdem - set_eq)) # Only econ\n",
    "        venn.get_label_by_id('010').set_text('\\n'.join(set_socdem - set_econ - set_eq)) # Only socdem\n",
    "        venn.get_label_by_id('001').set_text('\\n'.join(set_eq - set_econ - set_socdem)) # Only eq\n",
    "\n",
    "        # The three pair-intersections is guaranteed only if there is an intersection of the three groups.\n",
    "        if len(set_econ & set_socdem & set_eq):\n",
    "            venn.get_label_by_id('111').set_text('\\n'.join(set_econ & set_socdem & set_eq))\n",
    "            venn.get_label_by_id('110').set_text('\\n'.join(set_econ & set_socdem - set_eq))\n",
    "            venn.get_label_by_id('101').set_text('\\n'.join(set_econ & set_eq - set_socdem))\n",
    "            venn.get_label_by_id('011').set_text('\\n'.join(set_socdem & set_eq - set_econ))\n",
    "        else:\n",
    "            # If no center, check the intersections that do exist.\n",
    "            if len(set_econ & set_socdem - set_eq):\n",
    "                venn.get_label_by_id('110').set_text('\\n'.join(set_econ & set_socdem - set_eq))\n",
    "            if len(set_econ & set_eq - set_socdem):\n",
    "                venn.get_label_by_id('101').set_text('\\n'.join(set_econ & set_eq - set_socdem))\n",
    "            if len(set_socdem & set_eq - set_econ):\n",
    "                venn.get_label_by_id('011').set_text('\\n'.join(set_socdem & set_eq - set_econ))\n",
    " \n",
    "        plt.show()\n",
    "    except:\n",
    "        print('No indicators available for this country.')\n",
    "\n",
    "@plot_time_series_out.capture(clear_output=True, wait=True)\n",
    "def plot_time_series(df: pd.DataFrame, mode: str, zone: str, indicator: str, years: tuple, shift: int):\n",
    "    data_s = df.loc[df.index.get_level_values(mode) == zone, [col_gdp, indicator]].groupby(level = col_year).median()\n",
    "\n",
    "    min_year = years[0]\n",
    "    max_year = years[1]\n",
    "\n",
    "    min_year_gdp = min_year + max(shift, 0)\n",
    "    max_year_gdp = max_year + min(shift, 0)\n",
    "\n",
    "    min_year_ind = min_year - min(shift, 0)\n",
    "    max_year_ind = max_year - max(shift, 0)\n",
    "\n",
    "    norm_gdp = norm(data_s.loc[min_year_gdp : max_year_gdp, [col_gdp]], None)\n",
    "    norm_ind = norm(data_s.loc[min_year_ind : max_year_ind, [indicator]], None)\n",
    "\n",
    "    plt.figure(figsize = (8,8))\n",
    "    plt.plot(\n",
    "                #norm_gdp.index.get_level_values(col_year),\n",
    "                norm_gdp.reset_index(drop = True),\n",
    "                color = \"red\", label = col_gdp)\n",
    "    plt.plot(\n",
    "                #norm_ind.index.get_level_values(col_year),\n",
    "                norm_ind.reset_index(drop = True),\n",
    "                color = \"green\", label = indicator)\n",
    "    plt.legend(loc = \"lower right\")\n",
    "    plt.title('GDP - Indicator evolution')\n",
    "    plt.show()\n",
    "\n",
    "@table_max_shift_out.capture(clear_output=True, wait=True)\n",
    "def table_max_shift(mode: str, sh_range: tuple, pval: float):    \n",
    "    # Load the corresponding Dataframe and apply the user-introduced restrictions.\n",
    "    df = shift_dict[mode] # CHANGE THIS ONE LINE\n",
    "    min_sh = sh_range[0]\n",
    "    max_sh = sh_range[1]\n",
    "    df = df.loc[(min_sh <= df.index.get_level_values(col_shift)) & (df.index.get_level_values(col_shift) <= max_sh)]\n",
    "    max_corr_df, max_corr_index_df = max_corr(df, mode, pval, raw = False)\n",
    "\n",
    "    # Apply style and display.\n",
    "    df_s = max_corr_df.style\n",
    "    df_s.set_tooltips(max_corr_index_df.applymap(lambda x:\n",
    "                                                    'No data' if np.isnan(x) else \n",
    "                                                    'Shift: ' + str(int(x))                         \n",
    "                                                )\n",
    "                    )\n",
    "    df_s.background_gradient(cmap='RdBu')\n",
    "    df_s.set_caption('Maximum correlation values (hover to show which shift was applied)')\n",
    "    display(df_s)"
   ]
  },
  {
   "cell_type": "code",
   "execution_count": null,
   "metadata": {
    "extensions": {
     "jupyter_dashboards": {
      "version": 1,
      "views": {
       "default_view": {
        "hidden": true
       }
      }
     }
    }
   },
   "outputs": [],
   "source": [
    "import itertools\n",
    "from scipy import stats\n",
    "\n",
    "def styler_method(df, name, pvalue = None):    \n",
    "        if pvalue == None:\n",
    "                pvalue = 0.05\n",
    "    #try:\n",
    "        styles = [dict(selector=\"caption\", props=[(\"background-color\", \"#98D3FF\")])]\n",
    "        left1 = pd.Series([pvalue], index=['P-value Spearman'])\n",
    "        left2 = pd.Series([-1], index=['GDP Spearman Corr'])\n",
    "        left3 = pd.Series([0], index=['GDP Spearman Corr'])\n",
    "        dfs = df.style.highlight_between(left = left1, right = 1.5, axis = 1, props='color:white; background-color:red;')\\\n",
    "                .highlight_between(left = left2, right = 1.5, axis = 1, props='color:white; background-color:#929bfc;')\\\n",
    "                .highlight_between(left = left3, right = 1.5, axis = 1, props='color:white; background-color:#b3b9ff;')\\\n",
    "                .format('{:,.4f}', subset = ['GDP Spearman Corr'])\\\n",
    "                .format('{:,.12f}', subset = ['P-value Spearman']) \\\n",
    "                .set_caption(name).set_table_styles(styles)\\\n",
    "                .set_table_attributes(\"style='display:inline'\")\n",
    "    #except:\n",
    "    #    dfs = 'No indicators have been found for the window dataframe in this range.'\n",
    "        \n",
    "        return dfs\n",
    "\n",
    "def init_highest_table(indicators):    \n",
    "    df_highest = pd.DataFrame(columns={\"Indicator\"})\n",
    "    df_highest[\"Indicator\"] = indicators\n",
    "    df_highest[\"Year range\"] = 0\n",
    "    df_highest[\"Highest positive corr\"] = 0\n",
    "    df_highest[\"Year range \"] = 0\n",
    "    df_highest[\"Highest negative corr\"] = 0\n",
    "    df_highest.set_index(\"Indicator\", inplace= True)\n",
    "\n",
    "    return df_highest\n",
    "\n",
    "def generate_years_combinations(min_diff: int, min, max):\n",
    "    iterable = list(range(min, max + 1))\n",
    "    iterable = list(itertools.combinations(iterable, 2))\n",
    "\n",
    "    #The year length must be higher than 5. All entries with a lower range are deleted.\n",
    "    for years in iterable.copy():\n",
    "        if (years[1] - years[0]) < min_diff:\n",
    "            iterable.remove(years)\n",
    "    return iterable"
   ]
  },
  {
   "cell_type": "code",
   "execution_count": null,
   "metadata": {
    "extensions": {
     "jupyter_dashboards": {
      "version": 1,
      "views": {
       "default_view": {
        "hidden": true
       }
      }
     }
    }
   },
   "outputs": [],
   "source": [
    "@globe_corr_out.capture(clear_output=True, wait=True)\n",
    "def globe_corr(df_corr, ind):\n",
    "    N = 10\n",
    "    fig = px.choropleth(df_corr, locations = df_corr.index, locationmode='country names', \n",
    "                        color = ind, projection=\"natural earth\",\n",
    "                        color_continuous_scale='RdBu',\n",
    "                        width = 700, height=500)\n",
    "\n",
    "    pos_corr = df_corr.drop(df_corr.columns.difference([ind]), axis = 1).sort_values(by = ind, axis = 0, ascending = False).head(n = N)\n",
    "    neg_corr = df_corr.drop(df_corr.columns.difference([ind]), axis = 1).sort_values(by = ind, axis = 0, ascending = True).head(n = N)\n",
    "\n",
    "    pos_corr = pos_corr.loc[pos_corr[ind] > 0]\n",
    "    neg_corr = neg_corr.loc[neg_corr[ind] < 0]\n",
    "\n",
    "    fig.update_layout(title_text = 'Correlation to GDP')\n",
    "    fig.update(layout_coloraxis_showscale=True)\n",
    "    fig.show()\n",
    "\n",
    "@table_time_window_out.capture(clear_output=True, wait=True)\n",
    "def table_time_window(df, mode, zone, years, threshold, pval):\n",
    "    df_zone = df.loc[df.index.get_level_values(mode) == zone]\n",
    "    #Load the selected year range and the global range.\n",
    "    df_time = searchTimeSeries(threshold, years[0], years[1], True, df_zone)\n",
    "    df_global = searchTimeSeries(threshold, years[0], years[1], False, df_zone)\n",
    "\n",
    "    # Display Data\n",
    "    if years[0] > years[1]: return print(\"Please, select a valid range of years.\")\n",
    " \n",
    "    space = \"\\xa0\" * 5\n",
    "    try:\n",
    "        df_time = styler_method(df_time, str(years[0]) + '-' + str(years[1]), pval)._repr_html_()\n",
    "    except Exception as e: \n",
    "        df_time = 'No indicators available for the selected parameters'\n",
    "    \n",
    "    try:\n",
    "        df_global = styler_method(df_global, '2000-2020 (Original)', pval)._repr_html_()\n",
    "    except: \n",
    "        df_global = 'No indicators available for the selected parameters'\n",
    "    \n",
    "    display_html(df_time + space  + df_global, raw=True)\n",
    "\n",
    "@table_high_range_out.capture(clear_output=True)\n",
    "def table_high_range(df, mode, zone, pval):\n",
    "    if mode == 'Country':\n",
    "        min_diff = 5\n",
    "        \n",
    "    elif mode == 'Region':\n",
    "        min_diff = 2\n",
    "    \n",
    "    df_zone = df.loc[df.index.get_level_values(mode) == zone] #.drop(columns = 'GDP')\n",
    "    indicators = df.columns\n",
    "    df_highest = init_highest_table(indicators)\n",
    "\n",
    "    i = 0\n",
    "    computing_text = \"Loading \"\n",
    "    print(computing_text, end=\"\\r\")\n",
    "    \n",
    "    #For all the combination of years...\n",
    "    for years in generate_years_combinations(min_diff, min_year, max_year):\n",
    "        i = (i + 1) % 50\n",
    "        print (computing_text + \"\".join([\".\" for _ in range(i)]), end=\"\\r\")\n",
    "        \n",
    "        df_aux = searchTimeSeries(0, years[0], years[1], True, df_zone)\n",
    "        #Delete indicators which are not available that year\n",
    "        indicators_inter = list(set(indicators) & set(list(df_aux.index)))\n",
    "\n",
    "        #For all the indicators availble that year....\n",
    "        for indicator in indicators_inter:\n",
    "            #Algorithm to search for the highest value\n",
    "            indicator_corr_pos_last = df_highest[df_highest.index.get_level_values(0) == indicator][\"Highest positive corr\"][0]\n",
    "            indicator_corr_neg_last = df_highest[df_highest.index.get_level_values(0) == indicator][\"Highest negative corr\"][0]\n",
    "            \n",
    "          \n",
    "            indicator_corr_aux = df_aux[df_aux.index.get_level_values(0) == indicator][\"GDP Spearman Corr\"][0]\n",
    "            indicator_p_value_aux = df_aux[df_aux.index.get_level_values(0) == indicator][\"P-value Spearman\"][0]\n",
    "\n",
    "            if indicator_corr_aux != np.NaN and indicator_p_value_aux < pval:\n",
    "                if indicator_corr_pos_last < indicator_corr_aux and indicator_corr_aux > 0:\n",
    "                    df_highest.at[indicator, \"Year range\"] = str(years[0]) + '-' + str(years[1])\n",
    "                    df_highest.at[indicator, \"Highest positive corr\"] = indicator_corr_aux\n",
    "                elif indicator_corr_neg_last > indicator_corr_aux and indicator_corr_aux < 0:\n",
    "                    df_highest.at[indicator, \"Year range \"] = str(years[0]) + '-' + str(years[1])\n",
    "                    df_highest.at[indicator, \"Highest negative corr\"] = indicator_corr_aux\n",
    "\n",
    "    df_highest = df_highest.replace(0, np.NaN).dropna(axis=0, how='all').fillna(\"-\")\n",
    "\n",
    "    print(\"                                                                                    \", end=\"\\r\")\n",
    "    display(df_highest)\n",
    "\n",
    "@table_corr_country_out.capture(clear_output=True, wait=True)\n",
    "def table_corr_country(mode, zone, threshold, pval):\n",
    "#     print(mode, zone)\n",
    "    try:\n",
    "        df = search(threshold, mode, zone)\n",
    "        if df.empty:\n",
    "            return print(\"No indicators have been found.\")\n",
    "\n",
    "        left1 = pd.Series([pval, pval], index=['P-value Pearson', 'P-value Spearman'])\n",
    "        left2 = pd.Series([-1, -1], index=['GDP Pearson Corr', 'GDP Spearman Corr'])\n",
    "        left3 = pd.Series([0, 0], index=['GDP Pearson Corr', 'GDP Spearman Corr'])\n",
    "\n",
    "        df = df.style.highlight_between(left = left1, right = 1.5, axis = 1, props='color:white; background-color:red;')\\\n",
    "                    .highlight_between(left = left2, right = 1.5, axis = 1, props='color:white; background-color:#929bfc;')\\\n",
    "                    .highlight_between(left = left3, right = 1.5, axis = 1, props='color:white; background-color:#b3b9ff;')\\\n",
    "                    .format('{:,.4f}', subset = ['GDP Pearson Corr', 'GDP Spearman Corr'])\\\n",
    "                    .format('{:,.12f}', subset = ['P-value Pearson', 'P-value Spearman'])\\\n",
    "                    .set_caption(zone + ' correlations')          \n",
    "        display(df)\n",
    "    except:\n",
    "        return print('Loading...')\n",
    "\n",
    "@table_corr_med_out.capture(clear_output=True, wait=True)\n",
    "def table_corr_med(threshold):\n",
    "    df = median_corr_df\n",
    "    df = df.loc[(abs(df['GDP Pearson Corr']) >= threshold) & (abs(df['GDP Spearman Corr']) >= threshold)]\n",
    "    if df.empty:\n",
    "        return print(\"No indicators have been found.\")\n",
    "\n",
    "    df = df.sort_values(by = df.columns[0], ascending = False, key = lambda row: df.sum(axis = 1))\n",
    "\n",
    "    left1 = pd.Series([-1, -1], index = ['GDP Pearson Corr', 'GDP Spearman Corr'])\n",
    "    left2 = pd.Series([0, 0], index = ['GDP Pearson Corr', 'GDP Spearman Corr'])\n",
    "\n",
    "    df = df.style.highlight_between(left = left1, right = 1.5, axis = 1, props = 'color:white; background-color:#929bfc;')\\\n",
    "                 .highlight_between(left = left2, right = 1.5, axis = 1, props = 'color:white; background-color:#b3b9ff;')\\\n",
    "                 .format('{:,.4f}', subset = ['GDP Pearson Corr', 'GDP Spearman Corr'])\\\n",
    "                 .set_caption('World Median Correlation')                \n",
    "    display(df)\n",
    "\n",
    "@plot_prediction_out.capture(clear_output=True, wait=True)\n",
    "def plot_prediction(mode, zone):\n",
    "    if mode != col_country:\n",
    "        display('')\n",
    "    else:\n",
    "        df_gold_aux = pd.read_csv(output_path + file_gold, index_col = ['Country', 'Year', 'Region'])\n",
    "        df, country_cluster_list = Nbook_machine.get_cluster_countries(zone, df_gold_aux, cluster_dict['All indicators'].reset_index())\n",
    "        model, score, feature_df = Nbook_machine.machine_algorithm(df, country_cluster_list)\n",
    "        Nbook_machine.plot_machine(model, score, feature_df, zone, df_gold_aux)"
   ]
  },
  {
   "cell_type": "code",
   "execution_count": null,
   "metadata": {
    "extensions": {
     "jupyter_dashboards": {
      "version": 1,
      "views": {
       "default_view": {
        "hidden": true
       }
      }
     }
    }
   },
   "outputs": [],
   "source": [
    "dropdown_mode = widgets.Dropdown(\n",
    "    options = mode_list,\n",
    "    description = 'Select: '\n",
    ")\n",
    "\n",
    "dropdown_zone = widgets.Dropdown(\n",
    "    options = mode_dict[dropdown_mode.value],\n",
    "    description = 'Show: '\n",
    ")\n",
    "\n",
    "dropdown_group = widgets.Dropdown(\n",
    "    options = ind_dict.keys(),\n",
    "    description = 'Group: '\n",
    ")\n",
    "\n",
    "dropdown_ind = widgets.Dropdown(\n",
    "    options = indicators_list,\n",
    "    description = 'Indicator: '\n",
    ")\n",
    "\n",
    "intrangeslider_years = widgets.IntRangeSlider(\n",
    "    value = [min_year, max_year],\n",
    "    min = min_year,\n",
    "    max = max_year,\n",
    "    step = 1,\n",
    "    description = 'Years: ',\n",
    ")\n",
    "\n",
    "intrangeslider_shift_range = widgets.IntRangeSlider(\n",
    "    value = (0, (max_year - min_year - 1)),\n",
    "    min = min_year - max_year + 1,\n",
    "    max = max_year - min_year - 1,\n",
    "    step = 1,\n",
    "    description = 'Shifts Range: '\n",
    ")\n",
    "\n",
    "intslider_shift = widgets.IntSlider(\n",
    "    value = 0,\n",
    "    min = min_year - max_year + 1,\n",
    "    max = max_year - min_year - 1,\n",
    "    step = 1,\n",
    "    description = 'Shifts: '\n",
    ")\n",
    "\n",
    "floatslider_threshold = widgets.FloatSlider(\n",
    "    value = 0.7,\n",
    "    min = 0.0,\n",
    "    max = 1.0,\n",
    "    step = 0.05,\n",
    "    description = 'Threshold: '\n",
    ")\n",
    "\n",
    "floatslider_confidence = widgets.FloatSlider(\n",
    "    value = 0.95,\n",
    "    min = 0.0,\n",
    "    max = 1.0,\n",
    "    step = 0.05,\n",
    "    description = 'Confidence: '\n",
    ")\n",
    "\n",
    "loading_label = widgets.Label(value = '')\n",
    "\n",
    "zone_title = widgets.Label(value = dropdown_zone.value)"
   ]
  },
  {
   "cell_type": "code",
   "execution_count": null,
   "metadata": {
    "extensions": {
     "jupyter_dashboards": {
      "version": 1,
      "views": {
       "default_view": {
        "hidden": true
       }
      }
     }
    }
   },
   "outputs": [],
   "source": [
    "class WidgetStatus:\n",
    "    def __init__(self):\n",
    "        \n",
    "        self.mode = None\n",
    "        self.zone = None\n",
    "        self.ind = None\n",
    "        self.ind_group = None #dropdown_group.value\n",
    "        self.years = list(intrangeslider_years.value)\n",
    "        self.sh_range = None #list(intrangeslider_shift_range.value)\n",
    "        self.shift = intslider_shift.value\n",
    "        self.threshold = None\n",
    "        self.pval = None\n",
    "\n",
    "#         self.mode = dropdown_mode.value\n",
    "#         self.zone = dropdown_zone.value\n",
    "#         self.ind = dropdown_ind.value\n",
    "#         self.ind_group = dropdown_group.value\n",
    "#         self.years = list(intrangeslider_years.value)\n",
    "#         self.shift = intslider_shift.value\n",
    "#         self.threshold = floatslider_threshold.value\n",
    "#         self.pval = 1 - floatslider_confidence.value\n",
    "\n",
    "        self.df_gold = pd.read_csv(output_path + file_gold, index_col = [col_country, col_year, col_region])\n",
    "        self.corr_df = pd.read_csv(output_path + file_corr_spearman, index_col = [col_country])\n",
    "        self.norm_df = pd.read_csv(output_path + file_norm_df, index_col = [col_country, col_region, col_year])\n",
    "        self.cluster_df = cluster_df\n",
    "        self.comp_df = None #comp_dict[self.ind_group].reset_index(col_cluster, drop = False)\n",
    "        self.ind_df = None\n",
    "\n",
    "        self.clus_num = None #cluster_df.loc[cluster_df.index.get_level_values(col_country) == dropdown_zone.value, dropdown_group.value].item()\n",
    "\n",
    "    def _changed_zone(self):\n",
    "        # General\n",
    "        loading_label.value = 'Loading general tab'\n",
    "        table_corr_country(self.mode, self.zone, self.threshold, self.pval)\n",
    "        table_corr_med(self.threshold)\n",
    "        plot_prediction(self.mode, self.zone)\n",
    "\n",
    "        # Time\n",
    "        loading_label.value = 'Loading time tab'\n",
    "        table_time_window(self.df_gold, self.mode, self.zone, self.years, self.threshold, self.pval)\n",
    "        plot_time_series(self.df_gold, self.mode, self.zone, self.ind, self.years, self.shift)\n",
    "        table_high_range(self.df_gold, self.mode, self.zone, self.pval)\n",
    "\n",
    "        # Clusters\n",
    "        loading_label.value = 'Loading cluster tab'\n",
    "        venn_group (self.cluster_df, self.zone)\n",
    "        #table_cluster (self.ind_df, self.ind_group, self.zone)\n",
    "        #plot_cluster_map (self.comp_df, self.ind_group)\n",
    "\n",
    "        loading_label.value = ''\n",
    "    \n",
    "    def _changed_indicator(self):\n",
    "        # General\n",
    "        loading_label.value = 'Loading general tab'\n",
    "        globe_corr(self.corr_df, self.ind)\n",
    "\n",
    "        # Time\n",
    "        loading_label.value = 'Loading time tab'\n",
    "        table_time_window(self.df_gold, self.mode, self.zone, self.years, self.threshold, self.pval)\n",
    "        plot_time_series(self.df_gold, self.mode, self.zone, self.ind, self.years, self.shift)\n",
    "        loading_label.value = ''\n",
    "\n",
    "    def _changed_group(self):\n",
    "        # Clusters\n",
    "        loading_label.value = 'Loading cluster tab'\n",
    "        #venn_group (self.cluster_df, self.zone)\n",
    "        #table_cluster (self.ind_df, self.ind_group, self.zone)\n",
    "        self.comp_df = comp_dict[self.ind_group].reset_index(col_cluster, drop = False)\n",
    "        plot_cluster_map (self.comp_df, self.ind_group)\n",
    "\n",
    "        loading_label.value = ''\n",
    "\n",
    "    def _changed_years(self):\n",
    "        # Time\n",
    "        loading_label.value = 'Loading time tab'\n",
    "        table_time_window(self.df_gold, self.mode, self.zone, self.years, self.threshold, self.pval)\n",
    "        plot_time_series(self.df_gold, self.mode, self.zone, self.ind, self.years, self.shift)\n",
    "\n",
    "        loading_label.value = ''\n",
    "    \n",
    "    def _changed_sh_range(self):\n",
    "        # Time\n",
    "        loading_label.value = 'Loading time tab'\n",
    "        table_max_shift(self.mode, self.sh_range, self.pval)\n",
    "\n",
    "        loading_label.value = ''\n",
    "\n",
    "    def _changed_shift(self):\n",
    "        # Time\n",
    "        loading_label.value = 'Loading time tab'\n",
    "        plot_time_series(self.df_gold, self.mode, self.zone, self.ind, self.years, self.shift)\n",
    "\n",
    "        loading_label.value = ''\n",
    "\n",
    "    def _changed_threshold(self):\n",
    "        # General\n",
    "        loading_label.value = 'Loading general tab'\n",
    "        table_corr_country(self.mode, self.zone, self.threshold, self.pval)\n",
    "        table_corr_med(self.threshold)\n",
    "\n",
    "        # Time\n",
    "        loading_label.value = 'Loading time tab'\n",
    "        table_time_window(self.df_gold, self.mode, self.zone, self.years, self.threshold, self.pval)\n",
    "\n",
    "        loading_label.value = ''\n",
    "\n",
    "    def _changed_confidence(self):\n",
    "        # General\n",
    "        loading_label.value = 'Loading general tab'\n",
    "        table_corr_country(self.mode, self.zone, self.threshold, self.pval)\n",
    "\n",
    "        # Time\n",
    "        loading_label.value = 'Loading time tab'\n",
    "        table_time_window(self.df_gold, self.mode, self.zone, self.years, self.threshold, self.pval)\n",
    "        table_high_range(self.df_gold, self.mode, self.zone, self.pval)\n",
    "\n",
    "        loading_label.value = ''\n",
    "    \n",
    "    def _changed_cluster(self):\n",
    "        # Clusters\n",
    "        loading_label.value = 'Loading cluster tab'\n",
    "        table_cluster (self.ind_df, self.ind_group, self.zone)\n",
    "\n",
    "        loading_label.value = ''\n",
    "\n",
    "    def update(self, mode = None, zone = None, ind = None, group = None, year_min = None, year_max = None, sh_range = None, shift = None, threshold = None, confidence = None):\n",
    "        if mode and mode != self.mode:\n",
    "            self.mode = mode\n",
    "            dropdown_zone.options = mode_dict[mode]\n",
    "            dropdown_zone.value = mode_dict[mode][0]\n",
    "        \n",
    "        if zone and zone != self.zone:\n",
    "            self.zone = zone\n",
    "            self.clus_num = None\n",
    "            self._changed_zone()\n",
    "    \n",
    "        if ind and ind != self.ind:\n",
    "            self.ind = ind\n",
    "            self._changed_indicator()\n",
    "        \n",
    "        if group and group != self.ind_group:\n",
    "            self.ind_group = group\n",
    "            self.comp_df = comp_dict[self.ind_group].reset_index(col_cluster, drop = False)\n",
    "            self.clus_num = None\n",
    "            self._changed_group()\n",
    "        \n",
    "        if year_min and year_min != self.years[0]:\n",
    "            self.years[0] = year_min\n",
    "            self._changed_years()\n",
    "\n",
    "        if year_max and year_max != self.years[1]:\n",
    "            self.years[1] = year_max\n",
    "            self._changed_years()\n",
    "        \n",
    "        if sh_range and sh_range != self.sh_range:\n",
    "            self.sh_range = sh_range\n",
    "            self._changed_sh_range()\n",
    "\n",
    "        if shift and shift != self.shift:\n",
    "            self.shift = shift\n",
    "            self._changed_shift()\n",
    "        \n",
    "        if threshold and threshold != self.threshold:\n",
    "            self.threshold = threshold\n",
    "            self._changed_threshold()\n",
    "\n",
    "        if confidence and (1 - confidence) != self.pval:\n",
    "            self.pval = 1 - confidence\n",
    "            self._changed_confidence()\n",
    "\n",
    "        if (self.clus_num is None) and group and (self.mode == col_country):\n",
    "                self.clus_num = self.cluster_df.loc[self.cluster_df.index.get_level_values(col_country) == self.zone, self.ind_group].item()\n",
    "                self.ind_df = cluster_dict[self.ind_group].loc[cluster_dict[self.ind_group][col_cluster] == self.clus_num].drop(col_cluster, axis = 'columns')\n",
    "                self._changed_cluster()\n",
    "        \n",
    "status = WidgetStatus()"
   ]
  },
  {
   "cell_type": "code",
   "execution_count": null,
   "metadata": {},
   "outputs": [],
   "source": [
    "# GENERAL LAYOUT:\n",
    "general_upper = widgets.HBox(children = [widgets_general_out, plot_time_series_out, globe_corr_out])\n",
    "general_lower = widgets.HBox(children = [table_corr_country_out, table_corr_med_out, plot_prediction_out])\n",
    "general_tab = widgets.VBox(children = [general_upper, general_lower])\n",
    "\n",
    "# TIME LAYOUT\n",
    "time_upper = widgets.HBox(children = [widgets_time_out, plot_time_series_out, table_time_window_out, table_high_range_out])\n",
    "time_lower = widgets.HBox(children = [table_max_shift_out])\n",
    "time_tab = widgets.VBox(children = [time_upper, time_lower])\n",
    "\n",
    "# CLUSTER LAYOUT\n",
    "cluster_upper = widgets.HBox(children = [widgets_cluster_out, venn_group_out, plot_cluster_map_out])\n",
    "cluster_lower = widgets.HBox(children = [table_cluster_out])\n",
    "cluster_tab = widgets.VBox(children = [cluster_upper, cluster_lower])\n",
    "\n",
    "tab = widgets.Tab(children = [general_tab, time_tab, cluster_tab])\n",
    "\n",
    "tab.set_title(0, 'General')\n",
    "tab.set_title(1, 'Time Series')\n",
    "tab.set_title(2, 'Cluster')"
   ]
  },
  {
   "cell_type": "code",
   "execution_count": null,
   "metadata": {},
   "outputs": [],
   "source": [
    "def show_general(mode, zone, ind, threshold, confidence):\n",
    "    status.update(mode = mode, zone = zone, ind = ind, threshold = threshold, confidence = confidence)\n",
    "        \n",
    "def show_time(mode, zone, ind, years, sh_range, shift):\n",
    "    status.update(mode = mode, zone = zone, ind = ind, year_min = years[0], year_max = years[1], sh_range = sh_range, shift = shift)\n",
    "\n",
    "def show_cluster(zone, group):\n",
    "    status.update(zone = zone, group = group)"
   ]
  },
  {
   "cell_type": "code",
   "execution_count": null,
   "metadata": {
    "scrolled": true
   },
   "outputs": [],
   "source": [
    "display(tab)"
   ]
  },
  {
   "cell_type": "code",
   "execution_count": null,
   "metadata": {},
   "outputs": [],
   "source": [
    "with widgets_general_out:\n",
    "    widgets_general_out.clear_output()\n",
    "    widgets.interact(show_general, mode = dropdown_mode, zone = dropdown_zone, ind = dropdown_ind,\n",
    "                threshold = floatslider_threshold, confidence = floatslider_confidence)\n",
    "    display(loading_label)\n",
    "\n",
    "with widgets_time_out:\n",
    "    widgets_time_out.clear_output()\n",
    "    widgets.interact(show_time, mode = dropdown_mode, zone = dropdown_zone, ind = dropdown_ind,\n",
    "                years = intrangeslider_years, sh_range = intrangeslider_shift_range, shift = intslider_shift)\n",
    "    display(loading_label)\n",
    "\n",
    "with widgets_cluster_out:\n",
    "    widgets_cluster_out.clear_output()\n",
    "    widgets.interact(show_cluster, zone = dropdown_zone, group = dropdown_group)\n",
    "    display(loading_label)"
   ]
  }
 ],
 "metadata": {
  "extensions": {
   "jupyter_dashboards": {
    "activeView": "default_view",
    "version": 1,
    "views": {
     "default_view": {
      "cellMargin": 10,
      "defaultCellHeight": 40,
      "maxColumns": 12,
      "name": "active_view",
      "type": "grid"
     }
    }
   }
  },
  "kernelspec": {
   "display_name": "Python 3 (ipykernel)",
   "language": "python",
   "name": "python3"
  },
  "language_info": {
   "codemirror_mode": {
    "name": "ipython",
    "version": 3
   },
   "file_extension": ".py",
   "mimetype": "text/x-python",
   "name": "python",
   "nbconvert_exporter": "python",
   "pygments_lexer": "ipython3",
   "version": "3.10.5"
  },
  "vscode": {
   "interpreter": {
    "hash": "44718ba4235bc6fc2135f9d8856f170c8312ddd29b08710a5ea28d42169e623e"
   }
  }
 },
 "nbformat": 4,
 "nbformat_minor": 2
}
