{
 "cells": [
  {
   "cell_type": "code",
   "execution_count": 1,
   "metadata": {
    "extensions": {
     "jupyter_dashboards": {
      "version": 1,
      "views": {
       "default_view": {
        "hidden": true
       }
      }
     }
    }
   },
   "outputs": [],
   "source": [
    "import os\n",
    "import pandas as pd\n",
    "import numpy as np\n",
    "from numpy import sort\n",
    "from os import listdir\n",
    "from os.path import isfile, join\n",
    "\n",
    "import ipywidgets as widgets\n",
    "from ipywidgets import interact, interact_manual\n",
    "import matplotlib.pyplot as plt\n",
    "import plotly.express as px\n",
    "\n",
    "from matplotlib_venn import venn3\n",
    "from Project.Utils.norm import norm\n",
    "from Project.Utils.max_corr import max_corr"
   ]
  },
  {
   "cell_type": "code",
   "execution_count": 2,
   "metadata": {
    "extensions": {
     "jupyter_dashboards": {
      "version": 1,
      "views": {
       "default_view": {
        "hidden": true
       }
      }
     }
    }
   },
   "outputs": [],
   "source": [
    "data_path = os.getcwd() + '/Databases/'\n",
    "output_path = os.getcwd() + '/Output/'\n",
    "country_path = output_path + '/Country/'\n",
    "region_path = output_path + '/Region/'\n",
    "cluster_path = output_path + '/Cluster/'"
   ]
  },
  {
   "cell_type": "code",
   "execution_count": 3,
   "metadata": {
    "extensions": {
     "jupyter_dashboards": {
      "version": 1,
      "views": {
       "default_view": {
        "hidden": true
       }
      }
     }
    }
   },
   "outputs": [],
   "source": [
    "file_regions = 'AuxiliarData/world-regions-mod.csv'\n",
    "\n",
    "file_gold = 'GoldDataframe.csv'\n",
    "file_corr_pearson = 'Corr_DF_Pearson.csv'\n",
    "file_corr_spearman = 'Corr_DF_Spearman.csv'\n",
    "file_agg_region = 'AggregatedRegion_DataFrame.csv'\n",
    "file_agg_world = 'AggregatedWorld_DataFrame.csv'\n",
    "file_norm_df = 'Norm_DF.csv'\n",
    "file_shifted_corr_country = 'Shifted_Corr_Country.csv'\n",
    "file_shifted_corr_region = 'Shifted_Corr_Region.csv'"
   ]
  },
  {
   "cell_type": "code",
   "execution_count": 4,
   "metadata": {
    "extensions": {
     "jupyter_dashboards": {
      "version": 1,
      "views": {
       "default_view": {
        "hidden": true
       }
      }
     }
    }
   },
   "outputs": [],
   "source": [
    "col_country = 'Country'\n",
    "col_year = 'Year'\n",
    "col_region = 'Region'\n",
    "col_gdp = 'GDP'\n",
    "col_cluster = 'Cluster'\n",
    "col_shift = 'Shift'\n",
    "\n",
    "col_1comp = '1st_component'\n",
    "col_2comp = '2nd_component'"
   ]
  },
  {
   "cell_type": "code",
   "execution_count": 5,
   "metadata": {
    "extensions": {
     "jupyter_dashboards": {
      "version": 1,
      "views": {
       "default_view": {
        "hidden": true
       }
      }
     }
    }
   },
   "outputs": [],
   "source": [
    "# READ GOLD DATAFRME\n",
    "# Read Golden Dataframe and initialize the variables that depend on it.\n",
    "\n",
    "df = pd.read_csv(output_path + file_gold, on_bad_lines = 'warn', index_col = ['Region', 'Country', 'Year'])\n",
    "\n",
    "# List of countries and list of regions.\n",
    "country_list = list(np.sort(df.index.get_level_values(col_country).unique()))\n",
    "region_list = list(np.sort(df.index.get_level_values(col_region).unique()))\n",
    "\n",
    "mode_dict = {}\n",
    "mode_dict[col_country] = country_list\n",
    "mode_dict[col_region] = region_list\n",
    "mode_list = [col_country, col_region]\n",
    "\n",
    "# Range of years.\n",
    "min_year = df.index.get_level_values(col_year).min()\n",
    "max_year = df.index.get_level_values(col_year).max()\n",
    "\n",
    "# List of all indicators, except for the GDP.\n",
    "indicators_list = df.columns.tolist()\n",
    "indicators_list.remove(col_gdp)\n",
    "indicators_list.sort()"
   ]
  },
  {
   "cell_type": "code",
   "execution_count": 6,
   "metadata": {
    "extensions": {
     "jupyter_dashboards": {
      "version": 1,
      "views": {
       "default_view": {
        "hidden": true
       }
      }
     }
    }
   },
   "outputs": [],
   "source": [
    "# READ CLUSTERS\n",
    "# Read both Dataframes for each indicators group: the one with the indicator values, and the one with the components.\n",
    "\n",
    "ind_dict = {}\n",
    "cluster_dict = {}\n",
    "cluster_list = []\n",
    "comp_dict = {}\n",
    "\n",
    "for element in listdir(cluster_path):\n",
    "    url = join(cluster_path, element)\n",
    "    if isfile(url) and url.endswith('_Comp.csv'):\n",
    "        ind = element.removesuffix('_Comp.csv')\n",
    "        comp_df = pd.read_csv(url, on_bad_lines = 'warn', index_col = [col_cluster, col_country])\n",
    "        comp_dict[ind] = comp_df\n",
    "        cluster_number_df = comp_df.drop(columns = comp_df.columns).reset_index(col_cluster, drop = False).rename({col_cluster: ind}, axis = 1)\n",
    "        cluster_list.append(cluster_number_df)\n",
    "\n",
    "    elif isfile(url) and url.endswith('.csv'):\n",
    "        ind = element.removesuffix('.csv')\n",
    "        ind_df = pd.read_csv(url, on_bad_lines = 'warn', index_col = [col_cluster, col_country])\n",
    "        cluster_dict[ind] = ind_df.reset_index(col_cluster, drop = False)\n",
    "        ind_dict[ind] = ind_df.columns\n",
    "\n",
    "cluster_df = pd.concat(cluster_list, axis = 1)\n",
    "cluster_df = cluster_df.fillna(-1).astype(int)"
   ]
  },
  {
   "cell_type": "code",
   "execution_count": 7,
   "metadata": {},
   "outputs": [
    {
     "data": {
      "text/html": [
       "<div>\n",
       "<style scoped>\n",
       "    .dataframe tbody tr th:only-of-type {\n",
       "        vertical-align: middle;\n",
       "    }\n",
       "\n",
       "    .dataframe tbody tr th {\n",
       "        vertical-align: top;\n",
       "    }\n",
       "\n",
       "    .dataframe thead th {\n",
       "        text-align: right;\n",
       "    }\n",
       "</style>\n",
       "<table border=\"1\" class=\"dataframe\">\n",
       "  <thead>\n",
       "    <tr style=\"text-align: right;\">\n",
       "      <th></th>\n",
       "      <th>All indicators</th>\n",
       "      <th>Economic Indicators</th>\n",
       "      <th>Equality Indicators</th>\n",
       "      <th>Social-demographic Indicators</th>\n",
       "    </tr>\n",
       "    <tr>\n",
       "      <th>Country</th>\n",
       "      <th></th>\n",
       "      <th></th>\n",
       "      <th></th>\n",
       "      <th></th>\n",
       "    </tr>\n",
       "  </thead>\n",
       "  <tbody>\n",
       "    <tr>\n",
       "      <th>Albania</th>\n",
       "      <td>0</td>\n",
       "      <td>6</td>\n",
       "      <td>4</td>\n",
       "      <td>3</td>\n",
       "    </tr>\n",
       "    <tr>\n",
       "      <th>Algeria</th>\n",
       "      <td>0</td>\n",
       "      <td>7</td>\n",
       "      <td>6</td>\n",
       "      <td>9</td>\n",
       "    </tr>\n",
       "    <tr>\n",
       "      <th>Armenia</th>\n",
       "      <td>0</td>\n",
       "      <td>1</td>\n",
       "      <td>8</td>\n",
       "      <td>3</td>\n",
       "    </tr>\n",
       "    <tr>\n",
       "      <th>Bosnia and Herzegovina</th>\n",
       "      <td>0</td>\n",
       "      <td>1</td>\n",
       "      <td>0</td>\n",
       "      <td>3</td>\n",
       "    </tr>\n",
       "    <tr>\n",
       "      <th>Bulgaria</th>\n",
       "      <td>0</td>\n",
       "      <td>2</td>\n",
       "      <td>0</td>\n",
       "      <td>3</td>\n",
       "    </tr>\n",
       "    <tr>\n",
       "      <th>...</th>\n",
       "      <td>...</td>\n",
       "      <td>...</td>\n",
       "      <td>...</td>\n",
       "      <td>...</td>\n",
       "    </tr>\n",
       "    <tr>\n",
       "      <th>Sao Tome and Principe</th>\n",
       "      <td>9</td>\n",
       "      <td>1</td>\n",
       "      <td>8</td>\n",
       "      <td>5</td>\n",
       "    </tr>\n",
       "    <tr>\n",
       "      <th>Solomon Islands</th>\n",
       "      <td>9</td>\n",
       "      <td>6</td>\n",
       "      <td>8</td>\n",
       "      <td>5</td>\n",
       "    </tr>\n",
       "    <tr>\n",
       "      <th>Togo</th>\n",
       "      <td>9</td>\n",
       "      <td>4</td>\n",
       "      <td>8</td>\n",
       "      <td>4</td>\n",
       "    </tr>\n",
       "    <tr>\n",
       "      <th>United Arab Emirates</th>\n",
       "      <td>9</td>\n",
       "      <td>0</td>\n",
       "      <td>4</td>\n",
       "      <td>4</td>\n",
       "    </tr>\n",
       "    <tr>\n",
       "      <th>Vanuatu</th>\n",
       "      <td>9</td>\n",
       "      <td>9</td>\n",
       "      <td>8</td>\n",
       "      <td>5</td>\n",
       "    </tr>\n",
       "  </tbody>\n",
       "</table>\n",
       "<p>153 rows × 4 columns</p>\n",
       "</div>"
      ],
      "text/plain": [
       "                        All indicators  Economic Indicators  \\\n",
       "Country                                                       \n",
       "Albania                              0                    6   \n",
       "Algeria                              0                    7   \n",
       "Armenia                              0                    1   \n",
       "Bosnia and Herzegovina               0                    1   \n",
       "Bulgaria                             0                    2   \n",
       "...                                ...                  ...   \n",
       "Sao Tome and Principe                9                    1   \n",
       "Solomon Islands                      9                    6   \n",
       "Togo                                 9                    4   \n",
       "United Arab Emirates                 9                    0   \n",
       "Vanuatu                              9                    9   \n",
       "\n",
       "                        Equality Indicators  Social-demographic Indicators  \n",
       "Country                                                                     \n",
       "Albania                                   4                              3  \n",
       "Algeria                                   6                              9  \n",
       "Armenia                                   8                              3  \n",
       "Bosnia and Herzegovina                    0                              3  \n",
       "Bulgaria                                  0                              3  \n",
       "...                                     ...                            ...  \n",
       "Sao Tome and Principe                     8                              5  \n",
       "Solomon Islands                           8                              5  \n",
       "Togo                                      8                              4  \n",
       "United Arab Emirates                      4                              4  \n",
       "Vanuatu                                   8                              5  \n",
       "\n",
       "[153 rows x 4 columns]"
      ]
     },
     "execution_count": 7,
     "metadata": {},
     "output_type": "execute_result"
    }
   ],
   "source": [
    "cluster_df"
   ]
  },
  {
   "cell_type": "code",
   "execution_count": 8,
   "metadata": {
    "extensions": {
     "jupyter_dashboards": {
      "version": 1,
      "views": {
       "default_view": {
        "hidden": true
       }
      }
     }
    }
   },
   "outputs": [],
   "source": [
    "class WidgetGlobalStatus:\n",
    "    def __init__(self):\n",
    "\n",
    "        self.mode = None #mode_list[0]\n",
    "        self.zone = None\n",
    "        self.ind = None\n",
    "        self.ind_group = None\n",
    "        self.norm_df = pd.read_csv(output_path + file_norm_df, index_col = [col_country, col_region, col_year])\n",
    "        self.cluster_df = cluster_df\n",
    "        self.comp_df = None\n",
    "        self.ind_df = None\n",
    "        self.shift_df = None\n",
    "        self.data = None\n",
    "        self.years = None #range(min_year, max_year + 1)\n",
    "        self.shift = None #0\n",
    "\n",
    "status_widget = WidgetGlobalStatus()"
   ]
  },
  {
   "cell_type": "code",
   "execution_count": 9,
   "metadata": {},
   "outputs": [],
   "source": [
    "def group_of(ind: str):     # NEEDS ACCESS TO IND_DICT AND A LIST OF ALL INDICATORS\n",
    "    for group in ind_dict.keys():\n",
    "        if (len(ind_dict[group]) < len(indicators_list)) and (ind in ind_dict[group]):\n",
    "            return group\n",
    "    return None\n",
    "    return [group if (ind in ind_dict[group]) else None for group in ind_dict.keys()]\n",
    "\n",
    "# FIND A GOOD WAY TO AVOID RETURNING THE ALL INDICATORS GROUP"
   ]
  },
  {
   "cell_type": "code",
   "execution_count": 11,
   "metadata": {},
   "outputs": [],
   "source": [
    "plot_cluster_map_out = widgets.Output(layout={'border': '1px solid black'})\n",
    "table_cluster_out = widgets.Output(layout={'border': '1px solid black'})\n",
    "venn_group_out = widgets.Output(layout={'border': '1px solid black'})\n",
    "chart_shift_ind_out = widgets.Output(layout={'border': '1px solid black'})\n",
    "chart_shift_corr_out = widgets.Output(layout={'border': '1px solid black'})"
   ]
  },
  {
   "cell_type": "markdown",
   "metadata": {},
   "source": [
    "# CLUSTER MAP"
   ]
  },
  {
   "cell_type": "code",
   "execution_count": 12,
   "metadata": {},
   "outputs": [
    {
     "data": {
      "application/vnd.jupyter.widget-view+json": {
       "model_id": "9687f106c692437da3198cf5b3392971",
       "version_major": 2,
       "version_minor": 0
      },
      "text/plain": [
       "Output(layout=Layout(border='1px solid black'))"
      ]
     },
     "metadata": {},
     "output_type": "display_data"
    },
    {
     "data": {
      "application/vnd.plotly.v1+json": {
       "config": {
        "plotlyServerURL": "https://plot.ly"
       },
       "data": [
        {
         "hovertemplate": "1st_component=%{x}<br>2nd_component=%{y}<br>Country=%{text}<br>Cluster=%{marker.color}<extra></extra>",
         "legendgroup": "",
         "marker": {
          "color": [
           0,
           0,
           0,
           0,
           0,
           0,
           0,
           0,
           0,
           0,
           0,
           0,
           0,
           1,
           1,
           1,
           1,
           1,
           1,
           1,
           1,
           1,
           1,
           1,
           1,
           1,
           1,
           1,
           1,
           2,
           2,
           2,
           2,
           2,
           2,
           2,
           2,
           2,
           2,
           3,
           3,
           3,
           3,
           3,
           3,
           3,
           3,
           3,
           3,
           3,
           3,
           4,
           4,
           4,
           4,
           4,
           4,
           4,
           4,
           4,
           4,
           4,
           4,
           4,
           4,
           4,
           4,
           4,
           4,
           4,
           5,
           5,
           5,
           5,
           5,
           5,
           5,
           5,
           5,
           5,
           5,
           5,
           5,
           5,
           5,
           5,
           6,
           6,
           6,
           6,
           6,
           6,
           6,
           6,
           6,
           6,
           6,
           6,
           6,
           6,
           6,
           6,
           6,
           6,
           6,
           6,
           7,
           7,
           7,
           7,
           7,
           7,
           7,
           7,
           7,
           7,
           7,
           7,
           7,
           7,
           7,
           8,
           8,
           8,
           8,
           8,
           8,
           8,
           8,
           8,
           8,
           8,
           8,
           8,
           8,
           9,
           9,
           9,
           9,
           9,
           9,
           9,
           9,
           9,
           9,
           9,
           9,
           9,
           9,
           9,
           9,
           9
          ],
          "coloraxis": "coloraxis",
          "symbol": "circle"
         },
         "mode": "markers+text",
         "name": "",
         "orientation": "v",
         "showlegend": false,
         "text": [
          "Argentina",
          "Brazil",
          "China",
          "Cyprus",
          "Djibouti",
          "Guinea-Bissau",
          "Latvia",
          "Liberia",
          "Lithuania",
          "Poland",
          "Slovenia",
          "Spain",
          "United Arab Emirates",
          "Afghanistan",
          "Armenia",
          "Belarus",
          "Bosnia and Herzegovina",
          "Colombia",
          "Dominican Republic",
          "Ghana",
          "Guyana",
          "Iceland",
          "Lesotho",
          "Maldives",
          "Papua New Guinea",
          "Romania",
          "Samoa",
          "Sao Tome and Principe",
          "Serbia",
          "Austria",
          "Belgium",
          "Bulgaria",
          "Denmark",
          "Estonia",
          "Germany",
          "Ireland",
          "Malta",
          "Singapore",
          "United States",
          "Bhutan",
          "Comoros",
          "Gabon",
          "Georgia",
          "India",
          "Indonesia",
          "Iraq",
          "Myanmar",
          "Nepal",
          "Panama",
          "Sri Lanka",
          "Turkmenistan",
          "Australia",
          "Botswana",
          "Chile",
          "Costa Rica",
          "Eritrea",
          "Finland",
          "Guatemala",
          "Honduras",
          "Israel",
          "Jamaica",
          "Lebanon",
          "Malaysia",
          "Mauritania",
          "Niger",
          "Puerto Rico",
          "Sweden",
          "Switzerland",
          "Togo",
          "Uruguay",
          "Barbados",
          "Benin",
          "Central African Republic",
          "El Salvador",
          "Eswatini",
          "Fiji",
          "Haiti",
          "Japan",
          "Luxembourg",
          "Mexico",
          "Montenegro",
          "New Caledonia",
          "Nigeria",
          "Russia",
          "Tajikistan",
          "Trinidad and Tobago",
          "Albania",
          "Azerbaijan",
          "Bangladesh",
          "Cambodia",
          "Cameroon",
          "Chad",
          "Ethiopia",
          "Kazakhstan",
          "Madagascar",
          "Mali",
          "Mongolia",
          "Mozambique",
          "Namibia",
          "Senegal",
          "Sierra Leone",
          "Solomon Islands",
          "Thailand",
          "Tonga",
          "Ukraine",
          "Zambia",
          "Algeria",
          "Burkina Faso",
          "Burundi",
          "Ecuador",
          "Guinea",
          "Jordan",
          "Kenya",
          "Morocco",
          "Nicaragua",
          "Paraguay",
          "Peru",
          "Philippines",
          "Rwanda",
          "Tunisia",
          "Uzbekistan",
          "Belize",
          "Canada",
          "Cuba",
          "France",
          "Hungary",
          "Malawi",
          "Mauritius",
          "Netherlands",
          "New Zealand",
          "North Macedonia",
          "Norway",
          "Portugal",
          "South Africa",
          "United Kingdom",
          "Angola",
          "Bahrain",
          "Croatia",
          "Equatorial Guinea",
          "French Polynesia",
          "Greece",
          "Italy",
          "Kuwait",
          "Oman",
          "Pakistan",
          "Qatar",
          "Saudi Arabia",
          "Seychelles",
          "Suriname",
          "Uganda",
          "Vanuatu",
          "Zimbabwe"
         ],
         "textposition": "top center",
         "type": "scatter",
         "x": [
          -0.2565066,
          -0.0071660425,
          -0.45711508,
          -0.44952324,
          0.17386082,
          0.3694541,
          -0.6133161,
          0.3519804,
          -0.71768445,
          -0.6609138,
          -0.8476645,
          -0.37978905,
          0.11192074,
          0.6298408,
          0.61033225,
          0.33965358,
          0.0416862,
          0.1272604,
          0.23029582,
          0.4715653,
          0.33396357,
          0.47692382,
          0.37146753,
          0.15404066,
          0.49109966,
          -0.052690648,
          0.61323935,
          0.4807233,
          0.008101519,
          -1.3641676,
          -1.4271097,
          -1.4662519,
          -1.5252851,
          -1.567315,
          -1.5697739,
          -1.408852,
          -1.4748425,
          -1.4432553,
          -1.6560556,
          0.7569605,
          1.4388111,
          1.3497005,
          0.8090796,
          1.0515898,
          1.369803,
          1.3036416,
          1.236472,
          0.88276744,
          0.78446895,
          0.8623781,
          0.8991112,
          -1.1049576,
          -1.4598725,
          -1.066763,
          -0.6366952,
          -0.6391459,
          -0.927595,
          -1.1936679,
          -0.6060773,
          -1.2785113,
          -0.77760375,
          -1.0028185,
          -1.0627855,
          -1.1702826,
          -0.6281865,
          -0.70684,
          -1.1683499,
          -1.3709146,
          -1.0343901,
          -1.3920829,
          1.0497308,
          0.732979,
          0.6319677,
          0.65574163,
          0.4999031,
          0.5592457,
          0.62536985,
          0.97655547,
          0.7288807,
          0.9144915,
          0.5679006,
          1.0374398,
          0.63062084,
          0.5039853,
          0.36426485,
          0.6294147,
          -0.35583675,
          -0.06292184,
          0.10700638,
          -0.16751139,
          0.27230105,
          0.14339791,
          0.1308265,
          -0.22629619,
          -0.28757825,
          0.24722959,
          -0.09053146,
          0.45399603,
          0.035609554,
          0.35775447,
          0.22507103,
          0.3075633,
          0.29101685,
          0.30064595,
          -0.32076308,
          -0.25706336,
          -0.85319555,
          -0.51721823,
          -0.9527573,
          -0.9864536,
          -0.82869124,
          -1.6510259,
          -1.6799653,
          -0.5767821,
          -1.69097,
          -0.9280922,
          -1.0126868,
          -0.97459877,
          -0.4808591,
          -0.79291016,
          -0.5062889,
          -0.13759187,
          -0.8901705,
          -0.31199753,
          -0.87840295,
          -0.87645054,
          -0.20691578,
          -0.4778864,
          -0.70603734,
          -0.3635987,
          -0.9008137,
          -0.9584219,
          -0.8952253,
          -0.5939162,
          -0.77772003,
          1.8840662,
          1.949093,
          1.3122193,
          1.8145989,
          1.5342268,
          1.4116212,
          1.4482726,
          2.0465162,
          2.112407,
          2.1068242,
          1.8857372,
          1.907322,
          1.4703476,
          1.8332243,
          1.8554208,
          2.1953661,
          1.868596
         ],
         "xaxis": "x",
         "y": [
          -1.3255966,
          -1.2081963,
          -1.20918,
          -1.3208755,
          -1.1805841,
          -1.6632544,
          -1.3757516,
          -1.5996898,
          -1.4071914,
          -1.486616,
          -1.2477815,
          -1.3509142,
          -1.1614228,
          0.57845795,
          0.48583952,
          0.35517278,
          0.6066303,
          0.68728745,
          0.0961032,
          0.3994516,
          0.1469183,
          -0.13890901,
          0.28248972,
          0.10795624,
          0.6140368,
          0.4976316,
          0.6722876,
          0.011062757,
          0.47977385,
          -0.9532076,
          -0.9712614,
          -0.7167598,
          -1.3291179,
          -0.75710225,
          -1.2773405,
          -0.6539177,
          -1.0746171,
          -0.55450165,
          -1.3258862,
          0.6081451,
          0.9537749,
          0.7381326,
          0.70862734,
          0.8092018,
          0.97426015,
          0.8243309,
          0.82722,
          0.59103644,
          0.82299066,
          0.492152,
          0.37673283,
          0.164269,
          -0.16485737,
          0.5031477,
          0.3505181,
          0.03240651,
          -0.0000068973263,
          0.15361746,
          -0.020986354,
          0.053560246,
          -0.15923133,
          0.20270039,
          0.01759356,
          0.08003631,
          0.2862358,
          -0.15209189,
          0.34464613,
          -0.21836671,
          0.56816775,
          -0.29053268,
          -0.8726898,
          -0.37053484,
          -0.60310787,
          -0.2565433,
          -0.7615624,
          -0.4040948,
          -0.3773939,
          -1.0779923,
          -0.6316161,
          -1.1346418,
          -0.83402133,
          -1.0212947,
          -0.87566364,
          -0.97478896,
          -0.7257082,
          -0.9751763,
          1.3588452,
          1.6646985,
          1.3563489,
          1.2544099,
          1.5196438,
          1.6770473,
          1.4628042,
          1.4254236,
          1.32737,
          1.9465296,
          1.4668941,
          1.5102779,
          1.6202378,
          1.4605299,
          1.8129439,
          1.5972308,
          2.050582,
          1.7786196,
          1.964843,
          1.9398822,
          1.2594904,
          1.1845156,
          1.3378174,
          0.9935709,
          1.3596305,
          0.91227955,
          0.79788524,
          1.2429018,
          0.7285109,
          1.1173246,
          1.4102682,
          0.6729708,
          1.2667446,
          1.2255518,
          1.068815,
          -0.527762,
          -0.582124,
          -0.33670262,
          -0.72976345,
          -1.1732315,
          -0.5744535,
          -0.6748908,
          -0.70592535,
          -0.29684275,
          -0.89600044,
          -0.70726454,
          -1.0745485,
          -0.6935127,
          -0.7059964,
          -1.49592,
          -0.58066404,
          -1.0192839,
          -0.7178436,
          -0.91601807,
          -1.0372578,
          -1.1057796,
          -0.66228586,
          -0.69132185,
          -0.83068967,
          -0.74737954,
          -0.9142578,
          -0.9682922,
          -0.856441,
          -1.6490567,
          -0.6329872,
          -1.5809704
         ],
         "yaxis": "y"
        }
       ],
       "layout": {
        "coloraxis": {
         "colorbar": {
          "title": {
           "text": "Cluster"
          }
         },
         "colorscale": [
          [
           0,
           "#0d0887"
          ],
          [
           0.1111111111111111,
           "#46039f"
          ],
          [
           0.2222222222222222,
           "#7201a8"
          ],
          [
           0.3333333333333333,
           "#9c179e"
          ],
          [
           0.4444444444444444,
           "#bd3786"
          ],
          [
           0.5555555555555556,
           "#d8576b"
          ],
          [
           0.6666666666666666,
           "#ed7953"
          ],
          [
           0.7777777777777778,
           "#fb9f3a"
          ],
          [
           0.8888888888888888,
           "#fdca26"
          ],
          [
           1,
           "#f0f921"
          ]
         ]
        },
        "legend": {
         "tracegroupgap": 0
        },
        "margin": {
         "t": 60
        },
        "template": {
         "data": {
          "bar": [
           {
            "error_x": {
             "color": "#2a3f5f"
            },
            "error_y": {
             "color": "#2a3f5f"
            },
            "marker": {
             "line": {
              "color": "#E5ECF6",
              "width": 0.5
             },
             "pattern": {
              "fillmode": "overlay",
              "size": 10,
              "solidity": 0.2
             }
            },
            "type": "bar"
           }
          ],
          "barpolar": [
           {
            "marker": {
             "line": {
              "color": "#E5ECF6",
              "width": 0.5
             },
             "pattern": {
              "fillmode": "overlay",
              "size": 10,
              "solidity": 0.2
             }
            },
            "type": "barpolar"
           }
          ],
          "carpet": [
           {
            "aaxis": {
             "endlinecolor": "#2a3f5f",
             "gridcolor": "white",
             "linecolor": "white",
             "minorgridcolor": "white",
             "startlinecolor": "#2a3f5f"
            },
            "baxis": {
             "endlinecolor": "#2a3f5f",
             "gridcolor": "white",
             "linecolor": "white",
             "minorgridcolor": "white",
             "startlinecolor": "#2a3f5f"
            },
            "type": "carpet"
           }
          ],
          "choropleth": [
           {
            "colorbar": {
             "outlinewidth": 0,
             "ticks": ""
            },
            "type": "choropleth"
           }
          ],
          "contour": [
           {
            "colorbar": {
             "outlinewidth": 0,
             "ticks": ""
            },
            "colorscale": [
             [
              0,
              "#0d0887"
             ],
             [
              0.1111111111111111,
              "#46039f"
             ],
             [
              0.2222222222222222,
              "#7201a8"
             ],
             [
              0.3333333333333333,
              "#9c179e"
             ],
             [
              0.4444444444444444,
              "#bd3786"
             ],
             [
              0.5555555555555556,
              "#d8576b"
             ],
             [
              0.6666666666666666,
              "#ed7953"
             ],
             [
              0.7777777777777778,
              "#fb9f3a"
             ],
             [
              0.8888888888888888,
              "#fdca26"
             ],
             [
              1,
              "#f0f921"
             ]
            ],
            "type": "contour"
           }
          ],
          "contourcarpet": [
           {
            "colorbar": {
             "outlinewidth": 0,
             "ticks": ""
            },
            "type": "contourcarpet"
           }
          ],
          "heatmap": [
           {
            "colorbar": {
             "outlinewidth": 0,
             "ticks": ""
            },
            "colorscale": [
             [
              0,
              "#0d0887"
             ],
             [
              0.1111111111111111,
              "#46039f"
             ],
             [
              0.2222222222222222,
              "#7201a8"
             ],
             [
              0.3333333333333333,
              "#9c179e"
             ],
             [
              0.4444444444444444,
              "#bd3786"
             ],
             [
              0.5555555555555556,
              "#d8576b"
             ],
             [
              0.6666666666666666,
              "#ed7953"
             ],
             [
              0.7777777777777778,
              "#fb9f3a"
             ],
             [
              0.8888888888888888,
              "#fdca26"
             ],
             [
              1,
              "#f0f921"
             ]
            ],
            "type": "heatmap"
           }
          ],
          "heatmapgl": [
           {
            "colorbar": {
             "outlinewidth": 0,
             "ticks": ""
            },
            "colorscale": [
             [
              0,
              "#0d0887"
             ],
             [
              0.1111111111111111,
              "#46039f"
             ],
             [
              0.2222222222222222,
              "#7201a8"
             ],
             [
              0.3333333333333333,
              "#9c179e"
             ],
             [
              0.4444444444444444,
              "#bd3786"
             ],
             [
              0.5555555555555556,
              "#d8576b"
             ],
             [
              0.6666666666666666,
              "#ed7953"
             ],
             [
              0.7777777777777778,
              "#fb9f3a"
             ],
             [
              0.8888888888888888,
              "#fdca26"
             ],
             [
              1,
              "#f0f921"
             ]
            ],
            "type": "heatmapgl"
           }
          ],
          "histogram": [
           {
            "marker": {
             "pattern": {
              "fillmode": "overlay",
              "size": 10,
              "solidity": 0.2
             }
            },
            "type": "histogram"
           }
          ],
          "histogram2d": [
           {
            "colorbar": {
             "outlinewidth": 0,
             "ticks": ""
            },
            "colorscale": [
             [
              0,
              "#0d0887"
             ],
             [
              0.1111111111111111,
              "#46039f"
             ],
             [
              0.2222222222222222,
              "#7201a8"
             ],
             [
              0.3333333333333333,
              "#9c179e"
             ],
             [
              0.4444444444444444,
              "#bd3786"
             ],
             [
              0.5555555555555556,
              "#d8576b"
             ],
             [
              0.6666666666666666,
              "#ed7953"
             ],
             [
              0.7777777777777778,
              "#fb9f3a"
             ],
             [
              0.8888888888888888,
              "#fdca26"
             ],
             [
              1,
              "#f0f921"
             ]
            ],
            "type": "histogram2d"
           }
          ],
          "histogram2dcontour": [
           {
            "colorbar": {
             "outlinewidth": 0,
             "ticks": ""
            },
            "colorscale": [
             [
              0,
              "#0d0887"
             ],
             [
              0.1111111111111111,
              "#46039f"
             ],
             [
              0.2222222222222222,
              "#7201a8"
             ],
             [
              0.3333333333333333,
              "#9c179e"
             ],
             [
              0.4444444444444444,
              "#bd3786"
             ],
             [
              0.5555555555555556,
              "#d8576b"
             ],
             [
              0.6666666666666666,
              "#ed7953"
             ],
             [
              0.7777777777777778,
              "#fb9f3a"
             ],
             [
              0.8888888888888888,
              "#fdca26"
             ],
             [
              1,
              "#f0f921"
             ]
            ],
            "type": "histogram2dcontour"
           }
          ],
          "mesh3d": [
           {
            "colorbar": {
             "outlinewidth": 0,
             "ticks": ""
            },
            "type": "mesh3d"
           }
          ],
          "parcoords": [
           {
            "line": {
             "colorbar": {
              "outlinewidth": 0,
              "ticks": ""
             }
            },
            "type": "parcoords"
           }
          ],
          "pie": [
           {
            "automargin": true,
            "type": "pie"
           }
          ],
          "scatter": [
           {
            "fillpattern": {
             "fillmode": "overlay",
             "size": 10,
             "solidity": 0.2
            },
            "type": "scatter"
           }
          ],
          "scatter3d": [
           {
            "line": {
             "colorbar": {
              "outlinewidth": 0,
              "ticks": ""
             }
            },
            "marker": {
             "colorbar": {
              "outlinewidth": 0,
              "ticks": ""
             }
            },
            "type": "scatter3d"
           }
          ],
          "scattercarpet": [
           {
            "marker": {
             "colorbar": {
              "outlinewidth": 0,
              "ticks": ""
             }
            },
            "type": "scattercarpet"
           }
          ],
          "scattergeo": [
           {
            "marker": {
             "colorbar": {
              "outlinewidth": 0,
              "ticks": ""
             }
            },
            "type": "scattergeo"
           }
          ],
          "scattergl": [
           {
            "marker": {
             "colorbar": {
              "outlinewidth": 0,
              "ticks": ""
             }
            },
            "type": "scattergl"
           }
          ],
          "scattermapbox": [
           {
            "marker": {
             "colorbar": {
              "outlinewidth": 0,
              "ticks": ""
             }
            },
            "type": "scattermapbox"
           }
          ],
          "scatterpolar": [
           {
            "marker": {
             "colorbar": {
              "outlinewidth": 0,
              "ticks": ""
             }
            },
            "type": "scatterpolar"
           }
          ],
          "scatterpolargl": [
           {
            "marker": {
             "colorbar": {
              "outlinewidth": 0,
              "ticks": ""
             }
            },
            "type": "scatterpolargl"
           }
          ],
          "scatterternary": [
           {
            "marker": {
             "colorbar": {
              "outlinewidth": 0,
              "ticks": ""
             }
            },
            "type": "scatterternary"
           }
          ],
          "surface": [
           {
            "colorbar": {
             "outlinewidth": 0,
             "ticks": ""
            },
            "colorscale": [
             [
              0,
              "#0d0887"
             ],
             [
              0.1111111111111111,
              "#46039f"
             ],
             [
              0.2222222222222222,
              "#7201a8"
             ],
             [
              0.3333333333333333,
              "#9c179e"
             ],
             [
              0.4444444444444444,
              "#bd3786"
             ],
             [
              0.5555555555555556,
              "#d8576b"
             ],
             [
              0.6666666666666666,
              "#ed7953"
             ],
             [
              0.7777777777777778,
              "#fb9f3a"
             ],
             [
              0.8888888888888888,
              "#fdca26"
             ],
             [
              1,
              "#f0f921"
             ]
            ],
            "type": "surface"
           }
          ],
          "table": [
           {
            "cells": {
             "fill": {
              "color": "#EBF0F8"
             },
             "line": {
              "color": "white"
             }
            },
            "header": {
             "fill": {
              "color": "#C8D4E3"
             },
             "line": {
              "color": "white"
             }
            },
            "type": "table"
           }
          ]
         },
         "layout": {
          "annotationdefaults": {
           "arrowcolor": "#2a3f5f",
           "arrowhead": 0,
           "arrowwidth": 1
          },
          "autotypenumbers": "strict",
          "coloraxis": {
           "colorbar": {
            "outlinewidth": 0,
            "ticks": ""
           }
          },
          "colorscale": {
           "diverging": [
            [
             0,
             "#8e0152"
            ],
            [
             0.1,
             "#c51b7d"
            ],
            [
             0.2,
             "#de77ae"
            ],
            [
             0.3,
             "#f1b6da"
            ],
            [
             0.4,
             "#fde0ef"
            ],
            [
             0.5,
             "#f7f7f7"
            ],
            [
             0.6,
             "#e6f5d0"
            ],
            [
             0.7,
             "#b8e186"
            ],
            [
             0.8,
             "#7fbc41"
            ],
            [
             0.9,
             "#4d9221"
            ],
            [
             1,
             "#276419"
            ]
           ],
           "sequential": [
            [
             0,
             "#0d0887"
            ],
            [
             0.1111111111111111,
             "#46039f"
            ],
            [
             0.2222222222222222,
             "#7201a8"
            ],
            [
             0.3333333333333333,
             "#9c179e"
            ],
            [
             0.4444444444444444,
             "#bd3786"
            ],
            [
             0.5555555555555556,
             "#d8576b"
            ],
            [
             0.6666666666666666,
             "#ed7953"
            ],
            [
             0.7777777777777778,
             "#fb9f3a"
            ],
            [
             0.8888888888888888,
             "#fdca26"
            ],
            [
             1,
             "#f0f921"
            ]
           ],
           "sequentialminus": [
            [
             0,
             "#0d0887"
            ],
            [
             0.1111111111111111,
             "#46039f"
            ],
            [
             0.2222222222222222,
             "#7201a8"
            ],
            [
             0.3333333333333333,
             "#9c179e"
            ],
            [
             0.4444444444444444,
             "#bd3786"
            ],
            [
             0.5555555555555556,
             "#d8576b"
            ],
            [
             0.6666666666666666,
             "#ed7953"
            ],
            [
             0.7777777777777778,
             "#fb9f3a"
            ],
            [
             0.8888888888888888,
             "#fdca26"
            ],
            [
             1,
             "#f0f921"
            ]
           ]
          },
          "colorway": [
           "#636efa",
           "#EF553B",
           "#00cc96",
           "#ab63fa",
           "#FFA15A",
           "#19d3f3",
           "#FF6692",
           "#B6E880",
           "#FF97FF",
           "#FECB52"
          ],
          "font": {
           "color": "#2a3f5f"
          },
          "geo": {
           "bgcolor": "white",
           "lakecolor": "white",
           "landcolor": "#E5ECF6",
           "showlakes": true,
           "showland": true,
           "subunitcolor": "white"
          },
          "hoverlabel": {
           "align": "left"
          },
          "hovermode": "closest",
          "mapbox": {
           "style": "light"
          },
          "paper_bgcolor": "white",
          "plot_bgcolor": "#E5ECF6",
          "polar": {
           "angularaxis": {
            "gridcolor": "white",
            "linecolor": "white",
            "ticks": ""
           },
           "bgcolor": "#E5ECF6",
           "radialaxis": {
            "gridcolor": "white",
            "linecolor": "white",
            "ticks": ""
           }
          },
          "scene": {
           "xaxis": {
            "backgroundcolor": "#E5ECF6",
            "gridcolor": "white",
            "gridwidth": 2,
            "linecolor": "white",
            "showbackground": true,
            "ticks": "",
            "zerolinecolor": "white"
           },
           "yaxis": {
            "backgroundcolor": "#E5ECF6",
            "gridcolor": "white",
            "gridwidth": 2,
            "linecolor": "white",
            "showbackground": true,
            "ticks": "",
            "zerolinecolor": "white"
           },
           "zaxis": {
            "backgroundcolor": "#E5ECF6",
            "gridcolor": "white",
            "gridwidth": 2,
            "linecolor": "white",
            "showbackground": true,
            "ticks": "",
            "zerolinecolor": "white"
           }
          },
          "shapedefaults": {
           "line": {
            "color": "#2a3f5f"
           }
          },
          "ternary": {
           "aaxis": {
            "gridcolor": "white",
            "linecolor": "white",
            "ticks": ""
           },
           "baxis": {
            "gridcolor": "white",
            "linecolor": "white",
            "ticks": ""
           },
           "bgcolor": "#E5ECF6",
           "caxis": {
            "gridcolor": "white",
            "linecolor": "white",
            "ticks": ""
           }
          },
          "title": {
           "x": 0.05
          },
          "xaxis": {
           "automargin": true,
           "gridcolor": "white",
           "linecolor": "white",
           "ticks": "",
           "title": {
            "standoff": 15
           },
           "zerolinecolor": "white",
           "zerolinewidth": 2
          },
          "yaxis": {
           "automargin": true,
           "gridcolor": "white",
           "linecolor": "white",
           "ticks": "",
           "title": {
            "standoff": 15
           },
           "zerolinecolor": "white",
           "zerolinewidth": 2
          }
         }
        },
        "title": {
         "text": "All indicators",
         "x": 0.5
        },
        "xaxis": {
         "anchor": "y",
         "domain": [
          0,
          1
         ],
         "title": {
          "text": "1st_component"
         }
        },
        "yaxis": {
         "anchor": "x",
         "domain": [
          0,
          1
         ],
         "title": {
          "text": "2nd_component"
         }
        }
       }
      }
     },
     "metadata": {},
     "output_type": "display_data"
    }
   ],
   "source": [
    "plot_cluster_map_out"
   ]
  },
  {
   "cell_type": "markdown",
   "metadata": {},
   "source": [
    "# CLUSTER TABLE"
   ]
  },
  {
   "cell_type": "code",
   "execution_count": 13,
   "metadata": {},
   "outputs": [
    {
     "data": {
      "application/vnd.jupyter.widget-view+json": {
       "model_id": "bfe6692172e14e94a3cb3513ed65b385",
       "version_major": 2,
       "version_minor": 0
      },
      "text/plain": [
       "Output(layout=Layout(border='1px solid black'))"
      ]
     },
     "metadata": {},
     "output_type": "display_data"
    }
   ],
   "source": [
    "table_cluster_out"
   ]
  },
  {
   "cell_type": "markdown",
   "metadata": {},
   "source": [
    "# CLUSTER VENN DIAGRAM"
   ]
  },
  {
   "cell_type": "code",
   "execution_count": 14,
   "metadata": {},
   "outputs": [
    {
     "data": {
      "application/vnd.jupyter.widget-view+json": {
       "model_id": "5d0a0b60fa5b4cefac060304bbc90fe4",
       "version_major": 2,
       "version_minor": 0
      },
      "text/plain": [
       "Output(layout=Layout(border='1px solid black'))"
      ]
     },
     "metadata": {},
     "output_type": "display_data"
    }
   ],
   "source": [
    "venn_group_out"
   ]
  },
  {
   "cell_type": "markdown",
   "metadata": {},
   "source": [
    "# CHART OF INDICATORS VALUES"
   ]
  },
  {
   "cell_type": "code",
   "execution_count": 15,
   "metadata": {},
   "outputs": [
    {
     "data": {
      "application/vnd.jupyter.widget-view+json": {
       "model_id": "b4af026734cc49adb77e2ff5e59b5733",
       "version_major": 2,
       "version_minor": 0
      },
      "text/plain": [
       "Output(layout=Layout(border='1px solid black'))"
      ]
     },
     "metadata": {},
     "output_type": "display_data"
    }
   ],
   "source": [
    "chart_shift_ind_out"
   ]
  },
  {
   "cell_type": "markdown",
   "metadata": {},
   "source": [
    "# CHART OF INDICATORS CORRELATIONS"
   ]
  },
  {
   "cell_type": "code",
   "execution_count": 16,
   "metadata": {},
   "outputs": [
    {
     "data": {
      "application/vnd.jupyter.widget-view+json": {
       "model_id": "3bbc6584fbfb4ac39bd709faac5ba6d4",
       "version_major": 2,
       "version_minor": 0
      },
      "text/plain": [
       "Output(layout=Layout(border='1px solid black'))"
      ]
     },
     "metadata": {},
     "output_type": "display_data"
    }
   ],
   "source": [
    "chart_shift_corr_out"
   ]
  },
  {
   "cell_type": "code",
   "execution_count": 17,
   "metadata": {
    "extensions": {
     "jupyter_dashboards": {
      "version": 1,
      "views": {
       "default_view": {
        "hidden": true
       }
      }
     }
    }
   },
   "outputs": [],
   "source": [
    "@plot_cluster_map_out.capture(clear_output=True, wait=True)\n",
    "def plot_cluster_map (df: pd.DataFrame, group_name: str = 'All indicators', *, col_1comp: str = '1st_component', col_2comp: str = '2nd_component'):\n",
    "    if df is None: return None\n",
    "    fig = px.scatter(df, x = col_1comp, y = col_2comp, text = df.index, size_max=100, color=col_cluster, category_orders={col_cluster: np.sort(df.loc[:, col_cluster].unique())})\n",
    "    fig.update_layout(title_text = group_name, title_x=0.5)\n",
    "    fig.update_traces(textposition = 'top center')\n",
    "    fig.show()\n",
    "\n",
    "@table_cluster_out.capture(clear_output=True, wait=True)\n",
    "def table_cluster (df: pd.DataFrame, group_name: str = 'All indicators', country: str = '', cluster_number: int = 0):\n",
    "    if df is None: return None\n",
    "    try:\n",
    "        df_s = df.style\n",
    "        df_s.apply_index(lambda i: ['background-color: #aadfff; font-weight: 500' if c == country else '' for c in i], axis = 0)\n",
    "        df_s.apply(lambda row: ['background-color: #ccebff;' if row.name == country else '' for cell in row], axis = 1)\n",
    "        df_s.set_table_styles([{'selector': 'td:hover', 'props': [('background-color', '#ddfdff')]}])\n",
    "        tt = {}\n",
    "        for col in df.columns:\n",
    "            tt[col] = 'Column median: ' + str(df.loc[:, col].median())\n",
    "        df_s.set_tooltips(pd.DataFrame(tt, index = df.index))\n",
    "\n",
    "        # Display a short descriptive title and the Dataframe.\n",
    "        display(country + ' belongs to Cluster ' + str(cluster_number) + '. This Cluster contains a total of ' + str(df.shape[0]) + ' countries.')\n",
    "        display(df_s)\n",
    "    except Exception:\n",
    "        return print('No indicators available for this country.')\n",
    "\n",
    "@venn_group_out.capture(clear_output=True, wait=True)\n",
    "def venn_group(cluster_df, country):\n",
    "    try:\n",
    "        _, econ_ind, eq_ind, socdem_ind = ind_dict.keys()       # NON ROBUST STATEMENT\n",
    "        _, set_econ, set_eq, set_socdem = (set(cluster_df.loc[lambda df: df[ind] == df.loc[country, ind], ind].index.to_list()) for ind in ind_dict.keys())\n",
    "        venn = venn3([set_econ, set_socdem, set_eq], (econ_ind, socdem_ind, eq_ind))\n",
    "\n",
    "        venn.get_label_by_id('100').set_text('\\n'.join(set_econ - set_socdem - set_eq)) # Only econ\n",
    "        venn.get_label_by_id('010').set_text('\\n'.join(set_socdem - set_econ - set_eq)) # Only socdem\n",
    "        venn.get_label_by_id('001').set_text('\\n'.join(set_eq - set_econ - set_socdem)) # Only eq\n",
    "\n",
    "        # The three pair-intersections is guaranteed only if there is an intersection of the three groups.\n",
    "        if len(set_econ & set_socdem & set_eq):\n",
    "            venn.get_label_by_id('111').set_text('\\n'.join(set_econ & set_socdem & set_eq))\n",
    "            venn.get_label_by_id('110').set_text('\\n'.join(set_econ & set_socdem - set_eq))\n",
    "            venn.get_label_by_id('101').set_text('\\n'.join(set_econ & set_eq - set_socdem))\n",
    "            venn.get_label_by_id('011').set_text('\\n'.join(set_socdem & set_eq - set_econ))\n",
    "        else:\n",
    "            # If no center, check the intersections that do exist.\n",
    "            if len(set_econ & set_socdem - set_eq):\n",
    "                venn.get_label_by_id('110').set_text('\\n'.join(set_econ & set_socdem - set_eq))\n",
    "            if len(set_econ & set_eq - set_socdem):\n",
    "                venn.get_label_by_id('101').set_text('\\n'.join(set_econ & set_eq - set_socdem))\n",
    "            if len(set_socdem & set_eq - set_econ):\n",
    "                venn.get_label_by_id('011').set_text('\\n'.join(set_socdem & set_eq - set_econ))\n",
    "\n",
    "        plt.rcParams[\"figure.figsize\"] = (12, 12)\n",
    "        plt.show()\n",
    "\n",
    "    except:\n",
    "        return print('No indicators available for this country.')\n",
    "\n",
    "@chart_shift_ind_out.capture(clear_output=True, wait=True)\n",
    "def chart_shift_ind(norm_df, mode, zone, indicator, shift):\n",
    "    data_s = norm_df.loc[norm_df.index.get_level_values(mode) == zone, [col_gdp, indicator]].groupby(level = col_year).median()\n",
    "\n",
    "    min_year_gdp = min_year + max(shift, 0)\n",
    "    max_year_gdp = max_year + min(shift, 0)\n",
    "\n",
    "    min_year_ind = min_year - min(shift, 0)\n",
    "    max_year_ind = max_year - max(shift, 0)\n",
    "\n",
    "    norm_gdp = norm(data_s.loc[min_year_gdp : max_year_gdp, [col_gdp]], None)\n",
    "    norm_ind = norm(data_s.loc[min_year_ind : max_year_ind, [indicator]], None)\n",
    "\n",
    "    plt.figure(figsize = (8,8))\n",
    "    plt.plot(\n",
    "                #norm_gdp.index.get_level_values(col_year),\n",
    "                norm_gdp.reset_index(drop = True),\n",
    "                color = \"red\", label = col_gdp)\n",
    "    plt.plot(\n",
    "                #norm_ind.index.get_level_values(col_year),\n",
    "                norm_ind.reset_index(drop = True),\n",
    "                color = \"green\", label = indicator)\n",
    "    plt.legend(loc = \"lower right\")\n",
    "    plt.show()\n",
    "\n",
    "@chart_shift_corr_out.capture(clear_output=True, wait=True)\n",
    "def chart_shift_corr(mode, zone, indicator):\n",
    "    df_m = pd.read_csv(output_path + 'Shifted_Corr_' + mode + '.csv', index_col = [mode, col_shift])\n",
    "    df_s = df_m.loc[df_m.index.get_level_values(mode) == zone, indicator]\n",
    "\n",
    "    plt.figure(figsize = (8,8))\n",
    "    plt.plot(\n",
    "                df_s.index.get_level_values(col_shift),\n",
    "                df_s.reset_index(drop = True),\n",
    "                color = \"green\", label = indicator)\n",
    "    plt.legend(loc = \"lower right\")\n",
    "    plt.show()"
   ]
  },
  {
   "cell_type": "markdown",
   "metadata": {
    "extensions": {
     "jupyter_dashboards": {
      "version": 1,
      "views": {
       "default_view": {
        "col": 0,
        "height": 2,
        "row": 65,
        "width": 12
       }
      }
     }
    }
   },
   "source": [
    "# WIDGETS"
   ]
  },
  {
   "cell_type": "code",
   "execution_count": 18,
   "metadata": {
    "extensions": {
     "jupyter_dashboards": {
      "version": 1,
      "views": {
       "default_view": {
        "hidden": true
       }
      }
     }
    }
   },
   "outputs": [],
   "source": [
    "dropdown_mode = widgets.Dropdown(\n",
    "    options = mode_list,\n",
    "    description = 'Select: '\n",
    ")\n",
    "\n",
    "dropdown_zone = widgets.Dropdown(\n",
    "    options = mode_dict[dropdown_mode.value],\n",
    "    description = 'Show: '\n",
    ")\n",
    "\n",
    "dropdown_ind = widgets.Dropdown(\n",
    "    options = indicators_list,\n",
    "    description = 'Indicator: '\n",
    ")\n",
    "\n",
    "intslider_years = widgets.IntRangeSlider(\n",
    "    value = [min_year, max_year],\n",
    "    min = min_year,\n",
    "    max = max_year,\n",
    "    step = 1,\n",
    "    description = 'Years: ',\n",
    ")\n",
    "\n",
    "intslider_shift = widgets.IntSlider(\n",
    "    value = 0,\n",
    "    min = min_year - max_year + 1,\n",
    "    max = max_year - min_year - 1,\n",
    "    step = 1,\n",
    "    description = 'Shifts: '\n",
    ")"
   ]
  },
  {
   "cell_type": "code",
   "execution_count": 19,
   "metadata": {
    "extensions": {
     "jupyter_dashboards": {
      "version": 1,
      "views": {
       "default_view": {
        "col": 0,
        "height": 12,
        "row": 50,
        "width": 12
       }
      }
     }
    },
    "scrolled": false
   },
   "outputs": [
    {
     "data": {
      "application/vnd.jupyter.widget-view+json": {
       "model_id": "892af9e3df3948079c0f757af3016f03",
       "version_major": 2,
       "version_minor": 0
      },
      "text/plain": [
       "interactive(children=(Dropdown(description='Select: ', options=('Country', 'Region'), value='Country'), Dropdo…"
      ]
     },
     "metadata": {},
     "output_type": "display_data"
    },
    {
     "data": {
      "text/plain": [
       "<function __main__.updatePlots(mode, zone, ind, years, shift)>"
      ]
     },
     "execution_count": 19,
     "metadata": {},
     "output_type": "execute_result"
    }
   ],
   "source": [
    "def updatePlots(mode, zone, ind, years, shift):\n",
    "    if ind != status_widget.ind:\n",
    "        if mode == 'Region':\n",
    "            status_widget.ind = None\n",
    "            status_widget.ind_group = None\n",
    "        else:\n",
    "            status_widget.ind = ind\n",
    "            group = group_of(ind)\n",
    "            if status_widget.ind_group != group: status_widget.ind_group = group\n",
    "    if mode != status_widget.mode:\n",
    "        dropdown_zone.options = mode_dict[mode]\n",
    "        status_widget.mode = mode\n",
    "        data = None\n",
    "    \n",
    "    if zone != status_widget.zone:\n",
    "        if mode == col_country:\n",
    "            #print(status_widget.ind_group)\n",
    "            #display(comp_dict[status_widget.ind_group])\n",
    "            status_widget.comp_df = comp_dict[status_widget.ind_group].reset_index(col_cluster, drop = False)\n",
    "        data = None\n",
    "        status_widget.zone = zone\n",
    "    \n",
    "    if shift != status_widget.shift:\n",
    "        status_widget.shift = shift\n",
    "    \n",
    "    cluster_number = cluster_dict[status_widget.ind_group].loc[cluster_dict[status_widget.ind_group].index == status_widget.zone, col_cluster].item()\n",
    "    df_ind = cluster_dict[status_widget.ind_group]\n",
    "    status_widget.ind_df = df_ind.loc[df_ind[col_cluster] == cluster_number].drop(col_cluster, axis = 'columns')\n",
    "\n",
    "    # DO THE ILLEGAL THING\n",
    "    plot_cluster_map (status_widget.comp_df)\n",
    "    table_cluster (status_widget.ind_df, status_widget.ind_group, status_widget.zone)\n",
    "    venn_group (status_widget.cluster_df, status_widget.zone)\n",
    "\n",
    "    chart_shift_ind(status_widget.norm_df, status_widget.mode, status_widget.zone, status_widget.ind, status_widget.shift)\n",
    "    chart_shift_corr(status_widget.mode, status_widget.zone, status_widget.ind)\n",
    "\n",
    "widgets.interact(updatePlots, mode = dropdown_mode, zone = dropdown_zone, ind = dropdown_ind,\n",
    "                 years = intslider_years, shift = intslider_shift)"
   ]
  },
  {
   "cell_type": "code",
   "execution_count": null,
   "metadata": {
    "extensions": {
     "jupyter_dashboards": {
      "version": 1,
      "views": {
       "default_view": {
        "hidden": true
       }
      }
     }
    }
   },
   "outputs": [],
   "source": []
  },
  {
   "cell_type": "code",
   "execution_count": null,
   "metadata": {},
   "outputs": [],
   "source": []
  },
  {
   "cell_type": "markdown",
   "metadata": {
    "extensions": {
     "jupyter_dashboards": {
      "version": 1,
      "views": {
       "default_view": {
        "col": 0,
        "height": 3,
        "row": 62,
        "width": 12
       }
      }
     }
    }
   },
   "source": [
    "# MY DASHBOARD"
   ]
  },
  {
   "cell_type": "code",
   "execution_count": 20,
   "metadata": {
    "extensions": {
     "jupyter_dashboards": {
      "version": 1,
      "views": {
       "default_view": {
        "col": 0,
        "height": 7,
        "row": 6,
        "width": 12
       }
      }
     }
    }
   },
   "outputs": [
    {
     "data": {
      "text/plain": [
       "array([ 0,  1,  2,  3,  4,  5,  6,  7,  8,  9, 10, 11])"
      ]
     },
     "execution_count": 20,
     "metadata": {},
     "output_type": "execute_result"
    }
   ],
   "source": [
    "ind_dict['All indicators']\n",
    "np.sort(cluster_df.loc[:, 'All indicators'].unique())"
   ]
  },
  {
   "cell_type": "code",
   "execution_count": null,
   "metadata": {
    "extensions": {
     "jupyter_dashboards": {
      "version": 1,
      "views": {
       "default_view": {
        "hidden": true
       }
      }
     }
    }
   },
   "outputs": [],
   "source": []
  },
  {
   "cell_type": "code",
   "execution_count": null,
   "metadata": {
    "extensions": {
     "jupyter_dashboards": {
      "version": 1,
      "views": {
       "default_view": {
        "hidden": true
       }
      }
     }
    }
   },
   "outputs": [],
   "source": []
  },
  {
   "cell_type": "code",
   "execution_count": 21,
   "metadata": {
    "extensions": {
     "jupyter_dashboards": {
      "version": 1,
      "views": {
       "default_view": {
        "col": 0,
        "height": 9,
        "row": 15,
        "width": 6
       }
      }
     }
    }
   },
   "outputs": [
    {
     "data": {
      "text/plain": [
       "\" def cluster_map (indicators):\\n    comp_df = comp_dict[indicators].reset_index(col_cluster, drop = False)\\n    \\n    # Show the resulting chart\\n    fig = px.scatter(comp_df, x = col_1comp, y = col_2comp, text = comp_df.index, size_max=100, color=col_cluster, category_orders={col_cluster: sort(list(set(comp_df.loc[:, col_cluster])))})\\n    fig.update_layout(title_text = indicators, title_x=0.5)\\n    fig.update_traces(textposition = 'top center')\\n    fig.show()\\n\\n@interact(\\n    indicators = cluster_dict.keys(),\\n)\\n\\ndef g(indicators):\\n    return cluster_map (indicators)   \\n \""
      ]
     },
     "execution_count": 21,
     "metadata": {},
     "output_type": "execute_result"
    }
   ],
   "source": [
    "\"\"\" def cluster_map (indicators):\n",
    "    comp_df = comp_dict[indicators].reset_index(col_cluster, drop = False)\n",
    "    \n",
    "    # Show the resulting chart\n",
    "    fig = px.scatter(comp_df, x = col_1comp, y = col_2comp, text = comp_df.index, size_max=100, color=col_cluster, category_orders={col_cluster: sort(list(set(comp_df.loc[:, col_cluster])))})\n",
    "    fig.update_layout(title_text = indicators, title_x=0.5)\n",
    "    fig.update_traces(textposition = 'top center')\n",
    "    fig.show()\n",
    "\n",
    "@interact(\n",
    "    indicators = cluster_dict.keys(),\n",
    ")\n",
    "\n",
    "def g(indicators):\n",
    "    return cluster_map (indicators)   \n",
    " \"\"\""
   ]
  },
  {
   "cell_type": "code",
   "execution_count": 22,
   "metadata": {
    "extensions": {
     "jupyter_dashboards": {
      "version": 1,
      "views": {
       "default_view": {
        "col": 6,
        "height": 9,
        "row": 15,
        "width": 6
       }
      }
     }
    }
   },
   "outputs": [
    {
     "data": {
      "text/plain": [
       "\" def tableCountry(Ind, Country):\\n    try:\\n        # Find the cluster Country belongs to.\\n        cluster_number = cluster_dict[Ind].loc[cluster_dict[Ind].index == Country, col_cluster].item()\\n        # Retrieve the Dataframe with the selected indicators, and filter to only show the rows (countries) belonging to the cluster. Drop the cluster number column as it is redundant.\\n        df_ind = cluster_dict[Ind]\\n        df = df_ind.loc[df_ind[col_cluster] == cluster_number].drop(col_cluster, axis = 'columns')\\n        # Format the Dataframe representation.\\n        df_s = df.style\\n        df_s.apply_index(lambda i: ['background-color: #aadfff; font-weight: 500' if c == Country else '' for c in i], axis = 0)\\n        df_s.apply(lambda row: ['background-color: #ccebff;' if row.name == Country else '' for cell in row], axis = 1)\\n        df_s.set_table_styles([{'selector': 'td:hover', 'props': [('background-color', '#ddfdff')]}])\\n        tt = {}\\n        for col in df.columns:\\n            tt[col] = 'Column median: ' + str(df.loc[:, col].median())\\n        df_s.set_tooltips(pd.DataFrame(tt, index = df.index))\\n\\n        # Display a short descriptive title and the Dataframe.\\n        display(Country + ' belongs to Cluster ' + str(cluster_number) + '. This Cluster contains a total of ' + str(df.shape[0]) + ' countries.')\\n        display(df_s)\\n    except Exception:\\n        return print('No indicators available for this country.')\\n\\n@interact(\\n    Indicators = cluster_dict.keys(),\\n    Country = country_list\\n)\\n\\ndef g(Indicators = 'Equality indicators', Country = 'Afghanistan'):\\n    return tableCountry(Indicators, Country)     \""
      ]
     },
     "execution_count": 22,
     "metadata": {},
     "output_type": "execute_result"
    }
   ],
   "source": [
    "\"\"\" def tableCountry(Ind, Country):\n",
    "    try:\n",
    "        # Find the cluster Country belongs to.\n",
    "        cluster_number = cluster_dict[Ind].loc[cluster_dict[Ind].index == Country, col_cluster].item()\n",
    "        # Retrieve the Dataframe with the selected indicators, and filter to only show the rows (countries) belonging to the cluster. Drop the cluster number column as it is redundant.\n",
    "        df_ind = cluster_dict[Ind]\n",
    "        df = df_ind.loc[df_ind[col_cluster] == cluster_number].drop(col_cluster, axis = 'columns')\n",
    "        # Format the Dataframe representation.\n",
    "        df_s = df.style\n",
    "        df_s.apply_index(lambda i: ['background-color: #aadfff; font-weight: 500' if c == Country else '' for c in i], axis = 0)\n",
    "        df_s.apply(lambda row: ['background-color: #ccebff;' if row.name == Country else '' for cell in row], axis = 1)\n",
    "        df_s.set_table_styles([{'selector': 'td:hover', 'props': [('background-color', '#ddfdff')]}])\n",
    "        tt = {}\n",
    "        for col in df.columns:\n",
    "            tt[col] = 'Column median: ' + str(df.loc[:, col].median())\n",
    "        df_s.set_tooltips(pd.DataFrame(tt, index = df.index))\n",
    "\n",
    "        # Display a short descriptive title and the Dataframe.\n",
    "        display(Country + ' belongs to Cluster ' + str(cluster_number) + '. This Cluster contains a total of ' + str(df.shape[0]) + ' countries.')\n",
    "        display(df_s)\n",
    "    except Exception:\n",
    "        return print('No indicators available for this country.')\n",
    "\n",
    "@interact(\n",
    "    Indicators = cluster_dict.keys(),\n",
    "    Country = country_list\n",
    ")\n",
    "\n",
    "def g(Indicators = 'Equality indicators', Country = 'Afghanistan'):\n",
    "    return tableCountry(Indicators, Country)     \"\"\""
   ]
  },
  {
   "cell_type": "code",
   "execution_count": 23,
   "metadata": {
    "extensions": {
     "jupyter_dashboards": {
      "version": 1,
      "views": {
       "default_view": {
        "col": 0,
        "height": 2,
        "row": 32,
        "width": 12
       }
      }
     }
    }
   },
   "outputs": [
    {
     "data": {
      "text/plain": [
       "' def VennOut(Country):\\n    try:\\n        _, econ_ind, eq_ind, socdem_ind = ind_dict.keys()       # NON ROBUST STATEMENT\\n        _, set_econ, set_eq, set_socdem = (set(cluster_df.loc[lambda df: df[ind] == df.loc[Country, ind], ind].index.to_list()) for ind in ind_dict.keys())\\n        venn = venn3([set_econ, set_socdem, set_eq], (econ_ind, socdem_ind, eq_ind))\\n\\n        venn.get_label_by_id(\\'100\\').set_text(\\'\\n\\'.join(set_econ - set_socdem - set_eq)) # Only econ\\n        venn.get_label_by_id(\\'010\\').set_text(\\'\\n\\'.join(set_socdem - set_econ - set_eq)) # Only socdem\\n        venn.get_label_by_id(\\'001\\').set_text(\\'\\n\\'.join(set_eq - set_econ - set_socdem)) # Only eq\\n\\n        # The three pair-intersections is guaranteed only if there is an intersection of the three groups.\\n        if len(set_econ & set_socdem & set_eq):\\n            venn.get_label_by_id(\\'111\\').set_text(\\'\\n\\'.join(set_econ & set_socdem & set_eq))\\n            venn.get_label_by_id(\\'110\\').set_text(\\'\\n\\'.join(set_econ & set_socdem - set_eq))\\n            venn.get_label_by_id(\\'101\\').set_text(\\'\\n\\'.join(set_econ & set_eq - set_socdem))\\n            venn.get_label_by_id(\\'011\\').set_text(\\'\\n\\'.join(set_socdem & set_eq - set_econ))\\n        else:\\n            # If no center, check the intersections that do exist.\\n            if len(set_econ & set_socdem - set_eq):\\n                venn.get_label_by_id(\\'110\\').set_text(\\'\\n\\'.join(set_econ & set_socdem - set_eq))\\n            if len(set_econ & set_eq - set_socdem):\\n                venn.get_label_by_id(\\'101\\').set_text(\\'\\n\\'.join(set_econ & set_eq - set_socdem))\\n            if len(set_socdem & set_eq - set_econ):\\n                venn.get_label_by_id(\\'011\\').set_text(\\'\\n\\'.join(set_socdem & set_eq - set_econ))\\n\\n        plt.rcParams[\"figure.figsize\"] = (12, 12)\\n        plt.show()\\n\\n    except:\\n        return print(\\'No indicators available for this country.\\')\\n\\n@interact(\\n    Country = country_list)\\n\\ndef g(Country = \\'Spain\\'):\\n    return VennOut(Country) '"
      ]
     },
     "execution_count": 23,
     "metadata": {},
     "output_type": "execute_result"
    }
   ],
   "source": [
    "\"\"\" def VennOut(Country):\n",
    "    try:\n",
    "        _, econ_ind, eq_ind, socdem_ind = ind_dict.keys()       # NON ROBUST STATEMENT\n",
    "        _, set_econ, set_eq, set_socdem = (set(cluster_df.loc[lambda df: df[ind] == df.loc[Country, ind], ind].index.to_list()) for ind in ind_dict.keys())\n",
    "        venn = venn3([set_econ, set_socdem, set_eq], (econ_ind, socdem_ind, eq_ind))\n",
    "\n",
    "        venn.get_label_by_id('100').set_text('\\n'.join(set_econ - set_socdem - set_eq)) # Only econ\n",
    "        venn.get_label_by_id('010').set_text('\\n'.join(set_socdem - set_econ - set_eq)) # Only socdem\n",
    "        venn.get_label_by_id('001').set_text('\\n'.join(set_eq - set_econ - set_socdem)) # Only eq\n",
    "\n",
    "        # The three pair-intersections is guaranteed only if there is an intersection of the three groups.\n",
    "        if len(set_econ & set_socdem & set_eq):\n",
    "            venn.get_label_by_id('111').set_text('\\n'.join(set_econ & set_socdem & set_eq))\n",
    "            venn.get_label_by_id('110').set_text('\\n'.join(set_econ & set_socdem - set_eq))\n",
    "            venn.get_label_by_id('101').set_text('\\n'.join(set_econ & set_eq - set_socdem))\n",
    "            venn.get_label_by_id('011').set_text('\\n'.join(set_socdem & set_eq - set_econ))\n",
    "        else:\n",
    "            # If no center, check the intersections that do exist.\n",
    "            if len(set_econ & set_socdem - set_eq):\n",
    "                venn.get_label_by_id('110').set_text('\\n'.join(set_econ & set_socdem - set_eq))\n",
    "            if len(set_econ & set_eq - set_socdem):\n",
    "                venn.get_label_by_id('101').set_text('\\n'.join(set_econ & set_eq - set_socdem))\n",
    "            if len(set_socdem & set_eq - set_econ):\n",
    "                venn.get_label_by_id('011').set_text('\\n'.join(set_socdem & set_eq - set_econ))\n",
    "\n",
    "        plt.rcParams[\"figure.figsize\"] = (12, 12)\n",
    "        plt.show()\n",
    "\n",
    "    except:\n",
    "        return print('No indicators available for this country.')\n",
    "\n",
    "@interact(\n",
    "    Country = country_list)\n",
    "\n",
    "def g(Country = 'Spain'):\n",
    "    return VennOut(Country) \"\"\""
   ]
  },
  {
   "cell_type": "code",
   "execution_count": 24,
   "metadata": {
    "extensions": {
     "jupyter_dashboards": {
      "version": 1,
      "views": {
       "default_view": {
        "hidden": true
       }
      }
     }
    }
   },
   "outputs": [],
   "source": [
    "norm_df = pd.read_csv(output_path + 'Norm_DF.csv', index_col = [col_country, col_region, col_year])"
   ]
  },
  {
   "cell_type": "code",
   "execution_count": 25,
   "metadata": {
    "extensions": {
     "jupyter_dashboards": {
      "version": 1,
      "views": {
       "default_view": {
        "col": 0,
        "height": 2,
        "row": 34,
        "width": 12
       }
      }
     }
    }
   },
   "outputs": [
    {
     "data": {
      "text/plain": [
       "' # Widgets: dropdowns for country or area, select a particular country or area and select an indicator; and an intslider to choose the shift to apply.\\n\\ndropdown_select = widgets.Dropdown(\\n    options = mode_list,\\n    description = \\'Select: \\'\\n)\\n\\ndropdown_show_e = widgets.Dropdown(\\n    options = mode_dict[dropdown_select.value],\\n    description = \\'Show: \\'\\n)\\n\\ndropdown_indicators = widgets.Dropdown(\\n    options = indicators_list,\\n    description = \\'Indicator: \\'\\n)\\n\\nintslider_shift = widgets.IntSlider(\\n    value = 0,\\n    min = min_year - max_year + 1,\\n    max = max_year - min_year - 1,\\n    step = 1,\\n    description = \\'Shifts: \\')\\n\\ndef change_selection (selector):\\n    dropdown_show_e.options = mode_dict[selector]\\n\\nwidgets.interact(change_selection, selector = dropdown_select)\\n\\ndef show_chart(element, indicator, shift):\\n    data_s = norm_df.loc[norm_df.index.get_level_values(dropdown_select.value) == element, [col_gdp, indicator]].groupby(level = col_year).median()\\n\\n    min_year_gdp = min_year + max(shift, 0)\\n    max_year_gdp = max_year + min(shift, 0)\\n\\n    min_year_ind = min_year - min(shift, 0)\\n    max_year_ind = max_year - max(shift, 0)\\n\\n    norm_gdp = norm(data_s.loc[min_year_gdp : max_year_gdp, [col_gdp]], None)\\n    norm_ind = norm(data_s.loc[min_year_ind : max_year_ind, [indicator]], None)\\n\\n    plt.figure(figsize = (8,8))\\n    plt.plot(\\n                #norm_gdp.index.get_level_values(col_year),\\n                norm_gdp.reset_index(drop = True),\\n                color = \"red\", label = col_gdp)\\n    plt.plot(\\n                #norm_ind.index.get_level_values(col_year),\\n                norm_ind.reset_index(drop = True),\\n                color = \"green\", label = indicator)\\n    plt.legend(loc = \"lower right\")\\n\\nwidgets.interact(show_chart, element = dropdown_show_e, indicator = dropdown_indicators, shift = intslider_shift) '"
      ]
     },
     "execution_count": 25,
     "metadata": {},
     "output_type": "execute_result"
    }
   ],
   "source": [
    "\"\"\" # Widgets: dropdowns for country or area, select a particular country or area and select an indicator; and an intslider to choose the shift to apply.\n",
    "\n",
    "dropdown_select = widgets.Dropdown(\n",
    "    options = mode_list,\n",
    "    description = 'Select: '\n",
    ")\n",
    "\n",
    "dropdown_show_e = widgets.Dropdown(\n",
    "    options = mode_dict[dropdown_select.value],\n",
    "    description = 'Show: '\n",
    ")\n",
    "\n",
    "dropdown_indicators = widgets.Dropdown(\n",
    "    options = indicators_list,\n",
    "    description = 'Indicator: '\n",
    ")\n",
    "\n",
    "intslider_shift = widgets.IntSlider(\n",
    "    value = 0,\n",
    "    min = min_year - max_year + 1,\n",
    "    max = max_year - min_year - 1,\n",
    "    step = 1,\n",
    "    description = 'Shifts: ')\n",
    "\n",
    "def change_selection (selector):\n",
    "    dropdown_show_e.options = mode_dict[selector]\n",
    "\n",
    "widgets.interact(change_selection, selector = dropdown_select)\n",
    "\n",
    "def show_chart(element, indicator, shift):\n",
    "    data_s = norm_df.loc[norm_df.index.get_level_values(dropdown_select.value) == element, [col_gdp, indicator]].groupby(level = col_year).median()\n",
    "\n",
    "    min_year_gdp = min_year + max(shift, 0)\n",
    "    max_year_gdp = max_year + min(shift, 0)\n",
    "\n",
    "    min_year_ind = min_year - min(shift, 0)\n",
    "    max_year_ind = max_year - max(shift, 0)\n",
    "\n",
    "    norm_gdp = norm(data_s.loc[min_year_gdp : max_year_gdp, [col_gdp]], None)\n",
    "    norm_ind = norm(data_s.loc[min_year_ind : max_year_ind, [indicator]], None)\n",
    "\n",
    "    plt.figure(figsize = (8,8))\n",
    "    plt.plot(\n",
    "                #norm_gdp.index.get_level_values(col_year),\n",
    "                norm_gdp.reset_index(drop = True),\n",
    "                color = \"red\", label = col_gdp)\n",
    "    plt.plot(\n",
    "                #norm_ind.index.get_level_values(col_year),\n",
    "                norm_ind.reset_index(drop = True),\n",
    "                color = \"green\", label = indicator)\n",
    "    plt.legend(loc = \"lower right\")\n",
    "\n",
    "widgets.interact(show_chart, element = dropdown_show_e, indicator = dropdown_indicators, shift = intslider_shift) \"\"\""
   ]
  },
  {
   "cell_type": "code",
   "execution_count": 26,
   "metadata": {
    "extensions": {
     "jupyter_dashboards": {
      "version": 1,
      "views": {
       "default_view": {
        "col": 0,
        "height": 2,
        "row": 36,
        "width": 12
       }
      }
     }
    }
   },
   "outputs": [
    {
     "data": {
      "text/plain": [
       "' dropdown_select_corr = widgets.Dropdown(\\n    options = mode_list,\\n    description = \\'Select: \\'\\n)\\n\\ndropdown_show_corr = widgets.Dropdown(\\n    options = mode_dict[dropdown_select.value],\\n    description = \\'Show: \\'\\n)\\n\\ndropdown_indicators_corr = widgets.Dropdown(\\n    options = indicators_list,\\n    description = \\'Indicator: \\'\\n)\\n\\ndef change_selection_corr (selector):\\n    dropdown_show_corr.options = mode_dict[selector]\\n\\ndef show_evolution(element, indicator):\\n    \\n    df_m = pd.read_csv(output_path + \\'Shifted_Corr_\\' + dropdown_select_corr.value + \\'.csv\\', index_col = [col_country, col_shift])\\n    df_s = df_m.loc[df_m.index.get_level_values(dropdown_select_corr.value) == element, indicator]\\n\\n    plt.figure(figsize = (8,8))\\n    plt.plot(\\n                df_s.index.get_level_values(col_shift),\\n                df_s.reset_index(drop = True),\\n                color = \"green\", label = indicator)\\n    plt.legend(loc = \"lower right\")\\n\\nwidgets.interact(change_selection_corr, selector = dropdown_select)\\n\\nwidgets.interact(show_evolution, element = dropdown_show_corr, indicator = dropdown_indicators_corr) '"
      ]
     },
     "execution_count": 26,
     "metadata": {},
     "output_type": "execute_result"
    }
   ],
   "source": [
    "\"\"\" dropdown_select_corr = widgets.Dropdown(\n",
    "    options = mode_list,\n",
    "    description = 'Select: '\n",
    ")\n",
    "\n",
    "dropdown_show_corr = widgets.Dropdown(\n",
    "    options = mode_dict[dropdown_select.value],\n",
    "    description = 'Show: '\n",
    ")\n",
    "\n",
    "dropdown_indicators_corr = widgets.Dropdown(\n",
    "    options = indicators_list,\n",
    "    description = 'Indicator: '\n",
    ")\n",
    "\n",
    "def change_selection_corr (selector):\n",
    "    dropdown_show_corr.options = mode_dict[selector]\n",
    "\n",
    "def show_evolution(element, indicator):\n",
    "    \n",
    "    df_m = pd.read_csv(output_path + 'Shifted_Corr_' + dropdown_select_corr.value + '.csv', index_col = [col_country, col_shift])\n",
    "    df_s = df_m.loc[df_m.index.get_level_values(dropdown_select_corr.value) == element, indicator]\n",
    "\n",
    "    plt.figure(figsize = (8,8))\n",
    "    plt.plot(\n",
    "                df_s.index.get_level_values(col_shift),\n",
    "                df_s.reset_index(drop = True),\n",
    "                color = \"green\", label = indicator)\n",
    "    plt.legend(loc = \"lower right\")\n",
    "\n",
    "widgets.interact(change_selection_corr, selector = dropdown_select)\n",
    "\n",
    "widgets.interact(show_evolution, element = dropdown_show_corr, indicator = dropdown_indicators_corr) \"\"\""
   ]
  },
  {
   "cell_type": "code",
   "execution_count": null,
   "metadata": {
    "extensions": {
     "jupyter_dashboards": {
      "version": 1,
      "views": {
       "default_view": {
        "hidden": true
       }
      }
     }
    }
   },
   "outputs": [],
   "source": []
  }
 ],
 "metadata": {
  "extensions": {
   "jupyter_dashboards": {
    "activeView": "default_view",
    "version": 1,
    "views": {
     "default_view": {
      "cellMargin": 10,
      "defaultCellHeight": 40,
      "maxColumns": 12,
      "name": "active_view",
      "type": "grid"
     }
    }
   }
  },
  "kernelspec": {
   "display_name": "Python 3 (ipykernel)",
   "language": "python",
   "name": "python3"
  },
  "language_info": {
   "codemirror_mode": {
    "name": "ipython",
    "version": 3
   },
   "file_extension": ".py",
   "mimetype": "text/x-python",
   "name": "python",
   "nbconvert_exporter": "python",
   "pygments_lexer": "ipython3",
   "version": "3.10.5"
  },
  "vscode": {
   "interpreter": {
    "hash": "6044c39f3fa8d69f78786198aef61ed0dc3fdd7ddd5a88c111ee27e3b3325eb4"
   }
  }
 },
 "nbformat": 4,
 "nbformat_minor": 2
}
