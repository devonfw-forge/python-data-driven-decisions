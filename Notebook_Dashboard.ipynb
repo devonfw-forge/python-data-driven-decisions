{
 "cells": [
  {
   "cell_type": "code",
   "execution_count": 27,
   "metadata": {
    "extensions": {
     "jupyter_dashboards": {
      "version": 1,
      "views": {
       "default_view": {
        "hidden": true
       }
      }
     }
    }
   },
   "outputs": [],
   "source": [
    "import os\n",
    "import pandas as pd\n",
    "import numpy as np\n",
    "from numpy import sort\n",
    "from os import listdir\n",
    "from os.path import isfile, join\n",
    "\n",
    "import ipywidgets as widgets\n",
    "from ipywidgets import interact, interact_manual\n",
    "import matplotlib.pyplot as plt\n",
    "import plotly.express as px\n",
    "\n",
    "from IPython.display import display_html\n",
    "\n",
    "from matplotlib_venn import venn3\n",
    "from Project.Utils.norm import norm\n",
    "from Project.Utils.max_corr import max_corr\n",
    "\n",
    "from Project.Utils.visualize import search, searchTimeSeries, get_years\n",
    "\n",
    "import warnings\n",
    "warnings.filterwarnings(\"ignore\")"
   ]
  },
  {
   "cell_type": "code",
   "execution_count": 28,
   "metadata": {
    "extensions": {
     "jupyter_dashboards": {
      "version": 1,
      "views": {
       "default_view": {
        "hidden": true
       }
      }
     }
    }
   },
   "outputs": [],
   "source": [
    "data_path = os.getcwd() + '/Databases/'\n",
    "output_path = os.getcwd() + '/Output/'\n",
    "country_path = output_path + '/Country/'\n",
    "region_path = output_path + '/Region/'\n",
    "cluster_path = output_path + '/Cluster/'"
   ]
  },
  {
   "cell_type": "code",
   "execution_count": 29,
   "metadata": {
    "extensions": {
     "jupyter_dashboards": {
      "version": 1,
      "views": {
       "default_view": {
        "hidden": true
       }
      }
     }
    }
   },
   "outputs": [],
   "source": [
    "file_regions = 'AuxiliarData/world-regions-mod.csv'\n",
    "\n",
    "file_gold = 'GoldDataframe.csv'\n",
    "file_corr_pearson = 'Corr_DF_Pearson.csv'\n",
    "file_corr_spearman = 'Corr_DF_Spearman.csv'\n",
    "file_agg_region = 'AggregatedRegion_DataFrame.csv'\n",
    "file_agg_world = 'AggregatedWorld_DataFrame.csv'\n",
    "file_norm_df = 'Norm_DF.csv'\n",
    "file_shifted_corr_country = 'Shifted_Corr_Country.csv'\n",
    "file_shifted_corr_region = 'Shifted_Corr_Region.csv'"
   ]
  },
  {
   "cell_type": "code",
   "execution_count": 30,
   "metadata": {
    "extensions": {
     "jupyter_dashboards": {
      "version": 1,
      "views": {
       "default_view": {
        "hidden": true
       }
      }
     }
    }
   },
   "outputs": [],
   "source": [
    "col_country = 'Country'\n",
    "col_year = 'Year'\n",
    "col_region = 'Region'\n",
    "col_gdp = 'GDP'\n",
    "col_cluster = 'Cluster'\n",
    "col_shift = 'Shift'\n",
    "\n",
    "col_1comp = '1st_component'\n",
    "col_2comp = '2nd_component'"
   ]
  },
  {
   "cell_type": "code",
   "execution_count": 31,
   "metadata": {
    "extensions": {
     "jupyter_dashboards": {
      "version": 1,
      "views": {
       "default_view": {
        "hidden": true
       }
      }
     }
    }
   },
   "outputs": [],
   "source": [
    "# READ GOLD DATAFRME\n",
    "# Read Golden Dataframe and initialize the variables that depend on it.\n",
    "\n",
    "df = pd.read_csv(output_path + file_gold, on_bad_lines = 'warn', index_col = ['Region', 'Country', 'Year'])\n",
    "\n",
    "# List of countries and list of regions.\n",
    "country_list = list(np.sort(df.index.get_level_values(col_country).unique()))\n",
    "region_list = list(np.sort(df.index.get_level_values(col_region).unique()))\n",
    "\n",
    "mode_dict = {}\n",
    "mode_dict[col_country] = country_list\n",
    "mode_dict[col_region] = region_list\n",
    "mode_list = [col_country, col_region]\n",
    "\n",
    "# Range of years.\n",
    "min_year = df.index.get_level_values(col_year).min()\n",
    "max_year = df.index.get_level_values(col_year).max()\n",
    "\n",
    "# List of all indicators, except for the GDP.\n",
    "indicators_list = df.columns.tolist()\n",
    "indicators_list.remove(col_gdp)\n",
    "indicators_list.sort()"
   ]
  },
  {
   "cell_type": "code",
   "execution_count": 32,
   "metadata": {
    "extensions": {
     "jupyter_dashboards": {
      "version": 1,
      "views": {
       "default_view": {
        "hidden": true
       }
      }
     }
    }
   },
   "outputs": [],
   "source": [
    "# READ CLUSTERS\n",
    "# Read both Dataframes for each indicators group: the one with the indicator values, and the one with the components.\n",
    "\n",
    "ind_dict = {}\n",
    "cluster_dict = {}\n",
    "cluster_list = []\n",
    "comp_dict = {}\n",
    "\n",
    "for element in listdir(cluster_path):\n",
    "    url = join(cluster_path, element)\n",
    "    if isfile(url) and url.endswith('_Comp.csv'):\n",
    "        ind = element.removesuffix('_Comp.csv')\n",
    "        comp_df = pd.read_csv(url, on_bad_lines = 'warn', index_col = [col_cluster, col_country])\n",
    "        comp_dict[ind] = comp_df\n",
    "        cluster_number_df = comp_df.drop(columns = comp_df.columns).reset_index(col_cluster, drop = False).rename({col_cluster: ind}, axis = 1)\n",
    "        cluster_list.append(cluster_number_df)\n",
    "\n",
    "    elif isfile(url) and url.endswith('.csv'):\n",
    "        ind = element.removesuffix('.csv')\n",
    "        ind_df = pd.read_csv(url, on_bad_lines = 'warn', index_col = [col_cluster, col_country])\n",
    "        cluster_dict[ind] = ind_df.reset_index(col_cluster, drop = False)\n",
    "        ind_dict[ind] = ind_df.columns\n",
    "\n",
    "cluster_df = pd.concat(cluster_list, axis = 1)\n",
    "cluster_df = cluster_df.fillna(-1).astype(int)"
   ]
  },
  {
   "cell_type": "code",
   "execution_count": 33,
   "metadata": {
    "extensions": {
     "jupyter_dashboards": {
      "version": 1,
      "views": {
       "default_view": {
        "col": 5,
        "height": 6,
        "row": 95,
        "width": 5
       }
      }
     }
    }
   },
   "outputs": [
    {
     "data": {
      "text/html": [
       "<div>\n",
       "<style scoped>\n",
       "    .dataframe tbody tr th:only-of-type {\n",
       "        vertical-align: middle;\n",
       "    }\n",
       "\n",
       "    .dataframe tbody tr th {\n",
       "        vertical-align: top;\n",
       "    }\n",
       "\n",
       "    .dataframe thead th {\n",
       "        text-align: right;\n",
       "    }\n",
       "</style>\n",
       "<table border=\"1\" class=\"dataframe\">\n",
       "  <thead>\n",
       "    <tr style=\"text-align: right;\">\n",
       "      <th></th>\n",
       "      <th>All indicators</th>\n",
       "      <th>Economic Indicators</th>\n",
       "      <th>Equality Indicators</th>\n",
       "      <th>Social-demographic Indicators</th>\n",
       "    </tr>\n",
       "    <tr>\n",
       "      <th>Country</th>\n",
       "      <th></th>\n",
       "      <th></th>\n",
       "      <th></th>\n",
       "      <th></th>\n",
       "    </tr>\n",
       "  </thead>\n",
       "  <tbody>\n",
       "    <tr>\n",
       "      <th>Albania</th>\n",
       "      <td>0</td>\n",
       "      <td>6</td>\n",
       "      <td>4</td>\n",
       "      <td>3</td>\n",
       "    </tr>\n",
       "    <tr>\n",
       "      <th>Algeria</th>\n",
       "      <td>0</td>\n",
       "      <td>7</td>\n",
       "      <td>6</td>\n",
       "      <td>9</td>\n",
       "    </tr>\n",
       "    <tr>\n",
       "      <th>Armenia</th>\n",
       "      <td>0</td>\n",
       "      <td>1</td>\n",
       "      <td>8</td>\n",
       "      <td>3</td>\n",
       "    </tr>\n",
       "    <tr>\n",
       "      <th>Bosnia and Herzegovina</th>\n",
       "      <td>0</td>\n",
       "      <td>1</td>\n",
       "      <td>0</td>\n",
       "      <td>3</td>\n",
       "    </tr>\n",
       "    <tr>\n",
       "      <th>Bulgaria</th>\n",
       "      <td>0</td>\n",
       "      <td>2</td>\n",
       "      <td>0</td>\n",
       "      <td>3</td>\n",
       "    </tr>\n",
       "    <tr>\n",
       "      <th>...</th>\n",
       "      <td>...</td>\n",
       "      <td>...</td>\n",
       "      <td>...</td>\n",
       "      <td>...</td>\n",
       "    </tr>\n",
       "    <tr>\n",
       "      <th>Sao Tome and Principe</th>\n",
       "      <td>9</td>\n",
       "      <td>1</td>\n",
       "      <td>8</td>\n",
       "      <td>5</td>\n",
       "    </tr>\n",
       "    <tr>\n",
       "      <th>Solomon Islands</th>\n",
       "      <td>9</td>\n",
       "      <td>6</td>\n",
       "      <td>8</td>\n",
       "      <td>5</td>\n",
       "    </tr>\n",
       "    <tr>\n",
       "      <th>Togo</th>\n",
       "      <td>9</td>\n",
       "      <td>4</td>\n",
       "      <td>8</td>\n",
       "      <td>4</td>\n",
       "    </tr>\n",
       "    <tr>\n",
       "      <th>United Arab Emirates</th>\n",
       "      <td>9</td>\n",
       "      <td>0</td>\n",
       "      <td>4</td>\n",
       "      <td>4</td>\n",
       "    </tr>\n",
       "    <tr>\n",
       "      <th>Vanuatu</th>\n",
       "      <td>9</td>\n",
       "      <td>9</td>\n",
       "      <td>8</td>\n",
       "      <td>5</td>\n",
       "    </tr>\n",
       "  </tbody>\n",
       "</table>\n",
       "<p>153 rows × 4 columns</p>\n",
       "</div>"
      ],
      "text/plain": [
       "                        All indicators  Economic Indicators  \\\n",
       "Country                                                       \n",
       "Albania                              0                    6   \n",
       "Algeria                              0                    7   \n",
       "Armenia                              0                    1   \n",
       "Bosnia and Herzegovina               0                    1   \n",
       "Bulgaria                             0                    2   \n",
       "...                                ...                  ...   \n",
       "Sao Tome and Principe                9                    1   \n",
       "Solomon Islands                      9                    6   \n",
       "Togo                                 9                    4   \n",
       "United Arab Emirates                 9                    0   \n",
       "Vanuatu                              9                    9   \n",
       "\n",
       "                        Equality Indicators  Social-demographic Indicators  \n",
       "Country                                                                     \n",
       "Albania                                   4                              3  \n",
       "Algeria                                   6                              9  \n",
       "Armenia                                   8                              3  \n",
       "Bosnia and Herzegovina                    0                              3  \n",
       "Bulgaria                                  0                              3  \n",
       "...                                     ...                            ...  \n",
       "Sao Tome and Principe                     8                              5  \n",
       "Solomon Islands                           8                              5  \n",
       "Togo                                      8                              4  \n",
       "United Arab Emirates                      4                              4  \n",
       "Vanuatu                                   8                              5  \n",
       "\n",
       "[153 rows x 4 columns]"
      ]
     },
     "execution_count": 33,
     "metadata": {},
     "output_type": "execute_result"
    }
   ],
   "source": [
    "cluster_df"
   ]
  },
  {
   "cell_type": "code",
   "execution_count": 34,
   "metadata": {
    "extensions": {
     "jupyter_dashboards": {
      "version": 1,
      "views": {
       "default_view": {
        "hidden": true
       }
      }
     }
    }
   },
   "outputs": [],
   "source": [
    "class WidgetGlobalStatus:\n",
    "    def __init__(self):\n",
    "\n",
    "        self.mode = None #mode_list[0]\n",
    "        self.zone = None\n",
    "        self.ind = None\n",
    "        self.ind_group = None\n",
    "        self.df = pd.read_csv(output_path + file_gold, index_col = [col_country, col_year, col_region])\n",
    "        self.corr_df = pd.read_csv(output_path + file_corr_spearman, index_col = [col_country])\n",
    "        self.norm_df = pd.read_csv(output_path + file_norm_df, index_col = [col_country, col_region, col_year])\n",
    "        self.cluster_df = cluster_df\n",
    "        self.comp_df = None\n",
    "        self.ind_df = None\n",
    "        self.shift_df = None\n",
    "        self.data = None\n",
    "        self.years = None #range(min_year, max_year + 1)\n",
    "        self.shift = None #0\n",
    "        self.threshold = None\n",
    "        self.pval = None\n",
    "\n",
    "status_widget = WidgetGlobalStatus()"
   ]
  },
  {
   "cell_type": "code",
   "execution_count": 35,
   "metadata": {
    "extensions": {
     "jupyter_dashboards": {
      "version": 1,
      "views": {
       "default_view": {
        "hidden": true
       }
      }
     }
    }
   },
   "outputs": [],
   "source": [
    "def group_of(ind: str):     # NEEDS ACCESS TO IND_DICT AND A LIST OF ALL INDICATORS\n",
    "    for group in ind_dict.keys():\n",
    "        if (len(ind_dict[group]) < len(indicators_list)) and (ind in ind_dict[group]):\n",
    "            return group\n",
    "    return None\n",
    "    return [group if (ind in ind_dict[group]) else None for group in ind_dict.keys()]\n",
    "\n",
    "# FIND A GOOD WAY TO AVOID RETURNING THE ALL INDICATORS GROUP"
   ]
  },
  {
   "cell_type": "code",
   "execution_count": 36,
   "metadata": {
    "extensions": {
     "jupyter_dashboards": {
      "version": 1,
      "views": {
       "default_view": {
        "hidden": true
       }
      }
     }
    }
   },
   "outputs": [],
   "source": [
    "#plot_cluster_map_out = widgets.Output(layout={'border': '1px solid black'})\n",
    "plot_cluster_map_out = widgets.Output()\n",
    "table_cluster_out = widgets.Output(layout={'border': '1px solid black'})\n",
    "venn_group_out = widgets.Output(layout={'border': '1px solid black'})\n",
    "chart_shift_ind_out = widgets.Output(layout={'border': '1px solid black'})\n",
    "chart_shift_corr_out = widgets.Output(layout={'border': '1px solid black'})\n",
    "\n",
    "\n",
    "\n",
    "\n",
    "\n",
    "\n",
    "globe_corr_out = widgets.Output(layout={'border': '1px solid black'})\n",
    "table_max_corr_country_out = widgets.Output(layout={'border': '1px solid black'})\n",
    "time_window_out = widgets.Output(layout={'border': '1px solid black'})\n",
    "table_high_out = widgets.Output(layout={'border': '1px solid black'})\n",
    "plot_corr_ind_out = widgets.Output(layout={'border': '1px solid black'})"
   ]
  },
  {
   "cell_type": "markdown",
   "metadata": {
    "extensions": {
     "jupyter_dashboards": {
      "version": 1,
      "views": {
       "default_view": {
        "col": 0,
        "height": 6,
        "row": 121,
        "width": 12
       }
      }
     }
    }
   },
   "source": [
    "# CLUSTER MAP"
   ]
  },
  {
   "cell_type": "code",
   "execution_count": 37,
   "metadata": {
    "extensions": {
     "jupyter_dashboards": {
      "version": 1,
      "views": {
       "default_view": {
        "col": 0,
        "height": 5,
        "row": 151,
        "width": 12
       }
      }
     }
    }
   },
   "outputs": [
    {
     "data": {
      "application/vnd.jupyter.widget-view+json": {
       "model_id": "6f2fd1f836664eaca4836f7769bf4aeb",
       "version_major": 2,
       "version_minor": 0
      },
      "text/plain": [
       "Output()"
      ]
     },
     "metadata": {},
     "output_type": "display_data"
    }
   ],
   "source": [
    "plot_cluster_map_out"
   ]
  },
  {
   "cell_type": "markdown",
   "metadata": {
    "extensions": {
     "jupyter_dashboards": {
      "version": 1,
      "views": {
       "default_view": {
        "col": 0,
        "height": 2,
        "row": 156,
        "width": 12
       }
      }
     }
    }
   },
   "source": [
    "# CLUSTER TABLE"
   ]
  },
  {
   "cell_type": "code",
   "execution_count": 38,
   "metadata": {
    "extensions": {
     "jupyter_dashboards": {
      "version": 1,
      "views": {
       "default_view": {
        "col": 0,
        "height": 2,
        "row": 158,
        "width": 12
       }
      }
     }
    }
   },
   "outputs": [
    {
     "data": {
      "application/vnd.jupyter.widget-view+json": {
       "model_id": "65dae8054efd4436bb54bd6a704297e1",
       "version_major": 2,
       "version_minor": 0
      },
      "text/plain": [
       "Output(layout=Layout(border='1px solid black'))"
      ]
     },
     "metadata": {},
     "output_type": "display_data"
    }
   ],
   "source": [
    "table_cluster_out"
   ]
  },
  {
   "cell_type": "markdown",
   "metadata": {
    "extensions": {
     "jupyter_dashboards": {
      "version": 1,
      "views": {
       "default_view": {
        "col": 0,
        "height": 2,
        "row": 141,
        "width": 12
       }
      }
     }
    }
   },
   "source": [
    "# CLUSTER VENN DIAGRAM"
   ]
  },
  {
   "cell_type": "code",
   "execution_count": 39,
   "metadata": {
    "extensions": {
     "jupyter_dashboards": {
      "version": 1,
      "views": {
       "default_view": {
        "col": 0,
        "height": 14,
        "row": 85,
        "width": 5
       }
      }
     }
    }
   },
   "outputs": [
    {
     "data": {
      "application/vnd.jupyter.widget-view+json": {
       "model_id": "dbb36241fad449a0a940598168ccfd42",
       "version_major": 2,
       "version_minor": 0
      },
      "text/plain": [
       "Output(layout=Layout(border='1px solid black'))"
      ]
     },
     "metadata": {},
     "output_type": "display_data"
    }
   ],
   "source": [
    "venn_group_out"
   ]
  },
  {
   "cell_type": "markdown",
   "metadata": {
    "extensions": {
     "jupyter_dashboards": {
      "version": 1,
      "views": {
       "default_view": {
        "col": 0,
        "height": 2,
        "row": 160,
        "width": 12
       }
      }
     }
    }
   },
   "source": [
    "# CHART OF INDICATORS VALUES"
   ]
  },
  {
   "cell_type": "code",
   "execution_count": 40,
   "metadata": {
    "extensions": {
     "jupyter_dashboards": {
      "version": 1,
      "views": {
       "default_view": {
        "col": 5,
        "height": 12,
        "row": 62,
        "width": 4
       }
      }
     }
    }
   },
   "outputs": [
    {
     "data": {
      "application/vnd.jupyter.widget-view+json": {
       "model_id": "204c3dd90c5f4aaa9ead1c4294e8b2b8",
       "version_major": 2,
       "version_minor": 0
      },
      "text/plain": [
       "Output(layout=Layout(border='1px solid black'))"
      ]
     },
     "metadata": {},
     "output_type": "display_data"
    }
   ],
   "source": [
    "chart_shift_ind_out"
   ]
  },
  {
   "cell_type": "markdown",
   "metadata": {
    "extensions": {
     "jupyter_dashboards": {
      "version": 1,
      "views": {
       "default_view": {
        "col": 0,
        "height": 2,
        "row": 163,
        "width": 12
       }
      }
     }
    }
   },
   "source": [
    "# CHART OF INDICATORS CORRELATIONS"
   ]
  },
  {
   "cell_type": "code",
   "execution_count": 41,
   "metadata": {
    "extensions": {
     "jupyter_dashboards": {
      "version": 1,
      "views": {
       "default_view": {
        "col": 4,
        "height": 14,
        "row": 21,
        "width": 4
       }
      }
     }
    }
   },
   "outputs": [
    {
     "data": {
      "application/vnd.jupyter.widget-view+json": {
       "model_id": "e1357a10cda94bbb886302ed875e7e91",
       "version_major": 2,
       "version_minor": 0
      },
      "text/plain": [
       "Output(layout=Layout(border='1px solid black'))"
      ]
     },
     "metadata": {},
     "output_type": "display_data"
    }
   ],
   "source": [
    "chart_shift_corr_out"
   ]
  },
  {
   "cell_type": "code",
   "execution_count": 42,
   "metadata": {
    "extensions": {
     "jupyter_dashboards": {
      "version": 1,
      "views": {
       "default_view": {
        "col": 3,
        "height": 7,
        "row": 0,
        "width": 6
       }
      }
     }
    }
   },
   "outputs": [
    {
     "data": {
      "application/vnd.jupyter.widget-view+json": {
       "model_id": "d48197df18f94c93bd2fac9d1b55a3be",
       "version_major": 2,
       "version_minor": 0
      },
      "text/plain": [
       "Output(layout=Layout(border='1px solid black'))"
      ]
     },
     "metadata": {},
     "output_type": "display_data"
    }
   ],
   "source": [
    "globe_corr_out"
   ]
  },
  {
   "cell_type": "code",
   "execution_count": 43,
   "metadata": {
    "extensions": {
     "jupyter_dashboards": {
      "version": 1,
      "views": {
       "default_view": {
        "col": 0,
        "height": 8,
        "row": 165,
        "width": 12
       }
      }
     }
    }
   },
   "outputs": [
    {
     "data": {
      "application/vnd.jupyter.widget-view+json": {
       "model_id": "743bf8c9ef74423397ad9e7f2b551393",
       "version_major": 2,
       "version_minor": 0
      },
      "text/plain": [
       "Output(layout=Layout(border='1px solid black'))"
      ]
     },
     "metadata": {},
     "output_type": "display_data"
    }
   ],
   "source": [
    "table_max_corr_country_out"
   ]
  },
  {
   "cell_type": "code",
   "execution_count": 44,
   "metadata": {
    "extensions": {
     "jupyter_dashboards": {
      "version": 1,
      "views": {
       "default_view": {
        "col": 4,
        "height": 14,
        "row": 7,
        "width": 8
       }
      }
     }
    }
   },
   "outputs": [
    {
     "data": {
      "application/vnd.jupyter.widget-view+json": {
       "model_id": "90302c8f48ab48de8dd8731ac3dd1258",
       "version_major": 2,
       "version_minor": 0
      },
      "text/plain": [
       "Output(layout=Layout(border='1px solid black'))"
      ]
     },
     "metadata": {},
     "output_type": "display_data"
    }
   ],
   "source": [
    "time_window_out"
   ]
  },
  {
   "cell_type": "code",
   "execution_count": 45,
   "metadata": {
    "extensions": {
     "jupyter_dashboards": {
      "version": 1,
      "views": {
       "default_view": {
        "col": 5,
        "height": 10,
        "row": 39,
        "width": 7
       }
      }
     }
    }
   },
   "outputs": [
    {
     "data": {
      "application/vnd.jupyter.widget-view+json": {
       "model_id": "5c902bce402246f080485ece66d22e50",
       "version_major": 2,
       "version_minor": 0
      },
      "text/plain": [
       "Output(layout=Layout(border='1px solid black'))"
      ]
     },
     "metadata": {},
     "output_type": "display_data"
    }
   ],
   "source": [
    "table_high_out"
   ]
  },
  {
   "cell_type": "code",
   "execution_count": 46,
   "metadata": {
    "extensions": {
     "jupyter_dashboards": {
      "version": 1,
      "views": {
       "default_view": {
        "col": 0,
        "height": 14,
        "row": 7,
        "width": 4
       }
      }
     }
    }
   },
   "outputs": [
    {
     "data": {
      "application/vnd.jupyter.widget-view+json": {
       "model_id": "4115beaf81f94a27b5a090bf4a5d825c",
       "version_major": 2,
       "version_minor": 0
      },
      "text/plain": [
       "Output(layout=Layout(border='1px solid black'))"
      ]
     },
     "metadata": {},
     "output_type": "display_data"
    }
   ],
   "source": [
    "plot_corr_ind_out"
   ]
  },
  {
   "cell_type": "code",
   "execution_count": 47,
   "metadata": {
    "extensions": {
     "jupyter_dashboards": {
      "version": 1,
      "views": {
       "default_view": {
        "hidden": true
       }
      }
     }
    }
   },
   "outputs": [],
   "source": [
    "@plot_cluster_map_out.capture(clear_output=True, wait=True)\n",
    "def plot_cluster_map (df: pd.DataFrame, group_name: str = 'All indicators', *, col_1comp: str = '1st_component', col_2comp: str = '2nd_component'):\n",
    "    if df is None: return None\n",
    "    fig = px.scatter(df, x = col_1comp, y = col_2comp, text = df.index, size_max=100, color=col_cluster, category_orders={col_cluster: np.sort(df.loc[:, col_cluster].unique())})\n",
    "    fig.update_layout(title_text = group_name, title_x=0.5)\n",
    "    fig.update_traces(textposition = 'top center')\n",
    "    fig.show()\n",
    "\n",
    "@table_cluster_out.capture(clear_output=True, wait=True)\n",
    "def table_cluster (df: pd.DataFrame, group_name: str = 'All indicators', country: str = '', cluster_number: int = 0):\n",
    "    if df is None: return None\n",
    "    try:\n",
    "        df_s = df.style\n",
    "        df_s.apply_index(lambda i: ['background-color: #aadfff; font-weight: 500' if c == country else '' for c in i], axis = 0)\n",
    "        df_s.apply(lambda row: ['background-color: #ccebff;' if row.name == country else '' for cell in row], axis = 1)\n",
    "        df_s.set_table_styles([{'selector': 'td:hover', 'props': [('background-color', '#ddfdff')]}])\n",
    "        tt = {}\n",
    "        for col in df.columns:\n",
    "            tt[col] = 'Column median: ' + str(df.loc[:, col].median())\n",
    "        df_s.set_tooltips(pd.DataFrame(tt, index = df.index))\n",
    "\n",
    "        # Display a short descriptive title and the Dataframe.\n",
    "        display(country + ' belongs to Cluster ' + str(cluster_number) + '. This Cluster contains a total of ' + str(df.shape[0]) + ' countries.')\n",
    "        display(df_s)\n",
    "    except Exception:\n",
    "        return print('No indicators available for this country.')\n",
    "\n",
    "@venn_group_out.capture(clear_output=True, wait=True)\n",
    "def venn_group(cluster_df, country):\n",
    "    try:\n",
    "        _, econ_ind, eq_ind, socdem_ind = ind_dict.keys()       # NON ROBUST STATEMENT\n",
    "        _, set_econ, set_eq, set_socdem = (set(cluster_df.loc[lambda df: df[ind] == df.loc[country, ind], ind].index.to_list()) for ind in ind_dict.keys())\n",
    "        venn = venn3([set_econ, set_socdem, set_eq], (econ_ind, socdem_ind, eq_ind))\n",
    "\n",
    "        venn.get_label_by_id('100').set_text('\\n'.join(set_econ - set_socdem - set_eq)) # Only econ\n",
    "        venn.get_label_by_id('010').set_text('\\n'.join(set_socdem - set_econ - set_eq)) # Only socdem\n",
    "        venn.get_label_by_id('001').set_text('\\n'.join(set_eq - set_econ - set_socdem)) # Only eq\n",
    "\n",
    "        # The three pair-intersections is guaranteed only if there is an intersection of the three groups.\n",
    "        if len(set_econ & set_socdem & set_eq):\n",
    "            venn.get_label_by_id('111').set_text('\\n'.join(set_econ & set_socdem & set_eq))\n",
    "            venn.get_label_by_id('110').set_text('\\n'.join(set_econ & set_socdem - set_eq))\n",
    "            venn.get_label_by_id('101').set_text('\\n'.join(set_econ & set_eq - set_socdem))\n",
    "            venn.get_label_by_id('011').set_text('\\n'.join(set_socdem & set_eq - set_econ))\n",
    "        else:\n",
    "            # If no center, check the intersections that do exist.\n",
    "            if len(set_econ & set_socdem - set_eq):\n",
    "                venn.get_label_by_id('110').set_text('\\n'.join(set_econ & set_socdem - set_eq))\n",
    "            if len(set_econ & set_eq - set_socdem):\n",
    "                venn.get_label_by_id('101').set_text('\\n'.join(set_econ & set_eq - set_socdem))\n",
    "            if len(set_socdem & set_eq - set_econ):\n",
    "                venn.get_label_by_id('011').set_text('\\n'.join(set_socdem & set_eq - set_econ))\n",
    "\n",
    "        plt.rcParams[\"figure.figsize\"] = (12, 12)\n",
    "        plt.show()\n",
    "\n",
    "    except:\n",
    "        return print('No indicators available for this country.')\n",
    "\n",
    "@chart_shift_ind_out.capture(clear_output=True, wait=True)\n",
    "def chart_shift_ind(norm_df, mode, zone, indicator, shift):\n",
    "    data_s = norm_df.loc[norm_df.index.get_level_values(mode) == zone, [col_gdp, indicator]].groupby(level = col_year).median()\n",
    "\n",
    "    min_year_gdp = min_year + max(shift, 0)\n",
    "    max_year_gdp = max_year + min(shift, 0)\n",
    "\n",
    "    min_year_ind = min_year - min(shift, 0)\n",
    "    max_year_ind = max_year - max(shift, 0)\n",
    "\n",
    "    norm_gdp = norm(data_s.loc[min_year_gdp : max_year_gdp, [col_gdp]], None)\n",
    "    norm_ind = norm(data_s.loc[min_year_ind : max_year_ind, [indicator]], None)\n",
    "\n",
    "    plt.figure(figsize = (8,8))\n",
    "    plt.plot(\n",
    "                #norm_gdp.index.get_level_values(col_year),\n",
    "                norm_gdp.reset_index(drop = True),\n",
    "                color = \"red\", label = col_gdp)\n",
    "    plt.plot(\n",
    "                #norm_ind.index.get_level_values(col_year),\n",
    "                norm_ind.reset_index(drop = True),\n",
    "                color = \"green\", label = indicator)\n",
    "    plt.legend(loc = \"lower right\")\n",
    "    plt.show()\n",
    "\n",
    "@chart_shift_corr_out.capture(clear_output=True, wait=True)\n",
    "def chart_shift_corr(mode, zone, indicator):\n",
    "    print(output_path)\n",
    "    df_m = pd.read_csv(output_path + 'Shifted_Corr_' + mode + '.csv', index_col = [mode, col_shift])\n",
    "    df_s = df_m.loc[df_m.index.get_level_values(mode) == zone, indicator]\n",
    "\n",
    "    plt.figure(figsize = (8,8))\n",
    "    plt.plot(\n",
    "                df_s.index.get_level_values(col_shift),\n",
    "                df_s.reset_index(drop = True),\n",
    "                color = \"green\", label = indicator)\n",
    "    plt.legend(loc = \"lower right\")\n",
    "    plt.show()\n"
   ]
  },
  {
   "cell_type": "code",
   "execution_count": 48,
   "metadata": {
    "extensions": {
     "jupyter_dashboards": {
      "version": 1,
      "views": {
       "default_view": {
        "hidden": true
       }
      }
     }
    }
   },
   "outputs": [],
   "source": [
    "import itertools\n",
    "from scipy import stats\n",
    "\n",
    "def styler_method(df, name, pvalue = None):    \n",
    "        if pvalue == None:\n",
    "                pvalue = 0.05\n",
    "    #try:\n",
    "        styles = [dict(selector=\"caption\", props=[(\"background-color\", \"#98D3FF\")])]\n",
    "        left1 = pd.Series([pvalue], index=['P-value Spearman'])\n",
    "        left2 = pd.Series([-1], index=['GDP Spearman Corr'])\n",
    "        left3 = pd.Series([0], index=['GDP Spearman Corr'])\n",
    "        dfs = df.style.highlight_between(left = left1, right = 1.5, axis = 1, props='color:white; background-color:red;')\\\n",
    "                .highlight_between(left = left2, right = 1.5, axis = 1, props='color:white; background-color:#929bfc;')\\\n",
    "                .highlight_between(left = left3, right = 1.5, axis = 1, props='color:white; background-color:#b3b9ff;')\\\n",
    "                .format('{:,.4f}', subset = ['GDP Spearman Corr'])\\\n",
    "                .format('{:,.12f}', subset = ['P-value Spearman']) \\\n",
    "                .set_caption(name).set_table_styles(styles)\\\n",
    "                .set_table_attributes(\"style='display:inline'\")\n",
    "    #except:\n",
    "    #    dfs = 'No indicators have been found for the window dataframe in this range.'\n",
    "        \n",
    "        return dfs\n",
    "\n",
    "def init_highest_table(indicators):    \n",
    "    df_highest = pd.DataFrame(columns={\"Indicator\"})\n",
    "    df_highest[\"Indicator\"] = indicators\n",
    "    df_highest[\"Year range\"] = 0\n",
    "    df_highest[\"Highest positive Spearman corr\"] = 0\n",
    "    df_highest[\"Year range \"] = 0\n",
    "    df_highest[\"Highest negative Spearman corr\"] = 0\n",
    "    df_highest.set_index(\"Indicator\", inplace= True)\n",
    "\n",
    "    return df_highest\n",
    "\n",
    "def generate_years_combinations(min_diff: int, min, max):\n",
    "    iterable = list(range(min, max + 1))\n",
    "    iterable = list(itertools.combinations(iterable, 2))\n",
    "\n",
    "    #The year length must be higher than 5. All entries with a lower range are deleted.\n",
    "    for years in iterable.copy():\n",
    "        if (years[1] - years[0]) < min_diff:\n",
    "            iterable.remove(years)\n",
    "    return iterable"
   ]
  },
  {
   "cell_type": "code",
   "execution_count": 49,
   "metadata": {
    "extensions": {
     "jupyter_dashboards": {
      "version": 1,
      "views": {
       "default_view": {
        "hidden": true
       }
      }
     }
    }
   },
   "outputs": [],
   "source": [
    "@globe_corr_out.capture(clear_output=True, wait=True)\n",
    "def globe_corr(df_corr, ind):\n",
    "    N = 10\n",
    "    fig = px.choropleth(df_corr, locations = df_corr.index, locationmode='country names', \n",
    "                        color = ind, projection=\"natural earth\",\n",
    "                        color_continuous_scale='RdBu',\n",
    "                        width = 700, height=500)\n",
    "\n",
    "    pos_corr = df_corr.drop(df_corr.columns.difference([ind]), axis = 1).sort_values(by = ind, axis = 0, ascending = False).head(n = N)\n",
    "    neg_corr = df_corr.drop(df_corr.columns.difference([ind]), axis = 1).sort_values(by = ind, axis = 0, ascending = True).head(n = N)\n",
    "\n",
    "    pos_corr = pos_corr.loc[pos_corr[ind] > 0]\n",
    "    neg_corr = neg_corr.loc[neg_corr[ind] < 0]\n",
    "\n",
    "\n",
    "    fig.update(layout_coloraxis_showscale=True)\n",
    "    fig.show()\n",
    "\"\"\"     \n",
    "    pos_styler = pos_corr.style.set_table_attributes(\"style='display:inline'\").set_caption('Direct correlation')\n",
    "    neg_styler = neg_corr.style.set_table_attributes(\"style='display:inline'\").set_caption('Inverse correlation')\n",
    "\n",
    "    space = \"\\xa0\" * 10\n",
    "    display_html(pos_styler._repr_html_() + space  + neg_styler._repr_html_(), raw=True) \"\"\"\n",
    "\n",
    "# DELETEEEEEEE\n",
    "# INCOMPLETE: REGION\n",
    "@table_max_corr_country_out.capture(clear_output=True, wait=True)\n",
    "def table_max_corr_country(mode, zone, threshold, pval):\n",
    "    if mode == 'Region' and zone == 'Afghanistan': return None # CHANGE THIS FOR CHRIST SAKE\n",
    "    print(mode, zone, threshold, pval)    \n",
    "    df = search(threshold, mode, zone)\n",
    "    # display(df)\n",
    "    if df.empty:\n",
    "        return print(\"No indicators have been found.\")\n",
    "    #df.reset_index()\n",
    "    left1 = pd.Series([pval, pval], index=['P-value Pearson', 'P-value Spearman'])\n",
    "    left2 = pd.Series([-1, -1], index=['GDP Pearson Corr', 'GDP Spearman Corr'])\n",
    "    left3 = pd.Series([0, 0], index=['GDP Pearson Corr', 'GDP Spearman Corr'])\n",
    "    df = df.style.highlight_between(left = left1, right = 1.5, axis = 1, props='color:white; background-color:red;')\\\n",
    "                 .highlight_between(left = left2, right = 1.5, axis = 1, props='color:white; background-color:#929bfc;')\\\n",
    "                 .highlight_between(left = left3, right = 1.5, axis = 1, props='color:white; background-color:#b3b9ff;')\\\n",
    "                 .format('{:,.4f}', subset = ['GDP Pearson Corr', 'GDP Spearman Corr'])\\\n",
    "                 .format('{:,.12f}', subset = ['P-value Pearson', 'P-value Spearman']) \n",
    "    \n",
    "    display(df)\n",
    "\n",
    "@time_window_out.capture(clear_output=True, wait=True)\n",
    "def time_window(df, mode, zone, years, threshold, pval):\n",
    "    df_zone = df.loc[df.index.get_level_values(mode) == zone]\n",
    "    #Load the selected year range and the global range.\n",
    "    df_time = searchTimeSeries(threshold, years[0], years[1], True, df_zone)\n",
    "    df_global = searchTimeSeries(threshold, years[0], years[1], False, df_zone)\n",
    "\n",
    "    # Display Data\n",
    "    if years[0] > years[1]: return print(\"Please, select a valid range of years.\")\n",
    " \n",
    "    space = \"\\xa0\" * 10\n",
    "    try:\n",
    "        df_time = styler_method(df_time, str(years[0]) + '-' + str(years[1]), pval)._repr_html_()\n",
    "    except Exception as e: \n",
    "        df_time = 'No indicators available for the selected parameters'\n",
    "    \n",
    "    try:\n",
    "        df_global = styler_method(df_global, '2000-2020', pval)._repr_html_()\n",
    "    except: \n",
    "        df_global = 'No indicators available for the selected parameters'\n",
    "    \n",
    "    display_html(df_time + space  + df_global, raw=True)\n",
    "\n",
    "@table_high_out.capture(clear_output=True, wait=True)\n",
    "def table_high(mode, zone, pval):\n",
    "    if mode == 'Country':\n",
    "        min_diff = 5\n",
    "        \n",
    "    elif mode == 'Region':\n",
    "        min_diff = 2\n",
    "    \n",
    "    df_zone = df.loc[df.index.get_level_values(mode) == zone] #.drop(columns = 'GDP')\n",
    "    indicators = df.columns\n",
    "    df_highest = init_highest_table(indicators)\n",
    "\n",
    "    i = 0\n",
    "    computing_text = \"Loading \"\n",
    "    print(computing_text, end=\"\\r\")\n",
    "    \n",
    "    #For all the combination of years...\n",
    "    for years in generate_years_combinations(min_diff, min_year, max_year):\n",
    "        i = (i + 1) % 50\n",
    "        print (computing_text + \"\".join([\".\" for _ in range(i)]), end=\"\\r\")\n",
    "        \n",
    "        df_aux = searchTimeSeries(0, years[0], years[1], True, df_zone)\n",
    "        #Delete indicators which are not available that year\n",
    "        indicators_inter = list(set(indicators) & set(list(df_aux.index)))\n",
    "\n",
    "        #For all the indicators availble that year....\n",
    "        for indicator in indicators_inter:\n",
    "            #Algorithm to search for the highest value\n",
    "            indicator_corr_pos_last = df_highest[df_highest.index.get_level_values(0) == indicator][\"Highest positive Spearman corr\"][0]\n",
    "            indicator_corr_neg_last = df_highest[df_highest.index.get_level_values(0) == indicator][\"Highest negative Spearman corr\"][0]\n",
    "            \n",
    "          \n",
    "            indicator_corr_aux = df_aux[df_aux.index.get_level_values(0) == indicator][\"GDP Spearman Corr\"][0]\n",
    "            indicator_p_value_aux = df_aux[df_aux.index.get_level_values(0) == indicator][\"P-value Spearman\"][0]\n",
    "\n",
    "            if indicator_corr_aux != np.NaN and indicator_p_value_aux < pval:\n",
    "                if indicator_corr_pos_last < indicator_corr_aux and indicator_corr_aux > 0:\n",
    "                    df_highest.at[indicator, \"Year range\"] = str(years[0]) + '-' + str(years[1])\n",
    "                    df_highest.at[indicator, \"Highest positive Spearman corr\"] = indicator_corr_aux\n",
    "                elif indicator_corr_neg_last > indicator_corr_aux and indicator_corr_aux < 0:\n",
    "                    df_highest.at[indicator, \"Year range \"] = str(years[0]) + '-' + str(years[1])\n",
    "                    df_highest.at[indicator, \"Highest negative Spearman corr\"] = indicator_corr_aux\n",
    "\n",
    "    df_highest = df_highest.replace(0, np.NaN).dropna(axis=0, how='all').fillna(\"-\")\n",
    "    \n",
    "    print(\"                                                                                    \", end=\"\\r\")\n",
    "    display(df_highest)\n",
    "\n",
    "@plot_corr_ind_out.capture(clear_output=True, wait=True)\n",
    "def plot_corr_ind(mode, zone, indicator: str, years: tuple):\n",
    "    df_zone = df.loc[df.index.get_level_values(mode) == zone] \n",
    "    df_zone = get_years(df_zone, years)\n",
    "    spear = stats.spearmanr(df_zone[indicator], df_zone['GDP'])\n",
    "    df_zone = norm(df_zone, level = mode)\n",
    "\n",
    "    #In case if by is region it groups by year.\n",
    "    df_zone = df_zone.loc[:,['GDP', indicator]].groupby(level = 'Year').median()\n",
    "\n",
    "    print(spear)\n",
    "    plt.figure(figsize=(6,6))\n",
    "    plt.plot(df_zone.index.get_level_values(\"Year\"), df_zone[\"GDP\"], color=\"red\", label = 'GDP')\n",
    "    plt.plot(df_zone.index.get_level_values(\"Year\"), df_zone[indicator], color=\"green\", label = indicator)\n",
    "    plt.legend(loc=\"lower right\")\n",
    "    plt.show()\n"
   ]
  },
  {
   "cell_type": "markdown",
   "metadata": {
    "extensions": {
     "jupyter_dashboards": {
      "version": 1,
      "views": {
       "default_view": {
        "col": 0,
        "height": 2,
        "row": 173,
        "width": 12
       }
      }
     }
    }
   },
   "source": [
    "# WIDGETS"
   ]
  },
  {
   "cell_type": "code",
   "execution_count": 50,
   "metadata": {
    "extensions": {
     "jupyter_dashboards": {
      "version": 1,
      "views": {
       "default_view": {
        "hidden": true
       }
      }
     }
    }
   },
   "outputs": [],
   "source": [
    "dropdown_mode = widgets.Dropdown(\n",
    "    options = mode_list,\n",
    "    description = 'Select: '\n",
    ")\n",
    "\n",
    "dropdown_zone = widgets.Dropdown(\n",
    "    options = mode_dict[dropdown_mode.value],\n",
    "    description = 'Show: '\n",
    ")\n",
    "\n",
    "dropdown_ind = widgets.Dropdown(\n",
    "    options = indicators_list,\n",
    "    description = 'Indicator: '\n",
    ")\n",
    "\n",
    "intslider_years = widgets.IntRangeSlider(\n",
    "    value = [min_year, max_year],\n",
    "    min = min_year,\n",
    "    max = max_year,\n",
    "    step = 1,\n",
    "    description = 'Years: ',\n",
    ")\n",
    "\n",
    "intslider_shift = widgets.IntSlider(\n",
    "    value = 0,\n",
    "    min = min_year - max_year + 1,\n",
    "    max = max_year - min_year - 1,\n",
    "    step = 1,\n",
    "    description = 'Shifts: '\n",
    ")\n",
    "\n",
    "floatslider_threshold = widgets.FloatSlider(\n",
    "    value = 0.7,\n",
    "    min = 0.0,\n",
    "    max = 1.0,\n",
    "    step = 0.05,\n",
    "    description = 'Threshold: '\n",
    ")\n",
    "\n",
    "floatslider_confidence = widgets.FloatSlider(\n",
    "    value = 0.95,\n",
    "    min = 0.0,\n",
    "    max = 1.0,\n",
    "    step = 0.05,\n",
    "    description = 'Confidence: '\n",
    ")"
   ]
  },
  {
   "cell_type": "code",
   "execution_count": 51,
   "metadata": {
    "extensions": {
     "jupyter_dashboards": {
      "version": 1,
      "views": {
       "default_view": {
        "col": 0,
        "height": 7,
        "row": 0,
        "width": 3
       }
      }
     }
    },
    "scrolled": false
   },
   "outputs": [
    {
     "data": {
      "application/vnd.jupyter.widget-view+json": {
       "model_id": "24aa37e58c604fbfb5802812d8647363",
       "version_major": 2,
       "version_minor": 0
      },
      "text/plain": [
       "interactive(children=(Dropdown(description='Select: ', options=('Country', 'Region'), value='Country'), Dropdo…"
      ]
     },
     "metadata": {},
     "output_type": "display_data"
    },
    {
     "name": "stdout",
     "output_type": "stream",
     "text": [
      "\n"
     ]
    }
   ],
   "source": [
    "def updatePlots(mode, zone, ind, years, shift, threshold, confidence):\n",
    "    if ind != status_widget.ind:\n",
    "        if mode == 'Region':\n",
    "            status_widget.ind = None\n",
    "            status_widget.ind_group = None\n",
    "        else:\n",
    "            status_widget.ind = ind\n",
    "            group = group_of(ind)\n",
    "            if status_widget.ind_group != group: status_widget.ind_group = group\n",
    "    if mode != status_widget.mode:\n",
    "        \"\"\" dropdown_zone.options = mode_dict[mode]\n",
    "        status_widget.mode = mode\n",
    "        data = None \"\"\"\n",
    "        status_widget.mode = 'Country'\n",
    "    \n",
    "    if zone != status_widget.zone:\n",
    "        if mode == col_country:\n",
    "            #print(status_widget.ind_group)\n",
    "            #display(comp_dict[status_widget.ind_group])\n",
    "            status_widget.comp_df = comp_dict[status_widget.ind_group].reset_index(col_cluster, drop = False)\n",
    "        data = None\n",
    "        status_widget.zone = zone\n",
    "\n",
    "    if status_widget.years is None:\n",
    "        status_widget.years = years\n",
    "\n",
    "    if years[0] != status_widget.years[0]:\n",
    "        status_widget.years[0]\n",
    "    \n",
    "    if years[1] != status_widget.years[1]:\n",
    "        status_widget.years[1]\n",
    "\n",
    "    if shift != status_widget.shift:\n",
    "        status_widget.shift = shift\n",
    "    \n",
    "    if threshold != status_widget.threshold:\n",
    "        status_widget.threshold = threshold\n",
    "    \n",
    "    if (1 - confidence) != status_widget.pval:\n",
    "        status_widget.pval = (1 - confidence)\n",
    "    \n",
    "    cluster_number = cluster_dict[status_widget.ind_group].loc[cluster_dict[status_widget.ind_group].index == status_widget.zone, col_cluster].item()\n",
    "    df_ind = cluster_dict[status_widget.ind_group]\n",
    "    status_widget.ind_df = df_ind.loc[df_ind[col_cluster] == cluster_number].drop(col_cluster, axis = 'columns')\n",
    "\n",
    "    plot_cluster_map (status_widget.comp_df)\n",
    "    table_cluster (status_widget.ind_df, status_widget.ind_group, status_widget.zone)\n",
    "    venn_group (status_widget.cluster_df, status_widget.zone)\n",
    "\n",
    "    chart_shift_ind(status_widget.norm_df, status_widget.mode, status_widget.zone, status_widget.ind, status_widget.shift)\n",
    "    chart_shift_corr(status_widget.mode, status_widget.zone, status_widget.ind)\n",
    "\n",
    "    globe_corr(status_widget.corr_df, status_widget.ind)\n",
    "    table_max_corr_country(status_widget.mode, status_widget.zone, status_widget.threshold, status_widget.pval)\n",
    "    time_window(status_widget.df, status_widget.mode, status_widget.zone, status_widget.years, status_widget.threshold, status_widget.pval)\n",
    "    table_high(status_widget.mode, status_widget.zone, status_widget.pval)\n",
    "    plot_corr_ind(status_widget.mode, status_widget.zone, status_widget.ind, status_widget.years)\n",
    "\n",
    "widgets.interact(updatePlots, mode = dropdown_mode, zone = dropdown_zone, ind = dropdown_ind,\n",
    "                 years = intslider_years, shift = intslider_shift, threshold = floatslider_threshold, confidence = floatslider_confidence)\n",
    "print()"
   ]
  },
  {
   "cell_type": "code",
   "execution_count": null,
   "metadata": {
    "extensions": {
     "jupyter_dashboards": {
      "version": 1,
      "views": {
       "default_view": {
        "hidden": true
       }
      }
     }
    }
   },
   "outputs": [],
   "source": []
  }
 ],
 "metadata": {
  "extensions": {
   "jupyter_dashboards": {
    "activeView": "default_view",
    "version": 1,
    "views": {
     "default_view": {
      "cellMargin": 10,
      "defaultCellHeight": 40,
      "maxColumns": 12,
      "name": "active_view",
      "type": "grid"
     }
    }
   }
  },
  "kernelspec": {
   "display_name": "Python 3 (ipykernel)",
   "language": "python",
   "name": "python3"
  },
  "language_info": {
   "codemirror_mode": {
    "name": "ipython",
    "version": 3
   },
   "file_extension": ".py",
   "mimetype": "text/x-python",
   "name": "python",
   "nbconvert_exporter": "python",
   "pygments_lexer": "ipython3",
   "version": "3.10.5"
  },
  "vscode": {
   "interpreter": {
    "hash": "6044c39f3fa8d69f78786198aef61ed0dc3fdd7ddd5a88c111ee27e3b3325eb4"
   }
  }
 },
 "nbformat": 4,
 "nbformat_minor": 2
}
