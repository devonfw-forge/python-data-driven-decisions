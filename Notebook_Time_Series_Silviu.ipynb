{
 "cells": [
  {
   "cell_type": "code",
   "execution_count": 13,
   "metadata": {},
   "outputs": [
    {
     "ename": "NameError",
     "evalue": "name 'col_country' is not defined",
     "output_type": "error",
     "traceback": [
      "\u001b[1;31m---------------------------------------------------------------------------\u001b[0m",
      "\u001b[1;31mNameError\u001b[0m                                 Traceback (most recent call last)",
      "\u001b[1;32mc:\\Users\\smanoles\\Documents\\GitHub\\python-data-driven-decisions\\Notebook_Time_Series_Silviu.ipynb Cell 1\u001b[0m in \u001b[0;36m<cell line: 17>\u001b[1;34m()\u001b[0m\n\u001b[0;32m     <a href='vscode-notebook-cell:/c%3A/Users/smanoles/Documents/GitHub/python-data-driven-decisions/Notebook_Time_Series_Silviu.ipynb#W0sZmlsZQ%3D%3D?line=13'>14</a>\u001b[0m output_path \u001b[39m=\u001b[39m os\u001b[39m.\u001b[39mgetcwd() \u001b[39m+\u001b[39m \u001b[39m'\u001b[39m\u001b[39m/Output/\u001b[39m\u001b[39m'\u001b[39m\n\u001b[0;32m     <a href='vscode-notebook-cell:/c%3A/Users/smanoles/Documents/GitHub/python-data-driven-decisions/Notebook_Time_Series_Silviu.ipynb#W0sZmlsZQ%3D%3D?line=15'>16</a>\u001b[0m df \u001b[39m=\u001b[39m pd\u001b[39m.\u001b[39mread_csv(output_path \u001b[39m+\u001b[39m \u001b[39m'\u001b[39m\u001b[39mGoldDataframe.csv\u001b[39m\u001b[39m'\u001b[39m)\n\u001b[1;32m---> <a href='vscode-notebook-cell:/c%3A/Users/smanoles/Documents/GitHub/python-data-driven-decisions/Notebook_Time_Series_Silviu.ipynb#W0sZmlsZQ%3D%3D?line=16'>17</a>\u001b[0m corr_df_spearman \u001b[39m=\u001b[39m pd\u001b[39m.\u001b[39mread_csv(output_path \u001b[39m+\u001b[39m \u001b[39m'\u001b[39m\u001b[39mCorr_DF_pearson.csv\u001b[39m\u001b[39m'\u001b[39m, index_col \u001b[39m=\u001b[39m col_country)\n",
      "\u001b[1;31mNameError\u001b[0m: name 'col_country' is not defined"
     ]
    }
   ],
   "source": [
    "import os\n",
    "import pandas as pd\n",
    "import ipywidgets as widgets\n",
    "from ipywidgets import Layout\n",
    "from ipywidgets import AppLayout, Button, GridspecLayout\n",
    "from ipywidgets import interact, interact_manual\n",
    "from IPython.display import display_html\n",
    "import itertools\n",
    "%store -r PVALUE_VAR\n",
    "\n",
    "from Project.Utils.visualize import  search, searchTimeSeries\n",
    "\n",
    "write_path = os.getcwd() + '/Output' #Path to the folder you want to store the dataframes\n",
    "output_path = os.getcwd() + '/Output/'\n",
    "\n",
    "df = pd.read_csv(output_path + 'GoldDataframe.csv')\n",
    "corr_df_spearman = pd.read_csv(output_path + 'Corr_DF_pearson.csv', index_col = col_country)\n",
    "\n"
   ]
  },
  {
   "cell_type": "code",
   "execution_count": 2,
   "metadata": {},
   "outputs": [],
   "source": [
    "def styler_method(df, name):    \n",
    "    try:\n",
    "            styles = [dict(selector=\"caption\", props=[(\"background-color\", \"#98D3FF\")])]\n",
    "            left1 = pd.Series([PVALUE_VAR], index=['P-value Spearman'])\n",
    "            left2 = pd.Series([-1], index=['GDP Spearman Corr'])\n",
    "            left3 = pd.Series([0], index=['GDP Spearman Corr'])\n",
    "            dfs = df.style.highlight_between(left = left1, right = 1.5, axis = 1, props='color:white; background-color:red;')\\\n",
    "                        .highlight_between(left = left2, right = 1.5, axis = 1, props='color:white; background-color:#929bfc;')\\\n",
    "                        .highlight_between(left = left3, right = 1.5, axis = 1, props='color:white; background-color:#b3b9ff;')\\\n",
    "                        .format('{:,.4f}', subset = ['GDP Spearman Corr'])\\\n",
    "                        .format('{:,.12f}', subset = ['P-value Spearman']) \\\n",
    "                        .set_caption(name).set_table_styles(styles)\\\n",
    "                        .set_table_attributes(\"style='display:inline'\")\n",
    "    except:\n",
    "        dfs = 'No indicators have been found for the window dataframe in this range.'\n",
    "        \n",
    "    return dfs"
   ]
  },
  {
   "cell_type": "code",
   "execution_count": 3,
   "metadata": {},
   "outputs": [
    {
     "data": {
      "application/vnd.jupyter.widget-view+json": {
       "model_id": "629893873e82418ba41be5737bf665bf",
       "version_major": 2,
       "version_minor": 0
      },
      "text/plain": [
       "interactive(children=(Dropdown(description='Country:', options=('Afghanistan', 'Albania', 'Algeria', 'Angola',…"
      ]
     },
     "metadata": {},
     "output_type": "display_data"
    },
    {
     "data": {
      "text/plain": [
       "<function __main__.timeWindow(Zone, Threshold, Years)>"
      ]
     },
     "execution_count": 3,
     "metadata": {},
     "output_type": "execute_result"
    }
   ],
   "source": [
    "def timeWindow(Zone, Threshold , Years):    \n",
    "    df_time = searchTimeSeries(Threshold, Years[0], Years[1], True, 'Country', Zone )\n",
    "    df_global = searchTimeSeries(Threshold, Years[0], Years[1], False, 'Country', Zone )\n",
    "\n",
    "\n",
    "    if Years[0] > Years[1]: return print(\"Please, select a valid range of years.\")\n",
    "\n",
    "    dataframe_name =  str(Years[0]) + '-' + str(Years[1])\n",
    "    \n",
    "    space = \"\\xa0\" * 10\n",
    "    try:\n",
    "        df_time = styler_method(df_time, dataframe_name)._repr_html_()\n",
    "    except: \n",
    "        df_time = 'No indicators available for the selected parameters'\n",
    "    \n",
    "    try:\n",
    "        df_global = styler_method(df_global, '2000-2020')._repr_html_()\n",
    "    except: \n",
    "        df_global = 'No indicators available for the selected parameters'\n",
    "    display_html(df_time + space  + df_global, raw=True)\n",
    "    \n",
    "intslider = widgets.IntRangeSlider(\n",
    "    value=[min(set(df['Year'])), max(set(df['Year']))],\n",
    "    min= min(set(df['Year'])),\n",
    "    max= max(set(df['Year'])),\n",
    "    step=1,\n",
    "    description='Years:',\n",
    ")\n",
    "\n",
    "country_drop = widgets.Dropdown(\n",
    "    options=sorted(set(df['Country'].tolist())),\n",
    "    value='Afghanistan',\n",
    "    description='Country:',\n",
    ")\n",
    "\n",
    "floatslider = widgets.FloatSlider(\n",
    "    value=0.7,\n",
    "    min=0,\n",
    "    max=1.0,\n",
    "    step=0.05,\n",
    "    description='Threshold:',\n",
    ")\n",
    "\n",
    "widgets.interact(timeWindow, Zone = country_drop, Threshold = floatslider, Years = intslider)"
   ]
  },
  {
   "cell_type": "code",
   "execution_count": null,
   "metadata": {},
   "outputs": [],
   "source": [
    "median_corr_df_pearson = pd.merge(corr_df_pearson, region_df, how = 'inner', left_index = True, right_index = True).median().rename('GDP Pearson Corr')\n",
    "median_corr_df_spearman = pd.merge(corr_df_spearman, region_df, how = 'inner', left_index = True, right_index = True).median().rename('GDP Spearman Corr')\n",
    "\n",
    "def tableWorldMed(Threshold):\n",
    "    df = pd.concat([median_corr_df_pearson, median_corr_df_spearman], axis = 1)\n",
    "    df = df.loc[(abs(df['GDP Pearson Corr']) >= Threshold) & (abs(df['GDP Spearman Corr']) >= Threshold)]\n",
    "\n",
    "    if df.empty:\n",
    "        return print(\"No indicators have been found.\")\n",
    "\n",
    "    df = df.sort_values(by = df.columns[0], ascending = False, key = lambda row: df.sum(axis = 1))\n",
    "\n",
    "    left1 = pd.Series([-1, -1], index = ['GDP Pearson Corr', 'GDP Spearman Corr'])\n",
    "    left2 = pd.Series([0, 0], index = ['GDP Pearson Corr', 'GDP Spearman Corr'])\n",
    "    df = df.style.highlight_between(left = left1, right = 1.5, axis = 1, props = 'color:white; background-color:#929bfc;')\\\n",
    "                 .highlight_between(left = left2, right = 1.5, axis = 1, props = 'color:white; background-color:#b3b9ff;')\\\n",
    "                 .format('{:,.4f}', subset = ['GDP Pearson Corr', 'GDP Spearman Corr'])\\\n",
    "\n",
    "    display(df)\n",
    "\n",
    "intslider = widgets.IntRangeSlider(\n",
    "    value=[min(set(df['Year'])), max(set(df['Year']))],\n",
    "    min= min(set(df['Year'])),\n",
    "    max= max(set(df['Year'])),\n",
    "    step=1,\n",
    "    description='Years:',\n",
    ")\n",
    "\n",
    "country_drop = widgets.Dropdown(\n",
    "    options=sorted(set(df['Country'].tolist())),\n",
    "    value='Afghanistan',\n",
    "    description='Country:',\n",
    ")\n",
    "\n",
    "floatslider = widgets.FloatSlider(\n",
    "    value=0.7,\n",
    "    min=0,\n",
    "    max=1.0,\n",
    "    step=0.05,\n",
    "    description='Threshold:',\n",
    ")\n",
    "\n",
    "\n",
    "@interact(\n",
    "    Threshold = (0, 1, 0.05))\n",
    "def g(Threshold = 0.7):\n",
    "    return tableWorldMed(Threshold)"
   ]
  },
  {
   "cell_type": "code",
   "execution_count": 29,
   "metadata": {},
   "outputs": [
    {
     "ename": "TypeError",
     "evalue": "'int' object is not subscriptable",
     "output_type": "error",
     "traceback": [
      "\u001b[1;31m---------------------------------------------------------------------------\u001b[0m",
      "\u001b[1;31mTypeError\u001b[0m                                 Traceback (most recent call last)",
      "\u001b[1;32mc:\\Users\\smanoles\\Documents\\GitHub\\python-data-driven-decisions\\Notebook_Time_Series_Silviu.ipynb Cell 5\u001b[0m in \u001b[0;36m<cell line: 10>\u001b[1;34m()\u001b[0m\n\u001b[0;32m      <a href='vscode-notebook-cell:/c%3A/Users/smanoles/Documents/GitHub/python-data-driven-decisions/Notebook_Time_Series_Silviu.ipynb#W4sZmlsZQ%3D%3D?line=7'>8</a>\u001b[0m df_highest[\u001b[39m\"\u001b[39m\u001b[39mIndicator\u001b[39m\u001b[39m\"\u001b[39m] \u001b[39m=\u001b[39m indicators\n\u001b[0;32m     <a href='vscode-notebook-cell:/c%3A/Users/smanoles/Documents/GitHub/python-data-driven-decisions/Notebook_Time_Series_Silviu.ipynb#W4sZmlsZQ%3D%3D?line=9'>10</a>\u001b[0m \u001b[39mfor\u001b[39;00m years \u001b[39min\u001b[39;00m iterable:\n\u001b[1;32m---> <a href='vscode-notebook-cell:/c%3A/Users/smanoles/Documents/GitHub/python-data-driven-decisions/Notebook_Time_Series_Silviu.ipynb#W4sZmlsZQ%3D%3D?line=10'>11</a>\u001b[0m     df_aux \u001b[39m=\u001b[39m searchTimeSeries(\u001b[39m0.7\u001b[39m, years[\u001b[39m0\u001b[39;49m], years[\u001b[39m1\u001b[39m], \u001b[39mTrue\u001b[39;00m, \u001b[39m'\u001b[39m\u001b[39mCountry\u001b[39m\u001b[39m'\u001b[39m, \u001b[39m'\u001b[39m\u001b[39mSpain\u001b[39m\u001b[39m'\u001b[39m )\n\u001b[0;32m     <a href='vscode-notebook-cell:/c%3A/Users/smanoles/Documents/GitHub/python-data-driven-decisions/Notebook_Time_Series_Silviu.ipynb#W4sZmlsZQ%3D%3D?line=11'>12</a>\u001b[0m     indicator_corr_last \u001b[39m=\u001b[39m \u001b[39m0\u001b[39m\n\u001b[0;32m     <a href='vscode-notebook-cell:/c%3A/Users/smanoles/Documents/GitHub/python-data-driven-decisions/Notebook_Time_Series_Silviu.ipynb#W4sZmlsZQ%3D%3D?line=12'>13</a>\u001b[0m     indicator_range_last \u001b[39m=\u001b[39m \u001b[39mstr\u001b[39m(years[\u001b[39m0\u001b[39m]) \u001b[39m+\u001b[39m \u001b[39m'\u001b[39m\u001b[39m-\u001b[39m\u001b[39m'\u001b[39m \u001b[39m+\u001b[39m \u001b[39mstr\u001b[39m(years[\u001b[39m1\u001b[39m])\n",
      "\u001b[1;31mTypeError\u001b[0m: 'int' object is not subscriptable"
     ]
    }
   ],
   "source": [
    "indicators = list(df.columns[3:])\n",
    "indicators.remove('GDP')\n",
    "iterable = list(range(min(set(df['Year'])), max(set(df['Year'])) + 1))\n",
    "list(itertools.combinations(iterable, 2))\n",
    "\n",
    "#, \"Year range\", \"Highest Spearman corr\"\n",
    "df_highest = pd.DataFrame(columns={\"Indicator\"})\n",
    "df_highest[\"Indicator\"] = indicators\n",
    "\n",
    "for years in iterable:\n",
    "    df_aux = searchTimeSeries(0.7, years[0], years[1], True, 'Country', 'Spain' )\n",
    "    indicator_corr_last = 0\n",
    "    indicator_range_last = str(years[0]) + '-' + str(years[1])\n",
    "\n",
    "    indicator_corr_aux = df_aux[df_aux.index.get_level_values(0) == indicator][1]\n",
    "    indicator_range_aux = str(years[0]) + '-' + str(years[1])\n",
    "    for indicator in indicators:\n",
    "\n",
    "        if(indicator_corr_last < indicator_corr_aux):\n",
    "            df_highest.append('')\n",
    "        \n"
   ]
  },
  {
   "cell_type": "code",
   "execution_count": 16,
   "metadata": {},
   "outputs": [],
   "source": [
    "df_highest = pd.DataFrame(columns={\"Indicator\"})\n",
    "df_highest[\"Indicator\"] = indicators"
   ]
  },
  {
   "cell_type": "code",
   "execution_count": 19,
   "metadata": {},
   "outputs": [
    {
     "ename": "TypeError",
     "evalue": "'int' object is not subscriptable",
     "output_type": "error",
     "traceback": [
      "\u001b[1;31m---------------------------------------------------------------------------\u001b[0m",
      "\u001b[1;31mTypeError\u001b[0m                                 Traceback (most recent call last)",
      "\u001b[1;32mc:\\Users\\smanoles\\Documents\\GitHub\\python-data-driven-decisions\\Notebook_Time_Series_Silviu.ipynb Cell 7\u001b[0m in \u001b[0;36m<cell line: 1>\u001b[1;34m()\u001b[0m\n\u001b[1;32m----> <a href='vscode-notebook-cell:/c%3A/Users/smanoles/Documents/GitHub/python-data-driven-decisions/Notebook_Time_Series_Silviu.ipynb#X22sZmlsZQ%3D%3D?line=0'>1</a>\u001b[0m \u001b[39mstr\u001b[39m(years[\u001b[39m0\u001b[39;49m] \u001b[39m+\u001b[39m years[\u001b[39m1\u001b[39m])\n",
      "\u001b[1;31mTypeError\u001b[0m: 'int' object is not subscriptable"
     ]
    }
   ],
   "source": [
    "str(years[0] + years[1])"
   ]
  },
  {
   "cell_type": "code",
   "execution_count": 25,
   "metadata": {},
   "outputs": [
    {
     "data": {
      "text/plain": [
       "'1-1'"
      ]
     },
     "execution_count": 25,
     "metadata": {},
     "output_type": "execute_result"
    }
   ],
   "source": [
    "hola = str(years[0]) + '-' + str(years[1])"
   ]
  },
  {
   "cell_type": "code",
   "execution_count": 22,
   "metadata": {},
   "outputs": [
    {
     "ename": "TypeError",
     "evalue": "'int' object is not subscriptable",
     "output_type": "error",
     "traceback": [
      "\u001b[1;31m---------------------------------------------------------------------------\u001b[0m",
      "\u001b[1;31mTypeError\u001b[0m                                 Traceback (most recent call last)",
      "\u001b[1;32mc:\\Users\\smanoles\\Documents\\GitHub\\python-data-driven-decisions\\Notebook_Time_Series_Silviu.ipynb Cell 9\u001b[0m in \u001b[0;36m<cell line: 1>\u001b[1;34m()\u001b[0m\n\u001b[1;32m----> <a href='vscode-notebook-cell:/c%3A/Users/smanoles/Documents/GitHub/python-data-driven-decisions/Notebook_Time_Series_Silviu.ipynb#X24sZmlsZQ%3D%3D?line=0'>1</a>\u001b[0m years[\u001b[39m0\u001b[39;49m]\n",
      "\u001b[1;31mTypeError\u001b[0m: 'int' object is not subscriptable"
     ]
    }
   ],
   "source": []
  },
  {
   "cell_type": "code",
   "execution_count": 27,
   "metadata": {},
   "outputs": [
    {
     "data": {
      "text/html": [
       "<div>\n",
       "<style scoped>\n",
       "    .dataframe tbody tr th:only-of-type {\n",
       "        vertical-align: middle;\n",
       "    }\n",
       "\n",
       "    .dataframe tbody tr th {\n",
       "        vertical-align: top;\n",
       "    }\n",
       "\n",
       "    .dataframe thead th {\n",
       "        text-align: right;\n",
       "    }\n",
       "</style>\n",
       "<table border=\"1\" class=\"dataframe\">\n",
       "  <thead>\n",
       "    <tr style=\"text-align: right;\">\n",
       "      <th></th>\n",
       "      <th>GDP Spearman Corr</th>\n",
       "      <th>P-value Spearman</th>\n",
       "    </tr>\n",
       "    <tr>\n",
       "      <th>Indicator</th>\n",
       "      <th></th>\n",
       "      <th></th>\n",
       "    </tr>\n",
       "  </thead>\n",
       "  <tbody>\n",
       "    <tr>\n",
       "      <th>R&amp;D expenditure %GDP</th>\n",
       "      <td>0.833388</td>\n",
       "      <td>2.719194e-06</td>\n",
       "    </tr>\n",
       "    <tr>\n",
       "      <th>% Education Expenditure</th>\n",
       "      <td>0.797140</td>\n",
       "      <td>1.517067e-05</td>\n",
       "    </tr>\n",
       "    <tr>\n",
       "      <th>Researchers in R&amp;D</th>\n",
       "      <td>0.767231</td>\n",
       "      <td>4.937472e-05</td>\n",
       "    </tr>\n",
       "    <tr>\n",
       "      <th>% Female Employment</th>\n",
       "      <td>0.724318</td>\n",
       "      <td>2.048715e-04</td>\n",
       "    </tr>\n",
       "    <tr>\n",
       "      <th>Tertiary School Gender Parity</th>\n",
       "      <td>0.714750</td>\n",
       "      <td>2.717487e-04</td>\n",
       "    </tr>\n",
       "    <tr>\n",
       "      <th>Employment in agriculture</th>\n",
       "      <td>-0.729282</td>\n",
       "      <td>1.761404e-04</td>\n",
       "    </tr>\n",
       "    <tr>\n",
       "      <th>AgriShareGDP</th>\n",
       "      <td>-0.852874</td>\n",
       "      <td>9.038191e-07</td>\n",
       "    </tr>\n",
       "  </tbody>\n",
       "</table>\n",
       "</div>"
      ],
      "text/plain": [
       "                               GDP Spearman Corr  P-value Spearman\n",
       "Indicator                                                         \n",
       "R&D expenditure %GDP                    0.833388      2.719194e-06\n",
       "% Education Expenditure                 0.797140      1.517067e-05\n",
       "Researchers in R&D                      0.767231      4.937472e-05\n",
       "% Female Employment                     0.724318      2.048715e-04\n",
       "Tertiary School Gender Parity           0.714750      2.717487e-04\n",
       "Employment in agriculture              -0.729282      1.761404e-04\n",
       "AgriShareGDP                           -0.852874      9.038191e-07"
      ]
     },
     "execution_count": 27,
     "metadata": {},
     "output_type": "execute_result"
    }
   ],
   "source": [
    "searchTimeSeries(0.7, 2000, 2020, True, 'Country', 'Spain' )"
   ]
  },
  {
   "cell_type": "code",
   "execution_count": null,
   "metadata": {},
   "outputs": [],
   "source": []
  }
 ],
 "metadata": {
  "kernelspec": {
   "display_name": "Python 3.10.5 ('.venv': poetry)",
   "language": "python",
   "name": "python3"
  },
  "language_info": {
   "codemirror_mode": {
    "name": "ipython",
    "version": 3
   },
   "file_extension": ".py",
   "mimetype": "text/x-python",
   "name": "python",
   "nbconvert_exporter": "python",
   "pygments_lexer": "ipython3",
   "version": "3.10.5"
  },
  "orig_nbformat": 4,
  "vscode": {
   "interpreter": {
    "hash": "44718ba4235bc6fc2135f9d8856f170c8312ddd29b08710a5ea28d42169e623e"
   }
  }
 },
 "nbformat": 4,
 "nbformat_minor": 2
}
