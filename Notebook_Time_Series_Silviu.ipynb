{
 "cells": [
  {
   "cell_type": "code",
   "execution_count": 1,
   "metadata": {},
   "outputs": [],
   "source": [
    "import os\n",
    "import pandas as pd\n",
    "import ipywidgets as widgets\n",
    "from ipywidgets import Layout\n",
    "from ipywidgets import AppLayout, Button, GridspecLayout\n",
    "from ipywidgets import interact, interact_manual\n",
    "from math import nan\n",
    "from IPython.display import display_html\n",
    "import itertools\n",
    "import warnings\n",
    "from sklearn.preprocessing import normalize\n",
    "warnings.filterwarnings(\"ignore\")\n",
    "%store -r PVALUE_VAR\n",
    "\n",
    "from Project.Utils.visualize import  search, searchTimeSeries, norm\n",
    "\n",
    "write_path = os.getcwd() + '/Output' #Path to the folder you want to store the dataframes\n",
    "output_path = os.getcwd() + '/Output/'\n",
    "\n",
    "col_country = 'Country'\n",
    "col_year = 'Year'\n",
    "col_region = 'Region'\n",
    "\n",
    "df_gold = pd.read_csv(output_path + 'GoldDataframe.csv')\n",
    "corr_df_spearman = pd.read_csv(output_path + 'Corr_DF_pearson.csv', index_col = col_country)\n",
    "\n"
   ]
  },
  {
   "cell_type": "code",
   "execution_count": null,
   "metadata": {},
   "outputs": [],
   "source": []
  },
  {
   "cell_type": "code",
   "execution_count": 2,
   "metadata": {},
   "outputs": [
    {
     "data": {
      "text/plain": [
       "\" \\ndf_gold = pd.read_csv(output_path + 'GoldDataframe.csv', index_col = [col_country, col_region, col_year])\\nfor region in set(df_gold.index.get_level_values(col_region)):\\n    region_countries_normalized = []\\n    for country in set(df_gold.index.get_level_values(col_country)):\\n        df_country = df_gold.loc[df_gold.index.get_level_values(col_country) == country]\\n        df_country_normalized = norm(df_country)\\n        region_countries_normalized.append(df_country_normalized)\\n    \\n    region_df = pd.concat(region_countries_normalized, ignore_index=True) \""
      ]
     },
     "execution_count": 2,
     "metadata": {},
     "output_type": "execute_result"
    }
   ],
   "source": [
    "\"\"\" \n",
    "df_gold = pd.read_csv(output_path + 'GoldDataframe.csv', index_col = [col_country, col_region, col_year])\n",
    "for region in set(df_gold.index.get_level_values(col_region)):\n",
    "    region_countries_normalized = []\n",
    "    for country in set(df_gold.index.get_level_values(col_country)):\n",
    "        df_country = df_gold.loc[df_gold.index.get_level_values(col_country) == country]\n",
    "        df_country_normalized = norm(df_country)\n",
    "        region_countries_normalized.append(df_country_normalized)\n",
    "    \n",
    "    region_df = pd.concat(region_countries_normalized, ignore_index=True) \"\"\""
   ]
  },
  {
   "cell_type": "code",
   "execution_count": 3,
   "metadata": {},
   "outputs": [],
   "source": [
    "def styler_method(df, name):    \n",
    "    try:\n",
    "            styles = [dict(selector=\"caption\", props=[(\"background-color\", \"#98D3FF\")])]\n",
    "            left1 = pd.Series([PVALUE_VAR], index=['P-value Spearman'])\n",
    "            left2 = pd.Series([-1], index=['GDP Spearman Corr'])\n",
    "            left3 = pd.Series([0], index=['GDP Spearman Corr'])\n",
    "            dfs = df.style.highlight_between(left = left1, right = 1.5, axis = 1, props='color:white; background-color:red;')\\\n",
    "                        .highlight_between(left = left2, right = 1.5, axis = 1, props='color:white; background-color:#929bfc;')\\\n",
    "                        .highlight_between(left = left3, right = 1.5, axis = 1, props='color:white; background-color:#b3b9ff;')\\\n",
    "                        .format('{:,.4f}', subset = ['GDP Spearman Corr'])\\\n",
    "                        .format('{:,.12f}', subset = ['P-value Spearman']) \\\n",
    "                        .set_caption(name).set_table_styles(styles)\\\n",
    "                        .set_table_attributes(\"style='display:inline'\")\n",
    "    except:\n",
    "        dfs = 'No indicators have been found for the window dataframe in this range.'\n",
    "        \n",
    "    return dfs"
   ]
  },
  {
   "cell_type": "code",
   "execution_count": 4,
   "metadata": {},
   "outputs": [
    {
     "data": {
      "application/vnd.jupyter.widget-view+json": {
       "model_id": "70a9ac34a02f449a88c448709f9cc7d5",
       "version_major": 2,
       "version_minor": 0
      },
      "text/plain": [
       "interactive(children=(Dropdown(description='Country:', options=('Afghanistan', 'Albania', 'Algeria', 'Angola',…"
      ]
     },
     "metadata": {},
     "output_type": "display_data"
    },
    {
     "data": {
      "text/plain": [
       "<function __main__.timeWindow(Zone, Threshold, Years)>"
      ]
     },
     "execution_count": 4,
     "metadata": {},
     "output_type": "execute_result"
    }
   ],
   "source": [
    "def timeWindow(Zone, Threshold , Years):    \n",
    "    df_time = searchTimeSeries(Threshold, Years[0], Years[1], True, 'Country', Zone )\n",
    "    df_global = searchTimeSeries(Threshold, Years[0], Years[1], False, 'Country', Zone )\n",
    "\n",
    "\n",
    "    if Years[0] > Years[1]: return print(\"Please, select a valid range of years.\")\n",
    "\n",
    "    dataframe_name =  str(Years[0]) + '-' + str(Years[1])\n",
    "    \n",
    "    space = \"\\xa0\" * 10\n",
    "    try:\n",
    "        df_time = styler_method(df_time, dataframe_name)._repr_html_()\n",
    "    except: \n",
    "        df_time = 'No indicators available for the selected parameters'\n",
    "    \n",
    "    try:\n",
    "        df_global = styler_method(df_global, '2000-2020')._repr_html_()\n",
    "    except: \n",
    "        df_global = 'No indicators available for the selected parameters'\n",
    "    display_html(df_time + space  + df_global, raw=True)\n",
    "    \n",
    "intslider = widgets.IntRangeSlider(\n",
    "    value=[min(set(df_gold['Year'])), max(set(df_gold['Year']))],\n",
    "    min= min(set(df_gold['Year'])),\n",
    "    max= max(set(df_gold['Year'])),\n",
    "    step=1,\n",
    "    description='Years:',\n",
    ")\n",
    "\n",
    "country_drop = widgets.Dropdown(\n",
    "    options=sorted(set(df_gold['Country'].tolist())),\n",
    "    value='Afghanistan',\n",
    "    description='Country:',\n",
    ")\n",
    "\n",
    "floatslider = widgets.FloatSlider(\n",
    "    value=0.7,\n",
    "    min=0,\n",
    "    max=1.0,\n",
    "    step=0.05,\n",
    "    description='Threshold:',\n",
    ")\n",
    "\n",
    "widgets.interact(timeWindow, Zone = country_drop, Threshold = floatslider, Years = intslider)"
   ]
  },
  {
   "cell_type": "code",
   "execution_count": 5,
   "metadata": {},
   "outputs": [
    {
     "data": {
      "text/plain": [
       "' median_corr_df_pearson = pd.merge(corr_df_pearson, region_df, how = \\'inner\\', left_index = True, right_index = True).median().rename(\\'GDP Pearson Corr\\')\\nmedian_corr_df_spearman = pd.merge(corr_df_spearman, region_df, how = \\'inner\\', left_index = True, right_index = True).median().rename(\\'GDP Spearman Corr\\')\\n\\ndef tableWorldMed(Threshold):\\n    df = pd.concat([median_corr_df_pearson, median_corr_df_spearman], axis = 1)\\n    df = df.loc[(abs(df[\\'GDP Pearson Corr\\']) >= Threshold) & (abs(df[\\'GDP Spearman Corr\\']) >= Threshold)]\\n\\n    if df.empty:\\n        return print(\"No indicators have been found.\")\\n\\n    df = df.sort_values(by = df.columns[0], ascending = False, key = lambda row: df.sum(axis = 1))\\n\\n    left1 = pd.Series([-1, -1], index = [\\'GDP Pearson Corr\\', \\'GDP Spearman Corr\\'])\\n    left2 = pd.Series([0, 0], index = [\\'GDP Pearson Corr\\', \\'GDP Spearman Corr\\'])\\n    df = df.style.highlight_between(left = left1, right = 1.5, axis = 1, props = \\'color:white; background-color:#929bfc;\\')                 .highlight_between(left = left2, right = 1.5, axis = 1, props = \\'color:white; background-color:#b3b9ff;\\')                 .format(\\'{:,.4f}\\', subset = [\\'GDP Pearson Corr\\', \\'GDP Spearman Corr\\'])\\n    display(df)\\n\\nintslider = widgets.IntRangeSlider(\\n    value=[min(set(df[\\'Year\\'])), max(set(df[\\'Year\\']))],\\n    min= min(set(df[\\'Year\\'])),\\n    max= max(set(df[\\'Year\\'])),\\n    step=1,\\n    description=\\'Years:\\',\\n)\\n\\ncountry_drop = widgets.Dropdown(\\n    options=sorted(set(df[\\'Country\\'].tolist())),\\n    value=\\'Afghanistan\\',\\n    description=\\'Country:\\',\\n)\\n\\nfloatslider = widgets.FloatSlider(\\n    value=0.7,\\n    min=0,\\n    max=1.0,\\n    step=0.05,\\n    description=\\'Threshold:\\',\\n)\\n\\n\\n@interact(\\n    Threshold = (0, 1, 0.05))\\ndef g(Threshold = 0.7):\\n    return tableWorldMed(Threshold) '"
      ]
     },
     "execution_count": 5,
     "metadata": {},
     "output_type": "execute_result"
    }
   ],
   "source": [
    "\"\"\" median_corr_df_pearson = pd.merge(corr_df_pearson, region_df, how = 'inner', left_index = True, right_index = True).median().rename('GDP Pearson Corr')\n",
    "median_corr_df_spearman = pd.merge(corr_df_spearman, region_df, how = 'inner', left_index = True, right_index = True).median().rename('GDP Spearman Corr')\n",
    "\n",
    "def tableWorldMed(Threshold):\n",
    "    df = pd.concat([median_corr_df_pearson, median_corr_df_spearman], axis = 1)\n",
    "    df = df.loc[(abs(df['GDP Pearson Corr']) >= Threshold) & (abs(df['GDP Spearman Corr']) >= Threshold)]\n",
    "\n",
    "    if df.empty:\n",
    "        return print(\"No indicators have been found.\")\n",
    "\n",
    "    df = df.sort_values(by = df.columns[0], ascending = False, key = lambda row: df.sum(axis = 1))\n",
    "\n",
    "    left1 = pd.Series([-1, -1], index = ['GDP Pearson Corr', 'GDP Spearman Corr'])\n",
    "    left2 = pd.Series([0, 0], index = ['GDP Pearson Corr', 'GDP Spearman Corr'])\n",
    "    df = df.style.highlight_between(left = left1, right = 1.5, axis = 1, props = 'color:white; background-color:#929bfc;')\\\n",
    "                 .highlight_between(left = left2, right = 1.5, axis = 1, props = 'color:white; background-color:#b3b9ff;')\\\n",
    "                 .format('{:,.4f}', subset = ['GDP Pearson Corr', 'GDP Spearman Corr'])\\\n",
    "\n",
    "    display(df)\n",
    "\n",
    "intslider = widgets.IntRangeSlider(\n",
    "    value=[min(set(df['Year'])), max(set(df['Year']))],\n",
    "    min= min(set(df['Year'])),\n",
    "    max= max(set(df['Year'])),\n",
    "    step=1,\n",
    "    description='Years:',\n",
    ")\n",
    "\n",
    "country_drop = widgets.Dropdown(\n",
    "    options=sorted(set(df['Country'].tolist())),\n",
    "    value='Afghanistan',\n",
    "    description='Country:',\n",
    ")\n",
    "\n",
    "floatslider = widgets.FloatSlider(\n",
    "    value=0.7,\n",
    "    min=0,\n",
    "    max=1.0,\n",
    "    step=0.05,\n",
    "    description='Threshold:',\n",
    ")\n",
    "\n",
    "\n",
    "@interact(\n",
    "    Threshold = (0, 1, 0.05))\n",
    "def g(Threshold = 0.7):\n",
    "    return tableWorldMed(Threshold) \"\"\""
   ]
  },
  {
   "cell_type": "code",
   "execution_count": 6,
   "metadata": {},
   "outputs": [],
   "source": [
    "\n",
    "\n",
    "iterable = list(range(min(set(df_gold['Year'])), max(set(df_gold['Year'])) + 1))\n",
    "iterable = list(itertools.combinations(iterable, 2))\n",
    "iterable_aux = iterable.copy()\n",
    "for years in iterable_aux:\n",
    "    if (years[1] - years[0]) < 4:\n",
    "        iterable.remove(years)\n",
    "\n",
    "indicators = list(df_gold.columns[3:])\n",
    "indicators.remove('GDP')"
   ]
  },
  {
   "cell_type": "code",
   "execution_count": 7,
   "metadata": {},
   "outputs": [
    {
     "data": {
      "application/vnd.jupyter.widget-view+json": {
       "model_id": "56d18586a16747cdbed8d2498175981e",
       "version_major": 2,
       "version_minor": 0
      },
      "text/plain": [
       "interactive(children=(Dropdown(description='Country', options=('Afghanistan', 'Albania', 'Algeria', 'Angola', …"
      ]
     },
     "metadata": {},
     "output_type": "display_data"
    }
   ],
   "source": [
    "\n",
    "def tableOut(Country):\n",
    "\n",
    "    df_highest = pd.DataFrame(columns={\"Indicator\"})\n",
    "    df_highest[\"Indicator\"] = indicators\n",
    "    df_highest[\"Year range\"] = 0\n",
    "    df_highest[\"Highest positive Spearman corr\"] = 0\n",
    "    df_highest[\"Year range \"] = 0\n",
    "    df_highest[\"Highest negative Spearman corr\"] = 0\n",
    "    df_highest.set_index(\"Indicator\", inplace= True)\n",
    "\n",
    "\n",
    "    for years in iterable:\n",
    "        df_aux = searchTimeSeries(0, years[0], years[1], True, 'Country', Country)\n",
    "        indicators_inter = list(set(indicators) & set(list(df_aux.index)))\n",
    "\n",
    "\n",
    "        for indicator in indicators_inter:\n",
    "            indicator_corr_pos_last = df_highest[df_highest.index.get_level_values(0) == indicator][\"Highest positive Spearman corr\"][0]\n",
    "            indicator_corr_neg_last = df_highest[df_highest.index.get_level_values(0) == indicator][\"Highest negative Spearman corr\"][0]\n",
    "            \n",
    "          \n",
    "            indicator_corr_aux = df_aux[df_aux.index.get_level_values(0) == indicator][\"GDP Spearman Corr\"][0]\n",
    "            indicator_p_value_aux = df_aux[df_aux.index.get_level_values(0) == indicator][\"P-value Spearman\"][0]\n",
    "\n",
    "            if indicator_corr_aux != nan and indicator_p_value_aux < PVALUE_VAR:\n",
    "                if indicator_corr_pos_last < indicator_corr_aux and indicator_corr_aux > 0:\n",
    "                    df_highest.at[indicator, \"Year range\"] = str(years[0]) + '-' + str(years[1])\n",
    "                    df_highest.at[indicator, \"Highest positive Spearman corr\"] = indicator_corr_aux\n",
    "                elif indicator_corr_neg_last > indicator_corr_aux and indicator_corr_aux < 0:\n",
    "                    df_highest.at[indicator, \"Year range \"] = str(years[0]) + '-' + str(years[1])\n",
    "                    df_highest.at[indicator, \"Highest negative Spearman corr\"] = indicator_corr_aux\n",
    "\n",
    "    df_highest.replace(0, \"-\", inplace=True)\n",
    "    display(df_highest)\n",
    "\n",
    "@interact(\n",
    "    Country = sorted(set(df_gold['Country'].tolist())))\n",
    "def g(Country = 'Afghanistan'):\n",
    "    return tableOut(Country)"
   ]
  },
  {
   "cell_type": "code",
   "execution_count": 2,
   "metadata": {},
   "outputs": [],
   "source": [
    "def generate_table():    \n",
    "    df_highest = pd.DataFrame(columns={\"Indicator\"})\n",
    "    df_highest[\"Indicator\"] = indicators\n",
    "    df_highest[\"Year range\"] = 0\n",
    "    df_highest[\"Highest positive Spearman corr\"] = 0\n",
    "    df_highest[\"Year range \"] = 0\n",
    "    df_highest[\"Highest negative Spearman corr\"] = 0\n",
    "    df_highest.set_index(\"Indicator\", inplace= True)\n",
    "\n",
    "    return df_highest"
   ]
  },
  {
   "cell_type": "code",
   "execution_count": 7,
   "metadata": {},
   "outputs": [],
   "source": [
    "def load_by_region(region):\n",
    "    df= pd.read_csv(write_path + '/GoldDataframe.csv')\n",
    "    df = df.loc[df['Region'] == region]\n",
    "    df.set_index(['Country', 'Year', 'Region'], inplace=True)\n",
    "    df = norm(df)\n",
    "    df.sort_index(level = ['Year', 'Country'], inplace=True)\n",
    "    return df"
   ]
  },
  {
   "cell_type": "code",
   "execution_count": 11,
   "metadata": {},
   "outputs": [],
   "source": [
    "load_by_region('South Asia').to_csv(write_path + '/LoadByRegion.csv')"
   ]
  },
  {
   "cell_type": "code",
   "execution_count": 4,
   "metadata": {},
   "outputs": [],
   "source": [
    "iterable = list(range(min(set(df_gold['Year'])), max(set(df_gold['Year'])) + 1))\n",
    "iterable = list(itertools.combinations(iterable, 2))\n",
    "iterable_aux = iterable.copy()\n",
    "for years in iterable_aux:\n",
    "    if (years[1] - years[0]) < 4:\n",
    "        iterable.remove(years)\n",
    "\n",
    "indicators = list(df_gold.columns[3:])\n",
    "indicators.remove('GDP')"
   ]
  },
  {
   "cell_type": "code",
   "execution_count": 17,
   "metadata": {},
   "outputs": [
    {
     "data": {
      "application/vnd.jupyter.widget-view+json": {
       "model_id": "516894da7e5e45cc9106f1b92f95538f",
       "version_major": 2,
       "version_minor": 0
      },
      "text/plain": [
       "interactive(children=(Dropdown(description='Region', index=5, options=('East Asia and Pacific', 'Europe and Ce…"
      ]
     },
     "metadata": {},
     "output_type": "display_data"
    }
   ],
   "source": [
    "def tableCorrRegion(Region):\n",
    "\n",
    "    df_highest = generate_table()\n",
    "\n",
    "    df = load_by_region(Region)\n",
    "\n",
    "    for years in iterable:\n",
    "        \n",
    "        df_aux = searchTimeSeries(0, years[0], years[1], True, df, 'Region', Region)\n",
    "        indicators_inter = list(set(indicators) & set(list(df_aux.index)))\n",
    "\n",
    "        for indicator in indicators_inter:\n",
    "            indicator_corr_pos_last = df_highest[df_highest.index.get_level_values(0) == indicator][\"Highest positive Spearman corr\"][0]\n",
    "            indicator_corr_neg_last = df_highest[df_highest.index.get_level_values(0) == indicator][\"Highest negative Spearman corr\"][0]\n",
    "            \n",
    "          \n",
    "            indicator_corr_aux = df_aux[df_aux.index.get_level_values(0) == indicator][\"GDP Spearman Corr\"][0]\n",
    "            indicator_p_value_aux = df_aux[df_aux.index.get_level_values(0) == indicator][\"P-value Spearman\"][0]\n",
    "\n",
    "            if indicator_corr_aux != nan and indicator_p_value_aux < PVALUE_VAR:\n",
    "                if indicator_corr_pos_last < indicator_corr_aux and indicator_corr_aux > 0:\n",
    "                    df_highest.at[indicator, \"Year range\"] = str(years[0]) + '-' + str(years[1])\n",
    "                    df_highest.at[indicator, \"Highest positive Spearman corr\"] = indicator_corr_aux\n",
    "                elif indicator_corr_neg_last > indicator_corr_aux and indicator_corr_aux < 0:\n",
    "                    df_highest.at[indicator, \"Year range \"] = str(years[0]) + '-' + str(years[1])\n",
    "                    df_highest.at[indicator, \"Highest negative Spearman corr\"] = indicator_corr_aux\n",
    "\n",
    "    df_highest = df_highest.replace(0, nan).dropna(axis=0, how='all').fillna(\"-\")\n",
    "    display(df_highest)\n",
    "\n",
    "@interact(\n",
    "    Region = sorted(set(df_gold['Region'].tolist())))\n",
    "def g(Region = 'South Asia'):\n",
    "    return tableCorrRegion(Region)"
   ]
  },
  {
   "cell_type": "code",
   "execution_count": null,
   "metadata": {},
   "outputs": [],
   "source": []
  }
 ],
 "metadata": {
  "kernelspec": {
   "display_name": "Python 3.10.5 ('.venv': poetry)",
   "language": "python",
   "name": "python3"
  },
  "language_info": {
   "codemirror_mode": {
    "name": "ipython",
    "version": 3
   },
   "file_extension": ".py",
   "mimetype": "text/x-python",
   "name": "python",
   "nbconvert_exporter": "python",
   "pygments_lexer": "ipython3",
   "version": "3.10.5"
  },
  "orig_nbformat": 4,
  "vscode": {
   "interpreter": {
    "hash": "44718ba4235bc6fc2135f9d8856f170c8312ddd29b08710a5ea28d42169e623e"
   }
  }
 },
 "nbformat": 4,
 "nbformat_minor": 2
}
