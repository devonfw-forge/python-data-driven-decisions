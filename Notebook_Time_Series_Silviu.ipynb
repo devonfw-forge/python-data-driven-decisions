{
 "cells": [
  {
   "cell_type": "markdown",
   "metadata": {},
   "source": [
    "# Window Time Series\n",
    "\n",
    "In this notebook it will be performed an analysis of the indicators with the GDP through a time window. This consists in selecting a year range instead of the whole available data, allowing to see specific periods of time and their impact. \n",
    "\n",
    "The structure of the notebook is the following:\n",
    "- Time window country/region: see the indicators correlation of the selected year range for the country/region\n",
    "- Highest correlations country/region: finds the highest positive/negative correlations for the selected country/region.\n",
    "\n",
    "We will start importing all the libraries and necessary dataframes."
   ]
  },
  {
   "cell_type": "code",
   "execution_count": 1,
   "metadata": {},
   "outputs": [],
   "source": [
    "import os\n",
    "import pandas as pd\n",
    "import ipywidgets as widgets\n",
    "from ipywidgets import Layout\n",
    "from ipywidgets import AppLayout, Button, GridspecLayout\n",
    "from ipywidgets import interact, interact_manual\n",
    "from math import nan\n",
    "from IPython.display import display_html\n",
    "import itertools\n",
    "from scipy import stats\n",
    "import warnings\n",
    "from sklearn.preprocessing import normalize\n",
    "import matplotlib.pyplot as plt\n",
    "warnings.filterwarnings(\"ignore\")\n",
    "%store -r PVALUE_VAR\n",
    "\n",
    "from Project.Utils.visualize import  search, searchTimeSeries, norm\n",
    "\n",
    "write_path = os.getcwd() + '/Output' #Path to the folder you want to store the dataframes\n",
    "output_path = os.getcwd() + '/Output/'\n",
    "\n",
    "col_country = 'Country'\n",
    "col_year = 'Year'\n",
    "col_region = 'Region'\n",
    "\n",
    "df_gold = pd.read_csv(output_path + 'GoldDataframe.csv')\n",
    "df_gold_index = df_gold.set_index(['Country', 'Year', 'Region'])\n",
    "corr_df_spearman = pd.read_csv(output_path + 'Corr_DF_pearson.csv', index_col = col_country)\n",
    "\n"
   ]
  },
  {
   "cell_type": "markdown",
   "metadata": {},
   "source": [
    "### Styler\n",
    "\n",
    "A simple codeblock used to improve the visualization of the dataframes. It also catches the exception when no data is availble to dislpay."
   ]
  },
  {
   "cell_type": "code",
   "execution_count": 2,
   "metadata": {},
   "outputs": [],
   "source": [
    "def styler_method(df, name):    \n",
    "    try:\n",
    "            styles = [dict(selector=\"caption\", props=[(\"background-color\", \"#98D3FF\")])]\n",
    "            left1 = pd.Series([PVALUE_VAR], index=['P-value Spearman'])\n",
    "            left2 = pd.Series([-1], index=['GDP Spearman Corr'])\n",
    "            left3 = pd.Series([0], index=['GDP Spearman Corr'])\n",
    "            dfs = df.style.highlight_between(left = left1, right = 1.5, axis = 1, props='color:white; background-color:red;')\\\n",
    "                        .highlight_between(left = left2, right = 1.5, axis = 1, props='color:white; background-color:#929bfc;')\\\n",
    "                        .highlight_between(left = left3, right = 1.5, axis = 1, props='color:white; background-color:#b3b9ff;')\\\n",
    "                        .format('{:,.4f}', subset = ['GDP Spearman Corr'])\\\n",
    "                        .format('{:,.12f}', subset = ['P-value Spearman']) \\\n",
    "                        .set_caption(name).set_table_styles(styles)\\\n",
    "                        .set_table_attributes(\"style='display:inline'\")\n",
    "    except:\n",
    "        dfs = 'No indicators have been found for the window dataframe in this range.'\n",
    "        \n",
    "    return dfs"
   ]
  },
  {
   "cell_type": "markdown",
   "metadata": {},
   "source": [
    "## Time Window Country\n",
    "\n",
    "See the indicators correlation of the selected year range for the country. Select the country and the year range and the results will be displayed in the left side, meanwhile in the right there is the original dataframe for the whole data. It is recommended leaving the 'Threshold' parameter at 0.7 or higher to have statistical significance results.\n",
    "\n",
    "**Don't select a very narrow year range, as this will generate a result with low data input and higher p-values. A p-value > 0.5 it is not considered to have statisticar significance.**\n",
    "\n",
    "This widget allows to perform comparisons for specific years, for example the impact of a crysis in the indicators and GDP."
   ]
  },
  {
   "cell_type": "code",
   "execution_count": null,
   "metadata": {},
   "outputs": [],
   "source": [
    "def load_by_region(region):\n",
    "    df = df_gold_index.loc[df_gold_index.index.get_level_values('Region') == region]\n",
    "    df = norm(df)\n",
    "    df.sort_index(level = ['Year', 'Country'], inplace=True)\n",
    "    return df"
   ]
  },
  {
   "cell_type": "code",
   "execution_count": 22,
   "metadata": {},
   "outputs": [
    {
     "data": {
      "application/vnd.jupyter.widget-view+json": {
       "model_id": "b8e338c1c3b241d4ade69b0fc089c250",
       "version_major": 2,
       "version_minor": 0
      },
      "text/plain": [
       "interactive(children=(Dropdown(description='By: ', options=('Country', 'Region'), value='Country'), Dropdown(d…"
      ]
     },
     "metadata": {},
     "output_type": "display_data"
    },
    {
     "data": {
      "text/plain": [
       "<function __main__.timeWindowCountry(By, Zone, Threshold, Years)>"
      ]
     },
     "execution_count": 22,
     "metadata": {},
     "output_type": "execute_result"
    }
   ],
   "source": [
    "def timeWindowCountry(By, Zone, Threshold , Years):\n",
    "    if By ==  'Region': \n",
    "        zone_drop.options = sorted(set(df_gold['Region'].tolist()))\n",
    "        #Search for the entries of the region and normalize.\n",
    "        df_zone = load_by_region(Zone)\n",
    "\n",
    "    else: #By country\n",
    "        zone_drop.options = sorted(set(df_gold['Country'].tolist()))\n",
    "        #Search for entries of the country.\n",
    "        df_zone = df_gold_index.loc[df_gold_index.index.get_level_values('Country') == Zone]\n",
    "    \n",
    "\n",
    "    #Load the selected year range and the global range.\n",
    "    df_time = searchTimeSeries(Threshold, Years[0], Years[1], True, df_zone)\n",
    "    df_global = searchTimeSeries(Threshold, Years[0], Years[1], False, df_zone)\n",
    "\n",
    "    if Years[0] > Years[1]: return print(\"Please, select a valid range of years.\")\n",
    " \n",
    "    space = \"\\xa0\" * 10\n",
    "    try:\n",
    "        df_time = styler_method(df_time, str(Years[0]) + '-' + str(Years[1]))._repr_html_()\n",
    "    except: \n",
    "        df_time = 'No indicators available for the selected parameters'\n",
    "    \n",
    "    try:\n",
    "        df_global = styler_method(df_global, '2000-2020')._repr_html_()\n",
    "    except: \n",
    "        df_global = 'No indicators available for the selected parameters'\n",
    "\n",
    "    display_html(df_time + space  + df_global, raw=True)\n",
    "    \n",
    "by_radio = widgets.Dropdown(\n",
    "    options= ['Country', 'Region'],\n",
    "    description='By: ',\n",
    ")\n",
    "\n",
    "intslider = widgets.IntRangeSlider(\n",
    "    value=[min(set(df_gold['Year'])), max(set(df_gold['Year']))],\n",
    "    min= min(set(df_gold['Year'])),\n",
    "    max= max(set(df_gold['Year'])),\n",
    "    step=1,\n",
    "    description='Years:',\n",
    ")\n",
    "\n",
    "zone_drop = widgets.Dropdown(\n",
    "    options=sorted(set(df_gold['Country'].tolist())),\n",
    "    value='Afghanistan',\n",
    "    description='Zone:',\n",
    ")\n",
    "\n",
    "floatslider = widgets.FloatSlider(\n",
    "    value=0.7,\n",
    "    min=0,\n",
    "    max=1.0,\n",
    "    step=0.05,\n",
    "    description='Threshold:',\n",
    ")\n",
    "\n",
    "widgets.interact(timeWindowCountry, By = by_radio, Zone = zone_drop, Threshold = floatslider, Years = intslider)"
   ]
  },
  {
   "cell_type": "markdown",
   "metadata": {},
   "source": [
    "## Time Window Region\n",
    "\n",
    "The same as before but for the region. The only difference consists in normalizing the dataframe due to having different countries.\n",
    "\n",
    "Having more countries in the data input allows to generate a better statistical result (lower p-values) compared to the country widget.\n"
   ]
  },
  {
   "cell_type": "code",
   "execution_count": 11,
   "metadata": {},
   "outputs": [
    {
     "data": {
      "application/vnd.jupyter.widget-view+json": {
       "model_id": "814f1922f8d346609515c0e4557199da",
       "version_major": 2,
       "version_minor": 0
      },
      "text/plain": [
       "interactive(children=(Dropdown(description='Country:', index=5, options=('East Asia and Pacific', 'Europe and …"
      ]
     },
     "metadata": {},
     "output_type": "display_data"
    },
    {
     "data": {
      "text/plain": [
       "<function __main__.timeWindowRegion(Zone, Threshold, Years)>"
      ]
     },
     "execution_count": 11,
     "metadata": {},
     "output_type": "execute_result"
    }
   ],
   "source": [
    "def timeWindowRegion(Zone, Threshold , Years):\n",
    "\n",
    "    #Search for the entries of the region and normalize.\n",
    "    df_region = load_by_region(Zone)\n",
    "\n",
    "    #Load the selected year range and the global range.\n",
    "    df_time = searchTimeSeries(Threshold, Years[0], Years[1], True, df_region)\n",
    "    df_global = searchTimeSeries(Threshold, Years[0], Years[1], False, df_region)\n",
    "\n",
    "\n",
    "    if Years[0] > Years[1]: return print(\"Please, select a valid range of years.\")\n",
    "\n",
    "    dataframe_name =  str(Years[0]) + '-' + str(Years[1])\n",
    "    \n",
    "    space = \"\\xa0\" * 10\n",
    "    try:\n",
    "        df_time = styler_method(df_time, dataframe_name)._repr_html_()\n",
    "    except: \n",
    "        df_time = 'No indicators available for the selected parameters'\n",
    "    \n",
    "    try:\n",
    "        df_global = styler_method(df_global, '2000-2020')._repr_html_()\n",
    "    except: \n",
    "        df_global = 'No indicators available for the selected parameters'\n",
    "    display_html(df_time + space  + df_global, raw=True)\n",
    "    \n",
    "intslider = widgets.IntRangeSlider(\n",
    "    value=[min(set(df_gold['Year'])), max(set(df_gold['Year']))],\n",
    "    min= min(set(df_gold['Year'])),\n",
    "    max= max(set(df_gold['Year'])),\n",
    "    step=1,\n",
    "    description='Years:',\n",
    ")\n",
    "\n",
    "region_drop = widgets.Dropdown(\n",
    "    options=sorted(set(df_gold['Region'].tolist())),\n",
    "    value='South Asia',\n",
    "    description='Country:',\n",
    ")\n",
    "\n",
    "floatslider = widgets.FloatSlider(\n",
    "    value=0.7,\n",
    "    min=0,\n",
    "    max=1.0,\n",
    "    step=0.05,\n",
    "    description='Threshold:',\n",
    ")\n",
    "\n",
    "widgets.interact(timeWindowRegion, Zone = region_drop, Threshold = floatslider, Years = intslider)"
   ]
  },
  {
   "cell_type": "markdown",
   "metadata": {},
   "source": [
    "# Highest correlations country\n",
    "\n",
    "Finds the highest positive/negative correlations for the selected country. The correlation found it is displayed next to the year range where has been located. This widget allows to detect periods of time with important events resulting in a modification of the indicator correlation. The widget also filters the p-values lower than 0.05.\n",
    "\n",
    "In the widget for the countries a lot of maximum correlation are found, this is caused because there is not a low of data to generate the dataframes.\n",
    "\n",
    "In first place, define a method were will be stored all the results:"
   ]
  },
  {
   "cell_type": "code",
   "execution_count": 6,
   "metadata": {},
   "outputs": [],
   "source": [
    "def generate_table():    \n",
    "    df_highest = pd.DataFrame(columns={\"Indicator\"})\n",
    "    df_highest[\"Indicator\"] = indicators\n",
    "    df_highest[\"Year range\"] = 0\n",
    "    df_highest[\"Highest positive Spearman corr\"] = 0\n",
    "    df_highest[\"Year range \"] = 0\n",
    "    df_highest[\"Highest negative Spearman corr\"] = 0\n",
    "    df_highest.set_index(\"Indicator\", inplace= True)\n",
    "\n",
    "    return df_highest"
   ]
  },
  {
   "cell_type": "markdown",
   "metadata": {},
   "source": [
    "Iterable: a list of all the combinations for the year ranges with length of five years.\n",
    "\n",
    "Indicators: a list of all the indicators."
   ]
  },
  {
   "cell_type": "code",
   "execution_count": 7,
   "metadata": {},
   "outputs": [],
   "source": [
    "iterable = list(range(min(set(df_gold['Year'])), max(set(df_gold['Year'])) + 1))\n",
    "iterable = list(itertools.combinations(iterable, 2))\n",
    "iterable_aux = iterable.copy()\n",
    "\n",
    "#The year length must be higher than 5. All entries with a lower range are deleted.\n",
    "for years in iterable_aux:\n",
    "    if (years[1] - years[0]) < 4:\n",
    "        iterable.remove(years)\n",
    "\n",
    "indicators = list(df_gold.columns[3:])\n",
    "indicators.remove('GDP')"
   ]
  },
  {
   "cell_type": "code",
   "execution_count": 8,
   "metadata": {},
   "outputs": [
    {
     "data": {
      "application/vnd.jupyter.widget-view+json": {
       "model_id": "3948ea5956094742876719c2fde56635",
       "version_major": 2,
       "version_minor": 0
      },
      "text/plain": [
       "interactive(children=(Dropdown(description='Country', options=('Afghanistan', 'Albania', 'Algeria', 'Angola', …"
      ]
     },
     "metadata": {},
     "output_type": "display_data"
    }
   ],
   "source": [
    "def tableHighCountry(Country):\n",
    "    df_highest = generate_table()\n",
    "    #Search for the entries of the country.\n",
    "    df_country  = df_gold_index.loc[df_gold_index.index.get_level_values('Country') == Country]\n",
    "\n",
    "    #For all the combination of years...\n",
    "    for years in iterable:\n",
    "        df_aux = searchTimeSeries(0, years[0], years[1], True, df_country)\n",
    "        #Delete indicators which are not available that year\n",
    "        indicators_inter = list(set(indicators) & set(list(df_aux.index)))\n",
    "\n",
    "        #For all the indicators availble that year....\n",
    "        for indicator in indicators_inter:\n",
    "            #Algorithm to search for the highest value\n",
    "            indicator_corr_pos_last = df_highest[df_highest.index.get_level_values(0) == indicator][\"Highest positive Spearman corr\"][0]\n",
    "            indicator_corr_neg_last = df_highest[df_highest.index.get_level_values(0) == indicator][\"Highest negative Spearman corr\"][0]\n",
    "            \n",
    "          \n",
    "            indicator_corr_aux = df_aux[df_aux.index.get_level_values(0) == indicator][\"GDP Spearman Corr\"][0]\n",
    "            indicator_p_value_aux = df_aux[df_aux.index.get_level_values(0) == indicator][\"P-value Spearman\"][0]\n",
    "\n",
    "            if indicator_corr_aux != nan and indicator_p_value_aux < PVALUE_VAR:\n",
    "                if indicator_corr_pos_last < indicator_corr_aux and indicator_corr_aux > 0:\n",
    "                    df_highest.at[indicator, \"Year range\"] = str(years[0]) + '-' + str(years[1])\n",
    "                    df_highest.at[indicator, \"Highest positive Spearman corr\"] = indicator_corr_aux\n",
    "                elif indicator_corr_neg_last > indicator_corr_aux and indicator_corr_aux < 0:\n",
    "                    df_highest.at[indicator, \"Year range \"] = str(years[0]) + '-' + str(years[1])\n",
    "                    df_highest.at[indicator, \"Highest negative Spearman corr\"] = indicator_corr_aux\n",
    "\n",
    "    df_highest = df_highest.replace(0, nan).dropna(axis=0, how='all').fillna(\"-\")\n",
    "    display(df_highest)\n",
    "\n",
    "@interact(\n",
    "    Country = sorted(set(df_gold['Country'].tolist())))\n",
    "def g(Country = 'Afghanistan'):\n",
    "    return tableHighCountry(Country)"
   ]
  },
  {
   "cell_type": "markdown",
   "metadata": {},
   "source": [
    "This widget below has been used to check all the results throughout the programming of this notebook. It is also a great tool to see the fluctuations of the GDP and the indicators along the years. It also prints the spearman correlation and the p-value. \n",
    "\n",
    "**Remember: the correlation must be higher than 0.7 to be considered correlated and the p-value must be lower than 0.05 to have statistical significance.**"
   ]
  },
  {
   "cell_type": "code",
   "execution_count": 9,
   "metadata": {},
   "outputs": [
    {
     "data": {
      "application/vnd.jupyter.widget-view+json": {
       "model_id": "f522a420aab44bc2ab005dd68f563578",
       "version_major": 2,
       "version_minor": 0
      },
      "text/plain": [
       "interactive(children=(Dropdown(description='Country: ', options=('Afghanistan', 'Albania', 'Algeria', 'Angola'…"
      ]
     },
     "metadata": {},
     "output_type": "display_data"
    },
    {
     "data": {
      "text/plain": [
       "<function __main__.plotYearRange(Zone, Indicator, Years)>"
      ]
     },
     "execution_count": 9,
     "metadata": {},
     "output_type": "execute_result"
    }
   ],
   "source": [
    "indicators = list(df_gold_index.columns)\n",
    "indicators.remove('GDP')\n",
    "\n",
    "def plotYearRange(Zone, Indicator, Years):\n",
    "    df_aux = df_gold_index.loc[df_gold_index.index.get_level_values('Country') == Zone]\n",
    "    df_aux = df_aux.loc[(df_aux.index.get_level_values(\"Year\") >= Years[0]) & (df_aux.index.get_level_values(\"Year\") <= Years[1])]\n",
    "    spear = stats.spearmanr(df_aux[Indicator], df_aux['GDP'])\n",
    "    df_aux = norm(df_aux).reset_index(drop=False)\n",
    "    \n",
    "    print(spear)\n",
    "    plt.figure(figsize=(6,6))\n",
    "    plt.plot(df_aux[\"GDP\"], color=\"red\", label = 'GDP')\n",
    "    plt.plot(df_aux[Indicator], color=\"green\", label = Indicator)\n",
    "    plt.legend(loc=\"lower right\")\n",
    "    \n",
    "\n",
    "\n",
    "\n",
    "country_drop = widgets.Dropdown(\n",
    "    options=sorted(set(df_gold['Country'].tolist())),\n",
    "    value='Afghanistan',\n",
    "    description='Country: ',\n",
    ")\n",
    "\n",
    "indicator_drop = widgets.Dropdown(\n",
    "    options= sorted(indicators),\n",
    "    value='AgriShareGDP',\n",
    "    description='Indicator: :',\n",
    ")\n",
    "\n",
    "intslider = widgets.IntRangeSlider(\n",
    "    value=[min(set(df_gold['Year'])), max(set(df_gold['Year']))],\n",
    "    min= min(set(df_gold['Year'])),\n",
    "    max= max(set(df_gold['Year'])),\n",
    "    step=1,\n",
    "    description='Years:',\n",
    ")\n",
    "\n",
    "\n",
    "widgets.interact(plotYearRange, Zone = country_drop, Indicator = indicator_drop, Years = intslider)"
   ]
  },
  {
   "cell_type": "markdown",
   "metadata": {},
   "source": [
    "# Highest correlations region\n",
    "\n",
    "A similar widget as the one for the country but using a normalized dataframe."
   ]
  },
  {
   "cell_type": "code",
   "execution_count": 10,
   "metadata": {},
   "outputs": [
    {
     "data": {
      "application/vnd.jupyter.widget-view+json": {
       "model_id": "90af8620f3e442d7abbce79e681a1960",
       "version_major": 2,
       "version_minor": 0
      },
      "text/plain": [
       "interactive(children=(Dropdown(description='Region', index=5, options=('East Asia and Pacific', 'Europe and Ce…"
      ]
     },
     "metadata": {},
     "output_type": "display_data"
    }
   ],
   "source": [
    "def tableHighRegion(Region):\n",
    "\n",
    "    df_highest = generate_table()\n",
    "\n",
    "    #Search for the entries of the region and normalize.\n",
    "    df = load_by_region(Region)\n",
    "\n",
    "    #For all the combination of years...\n",
    "    for years in iterable:\n",
    "        df_aux = searchTimeSeries(0, years[0], years[1], True, df)\n",
    "        #Delete indicators which are not available that year\n",
    "        indicators_inter = list(set(indicators) & set(list(df_aux.index)))\n",
    "\n",
    "        #For all the indicators availble that year....\n",
    "        for indicator in indicators_inter:\n",
    "            #Algorithm to search for the highest value\n",
    "            indicator_corr_pos_last = df_highest[df_highest.index.get_level_values(0) == indicator][\"Highest positive Spearman corr\"][0]\n",
    "            indicator_corr_neg_last = df_highest[df_highest.index.get_level_values(0) == indicator][\"Highest negative Spearman corr\"][0]\n",
    "            \n",
    "            indicator_corr_aux = df_aux[df_aux.index.get_level_values(0) == indicator][\"GDP Spearman Corr\"][0]\n",
    "            indicator_p_value_aux = df_aux[df_aux.index.get_level_values(0) == indicator][\"P-value Spearman\"][0]\n",
    "\n",
    "            if indicator_corr_aux != nan and indicator_p_value_aux < PVALUE_VAR:\n",
    "                if indicator_corr_pos_last < indicator_corr_aux and indicator_corr_aux > 0:\n",
    "                    df_highest.at[indicator, \"Year range\"] = str(years[0]) + '-' + str(years[1])\n",
    "                    df_highest.at[indicator, \"Highest positive Spearman corr\"] = indicator_corr_aux\n",
    "                elif indicator_corr_neg_last > indicator_corr_aux and indicator_corr_aux < 0:\n",
    "                    df_highest.at[indicator, \"Year range \"] = str(years[0]) + '-' + str(years[1])\n",
    "                    df_highest.at[indicator, \"Highest negative Spearman corr\"] = indicator_corr_aux\n",
    "\n",
    "    df_highest = df_highest.replace(0, nan).dropna(axis=0, how='all').fillna(\"-\")\n",
    "    display(df_highest)\n",
    "\n",
    "@interact(\n",
    "    Region = sorted(set(df_gold['Region'].tolist())))\n",
    "def g(Region = 'South Asia'):\n",
    "    return tableHighRegion(Region)"
   ]
  }
 ],
 "metadata": {
  "kernelspec": {
   "display_name": "Python 3.10.5 ('.venv': poetry)",
   "language": "python",
   "name": "python3"
  },
  "language_info": {
   "codemirror_mode": {
    "name": "ipython",
    "version": 3
   },
   "file_extension": ".py",
   "mimetype": "text/x-python",
   "name": "python",
   "nbconvert_exporter": "python",
   "pygments_lexer": "ipython3",
   "version": "3.10.5"
  },
  "orig_nbformat": 4,
  "vscode": {
   "interpreter": {
    "hash": "44718ba4235bc6fc2135f9d8856f170c8312ddd29b08710a5ea28d42169e623e"
   }
  }
 },
 "nbformat": 4,
 "nbformat_minor": 2
}
