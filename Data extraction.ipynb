{
 "cells": [
  {
   "cell_type": "markdown",
   "metadata": {},
   "source": [
    "# Data importation"
   ]
  },
  {
   "cell_type": "markdown",
   "metadata": {},
   "source": [
    "In the following cells we are going to import the data from the [FAO website](https://www.fao.org/faostat/en/#home), from their FAOSTAT section, and decompress it."
   ]
  },
  {
   "cell_type": "code",
   "execution_count": 9,
   "metadata": {},
   "outputs": [],
   "source": [
    "import requests\n",
    "import glob\n",
    "import os"
   ]
  },
  {
   "cell_type": "markdown",
   "metadata": {},
   "source": [
    "To download the data from their site, as it is around 1000 Mb the compressed files, we are going to need a bypass of the <code>stream</code> <code>verify</code>. Therefore, at the end we will have the data downloaded in our working directory data by design. (It can be obtained with the following function <code>os.getcwd()</code>)"
   ]
  },
  {
   "cell_type": "code",
   "execution_count": null,
   "metadata": {},
   "outputs": [],
   "source": [
    "url = 'https://fenixservices.fao.org/faostat/static/bulkdownloads/FAOSTAT.zip'\n",
    "r = requests.get(url, allow_redirects=True, stream = True,verify=False)\n",
    "open('', 'wb').write(r.content)"
   ]
  },
  {
   "cell_type": "markdown",
   "metadata": {},
   "source": []
  },
  {
   "cell_type": "code",
   "execution_count": 4,
   "metadata": {},
   "outputs": [
    {
     "name": "stdout",
     "output_type": "stream",
     "text": [
      "File Name                                             Modified             Size\n",
      "ASTI_Expenditures_E_All_Data_(Normalized).zip  2021-12-16 08:50:12        26509\n",
      "ASTI_Researchers_E_All_Data_(Normalized).zip   2021-12-15 15:59:18        25152\n",
      "CommodityBalances_(non-food)_E_All_Data_(Normalized).zip 2021-12-03 14:52:36      7756971\n",
      "ConsumerPriceIndices_E_All_Data_(Normalized).zip 2022-01-12 12:29:18      1598642\n",
      "Deflators_E_All_Data_(Normalized).zip          2022-03-23 11:58:12       714529\n",
      "Development_Assistance_to_Agriculture_E_All_Data_(Normalized).zip 2021-06-22 18:35:12     90308389\n",
      "Emissions_Agriculture_Burning_crop_residues_E_All_Data_(Normalized).zip 2021-06-21 08:42:18      1246519\n",
      "Emissions_Agriculture_Crop_Residues_E_All_Data_(Normalized).zip 2021-06-17 11:11:58      3742768\n",
      "Emissions_Agriculture_Energy_E_All_Data_(Normalized).zip 2021-06-21 11:38:08      2652295\n",
      "Emissions_Agriculture_Enteric_Fermentation_E_All_Data_(Normalized).zip 2022-01-11 16:11:40      2987152\n",
      "Emissions_Agriculture_Manure_applied_to_soils_E_All_Data_(Normalized).zip 2021-06-17 18:16:00     19011719\n",
      "Emissions_Agriculture_Manure_left_on_pasture_E_All_Data_(Normalized).zip 2021-06-17 18:14:34     19185844\n",
      "Emissions_Agriculture_Manure_Management_E_All_Data_(Normalized).zip 2022-01-11 17:27:02     12417010\n",
      "Emissions_Agriculture_Rice_Cultivation_E_All_Data_(Normalized).zip 2021-06-18 11:10:56       163682\n",
      "Emissions_Agriculture_Synthetic_Fertilizers_E_All_Data_(Normalized).zip 2021-06-18 09:06:08       830529\n",
      "Emissions_Agriculture_Waste_Disposal_E_All_Data_(Normalized).zip 2020-11-19 12:34:20      1593280\n",
      "Emissions_Drained_Organic_Soils_E_All_Data_(Normalized).zip 2021-06-22 14:13:00       429686\n",
      "Emissions_Land_Use_Fires_E_All_Data_(Normalized).zip 2022-01-11 09:18:30      2447030\n",
      "Emissions_Land_Use_Forests_E_All_Data_(Normalized).zip 2022-01-11 16:39:04       307562\n",
      "Emissions_Totals_E_All_Data_(Normalized).zip   2022-01-14 15:06:40     10224738\n",
      "Employment_Indicators_Agriculture_E_All_Data_(Normalized).zip 2022-03-02 15:13:28      1362781\n",
      "Employment_Indicators_E_All_Data_(Normalized).zip 2021-12-14 20:00:32      2213956\n",
      "Employment_Indicators_Rural_E_All_Data_(Normalized).zip 2022-03-02 15:18:08       856273\n",
      "Environment_Emissions_by_Sector_E_All_Data_(Normalized).zip 2021-10-26 13:08:46     12779463\n",
      "Environment_Emissions_intensities_E_All_Data_(Normalized).zip 2021-12-03 16:49:20      3152113\n",
      "Environment_Fertilizers_E_All_Data_(Normalized).zip 2021-06-07 11:29:32       212885\n",
      "Environment_LandCover_E_All_Data_(Normalized).zip 2022-01-10 16:28:54      1506966\n",
      "Environment_LandUse_E_All_Data_(Normalized).zip 2021-07-02 10:59:22       989664\n",
      "Environment_LivestockManure_E_All_Data_(Normalized).zip 2021-03-24 15:26:10     23116390\n",
      "Environment_LivestockPatterns_E_All_Data_(Normalized).zip 2021-03-23 13:44:14      2913861\n",
      "Environment_Pesticides_E_All_Data_(Normalized).zip 2022-01-12 13:01:38        34025\n",
      "Environment_Soil_nutrient_budget_E_All_Data_(Normalized).zip 2021-11-17 07:40:26      1774492\n",
      "Environment_Temperature_change_E_All_Data_(Normalized).zip 2022-02-23 22:31:06      3184638\n",
      "Environment_Transport_E_All_Data_(Normalized).zip 2021-11-05 15:22:36       212882\n",
      "Exchange_rate_E_All_Data_(Normalized).zip      2021-05-11 16:50:28       102685\n",
      "FoodBalanceSheetsHistoric_E_All_Data_(Normalized).zip 2021-12-03 23:32:52     70048401\n",
      "FoodBalanceSheets_E_All_Data_(Normalized).zip  2022-02-14 10:45:16     17342096\n",
      "Food_Aid_Shipments_WFP_E_All_Data_(Normalized).zip 2021-12-03 17:29:04       252636\n",
      "Food_Security_Data_E_All_Data_(Normalized).zip 2022-04-06 11:24:42      1254704\n",
      "Forestal_Flujos_del_comercio_S_Asia.zip        2022-05-27 17:43:34      4774914\n",
      "Forestry_E_All_Data_(Normalized).zip           2021-12-16 11:46:30     15031595\n",
      "Forestry_Trade_Flows_E_All_Data_(Normalized).zip 2022-05-27 17:43:28     21773125\n",
      "Indicators_from_Household_Surveys_E_All_Data_(Normalized).zip 2019-11-26 12:22:40      1471096\n",
      "Inputs_FertilizersArchive_E_All_Data_(Normalized).zip 2020-09-09 12:28:34      1365617\n",
      "Inputs_FertilizersNutrient_E_All_Data_(Normalized).zip 2021-07-02 14:54:44       748338\n",
      "Inputs_FertilizersProduct_E_All_Data_(Normalized).zip 2021-07-02 15:15:06      1582898\n",
      "Inputs_LandUse_E_All_Data_(Normalized).zip     2021-06-17 10:44:00      1320338\n",
      "Inputs_Pesticides_Trade_E_All_Data_(Normalized).zip 2021-06-24 17:20:28      1300009\n",
      "Inputs_Pesticides_Use_E_All_Data_(Normalized).zip 2022-01-12 13:00:10       497791\n",
      "Investment_CapitalStock_E_All_Data_(Normalized).zip 2021-09-24 09:20:06      1220795\n",
      "Investment_CountryInvestmentStatisticsProfile_E_All_Data_(Normalized).zip 2022-02-09 12:47:54      1067346\n",
      "Investment_CreditAgriculture_E_All_Data_(Normalized).zip 2022-01-14 15:23:14       453404\n",
      "Investment_ForeignDirectInvestment_E_All_Data_(Normalized).zip 2021-10-19 16:05:18       312406\n",
      "Investment_GovernmentExpenditure_E_All_Data_(Normalized).zip 2021-11-30 10:06:32       794514\n",
      "Investment_MachineryArchive_E_All_Data_(Normalized).zip 2021-12-03 20:21:44      1813480\n",
      "Investment_Machinery_E_All_Data_(Normalized).zip 2021-12-03 19:39:56      1195922\n",
      "Macro-Statistics_Key_Indicators_E_All_Data_(Normalized).zip 2022-04-27 11:48:52      6473584\n",
      "Population_E_All_Data_(Normalized).zip         2021-12-03 17:49:54      1510374\n",
      "PricesArchive_E_All_Data_(Normalized).zip      2020-07-30 16:38:56       981509\n",
      "Prices_E_All_Data_(Normalized).zip             2022-03-22 11:08:30      9159764\n",
      "Production_Crops_Livestock_E_All_Data_(Normalized).zip 2022-02-25 15:24:26     28522665\n",
      "Production_Indices_E_All_Data_(Normalized).zip 2022-02-22 13:30:16     14855329\n",
      "SDG_BulkDownloads_E_All_Data_(Normalized).zip  2022-04-19 14:39:50      2097787\n",
      "SUA_Crops_Livestock_E_All_Data_(Normalized).zip 2022-02-11 15:57:30     64169556\n",
      "Trade_CropsLivestock_E_All_Data_(Normalized).zip 2022-04-20 20:37:40    113984760\n",
      "Trade_DetailedTradeMatrix_E_All_Data_(Normalized).zip 2021-12-10 13:48:38    302656759\n",
      "Trade_Indices_E_All_Data_(Normalized).zip      2022-04-26 16:01:48    101122534\n",
      "Value_of_Production_E_All_Data_(Normalized).zip 2022-03-30 18:42:08     25317154\n",
      "World_Census_Agriculture_E_All_Data_(Normalized).zip 2022-03-23 15:54:48       123121\n"
     ]
    }
   ],
   "source": [
    "from zipfile import ZipFile\n",
    "zip_name = \"FAOSTAT.zip\"\n",
    "with ZipFile(zip_name, 'r') as zip:\n",
    "    zip.printdir()\n",
    "    zip.extractall() "
   ]
  },
  {
   "cell_type": "markdown",
   "metadata": {},
   "source": []
  },
  {
   "cell_type": "code",
   "execution_count": 12,
   "metadata": {},
   "outputs": [
    {
     "name": "stdout",
     "output_type": "stream",
     "text": [
      "File Name                                             Modified             Size\n",
      "ASTI_Expenditures_E_All_Data_(Normalized).csv  2021-12-16 08:49:40       821767\n",
      "ASTI_Expenditures_E_Flags.csv                  2021-12-16 08:50:12           52\n",
      "File Name                                             Modified             Size\n",
      "ASTI_Researchers_E_All_Data_(Normalized).csv   2021-12-15 15:58:34       726579\n",
      "ASTI_Researchers_E_Flags.csv                   2021-12-15 15:59:18           52\n"
     ]
    }
   ],
   "source": [
    "zip_list = glob.glob(os.getcwd()+'/**.zip')\n",
    "for i in range(0, len(zip_list)):\n",
    "    with ZipFile(zip_list[i], 'r') as zip:\n",
    "        zip.printdir()\n",
    "        zip.extractall() "
   ]
  }
 ],
 "metadata": {
  "kernelspec": {
   "display_name": "Python 3.9.12 ('base')",
   "language": "python",
   "name": "python3"
  },
  "language_info": {
   "codemirror_mode": {
    "name": "ipython",
    "version": 3
   },
   "file_extension": ".py",
   "mimetype": "text/x-python",
   "name": "python",
   "nbconvert_exporter": "python",
   "pygments_lexer": "ipython3",
   "version": "3.9.12"
  },
  "orig_nbformat": 4,
  "vscode": {
   "interpreter": {
    "hash": "db2f77d7771d8a0072cf3f8e7f9965a22a9c65bf4f8ee5135b3d479c9967abaa"
   }
  }
 },
 "nbformat": 4,
 "nbformat_minor": 2
}
