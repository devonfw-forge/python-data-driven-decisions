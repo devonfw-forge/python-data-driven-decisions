{
 "cells": [
  {
   "cell_type": "code",
   "execution_count": 131,
   "metadata": {},
   "outputs": [
    {
     "name": "stdout",
     "output_type": "stream",
     "text": [
      "Requirement already satisfied: pandas in c:\\users\\mferna38\\appdata\\local\\programs\\python\\python310\\lib\\site-packages (1.4.2)\n",
      "Requirement already satisfied: pytz>=2020.1 in c:\\users\\mferna38\\appdata\\local\\programs\\python\\python310\\lib\\site-packages (from pandas) (2022.1)\n",
      "Requirement already satisfied: python-dateutil>=2.8.1 in c:\\users\\mferna38\\appdata\\local\\programs\\python\\python310\\lib\\site-packages (from pandas) (2.8.2)\n",
      "Requirement already satisfied: numpy>=1.21.0 in c:\\users\\mferna38\\appdata\\local\\programs\\python\\python310\\lib\\site-packages (from pandas) (1.22.4)\n",
      "Requirement already satisfied: six>=1.5 in c:\\users\\mferna38\\appdata\\local\\programs\\python\\python310\\lib\\site-packages (from python-dateutil>=2.8.1->pandas) (1.16.0)\n",
      "Note: you may need to restart the kernel to use updated packages.\n"
     ]
    },
    {
     "name": "stderr",
     "output_type": "stream",
     "text": [
      "WARNING: You are using pip version 22.0.4; however, version 22.1.2 is available.\n",
      "You should consider upgrading via the 'c:\\Users\\mferna38\\AppData\\Local\\Programs\\Python\\Python310\\python.exe -m pip install --upgrade pip' command.\n"
     ]
    }
   ],
   "source": [
    "pip install pandas\n",
    "#Hello team"
   ]
  },
  {
   "cell_type": "code",
   "execution_count": 132,
   "metadata": {},
   "outputs": [],
   "source": [
    "import pandas as pd\n",
    "import numpy as np"
   ]
  },
  {
   "cell_type": "code",
   "execution_count": 91,
   "metadata": {},
   "outputs": [],
   "source": [
    "import os\n",
    "os.getcwd()\n",
    "os.chdir(\"c:\\\\users\\\\mferna38\\\\Downloads\")"
   ]
  },
  {
   "cell_type": "code",
   "execution_count": 94,
   "metadata": {},
   "outputs": [
    {
     "name": "stdout",
     "output_type": "stream",
     "text": [
      "              Entity      Code  Year  \\\n",
      "0           Abkhazia  OWID_ABK  2015   \n",
      "1        Afghanistan       AFG  1950   \n",
      "2        Afghanistan       AFG  1951   \n",
      "3        Afghanistan       AFG  1952   \n",
      "4        Afghanistan       AFG  1953   \n",
      "...              ...       ...   ...   \n",
      "58469       Zimbabwe       ZWE  1947   \n",
      "58470       Zimbabwe       ZWE  1948   \n",
      "58471       Zimbabwe       ZWE  1949   \n",
      "58472       Zimbabwe       ZWE  2021   \n",
      "58473  Åland Islands       ALA  2015   \n",
      "\n",
      "       Estimates, 1950 - 2020: Annually interpolated demographic indicators - Total fertility (live births per woman)  \\\n",
      "0                                                    NaN                                                                \n",
      "1                                                   7.45                                                                \n",
      "2                                                   7.45                                                                \n",
      "3                                                   7.45                                                                \n",
      "4                                                   7.45                                                                \n",
      "...                                                  ...                                                                \n",
      "58469                                                NaN                                                                \n",
      "58470                                                NaN                                                                \n",
      "58471                                                NaN                                                                \n",
      "58472                                                NaN                                                                \n",
      "58473                                                NaN                                                                \n",
      "\n",
      "       Population (historical estimates) Continent  \n",
      "0                                    NaN      Asia  \n",
      "1                              7752117.0       NaN  \n",
      "2                              7840151.0       NaN  \n",
      "3                              7935996.0       NaN  \n",
      "4                              8039684.0       NaN  \n",
      "...                                  ...       ...  \n",
      "58469                          2575037.0       NaN  \n",
      "58470                          2624453.0       NaN  \n",
      "58471                          2681604.0       NaN  \n",
      "58472                         15092171.0       NaN  \n",
      "58473                                NaN    Europe  \n",
      "\n",
      "[58474 rows x 6 columns]\n"
     ]
    }
   ],
   "source": [
    "import csv\n",
    "gdp=pd.read_csv(\"c:\\\\Users\\\\mferna38\\\\Downloads\\\\maddison-data-gdp-per-capita-in-2011us.csv\")\n",
    "fertilityrate=pd.read_csv(\"c:\\\\Users\\\\mferna38\\\\Downloads\\\\total-fertility-rate-UN.csv\")\n",
    "childmort=pd.read_csv(\"c:\\\\Users\\\\mferna38\\\\Downloads\\\\child-mortality.csv\")\n",
    "print(fertilityrate)"
   ]
  },
  {
   "cell_type": "markdown",
   "metadata": {},
   "source": [
    "#NO CARGA\n",
    "fertilityrate.rename(columns = {3:'Fertility'}, inplace = True)\n",
    "childmort.rename(columns={3:'Mortality under 5'}, inplace = True)"
   ]
  },
  {
   "cell_type": "code",
   "execution_count": 95,
   "metadata": {},
   "outputs": [
    {
     "data": {
      "text/plain": [
       "['Entity',\n",
       " 'Code',\n",
       " 'Year',\n",
       " 'Estimates, 1950 - 2020: Annually interpolated demographic indicators - Total fertility (live births per woman)',\n",
       " 'Population (historical estimates)',\n",
       " 'Continent']"
      ]
     },
     "execution_count": 95,
     "metadata": {},
     "output_type": "execute_result"
    }
   ],
   "source": [
    "array = list(fertilityrate.columns)\n",
    "array[1:3]\n",
    "type(array)"
   ]
  },
  {
   "cell_type": "code",
   "execution_count": 96,
   "metadata": {},
   "outputs": [
    {
     "data": {
      "text/plain": [
       "['Entity',\n",
       " 'Code',\n",
       " 'Year',\n",
       " 'Estimates, 1950 - 2020: Annually interpolated demographic indicators - Under-five mortality (deaths under age 5 per 1,000 live births)']"
      ]
     },
     "execution_count": 96,
     "metadata": {},
     "output_type": "execute_result"
    }
   ],
   "source": [
    "list(childmort.columns)"
   ]
  },
  {
   "cell_type": "code",
   "execution_count": 108,
   "metadata": {},
   "outputs": [
    {
     "ename": "KeyError",
     "evalue": "\"['417485-annotations'] not found in axis\"",
     "output_type": "error",
     "traceback": [
      "\u001b[1;31m---------------------------------------------------------------------------\u001b[0m",
      "\u001b[1;31mKeyError\u001b[0m                                  Traceback (most recent call last)",
      "\u001b[1;32mc:\\Users\\mferna38\\Downloads\\GDP v2.ipynb Cell 8'\u001b[0m in \u001b[0;36m<cell line: 1>\u001b[1;34m()\u001b[0m\n\u001b[1;32m----> <a href='vscode-notebook-cell:/c%3A/Users/mferna38/Downloads/GDP%20v2.ipynb#ch0000021?line=0'>1</a>\u001b[0m gdp\u001b[39m.\u001b[39;49mdrop(\u001b[39m'\u001b[39;49m\u001b[39m417485-annotations\u001b[39;49m\u001b[39m'\u001b[39;49m,inplace\u001b[39m=\u001b[39;49m\u001b[39mTrue\u001b[39;49;00m, axis\u001b[39m=\u001b[39;49m\u001b[39m1\u001b[39;49m)\n",
      "File \u001b[1;32mc:\\Users\\mferna38\\AppData\\Local\\Programs\\Python\\Python310\\lib\\site-packages\\pandas\\util\\_decorators.py:311\u001b[0m, in \u001b[0;36mdeprecate_nonkeyword_arguments.<locals>.decorate.<locals>.wrapper\u001b[1;34m(*args, **kwargs)\u001b[0m\n\u001b[0;32m    <a href='file:///c%3A/Users/mferna38/AppData/Local/Programs/Python/Python310/lib/site-packages/pandas/util/_decorators.py?line=304'>305</a>\u001b[0m \u001b[39mif\u001b[39;00m \u001b[39mlen\u001b[39m(args) \u001b[39m>\u001b[39m num_allow_args:\n\u001b[0;32m    <a href='file:///c%3A/Users/mferna38/AppData/Local/Programs/Python/Python310/lib/site-packages/pandas/util/_decorators.py?line=305'>306</a>\u001b[0m     warnings\u001b[39m.\u001b[39mwarn(\n\u001b[0;32m    <a href='file:///c%3A/Users/mferna38/AppData/Local/Programs/Python/Python310/lib/site-packages/pandas/util/_decorators.py?line=306'>307</a>\u001b[0m         msg\u001b[39m.\u001b[39mformat(arguments\u001b[39m=\u001b[39marguments),\n\u001b[0;32m    <a href='file:///c%3A/Users/mferna38/AppData/Local/Programs/Python/Python310/lib/site-packages/pandas/util/_decorators.py?line=307'>308</a>\u001b[0m         \u001b[39mFutureWarning\u001b[39;00m,\n\u001b[0;32m    <a href='file:///c%3A/Users/mferna38/AppData/Local/Programs/Python/Python310/lib/site-packages/pandas/util/_decorators.py?line=308'>309</a>\u001b[0m         stacklevel\u001b[39m=\u001b[39mstacklevel,\n\u001b[0;32m    <a href='file:///c%3A/Users/mferna38/AppData/Local/Programs/Python/Python310/lib/site-packages/pandas/util/_decorators.py?line=309'>310</a>\u001b[0m     )\n\u001b[1;32m--> <a href='file:///c%3A/Users/mferna38/AppData/Local/Programs/Python/Python310/lib/site-packages/pandas/util/_decorators.py?line=310'>311</a>\u001b[0m \u001b[39mreturn\u001b[39;00m func(\u001b[39m*\u001b[39margs, \u001b[39m*\u001b[39m\u001b[39m*\u001b[39mkwargs)\n",
      "File \u001b[1;32mc:\\Users\\mferna38\\AppData\\Local\\Programs\\Python\\Python310\\lib\\site-packages\\pandas\\core\\frame.py:4954\u001b[0m, in \u001b[0;36mDataFrame.drop\u001b[1;34m(self, labels, axis, index, columns, level, inplace, errors)\u001b[0m\n\u001b[0;32m   <a href='file:///c%3A/Users/mferna38/AppData/Local/Programs/Python/Python310/lib/site-packages/pandas/core/frame.py?line=4805'>4806</a>\u001b[0m \u001b[39m@deprecate_nonkeyword_arguments\u001b[39m(version\u001b[39m=\u001b[39m\u001b[39mNone\u001b[39;00m, allowed_args\u001b[39m=\u001b[39m[\u001b[39m\"\u001b[39m\u001b[39mself\u001b[39m\u001b[39m\"\u001b[39m, \u001b[39m\"\u001b[39m\u001b[39mlabels\u001b[39m\u001b[39m\"\u001b[39m])\n\u001b[0;32m   <a href='file:///c%3A/Users/mferna38/AppData/Local/Programs/Python/Python310/lib/site-packages/pandas/core/frame.py?line=4806'>4807</a>\u001b[0m \u001b[39mdef\u001b[39;00m \u001b[39mdrop\u001b[39m(\n\u001b[0;32m   <a href='file:///c%3A/Users/mferna38/AppData/Local/Programs/Python/Python310/lib/site-packages/pandas/core/frame.py?line=4807'>4808</a>\u001b[0m     \u001b[39mself\u001b[39m,\n\u001b[1;32m   (...)\u001b[0m\n\u001b[0;32m   <a href='file:///c%3A/Users/mferna38/AppData/Local/Programs/Python/Python310/lib/site-packages/pandas/core/frame.py?line=4814'>4815</a>\u001b[0m     errors: \u001b[39mstr\u001b[39m \u001b[39m=\u001b[39m \u001b[39m\"\u001b[39m\u001b[39mraise\u001b[39m\u001b[39m\"\u001b[39m,\n\u001b[0;32m   <a href='file:///c%3A/Users/mferna38/AppData/Local/Programs/Python/Python310/lib/site-packages/pandas/core/frame.py?line=4815'>4816</a>\u001b[0m ):\n\u001b[0;32m   <a href='file:///c%3A/Users/mferna38/AppData/Local/Programs/Python/Python310/lib/site-packages/pandas/core/frame.py?line=4816'>4817</a>\u001b[0m     \u001b[39m\"\"\"\u001b[39;00m\n\u001b[0;32m   <a href='file:///c%3A/Users/mferna38/AppData/Local/Programs/Python/Python310/lib/site-packages/pandas/core/frame.py?line=4817'>4818</a>\u001b[0m \u001b[39m    Drop specified labels from rows or columns.\u001b[39;00m\n\u001b[0;32m   <a href='file:///c%3A/Users/mferna38/AppData/Local/Programs/Python/Python310/lib/site-packages/pandas/core/frame.py?line=4818'>4819</a>\u001b[0m \n\u001b[1;32m   (...)\u001b[0m\n\u001b[0;32m   <a href='file:///c%3A/Users/mferna38/AppData/Local/Programs/Python/Python310/lib/site-packages/pandas/core/frame.py?line=4951'>4952</a>\u001b[0m \u001b[39m            weight  1.0     0.8\u001b[39;00m\n\u001b[0;32m   <a href='file:///c%3A/Users/mferna38/AppData/Local/Programs/Python/Python310/lib/site-packages/pandas/core/frame.py?line=4952'>4953</a>\u001b[0m \u001b[39m    \"\"\"\u001b[39;00m\n\u001b[1;32m-> <a href='file:///c%3A/Users/mferna38/AppData/Local/Programs/Python/Python310/lib/site-packages/pandas/core/frame.py?line=4953'>4954</a>\u001b[0m     \u001b[39mreturn\u001b[39;00m \u001b[39msuper\u001b[39;49m()\u001b[39m.\u001b[39;49mdrop(\n\u001b[0;32m   <a href='file:///c%3A/Users/mferna38/AppData/Local/Programs/Python/Python310/lib/site-packages/pandas/core/frame.py?line=4954'>4955</a>\u001b[0m         labels\u001b[39m=\u001b[39;49mlabels,\n\u001b[0;32m   <a href='file:///c%3A/Users/mferna38/AppData/Local/Programs/Python/Python310/lib/site-packages/pandas/core/frame.py?line=4955'>4956</a>\u001b[0m         axis\u001b[39m=\u001b[39;49maxis,\n\u001b[0;32m   <a href='file:///c%3A/Users/mferna38/AppData/Local/Programs/Python/Python310/lib/site-packages/pandas/core/frame.py?line=4956'>4957</a>\u001b[0m         index\u001b[39m=\u001b[39;49mindex,\n\u001b[0;32m   <a href='file:///c%3A/Users/mferna38/AppData/Local/Programs/Python/Python310/lib/site-packages/pandas/core/frame.py?line=4957'>4958</a>\u001b[0m         columns\u001b[39m=\u001b[39;49mcolumns,\n\u001b[0;32m   <a href='file:///c%3A/Users/mferna38/AppData/Local/Programs/Python/Python310/lib/site-packages/pandas/core/frame.py?line=4958'>4959</a>\u001b[0m         level\u001b[39m=\u001b[39;49mlevel,\n\u001b[0;32m   <a href='file:///c%3A/Users/mferna38/AppData/Local/Programs/Python/Python310/lib/site-packages/pandas/core/frame.py?line=4959'>4960</a>\u001b[0m         inplace\u001b[39m=\u001b[39;49minplace,\n\u001b[0;32m   <a href='file:///c%3A/Users/mferna38/AppData/Local/Programs/Python/Python310/lib/site-packages/pandas/core/frame.py?line=4960'>4961</a>\u001b[0m         errors\u001b[39m=\u001b[39;49merrors,\n\u001b[0;32m   <a href='file:///c%3A/Users/mferna38/AppData/Local/Programs/Python/Python310/lib/site-packages/pandas/core/frame.py?line=4961'>4962</a>\u001b[0m     )\n",
      "File \u001b[1;32mc:\\Users\\mferna38\\AppData\\Local\\Programs\\Python\\Python310\\lib\\site-packages\\pandas\\core\\generic.py:4267\u001b[0m, in \u001b[0;36mNDFrame.drop\u001b[1;34m(self, labels, axis, index, columns, level, inplace, errors)\u001b[0m\n\u001b[0;32m   <a href='file:///c%3A/Users/mferna38/AppData/Local/Programs/Python/Python310/lib/site-packages/pandas/core/generic.py?line=4264'>4265</a>\u001b[0m \u001b[39mfor\u001b[39;00m axis, labels \u001b[39min\u001b[39;00m axes\u001b[39m.\u001b[39mitems():\n\u001b[0;32m   <a href='file:///c%3A/Users/mferna38/AppData/Local/Programs/Python/Python310/lib/site-packages/pandas/core/generic.py?line=4265'>4266</a>\u001b[0m     \u001b[39mif\u001b[39;00m labels \u001b[39mis\u001b[39;00m \u001b[39mnot\u001b[39;00m \u001b[39mNone\u001b[39;00m:\n\u001b[1;32m-> <a href='file:///c%3A/Users/mferna38/AppData/Local/Programs/Python/Python310/lib/site-packages/pandas/core/generic.py?line=4266'>4267</a>\u001b[0m         obj \u001b[39m=\u001b[39m obj\u001b[39m.\u001b[39;49m_drop_axis(labels, axis, level\u001b[39m=\u001b[39;49mlevel, errors\u001b[39m=\u001b[39;49merrors)\n\u001b[0;32m   <a href='file:///c%3A/Users/mferna38/AppData/Local/Programs/Python/Python310/lib/site-packages/pandas/core/generic.py?line=4268'>4269</a>\u001b[0m \u001b[39mif\u001b[39;00m inplace:\n\u001b[0;32m   <a href='file:///c%3A/Users/mferna38/AppData/Local/Programs/Python/Python310/lib/site-packages/pandas/core/generic.py?line=4269'>4270</a>\u001b[0m     \u001b[39mself\u001b[39m\u001b[39m.\u001b[39m_update_inplace(obj)\n",
      "File \u001b[1;32mc:\\Users\\mferna38\\AppData\\Local\\Programs\\Python\\Python310\\lib\\site-packages\\pandas\\core\\generic.py:4311\u001b[0m, in \u001b[0;36mNDFrame._drop_axis\u001b[1;34m(self, labels, axis, level, errors, consolidate, only_slice)\u001b[0m\n\u001b[0;32m   <a href='file:///c%3A/Users/mferna38/AppData/Local/Programs/Python/Python310/lib/site-packages/pandas/core/generic.py?line=4308'>4309</a>\u001b[0m         new_axis \u001b[39m=\u001b[39m axis\u001b[39m.\u001b[39mdrop(labels, level\u001b[39m=\u001b[39mlevel, errors\u001b[39m=\u001b[39merrors)\n\u001b[0;32m   <a href='file:///c%3A/Users/mferna38/AppData/Local/Programs/Python/Python310/lib/site-packages/pandas/core/generic.py?line=4309'>4310</a>\u001b[0m     \u001b[39melse\u001b[39;00m:\n\u001b[1;32m-> <a href='file:///c%3A/Users/mferna38/AppData/Local/Programs/Python/Python310/lib/site-packages/pandas/core/generic.py?line=4310'>4311</a>\u001b[0m         new_axis \u001b[39m=\u001b[39m axis\u001b[39m.\u001b[39;49mdrop(labels, errors\u001b[39m=\u001b[39;49merrors)\n\u001b[0;32m   <a href='file:///c%3A/Users/mferna38/AppData/Local/Programs/Python/Python310/lib/site-packages/pandas/core/generic.py?line=4311'>4312</a>\u001b[0m     indexer \u001b[39m=\u001b[39m axis\u001b[39m.\u001b[39mget_indexer(new_axis)\n\u001b[0;32m   <a href='file:///c%3A/Users/mferna38/AppData/Local/Programs/Python/Python310/lib/site-packages/pandas/core/generic.py?line=4313'>4314</a>\u001b[0m \u001b[39m# Case for non-unique axis\u001b[39;00m\n\u001b[0;32m   <a href='file:///c%3A/Users/mferna38/AppData/Local/Programs/Python/Python310/lib/site-packages/pandas/core/generic.py?line=4314'>4315</a>\u001b[0m \u001b[39melse\u001b[39;00m:\n",
      "File \u001b[1;32mc:\\Users\\mferna38\\AppData\\Local\\Programs\\Python\\Python310\\lib\\site-packages\\pandas\\core\\indexes\\base.py:6644\u001b[0m, in \u001b[0;36mIndex.drop\u001b[1;34m(self, labels, errors)\u001b[0m\n\u001b[0;32m   <a href='file:///c%3A/Users/mferna38/AppData/Local/Programs/Python/Python310/lib/site-packages/pandas/core/indexes/base.py?line=6641'>6642</a>\u001b[0m \u001b[39mif\u001b[39;00m mask\u001b[39m.\u001b[39many():\n\u001b[0;32m   <a href='file:///c%3A/Users/mferna38/AppData/Local/Programs/Python/Python310/lib/site-packages/pandas/core/indexes/base.py?line=6642'>6643</a>\u001b[0m     \u001b[39mif\u001b[39;00m errors \u001b[39m!=\u001b[39m \u001b[39m\"\u001b[39m\u001b[39mignore\u001b[39m\u001b[39m\"\u001b[39m:\n\u001b[1;32m-> <a href='file:///c%3A/Users/mferna38/AppData/Local/Programs/Python/Python310/lib/site-packages/pandas/core/indexes/base.py?line=6643'>6644</a>\u001b[0m         \u001b[39mraise\u001b[39;00m \u001b[39mKeyError\u001b[39;00m(\u001b[39mf\u001b[39m\u001b[39m\"\u001b[39m\u001b[39m{\u001b[39;00m\u001b[39mlist\u001b[39m(labels[mask])\u001b[39m}\u001b[39;00m\u001b[39m not found in axis\u001b[39m\u001b[39m\"\u001b[39m)\n\u001b[0;32m   <a href='file:///c%3A/Users/mferna38/AppData/Local/Programs/Python/Python310/lib/site-packages/pandas/core/indexes/base.py?line=6644'>6645</a>\u001b[0m     indexer \u001b[39m=\u001b[39m indexer[\u001b[39m~\u001b[39mmask]\n\u001b[0;32m   <a href='file:///c%3A/Users/mferna38/AppData/Local/Programs/Python/Python310/lib/site-packages/pandas/core/indexes/base.py?line=6645'>6646</a>\u001b[0m \u001b[39mreturn\u001b[39;00m \u001b[39mself\u001b[39m\u001b[39m.\u001b[39mdelete(indexer)\n",
      "\u001b[1;31mKeyError\u001b[0m: \"['417485-annotations'] not found in axis\""
     ]
    }
   ],
   "source": [
    "gdp.drop('417485-annotations',inplace=True, axis=1)"
   ]
  },
  {
   "cell_type": "code",
   "execution_count": 97,
   "metadata": {},
   "outputs": [],
   "source": [
    "fertilityrate.drop('Population (historical estimates)',inplace=True, axis=1)\n",
    "fertilityrate.drop('Continent',inplace=True, axis=1)"
   ]
  },
  {
   "cell_type": "code",
   "execution_count": 98,
   "metadata": {},
   "outputs": [],
   "source": [
    "fertilityrate.drop('Entity',inplace=True, axis=1)\n",
    "childmort.drop('Entity',inplace=True, axis=1)"
   ]
  },
  {
   "cell_type": "code",
   "execution_count": 109,
   "metadata": {},
   "outputs": [
    {
     "name": "stdout",
     "output_type": "stream",
     "text": [
      "             Entity Code  Year  GDP per capita  \\\n",
      "0       Afghanistan  AFG  1950          1156.0   \n",
      "1       Afghanistan  AFG  1951          1170.0   \n",
      "2       Afghanistan  AFG  1952          1189.0   \n",
      "3       Afghanistan  AFG  1953          1240.0   \n",
      "4       Afghanistan  AFG  1954          1245.0   \n",
      "...             ...  ...   ...             ...   \n",
      "349928          NaN  ZWE  1947             NaN   \n",
      "349929          NaN  ZWE  1948             NaN   \n",
      "349930          NaN  ZWE  1949             NaN   \n",
      "349931          NaN  ZWE  2021             NaN   \n",
      "349932          NaN  ALA  2015             NaN   \n",
      "\n",
      "        Estimates, 1950 - 2020: Annually interpolated demographic indicators - Total fertility (live births per woman)  \\\n",
      "0                                                    7.45                                                                \n",
      "1                                                    7.45                                                                \n",
      "2                                                    7.45                                                                \n",
      "3                                                    7.45                                                                \n",
      "4                                                    7.45                                                                \n",
      "...                                                   ...                                                                \n",
      "349928                                                NaN                                                                \n",
      "349929                                                NaN                                                                \n",
      "349930                                                NaN                                                                \n",
      "349931                                                NaN                                                                \n",
      "349932                                                NaN                                                                \n",
      "\n",
      "        Estimates, 1950 - 2020: Annually interpolated demographic indicators - Under-five mortality (deaths under age 5 per 1,000 live births)  \n",
      "0                                                 41.6952                                                                                       \n",
      "1                                                 41.4045                                                                                       \n",
      "2                                                 40.8172                                                                                       \n",
      "3                                                 40.2182                                                                                       \n",
      "4                                                 39.6077                                                                                       \n",
      "...                                                   ...                                                                                       \n",
      "349928                                                NaN                                                                                       \n",
      "349929                                                NaN                                                                                       \n",
      "349930                                                NaN                                                                                       \n",
      "349931                                                NaN                                                                                       \n",
      "349932                                                NaN                                                                                       \n",
      "\n",
      "[349933 rows x 6 columns]\n"
     ]
    }
   ],
   "source": [
    "import pandas as pd\n",
    "from functools import reduce\n",
    "all=[gdp,fertilityrate,childmort]\n",
    "final= reduce(lambda  left,right: pd.merge(left,right,on=['Code', 'Year'],how='outer'), all)\n",
    "print(final)"
   ]
  },
  {
   "cell_type": "code",
   "execution_count": null,
   "metadata": {},
   "outputs": [],
   "source": [
    "all = []\n",
    "gdp=pd.read_csv(\"c:\\\\Users\\\\mferna38\\\\Downloads\\\\maddison-data-gdp-per-capita-in-2011us.csv\")\n",
    "for csv_name in list_csv:\n",
    "    all.append(pd.read_csv(csv_name))"
   ]
  },
  {
   "cell_type": "code",
   "execution_count": 124,
   "metadata": {},
   "outputs": [
    {
     "data": {
      "text/html": [
       "<div>\n",
       "<style scoped>\n",
       "    .dataframe tbody tr th:only-of-type {\n",
       "        vertical-align: middle;\n",
       "    }\n",
       "\n",
       "    .dataframe tbody tr th {\n",
       "        vertical-align: top;\n",
       "    }\n",
       "\n",
       "    .dataframe thead th {\n",
       "        text-align: right;\n",
       "    }\n",
       "</style>\n",
       "<table border=\"1\" class=\"dataframe\">\n",
       "  <thead>\n",
       "    <tr style=\"text-align: right;\">\n",
       "      <th></th>\n",
       "      <th>Entity</th>\n",
       "      <th>Code</th>\n",
       "      <th>Year</th>\n",
       "      <th>GDP per capita</th>\n",
       "      <th>Estimates, 1950 - 2020: Annually interpolated demographic indicators - Total fertility (live births per woman)</th>\n",
       "      <th>Estimates, 1950 - 2020: Annually interpolated demographic indicators - Under-five mortality (deaths under age 5 per 1,000 live births)</th>\n",
       "    </tr>\n",
       "  </thead>\n",
       "  <tbody>\n",
       "    <tr>\n",
       "      <th>1</th>\n",
       "      <td>Afghanistan</td>\n",
       "      <td>AFG</td>\n",
       "      <td>1951</td>\n",
       "      <td>1170.0</td>\n",
       "      <td>7.45</td>\n",
       "      <td>41.4045</td>\n",
       "    </tr>\n",
       "    <tr>\n",
       "      <th>2</th>\n",
       "      <td>Afghanistan</td>\n",
       "      <td>AFG</td>\n",
       "      <td>1952</td>\n",
       "      <td>1189.0</td>\n",
       "      <td>7.45</td>\n",
       "      <td>40.8172</td>\n",
       "    </tr>\n",
       "    <tr>\n",
       "      <th>3</th>\n",
       "      <td>Afghanistan</td>\n",
       "      <td>AFG</td>\n",
       "      <td>1953</td>\n",
       "      <td>1240.0</td>\n",
       "      <td>7.45</td>\n",
       "      <td>40.2182</td>\n",
       "    </tr>\n",
       "    <tr>\n",
       "      <th>4</th>\n",
       "      <td>Afghanistan</td>\n",
       "      <td>AFG</td>\n",
       "      <td>1954</td>\n",
       "      <td>1245.0</td>\n",
       "      <td>7.45</td>\n",
       "      <td>39.6077</td>\n",
       "    </tr>\n",
       "    <tr>\n",
       "      <th>5</th>\n",
       "      <td>Afghanistan</td>\n",
       "      <td>AFG</td>\n",
       "      <td>1955</td>\n",
       "      <td>1246.0</td>\n",
       "      <td>7.45</td>\n",
       "      <td>38.9859</td>\n",
       "    </tr>\n",
       "    <tr>\n",
       "      <th>...</th>\n",
       "      <td>...</td>\n",
       "      <td>...</td>\n",
       "      <td>...</td>\n",
       "      <td>...</td>\n",
       "      <td>...</td>\n",
       "      <td>...</td>\n",
       "    </tr>\n",
       "    <tr>\n",
       "      <th>349928</th>\n",
       "      <td>NaN</td>\n",
       "      <td>ZWE</td>\n",
       "      <td>1947</td>\n",
       "      <td>NaN</td>\n",
       "      <td>NaN</td>\n",
       "      <td>NaN</td>\n",
       "    </tr>\n",
       "    <tr>\n",
       "      <th>349929</th>\n",
       "      <td>NaN</td>\n",
       "      <td>ZWE</td>\n",
       "      <td>1948</td>\n",
       "      <td>NaN</td>\n",
       "      <td>NaN</td>\n",
       "      <td>NaN</td>\n",
       "    </tr>\n",
       "    <tr>\n",
       "      <th>349930</th>\n",
       "      <td>NaN</td>\n",
       "      <td>ZWE</td>\n",
       "      <td>1949</td>\n",
       "      <td>NaN</td>\n",
       "      <td>NaN</td>\n",
       "      <td>NaN</td>\n",
       "    </tr>\n",
       "    <tr>\n",
       "      <th>349931</th>\n",
       "      <td>NaN</td>\n",
       "      <td>ZWE</td>\n",
       "      <td>2021</td>\n",
       "      <td>NaN</td>\n",
       "      <td>NaN</td>\n",
       "      <td>NaN</td>\n",
       "    </tr>\n",
       "    <tr>\n",
       "      <th>349932</th>\n",
       "      <td>NaN</td>\n",
       "      <td>ALA</td>\n",
       "      <td>2015</td>\n",
       "      <td>NaN</td>\n",
       "      <td>NaN</td>\n",
       "      <td>NaN</td>\n",
       "    </tr>\n",
       "  </tbody>\n",
       "</table>\n",
       "<p>349932 rows × 6 columns</p>\n",
       "</div>"
      ],
      "text/plain": [
       "             Entity Code  Year  GDP per capita  \\\n",
       "1       Afghanistan  AFG  1951          1170.0   \n",
       "2       Afghanistan  AFG  1952          1189.0   \n",
       "3       Afghanistan  AFG  1953          1240.0   \n",
       "4       Afghanistan  AFG  1954          1245.0   \n",
       "5       Afghanistan  AFG  1955          1246.0   \n",
       "...             ...  ...   ...             ...   \n",
       "349928          NaN  ZWE  1947             NaN   \n",
       "349929          NaN  ZWE  1948             NaN   \n",
       "349930          NaN  ZWE  1949             NaN   \n",
       "349931          NaN  ZWE  2021             NaN   \n",
       "349932          NaN  ALA  2015             NaN   \n",
       "\n",
       "        Estimates, 1950 - 2020: Annually interpolated demographic indicators - Total fertility (live births per woman)  \\\n",
       "1                                                    7.45                                                                \n",
       "2                                                    7.45                                                                \n",
       "3                                                    7.45                                                                \n",
       "4                                                    7.45                                                                \n",
       "5                                                    7.45                                                                \n",
       "...                                                   ...                                                                \n",
       "349928                                                NaN                                                                \n",
       "349929                                                NaN                                                                \n",
       "349930                                                NaN                                                                \n",
       "349931                                                NaN                                                                \n",
       "349932                                                NaN                                                                \n",
       "\n",
       "        Estimates, 1950 - 2020: Annually interpolated demographic indicators - Under-five mortality (deaths under age 5 per 1,000 live births)  \n",
       "1                                                 41.4045                                                                                       \n",
       "2                                                 40.8172                                                                                       \n",
       "3                                                 40.2182                                                                                       \n",
       "4                                                 39.6077                                                                                       \n",
       "5                                                 38.9859                                                                                       \n",
       "...                                                   ...                                                                                       \n",
       "349928                                                NaN                                                                                       \n",
       "349929                                                NaN                                                                                       \n",
       "349930                                                NaN                                                                                       \n",
       "349931                                                NaN                                                                                       \n",
       "349932                                                NaN                                                                                       \n",
       "\n",
       "[349932 rows x 6 columns]"
      ]
     },
     "execution_count": 124,
     "metadata": {},
     "output_type": "execute_result"
    }
   ],
   "source": [
    "import pandas as pd\n",
    "from functools import reduce\n",
    "all=[gdp,fertilityrate,childmort]\n",
    "final= reduce(lambda  left,right: pd.merge(left,right,on=['Code', 'Year'],how='outer'), all)[1:]\n",
    "final"
   ]
  },
  {
   "cell_type": "markdown",
   "metadata": {},
   "source": [
    "all=[gdp,fertilityrate,childmort] # list of dataframes\n",
    "def mergefiles(all, countfiles, i=0):\n",
    "    if i == (countfiles - 2): # it gets to the second to last and merges it with the last\n",
    "        return\n",
    "\n",
    "    dfm = all[i].merge(mergefiles(all[i+1], countfiles, i=i+1), on=['Code', 'Year'])\n",
    "    return dfm\n",
    "print(mergefiles(all, len(all)))"
   ]
  },
  {
   "cell_type": "markdown",
   "metadata": {},
   "source": [
    "import itertools as it\n",
    "all=[gdp,fertilityrate,childmort]\n",
    "comparison=pd.merge(gdp,fertilityrate,childmort,on=['Code', 'Year'])"
   ]
  },
  {
   "cell_type": "markdown",
   "metadata": {},
   "source": [
    "all= ['Code','Year','GDP per capita', 'c']\n",
    "list(fertilityrate.columns)[1:3]"
   ]
  },
  {
   "cell_type": "code",
   "execution_count": 126,
   "metadata": {},
   "outputs": [
    {
     "name": "stdout",
     "output_type": "stream",
     "text": [
      "        GDP_Est_corr  Est_Est_corr\n",
      "0                NaN           NaN\n",
      "1          -1.000000           inf\n",
      "2          -0.968328           NaN\n",
      "3          -0.901173           NaN\n",
      "4          -0.931342           NaN\n",
      "...              ...           ...\n",
      "349927           NaN           NaN\n",
      "349928           NaN           NaN\n",
      "349929           NaN           NaN\n",
      "349930           NaN           NaN\n",
      "349931           NaN           NaN\n",
      "\n",
      "[349932 rows x 2 columns]\n"
     ]
    }
   ],
   "source": [
    "cols=list(final.columns)[3:]\n",
    "col_pairs=list(it.combinations(cols,2))\n",
    "res=pd.DataFrame()\n",
    "for pair in col_pairs:\n",
    "    corr_name = f\"{pair[0][:3]}_{pair[1][:3]}_corr\"\n",
    "    res[corr_name] = final[list(pair)].\\\n",
    "                    rolling(min_periods=1, window=3).\\\n",
    "                    corr().iloc[0::2, -1].reset_index(drop=True)\n",
    "\n",
    "print(str(res))"
   ]
  },
  {
   "cell_type": "code",
   "execution_count": 138,
   "metadata": {},
   "outputs": [
    {
     "name": "stdout",
     "output_type": "stream",
     "text": [
      "Collecting seaborn\n",
      "  Downloading seaborn-0.11.2-py3-none-any.whl (292 kB)\n",
      "     -------------------------------------- 292.8/292.8 KB 2.6 MB/s eta 0:00:00\n",
      "Collecting matplotlib>=2.2\n",
      "  Downloading matplotlib-3.5.2-cp310-cp310-win_amd64.whl (7.2 MB)\n",
      "     ---------------------------------------- 7.2/7.2 MB 3.0 MB/s eta 0:00:00\n",
      "Requirement already satisfied: pandas>=0.23 in c:\\users\\mferna38\\appdata\\local\\programs\\python\\python310\\lib\\site-packages (from seaborn) (1.4.2)\n",
      "Requirement already satisfied: numpy>=1.15 in c:\\users\\mferna38\\appdata\\local\\programs\\python\\python310\\lib\\site-packages (from seaborn) (1.22.4)\n",
      "Collecting scipy>=1.0\n",
      "  Downloading scipy-1.8.1-cp310-cp310-win_amd64.whl (36.9 MB)\n",
      "     ---------------------------------------- 36.9/36.9 MB 3.1 MB/s eta 0:00:00\n",
      "Requirement already satisfied: pyparsing>=2.2.1 in c:\\users\\mferna38\\appdata\\local\\programs\\python\\python310\\lib\\site-packages (from matplotlib>=2.2->seaborn) (3.0.9)\n",
      "Collecting fonttools>=4.22.0\n",
      "  Downloading fonttools-4.33.3-py3-none-any.whl (930 kB)\n",
      "     -------------------------------------- 930.9/930.9 KB 2.5 MB/s eta 0:00:00\n",
      "Collecting cycler>=0.10\n",
      "  Downloading cycler-0.11.0-py3-none-any.whl (6.4 kB)\n",
      "Requirement already satisfied: python-dateutil>=2.7 in c:\\users\\mferna38\\appdata\\local\\programs\\python\\python310\\lib\\site-packages (from matplotlib>=2.2->seaborn) (2.8.2)\n",
      "Requirement already satisfied: packaging>=20.0 in c:\\users\\mferna38\\appdata\\local\\programs\\python\\python310\\lib\\site-packages (from matplotlib>=2.2->seaborn) (21.3)\n",
      "Collecting pillow>=6.2.0\n",
      "  Downloading Pillow-9.1.1-cp310-cp310-win_amd64.whl (3.3 MB)\n",
      "     ---------------------------------------- 3.3/3.3 MB 2.9 MB/s eta 0:00:00\n",
      "Collecting kiwisolver>=1.0.1\n",
      "  Downloading kiwisolver-1.4.2-cp310-cp310-win_amd64.whl (55 kB)\n",
      "     ---------------------------------------- 55.3/55.3 KB 1.5 MB/s eta 0:00:00\n",
      "Requirement already satisfied: pytz>=2020.1 in c:\\users\\mferna38\\appdata\\local\\programs\\python\\python310\\lib\\site-packages (from pandas>=0.23->seaborn) (2022.1)\n",
      "Requirement already satisfied: six>=1.5 in c:\\users\\mferna38\\appdata\\local\\programs\\python\\python310\\lib\\site-packages (from python-dateutil>=2.7->matplotlib>=2.2->seaborn) (1.16.0)\n",
      "Installing collected packages: scipy, pillow, kiwisolver, fonttools, cycler, matplotlib, seaborn\n",
      "Successfully installed cycler-0.11.0 fonttools-4.33.3 kiwisolver-1.4.2 matplotlib-3.5.2 pillow-9.1.1 scipy-1.8.1 seaborn-0.11.2\n",
      "Note: you may need to restart the kernel to use updated packages.\n"
     ]
    },
    {
     "name": "stderr",
     "output_type": "stream",
     "text": [
      "  WARNING: The scripts fonttools.exe, pyftmerge.exe, pyftsubset.exe and ttx.exe are installed in 'c:\\Users\\mferna38\\AppData\\Local\\Programs\\Python\\Python310\\Scripts' which is not on PATH.\n",
      "  Consider adding this directory to PATH or, if you prefer to suppress this warning, use --no-warn-script-location.\n",
      "WARNING: You are using pip version 22.0.4; however, version 22.1.2 is available.\n",
      "You should consider upgrading via the 'c:\\Users\\mferna38\\AppData\\Local\\Programs\\Python\\Python310\\python.exe -m pip install --upgrade pip' command.\n"
     ]
    }
   ],
   "source": [
    "pip install seaborn "
   ]
  },
  {
   "cell_type": "code",
   "execution_count": 143,
   "metadata": {},
   "outputs": [
    {
     "data": {
      "image/png": "[encoded data removed]",
      "text/plain": [
       "<Figure size 432x288 with 2 Axes>"
      ]
     },
     "metadata": {
      "needs_background": "light"
     },
     "output_type": "display_data"
    }
   ],
   "source": [
    "import matplotlib.pyplot as mp\n",
    "import pandas as pd\n",
    "import seaborn as sb\n",
    "dataplot=sb.heatmap(res)\n",
    "  \n",
    "# displaying heatmap\n",
    "mp.show()"
   ]
  },
  {
   "cell_type": "code",
   "execution_count": null,
   "metadata": {},
   "outputs": [],
   "source": []
  }
 ],
 "metadata": {
  "interpreter": {
   "hash": "e21cf16a31979fe9d2d6e9786ebc932e404e707404f15260e38504afc6c53159"
  },
  "kernelspec": {
   "display_name": "Python 3.10.4 64-bit",
   "language": "python",
   "name": "python3"
  },
  "language_info": {
   "codemirror_mode": {
    "name": "ipython",
    "version": 3
   },
   "file_extension": ".py",
   "mimetype": "text/x-python",
   "name": "python",
   "nbconvert_exporter": "python",
   "pygments_lexer": "ipython3",
   "version": "3.10.4"
  },
  "orig_nbformat": 4
 },
 "nbformat": 4,
 "nbformat_minor": 2
}
