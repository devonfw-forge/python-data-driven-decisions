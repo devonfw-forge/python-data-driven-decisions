{
 "cells": [
  {
   "cell_type": "markdown",
   "metadata": {},
   "source": [
    "# Graphs for demo"
   ]
  },
  {
   "cell_type": "code",
   "execution_count": 1,
   "metadata": {},
   "outputs": [],
   "source": [
    "\n",
    "import pandas as pd\n",
    "import plotly.express as px\n",
    "import seaborn as sns"
   ]
  },
  {
   "cell_type": "code",
   "execution_count": null,
   "metadata": {},
   "outputs": [],
   "source": [
    "df=#import clean data"
   ]
  },
  {
   "cell_type": "markdown",
   "metadata": {},
   "source": [
    "In the following cell we are going to define all the variables that we have and want to compare with the GDP"
   ]
  },
  {
   "cell_type": "code",
   "execution_count": 3,
   "metadata": {},
   "outputs": [],
   "source": [
    "variables=['Gender equality','Exports-Commercial services','Renewable electricity','Employment-agriculture','Employment-industry','Employment-services','Exports-G&S','Fertility rate','Foreign investment','Education GExp','Workers high education','Literacy rate','Mortality-pollution','Net migration','Mortality-infants','Health services use','R&D GExp','Ninis','Suicide','International taxes','Alcohol per capita']"
   ]
  },
  {
   "cell_type": "markdown",
   "metadata": {},
   "source": [
    "Moreover, we are going to create a loop that will allows us to visualize all the comparasions between the variables and the GDP through the years."
   ]
  },
  {
   "cell_type": "code",
   "execution_count": null,
   "metadata": {},
   "outputs": [],
   "source": [
    "for i in range(0, len(variables)):\n",
    "    px.scatter(df, x=\"GDP\", y=variables[i], animation_frame=\"Year\", animation_group=\"Country\", \n",
    "            color=\"continent\", hover_name=\"country\",log_x=True,size_max=55,    \n",
    "            range_x=[100,100000], range_y=[25,90], width=700, height=500)"
   ]
  },
  {
   "cell_type": "markdown",
   "metadata": {},
   "source": [
    "Lastly, we are going to provide a scatterplot of all posible variations of the data to see if there are any relationships between them as well as histograms."
   ]
  },
  {
   "cell_type": "code",
   "execution_count": null,
   "metadata": {},
   "outputs": [],
   "source": [
    "g = sns.PairGrid(df, diag_sharey=False, corner=True, hue=\"Continents\")\n",
    "g.map_lower(sns.scatterplot)\n",
    "g.map_diag(sns.kdeplot)\n",
    "g.add_legend()"
   ]
  },
  {
   "cell_type": "markdown",
   "metadata": {},
   "source": [
    "----"
   ]
  },
  {
   "cell_type": "code",
   "execution_count": null,
   "metadata": {},
   "outputs": [],
   "source": [
    "fig = px.choropleth(grp, locations=\"Country\", locationmode='country names', \n",
    "                     color=\"Active\", hover_name=\"Country/Region\",hover_data = [grp.Recovered,grp.Deaths,grp.Active],projection=\"natural earth\",\n",
    "                     animation_frame=\"Date\",width=800, height=500,\n",
    "                     color_continuous_scale='Reds',\n",
    "                     range_color=[1000,100000])\n",
    "fig.update(layout_coloraxis_showscale=True)\n",
    "fig.show()"
   ]
  },
  {
   "cell_type": "code",
   "execution_count": null,
   "metadata": {},
   "outputs": [],
   "source": [
    "grp = cases.groupby(['ObservationDate', 'Country/Region'])[['Confirmed', 'Deaths', 'Recovered']].max()\n",
    "grp = grp.reset_index()\n",
    "grp['Date'] = pd.to_datetime(grp['ObservationDate'])\n",
    "grp['Date'] = grp['Date'].dt.strftime('%m/%d/%Y')\n",
    "grp['Active'] = grp['Confirmed'] - grp['Recovered'] - grp['Deaths']\n",
    "grp['Country'] =  grp['Country/Region']"
   ]
  }
 ],
 "metadata": {
  "kernelspec": {
   "display_name": "Python 3.9.12 ('base')",
   "language": "python",
   "name": "python3"
  },
  "language_info": {
   "codemirror_mode": {
    "name": "ipython",
    "version": 3
   },
   "file_extension": ".py",
   "mimetype": "text/x-python",
   "name": "python",
   "nbconvert_exporter": "python",
   "pygments_lexer": "ipython3",
   "version": "3.9.12"
  },
  "orig_nbformat": 4,
  "vscode": {
   "interpreter": {
    "hash": "db2f77d7771d8a0072cf3f8e7f9965a22a9c65bf4f8ee5135b3d479c9967abaa"
   }
  }
 },
 "nbformat": 4,
 "nbformat_minor": 2
}
