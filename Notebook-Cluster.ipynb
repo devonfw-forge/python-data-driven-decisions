{
 "cells": [
  {
   "cell_type": "markdown",
   "metadata": {},
   "source": [
    "# Clustering\n",
    "\n",
    "In this notebook clustering is being applied to the correlation dataframe in order to group countries by similarity. The analysis will be performed for the different dimensions of the indicators: equality, socio-demographic and economic. In the end there is a global analysis  using all the indicators and giving a final conclusion to this notebook."
   ]
  },
  {
   "cell_type": "markdown",
   "metadata": {},
   "source": [
    "### Import\n",
    "\n",
    "Import all the libraries and the correlation dataframe generated in the Notebook-Golden."
   ]
  },
  {
   "cell_type": "code",
   "execution_count": 1,
   "metadata": {},
   "outputs": [],
   "source": [
    "import os\n",
    "import numpy as np\n",
    "import pandas as pd\n",
    "import matplotlib.pyplot as plt\n",
    "import plotly.express as px\n",
    "from numpy import sort\n",
    "from sklearn.manifold import TSNE\n",
    "import ipywidgets as widgets\n",
    "import seaborn as sns\n",
    "import warnings\n",
    "warnings.filterwarnings(\"ignore\")\n",
    "from matplotlib import gridspec\n",
    "from sklearn.cluster import OPTICS, cluster_optics_dbscan\n",
    "from sklearn.preprocessing import normalize, StandardScaler\n",
    "from sklearn.cluster import AffinityPropagation\n",
    "from ipywidgets import interact, interact_manual\n",
    "import matplotlib.pyplot as plt\n",
    "from matplotlib_venn import venn3\n",
    "\n",
    "output_path = os.getcwd() + '/Output/'\n",
    "col_country = 'Country'\n",
    "col_region = 'Region'\n",
    "col_year = 'Year'\n",
    "col_cluster = 'Cluster'\n",
    "col_1comp = '1st_component'\n",
    "col_2comp = '2nd_component'"
   ]
  },
  {
   "cell_type": "markdown",
   "metadata": {},
   "source": [
    "## LOADING THE DATAFRAME\n",
    "We will use the Pearson Correlation Dataframe. We could use Spearman's by simply changing the name of the file to be read."
   ]
  },
  {
   "cell_type": "code",
   "execution_count": 2,
   "metadata": {},
   "outputs": [
    {
     "data": {
      "text/html": [
       "<div>\n",
       "<style scoped>\n",
       "    .dataframe tbody tr th:only-of-type {\n",
       "        vertical-align: middle;\n",
       "    }\n",
       "\n",
       "    .dataframe tbody tr th {\n",
       "        vertical-align: top;\n",
       "    }\n",
       "\n",
       "    .dataframe thead th {\n",
       "        text-align: right;\n",
       "    }\n",
       "</style>\n",
       "<table border=\"1\" class=\"dataframe\">\n",
       "  <thead>\n",
       "    <tr style=\"text-align: right;\">\n",
       "      <th></th>\n",
       "      <th>AgriShareGDP</th>\n",
       "      <th>CreditToAgriFishForest</th>\n",
       "      <th>EmploymentRural</th>\n",
       "      <th>% Soldiers</th>\n",
       "      <th>Employment in industry</th>\n",
       "      <th>Employment in services</th>\n",
       "      <th>Birth Rate</th>\n",
       "      <th>Cost business start-up</th>\n",
       "      <th>Death Rate</th>\n",
       "      <th>Employment in agriculture</th>\n",
       "      <th>...</th>\n",
       "      <th>Researchers in R&amp;D</th>\n",
       "      <th>R&amp;D expenditure %GDP</th>\n",
       "      <th>% Rural Population</th>\n",
       "      <th>Tertiary School Gender Parity</th>\n",
       "      <th>% Vulnerable female employment</th>\n",
       "      <th>% Vulnerable male employment</th>\n",
       "      <th>Civil Liberties</th>\n",
       "      <th>Freedom of Expression</th>\n",
       "      <th>% Healthcare Investment</th>\n",
       "      <th>Population</th>\n",
       "    </tr>\n",
       "    <tr>\n",
       "      <th>Country</th>\n",
       "      <th></th>\n",
       "      <th></th>\n",
       "      <th></th>\n",
       "      <th></th>\n",
       "      <th></th>\n",
       "      <th></th>\n",
       "      <th></th>\n",
       "      <th></th>\n",
       "      <th></th>\n",
       "      <th></th>\n",
       "      <th></th>\n",
       "      <th></th>\n",
       "      <th></th>\n",
       "      <th></th>\n",
       "      <th></th>\n",
       "      <th></th>\n",
       "      <th></th>\n",
       "      <th></th>\n",
       "      <th></th>\n",
       "      <th></th>\n",
       "      <th></th>\n",
       "    </tr>\n",
       "  </thead>\n",
       "  <tbody>\n",
       "    <tr>\n",
       "      <th>Afghanistan</th>\n",
       "      <td>-0.864566</td>\n",
       "      <td>NaN</td>\n",
       "      <td>NaN</td>\n",
       "      <td>NaN</td>\n",
       "      <td>0.910685</td>\n",
       "      <td>0.911984</td>\n",
       "      <td>-0.914286</td>\n",
       "      <td>-0.736206</td>\n",
       "      <td>-0.914286</td>\n",
       "      <td>-0.910685</td>\n",
       "      <td>...</td>\n",
       "      <td>NaN</td>\n",
       "      <td>NaN</td>\n",
       "      <td>-0.914286</td>\n",
       "      <td>NaN</td>\n",
       "      <td>-0.910685</td>\n",
       "      <td>-0.910685</td>\n",
       "      <td>NaN</td>\n",
       "      <td>0.666451</td>\n",
       "      <td>NaN</td>\n",
       "      <td>0.914286</td>\n",
       "    </tr>\n",
       "    <tr>\n",
       "      <th>Albania</th>\n",
       "      <td>-0.486522</td>\n",
       "      <td>NaN</td>\n",
       "      <td>NaN</td>\n",
       "      <td>-0.782836</td>\n",
       "      <td>0.802469</td>\n",
       "      <td>0.766483</td>\n",
       "      <td>-0.854823</td>\n",
       "      <td>-0.767682</td>\n",
       "      <td>0.885714</td>\n",
       "      <td>-0.858720</td>\n",
       "      <td>...</td>\n",
       "      <td>NaN</td>\n",
       "      <td>NaN</td>\n",
       "      <td>-0.889610</td>\n",
       "      <td>NaN</td>\n",
       "      <td>NaN</td>\n",
       "      <td>-0.697629</td>\n",
       "      <td>0.796368</td>\n",
       "      <td>NaN</td>\n",
       "      <td>NaN</td>\n",
       "      <td>-0.888312</td>\n",
       "    </tr>\n",
       "    <tr>\n",
       "      <th>Algeria</th>\n",
       "      <td>NaN</td>\n",
       "      <td>NaN</td>\n",
       "      <td>NaN</td>\n",
       "      <td>-0.755527</td>\n",
       "      <td>0.853152</td>\n",
       "      <td>0.753491</td>\n",
       "      <td>0.874026</td>\n",
       "      <td>-0.725858</td>\n",
       "      <td>NaN</td>\n",
       "      <td>-0.750487</td>\n",
       "      <td>...</td>\n",
       "      <td>NaN</td>\n",
       "      <td>NaN</td>\n",
       "      <td>-0.750649</td>\n",
       "      <td>0.738578</td>\n",
       "      <td>-0.758688</td>\n",
       "      <td>NaN</td>\n",
       "      <td>0.696313</td>\n",
       "      <td>NaN</td>\n",
       "      <td>0.629927</td>\n",
       "      <td>0.750649</td>\n",
       "    </tr>\n",
       "    <tr>\n",
       "      <th>Angola</th>\n",
       "      <td>NaN</td>\n",
       "      <td>NaN</td>\n",
       "      <td>NaN</td>\n",
       "      <td>-0.755527</td>\n",
       "      <td>-0.648912</td>\n",
       "      <td>-0.924326</td>\n",
       "      <td>-0.753247</td>\n",
       "      <td>-0.748783</td>\n",
       "      <td>-0.753247</td>\n",
       "      <td>0.912634</td>\n",
       "      <td>...</td>\n",
       "      <td>NaN</td>\n",
       "      <td>NaN</td>\n",
       "      <td>-0.753247</td>\n",
       "      <td>NaN</td>\n",
       "      <td>0.673595</td>\n",
       "      <td>0.655408</td>\n",
       "      <td>0.744056</td>\n",
       "      <td>0.748459</td>\n",
       "      <td>NaN</td>\n",
       "      <td>0.753247</td>\n",
       "    </tr>\n",
       "    <tr>\n",
       "      <th>Argentina</th>\n",
       "      <td>-0.598246</td>\n",
       "      <td>0.569016</td>\n",
       "      <td>NaN</td>\n",
       "      <td>-0.733421</td>\n",
       "      <td>NaN</td>\n",
       "      <td>NaN</td>\n",
       "      <td>-0.761039</td>\n",
       "      <td>NaN</td>\n",
       "      <td>-0.761039</td>\n",
       "      <td>-0.721302</td>\n",
       "      <td>...</td>\n",
       "      <td>0.791166</td>\n",
       "      <td>0.870413</td>\n",
       "      <td>-0.761039</td>\n",
       "      <td>0.766483</td>\n",
       "      <td>NaN</td>\n",
       "      <td>-0.433907</td>\n",
       "      <td>NaN</td>\n",
       "      <td>-0.705732</td>\n",
       "      <td>NaN</td>\n",
       "      <td>0.761039</td>\n",
       "    </tr>\n",
       "    <tr>\n",
       "      <th>...</th>\n",
       "      <td>...</td>\n",
       "      <td>...</td>\n",
       "      <td>...</td>\n",
       "      <td>...</td>\n",
       "      <td>...</td>\n",
       "      <td>...</td>\n",
       "      <td>...</td>\n",
       "      <td>...</td>\n",
       "      <td>...</td>\n",
       "      <td>...</td>\n",
       "      <td>...</td>\n",
       "      <td>...</td>\n",
       "      <td>...</td>\n",
       "      <td>...</td>\n",
       "      <td>...</td>\n",
       "      <td>...</td>\n",
       "      <td>...</td>\n",
       "      <td>...</td>\n",
       "      <td>...</td>\n",
       "      <td>...</td>\n",
       "      <td>...</td>\n",
       "    </tr>\n",
       "    <tr>\n",
       "      <th>Uruguay</th>\n",
       "      <td>-0.587853</td>\n",
       "      <td>0.886652</td>\n",
       "      <td>NaN</td>\n",
       "      <td>-0.934981</td>\n",
       "      <td>-0.498214</td>\n",
       "      <td>0.764133</td>\n",
       "      <td>-0.901299</td>\n",
       "      <td>-0.896356</td>\n",
       "      <td>0.619481</td>\n",
       "      <td>-0.790516</td>\n",
       "      <td>...</td>\n",
       "      <td>NaN</td>\n",
       "      <td>0.574862</td>\n",
       "      <td>-0.901299</td>\n",
       "      <td>NaN</td>\n",
       "      <td>NaN</td>\n",
       "      <td>-0.503410</td>\n",
       "      <td>NaN</td>\n",
       "      <td>NaN</td>\n",
       "      <td>0.833388</td>\n",
       "      <td>0.902597</td>\n",
       "    </tr>\n",
       "    <tr>\n",
       "      <th>Uzbekistan</th>\n",
       "      <td>-0.714518</td>\n",
       "      <td>NaN</td>\n",
       "      <td>NaN</td>\n",
       "      <td>-0.672302</td>\n",
       "      <td>0.916531</td>\n",
       "      <td>0.743340</td>\n",
       "      <td>0.607537</td>\n",
       "      <td>-0.847464</td>\n",
       "      <td>-0.675026</td>\n",
       "      <td>-0.745047</td>\n",
       "      <td>...</td>\n",
       "      <td>-0.794805</td>\n",
       "      <td>-0.748052</td>\n",
       "      <td>-0.836364</td>\n",
       "      <td>-0.666234</td>\n",
       "      <td>-0.828191</td>\n",
       "      <td>-0.834687</td>\n",
       "      <td>NaN</td>\n",
       "      <td>0.525872</td>\n",
       "      <td>0.925625</td>\n",
       "      <td>0.850649</td>\n",
       "    </tr>\n",
       "    <tr>\n",
       "      <th>Vanuatu</th>\n",
       "      <td>NaN</td>\n",
       "      <td>-0.569106</td>\n",
       "      <td>NaN</td>\n",
       "      <td>NaN</td>\n",
       "      <td>0.967197</td>\n",
       "      <td>-0.632023</td>\n",
       "      <td>-0.971429</td>\n",
       "      <td>-0.838989</td>\n",
       "      <td>-0.944120</td>\n",
       "      <td>-0.939916</td>\n",
       "      <td>...</td>\n",
       "      <td>NaN</td>\n",
       "      <td>NaN</td>\n",
       "      <td>-0.971429</td>\n",
       "      <td>NaN</td>\n",
       "      <td>-0.971095</td>\n",
       "      <td>-0.781423</td>\n",
       "      <td>0.827089</td>\n",
       "      <td>NaN</td>\n",
       "      <td>-0.813901</td>\n",
       "      <td>0.971429</td>\n",
       "    </tr>\n",
       "    <tr>\n",
       "      <th>Zambia</th>\n",
       "      <td>-0.815200</td>\n",
       "      <td>0.728456</td>\n",
       "      <td>NaN</td>\n",
       "      <td>-0.850456</td>\n",
       "      <td>0.863548</td>\n",
       "      <td>0.697629</td>\n",
       "      <td>-0.837662</td>\n",
       "      <td>NaN</td>\n",
       "      <td>-0.837662</td>\n",
       "      <td>-0.723612</td>\n",
       "      <td>...</td>\n",
       "      <td>NaN</td>\n",
       "      <td>NaN</td>\n",
       "      <td>-0.837662</td>\n",
       "      <td>NaN</td>\n",
       "      <td>-0.806755</td>\n",
       "      <td>-0.719714</td>\n",
       "      <td>-0.658414</td>\n",
       "      <td>-0.531383</td>\n",
       "      <td>-0.547724</td>\n",
       "      <td>0.837662</td>\n",
       "    </tr>\n",
       "    <tr>\n",
       "      <th>Zimbabwe</th>\n",
       "      <td>-0.669698</td>\n",
       "      <td>NaN</td>\n",
       "      <td>NaN</td>\n",
       "      <td>-0.841353</td>\n",
       "      <td>-0.782722</td>\n",
       "      <td>NaN</td>\n",
       "      <td>NaN</td>\n",
       "      <td>-0.884333</td>\n",
       "      <td>-0.905195</td>\n",
       "      <td>0.563170</td>\n",
       "      <td>...</td>\n",
       "      <td>NaN</td>\n",
       "      <td>NaN</td>\n",
       "      <td>0.877922</td>\n",
       "      <td>NaN</td>\n",
       "      <td>NaN</td>\n",
       "      <td>0.512504</td>\n",
       "      <td>0.637875</td>\n",
       "      <td>0.913470</td>\n",
       "      <td>NaN</td>\n",
       "      <td>0.832468</td>\n",
       "    </tr>\n",
       "  </tbody>\n",
       "</table>\n",
       "<p>154 rows × 28 columns</p>\n",
       "</div>"
      ],
      "text/plain": [
       "             AgriShareGDP  CreditToAgriFishForest  EmploymentRural  \\\n",
       "Country                                                              \n",
       "Afghanistan     -0.864566                     NaN              NaN   \n",
       "Albania         -0.486522                     NaN              NaN   \n",
       "Algeria               NaN                     NaN              NaN   \n",
       "Angola                NaN                     NaN              NaN   \n",
       "Argentina       -0.598246                0.569016              NaN   \n",
       "...                   ...                     ...              ...   \n",
       "Uruguay         -0.587853                0.886652              NaN   \n",
       "Uzbekistan      -0.714518                     NaN              NaN   \n",
       "Vanuatu               NaN               -0.569106              NaN   \n",
       "Zambia          -0.815200                0.728456              NaN   \n",
       "Zimbabwe        -0.669698                     NaN              NaN   \n",
       "\n",
       "             % Soldiers  Employment in industry  Employment in services  \\\n",
       "Country                                                                   \n",
       "Afghanistan         NaN                0.910685                0.911984   \n",
       "Albania       -0.782836                0.802469                0.766483   \n",
       "Algeria       -0.755527                0.853152                0.753491   \n",
       "Angola        -0.755527               -0.648912               -0.924326   \n",
       "Argentina     -0.733421                     NaN                     NaN   \n",
       "...                 ...                     ...                     ...   \n",
       "Uruguay       -0.934981               -0.498214                0.764133   \n",
       "Uzbekistan    -0.672302                0.916531                0.743340   \n",
       "Vanuatu             NaN                0.967197               -0.632023   \n",
       "Zambia        -0.850456                0.863548                0.697629   \n",
       "Zimbabwe      -0.841353               -0.782722                     NaN   \n",
       "\n",
       "             Birth Rate  Cost business start-up  Death Rate  \\\n",
       "Country                                                       \n",
       "Afghanistan   -0.914286               -0.736206   -0.914286   \n",
       "Albania       -0.854823               -0.767682    0.885714   \n",
       "Algeria        0.874026               -0.725858         NaN   \n",
       "Angola        -0.753247               -0.748783   -0.753247   \n",
       "Argentina     -0.761039                     NaN   -0.761039   \n",
       "...                 ...                     ...         ...   \n",
       "Uruguay       -0.901299               -0.896356    0.619481   \n",
       "Uzbekistan     0.607537               -0.847464   -0.675026   \n",
       "Vanuatu       -0.971429               -0.838989   -0.944120   \n",
       "Zambia        -0.837662                     NaN   -0.837662   \n",
       "Zimbabwe            NaN               -0.884333   -0.905195   \n",
       "\n",
       "             Employment in agriculture  ...  Researchers in R&D  \\\n",
       "Country                                 ...                       \n",
       "Afghanistan                  -0.910685  ...                 NaN   \n",
       "Albania                      -0.858720  ...                 NaN   \n",
       "Algeria                      -0.750487  ...                 NaN   \n",
       "Angola                        0.912634  ...                 NaN   \n",
       "Argentina                    -0.721302  ...            0.791166   \n",
       "...                                ...  ...                 ...   \n",
       "Uruguay                      -0.790516  ...                 NaN   \n",
       "Uzbekistan                   -0.745047  ...           -0.794805   \n",
       "Vanuatu                      -0.939916  ...                 NaN   \n",
       "Zambia                       -0.723612  ...                 NaN   \n",
       "Zimbabwe                      0.563170  ...                 NaN   \n",
       "\n",
       "             R&D expenditure %GDP  % Rural Population  \\\n",
       "Country                                                 \n",
       "Afghanistan                   NaN           -0.914286   \n",
       "Albania                       NaN           -0.889610   \n",
       "Algeria                       NaN           -0.750649   \n",
       "Angola                        NaN           -0.753247   \n",
       "Argentina                0.870413           -0.761039   \n",
       "...                           ...                 ...   \n",
       "Uruguay                  0.574862           -0.901299   \n",
       "Uzbekistan              -0.748052           -0.836364   \n",
       "Vanuatu                       NaN           -0.971429   \n",
       "Zambia                        NaN           -0.837662   \n",
       "Zimbabwe                      NaN            0.877922   \n",
       "\n",
       "             Tertiary School Gender Parity  % Vulnerable female employment  \\\n",
       "Country                                                                      \n",
       "Afghanistan                            NaN                       -0.910685   \n",
       "Albania                                NaN                             NaN   \n",
       "Algeria                           0.738578                       -0.758688   \n",
       "Angola                                 NaN                        0.673595   \n",
       "Argentina                         0.766483                             NaN   \n",
       "...                                    ...                             ...   \n",
       "Uruguay                                NaN                             NaN   \n",
       "Uzbekistan                       -0.666234                       -0.828191   \n",
       "Vanuatu                                NaN                       -0.971095   \n",
       "Zambia                                 NaN                       -0.806755   \n",
       "Zimbabwe                               NaN                             NaN   \n",
       "\n",
       "             % Vulnerable male employment  Civil Liberties  \\\n",
       "Country                                                      \n",
       "Afghanistan                     -0.910685              NaN   \n",
       "Albania                         -0.697629         0.796368   \n",
       "Algeria                               NaN         0.696313   \n",
       "Angola                           0.655408         0.744056   \n",
       "Argentina                       -0.433907              NaN   \n",
       "...                                   ...              ...   \n",
       "Uruguay                         -0.503410              NaN   \n",
       "Uzbekistan                      -0.834687              NaN   \n",
       "Vanuatu                         -0.781423         0.827089   \n",
       "Zambia                          -0.719714        -0.658414   \n",
       "Zimbabwe                         0.512504         0.637875   \n",
       "\n",
       "             Freedom of Expression  % Healthcare Investment  Population  \n",
       "Country                                                                  \n",
       "Afghanistan               0.666451                      NaN    0.914286  \n",
       "Albania                        NaN                      NaN   -0.888312  \n",
       "Algeria                        NaN                 0.629927    0.750649  \n",
       "Angola                    0.748459                      NaN    0.753247  \n",
       "Argentina                -0.705732                      NaN    0.761039  \n",
       "...                            ...                      ...         ...  \n",
       "Uruguay                        NaN                 0.833388    0.902597  \n",
       "Uzbekistan                0.525872                 0.925625    0.850649  \n",
       "Vanuatu                        NaN                -0.813901    0.971429  \n",
       "Zambia                   -0.531383                -0.547724    0.837662  \n",
       "Zimbabwe                  0.913470                      NaN    0.832468  \n",
       "\n",
       "[154 rows x 28 columns]"
      ]
     },
     "execution_count": 2,
     "metadata": {},
     "output_type": "execute_result"
    }
   ],
   "source": [
    "corr_df = pd.read_csv(output_path + 'Corr_DF_spearman.csv', index_col = col_country)\n",
    "corr_df"
   ]
  },
  {
   "cell_type": "markdown",
   "metadata": {},
   "source": [
    "## DEFINING THE GROUPS\n",
    "\n",
    "In order to carry out a more sensitive study, we will not only study the indicators as a whole, but also separate them in the following groups to study them more in-depth."
   ]
  },
  {
   "cell_type": "code",
   "execution_count": 3,
   "metadata": {},
   "outputs": [
    {
     "name": "stdout",
     "output_type": "stream",
     "text": [
      "Economic Indicators\n"
     ]
    },
    {
     "data": {
      "text/html": [
       "<div>\n",
       "<style scoped>\n",
       "    .dataframe tbody tr th:only-of-type {\n",
       "        vertical-align: middle;\n",
       "    }\n",
       "\n",
       "    .dataframe tbody tr th {\n",
       "        vertical-align: top;\n",
       "    }\n",
       "\n",
       "    .dataframe thead th {\n",
       "        text-align: right;\n",
       "    }\n",
       "</style>\n",
       "<table border=\"1\" class=\"dataframe\">\n",
       "  <thead>\n",
       "    <tr style=\"text-align: right;\">\n",
       "      <th></th>\n",
       "      <th>AgriShareGDP</th>\n",
       "      <th>CreditToAgriFishForest</th>\n",
       "      <th>EmploymentRural</th>\n",
       "      <th>% Soldiers</th>\n",
       "      <th>Employment in industry</th>\n",
       "      <th>Employment in services</th>\n",
       "      <th>Cost business start-up</th>\n",
       "      <th>Employment in agriculture</th>\n",
       "      <th>% Education Expenditure</th>\n",
       "      <th>Researchers in R&amp;D</th>\n",
       "      <th>R&amp;D expenditure %GDP</th>\n",
       "      <th>% Healthcare Investment</th>\n",
       "    </tr>\n",
       "    <tr>\n",
       "      <th>Country</th>\n",
       "      <th></th>\n",
       "      <th></th>\n",
       "      <th></th>\n",
       "      <th></th>\n",
       "      <th></th>\n",
       "      <th></th>\n",
       "      <th></th>\n",
       "      <th></th>\n",
       "      <th></th>\n",
       "      <th></th>\n",
       "      <th></th>\n",
       "      <th></th>\n",
       "    </tr>\n",
       "  </thead>\n",
       "  <tbody>\n",
       "    <tr>\n",
       "      <th>Afghanistan</th>\n",
       "      <td>-0.864566</td>\n",
       "      <td>0.000000</td>\n",
       "      <td>0.0</td>\n",
       "      <td>0.000000</td>\n",
       "      <td>0.910685</td>\n",
       "      <td>0.911984</td>\n",
       "      <td>-0.736206</td>\n",
       "      <td>-0.910685</td>\n",
       "      <td>0.000000</td>\n",
       "      <td>0.000000</td>\n",
       "      <td>0.000000</td>\n",
       "      <td>0.000000</td>\n",
       "    </tr>\n",
       "    <tr>\n",
       "      <th>Albania</th>\n",
       "      <td>-0.486522</td>\n",
       "      <td>0.000000</td>\n",
       "      <td>0.0</td>\n",
       "      <td>-0.782836</td>\n",
       "      <td>0.802469</td>\n",
       "      <td>0.766483</td>\n",
       "      <td>-0.767682</td>\n",
       "      <td>-0.858720</td>\n",
       "      <td>0.000000</td>\n",
       "      <td>0.000000</td>\n",
       "      <td>0.000000</td>\n",
       "      <td>0.000000</td>\n",
       "    </tr>\n",
       "    <tr>\n",
       "      <th>Algeria</th>\n",
       "      <td>0.000000</td>\n",
       "      <td>0.000000</td>\n",
       "      <td>0.0</td>\n",
       "      <td>-0.755527</td>\n",
       "      <td>0.853152</td>\n",
       "      <td>0.753491</td>\n",
       "      <td>-0.725858</td>\n",
       "      <td>-0.750487</td>\n",
       "      <td>0.000000</td>\n",
       "      <td>0.000000</td>\n",
       "      <td>0.000000</td>\n",
       "      <td>0.629927</td>\n",
       "    </tr>\n",
       "    <tr>\n",
       "      <th>Angola</th>\n",
       "      <td>0.000000</td>\n",
       "      <td>0.000000</td>\n",
       "      <td>0.0</td>\n",
       "      <td>-0.755527</td>\n",
       "      <td>-0.648912</td>\n",
       "      <td>-0.924326</td>\n",
       "      <td>-0.748783</td>\n",
       "      <td>0.912634</td>\n",
       "      <td>0.493506</td>\n",
       "      <td>0.000000</td>\n",
       "      <td>0.000000</td>\n",
       "      <td>0.000000</td>\n",
       "    </tr>\n",
       "    <tr>\n",
       "      <th>Argentina</th>\n",
       "      <td>-0.598246</td>\n",
       "      <td>0.569016</td>\n",
       "      <td>0.0</td>\n",
       "      <td>-0.733421</td>\n",
       "      <td>0.000000</td>\n",
       "      <td>0.000000</td>\n",
       "      <td>0.000000</td>\n",
       "      <td>-0.721302</td>\n",
       "      <td>0.875609</td>\n",
       "      <td>0.791166</td>\n",
       "      <td>0.870413</td>\n",
       "      <td>0.000000</td>\n",
       "    </tr>\n",
       "    <tr>\n",
       "      <th>...</th>\n",
       "      <td>...</td>\n",
       "      <td>...</td>\n",
       "      <td>...</td>\n",
       "      <td>...</td>\n",
       "      <td>...</td>\n",
       "      <td>...</td>\n",
       "      <td>...</td>\n",
       "      <td>...</td>\n",
       "      <td>...</td>\n",
       "      <td>...</td>\n",
       "      <td>...</td>\n",
       "      <td>...</td>\n",
       "    </tr>\n",
       "    <tr>\n",
       "      <th>Uruguay</th>\n",
       "      <td>-0.587853</td>\n",
       "      <td>0.886652</td>\n",
       "      <td>0.0</td>\n",
       "      <td>-0.934981</td>\n",
       "      <td>-0.498214</td>\n",
       "      <td>0.764133</td>\n",
       "      <td>-0.896356</td>\n",
       "      <td>-0.790516</td>\n",
       "      <td>0.000000</td>\n",
       "      <td>0.000000</td>\n",
       "      <td>0.574862</td>\n",
       "      <td>0.833388</td>\n",
       "    </tr>\n",
       "    <tr>\n",
       "      <th>Uzbekistan</th>\n",
       "      <td>-0.714518</td>\n",
       "      <td>0.000000</td>\n",
       "      <td>0.0</td>\n",
       "      <td>-0.672302</td>\n",
       "      <td>0.916531</td>\n",
       "      <td>0.743340</td>\n",
       "      <td>-0.847464</td>\n",
       "      <td>-0.745047</td>\n",
       "      <td>0.000000</td>\n",
       "      <td>-0.794805</td>\n",
       "      <td>-0.748052</td>\n",
       "      <td>0.925625</td>\n",
       "    </tr>\n",
       "    <tr>\n",
       "      <th>Vanuatu</th>\n",
       "      <td>0.000000</td>\n",
       "      <td>-0.569106</td>\n",
       "      <td>0.0</td>\n",
       "      <td>0.000000</td>\n",
       "      <td>0.967197</td>\n",
       "      <td>-0.632023</td>\n",
       "      <td>-0.838989</td>\n",
       "      <td>-0.939916</td>\n",
       "      <td>0.000000</td>\n",
       "      <td>0.000000</td>\n",
       "      <td>0.000000</td>\n",
       "      <td>-0.813901</td>\n",
       "    </tr>\n",
       "    <tr>\n",
       "      <th>Zambia</th>\n",
       "      <td>-0.815200</td>\n",
       "      <td>0.728456</td>\n",
       "      <td>0.0</td>\n",
       "      <td>-0.850456</td>\n",
       "      <td>0.863548</td>\n",
       "      <td>0.697629</td>\n",
       "      <td>0.000000</td>\n",
       "      <td>-0.723612</td>\n",
       "      <td>0.803896</td>\n",
       "      <td>0.000000</td>\n",
       "      <td>0.000000</td>\n",
       "      <td>-0.547724</td>\n",
       "    </tr>\n",
       "    <tr>\n",
       "      <th>Zimbabwe</th>\n",
       "      <td>-0.669698</td>\n",
       "      <td>0.000000</td>\n",
       "      <td>0.0</td>\n",
       "      <td>-0.841353</td>\n",
       "      <td>-0.782722</td>\n",
       "      <td>0.000000</td>\n",
       "      <td>-0.884333</td>\n",
       "      <td>0.563170</td>\n",
       "      <td>0.000000</td>\n",
       "      <td>0.000000</td>\n",
       "      <td>0.000000</td>\n",
       "      <td>0.000000</td>\n",
       "    </tr>\n",
       "  </tbody>\n",
       "</table>\n",
       "<p>152 rows × 12 columns</p>\n",
       "</div>"
      ],
      "text/plain": [
       "             AgriShareGDP  CreditToAgriFishForest  EmploymentRural  \\\n",
       "Country                                                              \n",
       "Afghanistan     -0.864566                0.000000              0.0   \n",
       "Albania         -0.486522                0.000000              0.0   \n",
       "Algeria          0.000000                0.000000              0.0   \n",
       "Angola           0.000000                0.000000              0.0   \n",
       "Argentina       -0.598246                0.569016              0.0   \n",
       "...                   ...                     ...              ...   \n",
       "Uruguay         -0.587853                0.886652              0.0   \n",
       "Uzbekistan      -0.714518                0.000000              0.0   \n",
       "Vanuatu          0.000000               -0.569106              0.0   \n",
       "Zambia          -0.815200                0.728456              0.0   \n",
       "Zimbabwe        -0.669698                0.000000              0.0   \n",
       "\n",
       "             % Soldiers  Employment in industry  Employment in services  \\\n",
       "Country                                                                   \n",
       "Afghanistan    0.000000                0.910685                0.911984   \n",
       "Albania       -0.782836                0.802469                0.766483   \n",
       "Algeria       -0.755527                0.853152                0.753491   \n",
       "Angola        -0.755527               -0.648912               -0.924326   \n",
       "Argentina     -0.733421                0.000000                0.000000   \n",
       "...                 ...                     ...                     ...   \n",
       "Uruguay       -0.934981               -0.498214                0.764133   \n",
       "Uzbekistan    -0.672302                0.916531                0.743340   \n",
       "Vanuatu        0.000000                0.967197               -0.632023   \n",
       "Zambia        -0.850456                0.863548                0.697629   \n",
       "Zimbabwe      -0.841353               -0.782722                0.000000   \n",
       "\n",
       "             Cost business start-up  Employment in agriculture  \\\n",
       "Country                                                          \n",
       "Afghanistan               -0.736206                  -0.910685   \n",
       "Albania                   -0.767682                  -0.858720   \n",
       "Algeria                   -0.725858                  -0.750487   \n",
       "Angola                    -0.748783                   0.912634   \n",
       "Argentina                  0.000000                  -0.721302   \n",
       "...                             ...                        ...   \n",
       "Uruguay                   -0.896356                  -0.790516   \n",
       "Uzbekistan                -0.847464                  -0.745047   \n",
       "Vanuatu                   -0.838989                  -0.939916   \n",
       "Zambia                     0.000000                  -0.723612   \n",
       "Zimbabwe                  -0.884333                   0.563170   \n",
       "\n",
       "             % Education Expenditure  Researchers in R&D  \\\n",
       "Country                                                    \n",
       "Afghanistan                 0.000000            0.000000   \n",
       "Albania                     0.000000            0.000000   \n",
       "Algeria                     0.000000            0.000000   \n",
       "Angola                      0.493506            0.000000   \n",
       "Argentina                   0.875609            0.791166   \n",
       "...                              ...                 ...   \n",
       "Uruguay                     0.000000            0.000000   \n",
       "Uzbekistan                  0.000000           -0.794805   \n",
       "Vanuatu                     0.000000            0.000000   \n",
       "Zambia                      0.803896            0.000000   \n",
       "Zimbabwe                    0.000000            0.000000   \n",
       "\n",
       "             R&D expenditure %GDP  % Healthcare Investment  \n",
       "Country                                                     \n",
       "Afghanistan              0.000000                 0.000000  \n",
       "Albania                  0.000000                 0.000000  \n",
       "Algeria                  0.000000                 0.629927  \n",
       "Angola                   0.000000                 0.000000  \n",
       "Argentina                0.870413                 0.000000  \n",
       "...                           ...                      ...  \n",
       "Uruguay                  0.574862                 0.833388  \n",
       "Uzbekistan              -0.748052                 0.925625  \n",
       "Vanuatu                  0.000000                -0.813901  \n",
       "Zambia                   0.000000                -0.547724  \n",
       "Zimbabwe                 0.000000                 0.000000  \n",
       "\n",
       "[152 rows x 12 columns]"
      ]
     },
     "metadata": {},
     "output_type": "display_data"
    },
    {
     "name": "stdout",
     "output_type": "stream",
     "text": [
      "Social-demographic Indicators\n"
     ]
    },
    {
     "data": {
      "text/html": [
       "<div>\n",
       "<style scoped>\n",
       "    .dataframe tbody tr th:only-of-type {\n",
       "        vertical-align: middle;\n",
       "    }\n",
       "\n",
       "    .dataframe tbody tr th {\n",
       "        vertical-align: top;\n",
       "    }\n",
       "\n",
       "    .dataframe thead th {\n",
       "        text-align: right;\n",
       "    }\n",
       "</style>\n",
       "<table border=\"1\" class=\"dataframe\">\n",
       "  <thead>\n",
       "    <tr style=\"text-align: right;\">\n",
       "      <th></th>\n",
       "      <th>Birth Rate</th>\n",
       "      <th>Death Rate</th>\n",
       "      <th>Homicides</th>\n",
       "      <th>Life Expectancy</th>\n",
       "      <th>Maternal Death Risk</th>\n",
       "      <th>Infant Mortality</th>\n",
       "      <th>% Population Growth</th>\n",
       "      <th>% Rural Population</th>\n",
       "      <th>Population</th>\n",
       "    </tr>\n",
       "    <tr>\n",
       "      <th>Country</th>\n",
       "      <th></th>\n",
       "      <th></th>\n",
       "      <th></th>\n",
       "      <th></th>\n",
       "      <th></th>\n",
       "      <th></th>\n",
       "      <th></th>\n",
       "      <th></th>\n",
       "      <th></th>\n",
       "    </tr>\n",
       "  </thead>\n",
       "  <tbody>\n",
       "    <tr>\n",
       "      <th>Afghanistan</th>\n",
       "      <td>-0.914286</td>\n",
       "      <td>-0.914286</td>\n",
       "      <td>0.000000</td>\n",
       "      <td>0.914286</td>\n",
       "      <td>-0.905542</td>\n",
       "      <td>-0.914286</td>\n",
       "      <td>0.000000</td>\n",
       "      <td>-0.914286</td>\n",
       "      <td>0.914286</td>\n",
       "    </tr>\n",
       "    <tr>\n",
       "      <th>Albania</th>\n",
       "      <td>-0.854823</td>\n",
       "      <td>0.885714</td>\n",
       "      <td>-0.577374</td>\n",
       "      <td>0.889610</td>\n",
       "      <td>-0.782415</td>\n",
       "      <td>-0.801430</td>\n",
       "      <td>0.000000</td>\n",
       "      <td>-0.889610</td>\n",
       "      <td>-0.888312</td>\n",
       "    </tr>\n",
       "    <tr>\n",
       "      <th>Algeria</th>\n",
       "      <td>0.874026</td>\n",
       "      <td>0.000000</td>\n",
       "      <td>0.000000</td>\n",
       "      <td>0.750649</td>\n",
       "      <td>0.000000</td>\n",
       "      <td>-0.750649</td>\n",
       "      <td>0.797403</td>\n",
       "      <td>-0.750649</td>\n",
       "      <td>0.750649</td>\n",
       "    </tr>\n",
       "    <tr>\n",
       "      <th>Angola</th>\n",
       "      <td>-0.753247</td>\n",
       "      <td>-0.753247</td>\n",
       "      <td>0.000000</td>\n",
       "      <td>0.753247</td>\n",
       "      <td>-0.776551</td>\n",
       "      <td>-0.753247</td>\n",
       "      <td>0.000000</td>\n",
       "      <td>-0.753247</td>\n",
       "      <td>0.753247</td>\n",
       "    </tr>\n",
       "    <tr>\n",
       "      <th>Argentina</th>\n",
       "      <td>-0.761039</td>\n",
       "      <td>-0.761039</td>\n",
       "      <td>0.000000</td>\n",
       "      <td>0.761039</td>\n",
       "      <td>-0.784369</td>\n",
       "      <td>-0.761039</td>\n",
       "      <td>0.000000</td>\n",
       "      <td>-0.761039</td>\n",
       "      <td>0.761039</td>\n",
       "    </tr>\n",
       "    <tr>\n",
       "      <th>...</th>\n",
       "      <td>...</td>\n",
       "      <td>...</td>\n",
       "      <td>...</td>\n",
       "      <td>...</td>\n",
       "      <td>...</td>\n",
       "      <td>...</td>\n",
       "      <td>...</td>\n",
       "      <td>...</td>\n",
       "      <td>...</td>\n",
       "    </tr>\n",
       "    <tr>\n",
       "      <th>Uruguay</th>\n",
       "      <td>-0.901299</td>\n",
       "      <td>0.619481</td>\n",
       "      <td>0.764630</td>\n",
       "      <td>0.901299</td>\n",
       "      <td>-0.848213</td>\n",
       "      <td>-0.901299</td>\n",
       "      <td>0.901299</td>\n",
       "      <td>-0.901299</td>\n",
       "      <td>0.902597</td>\n",
       "    </tr>\n",
       "    <tr>\n",
       "      <th>Uzbekistan</th>\n",
       "      <td>0.607537</td>\n",
       "      <td>-0.675026</td>\n",
       "      <td>0.000000</td>\n",
       "      <td>0.850649</td>\n",
       "      <td>-0.812382</td>\n",
       "      <td>-0.850649</td>\n",
       "      <td>0.759740</td>\n",
       "      <td>-0.836364</td>\n",
       "      <td>0.850649</td>\n",
       "    </tr>\n",
       "    <tr>\n",
       "      <th>Vanuatu</th>\n",
       "      <td>-0.971429</td>\n",
       "      <td>-0.944120</td>\n",
       "      <td>0.000000</td>\n",
       "      <td>0.971429</td>\n",
       "      <td>-0.975901</td>\n",
       "      <td>0.000000</td>\n",
       "      <td>0.000000</td>\n",
       "      <td>-0.971429</td>\n",
       "      <td>0.971429</td>\n",
       "    </tr>\n",
       "    <tr>\n",
       "      <th>Zambia</th>\n",
       "      <td>-0.837662</td>\n",
       "      <td>-0.837662</td>\n",
       "      <td>0.000000</td>\n",
       "      <td>0.837662</td>\n",
       "      <td>-0.856682</td>\n",
       "      <td>-0.856772</td>\n",
       "      <td>0.884416</td>\n",
       "      <td>-0.837662</td>\n",
       "      <td>0.837662</td>\n",
       "    </tr>\n",
       "    <tr>\n",
       "      <th>Zimbabwe</th>\n",
       "      <td>0.000000</td>\n",
       "      <td>-0.905195</td>\n",
       "      <td>0.000000</td>\n",
       "      <td>0.888312</td>\n",
       "      <td>-0.820851</td>\n",
       "      <td>-0.876623</td>\n",
       "      <td>0.683117</td>\n",
       "      <td>0.877922</td>\n",
       "      <td>0.832468</td>\n",
       "    </tr>\n",
       "  </tbody>\n",
       "</table>\n",
       "<p>153 rows × 9 columns</p>\n",
       "</div>"
      ],
      "text/plain": [
       "             Birth Rate  Death Rate  Homicides  Life Expectancy  \\\n",
       "Country                                                           \n",
       "Afghanistan   -0.914286   -0.914286   0.000000         0.914286   \n",
       "Albania       -0.854823    0.885714  -0.577374         0.889610   \n",
       "Algeria        0.874026    0.000000   0.000000         0.750649   \n",
       "Angola        -0.753247   -0.753247   0.000000         0.753247   \n",
       "Argentina     -0.761039   -0.761039   0.000000         0.761039   \n",
       "...                 ...         ...        ...              ...   \n",
       "Uruguay       -0.901299    0.619481   0.764630         0.901299   \n",
       "Uzbekistan     0.607537   -0.675026   0.000000         0.850649   \n",
       "Vanuatu       -0.971429   -0.944120   0.000000         0.971429   \n",
       "Zambia        -0.837662   -0.837662   0.000000         0.837662   \n",
       "Zimbabwe       0.000000   -0.905195   0.000000         0.888312   \n",
       "\n",
       "             Maternal Death Risk  Infant Mortality  % Population Growth  \\\n",
       "Country                                                                   \n",
       "Afghanistan            -0.905542         -0.914286             0.000000   \n",
       "Albania                -0.782415         -0.801430             0.000000   \n",
       "Algeria                 0.000000         -0.750649             0.797403   \n",
       "Angola                 -0.776551         -0.753247             0.000000   \n",
       "Argentina              -0.784369         -0.761039             0.000000   \n",
       "...                          ...               ...                  ...   \n",
       "Uruguay                -0.848213         -0.901299             0.901299   \n",
       "Uzbekistan             -0.812382         -0.850649             0.759740   \n",
       "Vanuatu                -0.975901          0.000000             0.000000   \n",
       "Zambia                 -0.856682         -0.856772             0.884416   \n",
       "Zimbabwe               -0.820851         -0.876623             0.683117   \n",
       "\n",
       "             % Rural Population  Population  \n",
       "Country                                      \n",
       "Afghanistan           -0.914286    0.914286  \n",
       "Albania               -0.889610   -0.888312  \n",
       "Algeria               -0.750649    0.750649  \n",
       "Angola                -0.753247    0.753247  \n",
       "Argentina             -0.761039    0.761039  \n",
       "...                         ...         ...  \n",
       "Uruguay               -0.901299    0.902597  \n",
       "Uzbekistan            -0.836364    0.850649  \n",
       "Vanuatu               -0.971429    0.971429  \n",
       "Zambia                -0.837662    0.837662  \n",
       "Zimbabwe               0.877922    0.832468  \n",
       "\n",
       "[153 rows x 9 columns]"
      ]
     },
     "metadata": {},
     "output_type": "display_data"
    },
    {
     "name": "stdout",
     "output_type": "stream",
     "text": [
      "Equality Indicators\n"
     ]
    },
    {
     "data": {
      "text/html": [
       "<div>\n",
       "<style scoped>\n",
       "    .dataframe tbody tr th:only-of-type {\n",
       "        vertical-align: middle;\n",
       "    }\n",
       "\n",
       "    .dataframe tbody tr th {\n",
       "        vertical-align: top;\n",
       "    }\n",
       "\n",
       "    .dataframe thead th {\n",
       "        text-align: right;\n",
       "    }\n",
       "</style>\n",
       "<table border=\"1\" class=\"dataframe\">\n",
       "  <thead>\n",
       "    <tr style=\"text-align: right;\">\n",
       "      <th></th>\n",
       "      <th>% Female Employment</th>\n",
       "      <th>% Male Employment</th>\n",
       "      <th>Tertiary School Gender Parity</th>\n",
       "      <th>% Vulnerable female employment</th>\n",
       "      <th>% Vulnerable male employment</th>\n",
       "      <th>Civil Liberties</th>\n",
       "      <th>Freedom of Expression</th>\n",
       "    </tr>\n",
       "    <tr>\n",
       "      <th>Country</th>\n",
       "      <th></th>\n",
       "      <th></th>\n",
       "      <th></th>\n",
       "      <th></th>\n",
       "      <th></th>\n",
       "      <th></th>\n",
       "      <th></th>\n",
       "    </tr>\n",
       "  </thead>\n",
       "  <tbody>\n",
       "    <tr>\n",
       "      <th>Afghanistan</th>\n",
       "      <td>0.732468</td>\n",
       "      <td>-0.705653</td>\n",
       "      <td>0.000000</td>\n",
       "      <td>-0.910685</td>\n",
       "      <td>-0.910685</td>\n",
       "      <td>0.000000</td>\n",
       "      <td>0.666451</td>\n",
       "    </tr>\n",
       "    <tr>\n",
       "      <th>Albania</th>\n",
       "      <td>0.000000</td>\n",
       "      <td>0.000000</td>\n",
       "      <td>0.000000</td>\n",
       "      <td>0.000000</td>\n",
       "      <td>-0.697629</td>\n",
       "      <td>0.796368</td>\n",
       "      <td>0.000000</td>\n",
       "    </tr>\n",
       "    <tr>\n",
       "      <th>Algeria</th>\n",
       "      <td>0.814286</td>\n",
       "      <td>0.542857</td>\n",
       "      <td>0.738578</td>\n",
       "      <td>-0.758688</td>\n",
       "      <td>0.000000</td>\n",
       "      <td>0.696313</td>\n",
       "      <td>0.000000</td>\n",
       "    </tr>\n",
       "    <tr>\n",
       "      <th>Angola</th>\n",
       "      <td>-0.514453</td>\n",
       "      <td>-0.659305</td>\n",
       "      <td>0.000000</td>\n",
       "      <td>0.673595</td>\n",
       "      <td>0.655408</td>\n",
       "      <td>0.744056</td>\n",
       "      <td>0.748459</td>\n",
       "    </tr>\n",
       "    <tr>\n",
       "      <th>Argentina</th>\n",
       "      <td>0.477922</td>\n",
       "      <td>0.000000</td>\n",
       "      <td>0.766483</td>\n",
       "      <td>0.000000</td>\n",
       "      <td>-0.433907</td>\n",
       "      <td>0.000000</td>\n",
       "      <td>-0.705732</td>\n",
       "    </tr>\n",
       "    <tr>\n",
       "      <th>...</th>\n",
       "      <td>...</td>\n",
       "      <td>...</td>\n",
       "      <td>...</td>\n",
       "      <td>...</td>\n",
       "      <td>...</td>\n",
       "      <td>...</td>\n",
       "      <td>...</td>\n",
       "    </tr>\n",
       "    <tr>\n",
       "      <th>Uruguay</th>\n",
       "      <td>0.814286</td>\n",
       "      <td>0.496104</td>\n",
       "      <td>0.000000</td>\n",
       "      <td>0.000000</td>\n",
       "      <td>-0.503410</td>\n",
       "      <td>0.000000</td>\n",
       "      <td>0.000000</td>\n",
       "    </tr>\n",
       "    <tr>\n",
       "      <th>Uzbekistan</th>\n",
       "      <td>-0.785714</td>\n",
       "      <td>-0.612987</td>\n",
       "      <td>-0.666234</td>\n",
       "      <td>-0.828191</td>\n",
       "      <td>-0.834687</td>\n",
       "      <td>0.000000</td>\n",
       "      <td>0.525872</td>\n",
       "    </tr>\n",
       "    <tr>\n",
       "      <th>Vanuatu</th>\n",
       "      <td>0.000000</td>\n",
       "      <td>0.000000</td>\n",
       "      <td>0.000000</td>\n",
       "      <td>-0.971095</td>\n",
       "      <td>-0.781423</td>\n",
       "      <td>0.827089</td>\n",
       "      <td>0.000000</td>\n",
       "    </tr>\n",
       "    <tr>\n",
       "      <th>Zambia</th>\n",
       "      <td>-0.642857</td>\n",
       "      <td>0.000000</td>\n",
       "      <td>0.000000</td>\n",
       "      <td>-0.806755</td>\n",
       "      <td>-0.719714</td>\n",
       "      <td>-0.658414</td>\n",
       "      <td>-0.531383</td>\n",
       "    </tr>\n",
       "    <tr>\n",
       "      <th>Zimbabwe</th>\n",
       "      <td>0.677922</td>\n",
       "      <td>0.541558</td>\n",
       "      <td>0.000000</td>\n",
       "      <td>0.000000</td>\n",
       "      <td>0.512504</td>\n",
       "      <td>0.637875</td>\n",
       "      <td>0.913470</td>\n",
       "    </tr>\n",
       "  </tbody>\n",
       "</table>\n",
       "<p>152 rows × 7 columns</p>\n",
       "</div>"
      ],
      "text/plain": [
       "             % Female Employment  % Male Employment  \\\n",
       "Country                                               \n",
       "Afghanistan             0.732468          -0.705653   \n",
       "Albania                 0.000000           0.000000   \n",
       "Algeria                 0.814286           0.542857   \n",
       "Angola                 -0.514453          -0.659305   \n",
       "Argentina               0.477922           0.000000   \n",
       "...                          ...                ...   \n",
       "Uruguay                 0.814286           0.496104   \n",
       "Uzbekistan             -0.785714          -0.612987   \n",
       "Vanuatu                 0.000000           0.000000   \n",
       "Zambia                 -0.642857           0.000000   \n",
       "Zimbabwe                0.677922           0.541558   \n",
       "\n",
       "             Tertiary School Gender Parity  % Vulnerable female employment  \\\n",
       "Country                                                                      \n",
       "Afghanistan                       0.000000                       -0.910685   \n",
       "Albania                           0.000000                        0.000000   \n",
       "Algeria                           0.738578                       -0.758688   \n",
       "Angola                            0.000000                        0.673595   \n",
       "Argentina                         0.766483                        0.000000   \n",
       "...                                    ...                             ...   \n",
       "Uruguay                           0.000000                        0.000000   \n",
       "Uzbekistan                       -0.666234                       -0.828191   \n",
       "Vanuatu                           0.000000                       -0.971095   \n",
       "Zambia                            0.000000                       -0.806755   \n",
       "Zimbabwe                          0.000000                        0.000000   \n",
       "\n",
       "             % Vulnerable male employment  Civil Liberties  \\\n",
       "Country                                                      \n",
       "Afghanistan                     -0.910685         0.000000   \n",
       "Albania                         -0.697629         0.796368   \n",
       "Algeria                          0.000000         0.696313   \n",
       "Angola                           0.655408         0.744056   \n",
       "Argentina                       -0.433907         0.000000   \n",
       "...                                   ...              ...   \n",
       "Uruguay                         -0.503410         0.000000   \n",
       "Uzbekistan                      -0.834687         0.000000   \n",
       "Vanuatu                         -0.781423         0.827089   \n",
       "Zambia                          -0.719714        -0.658414   \n",
       "Zimbabwe                         0.512504         0.637875   \n",
       "\n",
       "             Freedom of Expression  \n",
       "Country                             \n",
       "Afghanistan               0.666451  \n",
       "Albania                   0.000000  \n",
       "Algeria                   0.000000  \n",
       "Angola                    0.748459  \n",
       "Argentina                -0.705732  \n",
       "...                            ...  \n",
       "Uruguay                   0.000000  \n",
       "Uzbekistan                0.525872  \n",
       "Vanuatu                   0.000000  \n",
       "Zambia                   -0.531383  \n",
       "Zimbabwe                  0.913470  \n",
       "\n",
       "[152 rows x 7 columns]"
      ]
     },
     "metadata": {},
     "output_type": "display_data"
    },
    {
     "name": "stdout",
     "output_type": "stream",
     "text": [
      "All indicators\n"
     ]
    },
    {
     "data": {
      "text/html": [
       "<div>\n",
       "<style scoped>\n",
       "    .dataframe tbody tr th:only-of-type {\n",
       "        vertical-align: middle;\n",
       "    }\n",
       "\n",
       "    .dataframe tbody tr th {\n",
       "        vertical-align: top;\n",
       "    }\n",
       "\n",
       "    .dataframe thead th {\n",
       "        text-align: right;\n",
       "    }\n",
       "</style>\n",
       "<table border=\"1\" class=\"dataframe\">\n",
       "  <thead>\n",
       "    <tr style=\"text-align: right;\">\n",
       "      <th></th>\n",
       "      <th>AgriShareGDP</th>\n",
       "      <th>CreditToAgriFishForest</th>\n",
       "      <th>EmploymentRural</th>\n",
       "      <th>% Soldiers</th>\n",
       "      <th>Employment in industry</th>\n",
       "      <th>Employment in services</th>\n",
       "      <th>Birth Rate</th>\n",
       "      <th>Cost business start-up</th>\n",
       "      <th>Death Rate</th>\n",
       "      <th>Employment in agriculture</th>\n",
       "      <th>...</th>\n",
       "      <th>Researchers in R&amp;D</th>\n",
       "      <th>R&amp;D expenditure %GDP</th>\n",
       "      <th>% Rural Population</th>\n",
       "      <th>Tertiary School Gender Parity</th>\n",
       "      <th>% Vulnerable female employment</th>\n",
       "      <th>% Vulnerable male employment</th>\n",
       "      <th>Civil Liberties</th>\n",
       "      <th>Freedom of Expression</th>\n",
       "      <th>% Healthcare Investment</th>\n",
       "      <th>Population</th>\n",
       "    </tr>\n",
       "    <tr>\n",
       "      <th>Country</th>\n",
       "      <th></th>\n",
       "      <th></th>\n",
       "      <th></th>\n",
       "      <th></th>\n",
       "      <th></th>\n",
       "      <th></th>\n",
       "      <th></th>\n",
       "      <th></th>\n",
       "      <th></th>\n",
       "      <th></th>\n",
       "      <th></th>\n",
       "      <th></th>\n",
       "      <th></th>\n",
       "      <th></th>\n",
       "      <th></th>\n",
       "      <th></th>\n",
       "      <th></th>\n",
       "      <th></th>\n",
       "      <th></th>\n",
       "      <th></th>\n",
       "      <th></th>\n",
       "    </tr>\n",
       "  </thead>\n",
       "  <tbody>\n",
       "    <tr>\n",
       "      <th>Afghanistan</th>\n",
       "      <td>-0.864566</td>\n",
       "      <td>0.000000</td>\n",
       "      <td>0.0</td>\n",
       "      <td>0.000000</td>\n",
       "      <td>0.910685</td>\n",
       "      <td>0.911984</td>\n",
       "      <td>-0.914286</td>\n",
       "      <td>-0.736206</td>\n",
       "      <td>-0.914286</td>\n",
       "      <td>-0.910685</td>\n",
       "      <td>...</td>\n",
       "      <td>0.000000</td>\n",
       "      <td>0.000000</td>\n",
       "      <td>-0.914286</td>\n",
       "      <td>0.000000</td>\n",
       "      <td>-0.910685</td>\n",
       "      <td>-0.910685</td>\n",
       "      <td>0.000000</td>\n",
       "      <td>0.666451</td>\n",
       "      <td>0.000000</td>\n",
       "      <td>0.914286</td>\n",
       "    </tr>\n",
       "    <tr>\n",
       "      <th>Albania</th>\n",
       "      <td>-0.486522</td>\n",
       "      <td>0.000000</td>\n",
       "      <td>0.0</td>\n",
       "      <td>-0.782836</td>\n",
       "      <td>0.802469</td>\n",
       "      <td>0.766483</td>\n",
       "      <td>-0.854823</td>\n",
       "      <td>-0.767682</td>\n",
       "      <td>0.885714</td>\n",
       "      <td>-0.858720</td>\n",
       "      <td>...</td>\n",
       "      <td>0.000000</td>\n",
       "      <td>0.000000</td>\n",
       "      <td>-0.889610</td>\n",
       "      <td>0.000000</td>\n",
       "      <td>0.000000</td>\n",
       "      <td>-0.697629</td>\n",
       "      <td>0.796368</td>\n",
       "      <td>0.000000</td>\n",
       "      <td>0.000000</td>\n",
       "      <td>-0.888312</td>\n",
       "    </tr>\n",
       "    <tr>\n",
       "      <th>Algeria</th>\n",
       "      <td>0.000000</td>\n",
       "      <td>0.000000</td>\n",
       "      <td>0.0</td>\n",
       "      <td>-0.755527</td>\n",
       "      <td>0.853152</td>\n",
       "      <td>0.753491</td>\n",
       "      <td>0.874026</td>\n",
       "      <td>-0.725858</td>\n",
       "      <td>0.000000</td>\n",
       "      <td>-0.750487</td>\n",
       "      <td>...</td>\n",
       "      <td>0.000000</td>\n",
       "      <td>0.000000</td>\n",
       "      <td>-0.750649</td>\n",
       "      <td>0.738578</td>\n",
       "      <td>-0.758688</td>\n",
       "      <td>0.000000</td>\n",
       "      <td>0.696313</td>\n",
       "      <td>0.000000</td>\n",
       "      <td>0.629927</td>\n",
       "      <td>0.750649</td>\n",
       "    </tr>\n",
       "    <tr>\n",
       "      <th>Angola</th>\n",
       "      <td>0.000000</td>\n",
       "      <td>0.000000</td>\n",
       "      <td>0.0</td>\n",
       "      <td>-0.755527</td>\n",
       "      <td>-0.648912</td>\n",
       "      <td>-0.924326</td>\n",
       "      <td>-0.753247</td>\n",
       "      <td>-0.748783</td>\n",
       "      <td>-0.753247</td>\n",
       "      <td>0.912634</td>\n",
       "      <td>...</td>\n",
       "      <td>0.000000</td>\n",
       "      <td>0.000000</td>\n",
       "      <td>-0.753247</td>\n",
       "      <td>0.000000</td>\n",
       "      <td>0.673595</td>\n",
       "      <td>0.655408</td>\n",
       "      <td>0.744056</td>\n",
       "      <td>0.748459</td>\n",
       "      <td>0.000000</td>\n",
       "      <td>0.753247</td>\n",
       "    </tr>\n",
       "    <tr>\n",
       "      <th>Argentina</th>\n",
       "      <td>-0.598246</td>\n",
       "      <td>0.569016</td>\n",
       "      <td>0.0</td>\n",
       "      <td>-0.733421</td>\n",
       "      <td>0.000000</td>\n",
       "      <td>0.000000</td>\n",
       "      <td>-0.761039</td>\n",
       "      <td>0.000000</td>\n",
       "      <td>-0.761039</td>\n",
       "      <td>-0.721302</td>\n",
       "      <td>...</td>\n",
       "      <td>0.791166</td>\n",
       "      <td>0.870413</td>\n",
       "      <td>-0.761039</td>\n",
       "      <td>0.766483</td>\n",
       "      <td>0.000000</td>\n",
       "      <td>-0.433907</td>\n",
       "      <td>0.000000</td>\n",
       "      <td>-0.705732</td>\n",
       "      <td>0.000000</td>\n",
       "      <td>0.761039</td>\n",
       "    </tr>\n",
       "    <tr>\n",
       "      <th>...</th>\n",
       "      <td>...</td>\n",
       "      <td>...</td>\n",
       "      <td>...</td>\n",
       "      <td>...</td>\n",
       "      <td>...</td>\n",
       "      <td>...</td>\n",
       "      <td>...</td>\n",
       "      <td>...</td>\n",
       "      <td>...</td>\n",
       "      <td>...</td>\n",
       "      <td>...</td>\n",
       "      <td>...</td>\n",
       "      <td>...</td>\n",
       "      <td>...</td>\n",
       "      <td>...</td>\n",
       "      <td>...</td>\n",
       "      <td>...</td>\n",
       "      <td>...</td>\n",
       "      <td>...</td>\n",
       "      <td>...</td>\n",
       "      <td>...</td>\n",
       "    </tr>\n",
       "    <tr>\n",
       "      <th>Uruguay</th>\n",
       "      <td>-0.587853</td>\n",
       "      <td>0.886652</td>\n",
       "      <td>0.0</td>\n",
       "      <td>-0.934981</td>\n",
       "      <td>-0.498214</td>\n",
       "      <td>0.764133</td>\n",
       "      <td>-0.901299</td>\n",
       "      <td>-0.896356</td>\n",
       "      <td>0.619481</td>\n",
       "      <td>-0.790516</td>\n",
       "      <td>...</td>\n",
       "      <td>0.000000</td>\n",
       "      <td>0.574862</td>\n",
       "      <td>-0.901299</td>\n",
       "      <td>0.000000</td>\n",
       "      <td>0.000000</td>\n",
       "      <td>-0.503410</td>\n",
       "      <td>0.000000</td>\n",
       "      <td>0.000000</td>\n",
       "      <td>0.833388</td>\n",
       "      <td>0.902597</td>\n",
       "    </tr>\n",
       "    <tr>\n",
       "      <th>Uzbekistan</th>\n",
       "      <td>-0.714518</td>\n",
       "      <td>0.000000</td>\n",
       "      <td>0.0</td>\n",
       "      <td>-0.672302</td>\n",
       "      <td>0.916531</td>\n",
       "      <td>0.743340</td>\n",
       "      <td>0.607537</td>\n",
       "      <td>-0.847464</td>\n",
       "      <td>-0.675026</td>\n",
       "      <td>-0.745047</td>\n",
       "      <td>...</td>\n",
       "      <td>-0.794805</td>\n",
       "      <td>-0.748052</td>\n",
       "      <td>-0.836364</td>\n",
       "      <td>-0.666234</td>\n",
       "      <td>-0.828191</td>\n",
       "      <td>-0.834687</td>\n",
       "      <td>0.000000</td>\n",
       "      <td>0.525872</td>\n",
       "      <td>0.925625</td>\n",
       "      <td>0.850649</td>\n",
       "    </tr>\n",
       "    <tr>\n",
       "      <th>Vanuatu</th>\n",
       "      <td>0.000000</td>\n",
       "      <td>-0.569106</td>\n",
       "      <td>0.0</td>\n",
       "      <td>0.000000</td>\n",
       "      <td>0.967197</td>\n",
       "      <td>-0.632023</td>\n",
       "      <td>-0.971429</td>\n",
       "      <td>-0.838989</td>\n",
       "      <td>-0.944120</td>\n",
       "      <td>-0.939916</td>\n",
       "      <td>...</td>\n",
       "      <td>0.000000</td>\n",
       "      <td>0.000000</td>\n",
       "      <td>-0.971429</td>\n",
       "      <td>0.000000</td>\n",
       "      <td>-0.971095</td>\n",
       "      <td>-0.781423</td>\n",
       "      <td>0.827089</td>\n",
       "      <td>0.000000</td>\n",
       "      <td>-0.813901</td>\n",
       "      <td>0.971429</td>\n",
       "    </tr>\n",
       "    <tr>\n",
       "      <th>Zambia</th>\n",
       "      <td>-0.815200</td>\n",
       "      <td>0.728456</td>\n",
       "      <td>0.0</td>\n",
       "      <td>-0.850456</td>\n",
       "      <td>0.863548</td>\n",
       "      <td>0.697629</td>\n",
       "      <td>-0.837662</td>\n",
       "      <td>0.000000</td>\n",
       "      <td>-0.837662</td>\n",
       "      <td>-0.723612</td>\n",
       "      <td>...</td>\n",
       "      <td>0.000000</td>\n",
       "      <td>0.000000</td>\n",
       "      <td>-0.837662</td>\n",
       "      <td>0.000000</td>\n",
       "      <td>-0.806755</td>\n",
       "      <td>-0.719714</td>\n",
       "      <td>-0.658414</td>\n",
       "      <td>-0.531383</td>\n",
       "      <td>-0.547724</td>\n",
       "      <td>0.837662</td>\n",
       "    </tr>\n",
       "    <tr>\n",
       "      <th>Zimbabwe</th>\n",
       "      <td>-0.669698</td>\n",
       "      <td>0.000000</td>\n",
       "      <td>0.0</td>\n",
       "      <td>-0.841353</td>\n",
       "      <td>-0.782722</td>\n",
       "      <td>0.000000</td>\n",
       "      <td>0.000000</td>\n",
       "      <td>-0.884333</td>\n",
       "      <td>-0.905195</td>\n",
       "      <td>0.563170</td>\n",
       "      <td>...</td>\n",
       "      <td>0.000000</td>\n",
       "      <td>0.000000</td>\n",
       "      <td>0.877922</td>\n",
       "      <td>0.000000</td>\n",
       "      <td>0.000000</td>\n",
       "      <td>0.512504</td>\n",
       "      <td>0.637875</td>\n",
       "      <td>0.913470</td>\n",
       "      <td>0.000000</td>\n",
       "      <td>0.832468</td>\n",
       "    </tr>\n",
       "  </tbody>\n",
       "</table>\n",
       "<p>153 rows × 28 columns</p>\n",
       "</div>"
      ],
      "text/plain": [
       "             AgriShareGDP  CreditToAgriFishForest  EmploymentRural  \\\n",
       "Country                                                              \n",
       "Afghanistan     -0.864566                0.000000              0.0   \n",
       "Albania         -0.486522                0.000000              0.0   \n",
       "Algeria          0.000000                0.000000              0.0   \n",
       "Angola           0.000000                0.000000              0.0   \n",
       "Argentina       -0.598246                0.569016              0.0   \n",
       "...                   ...                     ...              ...   \n",
       "Uruguay         -0.587853                0.886652              0.0   \n",
       "Uzbekistan      -0.714518                0.000000              0.0   \n",
       "Vanuatu          0.000000               -0.569106              0.0   \n",
       "Zambia          -0.815200                0.728456              0.0   \n",
       "Zimbabwe        -0.669698                0.000000              0.0   \n",
       "\n",
       "             % Soldiers  Employment in industry  Employment in services  \\\n",
       "Country                                                                   \n",
       "Afghanistan    0.000000                0.910685                0.911984   \n",
       "Albania       -0.782836                0.802469                0.766483   \n",
       "Algeria       -0.755527                0.853152                0.753491   \n",
       "Angola        -0.755527               -0.648912               -0.924326   \n",
       "Argentina     -0.733421                0.000000                0.000000   \n",
       "...                 ...                     ...                     ...   \n",
       "Uruguay       -0.934981               -0.498214                0.764133   \n",
       "Uzbekistan    -0.672302                0.916531                0.743340   \n",
       "Vanuatu        0.000000                0.967197               -0.632023   \n",
       "Zambia        -0.850456                0.863548                0.697629   \n",
       "Zimbabwe      -0.841353               -0.782722                0.000000   \n",
       "\n",
       "             Birth Rate  Cost business start-up  Death Rate  \\\n",
       "Country                                                       \n",
       "Afghanistan   -0.914286               -0.736206   -0.914286   \n",
       "Albania       -0.854823               -0.767682    0.885714   \n",
       "Algeria        0.874026               -0.725858    0.000000   \n",
       "Angola        -0.753247               -0.748783   -0.753247   \n",
       "Argentina     -0.761039                0.000000   -0.761039   \n",
       "...                 ...                     ...         ...   \n",
       "Uruguay       -0.901299               -0.896356    0.619481   \n",
       "Uzbekistan     0.607537               -0.847464   -0.675026   \n",
       "Vanuatu       -0.971429               -0.838989   -0.944120   \n",
       "Zambia        -0.837662                0.000000   -0.837662   \n",
       "Zimbabwe       0.000000               -0.884333   -0.905195   \n",
       "\n",
       "             Employment in agriculture  ...  Researchers in R&D  \\\n",
       "Country                                 ...                       \n",
       "Afghanistan                  -0.910685  ...            0.000000   \n",
       "Albania                      -0.858720  ...            0.000000   \n",
       "Algeria                      -0.750487  ...            0.000000   \n",
       "Angola                        0.912634  ...            0.000000   \n",
       "Argentina                    -0.721302  ...            0.791166   \n",
       "...                                ...  ...                 ...   \n",
       "Uruguay                      -0.790516  ...            0.000000   \n",
       "Uzbekistan                   -0.745047  ...           -0.794805   \n",
       "Vanuatu                      -0.939916  ...            0.000000   \n",
       "Zambia                       -0.723612  ...            0.000000   \n",
       "Zimbabwe                      0.563170  ...            0.000000   \n",
       "\n",
       "             R&D expenditure %GDP  % Rural Population  \\\n",
       "Country                                                 \n",
       "Afghanistan              0.000000           -0.914286   \n",
       "Albania                  0.000000           -0.889610   \n",
       "Algeria                  0.000000           -0.750649   \n",
       "Angola                   0.000000           -0.753247   \n",
       "Argentina                0.870413           -0.761039   \n",
       "...                           ...                 ...   \n",
       "Uruguay                  0.574862           -0.901299   \n",
       "Uzbekistan              -0.748052           -0.836364   \n",
       "Vanuatu                  0.000000           -0.971429   \n",
       "Zambia                   0.000000           -0.837662   \n",
       "Zimbabwe                 0.000000            0.877922   \n",
       "\n",
       "             Tertiary School Gender Parity  % Vulnerable female employment  \\\n",
       "Country                                                                      \n",
       "Afghanistan                       0.000000                       -0.910685   \n",
       "Albania                           0.000000                        0.000000   \n",
       "Algeria                           0.738578                       -0.758688   \n",
       "Angola                            0.000000                        0.673595   \n",
       "Argentina                         0.766483                        0.000000   \n",
       "...                                    ...                             ...   \n",
       "Uruguay                           0.000000                        0.000000   \n",
       "Uzbekistan                       -0.666234                       -0.828191   \n",
       "Vanuatu                           0.000000                       -0.971095   \n",
       "Zambia                            0.000000                       -0.806755   \n",
       "Zimbabwe                          0.000000                        0.000000   \n",
       "\n",
       "             % Vulnerable male employment  Civil Liberties  \\\n",
       "Country                                                      \n",
       "Afghanistan                     -0.910685         0.000000   \n",
       "Albania                         -0.697629         0.796368   \n",
       "Algeria                          0.000000         0.696313   \n",
       "Angola                           0.655408         0.744056   \n",
       "Argentina                       -0.433907         0.000000   \n",
       "...                                   ...              ...   \n",
       "Uruguay                         -0.503410         0.000000   \n",
       "Uzbekistan                      -0.834687         0.000000   \n",
       "Vanuatu                         -0.781423         0.827089   \n",
       "Zambia                          -0.719714        -0.658414   \n",
       "Zimbabwe                         0.512504         0.637875   \n",
       "\n",
       "             Freedom of Expression  % Healthcare Investment  Population  \n",
       "Country                                                                  \n",
       "Afghanistan               0.666451                 0.000000    0.914286  \n",
       "Albania                   0.000000                 0.000000   -0.888312  \n",
       "Algeria                   0.000000                 0.629927    0.750649  \n",
       "Angola                    0.748459                 0.000000    0.753247  \n",
       "Argentina                -0.705732                 0.000000    0.761039  \n",
       "...                            ...                      ...         ...  \n",
       "Uruguay                   0.000000                 0.833388    0.902597  \n",
       "Uzbekistan                0.525872                 0.925625    0.850649  \n",
       "Vanuatu                   0.000000                -0.813901    0.971429  \n",
       "Zambia                   -0.531383                -0.547724    0.837662  \n",
       "Zimbabwe                  0.913470                 0.000000    0.832468  \n",
       "\n",
       "[153 rows x 28 columns]"
      ]
     },
     "metadata": {},
     "output_type": "display_data"
    }
   ],
   "source": [
    "econ_ind = 'Economic Indicators'\n",
    "socdem_ind = 'Social-demographic Indicators'\n",
    "eq_ind = 'Equality Indicators'\n",
    "all_ind = 'All indicators'\n",
    "\n",
    "ind_dict = {\n",
    "    econ_ind: ['CreditToAgriFishForest', 'AgriShareGDP', 'EmploymentRural', '%EmploymentAgriFishForest', 'TotalAgri', '% Soldiers', '% Healthcare Investment', '% Employment Industry', '% Education Expenditure','R&D expenditure %GDP','Researchers in R&D','Employment in agriculture','Employment in industry','Employment in services','Cost business start-up','% Education Expenditure'],\n",
    "    socdem_ind: ['Marriage Rate', 'Birth Rate', 'Death Rate', 'Homicides', 'Life Expectancy', 'Maternal Death Risk', 'Literacy Rate', 'Infant Mortality', '% Population Growth', '% Rural Population', 'Suicide Rate', 'Population'],\n",
    "    eq_ind: ['Gender Equality', 'Gender Inequality','% Men Employment', '% Women Employment', 'Women Schooling Years', 'Men Schooling Years', 'Freedom of Expression', '% Undernourishment', 'Civil Liberties', 'Gini','Tertiary School Gender Parity','% Female Employment','% Male Employment','% Vulnerable male employment','% Vulnerable female employment'],\n",
    "    all_ind: corr_df.columns.tolist()\n",
    "}\n",
    "\n",
    "# Keep only the ones that have been carried on to this point.\n",
    "\n",
    "indicators = set(corr_df.columns)\n",
    "for ind in ind_dict:\n",
    "    ind_dict[ind] = list(set(ind_dict[ind]) & indicators)\n",
    "\n",
    "# Divide the corr_df into slices for each group of indicators, normalize them and store them into a dict.\n",
    "df_dict = {}\n",
    "for ind in ind_dict:\n",
    "    df_norm = corr_df.copy()\n",
    "    df_norm.drop(df_norm.columns.difference(ind_dict[ind]), axis = 'columns', inplace=True)\n",
    "    df_norm = df_norm.dropna(how = 'all').fillna(value = 0)\n",
    "    df_norm.name = ind\n",
    "    df_dict[ind] = df_norm\n",
    "\n",
    "for ind in ind_dict:\n",
    "    print(df_dict[ind].name)\n",
    "    display(df_dict[ind])"
   ]
  },
  {
   "cell_type": "markdown",
   "metadata": {},
   "source": [
    "## t-SNE\n",
    "\n",
    "The algorithm of t-SNE (t-Distributed Stochastic Neighbor Embedding) is used to reduce the dimensionality of all the indicators to only 2 components. It admits a number of parameters to tune the procedure and obtain an optimal output: \n",
    "- N-components: the dimensions to analyze.\n",
    "- Perplexity: measurement of how well a probability distribution or probability model predicts a sample.\n",
    "- N-iter: iterations for the optimization\n",
    "- Learning rate: how fast the algorithm learns. A high value may cause a ball form of the data.\n",
    "- Init: Initialization of embedding. 'pca' is the new default for newer versions.\n",
    "\n",
    "In this cell, we define the different values that will be used for each group of indicators."
   ]
  },
  {
   "cell_type": "code",
   "execution_count": 4,
   "metadata": {},
   "outputs": [],
   "source": [
    "# The TSNE algorithm admits a number of parameters\n",
    "tsne_dict = {\n",
    "    econ_ind: TSNE(n_components = 2, perplexity = 5, n_iter = 50000, learning_rate = 100.0, init = 'pca'),\n",
    "    socdem_ind: TSNE(n_components = 2, perplexity = 5, n_iter = 50000, learning_rate = 100.0, init = 'pca'),\n",
    "    eq_ind: TSNE(n_components = 2, perplexity = 5, n_iter = 50000, learning_rate = 100.0, init = 'pca'),\n",
    "    all_ind: TSNE(n_components = 2, perplexity = 5, n_iter = 50000, learning_rate = 100.0, init = 'pca')\n",
    "}"
   ]
  },
  {
   "cell_type": "markdown",
   "metadata": {},
   "source": [
    "## CLUSTERING\n",
    "\n",
    "### Affinity Propagation\n",
    "\n",
    "The clustering method used in the notebook is Affinity Propagation. The reason behind choosing this one is because it is suited for our data: many clusters with uneven cluster size; also, it can simply be optmized changing 1 parameter, \"damping\". \n",
    "- Damping: is the extent to which the current value is maintained relative to incoming values (weighted 1 - damping).\n",
    "\n",
    "Again, in this cell we will calibrate the clustering algorithm for each indicator group."
   ]
  },
  {
   "cell_type": "code",
   "execution_count": 5,
   "metadata": {},
   "outputs": [],
   "source": [
    "afprop_dict = {\n",
    "    econ_ind: AffinityPropagation(damping=0.5),\n",
    "    socdem_ind: AffinityPropagation(damping=0.5),\n",
    "    eq_ind: AffinityPropagation(damping=0.5),\n",
    "    all_ind: AffinityPropagation(damping=0.5)\n",
    "}"
   ]
  },
  {
   "cell_type": "code",
   "execution_count": 6,
   "metadata": {},
   "outputs": [
    {
     "data": {
      "application/vnd.plotly.v1+json": {
       "config": {
        "plotlyServerURL": "https://plot.ly"
       },
       "data": [
        {
         "hovertemplate": "Cluster=0<br>1st_component=%{x}<br>2nd_component=%{y}<br>Country=%{text}<extra></extra>",
         "legendgroup": "0",
         "marker": {
          "color": "#636efa",
          "symbol": "circle"
         },
         "mode": "markers+text",
         "name": "0",
         "orientation": "v",
         "showlegend": true,
         "text": [
          "Argentina",
          "Brazil",
          "China",
          "Cyprus",
          "Djibouti",
          "Guinea-Bissau",
          "Latvia",
          "Liberia",
          "Lithuania",
          "Poland",
          "Slovenia",
          "Spain",
          "United Arab Emirates"
         ],
         "textposition": "top center",
         "type": "scatter",
         "x": [
          -0.2565065920352936,
          -0.00716604245826602,
          -0.4571150839328766,
          -0.4495232403278351,
          0.1738608181476593,
          0.3694540858268738,
          -0.6133161187171936,
          0.35198038816452026,
          -0.7176844477653503,
          -0.6609138250350952,
          -0.847664475440979,
          -0.3797890543937683,
          0.11192073673009872
         ],
         "xaxis": "x",
         "y": [
          -1.325596570968628,
          -1.2081962823867798,
          -1.2091799974441528,
          -1.3208755254745483,
          -1.1805840730667114,
          -1.6632543802261353,
          -1.3757516145706177,
          -1.5996898412704468,
          -1.4071913957595825,
          -1.4866160154342651,
          -1.24778151512146,
          -1.3509142398834229,
          -1.161422848701477
         ],
         "yaxis": "y"
        },
        {
         "hovertemplate": "Cluster=1<br>1st_component=%{x}<br>2nd_component=%{y}<br>Country=%{text}<extra></extra>",
         "legendgroup": "1",
         "marker": {
          "color": "#EF553B",
          "symbol": "circle"
         },
         "mode": "markers+text",
         "name": "1",
         "orientation": "v",
         "showlegend": true,
         "text": [
          "Afghanistan",
          "Armenia",
          "Belarus",
          "Bosnia and Herzegovina",
          "Colombia",
          "Dominican Republic",
          "Ghana",
          "Guyana",
          "Iceland",
          "Lesotho",
          "Maldives",
          "Papua New Guinea",
          "Romania",
          "Samoa",
          "Sao Tome and Principe",
          "Serbia"
         ],
         "textposition": "top center",
         "type": "scatter",
         "x": [
          0.6298407912254333,
          0.6103322505950928,
          0.3396535813808441,
          0.041686199605464935,
          0.12726040184497833,
          0.2302958220243454,
          0.471565306186676,
          0.3339635729789734,
          0.4769238233566284,
          0.3714675307273865,
          0.15404066443443298,
          0.49109965562820435,
          -0.052690647542476654,
          0.6132393479347229,
          0.4807232916355133,
          0.00810151919722557
         ],
         "xaxis": "x",
         "y": [
          0.5784579515457153,
          0.48583951592445374,
          0.3551727831363678,
          0.6066303253173828,
          0.687287449836731,
          0.09610319882631302,
          0.3994516134262085,
          0.14691829681396484,
          -0.1389090120792389,
          0.28248971700668335,
          0.10795623809099197,
          0.6140367984771729,
          0.49763160943984985,
          0.6722875833511353,
          0.01106275711208582,
          0.4797738492488861
         ],
         "yaxis": "y"
        },
        {
         "hovertemplate": "Cluster=2<br>1st_component=%{x}<br>2nd_component=%{y}<br>Country=%{text}<extra></extra>",
         "legendgroup": "2",
         "marker": {
          "color": "#00cc96",
          "symbol": "circle"
         },
         "mode": "markers+text",
         "name": "2",
         "orientation": "v",
         "showlegend": true,
         "text": [
          "Austria",
          "Belgium",
          "Bulgaria",
          "Denmark",
          "Estonia",
          "Germany",
          "Ireland",
          "Malta",
          "Singapore",
          "United States"
         ],
         "textposition": "top center",
         "type": "scatter",
         "x": [
          -1.36416757106781,
          -1.427109718322754,
          -1.4662518501281738,
          -1.5252851247787476,
          -1.5673149824142456,
          -1.5697739124298096,
          -1.408851981163025,
          -1.4748425483703613,
          -1.4432553052902222,
          -1.6560555696487427
         ],
         "xaxis": "x",
         "y": [
          -0.9532076120376587,
          -0.9712613821029663,
          -0.7167598009109497,
          -1.3291178941726685,
          -0.7571022510528564,
          -1.2773405313491821,
          -0.653917670249939,
          -1.0746171474456787,
          -0.5545016527175903,
          -1.3258862495422363
         ],
         "yaxis": "y"
        },
        {
         "hovertemplate": "Cluster=3<br>1st_component=%{x}<br>2nd_component=%{y}<br>Country=%{text}<extra></extra>",
         "legendgroup": "3",
         "marker": {
          "color": "#ab63fa",
          "symbol": "circle"
         },
         "mode": "markers+text",
         "name": "3",
         "orientation": "v",
         "showlegend": true,
         "text": [
          "Bhutan",
          "Comoros",
          "Gabon",
          "Georgia",
          "India",
          "Indonesia",
          "Iraq",
          "Myanmar",
          "Nepal",
          "Panama",
          "Sri Lanka",
          "Turkmenistan"
         ],
         "textposition": "top center",
         "type": "scatter",
         "x": [
          0.7569605112075806,
          1.4388110637664795,
          1.3497004508972168,
          0.8090795874595642,
          1.051589846611023,
          1.3698029518127441,
          1.3036415576934814,
          1.2364720106124878,
          0.8827674388885498,
          0.784468948841095,
          0.8623781204223633,
          0.8991112112998962
         ],
         "xaxis": "x",
         "y": [
          0.6081451177597046,
          0.9537749290466309,
          0.7381325960159302,
          0.7086273431777954,
          0.8092017769813538,
          0.974260151386261,
          0.8243309259414673,
          0.8272200226783752,
          0.5910364389419556,
          0.8229906558990479,
          0.49215200543403625,
          0.37673282623291016
         ],
         "yaxis": "y"
        },
        {
         "hovertemplate": "Cluster=4<br>1st_component=%{x}<br>2nd_component=%{y}<br>Country=%{text}<extra></extra>",
         "legendgroup": "4",
         "marker": {
          "color": "#FFA15A",
          "symbol": "circle"
         },
         "mode": "markers+text",
         "name": "4",
         "orientation": "v",
         "showlegend": true,
         "text": [
          "Australia",
          "Botswana",
          "Chile",
          "Costa Rica",
          "Eritrea",
          "Finland",
          "Guatemala",
          "Honduras",
          "Israel",
          "Jamaica",
          "Lebanon",
          "Malaysia",
          "Mauritania",
          "Niger",
          "Puerto Rico",
          "Sweden",
          "Switzerland",
          "Togo",
          "Uruguay"
         ],
         "textposition": "top center",
         "type": "scatter",
         "x": [
          -1.1049575805664062,
          -1.4598724842071533,
          -1.0667630434036255,
          -0.6366952061653137,
          -0.6391459107398987,
          -0.9275950193405151,
          -1.1936678886413574,
          -0.6060773134231567,
          -1.2785112857818604,
          -0.7776037454605103,
          -1.0028184652328491,
          -1.0627855062484741,
          -1.1702826023101807,
          -0.6281865239143372,
          -0.7068399786949158,
          -1.1683498620986938,
          -1.3709145784378052,
          -1.0343900918960571,
          -1.392082929611206
         ],
         "xaxis": "x",
         "y": [
          0.16426900029182434,
          -0.16485737264156342,
          0.5031477212905884,
          0.3505181074142456,
          0.032406508922576904,
          -0.000006897326329635689,
          0.15361745655536652,
          -0.02098635397851467,
          0.05356024578213692,
          -0.15923133492469788,
          0.2027003914117813,
          0.017593560740351677,
          0.08003631234169006,
          0.2862358093261719,
          -0.1520918905735016,
          0.3446461260318756,
          -0.21836671233177185,
          0.5681677460670471,
          -0.2905326783657074
         ],
         "yaxis": "y"
        },
        {
         "hovertemplate": "Cluster=5<br>1st_component=%{x}<br>2nd_component=%{y}<br>Country=%{text}<extra></extra>",
         "legendgroup": "5",
         "marker": {
          "color": "#19d3f3",
          "symbol": "circle"
         },
         "mode": "markers+text",
         "name": "5",
         "orientation": "v",
         "showlegend": true,
         "text": [
          "Barbados",
          "Benin",
          "Central African Republic",
          "El Salvador",
          "Eswatini",
          "Fiji",
          "Haiti",
          "Japan",
          "Luxembourg",
          "Mexico",
          "Montenegro",
          "New Caledonia",
          "Nigeria",
          "Russia",
          "Tajikistan",
          "Trinidad and Tobago"
         ],
         "textposition": "top center",
         "type": "scatter",
         "x": [
          1.0497307777404785,
          0.7329789996147156,
          0.6319677233695984,
          0.6557416319847107,
          0.4999031126499176,
          0.5592457056045532,
          0.6253698468208313,
          0.9765554666519165,
          0.7288807034492493,
          0.9144914746284485,
          0.5679005980491638,
          1.0374398231506348,
          0.6306208372116089,
          0.5039852857589722,
          0.3642648458480835,
          0.6294146776199341
         ],
         "xaxis": "x",
         "y": [
          -0.8726897835731506,
          -0.37053483724594116,
          -0.6031078696250916,
          -0.2565433084964752,
          -0.7615624070167542,
          -0.40409478545188904,
          -0.377393901348114,
          -1.07799232006073,
          -0.6316161155700684,
          -1.1346417665481567,
          -0.8340213298797607,
          -1.0212947130203247,
          -0.8756636381149292,
          -0.9747889637947083,
          -0.7257081866264343,
          -0.9751762747764587
         ],
         "yaxis": "y"
        },
        {
         "hovertemplate": "Cluster=6<br>1st_component=%{x}<br>2nd_component=%{y}<br>Country=%{text}<extra></extra>",
         "legendgroup": "6",
         "marker": {
          "color": "#FF6692",
          "symbol": "circle"
         },
         "mode": "markers+text",
         "name": "6",
         "orientation": "v",
         "showlegend": true,
         "text": [
          "Albania",
          "Azerbaijan",
          "Bangladesh",
          "Cambodia",
          "Cameroon",
          "Chad",
          "Ethiopia",
          "Kazakhstan",
          "Madagascar",
          "Mali",
          "Mongolia",
          "Mozambique",
          "Namibia",
          "Senegal",
          "Sierra Leone",
          "Solomon Islands",
          "Thailand",
          "Tonga",
          "Ukraine",
          "Zambia"
         ],
         "textposition": "top center",
         "type": "scatter",
         "x": [
          -0.35583674907684326,
          -0.06292183697223663,
          0.10700637847185135,
          -0.16751138865947723,
          0.27230104804039,
          0.14339791238307953,
          0.13082650303840637,
          -0.22629618644714355,
          -0.2875782549381256,
          0.24722959101200104,
          -0.09053146094083786,
          0.45399603247642517,
          0.03560955449938774,
          0.3577544689178467,
          0.2250710278749466,
          0.30756330490112305,
          0.2910168468952179,
          0.30064594745635986,
          -0.32076308131217957,
          -0.2570633590221405
         ],
         "xaxis": "x",
         "y": [
          1.3588452339172363,
          1.6646984815597534,
          1.3563488721847534,
          1.254409909248352,
          1.519643783569336,
          1.6770472526550293,
          1.4628041982650757,
          1.4254236221313477,
          1.327370047569275,
          1.9465296268463135,
          1.4668941497802734,
          1.5102778673171997,
          1.6202378273010254,
          1.4605299234390259,
          1.812943935394287,
          1.5972307920455933,
          2.050581932067871,
          1.778619647026062,
          1.9648430347442627,
          1.9398821592330933
         ],
         "yaxis": "y"
        },
        {
         "hovertemplate": "Cluster=7<br>1st_component=%{x}<br>2nd_component=%{y}<br>Country=%{text}<extra></extra>",
         "legendgroup": "7",
         "marker": {
          "color": "#B6E880",
          "symbol": "circle"
         },
         "mode": "markers+text",
         "name": "7",
         "orientation": "v",
         "showlegend": true,
         "text": [
          "Algeria",
          "Burkina Faso",
          "Burundi",
          "Ecuador",
          "Guinea",
          "Jordan",
          "Kenya",
          "Morocco",
          "Nicaragua",
          "Paraguay",
          "Peru",
          "Philippines",
          "Rwanda",
          "Tunisia",
          "Uzbekistan"
         ],
         "textposition": "top center",
         "type": "scatter",
         "x": [
          -0.8531955480575562,
          -0.5172182321548462,
          -0.9527572989463806,
          -0.9864535927772522,
          -0.8286912441253662,
          -1.6510258913040161,
          -1.6799652576446533,
          -0.5767821073532104,
          -1.6909699440002441,
          -0.9280921816825867,
          -1.012686848640442,
          -0.97459876537323,
          -0.48085910081863403,
          -0.7929101586341858,
          -0.5062888860702515
         ],
         "xaxis": "x",
         "y": [
          1.2594903707504272,
          1.1845155954360962,
          1.3378174304962158,
          0.9935709238052368,
          1.3596304655075073,
          0.9122795462608337,
          0.7978852391242981,
          1.2429018020629883,
          0.7285109162330627,
          1.1173245906829834,
          1.4102681875228882,
          0.6729707717895508,
          1.266744613647461,
          1.2255518436431885,
          1.068814992904663
         ],
         "yaxis": "y"
        },
        {
         "hovertemplate": "Cluster=8<br>1st_component=%{x}<br>2nd_component=%{y}<br>Country=%{text}<extra></extra>",
         "legendgroup": "8",
         "marker": {
          "color": "#FF97FF",
          "symbol": "circle"
         },
         "mode": "markers+text",
         "name": "8",
         "orientation": "v",
         "showlegend": true,
         "text": [
          "Belize",
          "Canada",
          "Cuba",
          "France",
          "Hungary",
          "Malawi",
          "Mauritius",
          "Netherlands",
          "New Zealand",
          "North Macedonia",
          "Norway",
          "Portugal",
          "South Africa",
          "United Kingdom"
         ],
         "textposition": "top center",
         "type": "scatter",
         "x": [
          -0.1375918686389923,
          -0.8901705145835876,
          -0.31199753284454346,
          -0.8784029483795166,
          -0.8764505386352539,
          -0.20691578090190887,
          -0.4778864085674286,
          -0.7060373425483704,
          -0.36359870433807373,
          -0.9008136987686157,
          -0.9584218859672546,
          -0.8952252864837646,
          -0.5939161777496338,
          -0.777720034122467
         ],
         "xaxis": "x",
         "y": [
          -0.5277619957923889,
          -0.5821239948272705,
          -0.3367026150226593,
          -0.7297634482383728,
          -1.1732314825057983,
          -0.5744534730911255,
          -0.6748908162117004,
          -0.7059253454208374,
          -0.2968427538871765,
          -0.8960004448890686,
          -0.7072645425796509,
          -1.0745484828948975,
          -0.6935126781463623,
          -0.7059963941574097
         ],
         "yaxis": "y"
        },
        {
         "hovertemplate": "Cluster=9<br>1st_component=%{x}<br>2nd_component=%{y}<br>Country=%{text}<extra></extra>",
         "legendgroup": "9",
         "marker": {
          "color": "#FECB52",
          "symbol": "circle"
         },
         "mode": "markers+text",
         "name": "9",
         "orientation": "v",
         "showlegend": true,
         "text": [
          "Angola",
          "Bahrain",
          "Croatia",
          "Equatorial Guinea",
          "French Polynesia",
          "Greece",
          "Italy",
          "Kuwait",
          "Oman",
          "Pakistan",
          "Qatar",
          "Saudi Arabia",
          "Seychelles",
          "Suriname",
          "Uganda",
          "Vanuatu",
          "Zimbabwe"
         ],
         "textposition": "top center",
         "type": "scatter",
         "x": [
          1.8840662240982056,
          1.949092984199524,
          1.312219262123108,
          1.8145989179611206,
          1.5342267751693726,
          1.4116212129592896,
          1.4482725858688354,
          2.046516180038452,
          2.1124069690704346,
          2.1068241596221924,
          1.8857371807098389,
          1.9073220491409302,
          1.4703476428985596,
          1.8332242965698242,
          1.8554208278656006,
          2.195366144180298,
          1.8685959577560425
         ],
         "xaxis": "x",
         "y": [
          -1.495919942855835,
          -0.5806640386581421,
          -1.0192838907241821,
          -0.7178435921669006,
          -0.9160180687904358,
          -1.0372577905654907,
          -1.1057796478271484,
          -0.6622858643531799,
          -0.691321849822998,
          -0.8306896686553955,
          -0.7473795413970947,
          -0.914257824420929,
          -0.9682921767234802,
          -0.8564410209655762,
          -1.6490566730499268,
          -0.6329872012138367,
          -1.5809704065322876
         ],
         "yaxis": "y"
        }
       ],
       "layout": {
        "legend": {
         "title": {
          "text": "Cluster"
         },
         "tracegroupgap": 0
        },
        "margin": {
         "t": 60
        },
        "template": {
         "data": {
          "bar": [
           {
            "error_x": {
             "color": "#2a3f5f"
            },
            "error_y": {
             "color": "#2a3f5f"
            },
            "marker": {
             "line": {
              "color": "#E5ECF6",
              "width": 0.5
             },
             "pattern": {
              "fillmode": "overlay",
              "size": 10,
              "solidity": 0.2
             }
            },
            "type": "bar"
           }
          ],
          "barpolar": [
           {
            "marker": {
             "line": {
              "color": "#E5ECF6",
              "width": 0.5
             },
             "pattern": {
              "fillmode": "overlay",
              "size": 10,
              "solidity": 0.2
             }
            },
            "type": "barpolar"
           }
          ],
          "carpet": [
           {
            "aaxis": {
             "endlinecolor": "#2a3f5f",
             "gridcolor": "white",
             "linecolor": "white",
             "minorgridcolor": "white",
             "startlinecolor": "#2a3f5f"
            },
            "baxis": {
             "endlinecolor": "#2a3f5f",
             "gridcolor": "white",
             "linecolor": "white",
             "minorgridcolor": "white",
             "startlinecolor": "#2a3f5f"
            },
            "type": "carpet"
           }
          ],
          "choropleth": [
           {
            "colorbar": {
             "outlinewidth": 0,
             "ticks": ""
            },
            "type": "choropleth"
           }
          ],
          "contour": [
           {
            "colorbar": {
             "outlinewidth": 0,
             "ticks": ""
            },
            "colorscale": [
             [
              0,
              "#0d0887"
             ],
             [
              0.1111111111111111,
              "#46039f"
             ],
             [
              0.2222222222222222,
              "#7201a8"
             ],
             [
              0.3333333333333333,
              "#9c179e"
             ],
             [
              0.4444444444444444,
              "#bd3786"
             ],
             [
              0.5555555555555556,
              "#d8576b"
             ],
             [
              0.6666666666666666,
              "#ed7953"
             ],
             [
              0.7777777777777778,
              "#fb9f3a"
             ],
             [
              0.8888888888888888,
              "#fdca26"
             ],
             [
              1,
              "#f0f921"
             ]
            ],
            "type": "contour"
           }
          ],
          "contourcarpet": [
           {
            "colorbar": {
             "outlinewidth": 0,
             "ticks": ""
            },
            "type": "contourcarpet"
           }
          ],
          "heatmap": [
           {
            "colorbar": {
             "outlinewidth": 0,
             "ticks": ""
            },
            "colorscale": [
             [
              0,
              "#0d0887"
             ],
             [
              0.1111111111111111,
              "#46039f"
             ],
             [
              0.2222222222222222,
              "#7201a8"
             ],
             [
              0.3333333333333333,
              "#9c179e"
             ],
             [
              0.4444444444444444,
              "#bd3786"
             ],
             [
              0.5555555555555556,
              "#d8576b"
             ],
             [
              0.6666666666666666,
              "#ed7953"
             ],
             [
              0.7777777777777778,
              "#fb9f3a"
             ],
             [
              0.8888888888888888,
              "#fdca26"
             ],
             [
              1,
              "#f0f921"
             ]
            ],
            "type": "heatmap"
           }
          ],
          "heatmapgl": [
           {
            "colorbar": {
             "outlinewidth": 0,
             "ticks": ""
            },
            "colorscale": [
             [
              0,
              "#0d0887"
             ],
             [
              0.1111111111111111,
              "#46039f"
             ],
             [
              0.2222222222222222,
              "#7201a8"
             ],
             [
              0.3333333333333333,
              "#9c179e"
             ],
             [
              0.4444444444444444,
              "#bd3786"
             ],
             [
              0.5555555555555556,
              "#d8576b"
             ],
             [
              0.6666666666666666,
              "#ed7953"
             ],
             [
              0.7777777777777778,
              "#fb9f3a"
             ],
             [
              0.8888888888888888,
              "#fdca26"
             ],
             [
              1,
              "#f0f921"
             ]
            ],
            "type": "heatmapgl"
           }
          ],
          "histogram": [
           {
            "marker": {
             "pattern": {
              "fillmode": "overlay",
              "size": 10,
              "solidity": 0.2
             }
            },
            "type": "histogram"
           }
          ],
          "histogram2d": [
           {
            "colorbar": {
             "outlinewidth": 0,
             "ticks": ""
            },
            "colorscale": [
             [
              0,
              "#0d0887"
             ],
             [
              0.1111111111111111,
              "#46039f"
             ],
             [
              0.2222222222222222,
              "#7201a8"
             ],
             [
              0.3333333333333333,
              "#9c179e"
             ],
             [
              0.4444444444444444,
              "#bd3786"
             ],
             [
              0.5555555555555556,
              "#d8576b"
             ],
             [
              0.6666666666666666,
              "#ed7953"
             ],
             [
              0.7777777777777778,
              "#fb9f3a"
             ],
             [
              0.8888888888888888,
              "#fdca26"
             ],
             [
              1,
              "#f0f921"
             ]
            ],
            "type": "histogram2d"
           }
          ],
          "histogram2dcontour": [
           {
            "colorbar": {
             "outlinewidth": 0,
             "ticks": ""
            },
            "colorscale": [
             [
              0,
              "#0d0887"
             ],
             [
              0.1111111111111111,
              "#46039f"
             ],
             [
              0.2222222222222222,
              "#7201a8"
             ],
             [
              0.3333333333333333,
              "#9c179e"
             ],
             [
              0.4444444444444444,
              "#bd3786"
             ],
             [
              0.5555555555555556,
              "#d8576b"
             ],
             [
              0.6666666666666666,
              "#ed7953"
             ],
             [
              0.7777777777777778,
              "#fb9f3a"
             ],
             [
              0.8888888888888888,
              "#fdca26"
             ],
             [
              1,
              "#f0f921"
             ]
            ],
            "type": "histogram2dcontour"
           }
          ],
          "mesh3d": [
           {
            "colorbar": {
             "outlinewidth": 0,
             "ticks": ""
            },
            "type": "mesh3d"
           }
          ],
          "parcoords": [
           {
            "line": {
             "colorbar": {
              "outlinewidth": 0,
              "ticks": ""
             }
            },
            "type": "parcoords"
           }
          ],
          "pie": [
           {
            "automargin": true,
            "type": "pie"
           }
          ],
          "scatter": [
           {
            "fillpattern": {
             "fillmode": "overlay",
             "size": 10,
             "solidity": 0.2
            },
            "type": "scatter"
           }
          ],
          "scatter3d": [
           {
            "line": {
             "colorbar": {
              "outlinewidth": 0,
              "ticks": ""
             }
            },
            "marker": {
             "colorbar": {
              "outlinewidth": 0,
              "ticks": ""
             }
            },
            "type": "scatter3d"
           }
          ],
          "scattercarpet": [
           {
            "marker": {
             "colorbar": {
              "outlinewidth": 0,
              "ticks": ""
             }
            },
            "type": "scattercarpet"
           }
          ],
          "scattergeo": [
           {
            "marker": {
             "colorbar": {
              "outlinewidth": 0,
              "ticks": ""
             }
            },
            "type": "scattergeo"
           }
          ],
          "scattergl": [
           {
            "marker": {
             "colorbar": {
              "outlinewidth": 0,
              "ticks": ""
             }
            },
            "type": "scattergl"
           }
          ],
          "scattermapbox": [
           {
            "marker": {
             "colorbar": {
              "outlinewidth": 0,
              "ticks": ""
             }
            },
            "type": "scattermapbox"
           }
          ],
          "scatterpolar": [
           {
            "marker": {
             "colorbar": {
              "outlinewidth": 0,
              "ticks": ""
             }
            },
            "type": "scatterpolar"
           }
          ],
          "scatterpolargl": [
           {
            "marker": {
             "colorbar": {
              "outlinewidth": 0,
              "ticks": ""
             }
            },
            "type": "scatterpolargl"
           }
          ],
          "scatterternary": [
           {
            "marker": {
             "colorbar": {
              "outlinewidth": 0,
              "ticks": ""
             }
            },
            "type": "scatterternary"
           }
          ],
          "surface": [
           {
            "colorbar": {
             "outlinewidth": 0,
             "ticks": ""
            },
            "colorscale": [
             [
              0,
              "#0d0887"
             ],
             [
              0.1111111111111111,
              "#46039f"
             ],
             [
              0.2222222222222222,
              "#7201a8"
             ],
             [
              0.3333333333333333,
              "#9c179e"
             ],
             [
              0.4444444444444444,
              "#bd3786"
             ],
             [
              0.5555555555555556,
              "#d8576b"
             ],
             [
              0.6666666666666666,
              "#ed7953"
             ],
             [
              0.7777777777777778,
              "#fb9f3a"
             ],
             [
              0.8888888888888888,
              "#fdca26"
             ],
             [
              1,
              "#f0f921"
             ]
            ],
            "type": "surface"
           }
          ],
          "table": [
           {
            "cells": {
             "fill": {
              "color": "#EBF0F8"
             },
             "line": {
              "color": "white"
             }
            },
            "header": {
             "fill": {
              "color": "#C8D4E3"
             },
             "line": {
              "color": "white"
             }
            },
            "type": "table"
           }
          ]
         },
         "layout": {
          "annotationdefaults": {
           "arrowcolor": "#2a3f5f",
           "arrowhead": 0,
           "arrowwidth": 1
          },
          "autotypenumbers": "strict",
          "coloraxis": {
           "colorbar": {
            "outlinewidth": 0,
            "ticks": ""
           }
          },
          "colorscale": {
           "diverging": [
            [
             0,
             "#8e0152"
            ],
            [
             0.1,
             "#c51b7d"
            ],
            [
             0.2,
             "#de77ae"
            ],
            [
             0.3,
             "#f1b6da"
            ],
            [
             0.4,
             "#fde0ef"
            ],
            [
             0.5,
             "#f7f7f7"
            ],
            [
             0.6,
             "#e6f5d0"
            ],
            [
             0.7,
             "#b8e186"
            ],
            [
             0.8,
             "#7fbc41"
            ],
            [
             0.9,
             "#4d9221"
            ],
            [
             1,
             "#276419"
            ]
           ],
           "sequential": [
            [
             0,
             "#0d0887"
            ],
            [
             0.1111111111111111,
             "#46039f"
            ],
            [
             0.2222222222222222,
             "#7201a8"
            ],
            [
             0.3333333333333333,
             "#9c179e"
            ],
            [
             0.4444444444444444,
             "#bd3786"
            ],
            [
             0.5555555555555556,
             "#d8576b"
            ],
            [
             0.6666666666666666,
             "#ed7953"
            ],
            [
             0.7777777777777778,
             "#fb9f3a"
            ],
            [
             0.8888888888888888,
             "#fdca26"
            ],
            [
             1,
             "#f0f921"
            ]
           ],
           "sequentialminus": [
            [
             0,
             "#0d0887"
            ],
            [
             0.1111111111111111,
             "#46039f"
            ],
            [
             0.2222222222222222,
             "#7201a8"
            ],
            [
             0.3333333333333333,
             "#9c179e"
            ],
            [
             0.4444444444444444,
             "#bd3786"
            ],
            [
             0.5555555555555556,
             "#d8576b"
            ],
            [
             0.6666666666666666,
             "#ed7953"
            ],
            [
             0.7777777777777778,
             "#fb9f3a"
            ],
            [
             0.8888888888888888,
             "#fdca26"
            ],
            [
             1,
             "#f0f921"
            ]
           ]
          },
          "colorway": [
           "#636efa",
           "#EF553B",
           "#00cc96",
           "#ab63fa",
           "#FFA15A",
           "#19d3f3",
           "#FF6692",
           "#B6E880",
           "#FF97FF",
           "#FECB52"
          ],
          "font": {
           "color": "#2a3f5f"
          },
          "geo": {
           "bgcolor": "white",
           "lakecolor": "white",
           "landcolor": "#E5ECF6",
           "showlakes": true,
           "showland": true,
           "subunitcolor": "white"
          },
          "hoverlabel": {
           "align": "left"
          },
          "hovermode": "closest",
          "mapbox": {
           "style": "light"
          },
          "paper_bgcolor": "white",
          "plot_bgcolor": "#E5ECF6",
          "polar": {
           "angularaxis": {
            "gridcolor": "white",
            "linecolor": "white",
            "ticks": ""
           },
           "bgcolor": "#E5ECF6",
           "radialaxis": {
            "gridcolor": "white",
            "linecolor": "white",
            "ticks": ""
           }
          },
          "scene": {
           "xaxis": {
            "backgroundcolor": "#E5ECF6",
            "gridcolor": "white",
            "gridwidth": 2,
            "linecolor": "white",
            "showbackground": true,
            "ticks": "",
            "zerolinecolor": "white"
           },
           "yaxis": {
            "backgroundcolor": "#E5ECF6",
            "gridcolor": "white",
            "gridwidth": 2,
            "linecolor": "white",
            "showbackground": true,
            "ticks": "",
            "zerolinecolor": "white"
           },
           "zaxis": {
            "backgroundcolor": "#E5ECF6",
            "gridcolor": "white",
            "gridwidth": 2,
            "linecolor": "white",
            "showbackground": true,
            "ticks": "",
            "zerolinecolor": "white"
           }
          },
          "shapedefaults": {
           "line": {
            "color": "#2a3f5f"
           }
          },
          "ternary": {
           "aaxis": {
            "gridcolor": "white",
            "linecolor": "white",
            "ticks": ""
           },
           "baxis": {
            "gridcolor": "white",
            "linecolor": "white",
            "ticks": ""
           },
           "bgcolor": "#E5ECF6",
           "caxis": {
            "gridcolor": "white",
            "linecolor": "white",
            "ticks": ""
           }
          },
          "title": {
           "x": 0.05
          },
          "xaxis": {
           "automargin": true,
           "gridcolor": "white",
           "linecolor": "white",
           "ticks": "",
           "title": {
            "standoff": 15
           },
           "zerolinecolor": "white",
           "zerolinewidth": 2
          },
          "yaxis": {
           "automargin": true,
           "gridcolor": "white",
           "linecolor": "white",
           "ticks": "",
           "title": {
            "standoff": 15
           },
           "zerolinecolor": "white",
           "zerolinewidth": 2
          }
         }
        },
        "title": {
         "text": "Economic Indicators",
         "x": 0.5
        },
        "xaxis": {
         "anchor": "y",
         "domain": [
          0,
          1
         ],
         "title": {
          "text": "1st_component"
         }
        },
        "yaxis": {
         "anchor": "x",
         "domain": [
          0,
          1
         ],
         "title": {
          "text": "2nd_component"
         }
        }
       }
      }
     },
     "metadata": {},
     "output_type": "display_data"
    },
    {
     "data": {
      "application/vnd.plotly.v1+json": {
       "config": {
        "plotlyServerURL": "https://plot.ly"
       },
       "data": [
        {
         "hovertemplate": "Cluster=0<br>1st_component=%{x}<br>2nd_component=%{y}<br>Country=%{text}<extra></extra>",
         "legendgroup": "0",
         "marker": {
          "color": "#636efa",
          "symbol": "circle"
         },
         "mode": "markers+text",
         "name": "0",
         "orientation": "v",
         "showlegend": true,
         "text": [
          "Bangladesh",
          "Benin",
          "Guatemala",
          "Haiti",
          "Honduras",
          "India",
          "Madagascar",
          "Nicaragua",
          "Pakistan",
          "Sierra Leone"
         ],
         "textposition": "top center",
         "type": "scatter",
         "x": [
          -1.37183678150177,
          -1.1072722673416138,
          -1.350104570388794,
          -1.0066455602645874,
          -1.0702848434448242,
          -1.4263761043548584,
          -1.0627789497375488,
          -1.4178118705749512,
          -1.0336687564849854,
          -0.9641743898391724
         ],
         "xaxis": "x",
         "y": [
          1.9751237630844116,
          1.8192458152770996,
          2.0176708698272705,
          1.713295578956604,
          1.877543330192566,
          2.1060829162597656,
          1.7528668642044067,
          2.028130292892456,
          1.8102149963378906,
          1.6283143758773804
         ],
         "yaxis": "y"
        },
        {
         "hovertemplate": "Cluster=1<br>1st_component=%{x}<br>2nd_component=%{y}<br>Country=%{text}<extra></extra>",
         "legendgroup": "1",
         "marker": {
          "color": "#EF553B",
          "symbol": "circle"
         },
         "mode": "markers+text",
         "name": "1",
         "orientation": "v",
         "showlegend": true,
         "text": [
          "Angola",
          "Argentina",
          "Denmark",
          "Ecuador",
          "Equatorial Guinea",
          "Eswatini",
          "Iraq",
          "Ireland",
          "Lesotho",
          "Mozambique",
          "Netherlands",
          "New Zealand",
          "Peru",
          "Qatar"
         ],
         "textposition": "top center",
         "type": "scatter",
         "x": [
          -0.5376961827278137,
          -0.5899857878684998,
          -0.56792813539505,
          -0.31370770931243896,
          -0.5013546943664551,
          -0.45633235573768616,
          -0.6306732296943665,
          -0.39765045046806335,
          -0.5016494989395142,
          -0.6743720769882202,
          -0.253570556640625,
          -0.26729559898376465,
          -0.4039986729621887,
          -0.7229775190353394
         ],
         "xaxis": "x",
         "y": [
          -0.7102950215339661,
          -0.7091313004493713,
          -0.634392499923706,
          -0.20464690029621124,
          -0.830295205116272,
          -0.6272565126419067,
          -0.572248101234436,
          -0.562190592288971,
          -0.9230449795722961,
          -0.6684941053390503,
          -0.2923414707183838,
          -0.21599288284778595,
          -0.1869315505027771,
          -0.673780083656311
         ],
         "yaxis": "y"
        },
        {
         "hovertemplate": "Cluster=2<br>1st_component=%{x}<br>2nd_component=%{y}<br>Country=%{text}<extra></extra>",
         "legendgroup": "2",
         "marker": {
          "color": "#00cc96",
          "symbol": "circle"
         },
         "mode": "markers+text",
         "name": "2",
         "orientation": "v",
         "showlegend": true,
         "text": [
          "Australia",
          "Belgium",
          "Canada",
          "Finland",
          "France",
          "Israel",
          "Lebanon",
          "Singapore",
          "Slovenia",
          "South Africa",
          "Spain",
          "Switzerland",
          "United Kingdom",
          "United States"
         ],
         "textposition": "top center",
         "type": "scatter",
         "x": [
          0.726530134677887,
          0.7634595036506653,
          0.7712518572807312,
          0.6838499307632446,
          0.5067569613456726,
          0.7627629637718201,
          0.7589191794395447,
          0.08497218787670135,
          0.6882792115211487,
          0.8143519163131714,
          0.6050307750701904,
          0.7276467084884644,
          0.6948174238204956,
          0.4125403165817261
         ],
         "xaxis": "x",
         "y": [
          0.004481493961066008,
          -0.5177283883094788,
          0.041780948638916016,
          -0.25191444158554077,
          -0.019556697458028793,
          -0.6090376973152161,
          -0.1344028115272522,
          -0.2617989778518677,
          -0.3051970899105072,
          -0.46148112416267395,
          -0.05416835844516754,
          -0.5710500478744507,
          -0.0448283776640892,
          0.0490938276052475
         ],
         "yaxis": "y"
        },
        {
         "hovertemplate": "Cluster=3<br>1st_component=%{x}<br>2nd_component=%{y}<br>Country=%{text}<extra></extra>",
         "legendgroup": "3",
         "marker": {
          "color": "#ab63fa",
          "symbol": "circle"
         },
         "mode": "markers+text",
         "name": "3",
         "orientation": "v",
         "showlegend": true,
         "text": [
          "Albania",
          "Armenia",
          "Belarus",
          "Bosnia and Herzegovina",
          "Bulgaria",
          "Croatia",
          "Estonia",
          "French Polynesia",
          "Georgia",
          "Germany",
          "Greece",
          "Hungary",
          "Italy",
          "Japan",
          "Latvia",
          "Libya",
          "Lithuania",
          "Poland",
          "Portugal",
          "Puerto Rico",
          "Romania",
          "Russia",
          "Serbia",
          "Ukraine"
         ],
         "textposition": "top center",
         "type": "scatter",
         "x": [
          1.751791000366211,
          1.3349642753601074,
          1.7288389205932617,
          1.8093098402023315,
          1.7335797548294067,
          1.4812963008880615,
          1.7486399412155151,
          1.0686696767807007,
          1.6083382368087769,
          1.4431160688400269,
          1.1852129697799683,
          1.6024625301361084,
          1.1009565591812134,
          0.9467893242835999,
          1.5319139957427979,
          1.019153356552124,
          1.7070473432540894,
          1.298751950263977,
          0.9028978943824768,
          1.2332260608673096,
          1.683517575263977,
          1.7245742082595825,
          1.7953990697860718,
          1.5710307359695435
         ],
         "xaxis": "x",
         "y": [
          0.989290714263916,
          0.424157977104187,
          0.1742064505815506,
          1.0240432024002075,
          0.8678690791130066,
          0.6851850748062134,
          0.23961296677589417,
          0.9812049269676208,
          0.5633008480072021,
          0.7102846503257751,
          0.9406003355979919,
          0.8605675101280212,
          0.9338473081588745,
          0.911987841129303,
          0.5831257700920105,
          0.9830971956253052,
          0.7978111505508423,
          0.40162235498428345,
          0.8946106433868408,
          0.35894715785980225,
          0.8710994124412537,
          0.12049992382526398,
          1.0748647451400757,
          0.5215207934379578
         ],
         "yaxis": "y"
        },
        {
         "hovertemplate": "Cluster=4<br>1st_component=%{x}<br>2nd_component=%{y}<br>Country=%{text}<extra></extra>",
         "legendgroup": "4",
         "marker": {
          "color": "#FFA15A",
          "symbol": "circle"
         },
         "mode": "markers+text",
         "name": "4",
         "orientation": "v",
         "showlegend": true,
         "text": [
          "Bahrain",
          "Belize",
          "Bhutan",
          "Brazil",
          "Burkina Faso",
          "Cambodia",
          "Central African Republic",
          "Chad",
          "Comoros",
          "Ethiopia",
          "Ghana",
          "Indonesia",
          "Kenya",
          "Myanmar",
          "Papua New Guinea",
          "Togo",
          "United Arab Emirates"
         ],
         "textposition": "top center",
         "type": "scatter",
         "x": [
          -0.8944143652915955,
          -1.186224102973938,
          -1.1956263780593872,
          -0.6633276343345642,
          -1.3470574617385864,
          -1.2367377281188965,
          -0.7366307973861694,
          -0.7726590037345886,
          -1.1867655515670776,
          -1.070761799812317,
          -1.102497935295105,
          -1.0358548164367676,
          -1.0301525592803955,
          -1.335321307182312,
          -1.1824679374694824,
          -1.1785101890563965,
          -0.9442225694656372
         ],
         "xaxis": "x",
         "y": [
          1.3822811841964722,
          0.9074081182479858,
          1.1977018117904663,
          1.4737579822540283,
          0.618377685546875,
          1.2472965717315674,
          1.5164711475372314,
          1.543054223060608,
          1.0805860757827759,
          1.2695058584213257,
          1.3254406452178955,
          1.3771165609359741,
          1.247918963432312,
          0.6649194955825806,
          0.9839527010917664,
          1.2706125974655151,
          1.417739748954773
         ],
         "yaxis": "y"
        },
        {
         "hovertemplate": "Cluster=5<br>1st_component=%{x}<br>2nd_component=%{y}<br>Country=%{text}<extra></extra>",
         "legendgroup": "5",
         "marker": {
          "color": "#19d3f3",
          "symbol": "circle"
         },
         "mode": "markers+text",
         "name": "5",
         "orientation": "v",
         "showlegend": true,
         "text": [
          "Afghanistan",
          "Botswana",
          "Burundi",
          "Cameroon",
          "Djibouti",
          "Jordan",
          "Liberia",
          "Malawi",
          "Mali",
          "Mauritania",
          "Nepal",
          "Sao Tome and Principe",
          "Saudi Arabia",
          "Solomon Islands",
          "Vanuatu"
         ],
         "textposition": "top center",
         "type": "scatter",
         "x": [
          -1.1286592483520508,
          -1.1466946601867676,
          -1.3176971673965454,
          -1.4145487546920776,
          -1.433964729309082,
          -1.0322961807250977,
          -1.2250324487686157,
          -1.2651255130767822,
          -1.4624451398849487,
          -1.2084119319915771,
          -1.5589457750320435,
          -1.4787383079528809,
          -1.077968716621399,
          -1.393300175666809,
          -1.1162352561950684
         ],
         "xaxis": "x",
         "y": [
          -0.4129970073699951,
          -0.5468782186508179,
          -0.47104930877685547,
          -0.25727853178977966,
          -0.12480772286653519,
          -0.2866205871105194,
          -0.4328107237815857,
          -0.3730546534061432,
          -0.18715934455394745,
          -0.37341389060020447,
          -0.16092698276042938,
          -0.2527671754360199,
          -0.35512790083885193,
          -0.18993784487247467,
          -0.6222124099731445
         ],
         "yaxis": "y"
        },
        {
         "hovertemplate": "Cluster=6<br>1st_component=%{x}<br>2nd_component=%{y}<br>Country=%{text}<extra></extra>",
         "legendgroup": "6",
         "marker": {
          "color": "#FF6692",
          "symbol": "circle"
         },
         "mode": "markers+text",
         "name": "6",
         "orientation": "v",
         "showlegend": true,
         "text": [
          "Guinea",
          "Guinea-Bissau",
          "Iceland",
          "Luxembourg",
          "Maldives",
          "Malta",
          "Morocco",
          "Nigeria",
          "Oman",
          "Rwanda",
          "Senegal",
          "Uganda",
          "Uruguay",
          "Zambia"
         ],
         "textposition": "top center",
         "type": "scatter",
         "x": [
          -0.35848313570022583,
          -0.4855143129825592,
          -0.6521707773208618,
          -0.27012693881988525,
          -0.5588959455490112,
          -0.6756488084793091,
          -0.4988069236278534,
          -0.42081350088119507,
          -0.23774877190589905,
          -0.5219821333885193,
          -0.4100376069545746,
          -0.3803296983242035,
          -0.7481059432029724,
          -0.35709071159362793
         ],
         "xaxis": "x",
         "y": [
          -2.0319430828094482,
          -2.1029279232025146,
          -1.3818035125732422,
          -1.9822739362716675,
          -2.0669713020324707,
          -1.346838116645813,
          -2.0353333950042725,
          -1.862667441368103,
          -1.8892322778701782,
          -2.1512601375579834,
          -2.0683462619781494,
          -1.9724972248077393,
          -1.3915873765945435,
          -1.8456975221633911
         ],
         "yaxis": "y"
        },
        {
         "hovertemplate": "Cluster=7<br>1st_component=%{x}<br>2nd_component=%{y}<br>Country=%{text}<extra></extra>",
         "legendgroup": "7",
         "marker": {
          "color": "#B6E880",
          "symbol": "circle"
         },
         "mode": "markers+text",
         "name": "7",
         "orientation": "v",
         "showlegend": true,
         "text": [
          "Chile",
          "China",
          "Colombia",
          "Costa Rica",
          "Cuba",
          "Dominican Republic",
          "El Salvador",
          "Fiji",
          "Jamaica",
          "Malaysia",
          "Mexico",
          "Montenegro",
          "New Caledonia",
          "North Macedonia",
          "Panama",
          "Paraguay",
          "Philippines",
          "Seychelles",
          "Thailand"
         ],
         "textposition": "top center",
         "type": "scatter",
         "x": [
          -0.12890414893627167,
          -0.05986981838941574,
          0.020067064091563225,
          -0.015655748546123505,
          -0.05851992219686508,
          0.3314421474933624,
          -0.1510917693376541,
          0.26447805762290955,
          -0.2045760452747345,
          0.11087525635957718,
          -0.1816854178905487,
          0.016177339479327202,
          0.38095343112945557,
          0.0866304561495781,
          0.014170216396450996,
          -0.08619892597198486,
          0.03948910906910896,
          0.3262128531932831,
          0.08423160016536713
         ],
         "xaxis": "x",
         "y": [
          0.30956795811653137,
          0.08341024070978165,
          0.0354728177189827,
          0.4994381368160248,
          0.37152761220932007,
          0.04341774061322212,
          0.35210463404655457,
          0.5554856061935425,
          0.5927456021308899,
          0.46277251839637756,
          0.6314465403556824,
          0.0879744440317154,
          0.5501936078071594,
          -0.21450012922286987,
          0.4193298816680908,
          -0.06770734488964081,
          0.373402863740921,
          0.5608648061752319,
          0.03203824535012245
         ],
         "yaxis": "y"
        },
        {
         "hovertemplate": "Cluster=8<br>1st_component=%{x}<br>2nd_component=%{y}<br>Country=%{text}<extra></extra>",
         "legendgroup": "8",
         "marker": {
          "color": "#FF97FF",
          "symbol": "circle"
         },
         "mode": "markers+text",
         "name": "8",
         "orientation": "v",
         "showlegend": true,
         "text": [
          "Austria",
          "Barbados",
          "Cyprus",
          "Eritrea",
          "Guyana",
          "Kuwait",
          "Mauritius",
          "Niger",
          "Samoa",
          "Sri Lanka",
          "Suriname",
          "Tonga",
          "Trinidad and Tobago",
          "Zimbabwe"
         ],
         "textposition": "top center",
         "type": "scatter",
         "x": [
          0.17141953110694885,
          0.16344484686851501,
          0.10095462948083878,
          -0.23291565477848053,
          -0.13101810216903687,
          -0.240507572889328,
          0.20701152086257935,
          -0.24407169222831726,
          -0.03890934959053993,
          0.050684425979852676,
          0.04100838303565979,
          0.08300377428531647,
          0.22441630065441132,
          -0.1355161815881729
         ],
         "xaxis": "x",
         "y": [
          -0.9777403473854065,
          -0.7398638129234314,
          -0.9349588751792908,
          -1.0218216180801392,
          -1.171467661857605,
          -1.076237678527832,
          -0.7264599204063416,
          -1.2060890197753906,
          -0.9961381554603577,
          -0.5847336649894714,
          -0.9543309807777405,
          -0.5604011416435242,
          -1.0007901191711426,
          -1.0093387365341187
         ],
         "yaxis": "y"
        },
        {
         "hovertemplate": "Cluster=9<br>1st_component=%{x}<br>2nd_component=%{y}<br>Country=%{text}<extra></extra>",
         "legendgroup": "9",
         "marker": {
          "color": "#FECB52",
          "symbol": "circle"
         },
         "mode": "markers+text",
         "name": "9",
         "orientation": "v",
         "showlegend": true,
         "text": [
          "Algeria",
          "Azerbaijan",
          "Gabon",
          "Kazakhstan",
          "Mongolia",
          "Namibia",
          "Norway",
          "Sweden",
          "Tajikistan",
          "Tunisia",
          "Turkmenistan",
          "Uzbekistan"
         ],
         "textposition": "top center",
         "type": "scatter",
         "x": [
          1.341569185256958,
          1.3736793994903564,
          1.4594745635986328,
          1.548875331878662,
          1.6597459316253662,
          1.4973164796829224,
          1.401158332824707,
          1.4834524393081665,
          1.5974469184875488,
          1.290931224822998,
          1.5501583814620972,
          1.5415102243423462
         ],
         "xaxis": "x",
         "y": [
          -0.34467795491218567,
          -0.38371121883392334,
          -0.7476019859313965,
          -0.5017927289009094,
          -0.5032424926757812,
          -0.7847216129302979,
          -0.7548768520355225,
          -0.5566374063491821,
          -0.5741268992424011,
          -0.2764873504638672,
          -0.7669783234596252,
          -0.5664775371551514
         ],
         "yaxis": "y"
        }
       ],
       "layout": {
        "legend": {
         "title": {
          "text": "Cluster"
         },
         "tracegroupgap": 0
        },
        "margin": {
         "t": 60
        },
        "template": {
         "data": {
          "bar": [
           {
            "error_x": {
             "color": "#2a3f5f"
            },
            "error_y": {
             "color": "#2a3f5f"
            },
            "marker": {
             "line": {
              "color": "#E5ECF6",
              "width": 0.5
             },
             "pattern": {
              "fillmode": "overlay",
              "size": 10,
              "solidity": 0.2
             }
            },
            "type": "bar"
           }
          ],
          "barpolar": [
           {
            "marker": {
             "line": {
              "color": "#E5ECF6",
              "width": 0.5
             },
             "pattern": {
              "fillmode": "overlay",
              "size": 10,
              "solidity": 0.2
             }
            },
            "type": "barpolar"
           }
          ],
          "carpet": [
           {
            "aaxis": {
             "endlinecolor": "#2a3f5f",
             "gridcolor": "white",
             "linecolor": "white",
             "minorgridcolor": "white",
             "startlinecolor": "#2a3f5f"
            },
            "baxis": {
             "endlinecolor": "#2a3f5f",
             "gridcolor": "white",
             "linecolor": "white",
             "minorgridcolor": "white",
             "startlinecolor": "#2a3f5f"
            },
            "type": "carpet"
           }
          ],
          "choropleth": [
           {
            "colorbar": {
             "outlinewidth": 0,
             "ticks": ""
            },
            "type": "choropleth"
           }
          ],
          "contour": [
           {
            "colorbar": {
             "outlinewidth": 0,
             "ticks": ""
            },
            "colorscale": [
             [
              0,
              "#0d0887"
             ],
             [
              0.1111111111111111,
              "#46039f"
             ],
             [
              0.2222222222222222,
              "#7201a8"
             ],
             [
              0.3333333333333333,
              "#9c179e"
             ],
             [
              0.4444444444444444,
              "#bd3786"
             ],
             [
              0.5555555555555556,
              "#d8576b"
             ],
             [
              0.6666666666666666,
              "#ed7953"
             ],
             [
              0.7777777777777778,
              "#fb9f3a"
             ],
             [
              0.8888888888888888,
              "#fdca26"
             ],
             [
              1,
              "#f0f921"
             ]
            ],
            "type": "contour"
           }
          ],
          "contourcarpet": [
           {
            "colorbar": {
             "outlinewidth": 0,
             "ticks": ""
            },
            "type": "contourcarpet"
           }
          ],
          "heatmap": [
           {
            "colorbar": {
             "outlinewidth": 0,
             "ticks": ""
            },
            "colorscale": [
             [
              0,
              "#0d0887"
             ],
             [
              0.1111111111111111,
              "#46039f"
             ],
             [
              0.2222222222222222,
              "#7201a8"
             ],
             [
              0.3333333333333333,
              "#9c179e"
             ],
             [
              0.4444444444444444,
              "#bd3786"
             ],
             [
              0.5555555555555556,
              "#d8576b"
             ],
             [
              0.6666666666666666,
              "#ed7953"
             ],
             [
              0.7777777777777778,
              "#fb9f3a"
             ],
             [
              0.8888888888888888,
              "#fdca26"
             ],
             [
              1,
              "#f0f921"
             ]
            ],
            "type": "heatmap"
           }
          ],
          "heatmapgl": [
           {
            "colorbar": {
             "outlinewidth": 0,
             "ticks": ""
            },
            "colorscale": [
             [
              0,
              "#0d0887"
             ],
             [
              0.1111111111111111,
              "#46039f"
             ],
             [
              0.2222222222222222,
              "#7201a8"
             ],
             [
              0.3333333333333333,
              "#9c179e"
             ],
             [
              0.4444444444444444,
              "#bd3786"
             ],
             [
              0.5555555555555556,
              "#d8576b"
             ],
             [
              0.6666666666666666,
              "#ed7953"
             ],
             [
              0.7777777777777778,
              "#fb9f3a"
             ],
             [
              0.8888888888888888,
              "#fdca26"
             ],
             [
              1,
              "#f0f921"
             ]
            ],
            "type": "heatmapgl"
           }
          ],
          "histogram": [
           {
            "marker": {
             "pattern": {
              "fillmode": "overlay",
              "size": 10,
              "solidity": 0.2
             }
            },
            "type": "histogram"
           }
          ],
          "histogram2d": [
           {
            "colorbar": {
             "outlinewidth": 0,
             "ticks": ""
            },
            "colorscale": [
             [
              0,
              "#0d0887"
             ],
             [
              0.1111111111111111,
              "#46039f"
             ],
             [
              0.2222222222222222,
              "#7201a8"
             ],
             [
              0.3333333333333333,
              "#9c179e"
             ],
             [
              0.4444444444444444,
              "#bd3786"
             ],
             [
              0.5555555555555556,
              "#d8576b"
             ],
             [
              0.6666666666666666,
              "#ed7953"
             ],
             [
              0.7777777777777778,
              "#fb9f3a"
             ],
             [
              0.8888888888888888,
              "#fdca26"
             ],
             [
              1,
              "#f0f921"
             ]
            ],
            "type": "histogram2d"
           }
          ],
          "histogram2dcontour": [
           {
            "colorbar": {
             "outlinewidth": 0,
             "ticks": ""
            },
            "colorscale": [
             [
              0,
              "#0d0887"
             ],
             [
              0.1111111111111111,
              "#46039f"
             ],
             [
              0.2222222222222222,
              "#7201a8"
             ],
             [
              0.3333333333333333,
              "#9c179e"
             ],
             [
              0.4444444444444444,
              "#bd3786"
             ],
             [
              0.5555555555555556,
              "#d8576b"
             ],
             [
              0.6666666666666666,
              "#ed7953"
             ],
             [
              0.7777777777777778,
              "#fb9f3a"
             ],
             [
              0.8888888888888888,
              "#fdca26"
             ],
             [
              1,
              "#f0f921"
             ]
            ],
            "type": "histogram2dcontour"
           }
          ],
          "mesh3d": [
           {
            "colorbar": {
             "outlinewidth": 0,
             "ticks": ""
            },
            "type": "mesh3d"
           }
          ],
          "parcoords": [
           {
            "line": {
             "colorbar": {
              "outlinewidth": 0,
              "ticks": ""
             }
            },
            "type": "parcoords"
           }
          ],
          "pie": [
           {
            "automargin": true,
            "type": "pie"
           }
          ],
          "scatter": [
           {
            "fillpattern": {
             "fillmode": "overlay",
             "size": 10,
             "solidity": 0.2
            },
            "type": "scatter"
           }
          ],
          "scatter3d": [
           {
            "line": {
             "colorbar": {
              "outlinewidth": 0,
              "ticks": ""
             }
            },
            "marker": {
             "colorbar": {
              "outlinewidth": 0,
              "ticks": ""
             }
            },
            "type": "scatter3d"
           }
          ],
          "scattercarpet": [
           {
            "marker": {
             "colorbar": {
              "outlinewidth": 0,
              "ticks": ""
             }
            },
            "type": "scattercarpet"
           }
          ],
          "scattergeo": [
           {
            "marker": {
             "colorbar": {
              "outlinewidth": 0,
              "ticks": ""
             }
            },
            "type": "scattergeo"
           }
          ],
          "scattergl": [
           {
            "marker": {
             "colorbar": {
              "outlinewidth": 0,
              "ticks": ""
             }
            },
            "type": "scattergl"
           }
          ],
          "scattermapbox": [
           {
            "marker": {
             "colorbar": {
              "outlinewidth": 0,
              "ticks": ""
             }
            },
            "type": "scattermapbox"
           }
          ],
          "scatterpolar": [
           {
            "marker": {
             "colorbar": {
              "outlinewidth": 0,
              "ticks": ""
             }
            },
            "type": "scatterpolar"
           }
          ],
          "scatterpolargl": [
           {
            "marker": {
             "colorbar": {
              "outlinewidth": 0,
              "ticks": ""
             }
            },
            "type": "scatterpolargl"
           }
          ],
          "scatterternary": [
           {
            "marker": {
             "colorbar": {
              "outlinewidth": 0,
              "ticks": ""
             }
            },
            "type": "scatterternary"
           }
          ],
          "surface": [
           {
            "colorbar": {
             "outlinewidth": 0,
             "ticks": ""
            },
            "colorscale": [
             [
              0,
              "#0d0887"
             ],
             [
              0.1111111111111111,
              "#46039f"
             ],
             [
              0.2222222222222222,
              "#7201a8"
             ],
             [
              0.3333333333333333,
              "#9c179e"
             ],
             [
              0.4444444444444444,
              "#bd3786"
             ],
             [
              0.5555555555555556,
              "#d8576b"
             ],
             [
              0.6666666666666666,
              "#ed7953"
             ],
             [
              0.7777777777777778,
              "#fb9f3a"
             ],
             [
              0.8888888888888888,
              "#fdca26"
             ],
             [
              1,
              "#f0f921"
             ]
            ],
            "type": "surface"
           }
          ],
          "table": [
           {
            "cells": {
             "fill": {
              "color": "#EBF0F8"
             },
             "line": {
              "color": "white"
             }
            },
            "header": {
             "fill": {
              "color": "#C8D4E3"
             },
             "line": {
              "color": "white"
             }
            },
            "type": "table"
           }
          ]
         },
         "layout": {
          "annotationdefaults": {
           "arrowcolor": "#2a3f5f",
           "arrowhead": 0,
           "arrowwidth": 1
          },
          "autotypenumbers": "strict",
          "coloraxis": {
           "colorbar": {
            "outlinewidth": 0,
            "ticks": ""
           }
          },
          "colorscale": {
           "diverging": [
            [
             0,
             "#8e0152"
            ],
            [
             0.1,
             "#c51b7d"
            ],
            [
             0.2,
             "#de77ae"
            ],
            [
             0.3,
             "#f1b6da"
            ],
            [
             0.4,
             "#fde0ef"
            ],
            [
             0.5,
             "#f7f7f7"
            ],
            [
             0.6,
             "#e6f5d0"
            ],
            [
             0.7,
             "#b8e186"
            ],
            [
             0.8,
             "#7fbc41"
            ],
            [
             0.9,
             "#4d9221"
            ],
            [
             1,
             "#276419"
            ]
           ],
           "sequential": [
            [
             0,
             "#0d0887"
            ],
            [
             0.1111111111111111,
             "#46039f"
            ],
            [
             0.2222222222222222,
             "#7201a8"
            ],
            [
             0.3333333333333333,
             "#9c179e"
            ],
            [
             0.4444444444444444,
             "#bd3786"
            ],
            [
             0.5555555555555556,
             "#d8576b"
            ],
            [
             0.6666666666666666,
             "#ed7953"
            ],
            [
             0.7777777777777778,
             "#fb9f3a"
            ],
            [
             0.8888888888888888,
             "#fdca26"
            ],
            [
             1,
             "#f0f921"
            ]
           ],
           "sequentialminus": [
            [
             0,
             "#0d0887"
            ],
            [
             0.1111111111111111,
             "#46039f"
            ],
            [
             0.2222222222222222,
             "#7201a8"
            ],
            [
             0.3333333333333333,
             "#9c179e"
            ],
            [
             0.4444444444444444,
             "#bd3786"
            ],
            [
             0.5555555555555556,
             "#d8576b"
            ],
            [
             0.6666666666666666,
             "#ed7953"
            ],
            [
             0.7777777777777778,
             "#fb9f3a"
            ],
            [
             0.8888888888888888,
             "#fdca26"
            ],
            [
             1,
             "#f0f921"
            ]
           ]
          },
          "colorway": [
           "#636efa",
           "#EF553B",
           "#00cc96",
           "#ab63fa",
           "#FFA15A",
           "#19d3f3",
           "#FF6692",
           "#B6E880",
           "#FF97FF",
           "#FECB52"
          ],
          "font": {
           "color": "#2a3f5f"
          },
          "geo": {
           "bgcolor": "white",
           "lakecolor": "white",
           "landcolor": "#E5ECF6",
           "showlakes": true,
           "showland": true,
           "subunitcolor": "white"
          },
          "hoverlabel": {
           "align": "left"
          },
          "hovermode": "closest",
          "mapbox": {
           "style": "light"
          },
          "paper_bgcolor": "white",
          "plot_bgcolor": "#E5ECF6",
          "polar": {
           "angularaxis": {
            "gridcolor": "white",
            "linecolor": "white",
            "ticks": ""
           },
           "bgcolor": "#E5ECF6",
           "radialaxis": {
            "gridcolor": "white",
            "linecolor": "white",
            "ticks": ""
           }
          },
          "scene": {
           "xaxis": {
            "backgroundcolor": "#E5ECF6",
            "gridcolor": "white",
            "gridwidth": 2,
            "linecolor": "white",
            "showbackground": true,
            "ticks": "",
            "zerolinecolor": "white"
           },
           "yaxis": {
            "backgroundcolor": "#E5ECF6",
            "gridcolor": "white",
            "gridwidth": 2,
            "linecolor": "white",
            "showbackground": true,
            "ticks": "",
            "zerolinecolor": "white"
           },
           "zaxis": {
            "backgroundcolor": "#E5ECF6",
            "gridcolor": "white",
            "gridwidth": 2,
            "linecolor": "white",
            "showbackground": true,
            "ticks": "",
            "zerolinecolor": "white"
           }
          },
          "shapedefaults": {
           "line": {
            "color": "#2a3f5f"
           }
          },
          "ternary": {
           "aaxis": {
            "gridcolor": "white",
            "linecolor": "white",
            "ticks": ""
           },
           "baxis": {
            "gridcolor": "white",
            "linecolor": "white",
            "ticks": ""
           },
           "bgcolor": "#E5ECF6",
           "caxis": {
            "gridcolor": "white",
            "linecolor": "white",
            "ticks": ""
           }
          },
          "title": {
           "x": 0.05
          },
          "xaxis": {
           "automargin": true,
           "gridcolor": "white",
           "linecolor": "white",
           "ticks": "",
           "title": {
            "standoff": 15
           },
           "zerolinecolor": "white",
           "zerolinewidth": 2
          },
          "yaxis": {
           "automargin": true,
           "gridcolor": "white",
           "linecolor": "white",
           "ticks": "",
           "title": {
            "standoff": 15
           },
           "zerolinecolor": "white",
           "zerolinewidth": 2
          }
         }
        },
        "title": {
         "text": "Social-demographic Indicators",
         "x": 0.5
        },
        "xaxis": {
         "anchor": "y",
         "domain": [
          0,
          1
         ],
         "title": {
          "text": "1st_component"
         }
        },
        "yaxis": {
         "anchor": "x",
         "domain": [
          0,
          1
         ],
         "title": {
          "text": "2nd_component"
         }
        }
       }
      }
     },
     "metadata": {},
     "output_type": "display_data"
    },
    {
     "data": {
      "application/vnd.plotly.v1+json": {
       "config": {
        "plotlyServerURL": "https://plot.ly"
       },
       "data": [
        {
         "hovertemplate": "Cluster=0<br>1st_component=%{x}<br>2nd_component=%{y}<br>Country=%{text}<extra></extra>",
         "legendgroup": "0",
         "marker": {
          "color": "#636efa",
          "symbol": "circle"
         },
         "mode": "markers+text",
         "name": "0",
         "orientation": "v",
         "showlegend": true,
         "text": [
          "Australia",
          "Bahrain",
          "Bosnia and Herzegovina",
          "Bulgaria",
          "Dominican Republic",
          "Germany",
          "Hungary",
          "Israel",
          "Kazakhstan",
          "Malta",
          "Netherlands",
          "New Zealand",
          "Nicaragua",
          "Russia",
          "Suriname",
          "United Kingdom"
         ],
         "textposition": "top center",
         "type": "scatter",
         "x": [
          0.6055191159248352,
          0.8124863505363464,
          0.5103949904441833,
          0.5946335196495056,
          0.976047694683075,
          1.0471429824829102,
          0.5673856139183044,
          1.136682152748108,
          0.5541005730628967,
          1.093025803565979,
          1.1430860757827759,
          0.8724566102027893,
          0.6887280344963074,
          0.5360905528068542,
          0.5042830109596252,
          1.129160761833191
         ],
         "xaxis": "x",
         "y": [
          1.4306060075759888,
          1.4495141506195068,
          1.3733348846435547,
          1.9633759260177612,
          1.3715202808380127,
          1.3999781608581543,
          1.488642930984497,
          1.3597525358200073,
          2.0523464679718018,
          1.2146940231323242,
          1.0220128297805786,
          1.4886391162872314,
          1.4590312242507935,
          1.902839183807373,
          1.9810099601745605,
          1.0893138647079468
         ],
         "yaxis": "y"
        },
        {
         "hovertemplate": "Cluster=1<br>1st_component=%{x}<br>2nd_component=%{y}<br>Country=%{text}<extra></extra>",
         "legendgroup": "1",
         "marker": {
          "color": "#EF553B",
          "symbol": "circle"
         },
         "mode": "markers+text",
         "name": "1",
         "orientation": "v",
         "showlegend": true,
         "text": [
          "Brazil",
          "Cambodia",
          "Comoros",
          "Ghana",
          "Mali",
          "Mongolia",
          "Morocco",
          "Nepal",
          "Philippines",
          "Romania",
          "Zambia"
         ],
         "textposition": "top center",
         "type": "scatter",
         "x": [
          -0.501713752746582,
          -1.2121217250823975,
          -0.9794490933418274,
          -0.9517329335212708,
          -1.1676253080368042,
          -1.2955905199050903,
          -0.6277987957000732,
          -0.5769727826118469,
          -0.53766268491745,
          -0.8909603953361511,
          -1.1824283599853516
         ],
         "xaxis": "x",
         "y": [
          -0.6116369366645813,
          -0.12784966826438904,
          -0.6193931102752686,
          -0.7188460826873779,
          -0.18702231347560883,
          -0.23604035377502441,
          -0.45445680618286133,
          -0.41215312480926514,
          -0.5585011839866638,
          -0.734268844127655,
          -0.28602802753448486
         ],
         "yaxis": "y"
        },
        {
         "hovertemplate": "Cluster=2<br>1st_component=%{x}<br>2nd_component=%{y}<br>Country=%{text}<extra></extra>",
         "legendgroup": "2",
         "marker": {
          "color": "#00cc96",
          "symbol": "circle"
         },
         "mode": "markers+text",
         "name": "2",
         "orientation": "v",
         "showlegend": true,
         "text": [
          "Afghanistan",
          "Bangladesh",
          "Djibouti",
          "Equatorial Guinea",
          "Ethiopia",
          "Haiti",
          "Lesotho",
          "Namibia",
          "Paraguay",
          "Senegal",
          "Singapore",
          "Tajikistan",
          "Uganda"
         ],
         "textposition": "top center",
         "type": "scatter",
         "x": [
          -0.3658365309238434,
          -0.649218738079071,
          -0.43840518593788147,
          -0.28092503547668457,
          -0.3612016439437866,
          -0.14485657215118408,
          0.0007924410747364163,
          0.17365562915802002,
          -0.13591136038303375,
          -0.4091086983680725,
          0.08731583505868912,
          -0.6129538416862488,
          -0.5542253851890564
         ],
         "xaxis": "x",
         "y": [
          1.0180552005767822,
          0.48061150312423706,
          0.7735897302627563,
          0.8107228875160217,
          0.8228835463523865,
          0.6964881420135498,
          0.8158493041992188,
          0.7541964054107666,
          0.790280818939209,
          1.066739559173584,
          0.7962303161621094,
          0.5365768671035767,
          0.6411905288696289
         ],
         "yaxis": "y"
        },
        {
         "hovertemplate": "Cluster=3<br>1st_component=%{x}<br>2nd_component=%{y}<br>Country=%{text}<extra></extra>",
         "legendgroup": "3",
         "marker": {
          "color": "#ab63fa",
          "symbol": "circle"
         },
         "mode": "markers+text",
         "name": "3",
         "orientation": "v",
         "showlegend": true,
         "text": [
          "Austria",
          "Colombia",
          "Cuba",
          "Estonia",
          "Finland",
          "France",
          "Greece",
          "Jamaica",
          "Jordan",
          "Libya",
          "Mauritius",
          "Montenegro",
          "Norway",
          "Seychelles",
          "Slovenia",
          "Trinidad and Tobago",
          "Ukraine",
          "Zimbabwe"
         ],
         "textposition": "top center",
         "type": "scatter",
         "x": [
          0.3092523217201233,
          0.9055284261703491,
          1.0548182725906372,
          0.9862468838691711,
          0.5295013785362244,
          0.7198365330696106,
          0.7040243744850159,
          1.0473750829696655,
          0.522304892539978,
          0.6472554206848145,
          0.7625168561935425,
          0.8334266543388367,
          0.334064245223999,
          1.0915093421936035,
          0.37047725915908813,
          0.4142194986343384,
          0.770557701587677,
          0.9778119921684265
         ],
         "xaxis": "x",
         "y": [
          0.5415686368942261,
          0.023520031943917274,
          0.1803593784570694,
          0.2519407272338867,
          0.3542240262031555,
          0.4792041480541229,
          0.3161882758140564,
          0.011893858201801777,
          0.7464693784713745,
          0.34268757700920105,
          0.5538961291313171,
          0.24291856586933136,
          0.6117421984672546,
          -0.04061013087630272,
          0.20038777589797974,
          0.6628824472427368,
          0.13591091334819794,
          0.12426695972681046
         ],
         "yaxis": "y"
        },
        {
         "hovertemplate": "Cluster=4<br>1st_component=%{x}<br>2nd_component=%{y}<br>Country=%{text}<extra></extra>",
         "legendgroup": "4",
         "marker": {
          "color": "#FFA15A",
          "symbol": "circle"
         },
         "mode": "markers+text",
         "name": "4",
         "orientation": "v",
         "showlegend": true,
         "text": [
          "Albania",
          "Angola",
          "Barbados",
          "Belize",
          "Bhutan",
          "Canada",
          "Ecuador",
          "Eswatini",
          "Fiji",
          "Guinea",
          "Ireland",
          "Liberia",
          "Malawi",
          "Malaysia",
          "New Caledonia",
          "Niger",
          "Pakistan",
          "Puerto Rico",
          "Sri Lanka",
          "United Arab Emirates"
         ],
         "textposition": "top center",
         "type": "scatter",
         "x": [
          1.2676410675048828,
          1.7185447216033936,
          1.8411502838134766,
          0.8004863262176514,
          1.5134812593460083,
          1.8768792152404785,
          1.1655263900756836,
          1.9357658624649048,
          1.7998120784759521,
          1.4438477754592896,
          1.3529731035232544,
          1.3884992599487305,
          1.4030476808547974,
          1.095924973487854,
          1.3444894552230835,
          1.6320698261260986,
          1.3391555547714233,
          1.7548174858093262,
          1.1854151487350464,
          1.3935599327087402
         ],
         "xaxis": "x",
         "y": [
          -0.4535422921180725,
          -0.8775891661643982,
          -0.5810745358467102,
          -0.37876448035240173,
          -0.9246704578399658,
          -0.9299110174179077,
          -0.565796971321106,
          -0.9284600615501404,
          -0.6393428444862366,
          -1.0337806940078735,
          -0.33522480726242065,
          -1.1507030725479126,
          -0.6978660821914673,
          -0.41092485189437866,
          -1.1030381917953491,
          -0.8871792554855347,
          -1.2262910604476929,
          -0.7046447396278381,
          -0.47566288709640503,
          -0.2835661470890045
         ],
         "yaxis": "y"
        },
        {
         "hovertemplate": "Cluster=5<br>1st_component=%{x}<br>2nd_component=%{y}<br>Country=%{text}<extra></extra>",
         "legendgroup": "5",
         "marker": {
          "color": "#19d3f3",
          "symbol": "circle"
         },
         "mode": "markers+text",
         "name": "5",
         "orientation": "v",
         "showlegend": true,
         "text": [
          "Azerbaijan",
          "Belgium",
          "Botswana",
          "Burundi",
          "Central African Republic",
          "Costa Rica",
          "Denmark",
          "Eritrea",
          "Honduras",
          "Iraq",
          "Japan",
          "Luxembourg",
          "Panama",
          "Portugal",
          "Samoa",
          "South Africa",
          "Sweden"
         ],
         "textposition": "top center",
         "type": "scatter",
         "x": [
          0.35396862030029297,
          0.4634115397930145,
          0.6195055842399597,
          0.3227695822715759,
          -0.14882764220237732,
          0.4215059280395508,
          0.04154137894511223,
          -0.12581394612789154,
          0.4682523012161255,
          -0.1222434937953949,
          -0.07762490957975388,
          0.6687697768211365,
          0.6684880256652832,
          -0.13852399587631226,
          0.20159973204135895,
          0.45601069927215576,
          -0.10844337195158005
         ],
         "xaxis": "x",
         "y": [
          -1.5509397983551025,
          -0.900608479976654,
          -1.184531331062317,
          -1.6106311082839966,
          -1.305294156074524,
          -1.1573872566223145,
          -1.1546863317489624,
          -0.7836453318595886,
          -1.21670663356781,
          -0.8867051601409912,
          -0.9439643025398254,
          -1.1350558996200562,
          -1.2956516742706299,
          -1.0275012254714966,
          -1.1846452951431274,
          -1.027234673500061,
          -1.255993366241455
         ],
         "yaxis": "y"
        },
        {
         "hovertemplate": "Cluster=6<br>1st_component=%{x}<br>2nd_component=%{y}<br>Country=%{text}<extra></extra>",
         "legendgroup": "6",
         "marker": {
          "color": "#FF6692",
          "symbol": "circle"
         },
         "mode": "markers+text",
         "name": "6",
         "orientation": "v",
         "showlegend": true,
         "text": [
          "Algeria",
          "Argentina",
          "Belarus",
          "Benin",
          "Chile",
          "Croatia",
          "El Salvador",
          "Iceland",
          "Indonesia",
          "Italy",
          "Kuwait",
          "Madagascar",
          "Mexico",
          "North Macedonia",
          "Oman",
          "Poland",
          "Qatar",
          "Serbia",
          "Spain",
          "Switzerland",
          "Uruguay"
         ],
         "textposition": "top center",
         "type": "scatter",
         "x": [
          0.29922211170196533,
          0.09672717750072479,
          0.11050217598676682,
          -0.43977785110473633,
          -0.0701894536614418,
          0.13085393607616425,
          -0.0008678636513650417,
          -0.019166795536875725,
          -0.24327600002288818,
          0.04931289702653885,
          0.5735663771629333,
          0.3195158541202545,
          -0.3935204744338989,
          0.194656103849411,
          -0.005741237197071314,
          0.08934888243675232,
          0.17760035395622253,
          -0.0817132443189621,
          0.00449353875592351,
          -0.43008148670196533,
          0.63247150182724
         ],
         "xaxis": "x",
         "y": [
          -0.29557985067367554,
          0.18155543506145477,
          -0.4976257383823395,
          0.02595611847937107,
          -0.09997150301933289,
          -0.27495336532592773,
          -0.6300691962242126,
          0.19386884570121765,
          -0.04074302315711975,
          -0.04379410669207573,
          -0.3969038128852844,
          0.15903885662555695,
          -0.043570518493652344,
          -0.530462384223938,
          -0.35734042525291443,
          -0.3712269961833954,
          -0.19242949783802032,
          0.19776654243469238,
          -0.10785946249961853,
          -0.10933507978916168,
          -0.37798574566841125
         ],
         "yaxis": "y"
        },
        {
         "hovertemplate": "Cluster=7<br>1st_component=%{x}<br>2nd_component=%{y}<br>Country=%{text}<extra></extra>",
         "legendgroup": "7",
         "marker": {
          "color": "#B6E880",
          "symbol": "circle"
         },
         "mode": "markers+text",
         "name": "7",
         "orientation": "v",
         "showlegend": true,
         "text": [
          "Burkina Faso",
          "Cameroon",
          "Chad",
          "China",
          "Gabon",
          "Guatemala",
          "India",
          "Mauritania",
          "Mozambique",
          "Myanmar",
          "Nigeria",
          "Papua New Guinea",
          "Rwanda",
          "Sierra Leone",
          "Thailand",
          "Tonga",
          "Turkmenistan",
          "United States",
          "Uzbekistan"
         ],
         "textposition": "top center",
         "type": "scatter",
         "x": [
          -1.4409700632095337,
          -1.4011845588684082,
          -1.7067618370056152,
          -1.329628586769104,
          -2.116900682449341,
          -2.0701088905334473,
          -1.259195327758789,
          -1.299572229385376,
          -1.3994414806365967,
          -2.20780873298645,
          -2.1192800998687744,
          -1.6403313875198364,
          -1.7323229312896729,
          -2.0104758739471436,
          -1.373162865638733,
          -1.6900283098220825,
          -2.192074775695801,
          -1.6226974725723267,
          -1.7538530826568604
         ],
         "xaxis": "x",
         "y": [
          -1.1128817796707153,
          -1.3045237064361572,
          -1.0461220741271973,
          -1.5051590204238892,
          -0.9022777676582336,
          -1.1256588697433472,
          -1.5681207180023193,
          -1.1772044897079468,
          -1.2280445098876953,
          -0.9216832518577576,
          -0.812869668006897,
          -1.335409164428711,
          -1.2084250450134277,
          -1.1162081956863403,
          -1.4456456899642944,
          -1.158144474029541,
          -0.833665668964386,
          -1.235620379447937,
          -0.9729416370391846
         ],
         "yaxis": "y"
        },
        {
         "hovertemplate": "Cluster=8<br>1st_component=%{x}<br>2nd_component=%{y}<br>Country=%{text}<extra></extra>",
         "legendgroup": "8",
         "marker": {
          "color": "#FF97FF",
          "symbol": "circle"
         },
         "mode": "markers+text",
         "name": "8",
         "orientation": "v",
         "showlegend": true,
         "text": [
          "Armenia",
          "Cyprus",
          "Georgia",
          "Guinea-Bissau",
          "Guyana",
          "Kenya",
          "Latvia",
          "Lebanon",
          "Lithuania",
          "Maldives",
          "Peru",
          "Sao Tome and Principe",
          "Saudi Arabia",
          "Solomon Islands",
          "Togo",
          "Tunisia",
          "Vanuatu"
         ],
         "textposition": "top center",
         "type": "scatter",
         "x": [
          -0.5734031796455383,
          -1.0566917657852173,
          -0.6997665166854858,
          -0.5016586780548096,
          -0.2890618145465851,
          -0.9250539541244507,
          -1.209376335144043,
          -0.23263005912303925,
          -1.1635010242462158,
          -0.7356944680213928,
          -0.9407697916030884,
          -1.0252379179000854,
          -1.224066972732544,
          -0.8366061449050903,
          -1.074733853340149,
          -0.6525525450706482,
          -0.8417802453041077
         ],
         "xaxis": "x",
         "y": [
          1.3853155374526978,
          1.289100170135498,
          1.704225778579712,
          1.3237348794937134,
          1.4153542518615723,
          1.4145922660827637,
          1.4606468677520752,
          1.4419865608215332,
          1.2763034105300903,
          1.608620285987854,
          1.3449201583862305,
          1.6149156093597412,
          1.370668888092041,
          1.694165587425232,
          1.5733256340026855,
          1.6556620597839355,
          1.4146701097488403
         ],
         "yaxis": "y"
        }
       ],
       "layout": {
        "legend": {
         "title": {
          "text": "Cluster"
         },
         "tracegroupgap": 0
        },
        "margin": {
         "t": 60
        },
        "template": {
         "data": {
          "bar": [
           {
            "error_x": {
             "color": "#2a3f5f"
            },
            "error_y": {
             "color": "#2a3f5f"
            },
            "marker": {
             "line": {
              "color": "#E5ECF6",
              "width": 0.5
             },
             "pattern": {
              "fillmode": "overlay",
              "size": 10,
              "solidity": 0.2
             }
            },
            "type": "bar"
           }
          ],
          "barpolar": [
           {
            "marker": {
             "line": {
              "color": "#E5ECF6",
              "width": 0.5
             },
             "pattern": {
              "fillmode": "overlay",
              "size": 10,
              "solidity": 0.2
             }
            },
            "type": "barpolar"
           }
          ],
          "carpet": [
           {
            "aaxis": {
             "endlinecolor": "#2a3f5f",
             "gridcolor": "white",
             "linecolor": "white",
             "minorgridcolor": "white",
             "startlinecolor": "#2a3f5f"
            },
            "baxis": {
             "endlinecolor": "#2a3f5f",
             "gridcolor": "white",
             "linecolor": "white",
             "minorgridcolor": "white",
             "startlinecolor": "#2a3f5f"
            },
            "type": "carpet"
           }
          ],
          "choropleth": [
           {
            "colorbar": {
             "outlinewidth": 0,
             "ticks": ""
            },
            "type": "choropleth"
           }
          ],
          "contour": [
           {
            "colorbar": {
             "outlinewidth": 0,
             "ticks": ""
            },
            "colorscale": [
             [
              0,
              "#0d0887"
             ],
             [
              0.1111111111111111,
              "#46039f"
             ],
             [
              0.2222222222222222,
              "#7201a8"
             ],
             [
              0.3333333333333333,
              "#9c179e"
             ],
             [
              0.4444444444444444,
              "#bd3786"
             ],
             [
              0.5555555555555556,
              "#d8576b"
             ],
             [
              0.6666666666666666,
              "#ed7953"
             ],
             [
              0.7777777777777778,
              "#fb9f3a"
             ],
             [
              0.8888888888888888,
              "#fdca26"
             ],
             [
              1,
              "#f0f921"
             ]
            ],
            "type": "contour"
           }
          ],
          "contourcarpet": [
           {
            "colorbar": {
             "outlinewidth": 0,
             "ticks": ""
            },
            "type": "contourcarpet"
           }
          ],
          "heatmap": [
           {
            "colorbar": {
             "outlinewidth": 0,
             "ticks": ""
            },
            "colorscale": [
             [
              0,
              "#0d0887"
             ],
             [
              0.1111111111111111,
              "#46039f"
             ],
             [
              0.2222222222222222,
              "#7201a8"
             ],
             [
              0.3333333333333333,
              "#9c179e"
             ],
             [
              0.4444444444444444,
              "#bd3786"
             ],
             [
              0.5555555555555556,
              "#d8576b"
             ],
             [
              0.6666666666666666,
              "#ed7953"
             ],
             [
              0.7777777777777778,
              "#fb9f3a"
             ],
             [
              0.8888888888888888,
              "#fdca26"
             ],
             [
              1,
              "#f0f921"
             ]
            ],
            "type": "heatmap"
           }
          ],
          "heatmapgl": [
           {
            "colorbar": {
             "outlinewidth": 0,
             "ticks": ""
            },
            "colorscale": [
             [
              0,
              "#0d0887"
             ],
             [
              0.1111111111111111,
              "#46039f"
             ],
             [
              0.2222222222222222,
              "#7201a8"
             ],
             [
              0.3333333333333333,
              "#9c179e"
             ],
             [
              0.4444444444444444,
              "#bd3786"
             ],
             [
              0.5555555555555556,
              "#d8576b"
             ],
             [
              0.6666666666666666,
              "#ed7953"
             ],
             [
              0.7777777777777778,
              "#fb9f3a"
             ],
             [
              0.8888888888888888,
              "#fdca26"
             ],
             [
              1,
              "#f0f921"
             ]
            ],
            "type": "heatmapgl"
           }
          ],
          "histogram": [
           {
            "marker": {
             "pattern": {
              "fillmode": "overlay",
              "size": 10,
              "solidity": 0.2
             }
            },
            "type": "histogram"
           }
          ],
          "histogram2d": [
           {
            "colorbar": {
             "outlinewidth": 0,
             "ticks": ""
            },
            "colorscale": [
             [
              0,
              "#0d0887"
             ],
             [
              0.1111111111111111,
              "#46039f"
             ],
             [
              0.2222222222222222,
              "#7201a8"
             ],
             [
              0.3333333333333333,
              "#9c179e"
             ],
             [
              0.4444444444444444,
              "#bd3786"
             ],
             [
              0.5555555555555556,
              "#d8576b"
             ],
             [
              0.6666666666666666,
              "#ed7953"
             ],
             [
              0.7777777777777778,
              "#fb9f3a"
             ],
             [
              0.8888888888888888,
              "#fdca26"
             ],
             [
              1,
              "#f0f921"
             ]
            ],
            "type": "histogram2d"
           }
          ],
          "histogram2dcontour": [
           {
            "colorbar": {
             "outlinewidth": 0,
             "ticks": ""
            },
            "colorscale": [
             [
              0,
              "#0d0887"
             ],
             [
              0.1111111111111111,
              "#46039f"
             ],
             [
              0.2222222222222222,
              "#7201a8"
             ],
             [
              0.3333333333333333,
              "#9c179e"
             ],
             [
              0.4444444444444444,
              "#bd3786"
             ],
             [
              0.5555555555555556,
              "#d8576b"
             ],
             [
              0.6666666666666666,
              "#ed7953"
             ],
             [
              0.7777777777777778,
              "#fb9f3a"
             ],
             [
              0.8888888888888888,
              "#fdca26"
             ],
             [
              1,
              "#f0f921"
             ]
            ],
            "type": "histogram2dcontour"
           }
          ],
          "mesh3d": [
           {
            "colorbar": {
             "outlinewidth": 0,
             "ticks": ""
            },
            "type": "mesh3d"
           }
          ],
          "parcoords": [
           {
            "line": {
             "colorbar": {
              "outlinewidth": 0,
              "ticks": ""
             }
            },
            "type": "parcoords"
           }
          ],
          "pie": [
           {
            "automargin": true,
            "type": "pie"
           }
          ],
          "scatter": [
           {
            "fillpattern": {
             "fillmode": "overlay",
             "size": 10,
             "solidity": 0.2
            },
            "type": "scatter"
           }
          ],
          "scatter3d": [
           {
            "line": {
             "colorbar": {
              "outlinewidth": 0,
              "ticks": ""
             }
            },
            "marker": {
             "colorbar": {
              "outlinewidth": 0,
              "ticks": ""
             }
            },
            "type": "scatter3d"
           }
          ],
          "scattercarpet": [
           {
            "marker": {
             "colorbar": {
              "outlinewidth": 0,
              "ticks": ""
             }
            },
            "type": "scattercarpet"
           }
          ],
          "scattergeo": [
           {
            "marker": {
             "colorbar": {
              "outlinewidth": 0,
              "ticks": ""
             }
            },
            "type": "scattergeo"
           }
          ],
          "scattergl": [
           {
            "marker": {
             "colorbar": {
              "outlinewidth": 0,
              "ticks": ""
             }
            },
            "type": "scattergl"
           }
          ],
          "scattermapbox": [
           {
            "marker": {
             "colorbar": {
              "outlinewidth": 0,
              "ticks": ""
             }
            },
            "type": "scattermapbox"
           }
          ],
          "scatterpolar": [
           {
            "marker": {
             "colorbar": {
              "outlinewidth": 0,
              "ticks": ""
             }
            },
            "type": "scatterpolar"
           }
          ],
          "scatterpolargl": [
           {
            "marker": {
             "colorbar": {
              "outlinewidth": 0,
              "ticks": ""
             }
            },
            "type": "scatterpolargl"
           }
          ],
          "scatterternary": [
           {
            "marker": {
             "colorbar": {
              "outlinewidth": 0,
              "ticks": ""
             }
            },
            "type": "scatterternary"
           }
          ],
          "surface": [
           {
            "colorbar": {
             "outlinewidth": 0,
             "ticks": ""
            },
            "colorscale": [
             [
              0,
              "#0d0887"
             ],
             [
              0.1111111111111111,
              "#46039f"
             ],
             [
              0.2222222222222222,
              "#7201a8"
             ],
             [
              0.3333333333333333,
              "#9c179e"
             ],
             [
              0.4444444444444444,
              "#bd3786"
             ],
             [
              0.5555555555555556,
              "#d8576b"
             ],
             [
              0.6666666666666666,
              "#ed7953"
             ],
             [
              0.7777777777777778,
              "#fb9f3a"
             ],
             [
              0.8888888888888888,
              "#fdca26"
             ],
             [
              1,
              "#f0f921"
             ]
            ],
            "type": "surface"
           }
          ],
          "table": [
           {
            "cells": {
             "fill": {
              "color": "#EBF0F8"
             },
             "line": {
              "color": "white"
             }
            },
            "header": {
             "fill": {
              "color": "#C8D4E3"
             },
             "line": {
              "color": "white"
             }
            },
            "type": "table"
           }
          ]
         },
         "layout": {
          "annotationdefaults": {
           "arrowcolor": "#2a3f5f",
           "arrowhead": 0,
           "arrowwidth": 1
          },
          "autotypenumbers": "strict",
          "coloraxis": {
           "colorbar": {
            "outlinewidth": 0,
            "ticks": ""
           }
          },
          "colorscale": {
           "diverging": [
            [
             0,
             "#8e0152"
            ],
            [
             0.1,
             "#c51b7d"
            ],
            [
             0.2,
             "#de77ae"
            ],
            [
             0.3,
             "#f1b6da"
            ],
            [
             0.4,
             "#fde0ef"
            ],
            [
             0.5,
             "#f7f7f7"
            ],
            [
             0.6,
             "#e6f5d0"
            ],
            [
             0.7,
             "#b8e186"
            ],
            [
             0.8,
             "#7fbc41"
            ],
            [
             0.9,
             "#4d9221"
            ],
            [
             1,
             "#276419"
            ]
           ],
           "sequential": [
            [
             0,
             "#0d0887"
            ],
            [
             0.1111111111111111,
             "#46039f"
            ],
            [
             0.2222222222222222,
             "#7201a8"
            ],
            [
             0.3333333333333333,
             "#9c179e"
            ],
            [
             0.4444444444444444,
             "#bd3786"
            ],
            [
             0.5555555555555556,
             "#d8576b"
            ],
            [
             0.6666666666666666,
             "#ed7953"
            ],
            [
             0.7777777777777778,
             "#fb9f3a"
            ],
            [
             0.8888888888888888,
             "#fdca26"
            ],
            [
             1,
             "#f0f921"
            ]
           ],
           "sequentialminus": [
            [
             0,
             "#0d0887"
            ],
            [
             0.1111111111111111,
             "#46039f"
            ],
            [
             0.2222222222222222,
             "#7201a8"
            ],
            [
             0.3333333333333333,
             "#9c179e"
            ],
            [
             0.4444444444444444,
             "#bd3786"
            ],
            [
             0.5555555555555556,
             "#d8576b"
            ],
            [
             0.6666666666666666,
             "#ed7953"
            ],
            [
             0.7777777777777778,
             "#fb9f3a"
            ],
            [
             0.8888888888888888,
             "#fdca26"
            ],
            [
             1,
             "#f0f921"
            ]
           ]
          },
          "colorway": [
           "#636efa",
           "#EF553B",
           "#00cc96",
           "#ab63fa",
           "#FFA15A",
           "#19d3f3",
           "#FF6692",
           "#B6E880",
           "#FF97FF",
           "#FECB52"
          ],
          "font": {
           "color": "#2a3f5f"
          },
          "geo": {
           "bgcolor": "white",
           "lakecolor": "white",
           "landcolor": "#E5ECF6",
           "showlakes": true,
           "showland": true,
           "subunitcolor": "white"
          },
          "hoverlabel": {
           "align": "left"
          },
          "hovermode": "closest",
          "mapbox": {
           "style": "light"
          },
          "paper_bgcolor": "white",
          "plot_bgcolor": "#E5ECF6",
          "polar": {
           "angularaxis": {
            "gridcolor": "white",
            "linecolor": "white",
            "ticks": ""
           },
           "bgcolor": "#E5ECF6",
           "radialaxis": {
            "gridcolor": "white",
            "linecolor": "white",
            "ticks": ""
           }
          },
          "scene": {
           "xaxis": {
            "backgroundcolor": "#E5ECF6",
            "gridcolor": "white",
            "gridwidth": 2,
            "linecolor": "white",
            "showbackground": true,
            "ticks": "",
            "zerolinecolor": "white"
           },
           "yaxis": {
            "backgroundcolor": "#E5ECF6",
            "gridcolor": "white",
            "gridwidth": 2,
            "linecolor": "white",
            "showbackground": true,
            "ticks": "",
            "zerolinecolor": "white"
           },
           "zaxis": {
            "backgroundcolor": "#E5ECF6",
            "gridcolor": "white",
            "gridwidth": 2,
            "linecolor": "white",
            "showbackground": true,
            "ticks": "",
            "zerolinecolor": "white"
           }
          },
          "shapedefaults": {
           "line": {
            "color": "#2a3f5f"
           }
          },
          "ternary": {
           "aaxis": {
            "gridcolor": "white",
            "linecolor": "white",
            "ticks": ""
           },
           "baxis": {
            "gridcolor": "white",
            "linecolor": "white",
            "ticks": ""
           },
           "bgcolor": "#E5ECF6",
           "caxis": {
            "gridcolor": "white",
            "linecolor": "white",
            "ticks": ""
           }
          },
          "title": {
           "x": 0.05
          },
          "xaxis": {
           "automargin": true,
           "gridcolor": "white",
           "linecolor": "white",
           "ticks": "",
           "title": {
            "standoff": 15
           },
           "zerolinecolor": "white",
           "zerolinewidth": 2
          },
          "yaxis": {
           "automargin": true,
           "gridcolor": "white",
           "linecolor": "white",
           "ticks": "",
           "title": {
            "standoff": 15
           },
           "zerolinecolor": "white",
           "zerolinewidth": 2
          }
         }
        },
        "title": {
         "text": "Equality Indicators",
         "x": 0.5
        },
        "xaxis": {
         "anchor": "y",
         "domain": [
          0,
          1
         ],
         "title": {
          "text": "1st_component"
         }
        },
        "yaxis": {
         "anchor": "x",
         "domain": [
          0,
          1
         ],
         "title": {
          "text": "2nd_component"
         }
        }
       }
      }
     },
     "metadata": {},
     "output_type": "display_data"
    },
    {
     "data": {
      "application/vnd.plotly.v1+json": {
       "config": {
        "plotlyServerURL": "https://plot.ly"
       },
       "data": [
        {
         "hovertemplate": "Cluster=0<br>1st_component=%{x}<br>2nd_component=%{y}<br>Country=%{text}<extra></extra>",
         "legendgroup": "0",
         "marker": {
          "color": "#636efa",
          "symbol": "circle"
         },
         "mode": "markers+text",
         "name": "0",
         "orientation": "v",
         "showlegend": true,
         "text": [
          "Bahrain",
          "Kuwait",
          "Oman",
          "Panama",
          "Qatar",
          "Saudi Arabia",
          "Suriname"
         ],
         "textposition": "top center",
         "type": "scatter",
         "x": [
          0.22525416314601898,
          0.13271358609199524,
          0.016305208206176758,
          0.8197119235992432,
          0.08361916244029999,
          0.08482363075017929,
          0.19942964613437653
         ],
         "xaxis": "x",
         "y": [
          2.0497007369995117,
          2.163905382156372,
          2.2497637271881104,
          2.0212485790252686,
          2.1896016597747803,
          2.0297040939331055,
          2.282982587814331
         ],
         "yaxis": "y"
        },
        {
         "hovertemplate": "Cluster=1<br>1st_component=%{x}<br>2nd_component=%{y}<br>Country=%{text}<extra></extra>",
         "legendgroup": "1",
         "marker": {
          "color": "#EF553B",
          "symbol": "circle"
         },
         "mode": "markers+text",
         "name": "1",
         "orientation": "v",
         "showlegend": true,
         "text": [
          "Belize",
          "Benin",
          "Botswana",
          "Central African Republic",
          "Haiti",
          "Honduras",
          "Ireland",
          "Jordan",
          "Kenya",
          "Nicaragua"
         ],
         "textposition": "top center",
         "type": "scatter",
         "x": [
          0.24284476041793823,
          0.11851947754621506,
          -0.03778015822172165,
          0.1923125833272934,
          0.16176161170005798,
          0.007953833788633347,
          -0.06978512555360794,
          -0.13042786717414856,
          -0.12608160078525543,
          -0.11537962406873703
         ],
         "xaxis": "x",
         "y": [
          0.34767594933509827,
          0.7784903645515442,
          0.5049804449081421,
          0.5730562806129456,
          0.6447474956512451,
          0.5951240062713623,
          0.38497814536094666,
          1.2252088785171509,
          1.1251823902130127,
          0.9549595713615417
         ],
         "yaxis": "y"
        },
        {
         "hovertemplate": "Cluster=10<br>1st_component=%{x}<br>2nd_component=%{y}<br>Country=%{text}<extra></extra>",
         "legendgroup": "10",
         "marker": {
          "color": "#00cc96",
          "symbol": "circle"
         },
         "mode": "markers+text",
         "name": "10",
         "orientation": "v",
         "showlegend": true,
         "text": [
          "Albania",
          "Armenia",
          "Barbados",
          "Bosnia and Herzegovina",
          "Bulgaria",
          "French Polynesia",
          "Germany",
          "Greece",
          "Guyana",
          "Italy",
          "Japan",
          "Libya",
          "Mexico",
          "New Caledonia",
          "Puerto Rico",
          "Romania",
          "Serbia",
          "Seychelles",
          "Trinidad and Tobago"
         ],
         "textposition": "top center",
         "type": "scatter",
         "x": [
          -1.163138747215271,
          -1.2713141441345215,
          -1.6664015054702759,
          -1.0525020360946655,
          -0.928598940372467,
          -1.6886694431304932,
          -0.8774222135543823,
          -1.591336727142334,
          -1.4042292833328247,
          -1.5196276903152466,
          -1.7926656007766724,
          -1.7324198484420776,
          -1.840298056602478,
          -1.87020742893219,
          -1.72451913356781,
          -1.1615864038467407,
          -1.102585792541504,
          -1.8826701641082764,
          -1.491821527481079
         ],
         "xaxis": "x",
         "y": [
          -1.5812385082244873,
          -1.6240098476409912,
          -1.5899920463562012,
          -1.5047459602355957,
          -1.3086445331573486,
          -1.3780733346939087,
          -1.2499982118606567,
          -1.3197193145751953,
          -1.58335280418396,
          -1.1941955089569092,
          -1.3157477378845215,
          -1.4255164861679077,
          -1.1753748655319214,
          -1.4061064720153809,
          -1.7549444437026978,
          -1.4253215789794922,
          -1.455651879310608,
          -1.5689531564712524,
          -1.4566296339035034
         ],
         "yaxis": "y"
        },
        {
         "hovertemplate": "Cluster=11<br>1st_component=%{x}<br>2nd_component=%{y}<br>Country=%{text}<extra></extra>",
         "legendgroup": "11",
         "marker": {
          "color": "#ab63fa",
          "symbol": "circle"
         },
         "mode": "markers+text",
         "name": "11",
         "orientation": "v",
         "showlegend": true,
         "text": [
          "Angola",
          "Canada",
          "Dominican Republic",
          "Ecuador",
          "Eswatini",
          "Finland",
          "France",
          "Israel",
          "Lebanon",
          "Malta",
          "Mauritius",
          "Netherlands",
          "New Zealand",
          "Slovenia",
          "United Kingdom",
          "Zimbabwe"
         ],
         "textposition": "top center",
         "type": "scatter",
         "x": [
          -0.1669098436832428,
          -0.43346577882766724,
          -0.8039395809173584,
          -0.35393238067626953,
          -0.2651631832122803,
          -0.3803049921989441,
          -0.4943667948246002,
          -0.7818015813827515,
          -0.4400395154953003,
          -0.6835170984268188,
          -0.5617436170578003,
          -0.5583221316337585,
          -0.7763333320617676,
          -0.4300749897956848,
          -0.5921539068222046,
          -0.18998819589614868
         ],
         "xaxis": "x",
         "y": [
          -0.2307228296995163,
          -0.4817025661468506,
          -0.07845743000507355,
          -0.1633490025997162,
          -0.4270530343055725,
          -0.020946968346834183,
          -0.5752281546592712,
          -0.331877201795578,
          -0.25160741806030273,
          -0.48111724853515625,
          -0.7551828026771545,
          -0.5179315209388733,
          -0.23323087394237518,
          -0.6946660280227661,
          -0.4503563642501831,
          -0.07983516156673431
         ],
         "yaxis": "y"
        },
        {
         "hovertemplate": "Cluster=2<br>1st_component=%{x}<br>2nd_component=%{y}<br>Country=%{text}<extra></extra>",
         "legendgroup": "2",
         "marker": {
          "color": "#FFA15A",
          "symbol": "circle"
         },
         "mode": "markers+text",
         "name": "2",
         "orientation": "v",
         "showlegend": true,
         "text": [
          "Brazil",
          "Chile",
          "China",
          "Costa Rica",
          "El Salvador",
          "Iceland",
          "Philippines",
          "Thailand",
          "Uruguay"
         ],
         "textposition": "top center",
         "type": "scatter",
         "x": [
          0.487250417470932,
          0.3586770296096802,
          0.5500853657722473,
          0.5299323797225952,
          0.04189368337392807,
          0.07501734048128128,
          0.42662060260772705,
          0.4852796792984009,
          0.28233206272125244
         ],
         "xaxis": "x",
         "y": [
          -0.6193305253982544,
          -0.8012892007827759,
          -1.0454652309417725,
          -0.7578842639923096,
          -0.9587030410766602,
          -0.8755209445953369,
          -0.8046432137489319,
          -1.1081345081329346,
          -0.7869105935096741
         ],
         "yaxis": "y"
        },
        {
         "hovertemplate": "Cluster=3<br>1st_component=%{x}<br>2nd_component=%{y}<br>Country=%{text}<extra></extra>",
         "legendgroup": "3",
         "marker": {
          "color": "#19d3f3",
          "symbol": "circle"
         },
         "mode": "markers+text",
         "name": "3",
         "orientation": "v",
         "showlegend": true,
         "text": [
          "Colombia",
          "Cuba",
          "Fiji",
          "Jamaica",
          "Malaysia",
          "Montenegro",
          "North Macedonia",
          "Singapore"
         ],
         "textposition": "top center",
         "type": "scatter",
         "x": [
          -0.18889965116977692,
          -0.2555032968521118,
          -0.44573381543159485,
          -0.3024337887763977,
          -0.35366085171699524,
          -0.17651446163654327,
          -0.11278525739908218,
          -0.040034033358097076
         ],
         "xaxis": "x",
         "y": [
          -1.2820543050765991,
          -1.512099027633667,
          -1.6302820444107056,
          -1.6691558361053467,
          -1.6137888431549072,
          -1.4264369010925293,
          -1.4513951539993286,
          -1.4924224615097046
         ],
         "yaxis": "y"
        },
        {
         "hovertemplate": "Cluster=4<br>1st_component=%{x}<br>2nd_component=%{y}<br>Country=%{text}<extra></extra>",
         "legendgroup": "4",
         "marker": {
          "color": "#FF6692",
          "symbol": "circle"
         },
         "mode": "markers+text",
         "name": "4",
         "orientation": "v",
         "showlegend": true,
         "text": [
          "Afghanistan",
          "Bangladesh",
          "Djibouti",
          "Equatorial Guinea",
          "Ethiopia",
          "India",
          "Iraq",
          "Madagascar",
          "Namibia",
          "Nepal",
          "Pakistan",
          "Senegal",
          "Uganda"
         ],
         "textposition": "top center",
         "type": "scatter",
         "x": [
          0.8334386944770813,
          0.5547494888305664,
          0.6411425471305847,
          0.9011924862861633,
          0.6439670920372009,
          1.1131912469863892,
          0.8781735897064209,
          0.3987382650375366,
          0.8759651184082031,
          1.0417747497558594,
          0.6154369115829468,
          0.7716537714004517,
          0.590394914150238
         ],
         "xaxis": "x",
         "y": [
          0.5506323575973511,
          0.8148924112319946,
          0.6652061343193054,
          0.36464452743530273,
          0.796309232711792,
          0.7162483334541321,
          0.4593445062637329,
          0.36831462383270264,
          0.6836796998977661,
          0.6910268068313599,
          0.9751675128936768,
          0.8678823709487915,
          0.5541754364967346
         ],
         "yaxis": "y"
        },
        {
         "hovertemplate": "Cluster=5<br>1st_component=%{x}<br>2nd_component=%{y}<br>Country=%{text}<extra></extra>",
         "legendgroup": "5",
         "marker": {
          "color": "#B6E880",
          "symbol": "circle"
         },
         "mode": "markers+text",
         "name": "5",
         "orientation": "v",
         "showlegend": true,
         "text": [
          "Azerbaijan",
          "Bhutan",
          "Burkina Faso",
          "Burundi",
          "Gabon",
          "Guatemala",
          "Guinea",
          "Malawi",
          "Maldives",
          "Mauritania",
          "Morocco",
          "Myanmar",
          "Niger",
          "Nigeria",
          "Rwanda",
          "Turkmenistan",
          "Uzbekistan"
         ],
         "textposition": "top center",
         "type": "scatter",
         "x": [
          1.0181211233139038,
          1.606307864189148,
          1.447545051574707,
          1.6988250017166138,
          1.272361397743225,
          1.9357787370681763,
          1.656609058380127,
          1.676693320274353,
          1.0763717889785767,
          1.894539713859558,
          1.5018551349639893,
          1.41177237033844,
          1.8171578645706177,
          1.3046836853027344,
          1.445700764656067,
          1.2996619939804077,
          1.2392206192016602
         ],
         "xaxis": "x",
         "y": [
          0.2944985032081604,
          0.08262284845113754,
          0.4391946494579315,
          0.631780207157135,
          0.17269913852214813,
          0.12974613904953003,
          0.5577476620674133,
          0.020004650577902794,
          -0.12122614681720734,
          0.18529444932937622,
          0.5591465830802917,
          0.18212337791919708,
          0.304397851228714,
          0.0837675929069519,
          0.5619606971740723,
          -0.024402638897299767,
          0.2923226058483124
         ],
         "yaxis": "y"
        },
        {
         "hovertemplate": "Cluster=6<br>1st_component=%{x}<br>2nd_component=%{y}<br>Country=%{text}<extra></extra>",
         "legendgroup": "6",
         "marker": {
          "color": "#FF97FF",
          "symbol": "circle"
         },
         "mode": "markers+text",
         "name": "6",
         "orientation": "v",
         "showlegend": true,
         "text": [
          "Cambodia",
          "Cameroon",
          "Chad",
          "Comoros",
          "Ghana",
          "Kazakhstan",
          "Mali",
          "Mongolia",
          "Mozambique",
          "Papua New Guinea",
          "Samoa",
          "Sierra Leone",
          "Sri Lanka",
          "Tonga",
          "Zambia"
         ],
         "textposition": "top center",
         "type": "scatter",
         "x": [
          1.321006417274475,
          0.9190630316734314,
          0.9421502351760864,
          1.1316860914230347,
          1.1703885793685913,
          1.5807709693908691,
          0.7861239910125732,
          1.5701199769973755,
          0.875853955745697,
          1.1995640993118286,
          1.241357684135437,
          0.9878053665161133,
          0.8670203685760498,
          0.9032170176506042,
          1.3729113340377808
         ],
         "xaxis": "x",
         "y": [
          1.0458974838256836,
          1.3156362771987915,
          1.5604702234268188,
          1.1128754615783691,
          1.1828172206878662,
          1.3861114978790283,
          1.369343638420105,
          1.290205717086792,
          1.376977562904358,
          1.3323016166687012,
          1.4441145658493042,
          1.600732684135437,
          1.8772608041763306,
          1.7429414987564087,
          0.9543773531913757
         ],
         "yaxis": "y"
        },
        {
         "hovertemplate": "Cluster=7<br>1st_component=%{x}<br>2nd_component=%{y}<br>Country=%{text}<extra></extra>",
         "legendgroup": "7",
         "marker": {
          "color": "#FECB52",
          "symbol": "circle"
         },
         "mode": "markers+text",
         "name": "7",
         "orientation": "v",
         "showlegend": true,
         "text": [
          "Guinea-Bissau",
          "Indonesia",
          "Lesotho",
          "Liberia",
          "Luxembourg",
          "Paraguay",
          "Peru",
          "Sao Tome and Principe",
          "Solomon Islands",
          "Togo",
          "United Arab Emirates",
          "Vanuatu"
         ],
         "textposition": "top center",
         "type": "scatter",
         "x": [
          0.2720789611339569,
          0.7488858103752136,
          0.995768666267395,
          0.220436692237854,
          0.14155584573745728,
          0.6893633008003235,
          0.5504997968673706,
          0.6452592015266418,
          0.7286064028739929,
          0.5886541604995728,
          0.3413423001766205,
          0.8192766308784485
         ],
         "xaxis": "x",
         "y": [
          -0.07467777281999588,
          -0.21167299151420593,
          -0.10179226845502853,
          -0.03034740500152111,
          -0.092281274497509,
          -0.2762589156627655,
          -0.01758430153131485,
          0.1363913118839264,
          0.1907653510570526,
          0.09446489065885544,
          0.2954297959804535,
          0.18775485455989838
         ],
         "yaxis": "y"
        },
        {
         "hovertemplate": "Cluster=8<br>1st_component=%{x}<br>2nd_component=%{y}<br>Country=%{text}<extra></extra>",
         "legendgroup": "8",
         "marker": {
          "color": "#636efa",
          "symbol": "circle"
         },
         "mode": "markers+text",
         "name": "8",
         "orientation": "v",
         "showlegend": true,
         "text": [
          "Algeria",
          "Belarus",
          "Croatia",
          "Estonia",
          "Georgia",
          "Hungary",
          "Latvia",
          "Lithuania",
          "Poland",
          "Portugal",
          "Russia",
          "Tunisia",
          "Ukraine"
         ],
         "textposition": "top center",
         "type": "scatter",
         "x": [
          -1.4042880535125732,
          -1.4494649171829224,
          -1.4822725057601929,
          -1.161515474319458,
          -1.4696342945098877,
          -1.7117068767547607,
          -1.2229971885681152,
          -1.2764650583267212,
          -1.2233065366744995,
          -1.764460563659668,
          -1.471977949142456,
          -1.4268847703933716,
          -1.5364813804626465
         ],
         "xaxis": "x",
         "y": [
          -0.0663246437907219,
          -0.874830424785614,
          -1.1082323789596558,
          -0.7132079601287842,
          -0.2943885624408722,
          -0.717064619064331,
          -0.8198491334915161,
          -0.8353630304336548,
          -0.9775201678276062,
          -0.706301748752594,
          -0.7845702171325684,
          -0.14673690497875214,
          -0.3899294435977936
         ],
         "yaxis": "y"
        },
        {
         "hovertemplate": "Cluster=9<br>1st_component=%{x}<br>2nd_component=%{y}<br>Country=%{text}<extra></extra>",
         "legendgroup": "9",
         "marker": {
          "color": "#EF553B",
          "symbol": "circle"
         },
         "mode": "markers+text",
         "name": "9",
         "orientation": "v",
         "showlegend": true,
         "text": [
          "Argentina",
          "Australia",
          "Austria",
          "Belgium",
          "Cyprus",
          "Denmark",
          "Eritrea",
          "Norway",
          "South Africa",
          "Spain",
          "Sweden",
          "Switzerland",
          "Tajikistan",
          "United States"
         ],
         "textposition": "top center",
         "type": "scatter",
         "x": [
          -0.8323367238044739,
          -0.6653092503547668,
          -0.7528471946716309,
          -0.4700084626674652,
          -0.8132660388946533,
          -0.503563404083252,
          -0.28373247385025024,
          -0.3658122420310974,
          -0.4992348849773407,
          -0.7556766271591187,
          -0.37952667474746704,
          -0.4085070788860321,
          -0.34164154529571533,
          -0.5941219925880432
         ],
         "xaxis": "x",
         "y": [
          0.44079458713531494,
          0.3566066324710846,
          0.6734903454780579,
          0.6293586492538452,
          0.7813729047775269,
          0.09871136397123337,
          0.14788241684436798,
          0.10200098901987076,
          0.49843862652778625,
          0.4920984208583832,
          0.25156521797180176,
          0.6560301184654236,
          0.47695836424827576,
          0.08323786407709122
         ],
         "yaxis": "y"
        }
       ],
       "layout": {
        "legend": {
         "title": {
          "text": "Cluster"
         },
         "tracegroupgap": 0
        },
        "margin": {
         "t": 60
        },
        "template": {
         "data": {
          "bar": [
           {
            "error_x": {
             "color": "#2a3f5f"
            },
            "error_y": {
             "color": "#2a3f5f"
            },
            "marker": {
             "line": {
              "color": "#E5ECF6",
              "width": 0.5
             },
             "pattern": {
              "fillmode": "overlay",
              "size": 10,
              "solidity": 0.2
             }
            },
            "type": "bar"
           }
          ],
          "barpolar": [
           {
            "marker": {
             "line": {
              "color": "#E5ECF6",
              "width": 0.5
             },
             "pattern": {
              "fillmode": "overlay",
              "size": 10,
              "solidity": 0.2
             }
            },
            "type": "barpolar"
           }
          ],
          "carpet": [
           {
            "aaxis": {
             "endlinecolor": "#2a3f5f",
             "gridcolor": "white",
             "linecolor": "white",
             "minorgridcolor": "white",
             "startlinecolor": "#2a3f5f"
            },
            "baxis": {
             "endlinecolor": "#2a3f5f",
             "gridcolor": "white",
             "linecolor": "white",
             "minorgridcolor": "white",
             "startlinecolor": "#2a3f5f"
            },
            "type": "carpet"
           }
          ],
          "choropleth": [
           {
            "colorbar": {
             "outlinewidth": 0,
             "ticks": ""
            },
            "type": "choropleth"
           }
          ],
          "contour": [
           {
            "colorbar": {
             "outlinewidth": 0,
             "ticks": ""
            },
            "colorscale": [
             [
              0,
              "#0d0887"
             ],
             [
              0.1111111111111111,
              "#46039f"
             ],
             [
              0.2222222222222222,
              "#7201a8"
             ],
             [
              0.3333333333333333,
              "#9c179e"
             ],
             [
              0.4444444444444444,
              "#bd3786"
             ],
             [
              0.5555555555555556,
              "#d8576b"
             ],
             [
              0.6666666666666666,
              "#ed7953"
             ],
             [
              0.7777777777777778,
              "#fb9f3a"
             ],
             [
              0.8888888888888888,
              "#fdca26"
             ],
             [
              1,
              "#f0f921"
             ]
            ],
            "type": "contour"
           }
          ],
          "contourcarpet": [
           {
            "colorbar": {
             "outlinewidth": 0,
             "ticks": ""
            },
            "type": "contourcarpet"
           }
          ],
          "heatmap": [
           {
            "colorbar": {
             "outlinewidth": 0,
             "ticks": ""
            },
            "colorscale": [
             [
              0,
              "#0d0887"
             ],
             [
              0.1111111111111111,
              "#46039f"
             ],
             [
              0.2222222222222222,
              "#7201a8"
             ],
             [
              0.3333333333333333,
              "#9c179e"
             ],
             [
              0.4444444444444444,
              "#bd3786"
             ],
             [
              0.5555555555555556,
              "#d8576b"
             ],
             [
              0.6666666666666666,
              "#ed7953"
             ],
             [
              0.7777777777777778,
              "#fb9f3a"
             ],
             [
              0.8888888888888888,
              "#fdca26"
             ],
             [
              1,
              "#f0f921"
             ]
            ],
            "type": "heatmap"
           }
          ],
          "heatmapgl": [
           {
            "colorbar": {
             "outlinewidth": 0,
             "ticks": ""
            },
            "colorscale": [
             [
              0,
              "#0d0887"
             ],
             [
              0.1111111111111111,
              "#46039f"
             ],
             [
              0.2222222222222222,
              "#7201a8"
             ],
             [
              0.3333333333333333,
              "#9c179e"
             ],
             [
              0.4444444444444444,
              "#bd3786"
             ],
             [
              0.5555555555555556,
              "#d8576b"
             ],
             [
              0.6666666666666666,
              "#ed7953"
             ],
             [
              0.7777777777777778,
              "#fb9f3a"
             ],
             [
              0.8888888888888888,
              "#fdca26"
             ],
             [
              1,
              "#f0f921"
             ]
            ],
            "type": "heatmapgl"
           }
          ],
          "histogram": [
           {
            "marker": {
             "pattern": {
              "fillmode": "overlay",
              "size": 10,
              "solidity": 0.2
             }
            },
            "type": "histogram"
           }
          ],
          "histogram2d": [
           {
            "colorbar": {
             "outlinewidth": 0,
             "ticks": ""
            },
            "colorscale": [
             [
              0,
              "#0d0887"
             ],
             [
              0.1111111111111111,
              "#46039f"
             ],
             [
              0.2222222222222222,
              "#7201a8"
             ],
             [
              0.3333333333333333,
              "#9c179e"
             ],
             [
              0.4444444444444444,
              "#bd3786"
             ],
             [
              0.5555555555555556,
              "#d8576b"
             ],
             [
              0.6666666666666666,
              "#ed7953"
             ],
             [
              0.7777777777777778,
              "#fb9f3a"
             ],
             [
              0.8888888888888888,
              "#fdca26"
             ],
             [
              1,
              "#f0f921"
             ]
            ],
            "type": "histogram2d"
           }
          ],
          "histogram2dcontour": [
           {
            "colorbar": {
             "outlinewidth": 0,
             "ticks": ""
            },
            "colorscale": [
             [
              0,
              "#0d0887"
             ],
             [
              0.1111111111111111,
              "#46039f"
             ],
             [
              0.2222222222222222,
              "#7201a8"
             ],
             [
              0.3333333333333333,
              "#9c179e"
             ],
             [
              0.4444444444444444,
              "#bd3786"
             ],
             [
              0.5555555555555556,
              "#d8576b"
             ],
             [
              0.6666666666666666,
              "#ed7953"
             ],
             [
              0.7777777777777778,
              "#fb9f3a"
             ],
             [
              0.8888888888888888,
              "#fdca26"
             ],
             [
              1,
              "#f0f921"
             ]
            ],
            "type": "histogram2dcontour"
           }
          ],
          "mesh3d": [
           {
            "colorbar": {
             "outlinewidth": 0,
             "ticks": ""
            },
            "type": "mesh3d"
           }
          ],
          "parcoords": [
           {
            "line": {
             "colorbar": {
              "outlinewidth": 0,
              "ticks": ""
             }
            },
            "type": "parcoords"
           }
          ],
          "pie": [
           {
            "automargin": true,
            "type": "pie"
           }
          ],
          "scatter": [
           {
            "fillpattern": {
             "fillmode": "overlay",
             "size": 10,
             "solidity": 0.2
            },
            "type": "scatter"
           }
          ],
          "scatter3d": [
           {
            "line": {
             "colorbar": {
              "outlinewidth": 0,
              "ticks": ""
             }
            },
            "marker": {
             "colorbar": {
              "outlinewidth": 0,
              "ticks": ""
             }
            },
            "type": "scatter3d"
           }
          ],
          "scattercarpet": [
           {
            "marker": {
             "colorbar": {
              "outlinewidth": 0,
              "ticks": ""
             }
            },
            "type": "scattercarpet"
           }
          ],
          "scattergeo": [
           {
            "marker": {
             "colorbar": {
              "outlinewidth": 0,
              "ticks": ""
             }
            },
            "type": "scattergeo"
           }
          ],
          "scattergl": [
           {
            "marker": {
             "colorbar": {
              "outlinewidth": 0,
              "ticks": ""
             }
            },
            "type": "scattergl"
           }
          ],
          "scattermapbox": [
           {
            "marker": {
             "colorbar": {
              "outlinewidth": 0,
              "ticks": ""
             }
            },
            "type": "scattermapbox"
           }
          ],
          "scatterpolar": [
           {
            "marker": {
             "colorbar": {
              "outlinewidth": 0,
              "ticks": ""
             }
            },
            "type": "scatterpolar"
           }
          ],
          "scatterpolargl": [
           {
            "marker": {
             "colorbar": {
              "outlinewidth": 0,
              "ticks": ""
             }
            },
            "type": "scatterpolargl"
           }
          ],
          "scatterternary": [
           {
            "marker": {
             "colorbar": {
              "outlinewidth": 0,
              "ticks": ""
             }
            },
            "type": "scatterternary"
           }
          ],
          "surface": [
           {
            "colorbar": {
             "outlinewidth": 0,
             "ticks": ""
            },
            "colorscale": [
             [
              0,
              "#0d0887"
             ],
             [
              0.1111111111111111,
              "#46039f"
             ],
             [
              0.2222222222222222,
              "#7201a8"
             ],
             [
              0.3333333333333333,
              "#9c179e"
             ],
             [
              0.4444444444444444,
              "#bd3786"
             ],
             [
              0.5555555555555556,
              "#d8576b"
             ],
             [
              0.6666666666666666,
              "#ed7953"
             ],
             [
              0.7777777777777778,
              "#fb9f3a"
             ],
             [
              0.8888888888888888,
              "#fdca26"
             ],
             [
              1,
              "#f0f921"
             ]
            ],
            "type": "surface"
           }
          ],
          "table": [
           {
            "cells": {
             "fill": {
              "color": "#EBF0F8"
             },
             "line": {
              "color": "white"
             }
            },
            "header": {
             "fill": {
              "color": "#C8D4E3"
             },
             "line": {
              "color": "white"
             }
            },
            "type": "table"
           }
          ]
         },
         "layout": {
          "annotationdefaults": {
           "arrowcolor": "#2a3f5f",
           "arrowhead": 0,
           "arrowwidth": 1
          },
          "autotypenumbers": "strict",
          "coloraxis": {
           "colorbar": {
            "outlinewidth": 0,
            "ticks": ""
           }
          },
          "colorscale": {
           "diverging": [
            [
             0,
             "#8e0152"
            ],
            [
             0.1,
             "#c51b7d"
            ],
            [
             0.2,
             "#de77ae"
            ],
            [
             0.3,
             "#f1b6da"
            ],
            [
             0.4,
             "#fde0ef"
            ],
            [
             0.5,
             "#f7f7f7"
            ],
            [
             0.6,
             "#e6f5d0"
            ],
            [
             0.7,
             "#b8e186"
            ],
            [
             0.8,
             "#7fbc41"
            ],
            [
             0.9,
             "#4d9221"
            ],
            [
             1,
             "#276419"
            ]
           ],
           "sequential": [
            [
             0,
             "#0d0887"
            ],
            [
             0.1111111111111111,
             "#46039f"
            ],
            [
             0.2222222222222222,
             "#7201a8"
            ],
            [
             0.3333333333333333,
             "#9c179e"
            ],
            [
             0.4444444444444444,
             "#bd3786"
            ],
            [
             0.5555555555555556,
             "#d8576b"
            ],
            [
             0.6666666666666666,
             "#ed7953"
            ],
            [
             0.7777777777777778,
             "#fb9f3a"
            ],
            [
             0.8888888888888888,
             "#fdca26"
            ],
            [
             1,
             "#f0f921"
            ]
           ],
           "sequentialminus": [
            [
             0,
             "#0d0887"
            ],
            [
             0.1111111111111111,
             "#46039f"
            ],
            [
             0.2222222222222222,
             "#7201a8"
            ],
            [
             0.3333333333333333,
             "#9c179e"
            ],
            [
             0.4444444444444444,
             "#bd3786"
            ],
            [
             0.5555555555555556,
             "#d8576b"
            ],
            [
             0.6666666666666666,
             "#ed7953"
            ],
            [
             0.7777777777777778,
             "#fb9f3a"
            ],
            [
             0.8888888888888888,
             "#fdca26"
            ],
            [
             1,
             "#f0f921"
            ]
           ]
          },
          "colorway": [
           "#636efa",
           "#EF553B",
           "#00cc96",
           "#ab63fa",
           "#FFA15A",
           "#19d3f3",
           "#FF6692",
           "#B6E880",
           "#FF97FF",
           "#FECB52"
          ],
          "font": {
           "color": "#2a3f5f"
          },
          "geo": {
           "bgcolor": "white",
           "lakecolor": "white",
           "landcolor": "#E5ECF6",
           "showlakes": true,
           "showland": true,
           "subunitcolor": "white"
          },
          "hoverlabel": {
           "align": "left"
          },
          "hovermode": "closest",
          "mapbox": {
           "style": "light"
          },
          "paper_bgcolor": "white",
          "plot_bgcolor": "#E5ECF6",
          "polar": {
           "angularaxis": {
            "gridcolor": "white",
            "linecolor": "white",
            "ticks": ""
           },
           "bgcolor": "#E5ECF6",
           "radialaxis": {
            "gridcolor": "white",
            "linecolor": "white",
            "ticks": ""
           }
          },
          "scene": {
           "xaxis": {
            "backgroundcolor": "#E5ECF6",
            "gridcolor": "white",
            "gridwidth": 2,
            "linecolor": "white",
            "showbackground": true,
            "ticks": "",
            "zerolinecolor": "white"
           },
           "yaxis": {
            "backgroundcolor": "#E5ECF6",
            "gridcolor": "white",
            "gridwidth": 2,
            "linecolor": "white",
            "showbackground": true,
            "ticks": "",
            "zerolinecolor": "white"
           },
           "zaxis": {
            "backgroundcolor": "#E5ECF6",
            "gridcolor": "white",
            "gridwidth": 2,
            "linecolor": "white",
            "showbackground": true,
            "ticks": "",
            "zerolinecolor": "white"
           }
          },
          "shapedefaults": {
           "line": {
            "color": "#2a3f5f"
           }
          },
          "ternary": {
           "aaxis": {
            "gridcolor": "white",
            "linecolor": "white",
            "ticks": ""
           },
           "baxis": {
            "gridcolor": "white",
            "linecolor": "white",
            "ticks": ""
           },
           "bgcolor": "#E5ECF6",
           "caxis": {
            "gridcolor": "white",
            "linecolor": "white",
            "ticks": ""
           }
          },
          "title": {
           "x": 0.05
          },
          "xaxis": {
           "automargin": true,
           "gridcolor": "white",
           "linecolor": "white",
           "ticks": "",
           "title": {
            "standoff": 15
           },
           "zerolinecolor": "white",
           "zerolinewidth": 2
          },
          "yaxis": {
           "automargin": true,
           "gridcolor": "white",
           "linecolor": "white",
           "ticks": "",
           "title": {
            "standoff": 15
           },
           "zerolinecolor": "white",
           "zerolinewidth": 2
          }
         }
        },
        "title": {
         "text": "All indicators",
         "x": 0.5
        },
        "xaxis": {
         "anchor": "y",
         "domain": [
          0,
          1
         ],
         "title": {
          "text": "1st_component"
         }
        },
        "yaxis": {
         "anchor": "x",
         "domain": [
          0,
          1
         ],
         "title": {
          "text": "2nd_component"
         }
        }
       }
      }
     },
     "metadata": {},
     "output_type": "display_data"
    }
   ],
   "source": [
    "\n",
    "\n",
    "for ind in ind_dict:\n",
    "    df_norm = df_dict[ind]\n",
    "\n",
    "    # Apply the TSNE chosen for that indicator\n",
    "    df_tsne = pd.DataFrame(tsne_dict[ind].fit_transform(df_norm))\n",
    "\n",
    "    # Scale the result\n",
    "    scaled_df = pd.DataFrame(StandardScaler().fit_transform(df_tsne), index = df_norm.index, columns = [col_1comp, col_2comp])\n",
    "    \n",
    "    # Apply Affinity Propagation\n",
    "    affinity = afprop_dict[ind].fit(scaled_df)\n",
    "\n",
    "    # Update the DataFrame with the resulting Cluster labels\n",
    "    labels_affinity = affinity.labels_\n",
    "    df_dict[ind].loc[:, col_cluster] = labels_affinity\n",
    "    scaled_df[col_cluster] = labels_affinity\n",
    "    scaled_df[col_cluster] = scaled_df[col_cluster].astype(str)\n",
    "\n",
    "    # Show the resulting chart\n",
    "    fig = px.scatter(scaled_df, x = col_1comp, y = col_2comp, text = scaled_df.index, size_max=100, color=col_cluster, category_orders={col_cluster: sort(list(set(scaled_df.loc[:, col_cluster])))})\n",
    "    fig.update_layout(title_text=ind, title_x=0.5)\n",
    "    fig.update_traces(textposition='top center')\n",
    "    fig.show()"
   ]
  },
  {
   "cell_type": "markdown",
   "metadata": {},
   "source": [
    "## Widget Clustering\n",
    "\n",
    "In order to explore the clustering results given a country, we can choose that country and the group of indicators in the table below, to see what other countries are in the same cluster for the selected group of indicators."
   ]
  },
  {
   "cell_type": "code",
   "execution_count": 7,
   "metadata": {},
   "outputs": [
    {
     "data": {
      "application/vnd.jupyter.widget-view+json": {
       "model_id": "2166c905db284f9286e1389f28036b6a",
       "version_major": 2,
       "version_minor": 0
      },
      "text/plain": [
       "interactive(children=(Dropdown(description='Indicators', options=('Economic Indicators', 'Social-demographic I…"
      ]
     },
     "metadata": {},
     "output_type": "display_data"
    }
   ],
   "source": [
    "def tableCountry(Ind, Country):\n",
    "    try:\n",
    "        # Find the cluster Country belongs to.\n",
    "        cluster_number = df_dict[Ind].loc[df_dict[Ind].index == Country, col_cluster].item()\n",
    "\n",
    "        # Retrieve the Dataframe with the selected indicators, and filter to only show the rows (countries) belonging to the cluster. Drop the cluster number column as it is redundant.\n",
    "        df_ind = df_dict[Ind]\n",
    "        df = df_ind.loc[df_ind[col_cluster] == cluster_number].drop(col_cluster, axis = 'columns')\n",
    "\n",
    "        # Format the Dataframe representation.\n",
    "        df_s = df.style\n",
    "        df_s.apply_index(lambda i: ['background-color: #aadfff; font-weight: 500' if c == Country else '' for c in i], axis = 0)\n",
    "        df_s.apply(lambda row: ['background-color: #ccebff;' if row.name == Country else '' for cell in row], axis = 1)\n",
    "        df_s.set_table_styles([{'selector': 'td:hover', 'props': [('background-color', '#ddfdff')]}])\n",
    "        tt = {}\n",
    "        for col in df.columns:\n",
    "            tt[col] = 'Column median: ' + str(df.loc[:, col].median())\n",
    "        df_s.set_tooltips(pd.DataFrame(tt, index = df.index))\n",
    "\n",
    "        # Display a short descriptive title and the Dataframe.\n",
    "        display(Country + ' belongs to Cluster ' + str(cluster_number) + '. This Cluster contains a total of ' + str(df.shape[0]) + ' countries.')\n",
    "        display(df_s)\n",
    "    except Exception:\n",
    "        return print('No indicators available for this country.')\n",
    "\n",
    "@interact(\n",
    "    Indicators = df_dict.keys(),\n",
    "    Country = sort(corr_df.index.tolist()))\n",
    "\n",
    "def g(Indicators = 'Equality indicators', Country = 'Afghanistan'):\n",
    "    return tableCountry(Indicators, Country)"
   ]
  },
  {
   "cell_type": "markdown",
   "metadata": {},
   "source": [
    "### SAVING CLUSTERING RESULTS\n",
    "\n",
    "We now write a .csv file for each group of indicators and the clusters each countries belongs to. By default, we sort the rows by cluster."
   ]
  },
  {
   "cell_type": "code",
   "execution_count": 8,
   "metadata": {},
   "outputs": [
    {
     "name": "stdout",
     "output_type": "stream",
     "text": [
      "Economic Indicators\n"
     ]
    },
    {
     "data": {
      "text/html": [
       "<div>\n",
       "<style scoped>\n",
       "    .dataframe tbody tr th:only-of-type {\n",
       "        vertical-align: middle;\n",
       "    }\n",
       "\n",
       "    .dataframe tbody tr th {\n",
       "        vertical-align: top;\n",
       "    }\n",
       "\n",
       "    .dataframe thead th {\n",
       "        text-align: right;\n",
       "    }\n",
       "</style>\n",
       "<table border=\"1\" class=\"dataframe\">\n",
       "  <thead>\n",
       "    <tr style=\"text-align: right;\">\n",
       "      <th></th>\n",
       "      <th></th>\n",
       "      <th>AgriShareGDP</th>\n",
       "      <th>CreditToAgriFishForest</th>\n",
       "      <th>EmploymentRural</th>\n",
       "      <th>% Soldiers</th>\n",
       "      <th>Employment in industry</th>\n",
       "      <th>Employment in services</th>\n",
       "      <th>Cost business start-up</th>\n",
       "      <th>Employment in agriculture</th>\n",
       "      <th>% Education Expenditure</th>\n",
       "      <th>Researchers in R&amp;D</th>\n",
       "      <th>R&amp;D expenditure %GDP</th>\n",
       "      <th>% Healthcare Investment</th>\n",
       "    </tr>\n",
       "    <tr>\n",
       "      <th>Cluster</th>\n",
       "      <th>Country</th>\n",
       "      <th></th>\n",
       "      <th></th>\n",
       "      <th></th>\n",
       "      <th></th>\n",
       "      <th></th>\n",
       "      <th></th>\n",
       "      <th></th>\n",
       "      <th></th>\n",
       "      <th></th>\n",
       "      <th></th>\n",
       "      <th></th>\n",
       "      <th></th>\n",
       "    </tr>\n",
       "  </thead>\n",
       "  <tbody>\n",
       "    <tr>\n",
       "      <th rowspan=\"5\" valign=\"top\">0</th>\n",
       "      <th>Argentina</th>\n",
       "      <td>-0.598246</td>\n",
       "      <td>0.569016</td>\n",
       "      <td>0.0</td>\n",
       "      <td>-0.733421</td>\n",
       "      <td>0.000000</td>\n",
       "      <td>0.000000</td>\n",
       "      <td>0.000000</td>\n",
       "      <td>-0.721302</td>\n",
       "      <td>0.875609</td>\n",
       "      <td>0.791166</td>\n",
       "      <td>0.870413</td>\n",
       "      <td>0.000000</td>\n",
       "    </tr>\n",
       "    <tr>\n",
       "      <th>Brazil</th>\n",
       "      <td>-0.716466</td>\n",
       "      <td>0.000000</td>\n",
       "      <td>0.0</td>\n",
       "      <td>-0.681405</td>\n",
       "      <td>0.000000</td>\n",
       "      <td>0.687886</td>\n",
       "      <td>0.000000</td>\n",
       "      <td>-0.691783</td>\n",
       "      <td>0.734721</td>\n",
       "      <td>0.000000</td>\n",
       "      <td>0.676194</td>\n",
       "      <td>0.000000</td>\n",
       "    </tr>\n",
       "    <tr>\n",
       "      <th>China</th>\n",
       "      <td>0.000000</td>\n",
       "      <td>0.000000</td>\n",
       "      <td>0.0</td>\n",
       "      <td>-0.881665</td>\n",
       "      <td>0.710202</td>\n",
       "      <td>0.999675</td>\n",
       "      <td>0.000000</td>\n",
       "      <td>-0.998375</td>\n",
       "      <td>0.680731</td>\n",
       "      <td>0.936364</td>\n",
       "      <td>1.000000</td>\n",
       "      <td>0.860669</td>\n",
       "    </tr>\n",
       "    <tr>\n",
       "      <th>Cyprus</th>\n",
       "      <td>-0.564469</td>\n",
       "      <td>0.000000</td>\n",
       "      <td>0.0</td>\n",
       "      <td>0.000000</td>\n",
       "      <td>0.000000</td>\n",
       "      <td>0.470283</td>\n",
       "      <td>0.000000</td>\n",
       "      <td>-0.691134</td>\n",
       "      <td>0.536811</td>\n",
       "      <td>0.754545</td>\n",
       "      <td>0.601494</td>\n",
       "      <td>0.440039</td>\n",
       "    </tr>\n",
       "    <tr>\n",
       "      <th>Djibouti</th>\n",
       "      <td>-0.716050</td>\n",
       "      <td>0.000000</td>\n",
       "      <td>0.0</td>\n",
       "      <td>-0.964890</td>\n",
       "      <td>0.000000</td>\n",
       "      <td>0.999675</td>\n",
       "      <td>0.000000</td>\n",
       "      <td>-0.999675</td>\n",
       "      <td>0.000000</td>\n",
       "      <td>0.000000</td>\n",
       "      <td>0.000000</td>\n",
       "      <td>0.000000</td>\n",
       "    </tr>\n",
       "    <tr>\n",
       "      <th>...</th>\n",
       "      <th>...</th>\n",
       "      <td>...</td>\n",
       "      <td>...</td>\n",
       "      <td>...</td>\n",
       "      <td>...</td>\n",
       "      <td>...</td>\n",
       "      <td>...</td>\n",
       "      <td>...</td>\n",
       "      <td>...</td>\n",
       "      <td>...</td>\n",
       "      <td>...</td>\n",
       "      <td>...</td>\n",
       "      <td>...</td>\n",
       "    </tr>\n",
       "    <tr>\n",
       "      <th rowspan=\"5\" valign=\"top\">9</th>\n",
       "      <th>Seychelles</th>\n",
       "      <td>-0.789217</td>\n",
       "      <td>0.000000</td>\n",
       "      <td>0.0</td>\n",
       "      <td>0.000000</td>\n",
       "      <td>0.000000</td>\n",
       "      <td>0.000000</td>\n",
       "      <td>0.000000</td>\n",
       "      <td>0.000000</td>\n",
       "      <td>0.000000</td>\n",
       "      <td>0.000000</td>\n",
       "      <td>0.000000</td>\n",
       "      <td>0.681627</td>\n",
       "    </tr>\n",
       "    <tr>\n",
       "      <th>Suriname</th>\n",
       "      <td>-0.894446</td>\n",
       "      <td>0.000000</td>\n",
       "      <td>0.0</td>\n",
       "      <td>-0.526658</td>\n",
       "      <td>0.557868</td>\n",
       "      <td>-0.492528</td>\n",
       "      <td>0.000000</td>\n",
       "      <td>0.000000</td>\n",
       "      <td>0.000000</td>\n",
       "      <td>0.000000</td>\n",
       "      <td>0.000000</td>\n",
       "      <td>0.000000</td>\n",
       "    </tr>\n",
       "    <tr>\n",
       "      <th>Uganda</th>\n",
       "      <td>-0.576161</td>\n",
       "      <td>0.000000</td>\n",
       "      <td>0.0</td>\n",
       "      <td>-0.921977</td>\n",
       "      <td>-0.531687</td>\n",
       "      <td>0.000000</td>\n",
       "      <td>-0.914310</td>\n",
       "      <td>0.000000</td>\n",
       "      <td>-0.650649</td>\n",
       "      <td>0.000000</td>\n",
       "      <td>0.000000</td>\n",
       "      <td>-0.720186</td>\n",
       "    </tr>\n",
       "    <tr>\n",
       "      <th>Vanuatu</th>\n",
       "      <td>0.000000</td>\n",
       "      <td>-0.569106</td>\n",
       "      <td>0.0</td>\n",
       "      <td>0.000000</td>\n",
       "      <td>0.967197</td>\n",
       "      <td>-0.632023</td>\n",
       "      <td>-0.838989</td>\n",
       "      <td>-0.939916</td>\n",
       "      <td>0.000000</td>\n",
       "      <td>0.000000</td>\n",
       "      <td>0.000000</td>\n",
       "      <td>-0.813901</td>\n",
       "    </tr>\n",
       "    <tr>\n",
       "      <th>Zimbabwe</th>\n",
       "      <td>-0.669698</td>\n",
       "      <td>0.000000</td>\n",
       "      <td>0.0</td>\n",
       "      <td>-0.841353</td>\n",
       "      <td>-0.782722</td>\n",
       "      <td>0.000000</td>\n",
       "      <td>-0.884333</td>\n",
       "      <td>0.563170</td>\n",
       "      <td>0.000000</td>\n",
       "      <td>0.000000</td>\n",
       "      <td>0.000000</td>\n",
       "      <td>0.000000</td>\n",
       "    </tr>\n",
       "  </tbody>\n",
       "</table>\n",
       "<p>152 rows × 12 columns</p>\n",
       "</div>"
      ],
      "text/plain": [
       "                    AgriShareGDP  CreditToAgriFishForest  EmploymentRural  \\\n",
       "Cluster Country                                                             \n",
       "0       Argentina      -0.598246                0.569016              0.0   \n",
       "        Brazil         -0.716466                0.000000              0.0   \n",
       "        China           0.000000                0.000000              0.0   \n",
       "        Cyprus         -0.564469                0.000000              0.0   \n",
       "        Djibouti       -0.716050                0.000000              0.0   \n",
       "...                          ...                     ...              ...   \n",
       "9       Seychelles     -0.789217                0.000000              0.0   \n",
       "        Suriname       -0.894446                0.000000              0.0   \n",
       "        Uganda         -0.576161                0.000000              0.0   \n",
       "        Vanuatu         0.000000               -0.569106              0.0   \n",
       "        Zimbabwe       -0.669698                0.000000              0.0   \n",
       "\n",
       "                    % Soldiers  Employment in industry  \\\n",
       "Cluster Country                                          \n",
       "0       Argentina    -0.733421                0.000000   \n",
       "        Brazil       -0.681405                0.000000   \n",
       "        China        -0.881665                0.710202   \n",
       "        Cyprus        0.000000                0.000000   \n",
       "        Djibouti     -0.964890                0.000000   \n",
       "...                        ...                     ...   \n",
       "9       Seychelles    0.000000                0.000000   \n",
       "        Suriname     -0.526658                0.557868   \n",
       "        Uganda       -0.921977               -0.531687   \n",
       "        Vanuatu       0.000000                0.967197   \n",
       "        Zimbabwe     -0.841353               -0.782722   \n",
       "\n",
       "                    Employment in services  Cost business start-up  \\\n",
       "Cluster Country                                                      \n",
       "0       Argentina                 0.000000                0.000000   \n",
       "        Brazil                    0.687886                0.000000   \n",
       "        China                     0.999675                0.000000   \n",
       "        Cyprus                    0.470283                0.000000   \n",
       "        Djibouti                  0.999675                0.000000   \n",
       "...                                    ...                     ...   \n",
       "9       Seychelles                0.000000                0.000000   \n",
       "        Suriname                 -0.492528                0.000000   \n",
       "        Uganda                    0.000000               -0.914310   \n",
       "        Vanuatu                  -0.632023               -0.838989   \n",
       "        Zimbabwe                  0.000000               -0.884333   \n",
       "\n",
       "                    Employment in agriculture  % Education Expenditure  \\\n",
       "Cluster Country                                                          \n",
       "0       Argentina                   -0.721302                 0.875609   \n",
       "        Brazil                      -0.691783                 0.734721   \n",
       "        China                       -0.998375                 0.680731   \n",
       "        Cyprus                      -0.691134                 0.536811   \n",
       "        Djibouti                    -0.999675                 0.000000   \n",
       "...                                       ...                      ...   \n",
       "9       Seychelles                   0.000000                 0.000000   \n",
       "        Suriname                     0.000000                 0.000000   \n",
       "        Uganda                       0.000000                -0.650649   \n",
       "        Vanuatu                     -0.939916                 0.000000   \n",
       "        Zimbabwe                     0.563170                 0.000000   \n",
       "\n",
       "                    Researchers in R&D  R&D expenditure %GDP  \\\n",
       "Cluster Country                                                \n",
       "0       Argentina             0.791166              0.870413   \n",
       "        Brazil                0.000000              0.676194   \n",
       "        China                 0.936364              1.000000   \n",
       "        Cyprus                0.754545              0.601494   \n",
       "        Djibouti              0.000000              0.000000   \n",
       "...                                ...                   ...   \n",
       "9       Seychelles            0.000000              0.000000   \n",
       "        Suriname              0.000000              0.000000   \n",
       "        Uganda                0.000000              0.000000   \n",
       "        Vanuatu               0.000000              0.000000   \n",
       "        Zimbabwe              0.000000              0.000000   \n",
       "\n",
       "                    % Healthcare Investment  \n",
       "Cluster Country                              \n",
       "0       Argentina                  0.000000  \n",
       "        Brazil                     0.000000  \n",
       "        China                      0.860669  \n",
       "        Cyprus                     0.440039  \n",
       "        Djibouti                   0.000000  \n",
       "...                                     ...  \n",
       "9       Seychelles                 0.681627  \n",
       "        Suriname                   0.000000  \n",
       "        Uganda                    -0.720186  \n",
       "        Vanuatu                   -0.813901  \n",
       "        Zimbabwe                   0.000000  \n",
       "\n",
       "[152 rows x 12 columns]"
      ]
     },
     "metadata": {},
     "output_type": "display_data"
    },
    {
     "name": "stdout",
     "output_type": "stream",
     "text": [
      "Social-demographic Indicators\n"
     ]
    },
    {
     "data": {
      "text/html": [
       "<div>\n",
       "<style scoped>\n",
       "    .dataframe tbody tr th:only-of-type {\n",
       "        vertical-align: middle;\n",
       "    }\n",
       "\n",
       "    .dataframe tbody tr th {\n",
       "        vertical-align: top;\n",
       "    }\n",
       "\n",
       "    .dataframe thead th {\n",
       "        text-align: right;\n",
       "    }\n",
       "</style>\n",
       "<table border=\"1\" class=\"dataframe\">\n",
       "  <thead>\n",
       "    <tr style=\"text-align: right;\">\n",
       "      <th></th>\n",
       "      <th></th>\n",
       "      <th>Birth Rate</th>\n",
       "      <th>Death Rate</th>\n",
       "      <th>Homicides</th>\n",
       "      <th>Life Expectancy</th>\n",
       "      <th>Maternal Death Risk</th>\n",
       "      <th>Infant Mortality</th>\n",
       "      <th>% Population Growth</th>\n",
       "      <th>% Rural Population</th>\n",
       "      <th>Population</th>\n",
       "    </tr>\n",
       "    <tr>\n",
       "      <th>Cluster</th>\n",
       "      <th>Country</th>\n",
       "      <th></th>\n",
       "      <th></th>\n",
       "      <th></th>\n",
       "      <th></th>\n",
       "      <th></th>\n",
       "      <th></th>\n",
       "      <th></th>\n",
       "      <th></th>\n",
       "      <th></th>\n",
       "    </tr>\n",
       "  </thead>\n",
       "  <tbody>\n",
       "    <tr>\n",
       "      <th rowspan=\"5\" valign=\"top\">0</th>\n",
       "      <th>Bangladesh</th>\n",
       "      <td>-0.998701</td>\n",
       "      <td>-0.998701</td>\n",
       "      <td>-0.434331</td>\n",
       "      <td>0.998701</td>\n",
       "      <td>-0.995445</td>\n",
       "      <td>-0.998701</td>\n",
       "      <td>-0.941558</td>\n",
       "      <td>-0.998701</td>\n",
       "      <td>0.998701</td>\n",
       "    </tr>\n",
       "    <tr>\n",
       "      <th>Benin</th>\n",
       "      <td>-0.990909</td>\n",
       "      <td>-0.990909</td>\n",
       "      <td>0.000000</td>\n",
       "      <td>0.990909</td>\n",
       "      <td>-0.987627</td>\n",
       "      <td>-0.990909</td>\n",
       "      <td>-0.974026</td>\n",
       "      <td>-0.990909</td>\n",
       "      <td>0.990909</td>\n",
       "    </tr>\n",
       "    <tr>\n",
       "      <th>Guatemala</th>\n",
       "      <td>-0.998701</td>\n",
       "      <td>-0.998701</td>\n",
       "      <td>-0.435631</td>\n",
       "      <td>0.998701</td>\n",
       "      <td>-0.996748</td>\n",
       "      <td>-0.998701</td>\n",
       "      <td>-0.998701</td>\n",
       "      <td>-0.998701</td>\n",
       "      <td>0.998701</td>\n",
       "    </tr>\n",
       "    <tr>\n",
       "      <th>Haiti</th>\n",
       "      <td>-0.938961</td>\n",
       "      <td>-0.938961</td>\n",
       "      <td>0.000000</td>\n",
       "      <td>0.938961</td>\n",
       "      <td>-0.898376</td>\n",
       "      <td>-0.938961</td>\n",
       "      <td>-0.938961</td>\n",
       "      <td>-0.938961</td>\n",
       "      <td>0.938961</td>\n",
       "    </tr>\n",
       "    <tr>\n",
       "      <th>Honduras</th>\n",
       "      <td>-0.994805</td>\n",
       "      <td>-0.920779</td>\n",
       "      <td>0.000000</td>\n",
       "      <td>0.994805</td>\n",
       "      <td>-0.995445</td>\n",
       "      <td>-0.994805</td>\n",
       "      <td>-0.994805</td>\n",
       "      <td>-0.994805</td>\n",
       "      <td>0.994805</td>\n",
       "    </tr>\n",
       "    <tr>\n",
       "      <th>...</th>\n",
       "      <th>...</th>\n",
       "      <td>...</td>\n",
       "      <td>...</td>\n",
       "      <td>...</td>\n",
       "      <td>...</td>\n",
       "      <td>...</td>\n",
       "      <td>...</td>\n",
       "      <td>...</td>\n",
       "      <td>...</td>\n",
       "      <td>...</td>\n",
       "    </tr>\n",
       "    <tr>\n",
       "      <th rowspan=\"5\" valign=\"top\">9</th>\n",
       "      <th>Sweden</th>\n",
       "      <td>0.526424</td>\n",
       "      <td>-0.814575</td>\n",
       "      <td>0.000000</td>\n",
       "      <td>0.828571</td>\n",
       "      <td>-0.493162</td>\n",
       "      <td>-0.810306</td>\n",
       "      <td>0.677922</td>\n",
       "      <td>-0.815584</td>\n",
       "      <td>0.815584</td>\n",
       "    </tr>\n",
       "    <tr>\n",
       "      <th>Tajikistan</th>\n",
       "      <td>0.572727</td>\n",
       "      <td>-0.909091</td>\n",
       "      <td>0.000000</td>\n",
       "      <td>0.909091</td>\n",
       "      <td>-0.905542</td>\n",
       "      <td>-0.909091</td>\n",
       "      <td>0.889610</td>\n",
       "      <td>-0.909091</td>\n",
       "      <td>0.909091</td>\n",
       "    </tr>\n",
       "    <tr>\n",
       "      <th>Tunisia</th>\n",
       "      <td>0.827273</td>\n",
       "      <td>0.808055</td>\n",
       "      <td>0.000000</td>\n",
       "      <td>0.596104</td>\n",
       "      <td>0.000000</td>\n",
       "      <td>-0.596491</td>\n",
       "      <td>0.000000</td>\n",
       "      <td>-0.596104</td>\n",
       "      <td>0.596104</td>\n",
       "    </tr>\n",
       "    <tr>\n",
       "      <th>Turkmenistan</th>\n",
       "      <td>0.000000</td>\n",
       "      <td>-0.951948</td>\n",
       "      <td>0.000000</td>\n",
       "      <td>0.950649</td>\n",
       "      <td>-0.940722</td>\n",
       "      <td>-0.927435</td>\n",
       "      <td>0.825974</td>\n",
       "      <td>-0.950649</td>\n",
       "      <td>0.950649</td>\n",
       "    </tr>\n",
       "    <tr>\n",
       "      <th>Uzbekistan</th>\n",
       "      <td>0.607537</td>\n",
       "      <td>-0.675026</td>\n",
       "      <td>0.000000</td>\n",
       "      <td>0.850649</td>\n",
       "      <td>-0.812382</td>\n",
       "      <td>-0.850649</td>\n",
       "      <td>0.759740</td>\n",
       "      <td>-0.836364</td>\n",
       "      <td>0.850649</td>\n",
       "    </tr>\n",
       "  </tbody>\n",
       "</table>\n",
       "<p>153 rows × 9 columns</p>\n",
       "</div>"
      ],
      "text/plain": [
       "                      Birth Rate  Death Rate  Homicides  Life Expectancy  \\\n",
       "Cluster Country                                                            \n",
       "0       Bangladesh     -0.998701   -0.998701  -0.434331         0.998701   \n",
       "        Benin          -0.990909   -0.990909   0.000000         0.990909   \n",
       "        Guatemala      -0.998701   -0.998701  -0.435631         0.998701   \n",
       "        Haiti          -0.938961   -0.938961   0.000000         0.938961   \n",
       "        Honduras       -0.994805   -0.920779   0.000000         0.994805   \n",
       "...                          ...         ...        ...              ...   \n",
       "9       Sweden          0.526424   -0.814575   0.000000         0.828571   \n",
       "        Tajikistan      0.572727   -0.909091   0.000000         0.909091   \n",
       "        Tunisia         0.827273    0.808055   0.000000         0.596104   \n",
       "        Turkmenistan    0.000000   -0.951948   0.000000         0.950649   \n",
       "        Uzbekistan      0.607537   -0.675026   0.000000         0.850649   \n",
       "\n",
       "                      Maternal Death Risk  Infant Mortality  \\\n",
       "Cluster Country                                               \n",
       "0       Bangladesh              -0.995445         -0.998701   \n",
       "        Benin                   -0.987627         -0.990909   \n",
       "        Guatemala               -0.996748         -0.998701   \n",
       "        Haiti                   -0.898376         -0.938961   \n",
       "        Honduras                -0.995445         -0.994805   \n",
       "...                                   ...               ...   \n",
       "9       Sweden                  -0.493162         -0.810306   \n",
       "        Tajikistan              -0.905542         -0.909091   \n",
       "        Tunisia                  0.000000         -0.596491   \n",
       "        Turkmenistan            -0.940722         -0.927435   \n",
       "        Uzbekistan              -0.812382         -0.850649   \n",
       "\n",
       "                      % Population Growth  % Rural Population  Population  \n",
       "Cluster Country                                                            \n",
       "0       Bangladesh              -0.941558           -0.998701    0.998701  \n",
       "        Benin                   -0.974026           -0.990909    0.990909  \n",
       "        Guatemala               -0.998701           -0.998701    0.998701  \n",
       "        Haiti                   -0.938961           -0.938961    0.938961  \n",
       "        Honduras                -0.994805           -0.994805    0.994805  \n",
       "...                                   ...                 ...         ...  \n",
       "9       Sweden                   0.677922           -0.815584    0.815584  \n",
       "        Tajikistan               0.889610           -0.909091    0.909091  \n",
       "        Tunisia                  0.000000           -0.596104    0.596104  \n",
       "        Turkmenistan             0.825974           -0.950649    0.950649  \n",
       "        Uzbekistan               0.759740           -0.836364    0.850649  \n",
       "\n",
       "[153 rows x 9 columns]"
      ]
     },
     "metadata": {},
     "output_type": "display_data"
    },
    {
     "name": "stdout",
     "output_type": "stream",
     "text": [
      "Equality Indicators\n"
     ]
    },
    {
     "data": {
      "text/html": [
       "<div>\n",
       "<style scoped>\n",
       "    .dataframe tbody tr th:only-of-type {\n",
       "        vertical-align: middle;\n",
       "    }\n",
       "\n",
       "    .dataframe tbody tr th {\n",
       "        vertical-align: top;\n",
       "    }\n",
       "\n",
       "    .dataframe thead th {\n",
       "        text-align: right;\n",
       "    }\n",
       "</style>\n",
       "<table border=\"1\" class=\"dataframe\">\n",
       "  <thead>\n",
       "    <tr style=\"text-align: right;\">\n",
       "      <th></th>\n",
       "      <th></th>\n",
       "      <th>% Female Employment</th>\n",
       "      <th>% Male Employment</th>\n",
       "      <th>Tertiary School Gender Parity</th>\n",
       "      <th>% Vulnerable female employment</th>\n",
       "      <th>% Vulnerable male employment</th>\n",
       "      <th>Civil Liberties</th>\n",
       "      <th>Freedom of Expression</th>\n",
       "    </tr>\n",
       "    <tr>\n",
       "      <th>Cluster</th>\n",
       "      <th>Country</th>\n",
       "      <th></th>\n",
       "      <th></th>\n",
       "      <th></th>\n",
       "      <th></th>\n",
       "      <th></th>\n",
       "      <th></th>\n",
       "      <th></th>\n",
       "    </tr>\n",
       "  </thead>\n",
       "  <tbody>\n",
       "    <tr>\n",
       "      <th rowspan=\"5\" valign=\"top\">0</th>\n",
       "      <th>Australia</th>\n",
       "      <td>0.736364</td>\n",
       "      <td>0.000000</td>\n",
       "      <td>0.000000</td>\n",
       "      <td>-0.806755</td>\n",
       "      <td>-0.852502</td>\n",
       "      <td>-0.745732</td>\n",
       "      <td>-0.661451</td>\n",
       "    </tr>\n",
       "    <tr>\n",
       "      <th>Bahrain</th>\n",
       "      <td>0.897403</td>\n",
       "      <td>0.000000</td>\n",
       "      <td>0.000000</td>\n",
       "      <td>0.000000</td>\n",
       "      <td>-0.769331</td>\n",
       "      <td>-0.828779</td>\n",
       "      <td>-0.752287</td>\n",
       "    </tr>\n",
       "    <tr>\n",
       "      <th>Bosnia and Herzegovina</th>\n",
       "      <td>0.736021</td>\n",
       "      <td>0.000000</td>\n",
       "      <td>0.000000</td>\n",
       "      <td>-0.591101</td>\n",
       "      <td>-0.839234</td>\n",
       "      <td>0.000000</td>\n",
       "      <td>-0.859690</td>\n",
       "    </tr>\n",
       "    <tr>\n",
       "      <th>Bulgaria</th>\n",
       "      <td>0.844156</td>\n",
       "      <td>0.810390</td>\n",
       "      <td>0.000000</td>\n",
       "      <td>-0.877193</td>\n",
       "      <td>-0.847678</td>\n",
       "      <td>-0.692060</td>\n",
       "      <td>-0.867079</td>\n",
       "    </tr>\n",
       "    <tr>\n",
       "      <th>Dominican Republic</th>\n",
       "      <td>0.964935</td>\n",
       "      <td>0.000000</td>\n",
       "      <td>0.000000</td>\n",
       "      <td>0.000000</td>\n",
       "      <td>0.000000</td>\n",
       "      <td>-0.809713</td>\n",
       "      <td>-0.931066</td>\n",
       "    </tr>\n",
       "    <tr>\n",
       "      <th>...</th>\n",
       "      <th>...</th>\n",
       "      <td>...</td>\n",
       "      <td>...</td>\n",
       "      <td>...</td>\n",
       "      <td>...</td>\n",
       "      <td>...</td>\n",
       "      <td>...</td>\n",
       "      <td>...</td>\n",
       "    </tr>\n",
       "    <tr>\n",
       "      <th rowspan=\"5\" valign=\"top\">8</th>\n",
       "      <th>Saudi Arabia</th>\n",
       "      <td>0.838752</td>\n",
       "      <td>0.862338</td>\n",
       "      <td>-0.793506</td>\n",
       "      <td>-0.707373</td>\n",
       "      <td>-0.923027</td>\n",
       "      <td>0.747887</td>\n",
       "      <td>0.000000</td>\n",
       "    </tr>\n",
       "    <tr>\n",
       "      <th>Solomon Islands</th>\n",
       "      <td>0.000000</td>\n",
       "      <td>0.745455</td>\n",
       "      <td>0.000000</td>\n",
       "      <td>-0.978889</td>\n",
       "      <td>-0.978889</td>\n",
       "      <td>0.567749</td>\n",
       "      <td>0.976387</td>\n",
       "    </tr>\n",
       "    <tr>\n",
       "      <th>Togo</th>\n",
       "      <td>0.816883</td>\n",
       "      <td>0.000000</td>\n",
       "      <td>0.000000</td>\n",
       "      <td>-0.819747</td>\n",
       "      <td>-0.987334</td>\n",
       "      <td>0.719680</td>\n",
       "      <td>0.551725</td>\n",
       "    </tr>\n",
       "    <tr>\n",
       "      <th>Tunisia</th>\n",
       "      <td>0.000000</td>\n",
       "      <td>0.000000</td>\n",
       "      <td>0.594805</td>\n",
       "      <td>-0.565768</td>\n",
       "      <td>-0.486522</td>\n",
       "      <td>0.584261</td>\n",
       "      <td>0.572468</td>\n",
       "    </tr>\n",
       "    <tr>\n",
       "      <th>Vanuatu</th>\n",
       "      <td>0.000000</td>\n",
       "      <td>0.000000</td>\n",
       "      <td>0.000000</td>\n",
       "      <td>-0.971095</td>\n",
       "      <td>-0.781423</td>\n",
       "      <td>0.827089</td>\n",
       "      <td>0.000000</td>\n",
       "    </tr>\n",
       "  </tbody>\n",
       "</table>\n",
       "<p>152 rows × 7 columns</p>\n",
       "</div>"
      ],
      "text/plain": [
       "                                % Female Employment  % Male Employment  \\\n",
       "Cluster Country                                                          \n",
       "0       Australia                          0.736364           0.000000   \n",
       "        Bahrain                            0.897403           0.000000   \n",
       "        Bosnia and Herzegovina             0.736021           0.000000   \n",
       "        Bulgaria                           0.844156           0.810390   \n",
       "        Dominican Republic                 0.964935           0.000000   \n",
       "...                                             ...                ...   \n",
       "8       Saudi Arabia                       0.838752           0.862338   \n",
       "        Solomon Islands                    0.000000           0.745455   \n",
       "        Togo                               0.816883           0.000000   \n",
       "        Tunisia                            0.000000           0.000000   \n",
       "        Vanuatu                            0.000000           0.000000   \n",
       "\n",
       "                                Tertiary School Gender Parity  \\\n",
       "Cluster Country                                                 \n",
       "0       Australia                                    0.000000   \n",
       "        Bahrain                                      0.000000   \n",
       "        Bosnia and Herzegovina                       0.000000   \n",
       "        Bulgaria                                     0.000000   \n",
       "        Dominican Republic                           0.000000   \n",
       "...                                                       ...   \n",
       "8       Saudi Arabia                                -0.793506   \n",
       "        Solomon Islands                              0.000000   \n",
       "        Togo                                         0.000000   \n",
       "        Tunisia                                      0.594805   \n",
       "        Vanuatu                                      0.000000   \n",
       "\n",
       "                                % Vulnerable female employment  \\\n",
       "Cluster Country                                                  \n",
       "0       Australia                                    -0.806755   \n",
       "        Bahrain                                       0.000000   \n",
       "        Bosnia and Herzegovina                       -0.591101   \n",
       "        Bulgaria                                     -0.877193   \n",
       "        Dominican Republic                            0.000000   \n",
       "...                                                        ...   \n",
       "8       Saudi Arabia                                 -0.707373   \n",
       "        Solomon Islands                              -0.978889   \n",
       "        Togo                                         -0.819747   \n",
       "        Tunisia                                      -0.565768   \n",
       "        Vanuatu                                      -0.971095   \n",
       "\n",
       "                                % Vulnerable male employment  Civil Liberties  \\\n",
       "Cluster Country                                                                 \n",
       "0       Australia                                  -0.852502        -0.745732   \n",
       "        Bahrain                                    -0.769331        -0.828779   \n",
       "        Bosnia and Herzegovina                     -0.839234         0.000000   \n",
       "        Bulgaria                                   -0.847678        -0.692060   \n",
       "        Dominican Republic                          0.000000        -0.809713   \n",
       "...                                                      ...              ...   \n",
       "8       Saudi Arabia                               -0.923027         0.747887   \n",
       "        Solomon Islands                            -0.978889         0.567749   \n",
       "        Togo                                       -0.987334         0.719680   \n",
       "        Tunisia                                    -0.486522         0.584261   \n",
       "        Vanuatu                                    -0.781423         0.827089   \n",
       "\n",
       "                                Freedom of Expression  \n",
       "Cluster Country                                        \n",
       "0       Australia                           -0.661451  \n",
       "        Bahrain                             -0.752287  \n",
       "        Bosnia and Herzegovina              -0.859690  \n",
       "        Bulgaria                            -0.867079  \n",
       "        Dominican Republic                  -0.931066  \n",
       "...                                               ...  \n",
       "8       Saudi Arabia                         0.000000  \n",
       "        Solomon Islands                      0.976387  \n",
       "        Togo                                 0.551725  \n",
       "        Tunisia                              0.572468  \n",
       "        Vanuatu                              0.000000  \n",
       "\n",
       "[152 rows x 7 columns]"
      ]
     },
     "metadata": {},
     "output_type": "display_data"
    },
    {
     "name": "stdout",
     "output_type": "stream",
     "text": [
      "All indicators\n"
     ]
    },
    {
     "data": {
      "text/html": [
       "<div>\n",
       "<style scoped>\n",
       "    .dataframe tbody tr th:only-of-type {\n",
       "        vertical-align: middle;\n",
       "    }\n",
       "\n",
       "    .dataframe tbody tr th {\n",
       "        vertical-align: top;\n",
       "    }\n",
       "\n",
       "    .dataframe thead th {\n",
       "        text-align: right;\n",
       "    }\n",
       "</style>\n",
       "<table border=\"1\" class=\"dataframe\">\n",
       "  <thead>\n",
       "    <tr style=\"text-align: right;\">\n",
       "      <th></th>\n",
       "      <th></th>\n",
       "      <th>AgriShareGDP</th>\n",
       "      <th>CreditToAgriFishForest</th>\n",
       "      <th>EmploymentRural</th>\n",
       "      <th>% Soldiers</th>\n",
       "      <th>Employment in industry</th>\n",
       "      <th>Employment in services</th>\n",
       "      <th>Birth Rate</th>\n",
       "      <th>Cost business start-up</th>\n",
       "      <th>Death Rate</th>\n",
       "      <th>Employment in agriculture</th>\n",
       "      <th>...</th>\n",
       "      <th>Researchers in R&amp;D</th>\n",
       "      <th>R&amp;D expenditure %GDP</th>\n",
       "      <th>% Rural Population</th>\n",
       "      <th>Tertiary School Gender Parity</th>\n",
       "      <th>% Vulnerable female employment</th>\n",
       "      <th>% Vulnerable male employment</th>\n",
       "      <th>Civil Liberties</th>\n",
       "      <th>Freedom of Expression</th>\n",
       "      <th>% Healthcare Investment</th>\n",
       "      <th>Population</th>\n",
       "    </tr>\n",
       "    <tr>\n",
       "      <th>Cluster</th>\n",
       "      <th>Country</th>\n",
       "      <th></th>\n",
       "      <th></th>\n",
       "      <th></th>\n",
       "      <th></th>\n",
       "      <th></th>\n",
       "      <th></th>\n",
       "      <th></th>\n",
       "      <th></th>\n",
       "      <th></th>\n",
       "      <th></th>\n",
       "      <th></th>\n",
       "      <th></th>\n",
       "      <th></th>\n",
       "      <th></th>\n",
       "      <th></th>\n",
       "      <th></th>\n",
       "      <th></th>\n",
       "      <th></th>\n",
       "      <th></th>\n",
       "      <th></th>\n",
       "      <th></th>\n",
       "    </tr>\n",
       "  </thead>\n",
       "  <tbody>\n",
       "    <tr>\n",
       "      <th rowspan=\"5\" valign=\"top\">0</th>\n",
       "      <th>Bahrain</th>\n",
       "      <td>-0.563170</td>\n",
       "      <td>-0.732056</td>\n",
       "      <td>0.000000</td>\n",
       "      <td>-0.983096</td>\n",
       "      <td>0.893147</td>\n",
       "      <td>-0.846379</td>\n",
       "      <td>-0.979221</td>\n",
       "      <td>0.000000</td>\n",
       "      <td>-0.565854</td>\n",
       "      <td>-0.964511</td>\n",
       "      <td>...</td>\n",
       "      <td>0.000000</td>\n",
       "      <td>0.000000</td>\n",
       "      <td>-0.980519</td>\n",
       "      <td>0.000000</td>\n",
       "      <td>0.000000</td>\n",
       "      <td>-0.769331</td>\n",
       "      <td>-0.828779</td>\n",
       "      <td>-0.752287</td>\n",
       "      <td>-0.448635</td>\n",
       "      <td>0.979221</td>\n",
       "    </tr>\n",
       "    <tr>\n",
       "      <th>Kuwait</th>\n",
       "      <td>0.000000</td>\n",
       "      <td>0.000000</td>\n",
       "      <td>0.000000</td>\n",
       "      <td>-0.625488</td>\n",
       "      <td>0.785320</td>\n",
       "      <td>-0.673814</td>\n",
       "      <td>-0.655844</td>\n",
       "      <td>-0.524737</td>\n",
       "      <td>-0.522277</td>\n",
       "      <td>-0.473684</td>\n",
       "      <td>...</td>\n",
       "      <td>0.000000</td>\n",
       "      <td>0.000000</td>\n",
       "      <td>0.000000</td>\n",
       "      <td>0.000000</td>\n",
       "      <td>0.000000</td>\n",
       "      <td>-0.687886</td>\n",
       "      <td>0.000000</td>\n",
       "      <td>0.000000</td>\n",
       "      <td>0.000000</td>\n",
       "      <td>0.655844</td>\n",
       "    </tr>\n",
       "    <tr>\n",
       "      <th>Oman</th>\n",
       "      <td>0.000000</td>\n",
       "      <td>-0.540611</td>\n",
       "      <td>0.000000</td>\n",
       "      <td>-0.875163</td>\n",
       "      <td>0.829490</td>\n",
       "      <td>-0.786619</td>\n",
       "      <td>-0.874432</td>\n",
       "      <td>-0.829869</td>\n",
       "      <td>-0.863636</td>\n",
       "      <td>-0.673595</td>\n",
       "      <td>...</td>\n",
       "      <td>0.000000</td>\n",
       "      <td>0.000000</td>\n",
       "      <td>-0.853247</td>\n",
       "      <td>0.939419</td>\n",
       "      <td>-0.863267</td>\n",
       "      <td>-0.902534</td>\n",
       "      <td>0.659718</td>\n",
       "      <td>0.658404</td>\n",
       "      <td>0.000000</td>\n",
       "      <td>0.863636</td>\n",
       "    </tr>\n",
       "    <tr>\n",
       "      <th>Panama</th>\n",
       "      <td>-0.990581</td>\n",
       "      <td>0.984066</td>\n",
       "      <td>0.000000</td>\n",
       "      <td>0.000000</td>\n",
       "      <td>0.500812</td>\n",
       "      <td>0.000000</td>\n",
       "      <td>-0.980519</td>\n",
       "      <td>-0.979478</td>\n",
       "      <td>0.980519</td>\n",
       "      <td>-0.707373</td>\n",
       "      <td>...</td>\n",
       "      <td>0.000000</td>\n",
       "      <td>-0.738766</td>\n",
       "      <td>-0.980519</td>\n",
       "      <td>-0.579097</td>\n",
       "      <td>0.863267</td>\n",
       "      <td>0.000000</td>\n",
       "      <td>0.000000</td>\n",
       "      <td>-0.842040</td>\n",
       "      <td>0.434698</td>\n",
       "      <td>0.980519</td>\n",
       "    </tr>\n",
       "    <tr>\n",
       "      <th>Qatar</th>\n",
       "      <td>-0.594349</td>\n",
       "      <td>0.000000</td>\n",
       "      <td>0.000000</td>\n",
       "      <td>-0.892068</td>\n",
       "      <td>0.533290</td>\n",
       "      <td>-0.534589</td>\n",
       "      <td>-0.836364</td>\n",
       "      <td>0.000000</td>\n",
       "      <td>-0.924675</td>\n",
       "      <td>-0.756581</td>\n",
       "      <td>...</td>\n",
       "      <td>0.000000</td>\n",
       "      <td>0.000000</td>\n",
       "      <td>-0.836364</td>\n",
       "      <td>0.817798</td>\n",
       "      <td>0.000000</td>\n",
       "      <td>-0.845254</td>\n",
       "      <td>0.000000</td>\n",
       "      <td>0.479169</td>\n",
       "      <td>0.000000</td>\n",
       "      <td>0.836364</td>\n",
       "    </tr>\n",
       "    <tr>\n",
       "      <th>...</th>\n",
       "      <th>...</th>\n",
       "      <td>...</td>\n",
       "      <td>...</td>\n",
       "      <td>...</td>\n",
       "      <td>...</td>\n",
       "      <td>...</td>\n",
       "      <td>...</td>\n",
       "      <td>...</td>\n",
       "      <td>...</td>\n",
       "      <td>...</td>\n",
       "      <td>...</td>\n",
       "      <td>...</td>\n",
       "      <td>...</td>\n",
       "      <td>...</td>\n",
       "      <td>...</td>\n",
       "      <td>...</td>\n",
       "      <td>...</td>\n",
       "      <td>...</td>\n",
       "      <td>...</td>\n",
       "      <td>...</td>\n",
       "      <td>...</td>\n",
       "      <td>...</td>\n",
       "    </tr>\n",
       "    <tr>\n",
       "      <th rowspan=\"5\" valign=\"top\">11</th>\n",
       "      <th>Netherlands</th>\n",
       "      <td>-0.865866</td>\n",
       "      <td>0.000000</td>\n",
       "      <td>0.000000</td>\n",
       "      <td>-0.686607</td>\n",
       "      <td>-0.745939</td>\n",
       "      <td>0.736842</td>\n",
       "      <td>-0.722367</td>\n",
       "      <td>-0.721412</td>\n",
       "      <td>0.000000</td>\n",
       "      <td>-0.496426</td>\n",
       "      <td>...</td>\n",
       "      <td>0.650649</td>\n",
       "      <td>0.000000</td>\n",
       "      <td>-0.728571</td>\n",
       "      <td>0.687907</td>\n",
       "      <td>0.630724</td>\n",
       "      <td>0.635921</td>\n",
       "      <td>-0.463257</td>\n",
       "      <td>0.000000</td>\n",
       "      <td>0.604289</td>\n",
       "      <td>0.728571</td>\n",
       "    </tr>\n",
       "    <tr>\n",
       "      <th>New Zealand</th>\n",
       "      <td>0.000000</td>\n",
       "      <td>0.000000</td>\n",
       "      <td>0.000000</td>\n",
       "      <td>-0.928479</td>\n",
       "      <td>-0.923027</td>\n",
       "      <td>0.950309</td>\n",
       "      <td>-0.727273</td>\n",
       "      <td>0.000000</td>\n",
       "      <td>0.000000</td>\n",
       "      <td>-0.931774</td>\n",
       "      <td>...</td>\n",
       "      <td>0.000000</td>\n",
       "      <td>0.000000</td>\n",
       "      <td>-0.651270</td>\n",
       "      <td>0.000000</td>\n",
       "      <td>0.519000</td>\n",
       "      <td>-0.763235</td>\n",
       "      <td>-0.602518</td>\n",
       "      <td>-0.833038</td>\n",
       "      <td>0.817798</td>\n",
       "      <td>0.980519</td>\n",
       "    </tr>\n",
       "    <tr>\n",
       "      <th>Slovenia</th>\n",
       "      <td>-0.628126</td>\n",
       "      <td>0.000000</td>\n",
       "      <td>-0.758671</td>\n",
       "      <td>-0.435631</td>\n",
       "      <td>-0.574212</td>\n",
       "      <td>0.679441</td>\n",
       "      <td>0.550132</td>\n",
       "      <td>-0.753553</td>\n",
       "      <td>0.000000</td>\n",
       "      <td>-0.537837</td>\n",
       "      <td>...</td>\n",
       "      <td>0.787013</td>\n",
       "      <td>0.577922</td>\n",
       "      <td>-0.754545</td>\n",
       "      <td>0.569016</td>\n",
       "      <td>0.000000</td>\n",
       "      <td>0.000000</td>\n",
       "      <td>0.000000</td>\n",
       "      <td>0.000000</td>\n",
       "      <td>0.527615</td>\n",
       "      <td>0.749351</td>\n",
       "    </tr>\n",
       "    <tr>\n",
       "      <th>United Kingdom</th>\n",
       "      <td>-0.548943</td>\n",
       "      <td>0.000000</td>\n",
       "      <td>0.000000</td>\n",
       "      <td>-0.785156</td>\n",
       "      <td>-0.658212</td>\n",
       "      <td>0.654309</td>\n",
       "      <td>0.000000</td>\n",
       "      <td>-0.617726</td>\n",
       "      <td>0.000000</td>\n",
       "      <td>-0.541490</td>\n",
       "      <td>...</td>\n",
       "      <td>0.702439</td>\n",
       "      <td>0.000000</td>\n",
       "      <td>-0.676203</td>\n",
       "      <td>0.433171</td>\n",
       "      <td>0.676423</td>\n",
       "      <td>0.673821</td>\n",
       "      <td>-0.702659</td>\n",
       "      <td>0.000000</td>\n",
       "      <td>0.664716</td>\n",
       "      <td>0.676203</td>\n",
       "    </tr>\n",
       "    <tr>\n",
       "      <th>Zimbabwe</th>\n",
       "      <td>-0.669698</td>\n",
       "      <td>0.000000</td>\n",
       "      <td>0.000000</td>\n",
       "      <td>-0.841353</td>\n",
       "      <td>-0.782722</td>\n",
       "      <td>0.000000</td>\n",
       "      <td>0.000000</td>\n",
       "      <td>-0.884333</td>\n",
       "      <td>-0.905195</td>\n",
       "      <td>0.563170</td>\n",
       "      <td>...</td>\n",
       "      <td>0.000000</td>\n",
       "      <td>0.000000</td>\n",
       "      <td>0.877922</td>\n",
       "      <td>0.000000</td>\n",
       "      <td>0.000000</td>\n",
       "      <td>0.512504</td>\n",
       "      <td>0.637875</td>\n",
       "      <td>0.913470</td>\n",
       "      <td>0.000000</td>\n",
       "      <td>0.832468</td>\n",
       "    </tr>\n",
       "  </tbody>\n",
       "</table>\n",
       "<p>153 rows × 28 columns</p>\n",
       "</div>"
      ],
      "text/plain": [
       "                        AgriShareGDP  CreditToAgriFishForest  EmploymentRural  \\\n",
       "Cluster Country                                                                 \n",
       "0       Bahrain            -0.563170               -0.732056         0.000000   \n",
       "        Kuwait              0.000000                0.000000         0.000000   \n",
       "        Oman                0.000000               -0.540611         0.000000   \n",
       "        Panama             -0.990581                0.984066         0.000000   \n",
       "        Qatar              -0.594349                0.000000         0.000000   \n",
       "...                              ...                     ...              ...   \n",
       "11      Netherlands        -0.865866                0.000000         0.000000   \n",
       "        New Zealand         0.000000                0.000000         0.000000   \n",
       "        Slovenia           -0.628126                0.000000        -0.758671   \n",
       "        United Kingdom     -0.548943                0.000000         0.000000   \n",
       "        Zimbabwe           -0.669698                0.000000         0.000000   \n",
       "\n",
       "                        % Soldiers  Employment in industry  \\\n",
       "Cluster Country                                              \n",
       "0       Bahrain          -0.983096                0.893147   \n",
       "        Kuwait           -0.625488                0.785320   \n",
       "        Oman             -0.875163                0.829490   \n",
       "        Panama            0.000000                0.500812   \n",
       "        Qatar            -0.892068                0.533290   \n",
       "...                            ...                     ...   \n",
       "11      Netherlands      -0.686607               -0.745939   \n",
       "        New Zealand      -0.928479               -0.923027   \n",
       "        Slovenia         -0.435631               -0.574212   \n",
       "        United Kingdom   -0.785156               -0.658212   \n",
       "        Zimbabwe         -0.841353               -0.782722   \n",
       "\n",
       "                        Employment in services  Birth Rate  \\\n",
       "Cluster Country                                              \n",
       "0       Bahrain                      -0.846379   -0.979221   \n",
       "        Kuwait                       -0.673814   -0.655844   \n",
       "        Oman                         -0.786619   -0.874432   \n",
       "        Panama                        0.000000   -0.980519   \n",
       "        Qatar                        -0.534589   -0.836364   \n",
       "...                                        ...         ...   \n",
       "11      Netherlands                   0.736842   -0.722367   \n",
       "        New Zealand                   0.950309   -0.727273   \n",
       "        Slovenia                      0.679441    0.550132   \n",
       "        United Kingdom                0.654309    0.000000   \n",
       "        Zimbabwe                      0.000000    0.000000   \n",
       "\n",
       "                        Cost business start-up  Death Rate  \\\n",
       "Cluster Country                                              \n",
       "0       Bahrain                       0.000000   -0.565854   \n",
       "        Kuwait                       -0.524737   -0.522277   \n",
       "        Oman                         -0.829869   -0.863636   \n",
       "        Panama                       -0.979478    0.980519   \n",
       "        Qatar                         0.000000   -0.924675   \n",
       "...                                        ...         ...   \n",
       "11      Netherlands                  -0.721412    0.000000   \n",
       "        New Zealand                   0.000000    0.000000   \n",
       "        Slovenia                     -0.753553    0.000000   \n",
       "        United Kingdom               -0.617726    0.000000   \n",
       "        Zimbabwe                     -0.884333   -0.905195   \n",
       "\n",
       "                        Employment in agriculture  ...  Researchers in R&D  \\\n",
       "Cluster Country                                    ...                       \n",
       "0       Bahrain                         -0.964511  ...            0.000000   \n",
       "        Kuwait                          -0.473684  ...            0.000000   \n",
       "        Oman                            -0.673595  ...            0.000000   \n",
       "        Panama                          -0.707373  ...            0.000000   \n",
       "        Qatar                           -0.756581  ...            0.000000   \n",
       "...                                           ...  ...                 ...   \n",
       "11      Netherlands                     -0.496426  ...            0.650649   \n",
       "        New Zealand                     -0.931774  ...            0.000000   \n",
       "        Slovenia                        -0.537837  ...            0.787013   \n",
       "        United Kingdom                  -0.541490  ...            0.702439   \n",
       "        Zimbabwe                         0.563170  ...            0.000000   \n",
       "\n",
       "                        R&D expenditure %GDP  % Rural Population  \\\n",
       "Cluster Country                                                    \n",
       "0       Bahrain                     0.000000           -0.980519   \n",
       "        Kuwait                      0.000000            0.000000   \n",
       "        Oman                        0.000000           -0.853247   \n",
       "        Panama                     -0.738766           -0.980519   \n",
       "        Qatar                       0.000000           -0.836364   \n",
       "...                                      ...                 ...   \n",
       "11      Netherlands                 0.000000           -0.728571   \n",
       "        New Zealand                 0.000000           -0.651270   \n",
       "        Slovenia                    0.577922           -0.754545   \n",
       "        United Kingdom              0.000000           -0.676203   \n",
       "        Zimbabwe                    0.000000            0.877922   \n",
       "\n",
       "                        Tertiary School Gender Parity  \\\n",
       "Cluster Country                                         \n",
       "0       Bahrain                              0.000000   \n",
       "        Kuwait                               0.000000   \n",
       "        Oman                                 0.939419   \n",
       "        Panama                              -0.579097   \n",
       "        Qatar                                0.817798   \n",
       "...                                               ...   \n",
       "11      Netherlands                          0.687907   \n",
       "        New Zealand                          0.000000   \n",
       "        Slovenia                             0.569016   \n",
       "        United Kingdom                       0.433171   \n",
       "        Zimbabwe                             0.000000   \n",
       "\n",
       "                        % Vulnerable female employment  \\\n",
       "Cluster Country                                          \n",
       "0       Bahrain                               0.000000   \n",
       "        Kuwait                                0.000000   \n",
       "        Oman                                 -0.863267   \n",
       "        Panama                                0.863267   \n",
       "        Qatar                                 0.000000   \n",
       "...                                                ...   \n",
       "11      Netherlands                           0.630724   \n",
       "        New Zealand                           0.519000   \n",
       "        Slovenia                              0.000000   \n",
       "        United Kingdom                        0.676423   \n",
       "        Zimbabwe                              0.000000   \n",
       "\n",
       "                        % Vulnerable male employment  Civil Liberties  \\\n",
       "Cluster Country                                                         \n",
       "0       Bahrain                            -0.769331        -0.828779   \n",
       "        Kuwait                             -0.687886         0.000000   \n",
       "        Oman                               -0.902534         0.659718   \n",
       "        Panama                              0.000000         0.000000   \n",
       "        Qatar                              -0.845254         0.000000   \n",
       "...                                              ...              ...   \n",
       "11      Netherlands                         0.635921        -0.463257   \n",
       "        New Zealand                        -0.763235        -0.602518   \n",
       "        Slovenia                            0.000000         0.000000   \n",
       "        United Kingdom                      0.673821        -0.702659   \n",
       "        Zimbabwe                            0.512504         0.637875   \n",
       "\n",
       "                        Freedom of Expression  % Healthcare Investment  \\\n",
       "Cluster Country                                                          \n",
       "0       Bahrain                     -0.752287                -0.448635   \n",
       "        Kuwait                       0.000000                 0.000000   \n",
       "        Oman                         0.658404                 0.000000   \n",
       "        Panama                      -0.842040                 0.434698   \n",
       "        Qatar                        0.479169                 0.000000   \n",
       "...                                       ...                      ...   \n",
       "11      Netherlands                  0.000000                 0.604289   \n",
       "        New Zealand                 -0.833038                 0.817798   \n",
       "        Slovenia                     0.000000                 0.527615   \n",
       "        United Kingdom               0.000000                 0.664716   \n",
       "        Zimbabwe                     0.913470                 0.000000   \n",
       "\n",
       "                        Population  \n",
       "Cluster Country                     \n",
       "0       Bahrain           0.979221  \n",
       "        Kuwait            0.655844  \n",
       "        Oman              0.863636  \n",
       "        Panama            0.980519  \n",
       "        Qatar             0.836364  \n",
       "...                            ...  \n",
       "11      Netherlands       0.728571  \n",
       "        New Zealand       0.980519  \n",
       "        Slovenia          0.749351  \n",
       "        United Kingdom    0.676203  \n",
       "        Zimbabwe          0.832468  \n",
       "\n",
       "[153 rows x 28 columns]"
      ]
     },
     "metadata": {},
     "output_type": "display_data"
    }
   ],
   "source": [
    "cluster_folder = os.getcwd() + '/Output/Cluster/'\n",
    "\n",
    "if not os.path.exists(cluster_folder):\n",
    "            os.makedirs(cluster_folder)\n",
    "\n",
    "for ind in ind_dict:\n",
    "    print(ind)\n",
    "    df = df_dict[ind]\n",
    "    df = df.set_index(['Cluster', df.index]).sort_index()\n",
    "    df.to_csv(cluster_folder + ind + '.csv')\n",
    "    display(df)\n"
   ]
  },
  {
   "cell_type": "markdown",
   "metadata": {},
   "source": [
    "## VENN DIAGRAM\n",
    "\n",
    "Finally as a more visual way to represent the clustering, we show a Venn diagram for any given country so we can observe all the countries that are related to it based on the different indicators group.\n",
    "\n",
    "NOTE: the central intersection does not correspond to the all indicators clustering, as they have obtained by different methods. The intersection is more restrictive and contains fewer countries than the all indicators group."
   ]
  },
  {
   "cell_type": "code",
   "execution_count": 9,
   "metadata": {},
   "outputs": [
    {
     "data": {
      "application/vnd.jupyter.widget-view+json": {
       "model_id": "22ea6bb109e04d0da269efb127b715c2",
       "version_major": 2,
       "version_minor": 0
      },
      "text/plain": [
       "interactive(children=(Dropdown(description='Country', index=132, options=('Afghanistan', 'Albania', 'Algeria',…"
      ]
     },
     "metadata": {},
     "output_type": "display_data"
    }
   ],
   "source": [
    "def VennOut(Country):\n",
    "    try:\n",
    "        set_econ = set(df_dict[econ_ind].loc[lambda df: df[col_cluster] == df.loc[Country, col_cluster]].index.to_list())\n",
    "        set_socdem = set(df_dict[socdem_ind].loc[lambda df: df[col_cluster] == df.loc[Country, col_cluster]].index.to_list())\n",
    "        set_eq = set(df_dict[eq_ind].loc[lambda df: df[col_cluster] == df.loc[Country, col_cluster]].index.to_list())\n",
    "\n",
    "        venn = venn3([set_econ, set_socdem, set_eq], (econ_ind, socdem_ind, eq_ind))\n",
    "\n",
    "        venn.get_label_by_id('100').set_text('\\n'.join(set_econ - set_socdem - set_eq)) # Only econ\n",
    "        venn.get_label_by_id('010').set_text('\\n'.join(set_socdem - set_econ - set_eq)) # Only socdem\n",
    "        venn.get_label_by_id('001').set_text('\\n'.join(set_eq - set_econ - set_socdem)) # Only eq\n",
    "\n",
    "        # The three pair-intersections is guaranteed only if there is an intersection of the three groups.\n",
    "        if len(set_econ & set_socdem & set_eq):\n",
    "            venn.get_label_by_id('111').set_text('\\n'.join(set_econ & set_socdem & set_eq))\n",
    "            venn.get_label_by_id('110').set_text('\\n'.join(set_econ & set_socdem - set_eq))\n",
    "            venn.get_label_by_id('101').set_text('\\n'.join(set_econ & set_eq - set_socdem))\n",
    "            venn.get_label_by_id('011').set_text('\\n'.join(set_socdem & set_eq - set_econ))\n",
    "        else:\n",
    "            # If no center, check the intersections that do exist.\n",
    "            if len(set_econ & set_socdem - set_eq):\n",
    "                venn.get_label_by_id('110').set_text('\\n'.join(set_econ & set_socdem - set_eq))\n",
    "            if len(set_econ & set_eq - set_socdem):\n",
    "                venn.get_label_by_id('101').set_text('\\n'.join(set_econ & set_eq - set_socdem))\n",
    "            if len(set_socdem & set_eq - set_econ):\n",
    "                venn.get_label_by_id('011').set_text('\\n'.join(set_socdem & set_eq - set_econ))\n",
    "\n",
    "        plt.rcParams[\"figure.figsize\"] = (12, 12)\n",
    "        plt.show()\n",
    "\n",
    "    except:\n",
    "        return print('No indicators available for this country.')\n",
    "\n",
    "\n",
    "@interact(\n",
    "    Country = sort(corr_df.index.tolist()))\n",
    "\n",
    "def g(Country = 'Spain'):\n",
    "    return VennOut(Country)"
   ]
  },
  {
   "cell_type": "code",
   "execution_count": null,
   "metadata": {},
   "outputs": [],
   "source": []
  },
  {
   "cell_type": "code",
   "execution_count": null,
   "metadata": {},
   "outputs": [],
   "source": []
  },
  {
   "cell_type": "code",
   "execution_count": null,
   "metadata": {},
   "outputs": [],
   "source": []
  },
  {
   "cell_type": "code",
   "execution_count": null,
   "metadata": {},
   "outputs": [],
   "source": []
  },
  {
   "cell_type": "code",
   "execution_count": null,
   "metadata": {},
   "outputs": [],
   "source": []
  },
  {
   "cell_type": "code",
   "execution_count": null,
   "metadata": {},
   "outputs": [],
   "source": []
  },
  {
   "cell_type": "code",
   "execution_count": 10,
   "metadata": {},
   "outputs": [
    {
     "data": {
      "text/html": [
       "<div>\n",
       "<style scoped>\n",
       "    .dataframe tbody tr th:only-of-type {\n",
       "        vertical-align: middle;\n",
       "    }\n",
       "\n",
       "    .dataframe tbody tr th {\n",
       "        vertical-align: top;\n",
       "    }\n",
       "\n",
       "    .dataframe thead th {\n",
       "        text-align: right;\n",
       "    }\n",
       "</style>\n",
       "<table border=\"1\" class=\"dataframe\">\n",
       "  <thead>\n",
       "    <tr style=\"text-align: right;\">\n",
       "      <th></th>\n",
       "      <th>1st_component</th>\n",
       "      <th>2nd_component</th>\n",
       "      <th>Cluster</th>\n",
       "    </tr>\n",
       "    <tr>\n",
       "      <th>Country</th>\n",
       "      <th></th>\n",
       "      <th></th>\n",
       "      <th></th>\n",
       "    </tr>\n",
       "  </thead>\n",
       "  <tbody>\n",
       "    <tr>\n",
       "      <th>Afghanistan</th>\n",
       "      <td>0.833439</td>\n",
       "      <td>0.550632</td>\n",
       "      <td>4</td>\n",
       "    </tr>\n",
       "    <tr>\n",
       "      <th>Albania</th>\n",
       "      <td>-1.163139</td>\n",
       "      <td>-1.581239</td>\n",
       "      <td>10</td>\n",
       "    </tr>\n",
       "    <tr>\n",
       "      <th>Algeria</th>\n",
       "      <td>-1.404288</td>\n",
       "      <td>-0.066325</td>\n",
       "      <td>8</td>\n",
       "    </tr>\n",
       "    <tr>\n",
       "      <th>Angola</th>\n",
       "      <td>-0.166910</td>\n",
       "      <td>-0.230723</td>\n",
       "      <td>11</td>\n",
       "    </tr>\n",
       "    <tr>\n",
       "      <th>Argentina</th>\n",
       "      <td>-0.832337</td>\n",
       "      <td>0.440795</td>\n",
       "      <td>9</td>\n",
       "    </tr>\n",
       "    <tr>\n",
       "      <th>...</th>\n",
       "      <td>...</td>\n",
       "      <td>...</td>\n",
       "      <td>...</td>\n",
       "    </tr>\n",
       "    <tr>\n",
       "      <th>Uruguay</th>\n",
       "      <td>0.282332</td>\n",
       "      <td>-0.786911</td>\n",
       "      <td>2</td>\n",
       "    </tr>\n",
       "    <tr>\n",
       "      <th>Uzbekistan</th>\n",
       "      <td>1.239221</td>\n",
       "      <td>0.292323</td>\n",
       "      <td>5</td>\n",
       "    </tr>\n",
       "    <tr>\n",
       "      <th>Vanuatu</th>\n",
       "      <td>0.819277</td>\n",
       "      <td>0.187755</td>\n",
       "      <td>7</td>\n",
       "    </tr>\n",
       "    <tr>\n",
       "      <th>Zambia</th>\n",
       "      <td>1.372911</td>\n",
       "      <td>0.954377</td>\n",
       "      <td>6</td>\n",
       "    </tr>\n",
       "    <tr>\n",
       "      <th>Zimbabwe</th>\n",
       "      <td>-0.189988</td>\n",
       "      <td>-0.079835</td>\n",
       "      <td>11</td>\n",
       "    </tr>\n",
       "  </tbody>\n",
       "</table>\n",
       "<p>153 rows × 3 columns</p>\n",
       "</div>"
      ],
      "text/plain": [
       "             1st_component  2nd_component Cluster\n",
       "Country                                          \n",
       "Afghanistan       0.833439       0.550632       4\n",
       "Albania          -1.163139      -1.581239      10\n",
       "Algeria          -1.404288      -0.066325       8\n",
       "Angola           -0.166910      -0.230723      11\n",
       "Argentina        -0.832337       0.440795       9\n",
       "...                    ...            ...     ...\n",
       "Uruguay           0.282332      -0.786911       2\n",
       "Uzbekistan        1.239221       0.292323       5\n",
       "Vanuatu           0.819277       0.187755       7\n",
       "Zambia            1.372911       0.954377       6\n",
       "Zimbabwe         -0.189988      -0.079835      11\n",
       "\n",
       "[153 rows x 3 columns]"
      ]
     },
     "execution_count": 10,
     "metadata": {},
     "output_type": "execute_result"
    }
   ],
   "source": [
    "scaled_df"
   ]
  },
  {
   "cell_type": "code",
   "execution_count": null,
   "metadata": {},
   "outputs": [],
   "source": []
  },
  {
   "cell_type": "markdown",
   "metadata": {},
   "source": [
    "# Different CLustering Methods\n",
    "\n",
    "We have tried a lot of different clustering methods in order to decide which one fits the best. Below are all the different codeblocks, each one for a different algorithm."
   ]
  },
  {
   "cell_type": "code",
   "execution_count": 11,
   "metadata": {},
   "outputs": [
    {
     "data": {
      "image/png": "[encoded data removed]",
      "text/plain": [
       "<Figure size 576x576 with 1 Axes>"
      ]
     },
     "metadata": {
      "needs_background": "light"
     },
     "output_type": "display_data"
    }
   ],
   "source": [
    "X_optics = pd.DataFrame(StandardScaler().fit_transform(scaled_df))\n",
    "\n",
    "'''Apply AffinityPropagation'''\n",
    "optics = AffinityPropagation(damping=0.9).fit_predict(X_optics)\n",
    "#labels_optics = optics.labels_\n",
    "\n",
    "plt.figure(figsize=(8,8))\n",
    "plt.title('AffinityPropagation',fontsize= 20)\n",
    "plt.xlabel('Feature 1',fontsize= 18)\n",
    "plt.ylabel('Feature 2',fontsize= 18)\n",
    "fig = plt.scatter(X_optics[0], X_optics[1], c= optics)"
   ]
  },
  {
   "cell_type": "code",
   "execution_count": 12,
   "metadata": {},
   "outputs": [
    {
     "data": {
      "image/png": "[encoded data removed]",
      "text/plain": [
       "<Figure size 576x576 with 1 Axes>"
      ]
     },
     "metadata": {
      "needs_background": "light"
     },
     "output_type": "display_data"
    }
   ],
   "source": [
    "\n",
    "X_optics = pd.DataFrame(StandardScaler().fit_transform(scaled_df))\n",
    "\n",
    "'''Apply OPTICS'''\n",
    "optics = OPTICS(xi=.35, min_cluster_size=3, min_samples=5).fit_predict(X_optics)\n",
    "#labels_optics = optics.labels_\n",
    "\n",
    "plt.figure(figsize=(8,8))\n",
    "plt.title('OPTICS',fontsize= 20)\n",
    "plt.xlabel('Feature 1',fontsize= 18)\n",
    "plt.ylabel('Feature 2',fontsize= 18)\n",
    "fig = plt.scatter(X_optics[0], X_optics[1], c= optics)\n"
   ]
  },
  {
   "cell_type": "code",
   "execution_count": 13,
   "metadata": {},
   "outputs": [
    {
     "data": {
      "image/png": "[encoded data removed]",
      "text/plain": [
       "<Figure size 576x576 with 1 Axes>"
      ]
     },
     "metadata": {
      "needs_background": "light"
     },
     "output_type": "display_data"
    }
   ],
   "source": [
    "from sklearn.cluster import *\n",
    "from sklearn.mixture import GaussianMixture\n",
    "\n",
    "X_kmeans = pd.DataFrame(StandardScaler().fit_transform(scaled_df))\n",
    "X_kmeans.index = scaled_df.index\n",
    "'''Apply MiniBatchKMeans'''\n",
    "kmean_clusters =   MiniBatchKMeans(n_clusters=6).fit_predict(X_kmeans)\n",
    "\n",
    "plt.figure(figsize = (8,8))\n",
    "plt.title('MiniBatchKMeans Clustering',fontsize= 20)\n",
    "plt.xlabel('Feature 1', fontsize=18)\n",
    "plt.ylabel('Feature 2', fontsize=18)\n",
    "f = plt.scatter(X_kmeans[0],X_kmeans[1],c=kmean_clusters)"
   ]
  },
  {
   "cell_type": "code",
   "execution_count": 14,
   "metadata": {},
   "outputs": [
    {
     "data": {
      "image/png": "[encoded data removed]",
      "text/plain": [
       "<Figure size 576x576 with 1 Axes>"
      ]
     },
     "metadata": {
      "needs_background": "light"
     },
     "output_type": "display_data"
    }
   ],
   "source": [
    "X_optics = pd.DataFrame(StandardScaler().fit_transform(scaled_df))\n",
    "\n",
    "'''Apply AgglomerativeClustering'''\n",
    "optics = AgglomerativeClustering(n_clusters=4).fit_predict(X_optics)\n",
    "#labels_optics = optics.labels_\n",
    "\n",
    "plt.figure(figsize=(8,8))\n",
    "plt.title('AgglomerativeClustering',fontsize= 20)\n",
    "plt.xlabel('Feature 1',fontsize= 18)\n",
    "plt.ylabel('Feature 2',fontsize= 18)\n",
    "fig = plt.scatter(X_optics[0], X_optics[1], c= optics)"
   ]
  },
  {
   "cell_type": "code",
   "execution_count": 15,
   "metadata": {},
   "outputs": [
    {
     "data": {
      "image/png": "[encoded data removed]",
      "text/plain": [
       "<Figure size 576x576 with 1 Axes>"
      ]
     },
     "metadata": {
      "needs_background": "light"
     },
     "output_type": "display_data"
    }
   ],
   "source": [
    "X_optics = pd.DataFrame(StandardScaler().fit_transform(scaled_df))\n",
    "\n",
    "'''Apply DBSCAN'''\n",
    "optics = DBSCAN(eps=0.9, min_samples=9).fit_predict(X_optics)\n",
    "#labels_optics = optics.labels_\n",
    "\n",
    "plt.figure(figsize=(8,8))\n",
    "plt.title('DBSCAN',fontsize= 20)\n",
    "plt.xlabel('Feature 1',fontsize= 18)\n",
    "plt.ylabel('Feature 2',fontsize= 18)\n",
    "fig = plt.scatter(X_optics[0], X_optics[1], c= optics)"
   ]
  },
  {
   "cell_type": "code",
   "execution_count": 16,
   "metadata": {},
   "outputs": [
    {
     "data": {
      "image/png": "[encoded data removed]",
      "text/plain": [
       "<Figure size 576x576 with 1 Axes>"
      ]
     },
     "metadata": {
      "needs_background": "light"
     },
     "output_type": "display_data"
    }
   ],
   "source": [
    "X_optics = pd.DataFrame(StandardScaler().fit_transform(scaled_df))\n",
    "\n",
    "'''Apply KMeans'''\n",
    "optics = KMeans(n_clusters=6).fit_predict(X_optics)\n",
    "#labels_optics = optics.labels_\n",
    "\n",
    "plt.figure(figsize=(8,8))\n",
    "plt.title('KMeans',fontsize= 20)\n",
    "plt.xlabel('Feature 1',fontsize= 18)\n",
    "plt.ylabel('Feature 2',fontsize= 18)\n",
    "fig = plt.scatter(X_optics[0], X_optics[1], c= optics)"
   ]
  },
  {
   "cell_type": "code",
   "execution_count": 17,
   "metadata": {},
   "outputs": [
    {
     "data": {
      "image/png": "[encoded data removed]",
      "text/plain": [
       "<Figure size 576x576 with 1 Axes>"
      ]
     },
     "metadata": {
      "needs_background": "light"
     },
     "output_type": "display_data"
    }
   ],
   "source": [
    "X_optics = pd.DataFrame(StandardScaler().fit_transform(scaled_df))\n",
    "\n",
    "'''Apply MiniBatchKMeans'''\n",
    "optics = MiniBatchKMeans(n_clusters=7).fit_predict(X_optics)\n",
    "#labels_optics = optics.labels_\n",
    "\n",
    "plt.figure(figsize=(8,8))\n",
    "plt.title('MiniBatchKMeans',fontsize= 20)\n",
    "plt.xlabel('Feature 1',fontsize= 18)\n",
    "plt.ylabel('Feature 2',fontsize= 18)\n",
    "fig = plt.scatter(X_optics[0], X_optics[1], c= optics)\n"
   ]
  },
  {
   "cell_type": "code",
   "execution_count": 18,
   "metadata": {},
   "outputs": [
    {
     "data": {
      "image/png": "[encoded data removed]",
      "text/plain": [
       "<Figure size 576x576 with 1 Axes>"
      ]
     },
     "metadata": {
      "needs_background": "light"
     },
     "output_type": "display_data"
    }
   ],
   "source": [
    "X_optics = pd.DataFrame(StandardScaler().fit_transform(scaled_df))\n",
    "\n",
    "'''Apply MeanShift'''\n",
    "optics = MeanShift().fit_predict(X_optics)\n",
    "#labels_optics = optics.labels_\n",
    "\n",
    "plt.figure(figsize=(8,8))\n",
    "plt.title('MeanShift',fontsize= 20)\n",
    "plt.xlabel('Feature 1',fontsize= 18)\n",
    "plt.ylabel('Feature 2',fontsize= 18)\n",
    "fig = plt.scatter(X_optics[0], X_optics[1], c= optics)\n"
   ]
  },
  {
   "cell_type": "code",
   "execution_count": 19,
   "metadata": {},
   "outputs": [
    {
     "data": {
      "image/png": "[encoded data removed]",
      "text/plain": [
       "<Figure size 576x576 with 1 Axes>"
      ]
     },
     "metadata": {
      "needs_background": "light"
     },
     "output_type": "display_data"
    }
   ],
   "source": [
    "\n",
    "\n",
    "X_optics = pd.DataFrame(StandardScaler().fit_transform(scaled_df))\n",
    "\n",
    "'''Apply SpectralClustering'''\n",
    "optics = SpectralClustering(n_clusters=8).fit_predict(X_optics)\n",
    "#labels_optics = optics.labels_\n",
    "\n",
    "plt.figure(figsize=(8,8))\n",
    "plt.title('SpectralClustering',fontsize= 20)\n",
    "plt.xlabel('Feature 1',fontsize= 18)\n",
    "plt.ylabel('Feature 2',fontsize= 18)\n",
    "fig = plt.scatter(X_optics[0], X_optics[1], c= optics)"
   ]
  },
  {
   "cell_type": "code",
   "execution_count": 20,
   "metadata": {},
   "outputs": [
    {
     "data": {
      "image/png": "[encoded data removed]",
      "text/plain": [
       "<Figure size 576x576 with 1 Axes>"
      ]
     },
     "metadata": {
      "needs_background": "light"
     },
     "output_type": "display_data"
    }
   ],
   "source": [
    "X_optics = pd.DataFrame(StandardScaler().fit_transform(scaled_df))\n",
    "\n",
    "'''Apply GaussianMixture'''\n",
    "optics = GaussianMixture(n_components=7).fit_predict(X_optics)\n",
    "#labels_optics = optics.labels_\n",
    "\n",
    "plt.figure(figsize=(8,8))\n",
    "plt.title('GaussianMixture',fontsize= 20)\n",
    "plt.xlabel('Feature 1',fontsize= 18)\n",
    "plt.ylabel('Feature 2',fontsize= 18)\n",
    "fig = plt.scatter(X_optics[0], X_optics[1], c= optics)"
   ]
  },
  {
   "cell_type": "code",
   "execution_count": null,
   "metadata": {},
   "outputs": [],
   "source": []
  }
 ],
 "metadata": {
  "kernelspec": {
   "display_name": "Python 3 (ipykernel)",
   "language": "python",
   "name": "python3"
  },
  "language_info": {
   "codemirror_mode": {
    "name": "ipython",
    "version": 3
   },
   "file_extension": ".py",
   "mimetype": "text/x-python",
   "name": "python",
   "nbconvert_exporter": "python",
   "pygments_lexer": "ipython3",
   "version": "3.10.5"
  },
  "vscode": {
   "interpreter": {
    "hash": "44718ba4235bc6fc2135f9d8856f170c8312ddd29b08710a5ea28d42169e623e"
   }
  }
 },
 "nbformat": 4,
 "nbformat_minor": 2
}
