{
 "cells": [
  {
   "cell_type": "markdown",
   "metadata": {},
   "source": [
    "# Clustering\n",
    "\n",
    "In this notebook clustering is being applied to the correlation dataframe in order to group countries by similarity. The analysis will be performed for the different dimensions of the indicators: equality, socio-demographic and economic. In the end there is a global analysis  using all the indicators and giving a final conclusion to this notebook."
   ]
  },
  {
   "cell_type": "markdown",
   "metadata": {},
   "source": [
    "### Import\n",
    "\n",
    "Import all the libraries and the correlation dataframe generated in the Notebook-Golden."
   ]
  },
  {
   "cell_type": "code",
   "execution_count": 1,
   "metadata": {},
   "outputs": [],
   "source": [
    "import os\n",
    "import numpy as np\n",
    "import pandas as pd\n",
    "import matplotlib.pyplot as plt\n",
    "import plotly.express as px\n",
    "from numpy import sort\n",
    "from sklearn.manifold import TSNE\n",
    "import ipywidgets as widgets\n",
    "import seaborn as sns\n",
    "import warnings\n",
    "warnings.filterwarnings(\"ignore\")\n",
    "from matplotlib import gridspec\n",
    "from sklearn.cluster import OPTICS, cluster_optics_dbscan\n",
    "from sklearn.preprocessing import normalize, StandardScaler\n",
    "from sklearn.cluster import AffinityPropagation\n",
    "from ipywidgets import interact, interact_manual\n",
    "import matplotlib.pyplot as plt\n",
    "from matplotlib_venn import venn3\n",
    "\n",
    "output_path = os.getcwd() + '/Output/'\n",
    "col_country = 'Country'\n",
    "col_region = 'Region'\n",
    "col_year = 'Year'\n",
    "col_cluster = 'Cluster'\n",
    "col_1comp = '1st_component'\n",
    "col_2comp = '2nd_component'"
   ]
  },
  {
   "cell_type": "markdown",
   "metadata": {},
   "source": [
    "## LOADING THE DATAFRAME\n",
    "We will use the Pearson Correlation Dataframe. We could use Spearman's by simply changing the name of the file to be read."
   ]
  },
  {
   "cell_type": "code",
   "execution_count": 2,
   "metadata": {},
   "outputs": [
    {
     "data": {
      "text/html": [
       "<div>\n",
       "<style scoped>\n",
       "    .dataframe tbody tr th:only-of-type {\n",
       "        vertical-align: middle;\n",
       "    }\n",
       "\n",
       "    .dataframe tbody tr th {\n",
       "        vertical-align: top;\n",
       "    }\n",
       "\n",
       "    .dataframe thead th {\n",
       "        text-align: right;\n",
       "    }\n",
       "</style>\n",
       "<table border=\"1\" class=\"dataframe\">\n",
       "  <thead>\n",
       "    <tr style=\"text-align: right;\">\n",
       "      <th></th>\n",
       "      <th>AgriShareGDP</th>\n",
       "      <th>CreditToAgriFishForest</th>\n",
       "      <th>EmploymentRural</th>\n",
       "      <th>TotalAgri</th>\n",
       "      <th>% Soldiers</th>\n",
       "      <th>Birth Rate</th>\n",
       "      <th>Death Rate</th>\n",
       "      <th>Homicides</th>\n",
       "      <th>Life Expectancy</th>\n",
       "      <th>Maternal Death Risk</th>\n",
       "      <th>...</th>\n",
       "      <th>% Population Growth</th>\n",
       "      <th>% Rural Population</th>\n",
       "      <th>Civil Liberties</th>\n",
       "      <th>Freedom of Expression</th>\n",
       "      <th>% Healthcare Investment</th>\n",
       "      <th>% Employment Industry</th>\n",
       "      <th>% Education Expenditure</th>\n",
       "      <th>% Men Employment</th>\n",
       "      <th>% Women Employment</th>\n",
       "      <th>Population</th>\n",
       "    </tr>\n",
       "    <tr>\n",
       "      <th>Country</th>\n",
       "      <th></th>\n",
       "      <th></th>\n",
       "      <th></th>\n",
       "      <th></th>\n",
       "      <th></th>\n",
       "      <th></th>\n",
       "      <th></th>\n",
       "      <th></th>\n",
       "      <th></th>\n",
       "      <th></th>\n",
       "      <th></th>\n",
       "      <th></th>\n",
       "      <th></th>\n",
       "      <th></th>\n",
       "      <th></th>\n",
       "      <th></th>\n",
       "      <th></th>\n",
       "      <th></th>\n",
       "      <th></th>\n",
       "      <th></th>\n",
       "      <th></th>\n",
       "    </tr>\n",
       "  </thead>\n",
       "  <tbody>\n",
       "    <tr>\n",
       "      <th>Afghanistan</th>\n",
       "      <td>-0.870233</td>\n",
       "      <td>NaN</td>\n",
       "      <td>NaN</td>\n",
       "      <td>NaN</td>\n",
       "      <td>NaN</td>\n",
       "      <td>-0.953124</td>\n",
       "      <td>-0.968941</td>\n",
       "      <td>NaN</td>\n",
       "      <td>0.961018</td>\n",
       "      <td>-0.953193</td>\n",
       "      <td>...</td>\n",
       "      <td>NaN</td>\n",
       "      <td>-0.931713</td>\n",
       "      <td>NaN</td>\n",
       "      <td>0.680533</td>\n",
       "      <td>NaN</td>\n",
       "      <td>-0.733667</td>\n",
       "      <td>NaN</td>\n",
       "      <td>NaN</td>\n",
       "      <td>NaN</td>\n",
       "      <td>0.929911</td>\n",
       "    </tr>\n",
       "    <tr>\n",
       "      <th>Albania</th>\n",
       "      <td>-0.721376</td>\n",
       "      <td>NaN</td>\n",
       "      <td>NaN</td>\n",
       "      <td>0.955863</td>\n",
       "      <td>-0.809293</td>\n",
       "      <td>-0.923325</td>\n",
       "      <td>0.893681</td>\n",
       "      <td>-0.701728</td>\n",
       "      <td>0.903398</td>\n",
       "      <td>-0.862758</td>\n",
       "      <td>...</td>\n",
       "      <td>NaN</td>\n",
       "      <td>-0.916568</td>\n",
       "      <td>0.862694</td>\n",
       "      <td>NaN</td>\n",
       "      <td>NaN</td>\n",
       "      <td>0.786991</td>\n",
       "      <td>NaN</td>\n",
       "      <td>NaN</td>\n",
       "      <td>NaN</td>\n",
       "      <td>-0.925309</td>\n",
       "    </tr>\n",
       "    <tr>\n",
       "      <th>Algeria</th>\n",
       "      <td>NaN</td>\n",
       "      <td>NaN</td>\n",
       "      <td>NaN</td>\n",
       "      <td>0.911970</td>\n",
       "      <td>-0.804748</td>\n",
       "      <td>0.951733</td>\n",
       "      <td>NaN</td>\n",
       "      <td>NaN</td>\n",
       "      <td>0.863359</td>\n",
       "      <td>NaN</td>\n",
       "      <td>...</td>\n",
       "      <td>0.905385</td>\n",
       "      <td>-0.813765</td>\n",
       "      <td>0.808796</td>\n",
       "      <td>NaN</td>\n",
       "      <td>0.656106</td>\n",
       "      <td>0.906667</td>\n",
       "      <td>NaN</td>\n",
       "      <td>NaN</td>\n",
       "      <td>NaN</td>\n",
       "      <td>0.716609</td>\n",
       "    </tr>\n",
       "    <tr>\n",
       "      <th>Andorra</th>\n",
       "      <td>NaN</td>\n",
       "      <td>NaN</td>\n",
       "      <td>NaN</td>\n",
       "      <td>NaN</td>\n",
       "      <td>NaN</td>\n",
       "      <td>NaN</td>\n",
       "      <td>NaN</td>\n",
       "      <td>NaN</td>\n",
       "      <td>NaN</td>\n",
       "      <td>NaN</td>\n",
       "      <td>...</td>\n",
       "      <td>NaN</td>\n",
       "      <td>NaN</td>\n",
       "      <td>NaN</td>\n",
       "      <td>NaN</td>\n",
       "      <td>NaN</td>\n",
       "      <td>NaN</td>\n",
       "      <td>NaN</td>\n",
       "      <td>NaN</td>\n",
       "      <td>NaN</td>\n",
       "      <td>0.935892</td>\n",
       "    </tr>\n",
       "    <tr>\n",
       "      <th>Angola</th>\n",
       "      <td>NaN</td>\n",
       "      <td>NaN</td>\n",
       "      <td>NaN</td>\n",
       "      <td>NaN</td>\n",
       "      <td>-0.810890</td>\n",
       "      <td>-0.675961</td>\n",
       "      <td>-0.846921</td>\n",
       "      <td>NaN</td>\n",
       "      <td>0.837416</td>\n",
       "      <td>-0.880651</td>\n",
       "      <td>...</td>\n",
       "      <td>NaN</td>\n",
       "      <td>-0.797670</td>\n",
       "      <td>0.610423</td>\n",
       "      <td>0.528551</td>\n",
       "      <td>NaN</td>\n",
       "      <td>NaN</td>\n",
       "      <td>NaN</td>\n",
       "      <td>NaN</td>\n",
       "      <td>NaN</td>\n",
       "      <td>0.731495</td>\n",
       "    </tr>\n",
       "    <tr>\n",
       "      <th>...</th>\n",
       "      <td>...</td>\n",
       "      <td>...</td>\n",
       "      <td>...</td>\n",
       "      <td>...</td>\n",
       "      <td>...</td>\n",
       "      <td>...</td>\n",
       "      <td>...</td>\n",
       "      <td>...</td>\n",
       "      <td>...</td>\n",
       "      <td>...</td>\n",
       "      <td>...</td>\n",
       "      <td>...</td>\n",
       "      <td>...</td>\n",
       "      <td>...</td>\n",
       "      <td>...</td>\n",
       "      <td>...</td>\n",
       "      <td>...</td>\n",
       "      <td>...</td>\n",
       "      <td>...</td>\n",
       "      <td>...</td>\n",
       "      <td>...</td>\n",
       "    </tr>\n",
       "    <tr>\n",
       "      <th>Uzbekistan</th>\n",
       "      <td>-0.833228</td>\n",
       "      <td>NaN</td>\n",
       "      <td>NaN</td>\n",
       "      <td>NaN</td>\n",
       "      <td>-0.843556</td>\n",
       "      <td>0.620577</td>\n",
       "      <td>-0.731226</td>\n",
       "      <td>NaN</td>\n",
       "      <td>0.871543</td>\n",
       "      <td>-0.825993</td>\n",
       "      <td>...</td>\n",
       "      <td>0.810501</td>\n",
       "      <td>-0.852934</td>\n",
       "      <td>NaN</td>\n",
       "      <td>NaN</td>\n",
       "      <td>0.926815</td>\n",
       "      <td>0.912074</td>\n",
       "      <td>NaN</td>\n",
       "      <td>NaN</td>\n",
       "      <td>NaN</td>\n",
       "      <td>0.839731</td>\n",
       "    </tr>\n",
       "    <tr>\n",
       "      <th>Vanuatu</th>\n",
       "      <td>NaN</td>\n",
       "      <td>-0.507810</td>\n",
       "      <td>NaN</td>\n",
       "      <td>0.868536</td>\n",
       "      <td>NaN</td>\n",
       "      <td>-0.867276</td>\n",
       "      <td>-0.895642</td>\n",
       "      <td>NaN</td>\n",
       "      <td>0.967898</td>\n",
       "      <td>-0.977386</td>\n",
       "      <td>...</td>\n",
       "      <td>NaN</td>\n",
       "      <td>-0.981182</td>\n",
       "      <td>0.820181</td>\n",
       "      <td>NaN</td>\n",
       "      <td>-0.790236</td>\n",
       "      <td>0.475654</td>\n",
       "      <td>NaN</td>\n",
       "      <td>NaN</td>\n",
       "      <td>NaN</td>\n",
       "      <td>0.946512</td>\n",
       "    </tr>\n",
       "    <tr>\n",
       "      <th>Yemen</th>\n",
       "      <td>NaN</td>\n",
       "      <td>NaN</td>\n",
       "      <td>NaN</td>\n",
       "      <td>0.675176</td>\n",
       "      <td>NaN</td>\n",
       "      <td>NaN</td>\n",
       "      <td>NaN</td>\n",
       "      <td>NaN</td>\n",
       "      <td>NaN</td>\n",
       "      <td>NaN</td>\n",
       "      <td>...</td>\n",
       "      <td>NaN</td>\n",
       "      <td>NaN</td>\n",
       "      <td>NaN</td>\n",
       "      <td>NaN</td>\n",
       "      <td>-0.784325</td>\n",
       "      <td>0.837351</td>\n",
       "      <td>NaN</td>\n",
       "      <td>NaN</td>\n",
       "      <td>NaN</td>\n",
       "      <td>0.595893</td>\n",
       "    </tr>\n",
       "    <tr>\n",
       "      <th>Zambia</th>\n",
       "      <td>-0.845919</td>\n",
       "      <td>0.564409</td>\n",
       "      <td>NaN</td>\n",
       "      <td>0.924947</td>\n",
       "      <td>-0.838335</td>\n",
       "      <td>-0.845968</td>\n",
       "      <td>-0.934914</td>\n",
       "      <td>NaN</td>\n",
       "      <td>0.913537</td>\n",
       "      <td>-0.917608</td>\n",
       "      <td>...</td>\n",
       "      <td>0.906807</td>\n",
       "      <td>-0.857861</td>\n",
       "      <td>-0.572971</td>\n",
       "      <td>-0.555529</td>\n",
       "      <td>-0.621537</td>\n",
       "      <td>0.948675</td>\n",
       "      <td>NaN</td>\n",
       "      <td>NaN</td>\n",
       "      <td>NaN</td>\n",
       "      <td>0.825379</td>\n",
       "    </tr>\n",
       "    <tr>\n",
       "      <th>Zimbabwe</th>\n",
       "      <td>-0.674981</td>\n",
       "      <td>NaN</td>\n",
       "      <td>NaN</td>\n",
       "      <td>NaN</td>\n",
       "      <td>-0.699115</td>\n",
       "      <td>NaN</td>\n",
       "      <td>-0.984555</td>\n",
       "      <td>NaN</td>\n",
       "      <td>0.982649</td>\n",
       "      <td>-0.804806</td>\n",
       "      <td>...</td>\n",
       "      <td>0.816112</td>\n",
       "      <td>0.938288</td>\n",
       "      <td>0.588724</td>\n",
       "      <td>0.861675</td>\n",
       "      <td>NaN</td>\n",
       "      <td>-0.957352</td>\n",
       "      <td>NaN</td>\n",
       "      <td>NaN</td>\n",
       "      <td>NaN</td>\n",
       "      <td>0.956048</td>\n",
       "    </tr>\n",
       "  </tbody>\n",
       "</table>\n",
       "<p>179 rows × 21 columns</p>\n",
       "</div>"
      ],
      "text/plain": [
       "             AgriShareGDP  CreditToAgriFishForest  EmploymentRural  TotalAgri  \\\n",
       "Country                                                                         \n",
       "Afghanistan     -0.870233                     NaN              NaN        NaN   \n",
       "Albania         -0.721376                     NaN              NaN   0.955863   \n",
       "Algeria               NaN                     NaN              NaN   0.911970   \n",
       "Andorra               NaN                     NaN              NaN        NaN   \n",
       "Angola                NaN                     NaN              NaN        NaN   \n",
       "...                   ...                     ...              ...        ...   \n",
       "Uzbekistan      -0.833228                     NaN              NaN        NaN   \n",
       "Vanuatu               NaN               -0.507810              NaN   0.868536   \n",
       "Yemen                 NaN                     NaN              NaN   0.675176   \n",
       "Zambia          -0.845919                0.564409              NaN   0.924947   \n",
       "Zimbabwe        -0.674981                     NaN              NaN        NaN   \n",
       "\n",
       "             % Soldiers  Birth Rate  Death Rate  Homicides  Life Expectancy  \\\n",
       "Country                                                                       \n",
       "Afghanistan         NaN   -0.953124   -0.968941        NaN         0.961018   \n",
       "Albania       -0.809293   -0.923325    0.893681  -0.701728         0.903398   \n",
       "Algeria       -0.804748    0.951733         NaN        NaN         0.863359   \n",
       "Andorra             NaN         NaN         NaN        NaN              NaN   \n",
       "Angola        -0.810890   -0.675961   -0.846921        NaN         0.837416   \n",
       "...                 ...         ...         ...        ...              ...   \n",
       "Uzbekistan    -0.843556    0.620577   -0.731226        NaN         0.871543   \n",
       "Vanuatu             NaN   -0.867276   -0.895642        NaN         0.967898   \n",
       "Yemen               NaN         NaN         NaN        NaN              NaN   \n",
       "Zambia        -0.838335   -0.845968   -0.934914        NaN         0.913537   \n",
       "Zimbabwe      -0.699115         NaN   -0.984555        NaN         0.982649   \n",
       "\n",
       "             Maternal Death Risk  ...  % Population Growth  \\\n",
       "Country                           ...                        \n",
       "Afghanistan            -0.953193  ...                  NaN   \n",
       "Albania                -0.862758  ...                  NaN   \n",
       "Algeria                      NaN  ...             0.905385   \n",
       "Andorra                      NaN  ...                  NaN   \n",
       "Angola                 -0.880651  ...                  NaN   \n",
       "...                          ...  ...                  ...   \n",
       "Uzbekistan             -0.825993  ...             0.810501   \n",
       "Vanuatu                -0.977386  ...                  NaN   \n",
       "Yemen                        NaN  ...                  NaN   \n",
       "Zambia                 -0.917608  ...             0.906807   \n",
       "Zimbabwe               -0.804806  ...             0.816112   \n",
       "\n",
       "             % Rural Population  Civil Liberties  Freedom of Expression  \\\n",
       "Country                                                                   \n",
       "Afghanistan           -0.931713              NaN               0.680533   \n",
       "Albania               -0.916568         0.862694                    NaN   \n",
       "Algeria               -0.813765         0.808796                    NaN   \n",
       "Andorra                     NaN              NaN                    NaN   \n",
       "Angola                -0.797670         0.610423               0.528551   \n",
       "...                         ...              ...                    ...   \n",
       "Uzbekistan            -0.852934              NaN                    NaN   \n",
       "Vanuatu               -0.981182         0.820181                    NaN   \n",
       "Yemen                       NaN              NaN                    NaN   \n",
       "Zambia                -0.857861        -0.572971              -0.555529   \n",
       "Zimbabwe               0.938288         0.588724               0.861675   \n",
       "\n",
       "             % Healthcare Investment  % Employment Industry  \\\n",
       "Country                                                       \n",
       "Afghanistan                      NaN              -0.733667   \n",
       "Albania                          NaN               0.786991   \n",
       "Algeria                     0.656106               0.906667   \n",
       "Andorra                          NaN                    NaN   \n",
       "Angola                           NaN                    NaN   \n",
       "...                              ...                    ...   \n",
       "Uzbekistan                  0.926815               0.912074   \n",
       "Vanuatu                    -0.790236               0.475654   \n",
       "Yemen                      -0.784325               0.837351   \n",
       "Zambia                     -0.621537               0.948675   \n",
       "Zimbabwe                         NaN              -0.957352   \n",
       "\n",
       "             % Education Expenditure  % Men Employment  % Women Employment  \\\n",
       "Country                                                                      \n",
       "Afghanistan                      NaN               NaN                 NaN   \n",
       "Albania                          NaN               NaN                 NaN   \n",
       "Algeria                          NaN               NaN                 NaN   \n",
       "Andorra                          NaN               NaN                 NaN   \n",
       "Angola                           NaN               NaN                 NaN   \n",
       "...                              ...               ...                 ...   \n",
       "Uzbekistan                       NaN               NaN                 NaN   \n",
       "Vanuatu                          NaN               NaN                 NaN   \n",
       "Yemen                            NaN               NaN                 NaN   \n",
       "Zambia                           NaN               NaN                 NaN   \n",
       "Zimbabwe                         NaN               NaN                 NaN   \n",
       "\n",
       "             Population  \n",
       "Country                  \n",
       "Afghanistan    0.929911  \n",
       "Albania       -0.925309  \n",
       "Algeria        0.716609  \n",
       "Andorra        0.935892  \n",
       "Angola         0.731495  \n",
       "...                 ...  \n",
       "Uzbekistan     0.839731  \n",
       "Vanuatu        0.946512  \n",
       "Yemen          0.595893  \n",
       "Zambia         0.825379  \n",
       "Zimbabwe       0.956048  \n",
       "\n",
       "[179 rows x 21 columns]"
      ]
     },
     "execution_count": 2,
     "metadata": {},
     "output_type": "execute_result"
    }
   ],
   "source": [
    "corr_df = pd.read_csv(output_path + 'Corr_DF_pearson.csv', index_col = col_country)\n",
    "corr_df"
   ]
  },
  {
   "cell_type": "markdown",
   "metadata": {},
   "source": [
    "## DEFINING THE GROUPS\n",
    "\n",
    "In order to carry out a more sensitive study, we will not only study the indicators as a whole, but also separate them in the following groups to study them more in-depth."
   ]
  },
  {
   "cell_type": "code",
   "execution_count": 3,
   "metadata": {},
   "outputs": [
    {
     "name": "stdout",
     "output_type": "stream",
     "text": [
      "Economic Indicators\n"
     ]
    },
    {
     "data": {
      "text/html": [
       "<div>\n",
       "<style scoped>\n",
       "    .dataframe tbody tr th:only-of-type {\n",
       "        vertical-align: middle;\n",
       "    }\n",
       "\n",
       "    .dataframe tbody tr th {\n",
       "        vertical-align: top;\n",
       "    }\n",
       "\n",
       "    .dataframe thead th {\n",
       "        text-align: right;\n",
       "    }\n",
       "</style>\n",
       "<table border=\"1\" class=\"dataframe\">\n",
       "  <thead>\n",
       "    <tr style=\"text-align: right;\">\n",
       "      <th></th>\n",
       "      <th>AgriShareGDP</th>\n",
       "      <th>CreditToAgriFishForest</th>\n",
       "      <th>EmploymentRural</th>\n",
       "      <th>TotalAgri</th>\n",
       "      <th>% Soldiers</th>\n",
       "      <th>% Healthcare Investment</th>\n",
       "      <th>% Employment Industry</th>\n",
       "      <th>% Education Expenditure</th>\n",
       "    </tr>\n",
       "    <tr>\n",
       "      <th>Country</th>\n",
       "      <th></th>\n",
       "      <th></th>\n",
       "      <th></th>\n",
       "      <th></th>\n",
       "      <th></th>\n",
       "      <th></th>\n",
       "      <th></th>\n",
       "      <th></th>\n",
       "    </tr>\n",
       "  </thead>\n",
       "  <tbody>\n",
       "    <tr>\n",
       "      <th>Afghanistan</th>\n",
       "      <td>-0.870233</td>\n",
       "      <td>0.000000</td>\n",
       "      <td>0.0</td>\n",
       "      <td>0.000000</td>\n",
       "      <td>0.000000</td>\n",
       "      <td>0.000000</td>\n",
       "      <td>-0.733667</td>\n",
       "      <td>0.0</td>\n",
       "    </tr>\n",
       "    <tr>\n",
       "      <th>Albania</th>\n",
       "      <td>-0.721376</td>\n",
       "      <td>0.000000</td>\n",
       "      <td>0.0</td>\n",
       "      <td>0.955863</td>\n",
       "      <td>-0.809293</td>\n",
       "      <td>0.000000</td>\n",
       "      <td>0.786991</td>\n",
       "      <td>0.0</td>\n",
       "    </tr>\n",
       "    <tr>\n",
       "      <th>Algeria</th>\n",
       "      <td>0.000000</td>\n",
       "      <td>0.000000</td>\n",
       "      <td>0.0</td>\n",
       "      <td>0.911970</td>\n",
       "      <td>-0.804748</td>\n",
       "      <td>0.656106</td>\n",
       "      <td>0.906667</td>\n",
       "      <td>0.0</td>\n",
       "    </tr>\n",
       "    <tr>\n",
       "      <th>Angola</th>\n",
       "      <td>0.000000</td>\n",
       "      <td>0.000000</td>\n",
       "      <td>0.0</td>\n",
       "      <td>0.000000</td>\n",
       "      <td>-0.810890</td>\n",
       "      <td>0.000000</td>\n",
       "      <td>0.000000</td>\n",
       "      <td>0.0</td>\n",
       "    </tr>\n",
       "    <tr>\n",
       "      <th>Antigua and Barbuda</th>\n",
       "      <td>0.000000</td>\n",
       "      <td>-0.889263</td>\n",
       "      <td>0.0</td>\n",
       "      <td>0.702760</td>\n",
       "      <td>0.000000</td>\n",
       "      <td>0.000000</td>\n",
       "      <td>0.000000</td>\n",
       "      <td>0.0</td>\n",
       "    </tr>\n",
       "    <tr>\n",
       "      <th>...</th>\n",
       "      <td>...</td>\n",
       "      <td>...</td>\n",
       "      <td>...</td>\n",
       "      <td>...</td>\n",
       "      <td>...</td>\n",
       "      <td>...</td>\n",
       "      <td>...</td>\n",
       "      <td>...</td>\n",
       "    </tr>\n",
       "    <tr>\n",
       "      <th>Uzbekistan</th>\n",
       "      <td>-0.833228</td>\n",
       "      <td>0.000000</td>\n",
       "      <td>0.0</td>\n",
       "      <td>0.000000</td>\n",
       "      <td>-0.843556</td>\n",
       "      <td>0.926815</td>\n",
       "      <td>0.912074</td>\n",
       "      <td>0.0</td>\n",
       "    </tr>\n",
       "    <tr>\n",
       "      <th>Vanuatu</th>\n",
       "      <td>0.000000</td>\n",
       "      <td>-0.507810</td>\n",
       "      <td>0.0</td>\n",
       "      <td>0.868536</td>\n",
       "      <td>0.000000</td>\n",
       "      <td>-0.790236</td>\n",
       "      <td>0.475654</td>\n",
       "      <td>0.0</td>\n",
       "    </tr>\n",
       "    <tr>\n",
       "      <th>Yemen</th>\n",
       "      <td>0.000000</td>\n",
       "      <td>0.000000</td>\n",
       "      <td>0.0</td>\n",
       "      <td>0.675176</td>\n",
       "      <td>0.000000</td>\n",
       "      <td>-0.784325</td>\n",
       "      <td>0.837351</td>\n",
       "      <td>0.0</td>\n",
       "    </tr>\n",
       "    <tr>\n",
       "      <th>Zambia</th>\n",
       "      <td>-0.845919</td>\n",
       "      <td>0.564409</td>\n",
       "      <td>0.0</td>\n",
       "      <td>0.924947</td>\n",
       "      <td>-0.838335</td>\n",
       "      <td>-0.621537</td>\n",
       "      <td>0.948675</td>\n",
       "      <td>0.0</td>\n",
       "    </tr>\n",
       "    <tr>\n",
       "      <th>Zimbabwe</th>\n",
       "      <td>-0.674981</td>\n",
       "      <td>0.000000</td>\n",
       "      <td>0.0</td>\n",
       "      <td>0.000000</td>\n",
       "      <td>-0.699115</td>\n",
       "      <td>0.000000</td>\n",
       "      <td>-0.957352</td>\n",
       "      <td>0.0</td>\n",
       "    </tr>\n",
       "  </tbody>\n",
       "</table>\n",
       "<p>167 rows × 8 columns</p>\n",
       "</div>"
      ],
      "text/plain": [
       "                     AgriShareGDP  CreditToAgriFishForest  EmploymentRural  \\\n",
       "Country                                                                      \n",
       "Afghanistan             -0.870233                0.000000              0.0   \n",
       "Albania                 -0.721376                0.000000              0.0   \n",
       "Algeria                  0.000000                0.000000              0.0   \n",
       "Angola                   0.000000                0.000000              0.0   \n",
       "Antigua and Barbuda      0.000000               -0.889263              0.0   \n",
       "...                           ...                     ...              ...   \n",
       "Uzbekistan              -0.833228                0.000000              0.0   \n",
       "Vanuatu                  0.000000               -0.507810              0.0   \n",
       "Yemen                    0.000000                0.000000              0.0   \n",
       "Zambia                  -0.845919                0.564409              0.0   \n",
       "Zimbabwe                -0.674981                0.000000              0.0   \n",
       "\n",
       "                     TotalAgri  % Soldiers  % Healthcare Investment  \\\n",
       "Country                                                               \n",
       "Afghanistan           0.000000    0.000000                 0.000000   \n",
       "Albania               0.955863   -0.809293                 0.000000   \n",
       "Algeria               0.911970   -0.804748                 0.656106   \n",
       "Angola                0.000000   -0.810890                 0.000000   \n",
       "Antigua and Barbuda   0.702760    0.000000                 0.000000   \n",
       "...                        ...         ...                      ...   \n",
       "Uzbekistan            0.000000   -0.843556                 0.926815   \n",
       "Vanuatu               0.868536    0.000000                -0.790236   \n",
       "Yemen                 0.675176    0.000000                -0.784325   \n",
       "Zambia                0.924947   -0.838335                -0.621537   \n",
       "Zimbabwe              0.000000   -0.699115                 0.000000   \n",
       "\n",
       "                     % Employment Industry  % Education Expenditure  \n",
       "Country                                                              \n",
       "Afghanistan                      -0.733667                      0.0  \n",
       "Albania                           0.786991                      0.0  \n",
       "Algeria                           0.906667                      0.0  \n",
       "Angola                            0.000000                      0.0  \n",
       "Antigua and Barbuda               0.000000                      0.0  \n",
       "...                                    ...                      ...  \n",
       "Uzbekistan                        0.912074                      0.0  \n",
       "Vanuatu                           0.475654                      0.0  \n",
       "Yemen                             0.837351                      0.0  \n",
       "Zambia                            0.948675                      0.0  \n",
       "Zimbabwe                         -0.957352                      0.0  \n",
       "\n",
       "[167 rows x 8 columns]"
      ]
     },
     "metadata": {},
     "output_type": "display_data"
    },
    {
     "name": "stdout",
     "output_type": "stream",
     "text": [
      "Social-demographic Indicators\n"
     ]
    },
    {
     "data": {
      "text/html": [
       "<div>\n",
       "<style scoped>\n",
       "    .dataframe tbody tr th:only-of-type {\n",
       "        vertical-align: middle;\n",
       "    }\n",
       "\n",
       "    .dataframe tbody tr th {\n",
       "        vertical-align: top;\n",
       "    }\n",
       "\n",
       "    .dataframe thead th {\n",
       "        text-align: right;\n",
       "    }\n",
       "</style>\n",
       "<table border=\"1\" class=\"dataframe\">\n",
       "  <thead>\n",
       "    <tr style=\"text-align: right;\">\n",
       "      <th></th>\n",
       "      <th>Birth Rate</th>\n",
       "      <th>Death Rate</th>\n",
       "      <th>Homicides</th>\n",
       "      <th>Life Expectancy</th>\n",
       "      <th>Maternal Death Risk</th>\n",
       "      <th>Infant Mortality</th>\n",
       "      <th>% Population Growth</th>\n",
       "      <th>% Rural Population</th>\n",
       "      <th>Population</th>\n",
       "    </tr>\n",
       "    <tr>\n",
       "      <th>Country</th>\n",
       "      <th></th>\n",
       "      <th></th>\n",
       "      <th></th>\n",
       "      <th></th>\n",
       "      <th></th>\n",
       "      <th></th>\n",
       "      <th></th>\n",
       "      <th></th>\n",
       "      <th></th>\n",
       "    </tr>\n",
       "  </thead>\n",
       "  <tbody>\n",
       "    <tr>\n",
       "      <th>Afghanistan</th>\n",
       "      <td>-0.953124</td>\n",
       "      <td>-0.968941</td>\n",
       "      <td>0.000000</td>\n",
       "      <td>0.961018</td>\n",
       "      <td>-0.953193</td>\n",
       "      <td>-0.960322</td>\n",
       "      <td>0.000000</td>\n",
       "      <td>-0.931713</td>\n",
       "      <td>0.929911</td>\n",
       "    </tr>\n",
       "    <tr>\n",
       "      <th>Albania</th>\n",
       "      <td>-0.923325</td>\n",
       "      <td>0.893681</td>\n",
       "      <td>-0.701728</td>\n",
       "      <td>0.903398</td>\n",
       "      <td>-0.862758</td>\n",
       "      <td>-0.945807</td>\n",
       "      <td>0.000000</td>\n",
       "      <td>-0.916568</td>\n",
       "      <td>-0.925309</td>\n",
       "    </tr>\n",
       "    <tr>\n",
       "      <th>Algeria</th>\n",
       "      <td>0.951733</td>\n",
       "      <td>0.000000</td>\n",
       "      <td>0.000000</td>\n",
       "      <td>0.863359</td>\n",
       "      <td>0.000000</td>\n",
       "      <td>-0.892046</td>\n",
       "      <td>0.905385</td>\n",
       "      <td>-0.813765</td>\n",
       "      <td>0.716609</td>\n",
       "    </tr>\n",
       "    <tr>\n",
       "      <th>Andorra</th>\n",
       "      <td>0.000000</td>\n",
       "      <td>0.000000</td>\n",
       "      <td>0.000000</td>\n",
       "      <td>0.000000</td>\n",
       "      <td>0.000000</td>\n",
       "      <td>0.000000</td>\n",
       "      <td>0.000000</td>\n",
       "      <td>0.000000</td>\n",
       "      <td>0.935892</td>\n",
       "    </tr>\n",
       "    <tr>\n",
       "      <th>Angola</th>\n",
       "      <td>-0.675961</td>\n",
       "      <td>-0.846921</td>\n",
       "      <td>0.000000</td>\n",
       "      <td>0.837416</td>\n",
       "      <td>-0.880651</td>\n",
       "      <td>-0.846460</td>\n",
       "      <td>0.000000</td>\n",
       "      <td>-0.797670</td>\n",
       "      <td>0.731495</td>\n",
       "    </tr>\n",
       "    <tr>\n",
       "      <th>...</th>\n",
       "      <td>...</td>\n",
       "      <td>...</td>\n",
       "      <td>...</td>\n",
       "      <td>...</td>\n",
       "      <td>...</td>\n",
       "      <td>...</td>\n",
       "      <td>...</td>\n",
       "      <td>...</td>\n",
       "      <td>...</td>\n",
       "    </tr>\n",
       "    <tr>\n",
       "      <th>Uzbekistan</th>\n",
       "      <td>0.620577</td>\n",
       "      <td>-0.731226</td>\n",
       "      <td>0.000000</td>\n",
       "      <td>0.871543</td>\n",
       "      <td>-0.825993</td>\n",
       "      <td>-0.892046</td>\n",
       "      <td>0.810501</td>\n",
       "      <td>-0.852934</td>\n",
       "      <td>0.839731</td>\n",
       "    </tr>\n",
       "    <tr>\n",
       "      <th>Vanuatu</th>\n",
       "      <td>-0.867276</td>\n",
       "      <td>-0.895642</td>\n",
       "      <td>0.000000</td>\n",
       "      <td>0.967898</td>\n",
       "      <td>-0.977386</td>\n",
       "      <td>0.000000</td>\n",
       "      <td>0.000000</td>\n",
       "      <td>-0.981182</td>\n",
       "      <td>0.946512</td>\n",
       "    </tr>\n",
       "    <tr>\n",
       "      <th>Yemen</th>\n",
       "      <td>0.000000</td>\n",
       "      <td>0.000000</td>\n",
       "      <td>0.000000</td>\n",
       "      <td>0.000000</td>\n",
       "      <td>0.000000</td>\n",
       "      <td>0.000000</td>\n",
       "      <td>0.000000</td>\n",
       "      <td>0.000000</td>\n",
       "      <td>0.595893</td>\n",
       "    </tr>\n",
       "    <tr>\n",
       "      <th>Zambia</th>\n",
       "      <td>-0.845968</td>\n",
       "      <td>-0.934914</td>\n",
       "      <td>0.000000</td>\n",
       "      <td>0.913537</td>\n",
       "      <td>-0.917608</td>\n",
       "      <td>-0.913824</td>\n",
       "      <td>0.906807</td>\n",
       "      <td>-0.857861</td>\n",
       "      <td>0.825379</td>\n",
       "    </tr>\n",
       "    <tr>\n",
       "      <th>Zimbabwe</th>\n",
       "      <td>0.000000</td>\n",
       "      <td>-0.984555</td>\n",
       "      <td>0.000000</td>\n",
       "      <td>0.982649</td>\n",
       "      <td>-0.804806</td>\n",
       "      <td>-0.950941</td>\n",
       "      <td>0.816112</td>\n",
       "      <td>0.938288</td>\n",
       "      <td>0.956048</td>\n",
       "    </tr>\n",
       "  </tbody>\n",
       "</table>\n",
       "<p>175 rows × 9 columns</p>\n",
       "</div>"
      ],
      "text/plain": [
       "             Birth Rate  Death Rate  Homicides  Life Expectancy  \\\n",
       "Country                                                           \n",
       "Afghanistan   -0.953124   -0.968941   0.000000         0.961018   \n",
       "Albania       -0.923325    0.893681  -0.701728         0.903398   \n",
       "Algeria        0.951733    0.000000   0.000000         0.863359   \n",
       "Andorra        0.000000    0.000000   0.000000         0.000000   \n",
       "Angola        -0.675961   -0.846921   0.000000         0.837416   \n",
       "...                 ...         ...        ...              ...   \n",
       "Uzbekistan     0.620577   -0.731226   0.000000         0.871543   \n",
       "Vanuatu       -0.867276   -0.895642   0.000000         0.967898   \n",
       "Yemen          0.000000    0.000000   0.000000         0.000000   \n",
       "Zambia        -0.845968   -0.934914   0.000000         0.913537   \n",
       "Zimbabwe       0.000000   -0.984555   0.000000         0.982649   \n",
       "\n",
       "             Maternal Death Risk  Infant Mortality  % Population Growth  \\\n",
       "Country                                                                   \n",
       "Afghanistan            -0.953193         -0.960322             0.000000   \n",
       "Albania                -0.862758         -0.945807             0.000000   \n",
       "Algeria                 0.000000         -0.892046             0.905385   \n",
       "Andorra                 0.000000          0.000000             0.000000   \n",
       "Angola                 -0.880651         -0.846460             0.000000   \n",
       "...                          ...               ...                  ...   \n",
       "Uzbekistan             -0.825993         -0.892046             0.810501   \n",
       "Vanuatu                -0.977386          0.000000             0.000000   \n",
       "Yemen                   0.000000          0.000000             0.000000   \n",
       "Zambia                 -0.917608         -0.913824             0.906807   \n",
       "Zimbabwe               -0.804806         -0.950941             0.816112   \n",
       "\n",
       "             % Rural Population  Population  \n",
       "Country                                      \n",
       "Afghanistan           -0.931713    0.929911  \n",
       "Albania               -0.916568   -0.925309  \n",
       "Algeria               -0.813765    0.716609  \n",
       "Andorra                0.000000    0.935892  \n",
       "Angola                -0.797670    0.731495  \n",
       "...                         ...         ...  \n",
       "Uzbekistan            -0.852934    0.839731  \n",
       "Vanuatu               -0.981182    0.946512  \n",
       "Yemen                  0.000000    0.595893  \n",
       "Zambia                -0.857861    0.825379  \n",
       "Zimbabwe               0.938288    0.956048  \n",
       "\n",
       "[175 rows x 9 columns]"
      ]
     },
     "metadata": {},
     "output_type": "display_data"
    },
    {
     "name": "stdout",
     "output_type": "stream",
     "text": [
      "Equality Indicators\n"
     ]
    },
    {
     "data": {
      "text/html": [
       "<div>\n",
       "<style scoped>\n",
       "    .dataframe tbody tr th:only-of-type {\n",
       "        vertical-align: middle;\n",
       "    }\n",
       "\n",
       "    .dataframe tbody tr th {\n",
       "        vertical-align: top;\n",
       "    }\n",
       "\n",
       "    .dataframe thead th {\n",
       "        text-align: right;\n",
       "    }\n",
       "</style>\n",
       "<table border=\"1\" class=\"dataframe\">\n",
       "  <thead>\n",
       "    <tr style=\"text-align: right;\">\n",
       "      <th></th>\n",
       "      <th>Civil Liberties</th>\n",
       "      <th>Freedom of Expression</th>\n",
       "      <th>% Men Employment</th>\n",
       "      <th>% Women Employment</th>\n",
       "    </tr>\n",
       "    <tr>\n",
       "      <th>Country</th>\n",
       "      <th></th>\n",
       "      <th></th>\n",
       "      <th></th>\n",
       "      <th></th>\n",
       "    </tr>\n",
       "  </thead>\n",
       "  <tbody>\n",
       "    <tr>\n",
       "      <th>Afghanistan</th>\n",
       "      <td>0.000000</td>\n",
       "      <td>0.680533</td>\n",
       "      <td>0.000000</td>\n",
       "      <td>0.000000</td>\n",
       "    </tr>\n",
       "    <tr>\n",
       "      <th>Albania</th>\n",
       "      <td>0.862694</td>\n",
       "      <td>0.000000</td>\n",
       "      <td>0.000000</td>\n",
       "      <td>0.000000</td>\n",
       "    </tr>\n",
       "    <tr>\n",
       "      <th>Algeria</th>\n",
       "      <td>0.808796</td>\n",
       "      <td>0.000000</td>\n",
       "      <td>0.000000</td>\n",
       "      <td>0.000000</td>\n",
       "    </tr>\n",
       "    <tr>\n",
       "      <th>Angola</th>\n",
       "      <td>0.610423</td>\n",
       "      <td>0.528551</td>\n",
       "      <td>0.000000</td>\n",
       "      <td>0.000000</td>\n",
       "    </tr>\n",
       "    <tr>\n",
       "      <th>Argentina</th>\n",
       "      <td>0.000000</td>\n",
       "      <td>-0.597334</td>\n",
       "      <td>0.000000</td>\n",
       "      <td>0.000000</td>\n",
       "    </tr>\n",
       "    <tr>\n",
       "      <th>...</th>\n",
       "      <td>...</td>\n",
       "      <td>...</td>\n",
       "      <td>...</td>\n",
       "      <td>...</td>\n",
       "    </tr>\n",
       "    <tr>\n",
       "      <th>United Kingdom</th>\n",
       "      <td>-0.588531</td>\n",
       "      <td>0.000000</td>\n",
       "      <td>0.000000</td>\n",
       "      <td>0.626019</td>\n",
       "    </tr>\n",
       "    <tr>\n",
       "      <th>United States</th>\n",
       "      <td>-0.654842</td>\n",
       "      <td>0.000000</td>\n",
       "      <td>-0.703313</td>\n",
       "      <td>-0.744901</td>\n",
       "    </tr>\n",
       "    <tr>\n",
       "      <th>Vanuatu</th>\n",
       "      <td>0.820181</td>\n",
       "      <td>0.000000</td>\n",
       "      <td>0.000000</td>\n",
       "      <td>0.000000</td>\n",
       "    </tr>\n",
       "    <tr>\n",
       "      <th>Zambia</th>\n",
       "      <td>-0.572971</td>\n",
       "      <td>-0.555529</td>\n",
       "      <td>0.000000</td>\n",
       "      <td>0.000000</td>\n",
       "    </tr>\n",
       "    <tr>\n",
       "      <th>Zimbabwe</th>\n",
       "      <td>0.588724</td>\n",
       "      <td>0.861675</td>\n",
       "      <td>0.000000</td>\n",
       "      <td>0.000000</td>\n",
       "    </tr>\n",
       "  </tbody>\n",
       "</table>\n",
       "<p>122 rows × 4 columns</p>\n",
       "</div>"
      ],
      "text/plain": [
       "                Civil Liberties  Freedom of Expression  % Men Employment  \\\n",
       "Country                                                                    \n",
       "Afghanistan            0.000000               0.680533          0.000000   \n",
       "Albania                0.862694               0.000000          0.000000   \n",
       "Algeria                0.808796               0.000000          0.000000   \n",
       "Angola                 0.610423               0.528551          0.000000   \n",
       "Argentina              0.000000              -0.597334          0.000000   \n",
       "...                         ...                    ...               ...   \n",
       "United Kingdom        -0.588531               0.000000          0.000000   \n",
       "United States         -0.654842               0.000000         -0.703313   \n",
       "Vanuatu                0.820181               0.000000          0.000000   \n",
       "Zambia                -0.572971              -0.555529          0.000000   \n",
       "Zimbabwe               0.588724               0.861675          0.000000   \n",
       "\n",
       "                % Women Employment  \n",
       "Country                             \n",
       "Afghanistan               0.000000  \n",
       "Albania                   0.000000  \n",
       "Algeria                   0.000000  \n",
       "Angola                    0.000000  \n",
       "Argentina                 0.000000  \n",
       "...                            ...  \n",
       "United Kingdom            0.626019  \n",
       "United States            -0.744901  \n",
       "Vanuatu                   0.000000  \n",
       "Zambia                    0.000000  \n",
       "Zimbabwe                  0.000000  \n",
       "\n",
       "[122 rows x 4 columns]"
      ]
     },
     "metadata": {},
     "output_type": "display_data"
    },
    {
     "name": "stdout",
     "output_type": "stream",
     "text": [
      "All indicators\n"
     ]
    },
    {
     "data": {
      "text/html": [
       "<div>\n",
       "<style scoped>\n",
       "    .dataframe tbody tr th:only-of-type {\n",
       "        vertical-align: middle;\n",
       "    }\n",
       "\n",
       "    .dataframe tbody tr th {\n",
       "        vertical-align: top;\n",
       "    }\n",
       "\n",
       "    .dataframe thead th {\n",
       "        text-align: right;\n",
       "    }\n",
       "</style>\n",
       "<table border=\"1\" class=\"dataframe\">\n",
       "  <thead>\n",
       "    <tr style=\"text-align: right;\">\n",
       "      <th></th>\n",
       "      <th>AgriShareGDP</th>\n",
       "      <th>CreditToAgriFishForest</th>\n",
       "      <th>EmploymentRural</th>\n",
       "      <th>TotalAgri</th>\n",
       "      <th>% Soldiers</th>\n",
       "      <th>Birth Rate</th>\n",
       "      <th>Death Rate</th>\n",
       "      <th>Homicides</th>\n",
       "      <th>Life Expectancy</th>\n",
       "      <th>Maternal Death Risk</th>\n",
       "      <th>...</th>\n",
       "      <th>% Population Growth</th>\n",
       "      <th>% Rural Population</th>\n",
       "      <th>Civil Liberties</th>\n",
       "      <th>Freedom of Expression</th>\n",
       "      <th>% Healthcare Investment</th>\n",
       "      <th>% Employment Industry</th>\n",
       "      <th>% Education Expenditure</th>\n",
       "      <th>% Men Employment</th>\n",
       "      <th>% Women Employment</th>\n",
       "      <th>Population</th>\n",
       "    </tr>\n",
       "    <tr>\n",
       "      <th>Country</th>\n",
       "      <th></th>\n",
       "      <th></th>\n",
       "      <th></th>\n",
       "      <th></th>\n",
       "      <th></th>\n",
       "      <th></th>\n",
       "      <th></th>\n",
       "      <th></th>\n",
       "      <th></th>\n",
       "      <th></th>\n",
       "      <th></th>\n",
       "      <th></th>\n",
       "      <th></th>\n",
       "      <th></th>\n",
       "      <th></th>\n",
       "      <th></th>\n",
       "      <th></th>\n",
       "      <th></th>\n",
       "      <th></th>\n",
       "      <th></th>\n",
       "      <th></th>\n",
       "    </tr>\n",
       "  </thead>\n",
       "  <tbody>\n",
       "    <tr>\n",
       "      <th>Afghanistan</th>\n",
       "      <td>-0.870233</td>\n",
       "      <td>0.000000</td>\n",
       "      <td>0.0</td>\n",
       "      <td>0.000000</td>\n",
       "      <td>0.000000</td>\n",
       "      <td>-0.953124</td>\n",
       "      <td>-0.968941</td>\n",
       "      <td>0.000000</td>\n",
       "      <td>0.961018</td>\n",
       "      <td>-0.953193</td>\n",
       "      <td>...</td>\n",
       "      <td>0.000000</td>\n",
       "      <td>-0.931713</td>\n",
       "      <td>0.000000</td>\n",
       "      <td>0.680533</td>\n",
       "      <td>0.000000</td>\n",
       "      <td>-0.733667</td>\n",
       "      <td>0.0</td>\n",
       "      <td>0.0</td>\n",
       "      <td>0.0</td>\n",
       "      <td>0.929911</td>\n",
       "    </tr>\n",
       "    <tr>\n",
       "      <th>Albania</th>\n",
       "      <td>-0.721376</td>\n",
       "      <td>0.000000</td>\n",
       "      <td>0.0</td>\n",
       "      <td>0.955863</td>\n",
       "      <td>-0.809293</td>\n",
       "      <td>-0.923325</td>\n",
       "      <td>0.893681</td>\n",
       "      <td>-0.701728</td>\n",
       "      <td>0.903398</td>\n",
       "      <td>-0.862758</td>\n",
       "      <td>...</td>\n",
       "      <td>0.000000</td>\n",
       "      <td>-0.916568</td>\n",
       "      <td>0.862694</td>\n",
       "      <td>0.000000</td>\n",
       "      <td>0.000000</td>\n",
       "      <td>0.786991</td>\n",
       "      <td>0.0</td>\n",
       "      <td>0.0</td>\n",
       "      <td>0.0</td>\n",
       "      <td>-0.925309</td>\n",
       "    </tr>\n",
       "    <tr>\n",
       "      <th>Algeria</th>\n",
       "      <td>0.000000</td>\n",
       "      <td>0.000000</td>\n",
       "      <td>0.0</td>\n",
       "      <td>0.911970</td>\n",
       "      <td>-0.804748</td>\n",
       "      <td>0.951733</td>\n",
       "      <td>0.000000</td>\n",
       "      <td>0.000000</td>\n",
       "      <td>0.863359</td>\n",
       "      <td>0.000000</td>\n",
       "      <td>...</td>\n",
       "      <td>0.905385</td>\n",
       "      <td>-0.813765</td>\n",
       "      <td>0.808796</td>\n",
       "      <td>0.000000</td>\n",
       "      <td>0.656106</td>\n",
       "      <td>0.906667</td>\n",
       "      <td>0.0</td>\n",
       "      <td>0.0</td>\n",
       "      <td>0.0</td>\n",
       "      <td>0.716609</td>\n",
       "    </tr>\n",
       "    <tr>\n",
       "      <th>Andorra</th>\n",
       "      <td>0.000000</td>\n",
       "      <td>0.000000</td>\n",
       "      <td>0.0</td>\n",
       "      <td>0.000000</td>\n",
       "      <td>0.000000</td>\n",
       "      <td>0.000000</td>\n",
       "      <td>0.000000</td>\n",
       "      <td>0.000000</td>\n",
       "      <td>0.000000</td>\n",
       "      <td>0.000000</td>\n",
       "      <td>...</td>\n",
       "      <td>0.000000</td>\n",
       "      <td>0.000000</td>\n",
       "      <td>0.000000</td>\n",
       "      <td>0.000000</td>\n",
       "      <td>0.000000</td>\n",
       "      <td>0.000000</td>\n",
       "      <td>0.0</td>\n",
       "      <td>0.0</td>\n",
       "      <td>0.0</td>\n",
       "      <td>0.935892</td>\n",
       "    </tr>\n",
       "    <tr>\n",
       "      <th>Angola</th>\n",
       "      <td>0.000000</td>\n",
       "      <td>0.000000</td>\n",
       "      <td>0.0</td>\n",
       "      <td>0.000000</td>\n",
       "      <td>-0.810890</td>\n",
       "      <td>-0.675961</td>\n",
       "      <td>-0.846921</td>\n",
       "      <td>0.000000</td>\n",
       "      <td>0.837416</td>\n",
       "      <td>-0.880651</td>\n",
       "      <td>...</td>\n",
       "      <td>0.000000</td>\n",
       "      <td>-0.797670</td>\n",
       "      <td>0.610423</td>\n",
       "      <td>0.528551</td>\n",
       "      <td>0.000000</td>\n",
       "      <td>0.000000</td>\n",
       "      <td>0.0</td>\n",
       "      <td>0.0</td>\n",
       "      <td>0.0</td>\n",
       "      <td>0.731495</td>\n",
       "    </tr>\n",
       "    <tr>\n",
       "      <th>...</th>\n",
       "      <td>...</td>\n",
       "      <td>...</td>\n",
       "      <td>...</td>\n",
       "      <td>...</td>\n",
       "      <td>...</td>\n",
       "      <td>...</td>\n",
       "      <td>...</td>\n",
       "      <td>...</td>\n",
       "      <td>...</td>\n",
       "      <td>...</td>\n",
       "      <td>...</td>\n",
       "      <td>...</td>\n",
       "      <td>...</td>\n",
       "      <td>...</td>\n",
       "      <td>...</td>\n",
       "      <td>...</td>\n",
       "      <td>...</td>\n",
       "      <td>...</td>\n",
       "      <td>...</td>\n",
       "      <td>...</td>\n",
       "      <td>...</td>\n",
       "    </tr>\n",
       "    <tr>\n",
       "      <th>Uzbekistan</th>\n",
       "      <td>-0.833228</td>\n",
       "      <td>0.000000</td>\n",
       "      <td>0.0</td>\n",
       "      <td>0.000000</td>\n",
       "      <td>-0.843556</td>\n",
       "      <td>0.620577</td>\n",
       "      <td>-0.731226</td>\n",
       "      <td>0.000000</td>\n",
       "      <td>0.871543</td>\n",
       "      <td>-0.825993</td>\n",
       "      <td>...</td>\n",
       "      <td>0.810501</td>\n",
       "      <td>-0.852934</td>\n",
       "      <td>0.000000</td>\n",
       "      <td>0.000000</td>\n",
       "      <td>0.926815</td>\n",
       "      <td>0.912074</td>\n",
       "      <td>0.0</td>\n",
       "      <td>0.0</td>\n",
       "      <td>0.0</td>\n",
       "      <td>0.839731</td>\n",
       "    </tr>\n",
       "    <tr>\n",
       "      <th>Vanuatu</th>\n",
       "      <td>0.000000</td>\n",
       "      <td>-0.507810</td>\n",
       "      <td>0.0</td>\n",
       "      <td>0.868536</td>\n",
       "      <td>0.000000</td>\n",
       "      <td>-0.867276</td>\n",
       "      <td>-0.895642</td>\n",
       "      <td>0.000000</td>\n",
       "      <td>0.967898</td>\n",
       "      <td>-0.977386</td>\n",
       "      <td>...</td>\n",
       "      <td>0.000000</td>\n",
       "      <td>-0.981182</td>\n",
       "      <td>0.820181</td>\n",
       "      <td>0.000000</td>\n",
       "      <td>-0.790236</td>\n",
       "      <td>0.475654</td>\n",
       "      <td>0.0</td>\n",
       "      <td>0.0</td>\n",
       "      <td>0.0</td>\n",
       "      <td>0.946512</td>\n",
       "    </tr>\n",
       "    <tr>\n",
       "      <th>Yemen</th>\n",
       "      <td>0.000000</td>\n",
       "      <td>0.000000</td>\n",
       "      <td>0.0</td>\n",
       "      <td>0.675176</td>\n",
       "      <td>0.000000</td>\n",
       "      <td>0.000000</td>\n",
       "      <td>0.000000</td>\n",
       "      <td>0.000000</td>\n",
       "      <td>0.000000</td>\n",
       "      <td>0.000000</td>\n",
       "      <td>...</td>\n",
       "      <td>0.000000</td>\n",
       "      <td>0.000000</td>\n",
       "      <td>0.000000</td>\n",
       "      <td>0.000000</td>\n",
       "      <td>-0.784325</td>\n",
       "      <td>0.837351</td>\n",
       "      <td>0.0</td>\n",
       "      <td>0.0</td>\n",
       "      <td>0.0</td>\n",
       "      <td>0.595893</td>\n",
       "    </tr>\n",
       "    <tr>\n",
       "      <th>Zambia</th>\n",
       "      <td>-0.845919</td>\n",
       "      <td>0.564409</td>\n",
       "      <td>0.0</td>\n",
       "      <td>0.924947</td>\n",
       "      <td>-0.838335</td>\n",
       "      <td>-0.845968</td>\n",
       "      <td>-0.934914</td>\n",
       "      <td>0.000000</td>\n",
       "      <td>0.913537</td>\n",
       "      <td>-0.917608</td>\n",
       "      <td>...</td>\n",
       "      <td>0.906807</td>\n",
       "      <td>-0.857861</td>\n",
       "      <td>-0.572971</td>\n",
       "      <td>-0.555529</td>\n",
       "      <td>-0.621537</td>\n",
       "      <td>0.948675</td>\n",
       "      <td>0.0</td>\n",
       "      <td>0.0</td>\n",
       "      <td>0.0</td>\n",
       "      <td>0.825379</td>\n",
       "    </tr>\n",
       "    <tr>\n",
       "      <th>Zimbabwe</th>\n",
       "      <td>-0.674981</td>\n",
       "      <td>0.000000</td>\n",
       "      <td>0.0</td>\n",
       "      <td>0.000000</td>\n",
       "      <td>-0.699115</td>\n",
       "      <td>0.000000</td>\n",
       "      <td>-0.984555</td>\n",
       "      <td>0.000000</td>\n",
       "      <td>0.982649</td>\n",
       "      <td>-0.804806</td>\n",
       "      <td>...</td>\n",
       "      <td>0.816112</td>\n",
       "      <td>0.938288</td>\n",
       "      <td>0.588724</td>\n",
       "      <td>0.861675</td>\n",
       "      <td>0.000000</td>\n",
       "      <td>-0.957352</td>\n",
       "      <td>0.0</td>\n",
       "      <td>0.0</td>\n",
       "      <td>0.0</td>\n",
       "      <td>0.956048</td>\n",
       "    </tr>\n",
       "  </tbody>\n",
       "</table>\n",
       "<p>175 rows × 21 columns</p>\n",
       "</div>"
      ],
      "text/plain": [
       "             AgriShareGDP  CreditToAgriFishForest  EmploymentRural  TotalAgri  \\\n",
       "Country                                                                         \n",
       "Afghanistan     -0.870233                0.000000              0.0   0.000000   \n",
       "Albania         -0.721376                0.000000              0.0   0.955863   \n",
       "Algeria          0.000000                0.000000              0.0   0.911970   \n",
       "Andorra          0.000000                0.000000              0.0   0.000000   \n",
       "Angola           0.000000                0.000000              0.0   0.000000   \n",
       "...                   ...                     ...              ...        ...   \n",
       "Uzbekistan      -0.833228                0.000000              0.0   0.000000   \n",
       "Vanuatu          0.000000               -0.507810              0.0   0.868536   \n",
       "Yemen            0.000000                0.000000              0.0   0.675176   \n",
       "Zambia          -0.845919                0.564409              0.0   0.924947   \n",
       "Zimbabwe        -0.674981                0.000000              0.0   0.000000   \n",
       "\n",
       "             % Soldiers  Birth Rate  Death Rate  Homicides  Life Expectancy  \\\n",
       "Country                                                                       \n",
       "Afghanistan    0.000000   -0.953124   -0.968941   0.000000         0.961018   \n",
       "Albania       -0.809293   -0.923325    0.893681  -0.701728         0.903398   \n",
       "Algeria       -0.804748    0.951733    0.000000   0.000000         0.863359   \n",
       "Andorra        0.000000    0.000000    0.000000   0.000000         0.000000   \n",
       "Angola        -0.810890   -0.675961   -0.846921   0.000000         0.837416   \n",
       "...                 ...         ...         ...        ...              ...   \n",
       "Uzbekistan    -0.843556    0.620577   -0.731226   0.000000         0.871543   \n",
       "Vanuatu        0.000000   -0.867276   -0.895642   0.000000         0.967898   \n",
       "Yemen          0.000000    0.000000    0.000000   0.000000         0.000000   \n",
       "Zambia        -0.838335   -0.845968   -0.934914   0.000000         0.913537   \n",
       "Zimbabwe      -0.699115    0.000000   -0.984555   0.000000         0.982649   \n",
       "\n",
       "             Maternal Death Risk  ...  % Population Growth  \\\n",
       "Country                           ...                        \n",
       "Afghanistan            -0.953193  ...             0.000000   \n",
       "Albania                -0.862758  ...             0.000000   \n",
       "Algeria                 0.000000  ...             0.905385   \n",
       "Andorra                 0.000000  ...             0.000000   \n",
       "Angola                 -0.880651  ...             0.000000   \n",
       "...                          ...  ...                  ...   \n",
       "Uzbekistan             -0.825993  ...             0.810501   \n",
       "Vanuatu                -0.977386  ...             0.000000   \n",
       "Yemen                   0.000000  ...             0.000000   \n",
       "Zambia                 -0.917608  ...             0.906807   \n",
       "Zimbabwe               -0.804806  ...             0.816112   \n",
       "\n",
       "             % Rural Population  Civil Liberties  Freedom of Expression  \\\n",
       "Country                                                                   \n",
       "Afghanistan           -0.931713         0.000000               0.680533   \n",
       "Albania               -0.916568         0.862694               0.000000   \n",
       "Algeria               -0.813765         0.808796               0.000000   \n",
       "Andorra                0.000000         0.000000               0.000000   \n",
       "Angola                -0.797670         0.610423               0.528551   \n",
       "...                         ...              ...                    ...   \n",
       "Uzbekistan            -0.852934         0.000000               0.000000   \n",
       "Vanuatu               -0.981182         0.820181               0.000000   \n",
       "Yemen                  0.000000         0.000000               0.000000   \n",
       "Zambia                -0.857861        -0.572971              -0.555529   \n",
       "Zimbabwe               0.938288         0.588724               0.861675   \n",
       "\n",
       "             % Healthcare Investment  % Employment Industry  \\\n",
       "Country                                                       \n",
       "Afghanistan                 0.000000              -0.733667   \n",
       "Albania                     0.000000               0.786991   \n",
       "Algeria                     0.656106               0.906667   \n",
       "Andorra                     0.000000               0.000000   \n",
       "Angola                      0.000000               0.000000   \n",
       "...                              ...                    ...   \n",
       "Uzbekistan                  0.926815               0.912074   \n",
       "Vanuatu                    -0.790236               0.475654   \n",
       "Yemen                      -0.784325               0.837351   \n",
       "Zambia                     -0.621537               0.948675   \n",
       "Zimbabwe                    0.000000              -0.957352   \n",
       "\n",
       "             % Education Expenditure  % Men Employment  % Women Employment  \\\n",
       "Country                                                                      \n",
       "Afghanistan                      0.0               0.0                 0.0   \n",
       "Albania                          0.0               0.0                 0.0   \n",
       "Algeria                          0.0               0.0                 0.0   \n",
       "Andorra                          0.0               0.0                 0.0   \n",
       "Angola                           0.0               0.0                 0.0   \n",
       "...                              ...               ...                 ...   \n",
       "Uzbekistan                       0.0               0.0                 0.0   \n",
       "Vanuatu                          0.0               0.0                 0.0   \n",
       "Yemen                            0.0               0.0                 0.0   \n",
       "Zambia                           0.0               0.0                 0.0   \n",
       "Zimbabwe                         0.0               0.0                 0.0   \n",
       "\n",
       "             Population  \n",
       "Country                  \n",
       "Afghanistan    0.929911  \n",
       "Albania       -0.925309  \n",
       "Algeria        0.716609  \n",
       "Andorra        0.935892  \n",
       "Angola         0.731495  \n",
       "...                 ...  \n",
       "Uzbekistan     0.839731  \n",
       "Vanuatu        0.946512  \n",
       "Yemen          0.595893  \n",
       "Zambia         0.825379  \n",
       "Zimbabwe       0.956048  \n",
       "\n",
       "[175 rows x 21 columns]"
      ]
     },
     "metadata": {},
     "output_type": "display_data"
    }
   ],
   "source": [
    "econ_ind = 'Economic Indicators'\n",
    "socdem_ind = 'Social-demographic Indicators'\n",
    "eq_ind = 'Equality Indicators'\n",
    "all_ind = 'All indicators'\n",
    "\n",
    "ind_dict = {\n",
    "    econ_ind: ['CreditToAgriFishForest', 'AgriShareGDP', 'EmploymentRural', '%EmploymentAgriFishForest', 'TotalAgri', '% Soldiers', '% Healthcare Investment', '% Employment Industry', '% Education Expenditure'],\n",
    "    socdem_ind: ['Marriage Rate', 'Birth Rate', 'Death Rate', 'Homicides', 'Life Expectancy', 'Maternal Death Risk', 'Literacy Rate', 'Infant Mortality', '% Population Growth', '% Rural Population', 'Suicide Rate', 'Population'],\n",
    "    eq_ind: ['Gender Equality', 'Gender Inequality','% Men Employment', '% Women Employment', 'Women Schooling Years', 'Men Schooling Years', 'Freedom of Expression', '% Undernourishment', 'Civil Liberties', 'Gini'],\n",
    "    all_ind: corr_df.columns.tolist()\n",
    "}\n",
    "\n",
    "# Keep only the ones that have been carried on to this point.\n",
    "\n",
    "indicators = set(corr_df.columns)\n",
    "for ind in ind_dict:\n",
    "    ind_dict[ind] = list(set(ind_dict[ind]) & indicators)\n",
    "\n",
    "# Divide the corr_df into slices for each group of indicators, normalize them and store them into a dict.\n",
    "df_dict = {}\n",
    "for ind in ind_dict:\n",
    "    df_norm = corr_df.copy()\n",
    "    df_norm.drop(df_norm.columns.difference(ind_dict[ind]), axis = 'columns', inplace=True)\n",
    "    df_norm = df_norm.dropna(how = 'all').fillna(value = 0)\n",
    "    df_norm.name = ind\n",
    "    df_dict[ind] = df_norm\n",
    "\n",
    "for ind in ind_dict:\n",
    "    print(df_dict[ind].name)\n",
    "    display(df_dict[ind])"
   ]
  },
  {
   "cell_type": "markdown",
   "metadata": {},
   "source": [
    "## t-SNE\n",
    "\n",
    "The algorithm of t-SNE (t-Distributed Stochastic Neighbor Embedding) is used to reduce the dimensionality of all the indicators to only 2 components. It admits a number of parameters to tune the procedure and obtain an optimal output: \n",
    "- N-components: the dimensions to analyze.\n",
    "- Perplexity: measurement of how well a probability distribution or probability model predicts a sample.\n",
    "- N-iter: iterations for the optimization\n",
    "- Learning rate: how fast the algorithm learns. A high value may cause a ball form of the data.\n",
    "- Init: Initialization of embedding. 'pca' is the new default for newer versions.\n",
    "\n",
    "In this cell, we define the different values that will be used for each group of indicators."
   ]
  },
  {
   "cell_type": "code",
   "execution_count": 4,
   "metadata": {},
   "outputs": [],
   "source": [
    "# The TSNE algorithm admits a number of parameters\n",
    "tsne_dict = {\n",
    "    econ_ind: TSNE(n_components = 2, perplexity = 5, n_iter = 20000, learning_rate = 100.0, init = 'pca'),\n",
    "    socdem_ind: TSNE(n_components = 2, perplexity = 5, n_iter = 20000, learning_rate = 100.0, init = 'pca'),\n",
    "    eq_ind: TSNE(n_components = 2, perplexity = 5, n_iter = 20000, learning_rate = 100.0, init = 'pca'),\n",
    "    all_ind: TSNE(n_components = 2, perplexity = 5, n_iter = 20000, learning_rate = 100.0, init = 'pca')\n",
    "}"
   ]
  },
  {
   "cell_type": "markdown",
   "metadata": {},
   "source": [
    "## CLUSTERING\n",
    "\n",
    "### Affinity Propagation\n",
    "\n",
    "The clustering method used in the notebook is Affinity Propagation. The reason behind choosing this one is because it is suited for our data: many clusters with uneven cluster size; also, it can simply be optmized changing 1 parameter, \"damping\". \n",
    "- Damping: is the extent to which the current value is maintained relative to incoming values (weighted 1 - damping).\n",
    "\n",
    "Again, in this cell we will calibrate the clustering algorithm for each indicator group."
   ]
  },
  {
   "cell_type": "code",
   "execution_count": 5,
   "metadata": {},
   "outputs": [],
   "source": [
    "afprop_dict = {\n",
    "    econ_ind: AffinityPropagation(damping=0.5),\n",
    "    socdem_ind: AffinityPropagation(damping=0.5),\n",
    "    eq_ind: AffinityPropagation(damping=0.5),\n",
    "    all_ind: AffinityPropagation(damping=0.5)\n",
    "}"
   ]
  },
  {
   "cell_type": "code",
   "execution_count": 6,
   "metadata": {},
   "outputs": [
    {
     "data": {
      "application/vnd.plotly.v1+json": {
       "config": {
        "plotlyServerURL": "https://plot.ly"
       },
       "data": [
        {
         "hovertemplate": "Cluster=0<br>1st_component=%{x}<br>2nd_component=%{y}<br>Country=%{text}<extra></extra>",
         "legendgroup": "0",
         "marker": {
          "color": "#636efa",
          "symbol": "circle"
         },
         "mode": "markers+text",
         "name": "0",
         "orientation": "v",
         "showlegend": true,
         "text": [
          "Albania",
          "Argentina",
          "Azerbaijan",
          "Bangladesh",
          "Brazil",
          "Cambodia",
          "Egypt",
          "Equatorial Guinea",
          "Eritrea",
          "Guinea-Bissau",
          "Kazakhstan",
          "Madagascar",
          "Mongolia",
          "Niger",
          "Qatar",
          "Rwanda",
          "Saudi Arabia",
          "Senegal",
          "Zambia"
         ],
         "textposition": "top center",
         "type": "scatter",
         "x": [
          1.795779824256897,
          1.8227910995483398,
          1.69900643825531,
          1.6705750226974487,
          1.9899685382843018,
          1.8640700578689575,
          1.7659229040145874,
          1.7928413152694702,
          1.6095222234725952,
          1.781914472579956,
          1.8636205196380615,
          1.9545940160751343,
          1.7325851917266846,
          1.687516212463379,
          1.7139122486114502,
          1.7927966117858887,
          1.8543757200241089,
          1.765602707862854,
          1.8430283069610596
         ],
         "xaxis": "x",
         "y": [
          -0.1498706340789795,
          -0.3021276891231537,
          -0.5232007503509521,
          -0.661634087562561,
          0.14358991384506226,
          -0.444255530834198,
          -0.6577032804489136,
          0.02290206588804722,
          -0.18101590871810913,
          -0.7589122653007507,
          -0.04212009534239769,
          0.10505293309688568,
          -0.6105698347091675,
          -0.1899680346250534,
          -0.12003091722726822,
          -0.05140992999076843,
          -0.10905160009860992,
          -0.8531439304351807,
          -0.49964356422424316
         ],
         "yaxis": "y"
        },
        {
         "hovertemplate": "Cluster=1<br>1st_component=%{x}<br>2nd_component=%{y}<br>Country=%{text}<extra></extra>",
         "legendgroup": "1",
         "marker": {
          "color": "#EF553B",
          "symbol": "circle"
         },
         "mode": "markers+text",
         "name": "1",
         "orientation": "v",
         "showlegend": true,
         "text": [
          "Angola",
          "Bahrain",
          "Djibouti",
          "Gabon",
          "Guinea",
          "Kuwait",
          "Liberia",
          "Mauritania",
          "Oman",
          "Uzbekistan"
         ],
         "textposition": "top center",
         "type": "scatter",
         "x": [
          0.8750683665275574,
          0.9188804030418396,
          0.9857078194618225,
          1.0224517583847046,
          0.9828945994377136,
          0.9069005250930786,
          0.8266714215278625,
          1.0737109184265137,
          0.8725956678390503,
          1.033892273902893
         ],
         "xaxis": "x",
         "y": [
          -0.6032825112342834,
          -0.8758689761161804,
          -0.9707313776016235,
          -1.0454312562942505,
          -0.45722565054893494,
          -0.4917418658733368,
          -0.4133634567260742,
          -1.0933583974838257,
          -0.43103328347206116,
          -1.132782220840454
         ],
         "yaxis": "y"
        },
        {
         "hovertemplate": "Cluster=10<br>1st_component=%{x}<br>2nd_component=%{y}<br>Country=%{text}<extra></extra>",
         "legendgroup": "10",
         "marker": {
          "color": "#00cc96",
          "symbol": "circle"
         },
         "mode": "markers+text",
         "name": "10",
         "orientation": "v",
         "showlegend": true,
         "text": [
          "Afghanistan",
          "Botswana",
          "Comoros",
          "Cuba",
          "Guatemala",
          "Jamaica",
          "Malta",
          "Mauritius",
          "Montenegro",
          "Samoa",
          "Sao Tome and Principe",
          "Serbia",
          "United Arab Emirates",
          "Zimbabwe"
         ],
         "textposition": "top center",
         "type": "scatter",
         "x": [
          -0.4797356426715851,
          -0.9773125052452087,
          -0.232511505484581,
          -0.9056937098503113,
          -0.8609112501144409,
          -0.2697315216064453,
          -0.8486203551292419,
          -0.4910479485988617,
          -0.4649016857147217,
          -0.5190672278404236,
          -0.40176838636398315,
          -0.7358038425445557,
          -0.736294686794281,
          -0.6843005418777466
         ],
         "xaxis": "x",
         "y": [
          -1.4485832452774048,
          -1.5480107069015503,
          -1.1982662677764893,
          -1.4987908601760864,
          -1.5336378812789917,
          -1.2373600006103516,
          -1.4650555849075317,
          -1.6598204374313354,
          -1.4990085363388062,
          -1.5752997398376465,
          -1.4413573741912842,
          -1.2993261814117432,
          -1.368770718574524,
          -1.3353638648986816
         ],
         "yaxis": "y"
        },
        {
         "hovertemplate": "Cluster=2<br>1st_component=%{x}<br>2nd_component=%{y}<br>Country=%{text}<extra></extra>",
         "legendgroup": "2",
         "marker": {
          "color": "#ab63fa",
          "symbol": "circle"
         },
         "mode": "markers+text",
         "name": "2",
         "orientation": "v",
         "showlegend": true,
         "text": [
          "Algeria",
          "Bosnia and Herzegovina",
          "China",
          "Indonesia",
          "Kenya",
          "Lebanon",
          "Morocco",
          "Paraguay",
          "Togo"
         ],
         "textposition": "top center",
         "type": "scatter",
         "x": [
          1.1807585954666138,
          1.409156084060669,
          1.223411202430725,
          1.0991692543029785,
          1.1865283250808716,
          1.336756944656372,
          1.2426389455795288,
          1.1574463844299316,
          1.416595458984375
         ],
         "xaxis": "x",
         "y": [
          0.20034247636795044,
          0.309352308511734,
          0.24890971183776855,
          0.2890126705169678,
          0.07891683280467987,
          0.2508220672607422,
          0.1837502270936966,
          0.33842945098876953,
          0.24782554805278778
         ],
         "yaxis": "y"
        },
        {
         "hovertemplate": "Cluster=3<br>1st_component=%{x}<br>2nd_component=%{y}<br>Country=%{text}<extra></extra>",
         "legendgroup": "3",
         "marker": {
          "color": "#FFA15A",
          "symbol": "circle"
         },
         "mode": "markers+text",
         "name": "3",
         "orientation": "v",
         "showlegend": true,
         "text": [
          "Barbados",
          "Bermuda",
          "Central African Republic",
          "Eswatini",
          "French Polynesia",
          "Georgia",
          "Lesotho",
          "Myanmar",
          "Nauru",
          "Nigeria",
          "Palau",
          "Papua New Guinea",
          "Seychelles",
          "Trinidad and Tobago",
          "Turkmenistan"
         ],
         "textposition": "top center",
         "type": "scatter",
         "x": [
          0.17046254873275757,
          0.16523508727550507,
          0.14764438569545746,
          0.16646607220172882,
          0.22447246313095093,
          0.5324539542198181,
          0.4929439127445221,
          0.5411194562911987,
          0.18535497784614563,
          0.42315569519996643,
          0.1232544407248497,
          0.4454675018787384,
          0.1384742707014084,
          0.22568832337856293,
          0.23013068735599518
         ],
         "xaxis": "x",
         "y": [
          -1.409143090248108,
          -1.673324704170227,
          -1.272480845451355,
          -1.7490214109420776,
          -1.6763770580291748,
          -1.8049473762512207,
          -1.7113646268844604,
          -1.7132431268692017,
          -1.3001998662948608,
          -1.680431842803955,
          -1.969726324081421,
          -1.5833269357681274,
          -1.9154404401779175,
          -1.7523424625396729,
          -1.2121024131774902
         ],
         "yaxis": "y"
        },
        {
         "hovertemplate": "Cluster=4<br>1st_component=%{x}<br>2nd_component=%{y}<br>Country=%{text}<extra></extra>",
         "legendgroup": "4",
         "marker": {
          "color": "#19d3f3",
          "symbol": "circle"
         },
         "mode": "markers+text",
         "name": "4",
         "orientation": "v",
         "showlegend": true,
         "text": [
          "Belize",
          "Denmark",
          "Estonia",
          "Finland",
          "Germany",
          "Ireland",
          "Malaysia",
          "New Zealand",
          "Nicaragua",
          "Norway",
          "Singapore",
          "Switzerland",
          "Tajikistan",
          "Tunisia",
          "Uruguay"
         ],
         "textposition": "top center",
         "type": "scatter",
         "x": [
          -0.7282421588897705,
          -1.09673273563385,
          -0.7330093383789062,
          -1.188961148262024,
          -1.0002336502075195,
          -0.8743457198143005,
          -1.1927498579025269,
          -1.235405683517456,
          -1.2143601179122925,
          -1.055612325668335,
          -0.8592593669891357,
          -0.7559103965759277,
          -1.1110107898712158,
          -1.3441952466964722,
          -0.9209065437316895
         ],
         "xaxis": "x",
         "y": [
          1.4732571840286255,
          1.63746976852417,
          0.870484471321106,
          1.1862404346466064,
          1.1633566617965698,
          1.1924465894699097,
          1.0983450412750244,
          1.1180578470230103,
          0.915665864944458,
          1.5898332595825195,
          1.1258984804153442,
          1.4269185066223145,
          1.5699249505996704,
          1.1559590101242065,
          1.1584779024124146
         ],
         "yaxis": "y"
        },
        {
         "hovertemplate": "Cluster=5<br>1st_component=%{x}<br>2nd_component=%{y}<br>Country=%{text}<extra></extra>",
         "legendgroup": "5",
         "marker": {
          "color": "#FF6692",
          "symbol": "circle"
         },
         "mode": "markers+text",
         "name": "5",
         "orientation": "v",
         "showlegend": true,
         "text": [
          "Armenia",
          "Bhutan",
          "Colombia",
          "Croatia",
          "Gambia",
          "Ghana",
          "Greece",
          "Guyana",
          "India",
          "Iraq",
          "Kyrgyzstan",
          "Latvia",
          "Malawi",
          "Nepal",
          "Panama",
          "Poland",
          "South Africa",
          "Sri Lanka"
         ],
         "textposition": "top center",
         "type": "scatter",
         "x": [
          -0.08062523603439331,
          0.41201266646385193,
          -0.1952066421508789,
          -0.0723607987165451,
          -0.15020903944969177,
          -0.10485053062438965,
          -0.11610803008079529,
          -0.1578083336353302,
          0.5379461646080017,
          -0.0034619730431586504,
          0.469357430934906,
          -0.03895679861307144,
          0.48292359709739685,
          0.34630918502807617,
          0.5080122947692871,
          -0.18132659792900085,
          -0.1152082085609436,
          0.521973192691803
         ],
         "xaxis": "x",
         "y": [
          1.1365784406661987,
          1.1518492698669434,
          1.376712441444397,
          1.4820489883422852,
          1.1883748769760132,
          1.088841438293457,
          1.4514714479446411,
          1.5255857706069946,
          1.3694937229156494,
          1.540405511856079,
          1.1975244283676147,
          1.384345293045044,
          1.3629467487335205,
          1.0934686660766602,
          1.2965667247772217,
          1.640707015991211,
          1.5660732984542847,
          1.1244876384735107
         ],
         "yaxis": "y"
        },
        {
         "hovertemplate": "Cluster=6<br>1st_component=%{x}<br>2nd_component=%{y}<br>Country=%{text}<extra></extra>",
         "legendgroup": "6",
         "marker": {
          "color": "#B6E880",
          "symbol": "circle"
         },
         "mode": "markers+text",
         "name": "6",
         "orientation": "v",
         "showlegend": true,
         "text": [
          "Antigua and Barbuda",
          "Benin",
          "Cayman Islands",
          "Chad",
          "Dominica",
          "Haiti",
          "Kiribati",
          "Maldives",
          "Marshall Islands",
          "Mozambique",
          "Namibia",
          "Sierra Leone",
          "Solomon Islands",
          "Thailand",
          "Tonga",
          "Uganda",
          "Vanuatu",
          "Yemen"
         ],
         "textposition": "top center",
         "type": "scatter",
         "x": [
          0.30366191267967224,
          0.027027588337659836,
          0.04041779041290283,
          -0.1596004217863083,
          0.11963579058647156,
          0.2766270339488983,
          0.005544195882976055,
          0.3023810088634491,
          0.07127164304256439,
          0.3609341084957123,
          -0.24375012516975403,
          -0.03290078043937683,
          0.2626105844974518,
          0.33570972084999084,
          -0.11954271793365479,
          -0.20123615860939026,
          0.3496764600276947,
          0.32861143350601196
         ],
         "xaxis": "x",
         "y": [
          -0.49771052598953247,
          -0.9666506052017212,
          -0.644805371761322,
          -0.7355667352676392,
          -0.5732918977737427,
          -1.01150643825531,
          -0.8619341254234314,
          -0.42316901683807373,
          -0.684163510799408,
          -0.6797475814819336,
          -0.6313350796699524,
          -0.8151319622993469,
          -0.9451179504394531,
          -0.5754312872886658,
          -1.094824194908142,
          -0.6917108297348022,
          -0.7571626901626587,
          -0.8332633376121521
         ],
         "yaxis": "y"
        },
        {
         "hovertemplate": "Cluster=7<br>1st_component=%{x}<br>2nd_component=%{y}<br>Country=%{text}<extra></extra>",
         "legendgroup": "7",
         "marker": {
          "color": "#FF97FF",
          "symbol": "circle"
         },
         "mode": "markers+text",
         "name": "7",
         "orientation": "v",
         "showlegend": true,
         "text": [
          "Australia",
          "Austria",
          "Belgium",
          "Burkina Faso",
          "Burundi",
          "Canada",
          "Chile",
          "Costa Rica",
          "Czechia",
          "Dominican Republic",
          "Ecuador",
          "France",
          "Israel",
          "Italy",
          "Netherlands",
          "Peru",
          "Philippines",
          "Saint Lucia",
          "Spain",
          "Sweden",
          "United Kingdom",
          "United States"
         ],
         "textposition": "top center",
         "type": "scatter",
         "x": [
          -1.6140921115875244,
          -1.9892122745513916,
          -1.9405088424682617,
          -1.6013202667236328,
          -1.384990930557251,
          -1.2177938222885132,
          -1.7086129188537598,
          -1.495969533920288,
          -1.9860464334487915,
          -1.0647648572921753,
          -2.029665470123291,
          -1.4487522840499878,
          -1.4844197034835815,
          -1.5623198747634888,
          -1.5032589435577393,
          -1.3582018613815308,
          -1.6572790145874023,
          -1.0281620025634766,
          -1.5221436023712158,
          -1.4455124139785767,
          -1.4761602878570557,
          -1.3084027767181396
         ],
         "xaxis": "x",
         "y": [
          1.0657305717468262,
          0.6516848802566528,
          0.6121197938919067,
          1.1314350366592407,
          0.5518695116043091,
          0.8502703309059143,
          1.0282739400863647,
          0.31741687655448914,
          0.5483603477478027,
          0.6736674904823303,
          0.592885434627533,
          0.7548818588256836,
          0.5121056437492371,
          0.7487091422080994,
          0.7185529470443726,
          0.4052993655204773,
          1.1141358613967896,
          0.6437573432922363,
          0.7944333553314209,
          0.4178549349308014,
          0.6019079685211182,
          0.3782089352607727
         ],
         "yaxis": "y"
        },
        {
         "hovertemplate": "Cluster=8<br>1st_component=%{x}<br>2nd_component=%{y}<br>Country=%{text}<extra></extra>",
         "legendgroup": "8",
         "marker": {
          "color": "#FECB52",
          "symbol": "circle"
         },
         "mode": "markers+text",
         "name": "8",
         "orientation": "v",
         "showlegend": true,
         "text": [
          "Belarus",
          "Bulgaria",
          "Cyprus",
          "El Salvador",
          "Ethiopia",
          "Hungary",
          "Iceland",
          "Lithuania",
          "Luxembourg",
          "Portugal",
          "Russia",
          "Slovenia",
          "Ukraine"
         ],
         "textposition": "top center",
         "type": "scatter",
         "x": [
          -0.20417869091033936,
          0.30252763628959656,
          -0.2119031846523285,
          -0.12692517042160034,
          -0.48419079184532166,
          -0.5915188789367676,
          -0.26711615920066833,
          -0.6343458890914917,
          -0.4519977271556854,
          -0.3439180254936218,
          -0.26003673672676086,
          -0.6470131874084473,
          0.3394625782966614
         ],
         "xaxis": "x",
         "y": [
          0.7103326320648193,
          0.7548192143440247,
          0.8057185411453247,
          0.5879256725311279,
          0.8704031705856323,
          0.8394574522972107,
          0.7939947843551636,
          0.6898326277732849,
          0.91493159532547,
          0.7133476734161377,
          0.7229166626930237,
          0.7937061190605164,
          0.7869862914085388
         ],
         "yaxis": "y"
        },
        {
         "hovertemplate": "Cluster=9<br>1st_component=%{x}<br>2nd_component=%{y}<br>Country=%{text}<extra></extra>",
         "legendgroup": "9",
         "marker": {
          "color": "#636efa",
          "symbol": "circle"
         },
         "mode": "markers+text",
         "name": "9",
         "orientation": "v",
         "showlegend": true,
         "text": [
          "Cameroon",
          "Congo",
          "Fiji",
          "Honduras",
          "Japan",
          "Jordan",
          "Mali",
          "Mexico",
          "North Macedonia",
          "Pakistan",
          "Puerto Rico",
          "Romania",
          "Slovakia",
          "Suriname"
         ],
         "textposition": "top center",
         "type": "scatter",
         "x": [
          0.0610186941921711,
          -0.31633347272872925,
          0.009055242873728275,
          -0.18998980522155762,
          -0.034351907670497894,
          0.012520399875938892,
          0.0651257187128067,
          -0.10846155136823654,
          -0.2609715759754181,
          -0.17775273323059082,
          -0.0022409979719668627,
          -0.37929004430770874,
          -0.05525651201605797,
          -0.3491649627685547
         ],
         "xaxis": "x",
         "y": [
          0.3498639762401581,
          0.0033536453265696764,
          0.3000423312187195,
          -0.006577341351658106,
          0.2624313533306122,
          -0.034225743263959885,
          0.031448736786842346,
          0.32431450486183167,
          0.0031471364200115204,
          -0.1017790287733078,
          0.1474098563194275,
          0.021328339353203773,
          0.06230154260993004,
          0.08440873771905899
         ],
         "yaxis": "y"
        }
       ],
       "layout": {
        "legend": {
         "title": {
          "text": "Cluster"
         },
         "tracegroupgap": 0
        },
        "margin": {
         "t": 60
        },
        "template": {
         "data": {
          "bar": [
           {
            "error_x": {
             "color": "#2a3f5f"
            },
            "error_y": {
             "color": "#2a3f5f"
            },
            "marker": {
             "line": {
              "color": "#E5ECF6",
              "width": 0.5
             },
             "pattern": {
              "fillmode": "overlay",
              "size": 10,
              "solidity": 0.2
             }
            },
            "type": "bar"
           }
          ],
          "barpolar": [
           {
            "marker": {
             "line": {
              "color": "#E5ECF6",
              "width": 0.5
             },
             "pattern": {
              "fillmode": "overlay",
              "size": 10,
              "solidity": 0.2
             }
            },
            "type": "barpolar"
           }
          ],
          "carpet": [
           {
            "aaxis": {
             "endlinecolor": "#2a3f5f",
             "gridcolor": "white",
             "linecolor": "white",
             "minorgridcolor": "white",
             "startlinecolor": "#2a3f5f"
            },
            "baxis": {
             "endlinecolor": "#2a3f5f",
             "gridcolor": "white",
             "linecolor": "white",
             "minorgridcolor": "white",
             "startlinecolor": "#2a3f5f"
            },
            "type": "carpet"
           }
          ],
          "choropleth": [
           {
            "colorbar": {
             "outlinewidth": 0,
             "ticks": ""
            },
            "type": "choropleth"
           }
          ],
          "contour": [
           {
            "colorbar": {
             "outlinewidth": 0,
             "ticks": ""
            },
            "colorscale": [
             [
              0,
              "#0d0887"
             ],
             [
              0.1111111111111111,
              "#46039f"
             ],
             [
              0.2222222222222222,
              "#7201a8"
             ],
             [
              0.3333333333333333,
              "#9c179e"
             ],
             [
              0.4444444444444444,
              "#bd3786"
             ],
             [
              0.5555555555555556,
              "#d8576b"
             ],
             [
              0.6666666666666666,
              "#ed7953"
             ],
             [
              0.7777777777777778,
              "#fb9f3a"
             ],
             [
              0.8888888888888888,
              "#fdca26"
             ],
             [
              1,
              "#f0f921"
             ]
            ],
            "type": "contour"
           }
          ],
          "contourcarpet": [
           {
            "colorbar": {
             "outlinewidth": 0,
             "ticks": ""
            },
            "type": "contourcarpet"
           }
          ],
          "heatmap": [
           {
            "colorbar": {
             "outlinewidth": 0,
             "ticks": ""
            },
            "colorscale": [
             [
              0,
              "#0d0887"
             ],
             [
              0.1111111111111111,
              "#46039f"
             ],
             [
              0.2222222222222222,
              "#7201a8"
             ],
             [
              0.3333333333333333,
              "#9c179e"
             ],
             [
              0.4444444444444444,
              "#bd3786"
             ],
             [
              0.5555555555555556,
              "#d8576b"
             ],
             [
              0.6666666666666666,
              "#ed7953"
             ],
             [
              0.7777777777777778,
              "#fb9f3a"
             ],
             [
              0.8888888888888888,
              "#fdca26"
             ],
             [
              1,
              "#f0f921"
             ]
            ],
            "type": "heatmap"
           }
          ],
          "heatmapgl": [
           {
            "colorbar": {
             "outlinewidth": 0,
             "ticks": ""
            },
            "colorscale": [
             [
              0,
              "#0d0887"
             ],
             [
              0.1111111111111111,
              "#46039f"
             ],
             [
              0.2222222222222222,
              "#7201a8"
             ],
             [
              0.3333333333333333,
              "#9c179e"
             ],
             [
              0.4444444444444444,
              "#bd3786"
             ],
             [
              0.5555555555555556,
              "#d8576b"
             ],
             [
              0.6666666666666666,
              "#ed7953"
             ],
             [
              0.7777777777777778,
              "#fb9f3a"
             ],
             [
              0.8888888888888888,
              "#fdca26"
             ],
             [
              1,
              "#f0f921"
             ]
            ],
            "type": "heatmapgl"
           }
          ],
          "histogram": [
           {
            "marker": {
             "pattern": {
              "fillmode": "overlay",
              "size": 10,
              "solidity": 0.2
             }
            },
            "type": "histogram"
           }
          ],
          "histogram2d": [
           {
            "colorbar": {
             "outlinewidth": 0,
             "ticks": ""
            },
            "colorscale": [
             [
              0,
              "#0d0887"
             ],
             [
              0.1111111111111111,
              "#46039f"
             ],
             [
              0.2222222222222222,
              "#7201a8"
             ],
             [
              0.3333333333333333,
              "#9c179e"
             ],
             [
              0.4444444444444444,
              "#bd3786"
             ],
             [
              0.5555555555555556,
              "#d8576b"
             ],
             [
              0.6666666666666666,
              "#ed7953"
             ],
             [
              0.7777777777777778,
              "#fb9f3a"
             ],
             [
              0.8888888888888888,
              "#fdca26"
             ],
             [
              1,
              "#f0f921"
             ]
            ],
            "type": "histogram2d"
           }
          ],
          "histogram2dcontour": [
           {
            "colorbar": {
             "outlinewidth": 0,
             "ticks": ""
            },
            "colorscale": [
             [
              0,
              "#0d0887"
             ],
             [
              0.1111111111111111,
              "#46039f"
             ],
             [
              0.2222222222222222,
              "#7201a8"
             ],
             [
              0.3333333333333333,
              "#9c179e"
             ],
             [
              0.4444444444444444,
              "#bd3786"
             ],
             [
              0.5555555555555556,
              "#d8576b"
             ],
             [
              0.6666666666666666,
              "#ed7953"
             ],
             [
              0.7777777777777778,
              "#fb9f3a"
             ],
             [
              0.8888888888888888,
              "#fdca26"
             ],
             [
              1,
              "#f0f921"
             ]
            ],
            "type": "histogram2dcontour"
           }
          ],
          "mesh3d": [
           {
            "colorbar": {
             "outlinewidth": 0,
             "ticks": ""
            },
            "type": "mesh3d"
           }
          ],
          "parcoords": [
           {
            "line": {
             "colorbar": {
              "outlinewidth": 0,
              "ticks": ""
             }
            },
            "type": "parcoords"
           }
          ],
          "pie": [
           {
            "automargin": true,
            "type": "pie"
           }
          ],
          "scatter": [
           {
            "fillpattern": {
             "fillmode": "overlay",
             "size": 10,
             "solidity": 0.2
            },
            "type": "scatter"
           }
          ],
          "scatter3d": [
           {
            "line": {
             "colorbar": {
              "outlinewidth": 0,
              "ticks": ""
             }
            },
            "marker": {
             "colorbar": {
              "outlinewidth": 0,
              "ticks": ""
             }
            },
            "type": "scatter3d"
           }
          ],
          "scattercarpet": [
           {
            "marker": {
             "colorbar": {
              "outlinewidth": 0,
              "ticks": ""
             }
            },
            "type": "scattercarpet"
           }
          ],
          "scattergeo": [
           {
            "marker": {
             "colorbar": {
              "outlinewidth": 0,
              "ticks": ""
             }
            },
            "type": "scattergeo"
           }
          ],
          "scattergl": [
           {
            "marker": {
             "colorbar": {
              "outlinewidth": 0,
              "ticks": ""
             }
            },
            "type": "scattergl"
           }
          ],
          "scattermapbox": [
           {
            "marker": {
             "colorbar": {
              "outlinewidth": 0,
              "ticks": ""
             }
            },
            "type": "scattermapbox"
           }
          ],
          "scatterpolar": [
           {
            "marker": {
             "colorbar": {
              "outlinewidth": 0,
              "ticks": ""
             }
            },
            "type": "scatterpolar"
           }
          ],
          "scatterpolargl": [
           {
            "marker": {
             "colorbar": {
              "outlinewidth": 0,
              "ticks": ""
             }
            },
            "type": "scatterpolargl"
           }
          ],
          "scatterternary": [
           {
            "marker": {
             "colorbar": {
              "outlinewidth": 0,
              "ticks": ""
             }
            },
            "type": "scatterternary"
           }
          ],
          "surface": [
           {
            "colorbar": {
             "outlinewidth": 0,
             "ticks": ""
            },
            "colorscale": [
             [
              0,
              "#0d0887"
             ],
             [
              0.1111111111111111,
              "#46039f"
             ],
             [
              0.2222222222222222,
              "#7201a8"
             ],
             [
              0.3333333333333333,
              "#9c179e"
             ],
             [
              0.4444444444444444,
              "#bd3786"
             ],
             [
              0.5555555555555556,
              "#d8576b"
             ],
             [
              0.6666666666666666,
              "#ed7953"
             ],
             [
              0.7777777777777778,
              "#fb9f3a"
             ],
             [
              0.8888888888888888,
              "#fdca26"
             ],
             [
              1,
              "#f0f921"
             ]
            ],
            "type": "surface"
           }
          ],
          "table": [
           {
            "cells": {
             "fill": {
              "color": "#EBF0F8"
             },
             "line": {
              "color": "white"
             }
            },
            "header": {
             "fill": {
              "color": "#C8D4E3"
             },
             "line": {
              "color": "white"
             }
            },
            "type": "table"
           }
          ]
         },
         "layout": {
          "annotationdefaults": {
           "arrowcolor": "#2a3f5f",
           "arrowhead": 0,
           "arrowwidth": 1
          },
          "autotypenumbers": "strict",
          "coloraxis": {
           "colorbar": {
            "outlinewidth": 0,
            "ticks": ""
           }
          },
          "colorscale": {
           "diverging": [
            [
             0,
             "#8e0152"
            ],
            [
             0.1,
             "#c51b7d"
            ],
            [
             0.2,
             "#de77ae"
            ],
            [
             0.3,
             "#f1b6da"
            ],
            [
             0.4,
             "#fde0ef"
            ],
            [
             0.5,
             "#f7f7f7"
            ],
            [
             0.6,
             "#e6f5d0"
            ],
            [
             0.7,
             "#b8e186"
            ],
            [
             0.8,
             "#7fbc41"
            ],
            [
             0.9,
             "#4d9221"
            ],
            [
             1,
             "#276419"
            ]
           ],
           "sequential": [
            [
             0,
             "#0d0887"
            ],
            [
             0.1111111111111111,
             "#46039f"
            ],
            [
             0.2222222222222222,
             "#7201a8"
            ],
            [
             0.3333333333333333,
             "#9c179e"
            ],
            [
             0.4444444444444444,
             "#bd3786"
            ],
            [
             0.5555555555555556,
             "#d8576b"
            ],
            [
             0.6666666666666666,
             "#ed7953"
            ],
            [
             0.7777777777777778,
             "#fb9f3a"
            ],
            [
             0.8888888888888888,
             "#fdca26"
            ],
            [
             1,
             "#f0f921"
            ]
           ],
           "sequentialminus": [
            [
             0,
             "#0d0887"
            ],
            [
             0.1111111111111111,
             "#46039f"
            ],
            [
             0.2222222222222222,
             "#7201a8"
            ],
            [
             0.3333333333333333,
             "#9c179e"
            ],
            [
             0.4444444444444444,
             "#bd3786"
            ],
            [
             0.5555555555555556,
             "#d8576b"
            ],
            [
             0.6666666666666666,
             "#ed7953"
            ],
            [
             0.7777777777777778,
             "#fb9f3a"
            ],
            [
             0.8888888888888888,
             "#fdca26"
            ],
            [
             1,
             "#f0f921"
            ]
           ]
          },
          "colorway": [
           "#636efa",
           "#EF553B",
           "#00cc96",
           "#ab63fa",
           "#FFA15A",
           "#19d3f3",
           "#FF6692",
           "#B6E880",
           "#FF97FF",
           "#FECB52"
          ],
          "font": {
           "color": "#2a3f5f"
          },
          "geo": {
           "bgcolor": "white",
           "lakecolor": "white",
           "landcolor": "#E5ECF6",
           "showlakes": true,
           "showland": true,
           "subunitcolor": "white"
          },
          "hoverlabel": {
           "align": "left"
          },
          "hovermode": "closest",
          "mapbox": {
           "style": "light"
          },
          "paper_bgcolor": "white",
          "plot_bgcolor": "#E5ECF6",
          "polar": {
           "angularaxis": {
            "gridcolor": "white",
            "linecolor": "white",
            "ticks": ""
           },
           "bgcolor": "#E5ECF6",
           "radialaxis": {
            "gridcolor": "white",
            "linecolor": "white",
            "ticks": ""
           }
          },
          "scene": {
           "xaxis": {
            "backgroundcolor": "#E5ECF6",
            "gridcolor": "white",
            "gridwidth": 2,
            "linecolor": "white",
            "showbackground": true,
            "ticks": "",
            "zerolinecolor": "white"
           },
           "yaxis": {
            "backgroundcolor": "#E5ECF6",
            "gridcolor": "white",
            "gridwidth": 2,
            "linecolor": "white",
            "showbackground": true,
            "ticks": "",
            "zerolinecolor": "white"
           },
           "zaxis": {
            "backgroundcolor": "#E5ECF6",
            "gridcolor": "white",
            "gridwidth": 2,
            "linecolor": "white",
            "showbackground": true,
            "ticks": "",
            "zerolinecolor": "white"
           }
          },
          "shapedefaults": {
           "line": {
            "color": "#2a3f5f"
           }
          },
          "ternary": {
           "aaxis": {
            "gridcolor": "white",
            "linecolor": "white",
            "ticks": ""
           },
           "baxis": {
            "gridcolor": "white",
            "linecolor": "white",
            "ticks": ""
           },
           "bgcolor": "#E5ECF6",
           "caxis": {
            "gridcolor": "white",
            "linecolor": "white",
            "ticks": ""
           }
          },
          "title": {
           "x": 0.05
          },
          "xaxis": {
           "automargin": true,
           "gridcolor": "white",
           "linecolor": "white",
           "ticks": "",
           "title": {
            "standoff": 15
           },
           "zerolinecolor": "white",
           "zerolinewidth": 2
          },
          "yaxis": {
           "automargin": true,
           "gridcolor": "white",
           "linecolor": "white",
           "ticks": "",
           "title": {
            "standoff": 15
           },
           "zerolinecolor": "white",
           "zerolinewidth": 2
          }
         }
        },
        "title": {
         "text": "Economic Indicators",
         "x": 0.5
        },
        "xaxis": {
         "anchor": "y",
         "domain": [
          0,
          1
         ],
         "title": {
          "text": "1st_component"
         }
        },
        "yaxis": {
         "anchor": "x",
         "domain": [
          0,
          1
         ],
         "title": {
          "text": "2nd_component"
         }
        }
       }
      }
     },
     "metadata": {},
     "output_type": "display_data"
    },
    {
     "data": {
      "application/vnd.plotly.v1+json": {
       "config": {
        "plotlyServerURL": "https://plot.ly"
       },
       "data": [
        {
         "hovertemplate": "Cluster=0<br>1st_component=%{x}<br>2nd_component=%{y}<br>Country=%{text}<extra></extra>",
         "legendgroup": "0",
         "marker": {
          "color": "#636efa",
          "symbol": "circle"
         },
         "mode": "markers+text",
         "name": "0",
         "orientation": "v",
         "showlegend": true,
         "text": [
          "Afghanistan",
          "Botswana",
          "Burundi",
          "Cameroon",
          "Djibouti",
          "Jordan",
          "Liberia",
          "Malawi",
          "Mali",
          "Mauritania",
          "Nepal",
          "Qatar",
          "Sao Tome and Principe",
          "Saudi Arabia",
          "Solomon Islands",
          "Vanuatu"
         ],
         "textposition": "top center",
         "type": "scatter",
         "x": [
          -1.320765733718872,
          -1.193609356880188,
          -1.4718661308288574,
          -1.3817006349563599,
          -1.4883947372436523,
          -1.1568214893341064,
          -1.2443071603775024,
          -1.2195169925689697,
          -1.3764690160751343,
          -1.203570008277893,
          -1.0860257148742676,
          -1.1852538585662842,
          -1.2770273685455322,
          -1.1845756769180298,
          -1.4344362020492554,
          -1.1843523979187012
         ],
         "xaxis": "x",
         "y": [
          -0.37578463554382324,
          -0.6281412243843079,
          -0.28471502661705017,
          -0.34982433915138245,
          -0.40123191475868225,
          -0.3023638129234314,
          -0.5690076947212219,
          -0.5210005640983582,
          -0.3045847713947296,
          -0.4614561200141907,
          -0.4413853883743286,
          -0.5607455968856812,
          -0.32363948225975037,
          -0.36745119094848633,
          -0.336664080619812,
          -0.6924805641174316
         ],
         "yaxis": "y"
        },
        {
         "hovertemplate": "Cluster=1<br>1st_component=%{x}<br>2nd_component=%{y}<br>Country=%{text}<extra></extra>",
         "legendgroup": "1",
         "marker": {
          "color": "#EF553B",
          "symbol": "circle"
         },
         "mode": "markers+text",
         "name": "1",
         "orientation": "v",
         "showlegend": true,
         "text": [
          "Antigua and Barbuda",
          "Aruba",
          "Austria",
          "Barbados",
          "Cyprus",
          "Guyana",
          "Kuwait",
          "Liechtenstein",
          "Mauritius",
          "Samoa",
          "Sri Lanka",
          "Suriname",
          "Tonga",
          "Trinidad and Tobago",
          "Zimbabwe"
         ],
         "textposition": "top center",
         "type": "scatter",
         "x": [
          0.4179707467556,
          0.5701076984405518,
          0.3198162317276001,
          0.46809130907058716,
          0.3477841913700104,
          0.05536423996090889,
          0.03429579734802246,
          0.5799614787101746,
          0.5316392779350281,
          0.1325191855430603,
          0.05044697970151901,
          0.1810743510723114,
          0.08104224503040314,
          0.2985016405582428,
          0.05368218943476677
         ],
         "xaxis": "x",
         "y": [
          -0.7239519953727722,
          -0.7782322764396667,
          -0.627084493637085,
          -0.7236741781234741,
          -0.7049373984336853,
          -0.5524288415908813,
          -0.47883695363998413,
          -0.8205492496490479,
          -0.7385323643684387,
          -0.7313575148582458,
          -0.4368515908718109,
          -0.7414166331291199,
          -0.3599047064781189,
          -0.5817185640335083,
          -0.7093780636787415
         ],
         "yaxis": "y"
        },
        {
         "hovertemplate": "Cluster=2<br>1st_component=%{x}<br>2nd_component=%{y}<br>Country=%{text}<extra></extra>",
         "legendgroup": "2",
         "marker": {
          "color": "#00cc96",
          "symbol": "circle"
         },
         "mode": "markers+text",
         "name": "2",
         "orientation": "v",
         "showlegend": true,
         "text": [
          "Bahrain",
          "Bangladesh",
          "Belize",
          "Benin",
          "Bhutan",
          "Brazil",
          "Burkina Faso",
          "Cambodia",
          "Central African Republic",
          "Chad",
          "Comoros",
          "Ethiopia",
          "Ghana",
          "Guatemala",
          "Haiti",
          "Honduras",
          "India",
          "Indonesia",
          "Kenya",
          "Kiribati",
          "Madagascar",
          "Myanmar",
          "Nicaragua",
          "Pakistan",
          "Papua New Guinea",
          "Portugal",
          "Sierra Leone",
          "Togo",
          "United Arab Emirates"
         ],
         "textposition": "top center",
         "type": "scatter",
         "x": [
          -0.38503336906433105,
          -1.401442527770996,
          -0.5901166796684265,
          -1.067618727684021,
          -0.7129891514778137,
          -0.3131638765335083,
          -0.9649370908737183,
          -0.45553505420684814,
          -0.4087306559085846,
          -0.4691285192966461,
          -0.5464702248573303,
          -0.8480913043022156,
          -0.6658603549003601,
          -1.4486223459243774,
          -0.9389961361885071,
          -1.0083476305007935,
          -1.3404815196990967,
          -0.6185339689254761,
          -0.9552916884422302,
          -0.3863086998462677,
          -1.0452567338943481,
          -0.9446119666099548,
          -1.3982521295547485,
          -1.0200363397598267,
          -0.5461412668228149,
          -0.27838262915611267,
          -0.6131340265274048,
          -0.649594247341156,
          -0.40945833921432495
         ],
         "xaxis": "x",
         "y": [
          -1.6517670154571533,
          -1.3226901292800903,
          -1.2807801961898804,
          -1.7331550121307373,
          -1.607256293296814,
          -1.3443777561187744,
          -1.1088579893112183,
          -1.6376335620880127,
          -1.4184587001800537,
          -1.4008902311325073,
          -1.421652913093567,
          -1.633264183998108,
          -1.5678248405456543,
          -1.3718552589416504,
          -1.634403944015503,
          -1.7626721858978271,
          -1.3699159622192383,
          -1.5914961099624634,
          -1.7017110586166382,
          -1.5179424285888672,
          -1.6674580574035645,
          -1.1358472108840942,
          -1.3644006252288818,
          -1.7033178806304932,
          -1.3223639726638794,
          -1.3119540214538574,
          -1.4979647397994995,
          -1.6288957595825195,
          -1.6120483875274658
         ],
         "yaxis": "y"
        },
        {
         "hovertemplate": "Cluster=3<br>1st_component=%{x}<br>2nd_component=%{y}<br>Country=%{text}<extra></extra>",
         "legendgroup": "3",
         "marker": {
          "color": "#ab63fa",
          "symbol": "circle"
         },
         "mode": "markers+text",
         "name": "3",
         "orientation": "v",
         "showlegend": true,
         "text": [
          "Chile",
          "China",
          "Colombia",
          "Costa Rica",
          "Cuba",
          "El Salvador",
          "Jamaica",
          "Malaysia",
          "Mexico",
          "Montenegro",
          "North Macedonia",
          "Panama",
          "Paraguay",
          "Philippines",
          "Singapore",
          "Thailand"
         ],
         "textposition": "top center",
         "type": "scatter",
         "x": [
          0.15149518847465515,
          -0.06742642819881439,
          -0.07731503248214722,
          0.21096861362457275,
          0.2085704505443573,
          0.14415618777275085,
          0.38969308137893677,
          0.3330727517604828,
          0.4267343580722809,
          -0.04032978042960167,
          0.10050792992115021,
          0.2428397387266159,
          -0.16320793330669403,
          0.28078755736351013,
          0.1067686527967453,
          -0.030168164521455765
         ],
         "xaxis": "x",
         "y": [
          0.02236504666507244,
          0.17452110350131989,
          0.26097342371940613,
          0.22192241251468658,
          0.11903506517410278,
          0.057571496814489365,
          0.05976630002260208,
          0.21534332633018494,
          0.04493221640586853,
          0.23240327835083008,
          -0.2690940499305725,
          0.1671372652053833,
          0.27983152866363525,
          0.1507965475320816,
          -0.23495785892009735,
          0.29150110483169556
         ],
         "yaxis": "y"
        },
        {
         "hovertemplate": "Cluster=4<br>1st_component=%{x}<br>2nd_component=%{y}<br>Country=%{text}<extra></extra>",
         "legendgroup": "4",
         "marker": {
          "color": "#FFA15A",
          "symbol": "circle"
         },
         "mode": "markers+text",
         "name": "4",
         "orientation": "v",
         "showlegend": true,
         "text": [
          "Guinea",
          "Guinea-Bissau",
          "Luxembourg",
          "Maldives",
          "Morocco",
          "Niger",
          "Nigeria",
          "Oman",
          "Rwanda",
          "Senegal",
          "Uganda",
          "Zambia"
         ],
         "textposition": "top center",
         "type": "scatter",
         "x": [
          -1.825094223022461,
          -1.78672194480896,
          -1.835426926612854,
          -1.7045280933380127,
          -1.8557230234146118,
          -1.7507203817367554,
          -1.885156512260437,
          -1.6341679096221924,
          -1.7489393949508667,
          -1.8725109100341797,
          -1.7959526777267456,
          -1.8955110311508179
         ],
         "xaxis": "x",
         "y": [
          1.1154507398605347,
          1.0274862051010132,
          1.2018749713897705,
          0.965653657913208,
          0.9643412828445435,
          0.851961612701416,
          1.0061792135238647,
          0.9989544153213501,
          0.9227583408355713,
          1.1353639364242554,
          0.9798094630241394,
          1.0866140127182007
         ],
         "yaxis": "y"
        },
        {
         "hovertemplate": "Cluster=5<br>1st_component=%{x}<br>2nd_component=%{y}<br>Country=%{text}<extra></extra>",
         "legendgroup": "5",
         "marker": {
          "color": "#19d3f3",
          "symbol": "circle"
         },
         "mode": "markers+text",
         "name": "5",
         "orientation": "v",
         "showlegend": true,
         "text": [
          "Angola",
          "Argentina",
          "Denmark",
          "Ecuador",
          "Equatorial Guinea",
          "Eritrea",
          "Eswatini",
          "Iceland",
          "Iraq",
          "Ireland",
          "Lesotho",
          "Malta",
          "Mozambique",
          "Netherlands",
          "New Zealand",
          "Peru",
          "Uruguay"
         ],
         "textposition": "top center",
         "type": "scatter",
         "x": [
          -0.5352786779403687,
          -0.48718002438545227,
          -0.5941794514656067,
          -0.4400631785392761,
          -0.3875347673892975,
          -0.30596521496772766,
          -0.37770214676856995,
          -0.2930133640766144,
          -0.5396865010261536,
          -0.6317245364189148,
          -0.31488093733787537,
          -0.29589590430259705,
          -0.5735998153686523,
          -0.45578840374946594,
          -0.4045009911060333,
          -0.4680948257446289,
          -0.2412366420030594
         ],
         "xaxis": "x",
         "y": [
          -0.6815974116325378,
          -0.688977837562561,
          -0.6771067380905151,
          0.04725399985909462,
          -0.6339677572250366,
          -0.7495810389518738,
          -0.6880521178245544,
          -0.2910928726196289,
          -0.7582119703292847,
          -0.7452489137649536,
          -0.36186733841896057,
          -0.2575241029262543,
          -0.6330718994140625,
          0.0885557010769844,
          0.093009352684021,
          -0.030072277411818504,
          -0.20611290633678436
         ],
         "yaxis": "y"
        },
        {
         "hovertemplate": "Cluster=6<br>1st_component=%{x}<br>2nd_component=%{y}<br>Country=%{text}<extra></extra>",
         "legendgroup": "6",
         "marker": {
          "color": "#FF6692",
          "symbol": "circle"
         },
         "mode": "markers+text",
         "name": "6",
         "orientation": "v",
         "showlegend": true,
         "text": [
          "Albania",
          "Armenia",
          "Bosnia and Herzegovina",
          "Bulgaria",
          "Croatia",
          "Georgia",
          "Germany",
          "Greenland",
          "Hungary",
          "Latvia",
          "Lithuania",
          "Palau",
          "Poland",
          "Romania",
          "Serbia",
          "Ukraine"
         ],
         "textposition": "top center",
         "type": "scatter",
         "x": [
          1.5178632736206055,
          1.4764827489852905,
          1.5818690061569214,
          1.4463664293289185,
          1.2246395349502563,
          1.1072540283203125,
          1.1971533298492432,
          1.1541048288345337,
          1.297947883605957,
          1.3251523971557617,
          1.3972675800323486,
          1.1929079294204712,
          1.4616729021072388,
          1.4079285860061646,
          1.5708802938461304,
          1.1482826471328735
         ],
         "xaxis": "x",
         "y": [
          1.1755045652389526,
          0.839833676815033,
          1.184419870376587,
          1.1118316650390625,
          1.032436490058899,
          1.2014249563217163,
          0.9999187588691711,
          0.9379997849464417,
          1.1531705856323242,
          1.009976863861084,
          1.0695602893829346,
          1.0921152830123901,
          0.8714137673377991,
          1.1319223642349243,
          1.2215766906738281,
          1.198399543762207
         ],
         "yaxis": "y"
        },
        {
         "hovertemplate": "Cluster=7<br>1st_component=%{x}<br>2nd_component=%{y}<br>Country=%{text}<extra></extra>",
         "legendgroup": "7",
         "marker": {
          "color": "#B6E880",
          "symbol": "circle"
         },
         "mode": "markers+text",
         "name": "7",
         "orientation": "v",
         "showlegend": true,
         "text": [
          "Andorra",
          "Bermuda",
          "Cayman Islands",
          "Congo",
          "Czechia",
          "Dominica",
          "Egypt",
          "Fiji",
          "French Polynesia",
          "Gambia",
          "Greece",
          "Grenada",
          "Italy",
          "Japan",
          "Kyrgyzstan",
          "Libya",
          "Nauru",
          "New Caledonia",
          "Puerto Rico",
          "Saint Lucia",
          "Seychelles",
          "Slovakia",
          "Yemen"
         ],
         "textposition": "top center",
         "type": "scatter",
         "x": [
          1.6503076553344727,
          1.2725144624710083,
          1.7998707294464111,
          1.4715265035629272,
          1.594860315322876,
          1.215286135673523,
          1.6552284955978394,
          1.203346848487854,
          1.4865272045135498,
          1.543398141860962,
          1.338016390800476,
          1.281356930732727,
          1.3895827531814575,
          1.4565589427947998,
          1.7083320617675781,
          1.5105137825012207,
          1.467382550239563,
          1.124515175819397,
          1.21506667137146,
          1.7068291902542114,
          1.1839655637741089,
          1.47720468044281,
          1.4206781387329102
         ],
         "xaxis": "x",
         "y": [
          -0.1649000644683838,
          -0.5434498190879822,
          -0.1874116212129593,
          -0.30103424191474915,
          -0.21328647434711456,
          0.15446892380714417,
          -0.22630859911441803,
          0.2600332498550415,
          -0.5658779144287109,
          -0.2466806322336197,
          -0.3400985896587372,
          0.24987155199050903,
          -0.42375850677490234,
          -0.5988765954971313,
          -0.2019040882587433,
          -0.5323283672332764,
          -0.2021506279706955,
          0.21028080582618713,
          -0.5631101727485657,
          -0.14662040770053864,
          0.20789268612861633,
          -0.3502768278121948,
          -0.352178692817688
         ],
         "yaxis": "y"
        },
        {
         "hovertemplate": "Cluster=8<br>1st_component=%{x}<br>2nd_component=%{y}<br>Country=%{text}<extra></extra>",
         "legendgroup": "8",
         "marker": {
          "color": "#FF97FF",
          "symbol": "circle"
         },
         "mode": "markers+text",
         "name": "8",
         "orientation": "v",
         "showlegend": true,
         "text": [
          "Australia",
          "Belgium",
          "Canada",
          "Dominican Republic",
          "Finland",
          "France",
          "Israel",
          "Lebanon",
          "Marshall Islands",
          "Slovenia",
          "South Africa",
          "Spain",
          "Switzerland",
          "Tunisia",
          "Tuvalu",
          "United Kingdom",
          "United States"
         ],
         "textposition": "top center",
         "type": "scatter",
         "x": [
          0.08940908312797546,
          0.39703798294067383,
          0.06800661981105804,
          -0.016743451356887817,
          0.24256108701229095,
          0.02350745163857937,
          0.44008514285087585,
          0.18007619678974152,
          0.25768712162971497,
          0.25996026396751404,
          0.28399786353111267,
          0.20429478585720062,
          0.453417032957077,
          0.1016223132610321,
          0.24424625933170319,
          0.2685101628303528,
          -0.04319261014461517
         ],
         "xaxis": "x",
         "y": [
          0.9488049149513245,
          0.8431833386421204,
          0.9818269610404968,
          0.7966890335083008,
          0.7856256365776062,
          0.825015127658844,
          0.8089693188667297,
          1.1661566495895386,
          1.1741384267807007,
          0.7535610795021057,
          0.901872456073761,
          0.8849735856056213,
          0.8499440550804138,
          1.1893748044967651,
          1.2047170400619507,
          0.9477024078369141,
          0.874048113822937
         ],
         "yaxis": "y"
        },
        {
         "hovertemplate": "Cluster=9<br>1st_component=%{x}<br>2nd_component=%{y}<br>Country=%{text}<extra></extra>",
         "legendgroup": "9",
         "marker": {
          "color": "#FECB52",
          "symbol": "circle"
         },
         "mode": "markers+text",
         "name": "9",
         "orientation": "v",
         "showlegend": true,
         "text": [
          "Algeria",
          "Azerbaijan",
          "Belarus",
          "Estonia",
          "Gabon",
          "Kazakhstan",
          "Mongolia",
          "Namibia",
          "Norway",
          "Russia",
          "Sweden",
          "Tajikistan",
          "Turkmenistan",
          "Uzbekistan"
         ],
         "textposition": "top center",
         "type": "scatter",
         "x": [
          0.3671676516532898,
          0.420291006565094,
          0.798062264919281,
          0.845474898815155,
          0.342705100774765,
          0.544533371925354,
          0.6365529894828796,
          0.3943030536174774,
          0.3403257131576538,
          0.7504634857177734,
          0.45543262362480164,
          0.5205842852592468,
          0.39371830224990845,
          0.49185606837272644
         ],
         "xaxis": "x",
         "y": [
          1.6677900552749634,
          1.688097596168518,
          1.6548646688461304,
          1.6320370435714722,
          1.9701733589172363,
          1.7499421834945679,
          1.7264913320541382,
          1.9601787328720093,
          1.917365312576294,
          1.6774286031723022,
          1.787684440612793,
          1.800829291343689,
          2.006392002105713,
          1.7456772327423096
         ],
         "yaxis": "y"
        }
       ],
       "layout": {
        "legend": {
         "title": {
          "text": "Cluster"
         },
         "tracegroupgap": 0
        },
        "margin": {
         "t": 60
        },
        "template": {
         "data": {
          "bar": [
           {
            "error_x": {
             "color": "#2a3f5f"
            },
            "error_y": {
             "color": "#2a3f5f"
            },
            "marker": {
             "line": {
              "color": "#E5ECF6",
              "width": 0.5
             },
             "pattern": {
              "fillmode": "overlay",
              "size": 10,
              "solidity": 0.2
             }
            },
            "type": "bar"
           }
          ],
          "barpolar": [
           {
            "marker": {
             "line": {
              "color": "#E5ECF6",
              "width": 0.5
             },
             "pattern": {
              "fillmode": "overlay",
              "size": 10,
              "solidity": 0.2
             }
            },
            "type": "barpolar"
           }
          ],
          "carpet": [
           {
            "aaxis": {
             "endlinecolor": "#2a3f5f",
             "gridcolor": "white",
             "linecolor": "white",
             "minorgridcolor": "white",
             "startlinecolor": "#2a3f5f"
            },
            "baxis": {
             "endlinecolor": "#2a3f5f",
             "gridcolor": "white",
             "linecolor": "white",
             "minorgridcolor": "white",
             "startlinecolor": "#2a3f5f"
            },
            "type": "carpet"
           }
          ],
          "choropleth": [
           {
            "colorbar": {
             "outlinewidth": 0,
             "ticks": ""
            },
            "type": "choropleth"
           }
          ],
          "contour": [
           {
            "colorbar": {
             "outlinewidth": 0,
             "ticks": ""
            },
            "colorscale": [
             [
              0,
              "#0d0887"
             ],
             [
              0.1111111111111111,
              "#46039f"
             ],
             [
              0.2222222222222222,
              "#7201a8"
             ],
             [
              0.3333333333333333,
              "#9c179e"
             ],
             [
              0.4444444444444444,
              "#bd3786"
             ],
             [
              0.5555555555555556,
              "#d8576b"
             ],
             [
              0.6666666666666666,
              "#ed7953"
             ],
             [
              0.7777777777777778,
              "#fb9f3a"
             ],
             [
              0.8888888888888888,
              "#fdca26"
             ],
             [
              1,
              "#f0f921"
             ]
            ],
            "type": "contour"
           }
          ],
          "contourcarpet": [
           {
            "colorbar": {
             "outlinewidth": 0,
             "ticks": ""
            },
            "type": "contourcarpet"
           }
          ],
          "heatmap": [
           {
            "colorbar": {
             "outlinewidth": 0,
             "ticks": ""
            },
            "colorscale": [
             [
              0,
              "#0d0887"
             ],
             [
              0.1111111111111111,
              "#46039f"
             ],
             [
              0.2222222222222222,
              "#7201a8"
             ],
             [
              0.3333333333333333,
              "#9c179e"
             ],
             [
              0.4444444444444444,
              "#bd3786"
             ],
             [
              0.5555555555555556,
              "#d8576b"
             ],
             [
              0.6666666666666666,
              "#ed7953"
             ],
             [
              0.7777777777777778,
              "#fb9f3a"
             ],
             [
              0.8888888888888888,
              "#fdca26"
             ],
             [
              1,
              "#f0f921"
             ]
            ],
            "type": "heatmap"
           }
          ],
          "heatmapgl": [
           {
            "colorbar": {
             "outlinewidth": 0,
             "ticks": ""
            },
            "colorscale": [
             [
              0,
              "#0d0887"
             ],
             [
              0.1111111111111111,
              "#46039f"
             ],
             [
              0.2222222222222222,
              "#7201a8"
             ],
             [
              0.3333333333333333,
              "#9c179e"
             ],
             [
              0.4444444444444444,
              "#bd3786"
             ],
             [
              0.5555555555555556,
              "#d8576b"
             ],
             [
              0.6666666666666666,
              "#ed7953"
             ],
             [
              0.7777777777777778,
              "#fb9f3a"
             ],
             [
              0.8888888888888888,
              "#fdca26"
             ],
             [
              1,
              "#f0f921"
             ]
            ],
            "type": "heatmapgl"
           }
          ],
          "histogram": [
           {
            "marker": {
             "pattern": {
              "fillmode": "overlay",
              "size": 10,
              "solidity": 0.2
             }
            },
            "type": "histogram"
           }
          ],
          "histogram2d": [
           {
            "colorbar": {
             "outlinewidth": 0,
             "ticks": ""
            },
            "colorscale": [
             [
              0,
              "#0d0887"
             ],
             [
              0.1111111111111111,
              "#46039f"
             ],
             [
              0.2222222222222222,
              "#7201a8"
             ],
             [
              0.3333333333333333,
              "#9c179e"
             ],
             [
              0.4444444444444444,
              "#bd3786"
             ],
             [
              0.5555555555555556,
              "#d8576b"
             ],
             [
              0.6666666666666666,
              "#ed7953"
             ],
             [
              0.7777777777777778,
              "#fb9f3a"
             ],
             [
              0.8888888888888888,
              "#fdca26"
             ],
             [
              1,
              "#f0f921"
             ]
            ],
            "type": "histogram2d"
           }
          ],
          "histogram2dcontour": [
           {
            "colorbar": {
             "outlinewidth": 0,
             "ticks": ""
            },
            "colorscale": [
             [
              0,
              "#0d0887"
             ],
             [
              0.1111111111111111,
              "#46039f"
             ],
             [
              0.2222222222222222,
              "#7201a8"
             ],
             [
              0.3333333333333333,
              "#9c179e"
             ],
             [
              0.4444444444444444,
              "#bd3786"
             ],
             [
              0.5555555555555556,
              "#d8576b"
             ],
             [
              0.6666666666666666,
              "#ed7953"
             ],
             [
              0.7777777777777778,
              "#fb9f3a"
             ],
             [
              0.8888888888888888,
              "#fdca26"
             ],
             [
              1,
              "#f0f921"
             ]
            ],
            "type": "histogram2dcontour"
           }
          ],
          "mesh3d": [
           {
            "colorbar": {
             "outlinewidth": 0,
             "ticks": ""
            },
            "type": "mesh3d"
           }
          ],
          "parcoords": [
           {
            "line": {
             "colorbar": {
              "outlinewidth": 0,
              "ticks": ""
             }
            },
            "type": "parcoords"
           }
          ],
          "pie": [
           {
            "automargin": true,
            "type": "pie"
           }
          ],
          "scatter": [
           {
            "fillpattern": {
             "fillmode": "overlay",
             "size": 10,
             "solidity": 0.2
            },
            "type": "scatter"
           }
          ],
          "scatter3d": [
           {
            "line": {
             "colorbar": {
              "outlinewidth": 0,
              "ticks": ""
             }
            },
            "marker": {
             "colorbar": {
              "outlinewidth": 0,
              "ticks": ""
             }
            },
            "type": "scatter3d"
           }
          ],
          "scattercarpet": [
           {
            "marker": {
             "colorbar": {
              "outlinewidth": 0,
              "ticks": ""
             }
            },
            "type": "scattercarpet"
           }
          ],
          "scattergeo": [
           {
            "marker": {
             "colorbar": {
              "outlinewidth": 0,
              "ticks": ""
             }
            },
            "type": "scattergeo"
           }
          ],
          "scattergl": [
           {
            "marker": {
             "colorbar": {
              "outlinewidth": 0,
              "ticks": ""
             }
            },
            "type": "scattergl"
           }
          ],
          "scattermapbox": [
           {
            "marker": {
             "colorbar": {
              "outlinewidth": 0,
              "ticks": ""
             }
            },
            "type": "scattermapbox"
           }
          ],
          "scatterpolar": [
           {
            "marker": {
             "colorbar": {
              "outlinewidth": 0,
              "ticks": ""
             }
            },
            "type": "scatterpolar"
           }
          ],
          "scatterpolargl": [
           {
            "marker": {
             "colorbar": {
              "outlinewidth": 0,
              "ticks": ""
             }
            },
            "type": "scatterpolargl"
           }
          ],
          "scatterternary": [
           {
            "marker": {
             "colorbar": {
              "outlinewidth": 0,
              "ticks": ""
             }
            },
            "type": "scatterternary"
           }
          ],
          "surface": [
           {
            "colorbar": {
             "outlinewidth": 0,
             "ticks": ""
            },
            "colorscale": [
             [
              0,
              "#0d0887"
             ],
             [
              0.1111111111111111,
              "#46039f"
             ],
             [
              0.2222222222222222,
              "#7201a8"
             ],
             [
              0.3333333333333333,
              "#9c179e"
             ],
             [
              0.4444444444444444,
              "#bd3786"
             ],
             [
              0.5555555555555556,
              "#d8576b"
             ],
             [
              0.6666666666666666,
              "#ed7953"
             ],
             [
              0.7777777777777778,
              "#fb9f3a"
             ],
             [
              0.8888888888888888,
              "#fdca26"
             ],
             [
              1,
              "#f0f921"
             ]
            ],
            "type": "surface"
           }
          ],
          "table": [
           {
            "cells": {
             "fill": {
              "color": "#EBF0F8"
             },
             "line": {
              "color": "white"
             }
            },
            "header": {
             "fill": {
              "color": "#C8D4E3"
             },
             "line": {
              "color": "white"
             }
            },
            "type": "table"
           }
          ]
         },
         "layout": {
          "annotationdefaults": {
           "arrowcolor": "#2a3f5f",
           "arrowhead": 0,
           "arrowwidth": 1
          },
          "autotypenumbers": "strict",
          "coloraxis": {
           "colorbar": {
            "outlinewidth": 0,
            "ticks": ""
           }
          },
          "colorscale": {
           "diverging": [
            [
             0,
             "#8e0152"
            ],
            [
             0.1,
             "#c51b7d"
            ],
            [
             0.2,
             "#de77ae"
            ],
            [
             0.3,
             "#f1b6da"
            ],
            [
             0.4,
             "#fde0ef"
            ],
            [
             0.5,
             "#f7f7f7"
            ],
            [
             0.6,
             "#e6f5d0"
            ],
            [
             0.7,
             "#b8e186"
            ],
            [
             0.8,
             "#7fbc41"
            ],
            [
             0.9,
             "#4d9221"
            ],
            [
             1,
             "#276419"
            ]
           ],
           "sequential": [
            [
             0,
             "#0d0887"
            ],
            [
             0.1111111111111111,
             "#46039f"
            ],
            [
             0.2222222222222222,
             "#7201a8"
            ],
            [
             0.3333333333333333,
             "#9c179e"
            ],
            [
             0.4444444444444444,
             "#bd3786"
            ],
            [
             0.5555555555555556,
             "#d8576b"
            ],
            [
             0.6666666666666666,
             "#ed7953"
            ],
            [
             0.7777777777777778,
             "#fb9f3a"
            ],
            [
             0.8888888888888888,
             "#fdca26"
            ],
            [
             1,
             "#f0f921"
            ]
           ],
           "sequentialminus": [
            [
             0,
             "#0d0887"
            ],
            [
             0.1111111111111111,
             "#46039f"
            ],
            [
             0.2222222222222222,
             "#7201a8"
            ],
            [
             0.3333333333333333,
             "#9c179e"
            ],
            [
             0.4444444444444444,
             "#bd3786"
            ],
            [
             0.5555555555555556,
             "#d8576b"
            ],
            [
             0.6666666666666666,
             "#ed7953"
            ],
            [
             0.7777777777777778,
             "#fb9f3a"
            ],
            [
             0.8888888888888888,
             "#fdca26"
            ],
            [
             1,
             "#f0f921"
            ]
           ]
          },
          "colorway": [
           "#636efa",
           "#EF553B",
           "#00cc96",
           "#ab63fa",
           "#FFA15A",
           "#19d3f3",
           "#FF6692",
           "#B6E880",
           "#FF97FF",
           "#FECB52"
          ],
          "font": {
           "color": "#2a3f5f"
          },
          "geo": {
           "bgcolor": "white",
           "lakecolor": "white",
           "landcolor": "#E5ECF6",
           "showlakes": true,
           "showland": true,
           "subunitcolor": "white"
          },
          "hoverlabel": {
           "align": "left"
          },
          "hovermode": "closest",
          "mapbox": {
           "style": "light"
          },
          "paper_bgcolor": "white",
          "plot_bgcolor": "#E5ECF6",
          "polar": {
           "angularaxis": {
            "gridcolor": "white",
            "linecolor": "white",
            "ticks": ""
           },
           "bgcolor": "#E5ECF6",
           "radialaxis": {
            "gridcolor": "white",
            "linecolor": "white",
            "ticks": ""
           }
          },
          "scene": {
           "xaxis": {
            "backgroundcolor": "#E5ECF6",
            "gridcolor": "white",
            "gridwidth": 2,
            "linecolor": "white",
            "showbackground": true,
            "ticks": "",
            "zerolinecolor": "white"
           },
           "yaxis": {
            "backgroundcolor": "#E5ECF6",
            "gridcolor": "white",
            "gridwidth": 2,
            "linecolor": "white",
            "showbackground": true,
            "ticks": "",
            "zerolinecolor": "white"
           },
           "zaxis": {
            "backgroundcolor": "#E5ECF6",
            "gridcolor": "white",
            "gridwidth": 2,
            "linecolor": "white",
            "showbackground": true,
            "ticks": "",
            "zerolinecolor": "white"
           }
          },
          "shapedefaults": {
           "line": {
            "color": "#2a3f5f"
           }
          },
          "ternary": {
           "aaxis": {
            "gridcolor": "white",
            "linecolor": "white",
            "ticks": ""
           },
           "baxis": {
            "gridcolor": "white",
            "linecolor": "white",
            "ticks": ""
           },
           "bgcolor": "#E5ECF6",
           "caxis": {
            "gridcolor": "white",
            "linecolor": "white",
            "ticks": ""
           }
          },
          "title": {
           "x": 0.05
          },
          "xaxis": {
           "automargin": true,
           "gridcolor": "white",
           "linecolor": "white",
           "ticks": "",
           "title": {
            "standoff": 15
           },
           "zerolinecolor": "white",
           "zerolinewidth": 2
          },
          "yaxis": {
           "automargin": true,
           "gridcolor": "white",
           "linecolor": "white",
           "ticks": "",
           "title": {
            "standoff": 15
           },
           "zerolinecolor": "white",
           "zerolinewidth": 2
          }
         }
        },
        "title": {
         "text": "Social-demographic Indicators",
         "x": 0.5
        },
        "xaxis": {
         "anchor": "y",
         "domain": [
          0,
          1
         ],
         "title": {
          "text": "1st_component"
         }
        },
        "yaxis": {
         "anchor": "x",
         "domain": [
          0,
          1
         ],
         "title": {
          "text": "2nd_component"
         }
        }
       }
      }
     },
     "metadata": {},
     "output_type": "display_data"
    },
    {
     "data": {
      "application/vnd.plotly.v1+json": {
       "config": {
        "plotlyServerURL": "https://plot.ly"
       },
       "data": [
        {
         "hovertemplate": "Cluster=0<br>1st_component=%{x}<br>2nd_component=%{y}<br>Country=%{text}<extra></extra>",
         "legendgroup": "0",
         "marker": {
          "color": "#636efa",
          "symbol": "circle"
         },
         "mode": "markers+text",
         "name": "0",
         "orientation": "v",
         "showlegend": true,
         "text": [
          "Afghanistan",
          "Burkina Faso",
          "Canada",
          "Eswatini",
          "Guinea",
          "Maldives",
          "Mauritius",
          "Montenegro",
          "Namibia",
          "Niger",
          "Senegal",
          "Singapore",
          "Ukraine"
         ],
         "textposition": "top center",
         "type": "scatter",
         "x": [
          -0.9183346033096313,
          -0.957624614238739,
          -0.8933753967285156,
          -0.8881486058235168,
          -0.8804140090942383,
          -0.8762080073356628,
          -1.0511360168457031,
          -1.01189124584198,
          -0.851395845413208,
          -0.9880492091178894,
          -0.9586375951766968,
          -1.0037249326705933,
          -0.9146615266799927
         ],
         "xaxis": "x",
         "y": [
          1.4850119352340698,
          1.5864582061767578,
          1.5886425971984863,
          1.4548263549804688,
          1.4203547239303589,
          1.3588283061981201,
          1.5603877305984497,
          1.6253981590270996,
          1.337400197982788,
          1.5753196477890015,
          1.5512670278549194,
          1.6600929498672485,
          1.4273664951324463
         ],
         "yaxis": "y"
        },
        {
         "hovertemplate": "Cluster=1<br>1st_component=%{x}<br>2nd_component=%{y}<br>Country=%{text}<extra></extra>",
         "legendgroup": "1",
         "marker": {
          "color": "#EF553B",
          "symbol": "circle"
         },
         "mode": "markers+text",
         "name": "1",
         "orientation": "v",
         "showlegend": true,
         "text": [
          "Argentina",
          "Azerbaijan",
          "Benin",
          "Bosnia and Herzegovina",
          "Botswana",
          "Czechia",
          "Honduras",
          "Iceland",
          "India",
          "Panama",
          "Serbia",
          "United Arab Emirates"
         ],
         "textposition": "top center",
         "type": "scatter",
         "x": [
          0.3680993914604187,
          0.29533782601356506,
          0.45953133702278137,
          0.395088255405426,
          0.4228694438934326,
          0.3562759459018707,
          0.31717148423194885,
          0.4018767178058624,
          0.43243974447250366,
          0.2840583920478821,
          0.3752281069755554,
          0.4548570513725281
         ],
         "xaxis": "x",
         "y": [
          1.199394702911377,
          1.3157778978347778,
          1.4476206302642822,
          1.1700990200042725,
          1.1299422979354858,
          1.1619477272033691,
          1.2865740060806274,
          1.0960726737976074,
          1.4521121978759766,
          1.283254623413086,
          1.121677041053772,
          1.4784667491912842
         ],
         "yaxis": "y"
        },
        {
         "hovertemplate": "Cluster=2<br>1st_component=%{x}<br>2nd_component=%{y}<br>Country=%{text}<extra></extra>",
         "legendgroup": "2",
         "marker": {
          "color": "#00cc96",
          "symbol": "circle"
         },
         "mode": "markers+text",
         "name": "2",
         "orientation": "v",
         "showlegend": true,
         "text": [
          "Belgium",
          "France",
          "Liechtenstein",
          "Luxembourg",
          "Mexico",
          "Netherlands",
          "Switzerland"
         ],
         "textposition": "top center",
         "type": "scatter",
         "x": [
          0.004228224046528339,
          -0.05313274264335632,
          0.023182861506938934,
          0.001548725995235145,
          0.04468419402837753,
          0.05974212661385536,
          0.04731615260243416
         ],
         "xaxis": "x",
         "y": [
          -0.4150269329547882,
          -0.384062260389328,
          -0.44803526997566223,
          -0.3890092372894287,
          -0.49073681235313416,
          -0.3642038404941559,
          -0.42942315340042114
         ],
         "yaxis": "y"
        },
        {
         "hovertemplate": "Cluster=3<br>1st_component=%{x}<br>2nd_component=%{y}<br>Country=%{text}<extra></extra>",
         "legendgroup": "3",
         "marker": {
          "color": "#ab63fa",
          "symbol": "circle"
         },
         "mode": "markers+text",
         "name": "3",
         "orientation": "v",
         "showlegend": true,
         "text": [
          "Australia",
          "Austria",
          "Bulgaria",
          "Chile",
          "Germany",
          "Greece",
          "Hungary",
          "Indonesia",
          "Israel",
          "Italy",
          "Lithuania",
          "Malta",
          "New Zealand",
          "Philippines",
          "Poland",
          "Russia",
          "Slovakia",
          "Spain",
          "United Kingdom"
         ],
         "textposition": "top center",
         "type": "scatter",
         "x": [
          0.998740017414093,
          0.674915611743927,
          1.0295498371124268,
          0.6648464202880859,
          0.9826374650001526,
          0.6361499428749084,
          1.0283441543579102,
          0.9170567393302917,
          1.048668384552002,
          0.6414238214492798,
          0.6679847836494446,
          0.9955905675888062,
          0.9646348357200623,
          0.6622480750083923,
          0.9302654266357422,
          1.0087064504623413,
          0.609142541885376,
          0.6326784491539001,
          0.6076084971427917
         ],
         "xaxis": "x",
         "y": [
          -0.38772648572921753,
          -0.5261062383651733,
          -0.6343635320663452,
          -0.5677581429481506,
          -0.6469335556030273,
          -0.4278755486011505,
          -0.40132954716682434,
          -0.3975072205066681,
          -0.6596471071243286,
          -0.5108150243759155,
          -0.42046165466308594,
          -0.34709805250167847,
          -0.3874255418777466,
          -0.45956799387931824,
          -0.6566832661628723,
          -0.6670792102813721,
          -0.2677401900291443,
          -0.5477401614189148,
          -0.25208956003189087
         ],
         "yaxis": "y"
        },
        {
         "hovertemplate": "Cluster=4<br>1st_component=%{x}<br>2nd_component=%{y}<br>Country=%{text}<extra></extra>",
         "legendgroup": "4",
         "marker": {
          "color": "#FFA15A",
          "symbol": "circle"
         },
         "mode": "markers+text",
         "name": "4",
         "orientation": "v",
         "showlegend": true,
         "text": [
          "Angola",
          "Armenia",
          "Bhutan",
          "Colombia",
          "Cuba",
          "Estonia",
          "Gabon",
          "Georgia",
          "Guinea-Bissau",
          "Guyana",
          "Jamaica",
          "Jordan",
          "Kyrgyzstan",
          "Latvia",
          "Lebanon",
          "Malawi",
          "Myanmar",
          "Nigeria",
          "Oman",
          "Sao Tome and Principe",
          "Seychelles",
          "Solomon Islands",
          "Togo",
          "Tunisia",
          "Turkmenistan",
          "Zimbabwe"
         ],
         "textposition": "top center",
         "type": "scatter",
         "x": [
          -1.5469141006469727,
          -1.5322436094284058,
          -1.287917971611023,
          -0.9535591006278992,
          -1.337010383605957,
          -0.972149133682251,
          -1.2045717239379883,
          -1.340089201927185,
          -1.3874621391296387,
          -1.2565723657608032,
          -1.2317179441452026,
          -1.2349380254745483,
          -1.2309833765029907,
          -0.9157048463821411,
          -1.3774455785751343,
          -1.2994189262390137,
          -1.2711938619613647,
          -1.2434275150299072,
          -1.2407118082046509,
          -1.3836525678634644,
          -1.2049118280410767,
          -1.2616171836853027,
          -1.4950681924819946,
          -1.5401004552841187,
          -1.3520506620407104,
          -1.255794644355774
         ],
         "xaxis": "x",
         "y": [
          -0.4135879576206207,
          -0.46785104274749756,
          -0.31482255458831787,
          -0.5147426724433899,
          -0.4757855236530304,
          -0.5076457858085632,
          -0.056626662611961365,
          -0.4060225188732147,
          -0.4238397479057312,
          -0.16023720800876617,
          -0.01931971311569214,
          0.10597304999828339,
          0.04817196726799011,
          -0.5286714434623718,
          -0.49503761529922485,
          -0.34157902002334595,
          -0.24441498517990112,
          -0.07319476455450058,
          -0.1221965029835701,
          -0.5316066741943359,
          -0.12978309392929077,
          0.1262936294078827,
          -0.38577601313591003,
          -0.38406383991241455,
          -0.43566280603408813,
          0.05752381682395935
         ],
         "yaxis": "y"
        },
        {
         "hovertemplate": "Cluster=5<br>1st_component=%{x}<br>2nd_component=%{y}<br>Country=%{text}<extra></extra>",
         "legendgroup": "5",
         "marker": {
          "color": "#19d3f3",
          "symbol": "circle"
         },
         "mode": "markers+text",
         "name": "5",
         "orientation": "v",
         "showlegend": true,
         "text": [
          "Albania",
          "Algeria",
          "Cyprus",
          "Ecuador",
          "Guatemala",
          "Ireland",
          "Kenya",
          "Malaysia",
          "Morocco",
          "Nepal",
          "Peru",
          "Saudi Arabia",
          "Sierra Leone",
          "Sri Lanka",
          "Vanuatu"
         ],
         "textposition": "top center",
         "type": "scatter",
         "x": [
          -0.6011097431182861,
          -0.5070078372955322,
          -0.5996443033218384,
          -0.4737583100795746,
          -0.39844709634780884,
          -0.6248872876167297,
          -0.5715010166168213,
          -0.25969067215919495,
          -0.2234351634979248,
          -0.2914592921733856,
          -0.4464881122112274,
          -0.6010982990264893,
          -0.4300748407840729,
          -0.29492372274398804,
          -0.5372458100318909
         ],
         "xaxis": "x",
         "y": [
          -2.0448689460754395,
          -1.950671911239624,
          -1.9085910320281982,
          -1.9653507471084595,
          -1.9349536895751953,
          -1.8711415529251099,
          -2.0240516662597656,
          -1.9057221412658691,
          -1.8845901489257812,
          -1.926456093788147,
          -1.9295101165771484,
          -2.004904270172119,
          -1.9655404090881348,
          -1.8967941999435425,
          -1.9616754055023193
         ],
         "yaxis": "y"
        },
        {
         "hovertemplate": "Cluster=6<br>1st_component=%{x}<br>2nd_component=%{y}<br>Country=%{text}<extra></extra>",
         "legendgroup": "6",
         "marker": {
          "color": "#FF6692",
          "symbol": "circle"
         },
         "mode": "markers+text",
         "name": "6",
         "orientation": "v",
         "showlegend": true,
         "text": [
          "Barbados",
          "Cameroon",
          "Central African Republic",
          "Costa Rica",
          "Denmark",
          "Djibouti",
          "Egypt",
          "Haiti",
          "Japan",
          "Portugal",
          "Romania",
          "South Africa",
          "Sweden",
          "United States"
         ],
         "textposition": "top center",
         "type": "scatter",
         "x": [
          0.3614855110645294,
          0.3370158076286316,
          0.39108678698539734,
          0.2895563244819641,
          0.2805331349372864,
          0.3563470244407654,
          0.38965821266174316,
          0.39813196659088135,
          0.25239458680152893,
          0.294281929731369,
          0.357733815908432,
          0.31815749406814575,
          0.34067100286483765,
          0.34629958868026733
         ],
         "xaxis": "x",
         "y": [
          0.3565503656864166,
          0.3210373818874359,
          0.2959844470024109,
          0.7951061129570007,
          0.5505578517913818,
          0.29047346115112305,
          0.3324660658836365,
          0.3841732442378998,
          0.5856238603591919,
          0.5325276255607605,
          0.8167755007743835,
          0.7863553762435913,
          0.6989136934280396,
          0.6780193448066711
         ],
         "yaxis": "y"
        },
        {
         "hovertemplate": "Cluster=7<br>1st_component=%{x}<br>2nd_component=%{y}<br>Country=%{text}<extra></extra>",
         "legendgroup": "7",
         "marker": {
          "color": "#B6E880",
          "symbol": "circle"
         },
         "mode": "markers+text",
         "name": "7",
         "orientation": "v",
         "showlegend": true,
         "text": [
          "Bahrain",
          "Bangladesh",
          "Burundi",
          "Cambodia",
          "China",
          "Dominican Republic",
          "Kazakhstan",
          "Mali",
          "Mongolia",
          "Nicaragua",
          "Papua New Guinea",
          "Suriname",
          "Tajikistan",
          "Thailand",
          "Uganda",
          "Zambia"
         ],
         "textposition": "top center",
         "type": "scatter",
         "x": [
          1.6471128463745117,
          1.766277551651001,
          1.7044377326965332,
          1.7533010244369507,
          1.8520580530166626,
          1.8305305242538452,
          1.6455402374267578,
          1.67792809009552,
          1.6320785284042358,
          1.8606207370758057,
          1.5992215871810913,
          1.641218662261963,
          1.6726878881454468,
          1.6766146421432495,
          1.7212532758712769,
          1.6257693767547607
         ],
         "xaxis": "x",
         "y": [
          0.46199166774749756,
          0.5343429446220398,
          0.5171398520469666,
          0.5557944774627686,
          0.421435683965683,
          0.4064974784851074,
          0.3106401562690735,
          0.35917308926582336,
          0.34062787890434265,
          0.37955614924430847,
          0.3039291799068451,
          0.17416979372501373,
          0.46867072582244873,
          0.3955194354057312,
          0.34000298380851746,
          0.18742519617080688
         ],
         "yaxis": "y"
        }
       ],
       "layout": {
        "legend": {
         "title": {
          "text": "Cluster"
         },
         "tracegroupgap": 0
        },
        "margin": {
         "t": 60
        },
        "template": {
         "data": {
          "bar": [
           {
            "error_x": {
             "color": "#2a3f5f"
            },
            "error_y": {
             "color": "#2a3f5f"
            },
            "marker": {
             "line": {
              "color": "#E5ECF6",
              "width": 0.5
             },
             "pattern": {
              "fillmode": "overlay",
              "size": 10,
              "solidity": 0.2
             }
            },
            "type": "bar"
           }
          ],
          "barpolar": [
           {
            "marker": {
             "line": {
              "color": "#E5ECF6",
              "width": 0.5
             },
             "pattern": {
              "fillmode": "overlay",
              "size": 10,
              "solidity": 0.2
             }
            },
            "type": "barpolar"
           }
          ],
          "carpet": [
           {
            "aaxis": {
             "endlinecolor": "#2a3f5f",
             "gridcolor": "white",
             "linecolor": "white",
             "minorgridcolor": "white",
             "startlinecolor": "#2a3f5f"
            },
            "baxis": {
             "endlinecolor": "#2a3f5f",
             "gridcolor": "white",
             "linecolor": "white",
             "minorgridcolor": "white",
             "startlinecolor": "#2a3f5f"
            },
            "type": "carpet"
           }
          ],
          "choropleth": [
           {
            "colorbar": {
             "outlinewidth": 0,
             "ticks": ""
            },
            "type": "choropleth"
           }
          ],
          "contour": [
           {
            "colorbar": {
             "outlinewidth": 0,
             "ticks": ""
            },
            "colorscale": [
             [
              0,
              "#0d0887"
             ],
             [
              0.1111111111111111,
              "#46039f"
             ],
             [
              0.2222222222222222,
              "#7201a8"
             ],
             [
              0.3333333333333333,
              "#9c179e"
             ],
             [
              0.4444444444444444,
              "#bd3786"
             ],
             [
              0.5555555555555556,
              "#d8576b"
             ],
             [
              0.6666666666666666,
              "#ed7953"
             ],
             [
              0.7777777777777778,
              "#fb9f3a"
             ],
             [
              0.8888888888888888,
              "#fdca26"
             ],
             [
              1,
              "#f0f921"
             ]
            ],
            "type": "contour"
           }
          ],
          "contourcarpet": [
           {
            "colorbar": {
             "outlinewidth": 0,
             "ticks": ""
            },
            "type": "contourcarpet"
           }
          ],
          "heatmap": [
           {
            "colorbar": {
             "outlinewidth": 0,
             "ticks": ""
            },
            "colorscale": [
             [
              0,
              "#0d0887"
             ],
             [
              0.1111111111111111,
              "#46039f"
             ],
             [
              0.2222222222222222,
              "#7201a8"
             ],
             [
              0.3333333333333333,
              "#9c179e"
             ],
             [
              0.4444444444444444,
              "#bd3786"
             ],
             [
              0.5555555555555556,
              "#d8576b"
             ],
             [
              0.6666666666666666,
              "#ed7953"
             ],
             [
              0.7777777777777778,
              "#fb9f3a"
             ],
             [
              0.8888888888888888,
              "#fdca26"
             ],
             [
              1,
              "#f0f921"
             ]
            ],
            "type": "heatmap"
           }
          ],
          "heatmapgl": [
           {
            "colorbar": {
             "outlinewidth": 0,
             "ticks": ""
            },
            "colorscale": [
             [
              0,
              "#0d0887"
             ],
             [
              0.1111111111111111,
              "#46039f"
             ],
             [
              0.2222222222222222,
              "#7201a8"
             ],
             [
              0.3333333333333333,
              "#9c179e"
             ],
             [
              0.4444444444444444,
              "#bd3786"
             ],
             [
              0.5555555555555556,
              "#d8576b"
             ],
             [
              0.6666666666666666,
              "#ed7953"
             ],
             [
              0.7777777777777778,
              "#fb9f3a"
             ],
             [
              0.8888888888888888,
              "#fdca26"
             ],
             [
              1,
              "#f0f921"
             ]
            ],
            "type": "heatmapgl"
           }
          ],
          "histogram": [
           {
            "marker": {
             "pattern": {
              "fillmode": "overlay",
              "size": 10,
              "solidity": 0.2
             }
            },
            "type": "histogram"
           }
          ],
          "histogram2d": [
           {
            "colorbar": {
             "outlinewidth": 0,
             "ticks": ""
            },
            "colorscale": [
             [
              0,
              "#0d0887"
             ],
             [
              0.1111111111111111,
              "#46039f"
             ],
             [
              0.2222222222222222,
              "#7201a8"
             ],
             [
              0.3333333333333333,
              "#9c179e"
             ],
             [
              0.4444444444444444,
              "#bd3786"
             ],
             [
              0.5555555555555556,
              "#d8576b"
             ],
             [
              0.6666666666666666,
              "#ed7953"
             ],
             [
              0.7777777777777778,
              "#fb9f3a"
             ],
             [
              0.8888888888888888,
              "#fdca26"
             ],
             [
              1,
              "#f0f921"
             ]
            ],
            "type": "histogram2d"
           }
          ],
          "histogram2dcontour": [
           {
            "colorbar": {
             "outlinewidth": 0,
             "ticks": ""
            },
            "colorscale": [
             [
              0,
              "#0d0887"
             ],
             [
              0.1111111111111111,
              "#46039f"
             ],
             [
              0.2222222222222222,
              "#7201a8"
             ],
             [
              0.3333333333333333,
              "#9c179e"
             ],
             [
              0.4444444444444444,
              "#bd3786"
             ],
             [
              0.5555555555555556,
              "#d8576b"
             ],
             [
              0.6666666666666666,
              "#ed7953"
             ],
             [
              0.7777777777777778,
              "#fb9f3a"
             ],
             [
              0.8888888888888888,
              "#fdca26"
             ],
             [
              1,
              "#f0f921"
             ]
            ],
            "type": "histogram2dcontour"
           }
          ],
          "mesh3d": [
           {
            "colorbar": {
             "outlinewidth": 0,
             "ticks": ""
            },
            "type": "mesh3d"
           }
          ],
          "parcoords": [
           {
            "line": {
             "colorbar": {
              "outlinewidth": 0,
              "ticks": ""
             }
            },
            "type": "parcoords"
           }
          ],
          "pie": [
           {
            "automargin": true,
            "type": "pie"
           }
          ],
          "scatter": [
           {
            "fillpattern": {
             "fillmode": "overlay",
             "size": 10,
             "solidity": 0.2
            },
            "type": "scatter"
           }
          ],
          "scatter3d": [
           {
            "line": {
             "colorbar": {
              "outlinewidth": 0,
              "ticks": ""
             }
            },
            "marker": {
             "colorbar": {
              "outlinewidth": 0,
              "ticks": ""
             }
            },
            "type": "scatter3d"
           }
          ],
          "scattercarpet": [
           {
            "marker": {
             "colorbar": {
              "outlinewidth": 0,
              "ticks": ""
             }
            },
            "type": "scattercarpet"
           }
          ],
          "scattergeo": [
           {
            "marker": {
             "colorbar": {
              "outlinewidth": 0,
              "ticks": ""
             }
            },
            "type": "scattergeo"
           }
          ],
          "scattergl": [
           {
            "marker": {
             "colorbar": {
              "outlinewidth": 0,
              "ticks": ""
             }
            },
            "type": "scattergl"
           }
          ],
          "scattermapbox": [
           {
            "marker": {
             "colorbar": {
              "outlinewidth": 0,
              "ticks": ""
             }
            },
            "type": "scattermapbox"
           }
          ],
          "scatterpolar": [
           {
            "marker": {
             "colorbar": {
              "outlinewidth": 0,
              "ticks": ""
             }
            },
            "type": "scatterpolar"
           }
          ],
          "scatterpolargl": [
           {
            "marker": {
             "colorbar": {
              "outlinewidth": 0,
              "ticks": ""
             }
            },
            "type": "scatterpolargl"
           }
          ],
          "scatterternary": [
           {
            "marker": {
             "colorbar": {
              "outlinewidth": 0,
              "ticks": ""
             }
            },
            "type": "scatterternary"
           }
          ],
          "surface": [
           {
            "colorbar": {
             "outlinewidth": 0,
             "ticks": ""
            },
            "colorscale": [
             [
              0,
              "#0d0887"
             ],
             [
              0.1111111111111111,
              "#46039f"
             ],
             [
              0.2222222222222222,
              "#7201a8"
             ],
             [
              0.3333333333333333,
              "#9c179e"
             ],
             [
              0.4444444444444444,
              "#bd3786"
             ],
             [
              0.5555555555555556,
              "#d8576b"
             ],
             [
              0.6666666666666666,
              "#ed7953"
             ],
             [
              0.7777777777777778,
              "#fb9f3a"
             ],
             [
              0.8888888888888888,
              "#fdca26"
             ],
             [
              1,
              "#f0f921"
             ]
            ],
            "type": "surface"
           }
          ],
          "table": [
           {
            "cells": {
             "fill": {
              "color": "#EBF0F8"
             },
             "line": {
              "color": "white"
             }
            },
            "header": {
             "fill": {
              "color": "#C8D4E3"
             },
             "line": {
              "color": "white"
             }
            },
            "type": "table"
           }
          ]
         },
         "layout": {
          "annotationdefaults": {
           "arrowcolor": "#2a3f5f",
           "arrowhead": 0,
           "arrowwidth": 1
          },
          "autotypenumbers": "strict",
          "coloraxis": {
           "colorbar": {
            "outlinewidth": 0,
            "ticks": ""
           }
          },
          "colorscale": {
           "diverging": [
            [
             0,
             "#8e0152"
            ],
            [
             0.1,
             "#c51b7d"
            ],
            [
             0.2,
             "#de77ae"
            ],
            [
             0.3,
             "#f1b6da"
            ],
            [
             0.4,
             "#fde0ef"
            ],
            [
             0.5,
             "#f7f7f7"
            ],
            [
             0.6,
             "#e6f5d0"
            ],
            [
             0.7,
             "#b8e186"
            ],
            [
             0.8,
             "#7fbc41"
            ],
            [
             0.9,
             "#4d9221"
            ],
            [
             1,
             "#276419"
            ]
           ],
           "sequential": [
            [
             0,
             "#0d0887"
            ],
            [
             0.1111111111111111,
             "#46039f"
            ],
            [
             0.2222222222222222,
             "#7201a8"
            ],
            [
             0.3333333333333333,
             "#9c179e"
            ],
            [
             0.4444444444444444,
             "#bd3786"
            ],
            [
             0.5555555555555556,
             "#d8576b"
            ],
            [
             0.6666666666666666,
             "#ed7953"
            ],
            [
             0.7777777777777778,
             "#fb9f3a"
            ],
            [
             0.8888888888888888,
             "#fdca26"
            ],
            [
             1,
             "#f0f921"
            ]
           ],
           "sequentialminus": [
            [
             0,
             "#0d0887"
            ],
            [
             0.1111111111111111,
             "#46039f"
            ],
            [
             0.2222222222222222,
             "#7201a8"
            ],
            [
             0.3333333333333333,
             "#9c179e"
            ],
            [
             0.4444444444444444,
             "#bd3786"
            ],
            [
             0.5555555555555556,
             "#d8576b"
            ],
            [
             0.6666666666666666,
             "#ed7953"
            ],
            [
             0.7777777777777778,
             "#fb9f3a"
            ],
            [
             0.8888888888888888,
             "#fdca26"
            ],
            [
             1,
             "#f0f921"
            ]
           ]
          },
          "colorway": [
           "#636efa",
           "#EF553B",
           "#00cc96",
           "#ab63fa",
           "#FFA15A",
           "#19d3f3",
           "#FF6692",
           "#B6E880",
           "#FF97FF",
           "#FECB52"
          ],
          "font": {
           "color": "#2a3f5f"
          },
          "geo": {
           "bgcolor": "white",
           "lakecolor": "white",
           "landcolor": "#E5ECF6",
           "showlakes": true,
           "showland": true,
           "subunitcolor": "white"
          },
          "hoverlabel": {
           "align": "left"
          },
          "hovermode": "closest",
          "mapbox": {
           "style": "light"
          },
          "paper_bgcolor": "white",
          "plot_bgcolor": "#E5ECF6",
          "polar": {
           "angularaxis": {
            "gridcolor": "white",
            "linecolor": "white",
            "ticks": ""
           },
           "bgcolor": "#E5ECF6",
           "radialaxis": {
            "gridcolor": "white",
            "linecolor": "white",
            "ticks": ""
           }
          },
          "scene": {
           "xaxis": {
            "backgroundcolor": "#E5ECF6",
            "gridcolor": "white",
            "gridwidth": 2,
            "linecolor": "white",
            "showbackground": true,
            "ticks": "",
            "zerolinecolor": "white"
           },
           "yaxis": {
            "backgroundcolor": "#E5ECF6",
            "gridcolor": "white",
            "gridwidth": 2,
            "linecolor": "white",
            "showbackground": true,
            "ticks": "",
            "zerolinecolor": "white"
           },
           "zaxis": {
            "backgroundcolor": "#E5ECF6",
            "gridcolor": "white",
            "gridwidth": 2,
            "linecolor": "white",
            "showbackground": true,
            "ticks": "",
            "zerolinecolor": "white"
           }
          },
          "shapedefaults": {
           "line": {
            "color": "#2a3f5f"
           }
          },
          "ternary": {
           "aaxis": {
            "gridcolor": "white",
            "linecolor": "white",
            "ticks": ""
           },
           "baxis": {
            "gridcolor": "white",
            "linecolor": "white",
            "ticks": ""
           },
           "bgcolor": "#E5ECF6",
           "caxis": {
            "gridcolor": "white",
            "linecolor": "white",
            "ticks": ""
           }
          },
          "title": {
           "x": 0.05
          },
          "xaxis": {
           "automargin": true,
           "gridcolor": "white",
           "linecolor": "white",
           "ticks": "",
           "title": {
            "standoff": 15
           },
           "zerolinecolor": "white",
           "zerolinewidth": 2
          },
          "yaxis": {
           "automargin": true,
           "gridcolor": "white",
           "linecolor": "white",
           "ticks": "",
           "title": {
            "standoff": 15
           },
           "zerolinecolor": "white",
           "zerolinewidth": 2
          }
         }
        },
        "title": {
         "text": "Equality Indicators",
         "x": 0.5
        },
        "xaxis": {
         "anchor": "y",
         "domain": [
          0,
          1
         ],
         "title": {
          "text": "1st_component"
         }
        },
        "yaxis": {
         "anchor": "x",
         "domain": [
          0,
          1
         ],
         "title": {
          "text": "2nd_component"
         }
        }
       }
      }
     },
     "metadata": {},
     "output_type": "display_data"
    },
    {
     "data": {
      "application/vnd.plotly.v1+json": {
       "config": {
        "plotlyServerURL": "https://plot.ly"
       },
       "data": [
        {
         "hovertemplate": "Cluster=0<br>1st_component=%{x}<br>2nd_component=%{y}<br>Country=%{text}<extra></extra>",
         "legendgroup": "0",
         "marker": {
          "color": "#636efa",
          "symbol": "circle"
         },
         "mode": "markers+text",
         "name": "0",
         "orientation": "v",
         "showlegend": true,
         "text": [
          "Andorra",
          "Austria",
          "Bermuda",
          "Cayman Islands",
          "Congo",
          "Czechia",
          "Dominica",
          "Egypt",
          "Fiji",
          "French Polynesia",
          "Gambia",
          "Greece",
          "Greenland",
          "Grenada",
          "Italy",
          "Japan",
          "Kyrgyzstan",
          "Libya",
          "Marshall Islands",
          "Nauru",
          "New Caledonia",
          "Saint Lucia",
          "Seychelles",
          "Slovakia",
          "Trinidad and Tobago",
          "Tuvalu",
          "Yemen"
         ],
         "textposition": "top center",
         "type": "scatter",
         "x": [
          1.6680961847305298,
          1.2686406373977661,
          1.3205299377441406,
          1.6195857524871826,
          1.6258496046066284,
          1.5357390642166138,
          1.7479382753372192,
          1.7082643508911133,
          1.6762113571166992,
          1.391278624534607,
          1.6410536766052246,
          1.435259461402893,
          1.6480109691619873,
          1.7905789613723755,
          1.3583717346191406,
          1.4170957803726196,
          1.746666669845581,
          1.4466074705123901,
          1.9806888103485107,
          1.9434741735458374,
          1.701451301574707,
          1.513674020767212,
          1.7914791107177734,
          1.5668312311172485,
          2.017475128173828,
          1.9597382545471191,
          1.7845512628555298
         ],
         "xaxis": "x",
         "y": [
          0.13165414333343506,
          0.6802051067352295,
          -0.060835693031549454,
          0.02665473334491253,
          0.39517325162887573,
          0.4971778690814972,
          0.049595799297094345,
          0.4815966784954071,
          -0.43524235486984253,
          -0.0018752497853711247,
          0.32456618547439575,
          0.7130092978477478,
          -0.25682398676872253,
          -0.47472667694091797,
          0.6991901397705078,
          0.1393672078847885,
          0.3092259466648102,
          0.03792842850089073,
          -0.08793532103300095,
          0.19827964901924133,
          -0.28356513381004333,
          0.3917228579521179,
          -0.2766050696372986,
          0.21586903929710388,
          0.24958071112632751,
          -0.02964881993830204,
          0.4555685520172119
         ],
         "yaxis": "y"
        },
        {
         "hovertemplate": "Cluster=1<br>1st_component=%{x}<br>2nd_component=%{y}<br>Country=%{text}<extra></extra>",
         "legendgroup": "1",
         "marker": {
          "color": "#EF553B",
          "symbol": "circle"
         },
         "mode": "markers+text",
         "name": "1",
         "orientation": "v",
         "showlegend": true,
         "text": [
          "Antigua and Barbuda",
          "Aruba",
          "Barbados",
          "Cyprus",
          "El Salvador",
          "Guyana",
          "Liechtenstein",
          "Mauritius",
          "Mexico",
          "Puerto Rico",
          "Samoa",
          "Suriname",
          "Tonga",
          "Zimbabwe"
         ],
         "textposition": "top center",
         "type": "scatter",
         "x": [
          0.8446977138519287,
          0.935981035232544,
          0.8677529096603394,
          0.48815348744392395,
          1.3103277683258057,
          0.5382034182548523,
          0.9113082885742188,
          0.9888544082641602,
          1.4098213911056519,
          1.0768288373947144,
          0.4147587716579437,
          0.33767402172088623,
          1.240512490272522,
          0.4311487674713135
         ],
         "xaxis": "x",
         "y": [
          -0.4235806465148926,
          -0.3397658169269562,
          -0.49079325795173645,
          -0.59846031665802,
          -0.6359151601791382,
          -0.7105063199996948,
          -0.2707231640815735,
          -0.45599251985549927,
          -0.6523282527923584,
          -0.25450512766838074,
          -0.6937726140022278,
          -0.6168923377990723,
          -0.6307070255279541,
          -0.7820728421211243
         ],
         "yaxis": "y"
        },
        {
         "hovertemplate": "Cluster=2<br>1st_component=%{x}<br>2nd_component=%{y}<br>Country=%{text}<extra></extra>",
         "legendgroup": "2",
         "marker": {
          "color": "#00cc96",
          "symbol": "circle"
         },
         "mode": "markers+text",
         "name": "2",
         "orientation": "v",
         "showlegend": true,
         "text": [
          "Bhutan",
          "Brazil",
          "Burkina Faso",
          "Equatorial Guinea",
          "Eritrea",
          "Ghana",
          "Iraq",
          "Kuwait",
          "Lesotho",
          "Madagascar",
          "Malawi",
          "Maldives",
          "Mauritania",
          "Myanmar",
          "Nepal",
          "Niger",
          "Qatar",
          "Rwanda",
          "Saudi Arabia",
          "Sri Lanka",
          "Togo"
         ],
         "textposition": "top center",
         "type": "scatter",
         "x": [
          -0.7838602066040039,
          -0.5691865086555481,
          -0.8055903911590576,
          -0.39370018243789673,
          -0.3902270197868347,
          -0.6952447891235352,
          -0.42670801281929016,
          -0.32765135169029236,
          -0.29448291659355164,
          -0.61599200963974,
          -0.7812762260437012,
          -0.32950273156166077,
          -0.73729008436203,
          -0.825307309627533,
          -0.822956919670105,
          -0.4527222812175751,
          -0.6104361414909363,
          -0.5592128038406372,
          -0.6475425958633423,
          -0.5261522531509399,
          -0.7245994806289673
         ],
         "xaxis": "x",
         "y": [
          -0.46417438983917236,
          -0.704364538192749,
          -0.897975504398346,
          -0.6498620510101318,
          -0.9373568892478943,
          -0.2481744885444641,
          -0.5223553776741028,
          -0.8729811906814575,
          -0.6589963436126709,
          -0.7634820938110352,
          -0.5430868268013,
          -0.3637581169605255,
          -1.1132506132125854,
          -0.6823678612709045,
          -0.3566957116127014,
          -1.0352327823638916,
          -1.042377233505249,
          -1.0900816917419434,
          -0.941767692565918,
          -0.45154687762260437,
          -0.827957034111023
         ],
         "yaxis": "y"
        },
        {
         "hovertemplate": "Cluster=3<br>1st_component=%{x}<br>2nd_component=%{y}<br>Country=%{text}<extra></extra>",
         "legendgroup": "3",
         "marker": {
          "color": "#ab63fa",
          "symbol": "circle"
         },
         "mode": "markers+text",
         "name": "3",
         "orientation": "v",
         "showlegend": true,
         "text": [
          "Botswana",
          "Chile",
          "Colombia",
          "Costa Rica",
          "Cuba",
          "Ecuador",
          "Ireland",
          "Jamaica",
          "Malaysia",
          "Montenegro",
          "North Macedonia",
          "Panama",
          "Peru",
          "Philippines",
          "Singapore",
          "United Arab Emirates"
         ],
         "textposition": "top center",
         "type": "scatter",
         "x": [
          -0.7315583229064941,
          -0.42344555258750916,
          -0.524603009223938,
          -0.2921372354030609,
          -0.817413866519928,
          -0.5299040079116821,
          -0.7137258052825928,
          -0.7988120317459106,
          -0.7713136076927185,
          -0.885228157043457,
          -0.4911913275718689,
          -0.2835524082183838,
          -0.7534738183021545,
          -0.37406161427497864,
          -0.5490529537200928,
          -0.7732469439506531
         ],
         "xaxis": "x",
         "y": [
          0.8368237614631653,
          1.3599252700805664,
          1.1706959009170532,
          1.4904426336288452,
          1.3171181678771973,
          1.0304315090179443,
          0.9118286371231079,
          1.3918167352676392,
          1.2101813554763794,
          1.3436263799667358,
          1.5693153142929077,
          1.3065820932388306,
          1.0658851861953735,
          1.3923496007919312,
          1.6124556064605713,
          0.7262277603149414
         ],
         "yaxis": "y"
        },
        {
         "hovertemplate": "Cluster=4<br>1st_component=%{x}<br>2nd_component=%{y}<br>Country=%{text}<extra></extra>",
         "legendgroup": "4",
         "marker": {
          "color": "#FFA15A",
          "symbol": "circle"
         },
         "mode": "markers+text",
         "name": "4",
         "orientation": "v",
         "showlegend": true,
         "text": [
          "Cameroon",
          "China",
          "Ethiopia",
          "Guatemala",
          "Honduras",
          "India",
          "Indonesia",
          "Kenya",
          "Mali",
          "Pakistan",
          "Paraguay",
          "Thailand"
         ],
         "textposition": "top center",
         "type": "scatter",
         "x": [
          -0.6556997895240784,
          -1.2010120153427124,
          -0.710186243057251,
          -0.8243923187255859,
          -1.0033156871795654,
          -0.939685046672821,
          -1.020931363105774,
          -1.125259280204773,
          -0.5839950442314148,
          -1.039182186126709,
          -1.11663818359375,
          -1.2434675693511963
         ],
         "xaxis": "x",
         "y": [
          -0.059752728790044785,
          0.4321421682834625,
          -0.16713005304336548,
          0.6925987601280212,
          0.0081587890163064,
          0.21902203559875488,
          0.1866482049226761,
          -0.08622822910547256,
          0.041304100304841995,
          -0.048699527978897095,
          0.31498241424560547,
          0.4805774688720703
         ],
         "yaxis": "y"
        },
        {
         "hovertemplate": "Cluster=5<br>1st_component=%{x}<br>2nd_component=%{y}<br>Country=%{text}<extra></extra>",
         "legendgroup": "5",
         "marker": {
          "color": "#19d3f3",
          "symbol": "circle"
         },
         "mode": "markers+text",
         "name": "5",
         "orientation": "v",
         "showlegend": true,
         "text": [
          "Albania",
          "Armenia",
          "Belarus",
          "Bosnia and Herzegovina",
          "Croatia",
          "Estonia",
          "Georgia",
          "Latvia",
          "Lithuania",
          "Palau",
          "Poland",
          "Romania",
          "Russia",
          "Serbia",
          "Ukraine"
         ],
         "textposition": "top center",
         "type": "scatter",
         "x": [
          0.6846096515655518,
          1.1842067241668701,
          0.8515847325325012,
          0.6289491057395935,
          0.9806760549545288,
          1.0656452178955078,
          1.0094507932662964,
          1.0712069272994995,
          0.986595630645752,
          0.9467213749885559,
          1.1622461080551147,
          0.7345089316368103,
          0.812683641910553,
          0.6473446488380432,
          1.0790549516677856
         ],
         "xaxis": "x",
         "y": [
          1.7338604927062988,
          1.7721229791641235,
          2.0328426361083984,
          1.7003806829452515,
          1.6771610975265503,
          1.980407953262329,
          1.4990901947021484,
          1.8108060359954834,
          1.8264917135238647,
          1.6173837184906006,
          1.875191569328308,
          1.6442261934280396,
          2.0821304321289062,
          1.5710021257400513,
          1.5835107564926147
         ],
         "yaxis": "y"
        },
        {
         "hovertemplate": "Cluster=6<br>1st_component=%{x}<br>2nd_component=%{y}<br>Country=%{text}<extra></extra>",
         "legendgroup": "6",
         "marker": {
          "color": "#FF6692",
          "symbol": "circle"
         },
         "mode": "markers+text",
         "name": "6",
         "orientation": "v",
         "showlegend": true,
         "text": [
          "Belize",
          "Burundi",
          "Denmark",
          "Dominican Republic",
          "Iceland",
          "Nicaragua",
          "Norway",
          "South Africa",
          "Sweden",
          "Tajikistan",
          "Uruguay"
         ],
         "textposition": "top center",
         "type": "scatter",
         "x": [
          0.08514565229415894,
          -0.28428441286087036,
          -0.21786320209503174,
          -0.24662256240844727,
          -0.024280976504087448,
          -0.27393844723701477,
          -0.15111705660820007,
          -0.04347788169980049,
          -0.1630750149488449,
          -0.1884298473596573,
          0.04913999140262604
         ],
         "xaxis": "x",
         "y": [
          -0.5198966264724731,
          0.30595970153808594,
          0.1661442667245865,
          0.5343202948570251,
          0.1380118578672409,
          0.4408634305000305,
          0.09001028537750244,
          -0.05086455121636391,
          -0.08206276595592499,
          0.029137497767806053,
          0.20062467455863953
         ],
         "yaxis": "y"
        },
        {
         "hovertemplate": "Cluster=7<br>1st_component=%{x}<br>2nd_component=%{y}<br>Country=%{text}<extra></extra>",
         "legendgroup": "7",
         "marker": {
          "color": "#B6E880",
          "symbol": "circle"
         },
         "mode": "markers+text",
         "name": "7",
         "orientation": "v",
         "showlegend": true,
         "text": [
          "Algeria",
          "Argentina",
          "Azerbaijan",
          "Bahrain",
          "Bangladesh",
          "Cambodia",
          "Djibouti",
          "Guinea",
          "Kazakhstan",
          "Lebanon",
          "Luxembourg",
          "Mongolia",
          "Morocco",
          "Namibia",
          "Oman",
          "Papua New Guinea",
          "Tunisia",
          "Uganda",
          "Zambia"
         ],
         "textposition": "top center",
         "type": "scatter",
         "x": [
          0.20408348739147186,
          -0.5829566121101379,
          -0.39071616530418396,
          -0.8513616323471069,
          -0.7724084854125977,
          -0.6709761023521423,
          -0.796701967716217,
          -0.35413071513175964,
          -0.466467022895813,
          0.21995662152767181,
          -0.041496243327856064,
          -0.506325364112854,
          -0.40709125995635986,
          -0.14845837652683258,
          -0.30562740564346313,
          -0.9583780169487,
          0.28733566403388977,
          -0.7134401798248291,
          -0.6022545099258423
         ],
         "xaxis": "x",
         "y": [
          -1.8814564943313599,
          -1.4476454257965088,
          -1.9950202703475952,
          -1.329908013343811,
          -1.5382431745529175,
          -1.5251001119613647,
          -1.2236207723617554,
          -1.2933176755905151,
          -1.9832245111465454,
          -1.8084152936935425,
          -1.0178419351577759,
          -2.031529664993286,
          -1.2298376560211182,
          -1.0442240238189697,
          -1.4279664754867554,
          -1.3897401094436646,
          -1.8438509702682495,
          -1.306915521621704,
          -1.2616199254989624
         ],
         "yaxis": "y"
        },
        {
         "hovertemplate": "Cluster=8<br>1st_component=%{x}<br>2nd_component=%{y}<br>Country=%{text}<extra></extra>",
         "legendgroup": "8",
         "marker": {
          "color": "#FF97FF",
          "symbol": "circle"
         },
         "mode": "markers+text",
         "name": "8",
         "orientation": "v",
         "showlegend": true,
         "text": [
          "Afghanistan",
          "Angola",
          "Benin",
          "Central African Republic",
          "Chad",
          "Comoros",
          "Eswatini",
          "Gabon",
          "Guinea-Bissau",
          "Haiti",
          "Jordan",
          "Kiribati",
          "Liberia",
          "Mozambique",
          "Nigeria",
          "Sao Tome and Principe",
          "Senegal",
          "Sierra Leone",
          "Solomon Islands",
          "Turkmenistan",
          "Uzbekistan",
          "Vanuatu"
         ],
         "textposition": "top center",
         "type": "scatter",
         "x": [
          -1.2592833042144775,
          -1.4121005535125732,
          -1.6220191717147827,
          -1.155409812927246,
          -1.5608307123184204,
          -1.335304856300354,
          -1.2711384296417236,
          -1.127901315689087,
          -1.5407483577728271,
          -1.1016335487365723,
          -1.5150604248046875,
          -1.6430444717407227,
          -1.4918336868286133,
          -1.5866729021072388,
          -1.2556599378585815,
          -1.196368932723999,
          -1.581020712852478,
          -1.5948415994644165,
          -1.318185806274414,
          -1.297308325767517,
          -1.0748684406280518,
          -1.6558510065078735
         ],
         "xaxis": "x",
         "y": [
          -0.482746422290802,
          -0.654983639717102,
          -0.34829190373420715,
          -1.3656272888183594,
          -0.5140101313591003,
          -0.39575278759002686,
          -0.5663492679595947,
          -0.9695528149604797,
          -1.4800945520401,
          -1.3939216136932373,
          -0.7190982103347778,
          -0.4864197075366974,
          -1.1350609064102173,
          -1.122986912727356,
          -0.8957975506782532,
          -0.44118374586105347,
          -1.4349738359451294,
          -0.4339390695095062,
          -0.8426187634468079,
          -0.9764282703399658,
          -1.0126996040344238,
          -1.1032558679580688
         ],
         "yaxis": "y"
        },
        {
         "hovertemplate": "Cluster=9<br>1st_component=%{x}<br>2nd_component=%{y}<br>Country=%{text}<extra></extra>",
         "legendgroup": "9",
         "marker": {
          "color": "#FECB52",
          "symbol": "circle"
         },
         "mode": "markers+text",
         "name": "9",
         "orientation": "v",
         "showlegend": true,
         "text": [
          "Australia",
          "Belgium",
          "Bulgaria",
          "Canada",
          "Finland",
          "France",
          "Germany",
          "Hungary",
          "Israel",
          "Malta",
          "Netherlands",
          "New Zealand",
          "Portugal",
          "Slovenia",
          "Spain",
          "Switzerland",
          "United Kingdom",
          "United States"
         ],
         "textposition": "top center",
         "type": "scatter",
         "x": [
          0.2965657114982605,
          0.3523608148097992,
          0.35390278697013855,
          0.24967746436595917,
          -0.023138409480452538,
          0.21617262065410614,
          0.3237774074077606,
          0.34038227796554565,
          -0.13354311883449554,
          0.015508745796978474,
          0.07931754738092422,
          -0.001057655899785459,
          0.2509815990924835,
          -0.02796059288084507,
          0.26398375630378723,
          0.4260600507259369,
          0.21719393134117126,
          0.2625977098941803
         ],
         "xaxis": "x",
         "y": [
          0.9761298298835754,
          0.8088726997375488,
          1.336243987083435,
          0.6357645392417908,
          0.9009473323822021,
          0.75086510181427,
          1.2236559391021729,
          1.4331268072128296,
          0.7320537567138672,
          0.6383511424064636,
          0.7631925940513611,
          0.7644428014755249,
          1.4996427297592163,
          0.9924179315567017,
          0.871090829372406,
          0.7882528901100159,
          0.9348058700561523,
          0.5319808125495911
         ],
         "yaxis": "y"
        }
       ],
       "layout": {
        "legend": {
         "title": {
          "text": "Cluster"
         },
         "tracegroupgap": 0
        },
        "margin": {
         "t": 60
        },
        "template": {
         "data": {
          "bar": [
           {
            "error_x": {
             "color": "#2a3f5f"
            },
            "error_y": {
             "color": "#2a3f5f"
            },
            "marker": {
             "line": {
              "color": "#E5ECF6",
              "width": 0.5
             },
             "pattern": {
              "fillmode": "overlay",
              "size": 10,
              "solidity": 0.2
             }
            },
            "type": "bar"
           }
          ],
          "barpolar": [
           {
            "marker": {
             "line": {
              "color": "#E5ECF6",
              "width": 0.5
             },
             "pattern": {
              "fillmode": "overlay",
              "size": 10,
              "solidity": 0.2
             }
            },
            "type": "barpolar"
           }
          ],
          "carpet": [
           {
            "aaxis": {
             "endlinecolor": "#2a3f5f",
             "gridcolor": "white",
             "linecolor": "white",
             "minorgridcolor": "white",
             "startlinecolor": "#2a3f5f"
            },
            "baxis": {
             "endlinecolor": "#2a3f5f",
             "gridcolor": "white",
             "linecolor": "white",
             "minorgridcolor": "white",
             "startlinecolor": "#2a3f5f"
            },
            "type": "carpet"
           }
          ],
          "choropleth": [
           {
            "colorbar": {
             "outlinewidth": 0,
             "ticks": ""
            },
            "type": "choropleth"
           }
          ],
          "contour": [
           {
            "colorbar": {
             "outlinewidth": 0,
             "ticks": ""
            },
            "colorscale": [
             [
              0,
              "#0d0887"
             ],
             [
              0.1111111111111111,
              "#46039f"
             ],
             [
              0.2222222222222222,
              "#7201a8"
             ],
             [
              0.3333333333333333,
              "#9c179e"
             ],
             [
              0.4444444444444444,
              "#bd3786"
             ],
             [
              0.5555555555555556,
              "#d8576b"
             ],
             [
              0.6666666666666666,
              "#ed7953"
             ],
             [
              0.7777777777777778,
              "#fb9f3a"
             ],
             [
              0.8888888888888888,
              "#fdca26"
             ],
             [
              1,
              "#f0f921"
             ]
            ],
            "type": "contour"
           }
          ],
          "contourcarpet": [
           {
            "colorbar": {
             "outlinewidth": 0,
             "ticks": ""
            },
            "type": "contourcarpet"
           }
          ],
          "heatmap": [
           {
            "colorbar": {
             "outlinewidth": 0,
             "ticks": ""
            },
            "colorscale": [
             [
              0,
              "#0d0887"
             ],
             [
              0.1111111111111111,
              "#46039f"
             ],
             [
              0.2222222222222222,
              "#7201a8"
             ],
             [
              0.3333333333333333,
              "#9c179e"
             ],
             [
              0.4444444444444444,
              "#bd3786"
             ],
             [
              0.5555555555555556,
              "#d8576b"
             ],
             [
              0.6666666666666666,
              "#ed7953"
             ],
             [
              0.7777777777777778,
              "#fb9f3a"
             ],
             [
              0.8888888888888888,
              "#fdca26"
             ],
             [
              1,
              "#f0f921"
             ]
            ],
            "type": "heatmap"
           }
          ],
          "heatmapgl": [
           {
            "colorbar": {
             "outlinewidth": 0,
             "ticks": ""
            },
            "colorscale": [
             [
              0,
              "#0d0887"
             ],
             [
              0.1111111111111111,
              "#46039f"
             ],
             [
              0.2222222222222222,
              "#7201a8"
             ],
             [
              0.3333333333333333,
              "#9c179e"
             ],
             [
              0.4444444444444444,
              "#bd3786"
             ],
             [
              0.5555555555555556,
              "#d8576b"
             ],
             [
              0.6666666666666666,
              "#ed7953"
             ],
             [
              0.7777777777777778,
              "#fb9f3a"
             ],
             [
              0.8888888888888888,
              "#fdca26"
             ],
             [
              1,
              "#f0f921"
             ]
            ],
            "type": "heatmapgl"
           }
          ],
          "histogram": [
           {
            "marker": {
             "pattern": {
              "fillmode": "overlay",
              "size": 10,
              "solidity": 0.2
             }
            },
            "type": "histogram"
           }
          ],
          "histogram2d": [
           {
            "colorbar": {
             "outlinewidth": 0,
             "ticks": ""
            },
            "colorscale": [
             [
              0,
              "#0d0887"
             ],
             [
              0.1111111111111111,
              "#46039f"
             ],
             [
              0.2222222222222222,
              "#7201a8"
             ],
             [
              0.3333333333333333,
              "#9c179e"
             ],
             [
              0.4444444444444444,
              "#bd3786"
             ],
             [
              0.5555555555555556,
              "#d8576b"
             ],
             [
              0.6666666666666666,
              "#ed7953"
             ],
             [
              0.7777777777777778,
              "#fb9f3a"
             ],
             [
              0.8888888888888888,
              "#fdca26"
             ],
             [
              1,
              "#f0f921"
             ]
            ],
            "type": "histogram2d"
           }
          ],
          "histogram2dcontour": [
           {
            "colorbar": {
             "outlinewidth": 0,
             "ticks": ""
            },
            "colorscale": [
             [
              0,
              "#0d0887"
             ],
             [
              0.1111111111111111,
              "#46039f"
             ],
             [
              0.2222222222222222,
              "#7201a8"
             ],
             [
              0.3333333333333333,
              "#9c179e"
             ],
             [
              0.4444444444444444,
              "#bd3786"
             ],
             [
              0.5555555555555556,
              "#d8576b"
             ],
             [
              0.6666666666666666,
              "#ed7953"
             ],
             [
              0.7777777777777778,
              "#fb9f3a"
             ],
             [
              0.8888888888888888,
              "#fdca26"
             ],
             [
              1,
              "#f0f921"
             ]
            ],
            "type": "histogram2dcontour"
           }
          ],
          "mesh3d": [
           {
            "colorbar": {
             "outlinewidth": 0,
             "ticks": ""
            },
            "type": "mesh3d"
           }
          ],
          "parcoords": [
           {
            "line": {
             "colorbar": {
              "outlinewidth": 0,
              "ticks": ""
             }
            },
            "type": "parcoords"
           }
          ],
          "pie": [
           {
            "automargin": true,
            "type": "pie"
           }
          ],
          "scatter": [
           {
            "fillpattern": {
             "fillmode": "overlay",
             "size": 10,
             "solidity": 0.2
            },
            "type": "scatter"
           }
          ],
          "scatter3d": [
           {
            "line": {
             "colorbar": {
              "outlinewidth": 0,
              "ticks": ""
             }
            },
            "marker": {
             "colorbar": {
              "outlinewidth": 0,
              "ticks": ""
             }
            },
            "type": "scatter3d"
           }
          ],
          "scattercarpet": [
           {
            "marker": {
             "colorbar": {
              "outlinewidth": 0,
              "ticks": ""
             }
            },
            "type": "scattercarpet"
           }
          ],
          "scattergeo": [
           {
            "marker": {
             "colorbar": {
              "outlinewidth": 0,
              "ticks": ""
             }
            },
            "type": "scattergeo"
           }
          ],
          "scattergl": [
           {
            "marker": {
             "colorbar": {
              "outlinewidth": 0,
              "ticks": ""
             }
            },
            "type": "scattergl"
           }
          ],
          "scattermapbox": [
           {
            "marker": {
             "colorbar": {
              "outlinewidth": 0,
              "ticks": ""
             }
            },
            "type": "scattermapbox"
           }
          ],
          "scatterpolar": [
           {
            "marker": {
             "colorbar": {
              "outlinewidth": 0,
              "ticks": ""
             }
            },
            "type": "scatterpolar"
           }
          ],
          "scatterpolargl": [
           {
            "marker": {
             "colorbar": {
              "outlinewidth": 0,
              "ticks": ""
             }
            },
            "type": "scatterpolargl"
           }
          ],
          "scatterternary": [
           {
            "marker": {
             "colorbar": {
              "outlinewidth": 0,
              "ticks": ""
             }
            },
            "type": "scatterternary"
           }
          ],
          "surface": [
           {
            "colorbar": {
             "outlinewidth": 0,
             "ticks": ""
            },
            "colorscale": [
             [
              0,
              "#0d0887"
             ],
             [
              0.1111111111111111,
              "#46039f"
             ],
             [
              0.2222222222222222,
              "#7201a8"
             ],
             [
              0.3333333333333333,
              "#9c179e"
             ],
             [
              0.4444444444444444,
              "#bd3786"
             ],
             [
              0.5555555555555556,
              "#d8576b"
             ],
             [
              0.6666666666666666,
              "#ed7953"
             ],
             [
              0.7777777777777778,
              "#fb9f3a"
             ],
             [
              0.8888888888888888,
              "#fdca26"
             ],
             [
              1,
              "#f0f921"
             ]
            ],
            "type": "surface"
           }
          ],
          "table": [
           {
            "cells": {
             "fill": {
              "color": "#EBF0F8"
             },
             "line": {
              "color": "white"
             }
            },
            "header": {
             "fill": {
              "color": "#C8D4E3"
             },
             "line": {
              "color": "white"
             }
            },
            "type": "table"
           }
          ]
         },
         "layout": {
          "annotationdefaults": {
           "arrowcolor": "#2a3f5f",
           "arrowhead": 0,
           "arrowwidth": 1
          },
          "autotypenumbers": "strict",
          "coloraxis": {
           "colorbar": {
            "outlinewidth": 0,
            "ticks": ""
           }
          },
          "colorscale": {
           "diverging": [
            [
             0,
             "#8e0152"
            ],
            [
             0.1,
             "#c51b7d"
            ],
            [
             0.2,
             "#de77ae"
            ],
            [
             0.3,
             "#f1b6da"
            ],
            [
             0.4,
             "#fde0ef"
            ],
            [
             0.5,
             "#f7f7f7"
            ],
            [
             0.6,
             "#e6f5d0"
            ],
            [
             0.7,
             "#b8e186"
            ],
            [
             0.8,
             "#7fbc41"
            ],
            [
             0.9,
             "#4d9221"
            ],
            [
             1,
             "#276419"
            ]
           ],
           "sequential": [
            [
             0,
             "#0d0887"
            ],
            [
             0.1111111111111111,
             "#46039f"
            ],
            [
             0.2222222222222222,
             "#7201a8"
            ],
            [
             0.3333333333333333,
             "#9c179e"
            ],
            [
             0.4444444444444444,
             "#bd3786"
            ],
            [
             0.5555555555555556,
             "#d8576b"
            ],
            [
             0.6666666666666666,
             "#ed7953"
            ],
            [
             0.7777777777777778,
             "#fb9f3a"
            ],
            [
             0.8888888888888888,
             "#fdca26"
            ],
            [
             1,
             "#f0f921"
            ]
           ],
           "sequentialminus": [
            [
             0,
             "#0d0887"
            ],
            [
             0.1111111111111111,
             "#46039f"
            ],
            [
             0.2222222222222222,
             "#7201a8"
            ],
            [
             0.3333333333333333,
             "#9c179e"
            ],
            [
             0.4444444444444444,
             "#bd3786"
            ],
            [
             0.5555555555555556,
             "#d8576b"
            ],
            [
             0.6666666666666666,
             "#ed7953"
            ],
            [
             0.7777777777777778,
             "#fb9f3a"
            ],
            [
             0.8888888888888888,
             "#fdca26"
            ],
            [
             1,
             "#f0f921"
            ]
           ]
          },
          "colorway": [
           "#636efa",
           "#EF553B",
           "#00cc96",
           "#ab63fa",
           "#FFA15A",
           "#19d3f3",
           "#FF6692",
           "#B6E880",
           "#FF97FF",
           "#FECB52"
          ],
          "font": {
           "color": "#2a3f5f"
          },
          "geo": {
           "bgcolor": "white",
           "lakecolor": "white",
           "landcolor": "#E5ECF6",
           "showlakes": true,
           "showland": true,
           "subunitcolor": "white"
          },
          "hoverlabel": {
           "align": "left"
          },
          "hovermode": "closest",
          "mapbox": {
           "style": "light"
          },
          "paper_bgcolor": "white",
          "plot_bgcolor": "#E5ECF6",
          "polar": {
           "angularaxis": {
            "gridcolor": "white",
            "linecolor": "white",
            "ticks": ""
           },
           "bgcolor": "#E5ECF6",
           "radialaxis": {
            "gridcolor": "white",
            "linecolor": "white",
            "ticks": ""
           }
          },
          "scene": {
           "xaxis": {
            "backgroundcolor": "#E5ECF6",
            "gridcolor": "white",
            "gridwidth": 2,
            "linecolor": "white",
            "showbackground": true,
            "ticks": "",
            "zerolinecolor": "white"
           },
           "yaxis": {
            "backgroundcolor": "#E5ECF6",
            "gridcolor": "white",
            "gridwidth": 2,
            "linecolor": "white",
            "showbackground": true,
            "ticks": "",
            "zerolinecolor": "white"
           },
           "zaxis": {
            "backgroundcolor": "#E5ECF6",
            "gridcolor": "white",
            "gridwidth": 2,
            "linecolor": "white",
            "showbackground": true,
            "ticks": "",
            "zerolinecolor": "white"
           }
          },
          "shapedefaults": {
           "line": {
            "color": "#2a3f5f"
           }
          },
          "ternary": {
           "aaxis": {
            "gridcolor": "white",
            "linecolor": "white",
            "ticks": ""
           },
           "baxis": {
            "gridcolor": "white",
            "linecolor": "white",
            "ticks": ""
           },
           "bgcolor": "#E5ECF6",
           "caxis": {
            "gridcolor": "white",
            "linecolor": "white",
            "ticks": ""
           }
          },
          "title": {
           "x": 0.05
          },
          "xaxis": {
           "automargin": true,
           "gridcolor": "white",
           "linecolor": "white",
           "ticks": "",
           "title": {
            "standoff": 15
           },
           "zerolinecolor": "white",
           "zerolinewidth": 2
          },
          "yaxis": {
           "automargin": true,
           "gridcolor": "white",
           "linecolor": "white",
           "ticks": "",
           "title": {
            "standoff": 15
           },
           "zerolinecolor": "white",
           "zerolinewidth": 2
          }
         }
        },
        "title": {
         "text": "All indicators",
         "x": 0.5
        },
        "xaxis": {
         "anchor": "y",
         "domain": [
          0,
          1
         ],
         "title": {
          "text": "1st_component"
         }
        },
        "yaxis": {
         "anchor": "x",
         "domain": [
          0,
          1
         ],
         "title": {
          "text": "2nd_component"
         }
        }
       }
      }
     },
     "metadata": {},
     "output_type": "display_data"
    }
   ],
   "source": [
    "\n",
    "\n",
    "for ind in ind_dict:\n",
    "    df_norm = df_dict[ind]\n",
    "\n",
    "    # Apply the TSNE chosen for that indicator\n",
    "    df_tsne = pd.DataFrame(tsne_dict[ind].fit_transform(df_norm))\n",
    "\n",
    "    # Scale the result\n",
    "    scaled_df = pd.DataFrame(StandardScaler().fit_transform(df_tsne), index = df_norm.index, columns = [col_1comp, col_2comp])\n",
    "    \n",
    "    # Apply Affinity Propagation\n",
    "    affinity = afprop_dict[ind].fit(scaled_df)\n",
    "\n",
    "    # Update the DataFrame with the resulting Cluster labels\n",
    "    labels_affinity = affinity.labels_\n",
    "    df_dict[ind].loc[:, col_cluster] = labels_affinity\n",
    "    scaled_df[col_cluster] = labels_affinity\n",
    "    scaled_df[col_cluster] = scaled_df[col_cluster].astype(str)\n",
    "\n",
    "    # Show the resulting chart\n",
    "    fig = px.scatter(scaled_df, x = col_1comp, y = col_2comp, text = scaled_df.index, size_max=100, color=col_cluster, category_orders={col_cluster: sort(list(set(scaled_df.loc[:, col_cluster])))})\n",
    "    fig.update_layout(title_text=ind, title_x=0.5)\n",
    "    fig.update_traces(textposition='top center')\n",
    "    fig.show()"
   ]
  },
  {
   "cell_type": "markdown",
   "metadata": {},
   "source": [
    "## Widget Clustering\n",
    "\n",
    "In order to explore the clustering results given a country, we can choose that country and the group of indicators in the table below, to see what other countries are in the same cluster for the selected group of indicators."
   ]
  },
  {
   "cell_type": "code",
   "execution_count": 7,
   "metadata": {},
   "outputs": [
    {
     "data": {
      "application/vnd.jupyter.widget-view+json": {
       "model_id": "0eaddfd5a6d34146a5a56d3542529248",
       "version_major": 2,
       "version_minor": 0
      },
      "text/plain": [
       "interactive(children=(Dropdown(description='Indicators', options=('Economic Indicators', 'Social-demographic I…"
      ]
     },
     "metadata": {},
     "output_type": "display_data"
    }
   ],
   "source": [
    "def tableCountry(Ind, Country):\n",
    "    try:\n",
    "        # Find the cluster Country belongs to.\n",
    "        cluster_number = df_dict[Ind].loc[df_dict[Ind].index == Country, col_cluster].item()\n",
    "\n",
    "        # Retrieve the Dataframe with the selected indicators, and filter to only show the rows (countries) belonging to the cluster. Drop the cluster number column as it is redundant.\n",
    "        df_ind = df_dict[Ind]\n",
    "        df = df_ind.loc[df_ind[col_cluster] == cluster_number].drop(col_cluster, axis = 'columns')\n",
    "\n",
    "        # Format the Dataframe representation.\n",
    "        df_s = df.style\n",
    "        df_s.apply_index(lambda i: ['background-color: #aadfff; font-weight: 500' if c == Country else '' for c in i], axis = 0)\n",
    "        df_s.apply(lambda row: ['background-color: #ccebff;' if row.name == Country else '' for cell in row], axis = 1)\n",
    "        df_s.set_table_styles([{'selector': 'td:hover', 'props': [('background-color', '#ddfdff')]}])\n",
    "        tt = {}\n",
    "        for col in df.columns:\n",
    "            tt[col] = 'Column median: ' + str(df.loc[:, col].median())\n",
    "        df_s.set_tooltips(pd.DataFrame(tt, index = df.index))\n",
    "\n",
    "        # Display a short descriptive title and the Dataframe.\n",
    "        display(Country + ' belongs to Cluster ' + str(cluster_number) + '. This Cluster contains a total of ' + str(df.shape[0]) + ' countries.')\n",
    "        display(df_s)\n",
    "    except Exception:\n",
    "        return print('No indicators available for this country.')\n",
    "\n",
    "@interact(\n",
    "    Indicators = df_dict.keys(),\n",
    "    Country = sort(corr_df.index.tolist()))\n",
    "\n",
    "def g(Indicators = 'Equality indicators', Country = 'Afghanistan'):\n",
    "    return tableCountry(Indicators, Country)"
   ]
  },
  {
   "cell_type": "markdown",
   "metadata": {},
   "source": [
    "### SAVING CLUSTERING RESULTS\n",
    "\n",
    "We now write a .csv file for each group of indicators and the clusters each countries belongs to. By default, we sort the rows by cluster."
   ]
  },
  {
   "cell_type": "code",
   "execution_count": 11,
   "metadata": {},
   "outputs": [
    {
     "name": "stdout",
     "output_type": "stream",
     "text": [
      "Economic Indicators\n"
     ]
    },
    {
     "data": {
      "text/html": [
       "<div>\n",
       "<style scoped>\n",
       "    .dataframe tbody tr th:only-of-type {\n",
       "        vertical-align: middle;\n",
       "    }\n",
       "\n",
       "    .dataframe tbody tr th {\n",
       "        vertical-align: top;\n",
       "    }\n",
       "\n",
       "    .dataframe thead th {\n",
       "        text-align: right;\n",
       "    }\n",
       "</style>\n",
       "<table border=\"1\" class=\"dataframe\">\n",
       "  <thead>\n",
       "    <tr style=\"text-align: right;\">\n",
       "      <th></th>\n",
       "      <th></th>\n",
       "      <th>AgriShareGDP</th>\n",
       "      <th>CreditToAgriFishForest</th>\n",
       "      <th>EmploymentRural</th>\n",
       "      <th>TotalAgri</th>\n",
       "      <th>% Soldiers</th>\n",
       "      <th>% Healthcare Investment</th>\n",
       "      <th>% Employment Industry</th>\n",
       "      <th>% Education Expenditure</th>\n",
       "    </tr>\n",
       "    <tr>\n",
       "      <th>Cluster</th>\n",
       "      <th>Country</th>\n",
       "      <th></th>\n",
       "      <th></th>\n",
       "      <th></th>\n",
       "      <th></th>\n",
       "      <th></th>\n",
       "      <th></th>\n",
       "      <th></th>\n",
       "      <th></th>\n",
       "    </tr>\n",
       "  </thead>\n",
       "  <tbody>\n",
       "    <tr>\n",
       "      <th rowspan=\"5\" valign=\"top\">0</th>\n",
       "      <th>Albania</th>\n",
       "      <td>-0.721376</td>\n",
       "      <td>0.000000</td>\n",
       "      <td>0.0</td>\n",
       "      <td>0.955863</td>\n",
       "      <td>-0.809293</td>\n",
       "      <td>0.000000</td>\n",
       "      <td>0.786991</td>\n",
       "      <td>0.000000</td>\n",
       "    </tr>\n",
       "    <tr>\n",
       "      <th>Argentina</th>\n",
       "      <td>-0.503461</td>\n",
       "      <td>0.656928</td>\n",
       "      <td>0.0</td>\n",
       "      <td>0.950021</td>\n",
       "      <td>-0.696227</td>\n",
       "      <td>0.000000</td>\n",
       "      <td>0.726257</td>\n",
       "      <td>-0.640218</td>\n",
       "    </tr>\n",
       "    <tr>\n",
       "      <th>Azerbaijan</th>\n",
       "      <td>-0.858162</td>\n",
       "      <td>0.000000</td>\n",
       "      <td>0.0</td>\n",
       "      <td>0.984559</td>\n",
       "      <td>-0.694244</td>\n",
       "      <td>-0.663217</td>\n",
       "      <td>0.857352</td>\n",
       "      <td>-0.848901</td>\n",
       "    </tr>\n",
       "    <tr>\n",
       "      <th>Bangladesh</th>\n",
       "      <td>-0.907601</td>\n",
       "      <td>-0.599605</td>\n",
       "      <td>0.0</td>\n",
       "      <td>0.959856</td>\n",
       "      <td>-0.636255</td>\n",
       "      <td>-0.855029</td>\n",
       "      <td>0.807895</td>\n",
       "      <td>0.000000</td>\n",
       "    </tr>\n",
       "    <tr>\n",
       "      <th>Brazil</th>\n",
       "      <td>-0.682473</td>\n",
       "      <td>0.000000</td>\n",
       "      <td>0.0</td>\n",
       "      <td>0.983090</td>\n",
       "      <td>-0.753701</td>\n",
       "      <td>0.000000</td>\n",
       "      <td>0.715622</td>\n",
       "      <td>0.855377</td>\n",
       "    </tr>\n",
       "    <tr>\n",
       "      <th>...</th>\n",
       "      <th>...</th>\n",
       "      <td>...</td>\n",
       "      <td>...</td>\n",
       "      <td>...</td>\n",
       "      <td>...</td>\n",
       "      <td>...</td>\n",
       "      <td>...</td>\n",
       "      <td>...</td>\n",
       "      <td>...</td>\n",
       "    </tr>\n",
       "    <tr>\n",
       "      <th rowspan=\"5\" valign=\"top\">10</th>\n",
       "      <th>Samoa</th>\n",
       "      <td>-0.952087</td>\n",
       "      <td>0.000000</td>\n",
       "      <td>0.0</td>\n",
       "      <td>0.000000</td>\n",
       "      <td>0.000000</td>\n",
       "      <td>0.672879</td>\n",
       "      <td>-0.902946</td>\n",
       "      <td>0.000000</td>\n",
       "    </tr>\n",
       "    <tr>\n",
       "      <th>Sao Tome and Principe</th>\n",
       "      <td>-0.729275</td>\n",
       "      <td>0.000000</td>\n",
       "      <td>0.0</td>\n",
       "      <td>0.000000</td>\n",
       "      <td>0.000000</td>\n",
       "      <td>0.000000</td>\n",
       "      <td>-0.876400</td>\n",
       "      <td>0.688839</td>\n",
       "    </tr>\n",
       "    <tr>\n",
       "      <th>Serbia</th>\n",
       "      <td>-0.793805</td>\n",
       "      <td>0.000000</td>\n",
       "      <td>0.0</td>\n",
       "      <td>0.000000</td>\n",
       "      <td>-0.895995</td>\n",
       "      <td>0.000000</td>\n",
       "      <td>-0.778655</td>\n",
       "      <td>0.000000</td>\n",
       "    </tr>\n",
       "    <tr>\n",
       "      <th>United Arab Emirates</th>\n",
       "      <td>-0.927943</td>\n",
       "      <td>0.000000</td>\n",
       "      <td>0.0</td>\n",
       "      <td>0.000000</td>\n",
       "      <td>-0.839875</td>\n",
       "      <td>0.000000</td>\n",
       "      <td>-0.926257</td>\n",
       "      <td>0.000000</td>\n",
       "    </tr>\n",
       "    <tr>\n",
       "      <th>Zimbabwe</th>\n",
       "      <td>-0.674981</td>\n",
       "      <td>0.000000</td>\n",
       "      <td>0.0</td>\n",
       "      <td>0.000000</td>\n",
       "      <td>-0.699115</td>\n",
       "      <td>0.000000</td>\n",
       "      <td>-0.957352</td>\n",
       "      <td>0.000000</td>\n",
       "    </tr>\n",
       "  </tbody>\n",
       "</table>\n",
       "<p>167 rows × 8 columns</p>\n",
       "</div>"
      ],
      "text/plain": [
       "                               AgriShareGDP  CreditToAgriFishForest  \\\n",
       "Cluster Country                                                       \n",
       "0       Albania                   -0.721376                0.000000   \n",
       "        Argentina                 -0.503461                0.656928   \n",
       "        Azerbaijan                -0.858162                0.000000   \n",
       "        Bangladesh                -0.907601               -0.599605   \n",
       "        Brazil                    -0.682473                0.000000   \n",
       "...                                     ...                     ...   \n",
       "10      Samoa                     -0.952087                0.000000   \n",
       "        Sao Tome and Principe     -0.729275                0.000000   \n",
       "        Serbia                    -0.793805                0.000000   \n",
       "        United Arab Emirates      -0.927943                0.000000   \n",
       "        Zimbabwe                  -0.674981                0.000000   \n",
       "\n",
       "                               EmploymentRural  TotalAgri  % Soldiers  \\\n",
       "Cluster Country                                                         \n",
       "0       Albania                            0.0   0.955863   -0.809293   \n",
       "        Argentina                          0.0   0.950021   -0.696227   \n",
       "        Azerbaijan                         0.0   0.984559   -0.694244   \n",
       "        Bangladesh                         0.0   0.959856   -0.636255   \n",
       "        Brazil                             0.0   0.983090   -0.753701   \n",
       "...                                        ...        ...         ...   \n",
       "10      Samoa                              0.0   0.000000    0.000000   \n",
       "        Sao Tome and Principe              0.0   0.000000    0.000000   \n",
       "        Serbia                             0.0   0.000000   -0.895995   \n",
       "        United Arab Emirates               0.0   0.000000   -0.839875   \n",
       "        Zimbabwe                           0.0   0.000000   -0.699115   \n",
       "\n",
       "                               % Healthcare Investment  % Employment Industry  \\\n",
       "Cluster Country                                                                 \n",
       "0       Albania                               0.000000               0.786991   \n",
       "        Argentina                             0.000000               0.726257   \n",
       "        Azerbaijan                           -0.663217               0.857352   \n",
       "        Bangladesh                           -0.855029               0.807895   \n",
       "        Brazil                                0.000000               0.715622   \n",
       "...                                                ...                    ...   \n",
       "10      Samoa                                 0.672879              -0.902946   \n",
       "        Sao Tome and Principe                 0.000000              -0.876400   \n",
       "        Serbia                                0.000000              -0.778655   \n",
       "        United Arab Emirates                  0.000000              -0.926257   \n",
       "        Zimbabwe                              0.000000              -0.957352   \n",
       "\n",
       "                               % Education Expenditure  \n",
       "Cluster Country                                         \n",
       "0       Albania                               0.000000  \n",
       "        Argentina                            -0.640218  \n",
       "        Azerbaijan                           -0.848901  \n",
       "        Bangladesh                            0.000000  \n",
       "        Brazil                                0.855377  \n",
       "...                                                ...  \n",
       "10      Samoa                                 0.000000  \n",
       "        Sao Tome and Principe                 0.688839  \n",
       "        Serbia                                0.000000  \n",
       "        United Arab Emirates                  0.000000  \n",
       "        Zimbabwe                              0.000000  \n",
       "\n",
       "[167 rows x 8 columns]"
      ]
     },
     "metadata": {},
     "output_type": "display_data"
    },
    {
     "name": "stdout",
     "output_type": "stream",
     "text": [
      "Social-demographic Indicators\n"
     ]
    },
    {
     "data": {
      "text/html": [
       "<div>\n",
       "<style scoped>\n",
       "    .dataframe tbody tr th:only-of-type {\n",
       "        vertical-align: middle;\n",
       "    }\n",
       "\n",
       "    .dataframe tbody tr th {\n",
       "        vertical-align: top;\n",
       "    }\n",
       "\n",
       "    .dataframe thead th {\n",
       "        text-align: right;\n",
       "    }\n",
       "</style>\n",
       "<table border=\"1\" class=\"dataframe\">\n",
       "  <thead>\n",
       "    <tr style=\"text-align: right;\">\n",
       "      <th></th>\n",
       "      <th></th>\n",
       "      <th>Birth Rate</th>\n",
       "      <th>Death Rate</th>\n",
       "      <th>Homicides</th>\n",
       "      <th>Life Expectancy</th>\n",
       "      <th>Maternal Death Risk</th>\n",
       "      <th>Infant Mortality</th>\n",
       "      <th>% Population Growth</th>\n",
       "      <th>% Rural Population</th>\n",
       "      <th>Population</th>\n",
       "    </tr>\n",
       "    <tr>\n",
       "      <th>Cluster</th>\n",
       "      <th>Country</th>\n",
       "      <th></th>\n",
       "      <th></th>\n",
       "      <th></th>\n",
       "      <th></th>\n",
       "      <th></th>\n",
       "      <th></th>\n",
       "      <th></th>\n",
       "      <th></th>\n",
       "      <th></th>\n",
       "    </tr>\n",
       "  </thead>\n",
       "  <tbody>\n",
       "    <tr>\n",
       "      <th rowspan=\"5\" valign=\"top\">0</th>\n",
       "      <th>Afghanistan</th>\n",
       "      <td>-0.953124</td>\n",
       "      <td>-0.968941</td>\n",
       "      <td>0.000000</td>\n",
       "      <td>0.961018</td>\n",
       "      <td>-0.953193</td>\n",
       "      <td>-0.960322</td>\n",
       "      <td>0.000000</td>\n",
       "      <td>-0.931713</td>\n",
       "      <td>0.929911</td>\n",
       "    </tr>\n",
       "    <tr>\n",
       "      <th>Botswana</th>\n",
       "      <td>-0.867502</td>\n",
       "      <td>-0.951373</td>\n",
       "      <td>0.000000</td>\n",
       "      <td>0.952525</td>\n",
       "      <td>-0.963642</td>\n",
       "      <td>-0.799478</td>\n",
       "      <td>0.000000</td>\n",
       "      <td>-0.954849</td>\n",
       "      <td>0.950102</td>\n",
       "    </tr>\n",
       "    <tr>\n",
       "      <th>Burundi</th>\n",
       "      <td>-0.842824</td>\n",
       "      <td>-0.970891</td>\n",
       "      <td>0.000000</td>\n",
       "      <td>0.978385</td>\n",
       "      <td>-0.946126</td>\n",
       "      <td>-0.983315</td>\n",
       "      <td>0.000000</td>\n",
       "      <td>-0.987871</td>\n",
       "      <td>0.988052</td>\n",
       "    </tr>\n",
       "    <tr>\n",
       "      <th>Cameroon</th>\n",
       "      <td>-0.934079</td>\n",
       "      <td>-0.984679</td>\n",
       "      <td>0.000000</td>\n",
       "      <td>0.980169</td>\n",
       "      <td>-0.970054</td>\n",
       "      <td>-0.979033</td>\n",
       "      <td>0.000000</td>\n",
       "      <td>-0.984259</td>\n",
       "      <td>0.975235</td>\n",
       "    </tr>\n",
       "    <tr>\n",
       "      <th>Djibouti</th>\n",
       "      <td>-0.945981</td>\n",
       "      <td>-0.994935</td>\n",
       "      <td>0.000000</td>\n",
       "      <td>0.996856</td>\n",
       "      <td>-0.815858</td>\n",
       "      <td>-0.960035</td>\n",
       "      <td>0.000000</td>\n",
       "      <td>-0.989181</td>\n",
       "      <td>0.978684</td>\n",
       "    </tr>\n",
       "    <tr>\n",
       "      <th>...</th>\n",
       "      <th>...</th>\n",
       "      <td>...</td>\n",
       "      <td>...</td>\n",
       "      <td>...</td>\n",
       "      <td>...</td>\n",
       "      <td>...</td>\n",
       "      <td>...</td>\n",
       "      <td>...</td>\n",
       "      <td>...</td>\n",
       "      <td>...</td>\n",
       "    </tr>\n",
       "    <tr>\n",
       "      <th rowspan=\"5\" valign=\"top\">9</th>\n",
       "      <th>Russia</th>\n",
       "      <td>0.775658</td>\n",
       "      <td>-0.804394</td>\n",
       "      <td>-0.885042</td>\n",
       "      <td>0.778920</td>\n",
       "      <td>-0.859358</td>\n",
       "      <td>-0.796243</td>\n",
       "      <td>0.878687</td>\n",
       "      <td>-0.572207</td>\n",
       "      <td>0.000000</td>\n",
       "    </tr>\n",
       "    <tr>\n",
       "      <th>Sweden</th>\n",
       "      <td>0.732351</td>\n",
       "      <td>-0.851310</td>\n",
       "      <td>0.000000</td>\n",
       "      <td>0.892014</td>\n",
       "      <td>-0.435390</td>\n",
       "      <td>-0.933905</td>\n",
       "      <td>0.817130</td>\n",
       "      <td>-0.723628</td>\n",
       "      <td>0.811345</td>\n",
       "    </tr>\n",
       "    <tr>\n",
       "      <th>Tajikistan</th>\n",
       "      <td>0.640529</td>\n",
       "      <td>-0.919454</td>\n",
       "      <td>0.000000</td>\n",
       "      <td>0.942219</td>\n",
       "      <td>-0.860032</td>\n",
       "      <td>-0.921513</td>\n",
       "      <td>0.957414</td>\n",
       "      <td>-0.580328</td>\n",
       "      <td>0.898720</td>\n",
       "    </tr>\n",
       "    <tr>\n",
       "      <th>Turkmenistan</th>\n",
       "      <td>0.000000</td>\n",
       "      <td>-0.945071</td>\n",
       "      <td>0.000000</td>\n",
       "      <td>0.972749</td>\n",
       "      <td>-0.909132</td>\n",
       "      <td>-0.871741</td>\n",
       "      <td>0.886601</td>\n",
       "      <td>-0.949027</td>\n",
       "      <td>0.950749</td>\n",
       "    </tr>\n",
       "    <tr>\n",
       "      <th>Uzbekistan</th>\n",
       "      <td>0.620577</td>\n",
       "      <td>-0.731226</td>\n",
       "      <td>0.000000</td>\n",
       "      <td>0.871543</td>\n",
       "      <td>-0.825993</td>\n",
       "      <td>-0.892046</td>\n",
       "      <td>0.810501</td>\n",
       "      <td>-0.852934</td>\n",
       "      <td>0.839731</td>\n",
       "    </tr>\n",
       "  </tbody>\n",
       "</table>\n",
       "<p>175 rows × 9 columns</p>\n",
       "</div>"
      ],
      "text/plain": [
       "                      Birth Rate  Death Rate  Homicides  Life Expectancy  \\\n",
       "Cluster Country                                                            \n",
       "0       Afghanistan    -0.953124   -0.968941   0.000000         0.961018   \n",
       "        Botswana       -0.867502   -0.951373   0.000000         0.952525   \n",
       "        Burundi        -0.842824   -0.970891   0.000000         0.978385   \n",
       "        Cameroon       -0.934079   -0.984679   0.000000         0.980169   \n",
       "        Djibouti       -0.945981   -0.994935   0.000000         0.996856   \n",
       "...                          ...         ...        ...              ...   \n",
       "9       Russia          0.775658   -0.804394  -0.885042         0.778920   \n",
       "        Sweden          0.732351   -0.851310   0.000000         0.892014   \n",
       "        Tajikistan      0.640529   -0.919454   0.000000         0.942219   \n",
       "        Turkmenistan    0.000000   -0.945071   0.000000         0.972749   \n",
       "        Uzbekistan      0.620577   -0.731226   0.000000         0.871543   \n",
       "\n",
       "                      Maternal Death Risk  Infant Mortality  \\\n",
       "Cluster Country                                               \n",
       "0       Afghanistan             -0.953193         -0.960322   \n",
       "        Botswana                -0.963642         -0.799478   \n",
       "        Burundi                 -0.946126         -0.983315   \n",
       "        Cameroon                -0.970054         -0.979033   \n",
       "        Djibouti                -0.815858         -0.960035   \n",
       "...                                   ...               ...   \n",
       "9       Russia                  -0.859358         -0.796243   \n",
       "        Sweden                  -0.435390         -0.933905   \n",
       "        Tajikistan              -0.860032         -0.921513   \n",
       "        Turkmenistan            -0.909132         -0.871741   \n",
       "        Uzbekistan              -0.825993         -0.892046   \n",
       "\n",
       "                      % Population Growth  % Rural Population  Population  \n",
       "Cluster Country                                                            \n",
       "0       Afghanistan              0.000000           -0.931713    0.929911  \n",
       "        Botswana                 0.000000           -0.954849    0.950102  \n",
       "        Burundi                  0.000000           -0.987871    0.988052  \n",
       "        Cameroon                 0.000000           -0.984259    0.975235  \n",
       "        Djibouti                 0.000000           -0.989181    0.978684  \n",
       "...                                   ...                 ...         ...  \n",
       "9       Russia                   0.878687           -0.572207    0.000000  \n",
       "        Sweden                   0.817130           -0.723628    0.811345  \n",
       "        Tajikistan               0.957414           -0.580328    0.898720  \n",
       "        Turkmenistan             0.886601           -0.949027    0.950749  \n",
       "        Uzbekistan               0.810501           -0.852934    0.839731  \n",
       "\n",
       "[175 rows x 9 columns]"
      ]
     },
     "metadata": {},
     "output_type": "display_data"
    },
    {
     "name": "stdout",
     "output_type": "stream",
     "text": [
      "Equality Indicators\n"
     ]
    },
    {
     "data": {
      "text/html": [
       "<div>\n",
       "<style scoped>\n",
       "    .dataframe tbody tr th:only-of-type {\n",
       "        vertical-align: middle;\n",
       "    }\n",
       "\n",
       "    .dataframe tbody tr th {\n",
       "        vertical-align: top;\n",
       "    }\n",
       "\n",
       "    .dataframe thead th {\n",
       "        text-align: right;\n",
       "    }\n",
       "</style>\n",
       "<table border=\"1\" class=\"dataframe\">\n",
       "  <thead>\n",
       "    <tr style=\"text-align: right;\">\n",
       "      <th></th>\n",
       "      <th></th>\n",
       "      <th>Civil Liberties</th>\n",
       "      <th>Freedom of Expression</th>\n",
       "      <th>% Men Employment</th>\n",
       "      <th>% Women Employment</th>\n",
       "    </tr>\n",
       "    <tr>\n",
       "      <th>Cluster</th>\n",
       "      <th>Country</th>\n",
       "      <th></th>\n",
       "      <th></th>\n",
       "      <th></th>\n",
       "      <th></th>\n",
       "    </tr>\n",
       "  </thead>\n",
       "  <tbody>\n",
       "    <tr>\n",
       "      <th rowspan=\"5\" valign=\"top\">0</th>\n",
       "      <th>Afghanistan</th>\n",
       "      <td>0.000000</td>\n",
       "      <td>0.680533</td>\n",
       "      <td>0.000000</td>\n",
       "      <td>0.0</td>\n",
       "    </tr>\n",
       "    <tr>\n",
       "      <th>Burkina Faso</th>\n",
       "      <td>0.000000</td>\n",
       "      <td>0.745158</td>\n",
       "      <td>0.000000</td>\n",
       "      <td>0.0</td>\n",
       "    </tr>\n",
       "    <tr>\n",
       "      <th>Canada</th>\n",
       "      <td>0.000000</td>\n",
       "      <td>0.723074</td>\n",
       "      <td>-0.657411</td>\n",
       "      <td>0.0</td>\n",
       "    </tr>\n",
       "    <tr>\n",
       "      <th>Eswatini</th>\n",
       "      <td>0.000000</td>\n",
       "      <td>0.636240</td>\n",
       "      <td>0.000000</td>\n",
       "      <td>0.0</td>\n",
       "    </tr>\n",
       "    <tr>\n",
       "      <th>Guinea</th>\n",
       "      <td>0.000000</td>\n",
       "      <td>0.625618</td>\n",
       "      <td>0.000000</td>\n",
       "      <td>0.0</td>\n",
       "    </tr>\n",
       "    <tr>\n",
       "      <th>...</th>\n",
       "      <th>...</th>\n",
       "      <td>...</td>\n",
       "      <td>...</td>\n",
       "      <td>...</td>\n",
       "      <td>...</td>\n",
       "    </tr>\n",
       "    <tr>\n",
       "      <th rowspan=\"5\" valign=\"top\">7</th>\n",
       "      <th>Suriname</th>\n",
       "      <td>-0.492572</td>\n",
       "      <td>-0.606684</td>\n",
       "      <td>0.000000</td>\n",
       "      <td>0.0</td>\n",
       "    </tr>\n",
       "    <tr>\n",
       "      <th>Tajikistan</th>\n",
       "      <td>-0.870417</td>\n",
       "      <td>-0.743880</td>\n",
       "      <td>0.000000</td>\n",
       "      <td>0.0</td>\n",
       "    </tr>\n",
       "    <tr>\n",
       "      <th>Thailand</th>\n",
       "      <td>-0.799532</td>\n",
       "      <td>-0.752925</td>\n",
       "      <td>0.000000</td>\n",
       "      <td>0.0</td>\n",
       "    </tr>\n",
       "    <tr>\n",
       "      <th>Uganda</th>\n",
       "      <td>-0.710019</td>\n",
       "      <td>-0.768839</td>\n",
       "      <td>0.000000</td>\n",
       "      <td>0.0</td>\n",
       "    </tr>\n",
       "    <tr>\n",
       "      <th>Zambia</th>\n",
       "      <td>-0.572971</td>\n",
       "      <td>-0.555529</td>\n",
       "      <td>0.000000</td>\n",
       "      <td>0.0</td>\n",
       "    </tr>\n",
       "  </tbody>\n",
       "</table>\n",
       "<p>122 rows × 4 columns</p>\n",
       "</div>"
      ],
      "text/plain": [
       "                      Civil Liberties  Freedom of Expression  \\\n",
       "Cluster Country                                                \n",
       "0       Afghanistan          0.000000               0.680533   \n",
       "        Burkina Faso         0.000000               0.745158   \n",
       "        Canada               0.000000               0.723074   \n",
       "        Eswatini             0.000000               0.636240   \n",
       "        Guinea               0.000000               0.625618   \n",
       "...                               ...                    ...   \n",
       "7       Suriname            -0.492572              -0.606684   \n",
       "        Tajikistan          -0.870417              -0.743880   \n",
       "        Thailand            -0.799532              -0.752925   \n",
       "        Uganda              -0.710019              -0.768839   \n",
       "        Zambia              -0.572971              -0.555529   \n",
       "\n",
       "                      % Men Employment  % Women Employment  \n",
       "Cluster Country                                             \n",
       "0       Afghanistan           0.000000                 0.0  \n",
       "        Burkina Faso          0.000000                 0.0  \n",
       "        Canada               -0.657411                 0.0  \n",
       "        Eswatini              0.000000                 0.0  \n",
       "        Guinea                0.000000                 0.0  \n",
       "...                                ...                 ...  \n",
       "7       Suriname              0.000000                 0.0  \n",
       "        Tajikistan            0.000000                 0.0  \n",
       "        Thailand              0.000000                 0.0  \n",
       "        Uganda                0.000000                 0.0  \n",
       "        Zambia                0.000000                 0.0  \n",
       "\n",
       "[122 rows x 4 columns]"
      ]
     },
     "metadata": {},
     "output_type": "display_data"
    },
    {
     "name": "stdout",
     "output_type": "stream",
     "text": [
      "All indicators\n"
     ]
    },
    {
     "data": {
      "text/html": [
       "<div>\n",
       "<style scoped>\n",
       "    .dataframe tbody tr th:only-of-type {\n",
       "        vertical-align: middle;\n",
       "    }\n",
       "\n",
       "    .dataframe tbody tr th {\n",
       "        vertical-align: top;\n",
       "    }\n",
       "\n",
       "    .dataframe thead th {\n",
       "        text-align: right;\n",
       "    }\n",
       "</style>\n",
       "<table border=\"1\" class=\"dataframe\">\n",
       "  <thead>\n",
       "    <tr style=\"text-align: right;\">\n",
       "      <th></th>\n",
       "      <th></th>\n",
       "      <th>AgriShareGDP</th>\n",
       "      <th>CreditToAgriFishForest</th>\n",
       "      <th>EmploymentRural</th>\n",
       "      <th>TotalAgri</th>\n",
       "      <th>% Soldiers</th>\n",
       "      <th>Birth Rate</th>\n",
       "      <th>Death Rate</th>\n",
       "      <th>Homicides</th>\n",
       "      <th>Life Expectancy</th>\n",
       "      <th>Maternal Death Risk</th>\n",
       "      <th>...</th>\n",
       "      <th>% Population Growth</th>\n",
       "      <th>% Rural Population</th>\n",
       "      <th>Civil Liberties</th>\n",
       "      <th>Freedom of Expression</th>\n",
       "      <th>% Healthcare Investment</th>\n",
       "      <th>% Employment Industry</th>\n",
       "      <th>% Education Expenditure</th>\n",
       "      <th>% Men Employment</th>\n",
       "      <th>% Women Employment</th>\n",
       "      <th>Population</th>\n",
       "    </tr>\n",
       "    <tr>\n",
       "      <th>Cluster</th>\n",
       "      <th>Country</th>\n",
       "      <th></th>\n",
       "      <th></th>\n",
       "      <th></th>\n",
       "      <th></th>\n",
       "      <th></th>\n",
       "      <th></th>\n",
       "      <th></th>\n",
       "      <th></th>\n",
       "      <th></th>\n",
       "      <th></th>\n",
       "      <th></th>\n",
       "      <th></th>\n",
       "      <th></th>\n",
       "      <th></th>\n",
       "      <th></th>\n",
       "      <th></th>\n",
       "      <th></th>\n",
       "      <th></th>\n",
       "      <th></th>\n",
       "      <th></th>\n",
       "      <th></th>\n",
       "    </tr>\n",
       "  </thead>\n",
       "  <tbody>\n",
       "    <tr>\n",
       "      <th rowspan=\"5\" valign=\"top\">0</th>\n",
       "      <th>Andorra</th>\n",
       "      <td>0.000000</td>\n",
       "      <td>0.000000</td>\n",
       "      <td>0.000000</td>\n",
       "      <td>0.000000</td>\n",
       "      <td>0.000000</td>\n",
       "      <td>0.000000</td>\n",
       "      <td>0.000000</td>\n",
       "      <td>0.000000</td>\n",
       "      <td>0.000000</td>\n",
       "      <td>0.000000</td>\n",
       "      <td>...</td>\n",
       "      <td>0.000000</td>\n",
       "      <td>0.000000</td>\n",
       "      <td>0.000000</td>\n",
       "      <td>0.0</td>\n",
       "      <td>0.000000</td>\n",
       "      <td>0.000000</td>\n",
       "      <td>0.000000</td>\n",
       "      <td>0.000000</td>\n",
       "      <td>0.000000</td>\n",
       "      <td>0.935892</td>\n",
       "    </tr>\n",
       "    <tr>\n",
       "      <th>Austria</th>\n",
       "      <td>-0.828536</td>\n",
       "      <td>0.000000</td>\n",
       "      <td>0.847060</td>\n",
       "      <td>0.938655</td>\n",
       "      <td>-0.780851</td>\n",
       "      <td>0.000000</td>\n",
       "      <td>0.000000</td>\n",
       "      <td>0.000000</td>\n",
       "      <td>0.933147</td>\n",
       "      <td>0.000000</td>\n",
       "      <td>...</td>\n",
       "      <td>0.000000</td>\n",
       "      <td>0.842808</td>\n",
       "      <td>0.000000</td>\n",
       "      <td>0.0</td>\n",
       "      <td>0.767288</td>\n",
       "      <td>-0.902411</td>\n",
       "      <td>0.000000</td>\n",
       "      <td>0.000000</td>\n",
       "      <td>0.901465</td>\n",
       "      <td>0.789386</td>\n",
       "    </tr>\n",
       "    <tr>\n",
       "      <th>Bermuda</th>\n",
       "      <td>-0.852117</td>\n",
       "      <td>0.000000</td>\n",
       "      <td>0.000000</td>\n",
       "      <td>0.000000</td>\n",
       "      <td>0.000000</td>\n",
       "      <td>-0.809464</td>\n",
       "      <td>0.453401</td>\n",
       "      <td>0.787960</td>\n",
       "      <td>0.876173</td>\n",
       "      <td>0.000000</td>\n",
       "      <td>...</td>\n",
       "      <td>-0.657904</td>\n",
       "      <td>0.000000</td>\n",
       "      <td>0.000000</td>\n",
       "      <td>0.0</td>\n",
       "      <td>0.000000</td>\n",
       "      <td>0.000000</td>\n",
       "      <td>0.000000</td>\n",
       "      <td>0.000000</td>\n",
       "      <td>0.000000</td>\n",
       "      <td>-0.673786</td>\n",
       "    </tr>\n",
       "    <tr>\n",
       "      <th>Cayman Islands</th>\n",
       "      <td>0.832945</td>\n",
       "      <td>0.000000</td>\n",
       "      <td>0.000000</td>\n",
       "      <td>0.000000</td>\n",
       "      <td>0.000000</td>\n",
       "      <td>-0.766263</td>\n",
       "      <td>0.000000</td>\n",
       "      <td>0.000000</td>\n",
       "      <td>0.000000</td>\n",
       "      <td>0.000000</td>\n",
       "      <td>...</td>\n",
       "      <td>-0.840785</td>\n",
       "      <td>0.000000</td>\n",
       "      <td>0.000000</td>\n",
       "      <td>0.0</td>\n",
       "      <td>0.000000</td>\n",
       "      <td>0.000000</td>\n",
       "      <td>0.000000</td>\n",
       "      <td>0.000000</td>\n",
       "      <td>0.000000</td>\n",
       "      <td>0.930191</td>\n",
       "    </tr>\n",
       "    <tr>\n",
       "      <th>Congo</th>\n",
       "      <td>-0.636275</td>\n",
       "      <td>0.000000</td>\n",
       "      <td>0.000000</td>\n",
       "      <td>0.804072</td>\n",
       "      <td>-0.725357</td>\n",
       "      <td>0.000000</td>\n",
       "      <td>0.000000</td>\n",
       "      <td>0.000000</td>\n",
       "      <td>0.000000</td>\n",
       "      <td>0.000000</td>\n",
       "      <td>...</td>\n",
       "      <td>0.000000</td>\n",
       "      <td>0.000000</td>\n",
       "      <td>0.000000</td>\n",
       "      <td>0.0</td>\n",
       "      <td>0.000000</td>\n",
       "      <td>0.000000</td>\n",
       "      <td>0.000000</td>\n",
       "      <td>0.000000</td>\n",
       "      <td>0.000000</td>\n",
       "      <td>0.697859</td>\n",
       "    </tr>\n",
       "    <tr>\n",
       "      <th>...</th>\n",
       "      <th>...</th>\n",
       "      <td>...</td>\n",
       "      <td>...</td>\n",
       "      <td>...</td>\n",
       "      <td>...</td>\n",
       "      <td>...</td>\n",
       "      <td>...</td>\n",
       "      <td>...</td>\n",
       "      <td>...</td>\n",
       "      <td>...</td>\n",
       "      <td>...</td>\n",
       "      <td>...</td>\n",
       "      <td>...</td>\n",
       "      <td>...</td>\n",
       "      <td>...</td>\n",
       "      <td>...</td>\n",
       "      <td>...</td>\n",
       "      <td>...</td>\n",
       "      <td>...</td>\n",
       "      <td>...</td>\n",
       "      <td>...</td>\n",
       "      <td>...</td>\n",
       "    </tr>\n",
       "    <tr>\n",
       "      <th rowspan=\"5\" valign=\"top\">9</th>\n",
       "      <th>Slovenia</th>\n",
       "      <td>-0.863172</td>\n",
       "      <td>0.000000</td>\n",
       "      <td>-0.791117</td>\n",
       "      <td>0.903636</td>\n",
       "      <td>-0.458682</td>\n",
       "      <td>0.637707</td>\n",
       "      <td>0.000000</td>\n",
       "      <td>-0.860796</td>\n",
       "      <td>0.870085</td>\n",
       "      <td>-0.633361</td>\n",
       "      <td>...</td>\n",
       "      <td>0.000000</td>\n",
       "      <td>-0.794734</td>\n",
       "      <td>0.000000</td>\n",
       "      <td>0.0</td>\n",
       "      <td>0.000000</td>\n",
       "      <td>-0.818649</td>\n",
       "      <td>-0.718171</td>\n",
       "      <td>0.000000</td>\n",
       "      <td>0.000000</td>\n",
       "      <td>0.791768</td>\n",
       "    </tr>\n",
       "    <tr>\n",
       "      <th>Spain</th>\n",
       "      <td>-0.924602</td>\n",
       "      <td>0.000000</td>\n",
       "      <td>0.000000</td>\n",
       "      <td>0.891549</td>\n",
       "      <td>-0.828939</td>\n",
       "      <td>0.000000</td>\n",
       "      <td>-0.466823</td>\n",
       "      <td>-0.743388</td>\n",
       "      <td>0.694753</td>\n",
       "      <td>0.000000</td>\n",
       "      <td>...</td>\n",
       "      <td>0.000000</td>\n",
       "      <td>-0.634473</td>\n",
       "      <td>0.000000</td>\n",
       "      <td>0.0</td>\n",
       "      <td>0.794086</td>\n",
       "      <td>-0.592126</td>\n",
       "      <td>0.000000</td>\n",
       "      <td>0.000000</td>\n",
       "      <td>0.927052</td>\n",
       "      <td>0.899727</td>\n",
       "    </tr>\n",
       "    <tr>\n",
       "      <th>Switzerland</th>\n",
       "      <td>-0.926746</td>\n",
       "      <td>0.899981</td>\n",
       "      <td>0.000000</td>\n",
       "      <td>0.938234</td>\n",
       "      <td>0.000000</td>\n",
       "      <td>0.000000</td>\n",
       "      <td>-0.875918</td>\n",
       "      <td>-0.917309</td>\n",
       "      <td>0.966205</td>\n",
       "      <td>-0.900268</td>\n",
       "      <td>...</td>\n",
       "      <td>0.000000</td>\n",
       "      <td>-0.933934</td>\n",
       "      <td>0.000000</td>\n",
       "      <td>0.0</td>\n",
       "      <td>0.947935</td>\n",
       "      <td>-0.856593</td>\n",
       "      <td>0.000000</td>\n",
       "      <td>-0.920018</td>\n",
       "      <td>0.808883</td>\n",
       "      <td>0.936869</td>\n",
       "    </tr>\n",
       "    <tr>\n",
       "      <th>United Kingdom</th>\n",
       "      <td>-0.716390</td>\n",
       "      <td>0.000000</td>\n",
       "      <td>0.000000</td>\n",
       "      <td>0.865545</td>\n",
       "      <td>-0.841970</td>\n",
       "      <td>0.000000</td>\n",
       "      <td>0.000000</td>\n",
       "      <td>-0.741227</td>\n",
       "      <td>0.787113</td>\n",
       "      <td>0.000000</td>\n",
       "      <td>...</td>\n",
       "      <td>0.789781</td>\n",
       "      <td>-0.737243</td>\n",
       "      <td>-0.588531</td>\n",
       "      <td>0.0</td>\n",
       "      <td>0.699031</td>\n",
       "      <td>-0.754821</td>\n",
       "      <td>0.468762</td>\n",
       "      <td>0.000000</td>\n",
       "      <td>0.626019</td>\n",
       "      <td>0.701265</td>\n",
       "    </tr>\n",
       "    <tr>\n",
       "      <th>United States</th>\n",
       "      <td>0.000000</td>\n",
       "      <td>0.000000</td>\n",
       "      <td>-0.933213</td>\n",
       "      <td>0.859802</td>\n",
       "      <td>-0.871861</td>\n",
       "      <td>-0.934595</td>\n",
       "      <td>0.000000</td>\n",
       "      <td>-0.626160</td>\n",
       "      <td>0.723664</td>\n",
       "      <td>0.974963</td>\n",
       "      <td>...</td>\n",
       "      <td>-0.767053</td>\n",
       "      <td>-0.994842</td>\n",
       "      <td>-0.654842</td>\n",
       "      <td>0.0</td>\n",
       "      <td>0.961246</td>\n",
       "      <td>-0.908240</td>\n",
       "      <td>0.000000</td>\n",
       "      <td>-0.703313</td>\n",
       "      <td>-0.744901</td>\n",
       "      <td>0.988339</td>\n",
       "    </tr>\n",
       "  </tbody>\n",
       "</table>\n",
       "<p>175 rows × 21 columns</p>\n",
       "</div>"
      ],
      "text/plain": [
       "                        AgriShareGDP  CreditToAgriFishForest  EmploymentRural  \\\n",
       "Cluster Country                                                                 \n",
       "0       Andorra             0.000000                0.000000         0.000000   \n",
       "        Austria            -0.828536                0.000000         0.847060   \n",
       "        Bermuda            -0.852117                0.000000         0.000000   \n",
       "        Cayman Islands      0.832945                0.000000         0.000000   \n",
       "        Congo              -0.636275                0.000000         0.000000   \n",
       "...                              ...                     ...              ...   \n",
       "9       Slovenia           -0.863172                0.000000        -0.791117   \n",
       "        Spain              -0.924602                0.000000         0.000000   \n",
       "        Switzerland        -0.926746                0.899981         0.000000   \n",
       "        United Kingdom     -0.716390                0.000000         0.000000   \n",
       "        United States       0.000000                0.000000        -0.933213   \n",
       "\n",
       "                        TotalAgri  % Soldiers  Birth Rate  Death Rate  \\\n",
       "Cluster Country                                                         \n",
       "0       Andorra          0.000000    0.000000    0.000000    0.000000   \n",
       "        Austria          0.938655   -0.780851    0.000000    0.000000   \n",
       "        Bermuda          0.000000    0.000000   -0.809464    0.453401   \n",
       "        Cayman Islands   0.000000    0.000000   -0.766263    0.000000   \n",
       "        Congo            0.804072   -0.725357    0.000000    0.000000   \n",
       "...                           ...         ...         ...         ...   \n",
       "9       Slovenia         0.903636   -0.458682    0.637707    0.000000   \n",
       "        Spain            0.891549   -0.828939    0.000000   -0.466823   \n",
       "        Switzerland      0.938234    0.000000    0.000000   -0.875918   \n",
       "        United Kingdom   0.865545   -0.841970    0.000000    0.000000   \n",
       "        United States    0.859802   -0.871861   -0.934595    0.000000   \n",
       "\n",
       "                        Homicides  Life Expectancy  Maternal Death Risk  ...  \\\n",
       "Cluster Country                                                          ...   \n",
       "0       Andorra          0.000000         0.000000             0.000000  ...   \n",
       "        Austria          0.000000         0.933147             0.000000  ...   \n",
       "        Bermuda          0.787960         0.876173             0.000000  ...   \n",
       "        Cayman Islands   0.000000         0.000000             0.000000  ...   \n",
       "        Congo            0.000000         0.000000             0.000000  ...   \n",
       "...                           ...              ...                  ...  ...   \n",
       "9       Slovenia        -0.860796         0.870085            -0.633361  ...   \n",
       "        Spain           -0.743388         0.694753             0.000000  ...   \n",
       "        Switzerland     -0.917309         0.966205            -0.900268  ...   \n",
       "        United Kingdom  -0.741227         0.787113             0.000000  ...   \n",
       "        United States   -0.626160         0.723664             0.974963  ...   \n",
       "\n",
       "                        % Population Growth  % Rural Population  \\\n",
       "Cluster Country                                                   \n",
       "0       Andorra                    0.000000            0.000000   \n",
       "        Austria                    0.000000            0.842808   \n",
       "        Bermuda                   -0.657904            0.000000   \n",
       "        Cayman Islands            -0.840785            0.000000   \n",
       "        Congo                      0.000000            0.000000   \n",
       "...                                     ...                 ...   \n",
       "9       Slovenia                   0.000000           -0.794734   \n",
       "        Spain                      0.000000           -0.634473   \n",
       "        Switzerland                0.000000           -0.933934   \n",
       "        United Kingdom             0.789781           -0.737243   \n",
       "        United States             -0.767053           -0.994842   \n",
       "\n",
       "                        Civil Liberties  Freedom of Expression  \\\n",
       "Cluster Country                                                  \n",
       "0       Andorra                0.000000                    0.0   \n",
       "        Austria                0.000000                    0.0   \n",
       "        Bermuda                0.000000                    0.0   \n",
       "        Cayman Islands         0.000000                    0.0   \n",
       "        Congo                  0.000000                    0.0   \n",
       "...                                 ...                    ...   \n",
       "9       Slovenia               0.000000                    0.0   \n",
       "        Spain                  0.000000                    0.0   \n",
       "        Switzerland            0.000000                    0.0   \n",
       "        United Kingdom        -0.588531                    0.0   \n",
       "        United States         -0.654842                    0.0   \n",
       "\n",
       "                        % Healthcare Investment  % Employment Industry  \\\n",
       "Cluster Country                                                          \n",
       "0       Andorra                        0.000000               0.000000   \n",
       "        Austria                        0.767288              -0.902411   \n",
       "        Bermuda                        0.000000               0.000000   \n",
       "        Cayman Islands                 0.000000               0.000000   \n",
       "        Congo                          0.000000               0.000000   \n",
       "...                                         ...                    ...   \n",
       "9       Slovenia                       0.000000              -0.818649   \n",
       "        Spain                          0.794086              -0.592126   \n",
       "        Switzerland                    0.947935              -0.856593   \n",
       "        United Kingdom                 0.699031              -0.754821   \n",
       "        United States                  0.961246              -0.908240   \n",
       "\n",
       "                        % Education Expenditure  % Men Employment  \\\n",
       "Cluster Country                                                     \n",
       "0       Andorra                        0.000000          0.000000   \n",
       "        Austria                        0.000000          0.000000   \n",
       "        Bermuda                        0.000000          0.000000   \n",
       "        Cayman Islands                 0.000000          0.000000   \n",
       "        Congo                          0.000000          0.000000   \n",
       "...                                         ...               ...   \n",
       "9       Slovenia                      -0.718171          0.000000   \n",
       "        Spain                          0.000000          0.000000   \n",
       "        Switzerland                    0.000000         -0.920018   \n",
       "        United Kingdom                 0.468762          0.000000   \n",
       "        United States                  0.000000         -0.703313   \n",
       "\n",
       "                        % Women Employment  Population  \n",
       "Cluster Country                                         \n",
       "0       Andorra                   0.000000    0.935892  \n",
       "        Austria                   0.901465    0.789386  \n",
       "        Bermuda                   0.000000   -0.673786  \n",
       "        Cayman Islands            0.000000    0.930191  \n",
       "        Congo                     0.000000    0.697859  \n",
       "...                                    ...         ...  \n",
       "9       Slovenia                  0.000000    0.791768  \n",
       "        Spain                     0.927052    0.899727  \n",
       "        Switzerland               0.808883    0.936869  \n",
       "        United Kingdom            0.626019    0.701265  \n",
       "        United States            -0.744901    0.988339  \n",
       "\n",
       "[175 rows x 21 columns]"
      ]
     },
     "metadata": {},
     "output_type": "display_data"
    }
   ],
   "source": [
    "cluster_folder = os.getcwd() + '/Output/Cluster/'\n",
    "\n",
    "if not os.path.exists(cluster_folder):\n",
    "            os.makedirs(cluster_folder)\n",
    "\n",
    "for ind in ind_dict:\n",
    "    print(ind)\n",
    "    df = df_dict[ind]\n",
    "    df = df.set_index(['Cluster', df.index]).sort_index()\n",
    "    df.to_csv(cluster_folder + ind + '.csv')\n",
    "    display(df)\n"
   ]
  },
  {
   "cell_type": "markdown",
   "metadata": {},
   "source": [
    "## VENN DIAGRAM\n",
    "\n",
    "Finally as a more visual way to represent the clustering, we show a Venn diagram for any given country so we can observe all the countries that are related to it based on the different indicators group.\n",
    "\n",
    "NOTE: the central intersection does not correspond to the all indicators clustering, as they have obtained by different methods. The intersection is more restrictive and contains fewer countries than the all indicators group."
   ]
  },
  {
   "cell_type": "code",
   "execution_count": 12,
   "metadata": {},
   "outputs": [
    {
     "data": {
      "application/vnd.jupyter.widget-view+json": {
       "model_id": "421a892966ed4a7dad714a1223ec1b36",
       "version_major": 2,
       "version_minor": 0
      },
      "text/plain": [
       "interactive(children=(Dropdown(description='Country', index=154, options=('Afghanistan', 'Albania', 'Algeria',…"
      ]
     },
     "metadata": {},
     "output_type": "display_data"
    }
   ],
   "source": [
    "def VennOut(Country):\n",
    "\n",
    "    set_econ = set(df_dict[econ_ind].loc[lambda df: df[col_cluster] == df.loc[Country, col_cluster]].index.to_list())\n",
    "    set_socdem = set(df_dict[socdem_ind].loc[lambda df: df[col_cluster] == df.loc[Country, col_cluster]].index.to_list())\n",
    "    set_eq = set(df_dict[eq_ind].loc[lambda df: df[col_cluster] == df.loc[Country, col_cluster]].index.to_list())\n",
    "\n",
    "    venn = venn3([set_econ, set_socdem, set_eq], (econ_ind, socdem_ind, eq_ind))\n",
    "\n",
    "    venn.get_label_by_id('100').set_text('\\n'.join(set_econ - set_socdem - set_eq)) # Only econ\n",
    "    venn.get_label_by_id('010').set_text('\\n'.join(set_socdem - set_econ - set_eq)) # Only socdem\n",
    "    venn.get_label_by_id('001').set_text('\\n'.join(set_eq - set_econ - set_socdem)) # Only eq\n",
    "\n",
    "    # The three pair-intersections is guaranteed only if there is an intersection of the three groups.\n",
    "    if len(set_econ & set_socdem & set_eq):\n",
    "        venn.get_label_by_id('111').set_text('\\n'.join(set_econ & set_socdem & set_eq))\n",
    "        venn.get_label_by_id('110').set_text('\\n'.join(set_econ & set_socdem - set_eq))\n",
    "        venn.get_label_by_id('101').set_text('\\n'.join(set_econ & set_eq - set_socdem))\n",
    "        venn.get_label_by_id('011').set_text('\\n'.join(set_socdem & set_eq - set_econ))\n",
    "    else:\n",
    "        # If no center, check the intersections that do exist.\n",
    "        if len(set_econ & set_socdem - set_eq):\n",
    "            venn.get_label_by_id('110').set_text('\\n'.join(set_econ & set_socdem - set_eq))\n",
    "        if len(set_econ & set_eq - set_socdem):\n",
    "            venn.get_label_by_id('101').set_text('\\n'.join(set_econ & set_eq - set_socdem))\n",
    "        if len(set_socdem & set_eq - set_econ):\n",
    "            venn.get_label_by_id('011').set_text('\\n'.join(set_socdem & set_eq - set_econ))\n",
    "\n",
    "    plt.rcParams[\"figure.figsize\"] = (12, 12)\n",
    "    plt.show()\n",
    "\n",
    "\n",
    "@interact(\n",
    "    Country = sort(corr_df.index.tolist()))\n",
    "\n",
    "def g(Country = 'Spain'):\n",
    "    return VennOut(Country)"
   ]
  },
  {
   "cell_type": "code",
   "execution_count": null,
   "metadata": {},
   "outputs": [],
   "source": []
  },
  {
   "cell_type": "code",
   "execution_count": null,
   "metadata": {},
   "outputs": [],
   "source": []
  },
  {
   "cell_type": "code",
   "execution_count": null,
   "metadata": {},
   "outputs": [],
   "source": []
  },
  {
   "cell_type": "code",
   "execution_count": null,
   "metadata": {},
   "outputs": [],
   "source": []
  },
  {
   "cell_type": "code",
   "execution_count": null,
   "metadata": {},
   "outputs": [],
   "source": []
  },
  {
   "cell_type": "code",
   "execution_count": null,
   "metadata": {},
   "outputs": [],
   "source": []
  },
  {
   "cell_type": "code",
   "execution_count": null,
   "metadata": {},
   "outputs": [],
   "source": []
  },
  {
   "cell_type": "code",
   "execution_count": null,
   "metadata": {},
   "outputs": [],
   "source": []
  },
  {
   "cell_type": "code",
   "execution_count": null,
   "metadata": {},
   "outputs": [],
   "source": []
  },
  {
   "cell_type": "code",
   "execution_count": null,
   "metadata": {},
   "outputs": [],
   "source": []
  },
  {
   "cell_type": "code",
   "execution_count": 10,
   "metadata": {},
   "outputs": [
    {
     "ename": "NameError",
     "evalue": "name 'new_df_tsne' is not defined",
     "output_type": "error",
     "traceback": [
      "\u001b[1;31m---------------------------------------------------------------------------\u001b[0m",
      "\u001b[1;31mNameError\u001b[0m                                 Traceback (most recent call last)",
      "\u001b[1;32mc:\\Users\\vperezlo\\Documents\\GitHub\\python-data-driven-decisions\\Notebook-TryCluster.ipynb Cell 29\u001b[0m in \u001b[0;36m<cell line: 1>\u001b[1;34m()\u001b[0m\n\u001b[1;32m----> <a href='vscode-notebook-cell:/c%3A/Users/vperezlo/Documents/GitHub/python-data-driven-decisions/Notebook-TryCluster.ipynb#X40sZmlsZQ%3D%3D?line=0'>1</a>\u001b[0m X_optics \u001b[39m=\u001b[39m pd\u001b[39m.\u001b[39mDataFrame(StandardScaler()\u001b[39m.\u001b[39mfit_transform(new_df_tsne))\n\u001b[0;32m      <a href='vscode-notebook-cell:/c%3A/Users/vperezlo/Documents/GitHub/python-data-driven-decisions/Notebook-TryCluster.ipynb#X40sZmlsZQ%3D%3D?line=2'>3</a>\u001b[0m \u001b[39m'''Apply OPTICS'''\u001b[39;00m\n\u001b[0;32m      <a href='vscode-notebook-cell:/c%3A/Users/vperezlo/Documents/GitHub/python-data-driven-decisions/Notebook-TryCluster.ipynb#X40sZmlsZQ%3D%3D?line=3'>4</a>\u001b[0m optics \u001b[39m=\u001b[39m OPTICS(xi\u001b[39m=\u001b[39m\u001b[39m.35\u001b[39m, min_cluster_size\u001b[39m=\u001b[39m\u001b[39m3\u001b[39m, min_samples\u001b[39m=\u001b[39m\u001b[39m5\u001b[39m)\u001b[39m.\u001b[39mfit_predict(X_optics)\n",
      "\u001b[1;31mNameError\u001b[0m: name 'new_df_tsne' is not defined"
     ]
    }
   ],
   "source": [
    "\n",
    "X_optics = pd.DataFrame(StandardScaler().fit_transform(new_df_tsne))\n",
    "\n",
    "'''Apply OPTICS'''\n",
    "optics = OPTICS(xi=.35, min_cluster_size=3, min_samples=5).fit_predict(X_optics)\n",
    "#labels_optics = optics.labels_\n",
    "\n",
    "plt.figure(figsize=(8,8))\n",
    "plt.title('OPTICS',fontsize= 20)\n",
    "plt.xlabel('Feature 1',fontsize= 18)\n",
    "plt.ylabel('Feature 2',fontsize= 18)\n",
    "fig = plt.scatter(X_optics[0], X_optics[1], c= optics)\n"
   ]
  },
  {
   "cell_type": "code",
   "execution_count": null,
   "metadata": {},
   "outputs": [
    {
     "data": {
      "image/png": "[encoded data removed]",
      "text/plain": [
       "<Figure size 576x576 with 1 Axes>"
      ]
     },
     "metadata": {
      "needs_background": "light"
     },
     "output_type": "display_data"
    }
   ],
   "source": [
    "\n",
    "X_kmeans = pd.DataFrame(StandardScaler().fit_transform(new_df_tsne))\n",
    "X_kmeans.index = new_df_tsne.index\n",
    "'''Apply K-Means'''\n",
    "from sklearn.cluster import *\n",
    "from sklearn.mixture import GaussianMixture\n",
    "\n",
    "\n",
    "kmean_clusters =   MiniBatchKMeans(n_clusters=6).fit_predict(X_kmeans)\n",
    "\n",
    "plt.figure(figsize = (8,8))\n",
    "plt.title('K-Means Clustering',fontsize= 20)\n",
    "plt.xlabel('Feature 1', fontsize=18)\n",
    "plt.ylabel('Feature 2', fontsize=18)\n",
    "f = plt.scatter(X_kmeans[0],X_kmeans[1],c=kmean_clusters)"
   ]
  },
  {
   "cell_type": "code",
   "execution_count": null,
   "metadata": {},
   "outputs": [
    {
     "data": {
      "image/png": "[encoded data removed]",
      "text/plain": [
       "<Figure size 1440x1440 with 1 Axes>"
      ]
     },
     "metadata": {},
     "output_type": "display_data"
    }
   ],
   "source": [
    "sns.set(rc={'figure.figsize':(20, 20)})\n",
    "\n",
    "\n",
    "z = X_kmeans[0]\n",
    "y = X_kmeans[1]\n",
    "n = new_df_tsne.index.get_level_values(0)\n",
    "fig, ax = plt.subplots()\n",
    "\n",
    "ax.scatter(z, y, c=kmean_clusters)\n",
    "\n",
    "\n",
    "\n",
    "for i, txt in enumerate(n):\n",
    "    ax.annotate(txt, (z[i], y[i]))"
   ]
  },
  {
   "cell_type": "code",
   "execution_count": null,
   "metadata": {},
   "outputs": [
    {
     "data": {
      "text/plain": [
       "\" new_df_tsne['Cluster'] = kmean_clusters.tolist()\\nnew_df_tsne \""
      ]
     },
     "execution_count": 29,
     "metadata": {},
     "output_type": "execute_result"
    }
   ],
   "source": [
    "\"\"\" new_df_tsne['Cluster'] = kmean_clusters.tolist()\n",
    "new_df_tsne \"\"\""
   ]
  },
  {
   "cell_type": "code",
   "execution_count": null,
   "metadata": {},
   "outputs": [],
   "source": [
    "\n",
    "new_df_tsne.to_csv(write_path + '/Cluster.csv')"
   ]
  },
  {
   "cell_type": "code",
   "execution_count": null,
   "metadata": {},
   "outputs": [],
   "source": []
  }
 ],
 "metadata": {
  "kernelspec": {
   "display_name": "Python 3.10.5 ('.venv': poetry)",
   "language": "python",
   "name": "python3"
  },
  "language_info": {
   "codemirror_mode": {
    "name": "ipython",
    "version": 3
   },
   "file_extension": ".py",
   "mimetype": "text/x-python",
   "name": "python",
   "nbconvert_exporter": "python",
   "pygments_lexer": "ipython3",
   "version": "3.10.5"
  },
  "vscode": {
   "interpreter": {
    "hash": "6044c39f3fa8d69f78786198aef61ed0dc3fdd7ddd5a88c111ee27e3b3325eb4"
   }
  }
 },
 "nbformat": 4,
 "nbformat_minor": 2
}
