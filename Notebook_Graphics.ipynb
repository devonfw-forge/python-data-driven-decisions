{
 "cells": [
  {
   "cell_type": "markdown",
   "metadata": {},
   "source": [
    "# Visualize Notebook\n",
    "In this notebook the Gold Dataframe will be read and extract information of it. The objective is to see the correlations between the variables and the GDP and also what countries have the highest correlation value.\n"
   ]
  },
  {
   "cell_type": "markdown",
   "metadata": {},
   "source": [
    "## Imports\n",
    "Start importing all the libraries and also the methods of pvalue and search indicators that will be used later in the notebook."
   ]
  },
  {
   "cell_type": "code",
   "execution_count": null,
   "metadata": {},
   "outputs": [],
   "source": [
    "import pandas as pd\n",
    "import matplotlib.pyplot as plt\n",
    "import numpy as np\n",
    "from scipy import stats\n",
    "from scipy.stats import shapiro, pearsonr, spearmanr\n",
    "import os\n",
    "import statistics\n",
    "import seaborn as sns\n",
    "from scipy.stats import norm\n",
    "import warnings\n",
    "warnings.filterwarnings(\"ignore\")\n",
    "import plotly.express as px\n",
    "from IPython.display import display_html\n",
    "import ipywidgets as widgets\n",
    "from ipywidgets import Layout\n",
    "from ipywidgets import AppLayout, Button, GridspecLayout\n",
    "from ipywidgets import interact, interact_manual\n",
    "from Project.Utils.visualize import  search\n",
    "%store -r PVALUE_VAR\n",
    "\n",
    "col_country = 'Country'\n",
    "col_year = 'Year'\n",
    "col_region = 'Region'\n",
    "\n",
    "region_url = os.getcwd() + '/Databases/AuxiliarData/world-regions-mod.csv'\n",
    "output_path = os.getcwd() + '/Output/'\n"
   ]
  },
  {
   "cell_type": "markdown",
   "metadata": {},
   "source": [
    "## LOADING DATAFRAMES"
   ]
  },
  {
   "cell_type": "code",
   "execution_count": null,
   "metadata": {},
   "outputs": [],
   "source": [
    "df = pd.read_csv(output_path + 'GoldDataframe.csv')\n",
    "corr_df_pearson = pd.read_csv(output_path + 'Corr_DF_pearson.csv', index_col = col_country)\n",
    "corr_df_spearman = pd.read_csv(output_path + 'Corr_DF_pearson.csv', index_col = col_country)\n",
    "region_df = pd.read_csv(region_url, index_col = [col_region, col_country])\n",
    "\n",
    "region_list = sorted(list(set(region_df.index.get_level_values(col_region))))"
   ]
  },
  {
   "cell_type": "markdown",
   "metadata": {},
   "source": [
    "## Correlation dataframe.\n",
    "This dataframe is the main piece of the notebook. Consists in generating for every country the correlation matrix for it and saving only the correlation value of the different variables with the GDP. \n",
    "\n",
    "Later on is concatenated and generates the following result:"
   ]
  },
  {
   "cell_type": "code",
   "execution_count": null,
   "metadata": {},
   "outputs": [],
   "source": [
    "corr_df = corr_df_spearman.copy()\n",
    "corr_df.style.background_gradient(cmap='RdBu')"
   ]
  },
  {
   "cell_type": "markdown",
   "metadata": {},
   "source": [
    "# Analysis\n",
    "From now on all the data will be analysed with the Cleaned dataframes.\n",
    "\n",
    "## Choropleth map\n",
    "This block uses the IppyWidget for the indicator list and the Choroplet for the Map. \n",
    "\n",
    "In this section a map is generated and painted with the values of the indicator. You can salect the indicator from the list and an new map is generated, also along 2 lists of the highest and lowest countries for the selected indicator. \n",
    "\n",
    "\n"
   ]
  },
  {
   "cell_type": "code",
   "execution_count": null,
   "metadata": {},
   "outputs": [],
   "source": [
    "indicator = widgets.SelectMultiple(\n",
    "    options = corr_df.columns.tolist(),\n",
    "    value = [corr_df.columns[0]],\n",
    "    description = 'Indicator',\n",
    "    disabled = False,\n",
    "    layout = Layout(width = '50%', height = '80px')\n",
    ")\n",
    "\n",
    "\n",
    "\n",
    "def globalGrapgh(indicator):\n",
    "    ind = indicator[0]\n",
    "    N = 10\n",
    "    fig = px.choropleth(corr_df, locations = corr_df.index, locationmode='country names', \n",
    "                        color = ind, projection=\"natural earth\",\n",
    "                        color_continuous_scale='RdBu',\n",
    "                        width = 700, height=500)\n",
    "\n",
    "    pos_corr = corr_df.drop(corr_df.columns.difference([ind]), axis = 1).sort_values(by = ind, axis = 0, ascending = False).head(n = N)\n",
    "    neg_corr = corr_df.drop(corr_df.columns.difference([ind]), axis = 1).sort_values(by = ind, axis = 0, ascending = True).head(n = N)\n",
    "\n",
    "    pos_corr = pos_corr.loc[pos_corr[ind] > 0]\n",
    "    neg_corr = neg_corr.loc[neg_corr[ind] < 0]\n",
    "\n",
    "\n",
    "    fig.update(layout_coloraxis_showscale=True)\n",
    "    fig.show()\n",
    "    \n",
    "    pos_styler = pos_corr.style.set_table_attributes(\"style='display:inline'\").set_caption('Direct correlation')\n",
    "    neg_styler = neg_corr.style.set_table_attributes(\"style='display:inline'\").set_caption('Inverse correlation')\n",
    "\n",
    "    space = \"\\xa0\" * 10\n",
    "    display_html(pos_styler._repr_html_() + space  + neg_styler._repr_html_(), raw=True)\n",
    "\n",
    "widgets.interactive(globalGrapgh, indicator = indicator)"
   ]
  },
  {
   "cell_type": "markdown",
   "metadata": {},
   "source": [
    "### Choropleth for population\n",
    "\n",
    "This map represents the population of the world. It is usefull for analysing the data if the aggregation is calculated later by the population, because the countries with a higher population have more impact in the global indicators."
   ]
  },
  {
   "cell_type": "code",
   "execution_count": null,
   "metadata": {},
   "outputs": [],
   "source": [
    "#df_gold = pd.read_csv(output_path + 'GoldDataframe.csv')\n",
    "fig = px.choropleth(df, locations = col_country, locationmode='country names', \n",
    "                     color = \"Population\", hover_name = col_country, projection = \"natural earth\",\n",
    "                     animation_frame = col_year, width = 800, height = 500,\n",
    "                     color_continuous_scale = 'Reds',\n",
    "                     range_color = [1000, 340000000])\n",
    "fig.update(layout_coloraxis_showscale = True)\n",
    "fig.show()"
   ]
  },
  {
   "cell_type": "markdown",
   "metadata": {},
   "source": [
    "## Country Indicators\n",
    "In this codeblock a widged is implmented to generate a table with the indicators. In order to make it work just select the country from the dropdown and procede to establasih the threshold. The default value for the threshold is 0.7, which we consider to be the minimum to consider an indicator correlated to the GDP. To analyze the results:\n",
    "- H0: the indicator and the GDP are uncorrelated.​\n",
    "- H1: the indicator and the GDP are correlated.​\n",
    "\n",
    "P-value: is the probability of obtaining  test results at least as extreme as the result actually observed.​\n",
    "Confidence level: probability that a population parameter will fall between a set of values for a certain proportion of times. ​\n",
    "Significance level:  probability of the study rejecting the null hypothesis when it is actually true.​\n",
    "\n",
    "\n",
    "Confidence level is set to 1 - `PVALUE_VAR`% .  Significance level α = `PVALUE_VAR`\n",
    "\n",
    "If `p-value` < α then reject  H0 and accept H1.​\n",
    "\n",
    "The code consists in a IppyWidget with a slider and a dropdown. Once this parameters have been set it calls the method 'search' and applies a style format of the returned Dataframe."
   ]
  },
  {
   "cell_type": "code",
   "execution_count": null,
   "metadata": {},
   "outputs": [],
   "source": [
    "def tableOut(Threshold, Country):\n",
    "\n",
    "    df = search(Threshold, col_country, Country)\n",
    "    if df.empty:\n",
    "        return print(\"No indicators have been found.\")\n",
    "\n",
    "    left1 = pd.Series([PVALUE_VAR, PVALUE_VAR], index=['P-value Pearson', 'P-value Spearman'])\n",
    "    left2 = pd.Series([-1, -1], index=['GDP Pearson Corr', 'GDP Spearman Corr'])\n",
    "    left3 = pd.Series([0, 0], index=['GDP Pearson Corr', 'GDP Spearman Corr'])\n",
    "    df = df.style.highlight_between(left = left1, right = 1.5, axis = 1, props='color:white; background-color:red;')\\\n",
    "                 .highlight_between(left = left2, right = 1.5, axis = 1, props='color:white; background-color:#929bfc;')\\\n",
    "                 .highlight_between(left = left3, right = 1.5, axis = 1, props='color:white; background-color:#b3b9ff;')\\\n",
    "                 .format('{:,.4f}', subset = ['GDP Pearson Corr', 'GDP Spearman Corr'])\\\n",
    "                 .format('{:,.12f}', subset = ['P-value Pearson', 'P-value Spearman']) \n",
    "    \n",
    "    display(df)\n",
    "\n",
    "\n",
    "\n",
    "@interact(\n",
    "    Country = sorted(corr_df.index.tolist()),\n",
    "    Threshold = (0, 1, 0.05))\n",
    "def g(Country = 'Afghanistan', Threshold = 0.7):\n",
    "    return tableOut(Threshold,Country)"
   ]
  },
  {
   "cell_type": "markdown",
   "metadata": {},
   "source": [
    "## Region Indicators\n",
    "We will follow the same procedure as before, with a significance level α = `PVALUE_VAR`.\n",
    "\n",
    "This time, though, we do not have observations of the regions themselves, but their countries. Thus, we need to establish a procedure to estimate its values. We have opted for two methods:\n",
    "- Aggregation of the indicators, using a weighted mean by population for relative indicators, and a summatory for absolute indicators. Then, calculate the correlations from this aggregated Dataframe. This is a standard procedure that sources such as the World Bank use to aggregate data from different areas.\n",
    "- Calculating the median of the correlations, that is, from the correlation Dataframe we showed at the beginning of this notebook. That way, we obtain a more centered result and avoid the over-representation of countries like India or China, while giving more relevance to data from smaller countries.\n"
   ]
  },
  {
   "cell_type": "markdown",
   "metadata": {},
   "source": [
    "### BY AGGREGATION"
   ]
  },
  {
   "cell_type": "code",
   "execution_count": null,
   "metadata": {},
   "outputs": [],
   "source": [
    "def tableRegAgg(Threshold, Region):\n",
    "\n",
    "    df = search(Threshold, col_region, Region)\n",
    "    if df.empty:\n",
    "        return print(\"No indicators have been found.\")\n",
    "\n",
    "    left1 = pd.Series([PVALUE_VAR, PVALUE_VAR], index = ['P-value Pearson', 'P-value Spearman'])\n",
    "    left2 = pd.Series([-1, -1], index = ['GDP Pearson Corr', 'GDP Spearman Corr'])\n",
    "    left3 = pd.Series([0, 0], index = ['GDP Pearson Corr', 'GDP Spearman Corr'])\n",
    "    df = df.style.highlight_between(left = left1, right = 1.5, axis = 1, props = 'color:white; background-color:red;')\\\n",
    "                 .highlight_between(left = left2, right = 1.5, axis = 1, props = 'color:white; background-color:#929bfc;')\\\n",
    "                 .highlight_between(left = left3, right = 1.5, axis = 1, props = 'color:white; background-color:#b3b9ff;')\\\n",
    "                 .format('{:,.4f}', subset = ['GDP Pearson Corr', 'GDP Spearman Corr'])\\\n",
    "                 .format('{:,.12f}', subset = ['P-value Pearson', 'P-value Spearman']) \n",
    "    \n",
    "    display(df)\n",
    "\n",
    "\n",
    "\n",
    "@interact(\n",
    "    Region = region_list,\n",
    "    Threshold = (0, 1, 0.05))\n",
    "def g(Region = region_list[0], Threshold = 0.7):\n",
    "    return tableRegAgg(Threshold, Region)\n"
   ]
  },
  {
   "cell_type": "markdown",
   "metadata": {},
   "source": [
    "### BY MEDIAN"
   ]
  },
  {
   "cell_type": "code",
   "execution_count": null,
   "metadata": {},
   "outputs": [],
   "source": [
    "median_corr_df_pearson_region = pd.merge(corr_df_pearson, region_df, how = 'inner', left_index = True, right_index = True).groupby(level = col_region).median()\n",
    "median_corr_df_spearman_region = pd.merge(corr_df_spearman, region_df, how = 'inner', left_index = True, right_index = True).groupby(level = col_region).median()\n",
    "\n",
    "def tableRegMed(Region, Threshold):    \n",
    "    median_corr_series_pearson_region = median_corr_df_pearson_region.loc[Region]\n",
    "    median_corr_series_pearson_region.name = 'GDP Pearson Corr'\n",
    "    median_corr_series_spearman_region = median_corr_df_spearman_region.loc[Region]\n",
    "    median_corr_series_spearman_region.name = 'GDP Spearman Corr'\n",
    "    df = pd.concat([median_corr_series_pearson_region, median_corr_series_spearman_region], axis = 1)\n",
    "    df = df.loc[(abs(df['GDP Pearson Corr']) >= Threshold) & (abs(df['GDP Spearman Corr']) >= Threshold)]\n",
    "\n",
    "    if df.empty:\n",
    "        return print(\"No indicators have been found.\")\n",
    "\n",
    "    df = df.sort_values(by = df.columns[0], ascending = False, key = lambda row: df.sum(axis = 1))\n",
    "\n",
    "    left1 = pd.Series([-1, -1], index = ['GDP Pearson Corr', 'GDP Spearman Corr'])\n",
    "    left2 = pd.Series([0, 0], index = ['GDP Pearson Corr', 'GDP Spearman Corr'])\n",
    "    df = df.style\\\n",
    "        .highlight_between(left = left1, right = 1.5, axis = 1, props = 'color:white; background-color:#929bfc;')\\\n",
    "        .highlight_between(left = left2, right = 1.5, axis = 1, props = 'color:white; background-color:#b3b9ff;')\\\n",
    "        .format('{:,.4f}', subset = ['GDP Pearson Corr', 'GDP Spearman Corr'])\\\n",
    "    \n",
    "    display(df)\n",
    "\n",
    "\n",
    "\n",
    "@interact(\n",
    "    Region = region_list,\n",
    "    Threshold = (0, 1, 0.05))\n",
    "def g(Region = region_list[0], Threshold = 0.7):\n",
    "    return tableRegMed(Region, Threshold)\n"
   ]
  },
  {
   "cell_type": "markdown",
   "metadata": {},
   "source": [
    "## Global Indicators\n",
    "This section reperesents the final analysis of the indicators. It shows in the indicators table with the highest correlations, applying both methods we used to represent the correlations for the regions: aggregation and median.\n",
    "\n",
    "With this results we can give an answer to the hypothesis of the project and establish the indicators with a high GDP relation."
   ]
  },
  {
   "cell_type": "markdown",
   "metadata": {},
   "source": [
    "### BY AGGREGATION"
   ]
  },
  {
   "cell_type": "code",
   "execution_count": null,
   "metadata": {},
   "outputs": [],
   "source": [
    "def tableWorldAgg(Threshold):\n",
    "\n",
    "    df = search(Threshold, 'Global')\n",
    "    if df.empty:\n",
    "        return print(\"No indicators have been found.\")\n",
    "\n",
    "    left1 = pd.Series([PVALUE_VAR, PVALUE_VAR], index = ['P-value Pearson', 'P-value Spearman'])\n",
    "    left2 = pd.Series([-1, -1], index = ['GDP Pearson Corr', 'GDP Spearman Corr'])\n",
    "    left3 = pd.Series([0, 0], index = ['GDP Pearson Corr', 'GDP Spearman Corr'])\n",
    "    df = df.style.highlight_between(left = left1, right = 1.5, axis = 1, props = 'color:white; background-color:red;')\\\n",
    "                 .highlight_between(left = left2, right = 1.5, axis = 1, props = 'color:white; background-color:#929bfc;')\\\n",
    "                 .highlight_between(left = left3, right = 1.5, axis = 1, props = 'color:white; background-color:#b3b9ff;')\\\n",
    "                 .format('{:,.4f}', subset = ['GDP Pearson Corr', 'GDP Spearman Corr'])\\\n",
    "                 .format('{:,.12f}', subset = ['P-value Pearson', 'P-value Spearman']) \n",
    "    \n",
    "    display(df)\n",
    "\n",
    "\n",
    "\n",
    "@interact(\n",
    "    Threshold = (0, 1, 0.05))\n",
    "def g(Threshold = 0.7):\n",
    "    return tableWorldAgg(Threshold)\n"
   ]
  },
  {
   "cell_type": "markdown",
   "metadata": {},
   "source": [
    "### BY MEDIAN"
   ]
  },
  {
   "cell_type": "code",
   "execution_count": null,
   "metadata": {},
   "outputs": [],
   "source": [
    "median_corr_df_pearson = pd.merge(corr_df_pearson, region_df, how = 'inner', left_index = True, right_index = True).median().rename('GDP Pearson Corr')\n",
    "median_corr_df_spearman = pd.merge(corr_df_spearman, region_df, how = 'inner', left_index = True, right_index = True).median().rename('GDP Spearman Corr')\n",
    "\n",
    "def tableWorldMed(Threshold):\n",
    "    df = pd.concat([median_corr_df_pearson, median_corr_df_spearman], axis = 1)\n",
    "    df = df.loc[(abs(df['GDP Pearson Corr']) >= Threshold) & (abs(df['GDP Spearman Corr']) >= Threshold)]\n",
    "\n",
    "    if df.empty:\n",
    "        return print(\"No indicators have been found.\")\n",
    "\n",
    "    df = df.sort_values(by = df.columns[0], ascending = False, key = lambda row: df.sum(axis = 1))\n",
    "\n",
    "    left1 = pd.Series([-1, -1], index = ['GDP Pearson Corr', 'GDP Spearman Corr'])\n",
    "    left2 = pd.Series([0, 0], index = ['GDP Pearson Corr', 'GDP Spearman Corr'])\n",
    "    df = df.style.highlight_between(left = left1, right = 1.5, axis = 1, props = 'color:white; background-color:#929bfc;')\\\n",
    "                 .highlight_between(left = left2, right = 1.5, axis = 1, props = 'color:white; background-color:#b3b9ff;')\\\n",
    "                 .format('{:,.4f}', subset = ['GDP Pearson Corr', 'GDP Spearman Corr'])\\\n",
    "\n",
    "    display(df)\n",
    "\n",
    "\n",
    "\n",
    "@interact(\n",
    "    Threshold = (0, 1, 0.05))\n",
    "def g(Threshold = 0.7):\n",
    "    return tableWorldMed(Threshold)"
   ]
  }
 ],
 "metadata": {
  "kernelspec": {
   "display_name": "Python 3.10.5 ('.venv': poetry)",
   "language": "python",
   "name": "python3"
  },
  "language_info": {
   "codemirror_mode": {
    "name": "ipython",
    "version": 3
   },
   "file_extension": ".py",
   "mimetype": "text/x-python",
   "name": "python",
   "nbconvert_exporter": "python",
   "pygments_lexer": "ipython3",
   "version": "3.10.5"
  },
  "vscode": {
   "interpreter": {
    "hash": "6044c39f3fa8d69f78786198aef61ed0dc3fdd7ddd5a88c111ee27e3b3325eb4"
   }
  }
 },
 "nbformat": 4,
 "nbformat_minor": 2
}
