{
 "cells": [
  {
   "cell_type": "markdown",
   "id": "292a79ab",
   "metadata": {},
   "source": [
    "# Data extraction"
   ]
  },
  {
   "cell_type": "markdown",
   "id": "fa3ee36c",
   "metadata": {},
   "source": [
    "In the following cells we are going to import the data from the [World Bank website](https://www.worldbank.org/en/home), Data sections, and decompress it. So later on, we can process it in the integration, and subsequent parts."
   ]
  },
  {
   "cell_type": "code",
   "execution_count": 1,
   "id": "760c86c6",
   "metadata": {},
   "outputs": [
    {
     "ename": "ModuleNotFoundError",
     "evalue": "No module named 'requests'",
     "output_type": "error",
     "traceback": [
      "\u001b[1;31m---------------------------------------------------------------------------\u001b[0m",
      "\u001b[1;31mModuleNotFoundError\u001b[0m                       Traceback (most recent call last)",
      "\u001b[1;32mc:\\Users\\mferna38\\Documents\\GitHub\\python-data-driven-decisions\\WDI-Data extraction.ipynb Cell 3'\u001b[0m in \u001b[0;36m<cell line: 1>\u001b[1;34m()\u001b[0m\n\u001b[1;32m----> <a href='vscode-notebook-cell:/c%3A/Users/mferna38/Documents/GitHub/python-data-driven-decisions/WDI-Data%20extraction.ipynb#ch0000002?line=0'>1</a>\u001b[0m \u001b[39mimport\u001b[39;00m \u001b[39mrequests\u001b[39;00m\n\u001b[0;32m      <a href='vscode-notebook-cell:/c%3A/Users/mferna38/Documents/GitHub/python-data-driven-decisions/WDI-Data%20extraction.ipynb#ch0000002?line=1'>2</a>\u001b[0m \u001b[39mimport\u001b[39;00m \u001b[39mglob\u001b[39;00m\n\u001b[0;32m      <a href='vscode-notebook-cell:/c%3A/Users/mferna38/Documents/GitHub/python-data-driven-decisions/WDI-Data%20extraction.ipynb#ch0000002?line=2'>3</a>\u001b[0m \u001b[39mimport\u001b[39;00m \u001b[39mos\u001b[39;00m\n",
      "\u001b[1;31mModuleNotFoundError\u001b[0m: No module named 'requests'"
     ]
    }
   ],
   "source": [
    "import requests\n",
    "import glob\n",
    "import os\n",
    "from zipfile import ZipFile"
   ]
  },
  {
   "cell_type": "markdown",
   "id": "4066cd3c",
   "metadata": {},
   "source": [
    "To download the data, we are going to use the `request` library as just to be sure that we do not run into any inconvinient we are going to use the `stream` and `verify` to have a simple and cleaner download. Therefore, at the end we will have the data downloaded in our working directory data by design. (It can be obtained with the following function `os.getcwd()`)"
   ]
  },
  {
   "cell_type": "code",
   "execution_count": 2,
   "id": "fbae03c0",
   "metadata": {},
   "outputs": [
    {
     "ename": "NameError",
     "evalue": "name 'requests' is not defined",
     "output_type": "error",
     "traceback": [
      "\u001b[1;31m---------------------------------------------------------------------------\u001b[0m",
      "\u001b[1;31mNameError\u001b[0m                                 Traceback (most recent call last)",
      "\u001b[1;32mc:\\Users\\mferna38\\Documents\\GitHub\\python-data-driven-decisions\\WDI-Data extraction.ipynb Cell 5'\u001b[0m in \u001b[0;36m<cell line: 2>\u001b[1;34m()\u001b[0m\n\u001b[0;32m      <a href='vscode-notebook-cell:/c%3A/Users/mferna38/Documents/GitHub/python-data-driven-decisions/WDI-Data%20extraction.ipynb#ch0000004?line=0'>1</a>\u001b[0m url \u001b[39m=\u001b[39m \u001b[39m'\u001b[39m\u001b[39mhttps://databank.worldbank.org/data/download/WDI_csv.zip\u001b[39m\u001b[39m'\u001b[39m\n\u001b[1;32m----> <a href='vscode-notebook-cell:/c%3A/Users/mferna38/Documents/GitHub/python-data-driven-decisions/WDI-Data%20extraction.ipynb#ch0000004?line=1'>2</a>\u001b[0m r \u001b[39m=\u001b[39m requests\u001b[39m.\u001b[39mget(url, allow_redirects\u001b[39m=\u001b[39m\u001b[39mTrue\u001b[39;00m, stream \u001b[39m=\u001b[39m \u001b[39mTrue\u001b[39;00m,verify\u001b[39m=\u001b[39m\u001b[39mFalse\u001b[39;00m)\n\u001b[0;32m      <a href='vscode-notebook-cell:/c%3A/Users/mferna38/Documents/GitHub/python-data-driven-decisions/WDI-Data%20extraction.ipynb#ch0000004?line=2'>3</a>\u001b[0m \u001b[39mopen\u001b[39m(\u001b[39m'\u001b[39m\u001b[39mWDI_csv.zip\u001b[39m\u001b[39m'\u001b[39m, \u001b[39m'\u001b[39m\u001b[39mwb\u001b[39m\u001b[39m'\u001b[39m)\u001b[39m.\u001b[39mwrite(r\u001b[39m.\u001b[39mcontent)\n",
      "\u001b[1;31mNameError\u001b[0m: name 'requests' is not defined"
     ]
    }
   ],
   "source": [
    "url = 'https://databank.worldbank.org/data/download/WDI_csv.zip'\n",
    "r = requests.get(url, allow_redirects=True, stream = True,verify=False)\n",
    "open('WDI_csv.zip', 'wb').write(r.content)"
   ]
  },
  {
   "cell_type": "markdown",
   "id": "ef0affe5",
   "metadata": {},
   "source": [
    "Then we extract all the files that are contained in *WDI_csv.zip* , into the default directory in a new folder called *Data*. "
   ]
  },
  {
   "cell_type": "code",
   "execution_count": null,
   "id": "1aa3d76c",
   "metadata": {},
   "outputs": [],
   "source": [
    "zip_name = \"WDI_csv.zip\"\n",
    "with ZipFile(zip_name, 'r') as zip:\n",
    "    zip.printdir()\n",
    "    zip.extractall('Data') "
   ]
  },
  {
   "cell_type": "markdown",
   "id": "4d97ef77",
   "metadata": {},
   "source": [
    "Finally we are going to delete the *WDI_csv.zip*."
   ]
  },
  {
   "cell_type": "code",
   "execution_count": null,
   "id": "566bfbbc",
   "metadata": {},
   "outputs": [],
   "source": [
    "os.remove(os.getcwd()+\"/**.zip\")"
   ]
  },
  {
   "cell_type": "markdown",
   "id": "61a307d6",
   "metadata": {},
   "source": [
    "As this online extraction was giving us errors, we made it offline manually."
   ]
  },
  {
   "cell_type": "code",
   "execution_count": null,
   "id": "9bbc20f1",
   "metadata": {},
   "outputs": [],
   "source": [
    "import pandas as pd\n",
    "import numpy as np\n",
    "import glob\n",
    "import os\n",
    "from pyspark.sql.functions import concat, col, lit, split"
   ]
  },
  {
   "cell_type": "markdown",
   "id": "d0761e0f",
   "metadata": {},
   "source": [
    "Firstly we load the database from World Data Bank that has been downloaded and extracted in the *Data extraction* notebook. We acquire it from the predetermined path that is on our computer."
   ]
  },
  {
   "cell_type": "code",
   "execution_count": null,
   "id": "65aaa329",
   "metadata": {},
   "outputs": [],
   "source": [
    "df= pd.read_csv (os.getcwd()+'/Data/''WDIData.csv')\n",
    "df"
   ]
  }
 ],
 "metadata": {
  "kernelspec": {
   "display_name": "Python 3.10.4 ('.venv': poetry)",
   "language": "python",
   "name": "python3"
  },
  "language_info": {
   "codemirror_mode": {
    "name": "ipython",
    "version": 3
   },
   "file_extension": ".py",
   "mimetype": "text/x-python",
   "name": "python",
   "nbconvert_exporter": "python",
   "pygments_lexer": "ipython3",
   "version": "3.10.4"
  },
  "vscode": {
   "interpreter": {
    "hash": "292912297167048338b5d1136ec8c661b8a2f1d3fcecd6650d637809a967c218"
   }
  }
 },
 "nbformat": 4,
 "nbformat_minor": 5
}
