{
 "cells": [
  {
   "cell_type": "markdown",
   "metadata": {},
   "source": [
    "# Window Time Series\n",
    "\n",
    "In this notebook it will be performed an analysis of the indicators with the GDP through a time window. This consists in selecting a year range instead of the whole available data, allowing to see specific periods of time and their impact. \n",
    "\n",
    "The structure of the notebook is the following:\n",
    "- Time window country/region: see the indicators correlation of the selected year range for the country/region\n",
    "- Highest correlations country/region: finds the highest positive/negative correlations for the selected country/region.\n",
    "- Plot for the countries: to compare their GDP with the indicators\n",
    "\n",
    "We will start importing all the libraries and necessary dataframes."
   ]
  },
  {
   "cell_type": "code",
   "execution_count": 28,
   "metadata": {},
   "outputs": [],
   "source": [
    "import os\n",
    "import pandas as pd\n",
    "import ipywidgets as widgets\n",
    "from ipywidgets import Layout\n",
    "from ipywidgets import AppLayout, Button, GridspecLayout\n",
    "import numpy as np\n",
    "from ipywidgets import interact, interact_manual\n",
    "from math import nan\n",
    "from IPython.display import display_html\n",
    "import itertools\n",
    "from scipy import stats\n",
    "import warnings\n",
    "import matplotlib.pyplot as plt\n",
    "warnings.filterwarnings(\"ignore\")\n",
    "PVALUE_VAR = 0.05\n",
    "%store -r PVALUE_VAR\n",
    "\n",
    "from Project.Utils.visualize import  search, searchTimeSeries, normalize_by_country\n",
    "\n",
    "write_path = os.getcwd() + '/Output' #Path to the folder you want to store the dataframes\n",
    "output_path = os.getcwd() + '/Output/'\n",
    "\n",
    "col_country = 'Country'\n",
    "col_year = 'Year'\n",
    "col_region = 'Region'\n",
    "\n",
    "df_gold = pd.read_csv(output_path + 'GoldDataframe.csv')\n",
    "global df_gold_index\n",
    "df_gold_index = df_gold.set_index(['Country', 'Year', 'Region'])\n",
    "\n",
    "country_list = list(np.sort(df_gold['Country'].unique()))\n",
    "region_list = list(np.sort(df_gold['Region'].unique()))\n",
    "\n",
    "min_year = min(df_gold_index.index.get_level_values('Year').unique())\n",
    "max_year = max(df_gold_index.index.get_level_values('Year').unique())"
   ]
  },
  {
   "cell_type": "markdown",
   "metadata": {},
   "source": [
    "### Styler\n",
    "\n",
    "A simple codeblock used to improve the visualization of the dataframes. It also catches the exception when no data is availble to dislpay."
   ]
  },
  {
   "cell_type": "code",
   "execution_count": 2,
   "metadata": {},
   "outputs": [],
   "source": [
    "def styler_method(df, name, pvalue = None):    \n",
    "        if pvalue == None:\n",
    "                pvalue = PVALUE_VAR\n",
    "    #try:\n",
    "        styles = [dict(selector=\"caption\", props=[(\"background-color\", \"#98D3FF\")])]\n",
    "        left1 = pd.Series([pvalue], index=['P-value Spearman'])\n",
    "        left2 = pd.Series([-1], index=['GDP Spearman Corr'])\n",
    "        left3 = pd.Series([0], index=['GDP Spearman Corr'])\n",
    "        dfs = df.style.highlight_between(left = left1, right = 1.5, axis = 1, props='color:white; background-color:red;')\\\n",
    "                .highlight_between(left = left2, right = 1.5, axis = 1, props='color:white; background-color:#929bfc;')\\\n",
    "                .highlight_between(left = left3, right = 1.5, axis = 1, props='color:white; background-color:#b3b9ff;')\\\n",
    "                .format('{:,.4f}', subset = ['GDP Spearman Corr'])\\\n",
    "                .format('{:,.12f}', subset = ['P-value Spearman']) \\\n",
    "                .set_caption(name).set_table_styles(styles)\\\n",
    "                .set_table_attributes(\"style='display:inline'\")\n",
    "    #except:\n",
    "    #    dfs = 'No indicators have been found for the window dataframe in this range.'\n",
    "        \n",
    "        return dfs"
   ]
  },
  {
   "cell_type": "markdown",
   "metadata": {},
   "source": [
    "## Time Window\n",
    "\n",
    "See the indicators correlation of the selected year range for the country or region. Select the zone, the year range and the results will be displayed in the left side, meanwhile in the right there is the original dataframe for the whole data. The only difference between country and region is that for region the dataframe is normalized, due to having different countries. Having more countries in the data input allows to generate a better statistical result (lower p-values) compared to the country widget.\n",
    "\n",
    "It is recommended leaving the 'Threshold' parameter at 0.7 or higher to have statistical significance results.\n",
    "\n",
    "**Don't select a very narrow year range, as this will generate a result with low data input and higher p-values. A p-value > 0.5 is not considered to have statistical significance.**\n",
    "\n",
    "This widget allows to perform comparisons for specific years, for example the impact of a crysis in the indicators and GDP."
   ]
  },
  {
   "cell_type": "code",
   "execution_count": 3,
   "metadata": {},
   "outputs": [],
   "source": [
    "import time\n",
    "\n",
    "def load_by_region(region, df_param):\n",
    "    start = time.time()\n",
    "    df = df_param.loc[df_param.index.get_level_values('Region') == region]\n",
    "    df = normalize_by_country(df)\n",
    "    df.sort_index(level = ['Year', 'Country'], inplace=True)\n",
    "    end = time.time()\n",
    "    print(\"[{:.2f} seconds] Normalized Region {}\".format(end - start, region))\n",
    "    return df"
   ]
  },
  {
   "cell_type": "code",
   "execution_count": 4,
   "metadata": {},
   "outputs": [
    {
     "name": "stdout",
     "output_type": "stream",
     "text": [
      "[3.26 seconds] Normalized Region East Asia and Pacific\n",
      "[6.32 seconds] Normalized Region Europe and Central Asia\n",
      "[3.51 seconds] Normalized Region Latin America and Caribbean\n",
      "[1.78 seconds] Normalized Region Middle East and North Africa\n",
      "[0.25 seconds] Normalized Region North America\n",
      "[0.92 seconds] Normalized Region South Asia\n",
      "[4.82 seconds] Normalized Region Sub-Saharan Africa\n"
     ]
    }
   ],
   "source": [
    "# Precompute contries by region normalized\n",
    "countries_by_region = {}\n",
    "for r in region_list:\n",
    "    countries_by_region[r] = load_by_region(r, df_gold_index)"
   ]
  },
  {
   "cell_type": "code",
   "execution_count": 5,
   "metadata": {},
   "outputs": [],
   "source": [
    "class WidgetTimeWindowCountryStatus:\n",
    "    def __init__(self):\n",
    "        self.filter_by = \"Country\"\n",
    "        self.zone = None\n",
    "        self.data = None\n",
    "        \n",
    "status_widget = WidgetTimeWindowCountryStatus()"
   ]
  },
  {
   "cell_type": "code",
   "execution_count": 6,
   "metadata": {},
   "outputs": [
    {
     "data": {
      "application/vnd.jupyter.widget-view+json": {
       "model_id": "cc099533c7794b28897b1c3eee820ebd",
       "version_major": 2,
       "version_minor": 0
      },
      "text/plain": [
       "interactive(children=(Dropdown(description='By: ', options=('Country', 'Region'), value='Country'), Dropdown(d…"
      ]
     },
     "metadata": {},
     "output_type": "display_data"
    },
    {
     "data": {
      "text/plain": [
       "<function __main__.time_window_zone(by, zone, threshold, years)>"
      ]
     },
     "execution_count": 6,
     "metadata": {},
     "output_type": "execute_result"
    }
   ],
   "source": [
    "def time_window_zone(by, zone, threshold , years):\n",
    "    # Update Widget Status\n",
    "    if by == 'Country':\n",
    "        if status_widget.filter_by != \"Country\":\n",
    "            status_widget.filter_by = \"Country\"\n",
    "            zone_drop.options = country_list\n",
    "            return\n",
    "        if status_widget.zone != zone:\n",
    "            #Search for entries of the country.\n",
    "            status_widget.data = df_gold_index.loc[df_gold_index.index.get_level_values('Country') == zone]\n",
    "            status_widget.zone = zone\n",
    "\n",
    "    elif by == 'Region':\n",
    "         if status_widget.filter_by != \"Region\":\n",
    "            status_widget.filter_by = \"Region\"\n",
    "            zone_drop.options = region_list\n",
    "            return\n",
    "         if status_widget.zone != zone:\n",
    "            #Search for entries of the country.\n",
    "            status_widget.data = countries_by_region[zone] # load_by_region(Zone)\n",
    "            status_widget.zone = zone\n",
    "    \n",
    "    # Update Widget Data\n",
    "    df_zone = status_widget.data\n",
    "    \n",
    "    #Load the selected year range and the global range.\n",
    "    df_time = searchTimeSeries(threshold, years[0], years[1], True, df_zone)\n",
    "    df_global = searchTimeSeries(threshold, years[0], years[1], False, df_zone)\n",
    "\n",
    "    # Display Data\n",
    "    if years[0] > years[1]: return print(\"Please, select a valid range of years.\")\n",
    " \n",
    "    space = \"\\xa0\" * 10\n",
    "    try:\n",
    "        df_time = styler_method(df_time, str(years[0]) + '-' + str(years[1]))._repr_html_()\n",
    "    except: \n",
    "        df_time = 'No indicators available for the selected parameters'\n",
    "    \n",
    "    try:\n",
    "        df_global = styler_method(df_global, '2000-2020')._repr_html_()\n",
    "    except: \n",
    "        df_global = 'No indicators available for the selected parameters'\n",
    "\n",
    "    display_html(df_time + space  + df_global, raw=True)\n",
    "    \n",
    "by_drop = widgets.Dropdown(\n",
    "    options= ['Country', 'Region'],\n",
    "    description='By: ',\n",
    ")\n",
    "\n",
    "intslider = widgets.IntRangeSlider(\n",
    "    value=[min(set(df_gold['Year'])), max(set(df_gold['Year']))],\n",
    "    min= min(set(df_gold['Year'])),\n",
    "    max= max(set(df_gold['Year'])),\n",
    "    step=1,\n",
    "    description='Years: ',\n",
    ")\n",
    "\n",
    "zone_drop = widgets.Dropdown(\n",
    "    options= country_list,\n",
    "    value='Afghanistan',\n",
    "    description='Zone: ',\n",
    ")\n",
    "\n",
    "floatslider = widgets.FloatSlider(\n",
    "    value=0.7,\n",
    "    min=0,\n",
    "    max=1.0,\n",
    "    step=0.05,\n",
    "    description='Threshold:',\n",
    ")\n",
    "\n",
    "widgets.interact(time_window_zone, by = by_drop, zone = zone_drop, threshold = floatslider, years = intslider)"
   ]
  },
  {
   "cell_type": "markdown",
   "metadata": {},
   "source": [
    "# Highest correlations\n",
    "\n",
    "Finds the highest positive/negative correlations for the selected zone. The correlation found is displayed next to the year range where has been located. This widget allows to detect periods of time with important events resulting in a modification of the indicator correlation. The widget also filters the p-values lower than 0.05.\n",
    "\n",
    "In the widget for the countries a lot of maximum correlation are found, this is caused when there is a low of data input.\n",
    "\n",
    "In first place, define a method were will be stored all the results:"
   ]
  },
  {
   "cell_type": "code",
   "execution_count": 7,
   "metadata": {},
   "outputs": [],
   "source": [
    "def init_highest_table(indicators):    \n",
    "    df_highest = pd.DataFrame(columns={\"Indicator\"})\n",
    "    df_highest[\"Indicator\"] = indicators\n",
    "    df_highest[\"Year range\"] = 0\n",
    "    df_highest[\"Highest positive Spearman corr\"] = 0\n",
    "    df_highest[\"Year range \"] = 0\n",
    "    df_highest[\"Highest negative Spearman corr\"] = 0\n",
    "    df_highest.set_index(\"Indicator\", inplace= True)\n",
    "\n",
    "    return df_highest"
   ]
  },
  {
   "cell_type": "markdown",
   "metadata": {},
   "source": [
    "Iterable: a list of all the combinations for the year ranges with length of five years.\n",
    "\n",
    "Indicators: a list of all the indicators."
   ]
  },
  {
   "cell_type": "code",
   "execution_count": 8,
   "metadata": {},
   "outputs": [],
   "source": [
    "indicators = list(df_gold_index.columns)\n",
    "indicators.remove('GDP')\n"
   ]
  },
  {
   "cell_type": "code",
   "execution_count": 12,
   "metadata": {},
   "outputs": [],
   "source": [
    "def generate_years_combinations(min_diff: int, min, max):\n",
    "    iterable = list(range(min, max + 1))\n",
    "    iterable = list(itertools.combinations(iterable, 2))\n",
    "\n",
    "    #The year length must be higher than 5. All entries with a lower range are deleted.\n",
    "    for years in iterable.copy():\n",
    "        if (years[1] - years[0]) < min_diff:\n",
    "            iterable.remove(years)\n",
    "    return iterable"
   ]
  },
  {
   "cell_type": "code",
   "execution_count": 13,
   "metadata": {},
   "outputs": [
    {
     "data": {
      "application/vnd.jupyter.widget-view+json": {
       "model_id": "c69cf80b44864ab9869cc95fcf71f91b",
       "version_major": 2,
       "version_minor": 0
      },
      "text/plain": [
       "interactive(children=(Dropdown(description='By: ', options=('Country', 'Region'), value='Country'), Dropdown(d…"
      ]
     },
     "metadata": {},
     "output_type": "display_data"
    },
    {
     "data": {
      "text/plain": [
       "<function __main__.table_high_country(by, zone)>"
      ]
     },
     "execution_count": 13,
     "metadata": {},
     "output_type": "execute_result"
    }
   ],
   "source": [
    "def table_high_country(by, zone):\n",
    "    if by == 'Country':\n",
    "        if len(zone_drop_high.options) == len(region_list): \n",
    "            zone_drop_high.options = country_list\n",
    "            return\n",
    "        #Search for the entries of the country.\n",
    "        df_zone  = df_gold_index.loc[df_gold_index.index.get_level_values('Country') == zone]\n",
    "        min_diff = 5\n",
    "    \n",
    "        \n",
    "    elif by == 'Region':\n",
    "        if len(zone_drop_high.options) == len(country_list): \n",
    "            zone_drop_high.options = region_list\n",
    "            return\n",
    "        #Search for the entries of the region and normalize.\n",
    "        df_zone = countries_by_region[zone]\n",
    "        min_diff = 2\n",
    "    \n",
    "    df_highest = init_highest_table(indicators)\n",
    "    \n",
    "    i = 0\n",
    "    computing_text = \"Loading \"\n",
    "    print(computing_text, end=\"\\r\")\n",
    "    \n",
    "    #For all the combination of years...\n",
    "    for years in generate_years_combinations(min_diff, min_year, max_year):\n",
    "        \n",
    "        i = (i + 1) % 50\n",
    "        print (computing_text + \"\".join([\".\" for _ in range(i)]), end=\"\\r\")\n",
    "        \n",
    "        df_aux = searchTimeSeries(0, years[0], years[1], True, df_zone)\n",
    "        #Delete indicators which are not available that year\n",
    "        indicators_inter = list(set(indicators) & set(list(df_aux.index)))\n",
    "\n",
    "        #For all the indicators availble that year....\n",
    "        for indicator in indicators_inter:\n",
    "            #Algorithm to search for the highest value\n",
    "            indicator_corr_pos_last = df_highest[df_highest.index.get_level_values(0) == indicator][\"Highest positive Spearman corr\"][0]\n",
    "            indicator_corr_neg_last = df_highest[df_highest.index.get_level_values(0) == indicator][\"Highest negative Spearman corr\"][0]\n",
    "            \n",
    "          \n",
    "            indicator_corr_aux = df_aux[df_aux.index.get_level_values(0) == indicator][\"GDP Spearman Corr\"][0]\n",
    "            indicator_p_value_aux = df_aux[df_aux.index.get_level_values(0) == indicator][\"P-value Spearman\"][0]\n",
    "\n",
    "            if indicator_corr_aux != nan and indicator_p_value_aux < PVALUE_VAR:\n",
    "                if indicator_corr_pos_last < indicator_corr_aux and indicator_corr_aux > 0:\n",
    "                    df_highest.at[indicator, \"Year range\"] = str(years[0]) + '-' + str(years[1])\n",
    "                    df_highest.at[indicator, \"Highest positive Spearman corr\"] = indicator_corr_aux\n",
    "                elif indicator_corr_neg_last > indicator_corr_aux and indicator_corr_aux < 0:\n",
    "                    df_highest.at[indicator, \"Year range \"] = str(years[0]) + '-' + str(years[1])\n",
    "                    df_highest.at[indicator, \"Highest negative Spearman corr\"] = indicator_corr_aux\n",
    "\n",
    "    df_highest = df_highest.replace(0, nan).dropna(axis=0, how='all').fillna(\"-\")\n",
    "    \n",
    "    print(\"                                                                                    \", end=\"\\r\")\n",
    "\n",
    "\n",
    "    display(df_highest)\n",
    "\n",
    "by_drop_high = widgets.Dropdown(\n",
    "    options= ['Country', 'Region'],\n",
    "    description='By: ',\n",
    ")\n",
    "\n",
    "zone_drop_high = widgets.Dropdown(\n",
    "    options= country_list,\n",
    "    value ='Afghanistan',\n",
    "    description='Zone:',\n",
    ")\n",
    "\n",
    "widgets.interact(table_high_country, by = by_drop_high, zone = zone_drop_high)\n"
   ]
  },
  {
   "cell_type": "markdown",
   "metadata": {},
   "source": [
    "This widget below has been used to check all the results throughout the programming of this notebook. It is also a great tool to see the fluctuations of the GDP and the indicators along the years. It also prints the spearman correlation and the p-value. \n",
    "\n",
    "**Remember: the correlation must be higher than 0.7 to be considered correlated and the p-value must be lower than 0.05 to have statistical significance.**"
   ]
  },
  {
   "cell_type": "code",
   "execution_count": 31,
   "metadata": {},
   "outputs": [
    {
     "data": {
      "application/vnd.jupyter.widget-view+json": {
       "model_id": "2bab9280fef04936a88215889dceb70b",
       "version_major": 2,
       "version_minor": 0
      },
      "text/plain": [
       "interactive(children=(Dropdown(description='By: ', options=('Country', 'Region'), value='Country'), Dropdown(d…"
      ]
     },
     "metadata": {},
     "output_type": "display_data"
    },
    {
     "data": {
      "text/plain": [
       "<function __main__.plot_widget.<locals>.plot_year_range(by, zone, indicator, years)>"
      ]
     },
     "execution_count": 31,
     "metadata": {},
     "output_type": "execute_result"
    }
   ],
   "source": [
    "\n",
    "def plot_widget( df_gold = None, countries = None):\n",
    "    global df_gold_index\n",
    "    if countries != None:\n",
    "        countries_by_region = countries\n",
    "    if df_gold != None:\n",
    "        df_gold_index = df_gold\n",
    "    \n",
    "\n",
    "    def plot_year_range(by, zone, indicator, years):\n",
    "    \n",
    "        if by == 'Country':\n",
    "            if list(zone_drop_plot.options) != country_list:\n",
    "                zone_drop_plot.options = country_list\n",
    "                return\n",
    "            df_zone  = df_gold_index.loc[df_gold_index.index.get_level_values('Country') == zone]\n",
    "        \n",
    "        elif by == 'Region':\n",
    "            if list(zone_drop_plot.options) != region_list:\n",
    "                zone_drop_plot.options = region_list\n",
    "                return\n",
    "            df_zone = countries_by_region[zone]\n",
    "\n",
    "        df_zone = df_zone.loc[(df_zone.index.get_level_values(\"Year\") >= years[0]) & (df_zone.index.get_level_values(\"Year\") <= years[1])]\n",
    "        spear = stats.spearmanr(df_zone[indicator], df_zone['GDP'])\n",
    "        df_zone = normalize_by_country(df_zone)\n",
    "\n",
    "\n",
    "        #In case if by is region it groups by year.\n",
    "        df_zone = df_zone.loc[df_zone.index.get_level_values(by_drop_plot.value) == zone, ['GDP', indicator]].groupby(level = 'Year').median()\n",
    "\n",
    "        print(spear)\n",
    "        plt.figure(figsize=(6,6))\n",
    "        plt.plot(df_zone.index.get_level_values(\"Year\"), df_zone[\"GDP\"], color=\"red\", label = 'GDP')\n",
    "        plt.plot(df_zone.index.get_level_values(\"Year\"), df_zone[indicator], color=\"green\", label = indicator)\n",
    "        plt.legend(loc=\"lower right\")\n",
    "    return plot_year_range\n",
    "    \n",
    "by_drop_plot = widgets.Dropdown(\n",
    "    options= ['Country', 'Region'],\n",
    "    description='By: ',\n",
    ")\n",
    "\n",
    "zone_drop_plot = widgets.Dropdown(\n",
    "    options= country_list,\n",
    "    value='Afghanistan',\n",
    "    description='Country: ',\n",
    ")\n",
    "\n",
    "indicator_drop_plot = widgets.Dropdown(\n",
    "    options= sorted(indicators),\n",
    "    value='AgriShareGDP',\n",
    "    description='Indicator: :',\n",
    ")\n",
    "\n",
    "intslider_plot = widgets.IntRangeSlider(\n",
    "    value=[min(set(df_gold['Year'])), max(set(df_gold['Year']))],\n",
    "    min= min(set(df_gold['Year'])),\n",
    "    max= max(set(df_gold['Year'])),\n",
    "    step=1,\n",
    "    description='Years:',\n",
    ")\n",
    "\n",
    "# TODO By Region: Say Y axis is Qualitative (Not real values but Normalized to observe evolution vs GDP - Tendendency)\n",
    "\n",
    "widgets.interact(plot_widget(), by = by_drop_plot,  zone = zone_drop_plot, indicator = indicator_drop_plot, years = intslider_plot)"
   ]
  },
  {
   "cell_type": "code",
   "execution_count": null,
   "metadata": {},
   "outputs": [],
   "source": []
  }
 ],
 "metadata": {
  "kernelspec": {
   "display_name": "Python 3 (ipykernel)",
   "language": "python",
   "name": "python3"
  },
  "language_info": {
   "codemirror_mode": {
    "name": "ipython",
    "version": 3
   },
   "file_extension": ".py",
   "mimetype": "text/x-python",
   "name": "python",
   "nbconvert_exporter": "python",
   "pygments_lexer": "ipython3",
   "version": "3.10.5"
  },
  "vscode": {
   "interpreter": {
    "hash": "44718ba4235bc6fc2135f9d8856f170c8312ddd29b08710a5ea28d42169e623e"
   }
  }
 },
 "nbformat": 4,
 "nbformat_minor": 2
}
