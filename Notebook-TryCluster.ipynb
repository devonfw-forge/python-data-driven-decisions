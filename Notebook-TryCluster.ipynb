{
 "cells": [
  {
   "cell_type": "markdown",
   "metadata": {},
   "source": [
    "# Clustering\n",
    "\n",
    "In this notebook clustering is being applied to the correlation dataframe in order to group countries by similarity. The analysis will be performed for the different dimensions of the indicators: equality, socio-demographic and economic. In the end there is a global analysis  using all the indicators and giving a final conclusion to this notebook.\n",
    "\n",
    "In first place, set the list of indicators depending of the area they represent."
   ]
  },
  {
   "cell_type": "code",
   "execution_count": 1,
   "metadata": {},
   "outputs": [],
   "source": [
    "economic_ind = ['CreditToAgriFishForest', 'AgriShareGDP', 'EmploymentRural', '%EmploymentAgriFishForest', 'TotalAgri', '% Soldiers', '% Healthcare Investment', '% Employment Industry', '% Education Expenditure']\n",
    "soc_dem_ind = ['Marriage Rate', 'Birth Rate', 'Death Rate', 'Homicides', 'Life Expectancy', 'Maternal Death Risk', 'Literacy Rate', 'Infant Mortality', '% Population Growth', '% Rural Population', 'Suicide Rate']\n",
    "equality_ind = ['Gender Equality', 'Gender Inequality','% Men Employment', '% Women Employment', 'Women Schooling Years', 'Men Schooling Years', 'Freedom of Expression', '% Undernourishment', 'Civil Liberties', 'Gini']"
   ]
  },
  {
   "cell_type": "markdown",
   "metadata": {},
   "source": [
    "### Import\n",
    "\n",
    "Import all the libraries and the correlation dataframe generated in the Notebook-Golden."
   ]
  },
  {
   "cell_type": "code",
   "execution_count": 2,
   "metadata": {},
   "outputs": [
    {
     "name": "stdout",
     "output_type": "stream",
     "text": [
      "                AgriShareGDP  CreditToAgriFishForest  EmploymentRural  \\\n",
      "Country                                                                 \n",
      "Argentina          -0.503461                0.656928              NaN   \n",
      "Barbados           -0.893559               -0.826103              NaN   \n",
      "Azerbaijan         -0.858162                     NaN              NaN   \n",
      "Comoros                  NaN                     NaN              NaN   \n",
      "Greenland                NaN                     NaN              NaN   \n",
      "...                      ...                     ...              ...   \n",
      "Cayman Islands      0.832945                     NaN              NaN   \n",
      "Mauritius          -0.968061                     NaN              NaN   \n",
      "Guyana             -0.809598                     NaN              NaN   \n",
      "Kenya               0.929396               -0.920021              NaN   \n",
      "Poland             -0.510488                     NaN              NaN   \n",
      "\n",
      "                TotalAgri  % Soldiers  Birth Rate  Death Rate  Homicides  \\\n",
      "Country                                                                    \n",
      "Argentina        0.950021   -0.696227   -0.715829   -0.800463        NaN   \n",
      "Barbados              NaN         NaN   -0.895072    0.874443        NaN   \n",
      "Azerbaijan       0.984559   -0.694244    0.589671         NaN        NaN   \n",
      "Comoros               NaN         NaN   -0.894111   -0.928384        NaN   \n",
      "Greenland             NaN         NaN   -0.720801    0.533290  -0.783010   \n",
      "...                   ...         ...         ...         ...        ...   \n",
      "Cayman Islands        NaN         NaN   -0.766263         NaN        NaN   \n",
      "Mauritius             NaN    0.825267   -0.966671    0.820455        NaN   \n",
      "Guyana           0.808119         NaN   -0.956418         NaN        NaN   \n",
      "Kenya            0.982102   -0.968385   -0.990095   -0.925414        NaN   \n",
      "Poland           0.927059         NaN         NaN    0.839589  -0.947862   \n",
      "\n",
      "                Life Expectancy  Maternal Death Risk  ...  \\\n",
      "Country                                               ...   \n",
      "Argentina              0.772551            -0.830826  ...   \n",
      "Barbados               0.884238            -0.904325  ...   \n",
      "Azerbaijan             0.801285            -0.733648  ...   \n",
      "Comoros                0.919907            -0.944990  ...   \n",
      "Greenland              0.951401                  NaN  ...   \n",
      "...                         ...                  ...  ...   \n",
      "Cayman Islands              NaN                  NaN  ...   \n",
      "Mauritius              0.949731            -0.757616  ...   \n",
      "Guyana                 0.993831            -0.962833  ...   \n",
      "Kenya                  0.951735            -0.929861  ...   \n",
      "Poland                 0.877672            -0.930270  ...   \n",
      "\n",
      "                % Population Growth  % Rural Population  Civil Liberties  \\\n",
      "Country                                                                    \n",
      "Argentina                       NaN           -0.780874              NaN   \n",
      "Barbados                  -0.522043            0.920877        -0.661751   \n",
      "Azerbaijan                 0.736862           -0.647364              NaN   \n",
      "Comoros                   -0.698759           -0.669837              NaN   \n",
      "Greenland                       NaN           -0.938037              NaN   \n",
      "...                             ...                 ...              ...   \n",
      "Cayman Islands            -0.840785                 NaN              NaN   \n",
      "Mauritius                 -0.936105            0.961043        -0.499603   \n",
      "Guyana                     0.919901            0.907273         0.768008   \n",
      "Kenya                     -0.927153           -0.989902         0.853628   \n",
      "Poland                          NaN            0.905010              NaN   \n",
      "\n",
      "                Freedom of Expression  % Healthcare Investment  \\\n",
      "Country                                                          \n",
      "Argentina                   -0.597334                      NaN   \n",
      "Barbados                          NaN                -0.516449   \n",
      "Azerbaijan                  -0.842061                -0.663217   \n",
      "Comoros                           NaN                      NaN   \n",
      "Greenland                         NaN                      NaN   \n",
      "...                               ...                      ...   \n",
      "Cayman Islands                    NaN                      NaN   \n",
      "Mauritius                    0.783910                 0.740666   \n",
      "Guyana                       0.870277                 0.811940   \n",
      "Kenya                             NaN                 0.708707   \n",
      "Poland                            NaN                 0.904175   \n",
      "\n",
      "                % Employment Industry  % Education Expenditure  \\\n",
      "Country                                                          \n",
      "Argentina                    0.726257                -0.640218   \n",
      "Barbados                          NaN                      NaN   \n",
      "Azerbaijan                   0.857352                -0.848901   \n",
      "Comoros                     -0.885866                      NaN   \n",
      "Greenland                         NaN                      NaN   \n",
      "...                               ...                      ...   \n",
      "Cayman Islands                    NaN                      NaN   \n",
      "Mauritius                   -0.875859                 0.490636   \n",
      "Guyana                            NaN                      NaN   \n",
      "Kenya                        0.935578                -0.810695   \n",
      "Poland                            NaN                -0.709783   \n",
      "\n",
      "                % Men Employment  % Women Employment  Population  \n",
      "Country                                                           \n",
      "Argentina                    NaN                 NaN    0.763368  \n",
      "Barbados                     NaN                 NaN    0.912265  \n",
      "Azerbaijan                   NaN                 NaN    0.691515  \n",
      "Comoros                      NaN                 NaN    0.929551  \n",
      "Greenland                    NaN                 NaN         NaN  \n",
      "...                          ...                 ...         ...  \n",
      "Cayman Islands               NaN                 NaN    0.930191  \n",
      "Mauritius                    NaN                 NaN    0.951379  \n",
      "Guyana                       NaN                 NaN    0.881779  \n",
      "Kenya                        NaN                 NaN    0.988922  \n",
      "Poland                  0.904097            0.862379   -0.827611  \n",
      "\n",
      "[179 rows x 21 columns]\n"
     ]
    }
   ],
   "source": [
    "import os\n",
    "import numpy as np\n",
    "import pandas as pd\n",
    "import matplotlib.pyplot as plt\n",
    "import plotly.express as px\n",
    "from sklearn.manifold import TSNE\n",
    "import seaborn as sns\n",
    "from matplotlib import gridspec\n",
    "from sklearn.cluster import OPTICS, cluster_optics_dbscan\n",
    "from sklearn.preprocessing import normalize, StandardScaler\n",
    "from sklearn.cluster import AffinityPropagation\n",
    "write_path = os.getcwd() + '/Output'\n",
    "corr_df = pd.read_csv(write_path + '/Corr_DF_pearson.csv')\n",
    "corr_df.rename(columns = {'Unnamed: 0' : 'Country'}, inplace = True)\n",
    "corr_df.set_index(corr_df.columns[0], inplace=True)\n"
   ]
  },
  {
   "cell_type": "markdown",
   "metadata": {},
   "source": [
    "# Equality indicators\n",
    "\n",
    "Apply the drop columns method to discard indicators which won't be analyzed and fill NaN values with 0. \n",
    "\n",
    "In this codeblock use the main piece of the Notebook, the algorithm of t-SNE (t-Distributed Stochastic Neighbor Embedding) to reduce the dimensionality of all the indicators to only 2 components. \n",
    "- N-components: the dimensions to analyze.\n",
    "- Perplexity: measurement of how well a probability distribution or probability model predicts a sample.\n",
    "- N-iter: iterations for the optimization\n",
    "- Learning rate: how fast the algorithm learns. A high value may cause a ball form of the data.\n",
    "- Init: Initialization of embedding. 'pca' is the new default for newer versions.\n",
    "\n",
    "The output is a dataframe of all the countries with only 2 columns representing the indicators condensed."
   ]
  },
  {
   "cell_type": "code",
   "execution_count": 3,
   "metadata": {},
   "outputs": [
    {
     "name": "stderr",
     "output_type": "stream",
     "text": [
      "C:\\Users\\smanoles\\AppData\\Local\\Temp\\ipykernel_5524\\1083391630.py:2: FutureWarning: In a future version of pandas all arguments of DataFrame.drop except for the argument 'labels' will be keyword-only.\n",
      "  df_normalized.drop(df_normalized.columns.difference(equality_ind), 1, inplace=True)\n",
      "c:\\Users\\smanoles\\Documents\\GitHub\\python-data-driven-decisions\\.venv\\lib\\site-packages\\sklearn\\manifold\\_t_sne.py:991: FutureWarning: The PCA initialization in TSNE will change to have the standard deviation of PC1 equal to 1e-4 in 1.2. This will ensure better convergence.\n",
      "  warnings.warn(\n"
     ]
    },
    {
     "name": "stdout",
     "output_type": "stream",
     "text": [
      "             1st_component 2nd_component\n",
      "Country                                 \n",
      "Argentina         0.004769     28.372192\n",
      "Barbados         24.611437     22.477417\n",
      "Azerbaijan       -3.800133     30.059706\n",
      "Burkina Faso    -20.327116     67.829842\n",
      "Sierra Leone    -20.714712    -38.174812\n",
      "...                    ...           ...\n",
      "Maldives        -15.489695     62.650936\n",
      "Mauritius       -22.215483     69.383591\n",
      "Guyana          -57.253815      0.871426\n",
      "Kenya           -26.436104    -36.817009\n",
      "Poland           30.870569    -24.334475\n",
      "\n",
      "[122 rows x 2 columns]\n"
     ]
    }
   ],
   "source": [
    "df_normalized = corr_df\n",
    "df_normalized.drop(df_normalized.columns.difference(equality_ind), 1, inplace=True)\n",
    "df_normalized = df_normalized.dropna(how='all')\n",
    "df_normalized = df_normalized.fillna(value = 0)\n",
    "tsne = TSNE(n_components = 2, perplexity = 5, n_iter = 20000, learning_rate = 100.0, init = 'pca')\n",
    "tsne_result = tsne.fit_transform(df_normalized)\n",
    "new_df_tsne = pd.DataFrame(np.hstack((np.array(df_normalized.index).reshape(-1, 1), tsne_result)), columns = ['Country', '1st_component', '2nd_component'])\n",
    "new_df_tsne.set_index('Country', inplace = True)\n",
    "print(new_df_tsne)"
   ]
  },
  {
   "cell_type": "code",
   "execution_count": 4,
   "metadata": {},
   "outputs": [
    {
     "data": {
      "image/png": "[encoded data removed]",
      "text/plain": [
       "<Figure size 576x576 with 1 Axes>"
      ]
     },
     "metadata": {
      "needs_background": "light"
     },
     "output_type": "display_data"
    }
   ],
   "source": [
    "X_optics = pd.DataFrame(StandardScaler().fit_transform(new_df_tsne))\n",
    "X_optics.index = new_df_tsne.index\n",
    "'''Apply OPTICS'''\n",
    "optics = AffinityPropagation(damping=0.5).fit(X_optics)\n",
    "labels_optics = optics.labels_\n",
    "\n",
    "plt.figure(figsize=(8,8))\n",
    "plt.title('Affinity Propagation',fontsize= 20)\n",
    "plt.xlabel('Feature 1',fontsize= 18)\n",
    "plt.ylabel('Feature 2',fontsize= 18)\n",
    "fig = plt.scatter(X_optics[0], X_optics[1], c= labels_optics)"
   ]
  },
  {
   "cell_type": "code",
   "execution_count": 5,
   "metadata": {},
   "outputs": [
    {
     "data": {
      "application/vnd.plotly.v1+json": {
       "config": {
        "plotlyServerURL": "https://plot.ly"
       },
       "data": [
        {
         "hovertemplate": "0=%{x}<br>1=%{y}<br>Country=%{text}<br>color=%{marker.color}<extra></extra>",
         "legendgroup": "",
         "marker": {
          "color": [
           5,
           5,
           5,
           1,
           2,
           5,
           5,
           4,
           4,
           0,
           4,
           0,
           0,
           5,
           5,
           4,
           3,
           0,
           2,
           3,
           1,
           1,
           5,
           3,
           4,
           0,
           2,
           1,
           0,
           5,
           0,
           2,
           5,
           4,
           2,
           2,
           1,
           5,
           4,
           0,
           5,
           5,
           3,
           0,
           5,
           5,
           2,
           5,
           5,
           4,
           3,
           1,
           2,
           4,
           4,
           4,
           5,
           1,
           5,
           4,
           0,
           1,
           0,
           3,
           5,
           4,
           1,
           0,
           2,
           5,
           3,
           2,
           5,
           3,
           0,
           0,
           0,
           2,
           3,
           0,
           2,
           1,
           4,
           5,
           3,
           0,
           0,
           4,
           3,
           0,
           4,
           3,
           4,
           0,
           3,
           0,
           4,
           4,
           0,
           4,
           4,
           2,
           4,
           4,
           3,
           3,
           3,
           0,
           1,
           4,
           4,
           5,
           5,
           5,
           2,
           0,
           0,
           1,
           1,
           0,
           2,
           4
          ],
          "coloraxis": "coloraxis",
          "symbol": "circle"
         },
         "mode": "markers+text",
         "name": "",
         "orientation": "v",
         "showlegend": false,
         "text": [
          "Argentina",
          "Barbados",
          "Azerbaijan",
          "Burkina Faso",
          "Sierra Leone",
          "Iceland",
          "South Africa",
          "New Zealand",
          "United Kingdom",
          "Oman",
          "Spain",
          "Bhutan",
          "Colombia",
          "Djibouti",
          "Central African Republic",
          "Slovakia",
          "Dominican Republic",
          "Lebanon",
          "Guatemala",
          "Papua New Guinea",
          "Canada",
          "Eswatini",
          "Sweden",
          "Kazakhstan",
          "Indonesia",
          "Turkmenistan",
          "Morocco",
          "Niger",
          "Jamaica",
          "Japan",
          "Seychelles",
          "Algeria",
          "United Arab Emirates",
          "Germany",
          "Sri Lanka",
          "Ireland",
          "Montenegro",
          "United States",
          "Russia",
          "Estonia",
          "Portugal",
          "Bosnia and Herzegovina",
          "Cambodia",
          "Jordan",
          "Egypt",
          "Benin",
          "Saudi Arabia",
          "Serbia",
          "Botswana",
          "Bulgaria",
          "Mongolia",
          "Guinea",
          "Vanuatu",
          "France",
          "Austria",
          "Australia",
          "Honduras",
          "Afghanistan",
          "Czechia",
          "Luxembourg",
          "Guinea-Bissau",
          "Senegal",
          "Latvia",
          "Uganda",
          "Panama",
          "Hungary",
          "Singapore",
          "Solomon Islands",
          "Peru",
          "Costa Rica",
          "Suriname",
          "Cyprus",
          "India",
          "Bahrain",
          "Tunisia",
          "Kyrgyzstan",
          "Myanmar",
          "Ecuador",
          "Thailand",
          "Georgia",
          "Albania",
          "Namibia",
          "Malta",
          "Haiti",
          "China",
          "Armenia",
          "Malawi",
          "Israel",
          "Bangladesh",
          "Angola",
          "Lithuania",
          "Tajikistan",
          "Mexico",
          "Gabon",
          "Burundi",
          "Nigeria",
          "Italy",
          "Switzerland",
          "Cuba",
          "Philippines",
          "Chile",
          "Nepal",
          "Liechtenstein",
          "Greece",
          "Mali",
          "Zambia",
          "Nicaragua",
          "Sao Tome and Principe",
          "Ukraine",
          "Belgium",
          "Netherlands",
          "Cameroon",
          "Romania",
          "Denmark",
          "Malaysia",
          "Zimbabwe",
          "Togo",
          "Maldives",
          "Mauritius",
          "Guyana",
          "Kenya",
          "Poland"
         ],
         "textposition": "top center",
         "type": "scatter",
         "x": [
          0.034760146684604525,
          0.7017042457149678,
          -0.06836867317565924,
          -0.5163193644471161,
          -0.5268248482242098,
          0.11061839940496235,
          0.34803341112946873,
          0.9721868498195336,
          0.7348871550780316,
          -1.5449072528194603,
          0.6527014359714531,
          -1.3872286326522363,
          -1.066877446424498,
          0.7248981259538775,
          0.686954735083177,
          0.7302831091839879,
          1.7092172688403287,
          -1.2398729018843098,
          -0.506597402864212,
          1.5382360382241438,
          -0.46275288429343614,
          -0.4467849232397099,
          0.42028704553633883,
          1.5635129522299098,
          0.9304857473013634,
          -1.2861791876340978,
          -0.356217155455354,
          -0.5380813366803079,
          -1.6250987538842825,
          0.46711707523897283,
          -1.5327494243359345,
          -0.5956222429864748,
          -0.18416095989163173,
          0.9180858727032167,
          -0.4119375720341994,
          -0.6387847725901256,
          -0.5811097638445466,
          0.43745562149095296,
          0.9345578293937306,
          -1.082235329264076,
          0.5232331818992597,
          0.06819134271407053,
          1.7880425172957524,
          -1.7260739617771335,
          0.6796871996822161,
          -0.1589425670737663,
          -0.6735298668082973,
          0.07900173312425952,
          0.10793096118753728,
          0.960970633452989,
          1.5799036409810423,
          -0.4252380112023369,
          -0.616473931583134,
          0.24634060784885073,
          0.694290820921555,
          1.002580748965236,
          -0.03791711230738201,
          -0.4571271473777662,
          0.04521423837055862,
          0.2460469033446452,
          -1.297458784721814,
          -0.5072496142657621,
          -1.035928009571039,
          1.604762428336861,
          -0.057637557133024514,
          1.0265293560788469,
          -0.5930282861630616,
          -1.7441421200556517,
          -0.5495419255337839,
          0.3415743418035826,
          1.4668296427641907,
          -0.6381852405971185,
          -0.16885707473823944,
          1.6943717048806937,
          -1.3438223509276035,
          -1.6796244748873412,
          -1.4463422700346524,
          -0.5641115300402264,
          1.640677377644259,
          -1.3099958635891198,
          -0.7042868351259312,
          -0.36622691514165306,
          1.000693595746927,
          0.6665840885831747,
          1.7272616464241168,
          -1.2753244378274486,
          -1.364476194483542,
          0.9702565811677358,
          1.7745588633838694,
          -1.319830835169154,
          0.6944101896696668,
          1.700037713885917,
          0.16014109520057473,
          -1.590233980735024,
          1.745548070122526,
          -1.5846471717826838,
          0.672247461033113,
          0.20909714486064765,
          -1.2529410140043682,
          0.7064925402960062,
          0.6721236980261923,
          -0.42479191638750047,
          0.19566389568215964,
          0.723224998988138,
          1.6127367156457635,
          1.471642958771858,
          1.699111404129023,
          -1.2118671014611193,
          -0.4163588684589597,
          0.22513092932647152,
          0.2603509912247116,
          0.7191130066863545,
          0.3205366726649865,
          0.5042947018907876,
          -0.3920858099537723,
          -1.6879194913921234,
          -1.3420517231134712,
          -0.38520491763082304,
          -0.5675020367427682,
          -1.517188061464928,
          -0.6818986034667422,
          0.8713530336660008
         ],
         "xaxis": "x",
         "y": [
          0.8162994390675804,
          0.6106077432455388,
          0.8751833591457153,
          2.1931306575012157,
          -1.5057850071574024,
          0.757301377455764,
          0.8036038390000076,
          -0.7743730475832976,
          -0.4887259395204731,
          -0.11771903390024284,
          -0.7787850338277772,
          -0.13838832274535448,
          -0.37127982541307597,
          0.578235806642023,
          0.5417955729368447,
          -0.5041400049023252,
          -0.057556662090044654,
          -0.03439261951312184,
          -1.5464859479781634,
          -0.21750609253276582,
          2.2183701126236532,
          2.065117233684303,
          0.7795411398291869,
          -0.2578919835860522,
          -0.7582925354098886,
          -0.06741804135502577,
          -1.631915062391155,
          2.1711747514783184,
          -0.08589439430363469,
          0.6369365678276263,
          -0.07755984939678072,
          -1.4895285905679467,
          0.6523570557505866,
          -1.0334062434491513,
          -1.5889728211107672,
          -1.3290513179271015,
          2.1678323679089386,
          0.7741200492502004,
          -1.0633472648819862,
          -0.36025832890401155,
          0.6480355840750904,
          0.8116931792739367,
          -0.17586292770234893,
          -0.09223884995720678,
          0.5787728375663823,
          0.6558102531121413,
          -1.4963563174818366,
          0.7580348782386819,
          0.799899264045033,
          -1.038987598059103,
          -0.2303299021612399,
          2.0419938228311776,
          -1.463975662195573,
          -0.4779900797036406,
          -0.7782643753916311,
          -0.7747655214166037,
          0.8701312485449972,
          2.1097161577964108,
          0.7771890921322159,
          -0.4149342366533231,
          -0.027527738365309067,
          2.1568196732761593,
          -0.3940511944922022,
          -0.31137426373430743,
          0.8415936688152192,
          -0.7535421844090026,
          2.133413670614281,
          -0.06325442109790244,
          -1.536498863277765,
          0.8363489485360904,
          -0.3260182980508513,
          -1.3779472880920463,
          0.6845911573008927,
          -0.2734674194729204,
          0.15461344761992327,
          -0.09393413459040564,
          -0.16846731754065522,
          -1.4917044010747202,
          -0.2558203729852087,
          -0.08258327486571064,
          -1.4891046362999867,
          1.9861475317552344,
          -0.8172768201718671,
          0.6318460550899203,
          -0.04032161495892995,
          0.14801713185041276,
          -0.12782131669225139,
          -1.0711834305820818,
          -0.1552218653846491,
          0.16274668080432636,
          -0.6674427630243066,
          -0.24452694175956646,
          -0.3673341389472297,
          -0.06213895382548599,
          -0.2188232542179064,
          -0.11106172894826738,
          -0.7478807643383986,
          -0.36392293768349016,
          -0.08186973221247949,
          -0.7087415326067553,
          -0.8131756449841179,
          -1.6154665685619294,
          -0.3936093203362284,
          -0.672333311774872,
          -0.26369423367722195,
          -0.3045441824433015,
          -0.014367635499516555,
          -0.02051976433270603,
          2.080760014739914,
          -0.4100235051505193,
          -0.34458734523913076,
          0.5389458282201239,
          0.760966685060959,
          0.6447251468241754,
          -1.6217217908269979,
          -0.06528713040053201,
          0.10294610105074206,
          2.0124184536351044,
          2.247347020787152,
          -0.14330951167584324,
          -1.458405954680895,
          -1.0228416624876713
         ],
         "yaxis": "y"
        }
       ],
       "layout": {
        "coloraxis": {
         "colorbar": {
          "title": {
           "text": "color"
          }
         },
         "colorscale": [
          [
           0,
           "#0d0887"
          ],
          [
           0.1111111111111111,
           "#46039f"
          ],
          [
           0.2222222222222222,
           "#7201a8"
          ],
          [
           0.3333333333333333,
           "#9c179e"
          ],
          [
           0.4444444444444444,
           "#bd3786"
          ],
          [
           0.5555555555555556,
           "#d8576b"
          ],
          [
           0.6666666666666666,
           "#ed7953"
          ],
          [
           0.7777777777777778,
           "#fb9f3a"
          ],
          [
           0.8888888888888888,
           "#fdca26"
          ],
          [
           1,
           "#f0f921"
          ]
         ]
        },
        "legend": {
         "tracegroupgap": 0
        },
        "margin": {
         "t": 60
        },
        "template": {
         "data": {
          "bar": [
           {
            "error_x": {
             "color": "#2a3f5f"
            },
            "error_y": {
             "color": "#2a3f5f"
            },
            "marker": {
             "line": {
              "color": "#E5ECF6",
              "width": 0.5
             },
             "pattern": {
              "fillmode": "overlay",
              "size": 10,
              "solidity": 0.2
             }
            },
            "type": "bar"
           }
          ],
          "barpolar": [
           {
            "marker": {
             "line": {
              "color": "#E5ECF6",
              "width": 0.5
             },
             "pattern": {
              "fillmode": "overlay",
              "size": 10,
              "solidity": 0.2
             }
            },
            "type": "barpolar"
           }
          ],
          "carpet": [
           {
            "aaxis": {
             "endlinecolor": "#2a3f5f",
             "gridcolor": "white",
             "linecolor": "white",
             "minorgridcolor": "white",
             "startlinecolor": "#2a3f5f"
            },
            "baxis": {
             "endlinecolor": "#2a3f5f",
             "gridcolor": "white",
             "linecolor": "white",
             "minorgridcolor": "white",
             "startlinecolor": "#2a3f5f"
            },
            "type": "carpet"
           }
          ],
          "choropleth": [
           {
            "colorbar": {
             "outlinewidth": 0,
             "ticks": ""
            },
            "type": "choropleth"
           }
          ],
          "contour": [
           {
            "colorbar": {
             "outlinewidth": 0,
             "ticks": ""
            },
            "colorscale": [
             [
              0,
              "#0d0887"
             ],
             [
              0.1111111111111111,
              "#46039f"
             ],
             [
              0.2222222222222222,
              "#7201a8"
             ],
             [
              0.3333333333333333,
              "#9c179e"
             ],
             [
              0.4444444444444444,
              "#bd3786"
             ],
             [
              0.5555555555555556,
              "#d8576b"
             ],
             [
              0.6666666666666666,
              "#ed7953"
             ],
             [
              0.7777777777777778,
              "#fb9f3a"
             ],
             [
              0.8888888888888888,
              "#fdca26"
             ],
             [
              1,
              "#f0f921"
             ]
            ],
            "type": "contour"
           }
          ],
          "contourcarpet": [
           {
            "colorbar": {
             "outlinewidth": 0,
             "ticks": ""
            },
            "type": "contourcarpet"
           }
          ],
          "heatmap": [
           {
            "colorbar": {
             "outlinewidth": 0,
             "ticks": ""
            },
            "colorscale": [
             [
              0,
              "#0d0887"
             ],
             [
              0.1111111111111111,
              "#46039f"
             ],
             [
              0.2222222222222222,
              "#7201a8"
             ],
             [
              0.3333333333333333,
              "#9c179e"
             ],
             [
              0.4444444444444444,
              "#bd3786"
             ],
             [
              0.5555555555555556,
              "#d8576b"
             ],
             [
              0.6666666666666666,
              "#ed7953"
             ],
             [
              0.7777777777777778,
              "#fb9f3a"
             ],
             [
              0.8888888888888888,
              "#fdca26"
             ],
             [
              1,
              "#f0f921"
             ]
            ],
            "type": "heatmap"
           }
          ],
          "heatmapgl": [
           {
            "colorbar": {
             "outlinewidth": 0,
             "ticks": ""
            },
            "colorscale": [
             [
              0,
              "#0d0887"
             ],
             [
              0.1111111111111111,
              "#46039f"
             ],
             [
              0.2222222222222222,
              "#7201a8"
             ],
             [
              0.3333333333333333,
              "#9c179e"
             ],
             [
              0.4444444444444444,
              "#bd3786"
             ],
             [
              0.5555555555555556,
              "#d8576b"
             ],
             [
              0.6666666666666666,
              "#ed7953"
             ],
             [
              0.7777777777777778,
              "#fb9f3a"
             ],
             [
              0.8888888888888888,
              "#fdca26"
             ],
             [
              1,
              "#f0f921"
             ]
            ],
            "type": "heatmapgl"
           }
          ],
          "histogram": [
           {
            "marker": {
             "pattern": {
              "fillmode": "overlay",
              "size": 10,
              "solidity": 0.2
             }
            },
            "type": "histogram"
           }
          ],
          "histogram2d": [
           {
            "colorbar": {
             "outlinewidth": 0,
             "ticks": ""
            },
            "colorscale": [
             [
              0,
              "#0d0887"
             ],
             [
              0.1111111111111111,
              "#46039f"
             ],
             [
              0.2222222222222222,
              "#7201a8"
             ],
             [
              0.3333333333333333,
              "#9c179e"
             ],
             [
              0.4444444444444444,
              "#bd3786"
             ],
             [
              0.5555555555555556,
              "#d8576b"
             ],
             [
              0.6666666666666666,
              "#ed7953"
             ],
             [
              0.7777777777777778,
              "#fb9f3a"
             ],
             [
              0.8888888888888888,
              "#fdca26"
             ],
             [
              1,
              "#f0f921"
             ]
            ],
            "type": "histogram2d"
           }
          ],
          "histogram2dcontour": [
           {
            "colorbar": {
             "outlinewidth": 0,
             "ticks": ""
            },
            "colorscale": [
             [
              0,
              "#0d0887"
             ],
             [
              0.1111111111111111,
              "#46039f"
             ],
             [
              0.2222222222222222,
              "#7201a8"
             ],
             [
              0.3333333333333333,
              "#9c179e"
             ],
             [
              0.4444444444444444,
              "#bd3786"
             ],
             [
              0.5555555555555556,
              "#d8576b"
             ],
             [
              0.6666666666666666,
              "#ed7953"
             ],
             [
              0.7777777777777778,
              "#fb9f3a"
             ],
             [
              0.8888888888888888,
              "#fdca26"
             ],
             [
              1,
              "#f0f921"
             ]
            ],
            "type": "histogram2dcontour"
           }
          ],
          "mesh3d": [
           {
            "colorbar": {
             "outlinewidth": 0,
             "ticks": ""
            },
            "type": "mesh3d"
           }
          ],
          "parcoords": [
           {
            "line": {
             "colorbar": {
              "outlinewidth": 0,
              "ticks": ""
             }
            },
            "type": "parcoords"
           }
          ],
          "pie": [
           {
            "automargin": true,
            "type": "pie"
           }
          ],
          "scatter": [
           {
            "fillpattern": {
             "fillmode": "overlay",
             "size": 10,
             "solidity": 0.2
            },
            "type": "scatter"
           }
          ],
          "scatter3d": [
           {
            "line": {
             "colorbar": {
              "outlinewidth": 0,
              "ticks": ""
             }
            },
            "marker": {
             "colorbar": {
              "outlinewidth": 0,
              "ticks": ""
             }
            },
            "type": "scatter3d"
           }
          ],
          "scattercarpet": [
           {
            "marker": {
             "colorbar": {
              "outlinewidth": 0,
              "ticks": ""
             }
            },
            "type": "scattercarpet"
           }
          ],
          "scattergeo": [
           {
            "marker": {
             "colorbar": {
              "outlinewidth": 0,
              "ticks": ""
             }
            },
            "type": "scattergeo"
           }
          ],
          "scattergl": [
           {
            "marker": {
             "colorbar": {
              "outlinewidth": 0,
              "ticks": ""
             }
            },
            "type": "scattergl"
           }
          ],
          "scattermapbox": [
           {
            "marker": {
             "colorbar": {
              "outlinewidth": 0,
              "ticks": ""
             }
            },
            "type": "scattermapbox"
           }
          ],
          "scatterpolar": [
           {
            "marker": {
             "colorbar": {
              "outlinewidth": 0,
              "ticks": ""
             }
            },
            "type": "scatterpolar"
           }
          ],
          "scatterpolargl": [
           {
            "marker": {
             "colorbar": {
              "outlinewidth": 0,
              "ticks": ""
             }
            },
            "type": "scatterpolargl"
           }
          ],
          "scatterternary": [
           {
            "marker": {
             "colorbar": {
              "outlinewidth": 0,
              "ticks": ""
             }
            },
            "type": "scatterternary"
           }
          ],
          "surface": [
           {
            "colorbar": {
             "outlinewidth": 0,
             "ticks": ""
            },
            "colorscale": [
             [
              0,
              "#0d0887"
             ],
             [
              0.1111111111111111,
              "#46039f"
             ],
             [
              0.2222222222222222,
              "#7201a8"
             ],
             [
              0.3333333333333333,
              "#9c179e"
             ],
             [
              0.4444444444444444,
              "#bd3786"
             ],
             [
              0.5555555555555556,
              "#d8576b"
             ],
             [
              0.6666666666666666,
              "#ed7953"
             ],
             [
              0.7777777777777778,
              "#fb9f3a"
             ],
             [
              0.8888888888888888,
              "#fdca26"
             ],
             [
              1,
              "#f0f921"
             ]
            ],
            "type": "surface"
           }
          ],
          "table": [
           {
            "cells": {
             "fill": {
              "color": "#EBF0F8"
             },
             "line": {
              "color": "white"
             }
            },
            "header": {
             "fill": {
              "color": "#C8D4E3"
             },
             "line": {
              "color": "white"
             }
            },
            "type": "table"
           }
          ]
         },
         "layout": {
          "annotationdefaults": {
           "arrowcolor": "#2a3f5f",
           "arrowhead": 0,
           "arrowwidth": 1
          },
          "autotypenumbers": "strict",
          "coloraxis": {
           "colorbar": {
            "outlinewidth": 0,
            "ticks": ""
           }
          },
          "colorscale": {
           "diverging": [
            [
             0,
             "#8e0152"
            ],
            [
             0.1,
             "#c51b7d"
            ],
            [
             0.2,
             "#de77ae"
            ],
            [
             0.3,
             "#f1b6da"
            ],
            [
             0.4,
             "#fde0ef"
            ],
            [
             0.5,
             "#f7f7f7"
            ],
            [
             0.6,
             "#e6f5d0"
            ],
            [
             0.7,
             "#b8e186"
            ],
            [
             0.8,
             "#7fbc41"
            ],
            [
             0.9,
             "#4d9221"
            ],
            [
             1,
             "#276419"
            ]
           ],
           "sequential": [
            [
             0,
             "#0d0887"
            ],
            [
             0.1111111111111111,
             "#46039f"
            ],
            [
             0.2222222222222222,
             "#7201a8"
            ],
            [
             0.3333333333333333,
             "#9c179e"
            ],
            [
             0.4444444444444444,
             "#bd3786"
            ],
            [
             0.5555555555555556,
             "#d8576b"
            ],
            [
             0.6666666666666666,
             "#ed7953"
            ],
            [
             0.7777777777777778,
             "#fb9f3a"
            ],
            [
             0.8888888888888888,
             "#fdca26"
            ],
            [
             1,
             "#f0f921"
            ]
           ],
           "sequentialminus": [
            [
             0,
             "#0d0887"
            ],
            [
             0.1111111111111111,
             "#46039f"
            ],
            [
             0.2222222222222222,
             "#7201a8"
            ],
            [
             0.3333333333333333,
             "#9c179e"
            ],
            [
             0.4444444444444444,
             "#bd3786"
            ],
            [
             0.5555555555555556,
             "#d8576b"
            ],
            [
             0.6666666666666666,
             "#ed7953"
            ],
            [
             0.7777777777777778,
             "#fb9f3a"
            ],
            [
             0.8888888888888888,
             "#fdca26"
            ],
            [
             1,
             "#f0f921"
            ]
           ]
          },
          "colorway": [
           "#636efa",
           "#EF553B",
           "#00cc96",
           "#ab63fa",
           "#FFA15A",
           "#19d3f3",
           "#FF6692",
           "#B6E880",
           "#FF97FF",
           "#FECB52"
          ],
          "font": {
           "color": "#2a3f5f"
          },
          "geo": {
           "bgcolor": "white",
           "lakecolor": "white",
           "landcolor": "#E5ECF6",
           "showlakes": true,
           "showland": true,
           "subunitcolor": "white"
          },
          "hoverlabel": {
           "align": "left"
          },
          "hovermode": "closest",
          "mapbox": {
           "style": "light"
          },
          "paper_bgcolor": "white",
          "plot_bgcolor": "#E5ECF6",
          "polar": {
           "angularaxis": {
            "gridcolor": "white",
            "linecolor": "white",
            "ticks": ""
           },
           "bgcolor": "#E5ECF6",
           "radialaxis": {
            "gridcolor": "white",
            "linecolor": "white",
            "ticks": ""
           }
          },
          "scene": {
           "xaxis": {
            "backgroundcolor": "#E5ECF6",
            "gridcolor": "white",
            "gridwidth": 2,
            "linecolor": "white",
            "showbackground": true,
            "ticks": "",
            "zerolinecolor": "white"
           },
           "yaxis": {
            "backgroundcolor": "#E5ECF6",
            "gridcolor": "white",
            "gridwidth": 2,
            "linecolor": "white",
            "showbackground": true,
            "ticks": "",
            "zerolinecolor": "white"
           },
           "zaxis": {
            "backgroundcolor": "#E5ECF6",
            "gridcolor": "white",
            "gridwidth": 2,
            "linecolor": "white",
            "showbackground": true,
            "ticks": "",
            "zerolinecolor": "white"
           }
          },
          "shapedefaults": {
           "line": {
            "color": "#2a3f5f"
           }
          },
          "ternary": {
           "aaxis": {
            "gridcolor": "white",
            "linecolor": "white",
            "ticks": ""
           },
           "baxis": {
            "gridcolor": "white",
            "linecolor": "white",
            "ticks": ""
           },
           "bgcolor": "#E5ECF6",
           "caxis": {
            "gridcolor": "white",
            "linecolor": "white",
            "ticks": ""
           }
          },
          "title": {
           "x": 0.05
          },
          "xaxis": {
           "automargin": true,
           "gridcolor": "white",
           "linecolor": "white",
           "ticks": "",
           "title": {
            "standoff": 15
           },
           "zerolinecolor": "white",
           "zerolinewidth": 2
          },
          "yaxis": {
           "automargin": true,
           "gridcolor": "white",
           "linecolor": "white",
           "ticks": "",
           "title": {
            "standoff": 15
           },
           "zerolinecolor": "white",
           "zerolinewidth": 2
          }
         }
        },
        "title": {
         "text": "Cluster Equality Indicators",
         "x": 0.5
        },
        "xaxis": {
         "anchor": "y",
         "domain": [
          0,
          1
         ],
         "title": {
          "text": "0"
         }
        },
        "yaxis": {
         "anchor": "x",
         "domain": [
          0,
          1
         ],
         "title": {
          "text": "1"
         }
        }
       }
      }
     },
     "metadata": {},
     "output_type": "display_data"
    }
   ],
   "source": [
    "fig = px.scatter(X_optics, x= X_optics.columns[0], y=X_optics.columns[1], text= X_optics.index, size_max=100, color=labels_optics)\n",
    "fig.update_traces(textposition='top center')\n",
    "fig.update_layout(title_text='Cluster Equality Indicators', title_x=0.5)\n",
    "fig.show()"
   ]
  },
  {
   "cell_type": "code",
   "execution_count": null,
   "metadata": {},
   "outputs": [],
   "source": []
  },
  {
   "cell_type": "code",
   "execution_count": null,
   "metadata": {},
   "outputs": [],
   "source": []
  },
  {
   "cell_type": "code",
   "execution_count": null,
   "metadata": {},
   "outputs": [],
   "source": []
  },
  {
   "cell_type": "code",
   "execution_count": null,
   "metadata": {},
   "outputs": [],
   "source": []
  },
  {
   "cell_type": "code",
   "execution_count": null,
   "metadata": {},
   "outputs": [],
   "source": []
  },
  {
   "cell_type": "code",
   "execution_count": null,
   "metadata": {},
   "outputs": [],
   "source": []
  },
  {
   "cell_type": "code",
   "execution_count": null,
   "metadata": {},
   "outputs": [],
   "source": []
  },
  {
   "cell_type": "code",
   "execution_count": null,
   "metadata": {},
   "outputs": [],
   "source": []
  },
  {
   "cell_type": "code",
   "execution_count": null,
   "metadata": {},
   "outputs": [],
   "source": []
  },
  {
   "cell_type": "code",
   "execution_count": 6,
   "metadata": {},
   "outputs": [
    {
     "data": {
      "image/png": "[encoded data removed]",
      "text/plain": [
       "<Figure size 576x576 with 1 Axes>"
      ]
     },
     "metadata": {
      "needs_background": "light"
     },
     "output_type": "display_data"
    }
   ],
   "source": [
    "\n",
    "X_optics = pd.DataFrame(StandardScaler().fit_transform(new_df_tsne))\n",
    "\n",
    "'''Apply OPTICS'''\n",
    "optics = OPTICS(xi=.35, min_cluster_size=3, min_samples=5).fit_predict(X_optics)\n",
    "#labels_optics = optics.labels_\n",
    "\n",
    "plt.figure(figsize=(8,8))\n",
    "plt.title('OPTICS',fontsize= 20)\n",
    "plt.xlabel('Feature 1',fontsize= 18)\n",
    "plt.ylabel('Feature 2',fontsize= 18)\n",
    "fig = plt.scatter(X_optics[0], X_optics[1], c= optics)\n"
   ]
  },
  {
   "cell_type": "code",
   "execution_count": 7,
   "metadata": {},
   "outputs": [
    {
     "data": {
      "image/png": "[encoded data removed]",
      "text/plain": [
       "<Figure size 576x576 with 1 Axes>"
      ]
     },
     "metadata": {
      "needs_background": "light"
     },
     "output_type": "display_data"
    }
   ],
   "source": [
    "\n",
    "X_kmeans = pd.DataFrame(StandardScaler().fit_transform(new_df_tsne))\n",
    "X_kmeans.index = new_df_tsne.index\n",
    "'''Apply K-Means'''\n",
    "from sklearn.cluster import *\n",
    "from sklearn.mixture import GaussianMixture\n",
    "\n",
    "\n",
    "kmean_clusters =   MiniBatchKMeans(n_clusters=6).fit_predict(X_kmeans)\n",
    "\n",
    "plt.figure(figsize = (8,8))\n",
    "plt.title('K-Means Clustering',fontsize= 20)\n",
    "plt.xlabel('Feature 1', fontsize=18)\n",
    "plt.ylabel('Feature 2', fontsize=18)\n",
    "f = plt.scatter(X_kmeans[0],X_kmeans[1],c=kmean_clusters)"
   ]
  },
  {
   "cell_type": "code",
   "execution_count": 8,
   "metadata": {},
   "outputs": [
    {
     "data": {
      "image/png": "[encoded data removed]",
      "text/plain": [
       "<Figure size 1440x1440 with 1 Axes>"
      ]
     },
     "metadata": {},
     "output_type": "display_data"
    }
   ],
   "source": [
    "sns.set(rc={'figure.figsize':(20, 20)})\n",
    "\n",
    "\n",
    "z = X_kmeans[0]\n",
    "y = X_kmeans[1]\n",
    "n = new_df_tsne.index.get_level_values(0)\n",
    "fig, ax = plt.subplots()\n",
    "\n",
    "ax.scatter(z, y, c=kmean_clusters)\n",
    "\n",
    "\n",
    "\n",
    "for i, txt in enumerate(n):\n",
    "    ax.annotate(txt, (z[i], y[i]))"
   ]
  },
  {
   "cell_type": "code",
   "execution_count": 9,
   "metadata": {},
   "outputs": [
    {
     "data": {
      "text/plain": [
       "\" new_df_tsne['Cluster'] = kmean_clusters.tolist()\\nnew_df_tsne \""
      ]
     },
     "execution_count": 9,
     "metadata": {},
     "output_type": "execute_result"
    }
   ],
   "source": [
    "\"\"\" new_df_tsne['Cluster'] = kmean_clusters.tolist()\n",
    "new_df_tsne \"\"\""
   ]
  },
  {
   "cell_type": "code",
   "execution_count": 10,
   "metadata": {},
   "outputs": [],
   "source": [
    "\n",
    "new_df_tsne.to_csv(write_path + '/Cluster.csv')"
   ]
  },
  {
   "cell_type": "code",
   "execution_count": null,
   "metadata": {},
   "outputs": [],
   "source": []
  }
 ],
 "metadata": {
  "kernelspec": {
   "display_name": "Python 3.10.5 ('.venv': poetry)",
   "language": "python",
   "name": "python3"
  },
  "language_info": {
   "codemirror_mode": {
    "name": "ipython",
    "version": 3
   },
   "file_extension": ".py",
   "mimetype": "text/x-python",
   "name": "python",
   "nbconvert_exporter": "python",
   "pygments_lexer": "ipython3",
   "version": "3.10.5"
  },
  "orig_nbformat": 4,
  "vscode": {
   "interpreter": {
    "hash": "44718ba4235bc6fc2135f9d8856f170c8312ddd29b08710a5ea28d42169e623e"
   }
  }
 },
 "nbformat": 4,
 "nbformat_minor": 2
}
