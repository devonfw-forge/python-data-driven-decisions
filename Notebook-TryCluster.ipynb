{
 "cells": [
  {
   "cell_type": "markdown",
   "metadata": {},
   "source": [
    "# Clustering\n",
    "\n",
    "In this notebook clustering is being applied to the correlation dataframe in order to group countries by similarity. The analysis will be performed for the different dimensions of the indicators: equality, socio-demographic and economic. In the end there is a global analysis  using all the indicators and giving a final conclusion to this notebook.\n",
    "\n",
    "In first place, set the list of indicators depending of the area they represent."
   ]
  },
  {
   "cell_type": "code",
   "execution_count": 1,
   "metadata": {},
   "outputs": [],
   "source": [
    "economic_ind = ['CreditToAgriFishForest', 'AgriShareGDP', 'EmploymentRural', '%EmploymentAgriFishForest', 'TotalAgri', '% Soldiers', '% Healthcare Investment', '% Employment Industry', '% Education Expenditure']\n",
    "soc_dem_ind = ['Marriage Rate', 'Birth Rate', 'Death Rate', 'Homicides', 'Life Expectancy', 'Maternal Death Risk', 'Literacy Rate', 'Infant Mortality', '% Population Growth', '% Rural Population', 'Suicide Rate']\n",
    "equality_ind = ['Gender Equality', 'Gender Inequality','% Men Employment', '% Women Employment', 'Women Schooling Years', 'Men Schooling Years', 'Freedom of Expression', '% Undernourishment', 'Civil Liberties', 'Gini']"
   ]
  },
  {
   "cell_type": "markdown",
   "metadata": {},
   "source": [
    "### Import\n",
    "\n",
    "Import all the libraries and the correlation dataframe generated in the Notebook-Golden."
   ]
  },
  {
   "cell_type": "code",
   "execution_count": 2,
   "metadata": {},
   "outputs": [],
   "source": [
    "import os\n",
    "import numpy as np\n",
    "import pandas as pd\n",
    "import matplotlib.pyplot as plt\n",
    "import plotly.express as px\n",
    "from numpy import sort\n",
    "from sklearn.manifold import TSNE\n",
    "import ipywidgets as widgets\n",
    "import seaborn as sns\n",
    "import warnings\n",
    "warnings.filterwarnings(\"ignore\")\n",
    "from matplotlib import gridspec\n",
    "from sklearn.cluster import OPTICS, cluster_optics_dbscan\n",
    "from sklearn.preprocessing import normalize, StandardScaler\n",
    "from sklearn.cluster import AffinityPropagation\n",
    "from ipywidgets import interact, interact_manual\n",
    "write_path = os.getcwd() + '/Output'\n",
    "corr_df = pd.read_csv(write_path + '/Corr_DF_pearson.csv')\n",
    "corr_df.rename(columns = {'Unnamed: 0' : 'Country'}, inplace = True)\n",
    "corr_df.set_index(corr_df.columns[0], inplace=True)\n"
   ]
  },
  {
   "cell_type": "markdown",
   "metadata": {},
   "source": [
    "# Equality indicators\n",
    "\n",
    "Apply the drop columns method to discard indicators which won't be analyzed and fill NaN values with 0. \n",
    "\n",
    "In this codeblock use the main piece of the Notebook, the algorithm of t-SNE (t-Distributed Stochastic Neighbor Embedding) to reduce the dimensionality of all the indicators to only 2 components. \n",
    "- N-components: the dimensions to analyze.\n",
    "- Perplexity: measurement of how well a probability distribution or probability model predicts a sample.\n",
    "- N-iter: iterations for the optimization\n",
    "- Learning rate: how fast the algorithm learns. A high value may cause a ball form of the data.\n",
    "- Init: Initialization of embedding. 'pca' is the new default for newer versions.\n",
    "\n",
    "The output is a dataframe of all the countries with only 2 columns representing the condensed indicators."
   ]
  },
  {
   "cell_type": "code",
   "execution_count": 3,
   "metadata": {},
   "outputs": [
    {
     "name": "stdout",
     "output_type": "stream",
     "text": [
      "             1st_component 2nd_component\n",
      "Country                                 \n",
      "Argentina         0.004769     28.372192\n",
      "Barbados         24.611437     22.477417\n",
      "Azerbaijan       -3.800133     30.059706\n",
      "Burkina Faso    -20.327116     67.829842\n",
      "Sierra Leone    -20.714712    -38.174812\n",
      "...                    ...           ...\n",
      "Maldives        -15.489695     62.650936\n",
      "Mauritius       -22.215483     69.383591\n",
      "Guyana          -57.253815      0.871426\n",
      "Kenya           -26.436104    -36.817009\n",
      "Poland           30.870569    -24.334475\n",
      "\n",
      "[122 rows x 2 columns]\n"
     ]
    }
   ],
   "source": [
    "df_normalized = corr_df.copy()\n",
    "df_normalized.drop(df_normalized.columns.difference(equality_ind), 1, inplace=True)\n",
    "df_normalized = df_normalized.dropna(how='all')\n",
    "df_normalized = df_normalized.fillna(value = 0)\n",
    "tsne = TSNE(n_components = 2, perplexity = 5, n_iter = 20000, learning_rate = 100.0, init = 'pca')\n",
    "tsne_result = tsne.fit_transform(df_normalized)\n",
    "new_df_tsne = pd.DataFrame(np.hstack((np.array(df_normalized.index).reshape(-1, 1), tsne_result)), columns = ['Country', '1st_component', '2nd_component'])\n",
    "new_df_tsne.set_index('Country', inplace = True)\n",
    "print(new_df_tsne)"
   ]
  },
  {
   "cell_type": "markdown",
   "metadata": {},
   "source": [
    "## Clustering\n",
    "\n",
    "The clustering method used in the notebook is Affinity Propagation. The reason behind  choosing this one is because is for many clusters, uneven cluster size and can simply be optmized changing 1 parameter, \"damping\". \n",
    "\n",
    "Damping: is the extent to which the current value is maintained relative to incoming values (weighted 1 - damping).\n",
    "In the end it generates a scatter plot with the result, however, this graphic is not flexible and powerful enough to display all the features desired. "
   ]
  },
  {
   "cell_type": "code",
   "execution_count": 4,
   "metadata": {},
   "outputs": [
    {
     "data": {
      "image/png": "[encoded data removed]",
      "text/plain": [
       "<Figure size 576x576 with 1 Axes>"
      ]
     },
     "metadata": {
      "needs_background": "light"
     },
     "output_type": "display_data"
    }
   ],
   "source": [
    "X_affinity_equality = pd.DataFrame(StandardScaler().fit_transform(new_df_tsne))\n",
    "X_affinity_equality.index = new_df_tsne.index\n",
    "'''Apply AffinityPropagation'''\n",
    "optics = AffinityPropagation(damping=0.5).fit(X_affinity_equality)\n",
    "labels_affinity = optics.labels_\n",
    "\n",
    "plt.figure(figsize=(8,8))\n",
    "plt.title('Affinity Propagation',fontsize= 20)\n",
    "plt.xlabel('Feature 1',fontsize= 18)\n",
    "plt.ylabel('Feature 2',fontsize= 18)\n",
    "fig = plt.scatter(X_affinity_equality[0], X_affinity_equality[1], c= labels_affinity)"
   ]
  },
  {
   "cell_type": "markdown",
   "metadata": {},
   "source": [
    "### Results\n",
    "Using the px.scatter gives the possibility to display the clustering with labels and in an interactive format."
   ]
  },
  {
   "cell_type": "code",
   "execution_count": 5,
   "metadata": {},
   "outputs": [
    {
     "data": {
      "application/vnd.plotly.v1+json": {
       "config": {
        "plotlyServerURL": "https://plot.ly"
       },
       "data": [
        {
         "hovertemplate": "Cluster=0<br>0=%{x}<br>1=%{y}<br>Country=%{text}<extra></extra>",
         "legendgroup": "0",
         "marker": {
          "color": "#636efa",
          "symbol": "circle"
         },
         "mode": "markers+text",
         "name": "0",
         "orientation": "v",
         "showlegend": true,
         "text": [
          "Oman",
          "Bhutan",
          "Colombia",
          "Lebanon",
          "Turkmenistan",
          "Jamaica",
          "Seychelles",
          "Estonia",
          "Jordan",
          "Guinea-Bissau",
          "Latvia",
          "Solomon Islands",
          "Tunisia",
          "Kyrgyzstan",
          "Myanmar",
          "Georgia",
          "Armenia",
          "Malawi",
          "Angola",
          "Gabon",
          "Nigeria",
          "Cuba",
          "Sao Tome and Principe",
          "Zimbabwe",
          "Togo",
          "Guyana"
         ],
         "textposition": "top center",
         "type": "scatter",
         "x": [
          -1.5449072528194603,
          -1.3872286326522363,
          -1.066877446424498,
          -1.2398729018843098,
          -1.2861791876340978,
          -1.6250987538842825,
          -1.5327494243359345,
          -1.082235329264076,
          -1.7260739617771335,
          -1.297458784721814,
          -1.035928009571039,
          -1.7441421200556517,
          -1.3438223509276035,
          -1.6796244748873412,
          -1.4463422700346524,
          -1.3099958635891198,
          -1.2753244378274486,
          -1.364476194483542,
          -1.319830835169154,
          -1.590233980735024,
          -1.5846471717826838,
          -1.2529410140043682,
          -1.2118671014611193,
          -1.6879194913921234,
          -1.3420517231134712,
          -1.517188061464928
         ],
         "xaxis": "x",
         "y": [
          -0.11771903390024284,
          -0.13838832274535448,
          -0.37127982541307597,
          -0.03439261951312184,
          -0.06741804135502577,
          -0.08589439430363469,
          -0.07755984939678072,
          -0.36025832890401155,
          -0.09223884995720678,
          -0.027527738365309067,
          -0.3940511944922022,
          -0.06325442109790244,
          0.15461344761992327,
          -0.09393413459040564,
          -0.16846731754065522,
          -0.08258327486571064,
          0.14801713185041276,
          -0.12782131669225139,
          0.16274668080432636,
          -0.06213895382548599,
          -0.11106172894826738,
          -0.08186973221247949,
          -0.02051976433270603,
          -0.06528713040053201,
          0.10294610105074206,
          -0.14330951167584324
         ],
         "yaxis": "y"
        },
        {
         "hovertemplate": "Cluster=1<br>0=%{x}<br>1=%{y}<br>Country=%{text}<extra></extra>",
         "legendgroup": "1",
         "marker": {
          "color": "#EF553B",
          "symbol": "circle"
         },
         "mode": "markers+text",
         "name": "1",
         "orientation": "v",
         "showlegend": true,
         "text": [
          "Burkina Faso",
          "Canada",
          "Eswatini",
          "Niger",
          "Montenegro",
          "Guinea",
          "Afghanistan",
          "Senegal",
          "Singapore",
          "Namibia",
          "Ukraine",
          "Maldives",
          "Mauritius"
         ],
         "textposition": "top center",
         "type": "scatter",
         "x": [
          -0.5163193644471161,
          -0.46275288429343614,
          -0.4467849232397099,
          -0.5380813366803079,
          -0.5811097638445466,
          -0.4252380112023369,
          -0.4571271473777662,
          -0.5072496142657621,
          -0.5930282861630616,
          -0.36622691514165306,
          -0.4163588684589597,
          -0.38520491763082304,
          -0.5675020367427682
         ],
         "xaxis": "x",
         "y": [
          2.1931306575012157,
          2.2183701126236532,
          2.065117233684303,
          2.1711747514783184,
          2.1678323679089386,
          2.0419938228311776,
          2.1097161577964108,
          2.1568196732761593,
          2.133413670614281,
          1.9861475317552344,
          2.080760014739914,
          2.0124184536351044,
          2.247347020787152
         ],
         "yaxis": "y"
        },
        {
         "hovertemplate": "Cluster=2<br>0=%{x}<br>1=%{y}<br>Country=%{text}<extra></extra>",
         "legendgroup": "2",
         "marker": {
          "color": "#00cc96",
          "symbol": "circle"
         },
         "mode": "markers+text",
         "name": "2",
         "orientation": "v",
         "showlegend": true,
         "text": [
          "Sierra Leone",
          "Guatemala",
          "Morocco",
          "Algeria",
          "Sri Lanka",
          "Ireland",
          "Saudi Arabia",
          "Vanuatu",
          "Peru",
          "Cyprus",
          "Ecuador",
          "Albania",
          "Nepal",
          "Malaysia",
          "Kenya"
         ],
         "textposition": "top center",
         "type": "scatter",
         "x": [
          -0.5268248482242098,
          -0.506597402864212,
          -0.356217155455354,
          -0.5956222429864748,
          -0.4119375720341994,
          -0.6387847725901256,
          -0.6735298668082973,
          -0.616473931583134,
          -0.5495419255337839,
          -0.6381852405971185,
          -0.5641115300402264,
          -0.7042868351259312,
          -0.42479191638750047,
          -0.3920858099537723,
          -0.6818986034667422
         ],
         "xaxis": "x",
         "y": [
          -1.5057850071574024,
          -1.5464859479781634,
          -1.631915062391155,
          -1.4895285905679467,
          -1.5889728211107672,
          -1.3290513179271015,
          -1.4963563174818366,
          -1.463975662195573,
          -1.536498863277765,
          -1.3779472880920463,
          -1.4917044010747202,
          -1.4891046362999867,
          -1.6154665685619294,
          -1.6217217908269979,
          -1.458405954680895
         ],
         "yaxis": "y"
        },
        {
         "hovertemplate": "Cluster=3<br>0=%{x}<br>1=%{y}<br>Country=%{text}<extra></extra>",
         "legendgroup": "3",
         "marker": {
          "color": "#ab63fa",
          "symbol": "circle"
         },
         "mode": "markers+text",
         "name": "3",
         "orientation": "v",
         "showlegend": true,
         "text": [
          "Dominican Republic",
          "Papua New Guinea",
          "Kazakhstan",
          "Cambodia",
          "Mongolia",
          "Uganda",
          "Suriname",
          "Bahrain",
          "Thailand",
          "China",
          "Bangladesh",
          "Tajikistan",
          "Burundi",
          "Mali",
          "Zambia",
          "Nicaragua"
         ],
         "textposition": "top center",
         "type": "scatter",
         "x": [
          1.7092172688403287,
          1.5382360382241438,
          1.5635129522299098,
          1.7880425172957524,
          1.5799036409810423,
          1.604762428336861,
          1.4668296427641907,
          1.6943717048806937,
          1.640677377644259,
          1.7272616464241168,
          1.7745588633838694,
          1.700037713885917,
          1.745548070122526,
          1.6127367156457635,
          1.471642958771858,
          1.699111404129023
         ],
         "xaxis": "x",
         "y": [
          -0.057556662090044654,
          -0.21750609253276582,
          -0.2578919835860522,
          -0.17586292770234893,
          -0.2303299021612399,
          -0.31137426373430743,
          -0.3260182980508513,
          -0.2734674194729204,
          -0.2558203729852087,
          -0.04032161495892995,
          -0.1552218653846491,
          -0.24452694175956646,
          -0.2188232542179064,
          -0.26369423367722195,
          -0.3045441824433015,
          -0.014367635499516555
         ],
         "yaxis": "y"
        },
        {
         "hovertemplate": "Cluster=4<br>0=%{x}<br>1=%{y}<br>Country=%{text}<extra></extra>",
         "legendgroup": "4",
         "marker": {
          "color": "#FFA15A",
          "symbol": "circle"
         },
         "mode": "markers+text",
         "name": "4",
         "orientation": "v",
         "showlegend": true,
         "text": [
          "New Zealand",
          "United Kingdom",
          "Spain",
          "Slovakia",
          "Indonesia",
          "Germany",
          "Russia",
          "Bulgaria",
          "France",
          "Austria",
          "Australia",
          "Luxembourg",
          "Hungary",
          "Malta",
          "Israel",
          "Lithuania",
          "Mexico",
          "Italy",
          "Switzerland",
          "Philippines",
          "Chile",
          "Liechtenstein",
          "Greece",
          "Belgium",
          "Netherlands",
          "Poland"
         ],
         "textposition": "top center",
         "type": "scatter",
         "x": [
          0.9721868498195336,
          0.7348871550780316,
          0.6527014359714531,
          0.7302831091839879,
          0.9304857473013634,
          0.9180858727032167,
          0.9345578293937306,
          0.960970633452989,
          0.24634060784885073,
          0.694290820921555,
          1.002580748965236,
          0.2460469033446452,
          1.0265293560788469,
          1.000693595746927,
          0.9702565811677358,
          0.6944101896696668,
          0.16014109520057473,
          0.672247461033113,
          0.20909714486064765,
          0.7064925402960062,
          0.6721236980261923,
          0.19566389568215964,
          0.723224998988138,
          0.22513092932647152,
          0.2603509912247116,
          0.8713530336660008
         ],
         "xaxis": "x",
         "y": [
          -0.7743730475832976,
          -0.4887259395204731,
          -0.7787850338277772,
          -0.5041400049023252,
          -0.7582925354098886,
          -1.0334062434491513,
          -1.0633472648819862,
          -1.038987598059103,
          -0.4779900797036406,
          -0.7782643753916311,
          -0.7747655214166037,
          -0.4149342366533231,
          -0.7535421844090026,
          -0.8172768201718671,
          -1.0711834305820818,
          -0.6674427630243066,
          -0.3673341389472297,
          -0.7478807643383986,
          -0.36392293768349016,
          -0.7087415326067553,
          -0.8131756449841179,
          -0.3936093203362284,
          -0.672333311774872,
          -0.4100235051505193,
          -0.34458734523913076,
          -1.0228416624876713
         ],
         "yaxis": "y"
        },
        {
         "hovertemplate": "Cluster=5<br>0=%{x}<br>1=%{y}<br>Country=%{text}<extra></extra>",
         "legendgroup": "5",
         "marker": {
          "color": "#19d3f3",
          "symbol": "circle"
         },
         "mode": "markers+text",
         "name": "5",
         "orientation": "v",
         "showlegend": true,
         "text": [
          "Argentina",
          "Barbados",
          "Azerbaijan",
          "Iceland",
          "South Africa",
          "Djibouti",
          "Central African Republic",
          "Sweden",
          "Japan",
          "United Arab Emirates",
          "United States",
          "Portugal",
          "Bosnia and Herzegovina",
          "Egypt",
          "Benin",
          "Serbia",
          "Botswana",
          "Honduras",
          "Czechia",
          "Panama",
          "Costa Rica",
          "India",
          "Haiti",
          "Cameroon",
          "Romania",
          "Denmark"
         ],
         "textposition": "top center",
         "type": "scatter",
         "x": [
          0.034760146684604525,
          0.7017042457149678,
          -0.06836867317565924,
          0.11061839940496235,
          0.34803341112946873,
          0.7248981259538775,
          0.686954735083177,
          0.42028704553633883,
          0.46711707523897283,
          -0.18416095989163173,
          0.43745562149095296,
          0.5232331818992597,
          0.06819134271407053,
          0.6796871996822161,
          -0.1589425670737663,
          0.07900173312425952,
          0.10793096118753728,
          -0.03791711230738201,
          0.04521423837055862,
          -0.057637557133024514,
          0.3415743418035826,
          -0.16885707473823944,
          0.6665840885831747,
          0.7191130066863545,
          0.3205366726649865,
          0.5042947018907876
         ],
         "xaxis": "x",
         "y": [
          0.8162994390675804,
          0.6106077432455388,
          0.8751833591457153,
          0.757301377455764,
          0.8036038390000076,
          0.578235806642023,
          0.5417955729368447,
          0.7795411398291869,
          0.6369365678276263,
          0.6523570557505866,
          0.7741200492502004,
          0.6480355840750904,
          0.8116931792739367,
          0.5787728375663823,
          0.6558102531121413,
          0.7580348782386819,
          0.799899264045033,
          0.8701312485449972,
          0.7771890921322159,
          0.8415936688152192,
          0.8363489485360904,
          0.6845911573008927,
          0.6318460550899203,
          0.5389458282201239,
          0.760966685060959,
          0.6447251468241754
         ],
         "yaxis": "y"
        }
       ],
       "layout": {
        "legend": {
         "title": {
          "text": "Cluster"
         },
         "tracegroupgap": 0
        },
        "margin": {
         "t": 60
        },
        "template": {
         "data": {
          "bar": [
           {
            "error_x": {
             "color": "#2a3f5f"
            },
            "error_y": {
             "color": "#2a3f5f"
            },
            "marker": {
             "line": {
              "color": "#E5ECF6",
              "width": 0.5
             },
             "pattern": {
              "fillmode": "overlay",
              "size": 10,
              "solidity": 0.2
             }
            },
            "type": "bar"
           }
          ],
          "barpolar": [
           {
            "marker": {
             "line": {
              "color": "#E5ECF6",
              "width": 0.5
             },
             "pattern": {
              "fillmode": "overlay",
              "size": 10,
              "solidity": 0.2
             }
            },
            "type": "barpolar"
           }
          ],
          "carpet": [
           {
            "aaxis": {
             "endlinecolor": "#2a3f5f",
             "gridcolor": "white",
             "linecolor": "white",
             "minorgridcolor": "white",
             "startlinecolor": "#2a3f5f"
            },
            "baxis": {
             "endlinecolor": "#2a3f5f",
             "gridcolor": "white",
             "linecolor": "white",
             "minorgridcolor": "white",
             "startlinecolor": "#2a3f5f"
            },
            "type": "carpet"
           }
          ],
          "choropleth": [
           {
            "colorbar": {
             "outlinewidth": 0,
             "ticks": ""
            },
            "type": "choropleth"
           }
          ],
          "contour": [
           {
            "colorbar": {
             "outlinewidth": 0,
             "ticks": ""
            },
            "colorscale": [
             [
              0,
              "#0d0887"
             ],
             [
              0.1111111111111111,
              "#46039f"
             ],
             [
              0.2222222222222222,
              "#7201a8"
             ],
             [
              0.3333333333333333,
              "#9c179e"
             ],
             [
              0.4444444444444444,
              "#bd3786"
             ],
             [
              0.5555555555555556,
              "#d8576b"
             ],
             [
              0.6666666666666666,
              "#ed7953"
             ],
             [
              0.7777777777777778,
              "#fb9f3a"
             ],
             [
              0.8888888888888888,
              "#fdca26"
             ],
             [
              1,
              "#f0f921"
             ]
            ],
            "type": "contour"
           }
          ],
          "contourcarpet": [
           {
            "colorbar": {
             "outlinewidth": 0,
             "ticks": ""
            },
            "type": "contourcarpet"
           }
          ],
          "heatmap": [
           {
            "colorbar": {
             "outlinewidth": 0,
             "ticks": ""
            },
            "colorscale": [
             [
              0,
              "#0d0887"
             ],
             [
              0.1111111111111111,
              "#46039f"
             ],
             [
              0.2222222222222222,
              "#7201a8"
             ],
             [
              0.3333333333333333,
              "#9c179e"
             ],
             [
              0.4444444444444444,
              "#bd3786"
             ],
             [
              0.5555555555555556,
              "#d8576b"
             ],
             [
              0.6666666666666666,
              "#ed7953"
             ],
             [
              0.7777777777777778,
              "#fb9f3a"
             ],
             [
              0.8888888888888888,
              "#fdca26"
             ],
             [
              1,
              "#f0f921"
             ]
            ],
            "type": "heatmap"
           }
          ],
          "heatmapgl": [
           {
            "colorbar": {
             "outlinewidth": 0,
             "ticks": ""
            },
            "colorscale": [
             [
              0,
              "#0d0887"
             ],
             [
              0.1111111111111111,
              "#46039f"
             ],
             [
              0.2222222222222222,
              "#7201a8"
             ],
             [
              0.3333333333333333,
              "#9c179e"
             ],
             [
              0.4444444444444444,
              "#bd3786"
             ],
             [
              0.5555555555555556,
              "#d8576b"
             ],
             [
              0.6666666666666666,
              "#ed7953"
             ],
             [
              0.7777777777777778,
              "#fb9f3a"
             ],
             [
              0.8888888888888888,
              "#fdca26"
             ],
             [
              1,
              "#f0f921"
             ]
            ],
            "type": "heatmapgl"
           }
          ],
          "histogram": [
           {
            "marker": {
             "pattern": {
              "fillmode": "overlay",
              "size": 10,
              "solidity": 0.2
             }
            },
            "type": "histogram"
           }
          ],
          "histogram2d": [
           {
            "colorbar": {
             "outlinewidth": 0,
             "ticks": ""
            },
            "colorscale": [
             [
              0,
              "#0d0887"
             ],
             [
              0.1111111111111111,
              "#46039f"
             ],
             [
              0.2222222222222222,
              "#7201a8"
             ],
             [
              0.3333333333333333,
              "#9c179e"
             ],
             [
              0.4444444444444444,
              "#bd3786"
             ],
             [
              0.5555555555555556,
              "#d8576b"
             ],
             [
              0.6666666666666666,
              "#ed7953"
             ],
             [
              0.7777777777777778,
              "#fb9f3a"
             ],
             [
              0.8888888888888888,
              "#fdca26"
             ],
             [
              1,
              "#f0f921"
             ]
            ],
            "type": "histogram2d"
           }
          ],
          "histogram2dcontour": [
           {
            "colorbar": {
             "outlinewidth": 0,
             "ticks": ""
            },
            "colorscale": [
             [
              0,
              "#0d0887"
             ],
             [
              0.1111111111111111,
              "#46039f"
             ],
             [
              0.2222222222222222,
              "#7201a8"
             ],
             [
              0.3333333333333333,
              "#9c179e"
             ],
             [
              0.4444444444444444,
              "#bd3786"
             ],
             [
              0.5555555555555556,
              "#d8576b"
             ],
             [
              0.6666666666666666,
              "#ed7953"
             ],
             [
              0.7777777777777778,
              "#fb9f3a"
             ],
             [
              0.8888888888888888,
              "#fdca26"
             ],
             [
              1,
              "#f0f921"
             ]
            ],
            "type": "histogram2dcontour"
           }
          ],
          "mesh3d": [
           {
            "colorbar": {
             "outlinewidth": 0,
             "ticks": ""
            },
            "type": "mesh3d"
           }
          ],
          "parcoords": [
           {
            "line": {
             "colorbar": {
              "outlinewidth": 0,
              "ticks": ""
             }
            },
            "type": "parcoords"
           }
          ],
          "pie": [
           {
            "automargin": true,
            "type": "pie"
           }
          ],
          "scatter": [
           {
            "fillpattern": {
             "fillmode": "overlay",
             "size": 10,
             "solidity": 0.2
            },
            "type": "scatter"
           }
          ],
          "scatter3d": [
           {
            "line": {
             "colorbar": {
              "outlinewidth": 0,
              "ticks": ""
             }
            },
            "marker": {
             "colorbar": {
              "outlinewidth": 0,
              "ticks": ""
             }
            },
            "type": "scatter3d"
           }
          ],
          "scattercarpet": [
           {
            "marker": {
             "colorbar": {
              "outlinewidth": 0,
              "ticks": ""
             }
            },
            "type": "scattercarpet"
           }
          ],
          "scattergeo": [
           {
            "marker": {
             "colorbar": {
              "outlinewidth": 0,
              "ticks": ""
             }
            },
            "type": "scattergeo"
           }
          ],
          "scattergl": [
           {
            "marker": {
             "colorbar": {
              "outlinewidth": 0,
              "ticks": ""
             }
            },
            "type": "scattergl"
           }
          ],
          "scattermapbox": [
           {
            "marker": {
             "colorbar": {
              "outlinewidth": 0,
              "ticks": ""
             }
            },
            "type": "scattermapbox"
           }
          ],
          "scatterpolar": [
           {
            "marker": {
             "colorbar": {
              "outlinewidth": 0,
              "ticks": ""
             }
            },
            "type": "scatterpolar"
           }
          ],
          "scatterpolargl": [
           {
            "marker": {
             "colorbar": {
              "outlinewidth": 0,
              "ticks": ""
             }
            },
            "type": "scatterpolargl"
           }
          ],
          "scatterternary": [
           {
            "marker": {
             "colorbar": {
              "outlinewidth": 0,
              "ticks": ""
             }
            },
            "type": "scatterternary"
           }
          ],
          "surface": [
           {
            "colorbar": {
             "outlinewidth": 0,
             "ticks": ""
            },
            "colorscale": [
             [
              0,
              "#0d0887"
             ],
             [
              0.1111111111111111,
              "#46039f"
             ],
             [
              0.2222222222222222,
              "#7201a8"
             ],
             [
              0.3333333333333333,
              "#9c179e"
             ],
             [
              0.4444444444444444,
              "#bd3786"
             ],
             [
              0.5555555555555556,
              "#d8576b"
             ],
             [
              0.6666666666666666,
              "#ed7953"
             ],
             [
              0.7777777777777778,
              "#fb9f3a"
             ],
             [
              0.8888888888888888,
              "#fdca26"
             ],
             [
              1,
              "#f0f921"
             ]
            ],
            "type": "surface"
           }
          ],
          "table": [
           {
            "cells": {
             "fill": {
              "color": "#EBF0F8"
             },
             "line": {
              "color": "white"
             }
            },
            "header": {
             "fill": {
              "color": "#C8D4E3"
             },
             "line": {
              "color": "white"
             }
            },
            "type": "table"
           }
          ]
         },
         "layout": {
          "annotationdefaults": {
           "arrowcolor": "#2a3f5f",
           "arrowhead": 0,
           "arrowwidth": 1
          },
          "autotypenumbers": "strict",
          "coloraxis": {
           "colorbar": {
            "outlinewidth": 0,
            "ticks": ""
           }
          },
          "colorscale": {
           "diverging": [
            [
             0,
             "#8e0152"
            ],
            [
             0.1,
             "#c51b7d"
            ],
            [
             0.2,
             "#de77ae"
            ],
            [
             0.3,
             "#f1b6da"
            ],
            [
             0.4,
             "#fde0ef"
            ],
            [
             0.5,
             "#f7f7f7"
            ],
            [
             0.6,
             "#e6f5d0"
            ],
            [
             0.7,
             "#b8e186"
            ],
            [
             0.8,
             "#7fbc41"
            ],
            [
             0.9,
             "#4d9221"
            ],
            [
             1,
             "#276419"
            ]
           ],
           "sequential": [
            [
             0,
             "#0d0887"
            ],
            [
             0.1111111111111111,
             "#46039f"
            ],
            [
             0.2222222222222222,
             "#7201a8"
            ],
            [
             0.3333333333333333,
             "#9c179e"
            ],
            [
             0.4444444444444444,
             "#bd3786"
            ],
            [
             0.5555555555555556,
             "#d8576b"
            ],
            [
             0.6666666666666666,
             "#ed7953"
            ],
            [
             0.7777777777777778,
             "#fb9f3a"
            ],
            [
             0.8888888888888888,
             "#fdca26"
            ],
            [
             1,
             "#f0f921"
            ]
           ],
           "sequentialminus": [
            [
             0,
             "#0d0887"
            ],
            [
             0.1111111111111111,
             "#46039f"
            ],
            [
             0.2222222222222222,
             "#7201a8"
            ],
            [
             0.3333333333333333,
             "#9c179e"
            ],
            [
             0.4444444444444444,
             "#bd3786"
            ],
            [
             0.5555555555555556,
             "#d8576b"
            ],
            [
             0.6666666666666666,
             "#ed7953"
            ],
            [
             0.7777777777777778,
             "#fb9f3a"
            ],
            [
             0.8888888888888888,
             "#fdca26"
            ],
            [
             1,
             "#f0f921"
            ]
           ]
          },
          "colorway": [
           "#636efa",
           "#EF553B",
           "#00cc96",
           "#ab63fa",
           "#FFA15A",
           "#19d3f3",
           "#FF6692",
           "#B6E880",
           "#FF97FF",
           "#FECB52"
          ],
          "font": {
           "color": "#2a3f5f"
          },
          "geo": {
           "bgcolor": "white",
           "lakecolor": "white",
           "landcolor": "#E5ECF6",
           "showlakes": true,
           "showland": true,
           "subunitcolor": "white"
          },
          "hoverlabel": {
           "align": "left"
          },
          "hovermode": "closest",
          "mapbox": {
           "style": "light"
          },
          "paper_bgcolor": "white",
          "plot_bgcolor": "#E5ECF6",
          "polar": {
           "angularaxis": {
            "gridcolor": "white",
            "linecolor": "white",
            "ticks": ""
           },
           "bgcolor": "#E5ECF6",
           "radialaxis": {
            "gridcolor": "white",
            "linecolor": "white",
            "ticks": ""
           }
          },
          "scene": {
           "xaxis": {
            "backgroundcolor": "#E5ECF6",
            "gridcolor": "white",
            "gridwidth": 2,
            "linecolor": "white",
            "showbackground": true,
            "ticks": "",
            "zerolinecolor": "white"
           },
           "yaxis": {
            "backgroundcolor": "#E5ECF6",
            "gridcolor": "white",
            "gridwidth": 2,
            "linecolor": "white",
            "showbackground": true,
            "ticks": "",
            "zerolinecolor": "white"
           },
           "zaxis": {
            "backgroundcolor": "#E5ECF6",
            "gridcolor": "white",
            "gridwidth": 2,
            "linecolor": "white",
            "showbackground": true,
            "ticks": "",
            "zerolinecolor": "white"
           }
          },
          "shapedefaults": {
           "line": {
            "color": "#2a3f5f"
           }
          },
          "ternary": {
           "aaxis": {
            "gridcolor": "white",
            "linecolor": "white",
            "ticks": ""
           },
           "baxis": {
            "gridcolor": "white",
            "linecolor": "white",
            "ticks": ""
           },
           "bgcolor": "#E5ECF6",
           "caxis": {
            "gridcolor": "white",
            "linecolor": "white",
            "ticks": ""
           }
          },
          "title": {
           "x": 0.05
          },
          "xaxis": {
           "automargin": true,
           "gridcolor": "white",
           "linecolor": "white",
           "ticks": "",
           "title": {
            "standoff": 15
           },
           "zerolinecolor": "white",
           "zerolinewidth": 2
          },
          "yaxis": {
           "automargin": true,
           "gridcolor": "white",
           "linecolor": "white",
           "ticks": "",
           "title": {
            "standoff": 15
           },
           "zerolinecolor": "white",
           "zerolinewidth": 2
          }
         }
        },
        "title": {
         "text": "Cluster Equality Indicators",
         "x": 0.5
        },
        "xaxis": {
         "anchor": "y",
         "domain": [
          0,
          1
         ],
         "title": {
          "text": "0"
         }
        },
        "yaxis": {
         "anchor": "x",
         "domain": [
          0,
          1
         ],
         "title": {
          "text": "1"
         }
        }
       }
      }
     },
     "metadata": {},
     "output_type": "display_data"
    }
   ],
   "source": [
    "X_affinity_equality['Cluster'] = labels_affinity\n",
    "X_affinity_equality['Cluster'] = X_affinity_equality['Cluster'].astype(str)\n",
    " \n",
    "fig = px.scatter(X_affinity_equality, x= X_affinity_equality.columns[0], y=X_affinity_equality.columns[1], text= X_affinity_equality.index, size_max=100, color='Cluster', category_orders={\"Cluster\": sort(list(set(X_affinity_equality.loc[:, 'Cluster'])))})\n",
    "fig.update_layout(title_text='Cluster Equality Indicators', title_x=0.5)\n",
    "fig.update_traces(textposition='top center')\n",
    "fig.show()\n"
   ]
  },
  {
   "cell_type": "markdown",
   "metadata": {},
   "source": [
    "# Socio-demographic indicators\n",
    "\n",
    "Perform the same code as before but for different indicators.\n",
    "\n",
    "TSNE() and AffinityPropagation() parameters have been optimized again for this case."
   ]
  },
  {
   "cell_type": "code",
   "execution_count": 6,
   "metadata": {},
   "outputs": [
    {
     "data": {
      "application/vnd.plotly.v1+json": {
       "config": {
        "plotlyServerURL": "https://plot.ly"
       },
       "data": [
        {
         "hovertemplate": "Cluster=0<br>0=%{x}<br>1=%{y}<br>Country=%{text}<extra></extra>",
         "legendgroup": "0",
         "marker": {
          "color": "#636efa",
          "symbol": "circle"
         },
         "mode": "markers+text",
         "name": "0",
         "orientation": "v",
         "showlegend": true,
         "text": [
          "Comoros",
          "Burkina Faso",
          "Sierra Leone",
          "Bhutan",
          "Central African Republic",
          "Madagascar",
          "Guatemala",
          "Papua New Guinea",
          "Pakistan",
          "Chad",
          "Brazil",
          "Indonesia",
          "United Arab Emirates",
          "Portugal",
          "Ghana",
          "Cambodia",
          "Benin",
          "Honduras",
          "India",
          "Bahrain",
          "Myanmar",
          "Haiti",
          "Ethiopia",
          "Bangladesh",
          "Kiribati",
          "Nicaragua",
          "Belize",
          "Togo",
          "Kenya"
         ],
         "textposition": "top center",
         "type": "scatter",
         "x": [
          -0.8710564046314984,
          -1.1083470831880295,
          -0.9442920253921994,
          -0.888941951101991,
          -0.7721753475345141,
          -1.23589091834607,
          -1.556540567948636,
          -0.8687348158377403,
          -1.2103229027651556,
          -0.8232274366241379,
          -0.49499619950147944,
          -0.8876415050909081,
          -0.7186066663720733,
          -0.47942637661600473,
          -0.9403453164899852,
          -0.7525205359950047,
          -1.2592684872242412,
          -1.2888628592538534,
          -1.461638945630429,
          -0.6900226610467054,
          -1.0914610875792232,
          -1.1254721407286679,
          -1.0507927242788644,
          -1.5150567219307107,
          -0.7280912457204559,
          -1.5117107296958592,
          -0.8944266569102921,
          -0.9260694381808205,
          -1.185676222008018
         ],
         "xaxis": "x",
         "y": [
          -1.4130887083152335,
          -0.9192680135775466,
          -1.5989169307850255,
          -1.6604287376526392,
          -1.4221618229700794,
          -1.668912810268165,
          -1.2436047122540101,
          -1.2910417518217354,
          -1.725425754633389,
          -1.3912783778230766,
          -1.2769552873853403,
          -1.7317510080277443,
          -1.624468091382605,
          -1.2358798803796378,
          -1.7054143149601657,
          -1.6676401832788592,
          -1.745665449438264,
          -1.6739771338097211,
          -1.238836787712746,
          -1.6715796500785398,
          -0.9594728960755124,
          -1.6609777518762068,
          -1.6229986520230837,
          -1.18344945128165,
          -1.5018922955431842,
          -1.242059831729679,
          -1.2244037017083047,
          -1.7699722064126047,
          -1.644491979384588
         ],
         "yaxis": "y"
        },
        {
         "hovertemplate": "Cluster=1<br>0=%{x}<br>1=%{y}<br>Country=%{text}<extra></extra>",
         "legendgroup": "1",
         "marker": {
          "color": "#EF553B",
          "symbol": "circle"
         },
         "mode": "markers+text",
         "name": "1",
         "orientation": "v",
         "showlegend": true,
         "text": [
          "South Africa",
          "Tuvalu",
          "United Kingdom",
          "Spain",
          "Dominican Republic",
          "Lebanon",
          "Canada",
          "Finland",
          "Slovenia",
          "Croatia",
          "Germany",
          "United States",
          "Estonia",
          "Bulgaria",
          "France",
          "Australia",
          "Latvia",
          "Hungary",
          "China",
          "Israel",
          "Lithuania",
          "Switzerland",
          "Marshall Islands",
          "Palau",
          "Belgium",
          "Romania"
         ],
         "textposition": "top center",
         "type": "scatter",
         "x": [
          1.5862937992527892,
          1.2367812785018457,
          1.556966483100453,
          1.5290410910114345,
          0.9408803444064312,
          1.3065975422132858,
          1.0919442630739944,
          1.369285688509525,
          1.377338878576445,
          1.204715963617271,
          1.1724233569824718,
          0.9520162881871238,
          1.680189150571838,
          1.2958866769507706,
          0.979226323630491,
          1.0735975720220887,
          1.2608753174212257,
          1.3441189724988114,
          1.3084923823955303,
          1.687197816549377,
          1.3180394311875105,
          1.7127709219385538,
          1.274192005457661,
          1.2511144966822183,
          1.6640776806297353,
          1.3337850711607422
         ],
         "xaxis": "x",
         "y": [
          0.22165005033854254,
          0.4615707952503745,
          0.28060788403175435,
          0.1803951083844374,
          -0.14979327062762357,
          0.3004925331840347,
          0.0880719943008409,
          0.1714084210810977,
          0.10995184025820699,
          0.030883905837863896,
          0.04778653490598675,
          -0.040520103644241336,
          0.25699919928655884,
          -0.2820143481638189,
          -0.1266933442497377,
          0.0402399701334947,
          -0.02800779610881282,
          0.23164485105919494,
          -0.35653895111231704,
          0.07447905311387953,
          -0.19946953381585655,
          0.1224714450898049,
          0.4661302907698005,
          0.5337511418044564,
          0.1340672511273855,
          -0.2854964730230598
         ],
         "yaxis": "y"
        },
        {
         "hovertemplate": "Cluster=2<br>0=%{x}<br>1=%{y}<br>Country=%{text}<extra></extra>",
         "legendgroup": "2",
         "marker": {
          "color": "#00cc96",
          "symbol": "circle"
         },
         "mode": "markers+text",
         "name": "2",
         "orientation": "v",
         "showlegend": true,
         "text": [
          "Greenland",
          "Libya",
          "Bermuda",
          "Dominica",
          "Japan",
          "Seychelles",
          "Aruba",
          "Fiji",
          "French Polynesia",
          "New Caledonia",
          "Italy",
          "Liechtenstein",
          "Grenada",
          "Cayman Islands",
          "Mauritius"
         ],
         "textposition": "top center",
         "type": "scatter",
         "x": [
          0.5307462985703538,
          0.28637315181647666,
          0.006300089909035686,
          0.37864048024579466,
          0.2700829818874057,
          0.40369792443537145,
          -0.07750499487838633,
          0.3969488386792229,
          0.24778779254756853,
          0.49407136702149423,
          0.3367076177052071,
          -0.08136517704013707,
          0.3267175965378764,
          0.20144381586493565,
          -0.13774438670255784
         ],
         "xaxis": "x",
         "y": [
          0.31507744050841185,
          0.753743319645518,
          0.7676982181245062,
          0.3970554534733937,
          0.6610904623448041,
          0.3248645365711841,
          0.7607333245269506,
          0.2540801466773295,
          0.7188293524664857,
          0.32546023202759994,
          0.7275081448452372,
          0.8207419420402597,
          0.23772089642370636,
          0.7400727474341884,
          0.7154217834383283
         ],
         "yaxis": "y"
        },
        {
         "hovertemplate": "Cluster=3<br>0=%{x}<br>1=%{y}<br>Country=%{text}<extra></extra>",
         "legendgroup": "3",
         "marker": {
          "color": "#ab63fa",
          "symbol": "circle"
         },
         "mode": "markers+text",
         "name": "3",
         "orientation": "v",
         "showlegend": true,
         "text": [
          "Oman",
          "Morocco",
          "Niger",
          "Rwanda",
          "Guinea",
          "Luxembourg",
          "Guinea-Bissau",
          "Senegal",
          "Uganda",
          "Nigeria",
          "Zambia",
          "Maldives"
         ],
         "textposition": "top center",
         "type": "scatter",
         "x": [
          -0.5666734442409799,
          -0.6983205197873716,
          -0.7208505958257003,
          -0.6867587817342147,
          -0.8580323010419059,
          -0.8553842487650574,
          -0.7406887597550429,
          -0.8036637246997027,
          -0.6930302406782874,
          -0.6534276951573458,
          -0.8250759118342406,
          -0.6306262885980831
         ],
         "xaxis": "x",
         "y": [
          2.0199562539012623,
          2.1703436551399102,
          1.9121762626111731,
          1.9961329427981438,
          2.1785926045803308,
          2.281369870093588,
          2.0939982694839703,
          2.195077625879697,
          2.083800727339965,
          2.1438815129661255,
          2.133311594091123,
          2.0302948055624235
         ],
         "yaxis": "y"
        },
        {
         "hovertemplate": "Cluster=4<br>0=%{x}<br>1=%{y}<br>Country=%{text}<extra></extra>",
         "legendgroup": "4",
         "marker": {
          "color": "#FFA15A",
          "symbol": "circle"
         },
         "mode": "markers+text",
         "name": "4",
         "orientation": "v",
         "showlegend": true,
         "text": [
          "New Zealand",
          "Colombia",
          "Jamaica",
          "El Salvador",
          "Montenegro",
          "Bosnia and Herzegovina",
          "Serbia",
          "Panama",
          "Peru",
          "Costa Rica",
          "Ecuador",
          "Thailand",
          "Albania",
          "Uruguay",
          "Mexico",
          "Paraguay",
          "Cuba",
          "Philippines",
          "Chile",
          "Netherlands",
          "Malaysia"
         ],
         "textposition": "top center",
         "type": "scatter",
         "x": [
          0.016917986642505038,
          0.6544883650692818,
          0.4011611321860122,
          0.44496426067832656,
          0.6003106167727974,
          0.6390769823480427,
          0.6935595624425016,
          0.38769771452075796,
          -0.0025166906896489133,
          0.44705322932883507,
          0.0018815796393588525,
          0.6859971412316476,
          0.5100556712852873,
          0.23933322338219343,
          0.43719570223283905,
          0.7393901047166492,
          0.41466089426339126,
          0.37816179968435215,
          0.4241762112819845,
          -0.0240334574783315,
          0.3161432017594011
         ],
         "xaxis": "x",
         "y": [
          -0.640068954983198,
          -0.6438638709308173,
          -1.1539519558409363,
          -0.7310550239882803,
          -0.630550436979072,
          -0.5689163467440314,
          -0.6129424905750516,
          -0.8991986247876838,
          -0.46725186524001655,
          -0.9695288921364676,
          -0.5692551881066027,
          -0.5292492642424317,
          -0.6461307008666128,
          -0.20394470800491346,
          -1.14964826811186,
          -0.685606229343766,
          -0.8421498657199041,
          -0.9487329931250349,
          -0.6888785837664319,
          -0.6166384637716683,
          -0.8795769465804488
         ],
         "yaxis": "y"
        },
        {
         "hovertemplate": "Cluster=5<br>0=%{x}<br>1=%{y}<br>Country=%{text}<extra></extra>",
         "legendgroup": "5",
         "marker": {
          "color": "#19d3f3",
          "symbol": "circle"
         },
         "mode": "markers+text",
         "name": "5",
         "orientation": "v",
         "showlegend": true,
         "text": [
          "Barbados",
          "Iceland",
          "Samoa",
          "Lesotho",
          "Puerto Rico",
          "Kuwait",
          "Sri Lanka",
          "Austria",
          "Singapore",
          "Suriname",
          "Cyprus",
          "Malta",
          "Armenia",
          "Eritrea",
          "Antigua and Barbuda",
          "Trinidad and Tobago",
          "Tonga",
          "Zimbabwe",
          "North Macedonia",
          "Guyana",
          "Poland"
         ],
         "textposition": "top center",
         "type": "scatter",
         "x": [
          -0.20139386059335562,
          0.22560155691585168,
          -0.4236004499878904,
          0.25120750747397297,
          -0.17940826480570746,
          -0.34455360277486524,
          -0.31508126933643116,
          -0.20914003183531332,
          -0.12236199202993904,
          -0.3920280114581156,
          -0.2518760104499543,
          0.2114300992043235,
          -0.15766295369679803,
          -0.6643023090950577,
          -0.2254465845847294,
          -0.173928271046462,
          -0.24839135076304344,
          -0.47494005856867383,
          -0.15347115859750368,
          -0.377967048314631,
          -0.1342422208587127
         ],
         "xaxis": "x",
         "y": [
          0.65165441451871,
          -0.07936897010577462,
          0.3885693150791731,
          -0.004636786580259399,
          0.728477021881492,
          0.06517386197215021,
          0.02571247535986198,
          0.4179329373291321,
          -0.05251654331425403,
          0.42775780763089877,
          0.5209513623838108,
          -0.120922350010572,
          0.2507735995930171,
          0.10363212355317905,
          0.5962563467697178,
          0.3032080395210687,
          -0.017276022131641595,
          0.3292565430465457,
          -0.02752769706735965,
          0.14441916327932738,
          0.17520115052269564
         ],
         "yaxis": "y"
        },
        {
         "hovertemplate": "Cluster=6<br>0=%{x}<br>1=%{y}<br>Country=%{text}<extra></extra>",
         "legendgroup": "6",
         "marker": {
          "color": "#FF6692",
          "symbol": "circle"
         },
         "mode": "markers+text",
         "name": "6",
         "orientation": "v",
         "showlegend": true,
         "text": [
          "Azerbaijan",
          "Belarus",
          "Sweden",
          "Kazakhstan",
          "Turkmenistan",
          "Algeria",
          "Russia",
          "Mongolia",
          "Tunisia",
          "Georgia",
          "Namibia",
          "Tajikistan",
          "Gabon",
          "Norway",
          "Greece",
          "Uzbekistan",
          "Ukraine",
          "Nauru"
         ],
         "textposition": "top center",
         "type": "scatter",
         "x": [
          1.3603231723851978,
          1.2152003324121026,
          1.412827566687113,
          1.3858619215686026,
          1.6103281919815926,
          1.3635334098902965,
          1.2062806024884822,
          1.2527071294988734,
          1.4073280288594219,
          1.401123075417842,
          1.5845195239037642,
          1.455075202057438,
          1.631615837870206,
          1.6023774343059562,
          1.189369714536142,
          1.4244113340666562,
          1.3253396477445887,
          1.234059185420428
         ],
         "xaxis": "x",
         "y": [
          1.007738965998712,
          1.3953725189616366,
          1.2949429438645224,
          1.2280334987214978,
          1.4774668862409075,
          0.8966146667994631,
          1.452005868713656,
          1.4410355643679476,
          0.723504773047485,
          0.7797705215049712,
          1.4238622363387219,
          1.2500879666957923,
          1.4105618409382203,
          1.3509969097633279,
          0.8366250437188302,
          1.1987626487147511,
          0.9145546401791906,
          0.8677163544934816
         ],
         "yaxis": "y"
        },
        {
         "hovertemplate": "Cluster=7<br>0=%{x}<br>1=%{y}<br>Country=%{text}<extra></extra>",
         "legendgroup": "7",
         "marker": {
          "color": "#B6E880",
          "symbol": "circle"
         },
         "mode": "markers+text",
         "name": "7",
         "orientation": "v",
         "showlegend": true,
         "text": [
          "Argentina",
          "Djibouti",
          "Eswatini",
          "Equatorial Guinea",
          "Ireland",
          "Liberia",
          "Jordan",
          "Iraq",
          "Saudi Arabia",
          "Botswana",
          "Vanuatu",
          "Afghanistan",
          "Solomon Islands",
          "Mauritania",
          "Malawi",
          "Angola",
          "Burundi",
          "Nepal",
          "Mali",
          "Sao Tome and Principe",
          "Cameroon",
          "Qatar",
          "Denmark",
          "Mozambique"
         ],
         "textposition": "top center",
         "type": "scatter",
         "x": [
          -0.8462957598862317,
          -1.499157353842299,
          -0.7182270780152423,
          -0.7373572814265651,
          -0.9210061923551354,
          -1.3204278618918697,
          -1.3031726165992656,
          -0.8282371599348122,
          -1.3503519580629906,
          -1.2503155144904063,
          -1.1965343735971308,
          -1.463576094843856,
          -1.53655694684254,
          -1.383578624042223,
          -1.3399484695025814,
          -0.8897985499269283,
          -1.5948128244811428,
          -1.415816594766454,
          -1.5408742176447443,
          -1.413453969393579,
          -1.5058968962079553,
          -1.2906963036239307,
          -0.9330122547639625,
          -0.9038990684357971
         ],
         "xaxis": "x",
         "y": [
          -0.01738179268365563,
          -0.1430434997114438,
          0.03188296470570171,
          -0.023056661142766447,
          -0.12608965396148916,
          -0.074660309267592,
          -0.3898864141614573,
          -0.1036117415971595,
          -0.34244269434834157,
          -0.05628200179424837,
          0.0022134630067968384,
          -0.33314041239982317,
          -0.2428350577171891,
          -0.19459582530843098,
          -0.14067870625740375,
          -0.03434005168809507,
          -0.23065396560155188,
          -0.535862921805246,
          -0.32696137321180335,
          -0.3630580657644662,
          -0.28786074332535244,
          -0.1285289630041707,
          -0.014780454154889438,
          0.04932451112674738
         ],
         "yaxis": "y"
        }
       ],
       "layout": {
        "legend": {
         "title": {
          "text": "Cluster"
         },
         "tracegroupgap": 0
        },
        "margin": {
         "t": 60
        },
        "template": {
         "data": {
          "bar": [
           {
            "error_x": {
             "color": "#2a3f5f"
            },
            "error_y": {
             "color": "#2a3f5f"
            },
            "marker": {
             "line": {
              "color": "#E5ECF6",
              "width": 0.5
             },
             "pattern": {
              "fillmode": "overlay",
              "size": 10,
              "solidity": 0.2
             }
            },
            "type": "bar"
           }
          ],
          "barpolar": [
           {
            "marker": {
             "line": {
              "color": "#E5ECF6",
              "width": 0.5
             },
             "pattern": {
              "fillmode": "overlay",
              "size": 10,
              "solidity": 0.2
             }
            },
            "type": "barpolar"
           }
          ],
          "carpet": [
           {
            "aaxis": {
             "endlinecolor": "#2a3f5f",
             "gridcolor": "white",
             "linecolor": "white",
             "minorgridcolor": "white",
             "startlinecolor": "#2a3f5f"
            },
            "baxis": {
             "endlinecolor": "#2a3f5f",
             "gridcolor": "white",
             "linecolor": "white",
             "minorgridcolor": "white",
             "startlinecolor": "#2a3f5f"
            },
            "type": "carpet"
           }
          ],
          "choropleth": [
           {
            "colorbar": {
             "outlinewidth": 0,
             "ticks": ""
            },
            "type": "choropleth"
           }
          ],
          "contour": [
           {
            "colorbar": {
             "outlinewidth": 0,
             "ticks": ""
            },
            "colorscale": [
             [
              0,
              "#0d0887"
             ],
             [
              0.1111111111111111,
              "#46039f"
             ],
             [
              0.2222222222222222,
              "#7201a8"
             ],
             [
              0.3333333333333333,
              "#9c179e"
             ],
             [
              0.4444444444444444,
              "#bd3786"
             ],
             [
              0.5555555555555556,
              "#d8576b"
             ],
             [
              0.6666666666666666,
              "#ed7953"
             ],
             [
              0.7777777777777778,
              "#fb9f3a"
             ],
             [
              0.8888888888888888,
              "#fdca26"
             ],
             [
              1,
              "#f0f921"
             ]
            ],
            "type": "contour"
           }
          ],
          "contourcarpet": [
           {
            "colorbar": {
             "outlinewidth": 0,
             "ticks": ""
            },
            "type": "contourcarpet"
           }
          ],
          "heatmap": [
           {
            "colorbar": {
             "outlinewidth": 0,
             "ticks": ""
            },
            "colorscale": [
             [
              0,
              "#0d0887"
             ],
             [
              0.1111111111111111,
              "#46039f"
             ],
             [
              0.2222222222222222,
              "#7201a8"
             ],
             [
              0.3333333333333333,
              "#9c179e"
             ],
             [
              0.4444444444444444,
              "#bd3786"
             ],
             [
              0.5555555555555556,
              "#d8576b"
             ],
             [
              0.6666666666666666,
              "#ed7953"
             ],
             [
              0.7777777777777778,
              "#fb9f3a"
             ],
             [
              0.8888888888888888,
              "#fdca26"
             ],
             [
              1,
              "#f0f921"
             ]
            ],
            "type": "heatmap"
           }
          ],
          "heatmapgl": [
           {
            "colorbar": {
             "outlinewidth": 0,
             "ticks": ""
            },
            "colorscale": [
             [
              0,
              "#0d0887"
             ],
             [
              0.1111111111111111,
              "#46039f"
             ],
             [
              0.2222222222222222,
              "#7201a8"
             ],
             [
              0.3333333333333333,
              "#9c179e"
             ],
             [
              0.4444444444444444,
              "#bd3786"
             ],
             [
              0.5555555555555556,
              "#d8576b"
             ],
             [
              0.6666666666666666,
              "#ed7953"
             ],
             [
              0.7777777777777778,
              "#fb9f3a"
             ],
             [
              0.8888888888888888,
              "#fdca26"
             ],
             [
              1,
              "#f0f921"
             ]
            ],
            "type": "heatmapgl"
           }
          ],
          "histogram": [
           {
            "marker": {
             "pattern": {
              "fillmode": "overlay",
              "size": 10,
              "solidity": 0.2
             }
            },
            "type": "histogram"
           }
          ],
          "histogram2d": [
           {
            "colorbar": {
             "outlinewidth": 0,
             "ticks": ""
            },
            "colorscale": [
             [
              0,
              "#0d0887"
             ],
             [
              0.1111111111111111,
              "#46039f"
             ],
             [
              0.2222222222222222,
              "#7201a8"
             ],
             [
              0.3333333333333333,
              "#9c179e"
             ],
             [
              0.4444444444444444,
              "#bd3786"
             ],
             [
              0.5555555555555556,
              "#d8576b"
             ],
             [
              0.6666666666666666,
              "#ed7953"
             ],
             [
              0.7777777777777778,
              "#fb9f3a"
             ],
             [
              0.8888888888888888,
              "#fdca26"
             ],
             [
              1,
              "#f0f921"
             ]
            ],
            "type": "histogram2d"
           }
          ],
          "histogram2dcontour": [
           {
            "colorbar": {
             "outlinewidth": 0,
             "ticks": ""
            },
            "colorscale": [
             [
              0,
              "#0d0887"
             ],
             [
              0.1111111111111111,
              "#46039f"
             ],
             [
              0.2222222222222222,
              "#7201a8"
             ],
             [
              0.3333333333333333,
              "#9c179e"
             ],
             [
              0.4444444444444444,
              "#bd3786"
             ],
             [
              0.5555555555555556,
              "#d8576b"
             ],
             [
              0.6666666666666666,
              "#ed7953"
             ],
             [
              0.7777777777777778,
              "#fb9f3a"
             ],
             [
              0.8888888888888888,
              "#fdca26"
             ],
             [
              1,
              "#f0f921"
             ]
            ],
            "type": "histogram2dcontour"
           }
          ],
          "mesh3d": [
           {
            "colorbar": {
             "outlinewidth": 0,
             "ticks": ""
            },
            "type": "mesh3d"
           }
          ],
          "parcoords": [
           {
            "line": {
             "colorbar": {
              "outlinewidth": 0,
              "ticks": ""
             }
            },
            "type": "parcoords"
           }
          ],
          "pie": [
           {
            "automargin": true,
            "type": "pie"
           }
          ],
          "scatter": [
           {
            "fillpattern": {
             "fillmode": "overlay",
             "size": 10,
             "solidity": 0.2
            },
            "type": "scatter"
           }
          ],
          "scatter3d": [
           {
            "line": {
             "colorbar": {
              "outlinewidth": 0,
              "ticks": ""
             }
            },
            "marker": {
             "colorbar": {
              "outlinewidth": 0,
              "ticks": ""
             }
            },
            "type": "scatter3d"
           }
          ],
          "scattercarpet": [
           {
            "marker": {
             "colorbar": {
              "outlinewidth": 0,
              "ticks": ""
             }
            },
            "type": "scattercarpet"
           }
          ],
          "scattergeo": [
           {
            "marker": {
             "colorbar": {
              "outlinewidth": 0,
              "ticks": ""
             }
            },
            "type": "scattergeo"
           }
          ],
          "scattergl": [
           {
            "marker": {
             "colorbar": {
              "outlinewidth": 0,
              "ticks": ""
             }
            },
            "type": "scattergl"
           }
          ],
          "scattermapbox": [
           {
            "marker": {
             "colorbar": {
              "outlinewidth": 0,
              "ticks": ""
             }
            },
            "type": "scattermapbox"
           }
          ],
          "scatterpolar": [
           {
            "marker": {
             "colorbar": {
              "outlinewidth": 0,
              "ticks": ""
             }
            },
            "type": "scatterpolar"
           }
          ],
          "scatterpolargl": [
           {
            "marker": {
             "colorbar": {
              "outlinewidth": 0,
              "ticks": ""
             }
            },
            "type": "scatterpolargl"
           }
          ],
          "scatterternary": [
           {
            "marker": {
             "colorbar": {
              "outlinewidth": 0,
              "ticks": ""
             }
            },
            "type": "scatterternary"
           }
          ],
          "surface": [
           {
            "colorbar": {
             "outlinewidth": 0,
             "ticks": ""
            },
            "colorscale": [
             [
              0,
              "#0d0887"
             ],
             [
              0.1111111111111111,
              "#46039f"
             ],
             [
              0.2222222222222222,
              "#7201a8"
             ],
             [
              0.3333333333333333,
              "#9c179e"
             ],
             [
              0.4444444444444444,
              "#bd3786"
             ],
             [
              0.5555555555555556,
              "#d8576b"
             ],
             [
              0.6666666666666666,
              "#ed7953"
             ],
             [
              0.7777777777777778,
              "#fb9f3a"
             ],
             [
              0.8888888888888888,
              "#fdca26"
             ],
             [
              1,
              "#f0f921"
             ]
            ],
            "type": "surface"
           }
          ],
          "table": [
           {
            "cells": {
             "fill": {
              "color": "#EBF0F8"
             },
             "line": {
              "color": "white"
             }
            },
            "header": {
             "fill": {
              "color": "#C8D4E3"
             },
             "line": {
              "color": "white"
             }
            },
            "type": "table"
           }
          ]
         },
         "layout": {
          "annotationdefaults": {
           "arrowcolor": "#2a3f5f",
           "arrowhead": 0,
           "arrowwidth": 1
          },
          "autotypenumbers": "strict",
          "coloraxis": {
           "colorbar": {
            "outlinewidth": 0,
            "ticks": ""
           }
          },
          "colorscale": {
           "diverging": [
            [
             0,
             "#8e0152"
            ],
            [
             0.1,
             "#c51b7d"
            ],
            [
             0.2,
             "#de77ae"
            ],
            [
             0.3,
             "#f1b6da"
            ],
            [
             0.4,
             "#fde0ef"
            ],
            [
             0.5,
             "#f7f7f7"
            ],
            [
             0.6,
             "#e6f5d0"
            ],
            [
             0.7,
             "#b8e186"
            ],
            [
             0.8,
             "#7fbc41"
            ],
            [
             0.9,
             "#4d9221"
            ],
            [
             1,
             "#276419"
            ]
           ],
           "sequential": [
            [
             0,
             "#0d0887"
            ],
            [
             0.1111111111111111,
             "#46039f"
            ],
            [
             0.2222222222222222,
             "#7201a8"
            ],
            [
             0.3333333333333333,
             "#9c179e"
            ],
            [
             0.4444444444444444,
             "#bd3786"
            ],
            [
             0.5555555555555556,
             "#d8576b"
            ],
            [
             0.6666666666666666,
             "#ed7953"
            ],
            [
             0.7777777777777778,
             "#fb9f3a"
            ],
            [
             0.8888888888888888,
             "#fdca26"
            ],
            [
             1,
             "#f0f921"
            ]
           ],
           "sequentialminus": [
            [
             0,
             "#0d0887"
            ],
            [
             0.1111111111111111,
             "#46039f"
            ],
            [
             0.2222222222222222,
             "#7201a8"
            ],
            [
             0.3333333333333333,
             "#9c179e"
            ],
            [
             0.4444444444444444,
             "#bd3786"
            ],
            [
             0.5555555555555556,
             "#d8576b"
            ],
            [
             0.6666666666666666,
             "#ed7953"
            ],
            [
             0.7777777777777778,
             "#fb9f3a"
            ],
            [
             0.8888888888888888,
             "#fdca26"
            ],
            [
             1,
             "#f0f921"
            ]
           ]
          },
          "colorway": [
           "#636efa",
           "#EF553B",
           "#00cc96",
           "#ab63fa",
           "#FFA15A",
           "#19d3f3",
           "#FF6692",
           "#B6E880",
           "#FF97FF",
           "#FECB52"
          ],
          "font": {
           "color": "#2a3f5f"
          },
          "geo": {
           "bgcolor": "white",
           "lakecolor": "white",
           "landcolor": "#E5ECF6",
           "showlakes": true,
           "showland": true,
           "subunitcolor": "white"
          },
          "hoverlabel": {
           "align": "left"
          },
          "hovermode": "closest",
          "mapbox": {
           "style": "light"
          },
          "paper_bgcolor": "white",
          "plot_bgcolor": "#E5ECF6",
          "polar": {
           "angularaxis": {
            "gridcolor": "white",
            "linecolor": "white",
            "ticks": ""
           },
           "bgcolor": "#E5ECF6",
           "radialaxis": {
            "gridcolor": "white",
            "linecolor": "white",
            "ticks": ""
           }
          },
          "scene": {
           "xaxis": {
            "backgroundcolor": "#E5ECF6",
            "gridcolor": "white",
            "gridwidth": 2,
            "linecolor": "white",
            "showbackground": true,
            "ticks": "",
            "zerolinecolor": "white"
           },
           "yaxis": {
            "backgroundcolor": "#E5ECF6",
            "gridcolor": "white",
            "gridwidth": 2,
            "linecolor": "white",
            "showbackground": true,
            "ticks": "",
            "zerolinecolor": "white"
           },
           "zaxis": {
            "backgroundcolor": "#E5ECF6",
            "gridcolor": "white",
            "gridwidth": 2,
            "linecolor": "white",
            "showbackground": true,
            "ticks": "",
            "zerolinecolor": "white"
           }
          },
          "shapedefaults": {
           "line": {
            "color": "#2a3f5f"
           }
          },
          "ternary": {
           "aaxis": {
            "gridcolor": "white",
            "linecolor": "white",
            "ticks": ""
           },
           "baxis": {
            "gridcolor": "white",
            "linecolor": "white",
            "ticks": ""
           },
           "bgcolor": "#E5ECF6",
           "caxis": {
            "gridcolor": "white",
            "linecolor": "white",
            "ticks": ""
           }
          },
          "title": {
           "x": 0.05
          },
          "xaxis": {
           "automargin": true,
           "gridcolor": "white",
           "linecolor": "white",
           "ticks": "",
           "title": {
            "standoff": 15
           },
           "zerolinecolor": "white",
           "zerolinewidth": 2
          },
          "yaxis": {
           "automargin": true,
           "gridcolor": "white",
           "linecolor": "white",
           "ticks": "",
           "title": {
            "standoff": 15
           },
           "zerolinecolor": "white",
           "zerolinewidth": 2
          }
         }
        },
        "title": {
         "text": "Cluster Socio-demographic Indicators",
         "x": 0.5
        },
        "xaxis": {
         "anchor": "y",
         "domain": [
          0,
          1
         ],
         "title": {
          "text": "0"
         }
        },
        "yaxis": {
         "anchor": "x",
         "domain": [
          0,
          1
         ],
         "title": {
          "text": "1"
         }
        }
       }
      }
     },
     "metadata": {},
     "output_type": "display_data"
    }
   ],
   "source": [
    "#Reload the oringinal dataframe, now only with socio-demographic indicators\n",
    "df_normalized = corr_df.copy()\n",
    "df_normalized.drop(df_normalized.columns.difference(soc_dem_ind), 1, inplace=True)\n",
    "df_normalized = df_normalized.dropna(how='all')\n",
    "df_normalized = df_normalized.fillna(value = 0)\n",
    "\n",
    "#Apply t-SNE\n",
    "tsne = TSNE(n_components = 2, perplexity = 5, n_iter = 20000, learning_rate = 100.0, init = 'pca')\n",
    "tsne_result = tsne.fit_transform(df_normalized)\n",
    "new_df_tsne = pd.DataFrame(np.hstack((np.array(df_normalized.index).reshape(-1, 1), tsne_result)), columns = ['Country', '1st_component', '2nd_component'])\n",
    "new_df_tsne.set_index('Country', inplace = True)\n",
    "\n",
    "#Apply Clustering\n",
    "X_affinity_socdem = pd.DataFrame(StandardScaler().fit_transform(new_df_tsne))\n",
    "X_affinity_socdem.index = new_df_tsne.index\n",
    "'''Apply AffinityPropagation'''\n",
    "optics = AffinityPropagation(damping=0.5).fit(X_affinity_socdem)\n",
    "labels_affinity = optics.labels_\n",
    "\n",
    "#Display plot\n",
    "X_affinity_socdem['Cluster'] = labels_affinity\n",
    "X_affinity_socdem['Cluster'] = X_affinity_socdem['Cluster'].astype(str)\n",
    "fig = px.scatter(X_affinity_socdem, x= X_affinity_socdem.columns[0], y=X_affinity_socdem.columns[1], text= X_affinity_socdem.index, size_max=100, color='Cluster', category_orders={\"Cluster\": sort(list(set(X_affinity_socdem.loc[:, 'Cluster'])))})\n",
    "fig.update_layout(title_text='Cluster Socio-demographic Indicators', title_x=0.5)\n",
    "fig.update_traces(textposition='top center')\n",
    "fig.show()"
   ]
  },
  {
   "cell_type": "markdown",
   "metadata": {},
   "source": [
    "# Economic indicators\n",
    "\n",
    "Perform the same code as before but for different indicators.\n",
    "\n",
    "TSNE() and AffinityPropagation() parameters have been optimized again for this case."
   ]
  },
  {
   "cell_type": "code",
   "execution_count": 7,
   "metadata": {},
   "outputs": [
    {
     "data": {
      "application/vnd.plotly.v1+json": {
       "config": {
        "plotlyServerURL": "https://plot.ly"
       },
       "data": [
        {
         "hovertemplate": "Cluster=0<br>0=%{x}<br>1=%{y}<br>Country=%{text}<extra></extra>",
         "legendgroup": "0",
         "marker": {
          "color": "#636efa",
          "symbol": "circle"
         },
         "mode": "markers+text",
         "name": "0",
         "orientation": "v",
         "showlegend": true,
         "text": [
          "Argentina",
          "Azerbaijan",
          "Madagascar",
          "Kazakhstan",
          "Equatorial Guinea",
          "Brazil",
          "Niger",
          "Rwanda",
          "Cambodia",
          "Egypt",
          "Saudi Arabia",
          "Mongolia",
          "Guinea-Bissau",
          "Senegal",
          "Albania",
          "Bangladesh",
          "Eritrea",
          "Zambia",
          "Qatar"
         ],
         "textposition": "top center",
         "type": "scatter",
         "x": [
          1.5192226854495328,
          1.4449424833616362,
          1.8926711355268537,
          1.7431612735356359,
          1.6930210168365296,
          1.9395898497660804,
          1.5483392613333518,
          1.7296878566012932,
          1.4190237721974523,
          1.3120051805454427,
          1.688594844881235,
          1.3607979585724521,
          1.2252853590580113,
          1.1525691597709764,
          1.6396447370760718,
          1.3450039274103434,
          1.482653198377097,
          1.3980969548649835,
          1.5681336564939612
         ],
         "xaxis": "x",
         "y": [
          0.44579632210342734,
          0.1318460564606378,
          0.5202270799812098,
          0.6244138847480744,
          0.472998233117581,
          0.5257922957185905,
          0.6717821166078275,
          0.5360703588902084,
          0.37085318229818304,
          0.17427710718376235,
          0.6199395178271331,
          0.14979843132951712,
          0.1675832233557702,
          0.12581128033441485,
          0.5573658386748653,
          0.052849158965055654,
          0.7257786381825032,
          0.3133773034622568,
          0.5961062158947623
         ],
         "yaxis": "y"
        },
        {
         "hovertemplate": "Cluster=1<br>0=%{x}<br>1=%{y}<br>Country=%{text}<extra></extra>",
         "legendgroup": "1",
         "marker": {
          "color": "#EF553B",
          "symbol": "circle"
         },
         "mode": "markers+text",
         "name": "1",
         "orientation": "v",
         "showlegend": true,
         "text": [
          "South Africa",
          "Bhutan",
          "Colombia",
          "Gambia",
          "Croatia",
          "Sri Lanka",
          "Ghana",
          "Iraq",
          "Latvia",
          "Panama",
          "India",
          "Kyrgyzstan",
          "Armenia",
          "Malawi",
          "Nepal",
          "Greece",
          "Guyana",
          "Poland"
         ],
         "textposition": "top center",
         "type": "scatter",
         "x": [
          -0.4526516947613777,
          0.12888221573122763,
          -0.31626057281034403,
          -0.3311424728425788,
          -0.4237020616225678,
          0.24028938358775095,
          -0.41461223095574523,
          -0.29924929054748334,
          -0.4957355935000117,
          0.23623892453550982,
          0.26958660008283614,
          0.19118722946713348,
          -0.3768472381452405,
          0.2130234628167002,
          0.056287034646527186,
          -0.37459743699392895,
          -0.3998269987225252,
          -0.4545623024994964
         ],
         "xaxis": "x",
         "y": [
          1.6714793390518679,
          1.3432130514820646,
          1.4792207548969063,
          1.298360070722783,
          1.5751337224820052,
          1.2988667859446077,
          1.2410324201362855,
          1.651765205353567,
          1.5210619215163854,
          1.4857139375793966,
          1.5607241360617732,
          1.3837174502230003,
          1.2093532689419941,
          1.556750354743038,
          1.2903951408297254,
          1.5901051907006314,
          1.6857321093701843,
          1.7907421986721053
         ],
         "yaxis": "y"
        },
        {
         "hovertemplate": "Cluster=2<br>0=%{x}<br>1=%{y}<br>Country=%{text}<extra></extra>",
         "legendgroup": "2",
         "marker": {
          "color": "#00cc96",
          "symbol": "circle"
         },
         "mode": "markers+text",
         "name": "2",
         "orientation": "v",
         "showlegend": true,
         "text": [
          "Barbados",
          "Central African Republic",
          "Lesotho",
          "Papua New Guinea",
          "Eswatini",
          "Bermuda",
          "Turkmenistan",
          "Seychelles",
          "French Polynesia",
          "Myanmar",
          "Georgia",
          "Nigeria",
          "Trinidad and Tobago",
          "Palau",
          "Nauru"
         ],
         "textposition": "top center",
         "type": "scatter",
         "x": [
          0.5617503952407124,
          0.5171108102628728,
          0.9123269798979988,
          0.8463967035547593,
          0.6303157986051724,
          0.5691996862789613,
          0.5726285068078821,
          0.5610738184895107,
          0.6370681128556867,
          0.9611724947100982,
          0.9650386196192788,
          0.8357793895769355,
          0.5761151029798376,
          0.5498930329990086,
          0.5597859255356324
         ],
         "xaxis": "x",
         "y": [
          -1.4254390780407236,
          -1.2950310375485166,
          -1.677124707501638,
          -1.5535741789580166,
          -1.690585352184627,
          -1.695241564487594,
          -1.1978529420141693,
          -1.9557995629459728,
          -1.7694249028234699,
          -1.6692726647698943,
          -1.7666665739949885,
          -1.6598086597788024,
          -1.773724064783639,
          -2.0135316407269053,
          -1.3075400587856798
         ],
         "yaxis": "y"
        },
        {
         "hovertemplate": "Cluster=3<br>0=%{x}<br>1=%{y}<br>Country=%{text}<extra></extra>",
         "legendgroup": "3",
         "marker": {
          "color": "#ab63fa",
          "symbol": "circle"
         },
         "mode": "markers+text",
         "name": "3",
         "orientation": "v",
         "showlegend": true,
         "text": [
          "Burkina Faso",
          "New Zealand",
          "Canada",
          "Finland",
          "Germany",
          "Ireland",
          "Estonia",
          "Australia",
          "Singapore",
          "Tunisia",
          "Uruguay",
          "Tajikistan",
          "Norway",
          "Switzerland",
          "Philippines",
          "Chile",
          "Nicaragua",
          "Belize",
          "Denmark",
          "Malaysia"
         ],
         "textposition": "top center",
         "type": "scatter",
         "x": [
          -0.9359521401260007,
          -1.2925536823355466,
          -1.3234189865308952,
          -1.3185825634811987,
          -1.4957538965921182,
          -1.6223929205032712,
          -1.668970949240302,
          -0.9774971814325449,
          -1.6319509002099075,
          -1.1609983963827981,
          -1.5717091520394613,
          -1.1939079114332238,
          -1.139377977808208,
          -1.5929444648884217,
          -0.922831247563976,
          -0.9639977385523136,
          -1.330362239252844,
          -1.571099499149116,
          -1.1857732378726078,
          -1.3386247921791607
         ],
         "xaxis": "x",
         "y": [
          -0.008604128679341268,
          -0.15619773900176792,
          0.10540812212062238,
          -0.24421444758860184,
          -0.30113913953536453,
          -0.315866668048222,
          -0.13566352924117986,
          0.03641261987285602,
          -0.38844819630724337,
          -0.14657319863435642,
          -0.343295374988273,
          -0.6338689394913671,
          -0.6627546442447774,
          -0.6319344698497815,
          0.0663368322376792,
          0.16729551433491055,
          0.03752550499107638,
          -0.6847276066228278,
          -0.7060333982154895,
          -0.1552513512726996
         ],
         "yaxis": "y"
        },
        {
         "hovertemplate": "Cluster=4<br>0=%{x}<br>1=%{y}<br>Country=%{text}<extra></extra>",
         "legendgroup": "4",
         "marker": {
          "color": "#FFA15A",
          "symbol": "circle"
         },
         "mode": "markers+text",
         "name": "4",
         "orientation": "v",
         "showlegend": true,
         "text": [
          "Iceland",
          "Belarus",
          "Dominican Republic",
          "Slovenia",
          "Saint Lucia",
          "El Salvador",
          "Russia",
          "Portugal",
          "Luxembourg",
          "Hungary",
          "Cyprus",
          "Ethiopia",
          "Lithuania"
         ],
         "textposition": "top center",
         "type": "scatter",
         "x": [
          -0.6106033560430774,
          -0.5538736918600151,
          -1.0234351284477592,
          -0.9868912759536046,
          -0.9862876892611733,
          -0.4435225071895412,
          -0.6112305715548023,
          -0.7019589268395378,
          -0.7268851297514889,
          -1.040959200118147,
          -0.5540768116482283,
          -0.754339420644051,
          -0.9317494390745014
         ],
         "xaxis": "x",
         "y": [
          0.9414810380232213,
          0.8460246632495221,
          1.30301628302575,
          0.7425741151891673,
          1.3326581018992267,
          0.7425442332935254,
          0.8663566753754436,
          0.8981058063937166,
          0.581227777423893,
          0.6784124495292897,
          0.9488718268786467,
          0.6319600211507149,
          0.8254330361926606
         ],
         "yaxis": "y"
        },
        {
         "hovertemplate": "Cluster=5<br>0=%{x}<br>1=%{y}<br>Country=%{text}<extra></extra>",
         "legendgroup": "5",
         "marker": {
          "color": "#19d3f3",
          "symbol": "circle"
         },
         "mode": "markers+text",
         "name": "5",
         "orientation": "v",
         "showlegend": true,
         "text": [
          "Slovakia",
          "Pakistan",
          "Puerto Rico",
          "Japan",
          "Jordan",
          "Bulgaria",
          "Honduras",
          "Fiji",
          "Suriname",
          "Thailand",
          "Congo",
          "Mexico",
          "Antigua and Barbuda",
          "Mali",
          "Ukraine",
          "Cameroon",
          "Romania",
          "North Macedonia",
          "Maldives"
         ],
         "textposition": "top center",
         "type": "scatter",
         "x": [
          -0.12851016967498127,
          -0.15105721832627372,
          -0.1207631915928343,
          -0.1696598930073916,
          -0.028961357766977218,
          -0.5495477100122014,
          -0.20865104053171546,
          -0.22430630741654403,
          -0.38417028866964453,
          0.35878661593992933,
          -0.32214908983049184,
          -0.12743345623598015,
          0.29162832588673565,
          -0.010935354082607332,
          -0.5057777927788385,
          -0.2918957378101817,
          -0.38610053816955703,
          -0.27410137788596994,
          0.23744871519124677
         ],
         "xaxis": "x",
         "y": [
          0.2765827612203221,
          0.026900048820070584,
          0.39315901175412893,
          0.5059307318984155,
          0.2372299168776242,
          -0.3328348598576879,
          0.09695527390730901,
          0.5006885981951115,
          0.0618677050241335,
          -0.02918921109025555,
          0.01075534107754978,
          0.6251859933443339,
          -0.010002543930197401,
          0.332884993487301,
          -0.3170121726395963,
          0.49384593141904026,
          -0.015550743588115479,
          0.05152547638776864,
          0.019156543454468468
         ],
         "yaxis": "y"
        },
        {
         "hovertemplate": "Cluster=6<br>0=%{x}<br>1=%{y}<br>Country=%{text}<extra></extra>",
         "legendgroup": "6",
         "marker": {
          "color": "#FF6692",
          "symbol": "circle"
         },
         "mode": "markers+text",
         "name": "6",
         "orientation": "v",
         "showlegend": true,
         "text": [
          "Sierra Leone",
          "Oman",
          "Djibouti",
          "Dominica",
          "Chad",
          "Yemen",
          "Kuwait",
          "Liberia",
          "Benin",
          "Guinea",
          "Vanuatu",
          "Uganda",
          "Solomon Islands",
          "Bahrain",
          "Mauritania",
          "Namibia",
          "Haiti",
          "Angola",
          "Kiribati",
          "Gabon",
          "Marshall Islands",
          "Uzbekistan",
          "Tonga",
          "Mozambique",
          "Cayman Islands"
         ],
         "textposition": "top center",
         "type": "scatter",
         "x": [
          0.39530752450810325,
          0.9748035349483001,
          1.1914631747472517,
          0.2513706883245604,
          0.6093968575458014,
          0.5193992834258853,
          0.967434669953361,
          0.9605482633763793,
          0.38032435810746734,
          1.039130280362336,
          0.4831567839893881,
          0.6336383139077475,
          0.4705037714019472,
          1.0950485905744163,
          1.313727100175869,
          0.6415470215960714,
          0.5107077916019159,
          0.8809757928181284,
          0.3622264436828068,
          1.2501508999908237,
          0.29764660572919466,
          1.2878039861261026,
          0.19582004351910745,
          0.43923868519569326,
          0.2567769181500791
         ],
         "xaxis": "x",
         "y": [
          -0.7464403615445672,
          -0.41727135978547997,
          -0.9614688863284381,
          -0.4874730632274838,
          -0.6855436760847913,
          -0.17119484307744598,
          -0.49605370064121357,
          -0.3563456544078212,
          -0.9211933905701438,
          -0.5412664773020808,
          -0.11057609755726226,
          -0.6245938034047811,
          -0.9716348604662967,
          -0.9035700956639137,
          -1.037828622730231,
          -0.5422755020816292,
          -1.0242372128287065,
          -0.578284144083162,
          -0.801939086877291,
          -1.0159365585611084,
          -0.6014500198293263,
          -1.0955863682933176,
          -1.0641254570975391,
          -0.05608701954357932,
          -0.622623386098139
         ],
         "yaxis": "y"
        },
        {
         "hovertemplate": "Cluster=7<br>0=%{x}<br>1=%{y}<br>Country=%{text}<extra></extra>",
         "legendgroup": "7",
         "marker": {
          "color": "#B6E880",
          "symbol": "circle"
         },
         "mode": "markers+text",
         "name": "7",
         "orientation": "v",
         "showlegend": true,
         "text": [
          "Lebanon",
          "Indonesia",
          "Morocco",
          "Algeria",
          "Bosnia and Herzegovina",
          "China",
          "Paraguay",
          "Togo",
          "Kenya"
         ],
         "textposition": "top center",
         "type": "scatter",
         "x": [
          1.3647419656354949,
          1.1230543673466815,
          1.2582851821838323,
          1.1975400374284355,
          1.4499834938280733,
          1.2472111422082341,
          1.188461287356996,
          1.4438036036242554,
          1.1850693043041167
         ],
         "xaxis": "x",
         "y": [
          1.2314730229398752,
          1.3295383809140506,
          1.1915736687354834,
          1.2222354307734546,
          1.2637610496829719,
          1.262712373926514,
          1.3705102908513322,
          1.1998171132199722,
          1.0956823463696634
         ],
         "yaxis": "y"
        },
        {
         "hovertemplate": "Cluster=8<br>0=%{x}<br>1=%{y}<br>Country=%{text}<extra></extra>",
         "legendgroup": "8",
         "marker": {
          "color": "#FF97FF",
          "symbol": "circle"
         },
         "mode": "markers+text",
         "name": "8",
         "orientation": "v",
         "showlegend": true,
         "text": [
          "United Kingdom",
          "Spain",
          "Sweden",
          "United States",
          "France",
          "Austria",
          "Czechia",
          "Peru",
          "Costa Rica",
          "Ecuador",
          "Israel",
          "Burundi",
          "Italy",
          "Belgium",
          "Netherlands"
         ],
         "textposition": "top center",
         "type": "scatter",
         "x": [
          -1.316954376392732,
          -1.1930887790310458,
          -1.4177889684810465,
          -1.5416898867692959,
          -1.184360987861495,
          -1.9870541893766258,
          -1.9491253847619707,
          -1.5041509821334604,
          -1.1574129798899875,
          -2.004663774869219,
          -1.3667449461346735,
          -1.4607650454438563,
          -1.2438758685431954,
          -1.9283784008450782,
          -1.2369655885421655
         ],
         "xaxis": "x",
         "y": [
          0.48361773525702995,
          0.3543052046461811,
          0.47159260279363185,
          0.3895019912992384,
          0.4665963881524319,
          0.7607313255042808,
          0.8579128689496638,
          0.4443773151616642,
          0.6864260332780717,
          0.8398807411848973,
          0.5504540540525712,
          0.607296091909786,
          0.3259798652488117,
          0.7709483159554255,
          0.4126969827385923
         ],
         "yaxis": "y"
        },
        {
         "hovertemplate": "Cluster=9<br>0=%{x}<br>1=%{y}<br>Country=%{text}<extra></extra>",
         "legendgroup": "9",
         "marker": {
          "color": "#FECB52",
          "symbol": "circle"
         },
         "mode": "markers+text",
         "name": "9",
         "orientation": "v",
         "showlegend": true,
         "text": [
          "Comoros",
          "Samoa",
          "Guatemala",
          "Jamaica",
          "United Arab Emirates",
          "Montenegro",
          "Serbia",
          "Botswana",
          "Afghanistan",
          "Malta",
          "Cuba",
          "Sao Tome and Principe",
          "Zimbabwe",
          "Mauritius"
         ],
         "textposition": "top center",
         "type": "scatter",
         "x": [
          0.09408400952869479,
          -0.09201104774654292,
          -0.5553989492677495,
          0.05577458768565678,
          -0.3857165820862738,
          -0.0887069764068539,
          -0.3618924458961373,
          -0.6651173414380936,
          -0.04559350877533904,
          -0.5132792335507665,
          -0.5776227588509674,
          -0.05379014683541207,
          -0.3254866483254744,
          -0.0522573204393028
         ],
         "xaxis": "x",
         "y": [
          -1.1704038668589265,
          -1.683597968920367,
          -1.7180327672345563,
          -1.210742510469336,
          -1.5546261749251014,
          -1.569394216392627,
          -1.6202832123711604,
          -1.669865577767609,
          -1.5712053912895878,
          -1.6706506798804563,
          -1.653683254273443,
          -1.4699422873805048,
          -1.5584270498904218,
          -1.7643334875275647
         ],
         "yaxis": "y"
        }
       ],
       "layout": {
        "legend": {
         "title": {
          "text": "Cluster"
         },
         "tracegroupgap": 0
        },
        "margin": {
         "t": 60
        },
        "template": {
         "data": {
          "bar": [
           {
            "error_x": {
             "color": "#2a3f5f"
            },
            "error_y": {
             "color": "#2a3f5f"
            },
            "marker": {
             "line": {
              "color": "#E5ECF6",
              "width": 0.5
             },
             "pattern": {
              "fillmode": "overlay",
              "size": 10,
              "solidity": 0.2
             }
            },
            "type": "bar"
           }
          ],
          "barpolar": [
           {
            "marker": {
             "line": {
              "color": "#E5ECF6",
              "width": 0.5
             },
             "pattern": {
              "fillmode": "overlay",
              "size": 10,
              "solidity": 0.2
             }
            },
            "type": "barpolar"
           }
          ],
          "carpet": [
           {
            "aaxis": {
             "endlinecolor": "#2a3f5f",
             "gridcolor": "white",
             "linecolor": "white",
             "minorgridcolor": "white",
             "startlinecolor": "#2a3f5f"
            },
            "baxis": {
             "endlinecolor": "#2a3f5f",
             "gridcolor": "white",
             "linecolor": "white",
             "minorgridcolor": "white",
             "startlinecolor": "#2a3f5f"
            },
            "type": "carpet"
           }
          ],
          "choropleth": [
           {
            "colorbar": {
             "outlinewidth": 0,
             "ticks": ""
            },
            "type": "choropleth"
           }
          ],
          "contour": [
           {
            "colorbar": {
             "outlinewidth": 0,
             "ticks": ""
            },
            "colorscale": [
             [
              0,
              "#0d0887"
             ],
             [
              0.1111111111111111,
              "#46039f"
             ],
             [
              0.2222222222222222,
              "#7201a8"
             ],
             [
              0.3333333333333333,
              "#9c179e"
             ],
             [
              0.4444444444444444,
              "#bd3786"
             ],
             [
              0.5555555555555556,
              "#d8576b"
             ],
             [
              0.6666666666666666,
              "#ed7953"
             ],
             [
              0.7777777777777778,
              "#fb9f3a"
             ],
             [
              0.8888888888888888,
              "#fdca26"
             ],
             [
              1,
              "#f0f921"
             ]
            ],
            "type": "contour"
           }
          ],
          "contourcarpet": [
           {
            "colorbar": {
             "outlinewidth": 0,
             "ticks": ""
            },
            "type": "contourcarpet"
           }
          ],
          "heatmap": [
           {
            "colorbar": {
             "outlinewidth": 0,
             "ticks": ""
            },
            "colorscale": [
             [
              0,
              "#0d0887"
             ],
             [
              0.1111111111111111,
              "#46039f"
             ],
             [
              0.2222222222222222,
              "#7201a8"
             ],
             [
              0.3333333333333333,
              "#9c179e"
             ],
             [
              0.4444444444444444,
              "#bd3786"
             ],
             [
              0.5555555555555556,
              "#d8576b"
             ],
             [
              0.6666666666666666,
              "#ed7953"
             ],
             [
              0.7777777777777778,
              "#fb9f3a"
             ],
             [
              0.8888888888888888,
              "#fdca26"
             ],
             [
              1,
              "#f0f921"
             ]
            ],
            "type": "heatmap"
           }
          ],
          "heatmapgl": [
           {
            "colorbar": {
             "outlinewidth": 0,
             "ticks": ""
            },
            "colorscale": [
             [
              0,
              "#0d0887"
             ],
             [
              0.1111111111111111,
              "#46039f"
             ],
             [
              0.2222222222222222,
              "#7201a8"
             ],
             [
              0.3333333333333333,
              "#9c179e"
             ],
             [
              0.4444444444444444,
              "#bd3786"
             ],
             [
              0.5555555555555556,
              "#d8576b"
             ],
             [
              0.6666666666666666,
              "#ed7953"
             ],
             [
              0.7777777777777778,
              "#fb9f3a"
             ],
             [
              0.8888888888888888,
              "#fdca26"
             ],
             [
              1,
              "#f0f921"
             ]
            ],
            "type": "heatmapgl"
           }
          ],
          "histogram": [
           {
            "marker": {
             "pattern": {
              "fillmode": "overlay",
              "size": 10,
              "solidity": 0.2
             }
            },
            "type": "histogram"
           }
          ],
          "histogram2d": [
           {
            "colorbar": {
             "outlinewidth": 0,
             "ticks": ""
            },
            "colorscale": [
             [
              0,
              "#0d0887"
             ],
             [
              0.1111111111111111,
              "#46039f"
             ],
             [
              0.2222222222222222,
              "#7201a8"
             ],
             [
              0.3333333333333333,
              "#9c179e"
             ],
             [
              0.4444444444444444,
              "#bd3786"
             ],
             [
              0.5555555555555556,
              "#d8576b"
             ],
             [
              0.6666666666666666,
              "#ed7953"
             ],
             [
              0.7777777777777778,
              "#fb9f3a"
             ],
             [
              0.8888888888888888,
              "#fdca26"
             ],
             [
              1,
              "#f0f921"
             ]
            ],
            "type": "histogram2d"
           }
          ],
          "histogram2dcontour": [
           {
            "colorbar": {
             "outlinewidth": 0,
             "ticks": ""
            },
            "colorscale": [
             [
              0,
              "#0d0887"
             ],
             [
              0.1111111111111111,
              "#46039f"
             ],
             [
              0.2222222222222222,
              "#7201a8"
             ],
             [
              0.3333333333333333,
              "#9c179e"
             ],
             [
              0.4444444444444444,
              "#bd3786"
             ],
             [
              0.5555555555555556,
              "#d8576b"
             ],
             [
              0.6666666666666666,
              "#ed7953"
             ],
             [
              0.7777777777777778,
              "#fb9f3a"
             ],
             [
              0.8888888888888888,
              "#fdca26"
             ],
             [
              1,
              "#f0f921"
             ]
            ],
            "type": "histogram2dcontour"
           }
          ],
          "mesh3d": [
           {
            "colorbar": {
             "outlinewidth": 0,
             "ticks": ""
            },
            "type": "mesh3d"
           }
          ],
          "parcoords": [
           {
            "line": {
             "colorbar": {
              "outlinewidth": 0,
              "ticks": ""
             }
            },
            "type": "parcoords"
           }
          ],
          "pie": [
           {
            "automargin": true,
            "type": "pie"
           }
          ],
          "scatter": [
           {
            "fillpattern": {
             "fillmode": "overlay",
             "size": 10,
             "solidity": 0.2
            },
            "type": "scatter"
           }
          ],
          "scatter3d": [
           {
            "line": {
             "colorbar": {
              "outlinewidth": 0,
              "ticks": ""
             }
            },
            "marker": {
             "colorbar": {
              "outlinewidth": 0,
              "ticks": ""
             }
            },
            "type": "scatter3d"
           }
          ],
          "scattercarpet": [
           {
            "marker": {
             "colorbar": {
              "outlinewidth": 0,
              "ticks": ""
             }
            },
            "type": "scattercarpet"
           }
          ],
          "scattergeo": [
           {
            "marker": {
             "colorbar": {
              "outlinewidth": 0,
              "ticks": ""
             }
            },
            "type": "scattergeo"
           }
          ],
          "scattergl": [
           {
            "marker": {
             "colorbar": {
              "outlinewidth": 0,
              "ticks": ""
             }
            },
            "type": "scattergl"
           }
          ],
          "scattermapbox": [
           {
            "marker": {
             "colorbar": {
              "outlinewidth": 0,
              "ticks": ""
             }
            },
            "type": "scattermapbox"
           }
          ],
          "scatterpolar": [
           {
            "marker": {
             "colorbar": {
              "outlinewidth": 0,
              "ticks": ""
             }
            },
            "type": "scatterpolar"
           }
          ],
          "scatterpolargl": [
           {
            "marker": {
             "colorbar": {
              "outlinewidth": 0,
              "ticks": ""
             }
            },
            "type": "scatterpolargl"
           }
          ],
          "scatterternary": [
           {
            "marker": {
             "colorbar": {
              "outlinewidth": 0,
              "ticks": ""
             }
            },
            "type": "scatterternary"
           }
          ],
          "surface": [
           {
            "colorbar": {
             "outlinewidth": 0,
             "ticks": ""
            },
            "colorscale": [
             [
              0,
              "#0d0887"
             ],
             [
              0.1111111111111111,
              "#46039f"
             ],
             [
              0.2222222222222222,
              "#7201a8"
             ],
             [
              0.3333333333333333,
              "#9c179e"
             ],
             [
              0.4444444444444444,
              "#bd3786"
             ],
             [
              0.5555555555555556,
              "#d8576b"
             ],
             [
              0.6666666666666666,
              "#ed7953"
             ],
             [
              0.7777777777777778,
              "#fb9f3a"
             ],
             [
              0.8888888888888888,
              "#fdca26"
             ],
             [
              1,
              "#f0f921"
             ]
            ],
            "type": "surface"
           }
          ],
          "table": [
           {
            "cells": {
             "fill": {
              "color": "#EBF0F8"
             },
             "line": {
              "color": "white"
             }
            },
            "header": {
             "fill": {
              "color": "#C8D4E3"
             },
             "line": {
              "color": "white"
             }
            },
            "type": "table"
           }
          ]
         },
         "layout": {
          "annotationdefaults": {
           "arrowcolor": "#2a3f5f",
           "arrowhead": 0,
           "arrowwidth": 1
          },
          "autotypenumbers": "strict",
          "coloraxis": {
           "colorbar": {
            "outlinewidth": 0,
            "ticks": ""
           }
          },
          "colorscale": {
           "diverging": [
            [
             0,
             "#8e0152"
            ],
            [
             0.1,
             "#c51b7d"
            ],
            [
             0.2,
             "#de77ae"
            ],
            [
             0.3,
             "#f1b6da"
            ],
            [
             0.4,
             "#fde0ef"
            ],
            [
             0.5,
             "#f7f7f7"
            ],
            [
             0.6,
             "#e6f5d0"
            ],
            [
             0.7,
             "#b8e186"
            ],
            [
             0.8,
             "#7fbc41"
            ],
            [
             0.9,
             "#4d9221"
            ],
            [
             1,
             "#276419"
            ]
           ],
           "sequential": [
            [
             0,
             "#0d0887"
            ],
            [
             0.1111111111111111,
             "#46039f"
            ],
            [
             0.2222222222222222,
             "#7201a8"
            ],
            [
             0.3333333333333333,
             "#9c179e"
            ],
            [
             0.4444444444444444,
             "#bd3786"
            ],
            [
             0.5555555555555556,
             "#d8576b"
            ],
            [
             0.6666666666666666,
             "#ed7953"
            ],
            [
             0.7777777777777778,
             "#fb9f3a"
            ],
            [
             0.8888888888888888,
             "#fdca26"
            ],
            [
             1,
             "#f0f921"
            ]
           ],
           "sequentialminus": [
            [
             0,
             "#0d0887"
            ],
            [
             0.1111111111111111,
             "#46039f"
            ],
            [
             0.2222222222222222,
             "#7201a8"
            ],
            [
             0.3333333333333333,
             "#9c179e"
            ],
            [
             0.4444444444444444,
             "#bd3786"
            ],
            [
             0.5555555555555556,
             "#d8576b"
            ],
            [
             0.6666666666666666,
             "#ed7953"
            ],
            [
             0.7777777777777778,
             "#fb9f3a"
            ],
            [
             0.8888888888888888,
             "#fdca26"
            ],
            [
             1,
             "#f0f921"
            ]
           ]
          },
          "colorway": [
           "#636efa",
           "#EF553B",
           "#00cc96",
           "#ab63fa",
           "#FFA15A",
           "#19d3f3",
           "#FF6692",
           "#B6E880",
           "#FF97FF",
           "#FECB52"
          ],
          "font": {
           "color": "#2a3f5f"
          },
          "geo": {
           "bgcolor": "white",
           "lakecolor": "white",
           "landcolor": "#E5ECF6",
           "showlakes": true,
           "showland": true,
           "subunitcolor": "white"
          },
          "hoverlabel": {
           "align": "left"
          },
          "hovermode": "closest",
          "mapbox": {
           "style": "light"
          },
          "paper_bgcolor": "white",
          "plot_bgcolor": "#E5ECF6",
          "polar": {
           "angularaxis": {
            "gridcolor": "white",
            "linecolor": "white",
            "ticks": ""
           },
           "bgcolor": "#E5ECF6",
           "radialaxis": {
            "gridcolor": "white",
            "linecolor": "white",
            "ticks": ""
           }
          },
          "scene": {
           "xaxis": {
            "backgroundcolor": "#E5ECF6",
            "gridcolor": "white",
            "gridwidth": 2,
            "linecolor": "white",
            "showbackground": true,
            "ticks": "",
            "zerolinecolor": "white"
           },
           "yaxis": {
            "backgroundcolor": "#E5ECF6",
            "gridcolor": "white",
            "gridwidth": 2,
            "linecolor": "white",
            "showbackground": true,
            "ticks": "",
            "zerolinecolor": "white"
           },
           "zaxis": {
            "backgroundcolor": "#E5ECF6",
            "gridcolor": "white",
            "gridwidth": 2,
            "linecolor": "white",
            "showbackground": true,
            "ticks": "",
            "zerolinecolor": "white"
           }
          },
          "shapedefaults": {
           "line": {
            "color": "#2a3f5f"
           }
          },
          "ternary": {
           "aaxis": {
            "gridcolor": "white",
            "linecolor": "white",
            "ticks": ""
           },
           "baxis": {
            "gridcolor": "white",
            "linecolor": "white",
            "ticks": ""
           },
           "bgcolor": "#E5ECF6",
           "caxis": {
            "gridcolor": "white",
            "linecolor": "white",
            "ticks": ""
           }
          },
          "title": {
           "x": 0.05
          },
          "xaxis": {
           "automargin": true,
           "gridcolor": "white",
           "linecolor": "white",
           "ticks": "",
           "title": {
            "standoff": 15
           },
           "zerolinecolor": "white",
           "zerolinewidth": 2
          },
          "yaxis": {
           "automargin": true,
           "gridcolor": "white",
           "linecolor": "white",
           "ticks": "",
           "title": {
            "standoff": 15
           },
           "zerolinecolor": "white",
           "zerolinewidth": 2
          }
         }
        },
        "title": {
         "text": "Cluster Economic Indicators",
         "x": 0.5
        },
        "xaxis": {
         "anchor": "y",
         "domain": [
          0,
          1
         ],
         "title": {
          "text": "0"
         }
        },
        "yaxis": {
         "anchor": "x",
         "domain": [
          0,
          1
         ],
         "title": {
          "text": "1"
         }
        }
       }
      }
     },
     "metadata": {},
     "output_type": "display_data"
    }
   ],
   "source": [
    "#Reload the oringinal dataframe, now only with economic indicators\n",
    "df_normalized = corr_df.copy()\n",
    "df_normalized.drop(df_normalized.columns.difference(economic_ind), 1, inplace=True)\n",
    "df_normalized = df_normalized.dropna(how='all')\n",
    "df_normalized = df_normalized.fillna(value = 0)\n",
    "\n",
    "#Apply t-SNE\n",
    "tsne = TSNE(n_components = 2, perplexity = 5, n_iter = 20000, learning_rate = 100.0, init = 'pca')\n",
    "tsne_result = tsne.fit_transform(df_normalized)\n",
    "new_df_tsne = pd.DataFrame(np.hstack((np.array(df_normalized.index).reshape(-1, 1), tsne_result)), columns = ['Country', '1st_component', '2nd_component'])\n",
    "new_df_tsne.set_index('Country', inplace = True)\n",
    "\n",
    "#Apply Clustering\n",
    "X_affinity_economic = pd.DataFrame(StandardScaler().fit_transform(new_df_tsne))\n",
    "X_affinity_economic.index = new_df_tsne.index\n",
    "'''Apply AffinityPropagation'''\n",
    "optics = AffinityPropagation(damping=0.9).fit(X_affinity_economic)\n",
    "labels_affinity = optics.labels_\n",
    "\n",
    "#Display plot\n",
    "X_affinity_economic['Cluster'] = labels_affinity\n",
    "X_affinity_economic['Cluster'] = X_affinity_economic['Cluster'].astype(str)\n",
    "fig = px.scatter(X_affinity_economic, x= X_affinity_economic.columns[0], y=X_affinity_economic.columns[1], text= X_affinity_economic.index, size_max=100, color='Cluster', category_orders={\"Cluster\": sort(list(set(X_affinity_economic.loc[:, 'Cluster'])))})\n",
    "fig.update_layout(title_text='Cluster Economic Indicators', title_x=0.5)\n",
    "fig.update_traces(textposition='top center')\n",
    "fig.show()"
   ]
  },
  {
   "cell_type": "markdown",
   "metadata": {},
   "source": [
    "# All indicators\n",
    "\n",
    "Perform the same code as before but for different indicators.\n",
    "\n",
    "TSNE() and AffinityPropagation() parameters have been optimized again for this case."
   ]
  },
  {
   "cell_type": "code",
   "execution_count": 8,
   "metadata": {},
   "outputs": [
    {
     "data": {
      "application/vnd.plotly.v1+json": {
       "config": {
        "plotlyServerURL": "https://plot.ly"
       },
       "data": [
        {
         "hovertemplate": "Cluster=0<br>0=%{x}<br>1=%{y}<br>Country=%{text}<extra></extra>",
         "legendgroup": "0",
         "marker": {
          "color": "#636efa",
          "symbol": "circle"
         },
         "mode": "markers+text",
         "name": "0",
         "orientation": "v",
         "showlegend": true,
         "text": [
          "Barbados",
          "Samoa",
          "Puerto Rico",
          "Aruba",
          "Suriname",
          "Cyprus",
          "Antigua and Barbuda",
          "Liechtenstein",
          "Zimbabwe",
          "Mauritius",
          "Guyana"
         ],
         "textposition": "top center",
         "type": "scatter",
         "x": [
          0.8770003290919408,
          0.5266226661054412,
          1.113189869129459,
          0.9931570613075082,
          0.4575471047468449,
          0.5965789598388705,
          0.9402110446623391,
          1.0321841242717407,
          0.5397747432602663,
          0.8716456509470325,
          0.6480951257808281
         ],
         "xaxis": "x",
         "y": [
          -0.6319072637602666,
          -0.9645652830285945,
          -0.6289152949679463,
          -0.5342322705589883,
          -0.8836447615234814,
          -0.875136838985069,
          -0.6379947618475352,
          -0.477800878995738,
          -1.0479121943277636,
          -0.49669415452867455,
          -0.9817175786068059
         ],
         "yaxis": "y"
        },
        {
         "hovertemplate": "Cluster=1<br>0=%{x}<br>1=%{y}<br>Country=%{text}<extra></extra>",
         "legendgroup": "1",
         "marker": {
          "color": "#EF553B",
          "symbol": "circle"
         },
         "mode": "markers+text",
         "name": "1",
         "orientation": "v",
         "showlegend": true,
         "text": [
          "South Africa",
          "New Zealand",
          "United Kingdom",
          "Spain",
          "Dominican Republic",
          "Canada",
          "Sweden",
          "Finland",
          "Slovenia",
          "Germany",
          "United States",
          "France",
          "Australia",
          "Malta",
          "Israel",
          "Tajikistan",
          "Burundi",
          "Norway",
          "Switzerland",
          "Mali",
          "Nicaragua",
          "Belgium",
          "Netherlands",
          "Denmark",
          "Maldives"
         ],
         "textposition": "top center",
         "type": "scatter",
         "x": [
          -0.4981503578496059,
          -0.09269065273668478,
          0.22094190453011847,
          0.17751514077834019,
          -0.26980394705919164,
          0.20834153564492297,
          -0.6286425672390686,
          -0.1695625942680146,
          -0.19284864179384453,
          0.4302705036721784,
          0.23912379994391478,
          0.1428325773047937,
          0.27803611835409453,
          -0.0425759801605611,
          -0.21481454294170843,
          -0.6245143024512622,
          -0.4605006611908805,
          -0.5756754755817588,
          0.034021394569268,
          -0.5964061778855321,
          -0.3458938564645647,
          0.0694223810846882,
          -0.010981392869024123,
          -0.5615781206534722,
          -0.7017472138705056
         ],
         "xaxis": "x",
         "y": [
          1.4143779469844353,
          1.2230599412303764,
          1.41544816174797,
          1.3507155924587668,
          0.9700669537514686,
          1.1583567149792817,
          1.4352865276333133,
          1.3585555578165036,
          1.4421156092056686,
          1.5304657772114538,
          1.0670019488515874,
          1.243509351700504,
          1.3492317805866572,
          1.111057349803441,
          1.1865589215620695,
          1.3236825930867586,
          1.0776494947896487,
          1.2761724524613556,
          1.4505609225144176,
          0.9255237919683486,
          1.0225446665096711,
          1.3800960348794444,
          1.2376897566260012,
          1.1851811960585055,
          1.141629033584393
         ],
         "yaxis": "y"
        },
        {
         "hovertemplate": "Cluster=2<br>0=%{x}<br>1=%{y}<br>Country=%{text}<extra></extra>",
         "legendgroup": "2",
         "marker": {
          "color": "#00cc96",
          "symbol": "circle"
         },
         "mode": "markers+text",
         "name": "2",
         "orientation": "v",
         "showlegend": true,
         "text": [
          "Comoros",
          "Sierra Leone",
          "Central African Republic",
          "Papua New Guinea",
          "Eswatini",
          "Chad",
          "Liberia",
          "Portugal",
          "Jordan",
          "Benin",
          "Vanuatu",
          "Afghanistan",
          "Haiti",
          "Angola",
          "Kiribati",
          "Sao Tome and Principe",
          "Mozambique"
         ],
         "textposition": "top center",
         "type": "scatter",
         "x": [
          -1.463609918419102,
          -1.3977103359985246,
          -1.1168324261210092,
          -1.0313326761443107,
          -1.3232508453938319,
          -1.3218310497566537,
          -1.290028805653215,
          -1.0253934838072598,
          -1.1141950533968799,
          -1.4792937901047063,
          -1.453174892769247,
          -1.3845903030187856,
          -1.118845470654157,
          -1.2650346537849644,
          -1.4013120809649466,
          -1.4005547008900887,
          -1.3821139129175137
         ],
         "xaxis": "x",
         "y": [
          -0.1433714484625589,
          -0.4025468689679633,
          -0.5681323469757742,
          -0.7870009933894966,
          -0.11951401340290331,
          -0.43760109144822124,
          -0.901038142942268,
          -0.46752796734092483,
          -0.16625201831398054,
          -0.38916558372130095,
          -0.865679728279862,
          -0.07568645093101388,
          -0.6340643532540277,
          -0.25546326979778966,
          -0.4753590518615784,
          0.0013398436663177827,
          -0.8711451109657709
         ],
         "yaxis": "y"
        },
        {
         "hovertemplate": "Cluster=3<br>0=%{x}<br>1=%{y}<br>Country=%{text}<extra></extra>",
         "legendgroup": "3",
         "marker": {
          "color": "#ab63fa",
          "symbol": "circle"
         },
         "mode": "markers+text",
         "name": "3",
         "orientation": "v",
         "showlegend": true,
         "text": [
          "Madagascar",
          "Guatemala",
          "Pakistan",
          "Brazil",
          "Indonesia",
          "Ghana",
          "Honduras",
          "India",
          "Thailand",
          "China",
          "Ethiopia",
          "Paraguay",
          "Belize",
          "Cameroon",
          "Kenya"
         ],
         "textposition": "top center",
         "type": "scatter",
         "x": [
          -0.4176828129404823,
          -0.5233431734467585,
          -0.8671618863897861,
          -0.3659932478926108,
          -0.6216338815148308,
          -0.7002136639509297,
          -0.8073457712688897,
          -0.6374415117657044,
          -0.301103260119895,
          -0.3603890212906922,
          -0.7709179936574484,
          -0.47912419237113796,
          -0.6175668612201368,
          -0.8595250129542709,
          -0.9193992747954107
         ],
         "xaxis": "x",
         "y": [
          -0.44341226249117904,
          0.4785440332968777,
          -0.10872970794794423,
          -0.39278523019418293,
          -0.09717591356369013,
          -0.415700974072055,
          -0.12991389012645463,
          -0.010503753525627432,
          -0.04639837727727556,
          -0.053007090483763876,
          -0.3839057165035352,
          -0.09186670463005765,
          -0.4500178452361842,
          -0.3975892122024368,
          -0.026186344461588826
         ],
         "yaxis": "y"
        },
        {
         "hovertemplate": "Cluster=4<br>0=%{x}<br>1=%{y}<br>Country=%{text}<extra></extra>",
         "legendgroup": "4",
         "marker": {
          "color": "#FFA15A",
          "symbol": "circle"
         },
         "mode": "markers+text",
         "name": "4",
         "orientation": "v",
         "showlegend": true,
         "text": [
          "Argentina",
          "Burkina Faso",
          "Bhutan",
          "Djibouti",
          "Lesotho",
          "Equatorial Guinea",
          "Niger",
          "Kuwait",
          "Sri Lanka",
          "Rwanda",
          "Cambodia",
          "Iraq",
          "Saudi Arabia",
          "Luxembourg",
          "Uganda",
          "Bahrain",
          "Myanmar",
          "Mauritania",
          "Namibia",
          "Malawi",
          "Bangladesh",
          "Eritrea",
          "Nepal",
          "Zambia",
          "Qatar",
          "Togo"
         ],
         "textposition": "top center",
         "type": "scatter",
         "x": [
          -0.7397851224094946,
          -0.5996936258636683,
          -0.23676671994009996,
          -0.8467966705013777,
          -0.388061705635699,
          -0.48086828927947367,
          -0.4889708443085551,
          -0.31817473091810583,
          -0.08969671873787402,
          -0.6016289721592853,
          -0.8722085646584699,
          -0.5302624300230934,
          -0.5674096526875394,
          -0.08430111571246246,
          -0.7924784928247846,
          -0.9358822703148598,
          -0.41820907884605774,
          -0.7758169437085003,
          -0.17811799544652115,
          -0.30029177058615547,
          -0.9597399965886911,
          -0.39398398717987543,
          -0.1543801428260827,
          -0.6668123596492125,
          -0.6435907940430587,
          -0.5081902905007758
         ],
         "xaxis": "x",
         "y": [
          -1.1044194156103744,
          -1.2980367117351808,
          -1.3584275862209068,
          -0.8864857157790169,
          -0.7319805935213655,
          -0.769808015247461,
          -0.9852159566447216,
          -0.9247599470634145,
          -1.1609814535575833,
          -0.9712980592451069,
          -1.1096444110994725,
          -0.6960730717309884,
          -1.1303780083562611,
          -0.691547902326592,
          -0.772054531143076,
          -0.8553704334074675,
          -1.3405804625480013,
          -0.9655413421094079,
          -0.7511557852487287,
          -1.333317576939729,
          -1.0500745505206721,
          -0.9589326557738336,
          -1.4252137382430712,
          -0.8732107856100404,
          -1.0176862854684035,
          -1.2357689576470803
         ],
         "yaxis": "y"
        },
        {
         "hovertemplate": "Cluster=5<br>0=%{x}<br>1=%{y}<br>Country=%{text}<extra></extra>",
         "legendgroup": "5",
         "marker": {
          "color": "#19d3f3",
          "symbol": "circle"
         },
         "mode": "markers+text",
         "name": "5",
         "orientation": "v",
         "showlegend": true,
         "text": [
          "Iceland",
          "Colombia",
          "Jamaica",
          "United Arab Emirates",
          "Ireland",
          "El Salvador",
          "Montenegro",
          "Botswana",
          "Panama",
          "Singapore",
          "Peru",
          "Costa Rica",
          "Ecuador",
          "Uruguay",
          "Mexico",
          "Cuba",
          "Philippines",
          "Chile",
          "Tonga",
          "Malaysia",
          "North Macedonia"
         ],
         "textposition": "top center",
         "type": "scatter",
         "x": [
          0.44200248049085455,
          0.005543168668345773,
          0.10980371671160602,
          -0.4644344772522131,
          -0.29145948691380796,
          0.5418409069806409,
          0.11149843969089647,
          -0.36088062768834955,
          -0.05202875283669663,
          0.2950794298890957,
          -0.16920833093140414,
          0.10938856436401564,
          -0.1036996582465599,
          0.3908162527510126,
          0.6539273179959983,
          0.0590917211801958,
          0.058304264777770926,
          0.06556622517351496,
          0.5123206042520003,
          -0.04707427338195039,
          0.3026808312861043
         ],
         "xaxis": "x",
         "y": [
          0.5165980843118064,
          0.6148761951782334,
          0.3537935040666994,
          0.4719701179240436,
          0.5113354158012543,
          0.36975144125860987,
          0.45680073457492437,
          0.5118982002244609,
          -0.04516384687451683,
          0.1341577736704867,
          0.4272498768175406,
          -0.08289730101428906,
          0.6692711476516664,
          0.590491593091903,
          0.3826587773238113,
          0.40102381099351225,
          0.019976004858466897,
          0.07952579286449522,
          0.30075171708141746,
          0.37349343100301874,
          0.062476815950685584
         ],
         "yaxis": "y"
        },
        {
         "hovertemplate": "Cluster=6<br>0=%{x}<br>1=%{y}<br>Country=%{text}<extra></extra>",
         "legendgroup": "6",
         "marker": {
          "color": "#FF6692",
          "symbol": "circle"
         },
         "mode": "markers+text",
         "name": "6",
         "orientation": "v",
         "showlegend": true,
         "text": [
          "Belarus",
          "Croatia",
          "Russia",
          "Estonia",
          "Bosnia and Herzegovina",
          "Serbia",
          "Bulgaria",
          "Latvia",
          "Hungary",
          "Georgia",
          "Albania",
          "Armenia",
          "Lithuania",
          "Palau",
          "Ukraine",
          "Romania",
          "Poland"
         ],
         "textposition": "top center",
         "type": "scatter",
         "x": [
          0.8169799133111844,
          1.1306094077185425,
          0.7617406306461393,
          1.3895526480926916,
          0.9606588847549713,
          0.8827845312192245,
          0.5258230344399785,
          1.3011432260783735,
          0.6021884678896147,
          1.1078853647483942,
          1.0190707946693573,
          1.3527738572669938,
          1.2386888749195974,
          1.1362588313344495,
          1.0093450066569878,
          0.9894428824208947,
          1.405818697944996
         ],
         "xaxis": "x",
         "y": [
          1.8988148461868244,
          1.7440248384987476,
          1.9200845719201132,
          1.610147065903855,
          1.489800518255849,
          1.5844870627545435,
          1.5736527102222246,
          1.7182745490783333,
          1.6049850558372167,
          1.9260567937862416,
          1.5139073825748828,
          1.8259768269093803,
          1.657972778543493,
          1.8074214934265993,
          1.8727057763224333,
          1.611020263125805,
          1.7444259675032179
         ],
         "yaxis": "y"
        },
        {
         "hovertemplate": "Cluster=7<br>0=%{x}<br>1=%{y}<br>Country=%{text}<extra></extra>",
         "legendgroup": "7",
         "marker": {
          "color": "#B6E880",
          "symbol": "circle"
         },
         "mode": "markers+text",
         "name": "7",
         "orientation": "v",
         "showlegend": true,
         "text": [
          "Azerbaijan",
          "Oman",
          "Lebanon",
          "Kazakhstan",
          "Turkmenistan",
          "Morocco",
          "Algeria",
          "Mongolia",
          "Guinea",
          "Guinea-Bissau",
          "Senegal",
          "Solomon Islands",
          "Tunisia",
          "Gabon",
          "Nigeria",
          "Uzbekistan"
         ],
         "textposition": "top center",
         "type": "scatter",
         "x": [
          -1.8150084753069604,
          -1.2472168736411648,
          -1.341109353633383,
          -1.7943982306629407,
          -1.5122571404191916,
          -1.0189327483986796,
          -1.4052488932328244,
          -1.8395976822431395,
          -1.088430622530678,
          -0.8360956426500938,
          -0.8400679523480593,
          -1.4066821971910375,
          -1.374416505953151,
          -1.3801744024026303,
          -1.4276476192685799,
          -1.4128235065119916
         ],
         "xaxis": "x",
         "y": [
          -1.744868841605033,
          -1.4110564209995502,
          -1.8558279816987968,
          -1.6663045230665592,
          -1.2769451939036638,
          -1.335362238529236,
          -1.8359953124472252,
          -1.6260391033115518,
          -1.3658438510063975,
          -1.6458958489020838,
          -1.7056711644894709,
          -1.2030482456465728,
          -1.9259580577450977,
          -1.4427880683968592,
          -1.281670390392015,
          -1.5062955389741242
         ],
         "yaxis": "y"
        },
        {
         "hovertemplate": "Cluster=8<br>0=%{x}<br>1=%{y}<br>Country=%{text}<extra></extra>",
         "legendgroup": "8",
         "marker": {
          "color": "#FF97FF",
          "symbol": "circle"
         },
         "mode": "markers+text",
         "name": "8",
         "orientation": "v",
         "showlegend": true,
         "text": [
          "Greenland",
          "Tuvalu",
          "Libya",
          "Slovakia",
          "Bermuda",
          "Dominica",
          "Yemen",
          "Gambia",
          "Japan",
          "Seychelles",
          "Saint Lucia",
          "Egypt",
          "Austria",
          "Czechia",
          "Fiji",
          "French Polynesia",
          "Kyrgyzstan",
          "Congo",
          "New Caledonia",
          "Italy",
          "Greece",
          "Marshall Islands",
          "Trinidad and Tobago",
          "Nauru",
          "Grenada",
          "Andorra",
          "Cayman Islands"
         ],
         "textposition": "top center",
         "type": "scatter",
         "x": [
          1.151433246341029,
          1.2256007337654593,
          1.4715824861909612,
          1.637724475153323,
          1.4009451394748367,
          1.4928464116934745,
          1.9207705213400768,
          1.7214791125584505,
          1.56351707216373,
          1.1420607060020345,
          1.7052415012767452,
          1.8892754137991123,
          1.8238376534518053,
          1.7981299981604788,
          1.2898928259829021,
          1.4440180969384606,
          1.7882022962968533,
          1.7796556933011258,
          1.1883091345720591,
          1.8643037080883706,
          1.908650611948527,
          1.185210650738924,
          1.764999469677398,
          1.7615671373386899,
          1.4052471842422705,
          1.5477526583835353,
          1.4479502371554542
         ],
         "xaxis": "x",
         "y": [
          0.2383393974758966,
          0.011299279238189427,
          -0.17437175019302245,
          -0.028445892750502907,
          -0.32035793619637815,
          0.13303731029773713,
          -0.0034914929324070657,
          0.06814711622690066,
          -0.17774498366662492,
          0.37608905381356406,
          0.1917264766695762,
          0.07283111960406126,
          0.5418009594718327,
          0.22496633472892397,
          0.3336244647134425,
          -0.2379832481550463,
          -0.042908866640985914,
          0.09706588947382369,
          0.28636003172582597,
          0.4565577140285397,
          0.3903147844041764,
          -0.02866682540556423,
          -0.4027932349431433,
          -0.31159817273405455,
          0.2891076901678888,
          0.03577712339616455,
          -0.004104606577570554
         ],
         "yaxis": "y"
        }
       ],
       "layout": {
        "legend": {
         "title": {
          "text": "Cluster"
         },
         "tracegroupgap": 0
        },
        "margin": {
         "t": 60
        },
        "template": {
         "data": {
          "bar": [
           {
            "error_x": {
             "color": "#2a3f5f"
            },
            "error_y": {
             "color": "#2a3f5f"
            },
            "marker": {
             "line": {
              "color": "#E5ECF6",
              "width": 0.5
             },
             "pattern": {
              "fillmode": "overlay",
              "size": 10,
              "solidity": 0.2
             }
            },
            "type": "bar"
           }
          ],
          "barpolar": [
           {
            "marker": {
             "line": {
              "color": "#E5ECF6",
              "width": 0.5
             },
             "pattern": {
              "fillmode": "overlay",
              "size": 10,
              "solidity": 0.2
             }
            },
            "type": "barpolar"
           }
          ],
          "carpet": [
           {
            "aaxis": {
             "endlinecolor": "#2a3f5f",
             "gridcolor": "white",
             "linecolor": "white",
             "minorgridcolor": "white",
             "startlinecolor": "#2a3f5f"
            },
            "baxis": {
             "endlinecolor": "#2a3f5f",
             "gridcolor": "white",
             "linecolor": "white",
             "minorgridcolor": "white",
             "startlinecolor": "#2a3f5f"
            },
            "type": "carpet"
           }
          ],
          "choropleth": [
           {
            "colorbar": {
             "outlinewidth": 0,
             "ticks": ""
            },
            "type": "choropleth"
           }
          ],
          "contour": [
           {
            "colorbar": {
             "outlinewidth": 0,
             "ticks": ""
            },
            "colorscale": [
             [
              0,
              "#0d0887"
             ],
             [
              0.1111111111111111,
              "#46039f"
             ],
             [
              0.2222222222222222,
              "#7201a8"
             ],
             [
              0.3333333333333333,
              "#9c179e"
             ],
             [
              0.4444444444444444,
              "#bd3786"
             ],
             [
              0.5555555555555556,
              "#d8576b"
             ],
             [
              0.6666666666666666,
              "#ed7953"
             ],
             [
              0.7777777777777778,
              "#fb9f3a"
             ],
             [
              0.8888888888888888,
              "#fdca26"
             ],
             [
              1,
              "#f0f921"
             ]
            ],
            "type": "contour"
           }
          ],
          "contourcarpet": [
           {
            "colorbar": {
             "outlinewidth": 0,
             "ticks": ""
            },
            "type": "contourcarpet"
           }
          ],
          "heatmap": [
           {
            "colorbar": {
             "outlinewidth": 0,
             "ticks": ""
            },
            "colorscale": [
             [
              0,
              "#0d0887"
             ],
             [
              0.1111111111111111,
              "#46039f"
             ],
             [
              0.2222222222222222,
              "#7201a8"
             ],
             [
              0.3333333333333333,
              "#9c179e"
             ],
             [
              0.4444444444444444,
              "#bd3786"
             ],
             [
              0.5555555555555556,
              "#d8576b"
             ],
             [
              0.6666666666666666,
              "#ed7953"
             ],
             [
              0.7777777777777778,
              "#fb9f3a"
             ],
             [
              0.8888888888888888,
              "#fdca26"
             ],
             [
              1,
              "#f0f921"
             ]
            ],
            "type": "heatmap"
           }
          ],
          "heatmapgl": [
           {
            "colorbar": {
             "outlinewidth": 0,
             "ticks": ""
            },
            "colorscale": [
             [
              0,
              "#0d0887"
             ],
             [
              0.1111111111111111,
              "#46039f"
             ],
             [
              0.2222222222222222,
              "#7201a8"
             ],
             [
              0.3333333333333333,
              "#9c179e"
             ],
             [
              0.4444444444444444,
              "#bd3786"
             ],
             [
              0.5555555555555556,
              "#d8576b"
             ],
             [
              0.6666666666666666,
              "#ed7953"
             ],
             [
              0.7777777777777778,
              "#fb9f3a"
             ],
             [
              0.8888888888888888,
              "#fdca26"
             ],
             [
              1,
              "#f0f921"
             ]
            ],
            "type": "heatmapgl"
           }
          ],
          "histogram": [
           {
            "marker": {
             "pattern": {
              "fillmode": "overlay",
              "size": 10,
              "solidity": 0.2
             }
            },
            "type": "histogram"
           }
          ],
          "histogram2d": [
           {
            "colorbar": {
             "outlinewidth": 0,
             "ticks": ""
            },
            "colorscale": [
             [
              0,
              "#0d0887"
             ],
             [
              0.1111111111111111,
              "#46039f"
             ],
             [
              0.2222222222222222,
              "#7201a8"
             ],
             [
              0.3333333333333333,
              "#9c179e"
             ],
             [
              0.4444444444444444,
              "#bd3786"
             ],
             [
              0.5555555555555556,
              "#d8576b"
             ],
             [
              0.6666666666666666,
              "#ed7953"
             ],
             [
              0.7777777777777778,
              "#fb9f3a"
             ],
             [
              0.8888888888888888,
              "#fdca26"
             ],
             [
              1,
              "#f0f921"
             ]
            ],
            "type": "histogram2d"
           }
          ],
          "histogram2dcontour": [
           {
            "colorbar": {
             "outlinewidth": 0,
             "ticks": ""
            },
            "colorscale": [
             [
              0,
              "#0d0887"
             ],
             [
              0.1111111111111111,
              "#46039f"
             ],
             [
              0.2222222222222222,
              "#7201a8"
             ],
             [
              0.3333333333333333,
              "#9c179e"
             ],
             [
              0.4444444444444444,
              "#bd3786"
             ],
             [
              0.5555555555555556,
              "#d8576b"
             ],
             [
              0.6666666666666666,
              "#ed7953"
             ],
             [
              0.7777777777777778,
              "#fb9f3a"
             ],
             [
              0.8888888888888888,
              "#fdca26"
             ],
             [
              1,
              "#f0f921"
             ]
            ],
            "type": "histogram2dcontour"
           }
          ],
          "mesh3d": [
           {
            "colorbar": {
             "outlinewidth": 0,
             "ticks": ""
            },
            "type": "mesh3d"
           }
          ],
          "parcoords": [
           {
            "line": {
             "colorbar": {
              "outlinewidth": 0,
              "ticks": ""
             }
            },
            "type": "parcoords"
           }
          ],
          "pie": [
           {
            "automargin": true,
            "type": "pie"
           }
          ],
          "scatter": [
           {
            "fillpattern": {
             "fillmode": "overlay",
             "size": 10,
             "solidity": 0.2
            },
            "type": "scatter"
           }
          ],
          "scatter3d": [
           {
            "line": {
             "colorbar": {
              "outlinewidth": 0,
              "ticks": ""
             }
            },
            "marker": {
             "colorbar": {
              "outlinewidth": 0,
              "ticks": ""
             }
            },
            "type": "scatter3d"
           }
          ],
          "scattercarpet": [
           {
            "marker": {
             "colorbar": {
              "outlinewidth": 0,
              "ticks": ""
             }
            },
            "type": "scattercarpet"
           }
          ],
          "scattergeo": [
           {
            "marker": {
             "colorbar": {
              "outlinewidth": 0,
              "ticks": ""
             }
            },
            "type": "scattergeo"
           }
          ],
          "scattergl": [
           {
            "marker": {
             "colorbar": {
              "outlinewidth": 0,
              "ticks": ""
             }
            },
            "type": "scattergl"
           }
          ],
          "scattermapbox": [
           {
            "marker": {
             "colorbar": {
              "outlinewidth": 0,
              "ticks": ""
             }
            },
            "type": "scattermapbox"
           }
          ],
          "scatterpolar": [
           {
            "marker": {
             "colorbar": {
              "outlinewidth": 0,
              "ticks": ""
             }
            },
            "type": "scatterpolar"
           }
          ],
          "scatterpolargl": [
           {
            "marker": {
             "colorbar": {
              "outlinewidth": 0,
              "ticks": ""
             }
            },
            "type": "scatterpolargl"
           }
          ],
          "scatterternary": [
           {
            "marker": {
             "colorbar": {
              "outlinewidth": 0,
              "ticks": ""
             }
            },
            "type": "scatterternary"
           }
          ],
          "surface": [
           {
            "colorbar": {
             "outlinewidth": 0,
             "ticks": ""
            },
            "colorscale": [
             [
              0,
              "#0d0887"
             ],
             [
              0.1111111111111111,
              "#46039f"
             ],
             [
              0.2222222222222222,
              "#7201a8"
             ],
             [
              0.3333333333333333,
              "#9c179e"
             ],
             [
              0.4444444444444444,
              "#bd3786"
             ],
             [
              0.5555555555555556,
              "#d8576b"
             ],
             [
              0.6666666666666666,
              "#ed7953"
             ],
             [
              0.7777777777777778,
              "#fb9f3a"
             ],
             [
              0.8888888888888888,
              "#fdca26"
             ],
             [
              1,
              "#f0f921"
             ]
            ],
            "type": "surface"
           }
          ],
          "table": [
           {
            "cells": {
             "fill": {
              "color": "#EBF0F8"
             },
             "line": {
              "color": "white"
             }
            },
            "header": {
             "fill": {
              "color": "#C8D4E3"
             },
             "line": {
              "color": "white"
             }
            },
            "type": "table"
           }
          ]
         },
         "layout": {
          "annotationdefaults": {
           "arrowcolor": "#2a3f5f",
           "arrowhead": 0,
           "arrowwidth": 1
          },
          "autotypenumbers": "strict",
          "coloraxis": {
           "colorbar": {
            "outlinewidth": 0,
            "ticks": ""
           }
          },
          "colorscale": {
           "diverging": [
            [
             0,
             "#8e0152"
            ],
            [
             0.1,
             "#c51b7d"
            ],
            [
             0.2,
             "#de77ae"
            ],
            [
             0.3,
             "#f1b6da"
            ],
            [
             0.4,
             "#fde0ef"
            ],
            [
             0.5,
             "#f7f7f7"
            ],
            [
             0.6,
             "#e6f5d0"
            ],
            [
             0.7,
             "#b8e186"
            ],
            [
             0.8,
             "#7fbc41"
            ],
            [
             0.9,
             "#4d9221"
            ],
            [
             1,
             "#276419"
            ]
           ],
           "sequential": [
            [
             0,
             "#0d0887"
            ],
            [
             0.1111111111111111,
             "#46039f"
            ],
            [
             0.2222222222222222,
             "#7201a8"
            ],
            [
             0.3333333333333333,
             "#9c179e"
            ],
            [
             0.4444444444444444,
             "#bd3786"
            ],
            [
             0.5555555555555556,
             "#d8576b"
            ],
            [
             0.6666666666666666,
             "#ed7953"
            ],
            [
             0.7777777777777778,
             "#fb9f3a"
            ],
            [
             0.8888888888888888,
             "#fdca26"
            ],
            [
             1,
             "#f0f921"
            ]
           ],
           "sequentialminus": [
            [
             0,
             "#0d0887"
            ],
            [
             0.1111111111111111,
             "#46039f"
            ],
            [
             0.2222222222222222,
             "#7201a8"
            ],
            [
             0.3333333333333333,
             "#9c179e"
            ],
            [
             0.4444444444444444,
             "#bd3786"
            ],
            [
             0.5555555555555556,
             "#d8576b"
            ],
            [
             0.6666666666666666,
             "#ed7953"
            ],
            [
             0.7777777777777778,
             "#fb9f3a"
            ],
            [
             0.8888888888888888,
             "#fdca26"
            ],
            [
             1,
             "#f0f921"
            ]
           ]
          },
          "colorway": [
           "#636efa",
           "#EF553B",
           "#00cc96",
           "#ab63fa",
           "#FFA15A",
           "#19d3f3",
           "#FF6692",
           "#B6E880",
           "#FF97FF",
           "#FECB52"
          ],
          "font": {
           "color": "#2a3f5f"
          },
          "geo": {
           "bgcolor": "white",
           "lakecolor": "white",
           "landcolor": "#E5ECF6",
           "showlakes": true,
           "showland": true,
           "subunitcolor": "white"
          },
          "hoverlabel": {
           "align": "left"
          },
          "hovermode": "closest",
          "mapbox": {
           "style": "light"
          },
          "paper_bgcolor": "white",
          "plot_bgcolor": "#E5ECF6",
          "polar": {
           "angularaxis": {
            "gridcolor": "white",
            "linecolor": "white",
            "ticks": ""
           },
           "bgcolor": "#E5ECF6",
           "radialaxis": {
            "gridcolor": "white",
            "linecolor": "white",
            "ticks": ""
           }
          },
          "scene": {
           "xaxis": {
            "backgroundcolor": "#E5ECF6",
            "gridcolor": "white",
            "gridwidth": 2,
            "linecolor": "white",
            "showbackground": true,
            "ticks": "",
            "zerolinecolor": "white"
           },
           "yaxis": {
            "backgroundcolor": "#E5ECF6",
            "gridcolor": "white",
            "gridwidth": 2,
            "linecolor": "white",
            "showbackground": true,
            "ticks": "",
            "zerolinecolor": "white"
           },
           "zaxis": {
            "backgroundcolor": "#E5ECF6",
            "gridcolor": "white",
            "gridwidth": 2,
            "linecolor": "white",
            "showbackground": true,
            "ticks": "",
            "zerolinecolor": "white"
           }
          },
          "shapedefaults": {
           "line": {
            "color": "#2a3f5f"
           }
          },
          "ternary": {
           "aaxis": {
            "gridcolor": "white",
            "linecolor": "white",
            "ticks": ""
           },
           "baxis": {
            "gridcolor": "white",
            "linecolor": "white",
            "ticks": ""
           },
           "bgcolor": "#E5ECF6",
           "caxis": {
            "gridcolor": "white",
            "linecolor": "white",
            "ticks": ""
           }
          },
          "title": {
           "x": 0.05
          },
          "xaxis": {
           "automargin": true,
           "gridcolor": "white",
           "linecolor": "white",
           "ticks": "",
           "title": {
            "standoff": 15
           },
           "zerolinecolor": "white",
           "zerolinewidth": 2
          },
          "yaxis": {
           "automargin": true,
           "gridcolor": "white",
           "linecolor": "white",
           "ticks": "",
           "title": {
            "standoff": 15
           },
           "zerolinecolor": "white",
           "zerolinewidth": 2
          }
         }
        },
        "title": {
         "text": "Cluster All Indicators",
         "x": 0.5
        },
        "xaxis": {
         "anchor": "y",
         "domain": [
          0,
          1
         ],
         "title": {
          "text": "0"
         }
        },
        "yaxis": {
         "anchor": "x",
         "domain": [
          0,
          1
         ],
         "title": {
          "text": "1"
         }
        }
       }
      }
     },
     "metadata": {},
     "output_type": "display_data"
    }
   ],
   "source": [
    "#Reload the oringinal dataframe, now with all  indicators\n",
    "df_normalized = corr_df.copy()\n",
    "df_normalized = df_normalized.dropna(how='all')\n",
    "df_normalized = df_normalized.fillna(value = 0)\n",
    "\n",
    "#Apply t-SNE\n",
    "tsne = TSNE(n_components = 2, perplexity = 5, n_iter = 20000, learning_rate = 100.0, init = 'pca')\n",
    "tsne_result = tsne.fit_transform(df_normalized)\n",
    "new_df_tsne = pd.DataFrame(np.hstack((np.array(df_normalized.index).reshape(-1, 1), tsne_result)), columns = ['Country', '1st_component', '2nd_component'])\n",
    "new_df_tsne.set_index('Country', inplace = True)\n",
    "\n",
    "#Apply Clustering\n",
    "X_affinity_all = pd.DataFrame(StandardScaler().fit_transform(new_df_tsne))\n",
    "X_affinity_all.index = new_df_tsne.index\n",
    "'''Apply AffinityPropagation'''\n",
    "optics = AffinityPropagation(damping=0.9).fit(X_affinity_all)\n",
    "labels_affinity = optics.labels_\n",
    "\n",
    "#Display plot\n",
    "X_affinity_all['Cluster'] = labels_affinity\n",
    "X_affinity_all['Cluster'] = X_affinity_all['Cluster'].astype(str)\n",
    "fig = px.scatter(X_affinity_all, x= X_affinity_all.columns[0], y=X_affinity_all.columns[1], text= X_affinity_all.index, size_max=100, color='Cluster', category_orders={\"Cluster\": sort(list(set(X_affinity_all.loc[:, 'Cluster'])))})\n",
    "fig.update_layout(title_text='Cluster All Indicators', title_x=0.5)\n",
    "fig.update_traces(textposition='top center')\n",
    "fig.show()"
   ]
  },
  {
   "cell_type": "markdown",
   "metadata": {},
   "source": [
    "## Widget Clustering\n",
    "\n",
    "In the table below"
   ]
  },
  {
   "cell_type": "code",
   "execution_count": 30,
   "metadata": {},
   "outputs": [
    {
     "data": {
      "application/vnd.jupyter.widget-view+json": {
       "model_id": "0c68460182634c989a6ef316465bd2c0",
       "version_major": 2,
       "version_minor": 0
      },
      "text/plain": [
       "interactive(children=(Dropdown(description='Country', options=('Afghanistan', 'Albania', 'Algeria', 'Andorra',…"
      ]
     },
     "metadata": {},
     "output_type": "display_data"
    }
   ],
   "source": [
    "df_list = [X_affinity_equality, X_affinity_socdem, X_affinity_economic, X_affinity_all]\n",
    "titles = ['Equality indicators', ' Socio-demographic', 'Economic indicators', ' All indicators']\n",
    "\n",
    "def tableOut(Country):\n",
    "    df = pd.DataFrame()\n",
    "    for position, df_target in enumerate(df_list): \n",
    "        cluster_number = df_target.loc[df_target.index == Country]['Cluster'].item()\n",
    "        df = pd.concat([df, pd.DataFrame(df_target.loc[df_target['Cluster'] == cluster_number].index.tolist(), columns = [[titles[position]]])], axis = 1, ignore_index=True)\n",
    "\n",
    "    df.fillna('-', inplace=True)\n",
    "    display(df)\n",
    "\n",
    "\n",
    "@interact(\n",
    "    Country = sort(corr_df.index.tolist()))\n",
    "\n",
    "def g(Country = 'Afghanistan'):\n",
    "    return tableOut(Country)"
   ]
  },
  {
   "cell_type": "code",
   "execution_count": 10,
   "metadata": {},
   "outputs": [
    {
     "data": {
      "text/plain": [
       "['Argentina',\n",
       " 'Azerbaijan',\n",
       " 'Madagascar',\n",
       " 'Kazakhstan',\n",
       " 'Equatorial Guinea',\n",
       " 'Brazil',\n",
       " 'Niger',\n",
       " 'Rwanda',\n",
       " 'Cambodia',\n",
       " 'Egypt',\n",
       " 'Saudi Arabia',\n",
       " 'Mongolia',\n",
       " 'Guinea-Bissau',\n",
       " 'Senegal',\n",
       " 'Albania',\n",
       " 'Bangladesh',\n",
       " 'Eritrea',\n",
       " 'Zambia',\n",
       " 'Qatar']"
      ]
     },
     "execution_count": 10,
     "metadata": {},
     "output_type": "execute_result"
    }
   ],
   "source": [
    "#X_affinity_economic.loc[X_affinity_economic['Cluster'] == '0']\n",
    "X_affinity_economic.loc[X_affinity_economic['Cluster'] == '0'].index.tolist()"
   ]
  },
  {
   "cell_type": "code",
   "execution_count": 11,
   "metadata": {},
   "outputs": [
    {
     "name": "stdout",
     "output_type": "stream",
     "text": [
      " Socio-demographic\n"
     ]
    }
   ],
   "source": [
    "print(titles[1])"
   ]
  },
  {
   "cell_type": "code",
   "execution_count": null,
   "metadata": {},
   "outputs": [],
   "source": []
  },
  {
   "cell_type": "code",
   "execution_count": null,
   "metadata": {},
   "outputs": [],
   "source": []
  },
  {
   "cell_type": "code",
   "execution_count": null,
   "metadata": {},
   "outputs": [],
   "source": []
  },
  {
   "cell_type": "code",
   "execution_count": 12,
   "metadata": {},
   "outputs": [
    {
     "data": {
      "image/png": "[encoded data removed]",
      "text/plain": [
       "<Figure size 576x576 with 1 Axes>"
      ]
     },
     "metadata": {
      "needs_background": "light"
     },
     "output_type": "display_data"
    }
   ],
   "source": [
    "\n",
    "X_optics = pd.DataFrame(StandardScaler().fit_transform(new_df_tsne))\n",
    "\n",
    "'''Apply OPTICS'''\n",
    "optics = OPTICS(xi=.35, min_cluster_size=3, min_samples=5).fit_predict(X_optics)\n",
    "#labels_optics = optics.labels_\n",
    "\n",
    "plt.figure(figsize=(8,8))\n",
    "plt.title('OPTICS',fontsize= 20)\n",
    "plt.xlabel('Feature 1',fontsize= 18)\n",
    "plt.ylabel('Feature 2',fontsize= 18)\n",
    "fig = plt.scatter(X_optics[0], X_optics[1], c= optics)\n"
   ]
  },
  {
   "cell_type": "code",
   "execution_count": 13,
   "metadata": {},
   "outputs": [
    {
     "data": {
      "image/png": "[encoded data removed]",
      "text/plain": [
       "<Figure size 576x576 with 1 Axes>"
      ]
     },
     "metadata": {
      "needs_background": "light"
     },
     "output_type": "display_data"
    }
   ],
   "source": [
    "\n",
    "X_kmeans = pd.DataFrame(StandardScaler().fit_transform(new_df_tsne))\n",
    "X_kmeans.index = new_df_tsne.index\n",
    "'''Apply K-Means'''\n",
    "from sklearn.cluster import *\n",
    "from sklearn.mixture import GaussianMixture\n",
    "\n",
    "\n",
    "kmean_clusters =   MiniBatchKMeans(n_clusters=6).fit_predict(X_kmeans)\n",
    "\n",
    "plt.figure(figsize = (8,8))\n",
    "plt.title('K-Means Clustering',fontsize= 20)\n",
    "plt.xlabel('Feature 1', fontsize=18)\n",
    "plt.ylabel('Feature 2', fontsize=18)\n",
    "f = plt.scatter(X_kmeans[0],X_kmeans[1],c=kmean_clusters)"
   ]
  },
  {
   "cell_type": "code",
   "execution_count": 14,
   "metadata": {},
   "outputs": [
    {
     "data": {
      "image/png": "[encoded data removed]",
      "text/plain": [
       "<Figure size 1440x1440 with 1 Axes>"
      ]
     },
     "metadata": {},
     "output_type": "display_data"
    }
   ],
   "source": [
    "sns.set(rc={'figure.figsize':(20, 20)})\n",
    "\n",
    "\n",
    "z = X_kmeans[0]\n",
    "y = X_kmeans[1]\n",
    "n = new_df_tsne.index.get_level_values(0)\n",
    "fig, ax = plt.subplots()\n",
    "\n",
    "ax.scatter(z, y, c=kmean_clusters)\n",
    "\n",
    "\n",
    "\n",
    "for i, txt in enumerate(n):\n",
    "    ax.annotate(txt, (z[i], y[i]))"
   ]
  },
  {
   "cell_type": "code",
   "execution_count": 15,
   "metadata": {},
   "outputs": [
    {
     "data": {
      "text/plain": [
       "\" new_df_tsne['Cluster'] = kmean_clusters.tolist()\\nnew_df_tsne \""
      ]
     },
     "execution_count": 15,
     "metadata": {},
     "output_type": "execute_result"
    }
   ],
   "source": [
    "\"\"\" new_df_tsne['Cluster'] = kmean_clusters.tolist()\n",
    "new_df_tsne \"\"\""
   ]
  },
  {
   "cell_type": "code",
   "execution_count": 16,
   "metadata": {},
   "outputs": [],
   "source": [
    "\n",
    "new_df_tsne.to_csv(write_path + '/Cluster.csv')"
   ]
  },
  {
   "cell_type": "code",
   "execution_count": null,
   "metadata": {},
   "outputs": [],
   "source": []
  }
 ],
 "metadata": {
  "kernelspec": {
   "display_name": "Python 3.10.5 ('.venv': poetry)",
   "language": "python",
   "name": "python3"
  },
  "language_info": {
   "codemirror_mode": {
    "name": "ipython",
    "version": 3
   },
   "file_extension": ".py",
   "mimetype": "text/x-python",
   "name": "python",
   "nbconvert_exporter": "python",
   "pygments_lexer": "ipython3",
   "version": "3.10.5"
  },
  "orig_nbformat": 4,
  "vscode": {
   "interpreter": {
    "hash": "44718ba4235bc6fc2135f9d8856f170c8312ddd29b08710a5ea28d42169e623e"
   }
  }
 },
 "nbformat": 4,
 "nbformat_minor": 2
}
