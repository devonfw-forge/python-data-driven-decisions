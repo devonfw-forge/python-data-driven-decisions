{
 "cells": [
  {
   "cell_type": "markdown",
   "metadata": {},
   "source": [
    "# Clustering\n",
    "\n",
    "In this notebook clustering is being applied to the correlation dataframe in order to group countries by similarity. The analysis will be performed for the different dimensions of the indicators: equality, socio-demographic and economic. In the end there is a global analysis  using all the indicators and giving a final conclusion to this notebook.\n",
    "\n",
    "In first place, set the list of indicators depending of the area they represent."
   ]
  },
  {
   "cell_type": "code",
   "execution_count": 1,
   "metadata": {},
   "outputs": [],
   "source": [
    "economic_ind = ['CreditToAgriFishForest', 'AgriShareGDP', 'EmploymentRural', '%EmploymentAgriFishForest', 'TotalAgri', '% Soldiers', '% Healthcare Investment', '% Employment Industry', '% Education Expenditure']\n",
    "soc_dem_ind = ['Marriage Rate', 'Birth Rate', 'Death Rate', 'Homicides', 'Life Expectancy', 'Maternal Death Risk', 'Literacy Rate', 'Infant Mortality', '% Population Growth', '% Rural Population', 'Suicide Rate', 'Population']\n",
    "equality_ind = ['Gender Equality', 'Gender Inequality','% Men Employment', '% Women Employment', 'Women Schooling Years', 'Men Schooling Years', 'Freedom of Expression', '% Undernourishment', 'Civil Liberties', 'Gini']"
   ]
  },
  {
   "cell_type": "markdown",
   "metadata": {},
   "source": [
    "### Import\n",
    "\n",
    "Import all the libraries and the correlation dataframe generated in the Notebook-Golden."
   ]
  },
  {
   "cell_type": "code",
   "execution_count": 2,
   "metadata": {},
   "outputs": [],
   "source": [
    "import os\n",
    "import numpy as np\n",
    "import pandas as pd\n",
    "import matplotlib.pyplot as plt\n",
    "import plotly.express as px\n",
    "from numpy import sort\n",
    "from sklearn.manifold import TSNE\n",
    "import ipywidgets as widgets\n",
    "import seaborn as sns\n",
    "import warnings\n",
    "warnings.filterwarnings(\"ignore\")\n",
    "from matplotlib import gridspec\n",
    "from sklearn.cluster import OPTICS, cluster_optics_dbscan\n",
    "from sklearn.preprocessing import normalize, StandardScaler\n",
    "from sklearn.cluster import AffinityPropagation\n",
    "from ipywidgets import interact, interact_manual\n",
    "import matplotlib.pyplot as plt\n",
    "from matplotlib_venn import venn3\n",
    "write_path = os.getcwd() + '/Output'\n",
    "corr_df = pd.read_csv(write_path + '/Corr_DF_pearson.csv')\n",
    "corr_df.rename(columns = {'Unnamed: 0' : 'Country'}, inplace = True)\n",
    "corr_df.set_index(corr_df.columns[0], inplace=True)\n"
   ]
  },
  {
   "cell_type": "markdown",
   "metadata": {},
   "source": [
    "# Equality indicators\n",
    "\n",
    "Apply the drop columns method to discard indicators which won't be analyzed and fill NaN values with 0. \n",
    "\n",
    "In this codeblock use the main piece of the Notebook, the algorithm of t-SNE (t-Distributed Stochastic Neighbor Embedding) to reduce the dimensionality of all the indicators to only 2 components. \n",
    "- N-components: the dimensions to analyze.\n",
    "- Perplexity: measurement of how well a probability distribution or probability model predicts a sample.\n",
    "- N-iter: iterations for the optimization\n",
    "- Learning rate: how fast the algorithm learns. A high value may cause a ball form of the data.\n",
    "- Init: Initialization of embedding. 'pca' is the new default for newer versions.\n",
    "\n",
    "The output is a dataframe of all the countries with only 2 columns representing the condensed indicators."
   ]
  },
  {
   "cell_type": "code",
   "execution_count": 3,
   "metadata": {},
   "outputs": [
    {
     "name": "stdout",
     "output_type": "stream",
     "text": [
      "             1st_component 2nd_component\n",
      "Country                                 \n",
      "Argentina         0.004769     28.372192\n",
      "Barbados         24.611437     22.477417\n",
      "Azerbaijan       -3.800133     30.059706\n",
      "Burkina Faso    -20.327116     67.829842\n",
      "Sierra Leone    -20.714712    -38.174812\n",
      "...                    ...           ...\n",
      "Maldives        -15.489695     62.650936\n",
      "Mauritius       -22.215483     69.383591\n",
      "Guyana          -57.253815      0.871426\n",
      "Kenya           -26.436104    -36.817009\n",
      "Poland           30.870569    -24.334475\n",
      "\n",
      "[122 rows x 2 columns]\n"
     ]
    }
   ],
   "source": [
    "df_normalized = corr_df.copy()\n",
    "df_normalized.drop(df_normalized.columns.difference(equality_ind), 1, inplace=True)\n",
    "df_normalized = df_normalized.dropna(how='all')\n",
    "df_normalized = df_normalized.fillna(value = 0)\n",
    "tsne = TSNE(n_components = 2, perplexity = 5, n_iter = 20000, learning_rate = 100.0, init = 'pca')\n",
    "tsne_result = tsne.fit_transform(df_normalized)\n",
    "new_df_tsne = pd.DataFrame(np.hstack((np.array(df_normalized.index).reshape(-1, 1), tsne_result)), columns = ['Country', '1st_component', '2nd_component'])\n",
    "new_df_tsne.set_index('Country', inplace = True)\n",
    "print(new_df_tsne)"
   ]
  },
  {
   "cell_type": "markdown",
   "metadata": {},
   "source": [
    "## Clustering\n",
    "\n",
    "The clustering method used in the notebook is Affinity Propagation. The reason behind  choosing this one is because is for many clusters, uneven cluster size and can simply be optmized changing 1 parameter, \"damping\". \n",
    "\n",
    "Damping: is the extent to which the current value is maintained relative to incoming values (weighted 1 - damping).\n",
    "In the end it generates a scatter plot with the result, however, this graphic is not flexible and powerful enough to display all the features desired. "
   ]
  },
  {
   "cell_type": "code",
   "execution_count": 4,
   "metadata": {},
   "outputs": [
    {
     "data": {
      "image/png": "[encoded data removed]",
      "text/plain": [
       "<Figure size 576x576 with 1 Axes>"
      ]
     },
     "metadata": {
      "needs_background": "light"
     },
     "output_type": "display_data"
    }
   ],
   "source": [
    "X_affinity_equality = pd.DataFrame(StandardScaler().fit_transform(new_df_tsne))\n",
    "X_affinity_equality.index = new_df_tsne.index\n",
    "'''Apply AffinityPropagation'''\n",
    "optics = AffinityPropagation(damping=0.5).fit(X_affinity_equality)\n",
    "labels_affinity = optics.labels_\n",
    "\n",
    "plt.figure(figsize=(8,8))\n",
    "plt.title('Affinity Propagation',fontsize= 20)\n",
    "plt.xlabel('Feature 1',fontsize= 18)\n",
    "plt.ylabel('Feature 2',fontsize= 18)\n",
    "fig = plt.scatter(X_affinity_equality[0], X_affinity_equality[1], c= labels_affinity)"
   ]
  },
  {
   "cell_type": "markdown",
   "metadata": {},
   "source": [
    "### Results\n",
    "Using the px.scatter gives the possibility to display the clustering with labels and in an interactive format."
   ]
  },
  {
   "cell_type": "code",
   "execution_count": 5,
   "metadata": {},
   "outputs": [
    {
     "data": {
      "application/vnd.plotly.v1+json": {
       "config": {
        "plotlyServerURL": "https://plot.ly"
       },
       "data": [
        {
         "hovertemplate": "Cluster=0<br>0=%{x}<br>1=%{y}<br>Country=%{text}<extra></extra>",
         "legendgroup": "0",
         "marker": {
          "color": "#636efa",
          "symbol": "circle"
         },
         "mode": "markers+text",
         "name": "0",
         "orientation": "v",
         "showlegend": true,
         "text": [
          "Oman",
          "Bhutan",
          "Colombia",
          "Lebanon",
          "Turkmenistan",
          "Jamaica",
          "Seychelles",
          "Estonia",
          "Jordan",
          "Guinea-Bissau",
          "Latvia",
          "Solomon Islands",
          "Tunisia",
          "Kyrgyzstan",
          "Myanmar",
          "Georgia",
          "Armenia",
          "Malawi",
          "Angola",
          "Gabon",
          "Nigeria",
          "Cuba",
          "Sao Tome and Principe",
          "Zimbabwe",
          "Togo",
          "Guyana"
         ],
         "textposition": "top center",
         "type": "scatter",
         "x": [
          -1.5449072528194603,
          -1.3872286326522363,
          -1.066877446424498,
          -1.2398729018843098,
          -1.2861791876340978,
          -1.6250987538842825,
          -1.5327494243359345,
          -1.082235329264076,
          -1.7260739617771335,
          -1.297458784721814,
          -1.035928009571039,
          -1.7441421200556517,
          -1.3438223509276035,
          -1.6796244748873412,
          -1.4463422700346524,
          -1.3099958635891198,
          -1.2753244378274486,
          -1.364476194483542,
          -1.319830835169154,
          -1.590233980735024,
          -1.5846471717826838,
          -1.2529410140043682,
          -1.2118671014611193,
          -1.6879194913921234,
          -1.3420517231134712,
          -1.517188061464928
         ],
         "xaxis": "x",
         "y": [
          -0.11771903390024284,
          -0.13838832274535448,
          -0.37127982541307597,
          -0.03439261951312184,
          -0.06741804135502577,
          -0.08589439430363469,
          -0.07755984939678072,
          -0.36025832890401155,
          -0.09223884995720678,
          -0.027527738365309067,
          -0.3940511944922022,
          -0.06325442109790244,
          0.15461344761992327,
          -0.09393413459040564,
          -0.16846731754065522,
          -0.08258327486571064,
          0.14801713185041276,
          -0.12782131669225139,
          0.16274668080432636,
          -0.06213895382548599,
          -0.11106172894826738,
          -0.08186973221247949,
          -0.02051976433270603,
          -0.06528713040053201,
          0.10294610105074206,
          -0.14330951167584324
         ],
         "yaxis": "y"
        },
        {
         "hovertemplate": "Cluster=1<br>0=%{x}<br>1=%{y}<br>Country=%{text}<extra></extra>",
         "legendgroup": "1",
         "marker": {
          "color": "#EF553B",
          "symbol": "circle"
         },
         "mode": "markers+text",
         "name": "1",
         "orientation": "v",
         "showlegend": true,
         "text": [
          "Burkina Faso",
          "Canada",
          "Eswatini",
          "Niger",
          "Montenegro",
          "Guinea",
          "Afghanistan",
          "Senegal",
          "Singapore",
          "Namibia",
          "Ukraine",
          "Maldives",
          "Mauritius"
         ],
         "textposition": "top center",
         "type": "scatter",
         "x": [
          -0.5163193644471161,
          -0.46275288429343614,
          -0.4467849232397099,
          -0.5380813366803079,
          -0.5811097638445466,
          -0.4252380112023369,
          -0.4571271473777662,
          -0.5072496142657621,
          -0.5930282861630616,
          -0.36622691514165306,
          -0.4163588684589597,
          -0.38520491763082304,
          -0.5675020367427682
         ],
         "xaxis": "x",
         "y": [
          2.1931306575012157,
          2.2183701126236532,
          2.065117233684303,
          2.1711747514783184,
          2.1678323679089386,
          2.0419938228311776,
          2.1097161577964108,
          2.1568196732761593,
          2.133413670614281,
          1.9861475317552344,
          2.080760014739914,
          2.0124184536351044,
          2.247347020787152
         ],
         "yaxis": "y"
        },
        {
         "hovertemplate": "Cluster=2<br>0=%{x}<br>1=%{y}<br>Country=%{text}<extra></extra>",
         "legendgroup": "2",
         "marker": {
          "color": "#00cc96",
          "symbol": "circle"
         },
         "mode": "markers+text",
         "name": "2",
         "orientation": "v",
         "showlegend": true,
         "text": [
          "Sierra Leone",
          "Guatemala",
          "Morocco",
          "Algeria",
          "Sri Lanka",
          "Ireland",
          "Saudi Arabia",
          "Vanuatu",
          "Peru",
          "Cyprus",
          "Ecuador",
          "Albania",
          "Nepal",
          "Malaysia",
          "Kenya"
         ],
         "textposition": "top center",
         "type": "scatter",
         "x": [
          -0.5268248482242098,
          -0.506597402864212,
          -0.356217155455354,
          -0.5956222429864748,
          -0.4119375720341994,
          -0.6387847725901256,
          -0.6735298668082973,
          -0.616473931583134,
          -0.5495419255337839,
          -0.6381852405971185,
          -0.5641115300402264,
          -0.7042868351259312,
          -0.42479191638750047,
          -0.3920858099537723,
          -0.6818986034667422
         ],
         "xaxis": "x",
         "y": [
          -1.5057850071574024,
          -1.5464859479781634,
          -1.631915062391155,
          -1.4895285905679467,
          -1.5889728211107672,
          -1.3290513179271015,
          -1.4963563174818366,
          -1.463975662195573,
          -1.536498863277765,
          -1.3779472880920463,
          -1.4917044010747202,
          -1.4891046362999867,
          -1.6154665685619294,
          -1.6217217908269979,
          -1.458405954680895
         ],
         "yaxis": "y"
        },
        {
         "hovertemplate": "Cluster=3<br>0=%{x}<br>1=%{y}<br>Country=%{text}<extra></extra>",
         "legendgroup": "3",
         "marker": {
          "color": "#ab63fa",
          "symbol": "circle"
         },
         "mode": "markers+text",
         "name": "3",
         "orientation": "v",
         "showlegend": true,
         "text": [
          "Dominican Republic",
          "Papua New Guinea",
          "Kazakhstan",
          "Cambodia",
          "Mongolia",
          "Uganda",
          "Suriname",
          "Bahrain",
          "Thailand",
          "China",
          "Bangladesh",
          "Tajikistan",
          "Burundi",
          "Mali",
          "Zambia",
          "Nicaragua"
         ],
         "textposition": "top center",
         "type": "scatter",
         "x": [
          1.7092172688403287,
          1.5382360382241438,
          1.5635129522299098,
          1.7880425172957524,
          1.5799036409810423,
          1.604762428336861,
          1.4668296427641907,
          1.6943717048806937,
          1.640677377644259,
          1.7272616464241168,
          1.7745588633838694,
          1.700037713885917,
          1.745548070122526,
          1.6127367156457635,
          1.471642958771858,
          1.699111404129023
         ],
         "xaxis": "x",
         "y": [
          -0.057556662090044654,
          -0.21750609253276582,
          -0.2578919835860522,
          -0.17586292770234893,
          -0.2303299021612399,
          -0.31137426373430743,
          -0.3260182980508513,
          -0.2734674194729204,
          -0.2558203729852087,
          -0.04032161495892995,
          -0.1552218653846491,
          -0.24452694175956646,
          -0.2188232542179064,
          -0.26369423367722195,
          -0.3045441824433015,
          -0.014367635499516555
         ],
         "yaxis": "y"
        },
        {
         "hovertemplate": "Cluster=4<br>0=%{x}<br>1=%{y}<br>Country=%{text}<extra></extra>",
         "legendgroup": "4",
         "marker": {
          "color": "#FFA15A",
          "symbol": "circle"
         },
         "mode": "markers+text",
         "name": "4",
         "orientation": "v",
         "showlegend": true,
         "text": [
          "New Zealand",
          "United Kingdom",
          "Spain",
          "Slovakia",
          "Indonesia",
          "Germany",
          "Russia",
          "Bulgaria",
          "France",
          "Austria",
          "Australia",
          "Luxembourg",
          "Hungary",
          "Malta",
          "Israel",
          "Lithuania",
          "Mexico",
          "Italy",
          "Switzerland",
          "Philippines",
          "Chile",
          "Liechtenstein",
          "Greece",
          "Belgium",
          "Netherlands",
          "Poland"
         ],
         "textposition": "top center",
         "type": "scatter",
         "x": [
          0.9721868498195336,
          0.7348871550780316,
          0.6527014359714531,
          0.7302831091839879,
          0.9304857473013634,
          0.9180858727032167,
          0.9345578293937306,
          0.960970633452989,
          0.24634060784885073,
          0.694290820921555,
          1.002580748965236,
          0.2460469033446452,
          1.0265293560788469,
          1.000693595746927,
          0.9702565811677358,
          0.6944101896696668,
          0.16014109520057473,
          0.672247461033113,
          0.20909714486064765,
          0.7064925402960062,
          0.6721236980261923,
          0.19566389568215964,
          0.723224998988138,
          0.22513092932647152,
          0.2603509912247116,
          0.8713530336660008
         ],
         "xaxis": "x",
         "y": [
          -0.7743730475832976,
          -0.4887259395204731,
          -0.7787850338277772,
          -0.5041400049023252,
          -0.7582925354098886,
          -1.0334062434491513,
          -1.0633472648819862,
          -1.038987598059103,
          -0.4779900797036406,
          -0.7782643753916311,
          -0.7747655214166037,
          -0.4149342366533231,
          -0.7535421844090026,
          -0.8172768201718671,
          -1.0711834305820818,
          -0.6674427630243066,
          -0.3673341389472297,
          -0.7478807643383986,
          -0.36392293768349016,
          -0.7087415326067553,
          -0.8131756449841179,
          -0.3936093203362284,
          -0.672333311774872,
          -0.4100235051505193,
          -0.34458734523913076,
          -1.0228416624876713
         ],
         "yaxis": "y"
        },
        {
         "hovertemplate": "Cluster=5<br>0=%{x}<br>1=%{y}<br>Country=%{text}<extra></extra>",
         "legendgroup": "5",
         "marker": {
          "color": "#19d3f3",
          "symbol": "circle"
         },
         "mode": "markers+text",
         "name": "5",
         "orientation": "v",
         "showlegend": true,
         "text": [
          "Argentina",
          "Barbados",
          "Azerbaijan",
          "Iceland",
          "South Africa",
          "Djibouti",
          "Central African Republic",
          "Sweden",
          "Japan",
          "United Arab Emirates",
          "United States",
          "Portugal",
          "Bosnia and Herzegovina",
          "Egypt",
          "Benin",
          "Serbia",
          "Botswana",
          "Honduras",
          "Czechia",
          "Panama",
          "Costa Rica",
          "India",
          "Haiti",
          "Cameroon",
          "Romania",
          "Denmark"
         ],
         "textposition": "top center",
         "type": "scatter",
         "x": [
          0.034760146684604525,
          0.7017042457149678,
          -0.06836867317565924,
          0.11061839940496235,
          0.34803341112946873,
          0.7248981259538775,
          0.686954735083177,
          0.42028704553633883,
          0.46711707523897283,
          -0.18416095989163173,
          0.43745562149095296,
          0.5232331818992597,
          0.06819134271407053,
          0.6796871996822161,
          -0.1589425670737663,
          0.07900173312425952,
          0.10793096118753728,
          -0.03791711230738201,
          0.04521423837055862,
          -0.057637557133024514,
          0.3415743418035826,
          -0.16885707473823944,
          0.6665840885831747,
          0.7191130066863545,
          0.3205366726649865,
          0.5042947018907876
         ],
         "xaxis": "x",
         "y": [
          0.8162994390675804,
          0.6106077432455388,
          0.8751833591457153,
          0.757301377455764,
          0.8036038390000076,
          0.578235806642023,
          0.5417955729368447,
          0.7795411398291869,
          0.6369365678276263,
          0.6523570557505866,
          0.7741200492502004,
          0.6480355840750904,
          0.8116931792739367,
          0.5787728375663823,
          0.6558102531121413,
          0.7580348782386819,
          0.799899264045033,
          0.8701312485449972,
          0.7771890921322159,
          0.8415936688152192,
          0.8363489485360904,
          0.6845911573008927,
          0.6318460550899203,
          0.5389458282201239,
          0.760966685060959,
          0.6447251468241754
         ],
         "yaxis": "y"
        }
       ],
       "layout": {
        "legend": {
         "title": {
          "text": "Cluster"
         },
         "tracegroupgap": 0
        },
        "margin": {
         "t": 60
        },
        "template": {
         "data": {
          "bar": [
           {
            "error_x": {
             "color": "#2a3f5f"
            },
            "error_y": {
             "color": "#2a3f5f"
            },
            "marker": {
             "line": {
              "color": "#E5ECF6",
              "width": 0.5
             },
             "pattern": {
              "fillmode": "overlay",
              "size": 10,
              "solidity": 0.2
             }
            },
            "type": "bar"
           }
          ],
          "barpolar": [
           {
            "marker": {
             "line": {
              "color": "#E5ECF6",
              "width": 0.5
             },
             "pattern": {
              "fillmode": "overlay",
              "size": 10,
              "solidity": 0.2
             }
            },
            "type": "barpolar"
           }
          ],
          "carpet": [
           {
            "aaxis": {
             "endlinecolor": "#2a3f5f",
             "gridcolor": "white",
             "linecolor": "white",
             "minorgridcolor": "white",
             "startlinecolor": "#2a3f5f"
            },
            "baxis": {
             "endlinecolor": "#2a3f5f",
             "gridcolor": "white",
             "linecolor": "white",
             "minorgridcolor": "white",
             "startlinecolor": "#2a3f5f"
            },
            "type": "carpet"
           }
          ],
          "choropleth": [
           {
            "colorbar": {
             "outlinewidth": 0,
             "ticks": ""
            },
            "type": "choropleth"
           }
          ],
          "contour": [
           {
            "colorbar": {
             "outlinewidth": 0,
             "ticks": ""
            },
            "colorscale": [
             [
              0,
              "#0d0887"
             ],
             [
              0.1111111111111111,
              "#46039f"
             ],
             [
              0.2222222222222222,
              "#7201a8"
             ],
             [
              0.3333333333333333,
              "#9c179e"
             ],
             [
              0.4444444444444444,
              "#bd3786"
             ],
             [
              0.5555555555555556,
              "#d8576b"
             ],
             [
              0.6666666666666666,
              "#ed7953"
             ],
             [
              0.7777777777777778,
              "#fb9f3a"
             ],
             [
              0.8888888888888888,
              "#fdca26"
             ],
             [
              1,
              "#f0f921"
             ]
            ],
            "type": "contour"
           }
          ],
          "contourcarpet": [
           {
            "colorbar": {
             "outlinewidth": 0,
             "ticks": ""
            },
            "type": "contourcarpet"
           }
          ],
          "heatmap": [
           {
            "colorbar": {
             "outlinewidth": 0,
             "ticks": ""
            },
            "colorscale": [
             [
              0,
              "#0d0887"
             ],
             [
              0.1111111111111111,
              "#46039f"
             ],
             [
              0.2222222222222222,
              "#7201a8"
             ],
             [
              0.3333333333333333,
              "#9c179e"
             ],
             [
              0.4444444444444444,
              "#bd3786"
             ],
             [
              0.5555555555555556,
              "#d8576b"
             ],
             [
              0.6666666666666666,
              "#ed7953"
             ],
             [
              0.7777777777777778,
              "#fb9f3a"
             ],
             [
              0.8888888888888888,
              "#fdca26"
             ],
             [
              1,
              "#f0f921"
             ]
            ],
            "type": "heatmap"
           }
          ],
          "heatmapgl": [
           {
            "colorbar": {
             "outlinewidth": 0,
             "ticks": ""
            },
            "colorscale": [
             [
              0,
              "#0d0887"
             ],
             [
              0.1111111111111111,
              "#46039f"
             ],
             [
              0.2222222222222222,
              "#7201a8"
             ],
             [
              0.3333333333333333,
              "#9c179e"
             ],
             [
              0.4444444444444444,
              "#bd3786"
             ],
             [
              0.5555555555555556,
              "#d8576b"
             ],
             [
              0.6666666666666666,
              "#ed7953"
             ],
             [
              0.7777777777777778,
              "#fb9f3a"
             ],
             [
              0.8888888888888888,
              "#fdca26"
             ],
             [
              1,
              "#f0f921"
             ]
            ],
            "type": "heatmapgl"
           }
          ],
          "histogram": [
           {
            "marker": {
             "pattern": {
              "fillmode": "overlay",
              "size": 10,
              "solidity": 0.2
             }
            },
            "type": "histogram"
           }
          ],
          "histogram2d": [
           {
            "colorbar": {
             "outlinewidth": 0,
             "ticks": ""
            },
            "colorscale": [
             [
              0,
              "#0d0887"
             ],
             [
              0.1111111111111111,
              "#46039f"
             ],
             [
              0.2222222222222222,
              "#7201a8"
             ],
             [
              0.3333333333333333,
              "#9c179e"
             ],
             [
              0.4444444444444444,
              "#bd3786"
             ],
             [
              0.5555555555555556,
              "#d8576b"
             ],
             [
              0.6666666666666666,
              "#ed7953"
             ],
             [
              0.7777777777777778,
              "#fb9f3a"
             ],
             [
              0.8888888888888888,
              "#fdca26"
             ],
             [
              1,
              "#f0f921"
             ]
            ],
            "type": "histogram2d"
           }
          ],
          "histogram2dcontour": [
           {
            "colorbar": {
             "outlinewidth": 0,
             "ticks": ""
            },
            "colorscale": [
             [
              0,
              "#0d0887"
             ],
             [
              0.1111111111111111,
              "#46039f"
             ],
             [
              0.2222222222222222,
              "#7201a8"
             ],
             [
              0.3333333333333333,
              "#9c179e"
             ],
             [
              0.4444444444444444,
              "#bd3786"
             ],
             [
              0.5555555555555556,
              "#d8576b"
             ],
             [
              0.6666666666666666,
              "#ed7953"
             ],
             [
              0.7777777777777778,
              "#fb9f3a"
             ],
             [
              0.8888888888888888,
              "#fdca26"
             ],
             [
              1,
              "#f0f921"
             ]
            ],
            "type": "histogram2dcontour"
           }
          ],
          "mesh3d": [
           {
            "colorbar": {
             "outlinewidth": 0,
             "ticks": ""
            },
            "type": "mesh3d"
           }
          ],
          "parcoords": [
           {
            "line": {
             "colorbar": {
              "outlinewidth": 0,
              "ticks": ""
             }
            },
            "type": "parcoords"
           }
          ],
          "pie": [
           {
            "automargin": true,
            "type": "pie"
           }
          ],
          "scatter": [
           {
            "fillpattern": {
             "fillmode": "overlay",
             "size": 10,
             "solidity": 0.2
            },
            "type": "scatter"
           }
          ],
          "scatter3d": [
           {
            "line": {
             "colorbar": {
              "outlinewidth": 0,
              "ticks": ""
             }
            },
            "marker": {
             "colorbar": {
              "outlinewidth": 0,
              "ticks": ""
             }
            },
            "type": "scatter3d"
           }
          ],
          "scattercarpet": [
           {
            "marker": {
             "colorbar": {
              "outlinewidth": 0,
              "ticks": ""
             }
            },
            "type": "scattercarpet"
           }
          ],
          "scattergeo": [
           {
            "marker": {
             "colorbar": {
              "outlinewidth": 0,
              "ticks": ""
             }
            },
            "type": "scattergeo"
           }
          ],
          "scattergl": [
           {
            "marker": {
             "colorbar": {
              "outlinewidth": 0,
              "ticks": ""
             }
            },
            "type": "scattergl"
           }
          ],
          "scattermapbox": [
           {
            "marker": {
             "colorbar": {
              "outlinewidth": 0,
              "ticks": ""
             }
            },
            "type": "scattermapbox"
           }
          ],
          "scatterpolar": [
           {
            "marker": {
             "colorbar": {
              "outlinewidth": 0,
              "ticks": ""
             }
            },
            "type": "scatterpolar"
           }
          ],
          "scatterpolargl": [
           {
            "marker": {
             "colorbar": {
              "outlinewidth": 0,
              "ticks": ""
             }
            },
            "type": "scatterpolargl"
           }
          ],
          "scatterternary": [
           {
            "marker": {
             "colorbar": {
              "outlinewidth": 0,
              "ticks": ""
             }
            },
            "type": "scatterternary"
           }
          ],
          "surface": [
           {
            "colorbar": {
             "outlinewidth": 0,
             "ticks": ""
            },
            "colorscale": [
             [
              0,
              "#0d0887"
             ],
             [
              0.1111111111111111,
              "#46039f"
             ],
             [
              0.2222222222222222,
              "#7201a8"
             ],
             [
              0.3333333333333333,
              "#9c179e"
             ],
             [
              0.4444444444444444,
              "#bd3786"
             ],
             [
              0.5555555555555556,
              "#d8576b"
             ],
             [
              0.6666666666666666,
              "#ed7953"
             ],
             [
              0.7777777777777778,
              "#fb9f3a"
             ],
             [
              0.8888888888888888,
              "#fdca26"
             ],
             [
              1,
              "#f0f921"
             ]
            ],
            "type": "surface"
           }
          ],
          "table": [
           {
            "cells": {
             "fill": {
              "color": "#EBF0F8"
             },
             "line": {
              "color": "white"
             }
            },
            "header": {
             "fill": {
              "color": "#C8D4E3"
             },
             "line": {
              "color": "white"
             }
            },
            "type": "table"
           }
          ]
         },
         "layout": {
          "annotationdefaults": {
           "arrowcolor": "#2a3f5f",
           "arrowhead": 0,
           "arrowwidth": 1
          },
          "autotypenumbers": "strict",
          "coloraxis": {
           "colorbar": {
            "outlinewidth": 0,
            "ticks": ""
           }
          },
          "colorscale": {
           "diverging": [
            [
             0,
             "#8e0152"
            ],
            [
             0.1,
             "#c51b7d"
            ],
            [
             0.2,
             "#de77ae"
            ],
            [
             0.3,
             "#f1b6da"
            ],
            [
             0.4,
             "#fde0ef"
            ],
            [
             0.5,
             "#f7f7f7"
            ],
            [
             0.6,
             "#e6f5d0"
            ],
            [
             0.7,
             "#b8e186"
            ],
            [
             0.8,
             "#7fbc41"
            ],
            [
             0.9,
             "#4d9221"
            ],
            [
             1,
             "#276419"
            ]
           ],
           "sequential": [
            [
             0,
             "#0d0887"
            ],
            [
             0.1111111111111111,
             "#46039f"
            ],
            [
             0.2222222222222222,
             "#7201a8"
            ],
            [
             0.3333333333333333,
             "#9c179e"
            ],
            [
             0.4444444444444444,
             "#bd3786"
            ],
            [
             0.5555555555555556,
             "#d8576b"
            ],
            [
             0.6666666666666666,
             "#ed7953"
            ],
            [
             0.7777777777777778,
             "#fb9f3a"
            ],
            [
             0.8888888888888888,
             "#fdca26"
            ],
            [
             1,
             "#f0f921"
            ]
           ],
           "sequentialminus": [
            [
             0,
             "#0d0887"
            ],
            [
             0.1111111111111111,
             "#46039f"
            ],
            [
             0.2222222222222222,
             "#7201a8"
            ],
            [
             0.3333333333333333,
             "#9c179e"
            ],
            [
             0.4444444444444444,
             "#bd3786"
            ],
            [
             0.5555555555555556,
             "#d8576b"
            ],
            [
             0.6666666666666666,
             "#ed7953"
            ],
            [
             0.7777777777777778,
             "#fb9f3a"
            ],
            [
             0.8888888888888888,
             "#fdca26"
            ],
            [
             1,
             "#f0f921"
            ]
           ]
          },
          "colorway": [
           "#636efa",
           "#EF553B",
           "#00cc96",
           "#ab63fa",
           "#FFA15A",
           "#19d3f3",
           "#FF6692",
           "#B6E880",
           "#FF97FF",
           "#FECB52"
          ],
          "font": {
           "color": "#2a3f5f"
          },
          "geo": {
           "bgcolor": "white",
           "lakecolor": "white",
           "landcolor": "#E5ECF6",
           "showlakes": true,
           "showland": true,
           "subunitcolor": "white"
          },
          "hoverlabel": {
           "align": "left"
          },
          "hovermode": "closest",
          "mapbox": {
           "style": "light"
          },
          "paper_bgcolor": "white",
          "plot_bgcolor": "#E5ECF6",
          "polar": {
           "angularaxis": {
            "gridcolor": "white",
            "linecolor": "white",
            "ticks": ""
           },
           "bgcolor": "#E5ECF6",
           "radialaxis": {
            "gridcolor": "white",
            "linecolor": "white",
            "ticks": ""
           }
          },
          "scene": {
           "xaxis": {
            "backgroundcolor": "#E5ECF6",
            "gridcolor": "white",
            "gridwidth": 2,
            "linecolor": "white",
            "showbackground": true,
            "ticks": "",
            "zerolinecolor": "white"
           },
           "yaxis": {
            "backgroundcolor": "#E5ECF6",
            "gridcolor": "white",
            "gridwidth": 2,
            "linecolor": "white",
            "showbackground": true,
            "ticks": "",
            "zerolinecolor": "white"
           },
           "zaxis": {
            "backgroundcolor": "#E5ECF6",
            "gridcolor": "white",
            "gridwidth": 2,
            "linecolor": "white",
            "showbackground": true,
            "ticks": "",
            "zerolinecolor": "white"
           }
          },
          "shapedefaults": {
           "line": {
            "color": "#2a3f5f"
           }
          },
          "ternary": {
           "aaxis": {
            "gridcolor": "white",
            "linecolor": "white",
            "ticks": ""
           },
           "baxis": {
            "gridcolor": "white",
            "linecolor": "white",
            "ticks": ""
           },
           "bgcolor": "#E5ECF6",
           "caxis": {
            "gridcolor": "white",
            "linecolor": "white",
            "ticks": ""
           }
          },
          "title": {
           "x": 0.05
          },
          "xaxis": {
           "automargin": true,
           "gridcolor": "white",
           "linecolor": "white",
           "ticks": "",
           "title": {
            "standoff": 15
           },
           "zerolinecolor": "white",
           "zerolinewidth": 2
          },
          "yaxis": {
           "automargin": true,
           "gridcolor": "white",
           "linecolor": "white",
           "ticks": "",
           "title": {
            "standoff": 15
           },
           "zerolinecolor": "white",
           "zerolinewidth": 2
          }
         }
        },
        "title": {
         "text": "Cluster Equality Indicators",
         "x": 0.5
        },
        "xaxis": {
         "anchor": "y",
         "domain": [
          0,
          1
         ],
         "title": {
          "text": "0"
         }
        },
        "yaxis": {
         "anchor": "x",
         "domain": [
          0,
          1
         ],
         "title": {
          "text": "1"
         }
        }
       }
      }
     },
     "metadata": {},
     "output_type": "display_data"
    }
   ],
   "source": [
    "X_affinity_equality['Cluster'] = labels_affinity\n",
    "X_affinity_equality['Cluster'] = X_affinity_equality['Cluster'].astype(str)\n",
    " \n",
    "fig = px.scatter(X_affinity_equality, x= X_affinity_equality.columns[0], y=X_affinity_equality.columns[1], text= X_affinity_equality.index, size_max=100, color='Cluster', category_orders={\"Cluster\": sort(list(set(X_affinity_equality.loc[:, 'Cluster'])))})\n",
    "fig.update_layout(title_text='Cluster Equality Indicators', title_x=0.5)\n",
    "fig.update_traces(textposition='top center')\n",
    "fig.show()\n"
   ]
  },
  {
   "cell_type": "markdown",
   "metadata": {},
   "source": [
    "# Socio-demographic indicators\n",
    "\n",
    "Perform the same code as before but for different indicators.\n",
    "\n",
    "TSNE() and AffinityPropagation() parameters have been optimized again for this case."
   ]
  },
  {
   "cell_type": "code",
   "execution_count": 6,
   "metadata": {},
   "outputs": [
    {
     "data": {
      "application/vnd.plotly.v1+json": {
       "config": {
        "plotlyServerURL": "https://plot.ly"
       },
       "data": [
        {
         "hovertemplate": "Cluster=0<br>0=%{x}<br>1=%{y}<br>Country=%{text}<extra></extra>",
         "legendgroup": "0",
         "marker": {
          "color": "#636efa",
          "symbol": "circle"
         },
         "mode": "markers+text",
         "name": "0",
         "orientation": "v",
         "showlegend": true,
         "text": [
          "South Africa",
          "Tuvalu",
          "United Kingdom",
          "Spain",
          "Dominican Republic",
          "Lebanon",
          "Canada",
          "Finland",
          "Slovenia",
          "United States",
          "France",
          "Australia",
          "Tunisia",
          "Israel",
          "Switzerland",
          "Marshall Islands",
          "Belgium"
         ],
         "textposition": "top center",
         "type": "scatter",
         "x": [
          0.5208912331094554,
          0.46092556750817076,
          0.5197305246884983,
          0.45000966048009156,
          0.24099600492608877,
          0.49029097343239975,
          0.3665649669806638,
          0.4542012059799535,
          0.46132801601599405,
          0.24351816720156003,
          0.2831699151814724,
          0.3748221282271961,
          0.5611302422834575,
          0.6255317714704064,
          0.6470208459169278,
          0.43536364712762843,
          0.5980358956786824
         ],
         "xaxis": "x",
         "y": [
          0.9761917895177542,
          1.3861704082139226,
          1.0331050361541088,
          0.9778190745956392,
          0.9390216692029777,
          1.3143214112969952,
          1.1198776165216646,
          0.8555439118678302,
          0.8134127950704148,
          1.034248377042805,
          0.9585861591708867,
          1.0754676638465401,
          1.2986808945491781,
          0.8320056442731412,
          0.8763711368500577,
          1.3600503847885173,
          0.8824306729971121
         ],
         "yaxis": "y"
        },
        {
         "hovertemplate": "Cluster=1<br>0=%{x}<br>1=%{y}<br>Country=%{text}<extra></extra>",
         "legendgroup": "1",
         "marker": {
          "color": "#EF553B",
          "symbol": "circle"
         },
         "mode": "markers+text",
         "name": "1",
         "orientation": "v",
         "showlegend": true,
         "text": [
          "Comoros",
          "Burkina Faso",
          "Sierra Leone",
          "Bhutan",
          "Central African Republic",
          "Madagascar",
          "Papua New Guinea",
          "Pakistan",
          "Chad",
          "Brazil",
          "Indonesia",
          "United Arab Emirates",
          "Portugal",
          "Ghana",
          "Cambodia",
          "Benin",
          "Honduras",
          "Bahrain",
          "Myanmar",
          "Haiti",
          "Ethiopia",
          "Kiribati",
          "Belize",
          "Togo",
          "Kenya"
         ],
         "textposition": "top center",
         "type": "scatter",
         "x": [
          -0.8603507823066102,
          -1.4098470319933398,
          -0.9279245921051361,
          -1.0220571304978707,
          -0.8790166361798687,
          -1.0000948857771899,
          -0.7651628280888382,
          -1.0361803199054294,
          -0.8511616451223893,
          -0.8237703436960534,
          -1.020357701296245,
          -1.0654860408724898,
          -0.8030655769899419,
          -0.989783202154253,
          -1.0862603322940516,
          -1.08668265184658,
          -1.0554878888175752,
          -1.1079843160064125,
          -1.382298869018922,
          -0.9873260876239189,
          -1.0110092126980998,
          -0.9771941531620015,
          -0.7152707048072592,
          -1.0535900364611108,
          -1.0509347860681506
         ],
         "xaxis": "x",
         "y": [
          -1.3997440330077924,
          -1.2899407806424785,
          -1.4757916096337427,
          -1.590242136203037,
          -1.2640356666431931,
          -1.9273322331285274,
          -1.3737993483840152,
          -1.8998107500856998,
          -1.3196551357925672,
          -1.146388788767956,
          -1.4934081560149528,
          -1.29843004410029,
          -1.099273194643196,
          -1.5361230532323153,
          -1.348997436105479,
          -1.911383565827914,
          -1.9712175339030606,
          -1.2801160086080643,
          -1.3115769292529693,
          -1.8067045956256138,
          -1.7194932134192236,
          -1.261361465646638,
          -1.4040571173687217,
          -1.5317724450033334,
          -1.8372916649796553
         ],
         "yaxis": "y"
        },
        {
         "hovertemplate": "Cluster=2<br>0=%{x}<br>1=%{y}<br>Country=%{text}<extra></extra>",
         "legendgroup": "2",
         "marker": {
          "color": "#00cc96",
          "symbol": "circle"
         },
         "mode": "markers+text",
         "name": "2",
         "orientation": "v",
         "showlegend": true,
         "text": [
          "Oman",
          "Morocco",
          "Niger",
          "Rwanda",
          "Guinea",
          "Luxembourg",
          "Guinea-Bissau",
          "Senegal",
          "Uganda",
          "Nigeria",
          "Zambia",
          "Maldives"
         ],
         "textposition": "top center",
         "type": "scatter",
         "x": [
          -1.009851712373517,
          -0.9097512528483523,
          -0.8390572580928014,
          -0.8823169533541966,
          -0.8517573934072599,
          -0.8117646894235305,
          -0.8497396444340688,
          -0.8767185857712466,
          -0.8956545900884241,
          -0.9594600836982897,
          -0.9208982864614718,
          -0.9432652301456411
         ],
         "xaxis": "x",
         "y": [
          1.2578557220686875,
          1.4045477794470738,
          1.201853850591249,
          1.2660580984989325,
          1.5022147895059277,
          1.590477749687322,
          1.3751366853760654,
          1.5470188565042964,
          1.3446783342603135,
          1.3974516748722365,
          1.5109766126962312,
          1.2768484847379027
         ],
         "yaxis": "y"
        },
        {
         "hovertemplate": "Cluster=3<br>0=%{x}<br>1=%{y}<br>Country=%{text}<extra></extra>",
         "legendgroup": "3",
         "marker": {
          "color": "#ab63fa",
          "symbol": "circle"
         },
         "mode": "markers+text",
         "name": "3",
         "orientation": "v",
         "showlegend": true,
         "text": [
          "Iceland",
          "New Zealand",
          "Colombia",
          "Lesotho",
          "Jamaica",
          "El Salvador",
          "Montenegro",
          "Panama",
          "Singapore",
          "Peru",
          "Costa Rica",
          "Ecuador",
          "Thailand",
          "Malta",
          "China",
          "Uruguay",
          "Mexico",
          "Paraguay",
          "Cuba",
          "Philippines",
          "Chile",
          "Netherlands",
          "Malaysia",
          "North Macedonia"
         ],
         "textposition": "top center",
         "type": "scatter",
         "x": [
          -0.39526749663985566,
          -0.324525428320729,
          -0.0016860893862587257,
          -0.43906289611368704,
          0.32715790817232837,
          0.04570631033870433,
          0.04111485407889714,
          0.1668236795589751,
          -0.05972669964969804,
          -0.3712683980138455,
          0.19775832343048444,
          -0.34003489841817447,
          0.010313052929445165,
          -0.3851003209998588,
          0.07243941034282765,
          -0.3184781187735493,
          0.31160706799626786,
          -0.0741137071019895,
          0.12337250852681998,
          0.20175516860376264,
          0.03648931778036976,
          -0.29905510627397197,
          0.20670109557188815,
          -0.07931798159229947
         ],
         "xaxis": "x",
         "y": [
          -0.0692689137512093,
          0.38245856155017405,
          0.43072738921975356,
          -0.13663338202824854,
          0.07666717982177909,
          0.12546233659514314,
          0.429803733522202,
          0.19537291302824855,
          -0.18393259614540347,
          0.2310166363012907,
          0.095839602222883,
          0.3199347575334503,
          0.37234792586641297,
          -0.030231185039973997,
          0.4974879790656994,
          -0.005815797029553328,
          0.037683775437701884,
          0.45558553044602323,
          0.15883779889874564,
          0.17799211319079683,
          0.08340953665870132,
          0.3389354229566948,
          0.2707415919141728,
          -0.21884101861425287
         ],
         "yaxis": "y"
        },
        {
         "hovertemplate": "Cluster=4<br>0=%{x}<br>1=%{y}<br>Country=%{text}<extra></extra>",
         "legendgroup": "4",
         "marker": {
          "color": "#FFA15A",
          "symbol": "circle"
         },
         "mode": "markers+text",
         "name": "4",
         "orientation": "v",
         "showlegend": true,
         "text": [
          "Greenland",
          "Croatia",
          "Germany",
          "Bosnia and Herzegovina",
          "Serbia",
          "Bulgaria",
          "Latvia",
          "Hungary",
          "Georgia",
          "Albania",
          "Armenia",
          "Lithuania",
          "Palau",
          "Ukraine",
          "Romania",
          "Poland"
         ],
         "textposition": "top center",
         "type": "scatter",
         "x": [
          1.31817850051053,
          1.4089592964228805,
          1.3753235072274475,
          1.7502292148642495,
          1.7561805688124195,
          1.615222943035799,
          1.4822572120294064,
          1.511743544034124,
          1.368835970246487,
          1.6963428679508323,
          1.5404821501735035,
          1.5605132166410578,
          1.4050122844779804,
          1.403603211939227,
          1.5899159466119077,
          1.5400170240812971
         ],
         "xaxis": "x",
         "y": [
          0.5681552015563491,
          0.6481686530550502,
          0.6212696113871329,
          0.6917705349170945,
          0.7377750245670762,
          0.661795445738385,
          0.589216097898723,
          0.7577239636194887,
          0.8700329007011939,
          0.7128983488241624,
          0.34730244957160755,
          0.6315285800583931,
          0.7249084881922271,
          0.8579026849553606,
          0.6974488626773407,
          0.3887785474541214
         ],
         "yaxis": "y"
        },
        {
         "hovertemplate": "Cluster=5<br>0=%{x}<br>1=%{y}<br>Country=%{text}<extra></extra>",
         "legendgroup": "5",
         "marker": {
          "color": "#19d3f3",
          "symbol": "circle"
         },
         "mode": "markers+text",
         "name": "5",
         "orientation": "v",
         "showlegend": true,
         "text": [
          "Azerbaijan",
          "Belarus",
          "Sweden",
          "Kazakhstan",
          "Turkmenistan",
          "Algeria",
          "Russia",
          "Estonia",
          "Mongolia",
          "Namibia",
          "Tajikistan",
          "Gabon",
          "Norway",
          "Uzbekistan"
         ],
         "textposition": "top center",
         "type": "scatter",
         "x": [
          1.341211579071658,
          1.3502755526152543,
          1.2437437696187288,
          1.28309131105702,
          1.03069255719082,
          1.3416470183018954,
          1.3349621115708759,
          1.3659298179878523,
          1.3009539916679076,
          1.0769502424548125,
          1.2319365385010448,
          1.070782174414268,
          1.12353170604241,
          1.2865844013060053
         ],
         "xaxis": "x",
         "y": [
          1.8068694823040539,
          1.4154781410847495,
          1.7726627241872204,
          1.6817516022995258,
          1.859494319365441,
          1.866135589176003,
          1.468222372271759,
          1.3628786610614707,
          1.5877695497921371,
          1.853107984440255,
          1.7059939541093125,
          1.9072296827108715,
          1.9034268092467677,
          1.7358406661758055
         ],
         "yaxis": "y"
        },
        {
         "hovertemplate": "Cluster=6<br>0=%{x}<br>1=%{y}<br>Country=%{text}<extra></extra>",
         "legendgroup": "6",
         "marker": {
          "color": "#FF6692",
          "symbol": "circle"
         },
         "mode": "markers+text",
         "name": "6",
         "orientation": "v",
         "showlegend": true,
         "text": [
          "Djibouti",
          "Guatemala",
          "Liberia",
          "Jordan",
          "Saudi Arabia",
          "Botswana",
          "Vanuatu",
          "Afghanistan",
          "Solomon Islands",
          "India",
          "Mauritania",
          "Malawi",
          "Bangladesh",
          "Burundi",
          "Nepal",
          "Mali",
          "Nicaragua",
          "Sao Tome and Principe",
          "Cameroon",
          "Qatar"
         ],
         "textposition": "top center",
         "type": "scatter",
         "x": [
          -1.691014366153101,
          -1.5504830820199853,
          -1.3200027129300087,
          -1.445553623457225,
          -1.447856270541249,
          -1.2559050431399243,
          -1.193355495319494,
          -1.5545584178198488,
          -1.659820369236663,
          -1.4581753279976426,
          -1.427496829074688,
          -1.3656109262653735,
          -1.5037382449274868,
          -1.7024552996997147,
          -1.4704226907850366,
          -1.6192458985224099,
          -1.5061747701825843,
          -1.5343778636376693,
          -1.6121457587801062,
          -1.3224413449946653
         ],
         "xaxis": "x",
         "y": [
          -0.2611662343706244,
          -0.8129855824416793,
          -0.28916940519580236,
          -0.06677143027416141,
          -0.14657427195662354,
          -0.2504639403866632,
          -0.27487595977711093,
          -0.19356669824857664,
          -0.17693281526878965,
          -0.8267420598871781,
          -0.2519677200590646,
          -0.25896432952921655,
          -0.7601188301400433,
          -0.12466466815769879,
          -0.3696860958272078,
          -0.12707069431316145,
          -0.8105295315689396,
          -0.12165806112318371,
          -0.18120067555124283,
          -0.22806137920808425
         ],
         "yaxis": "y"
        },
        {
         "hovertemplate": "Cluster=7<br>0=%{x}<br>1=%{y}<br>Country=%{text}<extra></extra>",
         "legendgroup": "7",
         "marker": {
          "color": "#B6E880",
          "symbol": "circle"
         },
         "mode": "markers+text",
         "name": "7",
         "orientation": "v",
         "showlegend": true,
         "text": [
          "Libya",
          "Slovakia",
          "Bermuda",
          "Puerto Rico",
          "Dominica",
          "Yemen",
          "Gambia",
          "Japan",
          "Seychelles",
          "Saint Lucia",
          "Egypt",
          "Czechia",
          "Fiji",
          "French Polynesia",
          "Kyrgyzstan",
          "Congo",
          "New Caledonia",
          "Italy",
          "Greece",
          "Nauru",
          "Grenada",
          "Andorra",
          "Cayman Islands"
         ],
         "textposition": "top center",
         "type": "scatter",
         "x": [
          1.0041035671502172,
          1.0429397284500723,
          0.8380152944862089,
          0.7853307387801511,
          1.0413307005313464,
          1.063450572912676,
          1.134994090740898,
          0.9248710563079235,
          1.0062034816962133,
          1.2690710680256443,
          1.2295875416067208,
          1.176902459198273,
          0.9507198858447867,
          0.9660987337495681,
          1.2216461145018407,
          1.0874191706821148,
          1.0289414153909258,
          0.9926766151579504,
          1.1007976986746029,
          1.0662182503248354,
          0.9322583924987607,
          1.2738972899051848,
          1.3511046779408304
         ],
         "xaxis": "x",
         "y": [
          -1.0163792177279953,
          -0.7446265895253799,
          -0.8906888144639363,
          -0.8823578335040924,
          -0.0677605537505958,
          -0.7969531118357481,
          -0.6440434063753765,
          -1.0411604918791026,
          -0.01095619739952607,
          -0.5159197792583096,
          -0.6140122588119701,
          -0.6007589423244506,
          -0.0022569566300696085,
          -1.0303708447466244,
          -0.5415998637579698,
          -0.7209369188085328,
          0.04402471216797862,
          -0.8371779592817413,
          -0.8645895428746511,
          -0.601868938139491,
          -0.07884229008325687,
          -0.5815132346719528,
          -0.5585331346145476
         ],
         "yaxis": "y"
        },
        {
         "hovertemplate": "Cluster=8<br>0=%{x}<br>1=%{y}<br>Country=%{text}<extra></extra>",
         "legendgroup": "8",
         "marker": {
          "color": "#FF97FF",
          "symbol": "circle"
         },
         "mode": "markers+text",
         "name": "8",
         "orientation": "v",
         "showlegend": true,
         "text": [
          "Argentina",
          "Barbados",
          "Samoa",
          "Eswatini",
          "Equatorial Guinea",
          "Kuwait",
          "Sri Lanka",
          "Ireland",
          "Aruba",
          "Iraq",
          "Austria",
          "Suriname",
          "Cyprus",
          "Eritrea",
          "Angola",
          "Antigua and Barbuda",
          "Liechtenstein",
          "Trinidad and Tobago",
          "Tonga",
          "Denmark",
          "Mozambique",
          "Zimbabwe",
          "Mauritius",
          "Guyana"
         ],
         "textposition": "top center",
         "type": "scatter",
         "x": [
          -0.6914355063885398,
          0.06949576645044811,
          -0.20900070478017385,
          -0.6013929556985116,
          -0.6431740058236676,
          -0.20500169294479226,
          -0.17806009959525296,
          -0.8240169361785388,
          0.12958894789734804,
          -0.7712243107185064,
          -0.020045432394940593,
          -0.17337565642263283,
          -0.02138458519145145,
          -0.5212169772300251,
          -0.7216409308014061,
          0.0286283444655277,
          0.11869394287404939,
          -0.023681642047838337,
          -0.12847346369974322,
          -0.7564034800546735,
          -0.712981368929086,
          -0.2650434191593638,
          0.11257479082164171,
          -0.21288195074940539
         ],
         "xaxis": "x",
         "y": [
          -0.5414408421535101,
          -0.8412161528820118,
          -0.7291868823259902,
          -0.5908839679029295,
          -0.6312854618004979,
          -0.4237929977543988,
          -0.38197679717689836,
          -0.5027052942887901,
          -0.9431575863468316,
          -0.5742629695391992,
          -0.6831024838933599,
          -0.7586694423093353,
          -0.777814062935473,
          -0.6345364217053266,
          -0.5066184367560577,
          -0.8237593672117534,
          -0.9935806820230543,
          -0.6249866541402622,
          -0.30817577026718673,
          -0.463855696606928,
          -0.4381301854851858,
          -0.6778074397035336,
          -0.8846465620379245,
          -0.5115504943768197
         ],
         "yaxis": "y"
        }
       ],
       "layout": {
        "legend": {
         "title": {
          "text": "Cluster"
         },
         "tracegroupgap": 0
        },
        "margin": {
         "t": 60
        },
        "template": {
         "data": {
          "bar": [
           {
            "error_x": {
             "color": "#2a3f5f"
            },
            "error_y": {
             "color": "#2a3f5f"
            },
            "marker": {
             "line": {
              "color": "#E5ECF6",
              "width": 0.5
             },
             "pattern": {
              "fillmode": "overlay",
              "size": 10,
              "solidity": 0.2
             }
            },
            "type": "bar"
           }
          ],
          "barpolar": [
           {
            "marker": {
             "line": {
              "color": "#E5ECF6",
              "width": 0.5
             },
             "pattern": {
              "fillmode": "overlay",
              "size": 10,
              "solidity": 0.2
             }
            },
            "type": "barpolar"
           }
          ],
          "carpet": [
           {
            "aaxis": {
             "endlinecolor": "#2a3f5f",
             "gridcolor": "white",
             "linecolor": "white",
             "minorgridcolor": "white",
             "startlinecolor": "#2a3f5f"
            },
            "baxis": {
             "endlinecolor": "#2a3f5f",
             "gridcolor": "white",
             "linecolor": "white",
             "minorgridcolor": "white",
             "startlinecolor": "#2a3f5f"
            },
            "type": "carpet"
           }
          ],
          "choropleth": [
           {
            "colorbar": {
             "outlinewidth": 0,
             "ticks": ""
            },
            "type": "choropleth"
           }
          ],
          "contour": [
           {
            "colorbar": {
             "outlinewidth": 0,
             "ticks": ""
            },
            "colorscale": [
             [
              0,
              "#0d0887"
             ],
             [
              0.1111111111111111,
              "#46039f"
             ],
             [
              0.2222222222222222,
              "#7201a8"
             ],
             [
              0.3333333333333333,
              "#9c179e"
             ],
             [
              0.4444444444444444,
              "#bd3786"
             ],
             [
              0.5555555555555556,
              "#d8576b"
             ],
             [
              0.6666666666666666,
              "#ed7953"
             ],
             [
              0.7777777777777778,
              "#fb9f3a"
             ],
             [
              0.8888888888888888,
              "#fdca26"
             ],
             [
              1,
              "#f0f921"
             ]
            ],
            "type": "contour"
           }
          ],
          "contourcarpet": [
           {
            "colorbar": {
             "outlinewidth": 0,
             "ticks": ""
            },
            "type": "contourcarpet"
           }
          ],
          "heatmap": [
           {
            "colorbar": {
             "outlinewidth": 0,
             "ticks": ""
            },
            "colorscale": [
             [
              0,
              "#0d0887"
             ],
             [
              0.1111111111111111,
              "#46039f"
             ],
             [
              0.2222222222222222,
              "#7201a8"
             ],
             [
              0.3333333333333333,
              "#9c179e"
             ],
             [
              0.4444444444444444,
              "#bd3786"
             ],
             [
              0.5555555555555556,
              "#d8576b"
             ],
             [
              0.6666666666666666,
              "#ed7953"
             ],
             [
              0.7777777777777778,
              "#fb9f3a"
             ],
             [
              0.8888888888888888,
              "#fdca26"
             ],
             [
              1,
              "#f0f921"
             ]
            ],
            "type": "heatmap"
           }
          ],
          "heatmapgl": [
           {
            "colorbar": {
             "outlinewidth": 0,
             "ticks": ""
            },
            "colorscale": [
             [
              0,
              "#0d0887"
             ],
             [
              0.1111111111111111,
              "#46039f"
             ],
             [
              0.2222222222222222,
              "#7201a8"
             ],
             [
              0.3333333333333333,
              "#9c179e"
             ],
             [
              0.4444444444444444,
              "#bd3786"
             ],
             [
              0.5555555555555556,
              "#d8576b"
             ],
             [
              0.6666666666666666,
              "#ed7953"
             ],
             [
              0.7777777777777778,
              "#fb9f3a"
             ],
             [
              0.8888888888888888,
              "#fdca26"
             ],
             [
              1,
              "#f0f921"
             ]
            ],
            "type": "heatmapgl"
           }
          ],
          "histogram": [
           {
            "marker": {
             "pattern": {
              "fillmode": "overlay",
              "size": 10,
              "solidity": 0.2
             }
            },
            "type": "histogram"
           }
          ],
          "histogram2d": [
           {
            "colorbar": {
             "outlinewidth": 0,
             "ticks": ""
            },
            "colorscale": [
             [
              0,
              "#0d0887"
             ],
             [
              0.1111111111111111,
              "#46039f"
             ],
             [
              0.2222222222222222,
              "#7201a8"
             ],
             [
              0.3333333333333333,
              "#9c179e"
             ],
             [
              0.4444444444444444,
              "#bd3786"
             ],
             [
              0.5555555555555556,
              "#d8576b"
             ],
             [
              0.6666666666666666,
              "#ed7953"
             ],
             [
              0.7777777777777778,
              "#fb9f3a"
             ],
             [
              0.8888888888888888,
              "#fdca26"
             ],
             [
              1,
              "#f0f921"
             ]
            ],
            "type": "histogram2d"
           }
          ],
          "histogram2dcontour": [
           {
            "colorbar": {
             "outlinewidth": 0,
             "ticks": ""
            },
            "colorscale": [
             [
              0,
              "#0d0887"
             ],
             [
              0.1111111111111111,
              "#46039f"
             ],
             [
              0.2222222222222222,
              "#7201a8"
             ],
             [
              0.3333333333333333,
              "#9c179e"
             ],
             [
              0.4444444444444444,
              "#bd3786"
             ],
             [
              0.5555555555555556,
              "#d8576b"
             ],
             [
              0.6666666666666666,
              "#ed7953"
             ],
             [
              0.7777777777777778,
              "#fb9f3a"
             ],
             [
              0.8888888888888888,
              "#fdca26"
             ],
             [
              1,
              "#f0f921"
             ]
            ],
            "type": "histogram2dcontour"
           }
          ],
          "mesh3d": [
           {
            "colorbar": {
             "outlinewidth": 0,
             "ticks": ""
            },
            "type": "mesh3d"
           }
          ],
          "parcoords": [
           {
            "line": {
             "colorbar": {
              "outlinewidth": 0,
              "ticks": ""
             }
            },
            "type": "parcoords"
           }
          ],
          "pie": [
           {
            "automargin": true,
            "type": "pie"
           }
          ],
          "scatter": [
           {
            "fillpattern": {
             "fillmode": "overlay",
             "size": 10,
             "solidity": 0.2
            },
            "type": "scatter"
           }
          ],
          "scatter3d": [
           {
            "line": {
             "colorbar": {
              "outlinewidth": 0,
              "ticks": ""
             }
            },
            "marker": {
             "colorbar": {
              "outlinewidth": 0,
              "ticks": ""
             }
            },
            "type": "scatter3d"
           }
          ],
          "scattercarpet": [
           {
            "marker": {
             "colorbar": {
              "outlinewidth": 0,
              "ticks": ""
             }
            },
            "type": "scattercarpet"
           }
          ],
          "scattergeo": [
           {
            "marker": {
             "colorbar": {
              "outlinewidth": 0,
              "ticks": ""
             }
            },
            "type": "scattergeo"
           }
          ],
          "scattergl": [
           {
            "marker": {
             "colorbar": {
              "outlinewidth": 0,
              "ticks": ""
             }
            },
            "type": "scattergl"
           }
          ],
          "scattermapbox": [
           {
            "marker": {
             "colorbar": {
              "outlinewidth": 0,
              "ticks": ""
             }
            },
            "type": "scattermapbox"
           }
          ],
          "scatterpolar": [
           {
            "marker": {
             "colorbar": {
              "outlinewidth": 0,
              "ticks": ""
             }
            },
            "type": "scatterpolar"
           }
          ],
          "scatterpolargl": [
           {
            "marker": {
             "colorbar": {
              "outlinewidth": 0,
              "ticks": ""
             }
            },
            "type": "scatterpolargl"
           }
          ],
          "scatterternary": [
           {
            "marker": {
             "colorbar": {
              "outlinewidth": 0,
              "ticks": ""
             }
            },
            "type": "scatterternary"
           }
          ],
          "surface": [
           {
            "colorbar": {
             "outlinewidth": 0,
             "ticks": ""
            },
            "colorscale": [
             [
              0,
              "#0d0887"
             ],
             [
              0.1111111111111111,
              "#46039f"
             ],
             [
              0.2222222222222222,
              "#7201a8"
             ],
             [
              0.3333333333333333,
              "#9c179e"
             ],
             [
              0.4444444444444444,
              "#bd3786"
             ],
             [
              0.5555555555555556,
              "#d8576b"
             ],
             [
              0.6666666666666666,
              "#ed7953"
             ],
             [
              0.7777777777777778,
              "#fb9f3a"
             ],
             [
              0.8888888888888888,
              "#fdca26"
             ],
             [
              1,
              "#f0f921"
             ]
            ],
            "type": "surface"
           }
          ],
          "table": [
           {
            "cells": {
             "fill": {
              "color": "#EBF0F8"
             },
             "line": {
              "color": "white"
             }
            },
            "header": {
             "fill": {
              "color": "#C8D4E3"
             },
             "line": {
              "color": "white"
             }
            },
            "type": "table"
           }
          ]
         },
         "layout": {
          "annotationdefaults": {
           "arrowcolor": "#2a3f5f",
           "arrowhead": 0,
           "arrowwidth": 1
          },
          "autotypenumbers": "strict",
          "coloraxis": {
           "colorbar": {
            "outlinewidth": 0,
            "ticks": ""
           }
          },
          "colorscale": {
           "diverging": [
            [
             0,
             "#8e0152"
            ],
            [
             0.1,
             "#c51b7d"
            ],
            [
             0.2,
             "#de77ae"
            ],
            [
             0.3,
             "#f1b6da"
            ],
            [
             0.4,
             "#fde0ef"
            ],
            [
             0.5,
             "#f7f7f7"
            ],
            [
             0.6,
             "#e6f5d0"
            ],
            [
             0.7,
             "#b8e186"
            ],
            [
             0.8,
             "#7fbc41"
            ],
            [
             0.9,
             "#4d9221"
            ],
            [
             1,
             "#276419"
            ]
           ],
           "sequential": [
            [
             0,
             "#0d0887"
            ],
            [
             0.1111111111111111,
             "#46039f"
            ],
            [
             0.2222222222222222,
             "#7201a8"
            ],
            [
             0.3333333333333333,
             "#9c179e"
            ],
            [
             0.4444444444444444,
             "#bd3786"
            ],
            [
             0.5555555555555556,
             "#d8576b"
            ],
            [
             0.6666666666666666,
             "#ed7953"
            ],
            [
             0.7777777777777778,
             "#fb9f3a"
            ],
            [
             0.8888888888888888,
             "#fdca26"
            ],
            [
             1,
             "#f0f921"
            ]
           ],
           "sequentialminus": [
            [
             0,
             "#0d0887"
            ],
            [
             0.1111111111111111,
             "#46039f"
            ],
            [
             0.2222222222222222,
             "#7201a8"
            ],
            [
             0.3333333333333333,
             "#9c179e"
            ],
            [
             0.4444444444444444,
             "#bd3786"
            ],
            [
             0.5555555555555556,
             "#d8576b"
            ],
            [
             0.6666666666666666,
             "#ed7953"
            ],
            [
             0.7777777777777778,
             "#fb9f3a"
            ],
            [
             0.8888888888888888,
             "#fdca26"
            ],
            [
             1,
             "#f0f921"
            ]
           ]
          },
          "colorway": [
           "#636efa",
           "#EF553B",
           "#00cc96",
           "#ab63fa",
           "#FFA15A",
           "#19d3f3",
           "#FF6692",
           "#B6E880",
           "#FF97FF",
           "#FECB52"
          ],
          "font": {
           "color": "#2a3f5f"
          },
          "geo": {
           "bgcolor": "white",
           "lakecolor": "white",
           "landcolor": "#E5ECF6",
           "showlakes": true,
           "showland": true,
           "subunitcolor": "white"
          },
          "hoverlabel": {
           "align": "left"
          },
          "hovermode": "closest",
          "mapbox": {
           "style": "light"
          },
          "paper_bgcolor": "white",
          "plot_bgcolor": "#E5ECF6",
          "polar": {
           "angularaxis": {
            "gridcolor": "white",
            "linecolor": "white",
            "ticks": ""
           },
           "bgcolor": "#E5ECF6",
           "radialaxis": {
            "gridcolor": "white",
            "linecolor": "white",
            "ticks": ""
           }
          },
          "scene": {
           "xaxis": {
            "backgroundcolor": "#E5ECF6",
            "gridcolor": "white",
            "gridwidth": 2,
            "linecolor": "white",
            "showbackground": true,
            "ticks": "",
            "zerolinecolor": "white"
           },
           "yaxis": {
            "backgroundcolor": "#E5ECF6",
            "gridcolor": "white",
            "gridwidth": 2,
            "linecolor": "white",
            "showbackground": true,
            "ticks": "",
            "zerolinecolor": "white"
           },
           "zaxis": {
            "backgroundcolor": "#E5ECF6",
            "gridcolor": "white",
            "gridwidth": 2,
            "linecolor": "white",
            "showbackground": true,
            "ticks": "",
            "zerolinecolor": "white"
           }
          },
          "shapedefaults": {
           "line": {
            "color": "#2a3f5f"
           }
          },
          "ternary": {
           "aaxis": {
            "gridcolor": "white",
            "linecolor": "white",
            "ticks": ""
           },
           "baxis": {
            "gridcolor": "white",
            "linecolor": "white",
            "ticks": ""
           },
           "bgcolor": "#E5ECF6",
           "caxis": {
            "gridcolor": "white",
            "linecolor": "white",
            "ticks": ""
           }
          },
          "title": {
           "x": 0.05
          },
          "xaxis": {
           "automargin": true,
           "gridcolor": "white",
           "linecolor": "white",
           "ticks": "",
           "title": {
            "standoff": 15
           },
           "zerolinecolor": "white",
           "zerolinewidth": 2
          },
          "yaxis": {
           "automargin": true,
           "gridcolor": "white",
           "linecolor": "white",
           "ticks": "",
           "title": {
            "standoff": 15
           },
           "zerolinecolor": "white",
           "zerolinewidth": 2
          }
         }
        },
        "title": {
         "text": "Cluster Socio-demographic Indicators",
         "x": 0.5
        },
        "xaxis": {
         "anchor": "y",
         "domain": [
          0,
          1
         ],
         "title": {
          "text": "0"
         }
        },
        "yaxis": {
         "anchor": "x",
         "domain": [
          0,
          1
         ],
         "title": {
          "text": "1"
         }
        }
       }
      }
     },
     "metadata": {},
     "output_type": "display_data"
    }
   ],
   "source": [
    "#Reload the oringinal dataframe, now only with socio-demographic indicators\n",
    "df_normalized = corr_df.copy()\n",
    "df_normalized.drop(df_normalized.columns.difference(soc_dem_ind), 1, inplace=True)\n",
    "df_normalized = df_normalized.dropna(how='all')\n",
    "df_normalized = df_normalized.fillna(value = 0)\n",
    "\n",
    "#Apply t-SNE\n",
    "tsne = TSNE(n_components = 2, perplexity = 5, n_iter = 20000, learning_rate = 100.0, init = 'pca')\n",
    "tsne_result = tsne.fit_transform(df_normalized)\n",
    "new_df_tsne = pd.DataFrame(np.hstack((np.array(df_normalized.index).reshape(-1, 1), tsne_result)), columns = ['Country', '1st_component', '2nd_component'])\n",
    "new_df_tsne.set_index('Country', inplace = True)\n",
    "\n",
    "#Apply Clustering\n",
    "X_affinity_socdem = pd.DataFrame(StandardScaler().fit_transform(new_df_tsne))\n",
    "X_affinity_socdem.index = new_df_tsne.index\n",
    "'''Apply AffinityPropagation'''\n",
    "optics = AffinityPropagation(damping=0.5).fit(X_affinity_socdem)\n",
    "labels_affinity = optics.labels_\n",
    "\n",
    "#Display plot\n",
    "X_affinity_socdem['Cluster'] = labels_affinity\n",
    "X_affinity_socdem['Cluster'] = X_affinity_socdem['Cluster'].astype(str)\n",
    "fig = px.scatter(X_affinity_socdem, x= X_affinity_socdem.columns[0], y=X_affinity_socdem.columns[1], text= X_affinity_socdem.index, size_max=100, color='Cluster', category_orders={\"Cluster\": sort(list(set(X_affinity_socdem.loc[:, 'Cluster'])))})\n",
    "fig.update_layout(title_text='Cluster Socio-demographic Indicators', title_x=0.5)\n",
    "fig.update_traces(textposition='top center')\n",
    "fig.show()"
   ]
  },
  {
   "cell_type": "markdown",
   "metadata": {},
   "source": [
    "# Economic indicators\n",
    "\n",
    "Perform the same code as before but for different indicators.\n",
    "\n",
    "TSNE() and AffinityPropagation() parameters have been optimized again for this case."
   ]
  },
  {
   "cell_type": "code",
   "execution_count": 7,
   "metadata": {},
   "outputs": [
    {
     "data": {
      "application/vnd.plotly.v1+json": {
       "config": {
        "plotlyServerURL": "https://plot.ly"
       },
       "data": [
        {
         "hovertemplate": "Cluster=0<br>0=%{x}<br>1=%{y}<br>Country=%{text}<extra></extra>",
         "legendgroup": "0",
         "marker": {
          "color": "#636efa",
          "symbol": "circle"
         },
         "mode": "markers+text",
         "name": "0",
         "orientation": "v",
         "showlegend": true,
         "text": [
          "Argentina",
          "Azerbaijan",
          "Madagascar",
          "Kazakhstan",
          "Equatorial Guinea",
          "Brazil",
          "Niger",
          "Rwanda",
          "Cambodia",
          "Egypt",
          "Saudi Arabia",
          "Mongolia",
          "Guinea-Bissau",
          "Senegal",
          "Albania",
          "Bangladesh",
          "Eritrea",
          "Zambia",
          "Qatar"
         ],
         "textposition": "top center",
         "type": "scatter",
         "x": [
          1.5192226854495328,
          1.4449424833616362,
          1.8926711355268537,
          1.7431612735356359,
          1.6930210168365296,
          1.9395898497660804,
          1.5483392613333518,
          1.7296878566012932,
          1.4190237721974523,
          1.3120051805454427,
          1.688594844881235,
          1.3607979585724521,
          1.2252853590580113,
          1.1525691597709764,
          1.6396447370760718,
          1.3450039274103434,
          1.482653198377097,
          1.3980969548649835,
          1.5681336564939612
         ],
         "xaxis": "x",
         "y": [
          0.44579632210342734,
          0.1318460564606378,
          0.5202270799812098,
          0.6244138847480744,
          0.472998233117581,
          0.5257922957185905,
          0.6717821166078275,
          0.5360703588902084,
          0.37085318229818304,
          0.17427710718376235,
          0.6199395178271331,
          0.14979843132951712,
          0.1675832233557702,
          0.12581128033441485,
          0.5573658386748653,
          0.052849158965055654,
          0.7257786381825032,
          0.3133773034622568,
          0.5961062158947623
         ],
         "yaxis": "y"
        },
        {
         "hovertemplate": "Cluster=1<br>0=%{x}<br>1=%{y}<br>Country=%{text}<extra></extra>",
         "legendgroup": "1",
         "marker": {
          "color": "#EF553B",
          "symbol": "circle"
         },
         "mode": "markers+text",
         "name": "1",
         "orientation": "v",
         "showlegend": true,
         "text": [
          "South Africa",
          "Bhutan",
          "Colombia",
          "Gambia",
          "Croatia",
          "Sri Lanka",
          "Ghana",
          "Iraq",
          "Latvia",
          "Panama",
          "India",
          "Kyrgyzstan",
          "Armenia",
          "Malawi",
          "Nepal",
          "Greece",
          "Guyana",
          "Poland"
         ],
         "textposition": "top center",
         "type": "scatter",
         "x": [
          -0.4526516947613777,
          0.12888221573122763,
          -0.31626057281034403,
          -0.3311424728425788,
          -0.4237020616225678,
          0.24028938358775095,
          -0.41461223095574523,
          -0.29924929054748334,
          -0.4957355935000117,
          0.23623892453550982,
          0.26958660008283614,
          0.19118722946713348,
          -0.3768472381452405,
          0.2130234628167002,
          0.056287034646527186,
          -0.37459743699392895,
          -0.3998269987225252,
          -0.4545623024994964
         ],
         "xaxis": "x",
         "y": [
          1.6714793390518679,
          1.3432130514820646,
          1.4792207548969063,
          1.298360070722783,
          1.5751337224820052,
          1.2988667859446077,
          1.2410324201362855,
          1.651765205353567,
          1.5210619215163854,
          1.4857139375793966,
          1.5607241360617732,
          1.3837174502230003,
          1.2093532689419941,
          1.556750354743038,
          1.2903951408297254,
          1.5901051907006314,
          1.6857321093701843,
          1.7907421986721053
         ],
         "yaxis": "y"
        },
        {
         "hovertemplate": "Cluster=2<br>0=%{x}<br>1=%{y}<br>Country=%{text}<extra></extra>",
         "legendgroup": "2",
         "marker": {
          "color": "#00cc96",
          "symbol": "circle"
         },
         "mode": "markers+text",
         "name": "2",
         "orientation": "v",
         "showlegend": true,
         "text": [
          "Barbados",
          "Central African Republic",
          "Lesotho",
          "Papua New Guinea",
          "Eswatini",
          "Bermuda",
          "Turkmenistan",
          "Seychelles",
          "French Polynesia",
          "Myanmar",
          "Georgia",
          "Nigeria",
          "Trinidad and Tobago",
          "Palau",
          "Nauru"
         ],
         "textposition": "top center",
         "type": "scatter",
         "x": [
          0.5617503952407124,
          0.5171108102628728,
          0.9123269798979988,
          0.8463967035547593,
          0.6303157986051724,
          0.5691996862789613,
          0.5726285068078821,
          0.5610738184895107,
          0.6370681128556867,
          0.9611724947100982,
          0.9650386196192788,
          0.8357793895769355,
          0.5761151029798376,
          0.5498930329990086,
          0.5597859255356324
         ],
         "xaxis": "x",
         "y": [
          -1.4254390780407236,
          -1.2950310375485166,
          -1.677124707501638,
          -1.5535741789580166,
          -1.690585352184627,
          -1.695241564487594,
          -1.1978529420141693,
          -1.9557995629459728,
          -1.7694249028234699,
          -1.6692726647698943,
          -1.7666665739949885,
          -1.6598086597788024,
          -1.773724064783639,
          -2.0135316407269053,
          -1.3075400587856798
         ],
         "yaxis": "y"
        },
        {
         "hovertemplate": "Cluster=3<br>0=%{x}<br>1=%{y}<br>Country=%{text}<extra></extra>",
         "legendgroup": "3",
         "marker": {
          "color": "#ab63fa",
          "symbol": "circle"
         },
         "mode": "markers+text",
         "name": "3",
         "orientation": "v",
         "showlegend": true,
         "text": [
          "Burkina Faso",
          "New Zealand",
          "Canada",
          "Finland",
          "Germany",
          "Ireland",
          "Estonia",
          "Australia",
          "Singapore",
          "Tunisia",
          "Uruguay",
          "Tajikistan",
          "Norway",
          "Switzerland",
          "Philippines",
          "Chile",
          "Nicaragua",
          "Belize",
          "Denmark",
          "Malaysia"
         ],
         "textposition": "top center",
         "type": "scatter",
         "x": [
          -0.9359521401260007,
          -1.2925536823355466,
          -1.3234189865308952,
          -1.3185825634811987,
          -1.4957538965921182,
          -1.6223929205032712,
          -1.668970949240302,
          -0.9774971814325449,
          -1.6319509002099075,
          -1.1609983963827981,
          -1.5717091520394613,
          -1.1939079114332238,
          -1.139377977808208,
          -1.5929444648884217,
          -0.922831247563976,
          -0.9639977385523136,
          -1.330362239252844,
          -1.571099499149116,
          -1.1857732378726078,
          -1.3386247921791607
         ],
         "xaxis": "x",
         "y": [
          -0.008604128679341268,
          -0.15619773900176792,
          0.10540812212062238,
          -0.24421444758860184,
          -0.30113913953536453,
          -0.315866668048222,
          -0.13566352924117986,
          0.03641261987285602,
          -0.38844819630724337,
          -0.14657319863435642,
          -0.343295374988273,
          -0.6338689394913671,
          -0.6627546442447774,
          -0.6319344698497815,
          0.0663368322376792,
          0.16729551433491055,
          0.03752550499107638,
          -0.6847276066228278,
          -0.7060333982154895,
          -0.1552513512726996
         ],
         "yaxis": "y"
        },
        {
         "hovertemplate": "Cluster=4<br>0=%{x}<br>1=%{y}<br>Country=%{text}<extra></extra>",
         "legendgroup": "4",
         "marker": {
          "color": "#FFA15A",
          "symbol": "circle"
         },
         "mode": "markers+text",
         "name": "4",
         "orientation": "v",
         "showlegend": true,
         "text": [
          "Iceland",
          "Belarus",
          "Dominican Republic",
          "Slovenia",
          "Saint Lucia",
          "El Salvador",
          "Russia",
          "Portugal",
          "Luxembourg",
          "Hungary",
          "Cyprus",
          "Ethiopia",
          "Lithuania"
         ],
         "textposition": "top center",
         "type": "scatter",
         "x": [
          -0.6106033560430774,
          -0.5538736918600151,
          -1.0234351284477592,
          -0.9868912759536046,
          -0.9862876892611733,
          -0.4435225071895412,
          -0.6112305715548023,
          -0.7019589268395378,
          -0.7268851297514889,
          -1.040959200118147,
          -0.5540768116482283,
          -0.754339420644051,
          -0.9317494390745014
         ],
         "xaxis": "x",
         "y": [
          0.9414810380232213,
          0.8460246632495221,
          1.30301628302575,
          0.7425741151891673,
          1.3326581018992267,
          0.7425442332935254,
          0.8663566753754436,
          0.8981058063937166,
          0.581227777423893,
          0.6784124495292897,
          0.9488718268786467,
          0.6319600211507149,
          0.8254330361926606
         ],
         "yaxis": "y"
        },
        {
         "hovertemplate": "Cluster=5<br>0=%{x}<br>1=%{y}<br>Country=%{text}<extra></extra>",
         "legendgroup": "5",
         "marker": {
          "color": "#19d3f3",
          "symbol": "circle"
         },
         "mode": "markers+text",
         "name": "5",
         "orientation": "v",
         "showlegend": true,
         "text": [
          "Slovakia",
          "Pakistan",
          "Puerto Rico",
          "Japan",
          "Jordan",
          "Bulgaria",
          "Honduras",
          "Fiji",
          "Suriname",
          "Thailand",
          "Congo",
          "Mexico",
          "Antigua and Barbuda",
          "Mali",
          "Ukraine",
          "Cameroon",
          "Romania",
          "North Macedonia",
          "Maldives"
         ],
         "textposition": "top center",
         "type": "scatter",
         "x": [
          -0.12851016967498127,
          -0.15105721832627372,
          -0.1207631915928343,
          -0.1696598930073916,
          -0.028961357766977218,
          -0.5495477100122014,
          -0.20865104053171546,
          -0.22430630741654403,
          -0.38417028866964453,
          0.35878661593992933,
          -0.32214908983049184,
          -0.12743345623598015,
          0.29162832588673565,
          -0.010935354082607332,
          -0.5057777927788385,
          -0.2918957378101817,
          -0.38610053816955703,
          -0.27410137788596994,
          0.23744871519124677
         ],
         "xaxis": "x",
         "y": [
          0.2765827612203221,
          0.026900048820070584,
          0.39315901175412893,
          0.5059307318984155,
          0.2372299168776242,
          -0.3328348598576879,
          0.09695527390730901,
          0.5006885981951115,
          0.0618677050241335,
          -0.02918921109025555,
          0.01075534107754978,
          0.6251859933443339,
          -0.010002543930197401,
          0.332884993487301,
          -0.3170121726395963,
          0.49384593141904026,
          -0.015550743588115479,
          0.05152547638776864,
          0.019156543454468468
         ],
         "yaxis": "y"
        },
        {
         "hovertemplate": "Cluster=6<br>0=%{x}<br>1=%{y}<br>Country=%{text}<extra></extra>",
         "legendgroup": "6",
         "marker": {
          "color": "#FF6692",
          "symbol": "circle"
         },
         "mode": "markers+text",
         "name": "6",
         "orientation": "v",
         "showlegend": true,
         "text": [
          "Sierra Leone",
          "Oman",
          "Djibouti",
          "Dominica",
          "Chad",
          "Yemen",
          "Kuwait",
          "Liberia",
          "Benin",
          "Guinea",
          "Vanuatu",
          "Uganda",
          "Solomon Islands",
          "Bahrain",
          "Mauritania",
          "Namibia",
          "Haiti",
          "Angola",
          "Kiribati",
          "Gabon",
          "Marshall Islands",
          "Uzbekistan",
          "Tonga",
          "Mozambique",
          "Cayman Islands"
         ],
         "textposition": "top center",
         "type": "scatter",
         "x": [
          0.39530752450810325,
          0.9748035349483001,
          1.1914631747472517,
          0.2513706883245604,
          0.6093968575458014,
          0.5193992834258853,
          0.967434669953361,
          0.9605482633763793,
          0.38032435810746734,
          1.039130280362336,
          0.4831567839893881,
          0.6336383139077475,
          0.4705037714019472,
          1.0950485905744163,
          1.313727100175869,
          0.6415470215960714,
          0.5107077916019159,
          0.8809757928181284,
          0.3622264436828068,
          1.2501508999908237,
          0.29764660572919466,
          1.2878039861261026,
          0.19582004351910745,
          0.43923868519569326,
          0.2567769181500791
         ],
         "xaxis": "x",
         "y": [
          -0.7464403615445672,
          -0.41727135978547997,
          -0.9614688863284381,
          -0.4874730632274838,
          -0.6855436760847913,
          -0.17119484307744598,
          -0.49605370064121357,
          -0.3563456544078212,
          -0.9211933905701438,
          -0.5412664773020808,
          -0.11057609755726226,
          -0.6245938034047811,
          -0.9716348604662967,
          -0.9035700956639137,
          -1.037828622730231,
          -0.5422755020816292,
          -1.0242372128287065,
          -0.578284144083162,
          -0.801939086877291,
          -1.0159365585611084,
          -0.6014500198293263,
          -1.0955863682933176,
          -1.0641254570975391,
          -0.05608701954357932,
          -0.622623386098139
         ],
         "yaxis": "y"
        },
        {
         "hovertemplate": "Cluster=7<br>0=%{x}<br>1=%{y}<br>Country=%{text}<extra></extra>",
         "legendgroup": "7",
         "marker": {
          "color": "#B6E880",
          "symbol": "circle"
         },
         "mode": "markers+text",
         "name": "7",
         "orientation": "v",
         "showlegend": true,
         "text": [
          "Lebanon",
          "Indonesia",
          "Morocco",
          "Algeria",
          "Bosnia and Herzegovina",
          "China",
          "Paraguay",
          "Togo",
          "Kenya"
         ],
         "textposition": "top center",
         "type": "scatter",
         "x": [
          1.3647419656354949,
          1.1230543673466815,
          1.2582851821838323,
          1.1975400374284355,
          1.4499834938280733,
          1.2472111422082341,
          1.188461287356996,
          1.4438036036242554,
          1.1850693043041167
         ],
         "xaxis": "x",
         "y": [
          1.2314730229398752,
          1.3295383809140506,
          1.1915736687354834,
          1.2222354307734546,
          1.2637610496829719,
          1.262712373926514,
          1.3705102908513322,
          1.1998171132199722,
          1.0956823463696634
         ],
         "yaxis": "y"
        },
        {
         "hovertemplate": "Cluster=8<br>0=%{x}<br>1=%{y}<br>Country=%{text}<extra></extra>",
         "legendgroup": "8",
         "marker": {
          "color": "#FF97FF",
          "symbol": "circle"
         },
         "mode": "markers+text",
         "name": "8",
         "orientation": "v",
         "showlegend": true,
         "text": [
          "United Kingdom",
          "Spain",
          "Sweden",
          "United States",
          "France",
          "Austria",
          "Czechia",
          "Peru",
          "Costa Rica",
          "Ecuador",
          "Israel",
          "Burundi",
          "Italy",
          "Belgium",
          "Netherlands"
         ],
         "textposition": "top center",
         "type": "scatter",
         "x": [
          -1.316954376392732,
          -1.1930887790310458,
          -1.4177889684810465,
          -1.5416898867692959,
          -1.184360987861495,
          -1.9870541893766258,
          -1.9491253847619707,
          -1.5041509821334604,
          -1.1574129798899875,
          -2.004663774869219,
          -1.3667449461346735,
          -1.4607650454438563,
          -1.2438758685431954,
          -1.9283784008450782,
          -1.2369655885421655
         ],
         "xaxis": "x",
         "y": [
          0.48361773525702995,
          0.3543052046461811,
          0.47159260279363185,
          0.3895019912992384,
          0.4665963881524319,
          0.7607313255042808,
          0.8579128689496638,
          0.4443773151616642,
          0.6864260332780717,
          0.8398807411848973,
          0.5504540540525712,
          0.607296091909786,
          0.3259798652488117,
          0.7709483159554255,
          0.4126969827385923
         ],
         "yaxis": "y"
        },
        {
         "hovertemplate": "Cluster=9<br>0=%{x}<br>1=%{y}<br>Country=%{text}<extra></extra>",
         "legendgroup": "9",
         "marker": {
          "color": "#FECB52",
          "symbol": "circle"
         },
         "mode": "markers+text",
         "name": "9",
         "orientation": "v",
         "showlegend": true,
         "text": [
          "Comoros",
          "Samoa",
          "Guatemala",
          "Jamaica",
          "United Arab Emirates",
          "Montenegro",
          "Serbia",
          "Botswana",
          "Afghanistan",
          "Malta",
          "Cuba",
          "Sao Tome and Principe",
          "Zimbabwe",
          "Mauritius"
         ],
         "textposition": "top center",
         "type": "scatter",
         "x": [
          0.09408400952869479,
          -0.09201104774654292,
          -0.5553989492677495,
          0.05577458768565678,
          -0.3857165820862738,
          -0.0887069764068539,
          -0.3618924458961373,
          -0.6651173414380936,
          -0.04559350877533904,
          -0.5132792335507665,
          -0.5776227588509674,
          -0.05379014683541207,
          -0.3254866483254744,
          -0.0522573204393028
         ],
         "xaxis": "x",
         "y": [
          -1.1704038668589265,
          -1.683597968920367,
          -1.7180327672345563,
          -1.210742510469336,
          -1.5546261749251014,
          -1.569394216392627,
          -1.6202832123711604,
          -1.669865577767609,
          -1.5712053912895878,
          -1.6706506798804563,
          -1.653683254273443,
          -1.4699422873805048,
          -1.5584270498904218,
          -1.7643334875275647
         ],
         "yaxis": "y"
        }
       ],
       "layout": {
        "legend": {
         "title": {
          "text": "Cluster"
         },
         "tracegroupgap": 0
        },
        "margin": {
         "t": 60
        },
        "template": {
         "data": {
          "bar": [
           {
            "error_x": {
             "color": "#2a3f5f"
            },
            "error_y": {
             "color": "#2a3f5f"
            },
            "marker": {
             "line": {
              "color": "#E5ECF6",
              "width": 0.5
             },
             "pattern": {
              "fillmode": "overlay",
              "size": 10,
              "solidity": 0.2
             }
            },
            "type": "bar"
           }
          ],
          "barpolar": [
           {
            "marker": {
             "line": {
              "color": "#E5ECF6",
              "width": 0.5
             },
             "pattern": {
              "fillmode": "overlay",
              "size": 10,
              "solidity": 0.2
             }
            },
            "type": "barpolar"
           }
          ],
          "carpet": [
           {
            "aaxis": {
             "endlinecolor": "#2a3f5f",
             "gridcolor": "white",
             "linecolor": "white",
             "minorgridcolor": "white",
             "startlinecolor": "#2a3f5f"
            },
            "baxis": {
             "endlinecolor": "#2a3f5f",
             "gridcolor": "white",
             "linecolor": "white",
             "minorgridcolor": "white",
             "startlinecolor": "#2a3f5f"
            },
            "type": "carpet"
           }
          ],
          "choropleth": [
           {
            "colorbar": {
             "outlinewidth": 0,
             "ticks": ""
            },
            "type": "choropleth"
           }
          ],
          "contour": [
           {
            "colorbar": {
             "outlinewidth": 0,
             "ticks": ""
            },
            "colorscale": [
             [
              0,
              "#0d0887"
             ],
             [
              0.1111111111111111,
              "#46039f"
             ],
             [
              0.2222222222222222,
              "#7201a8"
             ],
             [
              0.3333333333333333,
              "#9c179e"
             ],
             [
              0.4444444444444444,
              "#bd3786"
             ],
             [
              0.5555555555555556,
              "#d8576b"
             ],
             [
              0.6666666666666666,
              "#ed7953"
             ],
             [
              0.7777777777777778,
              "#fb9f3a"
             ],
             [
              0.8888888888888888,
              "#fdca26"
             ],
             [
              1,
              "#f0f921"
             ]
            ],
            "type": "contour"
           }
          ],
          "contourcarpet": [
           {
            "colorbar": {
             "outlinewidth": 0,
             "ticks": ""
            },
            "type": "contourcarpet"
           }
          ],
          "heatmap": [
           {
            "colorbar": {
             "outlinewidth": 0,
             "ticks": ""
            },
            "colorscale": [
             [
              0,
              "#0d0887"
             ],
             [
              0.1111111111111111,
              "#46039f"
             ],
             [
              0.2222222222222222,
              "#7201a8"
             ],
             [
              0.3333333333333333,
              "#9c179e"
             ],
             [
              0.4444444444444444,
              "#bd3786"
             ],
             [
              0.5555555555555556,
              "#d8576b"
             ],
             [
              0.6666666666666666,
              "#ed7953"
             ],
             [
              0.7777777777777778,
              "#fb9f3a"
             ],
             [
              0.8888888888888888,
              "#fdca26"
             ],
             [
              1,
              "#f0f921"
             ]
            ],
            "type": "heatmap"
           }
          ],
          "heatmapgl": [
           {
            "colorbar": {
             "outlinewidth": 0,
             "ticks": ""
            },
            "colorscale": [
             [
              0,
              "#0d0887"
             ],
             [
              0.1111111111111111,
              "#46039f"
             ],
             [
              0.2222222222222222,
              "#7201a8"
             ],
             [
              0.3333333333333333,
              "#9c179e"
             ],
             [
              0.4444444444444444,
              "#bd3786"
             ],
             [
              0.5555555555555556,
              "#d8576b"
             ],
             [
              0.6666666666666666,
              "#ed7953"
             ],
             [
              0.7777777777777778,
              "#fb9f3a"
             ],
             [
              0.8888888888888888,
              "#fdca26"
             ],
             [
              1,
              "#f0f921"
             ]
            ],
            "type": "heatmapgl"
           }
          ],
          "histogram": [
           {
            "marker": {
             "pattern": {
              "fillmode": "overlay",
              "size": 10,
              "solidity": 0.2
             }
            },
            "type": "histogram"
           }
          ],
          "histogram2d": [
           {
            "colorbar": {
             "outlinewidth": 0,
             "ticks": ""
            },
            "colorscale": [
             [
              0,
              "#0d0887"
             ],
             [
              0.1111111111111111,
              "#46039f"
             ],
             [
              0.2222222222222222,
              "#7201a8"
             ],
             [
              0.3333333333333333,
              "#9c179e"
             ],
             [
              0.4444444444444444,
              "#bd3786"
             ],
             [
              0.5555555555555556,
              "#d8576b"
             ],
             [
              0.6666666666666666,
              "#ed7953"
             ],
             [
              0.7777777777777778,
              "#fb9f3a"
             ],
             [
              0.8888888888888888,
              "#fdca26"
             ],
             [
              1,
              "#f0f921"
             ]
            ],
            "type": "histogram2d"
           }
          ],
          "histogram2dcontour": [
           {
            "colorbar": {
             "outlinewidth": 0,
             "ticks": ""
            },
            "colorscale": [
             [
              0,
              "#0d0887"
             ],
             [
              0.1111111111111111,
              "#46039f"
             ],
             [
              0.2222222222222222,
              "#7201a8"
             ],
             [
              0.3333333333333333,
              "#9c179e"
             ],
             [
              0.4444444444444444,
              "#bd3786"
             ],
             [
              0.5555555555555556,
              "#d8576b"
             ],
             [
              0.6666666666666666,
              "#ed7953"
             ],
             [
              0.7777777777777778,
              "#fb9f3a"
             ],
             [
              0.8888888888888888,
              "#fdca26"
             ],
             [
              1,
              "#f0f921"
             ]
            ],
            "type": "histogram2dcontour"
           }
          ],
          "mesh3d": [
           {
            "colorbar": {
             "outlinewidth": 0,
             "ticks": ""
            },
            "type": "mesh3d"
           }
          ],
          "parcoords": [
           {
            "line": {
             "colorbar": {
              "outlinewidth": 0,
              "ticks": ""
             }
            },
            "type": "parcoords"
           }
          ],
          "pie": [
           {
            "automargin": true,
            "type": "pie"
           }
          ],
          "scatter": [
           {
            "fillpattern": {
             "fillmode": "overlay",
             "size": 10,
             "solidity": 0.2
            },
            "type": "scatter"
           }
          ],
          "scatter3d": [
           {
            "line": {
             "colorbar": {
              "outlinewidth": 0,
              "ticks": ""
             }
            },
            "marker": {
             "colorbar": {
              "outlinewidth": 0,
              "ticks": ""
             }
            },
            "type": "scatter3d"
           }
          ],
          "scattercarpet": [
           {
            "marker": {
             "colorbar": {
              "outlinewidth": 0,
              "ticks": ""
             }
            },
            "type": "scattercarpet"
           }
          ],
          "scattergeo": [
           {
            "marker": {
             "colorbar": {
              "outlinewidth": 0,
              "ticks": ""
             }
            },
            "type": "scattergeo"
           }
          ],
          "scattergl": [
           {
            "marker": {
             "colorbar": {
              "outlinewidth": 0,
              "ticks": ""
             }
            },
            "type": "scattergl"
           }
          ],
          "scattermapbox": [
           {
            "marker": {
             "colorbar": {
              "outlinewidth": 0,
              "ticks": ""
             }
            },
            "type": "scattermapbox"
           }
          ],
          "scatterpolar": [
           {
            "marker": {
             "colorbar": {
              "outlinewidth": 0,
              "ticks": ""
             }
            },
            "type": "scatterpolar"
           }
          ],
          "scatterpolargl": [
           {
            "marker": {
             "colorbar": {
              "outlinewidth": 0,
              "ticks": ""
             }
            },
            "type": "scatterpolargl"
           }
          ],
          "scatterternary": [
           {
            "marker": {
             "colorbar": {
              "outlinewidth": 0,
              "ticks": ""
             }
            },
            "type": "scatterternary"
           }
          ],
          "surface": [
           {
            "colorbar": {
             "outlinewidth": 0,
             "ticks": ""
            },
            "colorscale": [
             [
              0,
              "#0d0887"
             ],
             [
              0.1111111111111111,
              "#46039f"
             ],
             [
              0.2222222222222222,
              "#7201a8"
             ],
             [
              0.3333333333333333,
              "#9c179e"
             ],
             [
              0.4444444444444444,
              "#bd3786"
             ],
             [
              0.5555555555555556,
              "#d8576b"
             ],
             [
              0.6666666666666666,
              "#ed7953"
             ],
             [
              0.7777777777777778,
              "#fb9f3a"
             ],
             [
              0.8888888888888888,
              "#fdca26"
             ],
             [
              1,
              "#f0f921"
             ]
            ],
            "type": "surface"
           }
          ],
          "table": [
           {
            "cells": {
             "fill": {
              "color": "#EBF0F8"
             },
             "line": {
              "color": "white"
             }
            },
            "header": {
             "fill": {
              "color": "#C8D4E3"
             },
             "line": {
              "color": "white"
             }
            },
            "type": "table"
           }
          ]
         },
         "layout": {
          "annotationdefaults": {
           "arrowcolor": "#2a3f5f",
           "arrowhead": 0,
           "arrowwidth": 1
          },
          "autotypenumbers": "strict",
          "coloraxis": {
           "colorbar": {
            "outlinewidth": 0,
            "ticks": ""
           }
          },
          "colorscale": {
           "diverging": [
            [
             0,
             "#8e0152"
            ],
            [
             0.1,
             "#c51b7d"
            ],
            [
             0.2,
             "#de77ae"
            ],
            [
             0.3,
             "#f1b6da"
            ],
            [
             0.4,
             "#fde0ef"
            ],
            [
             0.5,
             "#f7f7f7"
            ],
            [
             0.6,
             "#e6f5d0"
            ],
            [
             0.7,
             "#b8e186"
            ],
            [
             0.8,
             "#7fbc41"
            ],
            [
             0.9,
             "#4d9221"
            ],
            [
             1,
             "#276419"
            ]
           ],
           "sequential": [
            [
             0,
             "#0d0887"
            ],
            [
             0.1111111111111111,
             "#46039f"
            ],
            [
             0.2222222222222222,
             "#7201a8"
            ],
            [
             0.3333333333333333,
             "#9c179e"
            ],
            [
             0.4444444444444444,
             "#bd3786"
            ],
            [
             0.5555555555555556,
             "#d8576b"
            ],
            [
             0.6666666666666666,
             "#ed7953"
            ],
            [
             0.7777777777777778,
             "#fb9f3a"
            ],
            [
             0.8888888888888888,
             "#fdca26"
            ],
            [
             1,
             "#f0f921"
            ]
           ],
           "sequentialminus": [
            [
             0,
             "#0d0887"
            ],
            [
             0.1111111111111111,
             "#46039f"
            ],
            [
             0.2222222222222222,
             "#7201a8"
            ],
            [
             0.3333333333333333,
             "#9c179e"
            ],
            [
             0.4444444444444444,
             "#bd3786"
            ],
            [
             0.5555555555555556,
             "#d8576b"
            ],
            [
             0.6666666666666666,
             "#ed7953"
            ],
            [
             0.7777777777777778,
             "#fb9f3a"
            ],
            [
             0.8888888888888888,
             "#fdca26"
            ],
            [
             1,
             "#f0f921"
            ]
           ]
          },
          "colorway": [
           "#636efa",
           "#EF553B",
           "#00cc96",
           "#ab63fa",
           "#FFA15A",
           "#19d3f3",
           "#FF6692",
           "#B6E880",
           "#FF97FF",
           "#FECB52"
          ],
          "font": {
           "color": "#2a3f5f"
          },
          "geo": {
           "bgcolor": "white",
           "lakecolor": "white",
           "landcolor": "#E5ECF6",
           "showlakes": true,
           "showland": true,
           "subunitcolor": "white"
          },
          "hoverlabel": {
           "align": "left"
          },
          "hovermode": "closest",
          "mapbox": {
           "style": "light"
          },
          "paper_bgcolor": "white",
          "plot_bgcolor": "#E5ECF6",
          "polar": {
           "angularaxis": {
            "gridcolor": "white",
            "linecolor": "white",
            "ticks": ""
           },
           "bgcolor": "#E5ECF6",
           "radialaxis": {
            "gridcolor": "white",
            "linecolor": "white",
            "ticks": ""
           }
          },
          "scene": {
           "xaxis": {
            "backgroundcolor": "#E5ECF6",
            "gridcolor": "white",
            "gridwidth": 2,
            "linecolor": "white",
            "showbackground": true,
            "ticks": "",
            "zerolinecolor": "white"
           },
           "yaxis": {
            "backgroundcolor": "#E5ECF6",
            "gridcolor": "white",
            "gridwidth": 2,
            "linecolor": "white",
            "showbackground": true,
            "ticks": "",
            "zerolinecolor": "white"
           },
           "zaxis": {
            "backgroundcolor": "#E5ECF6",
            "gridcolor": "white",
            "gridwidth": 2,
            "linecolor": "white",
            "showbackground": true,
            "ticks": "",
            "zerolinecolor": "white"
           }
          },
          "shapedefaults": {
           "line": {
            "color": "#2a3f5f"
           }
          },
          "ternary": {
           "aaxis": {
            "gridcolor": "white",
            "linecolor": "white",
            "ticks": ""
           },
           "baxis": {
            "gridcolor": "white",
            "linecolor": "white",
            "ticks": ""
           },
           "bgcolor": "#E5ECF6",
           "caxis": {
            "gridcolor": "white",
            "linecolor": "white",
            "ticks": ""
           }
          },
          "title": {
           "x": 0.05
          },
          "xaxis": {
           "automargin": true,
           "gridcolor": "white",
           "linecolor": "white",
           "ticks": "",
           "title": {
            "standoff": 15
           },
           "zerolinecolor": "white",
           "zerolinewidth": 2
          },
          "yaxis": {
           "automargin": true,
           "gridcolor": "white",
           "linecolor": "white",
           "ticks": "",
           "title": {
            "standoff": 15
           },
           "zerolinecolor": "white",
           "zerolinewidth": 2
          }
         }
        },
        "title": {
         "text": "Cluster Economic Indicators",
         "x": 0.5
        },
        "xaxis": {
         "anchor": "y",
         "domain": [
          0,
          1
         ],
         "title": {
          "text": "0"
         }
        },
        "yaxis": {
         "anchor": "x",
         "domain": [
          0,
          1
         ],
         "title": {
          "text": "1"
         }
        }
       }
      }
     },
     "metadata": {},
     "output_type": "display_data"
    }
   ],
   "source": [
    "#Reload the oringinal dataframe, now only with economic indicators\n",
    "df_normalized = corr_df.copy()\n",
    "df_normalized.drop(df_normalized.columns.difference(economic_ind), 1, inplace=True)\n",
    "df_normalized = df_normalized.dropna(how='all')\n",
    "df_normalized = df_normalized.fillna(value = 0)\n",
    "\n",
    "#Apply t-SNE\n",
    "tsne = TSNE(n_components = 2, perplexity = 5, n_iter = 20000, learning_rate = 100.0, init = 'pca')\n",
    "tsne_result = tsne.fit_transform(df_normalized)\n",
    "new_df_tsne = pd.DataFrame(np.hstack((np.array(df_normalized.index).reshape(-1, 1), tsne_result)), columns = ['Country', '1st_component', '2nd_component'])\n",
    "new_df_tsne.set_index('Country', inplace = True)\n",
    "\n",
    "#Apply Clustering\n",
    "X_affinity_economic = pd.DataFrame(StandardScaler().fit_transform(new_df_tsne))\n",
    "X_affinity_economic.index = new_df_tsne.index\n",
    "'''Apply AffinityPropagation'''\n",
    "optics = AffinityPropagation(damping=0.9).fit(X_affinity_economic)\n",
    "labels_affinity = optics.labels_\n",
    "\n",
    "#Display plot\n",
    "X_affinity_economic['Cluster'] = labels_affinity\n",
    "X_affinity_economic['Cluster'] = X_affinity_economic['Cluster'].astype(str)\n",
    "fig = px.scatter(X_affinity_economic, x= X_affinity_economic.columns[0], y=X_affinity_economic.columns[1], text= X_affinity_economic.index, size_max=100, color='Cluster', category_orders={\"Cluster\": sort(list(set(X_affinity_economic.loc[:, 'Cluster'])))})\n",
    "fig.update_layout(title_text='Cluster Economic Indicators', title_x=0.5)\n",
    "fig.update_traces(textposition='top center')\n",
    "fig.show()"
   ]
  },
  {
   "cell_type": "markdown",
   "metadata": {},
   "source": [
    "# All indicators\n",
    "\n",
    "Perform the same code as before but for different indicators.\n",
    "\n",
    "TSNE() and AffinityPropagation() parameters have been optimized again for this case."
   ]
  },
  {
   "cell_type": "code",
   "execution_count": 8,
   "metadata": {},
   "outputs": [
    {
     "data": {
      "application/vnd.plotly.v1+json": {
       "config": {
        "plotlyServerURL": "https://plot.ly"
       },
       "data": [
        {
         "hovertemplate": "Cluster=0<br>0=%{x}<br>1=%{y}<br>Country=%{text}<extra></extra>",
         "legendgroup": "0",
         "marker": {
          "color": "#636efa",
          "symbol": "circle"
         },
         "mode": "markers+text",
         "name": "0",
         "orientation": "v",
         "showlegend": true,
         "text": [
          "Comoros",
          "Sierra Leone",
          "Central African Republic",
          "Pakistan",
          "Eswatini",
          "Chad",
          "Jordan",
          "Benin",
          "Honduras",
          "Afghanistan",
          "Haiti",
          "Ethiopia",
          "Angola",
          "Kiribati",
          "Mali",
          "Sao Tome and Principe",
          "Cameroon",
          "Kenya"
         ],
         "textposition": "top center",
         "type": "scatter",
         "x": [
          -1.0080309431364611,
          -1.156773432338604,
          -0.9284909531230466,
          -0.6493235611391482,
          -1.1290506470960469,
          -1.087503128528678,
          -1.3098335337220708,
          -1.1983785029859728,
          -0.6267831339266587,
          -1.0629560463831318,
          -0.888158145298075,
          -0.5316201665558551,
          -1.2403253537251984,
          -1.1062791500054732,
          -0.40021885999769086,
          -1.0243620350829532,
          -0.4641958801742554,
          -0.6683669671672611
         ],
         "xaxis": "x",
         "y": [
          0.8829003821346221,
          1.2136586746674785,
          1.2009457389205997,
          0.8832324585060004,
          0.7646157820181639,
          1.1626921231727176,
          1.0014764736543509,
          1.3048531623238007,
          0.8100106155537186,
          0.7666957777133026,
          1.2503334644056334,
          0.5815687320602054,
          0.8890135331548902,
          1.266251004670728,
          0.8233951649883625,
          0.6888267951164692,
          0.7003376825765597,
          1.0009976224854742
         ],
         "yaxis": "y"
        },
        {
         "hovertemplate": "Cluster=1<br>0=%{x}<br>1=%{y}<br>Country=%{text}<extra></extra>",
         "legendgroup": "1",
         "marker": {
          "color": "#EF553B",
          "symbol": "circle"
         },
         "mode": "markers+text",
         "name": "1",
         "orientation": "v",
         "showlegend": true,
         "text": [
          "Burkina Faso",
          "Bhutan",
          "Madagascar",
          "Lesotho",
          "Equatorial Guinea",
          "Brazil",
          "Indonesia",
          "Sri Lanka",
          "Ghana",
          "Iraq",
          "Saudi Arabia",
          "Luxembourg",
          "India",
          "Myanmar",
          "Thailand",
          "Namibia",
          "China",
          "Malawi",
          "Paraguay",
          "Nepal",
          "Belize",
          "Togo"
         ],
         "textposition": "top center",
         "type": "scatter",
         "x": [
          -0.9306426082816128,
          -0.7539408361429005,
          -0.6228980239034193,
          -0.6393190625138635,
          -0.7300591783834031,
          -0.565581321571835,
          -0.3268062064596449,
          -0.9191016069696192,
          -0.5516957622463049,
          -0.7180418216068577,
          -0.8842955219408236,
          -1.1372772344595323,
          -0.35470203564334013,
          -0.8145020800623939,
          -0.11901979424169178,
          -1.1193474353326787,
          -0.1562084118027533,
          -0.7819941581443205,
          -0.2497976356386743,
          -0.7154197126566142,
          -0.5116883649095972,
          -0.8410599526197997
         ],
         "xaxis": "x",
         "y": [
          -0.09266707588492601,
          0.3022014126675934,
          -0.054834135230400344,
          -0.42648945311179376,
          -0.36523033502206853,
          -0.09394312259613236,
          -0.06613323797775492,
          0.28756474300056417,
          0.4815268178341583,
          -0.2505568966083085,
          -0.2671596217628652,
          0.05106460474784674,
          0.036419477199191225,
          0.07108910982692031,
          -0.3361740384374223,
          -0.0872858853770301,
          -0.27794406402122585,
          0.2181702040415125,
          -0.17276982361034213,
          0.42875774061639244,
          0.36917765674608005,
          -0.08611120460835563
         ],
         "yaxis": "y"
        },
        {
         "hovertemplate": "Cluster=2<br>0=%{x}<br>1=%{y}<br>Country=%{text}<extra></extra>",
         "legendgroup": "2",
         "marker": {
          "color": "#00cc96",
          "symbol": "circle"
         },
         "mode": "markers+text",
         "name": "2",
         "orientation": "v",
         "showlegend": true,
         "text": [
          "New Zealand",
          "United Kingdom",
          "Spain",
          "Canada",
          "Germany",
          "United States",
          "Portugal",
          "Bulgaria",
          "France",
          "Australia",
          "Hungary",
          "Israel",
          "Switzerland",
          "Belgium",
          "Netherlands"
         ],
         "textposition": "top center",
         "type": "scatter",
         "x": [
          0.465476856533568,
          0.7594429732560517,
          0.7069522885310616,
          0.6449976467225841,
          1.000011959993544,
          0.6340885982650823,
          1.0723669002110194,
          1.0730719131910205,
          0.6336030241290337,
          0.7953117901812561,
          1.1053306294333451,
          0.47973689208023645,
          0.6560952040888285,
          0.6470060247718087,
          0.532467003796724
         ],
         "xaxis": "x",
         "y": [
          1.2248953723984997,
          1.3516743227258445,
          1.2943224243549813,
          1.5326715745204023,
          1.1955153286871185,
          1.6572043944891823,
          0.8727455857483527,
          1.1117085915962128,
          1.3847767348116482,
          1.2540735846836972,
          1.0043765944340224,
          1.0115747340866321,
          1.0817498100987264,
          1.1803761708056029,
          1.2335163657190598
         ],
         "yaxis": "y"
        },
        {
         "hovertemplate": "Cluster=3<br>0=%{x}<br>1=%{y}<br>Country=%{text}<extra></extra>",
         "legendgroup": "3",
         "marker": {
          "color": "#ab63fa",
          "symbol": "circle"
         },
         "mode": "markers+text",
         "name": "3",
         "orientation": "v",
         "showlegend": true,
         "text": [
          "Argentina",
          "Azerbaijan",
          "Djibouti",
          "Papua New Guinea",
          "Kazakhstan",
          "Niger",
          "Kuwait",
          "Liberia",
          "Rwanda",
          "Cambodia",
          "Mongolia",
          "Vanuatu",
          "Senegal",
          "Uganda",
          "Bahrain",
          "Mauritania",
          "Bangladesh",
          "Eritrea",
          "Zambia",
          "Qatar",
          "Mozambique"
         ],
         "textposition": "top center",
         "type": "scatter",
         "x": [
          -0.9173186125151254,
          -1.457267057727445,
          -1.1213356529227416,
          -1.2670078937373348,
          -1.5028739795184127,
          -0.8354047715133239,
          -0.6794578043804516,
          -1.3693749513377302,
          -0.9306144353322714,
          -0.9903794272706858,
          -1.5545012107317848,
          -1.514832922656874,
          -1.7148063263538253,
          -1.0833199194084322,
          -1.1845216335446342,
          -1.0645546674076851,
          -1.073080043114644,
          -0.7500241500158885,
          -0.9836743514832504,
          -0.9284372780544238,
          -1.4534415675236068
         ],
         "xaxis": "x",
         "y": [
          -0.7774084089502267,
          -1.2959013152574723,
          -0.4890703483601493,
          -0.6636334355435909,
          -1.220799700073949,
          -0.5595410321589676,
          -0.6681803669784568,
          -0.3044800726774835,
          -0.45932497561730806,
          -0.8805901268143496,
          -1.233543508696726,
          -0.33757331937825497,
          -0.24339998510872113,
          -0.6327118062290347,
          -0.594536273129778,
          -0.3651079369328311,
          -0.9212992939289716,
          -0.6288317289135663,
          -0.6078264673374585,
          -0.37891978626545125,
          -0.31694087993786163
         ],
         "yaxis": "y"
        },
        {
         "hovertemplate": "Cluster=4<br>0=%{x}<br>1=%{y}<br>Country=%{text}<extra></extra>",
         "legendgroup": "4",
         "marker": {
          "color": "#FFA15A",
          "symbol": "circle"
         },
         "mode": "markers+text",
         "name": "4",
         "orientation": "v",
         "showlegend": true,
         "text": [
          "Iceland",
          "South Africa",
          "Dominican Republic",
          "Sweden",
          "Finland",
          "Slovenia",
          "Malta",
          "Uruguay",
          "Tajikistan",
          "Burundi",
          "Norway",
          "Nicaragua",
          "Denmark",
          "Maldives"
         ],
         "textposition": "top center",
         "type": "scatter",
         "x": [
          0.09434363153321224,
          0.13755156637869723,
          -0.22909958577160686,
          0.07401386543855551,
          0.40736997620539567,
          0.38662413140362756,
          0.3838338463154197,
          0.13244537008324034,
          0.017039320130489678,
          -0.17552829181996835,
          0.014664704509303426,
          -0.22528224806113695,
          -0.07122549090155347,
          -0.12831355456427143
         ],
         "xaxis": "x",
         "y": [
          1.0595428861467793,
          1.2740118024865794,
          1.5480289007249306,
          1.4270517356007237,
          1.3798759230368012,
          1.483290409521497,
          1.1557640568657244,
          0.9490479628488352,
          1.3145234475139453,
          1.2853942459192358,
          1.2246539207815803,
          1.426788544333693,
          1.2012302839267932,
          1.03985467432018
         ],
         "yaxis": "y"
        },
        {
         "hovertemplate": "Cluster=5<br>0=%{x}<br>1=%{y}<br>Country=%{text}<extra></extra>",
         "legendgroup": "5",
         "marker": {
          "color": "#19d3f3",
          "symbol": "circle"
         },
         "mode": "markers+text",
         "name": "5",
         "orientation": "v",
         "showlegend": true,
         "text": [
          "Oman",
          "Lebanon",
          "Turkmenistan",
          "Morocco",
          "Algeria",
          "Guinea",
          "Guinea-Bissau",
          "Solomon Islands",
          "Tunisia",
          "Gabon",
          "Nigeria",
          "Uzbekistan"
         ],
         "textposition": "top center",
         "type": "scatter",
         "x": [
          -1.5040691328923066,
          -1.8715737121720282,
          -1.3628147034641873,
          -1.3668416259480258,
          -1.8734543211574204,
          -1.4158917646210347,
          -1.7154893696026887,
          -1.4034353578449679,
          -1.936972690888056,
          -1.551200581712618,
          -1.4238774603442803,
          -1.610980995540733
         ],
         "xaxis": "x",
         "y": [
          0.31866569226929486,
          0.6754843742937278,
          0.5242981322625403,
          0.08752740676802709,
          0.58655634163927,
          0.15490406762501496,
          -0.16749850516547293,
          0.679438353555877,
          0.6605471764753786,
          0.48177724188063537,
          0.583716133534388,
          0.4913293418427328
         ],
         "yaxis": "y"
        },
        {
         "hovertemplate": "Cluster=6<br>0=%{x}<br>1=%{y}<br>Country=%{text}<extra></extra>",
         "legendgroup": "6",
         "marker": {
          "color": "#FF6692",
          "symbol": "circle"
         },
         "mode": "markers+text",
         "name": "6",
         "orientation": "v",
         "showlegend": true,
         "text": [
          "Belarus",
          "Croatia",
          "Russia",
          "Estonia",
          "Bosnia and Herzegovina",
          "Serbia",
          "Latvia",
          "Georgia",
          "Albania",
          "Armenia",
          "Lithuania",
          "Palau",
          "Ukraine",
          "Romania",
          "Poland"
         ],
         "textposition": "top center",
         "type": "scatter",
         "x": [
          1.4053547056664968,
          1.6542810642846006,
          1.3546675204783956,
          1.760038697568115,
          1.597625693938167,
          1.5008792689650854,
          1.7391231689017357,
          1.5474728470736594,
          1.6381366719748753,
          1.8252856974381544,
          1.670478356260673,
          1.648897360130341,
          1.53694098874526,
          1.5766581271635243,
          1.8289178540079802
         ],
         "xaxis": "x",
         "y": [
          0.3779736285226415,
          0.5437075555879313,
          0.3561695152030492,
          0.21917338759253568,
          1.064725863143636,
          0.9946919019017921,
          0.4112276392928028,
          0.6328570046492203,
          1.0061053468473296,
          0.4903488707590044,
          0.3660977014643024,
          0.6253989539726442,
          0.49535358905679583,
          0.9178064133577856,
          0.36448013964309695
         ],
         "yaxis": "y"
        },
        {
         "hovertemplate": "Cluster=7<br>0=%{x}<br>1=%{y}<br>Country=%{text}<extra></extra>",
         "legendgroup": "7",
         "marker": {
          "color": "#B6E880",
          "symbol": "circle"
         },
         "mode": "markers+text",
         "name": "7",
         "orientation": "v",
         "showlegend": true,
         "text": [
          "Colombia",
          "Guatemala",
          "Jamaica",
          "United Arab Emirates",
          "Ireland",
          "El Salvador",
          "Montenegro",
          "Botswana",
          "Panama",
          "Singapore",
          "Peru",
          "Costa Rica",
          "Ecuador",
          "Cuba",
          "Philippines",
          "Chile",
          "Tonga",
          "Malaysia",
          "North Macedonia"
         ],
         "textposition": "top center",
         "type": "scatter",
         "x": [
          0.4519015011961222,
          -0.05366039469632461,
          0.2978262259224743,
          -0.004014467069392695,
          0.15333843362258354,
          0.576910779096612,
          0.3864597461212321,
          0.09389127046129538,
          0.7092324881557358,
          0.5901531422346562,
          0.2290366715233276,
          0.7215565596101258,
          0.3718375546340242,
          0.3347927540022911,
          0.6440013409544388,
          0.6010600798748524,
          0.5724470035863657,
          0.29960719571547106,
          0.6089556135446249
         ],
         "xaxis": "x",
         "y": [
          0.4335888954649946,
          0.48481275308481814,
          -0.0075963839592074305,
          0.5115612057183492,
          0.4850051296927577,
          -0.4927893721730162,
          0.006962838204299518,
          0.511704635954292,
          0.1832152988046553,
          -0.05191764539465367,
          0.34689392043571354,
          0.4111596868065814,
          0.5558311409976149,
          0.06649081605672251,
          0.28548391116503663,
          0.3290136049261556,
          -0.40176577874848785,
          0.19941582435252578,
          -0.13923781224049275
         ],
         "yaxis": "y"
        },
        {
         "hovertemplate": "Cluster=8<br>0=%{x}<br>1=%{y}<br>Country=%{text}<extra></extra>",
         "legendgroup": "8",
         "marker": {
          "color": "#FF97FF",
          "symbol": "circle"
         },
         "mode": "markers+text",
         "name": "8",
         "orientation": "v",
         "showlegend": true,
         "text": [
          "Greenland",
          "Tuvalu",
          "Libya",
          "Slovakia",
          "Bermuda",
          "Dominica",
          "Yemen",
          "Gambia",
          "Japan",
          "Seychelles",
          "Saint Lucia",
          "Egypt",
          "Austria",
          "Czechia",
          "Fiji",
          "French Polynesia",
          "Kyrgyzstan",
          "Congo",
          "New Caledonia",
          "Italy",
          "Greece",
          "Marshall Islands",
          "Trinidad and Tobago",
          "Nauru",
          "Grenada",
          "Andorra",
          "Cayman Islands"
         ],
         "textposition": "top center",
         "type": "scatter",
         "x": [
          0.7715725910509205,
          1.0744604001989269,
          0.8857105136600764,
          1.0901535945401484,
          0.7495253196856174,
          1.0378903611492902,
          1.2146945725441705,
          1.1746563314280616,
          0.9423506344284261,
          0.822427263130519,
          1.2225587024217872,
          1.2394867679645674,
          1.508585389090127,
          1.3081752616004805,
          0.8954507724210493,
          0.8279345147140004,
          1.3583899683354073,
          1.2293309797397616,
          0.8189065921767411,
          1.4311695705324043,
          1.3646965735090695,
          1.1213418248633096,
          0.8482655623763068,
          0.9224485565360605,
          0.9889534312084971,
          1.0545104196771,
          0.9665930696355289
         ],
         "xaxis": "x",
         "y": [
          -1.0550108128577116,
          -2.0808264330613455,
          -1.6236984487622672,
          -1.6393021147890652,
          -1.6537584675653025,
          -1.3389454365673576,
          -1.7688537066460195,
          -1.5156828746729012,
          -1.7122291217765209,
          -1.2097405213793417,
          -1.382352056895079,
          -1.6745977874334586,
          -1.1884959950150242,
          -1.4161070443951773,
          -0.981659303826658,
          -1.6386676771893607,
          -1.629206941644374,
          -1.54201769508789,
          -1.0910008679358447,
          -1.153004922793593,
          -1.1285891088896327,
          -2.108121657190729,
          -2.0932887839655185,
          -2.0540153985356295,
          -1.1072598107535785,
          -1.4947187769313242,
          -1.4735429427158797
         ],
         "yaxis": "y"
        },
        {
         "hovertemplate": "Cluster=9<br>0=%{x}<br>1=%{y}<br>Country=%{text}<extra></extra>",
         "legendgroup": "9",
         "marker": {
          "color": "#FECB52",
          "symbol": "circle"
         },
         "mode": "markers+text",
         "name": "9",
         "orientation": "v",
         "showlegend": true,
         "text": [
          "Barbados",
          "Samoa",
          "Puerto Rico",
          "Aruba",
          "Suriname",
          "Cyprus",
          "Mexico",
          "Antigua and Barbuda",
          "Liechtenstein",
          "Zimbabwe",
          "Mauritius",
          "Guyana"
         ],
         "textposition": "top center",
         "type": "scatter",
         "x": [
          0.2332898606989329,
          -0.21694792285926798,
          0.40606958351156136,
          0.36403799853479074,
          -0.3064325116721887,
          -0.20020028911819457,
          0.5905256368722016,
          0.2834819730731111,
          0.4180175417844538,
          -0.16844744747426893,
          0.2856139847073659,
          -0.11685683517182882
         ],
         "xaxis": "x",
         "y": [
          -1.5949237706924535,
          -1.2092702245698284,
          -1.7504353347962012,
          -1.5618976403375144,
          -1.238898280384257,
          -1.3468238085855873,
          -0.628806901975865,
          -1.6349885308411953,
          -1.5262137412787036,
          -1.1332085915828591,
          -1.4391091378569734,
          -1.282522940398008
         ],
         "yaxis": "y"
        }
       ],
       "layout": {
        "legend": {
         "title": {
          "text": "Cluster"
         },
         "tracegroupgap": 0
        },
        "margin": {
         "t": 60
        },
        "template": {
         "data": {
          "bar": [
           {
            "error_x": {
             "color": "#2a3f5f"
            },
            "error_y": {
             "color": "#2a3f5f"
            },
            "marker": {
             "line": {
              "color": "#E5ECF6",
              "width": 0.5
             },
             "pattern": {
              "fillmode": "overlay",
              "size": 10,
              "solidity": 0.2
             }
            },
            "type": "bar"
           }
          ],
          "barpolar": [
           {
            "marker": {
             "line": {
              "color": "#E5ECF6",
              "width": 0.5
             },
             "pattern": {
              "fillmode": "overlay",
              "size": 10,
              "solidity": 0.2
             }
            },
            "type": "barpolar"
           }
          ],
          "carpet": [
           {
            "aaxis": {
             "endlinecolor": "#2a3f5f",
             "gridcolor": "white",
             "linecolor": "white",
             "minorgridcolor": "white",
             "startlinecolor": "#2a3f5f"
            },
            "baxis": {
             "endlinecolor": "#2a3f5f",
             "gridcolor": "white",
             "linecolor": "white",
             "minorgridcolor": "white",
             "startlinecolor": "#2a3f5f"
            },
            "type": "carpet"
           }
          ],
          "choropleth": [
           {
            "colorbar": {
             "outlinewidth": 0,
             "ticks": ""
            },
            "type": "choropleth"
           }
          ],
          "contour": [
           {
            "colorbar": {
             "outlinewidth": 0,
             "ticks": ""
            },
            "colorscale": [
             [
              0,
              "#0d0887"
             ],
             [
              0.1111111111111111,
              "#46039f"
             ],
             [
              0.2222222222222222,
              "#7201a8"
             ],
             [
              0.3333333333333333,
              "#9c179e"
             ],
             [
              0.4444444444444444,
              "#bd3786"
             ],
             [
              0.5555555555555556,
              "#d8576b"
             ],
             [
              0.6666666666666666,
              "#ed7953"
             ],
             [
              0.7777777777777778,
              "#fb9f3a"
             ],
             [
              0.8888888888888888,
              "#fdca26"
             ],
             [
              1,
              "#f0f921"
             ]
            ],
            "type": "contour"
           }
          ],
          "contourcarpet": [
           {
            "colorbar": {
             "outlinewidth": 0,
             "ticks": ""
            },
            "type": "contourcarpet"
           }
          ],
          "heatmap": [
           {
            "colorbar": {
             "outlinewidth": 0,
             "ticks": ""
            },
            "colorscale": [
             [
              0,
              "#0d0887"
             ],
             [
              0.1111111111111111,
              "#46039f"
             ],
             [
              0.2222222222222222,
              "#7201a8"
             ],
             [
              0.3333333333333333,
              "#9c179e"
             ],
             [
              0.4444444444444444,
              "#bd3786"
             ],
             [
              0.5555555555555556,
              "#d8576b"
             ],
             [
              0.6666666666666666,
              "#ed7953"
             ],
             [
              0.7777777777777778,
              "#fb9f3a"
             ],
             [
              0.8888888888888888,
              "#fdca26"
             ],
             [
              1,
              "#f0f921"
             ]
            ],
            "type": "heatmap"
           }
          ],
          "heatmapgl": [
           {
            "colorbar": {
             "outlinewidth": 0,
             "ticks": ""
            },
            "colorscale": [
             [
              0,
              "#0d0887"
             ],
             [
              0.1111111111111111,
              "#46039f"
             ],
             [
              0.2222222222222222,
              "#7201a8"
             ],
             [
              0.3333333333333333,
              "#9c179e"
             ],
             [
              0.4444444444444444,
              "#bd3786"
             ],
             [
              0.5555555555555556,
              "#d8576b"
             ],
             [
              0.6666666666666666,
              "#ed7953"
             ],
             [
              0.7777777777777778,
              "#fb9f3a"
             ],
             [
              0.8888888888888888,
              "#fdca26"
             ],
             [
              1,
              "#f0f921"
             ]
            ],
            "type": "heatmapgl"
           }
          ],
          "histogram": [
           {
            "marker": {
             "pattern": {
              "fillmode": "overlay",
              "size": 10,
              "solidity": 0.2
             }
            },
            "type": "histogram"
           }
          ],
          "histogram2d": [
           {
            "colorbar": {
             "outlinewidth": 0,
             "ticks": ""
            },
            "colorscale": [
             [
              0,
              "#0d0887"
             ],
             [
              0.1111111111111111,
              "#46039f"
             ],
             [
              0.2222222222222222,
              "#7201a8"
             ],
             [
              0.3333333333333333,
              "#9c179e"
             ],
             [
              0.4444444444444444,
              "#bd3786"
             ],
             [
              0.5555555555555556,
              "#d8576b"
             ],
             [
              0.6666666666666666,
              "#ed7953"
             ],
             [
              0.7777777777777778,
              "#fb9f3a"
             ],
             [
              0.8888888888888888,
              "#fdca26"
             ],
             [
              1,
              "#f0f921"
             ]
            ],
            "type": "histogram2d"
           }
          ],
          "histogram2dcontour": [
           {
            "colorbar": {
             "outlinewidth": 0,
             "ticks": ""
            },
            "colorscale": [
             [
              0,
              "#0d0887"
             ],
             [
              0.1111111111111111,
              "#46039f"
             ],
             [
              0.2222222222222222,
              "#7201a8"
             ],
             [
              0.3333333333333333,
              "#9c179e"
             ],
             [
              0.4444444444444444,
              "#bd3786"
             ],
             [
              0.5555555555555556,
              "#d8576b"
             ],
             [
              0.6666666666666666,
              "#ed7953"
             ],
             [
              0.7777777777777778,
              "#fb9f3a"
             ],
             [
              0.8888888888888888,
              "#fdca26"
             ],
             [
              1,
              "#f0f921"
             ]
            ],
            "type": "histogram2dcontour"
           }
          ],
          "mesh3d": [
           {
            "colorbar": {
             "outlinewidth": 0,
             "ticks": ""
            },
            "type": "mesh3d"
           }
          ],
          "parcoords": [
           {
            "line": {
             "colorbar": {
              "outlinewidth": 0,
              "ticks": ""
             }
            },
            "type": "parcoords"
           }
          ],
          "pie": [
           {
            "automargin": true,
            "type": "pie"
           }
          ],
          "scatter": [
           {
            "fillpattern": {
             "fillmode": "overlay",
             "size": 10,
             "solidity": 0.2
            },
            "type": "scatter"
           }
          ],
          "scatter3d": [
           {
            "line": {
             "colorbar": {
              "outlinewidth": 0,
              "ticks": ""
             }
            },
            "marker": {
             "colorbar": {
              "outlinewidth": 0,
              "ticks": ""
             }
            },
            "type": "scatter3d"
           }
          ],
          "scattercarpet": [
           {
            "marker": {
             "colorbar": {
              "outlinewidth": 0,
              "ticks": ""
             }
            },
            "type": "scattercarpet"
           }
          ],
          "scattergeo": [
           {
            "marker": {
             "colorbar": {
              "outlinewidth": 0,
              "ticks": ""
             }
            },
            "type": "scattergeo"
           }
          ],
          "scattergl": [
           {
            "marker": {
             "colorbar": {
              "outlinewidth": 0,
              "ticks": ""
             }
            },
            "type": "scattergl"
           }
          ],
          "scattermapbox": [
           {
            "marker": {
             "colorbar": {
              "outlinewidth": 0,
              "ticks": ""
             }
            },
            "type": "scattermapbox"
           }
          ],
          "scatterpolar": [
           {
            "marker": {
             "colorbar": {
              "outlinewidth": 0,
              "ticks": ""
             }
            },
            "type": "scatterpolar"
           }
          ],
          "scatterpolargl": [
           {
            "marker": {
             "colorbar": {
              "outlinewidth": 0,
              "ticks": ""
             }
            },
            "type": "scatterpolargl"
           }
          ],
          "scatterternary": [
           {
            "marker": {
             "colorbar": {
              "outlinewidth": 0,
              "ticks": ""
             }
            },
            "type": "scatterternary"
           }
          ],
          "surface": [
           {
            "colorbar": {
             "outlinewidth": 0,
             "ticks": ""
            },
            "colorscale": [
             [
              0,
              "#0d0887"
             ],
             [
              0.1111111111111111,
              "#46039f"
             ],
             [
              0.2222222222222222,
              "#7201a8"
             ],
             [
              0.3333333333333333,
              "#9c179e"
             ],
             [
              0.4444444444444444,
              "#bd3786"
             ],
             [
              0.5555555555555556,
              "#d8576b"
             ],
             [
              0.6666666666666666,
              "#ed7953"
             ],
             [
              0.7777777777777778,
              "#fb9f3a"
             ],
             [
              0.8888888888888888,
              "#fdca26"
             ],
             [
              1,
              "#f0f921"
             ]
            ],
            "type": "surface"
           }
          ],
          "table": [
           {
            "cells": {
             "fill": {
              "color": "#EBF0F8"
             },
             "line": {
              "color": "white"
             }
            },
            "header": {
             "fill": {
              "color": "#C8D4E3"
             },
             "line": {
              "color": "white"
             }
            },
            "type": "table"
           }
          ]
         },
         "layout": {
          "annotationdefaults": {
           "arrowcolor": "#2a3f5f",
           "arrowhead": 0,
           "arrowwidth": 1
          },
          "autotypenumbers": "strict",
          "coloraxis": {
           "colorbar": {
            "outlinewidth": 0,
            "ticks": ""
           }
          },
          "colorscale": {
           "diverging": [
            [
             0,
             "#8e0152"
            ],
            [
             0.1,
             "#c51b7d"
            ],
            [
             0.2,
             "#de77ae"
            ],
            [
             0.3,
             "#f1b6da"
            ],
            [
             0.4,
             "#fde0ef"
            ],
            [
             0.5,
             "#f7f7f7"
            ],
            [
             0.6,
             "#e6f5d0"
            ],
            [
             0.7,
             "#b8e186"
            ],
            [
             0.8,
             "#7fbc41"
            ],
            [
             0.9,
             "#4d9221"
            ],
            [
             1,
             "#276419"
            ]
           ],
           "sequential": [
            [
             0,
             "#0d0887"
            ],
            [
             0.1111111111111111,
             "#46039f"
            ],
            [
             0.2222222222222222,
             "#7201a8"
            ],
            [
             0.3333333333333333,
             "#9c179e"
            ],
            [
             0.4444444444444444,
             "#bd3786"
            ],
            [
             0.5555555555555556,
             "#d8576b"
            ],
            [
             0.6666666666666666,
             "#ed7953"
            ],
            [
             0.7777777777777778,
             "#fb9f3a"
            ],
            [
             0.8888888888888888,
             "#fdca26"
            ],
            [
             1,
             "#f0f921"
            ]
           ],
           "sequentialminus": [
            [
             0,
             "#0d0887"
            ],
            [
             0.1111111111111111,
             "#46039f"
            ],
            [
             0.2222222222222222,
             "#7201a8"
            ],
            [
             0.3333333333333333,
             "#9c179e"
            ],
            [
             0.4444444444444444,
             "#bd3786"
            ],
            [
             0.5555555555555556,
             "#d8576b"
            ],
            [
             0.6666666666666666,
             "#ed7953"
            ],
            [
             0.7777777777777778,
             "#fb9f3a"
            ],
            [
             0.8888888888888888,
             "#fdca26"
            ],
            [
             1,
             "#f0f921"
            ]
           ]
          },
          "colorway": [
           "#636efa",
           "#EF553B",
           "#00cc96",
           "#ab63fa",
           "#FFA15A",
           "#19d3f3",
           "#FF6692",
           "#B6E880",
           "#FF97FF",
           "#FECB52"
          ],
          "font": {
           "color": "#2a3f5f"
          },
          "geo": {
           "bgcolor": "white",
           "lakecolor": "white",
           "landcolor": "#E5ECF6",
           "showlakes": true,
           "showland": true,
           "subunitcolor": "white"
          },
          "hoverlabel": {
           "align": "left"
          },
          "hovermode": "closest",
          "mapbox": {
           "style": "light"
          },
          "paper_bgcolor": "white",
          "plot_bgcolor": "#E5ECF6",
          "polar": {
           "angularaxis": {
            "gridcolor": "white",
            "linecolor": "white",
            "ticks": ""
           },
           "bgcolor": "#E5ECF6",
           "radialaxis": {
            "gridcolor": "white",
            "linecolor": "white",
            "ticks": ""
           }
          },
          "scene": {
           "xaxis": {
            "backgroundcolor": "#E5ECF6",
            "gridcolor": "white",
            "gridwidth": 2,
            "linecolor": "white",
            "showbackground": true,
            "ticks": "",
            "zerolinecolor": "white"
           },
           "yaxis": {
            "backgroundcolor": "#E5ECF6",
            "gridcolor": "white",
            "gridwidth": 2,
            "linecolor": "white",
            "showbackground": true,
            "ticks": "",
            "zerolinecolor": "white"
           },
           "zaxis": {
            "backgroundcolor": "#E5ECF6",
            "gridcolor": "white",
            "gridwidth": 2,
            "linecolor": "white",
            "showbackground": true,
            "ticks": "",
            "zerolinecolor": "white"
           }
          },
          "shapedefaults": {
           "line": {
            "color": "#2a3f5f"
           }
          },
          "ternary": {
           "aaxis": {
            "gridcolor": "white",
            "linecolor": "white",
            "ticks": ""
           },
           "baxis": {
            "gridcolor": "white",
            "linecolor": "white",
            "ticks": ""
           },
           "bgcolor": "#E5ECF6",
           "caxis": {
            "gridcolor": "white",
            "linecolor": "white",
            "ticks": ""
           }
          },
          "title": {
           "x": 0.05
          },
          "xaxis": {
           "automargin": true,
           "gridcolor": "white",
           "linecolor": "white",
           "ticks": "",
           "title": {
            "standoff": 15
           },
           "zerolinecolor": "white",
           "zerolinewidth": 2
          },
          "yaxis": {
           "automargin": true,
           "gridcolor": "white",
           "linecolor": "white",
           "ticks": "",
           "title": {
            "standoff": 15
           },
           "zerolinecolor": "white",
           "zerolinewidth": 2
          }
         }
        },
        "title": {
         "text": "Cluster All Indicators",
         "x": 0.5
        },
        "xaxis": {
         "anchor": "y",
         "domain": [
          0,
          1
         ],
         "title": {
          "text": "0"
         }
        },
        "yaxis": {
         "anchor": "x",
         "domain": [
          0,
          1
         ],
         "title": {
          "text": "1"
         }
        }
       }
      }
     },
     "metadata": {},
     "output_type": "display_data"
    }
   ],
   "source": [
    "#Reload the oringinal dataframe, now with all  indicators\n",
    "df_normalized = corr_df.copy()\n",
    "df_normalized = df_normalized.dropna(how='all')\n",
    "df_normalized = df_normalized.fillna(value = 0)\n",
    "\n",
    "#Apply t-SNE\n",
    "tsne = TSNE(n_components = 2, perplexity = 5, n_iter = 20000, learning_rate = 100.0, init = 'pca')\n",
    "tsne_result = tsne.fit_transform(df_normalized)\n",
    "new_df_tsne = pd.DataFrame(np.hstack((np.array(df_normalized.index).reshape(-1, 1), tsne_result)), columns = ['Country', '1st_component', '2nd_component'])\n",
    "new_df_tsne.set_index('Country', inplace = True)\n",
    "\n",
    "#Apply Clustering\n",
    "X_affinity_all = pd.DataFrame(StandardScaler().fit_transform(new_df_tsne))\n",
    "X_affinity_all.index = new_df_tsne.index\n",
    "'''Apply AffinityPropagation'''\n",
    "optics = AffinityPropagation(damping=0.9).fit(X_affinity_all)\n",
    "labels_affinity = optics.labels_\n",
    "\n",
    "#Display plot\n",
    "X_affinity_all['Cluster'] = labels_affinity\n",
    "X_affinity_all['Cluster'] = X_affinity_all['Cluster'].astype(str)\n",
    "fig = px.scatter(X_affinity_all, x= X_affinity_all.columns[0], y=X_affinity_all.columns[1], text= X_affinity_all.index, size_max=100, color='Cluster', category_orders={\"Cluster\": sort(list(set(X_affinity_all.loc[:, 'Cluster'])))})\n",
    "fig.update_layout(title_text='Cluster All Indicators', title_x=0.5)\n",
    "fig.update_traces(textposition='top center')\n",
    "fig.show()"
   ]
  },
  {
   "cell_type": "markdown",
   "metadata": {},
   "source": [
    "## Widget Clustering\n",
    "\n",
    "In the table below"
   ]
  },
  {
   "cell_type": "code",
   "execution_count": 9,
   "metadata": {},
   "outputs": [
    {
     "data": {
      "application/vnd.jupyter.widget-view+json": {
       "model_id": "eccabfb13fe74f4faa9cb7dadbfd0726",
       "version_major": 2,
       "version_minor": 0
      },
      "text/plain": [
       "interactive(children=(Dropdown(description='Type', options=('Equality indicators', 'Socio-demographic', 'Econo…"
      ]
     },
     "metadata": {},
     "output_type": "display_data"
    }
   ],
   "source": [
    "df_dict = {'Equality indicators': X_affinity_equality, 'Socio-demographic': X_affinity_socdem, 'Economic indicators': X_affinity_economic, 'All indicators': X_affinity_all}\n",
    "\n",
    "def tableOut(Type, Country, Output = False):\n",
    "    try:\n",
    "        df = pd.DataFrame()\n",
    "\n",
    "        #Search for the countries in the same cluster\n",
    "        cluster_number = df_dict[Type].loc[df_dict[Type].index == Country]['Cluster'].item()\n",
    "        df = pd.concat([df, pd.DataFrame(df_dict[Type].loc[df_dict[Type]['Cluster'] == cluster_number].index.tolist())], axis = 1, ignore_index=True)\n",
    "        \n",
    "        #Drop the same country name, fill nans and rename column\n",
    "        df.drop(df[df[0] == Country].index, inplace = True)\n",
    "        df.rename(columns={0:Type}, inplace  = True)\n",
    "        \n",
    "        #Output return to use tha same method for other codeblocks.\n",
    "        if Output:\n",
    "            #print(list(df[df.columns[0]]))\n",
    "            return list(df[df.columns[0]])\n",
    "    except Exception:\n",
    "        print(Exception)\n",
    "        return ['No data']\n",
    "\n",
    "    display(df)\n",
    "\n",
    "\n",
    "\n",
    "\n",
    "@interact(\n",
    "    Type = df_dict.keys(),\n",
    "    Country = sort(corr_df.index.tolist()))\n",
    "\n",
    "def g(Type = 'Equality indicators', Country = 'Afghanistan'):\n",
    "    return tableOut(Type, Country)"
   ]
  },
  {
   "cell_type": "code",
   "execution_count": 10,
   "metadata": {},
   "outputs": [
    {
     "data": {
      "application/vnd.jupyter.widget-view+json": {
       "model_id": "cf412fde996548589c406713ceb4f005",
       "version_major": 2,
       "version_minor": 0
      },
      "text/plain": [
       "interactive(children=(Dropdown(description='Country', index=136, options=('Afghanistan', 'Albania', 'Algeria',…"
      ]
     },
     "metadata": {},
     "output_type": "display_data"
    },
    {
     "data": {
      "image/png": "[encoded data removed]",
      "text/plain": [
       "<Figure size 432x288 with 1 Axes>"
      ]
     },
     "metadata": {},
     "output_type": "display_data"
    }
   ],
   "source": [
    "def VennOut(Country):\n",
    "\n",
    "    set1 = set(tableOut('Equality indicators', Country, True))\n",
    "    set2 = set(tableOut('Socio-demographic', Country, True))\n",
    "    set3 = set(tableOut('Economic indicators', Country, True))\n",
    "\n",
    "    print(set1)\n",
    "    print(set2)\n",
    "    print(set3)\n",
    "\n",
    "\n",
    "    venn = venn3([set1, set2, set3], ('Equality indicators', 'Socio-demographic', 'Economic indicators'))\n",
    "\n",
    "    \n",
    "    venn.get_label_by_id('100').set_text('\\n'.join(set1-set2-set3))\n",
    "    venn.get_label_by_id('110').set_text('\\n'.join(set1&set2-set3))\n",
    "    venn.get_label_by_id('010').set_text('\\n'.join(set2-set3-set1))\n",
    "    venn.get_label_by_id('101').set_text('\\n'.join(set1&set3-set2))\n",
    "    venn.get_label_by_id('111').set_text('\\n'.join(set1&set2&set3))\n",
    "    venn.get_label_by_id('011').set_text('\\n'.join(set2&set3-set1))\n",
    "    venn.get_label_by_id('001').set_text('\\n'.join(set3-set2-set1))\n",
    "\n",
    "\n",
    "\n",
    "    plt.show()\n",
    "\n",
    "\n",
    "@interact(\n",
    "    Country = sort(corr_df.index.tolist()))\n",
    "\n",
    "def g(Country = 'Spain'):\n",
    "    return VennOut(Country)"
   ]
  },
  {
   "cell_type": "code",
   "execution_count": null,
   "metadata": {},
   "outputs": [
    {
     "data": {
      "text/html": [
       "<div>\n",
       "<style scoped>\n",
       "    .dataframe tbody tr th:only-of-type {\n",
       "        vertical-align: middle;\n",
       "    }\n",
       "\n",
       "    .dataframe tbody tr th {\n",
       "        vertical-align: top;\n",
       "    }\n",
       "\n",
       "    .dataframe thead th {\n",
       "        text-align: right;\n",
       "    }\n",
       "</style>\n",
       "<table border=\"1\" class=\"dataframe\">\n",
       "  <thead>\n",
       "    <tr style=\"text-align: right;\">\n",
       "      <th></th>\n",
       "      <th>0</th>\n",
       "      <th>1</th>\n",
       "      <th>Cluster</th>\n",
       "    </tr>\n",
       "    <tr>\n",
       "      <th>Country</th>\n",
       "      <th></th>\n",
       "      <th></th>\n",
       "      <th></th>\n",
       "    </tr>\n",
       "  </thead>\n",
       "  <tbody>\n",
       "    <tr>\n",
       "      <th>Andorra</th>\n",
       "      <td>1.273897</td>\n",
       "      <td>-0.581513</td>\n",
       "      <td>7</td>\n",
       "    </tr>\n",
       "  </tbody>\n",
       "</table>\n",
       "</div>"
      ],
      "text/plain": [
       "                0         1 Cluster\n",
       "Country                            \n",
       "Andorra  1.273897 -0.581513       7"
      ]
     },
     "execution_count": 11,
     "metadata": {},
     "output_type": "execute_result"
    }
   ],
   "source": [
    "X_affinity_socdem.loc[X_affinity_socdem.index == 'Andorra']"
   ]
  },
  {
   "cell_type": "code",
   "execution_count": null,
   "metadata": {},
   "outputs": [],
   "source": []
  },
  {
   "cell_type": "code",
   "execution_count": null,
   "metadata": {},
   "outputs": [],
   "source": []
  },
  {
   "cell_type": "code",
   "execution_count": null,
   "metadata": {},
   "outputs": [],
   "source": []
  },
  {
   "cell_type": "code",
   "execution_count": null,
   "metadata": {},
   "outputs": [],
   "source": []
  },
  {
   "cell_type": "code",
   "execution_count": null,
   "metadata": {},
   "outputs": [],
   "source": []
  },
  {
   "cell_type": "code",
   "execution_count": null,
   "metadata": {},
   "outputs": [],
   "source": []
  },
  {
   "cell_type": "code",
   "execution_count": null,
   "metadata": {},
   "outputs": [],
   "source": []
  },
  {
   "cell_type": "code",
   "execution_count": null,
   "metadata": {},
   "outputs": [],
   "source": []
  },
  {
   "cell_type": "code",
   "execution_count": null,
   "metadata": {},
   "outputs": [],
   "source": []
  },
  {
   "cell_type": "code",
   "execution_count": null,
   "metadata": {},
   "outputs": [],
   "source": []
  },
  {
   "cell_type": "code",
   "execution_count": null,
   "metadata": {},
   "outputs": [
    {
     "data": {
      "image/png": "[encoded data removed]",
      "text/plain": [
       "<Figure size 576x576 with 1 Axes>"
      ]
     },
     "metadata": {
      "needs_background": "light"
     },
     "output_type": "display_data"
    }
   ],
   "source": [
    "\n",
    "X_optics = pd.DataFrame(StandardScaler().fit_transform(new_df_tsne))\n",
    "\n",
    "'''Apply OPTICS'''\n",
    "optics = OPTICS(xi=.35, min_cluster_size=3, min_samples=5).fit_predict(X_optics)\n",
    "#labels_optics = optics.labels_\n",
    "\n",
    "plt.figure(figsize=(8,8))\n",
    "plt.title('OPTICS',fontsize= 20)\n",
    "plt.xlabel('Feature 1',fontsize= 18)\n",
    "plt.ylabel('Feature 2',fontsize= 18)\n",
    "fig = plt.scatter(X_optics[0], X_optics[1], c= optics)\n"
   ]
  },
  {
   "cell_type": "code",
   "execution_count": null,
   "metadata": {},
   "outputs": [
    {
     "data": {
      "image/png": "[encoded data removed]",
      "text/plain": [
       "<Figure size 576x576 with 1 Axes>"
      ]
     },
     "metadata": {
      "needs_background": "light"
     },
     "output_type": "display_data"
    }
   ],
   "source": [
    "\n",
    "X_kmeans = pd.DataFrame(StandardScaler().fit_transform(new_df_tsne))\n",
    "X_kmeans.index = new_df_tsne.index\n",
    "'''Apply K-Means'''\n",
    "from sklearn.cluster import *\n",
    "from sklearn.mixture import GaussianMixture\n",
    "\n",
    "\n",
    "kmean_clusters =   MiniBatchKMeans(n_clusters=6).fit_predict(X_kmeans)\n",
    "\n",
    "plt.figure(figsize = (8,8))\n",
    "plt.title('K-Means Clustering',fontsize= 20)\n",
    "plt.xlabel('Feature 1', fontsize=18)\n",
    "plt.ylabel('Feature 2', fontsize=18)\n",
    "f = plt.scatter(X_kmeans[0],X_kmeans[1],c=kmean_clusters)"
   ]
  },
  {
   "cell_type": "code",
   "execution_count": null,
   "metadata": {},
   "outputs": [
    {
     "data": {
      "image/png": "[encoded data removed]",
      "text/plain": [
       "<Figure size 1440x1440 with 1 Axes>"
      ]
     },
     "metadata": {},
     "output_type": "display_data"
    }
   ],
   "source": [
    "sns.set(rc={'figure.figsize':(20, 20)})\n",
    "\n",
    "\n",
    "z = X_kmeans[0]\n",
    "y = X_kmeans[1]\n",
    "n = new_df_tsne.index.get_level_values(0)\n",
    "fig, ax = plt.subplots()\n",
    "\n",
    "ax.scatter(z, y, c=kmean_clusters)\n",
    "\n",
    "\n",
    "\n",
    "for i, txt in enumerate(n):\n",
    "    ax.annotate(txt, (z[i], y[i]))"
   ]
  },
  {
   "cell_type": "code",
   "execution_count": null,
   "metadata": {},
   "outputs": [
    {
     "data": {
      "text/plain": [
       "\" new_df_tsne['Cluster'] = kmean_clusters.tolist()\\nnew_df_tsne \""
      ]
     },
     "execution_count": 16,
     "metadata": {},
     "output_type": "execute_result"
    }
   ],
   "source": [
    "\"\"\" new_df_tsne['Cluster'] = kmean_clusters.tolist()\n",
    "new_df_tsne \"\"\""
   ]
  },
  {
   "cell_type": "code",
   "execution_count": null,
   "metadata": {},
   "outputs": [],
   "source": [
    "\n",
    "new_df_tsne.to_csv(write_path + '/Cluster.csv')"
   ]
  },
  {
   "cell_type": "code",
   "execution_count": null,
   "metadata": {},
   "outputs": [],
   "source": []
  }
 ],
 "metadata": {
  "kernelspec": {
   "display_name": "Python 3 (ipykernel)",
   "language": "python",
   "name": "python3"
  },
  "language_info": {
   "codemirror_mode": {
    "name": "ipython",
    "version": 3
   },
   "file_extension": ".py",
   "mimetype": "text/x-python",
   "name": "python",
   "nbconvert_exporter": "python",
   "pygments_lexer": "ipython3",
   "version": "3.10.5"
  },
  "vscode": {
   "interpreter": {
    "hash": "44718ba4235bc6fc2135f9d8856f170c8312ddd29b08710a5ea28d42169e623e"
   }
  }
 },
 "nbformat": 4,
 "nbformat_minor": 2
}
