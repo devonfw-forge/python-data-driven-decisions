{
 "cells": [
  {
   "cell_type": "code",
   "execution_count": 23,
   "metadata": {},
   "outputs": [],
   "source": [
    "import ipywidgets as widgets\n",
    "from ipywidgets import Layout\n",
    "from ipywidgets import AppLayout, Button, GridspecLayout\n",
    "from ipywidgets import interact, interact_manual\n",
    "import nbimporter\n",
    "from Project.Utils.visualize import  search\n",
    "import warnings\n",
    "warnings.filterwarnings(\"ignore\")\n",
    "from scipy import stats\n",
    "import plotly.express as px\n",
    "import os\n",
    "from math import nan\n",
    "import pandas as pd\n",
    "import matplotlib.pyplot as plt\n",
    "import numpy as np\n",
    "from IPython.display import display_html\n",
    "from Project.Utils.visualize import *\n",
    "import Notebook_Time_Series as Nbook_Times\n"
   ]
  },
  {
   "cell_type": "code",
   "execution_count": 24,
   "metadata": {},
   "outputs": [],
   "source": [
    "col_country = 'Country'\n",
    "col_year = 'Year'\n",
    "col_region = 'Region'\n",
    "\n",
    "\n",
    "data_path = os.getcwd() + '/Databases/'\n",
    "output_path = os.getcwd() + '/Output/'\n",
    "country_path = output_path + '/Country/'\n",
    "region_path = output_path + '/Region/'\n",
    "cluster_path = output_path + '/Cluster/'\n",
    "\n",
    "\n",
    "file_regions = '/AuxiliarData/world-regions-mod.csv'\n",
    "file_gold = 'GoldDataframe.csv'\n",
    "file_corr_pearson = 'Corr_DF_Pearson.csv'\n",
    "file_corr_spearman = 'Corr_DF_Spearman.csv'\n",
    "file_shifted_corr_country = 'Shifted_Corr_Country.csv'\n",
    "file_shifted_corr_region = 'Shifted_Corr_Region.csv'\n",
    "\n",
    "\n",
    "df_regions = pd.read_csv(data_path + file_regions, index_col = [col_region, col_country])\n",
    "df_gold  = pd.read_csv(output_path + file_gold, index_col = [col_country, col_year, col_region])\n",
    "df_corr_pearson = pd.read_csv(output_path + file_corr_pearson)\n",
    "df_corr_spearman = pd.read_csv(output_path + file_corr_spearman, index_col = col_country)\n",
    "df_shifted_corr_country = pd.read_csv(output_path + file_shifted_corr_country)\n",
    "df_shifted_corr_region  = pd.read_csv(output_path + file_shifted_corr_region)\n",
    "\n",
    "\n",
    "global PVALUE_VAR \n",
    "PVALUE_VAR = 0.05\n",
    "\n",
    "#Save list of countries, regions and indicators\n",
    "country_list = list(np.sort(df_gold.index.get_level_values('Country').unique()))\n",
    "region_list = list(np.sort(df_gold.index.get_level_values('Region').unique()))\n",
    "indicators = list(df_gold.columns)\n",
    "indicators.remove('GDP')\n",
    "\n",
    "#Search for the min , max year in the df_gold\n",
    "min_year = min(df_gold.index.get_level_values('Year').unique())\n",
    "max_year = max(df_gold.index.get_level_values('Year').unique())\n",
    "\n",
    "#Used for median region and global widget\n",
    "median_corr_df_pearson_region = pd.merge(df_corr_spearman, df_regions, how = 'inner', left_index = True, right_index = True).groupby(level = col_region).median()\n",
    "median_corr_df_spearman_region = pd.merge(df_corr_spearman, df_regions, how = 'inner', left_index = True, right_index = True).groupby(level = col_region).median()\n",
    "median_corr_df_pearson = pd.merge(df_corr_spearman, df_regions, how = 'inner', left_index = True, right_index = True).median().rename('GDP Pearson Corr')\n",
    "median_corr_df_spearman = pd.merge(df_corr_spearman, df_regions, how = 'inner', left_index = True, right_index = True).median().rename('GDP Spearman Corr')\n",
    "\n",
    "# Precompute contries by region normalized\n",
    "countries_by_region = {}\n",
    "for r in region_list:\n",
    "    countries_by_region[r] = Nbook_Times.load_by_region(r, df_gold)"
   ]
  },
  {
   "cell_type": "markdown",
   "metadata": {},
   "source": []
  },
  {
   "cell_type": "code",
   "execution_count": 36,
   "metadata": {},
   "outputs": [],
   "source": [
    "country = 'Spain'\n",
    "region = 'South Asia'\n",
    "zone = 'Spain'\n",
    "by = 'Country'\n",
    "indicator  = 'Homicides'\n",
    "threshold = 0.7\n",
    "years = (2000, 2010)\n",
    "\n"
   ]
  },
  {
   "cell_type": "code",
   "execution_count": 37,
   "metadata": {},
   "outputs": [],
   "source": [
    "df_zone = get_zone(df_gold, countries_by_region, country, by)"
   ]
  },
  {
   "cell_type": "code",
   "execution_count": 43,
   "metadata": {},
   "outputs": [
    {
     "data": {
      "application/vnd.plotly.v1+json": {
       "config": {
        "plotlyServerURL": "https://plot.ly"
       },
       "data": [
        {
         "coloraxis": "coloraxis",
         "geo": "geo",
         "hovertemplate": "Country=%{location}<br>Homicides=%{z}<extra></extra>",
         "locationmode": "country names",
         "locations": [
          "Afghanistan",
          "Albania",
          "Algeria",
          "Angola",
          "Argentina",
          "Armenia",
          "Australia",
          "Austria",
          "Azerbaijan",
          "Bahrain",
          "Bangladesh",
          "Barbados",
          "Belarus",
          "Belgium",
          "Belize",
          "Benin",
          "Bhutan",
          "Bosnia and Herzegovina",
          "Botswana",
          "Brazil",
          "Bulgaria",
          "Burkina Faso",
          "Burundi",
          "Cambodia",
          "Cameroon",
          "Canada",
          "Central African Republic",
          "Chad",
          "Chile",
          "China",
          "Colombia",
          "Comoros",
          "Costa Rica",
          "Croatia",
          "Cuba",
          "Cyprus",
          "Denmark",
          "Djibouti",
          "Dominican Republic",
          "Ecuador",
          "El Salvador",
          "Equatorial Guinea",
          "Eritrea",
          "Estonia",
          "Eswatini",
          "Ethiopia",
          "Fiji",
          "Finland",
          "France",
          "French Polynesia",
          "Gabon",
          "Georgia",
          "Germany",
          "Ghana",
          "Greece",
          "Guatemala",
          "Guinea",
          "Guinea-Bissau",
          "Guyana",
          "Haiti",
          "Honduras",
          "Hungary",
          "Iceland",
          "India",
          "Indonesia",
          "Iraq",
          "Ireland",
          "Israel",
          "Italy",
          "Jamaica",
          "Japan",
          "Jordan",
          "Kazakhstan",
          "Kenya",
          "Kuwait",
          "Latvia",
          "Lebanon",
          "Lesotho",
          "Liberia",
          "Libya",
          "Lithuania",
          "Luxembourg",
          "Madagascar",
          "Malawi",
          "Malaysia",
          "Maldives",
          "Mali",
          "Malta",
          "Mauritania",
          "Mauritius",
          "Mexico",
          "Mongolia",
          "Montenegro",
          "Morocco",
          "Mozambique",
          "Myanmar",
          "Namibia",
          "Nepal",
          "Netherlands",
          "New Caledonia",
          "New Zealand",
          "Nicaragua",
          "Niger",
          "Nigeria",
          "North Macedonia",
          "Norway",
          "Oman",
          "Pakistan",
          "Panama",
          "Papua New Guinea",
          "Paraguay",
          "Peru",
          "Philippines",
          "Poland",
          "Portugal",
          "Puerto Rico",
          "Qatar",
          "Romania",
          "Russia",
          "Rwanda",
          "Samoa",
          "Sao Tome and Principe",
          "Saudi Arabia",
          "Senegal",
          "Serbia",
          "Seychelles",
          "Sierra Leone",
          "Singapore",
          "Slovenia",
          "Solomon Islands",
          "Somalia",
          "South Africa",
          "Spain",
          "Sri Lanka",
          "Suriname",
          "Sweden",
          "Switzerland",
          "Tajikistan",
          "Thailand",
          "Togo",
          "Tonga",
          "Trinidad and Tobago",
          "Tunisia",
          "Turkmenistan",
          "Uganda",
          "Ukraine",
          "United Arab Emirates",
          "United Kingdom",
          "United States",
          "Uruguay",
          "Uzbekistan",
          "Vanuatu",
          "Zambia",
          "Zimbabwe"
         ],
         "name": "",
         "type": "choropleth",
         "z": [
          null,
          -0.5773737001374323,
          null,
          null,
          null,
          -0.4902474886302072,
          -0.7763335562658719,
          null,
          null,
          null,
          -0.4343306663196,
          null,
          -0.7451241670692539,
          -0.7622190273692516,
          0.7381146649652668,
          null,
          null,
          -0.8504558556078394,
          null,
          null,
          -0.910273851568024,
          0.7645219950761507,
          null,
          null,
          null,
          -0.6436936521802454,
          null,
          null,
          null,
          -0.9960996718587232,
          -0.7724323826162945,
          null,
          0.7607288616675628,
          -0.53515625,
          null,
          null,
          null,
          null,
          -0.4629392730831664,
          -0.6592983467785545,
          null,
          null,
          null,
          -0.92067698130023,
          -0.4820872480796976,
          null,
          null,
          -0.4668404467327436,
          -0.6184895833333334,
          null,
          null,
          null,
          -0.661899129211606,
          null,
          0.56390318448484,
          -0.4356310575361257,
          null,
          null,
          null,
          null,
          null,
          null,
          null,
          -0.9869969333430432,
          null,
          null,
          -0.4800002284356182,
          -0.92508634090969,
          null,
          null,
          null,
          null,
          null,
          null,
          null,
          -0.5838756562200611,
          null,
          null,
          null,
          null,
          -0.832250378576479,
          -0.6065178756245926,
          null,
          null,
          null,
          null,
          null,
          null,
          null,
          null,
          0.6423932609637197,
          -0.8780261137990605,
          -0.5117204851662623,
          null,
          null,
          0.6875963860850428,
          null,
          -0.7856376958880431,
          -0.6345909136645652,
          null,
          -0.8482129689186031,
          -0.6026272509224424,
          null,
          null,
          -0.8816652448044574,
          null,
          -0.5039079586751744,
          null,
          null,
          null,
          -0.9375820671150646,
          null,
          null,
          -0.8543570292574167,
          null,
          null,
          null,
          -0.6853061711090694,
          -0.7659304265336658,
          null,
          null,
          null,
          null,
          null,
          -0.6697014765107604,
          null,
          null,
          -0.9388824583315905,
          -0.7880370772146036,
          null,
          null,
          -0.8823717882270036,
          -0.4941486622797844,
          null,
          null,
          null,
          -0.8036417718129125,
          null,
          -0.9589627421261012,
          null,
          null,
          0.53928028883524,
          null,
          null,
          null,
          null,
          null,
          -0.53125,
          -0.6762034325933892,
          0.7646300353171401,
          null,
          null,
          null,
          null
         ]
        }
       ],
       "layout": {
        "coloraxis": {
         "colorbar": {
          "title": {
           "text": "Homicides"
          }
         },
         "colorscale": [
          [
           0,
           "rgb(103,0,31)"
          ],
          [
           0.1,
           "rgb(178,24,43)"
          ],
          [
           0.2,
           "rgb(214,96,77)"
          ],
          [
           0.3,
           "rgb(244,165,130)"
          ],
          [
           0.4,
           "rgb(253,219,199)"
          ],
          [
           0.5,
           "rgb(247,247,247)"
          ],
          [
           0.6,
           "rgb(209,229,240)"
          ],
          [
           0.7,
           "rgb(146,197,222)"
          ],
          [
           0.8,
           "rgb(67,147,195)"
          ],
          [
           0.9,
           "rgb(33,102,172)"
          ],
          [
           1,
           "rgb(5,48,97)"
          ]
         ],
         "showscale": true
        },
        "geo": {
         "center": {},
         "domain": {
          "x": [
           0,
           1
          ],
          "y": [
           0,
           1
          ]
         },
         "projection": {
          "type": "natural earth"
         }
        },
        "height": 500,
        "legend": {
         "tracegroupgap": 0
        },
        "margin": {
         "t": 60
        },
        "template": {
         "data": {
          "bar": [
           {
            "error_x": {
             "color": "#2a3f5f"
            },
            "error_y": {
             "color": "#2a3f5f"
            },
            "marker": {
             "line": {
              "color": "#E5ECF6",
              "width": 0.5
             },
             "pattern": {
              "fillmode": "overlay",
              "size": 10,
              "solidity": 0.2
             }
            },
            "type": "bar"
           }
          ],
          "barpolar": [
           {
            "marker": {
             "line": {
              "color": "#E5ECF6",
              "width": 0.5
             },
             "pattern": {
              "fillmode": "overlay",
              "size": 10,
              "solidity": 0.2
             }
            },
            "type": "barpolar"
           }
          ],
          "carpet": [
           {
            "aaxis": {
             "endlinecolor": "#2a3f5f",
             "gridcolor": "white",
             "linecolor": "white",
             "minorgridcolor": "white",
             "startlinecolor": "#2a3f5f"
            },
            "baxis": {
             "endlinecolor": "#2a3f5f",
             "gridcolor": "white",
             "linecolor": "white",
             "minorgridcolor": "white",
             "startlinecolor": "#2a3f5f"
            },
            "type": "carpet"
           }
          ],
          "choropleth": [
           {
            "colorbar": {
             "outlinewidth": 0,
             "ticks": ""
            },
            "type": "choropleth"
           }
          ],
          "contour": [
           {
            "colorbar": {
             "outlinewidth": 0,
             "ticks": ""
            },
            "colorscale": [
             [
              0,
              "#0d0887"
             ],
             [
              0.1111111111111111,
              "#46039f"
             ],
             [
              0.2222222222222222,
              "#7201a8"
             ],
             [
              0.3333333333333333,
              "#9c179e"
             ],
             [
              0.4444444444444444,
              "#bd3786"
             ],
             [
              0.5555555555555556,
              "#d8576b"
             ],
             [
              0.6666666666666666,
              "#ed7953"
             ],
             [
              0.7777777777777778,
              "#fb9f3a"
             ],
             [
              0.8888888888888888,
              "#fdca26"
             ],
             [
              1,
              "#f0f921"
             ]
            ],
            "type": "contour"
           }
          ],
          "contourcarpet": [
           {
            "colorbar": {
             "outlinewidth": 0,
             "ticks": ""
            },
            "type": "contourcarpet"
           }
          ],
          "heatmap": [
           {
            "colorbar": {
             "outlinewidth": 0,
             "ticks": ""
            },
            "colorscale": [
             [
              0,
              "#0d0887"
             ],
             [
              0.1111111111111111,
              "#46039f"
             ],
             [
              0.2222222222222222,
              "#7201a8"
             ],
             [
              0.3333333333333333,
              "#9c179e"
             ],
             [
              0.4444444444444444,
              "#bd3786"
             ],
             [
              0.5555555555555556,
              "#d8576b"
             ],
             [
              0.6666666666666666,
              "#ed7953"
             ],
             [
              0.7777777777777778,
              "#fb9f3a"
             ],
             [
              0.8888888888888888,
              "#fdca26"
             ],
             [
              1,
              "#f0f921"
             ]
            ],
            "type": "heatmap"
           }
          ],
          "heatmapgl": [
           {
            "colorbar": {
             "outlinewidth": 0,
             "ticks": ""
            },
            "colorscale": [
             [
              0,
              "#0d0887"
             ],
             [
              0.1111111111111111,
              "#46039f"
             ],
             [
              0.2222222222222222,
              "#7201a8"
             ],
             [
              0.3333333333333333,
              "#9c179e"
             ],
             [
              0.4444444444444444,
              "#bd3786"
             ],
             [
              0.5555555555555556,
              "#d8576b"
             ],
             [
              0.6666666666666666,
              "#ed7953"
             ],
             [
              0.7777777777777778,
              "#fb9f3a"
             ],
             [
              0.8888888888888888,
              "#fdca26"
             ],
             [
              1,
              "#f0f921"
             ]
            ],
            "type": "heatmapgl"
           }
          ],
          "histogram": [
           {
            "marker": {
             "pattern": {
              "fillmode": "overlay",
              "size": 10,
              "solidity": 0.2
             }
            },
            "type": "histogram"
           }
          ],
          "histogram2d": [
           {
            "colorbar": {
             "outlinewidth": 0,
             "ticks": ""
            },
            "colorscale": [
             [
              0,
              "#0d0887"
             ],
             [
              0.1111111111111111,
              "#46039f"
             ],
             [
              0.2222222222222222,
              "#7201a8"
             ],
             [
              0.3333333333333333,
              "#9c179e"
             ],
             [
              0.4444444444444444,
              "#bd3786"
             ],
             [
              0.5555555555555556,
              "#d8576b"
             ],
             [
              0.6666666666666666,
              "#ed7953"
             ],
             [
              0.7777777777777778,
              "#fb9f3a"
             ],
             [
              0.8888888888888888,
              "#fdca26"
             ],
             [
              1,
              "#f0f921"
             ]
            ],
            "type": "histogram2d"
           }
          ],
          "histogram2dcontour": [
           {
            "colorbar": {
             "outlinewidth": 0,
             "ticks": ""
            },
            "colorscale": [
             [
              0,
              "#0d0887"
             ],
             [
              0.1111111111111111,
              "#46039f"
             ],
             [
              0.2222222222222222,
              "#7201a8"
             ],
             [
              0.3333333333333333,
              "#9c179e"
             ],
             [
              0.4444444444444444,
              "#bd3786"
             ],
             [
              0.5555555555555556,
              "#d8576b"
             ],
             [
              0.6666666666666666,
              "#ed7953"
             ],
             [
              0.7777777777777778,
              "#fb9f3a"
             ],
             [
              0.8888888888888888,
              "#fdca26"
             ],
             [
              1,
              "#f0f921"
             ]
            ],
            "type": "histogram2dcontour"
           }
          ],
          "mesh3d": [
           {
            "colorbar": {
             "outlinewidth": 0,
             "ticks": ""
            },
            "type": "mesh3d"
           }
          ],
          "parcoords": [
           {
            "line": {
             "colorbar": {
              "outlinewidth": 0,
              "ticks": ""
             }
            },
            "type": "parcoords"
           }
          ],
          "pie": [
           {
            "automargin": true,
            "type": "pie"
           }
          ],
          "scatter": [
           {
            "fillpattern": {
             "fillmode": "overlay",
             "size": 10,
             "solidity": 0.2
            },
            "type": "scatter"
           }
          ],
          "scatter3d": [
           {
            "line": {
             "colorbar": {
              "outlinewidth": 0,
              "ticks": ""
             }
            },
            "marker": {
             "colorbar": {
              "outlinewidth": 0,
              "ticks": ""
             }
            },
            "type": "scatter3d"
           }
          ],
          "scattercarpet": [
           {
            "marker": {
             "colorbar": {
              "outlinewidth": 0,
              "ticks": ""
             }
            },
            "type": "scattercarpet"
           }
          ],
          "scattergeo": [
           {
            "marker": {
             "colorbar": {
              "outlinewidth": 0,
              "ticks": ""
             }
            },
            "type": "scattergeo"
           }
          ],
          "scattergl": [
           {
            "marker": {
             "colorbar": {
              "outlinewidth": 0,
              "ticks": ""
             }
            },
            "type": "scattergl"
           }
          ],
          "scattermapbox": [
           {
            "marker": {
             "colorbar": {
              "outlinewidth": 0,
              "ticks": ""
             }
            },
            "type": "scattermapbox"
           }
          ],
          "scatterpolar": [
           {
            "marker": {
             "colorbar": {
              "outlinewidth": 0,
              "ticks": ""
             }
            },
            "type": "scatterpolar"
           }
          ],
          "scatterpolargl": [
           {
            "marker": {
             "colorbar": {
              "outlinewidth": 0,
              "ticks": ""
             }
            },
            "type": "scatterpolargl"
           }
          ],
          "scatterternary": [
           {
            "marker": {
             "colorbar": {
              "outlinewidth": 0,
              "ticks": ""
             }
            },
            "type": "scatterternary"
           }
          ],
          "surface": [
           {
            "colorbar": {
             "outlinewidth": 0,
             "ticks": ""
            },
            "colorscale": [
             [
              0,
              "#0d0887"
             ],
             [
              0.1111111111111111,
              "#46039f"
             ],
             [
              0.2222222222222222,
              "#7201a8"
             ],
             [
              0.3333333333333333,
              "#9c179e"
             ],
             [
              0.4444444444444444,
              "#bd3786"
             ],
             [
              0.5555555555555556,
              "#d8576b"
             ],
             [
              0.6666666666666666,
              "#ed7953"
             ],
             [
              0.7777777777777778,
              "#fb9f3a"
             ],
             [
              0.8888888888888888,
              "#fdca26"
             ],
             [
              1,
              "#f0f921"
             ]
            ],
            "type": "surface"
           }
          ],
          "table": [
           {
            "cells": {
             "fill": {
              "color": "#EBF0F8"
             },
             "line": {
              "color": "white"
             }
            },
            "header": {
             "fill": {
              "color": "#C8D4E3"
             },
             "line": {
              "color": "white"
             }
            },
            "type": "table"
           }
          ]
         },
         "layout": {
          "annotationdefaults": {
           "arrowcolor": "#2a3f5f",
           "arrowhead": 0,
           "arrowwidth": 1
          },
          "autotypenumbers": "strict",
          "coloraxis": {
           "colorbar": {
            "outlinewidth": 0,
            "ticks": ""
           }
          },
          "colorscale": {
           "diverging": [
            [
             0,
             "#8e0152"
            ],
            [
             0.1,
             "#c51b7d"
            ],
            [
             0.2,
             "#de77ae"
            ],
            [
             0.3,
             "#f1b6da"
            ],
            [
             0.4,
             "#fde0ef"
            ],
            [
             0.5,
             "#f7f7f7"
            ],
            [
             0.6,
             "#e6f5d0"
            ],
            [
             0.7,
             "#b8e186"
            ],
            [
             0.8,
             "#7fbc41"
            ],
            [
             0.9,
             "#4d9221"
            ],
            [
             1,
             "#276419"
            ]
           ],
           "sequential": [
            [
             0,
             "#0d0887"
            ],
            [
             0.1111111111111111,
             "#46039f"
            ],
            [
             0.2222222222222222,
             "#7201a8"
            ],
            [
             0.3333333333333333,
             "#9c179e"
            ],
            [
             0.4444444444444444,
             "#bd3786"
            ],
            [
             0.5555555555555556,
             "#d8576b"
            ],
            [
             0.6666666666666666,
             "#ed7953"
            ],
            [
             0.7777777777777778,
             "#fb9f3a"
            ],
            [
             0.8888888888888888,
             "#fdca26"
            ],
            [
             1,
             "#f0f921"
            ]
           ],
           "sequentialminus": [
            [
             0,
             "#0d0887"
            ],
            [
             0.1111111111111111,
             "#46039f"
            ],
            [
             0.2222222222222222,
             "#7201a8"
            ],
            [
             0.3333333333333333,
             "#9c179e"
            ],
            [
             0.4444444444444444,
             "#bd3786"
            ],
            [
             0.5555555555555556,
             "#d8576b"
            ],
            [
             0.6666666666666666,
             "#ed7953"
            ],
            [
             0.7777777777777778,
             "#fb9f3a"
            ],
            [
             0.8888888888888888,
             "#fdca26"
            ],
            [
             1,
             "#f0f921"
            ]
           ]
          },
          "colorway": [
           "#636efa",
           "#EF553B",
           "#00cc96",
           "#ab63fa",
           "#FFA15A",
           "#19d3f3",
           "#FF6692",
           "#B6E880",
           "#FF97FF",
           "#FECB52"
          ],
          "font": {
           "color": "#2a3f5f"
          },
          "geo": {
           "bgcolor": "white",
           "lakecolor": "white",
           "landcolor": "#E5ECF6",
           "showlakes": true,
           "showland": true,
           "subunitcolor": "white"
          },
          "hoverlabel": {
           "align": "left"
          },
          "hovermode": "closest",
          "mapbox": {
           "style": "light"
          },
          "paper_bgcolor": "white",
          "plot_bgcolor": "#E5ECF6",
          "polar": {
           "angularaxis": {
            "gridcolor": "white",
            "linecolor": "white",
            "ticks": ""
           },
           "bgcolor": "#E5ECF6",
           "radialaxis": {
            "gridcolor": "white",
            "linecolor": "white",
            "ticks": ""
           }
          },
          "scene": {
           "xaxis": {
            "backgroundcolor": "#E5ECF6",
            "gridcolor": "white",
            "gridwidth": 2,
            "linecolor": "white",
            "showbackground": true,
            "ticks": "",
            "zerolinecolor": "white"
           },
           "yaxis": {
            "backgroundcolor": "#E5ECF6",
            "gridcolor": "white",
            "gridwidth": 2,
            "linecolor": "white",
            "showbackground": true,
            "ticks": "",
            "zerolinecolor": "white"
           },
           "zaxis": {
            "backgroundcolor": "#E5ECF6",
            "gridcolor": "white",
            "gridwidth": 2,
            "linecolor": "white",
            "showbackground": true,
            "ticks": "",
            "zerolinecolor": "white"
           }
          },
          "shapedefaults": {
           "line": {
            "color": "#2a3f5f"
           }
          },
          "ternary": {
           "aaxis": {
            "gridcolor": "white",
            "linecolor": "white",
            "ticks": ""
           },
           "baxis": {
            "gridcolor": "white",
            "linecolor": "white",
            "ticks": ""
           },
           "bgcolor": "#E5ECF6",
           "caxis": {
            "gridcolor": "white",
            "linecolor": "white",
            "ticks": ""
           }
          },
          "title": {
           "x": 0.05
          },
          "xaxis": {
           "automargin": true,
           "gridcolor": "white",
           "linecolor": "white",
           "ticks": "",
           "title": {
            "standoff": 15
           },
           "zerolinecolor": "white",
           "zerolinewidth": 2
          },
          "yaxis": {
           "automargin": true,
           "gridcolor": "white",
           "linecolor": "white",
           "ticks": "",
           "title": {
            "standoff": 15
           },
           "zerolinecolor": "white",
           "zerolinewidth": 2
          }
         }
        },
        "width": 700
       }
      }
     },
     "metadata": {},
     "output_type": "display_data"
    },
    {
     "data": {
      "text/html": [
       "<style type=\"text/css\">\n",
       "</style>\n",
       "<table id=\"T_1c66f\" style='display:inline'>\n",
       "  <caption>Direct correlation</caption>\n",
       "  <thead>\n",
       "    <tr>\n",
       "      <th class=\"blank level0\" >&nbsp;</th>\n",
       "      <th id=\"T_1c66f_level0_col0\" class=\"col_heading level0 col0\" >Homicides</th>\n",
       "    </tr>\n",
       "    <tr>\n",
       "      <th class=\"index_name level0\" >Country</th>\n",
       "      <th class=\"blank col0\" >&nbsp;</th>\n",
       "    </tr>\n",
       "  </thead>\n",
       "  <tbody>\n",
       "    <tr>\n",
       "      <th id=\"T_1c66f_level0_row0\" class=\"row_heading level0 row0\" >Uruguay</th>\n",
       "      <td id=\"T_1c66f_row0_col0\" class=\"data row0 col0\" >0.764630</td>\n",
       "    </tr>\n",
       "    <tr>\n",
       "      <th id=\"T_1c66f_level0_row1\" class=\"row_heading level0 row1\" >Burkina Faso</th>\n",
       "      <td id=\"T_1c66f_row1_col0\" class=\"data row1 col0\" >0.764522</td>\n",
       "    </tr>\n",
       "    <tr>\n",
       "      <th id=\"T_1c66f_level0_row2\" class=\"row_heading level0 row2\" >Costa Rica</th>\n",
       "      <td id=\"T_1c66f_row2_col0\" class=\"data row2 col0\" >0.760729</td>\n",
       "    </tr>\n",
       "    <tr>\n",
       "      <th id=\"T_1c66f_level0_row3\" class=\"row_heading level0 row3\" >Belize</th>\n",
       "      <td id=\"T_1c66f_row3_col0\" class=\"data row3 col0\" >0.738115</td>\n",
       "    </tr>\n",
       "    <tr>\n",
       "      <th id=\"T_1c66f_level0_row4\" class=\"row_heading level0 row4\" >Myanmar</th>\n",
       "      <td id=\"T_1c66f_row4_col0\" class=\"data row4 col0\" >0.687596</td>\n",
       "    </tr>\n",
       "    <tr>\n",
       "      <th id=\"T_1c66f_level0_row5\" class=\"row_heading level0 row5\" >Mexico</th>\n",
       "      <td id=\"T_1c66f_row5_col0\" class=\"data row5 col0\" >0.642393</td>\n",
       "    </tr>\n",
       "    <tr>\n",
       "      <th id=\"T_1c66f_level0_row6\" class=\"row_heading level0 row6\" >Greece</th>\n",
       "      <td id=\"T_1c66f_row6_col0\" class=\"data row6 col0\" >0.563903</td>\n",
       "    </tr>\n",
       "    <tr>\n",
       "      <th id=\"T_1c66f_level0_row7\" class=\"row_heading level0 row7\" >Trinidad and Tobago</th>\n",
       "      <td id=\"T_1c66f_row7_col0\" class=\"data row7 col0\" >0.539280</td>\n",
       "    </tr>\n",
       "  </tbody>\n",
       "</table>\n",
       "          <style type=\"text/css\">\n",
       "</style>\n",
       "<table id=\"T_c2d77\" style='display:inline'>\n",
       "  <caption>Inverse correlation</caption>\n",
       "  <thead>\n",
       "    <tr>\n",
       "      <th class=\"blank level0\" >&nbsp;</th>\n",
       "      <th id=\"T_c2d77_level0_col0\" class=\"col_heading level0 col0\" >Homicides</th>\n",
       "    </tr>\n",
       "    <tr>\n",
       "      <th class=\"index_name level0\" >Country</th>\n",
       "      <th class=\"blank col0\" >&nbsp;</th>\n",
       "    </tr>\n",
       "  </thead>\n",
       "  <tbody>\n",
       "    <tr>\n",
       "      <th id=\"T_c2d77_level0_row0\" class=\"row_heading level0 row0\" >China</th>\n",
       "      <td id=\"T_c2d77_row0_col0\" class=\"data row0 col0\" >-0.996100</td>\n",
       "    </tr>\n",
       "    <tr>\n",
       "      <th id=\"T_c2d77_level0_row1\" class=\"row_heading level0 row1\" >India</th>\n",
       "      <td id=\"T_c2d77_row1_col0\" class=\"data row1 col0\" >-0.986997</td>\n",
       "    </tr>\n",
       "    <tr>\n",
       "      <th id=\"T_c2d77_level0_row2\" class=\"row_heading level0 row2\" >Thailand</th>\n",
       "      <td id=\"T_c2d77_row2_col0\" class=\"data row2 col0\" >-0.958963</td>\n",
       "    </tr>\n",
       "    <tr>\n",
       "      <th id=\"T_c2d77_level0_row3\" class=\"row_heading level0 row3\" >Singapore</th>\n",
       "      <td id=\"T_c2d77_row3_col0\" class=\"data row3 col0\" >-0.938882</td>\n",
       "    </tr>\n",
       "    <tr>\n",
       "      <th id=\"T_c2d77_level0_row4\" class=\"row_heading level0 row4\" >Paraguay</th>\n",
       "      <td id=\"T_c2d77_row4_col0\" class=\"data row4 col0\" >-0.937582</td>\n",
       "    </tr>\n",
       "    <tr>\n",
       "      <th id=\"T_c2d77_level0_row5\" class=\"row_heading level0 row5\" >Israel</th>\n",
       "      <td id=\"T_c2d77_row5_col0\" class=\"data row5 col0\" >-0.925086</td>\n",
       "    </tr>\n",
       "    <tr>\n",
       "      <th id=\"T_c2d77_level0_row6\" class=\"row_heading level0 row6\" >Estonia</th>\n",
       "      <td id=\"T_c2d77_row6_col0\" class=\"data row6 col0\" >-0.920677</td>\n",
       "    </tr>\n",
       "    <tr>\n",
       "      <th id=\"T_c2d77_level0_row7\" class=\"row_heading level0 row7\" >Bulgaria</th>\n",
       "      <td id=\"T_c2d77_row7_col0\" class=\"data row7 col0\" >-0.910274</td>\n",
       "    </tr>\n",
       "    <tr>\n",
       "      <th id=\"T_c2d77_level0_row8\" class=\"row_heading level0 row8\" >South Africa</th>\n",
       "      <td id=\"T_c2d77_row8_col0\" class=\"data row8 col0\" >-0.882372</td>\n",
       "    </tr>\n",
       "    <tr>\n",
       "      <th id=\"T_c2d77_level0_row9\" class=\"row_heading level0 row9\" >North Macedonia</th>\n",
       "      <td id=\"T_c2d77_row9_col0\" class=\"data row9 col0\" >-0.881665</td>\n",
       "    </tr>\n",
       "  </tbody>\n",
       "</table>\n"
      ]
     },
     "metadata": {},
     "output_type": "display_data"
    }
   ],
   "source": [
    "def globalGrapgh(df_corr_spearman, indicator):\n",
    "    N = 10\n",
    "    fig = px.choropleth(df_corr_spearman, locations = df_corr_spearman.index, locationmode='country names', \n",
    "                        color = indicator, projection=\"natural earth\",\n",
    "                        color_continuous_scale='RdBu',\n",
    "                        width = 700, height=500)\n",
    "\n",
    "    pos_corr = df_corr_spearman.drop(df_corr_spearman.columns.difference([indicator]), axis = 1).sort_values(by = indicator, axis = 0, ascending = False).head(n = N)\n",
    "    neg_corr = df_corr_spearman.drop(df_corr_spearman.columns.difference([indicator]), axis = 1).sort_values(by = indicator, axis = 0, ascending = True).head(n = N)\n",
    "\n",
    "    pos_corr = pos_corr.loc[pos_corr[indicator] > 0]\n",
    "    neg_corr = neg_corr.loc[neg_corr[indicator] < 0]\n",
    "\n",
    "\n",
    "    fig.update(layout_coloraxis_showscale=True)\n",
    "    fig.show()\n",
    "    \n",
    "    pos_styler = pos_corr.style.set_table_attributes(\"style='display:inline'\").set_caption('Direct correlation')\n",
    "    neg_styler = neg_corr.style.set_table_attributes(\"style='display:inline'\").set_caption('Inverse correlation')\n",
    "\n",
    "    space = \"\\xa0\" * 10\n",
    "    display_html(pos_styler._repr_html_() + space  + neg_styler._repr_html_(), raw=True)\n",
    "\n",
    "globalGrapgh(df_corr_spearman, indicator)"
   ]
  },
  {
   "cell_type": "code",
   "execution_count": 41,
   "metadata": {},
   "outputs": [
    {
     "data": {
      "text/html": [
       "<style type=\"text/css\">\n",
       "#T_c5cef_row0_col0, #T_c5cef_row0_col2, #T_c5cef_row1_col0, #T_c5cef_row1_col2, #T_c5cef_row2_col0, #T_c5cef_row2_col2, #T_c5cef_row3_col0, #T_c5cef_row3_col2 {\n",
       "  color: white;\n",
       "  background-color: #929bfc;\n",
       "  color: white;\n",
       "  background-color: #b3b9ff;\n",
       "}\n",
       "#T_c5cef_row4_col0, #T_c5cef_row4_col2, #T_c5cef_row5_col0, #T_c5cef_row5_col2 {\n",
       "  color: white;\n",
       "  background-color: #929bfc;\n",
       "}\n",
       "</style>\n",
       "<table id=\"T_c5cef\">\n",
       "  <thead>\n",
       "    <tr>\n",
       "      <th class=\"blank level0\" >&nbsp;</th>\n",
       "      <th id=\"T_c5cef_level0_col0\" class=\"col_heading level0 col0\" >GDP Pearson Corr</th>\n",
       "      <th id=\"T_c5cef_level0_col1\" class=\"col_heading level0 col1\" >P-value Pearson</th>\n",
       "      <th id=\"T_c5cef_level0_col2\" class=\"col_heading level0 col2\" >GDP Spearman Corr</th>\n",
       "      <th id=\"T_c5cef_level0_col3\" class=\"col_heading level0 col3\" >P-value Spearman</th>\n",
       "    </tr>\n",
       "    <tr>\n",
       "      <th class=\"index_name level0\" >Indicator</th>\n",
       "      <th class=\"blank col0\" >&nbsp;</th>\n",
       "      <th class=\"blank col1\" >&nbsp;</th>\n",
       "      <th class=\"blank col2\" >&nbsp;</th>\n",
       "      <th class=\"blank col3\" >&nbsp;</th>\n",
       "    </tr>\n",
       "  </thead>\n",
       "  <tbody>\n",
       "    <tr>\n",
       "      <th id=\"T_c5cef_level0_row0\" class=\"row_heading level0 row0\" >R&D expenditure %GDP</th>\n",
       "      <td id=\"T_c5cef_row0_col0\" class=\"data row0 col0\" >0.9218</td>\n",
       "      <td id=\"T_c5cef_row0_col1\" class=\"data row0 col1\" >0.000000002932</td>\n",
       "      <td id=\"T_c5cef_row0_col2\" class=\"data row0 col2\" >0.8334</td>\n",
       "      <td id=\"T_c5cef_row0_col3\" class=\"data row0 col3\" >0.000002719194</td>\n",
       "    </tr>\n",
       "    <tr>\n",
       "      <th id=\"T_c5cef_level0_row1\" class=\"row_heading level0 row1\" >Researchers in R&D</th>\n",
       "      <td id=\"T_c5cef_row1_col0\" class=\"data row1 col0\" >0.8883</td>\n",
       "      <td id=\"T_c5cef_row1_col1\" class=\"data row1 col1\" >0.000000076315</td>\n",
       "      <td id=\"T_c5cef_row1_col2\" class=\"data row1 col2\" >0.7672</td>\n",
       "      <td id=\"T_c5cef_row1_col3\" class=\"data row1 col3\" >0.000049374718</td>\n",
       "    </tr>\n",
       "    <tr>\n",
       "      <th id=\"T_c5cef_level0_row2\" class=\"row_heading level0 row2\" >% Female Employment</th>\n",
       "      <td id=\"T_c5cef_row2_col0\" class=\"data row2 col0\" >0.8869</td>\n",
       "      <td id=\"T_c5cef_row2_col1\" class=\"data row2 col1\" >0.000000085176</td>\n",
       "      <td id=\"T_c5cef_row2_col2\" class=\"data row2 col2\" >0.7243</td>\n",
       "      <td id=\"T_c5cef_row2_col3\" class=\"data row2 col3\" >0.000204871523</td>\n",
       "    </tr>\n",
       "    <tr>\n",
       "      <th id=\"T_c5cef_level0_row3\" class=\"row_heading level0 row3\" >Tertiary School Gender Parity</th>\n",
       "      <td id=\"T_c5cef_row3_col0\" class=\"data row3 col0\" >0.7199</td>\n",
       "      <td id=\"T_c5cef_row3_col1\" class=\"data row3 col1\" >0.000233451377</td>\n",
       "      <td id=\"T_c5cef_row3_col2\" class=\"data row3 col2\" >0.7147</td>\n",
       "      <td id=\"T_c5cef_row3_col3\" class=\"data row3 col3\" >0.000271748672</td>\n",
       "    </tr>\n",
       "    <tr>\n",
       "      <th id=\"T_c5cef_level0_row4\" class=\"row_heading level0 row4\" >AgriShareGDP</th>\n",
       "      <td id=\"T_c5cef_row4_col0\" class=\"data row4 col0\" >-0.9246</td>\n",
       "      <td id=\"T_c5cef_row4_col1\" class=\"data row4 col1\" >0.000000002107</td>\n",
       "      <td id=\"T_c5cef_row4_col2\" class=\"data row4 col2\" >-0.8529</td>\n",
       "      <td id=\"T_c5cef_row4_col3\" class=\"data row4 col3\" >0.000000903819</td>\n",
       "    </tr>\n",
       "    <tr>\n",
       "      <th id=\"T_c5cef_level0_row5\" class=\"row_heading level0 row5\" >Employment in agriculture</th>\n",
       "      <td id=\"T_c5cef_row5_col0\" class=\"data row5 col0\" >-0.9320</td>\n",
       "      <td id=\"T_c5cef_row5_col1\" class=\"data row5 col1\" >0.000000000813</td>\n",
       "      <td id=\"T_c5cef_row5_col2\" class=\"data row5 col2\" >-0.7293</td>\n",
       "      <td id=\"T_c5cef_row5_col3\" class=\"data row5 col3\" >0.000176140449</td>\n",
       "    </tr>\n",
       "  </tbody>\n",
       "</table>\n"
      ],
      "text/plain": [
       "<pandas.io.formats.style.Styler at 0x2635afdf9d0>"
      ]
     },
     "metadata": {},
     "output_type": "display_data"
    }
   ],
   "source": [
    "def tableOut(threshold, country):\n",
    "    df = search(threshold, col_country, country)\n",
    "    if df.empty:\n",
    "        return print(\"No indicators have been found.\")\n",
    "          \n",
    "    left1 = pd.Series([PVALUE_VAR, PVALUE_VAR], index=['P-value Pearson', 'P-value Spearman'])\n",
    "    left2 = pd.Series([-1, -1], index=['GDP Pearson Corr', 'GDP Spearman Corr'])\n",
    "    left3 = pd.Series([0, 0], index=['GDP Pearson Corr', 'GDP Spearman Corr'])\n",
    "    df = df.style.highlight_between(left = left1, right = 1.5, axis = 1, props='color:white; background-color:red;')\\\n",
    "                 .highlight_between(left = left2, right = 1.5, axis = 1, props='color:white; background-color:#929bfc;')\\\n",
    "                 .highlight_between(left = left3, right = 1.5, axis = 1, props='color:white; background-color:#b3b9ff;')\\\n",
    "                 .format('{:,.4f}', subset = ['GDP Pearson Corr', 'GDP Spearman Corr'])\\\n",
    "                 .format('{:,.12f}', subset = ['P-value Pearson', 'P-value Spearman']) \n",
    "    \n",
    "    \n",
    "    display(df)\n",
    "\n",
    "tableOut(threshold, country)"
   ]
  },
  {
   "cell_type": "code",
   "execution_count": 25,
   "metadata": {},
   "outputs": [
    {
     "data": {
      "text/html": [
       "<style type=\"text/css\">\n",
       "#T_cd5bf_row0_col0, #T_cd5bf_row0_col1, #T_cd5bf_row1_col0, #T_cd5bf_row1_col1, #T_cd5bf_row2_col0, #T_cd5bf_row2_col1, #T_cd5bf_row3_col0, #T_cd5bf_row3_col1, #T_cd5bf_row4_col0, #T_cd5bf_row4_col1, #T_cd5bf_row5_col0, #T_cd5bf_row5_col1 {\n",
       "  color: white;\n",
       "  background-color: #929bfc;\n",
       "  color: white;\n",
       "  background-color: #b3b9ff;\n",
       "}\n",
       "#T_cd5bf_row6_col0, #T_cd5bf_row6_col1, #T_cd5bf_row7_col0, #T_cd5bf_row7_col1, #T_cd5bf_row8_col0, #T_cd5bf_row8_col1, #T_cd5bf_row9_col0, #T_cd5bf_row9_col1, #T_cd5bf_row10_col0, #T_cd5bf_row10_col1, #T_cd5bf_row11_col0, #T_cd5bf_row11_col1, #T_cd5bf_row12_col0, #T_cd5bf_row12_col1, #T_cd5bf_row13_col0, #T_cd5bf_row13_col1, #T_cd5bf_row14_col0, #T_cd5bf_row14_col1, #T_cd5bf_row15_col0, #T_cd5bf_row15_col1, #T_cd5bf_row16_col0, #T_cd5bf_row16_col1, #T_cd5bf_row17_col0, #T_cd5bf_row17_col1 {\n",
       "  color: white;\n",
       "  background-color: #929bfc;\n",
       "}\n",
       "</style>\n",
       "<table id=\"T_cd5bf\">\n",
       "  <thead>\n",
       "    <tr>\n",
       "      <th class=\"blank level0\" >&nbsp;</th>\n",
       "      <th id=\"T_cd5bf_level0_col0\" class=\"col_heading level0 col0\" >GDP Pearson Corr</th>\n",
       "      <th id=\"T_cd5bf_level0_col1\" class=\"col_heading level0 col1\" >GDP Spearman Corr</th>\n",
       "    </tr>\n",
       "  </thead>\n",
       "  <tbody>\n",
       "    <tr>\n",
       "      <th id=\"T_cd5bf_level0_row0\" class=\"row_heading level0 row0\" >Life Expectancy</th>\n",
       "      <td id=\"T_cd5bf_row0_col0\" class=\"data row0 col0\" >0.9877</td>\n",
       "      <td id=\"T_cd5bf_row0_col1\" class=\"data row0 col1\" >0.9877</td>\n",
       "    </tr>\n",
       "    <tr>\n",
       "      <th id=\"T_cd5bf_level0_row1\" class=\"row_heading level0 row1\" >Population</th>\n",
       "      <td id=\"T_cd5bf_row1_col0\" class=\"data row1 col0\" >0.9805</td>\n",
       "      <td id=\"T_cd5bf_row1_col1\" class=\"data row1 col1\" >0.9805</td>\n",
       "    </tr>\n",
       "    <tr>\n",
       "      <th id=\"T_cd5bf_level0_row2\" class=\"row_heading level0 row2\" >Employment in services</th>\n",
       "      <td id=\"T_cd5bf_row2_col0\" class=\"data row2 col0\" >0.9756</td>\n",
       "      <td id=\"T_cd5bf_row2_col1\" class=\"data row2 col1\" >0.9756</td>\n",
       "    </tr>\n",
       "    <tr>\n",
       "      <th id=\"T_cd5bf_level0_row3\" class=\"row_heading level0 row3\" >Employment in industry</th>\n",
       "      <td id=\"T_cd5bf_row3_col0\" class=\"data row3 col0\" >0.9386</td>\n",
       "      <td id=\"T_cd5bf_row3_col1\" class=\"data row3 col1\" >0.9386</td>\n",
       "    </tr>\n",
       "    <tr>\n",
       "      <th id=\"T_cd5bf_level0_row4\" class=\"row_heading level0 row4\" >Tertiary School Gender Parity</th>\n",
       "      <td id=\"T_cd5bf_row4_col0\" class=\"data row4 col0\" >0.9214</td>\n",
       "      <td id=\"T_cd5bf_row4_col1\" class=\"data row4 col1\" >0.9214</td>\n",
       "    </tr>\n",
       "    <tr>\n",
       "      <th id=\"T_cd5bf_level0_row5\" class=\"row_heading level0 row5\" >% Female Employment</th>\n",
       "      <td id=\"T_cd5bf_row5_col0\" class=\"data row5 col0\" >0.7325</td>\n",
       "      <td id=\"T_cd5bf_row5_col1\" class=\"data row5 col1\" >0.7325</td>\n",
       "    </tr>\n",
       "    <tr>\n",
       "      <th id=\"T_cd5bf_level0_row6\" class=\"row_heading level0 row6\" >AgriShareGDP</th>\n",
       "      <td id=\"T_cd5bf_row6_col0\" class=\"data row6 col0\" >-0.7386</td>\n",
       "      <td id=\"T_cd5bf_row6_col1\" class=\"data row6 col1\" >-0.7386</td>\n",
       "    </tr>\n",
       "    <tr>\n",
       "      <th id=\"T_cd5bf_level0_row7\" class=\"row_heading level0 row7\" >Homicides</th>\n",
       "      <td id=\"T_cd5bf_row7_col0\" class=\"data row7 col0\" >-0.7856</td>\n",
       "      <td id=\"T_cd5bf_row7_col1\" class=\"data row7 col1\" >-0.7856</td>\n",
       "    </tr>\n",
       "    <tr>\n",
       "      <th id=\"T_cd5bf_level0_row8\" class=\"row_heading level0 row8\" >% Vulnerable male employment</th>\n",
       "      <td id=\"T_cd5bf_row8_col0\" class=\"data row8 col0\" >-0.9217</td>\n",
       "      <td id=\"T_cd5bf_row8_col1\" class=\"data row8 col1\" >-0.9217</td>\n",
       "    </tr>\n",
       "    <tr>\n",
       "      <th id=\"T_cd5bf_level0_row9\" class=\"row_heading level0 row9\" >% Population Growth</th>\n",
       "      <td id=\"T_cd5bf_row9_col0\" class=\"data row9 col0\" >-0.9416</td>\n",
       "      <td id=\"T_cd5bf_row9_col1\" class=\"data row9 col1\" >-0.9416</td>\n",
       "    </tr>\n",
       "    <tr>\n",
       "      <th id=\"T_cd5bf_level0_row10\" class=\"row_heading level0 row10\" >Cost business start-up</th>\n",
       "      <td id=\"T_cd5bf_row10_col0\" class=\"data row10 col0\" >-0.9423</td>\n",
       "      <td id=\"T_cd5bf_row10_col1\" class=\"data row10 col1\" >-0.9423</td>\n",
       "    </tr>\n",
       "    <tr>\n",
       "      <th id=\"T_cd5bf_level0_row11\" class=\"row_heading level0 row11\" >% Male Employment</th>\n",
       "      <td id=\"T_cd5bf_row11_col0\" class=\"data row11 col0\" >-0.9625</td>\n",
       "      <td id=\"T_cd5bf_row11_col1\" class=\"data row11 col1\" >-0.9625</td>\n",
       "    </tr>\n",
       "    <tr>\n",
       "      <th id=\"T_cd5bf_level0_row12\" class=\"row_heading level0 row12\" >Death Rate</th>\n",
       "      <td id=\"T_cd5bf_row12_col0\" class=\"data row12 col0\" >-0.9680</td>\n",
       "      <td id=\"T_cd5bf_row12_col1\" class=\"data row12 col1\" >-0.9680</td>\n",
       "    </tr>\n",
       "    <tr>\n",
       "      <th id=\"T_cd5bf_level0_row13\" class=\"row_heading level0 row13\" >Birth Rate</th>\n",
       "      <td id=\"T_cd5bf_row13_col0\" class=\"data row13 col0\" >-0.9792</td>\n",
       "      <td id=\"T_cd5bf_row13_col1\" class=\"data row13 col1\" >-0.9792</td>\n",
       "    </tr>\n",
       "    <tr>\n",
       "      <th id=\"T_cd5bf_level0_row14\" class=\"row_heading level0 row14\" >Employment in agriculture</th>\n",
       "      <td id=\"T_cd5bf_row14_col0\" class=\"data row14 col0\" >-0.9831</td>\n",
       "      <td id=\"T_cd5bf_row14_col1\" class=\"data row14 col1\" >-0.9831</td>\n",
       "    </tr>\n",
       "    <tr>\n",
       "      <th id=\"T_cd5bf_level0_row15\" class=\"row_heading level0 row15\" >Infant Mortality</th>\n",
       "      <td id=\"T_cd5bf_row15_col0\" class=\"data row15 col0\" >-0.9864</td>\n",
       "      <td id=\"T_cd5bf_row15_col1\" class=\"data row15 col1\" >-0.9864</td>\n",
       "    </tr>\n",
       "    <tr>\n",
       "      <th id=\"T_cd5bf_level0_row16\" class=\"row_heading level0 row16\" >Maternal Death Risk</th>\n",
       "      <td id=\"T_cd5bf_row16_col0\" class=\"data row16 col0\" >-0.9919</td>\n",
       "      <td id=\"T_cd5bf_row16_col1\" class=\"data row16 col1\" >-0.9919</td>\n",
       "    </tr>\n",
       "    <tr>\n",
       "      <th id=\"T_cd5bf_level0_row17\" class=\"row_heading level0 row17\" >% Rural Population</th>\n",
       "      <td id=\"T_cd5bf_row17_col0\" class=\"data row17 col0\" >-0.9935</td>\n",
       "      <td id=\"T_cd5bf_row17_col1\" class=\"data row17 col1\" >-0.9935</td>\n",
       "    </tr>\n",
       "  </tbody>\n",
       "</table>\n"
      ],
      "text/plain": [
       "<pandas.io.formats.style.Styler at 0x26358d440d0>"
      ]
     },
     "metadata": {},
     "output_type": "display_data"
    }
   ],
   "source": [
    "def tableRegMed(region, threshold):    \n",
    "    median_corr_series_pearson_region = median_corr_df_pearson_region.loc[region]\n",
    "    median_corr_series_pearson_region.name = 'GDP Pearson Corr'\n",
    "    median_corr_series_spearman_region = median_corr_df_spearman_region.loc[region]\n",
    "    median_corr_series_spearman_region.name = 'GDP Spearman Corr'\n",
    "    df = pd.concat([median_corr_series_pearson_region, median_corr_series_spearman_region], axis = 1)\n",
    "    df = df.loc[(abs(df['GDP Pearson Corr']) >= threshold) & (abs(df['GDP Spearman Corr']) >= threshold)]\n",
    "\n",
    "    if df.empty:\n",
    "        return print(\"No indicators have been found.\")\n",
    "\n",
    "    df = df.sort_values(by = df.columns[0], ascending = False, key = lambda row: df.sum(axis = 1))\n",
    "\n",
    "    left1 = pd.Series([-1, -1], index = ['GDP Pearson Corr', 'GDP Spearman Corr'])\n",
    "    left2 = pd.Series([0, 0], index = ['GDP Pearson Corr', 'GDP Spearman Corr'])\n",
    "    df = df.style\\\n",
    "        .highlight_between(left = left1, right = 1.5, axis = 1, props = 'color:white; background-color:#929bfc;')\\\n",
    "        .highlight_between(left = left2, right = 1.5, axis = 1, props = 'color:white; background-color:#b3b9ff;')\\\n",
    "        .format('{:,.4f}', subset = ['GDP Pearson Corr', 'GDP Spearman Corr'])\\\n",
    "    \n",
    "    display(df)\n",
    "\n",
    "tableRegMed(region, threshold)"
   ]
  },
  {
   "cell_type": "code",
   "execution_count": 26,
   "metadata": {},
   "outputs": [
    {
     "data": {
      "text/html": [
       "<style type=\"text/css\">\n",
       "#T_fedbd_row0_col0, #T_fedbd_row0_col1, #T_fedbd_row1_col0, #T_fedbd_row1_col1, #T_fedbd_row2_col0, #T_fedbd_row2_col1, #T_fedbd_row3_col0, #T_fedbd_row3_col1, #T_fedbd_row4_col0, #T_fedbd_row4_col1 {\n",
       "  color: white;\n",
       "  background-color: #929bfc;\n",
       "  color: white;\n",
       "  background-color: #b3b9ff;\n",
       "}\n",
       "#T_fedbd_row5_col0, #T_fedbd_row5_col1, #T_fedbd_row6_col0, #T_fedbd_row6_col1, #T_fedbd_row7_col0, #T_fedbd_row7_col1, #T_fedbd_row8_col0, #T_fedbd_row8_col1, #T_fedbd_row9_col0, #T_fedbd_row9_col1, #T_fedbd_row10_col0, #T_fedbd_row10_col1, #T_fedbd_row11_col0, #T_fedbd_row11_col1, #T_fedbd_row12_col0, #T_fedbd_row12_col1, #T_fedbd_row13_col0, #T_fedbd_row13_col1, #T_fedbd_row14_col0, #T_fedbd_row14_col1, #T_fedbd_row15_col0, #T_fedbd_row15_col1 {\n",
       "  color: white;\n",
       "  background-color: #929bfc;\n",
       "}\n",
       "</style>\n",
       "<table id=\"T_fedbd\">\n",
       "  <thead>\n",
       "    <tr>\n",
       "      <th class=\"blank level0\" >&nbsp;</th>\n",
       "      <th id=\"T_fedbd_level0_col0\" class=\"col_heading level0 col0\" >GDP Pearson Corr</th>\n",
       "      <th id=\"T_fedbd_level0_col1\" class=\"col_heading level0 col1\" >GDP Spearman Corr</th>\n",
       "    </tr>\n",
       "  </thead>\n",
       "  <tbody>\n",
       "    <tr>\n",
       "      <th id=\"T_fedbd_level0_row0\" class=\"row_heading level0 row0\" >Population</th>\n",
       "      <td id=\"T_fedbd_row0_col0\" class=\"data row0 col0\" >0.9167</td>\n",
       "      <td id=\"T_fedbd_row0_col1\" class=\"data row0 col1\" >0.9167</td>\n",
       "    </tr>\n",
       "    <tr>\n",
       "      <th id=\"T_fedbd_level0_row1\" class=\"row_heading level0 row1\" >Life Expectancy</th>\n",
       "      <td id=\"T_fedbd_row1_col0\" class=\"data row1 col0\" >0.9144</td>\n",
       "      <td id=\"T_fedbd_row1_col1\" class=\"data row1 col1\" >0.9144</td>\n",
       "    </tr>\n",
       "    <tr>\n",
       "      <th id=\"T_fedbd_level0_row2\" class=\"row_heading level0 row2\" >Employment in services</th>\n",
       "      <td id=\"T_fedbd_row2_col0\" class=\"data row2 col0\" >0.8672</td>\n",
       "      <td id=\"T_fedbd_row2_col1\" class=\"data row2 col1\" >0.8672</td>\n",
       "    </tr>\n",
       "    <tr>\n",
       "      <th id=\"T_fedbd_level0_row3\" class=\"row_heading level0 row3\" >Researchers in R&D</th>\n",
       "      <td id=\"T_fedbd_row3_col0\" class=\"data row3 col0\" >0.7870</td>\n",
       "      <td id=\"T_fedbd_row3_col1\" class=\"data row3 col1\" >0.7870</td>\n",
       "    </tr>\n",
       "    <tr>\n",
       "      <th id=\"T_fedbd_level0_row4\" class=\"row_heading level0 row4\" >Tertiary School Gender Parity</th>\n",
       "      <td id=\"T_fedbd_row4_col0\" class=\"data row4 col0\" >0.7147</td>\n",
       "      <td id=\"T_fedbd_row4_col1\" class=\"data row4 col1\" >0.7147</td>\n",
       "    </tr>\n",
       "    <tr>\n",
       "      <th id=\"T_fedbd_level0_row5\" class=\"row_heading level0 row5\" >AgriShareGDP</th>\n",
       "      <td id=\"T_fedbd_row5_col0\" class=\"data row5 col0\" >-0.7145</td>\n",
       "      <td id=\"T_fedbd_row5_col1\" class=\"data row5 col1\" >-0.7145</td>\n",
       "    </tr>\n",
       "    <tr>\n",
       "      <th id=\"T_fedbd_level0_row6\" class=\"row_heading level0 row6\" >Death Rate</th>\n",
       "      <td id=\"T_fedbd_row6_col0\" class=\"data row6 col0\" >-0.7610</td>\n",
       "      <td id=\"T_fedbd_row6_col1\" class=\"data row6 col1\" >-0.7610</td>\n",
       "    </tr>\n",
       "    <tr>\n",
       "      <th id=\"T_fedbd_level0_row7\" class=\"row_heading level0 row7\" >% Soldiers</th>\n",
       "      <td id=\"T_fedbd_row7_col0\" class=\"data row7 col0\" >-0.7815</td>\n",
       "      <td id=\"T_fedbd_row7_col1\" class=\"data row7 col1\" >-0.7815</td>\n",
       "    </tr>\n",
       "    <tr>\n",
       "      <th id=\"T_fedbd_level0_row8\" class=\"row_heading level0 row8\" >% Vulnerable female employment</th>\n",
       "      <td id=\"T_fedbd_row8_col0\" class=\"data row8 col0\" >-0.8030</td>\n",
       "      <td id=\"T_fedbd_row8_col1\" class=\"data row8 col1\" >-0.8030</td>\n",
       "    </tr>\n",
       "    <tr>\n",
       "      <th id=\"T_fedbd_level0_row9\" class=\"row_heading level0 row9\" >% Vulnerable male employment</th>\n",
       "      <td id=\"T_fedbd_row9_col0\" class=\"data row9 col0\" >-0.8087</td>\n",
       "      <td id=\"T_fedbd_row9_col1\" class=\"data row9 col1\" >-0.8087</td>\n",
       "    </tr>\n",
       "    <tr>\n",
       "      <th id=\"T_fedbd_level0_row10\" class=\"row_heading level0 row10\" >Employment in agriculture</th>\n",
       "      <td id=\"T_fedbd_row10_col0\" class=\"data row10 col0\" >-0.8648</td>\n",
       "      <td id=\"T_fedbd_row10_col1\" class=\"data row10 col1\" >-0.8648</td>\n",
       "    </tr>\n",
       "    <tr>\n",
       "      <th id=\"T_fedbd_level0_row11\" class=\"row_heading level0 row11\" >Cost business start-up</th>\n",
       "      <td id=\"T_fedbd_row11_col0\" class=\"data row11 col0\" >-0.8722</td>\n",
       "      <td id=\"T_fedbd_row11_col1\" class=\"data row11 col1\" >-0.8722</td>\n",
       "    </tr>\n",
       "    <tr>\n",
       "      <th id=\"T_fedbd_level0_row12\" class=\"row_heading level0 row12\" >% Rural Population</th>\n",
       "      <td id=\"T_fedbd_row12_col0\" class=\"data row12 col0\" >-0.9013</td>\n",
       "      <td id=\"T_fedbd_row12_col1\" class=\"data row12 col1\" >-0.9013</td>\n",
       "    </tr>\n",
       "    <tr>\n",
       "      <th id=\"T_fedbd_level0_row13\" class=\"row_heading level0 row13\" >Infant Mortality</th>\n",
       "      <td id=\"T_fedbd_row13_col0\" class=\"data row13 col0\" >-0.9121</td>\n",
       "      <td id=\"T_fedbd_row13_col1\" class=\"data row13 col1\" >-0.9121</td>\n",
       "    </tr>\n",
       "    <tr>\n",
       "      <th id=\"T_fedbd_level0_row14\" class=\"row_heading level0 row14\" >Birth Rate</th>\n",
       "      <td id=\"T_fedbd_row14_col0\" class=\"data row14 col0\" >-0.9143</td>\n",
       "      <td id=\"T_fedbd_row14_col1\" class=\"data row14 col1\" >-0.9143</td>\n",
       "    </tr>\n",
       "    <tr>\n",
       "      <th id=\"T_fedbd_level0_row15\" class=\"row_heading level0 row15\" >Maternal Death Risk</th>\n",
       "      <td id=\"T_fedbd_row15_col0\" class=\"data row15 col0\" >-0.9199</td>\n",
       "      <td id=\"T_fedbd_row15_col1\" class=\"data row15 col1\" >-0.9199</td>\n",
       "    </tr>\n",
       "  </tbody>\n",
       "</table>\n"
      ],
      "text/plain": [
       "<pandas.io.formats.style.Styler at 0x26358d45270>"
      ]
     },
     "metadata": {},
     "output_type": "display_data"
    }
   ],
   "source": [
    "def tableWorldMed(threshold):\n",
    "    df = pd.concat([median_corr_df_pearson, median_corr_df_spearman], axis = 1)\n",
    "    df = df.loc[(abs(df['GDP Pearson Corr']) >= threshold) & (abs(df['GDP Spearman Corr']) >= threshold)]\n",
    "\n",
    "    if df.empty:\n",
    "        return print(\"No indicators have been found.\")\n",
    "\n",
    "    df = df.sort_values(by = df.columns[0], ascending = False, key = lambda row: df.sum(axis = 1))\n",
    "\n",
    "    left1 = pd.Series([-1, -1], index = ['GDP Pearson Corr', 'GDP Spearman Corr'])\n",
    "    left2 = pd.Series([0, 0], index = ['GDP Pearson Corr', 'GDP Spearman Corr'])\n",
    "    df = df.style.highlight_between(left = left1, right = 1.5, axis = 1, props = 'color:white; background-color:#929bfc;')\\\n",
    "                 .highlight_between(left = left2, right = 1.5, axis = 1, props = 'color:white; background-color:#b3b9ff;')\\\n",
    "                 .format('{:,.4f}', subset = ['GDP Pearson Corr', 'GDP Spearman Corr'])\\\n",
    "\n",
    "    display(df)\n",
    "\n",
    "tableWorldMed(threshold)"
   ]
  },
  {
   "cell_type": "code",
   "execution_count": 27,
   "metadata": {},
   "outputs": [],
   "source": [
    "class WidgetTimeWindowCountryStatus:\n",
    "    def __init__(self):\n",
    "        self.filter_by = \"Country\"\n",
    "        self.zone = None\n",
    "        self.data = None\n",
    "        \n",
    "status_widget = WidgetTimeWindowCountryStatus()"
   ]
  },
  {
   "cell_type": "code",
   "execution_count": 29,
   "metadata": {},
   "outputs": [
    {
     "data": {
      "text/html": [
       "<style type=\"text/css\">\n",
       "#T_49730 caption {\n",
       "  background-color: #98D3FF;\n",
       "}\n",
       "#T_49730_row0_col0, #T_49730_row1_col0, #T_49730_row2_col0, #T_49730_row3_col0, #T_49730_row4_col0, #T_49730_row5_col0, #T_49730_row6_col0, #T_49730_row7_col0, #T_49730_row8_col0, #T_49730_row9_col0, #T_49730_row10_col0, #T_49730_row11_col0 {\n",
       "  color: white;\n",
       "  background-color: #929bfc;\n",
       "  color: white;\n",
       "  background-color: #b3b9ff;\n",
       "}\n",
       "#T_49730_row12_col0, #T_49730_row13_col0, #T_49730_row14_col0, #T_49730_row15_col0, #T_49730_row16_col0, #T_49730_row17_col0, #T_49730_row18_col0, #T_49730_row19_col0, #T_49730_row20_col0, #T_49730_row21_col0, #T_49730_row22_col0 {\n",
       "  color: white;\n",
       "  background-color: #929bfc;\n",
       "}\n",
       "</style>\n",
       "<table id=\"T_49730\" style='display:inline'>\n",
       "  <caption>2000-2010</caption>\n",
       "  <thead>\n",
       "    <tr>\n",
       "      <th class=\"blank level0\" >&nbsp;</th>\n",
       "      <th id=\"T_49730_level0_col0\" class=\"col_heading level0 col0\" >GDP Spearman Corr</th>\n",
       "      <th id=\"T_49730_level0_col1\" class=\"col_heading level0 col1\" >P-value Spearman</th>\n",
       "    </tr>\n",
       "    <tr>\n",
       "      <th class=\"index_name level0\" >Indicator</th>\n",
       "      <th class=\"blank col0\" >&nbsp;</th>\n",
       "      <th class=\"blank col1\" >&nbsp;</th>\n",
       "    </tr>\n",
       "  </thead>\n",
       "  <tbody>\n",
       "    <tr>\n",
       "      <th id=\"T_49730_level0_row0\" class=\"row_heading level0 row0\" >% Healthcare Investment</th>\n",
       "      <td id=\"T_49730_row0_col0\" class=\"data row0 col0\" >0.9636</td>\n",
       "      <td id=\"T_49730_row0_col1\" class=\"data row0 col1\" >0.000001852040</td>\n",
       "    </tr>\n",
       "    <tr>\n",
       "      <th id=\"T_49730_level0_row1\" class=\"row_heading level0 row1\" >R&D expenditure %GDP</th>\n",
       "      <td id=\"T_49730_row1_col0\" class=\"data row1 col0\" >0.9545</td>\n",
       "      <td id=\"T_49730_row1_col1\" class=\"data row1 col1\" >0.000004988899</td>\n",
       "    </tr>\n",
       "    <tr>\n",
       "      <th id=\"T_49730_level0_row2\" class=\"row_heading level0 row2\" >Tertiary School Gender Parity</th>\n",
       "      <td id=\"T_49730_row2_col0\" class=\"data row2 col0\" >0.9545</td>\n",
       "      <td id=\"T_49730_row2_col1\" class=\"data row2 col1\" >0.000004988899</td>\n",
       "    </tr>\n",
       "    <tr>\n",
       "      <th id=\"T_49730_level0_row3\" class=\"row_heading level0 row3\" >% Female Employment</th>\n",
       "      <td id=\"T_49730_row3_col0\" class=\"data row3 col0\" >0.9450</td>\n",
       "      <td id=\"T_49730_row3_col1\" class=\"data row3 col1\" >0.000011606539</td>\n",
       "    </tr>\n",
       "    <tr>\n",
       "      <th id=\"T_49730_level0_row4\" class=\"row_heading level0 row4\" >Researchers in R&D</th>\n",
       "      <td id=\"T_49730_row4_col0\" class=\"data row4 col0\" >0.9450</td>\n",
       "      <td id=\"T_49730_row4_col1\" class=\"data row4 col1\" >0.000011606539</td>\n",
       "    </tr>\n",
       "    <tr>\n",
       "      <th id=\"T_49730_level0_row5\" class=\"row_heading level0 row5\" >Population</th>\n",
       "      <td id=\"T_49730_row5_col0\" class=\"data row5 col0\" >0.9364</td>\n",
       "      <td id=\"T_49730_row5_col1\" class=\"data row5 col1\" >0.000022082076</td>\n",
       "    </tr>\n",
       "    <tr>\n",
       "      <th id=\"T_49730_level0_row6\" class=\"row_heading level0 row6\" >Life Expectancy</th>\n",
       "      <td id=\"T_49730_row6_col0\" class=\"data row6 col0\" >0.9364</td>\n",
       "      <td id=\"T_49730_row6_col1\" class=\"data row6 col1\" >0.000022082076</td>\n",
       "    </tr>\n",
       "    <tr>\n",
       "      <th id=\"T_49730_level0_row7\" class=\"row_heading level0 row7\" >Employment in services</th>\n",
       "      <td id=\"T_49730_row7_col0\" class=\"data row7 col0\" >0.9273</td>\n",
       "      <td id=\"T_49730_row7_col1\" class=\"data row7 col1\" >0.000039737743</td>\n",
       "    </tr>\n",
       "    <tr>\n",
       "      <th id=\"T_49730_level0_row8\" class=\"row_heading level0 row8\" >Civil Liberties</th>\n",
       "      <td id=\"T_49730_row8_col0\" class=\"data row8 col0\" >0.8660</td>\n",
       "      <td id=\"T_49730_row8_col1\" class=\"data row8 col1\" >0.000566964311</td>\n",
       "    </tr>\n",
       "    <tr>\n",
       "      <th id=\"T_49730_level0_row9\" class=\"row_heading level0 row9\" >Birth Rate</th>\n",
       "      <td id=\"T_49730_row9_col0\" class=\"data row9 col0\" >0.8552</td>\n",
       "      <td id=\"T_49730_row9_col1\" class=\"data row9 col1\" >0.000790574473</td>\n",
       "    </tr>\n",
       "    <tr>\n",
       "      <th id=\"T_49730_level0_row10\" class=\"row_heading level0 row10\" >EmploymentRural</th>\n",
       "      <td id=\"T_49730_row10_col0\" class=\"data row10 col0\" >0.8273</td>\n",
       "      <td id=\"T_49730_row10_col1\" class=\"data row10 col1\" >0.001676973896</td>\n",
       "    </tr>\n",
       "    <tr>\n",
       "      <th id=\"T_49730_level0_row11\" class=\"row_heading level0 row11\" >% Education Expenditure</th>\n",
       "      <td id=\"T_49730_row11_col0\" class=\"data row11 col0\" >0.8091</td>\n",
       "      <td id=\"T_49730_row11_col1\" class=\"data row11 col1\" >0.002558580200</td>\n",
       "    </tr>\n",
       "    <tr>\n",
       "      <th id=\"T_49730_level0_row12\" class=\"row_heading level0 row12\" >Death Rate</th>\n",
       "      <td id=\"T_49730_row12_col0\" class=\"data row12 col0\" >-0.7771</td>\n",
       "      <td id=\"T_49730_row12_col1\" class=\"data row12 col1\" >0.004892521660</td>\n",
       "    </tr>\n",
       "    <tr>\n",
       "      <th id=\"T_49730_level0_row13\" class=\"row_heading level0 row13\" >Cost business start-up</th>\n",
       "      <td id=\"T_49730_row13_col0\" class=\"data row13 col0\" >-0.8814</td>\n",
       "      <td id=\"T_49730_row13_col1\" class=\"data row13 col1\" >0.000335142730</td>\n",
       "    </tr>\n",
       "    <tr>\n",
       "      <th id=\"T_49730_level0_row14\" class=\"row_heading level0 row14\" >% Vulnerable male employment</th>\n",
       "      <td id=\"T_49730_row14_col0\" class=\"data row14 col0\" >-0.8818</td>\n",
       "      <td id=\"T_49730_row14_col1\" class=\"data row14 col1\" >0.000330168802</td>\n",
       "    </tr>\n",
       "    <tr>\n",
       "      <th id=\"T_49730_level0_row15\" class=\"row_heading level0 row15\" >Homicides</th>\n",
       "      <td id=\"T_49730_row15_col0\" class=\"data row15 col0\" >-0.9000</td>\n",
       "      <td id=\"T_49730_row15_col1\" class=\"data row15 col1\" >0.000159971428</td>\n",
       "    </tr>\n",
       "    <tr>\n",
       "      <th id=\"T_49730_level0_row16\" class=\"row_heading level0 row16\" >Employment in industry</th>\n",
       "      <td id=\"T_49730_row16_col0\" class=\"data row16 col0\" >-0.9091</td>\n",
       "      <td id=\"T_49730_row16_col1\" class=\"data row16 col1\" >0.000105593376</td>\n",
       "    </tr>\n",
       "    <tr>\n",
       "      <th id=\"T_49730_level0_row17\" class=\"row_heading level0 row17\" >% Vulnerable female employment</th>\n",
       "      <td id=\"T_49730_row17_col0\" class=\"data row17 col0\" >-0.9273</td>\n",
       "      <td id=\"T_49730_row17_col1\" class=\"data row17 col1\" >0.000039737743</td>\n",
       "    </tr>\n",
       "    <tr>\n",
       "      <th id=\"T_49730_level0_row18\" class=\"row_heading level0 row18\" >% Soldiers</th>\n",
       "      <td id=\"T_49730_row18_col0\" class=\"data row18 col0\" >-0.9273</td>\n",
       "      <td id=\"T_49730_row18_col1\" class=\"data row18 col1\" >0.000039737743</td>\n",
       "    </tr>\n",
       "    <tr>\n",
       "      <th id=\"T_49730_level0_row19\" class=\"row_heading level0 row19\" >% Rural Population</th>\n",
       "      <td id=\"T_49730_row19_col0\" class=\"data row19 col0\" >-0.9364</td>\n",
       "      <td id=\"T_49730_row19_col1\" class=\"data row19 col1\" >0.000022082076</td>\n",
       "    </tr>\n",
       "    <tr>\n",
       "      <th id=\"T_49730_level0_row20\" class=\"row_heading level0 row20\" >Infant Mortality</th>\n",
       "      <td id=\"T_49730_row20_col0\" class=\"data row20 col0\" >-0.9364</td>\n",
       "      <td id=\"T_49730_row20_col1\" class=\"data row20 col1\" >0.000022082076</td>\n",
       "    </tr>\n",
       "    <tr>\n",
       "      <th id=\"T_49730_level0_row21\" class=\"row_heading level0 row21\" >AgriShareGDP</th>\n",
       "      <td id=\"T_49730_row21_col0\" class=\"data row21 col0\" >-0.9522</td>\n",
       "      <td id=\"T_49730_row21_col1\" class=\"data row21 col1\" >0.000006254560</td>\n",
       "    </tr>\n",
       "    <tr>\n",
       "      <th id=\"T_49730_level0_row22\" class=\"row_heading level0 row22\" >Employment in agriculture</th>\n",
       "      <td id=\"T_49730_row22_col0\" class=\"data row22 col0\" >-0.9909</td>\n",
       "      <td id=\"T_49730_row22_col1\" class=\"data row22 col1\" >0.000000003763</td>\n",
       "    </tr>\n",
       "  </tbody>\n",
       "</table>\n",
       "          <style type=\"text/css\">\n",
       "#T_5360c caption {\n",
       "  background-color: #98D3FF;\n",
       "}\n",
       "#T_5360c_row0_col0, #T_5360c_row1_col0, #T_5360c_row2_col0, #T_5360c_row3_col0, #T_5360c_row4_col0 {\n",
       "  color: white;\n",
       "  background-color: #929bfc;\n",
       "  color: white;\n",
       "  background-color: #b3b9ff;\n",
       "}\n",
       "#T_5360c_row5_col0, #T_5360c_row6_col0 {\n",
       "  color: white;\n",
       "  background-color: #929bfc;\n",
       "}\n",
       "</style>\n",
       "<table id=\"T_5360c\" style='display:inline'>\n",
       "  <caption>2000-2020</caption>\n",
       "  <thead>\n",
       "    <tr>\n",
       "      <th class=\"blank level0\" >&nbsp;</th>\n",
       "      <th id=\"T_5360c_level0_col0\" class=\"col_heading level0 col0\" >GDP Spearman Corr</th>\n",
       "      <th id=\"T_5360c_level0_col1\" class=\"col_heading level0 col1\" >P-value Spearman</th>\n",
       "    </tr>\n",
       "    <tr>\n",
       "      <th class=\"index_name level0\" >Indicator</th>\n",
       "      <th class=\"blank col0\" >&nbsp;</th>\n",
       "      <th class=\"blank col1\" >&nbsp;</th>\n",
       "    </tr>\n",
       "  </thead>\n",
       "  <tbody>\n",
       "    <tr>\n",
       "      <th id=\"T_5360c_level0_row0\" class=\"row_heading level0 row0\" >R&D expenditure %GDP</th>\n",
       "      <td id=\"T_5360c_row0_col0\" class=\"data row0 col0\" >0.8334</td>\n",
       "      <td id=\"T_5360c_row0_col1\" class=\"data row0 col1\" >0.000002719194</td>\n",
       "    </tr>\n",
       "    <tr>\n",
       "      <th id=\"T_5360c_level0_row1\" class=\"row_heading level0 row1\" >% Education Expenditure</th>\n",
       "      <td id=\"T_5360c_row1_col0\" class=\"data row1 col0\" >0.7971</td>\n",
       "      <td id=\"T_5360c_row1_col1\" class=\"data row1 col1\" >0.000015170671</td>\n",
       "    </tr>\n",
       "    <tr>\n",
       "      <th id=\"T_5360c_level0_row2\" class=\"row_heading level0 row2\" >Researchers in R&D</th>\n",
       "      <td id=\"T_5360c_row2_col0\" class=\"data row2 col0\" >0.7672</td>\n",
       "      <td id=\"T_5360c_row2_col1\" class=\"data row2 col1\" >0.000049374718</td>\n",
       "    </tr>\n",
       "    <tr>\n",
       "      <th id=\"T_5360c_level0_row3\" class=\"row_heading level0 row3\" >% Female Employment</th>\n",
       "      <td id=\"T_5360c_row3_col0\" class=\"data row3 col0\" >0.7243</td>\n",
       "      <td id=\"T_5360c_row3_col1\" class=\"data row3 col1\" >0.000204871523</td>\n",
       "    </tr>\n",
       "    <tr>\n",
       "      <th id=\"T_5360c_level0_row4\" class=\"row_heading level0 row4\" >Tertiary School Gender Parity</th>\n",
       "      <td id=\"T_5360c_row4_col0\" class=\"data row4 col0\" >0.7147</td>\n",
       "      <td id=\"T_5360c_row4_col1\" class=\"data row4 col1\" >0.000271748672</td>\n",
       "    </tr>\n",
       "    <tr>\n",
       "      <th id=\"T_5360c_level0_row5\" class=\"row_heading level0 row5\" >Employment in agriculture</th>\n",
       "      <td id=\"T_5360c_row5_col0\" class=\"data row5 col0\" >-0.7293</td>\n",
       "      <td id=\"T_5360c_row5_col1\" class=\"data row5 col1\" >0.000176140449</td>\n",
       "    </tr>\n",
       "    <tr>\n",
       "      <th id=\"T_5360c_level0_row6\" class=\"row_heading level0 row6\" >AgriShareGDP</th>\n",
       "      <td id=\"T_5360c_row6_col0\" class=\"data row6 col0\" >-0.8529</td>\n",
       "      <td id=\"T_5360c_row6_col1\" class=\"data row6 col1\" >0.000000903819</td>\n",
       "    </tr>\n",
       "  </tbody>\n",
       "</table>\n"
      ]
     },
     "metadata": {},
     "output_type": "display_data"
    }
   ],
   "source": [
    "def time_window_zone(threshold , years):\n",
    "    \n",
    "    #Load the selected year range and the global range.\n",
    "    df_time = searchTimeSeries(threshold, years[0], years[1], True, df_zone)\n",
    "    df_global = searchTimeSeries(threshold, years[0], years[1], False, df_zone)\n",
    "\n",
    "    # Display Data\n",
    "    if years[0] > years[1]: return print(\"Please, select a valid range of years.\")\n",
    " \n",
    "    space = \"\\xa0\" * 10\n",
    "    try:\n",
    "        df_time = Nbook_Times.styler_method(df_time, str(years[0]) + '-' + str(years[1]), PVALUE_VAR)._repr_html_()\n",
    "    except Exception as e: \n",
    "        df_time = 'No indicators available for the selected parameters'\n",
    "    \n",
    "    try:\n",
    "        df_global = Nbook_Times.styler_method(df_global, '2000-2020', PVALUE_VAR)._repr_html_()\n",
    "    except: \n",
    "        df_global = 'No indicators available for the selected parameters'\n",
    "\n",
    "    display_html(df_time + space  + df_global, raw=True)\n",
    "    \n",
    "\n",
    "time_window_zone(threshold , years)\n"
   ]
  },
  {
   "cell_type": "code",
   "execution_count": 39,
   "metadata": {},
   "outputs": [
    {
     "name": "stdout",
     "output_type": "stream",
     "text": [
      "                                                                                    \r"
     ]
    },
    {
     "data": {
      "text/html": [
       "<div>\n",
       "<style scoped>\n",
       "    .dataframe tbody tr th:only-of-type {\n",
       "        vertical-align: middle;\n",
       "    }\n",
       "\n",
       "    .dataframe tbody tr th {\n",
       "        vertical-align: top;\n",
       "    }\n",
       "\n",
       "    .dataframe thead th {\n",
       "        text-align: right;\n",
       "    }\n",
       "</style>\n",
       "<table border=\"1\" class=\"dataframe\">\n",
       "  <thead>\n",
       "    <tr style=\"text-align: right;\">\n",
       "      <th></th>\n",
       "      <th>Year range</th>\n",
       "      <th>Highest positive Spearman corr</th>\n",
       "      <th>Year range</th>\n",
       "      <th>Highest negative Spearman corr</th>\n",
       "    </tr>\n",
       "    <tr>\n",
       "      <th>Indicator</th>\n",
       "      <th></th>\n",
       "      <th></th>\n",
       "      <th></th>\n",
       "      <th></th>\n",
       "    </tr>\n",
       "  </thead>\n",
       "  <tbody>\n",
       "    <tr>\n",
       "      <th>AgriShareGDP</th>\n",
       "      <td>-</td>\n",
       "      <td>-</td>\n",
       "      <td>2001-2006</td>\n",
       "      <td>-1.0</td>\n",
       "    </tr>\n",
       "    <tr>\n",
       "      <th>CreditToAgriFishForest</th>\n",
       "      <td>2001-2006</td>\n",
       "      <td>0.885714</td>\n",
       "      <td>2000-2016</td>\n",
       "      <td>-0.632353</td>\n",
       "    </tr>\n",
       "    <tr>\n",
       "      <th>EmploymentRural</th>\n",
       "      <td>2000-2005</td>\n",
       "      <td>1.0</td>\n",
       "      <td>-</td>\n",
       "      <td>-</td>\n",
       "    </tr>\n",
       "    <tr>\n",
       "      <th>% Soldiers</th>\n",
       "      <td>2008-2013</td>\n",
       "      <td>0.942857</td>\n",
       "      <td>2002-2007</td>\n",
       "      <td>-1.0</td>\n",
       "    </tr>\n",
       "    <tr>\n",
       "      <th>Employment in industry</th>\n",
       "      <td>2008-2013</td>\n",
       "      <td>0.885714</td>\n",
       "      <td>2001-2006</td>\n",
       "      <td>-1.0</td>\n",
       "    </tr>\n",
       "    <tr>\n",
       "      <th>Employment in services</th>\n",
       "      <td>2001-2006</td>\n",
       "      <td>1.0</td>\n",
       "      <td>2008-2013</td>\n",
       "      <td>-0.885714</td>\n",
       "    </tr>\n",
       "    <tr>\n",
       "      <th>Birth Rate</th>\n",
       "      <td>2000-2008</td>\n",
       "      <td>0.995825</td>\n",
       "      <td>-</td>\n",
       "      <td>-</td>\n",
       "    </tr>\n",
       "    <tr>\n",
       "      <th>Cost business start-up</th>\n",
       "      <td>2008-2017</td>\n",
       "      <td>0.741645</td>\n",
       "      <td>2004-2009</td>\n",
       "      <td>-1.0</td>\n",
       "    </tr>\n",
       "    <tr>\n",
       "      <th>Death Rate</th>\n",
       "      <td>-</td>\n",
       "      <td>-</td>\n",
       "      <td>2011-2016</td>\n",
       "      <td>-0.898645</td>\n",
       "    </tr>\n",
       "    <tr>\n",
       "      <th>Employment in agriculture</th>\n",
       "      <td>-</td>\n",
       "      <td>-</td>\n",
       "      <td>2000-2005</td>\n",
       "      <td>-1.0</td>\n",
       "    </tr>\n",
       "    <tr>\n",
       "      <th>% Female Employment</th>\n",
       "      <td>2002-2007</td>\n",
       "      <td>1.0</td>\n",
       "      <td>-</td>\n",
       "      <td>-</td>\n",
       "    </tr>\n",
       "    <tr>\n",
       "      <th>% Male Employment</th>\n",
       "      <td>2000-2005</td>\n",
       "      <td>1.0</td>\n",
       "      <td>-</td>\n",
       "      <td>-</td>\n",
       "    </tr>\n",
       "    <tr>\n",
       "      <th>% Education Expenditure</th>\n",
       "      <td>2001-2009</td>\n",
       "      <td>0.916667</td>\n",
       "      <td>2015-2020</td>\n",
       "      <td>-0.819689</td>\n",
       "    </tr>\n",
       "    <tr>\n",
       "      <th>Homicides</th>\n",
       "      <td>2008-2017</td>\n",
       "      <td>0.854545</td>\n",
       "      <td>2003-2008</td>\n",
       "      <td>-1.0</td>\n",
       "    </tr>\n",
       "    <tr>\n",
       "      <th>Life Expectancy</th>\n",
       "      <td>2000-2005</td>\n",
       "      <td>1.0</td>\n",
       "      <td>2008-2017</td>\n",
       "      <td>-0.745455</td>\n",
       "    </tr>\n",
       "    <tr>\n",
       "      <th>Maternal Death Risk</th>\n",
       "      <td>2008-2013</td>\n",
       "      <td>0.942857</td>\n",
       "      <td>2015-2020</td>\n",
       "      <td>-0.845154</td>\n",
       "    </tr>\n",
       "    <tr>\n",
       "      <th>Infant Mortality</th>\n",
       "      <td>2008-2017</td>\n",
       "      <td>0.935495</td>\n",
       "      <td>2000-2005</td>\n",
       "      <td>-1.0</td>\n",
       "    </tr>\n",
       "    <tr>\n",
       "      <th>% Population Growth</th>\n",
       "      <td>2008-2013</td>\n",
       "      <td>0.885714</td>\n",
       "      <td>-</td>\n",
       "      <td>-</td>\n",
       "    </tr>\n",
       "    <tr>\n",
       "      <th>Researchers in R&amp;D</th>\n",
       "      <td>2002-2007</td>\n",
       "      <td>1.0</td>\n",
       "      <td>-</td>\n",
       "      <td>-</td>\n",
       "    </tr>\n",
       "    <tr>\n",
       "      <th>R&amp;D expenditure %GDP</th>\n",
       "      <td>2000-2005</td>\n",
       "      <td>1.0</td>\n",
       "      <td>-</td>\n",
       "      <td>-</td>\n",
       "    </tr>\n",
       "    <tr>\n",
       "      <th>% Rural Population</th>\n",
       "      <td>2008-2016</td>\n",
       "      <td>0.9</td>\n",
       "      <td>2000-2005</td>\n",
       "      <td>-1.0</td>\n",
       "    </tr>\n",
       "    <tr>\n",
       "      <th>Tertiary School Gender Parity</th>\n",
       "      <td>2001-2007</td>\n",
       "      <td>0.964286</td>\n",
       "      <td>-</td>\n",
       "      <td>-</td>\n",
       "    </tr>\n",
       "    <tr>\n",
       "      <th>% Vulnerable female employment</th>\n",
       "      <td>-</td>\n",
       "      <td>-</td>\n",
       "      <td>2000-2008</td>\n",
       "      <td>-0.983333</td>\n",
       "    </tr>\n",
       "    <tr>\n",
       "      <th>% Vulnerable male employment</th>\n",
       "      <td>-</td>\n",
       "      <td>-</td>\n",
       "      <td>2000-2009</td>\n",
       "      <td>-0.890909</td>\n",
       "    </tr>\n",
       "    <tr>\n",
       "      <th>Civil Liberties</th>\n",
       "      <td>2003-2008</td>\n",
       "      <td>0.87831</td>\n",
       "      <td>-</td>\n",
       "      <td>-</td>\n",
       "    </tr>\n",
       "    <tr>\n",
       "      <th>Freedom of Expression</th>\n",
       "      <td>2007-2017</td>\n",
       "      <td>0.884166</td>\n",
       "      <td>-</td>\n",
       "      <td>-</td>\n",
       "    </tr>\n",
       "    <tr>\n",
       "      <th>% Healthcare Investment</th>\n",
       "      <td>2002-2009</td>\n",
       "      <td>0.97619</td>\n",
       "      <td>-</td>\n",
       "      <td>-</td>\n",
       "    </tr>\n",
       "    <tr>\n",
       "      <th>Population</th>\n",
       "      <td>2000-2005</td>\n",
       "      <td>1.0</td>\n",
       "      <td>-</td>\n",
       "      <td>-</td>\n",
       "    </tr>\n",
       "  </tbody>\n",
       "</table>\n",
       "</div>"
      ],
      "text/plain": [
       "                               Year range Highest positive Spearman corr  \\\n",
       "Indicator                                                                  \n",
       "AgriShareGDP                            -                              -   \n",
       "CreditToAgriFishForest          2001-2006                       0.885714   \n",
       "EmploymentRural                 2000-2005                            1.0   \n",
       "% Soldiers                      2008-2013                       0.942857   \n",
       "Employment in industry          2008-2013                       0.885714   \n",
       "Employment in services          2001-2006                            1.0   \n",
       "Birth Rate                      2000-2008                       0.995825   \n",
       "Cost business start-up          2008-2017                       0.741645   \n",
       "Death Rate                              -                              -   \n",
       "Employment in agriculture               -                              -   \n",
       "% Female Employment             2002-2007                            1.0   \n",
       "% Male Employment               2000-2005                            1.0   \n",
       "% Education Expenditure         2001-2009                       0.916667   \n",
       "Homicides                       2008-2017                       0.854545   \n",
       "Life Expectancy                 2000-2005                            1.0   \n",
       "Maternal Death Risk             2008-2013                       0.942857   \n",
       "Infant Mortality                2008-2017                       0.935495   \n",
       "% Population Growth             2008-2013                       0.885714   \n",
       "Researchers in R&D              2002-2007                            1.0   \n",
       "R&D expenditure %GDP            2000-2005                            1.0   \n",
       "% Rural Population              2008-2016                            0.9   \n",
       "Tertiary School Gender Parity   2001-2007                       0.964286   \n",
       "% Vulnerable female employment          -                              -   \n",
       "% Vulnerable male employment            -                              -   \n",
       "Civil Liberties                 2003-2008                        0.87831   \n",
       "Freedom of Expression           2007-2017                       0.884166   \n",
       "% Healthcare Investment         2002-2009                        0.97619   \n",
       "Population                      2000-2005                            1.0   \n",
       "\n",
       "                               Year range  Highest negative Spearman corr  \n",
       "Indicator                                                                  \n",
       "AgriShareGDP                     2001-2006                           -1.0  \n",
       "CreditToAgriFishForest           2000-2016                      -0.632353  \n",
       "EmploymentRural                          -                              -  \n",
       "% Soldiers                       2002-2007                           -1.0  \n",
       "Employment in industry           2001-2006                           -1.0  \n",
       "Employment in services           2008-2013                      -0.885714  \n",
       "Birth Rate                               -                              -  \n",
       "Cost business start-up           2004-2009                           -1.0  \n",
       "Death Rate                       2011-2016                      -0.898645  \n",
       "Employment in agriculture        2000-2005                           -1.0  \n",
       "% Female Employment                      -                              -  \n",
       "% Male Employment                        -                              -  \n",
       "% Education Expenditure          2015-2020                      -0.819689  \n",
       "Homicides                        2003-2008                           -1.0  \n",
       "Life Expectancy                  2008-2017                      -0.745455  \n",
       "Maternal Death Risk              2015-2020                      -0.845154  \n",
       "Infant Mortality                 2000-2005                           -1.0  \n",
       "% Population Growth                      -                              -  \n",
       "Researchers in R&D                       -                              -  \n",
       "R&D expenditure %GDP                     -                              -  \n",
       "% Rural Population               2000-2005                           -1.0  \n",
       "Tertiary School Gender Parity            -                              -  \n",
       "% Vulnerable female employment   2000-2008                      -0.983333  \n",
       "% Vulnerable male employment     2000-2009                      -0.890909  \n",
       "Civil Liberties                          -                              -  \n",
       "Freedom of Expression                    -                              -  \n",
       "% Healthcare Investment                  -                              -  \n",
       "Population                               -                              -  "
      ]
     },
     "metadata": {},
     "output_type": "display_data"
    }
   ],
   "source": [
    "def table_high_country(by, zone):\n",
    "    if by == 'Country':\n",
    "        min_diff = 5\n",
    "        \n",
    "    elif by == 'Region':\n",
    "        min_diff = 2\n",
    "    \n",
    "    df_highest = Nbook_Times.init_highest_table(indicators)\n",
    "\n",
    "    i = 0\n",
    "    computing_text = \"Loading \"\n",
    "    print(computing_text, end=\"\\r\")\n",
    "    \n",
    "    #For all the combination of years...\n",
    "    for years in Nbook_Times.generate_years_combinations(min_diff, min_year, max_year):\n",
    "        \n",
    "        i = (i + 1) % 50\n",
    "        print (computing_text + \"\".join([\".\" for _ in range(i)]), end=\"\\r\")\n",
    "        \n",
    "        df_aux = searchTimeSeries(0, years[0], years[1], True, df_zone)\n",
    "        #Delete indicators which are not available that year\n",
    "        indicators_inter = list(set(indicators) & set(list(df_aux.index)))\n",
    "\n",
    "        #For all the indicators availble that year....\n",
    "        for indicator in indicators_inter:\n",
    "            #Algorithm to search for the highest value\n",
    "            indicator_corr_pos_last = df_highest[df_highest.index.get_level_values(0) == indicator][\"Highest positive Spearman corr\"][0]\n",
    "            indicator_corr_neg_last = df_highest[df_highest.index.get_level_values(0) == indicator][\"Highest negative Spearman corr\"][0]\n",
    "            \n",
    "          \n",
    "            indicator_corr_aux = df_aux[df_aux.index.get_level_values(0) == indicator][\"GDP Spearman Corr\"][0]\n",
    "            indicator_p_value_aux = df_aux[df_aux.index.get_level_values(0) == indicator][\"P-value Spearman\"][0]\n",
    "\n",
    "            if indicator_corr_aux != nan and indicator_p_value_aux < PVALUE_VAR:\n",
    "                if indicator_corr_pos_last < indicator_corr_aux and indicator_corr_aux > 0:\n",
    "                    df_highest.at[indicator, \"Year range\"] = str(years[0]) + '-' + str(years[1])\n",
    "                    df_highest.at[indicator, \"Highest positive Spearman corr\"] = indicator_corr_aux\n",
    "                elif indicator_corr_neg_last > indicator_corr_aux and indicator_corr_aux < 0:\n",
    "                    df_highest.at[indicator, \"Year range \"] = str(years[0]) + '-' + str(years[1])\n",
    "                    df_highest.at[indicator, \"Highest negative Spearman corr\"] = indicator_corr_aux\n",
    "\n",
    "    df_highest = df_highest.replace(0, nan).dropna(axis=0, how='all').fillna(\"-\")\n",
    "    \n",
    "    print(\"                                                                                    \", end=\"\\r\")\n",
    "    display(df_highest)\n",
    "\n",
    "\n",
    "table_high_country(by, zone)\n"
   ]
  },
  {
   "cell_type": "code",
   "execution_count": 42,
   "metadata": {},
   "outputs": [
    {
     "name": "stdout",
     "output_type": "stream",
     "text": [
      "SpearmanrResult(correlation=-0.4941486622797844, pvalue=0.022791477855466827)\n"
     ]
    },
    {
     "data": {
      "image/png": "[encoded data removed]",
      "text/plain": [
       "<Figure size 432x432 with 1 Axes>"
      ]
     },
     "metadata": {
      "needs_background": "light"
     },
     "output_type": "display_data"
    }
   ],
   "source": [
    "\n",
    "def plot_corr_ind(indicator: str, drop_plot_value: str , years: tuple, df_zone): \n",
    "    df_zone = get_years(df_zone, years)\n",
    "    spear = stats.spearmanr(df_zone[indicator], df_zone['GDP'])\n",
    "    df_zone = normalize_by_country(df_zone)\n",
    "\n",
    "    #In case if by is region it groups by year.\n",
    "    df_zone = df_zone.loc[:,['GDP', indicator]].groupby(level = 'Year').median()\n",
    "\n",
    "    print(spear)\n",
    "    plt.figure(figsize=(6,6))\n",
    "    plt.plot(df_zone.index.get_level_values(\"Year\"), df_zone[\"GDP\"], color=\"red\", label = 'GDP')\n",
    "    plt.plot(df_zone.index.get_level_values(\"Year\"), df_zone[indicator], color=\"green\", label = indicator)\n",
    "    plt.legend(loc=\"lower right\")\n",
    "\n",
    "plot_corr_ind(indicator, country, years, df_zone)"
   ]
  },
  {
   "cell_type": "code",
   "execution_count": null,
   "metadata": {},
   "outputs": [],
   "source": []
  }
 ],
 "metadata": {
  "kernelspec": {
   "display_name": "Python 3 (ipykernel)",
   "language": "python",
   "name": "python3"
  },
  "language_info": {
   "codemirror_mode": {
    "name": "ipython",
    "version": 3
   },
   "file_extension": ".py",
   "mimetype": "text/x-python",
   "name": "python",
   "nbconvert_exporter": "python",
   "pygments_lexer": "ipython3",
   "version": "3.10.5"
  },
  "vscode": {
   "interpreter": {
    "hash": "44718ba4235bc6fc2135f9d8856f170c8312ddd29b08710a5ea28d42169e623e"
   }
  }
 },
 "nbformat": 4,
 "nbformat_minor": 2
}
