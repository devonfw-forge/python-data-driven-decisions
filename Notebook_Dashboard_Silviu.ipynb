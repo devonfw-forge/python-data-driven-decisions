{
 "cells": [
  {
   "cell_type": "code",
   "execution_count": 1,
   "metadata": {},
   "outputs": [],
   "source": [
    "import ipywidgets as widgets\n",
    "from ipywidgets import Layout\n",
    "from ipywidgets import AppLayout, Button, GridspecLayout\n",
    "from ipywidgets import interact, interact_manual\n",
    "import nbimporter\n",
    "from Project.Utils.visualize import  search\n",
    "import warnings\n",
    "warnings.filterwarnings(\"ignore\")\n",
    "from scipy import stats\n",
    "import plotly.express as px\n",
    "import os\n",
    "from math import nan\n",
    "import pandas as pd\n",
    "import matplotlib.pyplot as plt\n",
    "import numpy as np\n",
    "from IPython.display import display_html\n",
    "from Project.Utils.visualize import  searchTimeSeries, normalize_by_country\n",
    "import Notebook_Time_Series as Nbook_Times\n"
   ]
  },
  {
   "cell_type": "code",
   "execution_count": 2,
   "metadata": {},
   "outputs": [],
   "source": [
    "col_country = 'Country'\n",
    "col_year = 'Year'\n",
    "col_region = 'Region'\n",
    "\n",
    "\n",
    "data_path = os.getcwd() + '/Databases/'\n",
    "output_path = os.getcwd() + '/Output/'\n",
    "country_path = output_path + '/Country/'\n",
    "region_path = output_path + '/Region/'\n",
    "cluster_path = output_path + '/Cluster/'\n",
    "\n",
    "\n",
    "file_regions = '/AuxiliarData/world-regions-mod.csv'\n",
    "file_gold = 'GoldDataframe.csv'\n",
    "file_corr_pearson = 'Corr_DF_Pearson.csv'\n",
    "file_corr_spearman = 'Corr_DF_Spearman.csv'\n",
    "file_shifted_corr_country = 'Shifted_Corr_Country.csv'\n",
    "file_shifted_corr_region = 'Shifted_Corr_Region.csv'\n",
    "\n",
    "\n",
    "df_regions = pd.read_csv(data_path + file_regions, index_col = [col_region, col_country])\n",
    "df_gold  = pd.read_csv(output_path + file_gold, index_col = [col_country, col_year, col_region])\n",
    "df_corr_pearson = pd.read_csv(output_path + file_corr_pearson)\n",
    "df_corr_spearman = pd.read_csv(output_path + file_corr_spearman, index_col = col_country)\n",
    "df_shifted_corr_country = pd.read_csv(output_path + file_shifted_corr_country)\n",
    "df_shifted_corr_region  = pd.read_csv(output_path + file_shifted_corr_region)\n",
    "\n",
    "\n",
    "global PVALUE_VAR \n",
    "PVALUE_VAR = 0.05\n",
    "country_list = list(np.sort(df_gold.index.get_level_values('Country').unique()))\n",
    "region_list = list(np.sort(df_gold.index.get_level_values('Region').unique()))\n",
    "indicators = list(df_gold.columns)\n",
    "indicators.remove('GDP')\n",
    "min_year = min(df_gold.index.get_level_values('Year').unique())\n",
    "max_year = max(df_gold.index.get_level_values('Year').unique())"
   ]
  },
  {
   "cell_type": "markdown",
   "metadata": {},
   "source": []
  },
  {
   "cell_type": "code",
   "execution_count": 3,
   "metadata": {},
   "outputs": [
    {
     "data": {
      "application/vnd.jupyter.widget-view+json": {
       "model_id": "03667cd2340e46ed93e810eb0e29b0bf",
       "version_major": 2,
       "version_minor": 0
      },
      "text/plain": [
       "interactive(children=(SelectMultiple(description='Indicator', index=(0,), layout=Layout(height='80px', width='…"
      ]
     },
     "metadata": {},
     "output_type": "display_data"
    },
    {
     "data": {
      "application/vnd.plotly.v1+json": {
       "config": {
        "plotlyServerURL": "https://plot.ly"
       },
       "data": [
        {
         "coloraxis": "coloraxis",
         "geo": "geo",
         "hovertemplate": "Country=%{location}<br>AgriShareGDP=%{z}<extra></extra>",
         "locationmode": "country names",
         "locations": [
          "Afghanistan",
          "Albania",
          "Algeria",
          "Angola",
          "Argentina",
          "Armenia",
          "Australia",
          "Austria",
          "Azerbaijan",
          "Bahrain",
          "Bangladesh",
          "Barbados",
          "Belarus",
          "Belgium",
          "Belize",
          "Benin",
          "Bhutan",
          "Bosnia and Herzegovina",
          "Botswana",
          "Brazil",
          "Bulgaria",
          "Burkina Faso",
          "Burundi",
          "Cambodia",
          "Cameroon",
          "Canada",
          "Central African Republic",
          "Chad",
          "Chile",
          "China",
          "Colombia",
          "Comoros",
          "Costa Rica",
          "Croatia",
          "Cuba",
          "Cyprus",
          "Denmark",
          "Djibouti",
          "Dominican Republic",
          "Ecuador",
          "El Salvador",
          "Equatorial Guinea",
          "Eritrea",
          "Estonia",
          "Eswatini",
          "Ethiopia",
          "Fiji",
          "Finland",
          "France",
          "French Polynesia",
          "Gabon",
          "Georgia",
          "Germany",
          "Ghana",
          "Greece",
          "Guatemala",
          "Guinea",
          "Guinea-Bissau",
          "Guyana",
          "Haiti",
          "Honduras",
          "Hungary",
          "Iceland",
          "India",
          "Indonesia",
          "Iraq",
          "Ireland",
          "Israel",
          "Italy",
          "Jamaica",
          "Japan",
          "Jordan",
          "Kazakhstan",
          "Kenya",
          "Kuwait",
          "Latvia",
          "Lebanon",
          "Lesotho",
          "Liberia",
          "Libya",
          "Lithuania",
          "Luxembourg",
          "Madagascar",
          "Malawi",
          "Malaysia",
          "Maldives",
          "Mali",
          "Malta",
          "Mauritania",
          "Mauritius",
          "Mexico",
          "Mongolia",
          "Montenegro",
          "Morocco",
          "Mozambique",
          "Myanmar",
          "Namibia",
          "Nepal",
          "Netherlands",
          "New Caledonia",
          "New Zealand",
          "Nicaragua",
          "Niger",
          "Nigeria",
          "North Macedonia",
          "Norway",
          "Oman",
          "Pakistan",
          "Panama",
          "Papua New Guinea",
          "Paraguay",
          "Peru",
          "Philippines",
          "Poland",
          "Portugal",
          "Puerto Rico",
          "Qatar",
          "Romania",
          "Russia",
          "Rwanda",
          "Samoa",
          "Sao Tome and Principe",
          "Saudi Arabia",
          "Senegal",
          "Serbia",
          "Seychelles",
          "Sierra Leone",
          "Singapore",
          "Slovenia",
          "Solomon Islands",
          "Somalia",
          "South Africa",
          "Spain",
          "Sri Lanka",
          "Suriname",
          "Sweden",
          "Switzerland",
          "Tajikistan",
          "Thailand",
          "Togo",
          "Tonga",
          "Trinidad and Tobago",
          "Tunisia",
          "Turkmenistan",
          "Uganda",
          "Ukraine",
          "United Arab Emirates",
          "United Kingdom",
          "United States",
          "Uruguay",
          "Uzbekistan",
          "Vanuatu",
          "Zambia",
          "Zimbabwe"
         ],
         "name": "",
         "type": "choropleth",
         "z": [
          -0.8645664632664131,
          -0.4865216235811746,
          null,
          null,
          -0.5982462153781867,
          -0.7528418714694011,
          -0.6634179438176849,
          -0.6813900976457306,
          -0.8944462959563116,
          -0.5631698900465666,
          -0.999675271951172,
          -0.7463462556672492,
          -0.6398181565119586,
          -0.8619682169455524,
          -0.543683042640111,
          null,
          -0.6917830829291735,
          -0.829490137934793,
          -0.5397856731588199,
          -0.7164664229773506,
          -0.8113024136887678,
          -0.7268594082607935,
          null,
          -0.6722962355227179,
          null,
          -0.4631374066934279,
          -0.6437155259932498,
          null,
          -0.8002598668251096,
          null,
          -0.9360182370900836,
          null,
          -0.926924374967071,
          -0.4578863967732726,
          -0.6060409543407689,
          -0.5644690132069969,
          null,
          -0.7160495338756991,
          -0.8879506801541598,
          -0.661903250239275,
          -0.5423839194796807,
          -0.8749594485498561,
          null,
          -0.661903250239275,
          -0.6151348164637815,
          -0.5982462153781867,
          -0.4735303919768708,
          null,
          -0.5931710140017395,
          -0.6790124890200595,
          -0.730994306361308,
          -0.8775576948707168,
          null,
          -0.8216953989722108,
          -0.8229945221326411,
          -0.9632998234591216,
          0.4450942170240415,
          0.6138356933033512,
          -0.8333875074160841,
          -0.6192333990776236,
          null,
          -0.6164339396242119,
          -0.9139331433627672,
          -0.7385515167046669,
          null,
          -0.7742774036165022,
          -0.6595191682910981,
          -0.6917830829291735,
          -0.8087041673679071,
          0.5047093478271998,
          null,
          0.9632998234591216,
          -0.9048392812397548,
          0.8320883842556538,
          null,
          -0.5397856731588199,
          -0.5034102246667694,
          -0.8113024136887678,
          null,
          null,
          -0.6852874671270216,
          -0.8463787390203878,
          -0.9152322665231976,
          -0.8905489264750206,
          null,
          -0.518999702591934,
          0.6930822060896039,
          -0.9736928087425644,
          -0.6014940232792626,
          -0.9684963161008427,
          null,
          -0.7801234578384388,
          -0.8022085515657552,
          -0.4657356530142886,
          0.5605716437257059,
          -0.972393685582134,
          -0.7892173199614515,
          -0.8853524338332991,
          -0.8658655864268434,
          null,
          null,
          null,
          -0.5164014562710731,
          -0.8151997831700589,
          -0.4956154857041872,
          null,
          null,
          null,
          -0.9905814098281592,
          -0.9243261286462102,
          null,
          null,
          -0.8775576948707168,
          -0.5125040867897821,
          -0.8624394348314766,
          0.5724497634704999,
          -0.5943488458968955,
          -0.8151997831700589,
          -0.926924374967071,
          -0.693731767669819,
          -0.8126015368491982,
          -0.6164339396242119,
          -0.9217278823253496,
          null,
          -0.5397856731588199,
          -0.7892173199614515,
          0.6216304322659334,
          -0.9873336019270832,
          -0.6281260480680853,
          null,
          null,
          -0.7905164431218819,
          -0.8528743548225397,
          -0.6021435848594778,
          -0.8944462959563116,
          -0.4332575740035293,
          -0.7554401177902618,
          null,
          null,
          -0.7021760682126165,
          null,
          -0.6787918513248697,
          null,
          -0.921377712373631,
          -0.5761611216508703,
          -0.7424488861859581,
          -0.8853524338332991,
          -0.5489433506770485,
          null,
          -0.5878532300947437,
          -0.7145177382367051,
          null,
          -0.8151997831700589,
          -0.6696979892018572
         ]
        }
       ],
       "layout": {
        "coloraxis": {
         "colorbar": {
          "title": {
           "text": "AgriShareGDP"
          }
         },
         "colorscale": [
          [
           0,
           "rgb(103,0,31)"
          ],
          [
           0.1,
           "rgb(178,24,43)"
          ],
          [
           0.2,
           "rgb(214,96,77)"
          ],
          [
           0.3,
           "rgb(244,165,130)"
          ],
          [
           0.4,
           "rgb(253,219,199)"
          ],
          [
           0.5,
           "rgb(247,247,247)"
          ],
          [
           0.6,
           "rgb(209,229,240)"
          ],
          [
           0.7,
           "rgb(146,197,222)"
          ],
          [
           0.8,
           "rgb(67,147,195)"
          ],
          [
           0.9,
           "rgb(33,102,172)"
          ],
          [
           1,
           "rgb(5,48,97)"
          ]
         ],
         "showscale": true
        },
        "geo": {
         "center": {},
         "domain": {
          "x": [
           0,
           1
          ],
          "y": [
           0,
           1
          ]
         },
         "projection": {
          "type": "natural earth"
         }
        },
        "height": 500,
        "legend": {
         "tracegroupgap": 0
        },
        "margin": {
         "t": 60
        },
        "template": {
         "data": {
          "bar": [
           {
            "error_x": {
             "color": "#2a3f5f"
            },
            "error_y": {
             "color": "#2a3f5f"
            },
            "marker": {
             "line": {
              "color": "#E5ECF6",
              "width": 0.5
             },
             "pattern": {
              "fillmode": "overlay",
              "size": 10,
              "solidity": 0.2
             }
            },
            "type": "bar"
           }
          ],
          "barpolar": [
           {
            "marker": {
             "line": {
              "color": "#E5ECF6",
              "width": 0.5
             },
             "pattern": {
              "fillmode": "overlay",
              "size": 10,
              "solidity": 0.2
             }
            },
            "type": "barpolar"
           }
          ],
          "carpet": [
           {
            "aaxis": {
             "endlinecolor": "#2a3f5f",
             "gridcolor": "white",
             "linecolor": "white",
             "minorgridcolor": "white",
             "startlinecolor": "#2a3f5f"
            },
            "baxis": {
             "endlinecolor": "#2a3f5f",
             "gridcolor": "white",
             "linecolor": "white",
             "minorgridcolor": "white",
             "startlinecolor": "#2a3f5f"
            },
            "type": "carpet"
           }
          ],
          "choropleth": [
           {
            "colorbar": {
             "outlinewidth": 0,
             "ticks": ""
            },
            "type": "choropleth"
           }
          ],
          "contour": [
           {
            "colorbar": {
             "outlinewidth": 0,
             "ticks": ""
            },
            "colorscale": [
             [
              0,
              "#0d0887"
             ],
             [
              0.1111111111111111,
              "#46039f"
             ],
             [
              0.2222222222222222,
              "#7201a8"
             ],
             [
              0.3333333333333333,
              "#9c179e"
             ],
             [
              0.4444444444444444,
              "#bd3786"
             ],
             [
              0.5555555555555556,
              "#d8576b"
             ],
             [
              0.6666666666666666,
              "#ed7953"
             ],
             [
              0.7777777777777778,
              "#fb9f3a"
             ],
             [
              0.8888888888888888,
              "#fdca26"
             ],
             [
              1,
              "#f0f921"
             ]
            ],
            "type": "contour"
           }
          ],
          "contourcarpet": [
           {
            "colorbar": {
             "outlinewidth": 0,
             "ticks": ""
            },
            "type": "contourcarpet"
           }
          ],
          "heatmap": [
           {
            "colorbar": {
             "outlinewidth": 0,
             "ticks": ""
            },
            "colorscale": [
             [
              0,
              "#0d0887"
             ],
             [
              0.1111111111111111,
              "#46039f"
             ],
             [
              0.2222222222222222,
              "#7201a8"
             ],
             [
              0.3333333333333333,
              "#9c179e"
             ],
             [
              0.4444444444444444,
              "#bd3786"
             ],
             [
              0.5555555555555556,
              "#d8576b"
             ],
             [
              0.6666666666666666,
              "#ed7953"
             ],
             [
              0.7777777777777778,
              "#fb9f3a"
             ],
             [
              0.8888888888888888,
              "#fdca26"
             ],
             [
              1,
              "#f0f921"
             ]
            ],
            "type": "heatmap"
           }
          ],
          "heatmapgl": [
           {
            "colorbar": {
             "outlinewidth": 0,
             "ticks": ""
            },
            "colorscale": [
             [
              0,
              "#0d0887"
             ],
             [
              0.1111111111111111,
              "#46039f"
             ],
             [
              0.2222222222222222,
              "#7201a8"
             ],
             [
              0.3333333333333333,
              "#9c179e"
             ],
             [
              0.4444444444444444,
              "#bd3786"
             ],
             [
              0.5555555555555556,
              "#d8576b"
             ],
             [
              0.6666666666666666,
              "#ed7953"
             ],
             [
              0.7777777777777778,
              "#fb9f3a"
             ],
             [
              0.8888888888888888,
              "#fdca26"
             ],
             [
              1,
              "#f0f921"
             ]
            ],
            "type": "heatmapgl"
           }
          ],
          "histogram": [
           {
            "marker": {
             "pattern": {
              "fillmode": "overlay",
              "size": 10,
              "solidity": 0.2
             }
            },
            "type": "histogram"
           }
          ],
          "histogram2d": [
           {
            "colorbar": {
             "outlinewidth": 0,
             "ticks": ""
            },
            "colorscale": [
             [
              0,
              "#0d0887"
             ],
             [
              0.1111111111111111,
              "#46039f"
             ],
             [
              0.2222222222222222,
              "#7201a8"
             ],
             [
              0.3333333333333333,
              "#9c179e"
             ],
             [
              0.4444444444444444,
              "#bd3786"
             ],
             [
              0.5555555555555556,
              "#d8576b"
             ],
             [
              0.6666666666666666,
              "#ed7953"
             ],
             [
              0.7777777777777778,
              "#fb9f3a"
             ],
             [
              0.8888888888888888,
              "#fdca26"
             ],
             [
              1,
              "#f0f921"
             ]
            ],
            "type": "histogram2d"
           }
          ],
          "histogram2dcontour": [
           {
            "colorbar": {
             "outlinewidth": 0,
             "ticks": ""
            },
            "colorscale": [
             [
              0,
              "#0d0887"
             ],
             [
              0.1111111111111111,
              "#46039f"
             ],
             [
              0.2222222222222222,
              "#7201a8"
             ],
             [
              0.3333333333333333,
              "#9c179e"
             ],
             [
              0.4444444444444444,
              "#bd3786"
             ],
             [
              0.5555555555555556,
              "#d8576b"
             ],
             [
              0.6666666666666666,
              "#ed7953"
             ],
             [
              0.7777777777777778,
              "#fb9f3a"
             ],
             [
              0.8888888888888888,
              "#fdca26"
             ],
             [
              1,
              "#f0f921"
             ]
            ],
            "type": "histogram2dcontour"
           }
          ],
          "mesh3d": [
           {
            "colorbar": {
             "outlinewidth": 0,
             "ticks": ""
            },
            "type": "mesh3d"
           }
          ],
          "parcoords": [
           {
            "line": {
             "colorbar": {
              "outlinewidth": 0,
              "ticks": ""
             }
            },
            "type": "parcoords"
           }
          ],
          "pie": [
           {
            "automargin": true,
            "type": "pie"
           }
          ],
          "scatter": [
           {
            "fillpattern": {
             "fillmode": "overlay",
             "size": 10,
             "solidity": 0.2
            },
            "type": "scatter"
           }
          ],
          "scatter3d": [
           {
            "line": {
             "colorbar": {
              "outlinewidth": 0,
              "ticks": ""
             }
            },
            "marker": {
             "colorbar": {
              "outlinewidth": 0,
              "ticks": ""
             }
            },
            "type": "scatter3d"
           }
          ],
          "scattercarpet": [
           {
            "marker": {
             "colorbar": {
              "outlinewidth": 0,
              "ticks": ""
             }
            },
            "type": "scattercarpet"
           }
          ],
          "scattergeo": [
           {
            "marker": {
             "colorbar": {
              "outlinewidth": 0,
              "ticks": ""
             }
            },
            "type": "scattergeo"
           }
          ],
          "scattergl": [
           {
            "marker": {
             "colorbar": {
              "outlinewidth": 0,
              "ticks": ""
             }
            },
            "type": "scattergl"
           }
          ],
          "scattermapbox": [
           {
            "marker": {
             "colorbar": {
              "outlinewidth": 0,
              "ticks": ""
             }
            },
            "type": "scattermapbox"
           }
          ],
          "scatterpolar": [
           {
            "marker": {
             "colorbar": {
              "outlinewidth": 0,
              "ticks": ""
             }
            },
            "type": "scatterpolar"
           }
          ],
          "scatterpolargl": [
           {
            "marker": {
             "colorbar": {
              "outlinewidth": 0,
              "ticks": ""
             }
            },
            "type": "scatterpolargl"
           }
          ],
          "scatterternary": [
           {
            "marker": {
             "colorbar": {
              "outlinewidth": 0,
              "ticks": ""
             }
            },
            "type": "scatterternary"
           }
          ],
          "surface": [
           {
            "colorbar": {
             "outlinewidth": 0,
             "ticks": ""
            },
            "colorscale": [
             [
              0,
              "#0d0887"
             ],
             [
              0.1111111111111111,
              "#46039f"
             ],
             [
              0.2222222222222222,
              "#7201a8"
             ],
             [
              0.3333333333333333,
              "#9c179e"
             ],
             [
              0.4444444444444444,
              "#bd3786"
             ],
             [
              0.5555555555555556,
              "#d8576b"
             ],
             [
              0.6666666666666666,
              "#ed7953"
             ],
             [
              0.7777777777777778,
              "#fb9f3a"
             ],
             [
              0.8888888888888888,
              "#fdca26"
             ],
             [
              1,
              "#f0f921"
             ]
            ],
            "type": "surface"
           }
          ],
          "table": [
           {
            "cells": {
             "fill": {
              "color": "#EBF0F8"
             },
             "line": {
              "color": "white"
             }
            },
            "header": {
             "fill": {
              "color": "#C8D4E3"
             },
             "line": {
              "color": "white"
             }
            },
            "type": "table"
           }
          ]
         },
         "layout": {
          "annotationdefaults": {
           "arrowcolor": "#2a3f5f",
           "arrowhead": 0,
           "arrowwidth": 1
          },
          "autotypenumbers": "strict",
          "coloraxis": {
           "colorbar": {
            "outlinewidth": 0,
            "ticks": ""
           }
          },
          "colorscale": {
           "diverging": [
            [
             0,
             "#8e0152"
            ],
            [
             0.1,
             "#c51b7d"
            ],
            [
             0.2,
             "#de77ae"
            ],
            [
             0.3,
             "#f1b6da"
            ],
            [
             0.4,
             "#fde0ef"
            ],
            [
             0.5,
             "#f7f7f7"
            ],
            [
             0.6,
             "#e6f5d0"
            ],
            [
             0.7,
             "#b8e186"
            ],
            [
             0.8,
             "#7fbc41"
            ],
            [
             0.9,
             "#4d9221"
            ],
            [
             1,
             "#276419"
            ]
           ],
           "sequential": [
            [
             0,
             "#0d0887"
            ],
            [
             0.1111111111111111,
             "#46039f"
            ],
            [
             0.2222222222222222,
             "#7201a8"
            ],
            [
             0.3333333333333333,
             "#9c179e"
            ],
            [
             0.4444444444444444,
             "#bd3786"
            ],
            [
             0.5555555555555556,
             "#d8576b"
            ],
            [
             0.6666666666666666,
             "#ed7953"
            ],
            [
             0.7777777777777778,
             "#fb9f3a"
            ],
            [
             0.8888888888888888,
             "#fdca26"
            ],
            [
             1,
             "#f0f921"
            ]
           ],
           "sequentialminus": [
            [
             0,
             "#0d0887"
            ],
            [
             0.1111111111111111,
             "#46039f"
            ],
            [
             0.2222222222222222,
             "#7201a8"
            ],
            [
             0.3333333333333333,
             "#9c179e"
            ],
            [
             0.4444444444444444,
             "#bd3786"
            ],
            [
             0.5555555555555556,
             "#d8576b"
            ],
            [
             0.6666666666666666,
             "#ed7953"
            ],
            [
             0.7777777777777778,
             "#fb9f3a"
            ],
            [
             0.8888888888888888,
             "#fdca26"
            ],
            [
             1,
             "#f0f921"
            ]
           ]
          },
          "colorway": [
           "#636efa",
           "#EF553B",
           "#00cc96",
           "#ab63fa",
           "#FFA15A",
           "#19d3f3",
           "#FF6692",
           "#B6E880",
           "#FF97FF",
           "#FECB52"
          ],
          "font": {
           "color": "#2a3f5f"
          },
          "geo": {
           "bgcolor": "white",
           "lakecolor": "white",
           "landcolor": "#E5ECF6",
           "showlakes": true,
           "showland": true,
           "subunitcolor": "white"
          },
          "hoverlabel": {
           "align": "left"
          },
          "hovermode": "closest",
          "mapbox": {
           "style": "light"
          },
          "paper_bgcolor": "white",
          "plot_bgcolor": "#E5ECF6",
          "polar": {
           "angularaxis": {
            "gridcolor": "white",
            "linecolor": "white",
            "ticks": ""
           },
           "bgcolor": "#E5ECF6",
           "radialaxis": {
            "gridcolor": "white",
            "linecolor": "white",
            "ticks": ""
           }
          },
          "scene": {
           "xaxis": {
            "backgroundcolor": "#E5ECF6",
            "gridcolor": "white",
            "gridwidth": 2,
            "linecolor": "white",
            "showbackground": true,
            "ticks": "",
            "zerolinecolor": "white"
           },
           "yaxis": {
            "backgroundcolor": "#E5ECF6",
            "gridcolor": "white",
            "gridwidth": 2,
            "linecolor": "white",
            "showbackground": true,
            "ticks": "",
            "zerolinecolor": "white"
           },
           "zaxis": {
            "backgroundcolor": "#E5ECF6",
            "gridcolor": "white",
            "gridwidth": 2,
            "linecolor": "white",
            "showbackground": true,
            "ticks": "",
            "zerolinecolor": "white"
           }
          },
          "shapedefaults": {
           "line": {
            "color": "#2a3f5f"
           }
          },
          "ternary": {
           "aaxis": {
            "gridcolor": "white",
            "linecolor": "white",
            "ticks": ""
           },
           "baxis": {
            "gridcolor": "white",
            "linecolor": "white",
            "ticks": ""
           },
           "bgcolor": "#E5ECF6",
           "caxis": {
            "gridcolor": "white",
            "linecolor": "white",
            "ticks": ""
           }
          },
          "title": {
           "x": 0.05
          },
          "xaxis": {
           "automargin": true,
           "gridcolor": "white",
           "linecolor": "white",
           "ticks": "",
           "title": {
            "standoff": 15
           },
           "zerolinecolor": "white",
           "zerolinewidth": 2
          },
          "yaxis": {
           "automargin": true,
           "gridcolor": "white",
           "linecolor": "white",
           "ticks": "",
           "title": {
            "standoff": 15
           },
           "zerolinecolor": "white",
           "zerolinewidth": 2
          }
         }
        },
        "width": 700
       }
      }
     },
     "metadata": {},
     "output_type": "display_data"
    }
   ],
   "source": [
    "indicator = widgets.SelectMultiple(\n",
    "    options = df_corr_spearman.columns.tolist(),\n",
    "    value = [df_corr_spearman.columns[0]],\n",
    "    description = 'Indicator',\n",
    "    disabled = False,\n",
    "    layout = Layout(width = '50%', height = '80px')\n",
    ")\n",
    "\n",
    "\n",
    "\n",
    "def globalGrapgh(indicator):\n",
    "    ind = indicator[0]\n",
    "    N = 10\n",
    "    fig = px.choropleth(df_corr_spearman, locations = df_corr_spearman.index, locationmode='country names', \n",
    "                        color = ind, projection=\"natural earth\",\n",
    "                        color_continuous_scale='RdBu',\n",
    "                        width = 700, height=500)\n",
    "\n",
    "    pos_corr = df_corr_spearman.drop(df_corr_spearman.columns.difference([ind]), axis = 1).sort_values(by = ind, axis = 0, ascending = False).head(n = N)\n",
    "    neg_corr = df_corr_spearman.drop(df_corr_spearman.columns.difference([ind]), axis = 1).sort_values(by = ind, axis = 0, ascending = True).head(n = N)\n",
    "\n",
    "    pos_corr = pos_corr.loc[pos_corr[ind] > 0]\n",
    "    neg_corr = neg_corr.loc[neg_corr[ind] < 0]\n",
    "\n",
    "\n",
    "    fig.update(layout_coloraxis_showscale=True)\n",
    "    fig.show()\n",
    "    \n",
    "    pos_styler = pos_corr.style.set_table_attributes(\"style='display:inline'\").set_caption('Direct correlation')\n",
    "    neg_styler = neg_corr.style.set_table_attributes(\"style='display:inline'\").set_caption('Inverse correlation')\n",
    "\n",
    "    space = \"\\xa0\" * 10\n",
    "    display_html(pos_styler._repr_html_() + space  + neg_styler._repr_html_(), raw=True)\n",
    "\n",
    "widgets.interactive(globalGrapgh, indicator = indicator)"
   ]
  },
  {
   "cell_type": "code",
   "execution_count": 4,
   "metadata": {},
   "outputs": [
    {
     "data": {
      "application/vnd.jupyter.widget-view+json": {
       "model_id": "6b6997fb6f294d05963c0764d56a41ea",
       "version_major": 2,
       "version_minor": 0
      },
      "text/plain": [
       "interactive(children=(Dropdown(description='country', options=('Afghanistan', 'Albania', 'Algeria', 'Angola', …"
      ]
     },
     "metadata": {},
     "output_type": "display_data"
    }
   ],
   "source": [
    "def tableOut(threshold, country):\n",
    "\n",
    "    df = search(threshold, col_country, country)\n",
    "    if df.empty:\n",
    "        return print(\"No indicators have been found.\")\n",
    "          \n",
    "    left1 = pd.Series([PVALUE_VAR, PVALUE_VAR], index=['P-value Pearson', 'P-value Spearman'])\n",
    "    left2 = pd.Series([-1, -1], index=['GDP Pearson Corr', 'GDP Spearman Corr'])\n",
    "    left3 = pd.Series([0, 0], index=['GDP Pearson Corr', 'GDP Spearman Corr'])\n",
    "    df = df.style.highlight_between(left = left1, right = 1.5, axis = 1, props='color:white; background-color:red;')\\\n",
    "                 .highlight_between(left = left2, right = 1.5, axis = 1, props='color:white; background-color:#929bfc;')\\\n",
    "                 .highlight_between(left = left3, right = 1.5, axis = 1, props='color:white; background-color:#b3b9ff;')\\\n",
    "                 .format('{:,.4f}', subset = ['GDP Pearson Corr', 'GDP Spearman Corr'])\\\n",
    "                 .format('{:,.12f}', subset = ['P-value Pearson', 'P-value Spearman']) \n",
    "    \n",
    "    \n",
    "    display(df)\n",
    "\n",
    "\n",
    "\n",
    "@interact(\n",
    "    country = country_list,\n",
    "    threshold = (0, 1, 0.05))\n",
    "def g(country = 'Afghanistan', threshold = 0.7):\n",
    "    return tableOut(threshold ,country)"
   ]
  },
  {
   "cell_type": "code",
   "execution_count": 5,
   "metadata": {},
   "outputs": [
    {
     "data": {
      "application/vnd.jupyter.widget-view+json": {
       "model_id": "9e66c339d0604b25ae7d5c80fbddb812",
       "version_major": 2,
       "version_minor": 0
      },
      "text/plain": [
       "interactive(children=(Dropdown(description='region', options=('East Asia and Pacific', 'Europe and Central Asi…"
      ]
     },
     "metadata": {},
     "output_type": "display_data"
    }
   ],
   "source": [
    "median_corr_df_pearson_region = pd.merge(df_corr_spearman, df_regions, how = 'inner', left_index = True, right_index = True).groupby(level = col_region).median()\n",
    "median_corr_df_spearman_region = pd.merge(df_corr_spearman, df_regions, how = 'inner', left_index = True, right_index = True).groupby(level = col_region).median()\n",
    "\n",
    "def tableRegMed(region, threshold):    \n",
    "    median_corr_series_pearson_region = median_corr_df_pearson_region.loc[region]\n",
    "    median_corr_series_pearson_region.name = 'GDP Pearson Corr'\n",
    "    median_corr_series_spearman_region = median_corr_df_spearman_region.loc[region]\n",
    "    median_corr_series_spearman_region.name = 'GDP Spearman Corr'\n",
    "    df = pd.concat([median_corr_series_pearson_region, median_corr_series_spearman_region], axis = 1)\n",
    "    df = df.loc[(abs(df['GDP Pearson Corr']) >= threshold) & (abs(df['GDP Spearman Corr']) >= threshold)]\n",
    "\n",
    "    if df.empty:\n",
    "        return print(\"No indicators have been found.\")\n",
    "\n",
    "    df = df.sort_values(by = df.columns[0], ascending = False, key = lambda row: df.sum(axis = 1))\n",
    "\n",
    "    left1 = pd.Series([-1, -1], index = ['GDP Pearson Corr', 'GDP Spearman Corr'])\n",
    "    left2 = pd.Series([0, 0], index = ['GDP Pearson Corr', 'GDP Spearman Corr'])\n",
    "    df = df.style\\\n",
    "        .highlight_between(left = left1, right = 1.5, axis = 1, props = 'color:white; background-color:#929bfc;')\\\n",
    "        .highlight_between(left = left2, right = 1.5, axis = 1, props = 'color:white; background-color:#b3b9ff;')\\\n",
    "        .format('{:,.4f}', subset = ['GDP Pearson Corr', 'GDP Spearman Corr'])\\\n",
    "    \n",
    "    display(df)\n",
    "\n",
    "\n",
    "\n",
    "@interact(\n",
    "    region = region_list,\n",
    "    threshold = (0, 1, 0.05))\n",
    "def g(region = region_list[0], threshold = 0.7):\n",
    "    return tableRegMed(region, threshold)\n"
   ]
  },
  {
   "cell_type": "code",
   "execution_count": 6,
   "metadata": {},
   "outputs": [
    {
     "data": {
      "application/vnd.jupyter.widget-view+json": {
       "model_id": "de6b3d3f28244c4d9057247f4894adb8",
       "version_major": 2,
       "version_minor": 0
      },
      "text/plain": [
       "interactive(children=(FloatSlider(value=0.7, description='threshold', max=1.0, step=0.05), Output()), _dom_cla…"
      ]
     },
     "metadata": {},
     "output_type": "display_data"
    }
   ],
   "source": [
    "median_corr_df_pearson = pd.merge(df_corr_spearman, df_regions, how = 'inner', left_index = True, right_index = True).median().rename('GDP Pearson Corr')\n",
    "median_corr_df_spearman = pd.merge(df_corr_spearman, df_regions, how = 'inner', left_index = True, right_index = True).median().rename('GDP Spearman Corr')\n",
    "\n",
    "def tableWorldMed(threshold):\n",
    "    df = pd.concat([median_corr_df_pearson, median_corr_df_spearman], axis = 1)\n",
    "    df = df.loc[(abs(df['GDP Pearson Corr']) >= threshold) & (abs(df['GDP Spearman Corr']) >= threshold)]\n",
    "\n",
    "    if df.empty:\n",
    "        return print(\"No indicators have been found.\")\n",
    "\n",
    "    df = df.sort_values(by = df.columns[0], ascending = False, key = lambda row: df.sum(axis = 1))\n",
    "\n",
    "    left1 = pd.Series([-1, -1], index = ['GDP Pearson Corr', 'GDP Spearman Corr'])\n",
    "    left2 = pd.Series([0, 0], index = ['GDP Pearson Corr', 'GDP Spearman Corr'])\n",
    "    df = df.style.highlight_between(left = left1, right = 1.5, axis = 1, props = 'color:white; background-color:#929bfc;')\\\n",
    "                 .highlight_between(left = left2, right = 1.5, axis = 1, props = 'color:white; background-color:#b3b9ff;')\\\n",
    "                 .format('{:,.4f}', subset = ['GDP Pearson Corr', 'GDP Spearman Corr'])\\\n",
    "\n",
    "    display(df)\n",
    "\n",
    "\n",
    "\n",
    "@interact(\n",
    "    threshold = (0, 1, 0.05))\n",
    "def g(threshold = 0.7):\n",
    "    return tableWorldMed(threshold)"
   ]
  },
  {
   "cell_type": "code",
   "execution_count": 7,
   "metadata": {},
   "outputs": [],
   "source": [
    "class WidgetTimeWindowCountryStatus:\n",
    "    def __init__(self):\n",
    "        self.filter_by = \"Country\"\n",
    "        self.zone = None\n",
    "        self.data = None\n",
    "        \n",
    "status_widget = WidgetTimeWindowCountryStatus()"
   ]
  },
  {
   "cell_type": "code",
   "execution_count": 4,
   "metadata": {},
   "outputs": [
    {
     "name": "stdout",
     "output_type": "stream",
     "text": [
      "[5.45 seconds] Normalized Region East Asia and Pacific\n",
      "[17.08 seconds] Normalized Region Europe and Central Asia\n",
      "[6.15 seconds] Normalized Region Latin America and Caribbean\n",
      "[3.76 seconds] Normalized Region Middle East and North Africa\n",
      "[0.52 seconds] Normalized Region North America\n",
      "[2.08 seconds] Normalized Region South Asia\n",
      "[10.08 seconds] Normalized Region Sub-Saharan Africa\n"
     ]
    }
   ],
   "source": [
    "# Precompute contries by region normalized\n",
    "countries_by_region = {}\n",
    "for r in region_list:\n",
    "    countries_by_region[r] = Nbook_Times.load_by_region(r, df_gold)"
   ]
  },
  {
   "cell_type": "code",
   "execution_count": 9,
   "metadata": {},
   "outputs": [
    {
     "data": {
      "application/vnd.jupyter.widget-view+json": {
       "model_id": "5c4b21b60adf4da2ad5bcc6ef0ad9467",
       "version_major": 2,
       "version_minor": 0
      },
      "text/plain": [
       "interactive(children=(Dropdown(description='By: ', options=('Country', 'Region'), value='Country'), Dropdown(d…"
      ]
     },
     "metadata": {},
     "output_type": "display_data"
    },
    {
     "data": {
      "text/plain": [
       "<function __main__.time_window_zone(by, zone, threshold, years)>"
      ]
     },
     "execution_count": 9,
     "metadata": {},
     "output_type": "execute_result"
    }
   ],
   "source": [
    "from tkinter import E\n",
    "\n",
    "def time_window_zone(by, zone, threshold , years):\n",
    "    # Update Widget Status\n",
    "    if by == 'Country':\n",
    "        if status_widget.filter_by != \"Country\":\n",
    "            status_widget.filter_by = \"Country\"\n",
    "            zone_drop.options = country_list\n",
    "            return\n",
    "        if status_widget.zone != zone:\n",
    "            #Search for entries of the country.\n",
    "            status_widget.data = df_gold.loc[df_gold.index.get_level_values('Country') == zone]\n",
    "            status_widget.zone = zone\n",
    "\n",
    "    elif by == 'Region':\n",
    "         if status_widget.filter_by != \"Region\":\n",
    "            status_widget.filter_by = \"Region\"\n",
    "            zone_drop.options = region_list\n",
    "            return\n",
    "         if status_widget.zone != zone:\n",
    "            #Search for entries of the country.\n",
    "            status_widget.data = countries_by_region[zone] \n",
    "            status_widget.zone = zone\n",
    "    \n",
    "    \n",
    "    # Update Widget Data\n",
    "    df_zone = status_widget.data\n",
    "    \n",
    "    #Load the selected year range and the global range.\n",
    "    df_time = searchTimeSeries(threshold, years[0], years[1], True, df_zone)\n",
    "    df_global = searchTimeSeries(threshold, years[0], years[1], False, df_zone)\n",
    "\n",
    "\n",
    "    # Display Data\n",
    "    if years[0] > years[1]: return print(\"Please, select a valid range of years.\")\n",
    " \n",
    "    space = \"\\xa0\" * 10\n",
    "    try:\n",
    "        df_time = Nbook_Times.styler_method(df_time, str(years[0]) + '-' + str(years[1]), PVALUE_VAR)._repr_html_()\n",
    "    except Exception as e: \n",
    "        df_time = 'No indicators available for the selected parameters'\n",
    "    \n",
    "    try:\n",
    "        df_global = Nbook_Times.styler_method(df_global, '2000-2020', PVALUE_VAR)._repr_html_()\n",
    "    except: \n",
    "        df_global = 'No indicators available for the selected parameters'\n",
    "\n",
    "    display_html(df_time + space  + df_global, raw=True)\n",
    "    \n",
    "by_drop = widgets.Dropdown(\n",
    "    options= ['Country', 'Region'],\n",
    "    description='By: ',\n",
    ")\n",
    "\n",
    "intslider = widgets.IntRangeSlider(\n",
    "    value=[min(df_gold.index.get_level_values('Year').unique()), max(df_gold.index.get_level_values('Year').unique())],\n",
    "    min= min(df_gold.index.get_level_values('Year').unique()),\n",
    "    max= max(df_gold.index.get_level_values('Year').unique()),\n",
    "    step=1,\n",
    "    description='Years: ',\n",
    ")\n",
    "\n",
    "zone_drop = widgets.Dropdown(\n",
    "    options= country_list,\n",
    "    value='Afghanistan',\n",
    "    description='Zone: ',\n",
    ")\n",
    "\n",
    "floatslider = widgets.FloatSlider(\n",
    "    value=0.7,\n",
    "    min=0,\n",
    "    max=1.0,\n",
    "    step=0.05,\n",
    "    description='Threshold:',\n",
    ")\n",
    "\n",
    "widgets.interact(time_window_zone, by = by_drop, zone = zone_drop, threshold = floatslider, years = intslider)"
   ]
  },
  {
   "cell_type": "code",
   "execution_count": 10,
   "metadata": {},
   "outputs": [
    {
     "data": {
      "application/vnd.jupyter.widget-view+json": {
       "model_id": "2005cd7b87d545bea7fd46159633e90f",
       "version_major": 2,
       "version_minor": 0
      },
      "text/plain": [
       "interactive(children=(Dropdown(description='By: ', options=('Country', 'Region'), value='Country'), Dropdown(d…"
      ]
     },
     "metadata": {},
     "output_type": "display_data"
    },
    {
     "data": {
      "text/plain": [
       "<function __main__.table_high_country(by, zone)>"
      ]
     },
     "execution_count": 10,
     "metadata": {},
     "output_type": "execute_result"
    }
   ],
   "source": [
    "def table_high_country(by, zone):\n",
    "    if by == 'Country':\n",
    "        if len(zone_drop_high.options) == len(region_list): \n",
    "            zone_drop_high.options = country_list\n",
    "            return\n",
    "        #Search for the entries of the country.\n",
    "        df_zone  = df_gold.loc[df_gold.index.get_level_values('Country') == zone]\n",
    "        min_diff = 5\n",
    "    \n",
    "        \n",
    "    elif by == 'Region':\n",
    "        if len(zone_drop_high.options) == len(country_list): \n",
    "            zone_drop_high.options = region_list\n",
    "            return\n",
    "        #Search for the entries of the region and normalize.\n",
    "        df_zone = countries_by_region[zone]\n",
    "        min_diff = 2\n",
    "    \n",
    "    df_highest = Nbook_Times.init_highest_table(indicators)\n",
    "    \n",
    "    i = 0\n",
    "    computing_text = \"Loading \"\n",
    "    print(computing_text, end=\"\\r\")\n",
    "    \n",
    "    #For all the combination of years...\n",
    "    for years in Nbook_Times.generate_years_combinations(min_diff, min_year, max_year):\n",
    "        \n",
    "        i = (i + 1) % 50\n",
    "        print (computing_text + \"\".join([\".\" for _ in range(i)]), end=\"\\r\")\n",
    "        \n",
    "        df_aux = searchTimeSeries(0, years[0], years[1], True, df_zone)\n",
    "        #Delete indicators which are not available that year\n",
    "        indicators_inter = list(set(indicators) & set(list(df_aux.index)))\n",
    "\n",
    "        #For all the indicators availble that year....\n",
    "        for indicator in indicators_inter:\n",
    "            #Algorithm to search for the highest value\n",
    "            indicator_corr_pos_last = df_highest[df_highest.index.get_level_values(0) == indicator][\"Highest positive Spearman corr\"][0]\n",
    "            indicator_corr_neg_last = df_highest[df_highest.index.get_level_values(0) == indicator][\"Highest negative Spearman corr\"][0]\n",
    "            \n",
    "          \n",
    "            indicator_corr_aux = df_aux[df_aux.index.get_level_values(0) == indicator][\"GDP Spearman Corr\"][0]\n",
    "            indicator_p_value_aux = df_aux[df_aux.index.get_level_values(0) == indicator][\"P-value Spearman\"][0]\n",
    "\n",
    "            if indicator_corr_aux != nan and indicator_p_value_aux < PVALUE_VAR:\n",
    "                if indicator_corr_pos_last < indicator_corr_aux and indicator_corr_aux > 0:\n",
    "                    df_highest.at[indicator, \"Year range\"] = str(years[0]) + '-' + str(years[1])\n",
    "                    df_highest.at[indicator, \"Highest positive Spearman corr\"] = indicator_corr_aux\n",
    "                elif indicator_corr_neg_last > indicator_corr_aux and indicator_corr_aux < 0:\n",
    "                    df_highest.at[indicator, \"Year range \"] = str(years[0]) + '-' + str(years[1])\n",
    "                    df_highest.at[indicator, \"Highest negative Spearman corr\"] = indicator_corr_aux\n",
    "\n",
    "    df_highest = df_highest.replace(0, nan).dropna(axis=0, how='all').fillna(\"-\")\n",
    "    \n",
    "    print(\"                                                                                    \", end=\"\\r\")\n",
    "\n",
    "\n",
    "    display(df_highest)\n",
    "\n",
    "by_drop_high = widgets.Dropdown(\n",
    "    options= ['Country', 'Region'],\n",
    "    description='By: ',\n",
    ")\n",
    "\n",
    "zone_drop_high = widgets.Dropdown(\n",
    "    options= country_list,\n",
    "    value ='Afghanistan',\n",
    "    description='Zone:',\n",
    ")\n",
    "\n",
    "widgets.interact(table_high_country, by = by_drop_high, zone = zone_drop_high)\n"
   ]
  },
  {
   "cell_type": "code",
   "execution_count": 5,
   "metadata": {},
   "outputs": [
    {
     "data": {
      "application/vnd.jupyter.widget-view+json": {
       "model_id": "d81a3838dabd49ef852be8bb80d7800b",
       "version_major": 2,
       "version_minor": 0
      },
      "text/plain": [
       "interactive(children=(Dropdown(description='By: ', options=('Country', 'Region'), value='Country'), Dropdown(d…"
      ]
     },
     "metadata": {},
     "output_type": "display_data"
    },
    {
     "data": {
      "text/plain": [
       "<function __main__.plot_year_range(by, zone, indicator, years)>"
      ]
     },
     "execution_count": 5,
     "metadata": {},
     "output_type": "execute_result"
    }
   ],
   "source": [
    "\n",
    "def plot_year_range(by, zone, indicator, years):\n",
    "    if by == 'Country':\n",
    "        if list(zone_drop_plot.options) != country_list:\n",
    "            zone_drop_plot.options = country_list\n",
    "            return\n",
    "        df_zone  = df_gold.loc[df_gold.index.get_level_values('Country') == zone]\n",
    "    \n",
    "    elif by == 'Region':\n",
    "        if list(zone_drop_plot.options) != region_list:\n",
    "            zone_drop_plot.options = region_list\n",
    "            return\n",
    "        df_zone = countries_by_region[zone]\n",
    "\n",
    "    df_zone = df_zone.loc[(df_zone.index.get_level_values(\"Year\") >= years[0]) & (df_zone.index.get_level_values(\"Year\") <= years[1])]\n",
    "    spear = stats.spearmanr(df_zone[indicator], df_zone['GDP'])\n",
    "    df_zone = normalize_by_country(df_zone)\n",
    "\n",
    "\n",
    "    #In case if by is region it groups by year.\n",
    "    df_zone = df_zone.loc[df_zone.index.get_level_values(by_drop_plot.value) == zone, ['GDP', indicator]].groupby(level = 'Year').median()\n",
    "\n",
    "    print(spear)\n",
    "    plt.figure(figsize=(6,6))\n",
    "    plt.plot(df_zone.index.get_level_values(\"Year\"), df_zone[\"GDP\"], color=\"red\", label = 'GDP')\n",
    "    plt.plot(df_zone.index.get_level_values(\"Year\"), df_zone[indicator], color=\"green\", label = indicator)\n",
    "    plt.legend(loc=\"lower right\")\n",
    "    \n",
    "by_drop_plot = widgets.Dropdown(\n",
    "    options= ['Country', 'Region'],\n",
    "    description='By: ',\n",
    ")\n",
    "\n",
    "zone_drop_plot = widgets.Dropdown(\n",
    "    options= country_list,\n",
    "    value='Afghanistan',\n",
    "    description='Country: ',\n",
    ")\n",
    "\n",
    "indicator_drop_plot = widgets.Dropdown(\n",
    "    options= sorted(indicators),\n",
    "    value='AgriShareGDP',\n",
    "    description='Indicator: :',\n",
    ")\n",
    "\n",
    "intslider_plot = widgets.IntRangeSlider(\n",
    "    value=[min_year, max_year],\n",
    "    min= min_year,\n",
    "    max= max_year,\n",
    "    step=1,\n",
    "    description='Years:',\n",
    ")\n",
    "\n",
    "# TODO By Region: Say Y axis is Qualitative (Not real values but Normalized to observe evolution vs GDP - Tendendency)\n",
    "\n",
    "widgets.interact(plot_year_range, by = by_drop_plot,  zone = zone_drop_plot, indicator = indicator_drop_plot, years = intslider_plot)"
   ]
  },
  {
   "cell_type": "code",
   "execution_count": 5,
   "metadata": {},
   "outputs": [
    {
     "ename": "ValueError",
     "evalue": "The truth value of a DataFrame is ambiguous. Use a.empty, a.bool(), a.item(), a.any() or a.all().",
     "output_type": "error",
     "traceback": [
      "\u001b[1;31m---------------------------------------------------------------------------\u001b[0m",
      "\u001b[1;31mValueError\u001b[0m                                Traceback (most recent call last)",
      "\u001b[1;32mc:\\Users\\smanoles\\Documents\\GitHub\\python-data-driven-decisions\\Notebook_Dashboard_Silviu.ipynb Cell 13\u001b[0m in \u001b[0;36m<cell line: 28>\u001b[1;34m()\u001b[0m\n\u001b[0;32m     <a href='vscode-notebook-cell:/c%3A/Users/smanoles/Documents/GitHub/python-data-driven-decisions/Notebook_Dashboard_Silviu.ipynb#X16sZmlsZQ%3D%3D?line=17'>18</a>\u001b[0m intslider_plot \u001b[39m=\u001b[39m widgets\u001b[39m.\u001b[39mIntRangeSlider(\n\u001b[0;32m     <a href='vscode-notebook-cell:/c%3A/Users/smanoles/Documents/GitHub/python-data-driven-decisions/Notebook_Dashboard_Silviu.ipynb#X16sZmlsZQ%3D%3D?line=18'>19</a>\u001b[0m     value\u001b[39m=\u001b[39m[min_year, max_year],\n\u001b[0;32m     <a href='vscode-notebook-cell:/c%3A/Users/smanoles/Documents/GitHub/python-data-driven-decisions/Notebook_Dashboard_Silviu.ipynb#X16sZmlsZQ%3D%3D?line=19'>20</a>\u001b[0m     \u001b[39mmin\u001b[39m\u001b[39m=\u001b[39m min_year,\n\u001b[1;32m   (...)\u001b[0m\n\u001b[0;32m     <a href='vscode-notebook-cell:/c%3A/Users/smanoles/Documents/GitHub/python-data-driven-decisions/Notebook_Dashboard_Silviu.ipynb#X16sZmlsZQ%3D%3D?line=22'>23</a>\u001b[0m     description\u001b[39m=\u001b[39m\u001b[39m'\u001b[39m\u001b[39mYears:\u001b[39m\u001b[39m'\u001b[39m,\n\u001b[0;32m     <a href='vscode-notebook-cell:/c%3A/Users/smanoles/Documents/GitHub/python-data-driven-decisions/Notebook_Dashboard_Silviu.ipynb#X16sZmlsZQ%3D%3D?line=23'>24</a>\u001b[0m )\n\u001b[0;32m     <a href='vscode-notebook-cell:/c%3A/Users/smanoles/Documents/GitHub/python-data-driven-decisions/Notebook_Dashboard_Silviu.ipynb#X16sZmlsZQ%3D%3D?line=25'>26</a>\u001b[0m \u001b[39m# TODO By Region: Say Y axis is Qualitative (Not real values but Normalized to observe evolution vs GDP - Tendendency)\u001b[39;00m\n\u001b[1;32m---> <a href='vscode-notebook-cell:/c%3A/Users/smanoles/Documents/GitHub/python-data-driven-decisions/Notebook_Dashboard_Silviu.ipynb#X16sZmlsZQ%3D%3D?line=27'>28</a>\u001b[0m widgets\u001b[39m.\u001b[39minteract(Nbook_Times\u001b[39m.\u001b[39;49mplot_widget(df_gold, countries_by_region), by \u001b[39m=\u001b[39m by_drop_plot,  zone \u001b[39m=\u001b[39m zone_drop_plot, indicator \u001b[39m=\u001b[39m indicator_drop_plot, years \u001b[39m=\u001b[39m intslider_plot)\n",
      "File \u001b[1;32mc:\\Users\\smanoles\\Documents\\GitHub\\python-data-driven-decisions\\Notebook_Time_Series.ipynb:5\u001b[0m, in \u001b[0;36mplot_widget\u001b[1;34m(df_gold, countries)\u001b[0m\n\u001b[0;32m      1\u001b[0m {\n\u001b[0;32m      2\u001b[0m  \u001b[39m\"\u001b[39m\u001b[39mcells\u001b[39m\u001b[39m\"\u001b[39m: [\n\u001b[0;32m      3\u001b[0m   {\n\u001b[0;32m      4\u001b[0m    \u001b[39m\"\u001b[39m\u001b[39mcell_type\u001b[39m\u001b[39m\"\u001b[39m: \u001b[39m\"\u001b[39m\u001b[39mmarkdown\u001b[39m\u001b[39m\"\u001b[39m,\n\u001b[1;32m----> 5\u001b[0m    \u001b[39m\"\u001b[39m\u001b[39mmetadata\u001b[39m\u001b[39m\"\u001b[39m: {},\n\u001b[0;32m      6\u001b[0m    \u001b[39m\"\u001b[39m\u001b[39msource\u001b[39m\u001b[39m\"\u001b[39m: [\n\u001b[0;32m      7\u001b[0m     \u001b[39m\"\u001b[39m\u001b[39m# Window Time Series\u001b[39m\u001b[39m\\n\u001b[39;00m\u001b[39m\"\u001b[39m,\n\u001b[0;32m      8\u001b[0m     \u001b[39m\"\u001b[39m\u001b[39m\\n\u001b[39;00m\u001b[39m\"\u001b[39m,\n\u001b[0;32m      9\u001b[0m     \u001b[39m\"\u001b[39m\u001b[39mIn this notebook it will be performed an analysis of the indicators with the GDP through a time window. This consists in selecting a year range instead of the whole available data, allowing to see specific periods of time and their impact. \u001b[39m\u001b[39m\\n\u001b[39;00m\u001b[39m\"\u001b[39m,\n\u001b[0;32m     10\u001b[0m     \u001b[39m\"\u001b[39m\u001b[39m\\n\u001b[39;00m\u001b[39m\"\u001b[39m,\n\u001b[0;32m     11\u001b[0m     \u001b[39m\"\u001b[39m\u001b[39mThe structure of the notebook is the following:\u001b[39m\u001b[39m\\n\u001b[39;00m\u001b[39m\"\u001b[39m,\n\u001b[0;32m     12\u001b[0m     \u001b[39m\"\u001b[39m\u001b[39m- Time window country/region: see the indicators correlation of the selected year range for the country/region\u001b[39m\u001b[39m\\n\u001b[39;00m\u001b[39m\"\u001b[39m,\n\u001b[0;32m     13\u001b[0m     \u001b[39m\"\u001b[39m\u001b[39m- Highest correlations country/region: finds the highest positive/negative correlations for the selected country/region.\u001b[39m\u001b[39m\\n\u001b[39;00m\u001b[39m\"\u001b[39m,\n\u001b[0;32m     14\u001b[0m     \u001b[39m\"\u001b[39m\u001b[39m- Plot for the countries: to compare their GDP with the indicators\u001b[39m\u001b[39m\\n\u001b[39;00m\u001b[39m\"\u001b[39m,\n\u001b[0;32m     15\u001b[0m     \u001b[39m\"\u001b[39m\u001b[39m\\n\u001b[39;00m\u001b[39m\"\u001b[39m,\n\u001b[0;32m     16\u001b[0m     \u001b[39m\"\u001b[39m\u001b[39mWe will start importing all the libraries and necessary dataframes.\u001b[39m\u001b[39m\"\u001b[39m\n\u001b[0;32m     17\u001b[0m    ]\n\u001b[0;32m     18\u001b[0m   },\n\u001b[0;32m     19\u001b[0m   {\n\u001b[0;32m     20\u001b[0m    \u001b[39m\"\u001b[39m\u001b[39mcell_type\u001b[39m\u001b[39m\"\u001b[39m: \u001b[39m\"\u001b[39m\u001b[39mcode\u001b[39m\u001b[39m\"\u001b[39m,\n\u001b[0;32m     21\u001b[0m    \u001b[39m\"\u001b[39m\u001b[39mexecution_count\u001b[39m\u001b[39m\"\u001b[39m: \u001b[39m28\u001b[39m,\n\u001b[0;32m     22\u001b[0m    \u001b[39m\"\u001b[39m\u001b[39mmetadata\u001b[39m\u001b[39m\"\u001b[39m: {},\n\u001b[0;32m     23\u001b[0m    \u001b[39m\"\u001b[39m\u001b[39moutputs\u001b[39m\u001b[39m\"\u001b[39m: [],\n\u001b[0;32m     24\u001b[0m    \u001b[39m\"\u001b[39m\u001b[39msource\u001b[39m\u001b[39m\"\u001b[39m: [\n\u001b[0;32m     25\u001b[0m     \u001b[39m\"\u001b[39m\u001b[39mimport os\u001b[39m\u001b[39m\\n\u001b[39;00m\u001b[39m\"\u001b[39m,\n\u001b[0;32m     26\u001b[0m     \u001b[39m\"\u001b[39m\u001b[39mimport pandas as pd\u001b[39m\u001b[39m\\n\u001b[39;00m\u001b[39m\"\u001b[39m,\n\u001b[0;32m     27\u001b[0m     \u001b[39m\"\u001b[39m\u001b[39mimport ipywidgets as widgets\u001b[39m\u001b[39m\\n\u001b[39;00m\u001b[39m\"\u001b[39m,\n\u001b[0;32m     28\u001b[0m     \u001b[39m\"\u001b[39m\u001b[39mfrom ipywidgets import Layout\u001b[39m\u001b[39m\\n\u001b[39;00m\u001b[39m\"\u001b[39m,\n\u001b[0;32m     29\u001b[0m     \u001b[39m\"\u001b[39m\u001b[39mfrom ipywidgets import AppLayout, Button, GridspecLayout\u001b[39m\u001b[39m\\n\u001b[39;00m\u001b[39m\"\u001b[39m,\n\u001b[0;32m     30\u001b[0m     \u001b[39m\"\u001b[39m\u001b[39mimport numpy as np\u001b[39m\u001b[39m\\n\u001b[39;00m\u001b[39m\"\u001b[39m,\n\u001b[0;32m     31\u001b[0m     \u001b[39m\"\u001b[39m\u001b[39mfrom ipywidgets import interact, interact_manual\u001b[39m\u001b[39m\\n\u001b[39;00m\u001b[39m\"\u001b[39m,\n\u001b[0;32m     32\u001b[0m     \u001b[39m\"\u001b[39m\u001b[39mfrom math import nan\u001b[39m\u001b[39m\\n\u001b[39;00m\u001b[39m\"\u001b[39m,\n\u001b[0;32m     33\u001b[0m     \u001b[39m\"\u001b[39m\u001b[39mfrom IPython.display import display_html\u001b[39m\u001b[39m\\n\u001b[39;00m\u001b[39m\"\u001b[39m,\n\u001b[0;32m     34\u001b[0m     \u001b[39m\"\u001b[39m\u001b[39mimport itertools\u001b[39m\u001b[39m\\n\u001b[39;00m\u001b[39m\"\u001b[39m,\n\u001b[0;32m     35\u001b[0m     \u001b[39m\"\u001b[39m\u001b[39mfrom scipy import stats\u001b[39m\u001b[39m\\n\u001b[39;00m\u001b[39m\"\u001b[39m,\n\u001b[0;32m     36\u001b[0m     \u001b[39m\"\u001b[39m\u001b[39mimport warnings\u001b[39m\u001b[39m\\n\u001b[39;00m\u001b[39m\"\u001b[39m,\n\u001b[0;32m     37\u001b[0m     \u001b[39m\"\u001b[39m\u001b[39mimport matplotlib.pyplot as plt\u001b[39m\u001b[39m\\n\u001b[39;00m\u001b[39m\"\u001b[39m,\n\u001b[0;32m     38\u001b[0m     \u001b[39m\"\u001b[39m\u001b[39mwarnings.filterwarnings(\u001b[39m\u001b[39m\\\"\u001b[39;00m\u001b[39mignore\u001b[39m\u001b[39m\\\"\u001b[39;00m\u001b[39m)\u001b[39m\u001b[39m\\n\u001b[39;00m\u001b[39m\"\u001b[39m,\n\u001b[0;32m     39\u001b[0m     \u001b[39m\"\u001b[39m\u001b[39mPVALUE_VAR = 0.05\u001b[39m\u001b[39m\\n\u001b[39;00m\u001b[39m\"\u001b[39m,\n\u001b[0;32m     40\u001b[0m     \u001b[39m\"\u001b[39m\u001b[39m%s\u001b[39;00m\u001b[39mtore -r PVALUE_VAR\u001b[39m\u001b[39m\\n\u001b[39;00m\u001b[39m\"\u001b[39m,\n\u001b[0;32m     41\u001b[0m     \u001b[39m\"\u001b[39m\u001b[39m\\n\u001b[39;00m\u001b[39m\"\u001b[39m,\n\u001b[0;32m     42\u001b[0m     \u001b[39m\"\u001b[39m\u001b[39mfrom Project.Utils.visualize import  search, searchTimeSeries, normalize_by_country\u001b[39m\u001b[39m\\n\u001b[39;00m\u001b[39m\"\u001b[39m,\n\u001b[0;32m     43\u001b[0m     \u001b[39m\"\u001b[39m\u001b[39m\\n\u001b[39;00m\u001b[39m\"\u001b[39m,\n\u001b[0;32m     44\u001b[0m     \u001b[39m\"\u001b[39m\u001b[39mwrite_path = os.getcwd() + \u001b[39m\u001b[39m'\u001b[39m\u001b[39m/Output\u001b[39m\u001b[39m'\u001b[39m\u001b[39m #Path to the folder you want to store the dataframes\u001b[39m\u001b[39m\\n\u001b[39;00m\u001b[39m\"\u001b[39m,\n\u001b[0;32m     45\u001b[0m     \u001b[39m\"\u001b[39m\u001b[39moutput_path = os.getcwd() + \u001b[39m\u001b[39m'\u001b[39m\u001b[39m/Output/\u001b[39m\u001b[39m'\u001b[39m\u001b[39m\\n\u001b[39;00m\u001b[39m\"\u001b[39m,\n\u001b[0;32m     46\u001b[0m     \u001b[39m\"\u001b[39m\u001b[39m\\n\u001b[39;00m\u001b[39m\"\u001b[39m,\n\u001b[0;32m     47\u001b[0m     \u001b[39m\"\u001b[39m\u001b[39mcol_country = \u001b[39m\u001b[39m'\u001b[39m\u001b[39mCountry\u001b[39m\u001b[39m'\u001b[39m\u001b[39m\\n\u001b[39;00m\u001b[39m\"\u001b[39m,\n\u001b[0;32m     48\u001b[0m     \u001b[39m\"\u001b[39m\u001b[39mcol_year = \u001b[39m\u001b[39m'\u001b[39m\u001b[39mYear\u001b[39m\u001b[39m'\u001b[39m\u001b[39m\\n\u001b[39;00m\u001b[39m\"\u001b[39m,\n\u001b[0;32m     49\u001b[0m     \u001b[39m\"\u001b[39m\u001b[39mcol_region = \u001b[39m\u001b[39m'\u001b[39m\u001b[39mRegion\u001b[39m\u001b[39m'\u001b[39m\u001b[39m\\n\u001b[39;00m\u001b[39m\"\u001b[39m,\n\u001b[0;32m     50\u001b[0m     \u001b[39m\"\u001b[39m\u001b[39m\\n\u001b[39;00m\u001b[39m\"\u001b[39m,\n\u001b[0;32m     51\u001b[0m     \u001b[39m\"\u001b[39m\u001b[39mdf_gold = pd.read_csv(output_path + \u001b[39m\u001b[39m'\u001b[39m\u001b[39mGoldDataframe.csv\u001b[39m\u001b[39m'\u001b[39m\u001b[39m)\u001b[39m\u001b[39m\\n\u001b[39;00m\u001b[39m\"\u001b[39m,\n\u001b[0;32m     52\u001b[0m     \u001b[39m\"\u001b[39m\u001b[39mglobal df_gold_index\u001b[39m\u001b[39m\\n\u001b[39;00m\u001b[39m\"\u001b[39m,\n\u001b[0;32m     53\u001b[0m     \u001b[39m\"\u001b[39m\u001b[39mdf_gold_index = df_gold.set_index([\u001b[39m\u001b[39m'\u001b[39m\u001b[39mCountry\u001b[39m\u001b[39m'\u001b[39m\u001b[39m, \u001b[39m\u001b[39m'\u001b[39m\u001b[39mYear\u001b[39m\u001b[39m'\u001b[39m\u001b[39m, \u001b[39m\u001b[39m'\u001b[39m\u001b[39mRegion\u001b[39m\u001b[39m'\u001b[39m\u001b[39m])\u001b[39m\u001b[39m\\n\u001b[39;00m\u001b[39m\"\u001b[39m,\n\u001b[0;32m     54\u001b[0m     \u001b[39m\"\u001b[39m\u001b[39m\\n\u001b[39;00m\u001b[39m\"\u001b[39m,\n\u001b[0;32m     55\u001b[0m     \u001b[39m\"\u001b[39m\u001b[39mcountry_list = list(np.sort(df_gold[\u001b[39m\u001b[39m'\u001b[39m\u001b[39mCountry\u001b[39m\u001b[39m'\u001b[39m\u001b[39m].unique()))\u001b[39m\u001b[39m\\n\u001b[39;00m\u001b[39m\"\u001b[39m,\n\u001b[0;32m     56\u001b[0m     \u001b[39m\"\u001b[39m\u001b[39mregion_list = list(np.sort(df_gold[\u001b[39m\u001b[39m'\u001b[39m\u001b[39mRegion\u001b[39m\u001b[39m'\u001b[39m\u001b[39m].unique()))\u001b[39m\u001b[39m\\n\u001b[39;00m\u001b[39m\"\u001b[39m,\n\u001b[0;32m     57\u001b[0m     \u001b[39m\"\u001b[39m\u001b[39m\\n\u001b[39;00m\u001b[39m\"\u001b[39m,\n\u001b[0;32m     58\u001b[0m     \u001b[39m\"\u001b[39m\u001b[39mmin_year = min(df_gold_index.index.get_level_values(\u001b[39m\u001b[39m'\u001b[39m\u001b[39mYear\u001b[39m\u001b[39m'\u001b[39m\u001b[39m).unique())\u001b[39m\u001b[39m\\n\u001b[39;00m\u001b[39m\"\u001b[39m,\n\u001b[0;32m     59\u001b[0m     \u001b[39m\"\u001b[39m\u001b[39mmax_year = max(df_gold_index.index.get_level_values(\u001b[39m\u001b[39m'\u001b[39m\u001b[39mYear\u001b[39m\u001b[39m'\u001b[39m\u001b[39m).unique())\u001b[39m\u001b[39m\"\u001b[39m\n\u001b[0;32m     60\u001b[0m    ]\n\u001b[0;32m     61\u001b[0m   },\n\u001b[0;32m     62\u001b[0m   {\n\u001b[0;32m     63\u001b[0m    \u001b[39m\"\u001b[39m\u001b[39mcell_type\u001b[39m\u001b[39m\"\u001b[39m: \u001b[39m\"\u001b[39m\u001b[39mmarkdown\u001b[39m\u001b[39m\"\u001b[39m,\n\u001b[0;32m     64\u001b[0m    \u001b[39m\"\u001b[39m\u001b[39mmetadata\u001b[39m\u001b[39m\"\u001b[39m: {},\n\u001b[0;32m     65\u001b[0m    \u001b[39m\"\u001b[39m\u001b[39msource\u001b[39m\u001b[39m\"\u001b[39m: [\n\u001b[0;32m     66\u001b[0m     \u001b[39m\"\u001b[39m\u001b[39m### Styler\u001b[39m\u001b[39m\\n\u001b[39;00m\u001b[39m\"\u001b[39m,\n\u001b[0;32m     67\u001b[0m     \u001b[39m\"\u001b[39m\u001b[39m\\n\u001b[39;00m\u001b[39m\"\u001b[39m,\n\u001b[0;32m     68\u001b[0m     \u001b[39m\"\u001b[39m\u001b[39mA simple codeblock used to improve the visualization of the dataframes. It also catches the exception when no data is availble to dislpay.\u001b[39m\u001b[39m\"\u001b[39m\n\u001b[0;32m     69\u001b[0m    ]\n\u001b[0;32m     70\u001b[0m   },\n\u001b[0;32m     71\u001b[0m   {\n\u001b[0;32m     72\u001b[0m    \u001b[39m\"\u001b[39m\u001b[39mcell_type\u001b[39m\u001b[39m\"\u001b[39m: \u001b[39m\"\u001b[39m\u001b[39mcode\u001b[39m\u001b[39m\"\u001b[39m,\n\u001b[0;32m     73\u001b[0m    \u001b[39m\"\u001b[39m\u001b[39mexecution_count\u001b[39m\u001b[39m\"\u001b[39m: \u001b[39m2\u001b[39m,\n\u001b[0;32m     74\u001b[0m    \u001b[39m\"\u001b[39m\u001b[39mmetadata\u001b[39m\u001b[39m\"\u001b[39m: {},\n\u001b[0;32m     75\u001b[0m    \u001b[39m\"\u001b[39m\u001b[39moutputs\u001b[39m\u001b[39m\"\u001b[39m: [],\n\u001b[0;32m     76\u001b[0m    \u001b[39m\"\u001b[39m\u001b[39msource\u001b[39m\u001b[39m\"\u001b[39m: [\n\u001b[0;32m     77\u001b[0m     \u001b[39m\"\u001b[39m\u001b[39mdef styler_method(df, name, pvalue = None):    \u001b[39m\u001b[39m\\n\u001b[39;00m\u001b[39m\"\u001b[39m,\n\u001b[0;32m     78\u001b[0m     \u001b[39m\"\u001b[39m\u001b[39m        if pvalue == None:\u001b[39m\u001b[39m\\n\u001b[39;00m\u001b[39m\"\u001b[39m,\n\u001b[0;32m     79\u001b[0m     \u001b[39m\"\u001b[39m\u001b[39m                pvalue = PVALUE_VAR\u001b[39m\u001b[39m\\n\u001b[39;00m\u001b[39m\"\u001b[39m,\n\u001b[0;32m     80\u001b[0m     \u001b[39m\"\u001b[39m\u001b[39m    #try:\u001b[39m\u001b[39m\\n\u001b[39;00m\u001b[39m\"\u001b[39m,\n\u001b[0;32m     81\u001b[0m     \u001b[39m\"\u001b[39m\u001b[39m        styles = [dict(selector=\u001b[39m\u001b[39m\\\"\u001b[39;00m\u001b[39mcaption\u001b[39m\u001b[39m\\\"\u001b[39;00m\u001b[39m, props=[(\u001b[39m\u001b[39m\\\"\u001b[39;00m\u001b[39mbackground-color\u001b[39m\u001b[39m\\\"\u001b[39;00m\u001b[39m, \u001b[39m\u001b[39m\\\"\u001b[39;00m\u001b[39m#98D3FF\u001b[39m\u001b[39m\\\"\u001b[39;00m\u001b[39m)])]\u001b[39m\u001b[39m\\n\u001b[39;00m\u001b[39m\"\u001b[39m,\n\u001b[0;32m     82\u001b[0m     \u001b[39m\"\u001b[39m\u001b[39m        left1 = pd.Series([pvalue], index=[\u001b[39m\u001b[39m'\u001b[39m\u001b[39mP-value Spearman\u001b[39m\u001b[39m'\u001b[39m\u001b[39m])\u001b[39m\u001b[39m\\n\u001b[39;00m\u001b[39m\"\u001b[39m,\n\u001b[0;32m     83\u001b[0m     \u001b[39m\"\u001b[39m\u001b[39m        left2 = pd.Series([-1], index=[\u001b[39m\u001b[39m'\u001b[39m\u001b[39mGDP Spearman Corr\u001b[39m\u001b[39m'\u001b[39m\u001b[39m])\u001b[39m\u001b[39m\\n\u001b[39;00m\u001b[39m\"\u001b[39m,\n\u001b[0;32m     84\u001b[0m     \u001b[39m\"\u001b[39m\u001b[39m        left3 = pd.Series([0], index=[\u001b[39m\u001b[39m'\u001b[39m\u001b[39mGDP Spearman Corr\u001b[39m\u001b[39m'\u001b[39m\u001b[39m])\u001b[39m\u001b[39m\\n\u001b[39;00m\u001b[39m\"\u001b[39m,\n\u001b[0;32m     85\u001b[0m     \u001b[39m\"\u001b[39m\u001b[39m        dfs = df.style.highlight_between(left = left1, right = 1.5, axis = 1, props=\u001b[39m\u001b[39m'\u001b[39m\u001b[39mcolor:white; background-color:red;\u001b[39m\u001b[39m'\u001b[39m\u001b[39m)\u001b[39m\u001b[39m\\\\\u001b[39;00m\u001b[39m\\n\u001b[39;00m\u001b[39m\"\u001b[39m,\n\u001b[0;32m     86\u001b[0m     \u001b[39m\"\u001b[39m\u001b[39m                .highlight_between(left = left2, right = 1.5, axis = 1, props=\u001b[39m\u001b[39m'\u001b[39m\u001b[39mcolor:white; background-color:#929bfc;\u001b[39m\u001b[39m'\u001b[39m\u001b[39m)\u001b[39m\u001b[39m\\\\\u001b[39;00m\u001b[39m\\n\u001b[39;00m\u001b[39m\"\u001b[39m,\n\u001b[0;32m     87\u001b[0m     \u001b[39m\"\u001b[39m\u001b[39m                .highlight_between(left = left3, right = 1.5, axis = 1, props=\u001b[39m\u001b[39m'\u001b[39m\u001b[39mcolor:white; background-color:#b3b9ff;\u001b[39m\u001b[39m'\u001b[39m\u001b[39m)\u001b[39m\u001b[39m\\\\\u001b[39;00m\u001b[39m\\n\u001b[39;00m\u001b[39m\"\u001b[39m,\n\u001b[0;32m     88\u001b[0m     \u001b[39m\"\u001b[39m\u001b[39m                .format(\u001b[39m\u001b[39m'\u001b[39m\u001b[39m{:,.4f}\u001b[39;00m\u001b[39m'\u001b[39m\u001b[39m, subset = [\u001b[39m\u001b[39m'\u001b[39m\u001b[39mGDP Spearman Corr\u001b[39m\u001b[39m'\u001b[39m\u001b[39m])\u001b[39m\u001b[39m\\\\\u001b[39;00m\u001b[39m\\n\u001b[39;00m\u001b[39m\"\u001b[39m,\n\u001b[0;32m     89\u001b[0m     \u001b[39m\"\u001b[39m\u001b[39m                .format(\u001b[39m\u001b[39m'\u001b[39m\u001b[39m{:,.12f}\u001b[39;00m\u001b[39m'\u001b[39m\u001b[39m, subset = [\u001b[39m\u001b[39m'\u001b[39m\u001b[39mP-value Spearman\u001b[39m\u001b[39m'\u001b[39m\u001b[39m]) \u001b[39m\u001b[39m\\\\\u001b[39;00m\u001b[39m\\n\u001b[39;00m\u001b[39m\"\u001b[39m,\n\u001b[0;32m     90\u001b[0m     \u001b[39m\"\u001b[39m\u001b[39m                .set_caption(name).set_table_styles(styles)\u001b[39m\u001b[39m\\\\\u001b[39;00m\u001b[39m\\n\u001b[39;00m\u001b[39m\"\u001b[39m,\n\u001b[0;32m     91\u001b[0m     \u001b[39m\"\u001b[39m\u001b[39m                .set_table_attributes(\u001b[39m\u001b[39m\\\"\u001b[39;00m\u001b[39mstyle=\u001b[39m\u001b[39m'\u001b[39m\u001b[39mdisplay:inline\u001b[39m\u001b[39m'\u001b[39m\u001b[39m\\\"\u001b[39;00m\u001b[39m)\u001b[39m\u001b[39m\\n\u001b[39;00m\u001b[39m\"\u001b[39m,\n\u001b[0;32m     92\u001b[0m     \u001b[39m\"\u001b[39m\u001b[39m    #except:\u001b[39m\u001b[39m\\n\u001b[39;00m\u001b[39m\"\u001b[39m,\n\u001b[0;32m     93\u001b[0m     \u001b[39m\"\u001b[39m\u001b[39m    #    dfs = \u001b[39m\u001b[39m'\u001b[39m\u001b[39mNo indicators have been found for the window dataframe in this range.\u001b[39m\u001b[39m'\u001b[39m\u001b[39m\\n\u001b[39;00m\u001b[39m\"\u001b[39m,\n\u001b[0;32m     94\u001b[0m     \u001b[39m\"\u001b[39m\u001b[39m        \u001b[39m\u001b[39m\\n\u001b[39;00m\u001b[39m\"\u001b[39m,\n\u001b[0;32m     95\u001b[0m     \u001b[39m\"\u001b[39m\u001b[39m        return dfs\u001b[39m\u001b[39m\"\u001b[39m\n\u001b[0;32m     96\u001b[0m    ]\n\u001b[0;32m     97\u001b[0m   },\n\u001b[0;32m     98\u001b[0m   {\n\u001b[0;32m     99\u001b[0m    \u001b[39m\"\u001b[39m\u001b[39mcell_type\u001b[39m\u001b[39m\"\u001b[39m: \u001b[39m\"\u001b[39m\u001b[39mmarkdown\u001b[39m\u001b[39m\"\u001b[39m,\n\u001b[0;32m    100\u001b[0m    \u001b[39m\"\u001b[39m\u001b[39mmetadata\u001b[39m\u001b[39m\"\u001b[39m: {},\n\u001b[0;32m    101\u001b[0m    \u001b[39m\"\u001b[39m\u001b[39msource\u001b[39m\u001b[39m\"\u001b[39m: [\n\u001b[0;32m    102\u001b[0m     \u001b[39m\"\u001b[39m\u001b[39m## Time Window\u001b[39m\u001b[39m\\n\u001b[39;00m\u001b[39m\"\u001b[39m,\n\u001b[0;32m    103\u001b[0m     \u001b[39m\"\u001b[39m\u001b[39m\\n\u001b[39;00m\u001b[39m\"\u001b[39m,\n\u001b[0;32m    104\u001b[0m     \u001b[39m\"\u001b[39m\u001b[39mSee the indicators correlation of the selected year range for the country or region. Select the zone, the year range and the results will be displayed in the left side, meanwhile in the right there is the original dataframe for the whole data. The only difference between country and region is that for region the dataframe is normalized, due to having different countries. Having more countries in the data input allows to generate a better statistical result (lower p-values) compared to the country widget.\u001b[39m\u001b[39m\\n\u001b[39;00m\u001b[39m\"\u001b[39m,\n\u001b[0;32m    105\u001b[0m     \u001b[39m\"\u001b[39m\u001b[39m\\n\u001b[39;00m\u001b[39m\"\u001b[39m,\n\u001b[0;32m    106\u001b[0m     \u001b[39m\"\u001b[39m\u001b[39mIt is recommended leaving the \u001b[39m\u001b[39m'\u001b[39m\u001b[39mThreshold\u001b[39m\u001b[39m'\u001b[39m\u001b[39m parameter at 0.7 or higher to have statistical significance results.\u001b[39m\u001b[39m\\n\u001b[39;00m\u001b[39m\"\u001b[39m,\n\u001b[0;32m    107\u001b[0m     \u001b[39m\"\u001b[39m\u001b[39m\\n\u001b[39;00m\u001b[39m\"\u001b[39m,\n\u001b[0;32m    108\u001b[0m     \u001b[39m\"\u001b[39m\u001b[39m**Don\u001b[39m\u001b[39m'\u001b[39m\u001b[39mt select a very narrow year range, as this will generate a result with low data input and higher p-values. A p-value > 0.5 is not considered to have statistical significance.**\u001b[39m\u001b[39m\\n\u001b[39;00m\u001b[39m\"\u001b[39m,\n\u001b[0;32m    109\u001b[0m     \u001b[39m\"\u001b[39m\u001b[39m\\n\u001b[39;00m\u001b[39m\"\u001b[39m,\n\u001b[0;32m    110\u001b[0m     \u001b[39m\"\u001b[39m\u001b[39mThis widget allows to perform comparisons for specific years, for example the impact of a crysis in the indicators and GDP.\u001b[39m\u001b[39m\"\u001b[39m\n\u001b[0;32m    111\u001b[0m    ]\n\u001b[0;32m    112\u001b[0m   },\n\u001b[0;32m    113\u001b[0m   {\n\u001b[0;32m    114\u001b[0m    \u001b[39m\"\u001b[39m\u001b[39mcell_type\u001b[39m\u001b[39m\"\u001b[39m: \u001b[39m\"\u001b[39m\u001b[39mcode\u001b[39m\u001b[39m\"\u001b[39m,\n\u001b[0;32m    115\u001b[0m    \u001b[39m\"\u001b[39m\u001b[39mexecution_count\u001b[39m\u001b[39m\"\u001b[39m: \u001b[39m3\u001b[39m,\n\u001b[0;32m    116\u001b[0m    \u001b[39m\"\u001b[39m\u001b[39mmetadata\u001b[39m\u001b[39m\"\u001b[39m: {},\n\u001b[0;32m    117\u001b[0m    \u001b[39m\"\u001b[39m\u001b[39moutputs\u001b[39m\u001b[39m\"\u001b[39m: [],\n\u001b[0;32m    118\u001b[0m    \u001b[39m\"\u001b[39m\u001b[39msource\u001b[39m\u001b[39m\"\u001b[39m: [\n\u001b[0;32m    119\u001b[0m     \u001b[39m\"\u001b[39m\u001b[39mimport time\u001b[39m\u001b[39m\\n\u001b[39;00m\u001b[39m\"\u001b[39m,\n\u001b[0;32m    120\u001b[0m     \u001b[39m\"\u001b[39m\u001b[39m\\n\u001b[39;00m\u001b[39m\"\u001b[39m,\n\u001b[0;32m    121\u001b[0m     \u001b[39m\"\u001b[39m\u001b[39mdef load_by_region(region, df_param):\u001b[39m\u001b[39m\\n\u001b[39;00m\u001b[39m\"\u001b[39m,\n\u001b[0;32m    122\u001b[0m     \u001b[39m\"\u001b[39m\u001b[39m    start = time.time()\u001b[39m\u001b[39m\\n\u001b[39;00m\u001b[39m\"\u001b[39m,\n\u001b[0;32m    123\u001b[0m     \u001b[39m\"\u001b[39m\u001b[39m    df = df_param.loc[df_param.index.get_level_values(\u001b[39m\u001b[39m'\u001b[39m\u001b[39mRegion\u001b[39m\u001b[39m'\u001b[39m\u001b[39m) == region]\u001b[39m\u001b[39m\\n\u001b[39;00m\u001b[39m\"\u001b[39m,\n\u001b[0;32m    124\u001b[0m     \u001b[39m\"\u001b[39m\u001b[39m    df = normalize_by_country(df)\u001b[39m\u001b[39m\\n\u001b[39;00m\u001b[39m\"\u001b[39m,\n\u001b[0;32m    125\u001b[0m     \u001b[39m\"\u001b[39m\u001b[39m    df.sort_index(level = [\u001b[39m\u001b[39m'\u001b[39m\u001b[39mYear\u001b[39m\u001b[39m'\u001b[39m\u001b[39m, \u001b[39m\u001b[39m'\u001b[39m\u001b[39mCountry\u001b[39m\u001b[39m'\u001b[39m\u001b[39m], inplace=True)\u001b[39m\u001b[39m\\n\u001b[39;00m\u001b[39m\"\u001b[39m,\n\u001b[0;32m    126\u001b[0m     \u001b[39m\"\u001b[39m\u001b[39m    end = time.time()\u001b[39m\u001b[39m\\n\u001b[39;00m\u001b[39m\"\u001b[39m,\n\u001b[0;32m    127\u001b[0m     \u001b[39m\"\u001b[39m\u001b[39m    print(\u001b[39m\u001b[39m\\\"\u001b[39;00m\u001b[39m[\u001b[39m\u001b[39m{:.2f}\u001b[39;00m\u001b[39m seconds] Normalized Region \u001b[39m\u001b[39m{}\u001b[39;00m\u001b[39m\\\"\u001b[39;00m\u001b[39m.format(end - start, region))\u001b[39m\u001b[39m\\n\u001b[39;00m\u001b[39m\"\u001b[39m,\n\u001b[0;32m    128\u001b[0m     \u001b[39m\"\u001b[39m\u001b[39m    return df\u001b[39m\u001b[39m\"\u001b[39m\n\u001b[0;32m    129\u001b[0m    ]\n\u001b[0;32m    130\u001b[0m   },\n\u001b[0;32m    131\u001b[0m   {\n\u001b[0;32m    132\u001b[0m    \u001b[39m\"\u001b[39m\u001b[39mcell_type\u001b[39m\u001b[39m\"\u001b[39m: \u001b[39m\"\u001b[39m\u001b[39mcode\u001b[39m\u001b[39m\"\u001b[39m,\n\u001b[0;32m    133\u001b[0m    \u001b[39m\"\u001b[39m\u001b[39mexecution_count\u001b[39m\u001b[39m\"\u001b[39m: \u001b[39m4\u001b[39m,\n\u001b[0;32m    134\u001b[0m    \u001b[39m\"\u001b[39m\u001b[39mmetadata\u001b[39m\u001b[39m\"\u001b[39m: {},\n\u001b[0;32m    135\u001b[0m    \u001b[39m\"\u001b[39m\u001b[39moutputs\u001b[39m\u001b[39m\"\u001b[39m: [\n\u001b[0;32m    136\u001b[0m     {\n\u001b[0;32m    137\u001b[0m      \u001b[39m\"\u001b[39m\u001b[39mname\u001b[39m\u001b[39m\"\u001b[39m: \u001b[39m\"\u001b[39m\u001b[39mstdout\u001b[39m\u001b[39m\"\u001b[39m,\n\u001b[0;32m    138\u001b[0m      \u001b[39m\"\u001b[39m\u001b[39moutput_type\u001b[39m\u001b[39m\"\u001b[39m: \u001b[39m\"\u001b[39m\u001b[39mstream\u001b[39m\u001b[39m\"\u001b[39m,\n\u001b[0;32m    139\u001b[0m      \u001b[39m\"\u001b[39m\u001b[39mtext\u001b[39m\u001b[39m\"\u001b[39m: [\n\u001b[0;32m    140\u001b[0m       \u001b[39m\"\u001b[39m\u001b[39m[3.26 seconds] Normalized Region East Asia and Pacific\u001b[39m\u001b[39m\\n\u001b[39;00m\u001b[39m\"\u001b[39m,\n\u001b[0;32m    141\u001b[0m       \u001b[39m\"\u001b[39m\u001b[39m[6.32 seconds] Normalized Region Europe and Central Asia\u001b[39m\u001b[39m\\n\u001b[39;00m\u001b[39m\"\u001b[39m,\n\u001b[0;32m    142\u001b[0m       \u001b[39m\"\u001b[39m\u001b[39m[3.51 seconds] Normalized Region Latin America and Caribbean\u001b[39m\u001b[39m\\n\u001b[39;00m\u001b[39m\"\u001b[39m,\n\u001b[0;32m    143\u001b[0m       \u001b[39m\"\u001b[39m\u001b[39m[1.78 seconds] Normalized Region Middle East and North Africa\u001b[39m\u001b[39m\\n\u001b[39;00m\u001b[39m\"\u001b[39m,\n\u001b[0;32m    144\u001b[0m       \u001b[39m\"\u001b[39m\u001b[39m[0.25 seconds] Normalized Region North America\u001b[39m\u001b[39m\\n\u001b[39;00m\u001b[39m\"\u001b[39m,\n\u001b[0;32m    145\u001b[0m       \u001b[39m\"\u001b[39m\u001b[39m[0.92 seconds] Normalized Region South Asia\u001b[39m\u001b[39m\\n\u001b[39;00m\u001b[39m\"\u001b[39m,\n\u001b[0;32m    146\u001b[0m       \u001b[39m\"\u001b[39m\u001b[39m[4.82 seconds] Normalized Region Sub-Saharan Africa\u001b[39m\u001b[39m\\n\u001b[39;00m\u001b[39m\"\u001b[39m\n\u001b[0;32m    147\u001b[0m      ]\n\u001b[0;32m    148\u001b[0m     }\n\u001b[0;32m    149\u001b[0m    ],\n\u001b[0;32m    150\u001b[0m    \u001b[39m\"\u001b[39m\u001b[39msource\u001b[39m\u001b[39m\"\u001b[39m: [\n\u001b[0;32m    151\u001b[0m     \u001b[39m\"\u001b[39m\u001b[39m# Precompute contries by region normalized\u001b[39m\u001b[39m\\n\u001b[39;00m\u001b[39m\"\u001b[39m,\n\u001b[0;32m    152\u001b[0m     \u001b[39m\"\u001b[39m\u001b[39mcountries_by_region = \u001b[39m\u001b[39m{}\u001b[39;00m\u001b[39m\\n\u001b[39;00m\u001b[39m\"\u001b[39m,\n\u001b[0;32m    153\u001b[0m     \u001b[39m\"\u001b[39m\u001b[39mfor r in region_list:\u001b[39m\u001b[39m\\n\u001b[39;00m\u001b[39m\"\u001b[39m,\n\u001b[0;32m    154\u001b[0m     \u001b[39m\"\u001b[39m\u001b[39m    countries_by_region[r] = load_by_region(r, df_gold_index)\u001b[39m\u001b[39m\"\u001b[39m\n\u001b[0;32m    155\u001b[0m    ]\n\u001b[0;32m    156\u001b[0m   },\n\u001b[0;32m    157\u001b[0m   {\n\u001b[0;32m    158\u001b[0m    \u001b[39m\"\u001b[39m\u001b[39mcell_type\u001b[39m\u001b[39m\"\u001b[39m: \u001b[39m\"\u001b[39m\u001b[39mcode\u001b[39m\u001b[39m\"\u001b[39m,\n\u001b[0;32m    159\u001b[0m    \u001b[39m\"\u001b[39m\u001b[39mexecution_count\u001b[39m\u001b[39m\"\u001b[39m: \u001b[39m5\u001b[39m,\n\u001b[0;32m    160\u001b[0m    \u001b[39m\"\u001b[39m\u001b[39mmetadata\u001b[39m\u001b[39m\"\u001b[39m: {},\n\u001b[0;32m    161\u001b[0m    \u001b[39m\"\u001b[39m\u001b[39moutputs\u001b[39m\u001b[39m\"\u001b[39m: [],\n\u001b[0;32m    162\u001b[0m    \u001b[39m\"\u001b[39m\u001b[39msource\u001b[39m\u001b[39m\"\u001b[39m: [\n\u001b[0;32m    163\u001b[0m     \u001b[39m\"\u001b[39m\u001b[39mclass WidgetTimeWindowCountryStatus:\u001b[39m\u001b[39m\\n\u001b[39;00m\u001b[39m\"\u001b[39m,\n\u001b[0;32m    164\u001b[0m     \u001b[39m\"\u001b[39m\u001b[39m    def __init__(self):\u001b[39m\u001b[39m\\n\u001b[39;00m\u001b[39m\"\u001b[39m,\n\u001b[0;32m    165\u001b[0m     \u001b[39m\"\u001b[39m\u001b[39m        self.filter_by = \u001b[39m\u001b[39m\\\"\u001b[39;00m\u001b[39mCountry\u001b[39m\u001b[39m\\\"\u001b[39;00m\u001b[39m\\n\u001b[39;00m\u001b[39m\"\u001b[39m,\n\u001b[0;32m    166\u001b[0m     \u001b[39m\"\u001b[39m\u001b[39m        self.zone = None\u001b[39m\u001b[39m\\n\u001b[39;00m\u001b[39m\"\u001b[39m,\n\u001b[0;32m    167\u001b[0m     \u001b[39m\"\u001b[39m\u001b[39m        self.data = None\u001b[39m\u001b[39m\\n\u001b[39;00m\u001b[39m\"\u001b[39m,\n\u001b[0;32m    168\u001b[0m     \u001b[39m\"\u001b[39m\u001b[39m        \u001b[39m\u001b[39m\\n\u001b[39;00m\u001b[39m\"\u001b[39m,\n\u001b[0;32m    169\u001b[0m     \u001b[39m\"\u001b[39m\u001b[39mstatus_widget = WidgetTimeWindowCountryStatus()\u001b[39m\u001b[39m\"\u001b[39m\n\u001b[0;32m    170\u001b[0m    ]\n\u001b[0;32m    171\u001b[0m   },\n\u001b[0;32m    172\u001b[0m   {\n\u001b[0;32m    173\u001b[0m    \u001b[39m\"\u001b[39m\u001b[39mcell_type\u001b[39m\u001b[39m\"\u001b[39m: \u001b[39m\"\u001b[39m\u001b[39mcode\u001b[39m\u001b[39m\"\u001b[39m,\n\u001b[0;32m    174\u001b[0m    \u001b[39m\"\u001b[39m\u001b[39mexecution_count\u001b[39m\u001b[39m\"\u001b[39m: \u001b[39m6\u001b[39m,\n\u001b[0;32m    175\u001b[0m    \u001b[39m\"\u001b[39m\u001b[39mmetadata\u001b[39m\u001b[39m\"\u001b[39m: {},\n\u001b[0;32m    176\u001b[0m    \u001b[39m\"\u001b[39m\u001b[39moutputs\u001b[39m\u001b[39m\"\u001b[39m: [\n\u001b[0;32m    177\u001b[0m     {\n\u001b[0;32m    178\u001b[0m      \u001b[39m\"\u001b[39m\u001b[39mdata\u001b[39m\u001b[39m\"\u001b[39m: {\n\u001b[0;32m    179\u001b[0m       \u001b[39m\"\u001b[39m\u001b[39mapplication/vnd.jupyter.widget-view+json\u001b[39m\u001b[39m\"\u001b[39m: {\n\u001b[0;32m    180\u001b[0m        \u001b[39m\"\u001b[39m\u001b[39mmodel_id\u001b[39m\u001b[39m\"\u001b[39m: \u001b[39m\"\u001b[39m\u001b[39mcc099533c7794b28897b1c3eee820ebd\u001b[39m\u001b[39m\"\u001b[39m,\n\u001b[0;32m    181\u001b[0m        \u001b[39m\"\u001b[39m\u001b[39mversion_major\u001b[39m\u001b[39m\"\u001b[39m: \u001b[39m2\u001b[39m,\n\u001b[0;32m    182\u001b[0m        \u001b[39m\"\u001b[39m\u001b[39mversion_minor\u001b[39m\u001b[39m\"\u001b[39m: \u001b[39m0\u001b[39m\n\u001b[0;32m    183\u001b[0m       },\n\u001b[0;32m    184\u001b[0m       \u001b[39m\"\u001b[39m\u001b[39mtext/plain\u001b[39m\u001b[39m\"\u001b[39m: [\n\u001b[0;32m    185\u001b[0m        \u001b[39m\"\u001b[39m\u001b[39minteractive(children=(Dropdown(description=\u001b[39m\u001b[39m'\u001b[39m\u001b[39mBy: \u001b[39m\u001b[39m'\u001b[39m\u001b[39m, options=(\u001b[39m\u001b[39m'\u001b[39m\u001b[39mCountry\u001b[39m\u001b[39m'\u001b[39m\u001b[39m, \u001b[39m\u001b[39m'\u001b[39m\u001b[39mRegion\u001b[39m\u001b[39m'\u001b[39m\u001b[39m), value=\u001b[39m\u001b[39m'\u001b[39m\u001b[39mCountry\u001b[39m\u001b[39m'\u001b[39m\u001b[39m), Dropdown(d…\u001b[39m\u001b[39m\"\u001b[39m\n\u001b[0;32m    186\u001b[0m       ]\n\u001b[0;32m    187\u001b[0m      },\n\u001b[0;32m    188\u001b[0m      \u001b[39m\"\u001b[39m\u001b[39mmetadata\u001b[39m\u001b[39m\"\u001b[39m: {},\n\u001b[0;32m    189\u001b[0m      \u001b[39m\"\u001b[39m\u001b[39moutput_type\u001b[39m\u001b[39m\"\u001b[39m: \u001b[39m\"\u001b[39m\u001b[39mdisplay_data\u001b[39m\u001b[39m\"\u001b[39m\n\u001b[0;32m    190\u001b[0m     },\n\u001b[0;32m    191\u001b[0m     {\n\u001b[0;32m    192\u001b[0m      \u001b[39m\"\u001b[39m\u001b[39mdata\u001b[39m\u001b[39m\"\u001b[39m: {\n\u001b[0;32m    193\u001b[0m       \u001b[39m\"\u001b[39m\u001b[39mtext/plain\u001b[39m\u001b[39m\"\u001b[39m: [\n\u001b[0;32m    194\u001b[0m        \u001b[39m\"\u001b[39m\u001b[39m<function __main__.time_window_zone(by, zone, threshold, years)>\u001b[39m\u001b[39m\"\u001b[39m\n\u001b[0;32m    195\u001b[0m       ]\n\u001b[0;32m    196\u001b[0m      },\n\u001b[0;32m    197\u001b[0m      \u001b[39m\"\u001b[39m\u001b[39mexecution_count\u001b[39m\u001b[39m\"\u001b[39m: \u001b[39m6\u001b[39m,\n\u001b[0;32m    198\u001b[0m      \u001b[39m\"\u001b[39m\u001b[39mmetadata\u001b[39m\u001b[39m\"\u001b[39m: {},\n\u001b[0;32m    199\u001b[0m      \u001b[39m\"\u001b[39m\u001b[39moutput_type\u001b[39m\u001b[39m\"\u001b[39m: \u001b[39m\"\u001b[39m\u001b[39mexecute_result\u001b[39m\u001b[39m\"\u001b[39m\n\u001b[0;32m    200\u001b[0m     }\n\u001b[0;32m    201\u001b[0m    ],\n\u001b[0;32m    202\u001b[0m    \u001b[39m\"\u001b[39m\u001b[39msource\u001b[39m\u001b[39m\"\u001b[39m: [\n\u001b[0;32m    203\u001b[0m     \u001b[39m\"\u001b[39m\u001b[39mdef time_window_zone(by, zone, threshold , years):\u001b[39m\u001b[39m\\n\u001b[39;00m\u001b[39m\"\u001b[39m,\n\u001b[0;32m    204\u001b[0m     \u001b[39m\"\u001b[39m\u001b[39m    # Update Widget Status\u001b[39m\u001b[39m\\n\u001b[39;00m\u001b[39m\"\u001b[39m,\n\u001b[0;32m    205\u001b[0m     \u001b[39m\"\u001b[39m\u001b[39m    if by == \u001b[39m\u001b[39m'\u001b[39m\u001b[39mCountry\u001b[39m\u001b[39m'\u001b[39m\u001b[39m:\u001b[39m\u001b[39m\\n\u001b[39;00m\u001b[39m\"\u001b[39m,\n\u001b[0;32m    206\u001b[0m     \u001b[39m\"\u001b[39m\u001b[39m        if status_widget.filter_by != \u001b[39m\u001b[39m\\\"\u001b[39;00m\u001b[39mCountry\u001b[39m\u001b[39m\\\"\u001b[39;00m\u001b[39m:\u001b[39m\u001b[39m\\n\u001b[39;00m\u001b[39m\"\u001b[39m,\n\u001b[0;32m    207\u001b[0m     \u001b[39m\"\u001b[39m\u001b[39m            status_widget.filter_by = \u001b[39m\u001b[39m\\\"\u001b[39;00m\u001b[39mCountry\u001b[39m\u001b[39m\\\"\u001b[39;00m\u001b[39m\\n\u001b[39;00m\u001b[39m\"\u001b[39m,\n\u001b[0;32m    208\u001b[0m     \u001b[39m\"\u001b[39m\u001b[39m            zone_drop.options = country_list\u001b[39m\u001b[39m\\n\u001b[39;00m\u001b[39m\"\u001b[39m,\n\u001b[0;32m    209\u001b[0m     \u001b[39m\"\u001b[39m\u001b[39m            return\u001b[39m\u001b[39m\\n\u001b[39;00m\u001b[39m\"\u001b[39m,\n\u001b[0;32m    210\u001b[0m     \u001b[39m\"\u001b[39m\u001b[39m        if status_widget.zone != zone:\u001b[39m\u001b[39m\\n\u001b[39;00m\u001b[39m\"\u001b[39m,\n\u001b[0;32m    211\u001b[0m     \u001b[39m\"\u001b[39m\u001b[39m            #Search for entries of the country.\u001b[39m\u001b[39m\\n\u001b[39;00m\u001b[39m\"\u001b[39m,\n\u001b[0;32m    212\u001b[0m     \u001b[39m\"\u001b[39m\u001b[39m            status_widget.data = df_gold_index.loc[df_gold_index.index.get_level_values(\u001b[39m\u001b[39m'\u001b[39m\u001b[39mCountry\u001b[39m\u001b[39m'\u001b[39m\u001b[39m) == zone]\u001b[39m\u001b[39m\\n\u001b[39;00m\u001b[39m\"\u001b[39m,\n\u001b[0;32m    213\u001b[0m     \u001b[39m\"\u001b[39m\u001b[39m            status_widget.zone = zone\u001b[39m\u001b[39m\\n\u001b[39;00m\u001b[39m\"\u001b[39m,\n\u001b[0;32m    214\u001b[0m     \u001b[39m\"\u001b[39m\u001b[39m\\n\u001b[39;00m\u001b[39m\"\u001b[39m,\n\u001b[0;32m    215\u001b[0m     \u001b[39m\"\u001b[39m\u001b[39m    elif by == \u001b[39m\u001b[39m'\u001b[39m\u001b[39mRegion\u001b[39m\u001b[39m'\u001b[39m\u001b[39m:\u001b[39m\u001b[39m\\n\u001b[39;00m\u001b[39m\"\u001b[39m,\n\u001b[0;32m    216\u001b[0m     \u001b[39m\"\u001b[39m\u001b[39m         if status_widget.filter_by != \u001b[39m\u001b[39m\\\"\u001b[39;00m\u001b[39mRegion\u001b[39m\u001b[39m\\\"\u001b[39;00m\u001b[39m:\u001b[39m\u001b[39m\\n\u001b[39;00m\u001b[39m\"\u001b[39m,\n\u001b[0;32m    217\u001b[0m     \u001b[39m\"\u001b[39m\u001b[39m            status_widget.filter_by = \u001b[39m\u001b[39m\\\"\u001b[39;00m\u001b[39mRegion\u001b[39m\u001b[39m\\\"\u001b[39;00m\u001b[39m\\n\u001b[39;00m\u001b[39m\"\u001b[39m,\n\u001b[0;32m    218\u001b[0m     \u001b[39m\"\u001b[39m\u001b[39m            zone_drop.options = region_list\u001b[39m\u001b[39m\\n\u001b[39;00m\u001b[39m\"\u001b[39m,\n\u001b[0;32m    219\u001b[0m     \u001b[39m\"\u001b[39m\u001b[39m            return\u001b[39m\u001b[39m\\n\u001b[39;00m\u001b[39m\"\u001b[39m,\n\u001b[0;32m    220\u001b[0m     \u001b[39m\"\u001b[39m\u001b[39m         if status_widget.zone != zone:\u001b[39m\u001b[39m\\n\u001b[39;00m\u001b[39m\"\u001b[39m,\n\u001b[0;32m    221\u001b[0m     \u001b[39m\"\u001b[39m\u001b[39m            #Search for entries of the country.\u001b[39m\u001b[39m\\n\u001b[39;00m\u001b[39m\"\u001b[39m,\n\u001b[0;32m    222\u001b[0m     \u001b[39m\"\u001b[39m\u001b[39m            status_widget.data = countries_by_region[zone] # load_by_region(Zone)\u001b[39m\u001b[39m\\n\u001b[39;00m\u001b[39m\"\u001b[39m,\n\u001b[0;32m    223\u001b[0m     \u001b[39m\"\u001b[39m\u001b[39m            status_widget.zone = zone\u001b[39m\u001b[39m\\n\u001b[39;00m\u001b[39m\"\u001b[39m,\n\u001b[0;32m    224\u001b[0m     \u001b[39m\"\u001b[39m\u001b[39m    \u001b[39m\u001b[39m\\n\u001b[39;00m\u001b[39m\"\u001b[39m,\n\u001b[0;32m    225\u001b[0m     \u001b[39m\"\u001b[39m\u001b[39m    # Update Widget Data\u001b[39m\u001b[39m\\n\u001b[39;00m\u001b[39m\"\u001b[39m,\n\u001b[0;32m    226\u001b[0m     \u001b[39m\"\u001b[39m\u001b[39m    df_zone = status_widget.data\u001b[39m\u001b[39m\\n\u001b[39;00m\u001b[39m\"\u001b[39m,\n\u001b[0;32m    227\u001b[0m     \u001b[39m\"\u001b[39m\u001b[39m    \u001b[39m\u001b[39m\\n\u001b[39;00m\u001b[39m\"\u001b[39m,\n\u001b[0;32m    228\u001b[0m     \u001b[39m\"\u001b[39m\u001b[39m    #Load the selected year range and the global range.\u001b[39m\u001b[39m\\n\u001b[39;00m\u001b[39m\"\u001b[39m,\n\u001b[0;32m    229\u001b[0m     \u001b[39m\"\u001b[39m\u001b[39m    df_time = searchTimeSeries(threshold, years[0], years[1], True, df_zone)\u001b[39m\u001b[39m\\n\u001b[39;00m\u001b[39m\"\u001b[39m,\n\u001b[0;32m    230\u001b[0m     \u001b[39m\"\u001b[39m\u001b[39m    df_global = searchTimeSeries(threshold, years[0], years[1], False, df_zone)\u001b[39m\u001b[39m\\n\u001b[39;00m\u001b[39m\"\u001b[39m,\n\u001b[0;32m    231\u001b[0m     \u001b[39m\"\u001b[39m\u001b[39m\\n\u001b[39;00m\u001b[39m\"\u001b[39m,\n\u001b[0;32m    232\u001b[0m     \u001b[39m\"\u001b[39m\u001b[39m    # Display Data\u001b[39m\u001b[39m\\n\u001b[39;00m\u001b[39m\"\u001b[39m,\n\u001b[0;32m    233\u001b[0m     \u001b[39m\"\u001b[39m\u001b[39m    if years[0] > years[1]: return print(\u001b[39m\u001b[39m\\\"\u001b[39;00m\u001b[39mPlease, select a valid range of years.\u001b[39m\u001b[39m\\\"\u001b[39;00m\u001b[39m)\u001b[39m\u001b[39m\\n\u001b[39;00m\u001b[39m\"\u001b[39m,\n\u001b[0;32m    234\u001b[0m     \u001b[39m\"\u001b[39m\u001b[39m \u001b[39m\u001b[39m\\n\u001b[39;00m\u001b[39m\"\u001b[39m,\n\u001b[0;32m    235\u001b[0m     \u001b[39m\"\u001b[39m\u001b[39m    space = \u001b[39m\u001b[39m\\\"\u001b[39;00m\u001b[39m\\\\\u001b[39;00m\u001b[39mxa0\u001b[39m\u001b[39m\\\"\u001b[39;00m\u001b[39m * 10\u001b[39m\u001b[39m\\n\u001b[39;00m\u001b[39m\"\u001b[39m,\n\u001b[0;32m    236\u001b[0m     \u001b[39m\"\u001b[39m\u001b[39m    try:\u001b[39m\u001b[39m\\n\u001b[39;00m\u001b[39m\"\u001b[39m,\n\u001b[0;32m    237\u001b[0m     \u001b[39m\"\u001b[39m\u001b[39m        df_time = styler_method(df_time, str(years[0]) + \u001b[39m\u001b[39m'\u001b[39m\u001b[39m-\u001b[39m\u001b[39m'\u001b[39m\u001b[39m + str(years[1]))._repr_html_()\u001b[39m\u001b[39m\\n\u001b[39;00m\u001b[39m\"\u001b[39m,\n\u001b[0;32m    238\u001b[0m     \u001b[39m\"\u001b[39m\u001b[39m    except: \u001b[39m\u001b[39m\\n\u001b[39;00m\u001b[39m\"\u001b[39m,\n\u001b[0;32m    239\u001b[0m     \u001b[39m\"\u001b[39m\u001b[39m        df_time = \u001b[39m\u001b[39m'\u001b[39m\u001b[39mNo indicators available for the selected parameters\u001b[39m\u001b[39m'\u001b[39m\u001b[39m\\n\u001b[39;00m\u001b[39m\"\u001b[39m,\n\u001b[0;32m    240\u001b[0m     \u001b[39m\"\u001b[39m\u001b[39m    \u001b[39m\u001b[39m\\n\u001b[39;00m\u001b[39m\"\u001b[39m,\n\u001b[0;32m    241\u001b[0m     \u001b[39m\"\u001b[39m\u001b[39m    try:\u001b[39m\u001b[39m\\n\u001b[39;00m\u001b[39m\"\u001b[39m,\n\u001b[0;32m    242\u001b[0m     \u001b[39m\"\u001b[39m\u001b[39m        df_global = styler_method(df_global, \u001b[39m\u001b[39m'\u001b[39m\u001b[39m2000-2020\u001b[39m\u001b[39m'\u001b[39m\u001b[39m)._repr_html_()\u001b[39m\u001b[39m\\n\u001b[39;00m\u001b[39m\"\u001b[39m,\n\u001b[0;32m    243\u001b[0m     \u001b[39m\"\u001b[39m\u001b[39m    except: \u001b[39m\u001b[39m\\n\u001b[39;00m\u001b[39m\"\u001b[39m,\n\u001b[0;32m    244\u001b[0m     \u001b[39m\"\u001b[39m\u001b[39m        df_global = \u001b[39m\u001b[39m'\u001b[39m\u001b[39mNo indicators available for the selected parameters\u001b[39m\u001b[39m'\u001b[39m\u001b[39m\\n\u001b[39;00m\u001b[39m\"\u001b[39m,\n\u001b[0;32m    245\u001b[0m     \u001b[39m\"\u001b[39m\u001b[39m\\n\u001b[39;00m\u001b[39m\"\u001b[39m,\n\u001b[0;32m    246\u001b[0m     \u001b[39m\"\u001b[39m\u001b[39m    display_html(df_time + space  + df_global, raw=True)\u001b[39m\u001b[39m\\n\u001b[39;00m\u001b[39m\"\u001b[39m,\n\u001b[0;32m    247\u001b[0m     \u001b[39m\"\u001b[39m\u001b[39m    \u001b[39m\u001b[39m\\n\u001b[39;00m\u001b[39m\"\u001b[39m,\n\u001b[0;32m    248\u001b[0m     \u001b[39m\"\u001b[39m\u001b[39mby_drop = widgets.Dropdown(\u001b[39m\u001b[39m\\n\u001b[39;00m\u001b[39m\"\u001b[39m,\n\u001b[0;32m    249\u001b[0m     \u001b[39m\"\u001b[39m\u001b[39m    options= [\u001b[39m\u001b[39m'\u001b[39m\u001b[39mCountry\u001b[39m\u001b[39m'\u001b[39m\u001b[39m, \u001b[39m\u001b[39m'\u001b[39m\u001b[39mRegion\u001b[39m\u001b[39m'\u001b[39m\u001b[39m],\u001b[39m\u001b[39m\\n\u001b[39;00m\u001b[39m\"\u001b[39m,\n\u001b[0;32m    250\u001b[0m     \u001b[39m\"\u001b[39m\u001b[39m    description=\u001b[39m\u001b[39m'\u001b[39m\u001b[39mBy: \u001b[39m\u001b[39m'\u001b[39m\u001b[39m,\u001b[39m\u001b[39m\\n\u001b[39;00m\u001b[39m\"\u001b[39m,\n\u001b[0;32m    251\u001b[0m     \u001b[39m\"\u001b[39m\u001b[39m)\u001b[39m\u001b[39m\\n\u001b[39;00m\u001b[39m\"\u001b[39m,\n\u001b[0;32m    252\u001b[0m     \u001b[39m\"\u001b[39m\u001b[39m\\n\u001b[39;00m\u001b[39m\"\u001b[39m,\n\u001b[0;32m    253\u001b[0m     \u001b[39m\"\u001b[39m\u001b[39mintslider = widgets.IntRangeSlider(\u001b[39m\u001b[39m\\n\u001b[39;00m\u001b[39m\"\u001b[39m,\n\u001b[0;32m    254\u001b[0m     \u001b[39m\"\u001b[39m\u001b[39m    value=[min(set(df_gold[\u001b[39m\u001b[39m'\u001b[39m\u001b[39mYear\u001b[39m\u001b[39m'\u001b[39m\u001b[39m])), max(set(df_gold[\u001b[39m\u001b[39m'\u001b[39m\u001b[39mYear\u001b[39m\u001b[39m'\u001b[39m\u001b[39m]))],\u001b[39m\u001b[39m\\n\u001b[39;00m\u001b[39m\"\u001b[39m,\n\u001b[0;32m    255\u001b[0m     \u001b[39m\"\u001b[39m\u001b[39m    min= min(set(df_gold[\u001b[39m\u001b[39m'\u001b[39m\u001b[39mYear\u001b[39m\u001b[39m'\u001b[39m\u001b[39m])),\u001b[39m\u001b[39m\\n\u001b[39;00m\u001b[39m\"\u001b[39m,\n\u001b[0;32m    256\u001b[0m     \u001b[39m\"\u001b[39m\u001b[39m    max= max(set(df_gold[\u001b[39m\u001b[39m'\u001b[39m\u001b[39mYear\u001b[39m\u001b[39m'\u001b[39m\u001b[39m])),\u001b[39m\u001b[39m\\n\u001b[39;00m\u001b[39m\"\u001b[39m,\n\u001b[0;32m    257\u001b[0m     \u001b[39m\"\u001b[39m\u001b[39m    step=1,\u001b[39m\u001b[39m\\n\u001b[39;00m\u001b[39m\"\u001b[39m,\n\u001b[0;32m    258\u001b[0m     \u001b[39m\"\u001b[39m\u001b[39m    description=\u001b[39m\u001b[39m'\u001b[39m\u001b[39mYears: \u001b[39m\u001b[39m'\u001b[39m\u001b[39m,\u001b[39m\u001b[39m\\n\u001b[39;00m\u001b[39m\"\u001b[39m,\n\u001b[0;32m    259\u001b[0m     \u001b[39m\"\u001b[39m\u001b[39m)\u001b[39m\u001b[39m\\n\u001b[39;00m\u001b[39m\"\u001b[39m,\n\u001b[0;32m    260\u001b[0m     \u001b[39m\"\u001b[39m\u001b[39m\\n\u001b[39;00m\u001b[39m\"\u001b[39m,\n\u001b[0;32m    261\u001b[0m     \u001b[39m\"\u001b[39m\u001b[39mzone_drop = widgets.Dropdown(\u001b[39m\u001b[39m\\n\u001b[39;00m\u001b[39m\"\u001b[39m,\n\u001b[0;32m    262\u001b[0m     \u001b[39m\"\u001b[39m\u001b[39m    options= country_list,\u001b[39m\u001b[39m\\n\u001b[39;00m\u001b[39m\"\u001b[39m,\n\u001b[0;32m    263\u001b[0m     \u001b[39m\"\u001b[39m\u001b[39m    value=\u001b[39m\u001b[39m'\u001b[39m\u001b[39mAfghanistan\u001b[39m\u001b[39m'\u001b[39m\u001b[39m,\u001b[39m\u001b[39m\\n\u001b[39;00m\u001b[39m\"\u001b[39m,\n\u001b[0;32m    264\u001b[0m     \u001b[39m\"\u001b[39m\u001b[39m    description=\u001b[39m\u001b[39m'\u001b[39m\u001b[39mZone: \u001b[39m\u001b[39m'\u001b[39m\u001b[39m,\u001b[39m\u001b[39m\\n\u001b[39;00m\u001b[39m\"\u001b[39m,\n\u001b[0;32m    265\u001b[0m     \u001b[39m\"\u001b[39m\u001b[39m)\u001b[39m\u001b[39m\\n\u001b[39;00m\u001b[39m\"\u001b[39m,\n\u001b[0;32m    266\u001b[0m     \u001b[39m\"\u001b[39m\u001b[39m\\n\u001b[39;00m\u001b[39m\"\u001b[39m,\n\u001b[0;32m    267\u001b[0m     \u001b[39m\"\u001b[39m\u001b[39mfloatslider = widgets.FloatSlider(\u001b[39m\u001b[39m\\n\u001b[39;00m\u001b[39m\"\u001b[39m,\n\u001b[0;32m    268\u001b[0m     \u001b[39m\"\u001b[39m\u001b[39m    value=0.7,\u001b[39m\u001b[39m\\n\u001b[39;00m\u001b[39m\"\u001b[39m,\n\u001b[0;32m    269\u001b[0m     \u001b[39m\"\u001b[39m\u001b[39m    min=0,\u001b[39m\u001b[39m\\n\u001b[39;00m\u001b[39m\"\u001b[39m,\n\u001b[0;32m    270\u001b[0m     \u001b[39m\"\u001b[39m\u001b[39m    max=1.0,\u001b[39m\u001b[39m\\n\u001b[39;00m\u001b[39m\"\u001b[39m,\n\u001b[0;32m    271\u001b[0m     \u001b[39m\"\u001b[39m\u001b[39m    step=0.05,\u001b[39m\u001b[39m\\n\u001b[39;00m\u001b[39m\"\u001b[39m,\n\u001b[0;32m    272\u001b[0m     \u001b[39m\"\u001b[39m\u001b[39m    description=\u001b[39m\u001b[39m'\u001b[39m\u001b[39mThreshold:\u001b[39m\u001b[39m'\u001b[39m\u001b[39m,\u001b[39m\u001b[39m\\n\u001b[39;00m\u001b[39m\"\u001b[39m,\n\u001b[0;32m    273\u001b[0m     \u001b[39m\"\u001b[39m\u001b[39m)\u001b[39m\u001b[39m\\n\u001b[39;00m\u001b[39m\"\u001b[39m,\n\u001b[0;32m    274\u001b[0m     \u001b[39m\"\u001b[39m\u001b[39m\\n\u001b[39;00m\u001b[39m\"\u001b[39m,\n\u001b[0;32m    275\u001b[0m     \u001b[39m\"\u001b[39m\u001b[39mwidgets.interact(time_window_zone, by = by_drop, zone = zone_drop, threshold = floatslider, years = intslider)\u001b[39m\u001b[39m\"\u001b[39m\n\u001b[0;32m    276\u001b[0m    ]\n\u001b[0;32m    277\u001b[0m   },\n\u001b[0;32m    278\u001b[0m   {\n\u001b[0;32m    279\u001b[0m    \u001b[39m\"\u001b[39m\u001b[39mcell_type\u001b[39m\u001b[39m\"\u001b[39m: \u001b[39m\"\u001b[39m\u001b[39mmarkdown\u001b[39m\u001b[39m\"\u001b[39m,\n\u001b[0;32m    280\u001b[0m    \u001b[39m\"\u001b[39m\u001b[39mmetadata\u001b[39m\u001b[39m\"\u001b[39m: {},\n\u001b[0;32m    281\u001b[0m    \u001b[39m\"\u001b[39m\u001b[39msource\u001b[39m\u001b[39m\"\u001b[39m: [\n\u001b[0;32m    282\u001b[0m     \u001b[39m\"\u001b[39m\u001b[39m# Highest correlations\u001b[39m\u001b[39m\\n\u001b[39;00m\u001b[39m\"\u001b[39m,\n\u001b[0;32m    283\u001b[0m     \u001b[39m\"\u001b[39m\u001b[39m\\n\u001b[39;00m\u001b[39m\"\u001b[39m,\n\u001b[0;32m    284\u001b[0m     \u001b[39m\"\u001b[39m\u001b[39mFinds the highest positive/negative correlations for the selected zone. The correlation found is displayed next to the year range where has been located. This widget allows to detect periods of time with important events resulting in a modification of the indicator correlation. The widget also filters the p-values lower than 0.05.\u001b[39m\u001b[39m\\n\u001b[39;00m\u001b[39m\"\u001b[39m,\n\u001b[0;32m    285\u001b[0m     \u001b[39m\"\u001b[39m\u001b[39m\\n\u001b[39;00m\u001b[39m\"\u001b[39m,\n\u001b[0;32m    286\u001b[0m     \u001b[39m\"\u001b[39m\u001b[39mIn the widget for the countries a lot of maximum correlation are found, this is caused when there is a low of data input.\u001b[39m\u001b[39m\\n\u001b[39;00m\u001b[39m\"\u001b[39m,\n\u001b[0;32m    287\u001b[0m     \u001b[39m\"\u001b[39m\u001b[39m\\n\u001b[39;00m\u001b[39m\"\u001b[39m,\n\u001b[0;32m    288\u001b[0m     \u001b[39m\"\u001b[39m\u001b[39mIn first place, define a method were will be stored all the results:\u001b[39m\u001b[39m\"\u001b[39m\n\u001b[0;32m    289\u001b[0m    ]\n\u001b[0;32m    290\u001b[0m   },\n\u001b[0;32m    291\u001b[0m   {\n\u001b[0;32m    292\u001b[0m    \u001b[39m\"\u001b[39m\u001b[39mcell_type\u001b[39m\u001b[39m\"\u001b[39m: \u001b[39m\"\u001b[39m\u001b[39mcode\u001b[39m\u001b[39m\"\u001b[39m,\n\u001b[0;32m    293\u001b[0m    \u001b[39m\"\u001b[39m\u001b[39mexecution_count\u001b[39m\u001b[39m\"\u001b[39m: \u001b[39m7\u001b[39m,\n\u001b[0;32m    294\u001b[0m    \u001b[39m\"\u001b[39m\u001b[39mmetadata\u001b[39m\u001b[39m\"\u001b[39m: {},\n\u001b[0;32m    295\u001b[0m    \u001b[39m\"\u001b[39m\u001b[39moutputs\u001b[39m\u001b[39m\"\u001b[39m: [],\n\u001b[0;32m    296\u001b[0m    \u001b[39m\"\u001b[39m\u001b[39msource\u001b[39m\u001b[39m\"\u001b[39m: [\n\u001b[0;32m    297\u001b[0m     \u001b[39m\"\u001b[39m\u001b[39mdef init_highest_table(indicators):    \u001b[39m\u001b[39m\\n\u001b[39;00m\u001b[39m\"\u001b[39m,\n\u001b[0;32m    298\u001b[0m     \u001b[39m\"\u001b[39m\u001b[39m    df_highest = pd.DataFrame(columns=\u001b[39m\u001b[39m{\u001b[39m\u001b[39m\\\"\u001b[39;00m\u001b[39mIndicator\u001b[39m\u001b[39m\\\"\u001b[39;00m\u001b[39m})\u001b[39m\u001b[39m\\n\u001b[39;00m\u001b[39m\"\u001b[39m,\n\u001b[0;32m    299\u001b[0m     \u001b[39m\"\u001b[39m\u001b[39m    df_highest[\u001b[39m\u001b[39m\\\"\u001b[39;00m\u001b[39mIndicator\u001b[39m\u001b[39m\\\"\u001b[39;00m\u001b[39m] = indicators\u001b[39m\u001b[39m\\n\u001b[39;00m\u001b[39m\"\u001b[39m,\n\u001b[0;32m    300\u001b[0m     \u001b[39m\"\u001b[39m\u001b[39m    df_highest[\u001b[39m\u001b[39m\\\"\u001b[39;00m\u001b[39mYear range\u001b[39m\u001b[39m\\\"\u001b[39;00m\u001b[39m] = 0\u001b[39m\u001b[39m\\n\u001b[39;00m\u001b[39m\"\u001b[39m,\n\u001b[0;32m    301\u001b[0m     \u001b[39m\"\u001b[39m\u001b[39m    df_highest[\u001b[39m\u001b[39m\\\"\u001b[39;00m\u001b[39mHighest positive Spearman corr\u001b[39m\u001b[39m\\\"\u001b[39;00m\u001b[39m] = 0\u001b[39m\u001b[39m\\n\u001b[39;00m\u001b[39m\"\u001b[39m,\n\u001b[0;32m    302\u001b[0m     \u001b[39m\"\u001b[39m\u001b[39m    df_highest[\u001b[39m\u001b[39m\\\"\u001b[39;00m\u001b[39mYear range \u001b[39m\u001b[39m\\\"\u001b[39;00m\u001b[39m] = 0\u001b[39m\u001b[39m\\n\u001b[39;00m\u001b[39m\"\u001b[39m,\n\u001b[0;32m    303\u001b[0m     \u001b[39m\"\u001b[39m\u001b[39m    df_highest[\u001b[39m\u001b[39m\\\"\u001b[39;00m\u001b[39mHighest negative Spearman corr\u001b[39m\u001b[39m\\\"\u001b[39;00m\u001b[39m] = 0\u001b[39m\u001b[39m\\n\u001b[39;00m\u001b[39m\"\u001b[39m,\n\u001b[0;32m    304\u001b[0m     \u001b[39m\"\u001b[39m\u001b[39m    df_highest.set_index(\u001b[39m\u001b[39m\\\"\u001b[39;00m\u001b[39mIndicator\u001b[39m\u001b[39m\\\"\u001b[39;00m\u001b[39m, inplace= True)\u001b[39m\u001b[39m\\n\u001b[39;00m\u001b[39m\"\u001b[39m,\n\u001b[0;32m    305\u001b[0m     \u001b[39m\"\u001b[39m\u001b[39m\\n\u001b[39;00m\u001b[39m\"\u001b[39m,\n\u001b[0;32m    306\u001b[0m     \u001b[39m\"\u001b[39m\u001b[39m    return df_highest\u001b[39m\u001b[39m\"\u001b[39m\n\u001b[0;32m    307\u001b[0m    ]\n\u001b[0;32m    308\u001b[0m   },\n\u001b[0;32m    309\u001b[0m   {\n\u001b[0;32m    310\u001b[0m    \u001b[39m\"\u001b[39m\u001b[39mcell_type\u001b[39m\u001b[39m\"\u001b[39m: \u001b[39m\"\u001b[39m\u001b[39mmarkdown\u001b[39m\u001b[39m\"\u001b[39m,\n\u001b[0;32m    311\u001b[0m    \u001b[39m\"\u001b[39m\u001b[39mmetadata\u001b[39m\u001b[39m\"\u001b[39m: {},\n\u001b[0;32m    312\u001b[0m    \u001b[39m\"\u001b[39m\u001b[39msource\u001b[39m\u001b[39m\"\u001b[39m: [\n\u001b[0;32m    313\u001b[0m     \u001b[39m\"\u001b[39m\u001b[39mIterable: a list of all the combinations for the year ranges with length of five years.\u001b[39m\u001b[39m\\n\u001b[39;00m\u001b[39m\"\u001b[39m,\n\u001b[0;32m    314\u001b[0m     \u001b[39m\"\u001b[39m\u001b[39m\\n\u001b[39;00m\u001b[39m\"\u001b[39m,\n\u001b[0;32m    315\u001b[0m     \u001b[39m\"\u001b[39m\u001b[39mIndicators: a list of all the indicators.\u001b[39m\u001b[39m\"\u001b[39m\n\u001b[0;32m    316\u001b[0m    ]\n\u001b[0;32m    317\u001b[0m   },\n\u001b[0;32m    318\u001b[0m   {\n\u001b[0;32m    319\u001b[0m    \u001b[39m\"\u001b[39m\u001b[39mcell_type\u001b[39m\u001b[39m\"\u001b[39m: \u001b[39m\"\u001b[39m\u001b[39mcode\u001b[39m\u001b[39m\"\u001b[39m,\n\u001b[0;32m    320\u001b[0m    \u001b[39m\"\u001b[39m\u001b[39mexecution_count\u001b[39m\u001b[39m\"\u001b[39m: \u001b[39m8\u001b[39m,\n\u001b[0;32m    321\u001b[0m    \u001b[39m\"\u001b[39m\u001b[39mmetadata\u001b[39m\u001b[39m\"\u001b[39m: {},\n\u001b[0;32m    322\u001b[0m    \u001b[39m\"\u001b[39m\u001b[39moutputs\u001b[39m\u001b[39m\"\u001b[39m: [],\n\u001b[0;32m    323\u001b[0m    \u001b[39m\"\u001b[39m\u001b[39msource\u001b[39m\u001b[39m\"\u001b[39m: [\n\u001b[0;32m    324\u001b[0m     \u001b[39m\"\u001b[39m\u001b[39mindicators = list(df_gold_index.columns)\u001b[39m\u001b[39m\\n\u001b[39;00m\u001b[39m\"\u001b[39m,\n\u001b[0;32m    325\u001b[0m     \u001b[39m\"\u001b[39m\u001b[39mindicators.remove(\u001b[39m\u001b[39m'\u001b[39m\u001b[39mGDP\u001b[39m\u001b[39m'\u001b[39m\u001b[39m)\u001b[39m\u001b[39m\\n\u001b[39;00m\u001b[39m\"\u001b[39m\n\u001b[0;32m    326\u001b[0m    ]\n\u001b[0;32m    327\u001b[0m   },\n\u001b[0;32m    328\u001b[0m   {\n\u001b[0;32m    329\u001b[0m    \u001b[39m\"\u001b[39m\u001b[39mcell_type\u001b[39m\u001b[39m\"\u001b[39m: \u001b[39m\"\u001b[39m\u001b[39mcode\u001b[39m\u001b[39m\"\u001b[39m,\n\u001b[0;32m    330\u001b[0m    \u001b[39m\"\u001b[39m\u001b[39mexecution_count\u001b[39m\u001b[39m\"\u001b[39m: \u001b[39m12\u001b[39m,\n\u001b[0;32m    331\u001b[0m    \u001b[39m\"\u001b[39m\u001b[39mmetadata\u001b[39m\u001b[39m\"\u001b[39m: {},\n\u001b[0;32m    332\u001b[0m    \u001b[39m\"\u001b[39m\u001b[39moutputs\u001b[39m\u001b[39m\"\u001b[39m: [],\n\u001b[0;32m    333\u001b[0m    \u001b[39m\"\u001b[39m\u001b[39msource\u001b[39m\u001b[39m\"\u001b[39m: [\n\u001b[0;32m    334\u001b[0m     \u001b[39m\"\u001b[39m\u001b[39mdef generate_years_combinations(min_diff: int, min, max):\u001b[39m\u001b[39m\\n\u001b[39;00m\u001b[39m\"\u001b[39m,\n\u001b[0;32m    335\u001b[0m     \u001b[39m\"\u001b[39m\u001b[39m    iterable = list(range(min, max + 1))\u001b[39m\u001b[39m\\n\u001b[39;00m\u001b[39m\"\u001b[39m,\n\u001b[0;32m    336\u001b[0m     \u001b[39m\"\u001b[39m\u001b[39m    iterable = list(itertools.combinations(iterable, 2))\u001b[39m\u001b[39m\\n\u001b[39;00m\u001b[39m\"\u001b[39m,\n\u001b[0;32m    337\u001b[0m     \u001b[39m\"\u001b[39m\u001b[39m\\n\u001b[39;00m\u001b[39m\"\u001b[39m,\n\u001b[0;32m    338\u001b[0m     \u001b[39m\"\u001b[39m\u001b[39m    #The year length must be higher than 5. All entries with a lower range are deleted.\u001b[39m\u001b[39m\\n\u001b[39;00m\u001b[39m\"\u001b[39m,\n\u001b[0;32m    339\u001b[0m     \u001b[39m\"\u001b[39m\u001b[39m    for years in iterable.copy():\u001b[39m\u001b[39m\\n\u001b[39;00m\u001b[39m\"\u001b[39m,\n\u001b[0;32m    340\u001b[0m     \u001b[39m\"\u001b[39m\u001b[39m        if (years[1] - years[0]) < min_diff:\u001b[39m\u001b[39m\\n\u001b[39;00m\u001b[39m\"\u001b[39m,\n\u001b[0;32m    341\u001b[0m     \u001b[39m\"\u001b[39m\u001b[39m            iterable.remove(years)\u001b[39m\u001b[39m\\n\u001b[39;00m\u001b[39m\"\u001b[39m,\n\u001b[0;32m    342\u001b[0m     \u001b[39m\"\u001b[39m\u001b[39m    return iterable\u001b[39m\u001b[39m\"\u001b[39m\n\u001b[0;32m    343\u001b[0m    ]\n\u001b[0;32m    344\u001b[0m   },\n\u001b[0;32m    345\u001b[0m   {\n\u001b[0;32m    346\u001b[0m    \u001b[39m\"\u001b[39m\u001b[39mcell_type\u001b[39m\u001b[39m\"\u001b[39m: \u001b[39m\"\u001b[39m\u001b[39mcode\u001b[39m\u001b[39m\"\u001b[39m,\n\u001b[0;32m    347\u001b[0m    \u001b[39m\"\u001b[39m\u001b[39mexecution_count\u001b[39m\u001b[39m\"\u001b[39m: \u001b[39m13\u001b[39m,\n\u001b[0;32m    348\u001b[0m    \u001b[39m\"\u001b[39m\u001b[39mmetadata\u001b[39m\u001b[39m\"\u001b[39m: {},\n\u001b[0;32m    349\u001b[0m    \u001b[39m\"\u001b[39m\u001b[39moutputs\u001b[39m\u001b[39m\"\u001b[39m: [\n\u001b[0;32m    350\u001b[0m     {\n\u001b[0;32m    351\u001b[0m      \u001b[39m\"\u001b[39m\u001b[39mdata\u001b[39m\u001b[39m\"\u001b[39m: {\n\u001b[0;32m    352\u001b[0m       \u001b[39m\"\u001b[39m\u001b[39mapplication/vnd.jupyter.widget-view+json\u001b[39m\u001b[39m\"\u001b[39m: {\n\u001b[0;32m    353\u001b[0m        \u001b[39m\"\u001b[39m\u001b[39mmodel_id\u001b[39m\u001b[39m\"\u001b[39m: \u001b[39m\"\u001b[39m\u001b[39mc69cf80b44864ab9869cc95fcf71f91b\u001b[39m\u001b[39m\"\u001b[39m,\n\u001b[0;32m    354\u001b[0m        \u001b[39m\"\u001b[39m\u001b[39mversion_major\u001b[39m\u001b[39m\"\u001b[39m: \u001b[39m2\u001b[39m,\n\u001b[0;32m    355\u001b[0m        \u001b[39m\"\u001b[39m\u001b[39mversion_minor\u001b[39m\u001b[39m\"\u001b[39m: \u001b[39m0\u001b[39m\n\u001b[0;32m    356\u001b[0m       },\n\u001b[0;32m    357\u001b[0m       \u001b[39m\"\u001b[39m\u001b[39mtext/plain\u001b[39m\u001b[39m\"\u001b[39m: [\n\u001b[0;32m    358\u001b[0m        \u001b[39m\"\u001b[39m\u001b[39minteractive(children=(Dropdown(description=\u001b[39m\u001b[39m'\u001b[39m\u001b[39mBy: \u001b[39m\u001b[39m'\u001b[39m\u001b[39m, options=(\u001b[39m\u001b[39m'\u001b[39m\u001b[39mCountry\u001b[39m\u001b[39m'\u001b[39m\u001b[39m, \u001b[39m\u001b[39m'\u001b[39m\u001b[39mRegion\u001b[39m\u001b[39m'\u001b[39m\u001b[39m), value=\u001b[39m\u001b[39m'\u001b[39m\u001b[39mCountry\u001b[39m\u001b[39m'\u001b[39m\u001b[39m), Dropdown(d…\u001b[39m\u001b[39m\"\u001b[39m\n\u001b[0;32m    359\u001b[0m       ]\n\u001b[0;32m    360\u001b[0m      },\n\u001b[0;32m    361\u001b[0m      \u001b[39m\"\u001b[39m\u001b[39mmetadata\u001b[39m\u001b[39m\"\u001b[39m: {},\n\u001b[0;32m    362\u001b[0m      \u001b[39m\"\u001b[39m\u001b[39moutput_type\u001b[39m\u001b[39m\"\u001b[39m: \u001b[39m\"\u001b[39m\u001b[39mdisplay_data\u001b[39m\u001b[39m\"\u001b[39m\n\u001b[0;32m    363\u001b[0m     },\n\u001b[0;32m    364\u001b[0m     {\n\u001b[0;32m    365\u001b[0m      \u001b[39m\"\u001b[39m\u001b[39mdata\u001b[39m\u001b[39m\"\u001b[39m: {\n\u001b[0;32m    366\u001b[0m       \u001b[39m\"\u001b[39m\u001b[39mtext/plain\u001b[39m\u001b[39m\"\u001b[39m: [\n\u001b[0;32m    367\u001b[0m        \u001b[39m\"\u001b[39m\u001b[39m<function __main__.table_high_country(by, zone)>\u001b[39m\u001b[39m\"\u001b[39m\n\u001b[0;32m    368\u001b[0m       ]\n\u001b[0;32m    369\u001b[0m      },\n\u001b[0;32m    370\u001b[0m      \u001b[39m\"\u001b[39m\u001b[39mexecution_count\u001b[39m\u001b[39m\"\u001b[39m: \u001b[39m13\u001b[39m,\n\u001b[0;32m    371\u001b[0m      \u001b[39m\"\u001b[39m\u001b[39mmetadata\u001b[39m\u001b[39m\"\u001b[39m: {},\n\u001b[0;32m    372\u001b[0m      \u001b[39m\"\u001b[39m\u001b[39moutput_type\u001b[39m\u001b[39m\"\u001b[39m: \u001b[39m\"\u001b[39m\u001b[39mexecute_result\u001b[39m\u001b[39m\"\u001b[39m\n\u001b[0;32m    373\u001b[0m     }\n\u001b[0;32m    374\u001b[0m    ],\n\u001b[0;32m    375\u001b[0m    \u001b[39m\"\u001b[39m\u001b[39msource\u001b[39m\u001b[39m\"\u001b[39m: [\n\u001b[0;32m    376\u001b[0m     \u001b[39m\"\u001b[39m\u001b[39mdef table_high_country(by, zone):\u001b[39m\u001b[39m\\n\u001b[39;00m\u001b[39m\"\u001b[39m,\n\u001b[0;32m    377\u001b[0m     \u001b[39m\"\u001b[39m\u001b[39m    if by == \u001b[39m\u001b[39m'\u001b[39m\u001b[39mCountry\u001b[39m\u001b[39m'\u001b[39m\u001b[39m:\u001b[39m\u001b[39m\\n\u001b[39;00m\u001b[39m\"\u001b[39m,\n\u001b[0;32m    378\u001b[0m     \u001b[39m\"\u001b[39m\u001b[39m        if len(zone_drop_high.options) == len(region_list): \u001b[39m\u001b[39m\\n\u001b[39;00m\u001b[39m\"\u001b[39m,\n\u001b[0;32m    379\u001b[0m     \u001b[39m\"\u001b[39m\u001b[39m            zone_drop_high.options = country_list\u001b[39m\u001b[39m\\n\u001b[39;00m\u001b[39m\"\u001b[39m,\n\u001b[0;32m    380\u001b[0m     \u001b[39m\"\u001b[39m\u001b[39m            return\u001b[39m\u001b[39m\\n\u001b[39;00m\u001b[39m\"\u001b[39m,\n\u001b[0;32m    381\u001b[0m     \u001b[39m\"\u001b[39m\u001b[39m        #Search for the entries of the country.\u001b[39m\u001b[39m\\n\u001b[39;00m\u001b[39m\"\u001b[39m,\n\u001b[0;32m    382\u001b[0m     \u001b[39m\"\u001b[39m\u001b[39m        df_zone  = df_gold_index.loc[df_gold_index.index.get_level_values(\u001b[39m\u001b[39m'\u001b[39m\u001b[39mCountry\u001b[39m\u001b[39m'\u001b[39m\u001b[39m) == zone]\u001b[39m\u001b[39m\\n\u001b[39;00m\u001b[39m\"\u001b[39m,\n\u001b[0;32m    383\u001b[0m     \u001b[39m\"\u001b[39m\u001b[39m        min_diff = 5\u001b[39m\u001b[39m\\n\u001b[39;00m\u001b[39m\"\u001b[39m,\n\u001b[0;32m    384\u001b[0m     \u001b[39m\"\u001b[39m\u001b[39m    \u001b[39m\u001b[39m\\n\u001b[39;00m\u001b[39m\"\u001b[39m,\n\u001b[0;32m    385\u001b[0m     \u001b[39m\"\u001b[39m\u001b[39m        \u001b[39m\u001b[39m\\n\u001b[39;00m\u001b[39m\"\u001b[39m,\n\u001b[0;32m    386\u001b[0m     \u001b[39m\"\u001b[39m\u001b[39m    elif by == \u001b[39m\u001b[39m'\u001b[39m\u001b[39mRegion\u001b[39m\u001b[39m'\u001b[39m\u001b[39m:\u001b[39m\u001b[39m\\n\u001b[39;00m\u001b[39m\"\u001b[39m,\n\u001b[0;32m    387\u001b[0m     \u001b[39m\"\u001b[39m\u001b[39m        if len(zone_drop_high.options) == len(country_list): \u001b[39m\u001b[39m\\n\u001b[39;00m\u001b[39m\"\u001b[39m,\n\u001b[0;32m    388\u001b[0m     \u001b[39m\"\u001b[39m\u001b[39m            zone_drop_high.options = region_list\u001b[39m\u001b[39m\\n\u001b[39;00m\u001b[39m\"\u001b[39m,\n\u001b[0;32m    389\u001b[0m     \u001b[39m\"\u001b[39m\u001b[39m            return\u001b[39m\u001b[39m\\n\u001b[39;00m\u001b[39m\"\u001b[39m,\n\u001b[0;32m    390\u001b[0m     \u001b[39m\"\u001b[39m\u001b[39m        #Search for the entries of the region and normalize.\u001b[39m\u001b[39m\\n\u001b[39;00m\u001b[39m\"\u001b[39m,\n\u001b[0;32m    391\u001b[0m     \u001b[39m\"\u001b[39m\u001b[39m        df_zone = countries_by_region[zone]\u001b[39m\u001b[39m\\n\u001b[39;00m\u001b[39m\"\u001b[39m,\n\u001b[0;32m    392\u001b[0m     \u001b[39m\"\u001b[39m\u001b[39m        min_diff = 2\u001b[39m\u001b[39m\\n\u001b[39;00m\u001b[39m\"\u001b[39m,\n\u001b[0;32m    393\u001b[0m     \u001b[39m\"\u001b[39m\u001b[39m    \u001b[39m\u001b[39m\\n\u001b[39;00m\u001b[39m\"\u001b[39m,\n\u001b[0;32m    394\u001b[0m     \u001b[39m\"\u001b[39m\u001b[39m    df_highest = init_highest_table(indicators)\u001b[39m\u001b[39m\\n\u001b[39;00m\u001b[39m\"\u001b[39m,\n\u001b[0;32m    395\u001b[0m     \u001b[39m\"\u001b[39m\u001b[39m    \u001b[39m\u001b[39m\\n\u001b[39;00m\u001b[39m\"\u001b[39m,\n\u001b[0;32m    396\u001b[0m     \u001b[39m\"\u001b[39m\u001b[39m    i = 0\u001b[39m\u001b[39m\\n\u001b[39;00m\u001b[39m\"\u001b[39m,\n\u001b[0;32m    397\u001b[0m     \u001b[39m\"\u001b[39m\u001b[39m    computing_text = \u001b[39m\u001b[39m\\\"\u001b[39;00m\u001b[39mLoading \u001b[39m\u001b[39m\\\"\u001b[39;00m\u001b[39m\\n\u001b[39;00m\u001b[39m\"\u001b[39m,\n\u001b[0;32m    398\u001b[0m     \u001b[39m\"\u001b[39m\u001b[39m    print(computing_text, end=\u001b[39m\u001b[39m\\\"\u001b[39;00m\u001b[39m\\\\\u001b[39;00m\u001b[39mr\u001b[39m\u001b[39m\\\"\u001b[39;00m\u001b[39m)\u001b[39m\u001b[39m\\n\u001b[39;00m\u001b[39m\"\u001b[39m,\n\u001b[0;32m    399\u001b[0m     \u001b[39m\"\u001b[39m\u001b[39m    \u001b[39m\u001b[39m\\n\u001b[39;00m\u001b[39m\"\u001b[39m,\n\u001b[0;32m    400\u001b[0m     \u001b[39m\"\u001b[39m\u001b[39m    #For all the combination of years...\u001b[39m\u001b[39m\\n\u001b[39;00m\u001b[39m\"\u001b[39m,\n\u001b[0;32m    401\u001b[0m     \u001b[39m\"\u001b[39m\u001b[39m    for years in generate_years_combinations(min_diff, min_year, max_year):\u001b[39m\u001b[39m\\n\u001b[39;00m\u001b[39m\"\u001b[39m,\n\u001b[0;32m    402\u001b[0m     \u001b[39m\"\u001b[39m\u001b[39m        \u001b[39m\u001b[39m\\n\u001b[39;00m\u001b[39m\"\u001b[39m,\n\u001b[0;32m    403\u001b[0m     \u001b[39m\"\u001b[39m\u001b[39m        i = (i + 1) \u001b[39m\u001b[39m%\u001b[39m\u001b[39m 50\u001b[39m\u001b[39m\\n\u001b[39;00m\u001b[39m\"\u001b[39m,\n\u001b[0;32m    404\u001b[0m     \u001b[39m\"\u001b[39m\u001b[39m        print (computing_text + \u001b[39m\u001b[39m\\\"\u001b[39;00m\u001b[39m\\\"\u001b[39;00m\u001b[39m.join([\u001b[39m\u001b[39m\\\"\u001b[39;00m\u001b[39m.\u001b[39m\u001b[39m\\\"\u001b[39;00m\u001b[39m for _ in range(i)]), end=\u001b[39m\u001b[39m\\\"\u001b[39;00m\u001b[39m\\\\\u001b[39;00m\u001b[39mr\u001b[39m\u001b[39m\\\"\u001b[39;00m\u001b[39m)\u001b[39m\u001b[39m\\n\u001b[39;00m\u001b[39m\"\u001b[39m,\n\u001b[0;32m    405\u001b[0m     \u001b[39m\"\u001b[39m\u001b[39m        \u001b[39m\u001b[39m\\n\u001b[39;00m\u001b[39m\"\u001b[39m,\n\u001b[0;32m    406\u001b[0m     \u001b[39m\"\u001b[39m\u001b[39m        df_aux = searchTimeSeries(0, years[0], years[1], True, df_zone)\u001b[39m\u001b[39m\\n\u001b[39;00m\u001b[39m\"\u001b[39m,\n\u001b[0;32m    407\u001b[0m     \u001b[39m\"\u001b[39m\u001b[39m        #Delete indicators which are not available that year\u001b[39m\u001b[39m\\n\u001b[39;00m\u001b[39m\"\u001b[39m,\n\u001b[0;32m    408\u001b[0m     \u001b[39m\"\u001b[39m\u001b[39m        indicators_inter = list(set(indicators) & set(list(df_aux.index)))\u001b[39m\u001b[39m\\n\u001b[39;00m\u001b[39m\"\u001b[39m,\n\u001b[0;32m    409\u001b[0m     \u001b[39m\"\u001b[39m\u001b[39m\\n\u001b[39;00m\u001b[39m\"\u001b[39m,\n\u001b[0;32m    410\u001b[0m     \u001b[39m\"\u001b[39m\u001b[39m        #For all the indicators availble that year....\u001b[39m\u001b[39m\\n\u001b[39;00m\u001b[39m\"\u001b[39m,\n\u001b[0;32m    411\u001b[0m     \u001b[39m\"\u001b[39m\u001b[39m        for indicator in indicators_inter:\u001b[39m\u001b[39m\\n\u001b[39;00m\u001b[39m\"\u001b[39m,\n\u001b[0;32m    412\u001b[0m     \u001b[39m\"\u001b[39m\u001b[39m            #Algorithm to search for the highest value\u001b[39m\u001b[39m\\n\u001b[39;00m\u001b[39m\"\u001b[39m,\n\u001b[0;32m    413\u001b[0m     \u001b[39m\"\u001b[39m\u001b[39m            indicator_corr_pos_last = df_highest[df_highest.index.get_level_values(0) == indicator][\u001b[39m\u001b[39m\\\"\u001b[39;00m\u001b[39mHighest positive Spearman corr\u001b[39m\u001b[39m\\\"\u001b[39;00m\u001b[39m][0]\u001b[39m\u001b[39m\\n\u001b[39;00m\u001b[39m\"\u001b[39m,\n\u001b[0;32m    414\u001b[0m     \u001b[39m\"\u001b[39m\u001b[39m            indicator_corr_neg_last = df_highest[df_highest.index.get_level_values(0) == indicator][\u001b[39m\u001b[39m\\\"\u001b[39;00m\u001b[39mHighest negative Spearman corr\u001b[39m\u001b[39m\\\"\u001b[39;00m\u001b[39m][0]\u001b[39m\u001b[39m\\n\u001b[39;00m\u001b[39m\"\u001b[39m,\n\u001b[0;32m    415\u001b[0m     \u001b[39m\"\u001b[39m\u001b[39m            \u001b[39m\u001b[39m\\n\u001b[39;00m\u001b[39m\"\u001b[39m,\n\u001b[0;32m    416\u001b[0m     \u001b[39m\"\u001b[39m\u001b[39m          \u001b[39m\u001b[39m\\n\u001b[39;00m\u001b[39m\"\u001b[39m,\n\u001b[0;32m    417\u001b[0m     \u001b[39m\"\u001b[39m\u001b[39m            indicator_corr_aux = df_aux[df_aux.index.get_level_values(0) == indicator][\u001b[39m\u001b[39m\\\"\u001b[39;00m\u001b[39mGDP Spearman Corr\u001b[39m\u001b[39m\\\"\u001b[39;00m\u001b[39m][0]\u001b[39m\u001b[39m\\n\u001b[39;00m\u001b[39m\"\u001b[39m,\n\u001b[0;32m    418\u001b[0m     \u001b[39m\"\u001b[39m\u001b[39m            indicator_p_value_aux = df_aux[df_aux.index.get_level_values(0) == indicator][\u001b[39m\u001b[39m\\\"\u001b[39;00m\u001b[39mP-value Spearman\u001b[39m\u001b[39m\\\"\u001b[39;00m\u001b[39m][0]\u001b[39m\u001b[39m\\n\u001b[39;00m\u001b[39m\"\u001b[39m,\n\u001b[0;32m    419\u001b[0m     \u001b[39m\"\u001b[39m\u001b[39m\\n\u001b[39;00m\u001b[39m\"\u001b[39m,\n\u001b[0;32m    420\u001b[0m     \u001b[39m\"\u001b[39m\u001b[39m            if indicator_corr_aux != nan and indicator_p_value_aux < PVALUE_VAR:\u001b[39m\u001b[39m\\n\u001b[39;00m\u001b[39m\"\u001b[39m,\n\u001b[0;32m    421\u001b[0m     \u001b[39m\"\u001b[39m\u001b[39m                if indicator_corr_pos_last < indicator_corr_aux and indicator_corr_aux > 0:\u001b[39m\u001b[39m\\n\u001b[39;00m\u001b[39m\"\u001b[39m,\n\u001b[0;32m    422\u001b[0m     \u001b[39m\"\u001b[39m\u001b[39m                    df_highest.at[indicator, \u001b[39m\u001b[39m\\\"\u001b[39;00m\u001b[39mYear range\u001b[39m\u001b[39m\\\"\u001b[39;00m\u001b[39m] = str(years[0]) + \u001b[39m\u001b[39m'\u001b[39m\u001b[39m-\u001b[39m\u001b[39m'\u001b[39m\u001b[39m + str(years[1])\u001b[39m\u001b[39m\\n\u001b[39;00m\u001b[39m\"\u001b[39m,\n\u001b[0;32m    423\u001b[0m     \u001b[39m\"\u001b[39m\u001b[39m                    df_highest.at[indicator, \u001b[39m\u001b[39m\\\"\u001b[39;00m\u001b[39mHighest positive Spearman corr\u001b[39m\u001b[39m\\\"\u001b[39;00m\u001b[39m] = indicator_corr_aux\u001b[39m\u001b[39m\\n\u001b[39;00m\u001b[39m\"\u001b[39m,\n\u001b[0;32m    424\u001b[0m     \u001b[39m\"\u001b[39m\u001b[39m                elif indicator_corr_neg_last > indicator_corr_aux and indicator_corr_aux < 0:\u001b[39m\u001b[39m\\n\u001b[39;00m\u001b[39m\"\u001b[39m,\n\u001b[0;32m    425\u001b[0m     \u001b[39m\"\u001b[39m\u001b[39m                    df_highest.at[indicator, \u001b[39m\u001b[39m\\\"\u001b[39;00m\u001b[39mYear range \u001b[39m\u001b[39m\\\"\u001b[39;00m\u001b[39m] = str(years[0]) + \u001b[39m\u001b[39m'\u001b[39m\u001b[39m-\u001b[39m\u001b[39m'\u001b[39m\u001b[39m + str(years[1])\u001b[39m\u001b[39m\\n\u001b[39;00m\u001b[39m\"\u001b[39m,\n\u001b[0;32m    426\u001b[0m     \u001b[39m\"\u001b[39m\u001b[39m                    df_highest.at[indicator, \u001b[39m\u001b[39m\\\"\u001b[39;00m\u001b[39mHighest negative Spearman corr\u001b[39m\u001b[39m\\\"\u001b[39;00m\u001b[39m] = indicator_corr_aux\u001b[39m\u001b[39m\\n\u001b[39;00m\u001b[39m\"\u001b[39m,\n\u001b[0;32m    427\u001b[0m     \u001b[39m\"\u001b[39m\u001b[39m\\n\u001b[39;00m\u001b[39m\"\u001b[39m,\n\u001b[0;32m    428\u001b[0m     \u001b[39m\"\u001b[39m\u001b[39m    df_highest = df_highest.replace(0, nan).dropna(axis=0, how=\u001b[39m\u001b[39m'\u001b[39m\u001b[39mall\u001b[39m\u001b[39m'\u001b[39m\u001b[39m).fillna(\u001b[39m\u001b[39m\\\"\u001b[39;00m\u001b[39m-\u001b[39m\u001b[39m\\\"\u001b[39;00m\u001b[39m)\u001b[39m\u001b[39m\\n\u001b[39;00m\u001b[39m\"\u001b[39m,\n\u001b[0;32m    429\u001b[0m     \u001b[39m\"\u001b[39m\u001b[39m    \u001b[39m\u001b[39m\\n\u001b[39;00m\u001b[39m\"\u001b[39m,\n\u001b[0;32m    430\u001b[0m     \u001b[39m\"\u001b[39m\u001b[39m    print(\u001b[39m\u001b[39m\\\"\u001b[39;00m\u001b[39m                                                                                    \u001b[39m\u001b[39m\\\"\u001b[39;00m\u001b[39m, end=\u001b[39m\u001b[39m\\\"\u001b[39;00m\u001b[39m\\\\\u001b[39;00m\u001b[39mr\u001b[39m\u001b[39m\\\"\u001b[39;00m\u001b[39m)\u001b[39m\u001b[39m\\n\u001b[39;00m\u001b[39m\"\u001b[39m,\n\u001b[0;32m    431\u001b[0m     \u001b[39m\"\u001b[39m\u001b[39m\\n\u001b[39;00m\u001b[39m\"\u001b[39m,\n\u001b[0;32m    432\u001b[0m     \u001b[39m\"\u001b[39m\u001b[39m\\n\u001b[39;00m\u001b[39m\"\u001b[39m,\n\u001b[0;32m    433\u001b[0m     \u001b[39m\"\u001b[39m\u001b[39m    display(df_highest)\u001b[39m\u001b[39m\\n\u001b[39;00m\u001b[39m\"\u001b[39m,\n\u001b[0;32m    434\u001b[0m     \u001b[39m\"\u001b[39m\u001b[39m\\n\u001b[39;00m\u001b[39m\"\u001b[39m,\n\u001b[0;32m    435\u001b[0m     \u001b[39m\"\u001b[39m\u001b[39mby_drop_high = widgets.Dropdown(\u001b[39m\u001b[39m\\n\u001b[39;00m\u001b[39m\"\u001b[39m,\n\u001b[0;32m    436\u001b[0m     \u001b[39m\"\u001b[39m\u001b[39m    options= [\u001b[39m\u001b[39m'\u001b[39m\u001b[39mCountry\u001b[39m\u001b[39m'\u001b[39m\u001b[39m, \u001b[39m\u001b[39m'\u001b[39m\u001b[39mRegion\u001b[39m\u001b[39m'\u001b[39m\u001b[39m],\u001b[39m\u001b[39m\\n\u001b[39;00m\u001b[39m\"\u001b[39m,\n\u001b[0;32m    437\u001b[0m     \u001b[39m\"\u001b[39m\u001b[39m    description=\u001b[39m\u001b[39m'\u001b[39m\u001b[39mBy: \u001b[39m\u001b[39m'\u001b[39m\u001b[39m,\u001b[39m\u001b[39m\\n\u001b[39;00m\u001b[39m\"\u001b[39m,\n\u001b[0;32m    438\u001b[0m     \u001b[39m\"\u001b[39m\u001b[39m)\u001b[39m\u001b[39m\\n\u001b[39;00m\u001b[39m\"\u001b[39m,\n\u001b[0;32m    439\u001b[0m     \u001b[39m\"\u001b[39m\u001b[39m\\n\u001b[39;00m\u001b[39m\"\u001b[39m,\n\u001b[0;32m    440\u001b[0m     \u001b[39m\"\u001b[39m\u001b[39mzone_drop_high = widgets.Dropdown(\u001b[39m\u001b[39m\\n\u001b[39;00m\u001b[39m\"\u001b[39m,\n\u001b[0;32m    441\u001b[0m     \u001b[39m\"\u001b[39m\u001b[39m    options= country_list,\u001b[39m\u001b[39m\\n\u001b[39;00m\u001b[39m\"\u001b[39m,\n\u001b[0;32m    442\u001b[0m     \u001b[39m\"\u001b[39m\u001b[39m    value =\u001b[39m\u001b[39m'\u001b[39m\u001b[39mAfghanistan\u001b[39m\u001b[39m'\u001b[39m\u001b[39m,\u001b[39m\u001b[39m\\n\u001b[39;00m\u001b[39m\"\u001b[39m,\n\u001b[0;32m    443\u001b[0m     \u001b[39m\"\u001b[39m\u001b[39m    description=\u001b[39m\u001b[39m'\u001b[39m\u001b[39mZone:\u001b[39m\u001b[39m'\u001b[39m\u001b[39m,\u001b[39m\u001b[39m\\n\u001b[39;00m\u001b[39m\"\u001b[39m,\n\u001b[0;32m    444\u001b[0m     \u001b[39m\"\u001b[39m\u001b[39m)\u001b[39m\u001b[39m\\n\u001b[39;00m\u001b[39m\"\u001b[39m,\n\u001b[0;32m    445\u001b[0m     \u001b[39m\"\u001b[39m\u001b[39m\\n\u001b[39;00m\u001b[39m\"\u001b[39m,\n\u001b[0;32m    446\u001b[0m     \u001b[39m\"\u001b[39m\u001b[39mwidgets.interact(table_high_country, by = by_drop_high, zone = zone_drop_high)\u001b[39m\u001b[39m\\n\u001b[39;00m\u001b[39m\"\u001b[39m\n\u001b[0;32m    447\u001b[0m    ]\n\u001b[0;32m    448\u001b[0m   },\n\u001b[0;32m    449\u001b[0m   {\n\u001b[0;32m    450\u001b[0m    \u001b[39m\"\u001b[39m\u001b[39mcell_type\u001b[39m\u001b[39m\"\u001b[39m: \u001b[39m\"\u001b[39m\u001b[39mmarkdown\u001b[39m\u001b[39m\"\u001b[39m,\n\u001b[0;32m    451\u001b[0m    \u001b[39m\"\u001b[39m\u001b[39mmetadata\u001b[39m\u001b[39m\"\u001b[39m: {},\n\u001b[0;32m    452\u001b[0m    \u001b[39m\"\u001b[39m\u001b[39msource\u001b[39m\u001b[39m\"\u001b[39m: [\n\u001b[0;32m    453\u001b[0m     \u001b[39m\"\u001b[39m\u001b[39mThis widget below has been used to check all the results throughout the programming of this notebook. It is also a great tool to see the fluctuations of the GDP and the indicators along the years. It also prints the spearman correlation and the p-value. \u001b[39m\u001b[39m\\n\u001b[39;00m\u001b[39m\"\u001b[39m,\n\u001b[0;32m    454\u001b[0m     \u001b[39m\"\u001b[39m\u001b[39m\\n\u001b[39;00m\u001b[39m\"\u001b[39m,\n\u001b[0;32m    455\u001b[0m     \u001b[39m\"\u001b[39m\u001b[39m**Remember: the correlation must be higher than 0.7 to be considered correlated and the p-value must be lower than 0.05 to have statistical significance.**\u001b[39m\u001b[39m\"\u001b[39m\n\u001b[0;32m    456\u001b[0m    ]\n\u001b[0;32m    457\u001b[0m   },\n\u001b[0;32m    458\u001b[0m   {\n\u001b[0;32m    459\u001b[0m    \u001b[39m\"\u001b[39m\u001b[39mcell_type\u001b[39m\u001b[39m\"\u001b[39m: \u001b[39m\"\u001b[39m\u001b[39mcode\u001b[39m\u001b[39m\"\u001b[39m,\n\u001b[0;32m    460\u001b[0m    \u001b[39m\"\u001b[39m\u001b[39mexecution_count\u001b[39m\u001b[39m\"\u001b[39m: \u001b[39m31\u001b[39m,\n\u001b[0;32m    461\u001b[0m    \u001b[39m\"\u001b[39m\u001b[39mmetadata\u001b[39m\u001b[39m\"\u001b[39m: {},\n\u001b[0;32m    462\u001b[0m    \u001b[39m\"\u001b[39m\u001b[39moutputs\u001b[39m\u001b[39m\"\u001b[39m: [\n\u001b[0;32m    463\u001b[0m     {\n\u001b[0;32m    464\u001b[0m      \u001b[39m\"\u001b[39m\u001b[39mdata\u001b[39m\u001b[39m\"\u001b[39m: {\n\u001b[0;32m    465\u001b[0m       \u001b[39m\"\u001b[39m\u001b[39mapplication/vnd.jupyter.widget-view+json\u001b[39m\u001b[39m\"\u001b[39m: {\n\u001b[0;32m    466\u001b[0m        \u001b[39m\"\u001b[39m\u001b[39mmodel_id\u001b[39m\u001b[39m\"\u001b[39m: \u001b[39m\"\u001b[39m\u001b[39m2bab9280fef04936a88215889dceb70b\u001b[39m\u001b[39m\"\u001b[39m,\n\u001b[0;32m    467\u001b[0m        \u001b[39m\"\u001b[39m\u001b[39mversion_major\u001b[39m\u001b[39m\"\u001b[39m: \u001b[39m2\u001b[39m,\n\u001b[0;32m    468\u001b[0m        \u001b[39m\"\u001b[39m\u001b[39mversion_minor\u001b[39m\u001b[39m\"\u001b[39m: \u001b[39m0\u001b[39m\n\u001b[0;32m    469\u001b[0m       },\n\u001b[0;32m    470\u001b[0m       \u001b[39m\"\u001b[39m\u001b[39mtext/plain\u001b[39m\u001b[39m\"\u001b[39m: [\n\u001b[0;32m    471\u001b[0m        \u001b[39m\"\u001b[39m\u001b[39minteractive(children=(Dropdown(description=\u001b[39m\u001b[39m'\u001b[39m\u001b[39mBy: \u001b[39m\u001b[39m'\u001b[39m\u001b[39m, options=(\u001b[39m\u001b[39m'\u001b[39m\u001b[39mCountry\u001b[39m\u001b[39m'\u001b[39m\u001b[39m, \u001b[39m\u001b[39m'\u001b[39m\u001b[39mRegion\u001b[39m\u001b[39m'\u001b[39m\u001b[39m), value=\u001b[39m\u001b[39m'\u001b[39m\u001b[39mCountry\u001b[39m\u001b[39m'\u001b[39m\u001b[39m), Dropdown(d…\u001b[39m\u001b[39m\"\u001b[39m\n\u001b[0;32m    472\u001b[0m       ]\n\u001b[0;32m    473\u001b[0m      },\n\u001b[0;32m    474\u001b[0m      \u001b[39m\"\u001b[39m\u001b[39mmetadata\u001b[39m\u001b[39m\"\u001b[39m: {},\n\u001b[0;32m    475\u001b[0m      \u001b[39m\"\u001b[39m\u001b[39moutput_type\u001b[39m\u001b[39m\"\u001b[39m: \u001b[39m\"\u001b[39m\u001b[39mdisplay_data\u001b[39m\u001b[39m\"\u001b[39m\n\u001b[0;32m    476\u001b[0m     },\n\u001b[0;32m    477\u001b[0m     {\n\u001b[0;32m    478\u001b[0m      \u001b[39m\"\u001b[39m\u001b[39mdata\u001b[39m\u001b[39m\"\u001b[39m: {\n\u001b[0;32m    479\u001b[0m       \u001b[39m\"\u001b[39m\u001b[39mtext/plain\u001b[39m\u001b[39m\"\u001b[39m: [\n\u001b[0;32m    480\u001b[0m        \u001b[39m\"\u001b[39m\u001b[39m<function __main__.plot_widget.<locals>.plot_year_range(by, zone, indicator, years)>\u001b[39m\u001b[39m\"\u001b[39m\n\u001b[0;32m    481\u001b[0m       ]\n\u001b[0;32m    482\u001b[0m      },\n\u001b[0;32m    483\u001b[0m      \u001b[39m\"\u001b[39m\u001b[39mexecution_count\u001b[39m\u001b[39m\"\u001b[39m: \u001b[39m31\u001b[39m,\n\u001b[0;32m    484\u001b[0m      \u001b[39m\"\u001b[39m\u001b[39mmetadata\u001b[39m\u001b[39m\"\u001b[39m: {},\n\u001b[0;32m    485\u001b[0m      \u001b[39m\"\u001b[39m\u001b[39moutput_type\u001b[39m\u001b[39m\"\u001b[39m: \u001b[39m\"\u001b[39m\u001b[39mexecute_result\u001b[39m\u001b[39m\"\u001b[39m\n\u001b[0;32m    486\u001b[0m     }\n\u001b[0;32m    487\u001b[0m    ],\n\u001b[0;32m    488\u001b[0m    \u001b[39m\"\u001b[39m\u001b[39msource\u001b[39m\u001b[39m\"\u001b[39m: [\n\u001b[0;32m    489\u001b[0m     \u001b[39m\"\u001b[39m\u001b[39m\\n\u001b[39;00m\u001b[39m\"\u001b[39m,\n\u001b[0;32m    490\u001b[0m     \u001b[39m\"\u001b[39m\u001b[39mdef plot_widget( df_gold = None, countries = None):\u001b[39m\u001b[39m\\n\u001b[39;00m\u001b[39m\"\u001b[39m,\n\u001b[0;32m    491\u001b[0m     \u001b[39m\"\u001b[39m\u001b[39m    global df_gold_index\u001b[39m\u001b[39m\\n\u001b[39;00m\u001b[39m\"\u001b[39m,\n\u001b[0;32m    492\u001b[0m     \u001b[39m\"\u001b[39m\u001b[39m    if countries != None:\u001b[39m\u001b[39m\\n\u001b[39;00m\u001b[39m\"\u001b[39m,\n\u001b[0;32m    493\u001b[0m     \u001b[39m\"\u001b[39m\u001b[39m        countries_by_region = countries\u001b[39m\u001b[39m\\n\u001b[39;00m\u001b[39m\"\u001b[39m,\n\u001b[0;32m    494\u001b[0m     \u001b[39m\"\u001b[39m\u001b[39m    if df_gold != None:\u001b[39m\u001b[39m\\n\u001b[39;00m\u001b[39m\"\u001b[39m,\n\u001b[0;32m    495\u001b[0m     \u001b[39m\"\u001b[39m\u001b[39m        df_gold_index = df_gold\u001b[39m\u001b[39m\\n\u001b[39;00m\u001b[39m\"\u001b[39m,\n\u001b[0;32m    496\u001b[0m     \u001b[39m\"\u001b[39m\u001b[39m    \u001b[39m\u001b[39m\\n\u001b[39;00m\u001b[39m\"\u001b[39m,\n\u001b[0;32m    497\u001b[0m     \u001b[39m\"\u001b[39m\u001b[39m\\n\u001b[39;00m\u001b[39m\"\u001b[39m,\n\u001b[0;32m    498\u001b[0m     \u001b[39m\"\u001b[39m\u001b[39m    def plot_year_range(by, zone, indicator, years):\u001b[39m\u001b[39m\\n\u001b[39;00m\u001b[39m\"\u001b[39m,\n\u001b[0;32m    499\u001b[0m     \u001b[39m\"\u001b[39m\u001b[39m    \u001b[39m\u001b[39m\\n\u001b[39;00m\u001b[39m\"\u001b[39m,\n\u001b[0;32m    500\u001b[0m     \u001b[39m\"\u001b[39m\u001b[39m        if by == \u001b[39m\u001b[39m'\u001b[39m\u001b[39mCountry\u001b[39m\u001b[39m'\u001b[39m\u001b[39m:\u001b[39m\u001b[39m\\n\u001b[39;00m\u001b[39m\"\u001b[39m,\n\u001b[0;32m    501\u001b[0m     \u001b[39m\"\u001b[39m\u001b[39m            if list(zone_drop_plot.options) != country_list:\u001b[39m\u001b[39m\\n\u001b[39;00m\u001b[39m\"\u001b[39m,\n\u001b[0;32m    502\u001b[0m     \u001b[39m\"\u001b[39m\u001b[39m                zone_drop_plot.options = country_list\u001b[39m\u001b[39m\\n\u001b[39;00m\u001b[39m\"\u001b[39m,\n\u001b[0;32m    503\u001b[0m     \u001b[39m\"\u001b[39m\u001b[39m                return\u001b[39m\u001b[39m\\n\u001b[39;00m\u001b[39m\"\u001b[39m,\n\u001b[0;32m    504\u001b[0m     \u001b[39m\"\u001b[39m\u001b[39m            df_zone  = df_gold_index.loc[df_gold_index.index.get_level_values(\u001b[39m\u001b[39m'\u001b[39m\u001b[39mCountry\u001b[39m\u001b[39m'\u001b[39m\u001b[39m) == zone]\u001b[39m\u001b[39m\\n\u001b[39;00m\u001b[39m\"\u001b[39m,\n\u001b[0;32m    505\u001b[0m     \u001b[39m\"\u001b[39m\u001b[39m        \u001b[39m\u001b[39m\\n\u001b[39;00m\u001b[39m\"\u001b[39m,\n\u001b[0;32m    506\u001b[0m     \u001b[39m\"\u001b[39m\u001b[39m        elif by == \u001b[39m\u001b[39m'\u001b[39m\u001b[39mRegion\u001b[39m\u001b[39m'\u001b[39m\u001b[39m:\u001b[39m\u001b[39m\\n\u001b[39;00m\u001b[39m\"\u001b[39m,\n\u001b[0;32m    507\u001b[0m     \u001b[39m\"\u001b[39m\u001b[39m            if list(zone_drop_plot.options) != region_list:\u001b[39m\u001b[39m\\n\u001b[39;00m\u001b[39m\"\u001b[39m,\n\u001b[0;32m    508\u001b[0m     \u001b[39m\"\u001b[39m\u001b[39m                zone_drop_plot.options = region_list\u001b[39m\u001b[39m\\n\u001b[39;00m\u001b[39m\"\u001b[39m,\n\u001b[0;32m    509\u001b[0m     \u001b[39m\"\u001b[39m\u001b[39m                return\u001b[39m\u001b[39m\\n\u001b[39;00m\u001b[39m\"\u001b[39m,\n\u001b[0;32m    510\u001b[0m     \u001b[39m\"\u001b[39m\u001b[39m            df_zone = countries_by_region[zone]\u001b[39m\u001b[39m\\n\u001b[39;00m\u001b[39m\"\u001b[39m,\n\u001b[0;32m    511\u001b[0m     \u001b[39m\"\u001b[39m\u001b[39m\\n\u001b[39;00m\u001b[39m\"\u001b[39m,\n\u001b[0;32m    512\u001b[0m     \u001b[39m\"\u001b[39m\u001b[39m        df_zone = df_zone.loc[(df_zone.index.get_level_values(\u001b[39m\u001b[39m\\\"\u001b[39;00m\u001b[39mYear\u001b[39m\u001b[39m\\\"\u001b[39;00m\u001b[39m) >= years[0]) & (df_zone.index.get_level_values(\u001b[39m\u001b[39m\\\"\u001b[39;00m\u001b[39mYear\u001b[39m\u001b[39m\\\"\u001b[39;00m\u001b[39m) <= years[1])]\u001b[39m\u001b[39m\\n\u001b[39;00m\u001b[39m\"\u001b[39m,\n\u001b[0;32m    513\u001b[0m     \u001b[39m\"\u001b[39m\u001b[39m        spear = stats.spearmanr(df_zone[indicator], df_zone[\u001b[39m\u001b[39m'\u001b[39m\u001b[39mGDP\u001b[39m\u001b[39m'\u001b[39m\u001b[39m])\u001b[39m\u001b[39m\\n\u001b[39;00m\u001b[39m\"\u001b[39m,\n\u001b[0;32m    514\u001b[0m     \u001b[39m\"\u001b[39m\u001b[39m        df_zone = normalize_by_country(df_zone)\u001b[39m\u001b[39m\\n\u001b[39;00m\u001b[39m\"\u001b[39m,\n\u001b[0;32m    515\u001b[0m     \u001b[39m\"\u001b[39m\u001b[39m\\n\u001b[39;00m\u001b[39m\"\u001b[39m,\n\u001b[0;32m    516\u001b[0m     \u001b[39m\"\u001b[39m\u001b[39m\\n\u001b[39;00m\u001b[39m\"\u001b[39m,\n\u001b[0;32m    517\u001b[0m     \u001b[39m\"\u001b[39m\u001b[39m        #In case if by is region it groups by year.\u001b[39m\u001b[39m\\n\u001b[39;00m\u001b[39m\"\u001b[39m,\n\u001b[0;32m    518\u001b[0m     \u001b[39m\"\u001b[39m\u001b[39m        df_zone = df_zone.loc[df_zone.index.get_level_values(by_drop_plot.value) == zone, [\u001b[39m\u001b[39m'\u001b[39m\u001b[39mGDP\u001b[39m\u001b[39m'\u001b[39m\u001b[39m, indicator]].groupby(level = \u001b[39m\u001b[39m'\u001b[39m\u001b[39mYear\u001b[39m\u001b[39m'\u001b[39m\u001b[39m).median()\u001b[39m\u001b[39m\\n\u001b[39;00m\u001b[39m\"\u001b[39m,\n\u001b[0;32m    519\u001b[0m     \u001b[39m\"\u001b[39m\u001b[39m\\n\u001b[39;00m\u001b[39m\"\u001b[39m,\n\u001b[0;32m    520\u001b[0m     \u001b[39m\"\u001b[39m\u001b[39m        print(spear)\u001b[39m\u001b[39m\\n\u001b[39;00m\u001b[39m\"\u001b[39m,\n\u001b[0;32m    521\u001b[0m     \u001b[39m\"\u001b[39m\u001b[39m        plt.figure(figsize=(6,6))\u001b[39m\u001b[39m\\n\u001b[39;00m\u001b[39m\"\u001b[39m,\n\u001b[0;32m    522\u001b[0m     \u001b[39m\"\u001b[39m\u001b[39m        plt.plot(df_zone.index.get_level_values(\u001b[39m\u001b[39m\\\"\u001b[39;00m\u001b[39mYear\u001b[39m\u001b[39m\\\"\u001b[39;00m\u001b[39m), df_zone[\u001b[39m\u001b[39m\\\"\u001b[39;00m\u001b[39mGDP\u001b[39m\u001b[39m\\\"\u001b[39;00m\u001b[39m], color=\u001b[39m\u001b[39m\\\"\u001b[39;00m\u001b[39mred\u001b[39m\u001b[39m\\\"\u001b[39;00m\u001b[39m, label = \u001b[39m\u001b[39m'\u001b[39m\u001b[39mGDP\u001b[39m\u001b[39m'\u001b[39m\u001b[39m)\u001b[39m\u001b[39m\\n\u001b[39;00m\u001b[39m\"\u001b[39m,\n\u001b[0;32m    523\u001b[0m     \u001b[39m\"\u001b[39m\u001b[39m        plt.plot(df_zone.index.get_level_values(\u001b[39m\u001b[39m\\\"\u001b[39;00m\u001b[39mYear\u001b[39m\u001b[39m\\\"\u001b[39;00m\u001b[39m), df_zone[indicator], color=\u001b[39m\u001b[39m\\\"\u001b[39;00m\u001b[39mgreen\u001b[39m\u001b[39m\\\"\u001b[39;00m\u001b[39m, label = indicator)\u001b[39m\u001b[39m\\n\u001b[39;00m\u001b[39m\"\u001b[39m,\n\u001b[0;32m    524\u001b[0m     \u001b[39m\"\u001b[39m\u001b[39m        plt.legend(loc=\u001b[39m\u001b[39m\\\"\u001b[39;00m\u001b[39mlower right\u001b[39m\u001b[39m\\\"\u001b[39;00m\u001b[39m)\u001b[39m\u001b[39m\\n\u001b[39;00m\u001b[39m\"\u001b[39m,\n\u001b[0;32m    525\u001b[0m     \u001b[39m\"\u001b[39m\u001b[39m    return plot_year_range\u001b[39m\u001b[39m\\n\u001b[39;00m\u001b[39m\"\u001b[39m,\n\u001b[0;32m    526\u001b[0m     \u001b[39m\"\u001b[39m\u001b[39m    \u001b[39m\u001b[39m\\n\u001b[39;00m\u001b[39m\"\u001b[39m,\n\u001b[0;32m    527\u001b[0m     \u001b[39m\"\u001b[39m\u001b[39mby_drop_plot = widgets.Dropdown(\u001b[39m\u001b[39m\\n\u001b[39;00m\u001b[39m\"\u001b[39m,\n\u001b[0;32m    528\u001b[0m     \u001b[39m\"\u001b[39m\u001b[39m    options= [\u001b[39m\u001b[39m'\u001b[39m\u001b[39mCountry\u001b[39m\u001b[39m'\u001b[39m\u001b[39m, \u001b[39m\u001b[39m'\u001b[39m\u001b[39mRegion\u001b[39m\u001b[39m'\u001b[39m\u001b[39m],\u001b[39m\u001b[39m\\n\u001b[39;00m\u001b[39m\"\u001b[39m,\n\u001b[0;32m    529\u001b[0m     \u001b[39m\"\u001b[39m\u001b[39m    description=\u001b[39m\u001b[39m'\u001b[39m\u001b[39mBy: \u001b[39m\u001b[39m'\u001b[39m\u001b[39m,\u001b[39m\u001b[39m\\n\u001b[39;00m\u001b[39m\"\u001b[39m,\n\u001b[0;32m    530\u001b[0m     \u001b[39m\"\u001b[39m\u001b[39m)\u001b[39m\u001b[39m\\n\u001b[39;00m\u001b[39m\"\u001b[39m,\n\u001b[0;32m    531\u001b[0m     \u001b[39m\"\u001b[39m\u001b[39m\\n\u001b[39;00m\u001b[39m\"\u001b[39m,\n\u001b[0;32m    532\u001b[0m     \u001b[39m\"\u001b[39m\u001b[39mzone_drop_plot = widgets.Dropdown(\u001b[39m\u001b[39m\\n\u001b[39;00m\u001b[39m\"\u001b[39m,\n\u001b[0;32m    533\u001b[0m     \u001b[39m\"\u001b[39m\u001b[39m    options= country_list,\u001b[39m\u001b[39m\\n\u001b[39;00m\u001b[39m\"\u001b[39m,\n\u001b[0;32m    534\u001b[0m     \u001b[39m\"\u001b[39m\u001b[39m    value=\u001b[39m\u001b[39m'\u001b[39m\u001b[39mAfghanistan\u001b[39m\u001b[39m'\u001b[39m\u001b[39m,\u001b[39m\u001b[39m\\n\u001b[39;00m\u001b[39m\"\u001b[39m,\n\u001b[0;32m    535\u001b[0m     \u001b[39m\"\u001b[39m\u001b[39m    description=\u001b[39m\u001b[39m'\u001b[39m\u001b[39mCountry: \u001b[39m\u001b[39m'\u001b[39m\u001b[39m,\u001b[39m\u001b[39m\\n\u001b[39;00m\u001b[39m\"\u001b[39m,\n\u001b[0;32m    536\u001b[0m     \u001b[39m\"\u001b[39m\u001b[39m)\u001b[39m\u001b[39m\\n\u001b[39;00m\u001b[39m\"\u001b[39m,\n\u001b[0;32m    537\u001b[0m     \u001b[39m\"\u001b[39m\u001b[39m\\n\u001b[39;00m\u001b[39m\"\u001b[39m,\n\u001b[0;32m    538\u001b[0m     \u001b[39m\"\u001b[39m\u001b[39mindicator_drop_plot = widgets.Dropdown(\u001b[39m\u001b[39m\\n\u001b[39;00m\u001b[39m\"\u001b[39m,\n\u001b[0;32m    539\u001b[0m     \u001b[39m\"\u001b[39m\u001b[39m    options= sorted(indicators),\u001b[39m\u001b[39m\\n\u001b[39;00m\u001b[39m\"\u001b[39m,\n\u001b[0;32m    540\u001b[0m     \u001b[39m\"\u001b[39m\u001b[39m    value=\u001b[39m\u001b[39m'\u001b[39m\u001b[39mAgriShareGDP\u001b[39m\u001b[39m'\u001b[39m\u001b[39m,\u001b[39m\u001b[39m\\n\u001b[39;00m\u001b[39m\"\u001b[39m,\n\u001b[0;32m    541\u001b[0m     \u001b[39m\"\u001b[39m\u001b[39m    description=\u001b[39m\u001b[39m'\u001b[39m\u001b[39mIndicator: :\u001b[39m\u001b[39m'\u001b[39m\u001b[39m,\u001b[39m\u001b[39m\\n\u001b[39;00m\u001b[39m\"\u001b[39m,\n\u001b[0;32m    542\u001b[0m     \u001b[39m\"\u001b[39m\u001b[39m)\u001b[39m\u001b[39m\\n\u001b[39;00m\u001b[39m\"\u001b[39m,\n\u001b[0;32m    543\u001b[0m     \u001b[39m\"\u001b[39m\u001b[39m\\n\u001b[39;00m\u001b[39m\"\u001b[39m,\n\u001b[0;32m    544\u001b[0m     \u001b[39m\"\u001b[39m\u001b[39mintslider_plot = widgets.IntRangeSlider(\u001b[39m\u001b[39m\\n\u001b[39;00m\u001b[39m\"\u001b[39m,\n\u001b[0;32m    545\u001b[0m     \u001b[39m\"\u001b[39m\u001b[39m    value=[min(set(df_gold[\u001b[39m\u001b[39m'\u001b[39m\u001b[39mYear\u001b[39m\u001b[39m'\u001b[39m\u001b[39m])), max(set(df_gold[\u001b[39m\u001b[39m'\u001b[39m\u001b[39mYear\u001b[39m\u001b[39m'\u001b[39m\u001b[39m]))],\u001b[39m\u001b[39m\\n\u001b[39;00m\u001b[39m\"\u001b[39m,\n\u001b[0;32m    546\u001b[0m     \u001b[39m\"\u001b[39m\u001b[39m    min= min(set(df_gold[\u001b[39m\u001b[39m'\u001b[39m\u001b[39mYear\u001b[39m\u001b[39m'\u001b[39m\u001b[39m])),\u001b[39m\u001b[39m\\n\u001b[39;00m\u001b[39m\"\u001b[39m,\n\u001b[0;32m    547\u001b[0m     \u001b[39m\"\u001b[39m\u001b[39m    max= max(set(df_gold[\u001b[39m\u001b[39m'\u001b[39m\u001b[39mYear\u001b[39m\u001b[39m'\u001b[39m\u001b[39m])),\u001b[39m\u001b[39m\\n\u001b[39;00m\u001b[39m\"\u001b[39m,\n\u001b[0;32m    548\u001b[0m     \u001b[39m\"\u001b[39m\u001b[39m    step=1,\u001b[39m\u001b[39m\\n\u001b[39;00m\u001b[39m\"\u001b[39m,\n\u001b[0;32m    549\u001b[0m     \u001b[39m\"\u001b[39m\u001b[39m    description=\u001b[39m\u001b[39m'\u001b[39m\u001b[39mYears:\u001b[39m\u001b[39m'\u001b[39m\u001b[39m,\u001b[39m\u001b[39m\\n\u001b[39;00m\u001b[39m\"\u001b[39m,\n\u001b[0;32m    550\u001b[0m     \u001b[39m\"\u001b[39m\u001b[39m)\u001b[39m\u001b[39m\\n\u001b[39;00m\u001b[39m\"\u001b[39m,\n\u001b[0;32m    551\u001b[0m     \u001b[39m\"\u001b[39m\u001b[39m\\n\u001b[39;00m\u001b[39m\"\u001b[39m,\n\u001b[0;32m    552\u001b[0m     \u001b[39m\"\u001b[39m\u001b[39m# TODO By Region: Say Y axis is Qualitative (Not real values but Normalized to observe evolution vs GDP - Tendendency)\u001b[39m\u001b[39m\\n\u001b[39;00m\u001b[39m\"\u001b[39m,\n\u001b[0;32m    553\u001b[0m     \u001b[39m\"\u001b[39m\u001b[39m\\n\u001b[39;00m\u001b[39m\"\u001b[39m,\n\u001b[0;32m    554\u001b[0m     \u001b[39m\"\u001b[39m\u001b[39mwidgets.interact(plot_widget(), by = by_drop_plot,  zone = zone_drop_plot, indicator = indicator_drop_plot, years = intslider_plot)\u001b[39m\u001b[39m\"\u001b[39m\n\u001b[0;32m    555\u001b[0m    ]\n\u001b[0;32m    556\u001b[0m   },\n\u001b[0;32m    557\u001b[0m   {\n\u001b[0;32m    558\u001b[0m    \u001b[39m\"\u001b[39m\u001b[39mcell_type\u001b[39m\u001b[39m\"\u001b[39m: \u001b[39m\"\u001b[39m\u001b[39mcode\u001b[39m\u001b[39m\"\u001b[39m,\n\u001b[0;32m    559\u001b[0m    \u001b[39m\"\u001b[39m\u001b[39mexecution_count\u001b[39m\u001b[39m\"\u001b[39m: null,\n\u001b[0;32m    560\u001b[0m    \u001b[39m\"\u001b[39m\u001b[39mmetadata\u001b[39m\u001b[39m\"\u001b[39m: {},\n\u001b[0;32m    561\u001b[0m    \u001b[39m\"\u001b[39m\u001b[39moutputs\u001b[39m\u001b[39m\"\u001b[39m: [],\n\u001b[0;32m    562\u001b[0m    \u001b[39m\"\u001b[39m\u001b[39msource\u001b[39m\u001b[39m\"\u001b[39m: []\n\u001b[0;32m    563\u001b[0m   }\n\u001b[0;32m    564\u001b[0m  ],\n\u001b[0;32m    565\u001b[0m  \u001b[39m\"\u001b[39m\u001b[39mmetadata\u001b[39m\u001b[39m\"\u001b[39m: {\n\u001b[0;32m    566\u001b[0m   \u001b[39m\"\u001b[39m\u001b[39mkernelspec\u001b[39m\u001b[39m\"\u001b[39m: {\n\u001b[0;32m    567\u001b[0m    \u001b[39m\"\u001b[39m\u001b[39mdisplay_name\u001b[39m\u001b[39m\"\u001b[39m: \u001b[39m\"\u001b[39m\u001b[39mPython 3 (ipykernel)\u001b[39m\u001b[39m\"\u001b[39m,\n\u001b[0;32m    568\u001b[0m    \u001b[39m\"\u001b[39m\u001b[39mlanguage\u001b[39m\u001b[39m\"\u001b[39m: \u001b[39m\"\u001b[39m\u001b[39mpython\u001b[39m\u001b[39m\"\u001b[39m,\n\u001b[0;32m    569\u001b[0m    \u001b[39m\"\u001b[39m\u001b[39mname\u001b[39m\u001b[39m\"\u001b[39m: \u001b[39m\"\u001b[39m\u001b[39mpython3\u001b[39m\u001b[39m\"\u001b[39m\n\u001b[0;32m    570\u001b[0m   },\n\u001b[0;32m    571\u001b[0m   \u001b[39m\"\u001b[39m\u001b[39mlanguage_info\u001b[39m\u001b[39m\"\u001b[39m: {\n\u001b[0;32m    572\u001b[0m    \u001b[39m\"\u001b[39m\u001b[39mcodemirror_mode\u001b[39m\u001b[39m\"\u001b[39m: {\n\u001b[0;32m    573\u001b[0m     \u001b[39m\"\u001b[39m\u001b[39mname\u001b[39m\u001b[39m\"\u001b[39m: \u001b[39m\"\u001b[39m\u001b[39mipython\u001b[39m\u001b[39m\"\u001b[39m,\n\u001b[0;32m    574\u001b[0m     \u001b[39m\"\u001b[39m\u001b[39mversion\u001b[39m\u001b[39m\"\u001b[39m: \u001b[39m3\u001b[39m\n\u001b[0;32m    575\u001b[0m    },\n\u001b[0;32m    576\u001b[0m    \u001b[39m\"\u001b[39m\u001b[39mfile_extension\u001b[39m\u001b[39m\"\u001b[39m: \u001b[39m\"\u001b[39m\u001b[39m.py\u001b[39m\u001b[39m\"\u001b[39m,\n\u001b[0;32m    577\u001b[0m    \u001b[39m\"\u001b[39m\u001b[39mmimetype\u001b[39m\u001b[39m\"\u001b[39m: \u001b[39m\"\u001b[39m\u001b[39mtext/x-python\u001b[39m\u001b[39m\"\u001b[39m,\n\u001b[0;32m    578\u001b[0m    \u001b[39m\"\u001b[39m\u001b[39mname\u001b[39m\u001b[39m\"\u001b[39m: \u001b[39m\"\u001b[39m\u001b[39mpython\u001b[39m\u001b[39m\"\u001b[39m,\n\u001b[0;32m    579\u001b[0m    \u001b[39m\"\u001b[39m\u001b[39mnbconvert_exporter\u001b[39m\u001b[39m\"\u001b[39m: \u001b[39m\"\u001b[39m\u001b[39mpython\u001b[39m\u001b[39m\"\u001b[39m,\n\u001b[0;32m    580\u001b[0m    \u001b[39m\"\u001b[39m\u001b[39mpygments_lexer\u001b[39m\u001b[39m\"\u001b[39m: \u001b[39m\"\u001b[39m\u001b[39mipython3\u001b[39m\u001b[39m\"\u001b[39m,\n\u001b[0;32m    581\u001b[0m    \u001b[39m\"\u001b[39m\u001b[39mversion\u001b[39m\u001b[39m\"\u001b[39m: \u001b[39m\"\u001b[39m\u001b[39m3.10.5\u001b[39m\u001b[39m\"\u001b[39m\n\u001b[0;32m    582\u001b[0m   },\n\u001b[0;32m    583\u001b[0m   \u001b[39m\"\u001b[39m\u001b[39mvscode\u001b[39m\u001b[39m\"\u001b[39m: {\n\u001b[0;32m    584\u001b[0m    \u001b[39m\"\u001b[39m\u001b[39minterpreter\u001b[39m\u001b[39m\"\u001b[39m: {\n\u001b[0;32m    585\u001b[0m     \u001b[39m\"\u001b[39m\u001b[39mhash\u001b[39m\u001b[39m\"\u001b[39m: \u001b[39m\"\u001b[39m\u001b[39m44718ba4235bc6fc2135f9d8856f170c8312ddd29b08710a5ea28d42169e623e\u001b[39m\u001b[39m\"\u001b[39m\n\u001b[0;32m    586\u001b[0m    }\n\u001b[0;32m    587\u001b[0m   }\n\u001b[0;32m    588\u001b[0m  },\n\u001b[0;32m    589\u001b[0m  \u001b[39m\"\u001b[39m\u001b[39mnbformat\u001b[39m\u001b[39m\"\u001b[39m: \u001b[39m4\u001b[39m,\n\u001b[0;32m    590\u001b[0m  \u001b[39m\"\u001b[39m\u001b[39mnbformat_minor\u001b[39m\u001b[39m\"\u001b[39m: \u001b[39m2\u001b[39m\n\u001b[0;32m    591\u001b[0m }\n",
      "File \u001b[1;32mc:\\Users\\smanoles\\Documents\\GitHub\\python-data-driven-decisions\\.venv\\lib\\site-packages\\pandas\\core\\generic.py:1527\u001b[0m, in \u001b[0;36mNDFrame.__nonzero__\u001b[1;34m(self)\u001b[0m\n\u001b[0;32m   1525\u001b[0m \u001b[39m@final\u001b[39m\n\u001b[0;32m   1526\u001b[0m \u001b[39mdef\u001b[39;00m \u001b[39m__nonzero__\u001b[39m(\u001b[39mself\u001b[39m):\n\u001b[1;32m-> 1527\u001b[0m     \u001b[39mraise\u001b[39;00m \u001b[39mValueError\u001b[39;00m(\n\u001b[0;32m   1528\u001b[0m         \u001b[39mf\u001b[39m\u001b[39m\"\u001b[39m\u001b[39mThe truth value of a \u001b[39m\u001b[39m{\u001b[39;00m\u001b[39mtype\u001b[39m(\u001b[39mself\u001b[39m)\u001b[39m.\u001b[39m\u001b[39m__name__\u001b[39m\u001b[39m}\u001b[39;00m\u001b[39m is ambiguous. \u001b[39m\u001b[39m\"\u001b[39m\n\u001b[0;32m   1529\u001b[0m         \u001b[39m\"\u001b[39m\u001b[39mUse a.empty, a.bool(), a.item(), a.any() or a.all().\u001b[39m\u001b[39m\"\u001b[39m\n\u001b[0;32m   1530\u001b[0m     )\n",
      "\u001b[1;31mValueError\u001b[0m: The truth value of a DataFrame is ambiguous. Use a.empty, a.bool(), a.item(), a.any() or a.all()."
     ]
    }
   ],
   "source": [
    "\n",
    "by_drop_plot = widgets.Dropdown(\n",
    "    options= ['Country', 'Region'],\n",
    "    description='By: ',\n",
    ")\n",
    "\n",
    "zone_drop_plot = widgets.Dropdown(\n",
    "    options= country_list,\n",
    "    value='Afghanistan',\n",
    "    description='Country: ',\n",
    ")\n",
    "\n",
    "indicator_drop_plot = widgets.Dropdown(\n",
    "    options= sorted(indicators),\n",
    "    value='AgriShareGDP',\n",
    "    description='Indicator: :',\n",
    ")\n",
    "\n",
    "intslider_plot = widgets.IntRangeSlider(\n",
    "    value=[min_year, max_year],\n",
    "    min= min_year,\n",
    "    max= max_year,\n",
    "    step=1,\n",
    "    description='Years:',\n",
    ")\n",
    "\n",
    "# TODO By Region: Say Y axis is Qualitative (Not real values but Normalized to observe evolution vs GDP - Tendendency)\n",
    "\n",
    "widgets.interact(Nbook_Times.plot_widget(df_gold, countries_by_region), by = by_drop_plot,  zone = zone_drop_plot, indicator = indicator_drop_plot, years = intslider_plot)"
   ]
  },
  {
   "cell_type": "code",
   "execution_count": null,
   "metadata": {},
   "outputs": [],
   "source": []
  }
 ],
 "metadata": {
  "kernelspec": {
   "display_name": "Python 3.10.5 ('.venv': poetry)",
   "language": "python",
   "name": "python3"
  },
  "language_info": {
   "codemirror_mode": {
    "name": "ipython",
    "version": 3
   },
   "file_extension": ".py",
   "mimetype": "text/x-python",
   "name": "python",
   "nbconvert_exporter": "python",
   "pygments_lexer": "ipython3",
   "version": "3.10.5"
  },
  "orig_nbformat": 4,
  "vscode": {
   "interpreter": {
    "hash": "44718ba4235bc6fc2135f9d8856f170c8312ddd29b08710a5ea28d42169e623e"
   }
  }
 },
 "nbformat": 4,
 "nbformat_minor": 2
}
