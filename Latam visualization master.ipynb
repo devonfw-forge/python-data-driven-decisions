{
 "cells": [
  {
   "cell_type": "markdown",
   "metadata": {},
   "source": [
    "# Correlation matrix and visualization of variables and GDP"
   ]
  },
  {
   "cell_type": "markdown",
   "metadata": {},
   "source": [
    "### This is the master notebook, please copy and create a new one for each group."
   ]
  },
  {
   "cell_type": "code",
   "execution_count": 10,
   "metadata": {},
   "outputs": [],
   "source": [
    "import numpy as np\n",
    "from scipy import stats\n",
    "from scipy.stats import shapiro\n",
    "import pandas as pd\n",
    "import matplotlib.pyplot as plt\n",
    "import warnings\n",
    "warnings.filterwarnings(\"ignore\")"
   ]
  },
  {
   "cell_type": "code",
   "execution_count": 11,
   "metadata": {},
   "outputs": [
    {
     "data": {
      "text/html": [
       "<div>\n",
       "<style scoped>\n",
       "    .dataframe tbody tr th:only-of-type {\n",
       "        vertical-align: middle;\n",
       "    }\n",
       "\n",
       "    .dataframe tbody tr th {\n",
       "        vertical-align: top;\n",
       "    }\n",
       "\n",
       "    .dataframe thead th {\n",
       "        text-align: right;\n",
       "    }\n",
       "</style>\n",
       "<table border=\"1\" class=\"dataframe\">\n",
       "  <thead>\n",
       "    <tr style=\"text-align: right;\">\n",
       "      <th></th>\n",
       "      <th>Unnamed: 0</th>\n",
       "      <th>Country</th>\n",
       "      <th>Year</th>\n",
       "      <th>Alcohol per capita</th>\n",
       "      <th>Education GExp</th>\n",
       "      <th>Employment-agriculture</th>\n",
       "      <th>Employment-industry</th>\n",
       "      <th>Employment-services</th>\n",
       "      <th>Exports-Commercial services</th>\n",
       "      <th>Exports-G&amp;S</th>\n",
       "      <th>...</th>\n",
       "      <th>Literacy rate</th>\n",
       "      <th>Mortality-infants</th>\n",
       "      <th>Mortality-pollution</th>\n",
       "      <th>Net migration</th>\n",
       "      <th>Ninis</th>\n",
       "      <th>R&amp;D GExp</th>\n",
       "      <th>Renewable electricity</th>\n",
       "      <th>Suicide</th>\n",
       "      <th>Workers high education</th>\n",
       "      <th>Continent</th>\n",
       "    </tr>\n",
       "  </thead>\n",
       "  <tbody>\n",
       "    <tr>\n",
       "      <th>0</th>\n",
       "      <td>880</td>\n",
       "      <td>MEX</td>\n",
       "      <td>1990</td>\n",
       "      <td>0.967949</td>\n",
       "      <td>0.000000</td>\n",
       "      <td>1.000000</td>\n",
       "      <td>0.468438</td>\n",
       "      <td>0.000000</td>\n",
       "      <td>0.000000</td>\n",
       "      <td>0.000000</td>\n",
       "      <td>...</td>\n",
       "      <td>0.000000</td>\n",
       "      <td>1.000000</td>\n",
       "      <td>NaN</td>\n",
       "      <td>0.139214</td>\n",
       "      <td>0.814433</td>\n",
       "      <td>0.000000</td>\n",
       "      <td>0.000000</td>\n",
       "      <td>0.00000</td>\n",
       "      <td>0.497584</td>\n",
       "      <td>Latam</td>\n",
       "    </tr>\n",
       "    <tr>\n",
       "      <th>1</th>\n",
       "      <td>881</td>\n",
       "      <td>MEX</td>\n",
       "      <td>1991</td>\n",
       "      <td>0.967949</td>\n",
       "      <td>0.000000</td>\n",
       "      <td>1.000000</td>\n",
       "      <td>0.468438</td>\n",
       "      <td>0.000000</td>\n",
       "      <td>0.086627</td>\n",
       "      <td>0.005844</td>\n",
       "      <td>...</td>\n",
       "      <td>0.038082</td>\n",
       "      <td>0.941673</td>\n",
       "      <td>NaN</td>\n",
       "      <td>0.139214</td>\n",
       "      <td>0.814433</td>\n",
       "      <td>0.000000</td>\n",
       "      <td>0.000000</td>\n",
       "      <td>0.00000</td>\n",
       "      <td>0.497584</td>\n",
       "      <td>Latam</td>\n",
       "    </tr>\n",
       "    <tr>\n",
       "      <th>2</th>\n",
       "      <td>882</td>\n",
       "      <td>MEX</td>\n",
       "      <td>1992</td>\n",
       "      <td>0.967949</td>\n",
       "      <td>0.000000</td>\n",
       "      <td>0.980256</td>\n",
       "      <td>0.428572</td>\n",
       "      <td>0.033030</td>\n",
       "      <td>0.159343</td>\n",
       "      <td>0.014734</td>\n",
       "      <td>...</td>\n",
       "      <td>0.076165</td>\n",
       "      <td>0.884159</td>\n",
       "      <td>NaN</td>\n",
       "      <td>0.139214</td>\n",
       "      <td>0.814433</td>\n",
       "      <td>0.000000</td>\n",
       "      <td>0.277981</td>\n",
       "      <td>0.00000</td>\n",
       "      <td>0.497584</td>\n",
       "      <td>Latam</td>\n",
       "    </tr>\n",
       "    <tr>\n",
       "      <th>3</th>\n",
       "      <td>883</td>\n",
       "      <td>MEX</td>\n",
       "      <td>1993</td>\n",
       "      <td>0.967949</td>\n",
       "      <td>0.358272</td>\n",
       "      <td>0.959350</td>\n",
       "      <td>0.378738</td>\n",
       "      <td>0.070615</td>\n",
       "      <td>0.220628</td>\n",
       "      <td>0.028455</td>\n",
       "      <td>...</td>\n",
       "      <td>0.114247</td>\n",
       "      <td>0.828258</td>\n",
       "      <td>NaN</td>\n",
       "      <td>0.111371</td>\n",
       "      <td>0.814433</td>\n",
       "      <td>0.000000</td>\n",
       "      <td>0.363688</td>\n",
       "      <td>0.00000</td>\n",
       "      <td>0.497584</td>\n",
       "      <td>Latam</td>\n",
       "    </tr>\n",
       "    <tr>\n",
       "      <th>4</th>\n",
       "      <td>884</td>\n",
       "      <td>MEX</td>\n",
       "      <td>1994</td>\n",
       "      <td>0.967949</td>\n",
       "      <td>0.716544</td>\n",
       "      <td>0.930314</td>\n",
       "      <td>0.355482</td>\n",
       "      <td>0.107062</td>\n",
       "      <td>0.383841</td>\n",
       "      <td>0.049046</td>\n",
       "      <td>...</td>\n",
       "      <td>0.152329</td>\n",
       "      <td>0.773986</td>\n",
       "      <td>NaN</td>\n",
       "      <td>0.083529</td>\n",
       "      <td>0.814433</td>\n",
       "      <td>0.000000</td>\n",
       "      <td>0.284184</td>\n",
       "      <td>0.00000</td>\n",
       "      <td>0.497584</td>\n",
       "      <td>Latam</td>\n",
       "    </tr>\n",
       "    <tr>\n",
       "      <th>...</th>\n",
       "      <td>...</td>\n",
       "      <td>...</td>\n",
       "      <td>...</td>\n",
       "      <td>...</td>\n",
       "      <td>...</td>\n",
       "      <td>...</td>\n",
       "      <td>...</td>\n",
       "      <td>...</td>\n",
       "      <td>...</td>\n",
       "      <td>...</td>\n",
       "      <td>...</td>\n",
       "      <td>...</td>\n",
       "      <td>...</td>\n",
       "      <td>...</td>\n",
       "      <td>...</td>\n",
       "      <td>...</td>\n",
       "      <td>...</td>\n",
       "      <td>...</td>\n",
       "      <td>...</td>\n",
       "      <td>...</td>\n",
       "      <td>...</td>\n",
       "    </tr>\n",
       "    <tr>\n",
       "      <th>246</th>\n",
       "      <td>342</td>\n",
       "      <td>CRI</td>\n",
       "      <td>2016</td>\n",
       "      <td>0.046414</td>\n",
       "      <td>0.714923</td>\n",
       "      <td>0.288750</td>\n",
       "      <td>0.215447</td>\n",
       "      <td>0.751260</td>\n",
       "      <td>0.813167</td>\n",
       "      <td>0.828978</td>\n",
       "      <td>...</td>\n",
       "      <td>0.956392</td>\n",
       "      <td>0.109116</td>\n",
       "      <td>NaN</td>\n",
       "      <td>0.015366</td>\n",
       "      <td>0.779070</td>\n",
       "      <td>0.621510</td>\n",
       "      <td>1.000000</td>\n",
       "      <td>0.78125</td>\n",
       "      <td>0.108000</td>\n",
       "      <td>Latam</td>\n",
       "    </tr>\n",
       "    <tr>\n",
       "      <th>247</th>\n",
       "      <td>343</td>\n",
       "      <td>CRI</td>\n",
       "      <td>2017</td>\n",
       "      <td>0.092827</td>\n",
       "      <td>0.857461</td>\n",
       "      <td>0.335000</td>\n",
       "      <td>0.199187</td>\n",
       "      <td>0.739496</td>\n",
       "      <td>0.819092</td>\n",
       "      <td>0.901126</td>\n",
       "      <td>...</td>\n",
       "      <td>0.978196</td>\n",
       "      <td>0.098066</td>\n",
       "      <td>NaN</td>\n",
       "      <td>0.019207</td>\n",
       "      <td>0.646512</td>\n",
       "      <td>0.569895</td>\n",
       "      <td>1.000000</td>\n",
       "      <td>0.28125</td>\n",
       "      <td>0.150666</td>\n",
       "      <td>Latam</td>\n",
       "    </tr>\n",
       "    <tr>\n",
       "      <th>248</th>\n",
       "      <td>344</td>\n",
       "      <td>CRI</td>\n",
       "      <td>2018</td>\n",
       "      <td>0.139241</td>\n",
       "      <td>1.000000</td>\n",
       "      <td>0.312500</td>\n",
       "      <td>0.323171</td>\n",
       "      <td>0.681232</td>\n",
       "      <td>0.938219</td>\n",
       "      <td>0.963286</td>\n",
       "      <td>...</td>\n",
       "      <td>1.000000</td>\n",
       "      <td>0.078729</td>\n",
       "      <td>NaN</td>\n",
       "      <td>0.019207</td>\n",
       "      <td>0.395349</td>\n",
       "      <td>0.380715</td>\n",
       "      <td>1.000000</td>\n",
       "      <td>0.62500</td>\n",
       "      <td>0.117333</td>\n",
       "      <td>Latam</td>\n",
       "    </tr>\n",
       "    <tr>\n",
       "      <th>249</th>\n",
       "      <td>345</td>\n",
       "      <td>CRI</td>\n",
       "      <td>2019</td>\n",
       "      <td>0.139241</td>\n",
       "      <td>0.835635</td>\n",
       "      <td>0.258750</td>\n",
       "      <td>0.234756</td>\n",
       "      <td>0.753501</td>\n",
       "      <td>1.000000</td>\n",
       "      <td>1.000000</td>\n",
       "      <td>...</td>\n",
       "      <td>1.000000</td>\n",
       "      <td>0.046961</td>\n",
       "      <td>NaN</td>\n",
       "      <td>0.019207</td>\n",
       "      <td>0.134884</td>\n",
       "      <td>0.380715</td>\n",
       "      <td>1.000000</td>\n",
       "      <td>0.90625</td>\n",
       "      <td>0.653333</td>\n",
       "      <td>Latam</td>\n",
       "    </tr>\n",
       "    <tr>\n",
       "      <th>250</th>\n",
       "      <td>346</td>\n",
       "      <td>CRI</td>\n",
       "      <td>2020</td>\n",
       "      <td>0.139241</td>\n",
       "      <td>0.513304</td>\n",
       "      <td>0.258750</td>\n",
       "      <td>0.234756</td>\n",
       "      <td>0.753501</td>\n",
       "      <td>0.758953</td>\n",
       "      <td>0.884100</td>\n",
       "      <td>...</td>\n",
       "      <td>1.000000</td>\n",
       "      <td>0.000000</td>\n",
       "      <td>NaN</td>\n",
       "      <td>0.019207</td>\n",
       "      <td>0.660465</td>\n",
       "      <td>0.380715</td>\n",
       "      <td>1.000000</td>\n",
       "      <td>0.90625</td>\n",
       "      <td>0.417333</td>\n",
       "      <td>Latam</td>\n",
       "    </tr>\n",
       "  </tbody>\n",
       "</table>\n",
       "<p>251 rows × 26 columns</p>\n",
       "</div>"
      ],
      "text/plain": [
       "     Unnamed: 0 Country  Year  Alcohol per capita  Education GExp  \\\n",
       "0           880     MEX  1990            0.967949        0.000000   \n",
       "1           881     MEX  1991            0.967949        0.000000   \n",
       "2           882     MEX  1992            0.967949        0.000000   \n",
       "3           883     MEX  1993            0.967949        0.358272   \n",
       "4           884     MEX  1994            0.967949        0.716544   \n",
       "..          ...     ...   ...                 ...             ...   \n",
       "246         342     CRI  2016            0.046414        0.714923   \n",
       "247         343     CRI  2017            0.092827        0.857461   \n",
       "248         344     CRI  2018            0.139241        1.000000   \n",
       "249         345     CRI  2019            0.139241        0.835635   \n",
       "250         346     CRI  2020            0.139241        0.513304   \n",
       "\n",
       "     Employment-agriculture  Employment-industry  Employment-services  \\\n",
       "0                  1.000000             0.468438             0.000000   \n",
       "1                  1.000000             0.468438             0.000000   \n",
       "2                  0.980256             0.428572             0.033030   \n",
       "3                  0.959350             0.378738             0.070615   \n",
       "4                  0.930314             0.355482             0.107062   \n",
       "..                      ...                  ...                  ...   \n",
       "246                0.288750             0.215447             0.751260   \n",
       "247                0.335000             0.199187             0.739496   \n",
       "248                0.312500             0.323171             0.681232   \n",
       "249                0.258750             0.234756             0.753501   \n",
       "250                0.258750             0.234756             0.753501   \n",
       "\n",
       "     Exports-Commercial services  Exports-G&S  ...  Literacy rate  \\\n",
       "0                       0.000000     0.000000  ...       0.000000   \n",
       "1                       0.086627     0.005844  ...       0.038082   \n",
       "2                       0.159343     0.014734  ...       0.076165   \n",
       "3                       0.220628     0.028455  ...       0.114247   \n",
       "4                       0.383841     0.049046  ...       0.152329   \n",
       "..                           ...          ...  ...            ...   \n",
       "246                     0.813167     0.828978  ...       0.956392   \n",
       "247                     0.819092     0.901126  ...       0.978196   \n",
       "248                     0.938219     0.963286  ...       1.000000   \n",
       "249                     1.000000     1.000000  ...       1.000000   \n",
       "250                     0.758953     0.884100  ...       1.000000   \n",
       "\n",
       "     Mortality-infants  Mortality-pollution  Net migration     Ninis  \\\n",
       "0             1.000000                  NaN       0.139214  0.814433   \n",
       "1             0.941673                  NaN       0.139214  0.814433   \n",
       "2             0.884159                  NaN       0.139214  0.814433   \n",
       "3             0.828258                  NaN       0.111371  0.814433   \n",
       "4             0.773986                  NaN       0.083529  0.814433   \n",
       "..                 ...                  ...            ...       ...   \n",
       "246           0.109116                  NaN       0.015366  0.779070   \n",
       "247           0.098066                  NaN       0.019207  0.646512   \n",
       "248           0.078729                  NaN       0.019207  0.395349   \n",
       "249           0.046961                  NaN       0.019207  0.134884   \n",
       "250           0.000000                  NaN       0.019207  0.660465   \n",
       "\n",
       "     R&D GExp  Renewable electricity  Suicide  Workers high education  \\\n",
       "0    0.000000               0.000000  0.00000                0.497584   \n",
       "1    0.000000               0.000000  0.00000                0.497584   \n",
       "2    0.000000               0.277981  0.00000                0.497584   \n",
       "3    0.000000               0.363688  0.00000                0.497584   \n",
       "4    0.000000               0.284184  0.00000                0.497584   \n",
       "..        ...                    ...      ...                     ...   \n",
       "246  0.621510               1.000000  0.78125                0.108000   \n",
       "247  0.569895               1.000000  0.28125                0.150666   \n",
       "248  0.380715               1.000000  0.62500                0.117333   \n",
       "249  0.380715               1.000000  0.90625                0.653333   \n",
       "250  0.380715               1.000000  0.90625                0.417333   \n",
       "\n",
       "     Continent  \n",
       "0        Latam  \n",
       "1        Latam  \n",
       "2        Latam  \n",
       "3        Latam  \n",
       "4        Latam  \n",
       "..         ...  \n",
       "246      Latam  \n",
       "247      Latam  \n",
       "248      Latam  \n",
       "249      Latam  \n",
       "250      Latam  \n",
       "\n",
       "[251 rows x 26 columns]"
      ]
     },
     "execution_count": 11,
     "metadata": {},
     "output_type": "execute_result"
    }
   ],
   "source": [
    "df= pd.read_csv (os.getcwd()+'\\\\Data'+'\\\\Latam.csv')\n",
    "df"
   ]
  },
  {
   "cell_type": "markdown",
   "metadata": {},
   "source": [
    "## Visualization"
   ]
  },
  {
   "cell_type": "markdown",
   "metadata": {},
   "source": [
    "STEP 0: Line graphs by country to anticipate which correlations are we looking for."
   ]
  },
  {
   "cell_type": "code",
   "execution_count": 12,
   "metadata": {},
   "outputs": [
    {
     "name": "stdout",
     "output_type": "stream",
     "text": [
      "Requirement already satisfied: plotly in c:\\users\\mferna38\\documents\\github\\python-data-driven-decisions\\.venv\\lib\\site-packages (5.9.0)\n",
      "Requirement already satisfied: tenacity>=6.2.0 in c:\\users\\mferna38\\documents\\github\\python-data-driven-decisions\\.venv\\lib\\site-packages (from plotly) (8.0.1)\n",
      "Note: you may need to restart the kernel to use updated packages.\n"
     ]
    },
    {
     "name": "stderr",
     "output_type": "stream",
     "text": [
      "WARNING: You are using pip version 22.0.3; however, version 22.1.2 is available.\n",
      "You should consider upgrading via the 'c:\\Users\\mferna38\\Documents\\GitHub\\python-data-driven-decisions\\.venv\\Scripts\\python.exe -m pip install --upgrade pip' command.\n"
     ]
    }
   ],
   "source": [
    "pip install plotly"
   ]
  },
  {
   "cell_type": "code",
   "execution_count": 13,
   "metadata": {},
   "outputs": [],
   "source": [
    "import plotly.express as px"
   ]
  },
  {
   "cell_type": "code",
   "execution_count": 14,
   "metadata": {},
   "outputs": [],
   "source": [
    "myvariables=['Alcohol per capita',\n",
    " 'Education GExp',\n",
    " 'Employment-agriculture',\n",
    " 'Employment-industry',\n",
    " 'Employment-services',\n",
    " 'Exports-Commercial services',\n",
    " 'Exports-G&S',\n",
    " 'Fertility rate',\n",
    " 'Foreign investment',\n",
    " 'GDP',\n",
    " 'Health services use',\n",
    " 'International taxes',\n",
    " 'Literacy rate',\n",
    " 'Mortality-infants',\n",
    " 'Net migration',\n",
    " 'Ninis',\n",
    " 'R&D GExp',\n",
    " 'Renewable electricity',\n",
    " 'Suicide',\n",
    " 'Workers high education']\n",
    "latam_list=['MEX','BRA','ARG','PER','VEN','COL','CHL','PCZ','CRI']"
   ]
  },
  {
   "cell_type": "code",
   "execution_count": 15,
   "metadata": {},
   "outputs": [
    {
     "data": {
      "application/vnd.plotly.v1+json": {
       "config": {
        "plotlyServerURL": "https://plot.ly"
       },
       "data": [
        {
         "hovertemplate": "variable=Alcohol per capita<br>Year=%{x}<br>value=%{y}<extra></extra>",
         "legendgroup": "Alcohol per capita",
         "line": {
          "color": "#636efa",
          "dash": "solid"
         },
         "marker": {
          "symbol": "circle"
         },
         "mode": "lines",
         "name": "Alcohol per capita",
         "orientation": "v",
         "showlegend": true,
         "type": "scatter",
         "x": [
          1990,
          1991,
          1992,
          1993,
          1994,
          1995,
          1996,
          1997,
          1998,
          1999,
          2000,
          2001,
          2002,
          2003,
          2004,
          2005,
          2006,
          2007,
          2008,
          2009,
          2010,
          2011,
          2012,
          2013,
          2014,
          2015,
          2016,
          2017,
          2018,
          2019,
          2020
         ],
         "xaxis": "x",
         "y": [
          0.9679487179487176,
          0.9679487179487176,
          0.9679487179487176,
          0.9679487179487176,
          0.9679487179487176,
          0.9679487179487176,
          0.9679487179487176,
          0.9679487179487176,
          0.9679487179487176,
          0.9679487179487176,
          0.9679487179487176,
          0.9743589743589738,
          0.9807692307692306,
          0.9871794871794868,
          0.9935897435897436,
          1,
          0.837179487179487,
          0.6743589743589744,
          0.5115384615384614,
          0.3487179487179489,
          0.1858974358974358,
          0.1487179487179488,
          0.1115384615384617,
          0.0743589743589741,
          0.037179487179487,
          0,
          0.0170940170940169,
          0.0341880341880344,
          0.0512820512820513,
          0.0512820512820513,
          0.0512820512820513
         ],
         "yaxis": "y"
        },
        {
         "hovertemplate": "variable=Education GExp<br>Year=%{x}<br>value=%{y}<extra></extra>",
         "legendgroup": "Education GExp",
         "line": {
          "color": "#EF553B",
          "dash": "solid"
         },
         "marker": {
          "symbol": "circle"
         },
         "mode": "lines",
         "name": "Education GExp",
         "orientation": "v",
         "showlegend": true,
         "type": "scatter",
         "x": [
          1990,
          1991,
          1992,
          1993,
          1994,
          1995,
          1996,
          1997,
          1998,
          1999,
          2000,
          2001,
          2002,
          2003,
          2004,
          2005,
          2006,
          2007,
          2008,
          2009,
          2010,
          2011,
          2012,
          2013,
          2014,
          2015,
          2016,
          2017,
          2018,
          2019,
          2020
         ],
         "xaxis": "x",
         "y": [
          0,
          0,
          0,
          0.3582720653692154,
          0.7165441307384308,
          1,
          0.7117945669428033,
          0.4235891338856066,
          0.1353837008284099,
          0.1770807500866098,
          0.5041692083084717,
          0.6125444274408746,
          0.7056827923250815,
          0.8172498873893793,
          0.7709326061728253,
          0.754308815898354,
          0.6347079314122802,
          0.5310860799530732,
          0.2531088510208198,
          0.3954772107053381,
          0.3929810217151736,
          0.3684320638561136,
          0.3314450603321424,
          0.2005728639616018,
          0.4110796598530448,
          0.4346579949528822,
          0.3150626049566439,
          0.274951138664332,
          0.1642162474811187,
          0.1642162474811187,
          0.1642162474811187
         ],
         "yaxis": "y"
        },
        {
         "hovertemplate": "variable=Employment-agriculture<br>Year=%{x}<br>value=%{y}<extra></extra>",
         "legendgroup": "Employment-agriculture",
         "line": {
          "color": "#00cc96",
          "dash": "solid"
         },
         "marker": {
          "symbol": "circle"
         },
         "mode": "lines",
         "name": "Employment-agriculture",
         "orientation": "v",
         "showlegend": true,
         "type": "scatter",
         "x": [
          1990,
          1991,
          1992,
          1993,
          1994,
          1995,
          1996,
          1997,
          1998,
          1999,
          2000,
          2001,
          2002,
          2003,
          2004,
          2005,
          2006,
          2007,
          2008,
          2009,
          2010,
          2011,
          2012,
          2013,
          2014,
          2015,
          2016,
          2017,
          2018,
          2019,
          2020
         ],
         "xaxis": "x",
         "y": [
          1,
          1,
          0.9802555093794516,
          0.9593495520721678,
          0.9303135494847312,
          0.9210220375178308,
          0.8815330562767466,
          0.8443670084091689,
          0.7955865152011959,
          0.6840883715984513,
          0.5725900064685914,
          0.5783971183752371,
          0.5063879560135774,
          0.4285714602181559,
          0.351916431109494,
          0.2787456912975286,
          0.2055749514855632,
          0.1521487022941343,
          0.1463414796239423,
          0.154471635667641,
          0.1672474369312263,
          0.1405342569537389,
          0.1440186570139932,
          0.1358885009702945,
          0.1498258796841968,
          0.1103368984431124,
          0.0720093838887755,
          0.0743322064987246,
          0.0383276253178945,
          0,
          0
         ],
         "yaxis": "y"
        },
        {
         "hovertemplate": "variable=Employment-industry<br>Year=%{x}<br>value=%{y}<extra></extra>",
         "legendgroup": "Employment-industry",
         "line": {
          "color": "#ab63fa",
          "dash": "solid"
         },
         "marker": {
          "symbol": "circle"
         },
         "mode": "lines",
         "name": "Employment-industry",
         "orientation": "v",
         "showlegend": true,
         "type": "scatter",
         "x": [
          1990,
          1991,
          1992,
          1993,
          1994,
          1995,
          1996,
          1997,
          1998,
          1999,
          2000,
          2001,
          2002,
          2003,
          2004,
          2005,
          2006,
          2007,
          2008,
          2009,
          2010,
          2011,
          2012,
          2013,
          2014,
          2015,
          2016,
          2017,
          2018,
          2019,
          2020
         ],
         "xaxis": "x",
         "y": [
          0.4684384518920473,
          0.4684384518920473,
          0.4285717001445311,
          0.3787379436248758,
          0.355481599156456,
          0.2524917511930344,
          0.289036801687088,
          0.275747461990838,
          0.282392131838963,
          0.631229061147327,
          1,
          0.6710964465654277,
          0.631229061147327,
          0.6212626900457393,
          0.6644517767173027,
          0.6744187814894737,
          0.7076414970594481,
          0.7109638319835272,
          0.504983502386102,
          0.0797341371655838,
          0.1129568527355913,
          0.0797341371655838,
          0,
          0.0830564720896628,
          0.2491694162689885,
          0.3654486039286258,
          0.5614619287538811,
          0.6478407357675899,
          0.6877074875151074,
          0.495016497613898,
          0.495016497613898
         ],
         "yaxis": "y"
        },
        {
         "hovertemplate": "variable=Employment-services<br>Year=%{x}<br>value=%{y}<extra></extra>",
         "legendgroup": "Employment-services",
         "line": {
          "color": "#FFA15A",
          "dash": "solid"
         },
         "marker": {
          "symbol": "circle"
         },
         "mode": "lines",
         "name": "Employment-services",
         "orientation": "v",
         "showlegend": true,
         "type": "scatter",
         "x": [
          1990,
          1991,
          1992,
          1993,
          1994,
          1995,
          1996,
          1997,
          1998,
          1999,
          2000,
          2001,
          2002,
          2003,
          2004,
          2005,
          2006,
          2007,
          2008,
          2009,
          2010,
          2011,
          2012,
          2013,
          2014,
          2015,
          2016,
          2017,
          2018,
          2019,
          2020
         ],
         "xaxis": "x",
         "y": [
          0,
          0,
          0.0330297072720313,
          0.070615326128276,
          0.1070617498506438,
          0.1514808016075622,
          0.1776766415032849,
          0.2198177374680966,
          0.2642367892250037,
          0.2539862053983578,
          0.238040949329281,
          0.3439635040460593,
          0.4282461304513177,
          0.5091116059305926,
          0.568337153098358,
          0.6366740889588924,
          0.6970388312605226,
          0.7471525552598728,
          0.8257400749470523,
          0.9635535762776322,
          0.93849649704014,
          0.9772208765546144,
          1,
          0.97949883234671,
          0.9088835062184338,
          0.907744745560204,
          0.878132189214144,
          0.8462412426003433,
          0.8678816053874989,
          0.9715262043121706,
          0.9715262043121706
         ],
         "yaxis": "y"
        },
        {
         "hovertemplate": "variable=Exports-Commercial services<br>Year=%{x}<br>value=%{y}<extra></extra>",
         "legendgroup": "Exports-Commercial services",
         "line": {
          "color": "#19d3f3",
          "dash": "solid"
         },
         "marker": {
          "symbol": "circle"
         },
         "mode": "lines",
         "name": "Exports-Commercial services",
         "orientation": "v",
         "showlegend": true,
         "type": "scatter",
         "x": [
          1990,
          1991,
          1992,
          1993,
          1994,
          1995,
          1996,
          1997,
          1998,
          1999,
          2000,
          2001,
          2002,
          2003,
          2004,
          2005,
          2006,
          2007,
          2008,
          2009,
          2010,
          2011,
          2012,
          2013,
          2014,
          2015,
          2016,
          2017,
          2018,
          2019,
          2020
         ],
         "xaxis": "x",
         "y": [
          0,
          0.08662701404483,
          0.1593425718411413,
          0.2206281763954265,
          0.3838411409560882,
          0.2808820772754972,
          0.4212222014576484,
          0.638875582127716,
          0.0422158825968183,
          0.0476251681262559,
          0.1892771139825623,
          0.1143181981354825,
          0.1132107607723345,
          0.1145098620583921,
          0.2149308309367809,
          0.3702051926013035,
          0.3868124906257417,
          0.5001464420272795,
          0.530692812044831,
          0.3173555721931074,
          0.3467133367108028,
          0.3712137505450058,
          0.4128149324371828,
          0.540764793522152,
          0.7718909759814483,
          0.8993167356605577,
          1,
          0.8643491059134027,
          0.7286982118268055,
          0.5930473177402081,
          0.4573964236536109
         ],
         "yaxis": "y"
        },
        {
         "hovertemplate": "variable=Exports-G&S<br>Year=%{x}<br>value=%{y}<extra></extra>",
         "legendgroup": "Exports-G&S",
         "line": {
          "color": "#FF6692",
          "dash": "solid"
         },
         "marker": {
          "symbol": "circle"
         },
         "mode": "lines",
         "name": "Exports-G&S",
         "orientation": "v",
         "showlegend": true,
         "type": "scatter",
         "x": [
          1990,
          1991,
          1992,
          1993,
          1994,
          1995,
          1996,
          1997,
          1998,
          1999,
          2000,
          2001,
          2002,
          2003,
          2004,
          2005,
          2006,
          2007,
          2008,
          2009,
          2010,
          2011,
          2012,
          2013,
          2014,
          2015,
          2016,
          2017,
          2018,
          2019,
          2020
         ],
         "xaxis": "x",
         "y": [
          0,
          0.0058436308039807,
          0.0147335398292416,
          0.0284553967115377,
          0.0490456651898613,
          0.0858088463647804,
          0.1306842934774009,
          0.1642316351353116,
          0.1816348641674885,
          0.2230042539788042,
          0.2951016413577452,
          0.2763232494166335,
          0.282200298972682,
          0.2901761650115127,
          0.3452897072677354,
          0.4084847891147924,
          0.4903576114342043,
          0.5427412915139083,
          0.5826290521112374,
          0.4405270350457708,
          0.5976301926084505,
          0.7153259657203032,
          0.7629816288458747,
          0.7887413419764794,
          0.834417991891657,
          0.8013871537019135,
          0.7899209919392279,
          0.872944714457518,
          0.9710310948522451,
          1,
          0.8618669264310127
         ],
         "yaxis": "y"
        },
        {
         "hovertemplate": "variable=Fertility rate<br>Year=%{x}<br>value=%{y}<extra></extra>",
         "legendgroup": "Fertility rate",
         "line": {
          "color": "#B6E880",
          "dash": "solid"
         },
         "marker": {
          "symbol": "circle"
         },
         "mode": "lines",
         "name": "Fertility rate",
         "orientation": "v",
         "showlegend": true,
         "type": "scatter",
         "x": [
          1990,
          1991,
          1992,
          1993,
          1994,
          1995,
          1996,
          1997,
          1998,
          1999,
          2000,
          2001,
          2002,
          2003,
          2004,
          2005,
          2006,
          2007,
          2008,
          2009,
          2010,
          2011,
          2012,
          2013,
          2014,
          2015,
          2016,
          2017,
          2018,
          2019,
          2020
         ],
         "xaxis": "x",
         "y": [
          1,
          0.9273903666427032,
          0.8583752695902228,
          0.7929547088425591,
          0.7318475916606756,
          0.6750539180445719,
          0.6232925952552121,
          0.5758447160316317,
          0.5334291876347951,
          0.4938892882818115,
          0.4579439252336448,
          0.424155283968368,
          0.3910855499640546,
          0.3594536304816678,
          0.3285406182602443,
          0.2990654205607476,
          0.2710280373831774,
          0.2458662832494605,
          0.2242990654205606,
          0.2048885693745504,
          0.1876347951114303,
          0.1710999281092739,
          0.154565061107117,
          0.137311286843997,
          0.1179007907979868,
          0.0977713874910134,
          0.0769230769230767,
          0.05607476635514,
          0.0359453630481666,
          0.01725377426312,
          0
         ],
         "yaxis": "y"
        },
        {
         "hovertemplate": "variable=Foreign investment<br>Year=%{x}<br>value=%{y}<extra></extra>",
         "legendgroup": "Foreign investment",
         "line": {
          "color": "#FF97FF",
          "dash": "solid"
         },
         "marker": {
          "symbol": "circle"
         },
         "mode": "lines",
         "name": "Foreign investment",
         "orientation": "v",
         "showlegend": true,
         "type": "scatter",
         "x": [
          1990,
          1991,
          1992,
          1993,
          1994,
          1995,
          1996,
          1997,
          1998,
          1999,
          2000,
          2001,
          2002,
          2003,
          2004,
          2005,
          2006,
          2007,
          2008,
          2009,
          2010,
          2011,
          2012,
          2013,
          2014,
          2015,
          2016,
          2017,
          2018,
          2019,
          2020
         ],
         "xaxis": "x",
         "y": [
          0.9041158605792132,
          0.8403064602042396,
          0.8513711541602382,
          0.8514910966421462,
          0.6540807642320714,
          0.6974462684220576,
          0.7076620694623535,
          0.5983884713202111,
          0.6005784843653903,
          0.5650671535078673,
          0.4318937687736167,
          0.2137850071791646,
          0.2885011645183933,
          0.4742405015226865,
          0.3688681063392376,
          0.397054101091838,
          0.5193528989347622,
          0.3000722511351639,
          0.1106732946114936,
          0.7434095175904792,
          0.6042796794872998,
          0.6151599223563174,
          1,
          0,
          0.2928907024373799,
          0.2381054878585633,
          0.0531440208188366,
          0.074707125040643,
          0.2160980386012144,
          0.2745649815771557,
          0.2337283061741779
         ],
         "yaxis": "y"
        },
        {
         "hovertemplate": "variable=GDP<br>Year=%{x}<br>value=%{y}<extra></extra>",
         "legendgroup": "GDP",
         "line": {
          "color": "#FECB52",
          "dash": "solid"
         },
         "marker": {
          "symbol": "circle"
         },
         "mode": "lines",
         "name": "GDP",
         "orientation": "v",
         "showlegend": true,
         "type": "scatter",
         "x": [
          1990,
          1991,
          1992,
          1993,
          1994,
          1995,
          1996,
          1997,
          1998,
          1999,
          2000,
          2001,
          2002,
          2003,
          2004,
          2005,
          2006,
          2007,
          2008,
          2009,
          2010,
          2011,
          2012,
          2013,
          2014,
          2015,
          2016,
          2017,
          2018,
          2019,
          2020
         ],
         "xaxis": "x",
         "y": [
          0,
          0.0492261680627736,
          0.0966741745421443,
          0.2271919437404439,
          0.2528794820694166,
          0.0937487443008527,
          0.1420380924898635,
          0.2268859165794428,
          0.2516356610540758,
          0.3215824521428513,
          0.4237303656361693,
          0.4700254677044024,
          0.4846351948635264,
          0.4440601482750786,
          0.4942493169737317,
          0.5845973258605914,
          0.6774833264237656,
          0.7508248751665748,
          0.8051773196353722,
          0.606008179326024,
          0.7556678928356215,
          0.872059682637554,
          0.8916028302965527,
          0.961191355733964,
          1,
          0.8638801803276992,
          0.7752954453764448,
          0.8515904527042624,
          0.9118269690046924,
          0.9564392797333684,
          0.7709554575046468
         ],
         "yaxis": "y"
        },
        {
         "hovertemplate": "variable=Health services use<br>Year=%{x}<br>value=%{y}<extra></extra>",
         "legendgroup": "Health services use",
         "line": {
          "color": "#636efa",
          "dash": "solid"
         },
         "marker": {
          "symbol": "circle"
         },
         "mode": "lines",
         "name": "Health services use",
         "orientation": "v",
         "showlegend": true,
         "type": "scatter",
         "x": [
          1990,
          1991,
          1992,
          1993,
          1994,
          1995,
          1996,
          1997,
          1998,
          1999,
          2000,
          2001,
          2002,
          2003,
          2004,
          2005,
          2006,
          2007,
          2008,
          2009,
          2010,
          2011,
          2012,
          2013,
          2014,
          2015,
          2016,
          2017,
          2018,
          2019,
          2020
         ],
         "xaxis": "x",
         "y": [
          0,
          0,
          0,
          0,
          0,
          0,
          0,
          0,
          0,
          0,
          0,
          0.0558600837126413,
          0.1110193760550986,
          0.1654921842718195,
          0.219309589280484,
          0.2724501788252542,
          0.3249452635018362,
          0.3767940263872552,
          0.428039201948965,
          0.4786654467814286,
          0.5287010576087747,
          0.5782046225546026,
          0.6271478533772112,
          0.6755615478117181,
          0.7234513146998833,
          0.770806219540751,
          0.8176528912827925,
          0.8639818635374268,
          0.9098110746803706,
          0.9551474261447658,
          1
         ],
         "yaxis": "y"
        },
        {
         "hovertemplate": "variable=International taxes<br>Year=%{x}<br>value=%{y}<extra></extra>",
         "legendgroup": "International taxes",
         "line": {
          "color": "#EF553B",
          "dash": "solid"
         },
         "marker": {
          "symbol": "circle"
         },
         "mode": "lines",
         "name": "International taxes",
         "orientation": "v",
         "showlegend": true,
         "type": "scatter",
         "x": [
          1990,
          1991,
          1992,
          1993,
          1994,
          1995,
          1996,
          1997,
          1998,
          1999,
          2000,
          2001,
          2002,
          2003,
          2004,
          2005,
          2006,
          2007,
          2008,
          2009,
          2010,
          2011,
          2012,
          2013,
          2014,
          2015,
          2016,
          2017,
          2018,
          2019,
          2020
         ],
         "xaxis": "x",
         "y": [
          0,
          0.0621514812460272,
          0.1163906583804981,
          0.093784075204623,
          0.0943326172963906,
          0.0687339863472379,
          0.1301873231128336,
          0.1833460385513988,
          0.2396297816642761,
          0.3362895472287714,
          0.4287272009354196,
          0.4392327139675483,
          0.4497382269996772,
          0.4602437400318059,
          0.4707492530639348,
          0.4812547660960635,
          0.4917602791281922,
          0.5022657921603211,
          0.5127713051924498,
          0.4099004969112173,
          0.3246221532154874,
          0.3802356152085459,
          0.400422340129912,
          0.4197458698033552,
          0.4947751183659788,
          0.6365468405096111,
          0.7449612321442998,
          0.7766108037632181,
          1,
          0.9844198264215808,
          0.9844198264215808
         ],
         "yaxis": "y"
        },
        {
         "hovertemplate": "variable=Literacy rate<br>Year=%{x}<br>value=%{y}<extra></extra>",
         "legendgroup": "Literacy rate",
         "line": {
          "color": "#00cc96",
          "dash": "solid"
         },
         "marker": {
          "symbol": "circle"
         },
         "mode": "lines",
         "name": "Literacy rate",
         "orientation": "v",
         "showlegend": true,
         "type": "scatter",
         "x": [
          1990,
          1991,
          1992,
          1993,
          1994,
          1995,
          1996,
          1997,
          1998,
          1999,
          2000,
          2001,
          2002,
          2003,
          2004,
          2005,
          2006,
          2007,
          2008,
          2009,
          2010,
          2011,
          2012,
          2013,
          2014,
          2015,
          2016,
          2017,
          2018,
          2019,
          2020
         ],
         "xaxis": "x",
         "y": [
          0,
          0.0380823149444747,
          0.0761646298889494,
          0.1142469448334241,
          0.1523292597778988,
          0.1904115747223735,
          0.2284938896668482,
          0.2665762046113229,
          0.3046585195557976,
          0.3427408345002723,
          0.380823149444747,
          0.3641450409370899,
          0.3474669324294328,
          0.3908662903861245,
          0.4342656483428163,
          0.5207367115368882,
          0.5340612554560048,
          0.6696295183895077,
          0.6862998256419556,
          0.7522886932507413,
          0.7046210735307373,
          0.7622713744641486,
          0.8528185935116955,
          0.8188772823547285,
          0.8946752532482545,
          0.8839904590648704,
          0.933498199860361,
          0.9479617270418844,
          1,
          0.99156001700674,
          0.983120034013478
         ],
         "yaxis": "y"
        },
        {
         "hovertemplate": "variable=Mortality-infants<br>Year=%{x}<br>value=%{y}<extra></extra>",
         "legendgroup": "Mortality-infants",
         "line": {
          "color": "#ab63fa",
          "dash": "solid"
         },
         "marker": {
          "symbol": "circle"
         },
         "mode": "lines",
         "name": "Mortality-infants",
         "orientation": "v",
         "showlegend": true,
         "type": "scatter",
         "x": [
          1990,
          1991,
          1992,
          1993,
          1994,
          1995,
          1996,
          1997,
          1998,
          1999,
          2000,
          2001,
          2002,
          2003,
          2004,
          2005,
          2006,
          2007,
          2008,
          2009,
          2010,
          2011,
          2012,
          2013,
          2014,
          2015,
          2016,
          2017,
          2018,
          2019,
          2020
         ],
         "xaxis": "x",
         "y": [
          1,
          0.941672637269589,
          0.8841594476649515,
          0.8282583208493454,
          0.7739855402852862,
          0.7220250113984238,
          0.6718556633882629,
          0.6229401419917932,
          0.576646258060314,
          0.5322412557806292,
          0.48993682016544,
          0.4497980850648082,
          0.4123786882042597,
          0.3762294014199179,
          0.342783169413144,
          0.3118934410212988,
          0.2829740115938253,
          0.2560900149807855,
          0.2319904904578909,
          0.2100240995245229,
          0.1894743698300006,
          0.1696248290236436,
          0.1504591936429362,
          0.1315215267374454,
          0.1122744740441607,
          0.0928971536507523,
          0.0738455025076532,
          0.0544681821142447,
          0.0354490978961766,
          0.0172441868038819,
          0
         ],
         "yaxis": "y"
        },
        {
         "hovertemplate": "variable=Net migration<br>Year=%{x}<br>value=%{y}<extra></extra>",
         "legendgroup": "Net migration",
         "line": {
          "color": "#FFA15A",
          "dash": "solid"
         },
         "marker": {
          "symbol": "circle"
         },
         "mode": "lines",
         "name": "Net migration",
         "orientation": "v",
         "showlegend": true,
         "type": "scatter",
         "x": [
          1990,
          1991,
          1992,
          1993,
          1994,
          1995,
          1996,
          1997,
          1998,
          1999,
          2000,
          2001,
          2002,
          2003,
          2004,
          2005,
          2006,
          2007,
          2008,
          2009,
          2010,
          2011,
          2012,
          2013,
          2014,
          2015,
          2016,
          2017,
          2018,
          2019,
          2020
         ],
         "xaxis": "x",
         "y": [
          0.1392142130860969,
          0.1392142130860969,
          0.1392142130860969,
          0.1113713704688776,
          0.0835285278516582,
          0.0556856852344386,
          0.0278428426172193,
          0,
          0.009051576031696,
          0.0181031520633918,
          0.0271547280950878,
          0.0362063041267836,
          0.0452578801584797,
          0.2099195079314991,
          0.3745811357045184,
          0.5392427634775379,
          0.7039043912505573,
          0.8685660190235767,
          0.8825834598065585,
          0.8966009005895406,
          0.9106183413725224,
          0.9246357821555043,
          0.9386532229384864,
          0.9509225783507892,
          0.963191933763092,
          0.9754612891753944,
          0.9877306445876972,
          1,
          1,
          1,
          1
         ],
         "yaxis": "y"
        },
        {
         "hovertemplate": "variable=Ninis<br>Year=%{x}<br>value=%{y}<extra></extra>",
         "legendgroup": "Ninis",
         "line": {
          "color": "#19d3f3",
          "dash": "solid"
         },
         "marker": {
          "symbol": "circle"
         },
         "mode": "lines",
         "name": "Ninis",
         "orientation": "v",
         "showlegend": true,
         "type": "scatter",
         "x": [
          1990,
          1991,
          1992,
          1993,
          1994,
          1995,
          1996,
          1997,
          1998,
          1999,
          2000,
          2001,
          2002,
          2003,
          2004,
          2005,
          2006,
          2007,
          2008,
          2009,
          2010,
          2011,
          2012,
          2013,
          2014,
          2015,
          2016,
          2017,
          2018,
          2019,
          2020
         ],
         "xaxis": "x",
         "y": [
          0.8144327261608618,
          0.8144327261608618,
          0.8144327261608618,
          0.8144327261608618,
          0.8144327261608618,
          0.8144327261608618,
          0.8144327261608618,
          0.8144327261608618,
          0.8144327261608618,
          0.8144327261608618,
          0.8144327261608618,
          0.8144327261608618,
          0.8144327261608618,
          0.8144327261608618,
          0.8144327261608618,
          0.8144327261608618,
          0.7731956634375988,
          0.7190722029575721,
          0.9304122723103134,
          0.9896904885268932,
          1,
          0.9072163630804184,
          0.7319586007143605,
          0.5592782162165928,
          0.5103095114730938,
          0.3737114339620102,
          0.3221648597656661,
          0.1108247904129239,
          0.0335054207030015,
          0,
          0.5386596848549607
         ],
         "yaxis": "y"
        },
        {
         "hovertemplate": "variable=R&D GExp<br>Year=%{x}<br>value=%{y}<extra></extra>",
         "legendgroup": "R&D GExp",
         "line": {
          "color": "#FF6692",
          "dash": "solid"
         },
         "marker": {
          "symbol": "circle"
         },
         "mode": "lines",
         "name": "R&D GExp",
         "orientation": "v",
         "showlegend": true,
         "type": "scatter",
         "x": [
          1990,
          1991,
          1992,
          1993,
          1994,
          1995,
          1996,
          1997,
          1998,
          1999,
          2000,
          2001,
          2002,
          2003,
          2004,
          2005,
          2006,
          2007,
          2008,
          2009,
          2010,
          2011,
          2012,
          2013,
          2014,
          2015,
          2016,
          2017,
          2018,
          2019,
          2020
         ],
         "xaxis": "x",
         "y": [
          0,
          0,
          0,
          0,
          0,
          0,
          0,
          0.104554017528053,
          0.2100499631419444,
          0.3826275698255386,
          0.2271275288721435,
          0.3010484069129331,
          0.424400032762716,
          0.583463019084282,
          0.5630682283561307,
          0.6051683184535999,
          0.4855024981570972,
          0.6047178311081989,
          0.7912195921041854,
          0.9373003521991974,
          1,
          0.9035138012941272,
          0.6973953640756818,
          0.7140633958555165,
          0.7569006470636415,
          0.7338438856581211,
          0.5623310672454745,
          0.3184535998034237,
          0.2548939307068557,
          0.2548939307068557,
          0.2548939307068557
         ],
         "yaxis": "y"
        },
        {
         "hovertemplate": "variable=Renewable electricity<br>Year=%{x}<br>value=%{y}<extra></extra>",
         "legendgroup": "Renewable electricity",
         "line": {
          "color": "#B6E880",
          "dash": "solid"
         },
         "marker": {
          "symbol": "circle"
         },
         "mode": "lines",
         "name": "Renewable electricity",
         "orientation": "v",
         "showlegend": true,
         "type": "scatter",
         "x": [
          1990,
          1991,
          1992,
          1993,
          1994,
          1995,
          1996,
          1997,
          1998,
          1999,
          2000,
          2001,
          2002,
          2003,
          2004,
          2005,
          2006,
          2007,
          2008,
          2009,
          2010,
          2011,
          2012,
          2013,
          2014,
          2015,
          2016,
          2017,
          2018,
          2019,
          2020
         ],
         "xaxis": "x",
         "y": [
          0,
          0,
          0.2779813927262475,
          0.3636876233436707,
          0.2841838173104031,
          0.4364251480124048,
          0.1468846912884127,
          0.0183253453622779,
          0.1423738370453904,
          0.0921905835917677,
          0.1883281646461798,
          0.3301381449111925,
          0.2743163236537919,
          0.5164928108260501,
          0.6174231745136736,
          0.9782915139554552,
          0.6075556808570624,
          0.8759515083168875,
          0.3160417254017479,
          0.287003101212292,
          0.475049337468283,
          0.5351000845785171,
          1,
          1,
          1,
          1,
          1,
          1,
          1,
          1,
          1
         ],
         "yaxis": "y"
        },
        {
         "hovertemplate": "variable=Suicide<br>Year=%{x}<br>value=%{y}<extra></extra>",
         "legendgroup": "Suicide",
         "line": {
          "color": "#FF97FF",
          "dash": "solid"
         },
         "marker": {
          "symbol": "circle"
         },
         "mode": "lines",
         "name": "Suicide",
         "orientation": "v",
         "showlegend": true,
         "type": "scatter",
         "x": [
          1990,
          1991,
          1992,
          1993,
          1994,
          1995,
          1996,
          1997,
          1998,
          1999,
          2000,
          2001,
          2002,
          2003,
          2004,
          2005,
          2006,
          2007,
          2008,
          2009,
          2010,
          2011,
          2012,
          2013,
          2014,
          2015,
          2016,
          2017,
          2018,
          2019,
          2020
         ],
         "xaxis": "x",
         "y": [
          0,
          0,
          0,
          0,
          0,
          0,
          0,
          0,
          0,
          0,
          0,
          0.1249999999999999,
          0.1666666666666666,
          0.2083333333333333,
          0.2083333333333333,
          0.2499999999999998,
          0.2083333333333333,
          0.2499999999999998,
          0.3750000000000001,
          0.4583333333333331,
          0.4166666666666666,
          0.7083333333333333,
          0.5833333333333334,
          0.7083333333333333,
          0.9166666666666666,
          0.8749999999999998,
          0.8749999999999998,
          1,
          0.7916666666666667,
          0.7499999999999998,
          0.7499999999999998
         ],
         "yaxis": "y"
        },
        {
         "hovertemplate": "variable=Workers high education<br>Year=%{x}<br>value=%{y}<extra></extra>",
         "legendgroup": "Workers high education",
         "line": {
          "color": "#FECB52",
          "dash": "solid"
         },
         "marker": {
          "symbol": "circle"
         },
         "mode": "lines",
         "name": "Workers high education",
         "orientation": "v",
         "showlegend": true,
         "type": "scatter",
         "x": [
          1990,
          1991,
          1992,
          1993,
          1994,
          1995,
          1996,
          1997,
          1998,
          1999,
          2000,
          2001,
          2002,
          2003,
          2004,
          2005,
          2006,
          2007,
          2008,
          2009,
          2010,
          2011,
          2012,
          2013,
          2014,
          2015,
          2016,
          2017,
          2018,
          2019,
          2020
         ],
         "xaxis": "x",
         "y": [
          0.4975840247089219,
          0.4975840247089219,
          0.4975840247089219,
          0.4975840247089219,
          0.4975840247089219,
          0.4975840247089219,
          0.4975840247089219,
          0.4975840247089219,
          0.4975840247089219,
          0.4975840247089219,
          0.4975840247089219,
          0.4975840247089219,
          0.4975840247089219,
          0.6054742449539727,
          0.5539444958394636,
          0.8743963133187751,
          1,
          0.9436395288694608,
          0.9098232461911462,
          0.7713368150897408,
          0.5974234511159644,
          0.5362310294032689,
          0.541062979985425,
          0.4959733745148653,
          0.3752004098496546,
          0.2415459293304213,
          0.2592593957666,
          0.1207729646652106,
          0,
          0.006441372210073,
          0.006441372210073
         ],
         "yaxis": "y"
        }
       ],
       "layout": {
        "height": 600,
        "legend": {
         "title": {
          "text": "variable"
         },
         "tracegroupgap": 0
        },
        "template": {
         "data": {
          "bar": [
           {
            "error_x": {
             "color": "#2a3f5f"
            },
            "error_y": {
             "color": "#2a3f5f"
            },
            "marker": {
             "line": {
              "color": "#E5ECF6",
              "width": 0.5
             },
             "pattern": {
              "fillmode": "overlay",
              "size": 10,
              "solidity": 0.2
             }
            },
            "type": "bar"
           }
          ],
          "barpolar": [
           {
            "marker": {
             "line": {
              "color": "#E5ECF6",
              "width": 0.5
             },
             "pattern": {
              "fillmode": "overlay",
              "size": 10,
              "solidity": 0.2
             }
            },
            "type": "barpolar"
           }
          ],
          "carpet": [
           {
            "aaxis": {
             "endlinecolor": "#2a3f5f",
             "gridcolor": "white",
             "linecolor": "white",
             "minorgridcolor": "white",
             "startlinecolor": "#2a3f5f"
            },
            "baxis": {
             "endlinecolor": "#2a3f5f",
             "gridcolor": "white",
             "linecolor": "white",
             "minorgridcolor": "white",
             "startlinecolor": "#2a3f5f"
            },
            "type": "carpet"
           }
          ],
          "choropleth": [
           {
            "colorbar": {
             "outlinewidth": 0,
             "ticks": ""
            },
            "type": "choropleth"
           }
          ],
          "contour": [
           {
            "colorbar": {
             "outlinewidth": 0,
             "ticks": ""
            },
            "colorscale": [
             [
              0,
              "#0d0887"
             ],
             [
              0.1111111111111111,
              "#46039f"
             ],
             [
              0.2222222222222222,
              "#7201a8"
             ],
             [
              0.3333333333333333,
              "#9c179e"
             ],
             [
              0.4444444444444444,
              "#bd3786"
             ],
             [
              0.5555555555555556,
              "#d8576b"
             ],
             [
              0.6666666666666666,
              "#ed7953"
             ],
             [
              0.7777777777777778,
              "#fb9f3a"
             ],
             [
              0.8888888888888888,
              "#fdca26"
             ],
             [
              1,
              "#f0f921"
             ]
            ],
            "type": "contour"
           }
          ],
          "contourcarpet": [
           {
            "colorbar": {
             "outlinewidth": 0,
             "ticks": ""
            },
            "type": "contourcarpet"
           }
          ],
          "heatmap": [
           {
            "colorbar": {
             "outlinewidth": 0,
             "ticks": ""
            },
            "colorscale": [
             [
              0,
              "#0d0887"
             ],
             [
              0.1111111111111111,
              "#46039f"
             ],
             [
              0.2222222222222222,
              "#7201a8"
             ],
             [
              0.3333333333333333,
              "#9c179e"
             ],
             [
              0.4444444444444444,
              "#bd3786"
             ],
             [
              0.5555555555555556,
              "#d8576b"
             ],
             [
              0.6666666666666666,
              "#ed7953"
             ],
             [
              0.7777777777777778,
              "#fb9f3a"
             ],
             [
              0.8888888888888888,
              "#fdca26"
             ],
             [
              1,
              "#f0f921"
             ]
            ],
            "type": "heatmap"
           }
          ],
          "heatmapgl": [
           {
            "colorbar": {
             "outlinewidth": 0,
             "ticks": ""
            },
            "colorscale": [
             [
              0,
              "#0d0887"
             ],
             [
              0.1111111111111111,
              "#46039f"
             ],
             [
              0.2222222222222222,
              "#7201a8"
             ],
             [
              0.3333333333333333,
              "#9c179e"
             ],
             [
              0.4444444444444444,
              "#bd3786"
             ],
             [
              0.5555555555555556,
              "#d8576b"
             ],
             [
              0.6666666666666666,
              "#ed7953"
             ],
             [
              0.7777777777777778,
              "#fb9f3a"
             ],
             [
              0.8888888888888888,
              "#fdca26"
             ],
             [
              1,
              "#f0f921"
             ]
            ],
            "type": "heatmapgl"
           }
          ],
          "histogram": [
           {
            "marker": {
             "pattern": {
              "fillmode": "overlay",
              "size": 10,
              "solidity": 0.2
             }
            },
            "type": "histogram"
           }
          ],
          "histogram2d": [
           {
            "colorbar": {
             "outlinewidth": 0,
             "ticks": ""
            },
            "colorscale": [
             [
              0,
              "#0d0887"
             ],
             [
              0.1111111111111111,
              "#46039f"
             ],
             [
              0.2222222222222222,
              "#7201a8"
             ],
             [
              0.3333333333333333,
              "#9c179e"
             ],
             [
              0.4444444444444444,
              "#bd3786"
             ],
             [
              0.5555555555555556,
              "#d8576b"
             ],
             [
              0.6666666666666666,
              "#ed7953"
             ],
             [
              0.7777777777777778,
              "#fb9f3a"
             ],
             [
              0.8888888888888888,
              "#fdca26"
             ],
             [
              1,
              "#f0f921"
             ]
            ],
            "type": "histogram2d"
           }
          ],
          "histogram2dcontour": [
           {
            "colorbar": {
             "outlinewidth": 0,
             "ticks": ""
            },
            "colorscale": [
             [
              0,
              "#0d0887"
             ],
             [
              0.1111111111111111,
              "#46039f"
             ],
             [
              0.2222222222222222,
              "#7201a8"
             ],
             [
              0.3333333333333333,
              "#9c179e"
             ],
             [
              0.4444444444444444,
              "#bd3786"
             ],
             [
              0.5555555555555556,
              "#d8576b"
             ],
             [
              0.6666666666666666,
              "#ed7953"
             ],
             [
              0.7777777777777778,
              "#fb9f3a"
             ],
             [
              0.8888888888888888,
              "#fdca26"
             ],
             [
              1,
              "#f0f921"
             ]
            ],
            "type": "histogram2dcontour"
           }
          ],
          "mesh3d": [
           {
            "colorbar": {
             "outlinewidth": 0,
             "ticks": ""
            },
            "type": "mesh3d"
           }
          ],
          "parcoords": [
           {
            "line": {
             "colorbar": {
              "outlinewidth": 0,
              "ticks": ""
             }
            },
            "type": "parcoords"
           }
          ],
          "pie": [
           {
            "automargin": true,
            "type": "pie"
           }
          ],
          "scatter": [
           {
            "fillpattern": {
             "fillmode": "overlay",
             "size": 10,
             "solidity": 0.2
            },
            "type": "scatter"
           }
          ],
          "scatter3d": [
           {
            "line": {
             "colorbar": {
              "outlinewidth": 0,
              "ticks": ""
             }
            },
            "marker": {
             "colorbar": {
              "outlinewidth": 0,
              "ticks": ""
             }
            },
            "type": "scatter3d"
           }
          ],
          "scattercarpet": [
           {
            "marker": {
             "colorbar": {
              "outlinewidth": 0,
              "ticks": ""
             }
            },
            "type": "scattercarpet"
           }
          ],
          "scattergeo": [
           {
            "marker": {
             "colorbar": {
              "outlinewidth": 0,
              "ticks": ""
             }
            },
            "type": "scattergeo"
           }
          ],
          "scattergl": [
           {
            "marker": {
             "colorbar": {
              "outlinewidth": 0,
              "ticks": ""
             }
            },
            "type": "scattergl"
           }
          ],
          "scattermapbox": [
           {
            "marker": {
             "colorbar": {
              "outlinewidth": 0,
              "ticks": ""
             }
            },
            "type": "scattermapbox"
           }
          ],
          "scatterpolar": [
           {
            "marker": {
             "colorbar": {
              "outlinewidth": 0,
              "ticks": ""
             }
            },
            "type": "scatterpolar"
           }
          ],
          "scatterpolargl": [
           {
            "marker": {
             "colorbar": {
              "outlinewidth": 0,
              "ticks": ""
             }
            },
            "type": "scatterpolargl"
           }
          ],
          "scatterternary": [
           {
            "marker": {
             "colorbar": {
              "outlinewidth": 0,
              "ticks": ""
             }
            },
            "type": "scatterternary"
           }
          ],
          "surface": [
           {
            "colorbar": {
             "outlinewidth": 0,
             "ticks": ""
            },
            "colorscale": [
             [
              0,
              "#0d0887"
             ],
             [
              0.1111111111111111,
              "#46039f"
             ],
             [
              0.2222222222222222,
              "#7201a8"
             ],
             [
              0.3333333333333333,
              "#9c179e"
             ],
             [
              0.4444444444444444,
              "#bd3786"
             ],
             [
              0.5555555555555556,
              "#d8576b"
             ],
             [
              0.6666666666666666,
              "#ed7953"
             ],
             [
              0.7777777777777778,
              "#fb9f3a"
             ],
             [
              0.8888888888888888,
              "#fdca26"
             ],
             [
              1,
              "#f0f921"
             ]
            ],
            "type": "surface"
           }
          ],
          "table": [
           {
            "cells": {
             "fill": {
              "color": "#EBF0F8"
             },
             "line": {
              "color": "white"
             }
            },
            "header": {
             "fill": {
              "color": "#C8D4E3"
             },
             "line": {
              "color": "white"
             }
            },
            "type": "table"
           }
          ]
         },
         "layout": {
          "annotationdefaults": {
           "arrowcolor": "#2a3f5f",
           "arrowhead": 0,
           "arrowwidth": 1
          },
          "autotypenumbers": "strict",
          "coloraxis": {
           "colorbar": {
            "outlinewidth": 0,
            "ticks": ""
           }
          },
          "colorscale": {
           "diverging": [
            [
             0,
             "#8e0152"
            ],
            [
             0.1,
             "#c51b7d"
            ],
            [
             0.2,
             "#de77ae"
            ],
            [
             0.3,
             "#f1b6da"
            ],
            [
             0.4,
             "#fde0ef"
            ],
            [
             0.5,
             "#f7f7f7"
            ],
            [
             0.6,
             "#e6f5d0"
            ],
            [
             0.7,
             "#b8e186"
            ],
            [
             0.8,
             "#7fbc41"
            ],
            [
             0.9,
             "#4d9221"
            ],
            [
             1,
             "#276419"
            ]
           ],
           "sequential": [
            [
             0,
             "#0d0887"
            ],
            [
             0.1111111111111111,
             "#46039f"
            ],
            [
             0.2222222222222222,
             "#7201a8"
            ],
            [
             0.3333333333333333,
             "#9c179e"
            ],
            [
             0.4444444444444444,
             "#bd3786"
            ],
            [
             0.5555555555555556,
             "#d8576b"
            ],
            [
             0.6666666666666666,
             "#ed7953"
            ],
            [
             0.7777777777777778,
             "#fb9f3a"
            ],
            [
             0.8888888888888888,
             "#fdca26"
            ],
            [
             1,
             "#f0f921"
            ]
           ],
           "sequentialminus": [
            [
             0,
             "#0d0887"
            ],
            [
             0.1111111111111111,
             "#46039f"
            ],
            [
             0.2222222222222222,
             "#7201a8"
            ],
            [
             0.3333333333333333,
             "#9c179e"
            ],
            [
             0.4444444444444444,
             "#bd3786"
            ],
            [
             0.5555555555555556,
             "#d8576b"
            ],
            [
             0.6666666666666666,
             "#ed7953"
            ],
            [
             0.7777777777777778,
             "#fb9f3a"
            ],
            [
             0.8888888888888888,
             "#fdca26"
            ],
            [
             1,
             "#f0f921"
            ]
           ]
          },
          "colorway": [
           "#636efa",
           "#EF553B",
           "#00cc96",
           "#ab63fa",
           "#FFA15A",
           "#19d3f3",
           "#FF6692",
           "#B6E880",
           "#FF97FF",
           "#FECB52"
          ],
          "font": {
           "color": "#2a3f5f"
          },
          "geo": {
           "bgcolor": "white",
           "lakecolor": "white",
           "landcolor": "#E5ECF6",
           "showlakes": true,
           "showland": true,
           "subunitcolor": "white"
          },
          "hoverlabel": {
           "align": "left"
          },
          "hovermode": "closest",
          "mapbox": {
           "style": "light"
          },
          "paper_bgcolor": "white",
          "plot_bgcolor": "#E5ECF6",
          "polar": {
           "angularaxis": {
            "gridcolor": "white",
            "linecolor": "white",
            "ticks": ""
           },
           "bgcolor": "#E5ECF6",
           "radialaxis": {
            "gridcolor": "white",
            "linecolor": "white",
            "ticks": ""
           }
          },
          "scene": {
           "xaxis": {
            "backgroundcolor": "#E5ECF6",
            "gridcolor": "white",
            "gridwidth": 2,
            "linecolor": "white",
            "showbackground": true,
            "ticks": "",
            "zerolinecolor": "white"
           },
           "yaxis": {
            "backgroundcolor": "#E5ECF6",
            "gridcolor": "white",
            "gridwidth": 2,
            "linecolor": "white",
            "showbackground": true,
            "ticks": "",
            "zerolinecolor": "white"
           },
           "zaxis": {
            "backgroundcolor": "#E5ECF6",
            "gridcolor": "white",
            "gridwidth": 2,
            "linecolor": "white",
            "showbackground": true,
            "ticks": "",
            "zerolinecolor": "white"
           }
          },
          "shapedefaults": {
           "line": {
            "color": "#2a3f5f"
           }
          },
          "ternary": {
           "aaxis": {
            "gridcolor": "white",
            "linecolor": "white",
            "ticks": ""
           },
           "baxis": {
            "gridcolor": "white",
            "linecolor": "white",
            "ticks": ""
           },
           "bgcolor": "#E5ECF6",
           "caxis": {
            "gridcolor": "white",
            "linecolor": "white",
            "ticks": ""
           }
          },
          "title": {
           "x": 0.05
          },
          "xaxis": {
           "automargin": true,
           "gridcolor": "white",
           "linecolor": "white",
           "ticks": "",
           "title": {
            "standoff": 15
           },
           "zerolinecolor": "white",
           "zerolinewidth": 2
          },
          "yaxis": {
           "automargin": true,
           "gridcolor": "white",
           "linecolor": "white",
           "ticks": "",
           "title": {
            "standoff": 15
           },
           "zerolinecolor": "white",
           "zerolinewidth": 2
          }
         }
        },
        "title": {
         "text": "MEX"
        },
        "width": 800,
        "xaxis": {
         "anchor": "y",
         "domain": [
          0,
          1
         ],
         "title": {
          "text": "Year"
         }
        },
        "yaxis": {
         "anchor": "x",
         "domain": [
          0,
          1
         ],
         "title": {
          "text": "value"
         }
        }
       }
      }
     },
     "metadata": {},
     "output_type": "display_data"
    },
    {
     "data": {
      "application/vnd.plotly.v1+json": {
       "config": {
        "plotlyServerURL": "https://plot.ly"
       },
       "data": [
        {
         "hovertemplate": "variable=Alcohol per capita<br>Year=%{x}<br>value=%{y}<extra></extra>",
         "legendgroup": "Alcohol per capita",
         "line": {
          "color": "#636efa",
          "dash": "solid"
         },
         "marker": {
          "symbol": "circle"
         },
         "mode": "lines",
         "name": "Alcohol per capita",
         "orientation": "v",
         "showlegend": true,
         "type": "scatter",
         "x": [
          1990,
          1991,
          1992,
          1993,
          1994,
          1995,
          1996,
          1997,
          1998,
          1999,
          2000,
          2001,
          2002,
          2003,
          2004,
          2005,
          2006,
          2007,
          2008,
          2009,
          2010,
          2011,
          2012,
          2013,
          2014,
          2015,
          2016,
          2017,
          2018,
          2019,
          2020,
          2021
         ],
         "xaxis": "x",
         "y": [
          1,
          1,
          1,
          1,
          1,
          1,
          1,
          1,
          1,
          1,
          1,
          0.9323529411764702,
          0.8647058823529417,
          0.7970588235294118,
          0.7294117647058833,
          0.6617647058823535,
          0.686764705882354,
          0.7117647058823532,
          0.7367647058823538,
          0.761764705882353,
          0.7867647058823535,
          0.6941176470588244,
          0.6014705882352941,
          0.508823529411765,
          0.416176470588236,
          0.3235294117647063,
          0.2156862745098044,
          0.1078431372549018,
          0,
          0,
          0,
          0
         ],
         "yaxis": "y"
        },
        {
         "hovertemplate": "variable=Education GExp<br>Year=%{x}<br>value=%{y}<extra></extra>",
         "legendgroup": "Education GExp",
         "line": {
          "color": "#EF553B",
          "dash": "solid"
         },
         "marker": {
          "symbol": "circle"
         },
         "mode": "lines",
         "name": "Education GExp",
         "orientation": "v",
         "showlegend": true,
         "type": "scatter",
         "x": [
          1990,
          1991,
          1992,
          1993,
          1994,
          1995,
          1996,
          1997,
          1998,
          1999,
          2000,
          2001,
          2002,
          2003,
          2004,
          2005,
          2006,
          2007,
          2008,
          2009,
          2010,
          2011,
          2012,
          2013,
          2014,
          2015,
          2016,
          2017,
          2018,
          2019,
          2020,
          2021
         ],
         "xaxis": "x",
         "y": [
          0.2939457922809504,
          0.2939457922809504,
          0.2939457922809504,
          0.2939457922809504,
          0.2939457922809504,
          0.2939457922809504,
          0.2939457922809504,
          0.2939457922809504,
          0.2939457922809504,
          0,
          0.2682094668274566,
          0.1463754546073536,
          0.0053195846044475,
          0.061472389858672,
          0.1176251951128967,
          0.2410625136135259,
          0.4093044250175944,
          0.5246312899695725,
          0.6492923587842453,
          0.7424124372810627,
          0.6603660560391974,
          0.8210030360333704,
          0.8874482582207106,
          0.8678859326586451,
          0.8463251371988464,
          0.958462654690118,
          0.9165663334133992,
          1,
          0.9483607754046642,
          0.9483607754046642,
          0.9483607754046642,
          0.9483607754046642
         ],
         "yaxis": "y"
        },
        {
         "hovertemplate": "variable=Employment-agriculture<br>Year=%{x}<br>value=%{y}<extra></extra>",
         "legendgroup": "Employment-agriculture",
         "line": {
          "color": "#00cc96",
          "dash": "solid"
         },
         "marker": {
          "symbol": "circle"
         },
         "mode": "lines",
         "name": "Employment-agriculture",
         "orientation": "v",
         "showlegend": true,
         "type": "scatter",
         "x": [
          1990,
          1991,
          1992,
          1993,
          1994,
          1995,
          1996,
          1997,
          1998,
          1999,
          2000,
          2001,
          2002,
          2003,
          2004,
          2005,
          2006,
          2007,
          2008,
          2009,
          2010,
          2011,
          2012,
          2013,
          2014,
          2015,
          2016,
          2017,
          2018,
          2019,
          2020,
          2021
         ],
         "xaxis": "x",
         "y": [
          0.9896906645206128,
          0.9896906645206128,
          1,
          0.9587628368405384,
          0.9006560957485416,
          0.8491095971096929,
          0.7516401499923201,
          0.7282099720905002,
          0.6672915452973891,
          0.7132146725339817,
          0.6944704587093022,
          0.6879100374980764,
          0.6982193729774636,
          0.7122774439669437,
          0.755388885502413,
          0.7066542513227652,
          0.6129334503364514,
          0.5248360207523841,
          0.4470478372686602,
          0.4076851312432841,
          0.3355201404037389,
          0.2727272564765426,
          0.2239925329178514,
          0.1958763015598568,
          0.1180881180761425,
          0.1049671862746662,
          0.0993439936304971,
          0.0356138811362509,
          0.0168697566906026,
          0,
          0,
          0
         ],
         "yaxis": "y"
        },
        {
         "hovertemplate": "variable=Employment-industry<br>Year=%{x}<br>value=%{y}<extra></extra>",
         "legendgroup": "Employment-industry",
         "line": {
          "color": "#ab63fa",
          "dash": "solid"
         },
         "marker": {
          "symbol": "circle"
         },
         "mode": "lines",
         "name": "Employment-industry",
         "orientation": "v",
         "showlegend": true,
         "type": "scatter",
         "x": [
          1990,
          1991,
          1992,
          1993,
          1994,
          1995,
          1996,
          1997,
          1998,
          1999,
          2000,
          2001,
          2002,
          2003,
          2004,
          2005,
          2006,
          2007,
          2008,
          2009,
          2010,
          2011,
          2012,
          2013,
          2014,
          2015,
          2016,
          2017,
          2018,
          2019,
          2020,
          2021
         ],
         "xaxis": "x",
         "y": [
          1,
          1,
          0.8741493972714531,
          0.8503399815882553,
          0.86734717047478,
          0.7789117345386631,
          0.8061225879991523,
          0.8197276903504409,
          0.7891153991126276,
          0.5374148424134763,
          0.4625851575865587,
          0.3707482838731166,
          0.5238097400621865,
          0.3435374304126273,
          0.38775547275964,
          0.5034011133983705,
          0.493197448824372,
          0.6836734230479296,
          0.938775417524406,
          0.7551023188554653,
          0.7074828387311274,
          0.6224488405723018,
          0.8639457326974886,
          0.8401363170142908,
          0.8197276903504409,
          0.5748300092058723,
          0.1394557050798366,
          0,
          0,
          0,
          0,
          0
         ],
         "yaxis": "y"
        },
        {
         "hovertemplate": "variable=Employment-services<br>Year=%{x}<br>value=%{y}<extra></extra>",
         "legendgroup": "Employment-services",
         "line": {
          "color": "#FFA15A",
          "dash": "solid"
         },
         "marker": {
          "symbol": "circle"
         },
         "mode": "lines",
         "name": "Employment-services",
         "orientation": "v",
         "showlegend": true,
         "type": "scatter",
         "x": [
          1990,
          1991,
          1992,
          1993,
          1994,
          1995,
          1996,
          1997,
          1998,
          1999,
          2000,
          2001,
          2002,
          2003,
          2004,
          2005,
          2006,
          2007,
          2008,
          2009,
          2010,
          2011,
          2012,
          2013,
          2014,
          2015,
          2016,
          2017,
          2018,
          2019,
          2020,
          2021
         ],
         "xaxis": "x",
         "y": [
          0,
          0,
          0.0185715760989687,
          0.0550000177110914,
          0.0957142705333524,
          0.1542856613470718,
          0.2221428402102717,
          0.2371427707283082,
          0.2900000190734792,
          0.307857157064938,
          0.338571456208513,
          0.3621427366685201,
          0.3228570875829741,
          0.3492858479947085,
          0.3071429914357325,
          0.3199998801095441,
          0.3935714739196044,
          0.4207143999605439,
          0.4271427080582972,
          0.4949998869215047,
          0.5599998583112823,
          0.625713995330265,
          0.6121429410272478,
          0.6392855945898828,
          0.7021425241354436,
          0.7628572292716846,
          0.860000103541751,
          0.9378569636053408,
          0.9764284470616884,
          1,
          1,
          1
         ],
         "yaxis": "y"
        },
        {
         "hovertemplate": "variable=Exports-Commercial services<br>Year=%{x}<br>value=%{y}<extra></extra>",
         "legendgroup": "Exports-Commercial services",
         "line": {
          "color": "#19d3f3",
          "dash": "solid"
         },
         "marker": {
          "symbol": "circle"
         },
         "mode": "lines",
         "name": "Exports-Commercial services",
         "orientation": "v",
         "showlegend": true,
         "type": "scatter",
         "x": [
          1990,
          1991,
          1992,
          1993,
          1994,
          1995,
          1996,
          1997,
          1998,
          1999,
          2000,
          2001,
          2002,
          2003,
          2004,
          2005,
          2006,
          2007,
          2008,
          2009,
          2010,
          2011,
          2012,
          2013,
          2014,
          2015,
          2016,
          2017,
          2018,
          2019,
          2020,
          2021
         ],
         "xaxis": "x",
         "y": [
          0.0122530322452561,
          0,
          0.0205336202466163,
          0.0181557486921717,
          0.0433332122098212,
          0.0765674640531186,
          0.0360876977086309,
          0.0743973884903136,
          0.10101042210379,
          0.080576678279828,
          0.1388072697501377,
          0.137843543622679,
          0.140882805470549,
          0.1630442267959918,
          0.2199157438917374,
          0.3031691853174944,
          0.3803058213588564,
          0.5071783180126391,
          0.671089083856151,
          0.5968583550068242,
          0.7236290864962807,
          0.8930839746586033,
          0.9451961904888964,
          0.9229573748496426,
          1,
          0.8312945861803018,
          0.8183020509156365,
          0.8501045548669749,
          0.8761518725885509,
          0.8483994606544506,
          0.6908767420613627,
          0.8176068487091324
         ],
         "yaxis": "y"
        },
        {
         "hovertemplate": "variable=Exports-G&S<br>Year=%{x}<br>value=%{y}<extra></extra>",
         "legendgroup": "Exports-G&S",
         "line": {
          "color": "#FF6692",
          "dash": "solid"
         },
         "marker": {
          "symbol": "circle"
         },
         "mode": "lines",
         "name": "Exports-G&S",
         "orientation": "v",
         "showlegend": true,
         "type": "scatter",
         "x": [
          1990,
          1991,
          1992,
          1993,
          1994,
          1995,
          1996,
          1997,
          1998,
          1999,
          2000,
          2001,
          2002,
          2003,
          2004,
          2005,
          2006,
          2007,
          2008,
          2009,
          2010,
          2011,
          2012,
          2013,
          2014,
          2015,
          2016,
          2017,
          2018,
          2019,
          2020,
          2021
         ],
         "xaxis": "x",
         "y": [
          0.0084103460024519,
          0,
          0.0217289183457282,
          0.0327598783381038,
          0.0740928174076401,
          0.1031586977419479,
          0.1006460847098487,
          0.1169094686483285,
          0.1134082389214655,
          0.1010839851795634,
          0.1355614530411867,
          0.14471736338668,
          0.1566730023064438,
          0.2013052176856572,
          0.2964243408882638,
          0.388562558486787,
          0.4738014556017657,
          0.572558954214446,
          0.7310528630993703,
          0.5531255146190028,
          0.7694232321963511,
          1,
          0.9626464501505726,
          0.9537023502705914,
          0.8808629474802868,
          0.741926877849657,
          0.7103648176405857,
          0.8364868110054178,
          0.917766004483843,
          0.8604293608071457,
          0.7830926785615973,
          0.7830926785615973
         ],
         "yaxis": "y"
        },
        {
         "hovertemplate": "variable=Fertility rate<br>Year=%{x}<br>value=%{y}<extra></extra>",
         "legendgroup": "Fertility rate",
         "line": {
          "color": "#B6E880",
          "dash": "solid"
         },
         "marker": {
          "symbol": "circle"
         },
         "mode": "lines",
         "name": "Fertility rate",
         "orientation": "v",
         "showlegend": true,
         "type": "scatter",
         "x": [
          1990,
          1991,
          1992,
          1993,
          1994,
          1995,
          1996,
          1997,
          1998,
          1999,
          2000,
          2001,
          2002,
          2003,
          2004,
          2005,
          2006,
          2007,
          2008,
          2009,
          2010,
          2011,
          2012,
          2013,
          2014,
          2015,
          2016,
          2017,
          2018,
          2019,
          2020,
          2021
         ],
         "xaxis": "x",
         "y": [
          1,
          0.9331103678929764,
          0.8762541806020065,
          0.8252508361204013,
          0.7801003344481603,
          0.7374581939799331,
          0.6939799331103679,
          0.649665551839465,
          0.6020066889632107,
          0.5510033444816055,
          0.4966555183946486,
          0.4397993311036791,
          0.382107023411371,
          0.3269230769230768,
          0.2734113712374581,
          0.225752508361204,
          0.1831103678929766,
          0.1471571906354514,
          0.1178929765886287,
          0.0936454849498328,
          0.0752508361204014,
          0.0627090301003344,
          0.0543478260869564,
          0.048494983277592,
          0.0434782608695652,
          0.0392976588628761,
          0.0342809364548496,
          0.0275919732441472,
          0.020066889632107,
          0.0108695652173914,
          0,
          0
         ],
         "yaxis": "y"
        },
        {
         "hovertemplate": "variable=Foreign investment<br>Year=%{x}<br>value=%{y}<extra></extra>",
         "legendgroup": "Foreign investment",
         "line": {
          "color": "#FF97FF",
          "dash": "solid"
         },
         "marker": {
          "symbol": "circle"
         },
         "mode": "lines",
         "name": "Foreign investment",
         "orientation": "v",
         "showlegend": true,
         "type": "scatter",
         "x": [
          1990,
          1991,
          1992,
          1993,
          1994,
          1995,
          1996,
          1997,
          1998,
          1999,
          2000,
          2001,
          2002,
          2003,
          2004,
          2005,
          2006,
          2007,
          2008,
          2009,
          2010,
          2011,
          2012,
          2013,
          2014,
          2015,
          2016,
          2017,
          2018,
          2019,
          2020,
          2021
         ],
         "xaxis": "x",
         "y": [
          0.9028263803649796,
          0.9051795475699635,
          0.8868048164161518,
          0.8980499516127354,
          0.8856933204172018,
          0.8712739128632568,
          0.7892435054452585,
          0.7270561022715525,
          0.6457043422095753,
          0.6368281885172583,
          0.600683188928251,
          0.6585882585371662,
          0.7647996437182484,
          0.8069951512581564,
          0.8225693952567471,
          0.7804057030070652,
          1,
          0.6305174581153141,
          0.6597282839211368,
          0.5452570580768711,
          0.3490518182781737,
          0.0413057193824803,
          0,
          0.3095926734000327,
          0.2340950193540358,
          0.2891987151008245,
          0.3092560157036884,
          0.4299801777397528,
          0.1436630499586901,
          0.4418979291177335,
          0.4929793557111374,
          0.632857118666097
         ],
         "yaxis": "y"
        },
        {
         "hovertemplate": "variable=GDP<br>Year=%{x}<br>value=%{y}<extra></extra>",
         "legendgroup": "GDP",
         "line": {
          "color": "#FECB52",
          "dash": "solid"
         },
         "marker": {
          "symbol": "circle"
         },
         "mode": "lines",
         "name": "GDP",
         "orientation": "v",
         "showlegend": true,
         "type": "scatter",
         "x": [
          1990,
          1991,
          1992,
          1993,
          1994,
          1995,
          1996,
          1997,
          1998,
          1999,
          2000,
          2001,
          2002,
          2003,
          2004,
          2005,
          2006,
          2007,
          2008,
          2009,
          2010,
          2011,
          2012,
          2013,
          2014,
          2015,
          2016,
          2017,
          2018,
          2019,
          2020,
          2021
         ],
         "xaxis": "x",
         "y": [
          0.0273332772125013,
          0.0063030945947597,
          0,
          0.0175298875936964,
          0.0861820838266866,
          0.1928109389452668,
          0.2282542140079774,
          0.2425813419666065,
          0.2340604886042737,
          0.1186441646551596,
          0.1430352824938007,
          0.1013107231781706,
          0.0793749186217016,
          0.1005458613344557,
          0.1490848118920109,
          0.246264685163947,
          0.3406684627838383,
          0.4671944684439054,
          0.5977649388326204,
          0.5851515241855028,
          0.8219737425650003,
          1,
          0.9340339248280816,
          0.9373517448872214,
          0.9300196531221996,
          0.6442501068671377,
          0.6414009709346071,
          0.7584573919237076,
          0.694391400640187,
          0.6772978821386393,
          0.4880072585942927,
          0.4880072585942927
         ],
         "yaxis": "y"
        },
        {
         "hovertemplate": "variable=Health services use<br>Year=%{x}<br>value=%{y}<extra></extra>",
         "legendgroup": "Health services use",
         "line": {
          "color": "#636efa",
          "dash": "solid"
         },
         "marker": {
          "symbol": "circle"
         },
         "mode": "lines",
         "name": "Health services use",
         "orientation": "v",
         "showlegend": true,
         "type": "scatter",
         "x": [
          1990,
          1991,
          1992,
          1993,
          1994,
          1995,
          1996,
          1997,
          1998,
          1999,
          2000,
          2001,
          2002,
          2003,
          2004,
          2005,
          2006,
          2007,
          2008,
          2009,
          2010,
          2011,
          2012,
          2013,
          2014,
          2015,
          2016,
          2017,
          2018,
          2019,
          2020,
          2021
         ],
         "xaxis": "x",
         "y": [
          0,
          0,
          0,
          0,
          0,
          0,
          0,
          0,
          0,
          0,
          0,
          0.0536353590101904,
          0.1061482849390583,
          0.1583414878235999,
          0.2101950504615466,
          0.2617154833042466,
          0.3129326530103816,
          0.363852226357041,
          0.4144789544692553,
          0.4647716229745934,
          0.5147830765606114,
          0.5647177711287686,
          0.6143733086348145,
          0.6637130470668032,
          0.7128068568127865,
          0.7616172397969403,
          0.8101303125628871,
          0.858374053826917,
          0.9063152204633722,
          0.9540005915548896,
          1,
          1
         ],
         "yaxis": "y"
        },
        {
         "hovertemplate": "variable=International taxes<br>Year=%{x}<br>value=%{y}<extra></extra>",
         "legendgroup": "International taxes",
         "line": {
          "color": "#EF553B",
          "dash": "solid"
         },
         "marker": {
          "symbol": "circle"
         },
         "mode": "lines",
         "name": "International taxes",
         "orientation": "v",
         "showlegend": true,
         "type": "scatter",
         "x": [
          1990,
          1991,
          1992,
          1993,
          1994,
          1995,
          1996,
          1997,
          1998,
          1999,
          2000,
          2001,
          2002,
          2003,
          2004,
          2005,
          2006,
          2007,
          2008,
          2009,
          2010,
          2011,
          2012,
          2013,
          2014,
          2015,
          2016,
          2017,
          2018,
          2019,
          2020,
          2021
         ],
         "xaxis": "x",
         "y": [
          0,
          0,
          0,
          0,
          0,
          0,
          0,
          0,
          0,
          0,
          0,
          0,
          0,
          0,
          0,
          0,
          0,
          0,
          0,
          0,
          0,
          0.2549237986407653,
          0.4597727954975766,
          0.7274849685012854,
          0.7180866135164272,
          0.8186054920027334,
          0.4743577398000932,
          0.515664503963792,
          0.8979992089225634,
          1,
          1,
          1
         ],
         "yaxis": "y"
        },
        {
         "hovertemplate": "variable=Literacy rate<br>Year=%{x}<br>value=%{y}<extra></extra>",
         "legendgroup": "Literacy rate",
         "line": {
          "color": "#00cc96",
          "dash": "solid"
         },
         "marker": {
          "symbol": "circle"
         },
         "mode": "lines",
         "name": "Literacy rate",
         "orientation": "v",
         "showlegend": true,
         "type": "scatter",
         "x": [
          1990,
          1991,
          1992,
          1993,
          1994,
          1995,
          1996,
          1997,
          1998,
          1999,
          2000,
          2001,
          2002,
          2003,
          2004,
          2005,
          2006,
          2007,
          2008,
          2009,
          2010,
          2011,
          2012,
          2013,
          2014,
          2015,
          2016,
          2017,
          2018,
          2019,
          2020,
          2021
         ],
         "xaxis": "x",
         "y": [
          0,
          0,
          0,
          0,
          0,
          0,
          0,
          0,
          0,
          0,
          0,
          0,
          0,
          0,
          0,
          0.1083202213078338,
          0.2166404426156676,
          0.3021143037721403,
          0.3080242287068222,
          0.3647525591199442,
          0.3823119189552747,
          0.606124680885561,
          0.5902099082240928,
          0.6219550733197983,
          0.6751278525894181,
          0.7441905868065839,
          0.9091224952722406,
          0.9671066020082678,
          1,
          1,
          1,
          1
         ],
         "yaxis": "y"
        },
        {
         "hovertemplate": "variable=Mortality-infants<br>Year=%{x}<br>value=%{y}<extra></extra>",
         "legendgroup": "Mortality-infants",
         "line": {
          "color": "#ab63fa",
          "dash": "solid"
         },
         "marker": {
          "symbol": "circle"
         },
         "mode": "lines",
         "name": "Mortality-infants",
         "orientation": "v",
         "showlegend": true,
         "type": "scatter",
         "x": [
          1990,
          1991,
          1992,
          1993,
          1994,
          1995,
          1996,
          1997,
          1998,
          1999,
          2000,
          2001,
          2002,
          2003,
          2004,
          2005,
          2006,
          2007,
          2008,
          2009,
          2010,
          2011,
          2012,
          2013,
          2014,
          2015,
          2016,
          2017,
          2018,
          2019,
          2020,
          2021
         ],
         "xaxis": "x",
         "y": [
          1,
          0.9427646479251705,
          0.8852541874064311,
          0.826342593184988,
          0.7676677201827232,
          0.7092935471075226,
          0.6533953500275108,
          0.5987127483973333,
          0.5456424102058834,
          0.493576537728244,
          0.4424639479981062,
          0.3921830814704866,
          0.3434504996737086,
          0.2970339471024043,
          0.2536179959309542,
          0.2133306035751302,
          0.1776944632826195,
          0.1465816176376501,
          0.1198641092244501,
          0.0977082826835229,
          0.079096876559481,
          0.0640810738186331,
          0.052168238410257,
          0.0425842279689319,
          0.0349451702473416,
          0.0284513313969111,
          0.0412726644572686,
          0.0175685531854998,
          0.0121623523691315,
          0.0063274942099269,
          0,
          0
         ],
         "yaxis": "y"
        },
        {
         "hovertemplate": "variable=Net migration<br>Year=%{x}<br>value=%{y}<extra></extra>",
         "legendgroup": "Net migration",
         "line": {
          "color": "#FFA15A",
          "dash": "solid"
         },
         "marker": {
          "symbol": "circle"
         },
         "mode": "lines",
         "name": "Net migration",
         "orientation": "v",
         "showlegend": true,
         "type": "scatter",
         "x": [
          1990,
          1991,
          1992,
          1993,
          1994,
          1995,
          1996,
          1997,
          1998,
          1999,
          2000,
          2001,
          2002,
          2003,
          2004,
          2005,
          2006,
          2007,
          2008,
          2009,
          2010,
          2011,
          2012,
          2013,
          2014,
          2015,
          2016,
          2017,
          2018,
          2019,
          2020,
          2021
         ],
         "xaxis": "x",
         "y": [
          0,
          0,
          0,
          0,
          0,
          0,
          0,
          0,
          0,
          0,
          0,
          0,
          0,
          0,
          0,
          0,
          0,
          0,
          0.2,
          0.4,
          0.6000000000000001,
          0.8,
          1,
          1,
          1,
          1,
          1,
          1,
          1,
          1,
          1,
          1
         ],
         "yaxis": "y"
        },
        {
         "hovertemplate": "variable=Ninis<br>Year=%{x}<br>value=%{y}<extra></extra>",
         "legendgroup": "Ninis",
         "line": {
          "color": "#19d3f3",
          "dash": "solid"
         },
         "marker": {
          "symbol": "circle"
         },
         "mode": "lines",
         "name": "Ninis",
         "orientation": "v",
         "showlegend": true,
         "type": "scatter",
         "x": [
          1990,
          1991,
          1992,
          1993,
          1994,
          1995,
          1996,
          1997,
          1998,
          1999,
          2000,
          2001,
          2002,
          2003,
          2004,
          2005,
          2006,
          2007,
          2008,
          2009,
          2010,
          2011,
          2012,
          2013,
          2014,
          2015,
          2016,
          2017,
          2018,
          2019,
          2020,
          2021
         ],
         "xaxis": "x",
         "y": [
          0.3850172774557746,
          0.3850172774557746,
          0.3850172774557746,
          0.3850172774557746,
          0.3850172774557746,
          0.3850172774557746,
          0.4616724258185913,
          0.4128918164439407,
          0.3693378077385889,
          0.2735191215030917,
          0.2534843173735182,
          0.2334495132439447,
          0.1602787653273329,
          0.1689894341521089,
          0.116724756621981,
          0.1289198258929619,
          0.1620209655504267,
          0.1515677642118293,
          0,
          0.0801392165183113,
          0.1341462604169051,
          0.188153304315499,
          0.38153320930028,
          0.4442507558783117,
          0.4076655480653523,
          0.658536398958867,
          0.9634144598963305,
          0.9756096399308872,
          0.9878048199654432,
          1,
          1,
          1
         ],
         "yaxis": "y"
        },
        {
         "hovertemplate": "variable=R&D GExp<br>Year=%{x}<br>value=%{y}<extra></extra>",
         "legendgroup": "R&D GExp",
         "line": {
          "color": "#FF6692",
          "dash": "solid"
         },
         "marker": {
          "symbol": "circle"
         },
         "mode": "lines",
         "name": "R&D GExp",
         "orientation": "v",
         "showlegend": true,
         "type": "scatter",
         "x": [
          1990,
          1991,
          1992,
          1993,
          1994,
          1995,
          1996,
          1997,
          1998,
          1999,
          2000,
          2001,
          2002,
          2003,
          2004,
          2005,
          2006,
          2007,
          2008,
          2009,
          2010,
          2011,
          2012,
          2013,
          2014,
          2015,
          2016,
          2017,
          2018,
          2019,
          2020,
          2021
         ],
         "xaxis": "x",
         "y": [
          0.2217241106510902,
          0.2217241106510902,
          0.2217241106510902,
          0.2217241106510902,
          0.2217241106510902,
          0.2217241106510902,
          0.2217241106510902,
          0.2217241106510902,
          0.2217241106510902,
          0.2217241106510902,
          0.2217241106510902,
          0.2598823870678513,
          0.121964083225653,
          0.0948287228712322,
          0,
          0.1029245009361564,
          0.0649771894201102,
          0.3110413754911526,
          0.4367237150919016,
          0.4093510192241765,
          0.5181561667677541,
          0.4647293056617702,
          0.430922180322249,
          0.6124311067746103,
          0.8118984204003056,
          1,
          0.7911183776799136,
          0.344110123678173,
          0.5193692149468631,
          0.5193692149468631,
          0.5193692149468631,
          0.5193692149468631
         ],
         "yaxis": "y"
        },
        {
         "hovertemplate": "variable=Renewable electricity<br>Year=%{x}<br>value=%{y}<extra></extra>",
         "legendgroup": "Renewable electricity",
         "line": {
          "color": "#B6E880",
          "dash": "solid"
         },
         "marker": {
          "symbol": "circle"
         },
         "mode": "lines",
         "name": "Renewable electricity",
         "orientation": "v",
         "showlegend": true,
         "type": "scatter",
         "x": [
          1990,
          1991,
          1992,
          1993,
          1994,
          1995,
          1996,
          1997,
          1998,
          1999,
          2000,
          2001,
          2002,
          2003,
          2004,
          2005,
          2006,
          2007,
          2008,
          2009,
          2010,
          2011,
          2012,
          2013,
          2014,
          2015,
          2016,
          2017,
          2018,
          2019,
          2020,
          2021
         ],
         "xaxis": "x",
         "y": [
          0,
          0.0032469038452618,
          0.0241198571362308,
          0.0253954265040122,
          0.0354608284243239,
          0.0402384155109235,
          0.0671413330859501,
          0.0817292082193051,
          0.0846746138503641,
          0.1045734959877545,
          0.0924671830789925,
          0.1195788301869288,
          0.1489169256459019,
          0.1877638109374275,
          0.2012616540655874,
          0.2278630734264112,
          0.2574562827589405,
          0.3434992346583793,
          0.3895125005798042,
          0.4634027552298344,
          0.6914281738485087,
          0.7208126536481284,
          0.8448443805371306,
          1,
          1,
          1,
          1,
          1,
          1,
          1,
          1,
          1
         ],
         "yaxis": "y"
        },
        {
         "hovertemplate": "variable=Suicide<br>Year=%{x}<br>value=%{y}<extra></extra>",
         "legendgroup": "Suicide",
         "line": {
          "color": "#FF97FF",
          "dash": "solid"
         },
         "marker": {
          "symbol": "circle"
         },
         "mode": "lines",
         "name": "Suicide",
         "orientation": "v",
         "showlegend": true,
         "type": "scatter",
         "x": [
          1990,
          1991,
          1992,
          1993,
          1994,
          1995,
          1996,
          1997,
          1998,
          1999,
          2000,
          2001,
          2002,
          2003,
          2004,
          2005,
          2006,
          2007,
          2008,
          2009,
          2010,
          2011,
          2012,
          2013,
          2014,
          2015,
          2016,
          2017,
          2018,
          2019,
          2020,
          2021
         ],
         "xaxis": "x",
         "y": [
          0,
          0,
          0,
          0,
          0,
          0,
          0,
          0,
          0,
          0,
          0,
          0.1333333333333334,
          0.1333333333333334,
          0.0999999999999999,
          0.1333333333333334,
          0.2333333333333334,
          0.2333333333333334,
          0.3000000000000001,
          0.3666666666666665,
          0.3666666666666665,
          0.3333333333333333,
          0.4000000000000001,
          0.4666666666666668,
          0.5333333333333332,
          0.5333333333333332,
          0.6333333333333334,
          0.6666666666666666,
          0.8666666666666666,
          1,
          0.9666666666666668,
          0.9666666666666668,
          0.9666666666666668
         ],
         "yaxis": "y"
        },
        {
         "hovertemplate": "variable=Workers high education<br>Year=%{x}<br>value=%{y}<extra></extra>",
         "legendgroup": "Workers high education",
         "line": {
          "color": "#FECB52",
          "dash": "solid"
         },
         "marker": {
          "symbol": "circle"
         },
         "mode": "lines",
         "name": "Workers high education",
         "orientation": "v",
         "showlegend": true,
         "type": "scatter",
         "x": [
          1990,
          1991,
          1992,
          1993,
          1994,
          1995,
          1996,
          1997,
          1998,
          1999,
          2000,
          2001,
          2002,
          2003,
          2004,
          2005,
          2006,
          2007,
          2008,
          2009,
          2010,
          2011,
          2012,
          2013,
          2014,
          2015,
          2016,
          2017,
          2018,
          2019,
          2020,
          2021
         ],
         "xaxis": "x",
         "y": [
          1,
          1,
          1,
          1,
          1,
          1,
          0.7128966688633044,
          0.866180933906308,
          0.7226274120344244,
          0.5036504209168283,
          0.5523115619866199,
          0.6009727030564114,
          0.7201956543934253,
          0.5936737175262905,
          0.4890505935530542,
          0.6861324843838478,
          0.5936737175262905,
          0.5985409454154123,
          0.520682005921605,
          0.5936737175262905,
          0.4416053313037744,
          0.2895369450812582,
          0.0486611410697915,
          0,
          0.3406317000956089,
          0.2238442190066935,
          0.2919705590258173,
          0.2871051874402591,
          0.2189769911175959,
          0.2919705590258173,
          0.2919705590258173,
          0.2919705590258173
         ],
         "yaxis": "y"
        }
       ],
       "layout": {
        "height": 600,
        "legend": {
         "title": {
          "text": "variable"
         },
         "tracegroupgap": 0
        },
        "template": {
         "data": {
          "bar": [
           {
            "error_x": {
             "color": "#2a3f5f"
            },
            "error_y": {
             "color": "#2a3f5f"
            },
            "marker": {
             "line": {
              "color": "#E5ECF6",
              "width": 0.5
             },
             "pattern": {
              "fillmode": "overlay",
              "size": 10,
              "solidity": 0.2
             }
            },
            "type": "bar"
           }
          ],
          "barpolar": [
           {
            "marker": {
             "line": {
              "color": "#E5ECF6",
              "width": 0.5
             },
             "pattern": {
              "fillmode": "overlay",
              "size": 10,
              "solidity": 0.2
             }
            },
            "type": "barpolar"
           }
          ],
          "carpet": [
           {
            "aaxis": {
             "endlinecolor": "#2a3f5f",
             "gridcolor": "white",
             "linecolor": "white",
             "minorgridcolor": "white",
             "startlinecolor": "#2a3f5f"
            },
            "baxis": {
             "endlinecolor": "#2a3f5f",
             "gridcolor": "white",
             "linecolor": "white",
             "minorgridcolor": "white",
             "startlinecolor": "#2a3f5f"
            },
            "type": "carpet"
           }
          ],
          "choropleth": [
           {
            "colorbar": {
             "outlinewidth": 0,
             "ticks": ""
            },
            "type": "choropleth"
           }
          ],
          "contour": [
           {
            "colorbar": {
             "outlinewidth": 0,
             "ticks": ""
            },
            "colorscale": [
             [
              0,
              "#0d0887"
             ],
             [
              0.1111111111111111,
              "#46039f"
             ],
             [
              0.2222222222222222,
              "#7201a8"
             ],
             [
              0.3333333333333333,
              "#9c179e"
             ],
             [
              0.4444444444444444,
              "#bd3786"
             ],
             [
              0.5555555555555556,
              "#d8576b"
             ],
             [
              0.6666666666666666,
              "#ed7953"
             ],
             [
              0.7777777777777778,
              "#fb9f3a"
             ],
             [
              0.8888888888888888,
              "#fdca26"
             ],
             [
              1,
              "#f0f921"
             ]
            ],
            "type": "contour"
           }
          ],
          "contourcarpet": [
           {
            "colorbar": {
             "outlinewidth": 0,
             "ticks": ""
            },
            "type": "contourcarpet"
           }
          ],
          "heatmap": [
           {
            "colorbar": {
             "outlinewidth": 0,
             "ticks": ""
            },
            "colorscale": [
             [
              0,
              "#0d0887"
             ],
             [
              0.1111111111111111,
              "#46039f"
             ],
             [
              0.2222222222222222,
              "#7201a8"
             ],
             [
              0.3333333333333333,
              "#9c179e"
             ],
             [
              0.4444444444444444,
              "#bd3786"
             ],
             [
              0.5555555555555556,
              "#d8576b"
             ],
             [
              0.6666666666666666,
              "#ed7953"
             ],
             [
              0.7777777777777778,
              "#fb9f3a"
             ],
             [
              0.8888888888888888,
              "#fdca26"
             ],
             [
              1,
              "#f0f921"
             ]
            ],
            "type": "heatmap"
           }
          ],
          "heatmapgl": [
           {
            "colorbar": {
             "outlinewidth": 0,
             "ticks": ""
            },
            "colorscale": [
             [
              0,
              "#0d0887"
             ],
             [
              0.1111111111111111,
              "#46039f"
             ],
             [
              0.2222222222222222,
              "#7201a8"
             ],
             [
              0.3333333333333333,
              "#9c179e"
             ],
             [
              0.4444444444444444,
              "#bd3786"
             ],
             [
              0.5555555555555556,
              "#d8576b"
             ],
             [
              0.6666666666666666,
              "#ed7953"
             ],
             [
              0.7777777777777778,
              "#fb9f3a"
             ],
             [
              0.8888888888888888,
              "#fdca26"
             ],
             [
              1,
              "#f0f921"
             ]
            ],
            "type": "heatmapgl"
           }
          ],
          "histogram": [
           {
            "marker": {
             "pattern": {
              "fillmode": "overlay",
              "size": 10,
              "solidity": 0.2
             }
            },
            "type": "histogram"
           }
          ],
          "histogram2d": [
           {
            "colorbar": {
             "outlinewidth": 0,
             "ticks": ""
            },
            "colorscale": [
             [
              0,
              "#0d0887"
             ],
             [
              0.1111111111111111,
              "#46039f"
             ],
             [
              0.2222222222222222,
              "#7201a8"
             ],
             [
              0.3333333333333333,
              "#9c179e"
             ],
             [
              0.4444444444444444,
              "#bd3786"
             ],
             [
              0.5555555555555556,
              "#d8576b"
             ],
             [
              0.6666666666666666,
              "#ed7953"
             ],
             [
              0.7777777777777778,
              "#fb9f3a"
             ],
             [
              0.8888888888888888,
              "#fdca26"
             ],
             [
              1,
              "#f0f921"
             ]
            ],
            "type": "histogram2d"
           }
          ],
          "histogram2dcontour": [
           {
            "colorbar": {
             "outlinewidth": 0,
             "ticks": ""
            },
            "colorscale": [
             [
              0,
              "#0d0887"
             ],
             [
              0.1111111111111111,
              "#46039f"
             ],
             [
              0.2222222222222222,
              "#7201a8"
             ],
             [
              0.3333333333333333,
              "#9c179e"
             ],
             [
              0.4444444444444444,
              "#bd3786"
             ],
             [
              0.5555555555555556,
              "#d8576b"
             ],
             [
              0.6666666666666666,
              "#ed7953"
             ],
             [
              0.7777777777777778,
              "#fb9f3a"
             ],
             [
              0.8888888888888888,
              "#fdca26"
             ],
             [
              1,
              "#f0f921"
             ]
            ],
            "type": "histogram2dcontour"
           }
          ],
          "mesh3d": [
           {
            "colorbar": {
             "outlinewidth": 0,
             "ticks": ""
            },
            "type": "mesh3d"
           }
          ],
          "parcoords": [
           {
            "line": {
             "colorbar": {
              "outlinewidth": 0,
              "ticks": ""
             }
            },
            "type": "parcoords"
           }
          ],
          "pie": [
           {
            "automargin": true,
            "type": "pie"
           }
          ],
          "scatter": [
           {
            "fillpattern": {
             "fillmode": "overlay",
             "size": 10,
             "solidity": 0.2
            },
            "type": "scatter"
           }
          ],
          "scatter3d": [
           {
            "line": {
             "colorbar": {
              "outlinewidth": 0,
              "ticks": ""
             }
            },
            "marker": {
             "colorbar": {
              "outlinewidth": 0,
              "ticks": ""
             }
            },
            "type": "scatter3d"
           }
          ],
          "scattercarpet": [
           {
            "marker": {
             "colorbar": {
              "outlinewidth": 0,
              "ticks": ""
             }
            },
            "type": "scattercarpet"
           }
          ],
          "scattergeo": [
           {
            "marker": {
             "colorbar": {
              "outlinewidth": 0,
              "ticks": ""
             }
            },
            "type": "scattergeo"
           }
          ],
          "scattergl": [
           {
            "marker": {
             "colorbar": {
              "outlinewidth": 0,
              "ticks": ""
             }
            },
            "type": "scattergl"
           }
          ],
          "scattermapbox": [
           {
            "marker": {
             "colorbar": {
              "outlinewidth": 0,
              "ticks": ""
             }
            },
            "type": "scattermapbox"
           }
          ],
          "scatterpolar": [
           {
            "marker": {
             "colorbar": {
              "outlinewidth": 0,
              "ticks": ""
             }
            },
            "type": "scatterpolar"
           }
          ],
          "scatterpolargl": [
           {
            "marker": {
             "colorbar": {
              "outlinewidth": 0,
              "ticks": ""
             }
            },
            "type": "scatterpolargl"
           }
          ],
          "scatterternary": [
           {
            "marker": {
             "colorbar": {
              "outlinewidth": 0,
              "ticks": ""
             }
            },
            "type": "scatterternary"
           }
          ],
          "surface": [
           {
            "colorbar": {
             "outlinewidth": 0,
             "ticks": ""
            },
            "colorscale": [
             [
              0,
              "#0d0887"
             ],
             [
              0.1111111111111111,
              "#46039f"
             ],
             [
              0.2222222222222222,
              "#7201a8"
             ],
             [
              0.3333333333333333,
              "#9c179e"
             ],
             [
              0.4444444444444444,
              "#bd3786"
             ],
             [
              0.5555555555555556,
              "#d8576b"
             ],
             [
              0.6666666666666666,
              "#ed7953"
             ],
             [
              0.7777777777777778,
              "#fb9f3a"
             ],
             [
              0.8888888888888888,
              "#fdca26"
             ],
             [
              1,
              "#f0f921"
             ]
            ],
            "type": "surface"
           }
          ],
          "table": [
           {
            "cells": {
             "fill": {
              "color": "#EBF0F8"
             },
             "line": {
              "color": "white"
             }
            },
            "header": {
             "fill": {
              "color": "#C8D4E3"
             },
             "line": {
              "color": "white"
             }
            },
            "type": "table"
           }
          ]
         },
         "layout": {
          "annotationdefaults": {
           "arrowcolor": "#2a3f5f",
           "arrowhead": 0,
           "arrowwidth": 1
          },
          "autotypenumbers": "strict",
          "coloraxis": {
           "colorbar": {
            "outlinewidth": 0,
            "ticks": ""
           }
          },
          "colorscale": {
           "diverging": [
            [
             0,
             "#8e0152"
            ],
            [
             0.1,
             "#c51b7d"
            ],
            [
             0.2,
             "#de77ae"
            ],
            [
             0.3,
             "#f1b6da"
            ],
            [
             0.4,
             "#fde0ef"
            ],
            [
             0.5,
             "#f7f7f7"
            ],
            [
             0.6,
             "#e6f5d0"
            ],
            [
             0.7,
             "#b8e186"
            ],
            [
             0.8,
             "#7fbc41"
            ],
            [
             0.9,
             "#4d9221"
            ],
            [
             1,
             "#276419"
            ]
           ],
           "sequential": [
            [
             0,
             "#0d0887"
            ],
            [
             0.1111111111111111,
             "#46039f"
            ],
            [
             0.2222222222222222,
             "#7201a8"
            ],
            [
             0.3333333333333333,
             "#9c179e"
            ],
            [
             0.4444444444444444,
             "#bd3786"
            ],
            [
             0.5555555555555556,
             "#d8576b"
            ],
            [
             0.6666666666666666,
             "#ed7953"
            ],
            [
             0.7777777777777778,
             "#fb9f3a"
            ],
            [
             0.8888888888888888,
             "#fdca26"
            ],
            [
             1,
             "#f0f921"
            ]
           ],
           "sequentialminus": [
            [
             0,
             "#0d0887"
            ],
            [
             0.1111111111111111,
             "#46039f"
            ],
            [
             0.2222222222222222,
             "#7201a8"
            ],
            [
             0.3333333333333333,
             "#9c179e"
            ],
            [
             0.4444444444444444,
             "#bd3786"
            ],
            [
             0.5555555555555556,
             "#d8576b"
            ],
            [
             0.6666666666666666,
             "#ed7953"
            ],
            [
             0.7777777777777778,
             "#fb9f3a"
            ],
            [
             0.8888888888888888,
             "#fdca26"
            ],
            [
             1,
             "#f0f921"
            ]
           ]
          },
          "colorway": [
           "#636efa",
           "#EF553B",
           "#00cc96",
           "#ab63fa",
           "#FFA15A",
           "#19d3f3",
           "#FF6692",
           "#B6E880",
           "#FF97FF",
           "#FECB52"
          ],
          "font": {
           "color": "#2a3f5f"
          },
          "geo": {
           "bgcolor": "white",
           "lakecolor": "white",
           "landcolor": "#E5ECF6",
           "showlakes": true,
           "showland": true,
           "subunitcolor": "white"
          },
          "hoverlabel": {
           "align": "left"
          },
          "hovermode": "closest",
          "mapbox": {
           "style": "light"
          },
          "paper_bgcolor": "white",
          "plot_bgcolor": "#E5ECF6",
          "polar": {
           "angularaxis": {
            "gridcolor": "white",
            "linecolor": "white",
            "ticks": ""
           },
           "bgcolor": "#E5ECF6",
           "radialaxis": {
            "gridcolor": "white",
            "linecolor": "white",
            "ticks": ""
           }
          },
          "scene": {
           "xaxis": {
            "backgroundcolor": "#E5ECF6",
            "gridcolor": "white",
            "gridwidth": 2,
            "linecolor": "white",
            "showbackground": true,
            "ticks": "",
            "zerolinecolor": "white"
           },
           "yaxis": {
            "backgroundcolor": "#E5ECF6",
            "gridcolor": "white",
            "gridwidth": 2,
            "linecolor": "white",
            "showbackground": true,
            "ticks": "",
            "zerolinecolor": "white"
           },
           "zaxis": {
            "backgroundcolor": "#E5ECF6",
            "gridcolor": "white",
            "gridwidth": 2,
            "linecolor": "white",
            "showbackground": true,
            "ticks": "",
            "zerolinecolor": "white"
           }
          },
          "shapedefaults": {
           "line": {
            "color": "#2a3f5f"
           }
          },
          "ternary": {
           "aaxis": {
            "gridcolor": "white",
            "linecolor": "white",
            "ticks": ""
           },
           "baxis": {
            "gridcolor": "white",
            "linecolor": "white",
            "ticks": ""
           },
           "bgcolor": "#E5ECF6",
           "caxis": {
            "gridcolor": "white",
            "linecolor": "white",
            "ticks": ""
           }
          },
          "title": {
           "x": 0.05
          },
          "xaxis": {
           "automargin": true,
           "gridcolor": "white",
           "linecolor": "white",
           "ticks": "",
           "title": {
            "standoff": 15
           },
           "zerolinecolor": "white",
           "zerolinewidth": 2
          },
          "yaxis": {
           "automargin": true,
           "gridcolor": "white",
           "linecolor": "white",
           "ticks": "",
           "title": {
            "standoff": 15
           },
           "zerolinecolor": "white",
           "zerolinewidth": 2
          }
         }
        },
        "title": {
         "text": "BRA"
        },
        "width": 800,
        "xaxis": {
         "anchor": "y",
         "domain": [
          0,
          1
         ],
         "title": {
          "text": "Year"
         }
        },
        "yaxis": {
         "anchor": "x",
         "domain": [
          0,
          1
         ],
         "title": {
          "text": "value"
         }
        }
       }
      }
     },
     "metadata": {},
     "output_type": "display_data"
    },
    {
     "data": {
      "application/vnd.plotly.v1+json": {
       "config": {
        "plotlyServerURL": "https://plot.ly"
       },
       "data": [
        {
         "hovertemplate": "variable=Alcohol per capita<br>Year=%{x}<br>value=%{y}<extra></extra>",
         "legendgroup": "Alcohol per capita",
         "line": {
          "color": "#636efa",
          "dash": "solid"
         },
         "marker": {
          "symbol": "circle"
         },
         "mode": "lines",
         "name": "Alcohol per capita",
         "orientation": "v",
         "showlegend": true,
         "type": "scatter",
         "x": [
          1990,
          1991,
          1992,
          1993,
          1994,
          1995,
          1996,
          1997,
          1998,
          1999,
          2000,
          2001,
          2002,
          2003,
          2004,
          2005,
          2006,
          2007,
          2008,
          2009,
          2010,
          2011,
          2012,
          2013,
          2014,
          2015,
          2016,
          2017,
          2018,
          2019,
          2020
         ],
         "xaxis": "x",
         "y": [
          0.0909090909090907,
          0.0909090909090907,
          0.0909090909090907,
          0.0909090909090907,
          0.0909090909090907,
          0.0909090909090907,
          0.0909090909090907,
          0.0909090909090907,
          0.0909090909090907,
          0.0909090909090907,
          0.0909090909090907,
          0.0727272727272718,
          0.0545454545454548,
          0.0363636363636359,
          0.0181818181818188,
          0,
          0.0868686868686871,
          0.1737373737373743,
          0.2606060606060597,
          0.3474747474747468,
          0.434343434343434,
          0.5272727272727274,
          0.6202020202020209,
          0.7131313131313125,
          0.8060606060606059,
          0.8989898989898993,
          0.932659932659933,
          0.9663299663299664,
          1,
          1,
          1
         ],
         "yaxis": "y"
        },
        {
         "hovertemplate": "variable=Education GExp<br>Year=%{x}<br>value=%{y}<extra></extra>",
         "legendgroup": "Education GExp",
         "line": {
          "color": "#EF553B",
          "dash": "solid"
         },
         "marker": {
          "symbol": "circle"
         },
         "mode": "lines",
         "name": "Education GExp",
         "orientation": "v",
         "showlegend": true,
         "type": "scatter",
         "x": [
          1990,
          1991,
          1992,
          1993,
          1994,
          1995,
          1996,
          1997,
          1998,
          1999,
          2000,
          2001,
          2002,
          2003,
          2004,
          2005,
          2006,
          2007,
          2008,
          2009,
          2010,
          2011,
          2012,
          2013,
          2014,
          2015,
          2016,
          2017,
          2018,
          2019,
          2020
         ],
         "xaxis": "x",
         "y": [
          0.7337397839790964,
          0.7337397839790964,
          0.7337397839790964,
          0.7337397839790964,
          0.7337397839790964,
          0.7337397839790964,
          0.7337397839790964,
          0.7621267185693164,
          0.7905136531595359,
          0.8559100581325241,
          0.9448670700510462,
          0.9779915079022192,
          1,
          0.4673235777391005,
          0.6675293582839825,
          0.8369327893874132,
          0.7620820630229781,
          0.6579015251511684,
          0.8228138494005635,
          0.8924334279495603,
          0.6442240301837385,
          0.672443901926195,
          0.5090549766963729,
          0.4936601291920412,
          0.325601474922806,
          0.3674453036479815,
          0.2123571995934991,
          0.1889778917325818,
          0,
          0.0017173525369271,
          0.0017173525369271
         ],
         "yaxis": "y"
        },
        {
         "hovertemplate": "variable=Employment-agriculture<br>Year=%{x}<br>value=%{y}<extra></extra>",
         "legendgroup": "Employment-agriculture",
         "line": {
          "color": "#00cc96",
          "dash": "solid"
         },
         "marker": {
          "symbol": "circle"
         },
         "mode": "lines",
         "name": "Employment-agriculture",
         "orientation": "v",
         "showlegend": true,
         "type": "scatter",
         "x": [
          1990,
          1991,
          1992,
          1993,
          1994,
          1995,
          1996,
          1997,
          1998,
          1999,
          2000,
          2001,
          2002,
          2003,
          2004,
          2005,
          2006,
          2007,
          2008,
          2009,
          2010,
          2011,
          2012,
          2013,
          2014,
          2015,
          2016,
          2017,
          2018,
          2019,
          2020
         ],
         "xaxis": "x",
         "y": [
          0.1944444476782036,
          0.1944444476782036,
          0.2361111159617491,
          0.2708333257339998,
          0.2708333257339998,
          0.3888888927693999,
          0.4861111049669692,
          0.513888897620038,
          0.4861111049669692,
          0.4722222293364918,
          0.4236111232377074,
          0.5347222110657536,
          0.6388889024706762,
          0.9305555390633836,
          1,
          0.8472222024962924,
          0.6874999671773439,
          0.7361111146682449,
          0.7916666999743867,
          0.8125000134201023,
          0.8402777646810514,
          0.4027777683998767,
          0.3888888927693999,
          0.3888888927693999,
          0.3402777866706148,
          0.1388888830681229,
          0.0486111086857916,
          0,
          0.027777779718033,
          0,
          0
         ],
         "yaxis": "y"
        },
        {
         "hovertemplate": "variable=Employment-industry<br>Year=%{x}<br>value=%{y}<extra></extra>",
         "legendgroup": "Employment-industry",
         "line": {
          "color": "#ab63fa",
          "dash": "solid"
         },
         "marker": {
          "symbol": "circle"
         },
         "mode": "lines",
         "name": "Employment-industry",
         "orientation": "v",
         "showlegend": true,
         "type": "scatter",
         "x": [
          1990,
          1991,
          1992,
          1993,
          1994,
          1995,
          1996,
          1997,
          1998,
          1999,
          2000,
          2001,
          2002,
          2003,
          2004,
          2005,
          2006,
          2007,
          2008,
          2009,
          2010,
          2011,
          2012,
          2013,
          2014,
          2015,
          2016,
          2017,
          2018,
          2019,
          2020
         ],
         "xaxis": "x",
         "y": [
          1,
          1,
          1,
          1,
          1,
          1,
          0.6957787631331473,
          0.7772925036765749,
          0.6812226686275082,
          0.5036390930350146,
          0.3726347977530469,
          0.2620088681983417,
          0,
          0.2285300451794402,
          0.3595343404614079,
          0.4425037182188355,
          0.502183455821,
          0.5400291904819163,
          0.5531296477735553,
          0.4323145353552113,
          0.4541485382964744,
          0.5458514617035256,
          0.5007278186069998,
          0.5429404649099311,
          0.5735080135008033,
          0.5007278186069998,
          0.3871906146242803,
          0.3231442430145062,
          0.2459971364786878,
          0.2358079536150641,
          0.2358079536150641
         ],
         "yaxis": "y"
        },
        {
         "hovertemplate": "variable=Employment-services<br>Year=%{x}<br>value=%{y}<extra></extra>",
         "legendgroup": "Employment-services",
         "line": {
          "color": "#FFA15A",
          "dash": "solid"
         },
         "marker": {
          "symbol": "circle"
         },
         "mode": "lines",
         "name": "Employment-services",
         "orientation": "v",
         "showlegend": true,
         "type": "scatter",
         "x": [
          1990,
          1991,
          1992,
          1993,
          1994,
          1995,
          1996,
          1997,
          1998,
          1999,
          2000,
          2001,
          2002,
          2003,
          2004,
          2005,
          2006,
          2007,
          2008,
          2009,
          2010,
          2011,
          2012,
          2013,
          2014,
          2015,
          2016,
          2017,
          2018,
          2019,
          2020
         ],
         "xaxis": "x",
         "y": [
          0,
          0,
          0,
          0,
          0,
          0,
          0.2980033494320198,
          0.208909395402916,
          0.3148993471068674,
          0.5053763188828104,
          0.6543779935988127,
          0.7465436275825408,
          1,
          0.694315692757012,
          0.5407059121342621,
          0.4869427233062214,
          0.4592929159161395,
          0.408601407042721,
          0.3824880256047645,
          0.5053763188828104,
          0.4761900855406007,
          0.4761900855406007,
          0.5284180203661447,
          0.4838710433516016,
          0.4608293418682497,
          0.5821812091941854,
          0.7219655001470787,
          0.8003068164105792,
          0.8755752807698286,
          0.8924724503943051,
          0.8924724503943051
         ],
         "yaxis": "y"
        },
        {
         "hovertemplate": "variable=Exports-Commercial services<br>Year=%{x}<br>value=%{y}<extra></extra>",
         "legendgroup": "Exports-Commercial services",
         "line": {
          "color": "#19d3f3",
          "dash": "solid"
         },
         "marker": {
          "symbol": "circle"
         },
         "mode": "lines",
         "name": "Exports-Commercial services",
         "orientation": "v",
         "showlegend": true,
         "type": "scatter",
         "x": [
          1990,
          1991,
          1992,
          1993,
          1994,
          1995,
          1996,
          1997,
          1998,
          1999,
          2000,
          2001,
          2002,
          2003,
          2004,
          2005,
          2006,
          2007,
          2008,
          2009,
          2010,
          2011,
          2012,
          2013,
          2014,
          2015,
          2016,
          2017,
          2018,
          2019,
          2020
         ],
         "xaxis": "x",
         "y": [
          0.0068701765003476,
          0,
          0.0509996102209144,
          0.054309508588193,
          0.0768391073916665,
          0.1137777563752027,
          0.1576747218337638,
          0.1722713147684414,
          0.1924236867983685,
          0.1812290519038184,
          0.1958397486459701,
          0.1722928112053633,
          0.0900145792134445,
          0.1626567721163431,
          0.2220120436675693,
          0.3182303922608278,
          0.4284671476348854,
          0.5909463782593462,
          0.6945605880895894,
          0.6286211553663366,
          0.7982699525673983,
          0.9253170847738968,
          0.9063813097550186,
          0.8635918674468337,
          0.8408972224211241,
          0.8268287743802407,
          0.8449058999825543,
          1,
          0.9886283245303004,
          0.9464887626352644,
          0.5389126064841571
         ],
         "yaxis": "y"
        },
        {
         "hovertemplate": "variable=Exports-G&S<br>Year=%{x}<br>value=%{y}<extra></extra>",
         "legendgroup": "Exports-G&S",
         "line": {
          "color": "#FF6692",
          "dash": "solid"
         },
         "marker": {
          "symbol": "circle"
         },
         "mode": "lines",
         "name": "Exports-G&S",
         "orientation": "v",
         "showlegend": true,
         "type": "scatter",
         "x": [
          1990,
          1991,
          1992,
          1993,
          1994,
          1995,
          1996,
          1997,
          1998,
          1999,
          2000,
          2001,
          2002,
          2003,
          2004,
          2005,
          2006,
          2007,
          2008,
          2009,
          2010,
          2011,
          2012,
          2013,
          2014,
          2015,
          2016,
          2017,
          2018,
          2019,
          2020
         ],
         "xaxis": "x",
         "y": [
          0.000989303124016,
          0,
          0.0064241665132154,
          0.0215763327573714,
          0.0579461639140929,
          0.1251346641291599,
          0.1660100331959233,
          0.1966046860043915,
          0.199112798884803,
          0.1597745858960113,
          0.2001517245853392,
          0.1988151214415214,
          0.1582647968161241,
          0.2225038977801997,
          0.2967681991823419,
          0.3800258173627445,
          0.468339139711573,
          0.6078237410629896,
          0.7832071041698098,
          0.607477304289329,
          0.7885633858739604,
          1,
          0.8900288384932281,
          0.7943484287459948,
          0.7358305517873717,
          0.5899194171922783,
          0.6640420450392707,
          0.700295598710354,
          0.7352024320040687,
          0.7857385030552182,
          0.600948524040367
         ],
         "yaxis": "y"
        },
        {
         "hovertemplate": "variable=Fertility rate<br>Year=%{x}<br>value=%{y}<extra></extra>",
         "legendgroup": "Fertility rate",
         "line": {
          "color": "#B6E880",
          "dash": "solid"
         },
         "marker": {
          "symbol": "circle"
         },
         "mode": "lines",
         "name": "Fertility rate",
         "orientation": "v",
         "showlegend": true,
         "type": "scatter",
         "x": [
          1990,
          1991,
          1992,
          1993,
          1994,
          1995,
          1996,
          1997,
          1998,
          1999,
          2000,
          2001,
          2002,
          2003,
          2004,
          2005,
          2006,
          2007,
          2008,
          2009,
          2010,
          2011,
          2012,
          2013,
          2014,
          2015,
          2016,
          2017,
          2018,
          2019,
          2020
         ],
         "xaxis": "x",
         "y": [
          1,
          0.9581151832460733,
          0.9057591623036648,
          0.8455497382198954,
          0.7787958115183244,
          0.7068062827225133,
          0.6348167539267016,
          0.5667539267015707,
          0.5039267015706805,
          0.4502617801047119,
          0.4044502617801044,
          0.3651832460732984,
          0.3311518324607332,
          0.2984293193717275,
          0.2683246073298431,
          0.2395287958115181,
          0.214659685863874,
          0.1924083769633505,
          0.1740837696335079,
          0.1596858638743454,
          0.1479057591623037,
          0.137434554973822,
          0.1269633507853403,
          0.1164921465968586,
          0.1034031413612562,
          0.0890052356020943,
          0.0719895287958111,
          0.0549738219895285,
          0.0366492146596859,
          0.0183246073298426,
          0
         ],
         "yaxis": "y"
        },
        {
         "hovertemplate": "variable=Foreign investment<br>Year=%{x}<br>value=%{y}<extra></extra>",
         "legendgroup": "Foreign investment",
         "line": {
          "color": "#FF97FF",
          "dash": "solid"
         },
         "marker": {
          "symbol": "circle"
         },
         "mode": "lines",
         "name": "Foreign investment",
         "orientation": "v",
         "showlegend": true,
         "type": "scatter",
         "x": [
          1990,
          1991,
          1992,
          1993,
          1994,
          1995,
          1996,
          1997,
          1998,
          1999,
          2000,
          2001,
          2002,
          2003,
          2004,
          2005,
          2006,
          2007,
          2008,
          2009,
          2010,
          2011,
          2012,
          2013,
          2014,
          2015,
          2016,
          2017,
          2018,
          2019,
          2020
         ],
         "xaxis": "x",
         "y": [
          0.9284758107459086,
          0.8834450767281201,
          0.8217564643228155,
          0.9096558457367558,
          0.8697724705125262,
          0.7584885682609657,
          0.6662231121648858,
          0.6542995737738291,
          0.694795415685357,
          0.5248247068507224,
          0.3548539980160878,
          0.9158358299062392,
          0.8582749127136997,
          1,
          0.8080413739877532,
          0.7702939691387126,
          0.8341855560922593,
          0.6945157719368497,
          0.4431730528902726,
          0.8187283305658171,
          0.29132766991804,
          0.3672023658603075,
          0,
          0.3985851241682079,
          0.8307379012929824,
          0.2528086311143841,
          0.9555365630927564,
          0.2918300054384352,
          0.319493886236455,
          0.6829465960969714,
          0.8620702273867586
         ],
         "yaxis": "y"
        },
        {
         "hovertemplate": "variable=GDP<br>Year=%{x}<br>value=%{y}<extra></extra>",
         "legendgroup": "GDP",
         "line": {
          "color": "#FECB52",
          "dash": "solid"
         },
         "marker": {
          "symbol": "circle"
         },
         "mode": "lines",
         "name": "GDP",
         "orientation": "v",
         "showlegend": true,
         "type": "scatter",
         "x": [
          1990,
          1991,
          1992,
          1993,
          1994,
          1995,
          1996,
          1997,
          1998,
          1999,
          2000,
          2001,
          2002,
          2003,
          2004,
          2005,
          2006,
          2007,
          2008,
          2009,
          2010,
          2011,
          2012,
          2013,
          2014,
          2015,
          2016,
          2017,
          2018,
          2019,
          2020
         ],
         "xaxis": "x",
         "y": [
          0.0799193844194184,
          0.1685202317921757,
          0.2400870010849031,
          0.2546556581797475,
          0.2925712256071486,
          0.2936552060935242,
          0.3195168647443913,
          0.3574525181241524,
          0.3686069383635484,
          0.340350630805517,
          0.3415976434225009,
          0.3131915844411299,
          0,
          0.0547036348487332,
          0.1226110179608085,
          0.1850379708538802,
          0.2469904842102556,
          0.3476916716804158,
          0.4832969045381561,
          0.4309405966110349,
          0.59699695037153,
          0.7921516487710603,
          0.8211294085433157,
          0.8321986757290766,
          0.7851108445478007,
          0.9104616916168085,
          0.8422851182136074,
          1,
          0.7823632387477637,
          0.6488465424576183,
          0.5340933551519955
         ],
         "yaxis": "y"
        },
        {
         "hovertemplate": "variable=Health services use<br>Year=%{x}<br>value=%{y}<extra></extra>",
         "legendgroup": "Health services use",
         "line": {
          "color": "#636efa",
          "dash": "solid"
         },
         "marker": {
          "symbol": "circle"
         },
         "mode": "lines",
         "name": "Health services use",
         "orientation": "v",
         "showlegend": true,
         "type": "scatter",
         "x": [
          1990,
          1991,
          1992,
          1993,
          1994,
          1995,
          1996,
          1997,
          1998,
          1999,
          2000,
          2001,
          2002,
          2003,
          2004,
          2005,
          2006,
          2007,
          2008,
          2009,
          2010,
          2011,
          2012,
          2013,
          2014,
          2015,
          2016,
          2017,
          2018,
          2019,
          2020
         ],
         "xaxis": "x",
         "y": [
          0,
          0,
          0,
          0,
          0,
          0,
          0,
          0,
          0,
          0,
          0,
          0.0646609031536448,
          0.1292046650098688,
          0.1936620304931598,
          0.258108584078434,
          0.3225212478590339,
          0.3869285697349259,
          0.4513052735550418,
          0.5156801914540604,
          0.5800294111195635,
          0.6443563140906814,
          0.7083458133820955,
          0.7721671128189934,
          0.8287628658246958,
          0.8856243612061243,
          0.9427048612617384,
          1,
          1,
          1,
          1,
          1
         ],
         "yaxis": "y"
        },
        {
         "hovertemplate": "variable=International taxes<br>Year=%{x}<br>value=%{y}<extra></extra>",
         "legendgroup": "International taxes",
         "line": {
          "color": "#EF553B",
          "dash": "solid"
         },
         "marker": {
          "symbol": "circle"
         },
         "mode": "lines",
         "name": "International taxes",
         "orientation": "v",
         "showlegend": true,
         "type": "scatter",
         "x": [
          1990,
          1991,
          1992,
          1993,
          1994,
          1995,
          1996,
          1997,
          1998,
          1999,
          2000,
          2001,
          2002,
          2003,
          2004,
          2005,
          2006,
          2007,
          2008,
          2009,
          2010,
          2011,
          2012,
          2013,
          2014,
          2015,
          2016,
          2017,
          2018,
          2019,
          2020
         ],
         "xaxis": "x",
         "y": [
          0,
          0.0043597713460936,
          0.0088238361572501,
          0.0129567501851779,
          0.013502578027879,
          0.0066428085849508,
          0.0099581227480795,
          0.015199440317113,
          0.0128577855832935,
          0.0090780990574763,
          0.0072594341813077,
          0.0043239918361816,
          0.037948357225672,
          0.073389408457591,
          0.0901881512692971,
          0.1093155379753821,
          0.1301095233636393,
          0.1853698345235729,
          0.326969909432164,
          0.2644387450983974,
          0.4145870778112989,
          0.5060037256366279,
          0.5828596354600827,
          0.5816507447847558,
          0.8299377055894446,
          0.800301613655897,
          0.9441283921068878,
          1,
          1,
          1,
          1
         ],
         "yaxis": "y"
        },
        {
         "hovertemplate": "variable=Literacy rate<br>Year=%{x}<br>value=%{y}<extra></extra>",
         "legendgroup": "Literacy rate",
         "line": {
          "color": "#00cc96",
          "dash": "solid"
         },
         "marker": {
          "symbol": "circle"
         },
         "mode": "lines",
         "name": "Literacy rate",
         "orientation": "v",
         "showlegend": true,
         "type": "scatter",
         "x": [
          1990,
          1991,
          1992,
          1993,
          1994,
          1995,
          1996,
          1997,
          1998,
          1999,
          2000,
          2001,
          2002,
          2003,
          2004,
          2005,
          2006,
          2007,
          2008,
          2009,
          2010,
          2011,
          2012,
          2013,
          2014,
          2015,
          2016,
          2017,
          2018,
          2019,
          2020
         ],
         "xaxis": "x",
         "y": [
          0,
          0,
          0,
          0,
          0,
          0,
          0,
          0,
          0,
          0,
          0,
          0,
          0,
          0,
          0,
          0,
          0,
          0.218227637699246,
          0.4364552753984921,
          0.6546829130977382,
          0.6046969879761672,
          0.8741437782335638,
          0.8687014919371087,
          0.8980710714334112,
          0.6730740874788281,
          1,
          0.90344633449954,
          0.7970268495060439,
          0.6906073645125228,
          0.6906073645125228,
          0.6906073645125228
         ],
         "yaxis": "y"
        },
        {
         "hovertemplate": "variable=Mortality-infants<br>Year=%{x}<br>value=%{y}<extra></extra>",
         "legendgroup": "Mortality-infants",
         "line": {
          "color": "#ab63fa",
          "dash": "solid"
         },
         "marker": {
          "symbol": "circle"
         },
         "mode": "lines",
         "name": "Mortality-infants",
         "orientation": "v",
         "showlegend": true,
         "type": "scatter",
         "x": [
          1990,
          1991,
          1992,
          1993,
          1994,
          1995,
          1996,
          1997,
          1998,
          1999,
          2000,
          2001,
          2002,
          2003,
          2004,
          2005,
          2006,
          2007,
          2008,
          2009,
          2010,
          2011,
          2012,
          2013,
          2014,
          2015,
          2016,
          2017,
          2018,
          2019,
          2020
         ],
         "xaxis": "x",
         "y": [
          1,
          0.98413715750681,
          0.9495273193398494,
          0.9022592533247876,
          0.8465790738663675,
          0.7880147412273674,
          0.730411792981894,
          0.6765742669443999,
          0.6279442397051754,
          0.585082518827111,
          0.5479891043102066,
          0.5153821502964269,
          0.4854991187309726,
          0.4561768947284089,
          0.4268546707258452,
          0.4003364845377343,
          0.3793462586124018,
          0.3623618009934305,
          0.3464188431341131,
          0.3286332318538695,
          0.307242429097901,
          0.2811248197404262,
          0.2517224803717353,
          0.221118410511136,
          0.1909149174811729,
          0.1602307322544464,
          0.1284249319019388,
          0.0958179778881589,
          0.0628104470437429,
          0.0301233776638359,
          0
         ],
         "yaxis": "y"
        },
        {
         "hovertemplate": "variable=Net migration<br>Year=%{x}<br>value=%{y}<extra></extra>",
         "legendgroup": "Net migration",
         "line": {
          "color": "#FFA15A",
          "dash": "solid"
         },
         "marker": {
          "symbol": "circle"
         },
         "mode": "lines",
         "name": "Net migration",
         "orientation": "v",
         "showlegend": true,
         "type": "scatter",
         "x": [
          1990,
          1991,
          1992,
          1993,
          1994,
          1995,
          1996,
          1997,
          1998,
          1999,
          2000,
          2001,
          2002,
          2003,
          2004,
          2005,
          2006,
          2007,
          2008,
          2009,
          2010,
          2011,
          2012,
          2013,
          2014,
          2015,
          2016,
          2017,
          2018,
          2019,
          2020
         ],
         "xaxis": "x",
         "y": [
          0.1455696202531645,
          0.1455696202531645,
          0.1455696202531645,
          0.1164556962025316,
          0.0873417721518987,
          0.0582278481012658,
          0.0291139240506329,
          0,
          0.0037974683544303,
          0.0075949367088607,
          0.0113924050632911,
          0.0151898734177215,
          0.0189873417721519,
          0.0253164556962025,
          0.0316455696202531,
          0.0379746835443038,
          0.0443037974683544,
          0.050632911392405,
          0.240506329113924,
          0.430379746835443,
          0.620253164556962,
          0.810126582278481,
          1,
          0.9924050632911392,
          0.9848101265822784,
          0.9772151898734176,
          0.9696202531645568,
          0.9620253164556962,
          0.9620253164556962,
          0.9620253164556962,
          0.9620253164556962
         ],
         "yaxis": "y"
        },
        {
         "hovertemplate": "variable=Ninis<br>Year=%{x}<br>value=%{y}<extra></extra>",
         "legendgroup": "Ninis",
         "line": {
          "color": "#19d3f3",
          "dash": "solid"
         },
         "marker": {
          "symbol": "circle"
         },
         "mode": "lines",
         "name": "Ninis",
         "orientation": "v",
         "showlegend": true,
         "type": "scatter",
         "x": [
          1990,
          1991,
          1992,
          1993,
          1994,
          1995,
          1996,
          1997,
          1998,
          1999,
          2000,
          2001,
          2002,
          2003,
          2004,
          2005,
          2006,
          2007,
          2008,
          2009,
          2010,
          2011,
          2012,
          2013,
          2014,
          2015,
          2016,
          2017,
          2018,
          2019,
          2020
         ],
         "xaxis": "x",
         "y": [
          0.8963414988724772,
          0.8963414988724772,
          0.8963414988724772,
          0.8963414988724772,
          0.8963414988724772,
          0.8963414988724772,
          0.8963414988724772,
          0.8963414988724772,
          0.8963414988724772,
          0.8963414988724772,
          0.8963414988724772,
          0.8963414988724772,
          0.8963414988724772,
          0.8963414988724772,
          0.8963414988724772,
          0.8963414988724772,
          0.6768291051866959,
          0.6493900559759717,
          0.6219510067652495,
          1,
          0.6463406266100885,
          0,
          0.0060976957153093,
          0.4085363087948382,
          0.7743899105989072,
          0.6890241089451817,
          0.6036583072914542,
          0.5182925056377289,
          0.3780489932347505,
          0.5060971142070495,
          0.5060971142070495
         ],
         "yaxis": "y"
        },
        {
         "hovertemplate": "variable=R&D GExp<br>Year=%{x}<br>value=%{y}<extra></extra>",
         "legendgroup": "R&D GExp",
         "line": {
          "color": "#FF6692",
          "dash": "solid"
         },
         "marker": {
          "symbol": "circle"
         },
         "mode": "lines",
         "name": "R&D GExp",
         "orientation": "v",
         "showlegend": true,
         "type": "scatter",
         "x": [
          1990,
          1991,
          1992,
          1993,
          1994,
          1995,
          1996,
          1997,
          1998,
          1999,
          2000,
          2001,
          2002,
          2003,
          2004,
          2005,
          2006,
          2007,
          2008,
          2009,
          2010,
          2011,
          2012,
          2013,
          2014,
          2015,
          2016,
          2017,
          2018,
          2019,
          2020
         ],
         "xaxis": "x",
         "y": [
          0.1163584637268849,
          0.1163584637268849,
          0.1163584637268849,
          0.1163584637268849,
          0.1163584637268849,
          0.1163584637268849,
          0.1163584637268849,
          0.1248933143669987,
          0.0912416175574071,
          0.2621824832351149,
          0.2031294452347085,
          0.1452956716114611,
          0,
          0.0864458443405812,
          0.0605567973989027,
          0.1295671611461086,
          0.2572647835805731,
          0.2894127209916683,
          0.3320056899004269,
          0.793009550904288,
          0.6997764681975208,
          0.7198130461288356,
          1,
          0.9332655964234912,
          0.8335704125177812,
          0.9500508026823816,
          0.6880308880308883,
          0.6838447470026416,
          0.425685836212152,
          0.425685836212152,
          0.425685836212152
         ],
         "yaxis": "y"
        },
        {
         "hovertemplate": "variable=Renewable electricity<br>Year=%{x}<br>value=%{y}<extra></extra>",
         "legendgroup": "Renewable electricity",
         "line": {
          "color": "#B6E880",
          "dash": "solid"
         },
         "marker": {
          "symbol": "circle"
         },
         "mode": "lines",
         "name": "Renewable electricity",
         "orientation": "v",
         "showlegend": true,
         "type": "scatter",
         "x": [
          1990,
          1991,
          1992,
          1993,
          1994,
          1995,
          1996,
          1997,
          1998,
          1999,
          2000,
          2001,
          2002,
          2003,
          2004,
          2005,
          2006,
          2007,
          2008,
          2009,
          2010,
          2011,
          2012,
          2013,
          2014,
          2015,
          2016,
          2017,
          2018,
          2019,
          2020
         ],
         "xaxis": "x",
         "y": [
          0.0024630541871921,
          0,
          0.0007037297677691,
          0.0024630541871921,
          0.0070372976776917,
          0.005981703026038,
          0.0925404644616467,
          0.1270232230823363,
          0.1400422237860661,
          0.1657283603096411,
          0.2139338494018297,
          0.2012667135819845,
          0.2959183673469387,
          0.3567909922589725,
          0.4035890218156228,
          0.4440534834623504,
          0.5728360309641097,
          0.5587614356087263,
          0.5341308937368051,
          0.458128078817734,
          0.7459535538353272,
          0.723082336382829,
          0.9331456720619282,
          1,
          0.9215341308937368,
          0.9331456720619282,
          0.9331456720619282,
          0.9331456720619282,
          0.9331456720619282,
          0.9331456720619282,
          0.9331456720619282
         ],
         "yaxis": "y"
        },
        {
         "hovertemplate": "variable=Suicide<br>Year=%{x}<br>value=%{y}<extra></extra>",
         "legendgroup": "Suicide",
         "line": {
          "color": "#FF97FF",
          "dash": "solid"
         },
         "marker": {
          "symbol": "circle"
         },
         "mode": "lines",
         "name": "Suicide",
         "orientation": "v",
         "showlegend": true,
         "type": "scatter",
         "x": [
          1990,
          1991,
          1992,
          1993,
          1994,
          1995,
          1996,
          1997,
          1998,
          1999,
          2000,
          2001,
          2002,
          2003,
          2004,
          2005,
          2006,
          2007,
          2008,
          2009,
          2010,
          2011,
          2012,
          2013,
          2014,
          2015,
          2016,
          2017,
          2018,
          2019,
          2020
         ],
         "xaxis": "x",
         "y": [
          0.5714285714285713,
          0.5714285714285713,
          0.5714285714285713,
          0.5714285714285713,
          0.5714285714285713,
          0.5714285714285713,
          0.5714285714285713,
          0.5714285714285713,
          0.5714285714285713,
          0.5714285714285713,
          0.5714285714285713,
          0.7142857142857137,
          0.8571428571428575,
          1,
          0.285714285714285,
          0.2142857142857137,
          0.2142857142857137,
          0,
          0.285714285714285,
          0.0714285714285712,
          0.2142857142857137,
          0.1428571428571425,
          0.5714285714285713,
          0.2142857142857137,
          0.714285714285715,
          0,
          0,
          0.4285714285714287,
          0.6428571428571425,
          0.0714285714285712,
          0.0714285714285712
         ],
         "yaxis": "y"
        },
        {
         "hovertemplate": "variable=Workers high education<br>Year=%{x}<br>value=%{y}<extra></extra>",
         "legendgroup": "Workers high education",
         "line": {
          "color": "#FECB52",
          "dash": "solid"
         },
         "marker": {
          "symbol": "circle"
         },
         "mode": "lines",
         "name": "Workers high education",
         "orientation": "v",
         "showlegend": true,
         "type": "scatter",
         "x": [
          1990,
          1991,
          1992,
          1993,
          1994,
          1995,
          1996,
          1997,
          1998,
          1999,
          2000,
          2001,
          2002,
          2003,
          2004,
          2005,
          2006,
          2007,
          2008,
          2009,
          2010,
          2011,
          2012,
          2013,
          2014,
          2015,
          2016,
          2017,
          2018,
          2019,
          2020
         ],
         "xaxis": "x",
         "y": [
          0.8949419384205797,
          0.8949419384205797,
          0.8949419384205797,
          0.8949419384205797,
          0.8949419384205797,
          0.8949419384205797,
          0.8949419384205797,
          0.8949419384205797,
          0.8949419384205797,
          0.8949419384205797,
          0.8949419384205797,
          0.8949419384205797,
          0.8949419384205797,
          0.8949419384205797,
          0.8949419384205797,
          0.9247737651709635,
          1,
          0.9286641631166708,
          0.8573283262333437,
          0.8612192189517771,
          0.8560310321453792,
          0.8300910876588775,
          0.6783403343674046,
          0.7016866802234392,
          0.644617614898602,
          0.5071337980898533,
          0.3696499812811045,
          0.2321661644723557,
          0.3035024961284073,
          0.4111551458837434,
          0
         ],
         "yaxis": "y"
        }
       ],
       "layout": {
        "height": 600,
        "legend": {
         "title": {
          "text": "variable"
         },
         "tracegroupgap": 0
        },
        "template": {
         "data": {
          "bar": [
           {
            "error_x": {
             "color": "#2a3f5f"
            },
            "error_y": {
             "color": "#2a3f5f"
            },
            "marker": {
             "line": {
              "color": "#E5ECF6",
              "width": 0.5
             },
             "pattern": {
              "fillmode": "overlay",
              "size": 10,
              "solidity": 0.2
             }
            },
            "type": "bar"
           }
          ],
          "barpolar": [
           {
            "marker": {
             "line": {
              "color": "#E5ECF6",
              "width": 0.5
             },
             "pattern": {
              "fillmode": "overlay",
              "size": 10,
              "solidity": 0.2
             }
            },
            "type": "barpolar"
           }
          ],
          "carpet": [
           {
            "aaxis": {
             "endlinecolor": "#2a3f5f",
             "gridcolor": "white",
             "linecolor": "white",
             "minorgridcolor": "white",
             "startlinecolor": "#2a3f5f"
            },
            "baxis": {
             "endlinecolor": "#2a3f5f",
             "gridcolor": "white",
             "linecolor": "white",
             "minorgridcolor": "white",
             "startlinecolor": "#2a3f5f"
            },
            "type": "carpet"
           }
          ],
          "choropleth": [
           {
            "colorbar": {
             "outlinewidth": 0,
             "ticks": ""
            },
            "type": "choropleth"
           }
          ],
          "contour": [
           {
            "colorbar": {
             "outlinewidth": 0,
             "ticks": ""
            },
            "colorscale": [
             [
              0,
              "#0d0887"
             ],
             [
              0.1111111111111111,
              "#46039f"
             ],
             [
              0.2222222222222222,
              "#7201a8"
             ],
             [
              0.3333333333333333,
              "#9c179e"
             ],
             [
              0.4444444444444444,
              "#bd3786"
             ],
             [
              0.5555555555555556,
              "#d8576b"
             ],
             [
              0.6666666666666666,
              "#ed7953"
             ],
             [
              0.7777777777777778,
              "#fb9f3a"
             ],
             [
              0.8888888888888888,
              "#fdca26"
             ],
             [
              1,
              "#f0f921"
             ]
            ],
            "type": "contour"
           }
          ],
          "contourcarpet": [
           {
            "colorbar": {
             "outlinewidth": 0,
             "ticks": ""
            },
            "type": "contourcarpet"
           }
          ],
          "heatmap": [
           {
            "colorbar": {
             "outlinewidth": 0,
             "ticks": ""
            },
            "colorscale": [
             [
              0,
              "#0d0887"
             ],
             [
              0.1111111111111111,
              "#46039f"
             ],
             [
              0.2222222222222222,
              "#7201a8"
             ],
             [
              0.3333333333333333,
              "#9c179e"
             ],
             [
              0.4444444444444444,
              "#bd3786"
             ],
             [
              0.5555555555555556,
              "#d8576b"
             ],
             [
              0.6666666666666666,
              "#ed7953"
             ],
             [
              0.7777777777777778,
              "#fb9f3a"
             ],
             [
              0.8888888888888888,
              "#fdca26"
             ],
             [
              1,
              "#f0f921"
             ]
            ],
            "type": "heatmap"
           }
          ],
          "heatmapgl": [
           {
            "colorbar": {
             "outlinewidth": 0,
             "ticks": ""
            },
            "colorscale": [
             [
              0,
              "#0d0887"
             ],
             [
              0.1111111111111111,
              "#46039f"
             ],
             [
              0.2222222222222222,
              "#7201a8"
             ],
             [
              0.3333333333333333,
              "#9c179e"
             ],
             [
              0.4444444444444444,
              "#bd3786"
             ],
             [
              0.5555555555555556,
              "#d8576b"
             ],
             [
              0.6666666666666666,
              "#ed7953"
             ],
             [
              0.7777777777777778,
              "#fb9f3a"
             ],
             [
              0.8888888888888888,
              "#fdca26"
             ],
             [
              1,
              "#f0f921"
             ]
            ],
            "type": "heatmapgl"
           }
          ],
          "histogram": [
           {
            "marker": {
             "pattern": {
              "fillmode": "overlay",
              "size": 10,
              "solidity": 0.2
             }
            },
            "type": "histogram"
           }
          ],
          "histogram2d": [
           {
            "colorbar": {
             "outlinewidth": 0,
             "ticks": ""
            },
            "colorscale": [
             [
              0,
              "#0d0887"
             ],
             [
              0.1111111111111111,
              "#46039f"
             ],
             [
              0.2222222222222222,
              "#7201a8"
             ],
             [
              0.3333333333333333,
              "#9c179e"
             ],
             [
              0.4444444444444444,
              "#bd3786"
             ],
             [
              0.5555555555555556,
              "#d8576b"
             ],
             [
              0.6666666666666666,
              "#ed7953"
             ],
             [
              0.7777777777777778,
              "#fb9f3a"
             ],
             [
              0.8888888888888888,
              "#fdca26"
             ],
             [
              1,
              "#f0f921"
             ]
            ],
            "type": "histogram2d"
           }
          ],
          "histogram2dcontour": [
           {
            "colorbar": {
             "outlinewidth": 0,
             "ticks": ""
            },
            "colorscale": [
             [
              0,
              "#0d0887"
             ],
             [
              0.1111111111111111,
              "#46039f"
             ],
             [
              0.2222222222222222,
              "#7201a8"
             ],
             [
              0.3333333333333333,
              "#9c179e"
             ],
             [
              0.4444444444444444,
              "#bd3786"
             ],
             [
              0.5555555555555556,
              "#d8576b"
             ],
             [
              0.6666666666666666,
              "#ed7953"
             ],
             [
              0.7777777777777778,
              "#fb9f3a"
             ],
             [
              0.8888888888888888,
              "#fdca26"
             ],
             [
              1,
              "#f0f921"
             ]
            ],
            "type": "histogram2dcontour"
           }
          ],
          "mesh3d": [
           {
            "colorbar": {
             "outlinewidth": 0,
             "ticks": ""
            },
            "type": "mesh3d"
           }
          ],
          "parcoords": [
           {
            "line": {
             "colorbar": {
              "outlinewidth": 0,
              "ticks": ""
             }
            },
            "type": "parcoords"
           }
          ],
          "pie": [
           {
            "automargin": true,
            "type": "pie"
           }
          ],
          "scatter": [
           {
            "fillpattern": {
             "fillmode": "overlay",
             "size": 10,
             "solidity": 0.2
            },
            "type": "scatter"
           }
          ],
          "scatter3d": [
           {
            "line": {
             "colorbar": {
              "outlinewidth": 0,
              "ticks": ""
             }
            },
            "marker": {
             "colorbar": {
              "outlinewidth": 0,
              "ticks": ""
             }
            },
            "type": "scatter3d"
           }
          ],
          "scattercarpet": [
           {
            "marker": {
             "colorbar": {
              "outlinewidth": 0,
              "ticks": ""
             }
            },
            "type": "scattercarpet"
           }
          ],
          "scattergeo": [
           {
            "marker": {
             "colorbar": {
              "outlinewidth": 0,
              "ticks": ""
             }
            },
            "type": "scattergeo"
           }
          ],
          "scattergl": [
           {
            "marker": {
             "colorbar": {
              "outlinewidth": 0,
              "ticks": ""
             }
            },
            "type": "scattergl"
           }
          ],
          "scattermapbox": [
           {
            "marker": {
             "colorbar": {
              "outlinewidth": 0,
              "ticks": ""
             }
            },
            "type": "scattermapbox"
           }
          ],
          "scatterpolar": [
           {
            "marker": {
             "colorbar": {
              "outlinewidth": 0,
              "ticks": ""
             }
            },
            "type": "scatterpolar"
           }
          ],
          "scatterpolargl": [
           {
            "marker": {
             "colorbar": {
              "outlinewidth": 0,
              "ticks": ""
             }
            },
            "type": "scatterpolargl"
           }
          ],
          "scatterternary": [
           {
            "marker": {
             "colorbar": {
              "outlinewidth": 0,
              "ticks": ""
             }
            },
            "type": "scatterternary"
           }
          ],
          "surface": [
           {
            "colorbar": {
             "outlinewidth": 0,
             "ticks": ""
            },
            "colorscale": [
             [
              0,
              "#0d0887"
             ],
             [
              0.1111111111111111,
              "#46039f"
             ],
             [
              0.2222222222222222,
              "#7201a8"
             ],
             [
              0.3333333333333333,
              "#9c179e"
             ],
             [
              0.4444444444444444,
              "#bd3786"
             ],
             [
              0.5555555555555556,
              "#d8576b"
             ],
             [
              0.6666666666666666,
              "#ed7953"
             ],
             [
              0.7777777777777778,
              "#fb9f3a"
             ],
             [
              0.8888888888888888,
              "#fdca26"
             ],
             [
              1,
              "#f0f921"
             ]
            ],
            "type": "surface"
           }
          ],
          "table": [
           {
            "cells": {
             "fill": {
              "color": "#EBF0F8"
             },
             "line": {
              "color": "white"
             }
            },
            "header": {
             "fill": {
              "color": "#C8D4E3"
             },
             "line": {
              "color": "white"
             }
            },
            "type": "table"
           }
          ]
         },
         "layout": {
          "annotationdefaults": {
           "arrowcolor": "#2a3f5f",
           "arrowhead": 0,
           "arrowwidth": 1
          },
          "autotypenumbers": "strict",
          "coloraxis": {
           "colorbar": {
            "outlinewidth": 0,
            "ticks": ""
           }
          },
          "colorscale": {
           "diverging": [
            [
             0,
             "#8e0152"
            ],
            [
             0.1,
             "#c51b7d"
            ],
            [
             0.2,
             "#de77ae"
            ],
            [
             0.3,
             "#f1b6da"
            ],
            [
             0.4,
             "#fde0ef"
            ],
            [
             0.5,
             "#f7f7f7"
            ],
            [
             0.6,
             "#e6f5d0"
            ],
            [
             0.7,
             "#b8e186"
            ],
            [
             0.8,
             "#7fbc41"
            ],
            [
             0.9,
             "#4d9221"
            ],
            [
             1,
             "#276419"
            ]
           ],
           "sequential": [
            [
             0,
             "#0d0887"
            ],
            [
             0.1111111111111111,
             "#46039f"
            ],
            [
             0.2222222222222222,
             "#7201a8"
            ],
            [
             0.3333333333333333,
             "#9c179e"
            ],
            [
             0.4444444444444444,
             "#bd3786"
            ],
            [
             0.5555555555555556,
             "#d8576b"
            ],
            [
             0.6666666666666666,
             "#ed7953"
            ],
            [
             0.7777777777777778,
             "#fb9f3a"
            ],
            [
             0.8888888888888888,
             "#fdca26"
            ],
            [
             1,
             "#f0f921"
            ]
           ],
           "sequentialminus": [
            [
             0,
             "#0d0887"
            ],
            [
             0.1111111111111111,
             "#46039f"
            ],
            [
             0.2222222222222222,
             "#7201a8"
            ],
            [
             0.3333333333333333,
             "#9c179e"
            ],
            [
             0.4444444444444444,
             "#bd3786"
            ],
            [
             0.5555555555555556,
             "#d8576b"
            ],
            [
             0.6666666666666666,
             "#ed7953"
            ],
            [
             0.7777777777777778,
             "#fb9f3a"
            ],
            [
             0.8888888888888888,
             "#fdca26"
            ],
            [
             1,
             "#f0f921"
            ]
           ]
          },
          "colorway": [
           "#636efa",
           "#EF553B",
           "#00cc96",
           "#ab63fa",
           "#FFA15A",
           "#19d3f3",
           "#FF6692",
           "#B6E880",
           "#FF97FF",
           "#FECB52"
          ],
          "font": {
           "color": "#2a3f5f"
          },
          "geo": {
           "bgcolor": "white",
           "lakecolor": "white",
           "landcolor": "#E5ECF6",
           "showlakes": true,
           "showland": true,
           "subunitcolor": "white"
          },
          "hoverlabel": {
           "align": "left"
          },
          "hovermode": "closest",
          "mapbox": {
           "style": "light"
          },
          "paper_bgcolor": "white",
          "plot_bgcolor": "#E5ECF6",
          "polar": {
           "angularaxis": {
            "gridcolor": "white",
            "linecolor": "white",
            "ticks": ""
           },
           "bgcolor": "#E5ECF6",
           "radialaxis": {
            "gridcolor": "white",
            "linecolor": "white",
            "ticks": ""
           }
          },
          "scene": {
           "xaxis": {
            "backgroundcolor": "#E5ECF6",
            "gridcolor": "white",
            "gridwidth": 2,
            "linecolor": "white",
            "showbackground": true,
            "ticks": "",
            "zerolinecolor": "white"
           },
           "yaxis": {
            "backgroundcolor": "#E5ECF6",
            "gridcolor": "white",
            "gridwidth": 2,
            "linecolor": "white",
            "showbackground": true,
            "ticks": "",
            "zerolinecolor": "white"
           },
           "zaxis": {
            "backgroundcolor": "#E5ECF6",
            "gridcolor": "white",
            "gridwidth": 2,
            "linecolor": "white",
            "showbackground": true,
            "ticks": "",
            "zerolinecolor": "white"
           }
          },
          "shapedefaults": {
           "line": {
            "color": "#2a3f5f"
           }
          },
          "ternary": {
           "aaxis": {
            "gridcolor": "white",
            "linecolor": "white",
            "ticks": ""
           },
           "baxis": {
            "gridcolor": "white",
            "linecolor": "white",
            "ticks": ""
           },
           "bgcolor": "#E5ECF6",
           "caxis": {
            "gridcolor": "white",
            "linecolor": "white",
            "ticks": ""
           }
          },
          "title": {
           "x": 0.05
          },
          "xaxis": {
           "automargin": true,
           "gridcolor": "white",
           "linecolor": "white",
           "ticks": "",
           "title": {
            "standoff": 15
           },
           "zerolinecolor": "white",
           "zerolinewidth": 2
          },
          "yaxis": {
           "automargin": true,
           "gridcolor": "white",
           "linecolor": "white",
           "ticks": "",
           "title": {
            "standoff": 15
           },
           "zerolinecolor": "white",
           "zerolinewidth": 2
          }
         }
        },
        "title": {
         "text": "ARG"
        },
        "width": 800,
        "xaxis": {
         "anchor": "y",
         "domain": [
          0,
          1
         ],
         "title": {
          "text": "Year"
         }
        },
        "yaxis": {
         "anchor": "x",
         "domain": [
          0,
          1
         ],
         "title": {
          "text": "value"
         }
        }
       }
      }
     },
     "metadata": {},
     "output_type": "display_data"
    },
    {
     "data": {
      "application/vnd.plotly.v1+json": {
       "config": {
        "plotlyServerURL": "https://plot.ly"
       },
       "data": [
        {
         "hovertemplate": "variable=Alcohol per capita<br>Year=%{x}<br>value=%{y}<extra></extra>",
         "legendgroup": "Alcohol per capita",
         "line": {
          "color": "#636efa",
          "dash": "solid"
         },
         "marker": {
          "symbol": "circle"
         },
         "mode": "lines",
         "name": "Alcohol per capita",
         "orientation": "v",
         "showlegend": true,
         "type": "scatter",
         "x": [
          1990,
          1991,
          1992,
          1993,
          1994,
          1995,
          1996,
          1997,
          1998,
          1999,
          2000,
          2001,
          2002,
          2003,
          2004,
          2005,
          2006,
          2007,
          2008,
          2009,
          2010,
          2011,
          2012,
          2013,
          2014,
          2015,
          2016,
          2017,
          2018,
          2019,
          2020,
          2021
         ],
         "xaxis": "x",
         "y": [
          0.2622950819672132,
          0.2622950819672132,
          0.2622950819672132,
          0.2622950819672132,
          0.2622950819672132,
          0.2622950819672132,
          0.2622950819672132,
          0.2622950819672132,
          0.2622950819672132,
          0.2622950819672132,
          0.2622950819672132,
          0.4098360655737703,
          0.5573770491803274,
          0.7049180327868859,
          0.8524590163934429,
          1,
          0.9409836065573778,
          0.881967213114754,
          0.8229508196721304,
          0.7639344262295081,
          0.7049180327868859,
          0.6459016393442621,
          0.5868852459016385,
          0.5278688524590163,
          0.468852459016394,
          0.4098360655737703,
          0.2732240437158473,
          0.1366120218579229,
          0,
          0,
          0,
          0
         ],
         "yaxis": "y"
        },
        {
         "hovertemplate": "variable=Education GExp<br>Year=%{x}<br>value=%{y}<extra></extra>",
         "legendgroup": "Education GExp",
         "line": {
          "color": "#EF553B",
          "dash": "solid"
         },
         "marker": {
          "symbol": "circle"
         },
         "mode": "lines",
         "name": "Education GExp",
         "orientation": "v",
         "showlegend": true,
         "type": "scatter",
         "x": [
          1990,
          1991,
          1992,
          1993,
          1994,
          1995,
          1996,
          1997,
          1998,
          1999,
          2000,
          2001,
          2002,
          2003,
          2004,
          2005,
          2006,
          2007,
          2008,
          2009,
          2010,
          2011,
          2012,
          2013,
          2014,
          2015,
          2016,
          2017,
          2018,
          2019,
          2020,
          2021
         ],
         "xaxis": "x",
         "y": [
          0.3625209713392985,
          0.3625209713392985,
          0.3625209713392985,
          0.3625209713392985,
          0.3625209713392985,
          0.3625209713392985,
          0.3625209713392985,
          0.3625209713392985,
          0.3625209713392985,
          0.3625209713392985,
          0.3625209713392985,
          0.2655523900148855,
          0.2189683740291259,
          0.2361034269087574,
          0.3675345442934866,
          0.1550100399745944,
          0.1030774797698846,
          0.1258111344448456,
          0.2096502676002939,
          0.2228650367175315,
          0.0006469323453918,
          0,
          0.1743444999245633,
          0.3568647422686214,
          0.5695344347405683,
          0.8588494215585795,
          0.9218895881767522,
          1,
          0.764163531953308,
          0.8989938440630293,
          0.5137860529368571,
          0.9227521646372532
         ],
         "yaxis": "y"
        },
        {
         "hovertemplate": "variable=Employment-agriculture<br>Year=%{x}<br>value=%{y}<extra></extra>",
         "legendgroup": "Employment-agriculture",
         "line": {
          "color": "#00cc96",
          "dash": "solid"
         },
         "marker": {
          "symbol": "circle"
         },
         "mode": "lines",
         "name": "Employment-agriculture",
         "orientation": "v",
         "showlegend": true,
         "type": "scatter",
         "x": [
          1990,
          1991,
          1992,
          1993,
          1994,
          1995,
          1996,
          1997,
          1998,
          1999,
          2000,
          2001,
          2002,
          2003,
          2004,
          2005,
          2006,
          2007,
          2008,
          2009,
          2010,
          2011,
          2012,
          2013,
          2014,
          2015,
          2016,
          2017,
          2018,
          2019,
          2020,
          2021
         ],
         "xaxis": "x",
         "y": [
          0.9979486705973024,
          0.9979486705973024,
          1,
          0.9723076399402376,
          0.9056411949825196,
          0.859487261549582,
          0.8369230293710227,
          0.7938462856676717,
          0.7907694871891667,
          0.7897436268622767,
          0.7620512668025142,
          0.7476923522347346,
          0.7015384188018071,
          0.8830769628039495,
          0.7056410776071919,
          0.7641025962052117,
          0.5856412419326467,
          0.2112820378390665,
          0.1589743118235827,
          0.1179487018973941,
          0.0369229511208041,
          0.0933333359416727,
          0.0071794572838901,
          0.0041024631798489,
          0.0676923052846077,
          0.0912820065389753,
          0.1035895917040682,
          0.0328204879409551,
          0.0430769393288864,
          0,
          0,
          0
         ],
         "yaxis": "y"
        },
        {
         "hovertemplate": "variable=Employment-industry<br>Year=%{x}<br>value=%{y}<extra></extra>",
         "legendgroup": "Employment-industry",
         "line": {
          "color": "#ab63fa",
          "dash": "solid"
         },
         "marker": {
          "symbol": "circle"
         },
         "mode": "lines",
         "name": "Employment-industry",
         "orientation": "v",
         "showlegend": true,
         "type": "scatter",
         "x": [
          1990,
          1991,
          1992,
          1993,
          1994,
          1995,
          1996,
          1997,
          1998,
          1999,
          2000,
          2001,
          2002,
          2003,
          2004,
          2005,
          2006,
          2007,
          2008,
          2009,
          2010,
          2011,
          2012,
          2013,
          2014,
          2015,
          2016,
          2017,
          2018,
          2019,
          2020,
          2021
         ],
         "xaxis": "x",
         "y": [
          0.5217391078999594,
          0.5217391078999594,
          0.4864129927748982,
          0.4864129927748982,
          0.5353258559744573,
          0.5516303164747219,
          0.5190216546247965,
          0.5244563020244914,
          0.4619564315998035,
          0.3749997408493896,
          0.3260868776498306,
          0.290760762524742,
          0.2880433092496068,
          0,
          0.2853258559744711,
          0.1956519710995251,
          0.4076086618499185,
          0.7989131223501764,
          0.8396738848749319,
          0.8396738848749319,
          0.9538043309249732,
          0.8505431796742945,
          1,
          0.9972825467248644,
          0.820652230250135,
          0.8749997408493898,
          0.7798909494241724,
          0.6249997408494032,
          0.5543477697498846,
          0.5027171941245319,
          0.5027171941245319,
          0.5027171941245319
         ],
         "yaxis": "y"
        },
        {
         "hovertemplate": "variable=Employment-services<br>Year=%{x}<br>value=%{y}<extra></extra>",
         "legendgroup": "Employment-services",
         "line": {
          "color": "#FFA15A",
          "dash": "solid"
         },
         "marker": {
          "symbol": "circle"
         },
         "mode": "lines",
         "name": "Employment-services",
         "orientation": "v",
         "showlegend": true,
         "type": "scatter",
         "x": [
          1990,
          1991,
          1992,
          1993,
          1994,
          1995,
          1996,
          1997,
          1998,
          1999,
          2000,
          2001,
          2002,
          2003,
          2004,
          2005,
          2006,
          2007,
          2008,
          2009,
          2010,
          2011,
          2012,
          2013,
          2014,
          2015,
          2016,
          2017,
          2018,
          2019,
          2020,
          2021
         ],
         "xaxis": "x",
         "y": [
          0,
          0,
          0.0122447899211054,
          0.0387752329593017,
          0.0877551711534158,
          0.1275510303381332,
          0.1612242999348847,
          0.2010201591196021,
          0.2285712283832242,
          0.2622448872348224,
          0.3081633360075153,
          0.3357140160162804,
          0.3826530910143998,
          0.3112244361740803,
          0.3806122278184145,
          0.3551020217507878,
          0.4530611196293036,
          0.6785712478459636,
          0.7153060068641159,
          0.7561224922742592,
          0.7948977252335602,
          0.7765307349793356,
          0.8061222781840968,
          0.8091837676055079,
          0.8132651047426418,
          0.7693875191659335,
          0.7938774882629913,
          0.920408281630555,
          0.93775503491421,
          1,
          1,
          1
         ],
         "yaxis": "y"
        },
        {
         "hovertemplate": "variable=Exports-Commercial services<br>Year=%{x}<br>value=%{y}<extra></extra>",
         "legendgroup": "Exports-Commercial services",
         "line": {
          "color": "#19d3f3",
          "dash": "solid"
         },
         "marker": {
          "symbol": "circle"
         },
         "mode": "lines",
         "name": "Exports-Commercial services",
         "orientation": "v",
         "showlegend": true,
         "type": "scatter",
         "x": [
          1990,
          1991,
          1992,
          1993,
          1994,
          1995,
          1996,
          1997,
          1998,
          1999,
          2000,
          2001,
          2002,
          2003,
          2004,
          2005,
          2006,
          2007,
          2008,
          2009,
          2010,
          2011,
          2012,
          2013,
          2014,
          2015,
          2016,
          2017,
          2018,
          2019,
          2020,
          2021
         ],
         "xaxis": "x",
         "y": [
          0.0204313282910208,
          0.0242488838480411,
          0.015977513474497,
          0,
          0.0332899231598575,
          0.0294379892170773,
          0.0943429586332937,
          0.1028377556632362,
          0.126743021531938,
          0.1121402589764673,
          0.0925986673117683,
          0.0734102173976408,
          0.0830299288033746,
          0.1360260052737835,
          0.1753750020721339,
          0.2118779574491796,
          0.2559553174528659,
          0.3406207696711308,
          0.4128075125931169,
          0.4364748595699159,
          0.4094664536139789,
          0.4555070167929698,
          0.5551174645986409,
          0.7093637416333286,
          0.7867051417991296,
          0.8342827674918768,
          0.862020639025661,
          1,
          0.9001163157410066,
          0.94930089423053,
          0.3162323234207306,
          0.3162323234207306
         ],
         "yaxis": "y"
        },
        {
         "hovertemplate": "variable=Exports-G&S<br>Year=%{x}<br>value=%{y}<extra></extra>",
         "legendgroup": "Exports-G&S",
         "line": {
          "color": "#FF6692",
          "dash": "solid"
         },
         "marker": {
          "symbol": "circle"
         },
         "mode": "lines",
         "name": "Exports-G&S",
         "orientation": "v",
         "showlegend": true,
         "type": "scatter",
         "x": [
          1990,
          1991,
          1992,
          1993,
          1994,
          1995,
          1996,
          1997,
          1998,
          1999,
          2000,
          2001,
          2002,
          2003,
          2004,
          2005,
          2006,
          2007,
          2008,
          2009,
          2010,
          2011,
          2012,
          2013,
          2014,
          2015,
          2016,
          2017,
          2018,
          2019,
          2020,
          2021
         ],
         "xaxis": "x",
         "y": [
          0,
          0.0008624742637466,
          0.0068350991919085,
          0.0036806202276256,
          0.0305483340825987,
          0.0495203532675822,
          0.0618510001588205,
          0.0822715778903372,
          0.0666190764651314,
          0.0689678377423766,
          0.0872509292589805,
          0.0864993842905708,
          0.1023855880437505,
          0.1352133620364785,
          0.2147546548071557,
          0.3134064881935167,
          0.441408383953447,
          0.540342842565644,
          0.610250065436652,
          0.5353674739042122,
          0.7106672784570175,
          0.929040424491123,
          0.9384631864861552,
          0.8812108514030415,
          0.7942534420322527,
          0.6982052181218346,
          0.7552923152481049,
          0.9245853471395192,
          1,
          0.971466799321471,
          0.788986799842211,
          0.788986799842211
         ],
         "yaxis": "y"
        },
        {
         "hovertemplate": "variable=Fertility rate<br>Year=%{x}<br>value=%{y}<extra></extra>",
         "legendgroup": "Fertility rate",
         "line": {
          "color": "#B6E880",
          "dash": "solid"
         },
         "marker": {
          "symbol": "circle"
         },
         "mode": "lines",
         "name": "Fertility rate",
         "orientation": "v",
         "showlegend": true,
         "type": "scatter",
         "x": [
          1990,
          1991,
          1992,
          1993,
          1994,
          1995,
          1996,
          1997,
          1998,
          1999,
          2000,
          2001,
          2002,
          2003,
          2004,
          2005,
          2006,
          2007,
          2008,
          2009,
          2010,
          2011,
          2012,
          2013,
          2014,
          2015,
          2016,
          2017,
          2018,
          2019,
          2020,
          2021
         ],
         "xaxis": "x",
         "y": [
          1,
          0.9305882352941176,
          0.8594117647058824,
          0.7882352941176471,
          0.7176470588235294,
          0.6488235294117647,
          0.5829411764705881,
          0.521764705882353,
          0.464705882352941,
          0.414705882352941,
          0.3723529411764706,
          0.3394117647058823,
          0.3158823529411764,
          0.3005882352941175,
          0.2905882352941175,
          0.2841176470588233,
          0.276470588235294,
          0.264705882352941,
          0.2476470588235293,
          0.224705882352941,
          0.1964705882352939,
          0.1652941176470586,
          0.1347058823529409,
          0.1070588235294117,
          0.0841176470588234,
          0.0652941176470587,
          0.0499999999999999,
          0.0370588235294116,
          0.024705882352941,
          0.0123529411764705,
          0,
          0
         ],
         "yaxis": "y"
        },
        {
         "hovertemplate": "variable=Foreign investment<br>Year=%{x}<br>value=%{y}<extra></extra>",
         "legendgroup": "Foreign investment",
         "line": {
          "color": "#FF97FF",
          "dash": "solid"
         },
         "marker": {
          "symbol": "circle"
         },
         "mode": "lines",
         "name": "Foreign investment",
         "orientation": "v",
         "showlegend": true,
         "type": "scatter",
         "x": [
          1990,
          1991,
          1992,
          1993,
          1994,
          1995,
          1996,
          1997,
          1998,
          1999,
          2000,
          2001,
          2002,
          2003,
          2004,
          2005,
          2006,
          2007,
          2008,
          2009,
          2010,
          2011,
          2012,
          2013,
          2014,
          2015,
          2016,
          2017,
          2018,
          2019,
          2020,
          2021
         ],
         "xaxis": "x",
         "y": [
          0.9899544206404596,
          0.9939726523842758,
          1,
          0.929715354005509,
          0.7180384414503548,
          0.780003360719549,
          0.7013818431450092,
          0.8214180614622231,
          0.8609601864118873,
          0.8416976752500889,
          0.9256043847543528,
          0.9038252974749864,
          0.8129147451831039,
          0.8866517874532968,
          0.8595261016274726,
          0.7775139100200005,
          0.7031923862688687,
          0.5392105861370583,
          0.4753820364082452,
          0.4894384551132297,
          0.3221446399936072,
          0.3789598857780324,
          0,
          0.2120339256150494,
          0.7570508700528819,
          0.3132266572856,
          0.5260085580729833,
          0.4609355110056881,
          0.4118911338361203,
          0.4249114286958422,
          0.9198746674531892,
          0.9198746674531892
         ],
         "yaxis": "y"
        },
        {
         "hovertemplate": "variable=GDP<br>Year=%{x}<br>value=%{y}<extra></extra>",
         "legendgroup": "GDP",
         "line": {
          "color": "#FECB52",
          "dash": "solid"
         },
         "marker": {
          "symbol": "circle"
         },
         "mode": "lines",
         "name": "GDP",
         "orientation": "v",
         "showlegend": true,
         "type": "scatter",
         "x": [
          1990,
          1991,
          1992,
          1993,
          1994,
          1995,
          1996,
          1997,
          1998,
          1999,
          2000,
          2001,
          2002,
          2003,
          2004,
          2005,
          2006,
          2007,
          2008,
          2009,
          2010,
          2011,
          2012,
          2013,
          2014,
          2015,
          2016,
          2017,
          2018,
          2019,
          2020,
          2021
         ],
         "xaxis": "x",
         "y": [
          0,
          0.0392510066839196,
          0.047292341037793,
          0.0416790475067558,
          0.091416630596302,
          0.1331403348644173,
          0.1427395396904766,
          0.1570674658329517,
          0.1439721096706696,
          0.117672350720845,
          0.1253800635665837,
          0.1267925593075628,
          0.1403894488126569,
          0.1599552519377649,
          0.1997337938375587,
          0.2457195310223968,
          0.30799090494334,
          0.3749400903473601,
          0.4659010435043949,
          0.4672490885782137,
          0.5994171578157479,
          0.7193455756302523,
          0.8227168859003331,
          0.8649144882739379,
          0.8630036417709164,
          0.8086433891755899,
          0.818990006359575,
          0.9135718793354922,
          0.9708195248994738,
          1,
          0.869066188067635,
          0.869066188067635
         ],
         "yaxis": "y"
        },
        {
         "hovertemplate": "variable=Health services use<br>Year=%{x}<br>value=%{y}<extra></extra>",
         "legendgroup": "Health services use",
         "line": {
          "color": "#636efa",
          "dash": "solid"
         },
         "marker": {
          "symbol": "circle"
         },
         "mode": "lines",
         "name": "Health services use",
         "orientation": "v",
         "showlegend": true,
         "type": "scatter",
         "x": [
          1990,
          1991,
          1992,
          1993,
          1994,
          1995,
          1996,
          1997,
          1998,
          1999,
          2000,
          2001,
          2002,
          2003,
          2004,
          2005,
          2006,
          2007,
          2008,
          2009,
          2010,
          2011,
          2012,
          2013,
          2014,
          2015,
          2016,
          2017,
          2018,
          2019,
          2020,
          2021
         ],
         "xaxis": "x",
         "y": [
          0,
          0,
          0,
          0,
          0,
          0,
          0,
          0,
          0,
          0,
          0,
          0.0580225579313978,
          0.115306647599703,
          0.1718916693773644,
          0.2277585422772007,
          0.282891541644888,
          0.3373547986235319,
          0.3911074708703097,
          0.4410631134473927,
          0.4892340906230722,
          0.5371182833801235,
          0.5846725219963865,
          0.6319439660803783,
          0.6788931526220218,
          0.7255446081672112,
          0.7719205866904284,
          0.8179851433283251,
          0.8637606416712321,
          0.909368459086171,
          0.9547797300666164,
          1,
          1
         ],
         "yaxis": "y"
        },
        {
         "hovertemplate": "variable=International taxes<br>Year=%{x}<br>value=%{y}<extra></extra>",
         "legendgroup": "International taxes",
         "line": {
          "color": "#EF553B",
          "dash": "solid"
         },
         "marker": {
          "symbol": "circle"
         },
         "mode": "lines",
         "name": "International taxes",
         "orientation": "v",
         "showlegend": true,
         "type": "scatter",
         "x": [
          1990,
          1991,
          1992,
          1993,
          1994,
          1995,
          1996,
          1997,
          1998,
          1999,
          2000,
          2001,
          2002,
          2003,
          2004,
          2005,
          2006,
          2007,
          2008,
          2009,
          2010,
          2011,
          2012,
          2013,
          2014,
          2015,
          2016,
          2017,
          2018,
          2019,
          2020,
          2021
         ],
         "xaxis": "x",
         "y": [
          0,
          0,
          0.1245396221931804,
          0.3631256470747976,
          0.5590938406965495,
          0.7331293810146133,
          0.7969033758210424,
          0.8369371510039206,
          1,
          0.9709134574585448,
          0.9715371951323004,
          0.9109709940766136,
          0.7773129211290076,
          0.797289499142891,
          0.8671353892632258,
          0.9692798587891852,
          0.8580230489206241,
          0.5281420707432365,
          0.6604574054902705,
          0.4831629564826287,
          0.6147410178210764,
          0.4354317732819633,
          0.4972437691788727,
          0.573571474117008,
          0.6091684319404607,
          0.6026894679197076,
          0.5310746697560634,
          0.4639600524008003,
          0.4669021069555322,
          0.4541559728103285,
          0.4541559728103285,
          0.4541559728103285
         ],
         "yaxis": "y"
        },
        {
         "hovertemplate": "variable=Literacy rate<br>Year=%{x}<br>value=%{y}<extra></extra>",
         "legendgroup": "Literacy rate",
         "line": {
          "color": "#00cc96",
          "dash": "solid"
         },
         "marker": {
          "symbol": "circle"
         },
         "mode": "lines",
         "name": "Literacy rate",
         "orientation": "v",
         "showlegend": true,
         "type": "scatter",
         "x": [
          1990,
          1991,
          1992,
          1993,
          1994,
          1995,
          1996,
          1997,
          1998,
          1999,
          2000,
          2001,
          2002,
          2003,
          2004,
          2005,
          2006,
          2007,
          2008,
          2009,
          2010,
          2011,
          2012,
          2013,
          2014,
          2015,
          2016,
          2017,
          2018,
          2019,
          2020,
          2021
         ],
         "xaxis": "x",
         "y": [
          0,
          0,
          0,
          0,
          0.0064244465787094,
          0.0128488931574189,
          0.0192733397361304,
          0.0256977863148399,
          0.0321222328935494,
          0.0385466794722589,
          0.0449711260509684,
          0.0513955726296779,
          0.0578200192083893,
          0.0642444657870988,
          0.0706689123658083,
          0.1031727076942855,
          0.2107866246601834,
          0.3321197973886504,
          0.4478333918295067,
          0.5635469862703631,
          0.6792605807112175,
          0.7949741751520739,
          0.9106877695929302,
          0.9015836540238858,
          0.8924795384548396,
          0.954324182316986,
          0.9558661967589638,
          0.9525921418528696,
          0.9877967988403278,
          0.9938983994201648,
          1,
          1
         ],
         "yaxis": "y"
        },
        {
         "hovertemplate": "variable=Mortality-infants<br>Year=%{x}<br>value=%{y}<extra></extra>",
         "legendgroup": "Mortality-infants",
         "line": {
          "color": "#ab63fa",
          "dash": "solid"
         },
         "marker": {
          "symbol": "circle"
         },
         "mode": "lines",
         "name": "Mortality-infants",
         "orientation": "v",
         "showlegend": true,
         "type": "scatter",
         "x": [
          1990,
          1991,
          1992,
          1993,
          1994,
          1995,
          1996,
          1997,
          1998,
          1999,
          2000,
          2001,
          2002,
          2003,
          2004,
          2005,
          2006,
          2007,
          2008,
          2009,
          2010,
          2011,
          2012,
          2013,
          2014,
          2015,
          2016,
          2017,
          2018,
          2019,
          2020,
          2021
         ],
         "xaxis": "x",
         "y": [
          1,
          0.9424458204334364,
          0.8803715170278638,
          0.814891640866873,
          0.7472755417956657,
          0.6791950464396285,
          0.611702786377709,
          0.5471826625386997,
          0.4865015479876161,
          0.430030959752322,
          0.3801857585139319,
          0.336594427244582,
          0.2996594427244582,
          0.2678018575851393,
          0.2402476780185758,
          0.2153250773993808,
          0.1923839009287925,
          0.1703715170278637,
          0.1490712074303405,
          0.1284210526315789,
          0.1088854489164086,
          0.0908978328173374,
          0.0743962848297213,
          0.0600928792569659,
          0.0480185758513931,
          0.0375541795665634,
          0.0285448916408668,
          0.0205572755417956,
          0.0130650154798761,
          0.0063777089783281,
          0,
          0
         ],
         "yaxis": "y"
        },
        {
         "hovertemplate": "variable=Net migration<br>Year=%{x}<br>value=%{y}<extra></extra>",
         "legendgroup": "Net migration",
         "line": {
          "color": "#FFA15A",
          "dash": "solid"
         },
         "marker": {
          "symbol": "circle"
         },
         "mode": "lines",
         "name": "Net migration",
         "orientation": "v",
         "showlegend": true,
         "type": "scatter",
         "x": [
          1990,
          1991,
          1992,
          1993,
          1994,
          1995,
          1996,
          1997,
          1998,
          1999,
          2000,
          2001,
          2002,
          2003,
          2004,
          2005,
          2006,
          2007,
          2008,
          2009,
          2010,
          2011,
          2012,
          2013,
          2014,
          2015,
          2016,
          2017,
          2018,
          2019,
          2020,
          2021
         ],
         "xaxis": "x",
         "y": [
          0.499473824614879,
          0.499473824614879,
          0.499473824614879,
          0.5111103390077045,
          0.5227468534005298,
          0.5343833677933553,
          0.5460198821861807,
          0.5576563965790061,
          0.4806313869064479,
          0.4036063772338898,
          0.3265813675613317,
          0.2495563578887735,
          0.1725313482162153,
          0.1380250785729723,
          0.1035188089297292,
          0.0690125392864861,
          0.034506269643243,
          0,
          0.0680699580649701,
          0.1361399161299402,
          0.2042098741949104,
          0.2722798322598805,
          0.3403497903248507,
          0.4722798322598806,
          0.6042098741949105,
          0.7361399161299402,
          0.8680699580649701,
          1,
          1,
          1,
          1,
          1
         ],
         "yaxis": "y"
        },
        {
         "hovertemplate": "variable=Ninis<br>Year=%{x}<br>value=%{y}<extra></extra>",
         "legendgroup": "Ninis",
         "line": {
          "color": "#19d3f3",
          "dash": "solid"
         },
         "marker": {
          "symbol": "circle"
         },
         "mode": "lines",
         "name": "Ninis",
         "orientation": "v",
         "showlegend": true,
         "type": "scatter",
         "x": [
          1990,
          1991,
          1992,
          1993,
          1994,
          1995,
          1996,
          1997,
          1998,
          1999,
          2000,
          2001,
          2002,
          2003,
          2004,
          2005,
          2006,
          2007,
          2008,
          2009,
          2010,
          2011,
          2012,
          2013,
          2014,
          2015,
          2016,
          2017,
          2018,
          2019,
          2020,
          2021
         ],
         "xaxis": "x",
         "y": [
          0,
          0,
          0,
          0,
          0,
          0,
          0,
          0,
          0,
          0,
          0,
          0,
          0,
          0.5000000000000003,
          1,
          0.9258188459990768,
          0.8516376919981536,
          0.5992293430305621,
          0.5356455492446868,
          0.4181117250478335,
          0.2427745855927336,
          0.3545279312619583,
          0.265895948446464,
          0.4855491711854481,
          0.5414260277723154,
          0.8535645181740235,
          0.5472061387954343,
          0.6955684467972999,
          0.7610790667590444,
          0.5953756906788034,
          0.5953756906788034,
          0.5953756906788034
         ],
         "yaxis": "y"
        },
        {
         "hovertemplate": "variable=R&D GExp<br>Year=%{x}<br>value=%{y}<extra></extra>",
         "legendgroup": "R&D GExp",
         "line": {
          "color": "#FF6692",
          "dash": "solid"
         },
         "marker": {
          "symbol": "circle"
         },
         "mode": "lines",
         "name": "R&D GExp",
         "orientation": "v",
         "showlegend": true,
         "type": "scatter",
         "x": [
          1990,
          1991,
          1992,
          1993,
          1994,
          1995,
          1996,
          1997,
          1998,
          1999,
          2000,
          2001,
          2002,
          2003,
          2004,
          2005,
          2006,
          2007,
          2008,
          2009,
          2010,
          2011,
          2012,
          2013,
          2014,
          2015,
          2016,
          2017,
          2018,
          2019,
          2020,
          2021
         ],
         "xaxis": "x",
         "y": [
          0.0409601409381193,
          0.0409601409381193,
          0.0409601409381193,
          0.0409601409381193,
          0.0409601409381193,
          0.0409601409381193,
          0.0409601409381193,
          0.0409601409381193,
          0.4179696102180137,
          0.3688614842545693,
          0.6809072891433603,
          0.6434706011891653,
          0.5373265800484474,
          0.5811495265360053,
          0.5114787491741909,
          0.4418079718123762,
          0.3721371944505615,
          0.3024664170887471,
          0.2327956397269326,
          0.163124862365118,
          0.0934540850033033,
          0.0237833076414889,
          0.0118916538207442,
          0,
          0.5793878000440429,
          0.776921382955296,
          0.8443074212728473,
          0.8612640387579826,
          1,
          1,
          1,
          1
         ],
         "yaxis": "y"
        },
        {
         "hovertemplate": "variable=Renewable electricity<br>Year=%{x}<br>value=%{y}<extra></extra>",
         "legendgroup": "Renewable electricity",
         "line": {
          "color": "#B6E880",
          "dash": "solid"
         },
         "marker": {
          "symbol": "circle"
         },
         "mode": "lines",
         "name": "Renewable electricity",
         "orientation": "v",
         "showlegend": true,
         "type": "scatter",
         "x": [
          1990,
          1991,
          1992,
          1993,
          1994,
          1995,
          1996,
          1997,
          1998,
          1999,
          2000,
          2001,
          2002,
          2003,
          2004,
          2005,
          2006,
          2007,
          2008,
          2009,
          2010,
          2011,
          2012,
          2013,
          2014,
          2015,
          2016,
          2017,
          2018,
          2019,
          2020,
          2021
         ],
         "xaxis": "x",
         "y": [
          0.0435483870967741,
          0.0387096774193548,
          0.0387096774193548,
          0,
          0.0161290322580645,
          0.0532258064516129,
          0.0451612903225806,
          0.0741935483870967,
          0.0290322580645161,
          0.05,
          0.0806451612903225,
          0.0887096774193548,
          0.1258064516129032,
          0.1419354838709677,
          0.0725806451612903,
          0.3870967741935484,
          0.3870967741935484,
          0.4983870967741935,
          0.567741935483871,
          0.567741935483871,
          0.9112903225806452,
          0.914516129032258,
          1,
          1,
          1,
          1,
          1,
          1,
          1,
          1,
          1,
          1
         ],
         "yaxis": "y"
        },
        {
         "hovertemplate": "variable=Suicide<br>Year=%{x}<br>value=%{y}<extra></extra>",
         "legendgroup": "Suicide",
         "line": {
          "color": "#FF97FF",
          "dash": "solid"
         },
         "marker": {
          "symbol": "circle"
         },
         "mode": "lines",
         "name": "Suicide",
         "orientation": "v",
         "showlegend": true,
         "type": "scatter",
         "x": [
          1990,
          1991,
          1992,
          1993,
          1994,
          1995,
          1996,
          1997,
          1998,
          1999,
          2000,
          2001,
          2002,
          2003,
          2004,
          2005,
          2006,
          2007,
          2008,
          2009,
          2010,
          2011,
          2012,
          2013,
          2014,
          2015,
          2016,
          2017,
          2018,
          2019,
          2020,
          2021
         ],
         "xaxis": "x",
         "y": [
          0.5555555555555556,
          0.5555555555555556,
          0.5555555555555556,
          0.5555555555555556,
          0.5555555555555556,
          0.5555555555555556,
          0.5555555555555556,
          0.5555555555555556,
          0.5555555555555556,
          0.5555555555555556,
          0.5555555555555556,
          0.3333333333333331,
          0.3333333333333331,
          0.4444444444444443,
          0.2222222222222219,
          0.1111111111111112,
          0.1111111111111112,
          0,
          0.1111111111111112,
          0.7777777777777776,
          1,
          0.7777777777777776,
          0.6666666666666669,
          0.5555555555555556,
          0.3333333333333331,
          0.1111111111111112,
          0,
          0.1111111111111112,
          0.2222222222222219,
          0.2222222222222219,
          0.2222222222222219,
          0.2222222222222219
         ],
         "yaxis": "y"
        },
        {
         "hovertemplate": "variable=Workers high education<br>Year=%{x}<br>value=%{y}<extra></extra>",
         "legendgroup": "Workers high education",
         "line": {
          "color": "#FECB52",
          "dash": "solid"
         },
         "marker": {
          "symbol": "circle"
         },
         "mode": "lines",
         "name": "Workers high education",
         "orientation": "v",
         "showlegend": true,
         "type": "scatter",
         "x": [
          1990,
          1991,
          1992,
          1993,
          1994,
          1995,
          1996,
          1997,
          1998,
          1999,
          2000,
          2001,
          2002,
          2003,
          2004,
          2005,
          2006,
          2007,
          2008,
          2009,
          2010,
          2011,
          2012,
          2013,
          2014,
          2015,
          2016,
          2017,
          2018,
          2019,
          2020,
          2021
         ],
         "xaxis": "x",
         "y": [
          0.4865665659282546,
          0.4865665659282546,
          0.4865665659282546,
          0.4865665659282546,
          0.4865665659282546,
          0.4865665659282546,
          0.4865665659282546,
          0.4865665659282546,
          0.4865665659282546,
          0.4865665659282546,
          0.4865665659282546,
          0.4865665659282546,
          0.4865665659282546,
          0.186567249157919,
          0.4626865501684151,
          0,
          0.4134325230988535,
          0.9880594227620222,
          0.8059696053893182,
          0.8462687688884497,
          0.8626867779116426,
          0.898507370909443,
          1,
          0.8835822187200335,
          0.8671642096968555,
          0.7074626899663259,
          0.822387614412509,
          0.7298509876084981,
          0.9059705163622228,
          0.7014924013473296,
          0.7014924013473296,
          0.7014924013473296
         ],
         "yaxis": "y"
        }
       ],
       "layout": {
        "height": 600,
        "legend": {
         "title": {
          "text": "variable"
         },
         "tracegroupgap": 0
        },
        "template": {
         "data": {
          "bar": [
           {
            "error_x": {
             "color": "#2a3f5f"
            },
            "error_y": {
             "color": "#2a3f5f"
            },
            "marker": {
             "line": {
              "color": "#E5ECF6",
              "width": 0.5
             },
             "pattern": {
              "fillmode": "overlay",
              "size": 10,
              "solidity": 0.2
             }
            },
            "type": "bar"
           }
          ],
          "barpolar": [
           {
            "marker": {
             "line": {
              "color": "#E5ECF6",
              "width": 0.5
             },
             "pattern": {
              "fillmode": "overlay",
              "size": 10,
              "solidity": 0.2
             }
            },
            "type": "barpolar"
           }
          ],
          "carpet": [
           {
            "aaxis": {
             "endlinecolor": "#2a3f5f",
             "gridcolor": "white",
             "linecolor": "white",
             "minorgridcolor": "white",
             "startlinecolor": "#2a3f5f"
            },
            "baxis": {
             "endlinecolor": "#2a3f5f",
             "gridcolor": "white",
             "linecolor": "white",
             "minorgridcolor": "white",
             "startlinecolor": "#2a3f5f"
            },
            "type": "carpet"
           }
          ],
          "choropleth": [
           {
            "colorbar": {
             "outlinewidth": 0,
             "ticks": ""
            },
            "type": "choropleth"
           }
          ],
          "contour": [
           {
            "colorbar": {
             "outlinewidth": 0,
             "ticks": ""
            },
            "colorscale": [
             [
              0,
              "#0d0887"
             ],
             [
              0.1111111111111111,
              "#46039f"
             ],
             [
              0.2222222222222222,
              "#7201a8"
             ],
             [
              0.3333333333333333,
              "#9c179e"
             ],
             [
              0.4444444444444444,
              "#bd3786"
             ],
             [
              0.5555555555555556,
              "#d8576b"
             ],
             [
              0.6666666666666666,
              "#ed7953"
             ],
             [
              0.7777777777777778,
              "#fb9f3a"
             ],
             [
              0.8888888888888888,
              "#fdca26"
             ],
             [
              1,
              "#f0f921"
             ]
            ],
            "type": "contour"
           }
          ],
          "contourcarpet": [
           {
            "colorbar": {
             "outlinewidth": 0,
             "ticks": ""
            },
            "type": "contourcarpet"
           }
          ],
          "heatmap": [
           {
            "colorbar": {
             "outlinewidth": 0,
             "ticks": ""
            },
            "colorscale": [
             [
              0,
              "#0d0887"
             ],
             [
              0.1111111111111111,
              "#46039f"
             ],
             [
              0.2222222222222222,
              "#7201a8"
             ],
             [
              0.3333333333333333,
              "#9c179e"
             ],
             [
              0.4444444444444444,
              "#bd3786"
             ],
             [
              0.5555555555555556,
              "#d8576b"
             ],
             [
              0.6666666666666666,
              "#ed7953"
             ],
             [
              0.7777777777777778,
              "#fb9f3a"
             ],
             [
              0.8888888888888888,
              "#fdca26"
             ],
             [
              1,
              "#f0f921"
             ]
            ],
            "type": "heatmap"
           }
          ],
          "heatmapgl": [
           {
            "colorbar": {
             "outlinewidth": 0,
             "ticks": ""
            },
            "colorscale": [
             [
              0,
              "#0d0887"
             ],
             [
              0.1111111111111111,
              "#46039f"
             ],
             [
              0.2222222222222222,
              "#7201a8"
             ],
             [
              0.3333333333333333,
              "#9c179e"
             ],
             [
              0.4444444444444444,
              "#bd3786"
             ],
             [
              0.5555555555555556,
              "#d8576b"
             ],
             [
              0.6666666666666666,
              "#ed7953"
             ],
             [
              0.7777777777777778,
              "#fb9f3a"
             ],
             [
              0.8888888888888888,
              "#fdca26"
             ],
             [
              1,
              "#f0f921"
             ]
            ],
            "type": "heatmapgl"
           }
          ],
          "histogram": [
           {
            "marker": {
             "pattern": {
              "fillmode": "overlay",
              "size": 10,
              "solidity": 0.2
             }
            },
            "type": "histogram"
           }
          ],
          "histogram2d": [
           {
            "colorbar": {
             "outlinewidth": 0,
             "ticks": ""
            },
            "colorscale": [
             [
              0,
              "#0d0887"
             ],
             [
              0.1111111111111111,
              "#46039f"
             ],
             [
              0.2222222222222222,
              "#7201a8"
             ],
             [
              0.3333333333333333,
              "#9c179e"
             ],
             [
              0.4444444444444444,
              "#bd3786"
             ],
             [
              0.5555555555555556,
              "#d8576b"
             ],
             [
              0.6666666666666666,
              "#ed7953"
             ],
             [
              0.7777777777777778,
              "#fb9f3a"
             ],
             [
              0.8888888888888888,
              "#fdca26"
             ],
             [
              1,
              "#f0f921"
             ]
            ],
            "type": "histogram2d"
           }
          ],
          "histogram2dcontour": [
           {
            "colorbar": {
             "outlinewidth": 0,
             "ticks": ""
            },
            "colorscale": [
             [
              0,
              "#0d0887"
             ],
             [
              0.1111111111111111,
              "#46039f"
             ],
             [
              0.2222222222222222,
              "#7201a8"
             ],
             [
              0.3333333333333333,
              "#9c179e"
             ],
             [
              0.4444444444444444,
              "#bd3786"
             ],
             [
              0.5555555555555556,
              "#d8576b"
             ],
             [
              0.6666666666666666,
              "#ed7953"
             ],
             [
              0.7777777777777778,
              "#fb9f3a"
             ],
             [
              0.8888888888888888,
              "#fdca26"
             ],
             [
              1,
              "#f0f921"
             ]
            ],
            "type": "histogram2dcontour"
           }
          ],
          "mesh3d": [
           {
            "colorbar": {
             "outlinewidth": 0,
             "ticks": ""
            },
            "type": "mesh3d"
           }
          ],
          "parcoords": [
           {
            "line": {
             "colorbar": {
              "outlinewidth": 0,
              "ticks": ""
             }
            },
            "type": "parcoords"
           }
          ],
          "pie": [
           {
            "automargin": true,
            "type": "pie"
           }
          ],
          "scatter": [
           {
            "fillpattern": {
             "fillmode": "overlay",
             "size": 10,
             "solidity": 0.2
            },
            "type": "scatter"
           }
          ],
          "scatter3d": [
           {
            "line": {
             "colorbar": {
              "outlinewidth": 0,
              "ticks": ""
             }
            },
            "marker": {
             "colorbar": {
              "outlinewidth": 0,
              "ticks": ""
             }
            },
            "type": "scatter3d"
           }
          ],
          "scattercarpet": [
           {
            "marker": {
             "colorbar": {
              "outlinewidth": 0,
              "ticks": ""
             }
            },
            "type": "scattercarpet"
           }
          ],
          "scattergeo": [
           {
            "marker": {
             "colorbar": {
              "outlinewidth": 0,
              "ticks": ""
             }
            },
            "type": "scattergeo"
           }
          ],
          "scattergl": [
           {
            "marker": {
             "colorbar": {
              "outlinewidth": 0,
              "ticks": ""
             }
            },
            "type": "scattergl"
           }
          ],
          "scattermapbox": [
           {
            "marker": {
             "colorbar": {
              "outlinewidth": 0,
              "ticks": ""
             }
            },
            "type": "scattermapbox"
           }
          ],
          "scatterpolar": [
           {
            "marker": {
             "colorbar": {
              "outlinewidth": 0,
              "ticks": ""
             }
            },
            "type": "scatterpolar"
           }
          ],
          "scatterpolargl": [
           {
            "marker": {
             "colorbar": {
              "outlinewidth": 0,
              "ticks": ""
             }
            },
            "type": "scatterpolargl"
           }
          ],
          "scatterternary": [
           {
            "marker": {
             "colorbar": {
              "outlinewidth": 0,
              "ticks": ""
             }
            },
            "type": "scatterternary"
           }
          ],
          "surface": [
           {
            "colorbar": {
             "outlinewidth": 0,
             "ticks": ""
            },
            "colorscale": [
             [
              0,
              "#0d0887"
             ],
             [
              0.1111111111111111,
              "#46039f"
             ],
             [
              0.2222222222222222,
              "#7201a8"
             ],
             [
              0.3333333333333333,
              "#9c179e"
             ],
             [
              0.4444444444444444,
              "#bd3786"
             ],
             [
              0.5555555555555556,
              "#d8576b"
             ],
             [
              0.6666666666666666,
              "#ed7953"
             ],
             [
              0.7777777777777778,
              "#fb9f3a"
             ],
             [
              0.8888888888888888,
              "#fdca26"
             ],
             [
              1,
              "#f0f921"
             ]
            ],
            "type": "surface"
           }
          ],
          "table": [
           {
            "cells": {
             "fill": {
              "color": "#EBF0F8"
             },
             "line": {
              "color": "white"
             }
            },
            "header": {
             "fill": {
              "color": "#C8D4E3"
             },
             "line": {
              "color": "white"
             }
            },
            "type": "table"
           }
          ]
         },
         "layout": {
          "annotationdefaults": {
           "arrowcolor": "#2a3f5f",
           "arrowhead": 0,
           "arrowwidth": 1
          },
          "autotypenumbers": "strict",
          "coloraxis": {
           "colorbar": {
            "outlinewidth": 0,
            "ticks": ""
           }
          },
          "colorscale": {
           "diverging": [
            [
             0,
             "#8e0152"
            ],
            [
             0.1,
             "#c51b7d"
            ],
            [
             0.2,
             "#de77ae"
            ],
            [
             0.3,
             "#f1b6da"
            ],
            [
             0.4,
             "#fde0ef"
            ],
            [
             0.5,
             "#f7f7f7"
            ],
            [
             0.6,
             "#e6f5d0"
            ],
            [
             0.7,
             "#b8e186"
            ],
            [
             0.8,
             "#7fbc41"
            ],
            [
             0.9,
             "#4d9221"
            ],
            [
             1,
             "#276419"
            ]
           ],
           "sequential": [
            [
             0,
             "#0d0887"
            ],
            [
             0.1111111111111111,
             "#46039f"
            ],
            [
             0.2222222222222222,
             "#7201a8"
            ],
            [
             0.3333333333333333,
             "#9c179e"
            ],
            [
             0.4444444444444444,
             "#bd3786"
            ],
            [
             0.5555555555555556,
             "#d8576b"
            ],
            [
             0.6666666666666666,
             "#ed7953"
            ],
            [
             0.7777777777777778,
             "#fb9f3a"
            ],
            [
             0.8888888888888888,
             "#fdca26"
            ],
            [
             1,
             "#f0f921"
            ]
           ],
           "sequentialminus": [
            [
             0,
             "#0d0887"
            ],
            [
             0.1111111111111111,
             "#46039f"
            ],
            [
             0.2222222222222222,
             "#7201a8"
            ],
            [
             0.3333333333333333,
             "#9c179e"
            ],
            [
             0.4444444444444444,
             "#bd3786"
            ],
            [
             0.5555555555555556,
             "#d8576b"
            ],
            [
             0.6666666666666666,
             "#ed7953"
            ],
            [
             0.7777777777777778,
             "#fb9f3a"
            ],
            [
             0.8888888888888888,
             "#fdca26"
            ],
            [
             1,
             "#f0f921"
            ]
           ]
          },
          "colorway": [
           "#636efa",
           "#EF553B",
           "#00cc96",
           "#ab63fa",
           "#FFA15A",
           "#19d3f3",
           "#FF6692",
           "#B6E880",
           "#FF97FF",
           "#FECB52"
          ],
          "font": {
           "color": "#2a3f5f"
          },
          "geo": {
           "bgcolor": "white",
           "lakecolor": "white",
           "landcolor": "#E5ECF6",
           "showlakes": true,
           "showland": true,
           "subunitcolor": "white"
          },
          "hoverlabel": {
           "align": "left"
          },
          "hovermode": "closest",
          "mapbox": {
           "style": "light"
          },
          "paper_bgcolor": "white",
          "plot_bgcolor": "#E5ECF6",
          "polar": {
           "angularaxis": {
            "gridcolor": "white",
            "linecolor": "white",
            "ticks": ""
           },
           "bgcolor": "#E5ECF6",
           "radialaxis": {
            "gridcolor": "white",
            "linecolor": "white",
            "ticks": ""
           }
          },
          "scene": {
           "xaxis": {
            "backgroundcolor": "#E5ECF6",
            "gridcolor": "white",
            "gridwidth": 2,
            "linecolor": "white",
            "showbackground": true,
            "ticks": "",
            "zerolinecolor": "white"
           },
           "yaxis": {
            "backgroundcolor": "#E5ECF6",
            "gridcolor": "white",
            "gridwidth": 2,
            "linecolor": "white",
            "showbackground": true,
            "ticks": "",
            "zerolinecolor": "white"
           },
           "zaxis": {
            "backgroundcolor": "#E5ECF6",
            "gridcolor": "white",
            "gridwidth": 2,
            "linecolor": "white",
            "showbackground": true,
            "ticks": "",
            "zerolinecolor": "white"
           }
          },
          "shapedefaults": {
           "line": {
            "color": "#2a3f5f"
           }
          },
          "ternary": {
           "aaxis": {
            "gridcolor": "white",
            "linecolor": "white",
            "ticks": ""
           },
           "baxis": {
            "gridcolor": "white",
            "linecolor": "white",
            "ticks": ""
           },
           "bgcolor": "#E5ECF6",
           "caxis": {
            "gridcolor": "white",
            "linecolor": "white",
            "ticks": ""
           }
          },
          "title": {
           "x": 0.05
          },
          "xaxis": {
           "automargin": true,
           "gridcolor": "white",
           "linecolor": "white",
           "ticks": "",
           "title": {
            "standoff": 15
           },
           "zerolinecolor": "white",
           "zerolinewidth": 2
          },
          "yaxis": {
           "automargin": true,
           "gridcolor": "white",
           "linecolor": "white",
           "ticks": "",
           "title": {
            "standoff": 15
           },
           "zerolinecolor": "white",
           "zerolinewidth": 2
          }
         }
        },
        "title": {
         "text": "PER"
        },
        "width": 800,
        "xaxis": {
         "anchor": "y",
         "domain": [
          0,
          1
         ],
         "title": {
          "text": "Year"
         }
        },
        "yaxis": {
         "anchor": "x",
         "domain": [
          0,
          1
         ],
         "title": {
          "text": "value"
         }
        }
       }
      }
     },
     "metadata": {},
     "output_type": "display_data"
    },
    {
     "data": {
      "application/vnd.plotly.v1+json": {
       "config": {
        "plotlyServerURL": "https://plot.ly"
       },
       "data": [
        {
         "hovertemplate": "variable=Alcohol per capita<br>Year=%{x}<br>value=%{y}<extra></extra>",
         "legendgroup": "Alcohol per capita",
         "line": {
          "color": "#636efa",
          "dash": "solid"
         },
         "marker": {
          "symbol": "circle"
         },
         "mode": "lines",
         "name": "Alcohol per capita",
         "orientation": "v",
         "showlegend": true,
         "type": "scatter",
         "x": [
          1990,
          1991,
          1992,
          1993,
          1994,
          1995,
          1996,
          1997,
          1998,
          1999,
          2000,
          2001,
          2002,
          2003,
          2004,
          2005,
          2006,
          2007,
          2008,
          2009,
          2010,
          2011,
          2012,
          2013,
          2014,
          2015,
          2016,
          2017,
          2018,
          2019,
          2020
         ],
         "xaxis": "x",
         "y": [
          0.9488636363636364,
          0.9488636363636364,
          0.9488636363636364,
          0.9488636363636364,
          0.9488636363636364,
          0.9488636363636364,
          0.9488636363636364,
          0.9488636363636364,
          0.9488636363636364,
          0.9488636363636364,
          0.9488636363636364,
          0.9590909090909092,
          0.969318181818182,
          0.9795454545454544,
          0.9897727272727272,
          1,
          0.9715909090909092,
          0.943181818181818,
          0.9147727272727274,
          0.8863636363636365,
          0.8579545454545454,
          0.7878787878787881,
          0.7178030303030303,
          0.6477272727272728,
          0.5776515151515152,
          0.5075757575757577,
          0.3383838383838384,
          0.1691919191919192,
          0,
          0,
          0
         ],
         "yaxis": "y"
        },
        {
         "hovertemplate": "variable=Education GExp<br>Year=%{x}<br>value=%{y}<extra></extra>",
         "legendgroup": "Education GExp",
         "line": {
          "color": "#EF553B",
          "dash": "solid"
         },
         "marker": {
          "symbol": "circle"
         },
         "mode": "lines",
         "name": "Education GExp",
         "orientation": "v",
         "showlegend": true,
         "type": "scatter",
         "x": [
          1990,
          1991,
          1992,
          1993,
          1994,
          1995,
          1996,
          1997,
          1998,
          1999,
          2000,
          2001,
          2002,
          2003,
          2004,
          2005,
          2006,
          2007,
          2008,
          2009,
          2010,
          2011,
          2012,
          2013,
          2014,
          2015,
          2016,
          2017,
          2018,
          2019,
          2020
         ],
         "xaxis": "x",
         "y": [
          0,
          0,
          0,
          0,
          0,
          0,
          0,
          0,
          0,
          0,
          0,
          0,
          0,
          0,
          0,
          0,
          0,
          0,
          0,
          0,
          0,
          0,
          0,
          0,
          0,
          0,
          0.0617845310471904,
          1,
          1,
          1,
          1
         ],
         "yaxis": "y"
        },
        {
         "hovertemplate": "variable=Employment-agriculture<br>Year=%{x}<br>value=%{y}<extra></extra>",
         "legendgroup": "Employment-agriculture",
         "line": {
          "color": "#00cc96",
          "dash": "solid"
         },
         "marker": {
          "symbol": "circle"
         },
         "mode": "lines",
         "name": "Employment-agriculture",
         "orientation": "v",
         "showlegend": true,
         "type": "scatter",
         "x": [
          1990,
          1991,
          1992,
          1993,
          1994,
          1995,
          1996,
          1997,
          1998,
          1999,
          2000,
          2001,
          2002,
          2003,
          2004,
          2005,
          2006,
          2007,
          2008,
          2009,
          2010,
          2011,
          2012,
          2013,
          2014,
          2015,
          2016,
          2017,
          2018,
          2019,
          2020
         ],
         "xaxis": "x",
         "y": [
          0.8082192794924924,
          0.8082192794924924,
          0.6773211592035225,
          0.599695695140066,
          1,
          0.9421614644722196,
          0.9436834242396418,
          0.5312024251488962,
          0.4048706196299551,
          0.4353119923171863,
          0.4992389475383211,
          0.3531202134837056,
          0.4018265549391903,
          0.523592190844032,
          0.48249622884933,
          0.4505327512387551,
          0.3181126711823704,
          0.2298326178114432,
          0.1811264215118739,
          0.1582952831295147,
          0.1445966291312822,
          0.1004566024458186,
          0.0502283012229101,
          0.0182648236123396,
          0,
          0,
          0.0106545167295098,
          0.0182648236123396,
          0.031963477610572,
          0.0806697464880974,
          0.0806697464880974
         ],
         "yaxis": "y"
        },
        {
         "hovertemplate": "variable=Employment-industry<br>Year=%{x}<br>value=%{y}<extra></extra>",
         "legendgroup": "Employment-industry",
         "line": {
          "color": "#ab63fa",
          "dash": "solid"
         },
         "marker": {
          "symbol": "circle"
         },
         "mode": "lines",
         "name": "Employment-industry",
         "orientation": "v",
         "showlegend": true,
         "type": "scatter",
         "x": [
          1990,
          1991,
          1992,
          1993,
          1994,
          1995,
          1996,
          1997,
          1998,
          1999,
          2000,
          2001,
          2002,
          2003,
          2004,
          2005,
          2006,
          2007,
          2008,
          2009,
          2010,
          2011,
          2012,
          2013,
          2014,
          2015,
          2016,
          2017,
          2018,
          2019,
          2020
         ],
         "xaxis": "x",
         "y": [
          0.934684687103503,
          0.934684687103503,
          1,
          0.9605857536938228,
          0.6644144342487704,
          0.6542792809724578,
          0.5225225031719296,
          0.6903152860475501,
          0.7601352069741951,
          0.5585585082470331,
          0.5720721175459604,
          0.4887388021119174,
          0.33108117251261,
          0.2342342477796514,
          0.289414407399824,
          0.3265765644824615,
          0.4988739553882302,
          0.6058558186059729,
          0.5765767255761085,
          0.5213963511643956,
          0.4369368837228184,
          0.4200450331928063,
          0.435810946506813,
          0.4031531826628059,
          0.3322073245201555,
          0.2342342477796514,
          0.1193693205091352,
          0,
          0,
          0,
          0
         ],
         "yaxis": "y"
        },
        {
         "hovertemplate": "variable=Employment-services<br>Year=%{x}<br>value=%{y}<extra></extra>",
         "legendgroup": "Employment-services",
         "line": {
          "color": "#FFA15A",
          "dash": "solid"
         },
         "marker": {
          "symbol": "circle"
         },
         "mode": "lines",
         "name": "Employment-services",
         "orientation": "v",
         "showlegend": true,
         "type": "scatter",
         "x": [
          1990,
          1991,
          1992,
          1993,
          1994,
          1995,
          1996,
          1997,
          1998,
          1999,
          2000,
          2001,
          2002,
          2003,
          2004,
          2005,
          2006,
          2007,
          2008,
          2009,
          2010,
          2011,
          2012,
          2013,
          2014,
          2015,
          2016,
          2017,
          2018,
          2019,
          2020
         ],
         "xaxis": "x",
         "y": [
          0,
          0,
          0.0174306323434181,
          0.0729503695257651,
          0.0735958390488166,
          0.1032923624775587,
          0.1781796331093125,
          0.25694021341621,
          0.2704972898160639,
          0.3731439365021506,
          0.3382826718153217,
          0.4480312071339045,
          0.518398959762202,
          0.5216270461827152,
          0.5074242539913951,
          0.5003228578957328,
          0.4570692580671368,
          0.4331826991511138,
          0.4706263344669907,
          0.5119432794580112,
          0.5661715850574142,
          0.5945771694400597,
          0.6068433067938033,
          0.6391222008515925,
          0.6875405419382763,
          0.7430602791206232,
          0.8050356966071546,
          0.8702392005142046,
          0.9347969886297828,
          1,
          1
         ],
         "yaxis": "y"
        },
        {
         "hovertemplate": "variable=Exports-Commercial services<br>Year=%{x}<br>value=%{y}<extra></extra>",
         "legendgroup": "Exports-Commercial services",
         "line": {
          "color": "#19d3f3",
          "dash": "solid"
         },
         "marker": {
          "symbol": "circle"
         },
         "mode": "lines",
         "name": "Exports-Commercial services",
         "orientation": "v",
         "showlegend": true,
         "type": "scatter",
         "x": [
          1990,
          1991,
          1992,
          1993,
          1994,
          1995,
          1996,
          1997,
          1998,
          1999,
          2000,
          2001,
          2002,
          2003,
          2004,
          2005,
          2006,
          2007,
          2008,
          2009,
          2010,
          2011,
          2012,
          2013,
          2014,
          2015,
          2016,
          2017,
          2018,
          2019,
          2020
         ],
         "xaxis": "x",
         "y": [
          0.2668288726682887,
          0.2895377128953771,
          0.3454987834549878,
          0.3641524736415247,
          0.5450121654501217,
          0.6066504460665044,
          0.5417680454176804,
          0.3227899432278994,
          0.4014598540145985,
          0.3373884833738848,
          0.2157339821573398,
          0.3657745336577453,
          0.0989456609894566,
          0,
          0.1889699918896999,
          0.3706407137064071,
          0.527169505271695,
          0.772911597729116,
          1,
          0.9318734793187348,
          0.6666666666666666,
          0.6699107866991079,
          0.8199513381995134,
          0.8548256285482563,
          0.8304947283049473,
          0.5985401459854015,
          0.3625304136253041,
          0.3625304136253041,
          0.3625304136253041,
          0.3625304136253041,
          0.3625304136253041
         ],
         "yaxis": "y"
        },
        {
         "hovertemplate": "variable=Exports-G&S<br>Year=%{x}<br>value=%{y}<extra></extra>",
         "legendgroup": "Exports-G&S",
         "line": {
          "color": "#FF6692",
          "dash": "solid"
         },
         "marker": {
          "symbol": "circle"
         },
         "mode": "lines",
         "name": "Exports-G&S",
         "orientation": "v",
         "showlegend": true,
         "type": "scatter",
         "x": [
          1990,
          1991,
          1992,
          1993,
          1994,
          1995,
          1996,
          1997,
          1998,
          1999,
          2000,
          2001,
          2002,
          2003,
          2004,
          2005,
          2006,
          2007,
          2008,
          2009,
          2010,
          2011,
          2012,
          2013,
          2014,
          2015,
          2016,
          2017,
          2018,
          2019,
          2020
         ],
         "xaxis": "x",
         "y": [
          0.0325411455689738,
          0.008490247578368,
          0,
          0.0027482251827153,
          0.0211209908438175,
          0.0506495878625207,
          0.0983982987110852,
          0.1003720820842052,
          0.0382695408369952,
          0.0727951068981334,
          0.2008683118990778,
          0.1295737650735249,
          0.1329614223135455,
          0.1333497567455342,
          0.2614585156273298,
          0.4371325695798272,
          0.5331910056446395,
          0.5818610829493118,
          0.8470977495651745,
          0.4566655565979723,
          1,
          0.820047670743639,
          0.8719424167635351,
          0.7902375297879067,
          0.6729029893699042,
          0.6729029893699042,
          0.6729029893699042,
          0.6729029893699042,
          0.6729029893699042,
          0.6729029893699042,
          0.6729029893699042
         ],
         "yaxis": "y"
        },
        {
         "hovertemplate": "variable=Fertility rate<br>Year=%{x}<br>value=%{y}<extra></extra>",
         "legendgroup": "Fertility rate",
         "line": {
          "color": "#B6E880",
          "dash": "solid"
         },
         "marker": {
          "symbol": "circle"
         },
         "mode": "lines",
         "name": "Fertility rate",
         "orientation": "v",
         "showlegend": true,
         "type": "scatter",
         "x": [
          1990,
          1991,
          1992,
          1993,
          1994,
          1995,
          1996,
          1997,
          1998,
          1999,
          2000,
          2001,
          2002,
          2003,
          2004,
          2005,
          2006,
          2007,
          2008,
          2009,
          2010,
          2011,
          2012,
          2013,
          2014,
          2015,
          2016,
          2017,
          2018,
          2019,
          2020
         ],
         "xaxis": "x",
         "y": [
          1,
          0.935960591133005,
          0.8719211822660098,
          0.8111658456486043,
          0.7528735632183907,
          0.6995073891625615,
          0.6502463054187191,
          0.6050903119868638,
          0.5623973727422004,
          0.5229885057471264,
          0.4860426929392447,
          0.4507389162561576,
          0.4178981937602626,
          0.3866995073891626,
          0.3563218390804599,
          0.3275862068965517,
          0.2996715927750412,
          0.2725779967159276,
          0.2463054187192117,
          0.2216748768472906,
          0.1978653530377669,
          0.1756978653530377,
          0.1535303776683085,
          0.1313628899835797,
          0.1108374384236455,
          0.0903119868637109,
          0.0714285714285715,
          0.0525451559934319,
          0.0344827586206895,
          0.0164203612479474,
          0
         ],
         "yaxis": "y"
        },
        {
         "hovertemplate": "variable=Foreign investment<br>Year=%{x}<br>value=%{y}<extra></extra>",
         "legendgroup": "Foreign investment",
         "line": {
          "color": "#FF97FF",
          "dash": "solid"
         },
         "marker": {
          "symbol": "circle"
         },
         "mode": "lines",
         "name": "Foreign investment",
         "orientation": "v",
         "showlegend": true,
         "type": "scatter",
         "x": [
          1990,
          1991,
          1992,
          1993,
          1994,
          1995,
          1996,
          1997,
          1998,
          1999,
          2000,
          2001,
          2002,
          2003,
          2004,
          2005,
          2006,
          2007,
          2008,
          2009,
          2010,
          2011,
          2012,
          2013,
          2014,
          2015,
          2016,
          2017,
          2018,
          2019,
          2020
         ],
         "xaxis": "x",
         "y": [
          0.660656793303284,
          0.3947198969735995,
          0.5967482292337412,
          0.7556342562781713,
          0.5996458467482292,
          0.5289761751448808,
          0.4030907920154539,
          0.2207018673535093,
          0.0383129426915647,
          0.3480360592401803,
          0,
          0.1128461043142305,
          0.71216999356085,
          0.5566645202833226,
          0.5338055376690277,
          0.4439793947198969,
          1,
          0.0639085640695428,
          0.4610431423052157,
          0.640856406954282,
          0.8206696716033484,
          0.6116387636831938,
          0.4026078557630392,
          0.3625241468126207,
          0.487926593689633,
          0.6133290405666452,
          0.6685447520927238,
          0.6685447520927238,
          0.6685447520927238,
          0.6685447520927238,
          0.6685447520927238
         ],
         "yaxis": "y"
        },
        {
         "hovertemplate": "variable=GDP<br>Year=%{x}<br>value=%{y}<extra></extra>",
         "legendgroup": "GDP",
         "line": {
          "color": "#FECB52",
          "dash": "solid"
         },
         "marker": {
          "symbol": "circle"
         },
         "mode": "lines",
         "name": "GDP",
         "orientation": "v",
         "showlegend": true,
         "type": "scatter",
         "x": [
          1990,
          1991,
          1992,
          1993,
          1994,
          1995,
          1996,
          1997,
          1998,
          1999,
          2000,
          2001,
          2002,
          2003,
          2004,
          2005,
          2006,
          2007,
          2008,
          2009,
          2010,
          2011,
          2012,
          2013,
          2014,
          2015,
          2016,
          2017,
          2018,
          2019,
          2020
         ],
         "xaxis": "x",
         "y": [
          0,
          0.0112473371970564,
          0.0272119498835328,
          0.0264355148653743,
          0.0226400045857654,
          0.0664177057563908,
          0.0505921357430406,
          0.0858657619024965,
          0.0985171270644732,
          0.1138381973430043,
          0.158018834008354,
          0.1713054979374306,
          0.1021190744247848,
          0.0807410365581258,
          0.1472125578212647,
          0.2234218656222465,
          0.3109528186328011,
          0.4190457317937514,
          0.6163649359246955,
          0.6482586292619205,
          0.7944329628558436,
          0.6175840457242894,
          0.7669843988423033,
          0.7432827336737141,
          1,
          1,
          1,
          1,
          1,
          1,
          1
         ],
         "yaxis": "y"
        },
        {
         "hovertemplate": "variable=Health services use<br>Year=%{x}<br>value=%{y}<extra></extra>",
         "legendgroup": "Health services use",
         "line": {
          "color": "#636efa",
          "dash": "solid"
         },
         "marker": {
          "symbol": "circle"
         },
         "mode": "lines",
         "name": "Health services use",
         "orientation": "v",
         "showlegend": true,
         "type": "scatter",
         "x": [
          1990,
          1991,
          1992,
          1993,
          1994,
          1995,
          1996,
          1997,
          1998,
          1999,
          2000,
          2001,
          2002,
          2003,
          2004,
          2005,
          2006,
          2007,
          2008,
          2009,
          2010,
          2011,
          2012,
          2013,
          2014,
          2015,
          2016,
          2017,
          2018,
          2019,
          2020
         ],
         "xaxis": "x",
         "y": [
          0,
          0,
          0,
          0,
          0,
          0,
          0,
          0,
          0,
          0,
          0,
          0,
          0,
          0,
          0,
          0,
          0.1074975912693932,
          0.2158050847533736,
          0.3249316621112003,
          0.381407045262369,
          0.4376427703902855,
          0.4938784924225669,
          0.5501142144548482,
          0.6063499395827646,
          0.6625856616150461,
          0.7188213836473231,
          0.7750571087752438,
          0.8312928308075208,
          0.8875285528398023,
          0.9437642779677188,
          1
         ],
         "yaxis": "y"
        },
        {
         "hovertemplate": "variable=International taxes<br>Year=%{x}<br>value=%{y}<extra></extra>",
         "legendgroup": "International taxes",
         "line": {
          "color": "#EF553B",
          "dash": "solid"
         },
         "marker": {
          "symbol": "circle"
         },
         "mode": "lines",
         "name": "International taxes",
         "orientation": "v",
         "showlegend": true,
         "type": "scatter",
         "x": [
          1990,
          1991,
          1992,
          1993,
          1994,
          1995,
          1996,
          1997,
          1998,
          1999,
          2000,
          2001,
          2002,
          2003,
          2004,
          2005,
          2006,
          2007,
          2008,
          2009,
          2010,
          2011,
          2012,
          2013,
          2014,
          2015,
          2016,
          2017,
          2018,
          2019,
          2020
         ],
         "xaxis": "x",
         "y": [
          null,
          null,
          null,
          null,
          null,
          null,
          null,
          null,
          null,
          null,
          null,
          null,
          null,
          null,
          null,
          null,
          null,
          null,
          null,
          null,
          null,
          null,
          null,
          null,
          null,
          null,
          null,
          null,
          null,
          null,
          null
         ],
         "yaxis": "y"
        },
        {
         "hovertemplate": "variable=Literacy rate<br>Year=%{x}<br>value=%{y}<extra></extra>",
         "legendgroup": "Literacy rate",
         "line": {
          "color": "#00cc96",
          "dash": "solid"
         },
         "marker": {
          "symbol": "circle"
         },
         "mode": "lines",
         "name": "Literacy rate",
         "orientation": "v",
         "showlegend": true,
         "type": "scatter",
         "x": [
          1990,
          1991,
          1992,
          1993,
          1994,
          1995,
          1996,
          1997,
          1998,
          1999,
          2000,
          2001,
          2002,
          2003,
          2004,
          2005,
          2006,
          2007,
          2008,
          2009,
          2010,
          2011,
          2012,
          2013,
          2014,
          2015,
          2016,
          2017,
          2018,
          2019,
          2020
         ],
         "xaxis": "x",
         "y": [
          0,
          0,
          0,
          0,
          0,
          0,
          0,
          0,
          0,
          0,
          0,
          0,
          0.0873995106606078,
          0.1747990213212123,
          0.2621985319818202,
          0.3495980426424281,
          0.4369975533030325,
          0.5243970639636404,
          0.5674800860942868,
          0.6105631082249332,
          0.5211335749369774,
          0.4317040416490252,
          0.542319119189086,
          0.6529341967291434,
          0.7635492742692042,
          0.874164351809265,
          1,
          1,
          1,
          1,
          1
         ],
         "yaxis": "y"
        },
        {
         "hovertemplate": "variable=Mortality-infants<br>Year=%{x}<br>value=%{y}<extra></extra>",
         "legendgroup": "Mortality-infants",
         "line": {
          "color": "#ab63fa",
          "dash": "solid"
         },
         "marker": {
          "symbol": "circle"
         },
         "mode": "lines",
         "name": "Mortality-infants",
         "orientation": "v",
         "showlegend": true,
         "type": "scatter",
         "x": [
          1990,
          1991,
          1992,
          1993,
          1994,
          1995,
          1996,
          1997,
          1998,
          1999,
          2000,
          2001,
          2002,
          2003,
          2004,
          2005,
          2006,
          2007,
          2008,
          2009,
          2010,
          2011,
          2012,
          2013,
          2014,
          2015,
          2016,
          2017,
          2018,
          2019,
          2020
         ],
         "xaxis": "x",
         "y": [
          1,
          0.9233910169161968,
          0.8635037915613455,
          0.818977250631927,
          0.7849504180439433,
          0.7445070970250827,
          0.6826754812366324,
          0.6037332296325102,
          0.5191522457709508,
          0.4406960917752284,
          0.3622399377795061,
          0.3136301769395294,
          0.27065914835699,
          0.2253548512541318,
          0.1713007972000777,
          0.1160801088858642,
          0.0672759090025277,
          0.0293602955473459,
          0.0071942446043165,
          0,
          0.0023332685203188,
          0.0071942446043165,
          0.0134162939918335,
          0.022749368073109,
          0.0334435154579039,
          0.1135524013221855,
          0.5706785922613261,
          0.5210966362045498,
          0.4755979000583317,
          0.4359323352129107,
          0.4052109663620455
         ],
         "yaxis": "y"
        },
        {
         "hovertemplate": "variable=Net migration<br>Year=%{x}<br>value=%{y}<extra></extra>",
         "legendgroup": "Net migration",
         "line": {
          "color": "#FFA15A",
          "dash": "solid"
         },
         "marker": {
          "symbol": "circle"
         },
         "mode": "lines",
         "name": "Net migration",
         "orientation": "v",
         "showlegend": true,
         "type": "scatter",
         "x": [
          1990,
          1991,
          1992,
          1993,
          1994,
          1995,
          1996,
          1997,
          1998,
          1999,
          2000,
          2001,
          2002,
          2003,
          2004,
          2005,
          2006,
          2007,
          2008,
          2009,
          2010,
          2011,
          2012,
          2013,
          2014,
          2015,
          2016,
          2017,
          2018,
          2019,
          2020
         ],
         "xaxis": "x",
         "y": [
          1,
          1,
          1,
          0.9989411572638012,
          0.9978823145276022,
          0.9968234717914032,
          0.9957646290552044,
          0.9947057863190056,
          0.9862163864076312,
          0.9777269864962568,
          0.9692375865848823,
          0.960748186673508,
          0.9522587867621336,
          0.8694731441098957,
          0.786687501457658,
          0.7039018588054201,
          0.6211162161531824,
          0.5383305735009446,
          0.4306644588007556,
          0.3229983441005667,
          0.2153322294003778,
          0.1076661147001889,
          0,
          0,
          0,
          0,
          0,
          0,
          0,
          0,
          0
         ],
         "yaxis": "y"
        },
        {
         "hovertemplate": "variable=Ninis<br>Year=%{x}<br>value=%{y}<extra></extra>",
         "legendgroup": "Ninis",
         "line": {
          "color": "#19d3f3",
          "dash": "solid"
         },
         "marker": {
          "symbol": "circle"
         },
         "mode": "lines",
         "name": "Ninis",
         "orientation": "v",
         "showlegend": true,
         "type": "scatter",
         "x": [
          1990,
          1991,
          1992,
          1993,
          1994,
          1995,
          1996,
          1997,
          1998,
          1999,
          2000,
          2001,
          2002,
          2003,
          2004,
          2005,
          2006,
          2007,
          2008,
          2009,
          2010,
          2011,
          2012,
          2013,
          2014,
          2015,
          2016,
          2017,
          2018,
          2019,
          2020
         ],
         "xaxis": "x",
         "y": [
          0.1511312260152037,
          0.1511312260152037,
          0.1511312260152037,
          0.1511312260152037,
          0.1511312260152037,
          0.1511312260152037,
          0.1511312260152037,
          0.1511312260152037,
          0.1511312260152037,
          0.1511312260152037,
          0.1511312260152037,
          0.1511312260152037,
          0.1511312260152037,
          0.1511312260152037,
          0.1511312260152037,
          0.1511312260152037,
          0.0941176419820435,
          0,
          0.0316742421202188,
          0.2950226400552747,
          0.6425338737775355,
          0.6515836818991357,
          0.7176469877485226,
          0.7309954072599221,
          0.7443438267713217,
          0.7576922462827215,
          0.7710406657941208,
          1,
          1,
          1,
          1
         ],
         "yaxis": "y"
        },
        {
         "hovertemplate": "variable=R&D GExp<br>Year=%{x}<br>value=%{y}<extra></extra>",
         "legendgroup": "R&D GExp",
         "line": {
          "color": "#FF6692",
          "dash": "solid"
         },
         "marker": {
          "symbol": "circle"
         },
         "mode": "lines",
         "name": "R&D GExp",
         "orientation": "v",
         "showlegend": true,
         "type": "scatter",
         "x": [
          1990,
          1991,
          1992,
          1993,
          1994,
          1995,
          1996,
          1997,
          1998,
          1999,
          2000,
          2001,
          2002,
          2003,
          2004,
          2005,
          2006,
          2007,
          2008,
          2009,
          2010,
          2011,
          2012,
          2013,
          2014,
          2015,
          2016,
          2017,
          2018,
          2019,
          2020
         ],
         "xaxis": "x",
         "y": [
          0.1960688494325893,
          0.1960688494325893,
          0.1960688494325893,
          0.1960688494325893,
          0.1960688494325893,
          0.1960688494325893,
          0.1960688494325893,
          0.1960688494325893,
          0.1960688494325893,
          0.1960688494325893,
          0.1960688494325893,
          0.1960688494325893,
          0.1960688494325893,
          0.1960688494325893,
          0.1960688494325893,
          0.1960688494325893,
          0.8929793125916272,
          0.2613889341369387,
          0.4619101916707389,
          0.4733669978823912,
          0.1915078460118369,
          0,
          0.5274474670141717,
          0.8990063528261931,
          1,
          1,
          1,
          1,
          1,
          1,
          1
         ],
         "yaxis": "y"
        },
        {
         "hovertemplate": "variable=Renewable electricity<br>Year=%{x}<br>value=%{y}<extra></extra>",
         "legendgroup": "Renewable electricity",
         "line": {
          "color": "#B6E880",
          "dash": "solid"
         },
         "marker": {
          "symbol": "circle"
         },
         "mode": "lines",
         "name": "Renewable electricity",
         "orientation": "v",
         "showlegend": true,
         "type": "scatter",
         "x": [
          1990,
          1991,
          1992,
          1993,
          1994,
          1995,
          1996,
          1997,
          1998,
          1999,
          2000,
          2001,
          2002,
          2003,
          2004,
          2005,
          2006,
          2007,
          2008,
          2009,
          2010,
          2011,
          2012,
          2013,
          2014,
          2015,
          2016,
          2017,
          2018,
          2019,
          2020
         ],
         "xaxis": "x",
         "y": [
          null,
          null,
          null,
          null,
          null,
          null,
          null,
          null,
          null,
          null,
          null,
          null,
          null,
          null,
          null,
          null,
          null,
          null,
          null,
          null,
          null,
          null,
          null,
          null,
          null,
          null,
          null,
          null,
          null,
          null,
          null
         ],
         "yaxis": "y"
        },
        {
         "hovertemplate": "variable=Suicide<br>Year=%{x}<br>value=%{y}<extra></extra>",
         "legendgroup": "Suicide",
         "line": {
          "color": "#FF97FF",
          "dash": "solid"
         },
         "marker": {
          "symbol": "circle"
         },
         "mode": "lines",
         "name": "Suicide",
         "orientation": "v",
         "showlegend": true,
         "type": "scatter",
         "x": [
          1990,
          1991,
          1992,
          1993,
          1994,
          1995,
          1996,
          1997,
          1998,
          1999,
          2000,
          2001,
          2002,
          2003,
          2004,
          2005,
          2006,
          2007,
          2008,
          2009,
          2010,
          2011,
          2012,
          2013,
          2014,
          2015,
          2016,
          2017,
          2018,
          2019,
          2020
         ],
         "xaxis": "x",
         "y": [
          0.9166666666666669,
          0.9166666666666669,
          0.9166666666666669,
          0.9166666666666669,
          0.9166666666666669,
          0.9166666666666669,
          0.9166666666666669,
          0.9166666666666669,
          0.9166666666666669,
          0.9166666666666669,
          0.9166666666666669,
          1,
          0.9166666666666669,
          0.7777777777777778,
          0.6666666666666666,
          0.638888888888889,
          0.4999999999999999,
          0.4444444444444445,
          0.3888888888888888,
          0.3055555555555556,
          0.361111111111111,
          0.4166666666666666,
          0.3055555555555556,
          0.111111111111111,
          0,
          0.0555555555555554,
          0.0277777777777778,
          0.0277777777777778,
          0.0277777777777778,
          0,
          0
         ],
         "yaxis": "y"
        },
        {
         "hovertemplate": "variable=Workers high education<br>Year=%{x}<br>value=%{y}<extra></extra>",
         "legendgroup": "Workers high education",
         "line": {
          "color": "#FECB52",
          "dash": "solid"
         },
         "marker": {
          "symbol": "circle"
         },
         "mode": "lines",
         "name": "Workers high education",
         "orientation": "v",
         "showlegend": true,
         "type": "scatter",
         "x": [
          1990,
          1991,
          1992,
          1993,
          1994,
          1995,
          1996,
          1997,
          1998,
          1999,
          2000,
          2001,
          2002,
          2003,
          2004,
          2005,
          2006,
          2007,
          2008,
          2009,
          2010,
          2011,
          2012,
          2013,
          2014,
          2015,
          2016,
          2017,
          2018,
          2019,
          2020
         ],
         "xaxis": "x",
         "y": [
          0.741107076945354,
          0.741107076945354,
          0.741107076945354,
          0.741107076945354,
          0.741107076945354,
          0.741107076945354,
          0.741107076945354,
          0.741107076945354,
          0.741107076945354,
          0.741107076945354,
          0.741107076945354,
          0.741107076945354,
          0.741107076945354,
          0.741107076945354,
          0.741107076945354,
          0.741107076945354,
          0.8083000615176807,
          0.5415018153745949,
          0.3280626153456402,
          0.2984180307105844,
          0.355730492262048,
          0.2371536615080329,
          0.2055338769405147,
          0.1541504077053867,
          0.1027669384702587,
          0.0513834692351279,
          0,
          1,
          1,
          1,
          1
         ],
         "yaxis": "y"
        }
       ],
       "layout": {
        "height": 600,
        "legend": {
         "title": {
          "text": "variable"
         },
         "tracegroupgap": 0
        },
        "template": {
         "data": {
          "bar": [
           {
            "error_x": {
             "color": "#2a3f5f"
            },
            "error_y": {
             "color": "#2a3f5f"
            },
            "marker": {
             "line": {
              "color": "#E5ECF6",
              "width": 0.5
             },
             "pattern": {
              "fillmode": "overlay",
              "size": 10,
              "solidity": 0.2
             }
            },
            "type": "bar"
           }
          ],
          "barpolar": [
           {
            "marker": {
             "line": {
              "color": "#E5ECF6",
              "width": 0.5
             },
             "pattern": {
              "fillmode": "overlay",
              "size": 10,
              "solidity": 0.2
             }
            },
            "type": "barpolar"
           }
          ],
          "carpet": [
           {
            "aaxis": {
             "endlinecolor": "#2a3f5f",
             "gridcolor": "white",
             "linecolor": "white",
             "minorgridcolor": "white",
             "startlinecolor": "#2a3f5f"
            },
            "baxis": {
             "endlinecolor": "#2a3f5f",
             "gridcolor": "white",
             "linecolor": "white",
             "minorgridcolor": "white",
             "startlinecolor": "#2a3f5f"
            },
            "type": "carpet"
           }
          ],
          "choropleth": [
           {
            "colorbar": {
             "outlinewidth": 0,
             "ticks": ""
            },
            "type": "choropleth"
           }
          ],
          "contour": [
           {
            "colorbar": {
             "outlinewidth": 0,
             "ticks": ""
            },
            "colorscale": [
             [
              0,
              "#0d0887"
             ],
             [
              0.1111111111111111,
              "#46039f"
             ],
             [
              0.2222222222222222,
              "#7201a8"
             ],
             [
              0.3333333333333333,
              "#9c179e"
             ],
             [
              0.4444444444444444,
              "#bd3786"
             ],
             [
              0.5555555555555556,
              "#d8576b"
             ],
             [
              0.6666666666666666,
              "#ed7953"
             ],
             [
              0.7777777777777778,
              "#fb9f3a"
             ],
             [
              0.8888888888888888,
              "#fdca26"
             ],
             [
              1,
              "#f0f921"
             ]
            ],
            "type": "contour"
           }
          ],
          "contourcarpet": [
           {
            "colorbar": {
             "outlinewidth": 0,
             "ticks": ""
            },
            "type": "contourcarpet"
           }
          ],
          "heatmap": [
           {
            "colorbar": {
             "outlinewidth": 0,
             "ticks": ""
            },
            "colorscale": [
             [
              0,
              "#0d0887"
             ],
             [
              0.1111111111111111,
              "#46039f"
             ],
             [
              0.2222222222222222,
              "#7201a8"
             ],
             [
              0.3333333333333333,
              "#9c179e"
             ],
             [
              0.4444444444444444,
              "#bd3786"
             ],
             [
              0.5555555555555556,
              "#d8576b"
             ],
             [
              0.6666666666666666,
              "#ed7953"
             ],
             [
              0.7777777777777778,
              "#fb9f3a"
             ],
             [
              0.8888888888888888,
              "#fdca26"
             ],
             [
              1,
              "#f0f921"
             ]
            ],
            "type": "heatmap"
           }
          ],
          "heatmapgl": [
           {
            "colorbar": {
             "outlinewidth": 0,
             "ticks": ""
            },
            "colorscale": [
             [
              0,
              "#0d0887"
             ],
             [
              0.1111111111111111,
              "#46039f"
             ],
             [
              0.2222222222222222,
              "#7201a8"
             ],
             [
              0.3333333333333333,
              "#9c179e"
             ],
             [
              0.4444444444444444,
              "#bd3786"
             ],
             [
              0.5555555555555556,
              "#d8576b"
             ],
             [
              0.6666666666666666,
              "#ed7953"
             ],
             [
              0.7777777777777778,
              "#fb9f3a"
             ],
             [
              0.8888888888888888,
              "#fdca26"
             ],
             [
              1,
              "#f0f921"
             ]
            ],
            "type": "heatmapgl"
           }
          ],
          "histogram": [
           {
            "marker": {
             "pattern": {
              "fillmode": "overlay",
              "size": 10,
              "solidity": 0.2
             }
            },
            "type": "histogram"
           }
          ],
          "histogram2d": [
           {
            "colorbar": {
             "outlinewidth": 0,
             "ticks": ""
            },
            "colorscale": [
             [
              0,
              "#0d0887"
             ],
             [
              0.1111111111111111,
              "#46039f"
             ],
             [
              0.2222222222222222,
              "#7201a8"
             ],
             [
              0.3333333333333333,
              "#9c179e"
             ],
             [
              0.4444444444444444,
              "#bd3786"
             ],
             [
              0.5555555555555556,
              "#d8576b"
             ],
             [
              0.6666666666666666,
              "#ed7953"
             ],
             [
              0.7777777777777778,
              "#fb9f3a"
             ],
             [
              0.8888888888888888,
              "#fdca26"
             ],
             [
              1,
              "#f0f921"
             ]
            ],
            "type": "histogram2d"
           }
          ],
          "histogram2dcontour": [
           {
            "colorbar": {
             "outlinewidth": 0,
             "ticks": ""
            },
            "colorscale": [
             [
              0,
              "#0d0887"
             ],
             [
              0.1111111111111111,
              "#46039f"
             ],
             [
              0.2222222222222222,
              "#7201a8"
             ],
             [
              0.3333333333333333,
              "#9c179e"
             ],
             [
              0.4444444444444444,
              "#bd3786"
             ],
             [
              0.5555555555555556,
              "#d8576b"
             ],
             [
              0.6666666666666666,
              "#ed7953"
             ],
             [
              0.7777777777777778,
              "#fb9f3a"
             ],
             [
              0.8888888888888888,
              "#fdca26"
             ],
             [
              1,
              "#f0f921"
             ]
            ],
            "type": "histogram2dcontour"
           }
          ],
          "mesh3d": [
           {
            "colorbar": {
             "outlinewidth": 0,
             "ticks": ""
            },
            "type": "mesh3d"
           }
          ],
          "parcoords": [
           {
            "line": {
             "colorbar": {
              "outlinewidth": 0,
              "ticks": ""
             }
            },
            "type": "parcoords"
           }
          ],
          "pie": [
           {
            "automargin": true,
            "type": "pie"
           }
          ],
          "scatter": [
           {
            "fillpattern": {
             "fillmode": "overlay",
             "size": 10,
             "solidity": 0.2
            },
            "type": "scatter"
           }
          ],
          "scatter3d": [
           {
            "line": {
             "colorbar": {
              "outlinewidth": 0,
              "ticks": ""
             }
            },
            "marker": {
             "colorbar": {
              "outlinewidth": 0,
              "ticks": ""
             }
            },
            "type": "scatter3d"
           }
          ],
          "scattercarpet": [
           {
            "marker": {
             "colorbar": {
              "outlinewidth": 0,
              "ticks": ""
             }
            },
            "type": "scattercarpet"
           }
          ],
          "scattergeo": [
           {
            "marker": {
             "colorbar": {
              "outlinewidth": 0,
              "ticks": ""
             }
            },
            "type": "scattergeo"
           }
          ],
          "scattergl": [
           {
            "marker": {
             "colorbar": {
              "outlinewidth": 0,
              "ticks": ""
             }
            },
            "type": "scattergl"
           }
          ],
          "scattermapbox": [
           {
            "marker": {
             "colorbar": {
              "outlinewidth": 0,
              "ticks": ""
             }
            },
            "type": "scattermapbox"
           }
          ],
          "scatterpolar": [
           {
            "marker": {
             "colorbar": {
              "outlinewidth": 0,
              "ticks": ""
             }
            },
            "type": "scatterpolar"
           }
          ],
          "scatterpolargl": [
           {
            "marker": {
             "colorbar": {
              "outlinewidth": 0,
              "ticks": ""
             }
            },
            "type": "scatterpolargl"
           }
          ],
          "scatterternary": [
           {
            "marker": {
             "colorbar": {
              "outlinewidth": 0,
              "ticks": ""
             }
            },
            "type": "scatterternary"
           }
          ],
          "surface": [
           {
            "colorbar": {
             "outlinewidth": 0,
             "ticks": ""
            },
            "colorscale": [
             [
              0,
              "#0d0887"
             ],
             [
              0.1111111111111111,
              "#46039f"
             ],
             [
              0.2222222222222222,
              "#7201a8"
             ],
             [
              0.3333333333333333,
              "#9c179e"
             ],
             [
              0.4444444444444444,
              "#bd3786"
             ],
             [
              0.5555555555555556,
              "#d8576b"
             ],
             [
              0.6666666666666666,
              "#ed7953"
             ],
             [
              0.7777777777777778,
              "#fb9f3a"
             ],
             [
              0.8888888888888888,
              "#fdca26"
             ],
             [
              1,
              "#f0f921"
             ]
            ],
            "type": "surface"
           }
          ],
          "table": [
           {
            "cells": {
             "fill": {
              "color": "#EBF0F8"
             },
             "line": {
              "color": "white"
             }
            },
            "header": {
             "fill": {
              "color": "#C8D4E3"
             },
             "line": {
              "color": "white"
             }
            },
            "type": "table"
           }
          ]
         },
         "layout": {
          "annotationdefaults": {
           "arrowcolor": "#2a3f5f",
           "arrowhead": 0,
           "arrowwidth": 1
          },
          "autotypenumbers": "strict",
          "coloraxis": {
           "colorbar": {
            "outlinewidth": 0,
            "ticks": ""
           }
          },
          "colorscale": {
           "diverging": [
            [
             0,
             "#8e0152"
            ],
            [
             0.1,
             "#c51b7d"
            ],
            [
             0.2,
             "#de77ae"
            ],
            [
             0.3,
             "#f1b6da"
            ],
            [
             0.4,
             "#fde0ef"
            ],
            [
             0.5,
             "#f7f7f7"
            ],
            [
             0.6,
             "#e6f5d0"
            ],
            [
             0.7,
             "#b8e186"
            ],
            [
             0.8,
             "#7fbc41"
            ],
            [
             0.9,
             "#4d9221"
            ],
            [
             1,
             "#276419"
            ]
           ],
           "sequential": [
            [
             0,
             "#0d0887"
            ],
            [
             0.1111111111111111,
             "#46039f"
            ],
            [
             0.2222222222222222,
             "#7201a8"
            ],
            [
             0.3333333333333333,
             "#9c179e"
            ],
            [
             0.4444444444444444,
             "#bd3786"
            ],
            [
             0.5555555555555556,
             "#d8576b"
            ],
            [
             0.6666666666666666,
             "#ed7953"
            ],
            [
             0.7777777777777778,
             "#fb9f3a"
            ],
            [
             0.8888888888888888,
             "#fdca26"
            ],
            [
             1,
             "#f0f921"
            ]
           ],
           "sequentialminus": [
            [
             0,
             "#0d0887"
            ],
            [
             0.1111111111111111,
             "#46039f"
            ],
            [
             0.2222222222222222,
             "#7201a8"
            ],
            [
             0.3333333333333333,
             "#9c179e"
            ],
            [
             0.4444444444444444,
             "#bd3786"
            ],
            [
             0.5555555555555556,
             "#d8576b"
            ],
            [
             0.6666666666666666,
             "#ed7953"
            ],
            [
             0.7777777777777778,
             "#fb9f3a"
            ],
            [
             0.8888888888888888,
             "#fdca26"
            ],
            [
             1,
             "#f0f921"
            ]
           ]
          },
          "colorway": [
           "#636efa",
           "#EF553B",
           "#00cc96",
           "#ab63fa",
           "#FFA15A",
           "#19d3f3",
           "#FF6692",
           "#B6E880",
           "#FF97FF",
           "#FECB52"
          ],
          "font": {
           "color": "#2a3f5f"
          },
          "geo": {
           "bgcolor": "white",
           "lakecolor": "white",
           "landcolor": "#E5ECF6",
           "showlakes": true,
           "showland": true,
           "subunitcolor": "white"
          },
          "hoverlabel": {
           "align": "left"
          },
          "hovermode": "closest",
          "mapbox": {
           "style": "light"
          },
          "paper_bgcolor": "white",
          "plot_bgcolor": "#E5ECF6",
          "polar": {
           "angularaxis": {
            "gridcolor": "white",
            "linecolor": "white",
            "ticks": ""
           },
           "bgcolor": "#E5ECF6",
           "radialaxis": {
            "gridcolor": "white",
            "linecolor": "white",
            "ticks": ""
           }
          },
          "scene": {
           "xaxis": {
            "backgroundcolor": "#E5ECF6",
            "gridcolor": "white",
            "gridwidth": 2,
            "linecolor": "white",
            "showbackground": true,
            "ticks": "",
            "zerolinecolor": "white"
           },
           "yaxis": {
            "backgroundcolor": "#E5ECF6",
            "gridcolor": "white",
            "gridwidth": 2,
            "linecolor": "white",
            "showbackground": true,
            "ticks": "",
            "zerolinecolor": "white"
           },
           "zaxis": {
            "backgroundcolor": "#E5ECF6",
            "gridcolor": "white",
            "gridwidth": 2,
            "linecolor": "white",
            "showbackground": true,
            "ticks": "",
            "zerolinecolor": "white"
           }
          },
          "shapedefaults": {
           "line": {
            "color": "#2a3f5f"
           }
          },
          "ternary": {
           "aaxis": {
            "gridcolor": "white",
            "linecolor": "white",
            "ticks": ""
           },
           "baxis": {
            "gridcolor": "white",
            "linecolor": "white",
            "ticks": ""
           },
           "bgcolor": "#E5ECF6",
           "caxis": {
            "gridcolor": "white",
            "linecolor": "white",
            "ticks": ""
           }
          },
          "title": {
           "x": 0.05
          },
          "xaxis": {
           "automargin": true,
           "gridcolor": "white",
           "linecolor": "white",
           "ticks": "",
           "title": {
            "standoff": 15
           },
           "zerolinecolor": "white",
           "zerolinewidth": 2
          },
          "yaxis": {
           "automargin": true,
           "gridcolor": "white",
           "linecolor": "white",
           "ticks": "",
           "title": {
            "standoff": 15
           },
           "zerolinecolor": "white",
           "zerolinewidth": 2
          }
         }
        },
        "title": {
         "text": "VEN"
        },
        "width": 800,
        "xaxis": {
         "anchor": "y",
         "domain": [
          0,
          1
         ],
         "title": {
          "text": "Year"
         }
        },
        "yaxis": {
         "anchor": "x",
         "domain": [
          0,
          1
         ],
         "title": {
          "text": "value"
         }
        }
       }
      }
     },
     "metadata": {},
     "output_type": "display_data"
    },
    {
     "data": {
      "application/vnd.plotly.v1+json": {
       "config": {
        "plotlyServerURL": "https://plot.ly"
       },
       "data": [
        {
         "hovertemplate": "variable=Alcohol per capita<br>Year=%{x}<br>value=%{y}<extra></extra>",
         "legendgroup": "Alcohol per capita",
         "line": {
          "color": "#636efa",
          "dash": "solid"
         },
         "marker": {
          "symbol": "circle"
         },
         "mode": "lines",
         "name": "Alcohol per capita",
         "orientation": "v",
         "showlegend": true,
         "type": "scatter",
         "x": [
          1990,
          1991,
          1992,
          1993,
          1994,
          1995,
          1996,
          1997,
          1998,
          1999,
          2000,
          2001,
          2002,
          2003,
          2004,
          2005,
          2006,
          2007,
          2008,
          2009,
          2010,
          2011,
          2012,
          2013,
          2014,
          2015,
          2016,
          2017,
          2018,
          2019,
          2020,
          2021
         ],
         "xaxis": "x",
         "y": [
          0.7297297297297296,
          0.7297297297297296,
          0.7297297297297296,
          0.7297297297297296,
          0.7297297297297296,
          0.7297297297297296,
          0.7297297297297296,
          0.7297297297297296,
          0.7297297297297296,
          0.7297297297297296,
          0.7297297297297296,
          0.6837837837837839,
          0.6378378378378382,
          0.5918918918918914,
          0.5459459459459457,
          0.5,
          0.4000000000000002,
          0.3000000000000005,
          0.1999999999999995,
          0.0999999999999997,
          0,
          0.1999999999999995,
          0.4000000000000002,
          0.5999999999999998,
          0.8000000000000005,
          1,
          0.9819819819819816,
          0.9639639639639644,
          0.945945945945946,
          0.945945945945946,
          0.945945945945946,
          0.945945945945946
         ],
         "yaxis": "y"
        },
        {
         "hovertemplate": "variable=Education GExp<br>Year=%{x}<br>value=%{y}<extra></extra>",
         "legendgroup": "Education GExp",
         "line": {
          "color": "#EF553B",
          "dash": "solid"
         },
         "marker": {
          "symbol": "circle"
         },
         "mode": "lines",
         "name": "Education GExp",
         "orientation": "v",
         "showlegend": true,
         "type": "scatter",
         "x": [
          1990,
          1991,
          1992,
          1993,
          1994,
          1995,
          1996,
          1997,
          1998,
          1999,
          2000,
          2001,
          2002,
          2003,
          2004,
          2005,
          2006,
          2007,
          2008,
          2009,
          2010,
          2011,
          2012,
          2013,
          2014,
          2015,
          2016,
          2017,
          2018,
          2019,
          2020,
          2021
         ],
         "xaxis": "x",
         "y": [
          0,
          0,
          0,
          0,
          0,
          0,
          0,
          0,
          0,
          0.1786384713491346,
          0.2167809646353957,
          0.2891637467910652,
          0.7463491587862537,
          0.8090417730013287,
          0.7768083608953716,
          0.806916296619897,
          0.3421795386701551,
          0.5340936131209914,
          0.364250146990508,
          0.7856428993200073,
          0.9113106516809651,
          0.606402364941856,
          0.6724930722462994,
          1,
          0.6161585054937185,
          0.4798502774249035,
          0.647370097536216,
          0.7903586820082256,
          0.0955358952697305,
          0.438621172423947,
          0.438621172423947,
          0.438621172423947
         ],
         "yaxis": "y"
        },
        {
         "hovertemplate": "variable=Employment-agriculture<br>Year=%{x}<br>value=%{y}<extra></extra>",
         "legendgroup": "Employment-agriculture",
         "line": {
          "color": "#00cc96",
          "dash": "solid"
         },
         "marker": {
          "symbol": "circle"
         },
         "mode": "lines",
         "name": "Employment-agriculture",
         "orientation": "v",
         "showlegend": true,
         "type": "scatter",
         "x": [
          1990,
          1991,
          1992,
          1993,
          1994,
          1995,
          1996,
          1997,
          1998,
          1999,
          2000,
          2001,
          2002,
          2003,
          2004,
          2005,
          2006,
          2007,
          2008,
          2009,
          2010,
          2011,
          2012,
          2013,
          2014,
          2015,
          2016,
          2017,
          2018,
          2019,
          2020,
          2021
         ],
         "xaxis": "x",
         "y": [
          1,
          1,
          0.979949892657856,
          0.952381054816438,
          0.917293247459618,
          0.8859649248604992,
          0.8583960870190811,
          0.8182956333186513,
          0.8032581723201168,
          0.8245614412481577,
          0.8345864949192356,
          0.8057644954919219,
          0.7719298497209979,
          0.7243106655212946,
          0.6591479361673933,
          0.6127819135535983,
          0.5313283225991127,
          0.4511278932305353,
          0.408521355374442,
          0.3571429254331786,
          0.3270675254038273,
          0.2556389881204197,
          0.2055137197650525,
          0.1040100214684227,
          0.0576439988546277,
          0.0300751610132101,
          0.0300751610132101,
          0.095238129383253,
          0.117794320881073,
          0,
          0,
          0
         ],
         "yaxis": "y"
        },
        {
         "hovertemplate": "variable=Employment-industry<br>Year=%{x}<br>value=%{y}<extra></extra>",
         "legendgroup": "Employment-industry",
         "line": {
          "color": "#ab63fa",
          "dash": "solid"
         },
         "marker": {
          "symbol": "circle"
         },
         "mode": "lines",
         "name": "Employment-industry",
         "orientation": "v",
         "showlegend": true,
         "type": "scatter",
         "x": [
          1990,
          1991,
          1992,
          1993,
          1994,
          1995,
          1996,
          1997,
          1998,
          1999,
          2000,
          2001,
          2002,
          2003,
          2004,
          2005,
          2006,
          2007,
          2008,
          2009,
          2010,
          2011,
          2012,
          2013,
          2014,
          2015,
          2016,
          2017,
          2018,
          2019,
          2020,
          2021
         ],
         "xaxis": "x",
         "y": [
          0.7751473680290284,
          0.7751473680290284,
          0.7455620300051671,
          0.7455620300051671,
          0.7455620300051671,
          0.7218928566994871,
          0.6449703006725508,
          0.5976330826694147,
          0.4674548867046542,
          0.2011834586652936,
          0.0828398493533437,
          0,
          0.0177507513709918,
          0.0828398493533437,
          0.2011834586652936,
          0.2899406013450405,
          0.4674548867046542,
          0.6449703006725508,
          0.7278101500258924,
          0.8284018793585697,
          0.928993608691186,
          0.8579875935851317,
          0.7869815784790773,
          0.7159755633730229,
          0.8047338346611137,
          0.8284018793585697,
          0.57988120269014,
          0.5857984960165453,
          0.9230763153647809,
          1,
          1,
          1
         ],
         "yaxis": "y"
        },
        {
         "hovertemplate": "variable=Employment-services<br>Year=%{x}<br>value=%{y}<extra></extra>",
         "legendgroup": "Employment-services",
         "line": {
          "color": "#FFA15A",
          "dash": "solid"
         },
         "marker": {
          "symbol": "circle"
         },
         "mode": "lines",
         "name": "Employment-services",
         "orientation": "v",
         "showlegend": true,
         "type": "scatter",
         "x": [
          1990,
          1991,
          1992,
          1993,
          1994,
          1995,
          1996,
          1997,
          1998,
          1999,
          2000,
          2001,
          2002,
          2003,
          2004,
          2005,
          2006,
          2007,
          2008,
          2009,
          2010,
          2011,
          2012,
          2013,
          2014,
          2015,
          2016,
          2017,
          2018,
          2019,
          2020,
          2021
         ],
         "xaxis": "x",
         "y": [
          0,
          0,
          0.0260544725424598,
          0.0521089450849321,
          0.0868487150956374,
          0.1228284981501528,
          0.16625309234169,
          0.215880591476753,
          0.2580642260496428,
          0.292803996060348,
          0.3089326848033532,
          0.3548387249447482,
          0.3833746434370905,
          0.4168734538291483,
          0.4565756424521813,
          0.4838706013258629,
          0.5272951955174011,
          0.5707193164215135,
          0.5942928163015291,
          0.6253101807437291,
          0.6327540453059137,
          0.6215877751752239,
          0.6712157475977116,
          0.8982626092051544,
          0.9267990009849092,
          0.949131067958864,
          1,
          0.9342433388345072,
          0.8411907722204812,
          0.9416872033966924,
          0.9416872033966924,
          0.9416872033966924
         ],
         "yaxis": "y"
        },
        {
         "hovertemplate": "variable=Exports-Commercial services<br>Year=%{x}<br>value=%{y}<extra></extra>",
         "legendgroup": "Exports-Commercial services",
         "line": {
          "color": "#19d3f3",
          "dash": "solid"
         },
         "marker": {
          "symbol": "circle"
         },
         "mode": "lines",
         "name": "Exports-Commercial services",
         "orientation": "v",
         "showlegend": true,
         "type": "scatter",
         "x": [
          1990,
          1991,
          1992,
          1993,
          1994,
          1995,
          1996,
          1997,
          1998,
          1999,
          2000,
          2001,
          2002,
          2003,
          2004,
          2005,
          2006,
          2007,
          2008,
          2009,
          2010,
          2011,
          2012,
          2013,
          2014,
          2015,
          2016,
          2017,
          2018,
          2019,
          2020,
          2021
         ],
         "xaxis": "x",
         "y": [
          0.0051332650998335,
          0.0042498662850452,
          0.0475695356652253,
          0.1054873704597817,
          0,
          0.0128095575930407,
          0.067105414634017,
          0.06244680202466,
          0.0393332700082113,
          0.0384245493670193,
          0.0547763771472911,
          0.0699731152240934,
          0.0353866759604675,
          0.0396972498964514,
          0.0955602552813321,
          0.1525035653985279,
          0.2338998909161632,
          0.3305579618833119,
          0.4288836462264953,
          0.4177891416363165,
          0.4894304754546213,
          0.544574970458898,
          0.6571869977930531,
          0.7393633203991171,
          0.7661146123316117,
          0.7553704693939602,
          0.7805007527094726,
          0.8700126216847197,
          1,
          0.9920281686980308,
          0.4554563859039827,
          0.6573498587028421
         ],
         "yaxis": "y"
        },
        {
         "hovertemplate": "variable=Exports-G&S<br>Year=%{x}<br>value=%{y}<extra></extra>",
         "legendgroup": "Exports-G&S",
         "line": {
          "color": "#FF6692",
          "dash": "solid"
         },
         "marker": {
          "symbol": "circle"
         },
         "mode": "lines",
         "name": "Exports-G&S",
         "orientation": "v",
         "showlegend": true,
         "type": "scatter",
         "x": [
          1990,
          1991,
          1992,
          1993,
          1994,
          1995,
          1996,
          1997,
          1998,
          1999,
          2000,
          2001,
          2002,
          2003,
          2004,
          2005,
          2006,
          2007,
          2008,
          2009,
          2010,
          2011,
          2012,
          2013,
          2014,
          2015,
          2016,
          2017,
          2018,
          2019,
          2020,
          2021
         ],
         "xaxis": "x",
         "y": [
          0,
          0.0060111027252753,
          0.0102929805448722,
          0.0175298392514582,
          0.053160641459621,
          0.0727586911619504,
          0.0945371489885934,
          0.1120203136774794,
          0.0946356481096181,
          0.1117288556842274,
          0.1131260034475543,
          0.1002023521468242,
          0.0903554847961912,
          0.1096692819870587,
          0.1746627388158895,
          0.2582452471410143,
          0.3230944473686296,
          0.4091759643375821,
          0.5734048935773246,
          0.4797605388477139,
          0.6222567629679965,
          0.914250368391628,
          1,
          0.9890770850277508,
          0.895017024545962,
          0.6075025841581333,
          0.5366094691664365,
          0.6289869995039311,
          0.7261207450400181,
          0.6954140940206367,
          0.4555950769709765,
          0.4555950769709765
         ],
         "yaxis": "y"
        },
        {
         "hovertemplate": "variable=Fertility rate<br>Year=%{x}<br>value=%{y}<extra></extra>",
         "legendgroup": "Fertility rate",
         "line": {
          "color": "#B6E880",
          "dash": "solid"
         },
         "marker": {
          "symbol": "circle"
         },
         "mode": "lines",
         "name": "Fertility rate",
         "orientation": "v",
         "showlegend": true,
         "type": "scatter",
         "x": [
          1990,
          1991,
          1992,
          1993,
          1994,
          1995,
          1996,
          1997,
          1998,
          1999,
          2000,
          2001,
          2002,
          2003,
          2004,
          2005,
          2006,
          2007,
          2008,
          2009,
          2010,
          2011,
          2012,
          2013,
          2014,
          2015,
          2016,
          2017,
          2018,
          2019,
          2020,
          2021
         ],
         "xaxis": "x",
         "y": [
          1,
          0.9733028222730742,
          0.9450800915331808,
          0.9130434782608696,
          0.8749046529366897,
          0.8321891685736081,
          0.786422578184592,
          0.740655987795576,
          0.6956521739130435,
          0.6529366895499618,
          0.610983981693364,
          0.5682684973302823,
          0.5240274599542336,
          0.4759725400457666,
          0.4263920671243327,
          0.3752860411899313,
          0.3257055682684974,
          0.2791762013729978,
          0.2364607170099161,
          0.1998474446987033,
          0.1685736079328757,
          0.1426392067124333,
          0.1212814645308924,
          0.1022120518688025,
          0.0854309687261633,
          0.0701754385964913,
          0.0549199084668192,
          0.0411899313501144,
          0.0274599542334096,
          0.0137299771167048,
          0,
          0
         ],
         "yaxis": "y"
        },
        {
         "hovertemplate": "variable=Foreign investment<br>Year=%{x}<br>value=%{y}<extra></extra>",
         "legendgroup": "Foreign investment",
         "line": {
          "color": "#FF97FF",
          "dash": "solid"
         },
         "marker": {
          "symbol": "circle"
         },
         "mode": "lines",
         "name": "Foreign investment",
         "orientation": "v",
         "showlegend": true,
         "type": "scatter",
         "x": [
          1990,
          1991,
          1992,
          1993,
          1994,
          1995,
          1996,
          1997,
          1998,
          1999,
          2000,
          2001,
          2002,
          2003,
          2004,
          2005,
          2006,
          2007,
          2008,
          2009,
          2010,
          2011,
          2012,
          2013,
          2014,
          2015,
          2016,
          2017,
          2018,
          2019,
          2020,
          2021
         ],
         "xaxis": "x",
         "y": [
          0.9966214398032094,
          1,
          0.9838236641161444,
          0.9811681420937642,
          0.9431471881232912,
          0.9816237956737528,
          0.8454572084565757,
          0.7160300211359096,
          0.8948158224448739,
          0.9369135321532828,
          0.8896700671645179,
          0.8624108860734003,
          0.9445053486623312,
          0.976980679311795,
          0.836291879692069,
          0.6708660640237595,
          0.6680420913655833,
          0.5284234594394694,
          0.5368328258491205,
          0.7306690507832785,
          0.966166359948029,
          0.6191151126440503,
          0,
          0.4658891756590341,
          0.2219346647948019,
          0.541843823386211,
          0.4144714735392928,
          0.370383854742322,
          0.6227203203856084,
          0.3161992971115416,
          0.6470264023265232,
          0.6313798276385196
         ],
         "yaxis": "y"
        },
        {
         "hovertemplate": "variable=GDP<br>Year=%{x}<br>value=%{y}<extra></extra>",
         "legendgroup": "GDP",
         "line": {
          "color": "#FECB52",
          "dash": "solid"
         },
         "marker": {
          "symbol": "circle"
         },
         "mode": "lines",
         "name": "GDP",
         "orientation": "v",
         "showlegend": true,
         "type": "scatter",
         "x": [
          1990,
          1991,
          1992,
          1993,
          1994,
          1995,
          1996,
          1997,
          1998,
          1999,
          2000,
          2001,
          2002,
          2003,
          2004,
          2005,
          2006,
          2007,
          2008,
          2009,
          2010,
          2011,
          2012,
          2013,
          2014,
          2015,
          2016,
          2017,
          2018,
          2019,
          2020,
          2021
         ],
         "xaxis": "x",
         "y": [
          0,
          0.003983208461135,
          0.0316355949727038,
          0.0556514219069559,
          0.1012929785204264,
          0.1336132966503342,
          0.1475325881175062,
          0.1759507564888378,
          0.1513726660364429,
          0.1147031874504908,
          0.1556890228814682,
          0.1506786494247643,
          0.1499345076355491,
          0.1399976156540734,
          0.2071289974547471,
          0.292501586787061,
          0.340364967428232,
          0.4736792767167844,
          0.5813913202801705,
          0.5521064439643573,
          0.7141459319354176,
          0.8588806436871594,
          0.9665098938354852,
          1,
          0.996996437979352,
          0.734843574300372,
          0.7029631379672063,
          0.7898944923608415,
          0.8566499538722323,
          0.8244356953622146,
          0.6688968315576531,
          0.6688968315576531
         ],
         "yaxis": "y"
        },
        {
         "hovertemplate": "variable=Health services use<br>Year=%{x}<br>value=%{y}<extra></extra>",
         "legendgroup": "Health services use",
         "line": {
          "color": "#636efa",
          "dash": "solid"
         },
         "marker": {
          "symbol": "circle"
         },
         "mode": "lines",
         "name": "Health services use",
         "orientation": "v",
         "showlegend": true,
         "type": "scatter",
         "x": [
          1990,
          1991,
          1992,
          1993,
          1994,
          1995,
          1996,
          1997,
          1998,
          1999,
          2000,
          2001,
          2002,
          2003,
          2004,
          2005,
          2006,
          2007,
          2008,
          2009,
          2010,
          2011,
          2012,
          2013,
          2014,
          2015,
          2016,
          2017,
          2018,
          2019,
          2020,
          2021
         ],
         "xaxis": "x",
         "y": [
          0,
          0,
          0,
          0,
          0,
          0,
          0,
          0,
          0,
          0,
          0,
          0.0509708778034318,
          0.1018487480506471,
          0.1526323984769075,
          0.2033108874529221,
          0.2538842504621922,
          0.3043529069514952,
          0.3547074717992095,
          0.4049590206245704,
          0.4551082620384195,
          0.5051465931450048,
          0.5550758283693977,
          0.604906800771964,
          0.6546316515512978,
          0.7042530859272633,
          0.7537799917228426,
          0.8032143300635569,
          0.8525503081352139,
          0.9017905707827653,
          0.9509377024762468,
          1,
          1
         ],
         "yaxis": "y"
        },
        {
         "hovertemplate": "variable=International taxes<br>Year=%{x}<br>value=%{y}<extra></extra>",
         "legendgroup": "International taxes",
         "line": {
          "color": "#EF553B",
          "dash": "solid"
         },
         "marker": {
          "symbol": "circle"
         },
         "mode": "lines",
         "name": "International taxes",
         "orientation": "v",
         "showlegend": true,
         "type": "scatter",
         "x": [
          1990,
          1991,
          1992,
          1993,
          1994,
          1995,
          1996,
          1997,
          1998,
          1999,
          2000,
          2001,
          2002,
          2003,
          2004,
          2005,
          2006,
          2007,
          2008,
          2009,
          2010,
          2011,
          2012,
          2013,
          2014,
          2015,
          2016,
          2017,
          2018,
          2019,
          2020,
          2021
         ],
         "xaxis": "x",
         "y": [
          0,
          0,
          0,
          0,
          0,
          0,
          0,
          0,
          0,
          0.0123245705431369,
          0.0246491410862738,
          0.0434799923850905,
          0.0623108436839072,
          0.0811416949827239,
          0.2644451922578659,
          0.4477486895330078,
          0.6310521868081498,
          0.8143556840832918,
          0.9976591813584336,
          0.7641729550084793,
          1,
          0.9168798190070429,
          0.7036359198683779,
          0.6803491373368793,
          0.5859725115802057,
          0.7817875765537484,
          0.6428906231507621,
          0.6374774983536672,
          0.5956166794182453,
          0.6781827604223514,
          0.6781827604223514,
          0.6781827604223514
         ],
         "yaxis": "y"
        },
        {
         "hovertemplate": "variable=Literacy rate<br>Year=%{x}<br>value=%{y}<extra></extra>",
         "legendgroup": "Literacy rate",
         "line": {
          "color": "#00cc96",
          "dash": "solid"
         },
         "marker": {
          "symbol": "circle"
         },
         "mode": "lines",
         "name": "Literacy rate",
         "orientation": "v",
         "showlegend": true,
         "type": "scatter",
         "x": [
          1990,
          1991,
          1992,
          1993,
          1994,
          1995,
          1996,
          1997,
          1998,
          1999,
          2000,
          2001,
          2002,
          2003,
          2004,
          2005,
          2006,
          2007,
          2008,
          2009,
          2010,
          2011,
          2012,
          2013,
          2014,
          2015,
          2016,
          2017,
          2018,
          2019,
          2020,
          2021
         ],
         "xaxis": "x",
         "y": [
          0,
          0,
          0,
          0,
          0.0105011922556755,
          0.0210023845113479,
          0.0315035767670234,
          0.0751438047191908,
          0.1187840326713614,
          0.1624242606235288,
          0.2060644885756993,
          0.2497047165278667,
          0.2933449444800342,
          0.3369851724322046,
          0.3806254003843721,
          0.3904398222293339,
          0.2703979153320521,
          0.3473901612214361,
          0.5062259769378541,
          0.4770362881699889,
          0.5049464152252923,
          0.5504717862481222,
          0.5946213920919586,
          0.6387709979357982,
          0.6829206037796347,
          0.6957779468289527,
          0.7851670937433363,
          0.8331264680760259,
          0.8810858424087123,
          0.9153637491992312,
          1,
          1
         ],
         "yaxis": "y"
        },
        {
         "hovertemplate": "variable=Mortality-infants<br>Year=%{x}<br>value=%{y}<extra></extra>",
         "legendgroup": "Mortality-infants",
         "line": {
          "color": "#ab63fa",
          "dash": "solid"
         },
         "marker": {
          "symbol": "circle"
         },
         "mode": "lines",
         "name": "Mortality-infants",
         "orientation": "v",
         "showlegend": true,
         "type": "scatter",
         "x": [
          1990,
          1991,
          1992,
          1993,
          1994,
          1995,
          1996,
          1997,
          1998,
          1999,
          2000,
          2001,
          2002,
          2003,
          2004,
          2005,
          2006,
          2007,
          2008,
          2009,
          2010,
          2011,
          2012,
          2013,
          2014,
          2015,
          2016,
          2017,
          2018,
          2019,
          2020,
          2021
         ],
         "xaxis": "x",
         "y": [
          1,
          0.9693952180028128,
          0.9358087201125176,
          0.8983403656821378,
          0.8564275668073137,
          0.8111954992967652,
          0.7641068917018284,
          0.7171308016877637,
          0.6715049226441632,
          0.6282981715893108,
          0.5867791842475387,
          0.5466104078762306,
          0.5063291139240507,
          0.4671167369901547,
          0.4273417721518987,
          0.3863853727144866,
          0.3463853727144866,
          0.3075105485232067,
          0.2708860759493671,
          0.2377496483825597,
          0.2071448663853727,
          0.1795780590717299,
          0.1547679324894514,
          0.1318706047819972,
          0.110886075949367,
          0.0915893108298171,
          0.0735302390998593,
          0.0553023909985935,
          0.0369620253164557,
          0.0182278481012658,
          0,
          0
         ],
         "yaxis": "y"
        },
        {
         "hovertemplate": "variable=Net migration<br>Year=%{x}<br>value=%{y}<extra></extra>",
         "legendgroup": "Net migration",
         "line": {
          "color": "#FFA15A",
          "dash": "solid"
         },
         "marker": {
          "symbol": "circle"
         },
         "mode": "lines",
         "name": "Net migration",
         "orientation": "v",
         "showlegend": true,
         "type": "scatter",
         "x": [
          1990,
          1991,
          1992,
          1993,
          1994,
          1995,
          1996,
          1997,
          1998,
          1999,
          2000,
          2001,
          2002,
          2003,
          2004,
          2005,
          2006,
          2007,
          2008,
          2009,
          2010,
          2011,
          2012,
          2013,
          2014,
          2015,
          2016,
          2017,
          2018,
          2019,
          2020,
          2021
         ],
         "xaxis": "x",
         "y": [
          0,
          0,
          0,
          0.0612244897959183,
          0.1224489795918367,
          0.1836734693877551,
          0.2448979591836734,
          0.3061224489795918,
          0.3653378449825526,
          0.4245532409855134,
          0.4837686369884741,
          0.5429840329914349,
          0.6021994289943957,
          0.678333509569631,
          0.7544675901448662,
          0.8306016707201015,
          0.9067357512953368,
          0.982869831870572,
          0.9862958654964576,
          0.9897218991223432,
          0.9931479327482288,
          0.9965739663741144,
          1,
          1,
          1,
          1,
          1,
          1,
          1,
          1,
          1,
          1
         ],
         "yaxis": "y"
        },
        {
         "hovertemplate": "variable=Ninis<br>Year=%{x}<br>value=%{y}<extra></extra>",
         "legendgroup": "Ninis",
         "line": {
          "color": "#19d3f3",
          "dash": "solid"
         },
         "marker": {
          "symbol": "circle"
         },
         "mode": "lines",
         "name": "Ninis",
         "orientation": "v",
         "showlegend": true,
         "type": "scatter",
         "x": [
          1990,
          1991,
          1992,
          1993,
          1994,
          1995,
          1996,
          1997,
          1998,
          1999,
          2000,
          2001,
          2002,
          2003,
          2004,
          2005,
          2006,
          2007,
          2008,
          2009,
          2010,
          2011,
          2012,
          2013,
          2014,
          2015,
          2016,
          2017,
          2018,
          2019,
          2020,
          2021
         ],
         "xaxis": "x",
         "y": [
          1,
          1,
          1,
          1,
          1,
          1,
          1,
          1,
          1,
          1,
          1,
          1,
          1,
          0.7944444020589224,
          0.8666665818956223,
          0.7533331976996556,
          0.696111043294272,
          0.6388888888888888,
          0.5111111534966335,
          0.4466665056016777,
          0.2911109924316445,
          0.2722220950656443,
          0.1711110009087444,
          0.1277777353922557,
          0.0499998728434221,
          0,
          0.0044443342420778,
          0.0933333502875445,
          0.1833332909478113,
          0.3344444698757666,
          0.3344444698757666,
          0.3344444698757666
         ],
         "yaxis": "y"
        },
        {
         "hovertemplate": "variable=R&D GExp<br>Year=%{x}<br>value=%{y}<extra></extra>",
         "legendgroup": "R&D GExp",
         "line": {
          "color": "#FF6692",
          "dash": "solid"
         },
         "marker": {
          "symbol": "circle"
         },
         "mode": "lines",
         "name": "R&D GExp",
         "orientation": "v",
         "showlegend": true,
         "type": "scatter",
         "x": [
          1990,
          1991,
          1992,
          1993,
          1994,
          1995,
          1996,
          1997,
          1998,
          1999,
          2000,
          2001,
          2002,
          2003,
          2004,
          2005,
          2006,
          2007,
          2008,
          2009,
          2010,
          2011,
          2012,
          2013,
          2014,
          2015,
          2016,
          2017,
          2018,
          2019,
          2020,
          2021
         ],
         "xaxis": "x",
         "y": [
          0.9635618310179912,
          0.9635618310179912,
          0.9635618310179912,
          0.9635618310179912,
          0.9635618310179912,
          0.9635618310179912,
          0.9635618310179912,
          0.8179799590070599,
          0.5453199726713732,
          0.2726599863356865,
          0,
          0.0104759735823275,
          0.0538032338874972,
          0.1482008654065132,
          0.1340241402869506,
          0.1188225916647688,
          0.1110794807560919,
          0.3106353905716237,
          0.4057162377590527,
          0.3762810293782737,
          0.3701890230015941,
          0.4324755181052152,
          0.5909246185379183,
          0.8034616260532909,
          1,
          0.909587793213391,
          0.7797198815759508,
          0.6426212707811432,
          0.595707128216807,
          0.595707128216807,
          0.595707128216807,
          0.595707128216807
         ],
         "yaxis": "y"
        },
        {
         "hovertemplate": "variable=Renewable electricity<br>Year=%{x}<br>value=%{y}<extra></extra>",
         "legendgroup": "Renewable electricity",
         "line": {
          "color": "#B6E880",
          "dash": "solid"
         },
         "marker": {
          "symbol": "circle"
         },
         "mode": "lines",
         "name": "Renewable electricity",
         "orientation": "v",
         "showlegend": true,
         "type": "scatter",
         "x": [
          1990,
          1991,
          1992,
          1993,
          1994,
          1995,
          1996,
          1997,
          1998,
          1999,
          2000,
          2001,
          2002,
          2003,
          2004,
          2005,
          2006,
          2007,
          2008,
          2009,
          2010,
          2011,
          2012,
          2013,
          2014,
          2015,
          2016,
          2017,
          2018,
          2019,
          2020,
          2021
         ],
         "xaxis": "x",
         "y": [
          0,
          0,
          0,
          0.1891891891891892,
          0.4015444015444015,
          0.528957528957529,
          0.6023166023166023,
          0.5521235521235521,
          0.7413127413127413,
          0.4517374517374517,
          0.6023166023166023,
          0.6023166023166023,
          0.583011583011583,
          0.5984555984555985,
          0.6911196911196911,
          0.8185328185328186,
          0.9768339768339768,
          0.9305019305019304,
          0.9691119691119692,
          1,
          1,
          1,
          1,
          1,
          1,
          1,
          1,
          1,
          1,
          1,
          1,
          1
         ],
         "yaxis": "y"
        },
        {
         "hovertemplate": "variable=Suicide<br>Year=%{x}<br>value=%{y}<extra></extra>",
         "legendgroup": "Suicide",
         "line": {
          "color": "#FF97FF",
          "dash": "solid"
         },
         "marker": {
          "symbol": "circle"
         },
         "mode": "lines",
         "name": "Suicide",
         "orientation": "v",
         "showlegend": true,
         "type": "scatter",
         "x": [
          1990,
          1991,
          1992,
          1993,
          1994,
          1995,
          1996,
          1997,
          1998,
          1999,
          2000,
          2001,
          2002,
          2003,
          2004,
          2005,
          2006,
          2007,
          2008,
          2009,
          2010,
          2011,
          2012,
          2013,
          2014,
          2015,
          2016,
          2017,
          2018,
          2019,
          2020,
          2021
         ],
         "xaxis": "x",
         "y": [
          1,
          1,
          1,
          1,
          1,
          1,
          1,
          1,
          1,
          1,
          1,
          0.9230769230769234,
          0.7692307692307694,
          0.692307692307692,
          0.6153846153846153,
          0.3076923076923073,
          0.3076923076923073,
          0.3076923076923073,
          0.3846153846153847,
          0.3076923076923073,
          0.0769230769230766,
          0,
          0.0769230769230766,
          0,
          0.0769230769230766,
          0.3076923076923073,
          0.3846153846153847,
          0.7692307692307694,
          0.2307692307692306,
          0.1538461538461536,
          0.1538461538461536,
          0.1538461538461536
         ],
         "yaxis": "y"
        },
        {
         "hovertemplate": "variable=Workers high education<br>Year=%{x}<br>value=%{y}<extra></extra>",
         "legendgroup": "Workers high education",
         "line": {
          "color": "#FECB52",
          "dash": "solid"
         },
         "marker": {
          "symbol": "circle"
         },
         "mode": "lines",
         "name": "Workers high education",
         "orientation": "v",
         "showlegend": true,
         "type": "scatter",
         "x": [
          1990,
          1991,
          1992,
          1993,
          1994,
          1995,
          1996,
          1997,
          1998,
          1999,
          2000,
          2001,
          2002,
          2003,
          2004,
          2005,
          2006,
          2007,
          2008,
          2009,
          2010,
          2011,
          2012,
          2013,
          2014,
          2015,
          2016,
          2017,
          2018,
          2019,
          2020,
          2021
         ],
         "xaxis": "x",
         "y": [
          0.9821883742013924,
          0.9821883742013924,
          0.9821883742013924,
          0.9821883742013924,
          0.9821883742013924,
          0.9821883742013924,
          0.9821883742013924,
          0.9821883742013924,
          0.9821883742013924,
          0.9821883742013924,
          0.9821883742013924,
          0.9821883742013924,
          0.9821883742013924,
          1,
          0.8333326862261387,
          0.8091603201627591,
          0.4045801600813795,
          0,
          0.0534348773958321,
          0.2569970084233963,
          0.3842234616482236,
          0.4949108253917101,
          0.6399489044151433,
          0.5712465031944453,
          0.5674298649034258,
          0.5699739668771675,
          0.5038166382910122,
          0.4414759479958762,
          0.3091603201627662,
          0.2659028213226984,
          0.2659028213226984,
          0.2659028213226984
         ],
         "yaxis": "y"
        }
       ],
       "layout": {
        "height": 600,
        "legend": {
         "title": {
          "text": "variable"
         },
         "tracegroupgap": 0
        },
        "template": {
         "data": {
          "bar": [
           {
            "error_x": {
             "color": "#2a3f5f"
            },
            "error_y": {
             "color": "#2a3f5f"
            },
            "marker": {
             "line": {
              "color": "#E5ECF6",
              "width": 0.5
             },
             "pattern": {
              "fillmode": "overlay",
              "size": 10,
              "solidity": 0.2
             }
            },
            "type": "bar"
           }
          ],
          "barpolar": [
           {
            "marker": {
             "line": {
              "color": "#E5ECF6",
              "width": 0.5
             },
             "pattern": {
              "fillmode": "overlay",
              "size": 10,
              "solidity": 0.2
             }
            },
            "type": "barpolar"
           }
          ],
          "carpet": [
           {
            "aaxis": {
             "endlinecolor": "#2a3f5f",
             "gridcolor": "white",
             "linecolor": "white",
             "minorgridcolor": "white",
             "startlinecolor": "#2a3f5f"
            },
            "baxis": {
             "endlinecolor": "#2a3f5f",
             "gridcolor": "white",
             "linecolor": "white",
             "minorgridcolor": "white",
             "startlinecolor": "#2a3f5f"
            },
            "type": "carpet"
           }
          ],
          "choropleth": [
           {
            "colorbar": {
             "outlinewidth": 0,
             "ticks": ""
            },
            "type": "choropleth"
           }
          ],
          "contour": [
           {
            "colorbar": {
             "outlinewidth": 0,
             "ticks": ""
            },
            "colorscale": [
             [
              0,
              "#0d0887"
             ],
             [
              0.1111111111111111,
              "#46039f"
             ],
             [
              0.2222222222222222,
              "#7201a8"
             ],
             [
              0.3333333333333333,
              "#9c179e"
             ],
             [
              0.4444444444444444,
              "#bd3786"
             ],
             [
              0.5555555555555556,
              "#d8576b"
             ],
             [
              0.6666666666666666,
              "#ed7953"
             ],
             [
              0.7777777777777778,
              "#fb9f3a"
             ],
             [
              0.8888888888888888,
              "#fdca26"
             ],
             [
              1,
              "#f0f921"
             ]
            ],
            "type": "contour"
           }
          ],
          "contourcarpet": [
           {
            "colorbar": {
             "outlinewidth": 0,
             "ticks": ""
            },
            "type": "contourcarpet"
           }
          ],
          "heatmap": [
           {
            "colorbar": {
             "outlinewidth": 0,
             "ticks": ""
            },
            "colorscale": [
             [
              0,
              "#0d0887"
             ],
             [
              0.1111111111111111,
              "#46039f"
             ],
             [
              0.2222222222222222,
              "#7201a8"
             ],
             [
              0.3333333333333333,
              "#9c179e"
             ],
             [
              0.4444444444444444,
              "#bd3786"
             ],
             [
              0.5555555555555556,
              "#d8576b"
             ],
             [
              0.6666666666666666,
              "#ed7953"
             ],
             [
              0.7777777777777778,
              "#fb9f3a"
             ],
             [
              0.8888888888888888,
              "#fdca26"
             ],
             [
              1,
              "#f0f921"
             ]
            ],
            "type": "heatmap"
           }
          ],
          "heatmapgl": [
           {
            "colorbar": {
             "outlinewidth": 0,
             "ticks": ""
            },
            "colorscale": [
             [
              0,
              "#0d0887"
             ],
             [
              0.1111111111111111,
              "#46039f"
             ],
             [
              0.2222222222222222,
              "#7201a8"
             ],
             [
              0.3333333333333333,
              "#9c179e"
             ],
             [
              0.4444444444444444,
              "#bd3786"
             ],
             [
              0.5555555555555556,
              "#d8576b"
             ],
             [
              0.6666666666666666,
              "#ed7953"
             ],
             [
              0.7777777777777778,
              "#fb9f3a"
             ],
             [
              0.8888888888888888,
              "#fdca26"
             ],
             [
              1,
              "#f0f921"
             ]
            ],
            "type": "heatmapgl"
           }
          ],
          "histogram": [
           {
            "marker": {
             "pattern": {
              "fillmode": "overlay",
              "size": 10,
              "solidity": 0.2
             }
            },
            "type": "histogram"
           }
          ],
          "histogram2d": [
           {
            "colorbar": {
             "outlinewidth": 0,
             "ticks": ""
            },
            "colorscale": [
             [
              0,
              "#0d0887"
             ],
             [
              0.1111111111111111,
              "#46039f"
             ],
             [
              0.2222222222222222,
              "#7201a8"
             ],
             [
              0.3333333333333333,
              "#9c179e"
             ],
             [
              0.4444444444444444,
              "#bd3786"
             ],
             [
              0.5555555555555556,
              "#d8576b"
             ],
             [
              0.6666666666666666,
              "#ed7953"
             ],
             [
              0.7777777777777778,
              "#fb9f3a"
             ],
             [
              0.8888888888888888,
              "#fdca26"
             ],
             [
              1,
              "#f0f921"
             ]
            ],
            "type": "histogram2d"
           }
          ],
          "histogram2dcontour": [
           {
            "colorbar": {
             "outlinewidth": 0,
             "ticks": ""
            },
            "colorscale": [
             [
              0,
              "#0d0887"
             ],
             [
              0.1111111111111111,
              "#46039f"
             ],
             [
              0.2222222222222222,
              "#7201a8"
             ],
             [
              0.3333333333333333,
              "#9c179e"
             ],
             [
              0.4444444444444444,
              "#bd3786"
             ],
             [
              0.5555555555555556,
              "#d8576b"
             ],
             [
              0.6666666666666666,
              "#ed7953"
             ],
             [
              0.7777777777777778,
              "#fb9f3a"
             ],
             [
              0.8888888888888888,
              "#fdca26"
             ],
             [
              1,
              "#f0f921"
             ]
            ],
            "type": "histogram2dcontour"
           }
          ],
          "mesh3d": [
           {
            "colorbar": {
             "outlinewidth": 0,
             "ticks": ""
            },
            "type": "mesh3d"
           }
          ],
          "parcoords": [
           {
            "line": {
             "colorbar": {
              "outlinewidth": 0,
              "ticks": ""
             }
            },
            "type": "parcoords"
           }
          ],
          "pie": [
           {
            "automargin": true,
            "type": "pie"
           }
          ],
          "scatter": [
           {
            "fillpattern": {
             "fillmode": "overlay",
             "size": 10,
             "solidity": 0.2
            },
            "type": "scatter"
           }
          ],
          "scatter3d": [
           {
            "line": {
             "colorbar": {
              "outlinewidth": 0,
              "ticks": ""
             }
            },
            "marker": {
             "colorbar": {
              "outlinewidth": 0,
              "ticks": ""
             }
            },
            "type": "scatter3d"
           }
          ],
          "scattercarpet": [
           {
            "marker": {
             "colorbar": {
              "outlinewidth": 0,
              "ticks": ""
             }
            },
            "type": "scattercarpet"
           }
          ],
          "scattergeo": [
           {
            "marker": {
             "colorbar": {
              "outlinewidth": 0,
              "ticks": ""
             }
            },
            "type": "scattergeo"
           }
          ],
          "scattergl": [
           {
            "marker": {
             "colorbar": {
              "outlinewidth": 0,
              "ticks": ""
             }
            },
            "type": "scattergl"
           }
          ],
          "scattermapbox": [
           {
            "marker": {
             "colorbar": {
              "outlinewidth": 0,
              "ticks": ""
             }
            },
            "type": "scattermapbox"
           }
          ],
          "scatterpolar": [
           {
            "marker": {
             "colorbar": {
              "outlinewidth": 0,
              "ticks": ""
             }
            },
            "type": "scatterpolar"
           }
          ],
          "scatterpolargl": [
           {
            "marker": {
             "colorbar": {
              "outlinewidth": 0,
              "ticks": ""
             }
            },
            "type": "scatterpolargl"
           }
          ],
          "scatterternary": [
           {
            "marker": {
             "colorbar": {
              "outlinewidth": 0,
              "ticks": ""
             }
            },
            "type": "scatterternary"
           }
          ],
          "surface": [
           {
            "colorbar": {
             "outlinewidth": 0,
             "ticks": ""
            },
            "colorscale": [
             [
              0,
              "#0d0887"
             ],
             [
              0.1111111111111111,
              "#46039f"
             ],
             [
              0.2222222222222222,
              "#7201a8"
             ],
             [
              0.3333333333333333,
              "#9c179e"
             ],
             [
              0.4444444444444444,
              "#bd3786"
             ],
             [
              0.5555555555555556,
              "#d8576b"
             ],
             [
              0.6666666666666666,
              "#ed7953"
             ],
             [
              0.7777777777777778,
              "#fb9f3a"
             ],
             [
              0.8888888888888888,
              "#fdca26"
             ],
             [
              1,
              "#f0f921"
             ]
            ],
            "type": "surface"
           }
          ],
          "table": [
           {
            "cells": {
             "fill": {
              "color": "#EBF0F8"
             },
             "line": {
              "color": "white"
             }
            },
            "header": {
             "fill": {
              "color": "#C8D4E3"
             },
             "line": {
              "color": "white"
             }
            },
            "type": "table"
           }
          ]
         },
         "layout": {
          "annotationdefaults": {
           "arrowcolor": "#2a3f5f",
           "arrowhead": 0,
           "arrowwidth": 1
          },
          "autotypenumbers": "strict",
          "coloraxis": {
           "colorbar": {
            "outlinewidth": 0,
            "ticks": ""
           }
          },
          "colorscale": {
           "diverging": [
            [
             0,
             "#8e0152"
            ],
            [
             0.1,
             "#c51b7d"
            ],
            [
             0.2,
             "#de77ae"
            ],
            [
             0.3,
             "#f1b6da"
            ],
            [
             0.4,
             "#fde0ef"
            ],
            [
             0.5,
             "#f7f7f7"
            ],
            [
             0.6,
             "#e6f5d0"
            ],
            [
             0.7,
             "#b8e186"
            ],
            [
             0.8,
             "#7fbc41"
            ],
            [
             0.9,
             "#4d9221"
            ],
            [
             1,
             "#276419"
            ]
           ],
           "sequential": [
            [
             0,
             "#0d0887"
            ],
            [
             0.1111111111111111,
             "#46039f"
            ],
            [
             0.2222222222222222,
             "#7201a8"
            ],
            [
             0.3333333333333333,
             "#9c179e"
            ],
            [
             0.4444444444444444,
             "#bd3786"
            ],
            [
             0.5555555555555556,
             "#d8576b"
            ],
            [
             0.6666666666666666,
             "#ed7953"
            ],
            [
             0.7777777777777778,
             "#fb9f3a"
            ],
            [
             0.8888888888888888,
             "#fdca26"
            ],
            [
             1,
             "#f0f921"
            ]
           ],
           "sequentialminus": [
            [
             0,
             "#0d0887"
            ],
            [
             0.1111111111111111,
             "#46039f"
            ],
            [
             0.2222222222222222,
             "#7201a8"
            ],
            [
             0.3333333333333333,
             "#9c179e"
            ],
            [
             0.4444444444444444,
             "#bd3786"
            ],
            [
             0.5555555555555556,
             "#d8576b"
            ],
            [
             0.6666666666666666,
             "#ed7953"
            ],
            [
             0.7777777777777778,
             "#fb9f3a"
            ],
            [
             0.8888888888888888,
             "#fdca26"
            ],
            [
             1,
             "#f0f921"
            ]
           ]
          },
          "colorway": [
           "#636efa",
           "#EF553B",
           "#00cc96",
           "#ab63fa",
           "#FFA15A",
           "#19d3f3",
           "#FF6692",
           "#B6E880",
           "#FF97FF",
           "#FECB52"
          ],
          "font": {
           "color": "#2a3f5f"
          },
          "geo": {
           "bgcolor": "white",
           "lakecolor": "white",
           "landcolor": "#E5ECF6",
           "showlakes": true,
           "showland": true,
           "subunitcolor": "white"
          },
          "hoverlabel": {
           "align": "left"
          },
          "hovermode": "closest",
          "mapbox": {
           "style": "light"
          },
          "paper_bgcolor": "white",
          "plot_bgcolor": "#E5ECF6",
          "polar": {
           "angularaxis": {
            "gridcolor": "white",
            "linecolor": "white",
            "ticks": ""
           },
           "bgcolor": "#E5ECF6",
           "radialaxis": {
            "gridcolor": "white",
            "linecolor": "white",
            "ticks": ""
           }
          },
          "scene": {
           "xaxis": {
            "backgroundcolor": "#E5ECF6",
            "gridcolor": "white",
            "gridwidth": 2,
            "linecolor": "white",
            "showbackground": true,
            "ticks": "",
            "zerolinecolor": "white"
           },
           "yaxis": {
            "backgroundcolor": "#E5ECF6",
            "gridcolor": "white",
            "gridwidth": 2,
            "linecolor": "white",
            "showbackground": true,
            "ticks": "",
            "zerolinecolor": "white"
           },
           "zaxis": {
            "backgroundcolor": "#E5ECF6",
            "gridcolor": "white",
            "gridwidth": 2,
            "linecolor": "white",
            "showbackground": true,
            "ticks": "",
            "zerolinecolor": "white"
           }
          },
          "shapedefaults": {
           "line": {
            "color": "#2a3f5f"
           }
          },
          "ternary": {
           "aaxis": {
            "gridcolor": "white",
            "linecolor": "white",
            "ticks": ""
           },
           "baxis": {
            "gridcolor": "white",
            "linecolor": "white",
            "ticks": ""
           },
           "bgcolor": "#E5ECF6",
           "caxis": {
            "gridcolor": "white",
            "linecolor": "white",
            "ticks": ""
           }
          },
          "title": {
           "x": 0.05
          },
          "xaxis": {
           "automargin": true,
           "gridcolor": "white",
           "linecolor": "white",
           "ticks": "",
           "title": {
            "standoff": 15
           },
           "zerolinecolor": "white",
           "zerolinewidth": 2
          },
          "yaxis": {
           "automargin": true,
           "gridcolor": "white",
           "linecolor": "white",
           "ticks": "",
           "title": {
            "standoff": 15
           },
           "zerolinecolor": "white",
           "zerolinewidth": 2
          }
         }
        },
        "title": {
         "text": "COL"
        },
        "width": 800,
        "xaxis": {
         "anchor": "y",
         "domain": [
          0,
          1
         ],
         "title": {
          "text": "Year"
         }
        },
        "yaxis": {
         "anchor": "x",
         "domain": [
          0,
          1
         ],
         "title": {
          "text": "value"
         }
        }
       }
      }
     },
     "metadata": {},
     "output_type": "display_data"
    },
    {
     "data": {
      "application/vnd.plotly.v1+json": {
       "config": {
        "plotlyServerURL": "https://plot.ly"
       },
       "data": [
        {
         "hovertemplate": "variable=Alcohol per capita<br>Year=%{x}<br>value=%{y}<extra></extra>",
         "legendgroup": "Alcohol per capita",
         "line": {
          "color": "#636efa",
          "dash": "solid"
         },
         "marker": {
          "symbol": "circle"
         },
         "mode": "lines",
         "name": "Alcohol per capita",
         "orientation": "v",
         "showlegend": true,
         "type": "scatter",
         "x": [
          1990,
          1991,
          1992,
          1993,
          1994,
          1995,
          1996,
          1997,
          1998,
          1999,
          2000,
          2001,
          2002,
          2003,
          2004,
          2005,
          2006,
          2007,
          2008,
          2009,
          2010,
          2011,
          2012,
          2013,
          2014,
          2015,
          2016,
          2017,
          2018,
          2019,
          2020
         ],
         "xaxis": "x",
         "y": [
          0,
          0,
          0,
          0,
          0,
          0,
          0,
          0,
          0,
          0,
          0,
          0,
          0,
          0,
          0,
          0,
          0.2000000000000009,
          0.4000000000000018,
          0.5999999999999981,
          0.799999999999999,
          1,
          0.9736842105263164,
          0.9473684210526327,
          0.9210526315789446,
          0.8947368421052609,
          0.8684210526315773,
          0.701754385964913,
          0.5350877192982441,
          0.3684210526315797,
          0.3684210526315797,
          0.3684210526315797
         ],
         "yaxis": "y"
        },
        {
         "hovertemplate": "variable=Education GExp<br>Year=%{x}<br>value=%{y}<extra></extra>",
         "legendgroup": "Education GExp",
         "line": {
          "color": "#EF553B",
          "dash": "solid"
         },
         "marker": {
          "symbol": "circle"
         },
         "mode": "lines",
         "name": "Education GExp",
         "orientation": "v",
         "showlegend": true,
         "type": "scatter",
         "x": [
          1990,
          1991,
          1992,
          1993,
          1994,
          1995,
          1996,
          1997,
          1998,
          1999,
          2000,
          2001,
          2002,
          2003,
          2004,
          2005,
          2006,
          2007,
          2008,
          2009,
          2010,
          2011,
          2012,
          2013,
          2014,
          2015,
          2016,
          2017,
          2018,
          2019,
          2020
         ],
         "xaxis": "x",
         "y": [
          0,
          0,
          0,
          0,
          0.0780578464820495,
          0.1915592533904282,
          0.2851094098288483,
          0.125346297943804,
          0.2101008657403134,
          0.2713994385954614,
          0.3700789598741479,
          0.4351297736947929,
          0.5001805875154374,
          0.523921567390445,
          0.4455353027664671,
          0.3409694898696981,
          0.3450645862726057,
          0.4105970476822607,
          0.4938873825438057,
          0.4473876441742935,
          0.5501709970262831,
          0.5382358425635971,
          0.658832634256844,
          0.7794294259500905,
          0.8144171803331057,
          0.7728598498933866,
          0.9714973816933375,
          0.9913519386800832,
          1,
          1,
          1
         ],
         "yaxis": "y"
        },
        {
         "hovertemplate": "variable=Employment-agriculture<br>Year=%{x}<br>value=%{y}<extra></extra>",
         "legendgroup": "Employment-agriculture",
         "line": {
          "color": "#00cc96",
          "dash": "solid"
         },
         "marker": {
          "symbol": "circle"
         },
         "mode": "lines",
         "name": "Employment-agriculture",
         "orientation": "v",
         "showlegend": true,
         "type": "scatter",
         "x": [
          1990,
          1991,
          1992,
          1993,
          1994,
          1995,
          1996,
          1997,
          1998,
          1999,
          2000,
          2001,
          2002,
          2003,
          2004,
          2005,
          2006,
          2007,
          2008,
          2009,
          2010,
          2011,
          2012,
          2013,
          2014,
          2015,
          2016,
          2017,
          2018,
          2019,
          2020
         ],
         "xaxis": "x",
         "y": [
          1,
          1,
          0.8941642304424161,
          0.7487635250064467,
          0.7161225849685089,
          0.6656775558470155,
          0.6360039482680279,
          0.5380811281541946,
          0.5400593183502391,
          0.5390702704171201,
          0.5400593183502391,
          0.4569733491907981,
          0.4470821152212065,
          0.4569733491907981,
          0.4332344065297299,
          0.4134520329203435,
          0.3827893774082366,
          0.3293769214979869,
          0.2710188486029367,
          0.2176063926926871,
          0.1612265099936712,
          0.1266073797596891,
          0.0989119623767486,
          0.0494559811883743,
          0.0415430317446177,
          0.0395648415485783,
          0.0494559811883743,
          0.026706275120025,
          0.0237389426610662,
          0,
          0
         ],
         "yaxis": "y"
        },
        {
         "hovertemplate": "variable=Employment-industry<br>Year=%{x}<br>value=%{y}<extra></extra>",
         "legendgroup": "Employment-industry",
         "line": {
          "color": "#ab63fa",
          "dash": "solid"
         },
         "marker": {
          "symbol": "circle"
         },
         "mode": "lines",
         "name": "Employment-industry",
         "orientation": "v",
         "showlegend": true,
         "type": "scatter",
         "x": [
          1990,
          1991,
          1992,
          1993,
          1994,
          1995,
          1996,
          1997,
          1998,
          1999,
          2000,
          2001,
          2002,
          2003,
          2004,
          2005,
          2006,
          2007,
          2008,
          2009,
          2010,
          2011,
          2012,
          2013,
          2014,
          2015,
          2016,
          2017,
          2018,
          2019,
          2020
         ],
         "xaxis": "x",
         "y": [
          0.803571131224046,
          0.803571131224046,
          0.8373012989647423,
          0.9880949677794406,
          0.7539679656313976,
          0.7559521376681707,
          0.861110984963747,
          1,
          0.6507936688147082,
          0.2321428301112699,
          0.2261903140009902,
          0.3313491612965666,
          0.3194445075181416,
          0.2281744860377632,
          0.2678571698887202,
          0.1388890150362726,
          0.2063493505176264,
          0.2242061419642376,
          0.2559525161102747,
          0.1666666666666701,
          0.140872808630912,
          0.2242061419642376,
          0.3134919914078619,
          0.3234124731495343,
          0.2460316559264884,
          0.2043651784808731,
          0.1507936688146983,
          0.0972221591485433,
          0.0158729978519718,
          0,
          0
         ],
         "yaxis": "y"
        },
        {
         "hovertemplate": "variable=Employment-services<br>Year=%{x}<br>value=%{y}<extra></extra>",
         "legendgroup": "Employment-services",
         "line": {
          "color": "#FFA15A",
          "dash": "solid"
         },
         "marker": {
          "symbol": "circle"
         },
         "mode": "lines",
         "name": "Employment-services",
         "orientation": "v",
         "showlegend": true,
         "type": "scatter",
         "x": [
          1990,
          1991,
          1992,
          1993,
          1994,
          1995,
          1996,
          1997,
          1998,
          1999,
          2000,
          2001,
          2002,
          2003,
          2004,
          2005,
          2006,
          2007,
          2008,
          2009,
          2010,
          2011,
          2012,
          2013,
          2014,
          2015,
          2016,
          2017,
          2018,
          2019,
          2020
         ],
         "xaxis": "x",
         "y": [
          0,
          0,
          0.0635143138658989,
          0.1136203823850835,
          0.2201834393121116,
          0.25617512612462,
          0.2392378142347159,
          0.2597036542489272,
          0.3824981559153387,
          0.5321102251129306,
          0.5335214209951026,
          0.5553987261009278,
          0.5666901776243835,
          0.5920960108545223,
          0.5949189410377433,
          0.6549047267793351,
          0.652787663746642,
          0.6845446860748744,
          0.7148905125209268,
          0.7854621518448882,
          0.8348626224229946,
          0.8292167620565457,
          0.8172197125920042,
          0.849682602070757,
          0.8821454915495166,
          0.8983766670794504,
          0.910374254962876,
          0.9456600746248566,
          0.9774170969530884,
          1,
          1
         ],
         "yaxis": "y"
        },
        {
         "hovertemplate": "variable=Exports-Commercial services<br>Year=%{x}<br>value=%{y}<extra></extra>",
         "legendgroup": "Exports-Commercial services",
         "line": {
          "color": "#19d3f3",
          "dash": "solid"
         },
         "marker": {
          "symbol": "circle"
         },
         "mode": "lines",
         "name": "Exports-Commercial services",
         "orientation": "v",
         "showlegend": true,
         "type": "scatter",
         "x": [
          1990,
          1991,
          1992,
          1993,
          1994,
          1995,
          1996,
          1997,
          1998,
          1999,
          2000,
          2001,
          2002,
          2003,
          2004,
          2005,
          2006,
          2007,
          2008,
          2009,
          2010,
          2011,
          2012,
          2013,
          2014,
          2015,
          2016,
          2017,
          2018,
          2019,
          2020
         ],
         "xaxis": "x",
         "y": [
          0,
          0.0254971855565976,
          0.0463593636112856,
          0.0610910708217642,
          0.090861008784932,
          0.135910680897682,
          0.1587938860129279,
          0.1870757702788909,
          0.1926351910218197,
          0.1852810326899264,
          0.2052004579107957,
          0.2122794660328372,
          0.2351132946753162,
          0.2971065432146024,
          0.3830488875199039,
          0.4715241532449986,
          0.5361521611102426,
          0.6475004926168754,
          0.7931934970733407,
          0.5898748112192557,
          0.8132486925724444,
          1,
          0.9374692996047186,
          0.9175121843323628,
          0.7869967804252895,
          0.6835360409195923,
          0.67988498852789,
          0.7047042421869453,
          0.7196472990708339,
          0.6645051965096609,
          0.3964556116542231
         ],
         "yaxis": "y"
        },
        {
         "hovertemplate": "variable=Exports-G&S<br>Year=%{x}<br>value=%{y}<extra></extra>",
         "legendgroup": "Exports-G&S",
         "line": {
          "color": "#FF6692",
          "dash": "solid"
         },
         "marker": {
          "symbol": "circle"
         },
         "mode": "lines",
         "name": "Exports-G&S",
         "orientation": "v",
         "showlegend": true,
         "type": "scatter",
         "x": [
          1990,
          1991,
          1992,
          1993,
          1994,
          1995,
          1996,
          1997,
          1998,
          1999,
          2000,
          2001,
          2002,
          2003,
          2004,
          2005,
          2006,
          2007,
          2008,
          2009,
          2010,
          2011,
          2012,
          2013,
          2014,
          2015,
          2016,
          2017,
          2018,
          2019,
          2020
         ],
         "xaxis": "x",
         "y": [
          0,
          0.0128108932547825,
          0.0302014677047605,
          0.0236508638224022,
          0.0579459038776576,
          0.121485471900314,
          0.118750709825701,
          0.1387898008569263,
          0.1190515105265577,
          0.1285799782439955,
          0.1539977215499259,
          0.1448167920489196,
          0.1433953401298089,
          0.1918871435626447,
          0.3399946239936977,
          0.4570944092528136,
          0.6749430650068347,
          0.7986532356651351,
          0.753340196540277,
          0.6283702082126845,
          0.8488900599924903,
          1,
          0.9513795398231916,
          0.9335227405201744,
          0.8936269268899159,
          0.7206846476813981,
          0.7069672409797848,
          0.8050139250380262,
          0.8766084109719551,
          0.7992452977120924,
          0.8169633735275004
         ],
         "yaxis": "y"
        },
        {
         "hovertemplate": "variable=Fertility rate<br>Year=%{x}<br>value=%{y}<extra></extra>",
         "legendgroup": "Fertility rate",
         "line": {
          "color": "#B6E880",
          "dash": "solid"
         },
         "marker": {
          "symbol": "circle"
         },
         "mode": "lines",
         "name": "Fertility rate",
         "orientation": "v",
         "showlegend": true,
         "type": "scatter",
         "x": [
          1990,
          1991,
          1992,
          1993,
          1994,
          1995,
          1996,
          1997,
          1998,
          1999,
          2000,
          2001,
          2002,
          2003,
          2004,
          2005,
          2006,
          2007,
          2008,
          2009,
          2010,
          2011,
          2012,
          2013,
          2014,
          2015,
          2016,
          2017,
          2018,
          2019,
          2020
         ],
         "xaxis": "x",
         "y": [
          1,
          0.9783057851239666,
          0.9452479338842972,
          0.9018595041322311,
          0.8481404958677684,
          0.7861570247933881,
          0.7179752066115702,
          0.6477272727272726,
          0.5795454545454546,
          0.5154958677685948,
          0.4586776859504133,
          0.4111570247933883,
          0.3729338842975205,
          0.3429752066115702,
          0.3223140495867768,
          0.3078512396694214,
          0.2995867768595041,
          0.296487603305785,
          0.2933884297520661,
          0.2902892561983469,
          0.2820247933884296,
          0.2675619834710744,
          0.2458677685950412,
          0.2169421487603305,
          0.1818181818181817,
          0.143595041322314,
          0.1053719008264463,
          0.0692148760330577,
          0.0392561983471074,
          0.0165289256198347,
          0
         ],
         "yaxis": "y"
        },
        {
         "hovertemplate": "variable=Foreign investment<br>Year=%{x}<br>value=%{y}<extra></extra>",
         "legendgroup": "Foreign investment",
         "line": {
          "color": "#FF97FF",
          "dash": "solid"
         },
         "marker": {
          "symbol": "circle"
         },
         "mode": "lines",
         "name": "Foreign investment",
         "orientation": "v",
         "showlegend": true,
         "type": "scatter",
         "x": [
          1990,
          1991,
          1992,
          1993,
          1994,
          1995,
          1996,
          1997,
          1998,
          1999,
          2000,
          2001,
          2002,
          2003,
          2004,
          2005,
          2006,
          2007,
          2008,
          2009,
          2010,
          2011,
          2012,
          2013,
          2014,
          2015,
          2016,
          2017,
          2018,
          2019,
          2020
         ],
         "xaxis": "x",
         "y": [
          0.7518810785827357,
          0.7490651656083751,
          0.7593171508308185,
          0.7553349214986563,
          0.6863031693377283,
          0.6519193898613247,
          0.556799281609333,
          0.5485807206040622,
          0.5913910044745732,
          0.3942928501704389,
          0.7377260885992586,
          0.6271090048730149,
          0.6518053580815549,
          0.6446781262173344,
          0.4941988022352871,
          0.4507420648038507,
          0.4476997774794725,
          0.2383472112922012,
          0.1933343681925672,
          0.3672836142053877,
          0.3713608486797612,
          0.4516482690960726,
          0.0972995424515541,
          0,
          0.1008024944654919,
          0.4751633383444335,
          0.546811155355804,
          0.626190931488157,
          0.3783579285035102,
          0.5847652134138891,
          1
         ],
         "yaxis": "y"
        },
        {
         "hovertemplate": "variable=GDP<br>Year=%{x}<br>value=%{y}<extra></extra>",
         "legendgroup": "GDP",
         "line": {
          "color": "#FECB52",
          "dash": "solid"
         },
         "marker": {
          "symbol": "circle"
         },
         "mode": "lines",
         "name": "GDP",
         "orientation": "v",
         "showlegend": true,
         "type": "scatter",
         "x": [
          1990,
          1991,
          1992,
          1993,
          1994,
          1995,
          1996,
          1997,
          1998,
          1999,
          2000,
          2001,
          2002,
          2003,
          2004,
          2005,
          2006,
          2007,
          2008,
          2009,
          2010,
          2011,
          2012,
          2013,
          2014,
          2015,
          2016,
          2017,
          2018,
          2019,
          2020
         ],
         "xaxis": "x",
         "y": [
          0,
          0.0178512632967851,
          0.0485916448143637,
          0.061196474413291,
          0.0903529296690858,
          0.1525127060015439,
          0.1698784589163547,
          0.1960179358527882,
          0.1832562374869812,
          0.1590420318277881,
          0.1692029633698879,
          0.1431836587583959,
          0.1384830505685453,
          0.1608179875121886,
          0.2499321393751904,
          0.3397552367362022,
          0.4600890371702541,
          0.5312457321140157,
          0.5540566606612505,
          0.5266458688826984,
          0.7011464956744751,
          0.8286316375026984,
          0.8848611294377509,
          0.9274464206037372,
          0.8599774519724926,
          0.7971222154822829,
          0.8217804790088695,
          0.9223429328191382,
          1,
          0.9312321082647989,
          0.8312333040175074
         ],
         "yaxis": "y"
        },
        {
         "hovertemplate": "variable=Health services use<br>Year=%{x}<br>value=%{y}<extra></extra>",
         "legendgroup": "Health services use",
         "line": {
          "color": "#636efa",
          "dash": "solid"
         },
         "marker": {
          "symbol": "circle"
         },
         "mode": "lines",
         "name": "Health services use",
         "orientation": "v",
         "showlegend": true,
         "type": "scatter",
         "x": [
          1990,
          1991,
          1992,
          1993,
          1994,
          1995,
          1996,
          1997,
          1998,
          1999,
          2000,
          2001,
          2002,
          2003,
          2004,
          2005,
          2006,
          2007,
          2008,
          2009,
          2010,
          2011,
          2012,
          2013,
          2014,
          2015,
          2016,
          2017,
          2018,
          2019,
          2020
         ],
         "xaxis": "x",
         "y": [
          0,
          0,
          0,
          0,
          0,
          0,
          0,
          0,
          0,
          0,
          0,
          0.0709909445841261,
          0.1392431087056606,
          0.2010391404236482,
          0.2626064917603754,
          0.3238642501798328,
          0.3848927402976962,
          0.4456446177661666,
          0.5061635266449722,
          0.5664104437219257,
          0.6263912262822857,
          0.6861371759266591,
          0.7456211529115423,
          0.8048586146423942,
          0.86384813644384,
          0.9182439852600678,
          0.957004051527921,
          1,
          0.9999993282752324,
          0.9999991671128586,
          0.9999994997519952
         ],
         "yaxis": "y"
        },
        {
         "hovertemplate": "variable=International taxes<br>Year=%{x}<br>value=%{y}<extra></extra>",
         "legendgroup": "International taxes",
         "line": {
          "color": "#EF553B",
          "dash": "solid"
         },
         "marker": {
          "symbol": "circle"
         },
         "mode": "lines",
         "name": "International taxes",
         "orientation": "v",
         "showlegend": true,
         "type": "scatter",
         "x": [
          1990,
          1991,
          1992,
          1993,
          1994,
          1995,
          1996,
          1997,
          1998,
          1999,
          2000,
          2001,
          2002,
          2003,
          2004,
          2005,
          2006,
          2007,
          2008,
          2009,
          2010,
          2011,
          2012,
          2013,
          2014,
          2015,
          2016,
          2017,
          2018,
          2019,
          2020
         ],
         "xaxis": "x",
         "y": [
          0.1311554543591009,
          0.2496743320776842,
          0.3787732844298772,
          0.5513166682463306,
          0.5869362528461503,
          0.8211967386919942,
          1,
          0.9979060268954314,
          0.9915138984709588,
          0.821064487759074,
          0.8498951911356608,
          0.7654088868218558,
          0.6030929084845587,
          0.3403323465944283,
          0.2137241201455642,
          0.2711430668550508,
          0.3328601688844413,
          0.3029273744001869,
          0.3273871844437636,
          0,
          0.2338634134406623,
          0.2864308537018138,
          0.3307265204999967,
          0.3081292444283784,
          0.3838611982375359,
          0.3537671656200474,
          0.3197507797294587,
          0.3196483006857211,
          0.4034266405339587,
          0.3493534326611312,
          0.3493534326611312
         ],
         "yaxis": "y"
        },
        {
         "hovertemplate": "variable=Literacy rate<br>Year=%{x}<br>value=%{y}<extra></extra>",
         "legendgroup": "Literacy rate",
         "line": {
          "color": "#00cc96",
          "dash": "solid"
         },
         "marker": {
          "symbol": "circle"
         },
         "mode": "lines",
         "name": "Literacy rate",
         "orientation": "v",
         "showlegend": true,
         "type": "scatter",
         "x": [
          1990,
          1991,
          1992,
          1993,
          1994,
          1995,
          1996,
          1997,
          1998,
          1999,
          2000,
          2001,
          2002,
          2003,
          2004,
          2005,
          2006,
          2007,
          2008,
          2009,
          2010,
          2011,
          2012,
          2013,
          2014,
          2015,
          2016,
          2017,
          2018,
          2019,
          2020
         ],
         "xaxis": "x",
         "y": [
          0,
          0,
          0,
          0,
          0,
          0,
          0,
          0,
          0,
          0,
          0,
          0,
          0,
          0.1666666666666643,
          0.3333333333333357,
          0.5,
          0.6666666666666643,
          0.8333333333333357,
          1,
          0.9709746375157712,
          0.7313680070594862,
          0.4917613766031942,
          0.3830902825322801,
          0.2744191884613661,
          0.4257458882955123,
          0.5770725881296515,
          0.4594534970407763,
          0.3418344059519083,
          0.3418344059519083,
          0.3418344059519083,
          0.3418344059519083
         ],
         "yaxis": "y"
        },
        {
         "hovertemplate": "variable=Mortality-infants<br>Year=%{x}<br>value=%{y}<extra></extra>",
         "legendgroup": "Mortality-infants",
         "line": {
          "color": "#ab63fa",
          "dash": "solid"
         },
         "marker": {
          "symbol": "circle"
         },
         "mode": "lines",
         "name": "Mortality-infants",
         "orientation": "v",
         "showlegend": true,
         "type": "scatter",
         "x": [
          1990,
          1991,
          1992,
          1993,
          1994,
          1995,
          1996,
          1997,
          1998,
          1999,
          2000,
          2001,
          2002,
          2003,
          2004,
          2005,
          2006,
          2007,
          2008,
          2009,
          2010,
          2011,
          2012,
          2013,
          2014,
          2015,
          2016,
          2017,
          2018,
          2019,
          2020
         ],
         "xaxis": "x",
         "y": [
          1,
          1,
          1,
          0.8776402039329935,
          0.7687545520757465,
          0.6780772032046614,
          0.6067006554989075,
          0.5549890750182083,
          0.5094683175528041,
          0.4530225782957028,
          0.3831026948288419,
          0.3182811361981063,
          0.2723962126729788,
          0.2425345957756737,
          0.2221412964311726,
          0.2068463219227967,
          0.1981063364894391,
          0.1970138383102694,
          0.1995630007283321,
          0.1991988346686088,
          0.1930080116533139,
          0.1824471959213401,
          0.1707938820101966,
          0.157319737800437,
          0.1394756008739985,
          0.1165331391114348,
          0.0914056809905316,
          0.0666423889293517,
          0.0433357611070648,
          0.021849963583394,
          0
         ],
         "yaxis": "y"
        },
        {
         "hovertemplate": "variable=Net migration<br>Year=%{x}<br>value=%{y}<extra></extra>",
         "legendgroup": "Net migration",
         "line": {
          "color": "#FFA15A",
          "dash": "solid"
         },
         "marker": {
          "symbol": "circle"
         },
         "mode": "lines",
         "name": "Net migration",
         "orientation": "v",
         "showlegend": true,
         "type": "scatter",
         "x": [
          1990,
          1991,
          1992,
          1993,
          1994,
          1995,
          1996,
          1997,
          1998,
          1999,
          2000,
          2001,
          2002,
          2003,
          2004,
          2005,
          2006,
          2007,
          2008,
          2009,
          2010,
          2011,
          2012,
          2013,
          2014,
          2015,
          2016,
          2017,
          2018,
          2019,
          2020
         ],
         "xaxis": "x",
         "y": [
          0,
          0,
          0,
          0.0196477641768673,
          0.0392955283537347,
          0.058943292530602,
          0.0785910567074694,
          0.0982388208843367,
          0.1269547839120659,
          0.1556707469397951,
          0.1843867099675243,
          0.2131026729952535,
          0.2418186360229827,
          0.3228066450162378,
          0.4037946540094929,
          0.4847826630027479,
          0.565770671996003,
          0.646758680989258,
          0.7174069447914064,
          0.7880552085935548,
          0.8587034723957032,
          0.9293517361978516,
          1,
          1,
          1,
          1,
          1,
          1,
          1,
          1,
          1
         ],
         "yaxis": "y"
        },
        {
         "hovertemplate": "variable=Ninis<br>Year=%{x}<br>value=%{y}<extra></extra>",
         "legendgroup": "Ninis",
         "line": {
          "color": "#19d3f3",
          "dash": "solid"
         },
         "marker": {
          "symbol": "circle"
         },
         "mode": "lines",
         "name": "Ninis",
         "orientation": "v",
         "showlegend": true,
         "type": "scatter",
         "x": [
          1990,
          1991,
          1992,
          1993,
          1994,
          1995,
          1996,
          1997,
          1998,
          1999,
          2000,
          2001,
          2002,
          2003,
          2004,
          2005,
          2006,
          2007,
          2008,
          2009,
          2010,
          2011,
          2012,
          2013,
          2014,
          2015,
          2016,
          2017,
          2018,
          2019,
          2020
         ],
         "xaxis": "x",
         "y": [
          1,
          0.8350977473482166,
          0.6701954946964334,
          0.6897394504241979,
          0.7092834061519625,
          0.5570032818667646,
          0.4047231575815668,
          0.5036645402369455,
          0.602605922892324,
          0.6339577337436013,
          0.6653095445948788,
          0.5705755639486163,
          0.4758415833023542,
          0.3811076026560918,
          0.3634636954896097,
          0.3458197883231279,
          0.3281758811566458,
          0.4180239117013563,
          0.507871942246067,
          0.5977199727907775,
          0.2711727157810525,
          0.2703583648772043,
          0.1644950771998636,
          0.2003257403615426,
          0.2263843479985618,
          0.269544013973348,
          0.1009772599150112,
          0.0545603456463749,
          0,
          0.0529316438386705,
          0.4079805611969673
         ],
         "yaxis": "y"
        },
        {
         "hovertemplate": "variable=R&D GExp<br>Year=%{x}<br>value=%{y}<extra></extra>",
         "legendgroup": "R&D GExp",
         "line": {
          "color": "#FF6692",
          "dash": "solid"
         },
         "marker": {
          "symbol": "circle"
         },
         "mode": "lines",
         "name": "R&D GExp",
         "orientation": "v",
         "showlegend": true,
         "type": "scatter",
         "x": [
          1990,
          1991,
          1992,
          1993,
          1994,
          1995,
          1996,
          1997,
          1998,
          1999,
          2000,
          2001,
          2002,
          2003,
          2004,
          2005,
          2006,
          2007,
          2008,
          2009,
          2010,
          2011,
          2012,
          2013,
          2014,
          2015,
          2016,
          2017,
          2018,
          2019,
          2020
         ],
         "xaxis": "x",
         "y": [
          0.7681917946986331,
          0.7681917946986331,
          0.7681917946986331,
          0.7681917946986331,
          0.7681917946986331,
          0.7681917946986331,
          0.7681917946986331,
          0.7681917946986331,
          0.7681917946986331,
          0.7681917946986331,
          0.7681917946986331,
          0.7681917946986331,
          0.7681917946986331,
          0.7681917946986331,
          0.7681917946986331,
          0.7681917946986331,
          0.7681917946986331,
          0.7681917946986331,
          0.7681917946986331,
          0.3807192301198719,
          0,
          0.3709268951544823,
          0.5525915920985992,
          1,
          0.7692047948674656,
          0.8654398109066356,
          0.6731386121897689,
          0.4492655748775961,
          0.4492655748775961,
          0.4492655748775961,
          0.4492655748775961
         ],
         "yaxis": "y"
        },
        {
         "hovertemplate": "variable=Renewable electricity<br>Year=%{x}<br>value=%{y}<extra></extra>",
         "legendgroup": "Renewable electricity",
         "line": {
          "color": "#B6E880",
          "dash": "solid"
         },
         "marker": {
          "symbol": "circle"
         },
         "mode": "lines",
         "name": "Renewable electricity",
         "orientation": "v",
         "showlegend": true,
         "type": "scatter",
         "x": [
          1990,
          1991,
          1992,
          1993,
          1994,
          1995,
          1996,
          1997,
          1998,
          1999,
          2000,
          2001,
          2002,
          2003,
          2004,
          2005,
          2006,
          2007,
          2008,
          2009,
          2010,
          2011,
          2012,
          2013,
          2014,
          2015,
          2016,
          2017,
          2018,
          2019,
          2020
         ],
         "xaxis": "x",
         "y": [
          0.0064478311840562,
          0.0269636576787807,
          0.235052754982415,
          0.2371043376318874,
          0.2476553341148886,
          0.2749120750293083,
          0.2335873388042204,
          0.235052754982415,
          0.0644783118405627,
          0.0202227432590855,
          0,
          0.3323563892145369,
          0.2960140679953106,
          0.2558616647127784,
          0.3215123094958968,
          0.2508792497069168,
          0.1456623681125439,
          0.5169988276670574,
          0.6389214536928488,
          1,
          0.4800703399765533,
          0.4800703399765533,
          0.4800703399765533,
          0.4800703399765533,
          0.4800703399765533,
          0.4800703399765533,
          0.4800703399765533,
          0.4800703399765533,
          0.4800703399765533,
          0.4800703399765533,
          0.4800703399765533
         ],
         "yaxis": "y"
        },
        {
         "hovertemplate": "variable=Suicide<br>Year=%{x}<br>value=%{y}<extra></extra>",
         "legendgroup": "Suicide",
         "line": {
          "color": "#FF97FF",
          "dash": "solid"
         },
         "marker": {
          "symbol": "circle"
         },
         "mode": "lines",
         "name": "Suicide",
         "orientation": "v",
         "showlegend": true,
         "type": "scatter",
         "x": [
          1990,
          1991,
          1992,
          1993,
          1994,
          1995,
          1996,
          1997,
          1998,
          1999,
          2000,
          2001,
          2002,
          2003,
          2004,
          2005,
          2006,
          2007,
          2008,
          2009,
          2010,
          2011,
          2012,
          2013,
          2014,
          2015,
          2016,
          2017,
          2018,
          2019,
          2020
         ],
         "xaxis": "x",
         "y": [
          0.5172413793103451,
          0.5172413793103451,
          0.5172413793103451,
          0.5172413793103451,
          0.5172413793103451,
          0.5172413793103451,
          0.5172413793103451,
          0.5172413793103451,
          0.5172413793103451,
          0.5172413793103451,
          0.5172413793103451,
          0.5172413793103451,
          0.275862068965517,
          0.3103448275862066,
          0.4482758620689653,
          0.3103448275862066,
          0.4137931034482758,
          0.7586206896551725,
          0.8275862068965516,
          0.8965517241379314,
          0.9655172413793104,
          1,
          0.5862068965517242,
          0.3448275862068967,
          0.3793103448275862,
          0.4137931034482758,
          0.4137931034482758,
          0.1724137931034483,
          0,
          0.0689655172413791,
          0.0689655172413791
         ],
         "yaxis": "y"
        },
        {
         "hovertemplate": "variable=Workers high education<br>Year=%{x}<br>value=%{y}<extra></extra>",
         "legendgroup": "Workers high education",
         "line": {
          "color": "#FECB52",
          "dash": "solid"
         },
         "marker": {
          "symbol": "circle"
         },
         "mode": "lines",
         "name": "Workers high education",
         "orientation": "v",
         "showlegend": true,
         "type": "scatter",
         "x": [
          1990,
          1991,
          1992,
          1993,
          1994,
          1995,
          1996,
          1997,
          1998,
          1999,
          2000,
          2001,
          2002,
          2003,
          2004,
          2005,
          2006,
          2007,
          2008,
          2009,
          2010,
          2011,
          2012,
          2013,
          2014,
          2015,
          2016,
          2017,
          2018,
          2019,
          2020
         ],
         "xaxis": "x",
         "y": [
          0.9274613959234024,
          0.9274613959234024,
          0.9274613959234024,
          0.9274613959234024,
          0.9274613959234024,
          0.9274613959234024,
          0.9274613959234024,
          0.9274613959234024,
          0.9274613959234024,
          0.9419691167387222,
          0.956476837554042,
          0.9709845583693602,
          0.98549227918468,
          1,
          0.9240070825612532,
          0.8480141651225082,
          0.7720212476837613,
          0.6601902408894422,
          0.5483592340951213,
          0.4365282273008021,
          0.4676160592958571,
          0.5453371216800558,
          0.6282386658431137,
          0.5207253860407649,
          0.3471505867819672,
          0.479274613959235,
          0.3536266831377442,
          0.2888597899938283,
          0.3018129709697412,
          0.3808286596664582,
          0
         ],
         "yaxis": "y"
        }
       ],
       "layout": {
        "height": 600,
        "legend": {
         "title": {
          "text": "variable"
         },
         "tracegroupgap": 0
        },
        "template": {
         "data": {
          "bar": [
           {
            "error_x": {
             "color": "#2a3f5f"
            },
            "error_y": {
             "color": "#2a3f5f"
            },
            "marker": {
             "line": {
              "color": "#E5ECF6",
              "width": 0.5
             },
             "pattern": {
              "fillmode": "overlay",
              "size": 10,
              "solidity": 0.2
             }
            },
            "type": "bar"
           }
          ],
          "barpolar": [
           {
            "marker": {
             "line": {
              "color": "#E5ECF6",
              "width": 0.5
             },
             "pattern": {
              "fillmode": "overlay",
              "size": 10,
              "solidity": 0.2
             }
            },
            "type": "barpolar"
           }
          ],
          "carpet": [
           {
            "aaxis": {
             "endlinecolor": "#2a3f5f",
             "gridcolor": "white",
             "linecolor": "white",
             "minorgridcolor": "white",
             "startlinecolor": "#2a3f5f"
            },
            "baxis": {
             "endlinecolor": "#2a3f5f",
             "gridcolor": "white",
             "linecolor": "white",
             "minorgridcolor": "white",
             "startlinecolor": "#2a3f5f"
            },
            "type": "carpet"
           }
          ],
          "choropleth": [
           {
            "colorbar": {
             "outlinewidth": 0,
             "ticks": ""
            },
            "type": "choropleth"
           }
          ],
          "contour": [
           {
            "colorbar": {
             "outlinewidth": 0,
             "ticks": ""
            },
            "colorscale": [
             [
              0,
              "#0d0887"
             ],
             [
              0.1111111111111111,
              "#46039f"
             ],
             [
              0.2222222222222222,
              "#7201a8"
             ],
             [
              0.3333333333333333,
              "#9c179e"
             ],
             [
              0.4444444444444444,
              "#bd3786"
             ],
             [
              0.5555555555555556,
              "#d8576b"
             ],
             [
              0.6666666666666666,
              "#ed7953"
             ],
             [
              0.7777777777777778,
              "#fb9f3a"
             ],
             [
              0.8888888888888888,
              "#fdca26"
             ],
             [
              1,
              "#f0f921"
             ]
            ],
            "type": "contour"
           }
          ],
          "contourcarpet": [
           {
            "colorbar": {
             "outlinewidth": 0,
             "ticks": ""
            },
            "type": "contourcarpet"
           }
          ],
          "heatmap": [
           {
            "colorbar": {
             "outlinewidth": 0,
             "ticks": ""
            },
            "colorscale": [
             [
              0,
              "#0d0887"
             ],
             [
              0.1111111111111111,
              "#46039f"
             ],
             [
              0.2222222222222222,
              "#7201a8"
             ],
             [
              0.3333333333333333,
              "#9c179e"
             ],
             [
              0.4444444444444444,
              "#bd3786"
             ],
             [
              0.5555555555555556,
              "#d8576b"
             ],
             [
              0.6666666666666666,
              "#ed7953"
             ],
             [
              0.7777777777777778,
              "#fb9f3a"
             ],
             [
              0.8888888888888888,
              "#fdca26"
             ],
             [
              1,
              "#f0f921"
             ]
            ],
            "type": "heatmap"
           }
          ],
          "heatmapgl": [
           {
            "colorbar": {
             "outlinewidth": 0,
             "ticks": ""
            },
            "colorscale": [
             [
              0,
              "#0d0887"
             ],
             [
              0.1111111111111111,
              "#46039f"
             ],
             [
              0.2222222222222222,
              "#7201a8"
             ],
             [
              0.3333333333333333,
              "#9c179e"
             ],
             [
              0.4444444444444444,
              "#bd3786"
             ],
             [
              0.5555555555555556,
              "#d8576b"
             ],
             [
              0.6666666666666666,
              "#ed7953"
             ],
             [
              0.7777777777777778,
              "#fb9f3a"
             ],
             [
              0.8888888888888888,
              "#fdca26"
             ],
             [
              1,
              "#f0f921"
             ]
            ],
            "type": "heatmapgl"
           }
          ],
          "histogram": [
           {
            "marker": {
             "pattern": {
              "fillmode": "overlay",
              "size": 10,
              "solidity": 0.2
             }
            },
            "type": "histogram"
           }
          ],
          "histogram2d": [
           {
            "colorbar": {
             "outlinewidth": 0,
             "ticks": ""
            },
            "colorscale": [
             [
              0,
              "#0d0887"
             ],
             [
              0.1111111111111111,
              "#46039f"
             ],
             [
              0.2222222222222222,
              "#7201a8"
             ],
             [
              0.3333333333333333,
              "#9c179e"
             ],
             [
              0.4444444444444444,
              "#bd3786"
             ],
             [
              0.5555555555555556,
              "#d8576b"
             ],
             [
              0.6666666666666666,
              "#ed7953"
             ],
             [
              0.7777777777777778,
              "#fb9f3a"
             ],
             [
              0.8888888888888888,
              "#fdca26"
             ],
             [
              1,
              "#f0f921"
             ]
            ],
            "type": "histogram2d"
           }
          ],
          "histogram2dcontour": [
           {
            "colorbar": {
             "outlinewidth": 0,
             "ticks": ""
            },
            "colorscale": [
             [
              0,
              "#0d0887"
             ],
             [
              0.1111111111111111,
              "#46039f"
             ],
             [
              0.2222222222222222,
              "#7201a8"
             ],
             [
              0.3333333333333333,
              "#9c179e"
             ],
             [
              0.4444444444444444,
              "#bd3786"
             ],
             [
              0.5555555555555556,
              "#d8576b"
             ],
             [
              0.6666666666666666,
              "#ed7953"
             ],
             [
              0.7777777777777778,
              "#fb9f3a"
             ],
             [
              0.8888888888888888,
              "#fdca26"
             ],
             [
              1,
              "#f0f921"
             ]
            ],
            "type": "histogram2dcontour"
           }
          ],
          "mesh3d": [
           {
            "colorbar": {
             "outlinewidth": 0,
             "ticks": ""
            },
            "type": "mesh3d"
           }
          ],
          "parcoords": [
           {
            "line": {
             "colorbar": {
              "outlinewidth": 0,
              "ticks": ""
             }
            },
            "type": "parcoords"
           }
          ],
          "pie": [
           {
            "automargin": true,
            "type": "pie"
           }
          ],
          "scatter": [
           {
            "fillpattern": {
             "fillmode": "overlay",
             "size": 10,
             "solidity": 0.2
            },
            "type": "scatter"
           }
          ],
          "scatter3d": [
           {
            "line": {
             "colorbar": {
              "outlinewidth": 0,
              "ticks": ""
             }
            },
            "marker": {
             "colorbar": {
              "outlinewidth": 0,
              "ticks": ""
             }
            },
            "type": "scatter3d"
           }
          ],
          "scattercarpet": [
           {
            "marker": {
             "colorbar": {
              "outlinewidth": 0,
              "ticks": ""
             }
            },
            "type": "scattercarpet"
           }
          ],
          "scattergeo": [
           {
            "marker": {
             "colorbar": {
              "outlinewidth": 0,
              "ticks": ""
             }
            },
            "type": "scattergeo"
           }
          ],
          "scattergl": [
           {
            "marker": {
             "colorbar": {
              "outlinewidth": 0,
              "ticks": ""
             }
            },
            "type": "scattergl"
           }
          ],
          "scattermapbox": [
           {
            "marker": {
             "colorbar": {
              "outlinewidth": 0,
              "ticks": ""
             }
            },
            "type": "scattermapbox"
           }
          ],
          "scatterpolar": [
           {
            "marker": {
             "colorbar": {
              "outlinewidth": 0,
              "ticks": ""
             }
            },
            "type": "scatterpolar"
           }
          ],
          "scatterpolargl": [
           {
            "marker": {
             "colorbar": {
              "outlinewidth": 0,
              "ticks": ""
             }
            },
            "type": "scatterpolargl"
           }
          ],
          "scatterternary": [
           {
            "marker": {
             "colorbar": {
              "outlinewidth": 0,
              "ticks": ""
             }
            },
            "type": "scatterternary"
           }
          ],
          "surface": [
           {
            "colorbar": {
             "outlinewidth": 0,
             "ticks": ""
            },
            "colorscale": [
             [
              0,
              "#0d0887"
             ],
             [
              0.1111111111111111,
              "#46039f"
             ],
             [
              0.2222222222222222,
              "#7201a8"
             ],
             [
              0.3333333333333333,
              "#9c179e"
             ],
             [
              0.4444444444444444,
              "#bd3786"
             ],
             [
              0.5555555555555556,
              "#d8576b"
             ],
             [
              0.6666666666666666,
              "#ed7953"
             ],
             [
              0.7777777777777778,
              "#fb9f3a"
             ],
             [
              0.8888888888888888,
              "#fdca26"
             ],
             [
              1,
              "#f0f921"
             ]
            ],
            "type": "surface"
           }
          ],
          "table": [
           {
            "cells": {
             "fill": {
              "color": "#EBF0F8"
             },
             "line": {
              "color": "white"
             }
            },
            "header": {
             "fill": {
              "color": "#C8D4E3"
             },
             "line": {
              "color": "white"
             }
            },
            "type": "table"
           }
          ]
         },
         "layout": {
          "annotationdefaults": {
           "arrowcolor": "#2a3f5f",
           "arrowhead": 0,
           "arrowwidth": 1
          },
          "autotypenumbers": "strict",
          "coloraxis": {
           "colorbar": {
            "outlinewidth": 0,
            "ticks": ""
           }
          },
          "colorscale": {
           "diverging": [
            [
             0,
             "#8e0152"
            ],
            [
             0.1,
             "#c51b7d"
            ],
            [
             0.2,
             "#de77ae"
            ],
            [
             0.3,
             "#f1b6da"
            ],
            [
             0.4,
             "#fde0ef"
            ],
            [
             0.5,
             "#f7f7f7"
            ],
            [
             0.6,
             "#e6f5d0"
            ],
            [
             0.7,
             "#b8e186"
            ],
            [
             0.8,
             "#7fbc41"
            ],
            [
             0.9,
             "#4d9221"
            ],
            [
             1,
             "#276419"
            ]
           ],
           "sequential": [
            [
             0,
             "#0d0887"
            ],
            [
             0.1111111111111111,
             "#46039f"
            ],
            [
             0.2222222222222222,
             "#7201a8"
            ],
            [
             0.3333333333333333,
             "#9c179e"
            ],
            [
             0.4444444444444444,
             "#bd3786"
            ],
            [
             0.5555555555555556,
             "#d8576b"
            ],
            [
             0.6666666666666666,
             "#ed7953"
            ],
            [
             0.7777777777777778,
             "#fb9f3a"
            ],
            [
             0.8888888888888888,
             "#fdca26"
            ],
            [
             1,
             "#f0f921"
            ]
           ],
           "sequentialminus": [
            [
             0,
             "#0d0887"
            ],
            [
             0.1111111111111111,
             "#46039f"
            ],
            [
             0.2222222222222222,
             "#7201a8"
            ],
            [
             0.3333333333333333,
             "#9c179e"
            ],
            [
             0.4444444444444444,
             "#bd3786"
            ],
            [
             0.5555555555555556,
             "#d8576b"
            ],
            [
             0.6666666666666666,
             "#ed7953"
            ],
            [
             0.7777777777777778,
             "#fb9f3a"
            ],
            [
             0.8888888888888888,
             "#fdca26"
            ],
            [
             1,
             "#f0f921"
            ]
           ]
          },
          "colorway": [
           "#636efa",
           "#EF553B",
           "#00cc96",
           "#ab63fa",
           "#FFA15A",
           "#19d3f3",
           "#FF6692",
           "#B6E880",
           "#FF97FF",
           "#FECB52"
          ],
          "font": {
           "color": "#2a3f5f"
          },
          "geo": {
           "bgcolor": "white",
           "lakecolor": "white",
           "landcolor": "#E5ECF6",
           "showlakes": true,
           "showland": true,
           "subunitcolor": "white"
          },
          "hoverlabel": {
           "align": "left"
          },
          "hovermode": "closest",
          "mapbox": {
           "style": "light"
          },
          "paper_bgcolor": "white",
          "plot_bgcolor": "#E5ECF6",
          "polar": {
           "angularaxis": {
            "gridcolor": "white",
            "linecolor": "white",
            "ticks": ""
           },
           "bgcolor": "#E5ECF6",
           "radialaxis": {
            "gridcolor": "white",
            "linecolor": "white",
            "ticks": ""
           }
          },
          "scene": {
           "xaxis": {
            "backgroundcolor": "#E5ECF6",
            "gridcolor": "white",
            "gridwidth": 2,
            "linecolor": "white",
            "showbackground": true,
            "ticks": "",
            "zerolinecolor": "white"
           },
           "yaxis": {
            "backgroundcolor": "#E5ECF6",
            "gridcolor": "white",
            "gridwidth": 2,
            "linecolor": "white",
            "showbackground": true,
            "ticks": "",
            "zerolinecolor": "white"
           },
           "zaxis": {
            "backgroundcolor": "#E5ECF6",
            "gridcolor": "white",
            "gridwidth": 2,
            "linecolor": "white",
            "showbackground": true,
            "ticks": "",
            "zerolinecolor": "white"
           }
          },
          "shapedefaults": {
           "line": {
            "color": "#2a3f5f"
           }
          },
          "ternary": {
           "aaxis": {
            "gridcolor": "white",
            "linecolor": "white",
            "ticks": ""
           },
           "baxis": {
            "gridcolor": "white",
            "linecolor": "white",
            "ticks": ""
           },
           "bgcolor": "#E5ECF6",
           "caxis": {
            "gridcolor": "white",
            "linecolor": "white",
            "ticks": ""
           }
          },
          "title": {
           "x": 0.05
          },
          "xaxis": {
           "automargin": true,
           "gridcolor": "white",
           "linecolor": "white",
           "ticks": "",
           "title": {
            "standoff": 15
           },
           "zerolinecolor": "white",
           "zerolinewidth": 2
          },
          "yaxis": {
           "automargin": true,
           "gridcolor": "white",
           "linecolor": "white",
           "ticks": "",
           "title": {
            "standoff": 15
           },
           "zerolinecolor": "white",
           "zerolinewidth": 2
          }
         }
        },
        "title": {
         "text": "CHL"
        },
        "width": 800,
        "xaxis": {
         "anchor": "y",
         "domain": [
          0,
          1
         ],
         "title": {
          "text": "Year"
         }
        },
        "yaxis": {
         "anchor": "x",
         "domain": [
          0,
          1
         ],
         "title": {
          "text": "value"
         }
        }
       }
      }
     },
     "metadata": {},
     "output_type": "display_data"
    },
    {
     "data": {
      "application/vnd.plotly.v1+json": {
       "config": {
        "plotlyServerURL": "https://plot.ly"
       },
       "data": [],
       "layout": {
        "height": 600,
        "legend": {
         "tracegroupgap": 0
        },
        "template": {
         "data": {
          "bar": [
           {
            "error_x": {
             "color": "#2a3f5f"
            },
            "error_y": {
             "color": "#2a3f5f"
            },
            "marker": {
             "line": {
              "color": "#E5ECF6",
              "width": 0.5
             },
             "pattern": {
              "fillmode": "overlay",
              "size": 10,
              "solidity": 0.2
             }
            },
            "type": "bar"
           }
          ],
          "barpolar": [
           {
            "marker": {
             "line": {
              "color": "#E5ECF6",
              "width": 0.5
             },
             "pattern": {
              "fillmode": "overlay",
              "size": 10,
              "solidity": 0.2
             }
            },
            "type": "barpolar"
           }
          ],
          "carpet": [
           {
            "aaxis": {
             "endlinecolor": "#2a3f5f",
             "gridcolor": "white",
             "linecolor": "white",
             "minorgridcolor": "white",
             "startlinecolor": "#2a3f5f"
            },
            "baxis": {
             "endlinecolor": "#2a3f5f",
             "gridcolor": "white",
             "linecolor": "white",
             "minorgridcolor": "white",
             "startlinecolor": "#2a3f5f"
            },
            "type": "carpet"
           }
          ],
          "choropleth": [
           {
            "colorbar": {
             "outlinewidth": 0,
             "ticks": ""
            },
            "type": "choropleth"
           }
          ],
          "contour": [
           {
            "colorbar": {
             "outlinewidth": 0,
             "ticks": ""
            },
            "colorscale": [
             [
              0,
              "#0d0887"
             ],
             [
              0.1111111111111111,
              "#46039f"
             ],
             [
              0.2222222222222222,
              "#7201a8"
             ],
             [
              0.3333333333333333,
              "#9c179e"
             ],
             [
              0.4444444444444444,
              "#bd3786"
             ],
             [
              0.5555555555555556,
              "#d8576b"
             ],
             [
              0.6666666666666666,
              "#ed7953"
             ],
             [
              0.7777777777777778,
              "#fb9f3a"
             ],
             [
              0.8888888888888888,
              "#fdca26"
             ],
             [
              1,
              "#f0f921"
             ]
            ],
            "type": "contour"
           }
          ],
          "contourcarpet": [
           {
            "colorbar": {
             "outlinewidth": 0,
             "ticks": ""
            },
            "type": "contourcarpet"
           }
          ],
          "heatmap": [
           {
            "colorbar": {
             "outlinewidth": 0,
             "ticks": ""
            },
            "colorscale": [
             [
              0,
              "#0d0887"
             ],
             [
              0.1111111111111111,
              "#46039f"
             ],
             [
              0.2222222222222222,
              "#7201a8"
             ],
             [
              0.3333333333333333,
              "#9c179e"
             ],
             [
              0.4444444444444444,
              "#bd3786"
             ],
             [
              0.5555555555555556,
              "#d8576b"
             ],
             [
              0.6666666666666666,
              "#ed7953"
             ],
             [
              0.7777777777777778,
              "#fb9f3a"
             ],
             [
              0.8888888888888888,
              "#fdca26"
             ],
             [
              1,
              "#f0f921"
             ]
            ],
            "type": "heatmap"
           }
          ],
          "heatmapgl": [
           {
            "colorbar": {
             "outlinewidth": 0,
             "ticks": ""
            },
            "colorscale": [
             [
              0,
              "#0d0887"
             ],
             [
              0.1111111111111111,
              "#46039f"
             ],
             [
              0.2222222222222222,
              "#7201a8"
             ],
             [
              0.3333333333333333,
              "#9c179e"
             ],
             [
              0.4444444444444444,
              "#bd3786"
             ],
             [
              0.5555555555555556,
              "#d8576b"
             ],
             [
              0.6666666666666666,
              "#ed7953"
             ],
             [
              0.7777777777777778,
              "#fb9f3a"
             ],
             [
              0.8888888888888888,
              "#fdca26"
             ],
             [
              1,
              "#f0f921"
             ]
            ],
            "type": "heatmapgl"
           }
          ],
          "histogram": [
           {
            "marker": {
             "pattern": {
              "fillmode": "overlay",
              "size": 10,
              "solidity": 0.2
             }
            },
            "type": "histogram"
           }
          ],
          "histogram2d": [
           {
            "colorbar": {
             "outlinewidth": 0,
             "ticks": ""
            },
            "colorscale": [
             [
              0,
              "#0d0887"
             ],
             [
              0.1111111111111111,
              "#46039f"
             ],
             [
              0.2222222222222222,
              "#7201a8"
             ],
             [
              0.3333333333333333,
              "#9c179e"
             ],
             [
              0.4444444444444444,
              "#bd3786"
             ],
             [
              0.5555555555555556,
              "#d8576b"
             ],
             [
              0.6666666666666666,
              "#ed7953"
             ],
             [
              0.7777777777777778,
              "#fb9f3a"
             ],
             [
              0.8888888888888888,
              "#fdca26"
             ],
             [
              1,
              "#f0f921"
             ]
            ],
            "type": "histogram2d"
           }
          ],
          "histogram2dcontour": [
           {
            "colorbar": {
             "outlinewidth": 0,
             "ticks": ""
            },
            "colorscale": [
             [
              0,
              "#0d0887"
             ],
             [
              0.1111111111111111,
              "#46039f"
             ],
             [
              0.2222222222222222,
              "#7201a8"
             ],
             [
              0.3333333333333333,
              "#9c179e"
             ],
             [
              0.4444444444444444,
              "#bd3786"
             ],
             [
              0.5555555555555556,
              "#d8576b"
             ],
             [
              0.6666666666666666,
              "#ed7953"
             ],
             [
              0.7777777777777778,
              "#fb9f3a"
             ],
             [
              0.8888888888888888,
              "#fdca26"
             ],
             [
              1,
              "#f0f921"
             ]
            ],
            "type": "histogram2dcontour"
           }
          ],
          "mesh3d": [
           {
            "colorbar": {
             "outlinewidth": 0,
             "ticks": ""
            },
            "type": "mesh3d"
           }
          ],
          "parcoords": [
           {
            "line": {
             "colorbar": {
              "outlinewidth": 0,
              "ticks": ""
             }
            },
            "type": "parcoords"
           }
          ],
          "pie": [
           {
            "automargin": true,
            "type": "pie"
           }
          ],
          "scatter": [
           {
            "fillpattern": {
             "fillmode": "overlay",
             "size": 10,
             "solidity": 0.2
            },
            "type": "scatter"
           }
          ],
          "scatter3d": [
           {
            "line": {
             "colorbar": {
              "outlinewidth": 0,
              "ticks": ""
             }
            },
            "marker": {
             "colorbar": {
              "outlinewidth": 0,
              "ticks": ""
             }
            },
            "type": "scatter3d"
           }
          ],
          "scattercarpet": [
           {
            "marker": {
             "colorbar": {
              "outlinewidth": 0,
              "ticks": ""
             }
            },
            "type": "scattercarpet"
           }
          ],
          "scattergeo": [
           {
            "marker": {
             "colorbar": {
              "outlinewidth": 0,
              "ticks": ""
             }
            },
            "type": "scattergeo"
           }
          ],
          "scattergl": [
           {
            "marker": {
             "colorbar": {
              "outlinewidth": 0,
              "ticks": ""
             }
            },
            "type": "scattergl"
           }
          ],
          "scattermapbox": [
           {
            "marker": {
             "colorbar": {
              "outlinewidth": 0,
              "ticks": ""
             }
            },
            "type": "scattermapbox"
           }
          ],
          "scatterpolar": [
           {
            "marker": {
             "colorbar": {
              "outlinewidth": 0,
              "ticks": ""
             }
            },
            "type": "scatterpolar"
           }
          ],
          "scatterpolargl": [
           {
            "marker": {
             "colorbar": {
              "outlinewidth": 0,
              "ticks": ""
             }
            },
            "type": "scatterpolargl"
           }
          ],
          "scatterternary": [
           {
            "marker": {
             "colorbar": {
              "outlinewidth": 0,
              "ticks": ""
             }
            },
            "type": "scatterternary"
           }
          ],
          "surface": [
           {
            "colorbar": {
             "outlinewidth": 0,
             "ticks": ""
            },
            "colorscale": [
             [
              0,
              "#0d0887"
             ],
             [
              0.1111111111111111,
              "#46039f"
             ],
             [
              0.2222222222222222,
              "#7201a8"
             ],
             [
              0.3333333333333333,
              "#9c179e"
             ],
             [
              0.4444444444444444,
              "#bd3786"
             ],
             [
              0.5555555555555556,
              "#d8576b"
             ],
             [
              0.6666666666666666,
              "#ed7953"
             ],
             [
              0.7777777777777778,
              "#fb9f3a"
             ],
             [
              0.8888888888888888,
              "#fdca26"
             ],
             [
              1,
              "#f0f921"
             ]
            ],
            "type": "surface"
           }
          ],
          "table": [
           {
            "cells": {
             "fill": {
              "color": "#EBF0F8"
             },
             "line": {
              "color": "white"
             }
            },
            "header": {
             "fill": {
              "color": "#C8D4E3"
             },
             "line": {
              "color": "white"
             }
            },
            "type": "table"
           }
          ]
         },
         "layout": {
          "annotationdefaults": {
           "arrowcolor": "#2a3f5f",
           "arrowhead": 0,
           "arrowwidth": 1
          },
          "autotypenumbers": "strict",
          "coloraxis": {
           "colorbar": {
            "outlinewidth": 0,
            "ticks": ""
           }
          },
          "colorscale": {
           "diverging": [
            [
             0,
             "#8e0152"
            ],
            [
             0.1,
             "#c51b7d"
            ],
            [
             0.2,
             "#de77ae"
            ],
            [
             0.3,
             "#f1b6da"
            ],
            [
             0.4,
             "#fde0ef"
            ],
            [
             0.5,
             "#f7f7f7"
            ],
            [
             0.6,
             "#e6f5d0"
            ],
            [
             0.7,
             "#b8e186"
            ],
            [
             0.8,
             "#7fbc41"
            ],
            [
             0.9,
             "#4d9221"
            ],
            [
             1,
             "#276419"
            ]
           ],
           "sequential": [
            [
             0,
             "#0d0887"
            ],
            [
             0.1111111111111111,
             "#46039f"
            ],
            [
             0.2222222222222222,
             "#7201a8"
            ],
            [
             0.3333333333333333,
             "#9c179e"
            ],
            [
             0.4444444444444444,
             "#bd3786"
            ],
            [
             0.5555555555555556,
             "#d8576b"
            ],
            [
             0.6666666666666666,
             "#ed7953"
            ],
            [
             0.7777777777777778,
             "#fb9f3a"
            ],
            [
             0.8888888888888888,
             "#fdca26"
            ],
            [
             1,
             "#f0f921"
            ]
           ],
           "sequentialminus": [
            [
             0,
             "#0d0887"
            ],
            [
             0.1111111111111111,
             "#46039f"
            ],
            [
             0.2222222222222222,
             "#7201a8"
            ],
            [
             0.3333333333333333,
             "#9c179e"
            ],
            [
             0.4444444444444444,
             "#bd3786"
            ],
            [
             0.5555555555555556,
             "#d8576b"
            ],
            [
             0.6666666666666666,
             "#ed7953"
            ],
            [
             0.7777777777777778,
             "#fb9f3a"
            ],
            [
             0.8888888888888888,
             "#fdca26"
            ],
            [
             1,
             "#f0f921"
            ]
           ]
          },
          "colorway": [
           "#636efa",
           "#EF553B",
           "#00cc96",
           "#ab63fa",
           "#FFA15A",
           "#19d3f3",
           "#FF6692",
           "#B6E880",
           "#FF97FF",
           "#FECB52"
          ],
          "font": {
           "color": "#2a3f5f"
          },
          "geo": {
           "bgcolor": "white",
           "lakecolor": "white",
           "landcolor": "#E5ECF6",
           "showlakes": true,
           "showland": true,
           "subunitcolor": "white"
          },
          "hoverlabel": {
           "align": "left"
          },
          "hovermode": "closest",
          "mapbox": {
           "style": "light"
          },
          "paper_bgcolor": "white",
          "plot_bgcolor": "#E5ECF6",
          "polar": {
           "angularaxis": {
            "gridcolor": "white",
            "linecolor": "white",
            "ticks": ""
           },
           "bgcolor": "#E5ECF6",
           "radialaxis": {
            "gridcolor": "white",
            "linecolor": "white",
            "ticks": ""
           }
          },
          "scene": {
           "xaxis": {
            "backgroundcolor": "#E5ECF6",
            "gridcolor": "white",
            "gridwidth": 2,
            "linecolor": "white",
            "showbackground": true,
            "ticks": "",
            "zerolinecolor": "white"
           },
           "yaxis": {
            "backgroundcolor": "#E5ECF6",
            "gridcolor": "white",
            "gridwidth": 2,
            "linecolor": "white",
            "showbackground": true,
            "ticks": "",
            "zerolinecolor": "white"
           },
           "zaxis": {
            "backgroundcolor": "#E5ECF6",
            "gridcolor": "white",
            "gridwidth": 2,
            "linecolor": "white",
            "showbackground": true,
            "ticks": "",
            "zerolinecolor": "white"
           }
          },
          "shapedefaults": {
           "line": {
            "color": "#2a3f5f"
           }
          },
          "ternary": {
           "aaxis": {
            "gridcolor": "white",
            "linecolor": "white",
            "ticks": ""
           },
           "baxis": {
            "gridcolor": "white",
            "linecolor": "white",
            "ticks": ""
           },
           "bgcolor": "#E5ECF6",
           "caxis": {
            "gridcolor": "white",
            "linecolor": "white",
            "ticks": ""
           }
          },
          "title": {
           "x": 0.05
          },
          "xaxis": {
           "automargin": true,
           "gridcolor": "white",
           "linecolor": "white",
           "ticks": "",
           "title": {
            "standoff": 15
           },
           "zerolinecolor": "white",
           "zerolinewidth": 2
          },
          "yaxis": {
           "automargin": true,
           "gridcolor": "white",
           "linecolor": "white",
           "ticks": "",
           "title": {
            "standoff": 15
           },
           "zerolinecolor": "white",
           "zerolinewidth": 2
          }
         }
        },
        "title": {
         "text": "PCZ"
        },
        "width": 800,
        "xaxis": {
         "anchor": "y",
         "domain": [
          0,
          1
         ],
         "title": {
          "text": "Year"
         }
        },
        "yaxis": {
         "anchor": "x",
         "domain": [
          0,
          1
         ],
         "title": {
          "text": "value"
         }
        }
       }
      }
     },
     "metadata": {},
     "output_type": "display_data"
    },
    {
     "data": {
      "application/vnd.plotly.v1+json": {
       "config": {
        "plotlyServerURL": "https://plot.ly"
       },
       "data": [
        {
         "hovertemplate": "variable=Alcohol per capita<br>Year=%{x}<br>value=%{y}<extra></extra>",
         "legendgroup": "Alcohol per capita",
         "line": {
          "color": "#636efa",
          "dash": "solid"
         },
         "marker": {
          "symbol": "circle"
         },
         "mode": "lines",
         "name": "Alcohol per capita",
         "orientation": "v",
         "showlegend": true,
         "type": "scatter",
         "x": [
          1990,
          1991,
          1992,
          1993,
          1994,
          1995,
          1996,
          1997,
          1998,
          1999,
          2000,
          2001,
          2002,
          2003,
          2004,
          2005,
          2006,
          2007,
          2008,
          2009,
          2010,
          2011,
          2012,
          2013,
          2014,
          2015,
          2016,
          2017,
          2018,
          2019,
          2020
         ],
         "xaxis": "x",
         "y": [
          1,
          1,
          1,
          1,
          1,
          1,
          1,
          1,
          1,
          1,
          1,
          0.967088607594937,
          0.934177215189874,
          0.9012658227848096,
          0.8683544303797467,
          0.8354430379746837,
          0.6784810126582285,
          0.521518987341772,
          0.3645569620253168,
          0.2075949367088603,
          0.0506329113924051,
          0.040506329113924,
          0.030379746835443,
          0.020253164556962,
          0.010126582278481,
          0,
          0.0464135021097051,
          0.0928270042194091,
          0.1392405063291143,
          0.1392405063291143,
          0.1392405063291143
         ],
         "yaxis": "y"
        },
        {
         "hovertemplate": "variable=Education GExp<br>Year=%{x}<br>value=%{y}<extra></extra>",
         "legendgroup": "Education GExp",
         "line": {
          "color": "#EF553B",
          "dash": "solid"
         },
         "marker": {
          "symbol": "circle"
         },
         "mode": "lines",
         "name": "Education GExp",
         "orientation": "v",
         "showlegend": true,
         "type": "scatter",
         "x": [
          1990,
          1991,
          1992,
          1993,
          1994,
          1995,
          1996,
          1997,
          1998,
          1999,
          2000,
          2001,
          2002,
          2003,
          2004,
          2005,
          2006,
          2007,
          2008,
          2009,
          2010,
          2011,
          2012,
          2013,
          2014,
          2015,
          2016,
          2017,
          2018,
          2019,
          2020
         ],
         "xaxis": "x",
         "y": [
          0,
          0,
          0,
          0,
          0,
          0,
          0.2537702014448703,
          0.3539891431481543,
          0.4542080848514382,
          0.5544270265547221,
          0.2221795553334407,
          0.2578545863434888,
          0.2672390562492506,
          0.3647690312697259,
          0.3946491230219102,
          0.4060186239948775,
          0.4173881249678448,
          0.4579053374848815,
          0.4353290413301242,
          0.7133195411084235,
          0.6568781882781561,
          0.6706565311370275,
          0.7233099216644033,
          0.6515286995050618,
          0.6813499966928088,
          0.7095958853603975,
          0.7149229178762406,
          0.8574614589381205,
          1,
          0.8356348955539011,
          0.5133041075352577
         ],
         "yaxis": "y"
        },
        {
         "hovertemplate": "variable=Employment-agriculture<br>Year=%{x}<br>value=%{y}<extra></extra>",
         "legendgroup": "Employment-agriculture",
         "line": {
          "color": "#00cc96",
          "dash": "solid"
         },
         "marker": {
          "symbol": "circle"
         },
         "mode": "lines",
         "name": "Employment-agriculture",
         "orientation": "v",
         "showlegend": true,
         "type": "scatter",
         "x": [
          1990,
          1991,
          1992,
          1993,
          1994,
          1995,
          1996,
          1997,
          1998,
          1999,
          2000,
          2001,
          2002,
          2003,
          2004,
          2005,
          2006,
          2007,
          2008,
          2009,
          2010,
          2011,
          2012,
          2013,
          2014,
          2015,
          2016,
          2017,
          2018,
          2019,
          2020
         ],
         "xaxis": "x",
         "y": [
          1,
          1,
          0.9812500476837128,
          0.96875,
          0.9287500381469757,
          0.9600000381469754,
          0.9500000476837128,
          0.9049999713897628,
          0.8824999332428005,
          0.8262500762939384,
          0.7937500476837135,
          0.7187500000000012,
          0.7512500286102262,
          0.6637500524520888,
          0.6225000619888266,
          0.6687500476837139,
          0.5175000429153395,
          0.4212501049041773,
          0.3112500905990651,
          0.2425000667572028,
          0.183750033378603,
          0.1262500286102283,
          0.0475000143051161,
          0,
          0.1575000286102282,
          0.3012501001358026,
          0.2887500524520902,
          0.3350000381469777,
          0.3125000000000026,
          0.2587500810623153,
          0.2587500810623153
         ],
         "yaxis": "y"
        },
        {
         "hovertemplate": "variable=Employment-industry<br>Year=%{x}<br>value=%{y}<extra></extra>",
         "legendgroup": "Employment-industry",
         "line": {
          "color": "#ab63fa",
          "dash": "solid"
         },
         "marker": {
          "symbol": "circle"
         },
         "mode": "lines",
         "name": "Employment-industry",
         "orientation": "v",
         "showlegend": true,
         "type": "scatter",
         "x": [
          1990,
          1991,
          1992,
          1993,
          1994,
          1995,
          1996,
          1997,
          1998,
          1999,
          2000,
          2001,
          2002,
          2003,
          2004,
          2005,
          2006,
          2007,
          2008,
          2009,
          2010,
          2011,
          2012,
          2013,
          2014,
          2015,
          2016,
          2017,
          2018,
          2019,
          2020
         ],
         "xaxis": "x",
         "y": [
          1,
          1,
          0.9837398531574084,
          0.9339431292224774,
          0.976626063143311,
          0.7693089001460336,
          0.6941056725400278,
          0.7266259662251898,
          0.6636179456692511,
          0.6890244493403157,
          0.6036585814986386,
          0.7042683127756988,
          0.6189024449340321,
          0.5884147180632453,
          0.5680894375919031,
          0.5223576534494861,
          0.5355691439067306,
          0.5863821512488596,
          0.5254065036710593,
          0.3648374082233869,
          0.3201219074881574,
          0.2804878237888976,
          0.1707317356833437,
          0,
          0.1209350117484125,
          0.2703251835532262,
          0.2154472364185732,
          0.1991870895759918,
          0.3231707577097308,
          0.2347560396464806,
          0.2347560396464806
         ],
         "yaxis": "y"
        },
        {
         "hovertemplate": "variable=Employment-services<br>Year=%{x}<br>value=%{y}<extra></extra>",
         "legendgroup": "Employment-services",
         "line": {
          "color": "#FFA15A",
          "dash": "solid"
         },
         "marker": {
          "symbol": "circle"
         },
         "mode": "lines",
         "name": "Employment-services",
         "orientation": "v",
         "showlegend": true,
         "type": "scatter",
         "x": [
          1990,
          1991,
          1992,
          1993,
          1994,
          1995,
          1996,
          1997,
          1998,
          1999,
          2000,
          2001,
          2002,
          2003,
          2004,
          2005,
          2006,
          2007,
          2008,
          2009,
          2010,
          2011,
          2012,
          2013,
          2014,
          2015,
          2016,
          2017,
          2018,
          2019,
          2020
         ],
         "xaxis": "x",
         "y": [
          0,
          0,
          0.0173670214868932,
          0.0504200333769917,
          0.0448178786823818,
          0.1450980291588164,
          0.1910363815218227,
          0.1932773288830649,
          0.2380952075654527,
          0.2492997306631714,
          0.3109242871378878,
          0.2896357146230685,
          0.3221288102356125,
          0.3775908683211547,
          0.4078430165724502,
          0.4117645676003822,
          0.4722686503944745,
          0.4879552819231884,
          0.570307853509661,
          0.6901957591257261,
          0.7406160062112231,
          0.7887953059354768,
          0.8840336454118605,
          1,
          0.8627448591885364,
          0.7154060963769767,
          0.7512603993228876,
          0.7394957462391035,
          0.6812323970977544,
          0.7535013466841302,
          0.7535013466841302
         ],
         "yaxis": "y"
        },
        {
         "hovertemplate": "variable=Exports-Commercial services<br>Year=%{x}<br>value=%{y}<extra></extra>",
         "legendgroup": "Exports-Commercial services",
         "line": {
          "color": "#19d3f3",
          "dash": "solid"
         },
         "marker": {
          "symbol": "circle"
         },
         "mode": "lines",
         "name": "Exports-Commercial services",
         "orientation": "v",
         "showlegend": true,
         "type": "scatter",
         "x": [
          1990,
          1991,
          1992,
          1993,
          1994,
          1995,
          1996,
          1997,
          1998,
          1999,
          2000,
          2001,
          2002,
          2003,
          2004,
          2005,
          2006,
          2007,
          2008,
          2009,
          2010,
          2011,
          2012,
          2013,
          2014,
          2015,
          2016,
          2017,
          2018,
          2019,
          2020
         ],
         "xaxis": "x",
         "y": [
          0,
          0.0081265381643341,
          0.0230867561486766,
          0.0432799721933857,
          0.0594817446195014,
          0.0542795289006663,
          0.0739514972954409,
          0.0837078578360665,
          0.1536274840377025,
          0.306458637006,
          0.1739116887999278,
          0.174737449052274,
          0.1699191995386889,
          0.1889293858701987,
          0.2219438633947229,
          0.2644148160275775,
          0.3043698889654036,
          0.3596492036401,
          0.4095037887428081,
          0.3636866194507012,
          0.4521585289004677,
          0.5308521657348808,
          0.5741518509018811,
          0.6504784859144538,
          0.6660473398132671,
          0.7270677150766289,
          0.8131670758790821,
          0.8190915687484652,
          0.9382189476263052,
          1,
          0.7589531329798987
         ],
         "yaxis": "y"
        },
        {
         "hovertemplate": "variable=Exports-G&S<br>Year=%{x}<br>value=%{y}<extra></extra>",
         "legendgroup": "Exports-G&S",
         "line": {
          "color": "#FF6692",
          "dash": "solid"
         },
         "marker": {
          "symbol": "circle"
         },
         "mode": "lines",
         "name": "Exports-G&S",
         "orientation": "v",
         "showlegend": true,
         "type": "scatter",
         "x": [
          1990,
          1991,
          1992,
          1993,
          1994,
          1995,
          1996,
          1997,
          1998,
          1999,
          2000,
          2001,
          2002,
          2003,
          2004,
          2005,
          2006,
          2007,
          2008,
          2009,
          2010,
          2011,
          2012,
          2013,
          2014,
          2015,
          2016,
          2017,
          2018,
          2019,
          2020
         ],
         "xaxis": "x",
         "y": [
          0,
          0.0227453514452709,
          0.0538796511145271,
          0.0756519709260276,
          0.0912681952166342,
          0.1241232385849309,
          0.1371276867059752,
          0.166169675015745,
          0.2048472039249415,
          0.207397198482701,
          0.2264963937335213,
          0.2278233696855156,
          0.2293986243994143,
          0.2557034004369932,
          0.2975674850353237,
          0.3406969897245013,
          0.3975886972963993,
          0.4516027340501784,
          0.504170438917283,
          0.4383717197859718,
          0.5248427026099874,
          0.6016249592214199,
          0.6552352999064252,
          0.6873454456760132,
          0.724023884760265,
          0.7550933040916737,
          0.8289782874849426,
          0.9011257550104452,
          0.9632862743326208,
          1,
          0.8841003403924843
         ],
         "yaxis": "y"
        },
        {
         "hovertemplate": "variable=Fertility rate<br>Year=%{x}<br>value=%{y}<extra></extra>",
         "legendgroup": "Fertility rate",
         "line": {
          "color": "#B6E880",
          "dash": "solid"
         },
         "marker": {
          "symbol": "circle"
         },
         "mode": "lines",
         "name": "Fertility rate",
         "orientation": "v",
         "showlegend": true,
         "type": "scatter",
         "x": [
          1990,
          1991,
          1992,
          1993,
          1994,
          1995,
          1996,
          1997,
          1998,
          1999,
          2000,
          2001,
          2002,
          2003,
          2004,
          2005,
          2006,
          2007,
          2008,
          2009,
          2010,
          2011,
          2012,
          2013,
          2014,
          2015,
          2016,
          2017,
          2018,
          2019,
          2020
         ],
         "xaxis": "x",
         "y": [
          1,
          0.9539857420609203,
          0.9027867790019444,
          0.8476992871030461,
          0.7906675307841866,
          0.7316915100453664,
          0.6701231367465975,
          0.6066104990278679,
          0.542449773169151,
          0.4782890473104343,
          0.4160725858716785,
          0.3590408295528191,
          0.307193778353856,
          0.2611795204147765,
          0.2229423201555411,
          0.1911860012961762,
          0.1665586519766688,
          0.1471160077770576,
          0.1309138042773817,
          0.1179520414776409,
          0.1062864549578742,
          0.0959170447180816,
          0.0855476344782889,
          0.0758263123784834,
          0.0661049902786778,
          0.0550874918988982,
          0.0440699935191185,
          0.0330524951393389,
          0.0213869086195722,
          0.0103694102397926,
          0
         ],
         "yaxis": "y"
        },
        {
         "hovertemplate": "variable=Foreign investment<br>Year=%{x}<br>value=%{y}<extra></extra>",
         "legendgroup": "Foreign investment",
         "line": {
          "color": "#FF97FF",
          "dash": "solid"
         },
         "marker": {
          "symbol": "circle"
         },
         "mode": "lines",
         "name": "Foreign investment",
         "orientation": "v",
         "showlegend": true,
         "type": "scatter",
         "x": [
          1990,
          1991,
          1992,
          1993,
          1994,
          1995,
          1996,
          1997,
          1998,
          1999,
          2000,
          2001,
          2002,
          2003,
          2004,
          2005,
          2006,
          2007,
          2008,
          2009,
          2010,
          2011,
          2012,
          2013,
          2014,
          2015,
          2016,
          2017,
          2018,
          2019,
          2020
         ],
         "xaxis": "x",
         "y": [
          1,
          0.9953336784243708,
          0.976969445126733,
          0.9683894344876728,
          0.9501380960668648,
          0.935649920207048,
          0.90183414143398,
          0.9084196759157148,
          0.8314630015434419,
          0.8291277220951054,
          0.8285364498154765,
          0.8520994814274343,
          0.8380200528008177,
          0.8262553264374002,
          0.730232585226936,
          0.5413496471835255,
          0.4650062483791232,
          0.3785248944240232,
          0.2175983728266041,
          0.5559776756383381,
          0.4623156048492687,
          0.1842152822987705,
          0.3819626843012838,
          0.1566560476996097,
          0,
          0.1040252526821108,
          0.2599232705743844,
          0.0623352742336175,
          0.1444860814298405,
          0.0461350471769384,
          0.4415972379958625
         ],
         "yaxis": "y"
        },
        {
         "hovertemplate": "variable=GDP<br>Year=%{x}<br>value=%{y}<extra></extra>",
         "legendgroup": "GDP",
         "line": {
          "color": "#FECB52",
          "dash": "solid"
         },
         "marker": {
          "symbol": "circle"
         },
         "mode": "lines",
         "name": "GDP",
         "orientation": "v",
         "showlegend": true,
         "type": "scatter",
         "x": [
          1990,
          1991,
          1992,
          1993,
          1994,
          1995,
          1996,
          1997,
          1998,
          1999,
          2000,
          2001,
          2002,
          2003,
          2004,
          2005,
          2006,
          2007,
          2008,
          2009,
          2010,
          2011,
          2012,
          2013,
          2014,
          2015,
          2016,
          2017,
          2018,
          2019,
          2020
         ],
         "xaxis": "x",
         "y": [
          0,
          0.0254379405233159,
          0.0488742015924928,
          0.0663313913135603,
          0.0818197432035533,
          0.1005275451452156,
          0.1022381041486946,
          0.1182792092899244,
          0.13660737720388,
          0.146384600755857,
          0.1593857658560704,
          0.1758786576483961,
          0.1862048079712593,
          0.1980781076968892,
          0.2210186011399955,
          0.2455220048328482,
          0.2913555144239309,
          0.3627927231323684,
          0.4299100145381598,
          0.4289499093538503,
          0.547400263240806,
          0.6348556917172128,
          0.7114311574701393,
          0.7751382336918852,
          0.7934164228500818,
          0.8692460833145108,
          0.9104566664831168,
          0.9390549137329324,
          0.97168142003271,
          1,
          0.9618586243308728
         ],
         "yaxis": "y"
        },
        {
         "hovertemplate": "variable=Health services use<br>Year=%{x}<br>value=%{y}<extra></extra>",
         "legendgroup": "Health services use",
         "line": {
          "color": "#636efa",
          "dash": "solid"
         },
         "marker": {
          "symbol": "circle"
         },
         "mode": "lines",
         "name": "Health services use",
         "orientation": "v",
         "showlegend": true,
         "type": "scatter",
         "x": [
          1990,
          1991,
          1992,
          1993,
          1994,
          1995,
          1996,
          1997,
          1998,
          1999,
          2000,
          2001,
          2002,
          2003,
          2004,
          2005,
          2006,
          2007,
          2008,
          2009,
          2010,
          2011,
          2012,
          2013,
          2014,
          2015,
          2016,
          2017,
          2018,
          2019,
          2020
         ],
         "xaxis": "x",
         "y": [
          0,
          0,
          0,
          0,
          0,
          0,
          0,
          0,
          0,
          0,
          0,
          0.0580521989392189,
          0.1144237303042081,
          0.1691253276175992,
          0.2221309998266807,
          0.273389677710351,
          0.3229894046818659,
          0.3709135277343454,
          0.41721785167629,
          0.4779717721667544,
          0.5363842157023919,
          0.5924521773723294,
          0.6459805233991314,
          0.6971079908033081,
          0.7459798327926386,
          0.7927602591883014,
          0.8375904366143819,
          0.8805963383520613,
          0.9219172077873656,
          0.9616766789354122,
          1
         ],
         "yaxis": "y"
        },
        {
         "hovertemplate": "variable=International taxes<br>Year=%{x}<br>value=%{y}<extra></extra>",
         "legendgroup": "International taxes",
         "line": {
          "color": "#EF553B",
          "dash": "solid"
         },
         "marker": {
          "symbol": "circle"
         },
         "mode": "lines",
         "name": "International taxes",
         "orientation": "v",
         "showlegend": true,
         "type": "scatter",
         "x": [
          1990,
          1991,
          1992,
          1993,
          1994,
          1995,
          1996,
          1997,
          1998,
          1999,
          2000,
          2001,
          2002,
          2003,
          2004,
          2005,
          2006,
          2007,
          2008,
          2009,
          2010,
          2011,
          2012,
          2013,
          2014,
          2015,
          2016,
          2017,
          2018,
          2019,
          2020
         ],
         "xaxis": "x",
         "y": [
          0,
          0.0093592503808103,
          0.0211744742658049,
          0.0306664799711657,
          0.0428578439423867,
          0.07952043940575,
          0.0320604108789459,
          0.0623950025387354,
          0.0777503684117433,
          0.0529915003830749,
          0.0490973441962602,
          0.0608240645315545,
          0.0718870082440962,
          0.0973317787829422,
          0.1429951852508296,
          0.1845675151338189,
          0.2401028951338058,
          0.316006559669152,
          0.3846690501846809,
          0.3070861573045284,
          0.3523931031915496,
          0.4923951051638055,
          0.5384774235753087,
          0.6130331125318184,
          0.68518493611491,
          0.7746588317263146,
          0.923820666547536,
          0.956806667653825,
          0.983704292722972,
          1,
          1
         ],
         "yaxis": "y"
        },
        {
         "hovertemplate": "variable=Literacy rate<br>Year=%{x}<br>value=%{y}<extra></extra>",
         "legendgroup": "Literacy rate",
         "line": {
          "color": "#00cc96",
          "dash": "solid"
         },
         "marker": {
          "symbol": "circle"
         },
         "mode": "lines",
         "name": "Literacy rate",
         "orientation": "v",
         "showlegend": true,
         "type": "scatter",
         "x": [
          1990,
          1991,
          1992,
          1993,
          1994,
          1995,
          1996,
          1997,
          1998,
          1999,
          2000,
          2001,
          2002,
          2003,
          2004,
          2005,
          2006,
          2007,
          2008,
          2009,
          2010,
          2011,
          2012,
          2013,
          2014,
          2015,
          2016,
          2017,
          2018,
          2019,
          2020
         ],
         "xaxis": "x",
         "y": [
          0,
          0,
          0,
          0,
          0,
          0,
          0,
          0,
          0,
          0,
          0,
          0.0770337852856177,
          0.1540675705712354,
          0.2311013558568532,
          0.3081351411424709,
          0.3851689264280886,
          0.4622027117137064,
          0.5392364969993241,
          0.6162702822849419,
          0.6933040675705596,
          0.7703378528561773,
          0.8473716381417951,
          0.8691756898358244,
          0.8909797415298536,
          0.9127837932238828,
          0.934587844917912,
          0.9563918966119416,
          0.9781959483059708,
          1,
          1,
          1
         ],
         "yaxis": "y"
        },
        {
         "hovertemplate": "variable=Mortality-infants<br>Year=%{x}<br>value=%{y}<extra></extra>",
         "legendgroup": "Mortality-infants",
         "line": {
          "color": "#ab63fa",
          "dash": "solid"
         },
         "marker": {
          "symbol": "circle"
         },
         "mode": "lines",
         "name": "Mortality-infants",
         "orientation": "v",
         "showlegend": true,
         "type": "scatter",
         "x": [
          1990,
          1991,
          1992,
          1993,
          1994,
          1995,
          1996,
          1997,
          1998,
          1999,
          2000,
          2001,
          2002,
          2003,
          2004,
          2005,
          2006,
          2007,
          2008,
          2009,
          2010,
          2011,
          2012,
          2013,
          2014,
          2015,
          2016,
          2017,
          2018,
          2019,
          2020
         ],
         "xaxis": "x",
         "y": [
          1,
          0.9751381215469612,
          0.9267955801104972,
          0.8674033149171271,
          0.8259668508287292,
          0.8149171270718232,
          0.8038674033149171,
          0.7693370165745856,
          0.7113259668508287,
          0.6312154696132597,
          0.5400552486187845,
          0.4585635359116022,
          0.4019337016574585,
          0.3687845303867403,
          0.3522099447513812,
          0.3411602209944751,
          0.3314917127071823,
          0.319060773480663,
          0.3024861878453038,
          0.2859116022099447,
          0.2693370165745856,
          0.2486187845303867,
          0.2168508287292817,
          0.1781767955801105,
          0.1464088397790055,
          0.1243093922651933,
          0.1091160220994475,
          0.0980662983425414,
          0.0787292817679558,
          0.0469613259668508,
          0
         ],
         "yaxis": "y"
        },
        {
         "hovertemplate": "variable=Net migration<br>Year=%{x}<br>value=%{y}<extra></extra>",
         "legendgroup": "Net migration",
         "line": {
          "color": "#FFA15A",
          "dash": "solid"
         },
         "marker": {
          "symbol": "circle"
         },
         "mode": "lines",
         "name": "Net migration",
         "orientation": "v",
         "showlegend": true,
         "type": "scatter",
         "x": [
          1990,
          1991,
          1992,
          1993,
          1994,
          1995,
          1996,
          1997,
          1998,
          1999,
          2000,
          2001,
          2002,
          2003,
          2004,
          2005,
          2006,
          2007,
          2008,
          2009,
          2010,
          2011,
          2012,
          2013,
          2014,
          2015,
          2016,
          2017,
          2018,
          2019,
          2020
         ],
         "xaxis": "x",
         "y": [
          0.7090984556813466,
          0.7090984556813466,
          0.7090984556813466,
          0.7672787645450773,
          0.8254590734088079,
          0.8836393822725386,
          0.9418196911362692,
          1,
          0.8633585710400893,
          0.7267171420801786,
          0.590075713120268,
          0.4534342841603572,
          0.3167928552004465,
          0.2840086447494597,
          0.2512244342984729,
          0.2184402238474859,
          0.1856560133964991,
          0.1528718029455123,
          0.1222974423564098,
          0.0917230817673073,
          0.0611487211782049,
          0.0305743605891024,
          0,
          0.0038414747599078,
          0.0076829495198156,
          0.0115244242797234,
          0.0153658990396312,
          0.0192073737995391,
          0.0192073737995391,
          0.0192073737995391,
          0.0192073737995391
         ],
         "yaxis": "y"
        },
        {
         "hovertemplate": "variable=Ninis<br>Year=%{x}<br>value=%{y}<extra></extra>",
         "legendgroup": "Ninis",
         "line": {
          "color": "#19d3f3",
          "dash": "solid"
         },
         "marker": {
          "symbol": "circle"
         },
         "mode": "lines",
         "name": "Ninis",
         "orientation": "v",
         "showlegend": true,
         "type": "scatter",
         "x": [
          1990,
          1991,
          1992,
          1993,
          1994,
          1995,
          1996,
          1997,
          1998,
          1999,
          2000,
          2001,
          2002,
          2003,
          2004,
          2005,
          2006,
          2007,
          2008,
          2009,
          2010,
          2011,
          2012,
          2013,
          2014,
          2015,
          2016,
          2017,
          2018,
          2019,
          2020
         ],
         "xaxis": "x",
         "y": [
          0.9976743659952744,
          0.9976743659952744,
          0.9976743659952744,
          0.9976743659952744,
          0.9976743659952744,
          0.9976743659952744,
          0.9976743659952744,
          0.9976743659952744,
          0.9976743659952744,
          0.9976743659952744,
          0.9976743659952744,
          0.9976743659952744,
          0.7534881183301085,
          1,
          0.6627906099920996,
          0.3116278595251416,
          0.2674417005738503,
          0.0348836229323626,
          0,
          0.5395346691571534,
          0.4116279038820793,
          0.9441856710250311,
          0.1000000443569368,
          0.2139534491729543,
          0.3000001330708114,
          0.3604652864859088,
          0.7790696488128434,
          0.6465116155282934,
          0.3953489094182724,
          0.1348836672892995,
          0.6604649759873732
         ],
         "yaxis": "y"
        },
        {
         "hovertemplate": "variable=R&D GExp<br>Year=%{x}<br>value=%{y}<extra></extra>",
         "legendgroup": "R&D GExp",
         "line": {
          "color": "#FF6692",
          "dash": "solid"
         },
         "marker": {
          "symbol": "circle"
         },
         "mode": "lines",
         "name": "R&D GExp",
         "orientation": "v",
         "showlegend": true,
         "type": "scatter",
         "x": [
          1990,
          1991,
          1992,
          1993,
          1994,
          1995,
          1996,
          1997,
          1998,
          1999,
          2000,
          2001,
          2002,
          2003,
          2004,
          2005,
          2006,
          2007,
          2008,
          2009,
          2010,
          2011,
          2012,
          2013,
          2014,
          2015,
          2016,
          2017,
          2018,
          2019,
          2020
         ],
         "xaxis": "x",
         "y": [
          0.1217883677543939,
          0.1217883677543939,
          0.1217883677543939,
          0.1217883677543939,
          0.1217883677543939,
          0.1217883677543939,
          0.1217883677543939,
          0.1001538310476875,
          0,
          0.3357117140706314,
          0.4796582986940725,
          0.4255228619120871,
          0.3713874251301017,
          0.3172519883481163,
          0.3533531895394888,
          0.4426079272084574,
          0.5318626648774261,
          0.3006578732039407,
          0.3984878735312407,
          0.8304258174320033,
          0.7146925015546756,
          0.6587241842044972,
          0.947533793735476,
          0.9462573233397704,
          1,
          0.6001701960527608,
          0.6215101626681505,
          0.5698949366674304,
          0.3807154780217981,
          0.3807154780217981,
          0.3807154780217981
         ],
         "yaxis": "y"
        },
        {
         "hovertemplate": "variable=Renewable electricity<br>Year=%{x}<br>value=%{y}<extra></extra>",
         "legendgroup": "Renewable electricity",
         "line": {
          "color": "#B6E880",
          "dash": "solid"
         },
         "marker": {
          "symbol": "circle"
         },
         "mode": "lines",
         "name": "Renewable electricity",
         "orientation": "v",
         "showlegend": true,
         "type": "scatter",
         "x": [
          1990,
          1991,
          1992,
          1993,
          1994,
          1995,
          1996,
          1997,
          1998,
          1999,
          2000,
          2001,
          2002,
          2003,
          2004,
          2005,
          2006,
          2007,
          2008,
          2009,
          2010,
          2011,
          2012,
          2013,
          2014,
          2015,
          2016,
          2017,
          2018,
          2019,
          2020
         ],
         "xaxis": "x",
         "y": [
          0,
          0.0037921880925293,
          0.1839211224876754,
          0.1839211224876754,
          0.1839211224876754,
          0.1839211224876754,
          0.2062950322335988,
          0.2396662874478574,
          0.2597648843382631,
          0.3447098976109215,
          0.4459613196814562,
          0.4501327265832385,
          0.5434205536594615,
          0.4831247629882442,
          0.5635191505498672,
          0.5396283655669322,
          0.5927189988623436,
          0.5912021236253319,
          0.5350777398558969,
          0.6200227531285551,
          0.6370875995449374,
          0.69548729616989,
          0.8005309063329541,
          0.8297307546454304,
          0.931740614334471,
          1,
          1,
          1,
          1,
          1,
          1
         ],
         "yaxis": "y"
        },
        {
         "hovertemplate": "variable=Suicide<br>Year=%{x}<br>value=%{y}<extra></extra>",
         "legendgroup": "Suicide",
         "line": {
          "color": "#FF97FF",
          "dash": "solid"
         },
         "marker": {
          "symbol": "circle"
         },
         "mode": "lines",
         "name": "Suicide",
         "orientation": "v",
         "showlegend": true,
         "type": "scatter",
         "x": [
          1990,
          1991,
          1992,
          1993,
          1994,
          1995,
          1996,
          1997,
          1998,
          1999,
          2000,
          2001,
          2002,
          2003,
          2004,
          2005,
          2006,
          2007,
          2008,
          2009,
          2010,
          2011,
          2012,
          2013,
          2014,
          2015,
          2016,
          2017,
          2018,
          2019,
          2020
         ],
         "xaxis": "x",
         "y": [
          0.375,
          0.375,
          0.375,
          0.375,
          0.375,
          0.375,
          0.375,
          0.375,
          0.375,
          0.375,
          0.375,
          0,
          0.5624999999999999,
          0.84375,
          0.9062499999999998,
          0.4374999999999998,
          1,
          0.15625,
          0.0937499999999999,
          0.1249999999999998,
          0.53125,
          0.53125,
          0.4374999999999998,
          0.46875,
          0.1249999999999998,
          0.46875,
          0.78125,
          0.2812499999999998,
          0.625,
          0.9062499999999998,
          0.9062499999999998
         ],
         "yaxis": "y"
        },
        {
         "hovertemplate": "variable=Workers high education<br>Year=%{x}<br>value=%{y}<extra></extra>",
         "legendgroup": "Workers high education",
         "line": {
          "color": "#FECB52",
          "dash": "solid"
         },
         "marker": {
          "symbol": "circle"
         },
         "mode": "lines",
         "name": "Workers high education",
         "orientation": "v",
         "showlegend": true,
         "type": "scatter",
         "x": [
          1990,
          1991,
          1992,
          1993,
          1994,
          1995,
          1996,
          1997,
          1998,
          1999,
          2000,
          2001,
          2002,
          2003,
          2004,
          2005,
          2006,
          2007,
          2008,
          2009,
          2010,
          2011,
          2012,
          2013,
          2014,
          2015,
          2016,
          2017,
          2018,
          2019,
          2020
         ],
         "xaxis": "x",
         "y": [
          0.924000040690106,
          0.924000040690106,
          0.924000040690106,
          0.924000040690106,
          0.924000040690106,
          0.924000040690106,
          0.924000040690106,
          0.924000040690106,
          0.924000040690106,
          0.924000040690106,
          0.924000040690106,
          0.924000040690106,
          0.9253326416015606,
          0.9413330078125076,
          0.7599995930989603,
          0.8266662597656269,
          1,
          0.9573333740234394,
          0.824000040690106,
          0.7573333740234394,
          0.179999796549481,
          0,
          0.4906667073567727,
          0.7266662597656269,
          0.530666097005214,
          0.5666666666666667,
          0.1079996744791742,
          0.1506663004557329,
          0.1173329671223996,
          0.6533325195312538,
          0.4173329671223996
         ],
         "yaxis": "y"
        }
       ],
       "layout": {
        "height": 600,
        "legend": {
         "title": {
          "text": "variable"
         },
         "tracegroupgap": 0
        },
        "template": {
         "data": {
          "bar": [
           {
            "error_x": {
             "color": "#2a3f5f"
            },
            "error_y": {
             "color": "#2a3f5f"
            },
            "marker": {
             "line": {
              "color": "#E5ECF6",
              "width": 0.5
             },
             "pattern": {
              "fillmode": "overlay",
              "size": 10,
              "solidity": 0.2
             }
            },
            "type": "bar"
           }
          ],
          "barpolar": [
           {
            "marker": {
             "line": {
              "color": "#E5ECF6",
              "width": 0.5
             },
             "pattern": {
              "fillmode": "overlay",
              "size": 10,
              "solidity": 0.2
             }
            },
            "type": "barpolar"
           }
          ],
          "carpet": [
           {
            "aaxis": {
             "endlinecolor": "#2a3f5f",
             "gridcolor": "white",
             "linecolor": "white",
             "minorgridcolor": "white",
             "startlinecolor": "#2a3f5f"
            },
            "baxis": {
             "endlinecolor": "#2a3f5f",
             "gridcolor": "white",
             "linecolor": "white",
             "minorgridcolor": "white",
             "startlinecolor": "#2a3f5f"
            },
            "type": "carpet"
           }
          ],
          "choropleth": [
           {
            "colorbar": {
             "outlinewidth": 0,
             "ticks": ""
            },
            "type": "choropleth"
           }
          ],
          "contour": [
           {
            "colorbar": {
             "outlinewidth": 0,
             "ticks": ""
            },
            "colorscale": [
             [
              0,
              "#0d0887"
             ],
             [
              0.1111111111111111,
              "#46039f"
             ],
             [
              0.2222222222222222,
              "#7201a8"
             ],
             [
              0.3333333333333333,
              "#9c179e"
             ],
             [
              0.4444444444444444,
              "#bd3786"
             ],
             [
              0.5555555555555556,
              "#d8576b"
             ],
             [
              0.6666666666666666,
              "#ed7953"
             ],
             [
              0.7777777777777778,
              "#fb9f3a"
             ],
             [
              0.8888888888888888,
              "#fdca26"
             ],
             [
              1,
              "#f0f921"
             ]
            ],
            "type": "contour"
           }
          ],
          "contourcarpet": [
           {
            "colorbar": {
             "outlinewidth": 0,
             "ticks": ""
            },
            "type": "contourcarpet"
           }
          ],
          "heatmap": [
           {
            "colorbar": {
             "outlinewidth": 0,
             "ticks": ""
            },
            "colorscale": [
             [
              0,
              "#0d0887"
             ],
             [
              0.1111111111111111,
              "#46039f"
             ],
             [
              0.2222222222222222,
              "#7201a8"
             ],
             [
              0.3333333333333333,
              "#9c179e"
             ],
             [
              0.4444444444444444,
              "#bd3786"
             ],
             [
              0.5555555555555556,
              "#d8576b"
             ],
             [
              0.6666666666666666,
              "#ed7953"
             ],
             [
              0.7777777777777778,
              "#fb9f3a"
             ],
             [
              0.8888888888888888,
              "#fdca26"
             ],
             [
              1,
              "#f0f921"
             ]
            ],
            "type": "heatmap"
           }
          ],
          "heatmapgl": [
           {
            "colorbar": {
             "outlinewidth": 0,
             "ticks": ""
            },
            "colorscale": [
             [
              0,
              "#0d0887"
             ],
             [
              0.1111111111111111,
              "#46039f"
             ],
             [
              0.2222222222222222,
              "#7201a8"
             ],
             [
              0.3333333333333333,
              "#9c179e"
             ],
             [
              0.4444444444444444,
              "#bd3786"
             ],
             [
              0.5555555555555556,
              "#d8576b"
             ],
             [
              0.6666666666666666,
              "#ed7953"
             ],
             [
              0.7777777777777778,
              "#fb9f3a"
             ],
             [
              0.8888888888888888,
              "#fdca26"
             ],
             [
              1,
              "#f0f921"
             ]
            ],
            "type": "heatmapgl"
           }
          ],
          "histogram": [
           {
            "marker": {
             "pattern": {
              "fillmode": "overlay",
              "size": 10,
              "solidity": 0.2
             }
            },
            "type": "histogram"
           }
          ],
          "histogram2d": [
           {
            "colorbar": {
             "outlinewidth": 0,
             "ticks": ""
            },
            "colorscale": [
             [
              0,
              "#0d0887"
             ],
             [
              0.1111111111111111,
              "#46039f"
             ],
             [
              0.2222222222222222,
              "#7201a8"
             ],
             [
              0.3333333333333333,
              "#9c179e"
             ],
             [
              0.4444444444444444,
              "#bd3786"
             ],
             [
              0.5555555555555556,
              "#d8576b"
             ],
             [
              0.6666666666666666,
              "#ed7953"
             ],
             [
              0.7777777777777778,
              "#fb9f3a"
             ],
             [
              0.8888888888888888,
              "#fdca26"
             ],
             [
              1,
              "#f0f921"
             ]
            ],
            "type": "histogram2d"
           }
          ],
          "histogram2dcontour": [
           {
            "colorbar": {
             "outlinewidth": 0,
             "ticks": ""
            },
            "colorscale": [
             [
              0,
              "#0d0887"
             ],
             [
              0.1111111111111111,
              "#46039f"
             ],
             [
              0.2222222222222222,
              "#7201a8"
             ],
             [
              0.3333333333333333,
              "#9c179e"
             ],
             [
              0.4444444444444444,
              "#bd3786"
             ],
             [
              0.5555555555555556,
              "#d8576b"
             ],
             [
              0.6666666666666666,
              "#ed7953"
             ],
             [
              0.7777777777777778,
              "#fb9f3a"
             ],
             [
              0.8888888888888888,
              "#fdca26"
             ],
             [
              1,
              "#f0f921"
             ]
            ],
            "type": "histogram2dcontour"
           }
          ],
          "mesh3d": [
           {
            "colorbar": {
             "outlinewidth": 0,
             "ticks": ""
            },
            "type": "mesh3d"
           }
          ],
          "parcoords": [
           {
            "line": {
             "colorbar": {
              "outlinewidth": 0,
              "ticks": ""
             }
            },
            "type": "parcoords"
           }
          ],
          "pie": [
           {
            "automargin": true,
            "type": "pie"
           }
          ],
          "scatter": [
           {
            "fillpattern": {
             "fillmode": "overlay",
             "size": 10,
             "solidity": 0.2
            },
            "type": "scatter"
           }
          ],
          "scatter3d": [
           {
            "line": {
             "colorbar": {
              "outlinewidth": 0,
              "ticks": ""
             }
            },
            "marker": {
             "colorbar": {
              "outlinewidth": 0,
              "ticks": ""
             }
            },
            "type": "scatter3d"
           }
          ],
          "scattercarpet": [
           {
            "marker": {
             "colorbar": {
              "outlinewidth": 0,
              "ticks": ""
             }
            },
            "type": "scattercarpet"
           }
          ],
          "scattergeo": [
           {
            "marker": {
             "colorbar": {
              "outlinewidth": 0,
              "ticks": ""
             }
            },
            "type": "scattergeo"
           }
          ],
          "scattergl": [
           {
            "marker": {
             "colorbar": {
              "outlinewidth": 0,
              "ticks": ""
             }
            },
            "type": "scattergl"
           }
          ],
          "scattermapbox": [
           {
            "marker": {
             "colorbar": {
              "outlinewidth": 0,
              "ticks": ""
             }
            },
            "type": "scattermapbox"
           }
          ],
          "scatterpolar": [
           {
            "marker": {
             "colorbar": {
              "outlinewidth": 0,
              "ticks": ""
             }
            },
            "type": "scatterpolar"
           }
          ],
          "scatterpolargl": [
           {
            "marker": {
             "colorbar": {
              "outlinewidth": 0,
              "ticks": ""
             }
            },
            "type": "scatterpolargl"
           }
          ],
          "scatterternary": [
           {
            "marker": {
             "colorbar": {
              "outlinewidth": 0,
              "ticks": ""
             }
            },
            "type": "scatterternary"
           }
          ],
          "surface": [
           {
            "colorbar": {
             "outlinewidth": 0,
             "ticks": ""
            },
            "colorscale": [
             [
              0,
              "#0d0887"
             ],
             [
              0.1111111111111111,
              "#46039f"
             ],
             [
              0.2222222222222222,
              "#7201a8"
             ],
             [
              0.3333333333333333,
              "#9c179e"
             ],
             [
              0.4444444444444444,
              "#bd3786"
             ],
             [
              0.5555555555555556,
              "#d8576b"
             ],
             [
              0.6666666666666666,
              "#ed7953"
             ],
             [
              0.7777777777777778,
              "#fb9f3a"
             ],
             [
              0.8888888888888888,
              "#fdca26"
             ],
             [
              1,
              "#f0f921"
             ]
            ],
            "type": "surface"
           }
          ],
          "table": [
           {
            "cells": {
             "fill": {
              "color": "#EBF0F8"
             },
             "line": {
              "color": "white"
             }
            },
            "header": {
             "fill": {
              "color": "#C8D4E3"
             },
             "line": {
              "color": "white"
             }
            },
            "type": "table"
           }
          ]
         },
         "layout": {
          "annotationdefaults": {
           "arrowcolor": "#2a3f5f",
           "arrowhead": 0,
           "arrowwidth": 1
          },
          "autotypenumbers": "strict",
          "coloraxis": {
           "colorbar": {
            "outlinewidth": 0,
            "ticks": ""
           }
          },
          "colorscale": {
           "diverging": [
            [
             0,
             "#8e0152"
            ],
            [
             0.1,
             "#c51b7d"
            ],
            [
             0.2,
             "#de77ae"
            ],
            [
             0.3,
             "#f1b6da"
            ],
            [
             0.4,
             "#fde0ef"
            ],
            [
             0.5,
             "#f7f7f7"
            ],
            [
             0.6,
             "#e6f5d0"
            ],
            [
             0.7,
             "#b8e186"
            ],
            [
             0.8,
             "#7fbc41"
            ],
            [
             0.9,
             "#4d9221"
            ],
            [
             1,
             "#276419"
            ]
           ],
           "sequential": [
            [
             0,
             "#0d0887"
            ],
            [
             0.1111111111111111,
             "#46039f"
            ],
            [
             0.2222222222222222,
             "#7201a8"
            ],
            [
             0.3333333333333333,
             "#9c179e"
            ],
            [
             0.4444444444444444,
             "#bd3786"
            ],
            [
             0.5555555555555556,
             "#d8576b"
            ],
            [
             0.6666666666666666,
             "#ed7953"
            ],
            [
             0.7777777777777778,
             "#fb9f3a"
            ],
            [
             0.8888888888888888,
             "#fdca26"
            ],
            [
             1,
             "#f0f921"
            ]
           ],
           "sequentialminus": [
            [
             0,
             "#0d0887"
            ],
            [
             0.1111111111111111,
             "#46039f"
            ],
            [
             0.2222222222222222,
             "#7201a8"
            ],
            [
             0.3333333333333333,
             "#9c179e"
            ],
            [
             0.4444444444444444,
             "#bd3786"
            ],
            [
             0.5555555555555556,
             "#d8576b"
            ],
            [
             0.6666666666666666,
             "#ed7953"
            ],
            [
             0.7777777777777778,
             "#fb9f3a"
            ],
            [
             0.8888888888888888,
             "#fdca26"
            ],
            [
             1,
             "#f0f921"
            ]
           ]
          },
          "colorway": [
           "#636efa",
           "#EF553B",
           "#00cc96",
           "#ab63fa",
           "#FFA15A",
           "#19d3f3",
           "#FF6692",
           "#B6E880",
           "#FF97FF",
           "#FECB52"
          ],
          "font": {
           "color": "#2a3f5f"
          },
          "geo": {
           "bgcolor": "white",
           "lakecolor": "white",
           "landcolor": "#E5ECF6",
           "showlakes": true,
           "showland": true,
           "subunitcolor": "white"
          },
          "hoverlabel": {
           "align": "left"
          },
          "hovermode": "closest",
          "mapbox": {
           "style": "light"
          },
          "paper_bgcolor": "white",
          "plot_bgcolor": "#E5ECF6",
          "polar": {
           "angularaxis": {
            "gridcolor": "white",
            "linecolor": "white",
            "ticks": ""
           },
           "bgcolor": "#E5ECF6",
           "radialaxis": {
            "gridcolor": "white",
            "linecolor": "white",
            "ticks": ""
           }
          },
          "scene": {
           "xaxis": {
            "backgroundcolor": "#E5ECF6",
            "gridcolor": "white",
            "gridwidth": 2,
            "linecolor": "white",
            "showbackground": true,
            "ticks": "",
            "zerolinecolor": "white"
           },
           "yaxis": {
            "backgroundcolor": "#E5ECF6",
            "gridcolor": "white",
            "gridwidth": 2,
            "linecolor": "white",
            "showbackground": true,
            "ticks": "",
            "zerolinecolor": "white"
           },
           "zaxis": {
            "backgroundcolor": "#E5ECF6",
            "gridcolor": "white",
            "gridwidth": 2,
            "linecolor": "white",
            "showbackground": true,
            "ticks": "",
            "zerolinecolor": "white"
           }
          },
          "shapedefaults": {
           "line": {
            "color": "#2a3f5f"
           }
          },
          "ternary": {
           "aaxis": {
            "gridcolor": "white",
            "linecolor": "white",
            "ticks": ""
           },
           "baxis": {
            "gridcolor": "white",
            "linecolor": "white",
            "ticks": ""
           },
           "bgcolor": "#E5ECF6",
           "caxis": {
            "gridcolor": "white",
            "linecolor": "white",
            "ticks": ""
           }
          },
          "title": {
           "x": 0.05
          },
          "xaxis": {
           "automargin": true,
           "gridcolor": "white",
           "linecolor": "white",
           "ticks": "",
           "title": {
            "standoff": 15
           },
           "zerolinecolor": "white",
           "zerolinewidth": 2
          },
          "yaxis": {
           "automargin": true,
           "gridcolor": "white",
           "linecolor": "white",
           "ticks": "",
           "title": {
            "standoff": 15
           },
           "zerolinecolor": "white",
           "zerolinewidth": 2
          }
         }
        },
        "title": {
         "text": "CRI"
        },
        "width": 800,
        "xaxis": {
         "anchor": "y",
         "domain": [
          0,
          1
         ],
         "title": {
          "text": "Year"
         }
        },
        "yaxis": {
         "anchor": "x",
         "domain": [
          0,
          1
         ],
         "title": {
          "text": "value"
         }
        }
       }
      }
     },
     "metadata": {},
     "output_type": "display_data"
    }
   ],
   "source": [
    "for i in range(0,len(latam_list)):\n",
    "    dat=df.loc[df.loc[:, 'Country'] == latam_list[i]]\n",
    "    a=px.line(dat, x=\"Year\", y=myvariables, width=800, height=600,title=latam_list[i])\n",
    "    display(a)"
   ]
  },
  {
   "cell_type": "code",
   "execution_count": 16,
   "metadata": {},
   "outputs": [],
   "source": [
    "columns=['Country','Year','Gender equality','Exports-Commercial services','Renewable electricity','Employment-agriculture','Employment-industry','Employment-services','Exports-G&S','Fertility rate','Foreign investment','GDP','Education GExp','Workers high education','Literacy rate','Mortality-pollution','Net migration','Mortality-infants','Health services use','R&D GExp','Ninis','Suicide','International taxes','Alcohol per capita']\n",
    "clist=df['Country'].unique()"
   ]
  },
  {
   "cell_type": "markdown",
   "metadata": {},
   "source": [
    "The following loop has been created to test if each variable for each country follows a normal distribution and also to present in an orderly manner all the correlations between the GDP and the variables so they can be understood on a lower scale."
   ]
  },
  {
   "cell_type": "code",
   "execution_count": 17,
   "metadata": {},
   "outputs": [],
   "source": [
    "def multcolumn(frame):\n",
    "    for u in range(2, len(columns)):\n",
    "        name2=columns[u]+'.^2'\n",
    "        name3=columns[u]+'.^3'\n",
    "        namelog=columns[u]+'.log'\n",
    "        frame.loc[:,name2] = frame[columns[u]]**2\n",
    "        frame.loc[:,name3] = frame[columns[u]]**3\n",
    "        frame.loc[:,namelog] = np.log(frame[columns[u]])"
   ]
  },
  {
   "cell_type": "code",
   "execution_count": 18,
   "metadata": {},
   "outputs": [
    {
     "name": "stdout",
     "output_type": "stream",
     "text": [
      "MEX-Gender equality\n",
      "Statistical=0.957, p=0.247\n",
      "Data is NORMAL ( H0 not denied )\n",
      "MEX-Exports-Commercial services\n",
      "Statistical=0.734, p=0.000\n",
      "It does NOT seem normal( Denies H0 )\n",
      "MEX-Renewable electricity\n",
      "Statistical=0.964, p=0.361\n",
      "Data is NORMAL ( H0 not denied )\n",
      "MEX-Employment-agriculture\n",
      "Statistical=0.852, p=0.001\n",
      "It does NOT seem normal( Denies H0 )\n",
      "MEX-Employment-industry\n",
      "Statistical=0.960, p=0.291\n",
      "Data is NORMAL ( H0 not denied )\n",
      "MEX-Employment-services\n",
      "Statistical=0.872, p=0.002\n",
      "It does NOT seem normal( Denies H0 )\n",
      "MEX-Exports-G&S\n",
      "Statistical=0.951, p=0.169\n",
      "Data is NORMAL ( H0 not denied )\n",
      "MEX-Fertility rate\n",
      "Statistical=0.927, p=0.036\n",
      "It does NOT seem normal( Denies H0 )\n",
      "MEX-Foreign investment\n",
      "Statistical=0.929, p=0.042\n",
      "It does NOT seem normal( Denies H0 )\n",
      "MEX-GDP\n",
      "Statistical=0.967, p=0.445\n",
      "Data is NORMAL ( H0 not denied )\n",
      "MEX-Education GExp\n",
      "Statistical=0.928, p=0.039\n",
      "It does NOT seem normal( Denies H0 )\n",
      "MEX-Workers high education\n",
      "Statistical=nan, p=1.000\n",
      "Data is NORMAL ( H0 not denied )\n",
      "MEX-Literacy rate\n",
      "Statistical=0.856, p=0.001\n",
      "It does NOT seem normal( Denies H0 )\n",
      "MEX-Mortality-pollution\n",
      "Statistical=0.926, p=0.035\n",
      "It does NOT seem normal( Denies H0 )\n",
      "MEX-Net migration\n",
      "Statistical=0.931, p=0.046\n",
      "It does NOT seem normal( Denies H0 )\n",
      "MEX-Mortality-infants\n",
      "Statistical=0.927, p=0.036\n",
      "It does NOT seem normal( Denies H0 )\n",
      "MEX-Health services use\n",
      "Statistical=nan, p=1.000\n",
      "Data is NORMAL ( H0 not denied )\n",
      "MEX-R&D GExp\n",
      "Statistical=0.780, p=0.000\n",
      "It does NOT seem normal( Denies H0 )\n",
      "MEX-Ninis\n",
      "Statistical=0.751, p=0.000\n",
      "It does NOT seem normal( Denies H0 )\n",
      "MEX-Suicide\n",
      "Statistical=0.928, p=0.038\n",
      "It does NOT seem normal( Denies H0 )\n",
      "MEX-International taxes\n",
      "Statistical=0.862, p=0.001\n",
      "It does NOT seem normal( Denies H0 )\n",
      "MEX-Alcohol per capita\n",
      "Statistical=0.846, p=0.000\n",
      "It does NOT seem normal( Denies H0 )\n",
      "MEX\n"
     ]
    },
    {
     "data": {
      "text/html": [
       "<style type=\"text/css\">\n",
       "#T_16041_row0_col2 {\n",
       "  background-color: #023858;\n",
       "  color: #f1f1f1;\n",
       "}\n",
       "#T_16041_row1_col2 {\n",
       "  background-color: #023a5b;\n",
       "  color: #f1f1f1;\n",
       "}\n",
       "#T_16041_row2_col2 {\n",
       "  background-color: #034165;\n",
       "  color: #f1f1f1;\n",
       "}\n",
       "#T_16041_row3_col2 {\n",
       "  background-color: #03476f;\n",
       "  color: #f1f1f1;\n",
       "}\n",
       "#T_16041_row4_col2 {\n",
       "  background-color: #034973;\n",
       "  color: #f1f1f1;\n",
       "}\n",
       "#T_16041_row5_col2 {\n",
       "  background-color: #045e93;\n",
       "  color: #f1f1f1;\n",
       "}\n",
       "#T_16041_row6_col2 {\n",
       "  background-color: #89b1d4;\n",
       "  color: #000000;\n",
       "}\n",
       "#T_16041_row7_col2 {\n",
       "  background-color: #c9cee4;\n",
       "  color: #000000;\n",
       "}\n",
       "#T_16041_row8_col2 {\n",
       "  background-color: #dcdaeb;\n",
       "  color: #000000;\n",
       "}\n",
       "#T_16041_row9_col2 {\n",
       "  background-color: #fff7fb;\n",
       "  color: #000000;\n",
       "}\n",
       "</style>\n",
       "<table id=\"T_16041\">\n",
       "  <thead>\n",
       "    <tr>\n",
       "      <th class=\"blank level0\" >&nbsp;</th>\n",
       "      <th id=\"T_16041_level0_col0\" class=\"col_heading level0 col0\" >Indicator</th>\n",
       "      <th id=\"T_16041_level0_col1\" class=\"col_heading level0 col1\" >Type</th>\n",
       "      <th id=\"T_16041_level0_col2\" class=\"col_heading level0 col2\" >GDP-R^2</th>\n",
       "      <th id=\"T_16041_level0_col3\" class=\"col_heading level0 col3\" >Behaviour</th>\n",
       "    </tr>\n",
       "  </thead>\n",
       "  <tbody>\n",
       "    <tr>\n",
       "      <th id=\"T_16041_level0_row0\" class=\"row_heading level0 row0\" >2</th>\n",
       "      <td id=\"T_16041_row0_col0\" class=\"data row0 col0\" >Employment-agriculture</td>\n",
       "      <td id=\"T_16041_row0_col1\" class=\"data row0 col1\" >None</td>\n",
       "      <td id=\"T_16041_row0_col2\" class=\"data row0 col2\" >0.921578</td>\n",
       "      <td id=\"T_16041_row0_col3\" class=\"data row0 col3\" >Negative</td>\n",
       "    </tr>\n",
       "    <tr>\n",
       "      <th id=\"T_16041_level0_row1\" class=\"row_heading level0 row1\" >4</th>\n",
       "      <td id=\"T_16041_row1_col0\" class=\"data row1 col0\" >Exports-G&S</td>\n",
       "      <td id=\"T_16041_row1_col1\" class=\"data row1 col1\" >None</td>\n",
       "      <td id=\"T_16041_row1_col2\" class=\"data row1 col2\" >0.920006</td>\n",
       "      <td id=\"T_16041_row1_col3\" class=\"data row1 col3\" >Positive</td>\n",
       "    </tr>\n",
       "    <tr>\n",
       "      <th id=\"T_16041_level0_row2\" class=\"row_heading level0 row2\" >3</th>\n",
       "      <td id=\"T_16041_row2_col0\" class=\"data row2 col0\" >Employment-services</td>\n",
       "      <td id=\"T_16041_row2_col1\" class=\"data row2 col1\" >None</td>\n",
       "      <td id=\"T_16041_row2_col2\" class=\"data row2 col2\" >0.915810</td>\n",
       "      <td id=\"T_16041_row2_col3\" class=\"data row2 col3\" >Positive</td>\n",
       "    </tr>\n",
       "    <tr>\n",
       "      <th id=\"T_16041_level0_row3\" class=\"row_heading level0 row3\" >9</th>\n",
       "      <td id=\"T_16041_row3_col0\" class=\"data row3 col0\" >Mortality-infants</td>\n",
       "      <td id=\"T_16041_row3_col1\" class=\"data row3 col1\" >None</td>\n",
       "      <td id=\"T_16041_row3_col2\" class=\"data row3 col2\" >0.912197</td>\n",
       "      <td id=\"T_16041_row3_col3\" class=\"data row3 col3\" >Negative</td>\n",
       "    </tr>\n",
       "    <tr>\n",
       "      <th id=\"T_16041_level0_row4\" class=\"row_heading level0 row4\" >8</th>\n",
       "      <td id=\"T_16041_row4_col0\" class=\"data row4 col0\" >Literacy rate</td>\n",
       "      <td id=\"T_16041_row4_col1\" class=\"data row4 col1\" >None</td>\n",
       "      <td id=\"T_16041_row4_col2\" class=\"data row4 col2\" >0.910581</td>\n",
       "      <td id=\"T_16041_row4_col3\" class=\"data row4 col3\" >Positive</td>\n",
       "    </tr>\n",
       "    <tr>\n",
       "      <th id=\"T_16041_level0_row5\" class=\"row_heading level0 row5\" >5</th>\n",
       "      <td id=\"T_16041_row5_col0\" class=\"data row5 col0\" >Fertility rate</td>\n",
       "      <td id=\"T_16041_row5_col1\" class=\"data row5 col1\" >None</td>\n",
       "      <td id=\"T_16041_row5_col2\" class=\"data row5 col2\" >0.896893</td>\n",
       "      <td id=\"T_16041_row5_col3\" class=\"data row5 col3\" >Negative</td>\n",
       "    </tr>\n",
       "    <tr>\n",
       "      <th id=\"T_16041_level0_row6\" class=\"row_heading level0 row6\" >11</th>\n",
       "      <td id=\"T_16041_row6_col0\" class=\"data row6 col0\" >Net migration</td>\n",
       "      <td id=\"T_16041_row6_col1\" class=\"data row6 col1\" >Cuadratic</td>\n",
       "      <td id=\"T_16041_row6_col2\" class=\"data row6 col2\" >0.828048</td>\n",
       "      <td id=\"T_16041_row6_col3\" class=\"data row6 col3\" >Positive</td>\n",
       "    </tr>\n",
       "    <tr>\n",
       "      <th id=\"T_16041_level0_row7\" class=\"row_heading level0 row7\" >7</th>\n",
       "      <td id=\"T_16041_row7_col0\" class=\"data row7 col0\" >Health services use</td>\n",
       "      <td id=\"T_16041_row7_col1\" class=\"data row7 col1\" >None</td>\n",
       "      <td id=\"T_16041_row7_col2\" class=\"data row7 col2\" >0.798128</td>\n",
       "      <td id=\"T_16041_row7_col3\" class=\"data row7 col3\" >Positive</td>\n",
       "    </tr>\n",
       "    <tr>\n",
       "      <th id=\"T_16041_level0_row8\" class=\"row_heading level0 row8\" >10</th>\n",
       "      <td id=\"T_16041_row8_col0\" class=\"data row8 col0\" >Suicide</td>\n",
       "      <td id=\"T_16041_row8_col1\" class=\"data row8 col1\" >None</td>\n",
       "      <td id=\"T_16041_row8_col2\" class=\"data row8 col2\" >0.785826</td>\n",
       "      <td id=\"T_16041_row8_col3\" class=\"data row8 col3\" >Positive</td>\n",
       "    </tr>\n",
       "    <tr>\n",
       "      <th id=\"T_16041_level0_row9\" class=\"row_heading level0 row9\" >12</th>\n",
       "      <td id=\"T_16041_row9_col0\" class=\"data row9 col0\" >Alcohol per capita</td>\n",
       "      <td id=\"T_16041_row9_col1\" class=\"data row9 col1\" >Cuadratic</td>\n",
       "      <td id=\"T_16041_row9_col2\" class=\"data row9 col2\" >0.752071</td>\n",
       "      <td id=\"T_16041_row9_col3\" class=\"data row9 col3\" >Negative</td>\n",
       "    </tr>\n",
       "  </tbody>\n",
       "</table>\n"
      ],
      "text/plain": [
       "<pandas.io.formats.style.Styler at 0x1e547ee5960>"
      ]
     },
     "metadata": {},
     "output_type": "display_data"
    },
    {
     "name": "stdout",
     "output_type": "stream",
     "text": [
      "BRA-Gender equality\n",
      "Statistical=0.957, p=0.229\n",
      "Data is NORMAL ( H0 not denied )\n",
      "BRA-Exports-Commercial services\n",
      "Statistical=0.824, p=0.000\n",
      "It does NOT seem normal( Denies H0 )\n",
      "BRA-Renewable electricity\n",
      "Statistical=0.875, p=0.002\n",
      "It does NOT seem normal( Denies H0 )\n",
      "BRA-Employment-agriculture\n",
      "Statistical=0.904, p=0.008\n",
      "It does NOT seem normal( Denies H0 )\n",
      "BRA-Employment-industry\n",
      "Statistical=0.890, p=0.003\n",
      "It does NOT seem normal( Denies H0 )\n",
      "BRA-Employment-services\n",
      "Statistical=0.932, p=0.045\n",
      "It does NOT seem normal( Denies H0 )\n",
      "BRA-Exports-G&S\n",
      "Statistical=0.846, p=0.000\n",
      "It does NOT seem normal( Denies H0 )\n",
      "BRA-Fertility rate\n",
      "Statistical=0.866, p=0.001\n",
      "It does NOT seem normal( Denies H0 )\n",
      "BRA-Foreign investment\n",
      "Statistical=0.861, p=0.001\n",
      "It does NOT seem normal( Denies H0 )\n",
      "BRA-GDP\n",
      "Statistical=0.937, p=0.062\n",
      "Data is NORMAL ( H0 not denied )\n",
      "BRA-Education GExp\n",
      "Statistical=0.907, p=0.009\n",
      "It does NOT seem normal( Denies H0 )\n",
      "BRA-Workers high education\n",
      "Statistical=nan, p=1.000\n",
      "Data is NORMAL ( H0 not denied )\n",
      "BRA-Literacy rate\n",
      "Statistical=0.856, p=0.001\n",
      "It does NOT seem normal( Denies H0 )\n",
      "BRA-Mortality-pollution\n",
      "Statistical=0.672, p=0.000\n",
      "It does NOT seem normal( Denies H0 )\n",
      "BRA-Net migration\n",
      "Statistical=0.785, p=0.000\n",
      "It does NOT seem normal( Denies H0 )\n",
      "BRA-Mortality-infants\n",
      "Statistical=0.861, p=0.001\n",
      "It does NOT seem normal( Denies H0 )\n",
      "BRA-Health services use\n",
      "Statistical=nan, p=1.000\n",
      "Data is NORMAL ( H0 not denied )\n",
      "BRA-R&D GExp\n",
      "Statistical=0.679, p=0.000\n",
      "It does NOT seem normal( Denies H0 )\n",
      "BRA-Ninis\n",
      "Statistical=0.834, p=0.000\n",
      "It does NOT seem normal( Denies H0 )\n",
      "BRA-Suicide\n",
      "Statistical=0.906, p=0.009\n",
      "It does NOT seem normal( Denies H0 )\n",
      "BRA-International taxes\n",
      "Statistical=0.797, p=0.000\n",
      "It does NOT seem normal( Denies H0 )\n",
      "BRA-Alcohol per capita\n",
      "Statistical=0.842, p=0.000\n",
      "It does NOT seem normal( Denies H0 )\n",
      "BRA\n"
     ]
    },
    {
     "data": {
      "text/html": [
       "<style type=\"text/css\">\n",
       "#T_d0a53_row0_col2 {\n",
       "  background-color: #023858;\n",
       "  color: #f1f1f1;\n",
       "}\n",
       "#T_d0a53_row1_col2 {\n",
       "  background-color: #023d60;\n",
       "  color: #f1f1f1;\n",
       "}\n",
       "#T_d0a53_row2_col2 {\n",
       "  background-color: #dedcec;\n",
       "  color: #000000;\n",
       "}\n",
       "#T_d0a53_row3_col2 {\n",
       "  background-color: #ece7f2;\n",
       "  color: #000000;\n",
       "}\n",
       "#T_d0a53_row4_col2 {\n",
       "  background-color: #f1ebf4;\n",
       "  color: #000000;\n",
       "}\n",
       "#T_d0a53_row5_col2 {\n",
       "  background-color: #fff7fb;\n",
       "  color: #000000;\n",
       "}\n",
       "</style>\n",
       "<table id=\"T_d0a53\">\n",
       "  <thead>\n",
       "    <tr>\n",
       "      <th class=\"blank level0\" >&nbsp;</th>\n",
       "      <th id=\"T_d0a53_level0_col0\" class=\"col_heading level0 col0\" >Indicator</th>\n",
       "      <th id=\"T_d0a53_level0_col1\" class=\"col_heading level0 col1\" >Type</th>\n",
       "      <th id=\"T_d0a53_level0_col2\" class=\"col_heading level0 col2\" >GDP-R^2</th>\n",
       "      <th id=\"T_d0a53_level0_col3\" class=\"col_heading level0 col3\" >Behaviour</th>\n",
       "    </tr>\n",
       "  </thead>\n",
       "  <tbody>\n",
       "    <tr>\n",
       "      <th id=\"T_d0a53_level0_row0\" class=\"row_heading level0 row0\" >5</th>\n",
       "      <td id=\"T_d0a53_row0_col0\" class=\"data row0 col0\" >Exports-G&S</td>\n",
       "      <td id=\"T_d0a53_row0_col1\" class=\"data row0 col1\" >Cuadratic</td>\n",
       "      <td id=\"T_d0a53_row0_col2\" class=\"data row0 col2\" >0.910308</td>\n",
       "      <td id=\"T_d0a53_row0_col3\" class=\"data row0 col3\" >Positive</td>\n",
       "    </tr>\n",
       "    <tr>\n",
       "      <th id=\"T_d0a53_level0_row1\" class=\"row_heading level0 row1\" >0</th>\n",
       "      <td id=\"T_d0a53_row1_col0\" class=\"data row1 col0\" >Exports-Commercial services</td>\n",
       "      <td id=\"T_d0a53_row1_col1\" class=\"data row1 col1\" >None</td>\n",
       "      <td id=\"T_d0a53_row1_col2\" class=\"data row1 col2\" >0.906864</td>\n",
       "      <td id=\"T_d0a53_row1_col3\" class=\"data row1 col3\" >Positive</td>\n",
       "    </tr>\n",
       "    <tr>\n",
       "      <th id=\"T_d0a53_level0_row2\" class=\"row_heading level0 row2\" >1</th>\n",
       "      <td id=\"T_d0a53_row2_col0\" class=\"data row2 col0\" >Foreign investment</td>\n",
       "      <td id=\"T_d0a53_row2_col1\" class=\"data row2 col1\" >None</td>\n",
       "      <td id=\"T_d0a53_row2_col2\" class=\"data row2 col2\" >0.785408</td>\n",
       "      <td id=\"T_d0a53_row2_col3\" class=\"data row2 col3\" >Negative</td>\n",
       "    </tr>\n",
       "    <tr>\n",
       "      <th id=\"T_d0a53_level0_row3\" class=\"row_heading level0 row3\" >6</th>\n",
       "      <td id=\"T_d0a53_row3_col0\" class=\"data row3 col0\" >Fertility rate</td>\n",
       "      <td id=\"T_d0a53_row3_col1\" class=\"data row3 col1\" >Logarithmic</td>\n",
       "      <td id=\"T_d0a53_row3_col2\" class=\"data row3 col2\" >0.775957</td>\n",
       "      <td id=\"T_d0a53_row3_col3\" class=\"data row3 col3\" >Negative</td>\n",
       "    </tr>\n",
       "    <tr>\n",
       "      <th id=\"T_d0a53_level0_row4\" class=\"row_heading level0 row4\" >4</th>\n",
       "      <td id=\"T_d0a53_row4_col0\" class=\"data row4 col0\" >Employment-agriculture</td>\n",
       "      <td id=\"T_d0a53_row4_col1\" class=\"data row4 col1\" >Cuadratic</td>\n",
       "      <td id=\"T_d0a53_row4_col2\" class=\"data row4 col2\" >0.770973</td>\n",
       "      <td id=\"T_d0a53_row4_col3\" class=\"data row4 col3\" >Negative</td>\n",
       "    </tr>\n",
       "    <tr>\n",
       "      <th id=\"T_d0a53_level0_row5\" class=\"row_heading level0 row5\" >3</th>\n",
       "      <td id=\"T_d0a53_row5_col0\" class=\"data row5 col0\" >Renewable electricity</td>\n",
       "      <td id=\"T_d0a53_row5_col1\" class=\"data row5 col1\" >None</td>\n",
       "      <td id=\"T_d0a53_row5_col2\" class=\"data row5 col2\" >0.756093</td>\n",
       "      <td id=\"T_d0a53_row5_col3\" class=\"data row5 col3\" >Positive</td>\n",
       "    </tr>\n",
       "  </tbody>\n",
       "</table>\n"
      ],
      "text/plain": [
       "<pandas.io.formats.style.Styler at 0x1e547ee5c60>"
      ]
     },
     "metadata": {},
     "output_type": "display_data"
    },
    {
     "name": "stdout",
     "output_type": "stream",
     "text": [
      "ARG-Gender equality\n",
      "Statistical=0.957, p=0.247\n",
      "Data is NORMAL ( H0 not denied )\n",
      "ARG-Exports-Commercial services\n",
      "Statistical=0.767, p=0.000\n",
      "It does NOT seem normal( Denies H0 )\n",
      "ARG-Renewable electricity\n",
      "Statistical=0.879, p=0.002\n",
      "It does NOT seem normal( Denies H0 )\n",
      "ARG-Employment-agriculture\n",
      "Statistical=0.956, p=0.227\n",
      "Data is NORMAL ( H0 not denied )\n",
      "ARG-Employment-industry\n",
      "Statistical=0.915, p=0.017\n",
      "It does NOT seem normal( Denies H0 )\n",
      "ARG-Employment-services\n",
      "Statistical=0.932, p=0.048\n",
      "It does NOT seem normal( Denies H0 )\n",
      "ARG-Exports-G&S\n",
      "Statistical=0.864, p=0.001\n",
      "It does NOT seem normal( Denies H0 )\n",
      "ARG-Fertility rate\n",
      "Statistical=0.907, p=0.011\n",
      "It does NOT seem normal( Denies H0 )\n",
      "ARG-Foreign investment\n",
      "Statistical=0.880, p=0.002\n",
      "It does NOT seem normal( Denies H0 )\n",
      "ARG-GDP\n",
      "Statistical=0.898, p=0.006\n",
      "It does NOT seem normal( Denies H0 )\n",
      "ARG-Education GExp\n",
      "Statistical=0.931, p=0.047\n",
      "It does NOT seem normal( Denies H0 )\n",
      "ARG-Workers high education\n",
      "Statistical=nan, p=1.000\n",
      "Data is NORMAL ( H0 not denied )\n",
      "ARG-Literacy rate\n",
      "Statistical=0.827, p=0.000\n",
      "It does NOT seem normal( Denies H0 )\n",
      "ARG-Mortality-pollution\n",
      "Statistical=0.776, p=0.000\n",
      "It does NOT seem normal( Denies H0 )\n",
      "ARG-Net migration\n",
      "Statistical=0.745, p=0.000\n",
      "It does NOT seem normal( Denies H0 )\n",
      "ARG-Mortality-infants\n",
      "Statistical=0.954, p=0.204\n",
      "Data is NORMAL ( H0 not denied )\n",
      "ARG-Health services use\n",
      "Statistical=nan, p=1.000\n",
      "Data is NORMAL ( H0 not denied )\n",
      "ARG-R&D GExp\n",
      "Statistical=0.737, p=0.000\n",
      "It does NOT seem normal( Denies H0 )\n",
      "ARG-Ninis\n",
      "Statistical=0.772, p=0.000\n",
      "It does NOT seem normal( Denies H0 )\n",
      "ARG-Suicide\n",
      "Statistical=0.843, p=0.000\n",
      "It does NOT seem normal( Denies H0 )\n",
      "ARG-International taxes\n",
      "Statistical=0.871, p=0.001\n",
      "It does NOT seem normal( Denies H0 )\n",
      "ARG-Alcohol per capita\n",
      "Statistical=0.909, p=0.012\n",
      "It does NOT seem normal( Denies H0 )\n",
      "ARG\n"
     ]
    },
    {
     "data": {
      "text/html": [
       "<style type=\"text/css\">\n",
       "#T_cf25a_row0_col2 {\n",
       "  background-color: #023858;\n",
       "  color: #f1f1f1;\n",
       "}\n",
       "#T_cf25a_row1_col2 {\n",
       "  background-color: #045687;\n",
       "  color: #f1f1f1;\n",
       "}\n",
       "#T_cf25a_row2_col2 {\n",
       "  background-color: #04588a;\n",
       "  color: #f1f1f1;\n",
       "}\n",
       "#T_cf25a_row3_col2 {\n",
       "  background-color: #4496c3;\n",
       "  color: #f1f1f1;\n",
       "}\n",
       "#T_cf25a_row4_col2 {\n",
       "  background-color: #dfddec;\n",
       "  color: #000000;\n",
       "}\n",
       "#T_cf25a_row5_col2 {\n",
       "  background-color: #fff7fb;\n",
       "  color: #000000;\n",
       "}\n",
       "</style>\n",
       "<table id=\"T_cf25a\">\n",
       "  <thead>\n",
       "    <tr>\n",
       "      <th class=\"blank level0\" >&nbsp;</th>\n",
       "      <th id=\"T_cf25a_level0_col0\" class=\"col_heading level0 col0\" >Indicator</th>\n",
       "      <th id=\"T_cf25a_level0_col1\" class=\"col_heading level0 col1\" >Type</th>\n",
       "      <th id=\"T_cf25a_level0_col2\" class=\"col_heading level0 col2\" >GDP-R^2</th>\n",
       "      <th id=\"T_cf25a_level0_col3\" class=\"col_heading level0 col3\" >Behaviour</th>\n",
       "    </tr>\n",
       "  </thead>\n",
       "  <tbody>\n",
       "    <tr>\n",
       "      <th id=\"T_cf25a_level0_row0\" class=\"row_heading level0 row0\" >1</th>\n",
       "      <td id=\"T_cf25a_row0_col0\" class=\"data row0 col0\" >Literacy rate</td>\n",
       "      <td id=\"T_cf25a_row0_col1\" class=\"data row0 col1\" >None</td>\n",
       "      <td id=\"T_cf25a_row0_col2\" class=\"data row0 col2\" >0.843882</td>\n",
       "      <td id=\"T_cf25a_row0_col3\" class=\"data row0 col3\" >Positive</td>\n",
       "    </tr>\n",
       "    <tr>\n",
       "      <th id=\"T_cf25a_level0_row1\" class=\"row_heading level0 row1\" >3</th>\n",
       "      <td id=\"T_cf25a_row1_col0\" class=\"data row1 col0\" >Exports-Commercial services</td>\n",
       "      <td id=\"T_cf25a_row1_col1\" class=\"data row1 col1\" >Cuadratic</td>\n",
       "      <td id=\"T_cf25a_row1_col2\" class=\"data row1 col2\" >0.835598</td>\n",
       "      <td id=\"T_cf25a_row1_col3\" class=\"data row1 col3\" >Positive</td>\n",
       "    </tr>\n",
       "    <tr>\n",
       "      <th id=\"T_cf25a_level0_row2\" class=\"row_heading level0 row2\" >6</th>\n",
       "      <td id=\"T_cf25a_row2_col0\" class=\"data row2 col0\" >Alcohol per capita</td>\n",
       "      <td id=\"T_cf25a_row2_col1\" class=\"data row2 col1\" >Logarithmic</td>\n",
       "      <td id=\"T_cf25a_row2_col2\" class=\"data row2 col2\" >0.835137</td>\n",
       "      <td id=\"T_cf25a_row2_col3\" class=\"data row2 col3\" >Positive</td>\n",
       "    </tr>\n",
       "    <tr>\n",
       "      <th id=\"T_cf25a_level0_row3\" class=\"row_heading level0 row3\" >2</th>\n",
       "      <td id=\"T_cf25a_row3_col0\" class=\"data row3 col0\" >Net migration</td>\n",
       "      <td id=\"T_cf25a_row3_col1\" class=\"data row3 col1\" >None</td>\n",
       "      <td id=\"T_cf25a_row3_col2\" class=\"data row3 col2\" >0.814017</td>\n",
       "      <td id=\"T_cf25a_row3_col3\" class=\"data row3 col3\" >Positive</td>\n",
       "    </tr>\n",
       "    <tr>\n",
       "      <th id=\"T_cf25a_level0_row4\" class=\"row_heading level0 row4\" >5</th>\n",
       "      <td id=\"T_cf25a_row4_col0\" class=\"data row4 col0\" >R&D GExp</td>\n",
       "      <td id=\"T_cf25a_row4_col1\" class=\"data row4 col1\" >Logarithmic</td>\n",
       "      <td id=\"T_cf25a_row4_col2\" class=\"data row4 col2\" >0.783710</td>\n",
       "      <td id=\"T_cf25a_row4_col3\" class=\"data row4 col3\" >Positive</td>\n",
       "    </tr>\n",
       "    <tr>\n",
       "      <th id=\"T_cf25a_level0_row5\" class=\"row_heading level0 row5\" >4</th>\n",
       "      <td id=\"T_cf25a_row5_col0\" class=\"data row5 col0\" >Renewable electricity</td>\n",
       "      <td id=\"T_cf25a_row5_col1\" class=\"data row5 col1\" >Cubic</td>\n",
       "      <td id=\"T_cf25a_row5_col2\" class=\"data row5 col2\" >0.769916</td>\n",
       "      <td id=\"T_cf25a_row5_col3\" class=\"data row5 col3\" >Positive</td>\n",
       "    </tr>\n",
       "  </tbody>\n",
       "</table>\n"
      ],
      "text/plain": [
       "<pandas.io.formats.style.Styler at 0x1e547133fa0>"
      ]
     },
     "metadata": {},
     "output_type": "display_data"
    },
    {
     "name": "stdout",
     "output_type": "stream",
     "text": [
      "PER-Gender equality\n",
      "Statistical=0.957, p=0.229\n",
      "Data is NORMAL ( H0 not denied )\n",
      "PER-Exports-Commercial services\n",
      "Statistical=0.918, p=0.018\n",
      "It does NOT seem normal( Denies H0 )\n",
      "PER-Renewable electricity\n",
      "Statistical=0.866, p=0.001\n",
      "It does NOT seem normal( Denies H0 )\n",
      "PER-Employment-agriculture\n",
      "Statistical=0.811, p=0.000\n",
      "It does NOT seem normal( Denies H0 )\n",
      "PER-Employment-industry\n",
      "Statistical=0.951, p=0.154\n",
      "Data is NORMAL ( H0 not denied )\n",
      "PER-Employment-services\n",
      "Statistical=0.904, p=0.008\n",
      "It does NOT seem normal( Denies H0 )\n",
      "PER-Exports-G&S\n",
      "Statistical=0.861, p=0.001\n",
      "It does NOT seem normal( Denies H0 )\n",
      "PER-Fertility rate\n",
      "Statistical=0.848, p=0.000\n",
      "It does NOT seem normal( Denies H0 )\n",
      "PER-Foreign investment\n",
      "Statistical=0.905, p=0.008\n",
      "It does NOT seem normal( Denies H0 )\n",
      "PER-GDP\n",
      "Statistical=0.915, p=0.015\n",
      "It does NOT seem normal( Denies H0 )\n",
      "PER-Education GExp\n",
      "Statistical=0.845, p=0.000\n",
      "It does NOT seem normal( Denies H0 )\n",
      "PER-Workers high education\n",
      "Statistical=nan, p=1.000\n",
      "Data is NORMAL ( H0 not denied )\n",
      "PER-Literacy rate\n",
      "Statistical=0.858, p=0.001\n",
      "It does NOT seem normal( Denies H0 )\n",
      "PER-Mortality-pollution\n",
      "Statistical=0.936, p=0.058\n",
      "Data is NORMAL ( H0 not denied )\n",
      "PER-Net migration\n",
      "Statistical=0.772, p=0.000\n",
      "It does NOT seem normal( Denies H0 )\n",
      "PER-Mortality-infants\n",
      "Statistical=0.865, p=0.001\n",
      "It does NOT seem normal( Denies H0 )\n",
      "PER-Health services use\n",
      "Statistical=nan, p=1.000\n",
      "Data is NORMAL ( H0 not denied )\n",
      "PER-R&D GExp\n",
      "Statistical=0.919, p=0.019\n",
      "It does NOT seem normal( Denies H0 )\n",
      "PER-Ninis\n",
      "Statistical=0.854, p=0.001\n",
      "It does NOT seem normal( Denies H0 )\n",
      "PER-Suicide\n",
      "Statistical=0.873, p=0.001\n",
      "It does NOT seem normal( Denies H0 )\n",
      "PER-International taxes\n",
      "Statistical=0.770, p=0.000\n",
      "It does NOT seem normal( Denies H0 )\n",
      "PER-Alcohol per capita\n",
      "Statistical=0.924, p=0.026\n",
      "It does NOT seem normal( Denies H0 )\n",
      "PER\n"
     ]
    },
    {
     "data": {
      "text/html": [
       "<style type=\"text/css\">\n",
       "#T_1e857_row0_col2 {\n",
       "  background-color: #023858;\n",
       "  color: #f1f1f1;\n",
       "}\n",
       "#T_1e857_row1_col2 {\n",
       "  background-color: #045687;\n",
       "  color: #f1f1f1;\n",
       "}\n",
       "#T_1e857_row2_col2 {\n",
       "  background-color: #0569a4;\n",
       "  color: #f1f1f1;\n",
       "}\n",
       "#T_1e857_row3_col2 {\n",
       "  background-color: #0569a5;\n",
       "  color: #f1f1f1;\n",
       "}\n",
       "#T_1e857_row4_col2 {\n",
       "  background-color: #2a88bc;\n",
       "  color: #f1f1f1;\n",
       "}\n",
       "#T_1e857_row5_col2 {\n",
       "  background-color: #63a2cb;\n",
       "  color: #f1f1f1;\n",
       "}\n",
       "#T_1e857_row6_col2 {\n",
       "  background-color: #83afd3;\n",
       "  color: #f1f1f1;\n",
       "}\n",
       "#T_1e857_row7_col2 {\n",
       "  background-color: #d9d8ea;\n",
       "  color: #000000;\n",
       "}\n",
       "#T_1e857_row8_col2 {\n",
       "  background-color: #fff7fb;\n",
       "  color: #000000;\n",
       "}\n",
       "</style>\n",
       "<table id=\"T_1e857\">\n",
       "  <thead>\n",
       "    <tr>\n",
       "      <th class=\"blank level0\" >&nbsp;</th>\n",
       "      <th id=\"T_1e857_level0_col0\" class=\"col_heading level0 col0\" >Indicator</th>\n",
       "      <th id=\"T_1e857_level0_col1\" class=\"col_heading level0 col1\" >Type</th>\n",
       "      <th id=\"T_1e857_level0_col2\" class=\"col_heading level0 col2\" >GDP-R^2</th>\n",
       "      <th id=\"T_1e857_level0_col3\" class=\"col_heading level0 col3\" >Behaviour</th>\n",
       "    </tr>\n",
       "  </thead>\n",
       "  <tbody>\n",
       "    <tr>\n",
       "      <th id=\"T_1e857_level0_row0\" class=\"row_heading level0 row0\" >7</th>\n",
       "      <td id=\"T_1e857_row0_col0\" class=\"data row0 col0\" >Literacy rate</td>\n",
       "      <td id=\"T_1e857_row0_col1\" class=\"data row0 col1\" >None</td>\n",
       "      <td id=\"T_1e857_row0_col2\" class=\"data row0 col2\" >0.981591</td>\n",
       "      <td id=\"T_1e857_row0_col3\" class=\"data row0 col3\" >Positive</td>\n",
       "    </tr>\n",
       "    <tr>\n",
       "      <th id=\"T_1e857_level0_row1\" class=\"row_heading level0 row1\" >8</th>\n",
       "      <td id=\"T_1e857_row1_col0\" class=\"data row1 col0\" >Renewable electricity</td>\n",
       "      <td id=\"T_1e857_row1_col1\" class=\"data row1 col1\" >Cuadratic</td>\n",
       "      <td id=\"T_1e857_row1_col2\" class=\"data row1 col2\" >0.964792</td>\n",
       "      <td id=\"T_1e857_row1_col3\" class=\"data row1 col3\" >Positive</td>\n",
       "    </tr>\n",
       "    <tr>\n",
       "      <th id=\"T_1e857_level0_row2\" class=\"row_heading level0 row2\" >6</th>\n",
       "      <td id=\"T_1e857_row2_col0\" class=\"data row2 col0\" >Health services use</td>\n",
       "      <td id=\"T_1e857_row2_col1\" class=\"data row2 col1\" >None</td>\n",
       "      <td id=\"T_1e857_row2_col2\" class=\"data row2 col2\" >0.950532</td>\n",
       "      <td id=\"T_1e857_row2_col3\" class=\"data row2 col3\" >Positive</td>\n",
       "    </tr>\n",
       "    <tr>\n",
       "      <th id=\"T_1e857_level0_row3\" class=\"row_heading level0 row3\" >4</th>\n",
       "      <td id=\"T_1e857_row3_col0\" class=\"data row3 col0\" >Exports-G&S</td>\n",
       "      <td id=\"T_1e857_row3_col1\" class=\"data row3 col1\" >None</td>\n",
       "      <td id=\"T_1e857_row3_col2\" class=\"data row3 col2\" >0.949986</td>\n",
       "      <td id=\"T_1e857_row3_col3\" class=\"data row3 col3\" >Positive</td>\n",
       "    </tr>\n",
       "    <tr>\n",
       "      <th id=\"T_1e857_level0_row4\" class=\"row_heading level0 row4\" >9</th>\n",
       "      <td id=\"T_1e857_row4_col0\" class=\"data row4 col0\" >Employment-services</td>\n",
       "      <td id=\"T_1e857_row4_col1\" class=\"data row4 col1\" >Cuadratic</td>\n",
       "      <td id=\"T_1e857_row4_col2\" class=\"data row4 col2\" >0.929864</td>\n",
       "      <td id=\"T_1e857_row4_col3\" class=\"data row4 col3\" >Positive</td>\n",
       "    </tr>\n",
       "    <tr>\n",
       "      <th id=\"T_1e857_level0_row5\" class=\"row_heading level0 row5\" >11</th>\n",
       "      <td id=\"T_1e857_row5_col0\" class=\"data row5 col0\" >Mortality-infants</td>\n",
       "      <td id=\"T_1e857_row5_col1\" class=\"data row5 col1\" >Logarithmic</td>\n",
       "      <td id=\"T_1e857_row5_col2\" class=\"data row5 col2\" >0.912324</td>\n",
       "      <td id=\"T_1e857_row5_col3\" class=\"data row5 col3\" >Negative</td>\n",
       "    </tr>\n",
       "    <tr>\n",
       "      <th id=\"T_1e857_level0_row6\" class=\"row_heading level0 row6\" >2</th>\n",
       "      <td id=\"T_1e857_row6_col0\" class=\"data row6 col0\" >Employment-agriculture</td>\n",
       "      <td id=\"T_1e857_row6_col1\" class=\"data row6 col1\" >None</td>\n",
       "      <td id=\"T_1e857_row6_col2\" class=\"data row6 col2\" >0.901629</td>\n",
       "      <td id=\"T_1e857_row6_col3\" class=\"data row6 col3\" >Negative</td>\n",
       "    </tr>\n",
       "    <tr>\n",
       "      <th id=\"T_1e857_level0_row7\" class=\"row_heading level0 row7\" >10</th>\n",
       "      <td id=\"T_1e857_row7_col0\" class=\"data row7 col0\" >Fertility rate</td>\n",
       "      <td id=\"T_1e857_row7_col1\" class=\"data row7 col1\" >Logarithmic</td>\n",
       "      <td id=\"T_1e857_row7_col2\" class=\"data row7 col2\" >0.863525</td>\n",
       "      <td id=\"T_1e857_row7_col3\" class=\"data row7 col3\" >Negative</td>\n",
       "    </tr>\n",
       "    <tr>\n",
       "      <th id=\"T_1e857_level0_row8\" class=\"row_heading level0 row8\" >3</th>\n",
       "      <td id=\"T_1e857_row8_col0\" class=\"data row8 col0\" >Exports-Commercial services</td>\n",
       "      <td id=\"T_1e857_row8_col1\" class=\"data row8 col1\" >None</td>\n",
       "      <td id=\"T_1e857_row8_col2\" class=\"data row8 col2\" >0.832625</td>\n",
       "      <td id=\"T_1e857_row8_col3\" class=\"data row8 col3\" >Positive</td>\n",
       "    </tr>\n",
       "  </tbody>\n",
       "</table>\n"
      ],
      "text/plain": [
       "<pandas.io.formats.style.Styler at 0x1e543877910>"
      ]
     },
     "metadata": {},
     "output_type": "display_data"
    },
    {
     "name": "stdout",
     "output_type": "stream",
     "text": [
      "VEN-Gender equality\n",
      "Statistical=0.957, p=0.247\n",
      "Data is NORMAL ( H0 not denied )\n",
      "VEN-Exports-Commercial services\n",
      "Statistical=0.683, p=0.000\n",
      "It does NOT seem normal( Denies H0 )\n",
      "VEN-Renewable electricity\n",
      "Statistical=0.407, p=0.000\n",
      "It does NOT seem normal( Denies H0 )\n",
      "VEN-Employment-agriculture\n",
      "Statistical=0.909, p=0.012\n",
      "It does NOT seem normal( Denies H0 )\n",
      "VEN-Employment-industry\n",
      "Statistical=0.959, p=0.272\n",
      "Data is NORMAL ( H0 not denied )\n",
      "VEN-Employment-services\n",
      "Statistical=0.958, p=0.263\n",
      "Data is NORMAL ( H0 not denied )\n",
      "VEN-Exports-G&S\n",
      "Statistical=0.946, p=0.119\n",
      "Data is NORMAL ( H0 not denied )\n",
      "VEN-Fertility rate\n",
      "Statistical=0.874, p=0.002\n",
      "It does NOT seem normal( Denies H0 )\n",
      "VEN-Foreign investment\n",
      "Statistical=0.936, p=0.066\n",
      "Data is NORMAL ( H0 not denied )\n",
      "VEN-GDP\n",
      "Statistical=0.941, p=0.087\n",
      "Data is NORMAL ( H0 not denied )\n",
      "VEN-Education GExp\n",
      "Statistical=0.818, p=0.000\n",
      "It does NOT seem normal( Denies H0 )\n",
      "VEN-Workers high education\n",
      "Statistical=nan, p=1.000\n",
      "Data is NORMAL ( H0 not denied )\n",
      "VEN-Literacy rate\n",
      "Statistical=0.781, p=0.000\n",
      "It does NOT seem normal( Denies H0 )\n",
      "VEN-Mortality-pollution\n",
      "Statistical=nan, p=1.000\n",
      "Data is NORMAL ( H0 not denied )\n",
      "VEN-Net migration\n",
      "Statistical=0.834, p=0.000\n",
      "It does NOT seem normal( Denies H0 )\n",
      "VEN-Mortality-infants\n",
      "Statistical=0.914, p=0.016\n",
      "It does NOT seem normal( Denies H0 )\n",
      "VEN-Health services use\n",
      "Statistical=nan, p=1.000\n",
      "Data is NORMAL ( H0 not denied )\n",
      "VEN-R&D GExp\n",
      "Statistical=0.775, p=0.000\n",
      "It does NOT seem normal( Denies H0 )\n",
      "VEN-Ninis\n",
      "Statistical=0.759, p=0.000\n",
      "It does NOT seem normal( Denies H0 )\n",
      "VEN-Suicide\n",
      "Statistical=0.716, p=0.000\n",
      "It does NOT seem normal( Denies H0 )\n",
      "VEN-International taxes\n",
      "Statistical=nan, p=1.000\n",
      "Data is NORMAL ( H0 not denied )\n",
      "VEN-Alcohol per capita\n",
      "Statistical=0.826, p=0.000\n",
      "It does NOT seem normal( Denies H0 )\n",
      "VEN\n"
     ]
    },
    {
     "data": {
      "text/html": [
       "<style type=\"text/css\">\n",
       "#T_8b352_row0_col2 {\n",
       "  background-color: #023858;\n",
       "  color: #f1f1f1;\n",
       "}\n",
       "#T_8b352_row1_col2 {\n",
       "  background-color: #034165;\n",
       "  color: #f1f1f1;\n",
       "}\n",
       "#T_8b352_row2_col2 {\n",
       "  background-color: #034e7b;\n",
       "  color: #f1f1f1;\n",
       "}\n",
       "#T_8b352_row3_col2 {\n",
       "  background-color: #045e93;\n",
       "  color: #f1f1f1;\n",
       "}\n",
       "#T_8b352_row4_col2 {\n",
       "  background-color: #7eadd1;\n",
       "  color: #f1f1f1;\n",
       "}\n",
       "#T_8b352_row5_col2, #T_8b352_row6_col2 {\n",
       "  background-color: #9ebad9;\n",
       "  color: #000000;\n",
       "}\n",
       "#T_8b352_row7_col2 {\n",
       "  background-color: #ebe6f2;\n",
       "  color: #000000;\n",
       "}\n",
       "#T_8b352_row8_col2 {\n",
       "  background-color: #f1ebf4;\n",
       "  color: #000000;\n",
       "}\n",
       "#T_8b352_row9_col2 {\n",
       "  background-color: #fdf5fa;\n",
       "  color: #000000;\n",
       "}\n",
       "#T_8b352_row10_col2 {\n",
       "  background-color: #fff7fb;\n",
       "  color: #000000;\n",
       "}\n",
       "</style>\n",
       "<table id=\"T_8b352\">\n",
       "  <thead>\n",
       "    <tr>\n",
       "      <th class=\"blank level0\" >&nbsp;</th>\n",
       "      <th id=\"T_8b352_level0_col0\" class=\"col_heading level0 col0\" >Indicator</th>\n",
       "      <th id=\"T_8b352_level0_col1\" class=\"col_heading level0 col1\" >Type</th>\n",
       "      <th id=\"T_8b352_level0_col2\" class=\"col_heading level0 col2\" >GDP-R^2</th>\n",
       "      <th id=\"T_8b352_level0_col3\" class=\"col_heading level0 col3\" >Behaviour</th>\n",
       "    </tr>\n",
       "  </thead>\n",
       "  <tbody>\n",
       "    <tr>\n",
       "      <th id=\"T_8b352_level0_row0\" class=\"row_heading level0 row0\" >7</th>\n",
       "      <td id=\"T_8b352_row0_col0\" class=\"data row0 col0\" >Net migration</td>\n",
       "      <td id=\"T_8b352_row0_col1\" class=\"data row0 col1\" >None</td>\n",
       "      <td id=\"T_8b352_row0_col2\" class=\"data row0 col2\" >0.956769</td>\n",
       "      <td id=\"T_8b352_row0_col3\" class=\"data row0 col3\" >Negative</td>\n",
       "    </tr>\n",
       "    <tr>\n",
       "      <th id=\"T_8b352_level0_row1\" class=\"row_heading level0 row1\" >9</th>\n",
       "      <td id=\"T_8b352_row1_col0\" class=\"data row1 col0\" >Suicide</td>\n",
       "      <td id=\"T_8b352_row1_col1\" class=\"data row1 col1\" >None</td>\n",
       "      <td id=\"T_8b352_row1_col2\" class=\"data row1 col2\" >0.950687</td>\n",
       "      <td id=\"T_8b352_row1_col3\" class=\"data row1 col3\" >Negative</td>\n",
       "    </tr>\n",
       "    <tr>\n",
       "      <th id=\"T_8b352_level0_row2\" class=\"row_heading level0 row2\" >5</th>\n",
       "      <td id=\"T_8b352_row2_col0\" class=\"data row2 col0\" >Health services use</td>\n",
       "      <td id=\"T_8b352_row2_col1\" class=\"data row2 col1\" >None</td>\n",
       "      <td id=\"T_8b352_row2_col2\" class=\"data row2 col2\" >0.941372</td>\n",
       "      <td id=\"T_8b352_row2_col3\" class=\"data row2 col3\" >Positive</td>\n",
       "    </tr>\n",
       "    <tr>\n",
       "      <th id=\"T_8b352_level0_row3\" class=\"row_heading level0 row3\" >6</th>\n",
       "      <td id=\"T_8b352_row3_col0\" class=\"data row3 col0\" >Literacy rate</td>\n",
       "      <td id=\"T_8b352_row3_col1\" class=\"data row3 col1\" >None</td>\n",
       "      <td id=\"T_8b352_row3_col2\" class=\"data row3 col2\" >0.929998</td>\n",
       "      <td id=\"T_8b352_row3_col3\" class=\"data row3 col3\" >Positive</td>\n",
       "    </tr>\n",
       "    <tr>\n",
       "      <th id=\"T_8b352_level0_row4\" class=\"row_heading level0 row4\" >11</th>\n",
       "      <td id=\"T_8b352_row4_col0\" class=\"data row4 col0\" >Fertility rate</td>\n",
       "      <td id=\"T_8b352_row4_col1\" class=\"data row4 col1\" >Logarithmic</td>\n",
       "      <td id=\"T_8b352_row4_col2\" class=\"data row4 col2\" >0.860478</td>\n",
       "      <td id=\"T_8b352_row4_col3\" class=\"data row4 col3\" >Negative</td>\n",
       "    </tr>\n",
       "    <tr>\n",
       "      <th id=\"T_8b352_level0_row5\" class=\"row_heading level0 row5\" >13</th>\n",
       "      <td id=\"T_8b352_row5_col0\" class=\"data row5 col0\" >Alcohol per capita</td>\n",
       "      <td id=\"T_8b352_row5_col1\" class=\"data row5 col1\" >Cubic</td>\n",
       "      <td id=\"T_8b352_row5_col2\" class=\"data row5 col2\" >0.846460</td>\n",
       "      <td id=\"T_8b352_row5_col3\" class=\"data row5 col3\" >Negative</td>\n",
       "    </tr>\n",
       "    <tr>\n",
       "      <th id=\"T_8b352_level0_row6\" class=\"row_heading level0 row6\" >10</th>\n",
       "      <td id=\"T_8b352_row6_col0\" class=\"data row6 col0\" >Employment-agriculture</td>\n",
       "      <td id=\"T_8b352_row6_col1\" class=\"data row6 col1\" >Logarithmic</td>\n",
       "      <td id=\"T_8b352_row6_col2\" class=\"data row6 col2\" >0.846406</td>\n",
       "      <td id=\"T_8b352_row6_col3\" class=\"data row6 col3\" >Negative</td>\n",
       "    </tr>\n",
       "    <tr>\n",
       "      <th id=\"T_8b352_level0_row7\" class=\"row_heading level0 row7\" >8</th>\n",
       "      <td id=\"T_8b352_row7_col0\" class=\"data row7 col0\" >Ninis</td>\n",
       "      <td id=\"T_8b352_row7_col1\" class=\"data row7 col1\" >None</td>\n",
       "      <td id=\"T_8b352_row7_col2\" class=\"data row7 col2\" >0.797741</td>\n",
       "      <td id=\"T_8b352_row7_col3\" class=\"data row7 col3\" >Positive</td>\n",
       "    </tr>\n",
       "    <tr>\n",
       "      <th id=\"T_8b352_level0_row8\" class=\"row_heading level0 row8\" >12</th>\n",
       "      <td id=\"T_8b352_row8_col0\" class=\"data row8 col0\" >R&D GExp</td>\n",
       "      <td id=\"T_8b352_row8_col1\" class=\"data row8 col1\" >Logarithmic</td>\n",
       "      <td id=\"T_8b352_row8_col2\" class=\"data row8 col2\" >0.791297</td>\n",
       "      <td id=\"T_8b352_row8_col3\" class=\"data row8 col3\" >Positive</td>\n",
       "    </tr>\n",
       "    <tr>\n",
       "      <th id=\"T_8b352_level0_row9\" class=\"row_heading level0 row9\" >3</th>\n",
       "      <td id=\"T_8b352_row9_col0\" class=\"data row9 col0\" >Exports-G&S</td>\n",
       "      <td id=\"T_8b352_row9_col1\" class=\"data row9 col1\" >None</td>\n",
       "      <td id=\"T_8b352_row9_col2\" class=\"data row9 col2\" >0.777485</td>\n",
       "      <td id=\"T_8b352_row9_col3\" class=\"data row9 col3\" >Positive</td>\n",
       "    </tr>\n",
       "    <tr>\n",
       "      <th id=\"T_8b352_level0_row10\" class=\"row_heading level0 row10\" >2</th>\n",
       "      <td id=\"T_8b352_row10_col0\" class=\"data row10 col0\" >Employment-services</td>\n",
       "      <td id=\"T_8b352_row10_col1\" class=\"data row10 col1\" >None</td>\n",
       "      <td id=\"T_8b352_row10_col2\" class=\"data row10 col2\" >0.773967</td>\n",
       "      <td id=\"T_8b352_row10_col3\" class=\"data row10 col3\" >Positive</td>\n",
       "    </tr>\n",
       "  </tbody>\n",
       "</table>\n"
      ],
      "text/plain": [
       "<pandas.io.formats.style.Styler at 0x1e547ee5780>"
      ]
     },
     "metadata": {},
     "output_type": "display_data"
    },
    {
     "name": "stdout",
     "output_type": "stream",
     "text": [
      "COL-Gender equality\n",
      "Statistical=0.957, p=0.229\n",
      "Data is NORMAL ( H0 not denied )\n",
      "COL-Exports-Commercial services\n",
      "Statistical=0.900, p=0.006\n",
      "It does NOT seem normal( Denies H0 )\n",
      "COL-Renewable electricity\n",
      "Statistical=0.898, p=0.006\n",
      "It does NOT seem normal( Denies H0 )\n",
      "COL-Employment-agriculture\n",
      "Statistical=0.883, p=0.002\n",
      "It does NOT seem normal( Denies H0 )\n",
      "COL-Employment-industry\n",
      "Statistical=0.889, p=0.003\n",
      "It does NOT seem normal( Denies H0 )\n",
      "COL-Employment-services\n",
      "Statistical=0.925, p=0.028\n",
      "It does NOT seem normal( Denies H0 )\n",
      "COL-Exports-G&S\n",
      "Statistical=0.851, p=0.000\n",
      "It does NOT seem normal( Denies H0 )\n",
      "COL-Fertility rate\n",
      "Statistical=0.886, p=0.003\n",
      "It does NOT seem normal( Denies H0 )\n",
      "COL-Foreign investment\n",
      "Statistical=0.901, p=0.007\n",
      "It does NOT seem normal( Denies H0 )\n",
      "COL-GDP\n",
      "Statistical=0.907, p=0.010\n",
      "It does NOT seem normal( Denies H0 )\n",
      "COL-Education GExp\n",
      "Statistical=0.880, p=0.002\n",
      "It does NOT seem normal( Denies H0 )\n",
      "COL-Workers high education\n",
      "Statistical=nan, p=1.000\n",
      "Data is NORMAL ( H0 not denied )\n",
      "COL-Literacy rate\n",
      "Statistical=0.855, p=0.001\n",
      "It does NOT seem normal( Denies H0 )\n",
      "COL-Mortality-pollution\n",
      "Statistical=0.826, p=0.000\n",
      "It does NOT seem normal( Denies H0 )\n",
      "COL-Net migration\n",
      "Statistical=0.927, p=0.033\n",
      "It does NOT seem normal( Denies H0 )\n",
      "COL-Mortality-infants\n",
      "Statistical=0.921, p=0.023\n",
      "It does NOT seem normal( Denies H0 )\n",
      "COL-Health services use\n",
      "Statistical=nan, p=1.000\n",
      "Data is NORMAL ( H0 not denied )\n",
      "COL-R&D GExp\n",
      "Statistical=0.797, p=0.000\n",
      "It does NOT seem normal( Denies H0 )\n",
      "COL-Ninis\n",
      "Statistical=0.827, p=0.000\n",
      "It does NOT seem normal( Denies H0 )\n",
      "COL-Suicide\n",
      "Statistical=0.907, p=0.009\n",
      "It does NOT seem normal( Denies H0 )\n",
      "COL-International taxes\n",
      "Statistical=0.798, p=0.000\n",
      "It does NOT seem normal( Denies H0 )\n",
      "COL-Alcohol per capita\n",
      "Statistical=0.832, p=0.000\n",
      "It does NOT seem normal( Denies H0 )\n",
      "COL\n"
     ]
    },
    {
     "data": {
      "text/html": [
       "<style type=\"text/css\">\n",
       "#T_cd404_row0_col2 {\n",
       "  background-color: #023858;\n",
       "  color: #f1f1f1;\n",
       "}\n",
       "#T_cd404_row1_col2 {\n",
       "  background-color: #056aa6;\n",
       "  color: #f1f1f1;\n",
       "}\n",
       "#T_cd404_row2_col2 {\n",
       "  background-color: #2383ba;\n",
       "  color: #f1f1f1;\n",
       "}\n",
       "#T_cd404_row3_col2 {\n",
       "  background-color: #4094c3;\n",
       "  color: #f1f1f1;\n",
       "}\n",
       "#T_cd404_row4_col2 {\n",
       "  background-color: #589ec8;\n",
       "  color: #f1f1f1;\n",
       "}\n",
       "#T_cd404_row5_col2 {\n",
       "  background-color: #63a2cb;\n",
       "  color: #f1f1f1;\n",
       "}\n",
       "#T_cd404_row6_col2 {\n",
       "  background-color: #a5bddb;\n",
       "  color: #000000;\n",
       "}\n",
       "#T_cd404_row7_col2 {\n",
       "  background-color: #bfc9e1;\n",
       "  color: #000000;\n",
       "}\n",
       "#T_cd404_row8_col2 {\n",
       "  background-color: #c1cae2;\n",
       "  color: #000000;\n",
       "}\n",
       "#T_cd404_row9_col2 {\n",
       "  background-color: #cccfe5;\n",
       "  color: #000000;\n",
       "}\n",
       "#T_cd404_row10_col2 {\n",
       "  background-color: #e9e5f1;\n",
       "  color: #000000;\n",
       "}\n",
       "#T_cd404_row11_col2 {\n",
       "  background-color: #fdf5fa;\n",
       "  color: #000000;\n",
       "}\n",
       "#T_cd404_row12_col2 {\n",
       "  background-color: #fff7fb;\n",
       "  color: #000000;\n",
       "}\n",
       "</style>\n",
       "<table id=\"T_cd404\">\n",
       "  <thead>\n",
       "    <tr>\n",
       "      <th class=\"blank level0\" >&nbsp;</th>\n",
       "      <th id=\"T_cd404_level0_col0\" class=\"col_heading level0 col0\" >Indicator</th>\n",
       "      <th id=\"T_cd404_level0_col1\" class=\"col_heading level0 col1\" >Type</th>\n",
       "      <th id=\"T_cd404_level0_col2\" class=\"col_heading level0 col2\" >GDP-R^2</th>\n",
       "      <th id=\"T_cd404_level0_col3\" class=\"col_heading level0 col3\" >Behaviour</th>\n",
       "    </tr>\n",
       "  </thead>\n",
       "  <tbody>\n",
       "    <tr>\n",
       "      <th id=\"T_cd404_level0_row0\" class=\"row_heading level0 row0\" >5</th>\n",
       "      <td id=\"T_cd404_row0_col0\" class=\"data row0 col0\" >Exports-G&S</td>\n",
       "      <td id=\"T_cd404_row0_col1\" class=\"data row0 col1\" >None</td>\n",
       "      <td id=\"T_cd404_row0_col2\" class=\"data row0 col2\" >0.964646</td>\n",
       "      <td id=\"T_cd404_row0_col3\" class=\"data row0 col3\" >Positive</td>\n",
       "    </tr>\n",
       "    <tr>\n",
       "      <th id=\"T_cd404_level0_row1\" class=\"row_heading level0 row1\" >11</th>\n",
       "      <td id=\"T_cd404_row1_col0\" class=\"data row1 col0\" >Ninis</td>\n",
       "      <td id=\"T_cd404_row1_col1\" class=\"data row1 col1\" >None</td>\n",
       "      <td id=\"T_cd404_row1_col2\" class=\"data row1 col2\" >0.917990</td>\n",
       "      <td id=\"T_cd404_row1_col3\" class=\"data row1 col3\" >Negative</td>\n",
       "    </tr>\n",
       "    <tr>\n",
       "      <th id=\"T_cd404_level0_row2\" class=\"row_heading level0 row2\" >2</th>\n",
       "      <td id=\"T_cd404_row2_col0\" class=\"data row2 col0\" >Employment-agriculture</td>\n",
       "      <td id=\"T_cd404_row2_col1\" class=\"data row2 col1\" >None</td>\n",
       "      <td id=\"T_cd404_row2_col2\" class=\"data row2 col2\" >0.894700</td>\n",
       "      <td id=\"T_cd404_row2_col3\" class=\"data row2 col3\" >Negative</td>\n",
       "    </tr>\n",
       "    <tr>\n",
       "      <th id=\"T_cd404_level0_row3\" class=\"row_heading level0 row3\" >4</th>\n",
       "      <td id=\"T_cd404_row3_col0\" class=\"data row3 col0\" >Exports-Commercial services</td>\n",
       "      <td id=\"T_cd404_row3_col1\" class=\"data row3 col1\" >None</td>\n",
       "      <td id=\"T_cd404_row3_col2\" class=\"data row3 col2\" >0.879453</td>\n",
       "      <td id=\"T_cd404_row3_col3\" class=\"data row3 col3\" >Positive</td>\n",
       "    </tr>\n",
       "    <tr>\n",
       "      <th id=\"T_cd404_level0_row4\" class=\"row_heading level0 row4\" >13</th>\n",
       "      <td id=\"T_cd404_row4_col0\" class=\"data row4 col0\" >Renewable electricity</td>\n",
       "      <td id=\"T_cd404_row4_col1\" class=\"data row4 col1\" >Cubic</td>\n",
       "      <td id=\"T_cd404_row4_col2\" class=\"data row4 col2\" >0.869699</td>\n",
       "      <td id=\"T_cd404_row4_col3\" class=\"data row4 col3\" >Positive</td>\n",
       "    </tr>\n",
       "    <tr>\n",
       "      <th id=\"T_cd404_level0_row5\" class=\"row_heading level0 row5\" >15</th>\n",
       "      <td id=\"T_cd404_row5_col0\" class=\"data row5 col0\" >Net migration</td>\n",
       "      <td id=\"T_cd404_row5_col1\" class=\"data row5 col1\" >Cubic</td>\n",
       "      <td id=\"T_cd404_row5_col2\" class=\"data row5 col2\" >0.864357</td>\n",
       "      <td id=\"T_cd404_row5_col3\" class=\"data row5 col3\" >Positive</td>\n",
       "    </tr>\n",
       "    <tr>\n",
       "      <th id=\"T_cd404_level0_row6\" class=\"row_heading level0 row6\" >6</th>\n",
       "      <td id=\"T_cd404_row6_col0\" class=\"data row6 col0\" >Fertility rate</td>\n",
       "      <td id=\"T_cd404_row6_col1\" class=\"data row6 col1\" >None</td>\n",
       "      <td id=\"T_cd404_row6_col2\" class=\"data row6 col2\" >0.830613</td>\n",
       "      <td id=\"T_cd404_row6_col3\" class=\"data row6 col3\" >Negative</td>\n",
       "    </tr>\n",
       "    <tr>\n",
       "      <th id=\"T_cd404_level0_row7\" class=\"row_heading level0 row7\" >3</th>\n",
       "      <td id=\"T_cd404_row7_col0\" class=\"data row7 col0\" >Employment-services</td>\n",
       "      <td id=\"T_cd404_row7_col1\" class=\"data row7 col1\" >None</td>\n",
       "      <td id=\"T_cd404_row7_col2\" class=\"data row7 col2\" >0.814804</td>\n",
       "      <td id=\"T_cd404_row7_col3\" class=\"data row7 col3\" >Positive</td>\n",
       "    </tr>\n",
       "    <tr>\n",
       "      <th id=\"T_cd404_level0_row8\" class=\"row_heading level0 row8\" >10</th>\n",
       "      <td id=\"T_cd404_row8_col0\" class=\"data row8 col0\" >Mortality-infants</td>\n",
       "      <td id=\"T_cd404_row8_col1\" class=\"data row8 col1\" >None</td>\n",
       "      <td id=\"T_cd404_row8_col2\" class=\"data row8 col2\" >0.813618</td>\n",
       "      <td id=\"T_cd404_row8_col3\" class=\"data row8 col3\" >Negative</td>\n",
       "    </tr>\n",
       "    <tr>\n",
       "      <th id=\"T_cd404_level0_row9\" class=\"row_heading level0 row9\" >8</th>\n",
       "      <td id=\"T_cd404_row9_col0\" class=\"data row9 col0\" >Health services use</td>\n",
       "      <td id=\"T_cd404_row9_col1\" class=\"data row9 col1\" >None</td>\n",
       "      <td id=\"T_cd404_row9_col2\" class=\"data row9 col2\" >0.806753</td>\n",
       "      <td id=\"T_cd404_row9_col3\" class=\"data row9 col3\" >Positive</td>\n",
       "    </tr>\n",
       "    <tr>\n",
       "      <th id=\"T_cd404_level0_row10\" class=\"row_heading level0 row10\" >12</th>\n",
       "      <td id=\"T_cd404_row10_col0\" class=\"data row10 col0\" >Suicide</td>\n",
       "      <td id=\"T_cd404_row10_col1\" class=\"data row10 col1\" >None</td>\n",
       "      <td id=\"T_cd404_row10_col2\" class=\"data row10 col2\" >0.779785</td>\n",
       "      <td id=\"T_cd404_row10_col3\" class=\"data row10 col3\" >Negative</td>\n",
       "    </tr>\n",
       "    <tr>\n",
       "      <th id=\"T_cd404_level0_row11\" class=\"row_heading level0 row11\" >14</th>\n",
       "      <td id=\"T_cd404_row11_col0\" class=\"data row11 col0\" >Workers high education</td>\n",
       "      <td id=\"T_cd404_row11_col1\" class=\"data row11 col1\" >Cubic</td>\n",
       "      <td id=\"T_cd404_row11_col2\" class=\"data row11 col2\" >0.754164</td>\n",
       "      <td id=\"T_cd404_row11_col3\" class=\"data row11 col3\" >Negative</td>\n",
       "    </tr>\n",
       "    <tr>\n",
       "      <th id=\"T_cd404_level0_row12\" class=\"row_heading level0 row12\" >9</th>\n",
       "      <td id=\"T_cd404_row12_col0\" class=\"data row12 col0\" >Literacy rate</td>\n",
       "      <td id=\"T_cd404_row12_col1\" class=\"data row12 col1\" >None</td>\n",
       "      <td id=\"T_cd404_row12_col2\" class=\"data row12 col2\" >0.750022</td>\n",
       "      <td id=\"T_cd404_row12_col3\" class=\"data row12 col3\" >Positive</td>\n",
       "    </tr>\n",
       "  </tbody>\n",
       "</table>\n"
      ],
      "text/plain": [
       "<pandas.io.formats.style.Styler at 0x1e547133a00>"
      ]
     },
     "metadata": {},
     "output_type": "display_data"
    },
    {
     "name": "stdout",
     "output_type": "stream",
     "text": [
      "CHL-Gender equality\n",
      "Statistical=0.957, p=0.247\n",
      "Data is NORMAL ( H0 not denied )\n",
      "CHL-Exports-Commercial services\n",
      "Statistical=0.771, p=0.000\n",
      "It does NOT seem normal( Denies H0 )\n",
      "CHL-Renewable electricity\n",
      "Statistical=0.933, p=0.053\n",
      "Data is NORMAL ( H0 not denied )\n",
      "CHL-Employment-agriculture\n",
      "Statistical=0.925, p=0.033\n",
      "It does NOT seem normal( Denies H0 )\n",
      "CHL-Employment-industry\n",
      "Statistical=0.843, p=0.000\n",
      "It does NOT seem normal( Denies H0 )\n",
      "CHL-Employment-services\n",
      "Statistical=0.921, p=0.025\n",
      "It does NOT seem normal( Denies H0 )\n",
      "CHL-Exports-G&S\n",
      "Statistical=0.924, p=0.031\n",
      "It does NOT seem normal( Denies H0 )\n",
      "CHL-Fertility rate\n",
      "Statistical=0.847, p=0.000\n",
      "It does NOT seem normal( Denies H0 )\n",
      "CHL-Foreign investment\n",
      "Statistical=0.912, p=0.015\n",
      "It does NOT seem normal( Denies H0 )\n",
      "CHL-GDP\n",
      "Statistical=0.963, p=0.348\n",
      "Data is NORMAL ( H0 not denied )\n",
      "CHL-Education GExp\n",
      "Statistical=0.865, p=0.001\n",
      "It does NOT seem normal( Denies H0 )\n",
      "CHL-Workers high education\n",
      "Statistical=nan, p=1.000\n",
      "Data is NORMAL ( H0 not denied )\n",
      "CHL-Literacy rate\n",
      "Statistical=0.835, p=0.000\n",
      "It does NOT seem normal( Denies H0 )\n",
      "CHL-Mortality-pollution\n",
      "Statistical=0.867, p=0.001\n",
      "It does NOT seem normal( Denies H0 )\n",
      "CHL-Net migration\n",
      "Statistical=0.851, p=0.001\n",
      "It does NOT seem normal( Denies H0 )\n",
      "CHL-Mortality-infants\n",
      "Statistical=0.848, p=0.000\n",
      "It does NOT seem normal( Denies H0 )\n",
      "CHL-Health services use\n",
      "Statistical=nan, p=1.000\n",
      "Data is NORMAL ( H0 not denied )\n",
      "CHL-R&D GExp\n",
      "Statistical=0.833, p=0.000\n",
      "It does NOT seem normal( Denies H0 )\n",
      "CHL-Ninis\n",
      "Statistical=0.984, p=0.910\n",
      "Data is NORMAL ( H0 not denied )\n",
      "CHL-Suicide\n",
      "Statistical=0.728, p=0.000\n",
      "It does NOT seem normal( Denies H0 )\n",
      "CHL-International taxes\n",
      "Statistical=0.903, p=0.009\n",
      "It does NOT seem normal( Denies H0 )\n",
      "CHL-Alcohol per capita\n",
      "Statistical=0.925, p=0.032\n",
      "It does NOT seem normal( Denies H0 )\n",
      "CHL\n"
     ]
    },
    {
     "data": {
      "text/html": [
       "<style type=\"text/css\">\n",
       "#T_15f38_row0_col2 {\n",
       "  background-color: #023858;\n",
       "  color: #f1f1f1;\n",
       "}\n",
       "#T_15f38_row1_col2 {\n",
       "  background-color: #045585;\n",
       "  color: #f1f1f1;\n",
       "}\n",
       "#T_15f38_row2_col2 {\n",
       "  background-color: #056faf;\n",
       "  color: #f1f1f1;\n",
       "}\n",
       "#T_15f38_row3_col2 {\n",
       "  background-color: #1c7fb8;\n",
       "  color: #f1f1f1;\n",
       "}\n",
       "#T_15f38_row4_col2 {\n",
       "  background-color: #2685bb;\n",
       "  color: #f1f1f1;\n",
       "}\n",
       "#T_15f38_row5_col2 {\n",
       "  background-color: #3f93c2;\n",
       "  color: #f1f1f1;\n",
       "}\n",
       "#T_15f38_row6_col2 {\n",
       "  background-color: #bcc7e1;\n",
       "  color: #000000;\n",
       "}\n",
       "#T_15f38_row7_col2 {\n",
       "  background-color: #e3e0ee;\n",
       "  color: #000000;\n",
       "}\n",
       "#T_15f38_row8_col2 {\n",
       "  background-color: #fff7fb;\n",
       "  color: #000000;\n",
       "}\n",
       "</style>\n",
       "<table id=\"T_15f38\">\n",
       "  <thead>\n",
       "    <tr>\n",
       "      <th class=\"blank level0\" >&nbsp;</th>\n",
       "      <th id=\"T_15f38_level0_col0\" class=\"col_heading level0 col0\" >Indicator</th>\n",
       "      <th id=\"T_15f38_level0_col1\" class=\"col_heading level0 col1\" >Type</th>\n",
       "      <th id=\"T_15f38_level0_col2\" class=\"col_heading level0 col2\" >GDP-R^2</th>\n",
       "      <th id=\"T_15f38_level0_col3\" class=\"col_heading level0 col3\" >Behaviour</th>\n",
       "    </tr>\n",
       "  </thead>\n",
       "  <tbody>\n",
       "    <tr>\n",
       "      <th id=\"T_15f38_level0_row0\" class=\"row_heading level0 row0\" >10</th>\n",
       "      <td id=\"T_15f38_row0_col0\" class=\"data row0 col0\" >Net migration</td>\n",
       "      <td id=\"T_15f38_row0_col1\" class=\"data row0 col1\" >Cuadratic</td>\n",
       "      <td id=\"T_15f38_row0_col2\" class=\"data row0 col2\" >0.970016</td>\n",
       "      <td id=\"T_15f38_row0_col3\" class=\"data row0 col3\" >Positive</td>\n",
       "    </tr>\n",
       "    <tr>\n",
       "      <th id=\"T_15f38_level0_row1\" class=\"row_heading level0 row1\" >6</th>\n",
       "      <td id=\"T_15f38_row1_col0\" class=\"data row1 col0\" >Health services use</td>\n",
       "      <td id=\"T_15f38_row1_col1\" class=\"data row1 col1\" >None</td>\n",
       "      <td id=\"T_15f38_row1_col2\" class=\"data row1 col2\" >0.947701</td>\n",
       "      <td id=\"T_15f38_row1_col3\" class=\"data row1 col3\" >Positive</td>\n",
       "    </tr>\n",
       "    <tr>\n",
       "      <th id=\"T_15f38_level0_row2\" class=\"row_heading level0 row2\" >4</th>\n",
       "      <td id=\"T_15f38_row2_col0\" class=\"data row2 col0\" >Exports-G&S</td>\n",
       "      <td id=\"T_15f38_row2_col1\" class=\"data row2 col1\" >None</td>\n",
       "      <td id=\"T_15f38_row2_col2\" class=\"data row2 col2\" >0.918738</td>\n",
       "      <td id=\"T_15f38_row2_col3\" class=\"data row2 col3\" >Positive</td>\n",
       "    </tr>\n",
       "    <tr>\n",
       "      <th id=\"T_15f38_level0_row3\" class=\"row_heading level0 row3\" >7</th>\n",
       "      <td id=\"T_15f38_row3_col0\" class=\"data row3 col0\" >Employment-agriculture</td>\n",
       "      <td id=\"T_15f38_row3_col1\" class=\"data row3 col1\" >Logarithmic</td>\n",
       "      <td id=\"T_15f38_row3_col2\" class=\"data row3 col2\" >0.905977</td>\n",
       "      <td id=\"T_15f38_row3_col3\" class=\"data row3 col3\" >Negative</td>\n",
       "    </tr>\n",
       "    <tr>\n",
       "      <th id=\"T_15f38_level0_row4\" class=\"row_heading level0 row4\" >8</th>\n",
       "      <td id=\"T_15f38_row4_col0\" class=\"data row4 col0\" >Employment-services</td>\n",
       "      <td id=\"T_15f38_row4_col1\" class=\"data row4 col1\" >Cuadratic</td>\n",
       "      <td id=\"T_15f38_row4_col2\" class=\"data row4 col2\" >0.901296</td>\n",
       "      <td id=\"T_15f38_row4_col3\" class=\"data row4 col3\" >Positive</td>\n",
       "    </tr>\n",
       "    <tr>\n",
       "      <th id=\"T_15f38_level0_row5\" class=\"row_heading level0 row5\" >9</th>\n",
       "      <td id=\"T_15f38_row5_col0\" class=\"data row5 col0\" >Workers high education</td>\n",
       "      <td id=\"T_15f38_row5_col1\" class=\"data row5 col1\" >Cubic</td>\n",
       "      <td id=\"T_15f38_row5_col2\" class=\"data row5 col2\" >0.889408</td>\n",
       "      <td id=\"T_15f38_row5_col3\" class=\"data row5 col3\" >Negative</td>\n",
       "    </tr>\n",
       "    <tr>\n",
       "      <th id=\"T_15f38_level0_row6\" class=\"row_heading level0 row6\" >3</th>\n",
       "      <td id=\"T_15f38_row6_col0\" class=\"data row6 col0\" >Exports-Commercial services</td>\n",
       "      <td id=\"T_15f38_row6_col1\" class=\"data row6 col1\" >None</td>\n",
       "      <td id=\"T_15f38_row6_col2\" class=\"data row6 col2\" >0.828029</td>\n",
       "      <td id=\"T_15f38_row6_col3\" class=\"data row6 col3\" >Positive</td>\n",
       "    </tr>\n",
       "    <tr>\n",
       "      <th id=\"T_15f38_level0_row7\" class=\"row_heading level0 row7\" >2</th>\n",
       "      <td id=\"T_15f38_row7_col0\" class=\"data row7 col0\" >Education GExp</td>\n",
       "      <td id=\"T_15f38_row7_col1\" class=\"data row7 col1\" >None</td>\n",
       "      <td id=\"T_15f38_row7_col2\" class=\"data row7 col2\" >0.798479</td>\n",
       "      <td id=\"T_15f38_row7_col3\" class=\"data row7 col3\" >Positive</td>\n",
       "    </tr>\n",
       "    <tr>\n",
       "      <th id=\"T_15f38_level0_row8\" class=\"row_heading level0 row8\" >11</th>\n",
       "      <td id=\"T_15f38_row8_col0\" class=\"data row8 col0\" >Mortality-infants</td>\n",
       "      <td id=\"T_15f38_row8_col1\" class=\"data row8 col1\" >Logarithmic</td>\n",
       "      <td id=\"T_15f38_row8_col2\" class=\"data row8 col2\" >0.764060</td>\n",
       "      <td id=\"T_15f38_row8_col3\" class=\"data row8 col3\" >Negative</td>\n",
       "    </tr>\n",
       "  </tbody>\n",
       "</table>\n"
      ],
      "text/plain": [
       "<pandas.io.formats.style.Styler at 0x1e547ee5990>"
      ]
     },
     "metadata": {},
     "output_type": "display_data"
    },
    {
     "name": "stdout",
     "output_type": "stream",
     "text": [
      "CRI-Gender equality\n",
      "Statistical=0.957, p=0.247\n",
      "Data is NORMAL ( H0 not denied )\n",
      "CRI-Exports-Commercial services\n",
      "Statistical=0.764, p=0.000\n",
      "It does NOT seem normal( Denies H0 )\n",
      "CRI-Renewable electricity\n",
      "Statistical=0.941, p=0.086\n",
      "Data is NORMAL ( H0 not denied )\n",
      "CRI-Employment-agriculture\n",
      "Statistical=0.904, p=0.009\n",
      "It does NOT seem normal( Denies H0 )\n",
      "CRI-Employment-industry\n",
      "Statistical=0.951, p=0.163\n",
      "Data is NORMAL ( H0 not denied )\n",
      "CRI-Employment-services\n",
      "Statistical=0.938, p=0.071\n",
      "Data is NORMAL ( H0 not denied )\n",
      "CRI-Exports-G&S\n",
      "Statistical=0.913, p=0.016\n",
      "It does NOT seem normal( Denies H0 )\n",
      "CRI-Fertility rate\n",
      "Statistical=0.927, p=0.037\n",
      "It does NOT seem normal( Denies H0 )\n",
      "CRI-Foreign investment\n",
      "Statistical=0.856, p=0.001\n",
      "It does NOT seem normal( Denies H0 )\n",
      "CRI-GDP\n",
      "Statistical=0.888, p=0.004\n",
      "It does NOT seem normal( Denies H0 )\n",
      "CRI-Education GExp\n",
      "Statistical=0.861, p=0.001\n",
      "It does NOT seem normal( Denies H0 )\n",
      "CRI-Workers high education\n",
      "Statistical=nan, p=1.000\n",
      "Data is NORMAL ( H0 not denied )\n",
      "CRI-Literacy rate\n",
      "Statistical=0.852, p=0.001\n",
      "It does NOT seem normal( Denies H0 )\n",
      "CRI-Mortality-pollution\n",
      "Statistical=0.821, p=0.000\n",
      "It does NOT seem normal( Denies H0 )\n",
      "CRI-Net migration\n",
      "Statistical=0.816, p=0.000\n",
      "It does NOT seem normal( Denies H0 )\n",
      "CRI-Mortality-infants\n",
      "Statistical=0.915, p=0.017\n",
      "It does NOT seem normal( Denies H0 )\n",
      "CRI-Health services use\n",
      "Statistical=nan, p=1.000\n",
      "Data is NORMAL ( H0 not denied )\n",
      "CRI-R&D GExp\n",
      "Statistical=0.838, p=0.000\n",
      "It does NOT seem normal( Denies H0 )\n",
      "CRI-Ninis\n",
      "Statistical=0.830, p=0.000\n",
      "It does NOT seem normal( Denies H0 )\n",
      "CRI-Suicide\n",
      "Statistical=0.929, p=0.042\n",
      "It does NOT seem normal( Denies H0 )\n",
      "CRI-International taxes\n",
      "Statistical=0.927, p=0.037\n",
      "It does NOT seem normal( Denies H0 )\n",
      "CRI-Alcohol per capita\n",
      "Statistical=0.914, p=0.017\n",
      "It does NOT seem normal( Denies H0 )\n",
      "CRI\n"
     ]
    },
    {
     "data": {
      "text/html": [
       "<style type=\"text/css\">\n",
       "#T_c5a13_row0_col2 {\n",
       "  background-color: #023858;\n",
       "  color: #f1f1f1;\n",
       "}\n",
       "#T_c5a13_row1_col2 {\n",
       "  background-color: #023a5b;\n",
       "  color: #f1f1f1;\n",
       "}\n",
       "#T_c5a13_row2_col2 {\n",
       "  background-color: #023d60;\n",
       "  color: #f1f1f1;\n",
       "}\n",
       "#T_c5a13_row3_col2 {\n",
       "  background-color: #03446a;\n",
       "  color: #f1f1f1;\n",
       "}\n",
       "#T_c5a13_row4_col2 {\n",
       "  background-color: #03456c;\n",
       "  color: #f1f1f1;\n",
       "}\n",
       "#T_c5a13_row5_col2 {\n",
       "  background-color: #045382;\n",
       "  color: #f1f1f1;\n",
       "}\n",
       "#T_c5a13_row6_col2 {\n",
       "  background-color: #0771b1;\n",
       "  color: #f1f1f1;\n",
       "}\n",
       "#T_c5a13_row7_col2 {\n",
       "  background-color: #0a73b2;\n",
       "  color: #f1f1f1;\n",
       "}\n",
       "#T_c5a13_row8_col2 {\n",
       "  background-color: #328dbf;\n",
       "  color: #f1f1f1;\n",
       "}\n",
       "#T_c5a13_row9_col2 {\n",
       "  background-color: #71a8ce;\n",
       "  color: #f1f1f1;\n",
       "}\n",
       "#T_c5a13_row10_col2 {\n",
       "  background-color: #a5bddb;\n",
       "  color: #000000;\n",
       "}\n",
       "#T_c5a13_row11_col2 {\n",
       "  background-color: #abbfdc;\n",
       "  color: #000000;\n",
       "}\n",
       "#T_c5a13_row12_col2 {\n",
       "  background-color: #d5d5e8;\n",
       "  color: #000000;\n",
       "}\n",
       "#T_c5a13_row13_col2 {\n",
       "  background-color: #f3edf5;\n",
       "  color: #000000;\n",
       "}\n",
       "#T_c5a13_row14_col2 {\n",
       "  background-color: #f7f0f7;\n",
       "  color: #000000;\n",
       "}\n",
       "#T_c5a13_row15_col2 {\n",
       "  background-color: #fff7fb;\n",
       "  color: #000000;\n",
       "}\n",
       "</style>\n",
       "<table id=\"T_c5a13\">\n",
       "  <thead>\n",
       "    <tr>\n",
       "      <th class=\"blank level0\" >&nbsp;</th>\n",
       "      <th id=\"T_c5a13_level0_col0\" class=\"col_heading level0 col0\" >Indicator</th>\n",
       "      <th id=\"T_c5a13_level0_col1\" class=\"col_heading level0 col1\" >Type</th>\n",
       "      <th id=\"T_c5a13_level0_col2\" class=\"col_heading level0 col2\" >GDP-R^2</th>\n",
       "      <th id=\"T_c5a13_level0_col3\" class=\"col_heading level0 col3\" >Behaviour</th>\n",
       "    </tr>\n",
       "  </thead>\n",
       "  <tbody>\n",
       "    <tr>\n",
       "      <th id=\"T_c5a13_level0_row0\" class=\"row_heading level0 row0\" >16</th>\n",
       "      <td id=\"T_c5a13_row0_col0\" class=\"data row0 col0\" >Literacy rate</td>\n",
       "      <td id=\"T_c5a13_row0_col1\" class=\"data row0 col1\" >Cuadratic</td>\n",
       "      <td id=\"T_c5a13_row0_col2\" class=\"data row0 col2\" >0.982076</td>\n",
       "      <td id=\"T_c5a13_row0_col3\" class=\"data row0 col3\" >Positive</td>\n",
       "    </tr>\n",
       "    <tr>\n",
       "      <th id=\"T_c5a13_level0_row1\" class=\"row_heading level0 row1\" >6</th>\n",
       "      <td id=\"T_c5a13_row1_col0\" class=\"data row1 col0\" >Exports-G&S</td>\n",
       "      <td id=\"T_c5a13_row1_col1\" class=\"data row1 col1\" >None</td>\n",
       "      <td id=\"T_c5a13_row1_col2\" class=\"data row1 col2\" >0.979859</td>\n",
       "      <td id=\"T_c5a13_row1_col3\" class=\"data row1 col3\" >Positive</td>\n",
       "    </tr>\n",
       "    <tr>\n",
       "      <th id=\"T_c5a13_level0_row2\" class=\"row_heading level0 row2\" >9</th>\n",
       "      <td id=\"T_c5a13_row2_col0\" class=\"data row2 col0\" >Health services use</td>\n",
       "      <td id=\"T_c5a13_row2_col1\" class=\"data row2 col1\" >None</td>\n",
       "      <td id=\"T_c5a13_row2_col2\" class=\"data row2 col2\" >0.977659</td>\n",
       "      <td id=\"T_c5a13_row2_col3\" class=\"data row2 col3\" >Positive</td>\n",
       "    </tr>\n",
       "    <tr>\n",
       "      <th id=\"T_c5a13_level0_row3\" class=\"row_heading level0 row3\" >10</th>\n",
       "      <td id=\"T_c5a13_row3_col0\" class=\"data row3 col0\" >International taxes</td>\n",
       "      <td id=\"T_c5a13_row3_col1\" class=\"data row3 col1\" >None</td>\n",
       "      <td id=\"T_c5a13_row3_col2\" class=\"data row3 col2\" >0.971802</td>\n",
       "      <td id=\"T_c5a13_row3_col3\" class=\"data row3 col3\" >Positive</td>\n",
       "    </tr>\n",
       "    <tr>\n",
       "      <th id=\"T_c5a13_level0_row4\" class=\"row_heading level0 row4\" >5</th>\n",
       "      <td id=\"T_c5a13_row4_col0\" class=\"data row4 col0\" >Exports-Commercial services</td>\n",
       "      <td id=\"T_c5a13_row4_col1\" class=\"data row4 col1\" >None</td>\n",
       "      <td id=\"T_c5a13_row4_col2\" class=\"data row4 col2\" >0.970797</td>\n",
       "      <td id=\"T_c5a13_row4_col3\" class=\"data row4 col3\" >Positive</td>\n",
       "    </tr>\n",
       "    <tr>\n",
       "      <th id=\"T_c5a13_level0_row5\" class=\"row_heading level0 row5\" >11</th>\n",
       "      <td id=\"T_c5a13_row5_col0\" class=\"data row5 col0\" >Renewable electricity</td>\n",
       "      <td id=\"T_c5a13_row5_col1\" class=\"data row5 col1\" >Cuadratic</td>\n",
       "      <td id=\"T_c5a13_row5_col2\" class=\"data row5 col2\" >0.959768</td>\n",
       "      <td id=\"T_c5a13_row5_col3\" class=\"data row5 col3\" >Positive</td>\n",
       "    </tr>\n",
       "    <tr>\n",
       "      <th id=\"T_c5a13_level0_row6\" class=\"row_heading level0 row6\" >18</th>\n",
       "      <td id=\"T_c5a13_row6_col0\" class=\"data row6 col0\" >Mortality-infants</td>\n",
       "      <td id=\"T_c5a13_row6_col1\" class=\"data row6 col1\" >Logarithmic</td>\n",
       "      <td id=\"T_c5a13_row6_col2\" class=\"data row6 col2\" >0.924853</td>\n",
       "      <td id=\"T_c5a13_row6_col3\" class=\"data row6 col3\" >Negative</td>\n",
       "    </tr>\n",
       "    <tr>\n",
       "      <th id=\"T_c5a13_level0_row7\" class=\"row_heading level0 row7\" >13</th>\n",
       "      <td id=\"T_c5a13_row7_col0\" class=\"data row7 col0\" >Fertility rate</td>\n",
       "      <td id=\"T_c5a13_row7_col1\" class=\"data row7 col1\" >Logarithmic</td>\n",
       "      <td id=\"T_c5a13_row7_col2\" class=\"data row7 col2\" >0.923296</td>\n",
       "      <td id=\"T_c5a13_row7_col3\" class=\"data row7 col3\" >Negative</td>\n",
       "    </tr>\n",
       "    <tr>\n",
       "      <th id=\"T_c5a13_level0_row8\" class=\"row_heading level0 row8\" >17</th>\n",
       "      <td id=\"T_c5a13_row8_col0\" class=\"data row8 col0\" >Net migration</td>\n",
       "      <td id=\"T_c5a13_row8_col1\" class=\"data row8 col1\" >Logarithmic</td>\n",
       "      <td id=\"T_c5a13_row8_col2\" class=\"data row8 col2\" >0.900249</td>\n",
       "      <td id=\"T_c5a13_row8_col3\" class=\"data row8 col3\" >Negative</td>\n",
       "    </tr>\n",
       "    <tr>\n",
       "      <th id=\"T_c5a13_level0_row9\" class=\"row_heading level0 row9\" >2</th>\n",
       "      <td id=\"T_c5a13_row9_col0\" class=\"data row9 col0\" >Alcohol per capita</td>\n",
       "      <td id=\"T_c5a13_row9_col1\" class=\"data row9 col1\" >None</td>\n",
       "      <td id=\"T_c5a13_row9_col2\" class=\"data row9 col2\" >0.871295</td>\n",
       "      <td id=\"T_c5a13_row9_col3\" class=\"data row9 col3\" >Negative</td>\n",
       "    </tr>\n",
       "    <tr>\n",
       "      <th id=\"T_c5a13_level0_row10\" class=\"row_heading level0 row10\" >12</th>\n",
       "      <td id=\"T_c5a13_row10_col0\" class=\"data row10 col0\" >Employment-industry</td>\n",
       "      <td id=\"T_c5a13_row10_col1\" class=\"data row10 col1\" >Logarithmic</td>\n",
       "      <td id=\"T_c5a13_row10_col2\" class=\"data row10 col2\" >0.842319</td>\n",
       "      <td id=\"T_c5a13_row10_col3\" class=\"data row10 col3\" >Negative</td>\n",
       "    </tr>\n",
       "    <tr>\n",
       "      <th id=\"T_c5a13_level0_row11\" class=\"row_heading level0 row11\" >7</th>\n",
       "      <td id=\"T_c5a13_row11_col0\" class=\"data row11 col0\" >Foreign investment</td>\n",
       "      <td id=\"T_c5a13_row11_col1\" class=\"data row11 col1\" >None</td>\n",
       "      <td id=\"T_c5a13_row11_col2\" class=\"data row11 col2\" >0.839332</td>\n",
       "      <td id=\"T_c5a13_row11_col3\" class=\"data row11 col3\" >Negative</td>\n",
       "    </tr>\n",
       "    <tr>\n",
       "      <th id=\"T_c5a13_level0_row12\" class=\"row_heading level0 row12\" >4</th>\n",
       "      <td id=\"T_c5a13_row12_col0\" class=\"data row12 col0\" >Employment-services</td>\n",
       "      <td id=\"T_c5a13_row12_col1\" class=\"data row12 col1\" >None</td>\n",
       "      <td id=\"T_c5a13_row12_col2\" class=\"data row12 col2\" >0.809260</td>\n",
       "      <td id=\"T_c5a13_row12_col3\" class=\"data row12 col3\" >Positive</td>\n",
       "    </tr>\n",
       "    <tr>\n",
       "      <th id=\"T_c5a13_level0_row13\" class=\"row_heading level0 row13\" >15</th>\n",
       "      <td id=\"T_c5a13_row13_col0\" class=\"data row13 col0\" >Workers high education</td>\n",
       "      <td id=\"T_c5a13_row13_col1\" class=\"data row13 col1\" >Cubic</td>\n",
       "      <td id=\"T_c5a13_row13_col2\" class=\"data row13 col2\" >0.775853</td>\n",
       "      <td id=\"T_c5a13_row13_col3\" class=\"data row13 col3\" >Negative</td>\n",
       "    </tr>\n",
       "    <tr>\n",
       "      <th id=\"T_c5a13_level0_row14\" class=\"row_heading level0 row14\" >14</th>\n",
       "      <td id=\"T_c5a13_row14_col0\" class=\"data row14 col0\" >Education GExp</td>\n",
       "      <td id=\"T_c5a13_row14_col1\" class=\"data row14 col1\" >Cuadratic</td>\n",
       "      <td id=\"T_c5a13_row14_col2\" class=\"data row14 col2\" >0.771182</td>\n",
       "      <td id=\"T_c5a13_row14_col3\" class=\"data row14 col3\" >Positive</td>\n",
       "    </tr>\n",
       "    <tr>\n",
       "      <th id=\"T_c5a13_level0_row15\" class=\"row_heading level0 row15\" >3</th>\n",
       "      <td id=\"T_c5a13_row15_col0\" class=\"data row15 col0\" >Employment-agriculture</td>\n",
       "      <td id=\"T_c5a13_row15_col1\" class=\"data row15 col1\" >None</td>\n",
       "      <td id=\"T_c5a13_row15_col2\" class=\"data row15 col2\" >0.758186</td>\n",
       "      <td id=\"T_c5a13_row15_col3\" class=\"data row15 col3\" >Negative</td>\n",
       "    </tr>\n",
       "  </tbody>\n",
       "</table>\n"
      ],
      "text/plain": [
       "<pandas.io.formats.style.Styler at 0x1e547133a00>"
      ]
     },
     "metadata": {},
     "output_type": "display_data"
    }
   ],
   "source": [
    "multcolumn(df)\n",
    "for i in range(0,len(clist)):\n",
    "    dat=df.loc[df.loc[:, 'Country'] == clist[i]]\n",
    "    for e in range(2,len(columns)):\n",
    "        data=dat.iloc[:, e]\n",
    "        stat, p = shapiro(data)\n",
    "        print(clist[i] +\"-\"+ columns[e])\n",
    "        print('Statistical=%.3f, p=%.3f' % (stat, p))\n",
    "        alpha = 0.05\n",
    "        if p > alpha:\n",
    "            print('Data is NORMAL ( H0 not denied )')\n",
    "        else:\n",
    "            print('It does NOT seem normal( Denies H0 )')\n",
    "    print(clist[i])\n",
    "    cor=dat.corr()\n",
    "    cor.loc[:,'GDP-R^2']=cor['GDP']**2\n",
    "    cor.loc[:,'Indicator']=cor.index    \n",
    "    cor[['Indicator','Type']]=cor.Indicator.str.split('.',expand=True)\n",
    "    corcolumn=cor[['Indicator','Type', 'GDP-R^2','GDP']]\n",
    "    corcolumn=corcolumn.loc[corcolumn.loc[:,'GDP-R^2']>=0.75]\n",
    "    id=corcolumn.groupby('Indicator')['GDP-R^2'].transform(max)==corcolumn['GDP-R^2']\n",
    "    corcolumn[id]\n",
    "    max_df=pd.DataFrame(corcolumn[id])\n",
    "    max_df['Behaviour']=np.where(max_df['GDP']>0, 'Positive', 'Negative')\n",
    "    max_df['Type']=max_df['Type'].replace(['None','^2','^3','log'],['Linear','Cuadratic','Cubic','Logarithmic'])\n",
    "    max_df.drop(\"GDP\",axis=1,inplace=True)\n",
    "    max_df=max_df.reset_index(drop=True)\n",
    "    max_df = max_df.drop(max_df[max_df['Indicator']=='Year'].index)\n",
    "    max_df = max_df.drop(max_df[max_df['Indicator']=='GDP'].index)\n",
    "    max_df = max_df.drop(max_df[max_df['Indicator']=='Unnamed: 0'].index)\n",
    "    max_df=max_df.sort_values(by = 'GDP-R^2',ascending = False).style.background_gradient()\n",
    "    display(max_df)"
   ]
  }
 ],
 "metadata": {
  "kernelspec": {
   "display_name": "Python 3.10.4 ('.venv': poetry)",
   "language": "python",
   "name": "python3"
  },
  "language_info": {
   "codemirror_mode": {
    "name": "ipython",
    "version": 3
   },
   "file_extension": ".py",
   "mimetype": "text/x-python",
   "name": "python",
   "nbconvert_exporter": "python",
   "pygments_lexer": "ipython3",
   "version": "3.10.4"
  },
  "orig_nbformat": 4,
  "vscode": {
   "interpreter": {
    "hash": "292912297167048338b5d1136ec8c661b8a2f1d3fcecd6650d637809a967c218"
   }
  }
 },
 "nbformat": 4,
 "nbformat_minor": 2
}
