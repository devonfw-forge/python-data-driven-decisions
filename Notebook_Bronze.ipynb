{
 "cells": [
  {
   "cell_type": "markdown",
   "id": "52f20910",
   "metadata": {},
   "source": [
    "## IMPORTS\n",
    "\n",
    "We will need a series of libraries to aid us with the data analysis.\n",
    "\n",
    "The most important ones will be pandas to be able to work with dataframes, numpy as it offers excellent tools to analyze the information, and matplotlib and seaborn which will provide with many options to print the data.\n",
    "\n",
    "But also, we use some other libraries such as os to read the databases from our folder, warnings to be able to raise warnings when needed, and requests."
   ]
  },
  {
   "cell_type": "code",
   "execution_count": 1,
   "id": "ad9cbc0f",
   "metadata": {},
   "outputs": [],
   "source": [
    "#IMPORTS\n",
    "\n",
    "import os\n",
    "import pandas as pd\n",
    "import numpy as np\n",
    "\n",
    "from Project.Utils.read_data import read_data\n",
    "from Project.Utils.preprocess import preprocess\n",
    "#from Project.Utils.preprocess import set_indicators\n",
    "from Project.Utils.standardize import standardize\n",
    "from Project.Utils.merge_data import merge_data"
   ]
  },
  {
   "cell_type": "markdown",
   "id": "a98938cb",
   "metadata": {},
   "source": [
    "## CONSTANTS AND STRUCTURES\n",
    "\n",
    "In order to keep our code not only readable and clean, but also easy to mantain and modify, we will keep most of our constants and data structures here.\n",
    "\n",
    "Some of them will be strings to specify paths or names of columns, numbers to delimit ranges, or boolean variables to determine the behaviour of some parts of the code. All of these can be changed at will to modify the extension of the analysis and customize the output.\n",
    "\n",
    "Some mutable structures will be kept here as well, since they are intended to behave like constants, like the dictionary to translate some diverse column names to a same given title, or a list with all the special treatment sources that have a predefined preprocessing procedure.\n",
    "\n",
    "Also, we will include some other mutable structures that are intended to have a global scope, like the list of urls, dataframes and so on."
   ]
  },
  {
   "cell_type": "code",
   "execution_count": 2,
   "id": "51b7f0a6",
   "metadata": {},
   "outputs": [],
   "source": [
    "#CONSTANTS AND STRUCTURES TO BE USED\n",
    "\n",
    "read_path = os.getcwd() + '\\Databases' #Path to your databases folder to be read\n",
    "write_path = os.getcwd() + '\\Output' #Path to the folder you want to store the dataframes\n",
    "\n",
    "column_country = 'Country' #Name for the column containing the name of the countries\n",
    "column_year = 'Year' #Name for the column containing the years\n",
    "columns_index = [column_country, column_year] #List with all the values for the columns that will be used as indexes\n",
    "columns_rename = dict.fromkeys(['Area', 'Entity', 'Country or Area', 'Name', 'Country Name'], column_country) #Dictionary to rename all the index columns so they have a common name\n",
    "\n",
    "#special_source = ['databank', 'faostat', 'kaggle', 'un_data', 'worldbank', 'WID'] #List with all the sources that need special treatment\n"
   ]
  },
  {
   "cell_type": "markdown",
   "id": "adfd166a",
   "metadata": {},
   "source": [
    "## INDICATORS\n",
    "\n",
    "Since our data comes from many different sources, it is convenient we keep all our indicators in a structure that will allow us to quickly locate them and identify them when reading the files. Since most of them have long, over-describing names, we will use a dictionary so we can later rewrite the title of our columns and make them easier to understand."
   ]
  },
  {
   "cell_type": "code",
   "execution_count": 3,
   "id": "ab13a279",
   "metadata": {},
   "outputs": [],
   "source": [
    "#INDICATORS\n",
    "#Dictionary containing all the indicators to be used, and the aliases for the columns where they will be represented\n",
    "\n",
    "indicators = {\n",
    "    \n",
    "    #databank\n",
    "    'CPIA gender equality rating (1=low to 6=high)': 'Gender Equality',\n",
    "    'Prevalence of undernourishment (% of population)': '% Undernourishment',\n",
    "    \n",
    "    #faostat\n",
    "    'Credit to Agriculture, Forestry and Fishing': 'CreditToAgriFishForest',\n",
    "    '2.a.1 Agriculture value added share of GDP (%)': 'AgriShareGDP',\n",
    "    'Employment by status of employment, total, rural areas': 'EmploymentRural',\n",
    "    'Gross Domestic Product': 'GDP',\n",
    "    'Share of employment in agriculture, forestry and fishing in total employment': '%EmploymentAgriFishForest',\n",
    "    'Agriculture': 'TotalAgri',\n",
    "    \n",
    "    #kaggle\n",
    "    'Gender Inequality': 'Gender Inequality',\n",
    "    \n",
    "    #ourworldindata\n",
    "    'Armed forces personnel (% of total labor force)': '% Soldiers', \n",
    "    'Crude marriage rate (per 1,000 inhabitants)': 'Marriage Rate',\n",
    "    \n",
    "    #theworldbank  \n",
    "    'Birth rate, crude (per 1,000 people)': 'Birth Rate',\n",
    "    'Death rate, crude (per 1,000 people)': 'Death Rate',\n",
    "    'Intentional homicides (per 100,000 people)': 'Homicides',\n",
    "    'Life expectancy at birth, total (years)': 'Life Expectancy',\n",
    "    'Lifetime risk of maternal death (%)': 'Maternal Death Risk',\n",
    "    'Literacy rate, adult total (% of people ages 15 and above)': 'Literacy Rate',\n",
    "    'Mortality rate, infant (per 1,000 live births)': 'Infant Mortality',\n",
    "    'Population growth (annual %)': '% Population Growth',\n",
    "    'Rural population (% of total population)': '% Rural Population',\n",
    "    'Suicide mortality rate (per 100,000 population)': 'Suicide Rate',\n",
    "    \n",
    "    #UN_Data\n",
    "    'Value': 'Gini',\n",
    "    \n",
    "    #WID\n",
    "    #(To Do)\n",
    "    \n",
    "    #WorldInData\n",
    "    'civlib_vdem_owid': 'Civil Liberties',\n",
    "    'Employment-to-population ratio, men (%)': '% Men Employment',\n",
    "    'Employment-to-population ratio, women (%)': '% Women Employment',\n",
    "    'Population (historical estimates)': 'Population',\n",
    "    'freeexpr_vdem_owid': 'Freedom of Expression',\n",
    "    'Indicator:Domestic general government health expenditure (GGHE-D) as percentage of general government expenditure (GGE) (%)': '% Healthcare Investment',\n",
    "    'Industry as % of total employment -- ILO modelled estimates, May 2017': '% Employment Industry',\n",
    "    'UIS: Mean years of schooling of the population age 25+. Female': 'Women Schooling Years',\n",
    "    'UIS: Mean years of schooling of the population age 25+. Male': 'Men Schooling Years',\n",
    "    'Government expenditure on education, total (% of government expenditure)': '% Education Expenditure'\n",
    "\n",
    "}"
   ]
  },
  {
   "cell_type": "markdown",
   "id": "ffe73590",
   "metadata": {},
   "source": [
    "## READING\n",
    "\n",
    "The first step will explore the directory specified in the str read_path, check what files are .csv, and try to read and preprocess them. Those succesfully read and processed will be stored in a dictionary with their url as a key. Both of them, dataframes and url, will also be stored in two lists.\n",
    "\n",
    "For those .csv that cannot be read or processed, we will store their url in a discarded list, and raise a warning should there be any faulty url."
   ]
  },
  {
   "cell_type": "code",
   "execution_count": 4,
   "id": "fbbd613d",
   "metadata": {
    "scrolled": false
   },
   "outputs": [
    {
     "name": "stdout",
     "output_type": "stream",
     "text": [
      "                                     Series Name     Series Code  \\\n",
      "0  CPIA gender equality rating (1=low to 6=high)  IQ.CPA.GNDR.XQ   \n",
      "1  CPIA gender equality rating (1=low to 6=high)  IQ.CPA.GNDR.XQ   \n",
      "2  CPIA gender equality rating (1=low to 6=high)  IQ.CPA.GNDR.XQ   \n",
      "3  CPIA gender equality rating (1=low to 6=high)  IQ.CPA.GNDR.XQ   \n",
      "4  CPIA gender equality rating (1=low to 6=high)  IQ.CPA.GNDR.XQ   \n",
      "\n",
      "     Country Name Country Code 1960 [YR1960]  \n",
      "0     Afghanistan          AFG            ..  \n",
      "1         Albania          ALB            ..  \n",
      "2         Algeria          DZA            ..  \n",
      "3  American Samoa          ASM            ..  \n",
      "4         Andorra          AND            ..  \n"
     ]
    }
   ],
   "source": [
    "data_dict, _ = read_data(read_path)\n",
    "\n",
    "index_to_show = 0\n",
    "\n",
    "#Show before standardization\n",
    "key = list(data_dict.keys())[index_to_show]\n",
    "print(data_dict[key].iloc[:, :5].head())"
   ]
  },
  {
   "cell_type": "markdown",
   "id": "154a9ce4",
   "metadata": {},
   "source": [
    "# Preprocessing\n",
    "\n",
    "In order to be able to merge all the dataframes into one big table, we need to standardize them. This process will take two steps: first, we rearrange them so they all have a similar shape; then, we format their content so each column's type is roughly the same and can be merged."
   ]
  },
  {
   "cell_type": "code",
   "execution_count": 5,
   "id": "756c8de8",
   "metadata": {},
   "outputs": [
    {
     "name": "stdout",
     "output_type": "stream",
     "text": [
      "                                     Series Name     Series Code  \\\n",
      "0  CPIA gender equality rating (1=low to 6=high)  IQ.CPA.GNDR.XQ   \n",
      "1  CPIA gender equality rating (1=low to 6=high)  IQ.CPA.GNDR.XQ   \n",
      "2  CPIA gender equality rating (1=low to 6=high)  IQ.CPA.GNDR.XQ   \n",
      "3  CPIA gender equality rating (1=low to 6=high)  IQ.CPA.GNDR.XQ   \n",
      "4  CPIA gender equality rating (1=low to 6=high)  IQ.CPA.GNDR.XQ   \n",
      "\n",
      "     Country Name Country Code 1960 [YR1960]  \n",
      "0     Afghanistan          AFG            ..  \n",
      "1         Albania          ALB            ..  \n",
      "2         Algeria          DZA            ..  \n",
      "3  American Samoa          ASM            ..  \n",
      "4         Andorra          AND            ..  \n",
      "----------------------------------------------\n"
     ]
    },
    {
     "data": {
      "text/html": [
       "<div>\n",
       "<style scoped>\n",
       "    .dataframe tbody tr th:only-of-type {\n",
       "        vertical-align: middle;\n",
       "    }\n",
       "\n",
       "    .dataframe tbody tr th {\n",
       "        vertical-align: top;\n",
       "    }\n",
       "\n",
       "    .dataframe thead th {\n",
       "        text-align: right;\n",
       "    }\n",
       "</style>\n",
       "<table border=\"1\" class=\"dataframe\">\n",
       "  <thead>\n",
       "    <tr style=\"text-align: right;\">\n",
       "      <th></th>\n",
       "      <th>Country</th>\n",
       "      <th>Year</th>\n",
       "      <th>Gender Equality</th>\n",
       "    </tr>\n",
       "  </thead>\n",
       "  <tbody>\n",
       "    <tr>\n",
       "      <th>0</th>\n",
       "      <td>Afghanistan</td>\n",
       "      <td>1960</td>\n",
       "      <td>NaN</td>\n",
       "    </tr>\n",
       "    <tr>\n",
       "      <th>1</th>\n",
       "      <td>Albania</td>\n",
       "      <td>1960</td>\n",
       "      <td>NaN</td>\n",
       "    </tr>\n",
       "    <tr>\n",
       "      <th>2</th>\n",
       "      <td>Algeria</td>\n",
       "      <td>1960</td>\n",
       "      <td>NaN</td>\n",
       "    </tr>\n",
       "    <tr>\n",
       "      <th>3</th>\n",
       "      <td>American Samoa</td>\n",
       "      <td>1960</td>\n",
       "      <td>NaN</td>\n",
       "    </tr>\n",
       "    <tr>\n",
       "      <th>4</th>\n",
       "      <td>Andorra</td>\n",
       "      <td>1960</td>\n",
       "      <td>NaN</td>\n",
       "    </tr>\n",
       "  </tbody>\n",
       "</table>\n",
       "</div>"
      ],
      "text/plain": [
       "          Country  Year  Gender Equality\n",
       "0     Afghanistan  1960              NaN\n",
       "1         Albania  1960              NaN\n",
       "2         Algeria  1960              NaN\n",
       "3  American Samoa  1960              NaN\n",
       "4         Andorra  1960              NaN"
      ]
     },
     "execution_count": 5,
     "metadata": {},
     "output_type": "execute_result"
    }
   ],
   "source": [
    "index_to_show = 0\n",
    "\n",
    "#Show before standardization\n",
    "key = list(data_dict.keys())[index_to_show]\n",
    "print(data_dict[key].iloc[:, :5].head())\n",
    "print('----------------------------------------------')\n",
    "#set_indicators(indicators)\n",
    "df_list = []\n",
    "for url, df in data_dict.items():\n",
    "    df = preprocess(url = url, df = df, columns_index = columns_index, columns_rename = columns_rename, inplace = True)\n",
    "    df = standardize(df = df, columns_index = columns_index, inplace = True)\n",
    "    df.set_index(columns_index)\n",
    "    df_list.append(df)\n",
    "\n",
    "#Show after standardization\n",
    "df_list[index_to_show].head()"
   ]
  },
  {
   "cell_type": "markdown",
   "id": "24a9c56f",
   "metadata": {},
   "source": [
    "# Merge\n",
    "\n",
    "After standardizing all the dataframes to have the same shape and roughly the same format for their columns, we apply a merge operation."
   ]
  },
  {
   "cell_type": "code",
   "execution_count": 6,
   "id": "00f71f17",
   "metadata": {},
   "outputs": [
    {
     "name": "stdout",
     "output_type": "stream",
     "text": [
      "          Country  Year  Gender Equality  % Undernourishment  AgriShareGDP\n",
      "0     Afghanistan  1960              NaN                 NaN           NaN\n",
      "1         Albania  1960              NaN                 NaN           NaN\n",
      "2         Algeria  1960              NaN                 NaN           NaN\n",
      "3  American Samoa  1960              NaN                 NaN           NaN\n",
      "4         Andorra  1960              NaN                 NaN           NaN\n",
      "             Country  Year  Gender Equality  % Undernourishment  AgriShareGDP\n",
      "67519       Zimbabwe  1896              NaN                 NaN           NaN\n",
      "67520       Zimbabwe  1897              NaN                 NaN           NaN\n",
      "67521       Zimbabwe  1898              NaN                 NaN           NaN\n",
      "67522       Zimbabwe  1899              NaN                 NaN           NaN\n",
      "67523  Åland Islands  2015              NaN                 NaN           NaN\n"
     ]
    }
   ],
   "source": [
    "merged_df = merge_data(df_list, columns_index = columns_index)\n",
    "\n",
    "#Show head and tail of the merged dataframe\n",
    "print(merged_df.iloc[:, :5].head())\n",
    "print(merged_df.iloc[:, :5].tail())\n",
    "\n",
    "if not os.path.exists(write_path):\n",
    "    os.makedirs(write_path)\n",
    "\n",
    "merged_df.to_csv(write_path + '/BronzeDataframe.csv', index = False)"
   ]
  },
  {
   "cell_type": "code",
   "execution_count": 7,
   "id": "f1fe32b1",
   "metadata": {},
   "outputs": [
    {
     "data": {
      "text/plain": [
       "Country                       object\n",
       "Year                           int32\n",
       "Gender Equality              float64\n",
       "% Undernourishment           float64\n",
       "AgriShareGDP                 float64\n",
       "CreditToAgriFishForest       float64\n",
       "EmploymentRural              float64\n",
       "GDP                          float64\n",
       "%EmploymentAgriFishForest    float64\n",
       "TotalAgri                    float64\n",
       "Gender Inequality            float64\n",
       "% Soldiers                   float64\n",
       "Marriage Rate                float64\n",
       "Birth Rate                   float64\n",
       "Death Rate                   float64\n",
       "Homicides                    float64\n",
       "Life Expectancy              float64\n",
       "Maternal Death Risk          float64\n",
       "Literacy Rate                float64\n",
       "Infant Mortality             float64\n",
       "% Population Growth          float64\n",
       "% Rural Population           float64\n",
       "Suicide Rate                 float64\n",
       "Gini                         float64\n",
       "Civil Liberties              float64\n",
       "Freedom of Expression        float64\n",
       "% Healthcare Investment      float64\n",
       "% Employment Industry        float64\n",
       "Women Schooling Years        float64\n",
       "Men Schooling Years          float64\n",
       "% Education Expenditure      float64\n",
       "% Men Employment             float64\n",
       "% Women Employment           float64\n",
       "Population                   float64\n",
       "dtype: object"
      ]
     },
     "execution_count": 7,
     "metadata": {},
     "output_type": "execute_result"
    }
   ],
   "source": [
    "merged_df.dtypes"
   ]
  },
  {
   "cell_type": "code",
   "execution_count": null,
   "id": "69cff340",
   "metadata": {},
   "outputs": [],
   "source": []
  }
 ],
 "metadata": {
  "kernelspec": {
   "display_name": "Python 3.10.5 64-bit",
   "language": "python",
   "name": "python3"
  },
  "language_info": {
   "codemirror_mode": {
    "name": "ipython",
    "version": 3
   },
   "file_extension": ".py",
   "mimetype": "text/x-python",
   "name": "python",
   "nbconvert_exporter": "python",
   "pygments_lexer": "ipython3",
   "version": "3.10.5"
  },
  "vscode": {
   "interpreter": {
    "hash": "0f125167b10a1b9a4f9ae66147d44e6866f68590a5a5b9d034767aa8a5f10f1c"
   }
  }
 },
 "nbformat": 4,
 "nbformat_minor": 5
}
