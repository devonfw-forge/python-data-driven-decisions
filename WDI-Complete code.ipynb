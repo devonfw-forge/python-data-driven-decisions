{
 "cells": [
  {
   "cell_type": "markdown",
   "metadata": {},
   "source": [
    "# EXTRACTION"
   ]
  },
  {
   "cell_type": "markdown",
   "metadata": {},
   "source": [
    "Import libraries and functions."
   ]
  },
  {
   "cell_type": "code",
   "execution_count": 46,
   "metadata": {},
   "outputs": [],
   "source": [
    "import pandas as pd\n",
    "import numpy as np\n",
    "import glob\n",
    "import os\n",
    "import warnings\n",
    "warnings.filterwarnings(\"ignore\")\n",
    "import functools as ft\n",
    "from pyspark.sql.functions import concat, col, lit, split\n",
    "import ipywidgets as widgets\n",
    "from ipywidgets import Layout\n",
    "from ipywidgets import interact, interact_manual\n",
    "import plotly.express as px"
   ]
  },
  {
   "cell_type": "markdown",
   "metadata": {},
   "source": [
    "Firstly we load the database from World Data Bank that has been downloaded and extracted in the *Data extraction* notebook. We acquire it from the predetermined path that is on our computer."
   ]
  },
  {
   "cell_type": "code",
   "execution_count": 47,
   "metadata": {},
   "outputs": [
    {
     "data": {
      "text/html": [
       "<div>\n",
       "<style scoped>\n",
       "    .dataframe tbody tr th:only-of-type {\n",
       "        vertical-align: middle;\n",
       "    }\n",
       "\n",
       "    .dataframe tbody tr th {\n",
       "        vertical-align: top;\n",
       "    }\n",
       "\n",
       "    .dataframe thead th {\n",
       "        text-align: right;\n",
       "    }\n",
       "</style>\n",
       "<table border=\"1\" class=\"dataframe\">\n",
       "  <thead>\n",
       "    <tr style=\"text-align: right;\">\n",
       "      <th></th>\n",
       "      <th>Country Name</th>\n",
       "      <th>Country Code</th>\n",
       "      <th>Indicator Name</th>\n",
       "      <th>Indicator Code</th>\n",
       "      <th>1960</th>\n",
       "      <th>1961</th>\n",
       "      <th>1962</th>\n",
       "      <th>1963</th>\n",
       "      <th>1964</th>\n",
       "      <th>1965</th>\n",
       "      <th>...</th>\n",
       "      <th>2013</th>\n",
       "      <th>2014</th>\n",
       "      <th>2015</th>\n",
       "      <th>2016</th>\n",
       "      <th>2017</th>\n",
       "      <th>2018</th>\n",
       "      <th>2019</th>\n",
       "      <th>2020</th>\n",
       "      <th>2021</th>\n",
       "      <th>Unnamed: 66</th>\n",
       "    </tr>\n",
       "  </thead>\n",
       "  <tbody>\n",
       "    <tr>\n",
       "      <th>0</th>\n",
       "      <td>Africa Eastern and Southern</td>\n",
       "      <td>AFE</td>\n",
       "      <td>Access to clean fuels and technologies for coo...</td>\n",
       "      <td>EG.CFT.ACCS.ZS</td>\n",
       "      <td>NaN</td>\n",
       "      <td>NaN</td>\n",
       "      <td>NaN</td>\n",
       "      <td>NaN</td>\n",
       "      <td>NaN</td>\n",
       "      <td>NaN</td>\n",
       "      <td>...</td>\n",
       "      <td>16.936004</td>\n",
       "      <td>17.337896</td>\n",
       "      <td>17.687093</td>\n",
       "      <td>18.140971</td>\n",
       "      <td>18.491344</td>\n",
       "      <td>18.825520</td>\n",
       "      <td>19.272212</td>\n",
       "      <td>19.628009</td>\n",
       "      <td>NaN</td>\n",
       "      <td>NaN</td>\n",
       "    </tr>\n",
       "    <tr>\n",
       "      <th>1</th>\n",
       "      <td>Africa Eastern and Southern</td>\n",
       "      <td>AFE</td>\n",
       "      <td>Access to clean fuels and technologies for coo...</td>\n",
       "      <td>EG.CFT.ACCS.RU.ZS</td>\n",
       "      <td>NaN</td>\n",
       "      <td>NaN</td>\n",
       "      <td>NaN</td>\n",
       "      <td>NaN</td>\n",
       "      <td>NaN</td>\n",
       "      <td>NaN</td>\n",
       "      <td>...</td>\n",
       "      <td>6.499471</td>\n",
       "      <td>6.680066</td>\n",
       "      <td>6.859110</td>\n",
       "      <td>7.016238</td>\n",
       "      <td>7.180364</td>\n",
       "      <td>7.322294</td>\n",
       "      <td>7.517191</td>\n",
       "      <td>7.651598</td>\n",
       "      <td>NaN</td>\n",
       "      <td>NaN</td>\n",
       "    </tr>\n",
       "    <tr>\n",
       "      <th>2</th>\n",
       "      <td>Africa Eastern and Southern</td>\n",
       "      <td>AFE</td>\n",
       "      <td>Access to clean fuels and technologies for coo...</td>\n",
       "      <td>EG.CFT.ACCS.UR.ZS</td>\n",
       "      <td>NaN</td>\n",
       "      <td>NaN</td>\n",
       "      <td>NaN</td>\n",
       "      <td>NaN</td>\n",
       "      <td>NaN</td>\n",
       "      <td>NaN</td>\n",
       "      <td>...</td>\n",
       "      <td>37.855399</td>\n",
       "      <td>38.046781</td>\n",
       "      <td>38.326255</td>\n",
       "      <td>38.468426</td>\n",
       "      <td>38.670044</td>\n",
       "      <td>38.722783</td>\n",
       "      <td>38.927016</td>\n",
       "      <td>39.042839</td>\n",
       "      <td>NaN</td>\n",
       "      <td>NaN</td>\n",
       "    </tr>\n",
       "    <tr>\n",
       "      <th>3</th>\n",
       "      <td>Africa Eastern and Southern</td>\n",
       "      <td>AFE</td>\n",
       "      <td>Access to electricity (% of population)</td>\n",
       "      <td>EG.ELC.ACCS.ZS</td>\n",
       "      <td>NaN</td>\n",
       "      <td>NaN</td>\n",
       "      <td>NaN</td>\n",
       "      <td>NaN</td>\n",
       "      <td>NaN</td>\n",
       "      <td>NaN</td>\n",
       "      <td>...</td>\n",
       "      <td>31.794160</td>\n",
       "      <td>32.001027</td>\n",
       "      <td>33.871910</td>\n",
       "      <td>38.880173</td>\n",
       "      <td>40.261358</td>\n",
       "      <td>43.061877</td>\n",
       "      <td>44.270860</td>\n",
       "      <td>45.803485</td>\n",
       "      <td>NaN</td>\n",
       "      <td>NaN</td>\n",
       "    </tr>\n",
       "    <tr>\n",
       "      <th>4</th>\n",
       "      <td>Africa Eastern and Southern</td>\n",
       "      <td>AFE</td>\n",
       "      <td>Access to electricity, rural (% of rural popul...</td>\n",
       "      <td>EG.ELC.ACCS.RU.ZS</td>\n",
       "      <td>NaN</td>\n",
       "      <td>NaN</td>\n",
       "      <td>NaN</td>\n",
       "      <td>NaN</td>\n",
       "      <td>NaN</td>\n",
       "      <td>NaN</td>\n",
       "      <td>...</td>\n",
       "      <td>18.663502</td>\n",
       "      <td>17.633986</td>\n",
       "      <td>16.464681</td>\n",
       "      <td>24.531436</td>\n",
       "      <td>25.345111</td>\n",
       "      <td>27.449908</td>\n",
       "      <td>29.641760</td>\n",
       "      <td>30.404935</td>\n",
       "      <td>NaN</td>\n",
       "      <td>NaN</td>\n",
       "    </tr>\n",
       "    <tr>\n",
       "      <th>...</th>\n",
       "      <td>...</td>\n",
       "      <td>...</td>\n",
       "      <td>...</td>\n",
       "      <td>...</td>\n",
       "      <td>...</td>\n",
       "      <td>...</td>\n",
       "      <td>...</td>\n",
       "      <td>...</td>\n",
       "      <td>...</td>\n",
       "      <td>...</td>\n",
       "      <td>...</td>\n",
       "      <td>...</td>\n",
       "      <td>...</td>\n",
       "      <td>...</td>\n",
       "      <td>...</td>\n",
       "      <td>...</td>\n",
       "      <td>...</td>\n",
       "      <td>...</td>\n",
       "      <td>...</td>\n",
       "      <td>...</td>\n",
       "      <td>...</td>\n",
       "    </tr>\n",
       "    <tr>\n",
       "      <th>384365</th>\n",
       "      <td>Zimbabwe</td>\n",
       "      <td>ZWE</td>\n",
       "      <td>Women who believe a husband is justified in be...</td>\n",
       "      <td>SG.VAW.REFU.ZS</td>\n",
       "      <td>NaN</td>\n",
       "      <td>NaN</td>\n",
       "      <td>NaN</td>\n",
       "      <td>NaN</td>\n",
       "      <td>NaN</td>\n",
       "      <td>NaN</td>\n",
       "      <td>...</td>\n",
       "      <td>NaN</td>\n",
       "      <td>NaN</td>\n",
       "      <td>14.500000</td>\n",
       "      <td>NaN</td>\n",
       "      <td>NaN</td>\n",
       "      <td>NaN</td>\n",
       "      <td>NaN</td>\n",
       "      <td>NaN</td>\n",
       "      <td>NaN</td>\n",
       "      <td>NaN</td>\n",
       "    </tr>\n",
       "    <tr>\n",
       "      <th>384366</th>\n",
       "      <td>Zimbabwe</td>\n",
       "      <td>ZWE</td>\n",
       "      <td>Women who were first married by age 15 (% of w...</td>\n",
       "      <td>SP.M15.2024.FE.ZS</td>\n",
       "      <td>NaN</td>\n",
       "      <td>NaN</td>\n",
       "      <td>NaN</td>\n",
       "      <td>NaN</td>\n",
       "      <td>NaN</td>\n",
       "      <td>NaN</td>\n",
       "      <td>...</td>\n",
       "      <td>NaN</td>\n",
       "      <td>NaN</td>\n",
       "      <td>3.700000</td>\n",
       "      <td>NaN</td>\n",
       "      <td>NaN</td>\n",
       "      <td>NaN</td>\n",
       "      <td>5.418352</td>\n",
       "      <td>NaN</td>\n",
       "      <td>NaN</td>\n",
       "      <td>NaN</td>\n",
       "    </tr>\n",
       "    <tr>\n",
       "      <th>384367</th>\n",
       "      <td>Zimbabwe</td>\n",
       "      <td>ZWE</td>\n",
       "      <td>Women who were first married by age 18 (% of w...</td>\n",
       "      <td>SP.M18.2024.FE.ZS</td>\n",
       "      <td>NaN</td>\n",
       "      <td>NaN</td>\n",
       "      <td>NaN</td>\n",
       "      <td>NaN</td>\n",
       "      <td>NaN</td>\n",
       "      <td>NaN</td>\n",
       "      <td>...</td>\n",
       "      <td>NaN</td>\n",
       "      <td>33.500000</td>\n",
       "      <td>32.400000</td>\n",
       "      <td>NaN</td>\n",
       "      <td>NaN</td>\n",
       "      <td>NaN</td>\n",
       "      <td>33.658057</td>\n",
       "      <td>NaN</td>\n",
       "      <td>NaN</td>\n",
       "      <td>NaN</td>\n",
       "    </tr>\n",
       "    <tr>\n",
       "      <th>384368</th>\n",
       "      <td>Zimbabwe</td>\n",
       "      <td>ZWE</td>\n",
       "      <td>Women's share of population ages 15+ living wi...</td>\n",
       "      <td>SH.DYN.AIDS.FE.ZS</td>\n",
       "      <td>NaN</td>\n",
       "      <td>NaN</td>\n",
       "      <td>NaN</td>\n",
       "      <td>NaN</td>\n",
       "      <td>NaN</td>\n",
       "      <td>NaN</td>\n",
       "      <td>...</td>\n",
       "      <td>59.200000</td>\n",
       "      <td>59.400000</td>\n",
       "      <td>59.500000</td>\n",
       "      <td>59.700000</td>\n",
       "      <td>59.900000</td>\n",
       "      <td>60.000000</td>\n",
       "      <td>60.200000</td>\n",
       "      <td>60.400000</td>\n",
       "      <td>NaN</td>\n",
       "      <td>NaN</td>\n",
       "    </tr>\n",
       "    <tr>\n",
       "      <th>384369</th>\n",
       "      <td>Zimbabwe</td>\n",
       "      <td>ZWE</td>\n",
       "      <td>Young people (ages 15-24) newly infected with HIV</td>\n",
       "      <td>SH.HIV.INCD.YG</td>\n",
       "      <td>NaN</td>\n",
       "      <td>NaN</td>\n",
       "      <td>NaN</td>\n",
       "      <td>NaN</td>\n",
       "      <td>NaN</td>\n",
       "      <td>NaN</td>\n",
       "      <td>...</td>\n",
       "      <td>18000.000000</td>\n",
       "      <td>17000.000000</td>\n",
       "      <td>15000.000000</td>\n",
       "      <td>14000.000000</td>\n",
       "      <td>12000.000000</td>\n",
       "      <td>9700.000000</td>\n",
       "      <td>9600.000000</td>\n",
       "      <td>7500.000000</td>\n",
       "      <td>NaN</td>\n",
       "      <td>NaN</td>\n",
       "    </tr>\n",
       "  </tbody>\n",
       "</table>\n",
       "<p>384370 rows × 67 columns</p>\n",
       "</div>"
      ],
      "text/plain": [
       "                       Country Name Country Code  \\\n",
       "0       Africa Eastern and Southern          AFE   \n",
       "1       Africa Eastern and Southern          AFE   \n",
       "2       Africa Eastern and Southern          AFE   \n",
       "3       Africa Eastern and Southern          AFE   \n",
       "4       Africa Eastern and Southern          AFE   \n",
       "...                             ...          ...   \n",
       "384365                     Zimbabwe          ZWE   \n",
       "384366                     Zimbabwe          ZWE   \n",
       "384367                     Zimbabwe          ZWE   \n",
       "384368                     Zimbabwe          ZWE   \n",
       "384369                     Zimbabwe          ZWE   \n",
       "\n",
       "                                           Indicator Name     Indicator Code  \\\n",
       "0       Access to clean fuels and technologies for coo...     EG.CFT.ACCS.ZS   \n",
       "1       Access to clean fuels and technologies for coo...  EG.CFT.ACCS.RU.ZS   \n",
       "2       Access to clean fuels and technologies for coo...  EG.CFT.ACCS.UR.ZS   \n",
       "3                 Access to electricity (% of population)     EG.ELC.ACCS.ZS   \n",
       "4       Access to electricity, rural (% of rural popul...  EG.ELC.ACCS.RU.ZS   \n",
       "...                                                   ...                ...   \n",
       "384365  Women who believe a husband is justified in be...     SG.VAW.REFU.ZS   \n",
       "384366  Women who were first married by age 15 (% of w...  SP.M15.2024.FE.ZS   \n",
       "384367  Women who were first married by age 18 (% of w...  SP.M18.2024.FE.ZS   \n",
       "384368  Women's share of population ages 15+ living wi...  SH.DYN.AIDS.FE.ZS   \n",
       "384369  Young people (ages 15-24) newly infected with HIV     SH.HIV.INCD.YG   \n",
       "\n",
       "        1960  1961  1962  1963  1964  1965  ...          2013          2014  \\\n",
       "0        NaN   NaN   NaN   NaN   NaN   NaN  ...     16.936004     17.337896   \n",
       "1        NaN   NaN   NaN   NaN   NaN   NaN  ...      6.499471      6.680066   \n",
       "2        NaN   NaN   NaN   NaN   NaN   NaN  ...     37.855399     38.046781   \n",
       "3        NaN   NaN   NaN   NaN   NaN   NaN  ...     31.794160     32.001027   \n",
       "4        NaN   NaN   NaN   NaN   NaN   NaN  ...     18.663502     17.633986   \n",
       "...      ...   ...   ...   ...   ...   ...  ...           ...           ...   \n",
       "384365   NaN   NaN   NaN   NaN   NaN   NaN  ...           NaN           NaN   \n",
       "384366   NaN   NaN   NaN   NaN   NaN   NaN  ...           NaN           NaN   \n",
       "384367   NaN   NaN   NaN   NaN   NaN   NaN  ...           NaN     33.500000   \n",
       "384368   NaN   NaN   NaN   NaN   NaN   NaN  ...     59.200000     59.400000   \n",
       "384369   NaN   NaN   NaN   NaN   NaN   NaN  ...  18000.000000  17000.000000   \n",
       "\n",
       "                2015          2016          2017         2018         2019  \\\n",
       "0          17.687093     18.140971     18.491344    18.825520    19.272212   \n",
       "1           6.859110      7.016238      7.180364     7.322294     7.517191   \n",
       "2          38.326255     38.468426     38.670044    38.722783    38.927016   \n",
       "3          33.871910     38.880173     40.261358    43.061877    44.270860   \n",
       "4          16.464681     24.531436     25.345111    27.449908    29.641760   \n",
       "...              ...           ...           ...          ...          ...   \n",
       "384365     14.500000           NaN           NaN          NaN          NaN   \n",
       "384366      3.700000           NaN           NaN          NaN     5.418352   \n",
       "384367     32.400000           NaN           NaN          NaN    33.658057   \n",
       "384368     59.500000     59.700000     59.900000    60.000000    60.200000   \n",
       "384369  15000.000000  14000.000000  12000.000000  9700.000000  9600.000000   \n",
       "\n",
       "               2020  2021  Unnamed: 66  \n",
       "0         19.628009   NaN          NaN  \n",
       "1          7.651598   NaN          NaN  \n",
       "2         39.042839   NaN          NaN  \n",
       "3         45.803485   NaN          NaN  \n",
       "4         30.404935   NaN          NaN  \n",
       "...             ...   ...          ...  \n",
       "384365          NaN   NaN          NaN  \n",
       "384366          NaN   NaN          NaN  \n",
       "384367          NaN   NaN          NaN  \n",
       "384368    60.400000   NaN          NaN  \n",
       "384369  7500.000000   NaN          NaN  \n",
       "\n",
       "[384370 rows x 67 columns]"
      ]
     },
     "execution_count": 47,
     "metadata": {},
     "output_type": "execute_result"
    }
   ],
   "source": [
    "df= pd.read_csv (os.getcwd()+'/Data/'+'WDIData.csv')\n",
    "df"
   ]
  },
  {
   "cell_type": "markdown",
   "metadata": {},
   "source": [
    "# INTEGRATION"
   ]
  },
  {
   "cell_type": "markdown",
   "metadata": {},
   "source": [
    "Moreover, to work more comfortably, we remove those columns not useful for us, as *Country Name* and *Indicator Code*, since with the *Country Code*, *Value* and the *Indicator Name* we have the relevant information."
   ]
  },
  {
   "cell_type": "code",
   "execution_count": 48,
   "metadata": {},
   "outputs": [],
   "source": [
    "df.drop(columns=[\"Country Name\",\"Indicator Code\"], axis=1, inplace=True)"
   ]
  },
  {
   "cell_type": "markdown",
   "metadata": {},
   "source": [
    "FILTER 1: BY COUNTRY\n",
    "\n",
    "From the almost two hundred countries we have information about in the worldwide database, we have decided to study 50 of them, grouping them by geographical and economical similiarities. With this, we can keep in our dataframe the selected countries."
   ]
  },
  {
   "cell_type": "markdown",
   "metadata": {},
   "source": [
    "Criteria for grouping:\n",
    "- Europe: Germany, France, Sweden, United Kingdom, Spain, Croatia, Poland, Greece, Austria and Netherlands.\n",
    "\n",
    "*Interesting countries of the European continent that can reflect events such as the Brexit process, the 2008 crisis or their historical strength.*\n",
    "- Persian Gulf: Iraq, Qatar, United Arab Emirates, Arabia Saudita, Azerbayan, Yemen, Yemen Democratic and Oman.\n",
    "\n",
    "*Countries located in the Persian Gulf, which have a similar economy based mainly on petrol and social structures.*\n",
    "- North Africa: Algeria, Egiypt, Lybia, Israel, Turkey and Morroco.\n",
    "\n",
    "*Countries of the african continent that are middle developed and with high mobility of people and goods.*\n",
    "- South Africa: Senegal, South Africa, Liberia, Mozambique, Cameroon, Nigeria and Ghana.\n",
    "\n",
    "*Countries of the south and central africa that are mainly subdeveloped and considered some of the poorest countries worldwide; but, on the contrary, one of them is highly developed.*\n",
    "- Asia: Bangladesh, India, Vietnam, Thailand, Indonesia, Philipines and Korea (South).\n",
    "\n",
    "*Converted in the last decades in the manufacturing of the world, they are subdeveloped countries with high population and childhood.*\n",
    "- Latin America: Mexico, Brasil, Argentina, Peru, Venezuela, Colombia, Chile, Panama and Costa Rica.\n",
    "\n",
    "*Countries located in same continet and some with singular political structures.* \n",
    "- Pair: USA and China.\n",
    "\n",
    "*Although these countries seem to be confronted between them, they have been the top two most growing worlwide, despite the fact that culturally and economically they are completely distant.*\n"
   ]
  },
  {
   "cell_type": "code",
   "execution_count": 49,
   "metadata": {},
   "outputs": [],
   "source": [
    "europe_list=['DEU','FRA','SWE','GBR','ESP','HRV','POL','GRC','AUT','NLD']\n",
    "persian_list=['IRQ','QAT','ARE','SAU','AZE','YEM','YDR','OMN']\n",
    "naf_list=['DZA','EGY','LBY','ISR','TUR','MAR']\n",
    "saf_list=['SEN','ZAF','LBR','MOZ','CMR','NGA','GHA']\n",
    "asia_list=['BGD','IND','VNM','THA','IDN','PHL','KOR']\n",
    "latam_list=['MEX','BRA','ARG','PER','VEN','COL','CHL','PAN','CRI']\n",
    "two_list=['USA','CHN']\n",
    "country_list=europe_list+persian_list+naf_list+saf_list+asia_list+latam_list+two_list "
   ]
  },
  {
   "cell_type": "code",
   "execution_count": 50,
   "metadata": {},
   "outputs": [],
   "source": [
    "df1=df.loc[df['Country Code'].isin(country_list)]"
   ]
  },
  {
   "cell_type": "markdown",
   "metadata": {},
   "source": [
    "Now we transpose the rows of years into the columns."
   ]
  },
  {
   "cell_type": "code",
   "execution_count": 51,
   "metadata": {},
   "outputs": [
    {
     "data": {
      "text/html": [
       "<div>\n",
       "<style scoped>\n",
       "    .dataframe tbody tr th:only-of-type {\n",
       "        vertical-align: middle;\n",
       "    }\n",
       "\n",
       "    .dataframe tbody tr th {\n",
       "        vertical-align: top;\n",
       "    }\n",
       "\n",
       "    .dataframe thead th {\n",
       "        text-align: right;\n",
       "    }\n",
       "</style>\n",
       "<table border=\"1\" class=\"dataframe\">\n",
       "  <thead>\n",
       "    <tr style=\"text-align: right;\">\n",
       "      <th></th>\n",
       "      <th>Country Code</th>\n",
       "      <th>Indicator Name</th>\n",
       "      <th>Date</th>\n",
       "      <th>Value</th>\n",
       "    </tr>\n",
       "  </thead>\n",
       "  <tbody>\n",
       "    <tr>\n",
       "      <th>0</th>\n",
       "      <td>DZA</td>\n",
       "      <td>Access to clean fuels and technologies for coo...</td>\n",
       "      <td>2000</td>\n",
       "      <td>97.1</td>\n",
       "    </tr>\n",
       "    <tr>\n",
       "      <th>1</th>\n",
       "      <td>DZA</td>\n",
       "      <td>Access to clean fuels and technologies for coo...</td>\n",
       "      <td>2001</td>\n",
       "      <td>97.3</td>\n",
       "    </tr>\n",
       "    <tr>\n",
       "      <th>2</th>\n",
       "      <td>DZA</td>\n",
       "      <td>Access to clean fuels and technologies for coo...</td>\n",
       "      <td>2002</td>\n",
       "      <td>97.8</td>\n",
       "    </tr>\n",
       "    <tr>\n",
       "      <th>3</th>\n",
       "      <td>DZA</td>\n",
       "      <td>Access to clean fuels and technologies for coo...</td>\n",
       "      <td>2003</td>\n",
       "      <td>98.0</td>\n",
       "    </tr>\n",
       "    <tr>\n",
       "      <th>4</th>\n",
       "      <td>DZA</td>\n",
       "      <td>Access to clean fuels and technologies for coo...</td>\n",
       "      <td>2004</td>\n",
       "      <td>98.2</td>\n",
       "    </tr>\n",
       "    <tr>\n",
       "      <th>...</th>\n",
       "      <td>...</td>\n",
       "      <td>...</td>\n",
       "      <td>...</td>\n",
       "      <td>...</td>\n",
       "    </tr>\n",
       "    <tr>\n",
       "      <th>1769874</th>\n",
       "      <td>YEM</td>\n",
       "      <td>Young people (ages 15-24) newly infected with HIV</td>\n",
       "      <td>2016</td>\n",
       "      <td>200.0</td>\n",
       "    </tr>\n",
       "    <tr>\n",
       "      <th>1769875</th>\n",
       "      <td>YEM</td>\n",
       "      <td>Young people (ages 15-24) newly infected with HIV</td>\n",
       "      <td>2017</td>\n",
       "      <td>200.0</td>\n",
       "    </tr>\n",
       "    <tr>\n",
       "      <th>1769876</th>\n",
       "      <td>YEM</td>\n",
       "      <td>Young people (ages 15-24) newly infected with HIV</td>\n",
       "      <td>2018</td>\n",
       "      <td>200.0</td>\n",
       "    </tr>\n",
       "    <tr>\n",
       "      <th>1769877</th>\n",
       "      <td>YEM</td>\n",
       "      <td>Young people (ages 15-24) newly infected with HIV</td>\n",
       "      <td>2019</td>\n",
       "      <td>200.0</td>\n",
       "    </tr>\n",
       "    <tr>\n",
       "      <th>1769878</th>\n",
       "      <td>YEM</td>\n",
       "      <td>Young people (ages 15-24) newly infected with HIV</td>\n",
       "      <td>2020</td>\n",
       "      <td>200.0</td>\n",
       "    </tr>\n",
       "  </tbody>\n",
       "</table>\n",
       "<p>1769879 rows × 4 columns</p>\n",
       "</div>"
      ],
      "text/plain": [
       "        Country Code                                     Indicator Name  Date  \\\n",
       "0                DZA  Access to clean fuels and technologies for coo...  2000   \n",
       "1                DZA  Access to clean fuels and technologies for coo...  2001   \n",
       "2                DZA  Access to clean fuels and technologies for coo...  2002   \n",
       "3                DZA  Access to clean fuels and technologies for coo...  2003   \n",
       "4                DZA  Access to clean fuels and technologies for coo...  2004   \n",
       "...              ...                                                ...   ...   \n",
       "1769874          YEM  Young people (ages 15-24) newly infected with HIV  2016   \n",
       "1769875          YEM  Young people (ages 15-24) newly infected with HIV  2017   \n",
       "1769876          YEM  Young people (ages 15-24) newly infected with HIV  2018   \n",
       "1769877          YEM  Young people (ages 15-24) newly infected with HIV  2019   \n",
       "1769878          YEM  Young people (ages 15-24) newly infected with HIV  2020   \n",
       "\n",
       "         Value  \n",
       "0         97.1  \n",
       "1         97.3  \n",
       "2         97.8  \n",
       "3         98.0  \n",
       "4         98.2  \n",
       "...        ...  \n",
       "1769874  200.0  \n",
       "1769875  200.0  \n",
       "1769876  200.0  \n",
       "1769877  200.0  \n",
       "1769878  200.0  \n",
       "\n",
       "[1769879 rows x 4 columns]"
      ]
     },
     "execution_count": 51,
     "metadata": {},
     "output_type": "execute_result"
    }
   ],
   "source": [
    "df2=(df1.set_index([\"Country Code\", \"Indicator Name\"]).stack().reset_index(name='Value').rename(columns={'level_2':'Date'}))\n",
    "df2"
   ]
  },
  {
   "cell_type": "markdown",
   "metadata": {},
   "source": [
    "FILTER 2: BY YEAR\n",
    "\n",
    "Our time range covers from 1960 to 2021. However, the record is not uniform and complete for all areas and indicators. We can appreaciate that specially in the first years of the last century, so many data is missing, then it makes no sense to study it. Besides, for the year 2021 many data is also lacking. Therefore, we would delimit our study between 1990 and 2020."
   ]
  },
  {
   "cell_type": "code",
   "execution_count": 52,
   "metadata": {},
   "outputs": [],
   "source": [
    "df2[['Date']] = df2[['Date']].astype(int)"
   ]
  },
  {
   "cell_type": "code",
   "execution_count": 53,
   "metadata": {},
   "outputs": [
    {
     "data": {
      "text/plain": [
       "Country Code       object\n",
       "Indicator Name     object\n",
       "Date                int32\n",
       "Value             float64\n",
       "dtype: object"
      ]
     },
     "execution_count": 53,
     "metadata": {},
     "output_type": "execute_result"
    }
   ],
   "source": [
    "df2.dtypes"
   ]
  },
  {
   "cell_type": "code",
   "execution_count": 54,
   "metadata": {},
   "outputs": [
    {
     "data": {
      "text/html": [
       "<div>\n",
       "<style scoped>\n",
       "    .dataframe tbody tr th:only-of-type {\n",
       "        vertical-align: middle;\n",
       "    }\n",
       "\n",
       "    .dataframe tbody tr th {\n",
       "        vertical-align: top;\n",
       "    }\n",
       "\n",
       "    .dataframe thead th {\n",
       "        text-align: right;\n",
       "    }\n",
       "</style>\n",
       "<table border=\"1\" class=\"dataframe\">\n",
       "  <thead>\n",
       "    <tr style=\"text-align: right;\">\n",
       "      <th></th>\n",
       "      <th>Country Code</th>\n",
       "      <th>Indicator Name</th>\n",
       "      <th>Date</th>\n",
       "      <th>Value</th>\n",
       "    </tr>\n",
       "  </thead>\n",
       "  <tbody>\n",
       "    <tr>\n",
       "      <th>0</th>\n",
       "      <td>DZA</td>\n",
       "      <td>Access to clean fuels and technologies for coo...</td>\n",
       "      <td>2000</td>\n",
       "      <td>97.1</td>\n",
       "    </tr>\n",
       "    <tr>\n",
       "      <th>1</th>\n",
       "      <td>DZA</td>\n",
       "      <td>Access to clean fuels and technologies for coo...</td>\n",
       "      <td>2001</td>\n",
       "      <td>97.3</td>\n",
       "    </tr>\n",
       "    <tr>\n",
       "      <th>2</th>\n",
       "      <td>DZA</td>\n",
       "      <td>Access to clean fuels and technologies for coo...</td>\n",
       "      <td>2002</td>\n",
       "      <td>97.8</td>\n",
       "    </tr>\n",
       "    <tr>\n",
       "      <th>3</th>\n",
       "      <td>DZA</td>\n",
       "      <td>Access to clean fuels and technologies for coo...</td>\n",
       "      <td>2003</td>\n",
       "      <td>98.0</td>\n",
       "    </tr>\n",
       "    <tr>\n",
       "      <th>4</th>\n",
       "      <td>DZA</td>\n",
       "      <td>Access to clean fuels and technologies for coo...</td>\n",
       "      <td>2004</td>\n",
       "      <td>98.2</td>\n",
       "    </tr>\n",
       "    <tr>\n",
       "      <th>...</th>\n",
       "      <td>...</td>\n",
       "      <td>...</td>\n",
       "      <td>...</td>\n",
       "      <td>...</td>\n",
       "    </tr>\n",
       "    <tr>\n",
       "      <th>1769874</th>\n",
       "      <td>YEM</td>\n",
       "      <td>Young people (ages 15-24) newly infected with HIV</td>\n",
       "      <td>2016</td>\n",
       "      <td>200.0</td>\n",
       "    </tr>\n",
       "    <tr>\n",
       "      <th>1769875</th>\n",
       "      <td>YEM</td>\n",
       "      <td>Young people (ages 15-24) newly infected with HIV</td>\n",
       "      <td>2017</td>\n",
       "      <td>200.0</td>\n",
       "    </tr>\n",
       "    <tr>\n",
       "      <th>1769876</th>\n",
       "      <td>YEM</td>\n",
       "      <td>Young people (ages 15-24) newly infected with HIV</td>\n",
       "      <td>2018</td>\n",
       "      <td>200.0</td>\n",
       "    </tr>\n",
       "    <tr>\n",
       "      <th>1769877</th>\n",
       "      <td>YEM</td>\n",
       "      <td>Young people (ages 15-24) newly infected with HIV</td>\n",
       "      <td>2019</td>\n",
       "      <td>200.0</td>\n",
       "    </tr>\n",
       "    <tr>\n",
       "      <th>1769878</th>\n",
       "      <td>YEM</td>\n",
       "      <td>Young people (ages 15-24) newly infected with HIV</td>\n",
       "      <td>2020</td>\n",
       "      <td>200.0</td>\n",
       "    </tr>\n",
       "  </tbody>\n",
       "</table>\n",
       "<p>1225418 rows × 4 columns</p>\n",
       "</div>"
      ],
      "text/plain": [
       "        Country Code                                     Indicator Name  Date  \\\n",
       "0                DZA  Access to clean fuels and technologies for coo...  2000   \n",
       "1                DZA  Access to clean fuels and technologies for coo...  2001   \n",
       "2                DZA  Access to clean fuels and technologies for coo...  2002   \n",
       "3                DZA  Access to clean fuels and technologies for coo...  2003   \n",
       "4                DZA  Access to clean fuels and technologies for coo...  2004   \n",
       "...              ...                                                ...   ...   \n",
       "1769874          YEM  Young people (ages 15-24) newly infected with HIV  2016   \n",
       "1769875          YEM  Young people (ages 15-24) newly infected with HIV  2017   \n",
       "1769876          YEM  Young people (ages 15-24) newly infected with HIV  2018   \n",
       "1769877          YEM  Young people (ages 15-24) newly infected with HIV  2019   \n",
       "1769878          YEM  Young people (ages 15-24) newly infected with HIV  2020   \n",
       "\n",
       "         Value  \n",
       "0         97.1  \n",
       "1         97.3  \n",
       "2         97.8  \n",
       "3         98.0  \n",
       "4         98.2  \n",
       "...        ...  \n",
       "1769874  200.0  \n",
       "1769875  200.0  \n",
       "1769876  200.0  \n",
       "1769877  200.0  \n",
       "1769878  200.0  \n",
       "\n",
       "[1225418 rows x 4 columns]"
      ]
     },
     "execution_count": 54,
     "metadata": {},
     "output_type": "execute_result"
    }
   ],
   "source": [
    "df3 = df2[df2['Date'] > 1989]\n",
    "df3"
   ]
  },
  {
   "cell_type": "markdown",
   "metadata": {},
   "source": [
    "FILTER 3: BY INDICATOR"
   ]
  },
  {
   "cell_type": "markdown",
   "metadata": {},
   "source": [
    "As there are lots of indicators that have very similar meaning we have decided to select some indicators to perform the study (**Indicator group** = *Name of the selected indicator*):\n",
    "- **GDP** = *GDP (current US$), measures the monetary value of final goods and services produced in a country at a given period of time.*\n",
    "- **Literacy** = *Literacy rate, % of people ages 15 and above which are able to expand one's knowledge of reading and writing in order to develop one's thinking and learning for the purpose of understanding oneself and the world. Government expenditure on education, total % of government expenditure incurred on education service.*\n",
    "- **Migration** = *Net migration, difference between the number of immigrants (people coming into an area) and the number of emigrants (people leaving an area) throughout the year.*\n",
    "- **Exports** = *Commercial service exports (current US$)* and *Exports of goods and services (current US$). Exports term is referred to the goods and services which are produced in a country and sold to buyers in another one.*\n",
    "- **International trading** = *Taxes on international trade. This one reflects the amount of money that a government collects thanks to all kinds of taxes (on products that enter and leave, customs...)..*\n",
    "- **Fertility** = *Fertility rate, mean of total births per woman. How many childs have born during a year per women.*\n",
    "- **Healthcare** = *% of people using at least basic sanitation services. Amount of children covert by sanitation.*\n",
    "- **Employment** = *Employment in agriculture (% of total employment), *Employment in services (% of total employment), and *Employment in industry (% of total employment). Amount of people employed in these three relevant sectors.*\n",
    "- **Renewable energy** = *Electricity production from renewable sources, excluding hydroelectric. The units are KWh.*\n",
    "- **Mortality** = *Number of infant deaths.*\n",
    "- **Outside investment** = *Foreign direct investment, which is the net inflow of investment to acquire a lasting management interest  (BoP, current US$).*\n",
    "- **Pollution** = *Mortality rate over 100,000 population attributed to household and ambient air pollution and age-standardized.*\n",
    "- **Alcoholism** = *Total alcohol consumed per capita measure in liters of pure alcohol, taking into account people who are 15 or more years of age.*\n",
    "- **Tech adoption** = *% of GDP which goes to the research and development expenditure.*\n",
    "- **Workers high education** = *Labor force with advanced education. % of total working-age population with high level education. It measures the probability of having a good job according to the studies.*\n",
    "- **Optimisim and pessimisim** = *Suicide mortality rate per 100,000 population.*\n",
    "- **Gender equality** = *Rate of gender equality in a country between  (**1=low to **6=high). It assesses the extent to which the country has installed institutions and programs to enforce laws and policies that promote equal access for men and women in education, health, the economy, and protection under law.*\n",
    "- **Education** = *Share of youth not in education, employment or training, total, Total number of young people.* and *Government expenditure on education of total. *\n",
    "\n",
    "To acomplish this, we use the function `isin` that will allow us to only select the the indicators afromentioned, that have been compilied in the list called *indicators_list*"
   ]
  },
  {
   "cell_type": "code",
   "execution_count": 55,
   "metadata": {},
   "outputs": [],
   "source": [
    "indicators_list=['GDP (current US$)','Literacy rate, adult total (% of people ages 15 and above)', 'Government expenditure on education, total (% of government expenditure)','Net migration','Commercial service exports (current US$)','Exports of goods and services (current US$)','Taxes on international trade (current LCU)','Fertility rate, total (births per woman)','People using at least basic sanitation services (% of population)','Employment in agriculture (% of total employment) (modeled ILO estimate)','Employment in services (% of total employment) (modeled ILO estimate)','Employment in industry (% of total employment) (modeled ILO estimate)','Electricity production from renewable sources, excluding hydroelectric (kWh)','Number of infant deaths','Number of infant deaths','Foreign direct investment, net (BoP, current US$)','Mortality rate attributed to household and ambient air pollution, age-standardized (per 100,000 population)','Total alcohol consumption per capita (liters of pure alcohol, projected estimates, 15+ years of age)','Research and development expenditure (% of GDP)','Labor force with advanced education (% of total working-age population with advanced education)','Suicide mortality rate (per 100,000 population)','CPIA gender equality rating (1=low to 6=high)','Share of youth not in education, employment or training, total (% of youth population)','Government expenditure on education, total (% of government expenditure)']"
   ]
  },
  {
   "cell_type": "code",
   "execution_count": 56,
   "metadata": {},
   "outputs": [
    {
     "data": {
      "text/html": [
       "<div>\n",
       "<style scoped>\n",
       "    .dataframe tbody tr th:only-of-type {\n",
       "        vertical-align: middle;\n",
       "    }\n",
       "\n",
       "    .dataframe tbody tr th {\n",
       "        vertical-align: top;\n",
       "    }\n",
       "\n",
       "    .dataframe thead th {\n",
       "        text-align: right;\n",
       "    }\n",
       "</style>\n",
       "<table border=\"1\" class=\"dataframe\">\n",
       "  <thead>\n",
       "    <tr style=\"text-align: right;\">\n",
       "      <th></th>\n",
       "      <th>Country Code</th>\n",
       "      <th>Indicator Name</th>\n",
       "      <th>Date</th>\n",
       "      <th>Value</th>\n",
       "    </tr>\n",
       "  </thead>\n",
       "  <tbody>\n",
       "    <tr>\n",
       "      <th>5334</th>\n",
       "      <td>DZA</td>\n",
       "      <td>Commercial service exports (current US$)</td>\n",
       "      <td>1990</td>\n",
       "      <td>4.795977e+08</td>\n",
       "    </tr>\n",
       "    <tr>\n",
       "      <th>5335</th>\n",
       "      <td>DZA</td>\n",
       "      <td>Commercial service exports (current US$)</td>\n",
       "      <td>1991</td>\n",
       "      <td>3.747657e+08</td>\n",
       "    </tr>\n",
       "    <tr>\n",
       "      <th>5336</th>\n",
       "      <td>DZA</td>\n",
       "      <td>Commercial service exports (current US$)</td>\n",
       "      <td>2005</td>\n",
       "      <td>2.466000e+09</td>\n",
       "    </tr>\n",
       "    <tr>\n",
       "      <th>5337</th>\n",
       "      <td>DZA</td>\n",
       "      <td>Commercial service exports (current US$)</td>\n",
       "      <td>2006</td>\n",
       "      <td>2.512000e+09</td>\n",
       "    </tr>\n",
       "    <tr>\n",
       "      <th>5338</th>\n",
       "      <td>DZA</td>\n",
       "      <td>Commercial service exports (current US$)</td>\n",
       "      <td>2007</td>\n",
       "      <td>2.786733e+09</td>\n",
       "    </tr>\n",
       "    <tr>\n",
       "      <th>...</th>\n",
       "      <td>...</td>\n",
       "      <td>...</td>\n",
       "      <td>...</td>\n",
       "      <td>...</td>\n",
       "    </tr>\n",
       "    <tr>\n",
       "      <th>1768492</th>\n",
       "      <td>YEM</td>\n",
       "      <td>Total alcohol consumption per capita (liters o...</td>\n",
       "      <td>2000</td>\n",
       "      <td>7.900000e-01</td>\n",
       "    </tr>\n",
       "    <tr>\n",
       "      <th>1768493</th>\n",
       "      <td>YEM</td>\n",
       "      <td>Total alcohol consumption per capita (liters o...</td>\n",
       "      <td>2005</td>\n",
       "      <td>3.400000e-01</td>\n",
       "    </tr>\n",
       "    <tr>\n",
       "      <th>1768494</th>\n",
       "      <td>YEM</td>\n",
       "      <td>Total alcohol consumption per capita (liters o...</td>\n",
       "      <td>2010</td>\n",
       "      <td>1.800000e-01</td>\n",
       "    </tr>\n",
       "    <tr>\n",
       "      <th>1768495</th>\n",
       "      <td>YEM</td>\n",
       "      <td>Total alcohol consumption per capita (liters o...</td>\n",
       "      <td>2015</td>\n",
       "      <td>5.500000e-02</td>\n",
       "    </tr>\n",
       "    <tr>\n",
       "      <th>1768496</th>\n",
       "      <td>YEM</td>\n",
       "      <td>Total alcohol consumption per capita (liters o...</td>\n",
       "      <td>2018</td>\n",
       "      <td>5.100000e-02</td>\n",
       "    </tr>\n",
       "  </tbody>\n",
       "</table>\n",
       "<p>20377 rows × 4 columns</p>\n",
       "</div>"
      ],
      "text/plain": [
       "        Country Code                                     Indicator Name  Date  \\\n",
       "5334             DZA           Commercial service exports (current US$)  1990   \n",
       "5335             DZA           Commercial service exports (current US$)  1991   \n",
       "5336             DZA           Commercial service exports (current US$)  2005   \n",
       "5337             DZA           Commercial service exports (current US$)  2006   \n",
       "5338             DZA           Commercial service exports (current US$)  2007   \n",
       "...              ...                                                ...   ...   \n",
       "1768492          YEM  Total alcohol consumption per capita (liters o...  2000   \n",
       "1768493          YEM  Total alcohol consumption per capita (liters o...  2005   \n",
       "1768494          YEM  Total alcohol consumption per capita (liters o...  2010   \n",
       "1768495          YEM  Total alcohol consumption per capita (liters o...  2015   \n",
       "1768496          YEM  Total alcohol consumption per capita (liters o...  2018   \n",
       "\n",
       "                Value  \n",
       "5334     4.795977e+08  \n",
       "5335     3.747657e+08  \n",
       "5336     2.466000e+09  \n",
       "5337     2.512000e+09  \n",
       "5338     2.786733e+09  \n",
       "...               ...  \n",
       "1768492  7.900000e-01  \n",
       "1768493  3.400000e-01  \n",
       "1768494  1.800000e-01  \n",
       "1768495  5.500000e-02  \n",
       "1768496  5.100000e-02  \n",
       "\n",
       "[20377 rows x 4 columns]"
      ]
     },
     "execution_count": 56,
     "metadata": {},
     "output_type": "execute_result"
    }
   ],
   "source": [
    "BronzeDataFrame=df3.loc[df3['Indicator Name'].isin(indicators_list)]\n",
    "pd.set_option('display.max_rows', 10)\n",
    "BronzeDataFrame"
   ]
  },
  {
   "cell_type": "markdown",
   "metadata": {},
   "source": [
    "# NORMALIZATION"
   ]
  },
  {
   "cell_type": "markdown",
   "metadata": {},
   "source": [
    "Taking as reference both works of https://www.pluralsight.com/guides/cleaning-up-data-from-outliers and https://careerfoundry.com/en/blog/data-analytics/how-to-find-outliers/, for normalizing our data we need to start computing the outliers and removing them from our dataframe. As there is not a direct function of pandas that performs this step, it´s been step-by-step code, where we begin with the computation of the quartiles, then the IQR (Inter Quartile Range) and finally the upper and lower limit."
   ]
  },
  {
   "cell_type": "markdown",
   "metadata": {},
   "source": [
    "##### IQR explanation"
   ]
  },
  {
   "cell_type": "markdown",
   "metadata": {},
   "source": [
    "The interquartile range (IQR) measures the spread of the middle half of your data. It is the range for the middle 50% of your sample. Use the IQR to assess the variability where most of your values lie. Larger values indicate that the central portion of your data spread out further. Conversely, smaller values show that the middle values cluster more tightly.\n",
    "\n",
    "To visualize the interquartile range, imagine dividing your data into quarters. Statisticians refer to these quarters as quartiles and label them from low to high as Q1, Q2, Q3, and Q4. The lowest quartile (Q1) covers the smallest quarter of values in your dataset. The upper quartile (Q4) comprises the highest quarter of values. The interquartile range is the middle half of the data that lies between the upper and lower quartiles. In other words, the interquartile range includes the 50% of data points that are above Q1 and below Q4.\n",
    "\n",
    "When measuring variability, statisticians prefer using the interquartile range instead of the full data range because extreme values and outliers affect it less. Typically, use the IQR with a measure of central tendency, such as the median, to understand your data’s center and spread. This combination creates a fuller picture of your data’s distribution.\n",
    "\n",
    "Therefore it is being utilized to get rid of all the outliers that may come from errors when creating the data or from unexpected years."
   ]
  },
  {
   "cell_type": "markdown",
   "metadata": {},
   "source": [
    "Firstly, what we have done is to change the name of our indicators, as their original denomination is not easy to handle."
   ]
  },
  {
   "cell_type": "code",
   "execution_count": 57,
   "metadata": {},
   "outputs": [
    {
     "data": {
      "text/html": [
       "<div>\n",
       "<style scoped>\n",
       "    .dataframe tbody tr th:only-of-type {\n",
       "        vertical-align: middle;\n",
       "    }\n",
       "\n",
       "    .dataframe tbody tr th {\n",
       "        vertical-align: top;\n",
       "    }\n",
       "\n",
       "    .dataframe thead th {\n",
       "        text-align: right;\n",
       "    }\n",
       "</style>\n",
       "<table border=\"1\" class=\"dataframe\">\n",
       "  <thead>\n",
       "    <tr style=\"text-align: right;\">\n",
       "      <th></th>\n",
       "      <th>Country Code</th>\n",
       "      <th>Indicator Name</th>\n",
       "      <th>1960</th>\n",
       "      <th>1961</th>\n",
       "      <th>1962</th>\n",
       "      <th>1963</th>\n",
       "      <th>1964</th>\n",
       "      <th>1965</th>\n",
       "      <th>1966</th>\n",
       "      <th>1967</th>\n",
       "      <th>...</th>\n",
       "      <th>2013</th>\n",
       "      <th>2014</th>\n",
       "      <th>2015</th>\n",
       "      <th>2016</th>\n",
       "      <th>2017</th>\n",
       "      <th>2018</th>\n",
       "      <th>2019</th>\n",
       "      <th>2020</th>\n",
       "      <th>2021</th>\n",
       "      <th>Unnamed: 66</th>\n",
       "    </tr>\n",
       "  </thead>\n",
       "  <tbody>\n",
       "    <tr>\n",
       "      <th>0</th>\n",
       "      <td>AFE</td>\n",
       "      <td>Access to clean fuels and technologies for coo...</td>\n",
       "      <td>NaN</td>\n",
       "      <td>NaN</td>\n",
       "      <td>NaN</td>\n",
       "      <td>NaN</td>\n",
       "      <td>NaN</td>\n",
       "      <td>NaN</td>\n",
       "      <td>NaN</td>\n",
       "      <td>NaN</td>\n",
       "      <td>...</td>\n",
       "      <td>16.936004</td>\n",
       "      <td>17.337896</td>\n",
       "      <td>17.687093</td>\n",
       "      <td>18.140971</td>\n",
       "      <td>18.491344</td>\n",
       "      <td>18.825520</td>\n",
       "      <td>19.272212</td>\n",
       "      <td>19.628009</td>\n",
       "      <td>NaN</td>\n",
       "      <td>NaN</td>\n",
       "    </tr>\n",
       "    <tr>\n",
       "      <th>1</th>\n",
       "      <td>AFE</td>\n",
       "      <td>Access to clean fuels and technologies for coo...</td>\n",
       "      <td>NaN</td>\n",
       "      <td>NaN</td>\n",
       "      <td>NaN</td>\n",
       "      <td>NaN</td>\n",
       "      <td>NaN</td>\n",
       "      <td>NaN</td>\n",
       "      <td>NaN</td>\n",
       "      <td>NaN</td>\n",
       "      <td>...</td>\n",
       "      <td>6.499471</td>\n",
       "      <td>6.680066</td>\n",
       "      <td>6.859110</td>\n",
       "      <td>7.016238</td>\n",
       "      <td>7.180364</td>\n",
       "      <td>7.322294</td>\n",
       "      <td>7.517191</td>\n",
       "      <td>7.651598</td>\n",
       "      <td>NaN</td>\n",
       "      <td>NaN</td>\n",
       "    </tr>\n",
       "    <tr>\n",
       "      <th>2</th>\n",
       "      <td>AFE</td>\n",
       "      <td>Access to clean fuels and technologies for coo...</td>\n",
       "      <td>NaN</td>\n",
       "      <td>NaN</td>\n",
       "      <td>NaN</td>\n",
       "      <td>NaN</td>\n",
       "      <td>NaN</td>\n",
       "      <td>NaN</td>\n",
       "      <td>NaN</td>\n",
       "      <td>NaN</td>\n",
       "      <td>...</td>\n",
       "      <td>37.855399</td>\n",
       "      <td>38.046781</td>\n",
       "      <td>38.326255</td>\n",
       "      <td>38.468426</td>\n",
       "      <td>38.670044</td>\n",
       "      <td>38.722783</td>\n",
       "      <td>38.927016</td>\n",
       "      <td>39.042839</td>\n",
       "      <td>NaN</td>\n",
       "      <td>NaN</td>\n",
       "    </tr>\n",
       "    <tr>\n",
       "      <th>3</th>\n",
       "      <td>AFE</td>\n",
       "      <td>Access to electricity (% of population)</td>\n",
       "      <td>NaN</td>\n",
       "      <td>NaN</td>\n",
       "      <td>NaN</td>\n",
       "      <td>NaN</td>\n",
       "      <td>NaN</td>\n",
       "      <td>NaN</td>\n",
       "      <td>NaN</td>\n",
       "      <td>NaN</td>\n",
       "      <td>...</td>\n",
       "      <td>31.794160</td>\n",
       "      <td>32.001027</td>\n",
       "      <td>33.871910</td>\n",
       "      <td>38.880173</td>\n",
       "      <td>40.261358</td>\n",
       "      <td>43.061877</td>\n",
       "      <td>44.270860</td>\n",
       "      <td>45.803485</td>\n",
       "      <td>NaN</td>\n",
       "      <td>NaN</td>\n",
       "    </tr>\n",
       "    <tr>\n",
       "      <th>4</th>\n",
       "      <td>AFE</td>\n",
       "      <td>Access to electricity, rural (% of rural popul...</td>\n",
       "      <td>NaN</td>\n",
       "      <td>NaN</td>\n",
       "      <td>NaN</td>\n",
       "      <td>NaN</td>\n",
       "      <td>NaN</td>\n",
       "      <td>NaN</td>\n",
       "      <td>NaN</td>\n",
       "      <td>NaN</td>\n",
       "      <td>...</td>\n",
       "      <td>18.663502</td>\n",
       "      <td>17.633986</td>\n",
       "      <td>16.464681</td>\n",
       "      <td>24.531436</td>\n",
       "      <td>25.345111</td>\n",
       "      <td>27.449908</td>\n",
       "      <td>29.641760</td>\n",
       "      <td>30.404935</td>\n",
       "      <td>NaN</td>\n",
       "      <td>NaN</td>\n",
       "    </tr>\n",
       "    <tr>\n",
       "      <th>...</th>\n",
       "      <td>...</td>\n",
       "      <td>...</td>\n",
       "      <td>...</td>\n",
       "      <td>...</td>\n",
       "      <td>...</td>\n",
       "      <td>...</td>\n",
       "      <td>...</td>\n",
       "      <td>...</td>\n",
       "      <td>...</td>\n",
       "      <td>...</td>\n",
       "      <td>...</td>\n",
       "      <td>...</td>\n",
       "      <td>...</td>\n",
       "      <td>...</td>\n",
       "      <td>...</td>\n",
       "      <td>...</td>\n",
       "      <td>...</td>\n",
       "      <td>...</td>\n",
       "      <td>...</td>\n",
       "      <td>...</td>\n",
       "      <td>...</td>\n",
       "    </tr>\n",
       "    <tr>\n",
       "      <th>384365</th>\n",
       "      <td>ZWE</td>\n",
       "      <td>Women who believe a husband is justified in be...</td>\n",
       "      <td>NaN</td>\n",
       "      <td>NaN</td>\n",
       "      <td>NaN</td>\n",
       "      <td>NaN</td>\n",
       "      <td>NaN</td>\n",
       "      <td>NaN</td>\n",
       "      <td>NaN</td>\n",
       "      <td>NaN</td>\n",
       "      <td>...</td>\n",
       "      <td>NaN</td>\n",
       "      <td>NaN</td>\n",
       "      <td>14.500000</td>\n",
       "      <td>NaN</td>\n",
       "      <td>NaN</td>\n",
       "      <td>NaN</td>\n",
       "      <td>NaN</td>\n",
       "      <td>NaN</td>\n",
       "      <td>NaN</td>\n",
       "      <td>NaN</td>\n",
       "    </tr>\n",
       "    <tr>\n",
       "      <th>384366</th>\n",
       "      <td>ZWE</td>\n",
       "      <td>Women who were first married by age 15 (% of w...</td>\n",
       "      <td>NaN</td>\n",
       "      <td>NaN</td>\n",
       "      <td>NaN</td>\n",
       "      <td>NaN</td>\n",
       "      <td>NaN</td>\n",
       "      <td>NaN</td>\n",
       "      <td>NaN</td>\n",
       "      <td>NaN</td>\n",
       "      <td>...</td>\n",
       "      <td>NaN</td>\n",
       "      <td>NaN</td>\n",
       "      <td>3.700000</td>\n",
       "      <td>NaN</td>\n",
       "      <td>NaN</td>\n",
       "      <td>NaN</td>\n",
       "      <td>5.418352</td>\n",
       "      <td>NaN</td>\n",
       "      <td>NaN</td>\n",
       "      <td>NaN</td>\n",
       "    </tr>\n",
       "    <tr>\n",
       "      <th>384367</th>\n",
       "      <td>ZWE</td>\n",
       "      <td>Women who were first married by age 18 (% of w...</td>\n",
       "      <td>NaN</td>\n",
       "      <td>NaN</td>\n",
       "      <td>NaN</td>\n",
       "      <td>NaN</td>\n",
       "      <td>NaN</td>\n",
       "      <td>NaN</td>\n",
       "      <td>NaN</td>\n",
       "      <td>NaN</td>\n",
       "      <td>...</td>\n",
       "      <td>NaN</td>\n",
       "      <td>33.500000</td>\n",
       "      <td>32.400000</td>\n",
       "      <td>NaN</td>\n",
       "      <td>NaN</td>\n",
       "      <td>NaN</td>\n",
       "      <td>33.658057</td>\n",
       "      <td>NaN</td>\n",
       "      <td>NaN</td>\n",
       "      <td>NaN</td>\n",
       "    </tr>\n",
       "    <tr>\n",
       "      <th>384368</th>\n",
       "      <td>ZWE</td>\n",
       "      <td>Women's share of population ages 15+ living wi...</td>\n",
       "      <td>NaN</td>\n",
       "      <td>NaN</td>\n",
       "      <td>NaN</td>\n",
       "      <td>NaN</td>\n",
       "      <td>NaN</td>\n",
       "      <td>NaN</td>\n",
       "      <td>NaN</td>\n",
       "      <td>NaN</td>\n",
       "      <td>...</td>\n",
       "      <td>59.200000</td>\n",
       "      <td>59.400000</td>\n",
       "      <td>59.500000</td>\n",
       "      <td>59.700000</td>\n",
       "      <td>59.900000</td>\n",
       "      <td>60.000000</td>\n",
       "      <td>60.200000</td>\n",
       "      <td>60.400000</td>\n",
       "      <td>NaN</td>\n",
       "      <td>NaN</td>\n",
       "    </tr>\n",
       "    <tr>\n",
       "      <th>384369</th>\n",
       "      <td>ZWE</td>\n",
       "      <td>Young people (ages 15-24) newly infected with HIV</td>\n",
       "      <td>NaN</td>\n",
       "      <td>NaN</td>\n",
       "      <td>NaN</td>\n",
       "      <td>NaN</td>\n",
       "      <td>NaN</td>\n",
       "      <td>NaN</td>\n",
       "      <td>NaN</td>\n",
       "      <td>NaN</td>\n",
       "      <td>...</td>\n",
       "      <td>18000.000000</td>\n",
       "      <td>17000.000000</td>\n",
       "      <td>15000.000000</td>\n",
       "      <td>14000.000000</td>\n",
       "      <td>12000.000000</td>\n",
       "      <td>9700.000000</td>\n",
       "      <td>9600.000000</td>\n",
       "      <td>7500.000000</td>\n",
       "      <td>NaN</td>\n",
       "      <td>NaN</td>\n",
       "    </tr>\n",
       "  </tbody>\n",
       "</table>\n",
       "<p>384370 rows × 65 columns</p>\n",
       "</div>"
      ],
      "text/plain": [
       "       Country Code                                     Indicator Name  1960  \\\n",
       "0               AFE  Access to clean fuels and technologies for coo...   NaN   \n",
       "1               AFE  Access to clean fuels and technologies for coo...   NaN   \n",
       "2               AFE  Access to clean fuels and technologies for coo...   NaN   \n",
       "3               AFE            Access to electricity (% of population)   NaN   \n",
       "4               AFE  Access to electricity, rural (% of rural popul...   NaN   \n",
       "...             ...                                                ...   ...   \n",
       "384365          ZWE  Women who believe a husband is justified in be...   NaN   \n",
       "384366          ZWE  Women who were first married by age 15 (% of w...   NaN   \n",
       "384367          ZWE  Women who were first married by age 18 (% of w...   NaN   \n",
       "384368          ZWE  Women's share of population ages 15+ living wi...   NaN   \n",
       "384369          ZWE  Young people (ages 15-24) newly infected with HIV   NaN   \n",
       "\n",
       "        1961  1962  1963  1964  1965  1966  1967  ...          2013  \\\n",
       "0        NaN   NaN   NaN   NaN   NaN   NaN   NaN  ...     16.936004   \n",
       "1        NaN   NaN   NaN   NaN   NaN   NaN   NaN  ...      6.499471   \n",
       "2        NaN   NaN   NaN   NaN   NaN   NaN   NaN  ...     37.855399   \n",
       "3        NaN   NaN   NaN   NaN   NaN   NaN   NaN  ...     31.794160   \n",
       "4        NaN   NaN   NaN   NaN   NaN   NaN   NaN  ...     18.663502   \n",
       "...      ...   ...   ...   ...   ...   ...   ...  ...           ...   \n",
       "384365   NaN   NaN   NaN   NaN   NaN   NaN   NaN  ...           NaN   \n",
       "384366   NaN   NaN   NaN   NaN   NaN   NaN   NaN  ...           NaN   \n",
       "384367   NaN   NaN   NaN   NaN   NaN   NaN   NaN  ...           NaN   \n",
       "384368   NaN   NaN   NaN   NaN   NaN   NaN   NaN  ...     59.200000   \n",
       "384369   NaN   NaN   NaN   NaN   NaN   NaN   NaN  ...  18000.000000   \n",
       "\n",
       "                2014          2015          2016          2017         2018  \\\n",
       "0          17.337896     17.687093     18.140971     18.491344    18.825520   \n",
       "1           6.680066      6.859110      7.016238      7.180364     7.322294   \n",
       "2          38.046781     38.326255     38.468426     38.670044    38.722783   \n",
       "3          32.001027     33.871910     38.880173     40.261358    43.061877   \n",
       "4          17.633986     16.464681     24.531436     25.345111    27.449908   \n",
       "...              ...           ...           ...           ...          ...   \n",
       "384365           NaN     14.500000           NaN           NaN          NaN   \n",
       "384366           NaN      3.700000           NaN           NaN          NaN   \n",
       "384367     33.500000     32.400000           NaN           NaN          NaN   \n",
       "384368     59.400000     59.500000     59.700000     59.900000    60.000000   \n",
       "384369  17000.000000  15000.000000  14000.000000  12000.000000  9700.000000   \n",
       "\n",
       "               2019         2020  2021  Unnamed: 66  \n",
       "0         19.272212    19.628009   NaN          NaN  \n",
       "1          7.517191     7.651598   NaN          NaN  \n",
       "2         38.927016    39.042839   NaN          NaN  \n",
       "3         44.270860    45.803485   NaN          NaN  \n",
       "4         29.641760    30.404935   NaN          NaN  \n",
       "...             ...          ...   ...          ...  \n",
       "384365          NaN          NaN   NaN          NaN  \n",
       "384366     5.418352          NaN   NaN          NaN  \n",
       "384367    33.658057          NaN   NaN          NaN  \n",
       "384368    60.200000    60.400000   NaN          NaN  \n",
       "384369  9600.000000  7500.000000   NaN          NaN  \n",
       "\n",
       "[384370 rows x 65 columns]"
      ]
     },
     "execution_count": 57,
     "metadata": {},
     "output_type": "execute_result"
    }
   ],
   "source": [
    "BronzeDataFrame['Indicator Name']=BronzeDataFrame['Indicator Name'].replace(['CPIA gender equality rating (1=low to 6=high)','Commercial service exports (current US$)','Electricity production from renewable sources, excluding hydroelectric (kWh)','Employment in agriculture (% of total employment) (modeled ILO estimate)','Employment in industry (% of total employment) (modeled ILO estimate)','Employment in services (% of total employment) (modeled ILO estimate)','Exports of goods and services (current US$)','Fertility rate, total (births per woman)','Foreign direct investment, net (BoP, current US$)','GDP (current US$)','Government expenditure on education, total (% of government expenditure)','Labor force with advanced education (% of total working-age population with advanced education)','Literacy rate, adult total (% of people ages 15 and above)','Mortality rate attributed to household and ambient air pollution, age-standardized (per 100,000 population)','Net migration','Number of infant deaths','People using at least basic sanitation services (% of population)','Research and development expenditure (% of GDP)','Share of youth not in education, employment or training, total (% of youth population)','Suicide mortality rate (per 100,000 population)','Taxes on international trade (current LCU)','Total alcohol consumption per capita (liters of pure alcohol, projected estimates, 15+ years of age)'],['Gender equality','Exports-Commercial services','Renewable electricity','Employment-agriculture','Employment-industry','Employment-services','Exports-G&S','Fertility rate','Foreign investment','GDP','Education GExp','Workers high education','Literacy rate','Mortality-pollution','Net migration','Mortality-infants','Health services use','R&D GExp','Ninis','Suicide','International taxes','Alcohol per capita'])\n",
    "df"
   ]
  },
  {
   "cell_type": "markdown",
   "metadata": {},
   "source": [
    "Secondly, we compute the first quartile (Q1=25%) and the third quartile (Q3=75%). For that, we have grouped the data by country code and indicator name, so we get the Q1 and Q3 values for each indicator in each geographical area. "
   ]
  },
  {
   "cell_type": "code",
   "execution_count": 58,
   "metadata": {},
   "outputs": [
    {
     "data": {
      "text/plain": [
       "<pandas.core.groupby.generic.DataFrameGroupBy object at 0x0000022B853F4490>"
      ]
     },
     "execution_count": 58,
     "metadata": {},
     "output_type": "execute_result"
    }
   ],
   "source": [
    "grouped=BronzeDataFrame.groupby(['Country Code','Indicator Name'])\n",
    "grouped"
   ]
  },
  {
   "cell_type": "code",
   "execution_count": 59,
   "metadata": {},
   "outputs": [
    {
     "data": {
      "text/html": [
       "<div>\n",
       "<style scoped>\n",
       "    .dataframe tbody tr th:only-of-type {\n",
       "        vertical-align: middle;\n",
       "    }\n",
       "\n",
       "    .dataframe tbody tr th {\n",
       "        vertical-align: top;\n",
       "    }\n",
       "\n",
       "    .dataframe thead th {\n",
       "        text-align: right;\n",
       "    }\n",
       "</style>\n",
       "<table border=\"1\" class=\"dataframe\">\n",
       "  <thead>\n",
       "    <tr style=\"text-align: right;\">\n",
       "      <th></th>\n",
       "      <th></th>\n",
       "      <th>Date</th>\n",
       "      <th>Value</th>\n",
       "    </tr>\n",
       "    <tr>\n",
       "      <th>Country Code</th>\n",
       "      <th>Indicator Name</th>\n",
       "      <th></th>\n",
       "      <th></th>\n",
       "    </tr>\n",
       "  </thead>\n",
       "  <tbody>\n",
       "    <tr>\n",
       "      <th rowspan=\"5\" valign=\"top\">ARE</th>\n",
       "      <th>Alcohol per capita</th>\n",
       "      <td>10.0</td>\n",
       "      <td>6.400000e-01</td>\n",
       "    </tr>\n",
       "    <tr>\n",
       "      <th>Education GExp</th>\n",
       "      <td>0.0</td>\n",
       "      <td>0.000000e+00</td>\n",
       "    </tr>\n",
       "    <tr>\n",
       "      <th>Employment-agriculture</th>\n",
       "      <td>14.0</td>\n",
       "      <td>5.130000e+00</td>\n",
       "    </tr>\n",
       "    <tr>\n",
       "      <th>Employment-industry</th>\n",
       "      <td>14.0</td>\n",
       "      <td>1.449997e+00</td>\n",
       "    </tr>\n",
       "    <tr>\n",
       "      <th>Employment-services</th>\n",
       "      <td>14.0</td>\n",
       "      <td>3.830002e+00</td>\n",
       "    </tr>\n",
       "    <tr>\n",
       "      <th>...</th>\n",
       "      <th>...</th>\n",
       "      <td>...</td>\n",
       "      <td>...</td>\n",
       "    </tr>\n",
       "    <tr>\n",
       "      <th rowspan=\"5\" valign=\"top\">ZAF</th>\n",
       "      <th>Ninis</th>\n",
       "      <td>12.5</td>\n",
       "      <td>2.997499e+00</td>\n",
       "    </tr>\n",
       "    <tr>\n",
       "      <th>R&amp;D GExp</th>\n",
       "      <td>8.0</td>\n",
       "      <td>1.011100e-01</td>\n",
       "    </tr>\n",
       "    <tr>\n",
       "      <th>Renewable electricity</th>\n",
       "      <td>12.5</td>\n",
       "      <td>2.292500e+08</td>\n",
       "    </tr>\n",
       "    <tr>\n",
       "      <th>Suicide</th>\n",
       "      <td>9.5</td>\n",
       "      <td>1.025000e+00</td>\n",
       "    </tr>\n",
       "    <tr>\n",
       "      <th>Workers high education</th>\n",
       "      <td>10.5</td>\n",
       "      <td>1.712500e+00</td>\n",
       "    </tr>\n",
       "  </tbody>\n",
       "</table>\n",
       "<p>978 rows × 2 columns</p>\n",
       "</div>"
      ],
      "text/plain": [
       "                                     Date         Value\n",
       "Country Code Indicator Name                            \n",
       "ARE          Alcohol per capita      10.0  6.400000e-01\n",
       "             Education GExp           0.0  0.000000e+00\n",
       "             Employment-agriculture  14.0  5.130000e+00\n",
       "             Employment-industry     14.0  1.449997e+00\n",
       "             Employment-services     14.0  3.830002e+00\n",
       "...                                   ...           ...\n",
       "ZAF          Ninis                   12.5  2.997499e+00\n",
       "             R&D GExp                 8.0  1.011100e-01\n",
       "             Renewable electricity   12.5  2.292500e+08\n",
       "             Suicide                  9.5  1.025000e+00\n",
       "             Workers high education  10.5  1.712500e+00\n",
       "\n",
       "[978 rows x 2 columns]"
      ]
     },
     "execution_count": 59,
     "metadata": {},
     "output_type": "execute_result"
    }
   ],
   "source": [
    "Q1=BronzeDataFrame.groupby(['Country Code','Indicator Name']).quantile(0.25)\n",
    "Q3=BronzeDataFrame.groupby(['Country Code','Indicator Name']).quantile(0.75)\n",
    "IQR=Q3-Q1\n",
    "IQR"
   ]
  },
  {
   "cell_type": "markdown",
   "metadata": {},
   "source": [
    "Once we got the quartiles, we compute the upper and lower limit, with a basic mathematical expression."
   ]
  },
  {
   "cell_type": "code",
   "execution_count": 60,
   "metadata": {},
   "outputs": [
    {
     "data": {
      "text/html": [
       "<div>\n",
       "<style scoped>\n",
       "    .dataframe tbody tr th:only-of-type {\n",
       "        vertical-align: middle;\n",
       "    }\n",
       "\n",
       "    .dataframe tbody tr th {\n",
       "        vertical-align: top;\n",
       "    }\n",
       "\n",
       "    .dataframe thead th {\n",
       "        text-align: right;\n",
       "    }\n",
       "</style>\n",
       "<table border=\"1\" class=\"dataframe\">\n",
       "  <thead>\n",
       "    <tr style=\"text-align: right;\">\n",
       "      <th></th>\n",
       "      <th></th>\n",
       "      <th>Lower limit</th>\n",
       "    </tr>\n",
       "    <tr>\n",
       "      <th>Country Code</th>\n",
       "      <th>Indicator Name</th>\n",
       "      <th></th>\n",
       "    </tr>\n",
       "  </thead>\n",
       "  <tbody>\n",
       "    <tr>\n",
       "      <th rowspan=\"5\" valign=\"top\">ARE</th>\n",
       "      <th>Alcohol per capita</th>\n",
       "      <td>2.190000e+00</td>\n",
       "    </tr>\n",
       "    <tr>\n",
       "      <th>Education GExp</th>\n",
       "      <td>1.026766e+01</td>\n",
       "    </tr>\n",
       "    <tr>\n",
       "      <th>Employment-agriculture</th>\n",
       "      <td>-4.905000e+00</td>\n",
       "    </tr>\n",
       "    <tr>\n",
       "      <th>Employment-industry</th>\n",
       "      <td>3.131501e+01</td>\n",
       "    </tr>\n",
       "    <tr>\n",
       "      <th>Employment-services</th>\n",
       "      <td>5.269500e+01</td>\n",
       "    </tr>\n",
       "    <tr>\n",
       "      <th>...</th>\n",
       "      <th>...</th>\n",
       "      <td>...</td>\n",
       "    </tr>\n",
       "    <tr>\n",
       "      <th rowspan=\"5\" valign=\"top\">ZAF</th>\n",
       "      <th>Ninis</th>\n",
       "      <td>2.684375e+01</td>\n",
       "    </tr>\n",
       "    <tr>\n",
       "      <th>R&amp;D GExp</th>\n",
       "      <td>5.828450e-01</td>\n",
       "    </tr>\n",
       "    <tr>\n",
       "      <th>Renewable electricity</th>\n",
       "      <td>-2.623750e+08</td>\n",
       "    </tr>\n",
       "    <tr>\n",
       "      <th>Suicide</th>\n",
       "      <td>2.203750e+01</td>\n",
       "    </tr>\n",
       "    <tr>\n",
       "      <th>Workers high education</th>\n",
       "      <td>8.050875e+01</td>\n",
       "    </tr>\n",
       "  </tbody>\n",
       "</table>\n",
       "<p>978 rows × 1 columns</p>\n",
       "</div>"
      ],
      "text/plain": [
       "                                      Lower limit\n",
       "Country Code Indicator Name                      \n",
       "ARE          Alcohol per capita      2.190000e+00\n",
       "             Education GExp          1.026766e+01\n",
       "             Employment-agriculture -4.905000e+00\n",
       "             Employment-industry     3.131501e+01\n",
       "             Employment-services     5.269500e+01\n",
       "...                                           ...\n",
       "ZAF          Ninis                   2.684375e+01\n",
       "             R&D GExp                5.828450e-01\n",
       "             Renewable electricity  -2.623750e+08\n",
       "             Suicide                 2.203750e+01\n",
       "             Workers high education  8.050875e+01\n",
       "\n",
       "[978 rows x 1 columns]"
      ]
     },
     "execution_count": 60,
     "metadata": {},
     "output_type": "execute_result"
    }
   ],
   "source": [
    "lower_limit=Q1 - 1.5 * IQR\n",
    "lower=lower_limit.drop(['Date'],axis=1)\n",
    "lower.rename(columns={\"Value\":\"Lower limit\"})"
   ]
  },
  {
   "cell_type": "code",
   "execution_count": 61,
   "metadata": {},
   "outputs": [
    {
     "data": {
      "text/html": [
       "<div>\n",
       "<style scoped>\n",
       "    .dataframe tbody tr th:only-of-type {\n",
       "        vertical-align: middle;\n",
       "    }\n",
       "\n",
       "    .dataframe tbody tr th {\n",
       "        vertical-align: top;\n",
       "    }\n",
       "\n",
       "    .dataframe thead th {\n",
       "        text-align: right;\n",
       "    }\n",
       "</style>\n",
       "<table border=\"1\" class=\"dataframe\">\n",
       "  <thead>\n",
       "    <tr style=\"text-align: right;\">\n",
       "      <th></th>\n",
       "      <th></th>\n",
       "      <th>Upper limit</th>\n",
       "    </tr>\n",
       "    <tr>\n",
       "      <th>Country Code</th>\n",
       "      <th>Indicator Name</th>\n",
       "      <th></th>\n",
       "    </tr>\n",
       "  </thead>\n",
       "  <tbody>\n",
       "    <tr>\n",
       "      <th rowspan=\"5\" valign=\"top\">ARE</th>\n",
       "      <th>Alcohol per capita</th>\n",
       "      <td>4.750000e+00</td>\n",
       "    </tr>\n",
       "    <tr>\n",
       "      <th>Education GExp</th>\n",
       "      <td>1.026766e+01</td>\n",
       "    </tr>\n",
       "    <tr>\n",
       "      <th>Employment-agriculture</th>\n",
       "      <td>1.561500e+01</td>\n",
       "    </tr>\n",
       "    <tr>\n",
       "      <th>Employment-industry</th>\n",
       "      <td>3.711499e+01</td>\n",
       "    </tr>\n",
       "    <tr>\n",
       "      <th>Employment-services</th>\n",
       "      <td>6.801500e+01</td>\n",
       "    </tr>\n",
       "    <tr>\n",
       "      <th>...</th>\n",
       "      <th>...</th>\n",
       "      <td>...</td>\n",
       "    </tr>\n",
       "    <tr>\n",
       "      <th rowspan=\"5\" valign=\"top\">ZAF</th>\n",
       "      <th>Ninis</th>\n",
       "      <td>3.883375e+01</td>\n",
       "    </tr>\n",
       "    <tr>\n",
       "      <th>R&amp;D GExp</th>\n",
       "      <td>9.872850e-01</td>\n",
       "    </tr>\n",
       "    <tr>\n",
       "      <th>Renewable electricity</th>\n",
       "      <td>6.546250e+08</td>\n",
       "    </tr>\n",
       "    <tr>\n",
       "      <th>Suicide</th>\n",
       "      <td>2.613750e+01</td>\n",
       "    </tr>\n",
       "    <tr>\n",
       "      <th>Workers high education</th>\n",
       "      <td>8.735875e+01</td>\n",
       "    </tr>\n",
       "  </tbody>\n",
       "</table>\n",
       "<p>978 rows × 1 columns</p>\n",
       "</div>"
      ],
      "text/plain": [
       "                                      Upper limit\n",
       "Country Code Indicator Name                      \n",
       "ARE          Alcohol per capita      4.750000e+00\n",
       "             Education GExp          1.026766e+01\n",
       "             Employment-agriculture  1.561500e+01\n",
       "             Employment-industry     3.711499e+01\n",
       "             Employment-services     6.801500e+01\n",
       "...                                           ...\n",
       "ZAF          Ninis                   3.883375e+01\n",
       "             R&D GExp                9.872850e-01\n",
       "             Renewable electricity   6.546250e+08\n",
       "             Suicide                 2.613750e+01\n",
       "             Workers high education  8.735875e+01\n",
       "\n",
       "[978 rows x 1 columns]"
      ]
     },
     "execution_count": 61,
     "metadata": {},
     "output_type": "execute_result"
    }
   ],
   "source": [
    "upper_limit=Q3 + 1.5 * IQR\n",
    "upper=upper_limit.drop(['Date'],axis=1)\n",
    "upper.rename(columns={\"Value\":\"Upper limit\"})"
   ]
  },
  {
   "cell_type": "markdown",
   "metadata": {},
   "source": [
    "Thirdly, we join the three tables we have (main dataframe, upper limit and lower limit) by matching country code and indicator name.."
   ]
  },
  {
   "cell_type": "code",
   "execution_count": 62,
   "metadata": {},
   "outputs": [
    {
     "data": {
      "text/html": [
       "<div>\n",
       "<style scoped>\n",
       "    .dataframe tbody tr th:only-of-type {\n",
       "        vertical-align: middle;\n",
       "    }\n",
       "\n",
       "    .dataframe tbody tr th {\n",
       "        vertical-align: top;\n",
       "    }\n",
       "\n",
       "    .dataframe thead th {\n",
       "        text-align: right;\n",
       "    }\n",
       "</style>\n",
       "<table border=\"1\" class=\"dataframe\">\n",
       "  <thead>\n",
       "    <tr style=\"text-align: right;\">\n",
       "      <th></th>\n",
       "      <th>Country Code</th>\n",
       "      <th>Indicator Name</th>\n",
       "      <th>Date</th>\n",
       "      <th>Value_x</th>\n",
       "      <th>Value_y</th>\n",
       "      <th>Value</th>\n",
       "    </tr>\n",
       "  </thead>\n",
       "  <tbody>\n",
       "    <tr>\n",
       "      <th>0</th>\n",
       "      <td>DZA</td>\n",
       "      <td>Exports-Commercial services</td>\n",
       "      <td>1990</td>\n",
       "      <td>4.795977e+08</td>\n",
       "      <td>1.736231e+09</td>\n",
       "      <td>4.453536e+09</td>\n",
       "    </tr>\n",
       "    <tr>\n",
       "      <th>1</th>\n",
       "      <td>DZA</td>\n",
       "      <td>Exports-Commercial services</td>\n",
       "      <td>1991</td>\n",
       "      <td>3.747657e+08</td>\n",
       "      <td>1.736231e+09</td>\n",
       "      <td>4.453536e+09</td>\n",
       "    </tr>\n",
       "    <tr>\n",
       "      <th>2</th>\n",
       "      <td>DZA</td>\n",
       "      <td>Exports-Commercial services</td>\n",
       "      <td>2005</td>\n",
       "      <td>2.466000e+09</td>\n",
       "      <td>1.736231e+09</td>\n",
       "      <td>4.453536e+09</td>\n",
       "    </tr>\n",
       "    <tr>\n",
       "      <th>3</th>\n",
       "      <td>DZA</td>\n",
       "      <td>Exports-Commercial services</td>\n",
       "      <td>2006</td>\n",
       "      <td>2.512000e+09</td>\n",
       "      <td>1.736231e+09</td>\n",
       "      <td>4.453536e+09</td>\n",
       "    </tr>\n",
       "    <tr>\n",
       "      <th>4</th>\n",
       "      <td>DZA</td>\n",
       "      <td>Exports-Commercial services</td>\n",
       "      <td>2007</td>\n",
       "      <td>2.786733e+09</td>\n",
       "      <td>1.736231e+09</td>\n",
       "      <td>4.453536e+09</td>\n",
       "    </tr>\n",
       "    <tr>\n",
       "      <th>...</th>\n",
       "      <td>...</td>\n",
       "      <td>...</td>\n",
       "      <td>...</td>\n",
       "      <td>...</td>\n",
       "      <td>...</td>\n",
       "      <td>...</td>\n",
       "    </tr>\n",
       "    <tr>\n",
       "      <th>20372</th>\n",
       "      <td>YEM</td>\n",
       "      <td>Alcohol per capita</td>\n",
       "      <td>2000</td>\n",
       "      <td>7.900000e-01</td>\n",
       "      <td>-3.725000e-01</td>\n",
       "      <td>7.675000e-01</td>\n",
       "    </tr>\n",
       "    <tr>\n",
       "      <th>20373</th>\n",
       "      <td>YEM</td>\n",
       "      <td>Alcohol per capita</td>\n",
       "      <td>2005</td>\n",
       "      <td>3.400000e-01</td>\n",
       "      <td>-3.725000e-01</td>\n",
       "      <td>7.675000e-01</td>\n",
       "    </tr>\n",
       "    <tr>\n",
       "      <th>20374</th>\n",
       "      <td>YEM</td>\n",
       "      <td>Alcohol per capita</td>\n",
       "      <td>2010</td>\n",
       "      <td>1.800000e-01</td>\n",
       "      <td>-3.725000e-01</td>\n",
       "      <td>7.675000e-01</td>\n",
       "    </tr>\n",
       "    <tr>\n",
       "      <th>20375</th>\n",
       "      <td>YEM</td>\n",
       "      <td>Alcohol per capita</td>\n",
       "      <td>2015</td>\n",
       "      <td>5.500000e-02</td>\n",
       "      <td>-3.725000e-01</td>\n",
       "      <td>7.675000e-01</td>\n",
       "    </tr>\n",
       "    <tr>\n",
       "      <th>20376</th>\n",
       "      <td>YEM</td>\n",
       "      <td>Alcohol per capita</td>\n",
       "      <td>2018</td>\n",
       "      <td>5.100000e-02</td>\n",
       "      <td>-3.725000e-01</td>\n",
       "      <td>7.675000e-01</td>\n",
       "    </tr>\n",
       "  </tbody>\n",
       "</table>\n",
       "<p>20377 rows × 6 columns</p>\n",
       "</div>"
      ],
      "text/plain": [
       "      Country Code               Indicator Name  Date       Value_x  \\\n",
       "0              DZA  Exports-Commercial services  1990  4.795977e+08   \n",
       "1              DZA  Exports-Commercial services  1991  3.747657e+08   \n",
       "2              DZA  Exports-Commercial services  2005  2.466000e+09   \n",
       "3              DZA  Exports-Commercial services  2006  2.512000e+09   \n",
       "4              DZA  Exports-Commercial services  2007  2.786733e+09   \n",
       "...            ...                          ...   ...           ...   \n",
       "20372          YEM           Alcohol per capita  2000  7.900000e-01   \n",
       "20373          YEM           Alcohol per capita  2005  3.400000e-01   \n",
       "20374          YEM           Alcohol per capita  2010  1.800000e-01   \n",
       "20375          YEM           Alcohol per capita  2015  5.500000e-02   \n",
       "20376          YEM           Alcohol per capita  2018  5.100000e-02   \n",
       "\n",
       "            Value_y         Value  \n",
       "0      1.736231e+09  4.453536e+09  \n",
       "1      1.736231e+09  4.453536e+09  \n",
       "2      1.736231e+09  4.453536e+09  \n",
       "3      1.736231e+09  4.453536e+09  \n",
       "4      1.736231e+09  4.453536e+09  \n",
       "...             ...           ...  \n",
       "20372 -3.725000e-01  7.675000e-01  \n",
       "20373 -3.725000e-01  7.675000e-01  \n",
       "20374 -3.725000e-01  7.675000e-01  \n",
       "20375 -3.725000e-01  7.675000e-01  \n",
       "20376 -3.725000e-01  7.675000e-01  \n",
       "\n",
       "[20377 rows x 6 columns]"
      ]
     },
     "execution_count": 62,
     "metadata": {},
     "output_type": "execute_result"
    }
   ],
   "source": [
    "dfs = [BronzeDataFrame,lower,upper]\n",
    "df_joined = ft.reduce(lambda left, right: pd.merge(left, right, on=['Country Code','Indicator Name']), dfs)\n",
    "df_joined"
   ]
  },
  {
   "cell_type": "code",
   "execution_count": 63,
   "metadata": {},
   "outputs": [
    {
     "data": {
      "text/plain": [
       "['Country Code', 'Indicator Name', 'Date', 'Value_x', 'Value_y', 'Value']"
      ]
     },
     "execution_count": 63,
     "metadata": {},
     "output_type": "execute_result"
    }
   ],
   "source": [
    "list(df_joined)"
   ]
  },
  {
   "cell_type": "markdown",
   "metadata": {},
   "source": [
    "We rename the columns of the new table, as the columns headers are not saved after the joining. "
   ]
  },
  {
   "cell_type": "code",
   "execution_count": 64,
   "metadata": {},
   "outputs": [
    {
     "data": {
      "text/html": [
       "<div>\n",
       "<style scoped>\n",
       "    .dataframe tbody tr th:only-of-type {\n",
       "        vertical-align: middle;\n",
       "    }\n",
       "\n",
       "    .dataframe tbody tr th {\n",
       "        vertical-align: top;\n",
       "    }\n",
       "\n",
       "    .dataframe thead th {\n",
       "        text-align: right;\n",
       "    }\n",
       "</style>\n",
       "<table border=\"1\" class=\"dataframe\">\n",
       "  <thead>\n",
       "    <tr style=\"text-align: right;\">\n",
       "      <th></th>\n",
       "      <th>Country</th>\n",
       "      <th>Indicator</th>\n",
       "      <th>Year</th>\n",
       "      <th>Real value</th>\n",
       "      <th>Lower value</th>\n",
       "      <th>Upper value</th>\n",
       "    </tr>\n",
       "  </thead>\n",
       "  <tbody>\n",
       "    <tr>\n",
       "      <th>0</th>\n",
       "      <td>DZA</td>\n",
       "      <td>Exports-Commercial services</td>\n",
       "      <td>1990</td>\n",
       "      <td>4.795977e+08</td>\n",
       "      <td>1.736231e+09</td>\n",
       "      <td>4.453536e+09</td>\n",
       "    </tr>\n",
       "    <tr>\n",
       "      <th>1</th>\n",
       "      <td>DZA</td>\n",
       "      <td>Exports-Commercial services</td>\n",
       "      <td>1991</td>\n",
       "      <td>3.747657e+08</td>\n",
       "      <td>1.736231e+09</td>\n",
       "      <td>4.453536e+09</td>\n",
       "    </tr>\n",
       "    <tr>\n",
       "      <th>2</th>\n",
       "      <td>DZA</td>\n",
       "      <td>Exports-Commercial services</td>\n",
       "      <td>2005</td>\n",
       "      <td>2.466000e+09</td>\n",
       "      <td>1.736231e+09</td>\n",
       "      <td>4.453536e+09</td>\n",
       "    </tr>\n",
       "    <tr>\n",
       "      <th>3</th>\n",
       "      <td>DZA</td>\n",
       "      <td>Exports-Commercial services</td>\n",
       "      <td>2006</td>\n",
       "      <td>2.512000e+09</td>\n",
       "      <td>1.736231e+09</td>\n",
       "      <td>4.453536e+09</td>\n",
       "    </tr>\n",
       "    <tr>\n",
       "      <th>4</th>\n",
       "      <td>DZA</td>\n",
       "      <td>Exports-Commercial services</td>\n",
       "      <td>2007</td>\n",
       "      <td>2.786733e+09</td>\n",
       "      <td>1.736231e+09</td>\n",
       "      <td>4.453536e+09</td>\n",
       "    </tr>\n",
       "    <tr>\n",
       "      <th>...</th>\n",
       "      <td>...</td>\n",
       "      <td>...</td>\n",
       "      <td>...</td>\n",
       "      <td>...</td>\n",
       "      <td>...</td>\n",
       "      <td>...</td>\n",
       "    </tr>\n",
       "    <tr>\n",
       "      <th>20372</th>\n",
       "      <td>YEM</td>\n",
       "      <td>Alcohol per capita</td>\n",
       "      <td>2000</td>\n",
       "      <td>7.900000e-01</td>\n",
       "      <td>-3.725000e-01</td>\n",
       "      <td>7.675000e-01</td>\n",
       "    </tr>\n",
       "    <tr>\n",
       "      <th>20373</th>\n",
       "      <td>YEM</td>\n",
       "      <td>Alcohol per capita</td>\n",
       "      <td>2005</td>\n",
       "      <td>3.400000e-01</td>\n",
       "      <td>-3.725000e-01</td>\n",
       "      <td>7.675000e-01</td>\n",
       "    </tr>\n",
       "    <tr>\n",
       "      <th>20374</th>\n",
       "      <td>YEM</td>\n",
       "      <td>Alcohol per capita</td>\n",
       "      <td>2010</td>\n",
       "      <td>1.800000e-01</td>\n",
       "      <td>-3.725000e-01</td>\n",
       "      <td>7.675000e-01</td>\n",
       "    </tr>\n",
       "    <tr>\n",
       "      <th>20375</th>\n",
       "      <td>YEM</td>\n",
       "      <td>Alcohol per capita</td>\n",
       "      <td>2015</td>\n",
       "      <td>5.500000e-02</td>\n",
       "      <td>-3.725000e-01</td>\n",
       "      <td>7.675000e-01</td>\n",
       "    </tr>\n",
       "    <tr>\n",
       "      <th>20376</th>\n",
       "      <td>YEM</td>\n",
       "      <td>Alcohol per capita</td>\n",
       "      <td>2018</td>\n",
       "      <td>5.100000e-02</td>\n",
       "      <td>-3.725000e-01</td>\n",
       "      <td>7.675000e-01</td>\n",
       "    </tr>\n",
       "  </tbody>\n",
       "</table>\n",
       "<p>20377 rows × 6 columns</p>\n",
       "</div>"
      ],
      "text/plain": [
       "      Country                    Indicator  Year    Real value   Lower value  \\\n",
       "0         DZA  Exports-Commercial services  1990  4.795977e+08  1.736231e+09   \n",
       "1         DZA  Exports-Commercial services  1991  3.747657e+08  1.736231e+09   \n",
       "2         DZA  Exports-Commercial services  2005  2.466000e+09  1.736231e+09   \n",
       "3         DZA  Exports-Commercial services  2006  2.512000e+09  1.736231e+09   \n",
       "4         DZA  Exports-Commercial services  2007  2.786733e+09  1.736231e+09   \n",
       "...       ...                          ...   ...           ...           ...   \n",
       "20372     YEM           Alcohol per capita  2000  7.900000e-01 -3.725000e-01   \n",
       "20373     YEM           Alcohol per capita  2005  3.400000e-01 -3.725000e-01   \n",
       "20374     YEM           Alcohol per capita  2010  1.800000e-01 -3.725000e-01   \n",
       "20375     YEM           Alcohol per capita  2015  5.500000e-02 -3.725000e-01   \n",
       "20376     YEM           Alcohol per capita  2018  5.100000e-02 -3.725000e-01   \n",
       "\n",
       "        Upper value  \n",
       "0      4.453536e+09  \n",
       "1      4.453536e+09  \n",
       "2      4.453536e+09  \n",
       "3      4.453536e+09  \n",
       "4      4.453536e+09  \n",
       "...             ...  \n",
       "20372  7.675000e-01  \n",
       "20373  7.675000e-01  \n",
       "20374  7.675000e-01  \n",
       "20375  7.675000e-01  \n",
       "20376  7.675000e-01  \n",
       "\n",
       "[20377 rows x 6 columns]"
      ]
     },
     "execution_count": 64,
     "metadata": {},
     "output_type": "execute_result"
    }
   ],
   "source": [
    "renamed=df_joined.set_axis(['Country','Indicator','Year', 'Real value', 'Lower value', 'Upper value'], axis=1, inplace=False)\n",
    "renamed"
   ]
  },
  {
   "cell_type": "markdown",
   "metadata": {},
   "source": [
    "Now that we have the table correctly defined, we remove from our dataframe the values that are outside our range, as it means that they are outliers."
   ]
  },
  {
   "cell_type": "code",
   "execution_count": 65,
   "metadata": {},
   "outputs": [
    {
     "data": {
      "text/html": [
       "<div>\n",
       "<style scoped>\n",
       "    .dataframe tbody tr th:only-of-type {\n",
       "        vertical-align: middle;\n",
       "    }\n",
       "\n",
       "    .dataframe tbody tr th {\n",
       "        vertical-align: top;\n",
       "    }\n",
       "\n",
       "    .dataframe thead th {\n",
       "        text-align: right;\n",
       "    }\n",
       "</style>\n",
       "<table border=\"1\" class=\"dataframe\">\n",
       "  <thead>\n",
       "    <tr style=\"text-align: right;\">\n",
       "      <th></th>\n",
       "      <th>Country</th>\n",
       "      <th>Indicator</th>\n",
       "      <th>Year</th>\n",
       "      <th>Real value</th>\n",
       "      <th>Lower value</th>\n",
       "      <th>Upper value</th>\n",
       "    </tr>\n",
       "  </thead>\n",
       "  <tbody>\n",
       "    <tr>\n",
       "      <th>2</th>\n",
       "      <td>DZA</td>\n",
       "      <td>Exports-Commercial services</td>\n",
       "      <td>2005</td>\n",
       "      <td>2.466000e+09</td>\n",
       "      <td>1.736231e+09</td>\n",
       "      <td>4.453536e+09</td>\n",
       "    </tr>\n",
       "    <tr>\n",
       "      <th>3</th>\n",
       "      <td>DZA</td>\n",
       "      <td>Exports-Commercial services</td>\n",
       "      <td>2006</td>\n",
       "      <td>2.512000e+09</td>\n",
       "      <td>1.736231e+09</td>\n",
       "      <td>4.453536e+09</td>\n",
       "    </tr>\n",
       "    <tr>\n",
       "      <th>4</th>\n",
       "      <td>DZA</td>\n",
       "      <td>Exports-Commercial services</td>\n",
       "      <td>2007</td>\n",
       "      <td>2.786733e+09</td>\n",
       "      <td>1.736231e+09</td>\n",
       "      <td>4.453536e+09</td>\n",
       "    </tr>\n",
       "    <tr>\n",
       "      <th>5</th>\n",
       "      <td>DZA</td>\n",
       "      <td>Exports-Commercial services</td>\n",
       "      <td>2008</td>\n",
       "      <td>3.412421e+09</td>\n",
       "      <td>1.736231e+09</td>\n",
       "      <td>4.453536e+09</td>\n",
       "    </tr>\n",
       "    <tr>\n",
       "      <th>6</th>\n",
       "      <td>DZA</td>\n",
       "      <td>Exports-Commercial services</td>\n",
       "      <td>2009</td>\n",
       "      <td>2.744716e+09</td>\n",
       "      <td>1.736231e+09</td>\n",
       "      <td>4.453536e+09</td>\n",
       "    </tr>\n",
       "    <tr>\n",
       "      <th>...</th>\n",
       "      <td>...</td>\n",
       "      <td>...</td>\n",
       "      <td>...</td>\n",
       "      <td>...</td>\n",
       "      <td>...</td>\n",
       "      <td>...</td>\n",
       "    </tr>\n",
       "    <tr>\n",
       "      <th>20371</th>\n",
       "      <td>YEM</td>\n",
       "      <td>Suicide</td>\n",
       "      <td>2019</td>\n",
       "      <td>5.800000e+00</td>\n",
       "      <td>5.400000e+00</td>\n",
       "      <td>6.200000e+00</td>\n",
       "    </tr>\n",
       "    <tr>\n",
       "      <th>20373</th>\n",
       "      <td>YEM</td>\n",
       "      <td>Alcohol per capita</td>\n",
       "      <td>2005</td>\n",
       "      <td>3.400000e-01</td>\n",
       "      <td>-3.725000e-01</td>\n",
       "      <td>7.675000e-01</td>\n",
       "    </tr>\n",
       "    <tr>\n",
       "      <th>20374</th>\n",
       "      <td>YEM</td>\n",
       "      <td>Alcohol per capita</td>\n",
       "      <td>2010</td>\n",
       "      <td>1.800000e-01</td>\n",
       "      <td>-3.725000e-01</td>\n",
       "      <td>7.675000e-01</td>\n",
       "    </tr>\n",
       "    <tr>\n",
       "      <th>20375</th>\n",
       "      <td>YEM</td>\n",
       "      <td>Alcohol per capita</td>\n",
       "      <td>2015</td>\n",
       "      <td>5.500000e-02</td>\n",
       "      <td>-3.725000e-01</td>\n",
       "      <td>7.675000e-01</td>\n",
       "    </tr>\n",
       "    <tr>\n",
       "      <th>20376</th>\n",
       "      <td>YEM</td>\n",
       "      <td>Alcohol per capita</td>\n",
       "      <td>2018</td>\n",
       "      <td>5.100000e-02</td>\n",
       "      <td>-3.725000e-01</td>\n",
       "      <td>7.675000e-01</td>\n",
       "    </tr>\n",
       "  </tbody>\n",
       "</table>\n",
       "<p>19847 rows × 6 columns</p>\n",
       "</div>"
      ],
      "text/plain": [
       "      Country                    Indicator  Year    Real value   Lower value  \\\n",
       "2         DZA  Exports-Commercial services  2005  2.466000e+09  1.736231e+09   \n",
       "3         DZA  Exports-Commercial services  2006  2.512000e+09  1.736231e+09   \n",
       "4         DZA  Exports-Commercial services  2007  2.786733e+09  1.736231e+09   \n",
       "5         DZA  Exports-Commercial services  2008  3.412421e+09  1.736231e+09   \n",
       "6         DZA  Exports-Commercial services  2009  2.744716e+09  1.736231e+09   \n",
       "...       ...                          ...   ...           ...           ...   \n",
       "20371     YEM                      Suicide  2019  5.800000e+00  5.400000e+00   \n",
       "20373     YEM           Alcohol per capita  2005  3.400000e-01 -3.725000e-01   \n",
       "20374     YEM           Alcohol per capita  2010  1.800000e-01 -3.725000e-01   \n",
       "20375     YEM           Alcohol per capita  2015  5.500000e-02 -3.725000e-01   \n",
       "20376     YEM           Alcohol per capita  2018  5.100000e-02 -3.725000e-01   \n",
       "\n",
       "        Upper value  \n",
       "2      4.453536e+09  \n",
       "3      4.453536e+09  \n",
       "4      4.453536e+09  \n",
       "5      4.453536e+09  \n",
       "6      4.453536e+09  \n",
       "...             ...  \n",
       "20371  6.200000e+00  \n",
       "20373  7.675000e-01  \n",
       "20374  7.675000e-01  \n",
       "20375  7.675000e-01  \n",
       "20376  7.675000e-01  \n",
       "\n",
       "[19847 rows x 6 columns]"
      ]
     },
     "execution_count": 65,
     "metadata": {},
     "output_type": "execute_result"
    }
   ],
   "source": [
    "sin_outliers=renamed.loc[~((renamed['Real value']<renamed['Lower value']) | (renamed['Real value']>renamed['Upper value']))]\n",
    "sin_outliers"
   ]
  },
  {
   "cell_type": "markdown",
   "metadata": {},
   "source": [
    "From the data above, we can perceive that our data comes down from 19944 rows to 19424, so 500 were outliers. The next steps are to order and display data better, removing those columns that we just do not need and pivoting the rows and columns. "
   ]
  },
  {
   "cell_type": "code",
   "execution_count": 66,
   "metadata": {},
   "outputs": [
    {
     "data": {
      "text/html": [
       "<div>\n",
       "<style scoped>\n",
       "    .dataframe tbody tr th:only-of-type {\n",
       "        vertical-align: middle;\n",
       "    }\n",
       "\n",
       "    .dataframe tbody tr th {\n",
       "        vertical-align: top;\n",
       "    }\n",
       "\n",
       "    .dataframe thead th {\n",
       "        text-align: right;\n",
       "    }\n",
       "</style>\n",
       "<table border=\"1\" class=\"dataframe\">\n",
       "  <thead>\n",
       "    <tr style=\"text-align: right;\">\n",
       "      <th></th>\n",
       "      <th>Country</th>\n",
       "      <th>Indicator</th>\n",
       "      <th>Year</th>\n",
       "      <th>Real value</th>\n",
       "    </tr>\n",
       "  </thead>\n",
       "  <tbody>\n",
       "    <tr>\n",
       "      <th>2</th>\n",
       "      <td>DZA</td>\n",
       "      <td>Exports-Commercial services</td>\n",
       "      <td>2005</td>\n",
       "      <td>2.466000e+09</td>\n",
       "    </tr>\n",
       "    <tr>\n",
       "      <th>3</th>\n",
       "      <td>DZA</td>\n",
       "      <td>Exports-Commercial services</td>\n",
       "      <td>2006</td>\n",
       "      <td>2.512000e+09</td>\n",
       "    </tr>\n",
       "    <tr>\n",
       "      <th>4</th>\n",
       "      <td>DZA</td>\n",
       "      <td>Exports-Commercial services</td>\n",
       "      <td>2007</td>\n",
       "      <td>2.786733e+09</td>\n",
       "    </tr>\n",
       "    <tr>\n",
       "      <th>5</th>\n",
       "      <td>DZA</td>\n",
       "      <td>Exports-Commercial services</td>\n",
       "      <td>2008</td>\n",
       "      <td>3.412421e+09</td>\n",
       "    </tr>\n",
       "    <tr>\n",
       "      <th>6</th>\n",
       "      <td>DZA</td>\n",
       "      <td>Exports-Commercial services</td>\n",
       "      <td>2009</td>\n",
       "      <td>2.744716e+09</td>\n",
       "    </tr>\n",
       "    <tr>\n",
       "      <th>...</th>\n",
       "      <td>...</td>\n",
       "      <td>...</td>\n",
       "      <td>...</td>\n",
       "      <td>...</td>\n",
       "    </tr>\n",
       "    <tr>\n",
       "      <th>20371</th>\n",
       "      <td>YEM</td>\n",
       "      <td>Suicide</td>\n",
       "      <td>2019</td>\n",
       "      <td>5.800000e+00</td>\n",
       "    </tr>\n",
       "    <tr>\n",
       "      <th>20373</th>\n",
       "      <td>YEM</td>\n",
       "      <td>Alcohol per capita</td>\n",
       "      <td>2005</td>\n",
       "      <td>3.400000e-01</td>\n",
       "    </tr>\n",
       "    <tr>\n",
       "      <th>20374</th>\n",
       "      <td>YEM</td>\n",
       "      <td>Alcohol per capita</td>\n",
       "      <td>2010</td>\n",
       "      <td>1.800000e-01</td>\n",
       "    </tr>\n",
       "    <tr>\n",
       "      <th>20375</th>\n",
       "      <td>YEM</td>\n",
       "      <td>Alcohol per capita</td>\n",
       "      <td>2015</td>\n",
       "      <td>5.500000e-02</td>\n",
       "    </tr>\n",
       "    <tr>\n",
       "      <th>20376</th>\n",
       "      <td>YEM</td>\n",
       "      <td>Alcohol per capita</td>\n",
       "      <td>2018</td>\n",
       "      <td>5.100000e-02</td>\n",
       "    </tr>\n",
       "  </tbody>\n",
       "</table>\n",
       "<p>19847 rows × 4 columns</p>\n",
       "</div>"
      ],
      "text/plain": [
       "      Country                    Indicator  Year    Real value\n",
       "2         DZA  Exports-Commercial services  2005  2.466000e+09\n",
       "3         DZA  Exports-Commercial services  2006  2.512000e+09\n",
       "4         DZA  Exports-Commercial services  2007  2.786733e+09\n",
       "5         DZA  Exports-Commercial services  2008  3.412421e+09\n",
       "6         DZA  Exports-Commercial services  2009  2.744716e+09\n",
       "...       ...                          ...   ...           ...\n",
       "20371     YEM                      Suicide  2019  5.800000e+00\n",
       "20373     YEM           Alcohol per capita  2005  3.400000e-01\n",
       "20374     YEM           Alcohol per capita  2010  1.800000e-01\n",
       "20375     YEM           Alcohol per capita  2015  5.500000e-02\n",
       "20376     YEM           Alcohol per capita  2018  5.100000e-02\n",
       "\n",
       "[19847 rows x 4 columns]"
      ]
     },
     "execution_count": 66,
     "metadata": {},
     "output_type": "execute_result"
    }
   ],
   "source": [
    "df_limpio=sin_outliers.drop(['Lower value','Upper value'],axis=1)\n",
    "df_limpio"
   ]
  },
  {
   "cell_type": "code",
   "execution_count": 67,
   "metadata": {},
   "outputs": [
    {
     "data": {
      "text/html": [
       "<div>\n",
       "<style scoped>\n",
       "    .dataframe tbody tr th:only-of-type {\n",
       "        vertical-align: middle;\n",
       "    }\n",
       "\n",
       "    .dataframe tbody tr th {\n",
       "        vertical-align: top;\n",
       "    }\n",
       "\n",
       "    .dataframe thead th {\n",
       "        text-align: right;\n",
       "    }\n",
       "</style>\n",
       "<table border=\"1\" class=\"dataframe\">\n",
       "  <thead>\n",
       "    <tr style=\"text-align: right;\">\n",
       "      <th>Indicator</th>\n",
       "      <th>Country</th>\n",
       "      <th>Year</th>\n",
       "      <th>Alcohol per capita</th>\n",
       "      <th>Education GExp</th>\n",
       "      <th>Employment-agriculture</th>\n",
       "      <th>Employment-industry</th>\n",
       "      <th>Employment-services</th>\n",
       "      <th>Exports-Commercial services</th>\n",
       "      <th>Exports-G&amp;S</th>\n",
       "      <th>Fertility rate</th>\n",
       "      <th>...</th>\n",
       "      <th>International taxes</th>\n",
       "      <th>Literacy rate</th>\n",
       "      <th>Mortality-infants</th>\n",
       "      <th>Mortality-pollution</th>\n",
       "      <th>Net migration</th>\n",
       "      <th>Ninis</th>\n",
       "      <th>R&amp;D GExp</th>\n",
       "      <th>Renewable electricity</th>\n",
       "      <th>Suicide</th>\n",
       "      <th>Workers high education</th>\n",
       "    </tr>\n",
       "  </thead>\n",
       "  <tbody>\n",
       "    <tr>\n",
       "      <th>0</th>\n",
       "      <td>ARE</td>\n",
       "      <td>1990</td>\n",
       "      <td>NaN</td>\n",
       "      <td>NaN</td>\n",
       "      <td>NaN</td>\n",
       "      <td>NaN</td>\n",
       "      <td>NaN</td>\n",
       "      <td>NaN</td>\n",
       "      <td>NaN</td>\n",
       "      <td>4.454</td>\n",
       "      <td>...</td>\n",
       "      <td>NaN</td>\n",
       "      <td>NaN</td>\n",
       "      <td>672.0</td>\n",
       "      <td>NaN</td>\n",
       "      <td>NaN</td>\n",
       "      <td>NaN</td>\n",
       "      <td>NaN</td>\n",
       "      <td>0.0</td>\n",
       "      <td>NaN</td>\n",
       "      <td>NaN</td>\n",
       "    </tr>\n",
       "    <tr>\n",
       "      <th>1</th>\n",
       "      <td>ARE</td>\n",
       "      <td>1991</td>\n",
       "      <td>NaN</td>\n",
       "      <td>NaN</td>\n",
       "      <td>8.46</td>\n",
       "      <td>33.330002</td>\n",
       "      <td>58.200001</td>\n",
       "      <td>NaN</td>\n",
       "      <td>NaN</td>\n",
       "      <td>4.253</td>\n",
       "      <td>...</td>\n",
       "      <td>NaN</td>\n",
       "      <td>NaN</td>\n",
       "      <td>645.0</td>\n",
       "      <td>NaN</td>\n",
       "      <td>NaN</td>\n",
       "      <td>NaN</td>\n",
       "      <td>NaN</td>\n",
       "      <td>0.0</td>\n",
       "      <td>NaN</td>\n",
       "      <td>NaN</td>\n",
       "    </tr>\n",
       "    <tr>\n",
       "      <th>2</th>\n",
       "      <td>ARE</td>\n",
       "      <td>1992</td>\n",
       "      <td>NaN</td>\n",
       "      <td>NaN</td>\n",
       "      <td>8.37</td>\n",
       "      <td>33.360001</td>\n",
       "      <td>58.279999</td>\n",
       "      <td>NaN</td>\n",
       "      <td>NaN</td>\n",
       "      <td>4.041</td>\n",
       "      <td>...</td>\n",
       "      <td>NaN</td>\n",
       "      <td>NaN</td>\n",
       "      <td>618.0</td>\n",
       "      <td>NaN</td>\n",
       "      <td>368126.0</td>\n",
       "      <td>NaN</td>\n",
       "      <td>NaN</td>\n",
       "      <td>0.0</td>\n",
       "      <td>NaN</td>\n",
       "      <td>NaN</td>\n",
       "    </tr>\n",
       "    <tr>\n",
       "      <th>3</th>\n",
       "      <td>ARE</td>\n",
       "      <td>1993</td>\n",
       "      <td>NaN</td>\n",
       "      <td>NaN</td>\n",
       "      <td>8.24</td>\n",
       "      <td>33.470001</td>\n",
       "      <td>58.290001</td>\n",
       "      <td>NaN</td>\n",
       "      <td>NaN</td>\n",
       "      <td>3.827</td>\n",
       "      <td>...</td>\n",
       "      <td>NaN</td>\n",
       "      <td>NaN</td>\n",
       "      <td>592.0</td>\n",
       "      <td>NaN</td>\n",
       "      <td>NaN</td>\n",
       "      <td>NaN</td>\n",
       "      <td>NaN</td>\n",
       "      <td>0.0</td>\n",
       "      <td>NaN</td>\n",
       "      <td>NaN</td>\n",
       "    </tr>\n",
       "    <tr>\n",
       "      <th>4</th>\n",
       "      <td>ARE</td>\n",
       "      <td>1994</td>\n",
       "      <td>NaN</td>\n",
       "      <td>NaN</td>\n",
       "      <td>8.13</td>\n",
       "      <td>33.490002</td>\n",
       "      <td>58.380001</td>\n",
       "      <td>NaN</td>\n",
       "      <td>NaN</td>\n",
       "      <td>3.618</td>\n",
       "      <td>...</td>\n",
       "      <td>NaN</td>\n",
       "      <td>NaN</td>\n",
       "      <td>568.0</td>\n",
       "      <td>NaN</td>\n",
       "      <td>NaN</td>\n",
       "      <td>NaN</td>\n",
       "      <td>NaN</td>\n",
       "      <td>0.0</td>\n",
       "      <td>NaN</td>\n",
       "      <td>NaN</td>\n",
       "    </tr>\n",
       "    <tr>\n",
       "      <th>...</th>\n",
       "      <td>...</td>\n",
       "      <td>...</td>\n",
       "      <td>...</td>\n",
       "      <td>...</td>\n",
       "      <td>...</td>\n",
       "      <td>...</td>\n",
       "      <td>...</td>\n",
       "      <td>...</td>\n",
       "      <td>...</td>\n",
       "      <td>...</td>\n",
       "      <td>...</td>\n",
       "      <td>...</td>\n",
       "      <td>...</td>\n",
       "      <td>...</td>\n",
       "      <td>...</td>\n",
       "      <td>...</td>\n",
       "      <td>...</td>\n",
       "      <td>...</td>\n",
       "      <td>...</td>\n",
       "      <td>...</td>\n",
       "      <td>...</td>\n",
       "    </tr>\n",
       "    <tr>\n",
       "      <th>1504</th>\n",
       "      <td>ZAF</td>\n",
       "      <td>2017</td>\n",
       "      <td>NaN</td>\n",
       "      <td>18.719290</td>\n",
       "      <td>5.28</td>\n",
       "      <td>23.340000</td>\n",
       "      <td>71.379997</td>\n",
       "      <td>1.614806e+10</td>\n",
       "      <td>1.042884e+11</td>\n",
       "      <td>2.430</td>\n",
       "      <td>...</td>\n",
       "      <td>4.993941e+10</td>\n",
       "      <td>87.046669</td>\n",
       "      <td>32777.0</td>\n",
       "      <td>NaN</td>\n",
       "      <td>727026.0</td>\n",
       "      <td>31.010000</td>\n",
       "      <td>0.83215</td>\n",
       "      <td>NaN</td>\n",
       "      <td>25.2</td>\n",
       "      <td>83.809998</td>\n",
       "    </tr>\n",
       "    <tr>\n",
       "      <th>1505</th>\n",
       "      <td>ZAF</td>\n",
       "      <td>2018</td>\n",
       "      <td>9.52</td>\n",
       "      <td>18.901590</td>\n",
       "      <td>5.16</td>\n",
       "      <td>23.129999</td>\n",
       "      <td>71.709999</td>\n",
       "      <td>1.670823e+10</td>\n",
       "      <td>1.112854e+11</td>\n",
       "      <td>2.405</td>\n",
       "      <td>...</td>\n",
       "      <td>5.572291e+10</td>\n",
       "      <td>NaN</td>\n",
       "      <td>31810.0</td>\n",
       "      <td>NaN</td>\n",
       "      <td>NaN</td>\n",
       "      <td>31.559999</td>\n",
       "      <td>NaN</td>\n",
       "      <td>NaN</td>\n",
       "      <td>24.1</td>\n",
       "      <td>82.879997</td>\n",
       "    </tr>\n",
       "    <tr>\n",
       "      <th>1506</th>\n",
       "      <td>ZAF</td>\n",
       "      <td>2019</td>\n",
       "      <td>NaN</td>\n",
       "      <td>19.596230</td>\n",
       "      <td>5.28</td>\n",
       "      <td>22.309999</td>\n",
       "      <td>72.410004</td>\n",
       "      <td>1.554886e+10</td>\n",
       "      <td>1.060698e+11</td>\n",
       "      <td>2.381</td>\n",
       "      <td>...</td>\n",
       "      <td>5.522342e+10</td>\n",
       "      <td>95.022972</td>\n",
       "      <td>30937.0</td>\n",
       "      <td>NaN</td>\n",
       "      <td>NaN</td>\n",
       "      <td>32.459999</td>\n",
       "      <td>NaN</td>\n",
       "      <td>NaN</td>\n",
       "      <td>23.5</td>\n",
       "      <td>82.019997</td>\n",
       "    </tr>\n",
       "    <tr>\n",
       "      <th>1507</th>\n",
       "      <td>ZAF</td>\n",
       "      <td>2020</td>\n",
       "      <td>NaN</td>\n",
       "      <td>19.527281</td>\n",
       "      <td>NaN</td>\n",
       "      <td>NaN</td>\n",
       "      <td>NaN</td>\n",
       "      <td>8.404204e+09</td>\n",
       "      <td>9.317915e+10</td>\n",
       "      <td>2.358</td>\n",
       "      <td>...</td>\n",
       "      <td>NaN</td>\n",
       "      <td>NaN</td>\n",
       "      <td>30153.0</td>\n",
       "      <td>NaN</td>\n",
       "      <td>NaN</td>\n",
       "      <td>32.400002</td>\n",
       "      <td>NaN</td>\n",
       "      <td>NaN</td>\n",
       "      <td>NaN</td>\n",
       "      <td>NaN</td>\n",
       "    </tr>\n",
       "    <tr>\n",
       "      <th>1508</th>\n",
       "      <td>ZAF</td>\n",
       "      <td>2021</td>\n",
       "      <td>NaN</td>\n",
       "      <td>18.417240</td>\n",
       "      <td>NaN</td>\n",
       "      <td>NaN</td>\n",
       "      <td>NaN</td>\n",
       "      <td>NaN</td>\n",
       "      <td>NaN</td>\n",
       "      <td>NaN</td>\n",
       "      <td>...</td>\n",
       "      <td>NaN</td>\n",
       "      <td>NaN</td>\n",
       "      <td>NaN</td>\n",
       "      <td>NaN</td>\n",
       "      <td>NaN</td>\n",
       "      <td>NaN</td>\n",
       "      <td>NaN</td>\n",
       "      <td>NaN</td>\n",
       "      <td>NaN</td>\n",
       "      <td>NaN</td>\n",
       "    </tr>\n",
       "  </tbody>\n",
       "</table>\n",
       "<p>1509 rows × 24 columns</p>\n",
       "</div>"
      ],
      "text/plain": [
       "Indicator Country  Year  Alcohol per capita  Education GExp  \\\n",
       "0             ARE  1990                 NaN             NaN   \n",
       "1             ARE  1991                 NaN             NaN   \n",
       "2             ARE  1992                 NaN             NaN   \n",
       "3             ARE  1993                 NaN             NaN   \n",
       "4             ARE  1994                 NaN             NaN   \n",
       "...           ...   ...                 ...             ...   \n",
       "1504          ZAF  2017                 NaN       18.719290   \n",
       "1505          ZAF  2018                9.52       18.901590   \n",
       "1506          ZAF  2019                 NaN       19.596230   \n",
       "1507          ZAF  2020                 NaN       19.527281   \n",
       "1508          ZAF  2021                 NaN       18.417240   \n",
       "\n",
       "Indicator  Employment-agriculture  Employment-industry  Employment-services  \\\n",
       "0                             NaN                  NaN                  NaN   \n",
       "1                            8.46            33.330002            58.200001   \n",
       "2                            8.37            33.360001            58.279999   \n",
       "3                            8.24            33.470001            58.290001   \n",
       "4                            8.13            33.490002            58.380001   \n",
       "...                           ...                  ...                  ...   \n",
       "1504                         5.28            23.340000            71.379997   \n",
       "1505                         5.16            23.129999            71.709999   \n",
       "1506                         5.28            22.309999            72.410004   \n",
       "1507                          NaN                  NaN                  NaN   \n",
       "1508                          NaN                  NaN                  NaN   \n",
       "\n",
       "Indicator  Exports-Commercial services   Exports-G&S  Fertility rate  ...  \\\n",
       "0                                  NaN           NaN           4.454  ...   \n",
       "1                                  NaN           NaN           4.253  ...   \n",
       "2                                  NaN           NaN           4.041  ...   \n",
       "3                                  NaN           NaN           3.827  ...   \n",
       "4                                  NaN           NaN           3.618  ...   \n",
       "...                                ...           ...             ...  ...   \n",
       "1504                      1.614806e+10  1.042884e+11           2.430  ...   \n",
       "1505                      1.670823e+10  1.112854e+11           2.405  ...   \n",
       "1506                      1.554886e+10  1.060698e+11           2.381  ...   \n",
       "1507                      8.404204e+09  9.317915e+10           2.358  ...   \n",
       "1508                               NaN           NaN             NaN  ...   \n",
       "\n",
       "Indicator  International taxes  Literacy rate  Mortality-infants  \\\n",
       "0                          NaN            NaN              672.0   \n",
       "1                          NaN            NaN              645.0   \n",
       "2                          NaN            NaN              618.0   \n",
       "3                          NaN            NaN              592.0   \n",
       "4                          NaN            NaN              568.0   \n",
       "...                        ...            ...                ...   \n",
       "1504              4.993941e+10      87.046669            32777.0   \n",
       "1505              5.572291e+10            NaN            31810.0   \n",
       "1506              5.522342e+10      95.022972            30937.0   \n",
       "1507                       NaN            NaN            30153.0   \n",
       "1508                       NaN            NaN                NaN   \n",
       "\n",
       "Indicator  Mortality-pollution  Net migration      Ninis  R&D GExp  \\\n",
       "0                          NaN            NaN        NaN       NaN   \n",
       "1                          NaN            NaN        NaN       NaN   \n",
       "2                          NaN       368126.0        NaN       NaN   \n",
       "3                          NaN            NaN        NaN       NaN   \n",
       "4                          NaN            NaN        NaN       NaN   \n",
       "...                        ...            ...        ...       ...   \n",
       "1504                       NaN       727026.0  31.010000   0.83215   \n",
       "1505                       NaN            NaN  31.559999       NaN   \n",
       "1506                       NaN            NaN  32.459999       NaN   \n",
       "1507                       NaN            NaN  32.400002       NaN   \n",
       "1508                       NaN            NaN        NaN       NaN   \n",
       "\n",
       "Indicator  Renewable electricity  Suicide  Workers high education  \n",
       "0                            0.0      NaN                     NaN  \n",
       "1                            0.0      NaN                     NaN  \n",
       "2                            0.0      NaN                     NaN  \n",
       "3                            0.0      NaN                     NaN  \n",
       "4                            0.0      NaN                     NaN  \n",
       "...                          ...      ...                     ...  \n",
       "1504                         NaN     25.2               83.809998  \n",
       "1505                         NaN     24.1               82.879997  \n",
       "1506                         NaN     23.5               82.019997  \n",
       "1507                         NaN      NaN                     NaN  \n",
       "1508                         NaN      NaN                     NaN  \n",
       "\n",
       "[1509 rows x 24 columns]"
      ]
     },
     "execution_count": 67,
     "metadata": {},
     "output_type": "execute_result"
    }
   ],
   "source": [
    "SilverDataFrame=df_limpio.set_index([\"Country\", \"Year\"]).pivot(columns=\"Indicator\", values=\"Real value\").reset_index()\n",
    "SilverDataFrame"
   ]
  },
  {
   "cell_type": "markdown",
   "metadata": {},
   "source": [
    "On the other hand, another big stone of normalizations is to nan/null values, which we have in all variables."
   ]
  },
  {
   "cell_type": "code",
   "execution_count": 68,
   "metadata": {},
   "outputs": [
    {
     "data": {
      "text/plain": [
       "13351"
      ]
     },
     "execution_count": 68,
     "metadata": {},
     "output_type": "execute_result"
    }
   ],
   "source": [
    "SilverDataFrame.isna().sum().sum()"
   ]
  },
  {
   "cell_type": "markdown",
   "metadata": {},
   "source": [
    "As we can observe, we have lots of missing data, and as there is no optimal way to fullfill these values, thus, we will test some to arrive to the optimal method for our data set."
   ]
  },
  {
   "cell_type": "markdown",
   "metadata": {},
   "source": [
    "First, we need to create some lists so our loops work."
   ]
  },
  {
   "cell_type": "code",
   "execution_count": 69,
   "metadata": {},
   "outputs": [],
   "source": [
    "df=SilverDataFrame\n",
    "europe_list=['DEU','FRA','SWE','GBR','ESP','HRV','POL','GRC','AUT','NLD']\n",
    "persian_list=['IRQ','QAT','ARE','SAU','AZE','YEM','YDR','OMN']\n",
    "naf_list=['DZA','EGY','LBY','ISR','TUR','MAR']\n",
    "saf_list=['SEN','ZAF','LBR','MOZ','CMR','NGA','GHA']\n",
    "asia_list=['BGD','IND','VNM','THA','IDN','PHL','KOR']\n",
    "latam_list=['MEX','BRA','ARG','PER','VEN','COL','CHL','PAN','CRI']\n",
    "two_list=['USA','CHN']\n",
    "country_list=europe_list+persian_list+naf_list+saf_list+asia_list+latam_list+two_list\n",
    "col_to_scale=['Gender equality','Exports-Commercial services','Renewable electricity','Employment-agriculture','Employment-industry','Employment-services','Exports-G&S','Fertility rate','Foreign investment','GDP','Education GExp','Workers high education','Literacy rate','Mortality-pollution','Net migration','Mortality-infants','Health services use','R&D GExp','Ninis','Suicide','International taxes','Alcohol per capita']\n"
   ]
  },
  {
   "cell_type": "markdown",
   "metadata": {},
   "source": [
    "We are attempting the linear interpolation, which is achieved by geometrically rendering a straight line between two adjacent points on a graph or plane."
   ]
  },
  {
   "cell_type": "code",
   "execution_count": 70,
   "metadata": {},
   "outputs": [
    {
     "data": {
      "text/plain": [
       "8519"
      ]
     },
     "execution_count": 70,
     "metadata": {},
     "output_type": "execute_result"
    }
   ],
   "source": [
    "dat=df.loc[df.loc[:, 'Country'] == country_list[0]]\n",
    "datc=dat.interpolate(method=\"linear\")\n",
    "data=datc\n",
    "\n",
    "for i in range(1,len(country_list)):\n",
    "    dat=df.loc[df.loc[:, 'Country'] == country_list[i]]\n",
    "    datc=dat.interpolate(method=\"linear\")\n",
    "    data=pd.concat((data, datc), axis = 0)\n",
    "data.isna().sum().sum()"
   ]
  },
  {
   "cell_type": "markdown",
   "metadata": {},
   "source": [
    "Here we attempt the backward filling. (Filling the previous cell with future values)"
   ]
  },
  {
   "cell_type": "code",
   "execution_count": 71,
   "metadata": {},
   "outputs": [
    {
     "data": {
      "text/plain": [
       "4500"
      ]
     },
     "execution_count": 71,
     "metadata": {},
     "output_type": "execute_result"
    }
   ],
   "source": [
    "dat=df.loc[df.loc[:, 'Country'] == country_list[0]]\n",
    "datc=dat.fillna(method='bfill')\n",
    "data=datc\n",
    "\n",
    "for i in range(1,len(country_list)):\n",
    "    dat=df.loc[df.loc[:, 'Country'] == country_list[i]]\n",
    "    datc=dat.fillna(method='bfill')\n",
    "    data=pd.concat((data, datc), axis = 0)\n",
    "data.isna().sum().sum()"
   ]
  },
  {
   "cell_type": "markdown",
   "metadata": {},
   "source": [
    "Here we will attempt the forward filling. (Filling the next cell with previous values)"
   ]
  },
  {
   "cell_type": "code",
   "execution_count": 72,
   "metadata": {},
   "outputs": [
    {
     "data": {
      "text/plain": [
       "8519"
      ]
     },
     "execution_count": 72,
     "metadata": {},
     "output_type": "execute_result"
    }
   ],
   "source": [
    "dat=df.loc[df.loc[:, 'Country'] == country_list[0]]\n",
    "datc=dat.fillna(method='ffill')\n",
    "data=datc\n",
    "\n",
    "for i in range(1,len(country_list)):\n",
    "    dat=df.loc[df.loc[:, 'Country'] == country_list[i]]\n",
    "    datc=dat.fillna(method='ffill')\n",
    "    data=pd.concat((data, datc), axis = 0)\n",
    "data.isna().sum().sum()"
   ]
  },
  {
   "cell_type": "markdown",
   "metadata": {},
   "source": [
    "And as none of the methods have worked out correctly, independently, we are going to mix them, to achieve a better result."
   ]
  },
  {
   "cell_type": "code",
   "execution_count": 73,
   "metadata": {},
   "outputs": [
    {
     "data": {
      "text/plain": [
       "8519"
      ]
     },
     "execution_count": 73,
     "metadata": {},
     "output_type": "execute_result"
    }
   ],
   "source": [
    "dat=df.loc[df.loc[:, 'Country'] == country_list[0]]\n",
    "datc=dat.interpolate(method=\"linear\")\n",
    "datc=datc.fillna(method='ffill')\n",
    "data=datc\n",
    "\n",
    "for i in range(1,len(country_list)):\n",
    "    dat=df.loc[df.loc[:, 'Country'] == country_list[i]]\n",
    "    datc=dat.interpolate(method=\"linear\")\n",
    "    datc=datc.fillna(method='ffill')\n",
    "    data=pd.concat((data, datc), axis = 0)\n",
    "data.isna().sum().sum()"
   ]
  },
  {
   "cell_type": "code",
   "execution_count": 74,
   "metadata": {},
   "outputs": [
    {
     "data": {
      "text/plain": [
       "2447"
      ]
     },
     "execution_count": 74,
     "metadata": {},
     "output_type": "execute_result"
    }
   ],
   "source": [
    "dat=df.loc[df.loc[:, 'Country'] == country_list[0]]\n",
    "datc=dat.interpolate(method=\"linear\")\n",
    "datc=datc.fillna(method='bfill')\n",
    "data=datc\n",
    "\n",
    "for i in range(1,len(country_list)):\n",
    "    dat=df.loc[df.loc[:, 'Country'] == country_list[i]]\n",
    "    datc=dat.interpolate(method=\"linear\")\n",
    "    datc=datc.fillna(method='bfill')\n",
    "    data=pd.concat((data, datc), axis = 0)\n",
    "data.isna().sum().sum()"
   ]
  },
  {
   "cell_type": "markdown",
   "metadata": {},
   "source": [
    "And finally, mixing the three methods all together."
   ]
  },
  {
   "cell_type": "code",
   "execution_count": 75,
   "metadata": {},
   "outputs": [
    {
     "data": {
      "text/plain": [
       "2447"
      ]
     },
     "execution_count": 75,
     "metadata": {},
     "output_type": "execute_result"
    }
   ],
   "source": [
    "dat=df.loc[df.loc[:, 'Country'] == country_list[0]]\n",
    "datc=dat.interpolate(method=\"linear\")\n",
    "datf=datc.fillna(method='bfill')\n",
    "datr=datf.fillna(method='ffill')\n",
    "data=datr\n",
    "\n",
    "for i in range(1,len(country_list)):\n",
    "    dat=df.loc[df.loc[:, 'Country'] == country_list[i]]\n",
    "    datc=dat.interpolate(method=\"linear\")\n",
    "    datc=datc.fillna(method='bfill')\n",
    "    datc=datc.fillna(method='ffill')\n",
    "    data=pd.concat((data, datc), axis = 0)\n",
    "data.isna().sum().sum()"
   ]
  },
  {
   "cell_type": "markdown",
   "metadata": {},
   "source": [
    "Therefore, the preferred method for the Nan values´ treatment that we are going to develop is a mix, between the linear interpolation and backwards filling. The linear interpolation a form of interpolation, which involves the generation of new values based on an existing set of values. Linear interpolation is achieved by geometrically rendering a straight line between two adjacent points on a graph or plane. Whereas the backwards filling, will help us to arrive to those values which have not been fullfilled with the linear interpolation."
   ]
  },
  {
   "cell_type": "markdown",
   "metadata": {},
   "source": [
    "Moreover, we are also going to scale all the values between the max and min of each country for each variable."
   ]
  },
  {
   "cell_type": "code",
   "execution_count": 76,
   "metadata": {},
   "outputs": [
    {
     "data": {
      "text/html": [
       "<div>\n",
       "<style scoped>\n",
       "    .dataframe tbody tr th:only-of-type {\n",
       "        vertical-align: middle;\n",
       "    }\n",
       "\n",
       "    .dataframe tbody tr th {\n",
       "        vertical-align: top;\n",
       "    }\n",
       "\n",
       "    .dataframe thead th {\n",
       "        text-align: right;\n",
       "    }\n",
       "</style>\n",
       "<table border=\"1\" class=\"dataframe\">\n",
       "  <thead>\n",
       "    <tr style=\"text-align: right;\">\n",
       "      <th>Indicator</th>\n",
       "      <th>Country</th>\n",
       "      <th>Year</th>\n",
       "      <th>Alcohol per capita</th>\n",
       "      <th>Education GExp</th>\n",
       "      <th>Employment-agriculture</th>\n",
       "      <th>Employment-industry</th>\n",
       "      <th>Employment-services</th>\n",
       "      <th>Exports-Commercial services</th>\n",
       "      <th>Exports-G&amp;S</th>\n",
       "      <th>Fertility rate</th>\n",
       "      <th>...</th>\n",
       "      <th>International taxes</th>\n",
       "      <th>Literacy rate</th>\n",
       "      <th>Mortality-infants</th>\n",
       "      <th>Mortality-pollution</th>\n",
       "      <th>Net migration</th>\n",
       "      <th>Ninis</th>\n",
       "      <th>R&amp;D GExp</th>\n",
       "      <th>Renewable electricity</th>\n",
       "      <th>Suicide</th>\n",
       "      <th>Workers high education</th>\n",
       "    </tr>\n",
       "  </thead>\n",
       "  <tbody>\n",
       "    <tr>\n",
       "      <th>347</th>\n",
       "      <td>DEU</td>\n",
       "      <td>1990</td>\n",
       "      <td>1.00000</td>\n",
       "      <td>0.443529</td>\n",
       "      <td>1.000000</td>\n",
       "      <td>1.000000</td>\n",
       "      <td>0.000000</td>\n",
       "      <td>0.002386</td>\n",
       "      <td>0.000000</td>\n",
       "      <td>0.636364</td>\n",
       "      <td>...</td>\n",
       "      <td>NaN</td>\n",
       "      <td>NaN</td>\n",
       "      <td>1.000000</td>\n",
       "      <td>NaN</td>\n",
       "      <td>0.966124</td>\n",
       "      <td>0.77758</td>\n",
       "      <td>0.000000</td>\n",
       "      <td>0.000000</td>\n",
       "      <td>0.956522</td>\n",
       "      <td>1.0</td>\n",
       "    </tr>\n",
       "    <tr>\n",
       "      <th>348</th>\n",
       "      <td>DEU</td>\n",
       "      <td>1991</td>\n",
       "      <td>1.00000</td>\n",
       "      <td>0.443529</td>\n",
       "      <td>1.000000</td>\n",
       "      <td>1.000000</td>\n",
       "      <td>0.000000</td>\n",
       "      <td>0.000000</td>\n",
       "      <td>0.025535</td>\n",
       "      <td>0.272727</td>\n",
       "      <td>...</td>\n",
       "      <td>NaN</td>\n",
       "      <td>NaN</td>\n",
       "      <td>1.000000</td>\n",
       "      <td>NaN</td>\n",
       "      <td>0.966124</td>\n",
       "      <td>0.77758</td>\n",
       "      <td>0.000000</td>\n",
       "      <td>0.002525</td>\n",
       "      <td>0.956522</td>\n",
       "      <td>1.0</td>\n",
       "    </tr>\n",
       "    <tr>\n",
       "      <th>349</th>\n",
       "      <td>DEU</td>\n",
       "      <td>1992</td>\n",
       "      <td>1.00000</td>\n",
       "      <td>0.443529</td>\n",
       "      <td>0.964758</td>\n",
       "      <td>0.966793</td>\n",
       "      <td>0.034321</td>\n",
       "      <td>0.018415</td>\n",
       "      <td>0.046400</td>\n",
       "      <td>0.151515</td>\n",
       "      <td>...</td>\n",
       "      <td>NaN</td>\n",
       "      <td>NaN</td>\n",
       "      <td>0.875324</td>\n",
       "      <td>NaN</td>\n",
       "      <td>0.966124</td>\n",
       "      <td>0.77758</td>\n",
       "      <td>0.000000</td>\n",
       "      <td>0.004025</td>\n",
       "      <td>0.956522</td>\n",
       "      <td>1.0</td>\n",
       "    </tr>\n",
       "    <tr>\n",
       "      <th>350</th>\n",
       "      <td>DEU</td>\n",
       "      <td>1993</td>\n",
       "      <td>1.00000</td>\n",
       "      <td>0.443529</td>\n",
       "      <td>0.942731</td>\n",
       "      <td>0.907021</td>\n",
       "      <td>0.088143</td>\n",
       "      <td>0.012182</td>\n",
       "      <td>0.010957</td>\n",
       "      <td>0.121212</td>\n",
       "      <td>...</td>\n",
       "      <td>NaN</td>\n",
       "      <td>NaN</td>\n",
       "      <td>0.765220</td>\n",
       "      <td>NaN</td>\n",
       "      <td>0.823187</td>\n",
       "      <td>0.77758</td>\n",
       "      <td>0.000000</td>\n",
       "      <td>0.005848</td>\n",
       "      <td>0.956522</td>\n",
       "      <td>1.0</td>\n",
       "    </tr>\n",
       "    <tr>\n",
       "      <th>351</th>\n",
       "      <td>DEU</td>\n",
       "      <td>1994</td>\n",
       "      <td>1.00000</td>\n",
       "      <td>0.380220</td>\n",
       "      <td>0.903084</td>\n",
       "      <td>0.876660</td>\n",
       "      <td>0.119345</td>\n",
       "      <td>0.018513</td>\n",
       "      <td>0.041261</td>\n",
       "      <td>0.000000</td>\n",
       "      <td>...</td>\n",
       "      <td>NaN</td>\n",
       "      <td>NaN</td>\n",
       "      <td>0.670984</td>\n",
       "      <td>NaN</td>\n",
       "      <td>0.680250</td>\n",
       "      <td>0.77758</td>\n",
       "      <td>0.000000</td>\n",
       "      <td>0.011012</td>\n",
       "      <td>0.956522</td>\n",
       "      <td>1.0</td>\n",
       "    </tr>\n",
       "    <tr>\n",
       "      <th>...</th>\n",
       "      <td>...</td>\n",
       "      <td>...</td>\n",
       "      <td>...</td>\n",
       "      <td>...</td>\n",
       "      <td>...</td>\n",
       "      <td>...</td>\n",
       "      <td>...</td>\n",
       "      <td>...</td>\n",
       "      <td>...</td>\n",
       "      <td>...</td>\n",
       "      <td>...</td>\n",
       "      <td>...</td>\n",
       "      <td>...</td>\n",
       "      <td>...</td>\n",
       "      <td>...</td>\n",
       "      <td>...</td>\n",
       "      <td>...</td>\n",
       "      <td>...</td>\n",
       "      <td>...</td>\n",
       "      <td>...</td>\n",
       "      <td>...</td>\n",
       "    </tr>\n",
       "    <tr>\n",
       "      <th>247</th>\n",
       "      <td>CHN</td>\n",
       "      <td>2016</td>\n",
       "      <td>0.99002</td>\n",
       "      <td>0.246406</td>\n",
       "      <td>0.068956</td>\n",
       "      <td>0.831461</td>\n",
       "      <td>0.867725</td>\n",
       "      <td>0.849888</td>\n",
       "      <td>0.804316</td>\n",
       "      <td>0.588235</td>\n",
       "      <td>...</td>\n",
       "      <td>0.790308</td>\n",
       "      <td>0.977482</td>\n",
       "      <td>0.042573</td>\n",
       "      <td>NaN</td>\n",
       "      <td>0.264203</td>\n",
       "      <td>NaN</td>\n",
       "      <td>0.974482</td>\n",
       "      <td>1.000000</td>\n",
       "      <td>0.016129</td>\n",
       "      <td>NaN</td>\n",
       "    </tr>\n",
       "    <tr>\n",
       "      <th>248</th>\n",
       "      <td>CHN</td>\n",
       "      <td>2017</td>\n",
       "      <td>0.98004</td>\n",
       "      <td>0.212024</td>\n",
       "      <td>0.048007</td>\n",
       "      <td>0.753933</td>\n",
       "      <td>0.917460</td>\n",
       "      <td>0.867490</td>\n",
       "      <td>0.888169</td>\n",
       "      <td>0.647059</td>\n",
       "      <td>...</td>\n",
       "      <td>1.000000</td>\n",
       "      <td>0.988741</td>\n",
       "      <td>0.030745</td>\n",
       "      <td>NaN</td>\n",
       "      <td>0.243061</td>\n",
       "      <td>NaN</td>\n",
       "      <td>0.984436</td>\n",
       "      <td>1.000000</td>\n",
       "      <td>0.000000</td>\n",
       "      <td>NaN</td>\n",
       "    </tr>\n",
       "    <tr>\n",
       "      <th>249</th>\n",
       "      <td>CHN</td>\n",
       "      <td>2018</td>\n",
       "      <td>0.97006</td>\n",
       "      <td>0.000000</td>\n",
       "      <td>0.021530</td>\n",
       "      <td>0.777528</td>\n",
       "      <td>0.942152</td>\n",
       "      <td>0.953748</td>\n",
       "      <td>0.974699</td>\n",
       "      <td>0.698529</td>\n",
       "      <td>...</td>\n",
       "      <td>0.920304</td>\n",
       "      <td>1.000000</td>\n",
       "      <td>0.019650</td>\n",
       "      <td>NaN</td>\n",
       "      <td>0.243061</td>\n",
       "      <td>NaN</td>\n",
       "      <td>1.000000</td>\n",
       "      <td>1.000000</td>\n",
       "      <td>0.000000</td>\n",
       "      <td>NaN</td>\n",
       "    </tr>\n",
       "    <tr>\n",
       "      <th>250</th>\n",
       "      <td>CHN</td>\n",
       "      <td>2019</td>\n",
       "      <td>0.97006</td>\n",
       "      <td>0.000000</td>\n",
       "      <td>0.000000</td>\n",
       "      <td>0.676405</td>\n",
       "      <td>1.000000</td>\n",
       "      <td>1.000000</td>\n",
       "      <td>0.964730</td>\n",
       "      <td>0.742647</td>\n",
       "      <td>...</td>\n",
       "      <td>0.920304</td>\n",
       "      <td>1.000000</td>\n",
       "      <td>0.009383</td>\n",
       "      <td>NaN</td>\n",
       "      <td>0.243061</td>\n",
       "      <td>NaN</td>\n",
       "      <td>1.000000</td>\n",
       "      <td>1.000000</td>\n",
       "      <td>0.000000</td>\n",
       "      <td>NaN</td>\n",
       "    </tr>\n",
       "    <tr>\n",
       "      <th>251</th>\n",
       "      <td>CHN</td>\n",
       "      <td>2020</td>\n",
       "      <td>0.97006</td>\n",
       "      <td>0.000000</td>\n",
       "      <td>0.000000</td>\n",
       "      <td>0.676405</td>\n",
       "      <td>1.000000</td>\n",
       "      <td>0.957514</td>\n",
       "      <td>1.000000</td>\n",
       "      <td>0.772059</td>\n",
       "      <td>...</td>\n",
       "      <td>0.920304</td>\n",
       "      <td>1.000000</td>\n",
       "      <td>0.000000</td>\n",
       "      <td>NaN</td>\n",
       "      <td>0.243061</td>\n",
       "      <td>NaN</td>\n",
       "      <td>1.000000</td>\n",
       "      <td>1.000000</td>\n",
       "      <td>0.000000</td>\n",
       "      <td>NaN</td>\n",
       "    </tr>\n",
       "  </tbody>\n",
       "</table>\n",
       "<p>1509 rows × 24 columns</p>\n",
       "</div>"
      ],
      "text/plain": [
       "Indicator Country  Year  Alcohol per capita  Education GExp  \\\n",
       "347           DEU  1990             1.00000        0.443529   \n",
       "348           DEU  1991             1.00000        0.443529   \n",
       "349           DEU  1992             1.00000        0.443529   \n",
       "350           DEU  1993             1.00000        0.443529   \n",
       "351           DEU  1994             1.00000        0.380220   \n",
       "..            ...   ...                 ...             ...   \n",
       "247           CHN  2016             0.99002        0.246406   \n",
       "248           CHN  2017             0.98004        0.212024   \n",
       "249           CHN  2018             0.97006        0.000000   \n",
       "250           CHN  2019             0.97006        0.000000   \n",
       "251           CHN  2020             0.97006        0.000000   \n",
       "\n",
       "Indicator  Employment-agriculture  Employment-industry  Employment-services  \\\n",
       "347                      1.000000             1.000000             0.000000   \n",
       "348                      1.000000             1.000000             0.000000   \n",
       "349                      0.964758             0.966793             0.034321   \n",
       "350                      0.942731             0.907021             0.088143   \n",
       "351                      0.903084             0.876660             0.119345   \n",
       "..                            ...                  ...                  ...   \n",
       "247                      0.068956             0.831461             0.867725   \n",
       "248                      0.048007             0.753933             0.917460   \n",
       "249                      0.021530             0.777528             0.942152   \n",
       "250                      0.000000             0.676405             1.000000   \n",
       "251                      0.000000             0.676405             1.000000   \n",
       "\n",
       "Indicator  Exports-Commercial services  Exports-G&S  Fertility rate  ...  \\\n",
       "347                           0.002386     0.000000        0.636364  ...   \n",
       "348                           0.000000     0.025535        0.272727  ...   \n",
       "349                           0.018415     0.046400        0.151515  ...   \n",
       "350                           0.012182     0.010957        0.121212  ...   \n",
       "351                           0.018513     0.041261        0.000000  ...   \n",
       "..                                 ...          ...             ...  ...   \n",
       "247                           0.849888     0.804316        0.588235  ...   \n",
       "248                           0.867490     0.888169        0.647059  ...   \n",
       "249                           0.953748     0.974699        0.698529  ...   \n",
       "250                           1.000000     0.964730        0.742647  ...   \n",
       "251                           0.957514     1.000000        0.772059  ...   \n",
       "\n",
       "Indicator  International taxes  Literacy rate  Mortality-infants  \\\n",
       "347                        NaN            NaN           1.000000   \n",
       "348                        NaN            NaN           1.000000   \n",
       "349                        NaN            NaN           0.875324   \n",
       "350                        NaN            NaN           0.765220   \n",
       "351                        NaN            NaN           0.670984   \n",
       "..                         ...            ...                ...   \n",
       "247                   0.790308       0.977482           0.042573   \n",
       "248                   1.000000       0.988741           0.030745   \n",
       "249                   0.920304       1.000000           0.019650   \n",
       "250                   0.920304       1.000000           0.009383   \n",
       "251                   0.920304       1.000000           0.000000   \n",
       "\n",
       "Indicator  Mortality-pollution  Net migration    Ninis  R&D GExp  \\\n",
       "347                        NaN       0.966124  0.77758  0.000000   \n",
       "348                        NaN       0.966124  0.77758  0.000000   \n",
       "349                        NaN       0.966124  0.77758  0.000000   \n",
       "350                        NaN       0.823187  0.77758  0.000000   \n",
       "351                        NaN       0.680250  0.77758  0.000000   \n",
       "..                         ...            ...      ...       ...   \n",
       "247                        NaN       0.264203      NaN  0.974482   \n",
       "248                        NaN       0.243061      NaN  0.984436   \n",
       "249                        NaN       0.243061      NaN  1.000000   \n",
       "250                        NaN       0.243061      NaN  1.000000   \n",
       "251                        NaN       0.243061      NaN  1.000000   \n",
       "\n",
       "Indicator  Renewable electricity   Suicide  Workers high education  \n",
       "347                     0.000000  0.956522                     1.0  \n",
       "348                     0.002525  0.956522                     1.0  \n",
       "349                     0.004025  0.956522                     1.0  \n",
       "350                     0.005848  0.956522                     1.0  \n",
       "351                     0.011012  0.956522                     1.0  \n",
       "..                           ...       ...                     ...  \n",
       "247                     1.000000  0.016129                     NaN  \n",
       "248                     1.000000  0.000000                     NaN  \n",
       "249                     1.000000  0.000000                     NaN  \n",
       "250                     1.000000  0.000000                     NaN  \n",
       "251                     1.000000  0.000000                     NaN  \n",
       "\n",
       "[1509 rows x 24 columns]"
      ]
     },
     "execution_count": 76,
     "metadata": {},
     "output_type": "execute_result"
    }
   ],
   "source": [
    "dat=df.loc[df.loc[:, 'Country'] == country_list[0]]\n",
    "datc=dat.interpolate(method=\"linear\")\n",
    "datf=datc.fillna(method='bfill')\n",
    "datr[col_to_scale]=(datr[col_to_scale]-datr[col_to_scale].min())/(datr[col_to_scale].max()-datr[col_to_scale].min())\n",
    "data=datr\n",
    "\n",
    "for i in range(1,len(country_list)):\n",
    "    dat=df.loc[df.loc[:, 'Country'] == country_list[i]]\n",
    "    datc=dat.interpolate(method=\"linear\")\n",
    "    datc=datc.fillna(method='bfill')\n",
    "    datc[col_to_scale]=(datc[col_to_scale]-datc[col_to_scale].min())/(datc[col_to_scale].max()-datc[col_to_scale].min())\n",
    "    data=pd.concat((data, datc), axis = 0)\n",
    "data"
   ]
  },
  {
   "cell_type": "markdown",
   "metadata": {},
   "source": [
    "Now, we will drop the columns which have over 1000 missing values, because the absence of data creates an unreliable source."
   ]
  },
  {
   "cell_type": "code",
   "execution_count": 77,
   "metadata": {},
   "outputs": [
    {
     "name": "stdout",
     "output_type": "stream",
     "text": [
      "Gender equality\n",
      "Mortality-pollution\n"
     ]
    },
    {
     "data": {
      "text/html": [
       "<div>\n",
       "<style scoped>\n",
       "    .dataframe tbody tr th:only-of-type {\n",
       "        vertical-align: middle;\n",
       "    }\n",
       "\n",
       "    .dataframe tbody tr th {\n",
       "        vertical-align: top;\n",
       "    }\n",
       "\n",
       "    .dataframe thead th {\n",
       "        text-align: right;\n",
       "    }\n",
       "</style>\n",
       "<table border=\"1\" class=\"dataframe\">\n",
       "  <thead>\n",
       "    <tr style=\"text-align: right;\">\n",
       "      <th>Indicator</th>\n",
       "      <th>Country</th>\n",
       "      <th>Year</th>\n",
       "      <th>Alcohol per capita</th>\n",
       "      <th>Education GExp</th>\n",
       "      <th>Employment-agriculture</th>\n",
       "      <th>Employment-industry</th>\n",
       "      <th>Employment-services</th>\n",
       "      <th>Exports-Commercial services</th>\n",
       "      <th>Exports-G&amp;S</th>\n",
       "      <th>Fertility rate</th>\n",
       "      <th>...</th>\n",
       "      <th>Health services use</th>\n",
       "      <th>International taxes</th>\n",
       "      <th>Literacy rate</th>\n",
       "      <th>Mortality-infants</th>\n",
       "      <th>Net migration</th>\n",
       "      <th>Ninis</th>\n",
       "      <th>R&amp;D GExp</th>\n",
       "      <th>Renewable electricity</th>\n",
       "      <th>Suicide</th>\n",
       "      <th>Workers high education</th>\n",
       "    </tr>\n",
       "  </thead>\n",
       "  <tbody>\n",
       "    <tr>\n",
       "      <th>347</th>\n",
       "      <td>DEU</td>\n",
       "      <td>1990</td>\n",
       "      <td>1.00000</td>\n",
       "      <td>0.443529</td>\n",
       "      <td>1.000000</td>\n",
       "      <td>1.000000</td>\n",
       "      <td>0.000000</td>\n",
       "      <td>0.002386</td>\n",
       "      <td>0.000000</td>\n",
       "      <td>0.636364</td>\n",
       "      <td>...</td>\n",
       "      <td>0.000000</td>\n",
       "      <td>NaN</td>\n",
       "      <td>NaN</td>\n",
       "      <td>1.000000</td>\n",
       "      <td>0.966124</td>\n",
       "      <td>0.77758</td>\n",
       "      <td>0.000000</td>\n",
       "      <td>0.000000</td>\n",
       "      <td>0.956522</td>\n",
       "      <td>1.0</td>\n",
       "    </tr>\n",
       "    <tr>\n",
       "      <th>348</th>\n",
       "      <td>DEU</td>\n",
       "      <td>1991</td>\n",
       "      <td>1.00000</td>\n",
       "      <td>0.443529</td>\n",
       "      <td>1.000000</td>\n",
       "      <td>1.000000</td>\n",
       "      <td>0.000000</td>\n",
       "      <td>0.000000</td>\n",
       "      <td>0.025535</td>\n",
       "      <td>0.272727</td>\n",
       "      <td>...</td>\n",
       "      <td>0.000000</td>\n",
       "      <td>NaN</td>\n",
       "      <td>NaN</td>\n",
       "      <td>1.000000</td>\n",
       "      <td>0.966124</td>\n",
       "      <td>0.77758</td>\n",
       "      <td>0.000000</td>\n",
       "      <td>0.002525</td>\n",
       "      <td>0.956522</td>\n",
       "      <td>1.0</td>\n",
       "    </tr>\n",
       "    <tr>\n",
       "      <th>349</th>\n",
       "      <td>DEU</td>\n",
       "      <td>1992</td>\n",
       "      <td>1.00000</td>\n",
       "      <td>0.443529</td>\n",
       "      <td>0.964758</td>\n",
       "      <td>0.966793</td>\n",
       "      <td>0.034321</td>\n",
       "      <td>0.018415</td>\n",
       "      <td>0.046400</td>\n",
       "      <td>0.151515</td>\n",
       "      <td>...</td>\n",
       "      <td>0.000000</td>\n",
       "      <td>NaN</td>\n",
       "      <td>NaN</td>\n",
       "      <td>0.875324</td>\n",
       "      <td>0.966124</td>\n",
       "      <td>0.77758</td>\n",
       "      <td>0.000000</td>\n",
       "      <td>0.004025</td>\n",
       "      <td>0.956522</td>\n",
       "      <td>1.0</td>\n",
       "    </tr>\n",
       "    <tr>\n",
       "      <th>350</th>\n",
       "      <td>DEU</td>\n",
       "      <td>1993</td>\n",
       "      <td>1.00000</td>\n",
       "      <td>0.443529</td>\n",
       "      <td>0.942731</td>\n",
       "      <td>0.907021</td>\n",
       "      <td>0.088143</td>\n",
       "      <td>0.012182</td>\n",
       "      <td>0.010957</td>\n",
       "      <td>0.121212</td>\n",
       "      <td>...</td>\n",
       "      <td>0.000000</td>\n",
       "      <td>NaN</td>\n",
       "      <td>NaN</td>\n",
       "      <td>0.765220</td>\n",
       "      <td>0.823187</td>\n",
       "      <td>0.77758</td>\n",
       "      <td>0.000000</td>\n",
       "      <td>0.005848</td>\n",
       "      <td>0.956522</td>\n",
       "      <td>1.0</td>\n",
       "    </tr>\n",
       "    <tr>\n",
       "      <th>351</th>\n",
       "      <td>DEU</td>\n",
       "      <td>1994</td>\n",
       "      <td>1.00000</td>\n",
       "      <td>0.380220</td>\n",
       "      <td>0.903084</td>\n",
       "      <td>0.876660</td>\n",
       "      <td>0.119345</td>\n",
       "      <td>0.018513</td>\n",
       "      <td>0.041261</td>\n",
       "      <td>0.000000</td>\n",
       "      <td>...</td>\n",
       "      <td>0.000000</td>\n",
       "      <td>NaN</td>\n",
       "      <td>NaN</td>\n",
       "      <td>0.670984</td>\n",
       "      <td>0.680250</td>\n",
       "      <td>0.77758</td>\n",
       "      <td>0.000000</td>\n",
       "      <td>0.011012</td>\n",
       "      <td>0.956522</td>\n",
       "      <td>1.0</td>\n",
       "    </tr>\n",
       "    <tr>\n",
       "      <th>...</th>\n",
       "      <td>...</td>\n",
       "      <td>...</td>\n",
       "      <td>...</td>\n",
       "      <td>...</td>\n",
       "      <td>...</td>\n",
       "      <td>...</td>\n",
       "      <td>...</td>\n",
       "      <td>...</td>\n",
       "      <td>...</td>\n",
       "      <td>...</td>\n",
       "      <td>...</td>\n",
       "      <td>...</td>\n",
       "      <td>...</td>\n",
       "      <td>...</td>\n",
       "      <td>...</td>\n",
       "      <td>...</td>\n",
       "      <td>...</td>\n",
       "      <td>...</td>\n",
       "      <td>...</td>\n",
       "      <td>...</td>\n",
       "      <td>...</td>\n",
       "    </tr>\n",
       "    <tr>\n",
       "      <th>247</th>\n",
       "      <td>CHN</td>\n",
       "      <td>2016</td>\n",
       "      <td>0.99002</td>\n",
       "      <td>0.246406</td>\n",
       "      <td>0.068956</td>\n",
       "      <td>0.831461</td>\n",
       "      <td>0.867725</td>\n",
       "      <td>0.849888</td>\n",
       "      <td>0.804316</td>\n",
       "      <td>0.588235</td>\n",
       "      <td>...</td>\n",
       "      <td>0.822241</td>\n",
       "      <td>0.790308</td>\n",
       "      <td>0.977482</td>\n",
       "      <td>0.042573</td>\n",
       "      <td>0.264203</td>\n",
       "      <td>NaN</td>\n",
       "      <td>0.974482</td>\n",
       "      <td>1.000000</td>\n",
       "      <td>0.016129</td>\n",
       "      <td>NaN</td>\n",
       "    </tr>\n",
       "    <tr>\n",
       "      <th>248</th>\n",
       "      <td>CHN</td>\n",
       "      <td>2017</td>\n",
       "      <td>0.98004</td>\n",
       "      <td>0.212024</td>\n",
       "      <td>0.048007</td>\n",
       "      <td>0.753933</td>\n",
       "      <td>0.917460</td>\n",
       "      <td>0.867490</td>\n",
       "      <td>0.888169</td>\n",
       "      <td>0.647059</td>\n",
       "      <td>...</td>\n",
       "      <td>0.868064</td>\n",
       "      <td>1.000000</td>\n",
       "      <td>0.988741</td>\n",
       "      <td>0.030745</td>\n",
       "      <td>0.243061</td>\n",
       "      <td>NaN</td>\n",
       "      <td>0.984436</td>\n",
       "      <td>1.000000</td>\n",
       "      <td>0.000000</td>\n",
       "      <td>NaN</td>\n",
       "    </tr>\n",
       "    <tr>\n",
       "      <th>249</th>\n",
       "      <td>CHN</td>\n",
       "      <td>2018</td>\n",
       "      <td>0.97006</td>\n",
       "      <td>0.000000</td>\n",
       "      <td>0.021530</td>\n",
       "      <td>0.777528</td>\n",
       "      <td>0.942152</td>\n",
       "      <td>0.953748</td>\n",
       "      <td>0.974699</td>\n",
       "      <td>0.698529</td>\n",
       "      <td>...</td>\n",
       "      <td>0.912945</td>\n",
       "      <td>0.920304</td>\n",
       "      <td>1.000000</td>\n",
       "      <td>0.019650</td>\n",
       "      <td>0.243061</td>\n",
       "      <td>NaN</td>\n",
       "      <td>1.000000</td>\n",
       "      <td>1.000000</td>\n",
       "      <td>0.000000</td>\n",
       "      <td>NaN</td>\n",
       "    </tr>\n",
       "    <tr>\n",
       "      <th>250</th>\n",
       "      <td>CHN</td>\n",
       "      <td>2019</td>\n",
       "      <td>0.97006</td>\n",
       "      <td>0.000000</td>\n",
       "      <td>0.000000</td>\n",
       "      <td>0.676405</td>\n",
       "      <td>1.000000</td>\n",
       "      <td>1.000000</td>\n",
       "      <td>0.964730</td>\n",
       "      <td>0.742647</td>\n",
       "      <td>...</td>\n",
       "      <td>0.956910</td>\n",
       "      <td>0.920304</td>\n",
       "      <td>1.000000</td>\n",
       "      <td>0.009383</td>\n",
       "      <td>0.243061</td>\n",
       "      <td>NaN</td>\n",
       "      <td>1.000000</td>\n",
       "      <td>1.000000</td>\n",
       "      <td>0.000000</td>\n",
       "      <td>NaN</td>\n",
       "    </tr>\n",
       "    <tr>\n",
       "      <th>251</th>\n",
       "      <td>CHN</td>\n",
       "      <td>2020</td>\n",
       "      <td>0.97006</td>\n",
       "      <td>0.000000</td>\n",
       "      <td>0.000000</td>\n",
       "      <td>0.676405</td>\n",
       "      <td>1.000000</td>\n",
       "      <td>0.957514</td>\n",
       "      <td>1.000000</td>\n",
       "      <td>0.772059</td>\n",
       "      <td>...</td>\n",
       "      <td>1.000000</td>\n",
       "      <td>0.920304</td>\n",
       "      <td>1.000000</td>\n",
       "      <td>0.000000</td>\n",
       "      <td>0.243061</td>\n",
       "      <td>NaN</td>\n",
       "      <td>1.000000</td>\n",
       "      <td>1.000000</td>\n",
       "      <td>0.000000</td>\n",
       "      <td>NaN</td>\n",
       "    </tr>\n",
       "  </tbody>\n",
       "</table>\n",
       "<p>1509 rows × 22 columns</p>\n",
       "</div>"
      ],
      "text/plain": [
       "Indicator Country  Year  Alcohol per capita  Education GExp  \\\n",
       "347           DEU  1990             1.00000        0.443529   \n",
       "348           DEU  1991             1.00000        0.443529   \n",
       "349           DEU  1992             1.00000        0.443529   \n",
       "350           DEU  1993             1.00000        0.443529   \n",
       "351           DEU  1994             1.00000        0.380220   \n",
       "..            ...   ...                 ...             ...   \n",
       "247           CHN  2016             0.99002        0.246406   \n",
       "248           CHN  2017             0.98004        0.212024   \n",
       "249           CHN  2018             0.97006        0.000000   \n",
       "250           CHN  2019             0.97006        0.000000   \n",
       "251           CHN  2020             0.97006        0.000000   \n",
       "\n",
       "Indicator  Employment-agriculture  Employment-industry  Employment-services  \\\n",
       "347                      1.000000             1.000000             0.000000   \n",
       "348                      1.000000             1.000000             0.000000   \n",
       "349                      0.964758             0.966793             0.034321   \n",
       "350                      0.942731             0.907021             0.088143   \n",
       "351                      0.903084             0.876660             0.119345   \n",
       "..                            ...                  ...                  ...   \n",
       "247                      0.068956             0.831461             0.867725   \n",
       "248                      0.048007             0.753933             0.917460   \n",
       "249                      0.021530             0.777528             0.942152   \n",
       "250                      0.000000             0.676405             1.000000   \n",
       "251                      0.000000             0.676405             1.000000   \n",
       "\n",
       "Indicator  Exports-Commercial services  Exports-G&S  Fertility rate  ...  \\\n",
       "347                           0.002386     0.000000        0.636364  ...   \n",
       "348                           0.000000     0.025535        0.272727  ...   \n",
       "349                           0.018415     0.046400        0.151515  ...   \n",
       "350                           0.012182     0.010957        0.121212  ...   \n",
       "351                           0.018513     0.041261        0.000000  ...   \n",
       "..                                 ...          ...             ...  ...   \n",
       "247                           0.849888     0.804316        0.588235  ...   \n",
       "248                           0.867490     0.888169        0.647059  ...   \n",
       "249                           0.953748     0.974699        0.698529  ...   \n",
       "250                           1.000000     0.964730        0.742647  ...   \n",
       "251                           0.957514     1.000000        0.772059  ...   \n",
       "\n",
       "Indicator  Health services use  International taxes  Literacy rate  \\\n",
       "347                   0.000000                  NaN            NaN   \n",
       "348                   0.000000                  NaN            NaN   \n",
       "349                   0.000000                  NaN            NaN   \n",
       "350                   0.000000                  NaN            NaN   \n",
       "351                   0.000000                  NaN            NaN   \n",
       "..                         ...                  ...            ...   \n",
       "247                   0.822241             0.790308       0.977482   \n",
       "248                   0.868064             1.000000       0.988741   \n",
       "249                   0.912945             0.920304       1.000000   \n",
       "250                   0.956910             0.920304       1.000000   \n",
       "251                   1.000000             0.920304       1.000000   \n",
       "\n",
       "Indicator  Mortality-infants  Net migration    Ninis  R&D GExp  \\\n",
       "347                 1.000000       0.966124  0.77758  0.000000   \n",
       "348                 1.000000       0.966124  0.77758  0.000000   \n",
       "349                 0.875324       0.966124  0.77758  0.000000   \n",
       "350                 0.765220       0.823187  0.77758  0.000000   \n",
       "351                 0.670984       0.680250  0.77758  0.000000   \n",
       "..                       ...            ...      ...       ...   \n",
       "247                 0.042573       0.264203      NaN  0.974482   \n",
       "248                 0.030745       0.243061      NaN  0.984436   \n",
       "249                 0.019650       0.243061      NaN  1.000000   \n",
       "250                 0.009383       0.243061      NaN  1.000000   \n",
       "251                 0.000000       0.243061      NaN  1.000000   \n",
       "\n",
       "Indicator  Renewable electricity   Suicide  Workers high education  \n",
       "347                     0.000000  0.956522                     1.0  \n",
       "348                     0.002525  0.956522                     1.0  \n",
       "349                     0.004025  0.956522                     1.0  \n",
       "350                     0.005848  0.956522                     1.0  \n",
       "351                     0.011012  0.956522                     1.0  \n",
       "..                           ...       ...                     ...  \n",
       "247                     1.000000  0.016129                     NaN  \n",
       "248                     1.000000  0.000000                     NaN  \n",
       "249                     1.000000  0.000000                     NaN  \n",
       "250                     1.000000  0.000000                     NaN  \n",
       "251                     1.000000  0.000000                     NaN  \n",
       "\n",
       "[1509 rows x 22 columns]"
      ]
     },
     "execution_count": 77,
     "metadata": {},
     "output_type": "execute_result"
    }
   ],
   "source": [
    "for i in range(0, len(col_to_scale)):\n",
    "    if data[col_to_scale[i]].isna().sum()>1000:\n",
    "        del(data[col_to_scale[i]])\n",
    "        print(col_to_scale[i])\n",
    "data"
   ]
  },
  {
   "cell_type": "markdown",
   "metadata": {},
   "source": [
    "As a result we have dropped the *Gender equality* and *Mortality-pollution* variables."
   ]
  },
  {
   "cell_type": "markdown",
   "metadata": {},
   "source": [
    "For the next part of analyzing this data, we think it is gonna be interesting to have it classify by the categories of the Country groups defined before, to which we call \"Continent\". This category is useful as it groups the nations with similar economies or geographical proximity, so we can extract common conclusions from them."
   ]
  },
  {
   "cell_type": "markdown",
   "metadata": {},
   "source": [
    "We create a dictionary with the regions and the countries included in each one. Where we will relate the countries and regions so then we can apply the .map function and arrive to the final dataframe."
   ]
  },
  {
   "cell_type": "code",
   "execution_count": 78,
   "metadata": {},
   "outputs": [
    {
     "name": "stdout",
     "output_type": "stream",
     "text": [
      "{'DEU': 'Europe', 'FRA': 'Europe', 'SWE': 'Europe', 'GBR': 'Europe', 'ESP': 'Europe', 'HRV': 'Europe', 'POL': 'Europe', 'GRC': 'Europe', 'AUT': 'Europe', 'NLD': 'Europe', 'IRQ': 'Persian Gulf', 'QAT': 'Persian Gulf', 'ARE': 'Persian Gulf', 'SAU': 'Persian Gulf', 'AZE': 'Persian Gulf', 'YEM': 'Persian Gulf', 'YDR': 'Persian Gulf', 'OMN': 'Persian Gulf', 'DZA': 'North Africa', 'EGY': 'North Africa', 'LBY': 'North Africa', 'ISR': 'North Africa', 'TUR': 'North Africa', 'MAR': 'North Africa', 'SEN': 'South Africa', 'ZAF': 'South Africa', 'LBR': 'South Africa', 'MOZ': 'South Africa', 'CMR': 'South Africa', 'NGA': 'South Africa', 'GHA': 'South Africa', 'BGD': 'Asia', 'IND': 'Asia', 'VNM': 'Asia', 'THA': 'Asia', 'IDN': 'Asia', 'PHL': 'Asia', 'KOR': 'Asia', 'MEX': 'Latam', 'BRA': 'Latam', 'ARG': 'Latam', 'PER': 'Latam', 'VEN': 'Latam', 'COL': 'Latam', 'CHL': 'Latam', 'PAN': 'Latam', 'CRI': 'Latam', 'USA': 'Pair', 'CHN': 'Pair'}\n"
     ]
    }
   ],
   "source": [
    "countries_by_region = {\n",
    "    \"Europe\": ('DEU','FRA','SWE','GBR','ESP','HRV','POL','GRC','AUT','NLD'),\n",
    "    'Persian Gulf': ('IRQ','QAT','ARE','SAU','AZE','YEM','YDR','OMN'),\n",
    "    'North Africa':('DZA','EGY','LBY','ISR','TUR','MAR'),\n",
    "    'South Africa':('SEN','ZAF','LBR','MOZ','CMR','NGA','GHA'),\n",
    "    'Asia':('BGD','IND','VNM','THA','IDN','PHL','KOR'),\n",
    "    'Latam':('MEX','BRA','ARG','PER','VEN','COL','CHL','PAN','CRI'),\n",
    "    'Pair':('USA','CHN')\n",
    "    }\n",
    "\n",
    "all_countries = {}\n",
    "for region in countries_by_region.keys():\n",
    "  for country in countries_by_region[region]:\n",
    "    all_countries[country] = region\n",
    "\n",
    "print(all_countries)"
   ]
  },
  {
   "cell_type": "code",
   "execution_count": 79,
   "metadata": {},
   "outputs": [
    {
     "data": {
      "text/html": [
       "<div>\n",
       "<style scoped>\n",
       "    .dataframe tbody tr th:only-of-type {\n",
       "        vertical-align: middle;\n",
       "    }\n",
       "\n",
       "    .dataframe tbody tr th {\n",
       "        vertical-align: top;\n",
       "    }\n",
       "\n",
       "    .dataframe thead th {\n",
       "        text-align: right;\n",
       "    }\n",
       "</style>\n",
       "<table border=\"1\" class=\"dataframe\">\n",
       "  <thead>\n",
       "    <tr style=\"text-align: right;\">\n",
       "      <th>Indicator</th>\n",
       "      <th>Country</th>\n",
       "      <th>Year</th>\n",
       "      <th>Alcohol per capita</th>\n",
       "      <th>Education GExp</th>\n",
       "      <th>Employment-agriculture</th>\n",
       "      <th>Employment-industry</th>\n",
       "      <th>Employment-services</th>\n",
       "      <th>Exports-Commercial services</th>\n",
       "      <th>Exports-G&amp;S</th>\n",
       "      <th>Fertility rate</th>\n",
       "      <th>...</th>\n",
       "      <th>International taxes</th>\n",
       "      <th>Literacy rate</th>\n",
       "      <th>Mortality-infants</th>\n",
       "      <th>Net migration</th>\n",
       "      <th>Ninis</th>\n",
       "      <th>R&amp;D GExp</th>\n",
       "      <th>Renewable electricity</th>\n",
       "      <th>Suicide</th>\n",
       "      <th>Workers high education</th>\n",
       "      <th>Continent</th>\n",
       "    </tr>\n",
       "  </thead>\n",
       "  <tbody>\n",
       "    <tr>\n",
       "      <th>347</th>\n",
       "      <td>DEU</td>\n",
       "      <td>1990</td>\n",
       "      <td>1.00000</td>\n",
       "      <td>0.443529</td>\n",
       "      <td>1.000000</td>\n",
       "      <td>1.000000</td>\n",
       "      <td>0.000000</td>\n",
       "      <td>0.002386</td>\n",
       "      <td>0.000000</td>\n",
       "      <td>0.636364</td>\n",
       "      <td>...</td>\n",
       "      <td>NaN</td>\n",
       "      <td>NaN</td>\n",
       "      <td>1.000000</td>\n",
       "      <td>0.966124</td>\n",
       "      <td>0.77758</td>\n",
       "      <td>0.000000</td>\n",
       "      <td>0.000000</td>\n",
       "      <td>0.956522</td>\n",
       "      <td>1.0</td>\n",
       "      <td>Europe</td>\n",
       "    </tr>\n",
       "    <tr>\n",
       "      <th>348</th>\n",
       "      <td>DEU</td>\n",
       "      <td>1991</td>\n",
       "      <td>1.00000</td>\n",
       "      <td>0.443529</td>\n",
       "      <td>1.000000</td>\n",
       "      <td>1.000000</td>\n",
       "      <td>0.000000</td>\n",
       "      <td>0.000000</td>\n",
       "      <td>0.025535</td>\n",
       "      <td>0.272727</td>\n",
       "      <td>...</td>\n",
       "      <td>NaN</td>\n",
       "      <td>NaN</td>\n",
       "      <td>1.000000</td>\n",
       "      <td>0.966124</td>\n",
       "      <td>0.77758</td>\n",
       "      <td>0.000000</td>\n",
       "      <td>0.002525</td>\n",
       "      <td>0.956522</td>\n",
       "      <td>1.0</td>\n",
       "      <td>Europe</td>\n",
       "    </tr>\n",
       "    <tr>\n",
       "      <th>349</th>\n",
       "      <td>DEU</td>\n",
       "      <td>1992</td>\n",
       "      <td>1.00000</td>\n",
       "      <td>0.443529</td>\n",
       "      <td>0.964758</td>\n",
       "      <td>0.966793</td>\n",
       "      <td>0.034321</td>\n",
       "      <td>0.018415</td>\n",
       "      <td>0.046400</td>\n",
       "      <td>0.151515</td>\n",
       "      <td>...</td>\n",
       "      <td>NaN</td>\n",
       "      <td>NaN</td>\n",
       "      <td>0.875324</td>\n",
       "      <td>0.966124</td>\n",
       "      <td>0.77758</td>\n",
       "      <td>0.000000</td>\n",
       "      <td>0.004025</td>\n",
       "      <td>0.956522</td>\n",
       "      <td>1.0</td>\n",
       "      <td>Europe</td>\n",
       "    </tr>\n",
       "    <tr>\n",
       "      <th>350</th>\n",
       "      <td>DEU</td>\n",
       "      <td>1993</td>\n",
       "      <td>1.00000</td>\n",
       "      <td>0.443529</td>\n",
       "      <td>0.942731</td>\n",
       "      <td>0.907021</td>\n",
       "      <td>0.088143</td>\n",
       "      <td>0.012182</td>\n",
       "      <td>0.010957</td>\n",
       "      <td>0.121212</td>\n",
       "      <td>...</td>\n",
       "      <td>NaN</td>\n",
       "      <td>NaN</td>\n",
       "      <td>0.765220</td>\n",
       "      <td>0.823187</td>\n",
       "      <td>0.77758</td>\n",
       "      <td>0.000000</td>\n",
       "      <td>0.005848</td>\n",
       "      <td>0.956522</td>\n",
       "      <td>1.0</td>\n",
       "      <td>Europe</td>\n",
       "    </tr>\n",
       "    <tr>\n",
       "      <th>351</th>\n",
       "      <td>DEU</td>\n",
       "      <td>1994</td>\n",
       "      <td>1.00000</td>\n",
       "      <td>0.380220</td>\n",
       "      <td>0.903084</td>\n",
       "      <td>0.876660</td>\n",
       "      <td>0.119345</td>\n",
       "      <td>0.018513</td>\n",
       "      <td>0.041261</td>\n",
       "      <td>0.000000</td>\n",
       "      <td>...</td>\n",
       "      <td>NaN</td>\n",
       "      <td>NaN</td>\n",
       "      <td>0.670984</td>\n",
       "      <td>0.680250</td>\n",
       "      <td>0.77758</td>\n",
       "      <td>0.000000</td>\n",
       "      <td>0.011012</td>\n",
       "      <td>0.956522</td>\n",
       "      <td>1.0</td>\n",
       "      <td>Europe</td>\n",
       "    </tr>\n",
       "    <tr>\n",
       "      <th>...</th>\n",
       "      <td>...</td>\n",
       "      <td>...</td>\n",
       "      <td>...</td>\n",
       "      <td>...</td>\n",
       "      <td>...</td>\n",
       "      <td>...</td>\n",
       "      <td>...</td>\n",
       "      <td>...</td>\n",
       "      <td>...</td>\n",
       "      <td>...</td>\n",
       "      <td>...</td>\n",
       "      <td>...</td>\n",
       "      <td>...</td>\n",
       "      <td>...</td>\n",
       "      <td>...</td>\n",
       "      <td>...</td>\n",
       "      <td>...</td>\n",
       "      <td>...</td>\n",
       "      <td>...</td>\n",
       "      <td>...</td>\n",
       "      <td>...</td>\n",
       "    </tr>\n",
       "    <tr>\n",
       "      <th>247</th>\n",
       "      <td>CHN</td>\n",
       "      <td>2016</td>\n",
       "      <td>0.99002</td>\n",
       "      <td>0.246406</td>\n",
       "      <td>0.068956</td>\n",
       "      <td>0.831461</td>\n",
       "      <td>0.867725</td>\n",
       "      <td>0.849888</td>\n",
       "      <td>0.804316</td>\n",
       "      <td>0.588235</td>\n",
       "      <td>...</td>\n",
       "      <td>0.790308</td>\n",
       "      <td>0.977482</td>\n",
       "      <td>0.042573</td>\n",
       "      <td>0.264203</td>\n",
       "      <td>NaN</td>\n",
       "      <td>0.974482</td>\n",
       "      <td>1.000000</td>\n",
       "      <td>0.016129</td>\n",
       "      <td>NaN</td>\n",
       "      <td>Pair</td>\n",
       "    </tr>\n",
       "    <tr>\n",
       "      <th>248</th>\n",
       "      <td>CHN</td>\n",
       "      <td>2017</td>\n",
       "      <td>0.98004</td>\n",
       "      <td>0.212024</td>\n",
       "      <td>0.048007</td>\n",
       "      <td>0.753933</td>\n",
       "      <td>0.917460</td>\n",
       "      <td>0.867490</td>\n",
       "      <td>0.888169</td>\n",
       "      <td>0.647059</td>\n",
       "      <td>...</td>\n",
       "      <td>1.000000</td>\n",
       "      <td>0.988741</td>\n",
       "      <td>0.030745</td>\n",
       "      <td>0.243061</td>\n",
       "      <td>NaN</td>\n",
       "      <td>0.984436</td>\n",
       "      <td>1.000000</td>\n",
       "      <td>0.000000</td>\n",
       "      <td>NaN</td>\n",
       "      <td>Pair</td>\n",
       "    </tr>\n",
       "    <tr>\n",
       "      <th>249</th>\n",
       "      <td>CHN</td>\n",
       "      <td>2018</td>\n",
       "      <td>0.97006</td>\n",
       "      <td>0.000000</td>\n",
       "      <td>0.021530</td>\n",
       "      <td>0.777528</td>\n",
       "      <td>0.942152</td>\n",
       "      <td>0.953748</td>\n",
       "      <td>0.974699</td>\n",
       "      <td>0.698529</td>\n",
       "      <td>...</td>\n",
       "      <td>0.920304</td>\n",
       "      <td>1.000000</td>\n",
       "      <td>0.019650</td>\n",
       "      <td>0.243061</td>\n",
       "      <td>NaN</td>\n",
       "      <td>1.000000</td>\n",
       "      <td>1.000000</td>\n",
       "      <td>0.000000</td>\n",
       "      <td>NaN</td>\n",
       "      <td>Pair</td>\n",
       "    </tr>\n",
       "    <tr>\n",
       "      <th>250</th>\n",
       "      <td>CHN</td>\n",
       "      <td>2019</td>\n",
       "      <td>0.97006</td>\n",
       "      <td>0.000000</td>\n",
       "      <td>0.000000</td>\n",
       "      <td>0.676405</td>\n",
       "      <td>1.000000</td>\n",
       "      <td>1.000000</td>\n",
       "      <td>0.964730</td>\n",
       "      <td>0.742647</td>\n",
       "      <td>...</td>\n",
       "      <td>0.920304</td>\n",
       "      <td>1.000000</td>\n",
       "      <td>0.009383</td>\n",
       "      <td>0.243061</td>\n",
       "      <td>NaN</td>\n",
       "      <td>1.000000</td>\n",
       "      <td>1.000000</td>\n",
       "      <td>0.000000</td>\n",
       "      <td>NaN</td>\n",
       "      <td>Pair</td>\n",
       "    </tr>\n",
       "    <tr>\n",
       "      <th>251</th>\n",
       "      <td>CHN</td>\n",
       "      <td>2020</td>\n",
       "      <td>0.97006</td>\n",
       "      <td>0.000000</td>\n",
       "      <td>0.000000</td>\n",
       "      <td>0.676405</td>\n",
       "      <td>1.000000</td>\n",
       "      <td>0.957514</td>\n",
       "      <td>1.000000</td>\n",
       "      <td>0.772059</td>\n",
       "      <td>...</td>\n",
       "      <td>0.920304</td>\n",
       "      <td>1.000000</td>\n",
       "      <td>0.000000</td>\n",
       "      <td>0.243061</td>\n",
       "      <td>NaN</td>\n",
       "      <td>1.000000</td>\n",
       "      <td>1.000000</td>\n",
       "      <td>0.000000</td>\n",
       "      <td>NaN</td>\n",
       "      <td>Pair</td>\n",
       "    </tr>\n",
       "  </tbody>\n",
       "</table>\n",
       "<p>1509 rows × 23 columns</p>\n",
       "</div>"
      ],
      "text/plain": [
       "Indicator Country  Year  Alcohol per capita  Education GExp  \\\n",
       "347           DEU  1990             1.00000        0.443529   \n",
       "348           DEU  1991             1.00000        0.443529   \n",
       "349           DEU  1992             1.00000        0.443529   \n",
       "350           DEU  1993             1.00000        0.443529   \n",
       "351           DEU  1994             1.00000        0.380220   \n",
       "..            ...   ...                 ...             ...   \n",
       "247           CHN  2016             0.99002        0.246406   \n",
       "248           CHN  2017             0.98004        0.212024   \n",
       "249           CHN  2018             0.97006        0.000000   \n",
       "250           CHN  2019             0.97006        0.000000   \n",
       "251           CHN  2020             0.97006        0.000000   \n",
       "\n",
       "Indicator  Employment-agriculture  Employment-industry  Employment-services  \\\n",
       "347                      1.000000             1.000000             0.000000   \n",
       "348                      1.000000             1.000000             0.000000   \n",
       "349                      0.964758             0.966793             0.034321   \n",
       "350                      0.942731             0.907021             0.088143   \n",
       "351                      0.903084             0.876660             0.119345   \n",
       "..                            ...                  ...                  ...   \n",
       "247                      0.068956             0.831461             0.867725   \n",
       "248                      0.048007             0.753933             0.917460   \n",
       "249                      0.021530             0.777528             0.942152   \n",
       "250                      0.000000             0.676405             1.000000   \n",
       "251                      0.000000             0.676405             1.000000   \n",
       "\n",
       "Indicator  Exports-Commercial services  Exports-G&S  Fertility rate  ...  \\\n",
       "347                           0.002386     0.000000        0.636364  ...   \n",
       "348                           0.000000     0.025535        0.272727  ...   \n",
       "349                           0.018415     0.046400        0.151515  ...   \n",
       "350                           0.012182     0.010957        0.121212  ...   \n",
       "351                           0.018513     0.041261        0.000000  ...   \n",
       "..                                 ...          ...             ...  ...   \n",
       "247                           0.849888     0.804316        0.588235  ...   \n",
       "248                           0.867490     0.888169        0.647059  ...   \n",
       "249                           0.953748     0.974699        0.698529  ...   \n",
       "250                           1.000000     0.964730        0.742647  ...   \n",
       "251                           0.957514     1.000000        0.772059  ...   \n",
       "\n",
       "Indicator  International taxes  Literacy rate  Mortality-infants  \\\n",
       "347                        NaN            NaN           1.000000   \n",
       "348                        NaN            NaN           1.000000   \n",
       "349                        NaN            NaN           0.875324   \n",
       "350                        NaN            NaN           0.765220   \n",
       "351                        NaN            NaN           0.670984   \n",
       "..                         ...            ...                ...   \n",
       "247                   0.790308       0.977482           0.042573   \n",
       "248                   1.000000       0.988741           0.030745   \n",
       "249                   0.920304       1.000000           0.019650   \n",
       "250                   0.920304       1.000000           0.009383   \n",
       "251                   0.920304       1.000000           0.000000   \n",
       "\n",
       "Indicator  Net migration    Ninis  R&D GExp  Renewable electricity   Suicide  \\\n",
       "347             0.966124  0.77758  0.000000               0.000000  0.956522   \n",
       "348             0.966124  0.77758  0.000000               0.002525  0.956522   \n",
       "349             0.966124  0.77758  0.000000               0.004025  0.956522   \n",
       "350             0.823187  0.77758  0.000000               0.005848  0.956522   \n",
       "351             0.680250  0.77758  0.000000               0.011012  0.956522   \n",
       "..                   ...      ...       ...                    ...       ...   \n",
       "247             0.264203      NaN  0.974482               1.000000  0.016129   \n",
       "248             0.243061      NaN  0.984436               1.000000  0.000000   \n",
       "249             0.243061      NaN  1.000000               1.000000  0.000000   \n",
       "250             0.243061      NaN  1.000000               1.000000  0.000000   \n",
       "251             0.243061      NaN  1.000000               1.000000  0.000000   \n",
       "\n",
       "Indicator  Workers high education  Continent  \n",
       "347                           1.0     Europe  \n",
       "348                           1.0     Europe  \n",
       "349                           1.0     Europe  \n",
       "350                           1.0     Europe  \n",
       "351                           1.0     Europe  \n",
       "..                            ...        ...  \n",
       "247                           NaN       Pair  \n",
       "248                           NaN       Pair  \n",
       "249                           NaN       Pair  \n",
       "250                           NaN       Pair  \n",
       "251                           NaN       Pair  \n",
       "\n",
       "[1509 rows x 23 columns]"
      ]
     },
     "execution_count": 79,
     "metadata": {},
     "output_type": "execute_result"
    }
   ],
   "source": [
    "data['Continent']=data['Country'].map(all_countries)\n",
    "Goldendataframe=data\n",
    "Goldendataframe"
   ]
  },
  {
   "cell_type": "markdown",
   "metadata": {},
   "source": [
    "With that all, we export our dataframe all-in-one and by the continent category."
   ]
  },
  {
   "cell_type": "code",
   "execution_count": 35,
   "metadata": {},
   "outputs": [],
   "source": [
    "Goldendataframe.to_csv(os.getcwd()+'/Data/GoldenDataFrame.csv')"
   ]
  },
  {
   "cell_type": "code",
   "execution_count": 36,
   "metadata": {},
   "outputs": [],
   "source": [
    "for region, data in Goldendataframe.groupby('Continent'):\n",
    "   data.to_csv(os.getcwd()+'/Data/{}.csv'.format(region))"
   ]
  },
  {
   "cell_type": "code",
   "execution_count": 39,
   "metadata": {},
   "outputs": [],
   "source": [
    "columns=['Country','Year','Exports-Commercial services','Renewable electricity','Employment-agriculture','Employment-industry','Employment-services','Exports-G&S','Fertility rate','Foreign investment','GDP','Education GExp','Workers high education','Literacy rate','Net migration','Mortality-infants','Health services use','R&D GExp','Ninis','Suicide','International taxes','Alcohol per capita']\n",
    "clist=df['Country'].unique()"
   ]
  },
  {
   "cell_type": "markdown",
   "metadata": {},
   "source": [
    "In the following cell, we have defined a function that will allow us to calculate the different posibilities of relations: cuadratic, cubic and logaritmic."
   ]
  },
  {
   "cell_type": "code",
   "execution_count": 40,
   "metadata": {},
   "outputs": [],
   "source": [
    "def multcolumn(frame):\n",
    "    for u in range(3, len(columns)):\n",
    "        name2=columns[u]+'.^2'\n",
    "        name3=columns[u]+'.^3'\n",
    "        namelog=columns[u]+'.log'\n",
    "        frame.loc[:,name2] = frame[columns[u]]**2\n",
    "        frame.loc[:,name3] = frame[columns[u]]**3\n",
    "        frame.loc[:,namelog] = np.log(frame[columns[u]])"
   ]
  },
  {
   "cell_type": "markdown",
   "metadata": {},
   "source": [
    "Moreover, we want to know the correlation between all the variables, so to acomplish this, we have created the following loop, which will help us create a new dataframe where we will have: the indicator, the type of relation, the value of the R^2, its behaviour, the country and the continent."
   ]
  },
  {
   "cell_type": "code",
   "execution_count": 80,
   "metadata": {},
   "outputs": [
    {
     "data": {
      "text/html": [
       "<div>\n",
       "<style scoped>\n",
       "    .dataframe tbody tr th:only-of-type {\n",
       "        vertical-align: middle;\n",
       "    }\n",
       "\n",
       "    .dataframe tbody tr th {\n",
       "        vertical-align: top;\n",
       "    }\n",
       "\n",
       "    .dataframe thead th {\n",
       "        text-align: right;\n",
       "    }\n",
       "</style>\n",
       "<table border=\"1\" class=\"dataframe\">\n",
       "  <thead>\n",
       "    <tr style=\"text-align: right;\">\n",
       "      <th></th>\n",
       "      <th>Indicator</th>\n",
       "      <th>Type</th>\n",
       "      <th>GDP-R^2</th>\n",
       "      <th>Behaviour</th>\n",
       "      <th>Country</th>\n",
       "      <th>Continent</th>\n",
       "    </tr>\n",
       "  </thead>\n",
       "  <tbody>\n",
       "    <tr>\n",
       "      <th>3</th>\n",
       "      <td>Employment-agriculture</td>\n",
       "      <td>None</td>\n",
       "      <td>0.965825</td>\n",
       "      <td>Negative</td>\n",
       "      <td>ARE</td>\n",
       "      <td>Persian Gulf</td>\n",
       "    </tr>\n",
       "    <tr>\n",
       "      <th>5</th>\n",
       "      <td>Exports-G&amp;S</td>\n",
       "      <td>None</td>\n",
       "      <td>0.963959</td>\n",
       "      <td>Positive</td>\n",
       "      <td>ARE</td>\n",
       "      <td>Persian Gulf</td>\n",
       "    </tr>\n",
       "    <tr>\n",
       "      <th>4</th>\n",
       "      <td>Employment-services</td>\n",
       "      <td>None</td>\n",
       "      <td>0.887915</td>\n",
       "      <td>Positive</td>\n",
       "      <td>ARE</td>\n",
       "      <td>Persian Gulf</td>\n",
       "    </tr>\n",
       "    <tr>\n",
       "      <th>9</th>\n",
       "      <td>Fertility rate</td>\n",
       "      <td>Logarithmic</td>\n",
       "      <td>0.830287</td>\n",
       "      <td>Negative</td>\n",
       "      <td>ARE</td>\n",
       "      <td>Persian Gulf</td>\n",
       "    </tr>\n",
       "    <tr>\n",
       "      <th>8</th>\n",
       "      <td>Literacy rate</td>\n",
       "      <td>None</td>\n",
       "      <td>0.814953</td>\n",
       "      <td>Positive</td>\n",
       "      <td>ARE</td>\n",
       "      <td>Persian Gulf</td>\n",
       "    </tr>\n",
       "    <tr>\n",
       "      <th>...</th>\n",
       "      <td>...</td>\n",
       "      <td>...</td>\n",
       "      <td>...</td>\n",
       "      <td>...</td>\n",
       "      <td>...</td>\n",
       "      <td>...</td>\n",
       "    </tr>\n",
       "    <tr>\n",
       "      <th>2</th>\n",
       "      <td>Employment-agriculture</td>\n",
       "      <td>None</td>\n",
       "      <td>0.898402</td>\n",
       "      <td>Negative</td>\n",
       "      <td>ZAF</td>\n",
       "      <td>South Africa</td>\n",
       "    </tr>\n",
       "    <tr>\n",
       "      <th>3</th>\n",
       "      <td>Employment-services</td>\n",
       "      <td>None</td>\n",
       "      <td>0.887197</td>\n",
       "      <td>Positive</td>\n",
       "      <td>ZAF</td>\n",
       "      <td>South Africa</td>\n",
       "    </tr>\n",
       "    <tr>\n",
       "      <th>8</th>\n",
       "      <td>Employment-industry</td>\n",
       "      <td>Cuadratic</td>\n",
       "      <td>0.845523</td>\n",
       "      <td>Negative</td>\n",
       "      <td>ZAF</td>\n",
       "      <td>South Africa</td>\n",
       "    </tr>\n",
       "    <tr>\n",
       "      <th>9</th>\n",
       "      <td>Education GExp</td>\n",
       "      <td>Cubic</td>\n",
       "      <td>0.791025</td>\n",
       "      <td>Negative</td>\n",
       "      <td>ZAF</td>\n",
       "      <td>South Africa</td>\n",
       "    </tr>\n",
       "    <tr>\n",
       "      <th>7</th>\n",
       "      <td>Health services use</td>\n",
       "      <td>None</td>\n",
       "      <td>0.754409</td>\n",
       "      <td>Positive</td>\n",
       "      <td>ZAF</td>\n",
       "      <td>South Africa</td>\n",
       "    </tr>\n",
       "  </tbody>\n",
       "</table>\n",
       "<p>444 rows × 6 columns</p>\n",
       "</div>"
      ],
      "text/plain": [
       "                 Indicator         Type   GDP-R^2 Behaviour Country  \\\n",
       "3   Employment-agriculture         None  0.965825  Negative     ARE   \n",
       "5              Exports-G&S         None  0.963959  Positive     ARE   \n",
       "4      Employment-services         None  0.887915  Positive     ARE   \n",
       "9           Fertility rate  Logarithmic  0.830287  Negative     ARE   \n",
       "8            Literacy rate         None  0.814953  Positive     ARE   \n",
       "..                     ...          ...       ...       ...     ...   \n",
       "2   Employment-agriculture         None  0.898402  Negative     ZAF   \n",
       "3      Employment-services         None  0.887197  Positive     ZAF   \n",
       "8      Employment-industry    Cuadratic  0.845523  Negative     ZAF   \n",
       "9           Education GExp        Cubic  0.791025  Negative     ZAF   \n",
       "7      Health services use         None  0.754409  Positive     ZAF   \n",
       "\n",
       "       Continent  \n",
       "3   Persian Gulf  \n",
       "5   Persian Gulf  \n",
       "4   Persian Gulf  \n",
       "9   Persian Gulf  \n",
       "8   Persian Gulf  \n",
       "..           ...  \n",
       "2   South Africa  \n",
       "3   South Africa  \n",
       "8   South Africa  \n",
       "9   South Africa  \n",
       "7   South Africa  \n",
       "\n",
       "[444 rows x 6 columns]"
      ]
     },
     "execution_count": 80,
     "metadata": {},
     "output_type": "execute_result"
    }
   ],
   "source": [
    "df= pd.read_csv (os.getcwd()+'/Data/'+'GoldenDataFrame.csv')\n",
    "multcolumn(df)\n",
    "demo2=pd.DataFrame()\n",
    "for i in range(0,len(clist)):\n",
    "    dat=df.loc[df.loc[:, 'Country'] == clist[i]]\n",
    "    cor=dat.corr()    \n",
    "    cor.loc[:,'GDP-R^2'] = cor['GDP']**2\n",
    "    cor.loc[:,'Indicator']=cor.index\n",
    "    cor[['Indicator','Type']]=cor.Indicator.str.split('.',expand=True)  \n",
    "    corcolumn=cor[['Indicator','Type','GDP-R^2','GDP']]\n",
    "    corcolumn=corcolumn.loc[corcolumn.loc[:, 'GDP-R^2'] >= 0.75]\n",
    "    id=corcolumn.groupby('Indicator')['GDP-R^2'].transform(max)==corcolumn['GDP-R^2']\n",
    "    corcolumn[id]\n",
    "    max_df=pd.DataFrame(corcolumn[id])\n",
    "    max_df['Behaviour']=np.where(max_df['GDP']>0, 'Positive', 'Negative')\n",
    "    max_df['Type']=max_df['Type'].replace(['^2','^3','log'],['Cuadratic','Cubic','Logarithmic'])\n",
    "    max_df['Country']= clist[i]\n",
    "    max_df.drop(\"GDP\",axis=1,inplace=True)\n",
    "    max_df=max_df.reset_index(drop=True)\n",
    "    max_df = max_df.drop(max_df[max_df['Indicator']=='Year'].index)\n",
    "    max_df = max_df.drop(max_df[max_df['Indicator']=='GDP'].index)\n",
    "    max_df = max_df.drop(max_df[max_df['Indicator']=='Unnamed: 0'].index)\n",
    "    max_df=max_df.sort_values(by = 'GDP-R^2',ascending = False)\n",
    "    demo2=pd.concat((demo2, max_df), axis = 0)\n",
    "demo2['Continent']=demo2['Country'].map(all_countries)\n",
    "demo2"
   ]
  },
  {
   "cell_type": "markdown",
   "metadata": {},
   "source": [
    "Now that we’ve loaded the data, we can start right away to create widgets. These widgets are essentials to add interactivity to our visualizations. We’re going to use two widgets: both, multiple selection widgets. To create these widgets, we can use `ipywidgets` library that is available for Jupyter Notebook.\n",
    "\n",
    "The first widget that we are going to create is the multiple selection widget. We can do this by using `SelectMultiple()attribute` from `ipywidgets`. With this widget, we have the option to visualize the R^2 only in particular selection of indicators instead of all.\n",
    "\n",
    "The first argument that we should specify is `options` , which should contain the list of available options of our variable (in our case different indicators). The next one is `value` , which should contain the variable values that we want to display as default, and then `description` is for the text field to describe the name of the widget.The rest of options are just visual details."
   ]
  },
  {
   "cell_type": "code",
   "execution_count": 81,
   "metadata": {},
   "outputs": [
    {
     "data": {
      "application/vnd.jupyter.widget-view+json": {
       "model_id": "d0a31eb460ee4b73b64aa373bab030af",
       "version_major": 2,
       "version_minor": 0
      },
      "text/plain": [
       "interactive(children=(SelectMultiple(description='Indicator', index=(1,), layout=Layout(height='80px', width='…"
      ]
     },
     "metadata": {},
     "output_type": "display_data"
    },
    {
     "data": {
      "application/vnd.plotly.v1+json": {
       "config": {
        "plotlyServerURL": "https://plot.ly"
       },
       "data": [
        {
         "coloraxis": "coloraxis",
         "customdata": [
          [
           null,
           "Positive"
          ],
          [
           null,
           "Positive"
          ],
          [
           null,
           "Positive"
          ],
          [
           null,
           "Positive"
          ],
          [
           "Cuadratic",
           "Positive"
          ],
          [
           null,
           "Positive"
          ],
          [
           "Cuadratic",
           "Positive"
          ],
          [
           null,
           "Positive"
          ],
          [
           null,
           "Positive"
          ],
          [
           null,
           "Positive"
          ],
          [
           null,
           "Positive"
          ],
          [
           null,
           "Positive"
          ],
          [
           null,
           "Positive"
          ],
          [
           null,
           "Positive"
          ],
          [
           null,
           "Positive"
          ],
          [
           null,
           "Positive"
          ],
          [
           null,
           "Positive"
          ],
          [
           null,
           "Positive"
          ],
          [
           null,
           "Positive"
          ],
          [
           "Cuadratic",
           "Positive"
          ],
          [
           null,
           "Positive"
          ],
          [
           null,
           "Positive"
          ],
          [
           null,
           "Positive"
          ],
          [
           null,
           "Positive"
          ],
          [
           null,
           "Positive"
          ],
          [
           null,
           "Positive"
          ],
          [
           null,
           "Positive"
          ],
          [
           null,
           "Positive"
          ],
          [
           null,
           "Positive"
          ],
          [
           null,
           "Positive"
          ],
          [
           null,
           "Positive"
          ],
          [
           null,
           "Positive"
          ],
          [
           null,
           "Positive"
          ],
          [
           null,
           "Positive"
          ],
          [
           null,
           "Positive"
          ],
          [
           null,
           "Positive"
          ],
          [
           null,
           "Positive"
          ],
          [
           null,
           "Positive"
          ],
          [
           null,
           "Positive"
          ],
          [
           null,
           "Positive"
          ],
          [
           null,
           "Positive"
          ]
         ],
         "geo": "geo",
         "hovertemplate": "<b>%{hovertext}</b><br><br>Country=%{location}<br>Type=%{customdata[0]}<br>Behaviour=%{customdata[1]}<br>GDP-R^2=%{z}<extra></extra>",
         "hovertext": [
          "ARE",
          "AUT",
          "AZE",
          "BGD",
          "BRA",
          "CHL",
          "CHN",
          "CMR",
          "COL",
          "CRI",
          "DEU",
          "ESP",
          "FRA",
          "GBR",
          "GHA",
          "HRV",
          "IDN",
          "IND",
          "IRQ",
          "ISR",
          "KOR",
          "LBY",
          "MAR",
          "MEX",
          "MOZ",
          "NLD",
          "OMN",
          "PAN",
          "PER",
          "PHL",
          "POL",
          "QAT",
          "SAU",
          "SEN",
          "SWE",
          "THA",
          "TUR",
          "USA",
          "VEN",
          "VNM",
          "ZAF"
         ],
         "locationmode": "ISO-3",
         "locations": [
          "ARE",
          "AUT",
          "AZE",
          "BGD",
          "BRA",
          "CHL",
          "CHN",
          "CMR",
          "COL",
          "CRI",
          "DEU",
          "ESP",
          "FRA",
          "GBR",
          "GHA",
          "HRV",
          "IDN",
          "IND",
          "IRQ",
          "ISR",
          "KOR",
          "LBY",
          "MAR",
          "MEX",
          "MOZ",
          "NLD",
          "OMN",
          "PAN",
          "PER",
          "PHL",
          "POL",
          "QAT",
          "SAU",
          "SEN",
          "SWE",
          "THA",
          "TUR",
          "USA",
          "VEN",
          "VNM",
          "ZAF"
         ],
         "name": "",
         "type": "choropleth",
         "z": [
          0.963959228898083,
          0.9815548322439229,
          0.9448163351979267,
          0.9580068244466282,
          0.9103082296426172,
          0.9187381706336473,
          0.9816065401345386,
          0.8533577839743397,
          0.9646460860986581,
          0.979858690516683,
          0.9549275086975878,
          0.8896193597099896,
          0.9597959560873485,
          0.9615991157049506,
          0.9621004202724875,
          0.9173159879919209,
          0.9221607227308378,
          0.9609762955619326,
          0.8340434734780782,
          0.9874778307869048,
          0.9240288573980191,
          0.891789395879511,
          0.9823598695370912,
          0.9200064331609529,
          0.9053611625071816,
          0.9559419289908181,
          0.9382224731368217,
          0.8316212368989154,
          0.9499862167628553,
          0.9409552672717009,
          0.9408925602809399,
          0.9524834602986512,
          0.8298448185898075,
          0.9832570514426298,
          0.9614287536762283,
          0.954401583743531,
          0.949243785588551,
          0.9298018756712546,
          0.7774845434226739,
          0.9813433533393643,
          0.9766169128199659
         ]
        }
       ],
       "layout": {
        "coloraxis": {
         "colorbar": {
          "title": {
           "text": "GDP-R^2"
          }
         },
         "colorscale": [
          [
           0,
           "rgb(255,245,240)"
          ],
          [
           0.125,
           "rgb(254,224,210)"
          ],
          [
           0.25,
           "rgb(252,187,161)"
          ],
          [
           0.375,
           "rgb(252,146,114)"
          ],
          [
           0.5,
           "rgb(251,106,74)"
          ],
          [
           0.625,
           "rgb(239,59,44)"
          ],
          [
           0.75,
           "rgb(203,24,29)"
          ],
          [
           0.875,
           "rgb(165,15,21)"
          ],
          [
           1,
           "rgb(103,0,13)"
          ]
         ]
        },
        "geo": {
         "center": {},
         "domain": {
          "x": [
           0,
           1
          ],
          "y": [
           0,
           1
          ]
         },
         "projection": {
          "type": "natural earth"
         }
        },
        "height": 500,
        "legend": {
         "tracegroupgap": 0
        },
        "template": {
         "data": {
          "bar": [
           {
            "error_x": {
             "color": "#2a3f5f"
            },
            "error_y": {
             "color": "#2a3f5f"
            },
            "marker": {
             "line": {
              "color": "#E5ECF6",
              "width": 0.5
             },
             "pattern": {
              "fillmode": "overlay",
              "size": 10,
              "solidity": 0.2
             }
            },
            "type": "bar"
           }
          ],
          "barpolar": [
           {
            "marker": {
             "line": {
              "color": "#E5ECF6",
              "width": 0.5
             },
             "pattern": {
              "fillmode": "overlay",
              "size": 10,
              "solidity": 0.2
             }
            },
            "type": "barpolar"
           }
          ],
          "carpet": [
           {
            "aaxis": {
             "endlinecolor": "#2a3f5f",
             "gridcolor": "white",
             "linecolor": "white",
             "minorgridcolor": "white",
             "startlinecolor": "#2a3f5f"
            },
            "baxis": {
             "endlinecolor": "#2a3f5f",
             "gridcolor": "white",
             "linecolor": "white",
             "minorgridcolor": "white",
             "startlinecolor": "#2a3f5f"
            },
            "type": "carpet"
           }
          ],
          "choropleth": [
           {
            "colorbar": {
             "outlinewidth": 0,
             "ticks": ""
            },
            "type": "choropleth"
           }
          ],
          "contour": [
           {
            "colorbar": {
             "outlinewidth": 0,
             "ticks": ""
            },
            "colorscale": [
             [
              0,
              "#0d0887"
             ],
             [
              0.1111111111111111,
              "#46039f"
             ],
             [
              0.2222222222222222,
              "#7201a8"
             ],
             [
              0.3333333333333333,
              "#9c179e"
             ],
             [
              0.4444444444444444,
              "#bd3786"
             ],
             [
              0.5555555555555556,
              "#d8576b"
             ],
             [
              0.6666666666666666,
              "#ed7953"
             ],
             [
              0.7777777777777778,
              "#fb9f3a"
             ],
             [
              0.8888888888888888,
              "#fdca26"
             ],
             [
              1,
              "#f0f921"
             ]
            ],
            "type": "contour"
           }
          ],
          "contourcarpet": [
           {
            "colorbar": {
             "outlinewidth": 0,
             "ticks": ""
            },
            "type": "contourcarpet"
           }
          ],
          "heatmap": [
           {
            "colorbar": {
             "outlinewidth": 0,
             "ticks": ""
            },
            "colorscale": [
             [
              0,
              "#0d0887"
             ],
             [
              0.1111111111111111,
              "#46039f"
             ],
             [
              0.2222222222222222,
              "#7201a8"
             ],
             [
              0.3333333333333333,
              "#9c179e"
             ],
             [
              0.4444444444444444,
              "#bd3786"
             ],
             [
              0.5555555555555556,
              "#d8576b"
             ],
             [
              0.6666666666666666,
              "#ed7953"
             ],
             [
              0.7777777777777778,
              "#fb9f3a"
             ],
             [
              0.8888888888888888,
              "#fdca26"
             ],
             [
              1,
              "#f0f921"
             ]
            ],
            "type": "heatmap"
           }
          ],
          "heatmapgl": [
           {
            "colorbar": {
             "outlinewidth": 0,
             "ticks": ""
            },
            "colorscale": [
             [
              0,
              "#0d0887"
             ],
             [
              0.1111111111111111,
              "#46039f"
             ],
             [
              0.2222222222222222,
              "#7201a8"
             ],
             [
              0.3333333333333333,
              "#9c179e"
             ],
             [
              0.4444444444444444,
              "#bd3786"
             ],
             [
              0.5555555555555556,
              "#d8576b"
             ],
             [
              0.6666666666666666,
              "#ed7953"
             ],
             [
              0.7777777777777778,
              "#fb9f3a"
             ],
             [
              0.8888888888888888,
              "#fdca26"
             ],
             [
              1,
              "#f0f921"
             ]
            ],
            "type": "heatmapgl"
           }
          ],
          "histogram": [
           {
            "marker": {
             "pattern": {
              "fillmode": "overlay",
              "size": 10,
              "solidity": 0.2
             }
            },
            "type": "histogram"
           }
          ],
          "histogram2d": [
           {
            "colorbar": {
             "outlinewidth": 0,
             "ticks": ""
            },
            "colorscale": [
             [
              0,
              "#0d0887"
             ],
             [
              0.1111111111111111,
              "#46039f"
             ],
             [
              0.2222222222222222,
              "#7201a8"
             ],
             [
              0.3333333333333333,
              "#9c179e"
             ],
             [
              0.4444444444444444,
              "#bd3786"
             ],
             [
              0.5555555555555556,
              "#d8576b"
             ],
             [
              0.6666666666666666,
              "#ed7953"
             ],
             [
              0.7777777777777778,
              "#fb9f3a"
             ],
             [
              0.8888888888888888,
              "#fdca26"
             ],
             [
              1,
              "#f0f921"
             ]
            ],
            "type": "histogram2d"
           }
          ],
          "histogram2dcontour": [
           {
            "colorbar": {
             "outlinewidth": 0,
             "ticks": ""
            },
            "colorscale": [
             [
              0,
              "#0d0887"
             ],
             [
              0.1111111111111111,
              "#46039f"
             ],
             [
              0.2222222222222222,
              "#7201a8"
             ],
             [
              0.3333333333333333,
              "#9c179e"
             ],
             [
              0.4444444444444444,
              "#bd3786"
             ],
             [
              0.5555555555555556,
              "#d8576b"
             ],
             [
              0.6666666666666666,
              "#ed7953"
             ],
             [
              0.7777777777777778,
              "#fb9f3a"
             ],
             [
              0.8888888888888888,
              "#fdca26"
             ],
             [
              1,
              "#f0f921"
             ]
            ],
            "type": "histogram2dcontour"
           }
          ],
          "mesh3d": [
           {
            "colorbar": {
             "outlinewidth": 0,
             "ticks": ""
            },
            "type": "mesh3d"
           }
          ],
          "parcoords": [
           {
            "line": {
             "colorbar": {
              "outlinewidth": 0,
              "ticks": ""
             }
            },
            "type": "parcoords"
           }
          ],
          "pie": [
           {
            "automargin": true,
            "type": "pie"
           }
          ],
          "scatter": [
           {
            "fillpattern": {
             "fillmode": "overlay",
             "size": 10,
             "solidity": 0.2
            },
            "type": "scatter"
           }
          ],
          "scatter3d": [
           {
            "line": {
             "colorbar": {
              "outlinewidth": 0,
              "ticks": ""
             }
            },
            "marker": {
             "colorbar": {
              "outlinewidth": 0,
              "ticks": ""
             }
            },
            "type": "scatter3d"
           }
          ],
          "scattercarpet": [
           {
            "marker": {
             "colorbar": {
              "outlinewidth": 0,
              "ticks": ""
             }
            },
            "type": "scattercarpet"
           }
          ],
          "scattergeo": [
           {
            "marker": {
             "colorbar": {
              "outlinewidth": 0,
              "ticks": ""
             }
            },
            "type": "scattergeo"
           }
          ],
          "scattergl": [
           {
            "marker": {
             "colorbar": {
              "outlinewidth": 0,
              "ticks": ""
             }
            },
            "type": "scattergl"
           }
          ],
          "scattermapbox": [
           {
            "marker": {
             "colorbar": {
              "outlinewidth": 0,
              "ticks": ""
             }
            },
            "type": "scattermapbox"
           }
          ],
          "scatterpolar": [
           {
            "marker": {
             "colorbar": {
              "outlinewidth": 0,
              "ticks": ""
             }
            },
            "type": "scatterpolar"
           }
          ],
          "scatterpolargl": [
           {
            "marker": {
             "colorbar": {
              "outlinewidth": 0,
              "ticks": ""
             }
            },
            "type": "scatterpolargl"
           }
          ],
          "scatterternary": [
           {
            "marker": {
             "colorbar": {
              "outlinewidth": 0,
              "ticks": ""
             }
            },
            "type": "scatterternary"
           }
          ],
          "surface": [
           {
            "colorbar": {
             "outlinewidth": 0,
             "ticks": ""
            },
            "colorscale": [
             [
              0,
              "#0d0887"
             ],
             [
              0.1111111111111111,
              "#46039f"
             ],
             [
              0.2222222222222222,
              "#7201a8"
             ],
             [
              0.3333333333333333,
              "#9c179e"
             ],
             [
              0.4444444444444444,
              "#bd3786"
             ],
             [
              0.5555555555555556,
              "#d8576b"
             ],
             [
              0.6666666666666666,
              "#ed7953"
             ],
             [
              0.7777777777777778,
              "#fb9f3a"
             ],
             [
              0.8888888888888888,
              "#fdca26"
             ],
             [
              1,
              "#f0f921"
             ]
            ],
            "type": "surface"
           }
          ],
          "table": [
           {
            "cells": {
             "fill": {
              "color": "#EBF0F8"
             },
             "line": {
              "color": "white"
             }
            },
            "header": {
             "fill": {
              "color": "#C8D4E3"
             },
             "line": {
              "color": "white"
             }
            },
            "type": "table"
           }
          ]
         },
         "layout": {
          "annotationdefaults": {
           "arrowcolor": "#2a3f5f",
           "arrowhead": 0,
           "arrowwidth": 1
          },
          "autotypenumbers": "strict",
          "coloraxis": {
           "colorbar": {
            "outlinewidth": 0,
            "ticks": ""
           }
          },
          "colorscale": {
           "diverging": [
            [
             0,
             "#8e0152"
            ],
            [
             0.1,
             "#c51b7d"
            ],
            [
             0.2,
             "#de77ae"
            ],
            [
             0.3,
             "#f1b6da"
            ],
            [
             0.4,
             "#fde0ef"
            ],
            [
             0.5,
             "#f7f7f7"
            ],
            [
             0.6,
             "#e6f5d0"
            ],
            [
             0.7,
             "#b8e186"
            ],
            [
             0.8,
             "#7fbc41"
            ],
            [
             0.9,
             "#4d9221"
            ],
            [
             1,
             "#276419"
            ]
           ],
           "sequential": [
            [
             0,
             "#0d0887"
            ],
            [
             0.1111111111111111,
             "#46039f"
            ],
            [
             0.2222222222222222,
             "#7201a8"
            ],
            [
             0.3333333333333333,
             "#9c179e"
            ],
            [
             0.4444444444444444,
             "#bd3786"
            ],
            [
             0.5555555555555556,
             "#d8576b"
            ],
            [
             0.6666666666666666,
             "#ed7953"
            ],
            [
             0.7777777777777778,
             "#fb9f3a"
            ],
            [
             0.8888888888888888,
             "#fdca26"
            ],
            [
             1,
             "#f0f921"
            ]
           ],
           "sequentialminus": [
            [
             0,
             "#0d0887"
            ],
            [
             0.1111111111111111,
             "#46039f"
            ],
            [
             0.2222222222222222,
             "#7201a8"
            ],
            [
             0.3333333333333333,
             "#9c179e"
            ],
            [
             0.4444444444444444,
             "#bd3786"
            ],
            [
             0.5555555555555556,
             "#d8576b"
            ],
            [
             0.6666666666666666,
             "#ed7953"
            ],
            [
             0.7777777777777778,
             "#fb9f3a"
            ],
            [
             0.8888888888888888,
             "#fdca26"
            ],
            [
             1,
             "#f0f921"
            ]
           ]
          },
          "colorway": [
           "#636efa",
           "#EF553B",
           "#00cc96",
           "#ab63fa",
           "#FFA15A",
           "#19d3f3",
           "#FF6692",
           "#B6E880",
           "#FF97FF",
           "#FECB52"
          ],
          "font": {
           "color": "#2a3f5f"
          },
          "geo": {
           "bgcolor": "white",
           "lakecolor": "white",
           "landcolor": "#E5ECF6",
           "showlakes": true,
           "showland": true,
           "subunitcolor": "white"
          },
          "hoverlabel": {
           "align": "left"
          },
          "hovermode": "closest",
          "mapbox": {
           "style": "light"
          },
          "paper_bgcolor": "white",
          "plot_bgcolor": "#E5ECF6",
          "polar": {
           "angularaxis": {
            "gridcolor": "white",
            "linecolor": "white",
            "ticks": ""
           },
           "bgcolor": "#E5ECF6",
           "radialaxis": {
            "gridcolor": "white",
            "linecolor": "white",
            "ticks": ""
           }
          },
          "scene": {
           "xaxis": {
            "backgroundcolor": "#E5ECF6",
            "gridcolor": "white",
            "gridwidth": 2,
            "linecolor": "white",
            "showbackground": true,
            "ticks": "",
            "zerolinecolor": "white"
           },
           "yaxis": {
            "backgroundcolor": "#E5ECF6",
            "gridcolor": "white",
            "gridwidth": 2,
            "linecolor": "white",
            "showbackground": true,
            "ticks": "",
            "zerolinecolor": "white"
           },
           "zaxis": {
            "backgroundcolor": "#E5ECF6",
            "gridcolor": "white",
            "gridwidth": 2,
            "linecolor": "white",
            "showbackground": true,
            "ticks": "",
            "zerolinecolor": "white"
           }
          },
          "shapedefaults": {
           "line": {
            "color": "#2a3f5f"
           }
          },
          "ternary": {
           "aaxis": {
            "gridcolor": "white",
            "linecolor": "white",
            "ticks": ""
           },
           "baxis": {
            "gridcolor": "white",
            "linecolor": "white",
            "ticks": ""
           },
           "bgcolor": "#E5ECF6",
           "caxis": {
            "gridcolor": "white",
            "linecolor": "white",
            "ticks": ""
           }
          },
          "title": {
           "x": 0.05
          },
          "xaxis": {
           "automargin": true,
           "gridcolor": "white",
           "linecolor": "white",
           "ticks": "",
           "title": {
            "standoff": 15
           },
           "zerolinecolor": "white",
           "zerolinewidth": 2
          },
          "yaxis": {
           "automargin": true,
           "gridcolor": "white",
           "linecolor": "white",
           "ticks": "",
           "title": {
            "standoff": 15
           },
           "zerolinecolor": "white",
           "zerolinewidth": 2
          }
         }
        },
        "title": {
         "text": "Exports-G&S"
        },
        "width": 700
       }
      }
     },
     "metadata": {},
     "output_type": "display_data"
    }
   ],
   "source": [
    "unique_tri = demo2['Indicator'].unique()\n",
    "tri = widgets.SelectMultiple(\n",
    "    options = unique_tri.tolist(),\n",
    "    value = ['Exports-G&S'],\n",
    "    description='Indicator',\n",
    "    disabled=False,\n",
    "    layout = Layout(width='50%', height='80px')\n",
    ")\n",
    "\n",
    "def graf1(tri):\n",
    "    dat=demo2.loc[demo2.loc[:, 'Indicator'].isin(np.array(tri))]\n",
    "    a=px.choropleth(dat, locations=\"Country\", locationmode='ISO-3', \n",
    "                     color=\"GDP-R^2\", hover_name=\"Country\",hover_data = [dat.Type, dat.Behaviour],projection=\"natural earth\",\n",
    "                     color_continuous_scale='Reds', width=700, height=500, title= dat.Indicator.unique().tolist()[0])\n",
    "    print(tri)\n",
    "    a.show()\n",
    "widgets.interactive(graf1, tri=tri)\n"
   ]
  },
  {
   "cell_type": "markdown",
   "metadata": {},
   "source": [
    "To wrap up, we can create the second widget that is exactly the same as the previous multiple selection widget. The purpose of this widget is to enable us to choose which Continent that we want to visualize. Below is the code implementation of this widget."
   ]
  },
  {
   "cell_type": "code",
   "execution_count": 83,
   "metadata": {},
   "outputs": [
    {
     "data": {
      "application/vnd.jupyter.widget-view+json": {
       "model_id": "138389e366d1412cbca8b946e09d1c9e",
       "version_major": 2,
       "version_minor": 0
      },
      "text/plain": [
       "interactive(children=(SelectMultiple(description='Continent', index=(6,), layout=Layout(height='80px', width='…"
      ]
     },
     "metadata": {},
     "output_type": "display_data"
    },
    {
     "data": {
      "application/vnd.plotly.v1+json": {
       "config": {
        "plotlyServerURL": "https://plot.ly"
       },
       "data": [
        {
         "customdata": [
          [
           null,
           "Positive"
          ],
          [
           null,
           "Positive"
          ],
          [
           "Cuadratic",
           "Negative"
          ],
          [
           null,
           "Negative"
          ],
          [
           null,
           "Positive"
          ],
          [
           null,
           "Positive"
          ],
          [
           null,
           "Positive"
          ],
          [
           null,
           "Positive"
          ],
          [
           null,
           "Positive"
          ],
          [
           "Cuadratic",
           "Positive"
          ],
          [
           null,
           "Positive"
          ],
          [
           "Cuadratic",
           "Positive"
          ],
          [
           "Logarithmic",
           "Positive"
          ],
          [
           null,
           "Positive"
          ],
          [
           "Cuadratic",
           "Positive"
          ],
          [
           "Logarithmic",
           "Negative"
          ],
          [
           null,
           "Positive"
          ],
          [
           "Logarithmic",
           "Negative"
          ],
          [
           "Logarithmic",
           "Negative"
          ],
          [
           "Cubic",
           "Positive"
          ],
          [
           "Cuadratic",
           "Positive"
          ],
          [
           "Cuadratic",
           "Negative"
          ],
          [
           null,
           "Positive"
          ],
          [
           "Cuadratic",
           "Positive"
          ],
          [
           "Cuadratic",
           "Positive"
          ],
          [
           null,
           "Positive"
          ],
          [
           null,
           "Positive"
          ],
          [
           "Cubic",
           "Negative"
          ],
          [
           null,
           "Positive"
          ],
          [
           null,
           "Positive"
          ],
          [
           "Cuadratic",
           "Negative"
          ],
          [
           "Cubic",
           "Negative"
          ],
          [
           "Logarithmic",
           "Positive"
          ],
          [
           null,
           "Positive"
          ],
          [
           null,
           "Positive"
          ],
          [
           null,
           "Positive"
          ],
          [
           null,
           "Positive"
          ],
          [
           null,
           "Negative"
          ],
          [
           null,
           "Negative"
          ],
          [
           "Logarithmic",
           "Negative"
          ],
          [
           "Logarithmic",
           "Negative"
          ],
          [
           null,
           "Positive"
          ],
          [
           "Logarithmic",
           "Positive"
          ],
          [
           null,
           "Positive"
          ],
          [
           "Logarithmic",
           "Positive"
          ],
          [
           "Cuadratic",
           "Negative"
          ],
          [
           null,
           "Positive"
          ],
          [
           "Logarithmic",
           "Negative"
          ],
          [
           "Logarithmic",
           "Positive"
          ],
          [
           null,
           "Positive"
          ],
          [
           null,
           "Negative"
          ],
          [
           "Cubic",
           "Negative"
          ],
          [
           "Logarithmic",
           "Positive"
          ],
          [
           null,
           "Positive"
          ]
         ],
         "hovertemplate": "<b>%{hovertext}</b><br><br>GDP-R^2=%{marker.color}<br>Indicator=%{y}<br>Type=%{customdata[0]}<br>Behaviour=%{customdata[1]}<extra></extra>",
         "hovertext": [
          "DZA",
          "DZA",
          "DZA",
          "DZA",
          "DZA",
          "DZA",
          "DZA",
          "EGY",
          "EGY",
          "EGY",
          "EGY",
          "EGY",
          "EGY",
          "EGY",
          "ISR",
          "ISR",
          "ISR",
          "ISR",
          "ISR",
          "ISR",
          "ISR",
          "ISR",
          "ISR",
          "ISR",
          "ISR",
          "LBY",
          "MAR",
          "MAR",
          "MAR",
          "MAR",
          "MAR",
          "MAR",
          "MAR",
          "MAR",
          "MAR",
          "MAR",
          "MAR",
          "MAR",
          "MAR",
          "MAR",
          "TUR",
          "TUR",
          "TUR",
          "TUR",
          "TUR",
          "TUR",
          "TUR",
          "TUR",
          "TUR",
          "TUR",
          "TUR",
          "TUR",
          "TUR",
          "TUR"
         ],
         "legendgroup": "",
         "marker": {
          "color": [
           0.9289158279901037,
           0.9213771435444178,
           0.9075918529847351,
           0.904864353429385,
           0.8758839689728439,
           0.8390883159750028,
           0.7857192483231298,
           0.905691549611508,
           0.8990802196732206,
           0.8962083637425559,
           0.8959887539281101,
           0.8840707210618246,
           0.8754106010601125,
           0.7712782533668188,
           0.9874778307869048,
           0.9581392726953888,
           0.9565210718293581,
           0.949567589871179,
           0.9433317723823056,
           0.9174191314064287,
           0.8927691475893725,
           0.877668819104662,
           0.8538660757824813,
           0.8265682104723039,
           0.7792227834792094,
           0.891789395879511,
           0.9823598695370912,
           0.9725072632075309,
           0.9580573107996607,
           0.9555728136156069,
           0.9436859248182337,
           0.9345196406345899,
           0.9199277938333447,
           0.9157439992681066,
           0.9138972219088164,
           0.8931193245875468,
           0.8542386654476775,
           0.850688427514224,
           0.8040732343408238,
           0.7637341301563336,
           0.9646818981605869,
           0.949243785588551,
           0.9031967123122572,
           0.8890016031609888,
           0.8658018331423527,
           0.8635009656135182,
           0.8573494233376868,
           0.838814100901544,
           0.8316825506959581,
           0.8235704003004464,
           0.8222834157713641,
           0.8142252115949318,
           0.7735405976901415,
           0.757366189732593
          ],
          "coloraxis": "coloraxis",
          "symbol": "circle"
         },
         "mode": "markers",
         "name": "",
         "orientation": "h",
         "showlegend": false,
         "type": "scatter",
         "x": [
          0.9289158279901037,
          0.9213771435444178,
          0.9075918529847351,
          0.904864353429385,
          0.8758839689728439,
          0.8390883159750028,
          0.7857192483231298,
          0.905691549611508,
          0.8990802196732206,
          0.8962083637425559,
          0.8959887539281101,
          0.8840707210618246,
          0.8754106010601125,
          0.7712782533668188,
          0.9874778307869048,
          0.9581392726953888,
          0.9565210718293581,
          0.949567589871179,
          0.9433317723823056,
          0.9174191314064287,
          0.8927691475893725,
          0.877668819104662,
          0.8538660757824813,
          0.8265682104723039,
          0.7792227834792094,
          0.891789395879511,
          0.9823598695370912,
          0.9725072632075309,
          0.9580573107996607,
          0.9555728136156069,
          0.9436859248182337,
          0.9345196406345899,
          0.9199277938333447,
          0.9157439992681066,
          0.9138972219088164,
          0.8931193245875468,
          0.8542386654476775,
          0.850688427514224,
          0.8040732343408238,
          0.7637341301563336,
          0.9646818981605869,
          0.949243785588551,
          0.9031967123122572,
          0.8890016031609888,
          0.8658018331423527,
          0.8635009656135182,
          0.8573494233376868,
          0.838814100901544,
          0.8316825506959581,
          0.8235704003004464,
          0.8222834157713641,
          0.8142252115949318,
          0.7735405976901415,
          0.757366189732593
         ],
         "xaxis": "x",
         "y": [
          "Employment-industry",
          "Health services use",
          "Suicide",
          "Employment-agriculture",
          "Exports-Commercial services",
          "Employment-services",
          "Literacy rate",
          "R&D GExp",
          "Health services use",
          "Alcohol per capita",
          "International taxes",
          "Renewable electricity",
          "Literacy rate",
          "Employment-industry",
          "Exports-G&S",
          "Employment-industry",
          "Exports-Commercial services",
          "Employment-agriculture",
          "Mortality-infants",
          "Employment-services",
          "International taxes",
          "Health services use",
          "Renewable electricity",
          "Alcohol per capita",
          "Education GExp",
          "Exports-G&S",
          "Exports-G&S",
          "Alcohol per capita",
          "Exports-Commercial services",
          "Health services use",
          "Employment-agriculture",
          "Suicide",
          "R&D GExp",
          "Literacy rate",
          "Renewable electricity",
          "Employment-services",
          "Employment-industry",
          "Mortality-infants",
          "Education GExp",
          "Fertility rate",
          "Suicide",
          "Exports-G&S",
          "R&D GExp",
          "Literacy rate",
          "Net migration",
          "Employment-agriculture",
          "Exports-Commercial services",
          "Fertility rate",
          "Renewable electricity",
          "Health services use",
          "Mortality-infants",
          "Foreign investment",
          "Education GExp",
          "Employment-services"
         ],
         "yaxis": "y"
        }
       ],
       "layout": {
        "coloraxis": {
         "colorbar": {
          "title": {
           "text": "GDP-R^2"
          }
         },
         "colorscale": [
          [
           0,
           "rgb(247,251,255)"
          ],
          [
           0.125,
           "rgb(222,235,247)"
          ],
          [
           0.25,
           "rgb(198,219,239)"
          ],
          [
           0.375,
           "rgb(158,202,225)"
          ],
          [
           0.5,
           "rgb(107,174,214)"
          ],
          [
           0.625,
           "rgb(66,146,198)"
          ],
          [
           0.75,
           "rgb(33,113,181)"
          ],
          [
           0.875,
           "rgb(8,81,156)"
          ],
          [
           1,
           "rgb(8,48,107)"
          ]
         ]
        },
        "height": 500,
        "legend": {
         "tracegroupgap": 0
        },
        "template": {
         "data": {
          "bar": [
           {
            "error_x": {
             "color": "#2a3f5f"
            },
            "error_y": {
             "color": "#2a3f5f"
            },
            "marker": {
             "line": {
              "color": "#E5ECF6",
              "width": 0.5
             },
             "pattern": {
              "fillmode": "overlay",
              "size": 10,
              "solidity": 0.2
             }
            },
            "type": "bar"
           }
          ],
          "barpolar": [
           {
            "marker": {
             "line": {
              "color": "#E5ECF6",
              "width": 0.5
             },
             "pattern": {
              "fillmode": "overlay",
              "size": 10,
              "solidity": 0.2
             }
            },
            "type": "barpolar"
           }
          ],
          "carpet": [
           {
            "aaxis": {
             "endlinecolor": "#2a3f5f",
             "gridcolor": "white",
             "linecolor": "white",
             "minorgridcolor": "white",
             "startlinecolor": "#2a3f5f"
            },
            "baxis": {
             "endlinecolor": "#2a3f5f",
             "gridcolor": "white",
             "linecolor": "white",
             "minorgridcolor": "white",
             "startlinecolor": "#2a3f5f"
            },
            "type": "carpet"
           }
          ],
          "choropleth": [
           {
            "colorbar": {
             "outlinewidth": 0,
             "ticks": ""
            },
            "type": "choropleth"
           }
          ],
          "contour": [
           {
            "colorbar": {
             "outlinewidth": 0,
             "ticks": ""
            },
            "colorscale": [
             [
              0,
              "#0d0887"
             ],
             [
              0.1111111111111111,
              "#46039f"
             ],
             [
              0.2222222222222222,
              "#7201a8"
             ],
             [
              0.3333333333333333,
              "#9c179e"
             ],
             [
              0.4444444444444444,
              "#bd3786"
             ],
             [
              0.5555555555555556,
              "#d8576b"
             ],
             [
              0.6666666666666666,
              "#ed7953"
             ],
             [
              0.7777777777777778,
              "#fb9f3a"
             ],
             [
              0.8888888888888888,
              "#fdca26"
             ],
             [
              1,
              "#f0f921"
             ]
            ],
            "type": "contour"
           }
          ],
          "contourcarpet": [
           {
            "colorbar": {
             "outlinewidth": 0,
             "ticks": ""
            },
            "type": "contourcarpet"
           }
          ],
          "heatmap": [
           {
            "colorbar": {
             "outlinewidth": 0,
             "ticks": ""
            },
            "colorscale": [
             [
              0,
              "#0d0887"
             ],
             [
              0.1111111111111111,
              "#46039f"
             ],
             [
              0.2222222222222222,
              "#7201a8"
             ],
             [
              0.3333333333333333,
              "#9c179e"
             ],
             [
              0.4444444444444444,
              "#bd3786"
             ],
             [
              0.5555555555555556,
              "#d8576b"
             ],
             [
              0.6666666666666666,
              "#ed7953"
             ],
             [
              0.7777777777777778,
              "#fb9f3a"
             ],
             [
              0.8888888888888888,
              "#fdca26"
             ],
             [
              1,
              "#f0f921"
             ]
            ],
            "type": "heatmap"
           }
          ],
          "heatmapgl": [
           {
            "colorbar": {
             "outlinewidth": 0,
             "ticks": ""
            },
            "colorscale": [
             [
              0,
              "#0d0887"
             ],
             [
              0.1111111111111111,
              "#46039f"
             ],
             [
              0.2222222222222222,
              "#7201a8"
             ],
             [
              0.3333333333333333,
              "#9c179e"
             ],
             [
              0.4444444444444444,
              "#bd3786"
             ],
             [
              0.5555555555555556,
              "#d8576b"
             ],
             [
              0.6666666666666666,
              "#ed7953"
             ],
             [
              0.7777777777777778,
              "#fb9f3a"
             ],
             [
              0.8888888888888888,
              "#fdca26"
             ],
             [
              1,
              "#f0f921"
             ]
            ],
            "type": "heatmapgl"
           }
          ],
          "histogram": [
           {
            "marker": {
             "pattern": {
              "fillmode": "overlay",
              "size": 10,
              "solidity": 0.2
             }
            },
            "type": "histogram"
           }
          ],
          "histogram2d": [
           {
            "colorbar": {
             "outlinewidth": 0,
             "ticks": ""
            },
            "colorscale": [
             [
              0,
              "#0d0887"
             ],
             [
              0.1111111111111111,
              "#46039f"
             ],
             [
              0.2222222222222222,
              "#7201a8"
             ],
             [
              0.3333333333333333,
              "#9c179e"
             ],
             [
              0.4444444444444444,
              "#bd3786"
             ],
             [
              0.5555555555555556,
              "#d8576b"
             ],
             [
              0.6666666666666666,
              "#ed7953"
             ],
             [
              0.7777777777777778,
              "#fb9f3a"
             ],
             [
              0.8888888888888888,
              "#fdca26"
             ],
             [
              1,
              "#f0f921"
             ]
            ],
            "type": "histogram2d"
           }
          ],
          "histogram2dcontour": [
           {
            "colorbar": {
             "outlinewidth": 0,
             "ticks": ""
            },
            "colorscale": [
             [
              0,
              "#0d0887"
             ],
             [
              0.1111111111111111,
              "#46039f"
             ],
             [
              0.2222222222222222,
              "#7201a8"
             ],
             [
              0.3333333333333333,
              "#9c179e"
             ],
             [
              0.4444444444444444,
              "#bd3786"
             ],
             [
              0.5555555555555556,
              "#d8576b"
             ],
             [
              0.6666666666666666,
              "#ed7953"
             ],
             [
              0.7777777777777778,
              "#fb9f3a"
             ],
             [
              0.8888888888888888,
              "#fdca26"
             ],
             [
              1,
              "#f0f921"
             ]
            ],
            "type": "histogram2dcontour"
           }
          ],
          "mesh3d": [
           {
            "colorbar": {
             "outlinewidth": 0,
             "ticks": ""
            },
            "type": "mesh3d"
           }
          ],
          "parcoords": [
           {
            "line": {
             "colorbar": {
              "outlinewidth": 0,
              "ticks": ""
             }
            },
            "type": "parcoords"
           }
          ],
          "pie": [
           {
            "automargin": true,
            "type": "pie"
           }
          ],
          "scatter": [
           {
            "fillpattern": {
             "fillmode": "overlay",
             "size": 10,
             "solidity": 0.2
            },
            "type": "scatter"
           }
          ],
          "scatter3d": [
           {
            "line": {
             "colorbar": {
              "outlinewidth": 0,
              "ticks": ""
             }
            },
            "marker": {
             "colorbar": {
              "outlinewidth": 0,
              "ticks": ""
             }
            },
            "type": "scatter3d"
           }
          ],
          "scattercarpet": [
           {
            "marker": {
             "colorbar": {
              "outlinewidth": 0,
              "ticks": ""
             }
            },
            "type": "scattercarpet"
           }
          ],
          "scattergeo": [
           {
            "marker": {
             "colorbar": {
              "outlinewidth": 0,
              "ticks": ""
             }
            },
            "type": "scattergeo"
           }
          ],
          "scattergl": [
           {
            "marker": {
             "colorbar": {
              "outlinewidth": 0,
              "ticks": ""
             }
            },
            "type": "scattergl"
           }
          ],
          "scattermapbox": [
           {
            "marker": {
             "colorbar": {
              "outlinewidth": 0,
              "ticks": ""
             }
            },
            "type": "scattermapbox"
           }
          ],
          "scatterpolar": [
           {
            "marker": {
             "colorbar": {
              "outlinewidth": 0,
              "ticks": ""
             }
            },
            "type": "scatterpolar"
           }
          ],
          "scatterpolargl": [
           {
            "marker": {
             "colorbar": {
              "outlinewidth": 0,
              "ticks": ""
             }
            },
            "type": "scatterpolargl"
           }
          ],
          "scatterternary": [
           {
            "marker": {
             "colorbar": {
              "outlinewidth": 0,
              "ticks": ""
             }
            },
            "type": "scatterternary"
           }
          ],
          "surface": [
           {
            "colorbar": {
             "outlinewidth": 0,
             "ticks": ""
            },
            "colorscale": [
             [
              0,
              "#0d0887"
             ],
             [
              0.1111111111111111,
              "#46039f"
             ],
             [
              0.2222222222222222,
              "#7201a8"
             ],
             [
              0.3333333333333333,
              "#9c179e"
             ],
             [
              0.4444444444444444,
              "#bd3786"
             ],
             [
              0.5555555555555556,
              "#d8576b"
             ],
             [
              0.6666666666666666,
              "#ed7953"
             ],
             [
              0.7777777777777778,
              "#fb9f3a"
             ],
             [
              0.8888888888888888,
              "#fdca26"
             ],
             [
              1,
              "#f0f921"
             ]
            ],
            "type": "surface"
           }
          ],
          "table": [
           {
            "cells": {
             "fill": {
              "color": "#EBF0F8"
             },
             "line": {
              "color": "white"
             }
            },
            "header": {
             "fill": {
              "color": "#C8D4E3"
             },
             "line": {
              "color": "white"
             }
            },
            "type": "table"
           }
          ]
         },
         "layout": {
          "annotationdefaults": {
           "arrowcolor": "#2a3f5f",
           "arrowhead": 0,
           "arrowwidth": 1
          },
          "autotypenumbers": "strict",
          "coloraxis": {
           "colorbar": {
            "outlinewidth": 0,
            "ticks": ""
           }
          },
          "colorscale": {
           "diverging": [
            [
             0,
             "#8e0152"
            ],
            [
             0.1,
             "#c51b7d"
            ],
            [
             0.2,
             "#de77ae"
            ],
            [
             0.3,
             "#f1b6da"
            ],
            [
             0.4,
             "#fde0ef"
            ],
            [
             0.5,
             "#f7f7f7"
            ],
            [
             0.6,
             "#e6f5d0"
            ],
            [
             0.7,
             "#b8e186"
            ],
            [
             0.8,
             "#7fbc41"
            ],
            [
             0.9,
             "#4d9221"
            ],
            [
             1,
             "#276419"
            ]
           ],
           "sequential": [
            [
             0,
             "#0d0887"
            ],
            [
             0.1111111111111111,
             "#46039f"
            ],
            [
             0.2222222222222222,
             "#7201a8"
            ],
            [
             0.3333333333333333,
             "#9c179e"
            ],
            [
             0.4444444444444444,
             "#bd3786"
            ],
            [
             0.5555555555555556,
             "#d8576b"
            ],
            [
             0.6666666666666666,
             "#ed7953"
            ],
            [
             0.7777777777777778,
             "#fb9f3a"
            ],
            [
             0.8888888888888888,
             "#fdca26"
            ],
            [
             1,
             "#f0f921"
            ]
           ],
           "sequentialminus": [
            [
             0,
             "#0d0887"
            ],
            [
             0.1111111111111111,
             "#46039f"
            ],
            [
             0.2222222222222222,
             "#7201a8"
            ],
            [
             0.3333333333333333,
             "#9c179e"
            ],
            [
             0.4444444444444444,
             "#bd3786"
            ],
            [
             0.5555555555555556,
             "#d8576b"
            ],
            [
             0.6666666666666666,
             "#ed7953"
            ],
            [
             0.7777777777777778,
             "#fb9f3a"
            ],
            [
             0.8888888888888888,
             "#fdca26"
            ],
            [
             1,
             "#f0f921"
            ]
           ]
          },
          "colorway": [
           "#636efa",
           "#EF553B",
           "#00cc96",
           "#ab63fa",
           "#FFA15A",
           "#19d3f3",
           "#FF6692",
           "#B6E880",
           "#FF97FF",
           "#FECB52"
          ],
          "font": {
           "color": "#2a3f5f"
          },
          "geo": {
           "bgcolor": "white",
           "lakecolor": "white",
           "landcolor": "#E5ECF6",
           "showlakes": true,
           "showland": true,
           "subunitcolor": "white"
          },
          "hoverlabel": {
           "align": "left"
          },
          "hovermode": "closest",
          "mapbox": {
           "style": "light"
          },
          "paper_bgcolor": "white",
          "plot_bgcolor": "#E5ECF6",
          "polar": {
           "angularaxis": {
            "gridcolor": "white",
            "linecolor": "white",
            "ticks": ""
           },
           "bgcolor": "#E5ECF6",
           "radialaxis": {
            "gridcolor": "white",
            "linecolor": "white",
            "ticks": ""
           }
          },
          "scene": {
           "xaxis": {
            "backgroundcolor": "#E5ECF6",
            "gridcolor": "white",
            "gridwidth": 2,
            "linecolor": "white",
            "showbackground": true,
            "ticks": "",
            "zerolinecolor": "white"
           },
           "yaxis": {
            "backgroundcolor": "#E5ECF6",
            "gridcolor": "white",
            "gridwidth": 2,
            "linecolor": "white",
            "showbackground": true,
            "ticks": "",
            "zerolinecolor": "white"
           },
           "zaxis": {
            "backgroundcolor": "#E5ECF6",
            "gridcolor": "white",
            "gridwidth": 2,
            "linecolor": "white",
            "showbackground": true,
            "ticks": "",
            "zerolinecolor": "white"
           }
          },
          "shapedefaults": {
           "line": {
            "color": "#2a3f5f"
           }
          },
          "ternary": {
           "aaxis": {
            "gridcolor": "white",
            "linecolor": "white",
            "ticks": ""
           },
           "baxis": {
            "gridcolor": "white",
            "linecolor": "white",
            "ticks": ""
           },
           "bgcolor": "#E5ECF6",
           "caxis": {
            "gridcolor": "white",
            "linecolor": "white",
            "ticks": ""
           }
          },
          "title": {
           "x": 0.05
          },
          "xaxis": {
           "automargin": true,
           "gridcolor": "white",
           "linecolor": "white",
           "ticks": "",
           "title": {
            "standoff": 15
           },
           "zerolinecolor": "white",
           "zerolinewidth": 2
          },
          "yaxis": {
           "automargin": true,
           "gridcolor": "white",
           "linecolor": "white",
           "ticks": "",
           "title": {
            "standoff": 15
           },
           "zerolinecolor": "white",
           "zerolinewidth": 2
          }
         }
        },
        "title": {
         "text": "North Africa"
        },
        "width": 700,
        "xaxis": {
         "anchor": "y",
         "domain": [
          0,
          1
         ],
         "title": {
          "text": "GDP-R^2"
         }
        },
        "yaxis": {
         "anchor": "x",
         "domain": [
          0,
          1
         ],
         "title": {
          "text": "Indicator"
         }
        }
       }
      }
     },
     "metadata": {},
     "output_type": "display_data"
    }
   ],
   "source": [
    "unique_tric = demo2['Continent'].unique()\n",
    "tric = widgets.SelectMultiple(\n",
    "    options = unique_tric.tolist(),\n",
    "    value = ['North Africa'],\n",
    "    description='Continent',\n",
    "    disabled=False,\n",
    "    layout = Layout(width='50%', height='80px')\n",
    ")\n",
    "\n",
    "def graf1(tric):\n",
    "    dat=demo2.loc[demo2.loc[:, 'Continent'].isin(np.array(tric))]\n",
    "    a=px.scatter(dat, x=\"GDP-R^2\", y='Indicator',\n",
    "                     color=\"GDP-R^2\", hover_name=\"Country\",hover_data = [dat.Type, dat.Behaviour],\n",
    "                     color_continuous_scale='Blues', width=700, height=500, title= dat.Continent.unique().tolist()[0])\n",
    "    a.show()\n",
    "widgets.interactive(graf1, tric=tric)"
   ]
  },
  {
   "cell_type": "code",
   "execution_count": null,
   "metadata": {},
   "outputs": [],
   "source": []
  }
 ],
 "metadata": {
  "kernelspec": {
   "display_name": "Python 3.10.4 ('.venv': poetry)",
   "language": "python",
   "name": "python3"
  },
  "language_info": {
   "codemirror_mode": {
    "name": "ipython",
    "version": 3
   },
   "file_extension": ".py",
   "mimetype": "text/x-python",
   "name": "python",
   "nbconvert_exporter": "python",
   "pygments_lexer": "ipython3",
   "version": "3.10.4"
  },
  "vscode": {
   "interpreter": {
    "hash": "ad72b07258a3fa24452fee21e868a537ead700a3a6ac2a1adaf5006160c747dc"
   }
  }
 },
 "nbformat": 4,
 "nbformat_minor": 2
}
