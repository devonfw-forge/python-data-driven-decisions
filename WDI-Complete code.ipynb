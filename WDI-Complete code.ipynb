{
 "cells": [
  {
   "cell_type": "markdown",
   "metadata": {},
   "source": [
    "# EXTRACTION"
   ]
  },
  {
   "cell_type": "markdown",
   "metadata": {},
   "source": [
    "Import libraries and functions."
   ]
  },
  {
   "cell_type": "code",
   "execution_count": 1,
   "metadata": {},
   "outputs": [],
   "source": [
    "import pandas as pd\n",
    "import numpy as np\n",
    "import glob\n",
    "import os\n",
    "import warnings\n",
    "warnings.filterwarnings(\"ignore\")\n",
    "import functools as ft\n",
    "from pyspark.sql.functions import concat, col, lit, split\n",
    "import ipywidgets as widgets\n",
    "from ipywidgets import Layout\n",
    "from ipywidgets import interact, interact_manual\n",
    "import plotly.express as px\n",
    "from scipy import stats\n",
    "from scipy.stats import shapiro\n",
    "from scipy.stats import pearsonr\n",
    "from scipy.stats import spearmanr\n",
    "from pandas.api.types import is_numeric_dtype"
   ]
  },
  {
   "cell_type": "markdown",
   "metadata": {},
   "source": [
    "Firstly we load the database from World Data Bank that has been downloaded and extracted in the *Data extraction* notebook. We acquire it from the predetermined path that is on our computer."
   ]
  },
  {
   "cell_type": "code",
   "execution_count": 2,
   "metadata": {},
   "outputs": [
    {
     "data": {
      "text/html": [
       "<div>\n",
       "<style scoped>\n",
       "    .dataframe tbody tr th:only-of-type {\n",
       "        vertical-align: middle;\n",
       "    }\n",
       "\n",
       "    .dataframe tbody tr th {\n",
       "        vertical-align: top;\n",
       "    }\n",
       "\n",
       "    .dataframe thead th {\n",
       "        text-align: right;\n",
       "    }\n",
       "</style>\n",
       "<table border=\"1\" class=\"dataframe\">\n",
       "  <thead>\n",
       "    <tr style=\"text-align: right;\">\n",
       "      <th></th>\n",
       "      <th>Country Name</th>\n",
       "      <th>Country Code</th>\n",
       "      <th>Indicator Name</th>\n",
       "      <th>Indicator Code</th>\n",
       "      <th>1960</th>\n",
       "      <th>1961</th>\n",
       "      <th>1962</th>\n",
       "      <th>1963</th>\n",
       "      <th>1964</th>\n",
       "      <th>1965</th>\n",
       "      <th>...</th>\n",
       "      <th>2013</th>\n",
       "      <th>2014</th>\n",
       "      <th>2015</th>\n",
       "      <th>2016</th>\n",
       "      <th>2017</th>\n",
       "      <th>2018</th>\n",
       "      <th>2019</th>\n",
       "      <th>2020</th>\n",
       "      <th>2021</th>\n",
       "      <th>Unnamed: 66</th>\n",
       "    </tr>\n",
       "  </thead>\n",
       "  <tbody>\n",
       "    <tr>\n",
       "      <th>0</th>\n",
       "      <td>Africa Eastern and Southern</td>\n",
       "      <td>AFE</td>\n",
       "      <td>Access to clean fuels and technologies for coo...</td>\n",
       "      <td>EG.CFT.ACCS.ZS</td>\n",
       "      <td>NaN</td>\n",
       "      <td>NaN</td>\n",
       "      <td>NaN</td>\n",
       "      <td>NaN</td>\n",
       "      <td>NaN</td>\n",
       "      <td>NaN</td>\n",
       "      <td>...</td>\n",
       "      <td>16.936004</td>\n",
       "      <td>17.337896</td>\n",
       "      <td>17.687093</td>\n",
       "      <td>18.140971</td>\n",
       "      <td>18.491344</td>\n",
       "      <td>18.825520</td>\n",
       "      <td>19.272212</td>\n",
       "      <td>19.628009</td>\n",
       "      <td>NaN</td>\n",
       "      <td>NaN</td>\n",
       "    </tr>\n",
       "    <tr>\n",
       "      <th>1</th>\n",
       "      <td>Africa Eastern and Southern</td>\n",
       "      <td>AFE</td>\n",
       "      <td>Access to clean fuels and technologies for coo...</td>\n",
       "      <td>EG.CFT.ACCS.RU.ZS</td>\n",
       "      <td>NaN</td>\n",
       "      <td>NaN</td>\n",
       "      <td>NaN</td>\n",
       "      <td>NaN</td>\n",
       "      <td>NaN</td>\n",
       "      <td>NaN</td>\n",
       "      <td>...</td>\n",
       "      <td>6.499471</td>\n",
       "      <td>6.680066</td>\n",
       "      <td>6.859110</td>\n",
       "      <td>7.016238</td>\n",
       "      <td>7.180364</td>\n",
       "      <td>7.322294</td>\n",
       "      <td>7.517191</td>\n",
       "      <td>7.651598</td>\n",
       "      <td>NaN</td>\n",
       "      <td>NaN</td>\n",
       "    </tr>\n",
       "    <tr>\n",
       "      <th>2</th>\n",
       "      <td>Africa Eastern and Southern</td>\n",
       "      <td>AFE</td>\n",
       "      <td>Access to clean fuels and technologies for coo...</td>\n",
       "      <td>EG.CFT.ACCS.UR.ZS</td>\n",
       "      <td>NaN</td>\n",
       "      <td>NaN</td>\n",
       "      <td>NaN</td>\n",
       "      <td>NaN</td>\n",
       "      <td>NaN</td>\n",
       "      <td>NaN</td>\n",
       "      <td>...</td>\n",
       "      <td>37.855399</td>\n",
       "      <td>38.046781</td>\n",
       "      <td>38.326255</td>\n",
       "      <td>38.468426</td>\n",
       "      <td>38.670044</td>\n",
       "      <td>38.722783</td>\n",
       "      <td>38.927016</td>\n",
       "      <td>39.042839</td>\n",
       "      <td>NaN</td>\n",
       "      <td>NaN</td>\n",
       "    </tr>\n",
       "    <tr>\n",
       "      <th>3</th>\n",
       "      <td>Africa Eastern and Southern</td>\n",
       "      <td>AFE</td>\n",
       "      <td>Access to electricity (% of population)</td>\n",
       "      <td>EG.ELC.ACCS.ZS</td>\n",
       "      <td>NaN</td>\n",
       "      <td>NaN</td>\n",
       "      <td>NaN</td>\n",
       "      <td>NaN</td>\n",
       "      <td>NaN</td>\n",
       "      <td>NaN</td>\n",
       "      <td>...</td>\n",
       "      <td>31.794160</td>\n",
       "      <td>32.001027</td>\n",
       "      <td>33.871910</td>\n",
       "      <td>38.880173</td>\n",
       "      <td>40.261358</td>\n",
       "      <td>43.061877</td>\n",
       "      <td>44.270860</td>\n",
       "      <td>45.803485</td>\n",
       "      <td>NaN</td>\n",
       "      <td>NaN</td>\n",
       "    </tr>\n",
       "    <tr>\n",
       "      <th>4</th>\n",
       "      <td>Africa Eastern and Southern</td>\n",
       "      <td>AFE</td>\n",
       "      <td>Access to electricity, rural (% of rural popul...</td>\n",
       "      <td>EG.ELC.ACCS.RU.ZS</td>\n",
       "      <td>NaN</td>\n",
       "      <td>NaN</td>\n",
       "      <td>NaN</td>\n",
       "      <td>NaN</td>\n",
       "      <td>NaN</td>\n",
       "      <td>NaN</td>\n",
       "      <td>...</td>\n",
       "      <td>18.663502</td>\n",
       "      <td>17.633986</td>\n",
       "      <td>16.464681</td>\n",
       "      <td>24.531436</td>\n",
       "      <td>25.345111</td>\n",
       "      <td>27.449908</td>\n",
       "      <td>29.641760</td>\n",
       "      <td>30.404935</td>\n",
       "      <td>NaN</td>\n",
       "      <td>NaN</td>\n",
       "    </tr>\n",
       "    <tr>\n",
       "      <th>...</th>\n",
       "      <td>...</td>\n",
       "      <td>...</td>\n",
       "      <td>...</td>\n",
       "      <td>...</td>\n",
       "      <td>...</td>\n",
       "      <td>...</td>\n",
       "      <td>...</td>\n",
       "      <td>...</td>\n",
       "      <td>...</td>\n",
       "      <td>...</td>\n",
       "      <td>...</td>\n",
       "      <td>...</td>\n",
       "      <td>...</td>\n",
       "      <td>...</td>\n",
       "      <td>...</td>\n",
       "      <td>...</td>\n",
       "      <td>...</td>\n",
       "      <td>...</td>\n",
       "      <td>...</td>\n",
       "      <td>...</td>\n",
       "      <td>...</td>\n",
       "    </tr>\n",
       "    <tr>\n",
       "      <th>384365</th>\n",
       "      <td>Zimbabwe</td>\n",
       "      <td>ZWE</td>\n",
       "      <td>Women who believe a husband is justified in be...</td>\n",
       "      <td>SG.VAW.REFU.ZS</td>\n",
       "      <td>NaN</td>\n",
       "      <td>NaN</td>\n",
       "      <td>NaN</td>\n",
       "      <td>NaN</td>\n",
       "      <td>NaN</td>\n",
       "      <td>NaN</td>\n",
       "      <td>...</td>\n",
       "      <td>NaN</td>\n",
       "      <td>NaN</td>\n",
       "      <td>14.500000</td>\n",
       "      <td>NaN</td>\n",
       "      <td>NaN</td>\n",
       "      <td>NaN</td>\n",
       "      <td>NaN</td>\n",
       "      <td>NaN</td>\n",
       "      <td>NaN</td>\n",
       "      <td>NaN</td>\n",
       "    </tr>\n",
       "    <tr>\n",
       "      <th>384366</th>\n",
       "      <td>Zimbabwe</td>\n",
       "      <td>ZWE</td>\n",
       "      <td>Women who were first married by age 15 (% of w...</td>\n",
       "      <td>SP.M15.2024.FE.ZS</td>\n",
       "      <td>NaN</td>\n",
       "      <td>NaN</td>\n",
       "      <td>NaN</td>\n",
       "      <td>NaN</td>\n",
       "      <td>NaN</td>\n",
       "      <td>NaN</td>\n",
       "      <td>...</td>\n",
       "      <td>NaN</td>\n",
       "      <td>NaN</td>\n",
       "      <td>3.700000</td>\n",
       "      <td>NaN</td>\n",
       "      <td>NaN</td>\n",
       "      <td>NaN</td>\n",
       "      <td>5.418352</td>\n",
       "      <td>NaN</td>\n",
       "      <td>NaN</td>\n",
       "      <td>NaN</td>\n",
       "    </tr>\n",
       "    <tr>\n",
       "      <th>384367</th>\n",
       "      <td>Zimbabwe</td>\n",
       "      <td>ZWE</td>\n",
       "      <td>Women who were first married by age 18 (% of w...</td>\n",
       "      <td>SP.M18.2024.FE.ZS</td>\n",
       "      <td>NaN</td>\n",
       "      <td>NaN</td>\n",
       "      <td>NaN</td>\n",
       "      <td>NaN</td>\n",
       "      <td>NaN</td>\n",
       "      <td>NaN</td>\n",
       "      <td>...</td>\n",
       "      <td>NaN</td>\n",
       "      <td>33.500000</td>\n",
       "      <td>32.400000</td>\n",
       "      <td>NaN</td>\n",
       "      <td>NaN</td>\n",
       "      <td>NaN</td>\n",
       "      <td>33.658057</td>\n",
       "      <td>NaN</td>\n",
       "      <td>NaN</td>\n",
       "      <td>NaN</td>\n",
       "    </tr>\n",
       "    <tr>\n",
       "      <th>384368</th>\n",
       "      <td>Zimbabwe</td>\n",
       "      <td>ZWE</td>\n",
       "      <td>Women's share of population ages 15+ living wi...</td>\n",
       "      <td>SH.DYN.AIDS.FE.ZS</td>\n",
       "      <td>NaN</td>\n",
       "      <td>NaN</td>\n",
       "      <td>NaN</td>\n",
       "      <td>NaN</td>\n",
       "      <td>NaN</td>\n",
       "      <td>NaN</td>\n",
       "      <td>...</td>\n",
       "      <td>59.200000</td>\n",
       "      <td>59.400000</td>\n",
       "      <td>59.500000</td>\n",
       "      <td>59.700000</td>\n",
       "      <td>59.900000</td>\n",
       "      <td>60.000000</td>\n",
       "      <td>60.200000</td>\n",
       "      <td>60.400000</td>\n",
       "      <td>NaN</td>\n",
       "      <td>NaN</td>\n",
       "    </tr>\n",
       "    <tr>\n",
       "      <th>384369</th>\n",
       "      <td>Zimbabwe</td>\n",
       "      <td>ZWE</td>\n",
       "      <td>Young people (ages 15-24) newly infected with HIV</td>\n",
       "      <td>SH.HIV.INCD.YG</td>\n",
       "      <td>NaN</td>\n",
       "      <td>NaN</td>\n",
       "      <td>NaN</td>\n",
       "      <td>NaN</td>\n",
       "      <td>NaN</td>\n",
       "      <td>NaN</td>\n",
       "      <td>...</td>\n",
       "      <td>18000.000000</td>\n",
       "      <td>17000.000000</td>\n",
       "      <td>15000.000000</td>\n",
       "      <td>14000.000000</td>\n",
       "      <td>12000.000000</td>\n",
       "      <td>9700.000000</td>\n",
       "      <td>9600.000000</td>\n",
       "      <td>7500.000000</td>\n",
       "      <td>NaN</td>\n",
       "      <td>NaN</td>\n",
       "    </tr>\n",
       "  </tbody>\n",
       "</table>\n",
       "<p>384370 rows × 67 columns</p>\n",
       "</div>"
      ],
      "text/plain": [
       "                       Country Name Country Code  \\\n",
       "0       Africa Eastern and Southern          AFE   \n",
       "1       Africa Eastern and Southern          AFE   \n",
       "2       Africa Eastern and Southern          AFE   \n",
       "3       Africa Eastern and Southern          AFE   \n",
       "4       Africa Eastern and Southern          AFE   \n",
       "...                             ...          ...   \n",
       "384365                     Zimbabwe          ZWE   \n",
       "384366                     Zimbabwe          ZWE   \n",
       "384367                     Zimbabwe          ZWE   \n",
       "384368                     Zimbabwe          ZWE   \n",
       "384369                     Zimbabwe          ZWE   \n",
       "\n",
       "                                           Indicator Name     Indicator Code  \\\n",
       "0       Access to clean fuels and technologies for coo...     EG.CFT.ACCS.ZS   \n",
       "1       Access to clean fuels and technologies for coo...  EG.CFT.ACCS.RU.ZS   \n",
       "2       Access to clean fuels and technologies for coo...  EG.CFT.ACCS.UR.ZS   \n",
       "3                 Access to electricity (% of population)     EG.ELC.ACCS.ZS   \n",
       "4       Access to electricity, rural (% of rural popul...  EG.ELC.ACCS.RU.ZS   \n",
       "...                                                   ...                ...   \n",
       "384365  Women who believe a husband is justified in be...     SG.VAW.REFU.ZS   \n",
       "384366  Women who were first married by age 15 (% of w...  SP.M15.2024.FE.ZS   \n",
       "384367  Women who were first married by age 18 (% of w...  SP.M18.2024.FE.ZS   \n",
       "384368  Women's share of population ages 15+ living wi...  SH.DYN.AIDS.FE.ZS   \n",
       "384369  Young people (ages 15-24) newly infected with HIV     SH.HIV.INCD.YG   \n",
       "\n",
       "        1960  1961  1962  1963  1964  1965  ...          2013          2014  \\\n",
       "0        NaN   NaN   NaN   NaN   NaN   NaN  ...     16.936004     17.337896   \n",
       "1        NaN   NaN   NaN   NaN   NaN   NaN  ...      6.499471      6.680066   \n",
       "2        NaN   NaN   NaN   NaN   NaN   NaN  ...     37.855399     38.046781   \n",
       "3        NaN   NaN   NaN   NaN   NaN   NaN  ...     31.794160     32.001027   \n",
       "4        NaN   NaN   NaN   NaN   NaN   NaN  ...     18.663502     17.633986   \n",
       "...      ...   ...   ...   ...   ...   ...  ...           ...           ...   \n",
       "384365   NaN   NaN   NaN   NaN   NaN   NaN  ...           NaN           NaN   \n",
       "384366   NaN   NaN   NaN   NaN   NaN   NaN  ...           NaN           NaN   \n",
       "384367   NaN   NaN   NaN   NaN   NaN   NaN  ...           NaN     33.500000   \n",
       "384368   NaN   NaN   NaN   NaN   NaN   NaN  ...     59.200000     59.400000   \n",
       "384369   NaN   NaN   NaN   NaN   NaN   NaN  ...  18000.000000  17000.000000   \n",
       "\n",
       "                2015          2016          2017         2018         2019  \\\n",
       "0          17.687093     18.140971     18.491344    18.825520    19.272212   \n",
       "1           6.859110      7.016238      7.180364     7.322294     7.517191   \n",
       "2          38.326255     38.468426     38.670044    38.722783    38.927016   \n",
       "3          33.871910     38.880173     40.261358    43.061877    44.270860   \n",
       "4          16.464681     24.531436     25.345111    27.449908    29.641760   \n",
       "...              ...           ...           ...          ...          ...   \n",
       "384365     14.500000           NaN           NaN          NaN          NaN   \n",
       "384366      3.700000           NaN           NaN          NaN     5.418352   \n",
       "384367     32.400000           NaN           NaN          NaN    33.658057   \n",
       "384368     59.500000     59.700000     59.900000    60.000000    60.200000   \n",
       "384369  15000.000000  14000.000000  12000.000000  9700.000000  9600.000000   \n",
       "\n",
       "               2020  2021  Unnamed: 66  \n",
       "0         19.628009   NaN          NaN  \n",
       "1          7.651598   NaN          NaN  \n",
       "2         39.042839   NaN          NaN  \n",
       "3         45.803485   NaN          NaN  \n",
       "4         30.404935   NaN          NaN  \n",
       "...             ...   ...          ...  \n",
       "384365          NaN   NaN          NaN  \n",
       "384366          NaN   NaN          NaN  \n",
       "384367          NaN   NaN          NaN  \n",
       "384368    60.400000   NaN          NaN  \n",
       "384369  7500.000000   NaN          NaN  \n",
       "\n",
       "[384370 rows x 67 columns]"
      ]
     },
     "execution_count": 2,
     "metadata": {},
     "output_type": "execute_result"
    }
   ],
   "source": [
    "df= pd.read_csv (os.getcwd()+'/Data/'+'WDIData.csv')\n",
    "df"
   ]
  },
  {
   "cell_type": "markdown",
   "metadata": {},
   "source": [
    "# INTEGRATION"
   ]
  },
  {
   "cell_type": "markdown",
   "metadata": {},
   "source": [
    "Moreover, to work more comfortably, we remove those columns not useful for us, as *Country Name* and *Indicator Code*, since with the *Country Code*, *Value* and the *Indicator Name* we have the relevant information."
   ]
  },
  {
   "cell_type": "code",
   "execution_count": 3,
   "metadata": {},
   "outputs": [],
   "source": [
    "df.drop(columns=[\"Country Name\",\"Indicator Code\"], axis=1, inplace=True)"
   ]
  },
  {
   "cell_type": "markdown",
   "metadata": {},
   "source": [
    "FILTER 1: BY COUNTRY\n",
    "\n",
    "From the almost two hundred countries we have information about in the worldwide database, we have decided to study 50 of them, grouping them by geographical and economical similiarities. With this, we can keep in our dataframe the selected countries."
   ]
  },
  {
   "cell_type": "markdown",
   "metadata": {},
   "source": [
    "Criteria for grouping:\n",
    "- Europe: Germany, France, Sweden, United Kingdom, Spain, Croatia, Poland, Greece, Austria and Netherlands.\n",
    "\n",
    "*Interesting countries of the European continent that can reflect events such as the Brexit process, the 2008 crisis or their historical strength.*\n",
    "- Persian Gulf: Iraq, Qatar, United Arab Emirates, Arabia Saudita, Azerbayan, Yemen, Yemen Democratic and Oman.\n",
    "\n",
    "*Countries located in the Persian Gulf, which have a similar economy based mainly on petrol and social structures.*\n",
    "- North Africa: Algeria, Egiypt, Lybia, Israel, Turkey and Morroco.\n",
    "\n",
    "*Countries of the african continent that are middle developed and with high mobility of people and goods.*\n",
    "- South Africa: Senegal, South Africa, Liberia, Mozambique, Cameroon, Nigeria and Ghana.\n",
    "\n",
    "*Countries of the south and central africa that are mainly subdeveloped and considered some of the poorest countries worldwide; but, on the contrary, one of them is highly developed.*\n",
    "- Asia: Bangladesh, India, Vietnam, Thailand, Indonesia, Philipines and Korea (South).\n",
    "\n",
    "*Converted in the last decades in the manufacturing of the world, they are subdeveloped countries with high population and childhood.*\n",
    "- Latin America: Mexico, Brasil, Argentina, Peru, Venezuela, Colombia, Chile, Panama and Costa Rica.\n",
    "\n",
    "*Countries located in same continet and some with singular political structures.* \n",
    "- Pair: USA and China.\n",
    "\n",
    "*Although these countries seem to be confronted between them, they have been the top two most growing worlwide, despite the fact that culturally and economically they are completely distant.*\n"
   ]
  },
  {
   "cell_type": "code",
   "execution_count": 4,
   "metadata": {},
   "outputs": [],
   "source": [
    "europe_list=['DEU','FRA','SWE','GBR','ESP','HRV','POL','GRC','AUT','NLD']\n",
    "persian_list=['IRQ','QAT','ARE','SAU','AZE','YEM','YDR','OMN']\n",
    "naf_list=['DZA','EGY','LBY','ISR','TUR','MAR']\n",
    "saf_list=['SEN','ZAF','LBR','MOZ','CMR','NGA','GHA']\n",
    "asia_list=['BGD','IND','VNM','THA','IDN','PHL','KOR']\n",
    "latam_list=['MEX','BRA','ARG','PER','VEN','COL','CHL','PAN','CRI']\n",
    "two_list=['USA','CHN']\n",
    "country_list=europe_list+persian_list+naf_list+saf_list+asia_list+latam_list+two_list "
   ]
  },
  {
   "cell_type": "code",
   "execution_count": 5,
   "metadata": {},
   "outputs": [],
   "source": [
    "df1=df.loc[df['Country Code'].isin(country_list)]"
   ]
  },
  {
   "cell_type": "markdown",
   "metadata": {},
   "source": [
    "Now we transpose the rows of years into the columns."
   ]
  },
  {
   "cell_type": "code",
   "execution_count": 6,
   "metadata": {},
   "outputs": [
    {
     "data": {
      "text/html": [
       "<div>\n",
       "<style scoped>\n",
       "    .dataframe tbody tr th:only-of-type {\n",
       "        vertical-align: middle;\n",
       "    }\n",
       "\n",
       "    .dataframe tbody tr th {\n",
       "        vertical-align: top;\n",
       "    }\n",
       "\n",
       "    .dataframe thead th {\n",
       "        text-align: right;\n",
       "    }\n",
       "</style>\n",
       "<table border=\"1\" class=\"dataframe\">\n",
       "  <thead>\n",
       "    <tr style=\"text-align: right;\">\n",
       "      <th></th>\n",
       "      <th>Country Code</th>\n",
       "      <th>Indicator Name</th>\n",
       "      <th>Date</th>\n",
       "      <th>Value</th>\n",
       "    </tr>\n",
       "  </thead>\n",
       "  <tbody>\n",
       "    <tr>\n",
       "      <th>0</th>\n",
       "      <td>DZA</td>\n",
       "      <td>Access to clean fuels and technologies for coo...</td>\n",
       "      <td>2000</td>\n",
       "      <td>97.1</td>\n",
       "    </tr>\n",
       "    <tr>\n",
       "      <th>1</th>\n",
       "      <td>DZA</td>\n",
       "      <td>Access to clean fuels and technologies for coo...</td>\n",
       "      <td>2001</td>\n",
       "      <td>97.3</td>\n",
       "    </tr>\n",
       "    <tr>\n",
       "      <th>2</th>\n",
       "      <td>DZA</td>\n",
       "      <td>Access to clean fuels and technologies for coo...</td>\n",
       "      <td>2002</td>\n",
       "      <td>97.8</td>\n",
       "    </tr>\n",
       "    <tr>\n",
       "      <th>3</th>\n",
       "      <td>DZA</td>\n",
       "      <td>Access to clean fuels and technologies for coo...</td>\n",
       "      <td>2003</td>\n",
       "      <td>98.0</td>\n",
       "    </tr>\n",
       "    <tr>\n",
       "      <th>4</th>\n",
       "      <td>DZA</td>\n",
       "      <td>Access to clean fuels and technologies for coo...</td>\n",
       "      <td>2004</td>\n",
       "      <td>98.2</td>\n",
       "    </tr>\n",
       "    <tr>\n",
       "      <th>...</th>\n",
       "      <td>...</td>\n",
       "      <td>...</td>\n",
       "      <td>...</td>\n",
       "      <td>...</td>\n",
       "    </tr>\n",
       "    <tr>\n",
       "      <th>1769874</th>\n",
       "      <td>YEM</td>\n",
       "      <td>Young people (ages 15-24) newly infected with HIV</td>\n",
       "      <td>2016</td>\n",
       "      <td>200.0</td>\n",
       "    </tr>\n",
       "    <tr>\n",
       "      <th>1769875</th>\n",
       "      <td>YEM</td>\n",
       "      <td>Young people (ages 15-24) newly infected with HIV</td>\n",
       "      <td>2017</td>\n",
       "      <td>200.0</td>\n",
       "    </tr>\n",
       "    <tr>\n",
       "      <th>1769876</th>\n",
       "      <td>YEM</td>\n",
       "      <td>Young people (ages 15-24) newly infected with HIV</td>\n",
       "      <td>2018</td>\n",
       "      <td>200.0</td>\n",
       "    </tr>\n",
       "    <tr>\n",
       "      <th>1769877</th>\n",
       "      <td>YEM</td>\n",
       "      <td>Young people (ages 15-24) newly infected with HIV</td>\n",
       "      <td>2019</td>\n",
       "      <td>200.0</td>\n",
       "    </tr>\n",
       "    <tr>\n",
       "      <th>1769878</th>\n",
       "      <td>YEM</td>\n",
       "      <td>Young people (ages 15-24) newly infected with HIV</td>\n",
       "      <td>2020</td>\n",
       "      <td>200.0</td>\n",
       "    </tr>\n",
       "  </tbody>\n",
       "</table>\n",
       "<p>1769879 rows × 4 columns</p>\n",
       "</div>"
      ],
      "text/plain": [
       "        Country Code                                     Indicator Name  Date  \\\n",
       "0                DZA  Access to clean fuels and technologies for coo...  2000   \n",
       "1                DZA  Access to clean fuels and technologies for coo...  2001   \n",
       "2                DZA  Access to clean fuels and technologies for coo...  2002   \n",
       "3                DZA  Access to clean fuels and technologies for coo...  2003   \n",
       "4                DZA  Access to clean fuels and technologies for coo...  2004   \n",
       "...              ...                                                ...   ...   \n",
       "1769874          YEM  Young people (ages 15-24) newly infected with HIV  2016   \n",
       "1769875          YEM  Young people (ages 15-24) newly infected with HIV  2017   \n",
       "1769876          YEM  Young people (ages 15-24) newly infected with HIV  2018   \n",
       "1769877          YEM  Young people (ages 15-24) newly infected with HIV  2019   \n",
       "1769878          YEM  Young people (ages 15-24) newly infected with HIV  2020   \n",
       "\n",
       "         Value  \n",
       "0         97.1  \n",
       "1         97.3  \n",
       "2         97.8  \n",
       "3         98.0  \n",
       "4         98.2  \n",
       "...        ...  \n",
       "1769874  200.0  \n",
       "1769875  200.0  \n",
       "1769876  200.0  \n",
       "1769877  200.0  \n",
       "1769878  200.0  \n",
       "\n",
       "[1769879 rows x 4 columns]"
      ]
     },
     "execution_count": 6,
     "metadata": {},
     "output_type": "execute_result"
    }
   ],
   "source": [
    "df2=(df1.set_index([\"Country Code\", \"Indicator Name\"]).stack().reset_index(name='Value').rename(columns={'level_2':'Date'}))\n",
    "df2"
   ]
  },
  {
   "cell_type": "markdown",
   "metadata": {},
   "source": [
    "FILTER 2: BY YEAR\n",
    "\n",
    "Our time range covers from 1960 to 2021. However, the record is not uniform and complete for all areas and indicators. We can appreaciate that specially in the first years of the last century, so many data is missing, then it makes no sense to study it. Besides, for the year 2021 many data is also lacking. Therefore, we would delimit our study between 1990 and 2020."
   ]
  },
  {
   "cell_type": "code",
   "execution_count": 7,
   "metadata": {},
   "outputs": [],
   "source": [
    "df2[['Date']] = df2[['Date']].astype(int)"
   ]
  },
  {
   "cell_type": "code",
   "execution_count": 8,
   "metadata": {},
   "outputs": [
    {
     "data": {
      "text/plain": [
       "Country Code       object\n",
       "Indicator Name     object\n",
       "Date                int32\n",
       "Value             float64\n",
       "dtype: object"
      ]
     },
     "execution_count": 8,
     "metadata": {},
     "output_type": "execute_result"
    }
   ],
   "source": [
    "df2.dtypes"
   ]
  },
  {
   "cell_type": "code",
   "execution_count": 9,
   "metadata": {},
   "outputs": [
    {
     "data": {
      "text/html": [
       "<div>\n",
       "<style scoped>\n",
       "    .dataframe tbody tr th:only-of-type {\n",
       "        vertical-align: middle;\n",
       "    }\n",
       "\n",
       "    .dataframe tbody tr th {\n",
       "        vertical-align: top;\n",
       "    }\n",
       "\n",
       "    .dataframe thead th {\n",
       "        text-align: right;\n",
       "    }\n",
       "</style>\n",
       "<table border=\"1\" class=\"dataframe\">\n",
       "  <thead>\n",
       "    <tr style=\"text-align: right;\">\n",
       "      <th></th>\n",
       "      <th>Country Code</th>\n",
       "      <th>Indicator Name</th>\n",
       "      <th>Date</th>\n",
       "      <th>Value</th>\n",
       "    </tr>\n",
       "  </thead>\n",
       "  <tbody>\n",
       "    <tr>\n",
       "      <th>0</th>\n",
       "      <td>DZA</td>\n",
       "      <td>Access to clean fuels and technologies for coo...</td>\n",
       "      <td>2000</td>\n",
       "      <td>97.1</td>\n",
       "    </tr>\n",
       "    <tr>\n",
       "      <th>1</th>\n",
       "      <td>DZA</td>\n",
       "      <td>Access to clean fuels and technologies for coo...</td>\n",
       "      <td>2001</td>\n",
       "      <td>97.3</td>\n",
       "    </tr>\n",
       "    <tr>\n",
       "      <th>2</th>\n",
       "      <td>DZA</td>\n",
       "      <td>Access to clean fuels and technologies for coo...</td>\n",
       "      <td>2002</td>\n",
       "      <td>97.8</td>\n",
       "    </tr>\n",
       "    <tr>\n",
       "      <th>3</th>\n",
       "      <td>DZA</td>\n",
       "      <td>Access to clean fuels and technologies for coo...</td>\n",
       "      <td>2003</td>\n",
       "      <td>98.0</td>\n",
       "    </tr>\n",
       "    <tr>\n",
       "      <th>4</th>\n",
       "      <td>DZA</td>\n",
       "      <td>Access to clean fuels and technologies for coo...</td>\n",
       "      <td>2004</td>\n",
       "      <td>98.2</td>\n",
       "    </tr>\n",
       "    <tr>\n",
       "      <th>...</th>\n",
       "      <td>...</td>\n",
       "      <td>...</td>\n",
       "      <td>...</td>\n",
       "      <td>...</td>\n",
       "    </tr>\n",
       "    <tr>\n",
       "      <th>1769874</th>\n",
       "      <td>YEM</td>\n",
       "      <td>Young people (ages 15-24) newly infected with HIV</td>\n",
       "      <td>2016</td>\n",
       "      <td>200.0</td>\n",
       "    </tr>\n",
       "    <tr>\n",
       "      <th>1769875</th>\n",
       "      <td>YEM</td>\n",
       "      <td>Young people (ages 15-24) newly infected with HIV</td>\n",
       "      <td>2017</td>\n",
       "      <td>200.0</td>\n",
       "    </tr>\n",
       "    <tr>\n",
       "      <th>1769876</th>\n",
       "      <td>YEM</td>\n",
       "      <td>Young people (ages 15-24) newly infected with HIV</td>\n",
       "      <td>2018</td>\n",
       "      <td>200.0</td>\n",
       "    </tr>\n",
       "    <tr>\n",
       "      <th>1769877</th>\n",
       "      <td>YEM</td>\n",
       "      <td>Young people (ages 15-24) newly infected with HIV</td>\n",
       "      <td>2019</td>\n",
       "      <td>200.0</td>\n",
       "    </tr>\n",
       "    <tr>\n",
       "      <th>1769878</th>\n",
       "      <td>YEM</td>\n",
       "      <td>Young people (ages 15-24) newly infected with HIV</td>\n",
       "      <td>2020</td>\n",
       "      <td>200.0</td>\n",
       "    </tr>\n",
       "  </tbody>\n",
       "</table>\n",
       "<p>1225418 rows × 4 columns</p>\n",
       "</div>"
      ],
      "text/plain": [
       "        Country Code                                     Indicator Name  Date  \\\n",
       "0                DZA  Access to clean fuels and technologies for coo...  2000   \n",
       "1                DZA  Access to clean fuels and technologies for coo...  2001   \n",
       "2                DZA  Access to clean fuels and technologies for coo...  2002   \n",
       "3                DZA  Access to clean fuels and technologies for coo...  2003   \n",
       "4                DZA  Access to clean fuels and technologies for coo...  2004   \n",
       "...              ...                                                ...   ...   \n",
       "1769874          YEM  Young people (ages 15-24) newly infected with HIV  2016   \n",
       "1769875          YEM  Young people (ages 15-24) newly infected with HIV  2017   \n",
       "1769876          YEM  Young people (ages 15-24) newly infected with HIV  2018   \n",
       "1769877          YEM  Young people (ages 15-24) newly infected with HIV  2019   \n",
       "1769878          YEM  Young people (ages 15-24) newly infected with HIV  2020   \n",
       "\n",
       "         Value  \n",
       "0         97.1  \n",
       "1         97.3  \n",
       "2         97.8  \n",
       "3         98.0  \n",
       "4         98.2  \n",
       "...        ...  \n",
       "1769874  200.0  \n",
       "1769875  200.0  \n",
       "1769876  200.0  \n",
       "1769877  200.0  \n",
       "1769878  200.0  \n",
       "\n",
       "[1225418 rows x 4 columns]"
      ]
     },
     "execution_count": 9,
     "metadata": {},
     "output_type": "execute_result"
    }
   ],
   "source": [
    "df3 = df2[df2['Date'] > 1989]\n",
    "df3"
   ]
  },
  {
   "cell_type": "code",
   "execution_count": null,
   "metadata": {},
   "outputs": [],
   "source": [
    "BronzeDataFrame=df3"
   ]
  },
  {
   "cell_type": "markdown",
   "metadata": {},
   "source": [
    "---- "
   ]
  },
  {
   "cell_type": "markdown",
   "metadata": {},
   "source": [
    "FILTER 3: BY INDICATOR"
   ]
  },
  {
   "cell_type": "markdown",
   "metadata": {},
   "source": [
    "As there are lots of indicators that have very similar meaning we have decided to select some indicators to perform the study (**Indicator group** = *Name of the selected indicator*):\n",
    "- **GDP** = *GDP (current US$), measures the monetary value of final goods and services produced in a country at a given period of time.*\n",
    "- **Literacy** = *Literacy rate, % of people ages 15 and above which are able to expand one's knowledge of reading and writing in order to develop one's thinking and learning for the purpose of understanding oneself and the world. Government expenditure on education, total % of government expenditure incurred on education service.*\n",
    "- **Migration** = *Net migration, difference between the number of immigrants (people coming into an area) and the number of emigrants (people leaving an area) throughout the year.*\n",
    "- **Exports** = *Commercial service exports (current US$)* and *Exports of goods and services (current US$). Exports term is referred to the goods and services which are produced in a country and sold to buyers in another one.*\n",
    "- **International trading** = *Taxes on international trade. This one reflects the amount of money that a government collects thanks to all kinds of taxes (on products that enter and leave, customs...)..*\n",
    "- **Fertility** = *Fertility rate, mean of total births per woman. How many childs have born during a year per women.*\n",
    "- **Healthcare** = *% of people using at least basic sanitation services. Amount of children covert by sanitation.*\n",
    "- **Employment** = *Employment in agriculture (% of total employment), *Employment in services (% of total employment), and *Employment in industry (% of total employment). Amount of people employed in these three relevant sectors.*\n",
    "- **Renewable energy** = *Electricity production from renewable sources, excluding hydroelectric. The units are KWh.*\n",
    "- **Mortality** = *Number of infant deaths.*\n",
    "- **Outside investment** = *Foreign direct investment, which is the net inflow of investment to acquire a lasting management interest  (BoP, current US$).*\n",
    "- **Pollution** = *Mortality rate over 100,000 population attributed to household and ambient air pollution and age-standardized.*\n",
    "- **Alcoholism** = *Total alcohol consumed per capita measure in liters of pure alcohol, taking into account people who are 15 or more years of age.*\n",
    "- **Tech adoption** = *% of GDP which goes to the research and development expenditure.*\n",
    "- **Workers high education** = *Labor force with advanced education. % of total working-age population with high level education. It measures the probability of having a good job according to the studies.*\n",
    "- **Optimisim and pessimisim** = *Suicide mortality rate per 100,000 population.*\n",
    "- **Gender equality** = *Rate of gender equality in a country between  (**1=low to **6=high). It assesses the extent to which the country has installed institutions and programs to enforce laws and policies that promote equal access for men and women in education, health, the economy, and protection under law.*\n",
    "- **Education** = *Share of youth not in education, employment or training, total, Total number of young people.* and *Government expenditure on education of total. *\n",
    "\n",
    "To acomplish this, we use the function `isin` that will allow us to only select the the indicators afromentioned, that have been compilied in the list called *indicators_list*"
   ]
  },
  {
   "cell_type": "markdown",
   "metadata": {},
   "source": [
    "-----"
   ]
  },
  {
   "cell_type": "markdown",
   "metadata": {},
   "source": [
    "# NORMALIZATION"
   ]
  },
  {
   "cell_type": "markdown",
   "metadata": {},
   "source": [
    "Taking as reference both works of https://www.pluralsight.com/guides/cleaning-up-data-from-outliers and https://careerfoundry.com/en/blog/data-analytics/how-to-find-outliers/, for normalizing our data we need to start computing the outliers and removing them from our dataframe. As there is not a direct function of pandas that performs this step, it´s been step-by-step code, where we begin with the computation of the quartiles, then the IQR (Inter Quartile Range) and finally the upper and lower limit."
   ]
  },
  {
   "cell_type": "markdown",
   "metadata": {},
   "source": [
    "##### IQR explanation"
   ]
  },
  {
   "cell_type": "markdown",
   "metadata": {},
   "source": [
    "The interquartile range (IQR) measures the spread of the middle half of your data. It is the range for the middle 50% of your sample. Use the IQR to assess the variability where most of your values lie. Larger values indicate that the central portion of your data spread out further. Conversely, smaller values show that the middle values cluster more tightly.\n",
    "\n",
    "To visualize the interquartile range, imagine dividing your data into quarters. Statisticians refer to these quarters as quartiles and label them from low to high as Q1, Q2, Q3, and Q4. The lowest quartile (Q1) covers the smallest quarter of values in your dataset. The upper quartile (Q4) comprises the highest quarter of values. The interquartile range is the middle half of the data that lies between the upper and lower quartiles. In other words, the interquartile range includes the 50% of data points that are above Q1 and below Q4.\n",
    "\n",
    "When measuring variability, statisticians prefer using the interquartile range instead of the full data range because extreme values and outliers affect it less. Typically, use the IQR with a measure of central tendency, such as the median, to understand your data’s center and spread. This combination creates a fuller picture of your data’s distribution.\n",
    "\n",
    "Therefore it is being utilized to get rid of all the outliers that may come from errors when creating the data or from unexpected years."
   ]
  },
  {
   "cell_type": "markdown",
   "metadata": {},
   "source": [
    "Firstly, we compute the first quartile (Q1=25%) and the third quartile (Q3=75%). For that, we have grouped the data by country code and indicator name, so we get the Q1 and Q3 values for each indicator in each geographical area. "
   ]
  },
  {
   "cell_type": "code",
   "execution_count": 13,
   "metadata": {},
   "outputs": [
    {
     "data": {
      "text/plain": [
       "<pandas.core.groupby.generic.DataFrameGroupBy object at 0x000001AE50FA37F0>"
      ]
     },
     "execution_count": 13,
     "metadata": {},
     "output_type": "execute_result"
    }
   ],
   "source": [
    "grouped=BronzeDataFrame.groupby(['Country Code','Indicator Name'])\n",
    "grouped"
   ]
  },
  {
   "cell_type": "code",
   "execution_count": 14,
   "metadata": {},
   "outputs": [
    {
     "data": {
      "text/html": [
       "<div>\n",
       "<style scoped>\n",
       "    .dataframe tbody tr th:only-of-type {\n",
       "        vertical-align: middle;\n",
       "    }\n",
       "\n",
       "    .dataframe tbody tr th {\n",
       "        vertical-align: top;\n",
       "    }\n",
       "\n",
       "    .dataframe thead th {\n",
       "        text-align: right;\n",
       "    }\n",
       "</style>\n",
       "<table border=\"1\" class=\"dataframe\">\n",
       "  <thead>\n",
       "    <tr style=\"text-align: right;\">\n",
       "      <th></th>\n",
       "      <th></th>\n",
       "      <th>Date</th>\n",
       "      <th>Value</th>\n",
       "    </tr>\n",
       "    <tr>\n",
       "      <th>Country Code</th>\n",
       "      <th>Indicator Name</th>\n",
       "      <th></th>\n",
       "      <th></th>\n",
       "    </tr>\n",
       "  </thead>\n",
       "  <tbody>\n",
       "    <tr>\n",
       "      <th rowspan=\"5\" valign=\"top\">ARE</th>\n",
       "      <th>Alcohol per capita</th>\n",
       "      <td>10.0</td>\n",
       "      <td>6.400000e-01</td>\n",
       "    </tr>\n",
       "    <tr>\n",
       "      <th>Education GExp</th>\n",
       "      <td>0.0</td>\n",
       "      <td>0.000000e+00</td>\n",
       "    </tr>\n",
       "    <tr>\n",
       "      <th>Employment-agriculture</th>\n",
       "      <td>14.0</td>\n",
       "      <td>5.130000e+00</td>\n",
       "    </tr>\n",
       "    <tr>\n",
       "      <th>Employment-industry</th>\n",
       "      <td>14.0</td>\n",
       "      <td>1.449997e+00</td>\n",
       "    </tr>\n",
       "    <tr>\n",
       "      <th>Employment-services</th>\n",
       "      <td>14.0</td>\n",
       "      <td>3.830002e+00</td>\n",
       "    </tr>\n",
       "    <tr>\n",
       "      <th>...</th>\n",
       "      <th>...</th>\n",
       "      <td>...</td>\n",
       "      <td>...</td>\n",
       "    </tr>\n",
       "    <tr>\n",
       "      <th rowspan=\"5\" valign=\"top\">ZAF</th>\n",
       "      <th>Ninis</th>\n",
       "      <td>12.5</td>\n",
       "      <td>2.997499e+00</td>\n",
       "    </tr>\n",
       "    <tr>\n",
       "      <th>R&amp;D GExp</th>\n",
       "      <td>8.0</td>\n",
       "      <td>1.011100e-01</td>\n",
       "    </tr>\n",
       "    <tr>\n",
       "      <th>Renewable electricity</th>\n",
       "      <td>12.5</td>\n",
       "      <td>2.292500e+08</td>\n",
       "    </tr>\n",
       "    <tr>\n",
       "      <th>Suicide</th>\n",
       "      <td>9.5</td>\n",
       "      <td>1.025000e+00</td>\n",
       "    </tr>\n",
       "    <tr>\n",
       "      <th>Workers high education</th>\n",
       "      <td>10.5</td>\n",
       "      <td>1.712500e+00</td>\n",
       "    </tr>\n",
       "  </tbody>\n",
       "</table>\n",
       "<p>978 rows × 2 columns</p>\n",
       "</div>"
      ],
      "text/plain": [
       "                                     Date         Value\n",
       "Country Code Indicator Name                            \n",
       "ARE          Alcohol per capita      10.0  6.400000e-01\n",
       "             Education GExp           0.0  0.000000e+00\n",
       "             Employment-agriculture  14.0  5.130000e+00\n",
       "             Employment-industry     14.0  1.449997e+00\n",
       "             Employment-services     14.0  3.830002e+00\n",
       "...                                   ...           ...\n",
       "ZAF          Ninis                   12.5  2.997499e+00\n",
       "             R&D GExp                 8.0  1.011100e-01\n",
       "             Renewable electricity   12.5  2.292500e+08\n",
       "             Suicide                  9.5  1.025000e+00\n",
       "             Workers high education  10.5  1.712500e+00\n",
       "\n",
       "[978 rows x 2 columns]"
      ]
     },
     "execution_count": 14,
     "metadata": {},
     "output_type": "execute_result"
    }
   ],
   "source": [
    "Q1=BronzeDataFrame.groupby(['Country Code','Indicator Name']).quantile(0.25)\n",
    "Q3=BronzeDataFrame.groupby(['Country Code','Indicator Name']).quantile(0.75)\n",
    "IQR=Q3-Q1\n",
    "IQR"
   ]
  },
  {
   "cell_type": "markdown",
   "metadata": {},
   "source": [
    "Once we got the quartiles, we compute the upper and lower limit, with a basic mathematical expression."
   ]
  },
  {
   "cell_type": "code",
   "execution_count": 15,
   "metadata": {},
   "outputs": [
    {
     "data": {
      "text/html": [
       "<div>\n",
       "<style scoped>\n",
       "    .dataframe tbody tr th:only-of-type {\n",
       "        vertical-align: middle;\n",
       "    }\n",
       "\n",
       "    .dataframe tbody tr th {\n",
       "        vertical-align: top;\n",
       "    }\n",
       "\n",
       "    .dataframe thead th {\n",
       "        text-align: right;\n",
       "    }\n",
       "</style>\n",
       "<table border=\"1\" class=\"dataframe\">\n",
       "  <thead>\n",
       "    <tr style=\"text-align: right;\">\n",
       "      <th></th>\n",
       "      <th></th>\n",
       "      <th>Lower limit</th>\n",
       "    </tr>\n",
       "    <tr>\n",
       "      <th>Country Code</th>\n",
       "      <th>Indicator Name</th>\n",
       "      <th></th>\n",
       "    </tr>\n",
       "  </thead>\n",
       "  <tbody>\n",
       "    <tr>\n",
       "      <th rowspan=\"5\" valign=\"top\">ARE</th>\n",
       "      <th>Alcohol per capita</th>\n",
       "      <td>2.190000e+00</td>\n",
       "    </tr>\n",
       "    <tr>\n",
       "      <th>Education GExp</th>\n",
       "      <td>1.026766e+01</td>\n",
       "    </tr>\n",
       "    <tr>\n",
       "      <th>Employment-agriculture</th>\n",
       "      <td>-4.905000e+00</td>\n",
       "    </tr>\n",
       "    <tr>\n",
       "      <th>Employment-industry</th>\n",
       "      <td>3.131501e+01</td>\n",
       "    </tr>\n",
       "    <tr>\n",
       "      <th>Employment-services</th>\n",
       "      <td>5.269500e+01</td>\n",
       "    </tr>\n",
       "    <tr>\n",
       "      <th>...</th>\n",
       "      <th>...</th>\n",
       "      <td>...</td>\n",
       "    </tr>\n",
       "    <tr>\n",
       "      <th rowspan=\"5\" valign=\"top\">ZAF</th>\n",
       "      <th>Ninis</th>\n",
       "      <td>2.684375e+01</td>\n",
       "    </tr>\n",
       "    <tr>\n",
       "      <th>R&amp;D GExp</th>\n",
       "      <td>5.828450e-01</td>\n",
       "    </tr>\n",
       "    <tr>\n",
       "      <th>Renewable electricity</th>\n",
       "      <td>-2.623750e+08</td>\n",
       "    </tr>\n",
       "    <tr>\n",
       "      <th>Suicide</th>\n",
       "      <td>2.203750e+01</td>\n",
       "    </tr>\n",
       "    <tr>\n",
       "      <th>Workers high education</th>\n",
       "      <td>8.050875e+01</td>\n",
       "    </tr>\n",
       "  </tbody>\n",
       "</table>\n",
       "<p>978 rows × 1 columns</p>\n",
       "</div>"
      ],
      "text/plain": [
       "                                      Lower limit\n",
       "Country Code Indicator Name                      \n",
       "ARE          Alcohol per capita      2.190000e+00\n",
       "             Education GExp          1.026766e+01\n",
       "             Employment-agriculture -4.905000e+00\n",
       "             Employment-industry     3.131501e+01\n",
       "             Employment-services     5.269500e+01\n",
       "...                                           ...\n",
       "ZAF          Ninis                   2.684375e+01\n",
       "             R&D GExp                5.828450e-01\n",
       "             Renewable electricity  -2.623750e+08\n",
       "             Suicide                 2.203750e+01\n",
       "             Workers high education  8.050875e+01\n",
       "\n",
       "[978 rows x 1 columns]"
      ]
     },
     "execution_count": 15,
     "metadata": {},
     "output_type": "execute_result"
    }
   ],
   "source": [
    "lower_limit=Q1 - 1.5 * IQR\n",
    "lower=lower_limit.drop(['Date'],axis=1)\n",
    "lower.rename(columns={\"Value\":\"Lower limit\"})"
   ]
  },
  {
   "cell_type": "code",
   "execution_count": 16,
   "metadata": {},
   "outputs": [
    {
     "data": {
      "text/html": [
       "<div>\n",
       "<style scoped>\n",
       "    .dataframe tbody tr th:only-of-type {\n",
       "        vertical-align: middle;\n",
       "    }\n",
       "\n",
       "    .dataframe tbody tr th {\n",
       "        vertical-align: top;\n",
       "    }\n",
       "\n",
       "    .dataframe thead th {\n",
       "        text-align: right;\n",
       "    }\n",
       "</style>\n",
       "<table border=\"1\" class=\"dataframe\">\n",
       "  <thead>\n",
       "    <tr style=\"text-align: right;\">\n",
       "      <th></th>\n",
       "      <th></th>\n",
       "      <th>Upper limit</th>\n",
       "    </tr>\n",
       "    <tr>\n",
       "      <th>Country Code</th>\n",
       "      <th>Indicator Name</th>\n",
       "      <th></th>\n",
       "    </tr>\n",
       "  </thead>\n",
       "  <tbody>\n",
       "    <tr>\n",
       "      <th rowspan=\"5\" valign=\"top\">ARE</th>\n",
       "      <th>Alcohol per capita</th>\n",
       "      <td>4.750000e+00</td>\n",
       "    </tr>\n",
       "    <tr>\n",
       "      <th>Education GExp</th>\n",
       "      <td>1.026766e+01</td>\n",
       "    </tr>\n",
       "    <tr>\n",
       "      <th>Employment-agriculture</th>\n",
       "      <td>1.561500e+01</td>\n",
       "    </tr>\n",
       "    <tr>\n",
       "      <th>Employment-industry</th>\n",
       "      <td>3.711499e+01</td>\n",
       "    </tr>\n",
       "    <tr>\n",
       "      <th>Employment-services</th>\n",
       "      <td>6.801500e+01</td>\n",
       "    </tr>\n",
       "    <tr>\n",
       "      <th>...</th>\n",
       "      <th>...</th>\n",
       "      <td>...</td>\n",
       "    </tr>\n",
       "    <tr>\n",
       "      <th rowspan=\"5\" valign=\"top\">ZAF</th>\n",
       "      <th>Ninis</th>\n",
       "      <td>3.883375e+01</td>\n",
       "    </tr>\n",
       "    <tr>\n",
       "      <th>R&amp;D GExp</th>\n",
       "      <td>9.872850e-01</td>\n",
       "    </tr>\n",
       "    <tr>\n",
       "      <th>Renewable electricity</th>\n",
       "      <td>6.546250e+08</td>\n",
       "    </tr>\n",
       "    <tr>\n",
       "      <th>Suicide</th>\n",
       "      <td>2.613750e+01</td>\n",
       "    </tr>\n",
       "    <tr>\n",
       "      <th>Workers high education</th>\n",
       "      <td>8.735875e+01</td>\n",
       "    </tr>\n",
       "  </tbody>\n",
       "</table>\n",
       "<p>978 rows × 1 columns</p>\n",
       "</div>"
      ],
      "text/plain": [
       "                                      Upper limit\n",
       "Country Code Indicator Name                      \n",
       "ARE          Alcohol per capita      4.750000e+00\n",
       "             Education GExp          1.026766e+01\n",
       "             Employment-agriculture  1.561500e+01\n",
       "             Employment-industry     3.711499e+01\n",
       "             Employment-services     6.801500e+01\n",
       "...                                           ...\n",
       "ZAF          Ninis                   3.883375e+01\n",
       "             R&D GExp                9.872850e-01\n",
       "             Renewable electricity   6.546250e+08\n",
       "             Suicide                 2.613750e+01\n",
       "             Workers high education  8.735875e+01\n",
       "\n",
       "[978 rows x 1 columns]"
      ]
     },
     "execution_count": 16,
     "metadata": {},
     "output_type": "execute_result"
    }
   ],
   "source": [
    "upper_limit=Q3 + 1.5 * IQR\n",
    "upper=upper_limit.drop(['Date'],axis=1)\n",
    "upper.rename(columns={\"Value\":\"Upper limit\"})"
   ]
  },
  {
   "cell_type": "markdown",
   "metadata": {},
   "source": [
    "Thirdly, we join the three tables we have (main dataframe, upper limit and lower limit) by matching country code and indicator name.."
   ]
  },
  {
   "cell_type": "code",
   "execution_count": 17,
   "metadata": {},
   "outputs": [
    {
     "data": {
      "text/html": [
       "<div>\n",
       "<style scoped>\n",
       "    .dataframe tbody tr th:only-of-type {\n",
       "        vertical-align: middle;\n",
       "    }\n",
       "\n",
       "    .dataframe tbody tr th {\n",
       "        vertical-align: top;\n",
       "    }\n",
       "\n",
       "    .dataframe thead th {\n",
       "        text-align: right;\n",
       "    }\n",
       "</style>\n",
       "<table border=\"1\" class=\"dataframe\">\n",
       "  <thead>\n",
       "    <tr style=\"text-align: right;\">\n",
       "      <th></th>\n",
       "      <th>Country Code</th>\n",
       "      <th>Indicator Name</th>\n",
       "      <th>Date</th>\n",
       "      <th>Value_x</th>\n",
       "      <th>Value_y</th>\n",
       "      <th>Value</th>\n",
       "    </tr>\n",
       "  </thead>\n",
       "  <tbody>\n",
       "    <tr>\n",
       "      <th>0</th>\n",
       "      <td>DZA</td>\n",
       "      <td>Exports-Commercial services</td>\n",
       "      <td>1990</td>\n",
       "      <td>4.795977e+08</td>\n",
       "      <td>1.736231e+09</td>\n",
       "      <td>4.453536e+09</td>\n",
       "    </tr>\n",
       "    <tr>\n",
       "      <th>1</th>\n",
       "      <td>DZA</td>\n",
       "      <td>Exports-Commercial services</td>\n",
       "      <td>1991</td>\n",
       "      <td>3.747657e+08</td>\n",
       "      <td>1.736231e+09</td>\n",
       "      <td>4.453536e+09</td>\n",
       "    </tr>\n",
       "    <tr>\n",
       "      <th>2</th>\n",
       "      <td>DZA</td>\n",
       "      <td>Exports-Commercial services</td>\n",
       "      <td>2005</td>\n",
       "      <td>2.466000e+09</td>\n",
       "      <td>1.736231e+09</td>\n",
       "      <td>4.453536e+09</td>\n",
       "    </tr>\n",
       "    <tr>\n",
       "      <th>3</th>\n",
       "      <td>DZA</td>\n",
       "      <td>Exports-Commercial services</td>\n",
       "      <td>2006</td>\n",
       "      <td>2.512000e+09</td>\n",
       "      <td>1.736231e+09</td>\n",
       "      <td>4.453536e+09</td>\n",
       "    </tr>\n",
       "    <tr>\n",
       "      <th>4</th>\n",
       "      <td>DZA</td>\n",
       "      <td>Exports-Commercial services</td>\n",
       "      <td>2007</td>\n",
       "      <td>2.786733e+09</td>\n",
       "      <td>1.736231e+09</td>\n",
       "      <td>4.453536e+09</td>\n",
       "    </tr>\n",
       "    <tr>\n",
       "      <th>...</th>\n",
       "      <td>...</td>\n",
       "      <td>...</td>\n",
       "      <td>...</td>\n",
       "      <td>...</td>\n",
       "      <td>...</td>\n",
       "      <td>...</td>\n",
       "    </tr>\n",
       "    <tr>\n",
       "      <th>20372</th>\n",
       "      <td>YEM</td>\n",
       "      <td>Alcohol per capita</td>\n",
       "      <td>2000</td>\n",
       "      <td>7.900000e-01</td>\n",
       "      <td>-3.725000e-01</td>\n",
       "      <td>7.675000e-01</td>\n",
       "    </tr>\n",
       "    <tr>\n",
       "      <th>20373</th>\n",
       "      <td>YEM</td>\n",
       "      <td>Alcohol per capita</td>\n",
       "      <td>2005</td>\n",
       "      <td>3.400000e-01</td>\n",
       "      <td>-3.725000e-01</td>\n",
       "      <td>7.675000e-01</td>\n",
       "    </tr>\n",
       "    <tr>\n",
       "      <th>20374</th>\n",
       "      <td>YEM</td>\n",
       "      <td>Alcohol per capita</td>\n",
       "      <td>2010</td>\n",
       "      <td>1.800000e-01</td>\n",
       "      <td>-3.725000e-01</td>\n",
       "      <td>7.675000e-01</td>\n",
       "    </tr>\n",
       "    <tr>\n",
       "      <th>20375</th>\n",
       "      <td>YEM</td>\n",
       "      <td>Alcohol per capita</td>\n",
       "      <td>2015</td>\n",
       "      <td>5.500000e-02</td>\n",
       "      <td>-3.725000e-01</td>\n",
       "      <td>7.675000e-01</td>\n",
       "    </tr>\n",
       "    <tr>\n",
       "      <th>20376</th>\n",
       "      <td>YEM</td>\n",
       "      <td>Alcohol per capita</td>\n",
       "      <td>2018</td>\n",
       "      <td>5.100000e-02</td>\n",
       "      <td>-3.725000e-01</td>\n",
       "      <td>7.675000e-01</td>\n",
       "    </tr>\n",
       "  </tbody>\n",
       "</table>\n",
       "<p>20377 rows × 6 columns</p>\n",
       "</div>"
      ],
      "text/plain": [
       "      Country Code               Indicator Name  Date       Value_x  \\\n",
       "0              DZA  Exports-Commercial services  1990  4.795977e+08   \n",
       "1              DZA  Exports-Commercial services  1991  3.747657e+08   \n",
       "2              DZA  Exports-Commercial services  2005  2.466000e+09   \n",
       "3              DZA  Exports-Commercial services  2006  2.512000e+09   \n",
       "4              DZA  Exports-Commercial services  2007  2.786733e+09   \n",
       "...            ...                          ...   ...           ...   \n",
       "20372          YEM           Alcohol per capita  2000  7.900000e-01   \n",
       "20373          YEM           Alcohol per capita  2005  3.400000e-01   \n",
       "20374          YEM           Alcohol per capita  2010  1.800000e-01   \n",
       "20375          YEM           Alcohol per capita  2015  5.500000e-02   \n",
       "20376          YEM           Alcohol per capita  2018  5.100000e-02   \n",
       "\n",
       "            Value_y         Value  \n",
       "0      1.736231e+09  4.453536e+09  \n",
       "1      1.736231e+09  4.453536e+09  \n",
       "2      1.736231e+09  4.453536e+09  \n",
       "3      1.736231e+09  4.453536e+09  \n",
       "4      1.736231e+09  4.453536e+09  \n",
       "...             ...           ...  \n",
       "20372 -3.725000e-01  7.675000e-01  \n",
       "20373 -3.725000e-01  7.675000e-01  \n",
       "20374 -3.725000e-01  7.675000e-01  \n",
       "20375 -3.725000e-01  7.675000e-01  \n",
       "20376 -3.725000e-01  7.675000e-01  \n",
       "\n",
       "[20377 rows x 6 columns]"
      ]
     },
     "execution_count": 17,
     "metadata": {},
     "output_type": "execute_result"
    }
   ],
   "source": [
    "dfs = [BronzeDataFrame,lower,upper]\n",
    "df_joined = ft.reduce(lambda left, right: pd.merge(left, right, on=['Country Code','Indicator Name']), dfs)\n",
    "df_joined"
   ]
  },
  {
   "cell_type": "code",
   "execution_count": 18,
   "metadata": {},
   "outputs": [
    {
     "data": {
      "text/plain": [
       "['Country Code', 'Indicator Name', 'Date', 'Value_x', 'Value_y', 'Value']"
      ]
     },
     "execution_count": 18,
     "metadata": {},
     "output_type": "execute_result"
    }
   ],
   "source": [
    "list(df_joined)"
   ]
  },
  {
   "cell_type": "markdown",
   "metadata": {},
   "source": [
    "We rename the columns of the new table, as the columns headers are not saved after the joining. "
   ]
  },
  {
   "cell_type": "code",
   "execution_count": 19,
   "metadata": {},
   "outputs": [
    {
     "data": {
      "text/html": [
       "<div>\n",
       "<style scoped>\n",
       "    .dataframe tbody tr th:only-of-type {\n",
       "        vertical-align: middle;\n",
       "    }\n",
       "\n",
       "    .dataframe tbody tr th {\n",
       "        vertical-align: top;\n",
       "    }\n",
       "\n",
       "    .dataframe thead th {\n",
       "        text-align: right;\n",
       "    }\n",
       "</style>\n",
       "<table border=\"1\" class=\"dataframe\">\n",
       "  <thead>\n",
       "    <tr style=\"text-align: right;\">\n",
       "      <th></th>\n",
       "      <th>Country</th>\n",
       "      <th>Indicator</th>\n",
       "      <th>Year</th>\n",
       "      <th>Real value</th>\n",
       "      <th>Lower value</th>\n",
       "      <th>Upper value</th>\n",
       "    </tr>\n",
       "  </thead>\n",
       "  <tbody>\n",
       "    <tr>\n",
       "      <th>0</th>\n",
       "      <td>DZA</td>\n",
       "      <td>Exports-Commercial services</td>\n",
       "      <td>1990</td>\n",
       "      <td>4.795977e+08</td>\n",
       "      <td>1.736231e+09</td>\n",
       "      <td>4.453536e+09</td>\n",
       "    </tr>\n",
       "    <tr>\n",
       "      <th>1</th>\n",
       "      <td>DZA</td>\n",
       "      <td>Exports-Commercial services</td>\n",
       "      <td>1991</td>\n",
       "      <td>3.747657e+08</td>\n",
       "      <td>1.736231e+09</td>\n",
       "      <td>4.453536e+09</td>\n",
       "    </tr>\n",
       "    <tr>\n",
       "      <th>2</th>\n",
       "      <td>DZA</td>\n",
       "      <td>Exports-Commercial services</td>\n",
       "      <td>2005</td>\n",
       "      <td>2.466000e+09</td>\n",
       "      <td>1.736231e+09</td>\n",
       "      <td>4.453536e+09</td>\n",
       "    </tr>\n",
       "    <tr>\n",
       "      <th>3</th>\n",
       "      <td>DZA</td>\n",
       "      <td>Exports-Commercial services</td>\n",
       "      <td>2006</td>\n",
       "      <td>2.512000e+09</td>\n",
       "      <td>1.736231e+09</td>\n",
       "      <td>4.453536e+09</td>\n",
       "    </tr>\n",
       "    <tr>\n",
       "      <th>4</th>\n",
       "      <td>DZA</td>\n",
       "      <td>Exports-Commercial services</td>\n",
       "      <td>2007</td>\n",
       "      <td>2.786733e+09</td>\n",
       "      <td>1.736231e+09</td>\n",
       "      <td>4.453536e+09</td>\n",
       "    </tr>\n",
       "    <tr>\n",
       "      <th>...</th>\n",
       "      <td>...</td>\n",
       "      <td>...</td>\n",
       "      <td>...</td>\n",
       "      <td>...</td>\n",
       "      <td>...</td>\n",
       "      <td>...</td>\n",
       "    </tr>\n",
       "    <tr>\n",
       "      <th>20372</th>\n",
       "      <td>YEM</td>\n",
       "      <td>Alcohol per capita</td>\n",
       "      <td>2000</td>\n",
       "      <td>7.900000e-01</td>\n",
       "      <td>-3.725000e-01</td>\n",
       "      <td>7.675000e-01</td>\n",
       "    </tr>\n",
       "    <tr>\n",
       "      <th>20373</th>\n",
       "      <td>YEM</td>\n",
       "      <td>Alcohol per capita</td>\n",
       "      <td>2005</td>\n",
       "      <td>3.400000e-01</td>\n",
       "      <td>-3.725000e-01</td>\n",
       "      <td>7.675000e-01</td>\n",
       "    </tr>\n",
       "    <tr>\n",
       "      <th>20374</th>\n",
       "      <td>YEM</td>\n",
       "      <td>Alcohol per capita</td>\n",
       "      <td>2010</td>\n",
       "      <td>1.800000e-01</td>\n",
       "      <td>-3.725000e-01</td>\n",
       "      <td>7.675000e-01</td>\n",
       "    </tr>\n",
       "    <tr>\n",
       "      <th>20375</th>\n",
       "      <td>YEM</td>\n",
       "      <td>Alcohol per capita</td>\n",
       "      <td>2015</td>\n",
       "      <td>5.500000e-02</td>\n",
       "      <td>-3.725000e-01</td>\n",
       "      <td>7.675000e-01</td>\n",
       "    </tr>\n",
       "    <tr>\n",
       "      <th>20376</th>\n",
       "      <td>YEM</td>\n",
       "      <td>Alcohol per capita</td>\n",
       "      <td>2018</td>\n",
       "      <td>5.100000e-02</td>\n",
       "      <td>-3.725000e-01</td>\n",
       "      <td>7.675000e-01</td>\n",
       "    </tr>\n",
       "  </tbody>\n",
       "</table>\n",
       "<p>20377 rows × 6 columns</p>\n",
       "</div>"
      ],
      "text/plain": [
       "      Country                    Indicator  Year    Real value   Lower value  \\\n",
       "0         DZA  Exports-Commercial services  1990  4.795977e+08  1.736231e+09   \n",
       "1         DZA  Exports-Commercial services  1991  3.747657e+08  1.736231e+09   \n",
       "2         DZA  Exports-Commercial services  2005  2.466000e+09  1.736231e+09   \n",
       "3         DZA  Exports-Commercial services  2006  2.512000e+09  1.736231e+09   \n",
       "4         DZA  Exports-Commercial services  2007  2.786733e+09  1.736231e+09   \n",
       "...       ...                          ...   ...           ...           ...   \n",
       "20372     YEM           Alcohol per capita  2000  7.900000e-01 -3.725000e-01   \n",
       "20373     YEM           Alcohol per capita  2005  3.400000e-01 -3.725000e-01   \n",
       "20374     YEM           Alcohol per capita  2010  1.800000e-01 -3.725000e-01   \n",
       "20375     YEM           Alcohol per capita  2015  5.500000e-02 -3.725000e-01   \n",
       "20376     YEM           Alcohol per capita  2018  5.100000e-02 -3.725000e-01   \n",
       "\n",
       "        Upper value  \n",
       "0      4.453536e+09  \n",
       "1      4.453536e+09  \n",
       "2      4.453536e+09  \n",
       "3      4.453536e+09  \n",
       "4      4.453536e+09  \n",
       "...             ...  \n",
       "20372  7.675000e-01  \n",
       "20373  7.675000e-01  \n",
       "20374  7.675000e-01  \n",
       "20375  7.675000e-01  \n",
       "20376  7.675000e-01  \n",
       "\n",
       "[20377 rows x 6 columns]"
      ]
     },
     "execution_count": 19,
     "metadata": {},
     "output_type": "execute_result"
    }
   ],
   "source": [
    "renamed=df_joined.set_axis(['Country','Indicator','Year', 'Real value', 'Lower value', 'Upper value'], axis=1, inplace=False)\n",
    "renamed"
   ]
  },
  {
   "cell_type": "markdown",
   "metadata": {},
   "source": [
    "Now that we have the table correctly defined, we remove from our dataframe the values that are outside our range, as it means that they are outliers."
   ]
  },
  {
   "cell_type": "code",
   "execution_count": 20,
   "metadata": {},
   "outputs": [
    {
     "data": {
      "text/html": [
       "<div>\n",
       "<style scoped>\n",
       "    .dataframe tbody tr th:only-of-type {\n",
       "        vertical-align: middle;\n",
       "    }\n",
       "\n",
       "    .dataframe tbody tr th {\n",
       "        vertical-align: top;\n",
       "    }\n",
       "\n",
       "    .dataframe thead th {\n",
       "        text-align: right;\n",
       "    }\n",
       "</style>\n",
       "<table border=\"1\" class=\"dataframe\">\n",
       "  <thead>\n",
       "    <tr style=\"text-align: right;\">\n",
       "      <th></th>\n",
       "      <th>Country</th>\n",
       "      <th>Indicator</th>\n",
       "      <th>Year</th>\n",
       "      <th>Real value</th>\n",
       "      <th>Lower value</th>\n",
       "      <th>Upper value</th>\n",
       "    </tr>\n",
       "  </thead>\n",
       "  <tbody>\n",
       "    <tr>\n",
       "      <th>2</th>\n",
       "      <td>DZA</td>\n",
       "      <td>Exports-Commercial services</td>\n",
       "      <td>2005</td>\n",
       "      <td>2.466000e+09</td>\n",
       "      <td>1.736231e+09</td>\n",
       "      <td>4.453536e+09</td>\n",
       "    </tr>\n",
       "    <tr>\n",
       "      <th>3</th>\n",
       "      <td>DZA</td>\n",
       "      <td>Exports-Commercial services</td>\n",
       "      <td>2006</td>\n",
       "      <td>2.512000e+09</td>\n",
       "      <td>1.736231e+09</td>\n",
       "      <td>4.453536e+09</td>\n",
       "    </tr>\n",
       "    <tr>\n",
       "      <th>4</th>\n",
       "      <td>DZA</td>\n",
       "      <td>Exports-Commercial services</td>\n",
       "      <td>2007</td>\n",
       "      <td>2.786733e+09</td>\n",
       "      <td>1.736231e+09</td>\n",
       "      <td>4.453536e+09</td>\n",
       "    </tr>\n",
       "    <tr>\n",
       "      <th>5</th>\n",
       "      <td>DZA</td>\n",
       "      <td>Exports-Commercial services</td>\n",
       "      <td>2008</td>\n",
       "      <td>3.412421e+09</td>\n",
       "      <td>1.736231e+09</td>\n",
       "      <td>4.453536e+09</td>\n",
       "    </tr>\n",
       "    <tr>\n",
       "      <th>6</th>\n",
       "      <td>DZA</td>\n",
       "      <td>Exports-Commercial services</td>\n",
       "      <td>2009</td>\n",
       "      <td>2.744716e+09</td>\n",
       "      <td>1.736231e+09</td>\n",
       "      <td>4.453536e+09</td>\n",
       "    </tr>\n",
       "    <tr>\n",
       "      <th>...</th>\n",
       "      <td>...</td>\n",
       "      <td>...</td>\n",
       "      <td>...</td>\n",
       "      <td>...</td>\n",
       "      <td>...</td>\n",
       "      <td>...</td>\n",
       "    </tr>\n",
       "    <tr>\n",
       "      <th>20371</th>\n",
       "      <td>YEM</td>\n",
       "      <td>Suicide</td>\n",
       "      <td>2019</td>\n",
       "      <td>5.800000e+00</td>\n",
       "      <td>5.400000e+00</td>\n",
       "      <td>6.200000e+00</td>\n",
       "    </tr>\n",
       "    <tr>\n",
       "      <th>20373</th>\n",
       "      <td>YEM</td>\n",
       "      <td>Alcohol per capita</td>\n",
       "      <td>2005</td>\n",
       "      <td>3.400000e-01</td>\n",
       "      <td>-3.725000e-01</td>\n",
       "      <td>7.675000e-01</td>\n",
       "    </tr>\n",
       "    <tr>\n",
       "      <th>20374</th>\n",
       "      <td>YEM</td>\n",
       "      <td>Alcohol per capita</td>\n",
       "      <td>2010</td>\n",
       "      <td>1.800000e-01</td>\n",
       "      <td>-3.725000e-01</td>\n",
       "      <td>7.675000e-01</td>\n",
       "    </tr>\n",
       "    <tr>\n",
       "      <th>20375</th>\n",
       "      <td>YEM</td>\n",
       "      <td>Alcohol per capita</td>\n",
       "      <td>2015</td>\n",
       "      <td>5.500000e-02</td>\n",
       "      <td>-3.725000e-01</td>\n",
       "      <td>7.675000e-01</td>\n",
       "    </tr>\n",
       "    <tr>\n",
       "      <th>20376</th>\n",
       "      <td>YEM</td>\n",
       "      <td>Alcohol per capita</td>\n",
       "      <td>2018</td>\n",
       "      <td>5.100000e-02</td>\n",
       "      <td>-3.725000e-01</td>\n",
       "      <td>7.675000e-01</td>\n",
       "    </tr>\n",
       "  </tbody>\n",
       "</table>\n",
       "<p>19847 rows × 6 columns</p>\n",
       "</div>"
      ],
      "text/plain": [
       "      Country                    Indicator  Year    Real value   Lower value  \\\n",
       "2         DZA  Exports-Commercial services  2005  2.466000e+09  1.736231e+09   \n",
       "3         DZA  Exports-Commercial services  2006  2.512000e+09  1.736231e+09   \n",
       "4         DZA  Exports-Commercial services  2007  2.786733e+09  1.736231e+09   \n",
       "5         DZA  Exports-Commercial services  2008  3.412421e+09  1.736231e+09   \n",
       "6         DZA  Exports-Commercial services  2009  2.744716e+09  1.736231e+09   \n",
       "...       ...                          ...   ...           ...           ...   \n",
       "20371     YEM                      Suicide  2019  5.800000e+00  5.400000e+00   \n",
       "20373     YEM           Alcohol per capita  2005  3.400000e-01 -3.725000e-01   \n",
       "20374     YEM           Alcohol per capita  2010  1.800000e-01 -3.725000e-01   \n",
       "20375     YEM           Alcohol per capita  2015  5.500000e-02 -3.725000e-01   \n",
       "20376     YEM           Alcohol per capita  2018  5.100000e-02 -3.725000e-01   \n",
       "\n",
       "        Upper value  \n",
       "2      4.453536e+09  \n",
       "3      4.453536e+09  \n",
       "4      4.453536e+09  \n",
       "5      4.453536e+09  \n",
       "6      4.453536e+09  \n",
       "...             ...  \n",
       "20371  6.200000e+00  \n",
       "20373  7.675000e-01  \n",
       "20374  7.675000e-01  \n",
       "20375  7.675000e-01  \n",
       "20376  7.675000e-01  \n",
       "\n",
       "[19847 rows x 6 columns]"
      ]
     },
     "execution_count": 20,
     "metadata": {},
     "output_type": "execute_result"
    }
   ],
   "source": [
    "sin_outliers=renamed.loc[~((renamed['Real value']<renamed['Lower value']) | (renamed['Real value']>renamed['Upper value']))]\n",
    "sin_outliers"
   ]
  },
  {
   "cell_type": "markdown",
   "metadata": {},
   "source": [
    "From the data above, we can perceive that our data comes down from 19944 rows to 19424, so 500 were outliers. The next steps are to order and display data better, removing those columns that we just do not need and pivoting the rows and columns. "
   ]
  },
  {
   "cell_type": "code",
   "execution_count": 21,
   "metadata": {},
   "outputs": [
    {
     "data": {
      "text/html": [
       "<div>\n",
       "<style scoped>\n",
       "    .dataframe tbody tr th:only-of-type {\n",
       "        vertical-align: middle;\n",
       "    }\n",
       "\n",
       "    .dataframe tbody tr th {\n",
       "        vertical-align: top;\n",
       "    }\n",
       "\n",
       "    .dataframe thead th {\n",
       "        text-align: right;\n",
       "    }\n",
       "</style>\n",
       "<table border=\"1\" class=\"dataframe\">\n",
       "  <thead>\n",
       "    <tr style=\"text-align: right;\">\n",
       "      <th></th>\n",
       "      <th>Country</th>\n",
       "      <th>Indicator</th>\n",
       "      <th>Year</th>\n",
       "      <th>Real value</th>\n",
       "    </tr>\n",
       "  </thead>\n",
       "  <tbody>\n",
       "    <tr>\n",
       "      <th>2</th>\n",
       "      <td>DZA</td>\n",
       "      <td>Exports-Commercial services</td>\n",
       "      <td>2005</td>\n",
       "      <td>2.466000e+09</td>\n",
       "    </tr>\n",
       "    <tr>\n",
       "      <th>3</th>\n",
       "      <td>DZA</td>\n",
       "      <td>Exports-Commercial services</td>\n",
       "      <td>2006</td>\n",
       "      <td>2.512000e+09</td>\n",
       "    </tr>\n",
       "    <tr>\n",
       "      <th>4</th>\n",
       "      <td>DZA</td>\n",
       "      <td>Exports-Commercial services</td>\n",
       "      <td>2007</td>\n",
       "      <td>2.786733e+09</td>\n",
       "    </tr>\n",
       "    <tr>\n",
       "      <th>5</th>\n",
       "      <td>DZA</td>\n",
       "      <td>Exports-Commercial services</td>\n",
       "      <td>2008</td>\n",
       "      <td>3.412421e+09</td>\n",
       "    </tr>\n",
       "    <tr>\n",
       "      <th>6</th>\n",
       "      <td>DZA</td>\n",
       "      <td>Exports-Commercial services</td>\n",
       "      <td>2009</td>\n",
       "      <td>2.744716e+09</td>\n",
       "    </tr>\n",
       "    <tr>\n",
       "      <th>...</th>\n",
       "      <td>...</td>\n",
       "      <td>...</td>\n",
       "      <td>...</td>\n",
       "      <td>...</td>\n",
       "    </tr>\n",
       "    <tr>\n",
       "      <th>20371</th>\n",
       "      <td>YEM</td>\n",
       "      <td>Suicide</td>\n",
       "      <td>2019</td>\n",
       "      <td>5.800000e+00</td>\n",
       "    </tr>\n",
       "    <tr>\n",
       "      <th>20373</th>\n",
       "      <td>YEM</td>\n",
       "      <td>Alcohol per capita</td>\n",
       "      <td>2005</td>\n",
       "      <td>3.400000e-01</td>\n",
       "    </tr>\n",
       "    <tr>\n",
       "      <th>20374</th>\n",
       "      <td>YEM</td>\n",
       "      <td>Alcohol per capita</td>\n",
       "      <td>2010</td>\n",
       "      <td>1.800000e-01</td>\n",
       "    </tr>\n",
       "    <tr>\n",
       "      <th>20375</th>\n",
       "      <td>YEM</td>\n",
       "      <td>Alcohol per capita</td>\n",
       "      <td>2015</td>\n",
       "      <td>5.500000e-02</td>\n",
       "    </tr>\n",
       "    <tr>\n",
       "      <th>20376</th>\n",
       "      <td>YEM</td>\n",
       "      <td>Alcohol per capita</td>\n",
       "      <td>2018</td>\n",
       "      <td>5.100000e-02</td>\n",
       "    </tr>\n",
       "  </tbody>\n",
       "</table>\n",
       "<p>19847 rows × 4 columns</p>\n",
       "</div>"
      ],
      "text/plain": [
       "      Country                    Indicator  Year    Real value\n",
       "2         DZA  Exports-Commercial services  2005  2.466000e+09\n",
       "3         DZA  Exports-Commercial services  2006  2.512000e+09\n",
       "4         DZA  Exports-Commercial services  2007  2.786733e+09\n",
       "5         DZA  Exports-Commercial services  2008  3.412421e+09\n",
       "6         DZA  Exports-Commercial services  2009  2.744716e+09\n",
       "...       ...                          ...   ...           ...\n",
       "20371     YEM                      Suicide  2019  5.800000e+00\n",
       "20373     YEM           Alcohol per capita  2005  3.400000e-01\n",
       "20374     YEM           Alcohol per capita  2010  1.800000e-01\n",
       "20375     YEM           Alcohol per capita  2015  5.500000e-02\n",
       "20376     YEM           Alcohol per capita  2018  5.100000e-02\n",
       "\n",
       "[19847 rows x 4 columns]"
      ]
     },
     "execution_count": 21,
     "metadata": {},
     "output_type": "execute_result"
    }
   ],
   "source": [
    "df_limpio=sin_outliers.drop(['Lower value','Upper value'],axis=1)\n",
    "df_limpio"
   ]
  },
  {
   "cell_type": "code",
   "execution_count": null,
   "metadata": {},
   "outputs": [],
   "source": [
    "cols=df_limpio['Indicator'].unique().tolist()"
   ]
  },
  {
   "cell_type": "code",
   "execution_count": 22,
   "metadata": {},
   "outputs": [
    {
     "data": {
      "text/html": [
       "<div>\n",
       "<style scoped>\n",
       "    .dataframe tbody tr th:only-of-type {\n",
       "        vertical-align: middle;\n",
       "    }\n",
       "\n",
       "    .dataframe tbody tr th {\n",
       "        vertical-align: top;\n",
       "    }\n",
       "\n",
       "    .dataframe thead th {\n",
       "        text-align: right;\n",
       "    }\n",
       "</style>\n",
       "<table border=\"1\" class=\"dataframe\">\n",
       "  <thead>\n",
       "    <tr style=\"text-align: right;\">\n",
       "      <th>Indicator</th>\n",
       "      <th>Country</th>\n",
       "      <th>Year</th>\n",
       "      <th>Alcohol per capita</th>\n",
       "      <th>Education GExp</th>\n",
       "      <th>Employment-agriculture</th>\n",
       "      <th>Employment-industry</th>\n",
       "      <th>Employment-services</th>\n",
       "      <th>Exports-Commercial services</th>\n",
       "      <th>Exports-G&amp;S</th>\n",
       "      <th>Fertility rate</th>\n",
       "      <th>...</th>\n",
       "      <th>International taxes</th>\n",
       "      <th>Literacy rate</th>\n",
       "      <th>Mortality-infants</th>\n",
       "      <th>Mortality-pollution</th>\n",
       "      <th>Net migration</th>\n",
       "      <th>Ninis</th>\n",
       "      <th>R&amp;D GExp</th>\n",
       "      <th>Renewable electricity</th>\n",
       "      <th>Suicide</th>\n",
       "      <th>Workers high education</th>\n",
       "    </tr>\n",
       "  </thead>\n",
       "  <tbody>\n",
       "    <tr>\n",
       "      <th>0</th>\n",
       "      <td>ARE</td>\n",
       "      <td>1990</td>\n",
       "      <td>NaN</td>\n",
       "      <td>NaN</td>\n",
       "      <td>NaN</td>\n",
       "      <td>NaN</td>\n",
       "      <td>NaN</td>\n",
       "      <td>NaN</td>\n",
       "      <td>NaN</td>\n",
       "      <td>4.454</td>\n",
       "      <td>...</td>\n",
       "      <td>NaN</td>\n",
       "      <td>NaN</td>\n",
       "      <td>672.0</td>\n",
       "      <td>NaN</td>\n",
       "      <td>NaN</td>\n",
       "      <td>NaN</td>\n",
       "      <td>NaN</td>\n",
       "      <td>0.0</td>\n",
       "      <td>NaN</td>\n",
       "      <td>NaN</td>\n",
       "    </tr>\n",
       "    <tr>\n",
       "      <th>1</th>\n",
       "      <td>ARE</td>\n",
       "      <td>1991</td>\n",
       "      <td>NaN</td>\n",
       "      <td>NaN</td>\n",
       "      <td>8.46</td>\n",
       "      <td>33.330002</td>\n",
       "      <td>58.200001</td>\n",
       "      <td>NaN</td>\n",
       "      <td>NaN</td>\n",
       "      <td>4.253</td>\n",
       "      <td>...</td>\n",
       "      <td>NaN</td>\n",
       "      <td>NaN</td>\n",
       "      <td>645.0</td>\n",
       "      <td>NaN</td>\n",
       "      <td>NaN</td>\n",
       "      <td>NaN</td>\n",
       "      <td>NaN</td>\n",
       "      <td>0.0</td>\n",
       "      <td>NaN</td>\n",
       "      <td>NaN</td>\n",
       "    </tr>\n",
       "    <tr>\n",
       "      <th>2</th>\n",
       "      <td>ARE</td>\n",
       "      <td>1992</td>\n",
       "      <td>NaN</td>\n",
       "      <td>NaN</td>\n",
       "      <td>8.37</td>\n",
       "      <td>33.360001</td>\n",
       "      <td>58.279999</td>\n",
       "      <td>NaN</td>\n",
       "      <td>NaN</td>\n",
       "      <td>4.041</td>\n",
       "      <td>...</td>\n",
       "      <td>NaN</td>\n",
       "      <td>NaN</td>\n",
       "      <td>618.0</td>\n",
       "      <td>NaN</td>\n",
       "      <td>368126.0</td>\n",
       "      <td>NaN</td>\n",
       "      <td>NaN</td>\n",
       "      <td>0.0</td>\n",
       "      <td>NaN</td>\n",
       "      <td>NaN</td>\n",
       "    </tr>\n",
       "    <tr>\n",
       "      <th>3</th>\n",
       "      <td>ARE</td>\n",
       "      <td>1993</td>\n",
       "      <td>NaN</td>\n",
       "      <td>NaN</td>\n",
       "      <td>8.24</td>\n",
       "      <td>33.470001</td>\n",
       "      <td>58.290001</td>\n",
       "      <td>NaN</td>\n",
       "      <td>NaN</td>\n",
       "      <td>3.827</td>\n",
       "      <td>...</td>\n",
       "      <td>NaN</td>\n",
       "      <td>NaN</td>\n",
       "      <td>592.0</td>\n",
       "      <td>NaN</td>\n",
       "      <td>NaN</td>\n",
       "      <td>NaN</td>\n",
       "      <td>NaN</td>\n",
       "      <td>0.0</td>\n",
       "      <td>NaN</td>\n",
       "      <td>NaN</td>\n",
       "    </tr>\n",
       "    <tr>\n",
       "      <th>4</th>\n",
       "      <td>ARE</td>\n",
       "      <td>1994</td>\n",
       "      <td>NaN</td>\n",
       "      <td>NaN</td>\n",
       "      <td>8.13</td>\n",
       "      <td>33.490002</td>\n",
       "      <td>58.380001</td>\n",
       "      <td>NaN</td>\n",
       "      <td>NaN</td>\n",
       "      <td>3.618</td>\n",
       "      <td>...</td>\n",
       "      <td>NaN</td>\n",
       "      <td>NaN</td>\n",
       "      <td>568.0</td>\n",
       "      <td>NaN</td>\n",
       "      <td>NaN</td>\n",
       "      <td>NaN</td>\n",
       "      <td>NaN</td>\n",
       "      <td>0.0</td>\n",
       "      <td>NaN</td>\n",
       "      <td>NaN</td>\n",
       "    </tr>\n",
       "    <tr>\n",
       "      <th>...</th>\n",
       "      <td>...</td>\n",
       "      <td>...</td>\n",
       "      <td>...</td>\n",
       "      <td>...</td>\n",
       "      <td>...</td>\n",
       "      <td>...</td>\n",
       "      <td>...</td>\n",
       "      <td>...</td>\n",
       "      <td>...</td>\n",
       "      <td>...</td>\n",
       "      <td>...</td>\n",
       "      <td>...</td>\n",
       "      <td>...</td>\n",
       "      <td>...</td>\n",
       "      <td>...</td>\n",
       "      <td>...</td>\n",
       "      <td>...</td>\n",
       "      <td>...</td>\n",
       "      <td>...</td>\n",
       "      <td>...</td>\n",
       "      <td>...</td>\n",
       "    </tr>\n",
       "    <tr>\n",
       "      <th>1504</th>\n",
       "      <td>ZAF</td>\n",
       "      <td>2017</td>\n",
       "      <td>NaN</td>\n",
       "      <td>18.719290</td>\n",
       "      <td>5.28</td>\n",
       "      <td>23.340000</td>\n",
       "      <td>71.379997</td>\n",
       "      <td>1.614806e+10</td>\n",
       "      <td>1.042884e+11</td>\n",
       "      <td>2.430</td>\n",
       "      <td>...</td>\n",
       "      <td>4.993941e+10</td>\n",
       "      <td>87.046669</td>\n",
       "      <td>32777.0</td>\n",
       "      <td>NaN</td>\n",
       "      <td>727026.0</td>\n",
       "      <td>31.010000</td>\n",
       "      <td>0.83215</td>\n",
       "      <td>NaN</td>\n",
       "      <td>25.2</td>\n",
       "      <td>83.809998</td>\n",
       "    </tr>\n",
       "    <tr>\n",
       "      <th>1505</th>\n",
       "      <td>ZAF</td>\n",
       "      <td>2018</td>\n",
       "      <td>9.52</td>\n",
       "      <td>18.901590</td>\n",
       "      <td>5.16</td>\n",
       "      <td>23.129999</td>\n",
       "      <td>71.709999</td>\n",
       "      <td>1.670823e+10</td>\n",
       "      <td>1.112854e+11</td>\n",
       "      <td>2.405</td>\n",
       "      <td>...</td>\n",
       "      <td>5.572291e+10</td>\n",
       "      <td>NaN</td>\n",
       "      <td>31810.0</td>\n",
       "      <td>NaN</td>\n",
       "      <td>NaN</td>\n",
       "      <td>31.559999</td>\n",
       "      <td>NaN</td>\n",
       "      <td>NaN</td>\n",
       "      <td>24.1</td>\n",
       "      <td>82.879997</td>\n",
       "    </tr>\n",
       "    <tr>\n",
       "      <th>1506</th>\n",
       "      <td>ZAF</td>\n",
       "      <td>2019</td>\n",
       "      <td>NaN</td>\n",
       "      <td>19.596230</td>\n",
       "      <td>5.28</td>\n",
       "      <td>22.309999</td>\n",
       "      <td>72.410004</td>\n",
       "      <td>1.554886e+10</td>\n",
       "      <td>1.060698e+11</td>\n",
       "      <td>2.381</td>\n",
       "      <td>...</td>\n",
       "      <td>5.522342e+10</td>\n",
       "      <td>95.022972</td>\n",
       "      <td>30937.0</td>\n",
       "      <td>NaN</td>\n",
       "      <td>NaN</td>\n",
       "      <td>32.459999</td>\n",
       "      <td>NaN</td>\n",
       "      <td>NaN</td>\n",
       "      <td>23.5</td>\n",
       "      <td>82.019997</td>\n",
       "    </tr>\n",
       "    <tr>\n",
       "      <th>1507</th>\n",
       "      <td>ZAF</td>\n",
       "      <td>2020</td>\n",
       "      <td>NaN</td>\n",
       "      <td>19.527281</td>\n",
       "      <td>NaN</td>\n",
       "      <td>NaN</td>\n",
       "      <td>NaN</td>\n",
       "      <td>8.404204e+09</td>\n",
       "      <td>9.317915e+10</td>\n",
       "      <td>2.358</td>\n",
       "      <td>...</td>\n",
       "      <td>NaN</td>\n",
       "      <td>NaN</td>\n",
       "      <td>30153.0</td>\n",
       "      <td>NaN</td>\n",
       "      <td>NaN</td>\n",
       "      <td>32.400002</td>\n",
       "      <td>NaN</td>\n",
       "      <td>NaN</td>\n",
       "      <td>NaN</td>\n",
       "      <td>NaN</td>\n",
       "    </tr>\n",
       "    <tr>\n",
       "      <th>1508</th>\n",
       "      <td>ZAF</td>\n",
       "      <td>2021</td>\n",
       "      <td>NaN</td>\n",
       "      <td>18.417240</td>\n",
       "      <td>NaN</td>\n",
       "      <td>NaN</td>\n",
       "      <td>NaN</td>\n",
       "      <td>NaN</td>\n",
       "      <td>NaN</td>\n",
       "      <td>NaN</td>\n",
       "      <td>...</td>\n",
       "      <td>NaN</td>\n",
       "      <td>NaN</td>\n",
       "      <td>NaN</td>\n",
       "      <td>NaN</td>\n",
       "      <td>NaN</td>\n",
       "      <td>NaN</td>\n",
       "      <td>NaN</td>\n",
       "      <td>NaN</td>\n",
       "      <td>NaN</td>\n",
       "      <td>NaN</td>\n",
       "    </tr>\n",
       "  </tbody>\n",
       "</table>\n",
       "<p>1509 rows × 24 columns</p>\n",
       "</div>"
      ],
      "text/plain": [
       "Indicator Country  Year  Alcohol per capita  Education GExp  \\\n",
       "0             ARE  1990                 NaN             NaN   \n",
       "1             ARE  1991                 NaN             NaN   \n",
       "2             ARE  1992                 NaN             NaN   \n",
       "3             ARE  1993                 NaN             NaN   \n",
       "4             ARE  1994                 NaN             NaN   \n",
       "...           ...   ...                 ...             ...   \n",
       "1504          ZAF  2017                 NaN       18.719290   \n",
       "1505          ZAF  2018                9.52       18.901590   \n",
       "1506          ZAF  2019                 NaN       19.596230   \n",
       "1507          ZAF  2020                 NaN       19.527281   \n",
       "1508          ZAF  2021                 NaN       18.417240   \n",
       "\n",
       "Indicator  Employment-agriculture  Employment-industry  Employment-services  \\\n",
       "0                             NaN                  NaN                  NaN   \n",
       "1                            8.46            33.330002            58.200001   \n",
       "2                            8.37            33.360001            58.279999   \n",
       "3                            8.24            33.470001            58.290001   \n",
       "4                            8.13            33.490002            58.380001   \n",
       "...                           ...                  ...                  ...   \n",
       "1504                         5.28            23.340000            71.379997   \n",
       "1505                         5.16            23.129999            71.709999   \n",
       "1506                         5.28            22.309999            72.410004   \n",
       "1507                          NaN                  NaN                  NaN   \n",
       "1508                          NaN                  NaN                  NaN   \n",
       "\n",
       "Indicator  Exports-Commercial services   Exports-G&S  Fertility rate  ...  \\\n",
       "0                                  NaN           NaN           4.454  ...   \n",
       "1                                  NaN           NaN           4.253  ...   \n",
       "2                                  NaN           NaN           4.041  ...   \n",
       "3                                  NaN           NaN           3.827  ...   \n",
       "4                                  NaN           NaN           3.618  ...   \n",
       "...                                ...           ...             ...  ...   \n",
       "1504                      1.614806e+10  1.042884e+11           2.430  ...   \n",
       "1505                      1.670823e+10  1.112854e+11           2.405  ...   \n",
       "1506                      1.554886e+10  1.060698e+11           2.381  ...   \n",
       "1507                      8.404204e+09  9.317915e+10           2.358  ...   \n",
       "1508                               NaN           NaN             NaN  ...   \n",
       "\n",
       "Indicator  International taxes  Literacy rate  Mortality-infants  \\\n",
       "0                          NaN            NaN              672.0   \n",
       "1                          NaN            NaN              645.0   \n",
       "2                          NaN            NaN              618.0   \n",
       "3                          NaN            NaN              592.0   \n",
       "4                          NaN            NaN              568.0   \n",
       "...                        ...            ...                ...   \n",
       "1504              4.993941e+10      87.046669            32777.0   \n",
       "1505              5.572291e+10            NaN            31810.0   \n",
       "1506              5.522342e+10      95.022972            30937.0   \n",
       "1507                       NaN            NaN            30153.0   \n",
       "1508                       NaN            NaN                NaN   \n",
       "\n",
       "Indicator  Mortality-pollution  Net migration      Ninis  R&D GExp  \\\n",
       "0                          NaN            NaN        NaN       NaN   \n",
       "1                          NaN            NaN        NaN       NaN   \n",
       "2                          NaN       368126.0        NaN       NaN   \n",
       "3                          NaN            NaN        NaN       NaN   \n",
       "4                          NaN            NaN        NaN       NaN   \n",
       "...                        ...            ...        ...       ...   \n",
       "1504                       NaN       727026.0  31.010000   0.83215   \n",
       "1505                       NaN            NaN  31.559999       NaN   \n",
       "1506                       NaN            NaN  32.459999       NaN   \n",
       "1507                       NaN            NaN  32.400002       NaN   \n",
       "1508                       NaN            NaN        NaN       NaN   \n",
       "\n",
       "Indicator  Renewable electricity  Suicide  Workers high education  \n",
       "0                            0.0      NaN                     NaN  \n",
       "1                            0.0      NaN                     NaN  \n",
       "2                            0.0      NaN                     NaN  \n",
       "3                            0.0      NaN                     NaN  \n",
       "4                            0.0      NaN                     NaN  \n",
       "...                          ...      ...                     ...  \n",
       "1504                         NaN     25.2               83.809998  \n",
       "1505                         NaN     24.1               82.879997  \n",
       "1506                         NaN     23.5               82.019997  \n",
       "1507                         NaN      NaN                     NaN  \n",
       "1508                         NaN      NaN                     NaN  \n",
       "\n",
       "[1509 rows x 24 columns]"
      ]
     },
     "execution_count": 22,
     "metadata": {},
     "output_type": "execute_result"
    }
   ],
   "source": [
    "SilverDataFrame=df_limpio.set_index([\"Country\", \"Year\"]).pivot(columns=\"Indicator\", values=\"Real value\").reset_index()\n",
    "SilverDataFrame"
   ]
  },
  {
   "cell_type": "markdown",
   "metadata": {},
   "source": [
    "On the other hand, another big stone of normalizations is to nan/null values, which we have in all variables."
   ]
  },
  {
   "cell_type": "code",
   "execution_count": 23,
   "metadata": {},
   "outputs": [
    {
     "data": {
      "text/plain": [
       "13351"
      ]
     },
     "execution_count": 23,
     "metadata": {},
     "output_type": "execute_result"
    }
   ],
   "source": [
    "SilverDataFrame.isna().sum().sum()"
   ]
  },
  {
   "cell_type": "markdown",
   "metadata": {},
   "source": [
    "As we can observe, we have lots of missing data, and as there is no optimal way to fullfill these values, thus, we will test some to arrive to the optimal method for our data set."
   ]
  },
  {
   "cell_type": "markdown",
   "metadata": {},
   "source": [
    "First, we need to create some lists so our loops work."
   ]
  },
  {
   "cell_type": "code",
   "execution_count": 24,
   "metadata": {},
   "outputs": [],
   "source": [
    "df=SilverDataFrame\n",
    "europe_list=['DEU','FRA','SWE','GBR','ESP','HRV','POL','GRC','AUT','NLD']\n",
    "persian_list=['IRQ','QAT','ARE','SAU','AZE','YEM','YDR','OMN']\n",
    "naf_list=['DZA','EGY','LBY','ISR','TUR','MAR']\n",
    "saf_list=['SEN','ZAF','LBR','MOZ','CMR','NGA','GHA']\n",
    "asia_list=['BGD','IND','VNM','THA','IDN','PHL','KOR']\n",
    "latam_list=['MEX','BRA','ARG','PER','VEN','COL','CHL','PAN','CRI']\n",
    "two_list=['USA','CHN']\n",
    "country_list=europe_list+persian_list+naf_list+saf_list+asia_list+latam_list+two_list\n",
    "col_to_scale=['Gender equality','Exports-Commercial services','Renewable electricity','Employment-agriculture','Employment-industry','Employment-services','Exports-G&S','Fertility rate','Foreign investment','GDP','Education GExp','Workers high education','Literacy rate','Mortality-pollution','Net migration','Mortality-infants','Health services use','R&D GExp','Ninis','Suicide','International taxes','Alcohol per capita']\n"
   ]
  },
  {
   "cell_type": "markdown",
   "metadata": {},
   "source": [
    "We are attempting the linear interpolation, which is achieved by geometrically rendering a straight line between two adjacent points on a graph or plane."
   ]
  },
  {
   "cell_type": "code",
   "execution_count": 25,
   "metadata": {},
   "outputs": [
    {
     "data": {
      "text/plain": [
       "8519"
      ]
     },
     "execution_count": 25,
     "metadata": {},
     "output_type": "execute_result"
    }
   ],
   "source": [
    "dat=df.loc[df.loc[:, 'Country'] == country_list[0]]\n",
    "datc=dat.interpolate(method=\"linear\")\n",
    "data=datc\n",
    "\n",
    "for i in range(1,len(country_list)):\n",
    "    dat=df.loc[df.loc[:, 'Country'] == country_list[i]]\n",
    "    datc=dat.interpolate(method=\"linear\")\n",
    "    data=pd.concat((data, datc), axis = 0)\n",
    "data.isna().sum().sum()"
   ]
  },
  {
   "cell_type": "markdown",
   "metadata": {},
   "source": [
    "Here we attempt the backward filling. (Filling the previous cell with future values)"
   ]
  },
  {
   "cell_type": "code",
   "execution_count": 26,
   "metadata": {},
   "outputs": [
    {
     "data": {
      "text/plain": [
       "4500"
      ]
     },
     "execution_count": 26,
     "metadata": {},
     "output_type": "execute_result"
    }
   ],
   "source": [
    "dat=df.loc[df.loc[:, 'Country'] == country_list[0]]\n",
    "datc=dat.fillna(method='bfill')\n",
    "data=datc\n",
    "\n",
    "for i in range(1,len(country_list)):\n",
    "    dat=df.loc[df.loc[:, 'Country'] == country_list[i]]\n",
    "    datc=dat.fillna(method='bfill')\n",
    "    data=pd.concat((data, datc), axis = 0)\n",
    "data.isna().sum().sum()"
   ]
  },
  {
   "cell_type": "markdown",
   "metadata": {},
   "source": [
    "Here we will attempt the forward filling. (Filling the next cell with previous values)"
   ]
  },
  {
   "cell_type": "code",
   "execution_count": 27,
   "metadata": {},
   "outputs": [
    {
     "data": {
      "text/plain": [
       "8519"
      ]
     },
     "execution_count": 27,
     "metadata": {},
     "output_type": "execute_result"
    }
   ],
   "source": [
    "dat=df.loc[df.loc[:, 'Country'] == country_list[0]]\n",
    "datc=dat.fillna(method='ffill')\n",
    "data=datc\n",
    "\n",
    "for i in range(1,len(country_list)):\n",
    "    dat=df.loc[df.loc[:, 'Country'] == country_list[i]]\n",
    "    datc=dat.fillna(method='ffill')\n",
    "    data=pd.concat((data, datc), axis = 0)\n",
    "data.isna().sum().sum()"
   ]
  },
  {
   "cell_type": "markdown",
   "metadata": {},
   "source": [
    "And as none of the methods have worked out correctly, independently, we are going to mix them, to achieve a better result."
   ]
  },
  {
   "cell_type": "code",
   "execution_count": 28,
   "metadata": {},
   "outputs": [
    {
     "data": {
      "text/plain": [
       "8519"
      ]
     },
     "execution_count": 28,
     "metadata": {},
     "output_type": "execute_result"
    }
   ],
   "source": [
    "dat=df.loc[df.loc[:, 'Country'] == country_list[0]]\n",
    "datc=dat.interpolate(method=\"linear\")\n",
    "datc=datc.fillna(method='ffill')\n",
    "data=datc\n",
    "\n",
    "for i in range(1,len(country_list)):\n",
    "    dat=df.loc[df.loc[:, 'Country'] == country_list[i]]\n",
    "    datc=dat.interpolate(method=\"linear\")\n",
    "    datc=datc.fillna(method='ffill')\n",
    "    data=pd.concat((data, datc), axis = 0)\n",
    "data.isna().sum().sum()"
   ]
  },
  {
   "cell_type": "code",
   "execution_count": 29,
   "metadata": {},
   "outputs": [
    {
     "data": {
      "text/plain": [
       "2447"
      ]
     },
     "execution_count": 29,
     "metadata": {},
     "output_type": "execute_result"
    }
   ],
   "source": [
    "dat=df.loc[df.loc[:, 'Country'] == country_list[0]]\n",
    "datc=dat.interpolate(method=\"linear\")\n",
    "datc=datc.fillna(method='bfill')\n",
    "data=datc\n",
    "\n",
    "for i in range(1,len(country_list)):\n",
    "    dat=df.loc[df.loc[:, 'Country'] == country_list[i]]\n",
    "    datc=dat.interpolate(method=\"linear\")\n",
    "    datc=datc.fillna(method='bfill')\n",
    "    data=pd.concat((data, datc), axis = 0)\n",
    "data.isna().sum().sum()"
   ]
  },
  {
   "cell_type": "markdown",
   "metadata": {},
   "source": [
    "And finally, mixing the three methods all together."
   ]
  },
  {
   "cell_type": "code",
   "execution_count": 30,
   "metadata": {},
   "outputs": [
    {
     "data": {
      "text/plain": [
       "2447"
      ]
     },
     "execution_count": 30,
     "metadata": {},
     "output_type": "execute_result"
    }
   ],
   "source": [
    "dat=df.loc[df.loc[:, 'Country'] == country_list[0]]\n",
    "datc=dat.interpolate(method=\"linear\")\n",
    "datf=datc.fillna(method='bfill')\n",
    "datr=datf.fillna(method='ffill')\n",
    "data=datr\n",
    "\n",
    "for i in range(1,len(country_list)):\n",
    "    dat=df.loc[df.loc[:, 'Country'] == country_list[i]]\n",
    "    datc=dat.interpolate(method=\"linear\")\n",
    "    datc=datc.fillna(method='bfill')\n",
    "    datc=datc.fillna(method='ffill')\n",
    "    data=pd.concat((data, datc), axis = 0)\n",
    "data.isna().sum().sum()"
   ]
  },
  {
   "cell_type": "markdown",
   "metadata": {},
   "source": [
    "Fix explanation"
   ]
  },
  {
   "cell_type": "markdown",
   "metadata": {},
   "source": [
    "Therefore, the preferred method for the Nan values´ treatment that we are going to develop is a mix, between the linear interpolation and backwards filling. The linear interpolation a form of interpolation, which involves the generation of new values based on an existing set of values. Linear interpolation is achieved by geometrically rendering a straight line between two adjacent points on a graph or plane. Whereas the backwards filling, will help us to arrive to those values which have not been fullfilled with the linear interpolation."
   ]
  },
  {
   "cell_type": "markdown",
   "metadata": {},
   "source": [
    "Moreover, we are also going to scale all the values between the max and min of each country for each variable."
   ]
  },
  {
   "cell_type": "code",
   "execution_count": 31,
   "metadata": {},
   "outputs": [
    {
     "data": {
      "text/html": [
       "<div>\n",
       "<style scoped>\n",
       "    .dataframe tbody tr th:only-of-type {\n",
       "        vertical-align: middle;\n",
       "    }\n",
       "\n",
       "    .dataframe tbody tr th {\n",
       "        vertical-align: top;\n",
       "    }\n",
       "\n",
       "    .dataframe thead th {\n",
       "        text-align: right;\n",
       "    }\n",
       "</style>\n",
       "<table border=\"1\" class=\"dataframe\">\n",
       "  <thead>\n",
       "    <tr style=\"text-align: right;\">\n",
       "      <th>Indicator</th>\n",
       "      <th>Country</th>\n",
       "      <th>Year</th>\n",
       "      <th>Alcohol per capita</th>\n",
       "      <th>Education GExp</th>\n",
       "      <th>Employment-agriculture</th>\n",
       "      <th>Employment-industry</th>\n",
       "      <th>Employment-services</th>\n",
       "      <th>Exports-Commercial services</th>\n",
       "      <th>Exports-G&amp;S</th>\n",
       "      <th>Fertility rate</th>\n",
       "      <th>...</th>\n",
       "      <th>International taxes</th>\n",
       "      <th>Literacy rate</th>\n",
       "      <th>Mortality-infants</th>\n",
       "      <th>Mortality-pollution</th>\n",
       "      <th>Net migration</th>\n",
       "      <th>Ninis</th>\n",
       "      <th>R&amp;D GExp</th>\n",
       "      <th>Renewable electricity</th>\n",
       "      <th>Suicide</th>\n",
       "      <th>Workers high education</th>\n",
       "    </tr>\n",
       "  </thead>\n",
       "  <tbody>\n",
       "    <tr>\n",
       "      <th>347</th>\n",
       "      <td>DEU</td>\n",
       "      <td>1990</td>\n",
       "      <td>1.00000</td>\n",
       "      <td>0.443529</td>\n",
       "      <td>1.000000</td>\n",
       "      <td>1.000000</td>\n",
       "      <td>0.000000</td>\n",
       "      <td>0.002386</td>\n",
       "      <td>0.000000</td>\n",
       "      <td>0.636364</td>\n",
       "      <td>...</td>\n",
       "      <td>NaN</td>\n",
       "      <td>NaN</td>\n",
       "      <td>1.000000</td>\n",
       "      <td>NaN</td>\n",
       "      <td>0.966124</td>\n",
       "      <td>0.77758</td>\n",
       "      <td>0.000000</td>\n",
       "      <td>0.000000</td>\n",
       "      <td>0.956522</td>\n",
       "      <td>1.0</td>\n",
       "    </tr>\n",
       "    <tr>\n",
       "      <th>348</th>\n",
       "      <td>DEU</td>\n",
       "      <td>1991</td>\n",
       "      <td>1.00000</td>\n",
       "      <td>0.443529</td>\n",
       "      <td>1.000000</td>\n",
       "      <td>1.000000</td>\n",
       "      <td>0.000000</td>\n",
       "      <td>0.000000</td>\n",
       "      <td>0.025535</td>\n",
       "      <td>0.272727</td>\n",
       "      <td>...</td>\n",
       "      <td>NaN</td>\n",
       "      <td>NaN</td>\n",
       "      <td>1.000000</td>\n",
       "      <td>NaN</td>\n",
       "      <td>0.966124</td>\n",
       "      <td>0.77758</td>\n",
       "      <td>0.000000</td>\n",
       "      <td>0.002525</td>\n",
       "      <td>0.956522</td>\n",
       "      <td>1.0</td>\n",
       "    </tr>\n",
       "    <tr>\n",
       "      <th>349</th>\n",
       "      <td>DEU</td>\n",
       "      <td>1992</td>\n",
       "      <td>1.00000</td>\n",
       "      <td>0.443529</td>\n",
       "      <td>0.964758</td>\n",
       "      <td>0.966793</td>\n",
       "      <td>0.034321</td>\n",
       "      <td>0.018415</td>\n",
       "      <td>0.046400</td>\n",
       "      <td>0.151515</td>\n",
       "      <td>...</td>\n",
       "      <td>NaN</td>\n",
       "      <td>NaN</td>\n",
       "      <td>0.875324</td>\n",
       "      <td>NaN</td>\n",
       "      <td>0.966124</td>\n",
       "      <td>0.77758</td>\n",
       "      <td>0.000000</td>\n",
       "      <td>0.004025</td>\n",
       "      <td>0.956522</td>\n",
       "      <td>1.0</td>\n",
       "    </tr>\n",
       "    <tr>\n",
       "      <th>350</th>\n",
       "      <td>DEU</td>\n",
       "      <td>1993</td>\n",
       "      <td>1.00000</td>\n",
       "      <td>0.443529</td>\n",
       "      <td>0.942731</td>\n",
       "      <td>0.907021</td>\n",
       "      <td>0.088143</td>\n",
       "      <td>0.012182</td>\n",
       "      <td>0.010957</td>\n",
       "      <td>0.121212</td>\n",
       "      <td>...</td>\n",
       "      <td>NaN</td>\n",
       "      <td>NaN</td>\n",
       "      <td>0.765220</td>\n",
       "      <td>NaN</td>\n",
       "      <td>0.823187</td>\n",
       "      <td>0.77758</td>\n",
       "      <td>0.000000</td>\n",
       "      <td>0.005848</td>\n",
       "      <td>0.956522</td>\n",
       "      <td>1.0</td>\n",
       "    </tr>\n",
       "    <tr>\n",
       "      <th>351</th>\n",
       "      <td>DEU</td>\n",
       "      <td>1994</td>\n",
       "      <td>1.00000</td>\n",
       "      <td>0.380220</td>\n",
       "      <td>0.903084</td>\n",
       "      <td>0.876660</td>\n",
       "      <td>0.119345</td>\n",
       "      <td>0.018513</td>\n",
       "      <td>0.041261</td>\n",
       "      <td>0.000000</td>\n",
       "      <td>...</td>\n",
       "      <td>NaN</td>\n",
       "      <td>NaN</td>\n",
       "      <td>0.670984</td>\n",
       "      <td>NaN</td>\n",
       "      <td>0.680250</td>\n",
       "      <td>0.77758</td>\n",
       "      <td>0.000000</td>\n",
       "      <td>0.011012</td>\n",
       "      <td>0.956522</td>\n",
       "      <td>1.0</td>\n",
       "    </tr>\n",
       "    <tr>\n",
       "      <th>...</th>\n",
       "      <td>...</td>\n",
       "      <td>...</td>\n",
       "      <td>...</td>\n",
       "      <td>...</td>\n",
       "      <td>...</td>\n",
       "      <td>...</td>\n",
       "      <td>...</td>\n",
       "      <td>...</td>\n",
       "      <td>...</td>\n",
       "      <td>...</td>\n",
       "      <td>...</td>\n",
       "      <td>...</td>\n",
       "      <td>...</td>\n",
       "      <td>...</td>\n",
       "      <td>...</td>\n",
       "      <td>...</td>\n",
       "      <td>...</td>\n",
       "      <td>...</td>\n",
       "      <td>...</td>\n",
       "      <td>...</td>\n",
       "      <td>...</td>\n",
       "    </tr>\n",
       "    <tr>\n",
       "      <th>247</th>\n",
       "      <td>CHN</td>\n",
       "      <td>2016</td>\n",
       "      <td>0.99002</td>\n",
       "      <td>0.246406</td>\n",
       "      <td>0.068956</td>\n",
       "      <td>0.831461</td>\n",
       "      <td>0.867725</td>\n",
       "      <td>0.849888</td>\n",
       "      <td>0.804316</td>\n",
       "      <td>0.588235</td>\n",
       "      <td>...</td>\n",
       "      <td>0.790308</td>\n",
       "      <td>0.977482</td>\n",
       "      <td>0.042573</td>\n",
       "      <td>NaN</td>\n",
       "      <td>0.264203</td>\n",
       "      <td>NaN</td>\n",
       "      <td>0.974482</td>\n",
       "      <td>1.000000</td>\n",
       "      <td>0.016129</td>\n",
       "      <td>NaN</td>\n",
       "    </tr>\n",
       "    <tr>\n",
       "      <th>248</th>\n",
       "      <td>CHN</td>\n",
       "      <td>2017</td>\n",
       "      <td>0.98004</td>\n",
       "      <td>0.212024</td>\n",
       "      <td>0.048007</td>\n",
       "      <td>0.753933</td>\n",
       "      <td>0.917460</td>\n",
       "      <td>0.867490</td>\n",
       "      <td>0.888169</td>\n",
       "      <td>0.647059</td>\n",
       "      <td>...</td>\n",
       "      <td>1.000000</td>\n",
       "      <td>0.988741</td>\n",
       "      <td>0.030745</td>\n",
       "      <td>NaN</td>\n",
       "      <td>0.243061</td>\n",
       "      <td>NaN</td>\n",
       "      <td>0.984436</td>\n",
       "      <td>1.000000</td>\n",
       "      <td>0.000000</td>\n",
       "      <td>NaN</td>\n",
       "    </tr>\n",
       "    <tr>\n",
       "      <th>249</th>\n",
       "      <td>CHN</td>\n",
       "      <td>2018</td>\n",
       "      <td>0.97006</td>\n",
       "      <td>0.000000</td>\n",
       "      <td>0.021530</td>\n",
       "      <td>0.777528</td>\n",
       "      <td>0.942152</td>\n",
       "      <td>0.953748</td>\n",
       "      <td>0.974699</td>\n",
       "      <td>0.698529</td>\n",
       "      <td>...</td>\n",
       "      <td>0.920304</td>\n",
       "      <td>1.000000</td>\n",
       "      <td>0.019650</td>\n",
       "      <td>NaN</td>\n",
       "      <td>0.243061</td>\n",
       "      <td>NaN</td>\n",
       "      <td>1.000000</td>\n",
       "      <td>1.000000</td>\n",
       "      <td>0.000000</td>\n",
       "      <td>NaN</td>\n",
       "    </tr>\n",
       "    <tr>\n",
       "      <th>250</th>\n",
       "      <td>CHN</td>\n",
       "      <td>2019</td>\n",
       "      <td>0.97006</td>\n",
       "      <td>0.000000</td>\n",
       "      <td>0.000000</td>\n",
       "      <td>0.676405</td>\n",
       "      <td>1.000000</td>\n",
       "      <td>1.000000</td>\n",
       "      <td>0.964730</td>\n",
       "      <td>0.742647</td>\n",
       "      <td>...</td>\n",
       "      <td>0.920304</td>\n",
       "      <td>1.000000</td>\n",
       "      <td>0.009383</td>\n",
       "      <td>NaN</td>\n",
       "      <td>0.243061</td>\n",
       "      <td>NaN</td>\n",
       "      <td>1.000000</td>\n",
       "      <td>1.000000</td>\n",
       "      <td>0.000000</td>\n",
       "      <td>NaN</td>\n",
       "    </tr>\n",
       "    <tr>\n",
       "      <th>251</th>\n",
       "      <td>CHN</td>\n",
       "      <td>2020</td>\n",
       "      <td>0.97006</td>\n",
       "      <td>0.000000</td>\n",
       "      <td>0.000000</td>\n",
       "      <td>0.676405</td>\n",
       "      <td>1.000000</td>\n",
       "      <td>0.957514</td>\n",
       "      <td>1.000000</td>\n",
       "      <td>0.772059</td>\n",
       "      <td>...</td>\n",
       "      <td>0.920304</td>\n",
       "      <td>1.000000</td>\n",
       "      <td>0.000000</td>\n",
       "      <td>NaN</td>\n",
       "      <td>0.243061</td>\n",
       "      <td>NaN</td>\n",
       "      <td>1.000000</td>\n",
       "      <td>1.000000</td>\n",
       "      <td>0.000000</td>\n",
       "      <td>NaN</td>\n",
       "    </tr>\n",
       "  </tbody>\n",
       "</table>\n",
       "<p>1509 rows × 24 columns</p>\n",
       "</div>"
      ],
      "text/plain": [
       "Indicator Country  Year  Alcohol per capita  Education GExp  \\\n",
       "347           DEU  1990             1.00000        0.443529   \n",
       "348           DEU  1991             1.00000        0.443529   \n",
       "349           DEU  1992             1.00000        0.443529   \n",
       "350           DEU  1993             1.00000        0.443529   \n",
       "351           DEU  1994             1.00000        0.380220   \n",
       "..            ...   ...                 ...             ...   \n",
       "247           CHN  2016             0.99002        0.246406   \n",
       "248           CHN  2017             0.98004        0.212024   \n",
       "249           CHN  2018             0.97006        0.000000   \n",
       "250           CHN  2019             0.97006        0.000000   \n",
       "251           CHN  2020             0.97006        0.000000   \n",
       "\n",
       "Indicator  Employment-agriculture  Employment-industry  Employment-services  \\\n",
       "347                      1.000000             1.000000             0.000000   \n",
       "348                      1.000000             1.000000             0.000000   \n",
       "349                      0.964758             0.966793             0.034321   \n",
       "350                      0.942731             0.907021             0.088143   \n",
       "351                      0.903084             0.876660             0.119345   \n",
       "..                            ...                  ...                  ...   \n",
       "247                      0.068956             0.831461             0.867725   \n",
       "248                      0.048007             0.753933             0.917460   \n",
       "249                      0.021530             0.777528             0.942152   \n",
       "250                      0.000000             0.676405             1.000000   \n",
       "251                      0.000000             0.676405             1.000000   \n",
       "\n",
       "Indicator  Exports-Commercial services  Exports-G&S  Fertility rate  ...  \\\n",
       "347                           0.002386     0.000000        0.636364  ...   \n",
       "348                           0.000000     0.025535        0.272727  ...   \n",
       "349                           0.018415     0.046400        0.151515  ...   \n",
       "350                           0.012182     0.010957        0.121212  ...   \n",
       "351                           0.018513     0.041261        0.000000  ...   \n",
       "..                                 ...          ...             ...  ...   \n",
       "247                           0.849888     0.804316        0.588235  ...   \n",
       "248                           0.867490     0.888169        0.647059  ...   \n",
       "249                           0.953748     0.974699        0.698529  ...   \n",
       "250                           1.000000     0.964730        0.742647  ...   \n",
       "251                           0.957514     1.000000        0.772059  ...   \n",
       "\n",
       "Indicator  International taxes  Literacy rate  Mortality-infants  \\\n",
       "347                        NaN            NaN           1.000000   \n",
       "348                        NaN            NaN           1.000000   \n",
       "349                        NaN            NaN           0.875324   \n",
       "350                        NaN            NaN           0.765220   \n",
       "351                        NaN            NaN           0.670984   \n",
       "..                         ...            ...                ...   \n",
       "247                   0.790308       0.977482           0.042573   \n",
       "248                   1.000000       0.988741           0.030745   \n",
       "249                   0.920304       1.000000           0.019650   \n",
       "250                   0.920304       1.000000           0.009383   \n",
       "251                   0.920304       1.000000           0.000000   \n",
       "\n",
       "Indicator  Mortality-pollution  Net migration    Ninis  R&D GExp  \\\n",
       "347                        NaN       0.966124  0.77758  0.000000   \n",
       "348                        NaN       0.966124  0.77758  0.000000   \n",
       "349                        NaN       0.966124  0.77758  0.000000   \n",
       "350                        NaN       0.823187  0.77758  0.000000   \n",
       "351                        NaN       0.680250  0.77758  0.000000   \n",
       "..                         ...            ...      ...       ...   \n",
       "247                        NaN       0.264203      NaN  0.974482   \n",
       "248                        NaN       0.243061      NaN  0.984436   \n",
       "249                        NaN       0.243061      NaN  1.000000   \n",
       "250                        NaN       0.243061      NaN  1.000000   \n",
       "251                        NaN       0.243061      NaN  1.000000   \n",
       "\n",
       "Indicator  Renewable electricity   Suicide  Workers high education  \n",
       "347                     0.000000  0.956522                     1.0  \n",
       "348                     0.002525  0.956522                     1.0  \n",
       "349                     0.004025  0.956522                     1.0  \n",
       "350                     0.005848  0.956522                     1.0  \n",
       "351                     0.011012  0.956522                     1.0  \n",
       "..                           ...       ...                     ...  \n",
       "247                     1.000000  0.016129                     NaN  \n",
       "248                     1.000000  0.000000                     NaN  \n",
       "249                     1.000000  0.000000                     NaN  \n",
       "250                     1.000000  0.000000                     NaN  \n",
       "251                     1.000000  0.000000                     NaN  \n",
       "\n",
       "[1509 rows x 24 columns]"
      ]
     },
     "execution_count": 31,
     "metadata": {},
     "output_type": "execute_result"
    }
   ],
   "source": [
    "dat=df.loc[df.loc[:, 'Country'] == country_list[0]]\n",
    "datc=dat.interpolate(method=\"linear\")\n",
    "datf=datc.fillna(method='bfill')\n",
    "datr=datf.fillna(method='ffill')\n",
    "data=datr\n",
    "\n",
    "for i in range(1,len(country_list)):\n",
    "    dat=df.loc[df.loc[:, 'Country'] == country_list[i]]\n",
    "    datc=dat.interpolate(method=\"linear\")\n",
    "    datc=datc.fillna(method='bfill')\n",
    "    datc=datc.fillna(method='ffill')\n",
    "    data=pd.concat((data, datc), axis = 0)\n",
    "data"
   ]
  },
  {
   "cell_type": "markdown",
   "metadata": {},
   "source": [
    "Now, we will drop the columns which have over 1000 missing values, because the absence of data creates an unreliable source."
   ]
  },
  {
   "cell_type": "code",
   "execution_count": 32,
   "metadata": {},
   "outputs": [
    {
     "name": "stdout",
     "output_type": "stream",
     "text": [
      "Gender equality\n",
      "Mortality-pollution\n"
     ]
    },
    {
     "data": {
      "text/html": [
       "<div>\n",
       "<style scoped>\n",
       "    .dataframe tbody tr th:only-of-type {\n",
       "        vertical-align: middle;\n",
       "    }\n",
       "\n",
       "    .dataframe tbody tr th {\n",
       "        vertical-align: top;\n",
       "    }\n",
       "\n",
       "    .dataframe thead th {\n",
       "        text-align: right;\n",
       "    }\n",
       "</style>\n",
       "<table border=\"1\" class=\"dataframe\">\n",
       "  <thead>\n",
       "    <tr style=\"text-align: right;\">\n",
       "      <th>Indicator</th>\n",
       "      <th>Country</th>\n",
       "      <th>Year</th>\n",
       "      <th>Alcohol per capita</th>\n",
       "      <th>Education GExp</th>\n",
       "      <th>Employment-agriculture</th>\n",
       "      <th>Employment-industry</th>\n",
       "      <th>Employment-services</th>\n",
       "      <th>Exports-Commercial services</th>\n",
       "      <th>Exports-G&amp;S</th>\n",
       "      <th>Fertility rate</th>\n",
       "      <th>...</th>\n",
       "      <th>Health services use</th>\n",
       "      <th>International taxes</th>\n",
       "      <th>Literacy rate</th>\n",
       "      <th>Mortality-infants</th>\n",
       "      <th>Net migration</th>\n",
       "      <th>Ninis</th>\n",
       "      <th>R&amp;D GExp</th>\n",
       "      <th>Renewable electricity</th>\n",
       "      <th>Suicide</th>\n",
       "      <th>Workers high education</th>\n",
       "    </tr>\n",
       "  </thead>\n",
       "  <tbody>\n",
       "    <tr>\n",
       "      <th>347</th>\n",
       "      <td>DEU</td>\n",
       "      <td>1990</td>\n",
       "      <td>1.00000</td>\n",
       "      <td>0.443529</td>\n",
       "      <td>1.000000</td>\n",
       "      <td>1.000000</td>\n",
       "      <td>0.000000</td>\n",
       "      <td>0.002386</td>\n",
       "      <td>0.000000</td>\n",
       "      <td>0.636364</td>\n",
       "      <td>...</td>\n",
       "      <td>0.000000</td>\n",
       "      <td>NaN</td>\n",
       "      <td>NaN</td>\n",
       "      <td>1.000000</td>\n",
       "      <td>0.966124</td>\n",
       "      <td>0.77758</td>\n",
       "      <td>0.000000</td>\n",
       "      <td>0.000000</td>\n",
       "      <td>0.956522</td>\n",
       "      <td>1.0</td>\n",
       "    </tr>\n",
       "    <tr>\n",
       "      <th>348</th>\n",
       "      <td>DEU</td>\n",
       "      <td>1991</td>\n",
       "      <td>1.00000</td>\n",
       "      <td>0.443529</td>\n",
       "      <td>1.000000</td>\n",
       "      <td>1.000000</td>\n",
       "      <td>0.000000</td>\n",
       "      <td>0.000000</td>\n",
       "      <td>0.025535</td>\n",
       "      <td>0.272727</td>\n",
       "      <td>...</td>\n",
       "      <td>0.000000</td>\n",
       "      <td>NaN</td>\n",
       "      <td>NaN</td>\n",
       "      <td>1.000000</td>\n",
       "      <td>0.966124</td>\n",
       "      <td>0.77758</td>\n",
       "      <td>0.000000</td>\n",
       "      <td>0.002525</td>\n",
       "      <td>0.956522</td>\n",
       "      <td>1.0</td>\n",
       "    </tr>\n",
       "    <tr>\n",
       "      <th>349</th>\n",
       "      <td>DEU</td>\n",
       "      <td>1992</td>\n",
       "      <td>1.00000</td>\n",
       "      <td>0.443529</td>\n",
       "      <td>0.964758</td>\n",
       "      <td>0.966793</td>\n",
       "      <td>0.034321</td>\n",
       "      <td>0.018415</td>\n",
       "      <td>0.046400</td>\n",
       "      <td>0.151515</td>\n",
       "      <td>...</td>\n",
       "      <td>0.000000</td>\n",
       "      <td>NaN</td>\n",
       "      <td>NaN</td>\n",
       "      <td>0.875324</td>\n",
       "      <td>0.966124</td>\n",
       "      <td>0.77758</td>\n",
       "      <td>0.000000</td>\n",
       "      <td>0.004025</td>\n",
       "      <td>0.956522</td>\n",
       "      <td>1.0</td>\n",
       "    </tr>\n",
       "    <tr>\n",
       "      <th>350</th>\n",
       "      <td>DEU</td>\n",
       "      <td>1993</td>\n",
       "      <td>1.00000</td>\n",
       "      <td>0.443529</td>\n",
       "      <td>0.942731</td>\n",
       "      <td>0.907021</td>\n",
       "      <td>0.088143</td>\n",
       "      <td>0.012182</td>\n",
       "      <td>0.010957</td>\n",
       "      <td>0.121212</td>\n",
       "      <td>...</td>\n",
       "      <td>0.000000</td>\n",
       "      <td>NaN</td>\n",
       "      <td>NaN</td>\n",
       "      <td>0.765220</td>\n",
       "      <td>0.823187</td>\n",
       "      <td>0.77758</td>\n",
       "      <td>0.000000</td>\n",
       "      <td>0.005848</td>\n",
       "      <td>0.956522</td>\n",
       "      <td>1.0</td>\n",
       "    </tr>\n",
       "    <tr>\n",
       "      <th>351</th>\n",
       "      <td>DEU</td>\n",
       "      <td>1994</td>\n",
       "      <td>1.00000</td>\n",
       "      <td>0.380220</td>\n",
       "      <td>0.903084</td>\n",
       "      <td>0.876660</td>\n",
       "      <td>0.119345</td>\n",
       "      <td>0.018513</td>\n",
       "      <td>0.041261</td>\n",
       "      <td>0.000000</td>\n",
       "      <td>...</td>\n",
       "      <td>0.000000</td>\n",
       "      <td>NaN</td>\n",
       "      <td>NaN</td>\n",
       "      <td>0.670984</td>\n",
       "      <td>0.680250</td>\n",
       "      <td>0.77758</td>\n",
       "      <td>0.000000</td>\n",
       "      <td>0.011012</td>\n",
       "      <td>0.956522</td>\n",
       "      <td>1.0</td>\n",
       "    </tr>\n",
       "    <tr>\n",
       "      <th>...</th>\n",
       "      <td>...</td>\n",
       "      <td>...</td>\n",
       "      <td>...</td>\n",
       "      <td>...</td>\n",
       "      <td>...</td>\n",
       "      <td>...</td>\n",
       "      <td>...</td>\n",
       "      <td>...</td>\n",
       "      <td>...</td>\n",
       "      <td>...</td>\n",
       "      <td>...</td>\n",
       "      <td>...</td>\n",
       "      <td>...</td>\n",
       "      <td>...</td>\n",
       "      <td>...</td>\n",
       "      <td>...</td>\n",
       "      <td>...</td>\n",
       "      <td>...</td>\n",
       "      <td>...</td>\n",
       "      <td>...</td>\n",
       "      <td>...</td>\n",
       "    </tr>\n",
       "    <tr>\n",
       "      <th>247</th>\n",
       "      <td>CHN</td>\n",
       "      <td>2016</td>\n",
       "      <td>0.99002</td>\n",
       "      <td>0.246406</td>\n",
       "      <td>0.068956</td>\n",
       "      <td>0.831461</td>\n",
       "      <td>0.867725</td>\n",
       "      <td>0.849888</td>\n",
       "      <td>0.804316</td>\n",
       "      <td>0.588235</td>\n",
       "      <td>...</td>\n",
       "      <td>0.822241</td>\n",
       "      <td>0.790308</td>\n",
       "      <td>0.977482</td>\n",
       "      <td>0.042573</td>\n",
       "      <td>0.264203</td>\n",
       "      <td>NaN</td>\n",
       "      <td>0.974482</td>\n",
       "      <td>1.000000</td>\n",
       "      <td>0.016129</td>\n",
       "      <td>NaN</td>\n",
       "    </tr>\n",
       "    <tr>\n",
       "      <th>248</th>\n",
       "      <td>CHN</td>\n",
       "      <td>2017</td>\n",
       "      <td>0.98004</td>\n",
       "      <td>0.212024</td>\n",
       "      <td>0.048007</td>\n",
       "      <td>0.753933</td>\n",
       "      <td>0.917460</td>\n",
       "      <td>0.867490</td>\n",
       "      <td>0.888169</td>\n",
       "      <td>0.647059</td>\n",
       "      <td>...</td>\n",
       "      <td>0.868064</td>\n",
       "      <td>1.000000</td>\n",
       "      <td>0.988741</td>\n",
       "      <td>0.030745</td>\n",
       "      <td>0.243061</td>\n",
       "      <td>NaN</td>\n",
       "      <td>0.984436</td>\n",
       "      <td>1.000000</td>\n",
       "      <td>0.000000</td>\n",
       "      <td>NaN</td>\n",
       "    </tr>\n",
       "    <tr>\n",
       "      <th>249</th>\n",
       "      <td>CHN</td>\n",
       "      <td>2018</td>\n",
       "      <td>0.97006</td>\n",
       "      <td>0.000000</td>\n",
       "      <td>0.021530</td>\n",
       "      <td>0.777528</td>\n",
       "      <td>0.942152</td>\n",
       "      <td>0.953748</td>\n",
       "      <td>0.974699</td>\n",
       "      <td>0.698529</td>\n",
       "      <td>...</td>\n",
       "      <td>0.912945</td>\n",
       "      <td>0.920304</td>\n",
       "      <td>1.000000</td>\n",
       "      <td>0.019650</td>\n",
       "      <td>0.243061</td>\n",
       "      <td>NaN</td>\n",
       "      <td>1.000000</td>\n",
       "      <td>1.000000</td>\n",
       "      <td>0.000000</td>\n",
       "      <td>NaN</td>\n",
       "    </tr>\n",
       "    <tr>\n",
       "      <th>250</th>\n",
       "      <td>CHN</td>\n",
       "      <td>2019</td>\n",
       "      <td>0.97006</td>\n",
       "      <td>0.000000</td>\n",
       "      <td>0.000000</td>\n",
       "      <td>0.676405</td>\n",
       "      <td>1.000000</td>\n",
       "      <td>1.000000</td>\n",
       "      <td>0.964730</td>\n",
       "      <td>0.742647</td>\n",
       "      <td>...</td>\n",
       "      <td>0.956910</td>\n",
       "      <td>0.920304</td>\n",
       "      <td>1.000000</td>\n",
       "      <td>0.009383</td>\n",
       "      <td>0.243061</td>\n",
       "      <td>NaN</td>\n",
       "      <td>1.000000</td>\n",
       "      <td>1.000000</td>\n",
       "      <td>0.000000</td>\n",
       "      <td>NaN</td>\n",
       "    </tr>\n",
       "    <tr>\n",
       "      <th>251</th>\n",
       "      <td>CHN</td>\n",
       "      <td>2020</td>\n",
       "      <td>0.97006</td>\n",
       "      <td>0.000000</td>\n",
       "      <td>0.000000</td>\n",
       "      <td>0.676405</td>\n",
       "      <td>1.000000</td>\n",
       "      <td>0.957514</td>\n",
       "      <td>1.000000</td>\n",
       "      <td>0.772059</td>\n",
       "      <td>...</td>\n",
       "      <td>1.000000</td>\n",
       "      <td>0.920304</td>\n",
       "      <td>1.000000</td>\n",
       "      <td>0.000000</td>\n",
       "      <td>0.243061</td>\n",
       "      <td>NaN</td>\n",
       "      <td>1.000000</td>\n",
       "      <td>1.000000</td>\n",
       "      <td>0.000000</td>\n",
       "      <td>NaN</td>\n",
       "    </tr>\n",
       "  </tbody>\n",
       "</table>\n",
       "<p>1509 rows × 22 columns</p>\n",
       "</div>"
      ],
      "text/plain": [
       "Indicator Country  Year  Alcohol per capita  Education GExp  \\\n",
       "347           DEU  1990             1.00000        0.443529   \n",
       "348           DEU  1991             1.00000        0.443529   \n",
       "349           DEU  1992             1.00000        0.443529   \n",
       "350           DEU  1993             1.00000        0.443529   \n",
       "351           DEU  1994             1.00000        0.380220   \n",
       "..            ...   ...                 ...             ...   \n",
       "247           CHN  2016             0.99002        0.246406   \n",
       "248           CHN  2017             0.98004        0.212024   \n",
       "249           CHN  2018             0.97006        0.000000   \n",
       "250           CHN  2019             0.97006        0.000000   \n",
       "251           CHN  2020             0.97006        0.000000   \n",
       "\n",
       "Indicator  Employment-agriculture  Employment-industry  Employment-services  \\\n",
       "347                      1.000000             1.000000             0.000000   \n",
       "348                      1.000000             1.000000             0.000000   \n",
       "349                      0.964758             0.966793             0.034321   \n",
       "350                      0.942731             0.907021             0.088143   \n",
       "351                      0.903084             0.876660             0.119345   \n",
       "..                            ...                  ...                  ...   \n",
       "247                      0.068956             0.831461             0.867725   \n",
       "248                      0.048007             0.753933             0.917460   \n",
       "249                      0.021530             0.777528             0.942152   \n",
       "250                      0.000000             0.676405             1.000000   \n",
       "251                      0.000000             0.676405             1.000000   \n",
       "\n",
       "Indicator  Exports-Commercial services  Exports-G&S  Fertility rate  ...  \\\n",
       "347                           0.002386     0.000000        0.636364  ...   \n",
       "348                           0.000000     0.025535        0.272727  ...   \n",
       "349                           0.018415     0.046400        0.151515  ...   \n",
       "350                           0.012182     0.010957        0.121212  ...   \n",
       "351                           0.018513     0.041261        0.000000  ...   \n",
       "..                                 ...          ...             ...  ...   \n",
       "247                           0.849888     0.804316        0.588235  ...   \n",
       "248                           0.867490     0.888169        0.647059  ...   \n",
       "249                           0.953748     0.974699        0.698529  ...   \n",
       "250                           1.000000     0.964730        0.742647  ...   \n",
       "251                           0.957514     1.000000        0.772059  ...   \n",
       "\n",
       "Indicator  Health services use  International taxes  Literacy rate  \\\n",
       "347                   0.000000                  NaN            NaN   \n",
       "348                   0.000000                  NaN            NaN   \n",
       "349                   0.000000                  NaN            NaN   \n",
       "350                   0.000000                  NaN            NaN   \n",
       "351                   0.000000                  NaN            NaN   \n",
       "..                         ...                  ...            ...   \n",
       "247                   0.822241             0.790308       0.977482   \n",
       "248                   0.868064             1.000000       0.988741   \n",
       "249                   0.912945             0.920304       1.000000   \n",
       "250                   0.956910             0.920304       1.000000   \n",
       "251                   1.000000             0.920304       1.000000   \n",
       "\n",
       "Indicator  Mortality-infants  Net migration    Ninis  R&D GExp  \\\n",
       "347                 1.000000       0.966124  0.77758  0.000000   \n",
       "348                 1.000000       0.966124  0.77758  0.000000   \n",
       "349                 0.875324       0.966124  0.77758  0.000000   \n",
       "350                 0.765220       0.823187  0.77758  0.000000   \n",
       "351                 0.670984       0.680250  0.77758  0.000000   \n",
       "..                       ...            ...      ...       ...   \n",
       "247                 0.042573       0.264203      NaN  0.974482   \n",
       "248                 0.030745       0.243061      NaN  0.984436   \n",
       "249                 0.019650       0.243061      NaN  1.000000   \n",
       "250                 0.009383       0.243061      NaN  1.000000   \n",
       "251                 0.000000       0.243061      NaN  1.000000   \n",
       "\n",
       "Indicator  Renewable electricity   Suicide  Workers high education  \n",
       "347                     0.000000  0.956522                     1.0  \n",
       "348                     0.002525  0.956522                     1.0  \n",
       "349                     0.004025  0.956522                     1.0  \n",
       "350                     0.005848  0.956522                     1.0  \n",
       "351                     0.011012  0.956522                     1.0  \n",
       "..                           ...       ...                     ...  \n",
       "247                     1.000000  0.016129                     NaN  \n",
       "248                     1.000000  0.000000                     NaN  \n",
       "249                     1.000000  0.000000                     NaN  \n",
       "250                     1.000000  0.000000                     NaN  \n",
       "251                     1.000000  0.000000                     NaN  \n",
       "\n",
       "[1509 rows x 22 columns]"
      ]
     },
     "execution_count": 32,
     "metadata": {},
     "output_type": "execute_result"
    }
   ],
   "source": [
    "data.replace([np.inf, -np.inf], np.nan, inplace=True)\n",
    "for i in range(0, len(col_to_scale)):\n",
    "    if data[col_to_scale[i]].isna().sum()>1000:\n",
    "        del(data[col_to_scale[i]])\n",
    "        print(col_to_scale[i])\n",
    "data"
   ]
  },
  {
   "cell_type": "markdown",
   "metadata": {},
   "source": [
    "As a result we have dropped the *Gender equality* and *Mortality-pollution* variables."
   ]
  },
  {
   "cell_type": "code",
   "execution_count": null,
   "metadata": {},
   "outputs": [],
   "source": [
    "columns=data.columns.values.tolist()"
   ]
  },
  {
   "cell_type": "code",
   "execution_count": null,
   "metadata": {},
   "outputs": [],
   "source": [
    "for i in range(2,len(columns)):\n",
    "    data[columns[i]]=data[columns[i]]/data.iloc[0,i]\n",
    "data"
   ]
  },
  {
   "cell_type": "markdown",
   "metadata": {},
   "source": [
    "For the next part of analyzing this data, we think it is gonna be interesting to have it classify by the categories of the Country groups defined before, to which we call \"Continent\". This category is useful as it groups the nations with similar economies or geographical proximity, so we can extract common conclusions from them."
   ]
  },
  {
   "cell_type": "markdown",
   "metadata": {},
   "source": [
    "We create a dictionary with the regions and the countries included in each one. Where we will relate the countries and regions so then we can apply the .map function and arrive to the final dataframe."
   ]
  },
  {
   "cell_type": "code",
   "execution_count": 33,
   "metadata": {},
   "outputs": [
    {
     "name": "stdout",
     "output_type": "stream",
     "text": [
      "{'DEU': 'Europe', 'FRA': 'Europe', 'SWE': 'Europe', 'GBR': 'Europe', 'ESP': 'Europe', 'HRV': 'Europe', 'POL': 'Europe', 'GRC': 'Europe', 'AUT': 'Europe', 'NLD': 'Europe', 'IRQ': 'Persian Gulf', 'QAT': 'Persian Gulf', 'ARE': 'Persian Gulf', 'SAU': 'Persian Gulf', 'AZE': 'Persian Gulf', 'YEM': 'Persian Gulf', 'YDR': 'Persian Gulf', 'OMN': 'Persian Gulf', 'DZA': 'North Africa', 'EGY': 'North Africa', 'LBY': 'North Africa', 'ISR': 'North Africa', 'TUR': 'North Africa', 'MAR': 'North Africa', 'SEN': 'South Africa', 'ZAF': 'South Africa', 'LBR': 'South Africa', 'MOZ': 'South Africa', 'CMR': 'South Africa', 'NGA': 'South Africa', 'GHA': 'South Africa', 'BGD': 'Asia', 'IND': 'Asia', 'VNM': 'Asia', 'THA': 'Asia', 'IDN': 'Asia', 'PHL': 'Asia', 'KOR': 'Asia', 'MEX': 'Latam', 'BRA': 'Latam', 'ARG': 'Latam', 'PER': 'Latam', 'VEN': 'Latam', 'COL': 'Latam', 'CHL': 'Latam', 'PAN': 'Latam', 'CRI': 'Latam', 'USA': 'Pair', 'CHN': 'Pair'}\n"
     ]
    }
   ],
   "source": [
    "countries_by_region = {\n",
    "    \"Europe\": ('DEU','FRA','SWE','GBR','ESP','HRV','POL','GRC','AUT','NLD'),\n",
    "    'Persian Gulf': ('IRQ','QAT','ARE','SAU','AZE','YEM','YDR','OMN'),\n",
    "    'North Africa':('DZA','EGY','LBY','ISR','TUR','MAR'),\n",
    "    'South Africa':('SEN','ZAF','LBR','MOZ','CMR','NGA','GHA'),\n",
    "    'Asia':('BGD','IND','VNM','THA','IDN','PHL','KOR'),\n",
    "    'Latam':('MEX','BRA','ARG','PER','VEN','COL','CHL','PAN','CRI'),\n",
    "    'Pair':('USA','CHN')\n",
    "    }\n",
    "\n",
    "all_countries = {}\n",
    "for region in countries_by_region.keys():\n",
    "  for country in countries_by_region[region]:\n",
    "    all_countries[country] = region\n",
    "\n",
    "print(all_countries)"
   ]
  },
  {
   "cell_type": "code",
   "execution_count": 34,
   "metadata": {},
   "outputs": [
    {
     "data": {
      "text/html": [
       "<div>\n",
       "<style scoped>\n",
       "    .dataframe tbody tr th:only-of-type {\n",
       "        vertical-align: middle;\n",
       "    }\n",
       "\n",
       "    .dataframe tbody tr th {\n",
       "        vertical-align: top;\n",
       "    }\n",
       "\n",
       "    .dataframe thead th {\n",
       "        text-align: right;\n",
       "    }\n",
       "</style>\n",
       "<table border=\"1\" class=\"dataframe\">\n",
       "  <thead>\n",
       "    <tr style=\"text-align: right;\">\n",
       "      <th>Indicator</th>\n",
       "      <th>Country</th>\n",
       "      <th>Year</th>\n",
       "      <th>Alcohol per capita</th>\n",
       "      <th>Education GExp</th>\n",
       "      <th>Employment-agriculture</th>\n",
       "      <th>Employment-industry</th>\n",
       "      <th>Employment-services</th>\n",
       "      <th>Exports-Commercial services</th>\n",
       "      <th>Exports-G&amp;S</th>\n",
       "      <th>Fertility rate</th>\n",
       "      <th>...</th>\n",
       "      <th>International taxes</th>\n",
       "      <th>Literacy rate</th>\n",
       "      <th>Mortality-infants</th>\n",
       "      <th>Net migration</th>\n",
       "      <th>Ninis</th>\n",
       "      <th>R&amp;D GExp</th>\n",
       "      <th>Renewable electricity</th>\n",
       "      <th>Suicide</th>\n",
       "      <th>Workers high education</th>\n",
       "      <th>Continent</th>\n",
       "    </tr>\n",
       "  </thead>\n",
       "  <tbody>\n",
       "    <tr>\n",
       "      <th>347</th>\n",
       "      <td>DEU</td>\n",
       "      <td>1990</td>\n",
       "      <td>1.00000</td>\n",
       "      <td>0.443529</td>\n",
       "      <td>1.000000</td>\n",
       "      <td>1.000000</td>\n",
       "      <td>0.000000</td>\n",
       "      <td>0.002386</td>\n",
       "      <td>0.000000</td>\n",
       "      <td>0.636364</td>\n",
       "      <td>...</td>\n",
       "      <td>NaN</td>\n",
       "      <td>NaN</td>\n",
       "      <td>1.000000</td>\n",
       "      <td>0.966124</td>\n",
       "      <td>0.77758</td>\n",
       "      <td>0.000000</td>\n",
       "      <td>0.000000</td>\n",
       "      <td>0.956522</td>\n",
       "      <td>1.0</td>\n",
       "      <td>Europe</td>\n",
       "    </tr>\n",
       "    <tr>\n",
       "      <th>348</th>\n",
       "      <td>DEU</td>\n",
       "      <td>1991</td>\n",
       "      <td>1.00000</td>\n",
       "      <td>0.443529</td>\n",
       "      <td>1.000000</td>\n",
       "      <td>1.000000</td>\n",
       "      <td>0.000000</td>\n",
       "      <td>0.000000</td>\n",
       "      <td>0.025535</td>\n",
       "      <td>0.272727</td>\n",
       "      <td>...</td>\n",
       "      <td>NaN</td>\n",
       "      <td>NaN</td>\n",
       "      <td>1.000000</td>\n",
       "      <td>0.966124</td>\n",
       "      <td>0.77758</td>\n",
       "      <td>0.000000</td>\n",
       "      <td>0.002525</td>\n",
       "      <td>0.956522</td>\n",
       "      <td>1.0</td>\n",
       "      <td>Europe</td>\n",
       "    </tr>\n",
       "    <tr>\n",
       "      <th>349</th>\n",
       "      <td>DEU</td>\n",
       "      <td>1992</td>\n",
       "      <td>1.00000</td>\n",
       "      <td>0.443529</td>\n",
       "      <td>0.964758</td>\n",
       "      <td>0.966793</td>\n",
       "      <td>0.034321</td>\n",
       "      <td>0.018415</td>\n",
       "      <td>0.046400</td>\n",
       "      <td>0.151515</td>\n",
       "      <td>...</td>\n",
       "      <td>NaN</td>\n",
       "      <td>NaN</td>\n",
       "      <td>0.875324</td>\n",
       "      <td>0.966124</td>\n",
       "      <td>0.77758</td>\n",
       "      <td>0.000000</td>\n",
       "      <td>0.004025</td>\n",
       "      <td>0.956522</td>\n",
       "      <td>1.0</td>\n",
       "      <td>Europe</td>\n",
       "    </tr>\n",
       "    <tr>\n",
       "      <th>350</th>\n",
       "      <td>DEU</td>\n",
       "      <td>1993</td>\n",
       "      <td>1.00000</td>\n",
       "      <td>0.443529</td>\n",
       "      <td>0.942731</td>\n",
       "      <td>0.907021</td>\n",
       "      <td>0.088143</td>\n",
       "      <td>0.012182</td>\n",
       "      <td>0.010957</td>\n",
       "      <td>0.121212</td>\n",
       "      <td>...</td>\n",
       "      <td>NaN</td>\n",
       "      <td>NaN</td>\n",
       "      <td>0.765220</td>\n",
       "      <td>0.823187</td>\n",
       "      <td>0.77758</td>\n",
       "      <td>0.000000</td>\n",
       "      <td>0.005848</td>\n",
       "      <td>0.956522</td>\n",
       "      <td>1.0</td>\n",
       "      <td>Europe</td>\n",
       "    </tr>\n",
       "    <tr>\n",
       "      <th>351</th>\n",
       "      <td>DEU</td>\n",
       "      <td>1994</td>\n",
       "      <td>1.00000</td>\n",
       "      <td>0.380220</td>\n",
       "      <td>0.903084</td>\n",
       "      <td>0.876660</td>\n",
       "      <td>0.119345</td>\n",
       "      <td>0.018513</td>\n",
       "      <td>0.041261</td>\n",
       "      <td>0.000000</td>\n",
       "      <td>...</td>\n",
       "      <td>NaN</td>\n",
       "      <td>NaN</td>\n",
       "      <td>0.670984</td>\n",
       "      <td>0.680250</td>\n",
       "      <td>0.77758</td>\n",
       "      <td>0.000000</td>\n",
       "      <td>0.011012</td>\n",
       "      <td>0.956522</td>\n",
       "      <td>1.0</td>\n",
       "      <td>Europe</td>\n",
       "    </tr>\n",
       "    <tr>\n",
       "      <th>...</th>\n",
       "      <td>...</td>\n",
       "      <td>...</td>\n",
       "      <td>...</td>\n",
       "      <td>...</td>\n",
       "      <td>...</td>\n",
       "      <td>...</td>\n",
       "      <td>...</td>\n",
       "      <td>...</td>\n",
       "      <td>...</td>\n",
       "      <td>...</td>\n",
       "      <td>...</td>\n",
       "      <td>...</td>\n",
       "      <td>...</td>\n",
       "      <td>...</td>\n",
       "      <td>...</td>\n",
       "      <td>...</td>\n",
       "      <td>...</td>\n",
       "      <td>...</td>\n",
       "      <td>...</td>\n",
       "      <td>...</td>\n",
       "      <td>...</td>\n",
       "    </tr>\n",
       "    <tr>\n",
       "      <th>247</th>\n",
       "      <td>CHN</td>\n",
       "      <td>2016</td>\n",
       "      <td>0.99002</td>\n",
       "      <td>0.246406</td>\n",
       "      <td>0.068956</td>\n",
       "      <td>0.831461</td>\n",
       "      <td>0.867725</td>\n",
       "      <td>0.849888</td>\n",
       "      <td>0.804316</td>\n",
       "      <td>0.588235</td>\n",
       "      <td>...</td>\n",
       "      <td>0.790308</td>\n",
       "      <td>0.977482</td>\n",
       "      <td>0.042573</td>\n",
       "      <td>0.264203</td>\n",
       "      <td>NaN</td>\n",
       "      <td>0.974482</td>\n",
       "      <td>1.000000</td>\n",
       "      <td>0.016129</td>\n",
       "      <td>NaN</td>\n",
       "      <td>Pair</td>\n",
       "    </tr>\n",
       "    <tr>\n",
       "      <th>248</th>\n",
       "      <td>CHN</td>\n",
       "      <td>2017</td>\n",
       "      <td>0.98004</td>\n",
       "      <td>0.212024</td>\n",
       "      <td>0.048007</td>\n",
       "      <td>0.753933</td>\n",
       "      <td>0.917460</td>\n",
       "      <td>0.867490</td>\n",
       "      <td>0.888169</td>\n",
       "      <td>0.647059</td>\n",
       "      <td>...</td>\n",
       "      <td>1.000000</td>\n",
       "      <td>0.988741</td>\n",
       "      <td>0.030745</td>\n",
       "      <td>0.243061</td>\n",
       "      <td>NaN</td>\n",
       "      <td>0.984436</td>\n",
       "      <td>1.000000</td>\n",
       "      <td>0.000000</td>\n",
       "      <td>NaN</td>\n",
       "      <td>Pair</td>\n",
       "    </tr>\n",
       "    <tr>\n",
       "      <th>249</th>\n",
       "      <td>CHN</td>\n",
       "      <td>2018</td>\n",
       "      <td>0.97006</td>\n",
       "      <td>0.000000</td>\n",
       "      <td>0.021530</td>\n",
       "      <td>0.777528</td>\n",
       "      <td>0.942152</td>\n",
       "      <td>0.953748</td>\n",
       "      <td>0.974699</td>\n",
       "      <td>0.698529</td>\n",
       "      <td>...</td>\n",
       "      <td>0.920304</td>\n",
       "      <td>1.000000</td>\n",
       "      <td>0.019650</td>\n",
       "      <td>0.243061</td>\n",
       "      <td>NaN</td>\n",
       "      <td>1.000000</td>\n",
       "      <td>1.000000</td>\n",
       "      <td>0.000000</td>\n",
       "      <td>NaN</td>\n",
       "      <td>Pair</td>\n",
       "    </tr>\n",
       "    <tr>\n",
       "      <th>250</th>\n",
       "      <td>CHN</td>\n",
       "      <td>2019</td>\n",
       "      <td>0.97006</td>\n",
       "      <td>0.000000</td>\n",
       "      <td>0.000000</td>\n",
       "      <td>0.676405</td>\n",
       "      <td>1.000000</td>\n",
       "      <td>1.000000</td>\n",
       "      <td>0.964730</td>\n",
       "      <td>0.742647</td>\n",
       "      <td>...</td>\n",
       "      <td>0.920304</td>\n",
       "      <td>1.000000</td>\n",
       "      <td>0.009383</td>\n",
       "      <td>0.243061</td>\n",
       "      <td>NaN</td>\n",
       "      <td>1.000000</td>\n",
       "      <td>1.000000</td>\n",
       "      <td>0.000000</td>\n",
       "      <td>NaN</td>\n",
       "      <td>Pair</td>\n",
       "    </tr>\n",
       "    <tr>\n",
       "      <th>251</th>\n",
       "      <td>CHN</td>\n",
       "      <td>2020</td>\n",
       "      <td>0.97006</td>\n",
       "      <td>0.000000</td>\n",
       "      <td>0.000000</td>\n",
       "      <td>0.676405</td>\n",
       "      <td>1.000000</td>\n",
       "      <td>0.957514</td>\n",
       "      <td>1.000000</td>\n",
       "      <td>0.772059</td>\n",
       "      <td>...</td>\n",
       "      <td>0.920304</td>\n",
       "      <td>1.000000</td>\n",
       "      <td>0.000000</td>\n",
       "      <td>0.243061</td>\n",
       "      <td>NaN</td>\n",
       "      <td>1.000000</td>\n",
       "      <td>1.000000</td>\n",
       "      <td>0.000000</td>\n",
       "      <td>NaN</td>\n",
       "      <td>Pair</td>\n",
       "    </tr>\n",
       "  </tbody>\n",
       "</table>\n",
       "<p>1509 rows × 23 columns</p>\n",
       "</div>"
      ],
      "text/plain": [
       "Indicator Country  Year  Alcohol per capita  Education GExp  \\\n",
       "347           DEU  1990             1.00000        0.443529   \n",
       "348           DEU  1991             1.00000        0.443529   \n",
       "349           DEU  1992             1.00000        0.443529   \n",
       "350           DEU  1993             1.00000        0.443529   \n",
       "351           DEU  1994             1.00000        0.380220   \n",
       "..            ...   ...                 ...             ...   \n",
       "247           CHN  2016             0.99002        0.246406   \n",
       "248           CHN  2017             0.98004        0.212024   \n",
       "249           CHN  2018             0.97006        0.000000   \n",
       "250           CHN  2019             0.97006        0.000000   \n",
       "251           CHN  2020             0.97006        0.000000   \n",
       "\n",
       "Indicator  Employment-agriculture  Employment-industry  Employment-services  \\\n",
       "347                      1.000000             1.000000             0.000000   \n",
       "348                      1.000000             1.000000             0.000000   \n",
       "349                      0.964758             0.966793             0.034321   \n",
       "350                      0.942731             0.907021             0.088143   \n",
       "351                      0.903084             0.876660             0.119345   \n",
       "..                            ...                  ...                  ...   \n",
       "247                      0.068956             0.831461             0.867725   \n",
       "248                      0.048007             0.753933             0.917460   \n",
       "249                      0.021530             0.777528             0.942152   \n",
       "250                      0.000000             0.676405             1.000000   \n",
       "251                      0.000000             0.676405             1.000000   \n",
       "\n",
       "Indicator  Exports-Commercial services  Exports-G&S  Fertility rate  ...  \\\n",
       "347                           0.002386     0.000000        0.636364  ...   \n",
       "348                           0.000000     0.025535        0.272727  ...   \n",
       "349                           0.018415     0.046400        0.151515  ...   \n",
       "350                           0.012182     0.010957        0.121212  ...   \n",
       "351                           0.018513     0.041261        0.000000  ...   \n",
       "..                                 ...          ...             ...  ...   \n",
       "247                           0.849888     0.804316        0.588235  ...   \n",
       "248                           0.867490     0.888169        0.647059  ...   \n",
       "249                           0.953748     0.974699        0.698529  ...   \n",
       "250                           1.000000     0.964730        0.742647  ...   \n",
       "251                           0.957514     1.000000        0.772059  ...   \n",
       "\n",
       "Indicator  International taxes  Literacy rate  Mortality-infants  \\\n",
       "347                        NaN            NaN           1.000000   \n",
       "348                        NaN            NaN           1.000000   \n",
       "349                        NaN            NaN           0.875324   \n",
       "350                        NaN            NaN           0.765220   \n",
       "351                        NaN            NaN           0.670984   \n",
       "..                         ...            ...                ...   \n",
       "247                   0.790308       0.977482           0.042573   \n",
       "248                   1.000000       0.988741           0.030745   \n",
       "249                   0.920304       1.000000           0.019650   \n",
       "250                   0.920304       1.000000           0.009383   \n",
       "251                   0.920304       1.000000           0.000000   \n",
       "\n",
       "Indicator  Net migration    Ninis  R&D GExp  Renewable electricity   Suicide  \\\n",
       "347             0.966124  0.77758  0.000000               0.000000  0.956522   \n",
       "348             0.966124  0.77758  0.000000               0.002525  0.956522   \n",
       "349             0.966124  0.77758  0.000000               0.004025  0.956522   \n",
       "350             0.823187  0.77758  0.000000               0.005848  0.956522   \n",
       "351             0.680250  0.77758  0.000000               0.011012  0.956522   \n",
       "..                   ...      ...       ...                    ...       ...   \n",
       "247             0.264203      NaN  0.974482               1.000000  0.016129   \n",
       "248             0.243061      NaN  0.984436               1.000000  0.000000   \n",
       "249             0.243061      NaN  1.000000               1.000000  0.000000   \n",
       "250             0.243061      NaN  1.000000               1.000000  0.000000   \n",
       "251             0.243061      NaN  1.000000               1.000000  0.000000   \n",
       "\n",
       "Indicator  Workers high education  Continent  \n",
       "347                           1.0     Europe  \n",
       "348                           1.0     Europe  \n",
       "349                           1.0     Europe  \n",
       "350                           1.0     Europe  \n",
       "351                           1.0     Europe  \n",
       "..                            ...        ...  \n",
       "247                           NaN       Pair  \n",
       "248                           NaN       Pair  \n",
       "249                           NaN       Pair  \n",
       "250                           NaN       Pair  \n",
       "251                           NaN       Pair  \n",
       "\n",
       "[1509 rows x 23 columns]"
      ]
     },
     "execution_count": 34,
     "metadata": {},
     "output_type": "execute_result"
    }
   ],
   "source": [
    "data['Continent']=data['Country'].map(all_countries)\n",
    "Goldendataframe=data\n",
    "Goldendataframe"
   ]
  },
  {
   "cell_type": "markdown",
   "metadata": {},
   "source": [
    "With that all, we export our dataframe all-in-one and by the continent category."
   ]
  },
  {
   "cell_type": "code",
   "execution_count": 35,
   "metadata": {},
   "outputs": [],
   "source": [
    "Goldendataframe.to_csv(os.getcwd()+'/Data/GoldenDataFrame.csv')"
   ]
  },
  {
   "cell_type": "code",
   "execution_count": 36,
   "metadata": {},
   "outputs": [],
   "source": [
    "for region, data in Goldendataframe.groupby('Continent'):\n",
    "   data.to_csv(os.getcwd()+'/Data/{}.csv'.format(region))"
   ]
  },
  {
   "cell_type": "code",
   "execution_count": 37,
   "metadata": {},
   "outputs": [],
   "source": [
    "columns=Goldendataframe.columns.values.tolist()\n",
    "clist=Goldendataframe['Country'].unique()\n",
    "common=['Unnamed: 0','Country','Year']"
   ]
  },
  {
   "cell_type": "markdown",
   "metadata": {},
   "source": [
    "In the following cell, we have defined a function that will allow us to calculate the different posibilities of relations: cuadratic, cubic and logaritmic."
   ]
  },
  {
   "cell_type": "code",
   "execution_count": 38,
   "metadata": {},
   "outputs": [],
   "source": [
    "def multcolumn(frame):\n",
    "    for u in range(2, len(columns)-1):\n",
    "        name=columns[u]+'.l'\n",
    "        name2=columns[u]+'.^2'\n",
    "        name3=columns[u]+'.^3'\n",
    "        namelog=columns[u]+'.log'\n",
    "        frame.loc[:,name2] = frame[columns[u]]**2\n",
    "        frame.loc[:,name3] = frame[columns[u]]**3\n",
    "        frame.loc[:,namelog] = np.log(frame[columns[u]])\n",
    "        frame.rename(columns={columns[u]:name}, inplace=True)"
   ]
  },
  {
   "cell_type": "markdown",
   "metadata": {},
   "source": [
    "Moreover, we want to know the correlation between all the variables, so to acomplish this, we have created the following loop, which will help us create a new dataframe where we will have: the *Indicator*, the *Type* of relation, the value of the *R^2*, its *Behaviour*, the *Country* and the *Continent*."
   ]
  },
  {
   "cell_type": "code",
   "execution_count": 39,
   "metadata": {},
   "outputs": [],
   "source": [
    "df= pd.read_csv (os.getcwd()+'/Data/'+'GoldenDataFrame.csv')\n",
    "multcolumn(df)"
   ]
  },
  {
   "cell_type": "markdown",
   "metadata": {},
   "source": [
    "Firstly we are going to create two lists for the variables, which their p-value is under 0.05 for each correlation, so later on, we can calculate only the correlations of those variables."
   ]
  },
  {
   "cell_type": "code",
   "execution_count": null,
   "metadata": {},
   "outputs": [],
   "source": [
    "dat=df.loc[df.loc[:, 'Country'] == clist[0]]\n",
    "listacorpe=[]\n",
    "listacorsp=[]\n",
    "clmns=dat.columns.values.tolist()\n",
    "for c in range(0, len(clmns)):\n",
    "    if dat[clmns[c]].isna().sum()>=1:\n",
    "        del(dat[clmns[c]])\n",
    "pilares=dat.columns.values.tolist()\n",
    "for u in range(0,len(pilares)):\n",
    "    if is_numeric_dtype(dat[pilares[u]]):\n",
    "        correlation, pvalue=pearsonr(dat[pilares[u]], dat['GDP (current US$).l'])\n",
    "        if pvalue<=0.05:\n",
    "            listacorpe.append(pilares[u])\n",
    "        else:\n",
    "            pass\n",
    "        correlation, pvalue=spearmanr(dat[pilares[u]], dat['GDP (current US$).l'])\n",
    "        if pvalue<=0.05:\n",
    "            listacorsp.append(pilares[u])\n",
    "        else:\n",
    "            pass\n",
    "    else:\n",
    "        pass"
   ]
  },
  {
   "cell_type": "markdown",
   "metadata": {},
   "source": [
    "Secondly, we need to calculate the correlation table for each country, therefore we use the basic function `corr()` which provides either the Pearson correlation table or the Spearman correlation table, as well as a filter for the countries."
   ]
  },
  {
   "cell_type": "code",
   "execution_count": 40,
   "metadata": {},
   "outputs": [],
   "source": [
    "dat=df.loc[df.loc[:, 'Country'] == clist[0]]\n",
    "\n",
    "datp=dat[dat.columns[dat.columns.isin(listacorpe)]]\n",
    "corp=datp.corr('pearson')\n",
    "\n",
    "datsp=dat[dat.columns[dat.columns.isin(listacorsp)]]\n",
    "cors=datsp.corr('spearman')"
   ]
  },
  {
   "cell_type": "markdown",
   "metadata": {},
   "source": [
    "Then we calculate the coefficient of determination which is the correlation squared."
   ]
  },
  {
   "cell_type": "code",
   "execution_count": 41,
   "metadata": {},
   "outputs": [],
   "source": [
    "corp.loc[:,'R^2 Pearson'] = corp['GDP (current US$).l']**2\n",
    "\n",
    "cors.loc[:,'R^2 Spearman'] = cors['GDP (current US$).l']**2"
   ]
  },
  {
   "cell_type": "markdown",
   "metadata": {},
   "source": [
    "Moreover, we are going to create new columns to know which *Indicator* are we talking about, and the *Type* of correlation that is being analyzed (linear, cuadratic, cubic or logarithmic)"
   ]
  },
  {
   "cell_type": "code",
   "execution_count": 42,
   "metadata": {},
   "outputs": [],
   "source": [
    "corp.loc[:,'Indicator']=corp.index\n",
    "corp[['Indicator','Type']]=corp.Indicator.str.split('.',1, expand=True)\n",
    "\n",
    "cors.loc[:,'Indicator']=cors.index\n",
    "cors[['Indicator','Type']]=cors.Indicator.str.split('.',1, expand=True)"
   ]
  },
  {
   "cell_type": "markdown",
   "metadata": {},
   "source": [
    "Now, we can apply the filter we have consider that is enough, R^2>=0.75 to filter the correlations."
   ]
  },
  {
   "cell_type": "code",
   "execution_count": 43,
   "metadata": {},
   "outputs": [],
   "source": [
    "corpcolumn=corp[['Indicator','R^2 Pearson','Type','GDP (current US$).l']]\n",
    "corpcolumn=corpcolumn.loc[corpcolumn.loc[:, 'R^2 Pearson'] >= 0.75]\n",
    "\n",
    "corscolumn=cors[['Indicator','R^2 Spearman','Type','GDP (current US$).l']]\n",
    "corscolumn=corscolumn.loc[corscolumn.loc[:, 'R^2 Spearman'] >= 0.6]"
   ]
  },
  {
   "cell_type": "markdown",
   "metadata": {},
   "source": [
    "Furthermore, we add all the columns that we have created into a data frame, thanks to the following cell."
   ]
  },
  {
   "cell_type": "code",
   "execution_count": 44,
   "metadata": {},
   "outputs": [],
   "source": [
    "idp=corpcolumn.groupby('Indicator')['R^2 Pearson'].transform(max)==corpcolumn['R^2 Pearson']\n",
    "corpcolumn[idp]\n",
    "maxp_df=pd.DataFrame(corpcolumn[idp])\n",
    "\n",
    "ids=corscolumn.groupby('Indicator')['R^2 Spearman'].transform(max)==corscolumn['R^2 Spearman']\n",
    "corscolumn[ids]\n",
    "maxs_df=pd.DataFrame(corscolumn[ids])"
   ]
  },
  {
   "cell_type": "markdown",
   "metadata": {},
   "source": [
    "Here, we conmute the values, by expressions. For example if the correlation is positive, we want in the new column called *Behaviour* the word Positive. Or for the *Type* column if the greatest correlation is cuadratic we want to put, Cuadratic."
   ]
  },
  {
   "cell_type": "code",
   "execution_count": 45,
   "metadata": {},
   "outputs": [],
   "source": [
    "maxp_df['Behaviour']=np.where(maxp_df['GDP (current US$).l']>0, 'Positive', 'Negative')\n",
    "maxp_df['Type']=maxp_df['Type'].replace(['l','^2','^3','log'],['Linear','Cuadratic','Cubic','Logarithmic'])\n",
    "maxp_df['Country']= clist[0]\n",
    "\n",
    "maxs_df['Behaviour']=np.where(maxs_df['GDP (current US$).l']>0, 'Positive', 'Negative')\n",
    "maxs_df['Type']=maxs_df['Type'].replace(['l','^2','^3','log'],['Linear','Cuadratic','Cubic','Logarithmic'])\n",
    "maxs_df['Country']= clist[0]"
   ]
  },
  {
   "cell_type": "markdown",
   "metadata": {},
   "source": [
    "In addition, we also drop the columns which do not add any value, as *GDP*, *Year*, and *Unnamed:0*."
   ]
  },
  {
   "cell_type": "code",
   "execution_count": 46,
   "metadata": {},
   "outputs": [],
   "source": [
    "maxp_df.drop(\"GDP (current US$).l\",axis=1,inplace=True)\n",
    "maxp_df=maxp_df.reset_index(drop=True)\n",
    "maxp_df = maxp_df.drop(maxp_df[maxp_df['Indicator']=='Year'].index)\n",
    "maxp_df = maxp_df.drop(maxp_df[maxp_df['Indicator']=='GDP (current US$)'].index)\n",
    "maxp_df = maxp_df.drop(maxp_df[maxp_df['Indicator']=='Unnamed: 0'].index)\n",
    "\n",
    "maxs_df.drop(\"GDP (current US$).l\",axis=1,inplace=True)\n",
    "maxs_df=maxs_df.reset_index(drop=True)\n",
    "maxs_df = maxs_df.drop(maxs_df[maxs_df['Indicator']=='Year'].index)\n",
    "maxs_df = maxs_df.drop(maxs_df[maxs_df['Indicator']=='GDP (current US$)'].index)\n",
    "maxs_df = maxs_df.drop(maxs_df[maxs_df['Indicator']=='Unnamed: 0'].index)\n",
    "maxs_df=maxs_df.sort_values(by = 'R^2 Spearman',ascending = False)"
   ]
  },
  {
   "cell_type": "markdown",
   "metadata": {},
   "source": [
    "And finally we sort the values in descending order by the column *R^2 Pearson*."
   ]
  },
  {
   "cell_type": "code",
   "execution_count": 47,
   "metadata": {},
   "outputs": [],
   "source": [
    "maxp_df=maxp_df.sort_values(by = 'R^2 Pearson',ascending = False)\n",
    "pearsondf= maxp_df\n",
    "spearmandf=maxs_df"
   ]
  },
  {
   "cell_type": "markdown",
   "metadata": {},
   "source": [
    "So, we can do it with all the countries and create just one dataframe."
   ]
  },
  {
   "cell_type": "code",
   "execution_count": 48,
   "metadata": {},
   "outputs": [
    {
     "data": {
      "text/html": [
       "<div>\n",
       "<style scoped>\n",
       "    .dataframe tbody tr th:only-of-type {\n",
       "        vertical-align: middle;\n",
       "    }\n",
       "\n",
       "    .dataframe tbody tr th {\n",
       "        vertical-align: top;\n",
       "    }\n",
       "\n",
       "    .dataframe thead th {\n",
       "        text-align: right;\n",
       "    }\n",
       "</style>\n",
       "<table border=\"1\" class=\"dataframe\">\n",
       "  <thead>\n",
       "    <tr style=\"text-align: right;\">\n",
       "      <th></th>\n",
       "      <th>Indicator</th>\n",
       "      <th>Type</th>\n",
       "      <th>R^2 Pearson</th>\n",
       "      <th>Behaviour</th>\n",
       "      <th>Country</th>\n",
       "      <th>Continent</th>\n",
       "    </tr>\n",
       "  </thead>\n",
       "  <tbody>\n",
       "    <tr>\n",
       "      <th>5</th>\n",
       "      <td>Exports-G&amp;S</td>\n",
       "      <td>None</td>\n",
       "      <td>0.954928</td>\n",
       "      <td>Positive</td>\n",
       "      <td>DEU</td>\n",
       "      <td>Europe</td>\n",
       "    </tr>\n",
       "    <tr>\n",
       "      <th>7</th>\n",
       "      <td>Health services use</td>\n",
       "      <td>None</td>\n",
       "      <td>0.916594</td>\n",
       "      <td>Positive</td>\n",
       "      <td>DEU</td>\n",
       "      <td>Europe</td>\n",
       "    </tr>\n",
       "    <tr>\n",
       "      <th>4</th>\n",
       "      <td>Exports-Commercial services</td>\n",
       "      <td>None</td>\n",
       "      <td>0.911725</td>\n",
       "      <td>Positive</td>\n",
       "      <td>DEU</td>\n",
       "      <td>Europe</td>\n",
       "    </tr>\n",
       "    <tr>\n",
       "      <th>10</th>\n",
       "      <td>Employment-services</td>\n",
       "      <td>Cuadratic</td>\n",
       "      <td>0.883525</td>\n",
       "      <td>Positive</td>\n",
       "      <td>DEU</td>\n",
       "      <td>Europe</td>\n",
       "    </tr>\n",
       "    <tr>\n",
       "      <th>12</th>\n",
       "      <td>Alcohol per capita</td>\n",
       "      <td>Cubic</td>\n",
       "      <td>0.875820</td>\n",
       "      <td>Negative</td>\n",
       "      <td>DEU</td>\n",
       "      <td>Europe</td>\n",
       "    </tr>\n",
       "    <tr>\n",
       "      <th>...</th>\n",
       "      <td>...</td>\n",
       "      <td>...</td>\n",
       "      <td>...</td>\n",
       "      <td>...</td>\n",
       "      <td>...</td>\n",
       "      <td>...</td>\n",
       "    </tr>\n",
       "    <tr>\n",
       "      <th>6</th>\n",
       "      <td>Suicide</td>\n",
       "      <td>None</td>\n",
       "      <td>0.922759</td>\n",
       "      <td>Negative</td>\n",
       "      <td>CHN</td>\n",
       "      <td>Pair</td>\n",
       "    </tr>\n",
       "    <tr>\n",
       "      <th>5</th>\n",
       "      <td>Renewable electricity</td>\n",
       "      <td>None</td>\n",
       "      <td>0.912560</td>\n",
       "      <td>Positive</td>\n",
       "      <td>CHN</td>\n",
       "      <td>Pair</td>\n",
       "    </tr>\n",
       "    <tr>\n",
       "      <th>2</th>\n",
       "      <td>Exports-Commercial services</td>\n",
       "      <td>None</td>\n",
       "      <td>0.879177</td>\n",
       "      <td>Positive</td>\n",
       "      <td>CHN</td>\n",
       "      <td>Pair</td>\n",
       "    </tr>\n",
       "    <tr>\n",
       "      <th>14</th>\n",
       "      <td>Alcohol per capita</td>\n",
       "      <td>Cuadratic</td>\n",
       "      <td>0.867314</td>\n",
       "      <td>Positive</td>\n",
       "      <td>CHN</td>\n",
       "      <td>Pair</td>\n",
       "    </tr>\n",
       "    <tr>\n",
       "      <th>10</th>\n",
       "      <td>Literacy rate</td>\n",
       "      <td>Cubic</td>\n",
       "      <td>0.840397</td>\n",
       "      <td>Positive</td>\n",
       "      <td>CHN</td>\n",
       "      <td>Pair</td>\n",
       "    </tr>\n",
       "  </tbody>\n",
       "</table>\n",
       "<p>444 rows × 6 columns</p>\n",
       "</div>"
      ],
      "text/plain": [
       "                      Indicator       Type  R^2 Pearson Behaviour Country  \\\n",
       "5                   Exports-G&S       None     0.954928  Positive     DEU   \n",
       "7           Health services use       None     0.916594  Positive     DEU   \n",
       "4   Exports-Commercial services       None     0.911725  Positive     DEU   \n",
       "10          Employment-services  Cuadratic     0.883525  Positive     DEU   \n",
       "12           Alcohol per capita      Cubic     0.875820  Negative     DEU   \n",
       "..                          ...        ...          ...       ...     ...   \n",
       "6                       Suicide       None     0.922759  Negative     CHN   \n",
       "5         Renewable electricity       None     0.912560  Positive     CHN   \n",
       "2   Exports-Commercial services       None     0.879177  Positive     CHN   \n",
       "14           Alcohol per capita  Cuadratic     0.867314  Positive     CHN   \n",
       "10                Literacy rate      Cubic     0.840397  Positive     CHN   \n",
       "\n",
       "   Continent  \n",
       "5     Europe  \n",
       "7     Europe  \n",
       "4     Europe  \n",
       "10    Europe  \n",
       "12    Europe  \n",
       "..       ...  \n",
       "6       Pair  \n",
       "5       Pair  \n",
       "2       Pair  \n",
       "14      Pair  \n",
       "10      Pair  \n",
       "\n",
       "[444 rows x 6 columns]"
      ]
     },
     "execution_count": 48,
     "metadata": {},
     "output_type": "execute_result"
    }
   ],
   "source": [
    "for i in range(1,len(clist)):\n",
    "    dat=df.loc[df.loc[:, 'Country'] == clist[i]]\n",
    "    listacorpe=[]\n",
    "    listacorsp=[]\n",
    "    clmns=dat.columns.values.tolist()\n",
    "    for c in range(0, len(clmns)):\n",
    "        if dat[clmns[c]].isna().sum()>=1:\n",
    "            del(dat[clmns[c]])\n",
    "    pilares=dat.columns.values.tolist()\n",
    "    for u in range(0,len(pilares)):\n",
    "        if is_numeric_dtype(dat[pilares[u]]):\n",
    "            correlation, pvalue=pearsonr(dat[pilares[u]], dat['GDP (current US$).l'])\n",
    "            if pvalue<=0.05:\n",
    "                listacorpe.append(pilares[u])\n",
    "            else:\n",
    "                pass\n",
    "            correlation, pvalue=spearmanr(dat[pilares[u]], dat['GDP (current US$).l'])\n",
    "            if pvalue<=0.05:\n",
    "                listacorsp.append(pilares[u])\n",
    "            else:\n",
    "                pass\n",
    "        else:\n",
    "            pass\n",
    "    \n",
    "    dat=df.loc[df.loc[:, 'Country'] == clist[i]]\n",
    "\n",
    "    datp=dat[dat.columns[dat.columns.isin(listacorpe)]]\n",
    "    corp=datp.corr('pearson')\n",
    "\n",
    "    datsp=dat[dat.columns[dat.columns.isin(listacorsp)]]\n",
    "    cors=datsp.corr('spearman')\n",
    "\n",
    "\n",
    "    corp.loc[:,'R^2 Pearson'] = corp['GDP (current US$).l']**2\n",
    "\n",
    "    cors.loc[:,'R^2 Spearman'] = cors['GDP (current US$).l']**2\n",
    "\n",
    "\n",
    "    corp.loc[:,'Indicator']=corp.index\n",
    "    corp[['Indicator','Type']]=corp.Indicator.str.split('.',1, expand=True)\n",
    "\n",
    "    cors.loc[:,'Indicator']=cors.index\n",
    "    cors[['Indicator','Type']]=cors.Indicator.str.split('.',1, expand=True)\n",
    "\n",
    "\n",
    "    corpcolumn=corp[['Indicator','R^2 Pearson','Type','GDP (current US$).l']]\n",
    "    corpcolumn=corpcolumn.loc[corpcolumn.loc[:, 'R^2 Pearson'] >= 0.75]\n",
    "    \n",
    "    corscolumn=cors[['Indicator','R^2 Spearman','Type','GDP (current US$).l']]\n",
    "    corscolumn=corscolumn.loc[corscolumn.loc[:, 'R^2 Spearman'] >= 0.6]\n",
    "\n",
    "\n",
    "    idp=corpcolumn.groupby('Indicator')['R^2 Pearson'].transform(max)==corpcolumn['R^2 Pearson']\n",
    "    corpcolumn[idp]\n",
    "    maxp_df=pd.DataFrame(corpcolumn[idp])\n",
    "\n",
    "    ids=corscolumn.groupby('Indicator')['R^2 Spearman'].transform(max)==corscolumn['R^2 Spearman']\n",
    "    corscolumn[ids]\n",
    "    maxs_df=pd.DataFrame(corscolumn[ids])\n",
    "\n",
    "\n",
    "    maxp_df['Behaviour']=np.where(maxp_df['GDP (current US$).l']>0, 'Positive', 'Negative')\n",
    "    maxp_df['Type']=maxp_df['Type'].replace(['l','^2','^3','log'],['Linear','Cuadratic','Cubic','Logarithmic'])\n",
    "    maxp_df['Country']= clist[i]\n",
    "\n",
    "    maxs_df['Behaviour']=np.where(maxs_df['GDP (current US$).l']>0, 'Positive', 'Negative')\n",
    "    maxs_df['Type']=maxs_df['Type'].replace(['l','^2','^3','log'],['Linear','Cuadratic','Cubic','Logarithmic'])\n",
    "    maxs_df['Country']= clist[i]\n",
    "\n",
    "\n",
    "    maxp_df.drop(\"GDP (current US$).l\",axis=1,inplace=True)\n",
    "    maxp_df=maxp_df.reset_index(drop=True)\n",
    "    maxp_df = maxp_df.drop(maxp_df[maxp_df['Indicator']=='Year'].index)\n",
    "    maxp_df = maxp_df.drop(maxp_df[maxp_df['Indicator']=='GDP (current US$)'].index)\n",
    "    maxp_df = maxp_df.drop(maxp_df[maxp_df['Indicator']=='Unnamed: 0'].index)\n",
    "\n",
    "    maxs_df.drop(\"GDP (current US$).l\",axis=1,inplace=True)\n",
    "    maxs_df=maxs_df.reset_index(drop=True)\n",
    "    maxs_df = maxs_df.drop(maxs_df[maxs_df['Indicator']=='Year'].index)\n",
    "    maxs_df = maxs_df.drop(maxs_df[maxs_df['Indicator']=='GDP (current US$)'].index)\n",
    "    maxs_df = maxs_df.drop(maxs_df[maxs_df['Indicator']=='Unnamed: 0'].index)\n",
    "    maxs_df=maxs_df.sort_values(by = 'R^2 Spearman',ascending = False)\n",
    "\n",
    "\n",
    "    maxp_df=maxp_df.sort_values(by = 'R^2 Pearson',ascending = False)\n",
    "    pearsondf= maxp_df\n",
    "    spearmandf=maxs_df\n",
    "\n",
    "display(spearmandf.merge(pearsondf, left_on=('Indicator', 'Country','Type','Behaviour'), right_on=('Indicator', 'Country','Type','Behaviour')))"
   ]
  },
  {
   "cell_type": "markdown",
   "metadata": {},
   "source": [
    "Now that we’ve loaded the data, we can start right away to create widgets. These widgets are essentials to add interactivity to our visualizations. We’re going to use two widgets: both, multiple selection widgets. To create these widgets, we can use `ipywidgets` library that is available for Jupyter Notebook.\n",
    "\n",
    "The first widget that we are going to create is the multiple selection widget. We can do this by using `SelectMultiple()attribute` from `ipywidgets`. With this widget, we have the option to visualize the R^2 only in particular selection of indicators instead of all.\n",
    "\n",
    "The first argument that we should specify is `options` , which should contain the list of available options of our variable (in our case different indicators). The next one is `value` , which should contain the variable values that we want to display as default, and then `description` is for the text field to describe the name of the widget.The rest of options are just visual details."
   ]
  },
  {
   "cell_type": "code",
   "execution_count": 49,
   "metadata": {},
   "outputs": [
    {
     "data": {
      "application/vnd.jupyter.widget-view+json": {
       "model_id": "db323d6bd0264921b895b26f4aff87d8",
       "version_major": 2,
       "version_minor": 0
      },
      "text/plain": [
       "interactive(children=(SelectMultiple(description='Indicator', index=(0,), layout=Layout(height='80px', width='…"
      ]
     },
     "metadata": {},
     "output_type": "display_data"
    },
    {
     "data": {
      "application/vnd.plotly.v1+json": {
       "config": {
        "plotlyServerURL": "https://plot.ly"
       },
       "data": [
        {
         "coloraxis": "coloraxis",
         "customdata": [
          [
           null,
           "Positive"
          ],
          [
           null,
           "Positive"
          ],
          [
           null,
           "Positive"
          ],
          [
           null,
           "Positive"
          ],
          [
           null,
           "Positive"
          ],
          [
           null,
           "Positive"
          ],
          [
           null,
           "Positive"
          ],
          [
           null,
           "Positive"
          ],
          [
           null,
           "Positive"
          ],
          [
           null,
           "Positive"
          ],
          [
           null,
           "Positive"
          ],
          [
           null,
           "Positive"
          ],
          [
           null,
           "Positive"
          ],
          [
           null,
           "Positive"
          ],
          [
           null,
           "Positive"
          ],
          [
           null,
           "Positive"
          ],
          [
           "Cuadratic",
           "Positive"
          ],
          [
           null,
           "Positive"
          ],
          [
           null,
           "Positive"
          ],
          [
           null,
           "Positive"
          ],
          [
           null,
           "Positive"
          ],
          [
           null,
           "Positive"
          ],
          [
           null,
           "Positive"
          ],
          [
           null,
           "Positive"
          ],
          [
           null,
           "Positive"
          ],
          [
           null,
           "Positive"
          ],
          [
           null,
           "Positive"
          ],
          [
           null,
           "Positive"
          ],
          [
           null,
           "Positive"
          ],
          [
           null,
           "Positive"
          ],
          [
           null,
           "Positive"
          ],
          [
           null,
           "Positive"
          ],
          [
           "Cuadratic",
           "Positive"
          ],
          [
           null,
           "Positive"
          ],
          [
           null,
           "Positive"
          ],
          [
           null,
           "Positive"
          ],
          [
           null,
           "Positive"
          ],
          [
           null,
           "Positive"
          ],
          [
           null,
           "Positive"
          ],
          [
           null,
           "Positive"
          ],
          [
           "Cuadratic",
           "Positive"
          ]
         ],
         "geo": "geo",
         "hovertemplate": "<b>%{hovertext}</b><br><br>Country=%{location}<br>Type=%{customdata[0]}<br>Behaviour=%{customdata[1]}<br>R^2 Pearson=%{z}<extra></extra>",
         "hovertext": [
          "DEU",
          "FRA",
          "SWE",
          "GBR",
          "ESP",
          "HRV",
          "POL",
          "AUT",
          "NLD",
          "IRQ",
          "QAT",
          "ARE",
          "SAU",
          "AZE",
          "OMN",
          "LBY",
          "ISR",
          "TUR",
          "MAR",
          "SEN",
          "ZAF",
          "MOZ",
          "CMR",
          "GHA",
          "BGD",
          "IND",
          "VNM",
          "THA",
          "IDN",
          "PHL",
          "KOR",
          "MEX",
          "BRA",
          "PER",
          "VEN",
          "COL",
          "CHL",
          "PAN",
          "CRI",
          "USA",
          "CHN"
         ],
         "locationmode": "ISO-3",
         "locations": [
          "DEU",
          "FRA",
          "SWE",
          "GBR",
          "ESP",
          "HRV",
          "POL",
          "AUT",
          "NLD",
          "IRQ",
          "QAT",
          "ARE",
          "SAU",
          "AZE",
          "OMN",
          "LBY",
          "ISR",
          "TUR",
          "MAR",
          "SEN",
          "ZAF",
          "MOZ",
          "CMR",
          "GHA",
          "BGD",
          "IND",
          "VNM",
          "THA",
          "IDN",
          "PHL",
          "KOR",
          "MEX",
          "BRA",
          "PER",
          "VEN",
          "COL",
          "CHL",
          "PAN",
          "CRI",
          "USA",
          "CHN"
         ],
         "name": "",
         "type": "choropleth",
         "z": [
          0.9549275086975878,
          0.9597959560873485,
          0.9614287536762283,
          0.9615991157049506,
          0.8896193597099896,
          0.9173159879919209,
          0.9408925602809399,
          0.9815548322439229,
          0.9559419289908181,
          0.8340434734780782,
          0.9524834602986512,
          0.963959228898083,
          0.8298448185898075,
          0.9448163351979267,
          0.9382224731368217,
          0.891789395879511,
          0.9874778307869048,
          0.949243785588551,
          0.9823598695370912,
          0.9832570514426298,
          0.9766169128199659,
          0.9053611625071816,
          0.8533577839743397,
          0.9621004202724875,
          0.9580068244466282,
          0.9609762955619326,
          0.9813433533393643,
          0.954401583743531,
          0.9221607227308378,
          0.9409552672717009,
          0.9240288573980191,
          0.9200064331609529,
          0.9103082296426172,
          0.9499862167628553,
          0.7774845434226739,
          0.9646460860986581,
          0.9187381706336473,
          0.8316212368989154,
          0.979858690516683,
          0.9298018756712546,
          0.9816065401345386
         ]
        }
       ],
       "layout": {
        "coloraxis": {
         "colorbar": {
          "title": {
           "text": "R^2 Pearson"
          }
         },
         "colorscale": [
          [
           0,
           "rgb(255,245,240)"
          ],
          [
           0.125,
           "rgb(254,224,210)"
          ],
          [
           0.25,
           "rgb(252,187,161)"
          ],
          [
           0.375,
           "rgb(252,146,114)"
          ],
          [
           0.5,
           "rgb(251,106,74)"
          ],
          [
           0.625,
           "rgb(239,59,44)"
          ],
          [
           0.75,
           "rgb(203,24,29)"
          ],
          [
           0.875,
           "rgb(165,15,21)"
          ],
          [
           1,
           "rgb(103,0,13)"
          ]
         ]
        },
        "geo": {
         "center": {},
         "domain": {
          "x": [
           0,
           1
          ],
          "y": [
           0,
           1
          ]
         },
         "projection": {
          "type": "natural earth"
         }
        },
        "height": 500,
        "legend": {
         "tracegroupgap": 0
        },
        "template": {
         "data": {
          "bar": [
           {
            "error_x": {
             "color": "#2a3f5f"
            },
            "error_y": {
             "color": "#2a3f5f"
            },
            "marker": {
             "line": {
              "color": "#E5ECF6",
              "width": 0.5
             },
             "pattern": {
              "fillmode": "overlay",
              "size": 10,
              "solidity": 0.2
             }
            },
            "type": "bar"
           }
          ],
          "barpolar": [
           {
            "marker": {
             "line": {
              "color": "#E5ECF6",
              "width": 0.5
             },
             "pattern": {
              "fillmode": "overlay",
              "size": 10,
              "solidity": 0.2
             }
            },
            "type": "barpolar"
           }
          ],
          "carpet": [
           {
            "aaxis": {
             "endlinecolor": "#2a3f5f",
             "gridcolor": "white",
             "linecolor": "white",
             "minorgridcolor": "white",
             "startlinecolor": "#2a3f5f"
            },
            "baxis": {
             "endlinecolor": "#2a3f5f",
             "gridcolor": "white",
             "linecolor": "white",
             "minorgridcolor": "white",
             "startlinecolor": "#2a3f5f"
            },
            "type": "carpet"
           }
          ],
          "choropleth": [
           {
            "colorbar": {
             "outlinewidth": 0,
             "ticks": ""
            },
            "type": "choropleth"
           }
          ],
          "contour": [
           {
            "colorbar": {
             "outlinewidth": 0,
             "ticks": ""
            },
            "colorscale": [
             [
              0,
              "#0d0887"
             ],
             [
              0.1111111111111111,
              "#46039f"
             ],
             [
              0.2222222222222222,
              "#7201a8"
             ],
             [
              0.3333333333333333,
              "#9c179e"
             ],
             [
              0.4444444444444444,
              "#bd3786"
             ],
             [
              0.5555555555555556,
              "#d8576b"
             ],
             [
              0.6666666666666666,
              "#ed7953"
             ],
             [
              0.7777777777777778,
              "#fb9f3a"
             ],
             [
              0.8888888888888888,
              "#fdca26"
             ],
             [
              1,
              "#f0f921"
             ]
            ],
            "type": "contour"
           }
          ],
          "contourcarpet": [
           {
            "colorbar": {
             "outlinewidth": 0,
             "ticks": ""
            },
            "type": "contourcarpet"
           }
          ],
          "heatmap": [
           {
            "colorbar": {
             "outlinewidth": 0,
             "ticks": ""
            },
            "colorscale": [
             [
              0,
              "#0d0887"
             ],
             [
              0.1111111111111111,
              "#46039f"
             ],
             [
              0.2222222222222222,
              "#7201a8"
             ],
             [
              0.3333333333333333,
              "#9c179e"
             ],
             [
              0.4444444444444444,
              "#bd3786"
             ],
             [
              0.5555555555555556,
              "#d8576b"
             ],
             [
              0.6666666666666666,
              "#ed7953"
             ],
             [
              0.7777777777777778,
              "#fb9f3a"
             ],
             [
              0.8888888888888888,
              "#fdca26"
             ],
             [
              1,
              "#f0f921"
             ]
            ],
            "type": "heatmap"
           }
          ],
          "heatmapgl": [
           {
            "colorbar": {
             "outlinewidth": 0,
             "ticks": ""
            },
            "colorscale": [
             [
              0,
              "#0d0887"
             ],
             [
              0.1111111111111111,
              "#46039f"
             ],
             [
              0.2222222222222222,
              "#7201a8"
             ],
             [
              0.3333333333333333,
              "#9c179e"
             ],
             [
              0.4444444444444444,
              "#bd3786"
             ],
             [
              0.5555555555555556,
              "#d8576b"
             ],
             [
              0.6666666666666666,
              "#ed7953"
             ],
             [
              0.7777777777777778,
              "#fb9f3a"
             ],
             [
              0.8888888888888888,
              "#fdca26"
             ],
             [
              1,
              "#f0f921"
             ]
            ],
            "type": "heatmapgl"
           }
          ],
          "histogram": [
           {
            "marker": {
             "pattern": {
              "fillmode": "overlay",
              "size": 10,
              "solidity": 0.2
             }
            },
            "type": "histogram"
           }
          ],
          "histogram2d": [
           {
            "colorbar": {
             "outlinewidth": 0,
             "ticks": ""
            },
            "colorscale": [
             [
              0,
              "#0d0887"
             ],
             [
              0.1111111111111111,
              "#46039f"
             ],
             [
              0.2222222222222222,
              "#7201a8"
             ],
             [
              0.3333333333333333,
              "#9c179e"
             ],
             [
              0.4444444444444444,
              "#bd3786"
             ],
             [
              0.5555555555555556,
              "#d8576b"
             ],
             [
              0.6666666666666666,
              "#ed7953"
             ],
             [
              0.7777777777777778,
              "#fb9f3a"
             ],
             [
              0.8888888888888888,
              "#fdca26"
             ],
             [
              1,
              "#f0f921"
             ]
            ],
            "type": "histogram2d"
           }
          ],
          "histogram2dcontour": [
           {
            "colorbar": {
             "outlinewidth": 0,
             "ticks": ""
            },
            "colorscale": [
             [
              0,
              "#0d0887"
             ],
             [
              0.1111111111111111,
              "#46039f"
             ],
             [
              0.2222222222222222,
              "#7201a8"
             ],
             [
              0.3333333333333333,
              "#9c179e"
             ],
             [
              0.4444444444444444,
              "#bd3786"
             ],
             [
              0.5555555555555556,
              "#d8576b"
             ],
             [
              0.6666666666666666,
              "#ed7953"
             ],
             [
              0.7777777777777778,
              "#fb9f3a"
             ],
             [
              0.8888888888888888,
              "#fdca26"
             ],
             [
              1,
              "#f0f921"
             ]
            ],
            "type": "histogram2dcontour"
           }
          ],
          "mesh3d": [
           {
            "colorbar": {
             "outlinewidth": 0,
             "ticks": ""
            },
            "type": "mesh3d"
           }
          ],
          "parcoords": [
           {
            "line": {
             "colorbar": {
              "outlinewidth": 0,
              "ticks": ""
             }
            },
            "type": "parcoords"
           }
          ],
          "pie": [
           {
            "automargin": true,
            "type": "pie"
           }
          ],
          "scatter": [
           {
            "fillpattern": {
             "fillmode": "overlay",
             "size": 10,
             "solidity": 0.2
            },
            "type": "scatter"
           }
          ],
          "scatter3d": [
           {
            "line": {
             "colorbar": {
              "outlinewidth": 0,
              "ticks": ""
             }
            },
            "marker": {
             "colorbar": {
              "outlinewidth": 0,
              "ticks": ""
             }
            },
            "type": "scatter3d"
           }
          ],
          "scattercarpet": [
           {
            "marker": {
             "colorbar": {
              "outlinewidth": 0,
              "ticks": ""
             }
            },
            "type": "scattercarpet"
           }
          ],
          "scattergeo": [
           {
            "marker": {
             "colorbar": {
              "outlinewidth": 0,
              "ticks": ""
             }
            },
            "type": "scattergeo"
           }
          ],
          "scattergl": [
           {
            "marker": {
             "colorbar": {
              "outlinewidth": 0,
              "ticks": ""
             }
            },
            "type": "scattergl"
           }
          ],
          "scattermapbox": [
           {
            "marker": {
             "colorbar": {
              "outlinewidth": 0,
              "ticks": ""
             }
            },
            "type": "scattermapbox"
           }
          ],
          "scatterpolar": [
           {
            "marker": {
             "colorbar": {
              "outlinewidth": 0,
              "ticks": ""
             }
            },
            "type": "scatterpolar"
           }
          ],
          "scatterpolargl": [
           {
            "marker": {
             "colorbar": {
              "outlinewidth": 0,
              "ticks": ""
             }
            },
            "type": "scatterpolargl"
           }
          ],
          "scatterternary": [
           {
            "marker": {
             "colorbar": {
              "outlinewidth": 0,
              "ticks": ""
             }
            },
            "type": "scatterternary"
           }
          ],
          "surface": [
           {
            "colorbar": {
             "outlinewidth": 0,
             "ticks": ""
            },
            "colorscale": [
             [
              0,
              "#0d0887"
             ],
             [
              0.1111111111111111,
              "#46039f"
             ],
             [
              0.2222222222222222,
              "#7201a8"
             ],
             [
              0.3333333333333333,
              "#9c179e"
             ],
             [
              0.4444444444444444,
              "#bd3786"
             ],
             [
              0.5555555555555556,
              "#d8576b"
             ],
             [
              0.6666666666666666,
              "#ed7953"
             ],
             [
              0.7777777777777778,
              "#fb9f3a"
             ],
             [
              0.8888888888888888,
              "#fdca26"
             ],
             [
              1,
              "#f0f921"
             ]
            ],
            "type": "surface"
           }
          ],
          "table": [
           {
            "cells": {
             "fill": {
              "color": "#EBF0F8"
             },
             "line": {
              "color": "white"
             }
            },
            "header": {
             "fill": {
              "color": "#C8D4E3"
             },
             "line": {
              "color": "white"
             }
            },
            "type": "table"
           }
          ]
         },
         "layout": {
          "annotationdefaults": {
           "arrowcolor": "#2a3f5f",
           "arrowhead": 0,
           "arrowwidth": 1
          },
          "autotypenumbers": "strict",
          "coloraxis": {
           "colorbar": {
            "outlinewidth": 0,
            "ticks": ""
           }
          },
          "colorscale": {
           "diverging": [
            [
             0,
             "#8e0152"
            ],
            [
             0.1,
             "#c51b7d"
            ],
            [
             0.2,
             "#de77ae"
            ],
            [
             0.3,
             "#f1b6da"
            ],
            [
             0.4,
             "#fde0ef"
            ],
            [
             0.5,
             "#f7f7f7"
            ],
            [
             0.6,
             "#e6f5d0"
            ],
            [
             0.7,
             "#b8e186"
            ],
            [
             0.8,
             "#7fbc41"
            ],
            [
             0.9,
             "#4d9221"
            ],
            [
             1,
             "#276419"
            ]
           ],
           "sequential": [
            [
             0,
             "#0d0887"
            ],
            [
             0.1111111111111111,
             "#46039f"
            ],
            [
             0.2222222222222222,
             "#7201a8"
            ],
            [
             0.3333333333333333,
             "#9c179e"
            ],
            [
             0.4444444444444444,
             "#bd3786"
            ],
            [
             0.5555555555555556,
             "#d8576b"
            ],
            [
             0.6666666666666666,
             "#ed7953"
            ],
            [
             0.7777777777777778,
             "#fb9f3a"
            ],
            [
             0.8888888888888888,
             "#fdca26"
            ],
            [
             1,
             "#f0f921"
            ]
           ],
           "sequentialminus": [
            [
             0,
             "#0d0887"
            ],
            [
             0.1111111111111111,
             "#46039f"
            ],
            [
             0.2222222222222222,
             "#7201a8"
            ],
            [
             0.3333333333333333,
             "#9c179e"
            ],
            [
             0.4444444444444444,
             "#bd3786"
            ],
            [
             0.5555555555555556,
             "#d8576b"
            ],
            [
             0.6666666666666666,
             "#ed7953"
            ],
            [
             0.7777777777777778,
             "#fb9f3a"
            ],
            [
             0.8888888888888888,
             "#fdca26"
            ],
            [
             1,
             "#f0f921"
            ]
           ]
          },
          "colorway": [
           "#636efa",
           "#EF553B",
           "#00cc96",
           "#ab63fa",
           "#FFA15A",
           "#19d3f3",
           "#FF6692",
           "#B6E880",
           "#FF97FF",
           "#FECB52"
          ],
          "font": {
           "color": "#2a3f5f"
          },
          "geo": {
           "bgcolor": "white",
           "lakecolor": "white",
           "landcolor": "#E5ECF6",
           "showlakes": true,
           "showland": true,
           "subunitcolor": "white"
          },
          "hoverlabel": {
           "align": "left"
          },
          "hovermode": "closest",
          "mapbox": {
           "style": "light"
          },
          "paper_bgcolor": "white",
          "plot_bgcolor": "#E5ECF6",
          "polar": {
           "angularaxis": {
            "gridcolor": "white",
            "linecolor": "white",
            "ticks": ""
           },
           "bgcolor": "#E5ECF6",
           "radialaxis": {
            "gridcolor": "white",
            "linecolor": "white",
            "ticks": ""
           }
          },
          "scene": {
           "xaxis": {
            "backgroundcolor": "#E5ECF6",
            "gridcolor": "white",
            "gridwidth": 2,
            "linecolor": "white",
            "showbackground": true,
            "ticks": "",
            "zerolinecolor": "white"
           },
           "yaxis": {
            "backgroundcolor": "#E5ECF6",
            "gridcolor": "white",
            "gridwidth": 2,
            "linecolor": "white",
            "showbackground": true,
            "ticks": "",
            "zerolinecolor": "white"
           },
           "zaxis": {
            "backgroundcolor": "#E5ECF6",
            "gridcolor": "white",
            "gridwidth": 2,
            "linecolor": "white",
            "showbackground": true,
            "ticks": "",
            "zerolinecolor": "white"
           }
          },
          "shapedefaults": {
           "line": {
            "color": "#2a3f5f"
           }
          },
          "ternary": {
           "aaxis": {
            "gridcolor": "white",
            "linecolor": "white",
            "ticks": ""
           },
           "baxis": {
            "gridcolor": "white",
            "linecolor": "white",
            "ticks": ""
           },
           "bgcolor": "#E5ECF6",
           "caxis": {
            "gridcolor": "white",
            "linecolor": "white",
            "ticks": ""
           }
          },
          "title": {
           "x": 0.05
          },
          "xaxis": {
           "automargin": true,
           "gridcolor": "white",
           "linecolor": "white",
           "ticks": "",
           "title": {
            "standoff": 15
           },
           "zerolinecolor": "white",
           "zerolinewidth": 2
          },
          "yaxis": {
           "automargin": true,
           "gridcolor": "white",
           "linecolor": "white",
           "ticks": "",
           "title": {
            "standoff": 15
           },
           "zerolinecolor": "white",
           "zerolinewidth": 2
          }
         }
        },
        "title": {
         "text": "Exports-G&S"
        },
        "width": 700
       }
      }
     },
     "metadata": {},
     "output_type": "display_data"
    }
   ],
   "source": [
    "unique_tri = demo2['Indicator'].unique()\n",
    "tri = widgets.SelectMultiple(\n",
    "    options = unique_tri.tolist(),\n",
    "    value = ['Exports-G&S'],\n",
    "    description='Indicator',\n",
    "    disabled=False,\n",
    "    layout = Layout(width='50%', height='80px')\n",
    ")\n",
    "\n",
    "def graf1(tri):\n",
    "    dat=demo2.loc[demo2.loc[:, 'Indicator'].isin(np.array(tri))]\n",
    "    a=px.choropleth(dat, locations=\"Country\", locationmode='ISO-3', \n",
    "                     color=\"R^2 Pearson\", hover_name=\"Country\",hover_data = [dat.Type, dat.Behaviour],projection=\"natural earth\",\n",
    "                     color_continuous_scale='Reds', width=700, height=500, title= dat.Indicator.unique().tolist()[0])\n",
    "    print(tri)\n",
    "    a.show()\n",
    "widgets.interactive(graf1, tri=tri)\n"
   ]
  },
  {
   "cell_type": "markdown",
   "metadata": {},
   "source": [
    "To wrap up, we can create the second widget that is exactly the same as the previous multiple selection widget. The purpose of this widget is to enable us to choose which Continent we want to visualize. Below is the code implementation of this widget."
   ]
  },
  {
   "cell_type": "code",
   "execution_count": 50,
   "metadata": {},
   "outputs": [
    {
     "data": {
      "application/vnd.jupyter.widget-view+json": {
       "model_id": "786cecc29fe64b678f77a5ac0c6a2652",
       "version_major": 2,
       "version_minor": 0
      },
      "text/plain": [
       "interactive(children=(SelectMultiple(description='Continent', index=(2,), layout=Layout(height='80px', width='…"
      ]
     },
     "metadata": {},
     "output_type": "display_data"
    },
    {
     "data": {
      "application/vnd.plotly.v1+json": {
       "config": {
        "plotlyServerURL": "https://plot.ly"
       },
       "data": [
        {
         "customdata": [
          [
           null,
           "Positive"
          ],
          [
           null,
           "Positive"
          ],
          [
           "Cuadratic",
           "Negative"
          ],
          [
           null,
           "Negative"
          ],
          [
           null,
           "Positive"
          ],
          [
           null,
           "Positive"
          ],
          [
           null,
           "Positive"
          ],
          [
           null,
           "Positive"
          ],
          [
           null,
           "Positive"
          ],
          [
           "Cuadratic",
           "Positive"
          ],
          [
           null,
           "Positive"
          ],
          [
           "Cuadratic",
           "Positive"
          ],
          [
           "Logarithmic",
           "Positive"
          ],
          [
           null,
           "Positive"
          ],
          [
           null,
           "Positive"
          ],
          [
           "Cuadratic",
           "Positive"
          ],
          [
           "Logarithmic",
           "Negative"
          ],
          [
           null,
           "Positive"
          ],
          [
           "Logarithmic",
           "Negative"
          ],
          [
           "Logarithmic",
           "Negative"
          ],
          [
           "Cubic",
           "Positive"
          ],
          [
           "Cuadratic",
           "Positive"
          ],
          [
           "Cuadratic",
           "Negative"
          ],
          [
           null,
           "Positive"
          ],
          [
           "Cuadratic",
           "Positive"
          ],
          [
           "Cuadratic",
           "Positive"
          ],
          [
           "Logarithmic",
           "Negative"
          ],
          [
           null,
           "Positive"
          ],
          [
           "Logarithmic",
           "Positive"
          ],
          [
           null,
           "Positive"
          ],
          [
           "Logarithmic",
           "Positive"
          ],
          [
           "Cuadratic",
           "Negative"
          ],
          [
           null,
           "Positive"
          ],
          [
           "Logarithmic",
           "Negative"
          ],
          [
           "Logarithmic",
           "Positive"
          ],
          [
           null,
           "Positive"
          ],
          [
           null,
           "Negative"
          ],
          [
           "Cubic",
           "Negative"
          ],
          [
           "Logarithmic",
           "Positive"
          ],
          [
           null,
           "Positive"
          ],
          [
           null,
           "Positive"
          ],
          [
           "Cubic",
           "Negative"
          ],
          [
           null,
           "Positive"
          ],
          [
           null,
           "Positive"
          ],
          [
           "Cuadratic",
           "Negative"
          ],
          [
           "Cubic",
           "Negative"
          ],
          [
           "Logarithmic",
           "Positive"
          ],
          [
           null,
           "Positive"
          ],
          [
           null,
           "Positive"
          ],
          [
           null,
           "Positive"
          ],
          [
           null,
           "Positive"
          ],
          [
           null,
           "Negative"
          ],
          [
           null,
           "Negative"
          ],
          [
           "Logarithmic",
           "Negative"
          ]
         ],
         "hovertemplate": "<b>%{hovertext}</b><br><br>R^2 Pearson=%{marker.color}<br>Indicator=%{y}<br>Type=%{customdata[0]}<br>Behaviour=%{customdata[1]}<extra></extra>",
         "hovertext": [
          "DZA",
          "DZA",
          "DZA",
          "DZA",
          "DZA",
          "DZA",
          "DZA",
          "EGY",
          "EGY",
          "EGY",
          "EGY",
          "EGY",
          "EGY",
          "EGY",
          "LBY",
          "ISR",
          "ISR",
          "ISR",
          "ISR",
          "ISR",
          "ISR",
          "ISR",
          "ISR",
          "ISR",
          "ISR",
          "ISR",
          "TUR",
          "TUR",
          "TUR",
          "TUR",
          "TUR",
          "TUR",
          "TUR",
          "TUR",
          "TUR",
          "TUR",
          "TUR",
          "TUR",
          "TUR",
          "TUR",
          "MAR",
          "MAR",
          "MAR",
          "MAR",
          "MAR",
          "MAR",
          "MAR",
          "MAR",
          "MAR",
          "MAR",
          "MAR",
          "MAR",
          "MAR",
          "MAR"
         ],
         "legendgroup": "",
         "marker": {
          "color": [
           0.9289158279901037,
           0.9213771435444178,
           0.9075918529847351,
           0.904864353429385,
           0.8758839689728439,
           0.8390883159750028,
           0.7857192483231298,
           0.905691549611508,
           0.8990802196732206,
           0.8962083637425559,
           0.8959887539281101,
           0.8840707210618246,
           0.8754106010601125,
           0.7712782533668188,
           0.891789395879511,
           0.9874778307869048,
           0.9581392726953888,
           0.9565210718293581,
           0.949567589871179,
           0.9433317723823056,
           0.9174191314064287,
           0.8927691475893725,
           0.877668819104662,
           0.8538660757824813,
           0.8265682104723039,
           0.7792227834792094,
           0.9646818981605869,
           0.949243785588551,
           0.9031967123122572,
           0.8890016031609888,
           0.8658018331423527,
           0.8635009656135182,
           0.8573494233376868,
           0.838814100901544,
           0.8316825506959581,
           0.8235704003004464,
           0.8222834157713641,
           0.8142252115949318,
           0.7735405976901415,
           0.757366189732593,
           0.9823598695370912,
           0.9725072632075309,
           0.9580573107996607,
           0.9555728136156069,
           0.9436859248182337,
           0.9345196406345899,
           0.9199277938333447,
           0.9157439992681066,
           0.9138972219088164,
           0.8931193245875468,
           0.8542386654476775,
           0.850688427514224,
           0.8040732343408238,
           0.7637341301563336
          ],
          "coloraxis": "coloraxis",
          "symbol": "circle"
         },
         "mode": "markers",
         "name": "",
         "orientation": "h",
         "showlegend": false,
         "type": "scatter",
         "x": [
          0.9289158279901037,
          0.9213771435444178,
          0.9075918529847351,
          0.904864353429385,
          0.8758839689728439,
          0.8390883159750028,
          0.7857192483231298,
          0.905691549611508,
          0.8990802196732206,
          0.8962083637425559,
          0.8959887539281101,
          0.8840707210618246,
          0.8754106010601125,
          0.7712782533668188,
          0.891789395879511,
          0.9874778307869048,
          0.9581392726953888,
          0.9565210718293581,
          0.949567589871179,
          0.9433317723823056,
          0.9174191314064287,
          0.8927691475893725,
          0.877668819104662,
          0.8538660757824813,
          0.8265682104723039,
          0.7792227834792094,
          0.9646818981605869,
          0.949243785588551,
          0.9031967123122572,
          0.8890016031609888,
          0.8658018331423527,
          0.8635009656135182,
          0.8573494233376868,
          0.838814100901544,
          0.8316825506959581,
          0.8235704003004464,
          0.8222834157713641,
          0.8142252115949318,
          0.7735405976901415,
          0.757366189732593,
          0.9823598695370912,
          0.9725072632075309,
          0.9580573107996607,
          0.9555728136156069,
          0.9436859248182337,
          0.9345196406345899,
          0.9199277938333447,
          0.9157439992681066,
          0.9138972219088164,
          0.8931193245875468,
          0.8542386654476775,
          0.850688427514224,
          0.8040732343408238,
          0.7637341301563336
         ],
         "xaxis": "x",
         "y": [
          "Employment-industry",
          "Health services use",
          "Suicide",
          "Employment-agriculture",
          "Exports-Commercial services",
          "Employment-services",
          "Literacy rate",
          "R&D GExp",
          "Health services use",
          "Alcohol per capita",
          "International taxes",
          "Renewable electricity",
          "Literacy rate",
          "Employment-industry",
          "Exports-G&S",
          "Exports-G&S",
          "Employment-industry",
          "Exports-Commercial services",
          "Employment-agriculture",
          "Mortality-infants",
          "Employment-services",
          "International taxes",
          "Health services use",
          "Renewable electricity",
          "Alcohol per capita",
          "Education GExp",
          "Suicide",
          "Exports-G&S",
          "R&D GExp",
          "Literacy rate",
          "Net migration",
          "Employment-agriculture",
          "Exports-Commercial services",
          "Fertility rate",
          "Renewable electricity",
          "Health services use",
          "Mortality-infants",
          "Foreign investment",
          "Education GExp",
          "Employment-services",
          "Exports-G&S",
          "Alcohol per capita",
          "Exports-Commercial services",
          "Health services use",
          "Employment-agriculture",
          "Suicide",
          "R&D GExp",
          "Literacy rate",
          "Renewable electricity",
          "Employment-services",
          "Employment-industry",
          "Mortality-infants",
          "Education GExp",
          "Fertility rate"
         ],
         "yaxis": "y"
        }
       ],
       "layout": {
        "coloraxis": {
         "colorbar": {
          "title": {
           "text": "R^2 Pearson"
          }
         },
         "colorscale": [
          [
           0,
           "rgb(247,251,255)"
          ],
          [
           0.125,
           "rgb(222,235,247)"
          ],
          [
           0.25,
           "rgb(198,219,239)"
          ],
          [
           0.375,
           "rgb(158,202,225)"
          ],
          [
           0.5,
           "rgb(107,174,214)"
          ],
          [
           0.625,
           "rgb(66,146,198)"
          ],
          [
           0.75,
           "rgb(33,113,181)"
          ],
          [
           0.875,
           "rgb(8,81,156)"
          ],
          [
           1,
           "rgb(8,48,107)"
          ]
         ]
        },
        "height": 500,
        "legend": {
         "tracegroupgap": 0
        },
        "template": {
         "data": {
          "bar": [
           {
            "error_x": {
             "color": "#2a3f5f"
            },
            "error_y": {
             "color": "#2a3f5f"
            },
            "marker": {
             "line": {
              "color": "#E5ECF6",
              "width": 0.5
             },
             "pattern": {
              "fillmode": "overlay",
              "size": 10,
              "solidity": 0.2
             }
            },
            "type": "bar"
           }
          ],
          "barpolar": [
           {
            "marker": {
             "line": {
              "color": "#E5ECF6",
              "width": 0.5
             },
             "pattern": {
              "fillmode": "overlay",
              "size": 10,
              "solidity": 0.2
             }
            },
            "type": "barpolar"
           }
          ],
          "carpet": [
           {
            "aaxis": {
             "endlinecolor": "#2a3f5f",
             "gridcolor": "white",
             "linecolor": "white",
             "minorgridcolor": "white",
             "startlinecolor": "#2a3f5f"
            },
            "baxis": {
             "endlinecolor": "#2a3f5f",
             "gridcolor": "white",
             "linecolor": "white",
             "minorgridcolor": "white",
             "startlinecolor": "#2a3f5f"
            },
            "type": "carpet"
           }
          ],
          "choropleth": [
           {
            "colorbar": {
             "outlinewidth": 0,
             "ticks": ""
            },
            "type": "choropleth"
           }
          ],
          "contour": [
           {
            "colorbar": {
             "outlinewidth": 0,
             "ticks": ""
            },
            "colorscale": [
             [
              0,
              "#0d0887"
             ],
             [
              0.1111111111111111,
              "#46039f"
             ],
             [
              0.2222222222222222,
              "#7201a8"
             ],
             [
              0.3333333333333333,
              "#9c179e"
             ],
             [
              0.4444444444444444,
              "#bd3786"
             ],
             [
              0.5555555555555556,
              "#d8576b"
             ],
             [
              0.6666666666666666,
              "#ed7953"
             ],
             [
              0.7777777777777778,
              "#fb9f3a"
             ],
             [
              0.8888888888888888,
              "#fdca26"
             ],
             [
              1,
              "#f0f921"
             ]
            ],
            "type": "contour"
           }
          ],
          "contourcarpet": [
           {
            "colorbar": {
             "outlinewidth": 0,
             "ticks": ""
            },
            "type": "contourcarpet"
           }
          ],
          "heatmap": [
           {
            "colorbar": {
             "outlinewidth": 0,
             "ticks": ""
            },
            "colorscale": [
             [
              0,
              "#0d0887"
             ],
             [
              0.1111111111111111,
              "#46039f"
             ],
             [
              0.2222222222222222,
              "#7201a8"
             ],
             [
              0.3333333333333333,
              "#9c179e"
             ],
             [
              0.4444444444444444,
              "#bd3786"
             ],
             [
              0.5555555555555556,
              "#d8576b"
             ],
             [
              0.6666666666666666,
              "#ed7953"
             ],
             [
              0.7777777777777778,
              "#fb9f3a"
             ],
             [
              0.8888888888888888,
              "#fdca26"
             ],
             [
              1,
              "#f0f921"
             ]
            ],
            "type": "heatmap"
           }
          ],
          "heatmapgl": [
           {
            "colorbar": {
             "outlinewidth": 0,
             "ticks": ""
            },
            "colorscale": [
             [
              0,
              "#0d0887"
             ],
             [
              0.1111111111111111,
              "#46039f"
             ],
             [
              0.2222222222222222,
              "#7201a8"
             ],
             [
              0.3333333333333333,
              "#9c179e"
             ],
             [
              0.4444444444444444,
              "#bd3786"
             ],
             [
              0.5555555555555556,
              "#d8576b"
             ],
             [
              0.6666666666666666,
              "#ed7953"
             ],
             [
              0.7777777777777778,
              "#fb9f3a"
             ],
             [
              0.8888888888888888,
              "#fdca26"
             ],
             [
              1,
              "#f0f921"
             ]
            ],
            "type": "heatmapgl"
           }
          ],
          "histogram": [
           {
            "marker": {
             "pattern": {
              "fillmode": "overlay",
              "size": 10,
              "solidity": 0.2
             }
            },
            "type": "histogram"
           }
          ],
          "histogram2d": [
           {
            "colorbar": {
             "outlinewidth": 0,
             "ticks": ""
            },
            "colorscale": [
             [
              0,
              "#0d0887"
             ],
             [
              0.1111111111111111,
              "#46039f"
             ],
             [
              0.2222222222222222,
              "#7201a8"
             ],
             [
              0.3333333333333333,
              "#9c179e"
             ],
             [
              0.4444444444444444,
              "#bd3786"
             ],
             [
              0.5555555555555556,
              "#d8576b"
             ],
             [
              0.6666666666666666,
              "#ed7953"
             ],
             [
              0.7777777777777778,
              "#fb9f3a"
             ],
             [
              0.8888888888888888,
              "#fdca26"
             ],
             [
              1,
              "#f0f921"
             ]
            ],
            "type": "histogram2d"
           }
          ],
          "histogram2dcontour": [
           {
            "colorbar": {
             "outlinewidth": 0,
             "ticks": ""
            },
            "colorscale": [
             [
              0,
              "#0d0887"
             ],
             [
              0.1111111111111111,
              "#46039f"
             ],
             [
              0.2222222222222222,
              "#7201a8"
             ],
             [
              0.3333333333333333,
              "#9c179e"
             ],
             [
              0.4444444444444444,
              "#bd3786"
             ],
             [
              0.5555555555555556,
              "#d8576b"
             ],
             [
              0.6666666666666666,
              "#ed7953"
             ],
             [
              0.7777777777777778,
              "#fb9f3a"
             ],
             [
              0.8888888888888888,
              "#fdca26"
             ],
             [
              1,
              "#f0f921"
             ]
            ],
            "type": "histogram2dcontour"
           }
          ],
          "mesh3d": [
           {
            "colorbar": {
             "outlinewidth": 0,
             "ticks": ""
            },
            "type": "mesh3d"
           }
          ],
          "parcoords": [
           {
            "line": {
             "colorbar": {
              "outlinewidth": 0,
              "ticks": ""
             }
            },
            "type": "parcoords"
           }
          ],
          "pie": [
           {
            "automargin": true,
            "type": "pie"
           }
          ],
          "scatter": [
           {
            "fillpattern": {
             "fillmode": "overlay",
             "size": 10,
             "solidity": 0.2
            },
            "type": "scatter"
           }
          ],
          "scatter3d": [
           {
            "line": {
             "colorbar": {
              "outlinewidth": 0,
              "ticks": ""
             }
            },
            "marker": {
             "colorbar": {
              "outlinewidth": 0,
              "ticks": ""
             }
            },
            "type": "scatter3d"
           }
          ],
          "scattercarpet": [
           {
            "marker": {
             "colorbar": {
              "outlinewidth": 0,
              "ticks": ""
             }
            },
            "type": "scattercarpet"
           }
          ],
          "scattergeo": [
           {
            "marker": {
             "colorbar": {
              "outlinewidth": 0,
              "ticks": ""
             }
            },
            "type": "scattergeo"
           }
          ],
          "scattergl": [
           {
            "marker": {
             "colorbar": {
              "outlinewidth": 0,
              "ticks": ""
             }
            },
            "type": "scattergl"
           }
          ],
          "scattermapbox": [
           {
            "marker": {
             "colorbar": {
              "outlinewidth": 0,
              "ticks": ""
             }
            },
            "type": "scattermapbox"
           }
          ],
          "scatterpolar": [
           {
            "marker": {
             "colorbar": {
              "outlinewidth": 0,
              "ticks": ""
             }
            },
            "type": "scatterpolar"
           }
          ],
          "scatterpolargl": [
           {
            "marker": {
             "colorbar": {
              "outlinewidth": 0,
              "ticks": ""
             }
            },
            "type": "scatterpolargl"
           }
          ],
          "scatterternary": [
           {
            "marker": {
             "colorbar": {
              "outlinewidth": 0,
              "ticks": ""
             }
            },
            "type": "scatterternary"
           }
          ],
          "surface": [
           {
            "colorbar": {
             "outlinewidth": 0,
             "ticks": ""
            },
            "colorscale": [
             [
              0,
              "#0d0887"
             ],
             [
              0.1111111111111111,
              "#46039f"
             ],
             [
              0.2222222222222222,
              "#7201a8"
             ],
             [
              0.3333333333333333,
              "#9c179e"
             ],
             [
              0.4444444444444444,
              "#bd3786"
             ],
             [
              0.5555555555555556,
              "#d8576b"
             ],
             [
              0.6666666666666666,
              "#ed7953"
             ],
             [
              0.7777777777777778,
              "#fb9f3a"
             ],
             [
              0.8888888888888888,
              "#fdca26"
             ],
             [
              1,
              "#f0f921"
             ]
            ],
            "type": "surface"
           }
          ],
          "table": [
           {
            "cells": {
             "fill": {
              "color": "#EBF0F8"
             },
             "line": {
              "color": "white"
             }
            },
            "header": {
             "fill": {
              "color": "#C8D4E3"
             },
             "line": {
              "color": "white"
             }
            },
            "type": "table"
           }
          ]
         },
         "layout": {
          "annotationdefaults": {
           "arrowcolor": "#2a3f5f",
           "arrowhead": 0,
           "arrowwidth": 1
          },
          "autotypenumbers": "strict",
          "coloraxis": {
           "colorbar": {
            "outlinewidth": 0,
            "ticks": ""
           }
          },
          "colorscale": {
           "diverging": [
            [
             0,
             "#8e0152"
            ],
            [
             0.1,
             "#c51b7d"
            ],
            [
             0.2,
             "#de77ae"
            ],
            [
             0.3,
             "#f1b6da"
            ],
            [
             0.4,
             "#fde0ef"
            ],
            [
             0.5,
             "#f7f7f7"
            ],
            [
             0.6,
             "#e6f5d0"
            ],
            [
             0.7,
             "#b8e186"
            ],
            [
             0.8,
             "#7fbc41"
            ],
            [
             0.9,
             "#4d9221"
            ],
            [
             1,
             "#276419"
            ]
           ],
           "sequential": [
            [
             0,
             "#0d0887"
            ],
            [
             0.1111111111111111,
             "#46039f"
            ],
            [
             0.2222222222222222,
             "#7201a8"
            ],
            [
             0.3333333333333333,
             "#9c179e"
            ],
            [
             0.4444444444444444,
             "#bd3786"
            ],
            [
             0.5555555555555556,
             "#d8576b"
            ],
            [
             0.6666666666666666,
             "#ed7953"
            ],
            [
             0.7777777777777778,
             "#fb9f3a"
            ],
            [
             0.8888888888888888,
             "#fdca26"
            ],
            [
             1,
             "#f0f921"
            ]
           ],
           "sequentialminus": [
            [
             0,
             "#0d0887"
            ],
            [
             0.1111111111111111,
             "#46039f"
            ],
            [
             0.2222222222222222,
             "#7201a8"
            ],
            [
             0.3333333333333333,
             "#9c179e"
            ],
            [
             0.4444444444444444,
             "#bd3786"
            ],
            [
             0.5555555555555556,
             "#d8576b"
            ],
            [
             0.6666666666666666,
             "#ed7953"
            ],
            [
             0.7777777777777778,
             "#fb9f3a"
            ],
            [
             0.8888888888888888,
             "#fdca26"
            ],
            [
             1,
             "#f0f921"
            ]
           ]
          },
          "colorway": [
           "#636efa",
           "#EF553B",
           "#00cc96",
           "#ab63fa",
           "#FFA15A",
           "#19d3f3",
           "#FF6692",
           "#B6E880",
           "#FF97FF",
           "#FECB52"
          ],
          "font": {
           "color": "#2a3f5f"
          },
          "geo": {
           "bgcolor": "white",
           "lakecolor": "white",
           "landcolor": "#E5ECF6",
           "showlakes": true,
           "showland": true,
           "subunitcolor": "white"
          },
          "hoverlabel": {
           "align": "left"
          },
          "hovermode": "closest",
          "mapbox": {
           "style": "light"
          },
          "paper_bgcolor": "white",
          "plot_bgcolor": "#E5ECF6",
          "polar": {
           "angularaxis": {
            "gridcolor": "white",
            "linecolor": "white",
            "ticks": ""
           },
           "bgcolor": "#E5ECF6",
           "radialaxis": {
            "gridcolor": "white",
            "linecolor": "white",
            "ticks": ""
           }
          },
          "scene": {
           "xaxis": {
            "backgroundcolor": "#E5ECF6",
            "gridcolor": "white",
            "gridwidth": 2,
            "linecolor": "white",
            "showbackground": true,
            "ticks": "",
            "zerolinecolor": "white"
           },
           "yaxis": {
            "backgroundcolor": "#E5ECF6",
            "gridcolor": "white",
            "gridwidth": 2,
            "linecolor": "white",
            "showbackground": true,
            "ticks": "",
            "zerolinecolor": "white"
           },
           "zaxis": {
            "backgroundcolor": "#E5ECF6",
            "gridcolor": "white",
            "gridwidth": 2,
            "linecolor": "white",
            "showbackground": true,
            "ticks": "",
            "zerolinecolor": "white"
           }
          },
          "shapedefaults": {
           "line": {
            "color": "#2a3f5f"
           }
          },
          "ternary": {
           "aaxis": {
            "gridcolor": "white",
            "linecolor": "white",
            "ticks": ""
           },
           "baxis": {
            "gridcolor": "white",
            "linecolor": "white",
            "ticks": ""
           },
           "bgcolor": "#E5ECF6",
           "caxis": {
            "gridcolor": "white",
            "linecolor": "white",
            "ticks": ""
           }
          },
          "title": {
           "x": 0.05
          },
          "xaxis": {
           "automargin": true,
           "gridcolor": "white",
           "linecolor": "white",
           "ticks": "",
           "title": {
            "standoff": 15
           },
           "zerolinecolor": "white",
           "zerolinewidth": 2
          },
          "yaxis": {
           "automargin": true,
           "gridcolor": "white",
           "linecolor": "white",
           "ticks": "",
           "title": {
            "standoff": 15
           },
           "zerolinecolor": "white",
           "zerolinewidth": 2
          }
         }
        },
        "title": {
         "text": "North Africa"
        },
        "width": 700,
        "xaxis": {
         "anchor": "y",
         "domain": [
          0,
          1
         ],
         "title": {
          "text": "R^2 Pearson"
         }
        },
        "yaxis": {
         "anchor": "x",
         "domain": [
          0,
          1
         ],
         "title": {
          "text": "Indicator"
         }
        }
       }
      }
     },
     "metadata": {},
     "output_type": "display_data"
    }
   ],
   "source": [
    "unique_tric = demo2['Continent'].unique()\n",
    "tric = widgets.SelectMultiple(\n",
    "    options = unique_tric.tolist(),\n",
    "    value = ['North Africa'],\n",
    "    description='Continent',\n",
    "    disabled=False,\n",
    "    layout = Layout(width='50%', height='80px')\n",
    ")\n",
    "\n",
    "def graf1(tric):\n",
    "    dat=demo2.loc[demo2.loc[:, 'Continent'].isin(np.array(tric))]\n",
    "    a=px.scatter(dat, x=\"R^2 Pearson\", y='Indicator',\n",
    "                     color=\"R^2 Pearson\", hover_name=\"Country\",hover_data = [dat.Type, dat.Behaviour],\n",
    "                     color_continuous_scale='Blues', width=700, height=500, title= dat.Continent.unique().tolist()[0])\n",
    "    a.show()\n",
    "widgets.interactive(graf1, tric=tric)"
   ]
  },
  {
   "cell_type": "markdown",
   "metadata": {},
   "source": [
    "Now, if we execute the following loop, it will provide with the variables that follow a normal distribution."
   ]
  },
  {
   "cell_type": "code",
   "execution_count": 51,
   "metadata": {},
   "outputs": [
    {
     "name": "stdout",
     "output_type": "stream",
     "text": [
      "DEU-Exports-Commercial services\n",
      "Statistical=0.957, p=0.229\n",
      "Data is NORMAL ( H0 not denied )\n",
      "DEU-Renewable electricity\n",
      "Statistical=0.806, p=0.000\n",
      "DEU-Employment-agriculture\n",
      "Statistical=0.888, p=0.003\n",
      "DEU-Employment-industry\n",
      "Statistical=0.906, p=0.009\n",
      "DEU-Employment-services\n",
      "Statistical=0.877, p=0.002\n",
      "DEU-Exports-G&S\n",
      "Statistical=0.887, p=0.003\n",
      "DEU-Fertility rate\n",
      "Statistical=0.893, p=0.004\n",
      "DEU-Foreign investment\n",
      "Statistical=0.851, p=0.000\n",
      "DEU-GDP\n",
      "Statistical=0.927, p=0.031\n",
      "DEU-Education GExp\n",
      "Statistical=0.972, p=0.548\n",
      "Data is NORMAL ( H0 not denied )\n",
      "DEU-Workers high education\n",
      "Statistical=0.887, p=0.003\n",
      "DEU-Literacy rate\n",
      "Statistical=0.809, p=0.000\n",
      "DEU-Net migration\n",
      "Statistical=nan, p=1.000\n",
      "Data is NORMAL ( H0 not denied )\n",
      "DEU-Mortality-infants\n",
      "Statistical=nan, p=1.000\n",
      "Data is NORMAL ( H0 not denied )\n",
      "DEU-Health services use\n",
      "Statistical=0.804, p=0.000\n",
      "DEU-R&D GExp\n",
      "Statistical=0.879, p=0.002\n",
      "DEU-Ninis\n",
      "Statistical=0.819, p=0.000\n",
      "DEU-Suicide\n",
      "Statistical=0.892, p=0.004\n",
      "DEU-International taxes\n",
      "Statistical=0.824, p=0.000\n",
      "DEU-Alcohol per capita\n",
      "Statistical=0.826, p=0.000\n",
      "FRA-Exports-Commercial services\n",
      "Statistical=0.957, p=0.229\n",
      "Data is NORMAL ( H0 not denied )\n",
      "FRA-Renewable electricity\n",
      "Statistical=0.796, p=0.000\n",
      "FRA-Employment-agriculture\n",
      "Statistical=0.936, p=0.058\n",
      "Data is NORMAL ( H0 not denied )\n",
      "FRA-Employment-industry\n",
      "Statistical=0.904, p=0.008\n",
      "FRA-Employment-services\n",
      "Statistical=0.906, p=0.009\n",
      "FRA-Exports-G&S\n",
      "Statistical=0.915, p=0.015\n",
      "FRA-Fertility rate\n",
      "Statistical=0.876, p=0.002\n",
      "FRA-Foreign investment\n",
      "Statistical=0.884, p=0.002\n",
      "FRA-GDP\n",
      "Statistical=0.915, p=0.015\n",
      "FRA-Education GExp\n",
      "Statistical=0.957, p=0.223\n",
      "Data is NORMAL ( H0 not denied )\n",
      "FRA-Workers high education\n",
      "Statistical=0.846, p=0.000\n",
      "FRA-Literacy rate\n",
      "Statistical=0.856, p=0.001\n",
      "FRA-Net migration\n",
      "Statistical=0.888, p=0.003\n",
      "FRA-Mortality-infants\n",
      "Statistical=nan, p=1.000\n",
      "Data is NORMAL ( H0 not denied )\n",
      "FRA-Health services use\n",
      "Statistical=0.755, p=0.000\n",
      "FRA-R&D GExp\n",
      "Statistical=0.896, p=0.005\n",
      "FRA-Ninis\n",
      "Statistical=0.840, p=0.000\n",
      "FRA-Suicide\n",
      "Statistical=0.902, p=0.007\n",
      "FRA-International taxes\n",
      "Statistical=0.754, p=0.000\n",
      "FRA-Alcohol per capita\n",
      "Statistical=0.811, p=0.000\n",
      "SWE-Exports-Commercial services\n",
      "Statistical=0.957, p=0.247\n",
      "Data is NORMAL ( H0 not denied )\n",
      "SWE-Renewable electricity\n",
      "Statistical=0.832, p=0.000\n",
      "SWE-Employment-agriculture\n",
      "Statistical=0.883, p=0.003\n",
      "SWE-Employment-industry\n",
      "Statistical=0.898, p=0.006\n",
      "SWE-Employment-services\n",
      "Statistical=0.893, p=0.005\n",
      "SWE-Exports-G&S\n",
      "Statistical=0.898, p=0.006\n",
      "SWE-Fertility rate\n",
      "Statistical=0.850, p=0.001\n",
      "SWE-Foreign investment\n",
      "Statistical=0.863, p=0.001\n",
      "SWE-GDP\n",
      "Statistical=0.964, p=0.367\n",
      "Data is NORMAL ( H0 not denied )\n",
      "SWE-Education GExp\n",
      "Statistical=0.976, p=0.700\n",
      "Data is NORMAL ( H0 not denied )\n",
      "SWE-Workers high education\n",
      "Statistical=0.864, p=0.001\n",
      "SWE-Literacy rate\n",
      "Statistical=0.830, p=0.000\n",
      "SWE-Net migration\n",
      "Statistical=nan, p=1.000\n",
      "Data is NORMAL ( H0 not denied )\n",
      "SWE-Mortality-infants\n",
      "Statistical=nan, p=1.000\n",
      "Data is NORMAL ( H0 not denied )\n",
      "SWE-Health services use\n",
      "Statistical=0.791, p=0.000\n",
      "SWE-R&D GExp\n",
      "Statistical=0.932, p=0.051\n",
      "Data is NORMAL ( H0 not denied )\n",
      "SWE-Ninis\n",
      "Statistical=0.820, p=0.000\n",
      "SWE-Suicide\n",
      "Statistical=0.955, p=0.215\n",
      "Data is NORMAL ( H0 not denied )\n",
      "SWE-International taxes\n",
      "Statistical=0.832, p=0.000\n",
      "SWE-Alcohol per capita\n",
      "Statistical=0.927, p=0.037\n",
      "GBR-Exports-Commercial services\n",
      "Statistical=0.957, p=0.247\n",
      "Data is NORMAL ( H0 not denied )\n",
      "GBR-Renewable electricity\n",
      "Statistical=0.759, p=0.000\n",
      "GBR-Employment-agriculture\n",
      "Statistical=0.944, p=0.110\n",
      "Data is NORMAL ( H0 not denied )\n",
      "GBR-Employment-industry\n",
      "Statistical=0.846, p=0.000\n",
      "GBR-Employment-services\n",
      "Statistical=0.896, p=0.006\n",
      "GBR-Exports-G&S\n",
      "Statistical=0.896, p=0.006\n",
      "GBR-Fertility rate\n",
      "Statistical=0.885, p=0.003\n",
      "GBR-Foreign investment\n",
      "Statistical=0.881, p=0.003\n",
      "GBR-GDP\n",
      "Statistical=0.971, p=0.533\n",
      "Data is NORMAL ( H0 not denied )\n",
      "GBR-Education GExp\n",
      "Statistical=0.973, p=0.593\n",
      "Data is NORMAL ( H0 not denied )\n",
      "GBR-Workers high education\n",
      "Statistical=0.882, p=0.003\n",
      "GBR-Literacy rate\n",
      "Statistical=0.847, p=0.000\n",
      "GBR-Net migration\n",
      "Statistical=nan, p=1.000\n",
      "Data is NORMAL ( H0 not denied )\n",
      "GBR-Mortality-infants\n",
      "Statistical=nan, p=1.000\n",
      "Data is NORMAL ( H0 not denied )\n",
      "GBR-Health services use\n",
      "Statistical=0.917, p=0.020\n",
      "GBR-R&D GExp\n",
      "Statistical=0.936, p=0.063\n",
      "Data is NORMAL ( H0 not denied )\n",
      "GBR-Ninis\n",
      "Statistical=0.773, p=0.000\n",
      "GBR-Suicide\n",
      "Statistical=0.941, p=0.088\n",
      "Data is NORMAL ( H0 not denied )\n",
      "GBR-International taxes\n",
      "Statistical=0.810, p=0.000\n",
      "GBR-Alcohol per capita\n",
      "Statistical=0.891, p=0.004\n",
      "ESP-Exports-Commercial services\n",
      "Statistical=0.957, p=0.247\n",
      "Data is NORMAL ( H0 not denied )\n",
      "ESP-Renewable electricity\n",
      "Statistical=0.793, p=0.000\n",
      "ESP-Employment-agriculture\n",
      "Statistical=0.908, p=0.012\n",
      "ESP-Employment-industry\n",
      "Statistical=0.823, p=0.000\n",
      "ESP-Employment-services\n",
      "Statistical=0.798, p=0.000\n",
      "ESP-Exports-G&S\n",
      "Statistical=0.866, p=0.001\n",
      "ESP-Fertility rate\n",
      "Statistical=0.905, p=0.009\n",
      "ESP-Foreign investment\n",
      "Statistical=0.897, p=0.006\n",
      "ESP-GDP\n",
      "Statistical=0.960, p=0.283\n",
      "Data is NORMAL ( H0 not denied )\n",
      "ESP-Education GExp\n",
      "Statistical=0.989, p=0.980\n",
      "Data is NORMAL ( H0 not denied )\n",
      "ESP-Workers high education\n",
      "Statistical=0.850, p=0.001\n",
      "ESP-Literacy rate\n",
      "Statistical=0.848, p=0.000\n",
      "ESP-Net migration\n",
      "Statistical=0.363, p=0.000\n",
      "ESP-Mortality-infants\n",
      "Statistical=0.712, p=0.000\n",
      "ESP-Health services use\n",
      "Statistical=0.923, p=0.029\n",
      "ESP-R&D GExp\n",
      "Statistical=0.901, p=0.008\n",
      "ESP-Ninis\n",
      "Statistical=0.711, p=0.000\n",
      "ESP-Suicide\n",
      "Statistical=0.852, p=0.001\n",
      "ESP-International taxes\n",
      "Statistical=0.820, p=0.000\n",
      "ESP-Alcohol per capita\n",
      "Statistical=0.841, p=0.000\n",
      "HRV-Exports-Commercial services\n",
      "Statistical=0.957, p=0.247\n",
      "Data is NORMAL ( H0 not denied )\n",
      "HRV-Renewable electricity\n",
      "Statistical=0.700, p=0.000\n",
      "HRV-Employment-agriculture\n",
      "Statistical=0.829, p=0.000\n",
      "HRV-Employment-industry\n",
      "Statistical=0.944, p=0.103\n",
      "Data is NORMAL ( H0 not denied )\n",
      "HRV-Employment-services\n",
      "Statistical=0.956, p=0.232\n",
      "Data is NORMAL ( H0 not denied )\n",
      "HRV-Exports-G&S\n",
      "Statistical=0.928, p=0.040\n",
      "HRV-Fertility rate\n",
      "Statistical=0.911, p=0.013\n",
      "HRV-Foreign investment\n",
      "Statistical=0.866, p=0.001\n",
      "HRV-GDP\n",
      "Statistical=0.976, p=0.703\n",
      "Data is NORMAL ( H0 not denied )\n",
      "HRV-Education GExp\n",
      "Statistical=0.931, p=0.048\n",
      "HRV-Workers high education\n",
      "Statistical=0.827, p=0.000\n",
      "HRV-Literacy rate\n",
      "Statistical=0.835, p=0.000\n",
      "HRV-Net migration\n",
      "Statistical=0.878, p=0.002\n",
      "HRV-Mortality-infants\n",
      "Statistical=0.855, p=0.001\n",
      "HRV-Health services use\n",
      "Statistical=0.893, p=0.005\n",
      "HRV-R&D GExp\n",
      "Statistical=0.817, p=0.000\n",
      "HRV-Ninis\n",
      "Statistical=0.822, p=0.000\n",
      "HRV-Suicide\n",
      "Statistical=0.910, p=0.013\n",
      "HRV-International taxes\n",
      "Statistical=0.716, p=0.000\n",
      "HRV-Alcohol per capita\n",
      "Statistical=0.846, p=0.000\n",
      "POL-Exports-Commercial services\n",
      "Statistical=0.957, p=0.247\n",
      "Data is NORMAL ( H0 not denied )\n",
      "POL-Renewable electricity\n",
      "Statistical=0.813, p=0.000\n",
      "POL-Employment-agriculture\n",
      "Statistical=0.848, p=0.000\n",
      "POL-Employment-industry\n",
      "Statistical=0.935, p=0.060\n",
      "Data is NORMAL ( H0 not denied )\n",
      "POL-Employment-services\n",
      "Statistical=0.959, p=0.275\n",
      "Data is NORMAL ( H0 not denied )\n",
      "POL-Exports-G&S\n",
      "Statistical=0.884, p=0.003\n",
      "POL-Fertility rate\n",
      "Statistical=0.877, p=0.002\n",
      "POL-Foreign investment\n",
      "Statistical=0.858, p=0.001\n",
      "POL-GDP\n",
      "Statistical=0.904, p=0.009\n",
      "POL-Education GExp\n",
      "Statistical=0.974, p=0.628\n",
      "Data is NORMAL ( H0 not denied )\n",
      "POL-Workers high education\n",
      "Statistical=0.879, p=0.002\n",
      "POL-Literacy rate\n",
      "Statistical=0.836, p=0.000\n",
      "POL-Net migration\n",
      "Statistical=0.753, p=0.000\n",
      "POL-Mortality-infants\n",
      "Statistical=nan, p=1.000\n",
      "Data is NORMAL ( H0 not denied )\n",
      "POL-Health services use\n",
      "Statistical=0.797, p=0.000\n",
      "POL-R&D GExp\n",
      "Statistical=0.930, p=0.045\n",
      "POL-Ninis\n",
      "Statistical=0.805, p=0.000\n",
      "POL-Suicide\n",
      "Statistical=0.801, p=0.000\n",
      "POL-International taxes\n",
      "Statistical=0.733, p=0.000\n",
      "POL-Alcohol per capita\n",
      "Statistical=0.795, p=0.000\n",
      "GRC-Exports-Commercial services\n",
      "Statistical=0.957, p=0.247\n",
      "Data is NORMAL ( H0 not denied )\n",
      "GRC-Renewable electricity\n",
      "Statistical=0.808, p=0.000\n",
      "GRC-Employment-agriculture\n",
      "Statistical=0.825, p=0.000\n",
      "GRC-Employment-industry\n",
      "Statistical=0.837, p=0.000\n",
      "GRC-Employment-services\n",
      "Statistical=0.819, p=0.000\n",
      "GRC-Exports-G&S\n",
      "Statistical=0.917, p=0.019\n",
      "GRC-Fertility rate\n",
      "Statistical=0.903, p=0.008\n",
      "GRC-Foreign investment\n",
      "Statistical=0.890, p=0.004\n",
      "GRC-GDP\n",
      "Statistical=0.941, p=0.089\n",
      "Data is NORMAL ( H0 not denied )\n",
      "GRC-Education GExp\n",
      "Statistical=0.944, p=0.105\n",
      "Data is NORMAL ( H0 not denied )\n",
      "GRC-Workers high education\n",
      "Statistical=0.943, p=0.097\n",
      "Data is NORMAL ( H0 not denied )\n",
      "GRC-Literacy rate\n",
      "Statistical=0.816, p=0.000\n",
      "GRC-Net migration\n",
      "Statistical=0.908, p=0.012\n",
      "GRC-Mortality-infants\n",
      "Statistical=0.885, p=0.003\n",
      "GRC-Health services use\n",
      "Statistical=0.883, p=0.003\n",
      "GRC-R&D GExp\n",
      "Statistical=0.916, p=0.019\n",
      "GRC-Ninis\n",
      "Statistical=0.809, p=0.000\n",
      "GRC-Suicide\n",
      "Statistical=0.815, p=0.000\n",
      "GRC-International taxes\n",
      "Statistical=0.791, p=0.000\n",
      "GRC-Alcohol per capita\n",
      "Statistical=0.809, p=0.000\n",
      "AUT-Exports-Commercial services\n",
      "Statistical=0.957, p=0.229\n",
      "Data is NORMAL ( H0 not denied )\n",
      "AUT-Renewable electricity\n",
      "Statistical=0.807, p=0.000\n",
      "AUT-Employment-agriculture\n",
      "Statistical=0.979, p=0.780\n",
      "Data is NORMAL ( H0 not denied )\n",
      "AUT-Employment-industry\n",
      "Statistical=0.935, p=0.053\n",
      "Data is NORMAL ( H0 not denied )\n",
      "AUT-Employment-services\n",
      "Statistical=0.882, p=0.002\n",
      "AUT-Exports-G&S\n",
      "Statistical=0.897, p=0.005\n",
      "AUT-Fertility rate\n",
      "Statistical=0.791, p=0.000\n",
      "AUT-Foreign investment\n",
      "Statistical=0.856, p=0.001\n",
      "AUT-GDP\n",
      "Statistical=0.980, p=0.804\n",
      "Data is NORMAL ( H0 not denied )\n",
      "AUT-Education GExp\n",
      "Statistical=0.793, p=0.000\n",
      "AUT-Workers high education\n",
      "Statistical=0.854, p=0.000\n",
      "AUT-Literacy rate\n",
      "Statistical=0.806, p=0.000\n",
      "AUT-Net migration\n",
      "Statistical=0.650, p=0.000\n",
      "AUT-Mortality-infants\n",
      "Statistical=nan, p=1.000\n",
      "Data is NORMAL ( H0 not denied )\n",
      "AUT-Health services use\n",
      "Statistical=0.803, p=0.000\n",
      "AUT-R&D GExp\n",
      "Statistical=0.939, p=0.069\n",
      "Data is NORMAL ( H0 not denied )\n",
      "AUT-Ninis\n",
      "Statistical=0.784, p=0.000\n",
      "AUT-Suicide\n",
      "Statistical=0.881, p=0.002\n",
      "AUT-International taxes\n",
      "Statistical=0.826, p=0.000\n",
      "AUT-Alcohol per capita\n",
      "Statistical=0.838, p=0.000\n",
      "NLD-Exports-Commercial services\n",
      "Statistical=0.957, p=0.247\n",
      "Data is NORMAL ( H0 not denied )\n",
      "NLD-Renewable electricity\n",
      "Statistical=0.814, p=0.000\n",
      "NLD-Employment-agriculture\n",
      "Statistical=0.945, p=0.115\n",
      "Data is NORMAL ( H0 not denied )\n",
      "NLD-Employment-industry\n",
      "Statistical=0.935, p=0.059\n",
      "Data is NORMAL ( H0 not denied )\n",
      "NLD-Employment-services\n",
      "Statistical=0.910, p=0.013\n",
      "NLD-Exports-G&S\n",
      "Statistical=0.921, p=0.025\n",
      "NLD-Fertility rate\n",
      "Statistical=0.895, p=0.005\n",
      "NLD-Foreign investment\n",
      "Statistical=0.874, p=0.002\n",
      "NLD-GDP\n",
      "Statistical=0.939, p=0.076\n",
      "Data is NORMAL ( H0 not denied )\n",
      "NLD-Education GExp\n",
      "Statistical=0.914, p=0.017\n",
      "NLD-Workers high education\n",
      "Statistical=0.863, p=0.001\n",
      "NLD-Literacy rate\n",
      "Statistical=0.841, p=0.000\n",
      "NLD-Net migration\n",
      "Statistical=0.883, p=0.003\n",
      "NLD-Mortality-infants\n",
      "Statistical=nan, p=1.000\n",
      "Data is NORMAL ( H0 not denied )\n",
      "NLD-Health services use\n",
      "Statistical=0.903, p=0.008\n",
      "NLD-R&D GExp\n",
      "Statistical=0.811, p=0.000\n",
      "NLD-Ninis\n",
      "Statistical=0.848, p=0.000\n",
      "NLD-Suicide\n",
      "Statistical=0.921, p=0.025\n",
      "NLD-International taxes\n",
      "Statistical=0.849, p=0.000\n",
      "NLD-Alcohol per capita\n",
      "Statistical=0.787, p=0.000\n",
      "IRQ-Exports-Commercial services\n",
      "Statistical=0.957, p=0.247\n",
      "Data is NORMAL ( H0 not denied )\n",
      "IRQ-Renewable electricity\n",
      "Statistical=0.838, p=0.000\n",
      "IRQ-Employment-agriculture\n",
      "Statistical=nan, p=1.000\n",
      "Data is NORMAL ( H0 not denied )\n",
      "IRQ-Employment-industry\n",
      "Statistical=0.916, p=0.019\n",
      "IRQ-Employment-services\n",
      "Statistical=0.904, p=0.009\n",
      "IRQ-Exports-G&S\n",
      "Statistical=0.904, p=0.009\n",
      "IRQ-Fertility rate\n",
      "Statistical=0.741, p=0.000\n",
      "IRQ-Foreign investment\n",
      "Statistical=0.901, p=0.007\n",
      "IRQ-GDP\n",
      "Statistical=0.965, p=0.390\n",
      "Data is NORMAL ( H0 not denied )\n",
      "IRQ-Education GExp\n",
      "Statistical=0.744, p=0.000\n",
      "IRQ-Workers high education\n",
      "Statistical=0.869, p=0.001\n",
      "IRQ-Literacy rate\n",
      "Statistical=0.815, p=0.000\n",
      "IRQ-Net migration\n",
      "Statistical=0.442, p=0.000\n",
      "IRQ-Mortality-infants\n",
      "Statistical=0.734, p=0.000\n",
      "IRQ-Health services use\n",
      "Statistical=0.862, p=0.001\n",
      "IRQ-R&D GExp\n",
      "Statistical=0.961, p=0.314\n",
      "Data is NORMAL ( H0 not denied )\n",
      "IRQ-Ninis\n",
      "Statistical=0.674, p=0.000\n",
      "IRQ-Suicide\n",
      "Statistical=0.661, p=0.000\n",
      "IRQ-International taxes\n",
      "Statistical=nan, p=1.000\n",
      "Data is NORMAL ( H0 not denied )\n",
      "IRQ-Alcohol per capita\n",
      "Statistical=0.837, p=0.000\n",
      "QAT-Exports-Commercial services\n",
      "Statistical=0.957, p=0.247\n",
      "Data is NORMAL ( H0 not denied )\n",
      "QAT-Renewable electricity\n",
      "Statistical=0.719, p=0.000\n",
      "QAT-Employment-agriculture\n",
      "Statistical=0.876, p=0.002\n",
      "QAT-Employment-industry\n",
      "Statistical=0.873, p=0.002\n",
      "QAT-Employment-services\n",
      "Statistical=0.860, p=0.001\n",
      "QAT-Exports-G&S\n",
      "Statistical=0.858, p=0.001\n",
      "QAT-Fertility rate\n",
      "Statistical=0.616, p=0.000\n",
      "QAT-Foreign investment\n",
      "Statistical=0.844, p=0.000\n",
      "QAT-GDP\n",
      "Statistical=0.879, p=0.002\n",
      "QAT-Education GExp\n",
      "Statistical=0.581, p=0.000\n",
      "QAT-Workers high education\n",
      "Statistical=0.823, p=0.000\n",
      "QAT-Literacy rate\n",
      "Statistical=nan, p=1.000\n",
      "Data is NORMAL ( H0 not denied )\n",
      "QAT-Net migration\n",
      "Statistical=nan, p=1.000\n",
      "Data is NORMAL ( H0 not denied )\n",
      "QAT-Mortality-infants\n",
      "Statistical=0.686, p=0.000\n",
      "QAT-Health services use\n",
      "Statistical=0.922, p=0.026\n",
      "QAT-R&D GExp\n",
      "Statistical=0.894, p=0.005\n",
      "QAT-Ninis\n",
      "Statistical=nan, p=1.000\n",
      "Data is NORMAL ( H0 not denied )\n",
      "QAT-Suicide\n",
      "Statistical=0.589, p=0.000\n",
      "QAT-International taxes\n",
      "Statistical=nan, p=1.000\n",
      "Data is NORMAL ( H0 not denied )\n",
      "QAT-Alcohol per capita\n",
      "Statistical=0.844, p=0.000\n",
      "ARE-Exports-Commercial services\n",
      "Statistical=0.957, p=0.247\n",
      "Data is NORMAL ( H0 not denied )\n",
      "ARE-Renewable electricity\n",
      "Statistical=0.850, p=0.001\n",
      "ARE-Employment-agriculture\n",
      "Statistical=nan, p=1.000\n",
      "Data is NORMAL ( H0 not denied )\n",
      "ARE-Employment-industry\n",
      "Statistical=0.867, p=0.001\n",
      "ARE-Employment-services\n",
      "Statistical=0.902, p=0.008\n",
      "ARE-Exports-G&S\n",
      "Statistical=0.874, p=0.002\n",
      "ARE-Fertility rate\n",
      "Statistical=nan, p=1.000\n",
      "Data is NORMAL ( H0 not denied )\n",
      "ARE-Foreign investment\n",
      "Statistical=0.780, p=0.000\n",
      "ARE-GDP\n",
      "Statistical=0.904, p=0.009\n",
      "ARE-Education GExp\n",
      "Statistical=nan, p=1.000\n",
      "Data is NORMAL ( H0 not denied )\n",
      "ARE-Workers high education\n",
      "Statistical=0.855, p=0.001\n",
      "ARE-Literacy rate\n",
      "Statistical=0.742, p=0.000\n",
      "ARE-Net migration\n",
      "Statistical=0.580, p=0.000\n",
      "ARE-Mortality-infants\n",
      "Statistical=0.761, p=0.000\n",
      "ARE-Health services use\n",
      "Statistical=0.920, p=0.024\n",
      "ARE-R&D GExp\n",
      "Statistical=0.893, p=0.005\n",
      "ARE-Ninis\n",
      "Statistical=nan, p=1.000\n",
      "Data is NORMAL ( H0 not denied )\n",
      "ARE-Suicide\n",
      "Statistical=0.575, p=0.000\n",
      "ARE-International taxes\n",
      "Statistical=nan, p=1.000\n",
      "Data is NORMAL ( H0 not denied )\n",
      "ARE-Alcohol per capita\n",
      "Statistical=0.772, p=0.000\n",
      "SAU-Exports-Commercial services\n",
      "Statistical=0.957, p=0.247\n",
      "Data is NORMAL ( H0 not denied )\n",
      "SAU-Renewable electricity\n",
      "Statistical=0.903, p=0.009\n",
      "SAU-Employment-agriculture\n",
      "Statistical=0.911, p=0.014\n",
      "SAU-Employment-industry\n",
      "Statistical=0.936, p=0.063\n",
      "Data is NORMAL ( H0 not denied )\n",
      "SAU-Employment-services\n",
      "Statistical=0.915, p=0.018\n",
      "SAU-Exports-G&S\n",
      "Statistical=0.918, p=0.021\n",
      "SAU-Fertility rate\n",
      "Statistical=0.909, p=0.012\n",
      "SAU-Foreign investment\n",
      "Statistical=0.880, p=0.002\n",
      "SAU-GDP\n",
      "Statistical=0.922, p=0.027\n",
      "SAU-Education GExp\n",
      "Statistical=0.887, p=0.003\n",
      "SAU-Workers high education\n",
      "Statistical=0.838, p=0.000\n",
      "SAU-Literacy rate\n",
      "Statistical=0.808, p=0.000\n",
      "SAU-Net migration\n",
      "Statistical=0.664, p=0.000\n",
      "SAU-Mortality-infants\n",
      "Statistical=0.919, p=0.022\n",
      "SAU-Health services use\n",
      "Statistical=0.913, p=0.016\n",
      "SAU-R&D GExp\n",
      "Statistical=0.930, p=0.043\n",
      "SAU-Ninis\n",
      "Statistical=0.749, p=0.000\n",
      "SAU-Suicide\n",
      "Statistical=0.640, p=0.000\n",
      "SAU-International taxes\n",
      "Statistical=nan, p=1.000\n",
      "Data is NORMAL ( H0 not denied )\n",
      "SAU-Alcohol per capita\n",
      "Statistical=0.778, p=0.000\n",
      "AZE-Exports-Commercial services\n",
      "Statistical=0.957, p=0.229\n",
      "Data is NORMAL ( H0 not denied )\n",
      "AZE-Renewable electricity\n",
      "Statistical=0.927, p=0.032\n",
      "AZE-Employment-agriculture\n",
      "Statistical=0.841, p=0.000\n",
      "AZE-Employment-industry\n",
      "Statistical=0.933, p=0.047\n",
      "AZE-Employment-services\n",
      "Statistical=0.906, p=0.009\n",
      "AZE-Exports-G&S\n",
      "Statistical=0.843, p=0.000\n",
      "AZE-Fertility rate\n",
      "Statistical=0.800, p=0.000\n",
      "AZE-Foreign investment\n",
      "Statistical=0.851, p=0.000\n",
      "AZE-GDP\n",
      "Statistical=0.913, p=0.014\n",
      "AZE-Education GExp\n",
      "Statistical=0.933, p=0.048\n",
      "AZE-Workers high education\n",
      "Statistical=0.854, p=0.001\n",
      "AZE-Literacy rate\n",
      "Statistical=0.808, p=0.000\n",
      "AZE-Net migration\n",
      "Statistical=0.833, p=0.000\n",
      "AZE-Mortality-infants\n",
      "Statistical=0.687, p=0.000\n",
      "AZE-Health services use\n",
      "Statistical=0.874, p=0.001\n",
      "AZE-R&D GExp\n",
      "Statistical=0.802, p=0.000\n",
      "AZE-Ninis\n",
      "Statistical=nan, p=1.000\n",
      "Data is NORMAL ( H0 not denied )\n",
      "AZE-Suicide\n",
      "Statistical=0.860, p=0.001\n",
      "AZE-International taxes\n",
      "Statistical=nan, p=1.000\n",
      "Data is NORMAL ( H0 not denied )\n",
      "AZE-Alcohol per capita\n",
      "Statistical=0.866, p=0.001\n",
      "YEM-Exports-Commercial services\n",
      "Statistical=0.957, p=0.247\n",
      "Data is NORMAL ( H0 not denied )\n",
      "YEM-Renewable electricity\n",
      "Statistical=0.740, p=0.000\n",
      "YEM-Employment-agriculture\n",
      "Statistical=0.730, p=0.000\n",
      "YEM-Employment-industry\n",
      "Statistical=0.820, p=0.000\n",
      "YEM-Employment-services\n",
      "Statistical=0.942, p=0.091\n",
      "Data is NORMAL ( H0 not denied )\n",
      "YEM-Exports-G&S\n",
      "Statistical=0.880, p=0.002\n",
      "YEM-Fertility rate\n",
      "Statistical=0.615, p=0.000\n",
      "YEM-Foreign investment\n",
      "Statistical=0.529, p=0.000\n",
      "YEM-GDP\n",
      "Statistical=0.931, p=0.046\n",
      "YEM-Education GExp\n",
      "Statistical=0.707, p=0.000\n",
      "YEM-Workers high education\n",
      "Statistical=0.900, p=0.007\n",
      "YEM-Literacy rate\n",
      "Statistical=0.857, p=0.001\n",
      "YEM-Net migration\n",
      "Statistical=nan, p=1.000\n",
      "Data is NORMAL ( H0 not denied )\n",
      "YEM-Mortality-infants\n",
      "Statistical=0.722, p=0.000\n",
      "YEM-Health services use\n",
      "Statistical=0.848, p=0.000\n",
      "YEM-R&D GExp\n",
      "Statistical=0.897, p=0.006\n",
      "YEM-Ninis\n",
      "Statistical=nan, p=1.000\n",
      "Data is NORMAL ( H0 not denied )\n",
      "YEM-Suicide\n",
      "Statistical=nan, p=1.000\n",
      "Data is NORMAL ( H0 not denied )\n",
      "YEM-International taxes\n",
      "Statistical=nan, p=1.000\n",
      "Data is NORMAL ( H0 not denied )\n",
      "YEM-Alcohol per capita\n",
      "Statistical=0.863, p=0.001\n",
      "OMN-Exports-Commercial services\n",
      "Statistical=0.957, p=0.247\n",
      "Data is NORMAL ( H0 not denied )\n",
      "OMN-Renewable electricity\n",
      "Statistical=0.706, p=0.000\n",
      "OMN-Employment-agriculture\n",
      "Statistical=0.945, p=0.116\n",
      "Data is NORMAL ( H0 not denied )\n",
      "OMN-Employment-industry\n",
      "Statistical=0.935, p=0.062\n",
      "Data is NORMAL ( H0 not denied )\n",
      "OMN-Employment-services\n",
      "Statistical=0.840, p=0.000\n",
      "OMN-Exports-G&S\n",
      "Statistical=0.846, p=0.000\n",
      "OMN-Fertility rate\n",
      "Statistical=0.882, p=0.003\n",
      "OMN-Foreign investment\n",
      "Statistical=0.880, p=0.002\n",
      "OMN-GDP\n",
      "Statistical=0.733, p=0.000\n",
      "OMN-Education GExp\n",
      "Statistical=0.820, p=0.000\n",
      "OMN-Workers high education\n",
      "Statistical=0.828, p=0.000\n",
      "OMN-Literacy rate\n",
      "Statistical=0.798, p=0.000\n",
      "OMN-Net migration\n",
      "Statistical=nan, p=1.000\n",
      "Data is NORMAL ( H0 not denied )\n",
      "OMN-Mortality-infants\n",
      "Statistical=0.788, p=0.000\n",
      "OMN-Health services use\n",
      "Statistical=0.815, p=0.000\n",
      "OMN-R&D GExp\n",
      "Statistical=0.939, p=0.076\n",
      "Data is NORMAL ( H0 not denied )\n",
      "OMN-Ninis\n",
      "Statistical=nan, p=1.000\n",
      "Data is NORMAL ( H0 not denied )\n",
      "OMN-Suicide\n",
      "Statistical=0.601, p=0.000\n",
      "OMN-International taxes\n",
      "Statistical=nan, p=1.000\n",
      "Data is NORMAL ( H0 not denied )\n",
      "OMN-Alcohol per capita\n",
      "Statistical=0.852, p=0.001\n",
      "DZA-Exports-Commercial services\n",
      "Statistical=0.957, p=0.229\n",
      "Data is NORMAL ( H0 not denied )\n",
      "DZA-Renewable electricity\n",
      "Statistical=0.845, p=0.000\n",
      "DZA-Employment-agriculture\n",
      "Statistical=0.725, p=0.000\n",
      "DZA-Employment-industry\n",
      "Statistical=0.827, p=0.000\n",
      "DZA-Employment-services\n",
      "Statistical=0.782, p=0.000\n",
      "DZA-Exports-G&S\n",
      "Statistical=0.904, p=0.008\n",
      "DZA-Fertility rate\n",
      "Statistical=0.781, p=0.000\n",
      "DZA-Foreign investment\n",
      "Statistical=0.896, p=0.005\n",
      "DZA-GDP\n",
      "Statistical=0.922, p=0.023\n",
      "DZA-Education GExp\n",
      "Statistical=0.968, p=0.446\n",
      "Data is NORMAL ( H0 not denied )\n",
      "DZA-Workers high education\n",
      "Statistical=0.863, p=0.001\n",
      "DZA-Literacy rate\n",
      "Statistical=0.851, p=0.000\n",
      "DZA-Net migration\n",
      "Statistical=nan, p=1.000\n",
      "Data is NORMAL ( H0 not denied )\n",
      "DZA-Mortality-infants\n",
      "Statistical=0.808, p=0.000\n",
      "DZA-Health services use\n",
      "Statistical=0.783, p=0.000\n",
      "DZA-R&D GExp\n",
      "Statistical=0.891, p=0.004\n",
      "DZA-Ninis\n",
      "Statistical=0.662, p=0.000\n",
      "DZA-Suicide\n",
      "Statistical=0.863, p=0.001\n",
      "DZA-International taxes\n",
      "Statistical=nan, p=1.000\n",
      "Data is NORMAL ( H0 not denied )\n",
      "DZA-Alcohol per capita\n",
      "Statistical=0.813, p=0.000\n",
      "EGY-Exports-Commercial services\n",
      "Statistical=0.957, p=0.247\n",
      "Data is NORMAL ( H0 not denied )\n",
      "EGY-Renewable electricity\n",
      "Statistical=0.827, p=0.000\n",
      "EGY-Employment-agriculture\n",
      "Statistical=0.658, p=0.000\n",
      "EGY-Employment-industry\n",
      "Statistical=0.944, p=0.108\n",
      "Data is NORMAL ( H0 not denied )\n",
      "EGY-Employment-services\n",
      "Statistical=0.919, p=0.022\n",
      "EGY-Exports-G&S\n",
      "Statistical=0.952, p=0.181\n",
      "Data is NORMAL ( H0 not denied )\n",
      "EGY-Fertility rate\n",
      "Statistical=0.919, p=0.022\n",
      "EGY-Foreign investment\n",
      "Statistical=0.855, p=0.001\n",
      "EGY-GDP\n",
      "Statistical=0.881, p=0.002\n",
      "EGY-Education GExp\n",
      "Statistical=0.874, p=0.002\n",
      "EGY-Workers high education\n",
      "Statistical=0.868, p=0.001\n",
      "EGY-Literacy rate\n",
      "Statistical=0.855, p=0.001\n",
      "EGY-Net migration\n",
      "Statistical=0.880, p=0.002\n",
      "EGY-Mortality-infants\n",
      "Statistical=0.784, p=0.000\n",
      "EGY-Health services use\n",
      "Statistical=0.827, p=0.000\n",
      "EGY-R&D GExp\n",
      "Statistical=0.926, p=0.034\n",
      "EGY-Ninis\n",
      "Statistical=0.814, p=0.000\n",
      "EGY-Suicide\n",
      "Statistical=0.763, p=0.000\n",
      "EGY-International taxes\n",
      "Statistical=0.804, p=0.000\n",
      "EGY-Alcohol per capita\n",
      "Statistical=0.823, p=0.000\n",
      "LBY-Exports-Commercial services\n",
      "Statistical=0.957, p=0.247\n",
      "Data is NORMAL ( H0 not denied )\n",
      "LBY-Renewable electricity\n",
      "Statistical=0.887, p=0.003\n",
      "LBY-Employment-agriculture\n",
      "Statistical=nan, p=1.000\n",
      "Data is NORMAL ( H0 not denied )\n",
      "LBY-Employment-industry\n",
      "Statistical=0.917, p=0.020\n",
      "LBY-Employment-services\n",
      "Statistical=0.911, p=0.014\n",
      "LBY-Exports-G&S\n",
      "Statistical=0.869, p=0.001\n",
      "LBY-Fertility rate\n",
      "Statistical=0.865, p=0.001\n",
      "LBY-Foreign investment\n",
      "Statistical=0.831, p=0.000\n",
      "LBY-GDP\n",
      "Statistical=0.813, p=0.000\n",
      "LBY-Education GExp\n",
      "Statistical=0.975, p=0.673\n",
      "Data is NORMAL ( H0 not denied )\n",
      "LBY-Workers high education\n",
      "Statistical=0.849, p=0.000\n",
      "LBY-Literacy rate\n",
      "Statistical=0.826, p=0.000\n",
      "LBY-Net migration\n",
      "Statistical=nan, p=1.000\n",
      "Data is NORMAL ( H0 not denied )\n",
      "LBY-Mortality-infants\n",
      "Statistical=0.722, p=0.000\n",
      "LBY-Health services use\n",
      "Statistical=0.954, p=0.195\n",
      "Data is NORMAL ( H0 not denied )\n",
      "LBY-R&D GExp\n",
      "Statistical=0.946, p=0.122\n",
      "Data is NORMAL ( H0 not denied )\n",
      "LBY-Ninis\n",
      "Statistical=nan, p=1.000\n",
      "Data is NORMAL ( H0 not denied )\n",
      "LBY-Suicide\n",
      "Statistical=nan, p=1.000\n",
      "Data is NORMAL ( H0 not denied )\n",
      "LBY-International taxes\n",
      "Statistical=nan, p=1.000\n",
      "Data is NORMAL ( H0 not denied )\n",
      "LBY-Alcohol per capita\n",
      "Statistical=0.927, p=0.037\n",
      "ISR-Exports-Commercial services\n",
      "Statistical=0.957, p=0.229\n",
      "Data is NORMAL ( H0 not denied )\n",
      "ISR-Renewable electricity\n",
      "Statistical=0.814, p=0.000\n",
      "ISR-Employment-agriculture\n",
      "Statistical=0.830, p=0.000\n",
      "ISR-Employment-industry\n",
      "Statistical=0.892, p=0.004\n",
      "ISR-Employment-services\n",
      "Statistical=0.850, p=0.000\n",
      "ISR-Exports-G&S\n",
      "Statistical=0.861, p=0.001\n",
      "ISR-Fertility rate\n",
      "Statistical=0.890, p=0.003\n",
      "ISR-Foreign investment\n",
      "Statistical=0.913, p=0.014\n",
      "ISR-GDP\n",
      "Statistical=0.962, p=0.307\n",
      "Data is NORMAL ( H0 not denied )\n",
      "ISR-Education GExp\n",
      "Statistical=0.855, p=0.001\n",
      "ISR-Workers high education\n",
      "Statistical=0.845, p=0.000\n",
      "ISR-Literacy rate\n",
      "Statistical=0.656, p=0.000\n",
      "ISR-Net migration\n",
      "Statistical=0.915, p=0.015\n",
      "ISR-Mortality-infants\n",
      "Statistical=nan, p=1.000\n",
      "Data is NORMAL ( H0 not denied )\n",
      "ISR-Health services use\n",
      "Statistical=0.909, p=0.010\n",
      "ISR-R&D GExp\n",
      "Statistical=0.898, p=0.005\n",
      "ISR-Ninis\n",
      "Statistical=0.537, p=0.000\n",
      "ISR-Suicide\n",
      "Statistical=0.818, p=0.000\n",
      "ISR-International taxes\n",
      "Statistical=0.680, p=0.000\n",
      "ISR-Alcohol per capita\n",
      "Statistical=0.844, p=0.000\n",
      "TUR-Exports-Commercial services\n",
      "Statistical=0.957, p=0.229\n",
      "Data is NORMAL ( H0 not denied )\n",
      "TUR-Renewable electricity\n",
      "Statistical=0.866, p=0.001\n",
      "TUR-Employment-agriculture\n",
      "Statistical=0.754, p=0.000\n",
      "TUR-Employment-industry\n",
      "Statistical=0.916, p=0.016\n",
      "TUR-Employment-services\n",
      "Statistical=0.895, p=0.005\n",
      "TUR-Exports-G&S\n",
      "Statistical=0.941, p=0.082\n",
      "Data is NORMAL ( H0 not denied )\n",
      "TUR-Fertility rate\n",
      "Statistical=0.908, p=0.010\n",
      "TUR-Foreign investment\n",
      "Statistical=0.877, p=0.002\n",
      "TUR-GDP\n",
      "Statistical=0.878, p=0.002\n",
      "TUR-Education GExp\n",
      "Statistical=0.859, p=0.001\n",
      "TUR-Workers high education\n",
      "Statistical=0.861, p=0.001\n",
      "TUR-Literacy rate\n",
      "Statistical=0.845, p=0.000\n",
      "TUR-Net migration\n",
      "Statistical=0.755, p=0.000\n",
      "TUR-Mortality-infants\n",
      "Statistical=0.906, p=0.009\n",
      "TUR-Health services use\n",
      "Statistical=0.904, p=0.008\n",
      "TUR-R&D GExp\n",
      "Statistical=0.735, p=0.000\n",
      "TUR-Ninis\n",
      "Statistical=0.806, p=0.000\n",
      "TUR-Suicide\n",
      "Statistical=0.844, p=0.000\n",
      "TUR-International taxes\n",
      "Statistical=0.690, p=0.000\n",
      "TUR-Alcohol per capita\n",
      "Statistical=0.775, p=0.000\n",
      "MAR-Exports-Commercial services\n",
      "Statistical=0.957, p=0.247\n",
      "Data is NORMAL ( H0 not denied )\n",
      "MAR-Renewable electricity\n",
      "Statistical=0.775, p=0.000\n",
      "MAR-Employment-agriculture\n",
      "Statistical=0.865, p=0.001\n",
      "MAR-Employment-industry\n",
      "Statistical=0.868, p=0.001\n",
      "MAR-Employment-services\n",
      "Statistical=0.878, p=0.002\n",
      "MAR-Exports-G&S\n",
      "Statistical=0.893, p=0.005\n",
      "MAR-Fertility rate\n",
      "Statistical=0.863, p=0.001\n",
      "MAR-Foreign investment\n",
      "Statistical=0.875, p=0.002\n",
      "MAR-GDP\n",
      "Statistical=0.799, p=0.000\n",
      "MAR-Education GExp\n",
      "Statistical=0.903, p=0.009\n",
      "MAR-Workers high education\n",
      "Statistical=0.861, p=0.001\n",
      "MAR-Literacy rate\n",
      "Statistical=0.856, p=0.001\n",
      "MAR-Net migration\n",
      "Statistical=0.931, p=0.046\n",
      "MAR-Mortality-infants\n",
      "Statistical=0.858, p=0.001\n",
      "MAR-Health services use\n",
      "Statistical=0.940, p=0.085\n",
      "Data is NORMAL ( H0 not denied )\n",
      "MAR-R&D GExp\n",
      "Statistical=0.919, p=0.023\n",
      "MAR-Ninis\n",
      "Statistical=nan, p=1.000\n",
      "Data is NORMAL ( H0 not denied )\n",
      "MAR-Suicide\n",
      "Statistical=0.786, p=0.000\n",
      "MAR-International taxes\n",
      "Statistical=0.784, p=0.000\n",
      "MAR-Alcohol per capita\n",
      "Statistical=0.754, p=0.000\n",
      "SEN-Exports-Commercial services\n",
      "Statistical=0.957, p=0.229\n",
      "Data is NORMAL ( H0 not denied )\n",
      "SEN-Renewable electricity\n",
      "Statistical=0.860, p=0.001\n",
      "SEN-Employment-agriculture\n",
      "Statistical=0.938, p=0.064\n",
      "Data is NORMAL ( H0 not denied )\n",
      "SEN-Employment-industry\n",
      "Statistical=0.892, p=0.004\n",
      "SEN-Employment-services\n",
      "Statistical=0.937, p=0.062\n",
      "Data is NORMAL ( H0 not denied )\n",
      "SEN-Exports-G&S\n",
      "Statistical=0.904, p=0.008\n",
      "SEN-Fertility rate\n",
      "Statistical=0.818, p=0.000\n",
      "SEN-Foreign investment\n",
      "Statistical=0.865, p=0.001\n",
      "SEN-GDP\n",
      "Statistical=0.942, p=0.084\n",
      "Data is NORMAL ( H0 not denied )\n",
      "SEN-Education GExp\n",
      "Statistical=0.884, p=0.002\n",
      "SEN-Workers high education\n",
      "Statistical=0.879, p=0.002\n",
      "SEN-Literacy rate\n",
      "Statistical=0.853, p=0.000\n",
      "SEN-Net migration\n",
      "Statistical=0.453, p=0.000\n",
      "SEN-Mortality-infants\n",
      "Statistical=0.792, p=0.000\n",
      "SEN-Health services use\n",
      "Statistical=0.935, p=0.054\n",
      "Data is NORMAL ( H0 not denied )\n",
      "SEN-R&D GExp\n",
      "Statistical=0.815, p=0.000\n",
      "SEN-Ninis\n",
      "Statistical=0.546, p=0.000\n",
      "SEN-Suicide\n",
      "Statistical=0.689, p=0.000\n",
      "SEN-International taxes\n",
      "Statistical=0.895, p=0.005\n",
      "SEN-Alcohol per capita\n",
      "Statistical=0.850, p=0.000\n",
      "ZAF-Exports-Commercial services\n",
      "Statistical=0.957, p=0.229\n",
      "Data is NORMAL ( H0 not denied )\n",
      "ZAF-Renewable electricity\n",
      "Statistical=0.839, p=0.000\n",
      "ZAF-Employment-agriculture\n",
      "Statistical=0.840, p=0.000\n",
      "ZAF-Employment-industry\n",
      "Statistical=0.832, p=0.000\n",
      "ZAF-Employment-services\n",
      "Statistical=0.910, p=0.011\n",
      "ZAF-Exports-G&S\n",
      "Statistical=0.871, p=0.001\n",
      "ZAF-Fertility rate\n",
      "Statistical=0.866, p=0.001\n",
      "ZAF-Foreign investment\n",
      "Statistical=0.861, p=0.001\n",
      "ZAF-GDP\n",
      "Statistical=0.834, p=0.000\n",
      "ZAF-Education GExp\n",
      "Statistical=0.968, p=0.458\n",
      "Data is NORMAL ( H0 not denied )\n",
      "ZAF-Workers high education\n",
      "Statistical=0.886, p=0.003\n",
      "ZAF-Literacy rate\n",
      "Statistical=0.855, p=0.001\n",
      "ZAF-Net migration\n",
      "Statistical=0.858, p=0.001\n",
      "ZAF-Mortality-infants\n",
      "Statistical=0.768, p=0.000\n",
      "ZAF-Health services use\n",
      "Statistical=0.863, p=0.001\n",
      "ZAF-R&D GExp\n",
      "Statistical=0.957, p=0.232\n",
      "Data is NORMAL ( H0 not denied )\n",
      "ZAF-Ninis\n",
      "Statistical=0.789, p=0.000\n",
      "ZAF-Suicide\n",
      "Statistical=0.885, p=0.003\n",
      "ZAF-International taxes\n",
      "Statistical=0.803, p=0.000\n",
      "ZAF-Alcohol per capita\n",
      "Statistical=0.846, p=0.000\n",
      "LBR-Exports-Commercial services\n",
      "Statistical=0.957, p=0.247\n",
      "Data is NORMAL ( H0 not denied )\n",
      "LBR-Renewable electricity\n",
      "Statistical=0.852, p=0.001\n",
      "LBR-Employment-agriculture\n",
      "Statistical=0.816, p=0.000\n",
      "LBR-Employment-industry\n",
      "Statistical=0.925, p=0.032\n",
      "LBR-Employment-services\n",
      "Statistical=0.877, p=0.002\n",
      "LBR-Exports-G&S\n",
      "Statistical=0.917, p=0.020\n",
      "LBR-Fertility rate\n",
      "Statistical=0.825, p=0.000\n",
      "LBR-Foreign investment\n",
      "Statistical=nan, p=1.000\n",
      "Data is NORMAL ( H0 not denied )\n",
      "LBR-GDP\n",
      "Statistical=0.940, p=0.082\n",
      "Data is NORMAL ( H0 not denied )\n",
      "LBR-Education GExp\n",
      "Statistical=0.542, p=0.000\n",
      "LBR-Workers high education\n",
      "Statistical=0.750, p=0.000\n",
      "LBR-Literacy rate\n",
      "Statistical=0.862, p=0.001\n",
      "LBR-Net migration\n",
      "Statistical=nan, p=1.000\n",
      "Data is NORMAL ( H0 not denied )\n",
      "LBR-Mortality-infants\n",
      "Statistical=0.705, p=0.000\n",
      "LBR-Health services use\n",
      "Statistical=0.848, p=0.000\n",
      "LBR-R&D GExp\n",
      "Statistical=0.946, p=0.120\n",
      "Data is NORMAL ( H0 not denied )\n",
      "LBR-Ninis\n",
      "Statistical=0.671, p=0.000\n",
      "LBR-Suicide\n",
      "Statistical=nan, p=1.000\n",
      "Data is NORMAL ( H0 not denied )\n",
      "LBR-International taxes\n",
      "Statistical=nan, p=1.000\n",
      "Data is NORMAL ( H0 not denied )\n",
      "LBR-Alcohol per capita\n",
      "Statistical=0.849, p=0.000\n",
      "MOZ-Exports-Commercial services\n",
      "Statistical=0.957, p=0.247\n",
      "Data is NORMAL ( H0 not denied )\n",
      "MOZ-Renewable electricity\n",
      "Statistical=0.799, p=0.000\n",
      "MOZ-Employment-agriculture\n",
      "Statistical=0.864, p=0.001\n",
      "MOZ-Employment-industry\n",
      "Statistical=0.900, p=0.007\n",
      "MOZ-Employment-services\n",
      "Statistical=0.843, p=0.000\n",
      "MOZ-Exports-G&S\n",
      "Statistical=0.920, p=0.023\n",
      "MOZ-Fertility rate\n",
      "Statistical=0.758, p=0.000\n",
      "MOZ-Foreign investment\n",
      "Statistical=0.885, p=0.003\n",
      "MOZ-GDP\n",
      "Statistical=0.943, p=0.098\n",
      "Data is NORMAL ( H0 not denied )\n",
      "MOZ-Education GExp\n",
      "Statistical=0.718, p=0.000\n",
      "MOZ-Workers high education\n",
      "Statistical=0.912, p=0.015\n",
      "MOZ-Literacy rate\n",
      "Statistical=0.850, p=0.000\n",
      "MOZ-Net migration\n",
      "Statistical=0.633, p=0.000\n",
      "MOZ-Mortality-infants\n",
      "Statistical=0.901, p=0.008\n",
      "MOZ-Health services use\n",
      "Statistical=0.870, p=0.001\n",
      "MOZ-R&D GExp\n",
      "Statistical=0.873, p=0.002\n",
      "MOZ-Ninis\n",
      "Statistical=nan, p=1.000\n",
      "Data is NORMAL ( H0 not denied )\n",
      "MOZ-Suicide\n",
      "Statistical=0.831, p=0.000\n",
      "MOZ-International taxes\n",
      "Statistical=nan, p=1.000\n",
      "Data is NORMAL ( H0 not denied )\n",
      "MOZ-Alcohol per capita\n",
      "Statistical=0.788, p=0.000\n",
      "CMR-Exports-Commercial services\n",
      "Statistical=0.957, p=0.229\n",
      "Data is NORMAL ( H0 not denied )\n",
      "CMR-Renewable electricity\n",
      "Statistical=0.932, p=0.046\n",
      "CMR-Employment-agriculture\n",
      "Statistical=0.844, p=0.000\n",
      "CMR-Employment-industry\n",
      "Statistical=0.845, p=0.000\n",
      "CMR-Employment-services\n",
      "Statistical=0.818, p=0.000\n",
      "CMR-Exports-G&S\n",
      "Statistical=0.858, p=0.001\n",
      "CMR-Fertility rate\n",
      "Statistical=0.921, p=0.022\n",
      "CMR-Foreign investment\n",
      "Statistical=0.871, p=0.001\n",
      "CMR-GDP\n",
      "Statistical=0.967, p=0.427\n",
      "Data is NORMAL ( H0 not denied )\n",
      "CMR-Education GExp\n",
      "Statistical=0.869, p=0.001\n",
      "CMR-Workers high education\n",
      "Statistical=0.877, p=0.002\n",
      "CMR-Literacy rate\n",
      "Statistical=0.827, p=0.000\n",
      "CMR-Net migration\n",
      "Statistical=0.908, p=0.010\n",
      "CMR-Mortality-infants\n",
      "Statistical=0.756, p=0.000\n",
      "CMR-Health services use\n",
      "Statistical=0.855, p=0.001\n",
      "CMR-R&D GExp\n",
      "Statistical=0.815, p=0.000\n",
      "CMR-Ninis\n",
      "Statistical=0.643, p=0.000\n",
      "CMR-Suicide\n",
      "Statistical=nan, p=1.000\n",
      "Data is NORMAL ( H0 not denied )\n",
      "CMR-International taxes\n",
      "Statistical=0.703, p=0.000\n",
      "CMR-Alcohol per capita\n",
      "Statistical=0.815, p=0.000\n",
      "NGA-Exports-Commercial services\n",
      "Statistical=0.957, p=0.229\n",
      "Data is NORMAL ( H0 not denied )\n",
      "NGA-Renewable electricity\n",
      "Statistical=0.741, p=0.000\n",
      "NGA-Employment-agriculture\n",
      "Statistical=0.446, p=0.000\n",
      "NGA-Employment-industry\n",
      "Statistical=0.879, p=0.002\n",
      "NGA-Employment-services\n",
      "Statistical=0.941, p=0.082\n",
      "Data is NORMAL ( H0 not denied )\n",
      "NGA-Exports-G&S\n",
      "Statistical=0.883, p=0.002\n",
      "NGA-Fertility rate\n",
      "Statistical=0.945, p=0.105\n",
      "Data is NORMAL ( H0 not denied )\n",
      "NGA-Foreign investment\n",
      "Statistical=0.898, p=0.005\n",
      "NGA-GDP\n",
      "Statistical=0.962, p=0.305\n",
      "Data is NORMAL ( H0 not denied )\n",
      "NGA-Education GExp\n",
      "Statistical=0.885, p=0.003\n",
      "NGA-Workers high education\n",
      "Statistical=0.857, p=0.001\n",
      "NGA-Literacy rate\n",
      "Statistical=0.835, p=0.000\n",
      "NGA-Net migration\n",
      "Statistical=nan, p=1.000\n",
      "Data is NORMAL ( H0 not denied )\n",
      "NGA-Mortality-infants\n",
      "Statistical=0.868, p=0.001\n",
      "NGA-Health services use\n",
      "Statistical=0.956, p=0.214\n",
      "Data is NORMAL ( H0 not denied )\n",
      "NGA-R&D GExp\n",
      "Statistical=0.749, p=0.000\n",
      "NGA-Ninis\n",
      "Statistical=0.743, p=0.000\n",
      "NGA-Suicide\n",
      "Statistical=nan, p=1.000\n",
      "Data is NORMAL ( H0 not denied )\n",
      "NGA-International taxes\n",
      "Statistical=nan, p=1.000\n",
      "Data is NORMAL ( H0 not denied )\n",
      "NGA-Alcohol per capita\n",
      "Statistical=0.771, p=0.000\n",
      "GHA-Exports-Commercial services\n",
      "Statistical=0.957, p=0.247\n",
      "Data is NORMAL ( H0 not denied )\n",
      "GHA-Renewable electricity\n",
      "Statistical=0.865, p=0.001\n",
      "GHA-Employment-agriculture\n",
      "Statistical=0.827, p=0.000\n",
      "GHA-Employment-industry\n",
      "Statistical=0.745, p=0.000\n",
      "GHA-Employment-services\n",
      "Statistical=0.935, p=0.058\n",
      "Data is NORMAL ( H0 not denied )\n",
      "GHA-Exports-G&S\n",
      "Statistical=0.783, p=0.000\n",
      "GHA-Fertility rate\n",
      "Statistical=0.892, p=0.005\n",
      "GHA-Foreign investment\n",
      "Statistical=0.823, p=0.000\n",
      "GHA-GDP\n",
      "Statistical=0.958, p=0.265\n",
      "Data is NORMAL ( H0 not denied )\n",
      "GHA-Education GExp\n",
      "Statistical=0.759, p=0.000\n",
      "GHA-Workers high education\n",
      "Statistical=0.801, p=0.000\n",
      "GHA-Literacy rate\n",
      "Statistical=0.839, p=0.000\n",
      "GHA-Net migration\n",
      "Statistical=0.770, p=0.000\n",
      "GHA-Mortality-infants\n",
      "Statistical=0.841, p=0.000\n",
      "GHA-Health services use\n",
      "Statistical=0.909, p=0.012\n",
      "GHA-R&D GExp\n",
      "Statistical=0.960, p=0.288\n",
      "Data is NORMAL ( H0 not denied )\n",
      "GHA-Ninis\n",
      "Statistical=0.947, p=0.129\n",
      "Data is NORMAL ( H0 not denied )\n",
      "GHA-Suicide\n",
      "Statistical=0.656, p=0.000\n",
      "GHA-International taxes\n",
      "Statistical=nan, p=1.000\n",
      "Data is NORMAL ( H0 not denied )\n",
      "GHA-Alcohol per capita\n",
      "Statistical=0.850, p=0.001\n",
      "BGD-Exports-Commercial services\n",
      "Statistical=0.957, p=0.229\n",
      "Data is NORMAL ( H0 not denied )\n",
      "BGD-Renewable electricity\n",
      "Statistical=0.808, p=0.000\n",
      "BGD-Employment-agriculture\n",
      "Statistical=0.978, p=0.734\n",
      "Data is NORMAL ( H0 not denied )\n",
      "BGD-Employment-industry\n",
      "Statistical=0.885, p=0.003\n",
      "BGD-Employment-services\n",
      "Statistical=0.899, p=0.006\n",
      "BGD-Exports-G&S\n",
      "Statistical=0.895, p=0.005\n",
      "BGD-Fertility rate\n",
      "Statistical=0.827, p=0.000\n",
      "BGD-Foreign investment\n",
      "Statistical=0.855, p=0.001\n",
      "BGD-GDP\n",
      "Statistical=0.904, p=0.008\n",
      "BGD-Education GExp\n",
      "Statistical=0.862, p=0.001\n",
      "BGD-Workers high education\n",
      "Statistical=0.814, p=0.000\n",
      "BGD-Literacy rate\n",
      "Statistical=0.853, p=0.000\n",
      "BGD-Net migration\n",
      "Statistical=0.761, p=0.000\n",
      "BGD-Mortality-infants\n",
      "Statistical=0.894, p=0.004\n",
      "BGD-Health services use\n",
      "Statistical=0.917, p=0.017\n",
      "BGD-R&D GExp\n",
      "Statistical=0.922, p=0.023\n",
      "BGD-Ninis\n",
      "Statistical=0.788, p=0.000\n",
      "BGD-Suicide\n",
      "Statistical=nan, p=1.000\n",
      "Data is NORMAL ( H0 not denied )\n",
      "BGD-International taxes\n",
      "Statistical=nan, p=1.000\n",
      "Data is NORMAL ( H0 not denied )\n",
      "BGD-Alcohol per capita\n",
      "Statistical=0.836, p=0.000\n",
      "IND-Exports-Commercial services\n",
      "Statistical=0.957, p=0.247\n",
      "Data is NORMAL ( H0 not denied )\n",
      "IND-Renewable electricity\n",
      "Statistical=0.743, p=0.000\n",
      "IND-Employment-agriculture\n",
      "Statistical=0.892, p=0.005\n",
      "IND-Employment-industry\n",
      "Statistical=0.892, p=0.005\n",
      "IND-Employment-services\n",
      "Statistical=0.843, p=0.000\n",
      "IND-Exports-G&S\n",
      "Statistical=0.922, p=0.027\n",
      "IND-Fertility rate\n",
      "Statistical=0.848, p=0.000\n",
      "IND-Foreign investment\n",
      "Statistical=0.832, p=0.000\n",
      "IND-GDP\n",
      "Statistical=0.930, p=0.044\n",
      "IND-Education GExp\n",
      "Statistical=0.829, p=0.000\n",
      "IND-Workers high education\n",
      "Statistical=0.858, p=0.001\n",
      "IND-Literacy rate\n",
      "Statistical=0.854, p=0.001\n",
      "IND-Net migration\n",
      "Statistical=0.884, p=0.003\n",
      "IND-Mortality-infants\n",
      "Statistical=0.784, p=0.000\n",
      "IND-Health services use\n",
      "Statistical=0.939, p=0.078\n",
      "Data is NORMAL ( H0 not denied )\n",
      "IND-R&D GExp\n",
      "Statistical=0.793, p=0.000\n",
      "IND-Ninis\n",
      "Statistical=0.894, p=0.005\n",
      "IND-Suicide\n",
      "Statistical=0.909, p=0.012\n",
      "IND-International taxes\n",
      "Statistical=0.781, p=0.000\n",
      "IND-Alcohol per capita\n",
      "Statistical=0.855, p=0.001\n",
      "VNM-Exports-Commercial services\n",
      "Statistical=0.957, p=0.229\n",
      "Data is NORMAL ( H0 not denied )\n",
      "VNM-Renewable electricity\n",
      "Statistical=0.774, p=0.000\n",
      "VNM-Employment-agriculture\n",
      "Statistical=0.695, p=0.000\n",
      "VNM-Employment-industry\n",
      "Statistical=0.907, p=0.010\n",
      "VNM-Employment-services\n",
      "Statistical=0.905, p=0.008\n",
      "VNM-Exports-G&S\n",
      "Statistical=0.905, p=0.008\n",
      "VNM-Fertility rate\n",
      "Statistical=0.855, p=0.001\n",
      "VNM-Foreign investment\n",
      "Statistical=0.806, p=0.000\n",
      "VNM-GDP\n",
      "Statistical=0.727, p=0.000\n",
      "VNM-Education GExp\n",
      "Statistical=0.814, p=0.000\n",
      "VNM-Workers high education\n",
      "Statistical=0.855, p=0.001\n",
      "VNM-Literacy rate\n",
      "Statistical=0.853, p=0.000\n",
      "VNM-Net migration\n",
      "Statistical=nan, p=1.000\n",
      "Data is NORMAL ( H0 not denied )\n",
      "VNM-Mortality-infants\n",
      "Statistical=0.846, p=0.000\n",
      "VNM-Health services use\n",
      "Statistical=0.694, p=0.000\n",
      "VNM-R&D GExp\n",
      "Statistical=0.881, p=0.002\n",
      "VNM-Ninis\n",
      "Statistical=0.688, p=0.000\n",
      "VNM-Suicide\n",
      "Statistical=0.631, p=0.000\n",
      "VNM-International taxes\n",
      "Statistical=0.772, p=0.000\n",
      "VNM-Alcohol per capita\n",
      "Statistical=0.780, p=0.000\n",
      "THA-Exports-Commercial services\n",
      "Statistical=0.957, p=0.247\n",
      "Data is NORMAL ( H0 not denied )\n",
      "THA-Renewable electricity\n",
      "Statistical=0.791, p=0.000\n",
      "THA-Employment-agriculture\n",
      "Statistical=0.980, p=0.810\n",
      "Data is NORMAL ( H0 not denied )\n",
      "THA-Employment-industry\n",
      "Statistical=0.929, p=0.040\n",
      "THA-Employment-services\n",
      "Statistical=0.945, p=0.117\n",
      "Data is NORMAL ( H0 not denied )\n",
      "THA-Exports-G&S\n",
      "Statistical=0.928, p=0.039\n",
      "THA-Fertility rate\n",
      "Statistical=0.863, p=0.001\n",
      "THA-Foreign investment\n",
      "Statistical=0.879, p=0.002\n",
      "THA-GDP\n",
      "Statistical=0.790, p=0.000\n",
      "THA-Education GExp\n",
      "Statistical=0.935, p=0.059\n",
      "Data is NORMAL ( H0 not denied )\n",
      "THA-Workers high education\n",
      "Statistical=0.883, p=0.003\n",
      "THA-Literacy rate\n",
      "Statistical=0.849, p=0.000\n",
      "THA-Net migration\n",
      "Statistical=0.956, p=0.231\n",
      "Data is NORMAL ( H0 not denied )\n",
      "THA-Mortality-infants\n",
      "Statistical=0.823, p=0.000\n",
      "THA-Health services use\n",
      "Statistical=0.905, p=0.010\n",
      "THA-R&D GExp\n",
      "Statistical=0.774, p=0.000\n",
      "THA-Ninis\n",
      "Statistical=0.787, p=0.000\n",
      "THA-Suicide\n",
      "Statistical=0.825, p=0.000\n",
      "THA-International taxes\n",
      "Statistical=0.806, p=0.000\n",
      "THA-Alcohol per capita\n",
      "Statistical=0.788, p=0.000\n",
      "IDN-Exports-Commercial services\n",
      "Statistical=0.957, p=0.229\n",
      "Data is NORMAL ( H0 not denied )\n",
      "IDN-Renewable electricity\n",
      "Statistical=0.810, p=0.000\n",
      "IDN-Employment-agriculture\n",
      "Statistical=0.885, p=0.003\n",
      "IDN-Employment-industry\n",
      "Statistical=0.946, p=0.108\n",
      "Data is NORMAL ( H0 not denied )\n",
      "IDN-Employment-services\n",
      "Statistical=0.924, p=0.027\n",
      "IDN-Exports-G&S\n",
      "Statistical=0.950, p=0.147\n",
      "Data is NORMAL ( H0 not denied )\n",
      "IDN-Fertility rate\n",
      "Statistical=0.888, p=0.003\n",
      "IDN-Foreign investment\n",
      "Statistical=0.877, p=0.002\n",
      "IDN-GDP\n",
      "Statistical=0.919, p=0.020\n",
      "IDN-Education GExp\n",
      "Statistical=0.922, p=0.024\n",
      "IDN-Workers high education\n",
      "Statistical=0.830, p=0.000\n",
      "IDN-Literacy rate\n",
      "Statistical=0.853, p=0.000\n",
      "IDN-Net migration\n",
      "Statistical=0.879, p=0.002\n",
      "IDN-Mortality-infants\n",
      "Statistical=0.785, p=0.000\n",
      "IDN-Health services use\n",
      "Statistical=0.951, p=0.149\n",
      "Data is NORMAL ( H0 not denied )\n",
      "IDN-R&D GExp\n",
      "Statistical=0.893, p=0.004\n",
      "IDN-Ninis\n",
      "Statistical=0.835, p=0.000\n",
      "IDN-Suicide\n",
      "Statistical=0.678, p=0.000\n",
      "IDN-International taxes\n",
      "Statistical=0.874, p=0.001\n",
      "IDN-Alcohol per capita\n",
      "Statistical=0.804, p=0.000\n",
      "PHL-Exports-Commercial services\n",
      "Statistical=0.957, p=0.229\n",
      "Data is NORMAL ( H0 not denied )\n",
      "PHL-Renewable electricity\n",
      "Statistical=0.845, p=0.000\n",
      "PHL-Employment-agriculture\n",
      "Statistical=0.960, p=0.271\n",
      "Data is NORMAL ( H0 not denied )\n",
      "PHL-Employment-industry\n",
      "Statistical=0.946, p=0.112\n",
      "Data is NORMAL ( H0 not denied )\n",
      "PHL-Employment-services\n",
      "Statistical=0.900, p=0.006\n",
      "PHL-Exports-G&S\n",
      "Statistical=0.945, p=0.106\n",
      "Data is NORMAL ( H0 not denied )\n",
      "PHL-Fertility rate\n",
      "Statistical=0.880, p=0.002\n",
      "PHL-Foreign investment\n",
      "Statistical=0.943, p=0.089\n",
      "Data is NORMAL ( H0 not denied )\n",
      "PHL-GDP\n",
      "Statistical=0.943, p=0.089\n",
      "Data is NORMAL ( H0 not denied )\n",
      "PHL-Education GExp\n",
      "Statistical=0.981, p=0.832\n",
      "Data is NORMAL ( H0 not denied )\n",
      "PHL-Workers high education\n",
      "Statistical=0.849, p=0.000\n",
      "PHL-Literacy rate\n",
      "Statistical=0.805, p=0.000\n",
      "PHL-Net migration\n",
      "Statistical=0.856, p=0.001\n",
      "PHL-Mortality-infants\n",
      "Statistical=0.914, p=0.014\n",
      "PHL-Health services use\n",
      "Statistical=0.982, p=0.854\n",
      "Data is NORMAL ( H0 not denied )\n",
      "PHL-R&D GExp\n",
      "Statistical=0.949, p=0.136\n",
      "Data is NORMAL ( H0 not denied )\n",
      "PHL-Ninis\n",
      "Statistical=0.617, p=0.000\n",
      "PHL-Suicide\n",
      "Statistical=0.874, p=0.001\n",
      "PHL-International taxes\n",
      "Statistical=0.846, p=0.000\n",
      "PHL-Alcohol per capita\n",
      "Statistical=0.891, p=0.004\n",
      "KOR-Exports-Commercial services\n",
      "Statistical=0.957, p=0.229\n",
      "Data is NORMAL ( H0 not denied )\n",
      "KOR-Renewable electricity\n",
      "Statistical=0.778, p=0.000\n",
      "KOR-Employment-agriculture\n",
      "Statistical=nan, p=1.000\n",
      "Data is NORMAL ( H0 not denied )\n",
      "KOR-Employment-industry\n",
      "Statistical=0.910, p=0.011\n",
      "KOR-Employment-services\n",
      "Statistical=0.819, p=0.000\n",
      "KOR-Exports-G&S\n",
      "Statistical=0.864, p=0.001\n",
      "KOR-Fertility rate\n",
      "Statistical=0.891, p=0.004\n",
      "KOR-Foreign investment\n",
      "Statistical=0.870, p=0.001\n",
      "KOR-GDP\n",
      "Statistical=0.953, p=0.176\n",
      "Data is NORMAL ( H0 not denied )\n",
      "KOR-Education GExp\n",
      "Statistical=0.904, p=0.008\n",
      "KOR-Workers high education\n",
      "Statistical=0.914, p=0.014\n",
      "KOR-Literacy rate\n",
      "Statistical=0.731, p=0.000\n",
      "KOR-Net migration\n",
      "Statistical=0.963, p=0.335\n",
      "Data is NORMAL ( H0 not denied )\n",
      "KOR-Mortality-infants\n",
      "Statistical=nan, p=1.000\n",
      "Data is NORMAL ( H0 not denied )\n",
      "KOR-Health services use\n",
      "Statistical=0.841, p=0.000\n",
      "KOR-R&D GExp\n",
      "Statistical=0.798, p=0.000\n",
      "KOR-Ninis\n",
      "Statistical=nan, p=1.000\n",
      "Data is NORMAL ( H0 not denied )\n",
      "KOR-Suicide\n",
      "Statistical=0.828, p=0.000\n",
      "KOR-International taxes\n",
      "Statistical=0.746, p=0.000\n",
      "KOR-Alcohol per capita\n",
      "Statistical=0.847, p=0.000\n",
      "MEX-Exports-Commercial services\n",
      "Statistical=0.957, p=0.247\n",
      "Data is NORMAL ( H0 not denied )\n",
      "MEX-Renewable electricity\n",
      "Statistical=0.734, p=0.000\n",
      "MEX-Employment-agriculture\n",
      "Statistical=0.964, p=0.361\n",
      "Data is NORMAL ( H0 not denied )\n",
      "MEX-Employment-industry\n",
      "Statistical=0.852, p=0.001\n",
      "MEX-Employment-services\n",
      "Statistical=0.960, p=0.291\n",
      "Data is NORMAL ( H0 not denied )\n",
      "MEX-Exports-G&S\n",
      "Statistical=0.872, p=0.002\n",
      "MEX-Fertility rate\n",
      "Statistical=0.951, p=0.169\n",
      "Data is NORMAL ( H0 not denied )\n",
      "MEX-Foreign investment\n",
      "Statistical=0.927, p=0.036\n",
      "MEX-GDP\n",
      "Statistical=0.929, p=0.042\n",
      "MEX-Education GExp\n",
      "Statistical=0.967, p=0.445\n",
      "Data is NORMAL ( H0 not denied )\n",
      "MEX-Workers high education\n",
      "Statistical=0.928, p=0.039\n",
      "MEX-Literacy rate\n",
      "Statistical=0.856, p=0.001\n",
      "MEX-Net migration\n",
      "Statistical=0.926, p=0.035\n",
      "MEX-Mortality-infants\n",
      "Statistical=0.931, p=0.046\n",
      "MEX-Health services use\n",
      "Statistical=0.927, p=0.036\n",
      "MEX-R&D GExp\n",
      "Statistical=0.780, p=0.000\n",
      "MEX-Ninis\n",
      "Statistical=0.751, p=0.000\n",
      "MEX-Suicide\n",
      "Statistical=0.928, p=0.038\n",
      "MEX-International taxes\n",
      "Statistical=0.862, p=0.001\n",
      "MEX-Alcohol per capita\n",
      "Statistical=0.846, p=0.000\n",
      "BRA-Exports-Commercial services\n",
      "Statistical=0.957, p=0.229\n",
      "Data is NORMAL ( H0 not denied )\n",
      "BRA-Renewable electricity\n",
      "Statistical=0.824, p=0.000\n",
      "BRA-Employment-agriculture\n",
      "Statistical=0.875, p=0.002\n",
      "BRA-Employment-industry\n",
      "Statistical=0.904, p=0.008\n",
      "BRA-Employment-services\n",
      "Statistical=0.890, p=0.003\n",
      "BRA-Exports-G&S\n",
      "Statistical=0.932, p=0.045\n",
      "BRA-Fertility rate\n",
      "Statistical=0.846, p=0.000\n",
      "BRA-Foreign investment\n",
      "Statistical=0.866, p=0.001\n",
      "BRA-GDP\n",
      "Statistical=0.861, p=0.001\n",
      "BRA-Education GExp\n",
      "Statistical=0.937, p=0.062\n",
      "Data is NORMAL ( H0 not denied )\n",
      "BRA-Workers high education\n",
      "Statistical=0.907, p=0.009\n",
      "BRA-Literacy rate\n",
      "Statistical=0.856, p=0.001\n",
      "BRA-Net migration\n",
      "Statistical=0.672, p=0.000\n",
      "BRA-Mortality-infants\n",
      "Statistical=0.785, p=0.000\n",
      "BRA-Health services use\n",
      "Statistical=0.861, p=0.001\n",
      "BRA-R&D GExp\n",
      "Statistical=0.679, p=0.000\n",
      "BRA-Ninis\n",
      "Statistical=0.834, p=0.000\n",
      "BRA-Suicide\n",
      "Statistical=0.906, p=0.009\n",
      "BRA-International taxes\n",
      "Statistical=0.797, p=0.000\n",
      "BRA-Alcohol per capita\n",
      "Statistical=0.842, p=0.000\n",
      "ARG-Exports-Commercial services\n",
      "Statistical=0.957, p=0.247\n",
      "Data is NORMAL ( H0 not denied )\n",
      "ARG-Renewable electricity\n",
      "Statistical=0.767, p=0.000\n",
      "ARG-Employment-agriculture\n",
      "Statistical=0.879, p=0.002\n",
      "ARG-Employment-industry\n",
      "Statistical=0.956, p=0.227\n",
      "Data is NORMAL ( H0 not denied )\n",
      "ARG-Employment-services\n",
      "Statistical=0.915, p=0.017\n",
      "ARG-Exports-G&S\n",
      "Statistical=0.932, p=0.048\n",
      "ARG-Fertility rate\n",
      "Statistical=0.864, p=0.001\n",
      "ARG-Foreign investment\n",
      "Statistical=0.907, p=0.011\n",
      "ARG-GDP\n",
      "Statistical=0.880, p=0.002\n",
      "ARG-Education GExp\n",
      "Statistical=0.898, p=0.006\n",
      "ARG-Workers high education\n",
      "Statistical=0.931, p=0.047\n",
      "ARG-Literacy rate\n",
      "Statistical=0.827, p=0.000\n",
      "ARG-Net migration\n",
      "Statistical=0.776, p=0.000\n",
      "ARG-Mortality-infants\n",
      "Statistical=0.745, p=0.000\n",
      "ARG-Health services use\n",
      "Statistical=0.954, p=0.204\n",
      "Data is NORMAL ( H0 not denied )\n",
      "ARG-R&D GExp\n",
      "Statistical=0.737, p=0.000\n",
      "ARG-Ninis\n",
      "Statistical=0.772, p=0.000\n",
      "ARG-Suicide\n",
      "Statistical=0.843, p=0.000\n",
      "ARG-International taxes\n",
      "Statistical=0.871, p=0.001\n",
      "ARG-Alcohol per capita\n",
      "Statistical=0.909, p=0.012\n",
      "PER-Exports-Commercial services\n",
      "Statistical=0.957, p=0.229\n",
      "Data is NORMAL ( H0 not denied )\n",
      "PER-Renewable electricity\n",
      "Statistical=0.918, p=0.018\n",
      "PER-Employment-agriculture\n",
      "Statistical=0.866, p=0.001\n",
      "PER-Employment-industry\n",
      "Statistical=0.811, p=0.000\n",
      "PER-Employment-services\n",
      "Statistical=0.951, p=0.154\n",
      "Data is NORMAL ( H0 not denied )\n",
      "PER-Exports-G&S\n",
      "Statistical=0.904, p=0.008\n",
      "PER-Fertility rate\n",
      "Statistical=0.861, p=0.001\n",
      "PER-Foreign investment\n",
      "Statistical=0.848, p=0.000\n",
      "PER-GDP\n",
      "Statistical=0.905, p=0.008\n",
      "PER-Education GExp\n",
      "Statistical=0.915, p=0.015\n",
      "PER-Workers high education\n",
      "Statistical=0.845, p=0.000\n",
      "PER-Literacy rate\n",
      "Statistical=0.858, p=0.001\n",
      "PER-Net migration\n",
      "Statistical=0.936, p=0.058\n",
      "Data is NORMAL ( H0 not denied )\n",
      "PER-Mortality-infants\n",
      "Statistical=0.772, p=0.000\n",
      "PER-Health services use\n",
      "Statistical=0.865, p=0.001\n",
      "PER-R&D GExp\n",
      "Statistical=0.919, p=0.019\n",
      "PER-Ninis\n",
      "Statistical=0.854, p=0.001\n",
      "PER-Suicide\n",
      "Statistical=0.873, p=0.001\n",
      "PER-International taxes\n",
      "Statistical=0.770, p=0.000\n",
      "PER-Alcohol per capita\n",
      "Statistical=0.924, p=0.026\n",
      "VEN-Exports-Commercial services\n",
      "Statistical=0.957, p=0.247\n",
      "Data is NORMAL ( H0 not denied )\n",
      "VEN-Renewable electricity\n",
      "Statistical=0.683, p=0.000\n",
      "VEN-Employment-agriculture\n",
      "Statistical=0.407, p=0.000\n",
      "VEN-Employment-industry\n",
      "Statistical=0.909, p=0.012\n",
      "VEN-Employment-services\n",
      "Statistical=0.959, p=0.272\n",
      "Data is NORMAL ( H0 not denied )\n",
      "VEN-Exports-G&S\n",
      "Statistical=0.958, p=0.263\n",
      "Data is NORMAL ( H0 not denied )\n",
      "VEN-Fertility rate\n",
      "Statistical=0.946, p=0.119\n",
      "Data is NORMAL ( H0 not denied )\n",
      "VEN-Foreign investment\n",
      "Statistical=0.874, p=0.002\n",
      "VEN-GDP\n",
      "Statistical=0.936, p=0.066\n",
      "Data is NORMAL ( H0 not denied )\n",
      "VEN-Education GExp\n",
      "Statistical=0.941, p=0.087\n",
      "Data is NORMAL ( H0 not denied )\n",
      "VEN-Workers high education\n",
      "Statistical=0.818, p=0.000\n",
      "VEN-Literacy rate\n",
      "Statistical=0.781, p=0.000\n",
      "VEN-Net migration\n",
      "Statistical=nan, p=1.000\n",
      "Data is NORMAL ( H0 not denied )\n",
      "VEN-Mortality-infants\n",
      "Statistical=0.834, p=0.000\n",
      "VEN-Health services use\n",
      "Statistical=0.914, p=0.016\n",
      "VEN-R&D GExp\n",
      "Statistical=0.775, p=0.000\n",
      "VEN-Ninis\n",
      "Statistical=0.759, p=0.000\n",
      "VEN-Suicide\n",
      "Statistical=0.716, p=0.000\n",
      "VEN-International taxes\n",
      "Statistical=nan, p=1.000\n",
      "Data is NORMAL ( H0 not denied )\n",
      "VEN-Alcohol per capita\n",
      "Statistical=0.826, p=0.000\n",
      "COL-Exports-Commercial services\n",
      "Statistical=0.957, p=0.229\n",
      "Data is NORMAL ( H0 not denied )\n",
      "COL-Renewable electricity\n",
      "Statistical=0.900, p=0.006\n",
      "COL-Employment-agriculture\n",
      "Statistical=0.898, p=0.006\n",
      "COL-Employment-industry\n",
      "Statistical=0.883, p=0.002\n",
      "COL-Employment-services\n",
      "Statistical=0.889, p=0.003\n",
      "COL-Exports-G&S\n",
      "Statistical=0.925, p=0.028\n",
      "COL-Fertility rate\n",
      "Statistical=0.851, p=0.000\n",
      "COL-Foreign investment\n",
      "Statistical=0.886, p=0.003\n",
      "COL-GDP\n",
      "Statistical=0.901, p=0.007\n",
      "COL-Education GExp\n",
      "Statistical=0.907, p=0.010\n",
      "COL-Workers high education\n",
      "Statistical=0.880, p=0.002\n",
      "COL-Literacy rate\n",
      "Statistical=0.855, p=0.001\n",
      "COL-Net migration\n",
      "Statistical=0.826, p=0.000\n",
      "COL-Mortality-infants\n",
      "Statistical=0.927, p=0.033\n",
      "COL-Health services use\n",
      "Statistical=0.921, p=0.023\n",
      "COL-R&D GExp\n",
      "Statistical=0.797, p=0.000\n",
      "COL-Ninis\n",
      "Statistical=0.827, p=0.000\n",
      "COL-Suicide\n",
      "Statistical=0.907, p=0.009\n",
      "COL-International taxes\n",
      "Statistical=0.798, p=0.000\n",
      "COL-Alcohol per capita\n",
      "Statistical=0.832, p=0.000\n",
      "CHL-Exports-Commercial services\n",
      "Statistical=0.957, p=0.247\n",
      "Data is NORMAL ( H0 not denied )\n",
      "CHL-Renewable electricity\n",
      "Statistical=0.771, p=0.000\n",
      "CHL-Employment-agriculture\n",
      "Statistical=0.933, p=0.053\n",
      "Data is NORMAL ( H0 not denied )\n",
      "CHL-Employment-industry\n",
      "Statistical=0.925, p=0.033\n",
      "CHL-Employment-services\n",
      "Statistical=0.843, p=0.000\n",
      "CHL-Exports-G&S\n",
      "Statistical=0.921, p=0.025\n",
      "CHL-Fertility rate\n",
      "Statistical=0.924, p=0.031\n",
      "CHL-Foreign investment\n",
      "Statistical=0.847, p=0.000\n",
      "CHL-GDP\n",
      "Statistical=0.912, p=0.015\n",
      "CHL-Education GExp\n",
      "Statistical=0.963, p=0.348\n",
      "Data is NORMAL ( H0 not denied )\n",
      "CHL-Workers high education\n",
      "Statistical=0.865, p=0.001\n",
      "CHL-Literacy rate\n",
      "Statistical=0.835, p=0.000\n",
      "CHL-Net migration\n",
      "Statistical=0.867, p=0.001\n",
      "CHL-Mortality-infants\n",
      "Statistical=0.851, p=0.001\n",
      "CHL-Health services use\n",
      "Statistical=0.848, p=0.000\n",
      "CHL-R&D GExp\n",
      "Statistical=0.833, p=0.000\n",
      "CHL-Ninis\n",
      "Statistical=0.984, p=0.910\n",
      "Data is NORMAL ( H0 not denied )\n",
      "CHL-Suicide\n",
      "Statistical=0.728, p=0.000\n",
      "CHL-International taxes\n",
      "Statistical=0.903, p=0.009\n",
      "CHL-Alcohol per capita\n",
      "Statistical=0.925, p=0.032\n",
      "PAN-Exports-Commercial services\n",
      "Statistical=0.957, p=0.229\n",
      "Data is NORMAL ( H0 not denied )\n",
      "PAN-Renewable electricity\n",
      "Statistical=0.759, p=0.000\n",
      "PAN-Employment-agriculture\n",
      "Statistical=0.910, p=0.011\n",
      "PAN-Employment-industry\n",
      "Statistical=0.932, p=0.043\n",
      "PAN-Employment-services\n",
      "Statistical=0.949, p=0.134\n",
      "Data is NORMAL ( H0 not denied )\n",
      "PAN-Exports-G&S\n",
      "Statistical=0.924, p=0.027\n",
      "PAN-Fertility rate\n",
      "Statistical=0.846, p=0.000\n",
      "PAN-Foreign investment\n",
      "Statistical=0.858, p=0.001\n",
      "PAN-GDP\n",
      "Statistical=0.970, p=0.510\n",
      "Data is NORMAL ( H0 not denied )\n",
      "PAN-Education GExp\n",
      "Statistical=0.866, p=0.001\n",
      "PAN-Workers high education\n",
      "Statistical=0.839, p=0.000\n",
      "PAN-Literacy rate\n",
      "Statistical=0.850, p=0.000\n",
      "PAN-Net migration\n",
      "Statistical=0.541, p=0.000\n",
      "PAN-Mortality-infants\n",
      "Statistical=0.942, p=0.086\n",
      "Data is NORMAL ( H0 not denied )\n",
      "PAN-Health services use\n",
      "Statistical=0.922, p=0.023\n",
      "PAN-R&D GExp\n",
      "Statistical=0.863, p=0.001\n",
      "PAN-Ninis\n",
      "Statistical=0.874, p=0.001\n",
      "PAN-Suicide\n",
      "Statistical=0.911, p=0.012\n",
      "PAN-International taxes\n",
      "Statistical=0.928, p=0.033\n",
      "PAN-Alcohol per capita\n",
      "Statistical=0.812, p=0.000\n",
      "CRI-Exports-Commercial services\n",
      "Statistical=0.957, p=0.247\n",
      "Data is NORMAL ( H0 not denied )\n",
      "CRI-Renewable electricity\n",
      "Statistical=0.764, p=0.000\n",
      "CRI-Employment-agriculture\n",
      "Statistical=0.941, p=0.086\n",
      "Data is NORMAL ( H0 not denied )\n",
      "CRI-Employment-industry\n",
      "Statistical=0.904, p=0.009\n",
      "CRI-Employment-services\n",
      "Statistical=0.951, p=0.163\n",
      "Data is NORMAL ( H0 not denied )\n",
      "CRI-Exports-G&S\n",
      "Statistical=0.938, p=0.071\n",
      "Data is NORMAL ( H0 not denied )\n",
      "CRI-Fertility rate\n",
      "Statistical=0.913, p=0.016\n",
      "CRI-Foreign investment\n",
      "Statistical=0.927, p=0.037\n",
      "CRI-GDP\n",
      "Statistical=0.856, p=0.001\n",
      "CRI-Education GExp\n",
      "Statistical=0.888, p=0.004\n",
      "CRI-Workers high education\n",
      "Statistical=0.861, p=0.001\n",
      "CRI-Literacy rate\n",
      "Statistical=0.852, p=0.001\n",
      "CRI-Net migration\n",
      "Statistical=0.821, p=0.000\n",
      "CRI-Mortality-infants\n",
      "Statistical=0.816, p=0.000\n",
      "CRI-Health services use\n",
      "Statistical=0.915, p=0.017\n",
      "CRI-R&D GExp\n",
      "Statistical=0.838, p=0.000\n",
      "CRI-Ninis\n",
      "Statistical=0.830, p=0.000\n",
      "CRI-Suicide\n",
      "Statistical=0.929, p=0.042\n",
      "CRI-International taxes\n",
      "Statistical=0.927, p=0.037\n",
      "CRI-Alcohol per capita\n",
      "Statistical=0.914, p=0.017\n",
      "USA-Exports-Commercial services\n",
      "Statistical=0.957, p=0.229\n",
      "Data is NORMAL ( H0 not denied )\n",
      "USA-Renewable electricity\n",
      "Statistical=0.831, p=0.000\n",
      "USA-Employment-agriculture\n",
      "Statistical=nan, p=1.000\n",
      "Data is NORMAL ( H0 not denied )\n",
      "USA-Employment-industry\n",
      "Statistical=0.853, p=0.000\n",
      "USA-Employment-services\n",
      "Statistical=0.836, p=0.000\n",
      "USA-Exports-G&S\n",
      "Statistical=0.833, p=0.000\n",
      "USA-Fertility rate\n",
      "Statistical=0.901, p=0.007\n",
      "USA-Foreign investment\n",
      "Statistical=0.901, p=0.006\n",
      "USA-GDP\n",
      "Statistical=0.890, p=0.004\n",
      "USA-Education GExp\n",
      "Statistical=0.953, p=0.176\n",
      "Data is NORMAL ( H0 not denied )\n",
      "USA-Workers high education\n",
      "Statistical=0.943, p=0.092\n",
      "Data is NORMAL ( H0 not denied )\n",
      "USA-Literacy rate\n",
      "Statistical=0.690, p=0.000\n",
      "USA-Net migration\n",
      "Statistical=0.838, p=0.000\n",
      "USA-Mortality-infants\n",
      "Statistical=nan, p=1.000\n",
      "Data is NORMAL ( H0 not denied )\n",
      "USA-Health services use\n",
      "Statistical=0.937, p=0.062\n",
      "Data is NORMAL ( H0 not denied )\n",
      "USA-R&D GExp\n",
      "Statistical=0.939, p=0.071\n",
      "Data is NORMAL ( H0 not denied )\n",
      "USA-Ninis\n",
      "Statistical=0.939, p=0.068\n",
      "Data is NORMAL ( H0 not denied )\n",
      "USA-Suicide\n",
      "Statistical=0.884, p=0.002\n",
      "USA-International taxes\n",
      "Statistical=0.764, p=0.000\n",
      "USA-Alcohol per capita\n",
      "Statistical=0.835, p=0.000\n",
      "CHN-Exports-Commercial services\n",
      "Statistical=0.957, p=0.247\n",
      "Data is NORMAL ( H0 not denied )\n",
      "CHN-Renewable electricity\n",
      "Statistical=0.717, p=0.000\n",
      "CHN-Employment-agriculture\n",
      "Statistical=0.929, p=0.042\n",
      "CHN-Employment-industry\n",
      "Statistical=0.923, p=0.028\n",
      "CHN-Employment-services\n",
      "Statistical=0.878, p=0.002\n",
      "CHN-Exports-G&S\n",
      "Statistical=0.955, p=0.209\n",
      "Data is NORMAL ( H0 not denied )\n",
      "CHN-Fertility rate\n",
      "Statistical=0.897, p=0.006\n",
      "CHN-Foreign investment\n",
      "Statistical=0.839, p=0.000\n",
      "CHN-GDP\n",
      "Statistical=0.876, p=0.002\n",
      "CHN-Education GExp\n",
      "Statistical=0.933, p=0.054\n",
      "Data is NORMAL ( H0 not denied )\n",
      "CHN-Workers high education\n",
      "Statistical=0.824, p=0.000\n",
      "CHN-Literacy rate\n",
      "Statistical=0.846, p=0.000\n",
      "CHN-Net migration\n",
      "Statistical=0.718, p=0.000\n",
      "CHN-Mortality-infants\n",
      "Statistical=0.858, p=0.001\n",
      "CHN-Health services use\n",
      "Statistical=0.896, p=0.006\n",
      "CHN-R&D GExp\n",
      "Statistical=0.874, p=0.002\n",
      "CHN-Ninis\n",
      "Statistical=nan, p=1.000\n",
      "Data is NORMAL ( H0 not denied )\n",
      "CHN-Suicide\n",
      "Statistical=0.867, p=0.001\n",
      "CHN-International taxes\n",
      "Statistical=0.704, p=0.000\n",
      "CHN-Alcohol per capita\n",
      "Statistical=0.822, p=0.000\n"
     ]
    }
   ],
   "source": [
    "for i in range(0,len(clist)):\n",
    "    dat=df.loc[df.loc[:, 'Country'] == clist[i]]\n",
    "    for e in range(2,len(columns)):\n",
    "        data=dat.iloc[:, e]\n",
    "        stat, p = shapiro(data)\n",
    "        print(clist[i] +\"-\"+ columns[e])\n",
    "        print('Statistical=%.3f, p=%.3f' % (stat, p))\n",
    "        alpha = 0.05\n",
    "        if p > alpha:\n",
    "            print('Data is NORMAL ( H0 not denied )')\n",
    "        else:\n",
    "            pass"
   ]
  }
 ],
 "metadata": {
  "kernelspec": {
   "display_name": "Python 3.10.4 ('.venv': poetry)",
   "language": "python",
   "name": "python3"
  },
  "language_info": {
   "codemirror_mode": {
    "name": "ipython",
    "version": 3
   },
   "file_extension": ".py",
   "mimetype": "text/x-python",
   "name": "python",
   "nbconvert_exporter": "python",
   "pygments_lexer": "ipython3",
   "version": "3.10.4"
  },
  "vscode": {
   "interpreter": {
    "hash": "ad72b07258a3fa24452fee21e868a537ead700a3a6ac2a1adaf5006160c747dc"
   }
  }
 },
 "nbformat": 4,
 "nbformat_minor": 2
}
