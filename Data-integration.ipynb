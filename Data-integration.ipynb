{
 "cells": [
  {
   "cell_type": "markdown",
   "metadata": {},
   "source": [
    "# Basics"
   ]
  },
  {
   "cell_type": "markdown",
   "metadata": {},
   "source": [
    "Import libraries and functions."
   ]
  },
  {
   "cell_type": "code",
   "execution_count": 77,
   "metadata": {},
   "outputs": [],
   "source": [
    "import pandas as pd\n",
    "import numpy as np\n",
    "import glob\n",
    "import os\n",
    "from pyspark.sql.functions import concat, col, lit, split"
   ]
  },
  {
   "cell_type": "markdown",
   "metadata": {},
   "source": [
    "<p>Using the <code>glob</code> library allows us to create a list with only the csv that are ended in <em>(Normalized).csv</em> , which will be the most useful for a statistical analysis. <br>\n",
    "Moreover, for a future simplification, we also create a list with the relevant information of each of the csv <em>('Area','Year','Element','Unit','Value')</em> </p>"
   ]
  },
  {
   "cell_type": "code",
   "execution_count": 46,
   "metadata": {},
   "outputs": [],
   "source": [
    "file_list = glob.glob(os.getcwd()+ \"/Data/\"+\"/**(Normalized).csv\")"
   ]
  },
  {
   "cell_type": "markdown",
   "metadata": {},
   "source": [
    "Intitiate the spark session"
   ]
  },
  {
   "cell_type": "code",
   "execution_count": 2,
   "metadata": {},
   "outputs": [],
   "source": [
    "from pyspark.sql import SparkSession\n",
    "  \n",
    "ss = SparkSession \\\n",
    "    .builder \\\n",
    "    .appName(\"Our First Spark example\") \\\n",
    "    .getOrCreate()"
   ]
  },
  {
   "cell_type": "markdown",
   "metadata": {},
   "source": [
    "# Standarization of data"
   ]
  },
  {
   "cell_type": "markdown",
   "metadata": {},
   "source": [
    "In the following cells, we will compare all the csv to see which are not up to our standards of provided data (columns should be as followed: *Area , Year, Element , Item , Unit* and *Value*). Firstly we will collect the number inside the `file_list` of the files which are not up to our standars into a list called missing, which later on will be useful. "
   ]
  },
  {
   "cell_type": "code",
   "execution_count": 151,
   "metadata": {},
   "outputs": [],
   "source": [
    "Area=[]\n",
    "Year=[]\n",
    "Element=[]\n",
    "Item=[]\n",
    "Unit=[]\n",
    "Value=[]\n",
    "for i in range (0,len(file_list)):\n",
    "    file1=ss.read.csv(file_list[i], header=True)\n",
    "    if 'Area' in file1.schema.fieldNames():\n",
    "        pass\n",
    "    else:\n",
    "        Area.append(i)\n",
    "        continue\n",
    "    if 'Year' in file1.schema.fieldNames():\n",
    "        pass\n",
    "    else:\n",
    "        Year.append(i)\n",
    "    if 'Element' in file1.schema.fieldNames():\n",
    "        pass\n",
    "    else:\n",
    "        Element.append(i)\n",
    "    if 'Item' in file1.schema.fieldNames():\n",
    "        pass\n",
    "    else:\n",
    "        Item.append(i)\n",
    "    if 'Unit' in file1.schema.fieldNames():\n",
    "        pass\n",
    "    else:\n",
    "        Unit.append(i)\n",
    "    if 'Value' in file1.schema.fieldNames():\n",
    "        pass\n",
    "    else:\n",
    "        Value.append(i)\n",
    "missing=Area + Year+ Element + Item + Unit +Value"
   ]
  },
  {
   "cell_type": "markdown",
   "metadata": {},
   "source": [
    "With the obtained list, we create a loop to visualy inspect each file which does not met the standars so we can observe how we can adapt them."
   ]
  },
  {
   "cell_type": "code",
   "execution_count": 153,
   "metadata": {},
   "outputs": [
    {
     "name": "stdout",
     "output_type": "stream",
     "text": [
      "5\n",
      "+----------+----------+----------------------+-----------------+---------+----------+------------+---------+------------+----------------+---------+----+--------+---------+----+----+\n",
      "|Donor Code|Donor     |Recipient Country Code|Recipient Country|Item Code|Item      |Element Code|Element  |Purpose Code|Purpose         |Year Code|Year|Unit    |Value    |Flag|Note|\n",
      "+----------+----------+----------------------+-----------------+---------+----------+------------+---------+------------+----------------+---------+----+--------+---------+----+----+\n",
      "|702       |All Donors|2                     |Afghanistan      |22040    |Commitment|6110        |Value US$|10000       |All CRS purposes|1973     |1973|millions|41.627000|Fc  |null|\n",
      "|702       |All Donors|2                     |Afghanistan      |22040    |Commitment|6110        |Value US$|10000       |All CRS purposes|1974     |1974|millions|40.150527|Fc  |null|\n",
      "|702       |All Donors|2                     |Afghanistan      |22040    |Commitment|6110        |Value US$|10000       |All CRS purposes|1975     |1975|millions|32.113282|Fc  |null|\n",
      "|702       |All Donors|2                     |Afghanistan      |22040    |Commitment|6110        |Value US$|10000       |All CRS purposes|1976     |1976|millions|89.795781|Fc  |null|\n",
      "|702       |All Donors|2                     |Afghanistan      |22040    |Commitment|6110        |Value US$|10000       |All CRS purposes|1977     |1977|millions|70.978592|Fc  |null|\n",
      "+----------+----------+----------------------+-----------------+---------+----------+------------+---------+------------+----------------+---------+----+--------+---------+----+----+\n",
      "only showing top 5 rows\n",
      "\n",
      "37\n",
      "+----------------------+-----------------+---------+---------------+------------+-----------------+---------+----+------+-----------+----+--------------------+\n",
      "|Recipient Country Code|Recipient Country|Item Code|Item           |Element Code|Element          |Year Code|Year|Unit  |Value      |Flag|Note                |\n",
      "+----------------------+-----------------+---------+---------------+------------+-----------------+---------+----+------+-----------+----+--------------------+\n",
      "|2                     |Afghanistan      |10109    |Blended And Mix|500         |Food aid received|1990     |1990|tonnes|1992.000000|X   |Data provided by WFP|\n",
      "|2                     |Afghanistan      |10109    |Blended And Mix|500         |Food aid received|1999     |1999|tonnes|4482.000000|X   |Data provided by WFP|\n",
      "|2                     |Afghanistan      |10109    |Blended And Mix|500         |Food aid received|2000     |2000|tonnes|1053.000000|X   |Data provided by WFP|\n",
      "|2                     |Afghanistan      |10109    |Blended And Mix|500         |Food aid received|2001     |2001|tonnes|5518.000000|X   |Data provided by WFP|\n",
      "|2                     |Afghanistan      |10109    |Blended And Mix|500         |Food aid received|2002     |2002|tonnes|8517.000000|X   |Data provided by WFP|\n",
      "+----------------------+-----------------+---------+---------------+------------+-----------------+---------+----+------+-----------+----+--------------------+\n",
      "only showing top 5 rows\n",
      "\n",
      "40\n",
      "+---------------------------+---------------------------+------------------+--------------------------+--------------------------+-----------------+---------------+-------------------------------+------------------+---------------+---------------+----+--------+---------+----+\n",
      "|Reporter Country Code (FAO)|Reporter Country Code (M49)|Reporter Countries|Partner Country Code (FAO)|Partner Country Code (M49)|Partner Countries|Item Code (FAO)|Item                           |Element Code (FAO)|Element        |Year Code (FAO)|Year|Unit    |Value    |Flag|\n",
      "+---------------------------+---------------------------+------------------+--------------------------+--------------------------+-----------------+---------------+-------------------------------+------------------+---------------+---------------+----+--------+---------+----+\n",
      "|2                          |2                          |Afghanistan       |10                        |10                        |Australia        |1877           |Forest products (export/import)|5622              |Import Value   |1999           |1999|1000 US$|6.000000 |null|\n",
      "|2                          |2                          |Afghanistan       |10                        |10                        |Australia        |1877           |Forest products (export/import)|5622              |Import Value   |2005           |2005|1000 US$|18.000000|null|\n",
      "|2                          |2                          |Afghanistan       |10                        |10                        |Australia        |1877           |Forest products (export/import)|5622              |Import Value   |2009           |2009|1000 US$|59.000000|null|\n",
      "|2                          |2                          |Afghanistan       |10                        |10                        |Australia        |1877           |Forest products (export/import)|5622              |Import Value   |2015           |2015|1000 US$|5.000000 |null|\n",
      "|2                          |2                          |Afghanistan       |10                        |10                        |Australia        |1640           |Plywood                        |5616              |Import Quantity|1999           |1999|m3      |5.000000 |R   |\n",
      "+---------------------------+---------------------------+------------------+--------------------------+--------------------------+-----------------+---------------+-------------------------------+------------------+---------------+---------------+----+--------+---------+----+\n",
      "only showing top 5 rows\n",
      "\n",
      "41\n",
      "+-----------+--------------+-----------------------+------------------+------------------------------------------+-------------------------------------+--------------+-----------------------------------+------------+-------------------+--------------+-----------+----+\n",
      "|Survey Code|Survey        |Breakdown Variable Code|Breakdown Variable|Breadown by Sex of the Household Head Code|Breadown by Sex of the Household Head|Indicator Code|Indicator                          |Measure Code|Measure            |Unit          |Value      |Flag|\n",
      "+-----------+--------------+-----------------------+------------------+------------------------------------------+-------------------------------------+--------------+-----------------------------------+------------+-------------------+--------------+-----------+----+\n",
      "|32005      |Albania - 2005|20008                  |Country-level     |20002                                     |Male-headed household                |6061          |Total consumption in monetary value|6076        |Mean               |LCU/person/day|6617.690000|CS  |\n",
      "|32005      |Albania - 2005|20008                  |Country-level     |20002                                     |Male-headed household                |6061          |Total consumption in monetary value|6077        |Median             |LCU/person/day|5541.070000|CS  |\n",
      "|32005      |Albania - 2005|20008                  |Country-level     |20002                                     |Male-headed household                |6061          |Total consumption in monetary value|6078        |Standard Deviation |LCU/person/day|4375.790000|CS  |\n",
      "|32005      |Albania - 2005|20008                  |Country-level     |20002                                     |Male-headed household                |6061          |Total consumption in monetary value|6079        |Number Observations|LCU/person/day|3445.000000|CS  |\n",
      "|32005      |Albania - 2005|20008                  |Country-level     |20002                                     |Male-headed household                |6062          |Food consumption in monetary value |6076        |Mean               |LCU/person/day|1704.400000|CS  |\n",
      "+-----------+--------------+-----------------------+------------------+------------------------------------------+-------------------------------------+--------------+-----------------------------------+------------+-------------------+--------------+-----------+----+\n",
      "only showing top 5 rows\n",
      "\n",
      "64\n",
      "+---------------------+------------------+--------------------+-----------------+---------+--------------------+------------+---------------+---------+----+--------+---------+----+\n",
      "|Reporter Country Code|Reporter Countries|Partner Country Code|Partner Countries|Item Code|Item                |Element Code|Element        |Year Code|Year|Unit    |Value    |Flag|\n",
      "+---------------------+------------------+--------------------+-----------------+---------+--------------------+------------+---------------+---------+----+--------+---------+----+\n",
      "|2                    |Afghanistan       |4                   |Algeria          |230      |Cashew nuts, shelled|5910        |Export Quantity|2016     |2016|tonnes  |3.000000 |*   |\n",
      "|2                    |Afghanistan       |4                   |Algeria          |230      |Cashew nuts, shelled|5922        |Export Value   |2016     |2016|1000 US$|23.000000|*   |\n",
      "|2                    |Afghanistan       |4                   |Algeria          |1293     |Crude materials     |5922        |Export Value   |2015     |2015|1000 US$|1.000000 |*   |\n",
      "|2                    |Afghanistan       |4                   |Algeria          |1293     |Crude materials     |5922        |Export Value   |2016     |2016|1000 US$|1.000000 |*   |\n",
      "|2                    |Afghanistan       |4                   |Algeria          |1293     |Crude materials     |5922        |Export Value   |2017     |2017|1000 US$|null     |null|\n",
      "+---------------------+------------------+--------------------+-----------------+---------+--------------------+------------+---------------+---------+----+--------+---------+----+\n",
      "only showing top 5 rows\n",
      "\n",
      "67\n",
      "+---------+-----------+---------+--------+------------+------------+--------------+---------+----------------+-----------+----+--------------+----+----+\n",
      "|Area Code|Area       |Item Code|Item    |Element Code|Element     |WCA Round code|WCA Round|Census Year Code|Census Year|Unit|Value         |Flag|Note|\n",
      "+---------+-----------+---------+--------+------------+------------+--------------+---------+----------------+-----------+----+--------------+----+----+\n",
      "|2        |Afghanistan|27002    |Holdings|60850       |Number      |2000          |2000     |2003            |2003       |No  |3044670.000000|null|null|\n",
      "|3        |Albania    |27002    |Holdings|50260       |Area        |2000          |2000     |1998            |1998       |ha  |1889498.000000|null|null|\n",
      "|3        |Albania    |27002    |Holdings|50260       |Area        |2010          |2010     |2012            |2012       |ha  |371609.000000 |null|null|\n",
      "|3        |Albania    |27002    |Holdings|5017        |Average area|2000          |2000     |1998            |1998       |ha  |4.050000      |Fc  |null|\n",
      "|3        |Albania    |27002    |Holdings|5017        |Average area|2010          |2010     |2012            |2012       |ha  |1.160000      |Fc  |null|\n",
      "+---------+-----------+---------+--------+------------+------------+--------------+---------+----------------+-----------+----+--------------+----+----+\n",
      "only showing top 5 rows\n",
      "\n",
      "3\n",
      "+---------+-----------+---------+------------------------------------------+-----------+-------+---------+----+----+---------+----+-----------------+\n",
      "|Area Code|Area       |Item Code|Item                                      |Months Code|Months |Year Code|Year|Unit|Value    |Flag|Note             |\n",
      "+---------+-----------+---------+------------------------------------------+-----------+-------+---------+----+----+---------+----+-----------------+\n",
      "|2        |Afghanistan|23013    |Consumer Prices, Food Indices (2015 = 100)|7001       |January|2000     |2000|null|24.356332|F   |base year is 2015|\n",
      "|2        |Afghanistan|23013    |Consumer Prices, Food Indices (2015 = 100)|7001       |January|2001     |2001|null|29.944592|F   |base year is 2015|\n",
      "|2        |Afghanistan|23013    |Consumer Prices, Food Indices (2015 = 100)|7001       |January|2002     |2002|null|33.421952|F   |base year is 2015|\n",
      "|2        |Afghanistan|23013    |Consumer Prices, Food Indices (2015 = 100)|7001       |January|2003     |2003|null|39.967661|F   |base year is 2015|\n",
      "|2        |Afghanistan|23013    |Consumer Prices, Food Indices (2015 = 100)|7001       |January|2004     |2004|null|43.401939|F   |base year is 2015|\n",
      "+---------+-----------+---------+------------------------------------------+-----------+-------+---------+----+----+---------+----+-----------------+\n",
      "only showing top 5 rows\n",
      "\n",
      "20\n",
      "+---------+-----------+-----------+---------------------------------------+--------------+-------------------------------------------------------------------+--------+-----+---------+----+------------+-----------+----+-------------------------------------------------------------------------------------------------------+\n",
      "|Area Code|Area       |Source Code|Source                                 |Indicator Code|Indicator                                                          |Sex Code|Sex  |Year Code|Year|Unit        |Value      |Flag|Note                                                                                                   |\n",
      "+---------+-----------+-----------+---------------------------------------+--------------+-------------------------------------------------------------------+--------+-----+---------+----+------------+-----------+----+-------------------------------------------------------------------------------------------------------+\n",
      "|2        |Afghanistan|3021       |Household income and expenditure survey|21066         |Employment in agriculture, forestry and fishing by age, total (15+)|13      |Total|2008     |2008|1000 persons|4426.731000|X   |Break in series Break in series: Methodology revised Repository: ILO-STATISTICS - Micro data processing|\n",
      "|2        |Afghanistan|3021       |Household income and expenditure survey|21066         |Employment in agriculture, forestry and fishing by age, total (15+)|13      |Total|2012     |2012|1000 persons|2477.079000|X   |Repository: ILO-STATISTICS - Micro data processing                                                     |\n",
      "|2        |Afghanistan|3021       |Household income and expenditure survey|21066         |Employment in agriculture, forestry and fishing by age, total (15+)|13      |Total|2014     |2014|1000 persons|2824.353000|X   |Repository: ILO-STATISTICS - Micro data processing                                                     |\n",
      "|2        |Afghanistan|3021       |Household income and expenditure survey|21066         |Employment in agriculture, forestry and fishing by age, total (15+)|13      |Total|2017     |2017|1000 persons|2740.235000|X   |Repository: ILO-STATISTICS - Micro data processing                                                     |\n",
      "|2        |Afghanistan|3021       |Household income and expenditure survey|21066         |Employment in agriculture, forestry and fishing by age, total (15+)|23      |Male |2008     |2008|1000 persons|2476.535000|X   |Break in series Break in series: Methodology revised Repository: ILO-STATISTICS - Micro data processing|\n",
      "+---------+-----------+-----------+---------------------------------------+--------------+-------------------------------------------------------------------+--------+-----+---------+----+------------+-----------+----+-------------------------------------------------------------------------------------------------------+\n",
      "only showing top 5 rows\n",
      "\n",
      "21\n",
      "+---------+-----------+-----------+---------------------------------------+--------------+-------------------------------------+--------+-----+---------+----+------------+-----------+----+-------------------------------------------------------------------------------------------------------+\n",
      "|Area Code|Area       |Source Code|Source                                 |Indicator Code|Indicator                            |Sex Code|Sex  |Year Code|Year|Unit        |Value      |Flag|Note                                                                                                   |\n",
      "+---------+-----------+-----------+---------------------------------------+--------------+-------------------------------------+--------+-----+---------+----+------------+-----------+----+-------------------------------------------------------------------------------------------------------+\n",
      "|2        |Afghanistan|3021       |Household income and expenditure survey|21066         |Employment in agriculture by age, 15+|13      |Total|2008     |2008|1000 persons|4426.731000|X   |Break in series Break in series: Methodology revised Repository: ILO-STATISTICS - Micro data processing|\n",
      "|2        |Afghanistan|3021       |Household income and expenditure survey|21066         |Employment in agriculture by age, 15+|13      |Total|2012     |2012|1000 persons|2477.079000|X   |Repository: ILO-STATISTICS - Micro data processing                                                     |\n",
      "|2        |Afghanistan|3021       |Household income and expenditure survey|21066         |Employment in agriculture by age, 15+|13      |Total|2014     |2014|1000 persons|2824.353000|X   |Repository: ILO-STATISTICS - Micro data processing                                                     |\n",
      "|2        |Afghanistan|3021       |Household income and expenditure survey|21066         |Employment in agriculture by age, 15+|13      |Total|2017     |2017|1000 persons|2740.235000|X   |Repository: ILO-STATISTICS - Micro data processing                                                     |\n",
      "|2        |Afghanistan|3021       |Household income and expenditure survey|21066         |Employment in agriculture by age, 15+|23      |Male |2008     |2008|1000 persons|2476.535000|X   |Break in series Break in series: Methodology revised Repository: ILO-STATISTICS - Micro data processing|\n",
      "+---------+-----------+-----------+---------------------------------------+--------------+-------------------------------------+--------+-----+---------+----+------------+-----------+----+-------------------------------------------------------------------------------------------------------+\n",
      "only showing top 5 rows\n",
      "\n",
      "22\n",
      "+---------+-----------+-----------+---------------------------------------+--------------+-------------------------------------------+--------+-----+---------+----+------------+-----------+----+-------------------------------------------------------------------------------------------------------+\n",
      "|Area Code|Area       |Source Code|Source                                 |Indicator Code|Indicator                                  |Sex Code|Sex  |Year Code|Year|Unit        |Value      |Flag|Note                                                                                                   |\n",
      "+---------+-----------+-----------+---------------------------------------+--------------+-------------------------------------------+--------+-----+---------+----+------------+-----------+----+-------------------------------------------------------------------------------------------------------+\n",
      "|2        |Afghanistan|3021       |Household income and expenditure survey|21087         |Employment by age, total (15+), rural areas|13      |Total|2008     |2008|1000 persons|6253.794000|X   |Break in series Break in series: Methodology revised Repository: ILO-STATISTICS - Micro data processing|\n",
      "|2        |Afghanistan|3021       |Household income and expenditure survey|21087         |Employment by age, total (15+), rural areas|13      |Total|2014     |2014|1000 persons|5500.374000|X   |Repository: ILO-STATISTICS - Micro data processing                                                     |\n",
      "|2        |Afghanistan|3021       |Household income and expenditure survey|21087         |Employment by age, total (15+), rural areas|13      |Total|2017     |2017|1000 persons|4966.018000|X   |Repository: ILO-STATISTICS - Micro data processing                                                     |\n",
      "|2        |Afghanistan|3021       |Household income and expenditure survey|21087         |Employment by age, total (15+), rural areas|23      |Male |2008     |2008|1000 persons|3923.265000|X   |Break in series Break in series: Methodology revised Repository: ILO-STATISTICS - Micro data processing|\n",
      "|2        |Afghanistan|3021       |Household income and expenditure survey|21087         |Employment by age, total (15+), rural areas|23      |Male |2014     |2014|1000 persons|4066.614000|X   |Repository: ILO-STATISTICS - Micro data processing                                                     |\n",
      "+---------+-----------+-----------+---------------------------------------+--------------+-------------------------------------------+--------+-----+---------+----+------------+-----------+----+-------------------------------------------------------------------------------------------------------+\n",
      "only showing top 5 rows\n",
      "\n",
      "34\n",
      "+---------+-----------+---------+-------------------------------------+-----------------+--------+---------+----+----+--------------+----+------------------+\n",
      "|Area Code|Area       |Item Code|Item                                 |ISO Currency Code|Currency|Year Code|Year|Unit|Value         |Flag|Note              |\n",
      "+---------+-----------+---------+-------------------------------------+-----------------+--------+---------+----+----+--------------+----+------------------+\n",
      "|2        |Afghanistan|5540     |Standard local currency units per USD|AFN              |Afghani |1970     |1970|null|0.044998427080|X   |Data from UNSD AMA|\n",
      "|2        |Afghanistan|5540     |Standard local currency units per USD|AFN              |Afghani |1971     |1971|null|0.044998427080|X   |Data from UNSD AMA|\n",
      "|2        |Afghanistan|5540     |Standard local currency units per USD|AFN              |Afghani |1972     |1972|null|0.044998427080|X   |Data from UNSD AMA|\n",
      "|2        |Afghanistan|5540     |Standard local currency units per USD|AFN              |Afghani |1973     |1973|null|0.044998427080|X   |Data from UNSD AMA|\n",
      "|2        |Afghanistan|5540     |Standard local currency units per USD|AFN              |Afghani |1974     |1974|null|0.044998427080|X   |Data from UNSD AMA|\n",
      "+---------+-----------+---------+-------------------------------------+-----------------+--------+---------+----+----+--------------+----+------------------+\n",
      "only showing top 5 rows\n",
      "\n",
      "20\n",
      "+---------+-----------+-----------+---------------------------------------+--------------+-------------------------------------------------------------------+--------+-----+---------+----+------------+-----------+----+-------------------------------------------------------------------------------------------------------+\n",
      "|Area Code|Area       |Source Code|Source                                 |Indicator Code|Indicator                                                          |Sex Code|Sex  |Year Code|Year|Unit        |Value      |Flag|Note                                                                                                   |\n",
      "+---------+-----------+-----------+---------------------------------------+--------------+-------------------------------------------------------------------+--------+-----+---------+----+------------+-----------+----+-------------------------------------------------------------------------------------------------------+\n",
      "|2        |Afghanistan|3021       |Household income and expenditure survey|21066         |Employment in agriculture, forestry and fishing by age, total (15+)|13      |Total|2008     |2008|1000 persons|4426.731000|X   |Break in series Break in series: Methodology revised Repository: ILO-STATISTICS - Micro data processing|\n",
      "|2        |Afghanistan|3021       |Household income and expenditure survey|21066         |Employment in agriculture, forestry and fishing by age, total (15+)|13      |Total|2012     |2012|1000 persons|2477.079000|X   |Repository: ILO-STATISTICS - Micro data processing                                                     |\n",
      "|2        |Afghanistan|3021       |Household income and expenditure survey|21066         |Employment in agriculture, forestry and fishing by age, total (15+)|13      |Total|2014     |2014|1000 persons|2824.353000|X   |Repository: ILO-STATISTICS - Micro data processing                                                     |\n",
      "|2        |Afghanistan|3021       |Household income and expenditure survey|21066         |Employment in agriculture, forestry and fishing by age, total (15+)|13      |Total|2017     |2017|1000 persons|2740.235000|X   |Repository: ILO-STATISTICS - Micro data processing                                                     |\n",
      "|2        |Afghanistan|3021       |Household income and expenditure survey|21066         |Employment in agriculture, forestry and fishing by age, total (15+)|23      |Male |2008     |2008|1000 persons|2476.535000|X   |Break in series Break in series: Methodology revised Repository: ILO-STATISTICS - Micro data processing|\n",
      "+---------+-----------+-----------+---------------------------------------+--------------+-------------------------------------------------------------------+--------+-----+---------+----+------------+-----------+----+-------------------------------------------------------------------------------------------------------+\n",
      "only showing top 5 rows\n",
      "\n",
      "21\n",
      "+---------+-----------+-----------+---------------------------------------+--------------+-------------------------------------+--------+-----+---------+----+------------+-----------+----+-------------------------------------------------------------------------------------------------------+\n",
      "|Area Code|Area       |Source Code|Source                                 |Indicator Code|Indicator                            |Sex Code|Sex  |Year Code|Year|Unit        |Value      |Flag|Note                                                                                                   |\n",
      "+---------+-----------+-----------+---------------------------------------+--------------+-------------------------------------+--------+-----+---------+----+------------+-----------+----+-------------------------------------------------------------------------------------------------------+\n",
      "|2        |Afghanistan|3021       |Household income and expenditure survey|21066         |Employment in agriculture by age, 15+|13      |Total|2008     |2008|1000 persons|4426.731000|X   |Break in series Break in series: Methodology revised Repository: ILO-STATISTICS - Micro data processing|\n",
      "|2        |Afghanistan|3021       |Household income and expenditure survey|21066         |Employment in agriculture by age, 15+|13      |Total|2012     |2012|1000 persons|2477.079000|X   |Repository: ILO-STATISTICS - Micro data processing                                                     |\n",
      "|2        |Afghanistan|3021       |Household income and expenditure survey|21066         |Employment in agriculture by age, 15+|13      |Total|2014     |2014|1000 persons|2824.353000|X   |Repository: ILO-STATISTICS - Micro data processing                                                     |\n",
      "|2        |Afghanistan|3021       |Household income and expenditure survey|21066         |Employment in agriculture by age, 15+|13      |Total|2017     |2017|1000 persons|2740.235000|X   |Repository: ILO-STATISTICS - Micro data processing                                                     |\n",
      "|2        |Afghanistan|3021       |Household income and expenditure survey|21066         |Employment in agriculture by age, 15+|23      |Male |2008     |2008|1000 persons|2476.535000|X   |Break in series Break in series: Methodology revised Repository: ILO-STATISTICS - Micro data processing|\n",
      "+---------+-----------+-----------+---------------------------------------+--------------+-------------------------------------+--------+-----+---------+----+------------+-----------+----+-------------------------------------------------------------------------------------------------------+\n",
      "only showing top 5 rows\n",
      "\n",
      "22\n",
      "+---------+-----------+-----------+---------------------------------------+--------------+-------------------------------------------+--------+-----+---------+----+------------+-----------+----+-------------------------------------------------------------------------------------------------------+\n",
      "|Area Code|Area       |Source Code|Source                                 |Indicator Code|Indicator                                  |Sex Code|Sex  |Year Code|Year|Unit        |Value      |Flag|Note                                                                                                   |\n",
      "+---------+-----------+-----------+---------------------------------------+--------------+-------------------------------------------+--------+-----+---------+----+------------+-----------+----+-------------------------------------------------------------------------------------------------------+\n",
      "|2        |Afghanistan|3021       |Household income and expenditure survey|21087         |Employment by age, total (15+), rural areas|13      |Total|2008     |2008|1000 persons|6253.794000|X   |Break in series Break in series: Methodology revised Repository: ILO-STATISTICS - Micro data processing|\n",
      "|2        |Afghanistan|3021       |Household income and expenditure survey|21087         |Employment by age, total (15+), rural areas|13      |Total|2014     |2014|1000 persons|5500.374000|X   |Repository: ILO-STATISTICS - Micro data processing                                                     |\n",
      "|2        |Afghanistan|3021       |Household income and expenditure survey|21087         |Employment by age, total (15+), rural areas|13      |Total|2017     |2017|1000 persons|4966.018000|X   |Repository: ILO-STATISTICS - Micro data processing                                                     |\n",
      "|2        |Afghanistan|3021       |Household income and expenditure survey|21087         |Employment by age, total (15+), rural areas|23      |Male |2008     |2008|1000 persons|3923.265000|X   |Break in series Break in series: Methodology revised Repository: ILO-STATISTICS - Micro data processing|\n",
      "|2        |Afghanistan|3021       |Household income and expenditure survey|21087         |Employment by age, total (15+), rural areas|23      |Male |2014     |2014|1000 persons|4066.614000|X   |Repository: ILO-STATISTICS - Micro data processing                                                     |\n",
      "+---------+-----------+-----------+---------------------------------------+--------------+-------------------------------------------+--------+-----+---------+----+------------+-----------+----+-------------------------------------------------------------------------------------------------------+\n",
      "only showing top 5 rows\n",
      "\n",
      "32\n",
      "+---------+-----------+-----------+-------+------------+------------------+---------+----+----+---------+----+\n",
      "|Area Code|Area       |Months Code|Months |Element Code|Element           |Year Code|Year|Unit|Value    |Flag|\n",
      "+---------+-----------+-----------+-------+------------+------------------+---------+----+----+---------+----+\n",
      "|2        |Afghanistan|7001       |January|7271        |Temperature change|1961     |1961|�C  |0.786000 |Fc  |\n",
      "|2        |Afghanistan|7001       |January|7271        |Temperature change|1962     |1962|�C  |0.039000 |Fc  |\n",
      "|2        |Afghanistan|7001       |January|7271        |Temperature change|1963     |1963|�C  |2.718000 |Fc  |\n",
      "|2        |Afghanistan|7001       |January|7271        |Temperature change|1964     |1964|�C  |-5.226000|Fc  |\n",
      "|2        |Afghanistan|7001       |January|7271        |Temperature change|1965     |1965|�C  |1.889000 |Fc  |\n",
      "+---------+-----------+-----------+-------+------------+------------------+---------+----+----+---------+----+\n",
      "only showing top 5 rows\n",
      "\n"
     ]
    }
   ],
   "source": [
    "for i in missing:\n",
    "    print(i)\n",
    "    fileS=ss.read.csv(file_list[i], sep=',',header= True).show(5, truncate=False)"
   ]
  },
  {
   "cell_type": "markdown",
   "metadata": {},
   "source": [
    "After analyzing the results, we can reason the following:\n",
    "- For file number **3**, the missing value is *Element*, and as we cannot substitute, it will be replaced by a 0, thanks to the `lit` clause from the `pyspark` library.\n",
    "- In file **34**, we have the same problems as number 3 for *Element* and the units appear in the column called *Currency* therefore a substitution will be needed.\n",
    "- For files **20,21** and **22** the columns to be substitiuted are *Indicator* and *Sex* by *Item* and *Element*.\n",
    "- Whereas for **32** we have a similar case as for number 3 where *Item* cannot be substitude and will be replaced by 0.\n",
    "- In file 5 and **37**, the missing values is *Area*, however it can be substituted by *Recipient Country*, which will be made later on. \n",
    "- For files **40** and **64**, the *Area* is missing, however, we can concat the columns *Reporter Countries* and *Partner Countries*.\n",
    "- In file **41** \n",
    "- And finally for file *67*, we will adapt the *Census year* into *Year*.\n",
    "\n",
    "In the following cell, we create some list of the files that have things in common. "
   ]
  },
  {
   "cell_type": "code",
   "execution_count": 127,
   "metadata": {},
   "outputs": [],
   "source": [
    "B=[5,37]\n",
    "C=[20,21,22]\n",
    "F=[40,64]"
   ]
  },
  {
   "cell_type": "markdown",
   "metadata": {},
   "source": [
    "And finally, we create the Raw_Normalized data base by applying all the steps mentioned before through the `pyspark` library."
   ]
  },
  {
   "cell_type": "code",
   "execution_count": 150,
   "metadata": {},
   "outputs": [],
   "source": [
    "file0 = ss.read.csv(file_list[0], sep=',',header= True)\n",
    "file0=file0.select('Area','Year', (concat(col('Item'),lit(' - '), col('Element'),lit(' - '),col('Unit'))).alias('Unique'),'Value')\n",
    "for i in range (1,len(file_list)):\n",
    "    file1=ss.read.csv(file_list[i], header=True)\n",
    "    if i in missing:\n",
    "        if i == 3:\n",
    "          file1=file1.withColumn('Element',lit(0))          \n",
    "        elif i in B:\n",
    "          file1=file1.withColumn('Area',col('Recipient Country'))          \n",
    "        elif i in C:\n",
    "          file1=file1.withColumn('Element',col('Sex'))\n",
    "          file1=file1.withColumn('Item',col('Indicator'))          \n",
    "        elif i==32:\n",
    "          file1=file1.withColumn('Item',lit(0))          \n",
    "        elif i==34:\n",
    "          file1=file1.withColumn('Element',lit(0))\n",
    "          file1=file1.drop('Unit')\n",
    "          file1=file1.withColumn('Unit',col('Currency'))          \n",
    "        elif i in F:\n",
    "          file1=file1.withColumn( 'Area', concat(col(\"Reporter Countries\"), lit(\" - \"), col(\"Partner Countries\")))          \n",
    "        elif i==41:\n",
    "          file1=file1.withColumn( 'Element', concat(col(\"Breadown by Sex of the Household Head\"), lit(\" - \"), col(\"Measure\")))\n",
    "          file1=file1.withColumn('Item',col('Indicator'))\n",
    "          file1=file1.withColumn(\"Area\", split(col(\"Survey\"), \" - \").getItem(0)).withColumn(\"Year\", split(col(\"Survey\"), \" - \").getItem(1))         \n",
    "        elif i==67:\n",
    "          file1=file1.withColumn('Year',col('Census Year'))          \n",
    "    else:\n",
    "      pass\n",
    "    file1=file1.select('Area','Year', (concat(col('Item'),lit(' - '), col('Element'),lit(' - '),col('Unit'))).alias('Unique'),'Value')\n",
    "    file0=file0.union(file1)\n",
    "Raw_Normalized_FAODATA=file0"
   ]
  },
  {
   "cell_type": "markdown",
   "metadata": {},
   "source": [
    "# Data integration through pandas"
   ]
  },
  {
   "cell_type": "markdown",
   "metadata": {},
   "source": [
    "As at the beginning we do not have enough computer power to process the whole database, we are going to develop a test run to be sure that the ideas are escalable.\n"
   ]
  },
  {
   "cell_type": "markdown",
   "metadata": {},
   "source": [
    "In this first test run for the loop, we are going to load and process the data into concated data frames, where later on, there is an application of the <code>pivot_table</code> function which adjusts all the variables, previouly called 'Elements' & 'Units' into the headers of the columns, and the values the values of the table."
   ]
  },
  {
   "cell_type": "code",
   "execution_count": null,
   "metadata": {},
   "outputs": [],
   "source": [
    "main_dataframe = pd.DataFrame(pd.read_csv(file_list[0], sep=',', encoding='latin-1'),columns=CC)\n",
    "for i in range(1,5):\n",
    "    df = pd.DataFrame(pd.read_csv(file_list[i],sep=',' , encoding='latin-1',low_memory=False), columns=CC)\n",
    "    main_dataframe = pd.concat([main_dataframe, df])\n",
    "\n",
    "main_dataframeC=main_dataframe.pivot_table(index=['Area','Year'], columns= ['Element' or 'Item','Unit'], values='Value')\n",
    "main_dataframeC"
   ]
  },
  {
   "cell_type": "markdown",
   "metadata": {},
   "source": [
    "<p>In the following cell, we are concatanating all the files from the <code>file_list</code>, which will have the same shape thanks to creation of the dataframes with the restriction of the columns. <br>\n",
    "Moreover, this concat function will allow for a single data frame which has all the files one on top of another. Therefore the final result form this loop will be <code>main_dataframe</code> which will be our Normalized Source Data Model.</p>"
   ]
  },
  {
   "cell_type": "code",
   "execution_count": null,
   "metadata": {},
   "outputs": [],
   "source": [
    "main_dataframe = pd.DataFrame(pd.read_csv(file_list[0], sep=',', encoding='latin-1'),columns=CC)\n",
    "for i in range(1,len(file_list)):\n",
    "    df = pd.DataFrame(pd.read_csv(file_list[i],sep=',' , encoding='latin-1',low_memory=False), columns=CC)\n",
    "    main_dataframe = pd.concat([main_dataframe, df])"
   ]
  },
  {
   "cell_type": "markdown",
   "metadata": {},
   "source": [
    "<p>Lastly, to convert the Normalized Source Data Model into the Normalized Integrated Data Model, we are going to use the <code>pivot_table</code> function which allows to <br>\n",
    "adjusts all the variables, previouly called <em>'Elements' & 'Units'</em> into the headers of the columns, and the <em>'Value'</em> column will be the values of the table."
   ]
  },
  {
   "cell_type": "code",
   "execution_count": null,
   "metadata": {},
   "outputs": [],
   "source": [
    "main_dataframeC=main_dataframe.pivot_table(index=['Area','Year'], columns= ['Element' or 'Item' ,'Unit'], values='Value')\n",
    "main_dataframeC"
   ]
  },
  {
   "cell_type": "markdown",
   "metadata": {},
   "source": [
    "# Quality assurance"
   ]
  },
  {
   "cell_type": "markdown",
   "metadata": {},
   "source": [
    "In the following cell, we are going to make sure that none of our interesting variables from <em>'Elements'</em> have been left out, thus checking if the extraction & integtration has been completed."
   ]
  },
  {
   "cell_type": "code",
   "execution_count": 12,
   "metadata": {},
   "outputs": [
    {
     "name": "stdout",
     "output_type": "stream",
     "text": [
      "Data extraction & integration is COMPLETED and CORRECT\n"
     ]
    }
   ],
   "source": [
    "if len(main_dataframe[\"Element\" or 'Item'].value_counts())==main_dataframeC.shape[1]:\n",
    "    print('Data extraction & integration is COMPLETED and CORRECT')\n",
    "else:\n",
    "    print('Data extraction & integration is UNCOMPLETED')"
   ]
  }
 ],
 "metadata": {
  "kernelspec": {
   "display_name": "Python 3 (ipykernel)",
   "language": "python",
   "name": "python3"
  },
  "language_info": {
   "codemirror_mode": {
    "name": "ipython",
    "version": 3
   },
   "file_extension": ".py",
   "mimetype": "text/x-python",
   "name": "python",
   "nbconvert_exporter": "python",
   "pygments_lexer": "ipython3",
   "version": "3.10.4"
  },
  "vscode": {
   "interpreter": {
    "hash": "ad72b07258a3fa24452fee21e868a537ead700a3a6ac2a1adaf5006160c747dc"
   }
  }
 },
 "nbformat": 4,
 "nbformat_minor": 2
}
