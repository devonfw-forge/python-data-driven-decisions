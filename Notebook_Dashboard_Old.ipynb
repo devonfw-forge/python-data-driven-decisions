{
 "cells": [
  {
   "cell_type": "code",
   "execution_count": 1,
   "metadata": {
    "extensions": {
     "jupyter_dashboards": {
      "version": 1,
      "views": {
       "default_view": {
        "hidden": true
       }
      }
     }
    }
   },
   "outputs": [
    {
     "name": "stdout",
     "output_type": "stream",
     "text": [
      "Unexpected exception formatting exception. Falling back to standard exception\n"
     ]
    },
    {
     "name": "stderr",
     "output_type": "stream",
     "text": [
      "Traceback (most recent call last):\n",
      "  File \"c:\\Users\\vperezlo\\Documents\\GitHub\\python-data-driven-decisions\\.venv\\lib\\site-packages\\IPython\\core\\interactiveshell.py\", line 3398, in run_code\n",
      "    exec(code_obj, self.user_global_ns, self.user_ns)\n",
      "  File \"C:\\Users\\vperezlo\\AppData\\Local\\Temp\\ipykernel_16716\\2413450232.py\", line 10, in <cell line: 10>\n",
      "    import matplotlib.pyplot as plt\n",
      "  File \"c:\\Users\\vperezlo\\Documents\\GitHub\\python-data-driven-decisions\\.venv\\lib\\site-packages\\matplotlib\\pyplot.py\", line 57, in <module>\n",
      "    from matplotlib.figure import Figure, figaspect\n",
      "  File \"c:\\Users\\vperezlo\\Documents\\GitHub\\python-data-driven-decisions\\.venv\\lib\\site-packages\\matplotlib\\figure.py\", line 25, in <module>\n",
      "    from matplotlib import _blocking_input, docstring, projections\n",
      "  File \"c:\\Users\\vperezlo\\Documents\\GitHub\\python-data-driven-decisions\\.venv\\lib\\site-packages\\matplotlib\\projections\\__init__.py\", line 56, in <module>\n",
      "    from .geo import AitoffAxes, HammerAxes, LambertAxes, MollweideAxes\n",
      "  File \"c:\\Users\\vperezlo\\Documents\\GitHub\\python-data-driven-decisions\\.venv\\lib\\site-packages\\matplotlib\\projections\\geo.py\", line 414, in <module>\n",
      "    class LambertAxes(GeoAxes):\n",
      "  File \"c:\\Users\\vperezlo\\Documents\\GitHub\\python-data-driven-decisions\\.venv\\lib\\site-packages\\matplotlib\\artist.py\", line 119, in __init_subclass__\n",
      "    cls._update_set_signature_and_docstring()\n",
      "  File \"c:\\Users\\vperezlo\\Documents\\GitHub\\python-data-driven-decisions\\.venv\\lib\\site-packages\\matplotlib\\artist.py\", line 140, in _update_set_signature_and_docstring\n",
      "    for prop in ArtistInspector(cls).get_setters()\n",
      "  File \"c:\\Users\\vperezlo\\Documents\\GitHub\\python-data-driven-decisions\\.venv\\lib\\site-packages\\matplotlib\\artist.py\", line 1436, in get_setters\n",
      "    or self.is_alias(func)):\n",
      "  File \"c:\\Users\\vperezlo\\Documents\\GitHub\\python-data-driven-decisions\\.venv\\lib\\site-packages\\matplotlib\\artist.py\", line 1443, in is_alias\n",
      "    ds = inspect.getdoc(o)\n",
      "  File \"C:\\Users\\vperezlo\\AppData\\Local\\Programs\\Python\\Python310\\lib\\inspect.py\", line 742, in getdoc\n",
      "    return cleandoc(doc)\n",
      "  File \"C:\\Users\\vperezlo\\AppData\\Local\\Programs\\Python\\Python310\\lib\\inspect.py\", line -1, in cleandoc\n",
      "KeyboardInterrupt\n",
      "\n",
      "During handling of the above exception, another exception occurred:\n",
      "\n",
      "Traceback (most recent call last):\n",
      "  File \"c:\\Users\\vperezlo\\Documents\\GitHub\\python-data-driven-decisions\\.venv\\lib\\site-packages\\IPython\\core\\interactiveshell.py\", line 1993, in showtraceback\n",
      "    stb = self.InteractiveTB.structured_traceback(\n",
      "  File \"c:\\Users\\vperezlo\\Documents\\GitHub\\python-data-driven-decisions\\.venv\\lib\\site-packages\\IPython\\core\\ultratb.py\", line 1118, in structured_traceback\n",
      "    return FormattedTB.structured_traceback(\n",
      "  File \"c:\\Users\\vperezlo\\Documents\\GitHub\\python-data-driven-decisions\\.venv\\lib\\site-packages\\IPython\\core\\ultratb.py\", line 1012, in structured_traceback\n",
      "    return VerboseTB.structured_traceback(\n",
      "  File \"c:\\Users\\vperezlo\\Documents\\GitHub\\python-data-driven-decisions\\.venv\\lib\\site-packages\\IPython\\core\\ultratb.py\", line 865, in structured_traceback\n",
      "    formatted_exception = self.format_exception_as_a_whole(etype, evalue, etb, number_of_lines_of_context,\n",
      "  File \"c:\\Users\\vperezlo\\Documents\\GitHub\\python-data-driven-decisions\\.venv\\lib\\site-packages\\IPython\\core\\ultratb.py\", line 818, in format_exception_as_a_whole\n",
      "    frames.append(self.format_record(r))\n",
      "  File \"c:\\Users\\vperezlo\\Documents\\GitHub\\python-data-driven-decisions\\.venv\\lib\\site-packages\\IPython\\core\\ultratb.py\", line 736, in format_record\n",
      "    result += ''.join(_format_traceback_lines(frame_info.lines, Colors, self.has_colors, lvals))\n",
      "  File \"c:\\Users\\vperezlo\\Documents\\GitHub\\python-data-driven-decisions\\.venv\\lib\\site-packages\\stack_data\\utils.py\", line 145, in cached_property_wrapper\n",
      "    value = obj.__dict__[self.func.__name__] = self.func(obj)\n",
      "  File \"c:\\Users\\vperezlo\\Documents\\GitHub\\python-data-driven-decisions\\.venv\\lib\\site-packages\\stack_data\\core.py\", line 698, in lines\n",
      "    pieces = self.included_pieces\n",
      "  File \"c:\\Users\\vperezlo\\Documents\\GitHub\\python-data-driven-decisions\\.venv\\lib\\site-packages\\stack_data\\utils.py\", line 145, in cached_property_wrapper\n",
      "    value = obj.__dict__[self.func.__name__] = self.func(obj)\n",
      "  File \"c:\\Users\\vperezlo\\Documents\\GitHub\\python-data-driven-decisions\\.venv\\lib\\site-packages\\stack_data\\core.py\", line 649, in included_pieces\n",
      "    pos = scope_pieces.index(self.executing_piece)\n",
      "  File \"c:\\Users\\vperezlo\\Documents\\GitHub\\python-data-driven-decisions\\.venv\\lib\\site-packages\\stack_data\\utils.py\", line 145, in cached_property_wrapper\n",
      "    value = obj.__dict__[self.func.__name__] = self.func(obj)\n",
      "  File \"c:\\Users\\vperezlo\\Documents\\GitHub\\python-data-driven-decisions\\.venv\\lib\\site-packages\\stack_data\\core.py\", line 628, in executing_piece\n",
      "    return only(\n",
      "  File \"c:\\Users\\vperezlo\\Documents\\GitHub\\python-data-driven-decisions\\.venv\\lib\\site-packages\\executing\\executing.py\", line 164, in only\n",
      "    raise NotOneValueFound('Expected one value, found 0')\n",
      "executing.executing.NotOneValueFound: Expected one value, found 0\n"
     ]
    }
   ],
   "source": [
    "import os\n",
    "import pandas as pd\n",
    "import numpy as np\n",
    "from numpy import sort\n",
    "from os import listdir\n",
    "from os.path import isfile, join\n",
    "\n",
    "import ipywidgets as widgets\n",
    "from ipywidgets import interact, interact_manual\n",
    "import matplotlib.pyplot as plt\n",
    "import plotly.express as px\n",
    "\n",
    "from IPython.display import display_html\n",
    "\n",
    "from matplotlib_venn import venn3\n",
    "from Project.Utils.norm import norm\n",
    "from Project.Utils.max_corr import max_corr\n",
    "\n",
    "from Project.Utils.visualize import search, searchTimeSeries, get_years\n",
    "\n",
    "import warnings\n",
    "warnings.filterwarnings(\"ignore\")"
   ]
  },
  {
   "cell_type": "code",
   "execution_count": null,
   "metadata": {
    "extensions": {
     "jupyter_dashboards": {
      "version": 1,
      "views": {
       "default_view": {
        "hidden": true
       }
      }
     }
    }
   },
   "outputs": [],
   "source": [
    "data_path = os.getcwd() + '/Databases/'\n",
    "output_path = os.getcwd() + '/Output/'\n",
    "country_path = output_path + '/Country/'\n",
    "region_path = output_path + '/Region/'\n",
    "cluster_path = output_path + '/Cluster/'"
   ]
  },
  {
   "cell_type": "code",
   "execution_count": null,
   "metadata": {
    "extensions": {
     "jupyter_dashboards": {
      "version": 1,
      "views": {
       "default_view": {
        "hidden": true
       }
      }
     }
    }
   },
   "outputs": [],
   "source": [
    "file_regions = 'AuxiliarData/world-regions-mod.csv'\n",
    "\n",
    "file_gold = 'GoldDataframe.csv'\n",
    "file_corr_pearson = 'Corr_DF_Pearson.csv'\n",
    "file_corr_spearman = 'Corr_DF_Spearman.csv'\n",
    "file_agg_region = 'AggregatedRegion_DataFrame.csv'\n",
    "file_agg_world = 'AggregatedWorld_DataFrame.csv'\n",
    "file_norm_df = 'Norm_DF.csv'\n",
    "file_shifted_corr_country = 'Shifted_Corr_Country.csv'\n",
    "file_shifted_corr_region = 'Shifted_Corr_Region.csv'"
   ]
  },
  {
   "cell_type": "code",
   "execution_count": null,
   "metadata": {
    "extensions": {
     "jupyter_dashboards": {
      "version": 1,
      "views": {
       "default_view": {
        "hidden": true
       }
      }
     }
    }
   },
   "outputs": [],
   "source": [
    "col_country = 'Country'\n",
    "col_year = 'Year'\n",
    "col_region = 'Region'\n",
    "col_gdp = 'GDP'\n",
    "col_cluster = 'Cluster'\n",
    "col_shift = 'Shift'\n",
    "\n",
    "col_1comp = '1st_component'\n",
    "col_2comp = '2nd_component'"
   ]
  },
  {
   "cell_type": "code",
   "execution_count": null,
   "metadata": {
    "extensions": {
     "jupyter_dashboards": {
      "version": 1,
      "views": {
       "default_view": {
        "hidden": true
       }
      }
     }
    }
   },
   "outputs": [],
   "source": [
    "# READ GOLD DATAFRME\n",
    "# Read Golden Dataframe and initialize the variables that depend on it.\n",
    "\n",
    "df = pd.read_csv(output_path + file_gold, on_bad_lines = 'warn', index_col = ['Region', 'Country', 'Year'])\n",
    "\n",
    "# List of countries and list of regions.\n",
    "country_list = list(np.sort(df.index.get_level_values(col_country).unique()))\n",
    "region_list = list(np.sort(df.index.get_level_values(col_region).unique()))\n",
    "\n",
    "mode_dict = {}\n",
    "mode_dict[col_country] = country_list\n",
    "mode_dict[col_region] = region_list\n",
    "mode_list = [col_country, col_region]\n",
    "\n",
    "# Range of years.\n",
    "min_year = df.index.get_level_values(col_year).min()\n",
    "max_year = df.index.get_level_values(col_year).max()\n",
    "\n",
    "# List of all indicators, except for the GDP.\n",
    "indicators_list = df.columns.tolist()\n",
    "indicators_list.remove(col_gdp)\n",
    "indicators_list.sort()"
   ]
  },
  {
   "cell_type": "code",
   "execution_count": null,
   "metadata": {},
   "outputs": [],
   "source": [
    "df_regions = pd.read_csv(data_path + file_regions, index_col = [col_country, col_region])\n",
    "df_corr_pearson = pd.read_csv(output_path + file_corr_pearson, index_col = [col_country])\n",
    "df_corr_spearman = pd.read_csv(output_path + file_corr_spearman, index_col = [col_country])\n",
    "\n",
    "median_corr_df_pearson_region = pd.merge(df_corr_spearman, df_regions, how = 'inner', left_index = True, right_index = True).groupby(level = col_region).median()\n",
    "median_corr_df_spearman_region = pd.merge(df_corr_spearman, df_regions, how = 'inner', left_index = True, right_index = True).groupby(level = col_region).median()\n",
    "median_corr_df_pearson = pd.merge(df_corr_spearman, df_regions, how = 'inner', left_index = True, right_index = True).median().rename('GDP Pearson Corr')\n",
    "median_corr_df_spearman = pd.merge(df_corr_spearman, df_regions, how = 'inner', left_index = True, right_index = True).median().rename('GDP Spearman Corr')\n",
    "\n",
    "median_corr_df = pd.concat([median_corr_df_pearson, median_corr_df_spearman], axis = 1)"
   ]
  },
  {
   "cell_type": "code",
   "execution_count": null,
   "metadata": {
    "extensions": {
     "jupyter_dashboards": {
      "version": 1,
      "views": {
       "default_view": {
        "hidden": true
       }
      }
     }
    }
   },
   "outputs": [],
   "source": [
    "# READ CLUSTERS\n",
    "# Read both Dataframes for each indicators group: the one with the indicator values, and the one with the components.\n",
    "\n",
    "ind_dict = {}\n",
    "cluster_dict = {}\n",
    "cluster_list = []\n",
    "comp_dict = {}\n",
    "\n",
    "for element in listdir(cluster_path):\n",
    "    url = join(cluster_path, element)\n",
    "    if isfile(url) and url.endswith('_Comp.csv'):\n",
    "        ind = element.removesuffix('_Comp.csv')\n",
    "        comp_df = pd.read_csv(url, on_bad_lines = 'warn', index_col = [col_cluster, col_country])\n",
    "        comp_dict[ind] = comp_df\n",
    "        cluster_number_df = comp_df.drop(columns = comp_df.columns).reset_index(col_cluster, drop = False).rename({col_cluster: ind}, axis = 1)\n",
    "        cluster_list.append(cluster_number_df)\n",
    "\n",
    "    elif isfile(url) and url.endswith('.csv'):\n",
    "        ind = element.removesuffix('.csv')\n",
    "        ind_df = pd.read_csv(url, on_bad_lines = 'warn', index_col = [col_cluster, col_country])\n",
    "        cluster_dict[ind] = ind_df.reset_index(col_cluster, drop = False)\n",
    "        ind_dict[ind] = np.sort(ind_df.columns)\n",
    "\n",
    "cluster_df = pd.concat(cluster_list, axis = 1)\n",
    "cluster_df = cluster_df.fillna(-1).astype(int)"
   ]
  },
  {
   "cell_type": "code",
   "execution_count": null,
   "metadata": {},
   "outputs": [],
   "source": [
    "plot_time_series_out = widgets.Output(layout={'border': '1px solid black'})\n",
    "plot_cluster_map_out = widgets.Output(layout={'border': '1px solid black'})\n",
    "table_cluster_out = widgets.Output(layout={'border': '1px solid black'})\n",
    "venn_group_out = widgets.Output(layout={'border': '1px solid black'})\n",
    "globe_corr_out = widgets.Output(layout={'border': '1px solid black'})\n",
    "table_time_window_out = widgets.Output(layout={'border': '1px solid black'})\n",
    "table_high_range_out = widgets.Output(layout={'border': '1px solid black'})\n",
    "table_corr_country_out = widgets.Output(layout={'border': '1px solid black'})\n",
    "table_corr_med_out = widgets.Output(layout={'border': '1px solid black'})\n",
    "\n",
    "widgets_general_out = widgets.Output(layout={'border': '1px solid black'})\n",
    "widgets_time_out = widgets.Output(layout={'border': '1px solid black'})\n",
    "widgets_cluster_out = widgets.Output(layout={'border': '1px solid black'})\n",
    "\n",
    "widgets_out = widgets.Output(layout={'border': '1px solid black'})"
   ]
  },
  {
   "cell_type": "code",
   "execution_count": null,
   "metadata": {
    "extensions": {
     "jupyter_dashboards": {
      "version": 1,
      "views": {
       "default_view": {
        "hidden": true
       }
      }
     }
    }
   },
   "outputs": [],
   "source": [
    "@plot_cluster_map_out.capture(clear_output=True, wait=True)\n",
    "def plot_cluster_map (df: pd.DataFrame, group_name: str = 'All indicators', *, col_1comp: str = '1st_component', col_2comp: str = '2nd_component'):\n",
    "    if df is None: return None\n",
    "    fig = px.scatter(df, x = col_1comp, y = col_2comp, text = df.index, size_max=100, color=col_cluster, category_orders={col_cluster: np.sort(df.loc[:, col_cluster].unique())})\n",
    "    fig.update_layout(title_text = group_name, title_x=0.5)\n",
    "    fig.update_traces(textposition = 'top center')\n",
    "    fig.show()\n",
    "\n",
    "@table_cluster_out.capture(clear_output=True, wait=True)\n",
    "def table_cluster (df: pd.DataFrame, group_name: str = 'All indicators', country: str = '', cluster_number: int = 0):\n",
    "    if df is None: return None\n",
    "    try:\n",
    "        df_s = df.style\n",
    "        df_s.apply_index(lambda i: ['background-color: #aadfff; font-weight: 500' if c == country else '' for c in i], axis = 0)\n",
    "        df_s.apply(lambda row: ['background-color: #ccebff;' if row.name == country else '' for cell in row], axis = 1)\n",
    "        df_s.set_table_styles([{'selector': 'td:hover', 'props': [('background-color', '#ddfdff')]}])\n",
    "        tt = {}\n",
    "        for col in df.columns:\n",
    "            tt[col] = 'Column median: ' + str(df.loc[:, col].median())\n",
    "        df_s.set_tooltips(pd.DataFrame(tt, index = df.index))\n",
    "\n",
    "        # Display a short descriptive title and the Dataframe.\n",
    "        display(country + ' belongs to Cluster ' + str(cluster_number) + '. This Cluster contains a total of ' + str(df.shape[0]) + ' countries.')\n",
    "        display(df_s)\n",
    "    except Exception:\n",
    "        return print('No indicators available for this country.')\n",
    "\n",
    "@venn_group_out.capture(clear_output=True, wait=True)\n",
    "def venn_group(cluster_df, country):\n",
    "    try:\n",
    "        _, econ_ind, eq_ind, socdem_ind = ind_dict.keys()       # NON ROBUST STATEMENT\n",
    "        _, set_econ, set_eq, set_socdem = (set(cluster_df.loc[lambda df: df[ind] == df.loc[country, ind], ind].index.to_list()) for ind in ind_dict.keys())\n",
    "        venn = venn3([set_econ, set_socdem, set_eq], (econ_ind, socdem_ind, eq_ind))\n",
    "\n",
    "        venn.get_label_by_id('100').set_text('\\n'.join(set_econ - set_socdem - set_eq)) # Only econ\n",
    "        venn.get_label_by_id('010').set_text('\\n'.join(set_socdem - set_econ - set_eq)) # Only socdem\n",
    "        venn.get_label_by_id('001').set_text('\\n'.join(set_eq - set_econ - set_socdem)) # Only eq\n",
    "\n",
    "        # The three pair-intersections is guaranteed only if there is an intersection of the three groups.\n",
    "        if len(set_econ & set_socdem & set_eq):\n",
    "            venn.get_label_by_id('111').set_text('\\n'.join(set_econ & set_socdem & set_eq))\n",
    "            venn.get_label_by_id('110').set_text('\\n'.join(set_econ & set_socdem - set_eq))\n",
    "            venn.get_label_by_id('101').set_text('\\n'.join(set_econ & set_eq - set_socdem))\n",
    "            venn.get_label_by_id('011').set_text('\\n'.join(set_socdem & set_eq - set_econ))\n",
    "        else:\n",
    "            # If no center, check the intersections that do exist.\n",
    "            if len(set_econ & set_socdem - set_eq):\n",
    "                venn.get_label_by_id('110').set_text('\\n'.join(set_econ & set_socdem - set_eq))\n",
    "            if len(set_econ & set_eq - set_socdem):\n",
    "                venn.get_label_by_id('101').set_text('\\n'.join(set_econ & set_eq - set_socdem))\n",
    "            if len(set_socdem & set_eq - set_econ):\n",
    "                venn.get_label_by_id('011').set_text('\\n'.join(set_socdem & set_eq - set_econ))\n",
    "\n",
    "        plt.rcParams[\"figure.figsize\"] = (12, 12)\n",
    "        plt.show()\n",
    "\n",
    "    except:\n",
    "        return print('No indicators available for this country.')\n",
    "\n",
    "@plot_time_series_out.capture(clear_output=True, wait=True)\n",
    "def plot_time_series(df: pd.DataFrame, mode: str, zone: str, indicator: str, years: tuple, shift: int):\n",
    "    data_s = df.loc[df.index.get_level_values(mode) == zone, [col_gdp, indicator]].groupby(level = col_year).median()\n",
    "\n",
    "    min_year = years[0]\n",
    "    max_year = years[1]\n",
    "\n",
    "    min_year_gdp = min_year + max(shift, 0)\n",
    "    max_year_gdp = max_year + min(shift, 0)\n",
    "\n",
    "    min_year_ind = min_year - min(shift, 0)\n",
    "    max_year_ind = max_year - max(shift, 0)\n",
    "\n",
    "    norm_gdp = norm(data_s.loc[min_year_gdp : max_year_gdp, [col_gdp]], None)\n",
    "    norm_ind = norm(data_s.loc[min_year_ind : max_year_ind, [indicator]], None)\n",
    "\n",
    "    plt.figure(figsize = (8,8))\n",
    "    plt.plot(\n",
    "                #norm_gdp.index.get_level_values(col_year),\n",
    "                norm_gdp.reset_index(drop = True),\n",
    "                color = \"red\", label = col_gdp)\n",
    "    plt.plot(\n",
    "                #norm_ind.index.get_level_values(col_year),\n",
    "                norm_ind.reset_index(drop = True),\n",
    "                color = \"green\", label = indicator)\n",
    "    plt.legend(loc = \"lower right\")\n",
    "    plt.show()"
   ]
  },
  {
   "cell_type": "code",
   "execution_count": null,
   "metadata": {
    "extensions": {
     "jupyter_dashboards": {
      "version": 1,
      "views": {
       "default_view": {
        "hidden": true
       }
      }
     }
    }
   },
   "outputs": [],
   "source": [
    "import itertools\n",
    "from scipy import stats\n",
    "\n",
    "def styler_method(df, name, pvalue = None):    \n",
    "        if pvalue == None:\n",
    "                pvalue = 0.05\n",
    "    #try:\n",
    "        styles = [dict(selector=\"caption\", props=[(\"background-color\", \"#98D3FF\")])]\n",
    "        left1 = pd.Series([pvalue], index=['P-value Spearman'])\n",
    "        left2 = pd.Series([-1], index=['GDP Spearman Corr'])\n",
    "        left3 = pd.Series([0], index=['GDP Spearman Corr'])\n",
    "        dfs = df.style.highlight_between(left = left1, right = 1.5, axis = 1, props='color:white; background-color:red;')\\\n",
    "                .highlight_between(left = left2, right = 1.5, axis = 1, props='color:white; background-color:#929bfc;')\\\n",
    "                .highlight_between(left = left3, right = 1.5, axis = 1, props='color:white; background-color:#b3b9ff;')\\\n",
    "                .format('{:,.4f}', subset = ['GDP Spearman Corr'])\\\n",
    "                .format('{:,.12f}', subset = ['P-value Spearman']) \\\n",
    "                .set_caption(name).set_table_styles(styles)\\\n",
    "                .set_table_attributes(\"style='display:inline'\")\n",
    "    #except:\n",
    "    #    dfs = 'No indicators have been found for the window dataframe in this range.'\n",
    "        \n",
    "        return dfs\n",
    "\n",
    "def init_highest_table(indicators):    \n",
    "    df_highest = pd.DataFrame(columns={\"Indicator\"})\n",
    "    df_highest[\"Indicator\"] = indicators\n",
    "    df_highest[\"Year range\"] = 0\n",
    "    df_highest[\"Highest positive Spearman corr\"] = 0\n",
    "    df_highest[\"Year range \"] = 0\n",
    "    df_highest[\"Highest negative Spearman corr\"] = 0\n",
    "    df_highest.set_index(\"Indicator\", inplace= True)\n",
    "\n",
    "    return df_highest\n",
    "\n",
    "def generate_years_combinations(min_diff: int, min, max):\n",
    "    iterable = list(range(min, max + 1))\n",
    "    iterable = list(itertools.combinations(iterable, 2))\n",
    "\n",
    "    #The year length must be higher than 5. All entries with a lower range are deleted.\n",
    "    for years in iterable.copy():\n",
    "        if (years[1] - years[0]) < min_diff:\n",
    "            iterable.remove(years)\n",
    "    return iterable"
   ]
  },
  {
   "cell_type": "code",
   "execution_count": null,
   "metadata": {
    "extensions": {
     "jupyter_dashboards": {
      "version": 1,
      "views": {
       "default_view": {
        "hidden": true
       }
      }
     }
    }
   },
   "outputs": [],
   "source": [
    "@globe_corr_out.capture(clear_output=True, wait=True)\n",
    "def globe_corr(df_corr, ind):\n",
    "    N = 10\n",
    "    fig = px.choropleth(df_corr, locations = df_corr.index, locationmode='country names', \n",
    "                        color = ind, projection=\"natural earth\",\n",
    "                        color_continuous_scale='RdBu',\n",
    "                        width = 700, height=500)\n",
    "\n",
    "    pos_corr = df_corr.drop(df_corr.columns.difference([ind]), axis = 1).sort_values(by = ind, axis = 0, ascending = False).head(n = N)\n",
    "    neg_corr = df_corr.drop(df_corr.columns.difference([ind]), axis = 1).sort_values(by = ind, axis = 0, ascending = True).head(n = N)\n",
    "\n",
    "    pos_corr = pos_corr.loc[pos_corr[ind] > 0]\n",
    "    neg_corr = neg_corr.loc[neg_corr[ind] < 0]\n",
    "\n",
    "\n",
    "    fig.update(layout_coloraxis_showscale=True)\n",
    "    fig.show()\n",
    "\n",
    "@table_time_window_out.capture(clear_output=True, wait=True)\n",
    "def table_time_window(df, mode, zone, years, threshold, pval):\n",
    "    df_zone = df.loc[df.index.get_level_values(mode) == zone]\n",
    "    #Load the selected year range and the global range.\n",
    "    df_time = searchTimeSeries(threshold, years[0], years[1], True, df_zone)\n",
    "    df_global = searchTimeSeries(threshold, years[0], years[1], False, df_zone)\n",
    "\n",
    "    # Display Data\n",
    "    if years[0] > years[1]: return print(\"Please, select a valid range of years.\")\n",
    " \n",
    "    space = \"\\xa0\" * 10\n",
    "    try:\n",
    "        df_time = styler_method(df_time, str(years[0]) + '-' + str(years[1]), pval)._repr_html_()\n",
    "    except Exception as e: \n",
    "        df_time = 'No indicators available for the selected parameters'\n",
    "    \n",
    "    try:\n",
    "        df_global = styler_method(df_global, '2000-2020', pval)._repr_html_()\n",
    "    except: \n",
    "        df_global = 'No indicators available for the selected parameters'\n",
    "    \n",
    "    display_html(df_time + space  + df_global, raw=True)\n",
    "\n",
    "@table_high_range_out.capture(clear_output=True, wait=True)\n",
    "def table_high_range(mode, zone, pval):\n",
    "    if mode == 'Country':\n",
    "        min_diff = 5\n",
    "        \n",
    "    elif mode == 'Region':\n",
    "        min_diff = 2\n",
    "    \n",
    "    df_zone = df.loc[df.index.get_level_values(mode) == zone] #.drop(columns = 'GDP')\n",
    "    indicators = df.columns\n",
    "    df_highest = init_highest_table(indicators)\n",
    "\n",
    "    i = 0\n",
    "    computing_text = \"Loading \"\n",
    "    print(computing_text, end=\"\\r\")\n",
    "    \n",
    "    #For all the combination of years...\n",
    "    for years in generate_years_combinations(min_diff, min_year, max_year):\n",
    "        i = (i + 1) % 50\n",
    "        print (computing_text + \"\".join([\".\" for _ in range(i)]), end=\"\\r\")\n",
    "        \n",
    "        df_aux = searchTimeSeries(0, years[0], years[1], True, df_zone)\n",
    "        #Delete indicators which are not available that year\n",
    "        indicators_inter = list(set(indicators) & set(list(df_aux.index)))\n",
    "\n",
    "        #For all the indicators availble that year....\n",
    "        for indicator in indicators_inter:\n",
    "            #Algorithm to search for the highest value\n",
    "            indicator_corr_pos_last = df_highest[df_highest.index.get_level_values(0) == indicator][\"Highest positive Spearman corr\"][0]\n",
    "            indicator_corr_neg_last = df_highest[df_highest.index.get_level_values(0) == indicator][\"Highest negative Spearman corr\"][0]\n",
    "            \n",
    "          \n",
    "            indicator_corr_aux = df_aux[df_aux.index.get_level_values(0) == indicator][\"GDP Spearman Corr\"][0]\n",
    "            indicator_p_value_aux = df_aux[df_aux.index.get_level_values(0) == indicator][\"P-value Spearman\"][0]\n",
    "\n",
    "            if indicator_corr_aux != np.NaN and indicator_p_value_aux < pval:\n",
    "                if indicator_corr_pos_last < indicator_corr_aux and indicator_corr_aux > 0:\n",
    "                    df_highest.at[indicator, \"Year range\"] = str(years[0]) + '-' + str(years[1])\n",
    "                    df_highest.at[indicator, \"Highest positive Spearman corr\"] = indicator_corr_aux\n",
    "                elif indicator_corr_neg_last > indicator_corr_aux and indicator_corr_aux < 0:\n",
    "                    df_highest.at[indicator, \"Year range \"] = str(years[0]) + '-' + str(years[1])\n",
    "                    df_highest.at[indicator, \"Highest negative Spearman corr\"] = indicator_corr_aux\n",
    "\n",
    "    df_highest = df_highest.replace(0, np.NaN).dropna(axis=0, how='all').fillna(\"-\")\n",
    "    \n",
    "    print(\"                                                                                    \", end=\"\\r\")\n",
    "    display(df_highest)\n",
    "\n",
    "@table_corr_country_out.capture(clear_output=True, wait=True)\n",
    "def table_corr_country(mode, zone, threshold, pval):\n",
    "    print(mode, zone)\n",
    "    df = search(threshold, mode, zone)\n",
    "    if df.empty:\n",
    "        return print(\"No indicators have been found.\")\n",
    "\n",
    "    left1 = pd.Series([pval, pval], index=['P-value Pearson', 'P-value Spearman'])\n",
    "    left2 = pd.Series([-1, -1], index=['GDP Pearson Corr', 'GDP Spearman Corr'])\n",
    "    left3 = pd.Series([0, 0], index=['GDP Pearson Corr', 'GDP Spearman Corr'])\n",
    "\n",
    "    df = df.style.highlight_between(left = left1, right = 1.5, axis = 1, props='color:white; background-color:red;')\\\n",
    "                 .highlight_between(left = left2, right = 1.5, axis = 1, props='color:white; background-color:#929bfc;')\\\n",
    "                 .highlight_between(left = left3, right = 1.5, axis = 1, props='color:white; background-color:#b3b9ff;')\\\n",
    "                 .format('{:,.4f}', subset = ['GDP Pearson Corr', 'GDP Spearman Corr'])\\\n",
    "                 .format('{:,.12f}', subset = ['P-value Pearson', 'P-value Spearman'])\n",
    "\n",
    "    display(df)\n",
    "\n",
    "@table_corr_med_out.capture(clear_output=True, wait=True)\n",
    "def table_corr_med(threshold):\n",
    "    df = median_corr_df\n",
    "    df = df.loc[(abs(df['GDP Pearson Corr']) >= threshold) & (abs(df['GDP Spearman Corr']) >= threshold)]\n",
    "    if df.empty:\n",
    "        return print(\"No indicators have been found.\")\n",
    "\n",
    "    df = df.sort_values(by = df.columns[0], ascending = False, key = lambda row: df.sum(axis = 1))\n",
    "\n",
    "    left1 = pd.Series([-1, -1], index = ['GDP Pearson Corr', 'GDP Spearman Corr'])\n",
    "    left2 = pd.Series([0, 0], index = ['GDP Pearson Corr', 'GDP Spearman Corr'])\n",
    "\n",
    "    df = df.style.highlight_between(left = left1, right = 1.5, axis = 1, props = 'color:white; background-color:#929bfc;')\\\n",
    "                 .highlight_between(left = left2, right = 1.5, axis = 1, props = 'color:white; background-color:#b3b9ff;')\\\n",
    "                 .format('{:,.4f}', subset = ['GDP Pearson Corr', 'GDP Spearman Corr'])\\\n",
    "                    \n",
    "    display(df)"
   ]
  },
  {
   "cell_type": "code",
   "execution_count": null,
   "metadata": {
    "extensions": {
     "jupyter_dashboards": {
      "version": 1,
      "views": {
       "default_view": {
        "hidden": true
       }
      }
     }
    }
   },
   "outputs": [],
   "source": [
    "dropdown_mode = widgets.Dropdown(\n",
    "    options = mode_list,\n",
    "    description = 'Select: '\n",
    ")\n",
    "\n",
    "dropdown_zone = widgets.Dropdown(\n",
    "    options = mode_dict[dropdown_mode.value],\n",
    "    description = 'Show: '\n",
    ")\n",
    "\n",
    "dropdown_group = widgets.Dropdown(\n",
    "    options = ind_dict.keys(),\n",
    "    description = 'Group: '\n",
    ")\n",
    "\n",
    "dropdown_ind = widgets.Dropdown(\n",
    "    options = indicators_list,\n",
    "    description = 'Indicator: '\n",
    ")\n",
    "\n",
    "intrangeslider_years = widgets.IntRangeSlider(\n",
    "    value = [min_year, max_year],\n",
    "    min = min_year,\n",
    "    max = max_year,\n",
    "    step = 1,\n",
    "    description = 'Years: ',\n",
    ")\n",
    "\n",
    "intslider_shift = widgets.IntSlider(\n",
    "    value = 0,\n",
    "    min = min_year - max_year + 1,\n",
    "    max = max_year - min_year - 1,\n",
    "    step = 1,\n",
    "    description = 'Shifts: '\n",
    ")\n",
    "\n",
    "floatslider_threshold = widgets.FloatSlider(\n",
    "    value = 0.7,\n",
    "    min = 0.0,\n",
    "    max = 1.0,\n",
    "    step = 0.05,\n",
    "    description = 'Threshold: '\n",
    ")\n",
    "\n",
    "floatslider_confidence = widgets.FloatSlider(\n",
    "    value = 0.95,\n",
    "    min = 0.0,\n",
    "    max = 1.0,\n",
    "    step = 0.05,\n",
    "    description = 'Confidence: '\n",
    ")\n",
    "\n",
    "zone_title = widgets.Label(value = dropdown_zone.value)"
   ]
  },
  {
   "cell_type": "code",
   "execution_count": null,
   "metadata": {
    "extensions": {
     "jupyter_dashboards": {
      "version": 1,
      "views": {
       "default_view": {
        "hidden": true
       }
      }
     }
    }
   },
   "outputs": [],
   "source": [
    "class WidgetStatus:\n",
    "    def __init__(self):\n",
    "\n",
    "        self.mode = dropdown_mode.value\n",
    "        self.zone = dropdown_zone.value\n",
    "        self.ind = dropdown_ind.value\n",
    "        self.ind_group = dropdown_group.value\n",
    "        self.years = list(intrangeslider_years.value)\n",
    "        self.shift = intslider_shift.value\n",
    "        self.threshold = floatslider_threshold.value\n",
    "        self.pval = 1 - floatslider_confidence.value\n",
    "\n",
    "        self.df = pd.read_csv(output_path + file_gold, index_col = [col_country, col_year, col_region])\n",
    "        self.corr_df = pd.read_csv(output_path + file_corr_spearman, index_col = [col_country])\n",
    "        self.norm_df = pd.read_csv(output_path + file_norm_df, index_col = [col_country, col_region, col_year])\n",
    "        self.cluster_df = cluster_df\n",
    "        self.comp_df = comp_dict[self.ind_group].reset_index(col_cluster, drop = False)\n",
    "        self.ind_df = None\n",
    "\n",
    "        self.clus_num = cluster_df.loc[cluster_df.index.get_level_values(col_country) == dropdown_zone.value, dropdown_group.value].item()\n",
    "\n",
    "    def update(self, mode = None, zone = None, ind = None, group = None, year_min = None, year_max = None, shift = None, threshold = None, confidence = None):\n",
    "        if mode and mode != self.mode:\n",
    "            self.mode = mode\n",
    "            dropdown_zone.options = mode_dict[mode]\n",
    "        \n",
    "        if zone and zone != self.zone:\n",
    "            self.zone = zone\n",
    "            zone_title = zone            \n",
    "    \n",
    "        if ind and ind != self.ind:\n",
    "            self.ind = ind\n",
    "        \n",
    "        if group and group != self.ind_group:\n",
    "            self.ind_group = group\n",
    "            print('HE CAMBIADO DE GRUPO')\n",
    "        \n",
    "        if year_min and year_min != self.years[0]:\n",
    "            self.years[0] = year_min\n",
    "\n",
    "        if year_max and year_max != self.years[1]:\n",
    "            self.years[1] = year_max\n",
    "        \n",
    "        if shift and shift != self.shift:\n",
    "            self.shift = shift\n",
    "        \n",
    "        if threshold and threshold != self.threshold:\n",
    "            self.threshold = threshold\n",
    "\n",
    "        if confidence and (1 - confidence) != self.pval:\n",
    "            self.pval = 1 - confidence\n",
    "        \n",
    "        if group and (group != self.ind_group or zone != self.zone):\n",
    "            self.clus_num = self.cluster_df.loc[self.cluster_df.index.get_level_values(col_country) == zone, self.ind].item()\n",
    "            self.ind_df = cluster_dict[self.ind_group].loc[cluster_dict[self.ind_group][col_cluster] == self.clus_num].drop(col_cluster, axis = 'columns')\n",
    "            self.comp_df = comp_dict[self.ind_group].reset_index(col_cluster, drop = False)\n",
    "            # COULD BE REFINED TO ONLY RELOAD WHEN NEEDED; CHECK ZONE\n",
    "\n",
    "status = WidgetStatus()"
   ]
  },
  {
   "cell_type": "code",
   "execution_count": null,
   "metadata": {
    "extensions": {
     "jupyter_dashboards": {
      "version": 1,
      "views": {
       "default_view": {
        "hidden": true
       }
      }
     }
    },
    "scrolled": false
   },
   "outputs": [],
   "source": [
    "#@widgets_out.capture(clear_output=True, wait=True)\n",
    "def show_general(mode, zone, ind, threshold, confidence):\n",
    "    status.update(mode = mode, zone = zone, ind = ind, threshold = threshold, confidence = confidence)\n",
    "    \n",
    "    # GENERAL\n",
    "    with widgets_out:\n",
    "        globe_corr(status.corr_df, status.ind)\n",
    "        table_corr_country(status.mode, status.zone, status.threshold, status.pval)\n",
    "        table_corr_med(status.threshold)"
   ]
  },
  {
   "cell_type": "code",
   "execution_count": null,
   "metadata": {},
   "outputs": [],
   "source": [
    "#@widgets_out.capture(clear_output=True, wait=True)\n",
    "def show_time(mode, zone, ind, years, shift):\n",
    "    status.update(mode = mode, zone = zone, ind = ind, year_min = years[0], year_max = years[1], shift = shift)\n",
    "\n",
    "    # TIME SERIES\n",
    "    with widgets_out:\n",
    "        table_time_window(status.df, status.mode, status.zone, status.years, status.threshold, status.pval)\n",
    "        plot_time_series(status.df, status.mode, status.zone, status.ind, status.years, status.shift)\n",
    "        table_high_range(status.mode, status.zone, status.pval)"
   ]
  },
  {
   "cell_type": "code",
   "execution_count": null,
   "metadata": {},
   "outputs": [],
   "source": [
    "#@widgets_out.capture(clear_output=True, wait=True)\n",
    "def show_cluster(zone, group):\n",
    "    status.update(mode = col_country)\n",
    "    status.update(zone = zone, group = group)\n",
    "\n",
    "    # CLUSTER\n",
    "    with widgets_out:\n",
    "        venn_group (status.cluster_df, status.zone)\n",
    "        table_cluster (status.ind_df, status.ind_group, status.zone) # MIRAR POR QUÉ NO PRINTEA DESDE EL INICIO\n",
    "        plot_cluster_map (status.comp_df, status.ind_group)"
   ]
  },
  {
   "cell_type": "code",
   "execution_count": null,
   "metadata": {},
   "outputs": [],
   "source": []
  },
  {
   "cell_type": "code",
   "execution_count": null,
   "metadata": {
    "extensions": {
     "jupyter_dashboards": {
      "version": 1,
      "views": {
       "default_view": {
        "hidden": true
       }
      }
     }
    }
   },
   "outputs": [
    {
     "data": {
      "application/vnd.plotly.v1+json": {
       "config": {
        "plotlyServerURL": "https://plot.ly"
       },
       "data": [
        {
         "coloraxis": "coloraxis",
         "geo": "geo",
         "hovertemplate": "Country=%{location}<br>% Education Expenditure=%{z}<extra></extra>",
         "locationmode": "country names",
         "locations": [
          "Afghanistan",
          "Albania",
          "Algeria",
          "Angola",
          "Argentina",
          "Armenia",
          "Australia",
          "Austria",
          "Azerbaijan",
          "Bahrain",
          "Bangladesh",
          "Barbados",
          "Belarus",
          "Belgium",
          "Belize",
          "Benin",
          "Bhutan",
          "Bosnia and Herzegovina",
          "Botswana",
          "Brazil",
          "Bulgaria",
          "Burkina Faso",
          "Burundi",
          "Cambodia",
          "Cameroon",
          "Canada",
          "Central African Republic",
          "Chad",
          "Chile",
          "China",
          "Colombia",
          "Comoros",
          "Costa Rica",
          "Croatia",
          "Cuba",
          "Cyprus",
          "Denmark",
          "Djibouti",
          "Dominican Republic",
          "Ecuador",
          "El Salvador",
          "Equatorial Guinea",
          "Eritrea",
          "Estonia",
          "Eswatini",
          "Ethiopia",
          "Fiji",
          "Finland",
          "France",
          "French Polynesia",
          "Gabon",
          "Georgia",
          "Germany",
          "Ghana",
          "Greece",
          "Guatemala",
          "Guinea",
          "Guinea-Bissau",
          "Guyana",
          "Haiti",
          "Honduras",
          "Hungary",
          "Iceland",
          "India",
          "Indonesia",
          "Iraq",
          "Ireland",
          "Israel",
          "Italy",
          "Jamaica",
          "Japan",
          "Jordan",
          "Kazakhstan",
          "Kenya",
          "Kuwait",
          "Latvia",
          "Lebanon",
          "Lesotho",
          "Liberia",
          "Libya",
          "Lithuania",
          "Luxembourg",
          "Madagascar",
          "Malawi",
          "Malaysia",
          "Maldives",
          "Mali",
          "Malta",
          "Mauritania",
          "Mauritius",
          "Mexico",
          "Mongolia",
          "Montenegro",
          "Morocco",
          "Mozambique",
          "Myanmar",
          "Namibia",
          "Nepal",
          "Netherlands",
          "New Caledonia",
          "New Zealand",
          "Nicaragua",
          "Niger",
          "Nigeria",
          "North Macedonia",
          "Norway",
          "Oman",
          "Pakistan",
          "Panama",
          "Papua New Guinea",
          "Paraguay",
          "Peru",
          "Philippines",
          "Poland",
          "Portugal",
          "Puerto Rico",
          "Qatar",
          "Romania",
          "Russia",
          "Rwanda",
          "Samoa",
          "Sao Tome and Principe",
          "Saudi Arabia",
          "Senegal",
          "Serbia",
          "Seychelles",
          "Sierra Leone",
          "Singapore",
          "Slovenia",
          "Solomon Islands",
          "Somalia",
          "South Africa",
          "South Sudan",
          "Spain",
          "Sri Lanka",
          "Sudan",
          "Suriname",
          "Sweden",
          "Switzerland",
          "Tajikistan",
          "Thailand",
          "Togo",
          "Tonga",
          "Trinidad and Tobago",
          "Tunisia",
          "Turkmenistan",
          "Uganda",
          "Ukraine",
          "United Arab Emirates",
          "United Kingdom",
          "United States",
          "Uruguay",
          "Uzbekistan",
          "Vanuatu",
          "Zambia",
          "Zimbabwe"
         ],
         "name": "",
         "type": "choropleth",
         "z": [
          null,
          null,
          null,
          0.4935064935064935,
          0.8756090101300713,
          null,
          null,
          null,
          -0.721662915619072,
          -0.866395494486823,
          null,
          -0.4766233766233766,
          -0.6623376623376623,
          null,
          null,
          0.6480519480519481,
          null,
          null,
          null,
          0.7347210373370479,
          null,
          null,
          0.6220779220779221,
          null,
          0.5571428571428572,
          null,
          null,
          null,
          0.7503257319353569,
          0.6807309190416321,
          0.6415584415584416,
          null,
          0.8571428571428571,
          null,
          null,
          0.5368106654292849,
          -0.4759431852484239,
          null,
          null,
          null,
          0.4852225004207442,
          null,
          null,
          null,
          0.5038961038961038,
          0.5383619636416599,
          -0.5449821658005414,
          null,
          null,
          null,
          null,
          0.5727272727272728,
          null,
          -0.6042284410454629,
          null,
          null,
          null,
          null,
          null,
          null,
          null,
          -0.4395322311857029,
          0.6020811332514215,
          0.5415584415584416,
          null,
          null,
          null,
          null,
          null,
          null,
          null,
          null,
          null,
          -0.6116883116883117,
          -0.5462812889609717,
          null,
          -0.4723847650885964,
          -0.7233766233766233,
          null,
          null,
          -0.8344726478593423,
          null,
          null,
          null,
          -0.6116883116883117,
          -0.7291066549106179,
          null,
          null,
          null,
          0.5844155844155844,
          null,
          null,
          null,
          null,
          null,
          null,
          null,
          0.6194805194805195,
          0.5448639197242886,
          null,
          null,
          null,
          0.7857142857142857,
          null,
          null,
          null,
          null,
          0.7749269651967173,
          null,
          null,
          null,
          0.6,
          0.5246753246753246,
          -0.7308198636874706,
          null,
          null,
          null,
          null,
          null,
          null,
          null,
          0.449935360917909,
          null,
          0.8181818181818182,
          null,
          null,
          null,
          -0.7831168831168831,
          -0.6978871014443291,
          null,
          null,
          0.6454545454545455,
          null,
          0.7971398157302838,
          null,
          null,
          null,
          0.4746427940318982,
          null,
          0.8522247932423246,
          -0.6365703486108827,
          0.5415584415584416,
          null,
          null,
          null,
          null,
          -0.6506493506493507,
          0.7151672998169202,
          null,
          0.4973958333333333,
          null,
          null,
          null,
          null,
          0.8038961038961039,
          null
         ]
        }
       ],
       "layout": {
        "coloraxis": {
         "colorbar": {
          "title": {
           "text": "% Education Expenditure"
          }
         },
         "colorscale": [
          [
           0,
           "rgb(103,0,31)"
          ],
          [
           0.1,
           "rgb(178,24,43)"
          ],
          [
           0.2,
           "rgb(214,96,77)"
          ],
          [
           0.3,
           "rgb(244,165,130)"
          ],
          [
           0.4,
           "rgb(253,219,199)"
          ],
          [
           0.5,
           "rgb(247,247,247)"
          ],
          [
           0.6,
           "rgb(209,229,240)"
          ],
          [
           0.7,
           "rgb(146,197,222)"
          ],
          [
           0.8,
           "rgb(67,147,195)"
          ],
          [
           0.9,
           "rgb(33,102,172)"
          ],
          [
           1,
           "rgb(5,48,97)"
          ]
         ],
         "showscale": true
        },
        "geo": {
         "center": {},
         "domain": {
          "x": [
           0,
           1
          ],
          "y": [
           0,
           1
          ]
         },
         "projection": {
          "type": "natural earth"
         }
        },
        "height": 500,
        "legend": {
         "tracegroupgap": 0
        },
        "margin": {
         "t": 60
        },
        "template": {
         "data": {
          "bar": [
           {
            "error_x": {
             "color": "#2a3f5f"
            },
            "error_y": {
             "color": "#2a3f5f"
            },
            "marker": {
             "line": {
              "color": "#E5ECF6",
              "width": 0.5
             },
             "pattern": {
              "fillmode": "overlay",
              "size": 10,
              "solidity": 0.2
             }
            },
            "type": "bar"
           }
          ],
          "barpolar": [
           {
            "marker": {
             "line": {
              "color": "#E5ECF6",
              "width": 0.5
             },
             "pattern": {
              "fillmode": "overlay",
              "size": 10,
              "solidity": 0.2
             }
            },
            "type": "barpolar"
           }
          ],
          "carpet": [
           {
            "aaxis": {
             "endlinecolor": "#2a3f5f",
             "gridcolor": "white",
             "linecolor": "white",
             "minorgridcolor": "white",
             "startlinecolor": "#2a3f5f"
            },
            "baxis": {
             "endlinecolor": "#2a3f5f",
             "gridcolor": "white",
             "linecolor": "white",
             "minorgridcolor": "white",
             "startlinecolor": "#2a3f5f"
            },
            "type": "carpet"
           }
          ],
          "choropleth": [
           {
            "colorbar": {
             "outlinewidth": 0,
             "ticks": ""
            },
            "type": "choropleth"
           }
          ],
          "contour": [
           {
            "colorbar": {
             "outlinewidth": 0,
             "ticks": ""
            },
            "colorscale": [
             [
              0,
              "#0d0887"
             ],
             [
              0.1111111111111111,
              "#46039f"
             ],
             [
              0.2222222222222222,
              "#7201a8"
             ],
             [
              0.3333333333333333,
              "#9c179e"
             ],
             [
              0.4444444444444444,
              "#bd3786"
             ],
             [
              0.5555555555555556,
              "#d8576b"
             ],
             [
              0.6666666666666666,
              "#ed7953"
             ],
             [
              0.7777777777777778,
              "#fb9f3a"
             ],
             [
              0.8888888888888888,
              "#fdca26"
             ],
             [
              1,
              "#f0f921"
             ]
            ],
            "type": "contour"
           }
          ],
          "contourcarpet": [
           {
            "colorbar": {
             "outlinewidth": 0,
             "ticks": ""
            },
            "type": "contourcarpet"
           }
          ],
          "heatmap": [
           {
            "colorbar": {
             "outlinewidth": 0,
             "ticks": ""
            },
            "colorscale": [
             [
              0,
              "#0d0887"
             ],
             [
              0.1111111111111111,
              "#46039f"
             ],
             [
              0.2222222222222222,
              "#7201a8"
             ],
             [
              0.3333333333333333,
              "#9c179e"
             ],
             [
              0.4444444444444444,
              "#bd3786"
             ],
             [
              0.5555555555555556,
              "#d8576b"
             ],
             [
              0.6666666666666666,
              "#ed7953"
             ],
             [
              0.7777777777777778,
              "#fb9f3a"
             ],
             [
              0.8888888888888888,
              "#fdca26"
             ],
             [
              1,
              "#f0f921"
             ]
            ],
            "type": "heatmap"
           }
          ],
          "heatmapgl": [
           {
            "colorbar": {
             "outlinewidth": 0,
             "ticks": ""
            },
            "colorscale": [
             [
              0,
              "#0d0887"
             ],
             [
              0.1111111111111111,
              "#46039f"
             ],
             [
              0.2222222222222222,
              "#7201a8"
             ],
             [
              0.3333333333333333,
              "#9c179e"
             ],
             [
              0.4444444444444444,
              "#bd3786"
             ],
             [
              0.5555555555555556,
              "#d8576b"
             ],
             [
              0.6666666666666666,
              "#ed7953"
             ],
             [
              0.7777777777777778,
              "#fb9f3a"
             ],
             [
              0.8888888888888888,
              "#fdca26"
             ],
             [
              1,
              "#f0f921"
             ]
            ],
            "type": "heatmapgl"
           }
          ],
          "histogram": [
           {
            "marker": {
             "pattern": {
              "fillmode": "overlay",
              "size": 10,
              "solidity": 0.2
             }
            },
            "type": "histogram"
           }
          ],
          "histogram2d": [
           {
            "colorbar": {
             "outlinewidth": 0,
             "ticks": ""
            },
            "colorscale": [
             [
              0,
              "#0d0887"
             ],
             [
              0.1111111111111111,
              "#46039f"
             ],
             [
              0.2222222222222222,
              "#7201a8"
             ],
             [
              0.3333333333333333,
              "#9c179e"
             ],
             [
              0.4444444444444444,
              "#bd3786"
             ],
             [
              0.5555555555555556,
              "#d8576b"
             ],
             [
              0.6666666666666666,
              "#ed7953"
             ],
             [
              0.7777777777777778,
              "#fb9f3a"
             ],
             [
              0.8888888888888888,
              "#fdca26"
             ],
             [
              1,
              "#f0f921"
             ]
            ],
            "type": "histogram2d"
           }
          ],
          "histogram2dcontour": [
           {
            "colorbar": {
             "outlinewidth": 0,
             "ticks": ""
            },
            "colorscale": [
             [
              0,
              "#0d0887"
             ],
             [
              0.1111111111111111,
              "#46039f"
             ],
             [
              0.2222222222222222,
              "#7201a8"
             ],
             [
              0.3333333333333333,
              "#9c179e"
             ],
             [
              0.4444444444444444,
              "#bd3786"
             ],
             [
              0.5555555555555556,
              "#d8576b"
             ],
             [
              0.6666666666666666,
              "#ed7953"
             ],
             [
              0.7777777777777778,
              "#fb9f3a"
             ],
             [
              0.8888888888888888,
              "#fdca26"
             ],
             [
              1,
              "#f0f921"
             ]
            ],
            "type": "histogram2dcontour"
           }
          ],
          "mesh3d": [
           {
            "colorbar": {
             "outlinewidth": 0,
             "ticks": ""
            },
            "type": "mesh3d"
           }
          ],
          "parcoords": [
           {
            "line": {
             "colorbar": {
              "outlinewidth": 0,
              "ticks": ""
             }
            },
            "type": "parcoords"
           }
          ],
          "pie": [
           {
            "automargin": true,
            "type": "pie"
           }
          ],
          "scatter": [
           {
            "fillpattern": {
             "fillmode": "overlay",
             "size": 10,
             "solidity": 0.2
            },
            "type": "scatter"
           }
          ],
          "scatter3d": [
           {
            "line": {
             "colorbar": {
              "outlinewidth": 0,
              "ticks": ""
             }
            },
            "marker": {
             "colorbar": {
              "outlinewidth": 0,
              "ticks": ""
             }
            },
            "type": "scatter3d"
           }
          ],
          "scattercarpet": [
           {
            "marker": {
             "colorbar": {
              "outlinewidth": 0,
              "ticks": ""
             }
            },
            "type": "scattercarpet"
           }
          ],
          "scattergeo": [
           {
            "marker": {
             "colorbar": {
              "outlinewidth": 0,
              "ticks": ""
             }
            },
            "type": "scattergeo"
           }
          ],
          "scattergl": [
           {
            "marker": {
             "colorbar": {
              "outlinewidth": 0,
              "ticks": ""
             }
            },
            "type": "scattergl"
           }
          ],
          "scattermapbox": [
           {
            "marker": {
             "colorbar": {
              "outlinewidth": 0,
              "ticks": ""
             }
            },
            "type": "scattermapbox"
           }
          ],
          "scatterpolar": [
           {
            "marker": {
             "colorbar": {
              "outlinewidth": 0,
              "ticks": ""
             }
            },
            "type": "scatterpolar"
           }
          ],
          "scatterpolargl": [
           {
            "marker": {
             "colorbar": {
              "outlinewidth": 0,
              "ticks": ""
             }
            },
            "type": "scatterpolargl"
           }
          ],
          "scatterternary": [
           {
            "marker": {
             "colorbar": {
              "outlinewidth": 0,
              "ticks": ""
             }
            },
            "type": "scatterternary"
           }
          ],
          "surface": [
           {
            "colorbar": {
             "outlinewidth": 0,
             "ticks": ""
            },
            "colorscale": [
             [
              0,
              "#0d0887"
             ],
             [
              0.1111111111111111,
              "#46039f"
             ],
             [
              0.2222222222222222,
              "#7201a8"
             ],
             [
              0.3333333333333333,
              "#9c179e"
             ],
             [
              0.4444444444444444,
              "#bd3786"
             ],
             [
              0.5555555555555556,
              "#d8576b"
             ],
             [
              0.6666666666666666,
              "#ed7953"
             ],
             [
              0.7777777777777778,
              "#fb9f3a"
             ],
             [
              0.8888888888888888,
              "#fdca26"
             ],
             [
              1,
              "#f0f921"
             ]
            ],
            "type": "surface"
           }
          ],
          "table": [
           {
            "cells": {
             "fill": {
              "color": "#EBF0F8"
             },
             "line": {
              "color": "white"
             }
            },
            "header": {
             "fill": {
              "color": "#C8D4E3"
             },
             "line": {
              "color": "white"
             }
            },
            "type": "table"
           }
          ]
         },
         "layout": {
          "annotationdefaults": {
           "arrowcolor": "#2a3f5f",
           "arrowhead": 0,
           "arrowwidth": 1
          },
          "autotypenumbers": "strict",
          "coloraxis": {
           "colorbar": {
            "outlinewidth": 0,
            "ticks": ""
           }
          },
          "colorscale": {
           "diverging": [
            [
             0,
             "#8e0152"
            ],
            [
             0.1,
             "#c51b7d"
            ],
            [
             0.2,
             "#de77ae"
            ],
            [
             0.3,
             "#f1b6da"
            ],
            [
             0.4,
             "#fde0ef"
            ],
            [
             0.5,
             "#f7f7f7"
            ],
            [
             0.6,
             "#e6f5d0"
            ],
            [
             0.7,
             "#b8e186"
            ],
            [
             0.8,
             "#7fbc41"
            ],
            [
             0.9,
             "#4d9221"
            ],
            [
             1,
             "#276419"
            ]
           ],
           "sequential": [
            [
             0,
             "#0d0887"
            ],
            [
             0.1111111111111111,
             "#46039f"
            ],
            [
             0.2222222222222222,
             "#7201a8"
            ],
            [
             0.3333333333333333,
             "#9c179e"
            ],
            [
             0.4444444444444444,
             "#bd3786"
            ],
            [
             0.5555555555555556,
             "#d8576b"
            ],
            [
             0.6666666666666666,
             "#ed7953"
            ],
            [
             0.7777777777777778,
             "#fb9f3a"
            ],
            [
             0.8888888888888888,
             "#fdca26"
            ],
            [
             1,
             "#f0f921"
            ]
           ],
           "sequentialminus": [
            [
             0,
             "#0d0887"
            ],
            [
             0.1111111111111111,
             "#46039f"
            ],
            [
             0.2222222222222222,
             "#7201a8"
            ],
            [
             0.3333333333333333,
             "#9c179e"
            ],
            [
             0.4444444444444444,
             "#bd3786"
            ],
            [
             0.5555555555555556,
             "#d8576b"
            ],
            [
             0.6666666666666666,
             "#ed7953"
            ],
            [
             0.7777777777777778,
             "#fb9f3a"
            ],
            [
             0.8888888888888888,
             "#fdca26"
            ],
            [
             1,
             "#f0f921"
            ]
           ]
          },
          "colorway": [
           "#636efa",
           "#EF553B",
           "#00cc96",
           "#ab63fa",
           "#FFA15A",
           "#19d3f3",
           "#FF6692",
           "#B6E880",
           "#FF97FF",
           "#FECB52"
          ],
          "font": {
           "color": "#2a3f5f"
          },
          "geo": {
           "bgcolor": "white",
           "lakecolor": "white",
           "landcolor": "#E5ECF6",
           "showlakes": true,
           "showland": true,
           "subunitcolor": "white"
          },
          "hoverlabel": {
           "align": "left"
          },
          "hovermode": "closest",
          "mapbox": {
           "style": "light"
          },
          "paper_bgcolor": "white",
          "plot_bgcolor": "#E5ECF6",
          "polar": {
           "angularaxis": {
            "gridcolor": "white",
            "linecolor": "white",
            "ticks": ""
           },
           "bgcolor": "#E5ECF6",
           "radialaxis": {
            "gridcolor": "white",
            "linecolor": "white",
            "ticks": ""
           }
          },
          "scene": {
           "xaxis": {
            "backgroundcolor": "#E5ECF6",
            "gridcolor": "white",
            "gridwidth": 2,
            "linecolor": "white",
            "showbackground": true,
            "ticks": "",
            "zerolinecolor": "white"
           },
           "yaxis": {
            "backgroundcolor": "#E5ECF6",
            "gridcolor": "white",
            "gridwidth": 2,
            "linecolor": "white",
            "showbackground": true,
            "ticks": "",
            "zerolinecolor": "white"
           },
           "zaxis": {
            "backgroundcolor": "#E5ECF6",
            "gridcolor": "white",
            "gridwidth": 2,
            "linecolor": "white",
            "showbackground": true,
            "ticks": "",
            "zerolinecolor": "white"
           }
          },
          "shapedefaults": {
           "line": {
            "color": "#2a3f5f"
           }
          },
          "ternary": {
           "aaxis": {
            "gridcolor": "white",
            "linecolor": "white",
            "ticks": ""
           },
           "baxis": {
            "gridcolor": "white",
            "linecolor": "white",
            "ticks": ""
           },
           "bgcolor": "#E5ECF6",
           "caxis": {
            "gridcolor": "white",
            "linecolor": "white",
            "ticks": ""
           }
          },
          "title": {
           "x": 0.05
          },
          "xaxis": {
           "automargin": true,
           "gridcolor": "white",
           "linecolor": "white",
           "ticks": "",
           "title": {
            "standoff": 15
           },
           "zerolinecolor": "white",
           "zerolinewidth": 2
          },
          "yaxis": {
           "automargin": true,
           "gridcolor": "white",
           "linecolor": "white",
           "ticks": "",
           "title": {
            "standoff": 15
           },
           "zerolinecolor": "white",
           "zerolinewidth": 2
          }
         }
        },
        "width": 700
       }
      }
     },
     "metadata": {},
     "output_type": "display_data"
    },
    {
     "data": {
      "application/vnd.plotly.v1+json": {
       "config": {
        "plotlyServerURL": "https://plot.ly"
       },
       "data": [
        {
         "hovertemplate": "1st_component=%{x}<br>2nd_component=%{y}<br>Country=%{text}<br>Cluster=%{marker.color}<extra></extra>",
         "legendgroup": "",
         "marker": {
          "color": [
           0,
           0,
           0,
           0,
           0,
           0,
           0,
           0,
           0,
           0,
           0,
           0,
           0,
           1,
           1,
           1,
           1,
           1,
           1,
           1,
           1,
           1,
           10,
           10,
           10,
           10,
           10,
           10,
           10,
           10,
           10,
           10,
           10,
           10,
           10,
           10,
           10,
           10,
           10,
           10,
           11,
           11,
           11,
           11,
           11,
           11,
           11,
           11,
           11,
           11,
           2,
           2,
           2,
           2,
           2,
           2,
           2,
           2,
           2,
           2,
           3,
           3,
           3,
           3,
           3,
           3,
           3,
           3,
           3,
           3,
           3,
           3,
           3,
           3,
           3,
           3,
           4,
           4,
           4,
           4,
           4,
           4,
           4,
           4,
           4,
           4,
           4,
           4,
           4,
           4,
           4,
           5,
           5,
           5,
           5,
           5,
           5,
           5,
           5,
           5,
           5,
           5,
           5,
           6,
           6,
           6,
           6,
           6,
           6,
           7,
           7,
           7,
           7,
           7,
           7,
           7,
           7,
           7,
           8,
           8,
           8,
           8,
           8,
           8,
           8,
           8,
           8,
           8,
           8,
           8,
           8,
           8,
           8,
           8,
           8,
           9,
           9,
           9,
           9,
           9,
           9,
           9,
           9,
           9,
           9,
           9,
           9,
           9,
           9,
           9,
           9,
           9,
           9
          ],
          "coloraxis": "coloraxis",
          "symbol": "circle"
         },
         "mode": "markers+text",
         "name": "",
         "orientation": "v",
         "showlegend": false,
         "text": [
          "Albania",
          "Algeria",
          "Armenia",
          "Bosnia and Herzegovina",
          "Bulgaria",
          "Georgia",
          "Germany",
          "Hungary",
          "Portugal",
          "Romania",
          "Serbia",
          "Tunisia",
          "Ukraine",
          "Belarus",
          "Estonia",
          "Kazakhstan",
          "Latvia",
          "Lithuania",
          "Mongolia",
          "Namibia",
          "Poland",
          "Russia",
          "Burkina Faso",
          "Burundi",
          "Cambodia",
          "Gabon",
          "Ghana",
          "Guatemala",
          "Guinea",
          "Mauritania",
          "Morocco",
          "Myanmar",
          "Niger",
          "Nigeria",
          "Papua New Guinea",
          "Rwanda",
          "Samoa",
          "Turkmenistan",
          "Uzbekistan",
          "Zambia",
          "Bhutan",
          "Cameroon",
          "Chad",
          "Malawi",
          "Mali",
          "Mozambique",
          "Panama",
          "Sierra Leone",
          "Sri Lanka",
          "Tonga",
          "Argentina",
          "Brazil",
          "Chile",
          "China",
          "Costa Rica",
          "El Salvador",
          "Iceland",
          "Philippines",
          "Thailand",
          "Uruguay",
          "Angola",
          "Australia",
          "Belgium",
          "Botswana",
          "Denmark",
          "Ecuador",
          "Eritrea",
          "Finland",
          "Ireland",
          "Norway",
          "South Africa",
          "Sweden",
          "Switzerland",
          "Tajikistan",
          "United States",
          "Zimbabwe",
          "Austria",
          "Canada",
          "Cyprus",
          "Dominican Republic",
          "Eswatini",
          "France",
          "Israel",
          "Lebanon",
          "Malta",
          "Mauritius",
          "Netherlands",
          "New Zealand",
          "Slovenia",
          "Spain",
          "United Kingdom",
          "Barbados",
          "Croatia",
          "French Polynesia",
          "Greece",
          "Guyana",
          "Italy",
          "Japan",
          "Libya",
          "New Caledonia",
          "Puerto Rico",
          "Seychelles",
          "Trinidad and Tobago",
          "Bahrain",
          "Kuwait",
          "Oman",
          "Qatar",
          "Saudi Arabia",
          "Suriname",
          "Colombia",
          "Cuba",
          "Fiji",
          "Jamaica",
          "Malaysia",
          "Mexico",
          "Montenegro",
          "North Macedonia",
          "Singapore",
          "Afghanistan",
          "Azerbaijan",
          "Bangladesh",
          "Djibouti",
          "Equatorial Guinea",
          "Ethiopia",
          "Guinea-Bissau",
          "India",
          "Indonesia",
          "Iraq",
          "Liberia",
          "Luxembourg",
          "Madagascar",
          "Nepal",
          "Pakistan",
          "Senegal",
          "Uganda",
          "Belize",
          "Benin",
          "Central African Republic",
          "Comoros",
          "Haiti",
          "Honduras",
          "Jordan",
          "Kenya",
          "Lesotho",
          "Maldives",
          "Nicaragua",
          "Paraguay",
          "Peru",
          "Sao Tome and Principe",
          "Solomon Islands",
          "Togo",
          "United Arab Emirates",
          "Vanuatu"
         ],
         "textposition": "top center",
         "type": "scatter",
         "x": [
          0.36200228,
          0.4080146,
          0.31589603,
          0.4048664,
          0.4197633,
          0.26063842,
          0.47464627,
          0.15931454,
          0.08823567,
          0.2439706,
          0.31359375,
          0.3543222,
          0.110301495,
          1.0164522,
          1.1126919,
          1.1103868,
          1.0585617,
          1.0987655,
          1.2043028,
          1.0164346,
          0.9354039,
          1.0381333,
          0.6991513,
          1.1223425,
          0.4174338,
          0.4992192,
          0.56264955,
          1.4668461,
          1.0870961,
          1.4373782,
          0.8688321,
          0.47057337,
          1.3752781,
          0.41126928,
          0.6990015,
          0.7833947,
          0.81241053,
          0.31752804,
          0.6023762,
          0.3815116,
          -0.20958097,
          0.055379715,
          -0.2350616,
          -0.19123246,
          -0.028196882,
          -0.0141007565,
          -0.7706627,
          -0.26618367,
          -0.6106037,
          -0.468033,
          -0.8162229,
          -0.87249,
          -1.1013892,
          -0.8002819,
          -1.079161,
          -1.5426563,
          -1.4496123,
          -1.0381515,
          -0.8376994,
          -1.1274142,
          -0.66972065,
          -0.75597554,
          -0.23958036,
          -0.10713718,
          -0.2553861,
          -0.78046346,
          -0.45437625,
          -0.681625,
          -0.21133697,
          -0.56921554,
          -0.26403993,
          -0.5961944,
          -0.2731193,
          -0.48055792,
          -0.14148463,
          -0.5646681,
          -1.0358651,
          -1.3158662,
          -1.1447883,
          -1.5897138,
          -0.951788,
          -1.1745564,
          -1.4340166,
          -0.9169938,
          -1.2238114,
          -1.3626897,
          -1.1277721,
          -1.4983982,
          -1.1289382,
          -0.8716105,
          -1.1870962,
          -0.54873693,
          -0.13883902,
          -0.54276854,
          -0.3950119,
          -0.25864458,
          -0.23547669,
          -0.7427613,
          -0.61863023,
          -0.8480739,
          -0.75475574,
          -0.7446505,
          -0.31109738,
          1.9414282,
          2.15364,
          2.1575894,
          2.1006594,
          2.2911332,
          2.1360803,
          -2.0323362,
          -2.0709465,
          -2.1632853,
          -2.2235596,
          -2.1647792,
          -1.7350404,
          -1.9699836,
          -1.8612895,
          -1.7354825,
          0.9770561,
          0.9262062,
          1.3154309,
          1.2240206,
          0.85921925,
          1.1648347,
          1.0064837,
          1.3364229,
          0.73080766,
          0.8784023,
          0.9235316,
          0.8875937,
          0.6868742,
          1.2632127,
          1.0239537,
          1.1490331,
          1.2926855,
          0.471981,
          0.2059922,
          0.32970423,
          0.514203,
          0.26049414,
          -0.011831646,
          -0.23737553,
          -0.23074558,
          0.012897204,
          0.14906462,
          -0.20711263,
          0.6191789,
          0.2822705,
          0.37479973,
          0.46192142,
          0.37412062,
          0.57989675,
          0.6115399
         ],
         "xaxis": "x",
         "y": [
          1.4794735,
          1.9394078,
          1.5999612,
          1.3474619,
          1.1555554,
          1.8001293,
          1.0986793,
          1.0933686,
          1.0560519,
          1.4184475,
          1.3688481,
          1.8938272,
          1.790973,
          0.89398384,
          1.2007668,
          0.64892936,
          1.29204,
          1.3465292,
          0.6302931,
          0.48215166,
          1.3597962,
          0.8297927,
          -1.6025196,
          -1.6961541,
          -1.260137,
          -1.8059299,
          -1.1097388,
          -1.3943851,
          -1.6329341,
          -1.4489316,
          -1.5743701,
          -1.652453,
          -1.5547391,
          -1.7674962,
          -1.1667718,
          -1.5523998,
          -1.2102848,
          -1.8073391,
          -1.8649273,
          -1.3390567,
          -1.4446385,
          -1.2436293,
          -1.3202598,
          -1.5389795,
          -1.1009563,
          -1.2005941,
          -1.2133831,
          -1.2672882,
          -1.2525088,
          -1.2726068,
          0.07018056,
          -0.47785217,
          -0.37134102,
          -0.60735714,
          -0.53925616,
          -0.17394237,
          -0.19554903,
          -0.43460786,
          -0.68776494,
          -0.2874625,
          0.8100722,
          0.2890742,
          0.3022715,
          -0.0057926783,
          0.6394781,
          0.5946488,
          0.49576595,
          0.52724206,
          0.042306837,
          0.49086204,
          0.39351737,
          0.38245064,
          0.23696865,
          0.25441,
          0.7069982,
          0.73738223,
          0.17492825,
          0.62690085,
          0.112658836,
          0.7823987,
          0.7368932,
          0.58437663,
          0.93423545,
          0.52997476,
          0.8422255,
          0.4865157,
          0.69216686,
          0.8861053,
          0.49250957,
          0.16808563,
          0.73588914,
          1.4139596,
          1.5602088,
          1.5575103,
          1.6145573,
          1.8271073,
          1.5811318,
          1.4926398,
          1.5336984,
          1.5688425,
          1.3629651,
          1.6733797,
          1.7185217,
          -0.5194789,
          -0.49230576,
          -0.62438434,
          -0.5422726,
          -0.5002585,
          -0.38583988,
          0.03746703,
          0.21145973,
          0.42788053,
          0.26820493,
          0.32322437,
          -0.42611963,
          0.12956819,
          0.12888576,
          0.14450581,
          -0.6601868,
          -0.89049983,
          -0.4904573,
          -0.3844284,
          -0.7712717,
          -0.46884504,
          -0.019967834,
          -0.93271625,
          -0.5798739,
          -0.70285445,
          0.012041313,
          0.10386601,
          -0.3093995,
          -0.86623824,
          -0.4172573,
          -0.61031324,
          -0.2914734,
          -0.19013998,
          0.05039015,
          -0.07721562,
          -1.0539286,
          -0.043244418,
          -0.049215075,
          -0.41153035,
          -0.3454603,
          -0.76067454,
          -0.7667435,
          -0.2338081,
          -0.5466466,
          -0.554818,
          -0.68592817,
          -0.8151427,
          -0.61549276,
          -0.27683088,
          -0.8383776
         ],
         "yaxis": "y"
        }
       ],
       "layout": {
        "coloraxis": {
         "colorbar": {
          "title": {
           "text": "Cluster"
          }
         },
         "colorscale": [
          [
           0,
           "#0d0887"
          ],
          [
           0.1111111111111111,
           "#46039f"
          ],
          [
           0.2222222222222222,
           "#7201a8"
          ],
          [
           0.3333333333333333,
           "#9c179e"
          ],
          [
           0.4444444444444444,
           "#bd3786"
          ],
          [
           0.5555555555555556,
           "#d8576b"
          ],
          [
           0.6666666666666666,
           "#ed7953"
          ],
          [
           0.7777777777777778,
           "#fb9f3a"
          ],
          [
           0.8888888888888888,
           "#fdca26"
          ],
          [
           1,
           "#f0f921"
          ]
         ]
        },
        "legend": {
         "tracegroupgap": 0
        },
        "margin": {
         "t": 60
        },
        "template": {
         "data": {
          "bar": [
           {
            "error_x": {
             "color": "#2a3f5f"
            },
            "error_y": {
             "color": "#2a3f5f"
            },
            "marker": {
             "line": {
              "color": "#E5ECF6",
              "width": 0.5
             },
             "pattern": {
              "fillmode": "overlay",
              "size": 10,
              "solidity": 0.2
             }
            },
            "type": "bar"
           }
          ],
          "barpolar": [
           {
            "marker": {
             "line": {
              "color": "#E5ECF6",
              "width": 0.5
             },
             "pattern": {
              "fillmode": "overlay",
              "size": 10,
              "solidity": 0.2
             }
            },
            "type": "barpolar"
           }
          ],
          "carpet": [
           {
            "aaxis": {
             "endlinecolor": "#2a3f5f",
             "gridcolor": "white",
             "linecolor": "white",
             "minorgridcolor": "white",
             "startlinecolor": "#2a3f5f"
            },
            "baxis": {
             "endlinecolor": "#2a3f5f",
             "gridcolor": "white",
             "linecolor": "white",
             "minorgridcolor": "white",
             "startlinecolor": "#2a3f5f"
            },
            "type": "carpet"
           }
          ],
          "choropleth": [
           {
            "colorbar": {
             "outlinewidth": 0,
             "ticks": ""
            },
            "type": "choropleth"
           }
          ],
          "contour": [
           {
            "colorbar": {
             "outlinewidth": 0,
             "ticks": ""
            },
            "colorscale": [
             [
              0,
              "#0d0887"
             ],
             [
              0.1111111111111111,
              "#46039f"
             ],
             [
              0.2222222222222222,
              "#7201a8"
             ],
             [
              0.3333333333333333,
              "#9c179e"
             ],
             [
              0.4444444444444444,
              "#bd3786"
             ],
             [
              0.5555555555555556,
              "#d8576b"
             ],
             [
              0.6666666666666666,
              "#ed7953"
             ],
             [
              0.7777777777777778,
              "#fb9f3a"
             ],
             [
              0.8888888888888888,
              "#fdca26"
             ],
             [
              1,
              "#f0f921"
             ]
            ],
            "type": "contour"
           }
          ],
          "contourcarpet": [
           {
            "colorbar": {
             "outlinewidth": 0,
             "ticks": ""
            },
            "type": "contourcarpet"
           }
          ],
          "heatmap": [
           {
            "colorbar": {
             "outlinewidth": 0,
             "ticks": ""
            },
            "colorscale": [
             [
              0,
              "#0d0887"
             ],
             [
              0.1111111111111111,
              "#46039f"
             ],
             [
              0.2222222222222222,
              "#7201a8"
             ],
             [
              0.3333333333333333,
              "#9c179e"
             ],
             [
              0.4444444444444444,
              "#bd3786"
             ],
             [
              0.5555555555555556,
              "#d8576b"
             ],
             [
              0.6666666666666666,
              "#ed7953"
             ],
             [
              0.7777777777777778,
              "#fb9f3a"
             ],
             [
              0.8888888888888888,
              "#fdca26"
             ],
             [
              1,
              "#f0f921"
             ]
            ],
            "type": "heatmap"
           }
          ],
          "heatmapgl": [
           {
            "colorbar": {
             "outlinewidth": 0,
             "ticks": ""
            },
            "colorscale": [
             [
              0,
              "#0d0887"
             ],
             [
              0.1111111111111111,
              "#46039f"
             ],
             [
              0.2222222222222222,
              "#7201a8"
             ],
             [
              0.3333333333333333,
              "#9c179e"
             ],
             [
              0.4444444444444444,
              "#bd3786"
             ],
             [
              0.5555555555555556,
              "#d8576b"
             ],
             [
              0.6666666666666666,
              "#ed7953"
             ],
             [
              0.7777777777777778,
              "#fb9f3a"
             ],
             [
              0.8888888888888888,
              "#fdca26"
             ],
             [
              1,
              "#f0f921"
             ]
            ],
            "type": "heatmapgl"
           }
          ],
          "histogram": [
           {
            "marker": {
             "pattern": {
              "fillmode": "overlay",
              "size": 10,
              "solidity": 0.2
             }
            },
            "type": "histogram"
           }
          ],
          "histogram2d": [
           {
            "colorbar": {
             "outlinewidth": 0,
             "ticks": ""
            },
            "colorscale": [
             [
              0,
              "#0d0887"
             ],
             [
              0.1111111111111111,
              "#46039f"
             ],
             [
              0.2222222222222222,
              "#7201a8"
             ],
             [
              0.3333333333333333,
              "#9c179e"
             ],
             [
              0.4444444444444444,
              "#bd3786"
             ],
             [
              0.5555555555555556,
              "#d8576b"
             ],
             [
              0.6666666666666666,
              "#ed7953"
             ],
             [
              0.7777777777777778,
              "#fb9f3a"
             ],
             [
              0.8888888888888888,
              "#fdca26"
             ],
             [
              1,
              "#f0f921"
             ]
            ],
            "type": "histogram2d"
           }
          ],
          "histogram2dcontour": [
           {
            "colorbar": {
             "outlinewidth": 0,
             "ticks": ""
            },
            "colorscale": [
             [
              0,
              "#0d0887"
             ],
             [
              0.1111111111111111,
              "#46039f"
             ],
             [
              0.2222222222222222,
              "#7201a8"
             ],
             [
              0.3333333333333333,
              "#9c179e"
             ],
             [
              0.4444444444444444,
              "#bd3786"
             ],
             [
              0.5555555555555556,
              "#d8576b"
             ],
             [
              0.6666666666666666,
              "#ed7953"
             ],
             [
              0.7777777777777778,
              "#fb9f3a"
             ],
             [
              0.8888888888888888,
              "#fdca26"
             ],
             [
              1,
              "#f0f921"
             ]
            ],
            "type": "histogram2dcontour"
           }
          ],
          "mesh3d": [
           {
            "colorbar": {
             "outlinewidth": 0,
             "ticks": ""
            },
            "type": "mesh3d"
           }
          ],
          "parcoords": [
           {
            "line": {
             "colorbar": {
              "outlinewidth": 0,
              "ticks": ""
             }
            },
            "type": "parcoords"
           }
          ],
          "pie": [
           {
            "automargin": true,
            "type": "pie"
           }
          ],
          "scatter": [
           {
            "fillpattern": {
             "fillmode": "overlay",
             "size": 10,
             "solidity": 0.2
            },
            "type": "scatter"
           }
          ],
          "scatter3d": [
           {
            "line": {
             "colorbar": {
              "outlinewidth": 0,
              "ticks": ""
             }
            },
            "marker": {
             "colorbar": {
              "outlinewidth": 0,
              "ticks": ""
             }
            },
            "type": "scatter3d"
           }
          ],
          "scattercarpet": [
           {
            "marker": {
             "colorbar": {
              "outlinewidth": 0,
              "ticks": ""
             }
            },
            "type": "scattercarpet"
           }
          ],
          "scattergeo": [
           {
            "marker": {
             "colorbar": {
              "outlinewidth": 0,
              "ticks": ""
             }
            },
            "type": "scattergeo"
           }
          ],
          "scattergl": [
           {
            "marker": {
             "colorbar": {
              "outlinewidth": 0,
              "ticks": ""
             }
            },
            "type": "scattergl"
           }
          ],
          "scattermapbox": [
           {
            "marker": {
             "colorbar": {
              "outlinewidth": 0,
              "ticks": ""
             }
            },
            "type": "scattermapbox"
           }
          ],
          "scatterpolar": [
           {
            "marker": {
             "colorbar": {
              "outlinewidth": 0,
              "ticks": ""
             }
            },
            "type": "scatterpolar"
           }
          ],
          "scatterpolargl": [
           {
            "marker": {
             "colorbar": {
              "outlinewidth": 0,
              "ticks": ""
             }
            },
            "type": "scatterpolargl"
           }
          ],
          "scatterternary": [
           {
            "marker": {
             "colorbar": {
              "outlinewidth": 0,
              "ticks": ""
             }
            },
            "type": "scatterternary"
           }
          ],
          "surface": [
           {
            "colorbar": {
             "outlinewidth": 0,
             "ticks": ""
            },
            "colorscale": [
             [
              0,
              "#0d0887"
             ],
             [
              0.1111111111111111,
              "#46039f"
             ],
             [
              0.2222222222222222,
              "#7201a8"
             ],
             [
              0.3333333333333333,
              "#9c179e"
             ],
             [
              0.4444444444444444,
              "#bd3786"
             ],
             [
              0.5555555555555556,
              "#d8576b"
             ],
             [
              0.6666666666666666,
              "#ed7953"
             ],
             [
              0.7777777777777778,
              "#fb9f3a"
             ],
             [
              0.8888888888888888,
              "#fdca26"
             ],
             [
              1,
              "#f0f921"
             ]
            ],
            "type": "surface"
           }
          ],
          "table": [
           {
            "cells": {
             "fill": {
              "color": "#EBF0F8"
             },
             "line": {
              "color": "white"
             }
            },
            "header": {
             "fill": {
              "color": "#C8D4E3"
             },
             "line": {
              "color": "white"
             }
            },
            "type": "table"
           }
          ]
         },
         "layout": {
          "annotationdefaults": {
           "arrowcolor": "#2a3f5f",
           "arrowhead": 0,
           "arrowwidth": 1
          },
          "autotypenumbers": "strict",
          "coloraxis": {
           "colorbar": {
            "outlinewidth": 0,
            "ticks": ""
           }
          },
          "colorscale": {
           "diverging": [
            [
             0,
             "#8e0152"
            ],
            [
             0.1,
             "#c51b7d"
            ],
            [
             0.2,
             "#de77ae"
            ],
            [
             0.3,
             "#f1b6da"
            ],
            [
             0.4,
             "#fde0ef"
            ],
            [
             0.5,
             "#f7f7f7"
            ],
            [
             0.6,
             "#e6f5d0"
            ],
            [
             0.7,
             "#b8e186"
            ],
            [
             0.8,
             "#7fbc41"
            ],
            [
             0.9,
             "#4d9221"
            ],
            [
             1,
             "#276419"
            ]
           ],
           "sequential": [
            [
             0,
             "#0d0887"
            ],
            [
             0.1111111111111111,
             "#46039f"
            ],
            [
             0.2222222222222222,
             "#7201a8"
            ],
            [
             0.3333333333333333,
             "#9c179e"
            ],
            [
             0.4444444444444444,
             "#bd3786"
            ],
            [
             0.5555555555555556,
             "#d8576b"
            ],
            [
             0.6666666666666666,
             "#ed7953"
            ],
            [
             0.7777777777777778,
             "#fb9f3a"
            ],
            [
             0.8888888888888888,
             "#fdca26"
            ],
            [
             1,
             "#f0f921"
            ]
           ],
           "sequentialminus": [
            [
             0,
             "#0d0887"
            ],
            [
             0.1111111111111111,
             "#46039f"
            ],
            [
             0.2222222222222222,
             "#7201a8"
            ],
            [
             0.3333333333333333,
             "#9c179e"
            ],
            [
             0.4444444444444444,
             "#bd3786"
            ],
            [
             0.5555555555555556,
             "#d8576b"
            ],
            [
             0.6666666666666666,
             "#ed7953"
            ],
            [
             0.7777777777777778,
             "#fb9f3a"
            ],
            [
             0.8888888888888888,
             "#fdca26"
            ],
            [
             1,
             "#f0f921"
            ]
           ]
          },
          "colorway": [
           "#636efa",
           "#EF553B",
           "#00cc96",
           "#ab63fa",
           "#FFA15A",
           "#19d3f3",
           "#FF6692",
           "#B6E880",
           "#FF97FF",
           "#FECB52"
          ],
          "font": {
           "color": "#2a3f5f"
          },
          "geo": {
           "bgcolor": "white",
           "lakecolor": "white",
           "landcolor": "#E5ECF6",
           "showlakes": true,
           "showland": true,
           "subunitcolor": "white"
          },
          "hoverlabel": {
           "align": "left"
          },
          "hovermode": "closest",
          "mapbox": {
           "style": "light"
          },
          "paper_bgcolor": "white",
          "plot_bgcolor": "#E5ECF6",
          "polar": {
           "angularaxis": {
            "gridcolor": "white",
            "linecolor": "white",
            "ticks": ""
           },
           "bgcolor": "#E5ECF6",
           "radialaxis": {
            "gridcolor": "white",
            "linecolor": "white",
            "ticks": ""
           }
          },
          "scene": {
           "xaxis": {
            "backgroundcolor": "#E5ECF6",
            "gridcolor": "white",
            "gridwidth": 2,
            "linecolor": "white",
            "showbackground": true,
            "ticks": "",
            "zerolinecolor": "white"
           },
           "yaxis": {
            "backgroundcolor": "#E5ECF6",
            "gridcolor": "white",
            "gridwidth": 2,
            "linecolor": "white",
            "showbackground": true,
            "ticks": "",
            "zerolinecolor": "white"
           },
           "zaxis": {
            "backgroundcolor": "#E5ECF6",
            "gridcolor": "white",
            "gridwidth": 2,
            "linecolor": "white",
            "showbackground": true,
            "ticks": "",
            "zerolinecolor": "white"
           }
          },
          "shapedefaults": {
           "line": {
            "color": "#2a3f5f"
           }
          },
          "ternary": {
           "aaxis": {
            "gridcolor": "white",
            "linecolor": "white",
            "ticks": ""
           },
           "baxis": {
            "gridcolor": "white",
            "linecolor": "white",
            "ticks": ""
           },
           "bgcolor": "#E5ECF6",
           "caxis": {
            "gridcolor": "white",
            "linecolor": "white",
            "ticks": ""
           }
          },
          "title": {
           "x": 0.05
          },
          "xaxis": {
           "automargin": true,
           "gridcolor": "white",
           "linecolor": "white",
           "ticks": "",
           "title": {
            "standoff": 15
           },
           "zerolinecolor": "white",
           "zerolinewidth": 2
          },
          "yaxis": {
           "automargin": true,
           "gridcolor": "white",
           "linecolor": "white",
           "ticks": "",
           "title": {
            "standoff": 15
           },
           "zerolinecolor": "white",
           "zerolinewidth": 2
          }
         }
        },
        "title": {
         "text": "All indicators",
         "x": 0.5
        },
        "xaxis": {
         "anchor": "y",
         "domain": [
          0,
          1
         ],
         "title": {
          "text": "1st_component"
         }
        },
        "yaxis": {
         "anchor": "x",
         "domain": [
          0,
          1
         ],
         "title": {
          "text": "2nd_component"
         }
        }
       }
      }
     },
     "metadata": {},
     "output_type": "display_data"
    },
    {
     "data": {
      "text/plain": [
       "' with out_general:\\n    widgets.interact(show_general, mode = dropdown_mode, zone = dropdown_zone, ind = dropdown_ind,\\n                 threshold = floatslider_threshold, confidence = floatslider_confidence)\\n    print()\\nwith out_time:\\n    widgets.interact(show_time, mode = dropdown_mode, zone = dropdown_zone, ind = dropdown_ind,\\n                 years = intrangeslider_years, shift = intslider_shift)\\n    print()\\nwith out_cluster:\\n    widgets.interact(show_cluster, zone = dropdown_zone, group = dropdown_group)\\n    print() '"
      ]
     },
     "execution_count": 17,
     "metadata": {},
     "output_type": "execute_result"
    }
   ],
   "source": [
    "\"\"\" out_general = widgets.Output()\n",
    "out_time = widgets.Output()\n",
    "out_cluster = widgets.Output() \"\"\"\n",
    "\n",
    "# GENERAL LAYOUT:\n",
    "general_upper = widgets.HBox(children = [widgets_general_out, plot_time_series_out, globe_corr_out])\n",
    "general_lower = widgets.HBox(children = [table_corr_country_out, table_corr_med_out])\n",
    "general_tab = widgets.VBox(children = [general_upper, general_lower])\n",
    "\n",
    "# TIME LAYOUT\n",
    "time_upper = widgets.HBox(children = [widgets_time_out, table_high_range_out])\n",
    "time_lower = widgets.HBox(children = [plot_time_series_out, table_time_window_out])\n",
    "time_tab = widgets.VBox(children = [time_upper, time_lower])\n",
    "\n",
    "# CLUSTER LAYOUT\n",
    "cluster_upper = widgets.HBox(children = [widgets_cluster_out, venn_group_out, table_cluster_out])\n",
    "cluster_lower = widgets.HBox(children = [plot_cluster_map_out])\n",
    "cluster_tab = widgets.VBox(children = [cluster_upper, cluster_lower])\n",
    "\n",
    "tab = widgets.Tab(children = [general_tab, time_tab, cluster_tab])\n",
    "\n",
    "tab.set_title(0, 'General')\n",
    "tab.set_title(1, 'Time Series')\n",
    "tab.set_title(2, 'Cluster')\n",
    "\n",
    "def foo():\n",
    "    print('General')\n",
    "    with widgets_general_out:\n",
    "        widgets.interact(show_general, mode = dropdown_mode, zone = dropdown_zone, ind = dropdown_ind,\n",
    "                    threshold = floatslider_threshold, confidence = floatslider_confidence)\n",
    "    print('Time')\n",
    "    with widgets_time_out:\n",
    "        widgets.interact(show_time, mode = dropdown_mode, zone = dropdown_zone, ind = dropdown_ind,\n",
    "                    years = intrangeslider_years, shift = intslider_shift)\n",
    "    print('Cluster')\n",
    "    with widgets_cluster_out:\n",
    "        widgets.interact(show_cluster, zone = dropdown_zone, group = dropdown_group)\n",
    "    dropdown_group.value = 'Equality Indicators'\n",
    "\n",
    "foo()\n",
    "display(tab)"
   ]
  }
 ],
 "metadata": {
  "extensions": {
   "jupyter_dashboards": {
    "activeView": "default_view",
    "version": 1,
    "views": {
     "default_view": {
      "cellMargin": 10,
      "defaultCellHeight": 40,
      "maxColumns": 12,
      "name": "active_view",
      "type": "grid"
     }
    }
   }
  },
  "kernelspec": {
   "display_name": "Python 3 (ipykernel)",
   "language": "python",
   "name": "python3"
  },
  "language_info": {
   "codemirror_mode": {
    "name": "ipython",
    "version": 3
   },
   "file_extension": ".py",
   "mimetype": "text/x-python",
   "name": "python",
   "nbconvert_exporter": "python",
   "pygments_lexer": "ipython3",
   "version": "3.10.5"
  },
  "vscode": {
   "interpreter": {
    "hash": "6044c39f3fa8d69f78786198aef61ed0dc3fdd7ddd5a88c111ee27e3b3325eb4"
   }
  }
 },
 "nbformat": 4,
 "nbformat_minor": 2
}
