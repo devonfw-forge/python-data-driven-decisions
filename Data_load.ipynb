{
 "cells": [
  {
   "cell_type": "markdown",
   "id": "c1558956",
   "metadata": {},
   "source": [
    "# <u>  First step : Load  \n",
    "\n",
    "Previously , I downloaded 6 datasets from the website 'Our world in data '\n",
    "    \n",
    "First we read with pandas the 6  xlsx documents (one for each indicators )  :\n",
    "\n",
    "1) Gdp from 1850 to 2020 in pounds\n",
    "\n",
    "2) Infant mortality of children under 5 years old\n",
    "\n",
    "3) Percentage of population age 15+ with tertiary schooling. \n",
    "\n",
    "4) Fertility rate\n",
    "\n",
    "5) gender inequality\n",
    "\n",
    "6) Life expectancy"
   ]
  },
  {
   "cell_type": "code",
   "execution_count": 27,
   "id": "f5bf3036",
   "metadata": {},
   "outputs": [
    {
     "name": "stdout",
     "output_type": "stream",
     "text": [
      "Requirement already satisfied: plotly in c:\\users\\lusais\\appdata\\local\\packages\\pythonsoftwarefoundation.python.3.11_qbz5n2kfra8p0\\localcache\\local-packages\\python311\\site-packages (5.15.0)\n",
      "Requirement already satisfied: tenacity>=6.2.0 in c:\\users\\lusais\\appdata\\local\\packages\\pythonsoftwarefoundation.python.3.11_qbz5n2kfra8p0\\localcache\\local-packages\\python311\\site-packages (from plotly) (8.2.2)\n",
      "Requirement already satisfied: packaging in c:\\users\\lusais\\appdata\\local\\packages\\pythonsoftwarefoundation.python.3.11_qbz5n2kfra8p0\\localcache\\local-packages\\python311\\site-packages (from plotly) (23.1)\n",
      "Note: you may need to restart the kernel to use updated packages.\n"
     ]
    }
   ],
   "source": [
    "pip install plotly"
   ]
  },
  {
   "cell_type": "markdown",
   "id": "8c388960",
   "metadata": {},
   "source": [
    "We import useful librairies"
   ]
  },
  {
   "cell_type": "code",
   "execution_count": 28,
   "id": "bb605e50",
   "metadata": {},
   "outputs": [],
   "source": [
    "# we import the useful librairies \n",
    "\n",
    "import pandas as pd\n",
    "import matplotlib\n",
    "import matplotlib.pyplot as plt\n",
    "import numpy as np\n",
    "import seaborn as sns\n",
    "import functools\n",
    "import plotly.express as px\n",
    "from scipy.stats import shapiro\n",
    "import ipywidgets as widgets\n",
    "from ipywidgets import Layout\n",
    "from ipywidgets import interact, interact_manual"
   ]
  },
  {
   "cell_type": "markdown",
   "id": "45c87318",
   "metadata": {},
   "source": [
    "We open and read each table of indicator one by one to obtain a table with all the indicators "
   ]
  },
  {
   "cell_type": "code",
   "execution_count": 29,
   "id": "1f8a2898",
   "metadata": {},
   "outputs": [],
   "source": [
    "# we open and read each table of indicator one by one  \n",
    "\n",
    "education = pd.read_excel('./education.xlsx')\n",
    "fertility = pd.read_excel('./fertility.xlsx')\n",
    "gdp = pd.read_excel('./gdp-in-british-pounds.xlsx')\n",
    "gender = pd.read_excel('./gender_inequality.xlsx')\n",
    "life = pd.read_excel('./life-expectancy.xlsx')\n",
    "child = pd.read_excel('./child-deaths.xlsx')"
   ]
  },
  {
   "cell_type": "markdown",
   "id": "e150efc2",
   "metadata": {},
   "source": [
    "#  <u>Second step : Merge the tables\n",
    "Merge the 6 tables in only one , I merge them two by two\n",
    "\n",
    "This shrinks the dataset to only keep rows that have a value for each column. It avoid to have many Null or NaN values"
   ]
  },
  {
   "cell_type": "code",
   "execution_count": 30,
   "id": "277a4b49",
   "metadata": {},
   "outputs": [
    {
     "data": {
      "text/html": [
       "<div>\n",
       "<style scoped>\n",
       "    .dataframe tbody tr th:only-of-type {\n",
       "        vertical-align: middle;\n",
       "    }\n",
       "\n",
       "    .dataframe tbody tr th {\n",
       "        vertical-align: top;\n",
       "    }\n",
       "\n",
       "    .dataframe thead th {\n",
       "        text-align: right;\n",
       "    }\n",
       "</style>\n",
       "<table border=\"1\" class=\"dataframe\">\n",
       "  <thead>\n",
       "    <tr style=\"text-align: right;\">\n",
       "      <th></th>\n",
       "      <th>Entity</th>\n",
       "      <th>Code</th>\n",
       "      <th>Year</th>\n",
       "      <th>Deaths</th>\n",
       "      <th>LifeExpectancy</th>\n",
       "      <th>GenderInequality</th>\n",
       "      <th>GDP</th>\n",
       "      <th>Fertility</th>\n",
       "      <th>tertiary_education</th>\n",
       "    </tr>\n",
       "  </thead>\n",
       "  <tbody>\n",
       "    <tr>\n",
       "      <th>0</th>\n",
       "      <td>Afghanistan</td>\n",
       "      <td>AFG</td>\n",
       "      <td>2005</td>\n",
       "      <td>118653</td>\n",
       "      <td>58.4</td>\n",
       "      <td>0.748</td>\n",
       "      <td>3.451279e+09</td>\n",
       "      <td>6.9047</td>\n",
       "      <td>3.61</td>\n",
       "    </tr>\n",
       "    <tr>\n",
       "      <th>1</th>\n",
       "      <td>Afghanistan</td>\n",
       "      <td>AFG</td>\n",
       "      <td>2010</td>\n",
       "      <td>101658</td>\n",
       "      <td>60.9</td>\n",
       "      <td>0.753</td>\n",
       "      <td>1.031396e+10</td>\n",
       "      <td>6.0987</td>\n",
       "      <td>3.65</td>\n",
       "    </tr>\n",
       "    <tr>\n",
       "      <th>2</th>\n",
       "      <td>Albania</td>\n",
       "      <td>ALB</td>\n",
       "      <td>2000</td>\n",
       "      <td>1449</td>\n",
       "      <td>75.4</td>\n",
       "      <td>0.319</td>\n",
       "      <td>2.400530e+09</td>\n",
       "      <td>2.2310</td>\n",
       "      <td>3.51</td>\n",
       "    </tr>\n",
       "    <tr>\n",
       "      <th>3</th>\n",
       "      <td>Albania</td>\n",
       "      <td>ALB</td>\n",
       "      <td>2005</td>\n",
       "      <td>815</td>\n",
       "      <td>76.6</td>\n",
       "      <td>0.306</td>\n",
       "      <td>4.487185e+09</td>\n",
       "      <td>1.8026</td>\n",
       "      <td>2.35</td>\n",
       "    </tr>\n",
       "    <tr>\n",
       "      <th>4</th>\n",
       "      <td>Albania</td>\n",
       "      <td>ALB</td>\n",
       "      <td>2010</td>\n",
       "      <td>473</td>\n",
       "      <td>77.9</td>\n",
       "      <td>0.246</td>\n",
       "      <td>7.718874e+09</td>\n",
       "      <td>1.6564</td>\n",
       "      <td>0.93</td>\n",
       "    </tr>\n",
       "    <tr>\n",
       "      <th>...</th>\n",
       "      <td>...</td>\n",
       "      <td>...</td>\n",
       "      <td>...</td>\n",
       "      <td>...</td>\n",
       "      <td>...</td>\n",
       "      <td>...</td>\n",
       "      <td>...</td>\n",
       "      <td>...</td>\n",
       "      <td>...</td>\n",
       "    </tr>\n",
       "    <tr>\n",
       "      <th>637</th>\n",
       "      <td>Zimbabwe</td>\n",
       "      <td>ZWE</td>\n",
       "      <td>1990</td>\n",
       "      <td>29244</td>\n",
       "      <td>59.4</td>\n",
       "      <td>0.605</td>\n",
       "      <td>4.946844e+09</td>\n",
       "      <td>4.8733</td>\n",
       "      <td>1.83</td>\n",
       "    </tr>\n",
       "    <tr>\n",
       "      <th>638</th>\n",
       "      <td>Zimbabwe</td>\n",
       "      <td>ZWE</td>\n",
       "      <td>1995</td>\n",
       "      <td>35883</td>\n",
       "      <td>50.5</td>\n",
       "      <td>0.594</td>\n",
       "      <td>4.506185e+09</td>\n",
       "      <td>4.1539</td>\n",
       "      <td>1.32</td>\n",
       "    </tr>\n",
       "    <tr>\n",
       "      <th>639</th>\n",
       "      <td>Zimbabwe</td>\n",
       "      <td>ZWE</td>\n",
       "      <td>2000</td>\n",
       "      <td>35389</td>\n",
       "      <td>44.7</td>\n",
       "      <td>0.625</td>\n",
       "      <td>4.421600e+09</td>\n",
       "      <td>3.9740</td>\n",
       "      <td>0.53</td>\n",
       "    </tr>\n",
       "    <tr>\n",
       "      <th>640</th>\n",
       "      <td>Zimbabwe</td>\n",
       "      <td>ZWE</td>\n",
       "      <td>2005</td>\n",
       "      <td>36797</td>\n",
       "      <td>44.8</td>\n",
       "      <td>0.595</td>\n",
       "      <td>3.165357e+09</td>\n",
       "      <td>3.6651</td>\n",
       "      <td>0.44</td>\n",
       "    </tr>\n",
       "    <tr>\n",
       "      <th>641</th>\n",
       "      <td>Zimbabwe</td>\n",
       "      <td>ZWE</td>\n",
       "      <td>2010</td>\n",
       "      <td>38616</td>\n",
       "      <td>50.7</td>\n",
       "      <td>0.592</td>\n",
       "      <td>6.097825e+09</td>\n",
       "      <td>4.0248</td>\n",
       "      <td>0.38</td>\n",
       "    </tr>\n",
       "  </tbody>\n",
       "</table>\n",
       "<p>642 rows × 9 columns</p>\n",
       "</div>"
      ],
      "text/plain": [
       "          Entity Code  Year  Deaths  LifeExpectancy  GenderInequality  \\\n",
       "0    Afghanistan  AFG  2005  118653            58.4             0.748   \n",
       "1    Afghanistan  AFG  2010  101658            60.9             0.753   \n",
       "2        Albania  ALB  2000    1449            75.4             0.319   \n",
       "3        Albania  ALB  2005     815            76.6             0.306   \n",
       "4        Albania  ALB  2010     473            77.9             0.246   \n",
       "..           ...  ...   ...     ...             ...               ...   \n",
       "637     Zimbabwe  ZWE  1990   29244            59.4             0.605   \n",
       "638     Zimbabwe  ZWE  1995   35883            50.5             0.594   \n",
       "639     Zimbabwe  ZWE  2000   35389            44.7             0.625   \n",
       "640     Zimbabwe  ZWE  2005   36797            44.8             0.595   \n",
       "641     Zimbabwe  ZWE  2010   38616            50.7             0.592   \n",
       "\n",
       "             GDP   Fertility  tertiary_education  \n",
       "0    3.451279e+09     6.9047                3.61  \n",
       "1    1.031396e+10     6.0987                3.65  \n",
       "2    2.400530e+09     2.2310                3.51  \n",
       "3    4.487185e+09     1.8026                2.35  \n",
       "4    7.718874e+09     1.6564                0.93  \n",
       "..            ...        ...                 ...  \n",
       "637  4.946844e+09     4.8733                1.83  \n",
       "638  4.506185e+09     4.1539                1.32  \n",
       "639  4.421600e+09     3.9740                0.53  \n",
       "640  3.165357e+09     3.6651                0.44  \n",
       "641  6.097825e+09     4.0248                0.38  \n",
       "\n",
       "[642 rows x 9 columns]"
      ]
     },
     "execution_count": 30,
     "metadata": {},
     "output_type": "execute_result"
    }
   ],
   "source": [
    "dataset2 = pd.merge(left = child, right = life)\n",
    "dataset3 = pd.merge(left = dataset2, right = gender)\n",
    "dataset4 = pd.merge(left = dataset3, right = gdp)\n",
    "dataset5 = pd.merge(left = dataset4, right = fertility)\n",
    "dataset6 = pd.merge(left = dataset5, right = education)\n",
    "dataset6"
   ]
  },
  {
   "cell_type": "code",
   "execution_count": 31,
   "id": "ac18cba4",
   "metadata": {},
   "outputs": [
    {
     "data": {
      "text/plain": [
       "0"
      ]
     },
     "execution_count": 31,
     "metadata": {},
     "output_type": "execute_result"
    }
   ],
   "source": [
    "dataset6.isna().sum().sum()"
   ]
  },
  {
   "cell_type": "markdown",
   "id": "9f879355",
   "metadata": {},
   "source": [
    "We create a new csv document with this table with all the indicators "
   ]
  },
  {
   "cell_type": "code",
   "execution_count": 32,
   "id": "fe82125f",
   "metadata": {},
   "outputs": [],
   "source": [
    "dataset6.to_csv('all_indicators_table.csv')"
   ]
  },
  {
   "cell_type": "code",
   "execution_count": null,
   "id": "0ee6adb1",
   "metadata": {},
   "outputs": [],
   "source": []
  }
 ],
 "metadata": {
  "kernelspec": {
   "display_name": "Python 3 (ipykernel)",
   "language": "python",
   "name": "python3"
  },
  "language_info": {
   "codemirror_mode": {
    "name": "ipython",
    "version": 3
   },
   "file_extension": ".py",
   "mimetype": "text/x-python",
   "name": "python",
   "nbconvert_exporter": "python",
   "pygments_lexer": "ipython3",
   "version": "3.11.4"
  }
 },
 "nbformat": 4,
 "nbformat_minor": 5
}
