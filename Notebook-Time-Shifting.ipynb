{
 "cells": [
  {
   "cell_type": "markdown",
   "metadata": {},
   "source": [
    "# TIME SHIFTING\n",
    "\n",
    "When studying the correlations between the indicators and the GDP, we should take into consideration that the effects of said indicators might not be immediate, but built up over the course of the years. Thus, in this notebook we will be exploring the correlations after applying time shifting, that is, comparing the values of indicators for year X to the GDP of year X + N.\n",
    "\n",
    "Note that we could also do the opposite: study the effect of GDP on the indicators. In order to have a full view of these interactions, we can choose to show this on the last table of the notebook by selecting negative values in the range of shifts."
   ]
  },
  {
   "cell_type": "markdown",
   "metadata": {},
   "source": [
    "## IMPORTS AND CONSTANTS"
   ]
  },
  {
   "cell_type": "code",
   "execution_count": null,
   "metadata": {},
   "outputs": [],
   "source": [
    "import os\n",
    "import numpy as np\n",
    "import pandas as pd\n",
    "import ipywidgets as widgets\n",
    "from ipywidgets import interact, interact_manual\n",
    "\n",
    "import warnings\n",
    "warnings.filterwarnings(\"ignore\")\n",
    "\n",
    "from Project.Utils.shift_corr import shift_corr\n",
    "from Project.Utils.max_corr import max_corr\n",
    "\n",
    "PVALUE_VAR = 0.05\n",
    "\n",
    "read_path = os.getcwd() + '/Output/'\n",
    "\n",
    "col_country = 'Country'\n",
    "col_region = 'Region'\n",
    "col_year = 'Year'\n",
    "col_gdp = 'GDP'\n",
    "col_shift = 'Shift'"
   ]
  },
  {
   "cell_type": "markdown",
   "metadata": {},
   "source": [
    "## LOADING DATAFRAME\n",
    "\n",
    "We will load the ready-to-use GoldDataframe, which will be the base for our study in this notebook."
   ]
  },
  {
   "cell_type": "code",
   "execution_count": null,
   "metadata": {},
   "outputs": [],
   "source": [
    "# Read and display the GoldDataframe\n",
    "df = pd.read_csv(read_path + 'GoldDataframe.csv', index_col = [col_country, col_region, col_year])\n",
    "df"
   ]
  },
  {
   "cell_type": "markdown",
   "metadata": {},
   "source": [
    "## COMPUTING CORRELATIONS\n",
    "\n",
    "In order to be able to show the results in a more agile way, we pre-compute them in the following cell. The tables for each view mode will be stored in the show_dictionary, so the display cell only has to change which table is shown and what conditions use to filter it, instead of processing it once again.\n",
    "\n",
    "The range for the shifts that can be shown is defined here, as well."
   ]
  },
  {
   "cell_type": "code",
   "execution_count": null,
   "metadata": {},
   "outputs": [],
   "source": [
    "# The show_dict will be used to store the full tables that can be seen for each view mode, using said mode as the key.\n",
    "show_list = [col_country, col_region]\n",
    "show_dict = {}\n",
    "for method in show_list:\n",
    "    shift_corr_df = shift_corr(df, method)\n",
    "    show_dict[method] = shift_corr_df\n",
    "\n",
    "# After computing all the modes, the shifts range is established by the minimum and maximum ranges for all the tables.\n",
    "shifts_range = range(\n",
    "    min(min(show_dict[how].index.get_level_values(col_shift)) for how in show_list),\n",
    "    max(max(show_dict[how].index.get_level_values(col_shift)) for how in show_list)\n",
    ")"
   ]
  },
  {
   "cell_type": "markdown",
   "metadata": {},
   "source": [
    "## DISPLAYING RESULTS\n",
    "\n",
    "The following cell shows the strongest correlation between the indicator and the GDP, for the given area selected. Hovering over the cell, it will be displayed what shift that correlation corresponds to.\n",
    "\n",
    "By default, only positive shifts are shown, which translates into a shifted GDP, that is, the effects of indicators over future GDP. Negative values can be selected too, which will show the effects of the GDP over indicators' future values."
   ]
  },
  {
   "cell_type": "code",
   "execution_count": null,
   "metadata": {},
   "outputs": [],
   "source": [
    "def table_MaxCorr(selection: str, sh_range: tuple):    \n",
    "\n",
    "    # Load the corresponding Dataframe and apply the user-introduced restrictions.\n",
    "    df = show_dict[selection]\n",
    "    min_sh = sh_range[0]\n",
    "    max_sh = sh_range[1]\n",
    "    df = df.loc[(min_sh <= df.index.get_level_values(col_shift)) & (df.index.get_level_values(col_shift) <= max_sh)]\n",
    "    max_corr_df, max_corr_index_df = max_corr(df, selection, PVALUE_VAR, raw = False)\n",
    "\n",
    "    # Apply style and display.\n",
    "    df_s = max_corr_df.style\n",
    "    df_s.set_tooltips(max_corr_index_df.applymap(lambda x:\n",
    "                                                    'No data' if np.isnan(x) else \n",
    "                                                    'Shift: ' + str(int(x))\n",
    "                                                    \n",
    "                                                )\n",
    "                    )\n",
    "    df_s.background_gradient(cmap='RdBu')\n",
    "\n",
    "    display(df_s)"
   ]
  },
  {
   "cell_type": "code",
   "execution_count": null,
   "metadata": {},
   "outputs": [],
   "source": [
    "dropdown = widgets.Dropdown(\n",
    "    options = show_list,\n",
    "    description = 'Show: '\n",
    ")\n",
    "\n",
    "intslider = widgets.IntRangeSlider(\n",
    "    value = (max(0, shifts_range.start), shifts_range.stop),\n",
    "    min = shifts_range.start,\n",
    "    max = shifts_range.stop,\n",
    "    step = shifts_range.step,\n",
    "    description = 'Shifts Range: ')\n",
    "\n",
    "widgets.interact(table_MaxCorr, selection = dropdown, sh_range = intslider)"
   ]
  }
 ],
 "metadata": {
  "kernelspec": {
   "display_name": "Python 3.10.5 ('.venv': poetry)",
   "language": "python",
   "name": "python3"
  },
  "language_info": {
   "codemirror_mode": {
    "name": "ipython",
    "version": 3
   },
   "file_extension": ".py",
   "mimetype": "text/x-python",
   "name": "python",
   "nbconvert_exporter": "python",
   "pygments_lexer": "ipython3",
   "version": "3.10.5"
  },
  "orig_nbformat": 4,
  "vscode": {
   "interpreter": {
    "hash": "6044c39f3fa8d69f78786198aef61ed0dc3fdd7ddd5a88c111ee27e3b3325eb4"
   }
  }
 },
 "nbformat": 4,
 "nbformat_minor": 2
}
