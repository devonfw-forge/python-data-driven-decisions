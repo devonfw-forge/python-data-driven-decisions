{
 "cells": [
  {
   "cell_type": "markdown",
   "metadata": {},
   "source": [
    "# Correlation matrix and visualization of variables and GDP"
   ]
  },
  {
   "cell_type": "code",
   "execution_count": 4,
   "metadata": {},
   "outputs": [
    {
     "name": "stdout",
     "output_type": "stream",
     "text": [
      "The DataFrame of Employees is:\n",
      "       Name  Age  Weight(KG)  Height(meters)  Salary($)\n",
      "0  Jonathan   20          65            1.60       3200\n",
      "1      Will   22          75            1.70       3500\n",
      "2   Michael   29          80            1.85       4000\n",
      "3      Liva   20          60            1.69       2090\n",
      "4       Sia   20          63            1.80       2500\n",
      "5     Alice   21          70            1.75       3600 \n",
      "\n",
      "The correlation DataFrame is:\n",
      "                     Age  Weight(KG)  Height(meters)  Salary($)\n",
      "Age             1.000000    0.848959        0.655252   0.695206\n",
      "Weight(KG)      0.848959    1.000000        0.480998   0.914861\n",
      "Height(meters)  0.655252    0.480998        1.000000   0.285423\n",
      "Salary($)       0.695206    0.914861        0.285423   1.000000 \n",
      "\n"
     ]
    }
   ],
   "source": [
    "import pandas as pd\n",
    "import pandas as pd\n",
    "import matplotlib.pyplot as plt\n",
    "import seaborn as sns\n",
    "import numpy as np\n",
    "from scipy.stats import norm\n",
    "from sklearn.preprocessing import StandardScaler\n",
    "from scipy import stats\n",
    "import warnings\n",
    "warnings.filterwarnings('ignore') # Para evitar los molestos avisos.\n",
    "%matplotlib inline\n",
    "\n",
    "df = pd.DataFrame({\n",
    "    'Name': [\"Jonathan\", \"Will\", \"Michael\", \"Liva\", \"Sia\", \"Alice\"],\n",
    "    'Age': [20, 22, 29, 20, 20, 21],\n",
    "    'Weight(KG)': [65, 75, 80, 60, 63, 70],\n",
    "    'Height(meters)': [1.6, 1.7, 1.85, 1.69, 1.8, 1.75],\n",
    "    'Salary($)': [3200, 3500, 4000, 2090, 2500, 3600]\n",
    "\n",
    "})\n"
   ]
  },
  {
   "cell_type": "markdown",
   "metadata": {},
   "source": [
    "## Visualization"
   ]
  },
  {
   "cell_type": "code",
   "execution_count": 1,
   "metadata": {},
   "outputs": [],
   "source": [
    "columns=['Country','Year','Gender equality','Exports-Commercial services','Renewable electricity','Employment-agriculture','Employment-industry','Employment-services','Exports-G&S','Fertility rate','Foreign investment','GDP','Education GExp','Workers high education','Literacy rate','Mortality-pollution','Net migration','Mortality-infants','Health services use','R&D GExp','Ninis','Suicide','International taxes','Alcohol per capita']\n",
    "clist=[] #Poner datos de paises que "
   ]
  },
  {
   "cell_type": "markdown",
   "metadata": {},
   "source": [
    "The following loop has been created to test if each variable for each country follows a normal distribution and also to present in an orderly manner all the correlations between the GDP and the variables in an orderly manner."
   ]
  },
  {
   "cell_type": "code",
   "execution_count": null,
   "metadata": {},
   "outputs": [],
   "source": [
    "from numpy.random import seed, randn\n",
    "import matplotlib.pyplot as plt\n",
    "from scipy.stats import shapiro\n",
    "for i in range(0,len(clist)):\n",
    "    dat=df.loc[df.loc[:, 'Country'] == clist[i]]\n",
    "    for e in range(2,len(columns)):\n",
    "        data=dat.loc[:, e]\n",
    "        stat, p = shapiro(data)\n",
    "        print(clist[i] +\"-\"+ columns[e])\n",
    "        print('Statistical=%.3f, p=%.3f' % (stat, p))\n",
    "        alpha = 0.05\n",
    "        if p &gt; alpha:\n",
    "        print('Data is normal ( H0 not denied )')\n",
    "        else:\n",
    "        print('It does not seem normal( Denies H0)')\n",
    "    corr=dat.corr()\n",
    "    print(clist[i])\n",
    "    corr[['GDP']].sort_values(by = 'GDP',ascending = False).style.background_gradient()\n"
   ]
  },
  {
   "cell_type": "code",
   "execution_count": null,
   "metadata": {},
   "outputs": [],
   "source": [
    "corrmat = corr_df\n",
    "f, ax = plt.subplots(figsize=(12, 9))\n",
    "sns.heatmap(corrmat, vmax=.8, square=True)"
   ]
  }
 ],
 "metadata": {
  "kernelspec": {
   "display_name": "Python 3.9.12 ('base')",
   "language": "python",
   "name": "python3"
  },
  "language_info": {
   "codemirror_mode": {
    "name": "ipython",
    "version": 3
   },
   "file_extension": ".py",
   "mimetype": "text/x-python",
   "name": "python",
   "nbconvert_exporter": "python",
   "pygments_lexer": "ipython3",
   "version": "3.9.12"
  },
  "orig_nbformat": 4,
  "vscode": {
   "interpreter": {
    "hash": "db2f77d7771d8a0072cf3f8e7f9965a22a9c65bf4f8ee5135b3d479c9967abaa"
   }
  }
 },
 "nbformat": 4,
 "nbformat_minor": 2
}
