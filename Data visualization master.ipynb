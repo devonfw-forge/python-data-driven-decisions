{
 "cells": [
  {
   "cell_type": "markdown",
   "metadata": {},
   "source": [
    "# Correlation matrix and visualization of variables and GDP"
   ]
  },
  {
   "cell_type": "markdown",
   "metadata": {},
   "source": [
    "### This is the master notebook, please copy and create a new one for each group."
   ]
  },
  {
   "cell_type": "code",
   "execution_count": 1,
   "metadata": {},
   "outputs": [
    {
     "name": "stdout",
     "output_type": "stream",
     "text": [
      "Requirement already satisfied: matplotlib in c:\\users\\msanchis\\documents\\github\\python-data-driven-decisions\\.venv\\lib\\site-packages (3.5.2)Note: you may need to restart the kernel to use updated packages.\n",
      "\n",
      "Requirement already satisfied: numpy>=1.17 in c:\\users\\msanchis\\documents\\github\\python-data-driven-decisions\\.venv\\lib\\site-packages (from matplotlib) (1.22.4)\n",
      "Requirement already satisfied: python-dateutil>=2.7 in c:\\users\\msanchis\\documents\\github\\python-data-driven-decisions\\.venv\\lib\\site-packages (from matplotlib) (2.8.2)\n",
      "Requirement already satisfied: pillow>=6.2.0 in c:\\users\\msanchis\\documents\\github\\python-data-driven-decisions\\.venv\\lib\\site-packages (from matplotlib) (9.2.0)\n",
      "Requirement already satisfied: cycler>=0.10 in c:\\users\\msanchis\\documents\\github\\python-data-driven-decisions\\.venv\\lib\\site-packages (from matplotlib) (0.11.0)\n",
      "Requirement already satisfied: packaging>=20.0 in c:\\users\\msanchis\\documents\\github\\python-data-driven-decisions\\.venv\\lib\\site-packages (from matplotlib) (21.3)\n",
      "Requirement already satisfied: fonttools>=4.22.0 in c:\\users\\msanchis\\documents\\github\\python-data-driven-decisions\\.venv\\lib\\site-packages (from matplotlib) (4.33.3)\n",
      "Requirement already satisfied: pyparsing>=2.2.1 in c:\\users\\msanchis\\documents\\github\\python-data-driven-decisions\\.venv\\lib\\site-packages (from matplotlib) (3.0.9)\n",
      "Requirement already satisfied: kiwisolver>=1.0.1 in c:\\users\\msanchis\\documents\\github\\python-data-driven-decisions\\.venv\\lib\\site-packages (from matplotlib) (1.4.3)\n",
      "Requirement already satisfied: six>=1.5 in c:\\users\\msanchis\\documents\\github\\python-data-driven-decisions\\.venv\\lib\\site-packages (from python-dateutil>=2.7->matplotlib) (1.16.0)\n"
     ]
    },
    {
     "name": "stderr",
     "output_type": "stream",
     "text": [
      "WARNING: You are using pip version 22.0.3; however, version 22.1.2 is available.\n",
      "You should consider upgrading via the 'c:\\Users\\msanchis\\Documents\\GitHub\\python-data-driven-decisions\\.venv\\Scripts\\python.exe -m pip install --upgrade pip' command.\n"
     ]
    }
   ],
   "source": [
    "\n",
    "\n",
    "pip install matplotlib"
   ]
  },
  {
   "cell_type": "code",
   "execution_count": 3,
   "metadata": {},
   "outputs": [
    {
     "name": "stdout",
     "output_type": "stream",
     "text": [
      "Requirement already satisfied: scipy in c:\\users\\msanchis\\documents\\github\\python-data-driven-decisions\\.venv\\lib\\site-packages (1.8.1)\n",
      "Requirement already satisfied: numpy<1.25.0,>=1.17.3 in c:\\users\\msanchis\\documents\\github\\python-data-driven-decisions\\.venv\\lib\\site-packages (from scipy) (1.22.4)\n",
      "Note: you may need to restart the kernel to use updated packages.\n"
     ]
    },
    {
     "name": "stderr",
     "output_type": "stream",
     "text": [
      "WARNING: You are using pip version 22.0.3; however, version 22.1.2 is available.\n",
      "You should consider upgrading via the 'c:\\Users\\msanchis\\Documents\\GitHub\\python-data-driven-decisions\\.venv\\Scripts\\python.exe -m pip install --upgrade pip' command.\n"
     ]
    }
   ],
   "source": [
    "pip install scipy"
   ]
  },
  {
   "cell_type": "code",
   "execution_count": 1,
   "metadata": {},
   "outputs": [],
   "source": [
    "import pandas as pd\n",
    "import matplotlib.pyplot as plt\n",
    "import numpy as np\n",
    "from scipy import stats\n",
    "from scipy.stats import shapiro"
   ]
  },
  {
   "cell_type": "code",
   "execution_count": 2,
   "metadata": {},
   "outputs": [
    {
     "data": {
      "text/html": [
       "<div>\n",
       "<style scoped>\n",
       "    .dataframe tbody tr th:only-of-type {\n",
       "        vertical-align: middle;\n",
       "    }\n",
       "\n",
       "    .dataframe tbody tr th {\n",
       "        vertical-align: top;\n",
       "    }\n",
       "\n",
       "    .dataframe thead th {\n",
       "        text-align: right;\n",
       "    }\n",
       "</style>\n",
       "<table border=\"1\" class=\"dataframe\">\n",
       "  <thead>\n",
       "    <tr style=\"text-align: right;\">\n",
       "      <th></th>\n",
       "      <th>Unnamed: 0</th>\n",
       "      <th>Country</th>\n",
       "      <th>Year</th>\n",
       "      <th>Alcohol per capita</th>\n",
       "      <th>Education GExp</th>\n",
       "      <th>Employment-agriculture</th>\n",
       "      <th>Employment-industry</th>\n",
       "      <th>Employment-services</th>\n",
       "      <th>Exports-Commercial services</th>\n",
       "      <th>Exports-G&amp;S</th>\n",
       "      <th>...</th>\n",
       "      <th>Literacy rate</th>\n",
       "      <th>Mortality-infants</th>\n",
       "      <th>Mortality-pollution</th>\n",
       "      <th>Net migration</th>\n",
       "      <th>Ninis</th>\n",
       "      <th>R&amp;D GExp</th>\n",
       "      <th>Renewable electricity</th>\n",
       "      <th>Suicide</th>\n",
       "      <th>Workers high education</th>\n",
       "      <th>Continent</th>\n",
       "    </tr>\n",
       "  </thead>\n",
       "  <tbody>\n",
       "    <tr>\n",
       "      <th>0</th>\n",
       "      <td>379</td>\n",
       "      <td>DZA</td>\n",
       "      <td>1990</td>\n",
       "      <td>0.000000</td>\n",
       "      <td>0.000000</td>\n",
       "      <td>1.000000</td>\n",
       "      <td>0.115506</td>\n",
       "      <td>0.000000</td>\n",
       "      <td>0.000000</td>\n",
       "      <td>0.068478</td>\n",
       "      <td>...</td>\n",
       "      <td>0.000000</td>\n",
       "      <td>1.000000</td>\n",
       "      <td>NaN</td>\n",
       "      <td>0.493145</td>\n",
       "      <td>0.891089</td>\n",
       "      <td>0.344369</td>\n",
       "      <td>NaN</td>\n",
       "      <td>1.000000</td>\n",
       "      <td>NaN</td>\n",
       "      <td>North Africa</td>\n",
       "    </tr>\n",
       "    <tr>\n",
       "      <th>1</th>\n",
       "      <td>380</td>\n",
       "      <td>DZA</td>\n",
       "      <td>1991</td>\n",
       "      <td>0.000000</td>\n",
       "      <td>0.000000</td>\n",
       "      <td>1.000000</td>\n",
       "      <td>0.115506</td>\n",
       "      <td>0.000000</td>\n",
       "      <td>0.000000</td>\n",
       "      <td>0.051430</td>\n",
       "      <td>...</td>\n",
       "      <td>0.000000</td>\n",
       "      <td>1.000000</td>\n",
       "      <td>NaN</td>\n",
       "      <td>0.493145</td>\n",
       "      <td>0.891089</td>\n",
       "      <td>0.344369</td>\n",
       "      <td>NaN</td>\n",
       "      <td>1.000000</td>\n",
       "      <td>NaN</td>\n",
       "      <td>North Africa</td>\n",
       "    </tr>\n",
       "    <tr>\n",
       "      <th>2</th>\n",
       "      <td>381</td>\n",
       "      <td>DZA</td>\n",
       "      <td>1992</td>\n",
       "      <td>0.000000</td>\n",
       "      <td>0.000000</td>\n",
       "      <td>0.990183</td>\n",
       "      <td>0.093354</td>\n",
       "      <td>0.027290</td>\n",
       "      <td>0.000000</td>\n",
       "      <td>0.035458</td>\n",
       "      <td>...</td>\n",
       "      <td>0.000000</td>\n",
       "      <td>1.000000</td>\n",
       "      <td>NaN</td>\n",
       "      <td>0.493145</td>\n",
       "      <td>0.891089</td>\n",
       "      <td>0.344369</td>\n",
       "      <td>NaN</td>\n",
       "      <td>1.000000</td>\n",
       "      <td>NaN</td>\n",
       "      <td>North Africa</td>\n",
       "    </tr>\n",
       "    <tr>\n",
       "      <th>3</th>\n",
       "      <td>382</td>\n",
       "      <td>DZA</td>\n",
       "      <td>1993</td>\n",
       "      <td>0.000000</td>\n",
       "      <td>0.000000</td>\n",
       "      <td>0.979058</td>\n",
       "      <td>0.056962</td>\n",
       "      <td>0.067251</td>\n",
       "      <td>0.000000</td>\n",
       "      <td>0.017872</td>\n",
       "      <td>...</td>\n",
       "      <td>0.000000</td>\n",
       "      <td>1.000000</td>\n",
       "      <td>NaN</td>\n",
       "      <td>0.447104</td>\n",
       "      <td>0.891089</td>\n",
       "      <td>0.344369</td>\n",
       "      <td>NaN</td>\n",
       "      <td>1.000000</td>\n",
       "      <td>NaN</td>\n",
       "      <td>North Africa</td>\n",
       "    </tr>\n",
       "    <tr>\n",
       "      <th>4</th>\n",
       "      <td>383</td>\n",
       "      <td>DZA</td>\n",
       "      <td>1994</td>\n",
       "      <td>0.000000</td>\n",
       "      <td>0.000000</td>\n",
       "      <td>0.965969</td>\n",
       "      <td>0.023734</td>\n",
       "      <td>0.105263</td>\n",
       "      <td>0.000000</td>\n",
       "      <td>0.000000</td>\n",
       "      <td>...</td>\n",
       "      <td>0.000000</td>\n",
       "      <td>1.000000</td>\n",
       "      <td>NaN</td>\n",
       "      <td>0.401063</td>\n",
       "      <td>0.891089</td>\n",
       "      <td>0.344369</td>\n",
       "      <td>NaN</td>\n",
       "      <td>1.000000</td>\n",
       "      <td>NaN</td>\n",
       "      <td>North Africa</td>\n",
       "    </tr>\n",
       "    <tr>\n",
       "      <th>...</th>\n",
       "      <td>...</td>\n",
       "      <td>...</td>\n",
       "      <td>...</td>\n",
       "      <td>...</td>\n",
       "      <td>...</td>\n",
       "      <td>...</td>\n",
       "      <td>...</td>\n",
       "      <td>...</td>\n",
       "      <td>...</td>\n",
       "      <td>...</td>\n",
       "      <td>...</td>\n",
       "      <td>...</td>\n",
       "      <td>...</td>\n",
       "      <td>...</td>\n",
       "      <td>...</td>\n",
       "      <td>...</td>\n",
       "      <td>...</td>\n",
       "      <td>...</td>\n",
       "      <td>...</td>\n",
       "      <td>...</td>\n",
       "      <td>...</td>\n",
       "    </tr>\n",
       "    <tr>\n",
       "      <th>184</th>\n",
       "      <td>875</td>\n",
       "      <td>MAR</td>\n",
       "      <td>2016</td>\n",
       "      <td>0.020833</td>\n",
       "      <td>0.011146</td>\n",
       "      <td>0.198099</td>\n",
       "      <td>0.769863</td>\n",
       "      <td>0.824906</td>\n",
       "      <td>0.759950</td>\n",
       "      <td>0.735786</td>\n",
       "      <td>...</td>\n",
       "      <td>0.972991</td>\n",
       "      <td>0.074934</td>\n",
       "      <td>NaN</td>\n",
       "      <td>0.944679</td>\n",
       "      <td>NaN</td>\n",
       "      <td>1.000000</td>\n",
       "      <td>1.0</td>\n",
       "      <td>0.035714</td>\n",
       "      <td>NaN</td>\n",
       "      <td>North Africa</td>\n",
       "    </tr>\n",
       "    <tr>\n",
       "      <th>185</th>\n",
       "      <td>876</td>\n",
       "      <td>MAR</td>\n",
       "      <td>2017</td>\n",
       "      <td>0.010417</td>\n",
       "      <td>0.022292</td>\n",
       "      <td>0.130117</td>\n",
       "      <td>0.882192</td>\n",
       "      <td>0.874532</td>\n",
       "      <td>0.874509</td>\n",
       "      <td>0.843041</td>\n",
       "      <td>...</td>\n",
       "      <td>0.959486</td>\n",
       "      <td>0.053092</td>\n",
       "      <td>NaN</td>\n",
       "      <td>1.000000</td>\n",
       "      <td>NaN</td>\n",
       "      <td>1.000000</td>\n",
       "      <td>1.0</td>\n",
       "      <td>0.000000</td>\n",
       "      <td>NaN</td>\n",
       "      <td>North Africa</td>\n",
       "    </tr>\n",
       "    <tr>\n",
       "      <th>186</th>\n",
       "      <td>877</td>\n",
       "      <td>MAR</td>\n",
       "      <td>2018</td>\n",
       "      <td>0.000000</td>\n",
       "      <td>0.033651</td>\n",
       "      <td>0.065790</td>\n",
       "      <td>0.942465</td>\n",
       "      <td>0.936330</td>\n",
       "      <td>0.956803</td>\n",
       "      <td>0.966755</td>\n",
       "      <td>...</td>\n",
       "      <td>0.945982</td>\n",
       "      <td>0.033846</td>\n",
       "      <td>NaN</td>\n",
       "      <td>1.000000</td>\n",
       "      <td>NaN</td>\n",
       "      <td>1.000000</td>\n",
       "      <td>1.0</td>\n",
       "      <td>0.035714</td>\n",
       "      <td>NaN</td>\n",
       "      <td>North Africa</td>\n",
       "    </tr>\n",
       "    <tr>\n",
       "      <th>187</th>\n",
       "      <td>878</td>\n",
       "      <td>MAR</td>\n",
       "      <td>2019</td>\n",
       "      <td>0.000000</td>\n",
       "      <td>0.063160</td>\n",
       "      <td>0.000000</td>\n",
       "      <td>1.000000</td>\n",
       "      <td>1.000000</td>\n",
       "      <td>1.000000</td>\n",
       "      <td>1.000000</td>\n",
       "      <td>...</td>\n",
       "      <td>0.945982</td>\n",
       "      <td>0.016110</td>\n",
       "      <td>NaN</td>\n",
       "      <td>1.000000</td>\n",
       "      <td>NaN</td>\n",
       "      <td>1.000000</td>\n",
       "      <td>1.0</td>\n",
       "      <td>0.035714</td>\n",
       "      <td>NaN</td>\n",
       "      <td>North Africa</td>\n",
       "    </tr>\n",
       "    <tr>\n",
       "      <th>188</th>\n",
       "      <td>879</td>\n",
       "      <td>MAR</td>\n",
       "      <td>2020</td>\n",
       "      <td>0.000000</td>\n",
       "      <td>0.063160</td>\n",
       "      <td>0.000000</td>\n",
       "      <td>1.000000</td>\n",
       "      <td>1.000000</td>\n",
       "      <td>0.679214</td>\n",
       "      <td>0.824150</td>\n",
       "      <td>...</td>\n",
       "      <td>0.945982</td>\n",
       "      <td>0.000000</td>\n",
       "      <td>NaN</td>\n",
       "      <td>1.000000</td>\n",
       "      <td>NaN</td>\n",
       "      <td>1.000000</td>\n",
       "      <td>1.0</td>\n",
       "      <td>0.035714</td>\n",
       "      <td>NaN</td>\n",
       "      <td>North Africa</td>\n",
       "    </tr>\n",
       "  </tbody>\n",
       "</table>\n",
       "<p>189 rows × 26 columns</p>\n",
       "</div>"
      ],
      "text/plain": [
       "     Unnamed: 0 Country  Year  Alcohol per capita  Education GExp  \\\n",
       "0           379     DZA  1990            0.000000        0.000000   \n",
       "1           380     DZA  1991            0.000000        0.000000   \n",
       "2           381     DZA  1992            0.000000        0.000000   \n",
       "3           382     DZA  1993            0.000000        0.000000   \n",
       "4           383     DZA  1994            0.000000        0.000000   \n",
       "..          ...     ...   ...                 ...             ...   \n",
       "184         875     MAR  2016            0.020833        0.011146   \n",
       "185         876     MAR  2017            0.010417        0.022292   \n",
       "186         877     MAR  2018            0.000000        0.033651   \n",
       "187         878     MAR  2019            0.000000        0.063160   \n",
       "188         879     MAR  2020            0.000000        0.063160   \n",
       "\n",
       "     Employment-agriculture  Employment-industry  Employment-services  \\\n",
       "0                  1.000000             0.115506             0.000000   \n",
       "1                  1.000000             0.115506             0.000000   \n",
       "2                  0.990183             0.093354             0.027290   \n",
       "3                  0.979058             0.056962             0.067251   \n",
       "4                  0.965969             0.023734             0.105263   \n",
       "..                      ...                  ...                  ...   \n",
       "184                0.198099             0.769863             0.824906   \n",
       "185                0.130117             0.882192             0.874532   \n",
       "186                0.065790             0.942465             0.936330   \n",
       "187                0.000000             1.000000             1.000000   \n",
       "188                0.000000             1.000000             1.000000   \n",
       "\n",
       "     Exports-Commercial services  Exports-G&S  ...  Literacy rate  \\\n",
       "0                       0.000000     0.068478  ...       0.000000   \n",
       "1                       0.000000     0.051430  ...       0.000000   \n",
       "2                       0.000000     0.035458  ...       0.000000   \n",
       "3                       0.000000     0.017872  ...       0.000000   \n",
       "4                       0.000000     0.000000  ...       0.000000   \n",
       "..                           ...          ...  ...            ...   \n",
       "184                     0.759950     0.735786  ...       0.972991   \n",
       "185                     0.874509     0.843041  ...       0.959486   \n",
       "186                     0.956803     0.966755  ...       0.945982   \n",
       "187                     1.000000     1.000000  ...       0.945982   \n",
       "188                     0.679214     0.824150  ...       0.945982   \n",
       "\n",
       "     Mortality-infants  Mortality-pollution  Net migration     Ninis  \\\n",
       "0             1.000000                  NaN       0.493145  0.891089   \n",
       "1             1.000000                  NaN       0.493145  0.891089   \n",
       "2             1.000000                  NaN       0.493145  0.891089   \n",
       "3             1.000000                  NaN       0.447104  0.891089   \n",
       "4             1.000000                  NaN       0.401063  0.891089   \n",
       "..                 ...                  ...            ...       ...   \n",
       "184           0.074934                  NaN       0.944679       NaN   \n",
       "185           0.053092                  NaN       1.000000       NaN   \n",
       "186           0.033846                  NaN       1.000000       NaN   \n",
       "187           0.016110                  NaN       1.000000       NaN   \n",
       "188           0.000000                  NaN       1.000000       NaN   \n",
       "\n",
       "     R&D GExp  Renewable electricity   Suicide  Workers high education  \\\n",
       "0    0.344369                    NaN  1.000000                     NaN   \n",
       "1    0.344369                    NaN  1.000000                     NaN   \n",
       "2    0.344369                    NaN  1.000000                     NaN   \n",
       "3    0.344369                    NaN  1.000000                     NaN   \n",
       "4    0.344369                    NaN  1.000000                     NaN   \n",
       "..        ...                    ...       ...                     ...   \n",
       "184  1.000000                    1.0  0.035714                     NaN   \n",
       "185  1.000000                    1.0  0.000000                     NaN   \n",
       "186  1.000000                    1.0  0.035714                     NaN   \n",
       "187  1.000000                    1.0  0.035714                     NaN   \n",
       "188  1.000000                    1.0  0.035714                     NaN   \n",
       "\n",
       "        Continent  \n",
       "0    North Africa  \n",
       "1    North Africa  \n",
       "2    North Africa  \n",
       "3    North Africa  \n",
       "4    North Africa  \n",
       "..            ...  \n",
       "184  North Africa  \n",
       "185  North Africa  \n",
       "186  North Africa  \n",
       "187  North Africa  \n",
       "188  North Africa  \n",
       "\n",
       "[189 rows x 26 columns]"
      ]
     },
     "execution_count": 2,
     "metadata": {},
     "output_type": "execute_result"
    }
   ],
   "source": [
    "df= pd.read_csv (os.getcwd()+'/WDI/'+'North Africa.csv')\n",
    "df"
   ]
  },
  {
   "cell_type": "markdown",
   "metadata": {},
   "source": [
    "## Visualization"
   ]
  },
  {
   "cell_type": "code",
   "execution_count": 3,
   "metadata": {},
   "outputs": [
    {
     "name": "stdout",
     "output_type": "stream",
     "text": [
      "Requirement already satisfied: plotly in c:\\users\\msanchis\\documents\\github\\python-data-driven-decisions\\.venv\\lib\\site-packages (5.9.0)\n",
      "Requirement already satisfied: tenacity>=6.2.0 in c:\\users\\msanchis\\documents\\github\\python-data-driven-decisions\\.venv\\lib\\site-packages (from plotly) (8.0.1)\n",
      "Note: you may need to restart the kernel to use updated packages.\n"
     ]
    },
    {
     "name": "stderr",
     "output_type": "stream",
     "text": [
      "WARNING: You are using pip version 22.0.3; however, version 22.1.2 is available.\n",
      "You should consider upgrading via the 'c:\\Users\\msanchis\\Documents\\GitHub\\python-data-driven-decisions\\.venv\\Scripts\\python.exe -m pip install --upgrade pip' command.\n"
     ]
    }
   ],
   "source": [
    "pip install plotly"
   ]
  },
  {
   "cell_type": "code",
   "execution_count": 4,
   "metadata": {},
   "outputs": [],
   "source": [
    "import plotly.express as px"
   ]
  },
  {
   "cell_type": "code",
   "execution_count": 6,
   "metadata": {},
   "outputs": [],
   "source": [
    "myvariables= ['Alcohol per capita',\n",
    "\n",
    " 'Education GExp',\n",
    "\n",
    " 'Employment-agriculture',\n",
    "\n",
    " 'Employment-industry',\n",
    "\n",
    " 'Employment-services',\n",
    "\n",
    " 'Exports-Commercial services',\n",
    "\n",
    " 'Exports-G&S',\n",
    "\n",
    " 'Fertility rate',\n",
    "\n",
    " 'Foreign investment',\n",
    "\n",
    " 'GDP',\n",
    "\n",
    " 'Health services use',\n",
    "\n",
    " 'International taxes',\n",
    "\n",
    " 'Literacy rate',\n",
    "\n",
    " 'Mortality-infants',\n",
    "\n",
    " 'Net migration',\n",
    "\n",
    " 'Ninis',\n",
    "\n",
    " 'R&D GExp',\n",
    "\n",
    " 'Renewable electricity',\n",
    "\n",
    " 'Suicide',\n",
    "\n",
    " 'Workers high education']\n",
    "naf_list=['DZA','EGY','LBY','ISR','TUR','MAR']"
   ]
  },
  {
   "cell_type": "code",
   "execution_count": 8,
   "metadata": {},
   "outputs": [
    {
     "data": {
      "application/vnd.plotly.v1+json": {
       "config": {
        "plotlyServerURL": "https://plot.ly"
       },
       "data": [
        {
         "hovertemplate": "variable=Alcohol per capita<br>Year=%{x}<br>value=%{y}<extra></extra>",
         "legendgroup": "Alcohol per capita",
         "line": {
          "color": "#636efa",
          "dash": "solid"
         },
         "marker": {
          "symbol": "circle"
         },
         "mode": "lines",
         "name": "Alcohol per capita",
         "orientation": "v",
         "showlegend": true,
         "type": "scatter",
         "x": [
          1990,
          1991,
          1992,
          1993,
          1994,
          1995,
          1996,
          1997,
          1998,
          1999,
          2000,
          2001,
          2002,
          2003,
          2004,
          2005,
          2006,
          2007,
          2008,
          2009,
          2010,
          2011,
          2012,
          2013,
          2014,
          2015,
          2016,
          2017,
          2018,
          2019,
          2020,
          2021
         ],
         "xaxis": "x",
         "y": [
          0,
          0,
          0,
          0,
          0,
          0,
          0,
          0,
          0,
          0,
          0,
          0.1243243243243244,
          0.2486486486486488,
          0.372972972972973,
          0.4972972972972974,
          0.6216216216216219,
          0.5351351351351353,
          0.4486486486486487,
          0.3621621621621622,
          0.2756756756756759,
          0.1891891891891893,
          0.3405405405405408,
          0.491891891891892,
          0.6432432432432436,
          0.794594594594595,
          0.9459459459459462,
          0.963963963963964,
          0.9819819819819822,
          1,
          1,
          1,
          1
         ],
         "yaxis": "y"
        },
        {
         "hovertemplate": "variable=Education GExp<br>Year=%{x}<br>value=%{y}<extra></extra>",
         "legendgroup": "Education GExp",
         "line": {
          "color": "#EF553B",
          "dash": "solid"
         },
         "marker": {
          "symbol": "circle"
         },
         "mode": "lines",
         "name": "Education GExp",
         "orientation": "v",
         "showlegend": true,
         "type": "scatter",
         "x": [
          1990,
          1991,
          1992,
          1993,
          1994,
          1995,
          1996,
          1997,
          1998,
          1999,
          2000,
          2001,
          2002,
          2003,
          2004,
          2005,
          2006,
          2007,
          2008,
          2009,
          2010,
          2011,
          2012,
          2013,
          2014,
          2015,
          2016,
          2017,
          2018,
          2019,
          2020,
          2021
         ],
         "xaxis": "x",
         "y": [
          0,
          0,
          0,
          0,
          0,
          0,
          0,
          0,
          0,
          0,
          0,
          0,
          0,
          0,
          0,
          0,
          0,
          0,
          0,
          0.0955230043213152,
          0.1910460086426302,
          0.2865690129639454,
          0.3820920172852606,
          0.4776150216065756,
          0.5731380259278909,
          0.6686610302492061,
          0.7641840345705211,
          1,
          0.3829495570519167,
          0.4953131016201701,
          0.8356872877744691,
          0.7808508101805431
         ],
         "yaxis": "y"
        },
        {
         "hovertemplate": "variable=Employment-agriculture<br>Year=%{x}<br>value=%{y}<extra></extra>",
         "legendgroup": "Employment-agriculture",
         "line": {
          "color": "#00cc96",
          "dash": "solid"
         },
         "marker": {
          "symbol": "circle"
         },
         "mode": "lines",
         "name": "Employment-agriculture",
         "orientation": "v",
         "showlegend": true,
         "type": "scatter",
         "x": [
          1990,
          1991,
          1992,
          1993,
          1994,
          1995,
          1996,
          1997,
          1998,
          1999,
          2000,
          2001,
          2002,
          2003,
          2004,
          2005,
          2006,
          2007,
          2008,
          2009,
          2010,
          2011,
          2012,
          2013,
          2014,
          2015,
          2016,
          2017,
          2018,
          2019,
          2020,
          2021
         ],
         "xaxis": "x",
         "y": [
          1,
          1,
          0.9901832702543446,
          0.9790576099222092,
          0.9659686785368364,
          0.9509162264452412,
          0.9339006281269036,
          0.9123037727558664,
          0.888743521505109,
          0.867146666134072,
          0.8337696851376594,
          0.7925392454488289,
          0.7931937107420689,
          0.7931937107420689,
          0.6871728297666226,
          0.5850786157241405,
          0.4882198743746203,
          0.3946335219045513,
          0.3095549685936576,
          0.2244764152827573,
          0.1485601888375168,
          0.0765706917384851,
          0.0713350318057897,
          0.0647905661131031,
          0.0582460380071721,
          0.051047107021239,
          0.044502578915308,
          0.0366491826361349,
          0.0183245913180677,
          0,
          0,
          0
         ],
         "yaxis": "y"
        },
        {
         "hovertemplate": "variable=Employment-industry<br>Year=%{x}<br>value=%{y}<extra></extra>",
         "legendgroup": "Employment-industry",
         "line": {
          "color": "#ab63fa",
          "dash": "solid"
         },
         "marker": {
          "symbol": "circle"
         },
         "mode": "lines",
         "name": "Employment-industry",
         "orientation": "v",
         "showlegend": true,
         "type": "scatter",
         "x": [
          1990,
          1991,
          1992,
          1993,
          1994,
          1995,
          1996,
          1997,
          1998,
          1999,
          2000,
          2001,
          2002,
          2003,
          2004,
          2005,
          2006,
          2007,
          2008,
          2009,
          2010,
          2011,
          2012,
          2013,
          2014,
          2015,
          2016,
          2017,
          2018,
          2019,
          2020,
          2021
         ],
         "xaxis": "x",
         "y": [
          0.1155062622604594,
          0.1155062622604594,
          0.0933544590312363,
          0.056962124641623,
          0.0237341180021167,
          0.0237341180021167,
          0.0174051607062078,
          0.0047469443187107,
          0.0158228459333147,
          0,
          0.036392334389629,
          0.0537974950958211,
          0.0205694884563148,
          0.0031646295458019,
          0.1534809114229658,
          0.3306962426437276,
          0.4509494492228821,
          0.5870251999396405,
          0.6677214425833635,
          0.7753164327750058,
          0.8750001508978454,
          0.9794305115436858,
          0.9715189376791888,
          0.995253055681305,
          0.995253055681305,
          0.9889240983853804,
          0.9936710427040912,
          1,
          0.9873417836124871,
          0.90981017051455,
          0.90981017051455,
          0.90981017051455
         ],
         "yaxis": "y"
        },
        {
         "hovertemplate": "variable=Employment-services<br>Year=%{x}<br>value=%{y}<extra></extra>",
         "legendgroup": "Employment-services",
         "line": {
          "color": "#FFA15A",
          "dash": "solid"
         },
         "marker": {
          "symbol": "circle"
         },
         "mode": "lines",
         "name": "Employment-services",
         "orientation": "v",
         "showlegend": true,
         "type": "scatter",
         "x": [
          1990,
          1991,
          1992,
          1993,
          1994,
          1995,
          1996,
          1997,
          1998,
          1999,
          2000,
          2001,
          2002,
          2003,
          2004,
          2005,
          2006,
          2007,
          2008,
          2009,
          2010,
          2011,
          2012,
          2013,
          2014,
          2015,
          2016,
          2017,
          2018,
          2019,
          2020,
          2021
         ],
         "xaxis": "x",
         "y": [
          0,
          0,
          0.0272903236840625,
          0.0672513141369094,
          0.1052633144432747,
          0.1286549142288154,
          0.1578945998621385,
          0.1978555903149861,
          0.2261207808750574,
          0.2670566382039241,
          0.2953214569612281,
          0.3460037522336097,
          0.3654969999234076,
          0.3762183047429417,
          0.4415202569305911,
          0.4844054762087185,
          0.5545806473681195,
          0.6101365334150318,
          0.6881091523714663,
          0.7475633905141215,
          0.7992201808597444,
          0.8421050283350934,
          0.853801200030637,
          0.8499024761321261,
          0.8606237809516505,
          0.8742689427936866,
          0.8820660187879409,
          0.8888885997089538,
          0.9249512380660578,
          1,
          1,
          1
         ],
         "yaxis": "y"
        },
        {
         "hovertemplate": "variable=Exports-Commercial services<br>Year=%{x}<br>value=%{y}<extra></extra>",
         "legendgroup": "Exports-Commercial services",
         "line": {
          "color": "#19d3f3",
          "dash": "solid"
         },
         "marker": {
          "symbol": "circle"
         },
         "mode": "lines",
         "name": "Exports-Commercial services",
         "orientation": "v",
         "showlegend": true,
         "type": "scatter",
         "x": [
          1990,
          1991,
          1992,
          1993,
          1994,
          1995,
          1996,
          1997,
          1998,
          1999,
          2000,
          2001,
          2002,
          2003,
          2004,
          2005,
          2006,
          2007,
          2008,
          2009,
          2010,
          2011,
          2012,
          2013,
          2014,
          2015,
          2016,
          2017,
          2018,
          2019,
          2020,
          2021
         ],
         "xaxis": "x",
         "y": [
          0,
          0,
          0,
          0,
          0,
          0,
          0,
          0,
          0,
          0,
          0,
          0,
          0,
          0,
          0,
          0,
          0.0372443802685128,
          0.2596850459885034,
          0.7662793634254265,
          0.2256654062118042,
          0.7901651996643332,
          0.8591033356336318,
          0.8940559291424017,
          1,
          0.8183752122288857,
          0.7518685775070225,
          0.5474058591703193,
          0.4515631097818472,
          0.6141493429643952,
          0.4868722212669539,
          0.3821121224357352,
          0.3821121224357352
         ],
         "yaxis": "y"
        },
        {
         "hovertemplate": "variable=Exports-G&S<br>Year=%{x}<br>value=%{y}<extra></extra>",
         "legendgroup": "Exports-G&S",
         "line": {
          "color": "#FF6692",
          "dash": "solid"
         },
         "marker": {
          "symbol": "circle"
         },
         "mode": "lines",
         "name": "Exports-G&S",
         "orientation": "v",
         "showlegend": true,
         "type": "scatter",
         "x": [
          1990,
          1991,
          1992,
          1993,
          1994,
          1995,
          1996,
          1997,
          1998,
          1999,
          2000,
          2001,
          2002,
          2003,
          2004,
          2005,
          2006,
          2007,
          2008,
          2009,
          2010,
          2011,
          2012,
          2013,
          2014,
          2015,
          2016,
          2017,
          2018,
          2019,
          2020,
          2021
         ],
         "xaxis": "x",
         "y": [
          0.0684778430089775,
          0.0514303971561046,
          0.0354577926600532,
          0.0178717865772386,
          0,
          0.0186996863397635,
          0.0605213414497932,
          0.073218431416028,
          0.0178705758285627,
          0.0566893403058954,
          0.1858519849032594,
          0.1449309285760885,
          0.1458563527222834,
          0.2259759026284631,
          0.3394526515972977,
          0.5400955808669268,
          0.6561338338667982,
          0.7446010629433327,
          1,
          0.5375957287336438,
          0.7231263644775723,
          0.9385302257314962,
          0.9322045392582924,
          0.8291867335080725,
          0.7674367279975358,
          0.3985545413234393,
          0.3287508111966818,
          0.399056978747398,
          0.492048895229508,
          0.4062008873606557,
          0.2279943644571181,
          0.2279943644571181
         ],
         "yaxis": "y"
        },
        {
         "hovertemplate": "variable=Fertility rate<br>Year=%{x}<br>value=%{y}<extra></extra>",
         "legendgroup": "Fertility rate",
         "line": {
          "color": "#B6E880",
          "dash": "solid"
         },
         "marker": {
          "symbol": "circle"
         },
         "mode": "lines",
         "name": "Fertility rate",
         "orientation": "v",
         "showlegend": true,
         "type": "scatter",
         "x": [
          1990,
          1991,
          1992,
          1993,
          1994,
          1995,
          1996,
          1997,
          1998,
          1999,
          2000,
          2001,
          2002,
          2003,
          2004,
          2005,
          2006,
          2007,
          2008,
          2009,
          2010,
          2011,
          2012,
          2013,
          2014,
          2015,
          2016,
          2017,
          2018,
          2019,
          2020,
          2021
         ],
         "xaxis": "x",
         "y": [
          1,
          1,
          1,
          1,
          1,
          1,
          0.7703349282296653,
          0.5598086124401914,
          0.3760765550239233,
          0.2220095693779902,
          0.1062200956937796,
          0.0334928229665073,
          0,
          0.0019138755980859,
          0.0334928229665073,
          0.0889952153110047,
          0.1588516746411482,
          0.2354066985645933,
          0.3110047846889954,
          0.3789473684210526,
          0.4373205741626793,
          0.4842105263157893,
          0.5253588516746411,
          0.5617224880382777,
          0.5923444976076553,
          0.61244019138756,
          0.6210526315789474,
          0.6143540669856459,
          0.5933014354066987,
          0.5598086124401914,
          0.5157894736842107,
          0.5157894736842107
         ],
         "yaxis": "y"
        },
        {
         "hovertemplate": "variable=Foreign investment<br>Year=%{x}<br>value=%{y}<extra></extra>",
         "legendgroup": "Foreign investment",
         "line": {
          "color": "#FF97FF",
          "dash": "solid"
         },
         "marker": {
          "symbol": "circle"
         },
         "mode": "lines",
         "name": "Foreign investment",
         "orientation": "v",
         "showlegend": true,
         "type": "scatter",
         "x": [
          1990,
          1991,
          1992,
          1993,
          1994,
          1995,
          1996,
          1997,
          1998,
          1999,
          2000,
          2001,
          2002,
          2003,
          2004,
          2005,
          2006,
          2007,
          2008,
          2009,
          2010,
          2011,
          2012,
          2013,
          2014,
          2015,
          2016,
          2017,
          2018,
          2019,
          2020,
          2021
         ],
         "xaxis": "x",
         "y": [
          0.9866607321350612,
          1,
          0.968339699263424,
          0.9366793985268482,
          0.9050190977902726,
          0.8733587970536967,
          0.8416984963171208,
          0.810038195580545,
          0.7783778948439692,
          0.7467175941073934,
          0.7150572933708175,
          0.6833969926342417,
          0.6517366918976659,
          0.6200763911610901,
          0.5884160904245143,
          0.5567557896879385,
          0.2996732664350535,
          0.3861147843845885,
          0.0823569898964287,
          0,
          0.1755517806219263,
          0.1925933946763477,
          0.3852982313779242,
          0.2212514096217106,
          0.3934920060031096,
          0.3796955123826155,
          0.3658990187621215,
          0.5031574378092104,
          0.7438680964938374,
          0.4598922232958625,
          0.5527725008170736,
          0.5527725008170736
         ],
         "yaxis": "y"
        },
        {
         "hovertemplate": "variable=GDP<br>Year=%{x}<br>value=%{y}<extra></extra>",
         "legendgroup": "GDP",
         "line": {
          "color": "#FECB52",
          "dash": "solid"
         },
         "marker": {
          "symbol": "circle"
         },
         "mode": "lines",
         "name": "GDP",
         "orientation": "v",
         "showlegend": true,
         "type": "scatter",
         "x": [
          1990,
          1991,
          1992,
          1993,
          1994,
          1995,
          1996,
          1997,
          1998,
          1999,
          2000,
          2001,
          2002,
          2003,
          2004,
          2005,
          2006,
          2007,
          2008,
          2009,
          2010,
          2011,
          2012,
          2013,
          2014,
          2015,
          2016,
          2017,
          2018,
          2019,
          2020,
          2021
         ],
         "xaxis": "x",
         "y": [
          0.1179003397545954,
          0.0229665664905812,
          0.0362622414246756,
          0.0475529678508039,
          0.0045270684966543,
          0,
          0.0300923934728993,
          0.0372767023723049,
          0.0373356139648755,
          0.0399680884474973,
          0.075712887261068,
          0.075447376825331,
          0.0871631182678962,
          0.1517010400364185,
          0.253236572745211,
          0.3570789909078529,
          0.4374592797419981,
          0.541790710750415,
          0.7511747013990832,
          0.5547753597211199,
          0.6942512842823885,
          0.9198063539264272,
          0.9723850539313208,
          0.9764305561417536,
          1,
          0.7219881519359306,
          0.6874327107973142,
          0.7459221130628767,
          0.7739022588317807,
          0.7556310977437699,
          0.6001013706869301,
          0.6001013706869301
         ],
         "yaxis": "y"
        },
        {
         "hovertemplate": "variable=Health services use<br>Year=%{x}<br>value=%{y}<extra></extra>",
         "legendgroup": "Health services use",
         "line": {
          "color": "#636efa",
          "dash": "solid"
         },
         "marker": {
          "symbol": "circle"
         },
         "mode": "lines",
         "name": "Health services use",
         "orientation": "v",
         "showlegend": true,
         "type": "scatter",
         "x": [
          1990,
          1991,
          1992,
          1993,
          1994,
          1995,
          1996,
          1997,
          1998,
          1999,
          2000,
          2001,
          2002,
          2003,
          2004,
          2005,
          2006,
          2007,
          2008,
          2009,
          2010,
          2011,
          2012,
          2013,
          2014,
          2015,
          2016,
          2017,
          2018,
          2019,
          2020,
          2021
         ],
         "xaxis": "x",
         "y": [
          0,
          0,
          0,
          0,
          0,
          0,
          0,
          0,
          0,
          0,
          0,
          0.1030469815713169,
          0.2037988471902346,
          0.3021457206709197,
          0.3981085663261161,
          0.4915895297738586,
          0.5827405561290869,
          0.671466117095957,
          0.7579103561703826,
          0.8413259166483293,
          0.9220546002713674,
          1,
          0.964666046509948,
          0.925283362889024,
          0.8820728165533479,
          0.8350628005224825,
          0.784465047709246,
          0.7303157047536228,
          0.672815778726855,
          0.6120464574191934,
          0.5481586410529254,
          0.5481586410529254
         ],
         "yaxis": "y"
        },
        {
         "hovertemplate": "variable=International taxes<br>Year=%{x}<br>value=%{y}<extra></extra>",
         "legendgroup": "International taxes",
         "line": {
          "color": "#EF553B",
          "dash": "solid"
         },
         "marker": {
          "symbol": "circle"
         },
         "mode": "lines",
         "name": "International taxes",
         "orientation": "v",
         "showlegend": true,
         "type": "scatter",
         "x": [
          1990,
          1991,
          1992,
          1993,
          1994,
          1995,
          1996,
          1997,
          1998,
          1999,
          2000,
          2001,
          2002,
          2003,
          2004,
          2005,
          2006,
          2007,
          2008,
          2009,
          2010,
          2011,
          2012,
          2013,
          2014,
          2015,
          2016,
          2017,
          2018,
          2019,
          2020,
          2021
         ],
         "xaxis": "x",
         "y": [
          null,
          null,
          null,
          null,
          null,
          null,
          null,
          null,
          null,
          null,
          null,
          null,
          null,
          null,
          null,
          null,
          null,
          null,
          null,
          null,
          null,
          null,
          null,
          null,
          null,
          null,
          null,
          null,
          null,
          null,
          null,
          null
         ],
         "yaxis": "y"
        },
        {
         "hovertemplate": "variable=Literacy rate<br>Year=%{x}<br>value=%{y}<extra></extra>",
         "legendgroup": "Literacy rate",
         "line": {
          "color": "#00cc96",
          "dash": "solid"
         },
         "marker": {
          "symbol": "circle"
         },
         "mode": "lines",
         "name": "Literacy rate",
         "orientation": "v",
         "showlegend": true,
         "type": "scatter",
         "x": [
          1990,
          1991,
          1992,
          1993,
          1994,
          1995,
          1996,
          1997,
          1998,
          1999,
          2000,
          2001,
          2002,
          2003,
          2004,
          2005,
          2006,
          2007,
          2008,
          2009,
          2010,
          2011,
          2012,
          2013,
          2014,
          2015,
          2016,
          2017,
          2018,
          2019,
          2020,
          2021
         ],
         "xaxis": "x",
         "y": [
          0,
          0,
          0,
          0,
          0,
          0,
          0,
          0,
          0,
          0,
          0,
          0,
          0,
          0.0601504865960379,
          0.1203009731920747,
          0.1804514597881127,
          0.2406019463841507,
          0.3484263101184111,
          0.4562506738526715,
          0.5106256064674046,
          0.5650005390821377,
          0.6193754716968696,
          0.6737504043116026,
          0.7281253369263357,
          0.7825002695410689,
          0.8368752021558019,
          0.8912501347705338,
          0.9456250673852667,
          1,
          1,
          1,
          1
         ],
         "yaxis": "y"
        },
        {
         "hovertemplate": "variable=Mortality-infants<br>Year=%{x}<br>value=%{y}<extra></extra>",
         "legendgroup": "Mortality-infants",
         "line": {
          "color": "#ab63fa",
          "dash": "solid"
         },
         "marker": {
          "symbol": "circle"
         },
         "mode": "lines",
         "name": "Mortality-infants",
         "orientation": "v",
         "showlegend": true,
         "type": "scatter",
         "x": [
          1990,
          1991,
          1992,
          1993,
          1994,
          1995,
          1996,
          1997,
          1998,
          1999,
          2000,
          2001,
          2002,
          2003,
          2004,
          2005,
          2006,
          2007,
          2008,
          2009,
          2010,
          2011,
          2012,
          2013,
          2014,
          2015,
          2016,
          2017,
          2018,
          2019,
          2020,
          2021
         ],
         "xaxis": "x",
         "y": [
          1,
          1,
          1,
          1,
          1,
          1,
          0.7818907389569286,
          0.5811201321040319,
          0.4124122746662997,
          0.2803082427411587,
          0.178065226365763,
          0.1003164992431539,
          0.0454107609742672,
          0.0122471446263932,
          0,
          0.0056419430301362,
          0.0262831980184395,
          0.0557313884684188,
          0.0846291454520434,
          0.1122884271363699,
          0.1395348837209302,
          0.171872849869272,
          0.2102655841475161,
          0.2530617861565983,
          0.2928306041007293,
          0.3169120682537498,
          0.3116829503233796,
          0.2741158662446676,
          0.2102655841475161,
          0.1230218797302876,
          0.0165130039906426,
          0.0165130039906426
         ],
         "yaxis": "y"
        },
        {
         "hovertemplate": "variable=Net migration<br>Year=%{x}<br>value=%{y}<extra></extra>",
         "legendgroup": "Net migration",
         "line": {
          "color": "#FFA15A",
          "dash": "solid"
         },
         "marker": {
          "symbol": "circle"
         },
         "mode": "lines",
         "name": "Net migration",
         "orientation": "v",
         "showlegend": true,
         "type": "scatter",
         "x": [
          1990,
          1991,
          1992,
          1993,
          1994,
          1995,
          1996,
          1997,
          1998,
          1999,
          2000,
          2001,
          2002,
          2003,
          2004,
          2005,
          2006,
          2007,
          2008,
          2009,
          2010,
          2011,
          2012,
          2013,
          2014,
          2015,
          2016,
          2017,
          2018,
          2019,
          2020,
          2021
         ],
         "xaxis": "x",
         "y": [
          0.4931454782059706,
          0.4931454782059706,
          0.4931454782059706,
          0.4471042222308119,
          0.401062966255653,
          0.3550217102804943,
          0.3089804543053354,
          0.2629391983301766,
          0.2103513586641413,
          0.1577635189981059,
          0.1051756793320706,
          0.0525878396660353,
          0,
          0.0399159934547047,
          0.0798319869094095,
          0.1197479803641142,
          0.159663973818819,
          0.1995799672735237,
          0.2394959607282285,
          0.2794119541829333,
          0.319327947637638,
          0.3592439410923427,
          0.3991599345470475,
          0.519327947637638,
          0.6394959607282285,
          0.759663973818819,
          0.8798319869094094,
          1,
          1,
          1,
          1,
          1
         ],
         "yaxis": "y"
        },
        {
         "hovertemplate": "variable=Ninis<br>Year=%{x}<br>value=%{y}<extra></extra>",
         "legendgroup": "Ninis",
         "line": {
          "color": "#19d3f3",
          "dash": "solid"
         },
         "marker": {
          "symbol": "circle"
         },
         "mode": "lines",
         "name": "Ninis",
         "orientation": "v",
         "showlegend": true,
         "type": "scatter",
         "x": [
          1990,
          1991,
          1992,
          1993,
          1994,
          1995,
          1996,
          1997,
          1998,
          1999,
          2000,
          2001,
          2002,
          2003,
          2004,
          2005,
          2006,
          2007,
          2008,
          2009,
          2010,
          2011,
          2012,
          2013,
          2014,
          2015,
          2016,
          2017,
          2018,
          2019,
          2020,
          2021
         ],
         "xaxis": "x",
         "y": [
          0.8910892435340954,
          0.8910892435340954,
          0.8910892435340954,
          0.8910892435340954,
          0.8910892435340954,
          0.8910892435340954,
          0.8910892435340954,
          0.8910892435340954,
          0.8910892435340954,
          0.8910892435340954,
          0.8910892435340954,
          0.8910892435340954,
          0.8910892435340954,
          0.8910892435340954,
          0.8910892435340954,
          0.8910892435340954,
          0.8910892435340954,
          0.8910892435340954,
          0.8910892435340954,
          0.8910892435340954,
          0.7089109830816221,
          1,
          0.3465347058188148,
          0.1089107564659046,
          0.3663363868541586,
          0.0495049579741164,
          0.0247524789870582,
          0,
          0,
          0,
          0,
          0
         ],
         "yaxis": "y"
        },
        {
         "hovertemplate": "variable=R&D GExp<br>Year=%{x}<br>value=%{y}<extra></extra>",
         "legendgroup": "R&D GExp",
         "line": {
          "color": "#FF6692",
          "dash": "solid"
         },
         "marker": {
          "symbol": "circle"
         },
         "mode": "lines",
         "name": "R&D GExp",
         "orientation": "v",
         "showlegend": true,
         "type": "scatter",
         "x": [
          1990,
          1991,
          1992,
          1993,
          1994,
          1995,
          1996,
          1997,
          1998,
          1999,
          2000,
          2001,
          2002,
          2003,
          2004,
          2005,
          2006,
          2007,
          2008,
          2009,
          2010,
          2011,
          2012,
          2013,
          2014,
          2015,
          2016,
          2017,
          2018,
          2019,
          2020,
          2021
         ],
         "xaxis": "x",
         "y": [
          0.3443691946407229,
          0.3443691946407229,
          0.3443691946407229,
          0.3443691946407229,
          0.3443691946407229,
          0.3443691946407229,
          0.3443691946407229,
          0.3443691946407229,
          0.3443691946407229,
          0.3443691946407229,
          0.3443691946407229,
          0.3443691946407229,
          0.6297569873985701,
          0.2729541022791605,
          0.204495418614891,
          0,
          0.0833333333333333,
          0.1666666666666666,
          0.25,
          0.3333333333333333,
          0.4166666666666667,
          0.5,
          0.5833333333333333,
          0.6666666666666666,
          0.7500000000000001,
          0.8333333333333334,
          0.9166666666666666,
          1,
          1,
          1,
          1,
          1
         ],
         "yaxis": "y"
        },
        {
         "hovertemplate": "variable=Renewable electricity<br>Year=%{x}<br>value=%{y}<extra></extra>",
         "legendgroup": "Renewable electricity",
         "line": {
          "color": "#B6E880",
          "dash": "solid"
         },
         "marker": {
          "symbol": "circle"
         },
         "mode": "lines",
         "name": "Renewable electricity",
         "orientation": "v",
         "showlegend": true,
         "type": "scatter",
         "x": [
          1990,
          1991,
          1992,
          1993,
          1994,
          1995,
          1996,
          1997,
          1998,
          1999,
          2000,
          2001,
          2002,
          2003,
          2004,
          2005,
          2006,
          2007,
          2008,
          2009,
          2010,
          2011,
          2012,
          2013,
          2014,
          2015,
          2016,
          2017,
          2018,
          2019,
          2020,
          2021
         ],
         "xaxis": "x",
         "y": [
          null,
          null,
          null,
          null,
          null,
          null,
          null,
          null,
          null,
          null,
          null,
          null,
          null,
          null,
          null,
          null,
          null,
          null,
          null,
          null,
          null,
          null,
          null,
          null,
          null,
          null,
          null,
          null,
          null,
          null,
          null,
          null
         ],
         "yaxis": "y"
        },
        {
         "hovertemplate": "variable=Suicide<br>Year=%{x}<br>value=%{y}<extra></extra>",
         "legendgroup": "Suicide",
         "line": {
          "color": "#FF97FF",
          "dash": "solid"
         },
         "marker": {
          "symbol": "circle"
         },
         "mode": "lines",
         "name": "Suicide",
         "orientation": "v",
         "showlegend": true,
         "type": "scatter",
         "x": [
          1990,
          1991,
          1992,
          1993,
          1994,
          1995,
          1996,
          1997,
          1998,
          1999,
          2000,
          2001,
          2002,
          2003,
          2004,
          2005,
          2006,
          2007,
          2008,
          2009,
          2010,
          2011,
          2012,
          2013,
          2014,
          2015,
          2016,
          2017,
          2018,
          2019,
          2020,
          2021
         ],
         "xaxis": "x",
         "y": [
          1,
          1,
          1,
          1,
          1,
          1,
          1,
          1,
          1,
          1,
          1,
          1,
          0.9500000000000002,
          0.7999999999999998,
          0.75,
          0.7,
          0.6000000000000001,
          0.5,
          0.4499999999999999,
          0.3500000000000001,
          0.25,
          0.25,
          0.1999999999999999,
          0.1999999999999999,
          0.1499999999999999,
          0.1,
          0.05,
          0,
          0,
          0,
          0,
          0
         ],
         "yaxis": "y"
        },
        {
         "hovertemplate": "variable=Workers high education<br>Year=%{x}<br>value=%{y}<extra></extra>",
         "legendgroup": "Workers high education",
         "line": {
          "color": "#FECB52",
          "dash": "solid"
         },
         "marker": {
          "symbol": "circle"
         },
         "mode": "lines",
         "name": "Workers high education",
         "orientation": "v",
         "showlegend": true,
         "type": "scatter",
         "x": [
          1990,
          1991,
          1992,
          1993,
          1994,
          1995,
          1996,
          1997,
          1998,
          1999,
          2000,
          2001,
          2002,
          2003,
          2004,
          2005,
          2006,
          2007,
          2008,
          2009,
          2010,
          2011,
          2012,
          2013,
          2014,
          2015,
          2016,
          2017,
          2018,
          2019,
          2020,
          2021
         ],
         "xaxis": "x",
         "y": [
          null,
          null,
          null,
          null,
          null,
          null,
          null,
          null,
          null,
          null,
          null,
          null,
          null,
          null,
          null,
          null,
          null,
          null,
          null,
          null,
          null,
          null,
          null,
          null,
          null,
          null,
          null,
          null,
          null,
          null,
          null,
          null
         ],
         "yaxis": "y"
        }
       ],
       "layout": {
        "height": 600,
        "legend": {
         "title": {
          "text": "variable"
         },
         "tracegroupgap": 0
        },
        "template": {
         "data": {
          "bar": [
           {
            "error_x": {
             "color": "#2a3f5f"
            },
            "error_y": {
             "color": "#2a3f5f"
            },
            "marker": {
             "line": {
              "color": "#E5ECF6",
              "width": 0.5
             },
             "pattern": {
              "fillmode": "overlay",
              "size": 10,
              "solidity": 0.2
             }
            },
            "type": "bar"
           }
          ],
          "barpolar": [
           {
            "marker": {
             "line": {
              "color": "#E5ECF6",
              "width": 0.5
             },
             "pattern": {
              "fillmode": "overlay",
              "size": 10,
              "solidity": 0.2
             }
            },
            "type": "barpolar"
           }
          ],
          "carpet": [
           {
            "aaxis": {
             "endlinecolor": "#2a3f5f",
             "gridcolor": "white",
             "linecolor": "white",
             "minorgridcolor": "white",
             "startlinecolor": "#2a3f5f"
            },
            "baxis": {
             "endlinecolor": "#2a3f5f",
             "gridcolor": "white",
             "linecolor": "white",
             "minorgridcolor": "white",
             "startlinecolor": "#2a3f5f"
            },
            "type": "carpet"
           }
          ],
          "choropleth": [
           {
            "colorbar": {
             "outlinewidth": 0,
             "ticks": ""
            },
            "type": "choropleth"
           }
          ],
          "contour": [
           {
            "colorbar": {
             "outlinewidth": 0,
             "ticks": ""
            },
            "colorscale": [
             [
              0,
              "#0d0887"
             ],
             [
              0.1111111111111111,
              "#46039f"
             ],
             [
              0.2222222222222222,
              "#7201a8"
             ],
             [
              0.3333333333333333,
              "#9c179e"
             ],
             [
              0.4444444444444444,
              "#bd3786"
             ],
             [
              0.5555555555555556,
              "#d8576b"
             ],
             [
              0.6666666666666666,
              "#ed7953"
             ],
             [
              0.7777777777777778,
              "#fb9f3a"
             ],
             [
              0.8888888888888888,
              "#fdca26"
             ],
             [
              1,
              "#f0f921"
             ]
            ],
            "type": "contour"
           }
          ],
          "contourcarpet": [
           {
            "colorbar": {
             "outlinewidth": 0,
             "ticks": ""
            },
            "type": "contourcarpet"
           }
          ],
          "heatmap": [
           {
            "colorbar": {
             "outlinewidth": 0,
             "ticks": ""
            },
            "colorscale": [
             [
              0,
              "#0d0887"
             ],
             [
              0.1111111111111111,
              "#46039f"
             ],
             [
              0.2222222222222222,
              "#7201a8"
             ],
             [
              0.3333333333333333,
              "#9c179e"
             ],
             [
              0.4444444444444444,
              "#bd3786"
             ],
             [
              0.5555555555555556,
              "#d8576b"
             ],
             [
              0.6666666666666666,
              "#ed7953"
             ],
             [
              0.7777777777777778,
              "#fb9f3a"
             ],
             [
              0.8888888888888888,
              "#fdca26"
             ],
             [
              1,
              "#f0f921"
             ]
            ],
            "type": "heatmap"
           }
          ],
          "heatmapgl": [
           {
            "colorbar": {
             "outlinewidth": 0,
             "ticks": ""
            },
            "colorscale": [
             [
              0,
              "#0d0887"
             ],
             [
              0.1111111111111111,
              "#46039f"
             ],
             [
              0.2222222222222222,
              "#7201a8"
             ],
             [
              0.3333333333333333,
              "#9c179e"
             ],
             [
              0.4444444444444444,
              "#bd3786"
             ],
             [
              0.5555555555555556,
              "#d8576b"
             ],
             [
              0.6666666666666666,
              "#ed7953"
             ],
             [
              0.7777777777777778,
              "#fb9f3a"
             ],
             [
              0.8888888888888888,
              "#fdca26"
             ],
             [
              1,
              "#f0f921"
             ]
            ],
            "type": "heatmapgl"
           }
          ],
          "histogram": [
           {
            "marker": {
             "pattern": {
              "fillmode": "overlay",
              "size": 10,
              "solidity": 0.2
             }
            },
            "type": "histogram"
           }
          ],
          "histogram2d": [
           {
            "colorbar": {
             "outlinewidth": 0,
             "ticks": ""
            },
            "colorscale": [
             [
              0,
              "#0d0887"
             ],
             [
              0.1111111111111111,
              "#46039f"
             ],
             [
              0.2222222222222222,
              "#7201a8"
             ],
             [
              0.3333333333333333,
              "#9c179e"
             ],
             [
              0.4444444444444444,
              "#bd3786"
             ],
             [
              0.5555555555555556,
              "#d8576b"
             ],
             [
              0.6666666666666666,
              "#ed7953"
             ],
             [
              0.7777777777777778,
              "#fb9f3a"
             ],
             [
              0.8888888888888888,
              "#fdca26"
             ],
             [
              1,
              "#f0f921"
             ]
            ],
            "type": "histogram2d"
           }
          ],
          "histogram2dcontour": [
           {
            "colorbar": {
             "outlinewidth": 0,
             "ticks": ""
            },
            "colorscale": [
             [
              0,
              "#0d0887"
             ],
             [
              0.1111111111111111,
              "#46039f"
             ],
             [
              0.2222222222222222,
              "#7201a8"
             ],
             [
              0.3333333333333333,
              "#9c179e"
             ],
             [
              0.4444444444444444,
              "#bd3786"
             ],
             [
              0.5555555555555556,
              "#d8576b"
             ],
             [
              0.6666666666666666,
              "#ed7953"
             ],
             [
              0.7777777777777778,
              "#fb9f3a"
             ],
             [
              0.8888888888888888,
              "#fdca26"
             ],
             [
              1,
              "#f0f921"
             ]
            ],
            "type": "histogram2dcontour"
           }
          ],
          "mesh3d": [
           {
            "colorbar": {
             "outlinewidth": 0,
             "ticks": ""
            },
            "type": "mesh3d"
           }
          ],
          "parcoords": [
           {
            "line": {
             "colorbar": {
              "outlinewidth": 0,
              "ticks": ""
             }
            },
            "type": "parcoords"
           }
          ],
          "pie": [
           {
            "automargin": true,
            "type": "pie"
           }
          ],
          "scatter": [
           {
            "fillpattern": {
             "fillmode": "overlay",
             "size": 10,
             "solidity": 0.2
            },
            "type": "scatter"
           }
          ],
          "scatter3d": [
           {
            "line": {
             "colorbar": {
              "outlinewidth": 0,
              "ticks": ""
             }
            },
            "marker": {
             "colorbar": {
              "outlinewidth": 0,
              "ticks": ""
             }
            },
            "type": "scatter3d"
           }
          ],
          "scattercarpet": [
           {
            "marker": {
             "colorbar": {
              "outlinewidth": 0,
              "ticks": ""
             }
            },
            "type": "scattercarpet"
           }
          ],
          "scattergeo": [
           {
            "marker": {
             "colorbar": {
              "outlinewidth": 0,
              "ticks": ""
             }
            },
            "type": "scattergeo"
           }
          ],
          "scattergl": [
           {
            "marker": {
             "colorbar": {
              "outlinewidth": 0,
              "ticks": ""
             }
            },
            "type": "scattergl"
           }
          ],
          "scattermapbox": [
           {
            "marker": {
             "colorbar": {
              "outlinewidth": 0,
              "ticks": ""
             }
            },
            "type": "scattermapbox"
           }
          ],
          "scatterpolar": [
           {
            "marker": {
             "colorbar": {
              "outlinewidth": 0,
              "ticks": ""
             }
            },
            "type": "scatterpolar"
           }
          ],
          "scatterpolargl": [
           {
            "marker": {
             "colorbar": {
              "outlinewidth": 0,
              "ticks": ""
             }
            },
            "type": "scatterpolargl"
           }
          ],
          "scatterternary": [
           {
            "marker": {
             "colorbar": {
              "outlinewidth": 0,
              "ticks": ""
             }
            },
            "type": "scatterternary"
           }
          ],
          "surface": [
           {
            "colorbar": {
             "outlinewidth": 0,
             "ticks": ""
            },
            "colorscale": [
             [
              0,
              "#0d0887"
             ],
             [
              0.1111111111111111,
              "#46039f"
             ],
             [
              0.2222222222222222,
              "#7201a8"
             ],
             [
              0.3333333333333333,
              "#9c179e"
             ],
             [
              0.4444444444444444,
              "#bd3786"
             ],
             [
              0.5555555555555556,
              "#d8576b"
             ],
             [
              0.6666666666666666,
              "#ed7953"
             ],
             [
              0.7777777777777778,
              "#fb9f3a"
             ],
             [
              0.8888888888888888,
              "#fdca26"
             ],
             [
              1,
              "#f0f921"
             ]
            ],
            "type": "surface"
           }
          ],
          "table": [
           {
            "cells": {
             "fill": {
              "color": "#EBF0F8"
             },
             "line": {
              "color": "white"
             }
            },
            "header": {
             "fill": {
              "color": "#C8D4E3"
             },
             "line": {
              "color": "white"
             }
            },
            "type": "table"
           }
          ]
         },
         "layout": {
          "annotationdefaults": {
           "arrowcolor": "#2a3f5f",
           "arrowhead": 0,
           "arrowwidth": 1
          },
          "autotypenumbers": "strict",
          "coloraxis": {
           "colorbar": {
            "outlinewidth": 0,
            "ticks": ""
           }
          },
          "colorscale": {
           "diverging": [
            [
             0,
             "#8e0152"
            ],
            [
             0.1,
             "#c51b7d"
            ],
            [
             0.2,
             "#de77ae"
            ],
            [
             0.3,
             "#f1b6da"
            ],
            [
             0.4,
             "#fde0ef"
            ],
            [
             0.5,
             "#f7f7f7"
            ],
            [
             0.6,
             "#e6f5d0"
            ],
            [
             0.7,
             "#b8e186"
            ],
            [
             0.8,
             "#7fbc41"
            ],
            [
             0.9,
             "#4d9221"
            ],
            [
             1,
             "#276419"
            ]
           ],
           "sequential": [
            [
             0,
             "#0d0887"
            ],
            [
             0.1111111111111111,
             "#46039f"
            ],
            [
             0.2222222222222222,
             "#7201a8"
            ],
            [
             0.3333333333333333,
             "#9c179e"
            ],
            [
             0.4444444444444444,
             "#bd3786"
            ],
            [
             0.5555555555555556,
             "#d8576b"
            ],
            [
             0.6666666666666666,
             "#ed7953"
            ],
            [
             0.7777777777777778,
             "#fb9f3a"
            ],
            [
             0.8888888888888888,
             "#fdca26"
            ],
            [
             1,
             "#f0f921"
            ]
           ],
           "sequentialminus": [
            [
             0,
             "#0d0887"
            ],
            [
             0.1111111111111111,
             "#46039f"
            ],
            [
             0.2222222222222222,
             "#7201a8"
            ],
            [
             0.3333333333333333,
             "#9c179e"
            ],
            [
             0.4444444444444444,
             "#bd3786"
            ],
            [
             0.5555555555555556,
             "#d8576b"
            ],
            [
             0.6666666666666666,
             "#ed7953"
            ],
            [
             0.7777777777777778,
             "#fb9f3a"
            ],
            [
             0.8888888888888888,
             "#fdca26"
            ],
            [
             1,
             "#f0f921"
            ]
           ]
          },
          "colorway": [
           "#636efa",
           "#EF553B",
           "#00cc96",
           "#ab63fa",
           "#FFA15A",
           "#19d3f3",
           "#FF6692",
           "#B6E880",
           "#FF97FF",
           "#FECB52"
          ],
          "font": {
           "color": "#2a3f5f"
          },
          "geo": {
           "bgcolor": "white",
           "lakecolor": "white",
           "landcolor": "#E5ECF6",
           "showlakes": true,
           "showland": true,
           "subunitcolor": "white"
          },
          "hoverlabel": {
           "align": "left"
          },
          "hovermode": "closest",
          "mapbox": {
           "style": "light"
          },
          "paper_bgcolor": "white",
          "plot_bgcolor": "#E5ECF6",
          "polar": {
           "angularaxis": {
            "gridcolor": "white",
            "linecolor": "white",
            "ticks": ""
           },
           "bgcolor": "#E5ECF6",
           "radialaxis": {
            "gridcolor": "white",
            "linecolor": "white",
            "ticks": ""
           }
          },
          "scene": {
           "xaxis": {
            "backgroundcolor": "#E5ECF6",
            "gridcolor": "white",
            "gridwidth": 2,
            "linecolor": "white",
            "showbackground": true,
            "ticks": "",
            "zerolinecolor": "white"
           },
           "yaxis": {
            "backgroundcolor": "#E5ECF6",
            "gridcolor": "white",
            "gridwidth": 2,
            "linecolor": "white",
            "showbackground": true,
            "ticks": "",
            "zerolinecolor": "white"
           },
           "zaxis": {
            "backgroundcolor": "#E5ECF6",
            "gridcolor": "white",
            "gridwidth": 2,
            "linecolor": "white",
            "showbackground": true,
            "ticks": "",
            "zerolinecolor": "white"
           }
          },
          "shapedefaults": {
           "line": {
            "color": "#2a3f5f"
           }
          },
          "ternary": {
           "aaxis": {
            "gridcolor": "white",
            "linecolor": "white",
            "ticks": ""
           },
           "baxis": {
            "gridcolor": "white",
            "linecolor": "white",
            "ticks": ""
           },
           "bgcolor": "#E5ECF6",
           "caxis": {
            "gridcolor": "white",
            "linecolor": "white",
            "ticks": ""
           }
          },
          "title": {
           "x": 0.05
          },
          "xaxis": {
           "automargin": true,
           "gridcolor": "white",
           "linecolor": "white",
           "ticks": "",
           "title": {
            "standoff": 15
           },
           "zerolinecolor": "white",
           "zerolinewidth": 2
          },
          "yaxis": {
           "automargin": true,
           "gridcolor": "white",
           "linecolor": "white",
           "ticks": "",
           "title": {
            "standoff": 15
           },
           "zerolinecolor": "white",
           "zerolinewidth": 2
          }
         }
        },
        "title": {
         "text": "DZA"
        },
        "width": 800,
        "xaxis": {
         "anchor": "y",
         "domain": [
          0,
          1
         ],
         "title": {
          "text": "Year"
         }
        },
        "yaxis": {
         "anchor": "x",
         "domain": [
          0,
          1
         ],
         "title": {
          "text": "value"
         }
        }
       }
      }
     },
     "metadata": {},
     "output_type": "display_data"
    },
    {
     "data": {
      "application/vnd.plotly.v1+json": {
       "config": {
        "plotlyServerURL": "https://plot.ly"
       },
       "data": [
        {
         "hovertemplate": "variable=Alcohol per capita<br>Year=%{x}<br>value=%{y}<extra></extra>",
         "legendgroup": "Alcohol per capita",
         "line": {
          "color": "#636efa",
          "dash": "solid"
         },
         "marker": {
          "symbol": "circle"
         },
         "mode": "lines",
         "name": "Alcohol per capita",
         "orientation": "v",
         "showlegend": true,
         "type": "scatter",
         "x": [
          1990,
          1991,
          1992,
          1993,
          1994,
          1995,
          1996,
          1997,
          1998,
          1999,
          2000,
          2001,
          2002,
          2003,
          2004,
          2005,
          2006,
          2007,
          2008,
          2009,
          2010,
          2011,
          2012,
          2013,
          2014,
          2015,
          2016,
          2017,
          2018,
          2019,
          2020
         ],
         "xaxis": "x",
         "y": [
          0,
          0,
          0,
          0,
          0,
          0,
          0,
          0,
          0,
          0,
          0,
          0.0533333333333333,
          0.1066666666666667,
          0.1599999999999997,
          0.2133333333333331,
          0.2666666666666665,
          0.3599999999999999,
          0.4533333333333333,
          0.5466666666666663,
          0.6399999999999997,
          0.7333333333333332,
          0.7866666666666665,
          0.8399999999999999,
          0.8933333333333332,
          0.9466666666666668,
          1,
          0.9111111111111108,
          0.8222222222222222,
          0.7333333333333332,
          0.7333333333333332,
          0.7333333333333332
         ],
         "yaxis": "y"
        },
        {
         "hovertemplate": "variable=Education GExp<br>Year=%{x}<br>value=%{y}<extra></extra>",
         "legendgroup": "Education GExp",
         "line": {
          "color": "#EF553B",
          "dash": "solid"
         },
         "marker": {
          "symbol": "circle"
         },
         "mode": "lines",
         "name": "Education GExp",
         "orientation": "v",
         "showlegend": true,
         "type": "scatter",
         "x": [
          1990,
          1991,
          1992,
          1993,
          1994,
          1995,
          1996,
          1997,
          1998,
          1999,
          2000,
          2001,
          2002,
          2003,
          2004,
          2005,
          2006,
          2007,
          2008,
          2009,
          2010,
          2011,
          2012,
          2013,
          2014,
          2015,
          2016,
          2017,
          2018,
          2019,
          2020
         ],
         "xaxis": "x",
         "y": [
          1,
          1,
          1,
          1,
          1,
          1,
          1,
          1,
          1,
          1,
          1,
          1,
          1,
          1,
          0.8632252274656304,
          0.9300944462164704,
          0.0174122709800818,
          0.0607331880869112,
          0,
          0,
          0,
          0,
          0,
          0,
          0,
          0,
          0,
          0,
          0,
          0,
          0
         ],
         "yaxis": "y"
        },
        {
         "hovertemplate": "variable=Employment-agriculture<br>Year=%{x}<br>value=%{y}<extra></extra>",
         "legendgroup": "Employment-agriculture",
         "line": {
          "color": "#00cc96",
          "dash": "solid"
         },
         "marker": {
          "symbol": "circle"
         },
         "mode": "lines",
         "name": "Employment-agriculture",
         "orientation": "v",
         "showlegend": true,
         "type": "scatter",
         "x": [
          1990,
          1991,
          1992,
          1993,
          1994,
          1995,
          1996,
          1997,
          1998,
          1999,
          2000,
          2001,
          2002,
          2003,
          2004,
          2005,
          2006,
          2007,
          2008,
          2009,
          2010,
          2011,
          2012,
          2013,
          2014,
          2015,
          2016,
          2017,
          2018,
          2019,
          2020
         ],
         "xaxis": "x",
         "y": [
          1,
          1,
          1,
          1,
          0.9919295229837638,
          0.9046222204559026,
          0.8114453783253011,
          0.7131326890423064,
          0.5972119407011921,
          0.5165077302888952,
          0.5847394489204262,
          0.5047689309584618,
          0.4299339802738504,
          0.6023477878535929,
          0.7461481496200896,
          0.6808510608523941,
          0.7021275821622198,
          0.7410124424052126,
          0.7358767351903428,
          0.6089507400316256,
          0.4856933470621389,
          0.5561261430447039,
          0.3969185196960673,
          0.4622156084637624,
          0.4321349176873461,
          0.3052090624661528,
          0.2868671710201699,
          0.248716003227517,
          0,
          0,
          0
         ],
         "yaxis": "y"
        },
        {
         "hovertemplate": "variable=Employment-industry<br>Year=%{x}<br>value=%{y}<extra></extra>",
         "legendgroup": "Employment-industry",
         "line": {
          "color": "#ab63fa",
          "dash": "solid"
         },
         "marker": {
          "symbol": "circle"
         },
         "mode": "lines",
         "name": "Employment-industry",
         "orientation": "v",
         "showlegend": true,
         "type": "scatter",
         "x": [
          1990,
          1991,
          1992,
          1993,
          1994,
          1995,
          1996,
          1997,
          1998,
          1999,
          2000,
          2001,
          2002,
          2003,
          2004,
          2005,
          2006,
          2007,
          2008,
          2009,
          2010,
          2011,
          2012,
          2013,
          2014,
          2015,
          2016,
          2017,
          2018,
          2019,
          2020
         ],
         "xaxis": "x",
         "y": [
          0.2211404776754031,
          0.2211404776754031,
          0.2392210272039905,
          0.268428395246116,
          0.2420027318323785,
          0.297635498010278,
          0.3254520137382169,
          0.3560499688165798,
          0.3477051202093794,
          0.3936021854659058,
          0.2155770684186271,
          0.2114047767540156,
          0.1126563846700142,
          0,
          0.0292071027641757,
          0.2447844364607527,
          0.328233718366605,
          0.3351877146596039,
          0.4394992507224178,
          0.5577190446491942,
          0.7830318139892226,
          0.5312933812354567,
          0.7107093505969224,
          0.6063978145341086,
          0.6467314705338584,
          0.7413073056752852,
          0.7997217764815727,
          0.9471486731725248,
          0.9902642990786126,
          1,
          1
         ],
         "yaxis": "y"
        },
        {
         "hovertemplate": "variable=Employment-services<br>Year=%{x}<br>value=%{y}<extra></extra>",
         "legendgroup": "Employment-services",
         "line": {
          "color": "#FFA15A",
          "dash": "solid"
         },
         "marker": {
          "symbol": "circle"
         },
         "mode": "lines",
         "name": "Employment-services",
         "orientation": "v",
         "showlegend": true,
         "type": "scatter",
         "x": [
          1990,
          1991,
          1992,
          1993,
          1994,
          1995,
          1996,
          1997,
          1998,
          1999,
          2000,
          2001,
          2002,
          2003,
          2004,
          2005,
          2006,
          2007,
          2008,
          2009,
          2010,
          2011,
          2012,
          2013,
          2014,
          2015,
          2016,
          2017,
          2018,
          2019,
          2020
         ],
         "xaxis": "x",
         "y": [
          0,
          0,
          0,
          0,
          0.032908857064641,
          0.115711291344119,
          0.2303607845805197,
          0.3492570652904557,
          0.5233546988818348,
          0.6050957400109125,
          0.6422505746344407,
          0.7611464503870579,
          0.944798242161238,
          0.7813165648603894,
          0.5509553753225509,
          0.480891683634371,
          0.3864118999139839,
          0.324840973258237,
          0.2526540903119595,
          0.3471338740323474,
          0.352441649698953,
          0.4426750509031349,
          0.5360934414731331,
          0.5212315076237266,
          0.5339702502150249,
          0.6454351590429388,
          0.6263268426773151,
          0.570063691688164,
          0.8970278562045085,
          1,
          1
         ],
         "yaxis": "y"
        },
        {
         "hovertemplate": "variable=Exports-Commercial services<br>Year=%{x}<br>value=%{y}<extra></extra>",
         "legendgroup": "Exports-Commercial services",
         "line": {
          "color": "#19d3f3",
          "dash": "solid"
         },
         "marker": {
          "symbol": "circle"
         },
         "mode": "lines",
         "name": "Exports-Commercial services",
         "orientation": "v",
         "showlegend": true,
         "type": "scatter",
         "x": [
          1990,
          1991,
          1992,
          1993,
          1994,
          1995,
          1996,
          1997,
          1998,
          1999,
          2000,
          2001,
          2002,
          2003,
          2004,
          2005,
          2006,
          2007,
          2008,
          2009,
          2010,
          2011,
          2012,
          2013,
          2014,
          2015,
          2016,
          2017,
          2018,
          2019,
          2020
         ],
         "xaxis": "x",
         "y": [
          0,
          0.0668593963263846,
          0.1128929091266223,
          0.1140009367870219,
          0.1450760761718651,
          0.173733700661291,
          0.2148818187770396,
          0.2157581679266284,
          0.1520767963898444,
          0.2248037028269814,
          0.2455036741189921,
          0.2015955598309754,
          0.2172993336724569,
          0.30344344777916,
          0.4650643915165373,
          0.4853261882337535,
          0.5550815659452735,
          0.7477726125781285,
          1,
          0.8305019868950547,
          0.9471370076202084,
          0.7160880579800656,
          0.8321992838112122,
          0.6582137586816486,
          0.7780872420687883,
          0.6688407512427538,
          0.4279202824463236,
          0.6950405689218387,
          0.9116297575937669,
          0.979128788069564,
          0.4816797699331658
         ],
         "yaxis": "y"
        },
        {
         "hovertemplate": "variable=Exports-G&S<br>Year=%{x}<br>value=%{y}<extra></extra>",
         "legendgroup": "Exports-G&S",
         "line": {
          "color": "#FF6692",
          "dash": "solid"
         },
         "marker": {
          "symbol": "circle"
         },
         "mode": "lines",
         "name": "Exports-G&S",
         "orientation": "v",
         "showlegend": true,
         "type": "scatter",
         "x": [
          1990,
          1991,
          1992,
          1993,
          1994,
          1995,
          1996,
          1997,
          1998,
          1999,
          2000,
          2001,
          2002,
          2003,
          2004,
          2005,
          2006,
          2007,
          2008,
          2009,
          2010,
          2011,
          2012,
          2013,
          2014,
          2015,
          2016,
          2017,
          2018,
          2019,
          2020
         ],
         "xaxis": "x",
         "y": [
          0,
          0.0337584461121287,
          0.0696413183732862,
          0.0729494687333423,
          0.0658310292605986,
          0.1069216970402429,
          0.117303083011224,
          0.1338561206518175,
          0.1111192633959417,
          0.10888543009922,
          0.1648471625093528,
          0.1809466701781653,
          0.151985178504642,
          0.1942587248382298,
          0.2994769873097134,
          0.4093010819120412,
          0.5199716010714293,
          0.6816343713209212,
          1,
          0.8536143827809778,
          0.8435432714636907,
          0.8831787280792756,
          0.8216862742754951,
          0.8953484435147705,
          0.7720265327447013,
          0.769668548178344,
          0.5692200392356224,
          0.6335187287582785,
          0.854071181639825,
          0.9831527329904608,
          0.8684341832923113
         ],
         "yaxis": "y"
        },
        {
         "hovertemplate": "variable=Fertility rate<br>Year=%{x}<br>value=%{y}<extra></extra>",
         "legendgroup": "Fertility rate",
         "line": {
          "color": "#B6E880",
          "dash": "solid"
         },
         "marker": {
          "symbol": "circle"
         },
         "mode": "lines",
         "name": "Fertility rate",
         "orientation": "v",
         "showlegend": true,
         "type": "scatter",
         "x": [
          1990,
          1991,
          1992,
          1993,
          1994,
          1995,
          1996,
          1997,
          1998,
          1999,
          2000,
          2001,
          2002,
          2003,
          2004,
          2005,
          2006,
          2007,
          2008,
          2009,
          2010,
          2011,
          2012,
          2013,
          2014,
          2015,
          2016,
          2017,
          2018,
          2019,
          2020
         ],
         "xaxis": "x",
         "y": [
          1,
          1,
          1,
          1,
          0.8752293577981655,
          0.7623853211009175,
          0.6605504587155966,
          0.5651376146788992,
          0.4733944954128441,
          0.3844036697247707,
          0.3,
          0.2201834862385323,
          0.1467889908256882,
          0.0853211009174311,
          0.0357798165137616,
          0.0055045871559635,
          0,
          0.0220183486238532,
          0.0660550458715597,
          0.1293577981651376,
          0.2018348623853213,
          0.2733944954128441,
          0.3339449541284403,
          0.3743119266055045,
          0.3926605504587155,
          0.3880733944954129,
          0.3642201834862388,
          0.3275229357798167,
          0.2871559633027525,
          0.2449541284403669,
          0.204587155963303
         ],
         "yaxis": "y"
        },
        {
         "hovertemplate": "variable=Foreign investment<br>Year=%{x}<br>value=%{y}<extra></extra>",
         "legendgroup": "Foreign investment",
         "line": {
          "color": "#FF97FF",
          "dash": "solid"
         },
         "marker": {
          "symbol": "circle"
         },
         "mode": "lines",
         "name": "Foreign investment",
         "orientation": "v",
         "showlegend": true,
         "type": "scatter",
         "x": [
          1990,
          1991,
          1992,
          1993,
          1994,
          1995,
          1996,
          1997,
          1998,
          1999,
          2000,
          2001,
          2002,
          2003,
          2004,
          2005,
          2006,
          2007,
          2008,
          2009,
          2010,
          2011,
          2012,
          2013,
          2014,
          2015,
          2016,
          2017,
          2018,
          2019,
          2020
         ],
         "xaxis": "x",
         "y": [
          0.8477561036476313,
          0.8919269641891611,
          0.8699663103606039,
          0.8668053071580085,
          0.8069126148983072,
          0.8658070956203469,
          0.8553258744748992,
          0.844482801647049,
          0.8220521565528428,
          0.8223183462962192,
          0.8093249594476563,
          0.8664309778313855,
          0.8563157675830804,
          0.889789127812669,
          0.8167782722621969,
          0.4683026244645011,
          0.0847564779769579,
          0,
          0.2777440419248845,
          0.3970303206754564,
          0.4744166701326789,
          1,
          0.6926506675539658,
          0.5841284365511792,
          0.5451732312939317,
          0.346861872478476,
          0.2506425986773697,
          0.3080813542403194,
          0.2574960695420704,
          0.1920086511666597,
          0.4481969804100986
         ],
         "yaxis": "y"
        },
        {
         "hovertemplate": "variable=GDP<br>Year=%{x}<br>value=%{y}<extra></extra>",
         "legendgroup": "GDP",
         "line": {
          "color": "#FECB52",
          "dash": "solid"
         },
         "marker": {
          "symbol": "circle"
         },
         "mode": "lines",
         "name": "GDP",
         "orientation": "v",
         "showlegend": true,
         "type": "scatter",
         "x": [
          1990,
          1991,
          1992,
          1993,
          1994,
          1995,
          1996,
          1997,
          1998,
          1999,
          2000,
          2001,
          2002,
          2003,
          2004,
          2005,
          2006,
          2007,
          2008,
          2009,
          2010,
          2011,
          2012,
          2013,
          2014,
          2015,
          2016,
          2017,
          2018,
          2019,
          2020
         ],
         "xaxis": "x",
         "y": [
          0.0170529973593894,
          0,
          0.0136280254158404,
          0.0280322698487374,
          0.0442564930655488,
          0.0694536514527409,
          0.0922388714084141,
          0.1252002039531595,
          0.1446967436752272,
          0.1626367512193693,
          0.1904770034865357,
          0.1808574661064294,
          0.1456643981637237,
          0.1308485177820335,
          0.1262551794972703,
          0.1592510898145188,
          0.2136192946205946,
          0.2838059702771845,
          0.382567264525271,
          0.4628711655201443,
          0.5538741010938294,
          0.6057430609482085,
          0.7372820115882328,
          0.7657005592340989,
          0.8180431699506916,
          0.8905461249856474,
          0.8999254204553044,
          0.6049623204908459,
          0.6475997221104899,
          0.8103737184627561,
          1
         ],
         "yaxis": "y"
        },
        {
         "hovertemplate": "variable=Health services use<br>Year=%{x}<br>value=%{y}<extra></extra>",
         "legendgroup": "Health services use",
         "line": {
          "color": "#636efa",
          "dash": "solid"
         },
         "marker": {
          "symbol": "circle"
         },
         "mode": "lines",
         "name": "Health services use",
         "orientation": "v",
         "showlegend": true,
         "type": "scatter",
         "x": [
          1990,
          1991,
          1992,
          1993,
          1994,
          1995,
          1996,
          1997,
          1998,
          1999,
          2000,
          2001,
          2002,
          2003,
          2004,
          2005,
          2006,
          2007,
          2008,
          2009,
          2010,
          2011,
          2012,
          2013,
          2014,
          2015,
          2016,
          2017,
          2018,
          2019,
          2020
         ],
         "xaxis": "x",
         "y": [
          0,
          0,
          0,
          0,
          0,
          0,
          0,
          0,
          0,
          0,
          0,
          0.0498621405466914,
          0.0997725215992564,
          0.1497335689089398,
          0.1997431279161639,
          0.2498031468751891,
          0.299911188388498,
          0.3496944953469995,
          0.3993156746084675,
          0.4490157390344584,
          0.4987769613412992,
          0.5486168225772805,
          0.5982350969267559,
          0.6479428013045629,
          0.6977234495864518,
          0.7475855252467958,
          0.7975367480975318,
          0.8477645015997637,
          0.8982560464000353,
          0.94900568414578,
          1
         ],
         "yaxis": "y"
        },
        {
         "hovertemplate": "variable=International taxes<br>Year=%{x}<br>value=%{y}<extra></extra>",
         "legendgroup": "International taxes",
         "line": {
          "color": "#EF553B",
          "dash": "solid"
         },
         "marker": {
          "symbol": "circle"
         },
         "mode": "lines",
         "name": "International taxes",
         "orientation": "v",
         "showlegend": true,
         "type": "scatter",
         "x": [
          1990,
          1991,
          1992,
          1993,
          1994,
          1995,
          1996,
          1997,
          1998,
          1999,
          2000,
          2001,
          2002,
          2003,
          2004,
          2005,
          2006,
          2007,
          2008,
          2009,
          2010,
          2011,
          2012,
          2013,
          2014,
          2015,
          2016,
          2017,
          2018,
          2019,
          2020
         ],
         "xaxis": "x",
         "y": [
          0,
          0.0203420437646059,
          0.1010197578075207,
          0.1268854896961971,
          0.1883365200764818,
          0.229073719991502,
          0.2770342043764606,
          0.2879222434671765,
          0.2755576800509879,
          0.2631931166347992,
          0.2508285532186106,
          0.2384639898024219,
          0.2260994263862332,
          0.275812619502868,
          0.3290312300828553,
          0.2499468876141916,
          0.3513171871680476,
          0.38934034416826,
          0.583280220947525,
          0.5869980879541109,
          0.6194816231145103,
          0.5746175908221798,
          0.6240174208625452,
          0.7293392819205439,
          0.777246653919694,
          1,
          1,
          1,
          1,
          1,
          1
         ],
         "yaxis": "y"
        },
        {
         "hovertemplate": "variable=Literacy rate<br>Year=%{x}<br>value=%{y}<extra></extra>",
         "legendgroup": "Literacy rate",
         "line": {
          "color": "#00cc96",
          "dash": "solid"
         },
         "marker": {
          "symbol": "circle"
         },
         "mode": "lines",
         "name": "Literacy rate",
         "orientation": "v",
         "showlegend": true,
         "type": "scatter",
         "x": [
          1990,
          1991,
          1992,
          1993,
          1994,
          1995,
          1996,
          1997,
          1998,
          1999,
          2000,
          2001,
          2002,
          2003,
          2004,
          2005,
          2006,
          2007,
          2008,
          2009,
          2010,
          2011,
          2012,
          2013,
          2014,
          2015,
          2016,
          2017,
          2018,
          2019,
          2020
         ],
         "xaxis": "x",
         "y": [
          0.1283352027636243,
          0.1283352027636243,
          0.1283352027636243,
          0.1283352027636243,
          0.1283352027636243,
          0.1283352027636243,
          0.1283352027636243,
          0.1283352027636243,
          0.1283352027636243,
          0.1283352027636243,
          0.1283352027636243,
          0.1283352027636243,
          0.1283352027636243,
          0.1283352027636243,
          0.1283352027636243,
          0.1283352027636243,
          0,
          0.1893737137064171,
          0.3787474274128362,
          0.5681211411192534,
          0.7574948548256705,
          0.8787474274128353,
          1,
          0.8101445941571987,
          0.7676452506631214,
          0.7251459071690441,
          0.6826465636749688,
          0.6401472201808915,
          0.6401472201808915,
          0.6401472201808915,
          0.6401472201808915
         ],
         "yaxis": "y"
        },
        {
         "hovertemplate": "variable=Mortality-infants<br>Year=%{x}<br>value=%{y}<extra></extra>",
         "legendgroup": "Mortality-infants",
         "line": {
          "color": "#ab63fa",
          "dash": "solid"
         },
         "marker": {
          "symbol": "circle"
         },
         "mode": "lines",
         "name": "Mortality-infants",
         "orientation": "v",
         "showlegend": true,
         "type": "scatter",
         "x": [
          1990,
          1991,
          1992,
          1993,
          1994,
          1995,
          1996,
          1997,
          1998,
          1999,
          2000,
          2001,
          2002,
          2003,
          2004,
          2005,
          2006,
          2007,
          2008,
          2009,
          2010,
          2011,
          2012,
          2013,
          2014,
          2015,
          2016,
          2017,
          2018,
          2019,
          2020
         ],
         "xaxis": "x",
         "y": [
          1,
          1,
          1,
          0.906177336216849,
          0.8154278931364738,
          0.727328899656905,
          0.6440104717149873,
          0.5677978503715507,
          0.4974064618936893,
          0.4336005463503471,
          0.3757622075155694,
          0.324493081188312,
          0.2806549699995121,
          0.2430933836322542,
          0.212149791053513,
          0.1886209531862306,
          0.1733849330883429,
          0.1648807297679637,
          0.16328720792208,
          0.1662953869168604,
          0.1711247337355079,
          0.1747020276752467,
          0.1742142148652823,
          0.168067773459731,
          0.1555147238166474,
          0.1358721280020813,
          0.1132538740467324,
          0.0858387941267337,
          0.0567488902258573,
          0.027382559066001,
          0
         ],
         "yaxis": "y"
        },
        {
         "hovertemplate": "variable=Net migration<br>Year=%{x}<br>value=%{y}<extra></extra>",
         "legendgroup": "Net migration",
         "line": {
          "color": "#FFA15A",
          "dash": "solid"
         },
         "marker": {
          "symbol": "circle"
         },
         "mode": "lines",
         "name": "Net migration",
         "orientation": "v",
         "showlegend": true,
         "type": "scatter",
         "x": [
          1990,
          1991,
          1992,
          1993,
          1994,
          1995,
          1996,
          1997,
          1998,
          1999,
          2000,
          2001,
          2002,
          2003,
          2004,
          2005,
          2006,
          2007,
          2008,
          2009,
          2010,
          2011,
          2012,
          2013,
          2014,
          2015,
          2016,
          2017,
          2018,
          2019,
          2020
         ],
         "xaxis": "x",
         "y": [
          0.3475412344757997,
          0.3475412344757997,
          0.3475412344757997,
          0.3475412344757997,
          0.3475412344757997,
          0.3475412344757997,
          0.3475412344757997,
          0.3475412344757997,
          0.4780329875806398,
          0.6085247406854798,
          0.7390164937903199,
          0.8695082468951599,
          1,
          0.8,
          0.6,
          0.3999999999999999,
          0.1999999999999999,
          0,
          0.002514478095156,
          0.0050289561903121,
          0.0075434342854684,
          0.0100579123806245,
          0.0125723904757805,
          0.0993979216580826,
          0.1862234528403847,
          0.2730489840226867,
          0.3598745152049888,
          0.4467000463872908,
          0.4467000463872908,
          0.4467000463872908,
          0.4467000463872908
         ],
         "yaxis": "y"
        },
        {
         "hovertemplate": "variable=Ninis<br>Year=%{x}<br>value=%{y}<extra></extra>",
         "legendgroup": "Ninis",
         "line": {
          "color": "#19d3f3",
          "dash": "solid"
         },
         "marker": {
          "symbol": "circle"
         },
         "mode": "lines",
         "name": "Ninis",
         "orientation": "v",
         "showlegend": true,
         "type": "scatter",
         "x": [
          1990,
          1991,
          1992,
          1993,
          1994,
          1995,
          1996,
          1997,
          1998,
          1999,
          2000,
          2001,
          2002,
          2003,
          2004,
          2005,
          2006,
          2007,
          2008,
          2009,
          2010,
          2011,
          2012,
          2013,
          2014,
          2015,
          2016,
          2017,
          2018,
          2019,
          2020
         ],
         "xaxis": "x",
         "y": [
          0.4466018188939122,
          0.4466018188939122,
          0.4466018188939122,
          0.4466018188939122,
          0.4466018188939122,
          0.4466018188939122,
          0.4466018188939122,
          0.4466018188939122,
          0.4466018188939122,
          0.4466018188939122,
          0.4466018188939122,
          0.4466018188939122,
          0.4466018188939122,
          0.4466018188939122,
          0.4466018188939122,
          0.4466018188939122,
          0.4466018188939122,
          0.4466018188939122,
          0.4466018188939122,
          0.4854367194109081,
          1,
          0.8414234617994919,
          0.7524268533604251,
          0.242718359705454,
          0.1788026052274311,
          0.1148868507494081,
          0.1148868507494081,
          0,
          0.0307444119797477,
          0.1715208877747978,
          0.5323624170974858
         ],
         "yaxis": "y"
        },
        {
         "hovertemplate": "variable=R&D GExp<br>Year=%{x}<br>value=%{y}<extra></extra>",
         "legendgroup": "R&D GExp",
         "line": {
          "color": "#FF6692",
          "dash": "solid"
         },
         "marker": {
          "symbol": "circle"
         },
         "mode": "lines",
         "name": "R&D GExp",
         "orientation": "v",
         "showlegend": true,
         "type": "scatter",
         "x": [
          1990,
          1991,
          1992,
          1993,
          1994,
          1995,
          1996,
          1997,
          1998,
          1999,
          2000,
          2001,
          2002,
          2003,
          2004,
          2005,
          2006,
          2007,
          2008,
          2009,
          2010,
          2011,
          2012,
          2013,
          2014,
          2015,
          2016,
          2017,
          2018,
          2019,
          2020
         ],
         "xaxis": "x",
         "y": [
          0.0485512775182835,
          0.0485512775182835,
          0.0485512775182835,
          0.0485512775182835,
          0.0485512775182835,
          0.0485512775182835,
          0.0485512775182835,
          0.0205631129389433,
          0.0234289223440087,
          0,
          0.0110910545806427,
          0.0471323296797365,
          0.0831736047788302,
          0.119214879877924,
          0.1552561549770177,
          0.1021642443753838,
          0.1349535701658075,
          0.1276401734372964,
          0.155814429536446,
          0.4589202970020657,
          0.4595343990174368,
          0.6420715707985188,
          0.6001079330814897,
          0.8419524722258408,
          0.8373746208385285,
          0.9901371494500998,
          0.971341905949346,
          0.9172451011407412,
          1,
          1,
          1
         ],
         "yaxis": "y"
        },
        {
         "hovertemplate": "variable=Renewable electricity<br>Year=%{x}<br>value=%{y}<extra></extra>",
         "legendgroup": "Renewable electricity",
         "line": {
          "color": "#B6E880",
          "dash": "solid"
         },
         "marker": {
          "symbol": "circle"
         },
         "mode": "lines",
         "name": "Renewable electricity",
         "orientation": "v",
         "showlegend": true,
         "type": "scatter",
         "x": [
          1990,
          1991,
          1992,
          1993,
          1994,
          1995,
          1996,
          1997,
          1998,
          1999,
          2000,
          2001,
          2002,
          2003,
          2004,
          2005,
          2006,
          2007,
          2008,
          2009,
          2010,
          2011,
          2012,
          2013,
          2014,
          2015,
          2016,
          2017,
          2018,
          2019,
          2020
         ],
         "xaxis": "x",
         "y": [
          0,
          0,
          0,
          0,
          0,
          0,
          0,
          0,
          0,
          0.0137378362907842,
          0.0784201488265598,
          0.1265025758443045,
          0.1167716084716657,
          0.2106468231253577,
          0.2993703491700057,
          0.3159702346880366,
          0.3526044647967945,
          0.475672581568403,
          0.522610188895249,
          0.6485403548941042,
          0.9753863766456784,
          1,
          0.8568975386376646,
          0.900973096737264,
          0.9679450486548368,
          0.914710933028048,
          0.914710933028048,
          0.914710933028048,
          0.914710933028048,
          0.914710933028048,
          0.914710933028048
         ],
         "yaxis": "y"
        },
        {
         "hovertemplate": "variable=Suicide<br>Year=%{x}<br>value=%{y}<extra></extra>",
         "legendgroup": "Suicide",
         "line": {
          "color": "#FF97FF",
          "dash": "solid"
         },
         "marker": {
          "symbol": "circle"
         },
         "mode": "lines",
         "name": "Suicide",
         "orientation": "v",
         "showlegend": true,
         "type": "scatter",
         "x": [
          1990,
          1991,
          1992,
          1993,
          1994,
          1995,
          1996,
          1997,
          1998,
          1999,
          2000,
          2001,
          2002,
          2003,
          2004,
          2005,
          2006,
          2007,
          2008,
          2009,
          2010,
          2011,
          2012,
          2013,
          2014,
          2015,
          2016,
          2017,
          2018,
          2019,
          2020
         ],
         "xaxis": "x",
         "y": [
          0.2500000000000003,
          0.2500000000000003,
          0.2500000000000003,
          0.2500000000000003,
          0.2500000000000003,
          0.2500000000000003,
          0.2500000000000003,
          0.2500000000000003,
          0.2500000000000003,
          0.2500000000000003,
          0.2500000000000003,
          0.5000000000000006,
          0.5000000000000006,
          0.5000000000000006,
          0.2500000000000003,
          0.2500000000000003,
          0.2500000000000003,
          0.2500000000000003,
          0.2500000000000003,
          0.2500000000000003,
          0.5000000000000006,
          0.7499999999999997,
          1,
          1,
          0.7499999999999997,
          0.7499999999999997,
          0.5000000000000006,
          0,
          0,
          0,
          0
         ],
         "yaxis": "y"
        },
        {
         "hovertemplate": "variable=Workers high education<br>Year=%{x}<br>value=%{y}<extra></extra>",
         "legendgroup": "Workers high education",
         "line": {
          "color": "#FECB52",
          "dash": "solid"
         },
         "marker": {
          "symbol": "circle"
         },
         "mode": "lines",
         "name": "Workers high education",
         "orientation": "v",
         "showlegend": true,
         "type": "scatter",
         "x": [
          1990,
          1991,
          1992,
          1993,
          1994,
          1995,
          1996,
          1997,
          1998,
          1999,
          2000,
          2001,
          2002,
          2003,
          2004,
          2005,
          2006,
          2007,
          2008,
          2009,
          2010,
          2011,
          2012,
          2013,
          2014,
          2015,
          2016,
          2017,
          2018,
          2019,
          2020
         ],
         "xaxis": "x",
         "y": [
          0.4534902976644561,
          0.4534902976644561,
          0.4534902976644561,
          0.4534902976644561,
          0.4534902976644561,
          0.4534902976644561,
          0.4534902976644561,
          0.4534902976644561,
          0.4534902976644561,
          0.4534902976644561,
          0.4534902976644561,
          0.4534902976644561,
          0.4534902976644561,
          0.4534902976644561,
          0.4534902976644561,
          0.4534902976644561,
          0.4534902976644561,
          0.4534902976644561,
          0.4534902976644561,
          0.5387590709888086,
          0.922481858022427,
          0.8372101275704824,
          0.7558151913557428,
          0.6899215178344299,
          0,
          0.2984510565816738,
          1,
          0.2829468367606165,
          0.2829468367606165,
          0.2829468367606165,
          0.2829468367606165
         ],
         "yaxis": "y"
        }
       ],
       "layout": {
        "height": 600,
        "legend": {
         "title": {
          "text": "variable"
         },
         "tracegroupgap": 0
        },
        "template": {
         "data": {
          "bar": [
           {
            "error_x": {
             "color": "#2a3f5f"
            },
            "error_y": {
             "color": "#2a3f5f"
            },
            "marker": {
             "line": {
              "color": "#E5ECF6",
              "width": 0.5
             },
             "pattern": {
              "fillmode": "overlay",
              "size": 10,
              "solidity": 0.2
             }
            },
            "type": "bar"
           }
          ],
          "barpolar": [
           {
            "marker": {
             "line": {
              "color": "#E5ECF6",
              "width": 0.5
             },
             "pattern": {
              "fillmode": "overlay",
              "size": 10,
              "solidity": 0.2
             }
            },
            "type": "barpolar"
           }
          ],
          "carpet": [
           {
            "aaxis": {
             "endlinecolor": "#2a3f5f",
             "gridcolor": "white",
             "linecolor": "white",
             "minorgridcolor": "white",
             "startlinecolor": "#2a3f5f"
            },
            "baxis": {
             "endlinecolor": "#2a3f5f",
             "gridcolor": "white",
             "linecolor": "white",
             "minorgridcolor": "white",
             "startlinecolor": "#2a3f5f"
            },
            "type": "carpet"
           }
          ],
          "choropleth": [
           {
            "colorbar": {
             "outlinewidth": 0,
             "ticks": ""
            },
            "type": "choropleth"
           }
          ],
          "contour": [
           {
            "colorbar": {
             "outlinewidth": 0,
             "ticks": ""
            },
            "colorscale": [
             [
              0,
              "#0d0887"
             ],
             [
              0.1111111111111111,
              "#46039f"
             ],
             [
              0.2222222222222222,
              "#7201a8"
             ],
             [
              0.3333333333333333,
              "#9c179e"
             ],
             [
              0.4444444444444444,
              "#bd3786"
             ],
             [
              0.5555555555555556,
              "#d8576b"
             ],
             [
              0.6666666666666666,
              "#ed7953"
             ],
             [
              0.7777777777777778,
              "#fb9f3a"
             ],
             [
              0.8888888888888888,
              "#fdca26"
             ],
             [
              1,
              "#f0f921"
             ]
            ],
            "type": "contour"
           }
          ],
          "contourcarpet": [
           {
            "colorbar": {
             "outlinewidth": 0,
             "ticks": ""
            },
            "type": "contourcarpet"
           }
          ],
          "heatmap": [
           {
            "colorbar": {
             "outlinewidth": 0,
             "ticks": ""
            },
            "colorscale": [
             [
              0,
              "#0d0887"
             ],
             [
              0.1111111111111111,
              "#46039f"
             ],
             [
              0.2222222222222222,
              "#7201a8"
             ],
             [
              0.3333333333333333,
              "#9c179e"
             ],
             [
              0.4444444444444444,
              "#bd3786"
             ],
             [
              0.5555555555555556,
              "#d8576b"
             ],
             [
              0.6666666666666666,
              "#ed7953"
             ],
             [
              0.7777777777777778,
              "#fb9f3a"
             ],
             [
              0.8888888888888888,
              "#fdca26"
             ],
             [
              1,
              "#f0f921"
             ]
            ],
            "type": "heatmap"
           }
          ],
          "heatmapgl": [
           {
            "colorbar": {
             "outlinewidth": 0,
             "ticks": ""
            },
            "colorscale": [
             [
              0,
              "#0d0887"
             ],
             [
              0.1111111111111111,
              "#46039f"
             ],
             [
              0.2222222222222222,
              "#7201a8"
             ],
             [
              0.3333333333333333,
              "#9c179e"
             ],
             [
              0.4444444444444444,
              "#bd3786"
             ],
             [
              0.5555555555555556,
              "#d8576b"
             ],
             [
              0.6666666666666666,
              "#ed7953"
             ],
             [
              0.7777777777777778,
              "#fb9f3a"
             ],
             [
              0.8888888888888888,
              "#fdca26"
             ],
             [
              1,
              "#f0f921"
             ]
            ],
            "type": "heatmapgl"
           }
          ],
          "histogram": [
           {
            "marker": {
             "pattern": {
              "fillmode": "overlay",
              "size": 10,
              "solidity": 0.2
             }
            },
            "type": "histogram"
           }
          ],
          "histogram2d": [
           {
            "colorbar": {
             "outlinewidth": 0,
             "ticks": ""
            },
            "colorscale": [
             [
              0,
              "#0d0887"
             ],
             [
              0.1111111111111111,
              "#46039f"
             ],
             [
              0.2222222222222222,
              "#7201a8"
             ],
             [
              0.3333333333333333,
              "#9c179e"
             ],
             [
              0.4444444444444444,
              "#bd3786"
             ],
             [
              0.5555555555555556,
              "#d8576b"
             ],
             [
              0.6666666666666666,
              "#ed7953"
             ],
             [
              0.7777777777777778,
              "#fb9f3a"
             ],
             [
              0.8888888888888888,
              "#fdca26"
             ],
             [
              1,
              "#f0f921"
             ]
            ],
            "type": "histogram2d"
           }
          ],
          "histogram2dcontour": [
           {
            "colorbar": {
             "outlinewidth": 0,
             "ticks": ""
            },
            "colorscale": [
             [
              0,
              "#0d0887"
             ],
             [
              0.1111111111111111,
              "#46039f"
             ],
             [
              0.2222222222222222,
              "#7201a8"
             ],
             [
              0.3333333333333333,
              "#9c179e"
             ],
             [
              0.4444444444444444,
              "#bd3786"
             ],
             [
              0.5555555555555556,
              "#d8576b"
             ],
             [
              0.6666666666666666,
              "#ed7953"
             ],
             [
              0.7777777777777778,
              "#fb9f3a"
             ],
             [
              0.8888888888888888,
              "#fdca26"
             ],
             [
              1,
              "#f0f921"
             ]
            ],
            "type": "histogram2dcontour"
           }
          ],
          "mesh3d": [
           {
            "colorbar": {
             "outlinewidth": 0,
             "ticks": ""
            },
            "type": "mesh3d"
           }
          ],
          "parcoords": [
           {
            "line": {
             "colorbar": {
              "outlinewidth": 0,
              "ticks": ""
             }
            },
            "type": "parcoords"
           }
          ],
          "pie": [
           {
            "automargin": true,
            "type": "pie"
           }
          ],
          "scatter": [
           {
            "fillpattern": {
             "fillmode": "overlay",
             "size": 10,
             "solidity": 0.2
            },
            "type": "scatter"
           }
          ],
          "scatter3d": [
           {
            "line": {
             "colorbar": {
              "outlinewidth": 0,
              "ticks": ""
             }
            },
            "marker": {
             "colorbar": {
              "outlinewidth": 0,
              "ticks": ""
             }
            },
            "type": "scatter3d"
           }
          ],
          "scattercarpet": [
           {
            "marker": {
             "colorbar": {
              "outlinewidth": 0,
              "ticks": ""
             }
            },
            "type": "scattercarpet"
           }
          ],
          "scattergeo": [
           {
            "marker": {
             "colorbar": {
              "outlinewidth": 0,
              "ticks": ""
             }
            },
            "type": "scattergeo"
           }
          ],
          "scattergl": [
           {
            "marker": {
             "colorbar": {
              "outlinewidth": 0,
              "ticks": ""
             }
            },
            "type": "scattergl"
           }
          ],
          "scattermapbox": [
           {
            "marker": {
             "colorbar": {
              "outlinewidth": 0,
              "ticks": ""
             }
            },
            "type": "scattermapbox"
           }
          ],
          "scatterpolar": [
           {
            "marker": {
             "colorbar": {
              "outlinewidth": 0,
              "ticks": ""
             }
            },
            "type": "scatterpolar"
           }
          ],
          "scatterpolargl": [
           {
            "marker": {
             "colorbar": {
              "outlinewidth": 0,
              "ticks": ""
             }
            },
            "type": "scatterpolargl"
           }
          ],
          "scatterternary": [
           {
            "marker": {
             "colorbar": {
              "outlinewidth": 0,
              "ticks": ""
             }
            },
            "type": "scatterternary"
           }
          ],
          "surface": [
           {
            "colorbar": {
             "outlinewidth": 0,
             "ticks": ""
            },
            "colorscale": [
             [
              0,
              "#0d0887"
             ],
             [
              0.1111111111111111,
              "#46039f"
             ],
             [
              0.2222222222222222,
              "#7201a8"
             ],
             [
              0.3333333333333333,
              "#9c179e"
             ],
             [
              0.4444444444444444,
              "#bd3786"
             ],
             [
              0.5555555555555556,
              "#d8576b"
             ],
             [
              0.6666666666666666,
              "#ed7953"
             ],
             [
              0.7777777777777778,
              "#fb9f3a"
             ],
             [
              0.8888888888888888,
              "#fdca26"
             ],
             [
              1,
              "#f0f921"
             ]
            ],
            "type": "surface"
           }
          ],
          "table": [
           {
            "cells": {
             "fill": {
              "color": "#EBF0F8"
             },
             "line": {
              "color": "white"
             }
            },
            "header": {
             "fill": {
              "color": "#C8D4E3"
             },
             "line": {
              "color": "white"
             }
            },
            "type": "table"
           }
          ]
         },
         "layout": {
          "annotationdefaults": {
           "arrowcolor": "#2a3f5f",
           "arrowhead": 0,
           "arrowwidth": 1
          },
          "autotypenumbers": "strict",
          "coloraxis": {
           "colorbar": {
            "outlinewidth": 0,
            "ticks": ""
           }
          },
          "colorscale": {
           "diverging": [
            [
             0,
             "#8e0152"
            ],
            [
             0.1,
             "#c51b7d"
            ],
            [
             0.2,
             "#de77ae"
            ],
            [
             0.3,
             "#f1b6da"
            ],
            [
             0.4,
             "#fde0ef"
            ],
            [
             0.5,
             "#f7f7f7"
            ],
            [
             0.6,
             "#e6f5d0"
            ],
            [
             0.7,
             "#b8e186"
            ],
            [
             0.8,
             "#7fbc41"
            ],
            [
             0.9,
             "#4d9221"
            ],
            [
             1,
             "#276419"
            ]
           ],
           "sequential": [
            [
             0,
             "#0d0887"
            ],
            [
             0.1111111111111111,
             "#46039f"
            ],
            [
             0.2222222222222222,
             "#7201a8"
            ],
            [
             0.3333333333333333,
             "#9c179e"
            ],
            [
             0.4444444444444444,
             "#bd3786"
            ],
            [
             0.5555555555555556,
             "#d8576b"
            ],
            [
             0.6666666666666666,
             "#ed7953"
            ],
            [
             0.7777777777777778,
             "#fb9f3a"
            ],
            [
             0.8888888888888888,
             "#fdca26"
            ],
            [
             1,
             "#f0f921"
            ]
           ],
           "sequentialminus": [
            [
             0,
             "#0d0887"
            ],
            [
             0.1111111111111111,
             "#46039f"
            ],
            [
             0.2222222222222222,
             "#7201a8"
            ],
            [
             0.3333333333333333,
             "#9c179e"
            ],
            [
             0.4444444444444444,
             "#bd3786"
            ],
            [
             0.5555555555555556,
             "#d8576b"
            ],
            [
             0.6666666666666666,
             "#ed7953"
            ],
            [
             0.7777777777777778,
             "#fb9f3a"
            ],
            [
             0.8888888888888888,
             "#fdca26"
            ],
            [
             1,
             "#f0f921"
            ]
           ]
          },
          "colorway": [
           "#636efa",
           "#EF553B",
           "#00cc96",
           "#ab63fa",
           "#FFA15A",
           "#19d3f3",
           "#FF6692",
           "#B6E880",
           "#FF97FF",
           "#FECB52"
          ],
          "font": {
           "color": "#2a3f5f"
          },
          "geo": {
           "bgcolor": "white",
           "lakecolor": "white",
           "landcolor": "#E5ECF6",
           "showlakes": true,
           "showland": true,
           "subunitcolor": "white"
          },
          "hoverlabel": {
           "align": "left"
          },
          "hovermode": "closest",
          "mapbox": {
           "style": "light"
          },
          "paper_bgcolor": "white",
          "plot_bgcolor": "#E5ECF6",
          "polar": {
           "angularaxis": {
            "gridcolor": "white",
            "linecolor": "white",
            "ticks": ""
           },
           "bgcolor": "#E5ECF6",
           "radialaxis": {
            "gridcolor": "white",
            "linecolor": "white",
            "ticks": ""
           }
          },
          "scene": {
           "xaxis": {
            "backgroundcolor": "#E5ECF6",
            "gridcolor": "white",
            "gridwidth": 2,
            "linecolor": "white",
            "showbackground": true,
            "ticks": "",
            "zerolinecolor": "white"
           },
           "yaxis": {
            "backgroundcolor": "#E5ECF6",
            "gridcolor": "white",
            "gridwidth": 2,
            "linecolor": "white",
            "showbackground": true,
            "ticks": "",
            "zerolinecolor": "white"
           },
           "zaxis": {
            "backgroundcolor": "#E5ECF6",
            "gridcolor": "white",
            "gridwidth": 2,
            "linecolor": "white",
            "showbackground": true,
            "ticks": "",
            "zerolinecolor": "white"
           }
          },
          "shapedefaults": {
           "line": {
            "color": "#2a3f5f"
           }
          },
          "ternary": {
           "aaxis": {
            "gridcolor": "white",
            "linecolor": "white",
            "ticks": ""
           },
           "baxis": {
            "gridcolor": "white",
            "linecolor": "white",
            "ticks": ""
           },
           "bgcolor": "#E5ECF6",
           "caxis": {
            "gridcolor": "white",
            "linecolor": "white",
            "ticks": ""
           }
          },
          "title": {
           "x": 0.05
          },
          "xaxis": {
           "automargin": true,
           "gridcolor": "white",
           "linecolor": "white",
           "ticks": "",
           "title": {
            "standoff": 15
           },
           "zerolinecolor": "white",
           "zerolinewidth": 2
          },
          "yaxis": {
           "automargin": true,
           "gridcolor": "white",
           "linecolor": "white",
           "ticks": "",
           "title": {
            "standoff": 15
           },
           "zerolinecolor": "white",
           "zerolinewidth": 2
          }
         }
        },
        "title": {
         "text": "EGY"
        },
        "width": 800,
        "xaxis": {
         "anchor": "y",
         "domain": [
          0,
          1
         ],
         "title": {
          "text": "Year"
         }
        },
        "yaxis": {
         "anchor": "x",
         "domain": [
          0,
          1
         ],
         "title": {
          "text": "value"
         }
        }
       }
      }
     },
     "metadata": {},
     "output_type": "display_data"
    },
    {
     "data": {
      "application/vnd.plotly.v1+json": {
       "config": {
        "plotlyServerURL": "https://plot.ly"
       },
       "data": [
        {
         "hovertemplate": "variable=Alcohol per capita<br>Year=%{x}<br>value=%{y}<extra></extra>",
         "legendgroup": "Alcohol per capita",
         "line": {
          "color": "#636efa",
          "dash": "solid"
         },
         "marker": {
          "symbol": "circle"
         },
         "mode": "lines",
         "name": "Alcohol per capita",
         "orientation": "v",
         "showlegend": true,
         "type": "scatter",
         "x": [
          1990,
          1991,
          1992,
          1993,
          1994,
          1995,
          1996,
          1997,
          1998,
          1999,
          2000,
          2001,
          2002,
          2003,
          2004,
          2005,
          2006,
          2007,
          2008,
          2009,
          2010,
          2011,
          2012,
          2013,
          2014,
          2015,
          2016,
          2017,
          2018,
          2019,
          2020
         ],
         "xaxis": "x",
         "y": [
          0.5696202531645569,
          0.5696202531645569,
          0.5696202531645569,
          0.5696202531645569,
          0.5696202531645569,
          0.5696202531645569,
          0.5696202531645569,
          0.5696202531645569,
          0.5696202531645569,
          0.5696202531645569,
          0.5696202531645569,
          0.6177215189873417,
          0.6658227848101265,
          0.7139240506329113,
          0.7620253164556963,
          0.810126582278481,
          0.8481012658227849,
          0.8860759493670887,
          0.9240506329113924,
          0.9620253164556962,
          1,
          0.8253164556962025,
          0.6506329113924051,
          0.4759493670886075,
          0.3012658227848101,
          0.1265822784810127,
          0.0843881856540084,
          0.0421940928270042,
          0,
          0,
          0
         ],
         "yaxis": "y"
        },
        {
         "hovertemplate": "variable=Education GExp<br>Year=%{x}<br>value=%{y}<extra></extra>",
         "legendgroup": "Education GExp",
         "line": {
          "color": "#EF553B",
          "dash": "solid"
         },
         "marker": {
          "symbol": "circle"
         },
         "mode": "lines",
         "name": "Education GExp",
         "orientation": "v",
         "showlegend": true,
         "type": "scatter",
         "x": [
          1990,
          1991,
          1992,
          1993,
          1994,
          1995,
          1996,
          1997,
          1998,
          1999,
          2000,
          2001,
          2002,
          2003,
          2004,
          2005,
          2006,
          2007,
          2008,
          2009,
          2010,
          2011,
          2012,
          2013,
          2014,
          2015,
          2016,
          2017,
          2018,
          2019,
          2020
         ],
         "xaxis": "x",
         "y": [
          null,
          null,
          null,
          null,
          null,
          null,
          null,
          null,
          null,
          null,
          null,
          null,
          null,
          null,
          null,
          null,
          null,
          null,
          null,
          null,
          null,
          null,
          null,
          null,
          null,
          null,
          null,
          null,
          null,
          null,
          null
         ],
         "yaxis": "y"
        },
        {
         "hovertemplate": "variable=Employment-agriculture<br>Year=%{x}<br>value=%{y}<extra></extra>",
         "legendgroup": "Employment-agriculture",
         "line": {
          "color": "#00cc96",
          "dash": "solid"
         },
         "marker": {
          "symbol": "circle"
         },
         "mode": "lines",
         "name": "Employment-agriculture",
         "orientation": "v",
         "showlegend": true,
         "type": "scatter",
         "x": [
          1990,
          1991,
          1992,
          1993,
          1994,
          1995,
          1996,
          1997,
          1998,
          1999,
          2000,
          2001,
          2002,
          2003,
          2004,
          2005,
          2006,
          2007,
          2008,
          2009,
          2010,
          2011,
          2012,
          2013,
          2014,
          2015,
          2016,
          2017,
          2018,
          2019,
          2020
         ],
         "xaxis": "x",
         "y": [
          1,
          1,
          0.9890796105319004,
          0.9734789266239088,
          0.9570983424217592,
          0.9453979038803404,
          0.919656879577568,
          0.8962558537155847,
          0.8689547312661744,
          0.8307332193486721,
          0.7901717089903655,
          0.7519500482937097,
          0.7106084888620995,
          0.6614664386973361,
          0.6170046829724648,
          0.5639625362202821,
          0.516380732981303,
          0.4680187318898589,
          0.4173167323576184,
          0.3634945365321246,
          0.3237129264679916,
          0.3143526351465146,
          0.2815913179630622,
          0.2511699992203984,
          0.2191887311102571,
          0.1825273173393776,
          0.1419656582019254,
          0.0912636586696928,
          0.0429016575782486,
          0,
          0
         ],
         "yaxis": "y"
        },
        {
         "hovertemplate": "variable=Employment-industry<br>Year=%{x}<br>value=%{y}<extra></extra>",
         "legendgroup": "Employment-industry",
         "line": {
          "color": "#ab63fa",
          "dash": "solid"
         },
         "marker": {
          "symbol": "circle"
         },
         "mode": "lines",
         "name": "Employment-industry",
         "orientation": "v",
         "showlegend": true,
         "type": "scatter",
         "x": [
          1990,
          1991,
          1992,
          1993,
          1994,
          1995,
          1996,
          1997,
          1998,
          1999,
          2000,
          2001,
          2002,
          2003,
          2004,
          2005,
          2006,
          2007,
          2008,
          2009,
          2010,
          2011,
          2012,
          2013,
          2014,
          2015,
          2016,
          2017,
          2018,
          2019,
          2020
         ],
         "xaxis": "x",
         "y": [
          0.5648149783392272,
          0.5648149783392272,
          0.5115738982853407,
          0.513888766245582,
          0.4999999999999996,
          0.3726853527977203,
          0.3750002207579607,
          0.3356483484655676,
          0.2638887662455703,
          0.3634258809567094,
          0.4050926212093667,
          0.3240740086643154,
          0.3333334805053033,
          0.513888766245582,
          0.5416667402526578,
          0.7314814978339235,
          0.8194447142597214,
          0.8819443831227969,
          0.9814814978339352,
          1,
          0.9791666298736708,
          0.5787037445848097,
          0.3657407489169736,
          0,
          0,
          0,
          0,
          0,
          0,
          0,
          0
         ],
         "yaxis": "y"
        },
        {
         "hovertemplate": "variable=Employment-services<br>Year=%{x}<br>value=%{y}<extra></extra>",
         "legendgroup": "Employment-services",
         "line": {
          "color": "#FFA15A",
          "dash": "solid"
         },
         "marker": {
          "symbol": "circle"
         },
         "mode": "lines",
         "name": "Employment-services",
         "orientation": "v",
         "showlegend": true,
         "type": "scatter",
         "x": [
          1990,
          1991,
          1992,
          1993,
          1994,
          1995,
          1996,
          1997,
          1998,
          1999,
          2000,
          2001,
          2002,
          2003,
          2004,
          2005,
          2006,
          2007,
          2008,
          2009,
          2010,
          2011,
          2012,
          2013,
          2014,
          2015,
          2016,
          2017,
          2018,
          2019,
          2020
         ],
         "xaxis": "x",
         "y": [
          0,
          0,
          0.0233700671982705,
          0.0344401978106044,
          0.0516602967159095,
          0.0940958755986285,
          0.1137760556636182,
          0.1426814227743068,
          0.1832718234841311,
          0.1869617106174123,
          0.2078719312622468,
          0.2601476001774545,
          0.2896678702749387,
          0.2804426832292395,
          0.308118009760089,
          0.2995079603074397,
          0.3142679780530544,
          0.3357933362909328,
          0.3480935074831176,
          0.3862238270332576,
          0.4231241060035525,
          0.5375152992602141,
          0.6193112382729122,
          0.7404673028093411,
          0.8536284554861637,
          0.940344322211982,
          1,
          0.9667896081629804,
          0.9575646557235352,
          0.9895447723744556,
          0.9895447723744556
         ],
         "yaxis": "y"
        },
        {
         "hovertemplate": "variable=Exports-Commercial services<br>Year=%{x}<br>value=%{y}<extra></extra>",
         "legendgroup": "Exports-Commercial services",
         "line": {
          "color": "#19d3f3",
          "dash": "solid"
         },
         "marker": {
          "symbol": "circle"
         },
         "mode": "lines",
         "name": "Exports-Commercial services",
         "orientation": "v",
         "showlegend": true,
         "type": "scatter",
         "x": [
          1990,
          1991,
          1992,
          1993,
          1994,
          1995,
          1996,
          1997,
          1998,
          1999,
          2000,
          2001,
          2002,
          2003,
          2004,
          2005,
          2006,
          2007,
          2008,
          2009,
          2010,
          2011,
          2012,
          2013,
          2014,
          2015,
          2016,
          2017,
          2018,
          2019,
          2020
         ],
         "xaxis": "x",
         "y": [
          0.14255313275016,
          0.1204343281077719,
          0.1100806063792453,
          0.0308668987875865,
          0.0138916480973717,
          0.0072152899626106,
          0,
          0.0004804697300429,
          0.0315989902668969,
          0.071887867314513,
          0.2197488842151639,
          0.2519020895359676,
          0.5541422195515223,
          0.6698937587064155,
          0.7170517931769276,
          0.8628129906312376,
          0.7899323919040826,
          0.1972416404906014,
          0.409881505012183,
          0.7899323919040826,
          0.8437354221408941,
          0.0508373789298753,
          0.2909146453252095,
          0.3502908978176269,
          0.1344357127639648,
          1,
          0.1479400589987024,
          0.194026319958521,
          0.2512590254295516,
          0.3230678506460132,
          0.3230678506460132
         ],
         "yaxis": "y"
        },
        {
         "hovertemplate": "variable=Exports-G&S<br>Year=%{x}<br>value=%{y}<extra></extra>",
         "legendgroup": "Exports-G&S",
         "line": {
          "color": "#FF6692",
          "dash": "solid"
         },
         "marker": {
          "symbol": "circle"
         },
         "mode": "lines",
         "name": "Exports-G&S",
         "orientation": "v",
         "showlegend": true,
         "type": "scatter",
         "x": [
          1990,
          1991,
          1992,
          1993,
          1994,
          1995,
          1996,
          1997,
          1998,
          1999,
          2000,
          2001,
          2002,
          2003,
          2004,
          2005,
          2006,
          2007,
          2008,
          2009,
          2010,
          2011,
          2012,
          2013,
          2014,
          2015,
          2016,
          2017,
          2018,
          2019,
          2020
         ],
         "xaxis": "x",
         "y": [
          0.1108805723775578,
          0.0993647185620899,
          0.0911169284894769,
          0.0605714708726094,
          0.0440035949205403,
          0.0389613070974653,
          0.0485847805751002,
          0.0527611146205641,
          0,
          0.0357710327443581,
          0.1218116549854059,
          0.0676309658061538,
          0.069713483919176,
          0.1751522852013792,
          0.2837685826445539,
          0.4457657782066733,
          0.6297559435705304,
          0.784792068047393,
          0.679555854126441,
          0.5743196402054891,
          0.7842808098033796,
          0.246290442401343,
          1,
          0.7319862823793057,
          0.2519783417604525,
          0.1047966921002919,
          0.0281182949378584,
          0.2443968209071187,
          0.4421805942253471,
          0.4049405197824104,
          0.0351377324398718
         ],
         "yaxis": "y"
        },
        {
         "hovertemplate": "variable=Fertility rate<br>Year=%{x}<br>value=%{y}<extra></extra>",
         "legendgroup": "Fertility rate",
         "line": {
          "color": "#B6E880",
          "dash": "solid"
         },
         "marker": {
          "symbol": "circle"
         },
         "mode": "lines",
         "name": "Fertility rate",
         "orientation": "v",
         "showlegend": true,
         "type": "scatter",
         "x": [
          1990,
          1991,
          1992,
          1993,
          1994,
          1995,
          1996,
          1997,
          1998,
          1999,
          2000,
          2001,
          2002,
          2003,
          2004,
          2005,
          2006,
          2007,
          2008,
          2009,
          2010,
          2011,
          2012,
          2013,
          2014,
          2015,
          2016,
          2017,
          2018,
          2019,
          2020
         ],
         "xaxis": "x",
         "y": [
          1,
          1,
          1,
          1,
          0.8707342295760083,
          0.7554291623578078,
          0.6535677352637023,
          0.563598759048604,
          0.4829369183040331,
          0.4110651499482938,
          0.3495346432264737,
          0.2978283350568769,
          0.2564632885211995,
          0.2244053774560497,
          0.2006204756980353,
          0.1835573940020682,
          0.1726990692864529,
          0.1664943123061013,
          0.1628748707342297,
          0.1602895553257497,
          0.1566701137538781,
          0.1504653567735265,
          0.1406411582213031,
          0.1282316442605999,
          0.1122026887280248,
          0.09358841778697,
          0.0734229576008274,
          0.0527404343329887,
          0.033609100310238,
          0.016028955532575,
          0
         ],
         "yaxis": "y"
        },
        {
         "hovertemplate": "variable=Foreign investment<br>Year=%{x}<br>value=%{y}<extra></extra>",
         "legendgroup": "Foreign investment",
         "line": {
          "color": "#FF97FF",
          "dash": "solid"
         },
         "marker": {
          "symbol": "circle"
         },
         "mode": "lines",
         "name": "Foreign investment",
         "orientation": "v",
         "showlegend": true,
         "type": "scatter",
         "x": [
          1990,
          1991,
          1992,
          1993,
          1994,
          1995,
          1996,
          1997,
          1998,
          1999,
          2000,
          2001,
          2002,
          2003,
          2004,
          2005,
          2006,
          2007,
          2008,
          2009,
          2010,
          2011,
          2012,
          2013,
          2014,
          2015,
          2016,
          2017,
          2018,
          2019,
          2020
         ],
         "xaxis": "x",
         "y": [
          0.4633784416878836,
          0.5367585210805246,
          0.3573126375111136,
          0.2015674730689264,
          0.5457029444483973,
          0.5774472694554421,
          0.5811252708509508,
          0.6555135544111109,
          0.7000444934306337,
          0.6839955035250005,
          0.4691558441558441,
          0.6590909090909091,
          0.3403679653679654,
          0.4491341991341991,
          0.454004329004329,
          0,
          0.0416125541125541,
          0.0832251082251082,
          0.2320887445887446,
          0.3809523809523809,
          1,
          0.5633116883116883,
          0.7193452380952381,
          0.8753787878787879,
          0.4504329004329004,
          0.7061147186147186,
          0.7302489177489178,
          0.3330627705627705,
          0.6415584415584416,
          0.4372835497835498,
          0.4372835497835498
         ],
         "yaxis": "y"
        },
        {
         "hovertemplate": "variable=GDP<br>Year=%{x}<br>value=%{y}<extra></extra>",
         "legendgroup": "GDP",
         "line": {
          "color": "#FECB52",
          "dash": "solid"
         },
         "marker": {
          "symbol": "circle"
         },
         "mode": "lines",
         "name": "GDP",
         "orientation": "v",
         "showlegend": true,
         "type": "scatter",
         "x": [
          1990,
          1991,
          1992,
          1993,
          1994,
          1995,
          1996,
          1997,
          1998,
          1999,
          2000,
          2001,
          2002,
          2003,
          2004,
          2005,
          2006,
          2007,
          2008,
          2009,
          2010,
          2011,
          2012,
          2013,
          2014,
          2015,
          2016,
          2017,
          2018,
          2019,
          2020
         ],
         "xaxis": "x",
         "y": [
          0.1263146399067839,
          0.1727179581162002,
          0.201017111791005,
          0.1526457702877514,
          0.1219053873643249,
          0.0759428617610812,
          0.111054462501699,
          0.1532698898825416,
          0.1015308594492784,
          0.2324507858935718,
          0.2668573853947487,
          0.204447617325859,
          0,
          0.0867666371562852,
          0.1896294541700207,
          0.4028331350310513,
          0.5172639472959742,
          0.7056014697053318,
          1,
          0.6382745033686678,
          0.8144729094272608,
          0.2132886643574125,
          0.9209891970260602,
          0.6753972843002531,
          0.3099503861641057,
          0.1104171260059487,
          0.0857392855679411,
          0.2610522261215529,
          0.481948910296441,
          0.4741969151466124,
          0.0740644495435747
         ],
         "yaxis": "y"
        },
        {
         "hovertemplate": "variable=Health services use<br>Year=%{x}<br>value=%{y}<extra></extra>",
         "legendgroup": "Health services use",
         "line": {
          "color": "#636efa",
          "dash": "solid"
         },
         "marker": {
          "symbol": "circle"
         },
         "mode": "lines",
         "name": "Health services use",
         "orientation": "v",
         "showlegend": true,
         "type": "scatter",
         "x": [
          1990,
          1991,
          1992,
          1993,
          1994,
          1995,
          1996,
          1997,
          1998,
          1999,
          2000,
          2001,
          2002,
          2003,
          2004,
          2005,
          2006,
          2007,
          2008,
          2009,
          2010,
          2011,
          2012,
          2013,
          2014,
          2015,
          2016,
          2017,
          2018,
          2019,
          2020
         ],
         "xaxis": "x",
         "y": [
          0,
          0,
          0,
          0,
          0,
          0,
          0,
          0,
          0,
          0,
          0,
          0.0637528224249848,
          0.1275056448499776,
          0.1912584672749704,
          0.2550112896999632,
          0.318764112124956,
          0.3825169289972688,
          0.4462697514222615,
          0.5100225738472544,
          0.5737753962722392,
          0.637528218697232,
          0.7012810411222248,
          0.7650338635472175,
          0.8287866804195303,
          0.8925395028445231,
          0.956292325269516,
          0.999046849922726,
          0.9995240135449744,
          1,
          1,
          1
         ],
         "yaxis": "y"
        },
        {
         "hovertemplate": "variable=International taxes<br>Year=%{x}<br>value=%{y}<extra></extra>",
         "legendgroup": "International taxes",
         "line": {
          "color": "#EF553B",
          "dash": "solid"
         },
         "marker": {
          "symbol": "circle"
         },
         "mode": "lines",
         "name": "International taxes",
         "orientation": "v",
         "showlegend": true,
         "type": "scatter",
         "x": [
          1990,
          1991,
          1992,
          1993,
          1994,
          1995,
          1996,
          1997,
          1998,
          1999,
          2000,
          2001,
          2002,
          2003,
          2004,
          2005,
          2006,
          2007,
          2008,
          2009,
          2010,
          2011,
          2012,
          2013,
          2014,
          2015,
          2016,
          2017,
          2018,
          2019,
          2020
         ],
         "xaxis": "x",
         "y": [
          null,
          null,
          null,
          null,
          null,
          null,
          null,
          null,
          null,
          null,
          null,
          null,
          null,
          null,
          null,
          null,
          null,
          null,
          null,
          null,
          null,
          null,
          null,
          null,
          null,
          null,
          null,
          null,
          null,
          null,
          null
         ],
         "yaxis": "y"
        },
        {
         "hovertemplate": "variable=Literacy rate<br>Year=%{x}<br>value=%{y}<extra></extra>",
         "legendgroup": "Literacy rate",
         "line": {
          "color": "#00cc96",
          "dash": "solid"
         },
         "marker": {
          "symbol": "circle"
         },
         "mode": "lines",
         "name": "Literacy rate",
         "orientation": "v",
         "showlegend": true,
         "type": "scatter",
         "x": [
          1990,
          1991,
          1992,
          1993,
          1994,
          1995,
          1996,
          1997,
          1998,
          1999,
          2000,
          2001,
          2002,
          2003,
          2004,
          2005,
          2006,
          2007,
          2008,
          2009,
          2010,
          2011,
          2012,
          2013,
          2014,
          2015,
          2016,
          2017,
          2018,
          2019,
          2020
         ],
         "xaxis": "x",
         "y": [
          0,
          0,
          0,
          0,
          0,
          0.0999999999999997,
          0.1999999999999994,
          0.3000000000000006,
          0.4000000000000003,
          0.5,
          0.5999999999999998,
          0.6999999999999994,
          0.8000000000000006,
          0.9000000000000002,
          1,
          1,
          1,
          1,
          1,
          1,
          1,
          1,
          1,
          1,
          1,
          1,
          1,
          1,
          1,
          1,
          1
         ],
         "yaxis": "y"
        },
        {
         "hovertemplate": "variable=Mortality-infants<br>Year=%{x}<br>value=%{y}<extra></extra>",
         "legendgroup": "Mortality-infants",
         "line": {
          "color": "#ab63fa",
          "dash": "solid"
         },
         "marker": {
          "symbol": "circle"
         },
         "mode": "lines",
         "name": "Mortality-infants",
         "orientation": "v",
         "showlegend": true,
         "type": "scatter",
         "x": [
          1990,
          1991,
          1992,
          1993,
          1994,
          1995,
          1996,
          1997,
          1998,
          1999,
          2000,
          2001,
          2002,
          2003,
          2004,
          2005,
          2006,
          2007,
          2008,
          2009,
          2010,
          2011,
          2012,
          2013,
          2014,
          2015,
          2016,
          2017,
          2018,
          2019,
          2020
         ],
         "xaxis": "x",
         "y": [
          1,
          0.9148509174311926,
          0.8360091743119266,
          0.7643348623853211,
          0.7009747706422018,
          0.6465022935779816,
          0.5989105504587156,
          0.5573394495412844,
          0.5217889908256881,
          0.4913990825688073,
          0.4653096330275229,
          0.4435206422018348,
          0.4254587155963302,
          0.4071100917431192,
          0.3861811926605504,
          0.3606651376146789,
          0.3305619266055046,
          0.2967316513761467,
          0.2643348623853211,
          0.2359518348623853,
          0.2107224770642201,
          0.2434059633027523,
          0.1645642201834862,
          0.1422018348623853,
          0.1195527522935779,
          0.0977637614678899,
          0.0759747706422018,
          0.0547591743119266,
          0.0349770642201834,
          0.0169151376146789,
          0
         ],
         "yaxis": "y"
        },
        {
         "hovertemplate": "variable=Net migration<br>Year=%{x}<br>value=%{y}<extra></extra>",
         "legendgroup": "Net migration",
         "line": {
          "color": "#FFA15A",
          "dash": "solid"
         },
         "marker": {
          "symbol": "circle"
         },
         "mode": "lines",
         "name": "Net migration",
         "orientation": "v",
         "showlegend": true,
         "type": "scatter",
         "x": [
          1990,
          1991,
          1992,
          1993,
          1994,
          1995,
          1996,
          1997,
          1998,
          1999,
          2000,
          2001,
          2002,
          2003,
          2004,
          2005,
          2006,
          2007,
          2008,
          2009,
          2010,
          2011,
          2012,
          2013,
          2014,
          2015,
          2016,
          2017,
          2018,
          2019,
          2020
         ],
         "xaxis": "x",
         "y": [
          1,
          1,
          1,
          0.8998808357819131,
          0.7997616715638264,
          0.6996425073457394,
          0.5995233431276527,
          0.4994041789095658,
          0.5594743715311786,
          0.6195445641527915,
          0.6796147567744041,
          0.7396849493960169,
          0.7997551420176298,
          0.6398041136141038,
          0.4798530852105778,
          0.3199020568070518,
          0.1599510284035259,
          0,
          0.0886043095004897,
          0.1772086190009794,
          0.2658129285014691,
          0.3544172380019588,
          0.4430215475024486,
          0.5316258570029383,
          0.620230166503428,
          0.7088344760039177,
          0.7974387855044074,
          0.8860430950048972,
          0.8860430950048972,
          0.8860430950048972,
          0.8860430950048972
         ],
         "yaxis": "y"
        },
        {
         "hovertemplate": "variable=Ninis<br>Year=%{x}<br>value=%{y}<extra></extra>",
         "legendgroup": "Ninis",
         "line": {
          "color": "#19d3f3",
          "dash": "solid"
         },
         "marker": {
          "symbol": "circle"
         },
         "mode": "lines",
         "name": "Ninis",
         "orientation": "v",
         "showlegend": true,
         "type": "scatter",
         "x": [
          1990,
          1991,
          1992,
          1993,
          1994,
          1995,
          1996,
          1997,
          1998,
          1999,
          2000,
          2001,
          2002,
          2003,
          2004,
          2005,
          2006,
          2007,
          2008,
          2009,
          2010,
          2011,
          2012,
          2013,
          2014,
          2015,
          2016,
          2017,
          2018,
          2019,
          2020
         ],
         "xaxis": "x",
         "y": [
          null,
          null,
          null,
          null,
          null,
          null,
          null,
          null,
          null,
          null,
          null,
          null,
          null,
          null,
          null,
          null,
          null,
          null,
          null,
          null,
          null,
          null,
          null,
          null,
          null,
          null,
          null,
          null,
          null,
          null,
          null
         ],
         "yaxis": "y"
        },
        {
         "hovertemplate": "variable=R&D GExp<br>Year=%{x}<br>value=%{y}<extra></extra>",
         "legendgroup": "R&D GExp",
         "line": {
          "color": "#FF6692",
          "dash": "solid"
         },
         "marker": {
          "symbol": "circle"
         },
         "mode": "lines",
         "name": "R&D GExp",
         "orientation": "v",
         "showlegend": true,
         "type": "scatter",
         "x": [
          1990,
          1991,
          1992,
          1993,
          1994,
          1995,
          1996,
          1997,
          1998,
          1999,
          2000,
          2001,
          2002,
          2003,
          2004,
          2005,
          2006,
          2007,
          2008,
          2009,
          2010,
          2011,
          2012,
          2013,
          2014,
          2015,
          2016,
          2017,
          2018,
          2019,
          2020
         ],
         "xaxis": "x",
         "y": [
          null,
          null,
          null,
          null,
          null,
          null,
          null,
          null,
          null,
          null,
          null,
          null,
          null,
          null,
          null,
          null,
          null,
          null,
          null,
          null,
          null,
          null,
          null,
          null,
          null,
          null,
          null,
          null,
          null,
          null,
          null
         ],
         "yaxis": "y"
        },
        {
         "hovertemplate": "variable=Renewable electricity<br>Year=%{x}<br>value=%{y}<extra></extra>",
         "legendgroup": "Renewable electricity",
         "line": {
          "color": "#B6E880",
          "dash": "solid"
         },
         "marker": {
          "symbol": "circle"
         },
         "mode": "lines",
         "name": "Renewable electricity",
         "orientation": "v",
         "showlegend": true,
         "type": "scatter",
         "x": [
          1990,
          1991,
          1992,
          1993,
          1994,
          1995,
          1996,
          1997,
          1998,
          1999,
          2000,
          2001,
          2002,
          2003,
          2004,
          2005,
          2006,
          2007,
          2008,
          2009,
          2010,
          2011,
          2012,
          2013,
          2014,
          2015,
          2016,
          2017,
          2018,
          2019,
          2020
         ],
         "xaxis": "x",
         "y": [
          null,
          null,
          null,
          null,
          null,
          null,
          null,
          null,
          null,
          null,
          null,
          null,
          null,
          null,
          null,
          null,
          null,
          null,
          null,
          null,
          null,
          null,
          null,
          null,
          null,
          null,
          null,
          null,
          null,
          null,
          null
         ],
         "yaxis": "y"
        },
        {
         "hovertemplate": "variable=Suicide<br>Year=%{x}<br>value=%{y}<extra></extra>",
         "legendgroup": "Suicide",
         "line": {
          "color": "#FF97FF",
          "dash": "solid"
         },
         "marker": {
          "symbol": "circle"
         },
         "mode": "lines",
         "name": "Suicide",
         "orientation": "v",
         "showlegend": true,
         "type": "scatter",
         "x": [
          1990,
          1991,
          1992,
          1993,
          1994,
          1995,
          1996,
          1997,
          1998,
          1999,
          2000,
          2001,
          2002,
          2003,
          2004,
          2005,
          2006,
          2007,
          2008,
          2009,
          2010,
          2011,
          2012,
          2013,
          2014,
          2015,
          2016,
          2017,
          2018,
          2019,
          2020
         ],
         "xaxis": "x",
         "y": [
          0.3333333333333335,
          0.3333333333333335,
          0.3333333333333335,
          0.3333333333333335,
          0.3333333333333335,
          0.3333333333333335,
          0.3333333333333335,
          0.3333333333333335,
          0.3333333333333335,
          0.3333333333333335,
          0.3333333333333335,
          0.4285714285714284,
          0.4761904761904763,
          0.4285714285714284,
          0.0952380952380953,
          0.0476190476190474,
          0,
          0.3333333333333335,
          0.5714285714285716,
          0.7142857142857144,
          0.6666666666666665,
          0.4285714285714284,
          0.7142857142857144,
          0.2857142857142856,
          1,
          0.6666666666666665,
          0.3809523809523809,
          0.6190476190476191,
          0.7619047619047619,
          0.1428571428571428,
          0.1428571428571428
         ],
         "yaxis": "y"
        },
        {
         "hovertemplate": "variable=Workers high education<br>Year=%{x}<br>value=%{y}<extra></extra>",
         "legendgroup": "Workers high education",
         "line": {
          "color": "#FECB52",
          "dash": "solid"
         },
         "marker": {
          "symbol": "circle"
         },
         "mode": "lines",
         "name": "Workers high education",
         "orientation": "v",
         "showlegend": true,
         "type": "scatter",
         "x": [
          1990,
          1991,
          1992,
          1993,
          1994,
          1995,
          1996,
          1997,
          1998,
          1999,
          2000,
          2001,
          2002,
          2003,
          2004,
          2005,
          2006,
          2007,
          2008,
          2009,
          2010,
          2011,
          2012,
          2013,
          2014,
          2015,
          2016,
          2017,
          2018,
          2019,
          2020
         ],
         "xaxis": "x",
         "y": [
          null,
          null,
          null,
          null,
          null,
          null,
          null,
          null,
          null,
          null,
          null,
          null,
          null,
          null,
          null,
          null,
          null,
          null,
          null,
          null,
          null,
          null,
          null,
          null,
          null,
          null,
          null,
          null,
          null,
          null,
          null
         ],
         "yaxis": "y"
        }
       ],
       "layout": {
        "height": 600,
        "legend": {
         "title": {
          "text": "variable"
         },
         "tracegroupgap": 0
        },
        "template": {
         "data": {
          "bar": [
           {
            "error_x": {
             "color": "#2a3f5f"
            },
            "error_y": {
             "color": "#2a3f5f"
            },
            "marker": {
             "line": {
              "color": "#E5ECF6",
              "width": 0.5
             },
             "pattern": {
              "fillmode": "overlay",
              "size": 10,
              "solidity": 0.2
             }
            },
            "type": "bar"
           }
          ],
          "barpolar": [
           {
            "marker": {
             "line": {
              "color": "#E5ECF6",
              "width": 0.5
             },
             "pattern": {
              "fillmode": "overlay",
              "size": 10,
              "solidity": 0.2
             }
            },
            "type": "barpolar"
           }
          ],
          "carpet": [
           {
            "aaxis": {
             "endlinecolor": "#2a3f5f",
             "gridcolor": "white",
             "linecolor": "white",
             "minorgridcolor": "white",
             "startlinecolor": "#2a3f5f"
            },
            "baxis": {
             "endlinecolor": "#2a3f5f",
             "gridcolor": "white",
             "linecolor": "white",
             "minorgridcolor": "white",
             "startlinecolor": "#2a3f5f"
            },
            "type": "carpet"
           }
          ],
          "choropleth": [
           {
            "colorbar": {
             "outlinewidth": 0,
             "ticks": ""
            },
            "type": "choropleth"
           }
          ],
          "contour": [
           {
            "colorbar": {
             "outlinewidth": 0,
             "ticks": ""
            },
            "colorscale": [
             [
              0,
              "#0d0887"
             ],
             [
              0.1111111111111111,
              "#46039f"
             ],
             [
              0.2222222222222222,
              "#7201a8"
             ],
             [
              0.3333333333333333,
              "#9c179e"
             ],
             [
              0.4444444444444444,
              "#bd3786"
             ],
             [
              0.5555555555555556,
              "#d8576b"
             ],
             [
              0.6666666666666666,
              "#ed7953"
             ],
             [
              0.7777777777777778,
              "#fb9f3a"
             ],
             [
              0.8888888888888888,
              "#fdca26"
             ],
             [
              1,
              "#f0f921"
             ]
            ],
            "type": "contour"
           }
          ],
          "contourcarpet": [
           {
            "colorbar": {
             "outlinewidth": 0,
             "ticks": ""
            },
            "type": "contourcarpet"
           }
          ],
          "heatmap": [
           {
            "colorbar": {
             "outlinewidth": 0,
             "ticks": ""
            },
            "colorscale": [
             [
              0,
              "#0d0887"
             ],
             [
              0.1111111111111111,
              "#46039f"
             ],
             [
              0.2222222222222222,
              "#7201a8"
             ],
             [
              0.3333333333333333,
              "#9c179e"
             ],
             [
              0.4444444444444444,
              "#bd3786"
             ],
             [
              0.5555555555555556,
              "#d8576b"
             ],
             [
              0.6666666666666666,
              "#ed7953"
             ],
             [
              0.7777777777777778,
              "#fb9f3a"
             ],
             [
              0.8888888888888888,
              "#fdca26"
             ],
             [
              1,
              "#f0f921"
             ]
            ],
            "type": "heatmap"
           }
          ],
          "heatmapgl": [
           {
            "colorbar": {
             "outlinewidth": 0,
             "ticks": ""
            },
            "colorscale": [
             [
              0,
              "#0d0887"
             ],
             [
              0.1111111111111111,
              "#46039f"
             ],
             [
              0.2222222222222222,
              "#7201a8"
             ],
             [
              0.3333333333333333,
              "#9c179e"
             ],
             [
              0.4444444444444444,
              "#bd3786"
             ],
             [
              0.5555555555555556,
              "#d8576b"
             ],
             [
              0.6666666666666666,
              "#ed7953"
             ],
             [
              0.7777777777777778,
              "#fb9f3a"
             ],
             [
              0.8888888888888888,
              "#fdca26"
             ],
             [
              1,
              "#f0f921"
             ]
            ],
            "type": "heatmapgl"
           }
          ],
          "histogram": [
           {
            "marker": {
             "pattern": {
              "fillmode": "overlay",
              "size": 10,
              "solidity": 0.2
             }
            },
            "type": "histogram"
           }
          ],
          "histogram2d": [
           {
            "colorbar": {
             "outlinewidth": 0,
             "ticks": ""
            },
            "colorscale": [
             [
              0,
              "#0d0887"
             ],
             [
              0.1111111111111111,
              "#46039f"
             ],
             [
              0.2222222222222222,
              "#7201a8"
             ],
             [
              0.3333333333333333,
              "#9c179e"
             ],
             [
              0.4444444444444444,
              "#bd3786"
             ],
             [
              0.5555555555555556,
              "#d8576b"
             ],
             [
              0.6666666666666666,
              "#ed7953"
             ],
             [
              0.7777777777777778,
              "#fb9f3a"
             ],
             [
              0.8888888888888888,
              "#fdca26"
             ],
             [
              1,
              "#f0f921"
             ]
            ],
            "type": "histogram2d"
           }
          ],
          "histogram2dcontour": [
           {
            "colorbar": {
             "outlinewidth": 0,
             "ticks": ""
            },
            "colorscale": [
             [
              0,
              "#0d0887"
             ],
             [
              0.1111111111111111,
              "#46039f"
             ],
             [
              0.2222222222222222,
              "#7201a8"
             ],
             [
              0.3333333333333333,
              "#9c179e"
             ],
             [
              0.4444444444444444,
              "#bd3786"
             ],
             [
              0.5555555555555556,
              "#d8576b"
             ],
             [
              0.6666666666666666,
              "#ed7953"
             ],
             [
              0.7777777777777778,
              "#fb9f3a"
             ],
             [
              0.8888888888888888,
              "#fdca26"
             ],
             [
              1,
              "#f0f921"
             ]
            ],
            "type": "histogram2dcontour"
           }
          ],
          "mesh3d": [
           {
            "colorbar": {
             "outlinewidth": 0,
             "ticks": ""
            },
            "type": "mesh3d"
           }
          ],
          "parcoords": [
           {
            "line": {
             "colorbar": {
              "outlinewidth": 0,
              "ticks": ""
             }
            },
            "type": "parcoords"
           }
          ],
          "pie": [
           {
            "automargin": true,
            "type": "pie"
           }
          ],
          "scatter": [
           {
            "fillpattern": {
             "fillmode": "overlay",
             "size": 10,
             "solidity": 0.2
            },
            "type": "scatter"
           }
          ],
          "scatter3d": [
           {
            "line": {
             "colorbar": {
              "outlinewidth": 0,
              "ticks": ""
             }
            },
            "marker": {
             "colorbar": {
              "outlinewidth": 0,
              "ticks": ""
             }
            },
            "type": "scatter3d"
           }
          ],
          "scattercarpet": [
           {
            "marker": {
             "colorbar": {
              "outlinewidth": 0,
              "ticks": ""
             }
            },
            "type": "scattercarpet"
           }
          ],
          "scattergeo": [
           {
            "marker": {
             "colorbar": {
              "outlinewidth": 0,
              "ticks": ""
             }
            },
            "type": "scattergeo"
           }
          ],
          "scattergl": [
           {
            "marker": {
             "colorbar": {
              "outlinewidth": 0,
              "ticks": ""
             }
            },
            "type": "scattergl"
           }
          ],
          "scattermapbox": [
           {
            "marker": {
             "colorbar": {
              "outlinewidth": 0,
              "ticks": ""
             }
            },
            "type": "scattermapbox"
           }
          ],
          "scatterpolar": [
           {
            "marker": {
             "colorbar": {
              "outlinewidth": 0,
              "ticks": ""
             }
            },
            "type": "scatterpolar"
           }
          ],
          "scatterpolargl": [
           {
            "marker": {
             "colorbar": {
              "outlinewidth": 0,
              "ticks": ""
             }
            },
            "type": "scatterpolargl"
           }
          ],
          "scatterternary": [
           {
            "marker": {
             "colorbar": {
              "outlinewidth": 0,
              "ticks": ""
             }
            },
            "type": "scatterternary"
           }
          ],
          "surface": [
           {
            "colorbar": {
             "outlinewidth": 0,
             "ticks": ""
            },
            "colorscale": [
             [
              0,
              "#0d0887"
             ],
             [
              0.1111111111111111,
              "#46039f"
             ],
             [
              0.2222222222222222,
              "#7201a8"
             ],
             [
              0.3333333333333333,
              "#9c179e"
             ],
             [
              0.4444444444444444,
              "#bd3786"
             ],
             [
              0.5555555555555556,
              "#d8576b"
             ],
             [
              0.6666666666666666,
              "#ed7953"
             ],
             [
              0.7777777777777778,
              "#fb9f3a"
             ],
             [
              0.8888888888888888,
              "#fdca26"
             ],
             [
              1,
              "#f0f921"
             ]
            ],
            "type": "surface"
           }
          ],
          "table": [
           {
            "cells": {
             "fill": {
              "color": "#EBF0F8"
             },
             "line": {
              "color": "white"
             }
            },
            "header": {
             "fill": {
              "color": "#C8D4E3"
             },
             "line": {
              "color": "white"
             }
            },
            "type": "table"
           }
          ]
         },
         "layout": {
          "annotationdefaults": {
           "arrowcolor": "#2a3f5f",
           "arrowhead": 0,
           "arrowwidth": 1
          },
          "autotypenumbers": "strict",
          "coloraxis": {
           "colorbar": {
            "outlinewidth": 0,
            "ticks": ""
           }
          },
          "colorscale": {
           "diverging": [
            [
             0,
             "#8e0152"
            ],
            [
             0.1,
             "#c51b7d"
            ],
            [
             0.2,
             "#de77ae"
            ],
            [
             0.3,
             "#f1b6da"
            ],
            [
             0.4,
             "#fde0ef"
            ],
            [
             0.5,
             "#f7f7f7"
            ],
            [
             0.6,
             "#e6f5d0"
            ],
            [
             0.7,
             "#b8e186"
            ],
            [
             0.8,
             "#7fbc41"
            ],
            [
             0.9,
             "#4d9221"
            ],
            [
             1,
             "#276419"
            ]
           ],
           "sequential": [
            [
             0,
             "#0d0887"
            ],
            [
             0.1111111111111111,
             "#46039f"
            ],
            [
             0.2222222222222222,
             "#7201a8"
            ],
            [
             0.3333333333333333,
             "#9c179e"
            ],
            [
             0.4444444444444444,
             "#bd3786"
            ],
            [
             0.5555555555555556,
             "#d8576b"
            ],
            [
             0.6666666666666666,
             "#ed7953"
            ],
            [
             0.7777777777777778,
             "#fb9f3a"
            ],
            [
             0.8888888888888888,
             "#fdca26"
            ],
            [
             1,
             "#f0f921"
            ]
           ],
           "sequentialminus": [
            [
             0,
             "#0d0887"
            ],
            [
             0.1111111111111111,
             "#46039f"
            ],
            [
             0.2222222222222222,
             "#7201a8"
            ],
            [
             0.3333333333333333,
             "#9c179e"
            ],
            [
             0.4444444444444444,
             "#bd3786"
            ],
            [
             0.5555555555555556,
             "#d8576b"
            ],
            [
             0.6666666666666666,
             "#ed7953"
            ],
            [
             0.7777777777777778,
             "#fb9f3a"
            ],
            [
             0.8888888888888888,
             "#fdca26"
            ],
            [
             1,
             "#f0f921"
            ]
           ]
          },
          "colorway": [
           "#636efa",
           "#EF553B",
           "#00cc96",
           "#ab63fa",
           "#FFA15A",
           "#19d3f3",
           "#FF6692",
           "#B6E880",
           "#FF97FF",
           "#FECB52"
          ],
          "font": {
           "color": "#2a3f5f"
          },
          "geo": {
           "bgcolor": "white",
           "lakecolor": "white",
           "landcolor": "#E5ECF6",
           "showlakes": true,
           "showland": true,
           "subunitcolor": "white"
          },
          "hoverlabel": {
           "align": "left"
          },
          "hovermode": "closest",
          "mapbox": {
           "style": "light"
          },
          "paper_bgcolor": "white",
          "plot_bgcolor": "#E5ECF6",
          "polar": {
           "angularaxis": {
            "gridcolor": "white",
            "linecolor": "white",
            "ticks": ""
           },
           "bgcolor": "#E5ECF6",
           "radialaxis": {
            "gridcolor": "white",
            "linecolor": "white",
            "ticks": ""
           }
          },
          "scene": {
           "xaxis": {
            "backgroundcolor": "#E5ECF6",
            "gridcolor": "white",
            "gridwidth": 2,
            "linecolor": "white",
            "showbackground": true,
            "ticks": "",
            "zerolinecolor": "white"
           },
           "yaxis": {
            "backgroundcolor": "#E5ECF6",
            "gridcolor": "white",
            "gridwidth": 2,
            "linecolor": "white",
            "showbackground": true,
            "ticks": "",
            "zerolinecolor": "white"
           },
           "zaxis": {
            "backgroundcolor": "#E5ECF6",
            "gridcolor": "white",
            "gridwidth": 2,
            "linecolor": "white",
            "showbackground": true,
            "ticks": "",
            "zerolinecolor": "white"
           }
          },
          "shapedefaults": {
           "line": {
            "color": "#2a3f5f"
           }
          },
          "ternary": {
           "aaxis": {
            "gridcolor": "white",
            "linecolor": "white",
            "ticks": ""
           },
           "baxis": {
            "gridcolor": "white",
            "linecolor": "white",
            "ticks": ""
           },
           "bgcolor": "#E5ECF6",
           "caxis": {
            "gridcolor": "white",
            "linecolor": "white",
            "ticks": ""
           }
          },
          "title": {
           "x": 0.05
          },
          "xaxis": {
           "automargin": true,
           "gridcolor": "white",
           "linecolor": "white",
           "ticks": "",
           "title": {
            "standoff": 15
           },
           "zerolinecolor": "white",
           "zerolinewidth": 2
          },
          "yaxis": {
           "automargin": true,
           "gridcolor": "white",
           "linecolor": "white",
           "ticks": "",
           "title": {
            "standoff": 15
           },
           "zerolinecolor": "white",
           "zerolinewidth": 2
          }
         }
        },
        "title": {
         "text": "LBY"
        },
        "width": 800,
        "xaxis": {
         "anchor": "y",
         "domain": [
          0,
          1
         ],
         "title": {
          "text": "Year"
         }
        },
        "yaxis": {
         "anchor": "x",
         "domain": [
          0,
          1
         ],
         "title": {
          "text": "value"
         }
        }
       }
      }
     },
     "metadata": {},
     "output_type": "display_data"
    },
    {
     "data": {
      "application/vnd.plotly.v1+json": {
       "config": {
        "plotlyServerURL": "https://plot.ly"
       },
       "data": [
        {
         "hovertemplate": "variable=Alcohol per capita<br>Year=%{x}<br>value=%{y}<extra></extra>",
         "legendgroup": "Alcohol per capita",
         "line": {
          "color": "#636efa",
          "dash": "solid"
         },
         "marker": {
          "symbol": "circle"
         },
         "mode": "lines",
         "name": "Alcohol per capita",
         "orientation": "v",
         "showlegend": true,
         "type": "scatter",
         "x": [
          1990,
          1991,
          1992,
          1993,
          1994,
          1995,
          1996,
          1997,
          1998,
          1999,
          2000,
          2001,
          2002,
          2003,
          2004,
          2005,
          2006,
          2007,
          2008,
          2009,
          2010,
          2011,
          2012,
          2013,
          2014,
          2015,
          2016,
          2017,
          2018,
          2019,
          2020,
          2021
         ],
         "xaxis": "x",
         "y": [
          0.2516556291390728,
          0.2516556291390728,
          0.2516556291390728,
          0.2516556291390728,
          0.2516556291390728,
          0.2516556291390728,
          0.2516556291390728,
          0.2516556291390728,
          0.2516556291390728,
          0.2516556291390728,
          0.2516556291390728,
          0.2013245033112582,
          0.1509933774834435,
          0.1006622516556292,
          0.0503311258278146,
          0,
          0.0556291390728477,
          0.1112582781456954,
          0.1668874172185429,
          0.2225165562913906,
          0.2781456953642384,
          0.3761589403973511,
          0.4741721854304634,
          0.5721854304635762,
          0.6701986754966885,
          0.7682119205298013,
          0.8454746136865342,
          0.9227373068432674,
          1,
          1,
          1,
          1
         ],
         "yaxis": "y"
        },
        {
         "hovertemplate": "variable=Education GExp<br>Year=%{x}<br>value=%{y}<extra></extra>",
         "legendgroup": "Education GExp",
         "line": {
          "color": "#EF553B",
          "dash": "solid"
         },
         "marker": {
          "symbol": "circle"
         },
         "mode": "lines",
         "name": "Education GExp",
         "orientation": "v",
         "showlegend": true,
         "type": "scatter",
         "x": [
          1990,
          1991,
          1992,
          1993,
          1994,
          1995,
          1996,
          1997,
          1998,
          1999,
          2000,
          2001,
          2002,
          2003,
          2004,
          2005,
          2006,
          2007,
          2008,
          2009,
          2010,
          2011,
          2012,
          2013,
          2014,
          2015,
          2016,
          2017,
          2018,
          2019,
          2020,
          2021
         ],
         "xaxis": "x",
         "y": [
          0.3559631393441679,
          0.3559631393441679,
          0.3559631393441679,
          0.3559631393441679,
          0.3559631393441679,
          0.3559631393441679,
          0.3559631393441679,
          0.3559631393441679,
          0.3559631393441679,
          0.3559631393441679,
          0.3559631393441679,
          0.2750892701911084,
          0,
          0.3157410976008402,
          0.258770788677977,
          0.1970804361807637,
          0.273371343326413,
          0.2361866765227676,
          0.195598374717157,
          0.1564571800953782,
          0.3674114258549636,
          0.4469305887030079,
          0.4824420093300486,
          0.6277536373727607,
          0.7304626852424968,
          0.9336531295326536,
          0.9157060825310084,
          1,
          0.9426758929754874,
          0.9426758929754874,
          0.9426758929754874,
          0.9426758929754874
         ],
         "yaxis": "y"
        },
        {
         "hovertemplate": "variable=Employment-agriculture<br>Year=%{x}<br>value=%{y}<extra></extra>",
         "legendgroup": "Employment-agriculture",
         "line": {
          "color": "#00cc96",
          "dash": "solid"
         },
         "marker": {
          "symbol": "circle"
         },
         "mode": "lines",
         "name": "Employment-agriculture",
         "orientation": "v",
         "showlegend": true,
         "type": "scatter",
         "x": [
          1990,
          1991,
          1992,
          1993,
          1994,
          1995,
          1996,
          1997,
          1998,
          1999,
          2000,
          2001,
          2002,
          2003,
          2004,
          2005,
          2006,
          2007,
          2008,
          2009,
          2010,
          2011,
          2012,
          2013,
          2014,
          2015,
          2016,
          2017,
          2018,
          2019,
          2020,
          2021
         ],
         "xaxis": "x",
         "y": [
          0.7938461341519321,
          0.7938461341519321,
          0.7969230542380431,
          1,
          0.7353845791562768,
          0.6800000176062945,
          0.6276923027828584,
          0.5784615080455336,
          0.5292307866677703,
          0.4830769120165567,
          0.4399999574514542,
          0.3969230762459103,
          0.3569230417669158,
          0.3200000007335942,
          0.2861538431066029,
          0.2523076854796086,
          0.2184615278526173,
          0.1876922903117341,
          0.160000009536743,
          0.1323076920819709,
          0.1046153746271988,
          0.0799999772585348,
          0.058461536655763,
          0.0984615344549765,
          0.058461536655763,
          0.0307692192009908,
          0.0307692192009908,
          0.0246153790287716,
          0.0123076803444406,
          0,
          0,
          0
         ],
         "yaxis": "y"
        },
        {
         "hovertemplate": "variable=Employment-industry<br>Year=%{x}<br>value=%{y}<extra></extra>",
         "legendgroup": "Employment-industry",
         "line": {
          "color": "#ab63fa",
          "dash": "solid"
         },
         "marker": {
          "symbol": "circle"
         },
         "mode": "lines",
         "name": "Employment-industry",
         "orientation": "v",
         "showlegend": true,
         "type": "scatter",
         "x": [
          1990,
          1991,
          1992,
          1993,
          1994,
          1995,
          1996,
          1997,
          1998,
          1999,
          2000,
          2001,
          2002,
          2003,
          2004,
          2005,
          2006,
          2007,
          2008,
          2009,
          2010,
          2011,
          2012,
          2013,
          2014,
          2015,
          2016,
          2017,
          2018,
          2019,
          2020,
          2021
         ],
         "xaxis": "x",
         "y": [
          1,
          1,
          0.9706916787953608,
          0.975380893913634,
          0.9835874116789248,
          0.9202813305466314,
          0.8581476090950769,
          0.7936693918867741,
          0.7268464553169579,
          0.6588511590663796,
          0.6084408108176382,
          0.5240329262459963,
          0.4513481912724028,
          0.3939039085438751,
          0.3446659199758847,
          0.2977726507694196,
          0.2626025311610027,
          0.2297773545188409,
          0.1852285810691359,
          0.1289566580213707,
          0.0996483368167314,
          0.0703400156120921,
          0.0304806808854018,
          0.0597890020900411,
          0.0527550676102543,
          0.0410316944074528,
          0.0316530405661526,
          0.0175849480018378,
          0.0070341580845285,
          0,
          0,
          0
         ],
         "yaxis": "y"
        },
        {
         "hovertemplate": "variable=Employment-services<br>Year=%{x}<br>value=%{y}<extra></extra>",
         "legendgroup": "Employment-services",
         "line": {
          "color": "#FFA15A",
          "dash": "solid"
         },
         "marker": {
          "symbol": "circle"
         },
         "mode": "lines",
         "name": "Employment-services",
         "orientation": "v",
         "showlegend": true,
         "type": "scatter",
         "x": [
          1990,
          1991,
          1992,
          1993,
          1994,
          1995,
          1996,
          1997,
          1998,
          1999,
          2000,
          2001,
          2002,
          2003,
          2004,
          2005,
          2006,
          2007,
          2008,
          2009,
          2010,
          2011,
          2012,
          2013,
          2014,
          2015,
          2016,
          2017,
          2018,
          2019,
          2020,
          2021
         ],
         "xaxis": "x",
         "y": [
          0.0397235761430534,
          0.0397235761430534,
          0.0604494358333736,
          0,
          0.0682211390855495,
          0.1303974004719883,
          0.1908461774631095,
          0.2530224388495569,
          0.3160624424336599,
          0.3782387038200987,
          0.4274614676106528,
          0.5017268255530596,
          0.5656305713348256,
          0.6191707284291731,
          0.6658029244690004,
          0.7089808105604449,
          0.7443869933997149,
          0.7772019496460031,
          0.8186530101843826,
          0.8670120317772749,
          0.8963733369174341,
          0.924007157662266,
          0.960276423856938,
          0.9274608087683962,
          0.9438686163126708,
          0.9611401660546012,
          0.9671850437537106,
          0.9792747991519322,
          0.990500812352498,
          1,
          1,
          1
         ],
         "yaxis": "y"
        },
        {
         "hovertemplate": "variable=Exports-Commercial services<br>Year=%{x}<br>value=%{y}<extra></extra>",
         "legendgroup": "Exports-Commercial services",
         "line": {
          "color": "#19d3f3",
          "dash": "solid"
         },
         "marker": {
          "symbol": "circle"
         },
         "mode": "lines",
         "name": "Exports-Commercial services",
         "orientation": "v",
         "showlegend": true,
         "type": "scatter",
         "x": [
          1990,
          1991,
          1992,
          1993,
          1994,
          1995,
          1996,
          1997,
          1998,
          1999,
          2000,
          2001,
          2002,
          2003,
          2004,
          2005,
          2006,
          2007,
          2008,
          2009,
          2010,
          2011,
          2012,
          2013,
          2014,
          2015,
          2016,
          2017,
          2018,
          2019,
          2020,
          2021
         ],
         "xaxis": "x",
         "y": [
          0,
          0.0014603980776481,
          0.0178339017474219,
          0.0201407817968818,
          0.0289335049409412,
          0.0485398185986245,
          0.0539740595166385,
          0.0660992637340255,
          0.0790608383638341,
          0.1107576880352806,
          0.1599504244688181,
          0.1144845199248277,
          0.1024950995049669,
          0.1229348945581031,
          0.1627628824877903,
          0.1843380612096025,
          0.2079008836058398,
          0.2415680428498997,
          0.2937812465241514,
          0.2574460801095515,
          0.2995881706311202,
          0.3592377039826543,
          0.3949806219186828,
          0.4527407381727256,
          0.4644874811672206,
          0.4720567056250604,
          0.5155941913424829,
          0.6040862256004461,
          0.6819437883968411,
          0.7562651944236195,
          0.7312665305939674,
          1
         ],
         "yaxis": "y"
        },
        {
         "hovertemplate": "variable=Exports-G&S<br>Year=%{x}<br>value=%{y}<extra></extra>",
         "legendgroup": "Exports-G&S",
         "line": {
          "color": "#FF6692",
          "dash": "solid"
         },
         "marker": {
          "symbol": "circle"
         },
         "mode": "lines",
         "name": "Exports-G&S",
         "orientation": "v",
         "showlegend": true,
         "type": "scatter",
         "x": [
          1990,
          1991,
          1992,
          1993,
          1994,
          1995,
          1996,
          1997,
          1998,
          1999,
          2000,
          2001,
          2002,
          2003,
          2004,
          2005,
          2006,
          2007,
          2008,
          2009,
          2010,
          2011,
          2012,
          2013,
          2014,
          2015,
          2016,
          2017,
          2018,
          2019,
          2020,
          2021
         ],
         "xaxis": "x",
         "y": [
          0.0030917078230625,
          0,
          0.0245000079352907,
          0.0385444160972819,
          0.0672550252717233,
          0.1033389592802427,
          0.1251269786141544,
          0.1474303717655985,
          0.1589005702163389,
          0.2096605034289193,
          0.2979015897932337,
          0.2365973765656999,
          0.2256643106850251,
          0.2669454835339921,
          0.3570128936770415,
          0.4080571601311316,
          0.4551339802976852,
          0.5507868634592533,
          0.6578292834855687,
          0.5154597829314381,
          0.6398515682815299,
          0.7513017850918242,
          0.7535669779274945,
          0.8148628900321697,
          0.8266214457260371,
          0.7708038975598428,
          0.7890349598199471,
          0.871996150858727,
          0.9465321837974616,
          1,
          0.9668045773180826,
          0.9668045773180826
         ],
         "yaxis": "y"
        },
        {
         "hovertemplate": "variable=Fertility rate<br>Year=%{x}<br>value=%{y}<extra></extra>",
         "legendgroup": "Fertility rate",
         "line": {
          "color": "#B6E880",
          "dash": "solid"
         },
         "marker": {
          "symbol": "circle"
         },
         "mode": "lines",
         "name": "Fertility rate",
         "orientation": "v",
         "showlegend": true,
         "type": "scatter",
         "x": [
          1990,
          1991,
          1992,
          1993,
          1994,
          1995,
          1996,
          1997,
          1998,
          1999,
          2000,
          2001,
          2002,
          2003,
          2004,
          2005,
          2006,
          2007,
          2008,
          2009,
          2010,
          2011,
          2012,
          2013,
          2014,
          2015,
          2016,
          2017,
          2018,
          2019,
          2020,
          2021
         ],
         "xaxis": "x",
         "y": [
          0.1781609195402294,
          0,
          0.0545977011494244,
          0.10919540229885,
          0.3965517241379309,
          0.3965517241379309,
          0.3965517241379309,
          0.5114942528735632,
          0.6264367816091956,
          0.5833333333333331,
          0.5402298850574719,
          0.454022988505747,
          0.3678160919540235,
          0.5402298850574719,
          0.3965517241379309,
          0.2241379310344824,
          0.3390804597701147,
          0.3965517241379309,
          0.5689655172413794,
          0.5689655172413794,
          0.7701149425287354,
          0.6264367816091956,
          0.8275862068965515,
          0.7701149425287354,
          0.9137931034482764,
          0.942528735632184,
          1,
          1,
          0.942528735632184,
          0.7126436781609192,
          0.3965517241379309,
          0.3965517241379309
         ],
         "yaxis": "y"
        },
        {
         "hovertemplate": "variable=Foreign investment<br>Year=%{x}<br>value=%{y}<extra></extra>",
         "legendgroup": "Foreign investment",
         "line": {
          "color": "#FF97FF",
          "dash": "solid"
         },
         "marker": {
          "symbol": "circle"
         },
         "mode": "lines",
         "name": "Foreign investment",
         "orientation": "v",
         "showlegend": true,
         "type": "scatter",
         "x": [
          1990,
          1991,
          1992,
          1993,
          1994,
          1995,
          1996,
          1997,
          1998,
          1999,
          2000,
          2001,
          2002,
          2003,
          2004,
          2005,
          2006,
          2007,
          2008,
          2009,
          2010,
          2011,
          2012,
          2013,
          2014,
          2015,
          2016,
          2017,
          2018,
          2019,
          2020,
          2021
         ],
         "xaxis": "x",
         "y": [
          0.7743212770113106,
          0.7687281379285854,
          0.7692253058470498,
          0.7709565155631315,
          0.7966583213480353,
          0.7229620554342229,
          0.7183543741898827,
          0.706892878069568,
          0.7155933166426961,
          0.475203750066585,
          0.3516752783252543,
          0.6737868214989613,
          0.7166054084767131,
          0.6602656297164368,
          0.911539622507502,
          0.6037305349881923,
          0.8625685825387525,
          0.7528365205348106,
          0.497913670342158,
          0.5164864432962233,
          0.8551376977574175,
          0.6588629059464834,
          0.1714962978746071,
          0.0612049219623928,
          0.634776895896589,
          0.7373710470711483,
          1,
          0.6666666666666666,
          0.3333333333333333,
          0,
          0,
          0
         ],
         "yaxis": "y"
        },
        {
         "hovertemplate": "variable=GDP<br>Year=%{x}<br>value=%{y}<extra></extra>",
         "legendgroup": "GDP",
         "line": {
          "color": "#FECB52",
          "dash": "solid"
         },
         "marker": {
          "symbol": "circle"
         },
         "mode": "lines",
         "name": "GDP",
         "orientation": "v",
         "showlegend": true,
         "type": "scatter",
         "x": [
          1990,
          1991,
          1992,
          1993,
          1994,
          1995,
          1996,
          1997,
          1998,
          1999,
          2000,
          2001,
          2002,
          2003,
          2004,
          2005,
          2006,
          2007,
          2008,
          2009,
          2010,
          2011,
          2012,
          2013,
          2014,
          2015,
          2016,
          2017,
          2018,
          2019,
          2020,
          2021
         ],
         "xaxis": "x",
         "y": [
          0,
          0,
          0,
          0,
          0,
          0,
          0.0312401926003572,
          0.0461599311838787,
          0.0502239136818106,
          0.0540322476030802,
          0.1039167230100964,
          0.0985680526732434,
          0.0670248142298997,
          0.0862687102318801,
          0.1140822579526829,
          0.1372008088372022,
          0.1746840465158355,
          0.2563045912780262,
          0.3788180367758875,
          0.3502429884796659,
          0.4373607143249688,
          0.5275392766518698,
          0.5148905662371993,
          0.6315327899808834,
          0.6862728975486405,
          0.6508182953138977,
          0.7126337803697108,
          0.8309156517226262,
          0.8908318522862435,
          0.9700936764955737,
          1,
          1
         ],
         "yaxis": "y"
        },
        {
         "hovertemplate": "variable=Health services use<br>Year=%{x}<br>value=%{y}<extra></extra>",
         "legendgroup": "Health services use",
         "line": {
          "color": "#636efa",
          "dash": "solid"
         },
         "marker": {
          "symbol": "circle"
         },
         "mode": "lines",
         "name": "Health services use",
         "orientation": "v",
         "showlegend": true,
         "type": "scatter",
         "x": [
          1990,
          1991,
          1992,
          1993,
          1994,
          1995,
          1996,
          1997,
          1998,
          1999,
          2000,
          2001,
          2002,
          2003,
          2004,
          2005,
          2006,
          2007,
          2008,
          2009,
          2010,
          2011,
          2012,
          2013,
          2014,
          2015,
          2016,
          2017,
          2018,
          2019,
          2020,
          2021
         ],
         "xaxis": "x",
         "y": [
          0.999865013791925,
          0.999865013791925,
          0.999865013791925,
          0.999865013791925,
          0.999865013791925,
          0.999865013791925,
          0.999865013791925,
          0.999865013791925,
          0.999865013791925,
          0.999865013791925,
          0.999865013791925,
          0.9999843039293907,
          0.9999254436641188,
          0.9998491215202764,
          1,
          0.9998887540987388,
          0.999889538902339,
          0.9998905199066996,
          0.9999587978143374,
          0.999941139734728,
          0.9999587978143374,
          0.8905901467524429,
          0.7829939744745744,
          0.6774639937042534,
          0.5738795408978531,
          0.4724754685130649,
          0.3731664291654812,
          0.2762920465850504,
          0.1816906512438014,
          0.0895243050712266,
          0,
          0
         ],
         "yaxis": "y"
        },
        {
         "hovertemplate": "variable=International taxes<br>Year=%{x}<br>value=%{y}<extra></extra>",
         "legendgroup": "International taxes",
         "line": {
          "color": "#EF553B",
          "dash": "solid"
         },
         "marker": {
          "symbol": "circle"
         },
         "mode": "lines",
         "name": "International taxes",
         "orientation": "v",
         "showlegend": true,
         "type": "scatter",
         "x": [
          1990,
          1991,
          1992,
          1993,
          1994,
          1995,
          1996,
          1997,
          1998,
          1999,
          2000,
          2001,
          2002,
          2003,
          2004,
          2005,
          2006,
          2007,
          2008,
          2009,
          2010,
          2011,
          2012,
          2013,
          2014,
          2015,
          2016,
          2017,
          2018,
          2019,
          2020,
          2021
         ],
         "xaxis": "x",
         "y": [
          0.0588342440801457,
          0.0735883424408014,
          0.2262295081967213,
          0.0743169398907103,
          0,
          0.1326047358834244,
          0.1577413479052823,
          0.194535519125683,
          0.2014571948998178,
          0.2557377049180327,
          0.3180327868852459,
          0.2947176684881603,
          0.3111111111111111,
          0.3095810564663023,
          0.3825136612021858,
          0.443351548269581,
          0.4918032786885246,
          0.6087431693989072,
          0.6670309653916211,
          0.6768670309653916,
          0.7814207650273224,
          0.8622950819672132,
          0.7282331511839708,
          0.6389799635701275,
          0.8131147540983606,
          0.8473588342440801,
          1,
          0.898360655737705,
          0.8163934426229508,
          0.9005464480874317,
          0.9005464480874317,
          0.9005464480874317
         ],
         "yaxis": "y"
        },
        {
         "hovertemplate": "variable=Literacy rate<br>Year=%{x}<br>value=%{y}<extra></extra>",
         "legendgroup": "Literacy rate",
         "line": {
          "color": "#00cc96",
          "dash": "solid"
         },
         "marker": {
          "symbol": "circle"
         },
         "mode": "lines",
         "name": "Literacy rate",
         "orientation": "v",
         "showlegend": true,
         "type": "scatter",
         "x": [
          1990,
          1991,
          1992,
          1993,
          1994,
          1995,
          1996,
          1997,
          1998,
          1999,
          2000,
          2001,
          2002,
          2003,
          2004,
          2005,
          2006,
          2007,
          2008,
          2009,
          2010,
          2011,
          2012,
          2013,
          2014,
          2015,
          2016,
          2017,
          2018,
          2019,
          2020,
          2021
         ],
         "xaxis": "x",
         "y": [
          null,
          null,
          null,
          null,
          null,
          null,
          null,
          null,
          null,
          null,
          null,
          null,
          null,
          null,
          null,
          null,
          null,
          null,
          null,
          null,
          null,
          null,
          null,
          null,
          null,
          null,
          null,
          null,
          null,
          null,
          null,
          null
         ],
         "yaxis": "y"
        },
        {
         "hovertemplate": "variable=Mortality-infants<br>Year=%{x}<br>value=%{y}<extra></extra>",
         "legendgroup": "Mortality-infants",
         "line": {
          "color": "#ab63fa",
          "dash": "solid"
         },
         "marker": {
          "symbol": "circle"
         },
         "mode": "lines",
         "name": "Mortality-infants",
         "orientation": "v",
         "showlegend": true,
         "type": "scatter",
         "x": [
          1990,
          1991,
          1992,
          1993,
          1994,
          1995,
          1996,
          1997,
          1998,
          1999,
          2000,
          2001,
          2002,
          2003,
          2004,
          2005,
          2006,
          2007,
          2008,
          2009,
          2010,
          2011,
          2012,
          2013,
          2014,
          2015,
          2016,
          2017,
          2018,
          2019,
          2020,
          2021
         ],
         "xaxis": "x",
         "y": [
          1,
          0.934640522875817,
          0.8583877995642701,
          0.775599128540305,
          0.6928104575163399,
          0.6187363834422658,
          0.5642701525054467,
          0.5250544662309368,
          0.494553376906318,
          0.4640522875816993,
          0.4357298474945534,
          0.4074074074074074,
          0.3769063180827887,
          0.3442265795206972,
          0.3050108932461873,
          0.2679738562091503,
          0.2352941176470588,
          0.2069716775599128,
          0.1873638344226579,
          0.1721132897603486,
          0.1568627450980392,
          0.1416122004357298,
          0.1263616557734204,
          0.1089324618736383,
          0.0936819172113289,
          0.0762527233115468,
          0.0631808278867102,
          0.0479302832244008,
          0.0348583877995642,
          0.0174291938997821,
          0,
          0
         ],
         "yaxis": "y"
        },
        {
         "hovertemplate": "variable=Net migration<br>Year=%{x}<br>value=%{y}<extra></extra>",
         "legendgroup": "Net migration",
         "line": {
          "color": "#FFA15A",
          "dash": "solid"
         },
         "marker": {
          "symbol": "circle"
         },
         "mode": "lines",
         "name": "Net migration",
         "orientation": "v",
         "showlegend": true,
         "type": "scatter",
         "x": [
          1990,
          1991,
          1992,
          1993,
          1994,
          1995,
          1996,
          1997,
          1998,
          1999,
          2000,
          2001,
          2002,
          2003,
          2004,
          2005,
          2006,
          2007,
          2008,
          2009,
          2010,
          2011,
          2012,
          2013,
          2014,
          2015,
          2016,
          2017,
          2018,
          2019,
          2020,
          2021
         ],
         "xaxis": "x",
         "y": [
          1,
          1,
          1,
          0.9045396472712124,
          0.8090792945424247,
          0.713618941813637,
          0.6181585890848492,
          0.5226982363560616,
          0.4567819284358654,
          0.3908656205156691,
          0.3249493125954729,
          0.2590330046752765,
          0.1931166967550803,
          0.272133499976855,
          0.3511503031986298,
          0.4301671064204045,
          0.5091839096421793,
          0.588200712863954,
          0.4705605702911632,
          0.3529204277183724,
          0.2352802851455816,
          0.1176401425727908,
          0,
          0.0141207239735221,
          0.0282414479470443,
          0.0423621719205665,
          0.0564828958940887,
          0.0706036198676109,
          0.0706036198676109,
          0.0706036198676109,
          0.0706036198676109,
          0.0706036198676109
         ],
         "yaxis": "y"
        },
        {
         "hovertemplate": "variable=Ninis<br>Year=%{x}<br>value=%{y}<extra></extra>",
         "legendgroup": "Ninis",
         "line": {
          "color": "#19d3f3",
          "dash": "solid"
         },
         "marker": {
          "symbol": "circle"
         },
         "mode": "lines",
         "name": "Ninis",
         "orientation": "v",
         "showlegend": true,
         "type": "scatter",
         "x": [
          1990,
          1991,
          1992,
          1993,
          1994,
          1995,
          1996,
          1997,
          1998,
          1999,
          2000,
          2001,
          2002,
          2003,
          2004,
          2005,
          2006,
          2007,
          2008,
          2009,
          2010,
          2011,
          2012,
          2013,
          2014,
          2015,
          2016,
          2017,
          2018,
          2019,
          2020,
          2021
         ],
         "xaxis": "x",
         "y": [
          0.9574468516828836,
          0.9574468516828836,
          0.9574468516828836,
          0.9574468516828836,
          0.9574468516828836,
          0.9574468516828836,
          0.9574468516828836,
          0.9574468516828836,
          0.9574468516828836,
          0.9574468516828836,
          0.9574468516828836,
          0.9574468516828836,
          0.9574468516828836,
          0.9574468516828836,
          0.9574468516828836,
          0.9574468516828836,
          0.9574468516828836,
          0.9574468516828836,
          0.9574468516828836,
          0.9574468516828836,
          0.9574468516828836,
          0.9574468516828836,
          0.9574468516828836,
          0.452127834961587,
          0.4734044091201986,
          0.3936173828439215,
          0.0585109593912525,
          0,
          0.585106550271053,
          1,
          1,
          1
         ],
         "yaxis": "y"
        },
        {
         "hovertemplate": "variable=R&D GExp<br>Year=%{x}<br>value=%{y}<extra></extra>",
         "legendgroup": "R&D GExp",
         "line": {
          "color": "#FF6692",
          "dash": "solid"
         },
         "marker": {
          "symbol": "circle"
         },
         "mode": "lines",
         "name": "R&D GExp",
         "orientation": "v",
         "showlegend": true,
         "type": "scatter",
         "x": [
          1990,
          1991,
          1992,
          1993,
          1994,
          1995,
          1996,
          1997,
          1998,
          1999,
          2000,
          2001,
          2002,
          2003,
          2004,
          2005,
          2006,
          2007,
          2008,
          2009,
          2010,
          2011,
          2012,
          2013,
          2014,
          2015,
          2016,
          2017,
          2018,
          2019,
          2020,
          2021
         ],
         "xaxis": "x",
         "y": [
          0.0937602807325363,
          0.0937602807325363,
          0.0937602807325363,
          0.0937602807325363,
          0.0937602807325363,
          0.0937602807325363,
          0.0937602807325363,
          0.0937602807325363,
          0.0937602807325363,
          0.0937602807325363,
          0.0937602807325363,
          0.4880704337881658,
          0.402973383673022,
          0.0307051211755675,
          0,
          0.2737612206852253,
          0.4191092381683458,
          0.859915717575548,
          0.7344633653439442,
          0.4065138721351023,
          0.097081446900506,
          0.2222674792035466,
          0.4512242883774841,
          0.3488164429057067,
          0.4708223019441356,
          0.6138047718264844,
          1,
          1,
          1,
          1,
          1,
          1
         ],
         "yaxis": "y"
        },
        {
         "hovertemplate": "variable=Renewable electricity<br>Year=%{x}<br>value=%{y}<extra></extra>",
         "legendgroup": "Renewable electricity",
         "line": {
          "color": "#B6E880",
          "dash": "solid"
         },
         "marker": {
          "symbol": "circle"
         },
         "mode": "lines",
         "name": "Renewable electricity",
         "orientation": "v",
         "showlegend": true,
         "type": "scatter",
         "x": [
          1990,
          1991,
          1992,
          1993,
          1994,
          1995,
          1996,
          1997,
          1998,
          1999,
          2000,
          2001,
          2002,
          2003,
          2004,
          2005,
          2006,
          2007,
          2008,
          2009,
          2010,
          2011,
          2012,
          2013,
          2014,
          2015,
          2016,
          2017,
          2018,
          2019,
          2020,
          2021
         ],
         "xaxis": "x",
         "y": [
          0,
          0,
          0,
          0,
          0,
          0,
          0,
          0,
          0,
          0,
          0,
          0.0719424460431654,
          0.079136690647482,
          0.0863309352517985,
          0.079136690647482,
          0.079136690647482,
          0.0719424460431654,
          0.0719424460431654,
          0.1151079136690647,
          0.539568345323741,
          1,
          1,
          1,
          1,
          1,
          1,
          1,
          1,
          1,
          1,
          1,
          1
         ],
         "yaxis": "y"
        },
        {
         "hovertemplate": "variable=Suicide<br>Year=%{x}<br>value=%{y}<extra></extra>",
         "legendgroup": "Suicide",
         "line": {
          "color": "#FF97FF",
          "dash": "solid"
         },
         "marker": {
          "symbol": "circle"
         },
         "mode": "lines",
         "name": "Suicide",
         "orientation": "v",
         "showlegend": true,
         "type": "scatter",
         "x": [
          1990,
          1991,
          1992,
          1993,
          1994,
          1995,
          1996,
          1997,
          1998,
          1999,
          2000,
          2001,
          2002,
          2003,
          2004,
          2005,
          2006,
          2007,
          2008,
          2009,
          2010,
          2011,
          2012,
          2013,
          2014,
          2015,
          2016,
          2017,
          2018,
          2019,
          2020,
          2021
         ],
         "xaxis": "x",
         "y": [
          1,
          1,
          1,
          1,
          1,
          1,
          1,
          1,
          1,
          1,
          1,
          0.8260869565217394,
          0.6086956521739132,
          0.8260869565217394,
          0.6956521739130433,
          0.9565217391304348,
          0.4347826086956522,
          0.3043478260869566,
          0.3478260869565217,
          0.6521739130434783,
          0.9565217391304348,
          0.5217391304347827,
          0.6956521739130433,
          0.3043478260869566,
          0.2608695652173912,
          0,
          0.3043478260869566,
          0.2608695652173912,
          0.3913043478260871,
          0.3478260869565217,
          0.3478260869565217,
          0.3478260869565217
         ],
         "yaxis": "y"
        },
        {
         "hovertemplate": "variable=Workers high education<br>Year=%{x}<br>value=%{y}<extra></extra>",
         "legendgroup": "Workers high education",
         "line": {
          "color": "#FECB52",
          "dash": "solid"
         },
         "marker": {
          "symbol": "circle"
         },
         "mode": "lines",
         "name": "Workers high education",
         "orientation": "v",
         "showlegend": true,
         "type": "scatter",
         "x": [
          1990,
          1991,
          1992,
          1993,
          1994,
          1995,
          1996,
          1997,
          1998,
          1999,
          2000,
          2001,
          2002,
          2003,
          2004,
          2005,
          2006,
          2007,
          2008,
          2009,
          2010,
          2011,
          2012,
          2013,
          2014,
          2015,
          2016,
          2017,
          2018,
          2019,
          2020,
          2021
         ],
         "xaxis": "x",
         "y": [
          0,
          0,
          0,
          0,
          0,
          0,
          0,
          0,
          0,
          0,
          0,
          0,
          0,
          0,
          0,
          0,
          0,
          0,
          0,
          0,
          0.0426666259765738,
          0.248000081380214,
          0.9333333333333332,
          0.8826670328776136,
          0.9839996337890664,
          0.9759999593099072,
          1,
          0.8626668294270928,
          0.5893330891927197,
          0.5266662597656269,
          0.374666341145839,
          0.374666341145839
         ],
         "yaxis": "y"
        }
       ],
       "layout": {
        "height": 600,
        "legend": {
         "title": {
          "text": "variable"
         },
         "tracegroupgap": 0
        },
        "template": {
         "data": {
          "bar": [
           {
            "error_x": {
             "color": "#2a3f5f"
            },
            "error_y": {
             "color": "#2a3f5f"
            },
            "marker": {
             "line": {
              "color": "#E5ECF6",
              "width": 0.5
             },
             "pattern": {
              "fillmode": "overlay",
              "size": 10,
              "solidity": 0.2
             }
            },
            "type": "bar"
           }
          ],
          "barpolar": [
           {
            "marker": {
             "line": {
              "color": "#E5ECF6",
              "width": 0.5
             },
             "pattern": {
              "fillmode": "overlay",
              "size": 10,
              "solidity": 0.2
             }
            },
            "type": "barpolar"
           }
          ],
          "carpet": [
           {
            "aaxis": {
             "endlinecolor": "#2a3f5f",
             "gridcolor": "white",
             "linecolor": "white",
             "minorgridcolor": "white",
             "startlinecolor": "#2a3f5f"
            },
            "baxis": {
             "endlinecolor": "#2a3f5f",
             "gridcolor": "white",
             "linecolor": "white",
             "minorgridcolor": "white",
             "startlinecolor": "#2a3f5f"
            },
            "type": "carpet"
           }
          ],
          "choropleth": [
           {
            "colorbar": {
             "outlinewidth": 0,
             "ticks": ""
            },
            "type": "choropleth"
           }
          ],
          "contour": [
           {
            "colorbar": {
             "outlinewidth": 0,
             "ticks": ""
            },
            "colorscale": [
             [
              0,
              "#0d0887"
             ],
             [
              0.1111111111111111,
              "#46039f"
             ],
             [
              0.2222222222222222,
              "#7201a8"
             ],
             [
              0.3333333333333333,
              "#9c179e"
             ],
             [
              0.4444444444444444,
              "#bd3786"
             ],
             [
              0.5555555555555556,
              "#d8576b"
             ],
             [
              0.6666666666666666,
              "#ed7953"
             ],
             [
              0.7777777777777778,
              "#fb9f3a"
             ],
             [
              0.8888888888888888,
              "#fdca26"
             ],
             [
              1,
              "#f0f921"
             ]
            ],
            "type": "contour"
           }
          ],
          "contourcarpet": [
           {
            "colorbar": {
             "outlinewidth": 0,
             "ticks": ""
            },
            "type": "contourcarpet"
           }
          ],
          "heatmap": [
           {
            "colorbar": {
             "outlinewidth": 0,
             "ticks": ""
            },
            "colorscale": [
             [
              0,
              "#0d0887"
             ],
             [
              0.1111111111111111,
              "#46039f"
             ],
             [
              0.2222222222222222,
              "#7201a8"
             ],
             [
              0.3333333333333333,
              "#9c179e"
             ],
             [
              0.4444444444444444,
              "#bd3786"
             ],
             [
              0.5555555555555556,
              "#d8576b"
             ],
             [
              0.6666666666666666,
              "#ed7953"
             ],
             [
              0.7777777777777778,
              "#fb9f3a"
             ],
             [
              0.8888888888888888,
              "#fdca26"
             ],
             [
              1,
              "#f0f921"
             ]
            ],
            "type": "heatmap"
           }
          ],
          "heatmapgl": [
           {
            "colorbar": {
             "outlinewidth": 0,
             "ticks": ""
            },
            "colorscale": [
             [
              0,
              "#0d0887"
             ],
             [
              0.1111111111111111,
              "#46039f"
             ],
             [
              0.2222222222222222,
              "#7201a8"
             ],
             [
              0.3333333333333333,
              "#9c179e"
             ],
             [
              0.4444444444444444,
              "#bd3786"
             ],
             [
              0.5555555555555556,
              "#d8576b"
             ],
             [
              0.6666666666666666,
              "#ed7953"
             ],
             [
              0.7777777777777778,
              "#fb9f3a"
             ],
             [
              0.8888888888888888,
              "#fdca26"
             ],
             [
              1,
              "#f0f921"
             ]
            ],
            "type": "heatmapgl"
           }
          ],
          "histogram": [
           {
            "marker": {
             "pattern": {
              "fillmode": "overlay",
              "size": 10,
              "solidity": 0.2
             }
            },
            "type": "histogram"
           }
          ],
          "histogram2d": [
           {
            "colorbar": {
             "outlinewidth": 0,
             "ticks": ""
            },
            "colorscale": [
             [
              0,
              "#0d0887"
             ],
             [
              0.1111111111111111,
              "#46039f"
             ],
             [
              0.2222222222222222,
              "#7201a8"
             ],
             [
              0.3333333333333333,
              "#9c179e"
             ],
             [
              0.4444444444444444,
              "#bd3786"
             ],
             [
              0.5555555555555556,
              "#d8576b"
             ],
             [
              0.6666666666666666,
              "#ed7953"
             ],
             [
              0.7777777777777778,
              "#fb9f3a"
             ],
             [
              0.8888888888888888,
              "#fdca26"
             ],
             [
              1,
              "#f0f921"
             ]
            ],
            "type": "histogram2d"
           }
          ],
          "histogram2dcontour": [
           {
            "colorbar": {
             "outlinewidth": 0,
             "ticks": ""
            },
            "colorscale": [
             [
              0,
              "#0d0887"
             ],
             [
              0.1111111111111111,
              "#46039f"
             ],
             [
              0.2222222222222222,
              "#7201a8"
             ],
             [
              0.3333333333333333,
              "#9c179e"
             ],
             [
              0.4444444444444444,
              "#bd3786"
             ],
             [
              0.5555555555555556,
              "#d8576b"
             ],
             [
              0.6666666666666666,
              "#ed7953"
             ],
             [
              0.7777777777777778,
              "#fb9f3a"
             ],
             [
              0.8888888888888888,
              "#fdca26"
             ],
             [
              1,
              "#f0f921"
             ]
            ],
            "type": "histogram2dcontour"
           }
          ],
          "mesh3d": [
           {
            "colorbar": {
             "outlinewidth": 0,
             "ticks": ""
            },
            "type": "mesh3d"
           }
          ],
          "parcoords": [
           {
            "line": {
             "colorbar": {
              "outlinewidth": 0,
              "ticks": ""
             }
            },
            "type": "parcoords"
           }
          ],
          "pie": [
           {
            "automargin": true,
            "type": "pie"
           }
          ],
          "scatter": [
           {
            "fillpattern": {
             "fillmode": "overlay",
             "size": 10,
             "solidity": 0.2
            },
            "type": "scatter"
           }
          ],
          "scatter3d": [
           {
            "line": {
             "colorbar": {
              "outlinewidth": 0,
              "ticks": ""
             }
            },
            "marker": {
             "colorbar": {
              "outlinewidth": 0,
              "ticks": ""
             }
            },
            "type": "scatter3d"
           }
          ],
          "scattercarpet": [
           {
            "marker": {
             "colorbar": {
              "outlinewidth": 0,
              "ticks": ""
             }
            },
            "type": "scattercarpet"
           }
          ],
          "scattergeo": [
           {
            "marker": {
             "colorbar": {
              "outlinewidth": 0,
              "ticks": ""
             }
            },
            "type": "scattergeo"
           }
          ],
          "scattergl": [
           {
            "marker": {
             "colorbar": {
              "outlinewidth": 0,
              "ticks": ""
             }
            },
            "type": "scattergl"
           }
          ],
          "scattermapbox": [
           {
            "marker": {
             "colorbar": {
              "outlinewidth": 0,
              "ticks": ""
             }
            },
            "type": "scattermapbox"
           }
          ],
          "scatterpolar": [
           {
            "marker": {
             "colorbar": {
              "outlinewidth": 0,
              "ticks": ""
             }
            },
            "type": "scatterpolar"
           }
          ],
          "scatterpolargl": [
           {
            "marker": {
             "colorbar": {
              "outlinewidth": 0,
              "ticks": ""
             }
            },
            "type": "scatterpolargl"
           }
          ],
          "scatterternary": [
           {
            "marker": {
             "colorbar": {
              "outlinewidth": 0,
              "ticks": ""
             }
            },
            "type": "scatterternary"
           }
          ],
          "surface": [
           {
            "colorbar": {
             "outlinewidth": 0,
             "ticks": ""
            },
            "colorscale": [
             [
              0,
              "#0d0887"
             ],
             [
              0.1111111111111111,
              "#46039f"
             ],
             [
              0.2222222222222222,
              "#7201a8"
             ],
             [
              0.3333333333333333,
              "#9c179e"
             ],
             [
              0.4444444444444444,
              "#bd3786"
             ],
             [
              0.5555555555555556,
              "#d8576b"
             ],
             [
              0.6666666666666666,
              "#ed7953"
             ],
             [
              0.7777777777777778,
              "#fb9f3a"
             ],
             [
              0.8888888888888888,
              "#fdca26"
             ],
             [
              1,
              "#f0f921"
             ]
            ],
            "type": "surface"
           }
          ],
          "table": [
           {
            "cells": {
             "fill": {
              "color": "#EBF0F8"
             },
             "line": {
              "color": "white"
             }
            },
            "header": {
             "fill": {
              "color": "#C8D4E3"
             },
             "line": {
              "color": "white"
             }
            },
            "type": "table"
           }
          ]
         },
         "layout": {
          "annotationdefaults": {
           "arrowcolor": "#2a3f5f",
           "arrowhead": 0,
           "arrowwidth": 1
          },
          "autotypenumbers": "strict",
          "coloraxis": {
           "colorbar": {
            "outlinewidth": 0,
            "ticks": ""
           }
          },
          "colorscale": {
           "diverging": [
            [
             0,
             "#8e0152"
            ],
            [
             0.1,
             "#c51b7d"
            ],
            [
             0.2,
             "#de77ae"
            ],
            [
             0.3,
             "#f1b6da"
            ],
            [
             0.4,
             "#fde0ef"
            ],
            [
             0.5,
             "#f7f7f7"
            ],
            [
             0.6,
             "#e6f5d0"
            ],
            [
             0.7,
             "#b8e186"
            ],
            [
             0.8,
             "#7fbc41"
            ],
            [
             0.9,
             "#4d9221"
            ],
            [
             1,
             "#276419"
            ]
           ],
           "sequential": [
            [
             0,
             "#0d0887"
            ],
            [
             0.1111111111111111,
             "#46039f"
            ],
            [
             0.2222222222222222,
             "#7201a8"
            ],
            [
             0.3333333333333333,
             "#9c179e"
            ],
            [
             0.4444444444444444,
             "#bd3786"
            ],
            [
             0.5555555555555556,
             "#d8576b"
            ],
            [
             0.6666666666666666,
             "#ed7953"
            ],
            [
             0.7777777777777778,
             "#fb9f3a"
            ],
            [
             0.8888888888888888,
             "#fdca26"
            ],
            [
             1,
             "#f0f921"
            ]
           ],
           "sequentialminus": [
            [
             0,
             "#0d0887"
            ],
            [
             0.1111111111111111,
             "#46039f"
            ],
            [
             0.2222222222222222,
             "#7201a8"
            ],
            [
             0.3333333333333333,
             "#9c179e"
            ],
            [
             0.4444444444444444,
             "#bd3786"
            ],
            [
             0.5555555555555556,
             "#d8576b"
            ],
            [
             0.6666666666666666,
             "#ed7953"
            ],
            [
             0.7777777777777778,
             "#fb9f3a"
            ],
            [
             0.8888888888888888,
             "#fdca26"
            ],
            [
             1,
             "#f0f921"
            ]
           ]
          },
          "colorway": [
           "#636efa",
           "#EF553B",
           "#00cc96",
           "#ab63fa",
           "#FFA15A",
           "#19d3f3",
           "#FF6692",
           "#B6E880",
           "#FF97FF",
           "#FECB52"
          ],
          "font": {
           "color": "#2a3f5f"
          },
          "geo": {
           "bgcolor": "white",
           "lakecolor": "white",
           "landcolor": "#E5ECF6",
           "showlakes": true,
           "showland": true,
           "subunitcolor": "white"
          },
          "hoverlabel": {
           "align": "left"
          },
          "hovermode": "closest",
          "mapbox": {
           "style": "light"
          },
          "paper_bgcolor": "white",
          "plot_bgcolor": "#E5ECF6",
          "polar": {
           "angularaxis": {
            "gridcolor": "white",
            "linecolor": "white",
            "ticks": ""
           },
           "bgcolor": "#E5ECF6",
           "radialaxis": {
            "gridcolor": "white",
            "linecolor": "white",
            "ticks": ""
           }
          },
          "scene": {
           "xaxis": {
            "backgroundcolor": "#E5ECF6",
            "gridcolor": "white",
            "gridwidth": 2,
            "linecolor": "white",
            "showbackground": true,
            "ticks": "",
            "zerolinecolor": "white"
           },
           "yaxis": {
            "backgroundcolor": "#E5ECF6",
            "gridcolor": "white",
            "gridwidth": 2,
            "linecolor": "white",
            "showbackground": true,
            "ticks": "",
            "zerolinecolor": "white"
           },
           "zaxis": {
            "backgroundcolor": "#E5ECF6",
            "gridcolor": "white",
            "gridwidth": 2,
            "linecolor": "white",
            "showbackground": true,
            "ticks": "",
            "zerolinecolor": "white"
           }
          },
          "shapedefaults": {
           "line": {
            "color": "#2a3f5f"
           }
          },
          "ternary": {
           "aaxis": {
            "gridcolor": "white",
            "linecolor": "white",
            "ticks": ""
           },
           "baxis": {
            "gridcolor": "white",
            "linecolor": "white",
            "ticks": ""
           },
           "bgcolor": "#E5ECF6",
           "caxis": {
            "gridcolor": "white",
            "linecolor": "white",
            "ticks": ""
           }
          },
          "title": {
           "x": 0.05
          },
          "xaxis": {
           "automargin": true,
           "gridcolor": "white",
           "linecolor": "white",
           "ticks": "",
           "title": {
            "standoff": 15
           },
           "zerolinecolor": "white",
           "zerolinewidth": 2
          },
          "yaxis": {
           "automargin": true,
           "gridcolor": "white",
           "linecolor": "white",
           "ticks": "",
           "title": {
            "standoff": 15
           },
           "zerolinecolor": "white",
           "zerolinewidth": 2
          }
         }
        },
        "title": {
         "text": "ISR"
        },
        "width": 800,
        "xaxis": {
         "anchor": "y",
         "domain": [
          0,
          1
         ],
         "title": {
          "text": "Year"
         }
        },
        "yaxis": {
         "anchor": "x",
         "domain": [
          0,
          1
         ],
         "title": {
          "text": "value"
         }
        }
       }
      }
     },
     "metadata": {},
     "output_type": "display_data"
    },
    {
     "data": {
      "application/vnd.plotly.v1+json": {
       "config": {
        "plotlyServerURL": "https://plot.ly"
       },
       "data": [
        {
         "hovertemplate": "variable=Alcohol per capita<br>Year=%{x}<br>value=%{y}<extra></extra>",
         "legendgroup": "Alcohol per capita",
         "line": {
          "color": "#636efa",
          "dash": "solid"
         },
         "marker": {
          "symbol": "circle"
         },
         "mode": "lines",
         "name": "Alcohol per capita",
         "orientation": "v",
         "showlegend": true,
         "type": "scatter",
         "x": [
          1990,
          1991,
          1992,
          1993,
          1994,
          1995,
          1996,
          1997,
          1998,
          1999,
          2000,
          2001,
          2002,
          2003,
          2004,
          2005,
          2006,
          2007,
          2008,
          2009,
          2010,
          2011,
          2012,
          2013,
          2014,
          2015,
          2016,
          2017,
          2018,
          2019,
          2020,
          2021
         ],
         "xaxis": "x",
         "y": [
          1,
          1,
          1,
          1,
          1,
          1,
          1,
          1,
          1,
          1,
          1,
          0.8388888888888895,
          0.6777777777777778,
          0.5166666666666673,
          0.3555555555555555,
          0.194444444444445,
          0.3055555555555562,
          0.4166666666666673,
          0.5277777777777771,
          0.6388888888888883,
          0.7499999999999993,
          0.6388888888888883,
          0.5277777777777771,
          0.4166666666666673,
          0.3055555555555562,
          0.194444444444445,
          0.12962962962963,
          0.064814814814815,
          0,
          0,
          0,
          0
         ],
         "yaxis": "y"
        },
        {
         "hovertemplate": "variable=Education GExp<br>Year=%{x}<br>value=%{y}<extra></extra>",
         "legendgroup": "Education GExp",
         "line": {
          "color": "#EF553B",
          "dash": "solid"
         },
         "marker": {
          "symbol": "circle"
         },
         "mode": "lines",
         "name": "Education GExp",
         "orientation": "v",
         "showlegend": true,
         "type": "scatter",
         "x": [
          1990,
          1991,
          1992,
          1993,
          1994,
          1995,
          1996,
          1997,
          1998,
          1999,
          2000,
          2001,
          2002,
          2003,
          2004,
          2005,
          2006,
          2007,
          2008,
          2009,
          2010,
          2011,
          2012,
          2013,
          2014,
          2015,
          2016,
          2017,
          2018,
          2019,
          2020,
          2021
         ],
         "xaxis": "x",
         "y": [
          0.1473066633318003,
          0.1473066633318003,
          0.1473066633318003,
          0.1473066633318003,
          0.1473066633318003,
          0.1473066633318003,
          0.1473066633318003,
          0.1473066633318003,
          0.1473066633318003,
          0.1473066633318003,
          0.1473066633318003,
          0,
          0.2506463239793291,
          0.5384742091229462,
          1,
          0.8810985408469074,
          0.7621970816938142,
          0.7621970816938142,
          0.7621970816938142,
          0.7621970816938142,
          0.7621970816938142,
          0.7621970816938142,
          0.7621970816938142,
          0.7621970816938142,
          0.7621970816938142,
          0.7621970816938142,
          0.7621970816938142,
          0.7621970816938142,
          0.7621970816938142,
          0.7621970816938142,
          0.7621970816938142,
          0.7621970816938142
         ],
         "yaxis": "y"
        },
        {
         "hovertemplate": "variable=Employment-agriculture<br>Year=%{x}<br>value=%{y}<extra></extra>",
         "legendgroup": "Employment-agriculture",
         "line": {
          "color": "#00cc96",
          "dash": "solid"
         },
         "marker": {
          "symbol": "circle"
         },
         "mode": "lines",
         "name": "Employment-agriculture",
         "orientation": "v",
         "showlegend": true,
         "type": "scatter",
         "x": [
          1990,
          1991,
          1992,
          1993,
          1994,
          1995,
          1996,
          1997,
          1998,
          1999,
          2000,
          2001,
          2002,
          2003,
          2004,
          2005,
          2006,
          2007,
          2008,
          2009,
          2010,
          2011,
          2012,
          2013,
          2014,
          2015,
          2016,
          2017,
          2018,
          2019,
          2020,
          2021
         ],
         "xaxis": "x",
         "y": [
          1,
          1,
          0.9836909407485824,
          0.9630901013514412,
          0.969957047817152,
          0.9450644282742778,
          0.918454867463828,
          0.8669526871105036,
          0.8669526871105036,
          0.8334763435552494,
          0.7888411096676361,
          0.7751072167362054,
          0.7519313747399922,
          0.703862585759066,
          0.635193121101905,
          0.5742488279628742,
          0.5107295322247805,
          0.4609441294181085,
          0.4317595660085865,
          0.4154506704780929,
          0.4798283549895215,
          0.5193132562371521,
          0.4678110758838281,
          0.4128755041580973,
          0.2557939604990533,
          0.1974248336800093,
          0.1193132562371504,
          0.1090127546781179,
          0.0274677858628607,
          0,
          0,
          0
         ],
         "yaxis": "y"
        },
        {
         "hovertemplate": "variable=Employment-industry<br>Year=%{x}<br>value=%{y}<extra></extra>",
         "legendgroup": "Employment-industry",
         "line": {
          "color": "#ab63fa",
          "dash": "solid"
         },
         "marker": {
          "symbol": "circle"
         },
         "mode": "lines",
         "name": "Employment-industry",
         "orientation": "v",
         "showlegend": true,
         "type": "scatter",
         "x": [
          1990,
          1991,
          1992,
          1993,
          1994,
          1995,
          1996,
          1997,
          1998,
          1999,
          2000,
          2001,
          2002,
          2003,
          2004,
          2005,
          2006,
          2007,
          2008,
          2009,
          2010,
          2011,
          2012,
          2013,
          2014,
          2015,
          2016,
          2017,
          2018,
          2019,
          2020,
          2021
         ],
         "xaxis": "x",
         "y": [
          1,
          1,
          0.9770641359012026,
          0.9724773130536052,
          0.8646788830287987,
          0.846330279242812,
          0.830275305613197,
          0.8417430189300005,
          0.7316513962140138,
          0.5550458113580048,
          0.5321103847244206,
          0.2775231244116095,
          0.2408259168396141,
          0.2155964225844215,
          0.2706422339424034,
          0.3050458113580051,
          0.3371561960824258,
          0.3325689357696142,
          0.204128709267618,
          0,
          0.2110091622716099,
          0.2660549736296146,
          0.1674315016956228,
          0.2499999999999995,
          0.5871561960824262,
          0.4426605584856009,
          0.3394498262388202,
          0.2844040148808154,
          0.3119267018272103,
          0.0045872603128116,
          0.0045872603128116,
          0.0045872603128116
         ],
         "yaxis": "y"
        },
        {
         "hovertemplate": "variable=Employment-services<br>Year=%{x}<br>value=%{y}<extra></extra>",
         "legendgroup": "Employment-services",
         "line": {
          "color": "#FFA15A",
          "dash": "solid"
         },
         "marker": {
          "symbol": "circle"
         },
         "mode": "lines",
         "name": "Employment-services",
         "orientation": "v",
         "showlegend": true,
         "type": "scatter",
         "x": [
          1990,
          1991,
          1992,
          1993,
          1994,
          1995,
          1996,
          1997,
          1998,
          1999,
          2000,
          2001,
          2002,
          2003,
          2004,
          2005,
          2006,
          2007,
          2008,
          2009,
          2010,
          2011,
          2012,
          2013,
          2014,
          2015,
          2016,
          2017,
          2018,
          2019,
          2020,
          2021
         ],
         "xaxis": "x",
         "y": [
          0,
          0,
          0.01813615632102,
          0.0343964546928863,
          0.0587866636829807,
          0.0819260621392528,
          0.1063162711293472,
          0.1407129643899516,
          0.1701061769475797,
          0.2426515179348075,
          0.2814259287799033,
          0.3608503698515301,
          0.3877421999092506,
          0.4302688037880763,
          0.4646652584809631,
          0.4996872377246164,
          0.5372105994681843,
          0.5747341997794702,
          0.6310192423948187,
          0.6985615798145,
          0.5934958806512508,
          0.5503439907893758,
          0.615384468573713,
          0.6322700529286348,
          0.6554096899526249,
          0.737335752091884,
          0.8217636738664804,
          0.8442777863397098,
          0.8961851113705674,
          1,
          1,
          1
         ],
         "yaxis": "y"
        },
        {
         "hovertemplate": "variable=Exports-Commercial services<br>Year=%{x}<br>value=%{y}<extra></extra>",
         "legendgroup": "Exports-Commercial services",
         "line": {
          "color": "#19d3f3",
          "dash": "solid"
         },
         "marker": {
          "symbol": "circle"
         },
         "mode": "lines",
         "name": "Exports-Commercial services",
         "orientation": "v",
         "showlegend": true,
         "type": "scatter",
         "x": [
          1990,
          1991,
          1992,
          1993,
          1994,
          1995,
          1996,
          1997,
          1998,
          1999,
          2000,
          2001,
          2002,
          2003,
          2004,
          2005,
          2006,
          2007,
          2008,
          2009,
          2010,
          2011,
          2012,
          2013,
          2014,
          2015,
          2016,
          2017,
          2018,
          2019,
          2020,
          2021
         ],
         "xaxis": "x",
         "y": [
          0,
          0.0051976397906146,
          0.0255257754841573,
          0.0487579305624919,
          0.0525498030076022,
          0.1219503172224996,
          0.0919297856204798,
          0.2084789967260418,
          0.2813569354271868,
          0.1524887631097053,
          0.208774947746148,
          0.1317167008860033,
          0.1127573386604516,
          0.1857832528716497,
          0.2765107374729482,
          0.3629099384051939,
          0.3307252649686477,
          0.4017720067328857,
          0.5321569280284113,
          0.5081848953998114,
          0.5194680280413592,
          0.6079573830531048,
          0.6461720585243143,
          0.9272330429313947,
          0.9894937387862308,
          0.8634001072822448,
          0.6943565839853504,
          0.8298651573164642,
          0.92423653885282,
          1,
          0.5027467954053604,
          0.8990437082662819
         ],
         "yaxis": "y"
        },
        {
         "hovertemplate": "variable=Exports-G&S<br>Year=%{x}<br>value=%{y}<extra></extra>",
         "legendgroup": "Exports-G&S",
         "line": {
          "color": "#FF6692",
          "dash": "solid"
         },
         "marker": {
          "symbol": "circle"
         },
         "mode": "lines",
         "name": "Exports-G&S",
         "orientation": "v",
         "showlegend": true,
         "type": "scatter",
         "x": [
          1990,
          1991,
          1992,
          1993,
          1994,
          1995,
          1996,
          1997,
          1998,
          1999,
          2000,
          2001,
          2002,
          2003,
          2004,
          2005,
          2006,
          2007,
          2008,
          2009,
          2010,
          2011,
          2012,
          2013,
          2014,
          2015,
          2016,
          2017,
          2018,
          2019,
          2020,
          2021
         ],
         "xaxis": "x",
         "y": [
          0,
          0.0027530748537618,
          0.0117043779395181,
          0.0197342503367774,
          0.0341341189452194,
          0.0595598665581164,
          0.083168858584106,
          0.1163807363082385,
          0.1618660682509925,
          0.1232418089201567,
          0.150909427553573,
          0.152248277124647,
          0.1762731687214355,
          0.2291836078892209,
          0.3354457935109424,
          0.3975940419549447,
          0.4589763071699769,
          0.5659802705825561,
          0.7082517841855848,
          0.5773644219561853,
          0.6341388554435056,
          0.7577989483410587,
          0.8527785903781119,
          0.9114554010082718,
          0.9499879297344518,
          0.8418834424548826,
          0.7924283392045088,
          0.8929946726928257,
          0.975646353538152,
          1,
          0.8170779117242136,
          0.8170779117242136
         ],
         "yaxis": "y"
        },
        {
         "hovertemplate": "variable=Fertility rate<br>Year=%{x}<br>value=%{y}<extra></extra>",
         "legendgroup": "Fertility rate",
         "line": {
          "color": "#B6E880",
          "dash": "solid"
         },
         "marker": {
          "symbol": "circle"
         },
         "mode": "lines",
         "name": "Fertility rate",
         "orientation": "v",
         "showlegend": true,
         "type": "scatter",
         "x": [
          1990,
          1991,
          1992,
          1993,
          1994,
          1995,
          1996,
          1997,
          1998,
          1999,
          2000,
          2001,
          2002,
          2003,
          2004,
          2005,
          2006,
          2007,
          2008,
          2009,
          2010,
          2011,
          2012,
          2013,
          2014,
          2015,
          2016,
          2017,
          2018,
          2019,
          2020,
          2021
         ],
         "xaxis": "x",
         "y": [
          1,
          0.9147940074906366,
          0.8408239700374528,
          0.7762172284644192,
          0.7209737827715356,
          0.6704119850187263,
          0.6235955056179774,
          0.5786516853932583,
          0.5318352059925094,
          0.4840823970037452,
          0.4344569288389512,
          0.3857677902621721,
          0.338014981273408,
          0.2940074906367041,
          0.2537453183520598,
          0.2191011235955056,
          0.1882022471910112,
          0.1629213483146066,
          0.1404494382022471,
          0.1207865168539325,
          0.1048689138576775,
          0.091760299625468,
          0.0814606741573031,
          0.0730337078651684,
          0.0655430711610485,
          0.0580524344569286,
          0.0496254681647939,
          0.039325842696629,
          0.0280898876404492,
          0.0149812734082397,
          0,
          0
         ],
         "yaxis": "y"
        },
        {
         "hovertemplate": "variable=Foreign investment<br>Year=%{x}<br>value=%{y}<extra></extra>",
         "legendgroup": "Foreign investment",
         "line": {
          "color": "#FF97FF",
          "dash": "solid"
         },
         "marker": {
          "symbol": "circle"
         },
         "mode": "lines",
         "name": "Foreign investment",
         "orientation": "v",
         "showlegend": true,
         "type": "scatter",
         "x": [
          1990,
          1991,
          1992,
          1993,
          1994,
          1995,
          1996,
          1997,
          1998,
          1999,
          2000,
          2001,
          2002,
          2003,
          2004,
          2005,
          2006,
          2007,
          2008,
          2009,
          2010,
          2011,
          2012,
          2013,
          2014,
          2015,
          2016,
          2017,
          2018,
          2019,
          2020,
          2021
         ],
         "xaxis": "x",
         "y": [
          0.9703464622522568,
          0.9661606737606536,
          0.9663623985072368,
          0.9742800948106308,
          0.9774572595693176,
          0.9667154168137576,
          0.9747844066770892,
          0.9777094155025468,
          0.976751222956276,
          0.9986887891472086,
          1,
          0.8616672550305109,
          0.9582934086439054,
          0.944021382823138,
          0.9045337636794594,
          0.5534318422512482,
          0.0342932069191588,
          0,
          0.1330879015583236,
          0.6510161884109134,
          0.6215139442231076,
          0.3090927429522416,
          0.5195925160119017,
          0.5050179030712593,
          0.6885874224620505,
          0.2911896716929749,
          0.4661858893539765,
          0.5776388118412427,
          0.5560542639568309,
          0.6713903878158253,
          0.7740682838267184,
          0.6174794492914418
         ],
         "yaxis": "y"
        },
        {
         "hovertemplate": "variable=GDP<br>Year=%{x}<br>value=%{y}<extra></extra>",
         "legendgroup": "GDP",
         "line": {
          "color": "#FECB52",
          "dash": "solid"
         },
         "marker": {
          "symbol": "circle"
         },
         "mode": "lines",
         "name": "GDP",
         "orientation": "v",
         "showlegend": true,
         "type": "scatter",
         "x": [
          1990,
          1991,
          1992,
          1993,
          1994,
          1995,
          1996,
          1997,
          1998,
          1999,
          2000,
          2001,
          2002,
          2003,
          2004,
          2005,
          2006,
          2007,
          2008,
          2009,
          2010,
          2011,
          2012,
          2013,
          2014,
          2015,
          2016,
          2017,
          2018,
          2019,
          2020,
          2021
         ],
         "xaxis": "x",
         "y": [
          0.0241642988835082,
          0.0233802783687506,
          0.0335741727013793,
          0.0598234698229346,
          0,
          0.0469061832882281,
          0.0614022755413001,
          0.0715088722109468,
          0.1756480205285047,
          0.1519724816794447,
          0.1736356287043008,
          0.0859165645597001,
          0.1324676476034565,
          0.2223477764320164,
          0.3363417672395197,
          0.4541426513785432,
          0.5155015636982926,
          0.6657622099938535,
          0.7735189404965236,
          0.6269941728820922,
          0.7814146002810198,
          0.8560980597321272,
          0.9066288081097862,
          1,
          0.9772330370382896,
          0.8869941256470062,
          0.8934943511586366,
          0.8805614654634314,
          0.7832031560894338,
          0.7620840325348829,
          0.7124528405909741,
          0.7124528405909741
         ],
         "yaxis": "y"
        },
        {
         "hovertemplate": "variable=Health services use<br>Year=%{x}<br>value=%{y}<extra></extra>",
         "legendgroup": "Health services use",
         "line": {
          "color": "#636efa",
          "dash": "solid"
         },
         "marker": {
          "symbol": "circle"
         },
         "mode": "lines",
         "name": "Health services use",
         "orientation": "v",
         "showlegend": true,
         "type": "scatter",
         "x": [
          1990,
          1991,
          1992,
          1993,
          1994,
          1995,
          1996,
          1997,
          1998,
          1999,
          2000,
          2001,
          2002,
          2003,
          2004,
          2005,
          2006,
          2007,
          2008,
          2009,
          2010,
          2011,
          2012,
          2013,
          2014,
          2015,
          2016,
          2017,
          2018,
          2019,
          2020,
          2021
         ],
         "xaxis": "x",
         "y": [
          0,
          0,
          0,
          0,
          0,
          0,
          0,
          0,
          0,
          0,
          0,
          0.0125975291767265,
          0.0752351234440732,
          0.1366152960596175,
          0.1967695732153599,
          0.2556573695593083,
          0.313345308337053,
          0.3698144587019543,
          0.4251086868483738,
          0.4791998278124395,
          0.5321311590810295,
          0.5839061931966477,
          0.6345609768681906,
          0.6840153418493959,
          0.7323430192209056,
          0.7795666359981592,
          0.8257241910030838,
          0.870835434701838,
          0.914944006317224,
          0.9580769706315262,
          1,
          1
         ],
         "yaxis": "y"
        },
        {
         "hovertemplate": "variable=International taxes<br>Year=%{x}<br>value=%{y}<extra></extra>",
         "legendgroup": "International taxes",
         "line": {
          "color": "#EF553B",
          "dash": "solid"
         },
         "marker": {
          "symbol": "circle"
         },
         "mode": "lines",
         "name": "International taxes",
         "orientation": "v",
         "showlegend": true,
         "type": "scatter",
         "x": [
          1990,
          1991,
          1992,
          1993,
          1994,
          1995,
          1996,
          1997,
          1998,
          1999,
          2000,
          2001,
          2002,
          2003,
          2004,
          2005,
          2006,
          2007,
          2008,
          2009,
          2010,
          2011,
          2012,
          2013,
          2014,
          2015,
          2016,
          2017,
          2018,
          2019,
          2020,
          2021
         ],
         "xaxis": "x",
         "y": [
          0,
          0.00006761019389849776,
          0.0002445700574633,
          0.0006496194133309,
          0.0011192363131817,
          0.0026464608433702,
          0.0032748199452643,
          0.0078431648719278,
          0.0113492589861567,
          0.0258943744425504,
          0.0404394898989441,
          0.0549846053553378,
          0.0695297208117315,
          0.0840748362681252,
          0.0986199517245189,
          0.1131650671809126,
          0.1277101826373063,
          0.1422552980936999,
          0.1568004135500936,
          0.1394023312534558,
          0.1831799175902258,
          0.2631680973448742,
          0.2930436208341578,
          0.3737377176635273,
          0.3783446878274618,
          0.475755453249672,
          0.5368318026038379,
          0.7332709970506595,
          0.9100583731894616,
          1,
          1,
          1
         ],
         "yaxis": "y"
        },
        {
         "hovertemplate": "variable=Literacy rate<br>Year=%{x}<br>value=%{y}<extra></extra>",
         "legendgroup": "Literacy rate",
         "line": {
          "color": "#00cc96",
          "dash": "solid"
         },
         "marker": {
          "symbol": "circle"
         },
         "mode": "lines",
         "name": "Literacy rate",
         "orientation": "v",
         "showlegend": true,
         "type": "scatter",
         "x": [
          1990,
          1991,
          1992,
          1993,
          1994,
          1995,
          1996,
          1997,
          1998,
          1999,
          2000,
          2001,
          2002,
          2003,
          2004,
          2005,
          2006,
          2007,
          2008,
          2009,
          2010,
          2011,
          2012,
          2013,
          2014,
          2015,
          2016,
          2017,
          2018,
          2019,
          2020,
          2021
         ],
         "xaxis": "x",
         "y": [
          0,
          0.0331775874583648,
          0.0663551749167296,
          0.0995327623750935,
          0.1327103498334583,
          0.1658879372918231,
          0.1990655247501879,
          0.2322431122085519,
          0.2654206996669167,
          0.2985982871252815,
          0.3317758745836463,
          0.3649534620420111,
          0.3981310495003759,
          0.4313086369587399,
          0.4644862244171047,
          0.5138052120247194,
          0.5075421376281615,
          0.5381825755466497,
          0.5998858842921646,
          0.6615891930376796,
          0.7668950287990745,
          0.8494483100287171,
          0.8959172371362762,
          0.9151587402218446,
          0.9256082358513292,
          0.9348481659788788,
          0.9671678781929212,
          0.966208417373302,
          0.9831042086866514,
          1,
          1,
          1
         ],
         "yaxis": "y"
        },
        {
         "hovertemplate": "variable=Mortality-infants<br>Year=%{x}<br>value=%{y}<extra></extra>",
         "legendgroup": "Mortality-infants",
         "line": {
          "color": "#ab63fa",
          "dash": "solid"
         },
         "marker": {
          "symbol": "circle"
         },
         "mode": "lines",
         "name": "Mortality-infants",
         "orientation": "v",
         "showlegend": true,
         "type": "scatter",
         "x": [
          1990,
          1991,
          1992,
          1993,
          1994,
          1995,
          1996,
          1997,
          1998,
          1999,
          2000,
          2001,
          2002,
          2003,
          2004,
          2005,
          2006,
          2007,
          2008,
          2009,
          2010,
          2011,
          2012,
          2013,
          2014,
          2015,
          2016,
          2017,
          2018,
          2019,
          2020,
          2021
         ],
         "xaxis": "x",
         "y": [
          1,
          0.9337303198448144,
          0.8719267379437903,
          0.8146494037683644,
          0.7604697673719192,
          0.7097186508473556,
          0.6608772800409016,
          0.6134043097096284,
          0.5668937309213395,
          0.521119983158148,
          0.4761883279950677,
          0.4330010075036465,
          0.3907911159230688,
          0.3510473526713884,
          0.3134990451271409,
          0.2792288837761838,
          0.2473496639148283,
          0.2184177681538623,
          0.1913204312717102,
          0.1666290732470188,
          0.144433918286943,
          0.1244342190343002,
          0.1060284807747252,
          0.0894422640261048,
          0.0743146719598201,
          0.0602547330115336,
          0.0469316250883445,
          0.0343904602938301,
          0.0222553044315123,
          0.0106614938121231,
          0,
          0
         ],
         "yaxis": "y"
        },
        {
         "hovertemplate": "variable=Net migration<br>Year=%{x}<br>value=%{y}<extra></extra>",
         "legendgroup": "Net migration",
         "line": {
          "color": "#FFA15A",
          "dash": "solid"
         },
         "marker": {
          "symbol": "circle"
         },
         "mode": "lines",
         "name": "Net migration",
         "orientation": "v",
         "showlegend": true,
         "type": "scatter",
         "x": [
          1990,
          1991,
          1992,
          1993,
          1994,
          1995,
          1996,
          1997,
          1998,
          1999,
          2000,
          2001,
          2002,
          2003,
          2004,
          2005,
          2006,
          2007,
          2008,
          2009,
          2010,
          2011,
          2012,
          2013,
          2014,
          2015,
          2016,
          2017,
          2018,
          2019,
          2020,
          2021
         ],
         "xaxis": "x",
         "y": [
          0,
          0,
          0,
          0.0021242880008156,
          0.0042485760016313,
          0.006372864002447,
          0.0084971520032627,
          0.0106214400040784,
          0.0169940915883463,
          0.0233667431726141,
          0.029739394756882,
          0.0361120463411499,
          0.0424846979254178,
          0.0414223946113756,
          0.0403600912973334,
          0.0392977879832911,
          0.0382354846692489,
          0.0371731813552067,
          0.2297385450841653,
          0.422303908813124,
          0.6148692725420826,
          0.8074346362710413,
          1,
          0.963520576417971,
          0.927041152835942,
          0.890561729253913,
          0.854082305671884,
          0.817602882089855,
          0.817602882089855,
          0.817602882089855,
          0.817602882089855,
          0.817602882089855
         ],
         "yaxis": "y"
        },
        {
         "hovertemplate": "variable=Ninis<br>Year=%{x}<br>value=%{y}<extra></extra>",
         "legendgroup": "Ninis",
         "line": {
          "color": "#19d3f3",
          "dash": "solid"
         },
         "marker": {
          "symbol": "circle"
         },
         "mode": "lines",
         "name": "Ninis",
         "orientation": "v",
         "showlegend": true,
         "type": "scatter",
         "x": [
          1990,
          1991,
          1992,
          1993,
          1994,
          1995,
          1996,
          1997,
          1998,
          1999,
          2000,
          2001,
          2002,
          2003,
          2004,
          2005,
          2006,
          2007,
          2008,
          2009,
          2010,
          2011,
          2012,
          2013,
          2014,
          2015,
          2016,
          2017,
          2018,
          2019,
          2020,
          2021
         ],
         "xaxis": "x",
         "y": [
          0.8441350006303348,
          0.8441350006303348,
          0.8441350006303348,
          0.8441350006303348,
          0.8441350006303348,
          0.8441350006303348,
          0.8441350006303348,
          0.8441350006303348,
          0.8441350006303348,
          0.8441350006303348,
          0.8441350006303348,
          0.8859131846916052,
          0.9239420550203096,
          0.9378682525889168,
          0.999464266996904,
          1,
          0.7852168339487163,
          0.8211033852318715,
          0.7032672561909165,
          0.5918584929311665,
          0.4499196911301036,
          0.3036957404322545,
          0.2587037713192436,
          0.0878415170193319,
          0.0482057541647517,
          0,
          0.0032137850517461,
          0.0155329879333424,
          0.0278521908149388,
          0.1140868153084003,
          0.2372790484466509,
          0.2372790484466509
         ],
         "yaxis": "y"
        },
        {
         "hovertemplate": "variable=R&D GExp<br>Year=%{x}<br>value=%{y}<extra></extra>",
         "legendgroup": "R&D GExp",
         "line": {
          "color": "#FF6692",
          "dash": "solid"
         },
         "marker": {
          "symbol": "circle"
         },
         "mode": "lines",
         "name": "R&D GExp",
         "orientation": "v",
         "showlegend": true,
         "type": "scatter",
         "x": [
          1990,
          1991,
          1992,
          1993,
          1994,
          1995,
          1996,
          1997,
          1998,
          1999,
          2000,
          2001,
          2002,
          2003,
          2004,
          2005,
          2006,
          2007,
          2008,
          2009,
          2010,
          2011,
          2012,
          2013,
          2014,
          2015,
          2016,
          2017,
          2018,
          2019,
          2020,
          2021
         ],
         "xaxis": "x",
         "y": [
          0.1495297385949057,
          0.1495297385949057,
          0.1495297385949057,
          0.1495297385949057,
          0.1495297385949057,
          0.1495297385949057,
          0.1495297385949057,
          0.2166382166884225,
          0,
          0.1576798205977842,
          0.1767078354587141,
          0.2746929075877765,
          0.2522006894935903,
          0.1794189510325668,
          0.2341433209492251,
          0.3465374702948756,
          0.3267563677745423,
          0.5515614017471634,
          0.553402282692372,
          0.7483348395086522,
          0.7307962646852093,
          0.7324028516919371,
          0.786441075074472,
          0.7630786223516418,
          0.834303979649898,
          0.8689962178264217,
          0.9746627840814004,
          1,
          1,
          1,
          1,
          1
         ],
         "yaxis": "y"
        },
        {
         "hovertemplate": "variable=Renewable electricity<br>Year=%{x}<br>value=%{y}<extra></extra>",
         "legendgroup": "Renewable electricity",
         "line": {
          "color": "#B6E880",
          "dash": "solid"
         },
         "marker": {
          "symbol": "circle"
         },
         "mode": "lines",
         "name": "Renewable electricity",
         "orientation": "v",
         "showlegend": true,
         "type": "scatter",
         "x": [
          1990,
          1991,
          1992,
          1993,
          1994,
          1995,
          1996,
          1997,
          1998,
          1999,
          2000,
          2001,
          2002,
          2003,
          2004,
          2005,
          2006,
          2007,
          2008,
          2009,
          2010,
          2011,
          2012,
          2013,
          2014,
          2015,
          2016,
          2017,
          2018,
          2019,
          2020,
          2021
         ],
         "xaxis": "x",
         "y": [
          0,
          0.0101668404588112,
          0.009645464025026,
          0.0140771637122002,
          0.0130344108446298,
          0.0594369134515119,
          0.0469238790406673,
          0.0774244004171011,
          0.0654327424400417,
          0.0404066736183524,
          0.0508342022940563,
          0.0667361835245047,
          0.052919708029197,
          0.0388425443169968,
          0.0383211678832116,
          0.0278936392075078,
          0.0516162669447341,
          0.1371220020855057,
          0.2791970802919708,
          0.5482273201251303,
          1,
          1,
          1,
          1,
          1,
          1,
          1,
          1,
          1,
          1,
          1,
          1
         ],
         "yaxis": "y"
        },
        {
         "hovertemplate": "variable=Suicide<br>Year=%{x}<br>value=%{y}<extra></extra>",
         "legendgroup": "Suicide",
         "line": {
          "color": "#FF97FF",
          "dash": "solid"
         },
         "marker": {
          "symbol": "circle"
         },
         "mode": "lines",
         "name": "Suicide",
         "orientation": "v",
         "showlegend": true,
         "type": "scatter",
         "x": [
          1990,
          1991,
          1992,
          1993,
          1994,
          1995,
          1996,
          1997,
          1998,
          1999,
          2000,
          2001,
          2002,
          2003,
          2004,
          2005,
          2006,
          2007,
          2008,
          2009,
          2010,
          2011,
          2012,
          2013,
          2014,
          2015,
          2016,
          2017,
          2018,
          2019,
          2020,
          2021
         ],
         "xaxis": "x",
         "y": [
          1,
          1,
          1,
          1,
          1,
          1,
          1,
          1,
          1,
          1,
          1,
          1,
          0.7142857142857143,
          0.6428571428571428,
          0.5714285714285713,
          0.4285714285714283,
          0.3571428571428571,
          0.2142857142857141,
          0.1428571428571426,
          0.1428571428571426,
          0.1428571428571426,
          0,
          0,
          0.0714285714285711,
          0.0714285714285711,
          0.0714285714285711,
          0.0714285714285711,
          0.0714285714285711,
          0.0714285714285711,
          0.1428571428571426,
          0.1428571428571426,
          0.1428571428571426
         ],
         "yaxis": "y"
        },
        {
         "hovertemplate": "variable=Workers high education<br>Year=%{x}<br>value=%{y}<extra></extra>",
         "legendgroup": "Workers high education",
         "line": {
          "color": "#FECB52",
          "dash": "solid"
         },
         "marker": {
          "symbol": "circle"
         },
         "mode": "lines",
         "name": "Workers high education",
         "orientation": "v",
         "showlegend": true,
         "type": "scatter",
         "x": [
          1990,
          1991,
          1992,
          1993,
          1994,
          1995,
          1996,
          1997,
          1998,
          1999,
          2000,
          2001,
          2002,
          2003,
          2004,
          2005,
          2006,
          2007,
          2008,
          2009,
          2010,
          2011,
          2012,
          2013,
          2014,
          2015,
          2016,
          2017,
          2018,
          2019,
          2020,
          2021
         ],
         "xaxis": "x",
         "y": [
          0.7816760856632818,
          0.7816760856632818,
          0.7816760856632818,
          0.7816760856632818,
          0.7816760856632818,
          0.7816760856632818,
          0.7816760856632818,
          0.7816760856632818,
          0.7816760856632818,
          0.7816760856632818,
          0.7816760856632818,
          0.7816760856632818,
          0.7816760856632818,
          0.7816760856632818,
          0.7816760856632818,
          0.584794765020821,
          0.2027290303390755,
          0.2631588340273591,
          0.3177394408090422,
          0.3781677572873206,
          0.553606484235563,
          0.6803123140987397,
          0.625730220107068,
          0.8382064247471716,
          0.8109161213563216,
          0.9181276026174784,
          0.9083819155264584,
          1,
          0.8576992861392029,
          0.8343084473527662,
          0,
          0
         ],
         "yaxis": "y"
        }
       ],
       "layout": {
        "height": 600,
        "legend": {
         "title": {
          "text": "variable"
         },
         "tracegroupgap": 0
        },
        "template": {
         "data": {
          "bar": [
           {
            "error_x": {
             "color": "#2a3f5f"
            },
            "error_y": {
             "color": "#2a3f5f"
            },
            "marker": {
             "line": {
              "color": "#E5ECF6",
              "width": 0.5
             },
             "pattern": {
              "fillmode": "overlay",
              "size": 10,
              "solidity": 0.2
             }
            },
            "type": "bar"
           }
          ],
          "barpolar": [
           {
            "marker": {
             "line": {
              "color": "#E5ECF6",
              "width": 0.5
             },
             "pattern": {
              "fillmode": "overlay",
              "size": 10,
              "solidity": 0.2
             }
            },
            "type": "barpolar"
           }
          ],
          "carpet": [
           {
            "aaxis": {
             "endlinecolor": "#2a3f5f",
             "gridcolor": "white",
             "linecolor": "white",
             "minorgridcolor": "white",
             "startlinecolor": "#2a3f5f"
            },
            "baxis": {
             "endlinecolor": "#2a3f5f",
             "gridcolor": "white",
             "linecolor": "white",
             "minorgridcolor": "white",
             "startlinecolor": "#2a3f5f"
            },
            "type": "carpet"
           }
          ],
          "choropleth": [
           {
            "colorbar": {
             "outlinewidth": 0,
             "ticks": ""
            },
            "type": "choropleth"
           }
          ],
          "contour": [
           {
            "colorbar": {
             "outlinewidth": 0,
             "ticks": ""
            },
            "colorscale": [
             [
              0,
              "#0d0887"
             ],
             [
              0.1111111111111111,
              "#46039f"
             ],
             [
              0.2222222222222222,
              "#7201a8"
             ],
             [
              0.3333333333333333,
              "#9c179e"
             ],
             [
              0.4444444444444444,
              "#bd3786"
             ],
             [
              0.5555555555555556,
              "#d8576b"
             ],
             [
              0.6666666666666666,
              "#ed7953"
             ],
             [
              0.7777777777777778,
              "#fb9f3a"
             ],
             [
              0.8888888888888888,
              "#fdca26"
             ],
             [
              1,
              "#f0f921"
             ]
            ],
            "type": "contour"
           }
          ],
          "contourcarpet": [
           {
            "colorbar": {
             "outlinewidth": 0,
             "ticks": ""
            },
            "type": "contourcarpet"
           }
          ],
          "heatmap": [
           {
            "colorbar": {
             "outlinewidth": 0,
             "ticks": ""
            },
            "colorscale": [
             [
              0,
              "#0d0887"
             ],
             [
              0.1111111111111111,
              "#46039f"
             ],
             [
              0.2222222222222222,
              "#7201a8"
             ],
             [
              0.3333333333333333,
              "#9c179e"
             ],
             [
              0.4444444444444444,
              "#bd3786"
             ],
             [
              0.5555555555555556,
              "#d8576b"
             ],
             [
              0.6666666666666666,
              "#ed7953"
             ],
             [
              0.7777777777777778,
              "#fb9f3a"
             ],
             [
              0.8888888888888888,
              "#fdca26"
             ],
             [
              1,
              "#f0f921"
             ]
            ],
            "type": "heatmap"
           }
          ],
          "heatmapgl": [
           {
            "colorbar": {
             "outlinewidth": 0,
             "ticks": ""
            },
            "colorscale": [
             [
              0,
              "#0d0887"
             ],
             [
              0.1111111111111111,
              "#46039f"
             ],
             [
              0.2222222222222222,
              "#7201a8"
             ],
             [
              0.3333333333333333,
              "#9c179e"
             ],
             [
              0.4444444444444444,
              "#bd3786"
             ],
             [
              0.5555555555555556,
              "#d8576b"
             ],
             [
              0.6666666666666666,
              "#ed7953"
             ],
             [
              0.7777777777777778,
              "#fb9f3a"
             ],
             [
              0.8888888888888888,
              "#fdca26"
             ],
             [
              1,
              "#f0f921"
             ]
            ],
            "type": "heatmapgl"
           }
          ],
          "histogram": [
           {
            "marker": {
             "pattern": {
              "fillmode": "overlay",
              "size": 10,
              "solidity": 0.2
             }
            },
            "type": "histogram"
           }
          ],
          "histogram2d": [
           {
            "colorbar": {
             "outlinewidth": 0,
             "ticks": ""
            },
            "colorscale": [
             [
              0,
              "#0d0887"
             ],
             [
              0.1111111111111111,
              "#46039f"
             ],
             [
              0.2222222222222222,
              "#7201a8"
             ],
             [
              0.3333333333333333,
              "#9c179e"
             ],
             [
              0.4444444444444444,
              "#bd3786"
             ],
             [
              0.5555555555555556,
              "#d8576b"
             ],
             [
              0.6666666666666666,
              "#ed7953"
             ],
             [
              0.7777777777777778,
              "#fb9f3a"
             ],
             [
              0.8888888888888888,
              "#fdca26"
             ],
             [
              1,
              "#f0f921"
             ]
            ],
            "type": "histogram2d"
           }
          ],
          "histogram2dcontour": [
           {
            "colorbar": {
             "outlinewidth": 0,
             "ticks": ""
            },
            "colorscale": [
             [
              0,
              "#0d0887"
             ],
             [
              0.1111111111111111,
              "#46039f"
             ],
             [
              0.2222222222222222,
              "#7201a8"
             ],
             [
              0.3333333333333333,
              "#9c179e"
             ],
             [
              0.4444444444444444,
              "#bd3786"
             ],
             [
              0.5555555555555556,
              "#d8576b"
             ],
             [
              0.6666666666666666,
              "#ed7953"
             ],
             [
              0.7777777777777778,
              "#fb9f3a"
             ],
             [
              0.8888888888888888,
              "#fdca26"
             ],
             [
              1,
              "#f0f921"
             ]
            ],
            "type": "histogram2dcontour"
           }
          ],
          "mesh3d": [
           {
            "colorbar": {
             "outlinewidth": 0,
             "ticks": ""
            },
            "type": "mesh3d"
           }
          ],
          "parcoords": [
           {
            "line": {
             "colorbar": {
              "outlinewidth": 0,
              "ticks": ""
             }
            },
            "type": "parcoords"
           }
          ],
          "pie": [
           {
            "automargin": true,
            "type": "pie"
           }
          ],
          "scatter": [
           {
            "fillpattern": {
             "fillmode": "overlay",
             "size": 10,
             "solidity": 0.2
            },
            "type": "scatter"
           }
          ],
          "scatter3d": [
           {
            "line": {
             "colorbar": {
              "outlinewidth": 0,
              "ticks": ""
             }
            },
            "marker": {
             "colorbar": {
              "outlinewidth": 0,
              "ticks": ""
             }
            },
            "type": "scatter3d"
           }
          ],
          "scattercarpet": [
           {
            "marker": {
             "colorbar": {
              "outlinewidth": 0,
              "ticks": ""
             }
            },
            "type": "scattercarpet"
           }
          ],
          "scattergeo": [
           {
            "marker": {
             "colorbar": {
              "outlinewidth": 0,
              "ticks": ""
             }
            },
            "type": "scattergeo"
           }
          ],
          "scattergl": [
           {
            "marker": {
             "colorbar": {
              "outlinewidth": 0,
              "ticks": ""
             }
            },
            "type": "scattergl"
           }
          ],
          "scattermapbox": [
           {
            "marker": {
             "colorbar": {
              "outlinewidth": 0,
              "ticks": ""
             }
            },
            "type": "scattermapbox"
           }
          ],
          "scatterpolar": [
           {
            "marker": {
             "colorbar": {
              "outlinewidth": 0,
              "ticks": ""
             }
            },
            "type": "scatterpolar"
           }
          ],
          "scatterpolargl": [
           {
            "marker": {
             "colorbar": {
              "outlinewidth": 0,
              "ticks": ""
             }
            },
            "type": "scatterpolargl"
           }
          ],
          "scatterternary": [
           {
            "marker": {
             "colorbar": {
              "outlinewidth": 0,
              "ticks": ""
             }
            },
            "type": "scatterternary"
           }
          ],
          "surface": [
           {
            "colorbar": {
             "outlinewidth": 0,
             "ticks": ""
            },
            "colorscale": [
             [
              0,
              "#0d0887"
             ],
             [
              0.1111111111111111,
              "#46039f"
             ],
             [
              0.2222222222222222,
              "#7201a8"
             ],
             [
              0.3333333333333333,
              "#9c179e"
             ],
             [
              0.4444444444444444,
              "#bd3786"
             ],
             [
              0.5555555555555556,
              "#d8576b"
             ],
             [
              0.6666666666666666,
              "#ed7953"
             ],
             [
              0.7777777777777778,
              "#fb9f3a"
             ],
             [
              0.8888888888888888,
              "#fdca26"
             ],
             [
              1,
              "#f0f921"
             ]
            ],
            "type": "surface"
           }
          ],
          "table": [
           {
            "cells": {
             "fill": {
              "color": "#EBF0F8"
             },
             "line": {
              "color": "white"
             }
            },
            "header": {
             "fill": {
              "color": "#C8D4E3"
             },
             "line": {
              "color": "white"
             }
            },
            "type": "table"
           }
          ]
         },
         "layout": {
          "annotationdefaults": {
           "arrowcolor": "#2a3f5f",
           "arrowhead": 0,
           "arrowwidth": 1
          },
          "autotypenumbers": "strict",
          "coloraxis": {
           "colorbar": {
            "outlinewidth": 0,
            "ticks": ""
           }
          },
          "colorscale": {
           "diverging": [
            [
             0,
             "#8e0152"
            ],
            [
             0.1,
             "#c51b7d"
            ],
            [
             0.2,
             "#de77ae"
            ],
            [
             0.3,
             "#f1b6da"
            ],
            [
             0.4,
             "#fde0ef"
            ],
            [
             0.5,
             "#f7f7f7"
            ],
            [
             0.6,
             "#e6f5d0"
            ],
            [
             0.7,
             "#b8e186"
            ],
            [
             0.8,
             "#7fbc41"
            ],
            [
             0.9,
             "#4d9221"
            ],
            [
             1,
             "#276419"
            ]
           ],
           "sequential": [
            [
             0,
             "#0d0887"
            ],
            [
             0.1111111111111111,
             "#46039f"
            ],
            [
             0.2222222222222222,
             "#7201a8"
            ],
            [
             0.3333333333333333,
             "#9c179e"
            ],
            [
             0.4444444444444444,
             "#bd3786"
            ],
            [
             0.5555555555555556,
             "#d8576b"
            ],
            [
             0.6666666666666666,
             "#ed7953"
            ],
            [
             0.7777777777777778,
             "#fb9f3a"
            ],
            [
             0.8888888888888888,
             "#fdca26"
            ],
            [
             1,
             "#f0f921"
            ]
           ],
           "sequentialminus": [
            [
             0,
             "#0d0887"
            ],
            [
             0.1111111111111111,
             "#46039f"
            ],
            [
             0.2222222222222222,
             "#7201a8"
            ],
            [
             0.3333333333333333,
             "#9c179e"
            ],
            [
             0.4444444444444444,
             "#bd3786"
            ],
            [
             0.5555555555555556,
             "#d8576b"
            ],
            [
             0.6666666666666666,
             "#ed7953"
            ],
            [
             0.7777777777777778,
             "#fb9f3a"
            ],
            [
             0.8888888888888888,
             "#fdca26"
            ],
            [
             1,
             "#f0f921"
            ]
           ]
          },
          "colorway": [
           "#636efa",
           "#EF553B",
           "#00cc96",
           "#ab63fa",
           "#FFA15A",
           "#19d3f3",
           "#FF6692",
           "#B6E880",
           "#FF97FF",
           "#FECB52"
          ],
          "font": {
           "color": "#2a3f5f"
          },
          "geo": {
           "bgcolor": "white",
           "lakecolor": "white",
           "landcolor": "#E5ECF6",
           "showlakes": true,
           "showland": true,
           "subunitcolor": "white"
          },
          "hoverlabel": {
           "align": "left"
          },
          "hovermode": "closest",
          "mapbox": {
           "style": "light"
          },
          "paper_bgcolor": "white",
          "plot_bgcolor": "#E5ECF6",
          "polar": {
           "angularaxis": {
            "gridcolor": "white",
            "linecolor": "white",
            "ticks": ""
           },
           "bgcolor": "#E5ECF6",
           "radialaxis": {
            "gridcolor": "white",
            "linecolor": "white",
            "ticks": ""
           }
          },
          "scene": {
           "xaxis": {
            "backgroundcolor": "#E5ECF6",
            "gridcolor": "white",
            "gridwidth": 2,
            "linecolor": "white",
            "showbackground": true,
            "ticks": "",
            "zerolinecolor": "white"
           },
           "yaxis": {
            "backgroundcolor": "#E5ECF6",
            "gridcolor": "white",
            "gridwidth": 2,
            "linecolor": "white",
            "showbackground": true,
            "ticks": "",
            "zerolinecolor": "white"
           },
           "zaxis": {
            "backgroundcolor": "#E5ECF6",
            "gridcolor": "white",
            "gridwidth": 2,
            "linecolor": "white",
            "showbackground": true,
            "ticks": "",
            "zerolinecolor": "white"
           }
          },
          "shapedefaults": {
           "line": {
            "color": "#2a3f5f"
           }
          },
          "ternary": {
           "aaxis": {
            "gridcolor": "white",
            "linecolor": "white",
            "ticks": ""
           },
           "baxis": {
            "gridcolor": "white",
            "linecolor": "white",
            "ticks": ""
           },
           "bgcolor": "#E5ECF6",
           "caxis": {
            "gridcolor": "white",
            "linecolor": "white",
            "ticks": ""
           }
          },
          "title": {
           "x": 0.05
          },
          "xaxis": {
           "automargin": true,
           "gridcolor": "white",
           "linecolor": "white",
           "ticks": "",
           "title": {
            "standoff": 15
           },
           "zerolinecolor": "white",
           "zerolinewidth": 2
          },
          "yaxis": {
           "automargin": true,
           "gridcolor": "white",
           "linecolor": "white",
           "ticks": "",
           "title": {
            "standoff": 15
           },
           "zerolinecolor": "white",
           "zerolinewidth": 2
          }
         }
        },
        "title": {
         "text": "TUR"
        },
        "width": 800,
        "xaxis": {
         "anchor": "y",
         "domain": [
          0,
          1
         ],
         "title": {
          "text": "Year"
         }
        },
        "yaxis": {
         "anchor": "x",
         "domain": [
          0,
          1
         ],
         "title": {
          "text": "value"
         }
        }
       }
      }
     },
     "metadata": {},
     "output_type": "display_data"
    },
    {
     "data": {
      "application/vnd.plotly.v1+json": {
       "config": {
        "plotlyServerURL": "https://plot.ly"
       },
       "data": [
        {
         "hovertemplate": "variable=Alcohol per capita<br>Year=%{x}<br>value=%{y}<extra></extra>",
         "legendgroup": "Alcohol per capita",
         "line": {
          "color": "#636efa",
          "dash": "solid"
         },
         "marker": {
          "symbol": "circle"
         },
         "mode": "lines",
         "name": "Alcohol per capita",
         "orientation": "v",
         "showlegend": true,
         "type": "scatter",
         "x": [
          1990,
          1991,
          1992,
          1993,
          1994,
          1995,
          1996,
          1997,
          1998,
          1999,
          2000,
          2001,
          2002,
          2003,
          2004,
          2005,
          2006,
          2007,
          2008,
          2009,
          2010,
          2011,
          2012,
          2013,
          2014,
          2015,
          2016,
          2017,
          2018,
          2019,
          2020
         ],
         "xaxis": "x",
         "y": [
          1,
          1,
          1,
          1,
          1,
          1,
          1,
          1,
          1,
          1,
          1,
          0.96875,
          0.9375,
          0.90625,
          0.8749999999999999,
          0.8437499999999999,
          0.8062499999999999,
          0.7687499999999998,
          0.7312500000000002,
          0.6937500000000001,
          0.6562500000000001,
          0.53125,
          0.4062499999999999,
          0.2812500000000002,
          0.1562500000000001,
          0.03125,
          0.0208333333333334,
          0.0104166666666665,
          0,
          0,
          0
         ],
         "yaxis": "y"
        },
        {
         "hovertemplate": "variable=Education GExp<br>Year=%{x}<br>value=%{y}<extra></extra>",
         "legendgroup": "Education GExp",
         "line": {
          "color": "#EF553B",
          "dash": "solid"
         },
         "marker": {
          "symbol": "circle"
         },
         "mode": "lines",
         "name": "Education GExp",
         "orientation": "v",
         "showlegend": true,
         "type": "scatter",
         "x": [
          1990,
          1991,
          1992,
          1993,
          1994,
          1995,
          1996,
          1997,
          1998,
          1999,
          2000,
          2001,
          2002,
          2003,
          2004,
          2005,
          2006,
          2007,
          2008,
          2009,
          2010,
          2011,
          2012,
          2013,
          2014,
          2015,
          2016,
          2017,
          2018,
          2019,
          2020
         ],
         "xaxis": "x",
         "y": [
          0.7218273152759459,
          0.7218273152759459,
          0.7353548001838659,
          0.7488822850917858,
          0.7490827949493891,
          0.7492833048069923,
          0.824066483488275,
          0.8988496621695579,
          0.9736328408508406,
          1,
          0.956350736243512,
          0.9127014724870236,
          0.8690522087305352,
          0.8254029449740471,
          0.781753681217559,
          0.7381044174610707,
          0.6944551537045826,
          0.6508058899480942,
          0.6071566261916059,
          0.5988550394998974,
          0.4990458662499145,
          0.3992366929999317,
          0.2994275197499487,
          0.1996183464999658,
          0.099809173249983,
          0,
          0.0111459393457906,
          0.0222918786915812,
          0.0336513422985907,
          0.0631601762229258,
          0.0631601762229258
         ],
         "yaxis": "y"
        },
        {
         "hovertemplate": "variable=Employment-agriculture<br>Year=%{x}<br>value=%{y}<extra></extra>",
         "legendgroup": "Employment-agriculture",
         "line": {
          "color": "#00cc96",
          "dash": "solid"
         },
         "marker": {
          "symbol": "circle"
         },
         "mode": "lines",
         "name": "Employment-agriculture",
         "orientation": "v",
         "showlegend": true,
         "type": "scatter",
         "x": [
          1990,
          1991,
          1992,
          1993,
          1994,
          1995,
          1996,
          1997,
          1998,
          1999,
          2000,
          2001,
          2002,
          2003,
          2004,
          2005,
          2006,
          2007,
          2008,
          2009,
          2010,
          2011,
          2012,
          2013,
          2014,
          2015,
          2016,
          2017,
          2018,
          2019,
          2020
         ],
         "xaxis": "x",
         "y": [
          1,
          1,
          0.9992688497070632,
          0.9978071068254616,
          0.9788011031390343,
          0.981725146606509,
          0.9539472913698002,
          0.9466374615532644,
          0.9188596063165556,
          0.9057016895650704,
          0.890350879639054,
          0.8472222144763288,
          0.8135965511568142,
          0.7785088661035695,
          0.9195907566094924,
          0.8940057945473219,
          0.7419591593165875,
          0.6937135575118571,
          0.6381578470384478,
          0.5884502234999801,
          0.5350876850532444,
          0.4773390814053045,
          0.4364035882692457,
          0.3764620914467674,
          0.3157894443313523,
          0.2514618823076693,
          0.1980993438609336,
          0.1301168669289754,
          0.0657895837574203,
          0,
          0
         ],
         "yaxis": "y"
        },
        {
         "hovertemplate": "variable=Employment-industry<br>Year=%{x}<br>value=%{y}<extra></extra>",
         "legendgroup": "Employment-industry",
         "line": {
          "color": "#ab63fa",
          "dash": "solid"
         },
         "marker": {
          "symbol": "circle"
         },
         "mode": "lines",
         "name": "Employment-industry",
         "orientation": "v",
         "showlegend": true,
         "type": "scatter",
         "x": [
          1990,
          1991,
          1992,
          1993,
          1994,
          1995,
          1996,
          1997,
          1998,
          1999,
          2000,
          2001,
          2002,
          2003,
          2004,
          2005,
          2006,
          2007,
          2008,
          2009,
          2010,
          2011,
          2012,
          2013,
          2014,
          2015,
          2016,
          2017,
          2018,
          2019,
          2020
         ],
         "xaxis": "x",
         "y": [
          0.180821894901418,
          0.180821894901418,
          0.1150685260792213,
          0.0493151572569964,
          0.1260271596022579,
          0,
          0.1452051601885667,
          0.0602737907800339,
          0.1452051601885667,
          0.0904109474507226,
          0.0739722133241801,
          0.1698627388170654,
          0.186301472943607,
          0.2027396845088344,
          0.0109586335230375,
          0.0191780005863087,
          0.2356161076392621,
          0.306849054503676,
          0.4410955811691779,
          0.4849311603840117,
          0.5616436852905883,
          0.6602739998045549,
          0.534246317640981,
          0.6054792645053948,
          0.6657535778467439,
          0.7726027368626668,
          0.7698629478415855,
          0.8821916848996972,
          0.9424654756797324,
          1,
          1
         ],
         "yaxis": "y"
        },
        {
         "hovertemplate": "variable=Employment-services<br>Year=%{x}<br>value=%{y}<extra></extra>",
         "legendgroup": "Employment-services",
         "line": {
          "color": "#FFA15A",
          "dash": "solid"
         },
         "marker": {
          "symbol": "circle"
         },
         "mode": "lines",
         "name": "Employment-services",
         "orientation": "v",
         "showlegend": true,
         "type": "scatter",
         "x": [
          1990,
          1991,
          1992,
          1993,
          1994,
          1995,
          1996,
          1997,
          1998,
          1999,
          2000,
          2001,
          2002,
          2003,
          2004,
          2005,
          2006,
          2007,
          2008,
          2009,
          2010,
          2011,
          2012,
          2013,
          2014,
          2015,
          2016,
          2017,
          2018,
          2019,
          2020
         ],
         "xaxis": "x",
         "y": [
          0,
          0,
          0.0224720666300436,
          0.0468164780629909,
          0.0449437760787121,
          0.0842698033859357,
          0.0702247170944864,
          0.1086142148188831,
          0.1142323207717474,
          0.1507491165118553,
          0.1769662299290908,
          0.1985017669762982,
          0.235955092299243,
          0.2762172920079278,
          0.1610487988347384,
          0.1900747866377039,
          0.3099252133622964,
          0.3483147110867024,
          0.373595652102476,
          0.423221004551207,
          0.464419376661343,
          0.5046815763700278,
          0.6001872344802885,
          0.6526218184961439,
          0.7097379788820078,
          0.7556179273621619,
          0.8249064720551973,
          0.8745318245039275,
          0.9363295612598196,
          1,
          1
         ],
         "yaxis": "y"
        },
        {
         "hovertemplate": "variable=Exports-Commercial services<br>Year=%{x}<br>value=%{y}<extra></extra>",
         "legendgroup": "Exports-Commercial services",
         "line": {
          "color": "#19d3f3",
          "dash": "solid"
         },
         "marker": {
          "symbol": "circle"
         },
         "mode": "lines",
         "name": "Exports-Commercial services",
         "orientation": "v",
         "showlegend": true,
         "type": "scatter",
         "x": [
          1990,
          1991,
          1992,
          1993,
          1994,
          1995,
          1996,
          1997,
          1998,
          1999,
          2000,
          2001,
          2002,
          2003,
          2004,
          2005,
          2006,
          2007,
          2008,
          2009,
          2010,
          2011,
          2012,
          2013,
          2014,
          2015,
          2016,
          2017,
          2018,
          2019,
          2020
         ],
         "xaxis": "x",
         "y": [
          0.0095291982444261,
          0,
          0.0313639671776914,
          0.0275825026228911,
          0.0374480681889273,
          0.0582569235488655,
          0.0830167635452867,
          0.0710234631072377,
          0.0960606594688263,
          0.1134779703369744,
          0.1234546824575176,
          0.1699431872134583,
          0.2029439109716381,
          0.2786534034069166,
          0.3466694783380322,
          0.4128700159907628,
          0.537518703602125,
          0.6863465147574125,
          0.7648068491307827,
          0.7450216774430696,
          0.7415433788971199,
          0.8095355284757885,
          0.7778327462382666,
          0.7183936895476223,
          0.8282003975317794,
          0.7282204972900329,
          0.7599499860274344,
          0.874508980165671,
          0.9568030522072608,
          1,
          0.6792137879460708
         ],
         "yaxis": "y"
        },
        {
         "hovertemplate": "variable=Exports-G&S<br>Year=%{x}<br>value=%{y}<extra></extra>",
         "legendgroup": "Exports-G&S",
         "line": {
          "color": "#FF6692",
          "dash": "solid"
         },
         "marker": {
          "symbol": "circle"
         },
         "mode": "lines",
         "name": "Exports-G&S",
         "orientation": "v",
         "showlegend": true,
         "type": "scatter",
         "x": [
          1990,
          1991,
          1992,
          1993,
          1994,
          1995,
          1996,
          1997,
          1998,
          1999,
          2000,
          2001,
          2002,
          2003,
          2004,
          2005,
          2006,
          2007,
          2008,
          2009,
          2010,
          2011,
          2012,
          2013,
          2014,
          2015,
          2016,
          2017,
          2018,
          2019,
          2020
         ],
         "xaxis": "x",
         "y": [
          0.0106759019174386,
          0.0055364346473498,
          0.0122312480669282,
          0,
          0.0117455800553451,
          0.0464800853978308,
          0.0608103356697267,
          0.0593420049006467,
          0.0697657031064514,
          0.0869038629651527,
          0.0853242823673448,
          0.1033176090808595,
          0.1302858776560127,
          0.1827369258305745,
          0.2435116781116876,
          0.3061953559367942,
          0.3860941006859006,
          0.5067128527749442,
          0.6496504359672371,
          0.4740394454560134,
          0.5744822740868982,
          0.7022415666174415,
          0.6810286495846889,
          0.6982397029179512,
          0.7756785855178117,
          0.703114004862414,
          0.7357857748074909,
          0.8430407385588994,
          0.966755173788444,
          1,
          0.8241497174974535
         ],
         "yaxis": "y"
        },
        {
         "hovertemplate": "variable=Fertility rate<br>Year=%{x}<br>value=%{y}<extra></extra>",
         "legendgroup": "Fertility rate",
         "line": {
          "color": "#B6E880",
          "dash": "solid"
         },
         "marker": {
          "symbol": "circle"
         },
         "mode": "lines",
         "name": "Fertility rate",
         "orientation": "v",
         "showlegend": true,
         "type": "scatter",
         "x": [
          1990,
          1991,
          1992,
          1993,
          1994,
          1995,
          1996,
          1997,
          1998,
          1999,
          2000,
          2001,
          2002,
          2003,
          2004,
          2005,
          2006,
          2007,
          2008,
          2009,
          2010,
          2011,
          2012,
          2013,
          2014,
          2015,
          2016,
          2017,
          2018,
          2019,
          2020
         ],
         "xaxis": "x",
         "y": [
          1,
          1,
          1,
          1,
          0.8792270531400963,
          0.7608695652173911,
          0.6497584541062802,
          0.5499194847020933,
          0.4645732689210949,
          0.3937198067632849,
          0.3365539452495972,
          0.2914653784218999,
          0.2552334943639289,
          0.2246376811594202,
          0.1972624798711752,
          0.1755233494363929,
          0.1610305958132043,
          0.1545893719806761,
          0.1561996779388083,
          0.1634460547504024,
          0.1723027375201288,
          0.1795491143317229,
          0.181964573268921,
          0.1755233494363929,
          0.1602254428341383,
          0.1376811594202897,
          0.1095008051529788,
          0.0789049919484701,
          0.0499194847020932,
          0.0233494363929145,
          0
         ],
         "yaxis": "y"
        },
        {
         "hovertemplate": "variable=Foreign investment<br>Year=%{x}<br>value=%{y}<extra></extra>",
         "legendgroup": "Foreign investment",
         "line": {
          "color": "#FF97FF",
          "dash": "solid"
         },
         "marker": {
          "symbol": "circle"
         },
         "mode": "lines",
         "name": "Foreign investment",
         "orientation": "v",
         "showlegend": true,
         "type": "scatter",
         "x": [
          1990,
          1991,
          1992,
          1993,
          1994,
          1995,
          1996,
          1997,
          1998,
          1999,
          2000,
          2001,
          2002,
          2003,
          2004,
          2005,
          2006,
          2007,
          2008,
          2009,
          2010,
          2011,
          2012,
          2013,
          2014,
          2015,
          2016,
          2017,
          2018,
          2019,
          2020
         ],
         "xaxis": "x",
         "y": [
          1,
          0.955754227073964,
          0.9232158756808448,
          0.8964775011972351,
          0.8764457507569328,
          0.9470786785955624,
          0.9446981816537364,
          0.6908163901909395,
          0.9495910637865502,
          0.7725061133702741,
          0.9307242584480632,
          0.1251810529668335,
          0.9020485017908376,
          0.2710604998411186,
          0.7619424181173082,
          0.5113172828364181,
          0.3701715857950386,
          0.307384544747368,
          0.3222230777272397,
          0.5472315147200982,
          0.8308235130887698,
          0.2802363329233296,
          0.2088643279195876,
          0.0607546761908707,
          0,
          0.1699678235979619,
          0.5189106593815019,
          0.4869219406799978,
          0.1128853314141608,
          0.7737948031048426,
          0.6229266150850338
         ],
         "yaxis": "y"
        },
        {
         "hovertemplate": "variable=GDP<br>Year=%{x}<br>value=%{y}<extra></extra>",
         "legendgroup": "GDP",
         "line": {
          "color": "#FECB52",
          "dash": "solid"
         },
         "marker": {
          "symbol": "circle"
         },
         "mode": "lines",
         "name": "GDP",
         "orientation": "v",
         "showlegend": true,
         "type": "scatter",
         "x": [
          1990,
          1991,
          1992,
          1993,
          1994,
          1995,
          1996,
          1997,
          1998,
          1999,
          2000,
          2001,
          2002,
          2003,
          2004,
          2005,
          2006,
          2007,
          2008,
          2009,
          2010,
          2011,
          2012,
          2013,
          2014,
          2015,
          2016,
          2017,
          2018,
          2019,
          2020
         ],
         "xaxis": "x",
         "y": [
          0,
          0.0234727600000885,
          0.0393683560661303,
          0.0164495447037441,
          0.0604750682407244,
          0.0986748164714255,
          0.1447351574763171,
          0.099985538117522,
          0.129625019165047,
          0.1276828724732748,
          0.0967455769316125,
          0.103461238222254,
          0.1344261770975482,
          0.2439945324922311,
          0.3283064229924686,
          0.3585995713372112,
          0.4288167596484492,
          0.5447765217493842,
          0.6949149238076474,
          0.6992639165011565,
          0.702825351538971,
          0.7937351250157049,
          0.7591252884742354,
          0.854557462757593,
          0.8908556756779171,
          0.7916092969852349,
          0.8153782044978947,
          0.8864123810462049,
          0.9802184727979492,
          1,
          0.94263178876852
         ],
         "yaxis": "y"
        },
        {
         "hovertemplate": "variable=Health services use<br>Year=%{x}<br>value=%{y}<extra></extra>",
         "legendgroup": "Health services use",
         "line": {
          "color": "#636efa",
          "dash": "solid"
         },
         "marker": {
          "symbol": "circle"
         },
         "mode": "lines",
         "name": "Health services use",
         "orientation": "v",
         "showlegend": true,
         "type": "scatter",
         "x": [
          1990,
          1991,
          1992,
          1993,
          1994,
          1995,
          1996,
          1997,
          1998,
          1999,
          2000,
          2001,
          2002,
          2003,
          2004,
          2005,
          2006,
          2007,
          2008,
          2009,
          2010,
          2011,
          2012,
          2013,
          2014,
          2015,
          2016,
          2017,
          2018,
          2019,
          2020
         ],
         "xaxis": "x",
         "y": [
          0,
          0,
          0,
          0,
          0,
          0,
          0,
          0,
          0,
          0,
          0,
          0.0399457327119198,
          0.1012324611491549,
          0.1633913928469715,
          0.2264663169650402,
          0.2781089582403593,
          0.3269068578864371,
          0.3756395349421151,
          0.4242875883156581,
          0.4728332229863545,
          0.521318097286972,
          0.569693990614991,
          0.6179726609902075,
          0.666136956128093,
          0.7141979369387291,
          0.76213916312308,
          0.8099717520165896,
          0.8576787339477245,
          0.9052585243896908,
          0.9526951918976386,
          1
         ],
         "yaxis": "y"
        },
        {
         "hovertemplate": "variable=International taxes<br>Year=%{x}<br>value=%{y}<extra></extra>",
         "legendgroup": "International taxes",
         "line": {
          "color": "#EF553B",
          "dash": "solid"
         },
         "marker": {
          "symbol": "circle"
         },
         "mode": "lines",
         "name": "International taxes",
         "orientation": "v",
         "showlegend": true,
         "type": "scatter",
         "x": [
          1990,
          1991,
          1992,
          1993,
          1994,
          1995,
          1996,
          1997,
          1998,
          1999,
          2000,
          2001,
          2002,
          2003,
          2004,
          2005,
          2006,
          2007,
          2008,
          2009,
          2010,
          2011,
          2012,
          2013,
          2014,
          2015,
          2016,
          2017,
          2018,
          2019,
          2020
         ],
         "xaxis": "x",
         "y": [
          0.2358248994025119,
          0.4114132422875259,
          0.5114010486526034,
          0.5354225094500671,
          0.6015120107303987,
          0.4573832459456164,
          0.60346299231801,
          0.7495427386904036,
          0.8957444214120229,
          1,
          0.9207582002194854,
          0.8415164004389708,
          0.7622746006584563,
          0.6123204487257652,
          0.701310084136081,
          0.6976455310328009,
          0.6963589806121204,
          0.8317673454456773,
          0.8034532374100719,
          0.8161053530057311,
          0.6723741007194245,
          0.6780392635044507,
          0.1539836605292037,
          0,
          0.0053310571881477,
          0.0012656993049628,
          0.1676137056456529,
          0.1145482258261187,
          0.249274478722107,
          0.2583319107425924,
          0.2583319107425924
         ],
         "yaxis": "y"
        },
        {
         "hovertemplate": "variable=Literacy rate<br>Year=%{x}<br>value=%{y}<extra></extra>",
         "legendgroup": "Literacy rate",
         "line": {
          "color": "#00cc96",
          "dash": "solid"
         },
         "marker": {
          "symbol": "circle"
         },
         "mode": "lines",
         "name": "Literacy rate",
         "orientation": "v",
         "showlegend": true,
         "type": "scatter",
         "x": [
          1990,
          1991,
          1992,
          1993,
          1994,
          1995,
          1996,
          1997,
          1998,
          1999,
          2000,
          2001,
          2002,
          2003,
          2004,
          2005,
          2006,
          2007,
          2008,
          2009,
          2010,
          2011,
          2012,
          2013,
          2014,
          2015,
          2016,
          2017,
          2018,
          2019,
          2020
         ],
         "xaxis": "x",
         "y": [
          0,
          0,
          0,
          0,
          0,
          0.0315136583358973,
          0.0630273166717949,
          0.0945409750076923,
          0.1260546333435896,
          0.1575682916794872,
          0.1890819500153846,
          0.2205956083512819,
          0.2521092666871793,
          0.2836229250230769,
          0.3151365833589743,
          0.3360360020658011,
          0.3569354207726281,
          0.3778348394794548,
          0.3987342581862816,
          0.4262628071798522,
          0.5880723461875893,
          0.7498818851953261,
          0.8187576858790344,
          0.9093788429395174,
          1,
          0.9864954658504004,
          0.9729909317008004,
          0.9594863975512008,
          0.9459818634016012,
          0.9459818634016012,
          0.9459818634016012
         ],
         "yaxis": "y"
        },
        {
         "hovertemplate": "variable=Mortality-infants<br>Year=%{x}<br>value=%{y}<extra></extra>",
         "legendgroup": "Mortality-infants",
         "line": {
          "color": "#ab63fa",
          "dash": "solid"
         },
         "marker": {
          "symbol": "circle"
         },
         "mode": "lines",
         "name": "Mortality-infants",
         "orientation": "v",
         "showlegend": true,
         "type": "scatter",
         "x": [
          1990,
          1991,
          1992,
          1993,
          1994,
          1995,
          1996,
          1997,
          1998,
          1999,
          2000,
          2001,
          2002,
          2003,
          2004,
          2005,
          2006,
          2007,
          2008,
          2009,
          2010,
          2011,
          2012,
          2013,
          2014,
          2015,
          2016,
          2017,
          2018,
          2019,
          2020
         ],
         "xaxis": "x",
         "y": [
          1,
          0.943001340138576,
          0.8862593025576687,
          0.8299164551908985,
          0.7733169855436115,
          0.7165464343759802,
          0.6622565652533432,
          0.612129679792421,
          0.5671637535285563,
          0.5271021641812323,
          0.492287074791138,
          0.4605514527672436,
          0.4305836731202418,
          0.4016708961820307,
          0.37213082033589,
          0.3427618260100938,
          0.3129936414701605,
          0.285449516694705,
          0.2597587750563143,
          0.2361210116620569,
          0.2141655498845199,
          0.1922100881069829,
          0.1697698953551367,
          0.1466453765219127,
          0.1228650451940349,
          0.098257819851159,
          0.0749337059108665,
          0.0530922984802258,
          0.0338456274414758,
          0.0161101764991018,
          0
         ],
         "yaxis": "y"
        },
        {
         "hovertemplate": "variable=Net migration<br>Year=%{x}<br>value=%{y}<extra></extra>",
         "legendgroup": "Net migration",
         "line": {
          "color": "#FFA15A",
          "dash": "solid"
         },
         "marker": {
          "symbol": "circle"
         },
         "mode": "lines",
         "name": "Net migration",
         "orientation": "v",
         "showlegend": true,
         "type": "scatter",
         "x": [
          1990,
          1991,
          1992,
          1993,
          1994,
          1995,
          1996,
          1997,
          1998,
          1999,
          2000,
          2001,
          2002,
          2003,
          2004,
          2005,
          2006,
          2007,
          2008,
          2009,
          2010,
          2011,
          2012,
          2013,
          2014,
          2015,
          2016,
          2017,
          2018,
          2019,
          2020
         ],
         "xaxis": "x",
         "y": [
          0.4731761895782261,
          0.4731761895782261,
          0.4731761895782261,
          0.4400105600603432,
          0.4068449305424603,
          0.3736793010245772,
          0.3405136715066943,
          0.3073480419888114,
          0.245878433591049,
          0.1844088251932868,
          0.1229392167955245,
          0.0614696083977622,
          0,
          0.045096989125652,
          0.0901939782513043,
          0.1352909673769564,
          0.1803879565026087,
          0.2254849456282607,
          0.325067320384688,
          0.424649695141115,
          0.5242320698975423,
          0.6238144446539694,
          0.7233968194103967,
          0.7787174555283174,
          0.834038091646238,
          0.8893587277641587,
          0.9446793638820792,
          1,
          1,
          1,
          1
         ],
         "yaxis": "y"
        },
        {
         "hovertemplate": "variable=Ninis<br>Year=%{x}<br>value=%{y}<extra></extra>",
         "legendgroup": "Ninis",
         "line": {
          "color": "#19d3f3",
          "dash": "solid"
         },
         "marker": {
          "symbol": "circle"
         },
         "mode": "lines",
         "name": "Ninis",
         "orientation": "v",
         "showlegend": true,
         "type": "scatter",
         "x": [
          1990,
          1991,
          1992,
          1993,
          1994,
          1995,
          1996,
          1997,
          1998,
          1999,
          2000,
          2001,
          2002,
          2003,
          2004,
          2005,
          2006,
          2007,
          2008,
          2009,
          2010,
          2011,
          2012,
          2013,
          2014,
          2015,
          2016,
          2017,
          2018,
          2019,
          2020
         ],
         "xaxis": "x",
         "y": [
          null,
          null,
          null,
          null,
          null,
          null,
          null,
          null,
          null,
          null,
          null,
          null,
          null,
          null,
          null,
          null,
          null,
          null,
          null,
          null,
          null,
          null,
          null,
          null,
          null,
          null,
          null,
          null,
          null,
          null,
          null
         ],
         "yaxis": "y"
        },
        {
         "hovertemplate": "variable=R&D GExp<br>Year=%{x}<br>value=%{y}<extra></extra>",
         "legendgroup": "R&D GExp",
         "line": {
          "color": "#FF6692",
          "dash": "solid"
         },
         "marker": {
          "symbol": "circle"
         },
         "mode": "lines",
         "name": "R&D GExp",
         "orientation": "v",
         "showlegend": true,
         "type": "scatter",
         "x": [
          1990,
          1991,
          1992,
          1993,
          1994,
          1995,
          1996,
          1997,
          1998,
          1999,
          2000,
          2001,
          2002,
          2003,
          2004,
          2005,
          2006,
          2007,
          2008,
          2009,
          2010,
          2011,
          2012,
          2013,
          2014,
          2015,
          2016,
          2017,
          2018,
          2019,
          2020
         ],
         "xaxis": "x",
         "y": [
          0.4290862836548656,
          0.4290862836548656,
          0.4290862836548656,
          0.4290862836548656,
          0.4290862836548656,
          0.4290862836548656,
          0.4290862836548656,
          0.4290862836548656,
          0.4290862836548656,
          0.4290862836548656,
          0.4290862836548656,
          0.4290862836548656,
          0,
          0.5557027771888914,
          0.5153876051162464,
          0.4750724330436014,
          0.4347572609709564,
          0.5760679457282176,
          0.7173786304854782,
          0.8586893152427388,
          1,
          1,
          1,
          1,
          1,
          1,
          1,
          1,
          1,
          1,
          1
         ],
         "yaxis": "y"
        },
        {
         "hovertemplate": "variable=Renewable electricity<br>Year=%{x}<br>value=%{y}<extra></extra>",
         "legendgroup": "Renewable electricity",
         "line": {
          "color": "#B6E880",
          "dash": "solid"
         },
         "marker": {
          "symbol": "circle"
         },
         "mode": "lines",
         "name": "Renewable electricity",
         "orientation": "v",
         "showlegend": true,
         "type": "scatter",
         "x": [
          1990,
          1991,
          1992,
          1993,
          1994,
          1995,
          1996,
          1997,
          1998,
          1999,
          2000,
          2001,
          2002,
          2003,
          2004,
          2005,
          2006,
          2007,
          2008,
          2009,
          2010,
          2011,
          2012,
          2013,
          2014,
          2015,
          2016,
          2017,
          2018,
          2019,
          2020
         ],
         "xaxis": "x",
         "y": [
          0,
          0,
          0,
          0,
          0,
          0,
          0,
          0,
          0,
          0,
          0.0879120879120879,
          0.2829670329670329,
          0.2664835164835165,
          0.2788461538461538,
          0.2733516483516483,
          0.2829670329670329,
          0.2513736263736263,
          0.3832417582417582,
          0.4093406593406593,
          0.5370879120879121,
          0.9052197802197802,
          0.9505494505494504,
          1,
          1,
          1,
          1,
          1,
          1,
          1,
          1,
          1
         ],
         "yaxis": "y"
        },
        {
         "hovertemplate": "variable=Suicide<br>Year=%{x}<br>value=%{y}<extra></extra>",
         "legendgroup": "Suicide",
         "line": {
          "color": "#FF97FF",
          "dash": "solid"
         },
         "marker": {
          "symbol": "circle"
         },
         "mode": "lines",
         "name": "Suicide",
         "orientation": "v",
         "showlegend": true,
         "type": "scatter",
         "x": [
          1990,
          1991,
          1992,
          1993,
          1994,
          1995,
          1996,
          1997,
          1998,
          1999,
          2000,
          2001,
          2002,
          2003,
          2004,
          2005,
          2006,
          2007,
          2008,
          2009,
          2010,
          2011,
          2012,
          2013,
          2014,
          2015,
          2016,
          2017,
          2018,
          2019,
          2020
         ],
         "xaxis": "x",
         "y": [
          1,
          1,
          1,
          1,
          1,
          1,
          1,
          1,
          1,
          1,
          1,
          1,
          0.8928571428571427,
          0.8928571428571427,
          0.8571428571428571,
          0.8214285714285715,
          0.7857142857142859,
          0.7857142857142859,
          0.7857142857142859,
          0.7499999999999997,
          0.7499999999999997,
          0.7499999999999997,
          0.6428571428571429,
          0.3214285714285714,
          0.2142857142857144,
          0.1071428571428573,
          0.0357142857142858,
          0,
          0.0357142857142858,
          0.0357142857142858,
          0.0357142857142858
         ],
         "yaxis": "y"
        },
        {
         "hovertemplate": "variable=Workers high education<br>Year=%{x}<br>value=%{y}<extra></extra>",
         "legendgroup": "Workers high education",
         "line": {
          "color": "#FECB52",
          "dash": "solid"
         },
         "marker": {
          "symbol": "circle"
         },
         "mode": "lines",
         "name": "Workers high education",
         "orientation": "v",
         "showlegend": true,
         "type": "scatter",
         "x": [
          1990,
          1991,
          1992,
          1993,
          1994,
          1995,
          1996,
          1997,
          1998,
          1999,
          2000,
          2001,
          2002,
          2003,
          2004,
          2005,
          2006,
          2007,
          2008,
          2009,
          2010,
          2011,
          2012,
          2013,
          2014,
          2015,
          2016,
          2017,
          2018,
          2019,
          2020
         ],
         "xaxis": "x",
         "y": [
          null,
          null,
          null,
          null,
          null,
          null,
          null,
          null,
          null,
          null,
          null,
          null,
          null,
          null,
          null,
          null,
          null,
          null,
          null,
          null,
          null,
          null,
          null,
          null,
          null,
          null,
          null,
          null,
          null,
          null,
          null
         ],
         "yaxis": "y"
        }
       ],
       "layout": {
        "height": 600,
        "legend": {
         "title": {
          "text": "variable"
         },
         "tracegroupgap": 0
        },
        "template": {
         "data": {
          "bar": [
           {
            "error_x": {
             "color": "#2a3f5f"
            },
            "error_y": {
             "color": "#2a3f5f"
            },
            "marker": {
             "line": {
              "color": "#E5ECF6",
              "width": 0.5
             },
             "pattern": {
              "fillmode": "overlay",
              "size": 10,
              "solidity": 0.2
             }
            },
            "type": "bar"
           }
          ],
          "barpolar": [
           {
            "marker": {
             "line": {
              "color": "#E5ECF6",
              "width": 0.5
             },
             "pattern": {
              "fillmode": "overlay",
              "size": 10,
              "solidity": 0.2
             }
            },
            "type": "barpolar"
           }
          ],
          "carpet": [
           {
            "aaxis": {
             "endlinecolor": "#2a3f5f",
             "gridcolor": "white",
             "linecolor": "white",
             "minorgridcolor": "white",
             "startlinecolor": "#2a3f5f"
            },
            "baxis": {
             "endlinecolor": "#2a3f5f",
             "gridcolor": "white",
             "linecolor": "white",
             "minorgridcolor": "white",
             "startlinecolor": "#2a3f5f"
            },
            "type": "carpet"
           }
          ],
          "choropleth": [
           {
            "colorbar": {
             "outlinewidth": 0,
             "ticks": ""
            },
            "type": "choropleth"
           }
          ],
          "contour": [
           {
            "colorbar": {
             "outlinewidth": 0,
             "ticks": ""
            },
            "colorscale": [
             [
              0,
              "#0d0887"
             ],
             [
              0.1111111111111111,
              "#46039f"
             ],
             [
              0.2222222222222222,
              "#7201a8"
             ],
             [
              0.3333333333333333,
              "#9c179e"
             ],
             [
              0.4444444444444444,
              "#bd3786"
             ],
             [
              0.5555555555555556,
              "#d8576b"
             ],
             [
              0.6666666666666666,
              "#ed7953"
             ],
             [
              0.7777777777777778,
              "#fb9f3a"
             ],
             [
              0.8888888888888888,
              "#fdca26"
             ],
             [
              1,
              "#f0f921"
             ]
            ],
            "type": "contour"
           }
          ],
          "contourcarpet": [
           {
            "colorbar": {
             "outlinewidth": 0,
             "ticks": ""
            },
            "type": "contourcarpet"
           }
          ],
          "heatmap": [
           {
            "colorbar": {
             "outlinewidth": 0,
             "ticks": ""
            },
            "colorscale": [
             [
              0,
              "#0d0887"
             ],
             [
              0.1111111111111111,
              "#46039f"
             ],
             [
              0.2222222222222222,
              "#7201a8"
             ],
             [
              0.3333333333333333,
              "#9c179e"
             ],
             [
              0.4444444444444444,
              "#bd3786"
             ],
             [
              0.5555555555555556,
              "#d8576b"
             ],
             [
              0.6666666666666666,
              "#ed7953"
             ],
             [
              0.7777777777777778,
              "#fb9f3a"
             ],
             [
              0.8888888888888888,
              "#fdca26"
             ],
             [
              1,
              "#f0f921"
             ]
            ],
            "type": "heatmap"
           }
          ],
          "heatmapgl": [
           {
            "colorbar": {
             "outlinewidth": 0,
             "ticks": ""
            },
            "colorscale": [
             [
              0,
              "#0d0887"
             ],
             [
              0.1111111111111111,
              "#46039f"
             ],
             [
              0.2222222222222222,
              "#7201a8"
             ],
             [
              0.3333333333333333,
              "#9c179e"
             ],
             [
              0.4444444444444444,
              "#bd3786"
             ],
             [
              0.5555555555555556,
              "#d8576b"
             ],
             [
              0.6666666666666666,
              "#ed7953"
             ],
             [
              0.7777777777777778,
              "#fb9f3a"
             ],
             [
              0.8888888888888888,
              "#fdca26"
             ],
             [
              1,
              "#f0f921"
             ]
            ],
            "type": "heatmapgl"
           }
          ],
          "histogram": [
           {
            "marker": {
             "pattern": {
              "fillmode": "overlay",
              "size": 10,
              "solidity": 0.2
             }
            },
            "type": "histogram"
           }
          ],
          "histogram2d": [
           {
            "colorbar": {
             "outlinewidth": 0,
             "ticks": ""
            },
            "colorscale": [
             [
              0,
              "#0d0887"
             ],
             [
              0.1111111111111111,
              "#46039f"
             ],
             [
              0.2222222222222222,
              "#7201a8"
             ],
             [
              0.3333333333333333,
              "#9c179e"
             ],
             [
              0.4444444444444444,
              "#bd3786"
             ],
             [
              0.5555555555555556,
              "#d8576b"
             ],
             [
              0.6666666666666666,
              "#ed7953"
             ],
             [
              0.7777777777777778,
              "#fb9f3a"
             ],
             [
              0.8888888888888888,
              "#fdca26"
             ],
             [
              1,
              "#f0f921"
             ]
            ],
            "type": "histogram2d"
           }
          ],
          "histogram2dcontour": [
           {
            "colorbar": {
             "outlinewidth": 0,
             "ticks": ""
            },
            "colorscale": [
             [
              0,
              "#0d0887"
             ],
             [
              0.1111111111111111,
              "#46039f"
             ],
             [
              0.2222222222222222,
              "#7201a8"
             ],
             [
              0.3333333333333333,
              "#9c179e"
             ],
             [
              0.4444444444444444,
              "#bd3786"
             ],
             [
              0.5555555555555556,
              "#d8576b"
             ],
             [
              0.6666666666666666,
              "#ed7953"
             ],
             [
              0.7777777777777778,
              "#fb9f3a"
             ],
             [
              0.8888888888888888,
              "#fdca26"
             ],
             [
              1,
              "#f0f921"
             ]
            ],
            "type": "histogram2dcontour"
           }
          ],
          "mesh3d": [
           {
            "colorbar": {
             "outlinewidth": 0,
             "ticks": ""
            },
            "type": "mesh3d"
           }
          ],
          "parcoords": [
           {
            "line": {
             "colorbar": {
              "outlinewidth": 0,
              "ticks": ""
             }
            },
            "type": "parcoords"
           }
          ],
          "pie": [
           {
            "automargin": true,
            "type": "pie"
           }
          ],
          "scatter": [
           {
            "fillpattern": {
             "fillmode": "overlay",
             "size": 10,
             "solidity": 0.2
            },
            "type": "scatter"
           }
          ],
          "scatter3d": [
           {
            "line": {
             "colorbar": {
              "outlinewidth": 0,
              "ticks": ""
             }
            },
            "marker": {
             "colorbar": {
              "outlinewidth": 0,
              "ticks": ""
             }
            },
            "type": "scatter3d"
           }
          ],
          "scattercarpet": [
           {
            "marker": {
             "colorbar": {
              "outlinewidth": 0,
              "ticks": ""
             }
            },
            "type": "scattercarpet"
           }
          ],
          "scattergeo": [
           {
            "marker": {
             "colorbar": {
              "outlinewidth": 0,
              "ticks": ""
             }
            },
            "type": "scattergeo"
           }
          ],
          "scattergl": [
           {
            "marker": {
             "colorbar": {
              "outlinewidth": 0,
              "ticks": ""
             }
            },
            "type": "scattergl"
           }
          ],
          "scattermapbox": [
           {
            "marker": {
             "colorbar": {
              "outlinewidth": 0,
              "ticks": ""
             }
            },
            "type": "scattermapbox"
           }
          ],
          "scatterpolar": [
           {
            "marker": {
             "colorbar": {
              "outlinewidth": 0,
              "ticks": ""
             }
            },
            "type": "scatterpolar"
           }
          ],
          "scatterpolargl": [
           {
            "marker": {
             "colorbar": {
              "outlinewidth": 0,
              "ticks": ""
             }
            },
            "type": "scatterpolargl"
           }
          ],
          "scatterternary": [
           {
            "marker": {
             "colorbar": {
              "outlinewidth": 0,
              "ticks": ""
             }
            },
            "type": "scatterternary"
           }
          ],
          "surface": [
           {
            "colorbar": {
             "outlinewidth": 0,
             "ticks": ""
            },
            "colorscale": [
             [
              0,
              "#0d0887"
             ],
             [
              0.1111111111111111,
              "#46039f"
             ],
             [
              0.2222222222222222,
              "#7201a8"
             ],
             [
              0.3333333333333333,
              "#9c179e"
             ],
             [
              0.4444444444444444,
              "#bd3786"
             ],
             [
              0.5555555555555556,
              "#d8576b"
             ],
             [
              0.6666666666666666,
              "#ed7953"
             ],
             [
              0.7777777777777778,
              "#fb9f3a"
             ],
             [
              0.8888888888888888,
              "#fdca26"
             ],
             [
              1,
              "#f0f921"
             ]
            ],
            "type": "surface"
           }
          ],
          "table": [
           {
            "cells": {
             "fill": {
              "color": "#EBF0F8"
             },
             "line": {
              "color": "white"
             }
            },
            "header": {
             "fill": {
              "color": "#C8D4E3"
             },
             "line": {
              "color": "white"
             }
            },
            "type": "table"
           }
          ]
         },
         "layout": {
          "annotationdefaults": {
           "arrowcolor": "#2a3f5f",
           "arrowhead": 0,
           "arrowwidth": 1
          },
          "autotypenumbers": "strict",
          "coloraxis": {
           "colorbar": {
            "outlinewidth": 0,
            "ticks": ""
           }
          },
          "colorscale": {
           "diverging": [
            [
             0,
             "#8e0152"
            ],
            [
             0.1,
             "#c51b7d"
            ],
            [
             0.2,
             "#de77ae"
            ],
            [
             0.3,
             "#f1b6da"
            ],
            [
             0.4,
             "#fde0ef"
            ],
            [
             0.5,
             "#f7f7f7"
            ],
            [
             0.6,
             "#e6f5d0"
            ],
            [
             0.7,
             "#b8e186"
            ],
            [
             0.8,
             "#7fbc41"
            ],
            [
             0.9,
             "#4d9221"
            ],
            [
             1,
             "#276419"
            ]
           ],
           "sequential": [
            [
             0,
             "#0d0887"
            ],
            [
             0.1111111111111111,
             "#46039f"
            ],
            [
             0.2222222222222222,
             "#7201a8"
            ],
            [
             0.3333333333333333,
             "#9c179e"
            ],
            [
             0.4444444444444444,
             "#bd3786"
            ],
            [
             0.5555555555555556,
             "#d8576b"
            ],
            [
             0.6666666666666666,
             "#ed7953"
            ],
            [
             0.7777777777777778,
             "#fb9f3a"
            ],
            [
             0.8888888888888888,
             "#fdca26"
            ],
            [
             1,
             "#f0f921"
            ]
           ],
           "sequentialminus": [
            [
             0,
             "#0d0887"
            ],
            [
             0.1111111111111111,
             "#46039f"
            ],
            [
             0.2222222222222222,
             "#7201a8"
            ],
            [
             0.3333333333333333,
             "#9c179e"
            ],
            [
             0.4444444444444444,
             "#bd3786"
            ],
            [
             0.5555555555555556,
             "#d8576b"
            ],
            [
             0.6666666666666666,
             "#ed7953"
            ],
            [
             0.7777777777777778,
             "#fb9f3a"
            ],
            [
             0.8888888888888888,
             "#fdca26"
            ],
            [
             1,
             "#f0f921"
            ]
           ]
          },
          "colorway": [
           "#636efa",
           "#EF553B",
           "#00cc96",
           "#ab63fa",
           "#FFA15A",
           "#19d3f3",
           "#FF6692",
           "#B6E880",
           "#FF97FF",
           "#FECB52"
          ],
          "font": {
           "color": "#2a3f5f"
          },
          "geo": {
           "bgcolor": "white",
           "lakecolor": "white",
           "landcolor": "#E5ECF6",
           "showlakes": true,
           "showland": true,
           "subunitcolor": "white"
          },
          "hoverlabel": {
           "align": "left"
          },
          "hovermode": "closest",
          "mapbox": {
           "style": "light"
          },
          "paper_bgcolor": "white",
          "plot_bgcolor": "#E5ECF6",
          "polar": {
           "angularaxis": {
            "gridcolor": "white",
            "linecolor": "white",
            "ticks": ""
           },
           "bgcolor": "#E5ECF6",
           "radialaxis": {
            "gridcolor": "white",
            "linecolor": "white",
            "ticks": ""
           }
          },
          "scene": {
           "xaxis": {
            "backgroundcolor": "#E5ECF6",
            "gridcolor": "white",
            "gridwidth": 2,
            "linecolor": "white",
            "showbackground": true,
            "ticks": "",
            "zerolinecolor": "white"
           },
           "yaxis": {
            "backgroundcolor": "#E5ECF6",
            "gridcolor": "white",
            "gridwidth": 2,
            "linecolor": "white",
            "showbackground": true,
            "ticks": "",
            "zerolinecolor": "white"
           },
           "zaxis": {
            "backgroundcolor": "#E5ECF6",
            "gridcolor": "white",
            "gridwidth": 2,
            "linecolor": "white",
            "showbackground": true,
            "ticks": "",
            "zerolinecolor": "white"
           }
          },
          "shapedefaults": {
           "line": {
            "color": "#2a3f5f"
           }
          },
          "ternary": {
           "aaxis": {
            "gridcolor": "white",
            "linecolor": "white",
            "ticks": ""
           },
           "baxis": {
            "gridcolor": "white",
            "linecolor": "white",
            "ticks": ""
           },
           "bgcolor": "#E5ECF6",
           "caxis": {
            "gridcolor": "white",
            "linecolor": "white",
            "ticks": ""
           }
          },
          "title": {
           "x": 0.05
          },
          "xaxis": {
           "automargin": true,
           "gridcolor": "white",
           "linecolor": "white",
           "ticks": "",
           "title": {
            "standoff": 15
           },
           "zerolinecolor": "white",
           "zerolinewidth": 2
          },
          "yaxis": {
           "automargin": true,
           "gridcolor": "white",
           "linecolor": "white",
           "ticks": "",
           "title": {
            "standoff": 15
           },
           "zerolinecolor": "white",
           "zerolinewidth": 2
          }
         }
        },
        "title": {
         "text": "MAR"
        },
        "width": 800,
        "xaxis": {
         "anchor": "y",
         "domain": [
          0,
          1
         ],
         "title": {
          "text": "Year"
         }
        },
        "yaxis": {
         "anchor": "x",
         "domain": [
          0,
          1
         ],
         "title": {
          "text": "value"
         }
        }
       }
      }
     },
     "metadata": {},
     "output_type": "display_data"
    }
   ],
   "source": [
    "for i in range(0,len(naf_list)):\n",
    "\n",
    "    dat=df.loc[df.loc[:, 'Country'] == naf_list[i]]\n",
    "\n",
    "    a=px.line(dat, x=\"Year\", y=myvariables, width=800, height=600,title=naf_list[i])\n",
    "\n",
    "    display(a)"
   ]
  },
  {
   "cell_type": "code",
   "execution_count": 9,
   "metadata": {},
   "outputs": [],
   "source": [
    "columns=['Country','Year','Exports-Commercial services','Renewable electricity','Employment-agriculture','Employment-industry','Employment-services','Exports-G&S','Fertility rate','Foreign investment','GDP','Education GExp','Workers high education','Literacy rate','Net migration','Mortality-infants','Health services use','R&D GExp','Ninis','Suicide','International taxes','Alcohol per capita']\n",
    "clist=df['Country'].unique()"
   ]
  },
  {
   "cell_type": "markdown",
   "metadata": {},
   "source": [
    "The following loop has been created to test if each variable for each country follows a normal distribution and also to present in an orderly manner all the correlations between the GDP and the variables so they can be understood on a lower scale."
   ]
  },
  {
   "cell_type": "code",
   "execution_count": 10,
   "metadata": {},
   "outputs": [],
   "source": [
    "def multcolumn(frame):\n",
    "    for u in range(2, len(columns)):\n",
    "        name2=columns[u]+'^2'\n",
    "        name3=columns[u]+'^3'\n",
    "        namelog=columns[u]+' log'\n",
    "        frame.loc[:,name2] = frame[columns[u]]**2\n",
    "        frame.loc[:,name3] = frame[columns[u]]**3\n",
    "        frame.loc[:,namelog] = np.log(frame[columns[u]])"
   ]
  },
  {
   "cell_type": "code",
   "execution_count": 11,
   "metadata": {},
   "outputs": [
    {
     "name": "stdout",
     "output_type": "stream",
     "text": [
      "DZA-Renewable electricity\n",
      "Statistical=0.845, p=0.000\n",
      "It does NOT seem normal( Denies H0 )\n",
      "DZA-Employment-agriculture\n",
      "Statistical=0.725, p=0.000\n",
      "It does NOT seem normal( Denies H0 )\n",
      "DZA-Employment-industry\n",
      "Statistical=0.827, p=0.000\n",
      "It does NOT seem normal( Denies H0 )\n",
      "DZA-Employment-services\n",
      "Statistical=0.782, p=0.000\n",
      "It does NOT seem normal( Denies H0 )\n",
      "DZA-Exports-G&S\n",
      "Statistical=0.904, p=0.008\n",
      "It does NOT seem normal( Denies H0 )\n",
      "DZA-Fertility rate\n",
      "Statistical=0.781, p=0.000\n",
      "It does NOT seem normal( Denies H0 )\n",
      "DZA-Foreign investment\n",
      "Statistical=0.896, p=0.005\n",
      "It does NOT seem normal( Denies H0 )\n",
      "DZA-GDP\n",
      "Statistical=0.922, p=0.023\n",
      "It does NOT seem normal( Denies H0 )\n",
      "DZA-Education GExp\n",
      "Statistical=0.968, p=0.446\n",
      "Data is NORMAL ( H0 not denied )\n",
      "DZA-Workers high education\n",
      "Statistical=0.863, p=0.001\n",
      "It does NOT seem normal( Denies H0 )\n",
      "DZA-Literacy rate\n",
      "Statistical=nan, p=1.000\n",
      "Data is NORMAL ( H0 not denied )\n",
      "DZA-Net migration\n",
      "Statistical=0.851, p=0.000\n",
      "It does NOT seem normal( Denies H0 )\n",
      "DZA-Mortality-infants\n",
      "Statistical=nan, p=1.000\n",
      "Data is NORMAL ( H0 not denied )\n",
      "DZA-Health services use\n",
      "Statistical=0.808, p=0.000\n",
      "It does NOT seem normal( Denies H0 )\n",
      "DZA-R&D GExp\n",
      "Statistical=0.783, p=0.000\n",
      "It does NOT seem normal( Denies H0 )\n",
      "DZA-Ninis\n",
      "Statistical=nan, p=1.000\n",
      "Data is NORMAL ( H0 not denied )\n",
      "DZA-Suicide\n",
      "Statistical=0.891, p=0.004\n",
      "It does NOT seem normal( Denies H0 )\n",
      "DZA-International taxes\n",
      "Statistical=0.662, p=0.000\n",
      "It does NOT seem normal( Denies H0 )\n",
      "DZA-Alcohol per capita\n",
      "Statistical=0.863, p=0.001\n",
      "It does NOT seem normal( Denies H0 )\n",
      "DZA\n"
     ]
    },
    {
     "name": "stderr",
     "output_type": "stream",
     "text": [
      "c:\\Users\\msanchis\\Documents\\GitHub\\python-data-driven-decisions\\.venv\\lib\\site-packages\\pandas\\core\\arraylike.py:397: RuntimeWarning:\n",
      "\n",
      "divide by zero encountered in log\n",
      "\n",
      "c:\\Users\\msanchis\\Documents\\GitHub\\python-data-driven-decisions\\.venv\\lib\\site-packages\\pandas\\core\\arraylike.py:397: RuntimeWarning:\n",
      "\n",
      "divide by zero encountered in log\n",
      "\n",
      "c:\\Users\\msanchis\\Documents\\GitHub\\python-data-driven-decisions\\.venv\\lib\\site-packages\\pandas\\core\\arraylike.py:397: RuntimeWarning:\n",
      "\n",
      "divide by zero encountered in log\n",
      "\n",
      "c:\\Users\\msanchis\\Documents\\GitHub\\python-data-driven-decisions\\.venv\\lib\\site-packages\\pandas\\core\\arraylike.py:397: RuntimeWarning:\n",
      "\n",
      "divide by zero encountered in log\n",
      "\n",
      "c:\\Users\\msanchis\\Documents\\GitHub\\python-data-driven-decisions\\.venv\\lib\\site-packages\\pandas\\core\\arraylike.py:397: RuntimeWarning:\n",
      "\n",
      "divide by zero encountered in log\n",
      "\n",
      "c:\\Users\\msanchis\\Documents\\GitHub\\python-data-driven-decisions\\.venv\\lib\\site-packages\\pandas\\core\\arraylike.py:397: RuntimeWarning:\n",
      "\n",
      "divide by zero encountered in log\n",
      "\n",
      "c:\\Users\\msanchis\\Documents\\GitHub\\python-data-driven-decisions\\.venv\\lib\\site-packages\\pandas\\core\\arraylike.py:397: RuntimeWarning:\n",
      "\n",
      "divide by zero encountered in log\n",
      "\n",
      "c:\\Users\\msanchis\\Documents\\GitHub\\python-data-driven-decisions\\.venv\\lib\\site-packages\\pandas\\core\\arraylike.py:397: RuntimeWarning:\n",
      "\n",
      "divide by zero encountered in log\n",
      "\n",
      "c:\\Users\\msanchis\\Documents\\GitHub\\python-data-driven-decisions\\.venv\\lib\\site-packages\\pandas\\core\\arraylike.py:397: RuntimeWarning:\n",
      "\n",
      "divide by zero encountered in log\n",
      "\n",
      "c:\\Users\\msanchis\\Documents\\GitHub\\python-data-driven-decisions\\.venv\\lib\\site-packages\\pandas\\core\\arraylike.py:397: RuntimeWarning:\n",
      "\n",
      "divide by zero encountered in log\n",
      "\n",
      "c:\\Users\\msanchis\\Documents\\GitHub\\python-data-driven-decisions\\.venv\\lib\\site-packages\\pandas\\core\\arraylike.py:397: RuntimeWarning:\n",
      "\n",
      "divide by zero encountered in log\n",
      "\n",
      "c:\\Users\\msanchis\\Documents\\GitHub\\python-data-driven-decisions\\.venv\\lib\\site-packages\\pandas\\core\\arraylike.py:397: RuntimeWarning:\n",
      "\n",
      "divide by zero encountered in log\n",
      "\n",
      "c:\\Users\\msanchis\\Documents\\GitHub\\python-data-driven-decisions\\.venv\\lib\\site-packages\\pandas\\core\\arraylike.py:397: RuntimeWarning:\n",
      "\n",
      "divide by zero encountered in log\n",
      "\n",
      "c:\\Users\\msanchis\\Documents\\GitHub\\python-data-driven-decisions\\.venv\\lib\\site-packages\\pandas\\core\\arraylike.py:397: RuntimeWarning:\n",
      "\n",
      "divide by zero encountered in log\n",
      "\n",
      "c:\\Users\\msanchis\\Documents\\GitHub\\python-data-driven-decisions\\.venv\\lib\\site-packages\\pandas\\core\\arraylike.py:397: RuntimeWarning:\n",
      "\n",
      "divide by zero encountered in log\n",
      "\n",
      "c:\\Users\\msanchis\\Documents\\GitHub\\python-data-driven-decisions\\.venv\\lib\\site-packages\\pandas\\core\\arraylike.py:397: RuntimeWarning:\n",
      "\n",
      "divide by zero encountered in log\n",
      "\n",
      "c:\\Users\\msanchis\\Documents\\GitHub\\python-data-driven-decisions\\.venv\\lib\\site-packages\\pandas\\core\\arraylike.py:397: RuntimeWarning:\n",
      "\n",
      "divide by zero encountered in log\n",
      "\n",
      "c:\\Users\\msanchis\\Documents\\GitHub\\python-data-driven-decisions\\.venv\\lib\\site-packages\\pandas\\core\\arraylike.py:397: RuntimeWarning:\n",
      "\n",
      "divide by zero encountered in log\n",
      "\n",
      "c:\\Users\\msanchis\\Documents\\GitHub\\python-data-driven-decisions\\.venv\\lib\\site-packages\\pandas\\core\\arraylike.py:397: RuntimeWarning:\n",
      "\n",
      "divide by zero encountered in log\n",
      "\n",
      "c:\\Users\\msanchis\\Documents\\GitHub\\python-data-driven-decisions\\.venv\\lib\\site-packages\\pandas\\core\\arraylike.py:397: RuntimeWarning:\n",
      "\n",
      "divide by zero encountered in log\n",
      "\n"
     ]
    },
    {
     "data": {
      "text/html": [
       "<style type=\"text/css\">\n",
       "#T_c9968_row0_col0, #T_c9968_row0_col1 {\n",
       "  background-color: #023858;\n",
       "  color: #f1f1f1;\n",
       "}\n",
       "#T_c9968_row1_col0 {\n",
       "  background-color: #0872b1;\n",
       "  color: #f1f1f1;\n",
       "}\n",
       "#T_c9968_row1_col1, #T_c9968_row2_col1 {\n",
       "  background-color: #023c5f;\n",
       "  color: #f1f1f1;\n",
       "}\n",
       "#T_c9968_row2_col0 {\n",
       "  background-color: #157ab5;\n",
       "  color: #f1f1f1;\n",
       "}\n",
       "#T_c9968_row3_col0 {\n",
       "  background-color: #2182b9;\n",
       "  color: #f1f1f1;\n",
       "}\n",
       "#T_c9968_row3_col1 {\n",
       "  background-color: #023d60;\n",
       "  color: #f1f1f1;\n",
       "}\n",
       "#T_c9968_row4_col0 {\n",
       "  background-color: #3790c0;\n",
       "  color: #f1f1f1;\n",
       "}\n",
       "#T_c9968_row4_col1, #T_c9968_row5_col1, #T_c9968_row22_col0 {\n",
       "  background-color: #fff7fb;\n",
       "  color: #000000;\n",
       "}\n",
       "#T_c9968_row5_col0 {\n",
       "  background-color: #3d93c2;\n",
       "  color: #f1f1f1;\n",
       "}\n",
       "#T_c9968_row6_col0 {\n",
       "  background-color: #5a9ec9;\n",
       "  color: #f1f1f1;\n",
       "}\n",
       "#T_c9968_row6_col1 {\n",
       "  background-color: #023f64;\n",
       "  color: #f1f1f1;\n",
       "}\n",
       "#T_c9968_row7_col0 {\n",
       "  background-color: #65a3cb;\n",
       "  color: #f1f1f1;\n",
       "}\n",
       "#T_c9968_row7_col1, #T_c9968_row8_col1 {\n",
       "  background-color: #fef6fb;\n",
       "  color: #000000;\n",
       "}\n",
       "#T_c9968_row8_col0, #T_c9968_row9_col0 {\n",
       "  background-color: #6ba5cd;\n",
       "  color: #f1f1f1;\n",
       "}\n",
       "#T_c9968_row9_col1, #T_c9968_row10_col1 {\n",
       "  background-color: #034165;\n",
       "  color: #f1f1f1;\n",
       "}\n",
       "#T_c9968_row10_col0 {\n",
       "  background-color: #76aad0;\n",
       "  color: #f1f1f1;\n",
       "}\n",
       "#T_c9968_row11_col0 {\n",
       "  background-color: #9ab8d8;\n",
       "  color: #000000;\n",
       "}\n",
       "#T_c9968_row11_col1 {\n",
       "  background-color: #fdf5fa;\n",
       "  color: #000000;\n",
       "}\n",
       "#T_c9968_row12_col0 {\n",
       "  background-color: #a8bedc;\n",
       "  color: #000000;\n",
       "}\n",
       "#T_c9968_row12_col1 {\n",
       "  background-color: #034369;\n",
       "  color: #f1f1f1;\n",
       "}\n",
       "#T_c9968_row13_col0 {\n",
       "  background-color: #b1c2de;\n",
       "  color: #000000;\n",
       "}\n",
       "#T_c9968_row13_col1, #T_c9968_row14_col1 {\n",
       "  background-color: #03446a;\n",
       "  color: #f1f1f1;\n",
       "}\n",
       "#T_c9968_row14_col0 {\n",
       "  background-color: #b8c6e0;\n",
       "  color: #000000;\n",
       "}\n",
       "#T_c9968_row15_col0, #T_c9968_row16_col0 {\n",
       "  background-color: #c9cee4;\n",
       "  color: #000000;\n",
       "}\n",
       "#T_c9968_row15_col1 {\n",
       "  background-color: #03456c;\n",
       "  color: #f1f1f1;\n",
       "}\n",
       "#T_c9968_row16_col1, #T_c9968_row17_col1 {\n",
       "  background-color: #fbf4f9;\n",
       "  color: #000000;\n",
       "}\n",
       "#T_c9968_row17_col0 {\n",
       "  background-color: #ced0e6;\n",
       "  color: #000000;\n",
       "}\n",
       "#T_c9968_row18_col0 {\n",
       "  background-color: #d5d5e8;\n",
       "  color: #000000;\n",
       "}\n",
       "#T_c9968_row18_col1 {\n",
       "  background-color: #03466e;\n",
       "  color: #f1f1f1;\n",
       "}\n",
       "#T_c9968_row19_col0, #T_c9968_row20_col0 {\n",
       "  background-color: #ede7f2;\n",
       "  color: #000000;\n",
       "}\n",
       "#T_c9968_row19_col1, #T_c9968_row20_col1 {\n",
       "  background-color: #03476f;\n",
       "  color: #f1f1f1;\n",
       "}\n",
       "#T_c9968_row21_col0 {\n",
       "  background-color: #fbf3f9;\n",
       "  color: #000000;\n",
       "}\n",
       "#T_c9968_row21_col1 {\n",
       "  background-color: #034973;\n",
       "  color: #f1f1f1;\n",
       "}\n",
       "#T_c9968_row22_col1 {\n",
       "  background-color: #034a74;\n",
       "  color: #f1f1f1;\n",
       "}\n",
       "</style>\n",
       "<table id=\"T_c9968\">\n",
       "  <thead>\n",
       "    <tr>\n",
       "      <th class=\"blank level0\" >&nbsp;</th>\n",
       "      <th id=\"T_c9968_level0_col0\" class=\"col_heading level0 col0\" >GDP-R^2</th>\n",
       "      <th id=\"T_c9968_level0_col1\" class=\"col_heading level0 col1\" >GDP</th>\n",
       "    </tr>\n",
       "  </thead>\n",
       "  <tbody>\n",
       "    <tr>\n",
       "      <th id=\"T_c9968_level0_row0\" class=\"row_heading level0 row0\" >GDP</th>\n",
       "      <td id=\"T_c9968_row0_col0\" class=\"data row0 col0\" >1.000000</td>\n",
       "      <td id=\"T_c9968_row0_col1\" class=\"data row0 col1\" >1.000000</td>\n",
       "    </tr>\n",
       "    <tr>\n",
       "      <th id=\"T_c9968_level0_row1\" class=\"row_heading level0 row1\" >GDP^2</th>\n",
       "      <td id=\"T_c9968_row1_col0\" class=\"data row1 col0\" >0.936361</td>\n",
       "      <td id=\"T_c9968_row1_col1\" class=\"data row1 col1\" >0.967657</td>\n",
       "    </tr>\n",
       "    <tr>\n",
       "      <th id=\"T_c9968_level0_row2\" class=\"row_heading level0 row2\" >Employment-industry</th>\n",
       "      <td id=\"T_c9968_row2_col0\" class=\"data row2 col0\" >0.928916</td>\n",
       "      <td id=\"T_c9968_row2_col1\" class=\"data row2 col1\" >0.963803</td>\n",
       "    </tr>\n",
       "    <tr>\n",
       "      <th id=\"T_c9968_level0_row3\" class=\"row_heading level0 row3\" >Health services use</th>\n",
       "      <td id=\"T_c9968_row3_col0\" class=\"data row3 col0\" >0.921377</td>\n",
       "      <td id=\"T_c9968_row3_col1\" class=\"data row3 col1\" >0.959884</td>\n",
       "    </tr>\n",
       "    <tr>\n",
       "      <th id=\"T_c9968_level0_row4\" class=\"row_heading level0 row4\" >Suicide^2</th>\n",
       "      <td id=\"T_c9968_row4_col0\" class=\"data row4 col0\" >0.907592</td>\n",
       "      <td id=\"T_c9968_row4_col1\" class=\"data row4 col1\" >-0.952676</td>\n",
       "    </tr>\n",
       "    <tr>\n",
       "      <th id=\"T_c9968_level0_row5\" class=\"row_heading level0 row5\" >Employment-agriculture</th>\n",
       "      <td id=\"T_c9968_row5_col0\" class=\"data row5 col0\" >0.904864</td>\n",
       "      <td id=\"T_c9968_row5_col1\" class=\"data row5 col1\" >-0.951244</td>\n",
       "    </tr>\n",
       "    <tr>\n",
       "      <th id=\"T_c9968_level0_row6\" class=\"row_heading level0 row6\" >Employment-industry^2</th>\n",
       "      <td id=\"T_c9968_row6_col0\" class=\"data row6 col0\" >0.890518</td>\n",
       "      <td id=\"T_c9968_row6_col1\" class=\"data row6 col1\" >0.943673</td>\n",
       "    </tr>\n",
       "    <tr>\n",
       "      <th id=\"T_c9968_level0_row7\" class=\"row_heading level0 row7\" >Suicide^3</th>\n",
       "      <td id=\"T_c9968_row7_col0\" class=\"data row7 col0\" >0.885340</td>\n",
       "      <td id=\"T_c9968_row7_col1\" class=\"data row7 col1\" >-0.940925</td>\n",
       "    </tr>\n",
       "    <tr>\n",
       "      <th id=\"T_c9968_level0_row8\" class=\"row_heading level0 row8\" >Employment-agriculture^2</th>\n",
       "      <td id=\"T_c9968_row8_col0\" class=\"data row8 col0\" >0.882202</td>\n",
       "      <td id=\"T_c9968_row8_col1\" class=\"data row8 col1\" >-0.939256</td>\n",
       "    </tr>\n",
       "    <tr>\n",
       "      <th id=\"T_c9968_level0_row9\" class=\"row_heading level0 row9\" >Health services use^2</th>\n",
       "      <td id=\"T_c9968_row9_col0\" class=\"data row9 col0\" >0.881618</td>\n",
       "      <td id=\"T_c9968_row9_col1\" class=\"data row9 col1\" >0.938945</td>\n",
       "    </tr>\n",
       "    <tr>\n",
       "      <th id=\"T_c9968_level0_row10\" class=\"row_heading level0 row10\" >Exports-Commercial services</th>\n",
       "      <td id=\"T_c9968_row10_col0\" class=\"data row10 col0\" >0.875884</td>\n",
       "      <td id=\"T_c9968_row10_col1\" class=\"data row10 col1\" >0.935887</td>\n",
       "    </tr>\n",
       "    <tr>\n",
       "      <th id=\"T_c9968_level0_row11\" class=\"row_heading level0 row11\" >Suicide</th>\n",
       "      <td id=\"T_c9968_row11_col0\" class=\"data row11 col0\" >0.854515</td>\n",
       "      <td id=\"T_c9968_row11_col1\" class=\"data row11 col1\" >-0.924400</td>\n",
       "    </tr>\n",
       "    <tr>\n",
       "      <th id=\"T_c9968_level0_row12\" class=\"row_heading level0 row12\" >Employment-industry^3</th>\n",
       "      <td id=\"T_c9968_row12_col0\" class=\"data row12 col0\" >0.845580</td>\n",
       "      <td id=\"T_c9968_row12_col1\" class=\"data row12 col1\" >0.919554</td>\n",
       "    </tr>\n",
       "    <tr>\n",
       "      <th id=\"T_c9968_level0_row13\" class=\"row_heading level0 row13\" >Employment-services</th>\n",
       "      <td id=\"T_c9968_row13_col0\" class=\"data row13 col0\" >0.839088</td>\n",
       "      <td id=\"T_c9968_row13_col1\" class=\"data row13 col1\" >0.916018</td>\n",
       "    </tr>\n",
       "    <tr>\n",
       "      <th id=\"T_c9968_level0_row14\" class=\"row_heading level0 row14\" >GDP log</th>\n",
       "      <td id=\"T_c9968_row14_col0\" class=\"data row14 col0\" >0.833781</td>\n",
       "      <td id=\"T_c9968_row14_col1\" class=\"data row14 col1\" >0.913116</td>\n",
       "    </tr>\n",
       "    <tr>\n",
       "      <th id=\"T_c9968_level0_row15\" class=\"row_heading level0 row15\" >GDP^3</th>\n",
       "      <td id=\"T_c9968_row15_col0\" class=\"data row15 col0\" >0.821715</td>\n",
       "      <td id=\"T_c9968_row15_col1\" class=\"data row15 col1\" >0.906485</td>\n",
       "    </tr>\n",
       "    <tr>\n",
       "      <th id=\"T_c9968_level0_row16\" class=\"row_heading level0 row16\" >Employment-agriculture log</th>\n",
       "      <td id=\"T_c9968_row16_col0\" class=\"data row16 col0\" >0.821381</td>\n",
       "      <td id=\"T_c9968_row16_col1\" class=\"data row16 col1\" >-0.906301</td>\n",
       "    </tr>\n",
       "    <tr>\n",
       "      <th id=\"T_c9968_level0_row17\" class=\"row_heading level0 row17\" >Employment-agriculture^3</th>\n",
       "      <td id=\"T_c9968_row17_col0\" class=\"data row17 col0\" >0.817584</td>\n",
       "      <td id=\"T_c9968_row17_col1\" class=\"data row17 col1\" >-0.904203</td>\n",
       "    </tr>\n",
       "    <tr>\n",
       "      <th id=\"T_c9968_level0_row18\" class=\"row_heading level0 row18\" >Employment-services^2</th>\n",
       "      <td id=\"T_c9968_row18_col0\" class=\"data row18 col0\" >0.811216</td>\n",
       "      <td id=\"T_c9968_row18_col1\" class=\"data row18 col1\" >0.900675</td>\n",
       "    </tr>\n",
       "    <tr>\n",
       "      <th id=\"T_c9968_level0_row19\" class=\"row_heading level0 row19\" >Health services use^3</th>\n",
       "      <td id=\"T_c9968_row19_col0\" class=\"data row19 col0\" >0.785753</td>\n",
       "      <td id=\"T_c9968_row19_col1\" class=\"data row19 col1\" >0.886427</td>\n",
       "    </tr>\n",
       "    <tr>\n",
       "      <th id=\"T_c9968_level0_row20\" class=\"row_heading level0 row20\" >Literacy rate</th>\n",
       "      <td id=\"T_c9968_row20_col0\" class=\"data row20 col0\" >0.785719</td>\n",
       "      <td id=\"T_c9968_row20_col1\" class=\"data row20 col1\" >0.886408</td>\n",
       "    </tr>\n",
       "    <tr>\n",
       "      <th id=\"T_c9968_level0_row21\" class=\"row_heading level0 row21\" >Health services use log</th>\n",
       "      <td id=\"T_c9968_row21_col0\" class=\"data row21 col0\" >0.762666</td>\n",
       "      <td id=\"T_c9968_row21_col1\" class=\"data row21 col1\" >0.873307</td>\n",
       "    </tr>\n",
       "    <tr>\n",
       "      <th id=\"T_c9968_level0_row22\" class=\"row_heading level0 row22\" >Employment-industry log</th>\n",
       "      <td id=\"T_c9968_row22_col0\" class=\"data row22 col0\" >0.755410</td>\n",
       "      <td id=\"T_c9968_row22_col1\" class=\"data row22 col1\" >0.869143</td>\n",
       "    </tr>\n",
       "  </tbody>\n",
       "</table>\n"
      ],
      "text/plain": [
       "<pandas.io.formats.style.Styler at 0x29311e67a90>"
      ]
     },
     "metadata": {},
     "output_type": "display_data"
    },
    {
     "name": "stdout",
     "output_type": "stream",
     "text": [
      "EGY-Renewable electricity\n",
      "Statistical=0.827, p=0.000\n",
      "It does NOT seem normal( Denies H0 )\n",
      "EGY-Employment-agriculture\n",
      "Statistical=0.658, p=0.000\n",
      "It does NOT seem normal( Denies H0 )\n",
      "EGY-Employment-industry\n",
      "Statistical=0.944, p=0.108\n",
      "Data is NORMAL ( H0 not denied )\n",
      "EGY-Employment-services\n",
      "Statistical=0.919, p=0.022\n",
      "It does NOT seem normal( Denies H0 )\n",
      "EGY-Exports-G&S\n",
      "Statistical=0.952, p=0.181\n",
      "Data is NORMAL ( H0 not denied )\n",
      "EGY-Fertility rate\n",
      "Statistical=0.919, p=0.022\n",
      "It does NOT seem normal( Denies H0 )\n",
      "EGY-Foreign investment\n",
      "Statistical=0.855, p=0.001\n",
      "It does NOT seem normal( Denies H0 )\n",
      "EGY-GDP\n",
      "Statistical=0.881, p=0.002\n",
      "It does NOT seem normal( Denies H0 )\n",
      "EGY-Education GExp\n",
      "Statistical=0.874, p=0.002\n",
      "It does NOT seem normal( Denies H0 )\n",
      "EGY-Workers high education\n",
      "Statistical=0.868, p=0.001\n",
      "It does NOT seem normal( Denies H0 )\n",
      "EGY-Literacy rate\n",
      "Statistical=nan, p=1.000\n",
      "Data is NORMAL ( H0 not denied )\n",
      "EGY-Net migration\n",
      "Statistical=0.855, p=0.001\n",
      "It does NOT seem normal( Denies H0 )\n",
      "EGY-Mortality-infants\n",
      "Statistical=0.880, p=0.002\n",
      "It does NOT seem normal( Denies H0 )\n",
      "EGY-Health services use\n",
      "Statistical=0.784, p=0.000\n",
      "It does NOT seem normal( Denies H0 )\n",
      "EGY-R&D GExp\n",
      "Statistical=0.827, p=0.000\n",
      "It does NOT seem normal( Denies H0 )\n",
      "EGY-Ninis\n",
      "Statistical=nan, p=1.000\n",
      "Data is NORMAL ( H0 not denied )\n",
      "EGY-Suicide\n",
      "Statistical=0.926, p=0.034\n",
      "It does NOT seem normal( Denies H0 )\n",
      "EGY-International taxes\n",
      "Statistical=0.814, p=0.000\n",
      "It does NOT seem normal( Denies H0 )\n",
      "EGY-Alcohol per capita\n",
      "Statistical=0.763, p=0.000\n",
      "It does NOT seem normal( Denies H0 )\n",
      "EGY\n"
     ]
    },
    {
     "data": {
      "text/html": [
       "<style type=\"text/css\">\n",
       "#T_cf6b5_row0_col0, #T_cf6b5_row0_col1 {\n",
       "  background-color: #023858;\n",
       "  color: #f1f1f1;\n",
       "}\n",
       "#T_cf6b5_row1_col0 {\n",
       "  background-color: #056dac;\n",
       "  color: #f1f1f1;\n",
       "}\n",
       "#T_cf6b5_row1_col1 {\n",
       "  background-color: #056ba9;\n",
       "  color: #f1f1f1;\n",
       "}\n",
       "#T_cf6b5_row2_col0 {\n",
       "  background-color: #4295c3;\n",
       "  color: #f1f1f1;\n",
       "}\n",
       "#T_cf6b5_row2_col1 {\n",
       "  background-color: #3991c1;\n",
       "  color: #f1f1f1;\n",
       "}\n",
       "#T_cf6b5_row3_col0 {\n",
       "  background-color: #509ac6;\n",
       "  color: #f1f1f1;\n",
       "}\n",
       "#T_cf6b5_row3_col1 {\n",
       "  background-color: #4897c4;\n",
       "  color: #f1f1f1;\n",
       "}\n",
       "#T_cf6b5_row4_col0, #T_cf6b5_row5_col0 {\n",
       "  background-color: #569dc8;\n",
       "  color: #f1f1f1;\n",
       "}\n",
       "#T_cf6b5_row4_col1, #T_cf6b5_row5_col1 {\n",
       "  background-color: #4e9ac6;\n",
       "  color: #f1f1f1;\n",
       "}\n",
       "#T_cf6b5_row6_col0 {\n",
       "  background-color: #60a1ca;\n",
       "  color: #f1f1f1;\n",
       "}\n",
       "#T_cf6b5_row6_col1 {\n",
       "  background-color: #589ec8;\n",
       "  color: #f1f1f1;\n",
       "}\n",
       "#T_cf6b5_row7_col0 {\n",
       "  background-color: #6fa7ce;\n",
       "  color: #f1f1f1;\n",
       "}\n",
       "#T_cf6b5_row7_col1, #T_cf6b5_row8_col1 {\n",
       "  background-color: #67a4cc;\n",
       "  color: #f1f1f1;\n",
       "}\n",
       "#T_cf6b5_row8_col0 {\n",
       "  background-color: #71a8ce;\n",
       "  color: #f1f1f1;\n",
       "}\n",
       "#T_cf6b5_row9_col0 {\n",
       "  background-color: #7eadd1;\n",
       "  color: #f1f1f1;\n",
       "}\n",
       "#T_cf6b5_row9_col1 {\n",
       "  background-color: #78abd0;\n",
       "  color: #f1f1f1;\n",
       "}\n",
       "#T_cf6b5_row10_col0, #T_cf6b5_row11_col0 {\n",
       "  background-color: #9ab8d8;\n",
       "  color: #000000;\n",
       "}\n",
       "#T_cf6b5_row10_col1, #T_cf6b5_row11_col1 {\n",
       "  background-color: #94b6d7;\n",
       "  color: #000000;\n",
       "}\n",
       "#T_cf6b5_row12_col0 {\n",
       "  background-color: #a5bddb;\n",
       "  color: #000000;\n",
       "}\n",
       "#T_cf6b5_row12_col1 {\n",
       "  background-color: #9fbad9;\n",
       "  color: #000000;\n",
       "}\n",
       "#T_cf6b5_row13_col0 {\n",
       "  background-color: #adc1dd;\n",
       "  color: #000000;\n",
       "}\n",
       "#T_cf6b5_row13_col1 {\n",
       "  background-color: #a8bedc;\n",
       "  color: #000000;\n",
       "}\n",
       "#T_cf6b5_row14_col0 {\n",
       "  background-color: #bcc7e1;\n",
       "  color: #000000;\n",
       "}\n",
       "#T_cf6b5_row14_col1 {\n",
       "  background-color: #b8c6e0;\n",
       "  color: #000000;\n",
       "}\n",
       "#T_cf6b5_row15_col0 {\n",
       "  background-color: #bfc9e1;\n",
       "  color: #000000;\n",
       "}\n",
       "#T_cf6b5_row15_col1 {\n",
       "  background-color: #b9c6e0;\n",
       "  color: #000000;\n",
       "}\n",
       "#T_cf6b5_row16_col0 {\n",
       "  background-color: #cacee5;\n",
       "  color: #000000;\n",
       "}\n",
       "#T_cf6b5_row16_col1 {\n",
       "  background-color: #c5cce3;\n",
       "  color: #000000;\n",
       "}\n",
       "#T_cf6b5_row17_col0 {\n",
       "  background-color: #d2d2e7;\n",
       "  color: #000000;\n",
       "}\n",
       "#T_cf6b5_row17_col1 {\n",
       "  background-color: #ced0e6;\n",
       "  color: #000000;\n",
       "}\n",
       "#T_cf6b5_row18_col0 {\n",
       "  background-color: #d7d6e9;\n",
       "  color: #000000;\n",
       "}\n",
       "#T_cf6b5_row18_col1 {\n",
       "  background-color: #d4d4e8;\n",
       "  color: #000000;\n",
       "}\n",
       "#T_cf6b5_row19_col0 {\n",
       "  background-color: #d8d7e9;\n",
       "  color: #000000;\n",
       "}\n",
       "#T_cf6b5_row19_col1 {\n",
       "  background-color: #d5d5e8;\n",
       "  color: #000000;\n",
       "}\n",
       "#T_cf6b5_row20_col0 {\n",
       "  background-color: #e7e3f0;\n",
       "  color: #000000;\n",
       "}\n",
       "#T_cf6b5_row20_col1 {\n",
       "  background-color: #e6e2ef;\n",
       "  color: #000000;\n",
       "}\n",
       "#T_cf6b5_row21_col0 {\n",
       "  background-color: #faf3f9;\n",
       "  color: #000000;\n",
       "}\n",
       "#T_cf6b5_row21_col1 {\n",
       "  background-color: #faf2f8;\n",
       "  color: #000000;\n",
       "}\n",
       "#T_cf6b5_row22_col0, #T_cf6b5_row22_col1 {\n",
       "  background-color: #fff7fb;\n",
       "  color: #000000;\n",
       "}\n",
       "</style>\n",
       "<table id=\"T_cf6b5\">\n",
       "  <thead>\n",
       "    <tr>\n",
       "      <th class=\"blank level0\" >&nbsp;</th>\n",
       "      <th id=\"T_cf6b5_level0_col0\" class=\"col_heading level0 col0\" >GDP-R^2</th>\n",
       "      <th id=\"T_cf6b5_level0_col1\" class=\"col_heading level0 col1\" >GDP</th>\n",
       "    </tr>\n",
       "  </thead>\n",
       "  <tbody>\n",
       "    <tr>\n",
       "      <th id=\"T_cf6b5_level0_row0\" class=\"row_heading level0 row0\" >GDP</th>\n",
       "      <td id=\"T_cf6b5_row0_col0\" class=\"data row0 col0\" >1.000000</td>\n",
       "      <td id=\"T_cf6b5_row0_col1\" class=\"data row0 col1\" >1.000000</td>\n",
       "    </tr>\n",
       "    <tr>\n",
       "      <th id=\"T_cf6b5_level0_row1\" class=\"row_heading level0 row1\" >GDP^2</th>\n",
       "      <td id=\"T_cf6b5_row1_col0\" class=\"data row1 col0\" >0.944442</td>\n",
       "      <td id=\"T_cf6b5_row1_col1\" class=\"data row1 col1\" >0.971824</td>\n",
       "    </tr>\n",
       "    <tr>\n",
       "      <th id=\"T_cf6b5_level0_row2\" class=\"row_heading level0 row2\" >R&D GExp</th>\n",
       "      <td id=\"T_cf6b5_row2_col0\" class=\"data row2 col0\" >0.905692</td>\n",
       "      <td id=\"T_cf6b5_row2_col1\" class=\"data row2 col1\" >0.951678</td>\n",
       "    </tr>\n",
       "    <tr>\n",
       "      <th id=\"T_cf6b5_level0_row3\" class=\"row_heading level0 row3\" >Health services use</th>\n",
       "      <td id=\"T_cf6b5_row3_col0\" class=\"data row3 col0\" >0.899080</td>\n",
       "      <td id=\"T_cf6b5_row3_col1\" class=\"data row3 col1\" >0.948198</td>\n",
       "    </tr>\n",
       "    <tr>\n",
       "      <th id=\"T_cf6b5_level0_row4\" class=\"row_heading level0 row4\" >Alcohol per capita^2</th>\n",
       "      <td id=\"T_cf6b5_row4_col0\" class=\"data row4 col0\" >0.896208</td>\n",
       "      <td id=\"T_cf6b5_row4_col1\" class=\"data row4 col1\" >0.946683</td>\n",
       "    </tr>\n",
       "    <tr>\n",
       "      <th id=\"T_cf6b5_level0_row5\" class=\"row_heading level0 row5\" >International taxes</th>\n",
       "      <td id=\"T_cf6b5_row5_col0\" class=\"data row5 col0\" >0.895989</td>\n",
       "      <td id=\"T_cf6b5_row5_col1\" class=\"data row5 col1\" >0.946567</td>\n",
       "    </tr>\n",
       "    <tr>\n",
       "      <th id=\"T_cf6b5_level0_row6\" class=\"row_heading level0 row6\" >Alcohol per capita</th>\n",
       "      <td id=\"T_cf6b5_row6_col0\" class=\"data row6 col0\" >0.891378</td>\n",
       "      <td id=\"T_cf6b5_row6_col1\" class=\"data row6 col1\" >0.944128</td>\n",
       "    </tr>\n",
       "    <tr>\n",
       "      <th id=\"T_cf6b5_level0_row7\" class=\"row_heading level0 row7\" >Renewable electricity^2</th>\n",
       "      <td id=\"T_cf6b5_row7_col0\" class=\"data row7 col0\" >0.884071</td>\n",
       "      <td id=\"T_cf6b5_row7_col1\" class=\"data row7 col1\" >0.940250</td>\n",
       "    </tr>\n",
       "    <tr>\n",
       "      <th id=\"T_cf6b5_level0_row8\" class=\"row_heading level0 row8\" >Renewable electricity</th>\n",
       "      <td id=\"T_cf6b5_row8_col0\" class=\"data row8 col0\" >0.883410</td>\n",
       "      <td id=\"T_cf6b5_row8_col1\" class=\"data row8 col1\" >0.939899</td>\n",
       "    </tr>\n",
       "    <tr>\n",
       "      <th id=\"T_cf6b5_level0_row9\" class=\"row_heading level0 row9\" >Literacy rate log</th>\n",
       "      <td id=\"T_cf6b5_row9_col0\" class=\"data row9 col0\" >0.875411</td>\n",
       "      <td id=\"T_cf6b5_row9_col1\" class=\"data row9 col1\" >0.935634</td>\n",
       "    </tr>\n",
       "    <tr>\n",
       "      <th id=\"T_cf6b5_level0_row10\" class=\"row_heading level0 row10\" >Unnamed: 0</th>\n",
       "      <td id=\"T_cf6b5_row10_col0\" class=\"data row10 col0\" >0.859322</td>\n",
       "      <td id=\"T_cf6b5_row10_col1\" class=\"data row10 col1\" >0.926996</td>\n",
       "    </tr>\n",
       "    <tr>\n",
       "      <th id=\"T_cf6b5_level0_row11\" class=\"row_heading level0 row11\" >Year</th>\n",
       "      <td id=\"T_cf6b5_row11_col0\" class=\"data row11 col0\" >0.859322</td>\n",
       "      <td id=\"T_cf6b5_row11_col1\" class=\"data row11 col1\" >0.926996</td>\n",
       "    </tr>\n",
       "    <tr>\n",
       "      <th id=\"T_cf6b5_level0_row12\" class=\"row_heading level0 row12\" >GDP^3</th>\n",
       "      <td id=\"T_cf6b5_row12_col0\" class=\"data row12 col0\" >0.852215</td>\n",
       "      <td id=\"T_cf6b5_row12_col1\" class=\"data row12 col1\" >0.923155</td>\n",
       "    </tr>\n",
       "    <tr>\n",
       "      <th id=\"T_cf6b5_level0_row13\" class=\"row_heading level0 row13\" >Renewable electricity^3</th>\n",
       "      <td id=\"T_cf6b5_row13_col0\" class=\"data row13 col0\" >0.846925</td>\n",
       "      <td id=\"T_cf6b5_row13_col1\" class=\"data row13 col1\" >0.920286</td>\n",
       "    </tr>\n",
       "    <tr>\n",
       "      <th id=\"T_cf6b5_level0_row14\" class=\"row_heading level0 row14\" >Alcohol per capita^3</th>\n",
       "      <td id=\"T_cf6b5_row14_col0\" class=\"data row14 col0\" >0.836469</td>\n",
       "      <td id=\"T_cf6b5_row14_col1\" class=\"data row14 col1\" >0.914587</td>\n",
       "    </tr>\n",
       "    <tr>\n",
       "      <th id=\"T_cf6b5_level0_row15\" class=\"row_heading level0 row15\" >R&D GExp^2</th>\n",
       "      <td id=\"T_cf6b5_row15_col0\" class=\"data row15 col0\" >0.835167</td>\n",
       "      <td id=\"T_cf6b5_row15_col1\" class=\"data row15 col1\" >0.913874</td>\n",
       "    </tr>\n",
       "    <tr>\n",
       "      <th id=\"T_cf6b5_level0_row16\" class=\"row_heading level0 row16\" >International taxes^2</th>\n",
       "      <td id=\"T_cf6b5_row16_col0\" class=\"data row16 col0\" >0.827021</td>\n",
       "      <td id=\"T_cf6b5_row16_col1\" class=\"data row16 col1\" >0.909407</td>\n",
       "    </tr>\n",
       "    <tr>\n",
       "      <th id=\"T_cf6b5_level0_row17\" class=\"row_heading level0 row17\" >Literacy rate</th>\n",
       "      <td id=\"T_cf6b5_row17_col0\" class=\"data row17 col0\" >0.821090</td>\n",
       "      <td id=\"T_cf6b5_row17_col1\" class=\"data row17 col1\" >0.906140</td>\n",
       "    </tr>\n",
       "    <tr>\n",
       "      <th id=\"T_cf6b5_level0_row18\" class=\"row_heading level0 row18\" >Health services use^2</th>\n",
       "      <td id=\"T_cf6b5_row18_col0\" class=\"data row18 col0\" >0.815875</td>\n",
       "      <td id=\"T_cf6b5_row18_col1\" class=\"data row18 col1\" >0.903258</td>\n",
       "    </tr>\n",
       "    <tr>\n",
       "      <th id=\"T_cf6b5_level0_row19\" class=\"row_heading level0 row19\" >R&D GExp log</th>\n",
       "      <td id=\"T_cf6b5_row19_col0\" class=\"data row19 col0\" >0.814531</td>\n",
       "      <td id=\"T_cf6b5_row19_col1\" class=\"data row19 col1\" >0.902513</td>\n",
       "    </tr>\n",
       "    <tr>\n",
       "      <th id=\"T_cf6b5_level0_row20\" class=\"row_heading level0 row20\" >GDP log</th>\n",
       "      <td id=\"T_cf6b5_row20_col0\" class=\"data row20 col0\" >0.797775</td>\n",
       "      <td id=\"T_cf6b5_row20_col1\" class=\"data row20 col1\" >0.893182</td>\n",
       "    </tr>\n",
       "    <tr>\n",
       "      <th id=\"T_cf6b5_level0_row21\" class=\"row_heading level0 row21\" >Employment-industry</th>\n",
       "      <td id=\"T_cf6b5_row21_col0\" class=\"data row21 col0\" >0.771278</td>\n",
       "      <td id=\"T_cf6b5_row21_col1\" class=\"data row21 col1\" >0.878224</td>\n",
       "    </tr>\n",
       "    <tr>\n",
       "      <th id=\"T_cf6b5_level0_row22\" class=\"row_heading level0 row22\" >R&D GExp^3</th>\n",
       "      <td id=\"T_cf6b5_row22_col0\" class=\"data row22 col0\" >0.763396</td>\n",
       "      <td id=\"T_cf6b5_row22_col1\" class=\"data row22 col1\" >0.873726</td>\n",
       "    </tr>\n",
       "  </tbody>\n",
       "</table>\n"
      ],
      "text/plain": [
       "<pandas.io.formats.style.Styler at 0x29311e66d70>"
      ]
     },
     "metadata": {},
     "output_type": "display_data"
    },
    {
     "name": "stdout",
     "output_type": "stream",
     "text": [
      "LBY-Renewable electricity\n",
      "Statistical=0.887, p=0.003\n",
      "It does NOT seem normal( Denies H0 )\n",
      "LBY-Employment-agriculture\n",
      "Statistical=nan, p=1.000\n",
      "Data is NORMAL ( H0 not denied )\n",
      "LBY-Employment-industry\n",
      "Statistical=0.917, p=0.020\n",
      "It does NOT seem normal( Denies H0 )\n",
      "LBY-Employment-services\n",
      "Statistical=0.911, p=0.014\n",
      "It does NOT seem normal( Denies H0 )\n",
      "LBY-Exports-G&S\n",
      "Statistical=0.869, p=0.001\n",
      "It does NOT seem normal( Denies H0 )\n",
      "LBY-Fertility rate\n",
      "Statistical=0.865, p=0.001\n",
      "It does NOT seem normal( Denies H0 )\n",
      "LBY-Foreign investment\n",
      "Statistical=0.831, p=0.000\n",
      "It does NOT seem normal( Denies H0 )\n",
      "LBY-GDP\n",
      "Statistical=0.813, p=0.000\n",
      "It does NOT seem normal( Denies H0 )\n",
      "LBY-Education GExp\n",
      "Statistical=0.975, p=0.673\n",
      "Data is NORMAL ( H0 not denied )\n",
      "LBY-Workers high education\n",
      "Statistical=0.849, p=0.000\n",
      "It does NOT seem normal( Denies H0 )\n",
      "LBY-Literacy rate\n",
      "Statistical=nan, p=1.000\n",
      "Data is NORMAL ( H0 not denied )\n",
      "LBY-Net migration\n",
      "Statistical=0.826, p=0.000\n",
      "It does NOT seem normal( Denies H0 )\n",
      "LBY-Mortality-infants\n",
      "Statistical=nan, p=1.000\n",
      "Data is NORMAL ( H0 not denied )\n",
      "LBY-Health services use\n",
      "Statistical=0.722, p=0.000\n",
      "It does NOT seem normal( Denies H0 )\n",
      "LBY-R&D GExp\n",
      "Statistical=0.954, p=0.195\n",
      "Data is NORMAL ( H0 not denied )\n",
      "LBY-Ninis\n",
      "Statistical=nan, p=1.000\n",
      "Data is NORMAL ( H0 not denied )\n",
      "LBY-Suicide\n",
      "Statistical=0.946, p=0.122\n",
      "Data is NORMAL ( H0 not denied )\n",
      "LBY-International taxes\n",
      "Statistical=nan, p=1.000\n",
      "Data is NORMAL ( H0 not denied )\n",
      "LBY-Alcohol per capita\n",
      "Statistical=nan, p=1.000\n",
      "Data is NORMAL ( H0 not denied )\n",
      "LBY\n"
     ]
    },
    {
     "data": {
      "text/html": [
       "<style type=\"text/css\">\n",
       "#T_57309_row0_col0, #T_57309_row0_col1 {\n",
       "  background-color: #023858;\n",
       "  color: #f1f1f1;\n",
       "}\n",
       "#T_57309_row1_col0 {\n",
       "  background-color: #3790c0;\n",
       "  color: #f1f1f1;\n",
       "}\n",
       "#T_57309_row1_col1 {\n",
       "  background-color: #328dbf;\n",
       "  color: #f1f1f1;\n",
       "}\n",
       "#T_57309_row2_col0 {\n",
       "  background-color: #8eb3d5;\n",
       "  color: #000000;\n",
       "}\n",
       "#T_57309_row2_col1 {\n",
       "  background-color: #89b1d4;\n",
       "  color: #000000;\n",
       "}\n",
       "#T_57309_row3_col0 {\n",
       "  background-color: #a2bcda;\n",
       "  color: #000000;\n",
       "}\n",
       "#T_57309_row3_col1 {\n",
       "  background-color: #9ebad9;\n",
       "  color: #000000;\n",
       "}\n",
       "#T_57309_row4_col0, #T_57309_row4_col1 {\n",
       "  background-color: #f7f0f7;\n",
       "  color: #000000;\n",
       "}\n",
       "#T_57309_row5_col0, #T_57309_row5_col1 {\n",
       "  background-color: #fff7fb;\n",
       "  color: #000000;\n",
       "}\n",
       "</style>\n",
       "<table id=\"T_57309\">\n",
       "  <thead>\n",
       "    <tr>\n",
       "      <th class=\"blank level0\" >&nbsp;</th>\n",
       "      <th id=\"T_57309_level0_col0\" class=\"col_heading level0 col0\" >GDP-R^2</th>\n",
       "      <th id=\"T_57309_level0_col1\" class=\"col_heading level0 col1\" >GDP</th>\n",
       "    </tr>\n",
       "  </thead>\n",
       "  <tbody>\n",
       "    <tr>\n",
       "      <th id=\"T_57309_level0_row0\" class=\"row_heading level0 row0\" >GDP</th>\n",
       "      <td id=\"T_57309_row0_col0\" class=\"data row0 col0\" >1.000000</td>\n",
       "      <td id=\"T_57309_row0_col1\" class=\"data row0 col1\" >1.000000</td>\n",
       "    </tr>\n",
       "    <tr>\n",
       "      <th id=\"T_57309_level0_row1\" class=\"row_heading level0 row1\" >GDP^2</th>\n",
       "      <td id=\"T_57309_row1_col0\" class=\"data row1 col0\" >0.933460</td>\n",
       "      <td id=\"T_57309_row1_col1\" class=\"data row1 col1\" >0.966157</td>\n",
       "    </tr>\n",
       "    <tr>\n",
       "      <th id=\"T_57309_level0_row2\" class=\"row_heading level0 row2\" >GDP log</th>\n",
       "      <td id=\"T_57309_row2_col0\" class=\"data row2 col0\" >0.900443</td>\n",
       "      <td id=\"T_57309_row2_col1\" class=\"data row2 col1\" >0.948917</td>\n",
       "    </tr>\n",
       "    <tr>\n",
       "      <th id=\"T_57309_level0_row3\" class=\"row_heading level0 row3\" >Exports-G&S</th>\n",
       "      <td id=\"T_57309_row3_col0\" class=\"data row3 col0\" >0.891789</td>\n",
       "      <td id=\"T_57309_row3_col1\" class=\"data row3 col1\" >0.944346</td>\n",
       "    </tr>\n",
       "    <tr>\n",
       "      <th id=\"T_57309_level0_row4\" class=\"row_heading level0 row4\" >Exports-G&S^2</th>\n",
       "      <td id=\"T_57309_row4_col0\" class=\"data row4 col0\" >0.833607</td>\n",
       "      <td id=\"T_57309_row4_col1\" class=\"data row4 col1\" >0.913021</td>\n",
       "    </tr>\n",
       "    <tr>\n",
       "      <th id=\"T_57309_level0_row5\" class=\"row_heading level0 row5\" >GDP^3</th>\n",
       "      <td id=\"T_57309_row5_col0\" class=\"data row5 col0\" >0.823808</td>\n",
       "      <td id=\"T_57309_row5_col1\" class=\"data row5 col1\" >0.907638</td>\n",
       "    </tr>\n",
       "  </tbody>\n",
       "</table>\n"
      ],
      "text/plain": [
       "<pandas.io.formats.style.Styler at 0x29311e67a90>"
      ]
     },
     "metadata": {},
     "output_type": "display_data"
    },
    {
     "name": "stdout",
     "output_type": "stream",
     "text": [
      "ISR-Renewable electricity\n",
      "Statistical=0.814, p=0.000\n",
      "It does NOT seem normal( Denies H0 )\n",
      "ISR-Employment-agriculture\n",
      "Statistical=0.830, p=0.000\n",
      "It does NOT seem normal( Denies H0 )\n",
      "ISR-Employment-industry\n",
      "Statistical=0.892, p=0.004\n",
      "It does NOT seem normal( Denies H0 )\n",
      "ISR-Employment-services\n",
      "Statistical=0.850, p=0.000\n",
      "It does NOT seem normal( Denies H0 )\n",
      "ISR-Exports-G&S\n",
      "Statistical=0.861, p=0.001\n",
      "It does NOT seem normal( Denies H0 )\n",
      "ISR-Fertility rate\n",
      "Statistical=0.890, p=0.003\n",
      "It does NOT seem normal( Denies H0 )\n",
      "ISR-Foreign investment\n",
      "Statistical=0.913, p=0.014\n",
      "It does NOT seem normal( Denies H0 )\n",
      "ISR-GDP\n",
      "Statistical=0.962, p=0.307\n",
      "Data is NORMAL ( H0 not denied )\n",
      "ISR-Education GExp\n",
      "Statistical=0.855, p=0.001\n",
      "It does NOT seem normal( Denies H0 )\n",
      "ISR-Workers high education\n",
      "Statistical=0.845, p=0.000\n",
      "It does NOT seem normal( Denies H0 )\n",
      "ISR-Literacy rate\n",
      "Statistical=nan, p=1.000\n",
      "Data is NORMAL ( H0 not denied )\n",
      "ISR-Net migration\n",
      "Statistical=0.656, p=0.000\n",
      "It does NOT seem normal( Denies H0 )\n",
      "ISR-Mortality-infants\n",
      "Statistical=0.915, p=0.015\n",
      "It does NOT seem normal( Denies H0 )\n",
      "ISR-Health services use\n",
      "Statistical=nan, p=1.000\n",
      "Data is NORMAL ( H0 not denied )\n",
      "ISR-R&D GExp\n",
      "Statistical=0.909, p=0.010\n",
      "It does NOT seem normal( Denies H0 )\n",
      "ISR-Ninis\n",
      "Statistical=nan, p=1.000\n",
      "Data is NORMAL ( H0 not denied )\n",
      "ISR-Suicide\n",
      "Statistical=0.898, p=0.005\n",
      "It does NOT seem normal( Denies H0 )\n",
      "ISR-International taxes\n",
      "Statistical=0.537, p=0.000\n",
      "It does NOT seem normal( Denies H0 )\n",
      "ISR-Alcohol per capita\n",
      "Statistical=0.818, p=0.000\n",
      "It does NOT seem normal( Denies H0 )\n",
      "ISR\n"
     ]
    },
    {
     "data": {
      "text/html": [
       "<style type=\"text/css\">\n",
       "#T_8f2c0_row0_col0, #T_8f2c0_row0_col1, #T_8f2c0_row1_col1 {\n",
       "  background-color: #023858;\n",
       "  color: #f1f1f1;\n",
       "}\n",
       "#T_8f2c0_row1_col0 {\n",
       "  background-color: #03466e;\n",
       "  color: #f1f1f1;\n",
       "}\n",
       "#T_8f2c0_row2_col0 {\n",
       "  background-color: #045b8f;\n",
       "  color: #f1f1f1;\n",
       "}\n",
       "#T_8f2c0_row2_col1, #T_8f2c0_row4_col1 {\n",
       "  background-color: #023a5b;\n",
       "  color: #f1f1f1;\n",
       "}\n",
       "#T_8f2c0_row3_col0 {\n",
       "  background-color: #04639b;\n",
       "  color: #f1f1f1;\n",
       "}\n",
       "#T_8f2c0_row3_col1, #T_8f2c0_row5_col1, #T_8f2c0_row6_col1, #T_8f2c0_row29_col0 {\n",
       "  background-color: #fff7fb;\n",
       "  color: #000000;\n",
       "}\n",
       "#T_8f2c0_row4_col0 {\n",
       "  background-color: #04649e;\n",
       "  color: #f1f1f1;\n",
       "}\n",
       "#T_8f2c0_row5_col0 {\n",
       "  background-color: #056aa6;\n",
       "  color: #f1f1f1;\n",
       "}\n",
       "#T_8f2c0_row6_col0 {\n",
       "  background-color: #056fae;\n",
       "  color: #f1f1f1;\n",
       "}\n",
       "#T_8f2c0_row7_col0 {\n",
       "  background-color: #1b7eb7;\n",
       "  color: #f1f1f1;\n",
       "}\n",
       "#T_8f2c0_row7_col1, #T_8f2c0_row8_col1 {\n",
       "  background-color: #023c5f;\n",
       "  color: #f1f1f1;\n",
       "}\n",
       "#T_8f2c0_row8_col0 {\n",
       "  background-color: #2182b9;\n",
       "  color: #f1f1f1;\n",
       "}\n",
       "#T_8f2c0_row9_col0 {\n",
       "  background-color: #2d8abd;\n",
       "  color: #f1f1f1;\n",
       "}\n",
       "#T_8f2c0_row9_col1 {\n",
       "  background-color: #023d60;\n",
       "  color: #f1f1f1;\n",
       "}\n",
       "#T_8f2c0_row10_col0, #T_8f2c0_row11_col0 {\n",
       "  background-color: #589ec8;\n",
       "  color: #f1f1f1;\n",
       "}\n",
       "#T_8f2c0_row10_col1, #T_8f2c0_row11_col1 {\n",
       "  background-color: #023e62;\n",
       "  color: #f1f1f1;\n",
       "}\n",
       "#T_8f2c0_row12_col0 {\n",
       "  background-color: #60a1ca;\n",
       "  color: #f1f1f1;\n",
       "}\n",
       "#T_8f2c0_row12_col1 {\n",
       "  background-color: #023f64;\n",
       "  color: #f1f1f1;\n",
       "}\n",
       "#T_8f2c0_row13_col0 {\n",
       "  background-color: #7dacd1;\n",
       "  color: #f1f1f1;\n",
       "}\n",
       "#T_8f2c0_row13_col1, #T_8f2c0_row16_col1 {\n",
       "  background-color: #034165;\n",
       "  color: #f1f1f1;\n",
       "}\n",
       "#T_8f2c0_row14_col0 {\n",
       "  background-color: #7eadd1;\n",
       "  color: #f1f1f1;\n",
       "}\n",
       "#T_8f2c0_row14_col1, #T_8f2c0_row15_col1 {\n",
       "  background-color: #fcf4fa;\n",
       "  color: #000000;\n",
       "}\n",
       "#T_8f2c0_row15_col0 {\n",
       "  background-color: #83afd3;\n",
       "  color: #f1f1f1;\n",
       "}\n",
       "#T_8f2c0_row16_col0 {\n",
       "  background-color: #8cb3d5;\n",
       "  color: #000000;\n",
       "}\n",
       "#T_8f2c0_row17_col0, #T_8f2c0_row18_col0 {\n",
       "  background-color: #a7bddb;\n",
       "  color: #000000;\n",
       "}\n",
       "#T_8f2c0_row17_col1, #T_8f2c0_row18_col1 {\n",
       "  background-color: #034267;\n",
       "  color: #f1f1f1;\n",
       "}\n",
       "#T_8f2c0_row19_col0 {\n",
       "  background-color: #a8bedc;\n",
       "  color: #000000;\n",
       "}\n",
       "#T_8f2c0_row19_col1 {\n",
       "  background-color: #fbf3f9;\n",
       "  color: #000000;\n",
       "}\n",
       "#T_8f2c0_row20_col0 {\n",
       "  background-color: #b0c2de;\n",
       "  color: #000000;\n",
       "}\n",
       "#T_8f2c0_row20_col1, #T_8f2c0_row21_col1 {\n",
       "  background-color: #034369;\n",
       "  color: #f1f1f1;\n",
       "}\n",
       "#T_8f2c0_row21_col0 {\n",
       "  background-color: #bdc8e1;\n",
       "  color: #000000;\n",
       "}\n",
       "#T_8f2c0_row22_col0 {\n",
       "  background-color: #c8cde4;\n",
       "  color: #000000;\n",
       "}\n",
       "#T_8f2c0_row22_col1, #T_8f2c0_row23_col1, #T_8f2c0_row24_col1 {\n",
       "  background-color: #03446a;\n",
       "  color: #f1f1f1;\n",
       "}\n",
       "#T_8f2c0_row23_col0 {\n",
       "  background-color: #ced0e6;\n",
       "  color: #000000;\n",
       "}\n",
       "#T_8f2c0_row24_col0 {\n",
       "  background-color: #d2d2e7;\n",
       "  color: #000000;\n",
       "}\n",
       "#T_8f2c0_row25_col0 {\n",
       "  background-color: #dbdaeb;\n",
       "  color: #000000;\n",
       "}\n",
       "#T_8f2c0_row25_col1 {\n",
       "  background-color: #03456c;\n",
       "  color: #f1f1f1;\n",
       "}\n",
       "#T_8f2c0_row26_col0 {\n",
       "  background-color: #f2ecf5;\n",
       "  color: #000000;\n",
       "}\n",
       "#T_8f2c0_row26_col1 {\n",
       "  background-color: #03476f;\n",
       "  color: #f1f1f1;\n",
       "}\n",
       "#T_8f2c0_row27_col0 {\n",
       "  background-color: #f7f0f7;\n",
       "  color: #000000;\n",
       "}\n",
       "#T_8f2c0_row27_col1, #T_8f2c0_row28_col1 {\n",
       "  background-color: #034871;\n",
       "  color: #f1f1f1;\n",
       "}\n",
       "#T_8f2c0_row28_col0 {\n",
       "  background-color: #faf2f8;\n",
       "  color: #000000;\n",
       "}\n",
       "#T_8f2c0_row29_col1 {\n",
       "  background-color: #034973;\n",
       "  color: #f1f1f1;\n",
       "}\n",
       "</style>\n",
       "<table id=\"T_8f2c0\">\n",
       "  <thead>\n",
       "    <tr>\n",
       "      <th class=\"blank level0\" >&nbsp;</th>\n",
       "      <th id=\"T_8f2c0_level0_col0\" class=\"col_heading level0 col0\" >GDP-R^2</th>\n",
       "      <th id=\"T_8f2c0_level0_col1\" class=\"col_heading level0 col1\" >GDP</th>\n",
       "    </tr>\n",
       "  </thead>\n",
       "  <tbody>\n",
       "    <tr>\n",
       "      <th id=\"T_8f2c0_level0_row0\" class=\"row_heading level0 row0\" >GDP</th>\n",
       "      <td id=\"T_8f2c0_row0_col0\" class=\"data row0 col0\" >1.000000</td>\n",
       "      <td id=\"T_8f2c0_row0_col1\" class=\"data row0 col1\" >1.000000</td>\n",
       "    </tr>\n",
       "    <tr>\n",
       "      <th id=\"T_8f2c0_level0_row1\" class=\"row_heading level0 row1\" >Exports-G&S^2</th>\n",
       "      <td id=\"T_8f2c0_row1_col0\" class=\"data row1 col0\" >0.987478</td>\n",
       "      <td id=\"T_8f2c0_row1_col1\" class=\"data row1 col1\" >0.993719</td>\n",
       "    </tr>\n",
       "    <tr>\n",
       "      <th id=\"T_8f2c0_level0_row2\" class=\"row_heading level0 row2\" >Exports-G&S^3</th>\n",
       "      <td id=\"T_8f2c0_row2_col0\" class=\"data row2 col0\" >0.968456</td>\n",
       "      <td id=\"T_8f2c0_row2_col1\" class=\"data row2 col1\" >0.984101</td>\n",
       "    </tr>\n",
       "    <tr>\n",
       "      <th id=\"T_8f2c0_level0_row3\" class=\"row_heading level0 row3\" >Employment-industry log</th>\n",
       "      <td id=\"T_8f2c0_row3_col0\" class=\"data row3 col0\" >0.958139</td>\n",
       "      <td id=\"T_8f2c0_row3_col1\" class=\"data row3 col1\" >-0.978846</td>\n",
       "    </tr>\n",
       "    <tr>\n",
       "      <th id=\"T_8f2c0_level0_row4\" class=\"row_heading level0 row4\" >Exports-Commercial services</th>\n",
       "      <td id=\"T_8f2c0_row4_col0\" class=\"data row4 col0\" >0.956521</td>\n",
       "      <td id=\"T_8f2c0_row4_col1\" class=\"data row4 col1\" >0.978019</td>\n",
       "    </tr>\n",
       "    <tr>\n",
       "      <th id=\"T_8f2c0_level0_row5\" class=\"row_heading level0 row5\" >Employment-agriculture log</th>\n",
       "      <td id=\"T_8f2c0_row5_col0\" class=\"data row5 col0\" >0.949568</td>\n",
       "      <td id=\"T_8f2c0_row5_col1\" class=\"data row5 col1\" >-0.974458</td>\n",
       "    </tr>\n",
       "    <tr>\n",
       "      <th id=\"T_8f2c0_level0_row6\" class=\"row_heading level0 row6\" >Mortality-infants log</th>\n",
       "      <td id=\"T_8f2c0_row6_col0\" class=\"data row6 col0\" >0.943332</td>\n",
       "      <td id=\"T_8f2c0_row6_col1\" class=\"data row6 col1\" >-0.971253</td>\n",
       "    </tr>\n",
       "    <tr>\n",
       "      <th id=\"T_8f2c0_level0_row7\" class=\"row_heading level0 row7\" >GDP^2</th>\n",
       "      <td id=\"T_8f2c0_row7_col0\" class=\"data row7 col0\" >0.928549</td>\n",
       "      <td id=\"T_8f2c0_row7_col1\" class=\"data row7 col1\" >0.963612</td>\n",
       "    </tr>\n",
       "    <tr>\n",
       "      <th id=\"T_8f2c0_level0_row8\" class=\"row_heading level0 row8\" >Exports-G&S</th>\n",
       "      <td id=\"T_8f2c0_row8_col0\" class=\"data row8 col0\" >0.924868</td>\n",
       "      <td id=\"T_8f2c0_row8_col1\" class=\"data row8 col1\" >0.961701</td>\n",
       "    </tr>\n",
       "    <tr>\n",
       "      <th id=\"T_8f2c0_level0_row9\" class=\"row_heading level0 row9\" >Employment-services^3</th>\n",
       "      <td id=\"T_8f2c0_row9_col0\" class=\"data row9 col0\" >0.917419</td>\n",
       "      <td id=\"T_8f2c0_row9_col1\" class=\"data row9 col1\" >0.957820</td>\n",
       "    </tr>\n",
       "    <tr>\n",
       "      <th id=\"T_8f2c0_level0_row10\" class=\"row_heading level0 row10\" >Year</th>\n",
       "      <td id=\"T_8f2c0_row10_col0\" class=\"data row10 col0\" >0.896385</td>\n",
       "      <td id=\"T_8f2c0_row10_col1\" class=\"data row10 col1\" >0.946776</td>\n",
       "    </tr>\n",
       "    <tr>\n",
       "      <th id=\"T_8f2c0_level0_row11\" class=\"row_heading level0 row11\" >Unnamed: 0</th>\n",
       "      <td id=\"T_8f2c0_row11_col0\" class=\"data row11 col0\" >0.896385</td>\n",
       "      <td id=\"T_8f2c0_row11_col1\" class=\"data row11 col1\" >0.946776</td>\n",
       "    </tr>\n",
       "    <tr>\n",
       "      <th id=\"T_8f2c0_level0_row12\" class=\"row_heading level0 row12\" >International taxes^2</th>\n",
       "      <td id=\"T_8f2c0_row12_col0\" class=\"data row12 col0\" >0.892769</td>\n",
       "      <td id=\"T_8f2c0_row12_col1\" class=\"data row12 col1\" >0.944865</td>\n",
       "    </tr>\n",
       "    <tr>\n",
       "      <th id=\"T_8f2c0_level0_row13\" class=\"row_heading level0 row13\" >GDP log</th>\n",
       "      <td id=\"T_8f2c0_row13_col0\" class=\"data row13 col0\" >0.878257</td>\n",
       "      <td id=\"T_8f2c0_row13_col1\" class=\"data row13 col1\" >0.937153</td>\n",
       "    </tr>\n",
       "    <tr>\n",
       "      <th id=\"T_8f2c0_level0_row14\" class=\"row_heading level0 row14\" >Health services use^2</th>\n",
       "      <td id=\"T_8f2c0_row14_col0\" class=\"data row14 col0\" >0.877669</td>\n",
       "      <td id=\"T_8f2c0_row14_col1\" class=\"data row14 col1\" >-0.936840</td>\n",
       "    </tr>\n",
       "    <tr>\n",
       "      <th id=\"T_8f2c0_level0_row15\" class=\"row_heading level0 row15\" >Health services use^3</th>\n",
       "      <td id=\"T_8f2c0_row15_col0\" class=\"data row15 col0\" >0.874785</td>\n",
       "      <td id=\"T_8f2c0_row15_col1\" class=\"data row15 col1\" >-0.935299</td>\n",
       "    </tr>\n",
       "    <tr>\n",
       "      <th id=\"T_8f2c0_level0_row16\" class=\"row_heading level0 row16\" >International taxes^3</th>\n",
       "      <td id=\"T_8f2c0_row16_col0\" class=\"data row16 col0\" >0.869610</td>\n",
       "      <td id=\"T_8f2c0_row16_col1\" class=\"data row16 col1\" >0.932529</td>\n",
       "    </tr>\n",
       "    <tr>\n",
       "      <th id=\"T_8f2c0_level0_row17\" class=\"row_heading level0 row17\" >Renewable electricity</th>\n",
       "      <td id=\"T_8f2c0_row17_col0\" class=\"data row17 col0\" >0.853866</td>\n",
       "      <td id=\"T_8f2c0_row17_col1\" class=\"data row17 col1\" >0.924049</td>\n",
       "    </tr>\n",
       "    <tr>\n",
       "      <th id=\"T_8f2c0_level0_row18\" class=\"row_heading level0 row18\" >Employment-services^2</th>\n",
       "      <td id=\"T_8f2c0_row18_col0\" class=\"data row18 col0\" >0.853423</td>\n",
       "      <td id=\"T_8f2c0_row18_col1\" class=\"data row18 col1\" >0.923809</td>\n",
       "    </tr>\n",
       "    <tr>\n",
       "      <th id=\"T_8f2c0_level0_row19\" class=\"row_heading level0 row19\" >Health services use</th>\n",
       "      <td id=\"T_8f2c0_row19_col0\" class=\"data row19 col0\" >0.852926</td>\n",
       "      <td id=\"T_8f2c0_row19_col1\" class=\"data row19 col1\" >-0.923540</td>\n",
       "    </tr>\n",
       "    <tr>\n",
       "      <th id=\"T_8f2c0_level0_row20\" class=\"row_heading level0 row20\" >International taxes</th>\n",
       "      <td id=\"T_8f2c0_row20_col0\" class=\"data row20 col0\" >0.847272</td>\n",
       "      <td id=\"T_8f2c0_row20_col1\" class=\"data row20 col1\" >0.920474</td>\n",
       "    </tr>\n",
       "    <tr>\n",
       "      <th id=\"T_8f2c0_level0_row21\" class=\"row_heading level0 row21\" >Renewable electricity^2</th>\n",
       "      <td id=\"T_8f2c0_row21_col0\" class=\"data row21 col0\" >0.838341</td>\n",
       "      <td id=\"T_8f2c0_row21_col1\" class=\"data row21 col1\" >0.915610</td>\n",
       "    </tr>\n",
       "    <tr>\n",
       "      <th id=\"T_8f2c0_level0_row22\" class=\"row_heading level0 row22\" >Renewable electricity^3</th>\n",
       "      <td id=\"T_8f2c0_row22_col0\" class=\"data row22 col0\" >0.831232</td>\n",
       "      <td id=\"T_8f2c0_row22_col1\" class=\"data row22 col1\" >0.911719</td>\n",
       "    </tr>\n",
       "    <tr>\n",
       "      <th id=\"T_8f2c0_level0_row23\" class=\"row_heading level0 row23\" >Alcohol per capita^2</th>\n",
       "      <td id=\"T_8f2c0_row23_col0\" class=\"data row23 col0\" >0.826568</td>\n",
       "      <td id=\"T_8f2c0_row23_col1\" class=\"data row23 col1\" >0.909158</td>\n",
       "    </tr>\n",
       "    <tr>\n",
       "      <th id=\"T_8f2c0_level0_row24\" class=\"row_heading level0 row24\" >GDP^3</th>\n",
       "      <td id=\"T_8f2c0_row24_col0\" class=\"data row24 col0\" >0.823548</td>\n",
       "      <td id=\"T_8f2c0_row24_col1\" class=\"data row24 col1\" >0.907495</td>\n",
       "    </tr>\n",
       "    <tr>\n",
       "      <th id=\"T_8f2c0_level0_row25\" class=\"row_heading level0 row25\" >Alcohol per capita</th>\n",
       "      <td id=\"T_8f2c0_row25_col0\" class=\"data row25 col0\" >0.813934</td>\n",
       "      <td id=\"T_8f2c0_row25_col1\" class=\"data row25 col1\" >0.902183</td>\n",
       "    </tr>\n",
       "    <tr>\n",
       "      <th id=\"T_8f2c0_level0_row26\" class=\"row_heading level0 row26\" >Alcohol per capita^3</th>\n",
       "      <td id=\"T_8f2c0_row26_col0\" class=\"data row26 col0\" >0.786493</td>\n",
       "      <td id=\"T_8f2c0_row26_col1\" class=\"data row26 col1\" >0.886845</td>\n",
       "    </tr>\n",
       "    <tr>\n",
       "      <th id=\"T_8f2c0_level0_row27\" class=\"row_heading level0 row27\" >Education GExp^2</th>\n",
       "      <td id=\"T_8f2c0_row27_col0\" class=\"data row27 col0\" >0.779223</td>\n",
       "      <td id=\"T_8f2c0_row27_col1\" class=\"data row27 col1\" >0.882736</td>\n",
       "    </tr>\n",
       "    <tr>\n",
       "      <th id=\"T_8f2c0_level0_row28\" class=\"row_heading level0 row28\" >Exports-Commercial services^2</th>\n",
       "      <td id=\"T_8f2c0_row28_col0\" class=\"data row28 col0\" >0.775392</td>\n",
       "      <td id=\"T_8f2c0_row28_col1\" class=\"data row28 col1\" >0.880563</td>\n",
       "    </tr>\n",
       "    <tr>\n",
       "      <th id=\"T_8f2c0_level0_row29\" class=\"row_heading level0 row29\" >Education GExp^3</th>\n",
       "      <td id=\"T_8f2c0_row29_col0\" class=\"data row29 col0\" >0.766745</td>\n",
       "      <td id=\"T_8f2c0_row29_col1\" class=\"data row29 col1\" >0.875640</td>\n",
       "    </tr>\n",
       "  </tbody>\n",
       "</table>\n"
      ],
      "text/plain": [
       "<pandas.io.formats.style.Styler at 0x29311e66d40>"
      ]
     },
     "metadata": {},
     "output_type": "display_data"
    },
    {
     "name": "stdout",
     "output_type": "stream",
     "text": [
      "TUR-Renewable electricity\n",
      "Statistical=0.866, p=0.001\n",
      "It does NOT seem normal( Denies H0 )\n",
      "TUR-Employment-agriculture\n",
      "Statistical=0.754, p=0.000\n",
      "It does NOT seem normal( Denies H0 )\n",
      "TUR-Employment-industry\n",
      "Statistical=0.916, p=0.016\n",
      "It does NOT seem normal( Denies H0 )\n",
      "TUR-Employment-services\n",
      "Statistical=0.895, p=0.005\n",
      "It does NOT seem normal( Denies H0 )\n",
      "TUR-Exports-G&S\n",
      "Statistical=0.941, p=0.082\n",
      "Data is NORMAL ( H0 not denied )\n",
      "TUR-Fertility rate\n",
      "Statistical=0.908, p=0.010\n",
      "It does NOT seem normal( Denies H0 )\n",
      "TUR-Foreign investment\n",
      "Statistical=0.877, p=0.002\n",
      "It does NOT seem normal( Denies H0 )\n",
      "TUR-GDP\n",
      "Statistical=0.878, p=0.002\n",
      "It does NOT seem normal( Denies H0 )\n",
      "TUR-Education GExp\n",
      "Statistical=0.859, p=0.001\n",
      "It does NOT seem normal( Denies H0 )\n",
      "TUR-Workers high education\n",
      "Statistical=0.861, p=0.001\n",
      "It does NOT seem normal( Denies H0 )\n",
      "TUR-Literacy rate\n",
      "Statistical=nan, p=1.000\n",
      "Data is NORMAL ( H0 not denied )\n",
      "TUR-Net migration\n",
      "Statistical=0.845, p=0.000\n",
      "It does NOT seem normal( Denies H0 )\n",
      "TUR-Mortality-infants\n",
      "Statistical=0.755, p=0.000\n",
      "It does NOT seem normal( Denies H0 )\n",
      "TUR-Health services use\n",
      "Statistical=0.906, p=0.009\n",
      "It does NOT seem normal( Denies H0 )\n",
      "TUR-R&D GExp\n",
      "Statistical=0.904, p=0.008\n",
      "It does NOT seem normal( Denies H0 )\n",
      "TUR-Ninis\n",
      "Statistical=nan, p=1.000\n",
      "Data is NORMAL ( H0 not denied )\n",
      "TUR-Suicide\n",
      "Statistical=0.735, p=0.000\n",
      "It does NOT seem normal( Denies H0 )\n",
      "TUR-International taxes\n",
      "Statistical=0.806, p=0.000\n",
      "It does NOT seem normal( Denies H0 )\n",
      "TUR-Alcohol per capita\n",
      "Statistical=0.844, p=0.000\n",
      "It does NOT seem normal( Denies H0 )\n",
      "TUR\n"
     ]
    },
    {
     "data": {
      "text/html": [
       "<style type=\"text/css\">\n",
       "#T_36268_row0_col0, #T_36268_row0_col1 {\n",
       "  background-color: #023858;\n",
       "  color: #f1f1f1;\n",
       "}\n",
       "#T_36268_row1_col0 {\n",
       "  background-color: #045e93;\n",
       "  color: #f1f1f1;\n",
       "}\n",
       "#T_36268_row1_col1, #T_36268_row3_col1, #T_36268_row31_col0, #T_36268_row32_col0 {\n",
       "  background-color: #fff7fb;\n",
       "  color: #000000;\n",
       "}\n",
       "#T_36268_row2_col0 {\n",
       "  background-color: #04649e;\n",
       "  color: #f1f1f1;\n",
       "}\n",
       "#T_36268_row2_col1 {\n",
       "  background-color: #023a5b;\n",
       "  color: #f1f1f1;\n",
       "}\n",
       "#T_36268_row3_col0 {\n",
       "  background-color: #0567a2;\n",
       "  color: #f1f1f1;\n",
       "}\n",
       "#T_36268_row4_col0 {\n",
       "  background-color: #0569a4;\n",
       "  color: #f1f1f1;\n",
       "}\n",
       "#T_36268_row4_col1 {\n",
       "  background-color: #023b5d;\n",
       "  color: #f1f1f1;\n",
       "}\n",
       "#T_36268_row5_col0 {\n",
       "  background-color: #4295c3;\n",
       "  color: #f1f1f1;\n",
       "}\n",
       "#T_36268_row5_col1 {\n",
       "  background-color: #023e62;\n",
       "  color: #f1f1f1;\n",
       "}\n",
       "#T_36268_row6_col0 {\n",
       "  background-color: #5ea0ca;\n",
       "  color: #f1f1f1;\n",
       "}\n",
       "#T_36268_row6_col1, #T_36268_row8_col1 {\n",
       "  background-color: #023f64;\n",
       "  color: #f1f1f1;\n",
       "}\n",
       "#T_36268_row7_col0, #T_36268_row8_col0 {\n",
       "  background-color: #6da6cd;\n",
       "  color: #f1f1f1;\n",
       "}\n",
       "#T_36268_row7_col1 {\n",
       "  background-color: #fcf4fa;\n",
       "  color: #000000;\n",
       "}\n",
       "#T_36268_row9_col0 {\n",
       "  background-color: #78abd0;\n",
       "  color: #f1f1f1;\n",
       "}\n",
       "#T_36268_row9_col1, #T_36268_row10_col1 {\n",
       "  background-color: #034165;\n",
       "  color: #f1f1f1;\n",
       "}\n",
       "#T_36268_row10_col0 {\n",
       "  background-color: #89b1d4;\n",
       "  color: #000000;\n",
       "}\n",
       "#T_36268_row11_col0 {\n",
       "  background-color: #8cb3d5;\n",
       "  color: #000000;\n",
       "}\n",
       "#T_36268_row11_col1, #T_36268_row30_col0 {\n",
       "  background-color: #fbf4f9;\n",
       "  color: #000000;\n",
       "}\n",
       "#T_36268_row12_col0 {\n",
       "  background-color: #97b7d7;\n",
       "  color: #000000;\n",
       "}\n",
       "#T_36268_row12_col1, #T_36268_row13_col1 {\n",
       "  background-color: #034267;\n",
       "  color: #f1f1f1;\n",
       "}\n",
       "#T_36268_row13_col0 {\n",
       "  background-color: #9ab8d8;\n",
       "  color: #000000;\n",
       "}\n",
       "#T_36268_row14_col0 {\n",
       "  background-color: #b3c3de;\n",
       "  color: #000000;\n",
       "}\n",
       "#T_36268_row14_col1 {\n",
       "  background-color: #faf3f9;\n",
       "  color: #000000;\n",
       "}\n",
       "#T_36268_row15_col0 {\n",
       "  background-color: #bdc8e1;\n",
       "  color: #000000;\n",
       "}\n",
       "#T_36268_row15_col1, #T_36268_row16_col1, #T_36268_row17_col1, #T_36268_row18_col1, #T_36268_row19_col1, #T_36268_row22_col1 {\n",
       "  background-color: #03446a;\n",
       "  color: #f1f1f1;\n",
       "}\n",
       "#T_36268_row16_col0 {\n",
       "  background-color: #bfc9e1;\n",
       "  color: #000000;\n",
       "}\n",
       "#T_36268_row17_col0 {\n",
       "  background-color: #c0c9e2;\n",
       "  color: #000000;\n",
       "}\n",
       "#T_36268_row18_col0, #T_36268_row19_col0, #T_36268_row20_col0 {\n",
       "  background-color: #c1cae2;\n",
       "  color: #000000;\n",
       "}\n",
       "#T_36268_row20_col1, #T_36268_row21_col1, #T_36268_row23_col1 {\n",
       "  background-color: #faf2f8;\n",
       "  color: #000000;\n",
       "}\n",
       "#T_36268_row21_col0 {\n",
       "  background-color: #c5cce3;\n",
       "  color: #000000;\n",
       "}\n",
       "#T_36268_row22_col0 {\n",
       "  background-color: #c8cde4;\n",
       "  color: #000000;\n",
       "}\n",
       "#T_36268_row23_col0 {\n",
       "  background-color: #cacee5;\n",
       "  color: #000000;\n",
       "}\n",
       "#T_36268_row24_col0 {\n",
       "  background-color: #d3d4e7;\n",
       "  color: #000000;\n",
       "}\n",
       "#T_36268_row24_col1 {\n",
       "  background-color: #f9f2f8;\n",
       "  color: #000000;\n",
       "}\n",
       "#T_36268_row25_col0 {\n",
       "  background-color: #e1dfed;\n",
       "  color: #000000;\n",
       "}\n",
       "#T_36268_row25_col1 {\n",
       "  background-color: #03466e;\n",
       "  color: #f1f1f1;\n",
       "}\n",
       "#T_36268_row26_col0 {\n",
       "  background-color: #e5e1ef;\n",
       "  color: #000000;\n",
       "}\n",
       "#T_36268_row26_col1 {\n",
       "  background-color: #f8f1f8;\n",
       "  color: #000000;\n",
       "}\n",
       "#T_36268_row27_col0 {\n",
       "  background-color: #e6e2ef;\n",
       "  color: #000000;\n",
       "}\n",
       "#T_36268_row27_col1 {\n",
       "  background-color: #03476f;\n",
       "  color: #f1f1f1;\n",
       "}\n",
       "#T_36268_row28_col0 {\n",
       "  background-color: #f5eef6;\n",
       "  color: #000000;\n",
       "}\n",
       "#T_36268_row28_col1 {\n",
       "  background-color: #034871;\n",
       "  color: #f1f1f1;\n",
       "}\n",
       "#T_36268_row29_col0 {\n",
       "  background-color: #f5eff6;\n",
       "  color: #000000;\n",
       "}\n",
       "#T_36268_row29_col1, #T_36268_row32_col1 {\n",
       "  background-color: #f7f0f7;\n",
       "  color: #000000;\n",
       "}\n",
       "#T_36268_row30_col1, #T_36268_row31_col1 {\n",
       "  background-color: #034973;\n",
       "  color: #f1f1f1;\n",
       "}\n",
       "</style>\n",
       "<table id=\"T_36268\">\n",
       "  <thead>\n",
       "    <tr>\n",
       "      <th class=\"blank level0\" >&nbsp;</th>\n",
       "      <th id=\"T_36268_level0_col0\" class=\"col_heading level0 col0\" >GDP-R^2</th>\n",
       "      <th id=\"T_36268_level0_col1\" class=\"col_heading level0 col1\" >GDP</th>\n",
       "    </tr>\n",
       "  </thead>\n",
       "  <tbody>\n",
       "    <tr>\n",
       "      <th id=\"T_36268_level0_row0\" class=\"row_heading level0 row0\" >GDP</th>\n",
       "      <td id=\"T_36268_row0_col0\" class=\"data row0 col0\" >1.000000</td>\n",
       "      <td id=\"T_36268_row0_col1\" class=\"data row0 col1\" >1.000000</td>\n",
       "    </tr>\n",
       "    <tr>\n",
       "      <th id=\"T_36268_level0_row1\" class=\"row_heading level0 row1\" >Suicide log</th>\n",
       "      <td id=\"T_36268_row1_col0\" class=\"data row1 col0\" >0.964682</td>\n",
       "      <td id=\"T_36268_row1_col1\" class=\"data row1 col1\" >-0.982182</td>\n",
       "    </tr>\n",
       "    <tr>\n",
       "      <th id=\"T_36268_level0_row2\" class=\"row_heading level0 row2\" >GDP^2</th>\n",
       "      <td id=\"T_36268_row2_col0\" class=\"data row2 col0\" >0.955196</td>\n",
       "      <td id=\"T_36268_row2_col1\" class=\"data row2 col1\" >0.977341</td>\n",
       "    </tr>\n",
       "    <tr>\n",
       "      <th id=\"T_36268_level0_row3\" class=\"row_heading level0 row3\" >Suicide</th>\n",
       "      <td id=\"T_36268_row3_col0\" class=\"data row3 col0\" >0.951053</td>\n",
       "      <td id=\"T_36268_row3_col1\" class=\"data row3 col1\" >-0.975220</td>\n",
       "    </tr>\n",
       "    <tr>\n",
       "      <th id=\"T_36268_level0_row4\" class=\"row_heading level0 row4\" >Exports-G&S</th>\n",
       "      <td id=\"T_36268_row4_col0\" class=\"data row4 col0\" >0.949244</td>\n",
       "      <td id=\"T_36268_row4_col1\" class=\"data row4 col1\" >0.974291</td>\n",
       "    </tr>\n",
       "    <tr>\n",
       "      <th id=\"T_36268_level0_row5\" class=\"row_heading level0 row5\" >R&D GExp log</th>\n",
       "      <td id=\"T_36268_row5_col0\" class=\"data row5 col0\" >0.903197</td>\n",
       "      <td id=\"T_36268_row5_col1\" class=\"data row5 col1\" >0.950367</td>\n",
       "    </tr>\n",
       "    <tr>\n",
       "      <th id=\"T_36268_level0_row6\" class=\"row_heading level0 row6\" >Literacy rate</th>\n",
       "      <td id=\"T_36268_row6_col0\" class=\"data row6 col0\" >0.889002</td>\n",
       "      <td id=\"T_36268_row6_col1\" class=\"data row6 col1\" >0.942869</td>\n",
       "    </tr>\n",
       "    <tr>\n",
       "      <th id=\"T_36268_level0_row7\" class=\"row_heading level0 row7\" >Suicide^2</th>\n",
       "      <td id=\"T_36268_row7_col0\" class=\"data row7 col0\" >0.882222</td>\n",
       "      <td id=\"T_36268_row7_col1\" class=\"data row7 col1\" >-0.939267</td>\n",
       "    </tr>\n",
       "    <tr>\n",
       "      <th id=\"T_36268_level0_row8\" class=\"row_heading level0 row8\" >GDP log</th>\n",
       "      <td id=\"T_36268_row8_col0\" class=\"data row8 col0\" >0.882020</td>\n",
       "      <td id=\"T_36268_row8_col1\" class=\"data row8 col1\" >0.939159</td>\n",
       "    </tr>\n",
       "    <tr>\n",
       "      <th id=\"T_36268_level0_row9\" class=\"row_heading level0 row9\" >GDP^3</th>\n",
       "      <td id=\"T_36268_row9_col0\" class=\"data row9 col0\" >0.875692</td>\n",
       "      <td id=\"T_36268_row9_col1\" class=\"data row9 col1\" >0.935784</td>\n",
       "    </tr>\n",
       "    <tr>\n",
       "      <th id=\"T_36268_level0_row10\" class=\"row_heading level0 row10\" >Net migration log</th>\n",
       "      <td id=\"T_36268_row10_col0\" class=\"data row10 col0\" >0.865802</td>\n",
       "      <td id=\"T_36268_row10_col1\" class=\"data row10 col1\" >0.930485</td>\n",
       "    </tr>\n",
       "    <tr>\n",
       "      <th id=\"T_36268_level0_row11\" class=\"row_heading level0 row11\" >Employment-agriculture^2</th>\n",
       "      <td id=\"T_36268_row11_col0\" class=\"data row11 col0\" >0.863501</td>\n",
       "      <td id=\"T_36268_row11_col1\" class=\"data row11 col1\" >-0.929248</td>\n",
       "    </tr>\n",
       "    <tr>\n",
       "      <th id=\"T_36268_level0_row12\" class=\"row_heading level0 row12\" >Exports-Commercial services</th>\n",
       "      <td id=\"T_36268_row12_col0\" class=\"data row12 col0\" >0.857349</td>\n",
       "      <td id=\"T_36268_row12_col1\" class=\"data row12 col1\" >0.925932</td>\n",
       "    </tr>\n",
       "    <tr>\n",
       "      <th id=\"T_36268_level0_row13\" class=\"row_heading level0 row13\" >Exports-G&S^2</th>\n",
       "      <td id=\"T_36268_row13_col0\" class=\"data row13 col0\" >0.855562</td>\n",
       "      <td id=\"T_36268_row13_col1\" class=\"data row13 col1\" >0.924966</td>\n",
       "    </tr>\n",
       "    <tr>\n",
       "      <th id=\"T_36268_level0_row14\" class=\"row_heading level0 row14\" >Fertility rate log</th>\n",
       "      <td id=\"T_36268_row14_col0\" class=\"data row14 col0\" >0.838814</td>\n",
       "      <td id=\"T_36268_row14_col1\" class=\"data row14 col1\" >-0.915868</td>\n",
       "    </tr>\n",
       "    <tr>\n",
       "      <th id=\"T_36268_level0_row15\" class=\"row_heading level0 row15\" >Renewable electricity log</th>\n",
       "      <td id=\"T_36268_row15_col0\" class=\"data row15 col0\" >0.831683</td>\n",
       "      <td id=\"T_36268_row15_col1\" class=\"data row15 col1\" >0.911966</td>\n",
       "    </tr>\n",
       "    <tr>\n",
       "      <th id=\"T_36268_level0_row16\" class=\"row_heading level0 row16\" >R&D GExp</th>\n",
       "      <td id=\"T_36268_row16_col0\" class=\"data row16 col0\" >0.830206</td>\n",
       "      <td id=\"T_36268_row16_col1\" class=\"data row16 col1\" >0.911157</td>\n",
       "    </tr>\n",
       "    <tr>\n",
       "      <th id=\"T_36268_level0_row17\" class=\"row_heading level0 row17\" >Literacy rate^2</th>\n",
       "      <td id=\"T_36268_row17_col0\" class=\"data row17 col0\" >0.829747</td>\n",
       "      <td id=\"T_36268_row17_col1\" class=\"data row17 col1\" >0.910905</td>\n",
       "    </tr>\n",
       "    <tr>\n",
       "      <th id=\"T_36268_level0_row18\" class=\"row_heading level0 row18\" >Unnamed: 0</th>\n",
       "      <td id=\"T_36268_row18_col0\" class=\"data row18 col0\" >0.828534</td>\n",
       "      <td id=\"T_36268_row18_col1\" class=\"data row18 col1\" >0.910238</td>\n",
       "    </tr>\n",
       "    <tr>\n",
       "      <th id=\"T_36268_level0_row19\" class=\"row_heading level0 row19\" >Year</th>\n",
       "      <td id=\"T_36268_row19_col0\" class=\"data row19 col0\" >0.828534</td>\n",
       "      <td id=\"T_36268_row19_col1\" class=\"data row19 col1\" >0.910238</td>\n",
       "    </tr>\n",
       "    <tr>\n",
       "      <th id=\"T_36268_level0_row20\" class=\"row_heading level0 row20\" >Employment-agriculture^3</th>\n",
       "      <td id=\"T_36268_row20_col0\" class=\"data row20 col0\" >0.828470</td>\n",
       "      <td id=\"T_36268_row20_col1\" class=\"data row20 col1\" >-0.910203</td>\n",
       "    </tr>\n",
       "    <tr>\n",
       "      <th id=\"T_36268_level0_row21\" class=\"row_heading level0 row21\" >Suicide^3</th>\n",
       "      <td id=\"T_36268_row21_col0\" class=\"data row21 col0\" >0.825558</td>\n",
       "      <td id=\"T_36268_row21_col1\" class=\"data row21 col1\" >-0.908602</td>\n",
       "    </tr>\n",
       "    <tr>\n",
       "      <th id=\"T_36268_level0_row22\" class=\"row_heading level0 row22\" >Health services use</th>\n",
       "      <td id=\"T_36268_row22_col0\" class=\"data row22 col0\" >0.823570</td>\n",
       "      <td id=\"T_36268_row22_col1\" class=\"data row22 col1\" >0.907508</td>\n",
       "    </tr>\n",
       "    <tr>\n",
       "      <th id=\"T_36268_level0_row23\" class=\"row_heading level0 row23\" >Mortality-infants</th>\n",
       "      <td id=\"T_36268_row23_col0\" class=\"data row23 col0\" >0.822283</td>\n",
       "      <td id=\"T_36268_row23_col1\" class=\"data row23 col1\" >-0.906798</td>\n",
       "    </tr>\n",
       "    <tr>\n",
       "      <th id=\"T_36268_level0_row24\" class=\"row_heading level0 row24\" >Foreign investment^3</th>\n",
       "      <td id=\"T_36268_row24_col0\" class=\"data row24 col0\" >0.814225</td>\n",
       "      <td id=\"T_36268_row24_col1\" class=\"data row24 col1\" >-0.902344</td>\n",
       "    </tr>\n",
       "    <tr>\n",
       "      <th id=\"T_36268_level0_row25\" class=\"row_heading level0 row25\" >Net migration</th>\n",
       "      <td id=\"T_36268_row25_col0\" class=\"data row25 col0\" >0.799724</td>\n",
       "      <td id=\"T_36268_row25_col1\" class=\"data row25 col1\" >0.894273</td>\n",
       "    </tr>\n",
       "    <tr>\n",
       "      <th id=\"T_36268_level0_row26\" class=\"row_heading level0 row26\" >Fertility rate</th>\n",
       "      <td id=\"T_36268_row26_col0\" class=\"data row26 col0\" >0.795318</td>\n",
       "      <td id=\"T_36268_row26_col1\" class=\"data row26 col1\" >-0.891806</td>\n",
       "    </tr>\n",
       "    <tr>\n",
       "      <th id=\"T_36268_level0_row27\" class=\"row_heading level0 row27\" >Renewable electricity</th>\n",
       "      <td id=\"T_36268_row27_col0\" class=\"data row27 col0\" >0.794254</td>\n",
       "      <td id=\"T_36268_row27_col1\" class=\"data row27 col1\" >0.891209</td>\n",
       "    </tr>\n",
       "    <tr>\n",
       "      <th id=\"T_36268_level0_row28\" class=\"row_heading level0 row28\" >Education GExp log</th>\n",
       "      <td id=\"T_36268_row28_col0\" class=\"data row28 col0\" >0.773541</td>\n",
       "      <td id=\"T_36268_row28_col1\" class=\"data row28 col1\" >0.879512</td>\n",
       "    </tr>\n",
       "    <tr>\n",
       "      <th id=\"T_36268_level0_row29\" class=\"row_heading level0 row29\" >Employment-agriculture</th>\n",
       "      <td id=\"T_36268_row29_col0\" class=\"data row29 col0\" >0.773034</td>\n",
       "      <td id=\"T_36268_row29_col1\" class=\"data row29 col1\" >-0.879223</td>\n",
       "    </tr>\n",
       "    <tr>\n",
       "      <th id=\"T_36268_level0_row30\" class=\"row_heading level0 row30\" >Health services use log</th>\n",
       "      <td id=\"T_36268_row30_col0\" class=\"data row30 col0\" >0.762958</td>\n",
       "      <td id=\"T_36268_row30_col1\" class=\"data row30 col1\" >0.873474</td>\n",
       "    </tr>\n",
       "    <tr>\n",
       "      <th id=\"T_36268_level0_row31\" class=\"row_heading level0 row31\" >Employment-services</th>\n",
       "      <td id=\"T_36268_row31_col0\" class=\"data row31 col0\" >0.757366</td>\n",
       "      <td id=\"T_36268_row31_col1\" class=\"data row31 col1\" >0.870268</td>\n",
       "    </tr>\n",
       "    <tr>\n",
       "      <th id=\"T_36268_level0_row32\" class=\"row_heading level0 row32\" >Mortality-infants log</th>\n",
       "      <td id=\"T_36268_row32_col0\" class=\"data row32 col0\" >0.757068</td>\n",
       "      <td id=\"T_36268_row32_col1\" class=\"data row32 col1\" >-0.870097</td>\n",
       "    </tr>\n",
       "  </tbody>\n",
       "</table>\n"
      ],
      "text/plain": [
       "<pandas.io.formats.style.Styler at 0x29311e67a30>"
      ]
     },
     "metadata": {},
     "output_type": "display_data"
    },
    {
     "name": "stdout",
     "output_type": "stream",
     "text": [
      "MAR-Renewable electricity\n",
      "Statistical=0.775, p=0.000\n",
      "It does NOT seem normal( Denies H0 )\n",
      "MAR-Employment-agriculture\n",
      "Statistical=0.865, p=0.001\n",
      "It does NOT seem normal( Denies H0 )\n",
      "MAR-Employment-industry\n",
      "Statistical=0.868, p=0.001\n",
      "It does NOT seem normal( Denies H0 )\n",
      "MAR-Employment-services\n",
      "Statistical=0.878, p=0.002\n",
      "It does NOT seem normal( Denies H0 )\n",
      "MAR-Exports-G&S\n",
      "Statistical=0.893, p=0.005\n",
      "It does NOT seem normal( Denies H0 )\n",
      "MAR-Fertility rate\n",
      "Statistical=0.863, p=0.001\n",
      "It does NOT seem normal( Denies H0 )\n",
      "MAR-Foreign investment\n",
      "Statistical=0.875, p=0.002\n",
      "It does NOT seem normal( Denies H0 )\n",
      "MAR-GDP\n",
      "Statistical=0.799, p=0.000\n",
      "It does NOT seem normal( Denies H0 )\n",
      "MAR-Education GExp\n",
      "Statistical=0.903, p=0.009\n",
      "It does NOT seem normal( Denies H0 )\n",
      "MAR-Workers high education\n",
      "Statistical=0.861, p=0.001\n",
      "It does NOT seem normal( Denies H0 )\n",
      "MAR-Literacy rate\n",
      "Statistical=nan, p=1.000\n",
      "Data is NORMAL ( H0 not denied )\n",
      "MAR-Net migration\n",
      "Statistical=0.856, p=0.001\n",
      "It does NOT seem normal( Denies H0 )\n",
      "MAR-Mortality-infants\n",
      "Statistical=0.931, p=0.046\n",
      "It does NOT seem normal( Denies H0 )\n",
      "MAR-Health services use\n",
      "Statistical=0.858, p=0.001\n",
      "It does NOT seem normal( Denies H0 )\n",
      "MAR-R&D GExp\n",
      "Statistical=0.940, p=0.085\n",
      "Data is NORMAL ( H0 not denied )\n",
      "MAR-Ninis\n",
      "Statistical=nan, p=1.000\n",
      "Data is NORMAL ( H0 not denied )\n",
      "MAR-Suicide\n",
      "Statistical=0.919, p=0.023\n",
      "It does NOT seem normal( Denies H0 )\n",
      "MAR-International taxes\n",
      "Statistical=nan, p=1.000\n",
      "Data is NORMAL ( H0 not denied )\n",
      "MAR-Alcohol per capita\n",
      "Statistical=0.786, p=0.000\n",
      "It does NOT seem normal( Denies H0 )\n",
      "MAR\n"
     ]
    },
    {
     "data": {
      "text/html": [
       "<style type=\"text/css\">\n",
       "#T_2504f_row0_col0, #T_2504f_row0_col1 {\n",
       "  background-color: #023858;\n",
       "  color: #f1f1f1;\n",
       "}\n",
       "#T_2504f_row1_col0 {\n",
       "  background-color: #034b76;\n",
       "  color: #f1f1f1;\n",
       "}\n",
       "#T_2504f_row1_col1 {\n",
       "  background-color: #02395a;\n",
       "  color: #f1f1f1;\n",
       "}\n",
       "#T_2504f_row2_col0 {\n",
       "  background-color: #045687;\n",
       "  color: #f1f1f1;\n",
       "}\n",
       "#T_2504f_row2_col1, #T_2504f_row44_col0 {\n",
       "  background-color: #fff7fb;\n",
       "  color: #000000;\n",
       "}\n",
       "#T_2504f_row3_col0 {\n",
       "  background-color: #046299;\n",
       "  color: #f1f1f1;\n",
       "}\n",
       "#T_2504f_row3_col1, #T_2504f_row4_col1, #T_2504f_row5_col1 {\n",
       "  background-color: #023a5b;\n",
       "  color: #f1f1f1;\n",
       "}\n",
       "#T_2504f_row4_col0, #T_2504f_row5_col0 {\n",
       "  background-color: #04639b;\n",
       "  color: #f1f1f1;\n",
       "}\n",
       "#T_2504f_row6_col0 {\n",
       "  background-color: #0567a1;\n",
       "  color: #f1f1f1;\n",
       "}\n",
       "#T_2504f_row6_col1, #T_2504f_row7_col1 {\n",
       "  background-color: #fef6fb;\n",
       "  color: #000000;\n",
       "}\n",
       "#T_2504f_row7_col0 {\n",
       "  background-color: #056caa;\n",
       "  color: #f1f1f1;\n",
       "}\n",
       "#T_2504f_row8_col0 {\n",
       "  background-color: #0a73b2;\n",
       "  color: #f1f1f1;\n",
       "}\n",
       "#T_2504f_row8_col1 {\n",
       "  background-color: #fef6fa;\n",
       "  color: #000000;\n",
       "}\n",
       "#T_2504f_row9_col0, #T_2504f_row10_col0 {\n",
       "  background-color: #1077b4;\n",
       "  color: #f1f1f1;\n",
       "}\n",
       "#T_2504f_row9_col1, #T_2504f_row10_col1, #T_2504f_row11_col1 {\n",
       "  background-color: #023c5f;\n",
       "  color: #f1f1f1;\n",
       "}\n",
       "#T_2504f_row11_col0 {\n",
       "  background-color: #167bb6;\n",
       "  color: #f1f1f1;\n",
       "}\n",
       "#T_2504f_row12_col0 {\n",
       "  background-color: #1c7fb8;\n",
       "  color: #f1f1f1;\n",
       "}\n",
       "#T_2504f_row12_col1 {\n",
       "  background-color: #fdf5fa;\n",
       "  color: #000000;\n",
       "}\n",
       "#T_2504f_row13_col0 {\n",
       "  background-color: #2182b9;\n",
       "  color: #f1f1f1;\n",
       "}\n",
       "#T_2504f_row13_col1, #T_2504f_row14_col1, #T_2504f_row15_col1 {\n",
       "  background-color: #023d60;\n",
       "  color: #f1f1f1;\n",
       "}\n",
       "#T_2504f_row14_col0 {\n",
       "  background-color: #2786bb;\n",
       "  color: #f1f1f1;\n",
       "}\n",
       "#T_2504f_row15_col0 {\n",
       "  background-color: #2a88bc;\n",
       "  color: #f1f1f1;\n",
       "}\n",
       "#T_2504f_row16_col0 {\n",
       "  background-color: #4295c3;\n",
       "  color: #f1f1f1;\n",
       "}\n",
       "#T_2504f_row16_col1 {\n",
       "  background-color: #023e62;\n",
       "  color: #f1f1f1;\n",
       "}\n",
       "#T_2504f_row17_col0 {\n",
       "  background-color: #4c99c5;\n",
       "  color: #f1f1f1;\n",
       "}\n",
       "#T_2504f_row17_col1, #T_2504f_row18_col1 {\n",
       "  background-color: #fcf4fa;\n",
       "  color: #000000;\n",
       "}\n",
       "#T_2504f_row18_col0 {\n",
       "  background-color: #4e9ac6;\n",
       "  color: #f1f1f1;\n",
       "}\n",
       "#T_2504f_row19_col0 {\n",
       "  background-color: #529bc7;\n",
       "  color: #f1f1f1;\n",
       "}\n",
       "#T_2504f_row19_col1, #T_2504f_row20_col1, #T_2504f_row21_col1, #T_2504f_row22_col1 {\n",
       "  background-color: #023f64;\n",
       "  color: #f1f1f1;\n",
       "}\n",
       "#T_2504f_row20_col0, #T_2504f_row21_col0 {\n",
       "  background-color: #63a2cb;\n",
       "  color: #f1f1f1;\n",
       "}\n",
       "#T_2504f_row22_col0 {\n",
       "  background-color: #69a5cc;\n",
       "  color: #f1f1f1;\n",
       "}\n",
       "#T_2504f_row23_col0 {\n",
       "  background-color: #81aed2;\n",
       "  color: #f1f1f1;\n",
       "}\n",
       "#T_2504f_row23_col1 {\n",
       "  background-color: #034165;\n",
       "  color: #f1f1f1;\n",
       "}\n",
       "#T_2504f_row24_col0 {\n",
       "  background-color: #91b5d6;\n",
       "  color: #000000;\n",
       "}\n",
       "#T_2504f_row24_col1, #T_2504f_row26_col1 {\n",
       "  background-color: #034267;\n",
       "  color: #f1f1f1;\n",
       "}\n",
       "#T_2504f_row25_col0 {\n",
       "  background-color: #96b6d7;\n",
       "  color: #000000;\n",
       "}\n",
       "#T_2504f_row25_col1 {\n",
       "  background-color: #fbf3f9;\n",
       "  color: #000000;\n",
       "}\n",
       "#T_2504f_row26_col0 {\n",
       "  background-color: #97b7d7;\n",
       "  color: #000000;\n",
       "}\n",
       "#T_2504f_row27_col0 {\n",
       "  background-color: #9cb9d9;\n",
       "  color: #000000;\n",
       "}\n",
       "#T_2504f_row27_col1 {\n",
       "  background-color: #faf3f9;\n",
       "  color: #000000;\n",
       "}\n",
       "#T_2504f_row28_col0 {\n",
       "  background-color: #a4bcda;\n",
       "  color: #000000;\n",
       "}\n",
       "#T_2504f_row28_col1, #T_2504f_row29_col1, #T_2504f_row30_col1, #T_2504f_row32_col1 {\n",
       "  background-color: #034369;\n",
       "  color: #f1f1f1;\n",
       "}\n",
       "#T_2504f_row29_col0 {\n",
       "  background-color: #a8bedc;\n",
       "  color: #000000;\n",
       "}\n",
       "#T_2504f_row30_col0 {\n",
       "  background-color: #acc0dd;\n",
       "  color: #000000;\n",
       "}\n",
       "#T_2504f_row31_col0, #T_2504f_row32_col0 {\n",
       "  background-color: #adc1dd;\n",
       "  color: #000000;\n",
       "}\n",
       "#T_2504f_row31_col1 {\n",
       "  background-color: #faf2f8;\n",
       "  color: #000000;\n",
       "}\n",
       "#T_2504f_row33_col0 {\n",
       "  background-color: #b7c5df;\n",
       "  color: #000000;\n",
       "}\n",
       "#T_2504f_row33_col1 {\n",
       "  background-color: #03446a;\n",
       "  color: #f1f1f1;\n",
       "}\n",
       "#T_2504f_row34_col0 {\n",
       "  background-color: #d0d1e6;\n",
       "  color: #000000;\n",
       "}\n",
       "#T_2504f_row34_col1 {\n",
       "  background-color: #03456c;\n",
       "  color: #f1f1f1;\n",
       "}\n",
       "#T_2504f_row35_col0 {\n",
       "  background-color: #d7d6e9;\n",
       "  color: #000000;\n",
       "}\n",
       "#T_2504f_row35_col1, #T_2504f_row37_col1, #T_2504f_row38_col1 {\n",
       "  background-color: #03466e;\n",
       "  color: #f1f1f1;\n",
       "}\n",
       "#T_2504f_row36_col0 {\n",
       "  background-color: #d9d8ea;\n",
       "  color: #000000;\n",
       "}\n",
       "#T_2504f_row36_col1, #T_2504f_row39_col1, #T_2504f_row42_col1, #T_2504f_row43_col0 {\n",
       "  background-color: #f8f1f8;\n",
       "  color: #000000;\n",
       "}\n",
       "#T_2504f_row37_col0 {\n",
       "  background-color: #dad9ea;\n",
       "  color: #000000;\n",
       "}\n",
       "#T_2504f_row38_col0 {\n",
       "  background-color: #dddbec;\n",
       "  color: #000000;\n",
       "}\n",
       "#T_2504f_row39_col0 {\n",
       "  background-color: #e1dfed;\n",
       "  color: #000000;\n",
       "}\n",
       "#T_2504f_row40_col0 {\n",
       "  background-color: #e2dfee;\n",
       "  color: #000000;\n",
       "}\n",
       "#T_2504f_row40_col1, #T_2504f_row41_col1 {\n",
       "  background-color: #03476f;\n",
       "  color: #f1f1f1;\n",
       "}\n",
       "#T_2504f_row41_col0 {\n",
       "  background-color: #e6e2ef;\n",
       "  color: #000000;\n",
       "}\n",
       "#T_2504f_row42_col0 {\n",
       "  background-color: #ebe6f2;\n",
       "  color: #000000;\n",
       "}\n",
       "#T_2504f_row43_col1 {\n",
       "  background-color: #f7f0f7;\n",
       "  color: #000000;\n",
       "}\n",
       "#T_2504f_row44_col1 {\n",
       "  background-color: #034a74;\n",
       "  color: #f1f1f1;\n",
       "}\n",
       "</style>\n",
       "<table id=\"T_2504f\">\n",
       "  <thead>\n",
       "    <tr>\n",
       "      <th class=\"blank level0\" >&nbsp;</th>\n",
       "      <th id=\"T_2504f_level0_col0\" class=\"col_heading level0 col0\" >GDP-R^2</th>\n",
       "      <th id=\"T_2504f_level0_col1\" class=\"col_heading level0 col1\" >GDP</th>\n",
       "    </tr>\n",
       "  </thead>\n",
       "  <tbody>\n",
       "    <tr>\n",
       "      <th id=\"T_2504f_level0_row0\" class=\"row_heading level0 row0\" >GDP</th>\n",
       "      <td id=\"T_2504f_row0_col0\" class=\"data row0 col0\" >1.000000</td>\n",
       "      <td id=\"T_2504f_row0_col1\" class=\"data row0 col1\" >1.000000</td>\n",
       "    </tr>\n",
       "    <tr>\n",
       "      <th id=\"T_2504f_level0_row1\" class=\"row_heading level0 row1\" >Exports-G&S</th>\n",
       "      <td id=\"T_2504f_row1_col0\" class=\"data row1 col0\" >0.982360</td>\n",
       "      <td id=\"T_2504f_row1_col1\" class=\"data row1 col1\" >0.991141</td>\n",
       "    </tr>\n",
       "    <tr>\n",
       "      <th id=\"T_2504f_level0_row2\" class=\"row_heading level0 row2\" >Alcohol per capita^3</th>\n",
       "      <td id=\"T_2504f_row2_col0\" class=\"data row2 col0\" >0.972507</td>\n",
       "      <td id=\"T_2504f_row2_col1\" class=\"data row2 col1\" >-0.986158</td>\n",
       "    </tr>\n",
       "    <tr>\n",
       "      <th id=\"T_2504f_level0_row3\" class=\"row_heading level0 row3\" >Exports-Commercial services</th>\n",
       "      <td id=\"T_2504f_row3_col0\" class=\"data row3 col0\" >0.958057</td>\n",
       "      <td id=\"T_2504f_row3_col1\" class=\"data row3 col1\" >0.978804</td>\n",
       "    </tr>\n",
       "    <tr>\n",
       "      <th id=\"T_2504f_level0_row4\" class=\"row_heading level0 row4\" >GDP^2</th>\n",
       "      <td id=\"T_2504f_row4_col0\" class=\"data row4 col0\" >0.956073</td>\n",
       "      <td id=\"T_2504f_row4_col1\" class=\"data row4 col1\" >0.977790</td>\n",
       "    </tr>\n",
       "    <tr>\n",
       "      <th id=\"T_2504f_level0_row5\" class=\"row_heading level0 row5\" >Health services use</th>\n",
       "      <td id=\"T_2504f_row5_col0\" class=\"data row5 col0\" >0.955573</td>\n",
       "      <td id=\"T_2504f_row5_col1\" class=\"data row5 col1\" >0.977534</td>\n",
       "    </tr>\n",
       "    <tr>\n",
       "      <th id=\"T_2504f_level0_row6\" class=\"row_heading level0 row6\" >Alcohol per capita^2</th>\n",
       "      <td id=\"T_2504f_row6_col0\" class=\"data row6 col0\" >0.950709</td>\n",
       "      <td id=\"T_2504f_row6_col1\" class=\"data row6 col1\" >-0.975043</td>\n",
       "    </tr>\n",
       "    <tr>\n",
       "      <th id=\"T_2504f_level0_row7\" class=\"row_heading level0 row7\" >Employment-agriculture^2</th>\n",
       "      <td id=\"T_2504f_row7_col0\" class=\"data row7 col0\" >0.943686</td>\n",
       "      <td id=\"T_2504f_row7_col1\" class=\"data row7 col1\" >-0.971435</td>\n",
       "    </tr>\n",
       "    <tr>\n",
       "      <th id=\"T_2504f_level0_row8\" class=\"row_heading level0 row8\" >Suicide^3</th>\n",
       "      <td id=\"T_2504f_row8_col0\" class=\"data row8 col0\" >0.934520</td>\n",
       "      <td id=\"T_2504f_row8_col1\" class=\"data row8 col1\" >-0.966706</td>\n",
       "    </tr>\n",
       "    <tr>\n",
       "      <th id=\"T_2504f_level0_row9\" class=\"row_heading level0 row9\" >Unnamed: 0</th>\n",
       "      <td id=\"T_2504f_row9_col0\" class=\"data row9 col0\" >0.930903</td>\n",
       "      <td id=\"T_2504f_row9_col1\" class=\"data row9 col1\" >0.964833</td>\n",
       "    </tr>\n",
       "    <tr>\n",
       "      <th id=\"T_2504f_level0_row10\" class=\"row_heading level0 row10\" >Year</th>\n",
       "      <td id=\"T_2504f_row10_col0\" class=\"data row10 col0\" >0.930903</td>\n",
       "      <td id=\"T_2504f_row10_col1\" class=\"data row10 col1\" >0.964833</td>\n",
       "    </tr>\n",
       "    <tr>\n",
       "      <th id=\"T_2504f_level0_row11\" class=\"row_heading level0 row11\" >Exports-Commercial services^2</th>\n",
       "      <td id=\"T_2504f_row11_col0\" class=\"data row11 col0\" >0.927171</td>\n",
       "      <td id=\"T_2504f_row11_col1\" class=\"data row11 col1\" >0.962897</td>\n",
       "    </tr>\n",
       "    <tr>\n",
       "      <th id=\"T_2504f_level0_row12\" class=\"row_heading level0 row12\" >Employment-agriculture^3</th>\n",
       "      <td id=\"T_2504f_row12_col0\" class=\"data row12 col0\" >0.923320</td>\n",
       "      <td id=\"T_2504f_row12_col1\" class=\"data row12 col1\" >-0.960895</td>\n",
       "    </tr>\n",
       "    <tr>\n",
       "      <th id=\"T_2504f_level0_row13\" class=\"row_heading level0 row13\" >R&D GExp log</th>\n",
       "      <td id=\"T_2504f_row13_col0\" class=\"data row13 col0\" >0.919928</td>\n",
       "      <td id=\"T_2504f_row13_col1\" class=\"data row13 col1\" >0.959129</td>\n",
       "    </tr>\n",
       "    <tr>\n",
       "      <th id=\"T_2504f_level0_row14\" class=\"row_heading level0 row14\" >Literacy rate</th>\n",
       "      <td id=\"T_2504f_row14_col0\" class=\"data row14 col0\" >0.915744</td>\n",
       "      <td id=\"T_2504f_row14_col1\" class=\"data row14 col1\" >0.956945</td>\n",
       "    </tr>\n",
       "    <tr>\n",
       "      <th id=\"T_2504f_level0_row15\" class=\"row_heading level0 row15\" >Renewable electricity</th>\n",
       "      <td id=\"T_2504f_row15_col0\" class=\"data row15 col0\" >0.913897</td>\n",
       "      <td id=\"T_2504f_row15_col1\" class=\"data row15 col1\" >0.955980</td>\n",
       "    </tr>\n",
       "    <tr>\n",
       "      <th id=\"T_2504f_level0_row16\" class=\"row_heading level0 row16\" >Health services use log</th>\n",
       "      <td id=\"T_2504f_row16_col0\" class=\"data row16 col0\" >0.900217</td>\n",
       "      <td id=\"T_2504f_row16_col1\" class=\"data row16 col1\" >0.948798</td>\n",
       "    </tr>\n",
       "    <tr>\n",
       "      <th id=\"T_2504f_level0_row17\" class=\"row_heading level0 row17\" >Employment-agriculture</th>\n",
       "      <td id=\"T_2504f_row17_col0\" class=\"data row17 col0\" >0.895679</td>\n",
       "      <td id=\"T_2504f_row17_col1\" class=\"data row17 col1\" >-0.946403</td>\n",
       "    </tr>\n",
       "    <tr>\n",
       "      <th id=\"T_2504f_level0_row18\" class=\"row_heading level0 row18\" >Suicide^2</th>\n",
       "      <td id=\"T_2504f_row18_col0\" class=\"data row18 col0\" >0.894433</td>\n",
       "      <td id=\"T_2504f_row18_col1\" class=\"data row18 col1\" >-0.945745</td>\n",
       "    </tr>\n",
       "    <tr>\n",
       "      <th id=\"T_2504f_level0_row19\" class=\"row_heading level0 row19\" >Employment-services</th>\n",
       "      <td id=\"T_2504f_row19_col0\" class=\"data row19 col0\" >0.893119</td>\n",
       "      <td id=\"T_2504f_row19_col1\" class=\"data row19 col1\" >0.945050</td>\n",
       "    </tr>\n",
       "    <tr>\n",
       "      <th id=\"T_2504f_level0_row20\" class=\"row_heading level0 row20\" >Exports-G&S^2</th>\n",
       "      <td id=\"T_2504f_row20_col0\" class=\"data row20 col0\" >0.883838</td>\n",
       "      <td id=\"T_2504f_row20_col1\" class=\"data row20 col1\" >0.940127</td>\n",
       "    </tr>\n",
       "    <tr>\n",
       "      <th id=\"T_2504f_level0_row21\" class=\"row_heading level0 row21\" >R&D GExp^2</th>\n",
       "      <td id=\"T_2504f_row21_col0\" class=\"data row21 col0\" >0.883792</td>\n",
       "      <td id=\"T_2504f_row21_col1\" class=\"data row21 col1\" >0.940102</td>\n",
       "    </tr>\n",
       "    <tr>\n",
       "      <th id=\"T_2504f_level0_row22\" class=\"row_heading level0 row22\" >GDP^3</th>\n",
       "      <td id=\"T_2504f_row22_col0\" class=\"data row22 col0\" >0.880840</td>\n",
       "      <td id=\"T_2504f_row22_col1\" class=\"data row22 col1\" >0.938531</td>\n",
       "    </tr>\n",
       "    <tr>\n",
       "      <th id=\"T_2504f_level0_row23\" class=\"row_heading level0 row23\" >R&D GExp^3</th>\n",
       "      <td id=\"T_2504f_row23_col0\" class=\"data row23 col0\" >0.867989</td>\n",
       "      <td id=\"T_2504f_row23_col1\" class=\"data row23 col1\" >0.931659</td>\n",
       "    </tr>\n",
       "    <tr>\n",
       "      <th id=\"T_2504f_level0_row24\" class=\"row_heading level0 row24\" >GDP log</th>\n",
       "      <td id=\"T_2504f_row24_col0\" class=\"data row24 col0\" >0.857471</td>\n",
       "      <td id=\"T_2504f_row24_col1\" class=\"data row24 col1\" >0.925997</td>\n",
       "    </tr>\n",
       "    <tr>\n",
       "      <th id=\"T_2504f_level0_row25\" class=\"row_heading level0 row25\" >Alcohol per capita</th>\n",
       "      <td id=\"T_2504f_row25_col0\" class=\"data row25 col0\" >0.854921</td>\n",
       "      <td id=\"T_2504f_row25_col1\" class=\"data row25 col1\" >-0.924619</td>\n",
       "    </tr>\n",
       "    <tr>\n",
       "      <th id=\"T_2504f_level0_row26\" class=\"row_heading level0 row26\" >Employment-industry</th>\n",
       "      <td id=\"T_2504f_row26_col0\" class=\"data row26 col0\" >0.854239</td>\n",
       "      <td id=\"T_2504f_row26_col1\" class=\"data row26 col1\" >0.924250</td>\n",
       "    </tr>\n",
       "    <tr>\n",
       "      <th id=\"T_2504f_level0_row27\" class=\"row_heading level0 row27\" >Mortality-infants</th>\n",
       "      <td id=\"T_2504f_row27_col0\" class=\"data row27 col0\" >0.850688</td>\n",
       "      <td id=\"T_2504f_row27_col1\" class=\"data row27 col1\" >-0.922328</td>\n",
       "    </tr>\n",
       "    <tr>\n",
       "      <th id=\"T_2504f_level0_row28\" class=\"row_heading level0 row28\" >R&D GExp</th>\n",
       "      <td id=\"T_2504f_row28_col0\" class=\"data row28 col0\" >0.845914</td>\n",
       "      <td id=\"T_2504f_row28_col1\" class=\"data row28 col1\" >0.919736</td>\n",
       "    </tr>\n",
       "    <tr>\n",
       "      <th id=\"T_2504f_level0_row29\" class=\"row_heading level0 row29\" >Exports-Commercial services^3</th>\n",
       "      <td id=\"T_2504f_row29_col0\" class=\"data row29 col0\" >0.843234</td>\n",
       "      <td id=\"T_2504f_row29_col1\" class=\"data row29 col1\" >0.918278</td>\n",
       "    </tr>\n",
       "    <tr>\n",
       "      <th id=\"T_2504f_level0_row30\" class=\"row_heading level0 row30\" >Renewable electricity^2</th>\n",
       "      <td id=\"T_2504f_row30_col0\" class=\"data row30 col0\" >0.840372</td>\n",
       "      <td id=\"T_2504f_row30_col1\" class=\"data row30 col1\" >0.916718</td>\n",
       "    </tr>\n",
       "    <tr>\n",
       "      <th id=\"T_2504f_level0_row31\" class=\"row_heading level0 row31\" >Mortality-infants log</th>\n",
       "      <td id=\"T_2504f_row31_col0\" class=\"data row31 col0\" >0.839496</td>\n",
       "      <td id=\"T_2504f_row31_col1\" class=\"data row31 col1\" >-0.916240</td>\n",
       "    </tr>\n",
       "    <tr>\n",
       "      <th id=\"T_2504f_level0_row32\" class=\"row_heading level0 row32\" >Renewable electricity log</th>\n",
       "      <td id=\"T_2504f_row32_col0\" class=\"data row32 col0\" >0.839442</td>\n",
       "      <td id=\"T_2504f_row32_col1\" class=\"data row32 col1\" >0.916211</td>\n",
       "    </tr>\n",
       "    <tr>\n",
       "      <th id=\"T_2504f_level0_row33\" class=\"row_heading level0 row33\" >Employment-services log</th>\n",
       "      <td id=\"T_2504f_row33_col0\" class=\"data row33 col0\" >0.832761</td>\n",
       "      <td id=\"T_2504f_row33_col1\" class=\"data row33 col1\" >0.912557</td>\n",
       "    </tr>\n",
       "    <tr>\n",
       "      <th id=\"T_2504f_level0_row34\" class=\"row_heading level0 row34\" >Literacy rate^2</th>\n",
       "      <td id=\"T_2504f_row34_col0\" class=\"data row34 col0\" >0.814588</td>\n",
       "      <td id=\"T_2504f_row34_col1\" class=\"data row34 col1\" >0.902545</td>\n",
       "    </tr>\n",
       "    <tr>\n",
       "      <th id=\"T_2504f_level0_row35\" class=\"row_heading level0 row35\" >Exports-G&S log</th>\n",
       "      <td id=\"T_2504f_row35_col0\" class=\"data row35 col0\" >0.806600</td>\n",
       "      <td id=\"T_2504f_row35_col1\" class=\"data row35 col1\" >0.898109</td>\n",
       "    </tr>\n",
       "    <tr>\n",
       "      <th id=\"T_2504f_level0_row36\" class=\"row_heading level0 row36\" >Education GExp</th>\n",
       "      <td id=\"T_2504f_row36_col0\" class=\"data row36 col0\" >0.804073</td>\n",
       "      <td id=\"T_2504f_row36_col1\" class=\"data row36 col1\" >-0.896701</td>\n",
       "    </tr>\n",
       "    <tr>\n",
       "      <th id=\"T_2504f_level0_row37\" class=\"row_heading level0 row37\" >Health services use^2</th>\n",
       "      <td id=\"T_2504f_row37_col0\" class=\"data row37 col0\" >0.802108</td>\n",
       "      <td id=\"T_2504f_row37_col1\" class=\"data row37 col1\" >0.895605</td>\n",
       "    </tr>\n",
       "    <tr>\n",
       "      <th id=\"T_2504f_level0_row38\" class=\"row_heading level0 row38\" >Literacy rate log</th>\n",
       "      <td id=\"T_2504f_row38_col0\" class=\"data row38 col0\" >0.799324</td>\n",
       "      <td id=\"T_2504f_row38_col1\" class=\"data row38 col1\" >0.894049</td>\n",
       "    </tr>\n",
       "    <tr>\n",
       "      <th id=\"T_2504f_level0_row39\" class=\"row_heading level0 row39\" >Education GExp^2</th>\n",
       "      <td id=\"T_2504f_row39_col0\" class=\"data row39 col0\" >0.795210</td>\n",
       "      <td id=\"T_2504f_row39_col1\" class=\"data row39 col1\" >-0.891746</td>\n",
       "    </tr>\n",
       "    <tr>\n",
       "      <th id=\"T_2504f_level0_row40\" class=\"row_heading level0 row40\" >Renewable electricity^3</th>\n",
       "      <td id=\"T_2504f_row40_col0\" class=\"data row40 col0\" >0.794040</td>\n",
       "      <td id=\"T_2504f_row40_col1\" class=\"data row40 col1\" >0.891089</td>\n",
       "    </tr>\n",
       "    <tr>\n",
       "      <th id=\"T_2504f_level0_row41\" class=\"row_heading level0 row41\" >Exports-Commercial services log</th>\n",
       "      <td id=\"T_2504f_row41_col0\" class=\"data row41 col0\" >0.790240</td>\n",
       "      <td id=\"T_2504f_row41_col1\" class=\"data row41 col1\" >0.888955</td>\n",
       "    </tr>\n",
       "    <tr>\n",
       "      <th id=\"T_2504f_level0_row42\" class=\"row_heading level0 row42\" >Suicide</th>\n",
       "      <td id=\"T_2504f_row42_col0\" class=\"data row42 col0\" >0.784261</td>\n",
       "      <td id=\"T_2504f_row42_col1\" class=\"data row42 col1\" >-0.885585</td>\n",
       "    </tr>\n",
       "    <tr>\n",
       "      <th id=\"T_2504f_level0_row43\" class=\"row_heading level0 row43\" >Fertility rate log</th>\n",
       "      <td id=\"T_2504f_row43_col0\" class=\"data row43 col0\" >0.763734</td>\n",
       "      <td id=\"T_2504f_row43_col1\" class=\"data row43 col1\" >-0.873919</td>\n",
       "    </tr>\n",
       "    <tr>\n",
       "      <th id=\"T_2504f_level0_row44\" class=\"row_heading level0 row44\" >Employment-industry^2</th>\n",
       "      <td id=\"T_2504f_row44_col0\" class=\"data row44 col0\" >0.751608</td>\n",
       "      <td id=\"T_2504f_row44_col1\" class=\"data row44 col1\" >0.866954</td>\n",
       "    </tr>\n",
       "  </tbody>\n",
       "</table>\n"
      ],
      "text/plain": [
       "<pandas.io.formats.style.Styler at 0x29311e5f2b0>"
      ]
     },
     "metadata": {},
     "output_type": "display_data"
    }
   ],
   "source": [
    "multcolumn(df)\n",
    "for i in range(0,len(clist)):\n",
    "    dat=df.loc[df.loc[:, 'Country'] == clist[i]]\n",
    "    for e in range(3,len(columns)):\n",
    "        data=dat.iloc[:, e]\n",
    "        stat, p = shapiro(data)\n",
    "        print(clist[i] +\"-\"+ columns[e])\n",
    "        print('Statistical=%.3f, p=%.3f' % (stat, p))\n",
    "        alpha = 0.05\n",
    "        if p > alpha:\n",
    "            print('Data is NORMAL ( H0 not denied )')\n",
    "        else:\n",
    "            print('It does NOT seem normal( Denies H0 )')\n",
    "    print(clist[i])\n",
    "    cor=dat.corr()   \n",
    "    cor.loc[:,'GDP-R^2'] = cor['GDP']**2 \n",
    "    corcolum=cor[['GDP-R^2','GDP']] \n",
    "    corcolum=corcolum.loc[corcolum.loc[:,'GDP-R^2'] >= 0.75]\n",
    "    corcolumn=corcolum[['GDP-R^2','GDP']].sort_values(by = 'GDP-R^2',ascending = False).style.background_gradient() \n",
    "    display(corcolumn)"
   ]
  }
 ],
 "metadata": {
  "kernelspec": {
   "display_name": "Python 3.10.4 ('.venv': poetry)",
   "language": "python",
   "name": "python3"
  },
  "language_info": {
   "codemirror_mode": {
    "name": "ipython",
    "version": 3
   },
   "file_extension": ".py",
   "mimetype": "text/x-python",
   "name": "python",
   "nbconvert_exporter": "python",
   "pygments_lexer": "ipython3",
   "version": "3.10.4"
  },
  "orig_nbformat": 4,
  "vscode": {
   "interpreter": {
    "hash": "0581013962d1422e924d6baa4c1347697ec037e3370ec501496e00dda3f2654b"
   }
  }
 },
 "nbformat": 4,
 "nbformat_minor": 2
}
