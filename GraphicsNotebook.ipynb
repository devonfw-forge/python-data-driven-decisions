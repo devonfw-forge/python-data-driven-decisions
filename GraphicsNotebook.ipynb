{
 "cells": [
  {
   "cell_type": "markdown",
   "metadata": {},
   "source": [
    "# Visualize Notebook\n",
    "In this notebook the Gold Dataframe will be read and extract information of it. The objective is to see the correlations between the variables and the GDP and also what countries have the highest correlation value.\n"
   ]
  },
  {
   "cell_type": "markdown",
   "metadata": {},
   "source": [
    "## Imports\n",
    "Start importing all the libraries and also the methods of pvalue and search indicators that will be used later in the notebook."
   ]
  },
  {
   "cell_type": "code",
   "execution_count": 1,
   "metadata": {},
   "outputs": [],
   "source": [
    "import pandas as pd\n",
    "import matplotlib.pyplot as plt\n",
    "import numpy as np\n",
    "from scipy import stats\n",
    "from scipy.stats import shapiro\n",
    "import os\n",
    "import statistics\n",
    "import seaborn as sns\n",
    "from scipy.stats import norm\n",
    "\n",
    "import ipywidgets as widgets\n",
    "from ipywidgets import Layout\n",
    "from ipywidgets import interact, interact_manual\n",
    "from Project.Utils.visualize import pvalue, search_indicators, search\n"
   ]
  },
  {
   "cell_type": "markdown",
   "metadata": {},
   "source": [
    "## Correlation dataframe.\n",
    "This dataframe is the main piece of the notebook. Consists in generating for every country the correlation matrix for it and saving only the correlation value of the different variables with the GDP. Later on is concatenated and generates the following result:"
   ]
  },
  {
   "cell_type": "code",
   "execution_count": 2,
   "metadata": {},
   "outputs": [
    {
     "data": {
      "text/html": [
       "<div>\n",
       "<style scoped>\n",
       "    .dataframe tbody tr th:only-of-type {\n",
       "        vertical-align: middle;\n",
       "    }\n",
       "\n",
       "    .dataframe tbody tr th {\n",
       "        vertical-align: top;\n",
       "    }\n",
       "\n",
       "    .dataframe thead th {\n",
       "        text-align: right;\n",
       "    }\n",
       "</style>\n",
       "<table border=\"1\" class=\"dataframe\">\n",
       "  <thead>\n",
       "    <tr style=\"text-align: right;\">\n",
       "      <th></th>\n",
       "      <th>AgriShareGDP</th>\n",
       "      <th>CreditToAgriFishForest</th>\n",
       "      <th>EmploymentRural</th>\n",
       "      <th>TotalAgri</th>\n",
       "      <th>% Soldiers</th>\n",
       "      <th>Birth Rate</th>\n",
       "      <th>Death Rate</th>\n",
       "      <th>Homicides</th>\n",
       "      <th>Life Expectancy</th>\n",
       "      <th>Maternal Death Risk</th>\n",
       "      <th>...</th>\n",
       "      <th>% Population Growth</th>\n",
       "      <th>% Rural Population</th>\n",
       "      <th>Civil Liberties</th>\n",
       "      <th>Freedom of Expression</th>\n",
       "      <th>% Healthcare Investment</th>\n",
       "      <th>% Employment Industry</th>\n",
       "      <th>% Education Expenditure</th>\n",
       "      <th>% Men Employment</th>\n",
       "      <th>% Women Employment</th>\n",
       "      <th>Population</th>\n",
       "    </tr>\n",
       "  </thead>\n",
       "  <tbody>\n",
       "    <tr>\n",
       "      <th>Lebanon</th>\n",
       "      <td>-0.503101</td>\n",
       "      <td>NaN</td>\n",
       "      <td>NaN</td>\n",
       "      <td>0.891247</td>\n",
       "      <td>-0.939681</td>\n",
       "      <td>-0.122113</td>\n",
       "      <td>0.062329</td>\n",
       "      <td>NaN</td>\n",
       "      <td>0.888425</td>\n",
       "      <td>0.146781</td>\n",
       "      <td>...</td>\n",
       "      <td>-0.145843</td>\n",
       "      <td>-0.985057</td>\n",
       "      <td>0.890831</td>\n",
       "      <td>0.634427</td>\n",
       "      <td>0.896726</td>\n",
       "      <td>0.899102</td>\n",
       "      <td>NaN</td>\n",
       "      <td>NaN</td>\n",
       "      <td>NaN</td>\n",
       "      <td>0.958025</td>\n",
       "    </tr>\n",
       "    <tr>\n",
       "      <th>Mongolia</th>\n",
       "      <td>-0.835522</td>\n",
       "      <td>NaN</td>\n",
       "      <td>NaN</td>\n",
       "      <td>0.925688</td>\n",
       "      <td>-0.860031</td>\n",
       "      <td>0.865737</td>\n",
       "      <td>-0.936540</td>\n",
       "      <td>-0.923997</td>\n",
       "      <td>0.968864</td>\n",
       "      <td>-0.891779</td>\n",
       "      <td>...</td>\n",
       "      <td>0.925761</td>\n",
       "      <td>-0.919030</td>\n",
       "      <td>-0.779568</td>\n",
       "      <td>-0.679556</td>\n",
       "      <td>-0.795143</td>\n",
       "      <td>0.970238</td>\n",
       "      <td>NaN</td>\n",
       "      <td>NaN</td>\n",
       "      <td>NaN</td>\n",
       "      <td>0.938037</td>\n",
       "    </tr>\n",
       "    <tr>\n",
       "      <th>Chile</th>\n",
       "      <td>-0.837463</td>\n",
       "      <td>NaN</td>\n",
       "      <td>NaN</td>\n",
       "      <td>0.953282</td>\n",
       "      <td>-0.915442</td>\n",
       "      <td>-0.866672</td>\n",
       "      <td>0.858393</td>\n",
       "      <td>NaN</td>\n",
       "      <td>0.959914</td>\n",
       "      <td>-0.955864</td>\n",
       "      <td>...</td>\n",
       "      <td>0.102632</td>\n",
       "      <td>-0.911129</td>\n",
       "      <td>0.292348</td>\n",
       "      <td>-0.335626</td>\n",
       "      <td>0.877975</td>\n",
       "      <td>0.029696</td>\n",
       "      <td>0.793805</td>\n",
       "      <td>0.335628</td>\n",
       "      <td>0.985091</td>\n",
       "      <td>0.918629</td>\n",
       "    </tr>\n",
       "    <tr>\n",
       "      <th>San Marino</th>\n",
       "      <td>0.065850</td>\n",
       "      <td>NaN</td>\n",
       "      <td>NaN</td>\n",
       "      <td>NaN</td>\n",
       "      <td>NaN</td>\n",
       "      <td>0.357578</td>\n",
       "      <td>-0.162883</td>\n",
       "      <td>NaN</td>\n",
       "      <td>NaN</td>\n",
       "      <td>NaN</td>\n",
       "      <td>...</td>\n",
       "      <td>0.333934</td>\n",
       "      <td>0.001470</td>\n",
       "      <td>NaN</td>\n",
       "      <td>NaN</td>\n",
       "      <td>-0.198150</td>\n",
       "      <td>NaN</td>\n",
       "      <td>NaN</td>\n",
       "      <td>NaN</td>\n",
       "      <td>NaN</td>\n",
       "      <td>-0.004386</td>\n",
       "    </tr>\n",
       "    <tr>\n",
       "      <th>Singapore</th>\n",
       "      <td>-0.892755</td>\n",
       "      <td>0.771369</td>\n",
       "      <td>NaN</td>\n",
       "      <td>0.962109</td>\n",
       "      <td>-0.946267</td>\n",
       "      <td>-0.876853</td>\n",
       "      <td>0.801086</td>\n",
       "      <td>-0.876330</td>\n",
       "      <td>0.975188</td>\n",
       "      <td>-0.964077</td>\n",
       "      <td>...</td>\n",
       "      <td>-0.444154</td>\n",
       "      <td>NaN</td>\n",
       "      <td>-0.353507</td>\n",
       "      <td>0.866337</td>\n",
       "      <td>0.958775</td>\n",
       "      <td>-0.864015</td>\n",
       "      <td>NaN</td>\n",
       "      <td>NaN</td>\n",
       "      <td>NaN</td>\n",
       "      <td>0.990639</td>\n",
       "    </tr>\n",
       "    <tr>\n",
       "      <th>...</th>\n",
       "      <td>...</td>\n",
       "      <td>...</td>\n",
       "      <td>...</td>\n",
       "      <td>...</td>\n",
       "      <td>...</td>\n",
       "      <td>...</td>\n",
       "      <td>...</td>\n",
       "      <td>...</td>\n",
       "      <td>...</td>\n",
       "      <td>...</td>\n",
       "      <td>...</td>\n",
       "      <td>...</td>\n",
       "      <td>...</td>\n",
       "      <td>...</td>\n",
       "      <td>...</td>\n",
       "      <td>...</td>\n",
       "      <td>...</td>\n",
       "      <td>...</td>\n",
       "      <td>...</td>\n",
       "      <td>...</td>\n",
       "      <td>...</td>\n",
       "    </tr>\n",
       "    <tr>\n",
       "      <th>Uruguay</th>\n",
       "      <td>-0.576932</td>\n",
       "      <td>0.890955</td>\n",
       "      <td>NaN</td>\n",
       "      <td>0.858527</td>\n",
       "      <td>-0.828063</td>\n",
       "      <td>-0.837514</td>\n",
       "      <td>0.651712</td>\n",
       "      <td>0.696210</td>\n",
       "      <td>0.907707</td>\n",
       "      <td>-0.816982</td>\n",
       "      <td>...</td>\n",
       "      <td>0.837996</td>\n",
       "      <td>-0.911606</td>\n",
       "      <td>-0.291775</td>\n",
       "      <td>0.457307</td>\n",
       "      <td>0.819461</td>\n",
       "      <td>-0.823795</td>\n",
       "      <td>NaN</td>\n",
       "      <td>NaN</td>\n",
       "      <td>NaN</td>\n",
       "      <td>0.899639</td>\n",
       "    </tr>\n",
       "    <tr>\n",
       "      <th>Myanmar</th>\n",
       "      <td>-0.967870</td>\n",
       "      <td>NaN</td>\n",
       "      <td>NaN</td>\n",
       "      <td>NaN</td>\n",
       "      <td>-0.180847</td>\n",
       "      <td>-0.973266</td>\n",
       "      <td>-0.978075</td>\n",
       "      <td>0.757785</td>\n",
       "      <td>0.960719</td>\n",
       "      <td>-0.954086</td>\n",
       "      <td>...</td>\n",
       "      <td>-0.544811</td>\n",
       "      <td>-0.941386</td>\n",
       "      <td>0.932649</td>\n",
       "      <td>0.951070</td>\n",
       "      <td>0.726087</td>\n",
       "      <td>0.899596</td>\n",
       "      <td>NaN</td>\n",
       "      <td>NaN</td>\n",
       "      <td>NaN</td>\n",
       "      <td>0.947493</td>\n",
       "    </tr>\n",
       "    <tr>\n",
       "      <th>Austria</th>\n",
       "      <td>-0.828536</td>\n",
       "      <td>NaN</td>\n",
       "      <td>0.84706</td>\n",
       "      <td>0.938655</td>\n",
       "      <td>-0.780851</td>\n",
       "      <td>-0.146353</td>\n",
       "      <td>-0.147189</td>\n",
       "      <td>-0.074849</td>\n",
       "      <td>0.933147</td>\n",
       "      <td>-0.672080</td>\n",
       "      <td>...</td>\n",
       "      <td>0.145298</td>\n",
       "      <td>0.842808</td>\n",
       "      <td>-0.356982</td>\n",
       "      <td>-0.406429</td>\n",
       "      <td>0.767288</td>\n",
       "      <td>-0.902411</td>\n",
       "      <td>0.172537</td>\n",
       "      <td>-0.544896</td>\n",
       "      <td>0.901465</td>\n",
       "      <td>0.789386</td>\n",
       "    </tr>\n",
       "    <tr>\n",
       "      <th>Comoros</th>\n",
       "      <td>-0.592755</td>\n",
       "      <td>NaN</td>\n",
       "      <td>NaN</td>\n",
       "      <td>NaN</td>\n",
       "      <td>NaN</td>\n",
       "      <td>-0.894111</td>\n",
       "      <td>-0.928384</td>\n",
       "      <td>NaN</td>\n",
       "      <td>0.919907</td>\n",
       "      <td>-0.944990</td>\n",
       "      <td>...</td>\n",
       "      <td>-0.698759</td>\n",
       "      <td>-0.669837</td>\n",
       "      <td>0.469369</td>\n",
       "      <td>0.268741</td>\n",
       "      <td>-0.530582</td>\n",
       "      <td>-0.885866</td>\n",
       "      <td>NaN</td>\n",
       "      <td>NaN</td>\n",
       "      <td>NaN</td>\n",
       "      <td>0.929551</td>\n",
       "    </tr>\n",
       "    <tr>\n",
       "      <th>Madagascar</th>\n",
       "      <td>-0.856914</td>\n",
       "      <td>NaN</td>\n",
       "      <td>NaN</td>\n",
       "      <td>0.645772</td>\n",
       "      <td>-0.892131</td>\n",
       "      <td>-0.962947</td>\n",
       "      <td>-0.957361</td>\n",
       "      <td>NaN</td>\n",
       "      <td>0.955664</td>\n",
       "      <td>-0.963204</td>\n",
       "      <td>...</td>\n",
       "      <td>-0.967226</td>\n",
       "      <td>-0.944561</td>\n",
       "      <td>-0.334297</td>\n",
       "      <td>-0.278199</td>\n",
       "      <td>0.012878</td>\n",
       "      <td>0.718184</td>\n",
       "      <td>0.500264</td>\n",
       "      <td>NaN</td>\n",
       "      <td>NaN</td>\n",
       "      <td>0.943587</td>\n",
       "    </tr>\n",
       "  </tbody>\n",
       "</table>\n",
       "<p>179 rows × 21 columns</p>\n",
       "</div>"
      ],
      "text/plain": [
       "            AgriShareGDP  CreditToAgriFishForest  EmploymentRural  TotalAgri  \\\n",
       "Lebanon        -0.503101                     NaN              NaN   0.891247   \n",
       "Mongolia       -0.835522                     NaN              NaN   0.925688   \n",
       "Chile          -0.837463                     NaN              NaN   0.953282   \n",
       "San Marino      0.065850                     NaN              NaN        NaN   \n",
       "Singapore      -0.892755                0.771369              NaN   0.962109   \n",
       "...                  ...                     ...              ...        ...   \n",
       "Uruguay        -0.576932                0.890955              NaN   0.858527   \n",
       "Myanmar        -0.967870                     NaN              NaN        NaN   \n",
       "Austria        -0.828536                     NaN          0.84706   0.938655   \n",
       "Comoros        -0.592755                     NaN              NaN        NaN   \n",
       "Madagascar     -0.856914                     NaN              NaN   0.645772   \n",
       "\n",
       "            % Soldiers  Birth Rate  Death Rate  Homicides  Life Expectancy  \\\n",
       "Lebanon      -0.939681   -0.122113    0.062329        NaN         0.888425   \n",
       "Mongolia     -0.860031    0.865737   -0.936540  -0.923997         0.968864   \n",
       "Chile        -0.915442   -0.866672    0.858393        NaN         0.959914   \n",
       "San Marino         NaN    0.357578   -0.162883        NaN              NaN   \n",
       "Singapore    -0.946267   -0.876853    0.801086  -0.876330         0.975188   \n",
       "...                ...         ...         ...        ...              ...   \n",
       "Uruguay      -0.828063   -0.837514    0.651712   0.696210         0.907707   \n",
       "Myanmar      -0.180847   -0.973266   -0.978075   0.757785         0.960719   \n",
       "Austria      -0.780851   -0.146353   -0.147189  -0.074849         0.933147   \n",
       "Comoros            NaN   -0.894111   -0.928384        NaN         0.919907   \n",
       "Madagascar   -0.892131   -0.962947   -0.957361        NaN         0.955664   \n",
       "\n",
       "            Maternal Death Risk  ...  % Population Growth  % Rural Population  \\\n",
       "Lebanon                0.146781  ...            -0.145843           -0.985057   \n",
       "Mongolia              -0.891779  ...             0.925761           -0.919030   \n",
       "Chile                 -0.955864  ...             0.102632           -0.911129   \n",
       "San Marino                  NaN  ...             0.333934            0.001470   \n",
       "Singapore             -0.964077  ...            -0.444154                 NaN   \n",
       "...                         ...  ...                  ...                 ...   \n",
       "Uruguay               -0.816982  ...             0.837996           -0.911606   \n",
       "Myanmar               -0.954086  ...            -0.544811           -0.941386   \n",
       "Austria               -0.672080  ...             0.145298            0.842808   \n",
       "Comoros               -0.944990  ...            -0.698759           -0.669837   \n",
       "Madagascar            -0.963204  ...            -0.967226           -0.944561   \n",
       "\n",
       "            Civil Liberties  Freedom of Expression  % Healthcare Investment  \\\n",
       "Lebanon            0.890831               0.634427                 0.896726   \n",
       "Mongolia          -0.779568              -0.679556                -0.795143   \n",
       "Chile              0.292348              -0.335626                 0.877975   \n",
       "San Marino              NaN                    NaN                -0.198150   \n",
       "Singapore         -0.353507               0.866337                 0.958775   \n",
       "...                     ...                    ...                      ...   \n",
       "Uruguay           -0.291775               0.457307                 0.819461   \n",
       "Myanmar            0.932649               0.951070                 0.726087   \n",
       "Austria           -0.356982              -0.406429                 0.767288   \n",
       "Comoros            0.469369               0.268741                -0.530582   \n",
       "Madagascar        -0.334297              -0.278199                 0.012878   \n",
       "\n",
       "            % Employment Industry  % Education Expenditure  % Men Employment  \\\n",
       "Lebanon                  0.899102                      NaN               NaN   \n",
       "Mongolia                 0.970238                      NaN               NaN   \n",
       "Chile                    0.029696                 0.793805          0.335628   \n",
       "San Marino                    NaN                      NaN               NaN   \n",
       "Singapore               -0.864015                      NaN               NaN   \n",
       "...                           ...                      ...               ...   \n",
       "Uruguay                 -0.823795                      NaN               NaN   \n",
       "Myanmar                  0.899596                      NaN               NaN   \n",
       "Austria                 -0.902411                 0.172537         -0.544896   \n",
       "Comoros                 -0.885866                      NaN               NaN   \n",
       "Madagascar               0.718184                 0.500264               NaN   \n",
       "\n",
       "            % Women Employment  Population  \n",
       "Lebanon                    NaN    0.958025  \n",
       "Mongolia                   NaN    0.938037  \n",
       "Chile                 0.985091    0.918629  \n",
       "San Marino                 NaN   -0.004386  \n",
       "Singapore                  NaN    0.990639  \n",
       "...                        ...         ...  \n",
       "Uruguay                    NaN    0.899639  \n",
       "Myanmar                    NaN    0.947493  \n",
       "Austria               0.901465    0.789386  \n",
       "Comoros                    NaN    0.929551  \n",
       "Madagascar                 NaN    0.943587  \n",
       "\n",
       "[179 rows x 21 columns]"
      ]
     },
     "execution_count": 2,
     "metadata": {},
     "output_type": "execute_result"
    }
   ],
   "source": [
    "#One dataframe per country\n",
    "\n",
    "df= pd.read_csv (os.getcwd()+'/Output/GoldDataframe.csv')\n",
    "corr_df = pd.DataFrame()\n",
    "corr_df.index.names = ['Country']\n",
    "aux_df = pd.DataFrame()\n",
    "\n",
    "#List all the countries, none repeated\n",
    "countries = set(df['Country'].to_list())\n",
    "\n",
    "country_dict = {}\n",
    "corr_dict = {}\n",
    "\n",
    "for country in countries:\n",
    "\n",
    "    #Get the DataFrame for a given country\n",
    "    country_df = df.loc[df['Country'] == country]\n",
    "\n",
    "    #Correlation matrix for that country\n",
    "    country_corr_df = country_df.corr()\n",
    "\n",
    "    #Trim it into a single row\n",
    "    country_corr_df = country_corr_df.rename(columns = {'GDP': country}).drop(index = ['Year', 'GDP'])\n",
    "\n",
    "    #Add the row to a new DataFrame with the correlations for each country\n",
    "    corr_df = pd.concat([corr_df, country_corr_df[country]], axis = 1)\n",
    "\n",
    "#Transpose the resulting DataFrame to have the desired format and show it\n",
    "corr_df = corr_df.transpose()\n",
    "corr_df\n"
   ]
  },
  {
   "cell_type": "code",
   "execution_count": 3,
   "metadata": {},
   "outputs": [
    {
     "data": {
      "application/vnd.jupyter.widget-view+json": {
       "model_id": "e57b61a5b52b44ac87cae94494e95221",
       "version_major": 2,
       "version_minor": 0
      },
      "text/plain": [
       "interactive(children=(SelectMultiple(description='Indicator', index=(0,), layout=Layout(height='80px', width='…"
      ]
     },
     "metadata": {},
     "output_type": "display_data"
    },
    {
     "data": {
      "application/vnd.plotly.v1+json": {
       "config": {
        "plotlyServerURL": "https://plot.ly"
       },
       "data": [
        {
         "coloraxis": "coloraxis",
         "geo": "geo",
         "hovertemplate": "index=%{location}<br>AgriShareGDP=%{z}<extra></extra>",
         "locationmode": "country names",
         "locations": [
          "Lebanon",
          "Mongolia",
          "Chile",
          "San Marino",
          "Singapore",
          "Sri Lanka",
          "Italy",
          "Senegal",
          "Jamaica",
          "Malaysia",
          "Croatia",
          "Congo",
          "Lesotho",
          "Zimbabwe",
          "Guatemala",
          "India",
          "Liberia",
          "Poland",
          "Slovenia",
          "Norway",
          "Antigua and Barbuda",
          "Thailand",
          "Albania",
          "South Sudan",
          "Guyana",
          "Kuwait",
          "Somalia",
          "Germany",
          "Kiribati",
          "Morocco",
          "Saint Lucia",
          "Iceland",
          "Argentina",
          "Montenegro",
          "Sudan",
          "Slovakia",
          "Nauru",
          "United Kingdom",
          "Netherlands",
          "Switzerland",
          "Luxembourg",
          "Tunisia",
          "Pakistan",
          "Bosnia and Herzegovina",
          "Papua New Guinea",
          "Iraq",
          "Gabon",
          "Kenya",
          "Yemen",
          "Brazil",
          "Malta",
          "Costa Rica",
          "Japan",
          "Sierra Leone",
          "Nepal",
          "Angola",
          "Cuba",
          "Djibouti",
          "Ecuador",
          "Greenland",
          "Mozambique",
          "Niger",
          "Burkina Faso",
          "Jordan",
          "Mali",
          "Gambia",
          "Fiji",
          "Russia",
          "Finland",
          "Togo",
          "Namibia",
          "Saudi Arabia",
          "China",
          "Botswana",
          "Central African Republic",
          "Australia",
          "Israel",
          "Denmark",
          "Peru",
          "El Salvador",
          "Belarus",
          "United States",
          "Serbia",
          "United Arab Emirates",
          "Colombia",
          "Georgia",
          "Egypt",
          "Malawi",
          "Samoa",
          "Dominican Republic",
          "Mauritius",
          "Spain",
          "Kazakhstan",
          "Romania",
          "French Polynesia",
          "Guinea",
          "Trinidad and Tobago",
          "Cyprus",
          "Bermuda",
          "Rwanda",
          "Cameroon",
          "Indonesia",
          "Mauritania",
          "Ukraine",
          "Belize",
          "Barbados",
          "Azerbaijan",
          "Suriname",
          "Czechia",
          "Kyrgyzstan",
          "Benin",
          "Seychelles",
          "Vanuatu",
          "Tonga",
          "Aruba",
          "Equatorial Guinea",
          "New Caledonia",
          "Bahrain",
          "Dominica",
          "Puerto Rico",
          "Portugal",
          "Sweden",
          "Haiti",
          "Afghanistan",
          "Oman",
          "Hungary",
          "Sao Tome and Principe",
          "Ghana",
          "Libya",
          "Burundi",
          "Lithuania",
          "Nigeria",
          "Marshall Islands",
          "Bhutan",
          "Eswatini",
          "Tuvalu",
          "Chad",
          "North Macedonia",
          "Cayman Islands",
          "Greece",
          "Cambodia",
          "Honduras",
          "Paraguay",
          "Qatar",
          "Armenia",
          "Guinea-Bissau",
          "Liechtenstein",
          "Bulgaria",
          "Panama",
          "Eritrea",
          "Andorra",
          "New Zealand",
          "Solomon Islands",
          "Algeria",
          "Ethiopia",
          "Canada",
          "Tajikistan",
          "Mexico",
          "Belgium",
          "Maldives",
          "Turkmenistan",
          "Estonia",
          "France",
          "Grenada",
          "Latvia",
          "Nicaragua",
          "South Africa",
          "Ireland",
          "Palau",
          "Uzbekistan",
          "Zambia",
          "Philippines",
          "Bangladesh",
          "Uganda",
          "Uruguay",
          "Myanmar",
          "Austria",
          "Comoros",
          "Madagascar"
         ],
         "name": "",
         "type": "choropleth",
         "z": [
          -0.503101313242976,
          -0.8355217345279581,
          -0.8374628674303137,
          0.06584950093930352,
          -0.8927550621050807,
          -0.6031364214233185,
          -0.8820808398131004,
          -0.06415712286442721,
          0.3936404788192563,
          -0.05799405968765384,
          -0.713594624166334,
          -0.6362752332249866,
          -0.800495784861207,
          -0.674981469076645,
          -0.910783581293827,
          -0.700649507092263,
          -0.19164420133785307,
          -0.5104884920594763,
          -0.8631718214807295,
          -0.14353291554326994,
          0.1240682496625928,
          0.03681014117421503,
          -0.7213763707469719,
          null,
          -0.8095978580774993,
          -0.216973472969378,
          -0.08070561376728035,
          -0.565806539276942,
          0.6441786963795697,
          -0.42151315976729525,
          -0.8437032161877829,
          -0.9314906398719144,
          -0.5034609536804338,
          -0.9250468161036534,
          null,
          0.546178642978574,
          -0.9432697722260653,
          -0.716390085534926,
          -0.9279197943938866,
          -0.9267462935060482,
          -0.9084049485084351,
          -0.11240984433863804,
          -0.3564374169269262,
          -0.890388711927548,
          -0.9062326254496571,
          -0.7932788342898283,
          -0.7019760365914864,
          0.929395604705077,
          0.07771098793417787,
          -0.6824726955116254,
          -0.9712198891595265,
          -0.9836031733548807,
          -0.4918021235272721,
          0.6343035981396866,
          -0.8758891199022157,
          0.24450512087313336,
          -0.7411778615096978,
          -0.9037244864916116,
          -0.7215009939786482,
          0.015425452701193196,
          0.5677661615395543,
          -0.4406847469701758,
          -0.7751609152889536,
          0.9292437594281578,
          0.8168640617370294,
          -0.5040785343058328,
          -0.42454006505696285,
          -0.9306417343797083,
          -0.6844897662727807,
          -0.8234424931464022,
          -0.7955630866641139,
          -0.8954205369814583,
          null,
          -0.5247023240976855,
          -0.6508918168523262,
          -0.7812355938750303,
          -0.7777787590746487,
          -0.768554121585154,
          -0.322646527474029,
          -0.4863337520474014,
          -0.7406875567638112,
          -0.169931328254077,
          -0.7938048760063402,
          -0.9279434164823261,
          -0.9287236078660797,
          -0.9508662246185998,
          -0.5143855567867214,
          -0.839805329038585,
          -0.9520872058064423,
          -0.8988548560906199,
          -0.9680608365989137,
          -0.9246020681684352,
          -0.9136350482950665,
          -0.9374688324008857,
          -0.833534845066142,
          0.4981590975526931,
          -0.8083567434722658,
          -0.9199037030067883,
          -0.8521168107283245,
          -0.8203148473144741,
          -0.18613061166870498,
          -0.052732060454409355,
          -0.6962296775129467,
          -0.7796743745253912,
          -0.6064329687837003,
          -0.8935594731221601,
          -0.8581621857504442,
          -0.8018750496047906,
          -0.6222328038675436,
          -0.8310736040825246,
          0.5585501439003824,
          -0.7416434293602443,
          -0.18856175434640862,
          -0.1788512484648285,
          0.3741649727817593,
          -0.8486192959235674,
          -0.5905723882687031,
          -0.7800474945395834,
          0.6771268988188248,
          0.5731166325165244,
          -0.9370489810725439,
          -0.6939308578106985,
          -0.5119431587894402,
          -0.8702332125359779,
          -0.30595282970630217,
          -0.7856366651656908,
          -0.7292752475891066,
          -0.8986316649951261,
          -0.535871362042077,
          -0.3496495655232733,
          -0.8353353151260893,
          -0.7416626489049046,
          0.7356448962507441,
          -0.8025977498851751,
          -0.8020291724807224,
          0.2001302170135677,
          -0.5438517653153988,
          -0.4533358395612625,
          0.8329453438889185,
          -0.8541526771526231,
          -0.8189385846768551,
          -0.16265315958888382,
          0.12020046388224769,
          -0.5437859823468949,
          -0.8594781938426445,
          0.41629981975830316,
          -0.7033535847829139,
          -0.9575448068063352,
          -0.9325517979342587,
          0.08233872730476581,
          0.03750664329868265,
          -0.3901300466124,
          -0.3991969835189398,
          0.13775097173642994,
          -0.7427944720312178,
          -0.6032401543385976,
          -0.11816046448941489,
          -0.15110982788610094,
          -0.9291809511372993,
          -0.35871070546205086,
          -0.9165808027323511,
          -0.630469765190067,
          -0.8641423065584387,
          0.16028226101681153,
          -0.7708455187171825,
          -0.3141050792765419,
          -0.8427968232002708,
          -0.7218655963258508,
          -0.9558679200949804,
          -0.8332276663583743,
          -0.8459189655045559,
          -0.8991487437017284,
          -0.9076013100731348,
          -0.5524986567664869,
          -0.5769315589389916,
          -0.9678699960054002,
          -0.8285363932508436,
          -0.5927549619729722,
          -0.8569135424696452
         ]
        }
       ],
       "layout": {
        "coloraxis": {
         "colorbar": {
          "title": {
           "text": "AgriShareGDP"
          }
         },
         "colorscale": [
          [
           0,
           "rgb(255,245,240)"
          ],
          [
           0.125,
           "rgb(254,224,210)"
          ],
          [
           0.25,
           "rgb(252,187,161)"
          ],
          [
           0.375,
           "rgb(252,146,114)"
          ],
          [
           0.5,
           "rgb(251,106,74)"
          ],
          [
           0.625,
           "rgb(239,59,44)"
          ],
          [
           0.75,
           "rgb(203,24,29)"
          ],
          [
           0.875,
           "rgb(165,15,21)"
          ],
          [
           1,
           "rgb(103,0,13)"
          ]
         ],
         "showscale": true
        },
        "geo": {
         "center": {},
         "domain": {
          "x": [
           0,
           1
          ],
          "y": [
           0,
           1
          ]
         },
         "projection": {
          "type": "natural earth"
         }
        },
        "height": 500,
        "legend": {
         "tracegroupgap": 0
        },
        "margin": {
         "t": 60
        },
        "template": {
         "data": {
          "bar": [
           {
            "error_x": {
             "color": "#2a3f5f"
            },
            "error_y": {
             "color": "#2a3f5f"
            },
            "marker": {
             "line": {
              "color": "#E5ECF6",
              "width": 0.5
             },
             "pattern": {
              "fillmode": "overlay",
              "size": 10,
              "solidity": 0.2
             }
            },
            "type": "bar"
           }
          ],
          "barpolar": [
           {
            "marker": {
             "line": {
              "color": "#E5ECF6",
              "width": 0.5
             },
             "pattern": {
              "fillmode": "overlay",
              "size": 10,
              "solidity": 0.2
             }
            },
            "type": "barpolar"
           }
          ],
          "carpet": [
           {
            "aaxis": {
             "endlinecolor": "#2a3f5f",
             "gridcolor": "white",
             "linecolor": "white",
             "minorgridcolor": "white",
             "startlinecolor": "#2a3f5f"
            },
            "baxis": {
             "endlinecolor": "#2a3f5f",
             "gridcolor": "white",
             "linecolor": "white",
             "minorgridcolor": "white",
             "startlinecolor": "#2a3f5f"
            },
            "type": "carpet"
           }
          ],
          "choropleth": [
           {
            "colorbar": {
             "outlinewidth": 0,
             "ticks": ""
            },
            "type": "choropleth"
           }
          ],
          "contour": [
           {
            "colorbar": {
             "outlinewidth": 0,
             "ticks": ""
            },
            "colorscale": [
             [
              0,
              "#0d0887"
             ],
             [
              0.1111111111111111,
              "#46039f"
             ],
             [
              0.2222222222222222,
              "#7201a8"
             ],
             [
              0.3333333333333333,
              "#9c179e"
             ],
             [
              0.4444444444444444,
              "#bd3786"
             ],
             [
              0.5555555555555556,
              "#d8576b"
             ],
             [
              0.6666666666666666,
              "#ed7953"
             ],
             [
              0.7777777777777778,
              "#fb9f3a"
             ],
             [
              0.8888888888888888,
              "#fdca26"
             ],
             [
              1,
              "#f0f921"
             ]
            ],
            "type": "contour"
           }
          ],
          "contourcarpet": [
           {
            "colorbar": {
             "outlinewidth": 0,
             "ticks": ""
            },
            "type": "contourcarpet"
           }
          ],
          "heatmap": [
           {
            "colorbar": {
             "outlinewidth": 0,
             "ticks": ""
            },
            "colorscale": [
             [
              0,
              "#0d0887"
             ],
             [
              0.1111111111111111,
              "#46039f"
             ],
             [
              0.2222222222222222,
              "#7201a8"
             ],
             [
              0.3333333333333333,
              "#9c179e"
             ],
             [
              0.4444444444444444,
              "#bd3786"
             ],
             [
              0.5555555555555556,
              "#d8576b"
             ],
             [
              0.6666666666666666,
              "#ed7953"
             ],
             [
              0.7777777777777778,
              "#fb9f3a"
             ],
             [
              0.8888888888888888,
              "#fdca26"
             ],
             [
              1,
              "#f0f921"
             ]
            ],
            "type": "heatmap"
           }
          ],
          "heatmapgl": [
           {
            "colorbar": {
             "outlinewidth": 0,
             "ticks": ""
            },
            "colorscale": [
             [
              0,
              "#0d0887"
             ],
             [
              0.1111111111111111,
              "#46039f"
             ],
             [
              0.2222222222222222,
              "#7201a8"
             ],
             [
              0.3333333333333333,
              "#9c179e"
             ],
             [
              0.4444444444444444,
              "#bd3786"
             ],
             [
              0.5555555555555556,
              "#d8576b"
             ],
             [
              0.6666666666666666,
              "#ed7953"
             ],
             [
              0.7777777777777778,
              "#fb9f3a"
             ],
             [
              0.8888888888888888,
              "#fdca26"
             ],
             [
              1,
              "#f0f921"
             ]
            ],
            "type": "heatmapgl"
           }
          ],
          "histogram": [
           {
            "marker": {
             "pattern": {
              "fillmode": "overlay",
              "size": 10,
              "solidity": 0.2
             }
            },
            "type": "histogram"
           }
          ],
          "histogram2d": [
           {
            "colorbar": {
             "outlinewidth": 0,
             "ticks": ""
            },
            "colorscale": [
             [
              0,
              "#0d0887"
             ],
             [
              0.1111111111111111,
              "#46039f"
             ],
             [
              0.2222222222222222,
              "#7201a8"
             ],
             [
              0.3333333333333333,
              "#9c179e"
             ],
             [
              0.4444444444444444,
              "#bd3786"
             ],
             [
              0.5555555555555556,
              "#d8576b"
             ],
             [
              0.6666666666666666,
              "#ed7953"
             ],
             [
              0.7777777777777778,
              "#fb9f3a"
             ],
             [
              0.8888888888888888,
              "#fdca26"
             ],
             [
              1,
              "#f0f921"
             ]
            ],
            "type": "histogram2d"
           }
          ],
          "histogram2dcontour": [
           {
            "colorbar": {
             "outlinewidth": 0,
             "ticks": ""
            },
            "colorscale": [
             [
              0,
              "#0d0887"
             ],
             [
              0.1111111111111111,
              "#46039f"
             ],
             [
              0.2222222222222222,
              "#7201a8"
             ],
             [
              0.3333333333333333,
              "#9c179e"
             ],
             [
              0.4444444444444444,
              "#bd3786"
             ],
             [
              0.5555555555555556,
              "#d8576b"
             ],
             [
              0.6666666666666666,
              "#ed7953"
             ],
             [
              0.7777777777777778,
              "#fb9f3a"
             ],
             [
              0.8888888888888888,
              "#fdca26"
             ],
             [
              1,
              "#f0f921"
             ]
            ],
            "type": "histogram2dcontour"
           }
          ],
          "mesh3d": [
           {
            "colorbar": {
             "outlinewidth": 0,
             "ticks": ""
            },
            "type": "mesh3d"
           }
          ],
          "parcoords": [
           {
            "line": {
             "colorbar": {
              "outlinewidth": 0,
              "ticks": ""
             }
            },
            "type": "parcoords"
           }
          ],
          "pie": [
           {
            "automargin": true,
            "type": "pie"
           }
          ],
          "scatter": [
           {
            "fillpattern": {
             "fillmode": "overlay",
             "size": 10,
             "solidity": 0.2
            },
            "type": "scatter"
           }
          ],
          "scatter3d": [
           {
            "line": {
             "colorbar": {
              "outlinewidth": 0,
              "ticks": ""
             }
            },
            "marker": {
             "colorbar": {
              "outlinewidth": 0,
              "ticks": ""
             }
            },
            "type": "scatter3d"
           }
          ],
          "scattercarpet": [
           {
            "marker": {
             "colorbar": {
              "outlinewidth": 0,
              "ticks": ""
             }
            },
            "type": "scattercarpet"
           }
          ],
          "scattergeo": [
           {
            "marker": {
             "colorbar": {
              "outlinewidth": 0,
              "ticks": ""
             }
            },
            "type": "scattergeo"
           }
          ],
          "scattergl": [
           {
            "marker": {
             "colorbar": {
              "outlinewidth": 0,
              "ticks": ""
             }
            },
            "type": "scattergl"
           }
          ],
          "scattermapbox": [
           {
            "marker": {
             "colorbar": {
              "outlinewidth": 0,
              "ticks": ""
             }
            },
            "type": "scattermapbox"
           }
          ],
          "scatterpolar": [
           {
            "marker": {
             "colorbar": {
              "outlinewidth": 0,
              "ticks": ""
             }
            },
            "type": "scatterpolar"
           }
          ],
          "scatterpolargl": [
           {
            "marker": {
             "colorbar": {
              "outlinewidth": 0,
              "ticks": ""
             }
            },
            "type": "scatterpolargl"
           }
          ],
          "scatterternary": [
           {
            "marker": {
             "colorbar": {
              "outlinewidth": 0,
              "ticks": ""
             }
            },
            "type": "scatterternary"
           }
          ],
          "surface": [
           {
            "colorbar": {
             "outlinewidth": 0,
             "ticks": ""
            },
            "colorscale": [
             [
              0,
              "#0d0887"
             ],
             [
              0.1111111111111111,
              "#46039f"
             ],
             [
              0.2222222222222222,
              "#7201a8"
             ],
             [
              0.3333333333333333,
              "#9c179e"
             ],
             [
              0.4444444444444444,
              "#bd3786"
             ],
             [
              0.5555555555555556,
              "#d8576b"
             ],
             [
              0.6666666666666666,
              "#ed7953"
             ],
             [
              0.7777777777777778,
              "#fb9f3a"
             ],
             [
              0.8888888888888888,
              "#fdca26"
             ],
             [
              1,
              "#f0f921"
             ]
            ],
            "type": "surface"
           }
          ],
          "table": [
           {
            "cells": {
             "fill": {
              "color": "#EBF0F8"
             },
             "line": {
              "color": "white"
             }
            },
            "header": {
             "fill": {
              "color": "#C8D4E3"
             },
             "line": {
              "color": "white"
             }
            },
            "type": "table"
           }
          ]
         },
         "layout": {
          "annotationdefaults": {
           "arrowcolor": "#2a3f5f",
           "arrowhead": 0,
           "arrowwidth": 1
          },
          "autotypenumbers": "strict",
          "coloraxis": {
           "colorbar": {
            "outlinewidth": 0,
            "ticks": ""
           }
          },
          "colorscale": {
           "diverging": [
            [
             0,
             "#8e0152"
            ],
            [
             0.1,
             "#c51b7d"
            ],
            [
             0.2,
             "#de77ae"
            ],
            [
             0.3,
             "#f1b6da"
            ],
            [
             0.4,
             "#fde0ef"
            ],
            [
             0.5,
             "#f7f7f7"
            ],
            [
             0.6,
             "#e6f5d0"
            ],
            [
             0.7,
             "#b8e186"
            ],
            [
             0.8,
             "#7fbc41"
            ],
            [
             0.9,
             "#4d9221"
            ],
            [
             1,
             "#276419"
            ]
           ],
           "sequential": [
            [
             0,
             "#0d0887"
            ],
            [
             0.1111111111111111,
             "#46039f"
            ],
            [
             0.2222222222222222,
             "#7201a8"
            ],
            [
             0.3333333333333333,
             "#9c179e"
            ],
            [
             0.4444444444444444,
             "#bd3786"
            ],
            [
             0.5555555555555556,
             "#d8576b"
            ],
            [
             0.6666666666666666,
             "#ed7953"
            ],
            [
             0.7777777777777778,
             "#fb9f3a"
            ],
            [
             0.8888888888888888,
             "#fdca26"
            ],
            [
             1,
             "#f0f921"
            ]
           ],
           "sequentialminus": [
            [
             0,
             "#0d0887"
            ],
            [
             0.1111111111111111,
             "#46039f"
            ],
            [
             0.2222222222222222,
             "#7201a8"
            ],
            [
             0.3333333333333333,
             "#9c179e"
            ],
            [
             0.4444444444444444,
             "#bd3786"
            ],
            [
             0.5555555555555556,
             "#d8576b"
            ],
            [
             0.6666666666666666,
             "#ed7953"
            ],
            [
             0.7777777777777778,
             "#fb9f3a"
            ],
            [
             0.8888888888888888,
             "#fdca26"
            ],
            [
             1,
             "#f0f921"
            ]
           ]
          },
          "colorway": [
           "#636efa",
           "#EF553B",
           "#00cc96",
           "#ab63fa",
           "#FFA15A",
           "#19d3f3",
           "#FF6692",
           "#B6E880",
           "#FF97FF",
           "#FECB52"
          ],
          "font": {
           "color": "#2a3f5f"
          },
          "geo": {
           "bgcolor": "white",
           "lakecolor": "white",
           "landcolor": "#E5ECF6",
           "showlakes": true,
           "showland": true,
           "subunitcolor": "white"
          },
          "hoverlabel": {
           "align": "left"
          },
          "hovermode": "closest",
          "mapbox": {
           "style": "light"
          },
          "paper_bgcolor": "white",
          "plot_bgcolor": "#E5ECF6",
          "polar": {
           "angularaxis": {
            "gridcolor": "white",
            "linecolor": "white",
            "ticks": ""
           },
           "bgcolor": "#E5ECF6",
           "radialaxis": {
            "gridcolor": "white",
            "linecolor": "white",
            "ticks": ""
           }
          },
          "scene": {
           "xaxis": {
            "backgroundcolor": "#E5ECF6",
            "gridcolor": "white",
            "gridwidth": 2,
            "linecolor": "white",
            "showbackground": true,
            "ticks": "",
            "zerolinecolor": "white"
           },
           "yaxis": {
            "backgroundcolor": "#E5ECF6",
            "gridcolor": "white",
            "gridwidth": 2,
            "linecolor": "white",
            "showbackground": true,
            "ticks": "",
            "zerolinecolor": "white"
           },
           "zaxis": {
            "backgroundcolor": "#E5ECF6",
            "gridcolor": "white",
            "gridwidth": 2,
            "linecolor": "white",
            "showbackground": true,
            "ticks": "",
            "zerolinecolor": "white"
           }
          },
          "shapedefaults": {
           "line": {
            "color": "#2a3f5f"
           }
          },
          "ternary": {
           "aaxis": {
            "gridcolor": "white",
            "linecolor": "white",
            "ticks": ""
           },
           "baxis": {
            "gridcolor": "white",
            "linecolor": "white",
            "ticks": ""
           },
           "bgcolor": "#E5ECF6",
           "caxis": {
            "gridcolor": "white",
            "linecolor": "white",
            "ticks": ""
           }
          },
          "title": {
           "x": 0.05
          },
          "xaxis": {
           "automargin": true,
           "gridcolor": "white",
           "linecolor": "white",
           "ticks": "",
           "title": {
            "standoff": 15
           },
           "zerolinecolor": "white",
           "zerolinewidth": 2
          },
          "yaxis": {
           "automargin": true,
           "gridcolor": "white",
           "linecolor": "white",
           "ticks": "",
           "title": {
            "standoff": 15
           },
           "zerolinecolor": "white",
           "zerolinewidth": 2
          }
         }
        },
        "width": 700
       }
      }
     },
     "metadata": {},
     "output_type": "display_data"
    }
   ],
   "source": [
    "import ipywidgets as widgets\n",
    "import plotly.express as px\n",
    "\n",
    "\n",
    "indicator = widgets.SelectMultiple(\n",
    "    options = corr_df.columns.tolist(),\n",
    "    value = ['AgriShareGDP'],\n",
    "    description='Indicator',\n",
    "    disabled=False,\n",
    "    layout = Layout(width='50%', height='80px')\n",
    ")\n",
    "\n",
    "\n",
    "def globalGrapgh(indicator):\n",
    "    fig = px.choropleth(corr_df, locations = corr_df.index, locationmode='country names', \n",
    "                        color= indicator[0],projection=\"natural earth\",\n",
    "                        color_continuous_scale='Reds',\n",
    "                    width=700, height=500)\n",
    "    fig.update(layout_coloraxis_showscale=True)\n",
    "    fig.show()\n",
    "    \n",
    "    \n",
    "widgets.interactive(globalGrapgh, indicator = indicator) "
   ]
  },
  {
   "cell_type": "code",
   "execution_count": 4,
   "metadata": {},
   "outputs": [
    {
     "data": {
      "application/vnd.jupyter.widget-view+json": {
       "model_id": "35c0fb88b8dc4033bda432e2bf6bd902",
       "version_major": 2,
       "version_minor": 0
      },
      "text/plain": [
       "interactive(children=(Dropdown(description='Country', options=('Afghanistan', 'Albania', 'Algeria', 'Andorra',…"
      ]
     },
     "metadata": {},
     "output_type": "display_data"
    }
   ],
   "source": [
    "def tableOut(Threshold, Country):\n",
    "    \n",
    "    \"\"\" df = search_indicators(Threshold, corr_df)[Country]\n",
    "    df  = pd.merge(df, pvalue(Country), left_index=True, right_index=True, how = 'inner')\n",
    "    \n",
    "    \n",
    "    left = pd.Series([0.05], index=['P-value'])\n",
    "    left2 = pd.Series([-1], index=['GDP Correlation'])\n",
    "    left3 = pd.Series([0], index=['GDP Correlation'])\n",
    "    \n",
    "    df =df.style.highlight_between(left=left, right=1.5, axis=1, props='color:white; background-color:red;')\\\n",
    "        .highlight_between(left=left2, right=1.5, axis=1, props='color:white; background-color:#929bfc;')\\\n",
    "        .highlight_between(left=left3, right=1.5, axis=1, props='color:white; background-color:#b3b9ff;')\\\n",
    "        .format('{:,.4f}', subset = ['GDP Correlation'])\\\n",
    "        .format('{:,.12f}', subset = ['P-value'], ) \"\"\"\n",
    "\n",
    "    display(search(Threshold, corr_df))\n",
    "    \n",
    "\n",
    "@interact(\n",
    "    Country = sorted(corr_df.index.tolist()),\n",
    "    Threshold = (0, 1, 0.05))\n",
    "def g(Country = 'Afghanistan', Threshold = 0.7):\n",
    "    return tableOut(Threshold,Country)\n",
    "\n",
    "    \n",
    "        "
   ]
  },
  {
   "cell_type": "code",
   "execution_count": null,
   "metadata": {},
   "outputs": [],
   "source": []
  }
 ],
 "metadata": {
  "kernelspec": {
   "display_name": "Python 3.10.5 ('.venv': poetry)",
   "language": "python",
   "name": "python3"
  },
  "language_info": {
   "codemirror_mode": {
    "name": "ipython",
    "version": 3
   },
   "file_extension": ".py",
   "mimetype": "text/x-python",
   "name": "python",
   "nbconvert_exporter": "python",
   "pygments_lexer": "ipython3",
   "version": "3.10.5"
  },
  "orig_nbformat": 4,
  "vscode": {
   "interpreter": {
    "hash": "44718ba4235bc6fc2135f9d8856f170c8312ddd29b08710a5ea28d42169e623e"
   }
  }
 },
 "nbformat": 4,
 "nbformat_minor": 2
}
