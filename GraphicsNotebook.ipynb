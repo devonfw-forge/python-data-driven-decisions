{
 "cells": [
  {
   "cell_type": "markdown",
   "metadata": {},
   "source": [
    "# Visualize Notebook\n",
    "In this notebook the Gold Dataframe will be read and extract information of it. The objective is to see the correlations between the variables and the GDP and also what countries have the highest correlation value.\n"
   ]
  },
  {
   "cell_type": "markdown",
   "metadata": {},
   "source": [
    "## Imports\n",
    "Start importing all the libraries and also the methods of pvalue and search indicators that will be used later in the notebook."
   ]
  },
  {
   "cell_type": "code",
   "execution_count": 1,
   "metadata": {},
   "outputs": [],
   "source": [
    "import pandas as pd\n",
    "import matplotlib.pyplot as plt\n",
    "import numpy as np\n",
    "from scipy import stats\n",
    "from scipy.stats import shapiro\n",
    "import os\n",
    "import statistics\n",
    "import seaborn as sns\n",
    "from scipy.stats import norm\n",
    "\n",
    "import ipywidgets as widgets\n",
    "from ipywidgets import Layout\n",
    "from ipywidgets import interact, interact_manual\n",
    "from Project.Utils.visualize import  search\n"
   ]
  },
  {
   "cell_type": "markdown",
   "metadata": {},
   "source": [
    "## Correlation dataframe.\n",
    "This dataframe is the main piece of the notebook. Consists in generating for every country the correlation matrix for it and saving only the correlation value of the different variables with the GDP. Later on is concatenated and generates the following result:"
   ]
  },
  {
   "cell_type": "code",
   "execution_count": 2,
   "metadata": {},
   "outputs": [
    {
     "data": {
      "text/html": [
       "<div>\n",
       "<style scoped>\n",
       "    .dataframe tbody tr th:only-of-type {\n",
       "        vertical-align: middle;\n",
       "    }\n",
       "\n",
       "    .dataframe tbody tr th {\n",
       "        vertical-align: top;\n",
       "    }\n",
       "\n",
       "    .dataframe thead th {\n",
       "        text-align: right;\n",
       "    }\n",
       "</style>\n",
       "<table border=\"1\" class=\"dataframe\">\n",
       "  <thead>\n",
       "    <tr style=\"text-align: right;\">\n",
       "      <th></th>\n",
       "      <th>AgriShareGDP</th>\n",
       "      <th>CreditToAgriFishForest</th>\n",
       "      <th>EmploymentRural</th>\n",
       "      <th>TotalAgri</th>\n",
       "      <th>% Soldiers</th>\n",
       "      <th>Birth Rate</th>\n",
       "      <th>Death Rate</th>\n",
       "      <th>Homicides</th>\n",
       "      <th>Life Expectancy</th>\n",
       "      <th>Maternal Death Risk</th>\n",
       "      <th>...</th>\n",
       "      <th>% Population Growth</th>\n",
       "      <th>% Rural Population</th>\n",
       "      <th>Civil Liberties</th>\n",
       "      <th>Freedom of Expression</th>\n",
       "      <th>% Healthcare Investment</th>\n",
       "      <th>% Employment Industry</th>\n",
       "      <th>% Education Expenditure</th>\n",
       "      <th>% Men Employment</th>\n",
       "      <th>% Women Employment</th>\n",
       "      <th>Population</th>\n",
       "    </tr>\n",
       "  </thead>\n",
       "  <tbody>\n",
       "    <tr>\n",
       "      <th>Switzerland</th>\n",
       "      <td>-0.926746</td>\n",
       "      <td>0.899981</td>\n",
       "      <td>NaN</td>\n",
       "      <td>0.938234</td>\n",
       "      <td>-0.314830</td>\n",
       "      <td>0.271648</td>\n",
       "      <td>-0.875918</td>\n",
       "      <td>-0.917309</td>\n",
       "      <td>0.966205</td>\n",
       "      <td>-0.900268</td>\n",
       "      <td>...</td>\n",
       "      <td>0.576820</td>\n",
       "      <td>-0.933934</td>\n",
       "      <td>-0.138955</td>\n",
       "      <td>NaN</td>\n",
       "      <td>0.947935</td>\n",
       "      <td>-0.856593</td>\n",
       "      <td>-0.049844</td>\n",
       "      <td>-0.920018</td>\n",
       "      <td>0.808883</td>\n",
       "      <td>0.936869</td>\n",
       "    </tr>\n",
       "    <tr>\n",
       "      <th>Malaysia</th>\n",
       "      <td>-0.057994</td>\n",
       "      <td>0.055144</td>\n",
       "      <td>NaN</td>\n",
       "      <td>0.860665</td>\n",
       "      <td>-0.944179</td>\n",
       "      <td>-0.854599</td>\n",
       "      <td>0.852503</td>\n",
       "      <td>NaN</td>\n",
       "      <td>0.961953</td>\n",
       "      <td>-0.819080</td>\n",
       "      <td>...</td>\n",
       "      <td>-0.964197</td>\n",
       "      <td>-0.970563</td>\n",
       "      <td>0.619590</td>\n",
       "      <td>0.613580</td>\n",
       "      <td>0.888805</td>\n",
       "      <td>-0.878161</td>\n",
       "      <td>-0.379667</td>\n",
       "      <td>NaN</td>\n",
       "      <td>NaN</td>\n",
       "      <td>0.967304</td>\n",
       "    </tr>\n",
       "    <tr>\n",
       "      <th>Belize</th>\n",
       "      <td>-0.606433</td>\n",
       "      <td>0.585657</td>\n",
       "      <td>NaN</td>\n",
       "      <td>0.929205</td>\n",
       "      <td>-0.467308</td>\n",
       "      <td>-0.966932</td>\n",
       "      <td>-0.802729</td>\n",
       "      <td>0.729987</td>\n",
       "      <td>0.971239</td>\n",
       "      <td>-0.962953</td>\n",
       "      <td>...</td>\n",
       "      <td>-0.946497</td>\n",
       "      <td>-0.489393</td>\n",
       "      <td>NaN</td>\n",
       "      <td>NaN</td>\n",
       "      <td>0.812707</td>\n",
       "      <td>-0.475797</td>\n",
       "      <td>NaN</td>\n",
       "      <td>NaN</td>\n",
       "      <td>NaN</td>\n",
       "      <td>0.966144</td>\n",
       "    </tr>\n",
       "    <tr>\n",
       "      <th>San Marino</th>\n",
       "      <td>0.065850</td>\n",
       "      <td>NaN</td>\n",
       "      <td>NaN</td>\n",
       "      <td>NaN</td>\n",
       "      <td>NaN</td>\n",
       "      <td>0.357578</td>\n",
       "      <td>-0.162883</td>\n",
       "      <td>NaN</td>\n",
       "      <td>NaN</td>\n",
       "      <td>NaN</td>\n",
       "      <td>...</td>\n",
       "      <td>0.333934</td>\n",
       "      <td>0.001470</td>\n",
       "      <td>NaN</td>\n",
       "      <td>NaN</td>\n",
       "      <td>-0.198150</td>\n",
       "      <td>NaN</td>\n",
       "      <td>NaN</td>\n",
       "      <td>NaN</td>\n",
       "      <td>NaN</td>\n",
       "      <td>-0.004386</td>\n",
       "    </tr>\n",
       "    <tr>\n",
       "      <th>Tuvalu</th>\n",
       "      <td>0.200130</td>\n",
       "      <td>NaN</td>\n",
       "      <td>NaN</td>\n",
       "      <td>NaN</td>\n",
       "      <td>NaN</td>\n",
       "      <td>NaN</td>\n",
       "      <td>NaN</td>\n",
       "      <td>NaN</td>\n",
       "      <td>NaN</td>\n",
       "      <td>NaN</td>\n",
       "      <td>...</td>\n",
       "      <td>0.133886</td>\n",
       "      <td>-0.978989</td>\n",
       "      <td>NaN</td>\n",
       "      <td>NaN</td>\n",
       "      <td>0.298903</td>\n",
       "      <td>NaN</td>\n",
       "      <td>NaN</td>\n",
       "      <td>NaN</td>\n",
       "      <td>NaN</td>\n",
       "      <td>0.984535</td>\n",
       "    </tr>\n",
       "    <tr>\n",
       "      <th>...</th>\n",
       "      <td>...</td>\n",
       "      <td>...</td>\n",
       "      <td>...</td>\n",
       "      <td>...</td>\n",
       "      <td>...</td>\n",
       "      <td>...</td>\n",
       "      <td>...</td>\n",
       "      <td>...</td>\n",
       "      <td>...</td>\n",
       "      <td>...</td>\n",
       "      <td>...</td>\n",
       "      <td>...</td>\n",
       "      <td>...</td>\n",
       "      <td>...</td>\n",
       "      <td>...</td>\n",
       "      <td>...</td>\n",
       "      <td>...</td>\n",
       "      <td>...</td>\n",
       "      <td>...</td>\n",
       "      <td>...</td>\n",
       "      <td>...</td>\n",
       "    </tr>\n",
       "    <tr>\n",
       "      <th>Yemen</th>\n",
       "      <td>0.077711</td>\n",
       "      <td>0.277442</td>\n",
       "      <td>NaN</td>\n",
       "      <td>0.675176</td>\n",
       "      <td>-0.305362</td>\n",
       "      <td>NaN</td>\n",
       "      <td>NaN</td>\n",
       "      <td>NaN</td>\n",
       "      <td>NaN</td>\n",
       "      <td>NaN</td>\n",
       "      <td>...</td>\n",
       "      <td>NaN</td>\n",
       "      <td>NaN</td>\n",
       "      <td>-0.026794</td>\n",
       "      <td>0.080743</td>\n",
       "      <td>-0.784325</td>\n",
       "      <td>0.837351</td>\n",
       "      <td>NaN</td>\n",
       "      <td>NaN</td>\n",
       "      <td>NaN</td>\n",
       "      <td>0.595893</td>\n",
       "    </tr>\n",
       "    <tr>\n",
       "      <th>Mauritius</th>\n",
       "      <td>-0.968061</td>\n",
       "      <td>NaN</td>\n",
       "      <td>NaN</td>\n",
       "      <td>-0.214700</td>\n",
       "      <td>0.825267</td>\n",
       "      <td>-0.966671</td>\n",
       "      <td>0.820455</td>\n",
       "      <td>-0.322001</td>\n",
       "      <td>0.949731</td>\n",
       "      <td>-0.757616</td>\n",
       "      <td>...</td>\n",
       "      <td>-0.936105</td>\n",
       "      <td>0.961043</td>\n",
       "      <td>-0.499603</td>\n",
       "      <td>0.783910</td>\n",
       "      <td>0.740666</td>\n",
       "      <td>-0.875859</td>\n",
       "      <td>0.490636</td>\n",
       "      <td>NaN</td>\n",
       "      <td>NaN</td>\n",
       "      <td>0.951379</td>\n",
       "    </tr>\n",
       "    <tr>\n",
       "      <th>Philippines</th>\n",
       "      <td>-0.899149</td>\n",
       "      <td>-0.332771</td>\n",
       "      <td>NaN</td>\n",
       "      <td>0.938213</td>\n",
       "      <td>-0.937819</td>\n",
       "      <td>-0.988189</td>\n",
       "      <td>0.986778</td>\n",
       "      <td>0.194614</td>\n",
       "      <td>0.993256</td>\n",
       "      <td>-0.989782</td>\n",
       "      <td>...</td>\n",
       "      <td>-0.927512</td>\n",
       "      <td>-0.653935</td>\n",
       "      <td>-0.251800</td>\n",
       "      <td>-0.629247</td>\n",
       "      <td>0.789348</td>\n",
       "      <td>0.360977</td>\n",
       "      <td>NaN</td>\n",
       "      <td>0.120312</td>\n",
       "      <td>0.733025</td>\n",
       "      <td>0.987770</td>\n",
       "    </tr>\n",
       "    <tr>\n",
       "      <th>Slovakia</th>\n",
       "      <td>0.546179</td>\n",
       "      <td>NaN</td>\n",
       "      <td>NaN</td>\n",
       "      <td>0.823912</td>\n",
       "      <td>-0.638510</td>\n",
       "      <td>NaN</td>\n",
       "      <td>NaN</td>\n",
       "      <td>NaN</td>\n",
       "      <td>NaN</td>\n",
       "      <td>NaN</td>\n",
       "      <td>...</td>\n",
       "      <td>NaN</td>\n",
       "      <td>NaN</td>\n",
       "      <td>-0.466675</td>\n",
       "      <td>-0.347796</td>\n",
       "      <td>0.625439</td>\n",
       "      <td>-0.476850</td>\n",
       "      <td>0.053395</td>\n",
       "      <td>0.653098</td>\n",
       "      <td>0.582675</td>\n",
       "      <td>0.652635</td>\n",
       "    </tr>\n",
       "    <tr>\n",
       "      <th>Denmark</th>\n",
       "      <td>-0.768554</td>\n",
       "      <td>NaN</td>\n",
       "      <td>-0.129321</td>\n",
       "      <td>0.883355</td>\n",
       "      <td>-0.365167</td>\n",
       "      <td>-0.764788</td>\n",
       "      <td>-0.883294</td>\n",
       "      <td>-0.024219</td>\n",
       "      <td>0.829308</td>\n",
       "      <td>-0.855281</td>\n",
       "      <td>...</td>\n",
       "      <td>0.458152</td>\n",
       "      <td>-0.870860</td>\n",
       "      <td>-0.550383</td>\n",
       "      <td>-0.248873</td>\n",
       "      <td>0.877769</td>\n",
       "      <td>-0.814346</td>\n",
       "      <td>-0.343674</td>\n",
       "      <td>-0.652670</td>\n",
       "      <td>-0.421869</td>\n",
       "      <td>0.805430</td>\n",
       "    </tr>\n",
       "  </tbody>\n",
       "</table>\n",
       "<p>179 rows × 21 columns</p>\n",
       "</div>"
      ],
      "text/plain": [
       "             AgriShareGDP  CreditToAgriFishForest  EmploymentRural  TotalAgri  \\\n",
       "Switzerland     -0.926746                0.899981              NaN   0.938234   \n",
       "Malaysia        -0.057994                0.055144              NaN   0.860665   \n",
       "Belize          -0.606433                0.585657              NaN   0.929205   \n",
       "San Marino       0.065850                     NaN              NaN        NaN   \n",
       "Tuvalu           0.200130                     NaN              NaN        NaN   \n",
       "...                   ...                     ...              ...        ...   \n",
       "Yemen            0.077711                0.277442              NaN   0.675176   \n",
       "Mauritius       -0.968061                     NaN              NaN  -0.214700   \n",
       "Philippines     -0.899149               -0.332771              NaN   0.938213   \n",
       "Slovakia         0.546179                     NaN              NaN   0.823912   \n",
       "Denmark         -0.768554                     NaN        -0.129321   0.883355   \n",
       "\n",
       "             % Soldiers  Birth Rate  Death Rate  Homicides  Life Expectancy  \\\n",
       "Switzerland   -0.314830    0.271648   -0.875918  -0.917309         0.966205   \n",
       "Malaysia      -0.944179   -0.854599    0.852503        NaN         0.961953   \n",
       "Belize        -0.467308   -0.966932   -0.802729   0.729987         0.971239   \n",
       "San Marino          NaN    0.357578   -0.162883        NaN              NaN   \n",
       "Tuvalu              NaN         NaN         NaN        NaN              NaN   \n",
       "...                 ...         ...         ...        ...              ...   \n",
       "Yemen         -0.305362         NaN         NaN        NaN              NaN   \n",
       "Mauritius      0.825267   -0.966671    0.820455  -0.322001         0.949731   \n",
       "Philippines   -0.937819   -0.988189    0.986778   0.194614         0.993256   \n",
       "Slovakia      -0.638510         NaN         NaN        NaN              NaN   \n",
       "Denmark       -0.365167   -0.764788   -0.883294  -0.024219         0.829308   \n",
       "\n",
       "             Maternal Death Risk  ...  % Population Growth  \\\n",
       "Switzerland            -0.900268  ...             0.576820   \n",
       "Malaysia               -0.819080  ...            -0.964197   \n",
       "Belize                 -0.962953  ...            -0.946497   \n",
       "San Marino                   NaN  ...             0.333934   \n",
       "Tuvalu                       NaN  ...             0.133886   \n",
       "...                          ...  ...                  ...   \n",
       "Yemen                        NaN  ...                  NaN   \n",
       "Mauritius              -0.757616  ...            -0.936105   \n",
       "Philippines            -0.989782  ...            -0.927512   \n",
       "Slovakia                     NaN  ...                  NaN   \n",
       "Denmark                -0.855281  ...             0.458152   \n",
       "\n",
       "             % Rural Population  Civil Liberties  Freedom of Expression  \\\n",
       "Switzerland           -0.933934        -0.138955                    NaN   \n",
       "Malaysia              -0.970563         0.619590               0.613580   \n",
       "Belize                -0.489393              NaN                    NaN   \n",
       "San Marino             0.001470              NaN                    NaN   \n",
       "Tuvalu                -0.978989              NaN                    NaN   \n",
       "...                         ...              ...                    ...   \n",
       "Yemen                       NaN        -0.026794               0.080743   \n",
       "Mauritius              0.961043        -0.499603               0.783910   \n",
       "Philippines           -0.653935        -0.251800              -0.629247   \n",
       "Slovakia                    NaN        -0.466675              -0.347796   \n",
       "Denmark               -0.870860        -0.550383              -0.248873   \n",
       "\n",
       "             % Healthcare Investment  % Employment Industry  \\\n",
       "Switzerland                 0.947935              -0.856593   \n",
       "Malaysia                    0.888805              -0.878161   \n",
       "Belize                      0.812707              -0.475797   \n",
       "San Marino                 -0.198150                    NaN   \n",
       "Tuvalu                      0.298903                    NaN   \n",
       "...                              ...                    ...   \n",
       "Yemen                      -0.784325               0.837351   \n",
       "Mauritius                   0.740666              -0.875859   \n",
       "Philippines                 0.789348               0.360977   \n",
       "Slovakia                    0.625439              -0.476850   \n",
       "Denmark                     0.877769              -0.814346   \n",
       "\n",
       "             % Education Expenditure  % Men Employment  % Women Employment  \\\n",
       "Switzerland                -0.049844         -0.920018            0.808883   \n",
       "Malaysia                   -0.379667               NaN                 NaN   \n",
       "Belize                           NaN               NaN                 NaN   \n",
       "San Marino                       NaN               NaN                 NaN   \n",
       "Tuvalu                           NaN               NaN                 NaN   \n",
       "...                              ...               ...                 ...   \n",
       "Yemen                            NaN               NaN                 NaN   \n",
       "Mauritius                   0.490636               NaN                 NaN   \n",
       "Philippines                      NaN          0.120312            0.733025   \n",
       "Slovakia                    0.053395          0.653098            0.582675   \n",
       "Denmark                    -0.343674         -0.652670           -0.421869   \n",
       "\n",
       "             Population  \n",
       "Switzerland    0.936869  \n",
       "Malaysia       0.967304  \n",
       "Belize         0.966144  \n",
       "San Marino    -0.004386  \n",
       "Tuvalu         0.984535  \n",
       "...                 ...  \n",
       "Yemen          0.595893  \n",
       "Mauritius      0.951379  \n",
       "Philippines    0.987770  \n",
       "Slovakia       0.652635  \n",
       "Denmark        0.805430  \n",
       "\n",
       "[179 rows x 21 columns]"
      ]
     },
     "execution_count": 2,
     "metadata": {},
     "output_type": "execute_result"
    }
   ],
   "source": [
    "#One dataframe per country\n",
    "\n",
    "df= pd.read_csv (os.getcwd()+'/Output/GoldDataframe.csv')\n",
    "corr_df = pd.DataFrame()\n",
    "corr_df.index.names = ['Country']\n",
    "aux_df = pd.DataFrame()\n",
    "\n",
    "#List all the countries, none repeated\n",
    "countries = set(df['Country'].to_list())\n",
    "\n",
    "country_dict = {}\n",
    "corr_dict = {}\n",
    "\n",
    "for country in countries:\n",
    "\n",
    "    #Get the DataFrame for a given country\n",
    "    country_df = df.loc[df['Country'] == country]\n",
    "\n",
    "    #Correlation matrix for that country\n",
    "    country_corr_df = country_df.corr()\n",
    "\n",
    "    #Trim it into a single row\n",
    "    country_corr_df = country_corr_df.rename(columns = {'GDP': country}).drop(index = ['Year', 'GDP'])\n",
    "\n",
    "    #Add the row to a new DataFrame with the correlations for each country\n",
    "    corr_df = pd.concat([corr_df, country_corr_df[country]], axis = 1)\n",
    "\n",
    "#Transpose the resulting DataFrame to have the desired format and show it\n",
    "corr_df = corr_df.transpose()\n",
    "corr_df\n"
   ]
  },
  {
   "cell_type": "code",
   "execution_count": 3,
   "metadata": {},
   "outputs": [
    {
     "data": {
      "application/vnd.jupyter.widget-view+json": {
       "model_id": "87aac705b5aa486d86464470e32f4b14",
       "version_major": 2,
       "version_minor": 0
      },
      "text/plain": [
       "interactive(children=(SelectMultiple(description='Indicator', index=(0,), layout=Layout(height='80px', width='…"
      ]
     },
     "metadata": {},
     "output_type": "display_data"
    },
    {
     "data": {
      "application/vnd.plotly.v1+json": {
       "config": {
        "plotlyServerURL": "https://plot.ly"
       },
       "data": [
        {
         "coloraxis": "coloraxis",
         "geo": "geo",
         "hovertemplate": "index=%{location}<br>AgriShareGDP=%{z}<extra></extra>",
         "locationmode": "country names",
         "locations": [
          "Switzerland",
          "Malaysia",
          "Belize",
          "San Marino",
          "Tuvalu",
          "Spain",
          "Poland",
          "Algeria",
          "Italy",
          "Palau",
          "Papua New Guinea",
          "India",
          "Argentina",
          "Sierra Leone",
          "Iceland",
          "Oman",
          "Andorra",
          "Suriname",
          "Azerbaijan",
          "Luxembourg",
          "Jordan",
          "Dominica",
          "Eritrea",
          "Jamaica",
          "Slovenia",
          "Bahrain",
          "Morocco",
          "Kazakhstan",
          "China",
          "Equatorial Guinea",
          "Mali",
          "Seychelles",
          "Saint Lucia",
          "Fiji",
          "Lesotho",
          "Uganda",
          "Pakistan",
          "Comoros",
          "South Africa",
          "Mexico",
          "Tajikistan",
          "Guinea-Bissau",
          "Bulgaria",
          "Cyprus",
          "United States",
          "Kuwait",
          "Angola",
          "Vanuatu",
          "Trinidad and Tobago",
          "Tonga",
          "Russia",
          "Sudan",
          "Sweden",
          "Central African Republic",
          "Barbados",
          "Aruba",
          "El Salvador",
          "Eswatini",
          "Cameroon",
          "Chile",
          "Madagascar",
          "Tunisia",
          "Belgium",
          "Finland",
          "Uruguay",
          "Nauru",
          "Congo",
          "Israel",
          "New Caledonia",
          "Costa Rica",
          "Saudi Arabia",
          "Greece",
          "Bosnia and Herzegovina",
          "Chad",
          "Liechtenstein",
          "Serbia",
          "Namibia",
          "French Polynesia",
          "Estonia",
          "Hungary",
          "New Zealand",
          "Norway",
          "Botswana",
          "Ethiopia",
          "Nicaragua",
          "Lebanon",
          "Ukraine",
          "Rwanda",
          "Dominican Republic",
          "Guinea",
          "Austria",
          "Bermuda",
          "Cayman Islands",
          "Iraq",
          "Kyrgyzstan",
          "Egypt",
          "Latvia",
          "Myanmar",
          "Libya",
          "Portugal",
          "Paraguay",
          "Guatemala",
          "Mozambique",
          "Malta",
          "Romania",
          "Puerto Rico",
          "Antigua and Barbuda",
          "Indonesia",
          "United Arab Emirates",
          "Malawi",
          "Albania",
          "Sri Lanka",
          "Zimbabwe",
          "Panama",
          "Armenia",
          "Samoa",
          "Mauritania",
          "Senegal",
          "Somalia",
          "Afghanistan",
          "Ghana",
          "Haiti",
          "Australia",
          "Liberia",
          "Germany",
          "North Macedonia",
          "Gabon",
          "Colombia",
          "Marshall Islands",
          "Guyana",
          "Netherlands",
          "Grenada",
          "Bangladesh",
          "France",
          "Niger",
          "Croatia",
          "Turkmenistan",
          "Peru",
          "Kenya",
          "Togo",
          "Canada",
          "Uzbekistan",
          "Bhutan",
          "Djibouti",
          "Gambia",
          "Greenland",
          "Maldives",
          "Montenegro",
          "United Kingdom",
          "Thailand",
          "Nigeria",
          "Solomon Islands",
          "Nepal",
          "Mongolia",
          "Honduras",
          "Benin",
          "Brazil",
          "Kiribati",
          "Burundi",
          "Cambodia",
          "Czechia",
          "Zambia",
          "Ecuador",
          "Sao Tome and Principe",
          "Singapore",
          "Ireland",
          "South Sudan",
          "Japan",
          "Belarus",
          "Georgia",
          "Cuba",
          "Lithuania",
          "Burkina Faso",
          "Qatar",
          "Yemen",
          "Mauritius",
          "Philippines",
          "Slovakia",
          "Denmark"
         ],
         "name": "",
         "type": "choropleth",
         "z": [
          -0.9267462935060482,
          -0.05799405968765384,
          -0.6064329687837003,
          0.06584950093930352,
          0.2001302170135677,
          -0.9246020681684352,
          -0.5104884920594763,
          0.13775097173642994,
          -0.8820808398131004,
          -0.9558679200949804,
          -0.9062326254496571,
          -0.700649507092263,
          -0.5034609536804338,
          0.6343035981396866,
          -0.9314906398719144,
          -0.30595282970630217,
          0.03750664329868265,
          -0.8018750496047906,
          -0.8581621857504442,
          -0.9084049485084351,
          0.9292437594281578,
          0.6771268988188248,
          0.08233872730476581,
          0.3936404788192563,
          -0.8631718214807295,
          -0.7800474945395834,
          -0.42151315976729525,
          -0.9136350482950665,
          null,
          -0.8486192959235674,
          0.8168640617370294,
          -0.7416434293602443,
          -0.8437032161877829,
          -0.42454006505696285,
          -0.800495784861207,
          -0.5524986567664869,
          -0.3564374169269262,
          -0.5927549619729722,
          -0.8427968232002708,
          -0.15110982788610094,
          -0.11816046448941489,
          0.41629981975830316,
          -0.9575448068063352,
          -0.9199037030067883,
          -0.169931328254077,
          -0.216973472969378,
          0.24450512087313336,
          -0.18856175434640862,
          -0.8083567434722658,
          -0.1788512484648285,
          -0.9306417343797083,
          null,
          -0.6939308578106985,
          -0.6508918168523262,
          -0.8935594731221601,
          0.3741649727817593,
          -0.4863337520474014,
          -0.8020291724807224,
          -0.18613061166870498,
          -0.8374628674303137,
          -0.8569135424696452,
          -0.11240984433863804,
          -0.9291809511372993,
          -0.6844897662727807,
          -0.5769315589389916,
          -0.9432697722260653,
          -0.6362752332249866,
          -0.7777787590746487,
          -0.5905723882687031,
          -0.9836031733548807,
          -0.8954205369814583,
          -0.8541526771526231,
          -0.890388711927548,
          -0.5438517653153988,
          -0.7033535847829139,
          -0.7938048760063402,
          -0.7955630866641139,
          -0.833534845066142,
          -0.630469765190067,
          -0.7856366651656908,
          -0.3901300466124,
          -0.14353291554326994,
          -0.5247023240976855,
          -0.7427944720312178,
          -0.3141050792765419,
          -0.503101313242976,
          -0.7796743745253912,
          -0.8203148473144741,
          -0.8988548560906199,
          0.4981590975526931,
          -0.8285363932508436,
          -0.8521168107283245,
          0.8329453438889185,
          -0.7932788342898283,
          -0.8310736040825246,
          -0.5143855567867214,
          -0.7708455187171825,
          -0.9678699960054002,
          -0.535871362042077,
          -0.9370489810725439,
          0.12020046388224769,
          -0.910783581293827,
          0.5677661615395543,
          -0.9712198891595265,
          -0.9374688324008857,
          0.5731166325165244,
          0.1240682496625928,
          -0.052732060454409355,
          -0.9279434164823261,
          -0.839805329038585,
          -0.7213763707469719,
          -0.6031364214233185,
          -0.674981469076645,
          -0.9325517979342587,
          -0.8594781938426445,
          -0.9520872058064423,
          -0.6962296775129467,
          -0.06415712286442721,
          -0.08070561376728035,
          -0.8702332125359779,
          -0.8986316649951261,
          -0.5119431587894402,
          -0.7812355938750303,
          -0.19164420133785307,
          -0.565806539276942,
          -0.4533358395612625,
          -0.7019760365914864,
          -0.9287236078660797,
          0.7356448962507441,
          -0.8095978580774993,
          -0.9279197943938866,
          0.16028226101681153,
          -0.9076013100731348,
          -0.8641423065584387,
          -0.4406847469701758,
          -0.713594624166334,
          -0.9165808027323511,
          -0.322646527474029,
          0.929395604705077,
          -0.8234424931464022,
          -0.6032401543385976,
          -0.8332276663583743,
          -0.8025977498851751,
          -0.9037244864916116,
          -0.5040785343058328,
          0.015425452701193196,
          -0.35871070546205086,
          -0.9250468161036534,
          -0.716390085534926,
          0.03681014117421503,
          -0.7416626489049046,
          -0.3991969835189398,
          -0.8758891199022157,
          -0.8355217345279581,
          -0.16265315958888382,
          0.5585501439003824,
          -0.6824726955116254,
          0.6441786963795697,
          -0.3496495655232733,
          -0.8189385846768551,
          -0.6222328038675436,
          -0.8459189655045559,
          -0.7215009939786482,
          -0.7292752475891066,
          -0.8927550621050807,
          -0.7218655963258508,
          null,
          -0.4918021235272721,
          -0.7406875567638112,
          -0.9508662246185998,
          -0.7411778615096978,
          -0.8353353151260893,
          -0.7751609152889536,
          -0.5437859823468949,
          0.07771098793417787,
          -0.9680608365989137,
          -0.8991487437017284,
          0.546178642978574,
          -0.768554121585154
         ]
        }
       ],
       "layout": {
        "coloraxis": {
         "colorbar": {
          "title": {
           "text": "AgriShareGDP"
          }
         },
         "colorscale": [
          [
           0,
           "rgb(255,245,240)"
          ],
          [
           0.125,
           "rgb(254,224,210)"
          ],
          [
           0.25,
           "rgb(252,187,161)"
          ],
          [
           0.375,
           "rgb(252,146,114)"
          ],
          [
           0.5,
           "rgb(251,106,74)"
          ],
          [
           0.625,
           "rgb(239,59,44)"
          ],
          [
           0.75,
           "rgb(203,24,29)"
          ],
          [
           0.875,
           "rgb(165,15,21)"
          ],
          [
           1,
           "rgb(103,0,13)"
          ]
         ],
         "showscale": true
        },
        "geo": {
         "center": {},
         "domain": {
          "x": [
           0,
           1
          ],
          "y": [
           0,
           1
          ]
         },
         "projection": {
          "type": "natural earth"
         }
        },
        "height": 500,
        "legend": {
         "tracegroupgap": 0
        },
        "margin": {
         "t": 60
        },
        "template": {
         "data": {
          "bar": [
           {
            "error_x": {
             "color": "#2a3f5f"
            },
            "error_y": {
             "color": "#2a3f5f"
            },
            "marker": {
             "line": {
              "color": "#E5ECF6",
              "width": 0.5
             },
             "pattern": {
              "fillmode": "overlay",
              "size": 10,
              "solidity": 0.2
             }
            },
            "type": "bar"
           }
          ],
          "barpolar": [
           {
            "marker": {
             "line": {
              "color": "#E5ECF6",
              "width": 0.5
             },
             "pattern": {
              "fillmode": "overlay",
              "size": 10,
              "solidity": 0.2
             }
            },
            "type": "barpolar"
           }
          ],
          "carpet": [
           {
            "aaxis": {
             "endlinecolor": "#2a3f5f",
             "gridcolor": "white",
             "linecolor": "white",
             "minorgridcolor": "white",
             "startlinecolor": "#2a3f5f"
            },
            "baxis": {
             "endlinecolor": "#2a3f5f",
             "gridcolor": "white",
             "linecolor": "white",
             "minorgridcolor": "white",
             "startlinecolor": "#2a3f5f"
            },
            "type": "carpet"
           }
          ],
          "choropleth": [
           {
            "colorbar": {
             "outlinewidth": 0,
             "ticks": ""
            },
            "type": "choropleth"
           }
          ],
          "contour": [
           {
            "colorbar": {
             "outlinewidth": 0,
             "ticks": ""
            },
            "colorscale": [
             [
              0,
              "#0d0887"
             ],
             [
              0.1111111111111111,
              "#46039f"
             ],
             [
              0.2222222222222222,
              "#7201a8"
             ],
             [
              0.3333333333333333,
              "#9c179e"
             ],
             [
              0.4444444444444444,
              "#bd3786"
             ],
             [
              0.5555555555555556,
              "#d8576b"
             ],
             [
              0.6666666666666666,
              "#ed7953"
             ],
             [
              0.7777777777777778,
              "#fb9f3a"
             ],
             [
              0.8888888888888888,
              "#fdca26"
             ],
             [
              1,
              "#f0f921"
             ]
            ],
            "type": "contour"
           }
          ],
          "contourcarpet": [
           {
            "colorbar": {
             "outlinewidth": 0,
             "ticks": ""
            },
            "type": "contourcarpet"
           }
          ],
          "heatmap": [
           {
            "colorbar": {
             "outlinewidth": 0,
             "ticks": ""
            },
            "colorscale": [
             [
              0,
              "#0d0887"
             ],
             [
              0.1111111111111111,
              "#46039f"
             ],
             [
              0.2222222222222222,
              "#7201a8"
             ],
             [
              0.3333333333333333,
              "#9c179e"
             ],
             [
              0.4444444444444444,
              "#bd3786"
             ],
             [
              0.5555555555555556,
              "#d8576b"
             ],
             [
              0.6666666666666666,
              "#ed7953"
             ],
             [
              0.7777777777777778,
              "#fb9f3a"
             ],
             [
              0.8888888888888888,
              "#fdca26"
             ],
             [
              1,
              "#f0f921"
             ]
            ],
            "type": "heatmap"
           }
          ],
          "heatmapgl": [
           {
            "colorbar": {
             "outlinewidth": 0,
             "ticks": ""
            },
            "colorscale": [
             [
              0,
              "#0d0887"
             ],
             [
              0.1111111111111111,
              "#46039f"
             ],
             [
              0.2222222222222222,
              "#7201a8"
             ],
             [
              0.3333333333333333,
              "#9c179e"
             ],
             [
              0.4444444444444444,
              "#bd3786"
             ],
             [
              0.5555555555555556,
              "#d8576b"
             ],
             [
              0.6666666666666666,
              "#ed7953"
             ],
             [
              0.7777777777777778,
              "#fb9f3a"
             ],
             [
              0.8888888888888888,
              "#fdca26"
             ],
             [
              1,
              "#f0f921"
             ]
            ],
            "type": "heatmapgl"
           }
          ],
          "histogram": [
           {
            "marker": {
             "pattern": {
              "fillmode": "overlay",
              "size": 10,
              "solidity": 0.2
             }
            },
            "type": "histogram"
           }
          ],
          "histogram2d": [
           {
            "colorbar": {
             "outlinewidth": 0,
             "ticks": ""
            },
            "colorscale": [
             [
              0,
              "#0d0887"
             ],
             [
              0.1111111111111111,
              "#46039f"
             ],
             [
              0.2222222222222222,
              "#7201a8"
             ],
             [
              0.3333333333333333,
              "#9c179e"
             ],
             [
              0.4444444444444444,
              "#bd3786"
             ],
             [
              0.5555555555555556,
              "#d8576b"
             ],
             [
              0.6666666666666666,
              "#ed7953"
             ],
             [
              0.7777777777777778,
              "#fb9f3a"
             ],
             [
              0.8888888888888888,
              "#fdca26"
             ],
             [
              1,
              "#f0f921"
             ]
            ],
            "type": "histogram2d"
           }
          ],
          "histogram2dcontour": [
           {
            "colorbar": {
             "outlinewidth": 0,
             "ticks": ""
            },
            "colorscale": [
             [
              0,
              "#0d0887"
             ],
             [
              0.1111111111111111,
              "#46039f"
             ],
             [
              0.2222222222222222,
              "#7201a8"
             ],
             [
              0.3333333333333333,
              "#9c179e"
             ],
             [
              0.4444444444444444,
              "#bd3786"
             ],
             [
              0.5555555555555556,
              "#d8576b"
             ],
             [
              0.6666666666666666,
              "#ed7953"
             ],
             [
              0.7777777777777778,
              "#fb9f3a"
             ],
             [
              0.8888888888888888,
              "#fdca26"
             ],
             [
              1,
              "#f0f921"
             ]
            ],
            "type": "histogram2dcontour"
           }
          ],
          "mesh3d": [
           {
            "colorbar": {
             "outlinewidth": 0,
             "ticks": ""
            },
            "type": "mesh3d"
           }
          ],
          "parcoords": [
           {
            "line": {
             "colorbar": {
              "outlinewidth": 0,
              "ticks": ""
             }
            },
            "type": "parcoords"
           }
          ],
          "pie": [
           {
            "automargin": true,
            "type": "pie"
           }
          ],
          "scatter": [
           {
            "fillpattern": {
             "fillmode": "overlay",
             "size": 10,
             "solidity": 0.2
            },
            "type": "scatter"
           }
          ],
          "scatter3d": [
           {
            "line": {
             "colorbar": {
              "outlinewidth": 0,
              "ticks": ""
             }
            },
            "marker": {
             "colorbar": {
              "outlinewidth": 0,
              "ticks": ""
             }
            },
            "type": "scatter3d"
           }
          ],
          "scattercarpet": [
           {
            "marker": {
             "colorbar": {
              "outlinewidth": 0,
              "ticks": ""
             }
            },
            "type": "scattercarpet"
           }
          ],
          "scattergeo": [
           {
            "marker": {
             "colorbar": {
              "outlinewidth": 0,
              "ticks": ""
             }
            },
            "type": "scattergeo"
           }
          ],
          "scattergl": [
           {
            "marker": {
             "colorbar": {
              "outlinewidth": 0,
              "ticks": ""
             }
            },
            "type": "scattergl"
           }
          ],
          "scattermapbox": [
           {
            "marker": {
             "colorbar": {
              "outlinewidth": 0,
              "ticks": ""
             }
            },
            "type": "scattermapbox"
           }
          ],
          "scatterpolar": [
           {
            "marker": {
             "colorbar": {
              "outlinewidth": 0,
              "ticks": ""
             }
            },
            "type": "scatterpolar"
           }
          ],
          "scatterpolargl": [
           {
            "marker": {
             "colorbar": {
              "outlinewidth": 0,
              "ticks": ""
             }
            },
            "type": "scatterpolargl"
           }
          ],
          "scatterternary": [
           {
            "marker": {
             "colorbar": {
              "outlinewidth": 0,
              "ticks": ""
             }
            },
            "type": "scatterternary"
           }
          ],
          "surface": [
           {
            "colorbar": {
             "outlinewidth": 0,
             "ticks": ""
            },
            "colorscale": [
             [
              0,
              "#0d0887"
             ],
             [
              0.1111111111111111,
              "#46039f"
             ],
             [
              0.2222222222222222,
              "#7201a8"
             ],
             [
              0.3333333333333333,
              "#9c179e"
             ],
             [
              0.4444444444444444,
              "#bd3786"
             ],
             [
              0.5555555555555556,
              "#d8576b"
             ],
             [
              0.6666666666666666,
              "#ed7953"
             ],
             [
              0.7777777777777778,
              "#fb9f3a"
             ],
             [
              0.8888888888888888,
              "#fdca26"
             ],
             [
              1,
              "#f0f921"
             ]
            ],
            "type": "surface"
           }
          ],
          "table": [
           {
            "cells": {
             "fill": {
              "color": "#EBF0F8"
             },
             "line": {
              "color": "white"
             }
            },
            "header": {
             "fill": {
              "color": "#C8D4E3"
             },
             "line": {
              "color": "white"
             }
            },
            "type": "table"
           }
          ]
         },
         "layout": {
          "annotationdefaults": {
           "arrowcolor": "#2a3f5f",
           "arrowhead": 0,
           "arrowwidth": 1
          },
          "autotypenumbers": "strict",
          "coloraxis": {
           "colorbar": {
            "outlinewidth": 0,
            "ticks": ""
           }
          },
          "colorscale": {
           "diverging": [
            [
             0,
             "#8e0152"
            ],
            [
             0.1,
             "#c51b7d"
            ],
            [
             0.2,
             "#de77ae"
            ],
            [
             0.3,
             "#f1b6da"
            ],
            [
             0.4,
             "#fde0ef"
            ],
            [
             0.5,
             "#f7f7f7"
            ],
            [
             0.6,
             "#e6f5d0"
            ],
            [
             0.7,
             "#b8e186"
            ],
            [
             0.8,
             "#7fbc41"
            ],
            [
             0.9,
             "#4d9221"
            ],
            [
             1,
             "#276419"
            ]
           ],
           "sequential": [
            [
             0,
             "#0d0887"
            ],
            [
             0.1111111111111111,
             "#46039f"
            ],
            [
             0.2222222222222222,
             "#7201a8"
            ],
            [
             0.3333333333333333,
             "#9c179e"
            ],
            [
             0.4444444444444444,
             "#bd3786"
            ],
            [
             0.5555555555555556,
             "#d8576b"
            ],
            [
             0.6666666666666666,
             "#ed7953"
            ],
            [
             0.7777777777777778,
             "#fb9f3a"
            ],
            [
             0.8888888888888888,
             "#fdca26"
            ],
            [
             1,
             "#f0f921"
            ]
           ],
           "sequentialminus": [
            [
             0,
             "#0d0887"
            ],
            [
             0.1111111111111111,
             "#46039f"
            ],
            [
             0.2222222222222222,
             "#7201a8"
            ],
            [
             0.3333333333333333,
             "#9c179e"
            ],
            [
             0.4444444444444444,
             "#bd3786"
            ],
            [
             0.5555555555555556,
             "#d8576b"
            ],
            [
             0.6666666666666666,
             "#ed7953"
            ],
            [
             0.7777777777777778,
             "#fb9f3a"
            ],
            [
             0.8888888888888888,
             "#fdca26"
            ],
            [
             1,
             "#f0f921"
            ]
           ]
          },
          "colorway": [
           "#636efa",
           "#EF553B",
           "#00cc96",
           "#ab63fa",
           "#FFA15A",
           "#19d3f3",
           "#FF6692",
           "#B6E880",
           "#FF97FF",
           "#FECB52"
          ],
          "font": {
           "color": "#2a3f5f"
          },
          "geo": {
           "bgcolor": "white",
           "lakecolor": "white",
           "landcolor": "#E5ECF6",
           "showlakes": true,
           "showland": true,
           "subunitcolor": "white"
          },
          "hoverlabel": {
           "align": "left"
          },
          "hovermode": "closest",
          "mapbox": {
           "style": "light"
          },
          "paper_bgcolor": "white",
          "plot_bgcolor": "#E5ECF6",
          "polar": {
           "angularaxis": {
            "gridcolor": "white",
            "linecolor": "white",
            "ticks": ""
           },
           "bgcolor": "#E5ECF6",
           "radialaxis": {
            "gridcolor": "white",
            "linecolor": "white",
            "ticks": ""
           }
          },
          "scene": {
           "xaxis": {
            "backgroundcolor": "#E5ECF6",
            "gridcolor": "white",
            "gridwidth": 2,
            "linecolor": "white",
            "showbackground": true,
            "ticks": "",
            "zerolinecolor": "white"
           },
           "yaxis": {
            "backgroundcolor": "#E5ECF6",
            "gridcolor": "white",
            "gridwidth": 2,
            "linecolor": "white",
            "showbackground": true,
            "ticks": "",
            "zerolinecolor": "white"
           },
           "zaxis": {
            "backgroundcolor": "#E5ECF6",
            "gridcolor": "white",
            "gridwidth": 2,
            "linecolor": "white",
            "showbackground": true,
            "ticks": "",
            "zerolinecolor": "white"
           }
          },
          "shapedefaults": {
           "line": {
            "color": "#2a3f5f"
           }
          },
          "ternary": {
           "aaxis": {
            "gridcolor": "white",
            "linecolor": "white",
            "ticks": ""
           },
           "baxis": {
            "gridcolor": "white",
            "linecolor": "white",
            "ticks": ""
           },
           "bgcolor": "#E5ECF6",
           "caxis": {
            "gridcolor": "white",
            "linecolor": "white",
            "ticks": ""
           }
          },
          "title": {
           "x": 0.05
          },
          "xaxis": {
           "automargin": true,
           "gridcolor": "white",
           "linecolor": "white",
           "ticks": "",
           "title": {
            "standoff": 15
           },
           "zerolinecolor": "white",
           "zerolinewidth": 2
          },
          "yaxis": {
           "automargin": true,
           "gridcolor": "white",
           "linecolor": "white",
           "ticks": "",
           "title": {
            "standoff": 15
           },
           "zerolinecolor": "white",
           "zerolinewidth": 2
          }
         }
        },
        "width": 700
       }
      }
     },
     "metadata": {},
     "output_type": "display_data"
    }
   ],
   "source": [
    "import ipywidgets as widgets\n",
    "import plotly.express as px\n",
    "\n",
    "\n",
    "indicator = widgets.SelectMultiple(\n",
    "    options = corr_df.columns.tolist(),\n",
    "    value = ['AgriShareGDP'],\n",
    "    description='Indicator',\n",
    "    disabled=False,\n",
    "    layout = Layout(width='50%', height='80px')\n",
    ")\n",
    "\n",
    "\n",
    "def globalGrapgh(indicator):\n",
    "    fig = px.choropleth(corr_df, locations = corr_df.index, locationmode='country names', \n",
    "                        color= indicator[0],projection=\"natural earth\",\n",
    "                        color_continuous_scale='Reds',\n",
    "                    width=700, height=500)\n",
    "    fig.update(layout_coloraxis_showscale=True)\n",
    "    fig.show()\n",
    "    \n",
    "    \n",
    "widgets.interactive(globalGrapgh, indicator = indicator) "
   ]
  },
  {
   "cell_type": "code",
   "execution_count": 4,
   "metadata": {},
   "outputs": [
    {
     "data": {
      "application/vnd.jupyter.widget-view+json": {
       "model_id": "e5ffb84ab3844442b58cff5b41ae3586",
       "version_major": 2,
       "version_minor": 0
      },
      "text/plain": [
       "interactive(children=(Dropdown(description='Country', options=('Afghanistan', 'Albania', 'Algeria', 'Andorra',…"
      ]
     },
     "metadata": {},
     "output_type": "display_data"
    }
   ],
   "source": [
    "def tableOut(Threshold, Country):\n",
    "\n",
    "    df = search(Threshold, Country, 'Country')\n",
    "    if df.empty:\n",
    "        return print(\"No indicators have been found.\")\n",
    "\n",
    "    left = pd.Series([0.05, 0.05], index=['P-value Pearson', 'P-value Spearman'])\n",
    "    left2 = pd.Series([-1, -1], index=['GDP Pearson Corr', 'GDP Spearman Corr'])\n",
    "    left3 = pd.Series([0, 0], index=['GDP Pearson Corr', 'GDP Spearman Corr'])\n",
    "    df =df.style.highlight_between(left=left, right=1.5, axis=1, props='color:white; background-color:red;')\\\n",
    "        .highlight_between(left=left2, right=1.5, axis=1, props='color:white; background-color:#929bfc;')\\\n",
    "        .highlight_between(left=left3, right=1.5, axis=1, props='color:white; background-color:#b3b9ff;')\\\n",
    "        .format('{:,.4f}', subset = ['GDP Pearson Corr', 'GDP Spearman Corr'])\\\n",
    "        .format('{:,.12f}', subset = ['P-value Pearson', 'P-value Spearman']) \n",
    "    \n",
    "    display(df)\n",
    "\n",
    "    \n",
    "\n",
    "@interact(\n",
    "    Country = sorted(corr_df.index.tolist()),\n",
    "    Threshold = (0, 1, 0.05))\n",
    "def g(Country = 'Afghanistan', Threshold = 0.7):\n",
    "    return tableOut(Threshold,Country)\n",
    "\n",
    "    \n",
    "        "
   ]
  },
  {
   "cell_type": "code",
   "execution_count": 5,
   "metadata": {},
   "outputs": [
    {
     "data": {
      "application/vnd.jupyter.widget-view+json": {
       "model_id": "e2d008676d274353992165d4d463372e",
       "version_major": 2,
       "version_minor": 0
      },
      "text/plain": [
       "interactive(children=(Dropdown(description='Region', options=('North America', 'Middle East and North Africa',…"
      ]
     },
     "metadata": {},
     "output_type": "display_data"
    }
   ],
   "source": [
    "def tableOut(Threshold, Region):\n",
    "\n",
    "    df = search(Threshold, Region, 'Region')\n",
    "    if df.empty:\n",
    "        return print(\"No indicators have been found.\")\n",
    "\n",
    "    left = pd.Series([0.05, 0.05], index=['P-value Pearson', 'P-value Spearman'])\n",
    "    left2 = pd.Series([-1, -1], index=['GDP Pearson Corr', 'GDP Spearman Corr'])\n",
    "    left3 = pd.Series([0, 0], index=['GDP Pearson Corr', 'GDP Spearman Corr'])\n",
    "    df =df.style.highlight_between(left=left, right=1.5, axis=1, props='color:white; background-color:red;')\\\n",
    "        .highlight_between(left=left2, right=1.5, axis=1, props='color:white; background-color:#929bfc;')\\\n",
    "        .highlight_between(left=left3, right=1.5, axis=1, props='color:white; background-color:#b3b9ff;')\\\n",
    "        .format('{:,.4f}', subset = ['GDP Pearson Corr', 'GDP Spearman Corr'])\\\n",
    "        .format('{:,.12f}', subset = ['P-value Pearson', 'P-value Spearman']) \n",
    "    \n",
    "    display(df)\n",
    "\n",
    "    \n",
    "\n",
    "@interact(\n",
    "    Region = set(df['Region'].to_list()),\n",
    "    Threshold = (0, 1, 0.05))\n",
    "def g(Region = 'Afghanistan', Threshold = 0.7):\n",
    "    return tableOut(Threshold, Region)\n",
    "\n",
    "    "
   ]
  },
  {
   "cell_type": "code",
   "execution_count": null,
   "metadata": {},
   "outputs": [],
   "source": []
  }
 ],
 "metadata": {
  "kernelspec": {
   "display_name": "Python 3.10.5 ('.venv': poetry)",
   "language": "python",
   "name": "python3"
  },
  "language_info": {
   "codemirror_mode": {
    "name": "ipython",
    "version": 3
   },
   "file_extension": ".py",
   "mimetype": "text/x-python",
   "name": "python",
   "nbconvert_exporter": "python",
   "pygments_lexer": "ipython3",
   "version": "3.10.5"
  },
  "orig_nbformat": 4,
  "vscode": {
   "interpreter": {
    "hash": "44718ba4235bc6fc2135f9d8856f170c8312ddd29b08710a5ea28d42169e623e"
   }
  }
 },
 "nbformat": 4,
 "nbformat_minor": 2
}
