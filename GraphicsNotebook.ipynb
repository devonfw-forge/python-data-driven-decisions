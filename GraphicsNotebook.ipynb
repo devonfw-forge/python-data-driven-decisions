{
 "cells": [
  {
   "cell_type": "markdown",
   "metadata": {},
   "source": [
    "# Visualize Notebook\n",
    "In this notebook the Gold Dataframe will be read and extract information of it. The objective is to see the correlations between the variables and the GDP and also what countries have the highest correlation value.\n"
   ]
  },
  {
   "cell_type": "markdown",
   "metadata": {},
   "source": [
    "## Imports\n",
    "Start importing all the libraries and also the methods of pvalue and search indicators that will be used later in the notebook."
   ]
  },
  {
   "cell_type": "code",
   "execution_count": 20,
   "metadata": {},
   "outputs": [],
   "source": [
    "import pandas as pd\n",
    "import matplotlib.pyplot as plt\n",
    "import numpy as np\n",
    "from scipy import stats\n",
    "from scipy.stats import shapiro, pearsonr\n",
    "import os\n",
    "import statistics\n",
    "import seaborn as sns\n",
    "from scipy.stats import norm\n",
    "\n",
    "import ipywidgets as widgets\n",
    "from ipywidgets import Layout\n",
    "from ipywidgets import AppLayout, Button, GridspecLayout\n",
    "from ipywidgets import interact, interact_manual\n",
    "from Project.Utils.visualize import  search\n"
   ]
  },
  {
   "cell_type": "markdown",
   "metadata": {},
   "source": [
    "## Correlation dataframe.\n",
    "This dataframe is the main piece of the notebook. Consists in generating for every country the correlation matrix for it and saving only the correlation value of the different variables with the GDP. Later on is concatenated and generates the following result:"
   ]
  },
  {
   "cell_type": "code",
   "execution_count": 33,
   "metadata": {},
   "outputs": [
    {
     "data": {
      "text/html": [
       "<div>\n",
       "<style scoped>\n",
       "    .dataframe tbody tr th:only-of-type {\n",
       "        vertical-align: middle;\n",
       "    }\n",
       "\n",
       "    .dataframe tbody tr th {\n",
       "        vertical-align: top;\n",
       "    }\n",
       "\n",
       "    .dataframe thead th {\n",
       "        text-align: right;\n",
       "    }\n",
       "</style>\n",
       "<table border=\"1\" class=\"dataframe\">\n",
       "  <thead>\n",
       "    <tr style=\"text-align: right;\">\n",
       "      <th></th>\n",
       "      <th>AgriShareGDP</th>\n",
       "      <th>CreditToAgriFishForest</th>\n",
       "      <th>EmploymentRural</th>\n",
       "      <th>TotalAgri</th>\n",
       "      <th>% Soldiers</th>\n",
       "      <th>Birth Rate</th>\n",
       "      <th>Death Rate</th>\n",
       "      <th>Homicides</th>\n",
       "      <th>Life Expectancy</th>\n",
       "      <th>Maternal Death Risk</th>\n",
       "      <th>...</th>\n",
       "      <th>% Population Growth</th>\n",
       "      <th>% Rural Population</th>\n",
       "      <th>Civil Liberties</th>\n",
       "      <th>Freedom of Expression</th>\n",
       "      <th>% Healthcare Investment</th>\n",
       "      <th>% Employment Industry</th>\n",
       "      <th>% Education Expenditure</th>\n",
       "      <th>% Men Employment</th>\n",
       "      <th>% Women Employment</th>\n",
       "      <th>Population</th>\n",
       "    </tr>\n",
       "  </thead>\n",
       "  <tbody>\n",
       "    <tr>\n",
       "      <th>Malaysia</th>\n",
       "      <td>-0.057994</td>\n",
       "      <td>0.055144</td>\n",
       "      <td>NaN</td>\n",
       "      <td>0.860665</td>\n",
       "      <td>-0.944179</td>\n",
       "      <td>-0.854599</td>\n",
       "      <td>0.852503</td>\n",
       "      <td>NaN</td>\n",
       "      <td>0.961953</td>\n",
       "      <td>-0.819080</td>\n",
       "      <td>...</td>\n",
       "      <td>-0.964197</td>\n",
       "      <td>-0.970563</td>\n",
       "      <td>0.619590</td>\n",
       "      <td>0.613580</td>\n",
       "      <td>0.888805</td>\n",
       "      <td>-0.878161</td>\n",
       "      <td>-0.379667</td>\n",
       "      <td>NaN</td>\n",
       "      <td>NaN</td>\n",
       "      <td>0.967304</td>\n",
       "    </tr>\n",
       "    <tr>\n",
       "      <th>Spain</th>\n",
       "      <td>-0.924602</td>\n",
       "      <td>-0.082207</td>\n",
       "      <td>-0.083709</td>\n",
       "      <td>0.891549</td>\n",
       "      <td>-0.828939</td>\n",
       "      <td>-0.071199</td>\n",
       "      <td>-0.466823</td>\n",
       "      <td>-0.743388</td>\n",
       "      <td>0.694753</td>\n",
       "      <td>-0.236050</td>\n",
       "      <td>...</td>\n",
       "      <td>-0.146714</td>\n",
       "      <td>-0.634473</td>\n",
       "      <td>-0.030631</td>\n",
       "      <td>-0.230272</td>\n",
       "      <td>0.794086</td>\n",
       "      <td>-0.592126</td>\n",
       "      <td>-0.233173</td>\n",
       "      <td>-0.365436</td>\n",
       "      <td>0.927052</td>\n",
       "      <td>0.899727</td>\n",
       "    </tr>\n",
       "    <tr>\n",
       "      <th>New Zealand</th>\n",
       "      <td>-0.390130</td>\n",
       "      <td>0.142875</td>\n",
       "      <td>NaN</td>\n",
       "      <td>0.906371</td>\n",
       "      <td>-0.934430</td>\n",
       "      <td>-0.724168</td>\n",
       "      <td>-0.375034</td>\n",
       "      <td>-0.810743</td>\n",
       "      <td>0.982542</td>\n",
       "      <td>-0.905752</td>\n",
       "      <td>...</td>\n",
       "      <td>0.399911</td>\n",
       "      <td>-0.658080</td>\n",
       "      <td>-0.445694</td>\n",
       "      <td>-0.761484</td>\n",
       "      <td>0.892840</td>\n",
       "      <td>-0.751467</td>\n",
       "      <td>0.100096</td>\n",
       "      <td>0.201205</td>\n",
       "      <td>0.893163</td>\n",
       "      <td>0.979112</td>\n",
       "    </tr>\n",
       "    <tr>\n",
       "      <th>Czechia</th>\n",
       "      <td>-0.622233</td>\n",
       "      <td>0.492807</td>\n",
       "      <td>0.722958</td>\n",
       "      <td>0.783382</td>\n",
       "      <td>-0.701305</td>\n",
       "      <td>NaN</td>\n",
       "      <td>NaN</td>\n",
       "      <td>0.914143</td>\n",
       "      <td>-0.940812</td>\n",
       "      <td>-0.920503</td>\n",
       "      <td>-0.854363</td>\n",
       "      <td>NaN</td>\n",
       "      <td>NaN</td>\n",
       "      <td>NaN</td>\n",
       "      <td>...</td>\n",
       "      <td>NaN</td>\n",
       "      <td>NaN</td>\n",
       "      <td>0.085240</td>\n",
       "      <td>-0.565038</td>\n",
       "      <td>0.715060</td>\n",
       "      <td>-0.599416</td>\n",
       "      <td>0.236692</td>\n",
       "      <td>0.285191</td>\n",
       "      <td>0.339651</td>\n",
       "      <td>0.861057</td>\n",
       "    </tr>\n",
       "    <tr>\n",
       "      <th>Guinea</th>\n",
       "      <td>0.498159</td>\n",
       "      <td>NaN</td>\n",
       "      <td>NaN</td>\n",
       "      <td>NaN</td>\n",
       "      <td>-0.694951</td>\n",
       "      <td>-0.939092</td>\n",
       "      <td>-0.914487</td>\n",
       "      <td>NaN</td>\n",
       "      <td>0.935467</td>\n",
       "      <td>-0.879412</td>\n",
       "      <td>...</td>\n",
       "      <td>0.907336</td>\n",
       "      <td>-0.954342</td>\n",
       "      <td>0.293413</td>\n",
       "      <td>0.625618</td>\n",
       "      <td>0.694268</td>\n",
       "      <td>0.873440</td>\n",
       "      <td>0.419932</td>\n",
       "      <td>NaN</td>\n",
       "      <td>NaN</td>\n",
       "      <td>0.968902</td>\n",
       "    </tr>\n",
       "    <tr>\n",
       "      <th>...</th>\n",
       "      <td>...</td>\n",
       "      <td>...</td>\n",
       "      <td>...</td>\n",
       "      <td>...</td>\n",
       "      <td>...</td>\n",
       "      <td>...</td>\n",
       "      <td>...</td>\n",
       "      <td>...</td>\n",
       "      <td>...</td>\n",
       "      <td>...</td>\n",
       "      <td>...</td>\n",
       "      <td>...</td>\n",
       "      <td>...</td>\n",
       "      <td>...</td>\n",
       "      <td>...</td>\n",
       "      <td>...</td>\n",
       "      <td>...</td>\n",
       "      <td>...</td>\n",
       "      <td>...</td>\n",
       "      <td>...</td>\n",
       "      <td>...</td>\n",
       "    </tr>\n",
       "    <tr>\n",
       "      <th>Ethiopia</th>\n",
       "      <td>-0.742794</td>\n",
       "      <td>-0.045399</td>\n",
       "      <td>NaN</td>\n",
       "      <td>0.856816</td>\n",
       "      <td>-0.660334</td>\n",
       "      <td>-0.910035</td>\n",
       "      <td>-0.878882</td>\n",
       "      <td>NaN</td>\n",
       "      <td>0.914411</td>\n",
       "      <td>-0.889476</td>\n",
       "      <td>...</td>\n",
       "      <td>-0.845126</td>\n",
       "      <td>-0.989688</td>\n",
       "      <td>0.534652</td>\n",
       "      <td>0.159649</td>\n",
       "      <td>-0.470976</td>\n",
       "      <td>-0.801164</td>\n",
       "      <td>NaN</td>\n",
       "      <td>NaN</td>\n",
       "      <td>NaN</td>\n",
       "      <td>0.978491</td>\n",
       "    </tr>\n",
       "    <tr>\n",
       "      <th>Colombia</th>\n",
       "      <td>-0.928724</td>\n",
       "      <td>NaN</td>\n",
       "      <td>0.758967</td>\n",
       "      <td>0.641759</td>\n",
       "      <td>0.634779</td>\n",
       "      <td>-0.901693</td>\n",
       "      <td>0.659420</td>\n",
       "      <td>-0.837504</td>\n",
       "      <td>0.859863</td>\n",
       "      <td>-0.874104</td>\n",
       "      <td>...</td>\n",
       "      <td>-0.678381</td>\n",
       "      <td>-0.856736</td>\n",
       "      <td>0.782616</td>\n",
       "      <td>0.653603</td>\n",
       "      <td>0.535807</td>\n",
       "      <td>0.568786</td>\n",
       "      <td>0.628709</td>\n",
       "      <td>0.632915</td>\n",
       "      <td>0.773963</td>\n",
       "      <td>0.823003</td>\n",
       "    </tr>\n",
       "    <tr>\n",
       "      <th>Poland</th>\n",
       "      <td>-0.510488</td>\n",
       "      <td>NaN</td>\n",
       "      <td>NaN</td>\n",
       "      <td>0.927059</td>\n",
       "      <td>-0.424615</td>\n",
       "      <td>0.491552</td>\n",
       "      <td>0.839589</td>\n",
       "      <td>-0.947862</td>\n",
       "      <td>0.877672</td>\n",
       "      <td>-0.930270</td>\n",
       "      <td>...</td>\n",
       "      <td>0.331447</td>\n",
       "      <td>0.905010</td>\n",
       "      <td>-0.507959</td>\n",
       "      <td>-0.510648</td>\n",
       "      <td>0.904175</td>\n",
       "      <td>0.261964</td>\n",
       "      <td>-0.709783</td>\n",
       "      <td>0.904097</td>\n",
       "      <td>0.862379</td>\n",
       "      <td>-0.827611</td>\n",
       "    </tr>\n",
       "    <tr>\n",
       "      <th>Bahrain</th>\n",
       "      <td>-0.780047</td>\n",
       "      <td>-0.702905</td>\n",
       "      <td>NaN</td>\n",
       "      <td>NaN</td>\n",
       "      <td>-0.952605</td>\n",
       "      <td>-0.978124</td>\n",
       "      <td>-0.823707</td>\n",
       "      <td>NaN</td>\n",
       "      <td>0.974140</td>\n",
       "      <td>-0.912868</td>\n",
       "      <td>...</td>\n",
       "      <td>-0.495596</td>\n",
       "      <td>-0.886818</td>\n",
       "      <td>-0.874272</td>\n",
       "      <td>-0.715059</td>\n",
       "      <td>-0.384559</td>\n",
       "      <td>0.780868</td>\n",
       "      <td>NaN</td>\n",
       "      <td>NaN</td>\n",
       "      <td>NaN</td>\n",
       "      <td>0.973606</td>\n",
       "    </tr>\n",
       "    <tr>\n",
       "      <th>Lithuania</th>\n",
       "      <td>-0.835335</td>\n",
       "      <td>NaN</td>\n",
       "      <td>-0.788530</td>\n",
       "      <td>0.912241</td>\n",
       "      <td>0.706347</td>\n",
       "      <td>0.574701</td>\n",
       "      <td>0.867250</td>\n",
       "      <td>-0.837935</td>\n",
       "      <td>0.746119</td>\n",
       "      <td>-0.812293</td>\n",
       "      <td>...</td>\n",
       "      <td>0.071064</td>\n",
       "      <td>-0.633390</td>\n",
       "      <td>0.197869</td>\n",
       "      <td>0.077926</td>\n",
       "      <td>0.350933</td>\n",
       "      <td>-0.447208</td>\n",
       "      <td>-0.940626</td>\n",
       "      <td>0.331796</td>\n",
       "      <td>0.637510</td>\n",
       "      <td>-0.922340</td>\n",
       "    </tr>\n",
       "  </tbody>\n",
       "</table>\n",
       "<p>179 rows × 21 columns</p>\n",
       "</div>"
      ],
      "text/plain": [
       "             AgriShareGDP  CreditToAgriFishForest  EmploymentRural  TotalAgri  \\\n",
       "Malaysia        -0.057994                0.055144              NaN   0.860665   \n",
       "Spain           -0.924602               -0.082207        -0.083709   0.891549   \n",
       "New Zealand     -0.390130                0.142875              NaN   0.906371   \n",
       "Czechia         -0.622233                0.492807         0.722958   0.783382   \n",
       "China                 NaN                     NaN              NaN   0.949529   \n",
       "...                   ...                     ...              ...        ...   \n",
       "Ethiopia        -0.742794               -0.045399              NaN   0.856816   \n",
       "Colombia        -0.928724                     NaN         0.758967   0.641759   \n",
       "Poland          -0.510488                     NaN              NaN   0.927059   \n",
       "Bahrain         -0.780047               -0.702905              NaN        NaN   \n",
       "Lithuania       -0.835335                     NaN        -0.788530   0.912241   \n",
       "\n",
       "             % Soldiers  Birth Rate  Death Rate  Homicides  Life Expectancy  \\\n",
       "Malaysia      -0.944179   -0.854599    0.852503        NaN         0.961953   \n",
       "Spain         -0.828939   -0.071199   -0.466823  -0.743388         0.694753   \n",
       "New Zealand   -0.934430   -0.724168   -0.375034  -0.810743         0.982542   \n",
       "Czechia       -0.701305         NaN         NaN        NaN              NaN   \n",
       "China         -0.860912   -0.362204    0.776483  -0.927046         0.982323   \n",
       "...                 ...         ...         ...        ...              ...   \n",
       "Ethiopia      -0.660334   -0.910035   -0.878882        NaN         0.914411   \n",
       "Colombia       0.634779   -0.901693    0.659420  -0.837504         0.859863   \n",
       "Poland        -0.424615    0.491552    0.839589  -0.947862         0.877672   \n",
       "Bahrain       -0.952605   -0.978124   -0.823707        NaN         0.974140   \n",
       "Lithuania      0.706347    0.574701    0.867250  -0.837935         0.746119   \n",
       "\n",
       "             Maternal Death Risk  ...  % Population Growth  \\\n",
       "Malaysia               -0.819080  ...            -0.964197   \n",
       "Spain                  -0.236050  ...            -0.146714   \n",
       "New Zealand            -0.905752  ...             0.399911   \n",
       "Czechia                      NaN  ...                  NaN   \n",
       "China                  -0.868190  ...            -0.550435   \n",
       "...                          ...  ...                  ...   \n",
       "Ethiopia               -0.889476  ...            -0.845126   \n",
       "Colombia               -0.874104  ...            -0.678381   \n",
       "Poland                 -0.930270  ...             0.331447   \n",
       "Bahrain                -0.912868  ...            -0.495596   \n",
       "Lithuania              -0.812293  ...             0.071064   \n",
       "\n",
       "             % Rural Population  Civil Liberties  Freedom of Expression  \\\n",
       "Malaysia              -0.970563         0.619590               0.613580   \n",
       "Spain                 -0.634473        -0.030631              -0.230272   \n",
       "New Zealand           -0.658080        -0.445694              -0.761484   \n",
       "Czechia                     NaN         0.085240              -0.565038   \n",
       "China                 -0.983006        -0.713696              -0.956523   \n",
       "...                         ...              ...                    ...   \n",
       "Ethiopia              -0.989688         0.534652               0.159649   \n",
       "Colombia              -0.856736         0.782616               0.653603   \n",
       "Poland                 0.905010        -0.507959              -0.510648   \n",
       "Bahrain               -0.886818        -0.874272              -0.715059   \n",
       "Lithuania             -0.633390         0.197869               0.077926   \n",
       "\n",
       "             % Healthcare Investment  % Employment Industry  \\\n",
       "Malaysia                    0.888805              -0.878161   \n",
       "Spain                       0.794086              -0.592126   \n",
       "New Zealand                 0.892840              -0.751467   \n",
       "Czechia                     0.715060              -0.599416   \n",
       "China                       0.825297               0.767233   \n",
       "...                              ...                    ...   \n",
       "Ethiopia                   -0.470976              -0.801164   \n",
       "Colombia                    0.535807               0.568786   \n",
       "Poland                      0.904175               0.261964   \n",
       "Bahrain                    -0.384559               0.780868   \n",
       "Lithuania                   0.350933              -0.447208   \n",
       "\n",
       "             % Education Expenditure  % Men Employment  % Women Employment  \\\n",
       "Malaysia                   -0.379667               NaN                 NaN   \n",
       "Spain                      -0.233173         -0.365436            0.927052   \n",
       "New Zealand                 0.100096          0.201205            0.893163   \n",
       "Czechia                     0.236692          0.285191            0.339651   \n",
       "China                            NaN               NaN                 NaN   \n",
       "...                              ...               ...                 ...   \n",
       "Ethiopia                         NaN               NaN                 NaN   \n",
       "Colombia                    0.628709          0.632915            0.773963   \n",
       "Poland                     -0.709783          0.904097            0.862379   \n",
       "Bahrain                          NaN               NaN                 NaN   \n",
       "Lithuania                  -0.940626          0.331796            0.637510   \n",
       "\n",
       "             Population  \n",
       "Malaysia       0.967304  \n",
       "Spain          0.899727  \n",
       "New Zealand    0.979112  \n",
       "Czechia        0.861057  \n",
       "China          0.982877  \n",
       "...                 ...  \n",
       "Ethiopia       0.978491  \n",
       "Colombia       0.823003  \n",
       "Poland        -0.827611  \n",
       "Bahrain        0.973606  \n",
       "Lithuania     -0.922340  \n",
       "\n",
       "[179 rows x 21 columns]"
      ]
     },
     "execution_count": 33,
     "metadata": {},
     "output_type": "execute_result"
    }
   ],
   "source": [
    "#One dataframe per country\n",
    "\n",
    "df= pd.read_csv (os.getcwd()+'/Output/GoldDataframe.csv')\n",
    "corr_df = pd.DataFrame()\n",
    "corr_df.index.names = ['Country']\n",
    "aux_df = pd.DataFrame()\n",
    "\n",
    "#List all the countries, none repeated\n",
    "countries = set(df['Country'].to_list())\n",
    "\n",
    "country_dict = {}\n",
    "corr_dict = {}\n",
    "\n",
    "for country in countries:\n",
    "\n",
    "    #Get the DataFrame for a given country\n",
    "    country_df = df.loc[df['Country'] == country]\n",
    "\n",
    "    #Correlation matrix for that country\n",
    "    country_corr_df = country_df.corr()\n",
    "\n",
    "    #Significance for the correlations\n",
    "    pval = country_corr_df.corr(method = lambda x, y: pearsonr(x, y)[1]) - np.eye(*country_corr_df.shape)\n",
    "    p = pval.applymap(lambda x: 1 if x < 0.05 else np.NaN)\n",
    "    country_corr_df = country_corr_df * p\n",
    "\n",
    "    #Trim it into a single row\n",
    "    country_corr_df = country_corr_df.rename(columns = {'GDP': country}).drop(index = ['Year', 'GDP'])\n",
    "\n",
    "    #Add the row to a new DataFrame with the correlations for each country\n",
    "    corr_df = pd.concat([corr_df, country_corr_df[country]], axis = 1)\n",
    "\n",
    "#Transpose the resulting DataFrame to have the desired format and show it\n",
    "corr_df = corr_df.transpose()\n",
    "corr_df.to_csv(os.getcwd()+'/Output/Corr_DF_Test.csv')\n",
    "\n",
    "corr_df.to_csv(os.getcwd()+'/Output/Corr_Test.csv')\n",
    "\n",
    "#country_corr_df.corr(method = lambda x, y: pearsonr(x, y)[1]) - np.eye(*country_corr_df.shape).applymap(lambda x: 1 if x < 0.05 else np.NaN)\n",
    "\n",
    "pval.to_csv(os.getcwd()+'/Output/PVal_Test.csv')\n",
    "p.to_csv(os.getcwd()+'/Output/P_Test.csv')\n",
    "\n",
    "df.loc[df['Country'] == 'Spain'].corr().to_csv(os.getcwd()+'/Output/Country_Corr_Test.csv')\n",
    "corr_df.loc[['Spain']]\n"
   ]
  },
  {
   "cell_type": "code",
   "execution_count": 32,
   "metadata": {},
   "outputs": [],
   "source": [
    "country_corr_df = df.loc[df['Country'] == 'Spain'].corr()\n",
    "pval = country_corr_df.corr(method = lambda x, y: pearsonr(x, y)[1]) - np.eye(*country_corr_df.shape)\n",
    "p = pval.applymap(lambda x: 1 if x < 0.05 else np.NaN)\n",
    "res_corr_df = country_corr_df * p\n",
    "\n",
    "country_corr_df.to_csv(os.getcwd()+'/Output/Corr_Test.csv')\n",
    "pval.to_csv(os.getcwd()+'/Output/PVal_Test.csv')\n",
    "res_corr_df.to_csv(os.getcwd()+'/Output/Res_Test.csv')"
   ]
  },
  {
   "cell_type": "code",
   "execution_count": 17,
   "metadata": {},
   "outputs": [
    {
     "data": {
      "text/plain": [
       "% Education Expenditure         NaN\n",
       "% Employment Industry     -0.592126\n",
       "% Healthcare Investment    0.794086\n",
       "% Men Employment                NaN\n",
       "% Population Growth             NaN\n",
       "% Rural Population        -0.634473\n",
       "% Soldiers                -0.828939\n",
       "% Women Employment         0.927052\n",
       "AgriShareGDP              -0.924602\n",
       "Birth Rate                      NaN\n",
       "Civil Liberties                 NaN\n",
       "CreditToAgriFishForest          NaN\n",
       "Death Rate                -0.466823\n",
       "EmploymentRural                 NaN\n",
       "Freedom of Expression           NaN\n",
       "GDP                             NaN\n",
       "Homicides                 -0.743388\n",
       "Infant Mortality          -0.734420\n",
       "Life Expectancy            0.694753\n",
       "Maternal Death Risk             NaN\n",
       "Population                 0.899727\n",
       "TotalAgri                  0.891549\n",
       "Year                            NaN\n",
       "dtype: float64"
      ]
     },
     "execution_count": 17,
     "metadata": {},
     "output_type": "execute_result"
    }
   ],
   "source": [
    "#Get the DataFrame for a given country\n",
    "country_df = df.loc[df['Country'] == 'Spain']\n",
    "\n",
    "#Correlation matrix for that country\n",
    "aux_corr_df = country_df.corr().rename(columns = {'GDP': 'Spain'}).drop(index = ['Year', 'GDP'])\n",
    "pval = country_df.corr(method = lambda x, y: pearsonr(x, y)[1])\n",
    "p = pval.applymap(lambda x: 1 if x < 0.05 else np.NaN)\n",
    "\n",
    "corr_df = corr_df['Spain']\n",
    "p = p['GDP']\n",
    "\n",
    "aux_corr_df = aux_corr_df * p\n",
    "\n",
    "#corr_df = corr_df.rename(columns = {'GDP': 'Spain'}).drop(index = ['Year', 'GDP'])\n",
    "aux_corr_df\n",
    "#print(country_corr_df['Spain'])\n",
    "#print(country_df.corr()['GDP'])\n",
    "#print(p)\n"
   ]
  },
  {
   "cell_type": "code",
   "execution_count": 30,
   "metadata": {},
   "outputs": [
    {
     "data": {
      "text/html": [
       "<div>\n",
       "<style scoped>\n",
       "    .dataframe tbody tr th:only-of-type {\n",
       "        vertical-align: middle;\n",
       "    }\n",
       "\n",
       "    .dataframe tbody tr th {\n",
       "        vertical-align: top;\n",
       "    }\n",
       "\n",
       "    .dataframe thead th {\n",
       "        text-align: right;\n",
       "    }\n",
       "</style>\n",
       "<table border=\"1\" class=\"dataframe\">\n",
       "  <thead>\n",
       "    <tr style=\"text-align: right;\">\n",
       "      <th></th>\n",
       "      <th>Population</th>\n",
       "    </tr>\n",
       "  </thead>\n",
       "  <tbody>\n",
       "    <tr>\n",
       "      <th>Hungary</th>\n",
       "      <td>-0.825989</td>\n",
       "    </tr>\n",
       "    <tr>\n",
       "      <th>Romania</th>\n",
       "      <td>-0.938846</td>\n",
       "    </tr>\n",
       "    <tr>\n",
       "      <th>Armenia</th>\n",
       "      <td>-0.787782</td>\n",
       "    </tr>\n",
       "    <tr>\n",
       "      <th>Serbia</th>\n",
       "      <td>-0.912291</td>\n",
       "    </tr>\n",
       "    <tr>\n",
       "      <th>Georgia</th>\n",
       "      <td>-0.955508</td>\n",
       "    </tr>\n",
       "    <tr>\n",
       "      <th>Latvia</th>\n",
       "      <td>-0.863641</td>\n",
       "    </tr>\n",
       "    <tr>\n",
       "      <th>Poland</th>\n",
       "      <td>-0.827611</td>\n",
       "    </tr>\n",
       "    <tr>\n",
       "      <th>Bulgaria</th>\n",
       "      <td>-0.951117</td>\n",
       "    </tr>\n",
       "    <tr>\n",
       "      <th>Estonia</th>\n",
       "      <td>-0.919445</td>\n",
       "    </tr>\n",
       "    <tr>\n",
       "      <th>Palau</th>\n",
       "      <td>-0.721353</td>\n",
       "    </tr>\n",
       "    <tr>\n",
       "      <th>Albania</th>\n",
       "      <td>-0.925309</td>\n",
       "    </tr>\n",
       "    <tr>\n",
       "      <th>Lithuania</th>\n",
       "      <td>-0.922340</td>\n",
       "    </tr>\n",
       "    <tr>\n",
       "      <th>Belarus</th>\n",
       "      <td>-0.932844</td>\n",
       "    </tr>\n",
       "  </tbody>\n",
       "</table>\n",
       "</div>"
      ],
      "text/plain": [
       "           Population\n",
       "Hungary     -0.825989\n",
       "Romania     -0.938846\n",
       "Armenia     -0.787782\n",
       "Serbia      -0.912291\n",
       "Georgia     -0.955508\n",
       "Latvia      -0.863641\n",
       "Poland      -0.827611\n",
       "Bulgaria    -0.951117\n",
       "Estonia     -0.919445\n",
       "Palau       -0.721353\n",
       "Albania     -0.925309\n",
       "Lithuania   -0.922340\n",
       "Belarus     -0.932844"
      ]
     },
     "execution_count": 30,
     "metadata": {},
     "output_type": "execute_result"
    }
   ],
   "source": [
    "ind = 'Population'\n",
    "t = 0.7\n",
    "pos_corr = corr_df.drop(corr_df.columns.difference([ind]), axis = 1).loc[corr_df[ind] >= t].sort_values(by = ind, axis = 0, ascending = False)\n",
    "neg_corr = corr_df.drop(corr_df.columns.difference([ind]), axis = 1).loc[corr_df[ind] <= -t].sort_values(by = ind, axis = 0, ascending = True)\n",
    "neg_corr"
   ]
  },
  {
   "cell_type": "code",
   "execution_count": 22,
   "metadata": {},
   "outputs": [
    {
     "data": {
      "application/vnd.jupyter.widget-view+json": {
       "model_id": "dcb04712912d468f8b46befa6fd92180",
       "version_major": 2,
       "version_minor": 0
      },
      "text/plain": [
       "interactive(children=(SelectMultiple(description='Indicator', index=(0,), layout=Layout(height='80px', width='…"
      ]
     },
     "metadata": {},
     "output_type": "display_data"
    },
    {
     "data": {
      "application/vnd.plotly.v1+json": {
       "config": {
        "plotlyServerURL": "https://plot.ly"
       },
       "data": [
        {
         "coloraxis": "coloraxis",
         "geo": "geo",
         "hovertemplate": "index=%{location}<br>AgriShareGDP=%{z}<extra></extra>",
         "locationmode": "country names",
         "locations": [
          "Malaysia",
          "Spain",
          "New Zealand",
          "Czechia",
          "China",
          "Lesotho",
          "Papua New Guinea",
          "Pakistan",
          "Uganda",
          "Russia",
          "Oman",
          "Gambia",
          "Nauru",
          "Indonesia",
          "Honduras",
          "Marshall Islands",
          "Luxembourg",
          "Guinea-Bissau",
          "Greece",
          "Switzerland",
          "Belarus",
          "Dominica",
          "Botswana",
          "Peru",
          "Gabon",
          "United Kingdom",
          "Cameroon",
          "Malta",
          "Sierra Leone",
          "Slovenia",
          "Croatia",
          "Ukraine",
          "Senegal",
          "Thailand",
          "Fiji",
          "Serbia",
          "Zambia",
          "Malawi",
          "Palau",
          "Zimbabwe",
          "Mozambique",
          "Haiti",
          "Eritrea",
          "Rwanda",
          "Angola",
          "Myanmar",
          "Guatemala",
          "Greenland",
          "South Africa",
          "Algeria",
          "Italy",
          "Qatar",
          "North Macedonia",
          "Trinidad and Tobago",
          "Equatorial Guinea",
          "Bermuda",
          "Burkina Faso",
          "Tonga",
          "Benin",
          "Ghana",
          "Niger",
          "Finland",
          "Lebanon",
          "Libya",
          "Tuvalu",
          "Australia",
          "Antigua and Barbuda",
          "Afghanistan",
          "Egypt",
          "Tunisia",
          "Ireland",
          "Philippines",
          "India",
          "Georgia",
          "Brazil",
          "Belgium",
          "Canada",
          "United Arab Emirates",
          "Sri Lanka",
          "Aruba",
          "Iraq",
          "Grenada",
          "Maldives",
          "Albania",
          "Solomon Islands",
          "France",
          "Puerto Rico",
          "Andorra",
          "Burundi",
          "Samoa",
          "Cyprus",
          "Mongolia",
          "Chile",
          "Kazakhstan",
          "Mali",
          "Comoros",
          "Vanuatu",
          "Panama",
          "Barbados",
          "Montenegro",
          "Estonia",
          "Uruguay",
          "Armenia",
          "Hungary",
          "Saint Lucia",
          "Austria",
          "Kyrgyzstan",
          "Bangladesh",
          "Netherlands",
          "Nicaragua",
          "Cambodia",
          "Eswatini",
          "Guinea",
          "Romania",
          "San Marino",
          "Bosnia and Herzegovina",
          "Portugal",
          "Mauritania",
          "Uzbekistan",
          "Nigeria",
          "Djibouti",
          "Madagascar",
          "Paraguay",
          "Sweden",
          "Sudan",
          "Cayman Islands",
          "Liberia",
          "Suriname",
          "Ecuador",
          "Mexico",
          "United States",
          "El Salvador",
          "Azerbaijan",
          "Bhutan",
          "Slovakia",
          "Germany",
          "Togo",
          "Somalia",
          "Latvia",
          "Morocco",
          "Nepal",
          "Mauritius",
          "Jamaica",
          "Belize",
          "Argentina",
          "Saudi Arabia",
          "Costa Rica",
          "Cuba",
          "New Caledonia",
          "Israel",
          "Central African Republic",
          "Japan",
          "South Sudan",
          "Chad",
          "Sao Tome and Principe",
          "Bulgaria",
          "Singapore",
          "Jordan",
          "Yemen",
          "Seychelles",
          "Turkmenistan",
          "Namibia",
          "French Polynesia",
          "Kuwait",
          "Iceland",
          "Liechtenstein",
          "Kiribati",
          "Denmark",
          "Kenya",
          "Dominican Republic",
          "Congo",
          "Guyana",
          "Norway",
          "Tajikistan",
          "Ethiopia",
          "Colombia",
          "Poland",
          "Bahrain",
          "Lithuania"
         ],
         "name": "",
         "type": "choropleth",
         "z": [
          -0.05799405968765384,
          -0.9246020681684352,
          -0.3901300466124,
          -0.6222328038675436,
          null,
          -0.800495784861207,
          -0.9062326254496571,
          -0.3564374169269262,
          -0.5524986567664869,
          -0.9306417343797083,
          -0.30595282970630217,
          -0.5040785343058328,
          -0.9432697722260653,
          -0.052732060454409355,
          -0.16265315958888382,
          0.7356448962507441,
          -0.9084049485084351,
          0.41629981975830316,
          -0.8541526771526231,
          -0.9267462935060482,
          -0.7406875567638112,
          0.6771268988188248,
          -0.5247023240976855,
          -0.322646527474029,
          -0.7019760365914864,
          -0.716390085534926,
          -0.18613061166870498,
          -0.9712198891595265,
          0.6343035981396866,
          -0.8631718214807295,
          -0.713594624166334,
          -0.7796743745253912,
          -0.06415712286442721,
          0.03681014117421503,
          -0.42454006505696285,
          -0.7938048760063402,
          -0.8459189655045559,
          -0.839805329038585,
          -0.9558679200949804,
          -0.674981469076645,
          0.5677661615395543,
          -0.5119431587894402,
          0.08233872730476581,
          -0.8203148473144741,
          0.24450512087313336,
          -0.9678699960054002,
          -0.910783581293827,
          0.015425452701193196,
          -0.8427968232002708,
          0.13775097173642994,
          -0.8820808398131004,
          -0.5437859823468949,
          -0.4533358395612625,
          -0.8083567434722658,
          -0.8486192959235674,
          -0.8521168107283245,
          -0.7751609152889536,
          -0.1788512484648285,
          0.5585501439003824,
          -0.8986316649951261,
          -0.4406847469701758,
          -0.6844897662727807,
          -0.503101313242976,
          -0.535871362042077,
          0.2001302170135677,
          -0.7812355938750303,
          0.1240682496625928,
          -0.8702332125359779,
          -0.5143855567867214,
          -0.11240984433863804,
          -0.7218655963258508,
          -0.8991487437017284,
          -0.700649507092263,
          -0.9508662246185998,
          -0.6824726955116254,
          -0.9291809511372993,
          -0.6032401543385976,
          -0.9279434164823261,
          -0.6031364214233185,
          0.3741649727817593,
          -0.7932788342898283,
          0.16028226101681153,
          -0.35871070546205086,
          -0.7213763707469719,
          -0.3991969835189398,
          -0.8641423065584387,
          0.5731166325165244,
          0.03750664329868265,
          -0.3496495655232733,
          -0.9520872058064423,
          -0.9199037030067883,
          -0.8355217345279581,
          -0.8374628674303137,
          -0.9136350482950665,
          0.8168640617370294,
          -0.5927549619729722,
          -0.18856175434640862,
          -0.9325517979342587,
          -0.8935594731221601,
          -0.9250468161036534,
          -0.630469765190067,
          -0.5769315589389916,
          -0.8594781938426445,
          -0.7856366651656908,
          -0.8437032161877829,
          -0.8285363932508436,
          -0.8310736040825246,
          -0.9076013100731348,
          -0.9279197943938866,
          -0.3141050792765419,
          -0.8189385846768551,
          -0.8020291724807224,
          0.4981590975526931,
          -0.9374688324008857,
          0.06584950093930352,
          -0.890388711927548,
          -0.9370489810725439,
          -0.6962296775129467,
          -0.8332276663583743,
          -0.7416626489049046,
          -0.9037244864916116,
          -0.8569135424696452,
          0.12020046388224769,
          -0.6939308578106985,
          null,
          0.8329453438889185,
          -0.19164420133785307,
          -0.8018750496047906,
          -0.7215009939786482,
          -0.15110982788610094,
          -0.169931328254077,
          -0.4863337520474014,
          -0.8581621857504442,
          -0.8025977498851751,
          0.546178642978574,
          -0.565806539276942,
          -0.8234424931464022,
          -0.08070561376728035,
          -0.7708455187171825,
          -0.42151315976729525,
          -0.8758891199022157,
          -0.9680608365989137,
          0.3936404788192563,
          -0.6064329687837003,
          -0.5034609536804338,
          -0.8954205369814583,
          -0.9836031733548807,
          -0.7411778615096978,
          -0.5905723882687031,
          -0.7777787590746487,
          -0.6508918168523262,
          -0.4918021235272721,
          null,
          -0.5438517653153988,
          -0.7292752475891066,
          -0.9575448068063352,
          -0.8927550621050807,
          0.9292437594281578,
          0.07771098793417787,
          -0.7416434293602443,
          -0.9165808027323511,
          -0.7955630866641139,
          -0.833534845066142,
          -0.216973472969378,
          -0.9314906398719144,
          -0.7033535847829139,
          0.6441786963795697,
          -0.768554121585154,
          0.929395604705077,
          -0.8988548560906199,
          -0.6362752332249866,
          -0.8095978580774993,
          -0.14353291554326994,
          -0.11816046448941489,
          -0.7427944720312178,
          -0.9287236078660797,
          -0.5104884920594763,
          -0.7800474945395834,
          -0.8353353151260893
         ]
        }
       ],
       "layout": {
        "coloraxis": {
         "colorbar": {
          "title": {
           "text": "AgriShareGDP"
          }
         },
         "colorscale": [
          [
           0,
           "rgb(255,245,240)"
          ],
          [
           0.125,
           "rgb(254,224,210)"
          ],
          [
           0.25,
           "rgb(252,187,161)"
          ],
          [
           0.375,
           "rgb(252,146,114)"
          ],
          [
           0.5,
           "rgb(251,106,74)"
          ],
          [
           0.625,
           "rgb(239,59,44)"
          ],
          [
           0.75,
           "rgb(203,24,29)"
          ],
          [
           0.875,
           "rgb(165,15,21)"
          ],
          [
           1,
           "rgb(103,0,13)"
          ]
         ],
         "showscale": true
        },
        "geo": {
         "center": {},
         "domain": {
          "x": [
           0,
           1
          ],
          "y": [
           0,
           1
          ]
         },
         "projection": {
          "type": "natural earth"
         }
        },
        "height": 500,
        "legend": {
         "tracegroupgap": 0
        },
        "margin": {
         "t": 60
        },
        "template": {
         "data": {
          "bar": [
           {
            "error_x": {
             "color": "#2a3f5f"
            },
            "error_y": {
             "color": "#2a3f5f"
            },
            "marker": {
             "line": {
              "color": "#E5ECF6",
              "width": 0.5
             },
             "pattern": {
              "fillmode": "overlay",
              "size": 10,
              "solidity": 0.2
             }
            },
            "type": "bar"
           }
          ],
          "barpolar": [
           {
            "marker": {
             "line": {
              "color": "#E5ECF6",
              "width": 0.5
             },
             "pattern": {
              "fillmode": "overlay",
              "size": 10,
              "solidity": 0.2
             }
            },
            "type": "barpolar"
           }
          ],
          "carpet": [
           {
            "aaxis": {
             "endlinecolor": "#2a3f5f",
             "gridcolor": "white",
             "linecolor": "white",
             "minorgridcolor": "white",
             "startlinecolor": "#2a3f5f"
            },
            "baxis": {
             "endlinecolor": "#2a3f5f",
             "gridcolor": "white",
             "linecolor": "white",
             "minorgridcolor": "white",
             "startlinecolor": "#2a3f5f"
            },
            "type": "carpet"
           }
          ],
          "choropleth": [
           {
            "colorbar": {
             "outlinewidth": 0,
             "ticks": ""
            },
            "type": "choropleth"
           }
          ],
          "contour": [
           {
            "colorbar": {
             "outlinewidth": 0,
             "ticks": ""
            },
            "colorscale": [
             [
              0,
              "#0d0887"
             ],
             [
              0.1111111111111111,
              "#46039f"
             ],
             [
              0.2222222222222222,
              "#7201a8"
             ],
             [
              0.3333333333333333,
              "#9c179e"
             ],
             [
              0.4444444444444444,
              "#bd3786"
             ],
             [
              0.5555555555555556,
              "#d8576b"
             ],
             [
              0.6666666666666666,
              "#ed7953"
             ],
             [
              0.7777777777777778,
              "#fb9f3a"
             ],
             [
              0.8888888888888888,
              "#fdca26"
             ],
             [
              1,
              "#f0f921"
             ]
            ],
            "type": "contour"
           }
          ],
          "contourcarpet": [
           {
            "colorbar": {
             "outlinewidth": 0,
             "ticks": ""
            },
            "type": "contourcarpet"
           }
          ],
          "heatmap": [
           {
            "colorbar": {
             "outlinewidth": 0,
             "ticks": ""
            },
            "colorscale": [
             [
              0,
              "#0d0887"
             ],
             [
              0.1111111111111111,
              "#46039f"
             ],
             [
              0.2222222222222222,
              "#7201a8"
             ],
             [
              0.3333333333333333,
              "#9c179e"
             ],
             [
              0.4444444444444444,
              "#bd3786"
             ],
             [
              0.5555555555555556,
              "#d8576b"
             ],
             [
              0.6666666666666666,
              "#ed7953"
             ],
             [
              0.7777777777777778,
              "#fb9f3a"
             ],
             [
              0.8888888888888888,
              "#fdca26"
             ],
             [
              1,
              "#f0f921"
             ]
            ],
            "type": "heatmap"
           }
          ],
          "heatmapgl": [
           {
            "colorbar": {
             "outlinewidth": 0,
             "ticks": ""
            },
            "colorscale": [
             [
              0,
              "#0d0887"
             ],
             [
              0.1111111111111111,
              "#46039f"
             ],
             [
              0.2222222222222222,
              "#7201a8"
             ],
             [
              0.3333333333333333,
              "#9c179e"
             ],
             [
              0.4444444444444444,
              "#bd3786"
             ],
             [
              0.5555555555555556,
              "#d8576b"
             ],
             [
              0.6666666666666666,
              "#ed7953"
             ],
             [
              0.7777777777777778,
              "#fb9f3a"
             ],
             [
              0.8888888888888888,
              "#fdca26"
             ],
             [
              1,
              "#f0f921"
             ]
            ],
            "type": "heatmapgl"
           }
          ],
          "histogram": [
           {
            "marker": {
             "pattern": {
              "fillmode": "overlay",
              "size": 10,
              "solidity": 0.2
             }
            },
            "type": "histogram"
           }
          ],
          "histogram2d": [
           {
            "colorbar": {
             "outlinewidth": 0,
             "ticks": ""
            },
            "colorscale": [
             [
              0,
              "#0d0887"
             ],
             [
              0.1111111111111111,
              "#46039f"
             ],
             [
              0.2222222222222222,
              "#7201a8"
             ],
             [
              0.3333333333333333,
              "#9c179e"
             ],
             [
              0.4444444444444444,
              "#bd3786"
             ],
             [
              0.5555555555555556,
              "#d8576b"
             ],
             [
              0.6666666666666666,
              "#ed7953"
             ],
             [
              0.7777777777777778,
              "#fb9f3a"
             ],
             [
              0.8888888888888888,
              "#fdca26"
             ],
             [
              1,
              "#f0f921"
             ]
            ],
            "type": "histogram2d"
           }
          ],
          "histogram2dcontour": [
           {
            "colorbar": {
             "outlinewidth": 0,
             "ticks": ""
            },
            "colorscale": [
             [
              0,
              "#0d0887"
             ],
             [
              0.1111111111111111,
              "#46039f"
             ],
             [
              0.2222222222222222,
              "#7201a8"
             ],
             [
              0.3333333333333333,
              "#9c179e"
             ],
             [
              0.4444444444444444,
              "#bd3786"
             ],
             [
              0.5555555555555556,
              "#d8576b"
             ],
             [
              0.6666666666666666,
              "#ed7953"
             ],
             [
              0.7777777777777778,
              "#fb9f3a"
             ],
             [
              0.8888888888888888,
              "#fdca26"
             ],
             [
              1,
              "#f0f921"
             ]
            ],
            "type": "histogram2dcontour"
           }
          ],
          "mesh3d": [
           {
            "colorbar": {
             "outlinewidth": 0,
             "ticks": ""
            },
            "type": "mesh3d"
           }
          ],
          "parcoords": [
           {
            "line": {
             "colorbar": {
              "outlinewidth": 0,
              "ticks": ""
             }
            },
            "type": "parcoords"
           }
          ],
          "pie": [
           {
            "automargin": true,
            "type": "pie"
           }
          ],
          "scatter": [
           {
            "fillpattern": {
             "fillmode": "overlay",
             "size": 10,
             "solidity": 0.2
            },
            "type": "scatter"
           }
          ],
          "scatter3d": [
           {
            "line": {
             "colorbar": {
              "outlinewidth": 0,
              "ticks": ""
             }
            },
            "marker": {
             "colorbar": {
              "outlinewidth": 0,
              "ticks": ""
             }
            },
            "type": "scatter3d"
           }
          ],
          "scattercarpet": [
           {
            "marker": {
             "colorbar": {
              "outlinewidth": 0,
              "ticks": ""
             }
            },
            "type": "scattercarpet"
           }
          ],
          "scattergeo": [
           {
            "marker": {
             "colorbar": {
              "outlinewidth": 0,
              "ticks": ""
             }
            },
            "type": "scattergeo"
           }
          ],
          "scattergl": [
           {
            "marker": {
             "colorbar": {
              "outlinewidth": 0,
              "ticks": ""
             }
            },
            "type": "scattergl"
           }
          ],
          "scattermapbox": [
           {
            "marker": {
             "colorbar": {
              "outlinewidth": 0,
              "ticks": ""
             }
            },
            "type": "scattermapbox"
           }
          ],
          "scatterpolar": [
           {
            "marker": {
             "colorbar": {
              "outlinewidth": 0,
              "ticks": ""
             }
            },
            "type": "scatterpolar"
           }
          ],
          "scatterpolargl": [
           {
            "marker": {
             "colorbar": {
              "outlinewidth": 0,
              "ticks": ""
             }
            },
            "type": "scatterpolargl"
           }
          ],
          "scatterternary": [
           {
            "marker": {
             "colorbar": {
              "outlinewidth": 0,
              "ticks": ""
             }
            },
            "type": "scatterternary"
           }
          ],
          "surface": [
           {
            "colorbar": {
             "outlinewidth": 0,
             "ticks": ""
            },
            "colorscale": [
             [
              0,
              "#0d0887"
             ],
             [
              0.1111111111111111,
              "#46039f"
             ],
             [
              0.2222222222222222,
              "#7201a8"
             ],
             [
              0.3333333333333333,
              "#9c179e"
             ],
             [
              0.4444444444444444,
              "#bd3786"
             ],
             [
              0.5555555555555556,
              "#d8576b"
             ],
             [
              0.6666666666666666,
              "#ed7953"
             ],
             [
              0.7777777777777778,
              "#fb9f3a"
             ],
             [
              0.8888888888888888,
              "#fdca26"
             ],
             [
              1,
              "#f0f921"
             ]
            ],
            "type": "surface"
           }
          ],
          "table": [
           {
            "cells": {
             "fill": {
              "color": "#EBF0F8"
             },
             "line": {
              "color": "white"
             }
            },
            "header": {
             "fill": {
              "color": "#C8D4E3"
             },
             "line": {
              "color": "white"
             }
            },
            "type": "table"
           }
          ]
         },
         "layout": {
          "annotationdefaults": {
           "arrowcolor": "#2a3f5f",
           "arrowhead": 0,
           "arrowwidth": 1
          },
          "autotypenumbers": "strict",
          "coloraxis": {
           "colorbar": {
            "outlinewidth": 0,
            "ticks": ""
           }
          },
          "colorscale": {
           "diverging": [
            [
             0,
             "#8e0152"
            ],
            [
             0.1,
             "#c51b7d"
            ],
            [
             0.2,
             "#de77ae"
            ],
            [
             0.3,
             "#f1b6da"
            ],
            [
             0.4,
             "#fde0ef"
            ],
            [
             0.5,
             "#f7f7f7"
            ],
            [
             0.6,
             "#e6f5d0"
            ],
            [
             0.7,
             "#b8e186"
            ],
            [
             0.8,
             "#7fbc41"
            ],
            [
             0.9,
             "#4d9221"
            ],
            [
             1,
             "#276419"
            ]
           ],
           "sequential": [
            [
             0,
             "#0d0887"
            ],
            [
             0.1111111111111111,
             "#46039f"
            ],
            [
             0.2222222222222222,
             "#7201a8"
            ],
            [
             0.3333333333333333,
             "#9c179e"
            ],
            [
             0.4444444444444444,
             "#bd3786"
            ],
            [
             0.5555555555555556,
             "#d8576b"
            ],
            [
             0.6666666666666666,
             "#ed7953"
            ],
            [
             0.7777777777777778,
             "#fb9f3a"
            ],
            [
             0.8888888888888888,
             "#fdca26"
            ],
            [
             1,
             "#f0f921"
            ]
           ],
           "sequentialminus": [
            [
             0,
             "#0d0887"
            ],
            [
             0.1111111111111111,
             "#46039f"
            ],
            [
             0.2222222222222222,
             "#7201a8"
            ],
            [
             0.3333333333333333,
             "#9c179e"
            ],
            [
             0.4444444444444444,
             "#bd3786"
            ],
            [
             0.5555555555555556,
             "#d8576b"
            ],
            [
             0.6666666666666666,
             "#ed7953"
            ],
            [
             0.7777777777777778,
             "#fb9f3a"
            ],
            [
             0.8888888888888888,
             "#fdca26"
            ],
            [
             1,
             "#f0f921"
            ]
           ]
          },
          "colorway": [
           "#636efa",
           "#EF553B",
           "#00cc96",
           "#ab63fa",
           "#FFA15A",
           "#19d3f3",
           "#FF6692",
           "#B6E880",
           "#FF97FF",
           "#FECB52"
          ],
          "font": {
           "color": "#2a3f5f"
          },
          "geo": {
           "bgcolor": "white",
           "lakecolor": "white",
           "landcolor": "#E5ECF6",
           "showlakes": true,
           "showland": true,
           "subunitcolor": "white"
          },
          "hoverlabel": {
           "align": "left"
          },
          "hovermode": "closest",
          "mapbox": {
           "style": "light"
          },
          "paper_bgcolor": "white",
          "plot_bgcolor": "#E5ECF6",
          "polar": {
           "angularaxis": {
            "gridcolor": "white",
            "linecolor": "white",
            "ticks": ""
           },
           "bgcolor": "#E5ECF6",
           "radialaxis": {
            "gridcolor": "white",
            "linecolor": "white",
            "ticks": ""
           }
          },
          "scene": {
           "xaxis": {
            "backgroundcolor": "#E5ECF6",
            "gridcolor": "white",
            "gridwidth": 2,
            "linecolor": "white",
            "showbackground": true,
            "ticks": "",
            "zerolinecolor": "white"
           },
           "yaxis": {
            "backgroundcolor": "#E5ECF6",
            "gridcolor": "white",
            "gridwidth": 2,
            "linecolor": "white",
            "showbackground": true,
            "ticks": "",
            "zerolinecolor": "white"
           },
           "zaxis": {
            "backgroundcolor": "#E5ECF6",
            "gridcolor": "white",
            "gridwidth": 2,
            "linecolor": "white",
            "showbackground": true,
            "ticks": "",
            "zerolinecolor": "white"
           }
          },
          "shapedefaults": {
           "line": {
            "color": "#2a3f5f"
           }
          },
          "ternary": {
           "aaxis": {
            "gridcolor": "white",
            "linecolor": "white",
            "ticks": ""
           },
           "baxis": {
            "gridcolor": "white",
            "linecolor": "white",
            "ticks": ""
           },
           "bgcolor": "#E5ECF6",
           "caxis": {
            "gridcolor": "white",
            "linecolor": "white",
            "ticks": ""
           }
          },
          "title": {
           "x": 0.05
          },
          "xaxis": {
           "automargin": true,
           "gridcolor": "white",
           "linecolor": "white",
           "ticks": "",
           "title": {
            "standoff": 15
           },
           "zerolinecolor": "white",
           "zerolinewidth": 2
          },
          "yaxis": {
           "automargin": true,
           "gridcolor": "white",
           "linecolor": "white",
           "ticks": "",
           "title": {
            "standoff": 15
           },
           "zerolinecolor": "white",
           "zerolinewidth": 2
          }
         }
        },
        "width": 700
       }
      }
     },
     "metadata": {},
     "output_type": "display_data"
    }
   ],
   "source": [
    "import ipywidgets as widgets\n",
    "import plotly.express as px\n",
    "\n",
    "from IPython.display import display_html\n",
    "import plotly.graph_objects as go\n",
    "from plotly.subplots import make_subplots\n",
    "\n",
    "\n",
    "indicator = widgets.SelectMultiple(\n",
    "    options = corr_df.columns.tolist(),\n",
    "    value = ['AgriShareGDP'],\n",
    "    description='Indicator',\n",
    "    disabled=False,\n",
    "    layout = Layout(width='50%', height='80px')\n",
    ")\n",
    "\n",
    "#country_table = widgets.\n",
    "\n",
    "def globalGrapgh(indicator):\n",
    "    ind = indicator[0]\n",
    "    N = 10\n",
    "    fig = px.choropleth(corr_df, locations = corr_df.index, locationmode='country names', \n",
    "                        color= indicator[0],projection=\"natural earth\",\n",
    "                        color_continuous_scale='Reds',\n",
    "                        width=700, height=500)\n",
    "\n",
    "    pos_corr = corr_df.drop(corr_df.columns.difference([ind]), axis = 1).sort_values(by = ind, axis = 0, ascending = False).head(n = N)\n",
    "    neg_corr = corr_df.drop(corr_df.columns.difference([ind]), axis = 1).sort_values(by = ind, axis = 0, ascending = True).head(n = N)\n",
    "\n",
    "    #print(fig.get_subplot(1, 1))\n",
    "\n",
    "    #subplots = make_subplots(rows = 1, cols = 3, specs = [[{'type': 'choropleth'}, {'type': 'table'}, {'type': 'table'}]], subplot_titles = ['Map', 'Direct Correlation', 'Inverse Correlation'])\n",
    "    #subplots.add_trace(fig, row = 0, col = 0)\n",
    "\n",
    "    fig.update(layout_coloraxis_showscale=True)\n",
    "    fig.show()\n",
    "    \n",
    "    #widgets.HBox([pos_corr.style, neg_corr.style])\n",
    "    pos_styler = pos_corr.style.set_table_attributes(\"style='display:inline'\").set_caption('Direct correlation')\n",
    "    neg_styler = neg_corr.style.set_table_attributes(\"style='display:inline'\").set_caption('Inverse correlation')\n",
    "\n",
    "    space = \"\\xa0\" * 10\n",
    "    display_html(pos_styler._repr_html_()+ space  + neg_styler._repr_html_(), raw=True)\n",
    "\n",
    "    #print(pos_corr)\n",
    "    #print(neg_corr)\n",
    "\n",
    "    #grid[0, 0] = fig\n",
    "    #grid[0, 1] = pos_corr\n",
    "    #grid[0, 2] = neg_corr    \n",
    "    \n",
    "widgets.interactive(globalGrapgh, indicator = indicator)"
   ]
  },
  {
   "cell_type": "markdown",
   "metadata": {},
   "source": [
    "## Country Indicators\n",
    "In this codeblock a widged is implmented to generate a table with the indicators. In order to make it work just select the country from the dropdown and procede to establasih the threshold. The default value for the threshold is 0.7, which we consider to be the minimum to consider an indicator correlated to the GDP. To analyze the results:\n",
    "H0: the indicator and the GDP are uncorrelated.\n",
    "H1: the indicator and the GDP are correlated.\n",
    "The p-value represents the probability that your data would have arisen if the null hypothesis were true. If it's lower than 0.05 then it has no statistical signifcance.\n",
    "\n",
    "If the both correlations are greater than 0.7 or -0.7 and the p-values are < 0.05 the result "
   ]
  },
  {
   "cell_type": "code",
   "execution_count": 4,
   "metadata": {},
   "outputs": [
    {
     "data": {
      "application/vnd.jupyter.widget-view+json": {
       "model_id": "25f58eeaea3e4dc7bc27158a8eb59844",
       "version_major": 2,
       "version_minor": 0
      },
      "text/plain": [
       "interactive(children=(Dropdown(description='Country', options=('Afghanistan', 'Albania', 'Algeria', 'Andorra',…"
      ]
     },
     "metadata": {},
     "output_type": "display_data"
    }
   ],
   "source": [
    "def tableOut(Threshold, Country):\n",
    "\n",
    "    df = search(Threshold, 'Country', Country)\n",
    "    if df.empty:\n",
    "        return print(\"No indicators have been found.\")\n",
    "\n",
    "    left = pd.Series([0.05, 0.05], index=['P-value Pearson', 'P-value Spearman'])\n",
    "    left2 = pd.Series([-1, -1], index=['GDP Pearson Corr', 'GDP Spearman Corr'])\n",
    "    left3 = pd.Series([0, 0], index=['GDP Pearson Corr', 'GDP Spearman Corr'])\n",
    "    df =df.style.highlight_between(left=left, right=1.5, axis=1, props='color:white; background-color:red;')\\\n",
    "        .highlight_between(left=left2, right=1.5, axis=1, props='color:white; background-color:#929bfc;')\\\n",
    "        .highlight_between(left=left3, right=1.5, axis=1, props='color:white; background-color:#b3b9ff;')\\\n",
    "        .format('{:,.4f}', subset = ['GDP Pearson Corr', 'GDP Spearman Corr'])\\\n",
    "        .format('{:,.12f}', subset = ['P-value Pearson', 'P-value Spearman']) \n",
    "    \n",
    "    display(df)\n",
    "\n",
    "    \n",
    "\n",
    "@interact(\n",
    "    Country = sorted(corr_df.index.tolist()),\n",
    "    Threshold = (0, 1, 0.05))\n",
    "def g(Country = 'Afghanistan', Threshold = 0.7):\n",
    "    return tableOut(Threshold,Country)\n",
    "\n",
    "    \n",
    "        "
   ]
  },
  {
   "cell_type": "markdown",
   "metadata": {},
   "source": [
    "## Region Indicators\n"
   ]
  },
  {
   "cell_type": "code",
   "execution_count": 5,
   "metadata": {},
   "outputs": [
    {
     "data": {
      "application/vnd.jupyter.widget-view+json": {
       "model_id": "4ec63faf74d841678002be0b908c7d9d",
       "version_major": 2,
       "version_minor": 0
      },
      "text/plain": [
       "interactive(children=(Dropdown(description='Region', index=2, options=('Europe and Central Asia', 'South Asia'…"
      ]
     },
     "metadata": {},
     "output_type": "display_data"
    }
   ],
   "source": [
    "def tableOut2(Threshold, Region):\n",
    "\n",
    "    df = search(Threshold, 'Region', Region)\n",
    "    if df.empty:\n",
    "        return print(\"No indicators have been found.\")\n",
    "\n",
    "    left = pd.Series([0.05, 0.05], index=['P-value Pearson', 'P-value Spearman'])\n",
    "    left2 = pd.Series([-1, -1], index=['GDP Pearson Corr', 'GDP Spearman Corr'])\n",
    "    left3 = pd.Series([0, 0], index=['GDP Pearson Corr', 'GDP Spearman Corr'])\n",
    "    df =df.style.highlight_between(left=left, right=1.5, axis=1, props='color:white; background-color:red;')\\\n",
    "        .highlight_between(left=left2, right=1.5, axis=1, props='color:white; background-color:#929bfc;')\\\n",
    "        .highlight_between(left=left3, right=1.5, axis=1, props='color:white; background-color:#b3b9ff;')\\\n",
    "        .format('{:,.4f}', subset = ['GDP Pearson Corr', 'GDP Spearman Corr'])\\\n",
    "        .format('{:,.12f}', subset = ['P-value Pearson', 'P-value Spearman']) \n",
    "    \n",
    "    display(df)\n",
    "\n",
    "\n",
    "\n",
    "@interact(\n",
    "    Region = set(df['Region'].to_list()),\n",
    "    Threshold = (0, 1, 0.05))\n",
    "def g(Region = 'East Asia and Pacific', Threshold = 0.7):\n",
    "    return tableOut2(Threshold, Region)\n",
    "\n",
    "    "
   ]
  },
  {
   "cell_type": "markdown",
   "metadata": {},
   "source": [
    "## Global Indicators\n"
   ]
  },
  {
   "cell_type": "code",
   "execution_count": 6,
   "metadata": {},
   "outputs": [
    {
     "data": {
      "application/vnd.jupyter.widget-view+json": {
       "model_id": "c65d23381f6040439bdf28734ba08104",
       "version_major": 2,
       "version_minor": 0
      },
      "text/plain": [
       "interactive(children=(FloatSlider(value=0.7, description='Threshold', max=1.0, step=0.05), Output()), _dom_cla…"
      ]
     },
     "metadata": {},
     "output_type": "display_data"
    }
   ],
   "source": [
    "def tableOut3(Threshold):\n",
    "\n",
    "    df = search(Threshold, 'Global')\n",
    "    if df.empty:\n",
    "        return print(\"No indicators have been found.\")\n",
    "\n",
    "    left = pd.Series([0.05, 0.05], index=['P-value Pearson', 'P-value Spearman'])\n",
    "    left2 = pd.Series([-1, -1], index=['GDP Pearson Corr', 'GDP Spearman Corr'])\n",
    "    left3 = pd.Series([0, 0], index=['GDP Pearson Corr', 'GDP Spearman Corr'])\n",
    "    df =df.style.highlight_between(left=left, right=1.5, axis=1, props='color:white; background-color:red;')\\\n",
    "        .highlight_between(left=left2, right=1.5, axis=1, props='color:white; background-color:#929bfc;')\\\n",
    "        .highlight_between(left=left3, right=1.5, axis=1, props='color:white; background-color:#b3b9ff;')\\\n",
    "        .format('{:,.4f}', subset = ['GDP Pearson Corr', 'GDP Spearman Corr'])\\\n",
    "        .format('{:,.12f}', subset = ['P-value Pearson', 'P-value Spearman']) \n",
    "    \n",
    "    display(df)\n",
    "\n",
    "    \n",
    "\n",
    "@interact(\n",
    "    Threshold = (0, 1, 0.05))\n",
    "def g(Threshold = 0.7):\n",
    "    return tableOut3(Threshold)\n"
   ]
  },
  {
   "cell_type": "code",
   "execution_count": null,
   "metadata": {},
   "outputs": [],
   "source": []
  }
 ],
 "metadata": {
  "kernelspec": {
   "display_name": "Python 3.10.5 ('.venv': poetry)",
   "language": "python",
   "name": "python3"
  },
  "language_info": {
   "codemirror_mode": {
    "name": "ipython",
    "version": 3
   },
   "file_extension": ".py",
   "mimetype": "text/x-python",
   "name": "python",
   "nbconvert_exporter": "python",
   "pygments_lexer": "ipython3",
   "version": "3.10.5"
  },
  "orig_nbformat": 4,
  "vscode": {
   "interpreter": {
    "hash": "6044c39f3fa8d69f78786198aef61ed0dc3fdd7ddd5a88c111ee27e3b3325eb4"
   }
  }
 },
 "nbformat": 4,
 "nbformat_minor": 2
}
