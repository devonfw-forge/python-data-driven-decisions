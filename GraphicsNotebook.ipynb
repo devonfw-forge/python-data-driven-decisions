{
 "cells": [
  {
   "cell_type": "code",
   "execution_count": 1,
   "metadata": {},
   "outputs": [],
   "source": [
    "import pandas as pd\n",
    "import matplotlib.pyplot as plt\n",
    "import numpy as np\n",
    "from scipy import stats\n",
    "from scipy.stats import shapiro\n",
    "import os\n",
    "import statistics\n",
    "import seaborn as sns\n",
    "from scipy.stats import norm\n",
    "\n",
    "import ipywidgets as widgets\n",
    "from ipywidgets import Layout\n",
    "from ipywidgets import interact, interact_manual\n",
    "from Project.Utils.visualize import pvalue, search_indicators\n"
   ]
  },
  {
   "cell_type": "code",
   "execution_count": 2,
   "metadata": {},
   "outputs": [
    {
     "data": {
      "text/html": [
       "<div>\n",
       "<style scoped>\n",
       "    .dataframe tbody tr th:only-of-type {\n",
       "        vertical-align: middle;\n",
       "    }\n",
       "\n",
       "    .dataframe tbody tr th {\n",
       "        vertical-align: top;\n",
       "    }\n",
       "\n",
       "    .dataframe thead th {\n",
       "        text-align: right;\n",
       "    }\n",
       "</style>\n",
       "<table border=\"1\" class=\"dataframe\">\n",
       "  <thead>\n",
       "    <tr style=\"text-align: right;\">\n",
       "      <th></th>\n",
       "      <th>AgriShareGDP</th>\n",
       "      <th>CreditToAgriFishForest</th>\n",
       "      <th>EmploymentRural</th>\n",
       "      <th>TotalAgri</th>\n",
       "      <th>% Soldiers</th>\n",
       "      <th>Birth Rate</th>\n",
       "      <th>Death Rate</th>\n",
       "      <th>Homicides</th>\n",
       "      <th>Life Expectancy</th>\n",
       "      <th>Maternal Death Risk</th>\n",
       "      <th>...</th>\n",
       "      <th>% Population Growth</th>\n",
       "      <th>% Rural Population</th>\n",
       "      <th>Civil Liberties</th>\n",
       "      <th>Freedom of Expression</th>\n",
       "      <th>% Healthcare Investment</th>\n",
       "      <th>% Employment Industry</th>\n",
       "      <th>% Education Expenditure</th>\n",
       "      <th>% Men Employment</th>\n",
       "      <th>% Women Employment</th>\n",
       "      <th>Population</th>\n",
       "    </tr>\n",
       "  </thead>\n",
       "  <tbody>\n",
       "    <tr>\n",
       "      <th>Japan</th>\n",
       "      <td>-0.491802</td>\n",
       "      <td>NaN</td>\n",
       "      <td>NaN</td>\n",
       "      <td>0.910719</td>\n",
       "      <td>0.393421</td>\n",
       "      <td>-0.375865</td>\n",
       "      <td>0.441033</td>\n",
       "      <td>-0.443549</td>\n",
       "      <td>0.349423</td>\n",
       "      <td>-0.375301</td>\n",
       "      <td>...</td>\n",
       "      <td>-0.554870</td>\n",
       "      <td>-0.566014</td>\n",
       "      <td>-0.034650</td>\n",
       "      <td>-0.045268</td>\n",
       "      <td>0.367248</td>\n",
       "      <td>-0.466609</td>\n",
       "      <td>-0.178459</td>\n",
       "      <td>-0.574905</td>\n",
       "      <td>0.016904</td>\n",
       "      <td>0.163330</td>\n",
       "    </tr>\n",
       "    <tr>\n",
       "      <th>Guinea</th>\n",
       "      <td>0.498159</td>\n",
       "      <td>NaN</td>\n",
       "      <td>NaN</td>\n",
       "      <td>0.174019</td>\n",
       "      <td>-0.694951</td>\n",
       "      <td>-0.939092</td>\n",
       "      <td>-0.914487</td>\n",
       "      <td>NaN</td>\n",
       "      <td>0.935467</td>\n",
       "      <td>-0.879412</td>\n",
       "      <td>...</td>\n",
       "      <td>0.907336</td>\n",
       "      <td>-0.954342</td>\n",
       "      <td>0.293413</td>\n",
       "      <td>0.625618</td>\n",
       "      <td>0.694268</td>\n",
       "      <td>0.873440</td>\n",
       "      <td>0.419932</td>\n",
       "      <td>NaN</td>\n",
       "      <td>NaN</td>\n",
       "      <td>0.968902</td>\n",
       "    </tr>\n",
       "    <tr>\n",
       "      <th>Jordan</th>\n",
       "      <td>0.929244</td>\n",
       "      <td>-0.828580</td>\n",
       "      <td>NaN</td>\n",
       "      <td>0.979891</td>\n",
       "      <td>-0.925262</td>\n",
       "      <td>-0.969768</td>\n",
       "      <td>-0.750168</td>\n",
       "      <td>NaN</td>\n",
       "      <td>0.987968</td>\n",
       "      <td>-0.989961</td>\n",
       "      <td>...</td>\n",
       "      <td>0.044476</td>\n",
       "      <td>-0.992862</td>\n",
       "      <td>0.573174</td>\n",
       "      <td>0.940235</td>\n",
       "      <td>0.116714</td>\n",
       "      <td>-0.936668</td>\n",
       "      <td>NaN</td>\n",
       "      <td>NaN</td>\n",
       "      <td>NaN</td>\n",
       "      <td>0.994118</td>\n",
       "    </tr>\n",
       "    <tr>\n",
       "      <th>Solomon Islands</th>\n",
       "      <td>-0.399197</td>\n",
       "      <td>NaN</td>\n",
       "      <td>NaN</td>\n",
       "      <td>NaN</td>\n",
       "      <td>NaN</td>\n",
       "      <td>-0.919521</td>\n",
       "      <td>-0.981036</td>\n",
       "      <td>NaN</td>\n",
       "      <td>0.984354</td>\n",
       "      <td>-0.947507</td>\n",
       "      <td>...</td>\n",
       "      <td>0.225781</td>\n",
       "      <td>-0.987071</td>\n",
       "      <td>0.505555</td>\n",
       "      <td>0.949567</td>\n",
       "      <td>-0.725721</td>\n",
       "      <td>0.667742</td>\n",
       "      <td>NaN</td>\n",
       "      <td>NaN</td>\n",
       "      <td>NaN</td>\n",
       "      <td>0.981798</td>\n",
       "    </tr>\n",
       "    <tr>\n",
       "      <th>India</th>\n",
       "      <td>-0.700650</td>\n",
       "      <td>0.838653</td>\n",
       "      <td>NaN</td>\n",
       "      <td>0.979770</td>\n",
       "      <td>0.338557</td>\n",
       "      <td>-0.984446</td>\n",
       "      <td>-0.922763</td>\n",
       "      <td>-0.945650</td>\n",
       "      <td>0.987074</td>\n",
       "      <td>-0.952978</td>\n",
       "      <td>...</td>\n",
       "      <td>-0.987524</td>\n",
       "      <td>-0.989709</td>\n",
       "      <td>0.514362</td>\n",
       "      <td>-0.814355</td>\n",
       "      <td>0.701925</td>\n",
       "      <td>0.927380</td>\n",
       "      <td>NaN</td>\n",
       "      <td>NaN</td>\n",
       "      <td>NaN</td>\n",
       "      <td>0.987350</td>\n",
       "    </tr>\n",
       "    <tr>\n",
       "      <th>...</th>\n",
       "      <td>...</td>\n",
       "      <td>...</td>\n",
       "      <td>...</td>\n",
       "      <td>...</td>\n",
       "      <td>...</td>\n",
       "      <td>...</td>\n",
       "      <td>...</td>\n",
       "      <td>...</td>\n",
       "      <td>...</td>\n",
       "      <td>...</td>\n",
       "      <td>...</td>\n",
       "      <td>...</td>\n",
       "      <td>...</td>\n",
       "      <td>...</td>\n",
       "      <td>...</td>\n",
       "      <td>...</td>\n",
       "      <td>...</td>\n",
       "      <td>...</td>\n",
       "      <td>...</td>\n",
       "      <td>...</td>\n",
       "      <td>...</td>\n",
       "    </tr>\n",
       "    <tr>\n",
       "      <th>Colombia</th>\n",
       "      <td>-0.928724</td>\n",
       "      <td>NaN</td>\n",
       "      <td>0.758967</td>\n",
       "      <td>0.641759</td>\n",
       "      <td>0.634779</td>\n",
       "      <td>-0.901693</td>\n",
       "      <td>0.659420</td>\n",
       "      <td>-0.837504</td>\n",
       "      <td>0.859863</td>\n",
       "      <td>-0.874104</td>\n",
       "      <td>...</td>\n",
       "      <td>-0.678381</td>\n",
       "      <td>-0.856736</td>\n",
       "      <td>0.782616</td>\n",
       "      <td>0.653603</td>\n",
       "      <td>0.535807</td>\n",
       "      <td>0.568786</td>\n",
       "      <td>0.628709</td>\n",
       "      <td>0.632915</td>\n",
       "      <td>0.773963</td>\n",
       "      <td>0.823003</td>\n",
       "    </tr>\n",
       "    <tr>\n",
       "      <th>China</th>\n",
       "      <td>NaN</td>\n",
       "      <td>NaN</td>\n",
       "      <td>NaN</td>\n",
       "      <td>0.949529</td>\n",
       "      <td>-0.860912</td>\n",
       "      <td>-0.362204</td>\n",
       "      <td>0.776483</td>\n",
       "      <td>-0.927046</td>\n",
       "      <td>0.982323</td>\n",
       "      <td>-0.868190</td>\n",
       "      <td>...</td>\n",
       "      <td>-0.550435</td>\n",
       "      <td>-0.983006</td>\n",
       "      <td>-0.713696</td>\n",
       "      <td>-0.956523</td>\n",
       "      <td>0.825297</td>\n",
       "      <td>0.767233</td>\n",
       "      <td>NaN</td>\n",
       "      <td>NaN</td>\n",
       "      <td>NaN</td>\n",
       "      <td>0.982877</td>\n",
       "    </tr>\n",
       "    <tr>\n",
       "      <th>Greece</th>\n",
       "      <td>-0.854153</td>\n",
       "      <td>0.114222</td>\n",
       "      <td>0.408677</td>\n",
       "      <td>0.862916</td>\n",
       "      <td>-0.425234</td>\n",
       "      <td>0.588829</td>\n",
       "      <td>-0.253547</td>\n",
       "      <td>0.524593</td>\n",
       "      <td>0.171029</td>\n",
       "      <td>0.428454</td>\n",
       "      <td>...</td>\n",
       "      <td>0.048550</td>\n",
       "      <td>-0.072185</td>\n",
       "      <td>0.292634</td>\n",
       "      <td>0.380068</td>\n",
       "      <td>0.513542</td>\n",
       "      <td>0.163758</td>\n",
       "      <td>NaN</td>\n",
       "      <td>0.236961</td>\n",
       "      <td>0.633141</td>\n",
       "      <td>0.155726</td>\n",
       "    </tr>\n",
       "    <tr>\n",
       "      <th>Thailand</th>\n",
       "      <td>0.036810</td>\n",
       "      <td>-0.919643</td>\n",
       "      <td>NaN</td>\n",
       "      <td>0.881927</td>\n",
       "      <td>0.172728</td>\n",
       "      <td>-0.979122</td>\n",
       "      <td>0.921562</td>\n",
       "      <td>-0.944235</td>\n",
       "      <td>0.987648</td>\n",
       "      <td>-0.971913</td>\n",
       "      <td>...</td>\n",
       "      <td>-0.955077</td>\n",
       "      <td>-0.985585</td>\n",
       "      <td>-0.799532</td>\n",
       "      <td>-0.752925</td>\n",
       "      <td>0.571812</td>\n",
       "      <td>0.848803</td>\n",
       "      <td>NaN</td>\n",
       "      <td>-0.359601</td>\n",
       "      <td>-0.495271</td>\n",
       "      <td>0.979655</td>\n",
       "    </tr>\n",
       "    <tr>\n",
       "      <th>Suriname</th>\n",
       "      <td>-0.801875</td>\n",
       "      <td>NaN</td>\n",
       "      <td>NaN</td>\n",
       "      <td>0.952160</td>\n",
       "      <td>-0.477381</td>\n",
       "      <td>-0.782693</td>\n",
       "      <td>-0.732059</td>\n",
       "      <td>NaN</td>\n",
       "      <td>0.843697</td>\n",
       "      <td>-0.847780</td>\n",
       "      <td>...</td>\n",
       "      <td>-0.442446</td>\n",
       "      <td>0.723211</td>\n",
       "      <td>-0.492572</td>\n",
       "      <td>-0.606684</td>\n",
       "      <td>-0.245432</td>\n",
       "      <td>0.423987</td>\n",
       "      <td>NaN</td>\n",
       "      <td>NaN</td>\n",
       "      <td>NaN</td>\n",
       "      <td>0.749926</td>\n",
       "    </tr>\n",
       "  </tbody>\n",
       "</table>\n",
       "<p>179 rows × 21 columns</p>\n",
       "</div>"
      ],
      "text/plain": [
       "                 AgriShareGDP  CreditToAgriFishForest  EmploymentRural  \\\n",
       "Japan               -0.491802                     NaN              NaN   \n",
       "Guinea               0.498159                     NaN              NaN   \n",
       "Jordan               0.929244               -0.828580              NaN   \n",
       "Solomon Islands     -0.399197                     NaN              NaN   \n",
       "India               -0.700650                0.838653              NaN   \n",
       "...                       ...                     ...              ...   \n",
       "Colombia            -0.928724                     NaN         0.758967   \n",
       "China                     NaN                     NaN              NaN   \n",
       "Greece              -0.854153                0.114222         0.408677   \n",
       "Thailand             0.036810               -0.919643              NaN   \n",
       "Suriname            -0.801875                     NaN              NaN   \n",
       "\n",
       "                 TotalAgri  % Soldiers  Birth Rate  Death Rate  Homicides  \\\n",
       "Japan             0.910719    0.393421   -0.375865    0.441033  -0.443549   \n",
       "Guinea            0.174019   -0.694951   -0.939092   -0.914487        NaN   \n",
       "Jordan            0.979891   -0.925262   -0.969768   -0.750168        NaN   \n",
       "Solomon Islands        NaN         NaN   -0.919521   -0.981036        NaN   \n",
       "India             0.979770    0.338557   -0.984446   -0.922763  -0.945650   \n",
       "...                    ...         ...         ...         ...        ...   \n",
       "Colombia          0.641759    0.634779   -0.901693    0.659420  -0.837504   \n",
       "China             0.949529   -0.860912   -0.362204    0.776483  -0.927046   \n",
       "Greece            0.862916   -0.425234    0.588829   -0.253547   0.524593   \n",
       "Thailand          0.881927    0.172728   -0.979122    0.921562  -0.944235   \n",
       "Suriname          0.952160   -0.477381   -0.782693   -0.732059        NaN   \n",
       "\n",
       "                 Life Expectancy  Maternal Death Risk  ...  \\\n",
       "Japan                   0.349423            -0.375301  ...   \n",
       "Guinea                  0.935467            -0.879412  ...   \n",
       "Jordan                  0.987968            -0.989961  ...   \n",
       "Solomon Islands         0.984354            -0.947507  ...   \n",
       "India                   0.987074            -0.952978  ...   \n",
       "...                          ...                  ...  ...   \n",
       "Colombia                0.859863            -0.874104  ...   \n",
       "China                   0.982323            -0.868190  ...   \n",
       "Greece                  0.171029             0.428454  ...   \n",
       "Thailand                0.987648            -0.971913  ...   \n",
       "Suriname                0.843697            -0.847780  ...   \n",
       "\n",
       "                 % Population Growth  % Rural Population  Civil Liberties  \\\n",
       "Japan                      -0.554870           -0.566014        -0.034650   \n",
       "Guinea                      0.907336           -0.954342         0.293413   \n",
       "Jordan                      0.044476           -0.992862         0.573174   \n",
       "Solomon Islands             0.225781           -0.987071         0.505555   \n",
       "India                      -0.987524           -0.989709         0.514362   \n",
       "...                              ...                 ...              ...   \n",
       "Colombia                   -0.678381           -0.856736         0.782616   \n",
       "China                      -0.550435           -0.983006        -0.713696   \n",
       "Greece                      0.048550           -0.072185         0.292634   \n",
       "Thailand                   -0.955077           -0.985585        -0.799532   \n",
       "Suriname                   -0.442446            0.723211        -0.492572   \n",
       "\n",
       "                 Freedom of Expression  % Healthcare Investment  \\\n",
       "Japan                        -0.045268                 0.367248   \n",
       "Guinea                        0.625618                 0.694268   \n",
       "Jordan                        0.940235                 0.116714   \n",
       "Solomon Islands               0.949567                -0.725721   \n",
       "India                        -0.814355                 0.701925   \n",
       "...                                ...                      ...   \n",
       "Colombia                      0.653603                 0.535807   \n",
       "China                        -0.956523                 0.825297   \n",
       "Greece                        0.380068                 0.513542   \n",
       "Thailand                     -0.752925                 0.571812   \n",
       "Suriname                     -0.606684                -0.245432   \n",
       "\n",
       "                 % Employment Industry  % Education Expenditure  \\\n",
       "Japan                        -0.466609                -0.178459   \n",
       "Guinea                        0.873440                 0.419932   \n",
       "Jordan                       -0.936668                      NaN   \n",
       "Solomon Islands               0.667742                      NaN   \n",
       "India                         0.927380                      NaN   \n",
       "...                                ...                      ...   \n",
       "Colombia                      0.568786                 0.628709   \n",
       "China                         0.767233                      NaN   \n",
       "Greece                        0.163758                      NaN   \n",
       "Thailand                      0.848803                      NaN   \n",
       "Suriname                      0.423987                      NaN   \n",
       "\n",
       "                 % Men Employment  % Women Employment  Population  \n",
       "Japan                   -0.574905            0.016904    0.163330  \n",
       "Guinea                        NaN                 NaN    0.968902  \n",
       "Jordan                        NaN                 NaN    0.994118  \n",
       "Solomon Islands               NaN                 NaN    0.981798  \n",
       "India                         NaN                 NaN    0.987350  \n",
       "...                           ...                 ...         ...  \n",
       "Colombia                 0.632915            0.773963    0.823003  \n",
       "China                         NaN                 NaN    0.982877  \n",
       "Greece                   0.236961            0.633141    0.155726  \n",
       "Thailand                -0.359601           -0.495271    0.979655  \n",
       "Suriname                      NaN                 NaN    0.749926  \n",
       "\n",
       "[179 rows x 21 columns]"
      ]
     },
     "execution_count": 2,
     "metadata": {},
     "output_type": "execute_result"
    }
   ],
   "source": [
    "#One dataframe per country\n",
    "\n",
    "df= pd.read_csv (os.getcwd()+'/Output/GoldDataframe.csv')\n",
    "corr_df = pd.DataFrame()\n",
    "corr_df.index.names = ['Country']\n",
    "aux_df = pd.DataFrame()\n",
    "\n",
    "#List all the countries, none repeated\n",
    "countries = set(df['Country'].to_list())\n",
    "\n",
    "country_dict = {}\n",
    "corr_dict = {}\n",
    "\n",
    "for country in countries:\n",
    "\n",
    "    #Get the DataFrame for a given country\n",
    "    country_df = df.loc[df['Country'] == country]\n",
    "\n",
    "    #Correlation matrix for that country\n",
    "    country_corr_df = country_df.corr()\n",
    "\n",
    "    #Trim it into a single row\n",
    "    country_corr_df = country_corr_df.rename(columns = {'GDP': country}).drop(index = ['Year', 'GDP'])\n",
    "\n",
    "    #Add the row to a new DataFrame with the correlations for each country\n",
    "    corr_df = pd.concat([corr_df, country_corr_df[country]], axis = 1)\n",
    "\n",
    "#Transpose the resulting DataFrame to have the desired format and show it\n",
    "corr_df = corr_df.transpose()\n",
    "corr_df\n"
   ]
  },
  {
   "cell_type": "code",
   "execution_count": 3,
   "metadata": {},
   "outputs": [
    {
     "data": {
      "application/vnd.jupyter.widget-view+json": {
       "model_id": "5e1ec2558ff8437da7c90d0234b0b1c2",
       "version_major": 2,
       "version_minor": 0
      },
      "text/plain": [
       "interactive(children=(SelectMultiple(description='Indicator', index=(0,), layout=Layout(height='80px', width='…"
      ]
     },
     "metadata": {},
     "output_type": "display_data"
    },
    {
     "data": {
      "application/vnd.plotly.v1+json": {
       "config": {
        "plotlyServerURL": "https://plot.ly"
       },
       "data": [
        {
         "coloraxis": "coloraxis",
         "geo": "geo",
         "hovertemplate": "index=%{location}<br>AgriShareGDP=%{z}<extra></extra>",
         "locationmode": "country names",
         "locations": [
          "Japan",
          "Guinea",
          "Jordan",
          "Solomon Islands",
          "India",
          "Ethiopia",
          "Mongolia",
          "Latvia",
          "Maldives",
          "Vanuatu",
          "Nigeria",
          "Trinidad and Tobago",
          "Mexico",
          "Guatemala",
          "Panama",
          "Malaysia",
          "Morocco",
          "Fiji",
          "Iceland",
          "Greenland",
          "Sri Lanka",
          "Poland",
          "Equatorial Guinea",
          "Bulgaria",
          "Libya",
          "South Sudan",
          "Burundi",
          "Kiribati",
          "Belgium",
          "Brazil",
          "Saudi Arabia",
          "Dominica",
          "Gambia",
          "Nicaragua",
          "Madagascar",
          "New Zealand",
          "Turkmenistan",
          "United Arab Emirates",
          "Eritrea",
          "Jamaica",
          "South Africa",
          "Kyrgyzstan",
          "Estonia",
          "Canada",
          "Finland",
          "Togo",
          "Italy",
          "Hungary",
          "Myanmar",
          "Honduras",
          "Serbia",
          "Lithuania",
          "Mauritius",
          "Gabon",
          "Kenya",
          "Tajikistan",
          "Paraguay",
          "Haiti",
          "Netherlands",
          "Georgia",
          "Malta",
          "Benin",
          "Ukraine",
          "Bermuda",
          "Luxembourg",
          "Germany",
          "Cuba",
          "Sudan",
          "Costa Rica",
          "Bosnia and Herzegovina",
          "Nauru",
          "Grenada",
          "Barbados",
          "Malawi",
          "Zimbabwe",
          "Denmark",
          "Zambia",
          "North Macedonia",
          "Niger",
          "Guyana",
          "Spain",
          "Iraq",
          "United Kingdom",
          "Palau",
          "Azerbaijan",
          "Chad",
          "Congo",
          "France",
          "Djibouti",
          "Sweden",
          "New Caledonia",
          "Rwanda",
          "Israel",
          "Sao Tome and Principe",
          "Marshall Islands",
          "Botswana",
          "Eswatini",
          "Indonesia",
          "Pakistan",
          "Croatia",
          "Cayman Islands",
          "Albania",
          "Algeria",
          "Puerto Rico",
          "Armenia",
          "Cambodia",
          "Bahrain",
          "Kuwait",
          "Angola",
          "Egypt",
          "Aruba",
          "Ecuador",
          "Kazakhstan",
          "Russia",
          "United States",
          "Tunisia",
          "Peru",
          "Chile",
          "Afghanistan",
          "Mauritania",
          "Yemen",
          "Austria",
          "Comoros",
          "Belize",
          "French Polynesia",
          "Seychelles",
          "Senegal",
          "Tonga",
          "Slovenia",
          "Qatar",
          "Burkina Faso",
          "Saint Lucia",
          "Lesotho",
          "Tuvalu",
          "Samoa",
          "Central African Republic",
          "Belarus",
          "Ireland",
          "Bhutan",
          "Ghana",
          "Portugal",
          "Namibia",
          "Antigua and Barbuda",
          "Australia",
          "Mozambique",
          "Sierra Leone",
          "El Salvador",
          "Cyprus",
          "Cameroon",
          "Liberia",
          "Mali",
          "Papua New Guinea",
          "San Marino",
          "Oman",
          "Philippines",
          "Uzbekistan",
          "Norway",
          "Somalia",
          "Uruguay",
          "Nepal",
          "Lebanon",
          "Singapore",
          "Uganda",
          "Switzerland",
          "Czechia",
          "Slovakia",
          "Argentina",
          "Guinea-Bissau",
          "Dominican Republic",
          "Bangladesh",
          "Montenegro",
          "Romania",
          "Andorra",
          "Liechtenstein",
          "Colombia",
          "China",
          "Greece",
          "Thailand",
          "Suriname"
         ],
         "name": "",
         "type": "choropleth",
         "z": [
          -0.4918021235272721,
          0.4981590975526931,
          0.9292437594281578,
          -0.3991969835189398,
          -0.700649507092263,
          -0.7427944720312178,
          -0.8355217345279581,
          -0.7708455187171825,
          -0.35871070546205086,
          -0.18856175434640862,
          -0.7416626489049046,
          -0.8083567434722658,
          -0.15110982788610094,
          -0.910783581293827,
          -0.9325517979342587,
          -0.05799405968765384,
          -0.42151315976729525,
          -0.42454006505696285,
          -0.9314906398719144,
          0.015425452701193196,
          -0.6031364214233185,
          -0.5104884920594763,
          -0.8486192959235674,
          -0.9575448068063352,
          -0.535871362042077,
          null,
          -0.3496495655232733,
          0.6441786963795697,
          -0.9291809511372993,
          -0.6824726955116254,
          -0.8954205369814583,
          0.6771268988188248,
          -0.5040785343058328,
          -0.3141050792765419,
          -0.8569135424696452,
          -0.3901300466124,
          -0.9165808027323511,
          -0.9279434164823261,
          0.08233872730476581,
          0.3936404788192563,
          -0.8427968232002708,
          -0.8310736040825246,
          -0.630469765190067,
          -0.6032401543385976,
          -0.6844897662727807,
          -0.8234424931464022,
          -0.8820808398131004,
          -0.7856366651656908,
          -0.9678699960054002,
          -0.16265315958888382,
          -0.7938048760063402,
          -0.8353353151260893,
          -0.9680608365989137,
          -0.7019760365914864,
          0.929395604705077,
          -0.11816046448941489,
          0.12020046388224769,
          -0.5119431587894402,
          -0.9279197943938866,
          -0.9508662246185998,
          -0.9712198891595265,
          0.5585501439003824,
          -0.7796743745253912,
          -0.8521168107283245,
          -0.9084049485084351,
          -0.565806539276942,
          -0.7411778615096978,
          null,
          -0.9836031733548807,
          -0.890388711927548,
          -0.9432697722260653,
          0.16028226101681153,
          -0.8935594731221601,
          -0.839805329038585,
          -0.674981469076645,
          -0.768554121585154,
          -0.8459189655045559,
          -0.4533358395612625,
          -0.4406847469701758,
          -0.8095978580774993,
          -0.9246020681684352,
          -0.7932788342898283,
          -0.716390085534926,
          -0.9558679200949804,
          -0.8581621857504442,
          -0.5438517653153988,
          -0.6362752332249866,
          -0.8641423065584387,
          -0.9037244864916116,
          -0.6939308578106985,
          -0.5905723882687031,
          -0.8203148473144741,
          -0.7777787590746487,
          -0.7292752475891066,
          0.7356448962507441,
          -0.5247023240976855,
          -0.8020291724807224,
          -0.052732060454409355,
          -0.3564374169269262,
          -0.713594624166334,
          0.8329453438889185,
          -0.7213763707469719,
          0.13775097173642994,
          0.5731166325165244,
          -0.8594781938426445,
          -0.8189385846768551,
          -0.7800474945395834,
          -0.216973472969378,
          0.24450512087313336,
          -0.5143855567867214,
          0.3741649727817593,
          -0.7215009939786482,
          -0.9136350482950665,
          -0.9306417343797083,
          -0.169931328254077,
          -0.11240984433863804,
          -0.322646527474029,
          -0.8374628674303137,
          -0.8702332125359779,
          -0.6962296775129467,
          0.07771098793417787,
          -0.8285363932508436,
          -0.5927549619729722,
          -0.6064329687837003,
          -0.833534845066142,
          -0.7416434293602443,
          -0.06415712286442721,
          -0.1788512484648285,
          -0.8631718214807295,
          -0.5437859823468949,
          -0.7751609152889536,
          -0.8437032161877829,
          -0.800495784861207,
          0.2001302170135677,
          -0.9520872058064423,
          -0.6508918168523262,
          -0.7406875567638112,
          -0.7218655963258508,
          -0.8025977498851751,
          -0.8986316649951261,
          -0.9370489810725439,
          -0.7955630866641139,
          0.1240682496625928,
          -0.7812355938750303,
          0.5677661615395543,
          0.6343035981396866,
          -0.4863337520474014,
          -0.9199037030067883,
          -0.18613061166870498,
          -0.19164420133785307,
          0.8168640617370294,
          -0.9062326254496571,
          0.06584950093930352,
          -0.30595282970630217,
          -0.8991487437017284,
          -0.8332276663583743,
          -0.14353291554326994,
          -0.08070561376728035,
          -0.5769315589389916,
          -0.8758891199022157,
          -0.503101313242976,
          -0.8927550621050807,
          -0.5524986567664869,
          -0.9267462935060482,
          -0.6222328038675436,
          0.546178642978574,
          -0.5034609536804338,
          0.41629981975830316,
          -0.8988548560906199,
          -0.9076013100731348,
          -0.9250468161036534,
          -0.9374688324008857,
          0.03750664329868265,
          -0.7033535847829139,
          -0.9287236078660797,
          null,
          -0.8541526771526231,
          0.03681014117421503,
          -0.8018750496047906
         ]
        }
       ],
       "layout": {
        "coloraxis": {
         "colorbar": {
          "title": {
           "text": "AgriShareGDP"
          }
         },
         "colorscale": [
          [
           0,
           "rgb(255,245,240)"
          ],
          [
           0.125,
           "rgb(254,224,210)"
          ],
          [
           0.25,
           "rgb(252,187,161)"
          ],
          [
           0.375,
           "rgb(252,146,114)"
          ],
          [
           0.5,
           "rgb(251,106,74)"
          ],
          [
           0.625,
           "rgb(239,59,44)"
          ],
          [
           0.75,
           "rgb(203,24,29)"
          ],
          [
           0.875,
           "rgb(165,15,21)"
          ],
          [
           1,
           "rgb(103,0,13)"
          ]
         ],
         "showscale": true
        },
        "geo": {
         "center": {},
         "domain": {
          "x": [
           0,
           1
          ],
          "y": [
           0,
           1
          ]
         },
         "projection": {
          "type": "natural earth"
         }
        },
        "height": 500,
        "legend": {
         "tracegroupgap": 0
        },
        "margin": {
         "t": 60
        },
        "template": {
         "data": {
          "bar": [
           {
            "error_x": {
             "color": "#2a3f5f"
            },
            "error_y": {
             "color": "#2a3f5f"
            },
            "marker": {
             "line": {
              "color": "#E5ECF6",
              "width": 0.5
             },
             "pattern": {
              "fillmode": "overlay",
              "size": 10,
              "solidity": 0.2
             }
            },
            "type": "bar"
           }
          ],
          "barpolar": [
           {
            "marker": {
             "line": {
              "color": "#E5ECF6",
              "width": 0.5
             },
             "pattern": {
              "fillmode": "overlay",
              "size": 10,
              "solidity": 0.2
             }
            },
            "type": "barpolar"
           }
          ],
          "carpet": [
           {
            "aaxis": {
             "endlinecolor": "#2a3f5f",
             "gridcolor": "white",
             "linecolor": "white",
             "minorgridcolor": "white",
             "startlinecolor": "#2a3f5f"
            },
            "baxis": {
             "endlinecolor": "#2a3f5f",
             "gridcolor": "white",
             "linecolor": "white",
             "minorgridcolor": "white",
             "startlinecolor": "#2a3f5f"
            },
            "type": "carpet"
           }
          ],
          "choropleth": [
           {
            "colorbar": {
             "outlinewidth": 0,
             "ticks": ""
            },
            "type": "choropleth"
           }
          ],
          "contour": [
           {
            "colorbar": {
             "outlinewidth": 0,
             "ticks": ""
            },
            "colorscale": [
             [
              0,
              "#0d0887"
             ],
             [
              0.1111111111111111,
              "#46039f"
             ],
             [
              0.2222222222222222,
              "#7201a8"
             ],
             [
              0.3333333333333333,
              "#9c179e"
             ],
             [
              0.4444444444444444,
              "#bd3786"
             ],
             [
              0.5555555555555556,
              "#d8576b"
             ],
             [
              0.6666666666666666,
              "#ed7953"
             ],
             [
              0.7777777777777778,
              "#fb9f3a"
             ],
             [
              0.8888888888888888,
              "#fdca26"
             ],
             [
              1,
              "#f0f921"
             ]
            ],
            "type": "contour"
           }
          ],
          "contourcarpet": [
           {
            "colorbar": {
             "outlinewidth": 0,
             "ticks": ""
            },
            "type": "contourcarpet"
           }
          ],
          "heatmap": [
           {
            "colorbar": {
             "outlinewidth": 0,
             "ticks": ""
            },
            "colorscale": [
             [
              0,
              "#0d0887"
             ],
             [
              0.1111111111111111,
              "#46039f"
             ],
             [
              0.2222222222222222,
              "#7201a8"
             ],
             [
              0.3333333333333333,
              "#9c179e"
             ],
             [
              0.4444444444444444,
              "#bd3786"
             ],
             [
              0.5555555555555556,
              "#d8576b"
             ],
             [
              0.6666666666666666,
              "#ed7953"
             ],
             [
              0.7777777777777778,
              "#fb9f3a"
             ],
             [
              0.8888888888888888,
              "#fdca26"
             ],
             [
              1,
              "#f0f921"
             ]
            ],
            "type": "heatmap"
           }
          ],
          "heatmapgl": [
           {
            "colorbar": {
             "outlinewidth": 0,
             "ticks": ""
            },
            "colorscale": [
             [
              0,
              "#0d0887"
             ],
             [
              0.1111111111111111,
              "#46039f"
             ],
             [
              0.2222222222222222,
              "#7201a8"
             ],
             [
              0.3333333333333333,
              "#9c179e"
             ],
             [
              0.4444444444444444,
              "#bd3786"
             ],
             [
              0.5555555555555556,
              "#d8576b"
             ],
             [
              0.6666666666666666,
              "#ed7953"
             ],
             [
              0.7777777777777778,
              "#fb9f3a"
             ],
             [
              0.8888888888888888,
              "#fdca26"
             ],
             [
              1,
              "#f0f921"
             ]
            ],
            "type": "heatmapgl"
           }
          ],
          "histogram": [
           {
            "marker": {
             "pattern": {
              "fillmode": "overlay",
              "size": 10,
              "solidity": 0.2
             }
            },
            "type": "histogram"
           }
          ],
          "histogram2d": [
           {
            "colorbar": {
             "outlinewidth": 0,
             "ticks": ""
            },
            "colorscale": [
             [
              0,
              "#0d0887"
             ],
             [
              0.1111111111111111,
              "#46039f"
             ],
             [
              0.2222222222222222,
              "#7201a8"
             ],
             [
              0.3333333333333333,
              "#9c179e"
             ],
             [
              0.4444444444444444,
              "#bd3786"
             ],
             [
              0.5555555555555556,
              "#d8576b"
             ],
             [
              0.6666666666666666,
              "#ed7953"
             ],
             [
              0.7777777777777778,
              "#fb9f3a"
             ],
             [
              0.8888888888888888,
              "#fdca26"
             ],
             [
              1,
              "#f0f921"
             ]
            ],
            "type": "histogram2d"
           }
          ],
          "histogram2dcontour": [
           {
            "colorbar": {
             "outlinewidth": 0,
             "ticks": ""
            },
            "colorscale": [
             [
              0,
              "#0d0887"
             ],
             [
              0.1111111111111111,
              "#46039f"
             ],
             [
              0.2222222222222222,
              "#7201a8"
             ],
             [
              0.3333333333333333,
              "#9c179e"
             ],
             [
              0.4444444444444444,
              "#bd3786"
             ],
             [
              0.5555555555555556,
              "#d8576b"
             ],
             [
              0.6666666666666666,
              "#ed7953"
             ],
             [
              0.7777777777777778,
              "#fb9f3a"
             ],
             [
              0.8888888888888888,
              "#fdca26"
             ],
             [
              1,
              "#f0f921"
             ]
            ],
            "type": "histogram2dcontour"
           }
          ],
          "mesh3d": [
           {
            "colorbar": {
             "outlinewidth": 0,
             "ticks": ""
            },
            "type": "mesh3d"
           }
          ],
          "parcoords": [
           {
            "line": {
             "colorbar": {
              "outlinewidth": 0,
              "ticks": ""
             }
            },
            "type": "parcoords"
           }
          ],
          "pie": [
           {
            "automargin": true,
            "type": "pie"
           }
          ],
          "scatter": [
           {
            "fillpattern": {
             "fillmode": "overlay",
             "size": 10,
             "solidity": 0.2
            },
            "type": "scatter"
           }
          ],
          "scatter3d": [
           {
            "line": {
             "colorbar": {
              "outlinewidth": 0,
              "ticks": ""
             }
            },
            "marker": {
             "colorbar": {
              "outlinewidth": 0,
              "ticks": ""
             }
            },
            "type": "scatter3d"
           }
          ],
          "scattercarpet": [
           {
            "marker": {
             "colorbar": {
              "outlinewidth": 0,
              "ticks": ""
             }
            },
            "type": "scattercarpet"
           }
          ],
          "scattergeo": [
           {
            "marker": {
             "colorbar": {
              "outlinewidth": 0,
              "ticks": ""
             }
            },
            "type": "scattergeo"
           }
          ],
          "scattergl": [
           {
            "marker": {
             "colorbar": {
              "outlinewidth": 0,
              "ticks": ""
             }
            },
            "type": "scattergl"
           }
          ],
          "scattermapbox": [
           {
            "marker": {
             "colorbar": {
              "outlinewidth": 0,
              "ticks": ""
             }
            },
            "type": "scattermapbox"
           }
          ],
          "scatterpolar": [
           {
            "marker": {
             "colorbar": {
              "outlinewidth": 0,
              "ticks": ""
             }
            },
            "type": "scatterpolar"
           }
          ],
          "scatterpolargl": [
           {
            "marker": {
             "colorbar": {
              "outlinewidth": 0,
              "ticks": ""
             }
            },
            "type": "scatterpolargl"
           }
          ],
          "scatterternary": [
           {
            "marker": {
             "colorbar": {
              "outlinewidth": 0,
              "ticks": ""
             }
            },
            "type": "scatterternary"
           }
          ],
          "surface": [
           {
            "colorbar": {
             "outlinewidth": 0,
             "ticks": ""
            },
            "colorscale": [
             [
              0,
              "#0d0887"
             ],
             [
              0.1111111111111111,
              "#46039f"
             ],
             [
              0.2222222222222222,
              "#7201a8"
             ],
             [
              0.3333333333333333,
              "#9c179e"
             ],
             [
              0.4444444444444444,
              "#bd3786"
             ],
             [
              0.5555555555555556,
              "#d8576b"
             ],
             [
              0.6666666666666666,
              "#ed7953"
             ],
             [
              0.7777777777777778,
              "#fb9f3a"
             ],
             [
              0.8888888888888888,
              "#fdca26"
             ],
             [
              1,
              "#f0f921"
             ]
            ],
            "type": "surface"
           }
          ],
          "table": [
           {
            "cells": {
             "fill": {
              "color": "#EBF0F8"
             },
             "line": {
              "color": "white"
             }
            },
            "header": {
             "fill": {
              "color": "#C8D4E3"
             },
             "line": {
              "color": "white"
             }
            },
            "type": "table"
           }
          ]
         },
         "layout": {
          "annotationdefaults": {
           "arrowcolor": "#2a3f5f",
           "arrowhead": 0,
           "arrowwidth": 1
          },
          "autotypenumbers": "strict",
          "coloraxis": {
           "colorbar": {
            "outlinewidth": 0,
            "ticks": ""
           }
          },
          "colorscale": {
           "diverging": [
            [
             0,
             "#8e0152"
            ],
            [
             0.1,
             "#c51b7d"
            ],
            [
             0.2,
             "#de77ae"
            ],
            [
             0.3,
             "#f1b6da"
            ],
            [
             0.4,
             "#fde0ef"
            ],
            [
             0.5,
             "#f7f7f7"
            ],
            [
             0.6,
             "#e6f5d0"
            ],
            [
             0.7,
             "#b8e186"
            ],
            [
             0.8,
             "#7fbc41"
            ],
            [
             0.9,
             "#4d9221"
            ],
            [
             1,
             "#276419"
            ]
           ],
           "sequential": [
            [
             0,
             "#0d0887"
            ],
            [
             0.1111111111111111,
             "#46039f"
            ],
            [
             0.2222222222222222,
             "#7201a8"
            ],
            [
             0.3333333333333333,
             "#9c179e"
            ],
            [
             0.4444444444444444,
             "#bd3786"
            ],
            [
             0.5555555555555556,
             "#d8576b"
            ],
            [
             0.6666666666666666,
             "#ed7953"
            ],
            [
             0.7777777777777778,
             "#fb9f3a"
            ],
            [
             0.8888888888888888,
             "#fdca26"
            ],
            [
             1,
             "#f0f921"
            ]
           ],
           "sequentialminus": [
            [
             0,
             "#0d0887"
            ],
            [
             0.1111111111111111,
             "#46039f"
            ],
            [
             0.2222222222222222,
             "#7201a8"
            ],
            [
             0.3333333333333333,
             "#9c179e"
            ],
            [
             0.4444444444444444,
             "#bd3786"
            ],
            [
             0.5555555555555556,
             "#d8576b"
            ],
            [
             0.6666666666666666,
             "#ed7953"
            ],
            [
             0.7777777777777778,
             "#fb9f3a"
            ],
            [
             0.8888888888888888,
             "#fdca26"
            ],
            [
             1,
             "#f0f921"
            ]
           ]
          },
          "colorway": [
           "#636efa",
           "#EF553B",
           "#00cc96",
           "#ab63fa",
           "#FFA15A",
           "#19d3f3",
           "#FF6692",
           "#B6E880",
           "#FF97FF",
           "#FECB52"
          ],
          "font": {
           "color": "#2a3f5f"
          },
          "geo": {
           "bgcolor": "white",
           "lakecolor": "white",
           "landcolor": "#E5ECF6",
           "showlakes": true,
           "showland": true,
           "subunitcolor": "white"
          },
          "hoverlabel": {
           "align": "left"
          },
          "hovermode": "closest",
          "mapbox": {
           "style": "light"
          },
          "paper_bgcolor": "white",
          "plot_bgcolor": "#E5ECF6",
          "polar": {
           "angularaxis": {
            "gridcolor": "white",
            "linecolor": "white",
            "ticks": ""
           },
           "bgcolor": "#E5ECF6",
           "radialaxis": {
            "gridcolor": "white",
            "linecolor": "white",
            "ticks": ""
           }
          },
          "scene": {
           "xaxis": {
            "backgroundcolor": "#E5ECF6",
            "gridcolor": "white",
            "gridwidth": 2,
            "linecolor": "white",
            "showbackground": true,
            "ticks": "",
            "zerolinecolor": "white"
           },
           "yaxis": {
            "backgroundcolor": "#E5ECF6",
            "gridcolor": "white",
            "gridwidth": 2,
            "linecolor": "white",
            "showbackground": true,
            "ticks": "",
            "zerolinecolor": "white"
           },
           "zaxis": {
            "backgroundcolor": "#E5ECF6",
            "gridcolor": "white",
            "gridwidth": 2,
            "linecolor": "white",
            "showbackground": true,
            "ticks": "",
            "zerolinecolor": "white"
           }
          },
          "shapedefaults": {
           "line": {
            "color": "#2a3f5f"
           }
          },
          "ternary": {
           "aaxis": {
            "gridcolor": "white",
            "linecolor": "white",
            "ticks": ""
           },
           "baxis": {
            "gridcolor": "white",
            "linecolor": "white",
            "ticks": ""
           },
           "bgcolor": "#E5ECF6",
           "caxis": {
            "gridcolor": "white",
            "linecolor": "white",
            "ticks": ""
           }
          },
          "title": {
           "x": 0.05
          },
          "xaxis": {
           "automargin": true,
           "gridcolor": "white",
           "linecolor": "white",
           "ticks": "",
           "title": {
            "standoff": 15
           },
           "zerolinecolor": "white",
           "zerolinewidth": 2
          },
          "yaxis": {
           "automargin": true,
           "gridcolor": "white",
           "linecolor": "white",
           "ticks": "",
           "title": {
            "standoff": 15
           },
           "zerolinecolor": "white",
           "zerolinewidth": 2
          }
         }
        },
        "width": 700
       }
      }
     },
     "metadata": {},
     "output_type": "display_data"
    }
   ],
   "source": [
    "import ipywidgets as widgets\n",
    "import plotly.express as px\n",
    "\n",
    "\n",
    "indicator = widgets.SelectMultiple(\n",
    "    options = corr_df.columns.tolist(),\n",
    "    value = ['AgriShareGDP'],\n",
    "    description='Indicator',\n",
    "    disabled=False,\n",
    "    layout = Layout(width='50%', height='80px')\n",
    ")\n",
    "\n",
    "\n",
    "def globalGrapgh(indicator):\n",
    "    fig = px.choropleth(corr_df, locations = corr_df.index, locationmode='country names', \n",
    "                        color= indicator[0],projection=\"natural earth\",\n",
    "                        color_continuous_scale='Reds',\n",
    "                    width=700, height=500)\n",
    "    fig.update(layout_coloraxis_showscale=True)\n",
    "    fig.show()\n",
    "    \n",
    "    \n",
    "widgets.interactive(globalGrapgh, indicator = indicator) "
   ]
  },
  {
   "cell_type": "code",
   "execution_count": 6,
   "metadata": {},
   "outputs": [
    {
     "data": {
      "application/vnd.jupyter.widget-view+json": {
       "model_id": "df40f1f2bfe9446ab9004e32d59a7a1c",
       "version_major": 2,
       "version_minor": 0
      },
      "text/plain": [
       "interactive(children=(Dropdown(description='Country', options=('Afghanistan', 'Albania', 'Algeria', 'Andorra',…"
      ]
     },
     "metadata": {},
     "output_type": "display_data"
    }
   ],
   "source": [
    "def tableOut(Threshold, Country):\n",
    "    \n",
    "    df = search_indicators(Threshold, corr_df)[Country]\n",
    "    df  = pd.merge(df, pvalue(Country), left_index=True, right_index=True, how = 'inner')\n",
    "    \n",
    "    \n",
    "    left = pd.Series([0.05], index=['P-value'])\n",
    "    left2 = pd.Series([-1], index=['GDP Correlation'])\n",
    "    left3 = pd.Series([0], index=['GDP Correlation'])\n",
    "    \n",
    "    df =df.style.highlight_between(left=left, right=1.5, axis=1, props='color:white; background-color:red;')\\\n",
    "        .highlight_between(left=left2, right=1.5, axis=1, props='color:white; background-color:#929bfc;')\\\n",
    "        .highlight_between(left=left3, right=1.5, axis=1, props='color:white; background-color:#b3b9ff;')\\\n",
    "        .format('{:,.4f}', subset = ['GDP Correlation'])\\\n",
    "        .format('{:,.12f}', subset = ['P-value'], )\n",
    "        #.format('{:12.3e}', subset = ['P-value'], )\n",
    "\n",
    "\n",
    "    display(df)\n",
    "    \n",
    "\n",
    "@interact(\n",
    "    Country = sorted(corr_df.index.tolist()),\n",
    "    Threshold = (0, 1, 0.05))\n",
    "def g(Country = 'Afghanistan', Threshold = 0.7):\n",
    "    return tableOut(Threshold,Country)\n",
    "\n",
    "    \n",
    "        "
   ]
  },
  {
   "cell_type": "code",
   "execution_count": null,
   "metadata": {},
   "outputs": [],
   "source": []
  }
 ],
 "metadata": {
  "kernelspec": {
   "display_name": "Python 3.10.5 ('.venv': poetry)",
   "language": "python",
   "name": "python3"
  },
  "language_info": {
   "codemirror_mode": {
    "name": "ipython",
    "version": 3
   },
   "file_extension": ".py",
   "mimetype": "text/x-python",
   "name": "python",
   "nbconvert_exporter": "python",
   "pygments_lexer": "ipython3",
   "version": "3.10.5"
  },
  "orig_nbformat": 4,
  "vscode": {
   "interpreter": {
    "hash": "44718ba4235bc6fc2135f9d8856f170c8312ddd29b08710a5ea28d42169e623e"
   }
  }
 },
 "nbformat": 4,
 "nbformat_minor": 2
}
