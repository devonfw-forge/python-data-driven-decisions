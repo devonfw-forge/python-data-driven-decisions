{
 "cells": [
  {
   "cell_type": "code",
   "execution_count": 20,
   "metadata": {},
   "outputs": [],
   "source": [
    "import pandas as pd\n",
    "import matplotlib.pyplot as plt\n",
    "import numpy as np\n",
    "from scipy import stats\n",
    "from scipy.stats import shapiro, pearsonr\n",
    "import os\n",
    "import statistics\n",
    "import seaborn as sns\n",
    "from scipy.stats import norm\n",
    "\n",
    "import ipywidgets as widgets\n",
    "from ipywidgets import Layout\n",
    "from ipywidgets import AppLayout, Button, GridspecLayout\n",
    "from ipywidgets import interact, interact_manual\n",
    "from Project.Utils.visualize import pvalue, search_indicators\n"
   ]
  },
  {
   "cell_type": "code",
   "execution_count": 33,
   "metadata": {},
   "outputs": [
    {
     "data": {
      "text/html": [
       "<div>\n",
       "<style scoped>\n",
       "    .dataframe tbody tr th:only-of-type {\n",
       "        vertical-align: middle;\n",
       "    }\n",
       "\n",
       "    .dataframe tbody tr th {\n",
       "        vertical-align: top;\n",
       "    }\n",
       "\n",
       "    .dataframe thead th {\n",
       "        text-align: right;\n",
       "    }\n",
       "</style>\n",
       "<table border=\"1\" class=\"dataframe\">\n",
       "  <thead>\n",
       "    <tr style=\"text-align: right;\">\n",
       "      <th></th>\n",
       "      <th>AgriShareGDP</th>\n",
       "      <th>CreditToAgriFishForest</th>\n",
       "      <th>EmploymentRural</th>\n",
       "      <th>TotalAgri</th>\n",
       "      <th>% Soldiers</th>\n",
       "      <th>Birth Rate</th>\n",
       "      <th>Death Rate</th>\n",
       "      <th>Homicides</th>\n",
       "      <th>Life Expectancy</th>\n",
       "      <th>Maternal Death Risk</th>\n",
       "      <th>...</th>\n",
       "      <th>% Population Growth</th>\n",
       "      <th>% Rural Population</th>\n",
       "      <th>Civil Liberties</th>\n",
       "      <th>Freedom of Expression</th>\n",
       "      <th>% Healthcare Investment</th>\n",
       "      <th>% Employment Industry</th>\n",
       "      <th>% Education Expenditure</th>\n",
       "      <th>% Men Employment</th>\n",
       "      <th>% Women Employment</th>\n",
       "      <th>Population</th>\n",
       "    </tr>\n",
       "  </thead>\n",
       "  <tbody>\n",
       "    <tr>\n",
       "      <th>North Macedonia</th>\n",
       "      <td>-0.453336</td>\n",
       "      <td>NaN</td>\n",
       "      <td>NaN</td>\n",
       "      <td>0.849724</td>\n",
       "      <td>-0.707169</td>\n",
       "      <td>-0.845644</td>\n",
       "      <td>0.873742</td>\n",
       "      <td>-0.879784</td>\n",
       "      <td>0.948999</td>\n",
       "      <td>-0.948052</td>\n",
       "      <td>...</td>\n",
       "      <td>NaN</td>\n",
       "      <td>0.312929</td>\n",
       "      <td>NaN</td>\n",
       "      <td>-0.455433</td>\n",
       "      <td>-0.269734</td>\n",
       "      <td>-0.385161</td>\n",
       "      <td>NaN</td>\n",
       "      <td>NaN</td>\n",
       "      <td>NaN</td>\n",
       "      <td>0.962738</td>\n",
       "    </tr>\n",
       "    <tr>\n",
       "      <th>Maldives</th>\n",
       "      <td>-0.358711</td>\n",
       "      <td>-0.774429</td>\n",
       "      <td>NaN</td>\n",
       "      <td>0.785726</td>\n",
       "      <td>NaN</td>\n",
       "      <td>-0.895093</td>\n",
       "      <td>-0.945294</td>\n",
       "      <td>NaN</td>\n",
       "      <td>0.932011</td>\n",
       "      <td>-0.806309</td>\n",
       "      <td>...</td>\n",
       "      <td>0.576308</td>\n",
       "      <td>-0.901088</td>\n",
       "      <td>0.396272</td>\n",
       "      <td>0.527516</td>\n",
       "      <td>0.891612</td>\n",
       "      <td>NaN</td>\n",
       "      <td>NaN</td>\n",
       "      <td>NaN</td>\n",
       "      <td>NaN</td>\n",
       "      <td>0.960518</td>\n",
       "    </tr>\n",
       "    <tr>\n",
       "      <th>Malawi</th>\n",
       "      <td>-0.839805</td>\n",
       "      <td>0.738618</td>\n",
       "      <td>NaN</td>\n",
       "      <td>0.976178</td>\n",
       "      <td>0.426255</td>\n",
       "      <td>-0.932029</td>\n",
       "      <td>-0.915541</td>\n",
       "      <td>NaN</td>\n",
       "      <td>0.928278</td>\n",
       "      <td>-0.895567</td>\n",
       "      <td>...</td>\n",
       "      <td>0.329982</td>\n",
       "      <td>-0.956254</td>\n",
       "      <td>0.853056</td>\n",
       "      <td>0.763209</td>\n",
       "      <td>0.564688</td>\n",
       "      <td>0.850495</td>\n",
       "      <td>NaN</td>\n",
       "      <td>NaN</td>\n",
       "      <td>NaN</td>\n",
       "      <td>0.954178</td>\n",
       "    </tr>\n",
       "    <tr>\n",
       "      <th>Saudi Arabia</th>\n",
       "      <td>-0.895421</td>\n",
       "      <td>NaN</td>\n",
       "      <td>NaN</td>\n",
       "      <td>0.914143</td>\n",
       "      <td>-0.940812</td>\n",
       "      <td>-0.920503</td>\n",
       "      <td>-0.854363</td>\n",
       "      <td>NaN</td>\n",
       "      <td>0.938614</td>\n",
       "      <td>-0.966087</td>\n",
       "      <td>...</td>\n",
       "      <td>-0.363360</td>\n",
       "      <td>-0.937296</td>\n",
       "      <td>0.854397</td>\n",
       "      <td>NaN</td>\n",
       "      <td>0.390936</td>\n",
       "      <td>0.816189</td>\n",
       "      <td>NaN</td>\n",
       "      <td>NaN</td>\n",
       "      <td>NaN</td>\n",
       "      <td>0.937013</td>\n",
       "    </tr>\n",
       "    <tr>\n",
       "      <th>Ecuador</th>\n",
       "      <td>-0.721501</td>\n",
       "      <td>NaN</td>\n",
       "      <td>0.828748</td>\n",
       "      <td>0.970426</td>\n",
       "      <td>-0.848656</td>\n",
       "      <td>-0.969534</td>\n",
       "      <td>0.355520</td>\n",
       "      <td>-0.757636</td>\n",
       "      <td>0.974022</td>\n",
       "      <td>-0.962705</td>\n",
       "      <td>...</td>\n",
       "      <td>-0.484330</td>\n",
       "      <td>-0.976795</td>\n",
       "      <td>0.796670</td>\n",
       "      <td>-0.407368</td>\n",
       "      <td>0.812754</td>\n",
       "      <td>-0.571075</td>\n",
       "      <td>NaN</td>\n",
       "      <td>NaN</td>\n",
       "      <td>NaN</td>\n",
       "      <td>0.968526</td>\n",
       "    </tr>\n",
       "    <tr>\n",
       "      <th>...</th>\n",
       "      <td>...</td>\n",
       "      <td>...</td>\n",
       "      <td>...</td>\n",
       "      <td>...</td>\n",
       "      <td>...</td>\n",
       "      <td>...</td>\n",
       "      <td>...</td>\n",
       "      <td>...</td>\n",
       "      <td>...</td>\n",
       "      <td>...</td>\n",
       "      <td>...</td>\n",
       "      <td>...</td>\n",
       "      <td>...</td>\n",
       "      <td>...</td>\n",
       "      <td>...</td>\n",
       "      <td>...</td>\n",
       "      <td>...</td>\n",
       "      <td>...</td>\n",
       "      <td>...</td>\n",
       "      <td>...</td>\n",
       "      <td>...</td>\n",
       "    </tr>\n",
       "    <tr>\n",
       "      <th>Yemen</th>\n",
       "      <td>NaN</td>\n",
       "      <td>NaN</td>\n",
       "      <td>NaN</td>\n",
       "      <td>0.675176</td>\n",
       "      <td>-0.305362</td>\n",
       "      <td>NaN</td>\n",
       "      <td>NaN</td>\n",
       "      <td>NaN</td>\n",
       "      <td>NaN</td>\n",
       "      <td>NaN</td>\n",
       "      <td>...</td>\n",
       "      <td>NaN</td>\n",
       "      <td>NaN</td>\n",
       "      <td>NaN</td>\n",
       "      <td>NaN</td>\n",
       "      <td>-0.784325</td>\n",
       "      <td>0.837351</td>\n",
       "      <td>NaN</td>\n",
       "      <td>NaN</td>\n",
       "      <td>NaN</td>\n",
       "      <td>0.595893</td>\n",
       "    </tr>\n",
       "    <tr>\n",
       "      <th>Guinea</th>\n",
       "      <td>0.498159</td>\n",
       "      <td>NaN</td>\n",
       "      <td>NaN</td>\n",
       "      <td>NaN</td>\n",
       "      <td>-0.694951</td>\n",
       "      <td>-0.939092</td>\n",
       "      <td>-0.914487</td>\n",
       "      <td>NaN</td>\n",
       "      <td>0.935467</td>\n",
       "      <td>-0.879412</td>\n",
       "      <td>...</td>\n",
       "      <td>0.907336</td>\n",
       "      <td>-0.954342</td>\n",
       "      <td>0.293413</td>\n",
       "      <td>0.625618</td>\n",
       "      <td>0.694268</td>\n",
       "      <td>0.873440</td>\n",
       "      <td>0.419932</td>\n",
       "      <td>NaN</td>\n",
       "      <td>NaN</td>\n",
       "      <td>0.968902</td>\n",
       "    </tr>\n",
       "    <tr>\n",
       "      <th>France</th>\n",
       "      <td>-0.864142</td>\n",
       "      <td>NaN</td>\n",
       "      <td>NaN</td>\n",
       "      <td>0.960293</td>\n",
       "      <td>-0.791663</td>\n",
       "      <td>-0.459028</td>\n",
       "      <td>NaN</td>\n",
       "      <td>-0.799382</td>\n",
       "      <td>0.878127</td>\n",
       "      <td>-0.317947</td>\n",
       "      <td>...</td>\n",
       "      <td>-0.629052</td>\n",
       "      <td>-0.745313</td>\n",
       "      <td>-0.252912</td>\n",
       "      <td>0.634373</td>\n",
       "      <td>0.449587</td>\n",
       "      <td>-0.815543</td>\n",
       "      <td>NaN</td>\n",
       "      <td>-0.58764</td>\n",
       "      <td>0.934278</td>\n",
       "      <td>0.813552</td>\n",
       "    </tr>\n",
       "    <tr>\n",
       "      <th>Dominican Republic</th>\n",
       "      <td>-0.898855</td>\n",
       "      <td>-0.641693</td>\n",
       "      <td>-0.443717</td>\n",
       "      <td>0.816583</td>\n",
       "      <td>0.388320</td>\n",
       "      <td>-0.970773</td>\n",
       "      <td>0.527417</td>\n",
       "      <td>-0.468465</td>\n",
       "      <td>0.981947</td>\n",
       "      <td>0.230006</td>\n",
       "      <td>...</td>\n",
       "      <td>-0.967743</td>\n",
       "      <td>-0.981666</td>\n",
       "      <td>-0.718354</td>\n",
       "      <td>-0.892927</td>\n",
       "      <td>0.839684</td>\n",
       "      <td>-0.919732</td>\n",
       "      <td>NaN</td>\n",
       "      <td>NaN</td>\n",
       "      <td>NaN</td>\n",
       "      <td>0.981804</td>\n",
       "    </tr>\n",
       "    <tr>\n",
       "      <th>Eritrea</th>\n",
       "      <td>NaN</td>\n",
       "      <td>NaN</td>\n",
       "      <td>NaN</td>\n",
       "      <td>0.851891</td>\n",
       "      <td>-0.776769</td>\n",
       "      <td>-0.523883</td>\n",
       "      <td>-0.885355</td>\n",
       "      <td>NaN</td>\n",
       "      <td>0.888279</td>\n",
       "      <td>-0.807013</td>\n",
       "      <td>...</td>\n",
       "      <td>NaN</td>\n",
       "      <td>NaN</td>\n",
       "      <td>0.152375</td>\n",
       "      <td>NaN</td>\n",
       "      <td>0.389283</td>\n",
       "      <td>0.869285</td>\n",
       "      <td>NaN</td>\n",
       "      <td>NaN</td>\n",
       "      <td>NaN</td>\n",
       "      <td>0.864085</td>\n",
       "    </tr>\n",
       "  </tbody>\n",
       "</table>\n",
       "<p>179 rows × 21 columns</p>\n",
       "</div>"
      ],
      "text/plain": [
       "                    AgriShareGDP  CreditToAgriFishForest  EmploymentRural  \\\n",
       "North Macedonia        -0.453336                     NaN              NaN   \n",
       "Maldives               -0.358711               -0.774429              NaN   \n",
       "Malawi                 -0.839805                0.738618              NaN   \n",
       "Saudi Arabia           -0.895421                     NaN              NaN   \n",
       "Ecuador                -0.721501                     NaN         0.828748   \n",
       "...                          ...                     ...              ...   \n",
       "Yemen                        NaN                     NaN              NaN   \n",
       "Guinea                  0.498159                     NaN              NaN   \n",
       "France                 -0.864142                     NaN              NaN   \n",
       "Dominican Republic     -0.898855               -0.641693        -0.443717   \n",
       "Eritrea                      NaN                     NaN              NaN   \n",
       "\n",
       "                    TotalAgri  % Soldiers  Birth Rate  Death Rate  Homicides  \\\n",
       "North Macedonia      0.849724   -0.707169   -0.845644    0.873742  -0.879784   \n",
       "Maldives             0.785726         NaN   -0.895093   -0.945294        NaN   \n",
       "Malawi               0.976178    0.426255   -0.932029   -0.915541        NaN   \n",
       "Saudi Arabia         0.914143   -0.940812   -0.920503   -0.854363        NaN   \n",
       "Ecuador              0.970426   -0.848656   -0.969534    0.355520  -0.757636   \n",
       "...                       ...         ...         ...         ...        ...   \n",
       "Yemen                0.675176   -0.305362         NaN         NaN        NaN   \n",
       "Guinea                    NaN   -0.694951   -0.939092   -0.914487        NaN   \n",
       "France               0.960293   -0.791663   -0.459028         NaN  -0.799382   \n",
       "Dominican Republic   0.816583    0.388320   -0.970773    0.527417  -0.468465   \n",
       "Eritrea              0.851891   -0.776769   -0.523883   -0.885355        NaN   \n",
       "\n",
       "                    Life Expectancy  Maternal Death Risk  ...  \\\n",
       "North Macedonia            0.948999            -0.948052  ...   \n",
       "Maldives                   0.932011            -0.806309  ...   \n",
       "Malawi                     0.928278            -0.895567  ...   \n",
       "Saudi Arabia               0.938614            -0.966087  ...   \n",
       "Ecuador                    0.974022            -0.962705  ...   \n",
       "...                             ...                  ...  ...   \n",
       "Yemen                           NaN                  NaN  ...   \n",
       "Guinea                     0.935467            -0.879412  ...   \n",
       "France                     0.878127            -0.317947  ...   \n",
       "Dominican Republic         0.981947             0.230006  ...   \n",
       "Eritrea                    0.888279            -0.807013  ...   \n",
       "\n",
       "                    % Population Growth  % Rural Population  Civil Liberties  \\\n",
       "North Macedonia                     NaN            0.312929              NaN   \n",
       "Maldives                       0.576308           -0.901088         0.396272   \n",
       "Malawi                         0.329982           -0.956254         0.853056   \n",
       "Saudi Arabia                  -0.363360           -0.937296         0.854397   \n",
       "Ecuador                       -0.484330           -0.976795         0.796670   \n",
       "...                                 ...                 ...              ...   \n",
       "Yemen                               NaN                 NaN              NaN   \n",
       "Guinea                         0.907336           -0.954342         0.293413   \n",
       "France                        -0.629052           -0.745313        -0.252912   \n",
       "Dominican Republic            -0.967743           -0.981666        -0.718354   \n",
       "Eritrea                             NaN                 NaN         0.152375   \n",
       "\n",
       "                    Freedom of Expression  % Healthcare Investment  \\\n",
       "North Macedonia                 -0.455433                -0.269734   \n",
       "Maldives                         0.527516                 0.891612   \n",
       "Malawi                           0.763209                 0.564688   \n",
       "Saudi Arabia                          NaN                 0.390936   \n",
       "Ecuador                         -0.407368                 0.812754   \n",
       "...                                   ...                      ...   \n",
       "Yemen                                 NaN                -0.784325   \n",
       "Guinea                           0.625618                 0.694268   \n",
       "France                           0.634373                 0.449587   \n",
       "Dominican Republic              -0.892927                 0.839684   \n",
       "Eritrea                               NaN                 0.389283   \n",
       "\n",
       "                    % Employment Industry  % Education Expenditure  \\\n",
       "North Macedonia                 -0.385161                      NaN   \n",
       "Maldives                              NaN                      NaN   \n",
       "Malawi                           0.850495                      NaN   \n",
       "Saudi Arabia                     0.816189                      NaN   \n",
       "Ecuador                         -0.571075                      NaN   \n",
       "...                                   ...                      ...   \n",
       "Yemen                            0.837351                      NaN   \n",
       "Guinea                           0.873440                 0.419932   \n",
       "France                          -0.815543                      NaN   \n",
       "Dominican Republic              -0.919732                      NaN   \n",
       "Eritrea                          0.869285                      NaN   \n",
       "\n",
       "                    % Men Employment  % Women Employment  Population  \n",
       "North Macedonia                  NaN                 NaN    0.962738  \n",
       "Maldives                         NaN                 NaN    0.960518  \n",
       "Malawi                           NaN                 NaN    0.954178  \n",
       "Saudi Arabia                     NaN                 NaN    0.937013  \n",
       "Ecuador                          NaN                 NaN    0.968526  \n",
       "...                              ...                 ...         ...  \n",
       "Yemen                            NaN                 NaN    0.595893  \n",
       "Guinea                           NaN                 NaN    0.968902  \n",
       "France                      -0.58764            0.934278    0.813552  \n",
       "Dominican Republic               NaN                 NaN    0.981804  \n",
       "Eritrea                          NaN                 NaN    0.864085  \n",
       "\n",
       "[179 rows x 21 columns]"
      ]
     },
     "execution_count": 33,
     "metadata": {},
     "output_type": "execute_result"
    }
   ],
   "source": [
    "#One dataframe per country\n",
    "\n",
    "df= pd.read_csv (os.getcwd()+'/Output/GoldDataframe.csv')\n",
    "corr_df = pd.DataFrame()\n",
    "corr_df.index.names = ['Country']\n",
    "aux_df = pd.DataFrame()\n",
    "\n",
    "#List all the countries, none repeated\n",
    "countries = set(df['Country'].to_list())\n",
    "\n",
    "country_dict = {}\n",
    "corr_dict = {}\n",
    "\n",
    "for country in countries:\n",
    "\n",
    "    #Get the DataFrame for a given country\n",
    "    country_df = df.loc[df['Country'] == country]\n",
    "\n",
    "    #Correlation matrix for that country\n",
    "    country_corr_df = country_df.corr()\n",
    "\n",
    "    #Significance for the correlations\n",
    "    pval = country_corr_df.corr(method = lambda x, y: pearsonr(x, y)[1]) - np.eye(*country_corr_df.shape)\n",
    "    p = pval.applymap(lambda x: 1 if x < 0.05 else np.NaN)\n",
    "    country_corr_df = country_corr_df * p\n",
    "\n",
    "    #Trim it into a single row\n",
    "    country_corr_df = country_corr_df.rename(columns = {'GDP': country}).drop(index = ['Year', 'GDP'])\n",
    "\n",
    "    #Add the row to a new DataFrame with the correlations for each country\n",
    "    corr_df = pd.concat([corr_df, country_corr_df[country]], axis = 1)\n",
    "\n",
    "#Transpose the resulting DataFrame to have the desired format and show it\n",
    "corr_df = corr_df.transpose()\n",
    "corr_df.to_csv(os.getcwd()+'/Output/Corr_DF_Test.csv')\n",
    "\n",
    "corr_df.to_csv(os.getcwd()+'/Output/Corr_Test.csv')\n",
    "\n",
    "#country_corr_df.corr(method = lambda x, y: pearsonr(x, y)[1]) - np.eye(*country_corr_df.shape).applymap(lambda x: 1 if x < 0.05 else np.NaN)\n",
    "\n",
    "pval.to_csv(os.getcwd()+'/Output/PVal_Test.csv')\n",
    "p.to_csv(os.getcwd()+'/Output/P_Test.csv')\n",
    "\n",
    "df.loc[df['Country'] == 'Spain'].corr().to_csv(os.getcwd()+'/Output/Country_Corr_Test.csv')\n",
    "corr_df.loc[['Spain']]\n"
   ]
  },
  {
   "cell_type": "code",
   "execution_count": 32,
   "metadata": {},
   "outputs": [],
   "source": [
    "country_corr_df = df.loc[df['Country'] == 'Spain'].corr()\n",
    "pval = country_corr_df.corr(method = lambda x, y: pearsonr(x, y)[1]) - np.eye(*country_corr_df.shape)\n",
    "p = pval.applymap(lambda x: 1 if x < 0.05 else np.NaN)\n",
    "res_corr_df = country_corr_df * p\n",
    "\n",
    "country_corr_df.to_csv(os.getcwd()+'/Output/Corr_Test.csv')\n",
    "pval.to_csv(os.getcwd()+'/Output/PVal_Test.csv')\n",
    "res_corr_df.to_csv(os.getcwd()+'/Output/Res_Test.csv')"
   ]
  },
  {
   "cell_type": "code",
   "execution_count": 17,
   "metadata": {},
   "outputs": [
    {
     "data": {
      "text/plain": [
       "% Education Expenditure         NaN\n",
       "% Employment Industry     -0.592126\n",
       "% Healthcare Investment    0.794086\n",
       "% Men Employment                NaN\n",
       "% Population Growth             NaN\n",
       "% Rural Population        -0.634473\n",
       "% Soldiers                -0.828939\n",
       "% Women Employment         0.927052\n",
       "AgriShareGDP              -0.924602\n",
       "Birth Rate                      NaN\n",
       "Civil Liberties                 NaN\n",
       "CreditToAgriFishForest          NaN\n",
       "Death Rate                -0.466823\n",
       "EmploymentRural                 NaN\n",
       "Freedom of Expression           NaN\n",
       "GDP                             NaN\n",
       "Homicides                 -0.743388\n",
       "Infant Mortality          -0.734420\n",
       "Life Expectancy            0.694753\n",
       "Maternal Death Risk             NaN\n",
       "Population                 0.899727\n",
       "TotalAgri                  0.891549\n",
       "Year                            NaN\n",
       "dtype: float64"
      ]
     },
     "execution_count": 17,
     "metadata": {},
     "output_type": "execute_result"
    }
   ],
   "source": [
    "#Get the DataFrame for a given country\n",
    "country_df = df.loc[df['Country'] == 'Spain']\n",
    "\n",
    "#Correlation matrix for that country\n",
    "aux_corr_df = country_df.corr().rename(columns = {'GDP': 'Spain'}).drop(index = ['Year', 'GDP'])\n",
    "pval = country_df.corr(method = lambda x, y: pearsonr(x, y)[1])\n",
    "p = pval.applymap(lambda x: 1 if x < 0.05 else np.NaN)\n",
    "\n",
    "corr_df = corr_df['Spain']\n",
    "p = p['GDP']\n",
    "\n",
    "aux_corr_df = aux_corr_df * p\n",
    "\n",
    "#corr_df = corr_df.rename(columns = {'GDP': 'Spain'}).drop(index = ['Year', 'GDP'])\n",
    "aux_corr_df\n",
    "#print(country_corr_df['Spain'])\n",
    "#print(country_df.corr()['GDP'])\n",
    "#print(p)\n"
   ]
  },
  {
   "cell_type": "code",
   "execution_count": 30,
   "metadata": {},
   "outputs": [
    {
     "data": {
      "text/html": [
       "<div>\n",
       "<style scoped>\n",
       "    .dataframe tbody tr th:only-of-type {\n",
       "        vertical-align: middle;\n",
       "    }\n",
       "\n",
       "    .dataframe tbody tr th {\n",
       "        vertical-align: top;\n",
       "    }\n",
       "\n",
       "    .dataframe thead th {\n",
       "        text-align: right;\n",
       "    }\n",
       "</style>\n",
       "<table border=\"1\" class=\"dataframe\">\n",
       "  <thead>\n",
       "    <tr style=\"text-align: right;\">\n",
       "      <th></th>\n",
       "      <th>Population</th>\n",
       "    </tr>\n",
       "  </thead>\n",
       "  <tbody>\n",
       "    <tr>\n",
       "      <th>Hungary</th>\n",
       "      <td>-0.825989</td>\n",
       "    </tr>\n",
       "    <tr>\n",
       "      <th>Romania</th>\n",
       "      <td>-0.938846</td>\n",
       "    </tr>\n",
       "    <tr>\n",
       "      <th>Armenia</th>\n",
       "      <td>-0.787782</td>\n",
       "    </tr>\n",
       "    <tr>\n",
       "      <th>Serbia</th>\n",
       "      <td>-0.912291</td>\n",
       "    </tr>\n",
       "    <tr>\n",
       "      <th>Georgia</th>\n",
       "      <td>-0.955508</td>\n",
       "    </tr>\n",
       "    <tr>\n",
       "      <th>Latvia</th>\n",
       "      <td>-0.863641</td>\n",
       "    </tr>\n",
       "    <tr>\n",
       "      <th>Poland</th>\n",
       "      <td>-0.827611</td>\n",
       "    </tr>\n",
       "    <tr>\n",
       "      <th>Bulgaria</th>\n",
       "      <td>-0.951117</td>\n",
       "    </tr>\n",
       "    <tr>\n",
       "      <th>Estonia</th>\n",
       "      <td>-0.919445</td>\n",
       "    </tr>\n",
       "    <tr>\n",
       "      <th>Palau</th>\n",
       "      <td>-0.721353</td>\n",
       "    </tr>\n",
       "    <tr>\n",
       "      <th>Albania</th>\n",
       "      <td>-0.925309</td>\n",
       "    </tr>\n",
       "    <tr>\n",
       "      <th>Lithuania</th>\n",
       "      <td>-0.922340</td>\n",
       "    </tr>\n",
       "    <tr>\n",
       "      <th>Belarus</th>\n",
       "      <td>-0.932844</td>\n",
       "    </tr>\n",
       "  </tbody>\n",
       "</table>\n",
       "</div>"
      ],
      "text/plain": [
       "           Population\n",
       "Hungary     -0.825989\n",
       "Romania     -0.938846\n",
       "Armenia     -0.787782\n",
       "Serbia      -0.912291\n",
       "Georgia     -0.955508\n",
       "Latvia      -0.863641\n",
       "Poland      -0.827611\n",
       "Bulgaria    -0.951117\n",
       "Estonia     -0.919445\n",
       "Palau       -0.721353\n",
       "Albania     -0.925309\n",
       "Lithuania   -0.922340\n",
       "Belarus     -0.932844"
      ]
     },
     "execution_count": 30,
     "metadata": {},
     "output_type": "execute_result"
    }
   ],
   "source": [
    "ind = 'Population'\n",
    "t = 0.7\n",
    "pos_corr = corr_df.drop(corr_df.columns.difference([ind]), axis = 1).loc[corr_df[ind] >= t].sort_values(by = ind, axis = 0, ascending = False)\n",
    "neg_corr = corr_df.drop(corr_df.columns.difference([ind]), axis = 1).loc[corr_df[ind] <= -t].sort_values(by = ind, axis = 0, ascending = True)\n",
    "neg_corr"
   ]
  },
  {
   "cell_type": "code",
   "execution_count": 22,
   "metadata": {},
   "outputs": [
    {
     "data": {
      "application/vnd.jupyter.widget-view+json": {
       "model_id": "743ce51d513a42a1a518ceaefe4e2533",
       "version_major": 2,
       "version_minor": 0
      },
      "text/plain": [
       "interactive(children=(SelectMultiple(description='Indicator', index=(0,), layout=Layout(height='80px', width='…"
      ]
     },
     "metadata": {},
     "output_type": "display_data"
    },
    {
     "data": {
      "application/vnd.plotly.v1+json": {
       "config": {
        "plotlyServerURL": "https://plot.ly"
       },
       "data": [
        {
         "coloraxis": "coloraxis",
         "geo": "geo",
         "hovertemplate": "index=%{location}<br>AgriShareGDP=%{z}<extra></extra>",
         "locationmode": "country names",
         "locations": [
          "North Macedonia",
          "Maldives",
          "Malawi",
          "Saudi Arabia",
          "Ecuador",
          "Gabon",
          "Estonia",
          "Angola",
          "Barbados",
          "Central African Republic",
          "Colombia",
          "Sri Lanka",
          "Qatar",
          "Chad",
          "Eswatini",
          "Equatorial Guinea",
          "Benin",
          "Honduras",
          "Lebanon",
          "Liberia",
          "Cameroon",
          "Germany",
          "Madagascar",
          "Djibouti",
          "Slovenia",
          "Sweden",
          "Austria",
          "Sao Tome and Principe",
          "Libya",
          "Iceland",
          "Jordan",
          "Brazil",
          "Algeria",
          "Antigua and Barbuda",
          "Sierra Leone",
          "Philippines",
          "Uganda",
          "Japan",
          "Mali",
          "Ghana",
          "Greece",
          "Uzbekistan",
          "Haiti",
          "Serbia",
          "Malaysia",
          "Romania",
          "Suriname",
          "Paraguay",
          "Switzerland",
          "Fiji",
          "French Polynesia",
          "Niger",
          "Kiribati",
          "United States",
          "Nigeria",
          "Myanmar",
          "Czechia",
          "Azerbaijan",
          "Mauritius",
          "Albania",
          "Morocco",
          "Panama",
          "Sudan",
          "Argentina",
          "Denmark",
          "Afghanistan",
          "Tuvalu",
          "Namibia",
          "Nicaragua",
          "Kuwait",
          "Peru",
          "Marshall Islands",
          "Burundi",
          "Saint Lucia",
          "Dominica",
          "India",
          "Luxembourg",
          "Seychelles",
          "Samoa",
          "Somalia",
          "Solomon Islands",
          "Cuba",
          "San Marino",
          "Uruguay",
          "Ethiopia",
          "Bulgaria",
          "Guyana",
          "Kazakhstan",
          "Cyprus",
          "Rwanda",
          "Greenland",
          "Tonga",
          "Mongolia",
          "Poland",
          "China",
          "Bhutan",
          "South Sudan",
          "Zambia",
          "Guatemala",
          "Norway",
          "Bosnia and Herzegovina",
          "Togo",
          "Palau",
          "Chile",
          "Costa Rica",
          "Slovakia",
          "Netherlands",
          "Puerto Rico",
          "South Africa",
          "Cambodia",
          "Italy",
          "Vanuatu",
          "United Kingdom",
          "Nepal",
          "Zimbabwe",
          "Bermuda",
          "Andorra",
          "Kyrgyzstan",
          "Armenia",
          "Australia",
          "Kenya",
          "Mozambique",
          "Malta",
          "Pakistan",
          "Lesotho",
          "Spain",
          "Turkmenistan",
          "New Caledonia",
          "Mexico",
          "Congo",
          "Finland",
          "Senegal",
          "Canada",
          "Oman",
          "Ukraine",
          "Montenegro",
          "Egypt",
          "United Arab Emirates",
          "Cayman Islands",
          "New Zealand",
          "Tunisia",
          "Gambia",
          "Croatia",
          "Botswana",
          "Russia",
          "Portugal",
          "Indonesia",
          "Lithuania",
          "Comoros",
          "Hungary",
          "Guinea-Bissau",
          "Papua New Guinea",
          "Belize",
          "Grenada",
          "Georgia",
          "Liechtenstein",
          "Mauritania",
          "Iraq",
          "Tajikistan",
          "Israel",
          "Burkina Faso",
          "Ireland",
          "Jamaica",
          "Aruba",
          "Nauru",
          "Thailand",
          "Singapore",
          "Belarus",
          "Bahrain",
          "Trinidad and Tobago",
          "Belgium",
          "El Salvador",
          "Latvia",
          "Bangladesh",
          "Yemen",
          "Guinea",
          "France",
          "Dominican Republic",
          "Eritrea"
         ],
         "name": "",
         "type": "choropleth",
         "z": [
          -0.4533358395612625,
          -0.35871070546205086,
          -0.839805329038585,
          -0.8954205369814583,
          -0.7215009939786482,
          -0.7019760365914864,
          -0.630469765190067,
          0.24450512087313336,
          -0.8935594731221601,
          -0.6508918168523262,
          -0.9287236078660797,
          -0.6031364214233185,
          -0.5437859823468949,
          null,
          -0.8020291724807224,
          -0.8486192959235674,
          0.5585501439003824,
          null,
          -0.503101313242976,
          -0.19164420133785307,
          null,
          -0.565806539276942,
          -0.8569135424696452,
          -0.9037244864916116,
          -0.8631718214807295,
          -0.6939308578106985,
          -0.8285363932508436,
          -0.7292752475891066,
          -0.535871362042077,
          -0.9314906398719144,
          0.9292437594281578,
          -0.6824726955116254,
          0.13775097173642994,
          0.1240682496625928,
          0.6343035981396866,
          -0.8991487437017284,
          -0.5524986567664869,
          -0.4918021235272721,
          0.8168640617370294,
          -0.8986316649951261,
          -0.8541526771526231,
          -0.8332276663583743,
          -0.5119431587894402,
          -0.7938048760063402,
          null,
          -0.9374688324008857,
          -0.8018750496047906,
          null,
          -0.9267462935060482,
          -0.42454006505696285,
          -0.833534845066142,
          -0.4406847469701758,
          0.6441786963795697,
          null,
          -0.7416626489049046,
          -0.9678699960054002,
          -0.6222328038675436,
          -0.8581621857504442,
          -0.9680608365989137,
          -0.7213763707469719,
          -0.42151315976729525,
          -0.9325517979342587,
          null,
          -0.5034609536804338,
          -0.768554121585154,
          -0.8702332125359779,
          null,
          -0.7955630866641139,
          -0.3141050792765419,
          null,
          -0.322646527474029,
          0.7356448962507441,
          -0.3496495655232733,
          -0.8437032161877829,
          0.6771268988188248,
          -0.700649507092263,
          -0.9084049485084351,
          -0.7416434293602443,
          -0.9520872058064423,
          null,
          -0.3991969835189398,
          -0.7411778615096978,
          null,
          -0.5769315589389916,
          -0.7427944720312178,
          -0.9575448068063352,
          -0.8095978580774993,
          -0.9136350482950665,
          -0.9199037030067883,
          -0.8203148473144741,
          null,
          null,
          -0.8355217345279581,
          -0.5104884920594763,
          null,
          -0.8025977498851751,
          null,
          -0.8459189655045559,
          -0.910783581293827,
          -0.14353291554326994,
          -0.890388711927548,
          -0.8234424931464022,
          -0.9558679200949804,
          -0.8374628674303137,
          -0.9836031733548807,
          0.546178642978574,
          -0.9279197943938866,
          0.5731166325165244,
          -0.8427968232002708,
          -0.8189385846768551,
          -0.8820808398131004,
          null,
          -0.716390085534926,
          -0.8758891199022157,
          -0.674981469076645,
          -0.8521168107283245,
          null,
          -0.8310736040825246,
          -0.8594781938426445,
          -0.7812355938750303,
          0.929395604705077,
          0.5677661615395543,
          -0.9712198891595265,
          -0.3564374169269262,
          -0.800495784861207,
          -0.9246020681684352,
          -0.9165808027323511,
          -0.5905723882687031,
          null,
          -0.6362752332249866,
          -0.6844897662727807,
          null,
          -0.6032401543385976,
          null,
          -0.7796743745253912,
          -0.9250468161036534,
          -0.5143855567867214,
          -0.9279434164823261,
          0.8329453438889185,
          -0.3901300466124,
          -0.11240984433863804,
          -0.5040785343058328,
          -0.713594624166334,
          -0.5247023240976855,
          -0.9306417343797083,
          -0.9370489810725439,
          null,
          -0.8353353151260893,
          -0.5927549619729722,
          -0.7856366651656908,
          0.41629981975830316,
          -0.9062326254496571,
          -0.6064329687837003,
          0.16028226101681153,
          -0.9508662246185998,
          -0.7033535847829139,
          -0.6962296775129467,
          -0.7932788342898283,
          -0.11816046448941489,
          -0.7777787590746487,
          -0.7751609152889536,
          -0.7218655963258508,
          0.3936404788192563,
          0.3741649727817593,
          -0.9432697722260653,
          null,
          -0.8927550621050807,
          -0.7406875567638112,
          -0.7800474945395834,
          -0.8083567434722658,
          -0.9291809511372993,
          -0.4863337520474014,
          -0.7708455187171825,
          -0.9076013100731348,
          null,
          0.4981590975526931,
          -0.8641423065584387,
          -0.8988548560906199,
          null
         ]
        }
       ],
       "layout": {
        "coloraxis": {
         "colorbar": {
          "title": {
           "text": "AgriShareGDP"
          }
         },
         "colorscale": [
          [
           0,
           "rgb(255,245,240)"
          ],
          [
           0.125,
           "rgb(254,224,210)"
          ],
          [
           0.25,
           "rgb(252,187,161)"
          ],
          [
           0.375,
           "rgb(252,146,114)"
          ],
          [
           0.5,
           "rgb(251,106,74)"
          ],
          [
           0.625,
           "rgb(239,59,44)"
          ],
          [
           0.75,
           "rgb(203,24,29)"
          ],
          [
           0.875,
           "rgb(165,15,21)"
          ],
          [
           1,
           "rgb(103,0,13)"
          ]
         ],
         "showscale": true
        },
        "geo": {
         "center": {},
         "domain": {
          "x": [
           0,
           1
          ],
          "y": [
           0,
           1
          ]
         },
         "projection": {
          "type": "natural earth"
         }
        },
        "height": 500,
        "legend": {
         "tracegroupgap": 0
        },
        "margin": {
         "t": 60
        },
        "template": {
         "data": {
          "bar": [
           {
            "error_x": {
             "color": "#2a3f5f"
            },
            "error_y": {
             "color": "#2a3f5f"
            },
            "marker": {
             "line": {
              "color": "#E5ECF6",
              "width": 0.5
             },
             "pattern": {
              "fillmode": "overlay",
              "size": 10,
              "solidity": 0.2
             }
            },
            "type": "bar"
           }
          ],
          "barpolar": [
           {
            "marker": {
             "line": {
              "color": "#E5ECF6",
              "width": 0.5
             },
             "pattern": {
              "fillmode": "overlay",
              "size": 10,
              "solidity": 0.2
             }
            },
            "type": "barpolar"
           }
          ],
          "carpet": [
           {
            "aaxis": {
             "endlinecolor": "#2a3f5f",
             "gridcolor": "white",
             "linecolor": "white",
             "minorgridcolor": "white",
             "startlinecolor": "#2a3f5f"
            },
            "baxis": {
             "endlinecolor": "#2a3f5f",
             "gridcolor": "white",
             "linecolor": "white",
             "minorgridcolor": "white",
             "startlinecolor": "#2a3f5f"
            },
            "type": "carpet"
           }
          ],
          "choropleth": [
           {
            "colorbar": {
             "outlinewidth": 0,
             "ticks": ""
            },
            "type": "choropleth"
           }
          ],
          "contour": [
           {
            "colorbar": {
             "outlinewidth": 0,
             "ticks": ""
            },
            "colorscale": [
             [
              0,
              "#0d0887"
             ],
             [
              0.1111111111111111,
              "#46039f"
             ],
             [
              0.2222222222222222,
              "#7201a8"
             ],
             [
              0.3333333333333333,
              "#9c179e"
             ],
             [
              0.4444444444444444,
              "#bd3786"
             ],
             [
              0.5555555555555556,
              "#d8576b"
             ],
             [
              0.6666666666666666,
              "#ed7953"
             ],
             [
              0.7777777777777778,
              "#fb9f3a"
             ],
             [
              0.8888888888888888,
              "#fdca26"
             ],
             [
              1,
              "#f0f921"
             ]
            ],
            "type": "contour"
           }
          ],
          "contourcarpet": [
           {
            "colorbar": {
             "outlinewidth": 0,
             "ticks": ""
            },
            "type": "contourcarpet"
           }
          ],
          "heatmap": [
           {
            "colorbar": {
             "outlinewidth": 0,
             "ticks": ""
            },
            "colorscale": [
             [
              0,
              "#0d0887"
             ],
             [
              0.1111111111111111,
              "#46039f"
             ],
             [
              0.2222222222222222,
              "#7201a8"
             ],
             [
              0.3333333333333333,
              "#9c179e"
             ],
             [
              0.4444444444444444,
              "#bd3786"
             ],
             [
              0.5555555555555556,
              "#d8576b"
             ],
             [
              0.6666666666666666,
              "#ed7953"
             ],
             [
              0.7777777777777778,
              "#fb9f3a"
             ],
             [
              0.8888888888888888,
              "#fdca26"
             ],
             [
              1,
              "#f0f921"
             ]
            ],
            "type": "heatmap"
           }
          ],
          "heatmapgl": [
           {
            "colorbar": {
             "outlinewidth": 0,
             "ticks": ""
            },
            "colorscale": [
             [
              0,
              "#0d0887"
             ],
             [
              0.1111111111111111,
              "#46039f"
             ],
             [
              0.2222222222222222,
              "#7201a8"
             ],
             [
              0.3333333333333333,
              "#9c179e"
             ],
             [
              0.4444444444444444,
              "#bd3786"
             ],
             [
              0.5555555555555556,
              "#d8576b"
             ],
             [
              0.6666666666666666,
              "#ed7953"
             ],
             [
              0.7777777777777778,
              "#fb9f3a"
             ],
             [
              0.8888888888888888,
              "#fdca26"
             ],
             [
              1,
              "#f0f921"
             ]
            ],
            "type": "heatmapgl"
           }
          ],
          "histogram": [
           {
            "marker": {
             "pattern": {
              "fillmode": "overlay",
              "size": 10,
              "solidity": 0.2
             }
            },
            "type": "histogram"
           }
          ],
          "histogram2d": [
           {
            "colorbar": {
             "outlinewidth": 0,
             "ticks": ""
            },
            "colorscale": [
             [
              0,
              "#0d0887"
             ],
             [
              0.1111111111111111,
              "#46039f"
             ],
             [
              0.2222222222222222,
              "#7201a8"
             ],
             [
              0.3333333333333333,
              "#9c179e"
             ],
             [
              0.4444444444444444,
              "#bd3786"
             ],
             [
              0.5555555555555556,
              "#d8576b"
             ],
             [
              0.6666666666666666,
              "#ed7953"
             ],
             [
              0.7777777777777778,
              "#fb9f3a"
             ],
             [
              0.8888888888888888,
              "#fdca26"
             ],
             [
              1,
              "#f0f921"
             ]
            ],
            "type": "histogram2d"
           }
          ],
          "histogram2dcontour": [
           {
            "colorbar": {
             "outlinewidth": 0,
             "ticks": ""
            },
            "colorscale": [
             [
              0,
              "#0d0887"
             ],
             [
              0.1111111111111111,
              "#46039f"
             ],
             [
              0.2222222222222222,
              "#7201a8"
             ],
             [
              0.3333333333333333,
              "#9c179e"
             ],
             [
              0.4444444444444444,
              "#bd3786"
             ],
             [
              0.5555555555555556,
              "#d8576b"
             ],
             [
              0.6666666666666666,
              "#ed7953"
             ],
             [
              0.7777777777777778,
              "#fb9f3a"
             ],
             [
              0.8888888888888888,
              "#fdca26"
             ],
             [
              1,
              "#f0f921"
             ]
            ],
            "type": "histogram2dcontour"
           }
          ],
          "mesh3d": [
           {
            "colorbar": {
             "outlinewidth": 0,
             "ticks": ""
            },
            "type": "mesh3d"
           }
          ],
          "parcoords": [
           {
            "line": {
             "colorbar": {
              "outlinewidth": 0,
              "ticks": ""
             }
            },
            "type": "parcoords"
           }
          ],
          "pie": [
           {
            "automargin": true,
            "type": "pie"
           }
          ],
          "scatter": [
           {
            "fillpattern": {
             "fillmode": "overlay",
             "size": 10,
             "solidity": 0.2
            },
            "type": "scatter"
           }
          ],
          "scatter3d": [
           {
            "line": {
             "colorbar": {
              "outlinewidth": 0,
              "ticks": ""
             }
            },
            "marker": {
             "colorbar": {
              "outlinewidth": 0,
              "ticks": ""
             }
            },
            "type": "scatter3d"
           }
          ],
          "scattercarpet": [
           {
            "marker": {
             "colorbar": {
              "outlinewidth": 0,
              "ticks": ""
             }
            },
            "type": "scattercarpet"
           }
          ],
          "scattergeo": [
           {
            "marker": {
             "colorbar": {
              "outlinewidth": 0,
              "ticks": ""
             }
            },
            "type": "scattergeo"
           }
          ],
          "scattergl": [
           {
            "marker": {
             "colorbar": {
              "outlinewidth": 0,
              "ticks": ""
             }
            },
            "type": "scattergl"
           }
          ],
          "scattermapbox": [
           {
            "marker": {
             "colorbar": {
              "outlinewidth": 0,
              "ticks": ""
             }
            },
            "type": "scattermapbox"
           }
          ],
          "scatterpolar": [
           {
            "marker": {
             "colorbar": {
              "outlinewidth": 0,
              "ticks": ""
             }
            },
            "type": "scatterpolar"
           }
          ],
          "scatterpolargl": [
           {
            "marker": {
             "colorbar": {
              "outlinewidth": 0,
              "ticks": ""
             }
            },
            "type": "scatterpolargl"
           }
          ],
          "scatterternary": [
           {
            "marker": {
             "colorbar": {
              "outlinewidth": 0,
              "ticks": ""
             }
            },
            "type": "scatterternary"
           }
          ],
          "surface": [
           {
            "colorbar": {
             "outlinewidth": 0,
             "ticks": ""
            },
            "colorscale": [
             [
              0,
              "#0d0887"
             ],
             [
              0.1111111111111111,
              "#46039f"
             ],
             [
              0.2222222222222222,
              "#7201a8"
             ],
             [
              0.3333333333333333,
              "#9c179e"
             ],
             [
              0.4444444444444444,
              "#bd3786"
             ],
             [
              0.5555555555555556,
              "#d8576b"
             ],
             [
              0.6666666666666666,
              "#ed7953"
             ],
             [
              0.7777777777777778,
              "#fb9f3a"
             ],
             [
              0.8888888888888888,
              "#fdca26"
             ],
             [
              1,
              "#f0f921"
             ]
            ],
            "type": "surface"
           }
          ],
          "table": [
           {
            "cells": {
             "fill": {
              "color": "#EBF0F8"
             },
             "line": {
              "color": "white"
             }
            },
            "header": {
             "fill": {
              "color": "#C8D4E3"
             },
             "line": {
              "color": "white"
             }
            },
            "type": "table"
           }
          ]
         },
         "layout": {
          "annotationdefaults": {
           "arrowcolor": "#2a3f5f",
           "arrowhead": 0,
           "arrowwidth": 1
          },
          "autotypenumbers": "strict",
          "coloraxis": {
           "colorbar": {
            "outlinewidth": 0,
            "ticks": ""
           }
          },
          "colorscale": {
           "diverging": [
            [
             0,
             "#8e0152"
            ],
            [
             0.1,
             "#c51b7d"
            ],
            [
             0.2,
             "#de77ae"
            ],
            [
             0.3,
             "#f1b6da"
            ],
            [
             0.4,
             "#fde0ef"
            ],
            [
             0.5,
             "#f7f7f7"
            ],
            [
             0.6,
             "#e6f5d0"
            ],
            [
             0.7,
             "#b8e186"
            ],
            [
             0.8,
             "#7fbc41"
            ],
            [
             0.9,
             "#4d9221"
            ],
            [
             1,
             "#276419"
            ]
           ],
           "sequential": [
            [
             0,
             "#0d0887"
            ],
            [
             0.1111111111111111,
             "#46039f"
            ],
            [
             0.2222222222222222,
             "#7201a8"
            ],
            [
             0.3333333333333333,
             "#9c179e"
            ],
            [
             0.4444444444444444,
             "#bd3786"
            ],
            [
             0.5555555555555556,
             "#d8576b"
            ],
            [
             0.6666666666666666,
             "#ed7953"
            ],
            [
             0.7777777777777778,
             "#fb9f3a"
            ],
            [
             0.8888888888888888,
             "#fdca26"
            ],
            [
             1,
             "#f0f921"
            ]
           ],
           "sequentialminus": [
            [
             0,
             "#0d0887"
            ],
            [
             0.1111111111111111,
             "#46039f"
            ],
            [
             0.2222222222222222,
             "#7201a8"
            ],
            [
             0.3333333333333333,
             "#9c179e"
            ],
            [
             0.4444444444444444,
             "#bd3786"
            ],
            [
             0.5555555555555556,
             "#d8576b"
            ],
            [
             0.6666666666666666,
             "#ed7953"
            ],
            [
             0.7777777777777778,
             "#fb9f3a"
            ],
            [
             0.8888888888888888,
             "#fdca26"
            ],
            [
             1,
             "#f0f921"
            ]
           ]
          },
          "colorway": [
           "#636efa",
           "#EF553B",
           "#00cc96",
           "#ab63fa",
           "#FFA15A",
           "#19d3f3",
           "#FF6692",
           "#B6E880",
           "#FF97FF",
           "#FECB52"
          ],
          "font": {
           "color": "#2a3f5f"
          },
          "geo": {
           "bgcolor": "white",
           "lakecolor": "white",
           "landcolor": "#E5ECF6",
           "showlakes": true,
           "showland": true,
           "subunitcolor": "white"
          },
          "hoverlabel": {
           "align": "left"
          },
          "hovermode": "closest",
          "mapbox": {
           "style": "light"
          },
          "paper_bgcolor": "white",
          "plot_bgcolor": "#E5ECF6",
          "polar": {
           "angularaxis": {
            "gridcolor": "white",
            "linecolor": "white",
            "ticks": ""
           },
           "bgcolor": "#E5ECF6",
           "radialaxis": {
            "gridcolor": "white",
            "linecolor": "white",
            "ticks": ""
           }
          },
          "scene": {
           "xaxis": {
            "backgroundcolor": "#E5ECF6",
            "gridcolor": "white",
            "gridwidth": 2,
            "linecolor": "white",
            "showbackground": true,
            "ticks": "",
            "zerolinecolor": "white"
           },
           "yaxis": {
            "backgroundcolor": "#E5ECF6",
            "gridcolor": "white",
            "gridwidth": 2,
            "linecolor": "white",
            "showbackground": true,
            "ticks": "",
            "zerolinecolor": "white"
           },
           "zaxis": {
            "backgroundcolor": "#E5ECF6",
            "gridcolor": "white",
            "gridwidth": 2,
            "linecolor": "white",
            "showbackground": true,
            "ticks": "",
            "zerolinecolor": "white"
           }
          },
          "shapedefaults": {
           "line": {
            "color": "#2a3f5f"
           }
          },
          "ternary": {
           "aaxis": {
            "gridcolor": "white",
            "linecolor": "white",
            "ticks": ""
           },
           "baxis": {
            "gridcolor": "white",
            "linecolor": "white",
            "ticks": ""
           },
           "bgcolor": "#E5ECF6",
           "caxis": {
            "gridcolor": "white",
            "linecolor": "white",
            "ticks": ""
           }
          },
          "title": {
           "x": 0.05
          },
          "xaxis": {
           "automargin": true,
           "gridcolor": "white",
           "linecolor": "white",
           "ticks": "",
           "title": {
            "standoff": 15
           },
           "zerolinecolor": "white",
           "zerolinewidth": 2
          },
          "yaxis": {
           "automargin": true,
           "gridcolor": "white",
           "linecolor": "white",
           "ticks": "",
           "title": {
            "standoff": 15
           },
           "zerolinecolor": "white",
           "zerolinewidth": 2
          }
         }
        },
        "width": 700
       }
      }
     },
     "metadata": {},
     "output_type": "display_data"
    }
   ],
   "source": [
    "import ipywidgets as widgets\n",
    "import plotly.express as px\n",
    "\n",
    "from IPython.display import display_html\n",
    "import plotly.graph_objects as go\n",
    "from plotly.subplots import make_subplots\n",
    "\n",
    "\n",
    "indicator = widgets.SelectMultiple(\n",
    "    options = corr_df.columns.tolist(),\n",
    "    value = ['AgriShareGDP'],\n",
    "    description='Indicator',\n",
    "    disabled=False,\n",
    "    layout = Layout(width='50%', height='80px')\n",
    ")\n",
    "\n",
    "#country_table = widgets.\n",
    "\n",
    "def globalGrapgh(indicator):\n",
    "    ind = indicator[0]\n",
    "    N = 10\n",
    "    fig = px.choropleth(corr_df, locations = corr_df.index, locationmode='country names', \n",
    "                        color= indicator[0],projection=\"natural earth\",\n",
    "                        color_continuous_scale='Reds',\n",
    "                        width=700, height=500)\n",
    "\n",
    "    pos_corr = corr_df.drop(corr_df.columns.difference([ind]), axis = 1).sort_values(by = ind, axis = 0, ascending = False).head(n = N)\n",
    "    neg_corr = corr_df.drop(corr_df.columns.difference([ind]), axis = 1).sort_values(by = ind, axis = 0, ascending = True).head(n = N)\n",
    "\n",
    "    #print(fig.get_subplot(1, 1))\n",
    "\n",
    "    #subplots = make_subplots(rows = 1, cols = 3, specs = [[{'type': 'choropleth'}, {'type': 'table'}, {'type': 'table'}]], subplot_titles = ['Map', 'Direct Correlation', 'Inverse Correlation'])\n",
    "    #subplots.add_trace(fig, row = 0, col = 0)\n",
    "\n",
    "    fig.update(layout_coloraxis_showscale=True)\n",
    "    fig.show()\n",
    "    \n",
    "    #widgets.HBox([pos_corr.style, neg_corr.style])\n",
    "    pos_styler = pos_corr.style.set_table_attributes(\"style='display:inline'\").set_caption('Direct correlation')\n",
    "    neg_styler = neg_corr.style.set_table_attributes(\"style='display:inline'\").set_caption('Inverse correlation')\n",
    "\n",
    "    space = \"\\xa0\" * 10\n",
    "    display_html(pos_styler._repr_html_()+ space  + neg_styler._repr_html_(), raw=True)\n",
    "\n",
    "    #print(pos_corr)\n",
    "    #print(neg_corr)\n",
    "\n",
    "    #grid[0, 0] = fig\n",
    "    #grid[0, 1] = pos_corr\n",
    "    #grid[0, 2] = neg_corr    \n",
    "    \n",
    "widgets.interactive(globalGrapgh, indicator = indicator)"
   ]
  },
  {
   "cell_type": "code",
   "execution_count": 23,
   "metadata": {},
   "outputs": [
    {
     "data": {
      "application/vnd.jupyter.widget-view+json": {
       "model_id": "23cbfcd443574322a5cb2434c32a771d",
       "version_major": 2,
       "version_minor": 0
      },
      "text/plain": [
       "interactive(children=(Dropdown(description='Country', options=('Afghanistan', 'Albania', 'Algeria', 'Andorra',…"
      ]
     },
     "metadata": {},
     "output_type": "display_data"
    }
   ],
   "source": [
    "def tableOut(Threshold, Country):\n",
    "    \n",
    "    df = search_indicators(Threshold, corr_df)[Country]\n",
    "    df  = pd.merge(df, pvalue(Country), left_index=True, right_index=True, how = 'inner')\n",
    "    \n",
    "    \n",
    "    left = pd.Series([0.05], index=['P-value'])\n",
    "    left2 = pd.Series([-1], index=['GDP Correlation'])\n",
    "    left3 = pd.Series([0], index=['GDP Correlation'])\n",
    "    \n",
    "    df =df.style.highlight_between(left=left, right=1.5, axis=1, props='color:white; background-color:red;')\\\n",
    "        .highlight_between(left=left2, right=1.5, axis=1, props='color:white; background-color:#929bfc;')\\\n",
    "        .highlight_between(left=left3, right=1.5, axis=1, props='color:white; background-color:#b3b9ff;')\\\n",
    "        .format('{:,.4f}', subset = ['GDP Correlation'])\\\n",
    "        .format('{:,.12f}', subset = ['P-value'], )\n",
    "        #.format('{:12.3e}', subset = ['P-value'], )\n",
    "\n",
    "\n",
    "    display(df)\n",
    "    \n",
    "\n",
    "@interact(\n",
    "    Country = sorted(corr_df.index.tolist()),\n",
    "    Threshold = (0, 1, 0.05))\n",
    "def g(Country = 'Afghanistan', Threshold = 0.7):\n",
    "    return tableOut(Threshold,Country)\n",
    "\n",
    "    \n",
    "        "
   ]
  },
  {
   "cell_type": "code",
   "execution_count": null,
   "metadata": {},
   "outputs": [],
   "source": []
  }
 ],
 "metadata": {
  "kernelspec": {
   "display_name": "Python 3.10.5 ('.venv': poetry)",
   "language": "python",
   "name": "python3"
  },
  "language_info": {
   "codemirror_mode": {
    "name": "ipython",
    "version": 3
   },
   "file_extension": ".py",
   "mimetype": "text/x-python",
   "name": "python",
   "nbconvert_exporter": "python",
   "pygments_lexer": "ipython3",
   "version": "3.10.5"
  },
  "orig_nbformat": 4,
  "vscode": {
   "interpreter": {
    "hash": "6044c39f3fa8d69f78786198aef61ed0dc3fdd7ddd5a88c111ee27e3b3325eb4"
   }
  }
 },
 "nbformat": 4,
 "nbformat_minor": 2
}
