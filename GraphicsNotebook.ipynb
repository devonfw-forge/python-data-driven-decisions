{
 "cells": [
  {
   "cell_type": "markdown",
   "metadata": {},
   "source": [
    "# Visualize Notebook\n",
    "In this notebook the Gold Dataframe will be read and extract information of it. The objective is to see the correlations between the variables and the GDP and also what countries have the highest correlation value.\n"
   ]
  },
  {
   "cell_type": "markdown",
   "metadata": {},
   "source": [
    "## Imports\n",
    "Start importing all the libraries and also the methods of pvalue and search indicators that will be used later in the notebook."
   ]
  },
  {
   "cell_type": "code",
   "execution_count": 1,
   "metadata": {},
   "outputs": [],
   "source": [
    "import pandas as pd\n",
    "import matplotlib.pyplot as plt\n",
    "import numpy as np\n",
    "from scipy import stats\n",
    "from scipy.stats import shapiro, pearsonr, spearmanr\n",
    "import os\n",
    "import statistics\n",
    "import seaborn as sns\n",
    "from scipy.stats import norm\n",
    "import plotly.express as px\n",
    "from IPython.display import display_html\n",
    "import ipywidgets as widgets\n",
    "from ipywidgets import Layout\n",
    "from ipywidgets import AppLayout, Button, GridspecLayout\n",
    "from ipywidgets import interact, interact_manual\n",
    "from Project.Utils.visualize import  search\n"
   ]
  },
  {
   "cell_type": "markdown",
   "metadata": {},
   "source": [
    "## Correlation dataframe.\n",
    "This dataframe is the main piece of the notebook. Consists in generating for every country the correlation matrix for it and saving only the correlation value of the different variables with the GDP. \n",
    "This codeblock also calculates the p-value of Spearman and Pearson, if the value > 0.05 the correlation will be deleted due to not having statiscal significance.\n",
    "\n",
    "Later on is concatenated and generates the following result:"
   ]
  },
  {
   "cell_type": "code",
   "execution_count": 2,
   "metadata": {},
   "outputs": [
    {
     "name": "stderr",
     "output_type": "stream",
     "text": [
      "c:\\Users\\smanoles\\Documents\\GitHub\\python-data-driven-decisions\\.venv\\lib\\site-packages\\scipy\\stats\\_stats_py.py:4068: PearsonRConstantInputWarning: An input array is constant; the correlation coefficient is not defined.\n",
      "  warnings.warn(PearsonRConstantInputWarning())\n",
      "c:\\Users\\smanoles\\Documents\\GitHub\\python-data-driven-decisions\\.venv\\lib\\site-packages\\scipy\\stats\\_stats_py.py:4529: SpearmanRConstantInputWarning: An input array is constant; the correlation coefficient is not defined.\n",
      "  warnings.warn(SpearmanRConstantInputWarning())\n",
      "c:\\Users\\smanoles\\Documents\\GitHub\\python-data-driven-decisions\\.venv\\lib\\site-packages\\scipy\\stats\\_stats_py.py:4068: PearsonRConstantInputWarning: An input array is constant; the correlation coefficient is not defined.\n",
      "  warnings.warn(PearsonRConstantInputWarning())\n",
      "c:\\Users\\smanoles\\Documents\\GitHub\\python-data-driven-decisions\\.venv\\lib\\site-packages\\scipy\\stats\\_stats_py.py:4529: SpearmanRConstantInputWarning: An input array is constant; the correlation coefficient is not defined.\n",
      "  warnings.warn(SpearmanRConstantInputWarning())\n",
      "c:\\Users\\smanoles\\Documents\\GitHub\\python-data-driven-decisions\\.venv\\lib\\site-packages\\scipy\\stats\\_stats_py.py:4068: PearsonRConstantInputWarning: An input array is constant; the correlation coefficient is not defined.\n",
      "  warnings.warn(PearsonRConstantInputWarning())\n",
      "c:\\Users\\smanoles\\Documents\\GitHub\\python-data-driven-decisions\\.venv\\lib\\site-packages\\scipy\\stats\\_stats_py.py:4529: SpearmanRConstantInputWarning: An input array is constant; the correlation coefficient is not defined.\n",
      "  warnings.warn(SpearmanRConstantInputWarning())\n",
      "c:\\Users\\smanoles\\Documents\\GitHub\\python-data-driven-decisions\\.venv\\lib\\site-packages\\scipy\\stats\\_stats_py.py:4068: PearsonRConstantInputWarning: An input array is constant; the correlation coefficient is not defined.\n",
      "  warnings.warn(PearsonRConstantInputWarning())\n",
      "c:\\Users\\smanoles\\Documents\\GitHub\\python-data-driven-decisions\\.venv\\lib\\site-packages\\scipy\\stats\\_stats_py.py:4529: SpearmanRConstantInputWarning: An input array is constant; the correlation coefficient is not defined.\n",
      "  warnings.warn(SpearmanRConstantInputWarning())\n",
      "c:\\Users\\smanoles\\Documents\\GitHub\\python-data-driven-decisions\\.venv\\lib\\site-packages\\scipy\\stats\\_stats_py.py:4068: PearsonRConstantInputWarning: An input array is constant; the correlation coefficient is not defined.\n",
      "  warnings.warn(PearsonRConstantInputWarning())\n",
      "c:\\Users\\smanoles\\Documents\\GitHub\\python-data-driven-decisions\\.venv\\lib\\site-packages\\scipy\\stats\\_stats_py.py:4529: SpearmanRConstantInputWarning: An input array is constant; the correlation coefficient is not defined.\n",
      "  warnings.warn(SpearmanRConstantInputWarning())\n",
      "c:\\Users\\smanoles\\Documents\\GitHub\\python-data-driven-decisions\\.venv\\lib\\site-packages\\scipy\\stats\\_stats_py.py:4068: PearsonRConstantInputWarning: An input array is constant; the correlation coefficient is not defined.\n",
      "  warnings.warn(PearsonRConstantInputWarning())\n",
      "c:\\Users\\smanoles\\Documents\\GitHub\\python-data-driven-decisions\\.venv\\lib\\site-packages\\scipy\\stats\\_stats_py.py:4529: SpearmanRConstantInputWarning: An input array is constant; the correlation coefficient is not defined.\n",
      "  warnings.warn(SpearmanRConstantInputWarning())\n",
      "c:\\Users\\smanoles\\Documents\\GitHub\\python-data-driven-decisions\\.venv\\lib\\site-packages\\scipy\\stats\\_stats_py.py:4068: PearsonRConstantInputWarning: An input array is constant; the correlation coefficient is not defined.\n",
      "  warnings.warn(PearsonRConstantInputWarning())\n",
      "c:\\Users\\smanoles\\Documents\\GitHub\\python-data-driven-decisions\\.venv\\lib\\site-packages\\scipy\\stats\\_stats_py.py:4529: SpearmanRConstantInputWarning: An input array is constant; the correlation coefficient is not defined.\n",
      "  warnings.warn(SpearmanRConstantInputWarning())\n",
      "c:\\Users\\smanoles\\Documents\\GitHub\\python-data-driven-decisions\\.venv\\lib\\site-packages\\scipy\\stats\\_stats_py.py:4068: PearsonRConstantInputWarning: An input array is constant; the correlation coefficient is not defined.\n",
      "  warnings.warn(PearsonRConstantInputWarning())\n",
      "c:\\Users\\smanoles\\Documents\\GitHub\\python-data-driven-decisions\\.venv\\lib\\site-packages\\scipy\\stats\\_stats_py.py:4529: SpearmanRConstantInputWarning: An input array is constant; the correlation coefficient is not defined.\n",
      "  warnings.warn(SpearmanRConstantInputWarning())\n"
     ]
    },
    {
     "data": {
      "text/html": [
       "<div>\n",
       "<style scoped>\n",
       "    .dataframe tbody tr th:only-of-type {\n",
       "        vertical-align: middle;\n",
       "    }\n",
       "\n",
       "    .dataframe tbody tr th {\n",
       "        vertical-align: top;\n",
       "    }\n",
       "\n",
       "    .dataframe thead th {\n",
       "        text-align: right;\n",
       "    }\n",
       "</style>\n",
       "<table border=\"1\" class=\"dataframe\">\n",
       "  <thead>\n",
       "    <tr style=\"text-align: right;\">\n",
       "      <th></th>\n",
       "      <th>AgriShareGDP</th>\n",
       "      <th>CreditToAgriFishForest</th>\n",
       "      <th>EmploymentRural</th>\n",
       "      <th>TotalAgri</th>\n",
       "      <th>% Soldiers</th>\n",
       "      <th>Birth Rate</th>\n",
       "      <th>Death Rate</th>\n",
       "      <th>Homicides</th>\n",
       "      <th>Life Expectancy</th>\n",
       "      <th>Maternal Death Risk</th>\n",
       "      <th>...</th>\n",
       "      <th>% Population Growth</th>\n",
       "      <th>% Rural Population</th>\n",
       "      <th>Civil Liberties</th>\n",
       "      <th>Freedom of Expression</th>\n",
       "      <th>% Healthcare Investment</th>\n",
       "      <th>% Employment Industry</th>\n",
       "      <th>% Education Expenditure</th>\n",
       "      <th>% Men Employment</th>\n",
       "      <th>% Women Employment</th>\n",
       "      <th>Population</th>\n",
       "    </tr>\n",
       "  </thead>\n",
       "  <tbody>\n",
       "    <tr>\n",
       "      <th>Egypt</th>\n",
       "      <td>-0.514386</td>\n",
       "      <td>NaN</td>\n",
       "      <td>NaN</td>\n",
       "      <td>0.922174</td>\n",
       "      <td>-0.823953</td>\n",
       "      <td>NaN</td>\n",
       "      <td>NaN</td>\n",
       "      <td>NaN</td>\n",
       "      <td>NaN</td>\n",
       "      <td>NaN</td>\n",
       "      <td>...</td>\n",
       "      <td>NaN</td>\n",
       "      <td>NaN</td>\n",
       "      <td>-0.706273</td>\n",
       "      <td>NaN</td>\n",
       "      <td>-0.535786</td>\n",
       "      <td>0.720349</td>\n",
       "      <td>NaN</td>\n",
       "      <td>NaN</td>\n",
       "      <td>NaN</td>\n",
       "      <td>0.901123</td>\n",
       "    </tr>\n",
       "    <tr>\n",
       "      <th>Cuba</th>\n",
       "      <td>-0.741178</td>\n",
       "      <td>NaN</td>\n",
       "      <td>NaN</td>\n",
       "      <td>NaN</td>\n",
       "      <td>-0.683030</td>\n",
       "      <td>-0.964362</td>\n",
       "      <td>0.970615</td>\n",
       "      <td>NaN</td>\n",
       "      <td>0.942638</td>\n",
       "      <td>-0.697380</td>\n",
       "      <td>...</td>\n",
       "      <td>-0.528841</td>\n",
       "      <td>-0.958753</td>\n",
       "      <td>0.901891</td>\n",
       "      <td>0.682908</td>\n",
       "      <td>0.823339</td>\n",
       "      <td>-0.939949</td>\n",
       "      <td>NaN</td>\n",
       "      <td>NaN</td>\n",
       "      <td>NaN</td>\n",
       "      <td>0.879921</td>\n",
       "    </tr>\n",
       "    <tr>\n",
       "      <th>Libya</th>\n",
       "      <td>NaN</td>\n",
       "      <td>NaN</td>\n",
       "      <td>NaN</td>\n",
       "      <td>NaN</td>\n",
       "      <td>NaN</td>\n",
       "      <td>NaN</td>\n",
       "      <td>NaN</td>\n",
       "      <td>NaN</td>\n",
       "      <td>NaN</td>\n",
       "      <td>-0.631893</td>\n",
       "      <td>...</td>\n",
       "      <td>-0.471225</td>\n",
       "      <td>NaN</td>\n",
       "      <td>NaN</td>\n",
       "      <td>NaN</td>\n",
       "      <td>NaN</td>\n",
       "      <td>NaN</td>\n",
       "      <td>NaN</td>\n",
       "      <td>NaN</td>\n",
       "      <td>NaN</td>\n",
       "      <td>NaN</td>\n",
       "    </tr>\n",
       "    <tr>\n",
       "      <th>Sudan</th>\n",
       "      <td>NaN</td>\n",
       "      <td>NaN</td>\n",
       "      <td>NaN</td>\n",
       "      <td>NaN</td>\n",
       "      <td>NaN</td>\n",
       "      <td>NaN</td>\n",
       "      <td>NaN</td>\n",
       "      <td>NaN</td>\n",
       "      <td>NaN</td>\n",
       "      <td>NaN</td>\n",
       "      <td>...</td>\n",
       "      <td>NaN</td>\n",
       "      <td>NaN</td>\n",
       "      <td>NaN</td>\n",
       "      <td>NaN</td>\n",
       "      <td>NaN</td>\n",
       "      <td>NaN</td>\n",
       "      <td>NaN</td>\n",
       "      <td>NaN</td>\n",
       "      <td>NaN</td>\n",
       "      <td>NaN</td>\n",
       "    </tr>\n",
       "    <tr>\n",
       "      <th>Mozambique</th>\n",
       "      <td>0.567766</td>\n",
       "      <td>-0.857628</td>\n",
       "      <td>NaN</td>\n",
       "      <td>0.887298</td>\n",
       "      <td>NaN</td>\n",
       "      <td>-0.866994</td>\n",
       "      <td>-0.815453</td>\n",
       "      <td>NaN</td>\n",
       "      <td>0.734361</td>\n",
       "      <td>-0.908427</td>\n",
       "      <td>...</td>\n",
       "      <td>NaN</td>\n",
       "      <td>-0.785036</td>\n",
       "      <td>NaN</td>\n",
       "      <td>NaN</td>\n",
       "      <td>-0.685869</td>\n",
       "      <td>0.744743</td>\n",
       "      <td>NaN</td>\n",
       "      <td>NaN</td>\n",
       "      <td>NaN</td>\n",
       "      <td>0.819696</td>\n",
       "    </tr>\n",
       "    <tr>\n",
       "      <th>...</th>\n",
       "      <td>...</td>\n",
       "      <td>...</td>\n",
       "      <td>...</td>\n",
       "      <td>...</td>\n",
       "      <td>...</td>\n",
       "      <td>...</td>\n",
       "      <td>...</td>\n",
       "      <td>...</td>\n",
       "      <td>...</td>\n",
       "      <td>...</td>\n",
       "      <td>...</td>\n",
       "      <td>...</td>\n",
       "      <td>...</td>\n",
       "      <td>...</td>\n",
       "      <td>...</td>\n",
       "      <td>...</td>\n",
       "      <td>...</td>\n",
       "      <td>...</td>\n",
       "      <td>...</td>\n",
       "      <td>...</td>\n",
       "      <td>...</td>\n",
       "    </tr>\n",
       "    <tr>\n",
       "      <th>Argentina</th>\n",
       "      <td>-0.503461</td>\n",
       "      <td>0.656928</td>\n",
       "      <td>NaN</td>\n",
       "      <td>0.950021</td>\n",
       "      <td>-0.696227</td>\n",
       "      <td>-0.715829</td>\n",
       "      <td>-0.800463</td>\n",
       "      <td>NaN</td>\n",
       "      <td>0.772551</td>\n",
       "      <td>-0.830826</td>\n",
       "      <td>...</td>\n",
       "      <td>NaN</td>\n",
       "      <td>-0.780874</td>\n",
       "      <td>NaN</td>\n",
       "      <td>-0.597334</td>\n",
       "      <td>NaN</td>\n",
       "      <td>0.726257</td>\n",
       "      <td>-0.640218</td>\n",
       "      <td>NaN</td>\n",
       "      <td>NaN</td>\n",
       "      <td>0.763368</td>\n",
       "    </tr>\n",
       "    <tr>\n",
       "      <th>Costa Rica</th>\n",
       "      <td>-0.983603</td>\n",
       "      <td>NaN</td>\n",
       "      <td>-0.600957</td>\n",
       "      <td>0.918202</td>\n",
       "      <td>-0.723935</td>\n",
       "      <td>-0.936195</td>\n",
       "      <td>0.986153</td>\n",
       "      <td>0.796409</td>\n",
       "      <td>0.981229</td>\n",
       "      <td>-0.864248</td>\n",
       "      <td>...</td>\n",
       "      <td>-0.938493</td>\n",
       "      <td>-0.979714</td>\n",
       "      <td>NaN</td>\n",
       "      <td>-0.800748</td>\n",
       "      <td>NaN</td>\n",
       "      <td>-0.938845</td>\n",
       "      <td>0.875543</td>\n",
       "      <td>-0.938355</td>\n",
       "      <td>NaN</td>\n",
       "      <td>0.981640</td>\n",
       "    </tr>\n",
       "    <tr>\n",
       "      <th>Belarus</th>\n",
       "      <td>-0.740688</td>\n",
       "      <td>NaN</td>\n",
       "      <td>NaN</td>\n",
       "      <td>0.969914</td>\n",
       "      <td>NaN</td>\n",
       "      <td>0.714361</td>\n",
       "      <td>-0.572392</td>\n",
       "      <td>-0.898360</td>\n",
       "      <td>0.758016</td>\n",
       "      <td>-0.919550</td>\n",
       "      <td>...</td>\n",
       "      <td>0.753786</td>\n",
       "      <td>-0.809223</td>\n",
       "      <td>NaN</td>\n",
       "      <td>NaN</td>\n",
       "      <td>NaN</td>\n",
       "      <td>-0.801186</td>\n",
       "      <td>NaN</td>\n",
       "      <td>NaN</td>\n",
       "      <td>NaN</td>\n",
       "      <td>-0.932844</td>\n",
       "    </tr>\n",
       "    <tr>\n",
       "      <th>Gambia</th>\n",
       "      <td>-0.504079</td>\n",
       "      <td>NaN</td>\n",
       "      <td>NaN</td>\n",
       "      <td>0.802629</td>\n",
       "      <td>NaN</td>\n",
       "      <td>NaN</td>\n",
       "      <td>NaN</td>\n",
       "      <td>NaN</td>\n",
       "      <td>NaN</td>\n",
       "      <td>NaN</td>\n",
       "      <td>...</td>\n",
       "      <td>NaN</td>\n",
       "      <td>NaN</td>\n",
       "      <td>NaN</td>\n",
       "      <td>NaN</td>\n",
       "      <td>NaN</td>\n",
       "      <td>NaN</td>\n",
       "      <td>0.592211</td>\n",
       "      <td>NaN</td>\n",
       "      <td>NaN</td>\n",
       "      <td>0.799523</td>\n",
       "    </tr>\n",
       "    <tr>\n",
       "      <th>Nicaragua</th>\n",
       "      <td>NaN</td>\n",
       "      <td>-0.827828</td>\n",
       "      <td>NaN</td>\n",
       "      <td>0.976583</td>\n",
       "      <td>-0.920160</td>\n",
       "      <td>-0.960346</td>\n",
       "      <td>-0.720096</td>\n",
       "      <td>-0.700032</td>\n",
       "      <td>0.970542</td>\n",
       "      <td>-0.926781</td>\n",
       "      <td>...</td>\n",
       "      <td>-0.891714</td>\n",
       "      <td>-0.970781</td>\n",
       "      <td>-0.608949</td>\n",
       "      <td>-0.912412</td>\n",
       "      <td>0.931079</td>\n",
       "      <td>-0.849290</td>\n",
       "      <td>NaN</td>\n",
       "      <td>NaN</td>\n",
       "      <td>NaN</td>\n",
       "      <td>0.973662</td>\n",
       "    </tr>\n",
       "  </tbody>\n",
       "</table>\n",
       "<p>179 rows × 21 columns</p>\n",
       "</div>"
      ],
      "text/plain": [
       "            AgriShareGDP  CreditToAgriFishForest  EmploymentRural  TotalAgri  \\\n",
       "Egypt          -0.514386                     NaN              NaN   0.922174   \n",
       "Cuba           -0.741178                     NaN              NaN        NaN   \n",
       "Libya                NaN                     NaN              NaN        NaN   \n",
       "Sudan                NaN                     NaN              NaN        NaN   \n",
       "Mozambique      0.567766               -0.857628              NaN   0.887298   \n",
       "...                  ...                     ...              ...        ...   \n",
       "Argentina      -0.503461                0.656928              NaN   0.950021   \n",
       "Costa Rica     -0.983603                     NaN        -0.600957   0.918202   \n",
       "Belarus        -0.740688                     NaN              NaN   0.969914   \n",
       "Gambia         -0.504079                     NaN              NaN   0.802629   \n",
       "Nicaragua            NaN               -0.827828              NaN   0.976583   \n",
       "\n",
       "            % Soldiers  Birth Rate  Death Rate  Homicides  Life Expectancy  \\\n",
       "Egypt        -0.823953         NaN         NaN        NaN              NaN   \n",
       "Cuba         -0.683030   -0.964362    0.970615        NaN         0.942638   \n",
       "Libya              NaN         NaN         NaN        NaN              NaN   \n",
       "Sudan              NaN         NaN         NaN        NaN              NaN   \n",
       "Mozambique         NaN   -0.866994   -0.815453        NaN         0.734361   \n",
       "...                ...         ...         ...        ...              ...   \n",
       "Argentina    -0.696227   -0.715829   -0.800463        NaN         0.772551   \n",
       "Costa Rica   -0.723935   -0.936195    0.986153   0.796409         0.981229   \n",
       "Belarus            NaN    0.714361   -0.572392  -0.898360         0.758016   \n",
       "Gambia             NaN         NaN         NaN        NaN              NaN   \n",
       "Nicaragua    -0.920160   -0.960346   -0.720096  -0.700032         0.970542   \n",
       "\n",
       "            Maternal Death Risk  ...  % Population Growth  % Rural Population  \\\n",
       "Egypt                       NaN  ...                  NaN                 NaN   \n",
       "Cuba                  -0.697380  ...            -0.528841           -0.958753   \n",
       "Libya                 -0.631893  ...            -0.471225                 NaN   \n",
       "Sudan                       NaN  ...                  NaN                 NaN   \n",
       "Mozambique            -0.908427  ...                  NaN           -0.785036   \n",
       "...                         ...  ...                  ...                 ...   \n",
       "Argentina             -0.830826  ...                  NaN           -0.780874   \n",
       "Costa Rica            -0.864248  ...            -0.938493           -0.979714   \n",
       "Belarus               -0.919550  ...             0.753786           -0.809223   \n",
       "Gambia                      NaN  ...                  NaN                 NaN   \n",
       "Nicaragua             -0.926781  ...            -0.891714           -0.970781   \n",
       "\n",
       "            Civil Liberties  Freedom of Expression  % Healthcare Investment  \\\n",
       "Egypt             -0.706273                    NaN                -0.535786   \n",
       "Cuba               0.901891               0.682908                 0.823339   \n",
       "Libya                   NaN                    NaN                      NaN   \n",
       "Sudan                   NaN                    NaN                      NaN   \n",
       "Mozambique              NaN                    NaN                -0.685869   \n",
       "...                     ...                    ...                      ...   \n",
       "Argentina               NaN              -0.597334                      NaN   \n",
       "Costa Rica              NaN              -0.800748                      NaN   \n",
       "Belarus                 NaN                    NaN                      NaN   \n",
       "Gambia                  NaN                    NaN                      NaN   \n",
       "Nicaragua         -0.608949              -0.912412                 0.931079   \n",
       "\n",
       "            % Employment Industry  % Education Expenditure  % Men Employment  \\\n",
       "Egypt                    0.720349                      NaN               NaN   \n",
       "Cuba                    -0.939949                      NaN               NaN   \n",
       "Libya                         NaN                      NaN               NaN   \n",
       "Sudan                         NaN                      NaN               NaN   \n",
       "Mozambique               0.744743                      NaN               NaN   \n",
       "...                           ...                      ...               ...   \n",
       "Argentina                0.726257                -0.640218               NaN   \n",
       "Costa Rica              -0.938845                 0.875543         -0.938355   \n",
       "Belarus                 -0.801186                      NaN               NaN   \n",
       "Gambia                        NaN                 0.592211               NaN   \n",
       "Nicaragua               -0.849290                      NaN               NaN   \n",
       "\n",
       "            % Women Employment  Population  \n",
       "Egypt                      NaN    0.901123  \n",
       "Cuba                       NaN    0.879921  \n",
       "Libya                      NaN         NaN  \n",
       "Sudan                      NaN         NaN  \n",
       "Mozambique                 NaN    0.819696  \n",
       "...                        ...         ...  \n",
       "Argentina                  NaN    0.763368  \n",
       "Costa Rica                 NaN    0.981640  \n",
       "Belarus                    NaN   -0.932844  \n",
       "Gambia                     NaN    0.799523  \n",
       "Nicaragua                  NaN    0.973662  \n",
       "\n",
       "[179 rows x 21 columns]"
      ]
     },
     "execution_count": 2,
     "metadata": {},
     "output_type": "execute_result"
    }
   ],
   "source": [
    "#One dataframe per country\n",
    "\n",
    "read_path = os.getcwd() + '/Output/'\n",
    "write_path = os.getcwd() + '/Output/'\n",
    "\n",
    "col_country = 'Country'\n",
    "col_year = 'Year'\n",
    "col_region = 'Region'\n",
    "col_gdp = 'GDP'\n",
    "\n",
    "df= pd.read_csv (read_path + 'GoldDataframe.csv')\n",
    "corr_df = pd.DataFrame()\n",
    "corr_df.index.names = [col_country]\n",
    "\n",
    "#List all the countries, none repeated\n",
    "countries = set(df[col_country].to_list())\n",
    "\n",
    "country_dict = {}\n",
    "corr_dict = {}\n",
    "\n",
    "for country in countries:\n",
    "    #Get the DataFrame for a given country\n",
    "    country_df = df.loc[df[col_country] == country]\n",
    "\n",
    "    #Correlation matrix for that country\n",
    "    country_corr_df = country_df.corr()\n",
    "\n",
    "    #Significance for the correlations\n",
    "    pval = country_df.corr(method = lambda x, y: pearsonr(x, y)[1]) - np.eye(*country_corr_df.shape)\n",
    "    p = pval.applymap(lambda x: 1 if x < 0.05 else np.NaN)\n",
    "    country_corr_df = country_corr_df * p\n",
    "\n",
    "    pval = country_df.corr(method = lambda x, y: spearmanr(x, y)[1]) - np.eye(*country_corr_df.shape)\n",
    "    p = pval.applymap(lambda x: 1 if x < 0.05 else np.NaN)\n",
    "    country_corr_df = country_corr_df * p\n",
    "\n",
    "    #Trim it into a single row\n",
    "    country_corr_df = country_corr_df.rename(columns = {col_gdp: country}).drop(index = [col_year, col_gdp])\n",
    "\n",
    "    #Add the row to a new DataFrame with the correlations for each country\n",
    "    corr_df = pd.concat([corr_df, country_corr_df[country]], axis = 1)\n",
    "\n",
    "#Transpose the resulting DataFrame to have the desired format, save it and show it\n",
    "corr_df = corr_df.transpose()\n",
    "corr_df.to_csv(os.getcwd()+'/Output/Corr_DF.csv')\n",
    "corr_df\n"
   ]
  },
  {
   "cell_type": "markdown",
   "metadata": {},
   "source": [
    "## Cleaned GoldDataframe \n",
    "Before the correlation dataframe was generated and it detected all the correlations with a high p-value. To perform all the following analysis a clean GoldDataframe is needed. It simply detects if the correlation for the indicator and country is Nan and procedes to delete the whole column indicator for the country."
   ]
  },
  {
   "cell_type": "code",
   "execution_count": 3,
   "metadata": {},
   "outputs": [
    {
     "data": {
      "text/html": [
       "<div>\n",
       "<style scoped>\n",
       "    .dataframe tbody tr th:only-of-type {\n",
       "        vertical-align: middle;\n",
       "    }\n",
       "\n",
       "    .dataframe tbody tr th {\n",
       "        vertical-align: top;\n",
       "    }\n",
       "\n",
       "    .dataframe thead th {\n",
       "        text-align: right;\n",
       "    }\n",
       "</style>\n",
       "<table border=\"1\" class=\"dataframe\">\n",
       "  <thead>\n",
       "    <tr style=\"text-align: right;\">\n",
       "      <th></th>\n",
       "      <th></th>\n",
       "      <th></th>\n",
       "      <th>AgriShareGDP</th>\n",
       "      <th>CreditToAgriFishForest</th>\n",
       "      <th>EmploymentRural</th>\n",
       "      <th>GDP</th>\n",
       "      <th>TotalAgri</th>\n",
       "      <th>% Soldiers</th>\n",
       "      <th>Birth Rate</th>\n",
       "      <th>Death Rate</th>\n",
       "      <th>Homicides</th>\n",
       "      <th>Life Expectancy</th>\n",
       "      <th>...</th>\n",
       "      <th>% Population Growth</th>\n",
       "      <th>% Rural Population</th>\n",
       "      <th>Civil Liberties</th>\n",
       "      <th>Freedom of Expression</th>\n",
       "      <th>% Healthcare Investment</th>\n",
       "      <th>% Employment Industry</th>\n",
       "      <th>% Education Expenditure</th>\n",
       "      <th>% Men Employment</th>\n",
       "      <th>% Women Employment</th>\n",
       "      <th>Population</th>\n",
       "    </tr>\n",
       "    <tr>\n",
       "      <th>Country</th>\n",
       "      <th>Region</th>\n",
       "      <th>Year</th>\n",
       "      <th></th>\n",
       "      <th></th>\n",
       "      <th></th>\n",
       "      <th></th>\n",
       "      <th></th>\n",
       "      <th></th>\n",
       "      <th></th>\n",
       "      <th></th>\n",
       "      <th></th>\n",
       "      <th></th>\n",
       "      <th></th>\n",
       "      <th></th>\n",
       "      <th></th>\n",
       "      <th></th>\n",
       "      <th></th>\n",
       "      <th></th>\n",
       "      <th></th>\n",
       "      <th></th>\n",
       "      <th></th>\n",
       "      <th></th>\n",
       "      <th></th>\n",
       "    </tr>\n",
       "  </thead>\n",
       "  <tbody>\n",
       "    <tr>\n",
       "      <th rowspan=\"5\" valign=\"top\">Afghanistan</th>\n",
       "      <th rowspan=\"5\" valign=\"top\">South Asia</th>\n",
       "      <th>2000</th>\n",
       "      <td>54.06300</td>\n",
       "      <td>NaN</td>\n",
       "      <td>NaN</td>\n",
       "      <td>3342.034168</td>\n",
       "      <td>NaN</td>\n",
       "      <td>NaN</td>\n",
       "      <td>48.021</td>\n",
       "      <td>11.718</td>\n",
       "      <td>NaN</td>\n",
       "      <td>55.841</td>\n",
       "      <td>...</td>\n",
       "      <td>NaN</td>\n",
       "      <td>77.922</td>\n",
       "      <td>NaN</td>\n",
       "      <td>0.625</td>\n",
       "      <td>NaN</td>\n",
       "      <td>11.014</td>\n",
       "      <td>NaN</td>\n",
       "      <td>NaN</td>\n",
       "      <td>NaN</td>\n",
       "      <td>20779957.0</td>\n",
       "    </tr>\n",
       "    <tr>\n",
       "      <th>2001</th>\n",
       "      <td>54.06300</td>\n",
       "      <td>NaN</td>\n",
       "      <td>NaN</td>\n",
       "      <td>3598.470576</td>\n",
       "      <td>NaN</td>\n",
       "      <td>NaN</td>\n",
       "      <td>47.505</td>\n",
       "      <td>11.387</td>\n",
       "      <td>NaN</td>\n",
       "      <td>56.308</td>\n",
       "      <td>...</td>\n",
       "      <td>NaN</td>\n",
       "      <td>77.831</td>\n",
       "      <td>NaN</td>\n",
       "      <td>0.625</td>\n",
       "      <td>NaN</td>\n",
       "      <td>12.037</td>\n",
       "      <td>NaN</td>\n",
       "      <td>NaN</td>\n",
       "      <td>NaN</td>\n",
       "      <td>21606992.0</td>\n",
       "    </tr>\n",
       "    <tr>\n",
       "      <th>2002</th>\n",
       "      <td>45.13440</td>\n",
       "      <td>NaN</td>\n",
       "      <td>NaN</td>\n",
       "      <td>4141.523943</td>\n",
       "      <td>NaN</td>\n",
       "      <td>NaN</td>\n",
       "      <td>46.901</td>\n",
       "      <td>11.048</td>\n",
       "      <td>NaN</td>\n",
       "      <td>56.784</td>\n",
       "      <td>...</td>\n",
       "      <td>NaN</td>\n",
       "      <td>77.739</td>\n",
       "      <td>NaN</td>\n",
       "      <td>0.625</td>\n",
       "      <td>NaN</td>\n",
       "      <td>10.048</td>\n",
       "      <td>NaN</td>\n",
       "      <td>NaN</td>\n",
       "      <td>NaN</td>\n",
       "      <td>22600774.0</td>\n",
       "    </tr>\n",
       "    <tr>\n",
       "      <th>2003</th>\n",
       "      <td>41.90340</td>\n",
       "      <td>NaN</td>\n",
       "      <td>NaN</td>\n",
       "      <td>4729.042179</td>\n",
       "      <td>NaN</td>\n",
       "      <td>NaN</td>\n",
       "      <td>46.231</td>\n",
       "      <td>10.704</td>\n",
       "      <td>NaN</td>\n",
       "      <td>57.271</td>\n",
       "      <td>...</td>\n",
       "      <td>NaN</td>\n",
       "      <td>77.647</td>\n",
       "      <td>NaN</td>\n",
       "      <td>0.687</td>\n",
       "      <td>NaN</td>\n",
       "      <td>10.227</td>\n",
       "      <td>NaN</td>\n",
       "      <td>NaN</td>\n",
       "      <td>NaN</td>\n",
       "      <td>23680871.0</td>\n",
       "    </tr>\n",
       "    <tr>\n",
       "      <th>2004</th>\n",
       "      <td>35.61280</td>\n",
       "      <td>NaN</td>\n",
       "      <td>NaN</td>\n",
       "      <td>5388.482107</td>\n",
       "      <td>NaN</td>\n",
       "      <td>NaN</td>\n",
       "      <td>45.507</td>\n",
       "      <td>10.356</td>\n",
       "      <td>NaN</td>\n",
       "      <td>57.772</td>\n",
       "      <td>...</td>\n",
       "      <td>NaN</td>\n",
       "      <td>77.500</td>\n",
       "      <td>NaN</td>\n",
       "      <td>0.677</td>\n",
       "      <td>NaN</td>\n",
       "      <td>11.414</td>\n",
       "      <td>NaN</td>\n",
       "      <td>NaN</td>\n",
       "      <td>NaN</td>\n",
       "      <td>24726689.0</td>\n",
       "    </tr>\n",
       "    <tr>\n",
       "      <th>...</th>\n",
       "      <th>...</th>\n",
       "      <th>...</th>\n",
       "      <td>...</td>\n",
       "      <td>...</td>\n",
       "      <td>...</td>\n",
       "      <td>...</td>\n",
       "      <td>...</td>\n",
       "      <td>...</td>\n",
       "      <td>...</td>\n",
       "      <td>...</td>\n",
       "      <td>...</td>\n",
       "      <td>...</td>\n",
       "      <td>...</td>\n",
       "      <td>...</td>\n",
       "      <td>...</td>\n",
       "      <td>...</td>\n",
       "      <td>...</td>\n",
       "      <td>...</td>\n",
       "      <td>...</td>\n",
       "      <td>...</td>\n",
       "      <td>...</td>\n",
       "      <td>...</td>\n",
       "      <td>...</td>\n",
       "    </tr>\n",
       "    <tr>\n",
       "      <th rowspan=\"5\" valign=\"top\">Zimbabwe</th>\n",
       "      <th rowspan=\"5\" valign=\"top\">Sub-Saharan Africa</th>\n",
       "      <th>2016</th>\n",
       "      <td>7.87399</td>\n",
       "      <td>NaN</td>\n",
       "      <td>NaN</td>\n",
       "      <td>20548.678073</td>\n",
       "      <td>NaN</td>\n",
       "      <td>0.75975</td>\n",
       "      <td>NaN</td>\n",
       "      <td>8.286</td>\n",
       "      <td>NaN</td>\n",
       "      <td>60.294</td>\n",
       "      <td>...</td>\n",
       "      <td>1.549294</td>\n",
       "      <td>67.704</td>\n",
       "      <td>0.430</td>\n",
       "      <td>0.389</td>\n",
       "      <td>NaN</td>\n",
       "      <td>7.425</td>\n",
       "      <td>NaN</td>\n",
       "      <td>NaN</td>\n",
       "      <td>NaN</td>\n",
       "      <td>14030338.0</td>\n",
       "    </tr>\n",
       "    <tr>\n",
       "      <th>2017</th>\n",
       "      <td>8.34095</td>\n",
       "      <td>NaN</td>\n",
       "      <td>NaN</td>\n",
       "      <td>22040.902301</td>\n",
       "      <td>NaN</td>\n",
       "      <td>0.75072</td>\n",
       "      <td>NaN</td>\n",
       "      <td>8.044</td>\n",
       "      <td>NaN</td>\n",
       "      <td>60.812</td>\n",
       "      <td>...</td>\n",
       "      <td>1.459406</td>\n",
       "      <td>67.763</td>\n",
       "      <td>0.488</td>\n",
       "      <td>0.431</td>\n",
       "      <td>NaN</td>\n",
       "      <td>7.296</td>\n",
       "      <td>NaN</td>\n",
       "      <td>NaN</td>\n",
       "      <td>NaN</td>\n",
       "      <td>14236599.0</td>\n",
       "    </tr>\n",
       "    <tr>\n",
       "      <th>2018</th>\n",
       "      <td>8.30469</td>\n",
       "      <td>NaN</td>\n",
       "      <td>NaN</td>\n",
       "      <td>24311.560545</td>\n",
       "      <td>NaN</td>\n",
       "      <td>0.73821</td>\n",
       "      <td>NaN</td>\n",
       "      <td>7.883</td>\n",
       "      <td>NaN</td>\n",
       "      <td>61.195</td>\n",
       "      <td>...</td>\n",
       "      <td>1.410382</td>\n",
       "      <td>67.791</td>\n",
       "      <td>0.447</td>\n",
       "      <td>0.471</td>\n",
       "      <td>NaN</td>\n",
       "      <td>7.296</td>\n",
       "      <td>NaN</td>\n",
       "      <td>NaN</td>\n",
       "      <td>NaN</td>\n",
       "      <td>14438812.0</td>\n",
       "    </tr>\n",
       "    <tr>\n",
       "      <th>2019</th>\n",
       "      <td>8.17322</td>\n",
       "      <td>NaN</td>\n",
       "      <td>NaN</td>\n",
       "      <td>21935.075306</td>\n",
       "      <td>NaN</td>\n",
       "      <td>0.73821</td>\n",
       "      <td>NaN</td>\n",
       "      <td>7.773</td>\n",
       "      <td>NaN</td>\n",
       "      <td>61.490</td>\n",
       "      <td>...</td>\n",
       "      <td>1.421142</td>\n",
       "      <td>67.790</td>\n",
       "      <td>0.403</td>\n",
       "      <td>0.434</td>\n",
       "      <td>NaN</td>\n",
       "      <td>7.296</td>\n",
       "      <td>NaN</td>\n",
       "      <td>NaN</td>\n",
       "      <td>NaN</td>\n",
       "      <td>14645473.0</td>\n",
       "    </tr>\n",
       "    <tr>\n",
       "      <th>2020</th>\n",
       "      <td>10.93630</td>\n",
       "      <td>NaN</td>\n",
       "      <td>NaN</td>\n",
       "      <td>21786.743637</td>\n",
       "      <td>NaN</td>\n",
       "      <td>0.73821</td>\n",
       "      <td>NaN</td>\n",
       "      <td>7.692</td>\n",
       "      <td>NaN</td>\n",
       "      <td>61.738</td>\n",
       "      <td>...</td>\n",
       "      <td>1.473871</td>\n",
       "      <td>67.758</td>\n",
       "      <td>0.467</td>\n",
       "      <td>0.445</td>\n",
       "      <td>NaN</td>\n",
       "      <td>7.296</td>\n",
       "      <td>NaN</td>\n",
       "      <td>NaN</td>\n",
       "      <td>NaN</td>\n",
       "      <td>14862927.0</td>\n",
       "    </tr>\n",
       "  </tbody>\n",
       "</table>\n",
       "<p>3759 rows × 22 columns</p>\n",
       "</div>"
      ],
      "text/plain": [
       "                                     AgriShareGDP  CreditToAgriFishForest  \\\n",
       "Country     Region             Year                                         \n",
       "Afghanistan South Asia         2000      54.06300                     NaN   \n",
       "                               2001      54.06300                     NaN   \n",
       "                               2002      45.13440                     NaN   \n",
       "                               2003      41.90340                     NaN   \n",
       "                               2004      35.61280                     NaN   \n",
       "...                                           ...                     ...   \n",
       "Zimbabwe    Sub-Saharan Africa 2016       7.87399                     NaN   \n",
       "                               2017       8.34095                     NaN   \n",
       "                               2018       8.30469                     NaN   \n",
       "                               2019       8.17322                     NaN   \n",
       "                               2020      10.93630                     NaN   \n",
       "\n",
       "                                     EmploymentRural           GDP  TotalAgri  \\\n",
       "Country     Region             Year                                             \n",
       "Afghanistan South Asia         2000              NaN   3342.034168        NaN   \n",
       "                               2001              NaN   3598.470576        NaN   \n",
       "                               2002              NaN   4141.523943        NaN   \n",
       "                               2003              NaN   4729.042179        NaN   \n",
       "                               2004              NaN   5388.482107        NaN   \n",
       "...                                              ...           ...        ...   \n",
       "Zimbabwe    Sub-Saharan Africa 2016              NaN  20548.678073        NaN   \n",
       "                               2017              NaN  22040.902301        NaN   \n",
       "                               2018              NaN  24311.560545        NaN   \n",
       "                               2019              NaN  21935.075306        NaN   \n",
       "                               2020              NaN  21786.743637        NaN   \n",
       "\n",
       "                                     % Soldiers  Birth Rate  Death Rate  \\\n",
       "Country     Region             Year                                       \n",
       "Afghanistan South Asia         2000         NaN      48.021      11.718   \n",
       "                               2001         NaN      47.505      11.387   \n",
       "                               2002         NaN      46.901      11.048   \n",
       "                               2003         NaN      46.231      10.704   \n",
       "                               2004         NaN      45.507      10.356   \n",
       "...                                         ...         ...         ...   \n",
       "Zimbabwe    Sub-Saharan Africa 2016     0.75975         NaN       8.286   \n",
       "                               2017     0.75072         NaN       8.044   \n",
       "                               2018     0.73821         NaN       7.883   \n",
       "                               2019     0.73821         NaN       7.773   \n",
       "                               2020     0.73821         NaN       7.692   \n",
       "\n",
       "                                     Homicides  Life Expectancy  ...  \\\n",
       "Country     Region             Year                              ...   \n",
       "Afghanistan South Asia         2000        NaN           55.841  ...   \n",
       "                               2001        NaN           56.308  ...   \n",
       "                               2002        NaN           56.784  ...   \n",
       "                               2003        NaN           57.271  ...   \n",
       "                               2004        NaN           57.772  ...   \n",
       "...                                        ...              ...  ...   \n",
       "Zimbabwe    Sub-Saharan Africa 2016        NaN           60.294  ...   \n",
       "                               2017        NaN           60.812  ...   \n",
       "                               2018        NaN           61.195  ...   \n",
       "                               2019        NaN           61.490  ...   \n",
       "                               2020        NaN           61.738  ...   \n",
       "\n",
       "                                     % Population Growth  % Rural Population  \\\n",
       "Country     Region             Year                                            \n",
       "Afghanistan South Asia         2000                  NaN              77.922   \n",
       "                               2001                  NaN              77.831   \n",
       "                               2002                  NaN              77.739   \n",
       "                               2003                  NaN              77.647   \n",
       "                               2004                  NaN              77.500   \n",
       "...                                                  ...                 ...   \n",
       "Zimbabwe    Sub-Saharan Africa 2016             1.549294              67.704   \n",
       "                               2017             1.459406              67.763   \n",
       "                               2018             1.410382              67.791   \n",
       "                               2019             1.421142              67.790   \n",
       "                               2020             1.473871              67.758   \n",
       "\n",
       "                                     Civil Liberties  Freedom of Expression  \\\n",
       "Country     Region             Year                                           \n",
       "Afghanistan South Asia         2000              NaN                  0.625   \n",
       "                               2001              NaN                  0.625   \n",
       "                               2002              NaN                  0.625   \n",
       "                               2003              NaN                  0.687   \n",
       "                               2004              NaN                  0.677   \n",
       "...                                              ...                    ...   \n",
       "Zimbabwe    Sub-Saharan Africa 2016            0.430                  0.389   \n",
       "                               2017            0.488                  0.431   \n",
       "                               2018            0.447                  0.471   \n",
       "                               2019            0.403                  0.434   \n",
       "                               2020            0.467                  0.445   \n",
       "\n",
       "                                     % Healthcare Investment  \\\n",
       "Country     Region             Year                            \n",
       "Afghanistan South Asia         2000                      NaN   \n",
       "                               2001                      NaN   \n",
       "                               2002                      NaN   \n",
       "                               2003                      NaN   \n",
       "                               2004                      NaN   \n",
       "...                                                      ...   \n",
       "Zimbabwe    Sub-Saharan Africa 2016                      NaN   \n",
       "                               2017                      NaN   \n",
       "                               2018                      NaN   \n",
       "                               2019                      NaN   \n",
       "                               2020                      NaN   \n",
       "\n",
       "                                     % Employment Industry  \\\n",
       "Country     Region             Year                          \n",
       "Afghanistan South Asia         2000                 11.014   \n",
       "                               2001                 12.037   \n",
       "                               2002                 10.048   \n",
       "                               2003                 10.227   \n",
       "                               2004                 11.414   \n",
       "...                                                    ...   \n",
       "Zimbabwe    Sub-Saharan Africa 2016                  7.425   \n",
       "                               2017                  7.296   \n",
       "                               2018                  7.296   \n",
       "                               2019                  7.296   \n",
       "                               2020                  7.296   \n",
       "\n",
       "                                     % Education Expenditure  \\\n",
       "Country     Region             Year                            \n",
       "Afghanistan South Asia         2000                      NaN   \n",
       "                               2001                      NaN   \n",
       "                               2002                      NaN   \n",
       "                               2003                      NaN   \n",
       "                               2004                      NaN   \n",
       "...                                                      ...   \n",
       "Zimbabwe    Sub-Saharan Africa 2016                      NaN   \n",
       "                               2017                      NaN   \n",
       "                               2018                      NaN   \n",
       "                               2019                      NaN   \n",
       "                               2020                      NaN   \n",
       "\n",
       "                                     % Men Employment  % Women Employment  \\\n",
       "Country     Region             Year                                         \n",
       "Afghanistan South Asia         2000               NaN                 NaN   \n",
       "                               2001               NaN                 NaN   \n",
       "                               2002               NaN                 NaN   \n",
       "                               2003               NaN                 NaN   \n",
       "                               2004               NaN                 NaN   \n",
       "...                                               ...                 ...   \n",
       "Zimbabwe    Sub-Saharan Africa 2016               NaN                 NaN   \n",
       "                               2017               NaN                 NaN   \n",
       "                               2018               NaN                 NaN   \n",
       "                               2019               NaN                 NaN   \n",
       "                               2020               NaN                 NaN   \n",
       "\n",
       "                                     Population  \n",
       "Country     Region             Year              \n",
       "Afghanistan South Asia         2000  20779957.0  \n",
       "                               2001  21606992.0  \n",
       "                               2002  22600774.0  \n",
       "                               2003  23680871.0  \n",
       "                               2004  24726689.0  \n",
       "...                                         ...  \n",
       "Zimbabwe    Sub-Saharan Africa 2016  14030338.0  \n",
       "                               2017  14236599.0  \n",
       "                               2018  14438812.0  \n",
       "                               2019  14645473.0  \n",
       "                               2020  14862927.0  \n",
       "\n",
       "[3759 rows x 22 columns]"
      ]
     },
     "execution_count": 3,
     "metadata": {},
     "output_type": "execute_result"
    }
   ],
   "source": [
    "\n",
    "df = df.copy()\n",
    "for country in countries:\n",
    "    for ind in corr_df.columns:\n",
    "        if np.isnan(corr_df[ind][country]):\n",
    "            df.loc[df[col_country] == country, [ind]] = np.NaN\n",
    "\n",
    "df.set_index([col_country, col_region, col_year]).to_csv(write_path + 'GoldDataframe_Clean.csv')\n",
    "df.set_index([col_country, col_region, col_year])\n",
    "\n"
   ]
  },
  {
   "cell_type": "markdown",
   "metadata": {},
   "source": [
    "# Analysis\n",
    "From now on all the data will be analysed with the Cleaned dataframes.\n",
    "\n",
    "## Choropleth map\n",
    "This block uses the IppyWidget for the indicator list and the Choroplet for the Map. \n",
    "\n",
    "In this section a map is generated and painted with the values of the indicator. You can salect the indicator from the list and an new map is generated, also along 2 lists of the highest and lowest countries for the selected indicator. \n",
    "\n",
    "\n"
   ]
  },
  {
   "cell_type": "code",
   "execution_count": 4,
   "metadata": {},
   "outputs": [
    {
     "data": {
      "application/vnd.jupyter.widget-view+json": {
       "model_id": "6cf1d5c41e17400a9abf34e36338d895",
       "version_major": 2,
       "version_minor": 0
      },
      "text/plain": [
       "interactive(children=(SelectMultiple(description='Indicator', index=(0,), layout=Layout(height='80px', width='…"
      ]
     },
     "metadata": {},
     "output_type": "display_data"
    },
    {
     "data": {
      "application/vnd.plotly.v1+json": {
       "config": {
        "plotlyServerURL": "https://plot.ly"
       },
       "data": [
        {
         "coloraxis": "coloraxis",
         "geo": "geo",
         "hovertemplate": "index=%{location}<br>AgriShareGDP=%{z}<extra></extra>",
         "locationmode": "country names",
         "locations": [
          "Egypt",
          "Cuba",
          "Libya",
          "Sudan",
          "Mozambique",
          "Nauru",
          "Aruba",
          "Armenia",
          "North Macedonia",
          "Yemen",
          "Montenegro",
          "Poland",
          "Belgium",
          "Cameroon",
          "Denmark",
          "Madagascar",
          "Congo",
          "France",
          "Tunisia",
          "Serbia",
          "Tajikistan",
          "Slovakia",
          "Saudi Arabia",
          "Dominica",
          "Myanmar",
          "Greece",
          "Thailand",
          "Belize",
          "Puerto Rico",
          "Eritrea",
          "Pakistan",
          "Chad",
          "Djibouti",
          "Sao Tome and Principe",
          "Rwanda",
          "Sweden",
          "Honduras",
          "Suriname",
          "New Caledonia",
          "Canada",
          "Latvia",
          "Bosnia and Herzegovina",
          "Grenada",
          "South Africa",
          "Eswatini",
          "Georgia",
          "Czechia",
          "Japan",
          "Namibia",
          "Angola",
          "Malta",
          "Togo",
          "Vanuatu",
          "Switzerland",
          "Liberia",
          "Turkmenistan",
          "Morocco",
          "Burkina Faso",
          "Marshall Islands",
          "South Sudan",
          "Spain",
          "Liechtenstein",
          "Mauritius",
          "Papua New Guinea",
          "United Kingdom",
          "Albania",
          "Mongolia",
          "Kazakhstan",
          "Ecuador",
          "Norway",
          "Nigeria",
          "Guatemala",
          "Ethiopia",
          "Iraq",
          "Burundi",
          "Malaysia",
          "Fiji",
          "New Zealand",
          "Ireland",
          "Kiribati",
          "Tonga",
          "Panama",
          "Mauritania",
          "Bangladesh",
          "Bhutan",
          "Kenya",
          "Colombia",
          "Tuvalu",
          "Botswana",
          "Palau",
          "Nepal",
          "Oman",
          "Australia",
          "San Marino",
          "Hungary",
          "Algeria",
          "Peru",
          "Sierra Leone",
          "Sri Lanka",
          "Maldives",
          "Benin",
          "Russia",
          "Slovenia",
          "Ghana",
          "Italy",
          "Bulgaria",
          "Iceland",
          "Uganda",
          "Cayman Islands",
          "Jordan",
          "Mexico",
          "Germany",
          "Croatia",
          "Greenland",
          "China",
          "Singapore",
          "Bermuda",
          "Zimbabwe",
          "Paraguay",
          "Kuwait",
          "Indonesia",
          "Guyana",
          "Solomon Islands",
          "Malawi",
          "Romania",
          "Uruguay",
          "Samoa",
          "Niger",
          "Ukraine",
          "Cambodia",
          "Finland",
          "French Polynesia",
          "Senegal",
          "Brazil",
          "Barbados",
          "Haiti",
          "Portugal",
          "Luxembourg",
          "Chile",
          "Lithuania",
          "Zambia",
          "India",
          "Dominican Republic",
          "Seychelles",
          "Bahrain",
          "Trinidad and Tobago",
          "Mali",
          "United States",
          "Andorra",
          "Kyrgyzstan",
          "Cyprus",
          "Estonia",
          "Lesotho",
          "Lebanon",
          "Gabon",
          "Philippines",
          "Israel",
          "Azerbaijan",
          "El Salvador",
          "Afghanistan",
          "United Arab Emirates",
          "Austria",
          "Central African Republic",
          "Equatorial Guinea",
          "Qatar",
          "Saint Lucia",
          "Jamaica",
          "Guinea",
          "Somalia",
          "Guinea-Bissau",
          "Comoros",
          "Uzbekistan",
          "Netherlands",
          "Antigua and Barbuda",
          "Argentina",
          "Costa Rica",
          "Belarus",
          "Gambia",
          "Nicaragua"
         ],
         "name": "",
         "type": "choropleth",
         "z": [
          -0.5143855567867214,
          -0.7411778615096978,
          null,
          null,
          0.5677661615395543,
          -0.9432697722260653,
          null,
          -0.8594781938426445,
          -0.4533358395612625,
          null,
          -0.9250468161036534,
          -0.5104884920594763,
          -0.9291809511372993,
          null,
          null,
          -0.8569135424696452,
          -0.6362752332249866,
          -0.8641423065584387,
          null,
          -0.7938048760063402,
          null,
          0.546178642978574,
          -0.8954205369814583,
          0.6771268988188248,
          -0.9678699960054002,
          -0.8541526771526231,
          null,
          -0.6064329687837003,
          0.5731166325165244,
          null,
          null,
          null,
          -0.9037244864916116,
          -0.7292752475891066,
          -0.8203148473144741,
          -0.6939308578106985,
          null,
          -0.8018750496047906,
          null,
          -0.6032401543385976,
          -0.7708455187171825,
          -0.890388711927548,
          null,
          -0.8427968232002708,
          -0.8020291724807224,
          -0.9508662246185998,
          -0.6222328038675436,
          null,
          -0.7955630866641139,
          null,
          -0.9712198891595265,
          -0.8234424931464022,
          null,
          -0.9267462935060482,
          null,
          -0.9165808027323511,
          null,
          -0.7751609152889536,
          0.7356448962507441,
          null,
          -0.9246020681684352,
          null,
          -0.9680608365989137,
          -0.9062326254496571,
          -0.716390085534926,
          -0.7213763707469719,
          -0.8355217345279581,
          -0.9136350482950665,
          -0.7215009939786482,
          null,
          -0.7416626489049046,
          -0.910783581293827,
          -0.7427944720312178,
          -0.7932788342898283,
          null,
          null,
          null,
          null,
          -0.7218655963258508,
          0.6441786963795697,
          null,
          -0.9325517979342587,
          -0.6962296775129467,
          -0.9076013100731348,
          -0.8025977498851751,
          0.929395604705077,
          -0.9287236078660797,
          null,
          -0.5247023240976855,
          -0.9558679200949804,
          -0.8758891199022157,
          null,
          -0.7812355938750303,
          null,
          -0.7856366651656908,
          null,
          null,
          0.6343035981396866,
          -0.6031364214233185,
          null,
          null,
          -0.9306417343797083,
          -0.8631718214807295,
          -0.8986316649951261,
          -0.8820808398131004,
          -0.9575448068063352,
          -0.9314906398719144,
          -0.5524986567664869,
          0.8329453438889185,
          0.9292437594281578,
          null,
          null,
          -0.713594624166334,
          null,
          null,
          -0.8927550621050807,
          -0.8521168107283245,
          -0.674981469076645,
          null,
          null,
          null,
          -0.8095978580774993,
          null,
          -0.839805329038585,
          -0.9374688324008857,
          -0.5769315589389916,
          -0.9520872058064423,
          -0.4406847469701758,
          -0.7796743745253912,
          -0.8189385846768551,
          null,
          -0.833534845066142,
          null,
          -0.6824726955116254,
          -0.8935594731221601,
          -0.5119431587894402,
          -0.9370489810725439,
          -0.9084049485084351,
          -0.8374628674303137,
          -0.8353353151260893,
          -0.8459189655045559,
          -0.700649507092263,
          -0.8988548560906199,
          -0.7416434293602443,
          -0.7800474945395834,
          -0.8083567434722658,
          0.8168640617370294,
          null,
          null,
          -0.8310736040825246,
          -0.9199037030067883,
          -0.630469765190067,
          -0.800495784861207,
          -0.503101313242976,
          -0.7019760365914864,
          -0.8991487437017284,
          -0.7777787590746487,
          -0.8581621857504442,
          -0.4863337520474014,
          -0.8702332125359779,
          -0.9279434164823261,
          -0.8285363932508436,
          -0.6508918168523262,
          -0.8486192959235674,
          -0.5437859823468949,
          -0.8437032161877829,
          null,
          0.4981590975526931,
          null,
          null,
          null,
          -0.8332276663583743,
          -0.9279197943938866,
          null,
          -0.5034609536804338,
          -0.9836031733548807,
          -0.7406875567638112,
          -0.5040785343058328,
          null
         ]
        }
       ],
       "layout": {
        "coloraxis": {
         "colorbar": {
          "title": {
           "text": "AgriShareGDP"
          }
         },
         "colorscale": [
          [
           0,
           "rgb(103,0,31)"
          ],
          [
           0.1,
           "rgb(178,24,43)"
          ],
          [
           0.2,
           "rgb(214,96,77)"
          ],
          [
           0.3,
           "rgb(244,165,130)"
          ],
          [
           0.4,
           "rgb(253,219,199)"
          ],
          [
           0.5,
           "rgb(247,247,247)"
          ],
          [
           0.6,
           "rgb(209,229,240)"
          ],
          [
           0.7,
           "rgb(146,197,222)"
          ],
          [
           0.8,
           "rgb(67,147,195)"
          ],
          [
           0.9,
           "rgb(33,102,172)"
          ],
          [
           1,
           "rgb(5,48,97)"
          ]
         ],
         "showscale": true
        },
        "geo": {
         "center": {},
         "domain": {
          "x": [
           0,
           1
          ],
          "y": [
           0,
           1
          ]
         },
         "projection": {
          "type": "natural earth"
         }
        },
        "height": 500,
        "legend": {
         "tracegroupgap": 0
        },
        "margin": {
         "t": 60
        },
        "template": {
         "data": {
          "bar": [
           {
            "error_x": {
             "color": "#2a3f5f"
            },
            "error_y": {
             "color": "#2a3f5f"
            },
            "marker": {
             "line": {
              "color": "#E5ECF6",
              "width": 0.5
             },
             "pattern": {
              "fillmode": "overlay",
              "size": 10,
              "solidity": 0.2
             }
            },
            "type": "bar"
           }
          ],
          "barpolar": [
           {
            "marker": {
             "line": {
              "color": "#E5ECF6",
              "width": 0.5
             },
             "pattern": {
              "fillmode": "overlay",
              "size": 10,
              "solidity": 0.2
             }
            },
            "type": "barpolar"
           }
          ],
          "carpet": [
           {
            "aaxis": {
             "endlinecolor": "#2a3f5f",
             "gridcolor": "white",
             "linecolor": "white",
             "minorgridcolor": "white",
             "startlinecolor": "#2a3f5f"
            },
            "baxis": {
             "endlinecolor": "#2a3f5f",
             "gridcolor": "white",
             "linecolor": "white",
             "minorgridcolor": "white",
             "startlinecolor": "#2a3f5f"
            },
            "type": "carpet"
           }
          ],
          "choropleth": [
           {
            "colorbar": {
             "outlinewidth": 0,
             "ticks": ""
            },
            "type": "choropleth"
           }
          ],
          "contour": [
           {
            "colorbar": {
             "outlinewidth": 0,
             "ticks": ""
            },
            "colorscale": [
             [
              0,
              "#0d0887"
             ],
             [
              0.1111111111111111,
              "#46039f"
             ],
             [
              0.2222222222222222,
              "#7201a8"
             ],
             [
              0.3333333333333333,
              "#9c179e"
             ],
             [
              0.4444444444444444,
              "#bd3786"
             ],
             [
              0.5555555555555556,
              "#d8576b"
             ],
             [
              0.6666666666666666,
              "#ed7953"
             ],
             [
              0.7777777777777778,
              "#fb9f3a"
             ],
             [
              0.8888888888888888,
              "#fdca26"
             ],
             [
              1,
              "#f0f921"
             ]
            ],
            "type": "contour"
           }
          ],
          "contourcarpet": [
           {
            "colorbar": {
             "outlinewidth": 0,
             "ticks": ""
            },
            "type": "contourcarpet"
           }
          ],
          "heatmap": [
           {
            "colorbar": {
             "outlinewidth": 0,
             "ticks": ""
            },
            "colorscale": [
             [
              0,
              "#0d0887"
             ],
             [
              0.1111111111111111,
              "#46039f"
             ],
             [
              0.2222222222222222,
              "#7201a8"
             ],
             [
              0.3333333333333333,
              "#9c179e"
             ],
             [
              0.4444444444444444,
              "#bd3786"
             ],
             [
              0.5555555555555556,
              "#d8576b"
             ],
             [
              0.6666666666666666,
              "#ed7953"
             ],
             [
              0.7777777777777778,
              "#fb9f3a"
             ],
             [
              0.8888888888888888,
              "#fdca26"
             ],
             [
              1,
              "#f0f921"
             ]
            ],
            "type": "heatmap"
           }
          ],
          "heatmapgl": [
           {
            "colorbar": {
             "outlinewidth": 0,
             "ticks": ""
            },
            "colorscale": [
             [
              0,
              "#0d0887"
             ],
             [
              0.1111111111111111,
              "#46039f"
             ],
             [
              0.2222222222222222,
              "#7201a8"
             ],
             [
              0.3333333333333333,
              "#9c179e"
             ],
             [
              0.4444444444444444,
              "#bd3786"
             ],
             [
              0.5555555555555556,
              "#d8576b"
             ],
             [
              0.6666666666666666,
              "#ed7953"
             ],
             [
              0.7777777777777778,
              "#fb9f3a"
             ],
             [
              0.8888888888888888,
              "#fdca26"
             ],
             [
              1,
              "#f0f921"
             ]
            ],
            "type": "heatmapgl"
           }
          ],
          "histogram": [
           {
            "marker": {
             "pattern": {
              "fillmode": "overlay",
              "size": 10,
              "solidity": 0.2
             }
            },
            "type": "histogram"
           }
          ],
          "histogram2d": [
           {
            "colorbar": {
             "outlinewidth": 0,
             "ticks": ""
            },
            "colorscale": [
             [
              0,
              "#0d0887"
             ],
             [
              0.1111111111111111,
              "#46039f"
             ],
             [
              0.2222222222222222,
              "#7201a8"
             ],
             [
              0.3333333333333333,
              "#9c179e"
             ],
             [
              0.4444444444444444,
              "#bd3786"
             ],
             [
              0.5555555555555556,
              "#d8576b"
             ],
             [
              0.6666666666666666,
              "#ed7953"
             ],
             [
              0.7777777777777778,
              "#fb9f3a"
             ],
             [
              0.8888888888888888,
              "#fdca26"
             ],
             [
              1,
              "#f0f921"
             ]
            ],
            "type": "histogram2d"
           }
          ],
          "histogram2dcontour": [
           {
            "colorbar": {
             "outlinewidth": 0,
             "ticks": ""
            },
            "colorscale": [
             [
              0,
              "#0d0887"
             ],
             [
              0.1111111111111111,
              "#46039f"
             ],
             [
              0.2222222222222222,
              "#7201a8"
             ],
             [
              0.3333333333333333,
              "#9c179e"
             ],
             [
              0.4444444444444444,
              "#bd3786"
             ],
             [
              0.5555555555555556,
              "#d8576b"
             ],
             [
              0.6666666666666666,
              "#ed7953"
             ],
             [
              0.7777777777777778,
              "#fb9f3a"
             ],
             [
              0.8888888888888888,
              "#fdca26"
             ],
             [
              1,
              "#f0f921"
             ]
            ],
            "type": "histogram2dcontour"
           }
          ],
          "mesh3d": [
           {
            "colorbar": {
             "outlinewidth": 0,
             "ticks": ""
            },
            "type": "mesh3d"
           }
          ],
          "parcoords": [
           {
            "line": {
             "colorbar": {
              "outlinewidth": 0,
              "ticks": ""
             }
            },
            "type": "parcoords"
           }
          ],
          "pie": [
           {
            "automargin": true,
            "type": "pie"
           }
          ],
          "scatter": [
           {
            "fillpattern": {
             "fillmode": "overlay",
             "size": 10,
             "solidity": 0.2
            },
            "type": "scatter"
           }
          ],
          "scatter3d": [
           {
            "line": {
             "colorbar": {
              "outlinewidth": 0,
              "ticks": ""
             }
            },
            "marker": {
             "colorbar": {
              "outlinewidth": 0,
              "ticks": ""
             }
            },
            "type": "scatter3d"
           }
          ],
          "scattercarpet": [
           {
            "marker": {
             "colorbar": {
              "outlinewidth": 0,
              "ticks": ""
             }
            },
            "type": "scattercarpet"
           }
          ],
          "scattergeo": [
           {
            "marker": {
             "colorbar": {
              "outlinewidth": 0,
              "ticks": ""
             }
            },
            "type": "scattergeo"
           }
          ],
          "scattergl": [
           {
            "marker": {
             "colorbar": {
              "outlinewidth": 0,
              "ticks": ""
             }
            },
            "type": "scattergl"
           }
          ],
          "scattermapbox": [
           {
            "marker": {
             "colorbar": {
              "outlinewidth": 0,
              "ticks": ""
             }
            },
            "type": "scattermapbox"
           }
          ],
          "scatterpolar": [
           {
            "marker": {
             "colorbar": {
              "outlinewidth": 0,
              "ticks": ""
             }
            },
            "type": "scatterpolar"
           }
          ],
          "scatterpolargl": [
           {
            "marker": {
             "colorbar": {
              "outlinewidth": 0,
              "ticks": ""
             }
            },
            "type": "scatterpolargl"
           }
          ],
          "scatterternary": [
           {
            "marker": {
             "colorbar": {
              "outlinewidth": 0,
              "ticks": ""
             }
            },
            "type": "scatterternary"
           }
          ],
          "surface": [
           {
            "colorbar": {
             "outlinewidth": 0,
             "ticks": ""
            },
            "colorscale": [
             [
              0,
              "#0d0887"
             ],
             [
              0.1111111111111111,
              "#46039f"
             ],
             [
              0.2222222222222222,
              "#7201a8"
             ],
             [
              0.3333333333333333,
              "#9c179e"
             ],
             [
              0.4444444444444444,
              "#bd3786"
             ],
             [
              0.5555555555555556,
              "#d8576b"
             ],
             [
              0.6666666666666666,
              "#ed7953"
             ],
             [
              0.7777777777777778,
              "#fb9f3a"
             ],
             [
              0.8888888888888888,
              "#fdca26"
             ],
             [
              1,
              "#f0f921"
             ]
            ],
            "type": "surface"
           }
          ],
          "table": [
           {
            "cells": {
             "fill": {
              "color": "#EBF0F8"
             },
             "line": {
              "color": "white"
             }
            },
            "header": {
             "fill": {
              "color": "#C8D4E3"
             },
             "line": {
              "color": "white"
             }
            },
            "type": "table"
           }
          ]
         },
         "layout": {
          "annotationdefaults": {
           "arrowcolor": "#2a3f5f",
           "arrowhead": 0,
           "arrowwidth": 1
          },
          "autotypenumbers": "strict",
          "coloraxis": {
           "colorbar": {
            "outlinewidth": 0,
            "ticks": ""
           }
          },
          "colorscale": {
           "diverging": [
            [
             0,
             "#8e0152"
            ],
            [
             0.1,
             "#c51b7d"
            ],
            [
             0.2,
             "#de77ae"
            ],
            [
             0.3,
             "#f1b6da"
            ],
            [
             0.4,
             "#fde0ef"
            ],
            [
             0.5,
             "#f7f7f7"
            ],
            [
             0.6,
             "#e6f5d0"
            ],
            [
             0.7,
             "#b8e186"
            ],
            [
             0.8,
             "#7fbc41"
            ],
            [
             0.9,
             "#4d9221"
            ],
            [
             1,
             "#276419"
            ]
           ],
           "sequential": [
            [
             0,
             "#0d0887"
            ],
            [
             0.1111111111111111,
             "#46039f"
            ],
            [
             0.2222222222222222,
             "#7201a8"
            ],
            [
             0.3333333333333333,
             "#9c179e"
            ],
            [
             0.4444444444444444,
             "#bd3786"
            ],
            [
             0.5555555555555556,
             "#d8576b"
            ],
            [
             0.6666666666666666,
             "#ed7953"
            ],
            [
             0.7777777777777778,
             "#fb9f3a"
            ],
            [
             0.8888888888888888,
             "#fdca26"
            ],
            [
             1,
             "#f0f921"
            ]
           ],
           "sequentialminus": [
            [
             0,
             "#0d0887"
            ],
            [
             0.1111111111111111,
             "#46039f"
            ],
            [
             0.2222222222222222,
             "#7201a8"
            ],
            [
             0.3333333333333333,
             "#9c179e"
            ],
            [
             0.4444444444444444,
             "#bd3786"
            ],
            [
             0.5555555555555556,
             "#d8576b"
            ],
            [
             0.6666666666666666,
             "#ed7953"
            ],
            [
             0.7777777777777778,
             "#fb9f3a"
            ],
            [
             0.8888888888888888,
             "#fdca26"
            ],
            [
             1,
             "#f0f921"
            ]
           ]
          },
          "colorway": [
           "#636efa",
           "#EF553B",
           "#00cc96",
           "#ab63fa",
           "#FFA15A",
           "#19d3f3",
           "#FF6692",
           "#B6E880",
           "#FF97FF",
           "#FECB52"
          ],
          "font": {
           "color": "#2a3f5f"
          },
          "geo": {
           "bgcolor": "white",
           "lakecolor": "white",
           "landcolor": "#E5ECF6",
           "showlakes": true,
           "showland": true,
           "subunitcolor": "white"
          },
          "hoverlabel": {
           "align": "left"
          },
          "hovermode": "closest",
          "mapbox": {
           "style": "light"
          },
          "paper_bgcolor": "white",
          "plot_bgcolor": "#E5ECF6",
          "polar": {
           "angularaxis": {
            "gridcolor": "white",
            "linecolor": "white",
            "ticks": ""
           },
           "bgcolor": "#E5ECF6",
           "radialaxis": {
            "gridcolor": "white",
            "linecolor": "white",
            "ticks": ""
           }
          },
          "scene": {
           "xaxis": {
            "backgroundcolor": "#E5ECF6",
            "gridcolor": "white",
            "gridwidth": 2,
            "linecolor": "white",
            "showbackground": true,
            "ticks": "",
            "zerolinecolor": "white"
           },
           "yaxis": {
            "backgroundcolor": "#E5ECF6",
            "gridcolor": "white",
            "gridwidth": 2,
            "linecolor": "white",
            "showbackground": true,
            "ticks": "",
            "zerolinecolor": "white"
           },
           "zaxis": {
            "backgroundcolor": "#E5ECF6",
            "gridcolor": "white",
            "gridwidth": 2,
            "linecolor": "white",
            "showbackground": true,
            "ticks": "",
            "zerolinecolor": "white"
           }
          },
          "shapedefaults": {
           "line": {
            "color": "#2a3f5f"
           }
          },
          "ternary": {
           "aaxis": {
            "gridcolor": "white",
            "linecolor": "white",
            "ticks": ""
           },
           "baxis": {
            "gridcolor": "white",
            "linecolor": "white",
            "ticks": ""
           },
           "bgcolor": "#E5ECF6",
           "caxis": {
            "gridcolor": "white",
            "linecolor": "white",
            "ticks": ""
           }
          },
          "title": {
           "x": 0.05
          },
          "xaxis": {
           "automargin": true,
           "gridcolor": "white",
           "linecolor": "white",
           "ticks": "",
           "title": {
            "standoff": 15
           },
           "zerolinecolor": "white",
           "zerolinewidth": 2
          },
          "yaxis": {
           "automargin": true,
           "gridcolor": "white",
           "linecolor": "white",
           "ticks": "",
           "title": {
            "standoff": 15
           },
           "zerolinecolor": "white",
           "zerolinewidth": 2
          }
         }
        },
        "width": 700
       }
      }
     },
     "metadata": {},
     "output_type": "display_data"
    },
    {
     "data": {
      "application/vnd.plotly.v1+json": {
       "config": {
        "plotlyServerURL": "https://plot.ly"
       },
       "data": [
        {
         "coloraxis": "coloraxis",
         "geo": "geo",
         "hovertemplate": "index=%{location}<br>% Employment Industry=%{z}<extra></extra>",
         "locationmode": "country names",
         "locations": [
          "Egypt",
          "Cuba",
          "Libya",
          "Sudan",
          "Mozambique",
          "Nauru",
          "Aruba",
          "Armenia",
          "North Macedonia",
          "Yemen",
          "Montenegro",
          "Poland",
          "Belgium",
          "Cameroon",
          "Denmark",
          "Madagascar",
          "Congo",
          "France",
          "Tunisia",
          "Serbia",
          "Tajikistan",
          "Slovakia",
          "Saudi Arabia",
          "Dominica",
          "Myanmar",
          "Greece",
          "Thailand",
          "Belize",
          "Puerto Rico",
          "Eritrea",
          "Pakistan",
          "Chad",
          "Djibouti",
          "Sao Tome and Principe",
          "Rwanda",
          "Sweden",
          "Honduras",
          "Suriname",
          "New Caledonia",
          "Canada",
          "Latvia",
          "Bosnia and Herzegovina",
          "Grenada",
          "South Africa",
          "Eswatini",
          "Georgia",
          "Czechia",
          "Japan",
          "Namibia",
          "Angola",
          "Malta",
          "Togo",
          "Vanuatu",
          "Switzerland",
          "Liberia",
          "Turkmenistan",
          "Morocco",
          "Burkina Faso",
          "Marshall Islands",
          "South Sudan",
          "Spain",
          "Liechtenstein",
          "Mauritius",
          "Papua New Guinea",
          "United Kingdom",
          "Albania",
          "Mongolia",
          "Kazakhstan",
          "Ecuador",
          "Norway",
          "Nigeria",
          "Guatemala",
          "Ethiopia",
          "Iraq",
          "Burundi",
          "Malaysia",
          "Fiji",
          "New Zealand",
          "Ireland",
          "Kiribati",
          "Tonga",
          "Panama",
          "Mauritania",
          "Bangladesh",
          "Bhutan",
          "Kenya",
          "Colombia",
          "Tuvalu",
          "Botswana",
          "Palau",
          "Nepal",
          "Oman",
          "Australia",
          "San Marino",
          "Hungary",
          "Algeria",
          "Peru",
          "Sierra Leone",
          "Sri Lanka",
          "Maldives",
          "Benin",
          "Russia",
          "Slovenia",
          "Ghana",
          "Italy",
          "Bulgaria",
          "Iceland",
          "Uganda",
          "Cayman Islands",
          "Jordan",
          "Mexico",
          "Germany",
          "Croatia",
          "Greenland",
          "China",
          "Singapore",
          "Bermuda",
          "Zimbabwe",
          "Paraguay",
          "Kuwait",
          "Indonesia",
          "Guyana",
          "Solomon Islands",
          "Malawi",
          "Romania",
          "Uruguay",
          "Samoa",
          "Niger",
          "Ukraine",
          "Cambodia",
          "Finland",
          "French Polynesia",
          "Senegal",
          "Brazil",
          "Barbados",
          "Haiti",
          "Portugal",
          "Luxembourg",
          "Chile",
          "Lithuania",
          "Zambia",
          "India",
          "Dominican Republic",
          "Seychelles",
          "Bahrain",
          "Trinidad and Tobago",
          "Mali",
          "United States",
          "Andorra",
          "Kyrgyzstan",
          "Cyprus",
          "Estonia",
          "Lesotho",
          "Lebanon",
          "Gabon",
          "Philippines",
          "Israel",
          "Azerbaijan",
          "El Salvador",
          "Afghanistan",
          "United Arab Emirates",
          "Austria",
          "Central African Republic",
          "Equatorial Guinea",
          "Qatar",
          "Saint Lucia",
          "Jamaica",
          "Guinea",
          "Somalia",
          "Guinea-Bissau",
          "Comoros",
          "Uzbekistan",
          "Netherlands",
          "Antigua and Barbuda",
          "Argentina",
          "Costa Rica",
          "Belarus",
          "Gambia",
          "Nicaragua"
         ],
         "name": "",
         "type": "choropleth",
         "z": [
          0.7203491222820512,
          -0.9399486359884311,
          null,
          null,
          0.744743003195011,
          null,
          null,
          null,
          null,
          0.8373510024139984,
          -0.8951285959056319,
          null,
          -0.8085228882269583,
          -0.5267753361188344,
          -0.814345984097451,
          0.7181836556675267,
          null,
          -0.8155426913047366,
          null,
          -0.7786548448431828,
          -0.9526435613205739,
          -0.4768503259294344,
          0.8161893101689541,
          null,
          0.899595614565076,
          null,
          0.8488033998211204,
          -0.47579747894559477,
          -0.9420963196394609,
          0.8692850809312697,
          null,
          null,
          0.746188579864894,
          -0.8763998158268649,
          0.9808069355224766,
          -0.878837670627838,
          null,
          null,
          null,
          -0.8618932916345462,
          null,
          0.703462941781461,
          null,
          null,
          null,
          0.9022968733037011,
          -0.5994158568488451,
          -0.46660928592932094,
          null,
          null,
          -0.936202547168631,
          0.7891498256519693,
          0.475653970232021,
          -0.8565930075432904,
          0.9181500160404498,
          0.48028562044254663,
          0.8114569562996976,
          null,
          null,
          null,
          -0.5921263862578579,
          null,
          -0.8758589909717142,
          0.9680175221280354,
          -0.7548210534880808,
          0.7869910420332259,
          0.9702380577327786,
          0.8834985396540521,
          -0.5710745224401571,
          -0.7571816946873756,
          0.6392163527468759,
          -0.8246659007628419,
          -0.8011639198655415,
          0.5336466784445366,
          -0.6170986836063054,
          -0.8781605238956247,
          -0.7995742759771606,
          -0.7514672412579949,
          -0.7242102028115136,
          null,
          -0.8069229084172868,
          0.8264292223250705,
          0.8960809480382952,
          0.8078951470877358,
          null,
          0.9355778473613917,
          null,
          null,
          -0.8133070308580639,
          null,
          -0.6499631769351422,
          0.9492301928876127,
          null,
          null,
          -0.8266688652445052,
          0.9066668593176528,
          -0.9139840697110891,
          null,
          0.6884867512543673,
          null,
          null,
          -0.7043838525387599,
          -0.8186486621736897,
          null,
          -0.6122062113622003,
          -0.4741099292318434,
          -0.6734864033701037,
          null,
          null,
          -0.9366677308483721,
          null,
          -0.9360129008004436,
          null,
          null,
          0.7672334626996145,
          -0.8640145031370823,
          null,
          -0.9573515608233502,
          0.8304901556649422,
          0.7768591944413701,
          0.8805419719058671,
          null,
          0.6677418851712529,
          0.8504950027693017,
          null,
          -0.8237945586213817,
          -0.9029461305615741,
          0.9191687163001919,
          null,
          0.8592201492748042,
          -0.8178334832268769,
          null,
          0.9283826463109507,
          0.7156223894124414,
          null,
          0.9059376508627054,
          -0.6764855992422063,
          -0.9617753111026065,
          null,
          -0.44720829195708656,
          0.9486750472839477,
          0.9273802769492049,
          -0.9197323815379216,
          null,
          null,
          null,
          -0.44512302516728763,
          -0.9082397085104559,
          null,
          0.5690247113073057,
          -0.520862008249256,
          -0.5412146877806654,
          0.9034428859692623,
          0.8991015464406185,
          0.937796546239336,
          null,
          -0.9258333045367841,
          0.8573523100737407,
          -0.9124982142293291,
          -0.7336671784087161,
          -0.9262565291840559,
          -0.9024106961889493,
          null,
          0.8787342819042213,
          0.7932612932476955,
          -0.5457068747422444,
          -0.7160880793083146,
          0.8734402746500698,
          null,
          0.8450212789629526,
          -0.8858663017293325,
          0.9120741459853307,
          -0.7960550677374325,
          null,
          0.7262571293510942,
          -0.9388451477743835,
          -0.801186225349885,
          null,
          -0.8492901317719803
         ]
        }
       ],
       "layout": {
        "coloraxis": {
         "colorbar": {
          "title": {
           "text": "% Employment Industry"
          }
         },
         "colorscale": [
          [
           0,
           "rgb(103,0,31)"
          ],
          [
           0.1,
           "rgb(178,24,43)"
          ],
          [
           0.2,
           "rgb(214,96,77)"
          ],
          [
           0.3,
           "rgb(244,165,130)"
          ],
          [
           0.4,
           "rgb(253,219,199)"
          ],
          [
           0.5,
           "rgb(247,247,247)"
          ],
          [
           0.6,
           "rgb(209,229,240)"
          ],
          [
           0.7,
           "rgb(146,197,222)"
          ],
          [
           0.8,
           "rgb(67,147,195)"
          ],
          [
           0.9,
           "rgb(33,102,172)"
          ],
          [
           1,
           "rgb(5,48,97)"
          ]
         ],
         "showscale": true
        },
        "geo": {
         "center": {},
         "domain": {
          "x": [
           0,
           1
          ],
          "y": [
           0,
           1
          ]
         },
         "projection": {
          "type": "natural earth"
         }
        },
        "height": 500,
        "legend": {
         "tracegroupgap": 0
        },
        "margin": {
         "t": 60
        },
        "template": {
         "data": {
          "bar": [
           {
            "error_x": {
             "color": "#2a3f5f"
            },
            "error_y": {
             "color": "#2a3f5f"
            },
            "marker": {
             "line": {
              "color": "#E5ECF6",
              "width": 0.5
             },
             "pattern": {
              "fillmode": "overlay",
              "size": 10,
              "solidity": 0.2
             }
            },
            "type": "bar"
           }
          ],
          "barpolar": [
           {
            "marker": {
             "line": {
              "color": "#E5ECF6",
              "width": 0.5
             },
             "pattern": {
              "fillmode": "overlay",
              "size": 10,
              "solidity": 0.2
             }
            },
            "type": "barpolar"
           }
          ],
          "carpet": [
           {
            "aaxis": {
             "endlinecolor": "#2a3f5f",
             "gridcolor": "white",
             "linecolor": "white",
             "minorgridcolor": "white",
             "startlinecolor": "#2a3f5f"
            },
            "baxis": {
             "endlinecolor": "#2a3f5f",
             "gridcolor": "white",
             "linecolor": "white",
             "minorgridcolor": "white",
             "startlinecolor": "#2a3f5f"
            },
            "type": "carpet"
           }
          ],
          "choropleth": [
           {
            "colorbar": {
             "outlinewidth": 0,
             "ticks": ""
            },
            "type": "choropleth"
           }
          ],
          "contour": [
           {
            "colorbar": {
             "outlinewidth": 0,
             "ticks": ""
            },
            "colorscale": [
             [
              0,
              "#0d0887"
             ],
             [
              0.1111111111111111,
              "#46039f"
             ],
             [
              0.2222222222222222,
              "#7201a8"
             ],
             [
              0.3333333333333333,
              "#9c179e"
             ],
             [
              0.4444444444444444,
              "#bd3786"
             ],
             [
              0.5555555555555556,
              "#d8576b"
             ],
             [
              0.6666666666666666,
              "#ed7953"
             ],
             [
              0.7777777777777778,
              "#fb9f3a"
             ],
             [
              0.8888888888888888,
              "#fdca26"
             ],
             [
              1,
              "#f0f921"
             ]
            ],
            "type": "contour"
           }
          ],
          "contourcarpet": [
           {
            "colorbar": {
             "outlinewidth": 0,
             "ticks": ""
            },
            "type": "contourcarpet"
           }
          ],
          "heatmap": [
           {
            "colorbar": {
             "outlinewidth": 0,
             "ticks": ""
            },
            "colorscale": [
             [
              0,
              "#0d0887"
             ],
             [
              0.1111111111111111,
              "#46039f"
             ],
             [
              0.2222222222222222,
              "#7201a8"
             ],
             [
              0.3333333333333333,
              "#9c179e"
             ],
             [
              0.4444444444444444,
              "#bd3786"
             ],
             [
              0.5555555555555556,
              "#d8576b"
             ],
             [
              0.6666666666666666,
              "#ed7953"
             ],
             [
              0.7777777777777778,
              "#fb9f3a"
             ],
             [
              0.8888888888888888,
              "#fdca26"
             ],
             [
              1,
              "#f0f921"
             ]
            ],
            "type": "heatmap"
           }
          ],
          "heatmapgl": [
           {
            "colorbar": {
             "outlinewidth": 0,
             "ticks": ""
            },
            "colorscale": [
             [
              0,
              "#0d0887"
             ],
             [
              0.1111111111111111,
              "#46039f"
             ],
             [
              0.2222222222222222,
              "#7201a8"
             ],
             [
              0.3333333333333333,
              "#9c179e"
             ],
             [
              0.4444444444444444,
              "#bd3786"
             ],
             [
              0.5555555555555556,
              "#d8576b"
             ],
             [
              0.6666666666666666,
              "#ed7953"
             ],
             [
              0.7777777777777778,
              "#fb9f3a"
             ],
             [
              0.8888888888888888,
              "#fdca26"
             ],
             [
              1,
              "#f0f921"
             ]
            ],
            "type": "heatmapgl"
           }
          ],
          "histogram": [
           {
            "marker": {
             "pattern": {
              "fillmode": "overlay",
              "size": 10,
              "solidity": 0.2
             }
            },
            "type": "histogram"
           }
          ],
          "histogram2d": [
           {
            "colorbar": {
             "outlinewidth": 0,
             "ticks": ""
            },
            "colorscale": [
             [
              0,
              "#0d0887"
             ],
             [
              0.1111111111111111,
              "#46039f"
             ],
             [
              0.2222222222222222,
              "#7201a8"
             ],
             [
              0.3333333333333333,
              "#9c179e"
             ],
             [
              0.4444444444444444,
              "#bd3786"
             ],
             [
              0.5555555555555556,
              "#d8576b"
             ],
             [
              0.6666666666666666,
              "#ed7953"
             ],
             [
              0.7777777777777778,
              "#fb9f3a"
             ],
             [
              0.8888888888888888,
              "#fdca26"
             ],
             [
              1,
              "#f0f921"
             ]
            ],
            "type": "histogram2d"
           }
          ],
          "histogram2dcontour": [
           {
            "colorbar": {
             "outlinewidth": 0,
             "ticks": ""
            },
            "colorscale": [
             [
              0,
              "#0d0887"
             ],
             [
              0.1111111111111111,
              "#46039f"
             ],
             [
              0.2222222222222222,
              "#7201a8"
             ],
             [
              0.3333333333333333,
              "#9c179e"
             ],
             [
              0.4444444444444444,
              "#bd3786"
             ],
             [
              0.5555555555555556,
              "#d8576b"
             ],
             [
              0.6666666666666666,
              "#ed7953"
             ],
             [
              0.7777777777777778,
              "#fb9f3a"
             ],
             [
              0.8888888888888888,
              "#fdca26"
             ],
             [
              1,
              "#f0f921"
             ]
            ],
            "type": "histogram2dcontour"
           }
          ],
          "mesh3d": [
           {
            "colorbar": {
             "outlinewidth": 0,
             "ticks": ""
            },
            "type": "mesh3d"
           }
          ],
          "parcoords": [
           {
            "line": {
             "colorbar": {
              "outlinewidth": 0,
              "ticks": ""
             }
            },
            "type": "parcoords"
           }
          ],
          "pie": [
           {
            "automargin": true,
            "type": "pie"
           }
          ],
          "scatter": [
           {
            "fillpattern": {
             "fillmode": "overlay",
             "size": 10,
             "solidity": 0.2
            },
            "type": "scatter"
           }
          ],
          "scatter3d": [
           {
            "line": {
             "colorbar": {
              "outlinewidth": 0,
              "ticks": ""
             }
            },
            "marker": {
             "colorbar": {
              "outlinewidth": 0,
              "ticks": ""
             }
            },
            "type": "scatter3d"
           }
          ],
          "scattercarpet": [
           {
            "marker": {
             "colorbar": {
              "outlinewidth": 0,
              "ticks": ""
             }
            },
            "type": "scattercarpet"
           }
          ],
          "scattergeo": [
           {
            "marker": {
             "colorbar": {
              "outlinewidth": 0,
              "ticks": ""
             }
            },
            "type": "scattergeo"
           }
          ],
          "scattergl": [
           {
            "marker": {
             "colorbar": {
              "outlinewidth": 0,
              "ticks": ""
             }
            },
            "type": "scattergl"
           }
          ],
          "scattermapbox": [
           {
            "marker": {
             "colorbar": {
              "outlinewidth": 0,
              "ticks": ""
             }
            },
            "type": "scattermapbox"
           }
          ],
          "scatterpolar": [
           {
            "marker": {
             "colorbar": {
              "outlinewidth": 0,
              "ticks": ""
             }
            },
            "type": "scatterpolar"
           }
          ],
          "scatterpolargl": [
           {
            "marker": {
             "colorbar": {
              "outlinewidth": 0,
              "ticks": ""
             }
            },
            "type": "scatterpolargl"
           }
          ],
          "scatterternary": [
           {
            "marker": {
             "colorbar": {
              "outlinewidth": 0,
              "ticks": ""
             }
            },
            "type": "scatterternary"
           }
          ],
          "surface": [
           {
            "colorbar": {
             "outlinewidth": 0,
             "ticks": ""
            },
            "colorscale": [
             [
              0,
              "#0d0887"
             ],
             [
              0.1111111111111111,
              "#46039f"
             ],
             [
              0.2222222222222222,
              "#7201a8"
             ],
             [
              0.3333333333333333,
              "#9c179e"
             ],
             [
              0.4444444444444444,
              "#bd3786"
             ],
             [
              0.5555555555555556,
              "#d8576b"
             ],
             [
              0.6666666666666666,
              "#ed7953"
             ],
             [
              0.7777777777777778,
              "#fb9f3a"
             ],
             [
              0.8888888888888888,
              "#fdca26"
             ],
             [
              1,
              "#f0f921"
             ]
            ],
            "type": "surface"
           }
          ],
          "table": [
           {
            "cells": {
             "fill": {
              "color": "#EBF0F8"
             },
             "line": {
              "color": "white"
             }
            },
            "header": {
             "fill": {
              "color": "#C8D4E3"
             },
             "line": {
              "color": "white"
             }
            },
            "type": "table"
           }
          ]
         },
         "layout": {
          "annotationdefaults": {
           "arrowcolor": "#2a3f5f",
           "arrowhead": 0,
           "arrowwidth": 1
          },
          "autotypenumbers": "strict",
          "coloraxis": {
           "colorbar": {
            "outlinewidth": 0,
            "ticks": ""
           }
          },
          "colorscale": {
           "diverging": [
            [
             0,
             "#8e0152"
            ],
            [
             0.1,
             "#c51b7d"
            ],
            [
             0.2,
             "#de77ae"
            ],
            [
             0.3,
             "#f1b6da"
            ],
            [
             0.4,
             "#fde0ef"
            ],
            [
             0.5,
             "#f7f7f7"
            ],
            [
             0.6,
             "#e6f5d0"
            ],
            [
             0.7,
             "#b8e186"
            ],
            [
             0.8,
             "#7fbc41"
            ],
            [
             0.9,
             "#4d9221"
            ],
            [
             1,
             "#276419"
            ]
           ],
           "sequential": [
            [
             0,
             "#0d0887"
            ],
            [
             0.1111111111111111,
             "#46039f"
            ],
            [
             0.2222222222222222,
             "#7201a8"
            ],
            [
             0.3333333333333333,
             "#9c179e"
            ],
            [
             0.4444444444444444,
             "#bd3786"
            ],
            [
             0.5555555555555556,
             "#d8576b"
            ],
            [
             0.6666666666666666,
             "#ed7953"
            ],
            [
             0.7777777777777778,
             "#fb9f3a"
            ],
            [
             0.8888888888888888,
             "#fdca26"
            ],
            [
             1,
             "#f0f921"
            ]
           ],
           "sequentialminus": [
            [
             0,
             "#0d0887"
            ],
            [
             0.1111111111111111,
             "#46039f"
            ],
            [
             0.2222222222222222,
             "#7201a8"
            ],
            [
             0.3333333333333333,
             "#9c179e"
            ],
            [
             0.4444444444444444,
             "#bd3786"
            ],
            [
             0.5555555555555556,
             "#d8576b"
            ],
            [
             0.6666666666666666,
             "#ed7953"
            ],
            [
             0.7777777777777778,
             "#fb9f3a"
            ],
            [
             0.8888888888888888,
             "#fdca26"
            ],
            [
             1,
             "#f0f921"
            ]
           ]
          },
          "colorway": [
           "#636efa",
           "#EF553B",
           "#00cc96",
           "#ab63fa",
           "#FFA15A",
           "#19d3f3",
           "#FF6692",
           "#B6E880",
           "#FF97FF",
           "#FECB52"
          ],
          "font": {
           "color": "#2a3f5f"
          },
          "geo": {
           "bgcolor": "white",
           "lakecolor": "white",
           "landcolor": "#E5ECF6",
           "showlakes": true,
           "showland": true,
           "subunitcolor": "white"
          },
          "hoverlabel": {
           "align": "left"
          },
          "hovermode": "closest",
          "mapbox": {
           "style": "light"
          },
          "paper_bgcolor": "white",
          "plot_bgcolor": "#E5ECF6",
          "polar": {
           "angularaxis": {
            "gridcolor": "white",
            "linecolor": "white",
            "ticks": ""
           },
           "bgcolor": "#E5ECF6",
           "radialaxis": {
            "gridcolor": "white",
            "linecolor": "white",
            "ticks": ""
           }
          },
          "scene": {
           "xaxis": {
            "backgroundcolor": "#E5ECF6",
            "gridcolor": "white",
            "gridwidth": 2,
            "linecolor": "white",
            "showbackground": true,
            "ticks": "",
            "zerolinecolor": "white"
           },
           "yaxis": {
            "backgroundcolor": "#E5ECF6",
            "gridcolor": "white",
            "gridwidth": 2,
            "linecolor": "white",
            "showbackground": true,
            "ticks": "",
            "zerolinecolor": "white"
           },
           "zaxis": {
            "backgroundcolor": "#E5ECF6",
            "gridcolor": "white",
            "gridwidth": 2,
            "linecolor": "white",
            "showbackground": true,
            "ticks": "",
            "zerolinecolor": "white"
           }
          },
          "shapedefaults": {
           "line": {
            "color": "#2a3f5f"
           }
          },
          "ternary": {
           "aaxis": {
            "gridcolor": "white",
            "linecolor": "white",
            "ticks": ""
           },
           "baxis": {
            "gridcolor": "white",
            "linecolor": "white",
            "ticks": ""
           },
           "bgcolor": "#E5ECF6",
           "caxis": {
            "gridcolor": "white",
            "linecolor": "white",
            "ticks": ""
           }
          },
          "title": {
           "x": 0.05
          },
          "xaxis": {
           "automargin": true,
           "gridcolor": "white",
           "linecolor": "white",
           "ticks": "",
           "title": {
            "standoff": 15
           },
           "zerolinecolor": "white",
           "zerolinewidth": 2
          },
          "yaxis": {
           "automargin": true,
           "gridcolor": "white",
           "linecolor": "white",
           "ticks": "",
           "title": {
            "standoff": 15
           },
           "zerolinecolor": "white",
           "zerolinewidth": 2
          }
         }
        },
        "width": 700
       }
      }
     },
     "metadata": {},
     "output_type": "display_data"
    },
    {
     "data": {
      "application/vnd.plotly.v1+json": {
       "config": {
        "plotlyServerURL": "https://plot.ly"
       },
       "data": [
        {
         "coloraxis": "coloraxis",
         "geo": "geo",
         "hovertemplate": "index=%{location}<br>Population=%{z}<extra></extra>",
         "locationmode": "country names",
         "locations": [
          "Egypt",
          "Cuba",
          "Libya",
          "Sudan",
          "Mozambique",
          "Nauru",
          "Aruba",
          "Armenia",
          "North Macedonia",
          "Yemen",
          "Montenegro",
          "Poland",
          "Belgium",
          "Cameroon",
          "Denmark",
          "Madagascar",
          "Congo",
          "France",
          "Tunisia",
          "Serbia",
          "Tajikistan",
          "Slovakia",
          "Saudi Arabia",
          "Dominica",
          "Myanmar",
          "Greece",
          "Thailand",
          "Belize",
          "Puerto Rico",
          "Eritrea",
          "Pakistan",
          "Chad",
          "Djibouti",
          "Sao Tome and Principe",
          "Rwanda",
          "Sweden",
          "Honduras",
          "Suriname",
          "New Caledonia",
          "Canada",
          "Latvia",
          "Bosnia and Herzegovina",
          "Grenada",
          "South Africa",
          "Eswatini",
          "Georgia",
          "Czechia",
          "Japan",
          "Namibia",
          "Angola",
          "Malta",
          "Togo",
          "Vanuatu",
          "Switzerland",
          "Liberia",
          "Turkmenistan",
          "Morocco",
          "Burkina Faso",
          "Marshall Islands",
          "South Sudan",
          "Spain",
          "Liechtenstein",
          "Mauritius",
          "Papua New Guinea",
          "United Kingdom",
          "Albania",
          "Mongolia",
          "Kazakhstan",
          "Ecuador",
          "Norway",
          "Nigeria",
          "Guatemala",
          "Ethiopia",
          "Iraq",
          "Burundi",
          "Malaysia",
          "Fiji",
          "New Zealand",
          "Ireland",
          "Kiribati",
          "Tonga",
          "Panama",
          "Mauritania",
          "Bangladesh",
          "Bhutan",
          "Kenya",
          "Colombia",
          "Tuvalu",
          "Botswana",
          "Palau",
          "Nepal",
          "Oman",
          "Australia",
          "San Marino",
          "Hungary",
          "Algeria",
          "Peru",
          "Sierra Leone",
          "Sri Lanka",
          "Maldives",
          "Benin",
          "Russia",
          "Slovenia",
          "Ghana",
          "Italy",
          "Bulgaria",
          "Iceland",
          "Uganda",
          "Cayman Islands",
          "Jordan",
          "Mexico",
          "Germany",
          "Croatia",
          "Greenland",
          "China",
          "Singapore",
          "Bermuda",
          "Zimbabwe",
          "Paraguay",
          "Kuwait",
          "Indonesia",
          "Guyana",
          "Solomon Islands",
          "Malawi",
          "Romania",
          "Uruguay",
          "Samoa",
          "Niger",
          "Ukraine",
          "Cambodia",
          "Finland",
          "French Polynesia",
          "Senegal",
          "Brazil",
          "Barbados",
          "Haiti",
          "Portugal",
          "Luxembourg",
          "Chile",
          "Lithuania",
          "Zambia",
          "India",
          "Dominican Republic",
          "Seychelles",
          "Bahrain",
          "Trinidad and Tobago",
          "Mali",
          "United States",
          "Andorra",
          "Kyrgyzstan",
          "Cyprus",
          "Estonia",
          "Lesotho",
          "Lebanon",
          "Gabon",
          "Philippines",
          "Israel",
          "Azerbaijan",
          "El Salvador",
          "Afghanistan",
          "United Arab Emirates",
          "Austria",
          "Central African Republic",
          "Equatorial Guinea",
          "Qatar",
          "Saint Lucia",
          "Jamaica",
          "Guinea",
          "Somalia",
          "Guinea-Bissau",
          "Comoros",
          "Uzbekistan",
          "Netherlands",
          "Antigua and Barbuda",
          "Argentina",
          "Costa Rica",
          "Belarus",
          "Gambia",
          "Nicaragua"
         ],
         "name": "",
         "type": "choropleth",
         "z": [
          0.9011227296274976,
          0.8799211007565167,
          null,
          null,
          0.8196955133871416,
          0.7660389529052982,
          0.9031129277275219,
          -0.7877820428346901,
          0.9627384247699884,
          0.5958927646376873,
          0.9513880691370872,
          -0.8276110030559082,
          0.8503096783473756,
          0.9752352945005989,
          0.8054301669486499,
          0.943587397255831,
          0.697858703565425,
          0.8135522709582663,
          0.6751362781289163,
          -0.9122906822629646,
          0.8987196900088058,
          0.6526350419096344,
          0.9370134937400173,
          0.898213271086247,
          0.9474930711681265,
          null,
          0.9796551280929805,
          0.9661442753515954,
          -0.66988895252368,
          0.8640854381696683,
          0.9653140140183507,
          0.788433252285979,
          0.978683921475363,
          0.9859896498138825,
          0.9832001606702394,
          0.8113454633094793,
          0.9919769431199179,
          0.7499264810238443,
          0.8502807694011686,
          0.8482865798390639,
          -0.8636410235068753,
          -0.6518714244643499,
          0.9647248382534005,
          0.7307620729464542,
          0.7475357162883104,
          -0.9555082876582706,
          0.8610565475601872,
          null,
          0.8663292793427649,
          0.7314952029212697,
          0.9700112907877732,
          0.9921117009161273,
          0.9465117985583462,
          0.9368692226539997,
          0.9643651569905966,
          0.9507485124245928,
          0.9374378382614958,
          0.9755282780915641,
          0.9137155269037865,
          null,
          0.8997266713611429,
          0.9626149703276576,
          0.9513785011503928,
          0.9680267257457645,
          0.7012647122825454,
          -0.9253094675476629,
          0.9380373275218058,
          0.7943715219519849,
          0.968525999544913,
          0.6337901519725858,
          0.8563456123595607,
          0.9949832179266654,
          0.9784914613773791,
          0.8525930898654933,
          0.9880519892143248,
          0.9673038508353152,
          0.9073272490672516,
          0.9791117680512248,
          0.9077045288443426,
          0.9412526218573091,
          0.7500584719468391,
          0.967897479101066,
          0.9384366262671263,
          0.9428607621712929,
          0.9852471467942083,
          0.9889216881847186,
          0.8230034481855789,
          0.9845346871741261,
          0.9501020370635191,
          -0.7213528479397062,
          0.933680178439907,
          0.8241515983260592,
          0.8882728900790567,
          null,
          -0.8259893629657306,
          0.716609375833932,
          0.9271622964978775,
          0.8983492786841498,
          0.9790332194506859,
          0.9605178349107008,
          0.9923955218885059,
          null,
          0.7917675456279589,
          0.9688825409434771,
          null,
          -0.9511166411566102,
          0.7675166125119791,
          0.9220936280880153,
          0.9301912959777504,
          0.994117738507216,
          0.8480869051413298,
          null,
          -0.5482395450106803,
          null,
          0.9828769969990522,
          0.990639136174924,
          -0.6737861924025225,
          0.9560478461537764,
          0.9376453800652068,
          0.6686483090603036,
          0.9721640048900178,
          0.8817792437814996,
          0.9817978432751923,
          0.9541775047231686,
          -0.9388457042427453,
          0.8996387078839222,
          0.929677572603052,
          0.9848570232857237,
          -0.6939782826336347,
          0.9864963960051933,
          0.779244931164532,
          null,
          0.9506326918752028,
          0.7533250760424726,
          0.9122653568690513,
          0.9519421354374487,
          null,
          0.8987048252655968,
          0.918629460277529,
          -0.9223403626289571,
          0.8253786932582903,
          0.9873502903317619,
          0.9818035803717039,
          0.8479735743069235,
          0.9736063033126551,
          0.755735784193016,
          0.9842557489619819,
          0.9883388025006341,
          0.9358921667980167,
          0.9358086302285071,
          0.7889622067522173,
          -0.919444601196379,
          null,
          0.9580246090100673,
          0.7927957582702685,
          0.9877698151247409,
          0.9851056272693393,
          0.6915148756944303,
          0.9858524844652221,
          0.9299106328304965,
          0.9706752150003,
          0.7893856622326492,
          0.8748869830301211,
          0.4858750372834461,
          0.9323681383938013,
          0.957435460234142,
          0.9123884987806565,
          0.9689023577332999,
          null,
          0.9744552674643372,
          0.9295505493813949,
          0.8397313967271117,
          0.853086516597885,
          0.890888380103682,
          0.7633675277043157,
          0.9816403792561417,
          -0.9328438500720989,
          0.7995234428573429,
          0.9736622115700175
         ]
        }
       ],
       "layout": {
        "coloraxis": {
         "colorbar": {
          "title": {
           "text": "Population"
          }
         },
         "colorscale": [
          [
           0,
           "rgb(103,0,31)"
          ],
          [
           0.1,
           "rgb(178,24,43)"
          ],
          [
           0.2,
           "rgb(214,96,77)"
          ],
          [
           0.3,
           "rgb(244,165,130)"
          ],
          [
           0.4,
           "rgb(253,219,199)"
          ],
          [
           0.5,
           "rgb(247,247,247)"
          ],
          [
           0.6,
           "rgb(209,229,240)"
          ],
          [
           0.7,
           "rgb(146,197,222)"
          ],
          [
           0.8,
           "rgb(67,147,195)"
          ],
          [
           0.9,
           "rgb(33,102,172)"
          ],
          [
           1,
           "rgb(5,48,97)"
          ]
         ],
         "showscale": true
        },
        "geo": {
         "center": {},
         "domain": {
          "x": [
           0,
           1
          ],
          "y": [
           0,
           1
          ]
         },
         "projection": {
          "type": "natural earth"
         }
        },
        "height": 500,
        "legend": {
         "tracegroupgap": 0
        },
        "margin": {
         "t": 60
        },
        "template": {
         "data": {
          "bar": [
           {
            "error_x": {
             "color": "#2a3f5f"
            },
            "error_y": {
             "color": "#2a3f5f"
            },
            "marker": {
             "line": {
              "color": "#E5ECF6",
              "width": 0.5
             },
             "pattern": {
              "fillmode": "overlay",
              "size": 10,
              "solidity": 0.2
             }
            },
            "type": "bar"
           }
          ],
          "barpolar": [
           {
            "marker": {
             "line": {
              "color": "#E5ECF6",
              "width": 0.5
             },
             "pattern": {
              "fillmode": "overlay",
              "size": 10,
              "solidity": 0.2
             }
            },
            "type": "barpolar"
           }
          ],
          "carpet": [
           {
            "aaxis": {
             "endlinecolor": "#2a3f5f",
             "gridcolor": "white",
             "linecolor": "white",
             "minorgridcolor": "white",
             "startlinecolor": "#2a3f5f"
            },
            "baxis": {
             "endlinecolor": "#2a3f5f",
             "gridcolor": "white",
             "linecolor": "white",
             "minorgridcolor": "white",
             "startlinecolor": "#2a3f5f"
            },
            "type": "carpet"
           }
          ],
          "choropleth": [
           {
            "colorbar": {
             "outlinewidth": 0,
             "ticks": ""
            },
            "type": "choropleth"
           }
          ],
          "contour": [
           {
            "colorbar": {
             "outlinewidth": 0,
             "ticks": ""
            },
            "colorscale": [
             [
              0,
              "#0d0887"
             ],
             [
              0.1111111111111111,
              "#46039f"
             ],
             [
              0.2222222222222222,
              "#7201a8"
             ],
             [
              0.3333333333333333,
              "#9c179e"
             ],
             [
              0.4444444444444444,
              "#bd3786"
             ],
             [
              0.5555555555555556,
              "#d8576b"
             ],
             [
              0.6666666666666666,
              "#ed7953"
             ],
             [
              0.7777777777777778,
              "#fb9f3a"
             ],
             [
              0.8888888888888888,
              "#fdca26"
             ],
             [
              1,
              "#f0f921"
             ]
            ],
            "type": "contour"
           }
          ],
          "contourcarpet": [
           {
            "colorbar": {
             "outlinewidth": 0,
             "ticks": ""
            },
            "type": "contourcarpet"
           }
          ],
          "heatmap": [
           {
            "colorbar": {
             "outlinewidth": 0,
             "ticks": ""
            },
            "colorscale": [
             [
              0,
              "#0d0887"
             ],
             [
              0.1111111111111111,
              "#46039f"
             ],
             [
              0.2222222222222222,
              "#7201a8"
             ],
             [
              0.3333333333333333,
              "#9c179e"
             ],
             [
              0.4444444444444444,
              "#bd3786"
             ],
             [
              0.5555555555555556,
              "#d8576b"
             ],
             [
              0.6666666666666666,
              "#ed7953"
             ],
             [
              0.7777777777777778,
              "#fb9f3a"
             ],
             [
              0.8888888888888888,
              "#fdca26"
             ],
             [
              1,
              "#f0f921"
             ]
            ],
            "type": "heatmap"
           }
          ],
          "heatmapgl": [
           {
            "colorbar": {
             "outlinewidth": 0,
             "ticks": ""
            },
            "colorscale": [
             [
              0,
              "#0d0887"
             ],
             [
              0.1111111111111111,
              "#46039f"
             ],
             [
              0.2222222222222222,
              "#7201a8"
             ],
             [
              0.3333333333333333,
              "#9c179e"
             ],
             [
              0.4444444444444444,
              "#bd3786"
             ],
             [
              0.5555555555555556,
              "#d8576b"
             ],
             [
              0.6666666666666666,
              "#ed7953"
             ],
             [
              0.7777777777777778,
              "#fb9f3a"
             ],
             [
              0.8888888888888888,
              "#fdca26"
             ],
             [
              1,
              "#f0f921"
             ]
            ],
            "type": "heatmapgl"
           }
          ],
          "histogram": [
           {
            "marker": {
             "pattern": {
              "fillmode": "overlay",
              "size": 10,
              "solidity": 0.2
             }
            },
            "type": "histogram"
           }
          ],
          "histogram2d": [
           {
            "colorbar": {
             "outlinewidth": 0,
             "ticks": ""
            },
            "colorscale": [
             [
              0,
              "#0d0887"
             ],
             [
              0.1111111111111111,
              "#46039f"
             ],
             [
              0.2222222222222222,
              "#7201a8"
             ],
             [
              0.3333333333333333,
              "#9c179e"
             ],
             [
              0.4444444444444444,
              "#bd3786"
             ],
             [
              0.5555555555555556,
              "#d8576b"
             ],
             [
              0.6666666666666666,
              "#ed7953"
             ],
             [
              0.7777777777777778,
              "#fb9f3a"
             ],
             [
              0.8888888888888888,
              "#fdca26"
             ],
             [
              1,
              "#f0f921"
             ]
            ],
            "type": "histogram2d"
           }
          ],
          "histogram2dcontour": [
           {
            "colorbar": {
             "outlinewidth": 0,
             "ticks": ""
            },
            "colorscale": [
             [
              0,
              "#0d0887"
             ],
             [
              0.1111111111111111,
              "#46039f"
             ],
             [
              0.2222222222222222,
              "#7201a8"
             ],
             [
              0.3333333333333333,
              "#9c179e"
             ],
             [
              0.4444444444444444,
              "#bd3786"
             ],
             [
              0.5555555555555556,
              "#d8576b"
             ],
             [
              0.6666666666666666,
              "#ed7953"
             ],
             [
              0.7777777777777778,
              "#fb9f3a"
             ],
             [
              0.8888888888888888,
              "#fdca26"
             ],
             [
              1,
              "#f0f921"
             ]
            ],
            "type": "histogram2dcontour"
           }
          ],
          "mesh3d": [
           {
            "colorbar": {
             "outlinewidth": 0,
             "ticks": ""
            },
            "type": "mesh3d"
           }
          ],
          "parcoords": [
           {
            "line": {
             "colorbar": {
              "outlinewidth": 0,
              "ticks": ""
             }
            },
            "type": "parcoords"
           }
          ],
          "pie": [
           {
            "automargin": true,
            "type": "pie"
           }
          ],
          "scatter": [
           {
            "fillpattern": {
             "fillmode": "overlay",
             "size": 10,
             "solidity": 0.2
            },
            "type": "scatter"
           }
          ],
          "scatter3d": [
           {
            "line": {
             "colorbar": {
              "outlinewidth": 0,
              "ticks": ""
             }
            },
            "marker": {
             "colorbar": {
              "outlinewidth": 0,
              "ticks": ""
             }
            },
            "type": "scatter3d"
           }
          ],
          "scattercarpet": [
           {
            "marker": {
             "colorbar": {
              "outlinewidth": 0,
              "ticks": ""
             }
            },
            "type": "scattercarpet"
           }
          ],
          "scattergeo": [
           {
            "marker": {
             "colorbar": {
              "outlinewidth": 0,
              "ticks": ""
             }
            },
            "type": "scattergeo"
           }
          ],
          "scattergl": [
           {
            "marker": {
             "colorbar": {
              "outlinewidth": 0,
              "ticks": ""
             }
            },
            "type": "scattergl"
           }
          ],
          "scattermapbox": [
           {
            "marker": {
             "colorbar": {
              "outlinewidth": 0,
              "ticks": ""
             }
            },
            "type": "scattermapbox"
           }
          ],
          "scatterpolar": [
           {
            "marker": {
             "colorbar": {
              "outlinewidth": 0,
              "ticks": ""
             }
            },
            "type": "scatterpolar"
           }
          ],
          "scatterpolargl": [
           {
            "marker": {
             "colorbar": {
              "outlinewidth": 0,
              "ticks": ""
             }
            },
            "type": "scatterpolargl"
           }
          ],
          "scatterternary": [
           {
            "marker": {
             "colorbar": {
              "outlinewidth": 0,
              "ticks": ""
             }
            },
            "type": "scatterternary"
           }
          ],
          "surface": [
           {
            "colorbar": {
             "outlinewidth": 0,
             "ticks": ""
            },
            "colorscale": [
             [
              0,
              "#0d0887"
             ],
             [
              0.1111111111111111,
              "#46039f"
             ],
             [
              0.2222222222222222,
              "#7201a8"
             ],
             [
              0.3333333333333333,
              "#9c179e"
             ],
             [
              0.4444444444444444,
              "#bd3786"
             ],
             [
              0.5555555555555556,
              "#d8576b"
             ],
             [
              0.6666666666666666,
              "#ed7953"
             ],
             [
              0.7777777777777778,
              "#fb9f3a"
             ],
             [
              0.8888888888888888,
              "#fdca26"
             ],
             [
              1,
              "#f0f921"
             ]
            ],
            "type": "surface"
           }
          ],
          "table": [
           {
            "cells": {
             "fill": {
              "color": "#EBF0F8"
             },
             "line": {
              "color": "white"
             }
            },
            "header": {
             "fill": {
              "color": "#C8D4E3"
             },
             "line": {
              "color": "white"
             }
            },
            "type": "table"
           }
          ]
         },
         "layout": {
          "annotationdefaults": {
           "arrowcolor": "#2a3f5f",
           "arrowhead": 0,
           "arrowwidth": 1
          },
          "autotypenumbers": "strict",
          "coloraxis": {
           "colorbar": {
            "outlinewidth": 0,
            "ticks": ""
           }
          },
          "colorscale": {
           "diverging": [
            [
             0,
             "#8e0152"
            ],
            [
             0.1,
             "#c51b7d"
            ],
            [
             0.2,
             "#de77ae"
            ],
            [
             0.3,
             "#f1b6da"
            ],
            [
             0.4,
             "#fde0ef"
            ],
            [
             0.5,
             "#f7f7f7"
            ],
            [
             0.6,
             "#e6f5d0"
            ],
            [
             0.7,
             "#b8e186"
            ],
            [
             0.8,
             "#7fbc41"
            ],
            [
             0.9,
             "#4d9221"
            ],
            [
             1,
             "#276419"
            ]
           ],
           "sequential": [
            [
             0,
             "#0d0887"
            ],
            [
             0.1111111111111111,
             "#46039f"
            ],
            [
             0.2222222222222222,
             "#7201a8"
            ],
            [
             0.3333333333333333,
             "#9c179e"
            ],
            [
             0.4444444444444444,
             "#bd3786"
            ],
            [
             0.5555555555555556,
             "#d8576b"
            ],
            [
             0.6666666666666666,
             "#ed7953"
            ],
            [
             0.7777777777777778,
             "#fb9f3a"
            ],
            [
             0.8888888888888888,
             "#fdca26"
            ],
            [
             1,
             "#f0f921"
            ]
           ],
           "sequentialminus": [
            [
             0,
             "#0d0887"
            ],
            [
             0.1111111111111111,
             "#46039f"
            ],
            [
             0.2222222222222222,
             "#7201a8"
            ],
            [
             0.3333333333333333,
             "#9c179e"
            ],
            [
             0.4444444444444444,
             "#bd3786"
            ],
            [
             0.5555555555555556,
             "#d8576b"
            ],
            [
             0.6666666666666666,
             "#ed7953"
            ],
            [
             0.7777777777777778,
             "#fb9f3a"
            ],
            [
             0.8888888888888888,
             "#fdca26"
            ],
            [
             1,
             "#f0f921"
            ]
           ]
          },
          "colorway": [
           "#636efa",
           "#EF553B",
           "#00cc96",
           "#ab63fa",
           "#FFA15A",
           "#19d3f3",
           "#FF6692",
           "#B6E880",
           "#FF97FF",
           "#FECB52"
          ],
          "font": {
           "color": "#2a3f5f"
          },
          "geo": {
           "bgcolor": "white",
           "lakecolor": "white",
           "landcolor": "#E5ECF6",
           "showlakes": true,
           "showland": true,
           "subunitcolor": "white"
          },
          "hoverlabel": {
           "align": "left"
          },
          "hovermode": "closest",
          "mapbox": {
           "style": "light"
          },
          "paper_bgcolor": "white",
          "plot_bgcolor": "#E5ECF6",
          "polar": {
           "angularaxis": {
            "gridcolor": "white",
            "linecolor": "white",
            "ticks": ""
           },
           "bgcolor": "#E5ECF6",
           "radialaxis": {
            "gridcolor": "white",
            "linecolor": "white",
            "ticks": ""
           }
          },
          "scene": {
           "xaxis": {
            "backgroundcolor": "#E5ECF6",
            "gridcolor": "white",
            "gridwidth": 2,
            "linecolor": "white",
            "showbackground": true,
            "ticks": "",
            "zerolinecolor": "white"
           },
           "yaxis": {
            "backgroundcolor": "#E5ECF6",
            "gridcolor": "white",
            "gridwidth": 2,
            "linecolor": "white",
            "showbackground": true,
            "ticks": "",
            "zerolinecolor": "white"
           },
           "zaxis": {
            "backgroundcolor": "#E5ECF6",
            "gridcolor": "white",
            "gridwidth": 2,
            "linecolor": "white",
            "showbackground": true,
            "ticks": "",
            "zerolinecolor": "white"
           }
          },
          "shapedefaults": {
           "line": {
            "color": "#2a3f5f"
           }
          },
          "ternary": {
           "aaxis": {
            "gridcolor": "white",
            "linecolor": "white",
            "ticks": ""
           },
           "baxis": {
            "gridcolor": "white",
            "linecolor": "white",
            "ticks": ""
           },
           "bgcolor": "#E5ECF6",
           "caxis": {
            "gridcolor": "white",
            "linecolor": "white",
            "ticks": ""
           }
          },
          "title": {
           "x": 0.05
          },
          "xaxis": {
           "automargin": true,
           "gridcolor": "white",
           "linecolor": "white",
           "ticks": "",
           "title": {
            "standoff": 15
           },
           "zerolinecolor": "white",
           "zerolinewidth": 2
          },
          "yaxis": {
           "automargin": true,
           "gridcolor": "white",
           "linecolor": "white",
           "ticks": "",
           "title": {
            "standoff": 15
           },
           "zerolinecolor": "white",
           "zerolinewidth": 2
          }
         }
        },
        "width": 700
       }
      }
     },
     "metadata": {},
     "output_type": "display_data"
    }
   ],
   "source": [
    "indicator = widgets.SelectMultiple(\n",
    "    options = corr_df.columns.tolist(),\n",
    "    value = ['AgriShareGDP'],\n",
    "    description='Indicator',\n",
    "    disabled=False,\n",
    "    layout = Layout(width='50%', height='80px')\n",
    ")\n",
    "\n",
    "\n",
    "\n",
    "def globalGrapgh(indicator):\n",
    "    ind = indicator[0]\n",
    "    N = 10\n",
    "    fig = px.choropleth(corr_df, locations = corr_df.index, locationmode='country names', \n",
    "                        color= indicator[0],projection=\"natural earth\",\n",
    "                        color_continuous_scale='RdBu',\n",
    "                        width=700, height=500)\n",
    "\n",
    "    pos_corr = corr_df.drop(corr_df.columns.difference([ind]), axis = 1).sort_values(by = ind, axis = 0, ascending = False).head(n = N)\n",
    "    neg_corr = corr_df.drop(corr_df.columns.difference([ind]), axis = 1).sort_values(by = ind, axis = 0, ascending = True).head(n = N)\n",
    "\n",
    "    fig.update(layout_coloraxis_showscale=True)\n",
    "    fig.show()\n",
    "    \n",
    "\n",
    "    pos_styler = pos_corr.style.set_table_attributes(\"style='display:inline'\").set_caption('Direct correlation')\n",
    "    neg_styler = neg_corr.style.set_table_attributes(\"style='display:inline'\").set_caption('Inverse correlation')\n",
    "\n",
    "    space = \"\\xa0\" * 10\n",
    "    display_html(pos_styler._repr_html_()+ space  + neg_styler._repr_html_(), raw=True)\n",
    "\n",
    "\n",
    "widgets.interactive(globalGrapgh, indicator = indicator)"
   ]
  },
  {
   "cell_type": "markdown",
   "metadata": {},
   "source": [
    "## Country Indicators\n",
    "In this codeblock a widged is implmented to generate a table with the indicators. In order to make it work just select the country from the dropdown and procede to establasih the threshold. The default value for the threshold is 0.7, which we consider to be the minimum to consider an indicator correlated to the GDP. To analyze the results:\n",
    "- H0: the indicator and the GDP are uncorrelated.\n",
    "- H1: the indicator and the GDP are correlated.\n",
    "\n",
    "The p-value represents the probability that your data would have arisen if the null hypothesis were true. If it's higher than 0.05 then it has no statistical signifcance. If an indicator is lower than 0.05 it has no significance and would be painted the cell in red.\n",
    "\n",
    "If the both correlations are  >0.7 or <-0.7 and the p-values are < 0.05 then we have a high correlation that can be applied to the whole population.\n",
    "\n",
    "The code consists in a IppyWidget with a slider and a dropdown. Once this parameters have been set it calls the method 'search' and applies a style format of the returned Dataframe."
   ]
  },
  {
   "cell_type": "code",
   "execution_count": 5,
   "metadata": {},
   "outputs": [
    {
     "data": {
      "application/vnd.jupyter.widget-view+json": {
       "model_id": "075f548309aa49fe94e7376eb350ace1",
       "version_major": 2,
       "version_minor": 0
      },
      "text/plain": [
       "interactive(children=(Dropdown(description='Country', options=('Afghanistan', 'Albania', 'Algeria', 'Andorra',…"
      ]
     },
     "metadata": {},
     "output_type": "display_data"
    }
   ],
   "source": [
    "def tableOut(Threshold, Country):\n",
    "\n",
    "    df = search(Threshold, 'Country', Country)\n",
    "    if df.empty:\n",
    "        return print(\"No indicators have been found.\")\n",
    "\n",
    "    left = pd.Series([0.05, 0.05], index=['P-value Pearson', 'P-value Spearman'])\n",
    "    left2 = pd.Series([-1, -1], index=['GDP Pearson Corr', 'GDP Spearman Corr'])\n",
    "    left3 = pd.Series([0, 0], index=['GDP Pearson Corr', 'GDP Spearman Corr'])\n",
    "    df =df.style.highlight_between(left=left, right=1.5, axis=1, props='color:white; background-color:red;')\\\n",
    "        .highlight_between(left=left2, right=1.5, axis=1, props='color:white; background-color:#929bfc;')\\\n",
    "        .highlight_between(left=left3, right=1.5, axis=1, props='color:white; background-color:#b3b9ff;')\\\n",
    "        .format('{:,.4f}', subset = ['GDP Pearson Corr', 'GDP Spearman Corr'])\\\n",
    "        .format('{:,.12f}', subset = ['P-value Pearson', 'P-value Spearman']) \n",
    "    \n",
    "    display(df)\n",
    "\n",
    "    \n",
    "\n",
    "@interact(\n",
    "    Country = sorted(corr_df.index.tolist()),\n",
    "    Threshold = (0, 1, 0.05))\n",
    "def g(Country = 'Afghanistan', Threshold = 0.7):\n",
    "    return tableOut(Threshold,Country)\n",
    "\n",
    "    \n",
    "        "
   ]
  },
  {
   "cell_type": "markdown",
   "metadata": {},
   "source": [
    "## Region Indicators\n",
    "It's almost the same codeblock as before, but for the regions. The groups have been formed according to the Dataframe of World Data Bank.\n"
   ]
  },
  {
   "cell_type": "code",
   "execution_count": 6,
   "metadata": {},
   "outputs": [
    {
     "data": {
      "application/vnd.jupyter.widget-view+json": {
       "model_id": "c7331f8597fb44539f6d67cef9ee8635",
       "version_major": 2,
       "version_minor": 0
      },
      "text/plain": [
       "interactive(children=(Dropdown(description='Region', options=('East Asia and Pacific', 'South Asia', 'Middle E…"
      ]
     },
     "metadata": {},
     "output_type": "display_data"
    }
   ],
   "source": [
    "def tableOut2(Threshold, Region):\n",
    "\n",
    "    df = search(Threshold, 'Region', Region)\n",
    "    if df.empty:\n",
    "        return print(\"No indicators have been found.\")\n",
    "\n",
    "    left = pd.Series([0.05, 0.05], index=['P-value Pearson', 'P-value Spearman'])\n",
    "    left2 = pd.Series([-1, -1], index=['GDP Pearson Corr', 'GDP Spearman Corr'])\n",
    "    left3 = pd.Series([0, 0], index=['GDP Pearson Corr', 'GDP Spearman Corr'])\n",
    "    df = df.style.highlight_between(left=left, right=1.5, axis=1, props='color:white; background-color:red;')\\\n",
    "        .highlight_between(left=left2, right=1.5, axis=1, props='color:white; background-color:#929bfc;')\\\n",
    "        .highlight_between(left=left3, right=1.5, axis=1, props='color:white; background-color:#b3b9ff;')\\\n",
    "        .format('{:,.4f}', subset = ['GDP Pearson Corr', 'GDP Spearman Corr'])\\\n",
    "        .format('{:,.12f}', subset = ['P-value Pearson', 'P-value Spearman']) \n",
    "    \n",
    "    display(df)\n",
    "\n",
    "\n",
    "\n",
    "@interact(\n",
    "    Region = set(df['Region'].to_list()),\n",
    "    Threshold = (0, 1, 0.05))\n",
    "def g(Region = 'East Asia and Pacific', Threshold = 0.7):\n",
    "    return tableOut2(Threshold, Region)\n",
    "\n",
    "    "
   ]
  },
  {
   "cell_type": "markdown",
   "metadata": {},
   "source": [
    "## Global Indicators\n",
    "This section reperesents the final analysis of the indicators. It shows in the indicators table with the highest correlations. With this results we can give an answer to the hypothesis of the project and establish the indicators with a high GDP relation."
   ]
  },
  {
   "cell_type": "code",
   "execution_count": 10,
   "metadata": {},
   "outputs": [
    {
     "data": {
      "application/vnd.jupyter.widget-view+json": {
       "model_id": "a45ed8fad69d464dbd4c93a2213d6152",
       "version_major": 2,
       "version_minor": 0
      },
      "text/plain": [
       "interactive(children=(FloatSlider(value=0.7, description='Threshold', max=1.0, step=0.05), Output()), _dom_cla…"
      ]
     },
     "metadata": {},
     "output_type": "display_data"
    }
   ],
   "source": [
    "def tableOut3(Threshold):\n",
    "\n",
    "    df = search(Threshold, 'Global')\n",
    "    if df.empty:\n",
    "        return print(\"No indicators have been found.\")\n",
    "\n",
    "    left = pd.Series([0.05, 0.05], index=['P-value Pearson', 'P-value Spearman'])\n",
    "    left2 = pd.Series([-1, -1], index=['GDP Pearson Corr', 'GDP Spearman Corr'])\n",
    "    left3 = pd.Series([0, 0], index=['GDP Pearson Corr', 'GDP Spearman Corr'])\n",
    "    df =df.style.highlight_between(left=left, right=1.5, axis=1, props='color:white; background-color:red;')\\\n",
    "        .highlight_between(left=left2, right=1.5, axis=1, props='color:white; background-color:#929bfc;')\\\n",
    "        .highlight_between(left=left3, right=1.5, axis=1, props='color:white; background-color:#b3b9ff;')\\\n",
    "        .format('{:,.4f}', subset = ['GDP Pearson Corr', 'GDP Spearman Corr'])\\\n",
    "        .format('{:,.12f}', subset = ['P-value Pearson', 'P-value Spearman']) \n",
    "    \n",
    "    display(df)\n",
    "\n",
    "\n",
    "\n",
    "@interact(\n",
    "    Threshold = (0, 1, 0.05))\n",
    "def g(Threshold = 0.7):\n",
    "    return tableOut3(Threshold)\n"
   ]
  },
  {
   "cell_type": "markdown",
   "metadata": {},
   "source": [
    "## Median Global Indicators\n",
    "Reading the corr_df generated at the beggining of this notebook it calculates the median of each column. This approximation is very simple and might give an idea if the aggregation method is correct. Obviously the result won't be the same but the tendency has to be similar.\n",
    "\n",
    "Having this in mind for each column in the corr_df import the name of the indicator and compute the median. Save this new dataframe in result_df."
   ]
  },
  {
   "cell_type": "code",
   "execution_count": 8,
   "metadata": {},
   "outputs": [],
   "source": [
    "result_df = pd.DataFrame()\n",
    "for column in corr_df.columns:\n",
    "    aux = pd.DataFrame({'Indicator': [column],\n",
    "                        'GDP Pearson Corr': [corr_df[column].median()]})\n",
    "    result_df = pd.concat([result_df, aux], ignore_index=False, axis = 0)\n",
    "    result_df = result_df.sort_values(by=[\"GDP Pearson Corr\"], ascending = False)\n",
    "    \n",
    "\n",
    "result_df.set_index(['Indicator'], inplace=True)"
   ]
  },
  {
   "cell_type": "markdown",
   "metadata": {},
   "source": [
    "Using a IppyWidget display the previously generated result_df. Lowering the Threshold more than 0.7 will show indicators that don't have a real correlation with the GDP, procede with caution extracting conclusions of them."
   ]
  },
  {
   "cell_type": "code",
   "execution_count": 9,
   "metadata": {},
   "outputs": [
    {
     "data": {
      "application/vnd.jupyter.widget-view+json": {
       "model_id": "531599f3dfc949dbb918a91f592a4c5e",
       "version_major": 2,
       "version_minor": 0
      },
      "text/plain": [
       "interactive(children=(FloatSlider(value=0.7, description='Threshold', max=1.0, step=0.05), Output()), _dom_cla…"
      ]
     },
     "metadata": {},
     "output_type": "display_data"
    }
   ],
   "source": [
    "def tableOutMedian(Threshold):\n",
    "    df = pd.concat([result_df.loc[result_df['GDP Pearson Corr'] >= Threshold], result_df.loc[result_df['GDP Pearson Corr'] <= -Threshold]], axis = 0)\n",
    "\n",
    "    left2 = pd.Series([-1], index=['GDP Pearson Corr'])\n",
    "    left3 = pd.Series([0], index=['GDP Pearson Corr'])\n",
    "    df = df.style.highlight_between(left=left2, right=1.5, axis=1, props='color:white; background-color:#929bfc;')\\\n",
    "        .highlight_between(left=left3, right=1.5, axis=1, props='color:white; background-color:#b3b9ff;')\\\n",
    "        .format('{:,.4f}', subset = ['GDP Pearson Corr'])\n",
    "    display(df)\n",
    "\n",
    "\n",
    "\n",
    "@interact(\n",
    "    Threshold = (0, 1, 0.05))\n",
    "def g(Threshold = 0.7):\n",
    "    return tableOutMedian(Threshold)"
   ]
  }
 ],
 "metadata": {
  "kernelspec": {
   "display_name": "Python 3.10.5 ('.venv': poetry)",
   "language": "python",
   "name": "python3"
  },
  "language_info": {
   "codemirror_mode": {
    "name": "ipython",
    "version": 3
   },
   "file_extension": ".py",
   "mimetype": "text/x-python",
   "name": "python",
   "nbconvert_exporter": "python",
   "pygments_lexer": "ipython3",
   "version": "3.10.5"
  },
  "orig_nbformat": 4,
  "vscode": {
   "interpreter": {
    "hash": "44718ba4235bc6fc2135f9d8856f170c8312ddd29b08710a5ea28d42169e623e"
   }
  }
 },
 "nbformat": 4,
 "nbformat_minor": 2
}
