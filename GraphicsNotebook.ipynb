{
 "cells": [
  {
   "cell_type": "markdown",
   "metadata": {},
   "source": [
    "# Visualize Notebook\n",
    "In this notebook the Gold Dataframe will be read and extract information of it. The objective is to see the correlations between the variables and the GDP and also what countries have the highest correlation value.\n"
   ]
  },
  {
   "cell_type": "markdown",
   "metadata": {},
   "source": [
    "## Imports\n",
    "Start importing all the libraries and also the methods of pvalue and search indicators that will be used later in the notebook."
   ]
  },
  {
   "cell_type": "code",
   "execution_count": 1,
   "metadata": {},
   "outputs": [],
   "source": [
    "import pandas as pd\n",
    "import matplotlib.pyplot as plt\n",
    "import numpy as np\n",
    "from scipy import stats\n",
    "from scipy.stats import shapiro\n",
    "import os\n",
    "import statistics\n",
    "import seaborn as sns\n",
    "from scipy.stats import norm\n",
    "\n",
    "import ipywidgets as widgets\n",
    "from ipywidgets import Layout\n",
    "from ipywidgets import interact, interact_manual\n",
    "from Project.Utils.visualize import  search\n"
   ]
  },
  {
   "cell_type": "markdown",
   "metadata": {},
   "source": [
    "## Correlation dataframe.\n",
    "This dataframe is the main piece of the notebook. Consists in generating for every country the correlation matrix for it and saving only the correlation value of the different variables with the GDP. Later on is concatenated and generates the following result:"
   ]
  },
  {
   "cell_type": "code",
   "execution_count": 2,
   "metadata": {},
   "outputs": [
    {
     "data": {
      "text/html": [
       "<div>\n",
       "<style scoped>\n",
       "    .dataframe tbody tr th:only-of-type {\n",
       "        vertical-align: middle;\n",
       "    }\n",
       "\n",
       "    .dataframe tbody tr th {\n",
       "        vertical-align: top;\n",
       "    }\n",
       "\n",
       "    .dataframe thead th {\n",
       "        text-align: right;\n",
       "    }\n",
       "</style>\n",
       "<table border=\"1\" class=\"dataframe\">\n",
       "  <thead>\n",
       "    <tr style=\"text-align: right;\">\n",
       "      <th></th>\n",
       "      <th>AgriShareGDP</th>\n",
       "      <th>CreditToAgriFishForest</th>\n",
       "      <th>EmploymentRural</th>\n",
       "      <th>TotalAgri</th>\n",
       "      <th>% Soldiers</th>\n",
       "      <th>Birth Rate</th>\n",
       "      <th>Death Rate</th>\n",
       "      <th>Homicides</th>\n",
       "      <th>Life Expectancy</th>\n",
       "      <th>Maternal Death Risk</th>\n",
       "      <th>...</th>\n",
       "      <th>% Population Growth</th>\n",
       "      <th>% Rural Population</th>\n",
       "      <th>Civil Liberties</th>\n",
       "      <th>Freedom of Expression</th>\n",
       "      <th>% Healthcare Investment</th>\n",
       "      <th>% Employment Industry</th>\n",
       "      <th>% Education Expenditure</th>\n",
       "      <th>% Men Employment</th>\n",
       "      <th>% Women Employment</th>\n",
       "      <th>Population</th>\n",
       "    </tr>\n",
       "  </thead>\n",
       "  <tbody>\n",
       "    <tr>\n",
       "      <th>Guatemala</th>\n",
       "      <td>-0.910784</td>\n",
       "      <td>-0.330781</td>\n",
       "      <td>NaN</td>\n",
       "      <td>NaN</td>\n",
       "      <td>-0.780193</td>\n",
       "      <td>-0.958764</td>\n",
       "      <td>-0.948101</td>\n",
       "      <td>-0.493473</td>\n",
       "      <td>0.988392</td>\n",
       "      <td>-0.965211</td>\n",
       "      <td>...</td>\n",
       "      <td>-0.953367</td>\n",
       "      <td>-0.993836</td>\n",
       "      <td>0.755812</td>\n",
       "      <td>0.093338</td>\n",
       "      <td>0.800016</td>\n",
       "      <td>-0.824666</td>\n",
       "      <td>NaN</td>\n",
       "      <td>NaN</td>\n",
       "      <td>NaN</td>\n",
       "      <td>0.994983</td>\n",
       "    </tr>\n",
       "    <tr>\n",
       "      <th>Guinea</th>\n",
       "      <td>0.498159</td>\n",
       "      <td>NaN</td>\n",
       "      <td>NaN</td>\n",
       "      <td>0.174019</td>\n",
       "      <td>-0.694951</td>\n",
       "      <td>-0.939092</td>\n",
       "      <td>-0.914487</td>\n",
       "      <td>NaN</td>\n",
       "      <td>0.935467</td>\n",
       "      <td>-0.879412</td>\n",
       "      <td>...</td>\n",
       "      <td>0.907336</td>\n",
       "      <td>-0.954342</td>\n",
       "      <td>0.293413</td>\n",
       "      <td>0.625618</td>\n",
       "      <td>0.694268</td>\n",
       "      <td>0.873440</td>\n",
       "      <td>0.419932</td>\n",
       "      <td>NaN</td>\n",
       "      <td>NaN</td>\n",
       "      <td>0.968902</td>\n",
       "    </tr>\n",
       "    <tr>\n",
       "      <th>Honduras</th>\n",
       "      <td>-0.162653</td>\n",
       "      <td>NaN</td>\n",
       "      <td>NaN</td>\n",
       "      <td>0.825982</td>\n",
       "      <td>-0.678494</td>\n",
       "      <td>-0.973299</td>\n",
       "      <td>-0.903542</td>\n",
       "      <td>0.002044</td>\n",
       "      <td>0.991914</td>\n",
       "      <td>-0.967663</td>\n",
       "      <td>...</td>\n",
       "      <td>-0.984283</td>\n",
       "      <td>-0.993126</td>\n",
       "      <td>-0.441828</td>\n",
       "      <td>-0.770195</td>\n",
       "      <td>-0.008528</td>\n",
       "      <td>0.125164</td>\n",
       "      <td>NaN</td>\n",
       "      <td>NaN</td>\n",
       "      <td>NaN</td>\n",
       "      <td>0.991977</td>\n",
       "    </tr>\n",
       "    <tr>\n",
       "      <th>Nicaragua</th>\n",
       "      <td>-0.314105</td>\n",
       "      <td>-0.827828</td>\n",
       "      <td>NaN</td>\n",
       "      <td>0.976583</td>\n",
       "      <td>-0.920160</td>\n",
       "      <td>-0.960346</td>\n",
       "      <td>-0.720096</td>\n",
       "      <td>-0.700032</td>\n",
       "      <td>0.970542</td>\n",
       "      <td>-0.926781</td>\n",
       "      <td>...</td>\n",
       "      <td>-0.891714</td>\n",
       "      <td>-0.970781</td>\n",
       "      <td>-0.608949</td>\n",
       "      <td>-0.912412</td>\n",
       "      <td>0.931079</td>\n",
       "      <td>-0.849290</td>\n",
       "      <td>NaN</td>\n",
       "      <td>NaN</td>\n",
       "      <td>NaN</td>\n",
       "      <td>0.973662</td>\n",
       "    </tr>\n",
       "    <tr>\n",
       "      <th>Saint Lucia</th>\n",
       "      <td>-0.843703</td>\n",
       "      <td>-0.909062</td>\n",
       "      <td>NaN</td>\n",
       "      <td>0.796964</td>\n",
       "      <td>NaN</td>\n",
       "      <td>NaN</td>\n",
       "      <td>NaN</td>\n",
       "      <td>NaN</td>\n",
       "      <td>NaN</td>\n",
       "      <td>NaN</td>\n",
       "      <td>...</td>\n",
       "      <td>NaN</td>\n",
       "      <td>NaN</td>\n",
       "      <td>NaN</td>\n",
       "      <td>NaN</td>\n",
       "      <td>0.522356</td>\n",
       "      <td>-0.545707</td>\n",
       "      <td>NaN</td>\n",
       "      <td>NaN</td>\n",
       "      <td>NaN</td>\n",
       "      <td>0.957435</td>\n",
       "    </tr>\n",
       "    <tr>\n",
       "      <th>...</th>\n",
       "      <td>...</td>\n",
       "      <td>...</td>\n",
       "      <td>...</td>\n",
       "      <td>...</td>\n",
       "      <td>...</td>\n",
       "      <td>...</td>\n",
       "      <td>...</td>\n",
       "      <td>...</td>\n",
       "      <td>...</td>\n",
       "      <td>...</td>\n",
       "      <td>...</td>\n",
       "      <td>...</td>\n",
       "      <td>...</td>\n",
       "      <td>...</td>\n",
       "      <td>...</td>\n",
       "      <td>...</td>\n",
       "      <td>...</td>\n",
       "      <td>...</td>\n",
       "      <td>...</td>\n",
       "      <td>...</td>\n",
       "      <td>...</td>\n",
       "    </tr>\n",
       "    <tr>\n",
       "      <th>Niger</th>\n",
       "      <td>-0.440685</td>\n",
       "      <td>-0.259552</td>\n",
       "      <td>NaN</td>\n",
       "      <td>0.990417</td>\n",
       "      <td>-0.953210</td>\n",
       "      <td>-0.989109</td>\n",
       "      <td>-0.983832</td>\n",
       "      <td>NaN</td>\n",
       "      <td>0.988585</td>\n",
       "      <td>-0.979136</td>\n",
       "      <td>...</td>\n",
       "      <td>0.756457</td>\n",
       "      <td>-0.632398</td>\n",
       "      <td>0.307843</td>\n",
       "      <td>0.756975</td>\n",
       "      <td>-0.241000</td>\n",
       "      <td>0.919169</td>\n",
       "      <td>0.154794</td>\n",
       "      <td>NaN</td>\n",
       "      <td>NaN</td>\n",
       "      <td>0.984857</td>\n",
       "    </tr>\n",
       "    <tr>\n",
       "      <th>Sao Tome and Principe</th>\n",
       "      <td>-0.729275</td>\n",
       "      <td>NaN</td>\n",
       "      <td>NaN</td>\n",
       "      <td>NaN</td>\n",
       "      <td>NaN</td>\n",
       "      <td>-0.990529</td>\n",
       "      <td>-0.915989</td>\n",
       "      <td>NaN</td>\n",
       "      <td>0.947938</td>\n",
       "      <td>-0.938216</td>\n",
       "      <td>...</td>\n",
       "      <td>-0.299480</td>\n",
       "      <td>-0.975995</td>\n",
       "      <td>0.923671</td>\n",
       "      <td>0.603643</td>\n",
       "      <td>-0.085872</td>\n",
       "      <td>-0.876400</td>\n",
       "      <td>0.688839</td>\n",
       "      <td>NaN</td>\n",
       "      <td>NaN</td>\n",
       "      <td>0.985990</td>\n",
       "    </tr>\n",
       "    <tr>\n",
       "      <th>Lithuania</th>\n",
       "      <td>-0.835335</td>\n",
       "      <td>NaN</td>\n",
       "      <td>-0.788530</td>\n",
       "      <td>0.912241</td>\n",
       "      <td>0.706347</td>\n",
       "      <td>0.574701</td>\n",
       "      <td>0.867250</td>\n",
       "      <td>-0.837935</td>\n",
       "      <td>0.746119</td>\n",
       "      <td>-0.812293</td>\n",
       "      <td>...</td>\n",
       "      <td>0.071064</td>\n",
       "      <td>-0.633390</td>\n",
       "      <td>0.197869</td>\n",
       "      <td>0.077926</td>\n",
       "      <td>0.350933</td>\n",
       "      <td>-0.447208</td>\n",
       "      <td>-0.940626</td>\n",
       "      <td>0.331796</td>\n",
       "      <td>0.637510</td>\n",
       "      <td>-0.922340</td>\n",
       "    </tr>\n",
       "    <tr>\n",
       "      <th>Greece</th>\n",
       "      <td>-0.854153</td>\n",
       "      <td>0.114222</td>\n",
       "      <td>0.408677</td>\n",
       "      <td>0.862916</td>\n",
       "      <td>-0.425234</td>\n",
       "      <td>0.588829</td>\n",
       "      <td>-0.253547</td>\n",
       "      <td>0.524593</td>\n",
       "      <td>0.171029</td>\n",
       "      <td>0.428454</td>\n",
       "      <td>...</td>\n",
       "      <td>0.048550</td>\n",
       "      <td>-0.072185</td>\n",
       "      <td>0.292634</td>\n",
       "      <td>0.380068</td>\n",
       "      <td>0.513542</td>\n",
       "      <td>0.163758</td>\n",
       "      <td>NaN</td>\n",
       "      <td>0.236961</td>\n",
       "      <td>0.633141</td>\n",
       "      <td>0.155726</td>\n",
       "    </tr>\n",
       "    <tr>\n",
       "      <th>Rwanda</th>\n",
       "      <td>-0.820315</td>\n",
       "      <td>0.067505</td>\n",
       "      <td>NaN</td>\n",
       "      <td>0.799748</td>\n",
       "      <td>-0.842532</td>\n",
       "      <td>-0.987402</td>\n",
       "      <td>-0.976173</td>\n",
       "      <td>NaN</td>\n",
       "      <td>0.975683</td>\n",
       "      <td>-0.900569</td>\n",
       "      <td>...</td>\n",
       "      <td>0.632970</td>\n",
       "      <td>-0.825151</td>\n",
       "      <td>-0.565997</td>\n",
       "      <td>0.350529</td>\n",
       "      <td>0.347427</td>\n",
       "      <td>0.980807</td>\n",
       "      <td>NaN</td>\n",
       "      <td>NaN</td>\n",
       "      <td>NaN</td>\n",
       "      <td>0.983200</td>\n",
       "    </tr>\n",
       "  </tbody>\n",
       "</table>\n",
       "<p>179 rows × 21 columns</p>\n",
       "</div>"
      ],
      "text/plain": [
       "                       AgriShareGDP  CreditToAgriFishForest  EmploymentRural  \\\n",
       "Guatemala                 -0.910784               -0.330781              NaN   \n",
       "Guinea                     0.498159                     NaN              NaN   \n",
       "Honduras                  -0.162653                     NaN              NaN   \n",
       "Nicaragua                 -0.314105               -0.827828              NaN   \n",
       "Saint Lucia               -0.843703               -0.909062              NaN   \n",
       "...                             ...                     ...              ...   \n",
       "Niger                     -0.440685               -0.259552              NaN   \n",
       "Sao Tome and Principe     -0.729275                     NaN              NaN   \n",
       "Lithuania                 -0.835335                     NaN        -0.788530   \n",
       "Greece                    -0.854153                0.114222         0.408677   \n",
       "Rwanda                    -0.820315                0.067505              NaN   \n",
       "\n",
       "                       TotalAgri  % Soldiers  Birth Rate  Death Rate  \\\n",
       "Guatemala                    NaN   -0.780193   -0.958764   -0.948101   \n",
       "Guinea                  0.174019   -0.694951   -0.939092   -0.914487   \n",
       "Honduras                0.825982   -0.678494   -0.973299   -0.903542   \n",
       "Nicaragua               0.976583   -0.920160   -0.960346   -0.720096   \n",
       "Saint Lucia             0.796964         NaN         NaN         NaN   \n",
       "...                          ...         ...         ...         ...   \n",
       "Niger                   0.990417   -0.953210   -0.989109   -0.983832   \n",
       "Sao Tome and Principe        NaN         NaN   -0.990529   -0.915989   \n",
       "Lithuania               0.912241    0.706347    0.574701    0.867250   \n",
       "Greece                  0.862916   -0.425234    0.588829   -0.253547   \n",
       "Rwanda                  0.799748   -0.842532   -0.987402   -0.976173   \n",
       "\n",
       "                       Homicides  Life Expectancy  Maternal Death Risk  ...  \\\n",
       "Guatemala              -0.493473         0.988392            -0.965211  ...   \n",
       "Guinea                       NaN         0.935467            -0.879412  ...   \n",
       "Honduras                0.002044         0.991914            -0.967663  ...   \n",
       "Nicaragua              -0.700032         0.970542            -0.926781  ...   \n",
       "Saint Lucia                  NaN              NaN                  NaN  ...   \n",
       "...                          ...              ...                  ...  ...   \n",
       "Niger                        NaN         0.988585            -0.979136  ...   \n",
       "Sao Tome and Principe        NaN         0.947938            -0.938216  ...   \n",
       "Lithuania              -0.837935         0.746119            -0.812293  ...   \n",
       "Greece                  0.524593         0.171029             0.428454  ...   \n",
       "Rwanda                       NaN         0.975683            -0.900569  ...   \n",
       "\n",
       "                       % Population Growth  % Rural Population  \\\n",
       "Guatemala                        -0.953367           -0.993836   \n",
       "Guinea                            0.907336           -0.954342   \n",
       "Honduras                         -0.984283           -0.993126   \n",
       "Nicaragua                        -0.891714           -0.970781   \n",
       "Saint Lucia                            NaN                 NaN   \n",
       "...                                    ...                 ...   \n",
       "Niger                             0.756457           -0.632398   \n",
       "Sao Tome and Principe            -0.299480           -0.975995   \n",
       "Lithuania                         0.071064           -0.633390   \n",
       "Greece                            0.048550           -0.072185   \n",
       "Rwanda                            0.632970           -0.825151   \n",
       "\n",
       "                       Civil Liberties  Freedom of Expression  \\\n",
       "Guatemala                     0.755812               0.093338   \n",
       "Guinea                        0.293413               0.625618   \n",
       "Honduras                     -0.441828              -0.770195   \n",
       "Nicaragua                    -0.608949              -0.912412   \n",
       "Saint Lucia                        NaN                    NaN   \n",
       "...                                ...                    ...   \n",
       "Niger                         0.307843               0.756975   \n",
       "Sao Tome and Principe         0.923671               0.603643   \n",
       "Lithuania                     0.197869               0.077926   \n",
       "Greece                        0.292634               0.380068   \n",
       "Rwanda                       -0.565997               0.350529   \n",
       "\n",
       "                       % Healthcare Investment  % Employment Industry  \\\n",
       "Guatemala                             0.800016              -0.824666   \n",
       "Guinea                                0.694268               0.873440   \n",
       "Honduras                             -0.008528               0.125164   \n",
       "Nicaragua                             0.931079              -0.849290   \n",
       "Saint Lucia                           0.522356              -0.545707   \n",
       "...                                        ...                    ...   \n",
       "Niger                                -0.241000               0.919169   \n",
       "Sao Tome and Principe                -0.085872              -0.876400   \n",
       "Lithuania                             0.350933              -0.447208   \n",
       "Greece                                0.513542               0.163758   \n",
       "Rwanda                                0.347427               0.980807   \n",
       "\n",
       "                       % Education Expenditure  % Men Employment  \\\n",
       "Guatemala                                  NaN               NaN   \n",
       "Guinea                                0.419932               NaN   \n",
       "Honduras                                   NaN               NaN   \n",
       "Nicaragua                                  NaN               NaN   \n",
       "Saint Lucia                                NaN               NaN   \n",
       "...                                        ...               ...   \n",
       "Niger                                 0.154794               NaN   \n",
       "Sao Tome and Principe                 0.688839               NaN   \n",
       "Lithuania                            -0.940626          0.331796   \n",
       "Greece                                     NaN          0.236961   \n",
       "Rwanda                                     NaN               NaN   \n",
       "\n",
       "                       % Women Employment  Population  \n",
       "Guatemala                             NaN    0.994983  \n",
       "Guinea                                NaN    0.968902  \n",
       "Honduras                              NaN    0.991977  \n",
       "Nicaragua                             NaN    0.973662  \n",
       "Saint Lucia                           NaN    0.957435  \n",
       "...                                   ...         ...  \n",
       "Niger                                 NaN    0.984857  \n",
       "Sao Tome and Principe                 NaN    0.985990  \n",
       "Lithuania                        0.637510   -0.922340  \n",
       "Greece                           0.633141    0.155726  \n",
       "Rwanda                                NaN    0.983200  \n",
       "\n",
       "[179 rows x 21 columns]"
      ]
     },
     "execution_count": 2,
     "metadata": {},
     "output_type": "execute_result"
    }
   ],
   "source": [
    "#One dataframe per country\n",
    "\n",
    "df= pd.read_csv (os.getcwd()+'/Output/GoldDataframe.csv')\n",
    "corr_df = pd.DataFrame()\n",
    "corr_df.index.names = ['Country']\n",
    "aux_df = pd.DataFrame()\n",
    "\n",
    "#List all the countries, none repeated\n",
    "countries = set(df['Country'].to_list())\n",
    "\n",
    "country_dict = {}\n",
    "corr_dict = {}\n",
    "\n",
    "for country in countries:\n",
    "\n",
    "    #Get the DataFrame for a given country\n",
    "    country_df = df.loc[df['Country'] == country]\n",
    "\n",
    "    #Correlation matrix for that country\n",
    "    country_corr_df = country_df.corr()\n",
    "\n",
    "    #Trim it into a single row\n",
    "    country_corr_df = country_corr_df.rename(columns = {'GDP': country}).drop(index = ['Year', 'GDP'])\n",
    "\n",
    "    #Add the row to a new DataFrame with the correlations for each country\n",
    "    corr_df = pd.concat([corr_df, country_corr_df[country]], axis = 1)\n",
    "\n",
    "#Transpose the resulting DataFrame to have the desired format and show it\n",
    "corr_df = corr_df.transpose()\n",
    "corr_df\n"
   ]
  },
  {
   "cell_type": "code",
   "execution_count": 3,
   "metadata": {},
   "outputs": [
    {
     "data": {
      "application/vnd.jupyter.widget-view+json": {
       "model_id": "bb0cf911c467465b8802ec63d653ade2",
       "version_major": 2,
       "version_minor": 0
      },
      "text/plain": [
       "interactive(children=(SelectMultiple(description='Indicator', index=(0,), layout=Layout(height='80px', width='…"
      ]
     },
     "metadata": {},
     "output_type": "display_data"
    },
    {
     "data": {
      "application/vnd.plotly.v1+json": {
       "config": {
        "plotlyServerURL": "https://plot.ly"
       },
       "data": [
        {
         "coloraxis": "coloraxis",
         "geo": "geo",
         "hovertemplate": "index=%{location}<br>AgriShareGDP=%{z}<extra></extra>",
         "locationmode": "country names",
         "locations": [
          "Guatemala",
          "Guinea",
          "Honduras",
          "Nicaragua",
          "Saint Lucia",
          "Maldives",
          "Antigua and Barbuda",
          "Burundi",
          "Vanuatu",
          "Kuwait",
          "Palau",
          "Tuvalu",
          "Marshall Islands",
          "Papua New Guinea",
          "Gambia",
          "Congo",
          "Philippines",
          "Latvia",
          "Sweden",
          "Malawi",
          "Colombia",
          "Portugal",
          "Slovenia",
          "Lebanon",
          "Eritrea",
          "Qatar",
          "Croatia",
          "Montenegro",
          "Ethiopia",
          "Cayman Islands",
          "Fiji",
          "Nauru",
          "Ecuador",
          "Namibia",
          "Bosnia and Herzegovina",
          "China",
          "North Macedonia",
          "Djibouti",
          "Cambodia",
          "Mauritania",
          "Bahrain",
          "Guinea-Bissau",
          "India",
          "Jordan",
          "Greenland",
          "Cameroon",
          "Dominica",
          "Yemen",
          "Czechia",
          "Italy",
          "Nigeria",
          "Aruba",
          "Israel",
          "Tajikistan",
          "French Polynesia",
          "Togo",
          "Tunisia",
          "United Arab Emirates",
          "Costa Rica",
          "Myanmar",
          "Samoa",
          "Austria",
          "San Marino",
          "Sierra Leone",
          "Paraguay",
          "Zambia",
          "Bangladesh",
          "Singapore",
          "France",
          "Equatorial Guinea",
          "Belize",
          "Barbados",
          "Jamaica",
          "Kyrgyzstan",
          "Afghanistan",
          "Chile",
          "Canada",
          "Somalia",
          "United Kingdom",
          "Kenya",
          "Uruguay",
          "Ukraine",
          "Liberia",
          "Cuba",
          "Belarus",
          "Zimbabwe",
          "Uganda",
          "Russia",
          "Kiribati",
          "Haiti",
          "Suriname",
          "New Zealand",
          "Gabon",
          "Eswatini",
          "Estonia",
          "Dominican Republic",
          "Mozambique",
          "Denmark",
          "Solomon Islands",
          "Turkmenistan",
          "Tonga",
          "Luxembourg",
          "Ireland",
          "Kazakhstan",
          "Slovakia",
          "South Sudan",
          "Azerbaijan",
          "Central African Republic",
          "El Salvador",
          "Seychelles",
          "Sudan",
          "Spain",
          "Chad",
          "Comoros",
          "Peru",
          "Switzerland",
          "Albania",
          "Trinidad and Tobago",
          "Benin",
          "Armenia",
          "Senegal",
          "Bhutan",
          "Malaysia",
          "Guyana",
          "Oman",
          "Netherlands",
          "Libya",
          "United States",
          "Japan",
          "Mali",
          "Belgium",
          "Andorra",
          "Madagascar",
          "Mongolia",
          "Saudi Arabia",
          "Sri Lanka",
          "Grenada",
          "Thailand",
          "Bulgaria",
          "New Caledonia",
          "Argentina",
          "Cyprus",
          "Panama",
          "Burkina Faso",
          "Malta",
          "Mauritius",
          "Morocco",
          "Poland",
          "Algeria",
          "Uzbekistan",
          "Hungary",
          "Liechtenstein",
          "South Africa",
          "Egypt",
          "Bermuda",
          "Iraq",
          "Iceland",
          "Germany",
          "Lesotho",
          "Finland",
          "Indonesia",
          "Ghana",
          "Norway",
          "Romania",
          "Georgia",
          "Mexico",
          "Australia",
          "Brazil",
          "Angola",
          "Nepal",
          "Botswana",
          "Puerto Rico",
          "Serbia",
          "Pakistan",
          "Niger",
          "Sao Tome and Principe",
          "Lithuania",
          "Greece",
          "Rwanda"
         ],
         "name": "",
         "type": "choropleth",
         "z": [
          -0.910783581293827,
          0.4981590975526931,
          -0.16265315958888382,
          -0.3141050792765419,
          -0.8437032161877829,
          -0.35871070546205086,
          0.1240682496625928,
          -0.3496495655232733,
          -0.18856175434640862,
          -0.216973472969378,
          -0.9558679200949804,
          0.2001302170135677,
          0.7356448962507441,
          -0.9062326254496571,
          -0.5040785343058328,
          -0.6362752332249866,
          -0.8991487437017284,
          -0.7708455187171825,
          -0.6939308578106985,
          -0.839805329038585,
          -0.9287236078660797,
          -0.9370489810725439,
          -0.8631718214807295,
          -0.503101313242976,
          0.08233872730476581,
          -0.5437859823468949,
          -0.713594624166334,
          -0.9250468161036534,
          -0.7427944720312178,
          0.8329453438889185,
          -0.42454006505696285,
          -0.9432697722260653,
          -0.7215009939786482,
          -0.7955630866641139,
          -0.890388711927548,
          null,
          -0.4533358395612625,
          -0.9037244864916116,
          -0.8189385846768551,
          -0.6962296775129467,
          -0.7800474945395834,
          0.41629981975830316,
          -0.700649507092263,
          0.9292437594281578,
          0.015425452701193196,
          -0.18613061166870498,
          0.6771268988188248,
          0.07771098793417787,
          -0.6222328038675436,
          -0.8820808398131004,
          -0.7416626489049046,
          0.3741649727817593,
          -0.7777787590746487,
          -0.11816046448941489,
          -0.833534845066142,
          -0.8234424931464022,
          -0.11240984433863804,
          -0.9279434164823261,
          -0.9836031733548807,
          -0.9678699960054002,
          -0.9520872058064423,
          -0.8285363932508436,
          0.06584950093930352,
          0.6343035981396866,
          0.12020046388224769,
          -0.8459189655045559,
          -0.9076013100731348,
          -0.8927550621050807,
          -0.8641423065584387,
          -0.8486192959235674,
          -0.6064329687837003,
          -0.8935594731221601,
          0.3936404788192563,
          -0.8310736040825246,
          -0.8702332125359779,
          -0.8374628674303137,
          -0.6032401543385976,
          -0.08070561376728035,
          -0.716390085534926,
          0.929395604705077,
          -0.5769315589389916,
          -0.7796743745253912,
          -0.19164420133785307,
          -0.7411778615096978,
          -0.7406875567638112,
          -0.674981469076645,
          -0.5524986567664869,
          -0.9306417343797083,
          0.6441786963795697,
          -0.5119431587894402,
          -0.8018750496047906,
          -0.3901300466124,
          -0.7019760365914864,
          -0.8020291724807224,
          -0.630469765190067,
          -0.8988548560906199,
          0.5677661615395543,
          -0.768554121585154,
          -0.3991969835189398,
          -0.9165808027323511,
          -0.1788512484648285,
          -0.9084049485084351,
          -0.7218655963258508,
          -0.9136350482950665,
          0.546178642978574,
          null,
          -0.8581621857504442,
          -0.6508918168523262,
          -0.4863337520474014,
          -0.7416434293602443,
          null,
          -0.9246020681684352,
          -0.5438517653153988,
          -0.5927549619729722,
          -0.322646527474029,
          -0.9267462935060482,
          -0.7213763707469719,
          -0.8083567434722658,
          0.5585501439003824,
          -0.8594781938426445,
          -0.06415712286442721,
          -0.8025977498851751,
          -0.05799405968765384,
          -0.8095978580774993,
          -0.30595282970630217,
          -0.9279197943938866,
          -0.535871362042077,
          -0.169931328254077,
          -0.4918021235272721,
          0.8168640617370294,
          -0.9291809511372993,
          0.03750664329868265,
          -0.8569135424696452,
          -0.8355217345279581,
          -0.8954205369814583,
          -0.6031364214233185,
          0.16028226101681153,
          0.03681014117421503,
          -0.9575448068063352,
          -0.5905723882687031,
          -0.5034609536804338,
          -0.9199037030067883,
          -0.9325517979342587,
          -0.7751609152889536,
          -0.9712198891595265,
          -0.9680608365989137,
          -0.42151315976729525,
          -0.5104884920594763,
          0.13775097173642994,
          -0.8332276663583743,
          -0.7856366651656908,
          -0.7033535847829139,
          -0.8427968232002708,
          -0.5143855567867214,
          -0.8521168107283245,
          -0.7932788342898283,
          -0.9314906398719144,
          -0.565806539276942,
          -0.800495784861207,
          -0.6844897662727807,
          -0.052732060454409355,
          -0.8986316649951261,
          -0.14353291554326994,
          -0.9374688324008857,
          -0.9508662246185998,
          -0.15110982788610094,
          -0.7812355938750303,
          -0.6824726955116254,
          0.24450512087313336,
          -0.8758891199022157,
          -0.5247023240976855,
          0.5731166325165244,
          -0.7938048760063402,
          -0.3564374169269262,
          -0.4406847469701758,
          -0.7292752475891066,
          -0.8353353151260893,
          -0.8541526771526231,
          -0.8203148473144741
         ]
        }
       ],
       "layout": {
        "coloraxis": {
         "colorbar": {
          "title": {
           "text": "AgriShareGDP"
          }
         },
         "colorscale": [
          [
           0,
           "rgb(255,245,240)"
          ],
          [
           0.125,
           "rgb(254,224,210)"
          ],
          [
           0.25,
           "rgb(252,187,161)"
          ],
          [
           0.375,
           "rgb(252,146,114)"
          ],
          [
           0.5,
           "rgb(251,106,74)"
          ],
          [
           0.625,
           "rgb(239,59,44)"
          ],
          [
           0.75,
           "rgb(203,24,29)"
          ],
          [
           0.875,
           "rgb(165,15,21)"
          ],
          [
           1,
           "rgb(103,0,13)"
          ]
         ],
         "showscale": true
        },
        "geo": {
         "center": {},
         "domain": {
          "x": [
           0,
           1
          ],
          "y": [
           0,
           1
          ]
         },
         "projection": {
          "type": "natural earth"
         }
        },
        "height": 500,
        "legend": {
         "tracegroupgap": 0
        },
        "margin": {
         "t": 60
        },
        "template": {
         "data": {
          "bar": [
           {
            "error_x": {
             "color": "#2a3f5f"
            },
            "error_y": {
             "color": "#2a3f5f"
            },
            "marker": {
             "line": {
              "color": "#E5ECF6",
              "width": 0.5
             },
             "pattern": {
              "fillmode": "overlay",
              "size": 10,
              "solidity": 0.2
             }
            },
            "type": "bar"
           }
          ],
          "barpolar": [
           {
            "marker": {
             "line": {
              "color": "#E5ECF6",
              "width": 0.5
             },
             "pattern": {
              "fillmode": "overlay",
              "size": 10,
              "solidity": 0.2
             }
            },
            "type": "barpolar"
           }
          ],
          "carpet": [
           {
            "aaxis": {
             "endlinecolor": "#2a3f5f",
             "gridcolor": "white",
             "linecolor": "white",
             "minorgridcolor": "white",
             "startlinecolor": "#2a3f5f"
            },
            "baxis": {
             "endlinecolor": "#2a3f5f",
             "gridcolor": "white",
             "linecolor": "white",
             "minorgridcolor": "white",
             "startlinecolor": "#2a3f5f"
            },
            "type": "carpet"
           }
          ],
          "choropleth": [
           {
            "colorbar": {
             "outlinewidth": 0,
             "ticks": ""
            },
            "type": "choropleth"
           }
          ],
          "contour": [
           {
            "colorbar": {
             "outlinewidth": 0,
             "ticks": ""
            },
            "colorscale": [
             [
              0,
              "#0d0887"
             ],
             [
              0.1111111111111111,
              "#46039f"
             ],
             [
              0.2222222222222222,
              "#7201a8"
             ],
             [
              0.3333333333333333,
              "#9c179e"
             ],
             [
              0.4444444444444444,
              "#bd3786"
             ],
             [
              0.5555555555555556,
              "#d8576b"
             ],
             [
              0.6666666666666666,
              "#ed7953"
             ],
             [
              0.7777777777777778,
              "#fb9f3a"
             ],
             [
              0.8888888888888888,
              "#fdca26"
             ],
             [
              1,
              "#f0f921"
             ]
            ],
            "type": "contour"
           }
          ],
          "contourcarpet": [
           {
            "colorbar": {
             "outlinewidth": 0,
             "ticks": ""
            },
            "type": "contourcarpet"
           }
          ],
          "heatmap": [
           {
            "colorbar": {
             "outlinewidth": 0,
             "ticks": ""
            },
            "colorscale": [
             [
              0,
              "#0d0887"
             ],
             [
              0.1111111111111111,
              "#46039f"
             ],
             [
              0.2222222222222222,
              "#7201a8"
             ],
             [
              0.3333333333333333,
              "#9c179e"
             ],
             [
              0.4444444444444444,
              "#bd3786"
             ],
             [
              0.5555555555555556,
              "#d8576b"
             ],
             [
              0.6666666666666666,
              "#ed7953"
             ],
             [
              0.7777777777777778,
              "#fb9f3a"
             ],
             [
              0.8888888888888888,
              "#fdca26"
             ],
             [
              1,
              "#f0f921"
             ]
            ],
            "type": "heatmap"
           }
          ],
          "heatmapgl": [
           {
            "colorbar": {
             "outlinewidth": 0,
             "ticks": ""
            },
            "colorscale": [
             [
              0,
              "#0d0887"
             ],
             [
              0.1111111111111111,
              "#46039f"
             ],
             [
              0.2222222222222222,
              "#7201a8"
             ],
             [
              0.3333333333333333,
              "#9c179e"
             ],
             [
              0.4444444444444444,
              "#bd3786"
             ],
             [
              0.5555555555555556,
              "#d8576b"
             ],
             [
              0.6666666666666666,
              "#ed7953"
             ],
             [
              0.7777777777777778,
              "#fb9f3a"
             ],
             [
              0.8888888888888888,
              "#fdca26"
             ],
             [
              1,
              "#f0f921"
             ]
            ],
            "type": "heatmapgl"
           }
          ],
          "histogram": [
           {
            "marker": {
             "pattern": {
              "fillmode": "overlay",
              "size": 10,
              "solidity": 0.2
             }
            },
            "type": "histogram"
           }
          ],
          "histogram2d": [
           {
            "colorbar": {
             "outlinewidth": 0,
             "ticks": ""
            },
            "colorscale": [
             [
              0,
              "#0d0887"
             ],
             [
              0.1111111111111111,
              "#46039f"
             ],
             [
              0.2222222222222222,
              "#7201a8"
             ],
             [
              0.3333333333333333,
              "#9c179e"
             ],
             [
              0.4444444444444444,
              "#bd3786"
             ],
             [
              0.5555555555555556,
              "#d8576b"
             ],
             [
              0.6666666666666666,
              "#ed7953"
             ],
             [
              0.7777777777777778,
              "#fb9f3a"
             ],
             [
              0.8888888888888888,
              "#fdca26"
             ],
             [
              1,
              "#f0f921"
             ]
            ],
            "type": "histogram2d"
           }
          ],
          "histogram2dcontour": [
           {
            "colorbar": {
             "outlinewidth": 0,
             "ticks": ""
            },
            "colorscale": [
             [
              0,
              "#0d0887"
             ],
             [
              0.1111111111111111,
              "#46039f"
             ],
             [
              0.2222222222222222,
              "#7201a8"
             ],
             [
              0.3333333333333333,
              "#9c179e"
             ],
             [
              0.4444444444444444,
              "#bd3786"
             ],
             [
              0.5555555555555556,
              "#d8576b"
             ],
             [
              0.6666666666666666,
              "#ed7953"
             ],
             [
              0.7777777777777778,
              "#fb9f3a"
             ],
             [
              0.8888888888888888,
              "#fdca26"
             ],
             [
              1,
              "#f0f921"
             ]
            ],
            "type": "histogram2dcontour"
           }
          ],
          "mesh3d": [
           {
            "colorbar": {
             "outlinewidth": 0,
             "ticks": ""
            },
            "type": "mesh3d"
           }
          ],
          "parcoords": [
           {
            "line": {
             "colorbar": {
              "outlinewidth": 0,
              "ticks": ""
             }
            },
            "type": "parcoords"
           }
          ],
          "pie": [
           {
            "automargin": true,
            "type": "pie"
           }
          ],
          "scatter": [
           {
            "fillpattern": {
             "fillmode": "overlay",
             "size": 10,
             "solidity": 0.2
            },
            "type": "scatter"
           }
          ],
          "scatter3d": [
           {
            "line": {
             "colorbar": {
              "outlinewidth": 0,
              "ticks": ""
             }
            },
            "marker": {
             "colorbar": {
              "outlinewidth": 0,
              "ticks": ""
             }
            },
            "type": "scatter3d"
           }
          ],
          "scattercarpet": [
           {
            "marker": {
             "colorbar": {
              "outlinewidth": 0,
              "ticks": ""
             }
            },
            "type": "scattercarpet"
           }
          ],
          "scattergeo": [
           {
            "marker": {
             "colorbar": {
              "outlinewidth": 0,
              "ticks": ""
             }
            },
            "type": "scattergeo"
           }
          ],
          "scattergl": [
           {
            "marker": {
             "colorbar": {
              "outlinewidth": 0,
              "ticks": ""
             }
            },
            "type": "scattergl"
           }
          ],
          "scattermapbox": [
           {
            "marker": {
             "colorbar": {
              "outlinewidth": 0,
              "ticks": ""
             }
            },
            "type": "scattermapbox"
           }
          ],
          "scatterpolar": [
           {
            "marker": {
             "colorbar": {
              "outlinewidth": 0,
              "ticks": ""
             }
            },
            "type": "scatterpolar"
           }
          ],
          "scatterpolargl": [
           {
            "marker": {
             "colorbar": {
              "outlinewidth": 0,
              "ticks": ""
             }
            },
            "type": "scatterpolargl"
           }
          ],
          "scatterternary": [
           {
            "marker": {
             "colorbar": {
              "outlinewidth": 0,
              "ticks": ""
             }
            },
            "type": "scatterternary"
           }
          ],
          "surface": [
           {
            "colorbar": {
             "outlinewidth": 0,
             "ticks": ""
            },
            "colorscale": [
             [
              0,
              "#0d0887"
             ],
             [
              0.1111111111111111,
              "#46039f"
             ],
             [
              0.2222222222222222,
              "#7201a8"
             ],
             [
              0.3333333333333333,
              "#9c179e"
             ],
             [
              0.4444444444444444,
              "#bd3786"
             ],
             [
              0.5555555555555556,
              "#d8576b"
             ],
             [
              0.6666666666666666,
              "#ed7953"
             ],
             [
              0.7777777777777778,
              "#fb9f3a"
             ],
             [
              0.8888888888888888,
              "#fdca26"
             ],
             [
              1,
              "#f0f921"
             ]
            ],
            "type": "surface"
           }
          ],
          "table": [
           {
            "cells": {
             "fill": {
              "color": "#EBF0F8"
             },
             "line": {
              "color": "white"
             }
            },
            "header": {
             "fill": {
              "color": "#C8D4E3"
             },
             "line": {
              "color": "white"
             }
            },
            "type": "table"
           }
          ]
         },
         "layout": {
          "annotationdefaults": {
           "arrowcolor": "#2a3f5f",
           "arrowhead": 0,
           "arrowwidth": 1
          },
          "autotypenumbers": "strict",
          "coloraxis": {
           "colorbar": {
            "outlinewidth": 0,
            "ticks": ""
           }
          },
          "colorscale": {
           "diverging": [
            [
             0,
             "#8e0152"
            ],
            [
             0.1,
             "#c51b7d"
            ],
            [
             0.2,
             "#de77ae"
            ],
            [
             0.3,
             "#f1b6da"
            ],
            [
             0.4,
             "#fde0ef"
            ],
            [
             0.5,
             "#f7f7f7"
            ],
            [
             0.6,
             "#e6f5d0"
            ],
            [
             0.7,
             "#b8e186"
            ],
            [
             0.8,
             "#7fbc41"
            ],
            [
             0.9,
             "#4d9221"
            ],
            [
             1,
             "#276419"
            ]
           ],
           "sequential": [
            [
             0,
             "#0d0887"
            ],
            [
             0.1111111111111111,
             "#46039f"
            ],
            [
             0.2222222222222222,
             "#7201a8"
            ],
            [
             0.3333333333333333,
             "#9c179e"
            ],
            [
             0.4444444444444444,
             "#bd3786"
            ],
            [
             0.5555555555555556,
             "#d8576b"
            ],
            [
             0.6666666666666666,
             "#ed7953"
            ],
            [
             0.7777777777777778,
             "#fb9f3a"
            ],
            [
             0.8888888888888888,
             "#fdca26"
            ],
            [
             1,
             "#f0f921"
            ]
           ],
           "sequentialminus": [
            [
             0,
             "#0d0887"
            ],
            [
             0.1111111111111111,
             "#46039f"
            ],
            [
             0.2222222222222222,
             "#7201a8"
            ],
            [
             0.3333333333333333,
             "#9c179e"
            ],
            [
             0.4444444444444444,
             "#bd3786"
            ],
            [
             0.5555555555555556,
             "#d8576b"
            ],
            [
             0.6666666666666666,
             "#ed7953"
            ],
            [
             0.7777777777777778,
             "#fb9f3a"
            ],
            [
             0.8888888888888888,
             "#fdca26"
            ],
            [
             1,
             "#f0f921"
            ]
           ]
          },
          "colorway": [
           "#636efa",
           "#EF553B",
           "#00cc96",
           "#ab63fa",
           "#FFA15A",
           "#19d3f3",
           "#FF6692",
           "#B6E880",
           "#FF97FF",
           "#FECB52"
          ],
          "font": {
           "color": "#2a3f5f"
          },
          "geo": {
           "bgcolor": "white",
           "lakecolor": "white",
           "landcolor": "#E5ECF6",
           "showlakes": true,
           "showland": true,
           "subunitcolor": "white"
          },
          "hoverlabel": {
           "align": "left"
          },
          "hovermode": "closest",
          "mapbox": {
           "style": "light"
          },
          "paper_bgcolor": "white",
          "plot_bgcolor": "#E5ECF6",
          "polar": {
           "angularaxis": {
            "gridcolor": "white",
            "linecolor": "white",
            "ticks": ""
           },
           "bgcolor": "#E5ECF6",
           "radialaxis": {
            "gridcolor": "white",
            "linecolor": "white",
            "ticks": ""
           }
          },
          "scene": {
           "xaxis": {
            "backgroundcolor": "#E5ECF6",
            "gridcolor": "white",
            "gridwidth": 2,
            "linecolor": "white",
            "showbackground": true,
            "ticks": "",
            "zerolinecolor": "white"
           },
           "yaxis": {
            "backgroundcolor": "#E5ECF6",
            "gridcolor": "white",
            "gridwidth": 2,
            "linecolor": "white",
            "showbackground": true,
            "ticks": "",
            "zerolinecolor": "white"
           },
           "zaxis": {
            "backgroundcolor": "#E5ECF6",
            "gridcolor": "white",
            "gridwidth": 2,
            "linecolor": "white",
            "showbackground": true,
            "ticks": "",
            "zerolinecolor": "white"
           }
          },
          "shapedefaults": {
           "line": {
            "color": "#2a3f5f"
           }
          },
          "ternary": {
           "aaxis": {
            "gridcolor": "white",
            "linecolor": "white",
            "ticks": ""
           },
           "baxis": {
            "gridcolor": "white",
            "linecolor": "white",
            "ticks": ""
           },
           "bgcolor": "#E5ECF6",
           "caxis": {
            "gridcolor": "white",
            "linecolor": "white",
            "ticks": ""
           }
          },
          "title": {
           "x": 0.05
          },
          "xaxis": {
           "automargin": true,
           "gridcolor": "white",
           "linecolor": "white",
           "ticks": "",
           "title": {
            "standoff": 15
           },
           "zerolinecolor": "white",
           "zerolinewidth": 2
          },
          "yaxis": {
           "automargin": true,
           "gridcolor": "white",
           "linecolor": "white",
           "ticks": "",
           "title": {
            "standoff": 15
           },
           "zerolinecolor": "white",
           "zerolinewidth": 2
          }
         }
        },
        "width": 700
       }
      }
     },
     "metadata": {},
     "output_type": "display_data"
    }
   ],
   "source": [
    "import ipywidgets as widgets\n",
    "import plotly.express as px\n",
    "\n",
    "\n",
    "indicator = widgets.SelectMultiple(\n",
    "    options = corr_df.columns.tolist(),\n",
    "    value = ['AgriShareGDP'],\n",
    "    description='Indicator',\n",
    "    disabled=False,\n",
    "    layout = Layout(width='50%', height='80px')\n",
    ")\n",
    "\n",
    "\n",
    "def globalGrapgh(indicator):\n",
    "    fig = px.choropleth(corr_df, locations = corr_df.index, locationmode='country names', \n",
    "                        color= indicator[0],projection=\"natural earth\",\n",
    "                        color_continuous_scale='Reds',\n",
    "                    width=700, height=500)\n",
    "    fig.update(layout_coloraxis_showscale=True)\n",
    "    fig.show()\n",
    "    \n",
    "    \n",
    "widgets.interactive(globalGrapgh, indicator = indicator) "
   ]
  },
  {
   "cell_type": "markdown",
   "metadata": {},
   "source": [
    "## Country Indicators\n",
    "In this codeblock a widged is implmented to generate a table with the indicators. In order to make it work just select the country from the dropdown and procede to establasih the threshold. The default value for the threshold is 0.7, which we consider to be the minimum to consider an indicator correlated to the GDP. To analyze the results:\n",
    "- H0: the indicator and the GDP are uncorrelated.\n",
    "- H1: the indicator and the GDP are correlated.\n",
    "\n",
    "The p-value represents the probability that your data would have arisen if the null hypothesis were true. If it's higher than 0.05 then it has no statistical signifcance. If an indicator is lower than 0.05 it has no significance and would be painted the cell in red.\n",
    "\n",
    "If the both correlations are  >0.7 or <-0.7 and the p-values are < 0.05 then we have a high correlation that can be applied to the whole population.\n",
    "\n",
    "The code consists in a IppyWidget with a slider and a dropdown. Once this parameters have been set it calls the method 'search' and applies a style format of the returned Dataframe."
   ]
  },
  {
   "cell_type": "code",
   "execution_count": 4,
   "metadata": {},
   "outputs": [
    {
     "data": {
      "application/vnd.jupyter.widget-view+json": {
       "model_id": "76b4d37b5ce84069bc232009a3b3036f",
       "version_major": 2,
       "version_minor": 0
      },
      "text/plain": [
       "interactive(children=(Dropdown(description='Country', options=('Afghanistan', 'Albania', 'Algeria', 'Andorra',…"
      ]
     },
     "metadata": {},
     "output_type": "display_data"
    }
   ],
   "source": [
    "def tableOut(Threshold, Country):\n",
    "\n",
    "    df = search(Threshold, 'Country', Country)\n",
    "    if df.empty:\n",
    "        return print(\"No indicators have been found.\")\n",
    "\n",
    "    left = pd.Series([0.05, 0.05], index=['P-value Pearson', 'P-value Spearman'])\n",
    "    left2 = pd.Series([-1, -1], index=['GDP Pearson Corr', 'GDP Spearman Corr'])\n",
    "    left3 = pd.Series([0, 0], index=['GDP Pearson Corr', 'GDP Spearman Corr'])\n",
    "    df =df.style.highlight_between(left=left, right=1.5, axis=1, props='color:white; background-color:red;')\\\n",
    "        .highlight_between(left=left2, right=1.5, axis=1, props='color:white; background-color:#929bfc;')\\\n",
    "        .highlight_between(left=left3, right=1.5, axis=1, props='color:white; background-color:#b3b9ff;')\\\n",
    "        .format('{:,.4f}', subset = ['GDP Pearson Corr', 'GDP Spearman Corr'])\\\n",
    "        .format('{:,.12f}', subset = ['P-value Pearson', 'P-value Spearman']) \n",
    "    \n",
    "    display(df)\n",
    "\n",
    "    \n",
    "\n",
    "@interact(\n",
    "    Country = sorted(corr_df.index.tolist()),\n",
    "    Threshold = (0, 1, 0.05))\n",
    "def g(Country = 'Afghanistan', Threshold = 0.7):\n",
    "    return tableOut(Threshold,Country)\n",
    "\n",
    "    \n",
    "        "
   ]
  },
  {
   "cell_type": "markdown",
   "metadata": {},
   "source": [
    "## Region Indicators\n",
    "It's almost the same codeblock as before, but for the regions. The groups have been formed according to the Dataframe of World Data Bank.\n"
   ]
  },
  {
   "cell_type": "code",
   "execution_count": 5,
   "metadata": {},
   "outputs": [
    {
     "data": {
      "application/vnd.jupyter.widget-view+json": {
       "model_id": "420cdb1ace6a428895e864eeca2d93e0",
       "version_major": 2,
       "version_minor": 0
      },
      "text/plain": [
       "interactive(children=(Dropdown(description='Region', index=4, options=('Sub-Saharan Africa', 'South Asia', 'Mi…"
      ]
     },
     "metadata": {},
     "output_type": "display_data"
    }
   ],
   "source": [
    "def tableOut2(Threshold, Region):\n",
    "\n",
    "    df = search(Threshold, 'Region', Region)\n",
    "    if df.empty:\n",
    "        return print(\"No indicators have been found.\")\n",
    "\n",
    "    left = pd.Series([0.05, 0.05], index=['P-value Pearson', 'P-value Spearman'])\n",
    "    left2 = pd.Series([-1, -1], index=['GDP Pearson Corr', 'GDP Spearman Corr'])\n",
    "    left3 = pd.Series([0, 0], index=['GDP Pearson Corr', 'GDP Spearman Corr'])\n",
    "    df =df.style.highlight_between(left=left, right=1.5, axis=1, props='color:white; background-color:red;')\\\n",
    "        .highlight_between(left=left2, right=1.5, axis=1, props='color:white; background-color:#929bfc;')\\\n",
    "        .highlight_between(left=left3, right=1.5, axis=1, props='color:white; background-color:#b3b9ff;')\\\n",
    "        .format('{:,.4f}', subset = ['GDP Pearson Corr', 'GDP Spearman Corr'])\\\n",
    "        .format('{:,.12f}', subset = ['P-value Pearson', 'P-value Spearman']) \n",
    "    \n",
    "    display(df)\n",
    "\n",
    "\n",
    "\n",
    "@interact(\n",
    "    Region = set(df['Region'].to_list()),\n",
    "    Threshold = (0, 1, 0.05))\n",
    "def g(Region = 'East Asia and Pacific', Threshold = 0.7):\n",
    "    return tableOut2(Threshold, Region)\n",
    "\n",
    "    "
   ]
  },
  {
   "cell_type": "markdown",
   "metadata": {},
   "source": [
    "## Global Indicators\n",
    "This section reperesents the final analysis of the indicators. It shows in the indicators table with the highest correlations. With this results we can give an answer to the hypothesis of the project and establish the indicators with a high GDP relation."
   ]
  },
  {
   "cell_type": "code",
   "execution_count": 6,
   "metadata": {},
   "outputs": [
    {
     "data": {
      "application/vnd.jupyter.widget-view+json": {
       "model_id": "9e935e8ccafe4fc9ae0d7e2de25938f4",
       "version_major": 2,
       "version_minor": 0
      },
      "text/plain": [
       "interactive(children=(FloatSlider(value=0.7, description='Threshold', max=1.0, step=0.05), Output()), _dom_cla…"
      ]
     },
     "metadata": {},
     "output_type": "display_data"
    }
   ],
   "source": [
    "def tableOut3(Threshold):\n",
    "\n",
    "    df = search(Threshold, 'Global')\n",
    "    if df.empty:\n",
    "        return print(\"No indicators have been found.\")\n",
    "\n",
    "    left = pd.Series([0.05, 0.05], index=['P-value Pearson', 'P-value Spearman'])\n",
    "    left2 = pd.Series([-1, -1], index=['GDP Pearson Corr', 'GDP Spearman Corr'])\n",
    "    left3 = pd.Series([0, 0], index=['GDP Pearson Corr', 'GDP Spearman Corr'])\n",
    "    df =df.style.highlight_between(left=left, right=1.5, axis=1, props='color:white; background-color:red;')\\\n",
    "        .highlight_between(left=left2, right=1.5, axis=1, props='color:white; background-color:#929bfc;')\\\n",
    "        .highlight_between(left=left3, right=1.5, axis=1, props='color:white; background-color:#b3b9ff;')\\\n",
    "        .format('{:,.4f}', subset = ['GDP Pearson Corr', 'GDP Spearman Corr'])\\\n",
    "        .format('{:,.12f}', subset = ['P-value Pearson', 'P-value Spearman']) \n",
    "    \n",
    "    display(df)\n",
    "\n",
    "\n",
    "\n",
    "@interact(\n",
    "    Threshold = (0, 1, 0.05))\n",
    "def g(Threshold = 0.7):\n",
    "    return tableOut3(Threshold)\n"
   ]
  },
  {
   "cell_type": "code",
   "execution_count": 26,
   "metadata": {},
   "outputs": [
    {
     "name": "stdout",
     "output_type": "stream",
     "text": [
      "                         GDP Pearson Corr\n",
      "Indicator                                \n",
      "Life Expectancy                  0.923128\n",
      "TotalAgri                        0.903238\n",
      "Population                       0.901123\n",
      "% Women Employment               0.652968\n",
      "% Healthcare Investment          0.350933\n",
      "% Education Expenditure          0.183463\n",
      "Civil Liberties                  0.007080\n",
      "% Employment Industry           -0.030818\n",
      "% Population Growth             -0.030905\n",
      "Freedom of Expression           -0.045268\n",
      "EmploymentRural                 -0.083709\n",
      "CreditToAgriFishForest          -0.197254\n",
      "% Men Employment                -0.359601\n",
      "Homicides                       -0.480969\n",
      "Death Rate                      -0.567266\n",
      "% Soldiers                      -0.708804\n",
      "AgriShareGDP                    -0.714992\n",
      "Birth Rate                      -0.833254\n",
      "% Rural Population              -0.886077\n",
      "Maternal Death Risk             -0.899635\n",
      "Infant Mortality                -0.913824\n"
     ]
    }
   ],
   "source": [
    "result_df = pd.DataFrame()\n",
    "for column in corr_df.columns:\n",
    "    aux = pd.DataFrame({'Indicator': [column],\n",
    "                        'GDP Pearson Corr': [corr_df[column].median()]})\n",
    "    result_df = pd.concat([result_df, aux], ignore_index=False, axis = 0)\n",
    "    result_df = result_df.sort_values(by=[\"GDP Pearson Corr\"], ascending = False)\n",
    "    \n",
    "\n",
    "result_df.set_index(['Indicator'], inplace=True)\n",
    "print(result_df)"
   ]
  },
  {
   "cell_type": "code",
   "execution_count": 34,
   "metadata": {},
   "outputs": [
    {
     "data": {
      "application/vnd.jupyter.widget-view+json": {
       "model_id": "cc27dcdab548490da8081974bc419b08",
       "version_major": 2,
       "version_minor": 0
      },
      "text/plain": [
       "interactive(children=(FloatSlider(value=0.7, description='Threshold', max=1.0, step=0.05), Output()), _dom_cla…"
      ]
     },
     "metadata": {},
     "output_type": "display_data"
    }
   ],
   "source": [
    "def tableOutMedian(Threshold):\n",
    "    df = pd.concat([result_df.loc[result_df['GDP Pearson Corr'] >= Threshold], result_df.loc[result_df['GDP Pearson Corr'] <= -Threshold]], axis = 0)\n",
    "\n",
    "    left2 = pd.Series([-1], index=['GDP Pearson Corr'])\n",
    "    left3 = pd.Series([0], index=['GDP Pearson Corr'])\n",
    "    df = df.style.highlight_between(left=left2, right=1.5, axis=1, props='color:white; background-color:#929bfc;')\\\n",
    "        .highlight_between(left=left3, right=1.5, axis=1, props='color:white; background-color:#b3b9ff;')\\\n",
    "        .format('{:,.4f}', subset = ['GDP Pearson Corr'])\n",
    "    display(df)\n",
    "\n",
    "\n",
    "\n",
    "@interact(\n",
    "    Threshold = (0, 1, 0.05))\n",
    "def g(Threshold = 0.7):\n",
    "    return tableOutMedian(Threshold)"
   ]
  }
 ],
 "metadata": {
  "kernelspec": {
   "display_name": "Python 3.10.5 ('.venv': poetry)",
   "language": "python",
   "name": "python3"
  },
  "language_info": {
   "codemirror_mode": {
    "name": "ipython",
    "version": 3
   },
   "file_extension": ".py",
   "mimetype": "text/x-python",
   "name": "python",
   "nbconvert_exporter": "python",
   "pygments_lexer": "ipython3",
   "version": "3.10.5"
  },
  "orig_nbformat": 4,
  "vscode": {
   "interpreter": {
    "hash": "44718ba4235bc6fc2135f9d8856f170c8312ddd29b08710a5ea28d42169e623e"
   }
  }
 },
 "nbformat": 4,
 "nbformat_minor": 2
}
