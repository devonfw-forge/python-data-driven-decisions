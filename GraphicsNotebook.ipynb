{
 "cells": [
  {
   "cell_type": "markdown",
   "metadata": {},
   "source": [
    "# Visualize Notebook\n",
    "In this notebook the Gold Dataframe will be read and extract information of it. The objective is to see the correlations between the variables and the GDP and also what countries have the highest correlation value.\n"
   ]
  },
  {
   "cell_type": "markdown",
   "metadata": {},
   "source": [
    "## Imports\n",
    "Start importing all the libraries and also the methods of pvalue and search indicators that will be used later in the notebook."
   ]
  },
  {
   "cell_type": "code",
   "execution_count": 1,
   "metadata": {},
   "outputs": [],
   "source": [
    "import pandas as pd\n",
    "import matplotlib.pyplot as plt\n",
    "import numpy as np\n",
    "from scipy import stats\n",
    "from scipy.stats import shapiro\n",
    "import os\n",
    "import statistics\n",
    "import seaborn as sns\n",
    "from scipy.stats import norm\n",
    "\n",
    "import ipywidgets as widgets\n",
    "from ipywidgets import Layout\n",
    "from ipywidgets import interact, interact_manual\n",
    "from Project.Utils.visualize import pvalue, search_indicators, search\n"
   ]
  },
  {
   "cell_type": "markdown",
   "metadata": {},
   "source": [
    "## Correlation dataframe.\n",
    "This dataframe is the main piece of the notebook. Consists in generating for every country the correlation matrix for it and saving only the correlation value of the different variables with the GDP. Later on is concatenated and generates the following result:"
   ]
  },
  {
   "cell_type": "code",
   "execution_count": 2,
   "metadata": {},
   "outputs": [
    {
     "data": {
      "text/html": [
       "<div>\n",
       "<style scoped>\n",
       "    .dataframe tbody tr th:only-of-type {\n",
       "        vertical-align: middle;\n",
       "    }\n",
       "\n",
       "    .dataframe tbody tr th {\n",
       "        vertical-align: top;\n",
       "    }\n",
       "\n",
       "    .dataframe thead th {\n",
       "        text-align: right;\n",
       "    }\n",
       "</style>\n",
       "<table border=\"1\" class=\"dataframe\">\n",
       "  <thead>\n",
       "    <tr style=\"text-align: right;\">\n",
       "      <th></th>\n",
       "      <th>AgriShareGDP</th>\n",
       "      <th>CreditToAgriFishForest</th>\n",
       "      <th>EmploymentRural</th>\n",
       "      <th>TotalAgri</th>\n",
       "      <th>% Soldiers</th>\n",
       "      <th>Birth Rate</th>\n",
       "      <th>Death Rate</th>\n",
       "      <th>Homicides</th>\n",
       "      <th>Life Expectancy</th>\n",
       "      <th>Maternal Death Risk</th>\n",
       "      <th>...</th>\n",
       "      <th>% Population Growth</th>\n",
       "      <th>% Rural Population</th>\n",
       "      <th>Civil Liberties</th>\n",
       "      <th>Freedom of Expression</th>\n",
       "      <th>% Healthcare Investment</th>\n",
       "      <th>% Employment Industry</th>\n",
       "      <th>% Education Expenditure</th>\n",
       "      <th>% Men Employment</th>\n",
       "      <th>% Women Employment</th>\n",
       "      <th>Population</th>\n",
       "    </tr>\n",
       "  </thead>\n",
       "  <tbody>\n",
       "    <tr>\n",
       "      <th>Switzerland</th>\n",
       "      <td>-0.926746</td>\n",
       "      <td>0.899981</td>\n",
       "      <td>NaN</td>\n",
       "      <td>0.938234</td>\n",
       "      <td>-0.314830</td>\n",
       "      <td>0.271648</td>\n",
       "      <td>-0.875918</td>\n",
       "      <td>-0.917309</td>\n",
       "      <td>0.966205</td>\n",
       "      <td>-0.900268</td>\n",
       "      <td>...</td>\n",
       "      <td>0.576820</td>\n",
       "      <td>-0.933934</td>\n",
       "      <td>-0.138955</td>\n",
       "      <td>NaN</td>\n",
       "      <td>0.947935</td>\n",
       "      <td>-0.856593</td>\n",
       "      <td>-0.049844</td>\n",
       "      <td>-0.920018</td>\n",
       "      <td>0.808883</td>\n",
       "      <td>0.936869</td>\n",
       "    </tr>\n",
       "    <tr>\n",
       "      <th>Iceland</th>\n",
       "      <td>-0.931491</td>\n",
       "      <td>NaN</td>\n",
       "      <td>NaN</td>\n",
       "      <td>0.841270</td>\n",
       "      <td>-0.412141</td>\n",
       "      <td>-0.709204</td>\n",
       "      <td>0.224062</td>\n",
       "      <td>-0.058655</td>\n",
       "      <td>0.748194</td>\n",
       "      <td>-0.823615</td>\n",
       "      <td>...</td>\n",
       "      <td>0.677257</td>\n",
       "      <td>-0.782214</td>\n",
       "      <td>-0.161636</td>\n",
       "      <td>-0.475646</td>\n",
       "      <td>0.018617</td>\n",
       "      <td>-0.673486</td>\n",
       "      <td>0.392615</td>\n",
       "      <td>0.212204</td>\n",
       "      <td>0.345669</td>\n",
       "      <td>0.767517</td>\n",
       "    </tr>\n",
       "    <tr>\n",
       "      <th>Mali</th>\n",
       "      <td>0.816864</td>\n",
       "      <td>-0.746082</td>\n",
       "      <td>NaN</td>\n",
       "      <td>0.979469</td>\n",
       "      <td>-0.320843</td>\n",
       "      <td>-0.954118</td>\n",
       "      <td>-0.987298</td>\n",
       "      <td>NaN</td>\n",
       "      <td>0.987882</td>\n",
       "      <td>-0.962094</td>\n",
       "      <td>...</td>\n",
       "      <td>-0.255112</td>\n",
       "      <td>-0.988937</td>\n",
       "      <td>-0.770610</td>\n",
       "      <td>-0.734670</td>\n",
       "      <td>-0.387323</td>\n",
       "      <td>-0.445123</td>\n",
       "      <td>0.204162</td>\n",
       "      <td>NaN</td>\n",
       "      <td>NaN</td>\n",
       "      <td>0.984256</td>\n",
       "    </tr>\n",
       "    <tr>\n",
       "      <th>Latvia</th>\n",
       "      <td>-0.770846</td>\n",
       "      <td>NaN</td>\n",
       "      <td>-0.574529</td>\n",
       "      <td>0.948486</td>\n",
       "      <td>-0.144538</td>\n",
       "      <td>0.698248</td>\n",
       "      <td>0.528614</td>\n",
       "      <td>-0.879670</td>\n",
       "      <td>0.777383</td>\n",
       "      <td>-0.350612</td>\n",
       "      <td>...</td>\n",
       "      <td>0.197481</td>\n",
       "      <td>-0.317310</td>\n",
       "      <td>0.521168</td>\n",
       "      <td>0.613403</td>\n",
       "      <td>0.457060</td>\n",
       "      <td>-0.470058</td>\n",
       "      <td>-0.365042</td>\n",
       "      <td>0.407546</td>\n",
       "      <td>0.874027</td>\n",
       "      <td>-0.863641</td>\n",
       "    </tr>\n",
       "    <tr>\n",
       "      <th>Senegal</th>\n",
       "      <td>-0.064157</td>\n",
       "      <td>-0.749358</td>\n",
       "      <td>NaN</td>\n",
       "      <td>0.833206</td>\n",
       "      <td>-0.751124</td>\n",
       "      <td>-0.828994</td>\n",
       "      <td>-0.978344</td>\n",
       "      <td>NaN</td>\n",
       "      <td>0.976512</td>\n",
       "      <td>-0.926409</td>\n",
       "      <td>...</td>\n",
       "      <td>0.912167</td>\n",
       "      <td>-0.960345</td>\n",
       "      <td>0.377412</td>\n",
       "      <td>0.737131</td>\n",
       "      <td>-0.946089</td>\n",
       "      <td>0.928383</td>\n",
       "      <td>0.716600</td>\n",
       "      <td>NaN</td>\n",
       "      <td>NaN</td>\n",
       "      <td>0.950633</td>\n",
       "    </tr>\n",
       "    <tr>\n",
       "      <th>...</th>\n",
       "      <td>...</td>\n",
       "      <td>...</td>\n",
       "      <td>...</td>\n",
       "      <td>...</td>\n",
       "      <td>...</td>\n",
       "      <td>...</td>\n",
       "      <td>...</td>\n",
       "      <td>...</td>\n",
       "      <td>...</td>\n",
       "      <td>...</td>\n",
       "      <td>...</td>\n",
       "      <td>...</td>\n",
       "      <td>...</td>\n",
       "      <td>...</td>\n",
       "      <td>...</td>\n",
       "      <td>...</td>\n",
       "      <td>...</td>\n",
       "      <td>...</td>\n",
       "      <td>...</td>\n",
       "      <td>...</td>\n",
       "      <td>...</td>\n",
       "    </tr>\n",
       "    <tr>\n",
       "      <th>Belarus</th>\n",
       "      <td>-0.740688</td>\n",
       "      <td>0.179766</td>\n",
       "      <td>NaN</td>\n",
       "      <td>0.969914</td>\n",
       "      <td>-0.240457</td>\n",
       "      <td>0.714361</td>\n",
       "      <td>-0.572392</td>\n",
       "      <td>-0.898360</td>\n",
       "      <td>0.758016</td>\n",
       "      <td>-0.919550</td>\n",
       "      <td>...</td>\n",
       "      <td>0.753786</td>\n",
       "      <td>-0.809223</td>\n",
       "      <td>0.372825</td>\n",
       "      <td>0.087215</td>\n",
       "      <td>-0.393318</td>\n",
       "      <td>-0.801186</td>\n",
       "      <td>NaN</td>\n",
       "      <td>NaN</td>\n",
       "      <td>NaN</td>\n",
       "      <td>-0.932844</td>\n",
       "    </tr>\n",
       "    <tr>\n",
       "      <th>Uganda</th>\n",
       "      <td>-0.552499</td>\n",
       "      <td>0.457382</td>\n",
       "      <td>NaN</td>\n",
       "      <td>NaN</td>\n",
       "      <td>-0.918504</td>\n",
       "      <td>-0.904790</td>\n",
       "      <td>-0.946195</td>\n",
       "      <td>NaN</td>\n",
       "      <td>0.951210</td>\n",
       "      <td>-0.944073</td>\n",
       "      <td>...</td>\n",
       "      <td>0.653146</td>\n",
       "      <td>-0.935675</td>\n",
       "      <td>-0.710019</td>\n",
       "      <td>-0.768839</td>\n",
       "      <td>-0.787329</td>\n",
       "      <td>0.113859</td>\n",
       "      <td>NaN</td>\n",
       "      <td>NaN</td>\n",
       "      <td>NaN</td>\n",
       "      <td>0.922094</td>\n",
       "    </tr>\n",
       "    <tr>\n",
       "      <th>Croatia</th>\n",
       "      <td>-0.713595</td>\n",
       "      <td>NaN</td>\n",
       "      <td>0.369270</td>\n",
       "      <td>0.938671</td>\n",
       "      <td>-0.823153</td>\n",
       "      <td>0.258234</td>\n",
       "      <td>0.529278</td>\n",
       "      <td>-0.645630</td>\n",
       "      <td>0.732922</td>\n",
       "      <td>-0.460155</td>\n",
       "      <td>...</td>\n",
       "      <td>-0.027478</td>\n",
       "      <td>-0.651140</td>\n",
       "      <td>0.025537</td>\n",
       "      <td>-0.347366</td>\n",
       "      <td>0.494168</td>\n",
       "      <td>-0.311657</td>\n",
       "      <td>NaN</td>\n",
       "      <td>NaN</td>\n",
       "      <td>NaN</td>\n",
       "      <td>-0.548240</td>\n",
       "    </tr>\n",
       "    <tr>\n",
       "      <th>Lithuania</th>\n",
       "      <td>-0.835335</td>\n",
       "      <td>NaN</td>\n",
       "      <td>-0.788530</td>\n",
       "      <td>0.912241</td>\n",
       "      <td>0.706347</td>\n",
       "      <td>0.574701</td>\n",
       "      <td>0.867250</td>\n",
       "      <td>-0.837935</td>\n",
       "      <td>0.746119</td>\n",
       "      <td>-0.812293</td>\n",
       "      <td>...</td>\n",
       "      <td>0.071064</td>\n",
       "      <td>-0.633390</td>\n",
       "      <td>0.197869</td>\n",
       "      <td>0.077926</td>\n",
       "      <td>0.350933</td>\n",
       "      <td>-0.447208</td>\n",
       "      <td>-0.940626</td>\n",
       "      <td>0.331796</td>\n",
       "      <td>0.637510</td>\n",
       "      <td>-0.922340</td>\n",
       "    </tr>\n",
       "    <tr>\n",
       "      <th>El Salvador</th>\n",
       "      <td>-0.486334</td>\n",
       "      <td>-0.633727</td>\n",
       "      <td>NaN</td>\n",
       "      <td>0.867835</td>\n",
       "      <td>0.678978</td>\n",
       "      <td>-0.939441</td>\n",
       "      <td>0.954287</td>\n",
       "      <td>0.082927</td>\n",
       "      <td>0.989089</td>\n",
       "      <td>-0.943407</td>\n",
       "      <td>...</td>\n",
       "      <td>-0.337308</td>\n",
       "      <td>-0.988305</td>\n",
       "      <td>0.180439</td>\n",
       "      <td>0.275762</td>\n",
       "      <td>-0.456070</td>\n",
       "      <td>-0.912498</td>\n",
       "      <td>0.211534</td>\n",
       "      <td>NaN</td>\n",
       "      <td>NaN</td>\n",
       "      <td>0.985852</td>\n",
       "    </tr>\n",
       "  </tbody>\n",
       "</table>\n",
       "<p>179 rows × 21 columns</p>\n",
       "</div>"
      ],
      "text/plain": [
       "             AgriShareGDP  CreditToAgriFishForest  EmploymentRural  TotalAgri  \\\n",
       "Switzerland     -0.926746                0.899981              NaN   0.938234   \n",
       "Iceland         -0.931491                     NaN              NaN   0.841270   \n",
       "Mali             0.816864               -0.746082              NaN   0.979469   \n",
       "Latvia          -0.770846                     NaN        -0.574529   0.948486   \n",
       "Senegal         -0.064157               -0.749358              NaN   0.833206   \n",
       "...                   ...                     ...              ...        ...   \n",
       "Belarus         -0.740688                0.179766              NaN   0.969914   \n",
       "Uganda          -0.552499                0.457382              NaN        NaN   \n",
       "Croatia         -0.713595                     NaN         0.369270   0.938671   \n",
       "Lithuania       -0.835335                     NaN        -0.788530   0.912241   \n",
       "El Salvador     -0.486334               -0.633727              NaN   0.867835   \n",
       "\n",
       "             % Soldiers  Birth Rate  Death Rate  Homicides  Life Expectancy  \\\n",
       "Switzerland   -0.314830    0.271648   -0.875918  -0.917309         0.966205   \n",
       "Iceland       -0.412141   -0.709204    0.224062  -0.058655         0.748194   \n",
       "Mali          -0.320843   -0.954118   -0.987298        NaN         0.987882   \n",
       "Latvia        -0.144538    0.698248    0.528614  -0.879670         0.777383   \n",
       "Senegal       -0.751124   -0.828994   -0.978344        NaN         0.976512   \n",
       "...                 ...         ...         ...        ...              ...   \n",
       "Belarus       -0.240457    0.714361   -0.572392  -0.898360         0.758016   \n",
       "Uganda        -0.918504   -0.904790   -0.946195        NaN         0.951210   \n",
       "Croatia       -0.823153    0.258234    0.529278  -0.645630         0.732922   \n",
       "Lithuania      0.706347    0.574701    0.867250  -0.837935         0.746119   \n",
       "El Salvador    0.678978   -0.939441    0.954287   0.082927         0.989089   \n",
       "\n",
       "             Maternal Death Risk  ...  % Population Growth  \\\n",
       "Switzerland            -0.900268  ...             0.576820   \n",
       "Iceland                -0.823615  ...             0.677257   \n",
       "Mali                   -0.962094  ...            -0.255112   \n",
       "Latvia                 -0.350612  ...             0.197481   \n",
       "Senegal                -0.926409  ...             0.912167   \n",
       "...                          ...  ...                  ...   \n",
       "Belarus                -0.919550  ...             0.753786   \n",
       "Uganda                 -0.944073  ...             0.653146   \n",
       "Croatia                -0.460155  ...            -0.027478   \n",
       "Lithuania              -0.812293  ...             0.071064   \n",
       "El Salvador            -0.943407  ...            -0.337308   \n",
       "\n",
       "             % Rural Population  Civil Liberties  Freedom of Expression  \\\n",
       "Switzerland           -0.933934        -0.138955                    NaN   \n",
       "Iceland               -0.782214        -0.161636              -0.475646   \n",
       "Mali                  -0.988937        -0.770610              -0.734670   \n",
       "Latvia                -0.317310         0.521168               0.613403   \n",
       "Senegal               -0.960345         0.377412               0.737131   \n",
       "...                         ...              ...                    ...   \n",
       "Belarus               -0.809223         0.372825               0.087215   \n",
       "Uganda                -0.935675        -0.710019              -0.768839   \n",
       "Croatia               -0.651140         0.025537              -0.347366   \n",
       "Lithuania             -0.633390         0.197869               0.077926   \n",
       "El Salvador           -0.988305         0.180439               0.275762   \n",
       "\n",
       "             % Healthcare Investment  % Employment Industry  \\\n",
       "Switzerland                 0.947935              -0.856593   \n",
       "Iceland                     0.018617              -0.673486   \n",
       "Mali                       -0.387323              -0.445123   \n",
       "Latvia                      0.457060              -0.470058   \n",
       "Senegal                    -0.946089               0.928383   \n",
       "...                              ...                    ...   \n",
       "Belarus                    -0.393318              -0.801186   \n",
       "Uganda                     -0.787329               0.113859   \n",
       "Croatia                     0.494168              -0.311657   \n",
       "Lithuania                   0.350933              -0.447208   \n",
       "El Salvador                -0.456070              -0.912498   \n",
       "\n",
       "             % Education Expenditure  % Men Employment  % Women Employment  \\\n",
       "Switzerland                -0.049844         -0.920018            0.808883   \n",
       "Iceland                     0.392615          0.212204            0.345669   \n",
       "Mali                        0.204162               NaN                 NaN   \n",
       "Latvia                     -0.365042          0.407546            0.874027   \n",
       "Senegal                     0.716600               NaN                 NaN   \n",
       "...                              ...               ...                 ...   \n",
       "Belarus                          NaN               NaN                 NaN   \n",
       "Uganda                           NaN               NaN                 NaN   \n",
       "Croatia                          NaN               NaN                 NaN   \n",
       "Lithuania                  -0.940626          0.331796            0.637510   \n",
       "El Salvador                 0.211534               NaN                 NaN   \n",
       "\n",
       "             Population  \n",
       "Switzerland    0.936869  \n",
       "Iceland        0.767517  \n",
       "Mali           0.984256  \n",
       "Latvia        -0.863641  \n",
       "Senegal        0.950633  \n",
       "...                 ...  \n",
       "Belarus       -0.932844  \n",
       "Uganda         0.922094  \n",
       "Croatia       -0.548240  \n",
       "Lithuania     -0.922340  \n",
       "El Salvador    0.985852  \n",
       "\n",
       "[179 rows x 21 columns]"
      ]
     },
     "execution_count": 2,
     "metadata": {},
     "output_type": "execute_result"
    }
   ],
   "source": [
    "#One dataframe per country\n",
    "\n",
    "df= pd.read_csv (os.getcwd()+'/Output/GoldDataframe.csv')\n",
    "corr_df = pd.DataFrame()\n",
    "corr_df.index.names = ['Country']\n",
    "aux_df = pd.DataFrame()\n",
    "\n",
    "#List all the countries, none repeated\n",
    "countries = set(df['Country'].to_list())\n",
    "\n",
    "country_dict = {}\n",
    "corr_dict = {}\n",
    "\n",
    "for country in countries:\n",
    "\n",
    "    #Get the DataFrame for a given country\n",
    "    country_df = df.loc[df['Country'] == country]\n",
    "\n",
    "    #Correlation matrix for that country\n",
    "    country_corr_df = country_df.corr()\n",
    "\n",
    "    #Trim it into a single row\n",
    "    country_corr_df = country_corr_df.rename(columns = {'GDP': country}).drop(index = ['Year', 'GDP'])\n",
    "\n",
    "    #Add the row to a new DataFrame with the correlations for each country\n",
    "    corr_df = pd.concat([corr_df, country_corr_df[country]], axis = 1)\n",
    "\n",
    "#Transpose the resulting DataFrame to have the desired format and show it\n",
    "corr_df = corr_df.transpose()\n",
    "corr_df\n"
   ]
  },
  {
   "cell_type": "code",
   "execution_count": 3,
   "metadata": {},
   "outputs": [
    {
     "data": {
      "application/vnd.jupyter.widget-view+json": {
       "model_id": "3f8ef8de83b148a8bb9c8ce35a88bfb5",
       "version_major": 2,
       "version_minor": 0
      },
      "text/plain": [
       "interactive(children=(SelectMultiple(description='Indicator', index=(0,), layout=Layout(height='80px', width='…"
      ]
     },
     "metadata": {},
     "output_type": "display_data"
    },
    {
     "data": {
      "application/vnd.plotly.v1+json": {
       "config": {
        "plotlyServerURL": "https://plot.ly"
       },
       "data": [
        {
         "coloraxis": "coloraxis",
         "geo": "geo",
         "hovertemplate": "index=%{location}<br>AgriShareGDP=%{z}<extra></extra>",
         "locationmode": "country names",
         "locations": [
          "Switzerland",
          "Iceland",
          "Mali",
          "Latvia",
          "Senegal",
          "Somalia",
          "United Arab Emirates",
          "Togo",
          "Egypt",
          "Oman",
          "Thailand",
          "Burkina Faso",
          "Trinidad and Tobago",
          "Honduras",
          "Finland",
          "Germany",
          "Liberia",
          "Gabon",
          "Azerbaijan",
          "France",
          "New Zealand",
          "Philippines",
          "Antigua and Barbuda",
          "Dominica",
          "Slovakia",
          "Fiji",
          "Sudan",
          "Georgia",
          "Myanmar",
          "San Marino",
          "Jordan",
          "Lesotho",
          "Madagascar",
          "Niger",
          "Poland",
          "Seychelles",
          "Ukraine",
          "Liechtenstein",
          "Yemen",
          "Uruguay",
          "Kenya",
          "Argentina",
          "Brazil",
          "Albania",
          "Ecuador",
          "Nauru",
          "Iraq",
          "Greece",
          "Djibouti",
          "Sao Tome and Principe",
          "Kazakhstan",
          "Grenada",
          "Kyrgyzstan",
          "Zimbabwe",
          "Sierra Leone",
          "Ethiopia",
          "Mexico",
          "Angola",
          "South Sudan",
          "Pakistan",
          "Estonia",
          "Solomon Islands",
          "Uzbekistan",
          "Gambia",
          "Czechia",
          "Qatar",
          "Israel",
          "Australia",
          "Zambia",
          "Bahrain",
          "Rwanda",
          "Bhutan",
          "Mozambique",
          "Saint Lucia",
          "Equatorial Guinea",
          "Palau",
          "Suriname",
          "North Macedonia",
          "Cameroon",
          "Nicaragua",
          "Chad",
          "Guyana",
          "Malaysia",
          "Eritrea",
          "Tuvalu",
          "Kiribati",
          "Bosnia and Herzegovina",
          "Armenia",
          "Puerto Rico",
          "South Africa",
          "Jamaica",
          "Bermuda",
          "Romania",
          "Russia",
          "Andorra",
          "Sri Lanka",
          "Marshall Islands",
          "Turkmenistan",
          "Italy",
          "Mauritania",
          "Barbados",
          "United States",
          "Algeria",
          "Eswatini",
          "Congo",
          "Ghana",
          "Tajikistan",
          "Saudi Arabia",
          "Denmark",
          "Guinea",
          "Papua New Guinea",
          "Japan",
          "Nigeria",
          "Guatemala",
          "Greenland",
          "Libya",
          "Sweden",
          "Mauritius",
          "Vanuatu",
          "Aruba",
          "Central African Republic",
          "Montenegro",
          "Cayman Islands",
          "Serbia",
          "Canada",
          "Benin",
          "Ireland",
          "Dominican Republic",
          "Paraguay",
          "Chile",
          "Belgium",
          "Slovenia",
          "French Polynesia",
          "Maldives",
          "Haiti",
          "Tunisia",
          "Indonesia",
          "Kuwait",
          "Malawi",
          "Botswana",
          "Samoa",
          "Mongolia",
          "Namibia",
          "Cyprus",
          "Cambodia",
          "Portugal",
          "Bulgaria",
          "Luxembourg",
          "Comoros",
          "Guinea-Bissau",
          "Hungary",
          "New Caledonia",
          "Burundi",
          "Nepal",
          "Norway",
          "Panama",
          "Tonga",
          "Singapore",
          "United Kingdom",
          "Cuba",
          "Lebanon",
          "Malta",
          "Morocco",
          "Netherlands",
          "India",
          "Austria",
          "Colombia",
          "Bangladesh",
          "Costa Rica",
          "Spain",
          "Afghanistan",
          "Peru",
          "China",
          "Belize",
          "Belarus",
          "Uganda",
          "Croatia",
          "Lithuania",
          "El Salvador"
         ],
         "name": "",
         "type": "choropleth",
         "z": [
          -0.9267462935060482,
          -0.9314906398719144,
          0.8168640617370294,
          -0.7708455187171825,
          -0.06415712286442721,
          -0.08070561376728035,
          -0.9279434164823261,
          -0.8234424931464022,
          -0.5143855567867214,
          -0.30595282970630217,
          0.03681014117421503,
          -0.7751609152889536,
          -0.8083567434722658,
          -0.16265315958888382,
          -0.6844897662727807,
          -0.565806539276942,
          -0.19164420133785307,
          -0.7019760365914864,
          -0.8581621857504442,
          -0.8641423065584387,
          -0.3901300466124,
          -0.8991487437017284,
          0.1240682496625928,
          0.6771268988188248,
          0.546178642978574,
          -0.42454006505696285,
          null,
          -0.9508662246185998,
          -0.9678699960054002,
          0.06584950093930352,
          0.9292437594281578,
          -0.800495784861207,
          -0.8569135424696452,
          -0.4406847469701758,
          -0.5104884920594763,
          -0.7416434293602443,
          -0.7796743745253912,
          -0.7033535847829139,
          0.07771098793417787,
          -0.5769315589389916,
          0.929395604705077,
          -0.5034609536804338,
          -0.6824726955116254,
          -0.7213763707469719,
          -0.7215009939786482,
          -0.9432697722260653,
          -0.7932788342898283,
          -0.8541526771526231,
          -0.9037244864916116,
          -0.7292752475891066,
          -0.9136350482950665,
          0.16028226101681153,
          -0.8310736040825246,
          -0.674981469076645,
          0.6343035981396866,
          -0.7427944720312178,
          -0.15110982788610094,
          0.24450512087313336,
          null,
          -0.3564374169269262,
          -0.630469765190067,
          -0.3991969835189398,
          -0.8332276663583743,
          -0.5040785343058328,
          -0.6222328038675436,
          -0.5437859823468949,
          -0.7777787590746487,
          -0.7812355938750303,
          -0.8459189655045559,
          -0.7800474945395834,
          -0.8203148473144741,
          -0.8025977498851751,
          0.5677661615395543,
          -0.8437032161877829,
          -0.8486192959235674,
          -0.9558679200949804,
          -0.8018750496047906,
          -0.4533358395612625,
          -0.18613061166870498,
          -0.3141050792765419,
          -0.5438517653153988,
          -0.8095978580774993,
          -0.05799405968765384,
          0.08233872730476581,
          0.2001302170135677,
          0.6441786963795697,
          -0.890388711927548,
          -0.8594781938426445,
          0.5731166325165244,
          -0.8427968232002708,
          0.3936404788192563,
          -0.8521168107283245,
          -0.9374688324008857,
          -0.9306417343797083,
          0.03750664329868265,
          -0.6031364214233185,
          0.7356448962507441,
          -0.9165808027323511,
          -0.8820808398131004,
          -0.6962296775129467,
          -0.8935594731221601,
          -0.169931328254077,
          0.13775097173642994,
          -0.8020291724807224,
          -0.6362752332249866,
          -0.8986316649951261,
          -0.11816046448941489,
          -0.8954205369814583,
          -0.768554121585154,
          0.4981590975526931,
          -0.9062326254496571,
          -0.4918021235272721,
          -0.7416626489049046,
          -0.910783581293827,
          0.015425452701193196,
          -0.535871362042077,
          -0.6939308578106985,
          -0.9680608365989137,
          -0.18856175434640862,
          0.3741649727817593,
          -0.6508918168523262,
          -0.9250468161036534,
          0.8329453438889185,
          -0.7938048760063402,
          -0.6032401543385976,
          0.5585501439003824,
          -0.7218655963258508,
          -0.8988548560906199,
          0.12020046388224769,
          -0.8374628674303137,
          -0.9291809511372993,
          -0.8631718214807295,
          -0.833534845066142,
          -0.35871070546205086,
          -0.5119431587894402,
          -0.11240984433863804,
          -0.052732060454409355,
          -0.216973472969378,
          -0.839805329038585,
          -0.5247023240976855,
          -0.9520872058064423,
          -0.8355217345279581,
          -0.7955630866641139,
          -0.9199037030067883,
          -0.8189385846768551,
          -0.9370489810725439,
          -0.9575448068063352,
          -0.9084049485084351,
          -0.5927549619729722,
          0.41629981975830316,
          -0.7856366651656908,
          -0.5905723882687031,
          -0.3496495655232733,
          -0.8758891199022157,
          -0.14353291554326994,
          -0.9325517979342587,
          -0.1788512484648285,
          -0.8927550621050807,
          -0.716390085534926,
          -0.7411778615096978,
          -0.503101313242976,
          -0.9712198891595265,
          -0.42151315976729525,
          -0.9279197943938866,
          -0.700649507092263,
          -0.8285363932508436,
          -0.9287236078660797,
          -0.9076013100731348,
          -0.9836031733548807,
          -0.9246020681684352,
          -0.8702332125359779,
          -0.322646527474029,
          null,
          -0.6064329687837003,
          -0.7406875567638112,
          -0.5524986567664869,
          -0.713594624166334,
          -0.8353353151260893,
          -0.4863337520474014
         ]
        }
       ],
       "layout": {
        "coloraxis": {
         "colorbar": {
          "title": {
           "text": "AgriShareGDP"
          }
         },
         "colorscale": [
          [
           0,
           "rgb(255,245,240)"
          ],
          [
           0.125,
           "rgb(254,224,210)"
          ],
          [
           0.25,
           "rgb(252,187,161)"
          ],
          [
           0.375,
           "rgb(252,146,114)"
          ],
          [
           0.5,
           "rgb(251,106,74)"
          ],
          [
           0.625,
           "rgb(239,59,44)"
          ],
          [
           0.75,
           "rgb(203,24,29)"
          ],
          [
           0.875,
           "rgb(165,15,21)"
          ],
          [
           1,
           "rgb(103,0,13)"
          ]
         ],
         "showscale": true
        },
        "geo": {
         "center": {},
         "domain": {
          "x": [
           0,
           1
          ],
          "y": [
           0,
           1
          ]
         },
         "projection": {
          "type": "natural earth"
         }
        },
        "height": 500,
        "legend": {
         "tracegroupgap": 0
        },
        "margin": {
         "t": 60
        },
        "template": {
         "data": {
          "bar": [
           {
            "error_x": {
             "color": "#2a3f5f"
            },
            "error_y": {
             "color": "#2a3f5f"
            },
            "marker": {
             "line": {
              "color": "#E5ECF6",
              "width": 0.5
             },
             "pattern": {
              "fillmode": "overlay",
              "size": 10,
              "solidity": 0.2
             }
            },
            "type": "bar"
           }
          ],
          "barpolar": [
           {
            "marker": {
             "line": {
              "color": "#E5ECF6",
              "width": 0.5
             },
             "pattern": {
              "fillmode": "overlay",
              "size": 10,
              "solidity": 0.2
             }
            },
            "type": "barpolar"
           }
          ],
          "carpet": [
           {
            "aaxis": {
             "endlinecolor": "#2a3f5f",
             "gridcolor": "white",
             "linecolor": "white",
             "minorgridcolor": "white",
             "startlinecolor": "#2a3f5f"
            },
            "baxis": {
             "endlinecolor": "#2a3f5f",
             "gridcolor": "white",
             "linecolor": "white",
             "minorgridcolor": "white",
             "startlinecolor": "#2a3f5f"
            },
            "type": "carpet"
           }
          ],
          "choropleth": [
           {
            "colorbar": {
             "outlinewidth": 0,
             "ticks": ""
            },
            "type": "choropleth"
           }
          ],
          "contour": [
           {
            "colorbar": {
             "outlinewidth": 0,
             "ticks": ""
            },
            "colorscale": [
             [
              0,
              "#0d0887"
             ],
             [
              0.1111111111111111,
              "#46039f"
             ],
             [
              0.2222222222222222,
              "#7201a8"
             ],
             [
              0.3333333333333333,
              "#9c179e"
             ],
             [
              0.4444444444444444,
              "#bd3786"
             ],
             [
              0.5555555555555556,
              "#d8576b"
             ],
             [
              0.6666666666666666,
              "#ed7953"
             ],
             [
              0.7777777777777778,
              "#fb9f3a"
             ],
             [
              0.8888888888888888,
              "#fdca26"
             ],
             [
              1,
              "#f0f921"
             ]
            ],
            "type": "contour"
           }
          ],
          "contourcarpet": [
           {
            "colorbar": {
             "outlinewidth": 0,
             "ticks": ""
            },
            "type": "contourcarpet"
           }
          ],
          "heatmap": [
           {
            "colorbar": {
             "outlinewidth": 0,
             "ticks": ""
            },
            "colorscale": [
             [
              0,
              "#0d0887"
             ],
             [
              0.1111111111111111,
              "#46039f"
             ],
             [
              0.2222222222222222,
              "#7201a8"
             ],
             [
              0.3333333333333333,
              "#9c179e"
             ],
             [
              0.4444444444444444,
              "#bd3786"
             ],
             [
              0.5555555555555556,
              "#d8576b"
             ],
             [
              0.6666666666666666,
              "#ed7953"
             ],
             [
              0.7777777777777778,
              "#fb9f3a"
             ],
             [
              0.8888888888888888,
              "#fdca26"
             ],
             [
              1,
              "#f0f921"
             ]
            ],
            "type": "heatmap"
           }
          ],
          "heatmapgl": [
           {
            "colorbar": {
             "outlinewidth": 0,
             "ticks": ""
            },
            "colorscale": [
             [
              0,
              "#0d0887"
             ],
             [
              0.1111111111111111,
              "#46039f"
             ],
             [
              0.2222222222222222,
              "#7201a8"
             ],
             [
              0.3333333333333333,
              "#9c179e"
             ],
             [
              0.4444444444444444,
              "#bd3786"
             ],
             [
              0.5555555555555556,
              "#d8576b"
             ],
             [
              0.6666666666666666,
              "#ed7953"
             ],
             [
              0.7777777777777778,
              "#fb9f3a"
             ],
             [
              0.8888888888888888,
              "#fdca26"
             ],
             [
              1,
              "#f0f921"
             ]
            ],
            "type": "heatmapgl"
           }
          ],
          "histogram": [
           {
            "marker": {
             "pattern": {
              "fillmode": "overlay",
              "size": 10,
              "solidity": 0.2
             }
            },
            "type": "histogram"
           }
          ],
          "histogram2d": [
           {
            "colorbar": {
             "outlinewidth": 0,
             "ticks": ""
            },
            "colorscale": [
             [
              0,
              "#0d0887"
             ],
             [
              0.1111111111111111,
              "#46039f"
             ],
             [
              0.2222222222222222,
              "#7201a8"
             ],
             [
              0.3333333333333333,
              "#9c179e"
             ],
             [
              0.4444444444444444,
              "#bd3786"
             ],
             [
              0.5555555555555556,
              "#d8576b"
             ],
             [
              0.6666666666666666,
              "#ed7953"
             ],
             [
              0.7777777777777778,
              "#fb9f3a"
             ],
             [
              0.8888888888888888,
              "#fdca26"
             ],
             [
              1,
              "#f0f921"
             ]
            ],
            "type": "histogram2d"
           }
          ],
          "histogram2dcontour": [
           {
            "colorbar": {
             "outlinewidth": 0,
             "ticks": ""
            },
            "colorscale": [
             [
              0,
              "#0d0887"
             ],
             [
              0.1111111111111111,
              "#46039f"
             ],
             [
              0.2222222222222222,
              "#7201a8"
             ],
             [
              0.3333333333333333,
              "#9c179e"
             ],
             [
              0.4444444444444444,
              "#bd3786"
             ],
             [
              0.5555555555555556,
              "#d8576b"
             ],
             [
              0.6666666666666666,
              "#ed7953"
             ],
             [
              0.7777777777777778,
              "#fb9f3a"
             ],
             [
              0.8888888888888888,
              "#fdca26"
             ],
             [
              1,
              "#f0f921"
             ]
            ],
            "type": "histogram2dcontour"
           }
          ],
          "mesh3d": [
           {
            "colorbar": {
             "outlinewidth": 0,
             "ticks": ""
            },
            "type": "mesh3d"
           }
          ],
          "parcoords": [
           {
            "line": {
             "colorbar": {
              "outlinewidth": 0,
              "ticks": ""
             }
            },
            "type": "parcoords"
           }
          ],
          "pie": [
           {
            "automargin": true,
            "type": "pie"
           }
          ],
          "scatter": [
           {
            "fillpattern": {
             "fillmode": "overlay",
             "size": 10,
             "solidity": 0.2
            },
            "type": "scatter"
           }
          ],
          "scatter3d": [
           {
            "line": {
             "colorbar": {
              "outlinewidth": 0,
              "ticks": ""
             }
            },
            "marker": {
             "colorbar": {
              "outlinewidth": 0,
              "ticks": ""
             }
            },
            "type": "scatter3d"
           }
          ],
          "scattercarpet": [
           {
            "marker": {
             "colorbar": {
              "outlinewidth": 0,
              "ticks": ""
             }
            },
            "type": "scattercarpet"
           }
          ],
          "scattergeo": [
           {
            "marker": {
             "colorbar": {
              "outlinewidth": 0,
              "ticks": ""
             }
            },
            "type": "scattergeo"
           }
          ],
          "scattergl": [
           {
            "marker": {
             "colorbar": {
              "outlinewidth": 0,
              "ticks": ""
             }
            },
            "type": "scattergl"
           }
          ],
          "scattermapbox": [
           {
            "marker": {
             "colorbar": {
              "outlinewidth": 0,
              "ticks": ""
             }
            },
            "type": "scattermapbox"
           }
          ],
          "scatterpolar": [
           {
            "marker": {
             "colorbar": {
              "outlinewidth": 0,
              "ticks": ""
             }
            },
            "type": "scatterpolar"
           }
          ],
          "scatterpolargl": [
           {
            "marker": {
             "colorbar": {
              "outlinewidth": 0,
              "ticks": ""
             }
            },
            "type": "scatterpolargl"
           }
          ],
          "scatterternary": [
           {
            "marker": {
             "colorbar": {
              "outlinewidth": 0,
              "ticks": ""
             }
            },
            "type": "scatterternary"
           }
          ],
          "surface": [
           {
            "colorbar": {
             "outlinewidth": 0,
             "ticks": ""
            },
            "colorscale": [
             [
              0,
              "#0d0887"
             ],
             [
              0.1111111111111111,
              "#46039f"
             ],
             [
              0.2222222222222222,
              "#7201a8"
             ],
             [
              0.3333333333333333,
              "#9c179e"
             ],
             [
              0.4444444444444444,
              "#bd3786"
             ],
             [
              0.5555555555555556,
              "#d8576b"
             ],
             [
              0.6666666666666666,
              "#ed7953"
             ],
             [
              0.7777777777777778,
              "#fb9f3a"
             ],
             [
              0.8888888888888888,
              "#fdca26"
             ],
             [
              1,
              "#f0f921"
             ]
            ],
            "type": "surface"
           }
          ],
          "table": [
           {
            "cells": {
             "fill": {
              "color": "#EBF0F8"
             },
             "line": {
              "color": "white"
             }
            },
            "header": {
             "fill": {
              "color": "#C8D4E3"
             },
             "line": {
              "color": "white"
             }
            },
            "type": "table"
           }
          ]
         },
         "layout": {
          "annotationdefaults": {
           "arrowcolor": "#2a3f5f",
           "arrowhead": 0,
           "arrowwidth": 1
          },
          "autotypenumbers": "strict",
          "coloraxis": {
           "colorbar": {
            "outlinewidth": 0,
            "ticks": ""
           }
          },
          "colorscale": {
           "diverging": [
            [
             0,
             "#8e0152"
            ],
            [
             0.1,
             "#c51b7d"
            ],
            [
             0.2,
             "#de77ae"
            ],
            [
             0.3,
             "#f1b6da"
            ],
            [
             0.4,
             "#fde0ef"
            ],
            [
             0.5,
             "#f7f7f7"
            ],
            [
             0.6,
             "#e6f5d0"
            ],
            [
             0.7,
             "#b8e186"
            ],
            [
             0.8,
             "#7fbc41"
            ],
            [
             0.9,
             "#4d9221"
            ],
            [
             1,
             "#276419"
            ]
           ],
           "sequential": [
            [
             0,
             "#0d0887"
            ],
            [
             0.1111111111111111,
             "#46039f"
            ],
            [
             0.2222222222222222,
             "#7201a8"
            ],
            [
             0.3333333333333333,
             "#9c179e"
            ],
            [
             0.4444444444444444,
             "#bd3786"
            ],
            [
             0.5555555555555556,
             "#d8576b"
            ],
            [
             0.6666666666666666,
             "#ed7953"
            ],
            [
             0.7777777777777778,
             "#fb9f3a"
            ],
            [
             0.8888888888888888,
             "#fdca26"
            ],
            [
             1,
             "#f0f921"
            ]
           ],
           "sequentialminus": [
            [
             0,
             "#0d0887"
            ],
            [
             0.1111111111111111,
             "#46039f"
            ],
            [
             0.2222222222222222,
             "#7201a8"
            ],
            [
             0.3333333333333333,
             "#9c179e"
            ],
            [
             0.4444444444444444,
             "#bd3786"
            ],
            [
             0.5555555555555556,
             "#d8576b"
            ],
            [
             0.6666666666666666,
             "#ed7953"
            ],
            [
             0.7777777777777778,
             "#fb9f3a"
            ],
            [
             0.8888888888888888,
             "#fdca26"
            ],
            [
             1,
             "#f0f921"
            ]
           ]
          },
          "colorway": [
           "#636efa",
           "#EF553B",
           "#00cc96",
           "#ab63fa",
           "#FFA15A",
           "#19d3f3",
           "#FF6692",
           "#B6E880",
           "#FF97FF",
           "#FECB52"
          ],
          "font": {
           "color": "#2a3f5f"
          },
          "geo": {
           "bgcolor": "white",
           "lakecolor": "white",
           "landcolor": "#E5ECF6",
           "showlakes": true,
           "showland": true,
           "subunitcolor": "white"
          },
          "hoverlabel": {
           "align": "left"
          },
          "hovermode": "closest",
          "mapbox": {
           "style": "light"
          },
          "paper_bgcolor": "white",
          "plot_bgcolor": "#E5ECF6",
          "polar": {
           "angularaxis": {
            "gridcolor": "white",
            "linecolor": "white",
            "ticks": ""
           },
           "bgcolor": "#E5ECF6",
           "radialaxis": {
            "gridcolor": "white",
            "linecolor": "white",
            "ticks": ""
           }
          },
          "scene": {
           "xaxis": {
            "backgroundcolor": "#E5ECF6",
            "gridcolor": "white",
            "gridwidth": 2,
            "linecolor": "white",
            "showbackground": true,
            "ticks": "",
            "zerolinecolor": "white"
           },
           "yaxis": {
            "backgroundcolor": "#E5ECF6",
            "gridcolor": "white",
            "gridwidth": 2,
            "linecolor": "white",
            "showbackground": true,
            "ticks": "",
            "zerolinecolor": "white"
           },
           "zaxis": {
            "backgroundcolor": "#E5ECF6",
            "gridcolor": "white",
            "gridwidth": 2,
            "linecolor": "white",
            "showbackground": true,
            "ticks": "",
            "zerolinecolor": "white"
           }
          },
          "shapedefaults": {
           "line": {
            "color": "#2a3f5f"
           }
          },
          "ternary": {
           "aaxis": {
            "gridcolor": "white",
            "linecolor": "white",
            "ticks": ""
           },
           "baxis": {
            "gridcolor": "white",
            "linecolor": "white",
            "ticks": ""
           },
           "bgcolor": "#E5ECF6",
           "caxis": {
            "gridcolor": "white",
            "linecolor": "white",
            "ticks": ""
           }
          },
          "title": {
           "x": 0.05
          },
          "xaxis": {
           "automargin": true,
           "gridcolor": "white",
           "linecolor": "white",
           "ticks": "",
           "title": {
            "standoff": 15
           },
           "zerolinecolor": "white",
           "zerolinewidth": 2
          },
          "yaxis": {
           "automargin": true,
           "gridcolor": "white",
           "linecolor": "white",
           "ticks": "",
           "title": {
            "standoff": 15
           },
           "zerolinecolor": "white",
           "zerolinewidth": 2
          }
         }
        },
        "width": 700
       }
      }
     },
     "metadata": {},
     "output_type": "display_data"
    },
    {
     "data": {
      "application/vnd.plotly.v1+json": {
       "config": {
        "plotlyServerURL": "https://plot.ly"
       },
       "data": [
        {
         "coloraxis": "coloraxis",
         "geo": "geo",
         "hovertemplate": "index=%{location}<br>CreditToAgriFishForest=%{z}<extra></extra>",
         "locationmode": "country names",
         "locations": [
          "Switzerland",
          "Iceland",
          "Mali",
          "Latvia",
          "Senegal",
          "Somalia",
          "United Arab Emirates",
          "Togo",
          "Egypt",
          "Oman",
          "Thailand",
          "Burkina Faso",
          "Trinidad and Tobago",
          "Honduras",
          "Finland",
          "Germany",
          "Liberia",
          "Gabon",
          "Azerbaijan",
          "France",
          "New Zealand",
          "Philippines",
          "Antigua and Barbuda",
          "Dominica",
          "Slovakia",
          "Fiji",
          "Sudan",
          "Georgia",
          "Myanmar",
          "San Marino",
          "Jordan",
          "Lesotho",
          "Madagascar",
          "Niger",
          "Poland",
          "Seychelles",
          "Ukraine",
          "Liechtenstein",
          "Yemen",
          "Uruguay",
          "Kenya",
          "Argentina",
          "Brazil",
          "Albania",
          "Ecuador",
          "Nauru",
          "Iraq",
          "Greece",
          "Djibouti",
          "Sao Tome and Principe",
          "Kazakhstan",
          "Grenada",
          "Kyrgyzstan",
          "Zimbabwe",
          "Sierra Leone",
          "Ethiopia",
          "Mexico",
          "Angola",
          "South Sudan",
          "Pakistan",
          "Estonia",
          "Solomon Islands",
          "Uzbekistan",
          "Gambia",
          "Czechia",
          "Qatar",
          "Israel",
          "Australia",
          "Zambia",
          "Bahrain",
          "Rwanda",
          "Bhutan",
          "Mozambique",
          "Saint Lucia",
          "Equatorial Guinea",
          "Palau",
          "Suriname",
          "North Macedonia",
          "Cameroon",
          "Nicaragua",
          "Chad",
          "Guyana",
          "Malaysia",
          "Eritrea",
          "Tuvalu",
          "Kiribati",
          "Bosnia and Herzegovina",
          "Armenia",
          "Puerto Rico",
          "South Africa",
          "Jamaica",
          "Bermuda",
          "Romania",
          "Russia",
          "Andorra",
          "Sri Lanka",
          "Marshall Islands",
          "Turkmenistan",
          "Italy",
          "Mauritania",
          "Barbados",
          "United States",
          "Algeria",
          "Eswatini",
          "Congo",
          "Ghana",
          "Tajikistan",
          "Saudi Arabia",
          "Denmark",
          "Guinea",
          "Papua New Guinea",
          "Japan",
          "Nigeria",
          "Guatemala",
          "Greenland",
          "Libya",
          "Sweden",
          "Mauritius",
          "Vanuatu",
          "Aruba",
          "Central African Republic",
          "Montenegro",
          "Cayman Islands",
          "Serbia",
          "Canada",
          "Benin",
          "Ireland",
          "Dominican Republic",
          "Paraguay",
          "Chile",
          "Belgium",
          "Slovenia",
          "French Polynesia",
          "Maldives",
          "Haiti",
          "Tunisia",
          "Indonesia",
          "Kuwait",
          "Malawi",
          "Botswana",
          "Samoa",
          "Mongolia",
          "Namibia",
          "Cyprus",
          "Cambodia",
          "Portugal",
          "Bulgaria",
          "Luxembourg",
          "Comoros",
          "Guinea-Bissau",
          "Hungary",
          "New Caledonia",
          "Burundi",
          "Nepal",
          "Norway",
          "Panama",
          "Tonga",
          "Singapore",
          "United Kingdom",
          "Cuba",
          "Lebanon",
          "Malta",
          "Morocco",
          "Netherlands",
          "India",
          "Austria",
          "Colombia",
          "Bangladesh",
          "Costa Rica",
          "Spain",
          "Afghanistan",
          "Peru",
          "China",
          "Belize",
          "Belarus",
          "Uganda",
          "Croatia",
          "Lithuania",
          "El Salvador"
         ],
         "name": "",
         "type": "choropleth",
         "z": [
          0.8999813248162657,
          null,
          -0.7460816229129099,
          null,
          -0.7493581684819507,
          null,
          -0.4931984424481016,
          -0.247212516017317,
          -0.411246790255525,
          -0.5838336500330908,
          -0.9196428157629646,
          0.04566866010660209,
          -0.3933068354319681,
          null,
          null,
          0.7104906334831517,
          -0.6022476144042235,
          null,
          null,
          null,
          0.14287531570872425,
          -0.33277079707924456,
          -0.8892628959588543,
          -0.954508928690658,
          null,
          null,
          null,
          0.6849070971939557,
          null,
          null,
          -0.8285799429080696,
          null,
          null,
          -0.2595515945209502,
          null,
          0.47976096103112714,
          0.7818974930456046,
          null,
          0.27744240115229657,
          0.8909546319746129,
          -0.9200206132603012,
          0.6569280963188493,
          null,
          null,
          null,
          null,
          null,
          0.11422203426617263,
          null,
          null,
          null,
          -0.21715207089995825,
          0.9336426299936343,
          null,
          null,
          -0.04539854380339551,
          -0.448392204653899,
          null,
          null,
          -0.793539967814305,
          0.732152239417799,
          null,
          null,
          -0.35333571086151366,
          0.49280665842746174,
          null,
          -0.34580966718708483,
          0.4422633627359654,
          0.5644093994679781,
          -0.7029047131171181,
          0.06750542189460061,
          0.7692262574440174,
          -0.8576282054745212,
          -0.9090622462835486,
          null,
          null,
          null,
          null,
          null,
          -0.8278284095731483,
          null,
          0.09410397738513934,
          0.0551444475767744,
          null,
          null,
          null,
          null,
          -0.70808161025699,
          null,
          null,
          -0.439285324933764,
          null,
          null,
          null,
          null,
          0.6926314009311343,
          null,
          null,
          0.6006149529789273,
          null,
          -0.8261027244393941,
          -0.5354189603915989,
          null,
          null,
          null,
          -0.4724730450639176,
          null,
          null,
          null,
          null,
          -0.8859160807868339,
          null,
          -0.19725370042021925,
          -0.3307810202935166,
          null,
          null,
          null,
          null,
          -0.5078103653851948,
          -0.6035235084099436,
          null,
          null,
          null,
          null,
          -0.6646598308912942,
          -0.28636763851722263,
          0.7572809844189238,
          -0.6416929615788532,
          null,
          null,
          0.3227728093727439,
          null,
          null,
          -0.7744288683794273,
          null,
          -0.4442901604332387,
          0.2800001911428402,
          null,
          0.7386183638393763,
          0.7509772781252904,
          null,
          null,
          null,
          null,
          0.9294647194357494,
          null,
          0.8380027932950582,
          null,
          null,
          0.08634623959195754,
          -0.32982029989669265,
          null,
          null,
          0.8882412434772567,
          null,
          0.9654877690168013,
          null,
          0.7713694782192423,
          0.35841623999294947,
          null,
          null,
          null,
          null,
          null,
          0.8386532973126469,
          null,
          null,
          -0.5996050512175426,
          0.38516870153562416,
          -0.08220693589089334,
          null,
          null,
          null,
          0.5856566463302867,
          0.17976552163587411,
          0.4573824780751864,
          null,
          null,
          -0.6337265100134011
         ]
        }
       ],
       "layout": {
        "coloraxis": {
         "colorbar": {
          "title": {
           "text": "CreditToAgriFishForest"
          }
         },
         "colorscale": [
          [
           0,
           "rgb(255,245,240)"
          ],
          [
           0.125,
           "rgb(254,224,210)"
          ],
          [
           0.25,
           "rgb(252,187,161)"
          ],
          [
           0.375,
           "rgb(252,146,114)"
          ],
          [
           0.5,
           "rgb(251,106,74)"
          ],
          [
           0.625,
           "rgb(239,59,44)"
          ],
          [
           0.75,
           "rgb(203,24,29)"
          ],
          [
           0.875,
           "rgb(165,15,21)"
          ],
          [
           1,
           "rgb(103,0,13)"
          ]
         ],
         "showscale": true
        },
        "geo": {
         "center": {},
         "domain": {
          "x": [
           0,
           1
          ],
          "y": [
           0,
           1
          ]
         },
         "projection": {
          "type": "natural earth"
         }
        },
        "height": 500,
        "legend": {
         "tracegroupgap": 0
        },
        "margin": {
         "t": 60
        },
        "template": {
         "data": {
          "bar": [
           {
            "error_x": {
             "color": "#2a3f5f"
            },
            "error_y": {
             "color": "#2a3f5f"
            },
            "marker": {
             "line": {
              "color": "#E5ECF6",
              "width": 0.5
             },
             "pattern": {
              "fillmode": "overlay",
              "size": 10,
              "solidity": 0.2
             }
            },
            "type": "bar"
           }
          ],
          "barpolar": [
           {
            "marker": {
             "line": {
              "color": "#E5ECF6",
              "width": 0.5
             },
             "pattern": {
              "fillmode": "overlay",
              "size": 10,
              "solidity": 0.2
             }
            },
            "type": "barpolar"
           }
          ],
          "carpet": [
           {
            "aaxis": {
             "endlinecolor": "#2a3f5f",
             "gridcolor": "white",
             "linecolor": "white",
             "minorgridcolor": "white",
             "startlinecolor": "#2a3f5f"
            },
            "baxis": {
             "endlinecolor": "#2a3f5f",
             "gridcolor": "white",
             "linecolor": "white",
             "minorgridcolor": "white",
             "startlinecolor": "#2a3f5f"
            },
            "type": "carpet"
           }
          ],
          "choropleth": [
           {
            "colorbar": {
             "outlinewidth": 0,
             "ticks": ""
            },
            "type": "choropleth"
           }
          ],
          "contour": [
           {
            "colorbar": {
             "outlinewidth": 0,
             "ticks": ""
            },
            "colorscale": [
             [
              0,
              "#0d0887"
             ],
             [
              0.1111111111111111,
              "#46039f"
             ],
             [
              0.2222222222222222,
              "#7201a8"
             ],
             [
              0.3333333333333333,
              "#9c179e"
             ],
             [
              0.4444444444444444,
              "#bd3786"
             ],
             [
              0.5555555555555556,
              "#d8576b"
             ],
             [
              0.6666666666666666,
              "#ed7953"
             ],
             [
              0.7777777777777778,
              "#fb9f3a"
             ],
             [
              0.8888888888888888,
              "#fdca26"
             ],
             [
              1,
              "#f0f921"
             ]
            ],
            "type": "contour"
           }
          ],
          "contourcarpet": [
           {
            "colorbar": {
             "outlinewidth": 0,
             "ticks": ""
            },
            "type": "contourcarpet"
           }
          ],
          "heatmap": [
           {
            "colorbar": {
             "outlinewidth": 0,
             "ticks": ""
            },
            "colorscale": [
             [
              0,
              "#0d0887"
             ],
             [
              0.1111111111111111,
              "#46039f"
             ],
             [
              0.2222222222222222,
              "#7201a8"
             ],
             [
              0.3333333333333333,
              "#9c179e"
             ],
             [
              0.4444444444444444,
              "#bd3786"
             ],
             [
              0.5555555555555556,
              "#d8576b"
             ],
             [
              0.6666666666666666,
              "#ed7953"
             ],
             [
              0.7777777777777778,
              "#fb9f3a"
             ],
             [
              0.8888888888888888,
              "#fdca26"
             ],
             [
              1,
              "#f0f921"
             ]
            ],
            "type": "heatmap"
           }
          ],
          "heatmapgl": [
           {
            "colorbar": {
             "outlinewidth": 0,
             "ticks": ""
            },
            "colorscale": [
             [
              0,
              "#0d0887"
             ],
             [
              0.1111111111111111,
              "#46039f"
             ],
             [
              0.2222222222222222,
              "#7201a8"
             ],
             [
              0.3333333333333333,
              "#9c179e"
             ],
             [
              0.4444444444444444,
              "#bd3786"
             ],
             [
              0.5555555555555556,
              "#d8576b"
             ],
             [
              0.6666666666666666,
              "#ed7953"
             ],
             [
              0.7777777777777778,
              "#fb9f3a"
             ],
             [
              0.8888888888888888,
              "#fdca26"
             ],
             [
              1,
              "#f0f921"
             ]
            ],
            "type": "heatmapgl"
           }
          ],
          "histogram": [
           {
            "marker": {
             "pattern": {
              "fillmode": "overlay",
              "size": 10,
              "solidity": 0.2
             }
            },
            "type": "histogram"
           }
          ],
          "histogram2d": [
           {
            "colorbar": {
             "outlinewidth": 0,
             "ticks": ""
            },
            "colorscale": [
             [
              0,
              "#0d0887"
             ],
             [
              0.1111111111111111,
              "#46039f"
             ],
             [
              0.2222222222222222,
              "#7201a8"
             ],
             [
              0.3333333333333333,
              "#9c179e"
             ],
             [
              0.4444444444444444,
              "#bd3786"
             ],
             [
              0.5555555555555556,
              "#d8576b"
             ],
             [
              0.6666666666666666,
              "#ed7953"
             ],
             [
              0.7777777777777778,
              "#fb9f3a"
             ],
             [
              0.8888888888888888,
              "#fdca26"
             ],
             [
              1,
              "#f0f921"
             ]
            ],
            "type": "histogram2d"
           }
          ],
          "histogram2dcontour": [
           {
            "colorbar": {
             "outlinewidth": 0,
             "ticks": ""
            },
            "colorscale": [
             [
              0,
              "#0d0887"
             ],
             [
              0.1111111111111111,
              "#46039f"
             ],
             [
              0.2222222222222222,
              "#7201a8"
             ],
             [
              0.3333333333333333,
              "#9c179e"
             ],
             [
              0.4444444444444444,
              "#bd3786"
             ],
             [
              0.5555555555555556,
              "#d8576b"
             ],
             [
              0.6666666666666666,
              "#ed7953"
             ],
             [
              0.7777777777777778,
              "#fb9f3a"
             ],
             [
              0.8888888888888888,
              "#fdca26"
             ],
             [
              1,
              "#f0f921"
             ]
            ],
            "type": "histogram2dcontour"
           }
          ],
          "mesh3d": [
           {
            "colorbar": {
             "outlinewidth": 0,
             "ticks": ""
            },
            "type": "mesh3d"
           }
          ],
          "parcoords": [
           {
            "line": {
             "colorbar": {
              "outlinewidth": 0,
              "ticks": ""
             }
            },
            "type": "parcoords"
           }
          ],
          "pie": [
           {
            "automargin": true,
            "type": "pie"
           }
          ],
          "scatter": [
           {
            "fillpattern": {
             "fillmode": "overlay",
             "size": 10,
             "solidity": 0.2
            },
            "type": "scatter"
           }
          ],
          "scatter3d": [
           {
            "line": {
             "colorbar": {
              "outlinewidth": 0,
              "ticks": ""
             }
            },
            "marker": {
             "colorbar": {
              "outlinewidth": 0,
              "ticks": ""
             }
            },
            "type": "scatter3d"
           }
          ],
          "scattercarpet": [
           {
            "marker": {
             "colorbar": {
              "outlinewidth": 0,
              "ticks": ""
             }
            },
            "type": "scattercarpet"
           }
          ],
          "scattergeo": [
           {
            "marker": {
             "colorbar": {
              "outlinewidth": 0,
              "ticks": ""
             }
            },
            "type": "scattergeo"
           }
          ],
          "scattergl": [
           {
            "marker": {
             "colorbar": {
              "outlinewidth": 0,
              "ticks": ""
             }
            },
            "type": "scattergl"
           }
          ],
          "scattermapbox": [
           {
            "marker": {
             "colorbar": {
              "outlinewidth": 0,
              "ticks": ""
             }
            },
            "type": "scattermapbox"
           }
          ],
          "scatterpolar": [
           {
            "marker": {
             "colorbar": {
              "outlinewidth": 0,
              "ticks": ""
             }
            },
            "type": "scatterpolar"
           }
          ],
          "scatterpolargl": [
           {
            "marker": {
             "colorbar": {
              "outlinewidth": 0,
              "ticks": ""
             }
            },
            "type": "scatterpolargl"
           }
          ],
          "scatterternary": [
           {
            "marker": {
             "colorbar": {
              "outlinewidth": 0,
              "ticks": ""
             }
            },
            "type": "scatterternary"
           }
          ],
          "surface": [
           {
            "colorbar": {
             "outlinewidth": 0,
             "ticks": ""
            },
            "colorscale": [
             [
              0,
              "#0d0887"
             ],
             [
              0.1111111111111111,
              "#46039f"
             ],
             [
              0.2222222222222222,
              "#7201a8"
             ],
             [
              0.3333333333333333,
              "#9c179e"
             ],
             [
              0.4444444444444444,
              "#bd3786"
             ],
             [
              0.5555555555555556,
              "#d8576b"
             ],
             [
              0.6666666666666666,
              "#ed7953"
             ],
             [
              0.7777777777777778,
              "#fb9f3a"
             ],
             [
              0.8888888888888888,
              "#fdca26"
             ],
             [
              1,
              "#f0f921"
             ]
            ],
            "type": "surface"
           }
          ],
          "table": [
           {
            "cells": {
             "fill": {
              "color": "#EBF0F8"
             },
             "line": {
              "color": "white"
             }
            },
            "header": {
             "fill": {
              "color": "#C8D4E3"
             },
             "line": {
              "color": "white"
             }
            },
            "type": "table"
           }
          ]
         },
         "layout": {
          "annotationdefaults": {
           "arrowcolor": "#2a3f5f",
           "arrowhead": 0,
           "arrowwidth": 1
          },
          "autotypenumbers": "strict",
          "coloraxis": {
           "colorbar": {
            "outlinewidth": 0,
            "ticks": ""
           }
          },
          "colorscale": {
           "diverging": [
            [
             0,
             "#8e0152"
            ],
            [
             0.1,
             "#c51b7d"
            ],
            [
             0.2,
             "#de77ae"
            ],
            [
             0.3,
             "#f1b6da"
            ],
            [
             0.4,
             "#fde0ef"
            ],
            [
             0.5,
             "#f7f7f7"
            ],
            [
             0.6,
             "#e6f5d0"
            ],
            [
             0.7,
             "#b8e186"
            ],
            [
             0.8,
             "#7fbc41"
            ],
            [
             0.9,
             "#4d9221"
            ],
            [
             1,
             "#276419"
            ]
           ],
           "sequential": [
            [
             0,
             "#0d0887"
            ],
            [
             0.1111111111111111,
             "#46039f"
            ],
            [
             0.2222222222222222,
             "#7201a8"
            ],
            [
             0.3333333333333333,
             "#9c179e"
            ],
            [
             0.4444444444444444,
             "#bd3786"
            ],
            [
             0.5555555555555556,
             "#d8576b"
            ],
            [
             0.6666666666666666,
             "#ed7953"
            ],
            [
             0.7777777777777778,
             "#fb9f3a"
            ],
            [
             0.8888888888888888,
             "#fdca26"
            ],
            [
             1,
             "#f0f921"
            ]
           ],
           "sequentialminus": [
            [
             0,
             "#0d0887"
            ],
            [
             0.1111111111111111,
             "#46039f"
            ],
            [
             0.2222222222222222,
             "#7201a8"
            ],
            [
             0.3333333333333333,
             "#9c179e"
            ],
            [
             0.4444444444444444,
             "#bd3786"
            ],
            [
             0.5555555555555556,
             "#d8576b"
            ],
            [
             0.6666666666666666,
             "#ed7953"
            ],
            [
             0.7777777777777778,
             "#fb9f3a"
            ],
            [
             0.8888888888888888,
             "#fdca26"
            ],
            [
             1,
             "#f0f921"
            ]
           ]
          },
          "colorway": [
           "#636efa",
           "#EF553B",
           "#00cc96",
           "#ab63fa",
           "#FFA15A",
           "#19d3f3",
           "#FF6692",
           "#B6E880",
           "#FF97FF",
           "#FECB52"
          ],
          "font": {
           "color": "#2a3f5f"
          },
          "geo": {
           "bgcolor": "white",
           "lakecolor": "white",
           "landcolor": "#E5ECF6",
           "showlakes": true,
           "showland": true,
           "subunitcolor": "white"
          },
          "hoverlabel": {
           "align": "left"
          },
          "hovermode": "closest",
          "mapbox": {
           "style": "light"
          },
          "paper_bgcolor": "white",
          "plot_bgcolor": "#E5ECF6",
          "polar": {
           "angularaxis": {
            "gridcolor": "white",
            "linecolor": "white",
            "ticks": ""
           },
           "bgcolor": "#E5ECF6",
           "radialaxis": {
            "gridcolor": "white",
            "linecolor": "white",
            "ticks": ""
           }
          },
          "scene": {
           "xaxis": {
            "backgroundcolor": "#E5ECF6",
            "gridcolor": "white",
            "gridwidth": 2,
            "linecolor": "white",
            "showbackground": true,
            "ticks": "",
            "zerolinecolor": "white"
           },
           "yaxis": {
            "backgroundcolor": "#E5ECF6",
            "gridcolor": "white",
            "gridwidth": 2,
            "linecolor": "white",
            "showbackground": true,
            "ticks": "",
            "zerolinecolor": "white"
           },
           "zaxis": {
            "backgroundcolor": "#E5ECF6",
            "gridcolor": "white",
            "gridwidth": 2,
            "linecolor": "white",
            "showbackground": true,
            "ticks": "",
            "zerolinecolor": "white"
           }
          },
          "shapedefaults": {
           "line": {
            "color": "#2a3f5f"
           }
          },
          "ternary": {
           "aaxis": {
            "gridcolor": "white",
            "linecolor": "white",
            "ticks": ""
           },
           "baxis": {
            "gridcolor": "white",
            "linecolor": "white",
            "ticks": ""
           },
           "bgcolor": "#E5ECF6",
           "caxis": {
            "gridcolor": "white",
            "linecolor": "white",
            "ticks": ""
           }
          },
          "title": {
           "x": 0.05
          },
          "xaxis": {
           "automargin": true,
           "gridcolor": "white",
           "linecolor": "white",
           "ticks": "",
           "title": {
            "standoff": 15
           },
           "zerolinecolor": "white",
           "zerolinewidth": 2
          },
          "yaxis": {
           "automargin": true,
           "gridcolor": "white",
           "linecolor": "white",
           "ticks": "",
           "title": {
            "standoff": 15
           },
           "zerolinecolor": "white",
           "zerolinewidth": 2
          }
         }
        },
        "width": 700
       }
      }
     },
     "metadata": {},
     "output_type": "display_data"
    },
    {
     "data": {
      "application/vnd.plotly.v1+json": {
       "config": {
        "plotlyServerURL": "https://plot.ly"
       },
       "data": [
        {
         "coloraxis": "coloraxis",
         "geo": "geo",
         "hovertemplate": "index=%{location}<br>EmploymentRural=%{z}<extra></extra>",
         "locationmode": "country names",
         "locations": [
          "Switzerland",
          "Iceland",
          "Mali",
          "Latvia",
          "Senegal",
          "Somalia",
          "United Arab Emirates",
          "Togo",
          "Egypt",
          "Oman",
          "Thailand",
          "Burkina Faso",
          "Trinidad and Tobago",
          "Honduras",
          "Finland",
          "Germany",
          "Liberia",
          "Gabon",
          "Azerbaijan",
          "France",
          "New Zealand",
          "Philippines",
          "Antigua and Barbuda",
          "Dominica",
          "Slovakia",
          "Fiji",
          "Sudan",
          "Georgia",
          "Myanmar",
          "San Marino",
          "Jordan",
          "Lesotho",
          "Madagascar",
          "Niger",
          "Poland",
          "Seychelles",
          "Ukraine",
          "Liechtenstein",
          "Yemen",
          "Uruguay",
          "Kenya",
          "Argentina",
          "Brazil",
          "Albania",
          "Ecuador",
          "Nauru",
          "Iraq",
          "Greece",
          "Djibouti",
          "Sao Tome and Principe",
          "Kazakhstan",
          "Grenada",
          "Kyrgyzstan",
          "Zimbabwe",
          "Sierra Leone",
          "Ethiopia",
          "Mexico",
          "Angola",
          "South Sudan",
          "Pakistan",
          "Estonia",
          "Solomon Islands",
          "Uzbekistan",
          "Gambia",
          "Czechia",
          "Qatar",
          "Israel",
          "Australia",
          "Zambia",
          "Bahrain",
          "Rwanda",
          "Bhutan",
          "Mozambique",
          "Saint Lucia",
          "Equatorial Guinea",
          "Palau",
          "Suriname",
          "North Macedonia",
          "Cameroon",
          "Nicaragua",
          "Chad",
          "Guyana",
          "Malaysia",
          "Eritrea",
          "Tuvalu",
          "Kiribati",
          "Bosnia and Herzegovina",
          "Armenia",
          "Puerto Rico",
          "South Africa",
          "Jamaica",
          "Bermuda",
          "Romania",
          "Russia",
          "Andorra",
          "Sri Lanka",
          "Marshall Islands",
          "Turkmenistan",
          "Italy",
          "Mauritania",
          "Barbados",
          "United States",
          "Algeria",
          "Eswatini",
          "Congo",
          "Ghana",
          "Tajikistan",
          "Saudi Arabia",
          "Denmark",
          "Guinea",
          "Papua New Guinea",
          "Japan",
          "Nigeria",
          "Guatemala",
          "Greenland",
          "Libya",
          "Sweden",
          "Mauritius",
          "Vanuatu",
          "Aruba",
          "Central African Republic",
          "Montenegro",
          "Cayman Islands",
          "Serbia",
          "Canada",
          "Benin",
          "Ireland",
          "Dominican Republic",
          "Paraguay",
          "Chile",
          "Belgium",
          "Slovenia",
          "French Polynesia",
          "Maldives",
          "Haiti",
          "Tunisia",
          "Indonesia",
          "Kuwait",
          "Malawi",
          "Botswana",
          "Samoa",
          "Mongolia",
          "Namibia",
          "Cyprus",
          "Cambodia",
          "Portugal",
          "Bulgaria",
          "Luxembourg",
          "Comoros",
          "Guinea-Bissau",
          "Hungary",
          "New Caledonia",
          "Burundi",
          "Nepal",
          "Norway",
          "Panama",
          "Tonga",
          "Singapore",
          "United Kingdom",
          "Cuba",
          "Lebanon",
          "Malta",
          "Morocco",
          "Netherlands",
          "India",
          "Austria",
          "Colombia",
          "Bangladesh",
          "Costa Rica",
          "Spain",
          "Afghanistan",
          "Peru",
          "China",
          "Belize",
          "Belarus",
          "Uganda",
          "Croatia",
          "Lithuania",
          "El Salvador"
         ],
         "name": "",
         "type": "choropleth",
         "z": [
          null,
          null,
          null,
          -0.574528593918605,
          null,
          null,
          null,
          null,
          null,
          null,
          null,
          null,
          null,
          null,
          -0.44559552288826193,
          0.4383561001589167,
          null,
          null,
          null,
          -0.08131925047215537,
          null,
          null,
          null,
          null,
          null,
          null,
          null,
          null,
          null,
          null,
          null,
          null,
          null,
          null,
          null,
          null,
          null,
          null,
          null,
          null,
          null,
          null,
          null,
          null,
          0.8287482425085985,
          null,
          null,
          0.4086770047342071,
          null,
          null,
          null,
          null,
          null,
          null,
          null,
          null,
          0.7396502634612726,
          null,
          null,
          null,
          -0.9024231359671279,
          null,
          null,
          null,
          0.7229581556283616,
          null,
          null,
          null,
          null,
          null,
          null,
          null,
          null,
          null,
          null,
          null,
          null,
          null,
          null,
          null,
          null,
          null,
          null,
          null,
          null,
          null,
          null,
          null,
          null,
          null,
          null,
          null,
          null,
          null,
          null,
          null,
          null,
          null,
          0.37259604164179133,
          null,
          null,
          -0.9332133563841553,
          null,
          null,
          null,
          null,
          null,
          null,
          -0.1293205973068406,
          null,
          null,
          null,
          null,
          null,
          null,
          null,
          -0.637062719132167,
          null,
          null,
          null,
          null,
          null,
          null,
          null,
          null,
          null,
          -0.2571942100171789,
          -0.4437169280269145,
          0.9190546889624224,
          null,
          0.6247612406136811,
          -0.7911165533713964,
          null,
          null,
          null,
          null,
          0.4693814150573658,
          null,
          null,
          null,
          null,
          null,
          null,
          -0.40159282412530006,
          null,
          -0.519218536541515,
          null,
          0.701596190707741,
          null,
          null,
          -0.6125761634629336,
          null,
          null,
          null,
          null,
          null,
          null,
          null,
          0.15382120651949202,
          null,
          null,
          -0.28830310793437786,
          null,
          0.43173735457891116,
          null,
          0.8470597022752191,
          0.7589672058286466,
          null,
          -0.6009571574590724,
          -0.08370922555996564,
          null,
          -0.7820412354099366,
          null,
          null,
          null,
          null,
          0.3692695497457669,
          -0.7885301647055659,
          null
         ]
        }
       ],
       "layout": {
        "coloraxis": {
         "colorbar": {
          "title": {
           "text": "EmploymentRural"
          }
         },
         "colorscale": [
          [
           0,
           "rgb(255,245,240)"
          ],
          [
           0.125,
           "rgb(254,224,210)"
          ],
          [
           0.25,
           "rgb(252,187,161)"
          ],
          [
           0.375,
           "rgb(252,146,114)"
          ],
          [
           0.5,
           "rgb(251,106,74)"
          ],
          [
           0.625,
           "rgb(239,59,44)"
          ],
          [
           0.75,
           "rgb(203,24,29)"
          ],
          [
           0.875,
           "rgb(165,15,21)"
          ],
          [
           1,
           "rgb(103,0,13)"
          ]
         ],
         "showscale": true
        },
        "geo": {
         "center": {},
         "domain": {
          "x": [
           0,
           1
          ],
          "y": [
           0,
           1
          ]
         },
         "projection": {
          "type": "natural earth"
         }
        },
        "height": 500,
        "legend": {
         "tracegroupgap": 0
        },
        "margin": {
         "t": 60
        },
        "template": {
         "data": {
          "bar": [
           {
            "error_x": {
             "color": "#2a3f5f"
            },
            "error_y": {
             "color": "#2a3f5f"
            },
            "marker": {
             "line": {
              "color": "#E5ECF6",
              "width": 0.5
             },
             "pattern": {
              "fillmode": "overlay",
              "size": 10,
              "solidity": 0.2
             }
            },
            "type": "bar"
           }
          ],
          "barpolar": [
           {
            "marker": {
             "line": {
              "color": "#E5ECF6",
              "width": 0.5
             },
             "pattern": {
              "fillmode": "overlay",
              "size": 10,
              "solidity": 0.2
             }
            },
            "type": "barpolar"
           }
          ],
          "carpet": [
           {
            "aaxis": {
             "endlinecolor": "#2a3f5f",
             "gridcolor": "white",
             "linecolor": "white",
             "minorgridcolor": "white",
             "startlinecolor": "#2a3f5f"
            },
            "baxis": {
             "endlinecolor": "#2a3f5f",
             "gridcolor": "white",
             "linecolor": "white",
             "minorgridcolor": "white",
             "startlinecolor": "#2a3f5f"
            },
            "type": "carpet"
           }
          ],
          "choropleth": [
           {
            "colorbar": {
             "outlinewidth": 0,
             "ticks": ""
            },
            "type": "choropleth"
           }
          ],
          "contour": [
           {
            "colorbar": {
             "outlinewidth": 0,
             "ticks": ""
            },
            "colorscale": [
             [
              0,
              "#0d0887"
             ],
             [
              0.1111111111111111,
              "#46039f"
             ],
             [
              0.2222222222222222,
              "#7201a8"
             ],
             [
              0.3333333333333333,
              "#9c179e"
             ],
             [
              0.4444444444444444,
              "#bd3786"
             ],
             [
              0.5555555555555556,
              "#d8576b"
             ],
             [
              0.6666666666666666,
              "#ed7953"
             ],
             [
              0.7777777777777778,
              "#fb9f3a"
             ],
             [
              0.8888888888888888,
              "#fdca26"
             ],
             [
              1,
              "#f0f921"
             ]
            ],
            "type": "contour"
           }
          ],
          "contourcarpet": [
           {
            "colorbar": {
             "outlinewidth": 0,
             "ticks": ""
            },
            "type": "contourcarpet"
           }
          ],
          "heatmap": [
           {
            "colorbar": {
             "outlinewidth": 0,
             "ticks": ""
            },
            "colorscale": [
             [
              0,
              "#0d0887"
             ],
             [
              0.1111111111111111,
              "#46039f"
             ],
             [
              0.2222222222222222,
              "#7201a8"
             ],
             [
              0.3333333333333333,
              "#9c179e"
             ],
             [
              0.4444444444444444,
              "#bd3786"
             ],
             [
              0.5555555555555556,
              "#d8576b"
             ],
             [
              0.6666666666666666,
              "#ed7953"
             ],
             [
              0.7777777777777778,
              "#fb9f3a"
             ],
             [
              0.8888888888888888,
              "#fdca26"
             ],
             [
              1,
              "#f0f921"
             ]
            ],
            "type": "heatmap"
           }
          ],
          "heatmapgl": [
           {
            "colorbar": {
             "outlinewidth": 0,
             "ticks": ""
            },
            "colorscale": [
             [
              0,
              "#0d0887"
             ],
             [
              0.1111111111111111,
              "#46039f"
             ],
             [
              0.2222222222222222,
              "#7201a8"
             ],
             [
              0.3333333333333333,
              "#9c179e"
             ],
             [
              0.4444444444444444,
              "#bd3786"
             ],
             [
              0.5555555555555556,
              "#d8576b"
             ],
             [
              0.6666666666666666,
              "#ed7953"
             ],
             [
              0.7777777777777778,
              "#fb9f3a"
             ],
             [
              0.8888888888888888,
              "#fdca26"
             ],
             [
              1,
              "#f0f921"
             ]
            ],
            "type": "heatmapgl"
           }
          ],
          "histogram": [
           {
            "marker": {
             "pattern": {
              "fillmode": "overlay",
              "size": 10,
              "solidity": 0.2
             }
            },
            "type": "histogram"
           }
          ],
          "histogram2d": [
           {
            "colorbar": {
             "outlinewidth": 0,
             "ticks": ""
            },
            "colorscale": [
             [
              0,
              "#0d0887"
             ],
             [
              0.1111111111111111,
              "#46039f"
             ],
             [
              0.2222222222222222,
              "#7201a8"
             ],
             [
              0.3333333333333333,
              "#9c179e"
             ],
             [
              0.4444444444444444,
              "#bd3786"
             ],
             [
              0.5555555555555556,
              "#d8576b"
             ],
             [
              0.6666666666666666,
              "#ed7953"
             ],
             [
              0.7777777777777778,
              "#fb9f3a"
             ],
             [
              0.8888888888888888,
              "#fdca26"
             ],
             [
              1,
              "#f0f921"
             ]
            ],
            "type": "histogram2d"
           }
          ],
          "histogram2dcontour": [
           {
            "colorbar": {
             "outlinewidth": 0,
             "ticks": ""
            },
            "colorscale": [
             [
              0,
              "#0d0887"
             ],
             [
              0.1111111111111111,
              "#46039f"
             ],
             [
              0.2222222222222222,
              "#7201a8"
             ],
             [
              0.3333333333333333,
              "#9c179e"
             ],
             [
              0.4444444444444444,
              "#bd3786"
             ],
             [
              0.5555555555555556,
              "#d8576b"
             ],
             [
              0.6666666666666666,
              "#ed7953"
             ],
             [
              0.7777777777777778,
              "#fb9f3a"
             ],
             [
              0.8888888888888888,
              "#fdca26"
             ],
             [
              1,
              "#f0f921"
             ]
            ],
            "type": "histogram2dcontour"
           }
          ],
          "mesh3d": [
           {
            "colorbar": {
             "outlinewidth": 0,
             "ticks": ""
            },
            "type": "mesh3d"
           }
          ],
          "parcoords": [
           {
            "line": {
             "colorbar": {
              "outlinewidth": 0,
              "ticks": ""
             }
            },
            "type": "parcoords"
           }
          ],
          "pie": [
           {
            "automargin": true,
            "type": "pie"
           }
          ],
          "scatter": [
           {
            "fillpattern": {
             "fillmode": "overlay",
             "size": 10,
             "solidity": 0.2
            },
            "type": "scatter"
           }
          ],
          "scatter3d": [
           {
            "line": {
             "colorbar": {
              "outlinewidth": 0,
              "ticks": ""
             }
            },
            "marker": {
             "colorbar": {
              "outlinewidth": 0,
              "ticks": ""
             }
            },
            "type": "scatter3d"
           }
          ],
          "scattercarpet": [
           {
            "marker": {
             "colorbar": {
              "outlinewidth": 0,
              "ticks": ""
             }
            },
            "type": "scattercarpet"
           }
          ],
          "scattergeo": [
           {
            "marker": {
             "colorbar": {
              "outlinewidth": 0,
              "ticks": ""
             }
            },
            "type": "scattergeo"
           }
          ],
          "scattergl": [
           {
            "marker": {
             "colorbar": {
              "outlinewidth": 0,
              "ticks": ""
             }
            },
            "type": "scattergl"
           }
          ],
          "scattermapbox": [
           {
            "marker": {
             "colorbar": {
              "outlinewidth": 0,
              "ticks": ""
             }
            },
            "type": "scattermapbox"
           }
          ],
          "scatterpolar": [
           {
            "marker": {
             "colorbar": {
              "outlinewidth": 0,
              "ticks": ""
             }
            },
            "type": "scatterpolar"
           }
          ],
          "scatterpolargl": [
           {
            "marker": {
             "colorbar": {
              "outlinewidth": 0,
              "ticks": ""
             }
            },
            "type": "scatterpolargl"
           }
          ],
          "scatterternary": [
           {
            "marker": {
             "colorbar": {
              "outlinewidth": 0,
              "ticks": ""
             }
            },
            "type": "scatterternary"
           }
          ],
          "surface": [
           {
            "colorbar": {
             "outlinewidth": 0,
             "ticks": ""
            },
            "colorscale": [
             [
              0,
              "#0d0887"
             ],
             [
              0.1111111111111111,
              "#46039f"
             ],
             [
              0.2222222222222222,
              "#7201a8"
             ],
             [
              0.3333333333333333,
              "#9c179e"
             ],
             [
              0.4444444444444444,
              "#bd3786"
             ],
             [
              0.5555555555555556,
              "#d8576b"
             ],
             [
              0.6666666666666666,
              "#ed7953"
             ],
             [
              0.7777777777777778,
              "#fb9f3a"
             ],
             [
              0.8888888888888888,
              "#fdca26"
             ],
             [
              1,
              "#f0f921"
             ]
            ],
            "type": "surface"
           }
          ],
          "table": [
           {
            "cells": {
             "fill": {
              "color": "#EBF0F8"
             },
             "line": {
              "color": "white"
             }
            },
            "header": {
             "fill": {
              "color": "#C8D4E3"
             },
             "line": {
              "color": "white"
             }
            },
            "type": "table"
           }
          ]
         },
         "layout": {
          "annotationdefaults": {
           "arrowcolor": "#2a3f5f",
           "arrowhead": 0,
           "arrowwidth": 1
          },
          "autotypenumbers": "strict",
          "coloraxis": {
           "colorbar": {
            "outlinewidth": 0,
            "ticks": ""
           }
          },
          "colorscale": {
           "diverging": [
            [
             0,
             "#8e0152"
            ],
            [
             0.1,
             "#c51b7d"
            ],
            [
             0.2,
             "#de77ae"
            ],
            [
             0.3,
             "#f1b6da"
            ],
            [
             0.4,
             "#fde0ef"
            ],
            [
             0.5,
             "#f7f7f7"
            ],
            [
             0.6,
             "#e6f5d0"
            ],
            [
             0.7,
             "#b8e186"
            ],
            [
             0.8,
             "#7fbc41"
            ],
            [
             0.9,
             "#4d9221"
            ],
            [
             1,
             "#276419"
            ]
           ],
           "sequential": [
            [
             0,
             "#0d0887"
            ],
            [
             0.1111111111111111,
             "#46039f"
            ],
            [
             0.2222222222222222,
             "#7201a8"
            ],
            [
             0.3333333333333333,
             "#9c179e"
            ],
            [
             0.4444444444444444,
             "#bd3786"
            ],
            [
             0.5555555555555556,
             "#d8576b"
            ],
            [
             0.6666666666666666,
             "#ed7953"
            ],
            [
             0.7777777777777778,
             "#fb9f3a"
            ],
            [
             0.8888888888888888,
             "#fdca26"
            ],
            [
             1,
             "#f0f921"
            ]
           ],
           "sequentialminus": [
            [
             0,
             "#0d0887"
            ],
            [
             0.1111111111111111,
             "#46039f"
            ],
            [
             0.2222222222222222,
             "#7201a8"
            ],
            [
             0.3333333333333333,
             "#9c179e"
            ],
            [
             0.4444444444444444,
             "#bd3786"
            ],
            [
             0.5555555555555556,
             "#d8576b"
            ],
            [
             0.6666666666666666,
             "#ed7953"
            ],
            [
             0.7777777777777778,
             "#fb9f3a"
            ],
            [
             0.8888888888888888,
             "#fdca26"
            ],
            [
             1,
             "#f0f921"
            ]
           ]
          },
          "colorway": [
           "#636efa",
           "#EF553B",
           "#00cc96",
           "#ab63fa",
           "#FFA15A",
           "#19d3f3",
           "#FF6692",
           "#B6E880",
           "#FF97FF",
           "#FECB52"
          ],
          "font": {
           "color": "#2a3f5f"
          },
          "geo": {
           "bgcolor": "white",
           "lakecolor": "white",
           "landcolor": "#E5ECF6",
           "showlakes": true,
           "showland": true,
           "subunitcolor": "white"
          },
          "hoverlabel": {
           "align": "left"
          },
          "hovermode": "closest",
          "mapbox": {
           "style": "light"
          },
          "paper_bgcolor": "white",
          "plot_bgcolor": "#E5ECF6",
          "polar": {
           "angularaxis": {
            "gridcolor": "white",
            "linecolor": "white",
            "ticks": ""
           },
           "bgcolor": "#E5ECF6",
           "radialaxis": {
            "gridcolor": "white",
            "linecolor": "white",
            "ticks": ""
           }
          },
          "scene": {
           "xaxis": {
            "backgroundcolor": "#E5ECF6",
            "gridcolor": "white",
            "gridwidth": 2,
            "linecolor": "white",
            "showbackground": true,
            "ticks": "",
            "zerolinecolor": "white"
           },
           "yaxis": {
            "backgroundcolor": "#E5ECF6",
            "gridcolor": "white",
            "gridwidth": 2,
            "linecolor": "white",
            "showbackground": true,
            "ticks": "",
            "zerolinecolor": "white"
           },
           "zaxis": {
            "backgroundcolor": "#E5ECF6",
            "gridcolor": "white",
            "gridwidth": 2,
            "linecolor": "white",
            "showbackground": true,
            "ticks": "",
            "zerolinecolor": "white"
           }
          },
          "shapedefaults": {
           "line": {
            "color": "#2a3f5f"
           }
          },
          "ternary": {
           "aaxis": {
            "gridcolor": "white",
            "linecolor": "white",
            "ticks": ""
           },
           "baxis": {
            "gridcolor": "white",
            "linecolor": "white",
            "ticks": ""
           },
           "bgcolor": "#E5ECF6",
           "caxis": {
            "gridcolor": "white",
            "linecolor": "white",
            "ticks": ""
           }
          },
          "title": {
           "x": 0.05
          },
          "xaxis": {
           "automargin": true,
           "gridcolor": "white",
           "linecolor": "white",
           "ticks": "",
           "title": {
            "standoff": 15
           },
           "zerolinecolor": "white",
           "zerolinewidth": 2
          },
          "yaxis": {
           "automargin": true,
           "gridcolor": "white",
           "linecolor": "white",
           "ticks": "",
           "title": {
            "standoff": 15
           },
           "zerolinecolor": "white",
           "zerolinewidth": 2
          }
         }
        },
        "width": 700
       }
      }
     },
     "metadata": {},
     "output_type": "display_data"
    },
    {
     "data": {
      "application/vnd.plotly.v1+json": {
       "config": {
        "plotlyServerURL": "https://plot.ly"
       },
       "data": [
        {
         "coloraxis": "coloraxis",
         "geo": "geo",
         "hovertemplate": "index=%{location}<br>TotalAgri=%{z}<extra></extra>",
         "locationmode": "country names",
         "locations": [
          "Switzerland",
          "Iceland",
          "Mali",
          "Latvia",
          "Senegal",
          "Somalia",
          "United Arab Emirates",
          "Togo",
          "Egypt",
          "Oman",
          "Thailand",
          "Burkina Faso",
          "Trinidad and Tobago",
          "Honduras",
          "Finland",
          "Germany",
          "Liberia",
          "Gabon",
          "Azerbaijan",
          "France",
          "New Zealand",
          "Philippines",
          "Antigua and Barbuda",
          "Dominica",
          "Slovakia",
          "Fiji",
          "Sudan",
          "Georgia",
          "Myanmar",
          "San Marino",
          "Jordan",
          "Lesotho",
          "Madagascar",
          "Niger",
          "Poland",
          "Seychelles",
          "Ukraine",
          "Liechtenstein",
          "Yemen",
          "Uruguay",
          "Kenya",
          "Argentina",
          "Brazil",
          "Albania",
          "Ecuador",
          "Nauru",
          "Iraq",
          "Greece",
          "Djibouti",
          "Sao Tome and Principe",
          "Kazakhstan",
          "Grenada",
          "Kyrgyzstan",
          "Zimbabwe",
          "Sierra Leone",
          "Ethiopia",
          "Mexico",
          "Angola",
          "South Sudan",
          "Pakistan",
          "Estonia",
          "Solomon Islands",
          "Uzbekistan",
          "Gambia",
          "Czechia",
          "Qatar",
          "Israel",
          "Australia",
          "Zambia",
          "Bahrain",
          "Rwanda",
          "Bhutan",
          "Mozambique",
          "Saint Lucia",
          "Equatorial Guinea",
          "Palau",
          "Suriname",
          "North Macedonia",
          "Cameroon",
          "Nicaragua",
          "Chad",
          "Guyana",
          "Malaysia",
          "Eritrea",
          "Tuvalu",
          "Kiribati",
          "Bosnia and Herzegovina",
          "Armenia",
          "Puerto Rico",
          "South Africa",
          "Jamaica",
          "Bermuda",
          "Romania",
          "Russia",
          "Andorra",
          "Sri Lanka",
          "Marshall Islands",
          "Turkmenistan",
          "Italy",
          "Mauritania",
          "Barbados",
          "United States",
          "Algeria",
          "Eswatini",
          "Congo",
          "Ghana",
          "Tajikistan",
          "Saudi Arabia",
          "Denmark",
          "Guinea",
          "Papua New Guinea",
          "Japan",
          "Nigeria",
          "Guatemala",
          "Greenland",
          "Libya",
          "Sweden",
          "Mauritius",
          "Vanuatu",
          "Aruba",
          "Central African Republic",
          "Montenegro",
          "Cayman Islands",
          "Serbia",
          "Canada",
          "Benin",
          "Ireland",
          "Dominican Republic",
          "Paraguay",
          "Chile",
          "Belgium",
          "Slovenia",
          "French Polynesia",
          "Maldives",
          "Haiti",
          "Tunisia",
          "Indonesia",
          "Kuwait",
          "Malawi",
          "Botswana",
          "Samoa",
          "Mongolia",
          "Namibia",
          "Cyprus",
          "Cambodia",
          "Portugal",
          "Bulgaria",
          "Luxembourg",
          "Comoros",
          "Guinea-Bissau",
          "Hungary",
          "New Caledonia",
          "Burundi",
          "Nepal",
          "Norway",
          "Panama",
          "Tonga",
          "Singapore",
          "United Kingdom",
          "Cuba",
          "Lebanon",
          "Malta",
          "Morocco",
          "Netherlands",
          "India",
          "Austria",
          "Colombia",
          "Bangladesh",
          "Costa Rica",
          "Spain",
          "Afghanistan",
          "Peru",
          "China",
          "Belize",
          "Belarus",
          "Uganda",
          "Croatia",
          "Lithuania",
          "El Salvador"
         ],
         "name": "",
         "type": "choropleth",
         "z": [
          0.9382335099277558,
          0.8412701338751272,
          0.9794690273162416,
          0.9484862090913172,
          0.8332059620387228,
          null,
          null,
          0.8701769224760963,
          0.922174093593962,
          null,
          0.8819265946295036,
          0.9031886900674337,
          0.6149489590445966,
          0.8259823264282223,
          0.9036044851845074,
          0.8714360307325111,
          null,
          null,
          0.9845593019393384,
          0.9602927122824275,
          0.9063712217351578,
          0.9382131136051101,
          0.702760136097789,
          null,
          0.8239115273134711,
          0.871950750735047,
          null,
          -0.09273189189555933,
          null,
          null,
          0.9798914526926349,
          null,
          0.6457724917423397,
          0.99041727340032,
          0.9270594496186952,
          null,
          0.8859401130151268,
          null,
          0.6751764471026616,
          0.8585271209150012,
          0.9821019240519361,
          0.9500212137596244,
          0.983089582099887,
          0.955862699078484,
          0.9704257923373768,
          null,
          0.8240840540827845,
          0.8629164929836928,
          null,
          null,
          0.9424174057397184,
          null,
          0.9435537355021258,
          null,
          null,
          0.856815955621055,
          0.9670428190146266,
          null,
          null,
          0.9450264448258718,
          0.858332393462741,
          null,
          null,
          0.8026294434184801,
          0.7833818476339227,
          0.7029691673834253,
          0.9355778833507425,
          0.9449490082917086,
          0.9249468835912871,
          null,
          0.7997476466951826,
          0.921324337650452,
          0.8872978288783901,
          0.7969639611667224,
          0.7957640750454619,
          null,
          0.9521604860045757,
          0.8497243700485013,
          0.9676959979312125,
          0.9765829138672791,
          null,
          0.808118917332177,
          0.8606649271936003,
          0.8518909757659001,
          null,
          null,
          0.9192435482830607,
          0.936666090493308,
          0.7591880367950741,
          0.9578560391658771,
          0.2839364068176653,
          null,
          0.8174275977527687,
          0.9797367575726909,
          null,
          0.9703717556500387,
          null,
          -0.3465471641484104,
          0.9316749501906987,
          null,
          -0.09402108358701633,
          0.8598023661852446,
          0.9119700250614585,
          null,
          0.8040719799899244,
          0.9072802757796524,
          0.9012614039007689,
          0.9141430966062102,
          0.8833551948634802,
          0.17401889965002634,
          null,
          0.9107190418364268,
          0.4159440041295926,
          null,
          null,
          null,
          0.8705176404671787,
          -0.21470049073089778,
          0.8685359790283331,
          null,
          null,
          null,
          null,
          null,
          0.9423260210923751,
          null,
          0.8666011112077892,
          0.8165827096208538,
          0.9739455673488335,
          0.9532819522168089,
          0.740458864640082,
          0.9036364770294913,
          null,
          0.7857256954489611,
          null,
          0.903237782799814,
          0.9420837830358011,
          null,
          0.9761782921113354,
          0.08785896473704753,
          null,
          0.9256880344272711,
          0.665772382321785,
          0.8233342326095059,
          0.9901339469693758,
          0.9418406442413121,
          0.8918093034017227,
          0.8744447363172403,
          null,
          0.9450417146969888,
          0.8741403954486555,
          null,
          0.8299536096398884,
          0.9707027885204523,
          0.9815525418363241,
          0.9220651279849815,
          null,
          0.9621092442670435,
          0.8655451433569046,
          null,
          0.8912468825821334,
          0.08253522555986012,
          0.8641305520523809,
          0.9209920294496542,
          0.979769549210523,
          0.9386553499112156,
          0.6417589716597498,
          0.9598563378908486,
          0.918202231465805,
          0.891548865064472,
          null,
          0.9951252590590248,
          0.9495290341171724,
          0.9292048082856658,
          0.9699137437967402,
          null,
          0.9386709615759969,
          0.9122411409433913,
          0.8678353849852873
         ]
        }
       ],
       "layout": {
        "coloraxis": {
         "colorbar": {
          "title": {
           "text": "TotalAgri"
          }
         },
         "colorscale": [
          [
           0,
           "rgb(255,245,240)"
          ],
          [
           0.125,
           "rgb(254,224,210)"
          ],
          [
           0.25,
           "rgb(252,187,161)"
          ],
          [
           0.375,
           "rgb(252,146,114)"
          ],
          [
           0.5,
           "rgb(251,106,74)"
          ],
          [
           0.625,
           "rgb(239,59,44)"
          ],
          [
           0.75,
           "rgb(203,24,29)"
          ],
          [
           0.875,
           "rgb(165,15,21)"
          ],
          [
           1,
           "rgb(103,0,13)"
          ]
         ],
         "showscale": true
        },
        "geo": {
         "center": {},
         "domain": {
          "x": [
           0,
           1
          ],
          "y": [
           0,
           1
          ]
         },
         "projection": {
          "type": "natural earth"
         }
        },
        "height": 500,
        "legend": {
         "tracegroupgap": 0
        },
        "margin": {
         "t": 60
        },
        "template": {
         "data": {
          "bar": [
           {
            "error_x": {
             "color": "#2a3f5f"
            },
            "error_y": {
             "color": "#2a3f5f"
            },
            "marker": {
             "line": {
              "color": "#E5ECF6",
              "width": 0.5
             },
             "pattern": {
              "fillmode": "overlay",
              "size": 10,
              "solidity": 0.2
             }
            },
            "type": "bar"
           }
          ],
          "barpolar": [
           {
            "marker": {
             "line": {
              "color": "#E5ECF6",
              "width": 0.5
             },
             "pattern": {
              "fillmode": "overlay",
              "size": 10,
              "solidity": 0.2
             }
            },
            "type": "barpolar"
           }
          ],
          "carpet": [
           {
            "aaxis": {
             "endlinecolor": "#2a3f5f",
             "gridcolor": "white",
             "linecolor": "white",
             "minorgridcolor": "white",
             "startlinecolor": "#2a3f5f"
            },
            "baxis": {
             "endlinecolor": "#2a3f5f",
             "gridcolor": "white",
             "linecolor": "white",
             "minorgridcolor": "white",
             "startlinecolor": "#2a3f5f"
            },
            "type": "carpet"
           }
          ],
          "choropleth": [
           {
            "colorbar": {
             "outlinewidth": 0,
             "ticks": ""
            },
            "type": "choropleth"
           }
          ],
          "contour": [
           {
            "colorbar": {
             "outlinewidth": 0,
             "ticks": ""
            },
            "colorscale": [
             [
              0,
              "#0d0887"
             ],
             [
              0.1111111111111111,
              "#46039f"
             ],
             [
              0.2222222222222222,
              "#7201a8"
             ],
             [
              0.3333333333333333,
              "#9c179e"
             ],
             [
              0.4444444444444444,
              "#bd3786"
             ],
             [
              0.5555555555555556,
              "#d8576b"
             ],
             [
              0.6666666666666666,
              "#ed7953"
             ],
             [
              0.7777777777777778,
              "#fb9f3a"
             ],
             [
              0.8888888888888888,
              "#fdca26"
             ],
             [
              1,
              "#f0f921"
             ]
            ],
            "type": "contour"
           }
          ],
          "contourcarpet": [
           {
            "colorbar": {
             "outlinewidth": 0,
             "ticks": ""
            },
            "type": "contourcarpet"
           }
          ],
          "heatmap": [
           {
            "colorbar": {
             "outlinewidth": 0,
             "ticks": ""
            },
            "colorscale": [
             [
              0,
              "#0d0887"
             ],
             [
              0.1111111111111111,
              "#46039f"
             ],
             [
              0.2222222222222222,
              "#7201a8"
             ],
             [
              0.3333333333333333,
              "#9c179e"
             ],
             [
              0.4444444444444444,
              "#bd3786"
             ],
             [
              0.5555555555555556,
              "#d8576b"
             ],
             [
              0.6666666666666666,
              "#ed7953"
             ],
             [
              0.7777777777777778,
              "#fb9f3a"
             ],
             [
              0.8888888888888888,
              "#fdca26"
             ],
             [
              1,
              "#f0f921"
             ]
            ],
            "type": "heatmap"
           }
          ],
          "heatmapgl": [
           {
            "colorbar": {
             "outlinewidth": 0,
             "ticks": ""
            },
            "colorscale": [
             [
              0,
              "#0d0887"
             ],
             [
              0.1111111111111111,
              "#46039f"
             ],
             [
              0.2222222222222222,
              "#7201a8"
             ],
             [
              0.3333333333333333,
              "#9c179e"
             ],
             [
              0.4444444444444444,
              "#bd3786"
             ],
             [
              0.5555555555555556,
              "#d8576b"
             ],
             [
              0.6666666666666666,
              "#ed7953"
             ],
             [
              0.7777777777777778,
              "#fb9f3a"
             ],
             [
              0.8888888888888888,
              "#fdca26"
             ],
             [
              1,
              "#f0f921"
             ]
            ],
            "type": "heatmapgl"
           }
          ],
          "histogram": [
           {
            "marker": {
             "pattern": {
              "fillmode": "overlay",
              "size": 10,
              "solidity": 0.2
             }
            },
            "type": "histogram"
           }
          ],
          "histogram2d": [
           {
            "colorbar": {
             "outlinewidth": 0,
             "ticks": ""
            },
            "colorscale": [
             [
              0,
              "#0d0887"
             ],
             [
              0.1111111111111111,
              "#46039f"
             ],
             [
              0.2222222222222222,
              "#7201a8"
             ],
             [
              0.3333333333333333,
              "#9c179e"
             ],
             [
              0.4444444444444444,
              "#bd3786"
             ],
             [
              0.5555555555555556,
              "#d8576b"
             ],
             [
              0.6666666666666666,
              "#ed7953"
             ],
             [
              0.7777777777777778,
              "#fb9f3a"
             ],
             [
              0.8888888888888888,
              "#fdca26"
             ],
             [
              1,
              "#f0f921"
             ]
            ],
            "type": "histogram2d"
           }
          ],
          "histogram2dcontour": [
           {
            "colorbar": {
             "outlinewidth": 0,
             "ticks": ""
            },
            "colorscale": [
             [
              0,
              "#0d0887"
             ],
             [
              0.1111111111111111,
              "#46039f"
             ],
             [
              0.2222222222222222,
              "#7201a8"
             ],
             [
              0.3333333333333333,
              "#9c179e"
             ],
             [
              0.4444444444444444,
              "#bd3786"
             ],
             [
              0.5555555555555556,
              "#d8576b"
             ],
             [
              0.6666666666666666,
              "#ed7953"
             ],
             [
              0.7777777777777778,
              "#fb9f3a"
             ],
             [
              0.8888888888888888,
              "#fdca26"
             ],
             [
              1,
              "#f0f921"
             ]
            ],
            "type": "histogram2dcontour"
           }
          ],
          "mesh3d": [
           {
            "colorbar": {
             "outlinewidth": 0,
             "ticks": ""
            },
            "type": "mesh3d"
           }
          ],
          "parcoords": [
           {
            "line": {
             "colorbar": {
              "outlinewidth": 0,
              "ticks": ""
             }
            },
            "type": "parcoords"
           }
          ],
          "pie": [
           {
            "automargin": true,
            "type": "pie"
           }
          ],
          "scatter": [
           {
            "fillpattern": {
             "fillmode": "overlay",
             "size": 10,
             "solidity": 0.2
            },
            "type": "scatter"
           }
          ],
          "scatter3d": [
           {
            "line": {
             "colorbar": {
              "outlinewidth": 0,
              "ticks": ""
             }
            },
            "marker": {
             "colorbar": {
              "outlinewidth": 0,
              "ticks": ""
             }
            },
            "type": "scatter3d"
           }
          ],
          "scattercarpet": [
           {
            "marker": {
             "colorbar": {
              "outlinewidth": 0,
              "ticks": ""
             }
            },
            "type": "scattercarpet"
           }
          ],
          "scattergeo": [
           {
            "marker": {
             "colorbar": {
              "outlinewidth": 0,
              "ticks": ""
             }
            },
            "type": "scattergeo"
           }
          ],
          "scattergl": [
           {
            "marker": {
             "colorbar": {
              "outlinewidth": 0,
              "ticks": ""
             }
            },
            "type": "scattergl"
           }
          ],
          "scattermapbox": [
           {
            "marker": {
             "colorbar": {
              "outlinewidth": 0,
              "ticks": ""
             }
            },
            "type": "scattermapbox"
           }
          ],
          "scatterpolar": [
           {
            "marker": {
             "colorbar": {
              "outlinewidth": 0,
              "ticks": ""
             }
            },
            "type": "scatterpolar"
           }
          ],
          "scatterpolargl": [
           {
            "marker": {
             "colorbar": {
              "outlinewidth": 0,
              "ticks": ""
             }
            },
            "type": "scatterpolargl"
           }
          ],
          "scatterternary": [
           {
            "marker": {
             "colorbar": {
              "outlinewidth": 0,
              "ticks": ""
             }
            },
            "type": "scatterternary"
           }
          ],
          "surface": [
           {
            "colorbar": {
             "outlinewidth": 0,
             "ticks": ""
            },
            "colorscale": [
             [
              0,
              "#0d0887"
             ],
             [
              0.1111111111111111,
              "#46039f"
             ],
             [
              0.2222222222222222,
              "#7201a8"
             ],
             [
              0.3333333333333333,
              "#9c179e"
             ],
             [
              0.4444444444444444,
              "#bd3786"
             ],
             [
              0.5555555555555556,
              "#d8576b"
             ],
             [
              0.6666666666666666,
              "#ed7953"
             ],
             [
              0.7777777777777778,
              "#fb9f3a"
             ],
             [
              0.8888888888888888,
              "#fdca26"
             ],
             [
              1,
              "#f0f921"
             ]
            ],
            "type": "surface"
           }
          ],
          "table": [
           {
            "cells": {
             "fill": {
              "color": "#EBF0F8"
             },
             "line": {
              "color": "white"
             }
            },
            "header": {
             "fill": {
              "color": "#C8D4E3"
             },
             "line": {
              "color": "white"
             }
            },
            "type": "table"
           }
          ]
         },
         "layout": {
          "annotationdefaults": {
           "arrowcolor": "#2a3f5f",
           "arrowhead": 0,
           "arrowwidth": 1
          },
          "autotypenumbers": "strict",
          "coloraxis": {
           "colorbar": {
            "outlinewidth": 0,
            "ticks": ""
           }
          },
          "colorscale": {
           "diverging": [
            [
             0,
             "#8e0152"
            ],
            [
             0.1,
             "#c51b7d"
            ],
            [
             0.2,
             "#de77ae"
            ],
            [
             0.3,
             "#f1b6da"
            ],
            [
             0.4,
             "#fde0ef"
            ],
            [
             0.5,
             "#f7f7f7"
            ],
            [
             0.6,
             "#e6f5d0"
            ],
            [
             0.7,
             "#b8e186"
            ],
            [
             0.8,
             "#7fbc41"
            ],
            [
             0.9,
             "#4d9221"
            ],
            [
             1,
             "#276419"
            ]
           ],
           "sequential": [
            [
             0,
             "#0d0887"
            ],
            [
             0.1111111111111111,
             "#46039f"
            ],
            [
             0.2222222222222222,
             "#7201a8"
            ],
            [
             0.3333333333333333,
             "#9c179e"
            ],
            [
             0.4444444444444444,
             "#bd3786"
            ],
            [
             0.5555555555555556,
             "#d8576b"
            ],
            [
             0.6666666666666666,
             "#ed7953"
            ],
            [
             0.7777777777777778,
             "#fb9f3a"
            ],
            [
             0.8888888888888888,
             "#fdca26"
            ],
            [
             1,
             "#f0f921"
            ]
           ],
           "sequentialminus": [
            [
             0,
             "#0d0887"
            ],
            [
             0.1111111111111111,
             "#46039f"
            ],
            [
             0.2222222222222222,
             "#7201a8"
            ],
            [
             0.3333333333333333,
             "#9c179e"
            ],
            [
             0.4444444444444444,
             "#bd3786"
            ],
            [
             0.5555555555555556,
             "#d8576b"
            ],
            [
             0.6666666666666666,
             "#ed7953"
            ],
            [
             0.7777777777777778,
             "#fb9f3a"
            ],
            [
             0.8888888888888888,
             "#fdca26"
            ],
            [
             1,
             "#f0f921"
            ]
           ]
          },
          "colorway": [
           "#636efa",
           "#EF553B",
           "#00cc96",
           "#ab63fa",
           "#FFA15A",
           "#19d3f3",
           "#FF6692",
           "#B6E880",
           "#FF97FF",
           "#FECB52"
          ],
          "font": {
           "color": "#2a3f5f"
          },
          "geo": {
           "bgcolor": "white",
           "lakecolor": "white",
           "landcolor": "#E5ECF6",
           "showlakes": true,
           "showland": true,
           "subunitcolor": "white"
          },
          "hoverlabel": {
           "align": "left"
          },
          "hovermode": "closest",
          "mapbox": {
           "style": "light"
          },
          "paper_bgcolor": "white",
          "plot_bgcolor": "#E5ECF6",
          "polar": {
           "angularaxis": {
            "gridcolor": "white",
            "linecolor": "white",
            "ticks": ""
           },
           "bgcolor": "#E5ECF6",
           "radialaxis": {
            "gridcolor": "white",
            "linecolor": "white",
            "ticks": ""
           }
          },
          "scene": {
           "xaxis": {
            "backgroundcolor": "#E5ECF6",
            "gridcolor": "white",
            "gridwidth": 2,
            "linecolor": "white",
            "showbackground": true,
            "ticks": "",
            "zerolinecolor": "white"
           },
           "yaxis": {
            "backgroundcolor": "#E5ECF6",
            "gridcolor": "white",
            "gridwidth": 2,
            "linecolor": "white",
            "showbackground": true,
            "ticks": "",
            "zerolinecolor": "white"
           },
           "zaxis": {
            "backgroundcolor": "#E5ECF6",
            "gridcolor": "white",
            "gridwidth": 2,
            "linecolor": "white",
            "showbackground": true,
            "ticks": "",
            "zerolinecolor": "white"
           }
          },
          "shapedefaults": {
           "line": {
            "color": "#2a3f5f"
           }
          },
          "ternary": {
           "aaxis": {
            "gridcolor": "white",
            "linecolor": "white",
            "ticks": ""
           },
           "baxis": {
            "gridcolor": "white",
            "linecolor": "white",
            "ticks": ""
           },
           "bgcolor": "#E5ECF6",
           "caxis": {
            "gridcolor": "white",
            "linecolor": "white",
            "ticks": ""
           }
          },
          "title": {
           "x": 0.05
          },
          "xaxis": {
           "automargin": true,
           "gridcolor": "white",
           "linecolor": "white",
           "ticks": "",
           "title": {
            "standoff": 15
           },
           "zerolinecolor": "white",
           "zerolinewidth": 2
          },
          "yaxis": {
           "automargin": true,
           "gridcolor": "white",
           "linecolor": "white",
           "ticks": "",
           "title": {
            "standoff": 15
           },
           "zerolinecolor": "white",
           "zerolinewidth": 2
          }
         }
        },
        "width": 700
       }
      }
     },
     "metadata": {},
     "output_type": "display_data"
    },
    {
     "data": {
      "application/vnd.plotly.v1+json": {
       "config": {
        "plotlyServerURL": "https://plot.ly"
       },
       "data": [
        {
         "coloraxis": "coloraxis",
         "geo": "geo",
         "hovertemplate": "index=%{location}<br>CreditToAgriFishForest=%{z}<extra></extra>",
         "locationmode": "country names",
         "locations": [
          "Switzerland",
          "Iceland",
          "Mali",
          "Latvia",
          "Senegal",
          "Somalia",
          "United Arab Emirates",
          "Togo",
          "Egypt",
          "Oman",
          "Thailand",
          "Burkina Faso",
          "Trinidad and Tobago",
          "Honduras",
          "Finland",
          "Germany",
          "Liberia",
          "Gabon",
          "Azerbaijan",
          "France",
          "New Zealand",
          "Philippines",
          "Antigua and Barbuda",
          "Dominica",
          "Slovakia",
          "Fiji",
          "Sudan",
          "Georgia",
          "Myanmar",
          "San Marino",
          "Jordan",
          "Lesotho",
          "Madagascar",
          "Niger",
          "Poland",
          "Seychelles",
          "Ukraine",
          "Liechtenstein",
          "Yemen",
          "Uruguay",
          "Kenya",
          "Argentina",
          "Brazil",
          "Albania",
          "Ecuador",
          "Nauru",
          "Iraq",
          "Greece",
          "Djibouti",
          "Sao Tome and Principe",
          "Kazakhstan",
          "Grenada",
          "Kyrgyzstan",
          "Zimbabwe",
          "Sierra Leone",
          "Ethiopia",
          "Mexico",
          "Angola",
          "South Sudan",
          "Pakistan",
          "Estonia",
          "Solomon Islands",
          "Uzbekistan",
          "Gambia",
          "Czechia",
          "Qatar",
          "Israel",
          "Australia",
          "Zambia",
          "Bahrain",
          "Rwanda",
          "Bhutan",
          "Mozambique",
          "Saint Lucia",
          "Equatorial Guinea",
          "Palau",
          "Suriname",
          "North Macedonia",
          "Cameroon",
          "Nicaragua",
          "Chad",
          "Guyana",
          "Malaysia",
          "Eritrea",
          "Tuvalu",
          "Kiribati",
          "Bosnia and Herzegovina",
          "Armenia",
          "Puerto Rico",
          "South Africa",
          "Jamaica",
          "Bermuda",
          "Romania",
          "Russia",
          "Andorra",
          "Sri Lanka",
          "Marshall Islands",
          "Turkmenistan",
          "Italy",
          "Mauritania",
          "Barbados",
          "United States",
          "Algeria",
          "Eswatini",
          "Congo",
          "Ghana",
          "Tajikistan",
          "Saudi Arabia",
          "Denmark",
          "Guinea",
          "Papua New Guinea",
          "Japan",
          "Nigeria",
          "Guatemala",
          "Greenland",
          "Libya",
          "Sweden",
          "Mauritius",
          "Vanuatu",
          "Aruba",
          "Central African Republic",
          "Montenegro",
          "Cayman Islands",
          "Serbia",
          "Canada",
          "Benin",
          "Ireland",
          "Dominican Republic",
          "Paraguay",
          "Chile",
          "Belgium",
          "Slovenia",
          "French Polynesia",
          "Maldives",
          "Haiti",
          "Tunisia",
          "Indonesia",
          "Kuwait",
          "Malawi",
          "Botswana",
          "Samoa",
          "Mongolia",
          "Namibia",
          "Cyprus",
          "Cambodia",
          "Portugal",
          "Bulgaria",
          "Luxembourg",
          "Comoros",
          "Guinea-Bissau",
          "Hungary",
          "New Caledonia",
          "Burundi",
          "Nepal",
          "Norway",
          "Panama",
          "Tonga",
          "Singapore",
          "United Kingdom",
          "Cuba",
          "Lebanon",
          "Malta",
          "Morocco",
          "Netherlands",
          "India",
          "Austria",
          "Colombia",
          "Bangladesh",
          "Costa Rica",
          "Spain",
          "Afghanistan",
          "Peru",
          "China",
          "Belize",
          "Belarus",
          "Uganda",
          "Croatia",
          "Lithuania",
          "El Salvador"
         ],
         "name": "",
         "type": "choropleth",
         "z": [
          0.8999813248162657,
          null,
          -0.7460816229129099,
          null,
          -0.7493581684819507,
          null,
          -0.4931984424481016,
          -0.247212516017317,
          -0.411246790255525,
          -0.5838336500330908,
          -0.9196428157629646,
          0.04566866010660209,
          -0.3933068354319681,
          null,
          null,
          0.7104906334831517,
          -0.6022476144042235,
          null,
          null,
          null,
          0.14287531570872425,
          -0.33277079707924456,
          -0.8892628959588543,
          -0.954508928690658,
          null,
          null,
          null,
          0.6849070971939557,
          null,
          null,
          -0.8285799429080696,
          null,
          null,
          -0.2595515945209502,
          null,
          0.47976096103112714,
          0.7818974930456046,
          null,
          0.27744240115229657,
          0.8909546319746129,
          -0.9200206132603012,
          0.6569280963188493,
          null,
          null,
          null,
          null,
          null,
          0.11422203426617263,
          null,
          null,
          null,
          -0.21715207089995825,
          0.9336426299936343,
          null,
          null,
          -0.04539854380339551,
          -0.448392204653899,
          null,
          null,
          -0.793539967814305,
          0.732152239417799,
          null,
          null,
          -0.35333571086151366,
          0.49280665842746174,
          null,
          -0.34580966718708483,
          0.4422633627359654,
          0.5644093994679781,
          -0.7029047131171181,
          0.06750542189460061,
          0.7692262574440174,
          -0.8576282054745212,
          -0.9090622462835486,
          null,
          null,
          null,
          null,
          null,
          -0.8278284095731483,
          null,
          0.09410397738513934,
          0.0551444475767744,
          null,
          null,
          null,
          null,
          -0.70808161025699,
          null,
          null,
          -0.439285324933764,
          null,
          null,
          null,
          null,
          0.6926314009311343,
          null,
          null,
          0.6006149529789273,
          null,
          -0.8261027244393941,
          -0.5354189603915989,
          null,
          null,
          null,
          -0.4724730450639176,
          null,
          null,
          null,
          null,
          -0.8859160807868339,
          null,
          -0.19725370042021925,
          -0.3307810202935166,
          null,
          null,
          null,
          null,
          -0.5078103653851948,
          -0.6035235084099436,
          null,
          null,
          null,
          null,
          -0.6646598308912942,
          -0.28636763851722263,
          0.7572809844189238,
          -0.6416929615788532,
          null,
          null,
          0.3227728093727439,
          null,
          null,
          -0.7744288683794273,
          null,
          -0.4442901604332387,
          0.2800001911428402,
          null,
          0.7386183638393763,
          0.7509772781252904,
          null,
          null,
          null,
          null,
          0.9294647194357494,
          null,
          0.8380027932950582,
          null,
          null,
          0.08634623959195754,
          -0.32982029989669265,
          null,
          null,
          0.8882412434772567,
          null,
          0.9654877690168013,
          null,
          0.7713694782192423,
          0.35841623999294947,
          null,
          null,
          null,
          null,
          null,
          0.8386532973126469,
          null,
          null,
          -0.5996050512175426,
          0.38516870153562416,
          -0.08220693589089334,
          null,
          null,
          null,
          0.5856566463302867,
          0.17976552163587411,
          0.4573824780751864,
          null,
          null,
          -0.6337265100134011
         ]
        }
       ],
       "layout": {
        "coloraxis": {
         "colorbar": {
          "title": {
           "text": "CreditToAgriFishForest"
          }
         },
         "colorscale": [
          [
           0,
           "rgb(255,245,240)"
          ],
          [
           0.125,
           "rgb(254,224,210)"
          ],
          [
           0.25,
           "rgb(252,187,161)"
          ],
          [
           0.375,
           "rgb(252,146,114)"
          ],
          [
           0.5,
           "rgb(251,106,74)"
          ],
          [
           0.625,
           "rgb(239,59,44)"
          ],
          [
           0.75,
           "rgb(203,24,29)"
          ],
          [
           0.875,
           "rgb(165,15,21)"
          ],
          [
           1,
           "rgb(103,0,13)"
          ]
         ],
         "showscale": true
        },
        "geo": {
         "center": {},
         "domain": {
          "x": [
           0,
           1
          ],
          "y": [
           0,
           1
          ]
         },
         "projection": {
          "type": "natural earth"
         }
        },
        "height": 500,
        "legend": {
         "tracegroupgap": 0
        },
        "margin": {
         "t": 60
        },
        "template": {
         "data": {
          "bar": [
           {
            "error_x": {
             "color": "#2a3f5f"
            },
            "error_y": {
             "color": "#2a3f5f"
            },
            "marker": {
             "line": {
              "color": "#E5ECF6",
              "width": 0.5
             },
             "pattern": {
              "fillmode": "overlay",
              "size": 10,
              "solidity": 0.2
             }
            },
            "type": "bar"
           }
          ],
          "barpolar": [
           {
            "marker": {
             "line": {
              "color": "#E5ECF6",
              "width": 0.5
             },
             "pattern": {
              "fillmode": "overlay",
              "size": 10,
              "solidity": 0.2
             }
            },
            "type": "barpolar"
           }
          ],
          "carpet": [
           {
            "aaxis": {
             "endlinecolor": "#2a3f5f",
             "gridcolor": "white",
             "linecolor": "white",
             "minorgridcolor": "white",
             "startlinecolor": "#2a3f5f"
            },
            "baxis": {
             "endlinecolor": "#2a3f5f",
             "gridcolor": "white",
             "linecolor": "white",
             "minorgridcolor": "white",
             "startlinecolor": "#2a3f5f"
            },
            "type": "carpet"
           }
          ],
          "choropleth": [
           {
            "colorbar": {
             "outlinewidth": 0,
             "ticks": ""
            },
            "type": "choropleth"
           }
          ],
          "contour": [
           {
            "colorbar": {
             "outlinewidth": 0,
             "ticks": ""
            },
            "colorscale": [
             [
              0,
              "#0d0887"
             ],
             [
              0.1111111111111111,
              "#46039f"
             ],
             [
              0.2222222222222222,
              "#7201a8"
             ],
             [
              0.3333333333333333,
              "#9c179e"
             ],
             [
              0.4444444444444444,
              "#bd3786"
             ],
             [
              0.5555555555555556,
              "#d8576b"
             ],
             [
              0.6666666666666666,
              "#ed7953"
             ],
             [
              0.7777777777777778,
              "#fb9f3a"
             ],
             [
              0.8888888888888888,
              "#fdca26"
             ],
             [
              1,
              "#f0f921"
             ]
            ],
            "type": "contour"
           }
          ],
          "contourcarpet": [
           {
            "colorbar": {
             "outlinewidth": 0,
             "ticks": ""
            },
            "type": "contourcarpet"
           }
          ],
          "heatmap": [
           {
            "colorbar": {
             "outlinewidth": 0,
             "ticks": ""
            },
            "colorscale": [
             [
              0,
              "#0d0887"
             ],
             [
              0.1111111111111111,
              "#46039f"
             ],
             [
              0.2222222222222222,
              "#7201a8"
             ],
             [
              0.3333333333333333,
              "#9c179e"
             ],
             [
              0.4444444444444444,
              "#bd3786"
             ],
             [
              0.5555555555555556,
              "#d8576b"
             ],
             [
              0.6666666666666666,
              "#ed7953"
             ],
             [
              0.7777777777777778,
              "#fb9f3a"
             ],
             [
              0.8888888888888888,
              "#fdca26"
             ],
             [
              1,
              "#f0f921"
             ]
            ],
            "type": "heatmap"
           }
          ],
          "heatmapgl": [
           {
            "colorbar": {
             "outlinewidth": 0,
             "ticks": ""
            },
            "colorscale": [
             [
              0,
              "#0d0887"
             ],
             [
              0.1111111111111111,
              "#46039f"
             ],
             [
              0.2222222222222222,
              "#7201a8"
             ],
             [
              0.3333333333333333,
              "#9c179e"
             ],
             [
              0.4444444444444444,
              "#bd3786"
             ],
             [
              0.5555555555555556,
              "#d8576b"
             ],
             [
              0.6666666666666666,
              "#ed7953"
             ],
             [
              0.7777777777777778,
              "#fb9f3a"
             ],
             [
              0.8888888888888888,
              "#fdca26"
             ],
             [
              1,
              "#f0f921"
             ]
            ],
            "type": "heatmapgl"
           }
          ],
          "histogram": [
           {
            "marker": {
             "pattern": {
              "fillmode": "overlay",
              "size": 10,
              "solidity": 0.2
             }
            },
            "type": "histogram"
           }
          ],
          "histogram2d": [
           {
            "colorbar": {
             "outlinewidth": 0,
             "ticks": ""
            },
            "colorscale": [
             [
              0,
              "#0d0887"
             ],
             [
              0.1111111111111111,
              "#46039f"
             ],
             [
              0.2222222222222222,
              "#7201a8"
             ],
             [
              0.3333333333333333,
              "#9c179e"
             ],
             [
              0.4444444444444444,
              "#bd3786"
             ],
             [
              0.5555555555555556,
              "#d8576b"
             ],
             [
              0.6666666666666666,
              "#ed7953"
             ],
             [
              0.7777777777777778,
              "#fb9f3a"
             ],
             [
              0.8888888888888888,
              "#fdca26"
             ],
             [
              1,
              "#f0f921"
             ]
            ],
            "type": "histogram2d"
           }
          ],
          "histogram2dcontour": [
           {
            "colorbar": {
             "outlinewidth": 0,
             "ticks": ""
            },
            "colorscale": [
             [
              0,
              "#0d0887"
             ],
             [
              0.1111111111111111,
              "#46039f"
             ],
             [
              0.2222222222222222,
              "#7201a8"
             ],
             [
              0.3333333333333333,
              "#9c179e"
             ],
             [
              0.4444444444444444,
              "#bd3786"
             ],
             [
              0.5555555555555556,
              "#d8576b"
             ],
             [
              0.6666666666666666,
              "#ed7953"
             ],
             [
              0.7777777777777778,
              "#fb9f3a"
             ],
             [
              0.8888888888888888,
              "#fdca26"
             ],
             [
              1,
              "#f0f921"
             ]
            ],
            "type": "histogram2dcontour"
           }
          ],
          "mesh3d": [
           {
            "colorbar": {
             "outlinewidth": 0,
             "ticks": ""
            },
            "type": "mesh3d"
           }
          ],
          "parcoords": [
           {
            "line": {
             "colorbar": {
              "outlinewidth": 0,
              "ticks": ""
             }
            },
            "type": "parcoords"
           }
          ],
          "pie": [
           {
            "automargin": true,
            "type": "pie"
           }
          ],
          "scatter": [
           {
            "fillpattern": {
             "fillmode": "overlay",
             "size": 10,
             "solidity": 0.2
            },
            "type": "scatter"
           }
          ],
          "scatter3d": [
           {
            "line": {
             "colorbar": {
              "outlinewidth": 0,
              "ticks": ""
             }
            },
            "marker": {
             "colorbar": {
              "outlinewidth": 0,
              "ticks": ""
             }
            },
            "type": "scatter3d"
           }
          ],
          "scattercarpet": [
           {
            "marker": {
             "colorbar": {
              "outlinewidth": 0,
              "ticks": ""
             }
            },
            "type": "scattercarpet"
           }
          ],
          "scattergeo": [
           {
            "marker": {
             "colorbar": {
              "outlinewidth": 0,
              "ticks": ""
             }
            },
            "type": "scattergeo"
           }
          ],
          "scattergl": [
           {
            "marker": {
             "colorbar": {
              "outlinewidth": 0,
              "ticks": ""
             }
            },
            "type": "scattergl"
           }
          ],
          "scattermapbox": [
           {
            "marker": {
             "colorbar": {
              "outlinewidth": 0,
              "ticks": ""
             }
            },
            "type": "scattermapbox"
           }
          ],
          "scatterpolar": [
           {
            "marker": {
             "colorbar": {
              "outlinewidth": 0,
              "ticks": ""
             }
            },
            "type": "scatterpolar"
           }
          ],
          "scatterpolargl": [
           {
            "marker": {
             "colorbar": {
              "outlinewidth": 0,
              "ticks": ""
             }
            },
            "type": "scatterpolargl"
           }
          ],
          "scatterternary": [
           {
            "marker": {
             "colorbar": {
              "outlinewidth": 0,
              "ticks": ""
             }
            },
            "type": "scatterternary"
           }
          ],
          "surface": [
           {
            "colorbar": {
             "outlinewidth": 0,
             "ticks": ""
            },
            "colorscale": [
             [
              0,
              "#0d0887"
             ],
             [
              0.1111111111111111,
              "#46039f"
             ],
             [
              0.2222222222222222,
              "#7201a8"
             ],
             [
              0.3333333333333333,
              "#9c179e"
             ],
             [
              0.4444444444444444,
              "#bd3786"
             ],
             [
              0.5555555555555556,
              "#d8576b"
             ],
             [
              0.6666666666666666,
              "#ed7953"
             ],
             [
              0.7777777777777778,
              "#fb9f3a"
             ],
             [
              0.8888888888888888,
              "#fdca26"
             ],
             [
              1,
              "#f0f921"
             ]
            ],
            "type": "surface"
           }
          ],
          "table": [
           {
            "cells": {
             "fill": {
              "color": "#EBF0F8"
             },
             "line": {
              "color": "white"
             }
            },
            "header": {
             "fill": {
              "color": "#C8D4E3"
             },
             "line": {
              "color": "white"
             }
            },
            "type": "table"
           }
          ]
         },
         "layout": {
          "annotationdefaults": {
           "arrowcolor": "#2a3f5f",
           "arrowhead": 0,
           "arrowwidth": 1
          },
          "autotypenumbers": "strict",
          "coloraxis": {
           "colorbar": {
            "outlinewidth": 0,
            "ticks": ""
           }
          },
          "colorscale": {
           "diverging": [
            [
             0,
             "#8e0152"
            ],
            [
             0.1,
             "#c51b7d"
            ],
            [
             0.2,
             "#de77ae"
            ],
            [
             0.3,
             "#f1b6da"
            ],
            [
             0.4,
             "#fde0ef"
            ],
            [
             0.5,
             "#f7f7f7"
            ],
            [
             0.6,
             "#e6f5d0"
            ],
            [
             0.7,
             "#b8e186"
            ],
            [
             0.8,
             "#7fbc41"
            ],
            [
             0.9,
             "#4d9221"
            ],
            [
             1,
             "#276419"
            ]
           ],
           "sequential": [
            [
             0,
             "#0d0887"
            ],
            [
             0.1111111111111111,
             "#46039f"
            ],
            [
             0.2222222222222222,
             "#7201a8"
            ],
            [
             0.3333333333333333,
             "#9c179e"
            ],
            [
             0.4444444444444444,
             "#bd3786"
            ],
            [
             0.5555555555555556,
             "#d8576b"
            ],
            [
             0.6666666666666666,
             "#ed7953"
            ],
            [
             0.7777777777777778,
             "#fb9f3a"
            ],
            [
             0.8888888888888888,
             "#fdca26"
            ],
            [
             1,
             "#f0f921"
            ]
           ],
           "sequentialminus": [
            [
             0,
             "#0d0887"
            ],
            [
             0.1111111111111111,
             "#46039f"
            ],
            [
             0.2222222222222222,
             "#7201a8"
            ],
            [
             0.3333333333333333,
             "#9c179e"
            ],
            [
             0.4444444444444444,
             "#bd3786"
            ],
            [
             0.5555555555555556,
             "#d8576b"
            ],
            [
             0.6666666666666666,
             "#ed7953"
            ],
            [
             0.7777777777777778,
             "#fb9f3a"
            ],
            [
             0.8888888888888888,
             "#fdca26"
            ],
            [
             1,
             "#f0f921"
            ]
           ]
          },
          "colorway": [
           "#636efa",
           "#EF553B",
           "#00cc96",
           "#ab63fa",
           "#FFA15A",
           "#19d3f3",
           "#FF6692",
           "#B6E880",
           "#FF97FF",
           "#FECB52"
          ],
          "font": {
           "color": "#2a3f5f"
          },
          "geo": {
           "bgcolor": "white",
           "lakecolor": "white",
           "landcolor": "#E5ECF6",
           "showlakes": true,
           "showland": true,
           "subunitcolor": "white"
          },
          "hoverlabel": {
           "align": "left"
          },
          "hovermode": "closest",
          "mapbox": {
           "style": "light"
          },
          "paper_bgcolor": "white",
          "plot_bgcolor": "#E5ECF6",
          "polar": {
           "angularaxis": {
            "gridcolor": "white",
            "linecolor": "white",
            "ticks": ""
           },
           "bgcolor": "#E5ECF6",
           "radialaxis": {
            "gridcolor": "white",
            "linecolor": "white",
            "ticks": ""
           }
          },
          "scene": {
           "xaxis": {
            "backgroundcolor": "#E5ECF6",
            "gridcolor": "white",
            "gridwidth": 2,
            "linecolor": "white",
            "showbackground": true,
            "ticks": "",
            "zerolinecolor": "white"
           },
           "yaxis": {
            "backgroundcolor": "#E5ECF6",
            "gridcolor": "white",
            "gridwidth": 2,
            "linecolor": "white",
            "showbackground": true,
            "ticks": "",
            "zerolinecolor": "white"
           },
           "zaxis": {
            "backgroundcolor": "#E5ECF6",
            "gridcolor": "white",
            "gridwidth": 2,
            "linecolor": "white",
            "showbackground": true,
            "ticks": "",
            "zerolinecolor": "white"
           }
          },
          "shapedefaults": {
           "line": {
            "color": "#2a3f5f"
           }
          },
          "ternary": {
           "aaxis": {
            "gridcolor": "white",
            "linecolor": "white",
            "ticks": ""
           },
           "baxis": {
            "gridcolor": "white",
            "linecolor": "white",
            "ticks": ""
           },
           "bgcolor": "#E5ECF6",
           "caxis": {
            "gridcolor": "white",
            "linecolor": "white",
            "ticks": ""
           }
          },
          "title": {
           "x": 0.05
          },
          "xaxis": {
           "automargin": true,
           "gridcolor": "white",
           "linecolor": "white",
           "ticks": "",
           "title": {
            "standoff": 15
           },
           "zerolinecolor": "white",
           "zerolinewidth": 2
          },
          "yaxis": {
           "automargin": true,
           "gridcolor": "white",
           "linecolor": "white",
           "ticks": "",
           "title": {
            "standoff": 15
           },
           "zerolinecolor": "white",
           "zerolinewidth": 2
          }
         }
        },
        "width": 700
       }
      }
     },
     "metadata": {},
     "output_type": "display_data"
    },
    {
     "data": {
      "application/vnd.plotly.v1+json": {
       "config": {
        "plotlyServerURL": "https://plot.ly"
       },
       "data": [
        {
         "coloraxis": "coloraxis",
         "geo": "geo",
         "hovertemplate": "index=%{location}<br>AgriShareGDP=%{z}<extra></extra>",
         "locationmode": "country names",
         "locations": [
          "Switzerland",
          "Iceland",
          "Mali",
          "Latvia",
          "Senegal",
          "Somalia",
          "United Arab Emirates",
          "Togo",
          "Egypt",
          "Oman",
          "Thailand",
          "Burkina Faso",
          "Trinidad and Tobago",
          "Honduras",
          "Finland",
          "Germany",
          "Liberia",
          "Gabon",
          "Azerbaijan",
          "France",
          "New Zealand",
          "Philippines",
          "Antigua and Barbuda",
          "Dominica",
          "Slovakia",
          "Fiji",
          "Sudan",
          "Georgia",
          "Myanmar",
          "San Marino",
          "Jordan",
          "Lesotho",
          "Madagascar",
          "Niger",
          "Poland",
          "Seychelles",
          "Ukraine",
          "Liechtenstein",
          "Yemen",
          "Uruguay",
          "Kenya",
          "Argentina",
          "Brazil",
          "Albania",
          "Ecuador",
          "Nauru",
          "Iraq",
          "Greece",
          "Djibouti",
          "Sao Tome and Principe",
          "Kazakhstan",
          "Grenada",
          "Kyrgyzstan",
          "Zimbabwe",
          "Sierra Leone",
          "Ethiopia",
          "Mexico",
          "Angola",
          "South Sudan",
          "Pakistan",
          "Estonia",
          "Solomon Islands",
          "Uzbekistan",
          "Gambia",
          "Czechia",
          "Qatar",
          "Israel",
          "Australia",
          "Zambia",
          "Bahrain",
          "Rwanda",
          "Bhutan",
          "Mozambique",
          "Saint Lucia",
          "Equatorial Guinea",
          "Palau",
          "Suriname",
          "North Macedonia",
          "Cameroon",
          "Nicaragua",
          "Chad",
          "Guyana",
          "Malaysia",
          "Eritrea",
          "Tuvalu",
          "Kiribati",
          "Bosnia and Herzegovina",
          "Armenia",
          "Puerto Rico",
          "South Africa",
          "Jamaica",
          "Bermuda",
          "Romania",
          "Russia",
          "Andorra",
          "Sri Lanka",
          "Marshall Islands",
          "Turkmenistan",
          "Italy",
          "Mauritania",
          "Barbados",
          "United States",
          "Algeria",
          "Eswatini",
          "Congo",
          "Ghana",
          "Tajikistan",
          "Saudi Arabia",
          "Denmark",
          "Guinea",
          "Papua New Guinea",
          "Japan",
          "Nigeria",
          "Guatemala",
          "Greenland",
          "Libya",
          "Sweden",
          "Mauritius",
          "Vanuatu",
          "Aruba",
          "Central African Republic",
          "Montenegro",
          "Cayman Islands",
          "Serbia",
          "Canada",
          "Benin",
          "Ireland",
          "Dominican Republic",
          "Paraguay",
          "Chile",
          "Belgium",
          "Slovenia",
          "French Polynesia",
          "Maldives",
          "Haiti",
          "Tunisia",
          "Indonesia",
          "Kuwait",
          "Malawi",
          "Botswana",
          "Samoa",
          "Mongolia",
          "Namibia",
          "Cyprus",
          "Cambodia",
          "Portugal",
          "Bulgaria",
          "Luxembourg",
          "Comoros",
          "Guinea-Bissau",
          "Hungary",
          "New Caledonia",
          "Burundi",
          "Nepal",
          "Norway",
          "Panama",
          "Tonga",
          "Singapore",
          "United Kingdom",
          "Cuba",
          "Lebanon",
          "Malta",
          "Morocco",
          "Netherlands",
          "India",
          "Austria",
          "Colombia",
          "Bangladesh",
          "Costa Rica",
          "Spain",
          "Afghanistan",
          "Peru",
          "China",
          "Belize",
          "Belarus",
          "Uganda",
          "Croatia",
          "Lithuania",
          "El Salvador"
         ],
         "name": "",
         "type": "choropleth",
         "z": [
          -0.9267462935060482,
          -0.9314906398719144,
          0.8168640617370294,
          -0.7708455187171825,
          -0.06415712286442721,
          -0.08070561376728035,
          -0.9279434164823261,
          -0.8234424931464022,
          -0.5143855567867214,
          -0.30595282970630217,
          0.03681014117421503,
          -0.7751609152889536,
          -0.8083567434722658,
          -0.16265315958888382,
          -0.6844897662727807,
          -0.565806539276942,
          -0.19164420133785307,
          -0.7019760365914864,
          -0.8581621857504442,
          -0.8641423065584387,
          -0.3901300466124,
          -0.8991487437017284,
          0.1240682496625928,
          0.6771268988188248,
          0.546178642978574,
          -0.42454006505696285,
          null,
          -0.9508662246185998,
          -0.9678699960054002,
          0.06584950093930352,
          0.9292437594281578,
          -0.800495784861207,
          -0.8569135424696452,
          -0.4406847469701758,
          -0.5104884920594763,
          -0.7416434293602443,
          -0.7796743745253912,
          -0.7033535847829139,
          0.07771098793417787,
          -0.5769315589389916,
          0.929395604705077,
          -0.5034609536804338,
          -0.6824726955116254,
          -0.7213763707469719,
          -0.7215009939786482,
          -0.9432697722260653,
          -0.7932788342898283,
          -0.8541526771526231,
          -0.9037244864916116,
          -0.7292752475891066,
          -0.9136350482950665,
          0.16028226101681153,
          -0.8310736040825246,
          -0.674981469076645,
          0.6343035981396866,
          -0.7427944720312178,
          -0.15110982788610094,
          0.24450512087313336,
          null,
          -0.3564374169269262,
          -0.630469765190067,
          -0.3991969835189398,
          -0.8332276663583743,
          -0.5040785343058328,
          -0.6222328038675436,
          -0.5437859823468949,
          -0.7777787590746487,
          -0.7812355938750303,
          -0.8459189655045559,
          -0.7800474945395834,
          -0.8203148473144741,
          -0.8025977498851751,
          0.5677661615395543,
          -0.8437032161877829,
          -0.8486192959235674,
          -0.9558679200949804,
          -0.8018750496047906,
          -0.4533358395612625,
          -0.18613061166870498,
          -0.3141050792765419,
          -0.5438517653153988,
          -0.8095978580774993,
          -0.05799405968765384,
          0.08233872730476581,
          0.2001302170135677,
          0.6441786963795697,
          -0.890388711927548,
          -0.8594781938426445,
          0.5731166325165244,
          -0.8427968232002708,
          0.3936404788192563,
          -0.8521168107283245,
          -0.9374688324008857,
          -0.9306417343797083,
          0.03750664329868265,
          -0.6031364214233185,
          0.7356448962507441,
          -0.9165808027323511,
          -0.8820808398131004,
          -0.6962296775129467,
          -0.8935594731221601,
          -0.169931328254077,
          0.13775097173642994,
          -0.8020291724807224,
          -0.6362752332249866,
          -0.8986316649951261,
          -0.11816046448941489,
          -0.8954205369814583,
          -0.768554121585154,
          0.4981590975526931,
          -0.9062326254496571,
          -0.4918021235272721,
          -0.7416626489049046,
          -0.910783581293827,
          0.015425452701193196,
          -0.535871362042077,
          -0.6939308578106985,
          -0.9680608365989137,
          -0.18856175434640862,
          0.3741649727817593,
          -0.6508918168523262,
          -0.9250468161036534,
          0.8329453438889185,
          -0.7938048760063402,
          -0.6032401543385976,
          0.5585501439003824,
          -0.7218655963258508,
          -0.8988548560906199,
          0.12020046388224769,
          -0.8374628674303137,
          -0.9291809511372993,
          -0.8631718214807295,
          -0.833534845066142,
          -0.35871070546205086,
          -0.5119431587894402,
          -0.11240984433863804,
          -0.052732060454409355,
          -0.216973472969378,
          -0.839805329038585,
          -0.5247023240976855,
          -0.9520872058064423,
          -0.8355217345279581,
          -0.7955630866641139,
          -0.9199037030067883,
          -0.8189385846768551,
          -0.9370489810725439,
          -0.9575448068063352,
          -0.9084049485084351,
          -0.5927549619729722,
          0.41629981975830316,
          -0.7856366651656908,
          -0.5905723882687031,
          -0.3496495655232733,
          -0.8758891199022157,
          -0.14353291554326994,
          -0.9325517979342587,
          -0.1788512484648285,
          -0.8927550621050807,
          -0.716390085534926,
          -0.7411778615096978,
          -0.503101313242976,
          -0.9712198891595265,
          -0.42151315976729525,
          -0.9279197943938866,
          -0.700649507092263,
          -0.8285363932508436,
          -0.9287236078660797,
          -0.9076013100731348,
          -0.9836031733548807,
          -0.9246020681684352,
          -0.8702332125359779,
          -0.322646527474029,
          null,
          -0.6064329687837003,
          -0.7406875567638112,
          -0.5524986567664869,
          -0.713594624166334,
          -0.8353353151260893,
          -0.4863337520474014
         ]
        }
       ],
       "layout": {
        "coloraxis": {
         "colorbar": {
          "title": {
           "text": "AgriShareGDP"
          }
         },
         "colorscale": [
          [
           0,
           "rgb(255,245,240)"
          ],
          [
           0.125,
           "rgb(254,224,210)"
          ],
          [
           0.25,
           "rgb(252,187,161)"
          ],
          [
           0.375,
           "rgb(252,146,114)"
          ],
          [
           0.5,
           "rgb(251,106,74)"
          ],
          [
           0.625,
           "rgb(239,59,44)"
          ],
          [
           0.75,
           "rgb(203,24,29)"
          ],
          [
           0.875,
           "rgb(165,15,21)"
          ],
          [
           1,
           "rgb(103,0,13)"
          ]
         ],
         "showscale": true
        },
        "geo": {
         "center": {},
         "domain": {
          "x": [
           0,
           1
          ],
          "y": [
           0,
           1
          ]
         },
         "projection": {
          "type": "natural earth"
         }
        },
        "height": 500,
        "legend": {
         "tracegroupgap": 0
        },
        "margin": {
         "t": 60
        },
        "template": {
         "data": {
          "bar": [
           {
            "error_x": {
             "color": "#2a3f5f"
            },
            "error_y": {
             "color": "#2a3f5f"
            },
            "marker": {
             "line": {
              "color": "#E5ECF6",
              "width": 0.5
             },
             "pattern": {
              "fillmode": "overlay",
              "size": 10,
              "solidity": 0.2
             }
            },
            "type": "bar"
           }
          ],
          "barpolar": [
           {
            "marker": {
             "line": {
              "color": "#E5ECF6",
              "width": 0.5
             },
             "pattern": {
              "fillmode": "overlay",
              "size": 10,
              "solidity": 0.2
             }
            },
            "type": "barpolar"
           }
          ],
          "carpet": [
           {
            "aaxis": {
             "endlinecolor": "#2a3f5f",
             "gridcolor": "white",
             "linecolor": "white",
             "minorgridcolor": "white",
             "startlinecolor": "#2a3f5f"
            },
            "baxis": {
             "endlinecolor": "#2a3f5f",
             "gridcolor": "white",
             "linecolor": "white",
             "minorgridcolor": "white",
             "startlinecolor": "#2a3f5f"
            },
            "type": "carpet"
           }
          ],
          "choropleth": [
           {
            "colorbar": {
             "outlinewidth": 0,
             "ticks": ""
            },
            "type": "choropleth"
           }
          ],
          "contour": [
           {
            "colorbar": {
             "outlinewidth": 0,
             "ticks": ""
            },
            "colorscale": [
             [
              0,
              "#0d0887"
             ],
             [
              0.1111111111111111,
              "#46039f"
             ],
             [
              0.2222222222222222,
              "#7201a8"
             ],
             [
              0.3333333333333333,
              "#9c179e"
             ],
             [
              0.4444444444444444,
              "#bd3786"
             ],
             [
              0.5555555555555556,
              "#d8576b"
             ],
             [
              0.6666666666666666,
              "#ed7953"
             ],
             [
              0.7777777777777778,
              "#fb9f3a"
             ],
             [
              0.8888888888888888,
              "#fdca26"
             ],
             [
              1,
              "#f0f921"
             ]
            ],
            "type": "contour"
           }
          ],
          "contourcarpet": [
           {
            "colorbar": {
             "outlinewidth": 0,
             "ticks": ""
            },
            "type": "contourcarpet"
           }
          ],
          "heatmap": [
           {
            "colorbar": {
             "outlinewidth": 0,
             "ticks": ""
            },
            "colorscale": [
             [
              0,
              "#0d0887"
             ],
             [
              0.1111111111111111,
              "#46039f"
             ],
             [
              0.2222222222222222,
              "#7201a8"
             ],
             [
              0.3333333333333333,
              "#9c179e"
             ],
             [
              0.4444444444444444,
              "#bd3786"
             ],
             [
              0.5555555555555556,
              "#d8576b"
             ],
             [
              0.6666666666666666,
              "#ed7953"
             ],
             [
              0.7777777777777778,
              "#fb9f3a"
             ],
             [
              0.8888888888888888,
              "#fdca26"
             ],
             [
              1,
              "#f0f921"
             ]
            ],
            "type": "heatmap"
           }
          ],
          "heatmapgl": [
           {
            "colorbar": {
             "outlinewidth": 0,
             "ticks": ""
            },
            "colorscale": [
             [
              0,
              "#0d0887"
             ],
             [
              0.1111111111111111,
              "#46039f"
             ],
             [
              0.2222222222222222,
              "#7201a8"
             ],
             [
              0.3333333333333333,
              "#9c179e"
             ],
             [
              0.4444444444444444,
              "#bd3786"
             ],
             [
              0.5555555555555556,
              "#d8576b"
             ],
             [
              0.6666666666666666,
              "#ed7953"
             ],
             [
              0.7777777777777778,
              "#fb9f3a"
             ],
             [
              0.8888888888888888,
              "#fdca26"
             ],
             [
              1,
              "#f0f921"
             ]
            ],
            "type": "heatmapgl"
           }
          ],
          "histogram": [
           {
            "marker": {
             "pattern": {
              "fillmode": "overlay",
              "size": 10,
              "solidity": 0.2
             }
            },
            "type": "histogram"
           }
          ],
          "histogram2d": [
           {
            "colorbar": {
             "outlinewidth": 0,
             "ticks": ""
            },
            "colorscale": [
             [
              0,
              "#0d0887"
             ],
             [
              0.1111111111111111,
              "#46039f"
             ],
             [
              0.2222222222222222,
              "#7201a8"
             ],
             [
              0.3333333333333333,
              "#9c179e"
             ],
             [
              0.4444444444444444,
              "#bd3786"
             ],
             [
              0.5555555555555556,
              "#d8576b"
             ],
             [
              0.6666666666666666,
              "#ed7953"
             ],
             [
              0.7777777777777778,
              "#fb9f3a"
             ],
             [
              0.8888888888888888,
              "#fdca26"
             ],
             [
              1,
              "#f0f921"
             ]
            ],
            "type": "histogram2d"
           }
          ],
          "histogram2dcontour": [
           {
            "colorbar": {
             "outlinewidth": 0,
             "ticks": ""
            },
            "colorscale": [
             [
              0,
              "#0d0887"
             ],
             [
              0.1111111111111111,
              "#46039f"
             ],
             [
              0.2222222222222222,
              "#7201a8"
             ],
             [
              0.3333333333333333,
              "#9c179e"
             ],
             [
              0.4444444444444444,
              "#bd3786"
             ],
             [
              0.5555555555555556,
              "#d8576b"
             ],
             [
              0.6666666666666666,
              "#ed7953"
             ],
             [
              0.7777777777777778,
              "#fb9f3a"
             ],
             [
              0.8888888888888888,
              "#fdca26"
             ],
             [
              1,
              "#f0f921"
             ]
            ],
            "type": "histogram2dcontour"
           }
          ],
          "mesh3d": [
           {
            "colorbar": {
             "outlinewidth": 0,
             "ticks": ""
            },
            "type": "mesh3d"
           }
          ],
          "parcoords": [
           {
            "line": {
             "colorbar": {
              "outlinewidth": 0,
              "ticks": ""
             }
            },
            "type": "parcoords"
           }
          ],
          "pie": [
           {
            "automargin": true,
            "type": "pie"
           }
          ],
          "scatter": [
           {
            "fillpattern": {
             "fillmode": "overlay",
             "size": 10,
             "solidity": 0.2
            },
            "type": "scatter"
           }
          ],
          "scatter3d": [
           {
            "line": {
             "colorbar": {
              "outlinewidth": 0,
              "ticks": ""
             }
            },
            "marker": {
             "colorbar": {
              "outlinewidth": 0,
              "ticks": ""
             }
            },
            "type": "scatter3d"
           }
          ],
          "scattercarpet": [
           {
            "marker": {
             "colorbar": {
              "outlinewidth": 0,
              "ticks": ""
             }
            },
            "type": "scattercarpet"
           }
          ],
          "scattergeo": [
           {
            "marker": {
             "colorbar": {
              "outlinewidth": 0,
              "ticks": ""
             }
            },
            "type": "scattergeo"
           }
          ],
          "scattergl": [
           {
            "marker": {
             "colorbar": {
              "outlinewidth": 0,
              "ticks": ""
             }
            },
            "type": "scattergl"
           }
          ],
          "scattermapbox": [
           {
            "marker": {
             "colorbar": {
              "outlinewidth": 0,
              "ticks": ""
             }
            },
            "type": "scattermapbox"
           }
          ],
          "scatterpolar": [
           {
            "marker": {
             "colorbar": {
              "outlinewidth": 0,
              "ticks": ""
             }
            },
            "type": "scatterpolar"
           }
          ],
          "scatterpolargl": [
           {
            "marker": {
             "colorbar": {
              "outlinewidth": 0,
              "ticks": ""
             }
            },
            "type": "scatterpolargl"
           }
          ],
          "scatterternary": [
           {
            "marker": {
             "colorbar": {
              "outlinewidth": 0,
              "ticks": ""
             }
            },
            "type": "scatterternary"
           }
          ],
          "surface": [
           {
            "colorbar": {
             "outlinewidth": 0,
             "ticks": ""
            },
            "colorscale": [
             [
              0,
              "#0d0887"
             ],
             [
              0.1111111111111111,
              "#46039f"
             ],
             [
              0.2222222222222222,
              "#7201a8"
             ],
             [
              0.3333333333333333,
              "#9c179e"
             ],
             [
              0.4444444444444444,
              "#bd3786"
             ],
             [
              0.5555555555555556,
              "#d8576b"
             ],
             [
              0.6666666666666666,
              "#ed7953"
             ],
             [
              0.7777777777777778,
              "#fb9f3a"
             ],
             [
              0.8888888888888888,
              "#fdca26"
             ],
             [
              1,
              "#f0f921"
             ]
            ],
            "type": "surface"
           }
          ],
          "table": [
           {
            "cells": {
             "fill": {
              "color": "#EBF0F8"
             },
             "line": {
              "color": "white"
             }
            },
            "header": {
             "fill": {
              "color": "#C8D4E3"
             },
             "line": {
              "color": "white"
             }
            },
            "type": "table"
           }
          ]
         },
         "layout": {
          "annotationdefaults": {
           "arrowcolor": "#2a3f5f",
           "arrowhead": 0,
           "arrowwidth": 1
          },
          "autotypenumbers": "strict",
          "coloraxis": {
           "colorbar": {
            "outlinewidth": 0,
            "ticks": ""
           }
          },
          "colorscale": {
           "diverging": [
            [
             0,
             "#8e0152"
            ],
            [
             0.1,
             "#c51b7d"
            ],
            [
             0.2,
             "#de77ae"
            ],
            [
             0.3,
             "#f1b6da"
            ],
            [
             0.4,
             "#fde0ef"
            ],
            [
             0.5,
             "#f7f7f7"
            ],
            [
             0.6,
             "#e6f5d0"
            ],
            [
             0.7,
             "#b8e186"
            ],
            [
             0.8,
             "#7fbc41"
            ],
            [
             0.9,
             "#4d9221"
            ],
            [
             1,
             "#276419"
            ]
           ],
           "sequential": [
            [
             0,
             "#0d0887"
            ],
            [
             0.1111111111111111,
             "#46039f"
            ],
            [
             0.2222222222222222,
             "#7201a8"
            ],
            [
             0.3333333333333333,
             "#9c179e"
            ],
            [
             0.4444444444444444,
             "#bd3786"
            ],
            [
             0.5555555555555556,
             "#d8576b"
            ],
            [
             0.6666666666666666,
             "#ed7953"
            ],
            [
             0.7777777777777778,
             "#fb9f3a"
            ],
            [
             0.8888888888888888,
             "#fdca26"
            ],
            [
             1,
             "#f0f921"
            ]
           ],
           "sequentialminus": [
            [
             0,
             "#0d0887"
            ],
            [
             0.1111111111111111,
             "#46039f"
            ],
            [
             0.2222222222222222,
             "#7201a8"
            ],
            [
             0.3333333333333333,
             "#9c179e"
            ],
            [
             0.4444444444444444,
             "#bd3786"
            ],
            [
             0.5555555555555556,
             "#d8576b"
            ],
            [
             0.6666666666666666,
             "#ed7953"
            ],
            [
             0.7777777777777778,
             "#fb9f3a"
            ],
            [
             0.8888888888888888,
             "#fdca26"
            ],
            [
             1,
             "#f0f921"
            ]
           ]
          },
          "colorway": [
           "#636efa",
           "#EF553B",
           "#00cc96",
           "#ab63fa",
           "#FFA15A",
           "#19d3f3",
           "#FF6692",
           "#B6E880",
           "#FF97FF",
           "#FECB52"
          ],
          "font": {
           "color": "#2a3f5f"
          },
          "geo": {
           "bgcolor": "white",
           "lakecolor": "white",
           "landcolor": "#E5ECF6",
           "showlakes": true,
           "showland": true,
           "subunitcolor": "white"
          },
          "hoverlabel": {
           "align": "left"
          },
          "hovermode": "closest",
          "mapbox": {
           "style": "light"
          },
          "paper_bgcolor": "white",
          "plot_bgcolor": "#E5ECF6",
          "polar": {
           "angularaxis": {
            "gridcolor": "white",
            "linecolor": "white",
            "ticks": ""
           },
           "bgcolor": "#E5ECF6",
           "radialaxis": {
            "gridcolor": "white",
            "linecolor": "white",
            "ticks": ""
           }
          },
          "scene": {
           "xaxis": {
            "backgroundcolor": "#E5ECF6",
            "gridcolor": "white",
            "gridwidth": 2,
            "linecolor": "white",
            "showbackground": true,
            "ticks": "",
            "zerolinecolor": "white"
           },
           "yaxis": {
            "backgroundcolor": "#E5ECF6",
            "gridcolor": "white",
            "gridwidth": 2,
            "linecolor": "white",
            "showbackground": true,
            "ticks": "",
            "zerolinecolor": "white"
           },
           "zaxis": {
            "backgroundcolor": "#E5ECF6",
            "gridcolor": "white",
            "gridwidth": 2,
            "linecolor": "white",
            "showbackground": true,
            "ticks": "",
            "zerolinecolor": "white"
           }
          },
          "shapedefaults": {
           "line": {
            "color": "#2a3f5f"
           }
          },
          "ternary": {
           "aaxis": {
            "gridcolor": "white",
            "linecolor": "white",
            "ticks": ""
           },
           "baxis": {
            "gridcolor": "white",
            "linecolor": "white",
            "ticks": ""
           },
           "bgcolor": "#E5ECF6",
           "caxis": {
            "gridcolor": "white",
            "linecolor": "white",
            "ticks": ""
           }
          },
          "title": {
           "x": 0.05
          },
          "xaxis": {
           "automargin": true,
           "gridcolor": "white",
           "linecolor": "white",
           "ticks": "",
           "title": {
            "standoff": 15
           },
           "zerolinecolor": "white",
           "zerolinewidth": 2
          },
          "yaxis": {
           "automargin": true,
           "gridcolor": "white",
           "linecolor": "white",
           "ticks": "",
           "title": {
            "standoff": 15
           },
           "zerolinecolor": "white",
           "zerolinewidth": 2
          }
         }
        },
        "width": 700
       }
      }
     },
     "metadata": {},
     "output_type": "display_data"
    }
   ],
   "source": [
    "import ipywidgets as widgets\n",
    "import plotly.express as px\n",
    "\n",
    "\n",
    "indicator = widgets.SelectMultiple(\n",
    "    options = corr_df.columns.tolist(),\n",
    "    value = ['AgriShareGDP'],\n",
    "    description='Indicator',\n",
    "    disabled=False,\n",
    "    layout = Layout(width='50%', height='80px')\n",
    ")\n",
    "\n",
    "\n",
    "def globalGrapgh(indicator):\n",
    "    fig = px.choropleth(corr_df, locations = corr_df.index, locationmode='country names', \n",
    "                        color= indicator[0],projection=\"natural earth\",\n",
    "                        color_continuous_scale='Reds',\n",
    "                    width=700, height=500)\n",
    "    fig.update(layout_coloraxis_showscale=True)\n",
    "    fig.show()\n",
    "    \n",
    "    \n",
    "widgets.interactive(globalGrapgh, indicator = indicator) "
   ]
  },
  {
   "cell_type": "code",
   "execution_count": 13,
   "metadata": {},
   "outputs": [
    {
     "data": {
      "application/vnd.jupyter.widget-view+json": {
       "model_id": "2c19d9f725134e77ad221ebde076da6d",
       "version_major": 2,
       "version_minor": 0
      },
      "text/plain": [
       "interactive(children=(Dropdown(description='Country', options=('Afghanistan', 'Albania', 'Algeria', 'Andorra',…"
      ]
     },
     "metadata": {},
     "output_type": "display_data"
    }
   ],
   "source": [
    "def tableOut(Threshold, Country):\n",
    "\n",
    "    df = search(Threshold, Country)\n",
    "    if df.empty:\n",
    "        return print(\"No indicators have been found.\")\n",
    "\n",
    "    left = pd.Series([0.05, 0.05], index=['P-value Pearson', 'P-value Spearman'])\n",
    "    left2 = pd.Series([-1, -1], index=['GDP Pearson Corr', 'GDP Spearman Corr'])\n",
    "    left3 = pd.Series([0, 0], index=['GDP Pearson Corr', 'GDP Spearman Corr'])\n",
    "    df =df.style.highlight_between(left=left, right=1.5, axis=1, props='color:white; background-color:red;')\\\n",
    "        .highlight_between(left=left2, right=1.5, axis=1, props='color:white; background-color:#929bfc;')\\\n",
    "        .highlight_between(left=left3, right=1.5, axis=1, props='color:white; background-color:#b3b9ff;')\\\n",
    "        .format('{:,.4f}', subset = ['GDP Pearson Corr', 'GDP Spearman Corr'])\\\n",
    "        .format('{:,.12f}', subset = ['P-value Pearson', 'P-value Spearman']) \n",
    "    \n",
    "    display(df)\n",
    "\n",
    "    \n",
    "\n",
    "@interact(\n",
    "    Country = sorted(corr_df.index.tolist()),\n",
    "    Threshold = (0, 1, 0.05))\n",
    "def g(Country = 'Afghanistan', Threshold = 0.7):\n",
    "    return tableOut(Threshold,Country)\n",
    "\n",
    "    \n",
    "        "
   ]
  },
  {
   "cell_type": "code",
   "execution_count": null,
   "metadata": {},
   "outputs": [],
   "source": []
  }
 ],
 "metadata": {
  "kernelspec": {
   "display_name": "Python 3.10.5 ('.venv': poetry)",
   "language": "python",
   "name": "python3"
  },
  "language_info": {
   "codemirror_mode": {
    "name": "ipython",
    "version": 3
   },
   "file_extension": ".py",
   "mimetype": "text/x-python",
   "name": "python",
   "nbconvert_exporter": "python",
   "pygments_lexer": "ipython3",
   "version": "3.10.5"
  },
  "orig_nbformat": 4,
  "vscode": {
   "interpreter": {
    "hash": "44718ba4235bc6fc2135f9d8856f170c8312ddd29b08710a5ea28d42169e623e"
   }
  }
 },
 "nbformat": 4,
 "nbformat_minor": 2
}
