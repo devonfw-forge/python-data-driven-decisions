{
 "cells": [
  {
   "cell_type": "markdown",
   "metadata": {},
   "source": [
    "# Visualization of correlation (Global)"
   ]
  },
  {
   "cell_type": "markdown",
   "metadata": {},
   "source": [
    "This notebook has to be read next to the following document (url), and is also complemented by the following notebooks (url)."
   ]
  },
  {
   "cell_type": "code",
   "execution_count": 1,
   "metadata": {},
   "outputs": [],
   "source": [
    "import pandas as pd\n",
    "import os\n",
    "import numpy as np\n",
    "import warnings\n",
    "warnings.filterwarnings(\"ignore\")\n",
    "import ipywidgets as widgets\n",
    "from ipywidgets import Layout\n",
    "from ipywidgets import interact, interact_manual\n",
    "import plotly.express as px"
   ]
  },
  {
   "cell_type": "code",
   "execution_count": 2,
   "metadata": {},
   "outputs": [],
   "source": [
    "df= pd.read_csv (os.getcwd()+'/Data/'+'GoldenDataFrame.csv')"
   ]
  },
  {
   "cell_type": "code",
   "execution_count": 3,
   "metadata": {},
   "outputs": [],
   "source": [
    "columns=['Country','Year','Exports-Commercial services','Renewable electricity','Employment-agriculture','Employment-industry','Employment-services','Exports-G&S','Fertility rate','Foreign investment','GDP','Education GExp','Workers high education','Literacy rate','Net migration','Mortality-infants','Health services use','R&D GExp','Ninis','Suicide','International taxes','Alcohol per capita']\n",
    "clist=df['Country'].unique()\n",
    "countries_by_region = {\n",
    "    \"Europe\": ('DEU','FRA','SWE','GBR','ESP','HRV','POL','GRC','AUT','NLD'),\n",
    "    'Persian Gulf': ('IRQ','QAT','ARE','SAU','AZE','YEM','YDR','OMN'),\n",
    "    'North Africa':('DZA','EGY','LBY','ISR','TUR','MAR'),\n",
    "    'South Africa':('SEN','ZAF','LBR','MOZ','CMR','NGA','GHA'),\n",
    "    'Asia':('BGD','IND','VNM','THA','IDN','PHL','KOR'),\n",
    "    'Latam':('MEX','BRA','ARG','PER','VEN','COL','CHL','PCZ','CRI'),\n",
    "    'Pair':('USA','CHN')\n",
    "    }\n",
    "\n",
    "all_countries = {}\n",
    "for region in countries_by_region.keys():\n",
    "  for country in countries_by_region[region]:\n",
    "    all_countries[country] = region"
   ]
  },
  {
   "cell_type": "markdown",
   "metadata": {},
   "source": [
    "In the following cell, we have defined a function that will allow us to calculate the different posibilities of relations: cuadratic, cubic and logaritmic."
   ]
  },
  {
   "cell_type": "code",
   "execution_count": 4,
   "metadata": {},
   "outputs": [],
   "source": [
    "def multcolumn(frame):\n",
    "    for u in range(3, len(columns)):\n",
    "        name2=columns[u]+'.^2'\n",
    "        name3=columns[u]+'.^3'\n",
    "        namelog=columns[u]+'.log'\n",
    "        frame.loc[:,name2] = frame[columns[u]]**2\n",
    "        frame.loc[:,name3] = frame[columns[u]]**3\n",
    "        frame.loc[:,namelog] = np.log(frame[columns[u]])"
   ]
  },
  {
   "cell_type": "markdown",
   "metadata": {},
   "source": [
    "Moreover, we want to know the correlation between all the variables, so to acomplish this, we have created the following loop, which will help us create a new dataframe where we will have: the indicator, the type of relation, the value of the r^2, its behaviour, the country and the continent."
   ]
  },
  {
   "cell_type": "code",
   "execution_count": 5,
   "metadata": {},
   "outputs": [
    {
     "data": {
      "text/html": [
       "<div>\n",
       "<style scoped>\n",
       "    .dataframe tbody tr th:only-of-type {\n",
       "        vertical-align: middle;\n",
       "    }\n",
       "\n",
       "    .dataframe tbody tr th {\n",
       "        vertical-align: top;\n",
       "    }\n",
       "\n",
       "    .dataframe thead th {\n",
       "        text-align: right;\n",
       "    }\n",
       "</style>\n",
       "<table border=\"1\" class=\"dataframe\">\n",
       "  <thead>\n",
       "    <tr style=\"text-align: right;\">\n",
       "      <th></th>\n",
       "      <th>Indicator</th>\n",
       "      <th>Type</th>\n",
       "      <th>GDP-R^2</th>\n",
       "      <th>Behaviour</th>\n",
       "      <th>Country</th>\n",
       "      <th>Continent</th>\n",
       "    </tr>\n",
       "  </thead>\n",
       "  <tbody>\n",
       "    <tr>\n",
       "      <th>5</th>\n",
       "      <td>Exports-G&amp;S</td>\n",
       "      <td>None</td>\n",
       "      <td>0.954928</td>\n",
       "      <td>Positive</td>\n",
       "      <td>DEU</td>\n",
       "      <td>Europe</td>\n",
       "    </tr>\n",
       "    <tr>\n",
       "      <th>7</th>\n",
       "      <td>Health services use</td>\n",
       "      <td>None</td>\n",
       "      <td>0.916594</td>\n",
       "      <td>Positive</td>\n",
       "      <td>DEU</td>\n",
       "      <td>Europe</td>\n",
       "    </tr>\n",
       "    <tr>\n",
       "      <th>4</th>\n",
       "      <td>Exports-Commercial services</td>\n",
       "      <td>None</td>\n",
       "      <td>0.911725</td>\n",
       "      <td>Positive</td>\n",
       "      <td>DEU</td>\n",
       "      <td>Europe</td>\n",
       "    </tr>\n",
       "    <tr>\n",
       "      <th>10</th>\n",
       "      <td>Employment-services</td>\n",
       "      <td>Cuadratic</td>\n",
       "      <td>0.883525</td>\n",
       "      <td>Positive</td>\n",
       "      <td>DEU</td>\n",
       "      <td>Europe</td>\n",
       "    </tr>\n",
       "    <tr>\n",
       "      <th>12</th>\n",
       "      <td>Alcohol per capita</td>\n",
       "      <td>Cubic</td>\n",
       "      <td>0.875820</td>\n",
       "      <td>Negative</td>\n",
       "      <td>DEU</td>\n",
       "      <td>Europe</td>\n",
       "    </tr>\n",
       "    <tr>\n",
       "      <th>...</th>\n",
       "      <td>...</td>\n",
       "      <td>...</td>\n",
       "      <td>...</td>\n",
       "      <td>...</td>\n",
       "      <td>...</td>\n",
       "      <td>...</td>\n",
       "    </tr>\n",
       "    <tr>\n",
       "      <th>6</th>\n",
       "      <td>Suicide</td>\n",
       "      <td>None</td>\n",
       "      <td>0.922759</td>\n",
       "      <td>Negative</td>\n",
       "      <td>CHN</td>\n",
       "      <td>Pair</td>\n",
       "    </tr>\n",
       "    <tr>\n",
       "      <th>5</th>\n",
       "      <td>Renewable electricity</td>\n",
       "      <td>None</td>\n",
       "      <td>0.912560</td>\n",
       "      <td>Positive</td>\n",
       "      <td>CHN</td>\n",
       "      <td>Pair</td>\n",
       "    </tr>\n",
       "    <tr>\n",
       "      <th>2</th>\n",
       "      <td>Exports-Commercial services</td>\n",
       "      <td>None</td>\n",
       "      <td>0.879177</td>\n",
       "      <td>Positive</td>\n",
       "      <td>CHN</td>\n",
       "      <td>Pair</td>\n",
       "    </tr>\n",
       "    <tr>\n",
       "      <th>14</th>\n",
       "      <td>Alcohol per capita</td>\n",
       "      <td>Cuadratic</td>\n",
       "      <td>0.867314</td>\n",
       "      <td>Positive</td>\n",
       "      <td>CHN</td>\n",
       "      <td>Pair</td>\n",
       "    </tr>\n",
       "    <tr>\n",
       "      <th>10</th>\n",
       "      <td>Literacy rate</td>\n",
       "      <td>Cubic</td>\n",
       "      <td>0.840397</td>\n",
       "      <td>Positive</td>\n",
       "      <td>CHN</td>\n",
       "      <td>Pair</td>\n",
       "    </tr>\n",
       "  </tbody>\n",
       "</table>\n",
       "<p>444 rows × 6 columns</p>\n",
       "</div>"
      ],
      "text/plain": [
       "                      Indicator       Type   GDP-R^2 Behaviour Country  \\\n",
       "5                   Exports-G&S       None  0.954928  Positive     DEU   \n",
       "7           Health services use       None  0.916594  Positive     DEU   \n",
       "4   Exports-Commercial services       None  0.911725  Positive     DEU   \n",
       "10          Employment-services  Cuadratic  0.883525  Positive     DEU   \n",
       "12           Alcohol per capita      Cubic  0.875820  Negative     DEU   \n",
       "..                          ...        ...       ...       ...     ...   \n",
       "6                       Suicide       None  0.922759  Negative     CHN   \n",
       "5         Renewable electricity       None  0.912560  Positive     CHN   \n",
       "2   Exports-Commercial services       None  0.879177  Positive     CHN   \n",
       "14           Alcohol per capita  Cuadratic  0.867314  Positive     CHN   \n",
       "10                Literacy rate      Cubic  0.840397  Positive     CHN   \n",
       "\n",
       "   Continent  \n",
       "5     Europe  \n",
       "7     Europe  \n",
       "4     Europe  \n",
       "10    Europe  \n",
       "12    Europe  \n",
       "..       ...  \n",
       "6       Pair  \n",
       "5       Pair  \n",
       "2       Pair  \n",
       "14      Pair  \n",
       "10      Pair  \n",
       "\n",
       "[444 rows x 6 columns]"
      ]
     },
     "execution_count": 5,
     "metadata": {},
     "output_type": "execute_result"
    }
   ],
   "source": [
    "multcolumn(df)\n",
    "demo2=pd.DataFrame()\n",
    "for i in range(0,len(clist)):\n",
    "    dat=df.loc[df.loc[:, 'Country'] == clist[i]]\n",
    "    cor=dat.corr()    \n",
    "    cor.loc[:,'GDP-R^2'] = cor['GDP']**2\n",
    "    cor.loc[:,'Indicator']=cor.index\n",
    "    cor[['Indicator','Type']]=cor.Indicator.str.split('.',expand=True)  \n",
    "    corcolumn=cor[['Indicator','Type','GDP-R^2','GDP']]\n",
    "    corcolumn=corcolumn.loc[corcolumn.loc[:, 'GDP-R^2'] >= 0.75]\n",
    "    id=corcolumn.groupby('Indicator')['GDP-R^2'].transform(max)==corcolumn['GDP-R^2']\n",
    "    corcolumn[id]\n",
    "    max_df=pd.DataFrame(corcolumn[id])\n",
    "    max_df['Behaviour']=np.where(max_df['GDP']>0, 'Positive', 'Negative')\n",
    "    max_df['Type']=max_df['Type'].replace(['^2','^3','log'],['Cuadratic','Cubic','Logarithmic'])\n",
    "    max_df['Country']= clist[i]\n",
    "    max_df.drop(\"GDP\",axis=1,inplace=True)\n",
    "    max_df=max_df.reset_index(drop=True)\n",
    "    max_df = max_df.drop(max_df[max_df['Indicator']=='Year'].index)\n",
    "    max_df = max_df.drop(max_df[max_df['Indicator']=='GDP'].index)\n",
    "    max_df = max_df.drop(max_df[max_df['Indicator']=='Unnamed: 0'].index)\n",
    "    max_df=max_df.sort_values(by = 'GDP-R^2',ascending = False)\n",
    "    demo2=pd.concat((demo2, max_df), axis = 0)\n",
    "demo2['Continent']=demo2['Country'].map(all_countries)\n",
    "demo2"
   ]
  },
  {
   "cell_type": "markdown",
   "metadata": {},
   "source": [
    "Now that we’ve loaded the data, we can start right away to create widgets. These widgets are essentials to add interactivity to our visualizations. We’re going to use two widgets: both, multiple selection widgets. To create these widgets, we can use `ipywidgets` library that is available for Jupyter Notebook.\n",
    "\n",
    "The first widget that we are going to create is the multiple selection widget. We can do this by using `SelectMultiple()attribute` from `ipywidgets`. With this widget, we have the option to visualize the R^2 only in particular selection of indicators instead of all.\n",
    "\n",
    "The first argument that we should specify is `options` , which should contain the list of available options of our variable (in our case different indicators). The next one is `value` , which should contain the variable values that we want to display as default, and then `description` is for the text field to describe the name of the widget.The rest of options are just visual details."
   ]
  },
  {
   "cell_type": "code",
   "execution_count": 6,
   "metadata": {},
   "outputs": [
    {
     "data": {
      "application/vnd.jupyter.widget-view+json": {
       "model_id": "398af352ecdb4804a66d236c0ee701b7",
       "version_major": 2,
       "version_minor": 0
      },
      "text/plain": [
       "interactive(children=(SelectMultiple(description='Indicator', index=(0,), layout=Layout(height='80px', width='…"
      ]
     },
     "metadata": {},
     "output_type": "display_data"
    },
    {
     "data": {
      "application/vnd.plotly.v1+json": {
       "config": {
        "plotlyServerURL": "https://plot.ly"
       },
       "data": [
        {
         "coloraxis": "coloraxis",
         "customdata": [
          [
           null,
           "Positive"
          ],
          [
           null,
           "Positive"
          ],
          [
           null,
           "Positive"
          ],
          [
           null,
           "Positive"
          ],
          [
           null,
           "Positive"
          ],
          [
           null,
           "Positive"
          ],
          [
           null,
           "Positive"
          ],
          [
           null,
           "Positive"
          ],
          [
           null,
           "Positive"
          ],
          [
           null,
           "Positive"
          ],
          [
           null,
           "Positive"
          ],
          [
           null,
           "Positive"
          ],
          [
           null,
           "Positive"
          ],
          [
           null,
           "Positive"
          ],
          [
           null,
           "Positive"
          ],
          [
           null,
           "Positive"
          ],
          [
           "Cuadratic",
           "Positive"
          ],
          [
           null,
           "Positive"
          ],
          [
           null,
           "Positive"
          ],
          [
           null,
           "Positive"
          ],
          [
           null,
           "Positive"
          ],
          [
           null,
           "Positive"
          ],
          [
           null,
           "Positive"
          ],
          [
           null,
           "Positive"
          ],
          [
           null,
           "Positive"
          ],
          [
           null,
           "Positive"
          ],
          [
           null,
           "Positive"
          ],
          [
           null,
           "Positive"
          ],
          [
           null,
           "Positive"
          ],
          [
           null,
           "Positive"
          ],
          [
           null,
           "Positive"
          ],
          [
           null,
           "Positive"
          ],
          [
           "Cuadratic",
           "Positive"
          ],
          [
           null,
           "Positive"
          ],
          [
           null,
           "Positive"
          ],
          [
           null,
           "Positive"
          ],
          [
           null,
           "Positive"
          ],
          [
           null,
           "Positive"
          ],
          [
           null,
           "Positive"
          ],
          [
           null,
           "Positive"
          ],
          [
           "Cuadratic",
           "Positive"
          ]
         ],
         "geo": "geo",
         "hovertemplate": "<b>%{hovertext}</b><br><br>Country=%{location}<br>Type=%{customdata[0]}<br>Behaviour=%{customdata[1]}<br>GDP-R^2=%{z}<extra></extra>",
         "hovertext": [
          "DEU",
          "FRA",
          "SWE",
          "GBR",
          "ESP",
          "HRV",
          "POL",
          "AUT",
          "NLD",
          "IRQ",
          "QAT",
          "ARE",
          "SAU",
          "AZE",
          "OMN",
          "LBY",
          "ISR",
          "TUR",
          "MAR",
          "SEN",
          "ZAF",
          "MOZ",
          "CMR",
          "GHA",
          "BGD",
          "IND",
          "VNM",
          "THA",
          "IDN",
          "PHL",
          "KOR",
          "MEX",
          "BRA",
          "PER",
          "VEN",
          "COL",
          "CHL",
          "PAN",
          "CRI",
          "USA",
          "CHN"
         ],
         "locationmode": "ISO-3",
         "locations": [
          "DEU",
          "FRA",
          "SWE",
          "GBR",
          "ESP",
          "HRV",
          "POL",
          "AUT",
          "NLD",
          "IRQ",
          "QAT",
          "ARE",
          "SAU",
          "AZE",
          "OMN",
          "LBY",
          "ISR",
          "TUR",
          "MAR",
          "SEN",
          "ZAF",
          "MOZ",
          "CMR",
          "GHA",
          "BGD",
          "IND",
          "VNM",
          "THA",
          "IDN",
          "PHL",
          "KOR",
          "MEX",
          "BRA",
          "PER",
          "VEN",
          "COL",
          "CHL",
          "PAN",
          "CRI",
          "USA",
          "CHN"
         ],
         "name": "",
         "type": "choropleth",
         "z": [
          0.9549275086975878,
          0.9597959560873485,
          0.9614287536762283,
          0.9615991157049506,
          0.8896193597099896,
          0.9173159879919209,
          0.9408925602809399,
          0.9815548322439229,
          0.9559419289908181,
          0.8340434734780782,
          0.9524834602986512,
          0.963959228898083,
          0.8298448185898075,
          0.9448163351979267,
          0.9382224731368217,
          0.891789395879511,
          0.9874778307869048,
          0.949243785588551,
          0.9823598695370912,
          0.9832570514426298,
          0.9766169128199659,
          0.9053611625071816,
          0.8533577839743397,
          0.9621004202724875,
          0.9580068244466282,
          0.9609762955619326,
          0.9813433533393643,
          0.954401583743531,
          0.9221607227308378,
          0.9409552672717009,
          0.9240288573980191,
          0.9200064331609529,
          0.9103082296426172,
          0.9499862167628553,
          0.7774845434226739,
          0.9646460860986581,
          0.9187381706336473,
          0.8316212368989154,
          0.979858690516683,
          0.9298018756712546,
          0.9816065401345386
         ]
        }
       ],
       "layout": {
        "coloraxis": {
         "colorbar": {
          "title": {
           "text": "GDP-R^2"
          }
         },
         "colorscale": [
          [
           0,
           "rgb(255,245,240)"
          ],
          [
           0.125,
           "rgb(254,224,210)"
          ],
          [
           0.25,
           "rgb(252,187,161)"
          ],
          [
           0.375,
           "rgb(252,146,114)"
          ],
          [
           0.5,
           "rgb(251,106,74)"
          ],
          [
           0.625,
           "rgb(239,59,44)"
          ],
          [
           0.75,
           "rgb(203,24,29)"
          ],
          [
           0.875,
           "rgb(165,15,21)"
          ],
          [
           1,
           "rgb(103,0,13)"
          ]
         ]
        },
        "geo": {
         "center": {},
         "domain": {
          "x": [
           0,
           1
          ],
          "y": [
           0,
           1
          ]
         },
         "projection": {
          "type": "natural earth"
         }
        },
        "height": 500,
        "legend": {
         "tracegroupgap": 0
        },
        "template": {
         "data": {
          "bar": [
           {
            "error_x": {
             "color": "#2a3f5f"
            },
            "error_y": {
             "color": "#2a3f5f"
            },
            "marker": {
             "line": {
              "color": "#E5ECF6",
              "width": 0.5
             },
             "pattern": {
              "fillmode": "overlay",
              "size": 10,
              "solidity": 0.2
             }
            },
            "type": "bar"
           }
          ],
          "barpolar": [
           {
            "marker": {
             "line": {
              "color": "#E5ECF6",
              "width": 0.5
             },
             "pattern": {
              "fillmode": "overlay",
              "size": 10,
              "solidity": 0.2
             }
            },
            "type": "barpolar"
           }
          ],
          "carpet": [
           {
            "aaxis": {
             "endlinecolor": "#2a3f5f",
             "gridcolor": "white",
             "linecolor": "white",
             "minorgridcolor": "white",
             "startlinecolor": "#2a3f5f"
            },
            "baxis": {
             "endlinecolor": "#2a3f5f",
             "gridcolor": "white",
             "linecolor": "white",
             "minorgridcolor": "white",
             "startlinecolor": "#2a3f5f"
            },
            "type": "carpet"
           }
          ],
          "choropleth": [
           {
            "colorbar": {
             "outlinewidth": 0,
             "ticks": ""
            },
            "type": "choropleth"
           }
          ],
          "contour": [
           {
            "colorbar": {
             "outlinewidth": 0,
             "ticks": ""
            },
            "colorscale": [
             [
              0,
              "#0d0887"
             ],
             [
              0.1111111111111111,
              "#46039f"
             ],
             [
              0.2222222222222222,
              "#7201a8"
             ],
             [
              0.3333333333333333,
              "#9c179e"
             ],
             [
              0.4444444444444444,
              "#bd3786"
             ],
             [
              0.5555555555555556,
              "#d8576b"
             ],
             [
              0.6666666666666666,
              "#ed7953"
             ],
             [
              0.7777777777777778,
              "#fb9f3a"
             ],
             [
              0.8888888888888888,
              "#fdca26"
             ],
             [
              1,
              "#f0f921"
             ]
            ],
            "type": "contour"
           }
          ],
          "contourcarpet": [
           {
            "colorbar": {
             "outlinewidth": 0,
             "ticks": ""
            },
            "type": "contourcarpet"
           }
          ],
          "heatmap": [
           {
            "colorbar": {
             "outlinewidth": 0,
             "ticks": ""
            },
            "colorscale": [
             [
              0,
              "#0d0887"
             ],
             [
              0.1111111111111111,
              "#46039f"
             ],
             [
              0.2222222222222222,
              "#7201a8"
             ],
             [
              0.3333333333333333,
              "#9c179e"
             ],
             [
              0.4444444444444444,
              "#bd3786"
             ],
             [
              0.5555555555555556,
              "#d8576b"
             ],
             [
              0.6666666666666666,
              "#ed7953"
             ],
             [
              0.7777777777777778,
              "#fb9f3a"
             ],
             [
              0.8888888888888888,
              "#fdca26"
             ],
             [
              1,
              "#f0f921"
             ]
            ],
            "type": "heatmap"
           }
          ],
          "heatmapgl": [
           {
            "colorbar": {
             "outlinewidth": 0,
             "ticks": ""
            },
            "colorscale": [
             [
              0,
              "#0d0887"
             ],
             [
              0.1111111111111111,
              "#46039f"
             ],
             [
              0.2222222222222222,
              "#7201a8"
             ],
             [
              0.3333333333333333,
              "#9c179e"
             ],
             [
              0.4444444444444444,
              "#bd3786"
             ],
             [
              0.5555555555555556,
              "#d8576b"
             ],
             [
              0.6666666666666666,
              "#ed7953"
             ],
             [
              0.7777777777777778,
              "#fb9f3a"
             ],
             [
              0.8888888888888888,
              "#fdca26"
             ],
             [
              1,
              "#f0f921"
             ]
            ],
            "type": "heatmapgl"
           }
          ],
          "histogram": [
           {
            "marker": {
             "pattern": {
              "fillmode": "overlay",
              "size": 10,
              "solidity": 0.2
             }
            },
            "type": "histogram"
           }
          ],
          "histogram2d": [
           {
            "colorbar": {
             "outlinewidth": 0,
             "ticks": ""
            },
            "colorscale": [
             [
              0,
              "#0d0887"
             ],
             [
              0.1111111111111111,
              "#46039f"
             ],
             [
              0.2222222222222222,
              "#7201a8"
             ],
             [
              0.3333333333333333,
              "#9c179e"
             ],
             [
              0.4444444444444444,
              "#bd3786"
             ],
             [
              0.5555555555555556,
              "#d8576b"
             ],
             [
              0.6666666666666666,
              "#ed7953"
             ],
             [
              0.7777777777777778,
              "#fb9f3a"
             ],
             [
              0.8888888888888888,
              "#fdca26"
             ],
             [
              1,
              "#f0f921"
             ]
            ],
            "type": "histogram2d"
           }
          ],
          "histogram2dcontour": [
           {
            "colorbar": {
             "outlinewidth": 0,
             "ticks": ""
            },
            "colorscale": [
             [
              0,
              "#0d0887"
             ],
             [
              0.1111111111111111,
              "#46039f"
             ],
             [
              0.2222222222222222,
              "#7201a8"
             ],
             [
              0.3333333333333333,
              "#9c179e"
             ],
             [
              0.4444444444444444,
              "#bd3786"
             ],
             [
              0.5555555555555556,
              "#d8576b"
             ],
             [
              0.6666666666666666,
              "#ed7953"
             ],
             [
              0.7777777777777778,
              "#fb9f3a"
             ],
             [
              0.8888888888888888,
              "#fdca26"
             ],
             [
              1,
              "#f0f921"
             ]
            ],
            "type": "histogram2dcontour"
           }
          ],
          "mesh3d": [
           {
            "colorbar": {
             "outlinewidth": 0,
             "ticks": ""
            },
            "type": "mesh3d"
           }
          ],
          "parcoords": [
           {
            "line": {
             "colorbar": {
              "outlinewidth": 0,
              "ticks": ""
             }
            },
            "type": "parcoords"
           }
          ],
          "pie": [
           {
            "automargin": true,
            "type": "pie"
           }
          ],
          "scatter": [
           {
            "marker": {
             "colorbar": {
              "outlinewidth": 0,
              "ticks": ""
             }
            },
            "type": "scatter"
           }
          ],
          "scatter3d": [
           {
            "line": {
             "colorbar": {
              "outlinewidth": 0,
              "ticks": ""
             }
            },
            "marker": {
             "colorbar": {
              "outlinewidth": 0,
              "ticks": ""
             }
            },
            "type": "scatter3d"
           }
          ],
          "scattercarpet": [
           {
            "marker": {
             "colorbar": {
              "outlinewidth": 0,
              "ticks": ""
             }
            },
            "type": "scattercarpet"
           }
          ],
          "scattergeo": [
           {
            "marker": {
             "colorbar": {
              "outlinewidth": 0,
              "ticks": ""
             }
            },
            "type": "scattergeo"
           }
          ],
          "scattergl": [
           {
            "marker": {
             "colorbar": {
              "outlinewidth": 0,
              "ticks": ""
             }
            },
            "type": "scattergl"
           }
          ],
          "scattermapbox": [
           {
            "marker": {
             "colorbar": {
              "outlinewidth": 0,
              "ticks": ""
             }
            },
            "type": "scattermapbox"
           }
          ],
          "scatterpolar": [
           {
            "marker": {
             "colorbar": {
              "outlinewidth": 0,
              "ticks": ""
             }
            },
            "type": "scatterpolar"
           }
          ],
          "scatterpolargl": [
           {
            "marker": {
             "colorbar": {
              "outlinewidth": 0,
              "ticks": ""
             }
            },
            "type": "scatterpolargl"
           }
          ],
          "scatterternary": [
           {
            "marker": {
             "colorbar": {
              "outlinewidth": 0,
              "ticks": ""
             }
            },
            "type": "scatterternary"
           }
          ],
          "surface": [
           {
            "colorbar": {
             "outlinewidth": 0,
             "ticks": ""
            },
            "colorscale": [
             [
              0,
              "#0d0887"
             ],
             [
              0.1111111111111111,
              "#46039f"
             ],
             [
              0.2222222222222222,
              "#7201a8"
             ],
             [
              0.3333333333333333,
              "#9c179e"
             ],
             [
              0.4444444444444444,
              "#bd3786"
             ],
             [
              0.5555555555555556,
              "#d8576b"
             ],
             [
              0.6666666666666666,
              "#ed7953"
             ],
             [
              0.7777777777777778,
              "#fb9f3a"
             ],
             [
              0.8888888888888888,
              "#fdca26"
             ],
             [
              1,
              "#f0f921"
             ]
            ],
            "type": "surface"
           }
          ],
          "table": [
           {
            "cells": {
             "fill": {
              "color": "#EBF0F8"
             },
             "line": {
              "color": "white"
             }
            },
            "header": {
             "fill": {
              "color": "#C8D4E3"
             },
             "line": {
              "color": "white"
             }
            },
            "type": "table"
           }
          ]
         },
         "layout": {
          "annotationdefaults": {
           "arrowcolor": "#2a3f5f",
           "arrowhead": 0,
           "arrowwidth": 1
          },
          "autotypenumbers": "strict",
          "coloraxis": {
           "colorbar": {
            "outlinewidth": 0,
            "ticks": ""
           }
          },
          "colorscale": {
           "diverging": [
            [
             0,
             "#8e0152"
            ],
            [
             0.1,
             "#c51b7d"
            ],
            [
             0.2,
             "#de77ae"
            ],
            [
             0.3,
             "#f1b6da"
            ],
            [
             0.4,
             "#fde0ef"
            ],
            [
             0.5,
             "#f7f7f7"
            ],
            [
             0.6,
             "#e6f5d0"
            ],
            [
             0.7,
             "#b8e186"
            ],
            [
             0.8,
             "#7fbc41"
            ],
            [
             0.9,
             "#4d9221"
            ],
            [
             1,
             "#276419"
            ]
           ],
           "sequential": [
            [
             0,
             "#0d0887"
            ],
            [
             0.1111111111111111,
             "#46039f"
            ],
            [
             0.2222222222222222,
             "#7201a8"
            ],
            [
             0.3333333333333333,
             "#9c179e"
            ],
            [
             0.4444444444444444,
             "#bd3786"
            ],
            [
             0.5555555555555556,
             "#d8576b"
            ],
            [
             0.6666666666666666,
             "#ed7953"
            ],
            [
             0.7777777777777778,
             "#fb9f3a"
            ],
            [
             0.8888888888888888,
             "#fdca26"
            ],
            [
             1,
             "#f0f921"
            ]
           ],
           "sequentialminus": [
            [
             0,
             "#0d0887"
            ],
            [
             0.1111111111111111,
             "#46039f"
            ],
            [
             0.2222222222222222,
             "#7201a8"
            ],
            [
             0.3333333333333333,
             "#9c179e"
            ],
            [
             0.4444444444444444,
             "#bd3786"
            ],
            [
             0.5555555555555556,
             "#d8576b"
            ],
            [
             0.6666666666666666,
             "#ed7953"
            ],
            [
             0.7777777777777778,
             "#fb9f3a"
            ],
            [
             0.8888888888888888,
             "#fdca26"
            ],
            [
             1,
             "#f0f921"
            ]
           ]
          },
          "colorway": [
           "#636efa",
           "#EF553B",
           "#00cc96",
           "#ab63fa",
           "#FFA15A",
           "#19d3f3",
           "#FF6692",
           "#B6E880",
           "#FF97FF",
           "#FECB52"
          ],
          "font": {
           "color": "#2a3f5f"
          },
          "geo": {
           "bgcolor": "white",
           "lakecolor": "white",
           "landcolor": "#E5ECF6",
           "showlakes": true,
           "showland": true,
           "subunitcolor": "white"
          },
          "hoverlabel": {
           "align": "left"
          },
          "hovermode": "closest",
          "mapbox": {
           "style": "light"
          },
          "paper_bgcolor": "white",
          "plot_bgcolor": "#E5ECF6",
          "polar": {
           "angularaxis": {
            "gridcolor": "white",
            "linecolor": "white",
            "ticks": ""
           },
           "bgcolor": "#E5ECF6",
           "radialaxis": {
            "gridcolor": "white",
            "linecolor": "white",
            "ticks": ""
           }
          },
          "scene": {
           "xaxis": {
            "backgroundcolor": "#E5ECF6",
            "gridcolor": "white",
            "gridwidth": 2,
            "linecolor": "white",
            "showbackground": true,
            "ticks": "",
            "zerolinecolor": "white"
           },
           "yaxis": {
            "backgroundcolor": "#E5ECF6",
            "gridcolor": "white",
            "gridwidth": 2,
            "linecolor": "white",
            "showbackground": true,
            "ticks": "",
            "zerolinecolor": "white"
           },
           "zaxis": {
            "backgroundcolor": "#E5ECF6",
            "gridcolor": "white",
            "gridwidth": 2,
            "linecolor": "white",
            "showbackground": true,
            "ticks": "",
            "zerolinecolor": "white"
           }
          },
          "shapedefaults": {
           "line": {
            "color": "#2a3f5f"
           }
          },
          "ternary": {
           "aaxis": {
            "gridcolor": "white",
            "linecolor": "white",
            "ticks": ""
           },
           "baxis": {
            "gridcolor": "white",
            "linecolor": "white",
            "ticks": ""
           },
           "bgcolor": "#E5ECF6",
           "caxis": {
            "gridcolor": "white",
            "linecolor": "white",
            "ticks": ""
           }
          },
          "title": {
           "x": 0.05
          },
          "xaxis": {
           "automargin": true,
           "gridcolor": "white",
           "linecolor": "white",
           "ticks": "",
           "title": {
            "standoff": 15
           },
           "zerolinecolor": "white",
           "zerolinewidth": 2
          },
          "yaxis": {
           "automargin": true,
           "gridcolor": "white",
           "linecolor": "white",
           "ticks": "",
           "title": {
            "standoff": 15
           },
           "zerolinecolor": "white",
           "zerolinewidth": 2
          }
         }
        },
        "title": {
         "text": "Exports-G&S"
        },
        "width": 700
       }
      }
     },
     "metadata": {},
     "output_type": "display_data"
    }
   ],
   "source": [
    "unique_tri = demo2['Indicator'].unique()\n",
    "tri = widgets.SelectMultiple(\n",
    "    options = unique_tri.tolist(),\n",
    "    value = ['Exports-G&S'],\n",
    "    description='Indicator',\n",
    "    disabled=False,\n",
    "    layout = Layout(width='50%', height='80px')\n",
    ")\n",
    "\n",
    "def graf1(tri):\n",
    "    dat=demo2.loc[demo2.loc[:, 'Indicator'].isin(np.array(tri))]\n",
    "    a=px.choropleth(dat, locations=\"Country\", locationmode='ISO-3', \n",
    "                     color=\"GDP-R^2\", hover_name=\"Country\",hover_data = [dat.Type, dat.Behaviour],projection=\"natural earth\",\n",
    "                     color_continuous_scale='Reds', width=700, height=500, title= dat.Indicator.unique().tolist()[0])\n",
    "    print(tri)\n",
    "    a.show()\n",
    "widgets.interactive(graf1, tri=tri)\n"
   ]
  },
  {
   "cell_type": "markdown",
   "metadata": {},
   "source": [
    "To wrap up, we can create the second widget that is exactly the same as the previous multiple selection widget. The purpose of this widget is to enable us to choose which Continent that we want to visualize. Below is the code implementation of this widget."
   ]
  },
  {
   "cell_type": "code",
   "execution_count": 7,
   "metadata": {},
   "outputs": [
    {
     "data": {
      "application/vnd.jupyter.widget-view+json": {
       "model_id": "b312134fcc9347939c0556c6f008abc2",
       "version_major": 2,
       "version_minor": 0
      },
      "text/plain": [
       "interactive(children=(SelectMultiple(description='Continent', index=(2,), layout=Layout(height='80px', width='…"
      ]
     },
     "metadata": {},
     "output_type": "display_data"
    },
    {
     "data": {
      "application/vnd.plotly.v1+json": {
       "config": {
        "plotlyServerURL": "https://plot.ly"
       },
       "data": [
        {
         "customdata": [
          [
           null,
           "Positive"
          ],
          [
           null,
           "Positive"
          ],
          [
           "Cuadratic",
           "Negative"
          ],
          [
           null,
           "Negative"
          ],
          [
           null,
           "Positive"
          ],
          [
           null,
           "Positive"
          ],
          [
           null,
           "Positive"
          ],
          [
           null,
           "Positive"
          ],
          [
           null,
           "Positive"
          ],
          [
           "Cuadratic",
           "Positive"
          ],
          [
           null,
           "Positive"
          ],
          [
           "Cuadratic",
           "Positive"
          ],
          [
           "Logarithmic",
           "Positive"
          ],
          [
           null,
           "Positive"
          ],
          [
           null,
           "Positive"
          ],
          [
           "Cuadratic",
           "Positive"
          ],
          [
           "Logarithmic",
           "Negative"
          ],
          [
           null,
           "Positive"
          ],
          [
           "Logarithmic",
           "Negative"
          ],
          [
           "Logarithmic",
           "Negative"
          ],
          [
           "Cubic",
           "Positive"
          ],
          [
           "Cuadratic",
           "Positive"
          ],
          [
           "Cuadratic",
           "Negative"
          ],
          [
           null,
           "Positive"
          ],
          [
           "Cuadratic",
           "Positive"
          ],
          [
           "Cuadratic",
           "Positive"
          ],
          [
           "Logarithmic",
           "Negative"
          ],
          [
           null,
           "Positive"
          ],
          [
           "Logarithmic",
           "Positive"
          ],
          [
           null,
           "Positive"
          ],
          [
           "Logarithmic",
           "Positive"
          ],
          [
           "Cuadratic",
           "Negative"
          ],
          [
           null,
           "Positive"
          ],
          [
           "Logarithmic",
           "Negative"
          ],
          [
           "Logarithmic",
           "Positive"
          ],
          [
           null,
           "Positive"
          ],
          [
           null,
           "Negative"
          ],
          [
           "Cubic",
           "Negative"
          ],
          [
           "Logarithmic",
           "Positive"
          ],
          [
           null,
           "Positive"
          ],
          [
           null,
           "Positive"
          ],
          [
           "Cubic",
           "Negative"
          ],
          [
           null,
           "Positive"
          ],
          [
           null,
           "Positive"
          ],
          [
           "Cuadratic",
           "Negative"
          ],
          [
           "Cubic",
           "Negative"
          ],
          [
           "Logarithmic",
           "Positive"
          ],
          [
           null,
           "Positive"
          ],
          [
           null,
           "Positive"
          ],
          [
           null,
           "Positive"
          ],
          [
           null,
           "Positive"
          ],
          [
           null,
           "Negative"
          ],
          [
           null,
           "Negative"
          ],
          [
           "Logarithmic",
           "Negative"
          ]
         ],
         "hovertemplate": "<b>%{hovertext}</b><br><br>GDP-R^2=%{marker.color}<br>Indicator=%{y}<br>Type=%{customdata[0]}<br>Behaviour=%{customdata[1]}<extra></extra>",
         "hovertext": [
          "DZA",
          "DZA",
          "DZA",
          "DZA",
          "DZA",
          "DZA",
          "DZA",
          "EGY",
          "EGY",
          "EGY",
          "EGY",
          "EGY",
          "EGY",
          "EGY",
          "LBY",
          "ISR",
          "ISR",
          "ISR",
          "ISR",
          "ISR",
          "ISR",
          "ISR",
          "ISR",
          "ISR",
          "ISR",
          "ISR",
          "TUR",
          "TUR",
          "TUR",
          "TUR",
          "TUR",
          "TUR",
          "TUR",
          "TUR",
          "TUR",
          "TUR",
          "TUR",
          "TUR",
          "TUR",
          "TUR",
          "MAR",
          "MAR",
          "MAR",
          "MAR",
          "MAR",
          "MAR",
          "MAR",
          "MAR",
          "MAR",
          "MAR",
          "MAR",
          "MAR",
          "MAR",
          "MAR"
         ],
         "legendgroup": "",
         "marker": {
          "color": [
           0.9289158279901037,
           0.9213771435444178,
           0.9075918529847351,
           0.904864353429385,
           0.8758839689728439,
           0.8390883159750028,
           0.7857192483231298,
           0.905691549611508,
           0.8990802196732206,
           0.8962083637425559,
           0.8959887539281101,
           0.8840707210618246,
           0.8754106010601125,
           0.7712782533668188,
           0.891789395879511,
           0.9874778307869048,
           0.9581392726953888,
           0.9565210718293581,
           0.949567589871179,
           0.9433317723823056,
           0.9174191314064287,
           0.8927691475893725,
           0.877668819104662,
           0.8538660757824813,
           0.8265682104723039,
           0.7792227834792094,
           0.9646818981605869,
           0.949243785588551,
           0.9031967123122572,
           0.8890016031609888,
           0.8658018331423527,
           0.8635009656135182,
           0.8573494233376868,
           0.838814100901544,
           0.8316825506959581,
           0.8235704003004464,
           0.8222834157713641,
           0.8142252115949318,
           0.7735405976901415,
           0.757366189732593,
           0.9823598695370912,
           0.9725072632075309,
           0.9580573107996607,
           0.9555728136156069,
           0.9436859248182337,
           0.9345196406345899,
           0.9199277938333447,
           0.9157439992681066,
           0.9138972219088164,
           0.8931193245875468,
           0.8542386654476775,
           0.850688427514224,
           0.8040732343408238,
           0.7637341301563336
          ],
          "coloraxis": "coloraxis",
          "symbol": "circle"
         },
         "mode": "markers",
         "name": "",
         "orientation": "h",
         "showlegend": false,
         "type": "scatter",
         "x": [
          0.9289158279901037,
          0.9213771435444178,
          0.9075918529847351,
          0.904864353429385,
          0.8758839689728439,
          0.8390883159750028,
          0.7857192483231298,
          0.905691549611508,
          0.8990802196732206,
          0.8962083637425559,
          0.8959887539281101,
          0.8840707210618246,
          0.8754106010601125,
          0.7712782533668188,
          0.891789395879511,
          0.9874778307869048,
          0.9581392726953888,
          0.9565210718293581,
          0.949567589871179,
          0.9433317723823056,
          0.9174191314064287,
          0.8927691475893725,
          0.877668819104662,
          0.8538660757824813,
          0.8265682104723039,
          0.7792227834792094,
          0.9646818981605869,
          0.949243785588551,
          0.9031967123122572,
          0.8890016031609888,
          0.8658018331423527,
          0.8635009656135182,
          0.8573494233376868,
          0.838814100901544,
          0.8316825506959581,
          0.8235704003004464,
          0.8222834157713641,
          0.8142252115949318,
          0.7735405976901415,
          0.757366189732593,
          0.9823598695370912,
          0.9725072632075309,
          0.9580573107996607,
          0.9555728136156069,
          0.9436859248182337,
          0.9345196406345899,
          0.9199277938333447,
          0.9157439992681066,
          0.9138972219088164,
          0.8931193245875468,
          0.8542386654476775,
          0.850688427514224,
          0.8040732343408238,
          0.7637341301563336
         ],
         "xaxis": "x",
         "y": [
          "Employment-industry",
          "Health services use",
          "Suicide",
          "Employment-agriculture",
          "Exports-Commercial services",
          "Employment-services",
          "Literacy rate",
          "R&D GExp",
          "Health services use",
          "Alcohol per capita",
          "International taxes",
          "Renewable electricity",
          "Literacy rate",
          "Employment-industry",
          "Exports-G&S",
          "Exports-G&S",
          "Employment-industry",
          "Exports-Commercial services",
          "Employment-agriculture",
          "Mortality-infants",
          "Employment-services",
          "International taxes",
          "Health services use",
          "Renewable electricity",
          "Alcohol per capita",
          "Education GExp",
          "Suicide",
          "Exports-G&S",
          "R&D GExp",
          "Literacy rate",
          "Net migration",
          "Employment-agriculture",
          "Exports-Commercial services",
          "Fertility rate",
          "Renewable electricity",
          "Health services use",
          "Mortality-infants",
          "Foreign investment",
          "Education GExp",
          "Employment-services",
          "Exports-G&S",
          "Alcohol per capita",
          "Exports-Commercial services",
          "Health services use",
          "Employment-agriculture",
          "Suicide",
          "R&D GExp",
          "Literacy rate",
          "Renewable electricity",
          "Employment-services",
          "Employment-industry",
          "Mortality-infants",
          "Education GExp",
          "Fertility rate"
         ],
         "yaxis": "y"
        }
       ],
       "layout": {
        "coloraxis": {
         "colorbar": {
          "title": {
           "text": "GDP-R^2"
          }
         },
         "colorscale": [
          [
           0,
           "rgb(247,251,255)"
          ],
          [
           0.125,
           "rgb(222,235,247)"
          ],
          [
           0.25,
           "rgb(198,219,239)"
          ],
          [
           0.375,
           "rgb(158,202,225)"
          ],
          [
           0.5,
           "rgb(107,174,214)"
          ],
          [
           0.625,
           "rgb(66,146,198)"
          ],
          [
           0.75,
           "rgb(33,113,181)"
          ],
          [
           0.875,
           "rgb(8,81,156)"
          ],
          [
           1,
           "rgb(8,48,107)"
          ]
         ]
        },
        "height": 500,
        "legend": {
         "tracegroupgap": 0
        },
        "template": {
         "data": {
          "bar": [
           {
            "error_x": {
             "color": "#2a3f5f"
            },
            "error_y": {
             "color": "#2a3f5f"
            },
            "marker": {
             "line": {
              "color": "#E5ECF6",
              "width": 0.5
             },
             "pattern": {
              "fillmode": "overlay",
              "size": 10,
              "solidity": 0.2
             }
            },
            "type": "bar"
           }
          ],
          "barpolar": [
           {
            "marker": {
             "line": {
              "color": "#E5ECF6",
              "width": 0.5
             },
             "pattern": {
              "fillmode": "overlay",
              "size": 10,
              "solidity": 0.2
             }
            },
            "type": "barpolar"
           }
          ],
          "carpet": [
           {
            "aaxis": {
             "endlinecolor": "#2a3f5f",
             "gridcolor": "white",
             "linecolor": "white",
             "minorgridcolor": "white",
             "startlinecolor": "#2a3f5f"
            },
            "baxis": {
             "endlinecolor": "#2a3f5f",
             "gridcolor": "white",
             "linecolor": "white",
             "minorgridcolor": "white",
             "startlinecolor": "#2a3f5f"
            },
            "type": "carpet"
           }
          ],
          "choropleth": [
           {
            "colorbar": {
             "outlinewidth": 0,
             "ticks": ""
            },
            "type": "choropleth"
           }
          ],
          "contour": [
           {
            "colorbar": {
             "outlinewidth": 0,
             "ticks": ""
            },
            "colorscale": [
             [
              0,
              "#0d0887"
             ],
             [
              0.1111111111111111,
              "#46039f"
             ],
             [
              0.2222222222222222,
              "#7201a8"
             ],
             [
              0.3333333333333333,
              "#9c179e"
             ],
             [
              0.4444444444444444,
              "#bd3786"
             ],
             [
              0.5555555555555556,
              "#d8576b"
             ],
             [
              0.6666666666666666,
              "#ed7953"
             ],
             [
              0.7777777777777778,
              "#fb9f3a"
             ],
             [
              0.8888888888888888,
              "#fdca26"
             ],
             [
              1,
              "#f0f921"
             ]
            ],
            "type": "contour"
           }
          ],
          "contourcarpet": [
           {
            "colorbar": {
             "outlinewidth": 0,
             "ticks": ""
            },
            "type": "contourcarpet"
           }
          ],
          "heatmap": [
           {
            "colorbar": {
             "outlinewidth": 0,
             "ticks": ""
            },
            "colorscale": [
             [
              0,
              "#0d0887"
             ],
             [
              0.1111111111111111,
              "#46039f"
             ],
             [
              0.2222222222222222,
              "#7201a8"
             ],
             [
              0.3333333333333333,
              "#9c179e"
             ],
             [
              0.4444444444444444,
              "#bd3786"
             ],
             [
              0.5555555555555556,
              "#d8576b"
             ],
             [
              0.6666666666666666,
              "#ed7953"
             ],
             [
              0.7777777777777778,
              "#fb9f3a"
             ],
             [
              0.8888888888888888,
              "#fdca26"
             ],
             [
              1,
              "#f0f921"
             ]
            ],
            "type": "heatmap"
           }
          ],
          "heatmapgl": [
           {
            "colorbar": {
             "outlinewidth": 0,
             "ticks": ""
            },
            "colorscale": [
             [
              0,
              "#0d0887"
             ],
             [
              0.1111111111111111,
              "#46039f"
             ],
             [
              0.2222222222222222,
              "#7201a8"
             ],
             [
              0.3333333333333333,
              "#9c179e"
             ],
             [
              0.4444444444444444,
              "#bd3786"
             ],
             [
              0.5555555555555556,
              "#d8576b"
             ],
             [
              0.6666666666666666,
              "#ed7953"
             ],
             [
              0.7777777777777778,
              "#fb9f3a"
             ],
             [
              0.8888888888888888,
              "#fdca26"
             ],
             [
              1,
              "#f0f921"
             ]
            ],
            "type": "heatmapgl"
           }
          ],
          "histogram": [
           {
            "marker": {
             "pattern": {
              "fillmode": "overlay",
              "size": 10,
              "solidity": 0.2
             }
            },
            "type": "histogram"
           }
          ],
          "histogram2d": [
           {
            "colorbar": {
             "outlinewidth": 0,
             "ticks": ""
            },
            "colorscale": [
             [
              0,
              "#0d0887"
             ],
             [
              0.1111111111111111,
              "#46039f"
             ],
             [
              0.2222222222222222,
              "#7201a8"
             ],
             [
              0.3333333333333333,
              "#9c179e"
             ],
             [
              0.4444444444444444,
              "#bd3786"
             ],
             [
              0.5555555555555556,
              "#d8576b"
             ],
             [
              0.6666666666666666,
              "#ed7953"
             ],
             [
              0.7777777777777778,
              "#fb9f3a"
             ],
             [
              0.8888888888888888,
              "#fdca26"
             ],
             [
              1,
              "#f0f921"
             ]
            ],
            "type": "histogram2d"
           }
          ],
          "histogram2dcontour": [
           {
            "colorbar": {
             "outlinewidth": 0,
             "ticks": ""
            },
            "colorscale": [
             [
              0,
              "#0d0887"
             ],
             [
              0.1111111111111111,
              "#46039f"
             ],
             [
              0.2222222222222222,
              "#7201a8"
             ],
             [
              0.3333333333333333,
              "#9c179e"
             ],
             [
              0.4444444444444444,
              "#bd3786"
             ],
             [
              0.5555555555555556,
              "#d8576b"
             ],
             [
              0.6666666666666666,
              "#ed7953"
             ],
             [
              0.7777777777777778,
              "#fb9f3a"
             ],
             [
              0.8888888888888888,
              "#fdca26"
             ],
             [
              1,
              "#f0f921"
             ]
            ],
            "type": "histogram2dcontour"
           }
          ],
          "mesh3d": [
           {
            "colorbar": {
             "outlinewidth": 0,
             "ticks": ""
            },
            "type": "mesh3d"
           }
          ],
          "parcoords": [
           {
            "line": {
             "colorbar": {
              "outlinewidth": 0,
              "ticks": ""
             }
            },
            "type": "parcoords"
           }
          ],
          "pie": [
           {
            "automargin": true,
            "type": "pie"
           }
          ],
          "scatter": [
           {
            "marker": {
             "colorbar": {
              "outlinewidth": 0,
              "ticks": ""
             }
            },
            "type": "scatter"
           }
          ],
          "scatter3d": [
           {
            "line": {
             "colorbar": {
              "outlinewidth": 0,
              "ticks": ""
             }
            },
            "marker": {
             "colorbar": {
              "outlinewidth": 0,
              "ticks": ""
             }
            },
            "type": "scatter3d"
           }
          ],
          "scattercarpet": [
           {
            "marker": {
             "colorbar": {
              "outlinewidth": 0,
              "ticks": ""
             }
            },
            "type": "scattercarpet"
           }
          ],
          "scattergeo": [
           {
            "marker": {
             "colorbar": {
              "outlinewidth": 0,
              "ticks": ""
             }
            },
            "type": "scattergeo"
           }
          ],
          "scattergl": [
           {
            "marker": {
             "colorbar": {
              "outlinewidth": 0,
              "ticks": ""
             }
            },
            "type": "scattergl"
           }
          ],
          "scattermapbox": [
           {
            "marker": {
             "colorbar": {
              "outlinewidth": 0,
              "ticks": ""
             }
            },
            "type": "scattermapbox"
           }
          ],
          "scatterpolar": [
           {
            "marker": {
             "colorbar": {
              "outlinewidth": 0,
              "ticks": ""
             }
            },
            "type": "scatterpolar"
           }
          ],
          "scatterpolargl": [
           {
            "marker": {
             "colorbar": {
              "outlinewidth": 0,
              "ticks": ""
             }
            },
            "type": "scatterpolargl"
           }
          ],
          "scatterternary": [
           {
            "marker": {
             "colorbar": {
              "outlinewidth": 0,
              "ticks": ""
             }
            },
            "type": "scatterternary"
           }
          ],
          "surface": [
           {
            "colorbar": {
             "outlinewidth": 0,
             "ticks": ""
            },
            "colorscale": [
             [
              0,
              "#0d0887"
             ],
             [
              0.1111111111111111,
              "#46039f"
             ],
             [
              0.2222222222222222,
              "#7201a8"
             ],
             [
              0.3333333333333333,
              "#9c179e"
             ],
             [
              0.4444444444444444,
              "#bd3786"
             ],
             [
              0.5555555555555556,
              "#d8576b"
             ],
             [
              0.6666666666666666,
              "#ed7953"
             ],
             [
              0.7777777777777778,
              "#fb9f3a"
             ],
             [
              0.8888888888888888,
              "#fdca26"
             ],
             [
              1,
              "#f0f921"
             ]
            ],
            "type": "surface"
           }
          ],
          "table": [
           {
            "cells": {
             "fill": {
              "color": "#EBF0F8"
             },
             "line": {
              "color": "white"
             }
            },
            "header": {
             "fill": {
              "color": "#C8D4E3"
             },
             "line": {
              "color": "white"
             }
            },
            "type": "table"
           }
          ]
         },
         "layout": {
          "annotationdefaults": {
           "arrowcolor": "#2a3f5f",
           "arrowhead": 0,
           "arrowwidth": 1
          },
          "autotypenumbers": "strict",
          "coloraxis": {
           "colorbar": {
            "outlinewidth": 0,
            "ticks": ""
           }
          },
          "colorscale": {
           "diverging": [
            [
             0,
             "#8e0152"
            ],
            [
             0.1,
             "#c51b7d"
            ],
            [
             0.2,
             "#de77ae"
            ],
            [
             0.3,
             "#f1b6da"
            ],
            [
             0.4,
             "#fde0ef"
            ],
            [
             0.5,
             "#f7f7f7"
            ],
            [
             0.6,
             "#e6f5d0"
            ],
            [
             0.7,
             "#b8e186"
            ],
            [
             0.8,
             "#7fbc41"
            ],
            [
             0.9,
             "#4d9221"
            ],
            [
             1,
             "#276419"
            ]
           ],
           "sequential": [
            [
             0,
             "#0d0887"
            ],
            [
             0.1111111111111111,
             "#46039f"
            ],
            [
             0.2222222222222222,
             "#7201a8"
            ],
            [
             0.3333333333333333,
             "#9c179e"
            ],
            [
             0.4444444444444444,
             "#bd3786"
            ],
            [
             0.5555555555555556,
             "#d8576b"
            ],
            [
             0.6666666666666666,
             "#ed7953"
            ],
            [
             0.7777777777777778,
             "#fb9f3a"
            ],
            [
             0.8888888888888888,
             "#fdca26"
            ],
            [
             1,
             "#f0f921"
            ]
           ],
           "sequentialminus": [
            [
             0,
             "#0d0887"
            ],
            [
             0.1111111111111111,
             "#46039f"
            ],
            [
             0.2222222222222222,
             "#7201a8"
            ],
            [
             0.3333333333333333,
             "#9c179e"
            ],
            [
             0.4444444444444444,
             "#bd3786"
            ],
            [
             0.5555555555555556,
             "#d8576b"
            ],
            [
             0.6666666666666666,
             "#ed7953"
            ],
            [
             0.7777777777777778,
             "#fb9f3a"
            ],
            [
             0.8888888888888888,
             "#fdca26"
            ],
            [
             1,
             "#f0f921"
            ]
           ]
          },
          "colorway": [
           "#636efa",
           "#EF553B",
           "#00cc96",
           "#ab63fa",
           "#FFA15A",
           "#19d3f3",
           "#FF6692",
           "#B6E880",
           "#FF97FF",
           "#FECB52"
          ],
          "font": {
           "color": "#2a3f5f"
          },
          "geo": {
           "bgcolor": "white",
           "lakecolor": "white",
           "landcolor": "#E5ECF6",
           "showlakes": true,
           "showland": true,
           "subunitcolor": "white"
          },
          "hoverlabel": {
           "align": "left"
          },
          "hovermode": "closest",
          "mapbox": {
           "style": "light"
          },
          "paper_bgcolor": "white",
          "plot_bgcolor": "#E5ECF6",
          "polar": {
           "angularaxis": {
            "gridcolor": "white",
            "linecolor": "white",
            "ticks": ""
           },
           "bgcolor": "#E5ECF6",
           "radialaxis": {
            "gridcolor": "white",
            "linecolor": "white",
            "ticks": ""
           }
          },
          "scene": {
           "xaxis": {
            "backgroundcolor": "#E5ECF6",
            "gridcolor": "white",
            "gridwidth": 2,
            "linecolor": "white",
            "showbackground": true,
            "ticks": "",
            "zerolinecolor": "white"
           },
           "yaxis": {
            "backgroundcolor": "#E5ECF6",
            "gridcolor": "white",
            "gridwidth": 2,
            "linecolor": "white",
            "showbackground": true,
            "ticks": "",
            "zerolinecolor": "white"
           },
           "zaxis": {
            "backgroundcolor": "#E5ECF6",
            "gridcolor": "white",
            "gridwidth": 2,
            "linecolor": "white",
            "showbackground": true,
            "ticks": "",
            "zerolinecolor": "white"
           }
          },
          "shapedefaults": {
           "line": {
            "color": "#2a3f5f"
           }
          },
          "ternary": {
           "aaxis": {
            "gridcolor": "white",
            "linecolor": "white",
            "ticks": ""
           },
           "baxis": {
            "gridcolor": "white",
            "linecolor": "white",
            "ticks": ""
           },
           "bgcolor": "#E5ECF6",
           "caxis": {
            "gridcolor": "white",
            "linecolor": "white",
            "ticks": ""
           }
          },
          "title": {
           "x": 0.05
          },
          "xaxis": {
           "automargin": true,
           "gridcolor": "white",
           "linecolor": "white",
           "ticks": "",
           "title": {
            "standoff": 15
           },
           "zerolinecolor": "white",
           "zerolinewidth": 2
          },
          "yaxis": {
           "automargin": true,
           "gridcolor": "white",
           "linecolor": "white",
           "ticks": "",
           "title": {
            "standoff": 15
           },
           "zerolinecolor": "white",
           "zerolinewidth": 2
          }
         }
        },
        "title": {
         "text": "North Africa"
        },
        "width": 700,
        "xaxis": {
         "anchor": "y",
         "domain": [
          0,
          1
         ],
         "title": {
          "text": "GDP-R^2"
         }
        },
        "yaxis": {
         "anchor": "x",
         "domain": [
          0,
          1
         ],
         "title": {
          "text": "Indicator"
         }
        }
       }
      }
     },
     "metadata": {},
     "output_type": "display_data"
    }
   ],
   "source": [
    "unique_tric = demo2['Continent'].unique()\n",
    "tric = widgets.SelectMultiple(\n",
    "    options = unique_tric.tolist(),\n",
    "    value = ['North Africa'],\n",
    "    description='Continent',\n",
    "    disabled=False,\n",
    "    layout = Layout(width='50%', height='80px')\n",
    ")\n",
    "\n",
    "def graf1(tric):\n",
    "    dat=demo2.loc[demo2.loc[:, 'Continent'].isin(np.array(tric))]\n",
    "    a=px.scatter(dat, x=\"GDP-R^2\", y='Indicator',\n",
    "                     color=\"GDP-R^2\", hover_name=\"Country\",hover_data = [dat.Type, dat.Behaviour],\n",
    "                     color_continuous_scale='Blues', width=700, height=500, title= dat.Continent.unique().tolist()[0])\n",
    "    a.show()\n",
    "widgets.interactive(graf1, tric=tric)"
   ]
  },
  {
   "cell_type": "code",
   "execution_count": null,
   "metadata": {},
   "outputs": [],
   "source": []
  }
 ],
 "metadata": {
  "kernelspec": {
   "display_name": "Python 3.9.12 ('base')",
   "language": "python",
   "name": "python3"
  },
  "language_info": {
   "codemirror_mode": {
    "name": "ipython",
    "version": 3
   },
   "file_extension": ".py",
   "mimetype": "text/x-python",
   "name": "python",
   "nbconvert_exporter": "python",
   "pygments_lexer": "ipython3",
   "version": "3.9.12"
  },
  "orig_nbformat": 4,
  "vscode": {
   "interpreter": {
    "hash": "db2f77d7771d8a0072cf3f8e7f9965a22a9c65bf4f8ee5135b3d479c9967abaa"
   }
  }
 },
 "nbformat": 4,
 "nbformat_minor": 2
}
