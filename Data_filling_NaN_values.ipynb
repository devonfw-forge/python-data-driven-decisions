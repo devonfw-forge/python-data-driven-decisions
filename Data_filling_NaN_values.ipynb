{
 "cells": [
  {
   "cell_type": "markdown",
   "id": "1cbcb3f1",
   "metadata": {},
   "source": [
    "#  <u> 1st step : Load\n"
   ]
  },
  {
   "cell_type": "markdown",
   "id": "35b07f1a",
   "metadata": {},
   "source": [
    "We import the different librairies that we are going to use :\n",
    "\n",
    "    - pandas : Pandas is a library written for the Python programming language for data manipulation and analysis. In particular, it offers data structures and operations for manipulating numerical arrays and time series."
   ]
  },
  {
   "cell_type": "code",
   "execution_count": 39,
   "id": "c3468700",
   "metadata": {},
   "outputs": [],
   "source": [
    "# we import the useful librairies \n",
    "import pandas as pd\n",
    "import matplotlib.pyplot as plt"
   ]
  },
  {
   "cell_type": "markdown",
   "id": "a74002f7",
   "metadata": {},
   "source": [
    "We open the final merged table without outliers of the 'outliers part ' "
   ]
  },
  {
   "cell_type": "code",
   "execution_count": 40,
   "id": "422587e5",
   "metadata": {},
   "outputs": [
    {
     "data": {
      "text/html": [
       "<div>\n",
       "<style scoped>\n",
       "    .dataframe tbody tr th:only-of-type {\n",
       "        vertical-align: middle;\n",
       "    }\n",
       "\n",
       "    .dataframe tbody tr th {\n",
       "        vertical-align: top;\n",
       "    }\n",
       "\n",
       "    .dataframe thead th {\n",
       "        text-align: right;\n",
       "    }\n",
       "</style>\n",
       "<table border=\"1\" class=\"dataframe\">\n",
       "  <thead>\n",
       "    <tr style=\"text-align: right;\">\n",
       "      <th></th>\n",
       "      <th>Code</th>\n",
       "      <th>Year</th>\n",
       "      <th>Deaths</th>\n",
       "      <th>Fertility</th>\n",
       "      <th>GDP</th>\n",
       "      <th>GenderInequality</th>\n",
       "      <th>LifeExpectancy</th>\n",
       "      <th>tertiary_education</th>\n",
       "    </tr>\n",
       "  </thead>\n",
       "  <tbody>\n",
       "    <tr>\n",
       "      <th>0</th>\n",
       "      <td>ABW</td>\n",
       "      <td>1950</td>\n",
       "      <td>NaN</td>\n",
       "      <td>NaN</td>\n",
       "      <td>NaN</td>\n",
       "      <td>NaN</td>\n",
       "      <td>0.606711</td>\n",
       "      <td>NaN</td>\n",
       "    </tr>\n",
       "    <tr>\n",
       "      <th>1</th>\n",
       "      <td>ABW</td>\n",
       "      <td>1951</td>\n",
       "      <td>NaN</td>\n",
       "      <td>NaN</td>\n",
       "      <td>NaN</td>\n",
       "      <td>NaN</td>\n",
       "      <td>0.613423</td>\n",
       "      <td>NaN</td>\n",
       "    </tr>\n",
       "    <tr>\n",
       "      <th>2</th>\n",
       "      <td>ABW</td>\n",
       "      <td>1952</td>\n",
       "      <td>NaN</td>\n",
       "      <td>NaN</td>\n",
       "      <td>NaN</td>\n",
       "      <td>NaN</td>\n",
       "      <td>0.626846</td>\n",
       "      <td>NaN</td>\n",
       "    </tr>\n",
       "    <tr>\n",
       "      <th>3</th>\n",
       "      <td>ABW</td>\n",
       "      <td>1953</td>\n",
       "      <td>NaN</td>\n",
       "      <td>NaN</td>\n",
       "      <td>NaN</td>\n",
       "      <td>NaN</td>\n",
       "      <td>0.637584</td>\n",
       "      <td>NaN</td>\n",
       "    </tr>\n",
       "    <tr>\n",
       "      <th>4</th>\n",
       "      <td>ABW</td>\n",
       "      <td>1954</td>\n",
       "      <td>NaN</td>\n",
       "      <td>NaN</td>\n",
       "      <td>NaN</td>\n",
       "      <td>NaN</td>\n",
       "      <td>0.649664</td>\n",
       "      <td>NaN</td>\n",
       "    </tr>\n",
       "    <tr>\n",
       "      <th>...</th>\n",
       "      <td>...</td>\n",
       "      <td>...</td>\n",
       "      <td>...</td>\n",
       "      <td>...</td>\n",
       "      <td>...</td>\n",
       "      <td>...</td>\n",
       "      <td>...</td>\n",
       "      <td>...</td>\n",
       "    </tr>\n",
       "    <tr>\n",
       "      <th>21097</th>\n",
       "      <td>ZWE</td>\n",
       "      <td>2017</td>\n",
       "      <td>0.002081</td>\n",
       "      <td>0.364724</td>\n",
       "      <td>NaN</td>\n",
       "      <td>0.641533</td>\n",
       "      <td>0.653691</td>\n",
       "      <td>NaN</td>\n",
       "    </tr>\n",
       "    <tr>\n",
       "      <th>21098</th>\n",
       "      <td>ZWE</td>\n",
       "      <td>2018</td>\n",
       "      <td>0.001968</td>\n",
       "      <td>0.358897</td>\n",
       "      <td>NaN</td>\n",
       "      <td>0.645241</td>\n",
       "      <td>0.663087</td>\n",
       "      <td>NaN</td>\n",
       "    </tr>\n",
       "    <tr>\n",
       "      <th>21099</th>\n",
       "      <td>ZWE</td>\n",
       "      <td>2019</td>\n",
       "      <td>0.001916</td>\n",
       "      <td>0.351543</td>\n",
       "      <td>NaN</td>\n",
       "      <td>0.642769</td>\n",
       "      <td>0.661745</td>\n",
       "      <td>NaN</td>\n",
       "    </tr>\n",
       "    <tr>\n",
       "      <th>21100</th>\n",
       "      <td>ZWE</td>\n",
       "      <td>2020</td>\n",
       "      <td>0.001879</td>\n",
       "      <td>0.344855</td>\n",
       "      <td>NaN</td>\n",
       "      <td>0.642769</td>\n",
       "      <td>0.659060</td>\n",
       "      <td>NaN</td>\n",
       "    </tr>\n",
       "    <tr>\n",
       "      <th>21101</th>\n",
       "      <td>ZWE</td>\n",
       "      <td>2021</td>\n",
       "      <td>NaN</td>\n",
       "      <td>0.338166</td>\n",
       "      <td>NaN</td>\n",
       "      <td>0.641533</td>\n",
       "      <td>0.634899</td>\n",
       "      <td>NaN</td>\n",
       "    </tr>\n",
       "  </tbody>\n",
       "</table>\n",
       "<p>21102 rows × 8 columns</p>\n",
       "</div>"
      ],
      "text/plain": [
       "      Code  Year    Deaths  Fertility  GDP   GenderInequality  LifeExpectancy  \\\n",
       "0      ABW  1950       NaN        NaN   NaN               NaN        0.606711   \n",
       "1      ABW  1951       NaN        NaN   NaN               NaN        0.613423   \n",
       "2      ABW  1952       NaN        NaN   NaN               NaN        0.626846   \n",
       "3      ABW  1953       NaN        NaN   NaN               NaN        0.637584   \n",
       "4      ABW  1954       NaN        NaN   NaN               NaN        0.649664   \n",
       "...    ...   ...       ...        ...   ...               ...             ...   \n",
       "21097  ZWE  2017  0.002081   0.364724   NaN          0.641533        0.653691   \n",
       "21098  ZWE  2018  0.001968   0.358897   NaN          0.645241        0.663087   \n",
       "21099  ZWE  2019  0.001916   0.351543   NaN          0.642769        0.661745   \n",
       "21100  ZWE  2020  0.001879   0.344855   NaN          0.642769        0.659060   \n",
       "21101  ZWE  2021       NaN   0.338166   NaN          0.641533        0.634899   \n",
       "\n",
       "       tertiary_education  \n",
       "0                     NaN  \n",
       "1                     NaN  \n",
       "2                     NaN  \n",
       "3                     NaN  \n",
       "4                     NaN  \n",
       "...                   ...  \n",
       "21097                 NaN  \n",
       "21098                 NaN  \n",
       "21099                 NaN  \n",
       "21100                 NaN  \n",
       "21101                 NaN  \n",
       "\n",
       "[21102 rows x 8 columns]"
      ]
     },
     "execution_count": 40,
     "metadata": {},
     "output_type": "execute_result"
    }
   ],
   "source": [
    "# we open and read the merge table of all indicators\n",
    "silver_dataset = pd.read_csv ('./data/SilverDataset.csv')\n",
    "silver_dataset = silver_dataset.drop(silver_dataset.columns[0], axis = 1)\n",
    "silver_dataset"
   ]
  },
  {
   "cell_type": "markdown",
   "id": "43ee20b3",
   "metadata": {},
   "source": [
    "#  <u> 2nd step : Filter by year \n"
   ]
  },
  {
   "cell_type": "markdown",
   "id": "fece474b",
   "metadata": {},
   "source": [
    "We notice that we don't have data before 1830 apart from one country, it will lead us to filter the dataset and remove the data before the years 1825 "
   ]
  },
  {
   "cell_type": "code",
   "execution_count": 41,
   "id": "65c05c02",
   "metadata": {},
   "outputs": [
    {
     "data": {
      "text/html": [
       "<div>\n",
       "<style scoped>\n",
       "    .dataframe tbody tr th:only-of-type {\n",
       "        vertical-align: middle;\n",
       "    }\n",
       "\n",
       "    .dataframe tbody tr th {\n",
       "        vertical-align: top;\n",
       "    }\n",
       "\n",
       "    .dataframe thead th {\n",
       "        text-align: right;\n",
       "    }\n",
       "</style>\n",
       "<table border=\"1\" class=\"dataframe\">\n",
       "  <thead>\n",
       "    <tr style=\"text-align: right;\">\n",
       "      <th></th>\n",
       "      <th>Code</th>\n",
       "      <th>Year</th>\n",
       "      <th>Deaths</th>\n",
       "      <th>Fertility</th>\n",
       "      <th>GDP</th>\n",
       "      <th>GenderInequality</th>\n",
       "      <th>LifeExpectancy</th>\n",
       "      <th>tertiary_education</th>\n",
       "    </tr>\n",
       "  </thead>\n",
       "  <tbody>\n",
       "    <tr>\n",
       "      <th>0</th>\n",
       "      <td>ABW</td>\n",
       "      <td>1950</td>\n",
       "      <td>NaN</td>\n",
       "      <td>NaN</td>\n",
       "      <td>NaN</td>\n",
       "      <td>NaN</td>\n",
       "      <td>0.606711</td>\n",
       "      <td>NaN</td>\n",
       "    </tr>\n",
       "    <tr>\n",
       "      <th>1</th>\n",
       "      <td>ABW</td>\n",
       "      <td>1951</td>\n",
       "      <td>NaN</td>\n",
       "      <td>NaN</td>\n",
       "      <td>NaN</td>\n",
       "      <td>NaN</td>\n",
       "      <td>0.613423</td>\n",
       "      <td>NaN</td>\n",
       "    </tr>\n",
       "    <tr>\n",
       "      <th>2</th>\n",
       "      <td>ABW</td>\n",
       "      <td>1952</td>\n",
       "      <td>NaN</td>\n",
       "      <td>NaN</td>\n",
       "      <td>NaN</td>\n",
       "      <td>NaN</td>\n",
       "      <td>0.626846</td>\n",
       "      <td>NaN</td>\n",
       "    </tr>\n",
       "    <tr>\n",
       "      <th>3</th>\n",
       "      <td>ABW</td>\n",
       "      <td>1953</td>\n",
       "      <td>NaN</td>\n",
       "      <td>NaN</td>\n",
       "      <td>NaN</td>\n",
       "      <td>NaN</td>\n",
       "      <td>0.637584</td>\n",
       "      <td>NaN</td>\n",
       "    </tr>\n",
       "    <tr>\n",
       "      <th>4</th>\n",
       "      <td>ABW</td>\n",
       "      <td>1954</td>\n",
       "      <td>NaN</td>\n",
       "      <td>NaN</td>\n",
       "      <td>NaN</td>\n",
       "      <td>NaN</td>\n",
       "      <td>0.649664</td>\n",
       "      <td>NaN</td>\n",
       "    </tr>\n",
       "    <tr>\n",
       "      <th>...</th>\n",
       "      <td>...</td>\n",
       "      <td>...</td>\n",
       "      <td>...</td>\n",
       "      <td>...</td>\n",
       "      <td>...</td>\n",
       "      <td>...</td>\n",
       "      <td>...</td>\n",
       "      <td>...</td>\n",
       "    </tr>\n",
       "    <tr>\n",
       "      <th>21097</th>\n",
       "      <td>ZWE</td>\n",
       "      <td>2017</td>\n",
       "      <td>0.002081</td>\n",
       "      <td>0.364724</td>\n",
       "      <td>NaN</td>\n",
       "      <td>0.641533</td>\n",
       "      <td>0.653691</td>\n",
       "      <td>NaN</td>\n",
       "    </tr>\n",
       "    <tr>\n",
       "      <th>21098</th>\n",
       "      <td>ZWE</td>\n",
       "      <td>2018</td>\n",
       "      <td>0.001968</td>\n",
       "      <td>0.358897</td>\n",
       "      <td>NaN</td>\n",
       "      <td>0.645241</td>\n",
       "      <td>0.663087</td>\n",
       "      <td>NaN</td>\n",
       "    </tr>\n",
       "    <tr>\n",
       "      <th>21099</th>\n",
       "      <td>ZWE</td>\n",
       "      <td>2019</td>\n",
       "      <td>0.001916</td>\n",
       "      <td>0.351543</td>\n",
       "      <td>NaN</td>\n",
       "      <td>0.642769</td>\n",
       "      <td>0.661745</td>\n",
       "      <td>NaN</td>\n",
       "    </tr>\n",
       "    <tr>\n",
       "      <th>21100</th>\n",
       "      <td>ZWE</td>\n",
       "      <td>2020</td>\n",
       "      <td>0.001879</td>\n",
       "      <td>0.344855</td>\n",
       "      <td>NaN</td>\n",
       "      <td>0.642769</td>\n",
       "      <td>0.659060</td>\n",
       "      <td>NaN</td>\n",
       "    </tr>\n",
       "    <tr>\n",
       "      <th>21101</th>\n",
       "      <td>ZWE</td>\n",
       "      <td>2021</td>\n",
       "      <td>NaN</td>\n",
       "      <td>0.338166</td>\n",
       "      <td>NaN</td>\n",
       "      <td>0.641533</td>\n",
       "      <td>0.634899</td>\n",
       "      <td>NaN</td>\n",
       "    </tr>\n",
       "  </tbody>\n",
       "</table>\n",
       "<p>20905 rows × 8 columns</p>\n",
       "</div>"
      ],
      "text/plain": [
       "      Code  Year    Deaths  Fertility  GDP   GenderInequality  LifeExpectancy  \\\n",
       "0      ABW  1950       NaN        NaN   NaN               NaN        0.606711   \n",
       "1      ABW  1951       NaN        NaN   NaN               NaN        0.613423   \n",
       "2      ABW  1952       NaN        NaN   NaN               NaN        0.626846   \n",
       "3      ABW  1953       NaN        NaN   NaN               NaN        0.637584   \n",
       "4      ABW  1954       NaN        NaN   NaN               NaN        0.649664   \n",
       "...    ...   ...       ...        ...   ...               ...             ...   \n",
       "21097  ZWE  2017  0.002081   0.364724   NaN          0.641533        0.653691   \n",
       "21098  ZWE  2018  0.001968   0.358897   NaN          0.645241        0.663087   \n",
       "21099  ZWE  2019  0.001916   0.351543   NaN          0.642769        0.661745   \n",
       "21100  ZWE  2020  0.001879   0.344855   NaN          0.642769        0.659060   \n",
       "21101  ZWE  2021       NaN   0.338166   NaN          0.641533        0.634899   \n",
       "\n",
       "       tertiary_education  \n",
       "0                     NaN  \n",
       "1                     NaN  \n",
       "2                     NaN  \n",
       "3                     NaN  \n",
       "4                     NaN  \n",
       "...                   ...  \n",
       "21097                 NaN  \n",
       "21098                 NaN  \n",
       "21099                 NaN  \n",
       "21100                 NaN  \n",
       "21101                 NaN  \n",
       "\n",
       "[20905 rows x 8 columns]"
      ]
     },
     "execution_count": 41,
     "metadata": {},
     "output_type": "execute_result"
    }
   ],
   "source": [
    "silver_dataset = silver_dataset[silver_dataset['Year'] > 1830]\n",
    "silver_dataset"
   ]
  },
  {
   "cell_type": "markdown",
   "id": "7acc5f4d",
   "metadata": {},
   "source": [
    "#  <u> 3rd step : Count the number of NaN values \n"
   ]
  },
  {
   "cell_type": "markdown",
   "id": "cc02c008",
   "metadata": {},
   "source": [
    "We can count how many NaN values we have, it corresponds to the number of outliers we have removed in the step forward"
   ]
  },
  {
   "cell_type": "code",
   "execution_count": 42,
   "id": "e4c1abbb",
   "metadata": {},
   "outputs": [
    {
     "data": {
      "text/plain": [
       "61621"
      ]
     },
     "execution_count": 42,
     "metadata": {},
     "output_type": "execute_result"
    }
   ],
   "source": [
    "silver_dataset.isna().sum().sum()"
   ]
  },
  {
   "cell_type": "markdown",
   "id": "0d220e91",
   "metadata": {},
   "source": [
    "Then the can count the number of unique countries taht we have, and put them in a list"
   ]
  },
  {
   "cell_type": "code",
   "execution_count": 43,
   "id": "410f9fd9",
   "metadata": {},
   "outputs": [
    {
     "data": {
      "text/plain": [
       "Code\n",
       "NOR         191\n",
       "GBR         191\n",
       "CHL         191\n",
       "NLD         191\n",
       "DNK         191\n",
       "           ... \n",
       "OWID_SRM     56\n",
       "OWID_CZS     44\n",
       "OWID_AUH     40\n",
       "OWID_GFR     40\n",
       "OWID_CIS      9\n",
       "Name: count, Length: 243, dtype: int64"
      ]
     },
     "execution_count": 43,
     "metadata": {},
     "output_type": "execute_result"
    }
   ],
   "source": [
    "nb_countries_serie = silver_dataset.Code.value_counts()\n",
    "nb_countries_serie "
   ]
  },
  {
   "cell_type": "markdown",
   "id": "b01af1bb",
   "metadata": {},
   "source": [
    "Then we convert all the name of different countries to a list "
   ]
  },
  {
   "cell_type": "code",
   "execution_count": 44,
   "id": "a0ac6808",
   "metadata": {},
   "outputs": [],
   "source": [
    "list_diff_countries = nb_countries_serie.index.tolist()"
   ]
  },
  {
   "cell_type": "markdown",
   "id": "7de0c868",
   "metadata": {},
   "source": [
    "#  <u> 4th step : Reducing the number of NaN values \n",
    "\n"
   ]
  },
  {
   "cell_type": "markdown",
   "id": "c3069839",
   "metadata": {},
   "source": [
    "##  <u>  First to reduce the missing data we do a linear interpolation\n",
    "\n",
    "Linear interpolation is a method useful for curve fitting using linear polynomials.  \n",
    "It helps in building new data points within the range of a discrete set of already known data points.   \n",
    "Therefore, the Linear interpolation is the simplest method for estimating a channel from the vector of the given channel's estimates."
   ]
  },
  {
   "cell_type": "code",
   "execution_count": 18,
   "id": "d939c1c9",
   "metadata": {},
   "outputs": [
    {
     "data": {
      "text/plain": [
       "51201"
      ]
     },
     "execution_count": 18,
     "metadata": {},
     "output_type": "execute_result"
    }
   ],
   "source": [
    "df = silver_dataset\n",
    "\n",
    "# we take the first country of the list \n",
    "dat=df.loc[df.loc[:, 'Code'] == list_diff_countries[0]]\n",
    "\n",
    "# we call the interpolate function\n",
    "datc=dat.interpolate(method=\"linear\")\n",
    "data=datc\n",
    "\n",
    "#Then we do that for the rest of teh countries \n",
    "for i in range(1,len(list_diff_countries)):\n",
    "    dat=df.loc[df.loc[:, 'Code'] == list_diff_countries[i]]\n",
    "    datc=dat.interpolate(method=\"linear\")\n",
    "    \n",
    "    # and we concatenate the new data with the previous data interpolated\n",
    "    data=pd.concat((data, datc), axis = 0)\n",
    "    \n",
    "#Finally we calculate the number of NaN values     \n",
    "data.isna().sum().sum()"
   ]
  },
  {
   "cell_type": "markdown",
   "id": "8a007492",
   "metadata": {},
   "source": [
    "We can now plot the values of fertility for afghanistan before using the method, and then plot on the same chart the values of the fertility for afghanistan after using the method to see which point have been add."
   ]
  },
  {
   "cell_type": "code",
   "execution_count": 26,
   "id": "fd008783",
   "metadata": {},
   "outputs": [
    {
     "data": {
      "image/png": "[encoded data removed]",
      "text/plain": [
       "<Figure size 640x480 with 1 Axes>"
      ]
     },
     "metadata": {},
     "output_type": "display_data"
    }
   ],
   "source": [
    "# We first reduce the dataset before removing outliers to keep only one country et one indicator\n",
    "df = data[data.Code == 'AFG']\n",
    "\n",
    "#we plot the values of fertility for each year for Afghanistan with outliers\n",
    "plt.scatter(df['Year'], df['GDP '], color='blue', label='After filling')\n",
    "\n",
    "# We first reduce the dataset before removing outliers to keep only one country et one indicator\n",
    "df = silver_dataset[silver_dataset.Code == 'AFG']\n",
    "\n",
    "#we plot the values of fertility for each year for Afghanistan with outliers\n",
    "plt.scatter(df['Year'], df['GDP '], color='purple',label='Before filling')\n",
    "\n",
    "# we define the title and the labels of the axis \n",
    "plt.title('Linear interpolation : fertility of afghanistan')\n",
    "plt.xlabel('Years')\n",
    "plt.ylabel('Fertility')\n",
    "\n",
    "plt.legend()\n",
    "plt.show()"
   ]
  },
  {
   "cell_type": "markdown",
   "id": "bbcaec18",
   "metadata": {},
   "source": [
    "We can observe that it reduces a lot the number of missing datas\n",
    "\n",
    "##  <u>  Then we do the backward filling\n",
    "\n",
    "We can use backward filling for gaps that have no beginning or begin before our date range.\n",
    "\n",
    "It means Filling the previous cell with future values"
   ]
  },
  {
   "cell_type": "code",
   "execution_count": 28,
   "id": "22a87f14",
   "metadata": {},
   "outputs": [
    {
     "data": {
      "text/plain": [
       "23870"
      ]
     },
     "execution_count": 28,
     "metadata": {},
     "output_type": "execute_result"
    }
   ],
   "source": [
    "df = silver_dataset\n",
    "\n",
    "dat=df.loc[df.loc[:, 'Code'] == list_diff_countries[0]]\n",
    "\n",
    "#We call the backward filling method\n",
    "datc=dat.fillna(method='bfill')\n",
    "data=datc\n",
    "\n",
    "for i in range(1,len(list_diff_countries)):\n",
    "    dat=df.loc[df.loc[:, 'Code'] == list_diff_countries[i]]\n",
    "    datc=dat.fillna(method='bfill')\n",
    "    \n",
    "    data=pd.concat((data, datc), axis = 0)\n",
    "    \n",
    "    \n",
    "data.isna().sum().sum()"
   ]
  },
  {
   "cell_type": "markdown",
   "id": "a8e294bf",
   "metadata": {},
   "source": [
    "We can now plot the values of fertility for afghanistan before using the method, and then plot on the same chart the values of the fertility for afghanistan after using the method to see which point have been add."
   ]
  },
  {
   "cell_type": "code",
   "execution_count": 30,
   "id": "31f40eaf",
   "metadata": {},
   "outputs": [
    {
     "data": {
      "image/png": "[encoded data removed]",
      "text/plain": [
       "<Figure size 640x480 with 1 Axes>"
      ]
     },
     "metadata": {},
     "output_type": "display_data"
    }
   ],
   "source": [
    "# We first reduce the dataset before removing outliers to keep only one country et one indicator\n",
    "df = data[data.Code == 'AFG']\n",
    "\n",
    "#we plot the values of fertility for each year for Afghanistan with outliers\n",
    "plt.scatter(df['Year'], df['GDP '], color='blue', label='After filling')\n",
    "\n",
    "# We first reduce the dataset before removing outliers to keep only one country et one indicator\n",
    "df = silver_dataset[silver_dataset.Code == 'AFG']\n",
    "\n",
    "#we plot the values of fertility for each year for Afghanistan with outliers\n",
    "plt.scatter(df['Year'], df['GDP '], color='purple',label='Before filling')\n",
    "\n",
    "# we define the title and the labels of the axis \n",
    "plt.title('Backward filling : fertility of afghanistan')\n",
    "plt.xlabel('Years')\n",
    "plt.ylabel('Fertility')\n",
    "\n",
    "plt.legend()\n",
    "plt.show()"
   ]
  },
  {
   "cell_type": "markdown",
   "id": "c1af225a",
   "metadata": {},
   "source": [
    "It is not better , we try an other method ,\n",
    "##  <u>  Then the forward filling\n",
    "\n",
    "We can use forward filling for gaps that have a definitive start date.\n",
    "\n",
    "It consists of padding non-existent values \"forward\", causing existing values to pad non-existent values that follow them.  \n",
    "Forward-filling imputed missing values using the last observed value. \n"
   ]
  },
  {
   "cell_type": "code",
   "execution_count": 31,
   "id": "5239d40e",
   "metadata": {},
   "outputs": [
    {
     "data": {
      "text/plain": [
       "51201"
      ]
     },
     "execution_count": 31,
     "metadata": {},
     "output_type": "execute_result"
    }
   ],
   "source": [
    "df = silver_dataset\n",
    "dat=df.loc[df.loc[:, 'Code'] == list_diff_countries[0]]\n",
    "\n",
    "#We call the forward filling method\n",
    "datc=dat.fillna(method='ffill')\n",
    "data=datc\n",
    "\n",
    "for i in range(1,len(list_diff_countries)):\n",
    "    dat=df.loc[df.loc[:, 'Code'] == list_diff_countries[i]]\n",
    "    datc=dat.fillna(method='ffill')\n",
    "    data=pd.concat((data, datc), axis = 0)\n",
    "data.isna().sum().sum()"
   ]
  },
  {
   "cell_type": "markdown",
   "id": "ff5b14ea",
   "metadata": {},
   "source": [
    "We can now plot the values of fertility for afghanistan before using the method, and then plot on the same chart the values of the fertility for afghanistan after using the method to see which point have been add."
   ]
  },
  {
   "cell_type": "code",
   "execution_count": 32,
   "id": "81247c72",
   "metadata": {},
   "outputs": [
    {
     "data": {
      "image/png": "[encoded data removed]",
      "text/plain": [
       "<Figure size 640x480 with 1 Axes>"
      ]
     },
     "metadata": {},
     "output_type": "display_data"
    }
   ],
   "source": [
    "# We first reduce the dataset before removing outliers to keep only one country et one indicator\n",
    "df = data[data.Code == 'AFG']\n",
    "\n",
    "#we plot the values of fertility for each year for Afghanistan with outliers\n",
    "plt.scatter(df['Year'], df['GDP '], color='blue', label='After filling')\n",
    "\n",
    "# We first reduce the dataset before removing outliers to keep only one country et one indicator\n",
    "df = silver_dataset[silver_dataset.Code == 'AFG']\n",
    "\n",
    "#we plot the values of fertility for each year for Afghanistan with outliers\n",
    "plt.scatter(df['Year'], df['GDP '], color='purple',label='Before filling')\n",
    "\n",
    "# we define the title and the labels of the axis \n",
    "plt.title('Forward filling : fertility of afghanistan')\n",
    "plt.xlabel('Years')\n",
    "plt.ylabel('Fertility')\n",
    "\n",
    "plt.legend()\n",
    "plt.show()"
   ]
  },
  {
   "cell_type": "markdown",
   "id": "c8abcf10",
   "metadata": {},
   "source": [
    "To obtain a better result we gonna mix the methods\n",
    "\n",
    "### First we mix the forward filling and the linear interpolation"
   ]
  },
  {
   "cell_type": "code",
   "execution_count": 33,
   "id": "7597fa56",
   "metadata": {},
   "outputs": [
    {
     "data": {
      "text/plain": [
       "51201"
      ]
     },
     "execution_count": 33,
     "metadata": {},
     "output_type": "execute_result"
    }
   ],
   "source": [
    "df = silver_dataset\n",
    "dat=df.loc[df.loc[:, 'Code'] == list_diff_countries[0]]\n",
    "\n",
    "#linear interpolation method\n",
    "datc=dat.interpolate(method=\"linear\")\n",
    "\n",
    "#then forward filling method\n",
    "datc=datc.fillna(method='ffill')\n",
    "data=datc\n",
    "\n",
    "for i in range(1,len(list_diff_countries)):\n",
    "    dat=df.loc[df.loc[:, 'Code'] == list_diff_countries[i]]\n",
    "    \n",
    "    datc=dat.interpolate(method=\"linear\")\n",
    "    datc=datc.fillna(method='ffill')\n",
    "    \n",
    "    data=pd.concat((data, datc), axis = 0)\n",
    "data.isna().sum().sum()"
   ]
  },
  {
   "cell_type": "markdown",
   "id": "62bff4ab",
   "metadata": {},
   "source": [
    "It is not perfect \n",
    "### Then we mix the backward filling and the linear interpolation"
   ]
  },
  {
   "cell_type": "code",
   "execution_count": 34,
   "id": "f7e1b8d7",
   "metadata": {},
   "outputs": [
    {
     "data": {
      "text/plain": [
       "18622"
      ]
     },
     "execution_count": 34,
     "metadata": {},
     "output_type": "execute_result"
    }
   ],
   "source": [
    "df = silver_dataset\n",
    "dat=df.loc[df.loc[:, 'Code'] == list_diff_countries[0]]\n",
    "\n",
    "#linear interpolation method\n",
    "datc=dat.interpolate(method=\"linear\")\n",
    "\n",
    "#then forward filling method\n",
    "datc=datc.fillna(method='bfill')\n",
    "data=datc\n",
    "\n",
    "for i in range(1,len(list_diff_countries)):\n",
    "    dat=df.loc[df.loc[:, 'Code'] == list_diff_countries[i]]\n",
    "    \n",
    "    datc=dat.interpolate(method=\"linear\")\n",
    "    datc=datc.fillna(method='bfill')\n",
    "    data=pd.concat((data, datc), axis = 0)\n",
    "data.isna().sum().sum()"
   ]
  },
  {
   "cell_type": "markdown",
   "id": "001a1be6",
   "metadata": {},
   "source": [
    "It is perfect , but we can also\n",
    "###  <u>  Mix the three methods"
   ]
  },
  {
   "cell_type": "code",
   "execution_count": 35,
   "id": "83e7f6b7",
   "metadata": {},
   "outputs": [
    {
     "data": {
      "text/plain": [
       "18622"
      ]
     },
     "execution_count": 35,
     "metadata": {},
     "output_type": "execute_result"
    }
   ],
   "source": [
    "df = silver_dataset\n",
    "dat=df.loc[df.loc[:, 'Code'] == list_diff_countries[0]]\n",
    "\n",
    "#linear interpollation method\n",
    "datc=dat.interpolate(method=\"linear\")\n",
    "\n",
    "#backward filling method\n",
    "datf=datc.fillna(method='bfill')\n",
    "\n",
    "#forward filling method\n",
    "datr=datf.fillna(method='ffill')\n",
    "data=datr\n",
    "\n",
    "for i in range(1,len(list_diff_countries)):\n",
    "    dat=df.loc[df.loc[:, 'Code'] == list_diff_countries[i]]\n",
    "    datc=dat.interpolate(method=\"linear\")\n",
    "    datc=datc.fillna(method='bfill')\n",
    "    datc=datc.fillna(method='ffill')\n",
    "    data=pd.concat((data, datc), axis = 0)\n",
    "data.isna().sum().sum()"
   ]
  },
  {
   "cell_type": "markdown",
   "id": "d031f06c",
   "metadata": {},
   "source": [
    "We can now plot the values of fertility for afghanistan before using the method, and then plot on the same chart the values of the fertility for afghanistan after using the method to see which point have been add."
   ]
  },
  {
   "cell_type": "code",
   "execution_count": 38,
   "id": "3d529219",
   "metadata": {},
   "outputs": [
    {
     "data": {
      "image/png": "[encoded data removed]",
      "text/plain": [
       "<Figure size 640x480 with 1 Axes>"
      ]
     },
     "metadata": {},
     "output_type": "display_data"
    }
   ],
   "source": [
    "# We first reduce the dataset before removing outliers to keep only one country et one indicator\n",
    "df = data[data.Code == 'AFG']\n",
    "\n",
    "#we plot the values of fertility for each year for Afghanistan with outliers\n",
    "plt.scatter(df['Year'], df['GDP '], color='blue', label='After filling')\n",
    "\n",
    "# We first reduce the dataset before removing outliers to keep only one country et one indicator\n",
    "df = silver_dataset[silver_dataset.Code == 'AFG']\n",
    "\n",
    "#we plot the values of fertility for each year for Afghanistan with outliers\n",
    "plt.scatter(df['Year'], df['GDP '], color='purple',label='Before filling')\n",
    "\n",
    "# we define the title and the labels of the axis \n",
    "plt.title('Three methods : fertility of afghanistan')\n",
    "plt.xlabel('Years')\n",
    "plt.ylabel('Fertility')\n",
    "\n",
    "plt.legend()\n",
    "plt.show()"
   ]
  },
  {
   "cell_type": "code",
   "execution_count": 36,
   "id": "015b3273",
   "metadata": {},
   "outputs": [
    {
     "data": {
      "text/html": [
       "<div>\n",
       "<style scoped>\n",
       "    .dataframe tbody tr th:only-of-type {\n",
       "        vertical-align: middle;\n",
       "    }\n",
       "\n",
       "    .dataframe tbody tr th {\n",
       "        vertical-align: top;\n",
       "    }\n",
       "\n",
       "    .dataframe thead th {\n",
       "        text-align: right;\n",
       "    }\n",
       "</style>\n",
       "<table border=\"1\" class=\"dataframe\">\n",
       "  <thead>\n",
       "    <tr style=\"text-align: right;\">\n",
       "      <th></th>\n",
       "      <th>Code</th>\n",
       "      <th>Year</th>\n",
       "      <th>Deaths</th>\n",
       "      <th>Fertility</th>\n",
       "      <th>GDP</th>\n",
       "      <th>GenderInequality</th>\n",
       "      <th>LifeExpectancy</th>\n",
       "      <th>tertiary_education</th>\n",
       "    </tr>\n",
       "  </thead>\n",
       "  <tbody>\n",
       "    <tr>\n",
       "      <th>14098</th>\n",
       "      <td>NOR</td>\n",
       "      <td>1831</td>\n",
       "      <td>0.000114</td>\n",
       "      <td>0.217868</td>\n",
       "      <td>5.892337e-07</td>\n",
       "      <td>0.147095</td>\n",
       "      <td>0.483624</td>\n",
       "      <td>0.096871</td>\n",
       "    </tr>\n",
       "    <tr>\n",
       "      <th>14099</th>\n",
       "      <td>NOR</td>\n",
       "      <td>1832</td>\n",
       "      <td>0.000114</td>\n",
       "      <td>0.217868</td>\n",
       "      <td>5.182407e-07</td>\n",
       "      <td>0.147095</td>\n",
       "      <td>0.483624</td>\n",
       "      <td>0.096871</td>\n",
       "    </tr>\n",
       "    <tr>\n",
       "      <th>14100</th>\n",
       "      <td>NOR</td>\n",
       "      <td>1833</td>\n",
       "      <td>0.000114</td>\n",
       "      <td>0.217868</td>\n",
       "      <td>5.602877e-07</td>\n",
       "      <td>0.147095</td>\n",
       "      <td>0.483624</td>\n",
       "      <td>0.096871</td>\n",
       "    </tr>\n",
       "    <tr>\n",
       "      <th>14101</th>\n",
       "      <td>NOR</td>\n",
       "      <td>1834</td>\n",
       "      <td>0.000114</td>\n",
       "      <td>0.217868</td>\n",
       "      <td>6.143394e-07</td>\n",
       "      <td>0.147095</td>\n",
       "      <td>0.483624</td>\n",
       "      <td>0.096871</td>\n",
       "    </tr>\n",
       "    <tr>\n",
       "      <th>14102</th>\n",
       "      <td>NOR</td>\n",
       "      <td>1835</td>\n",
       "      <td>0.000114</td>\n",
       "      <td>0.217868</td>\n",
       "      <td>6.790523e-07</td>\n",
       "      <td>0.147095</td>\n",
       "      <td>0.483624</td>\n",
       "      <td>0.096871</td>\n",
       "    </tr>\n",
       "    <tr>\n",
       "      <th>...</th>\n",
       "      <td>...</td>\n",
       "      <td>...</td>\n",
       "      <td>...</td>\n",
       "      <td>...</td>\n",
       "      <td>...</td>\n",
       "      <td>...</td>\n",
       "      <td>...</td>\n",
       "      <td>...</td>\n",
       "    </tr>\n",
       "    <tr>\n",
       "      <th>14701</th>\n",
       "      <td>OWID_CIS</td>\n",
       "      <td>2002</td>\n",
       "      <td>NaN</td>\n",
       "      <td>NaN</td>\n",
       "      <td>4.169948e-04</td>\n",
       "      <td>NaN</td>\n",
       "      <td>NaN</td>\n",
       "      <td>NaN</td>\n",
       "    </tr>\n",
       "    <tr>\n",
       "      <th>14702</th>\n",
       "      <td>OWID_CIS</td>\n",
       "      <td>2003</td>\n",
       "      <td>NaN</td>\n",
       "      <td>NaN</td>\n",
       "      <td>4.211831e-04</td>\n",
       "      <td>NaN</td>\n",
       "      <td>NaN</td>\n",
       "      <td>NaN</td>\n",
       "    </tr>\n",
       "    <tr>\n",
       "      <th>14703</th>\n",
       "      <td>OWID_CIS</td>\n",
       "      <td>2004</td>\n",
       "      <td>NaN</td>\n",
       "      <td>NaN</td>\n",
       "      <td>4.381676e-04</td>\n",
       "      <td>NaN</td>\n",
       "      <td>NaN</td>\n",
       "      <td>NaN</td>\n",
       "    </tr>\n",
       "    <tr>\n",
       "      <th>14704</th>\n",
       "      <td>OWID_CIS</td>\n",
       "      <td>2005</td>\n",
       "      <td>NaN</td>\n",
       "      <td>NaN</td>\n",
       "      <td>4.553510e-04</td>\n",
       "      <td>NaN</td>\n",
       "      <td>NaN</td>\n",
       "      <td>NaN</td>\n",
       "    </tr>\n",
       "    <tr>\n",
       "      <th>14705</th>\n",
       "      <td>OWID_CIS</td>\n",
       "      <td>2006</td>\n",
       "      <td>NaN</td>\n",
       "      <td>NaN</td>\n",
       "      <td>4.932439e-04</td>\n",
       "      <td>NaN</td>\n",
       "      <td>NaN</td>\n",
       "      <td>NaN</td>\n",
       "    </tr>\n",
       "  </tbody>\n",
       "</table>\n",
       "<p>20905 rows × 8 columns</p>\n",
       "</div>"
      ],
      "text/plain": [
       "           Code  Year    Deaths  Fertility          GDP   GenderInequality  \\\n",
       "14098       NOR  1831  0.000114   0.217868  5.892337e-07          0.147095   \n",
       "14099       NOR  1832  0.000114   0.217868  5.182407e-07          0.147095   \n",
       "14100       NOR  1833  0.000114   0.217868  5.602877e-07          0.147095   \n",
       "14101       NOR  1834  0.000114   0.217868  6.143394e-07          0.147095   \n",
       "14102       NOR  1835  0.000114   0.217868  6.790523e-07          0.147095   \n",
       "...         ...   ...       ...        ...           ...               ...   \n",
       "14701  OWID_CIS  2002       NaN        NaN  4.169948e-04               NaN   \n",
       "14702  OWID_CIS  2003       NaN        NaN  4.211831e-04               NaN   \n",
       "14703  OWID_CIS  2004       NaN        NaN  4.381676e-04               NaN   \n",
       "14704  OWID_CIS  2005       NaN        NaN  4.553510e-04               NaN   \n",
       "14705  OWID_CIS  2006       NaN        NaN  4.932439e-04               NaN   \n",
       "\n",
       "       LifeExpectancy  tertiary_education  \n",
       "14098        0.483624            0.096871  \n",
       "14099        0.483624            0.096871  \n",
       "14100        0.483624            0.096871  \n",
       "14101        0.483624            0.096871  \n",
       "14102        0.483624            0.096871  \n",
       "...               ...                 ...  \n",
       "14701             NaN                 NaN  \n",
       "14702             NaN                 NaN  \n",
       "14703             NaN                 NaN  \n",
       "14704             NaN                 NaN  \n",
       "14705             NaN                 NaN  \n",
       "\n",
       "[20905 rows x 8 columns]"
      ]
     },
     "execution_count": 36,
     "metadata": {},
     "output_type": "execute_result"
    }
   ],
   "source": [
    "data"
   ]
  },
  {
   "cell_type": "markdown",
   "id": "22d13f39",
   "metadata": {},
   "source": [
    "We do  reset the index and rename a column"
   ]
  },
  {
   "cell_type": "code",
   "execution_count": 30,
   "id": "e50835f8",
   "metadata": {},
   "outputs": [
    {
     "data": {
      "text/html": [
       "<div>\n",
       "<style scoped>\n",
       "    .dataframe tbody tr th:only-of-type {\n",
       "        vertical-align: middle;\n",
       "    }\n",
       "\n",
       "    .dataframe tbody tr th {\n",
       "        vertical-align: top;\n",
       "    }\n",
       "\n",
       "    .dataframe thead th {\n",
       "        text-align: right;\n",
       "    }\n",
       "</style>\n",
       "<table border=\"1\" class=\"dataframe\">\n",
       "  <thead>\n",
       "    <tr style=\"text-align: right;\">\n",
       "      <th></th>\n",
       "      <th>Unnamed</th>\n",
       "      <th>Code</th>\n",
       "      <th>Year</th>\n",
       "      <th>Deaths</th>\n",
       "      <th>Fertility</th>\n",
       "      <th>GDP</th>\n",
       "      <th>GenderInequality</th>\n",
       "      <th>LifeExpectancy</th>\n",
       "      <th>tertiary_education</th>\n",
       "    </tr>\n",
       "  </thead>\n",
       "  <tbody>\n",
       "    <tr>\n",
       "      <th>0</th>\n",
       "      <td>14098</td>\n",
       "      <td>NOR</td>\n",
       "      <td>1831</td>\n",
       "      <td>0.000114</td>\n",
       "      <td>0.217868</td>\n",
       "      <td>5.892337e-07</td>\n",
       "      <td>0.147095</td>\n",
       "      <td>0.483624</td>\n",
       "      <td>0.096871</td>\n",
       "    </tr>\n",
       "    <tr>\n",
       "      <th>1</th>\n",
       "      <td>14099</td>\n",
       "      <td>NOR</td>\n",
       "      <td>1832</td>\n",
       "      <td>0.000114</td>\n",
       "      <td>0.217868</td>\n",
       "      <td>5.182407e-07</td>\n",
       "      <td>0.147095</td>\n",
       "      <td>0.483624</td>\n",
       "      <td>0.096871</td>\n",
       "    </tr>\n",
       "    <tr>\n",
       "      <th>2</th>\n",
       "      <td>14100</td>\n",
       "      <td>NOR</td>\n",
       "      <td>1833</td>\n",
       "      <td>0.000114</td>\n",
       "      <td>0.217868</td>\n",
       "      <td>5.602877e-07</td>\n",
       "      <td>0.147095</td>\n",
       "      <td>0.483624</td>\n",
       "      <td>0.096871</td>\n",
       "    </tr>\n",
       "    <tr>\n",
       "      <th>3</th>\n",
       "      <td>14101</td>\n",
       "      <td>NOR</td>\n",
       "      <td>1834</td>\n",
       "      <td>0.000114</td>\n",
       "      <td>0.217868</td>\n",
       "      <td>6.143394e-07</td>\n",
       "      <td>0.147095</td>\n",
       "      <td>0.483624</td>\n",
       "      <td>0.096871</td>\n",
       "    </tr>\n",
       "    <tr>\n",
       "      <th>4</th>\n",
       "      <td>14102</td>\n",
       "      <td>NOR</td>\n",
       "      <td>1835</td>\n",
       "      <td>0.000114</td>\n",
       "      <td>0.217868</td>\n",
       "      <td>6.790523e-07</td>\n",
       "      <td>0.147095</td>\n",
       "      <td>0.483624</td>\n",
       "      <td>0.096871</td>\n",
       "    </tr>\n",
       "    <tr>\n",
       "      <th>...</th>\n",
       "      <td>...</td>\n",
       "      <td>...</td>\n",
       "      <td>...</td>\n",
       "      <td>...</td>\n",
       "      <td>...</td>\n",
       "      <td>...</td>\n",
       "      <td>...</td>\n",
       "      <td>...</td>\n",
       "      <td>...</td>\n",
       "    </tr>\n",
       "    <tr>\n",
       "      <th>20900</th>\n",
       "      <td>14701</td>\n",
       "      <td>OWID_CIS</td>\n",
       "      <td>2002</td>\n",
       "      <td>NaN</td>\n",
       "      <td>NaN</td>\n",
       "      <td>4.169948e-04</td>\n",
       "      <td>NaN</td>\n",
       "      <td>NaN</td>\n",
       "      <td>NaN</td>\n",
       "    </tr>\n",
       "    <tr>\n",
       "      <th>20901</th>\n",
       "      <td>14702</td>\n",
       "      <td>OWID_CIS</td>\n",
       "      <td>2003</td>\n",
       "      <td>NaN</td>\n",
       "      <td>NaN</td>\n",
       "      <td>4.211831e-04</td>\n",
       "      <td>NaN</td>\n",
       "      <td>NaN</td>\n",
       "      <td>NaN</td>\n",
       "    </tr>\n",
       "    <tr>\n",
       "      <th>20902</th>\n",
       "      <td>14703</td>\n",
       "      <td>OWID_CIS</td>\n",
       "      <td>2004</td>\n",
       "      <td>NaN</td>\n",
       "      <td>NaN</td>\n",
       "      <td>4.381676e-04</td>\n",
       "      <td>NaN</td>\n",
       "      <td>NaN</td>\n",
       "      <td>NaN</td>\n",
       "    </tr>\n",
       "    <tr>\n",
       "      <th>20903</th>\n",
       "      <td>14704</td>\n",
       "      <td>OWID_CIS</td>\n",
       "      <td>2005</td>\n",
       "      <td>NaN</td>\n",
       "      <td>NaN</td>\n",
       "      <td>4.553510e-04</td>\n",
       "      <td>NaN</td>\n",
       "      <td>NaN</td>\n",
       "      <td>NaN</td>\n",
       "    </tr>\n",
       "    <tr>\n",
       "      <th>20904</th>\n",
       "      <td>14705</td>\n",
       "      <td>OWID_CIS</td>\n",
       "      <td>2006</td>\n",
       "      <td>NaN</td>\n",
       "      <td>NaN</td>\n",
       "      <td>4.932439e-04</td>\n",
       "      <td>NaN</td>\n",
       "      <td>NaN</td>\n",
       "      <td>NaN</td>\n",
       "    </tr>\n",
       "  </tbody>\n",
       "</table>\n",
       "<p>20905 rows × 9 columns</p>\n",
       "</div>"
      ],
      "text/plain": [
       "       Unnamed      Code  Year    Deaths  Fertility          GDP   \\\n",
       "0        14098       NOR  1831  0.000114   0.217868  5.892337e-07   \n",
       "1        14099       NOR  1832  0.000114   0.217868  5.182407e-07   \n",
       "2        14100       NOR  1833  0.000114   0.217868  5.602877e-07   \n",
       "3        14101       NOR  1834  0.000114   0.217868  6.143394e-07   \n",
       "4        14102       NOR  1835  0.000114   0.217868  6.790523e-07   \n",
       "...        ...       ...   ...       ...        ...           ...   \n",
       "20900    14701  OWID_CIS  2002       NaN        NaN  4.169948e-04   \n",
       "20901    14702  OWID_CIS  2003       NaN        NaN  4.211831e-04   \n",
       "20902    14703  OWID_CIS  2004       NaN        NaN  4.381676e-04   \n",
       "20903    14704  OWID_CIS  2005       NaN        NaN  4.553510e-04   \n",
       "20904    14705  OWID_CIS  2006       NaN        NaN  4.932439e-04   \n",
       "\n",
       "       GenderInequality  LifeExpectancy  tertiary_education  \n",
       "0              0.147095        0.483624            0.096871  \n",
       "1              0.147095        0.483624            0.096871  \n",
       "2              0.147095        0.483624            0.096871  \n",
       "3              0.147095        0.483624            0.096871  \n",
       "4              0.147095        0.483624            0.096871  \n",
       "...                 ...             ...                 ...  \n",
       "20900               NaN             NaN                 NaN  \n",
       "20901               NaN             NaN                 NaN  \n",
       "20902               NaN             NaN                 NaN  \n",
       "20903               NaN             NaN                 NaN  \n",
       "20904               NaN             NaN                 NaN  \n",
       "\n",
       "[20905 rows x 9 columns]"
      ]
     },
     "execution_count": 30,
     "metadata": {},
     "output_type": "execute_result"
    }
   ],
   "source": [
    "new_data=data.reset_index()\n",
    "new_data.columns.names = ['']\n",
    "new_data.rename(columns = {'index':'Unnamed'}, inplace = True)\n",
    "new_data"
   ]
  },
  {
   "cell_type": "markdown",
   "id": "fc95dd77",
   "metadata": {},
   "source": [
    "we create the without clustering golden dataframe "
   ]
  },
  {
   "cell_type": "code",
   "execution_count": 31,
   "id": "4102cd43",
   "metadata": {},
   "outputs": [],
   "source": [
    "new_data.to_csv('./data/GoldenDataFrameWithoutCluster.csv')"
   ]
  },
  {
   "cell_type": "markdown",
   "id": "66ca2927",
   "metadata": {},
   "source": [
    "# <u> Step : Final visualization "
   ]
  },
  {
   "cell_type": "markdown",
   "id": "b0bb713c",
   "metadata": {},
   "source": [
    "Finally, we plot the final charts before and after filling missing values"
   ]
  },
  {
   "cell_type": "code",
   "execution_count": 45,
   "id": "795c5100",
   "metadata": {},
   "outputs": [
    {
     "data": {
      "image/png": "[encoded data removed]",
      "text/plain": [
       "<Figure size 640x480 with 1 Axes>"
      ]
     },
     "metadata": {},
     "output_type": "display_data"
    }
   ],
   "source": [
    "# We first reduce the dataset before removing outliers to keep only one country et one indicator\n",
    "df = silver_dataset[silver_dataset.Code == 'AFG']\n",
    "\n",
    "#we plot the values of fertility for each year for Afghanistan with outliers\n",
    "plt.scatter(df['Year'], df['GDP '], color='purple',label='Before filling')\n",
    "\n",
    "# we define the title and the labels of the axis \n",
    "plt.title('Fertility of afghanistan')\n",
    "plt.xlabel('Years')\n",
    "plt.ylabel('Fertility')\n",
    "\n",
    "plt.legend()\n",
    "plt.show()"
   ]
  },
  {
   "cell_type": "code",
   "execution_count": 46,
   "id": "fdb33e82",
   "metadata": {},
   "outputs": [
    {
     "data": {
      "image/png": "[encoded data removed]",
      "text/plain": [
       "<Figure size 640x480 with 1 Axes>"
      ]
     },
     "metadata": {},
     "output_type": "display_data"
    }
   ],
   "source": [
    "# We first reduce the dataset before removing outliers to keep only one country et one indicator\n",
    "df = data[data.Code == 'AFG']\n",
    "\n",
    "#we plot the values of fertility for each year for Afghanistan with outliers\n",
    "plt.scatter(df['Year'], df['GDP '], color='blue', label='After filling')\n",
    "\n",
    "# we define the title and the labels of the axis \n",
    "plt.title('Fertility of afghanistan')\n",
    "plt.xlabel('Years')\n",
    "plt.ylabel('Fertility')\n",
    "\n",
    "plt.legend()\n",
    "plt.show()"
   ]
  },
  {
   "cell_type": "code",
   "execution_count": null,
   "id": "513caf3f",
   "metadata": {},
   "outputs": [],
   "source": []
  },
  {
   "cell_type": "code",
   "execution_count": null,
   "id": "4108c626",
   "metadata": {},
   "outputs": [],
   "source": []
  },
  {
   "cell_type": "code",
   "execution_count": null,
   "id": "f5b2d69a",
   "metadata": {},
   "outputs": [],
   "source": []
  }
 ],
 "metadata": {
  "kernelspec": {
   "display_name": "Python 3 (ipykernel)",
   "language": "python",
   "name": "python3"
  },
  "language_info": {
   "codemirror_mode": {
    "name": "ipython",
    "version": 3
   },
   "file_extension": ".py",
   "mimetype": "text/x-python",
   "name": "python",
   "nbconvert_exporter": "python",
   "pygments_lexer": "ipython3",
   "version": "3.11.4"
  }
 },
 "nbformat": 4,
 "nbformat_minor": 5
}
